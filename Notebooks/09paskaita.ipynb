{
 "cells": [
  {
   "cell_type": "code",
   "execution_count": null,
   "metadata": {},
   "outputs": [],
   "source": [
    "# Parašyti funkciją, kuri patikrintų, ar duotas tekstas \n",
    "# yra palindromas (palindròmas (gr. palindromos – sugrįžtantis), žodis, \n",
    "# žodžių grupė, sakinys, posakis ar eilėraštis, \n",
    "# kuris skaitomas iš galo reiškia tą patį arba bent yra prasmingas.)\n",
    "#  sula - alus, ėmė, savas, sėdėk užu kėdės, level, Hanah.\n",
    "# Ignoruoti raidžių registrą.\n",
    "# Turi veikti ir su skaičiais (pvz 12321, 666, 85258, etc.)\n",
    "# Vieno skaitmens skaičiai neturi būti laikomi palindromais.\n",
    "# Minuso ženklą - kaip sugalvosite. Mokėti pagrįsti savo sprendimą."
   ]
  },
  {
   "cell_type": "code",
   "execution_count": 7,
   "metadata": {},
   "outputs": [
    {
     "data": {
      "text/plain": [
       "False"
      ]
     },
     "execution_count": 7,
     "metadata": {},
     "output_type": "execute_result"
    }
   ],
   "source": [
    "def is_pal(x):\n",
    "    r = str(x).lower().replace('-','')\n",
    "    p = r == r[::-1] if len(r) > 1 else False\n",
    "    return p\n",
    "\n",
    "is_pal('Hanahf')\n"
   ]
  },
  {
   "cell_type": "code",
   "execution_count": null,
   "metadata": {},
   "outputs": [],
   "source": [
    "# parašyti funkciją, kuri suskaičiuotų pateiktų skaičių aritmetinį vidurkį.\n",
    "# Skaičiai pateikiami per *args\n",
    "# skaičiai gali būti kaip tekstai: '1', '2', '3.45280'\n",
    "# jei bent vieno skaičiaus nesugebėjo konvertuoti: turi grąžinti tekstą '0f'\n",
    "# vidurkį pateikti visada 4rių ženklų tikslumu"
   ]
  },
  {
   "cell_type": "code",
   "execution_count": 13,
   "metadata": {},
   "outputs": [
    {
     "data": {
      "text/plain": [
       "'0f'"
      ]
     },
     "execution_count": 13,
     "metadata": {},
     "output_type": "execute_result"
    }
   ],
   "source": [
    "def avg(*args):\n",
    "    s = '0f'\n",
    "    try:\n",
    "        f = [float(i) for i in args]\n",
    "        s = round(sum(f)/len(f), 4)\n",
    "    except:\n",
    "        s = '0f'\n",
    "    return s\n",
    "\n",
    "avg()"
   ]
  },
  {
   "cell_type": "code",
   "execution_count": 2,
   "metadata": {},
   "outputs": [],
   "source": [
    "import os"
   ]
  },
  {
   "cell_type": "code",
   "execution_count": 3,
   "metadata": {},
   "outputs": [
    {
     "name": "stdout",
     "output_type": "stream",
     "text": [
      "/home/egis/VisualCodeProjects/DataScienceNotebooks/Notebooks\n"
     ]
    }
   ],
   "source": [
    "print(os.getcwd())"
   ]
  },
  {
   "cell_type": "code",
   "execution_count": 4,
   "metadata": {},
   "outputs": [
    {
     "name": "stdout",
     "output_type": "stream",
     "text": [
      "['Uzduotys 5.1.ipynb', 'delfi.txt', 'F1.txt', 'F3.txt', '05paskaita.ipynb', 'renamed.txt', '03paskaita.ipynb', '09paskaita.ipynb', '06paskaita.ipynb', '04paskaita.ipynb', 'pykodas.py', 'ats.txt', 'Skaityk.txt', 't.txt', '07paskaita.ipynb', '01Paskaita.ipynb', '02paskaita.ipynb', 'F2.txt', 'atsSk.txt', '08paskaita.ipynb']\n"
     ]
    }
   ],
   "source": [
    "failai = os.listdir()\n",
    "print(failai)"
   ]
  },
  {
   "cell_type": "code",
   "execution_count": 17,
   "metadata": {},
   "outputs": [
    {
     "name": "stdout",
     "output_type": "stream",
     "text": [
      "/home/egis/VisualCodeProjects/DataScienceNotebooks\n"
     ]
    }
   ],
   "source": [
    "os.chdir('..')\n",
    "print(os.getcwd())"
   ]
  },
  {
   "cell_type": "code",
   "execution_count": 18,
   "metadata": {},
   "outputs": [
    {
     "name": "stdout",
     "output_type": "stream",
     "text": [
      "['DATA', 'Notebooks', '.gitignore', '.git', 'Studentai']\n"
     ]
    }
   ],
   "source": [
    "failai = os.listdir()\n",
    "print(failai)"
   ]
  },
  {
   "cell_type": "code",
   "execution_count": 19,
   "metadata": {},
   "outputs": [],
   "source": [
    "os.chdir('Studentai')\n"
   ]
  },
  {
   "cell_type": "code",
   "execution_count": 20,
   "metadata": {},
   "outputs": [
    {
     "name": "stdout",
     "output_type": "stream",
     "text": [
      "/home/egis/VisualCodeProjects/DataScienceNotebooks/Studentai\n"
     ]
    }
   ],
   "source": [
    "print(os.getcwd())"
   ]
  },
  {
   "cell_type": "code",
   "execution_count": 21,
   "metadata": {},
   "outputs": [
    {
     "name": "stdout",
     "output_type": "stream",
     "text": [
      "/home/egis/VisualCodeProjects\n"
     ]
    }
   ],
   "source": [
    "os.chdir('../../')\n",
    "print(os.getcwd())"
   ]
  },
  {
   "cell_type": "code",
   "execution_count": 22,
   "metadata": {},
   "outputs": [
    {
     "name": "stdout",
     "output_type": "stream",
     "text": [
      "/home/egis/VisualCodeProjects/DataScienceNotebooks/Notebooks\n"
     ]
    }
   ],
   "source": [
    "os.chdir('DataScienceNotebooks/Notebooks/')\n",
    "print(os.getcwd())"
   ]
  },
  {
   "cell_type": "code",
   "execution_count": 23,
   "metadata": {},
   "outputs": [
    {
     "name": "stdout",
     "output_type": "stream",
     "text": [
      "['Uzduotys 5.1.ipynb', 'delfi.txt', 'F1.txt', 'F3.txt', '05paskaita.ipynb', '03paskaita.ipynb', '09paskaita.ipynb', '06paskaita.ipynb', '04paskaita.ipynb', 'pykodas.py', 'ats.txt', 'Skaityk.txt', 't.txt', '07paskaita.ipynb', '01Paskaita.ipynb', '02paskaita.ipynb', 'F2.txt', 'atsSk.txt', 'Failai', '08paskaita.ipynb']\n"
     ]
    }
   ],
   "source": [
    "os.mkdir('Failai')\n",
    "failai = os.listdir()\n",
    "print(failai)"
   ]
  },
  {
   "cell_type": "code",
   "execution_count": 24,
   "metadata": {},
   "outputs": [],
   "source": [
    "os.rmdir('Failai')"
   ]
  },
  {
   "cell_type": "code",
   "execution_count": 26,
   "metadata": {},
   "outputs": [
    {
     "name": "stdout",
     "output_type": "stream",
     "text": [
      "['Uzduotys 5.1.ipynb', 'delfi.txt', 'F1.txt', 'F3.txt', '05paskaita.ipynb', 'renamed.txt', '03paskaita.ipynb', '09paskaita.ipynb', '06paskaita.ipynb', '04paskaita.ipynb', 'pykodas.py', 'ats.txt', 'Skaityk.txt', 't.txt', '07paskaita.ipynb', '01Paskaita.ipynb', '02paskaita.ipynb', 'F2.txt', 'atsSk.txt', '08paskaita.ipynb']\n"
     ]
    }
   ],
   "source": [
    "failai = os.listdir()\n",
    "print(failai)"
   ]
  },
  {
   "cell_type": "code",
   "execution_count": 6,
   "metadata": {},
   "outputs": [
    {
     "name": "stdout",
     "output_type": "stream",
     "text": [
      "[]\n"
     ]
    }
   ],
   "source": [
    "import glob\n",
    "txts = glob.glob('*.png')\n",
    "print(txts)"
   ]
  },
  {
   "cell_type": "code",
   "execution_count": null,
   "metadata": {},
   "outputs": [],
   "source": [
    "# Prisikelkite į darbinį aplanką įvairių failų : paveikslėlių,. csv, tekstinių, docx, pdf failų.\n",
    "# Paklauskite vartotojo aplanko pavadinimo\n",
    "# Sukurkite jį, jame sukurkite kitus atlankus, kurių pavadinimai būtų \n",
    "# 'Tekstiniai failai', 'Paveikslėliai', 'Wordai', 'pdfai'\n",
    "# ir tada surūšiuokite savo susirinktus failus į naujojo aplanko atitinkamus subfolderius."
   ]
  },
  {
   "cell_type": "code",
   "execution_count": null,
   "metadata": {},
   "outputs": [],
   "source": [
    "# Jūs turite aplanką DATA su įvairiais failais. parašykite Python kodą, kuris padarytų šio aplanko kopiją,\n",
    "# prie kiekvieno failo pavadinimo pradžios pridėdamas po tekstą \"09p_\""
   ]
  },
  {
   "cell_type": "code",
   "execution_count": null,
   "metadata": {},
   "outputs": [],
   "source": [
    "# Parašykite kodą, kuris ištrintų aplanką, kurio pavadinimą (arba kelią iki jo) \n",
    "# įveda vartotojas.\n",
    "# Kartu parašykite, kiek failų ištrynė jūsų kodas"
   ]
  },
  {
   "cell_type": "code",
   "execution_count": null,
   "metadata": {},
   "outputs": [],
   "source": [
    "# Parašykite kodą, kuris sukurtų jums tekstinį failą, kurio pavadinimą jūs įvedate.\n",
    "# Prieš kurdami, patikrinkite, ar toks failas neegzistuoja.\n",
    "# jei egzistuoa - praneškite, jog 'failas jau yra tokiu pavadinimu'.\n",
    "# "
   ]
  },
  {
   "cell_type": "code",
   "execution_count": 26,
   "metadata": {},
   "outputs": [],
   "source": [
    "# kiek čia buvo vyrų, moterų, koks jų buvo vidutinis amžius, kiek kaltininkų pasišalino?\n",
    "data = [\n",
    "    [{'dalyvisId': 47756477, 'kategorija': 'Automobilio vairuotojas', 'dalyvioTipas': 'Kitas asmuo', 'pasisalino': 'Ne', 'asmuoNezinomas': 'Ne', 'lytis': 'Moteris', 'pilietybe': None, 'amzius': 19, 'neigalumas': 'Ne', 'saugosDirzas': 'Užsegtas', 'vaikoKedesNaudojimas': None, 'saugosSalmoNaudojimas': None, 'oroPagalves': 'Nesuveikė', 'bukle': 'Nenukentėjo', 'detaliBukle': None, 'suzalojimoMastas': None, 'vairuotojoKvalifikacija': 'Atitinka', 'vairavimoStazas': 0, 'busena': 'Blaivus', 'detaliBusena': None, 'papBusena': None, 'detaliPapBusena': None, 'kaltininkas': 'Taip', 'girtumasPromilemis': None, 'dalyvioBusena': 'KALTININKAS', 'teisenosStadijaBusena': 'ADMINISTRACINIS', 'dalyvioKetPazeidimai': ['Kiti Kelių eismo taisyklių pažeidimai'], 'tpId': 32912177}],\n",
    "[{'dalyvisId': 47759080, 'kategorija': 'Automobilio vairuotojas', 'dalyvioTipas': None, 'pasisalino': 'Ne', 'asmuoNezinomas': 'Taip', 'lytis': None, 'pilietybe': None, 'amzius': None, 'neigalumas': None, 'saugosDirzas': None, 'vaikoKedesNaudojimas': None, 'saugosSalmoNaudojimas': None, 'oroPagalves': None, 'bukle': None, 'detaliBukle': None, 'suzalojimoMastas': None, 'vairuotojoKvalifikacija': None, 'vairavimoStazas': None, 'busena': None, 'detaliBusena': None, 'papBusena': None, 'detaliPapBusena': None, 'kaltininkas': 'Ne', 'girtumasPromilemis': None, 'dalyvioBusena': 'NEPAZEIDE', 'teisenosStadijaBusena': None, 'dalyvioKetPazeidimai': [], 'tpId': 32913457}, {'dalyvisId': 47759079, 'kategorija': 'Automobilio vairuotojas', 'dalyvioTipas': 'Kitas asmuo', 'pasisalino': 'Ne', 'asmuoNezinomas': 'Ne', 'lytis': 'Vyras', 'pilietybe': None, 'amzius': 18, 'neigalumas': 'Ne', 'saugosDirzas': 'Užsegtas', 'vaikoKedesNaudojimas': None, 'saugosSalmoNaudojimas': None, 'oroPagalves': 'Nesuveikė', 'bukle': 'Nenukentėjo', 'detaliBukle': None, 'suzalojimoMastas': None, 'vairuotojoKvalifikacija': 'Atitinka', 'vairavimoStazas': 0, 'busena': 'Blaivus', 'detaliBusena': None, 'papBusena': None, 'detaliPapBusena': None, 'kaltininkas': 'Taip', 'girtumasPromilemis': None, 'dalyvioBusena': 'KALTININKAS', 'teisenosStadijaBusena': 'ADMINISTRACINIS', 'dalyvioKetPazeidimai': ['Saugaus atstumo nesilaikymas'], 'tpId': 32913456}],\n",
    "[{'dalyvisId': 47756490, 'kategorija': 'Automobilio vairuotojas', 'dalyvioTipas': 'Kitas asmuo', 'pasisalino': 'Ne', 'asmuoNezinomas': 'Ne', 'lytis': 'Moteris', 'pilietybe': None, 'amzius': 39, 'neigalumas': 'Ne', 'saugosDirzas': 'Užsegtas', 'vaikoKedesNaudojimas': None, 'saugosSalmoNaudojimas': None, 'oroPagalves': 'Nesuveikė', 'bukle': 'Nenukentėjo', 'detaliBukle': None, 'suzalojimoMastas': None, 'vairuotojoKvalifikacija': 'Atitinka', 'vairavimoStazas': 13, 'busena': 'Blaivus', 'detaliBusena': None, 'papBusena': None, 'detaliPapBusena': None, 'kaltininkas': 'Ne', 'girtumasPromilemis': None, 'dalyvioBusena': 'NEPAZEIDE', 'teisenosStadijaBusena': None, 'dalyvioKetPazeidimai': [], 'tpId': 32912184}],\n",
    "[{'dalyvisId': 48447053, 'kategorija': 'Automobilio vairuotojas', 'dalyvioTipas': 'Kitas asmuo', 'pasisalino': 'Ne', 'asmuoNezinomas': 'Ne', 'lytis': 'Moteris', 'pilietybe': None, 'amzius': 48, 'neigalumas': 'Ne', 'saugosDirzas': 'Užsegtas', 'vaikoKedesNaudojimas': None, 'saugosSalmoNaudojimas': None, 'oroPagalves': 'Nesuveikė', 'bukle': 'Nenukentėjo', 'detaliBukle': None, 'suzalojimoMastas': None, 'vairuotojoKvalifikacija': 'Atitinka', 'vairavimoStazas': 25, 'busena': 'Blaivus', 'detaliBusena': None, 'papBusena': None, 'detaliPapBusena': None, 'kaltininkas': 'Taip', 'girtumasPromilemis': None, 'dalyvioBusena': 'KALTININKAS', 'teisenosStadijaBusena': 'ADMINISTRACINIS', 'dalyvioKetPazeidimai': ['Saugaus greičio nepasirinkimas'], 'tpId': 33386413}],\n",
    "[{'dalyvisId': 47756497, 'kategorija': 'Automobilio vairuotojas', 'dalyvioTipas': 'Kitas asmuo', 'pasisalino': 'Taip', 'asmuoNezinomas': 'Ne', 'lytis': 'Vyras', 'pilietybe': None, 'amzius': 31, 'neigalumas': 'Ne', 'saugosDirzas': 'Užsegtas', 'vaikoKedesNaudojimas': None, 'saugosSalmoNaudojimas': None, 'oroPagalves': 'Nesuveikė', 'bukle': 'Nenukentėjo', 'detaliBukle': None, 'suzalojimoMastas': None, 'vairuotojoKvalifikacija': 'Atitinka', 'vairavimoStazas': 5, 'busena': 'Neblaivus', 'detaliBusena': 'Lengvas neblaivumo (girtumo) laipsnis', 'papBusena': None, 'detaliPapBusena': None, 'kaltininkas': 'Taip', 'girtumasPromilemis': 1.48, 'dalyvioBusena': 'KALTININKAS', 'teisenosStadijaBusena': 'ADMINISTRACINIS', 'dalyvioKetPazeidimai': ['Saugaus greičio nepasirinkimas'], 'tpId': 32912187}],\n",
    "[{'dalyvisId': 47759516, 'kategorija': 'Automobilio vairuotojas', 'dalyvioTipas': 'Kitas asmuo', 'pasisalino': 'Ne', 'asmuoNezinomas': 'Ne', 'lytis': 'Vyras', 'pilietybe': None, 'amzius': 18, 'neigalumas': 'Ne', 'saugosDirzas': 'Užsegtas', 'vaikoKedesNaudojimas': None, 'saugosSalmoNaudojimas': None, 'oroPagalves': 'Nesuveikė', 'bukle': 'Nenukentėjo', 'detaliBukle': None, 'suzalojimoMastas': None, 'vairuotojoKvalifikacija': 'Neturi teisės vairuoti', 'vairavimoStazas': 0, 'busena': 'Neblaivus', 'detaliBusena': 'Lengvas neblaivumo (girtumo) laipsnis', 'papBusena': None, 'detaliPapBusena': None, 'kaltininkas': 'Taip', 'girtumasPromilemis': 0.78, 'dalyvioBusena': 'KALTININKAS', 'teisenosStadijaBusena': 'ADMINISTRACINIS', 'dalyvioKetPazeidimai': ['Kiti Kelių eismo taisyklių pažeidimai'], 'tpId': 32913682}],\n",
    "[{'dalyvisId': 47808609, 'kategorija': 'Automobilio vairuotojas', 'dalyvioTipas': 'Kitas asmuo', 'pasisalino': 'Ne', 'asmuoNezinomas': 'Ne', 'lytis': 'Vyras', 'pilietybe': None, 'amzius': 53, 'neigalumas': 'Ne', 'saugosDirzas': 'Užsegtas', 'vaikoKedesNaudojimas': None, 'saugosSalmoNaudojimas': None, 'oroPagalves': 'Neįrengta', 'bukle': 'Sužeistas', 'detaliBukle': 'Gydomas ambulatoriškai', 'suzalojimoMastas': 'Atsisakyta nustatyti sveikatos sutrikdymo mastą', 'vairuotojoKvalifikacija': 'Atitinka', 'vairavimoStazas': 18, 'busena': 'Blaivus', 'detaliBusena': None, 'papBusena': None, 'detaliPapBusena': None, 'kaltininkas': 'Taip', 'girtumasPromilemis': None, 'dalyvioBusena': 'KALTININKAS', 'teisenosStadijaBusena': 'ADMINISTRACINIS', 'dalyvioKetPazeidimai': ['Saugaus greičio nepasirinkimas'], 'tpId': 32939779}, {'dalyvisId': 47808610, 'kategorija': 'Keleivis', 'dalyvioTipas': 'Kitas asmuo', 'pasisalino': 'Ne', 'asmuoNezinomas': 'Ne', 'lytis': 'Vyras', 'pilietybe': None, 'amzius': 34, 'neigalumas': 'Ne', 'saugosDirzas': 'Užsegtas', 'vaikoKedesNaudojimas': None, 'saugosSalmoNaudojimas': None, 'oroPagalves': 'Neįrengta', 'bukle': 'Sužeistas', 'detaliBukle': 'Gydomas ambulatoriškai', 'suzalojimoMastas': 'Nežymus sveikatos sutrikdymas', 'vairuotojoKvalifikacija': None, 'vairavimoStazas': None, 'busena': 'Blaivus', 'detaliBusena': None, 'papBusena': None, 'detaliPapBusena': None, 'kaltininkas': 'Ne', 'girtumasPromilemis': None, 'dalyvioBusena': 'NEPAZEIDE', 'teisenosStadijaBusena': None, 'dalyvioKetPazeidimai': [], 'tpId': 32939779}],\n",
    "[{'dalyvisId': 47756539, 'kategorija': 'Automobilio vairuotojas', 'dalyvioTipas': 'Kitas asmuo', 'pasisalino': 'Ne', 'asmuoNezinomas': 'Ne', 'lytis': 'Vyras', 'pilietybe': None, 'amzius': 27, 'neigalumas': 'Ne', 'saugosDirzas': 'Užsegtas', 'vaikoKedesNaudojimas': None, 'saugosSalmoNaudojimas': None, 'oroPagalves': 'Nesuveikė', 'bukle': 'Nenukentėjo', 'detaliBukle': None, 'suzalojimoMastas': None, 'vairuotojoKvalifikacija': 'Atitinka', 'vairavimoStazas': 0, 'busena': 'Neblaivus', 'detaliBusena': 'Vidutinis neblaivumo (girtumo) laipsnis', 'papBusena': None, 'detaliPapBusena': None, 'kaltininkas': 'Taip', 'girtumasPromilemis': 2, 'dalyvioBusena': 'KALTININKAS', 'teisenosStadijaBusena': 'ADMINISTRACINIS', 'dalyvioKetPazeidimai': ['Saugaus atstumo nesilaikymas'], 'tpId': 32912212}],\n",
    "[{'dalyvisId': 47870990, 'kategorija': 'Automobilio vairuotojas', 'dalyvioTipas': 'Kitas asmuo', 'pasisalino': 'Taip', 'asmuoNezinomas': 'Ne', 'lytis': 'Vyras', 'pilietybe': None, 'amzius': 29, 'neigalumas': 'Ne', 'saugosDirzas': None, 'vaikoKedesNaudojimas': None, 'saugosSalmoNaudojimas': None, 'oroPagalves': None, 'bukle': 'Nenukentėjo', 'detaliBukle': None, 'suzalojimoMastas': None, 'vairuotojoKvalifikacija': 'Atitinka', 'vairavimoStazas': 11, 'busena': 'Blaivus', 'detaliBusena': None, 'papBusena': None, 'detaliPapBusena': None, 'kaltininkas': 'Taip', 'girtumasPromilemis': None, 'dalyvioBusena': 'KALTININKAS', 'teisenosStadijaBusena': 'ADMINISTRACINIS', 'dalyvioKetPazeidimai': ['Saugaus greičio nepasirinkimas'], 'tpId': 32972622}],\n",
    "[{'dalyvisId': 47767352, 'kategorija': 'Automobilio vairuotojas', 'dalyvioTipas': 'Kitas asmuo', 'pasisalino': 'Ne', 'asmuoNezinomas': 'Ne', 'lytis': 'Vyras', 'pilietybe': None, 'amzius': 38, 'neigalumas': 'Ne', 'saugosDirzas': 'Neužsegtas', 'vaikoKedesNaudojimas': None, 'saugosSalmoNaudojimas': None, 'oroPagalves': 'Nesuveikė', 'bukle': 'Nenukentėjo', 'detaliBukle': None, 'suzalojimoMastas': None, 'vairuotojoKvalifikacija': 'Atitinka', 'vairavimoStazas': 18, 'busena': 'Blaivus', 'detaliBusena': None, 'papBusena': None, 'detaliPapBusena': None, 'kaltininkas': 'Ne', 'girtumasPromilemis': None, 'dalyvioBusena': 'NEPAZEIDE', 'teisenosStadijaBusena': None, 'dalyvioKetPazeidimai': [], 'tpId': 32917786}, {'dalyvisId': 47767353, 'kategorija': 'Automobilio vairuotojas', 'dalyvioTipas': None, 'pasisalino': 'Taip', 'asmuoNezinomas': 'Taip', 'lytis': None, 'pilietybe': None, 'amzius': None, 'neigalumas': None, 'saugosDirzas': None, 'vaikoKedesNaudojimas': None, 'saugosSalmoNaudojimas': None, 'oroPagalves': None, 'bukle': None, 'detaliBukle': None, 'suzalojimoMastas': None, 'vairuotojoKvalifikacija': None, 'vairavimoStazas': None, 'busena': None, 'detaliBusena': None, 'papBusena': None, 'detaliPapBusena': None, 'kaltininkas': 'Taip', 'girtumasPromilemis': None, 'dalyvioBusena': 'KALTININKAS', 'teisenosStadijaBusena': 'ADMINISTRACINIS', 'dalyvioKetPazeidimai': ['Saugaus atstumo nesilaikymas'], 'tpId': 32917787}],\n",
    "[{'dalyvisId': 47756551, 'kategorija': 'Automobilio vairuotojas', 'dalyvioTipas': 'Kitas asmuo', 'pasisalino': 'Ne', 'asmuoNezinomas': 'Ne', 'lytis': 'Vyras', 'pilietybe': None, 'amzius': 35, 'neigalumas': 'Ne', 'saugosDirzas': 'Užsegtas', 'vaikoKedesNaudojimas': None, 'saugosSalmoNaudojimas': None, 'oroPagalves': 'Nesuveikė', 'bukle': 'Nenukentėjo', 'detaliBukle': None, 'suzalojimoMastas': None, 'vairuotojoKvalifikacija': 'Atitinka', 'vairavimoStazas': 10, 'busena': 'Blaivus', 'detaliBusena': None, 'papBusena': None, 'detaliPapBusena': None, 'kaltininkas': 'Ne', 'girtumasPromilemis': None, 'dalyvioBusena': 'NEPAZEIDE', 'teisenosStadijaBusena': None, 'dalyvioKetPazeidimai': [], 'tpId': 32912217}],\n",
    "[{'dalyvisId': 47756561, 'kategorija': 'Automobilio vairuotojas', 'dalyvioTipas': 'Kitas asmuo', 'pasisalino': 'Ne', 'asmuoNezinomas': 'Ne', 'lytis': 'Vyras', 'pilietybe': None, 'amzius': 36, 'neigalumas': 'Ne', 'saugosDirzas': 'Užsegtas', 'vaikoKedesNaudojimas': None, 'saugosSalmoNaudojimas': None, 'oroPagalves': 'Nesuveikė', 'bukle': 'Nenukentėjo', 'detaliBukle': None, 'suzalojimoMastas': None, 'vairuotojoKvalifikacija': 'Atitinka', 'vairavimoStazas': 15, 'busena': 'Blaivus', 'detaliBusena': None, 'papBusena': None, 'detaliPapBusena': None, 'kaltininkas': 'Ne', 'girtumasPromilemis': None, 'dalyvioBusena': 'NEPAZEIDE', 'teisenosStadijaBusena': None, 'dalyvioKetPazeidimai': [], 'tpId': 32912221}],\n",
    "[{'dalyvisId': 47756590, 'kategorija': None, 'dalyvioTipas': None, 'pasisalino': 'Taip', 'asmuoNezinomas': 'Taip', 'lytis': None, 'pilietybe': None, 'amzius': None, 'neigalumas': None, 'saugosDirzas': None, 'vaikoKedesNaudojimas': None, 'saugosSalmoNaudojimas': None, 'oroPagalves': None, 'bukle': None, 'detaliBukle': None, 'suzalojimoMastas': None, 'vairuotojoKvalifikacija': None, 'vairavimoStazas': None, 'busena': None, 'detaliBusena': None, 'papBusena': None, 'detaliPapBusena': None, 'kaltininkas': 'Taip', 'girtumasPromilemis': None, 'dalyvioBusena': 'GALIMAS_KALTININKAS', 'teisenosStadijaBusena': None, 'dalyvioKetPazeidimai': ['Saugaus atstumo nesilaikymas'], 'tpId': 32912237}, {'dalyvisId': 47756589, 'kategorija': 'Kiti', 'dalyvioTipas': 'Kitas asmuo', 'pasisalino': 'Ne', 'asmuoNezinomas': 'Ne', 'lytis': 'Moteris', 'pilietybe': None, 'amzius': 32, 'neigalumas': 'Ne', 'saugosDirzas': None, 'vaikoKedesNaudojimas': None, 'saugosSalmoNaudojimas': None, 'oroPagalves': None, 'bukle': 'Nenukentėjo', 'detaliBukle': None, 'suzalojimoMastas': None, 'vairuotojoKvalifikacija': None, 'vairavimoStazas': None, 'busena': 'Blaivus', 'detaliBusena': None, 'papBusena': None, 'detaliPapBusena': None, 'kaltininkas': 'Ne', 'girtumasPromilemis': None, 'dalyvioBusena': 'NEPAZEIDE', 'teisenosStadijaBusena': None, 'dalyvioKetPazeidimai': [], 'tpId': None}],\n",
    "[{'dalyvisId': 47798291, 'kategorija': 'Kiti', 'dalyvioTipas': 'Kitas asmuo', 'pasisalino': 'Ne', 'asmuoNezinomas': 'Ne', 'lytis': 'Vyras', 'pilietybe': None, 'amzius': 28, 'neigalumas': 'Ne', 'saugosDirzas': None, 'vaikoKedesNaudojimas': None, 'saugosSalmoNaudojimas': None, 'oroPagalves': None, 'bukle': 'Nenukentėjo', 'detaliBukle': None, 'suzalojimoMastas': None, 'vairuotojoKvalifikacija': None, 'vairavimoStazas': None, 'busena': 'Blaivus', 'detaliBusena': None, 'papBusena': None, 'detaliPapBusena': None, 'kaltininkas': 'Ne', 'girtumasPromilemis': None, 'dalyvioBusena': 'NEPAZEIDE', 'teisenosStadijaBusena': None, 'dalyvioKetPazeidimai': [], 'tpId': None}, {'dalyvisId': 47798292, 'kategorija': 'Automobilio vairuotojas', 'dalyvioTipas': 'Kitas asmuo', 'pasisalino': 'Ne', 'asmuoNezinomas': 'Ne', 'lytis': 'Vyras', 'pilietybe': None, 'amzius': 29, 'neigalumas': 'Ne', 'saugosDirzas': 'Užsegtas', 'vaikoKedesNaudojimas': None, 'saugosSalmoNaudojimas': None, 'oroPagalves': 'Nesuveikė', 'bukle': 'Nenukentėjo', 'detaliBukle': None, 'suzalojimoMastas': None, 'vairuotojoKvalifikacija': 'Neturi teisės vairuoti', 'vairavimoStazas': None, 'busena': 'Neblaivus', 'detaliBusena': None, 'papBusena': None, 'detaliPapBusena': None, 'kaltininkas': 'Taip', 'girtumasPromilemis': 1.5, 'dalyvioBusena': 'KALTININKAS', 'teisenosStadijaBusena': 'ADMINISTRACINIS', 'dalyvioKetPazeidimai': ['Saugaus atstumo nesilaikymas'], 'tpId': 32934169}],\n",
    "[{'dalyvisId': 47756953, 'kategorija': 'Automobilio vairuotojas', 'dalyvioTipas': 'Kitas asmuo', 'pasisalino': 'Ne', 'asmuoNezinomas': 'Ne', 'lytis': 'Vyras', 'pilietybe': None, 'amzius': 26, 'neigalumas': 'Ne', 'saugosDirzas': 'Užsegtas', 'vaikoKedesNaudojimas': None, 'saugosSalmoNaudojimas': None, 'oroPagalves': 'Nesuveikė', 'bukle': 'Nenukentėjo', 'detaliBukle': None, 'suzalojimoMastas': None, 'vairuotojoKvalifikacija': 'Atitinka', 'vairavimoStazas': 6, 'busena': 'Neblaivus', 'detaliBusena': None, 'papBusena': None, 'detaliPapBusena': None, 'kaltininkas': 'Taip', 'girtumasPromilemis': 1.52, 'dalyvioBusena': 'KALTININKAS', 'teisenosStadijaBusena': 'ADMINISTRACINIS', 'dalyvioKetPazeidimai': ['Saugaus greičio nepasirinkimas'], 'tpId': 32912411}],\n",
    "[{'dalyvisId': 47756607, 'kategorija': 'Automobilio vairuotojas', 'dalyvioTipas': 'Kitas asmuo', 'pasisalino': 'Ne', 'asmuoNezinomas': 'Ne', 'lytis': 'Moteris', 'pilietybe': None, 'amzius': 50, 'neigalumas': 'Ne', 'saugosDirzas': 'Užsegtas', 'vaikoKedesNaudojimas': None, 'saugosSalmoNaudojimas': None, 'oroPagalves': 'Nesuveikė', 'bukle': 'Nenukentėjo', 'detaliBukle': None, 'suzalojimoMastas': None, 'vairuotojoKvalifikacija': 'Atitinka', 'vairavimoStazas': 31, 'busena': 'Blaivus', 'detaliBusena': None, 'papBusena': None, 'detaliPapBusena': None, 'kaltininkas': 'Ne', 'girtumasPromilemis': None, 'dalyvioBusena': 'NEPAZEIDE', 'teisenosStadijaBusena': None, 'dalyvioKetPazeidimai': [], 'tpId': 32912246}],\n",
    "[{'dalyvisId': 47756632, 'kategorija': 'Automobilio vairuotojas', 'dalyvioTipas': None, 'pasisalino': 'Ne', 'asmuoNezinomas': 'Taip', 'lytis': None, 'pilietybe': None, 'amzius': None, 'neigalumas': None, 'saugosDirzas': None, 'vaikoKedesNaudojimas': None, 'saugosSalmoNaudojimas': None, 'oroPagalves': None, 'bukle': None, 'detaliBukle': None, 'suzalojimoMastas': None, 'vairuotojoKvalifikacija': None, 'vairavimoStazas': None, 'busena': None, 'detaliBusena': None, 'papBusena': None, 'detaliPapBusena': None, 'kaltininkas': 'Ne', 'girtumasPromilemis': None, 'dalyvioBusena': 'NEPAZEIDE', 'teisenosStadijaBusena': None, 'dalyvioKetPazeidimai': [], 'tpId': 32912259}, {'dalyvisId': 47756629, 'kategorija': 'Automobilio vairuotojas', 'dalyvioTipas': 'Kitas asmuo', 'pasisalino': 'Taip', 'asmuoNezinomas': 'Ne', 'lytis': 'Vyras', 'pilietybe': None, 'amzius': 25, 'neigalumas': 'Ne', 'saugosDirzas': 'Užsegtas', 'vaikoKedesNaudojimas': None, 'saugosSalmoNaudojimas': None, 'oroPagalves': 'Nesuveikė', 'bukle': 'Nenukentėjo', 'detaliBukle': None, 'suzalojimoMastas': None, 'vairuotojoKvalifikacija': 'Neturi teisės vairuoti', 'vairavimoStazas': None, 'busena': 'Neblaivus', 'detaliBusena': 'Vidutinis neblaivumo (girtumo) laipsnis', 'papBusena': None, 'detaliPapBusena': None, 'kaltininkas': 'Taip', 'girtumasPromilemis': 2.15, 'dalyvioBusena': 'KALTININKAS', 'teisenosStadijaBusena': 'ADMINISTRACINIS', 'dalyvioKetPazeidimai': ['Saugaus atstumo nesilaikymas'], 'tpId': 32912258}],\n",
    "[{'dalyvisId': 47767014, 'kategorija': None, 'dalyvioTipas': None, 'pasisalino': 'Taip', 'asmuoNezinomas': 'Taip', 'lytis': None, 'pilietybe': None, 'amzius': None, 'neigalumas': None, 'saugosDirzas': None, 'vaikoKedesNaudojimas': None, 'saugosSalmoNaudojimas': None, 'oroPagalves': None, 'bukle': None, 'detaliBukle': None, 'suzalojimoMastas': None, 'vairuotojoKvalifikacija': None, 'vairavimoStazas': None, 'busena': None, 'detaliBusena': None, 'papBusena': None, 'detaliPapBusena': None, 'kaltininkas': 'Taip', 'girtumasPromilemis': None, 'dalyvioBusena': 'GALIMAS_KALTININKAS', 'teisenosStadijaBusena': None, 'dalyvioKetPazeidimai': ['Saugaus atstumo nesilaikymas'], 'tpId': 32917607}],\n",
    "[{'dalyvisId': 47756694, 'kategorija': 'Automobilio vairuotojas', 'dalyvioTipas': 'Kitas asmuo', 'pasisalino': 'Ne', 'asmuoNezinomas': 'Ne', 'lytis': 'Vyras', 'pilietybe': None, 'amzius': 31, 'neigalumas': 'Ne', 'saugosDirzas': 'Užsegtas', 'vaikoKedesNaudojimas': None, 'saugosSalmoNaudojimas': None, 'oroPagalves': 'Nesuveikė', 'bukle': 'Nenukentėjo', 'detaliBukle': None, 'suzalojimoMastas': None, 'vairuotojoKvalifikacija': 'Atitinka', 'vairavimoStazas': 13, 'busena': 'Neblaivus', 'detaliBusena': 'Sunkus neblaivumo (girtumo) laipsnis', 'papBusena': None, 'detaliPapBusena': None, 'kaltininkas': 'Taip', 'girtumasPromilemis': 3.03, 'dalyvioBusena': 'KALTININKAS', 'teisenosStadijaBusena': 'ADMINISTRACINIS', 'dalyvioKetPazeidimai': ['Saugaus atstumo nesilaikymas'], 'tpId': 32912289}],\n",
    "[{'dalyvisId': 47838043, 'kategorija': 'Automobilio vairuotojas', 'dalyvioTipas': 'Kitas asmuo', 'pasisalino': 'Ne', 'asmuoNezinomas': 'Ne', 'lytis': 'Vyras', 'pilietybe': None, 'amzius': 52, 'neigalumas': 'Ne', 'saugosDirzas': 'Neįrengtas', 'vaikoKedesNaudojimas': None, 'saugosSalmoNaudojimas': None, 'oroPagalves': 'Neįrengta', 'bukle': 'Nenukentėjo', 'detaliBukle': None, 'suzalojimoMastas': None, 'vairuotojoKvalifikacija': 'Atitinka', 'vairavimoStazas': 20, 'busena': 'Blaivus', 'detaliBusena': None, 'papBusena': 'Neapsvaigęs', 'detaliPapBusena': None, 'kaltininkas': 'Taip', 'girtumasPromilemis': None, 'dalyvioBusena': 'KALTININKAS', 'teisenosStadijaBusena': 'ADMINISTRACINIS', 'dalyvioKetPazeidimai': ['Saugaus greičio nepasirinkimas'], 'tpId': 32955417}, {'dalyvisId': 47838044, 'kategorija': 'Keleivis', 'dalyvioTipas': 'Kitas asmuo', 'pasisalino': 'Ne', 'asmuoNezinomas': 'Ne', 'lytis': 'Moteris', 'pilietybe': None, 'amzius': 43, 'neigalumas': 'Ne', 'saugosDirzas': 'Neįrengtas', 'vaikoKedesNaudojimas': None, 'saugosSalmoNaudojimas': None, 'oroPagalves': 'Neįrengta', 'bukle': 'Sužeistas', 'detaliBukle': 'Gydomas stacionare', 'suzalojimoMastas': None, 'vairuotojoKvalifikacija': None, 'vairavimoStazas': None, 'busena': 'Blaivus', 'detaliBusena': None, 'papBusena': None, 'detaliPapBusena': None, 'kaltininkas': 'Ne', 'girtumasPromilemis': None, 'dalyvioBusena': 'NEPAZEIDE', 'teisenosStadijaBusena': None, 'dalyvioKetPazeidimai': [], 'tpId': 32955417}],\n",
    "[{'dalyvisId': 47790937, 'kategorija': 'Automobilio vairuotojas', 'dalyvioTipas': 'Kitas asmuo', 'pasisalino': 'Ne', 'asmuoNezinomas': 'Ne', 'lytis': 'Vyras', 'pilietybe': None, 'amzius': 23, 'neigalumas': 'Ne', 'saugosDirzas': 'Užsegtas', 'vaikoKedesNaudojimas': None, 'saugosSalmoNaudojimas': None, 'oroPagalves': 'Nesuveikė', 'bukle': 'Nenukentėjo', 'detaliBukle': None, 'suzalojimoMastas': None, 'vairuotojoKvalifikacija': 'Atitinka', 'vairavimoStazas': 4, 'busena': 'Neblaivus', 'detaliBusena': 'Lengvas neblaivumo (girtumo) laipsnis', 'papBusena': None, 'detaliPapBusena': None, 'kaltininkas': 'Taip', 'girtumasPromilemis': 0.87, 'dalyvioBusena': 'KALTININKAS', 'teisenosStadijaBusena': 'ADMINISTRACINIS', 'dalyvioKetPazeidimai': ['Saugaus greičio nepasirinkimas'], 'tpId': 32930281}, {'dalyvisId': 47790938, 'kategorija': 'Keleivis', 'dalyvioTipas': 'Kitas asmuo', 'pasisalino': 'Ne', 'asmuoNezinomas': 'Ne', 'lytis': 'Vyras', 'pilietybe': None, 'amzius': 23, 'neigalumas': 'Ne', 'saugosDirzas': 'Užsegtas', 'vaikoKedesNaudojimas': None, 'saugosSalmoNaudojimas': None, 'oroPagalves': 'Nesuveikė', 'bukle': 'Nenukentėjo', 'detaliBukle': None, 'suzalojimoMastas': None, 'vairuotojoKvalifikacija': None, 'vairavimoStazas': None, 'busena': 'Neblaivus', 'detaliBusena': 'Lengvas neblaivumo (girtumo) laipsnis', 'papBusena': None, 'detaliPapBusena': None, 'kaltininkas': 'Ne', 'girtumasPromilemis': 1.46, 'dalyvioBusena': 'NEPAZEIDE', 'teisenosStadijaBusena': None, 'dalyvioKetPazeidimai': [], 'tpId': 32930281}],\n",
    "[{'dalyvisId': 47756705, 'kategorija': 'Automobilio vairuotojas', 'dalyvioTipas': 'Kitas asmuo', 'pasisalino': 'Ne', 'asmuoNezinomas': 'Ne', 'lytis': 'Vyras', 'pilietybe': None, 'amzius': 44, 'neigalumas': 'Ne', 'saugosDirzas': 'Užsegtas', 'vaikoKedesNaudojimas': None, 'saugosSalmoNaudojimas': None, 'oroPagalves': 'Suveikė', 'bukle': 'Nenukentėjo', 'detaliBukle': None, 'suzalojimoMastas': None, 'vairuotojoKvalifikacija': 'Atitinka', 'vairavimoStazas': 27, 'busena': 'Blaivus', 'detaliBusena': None, 'papBusena': None, 'detaliPapBusena': None, 'kaltininkas': 'Taip', 'girtumasPromilemis': None, 'dalyvioBusena': 'KALTININKAS', 'teisenosStadijaBusena': 'ADMINISTRACINIS', 'dalyvioKetPazeidimai': ['Saugaus greičio nepasirinkimas'], 'tpId': 32912295}],\n",
    "[{'dalyvisId': 48295244, 'kategorija': 'Pėsčiasis', 'dalyvioTipas': 'Kitas asmuo', 'pasisalino': 'Ne', 'asmuoNezinomas': 'Ne', 'lytis': 'Moteris', 'pilietybe': None, 'amzius': 72, 'neigalumas': 'Ne', 'saugosDirzas': None, 'vaikoKedesNaudojimas': None, 'saugosSalmoNaudojimas': None, 'oroPagalves': None, 'bukle': 'Sužeistas', 'detaliBukle': 'Gydomas ambulatoriškai', 'suzalojimoMastas': 'Nesunkus sveikatos sutrikdymas', 'vairuotojoKvalifikacija': None, 'vairavimoStazas': None, 'busena': 'Blaivus', 'detaliBusena': None, 'papBusena': None, 'detaliPapBusena': None, 'kaltininkas': 'Ne', 'girtumasPromilemis': None, 'dalyvioBusena': 'NEPAZEIDE', 'teisenosStadijaBusena': None, 'dalyvioKetPazeidimai': [], 'tpId': None}, {'dalyvisId': 48295243, 'kategorija': 'Automobilio vairuotojas', 'dalyvioTipas': 'Kitas asmuo', 'pasisalino': 'Taip', 'asmuoNezinomas': 'Ne', 'lytis': 'Vyras', 'pilietybe': None, 'amzius': 31, 'neigalumas': 'Ne', 'saugosDirzas': 'Užsegtas', 'vaikoKedesNaudojimas': None, 'saugosSalmoNaudojimas': None, 'oroPagalves': 'Nesuveikė', 'bukle': 'Nenukentėjo', 'detaliBukle': None, 'suzalojimoMastas': None, 'vairuotojoKvalifikacija': 'Neturi teisės vairuoti', 'vairavimoStazas': None, 'busena': 'Blaivus', 'detaliBusena': None, 'papBusena': None, 'detaliPapBusena': None, 'kaltininkas': 'Taip', 'girtumasPromilemis': None, 'dalyvioBusena': 'GALIMAS_KALTININKAS', 'teisenosStadijaBusena': 'IKITEISMINIS', 'dalyvioKetPazeidimai': ['Saugaus atstumo nesilaikymas'], 'tpId': 33242282}],\n",
    "[{'dalyvisId': 47756688, 'kategorija': 'Automobilio vairuotojas', 'dalyvioTipas': 'Kitas asmuo', 'pasisalino': 'Ne', 'asmuoNezinomas': 'Ne', 'lytis': None, 'pilietybe': None, 'amzius': None, 'neigalumas': 'Ne', 'saugosDirzas': 'Užsegtas', 'vaikoKedesNaudojimas': None, 'saugosSalmoNaudojimas': None, 'oroPagalves': 'Nesuveikė', 'bukle': 'Nenukentėjo', 'detaliBukle': None, 'suzalojimoMastas': None, 'vairuotojoKvalifikacija': 'Atitinka', 'vairavimoStazas': 5, 'busena': 'Blaivus', 'detaliBusena': None, 'papBusena': None, 'detaliPapBusena': None, 'kaltininkas': 'Ne', 'girtumasPromilemis': None, 'dalyvioBusena': 'NEPAZEIDE', 'teisenosStadijaBusena': None, 'dalyvioKetPazeidimai': [], 'tpId': 32912286}, {'dalyvisId': 47756689, 'kategorija': 'Automobilio vairuotojas', 'dalyvioTipas': 'Kitas asmuo', 'pasisalino': 'Ne', 'asmuoNezinomas': 'Ne', 'lytis': None, 'pilietybe': None, 'amzius': None, 'neigalumas': 'Ne', 'saugosDirzas': 'Užsegtas', 'vaikoKedesNaudojimas': None, 'saugosSalmoNaudojimas': None, 'oroPagalves': 'Nesuveikė', 'bukle': 'Nenukentėjo', 'detaliBukle': None, 'suzalojimoMastas': None, 'vairuotojoKvalifikacija': 'Atitinka', 'vairavimoStazas': 5, 'busena': 'Blaivus', 'detaliBusena': None, 'papBusena': None, 'detaliPapBusena': None, 'kaltininkas': 'Taip', 'girtumasPromilemis': None, 'dalyvioBusena': 'KALTININKAS', 'teisenosStadijaBusena': 'ADMINISTRACINIS', 'dalyvioKetPazeidimai': ['Saugaus greičio nepasirinkimas'], 'tpId': 32912287}],\n",
    "[{'dalyvisId': 47756709, 'kategorija': 'Automobilio vairuotojas', 'dalyvioTipas': 'Kitas asmuo', 'pasisalino': 'Ne', 'asmuoNezinomas': 'Ne', 'lytis': 'Vyras', 'pilietybe': None, 'amzius': 39, 'neigalumas': 'Ne', 'saugosDirzas': 'Užsegtas', 'vaikoKedesNaudojimas': None, 'saugosSalmoNaudojimas': None, 'oroPagalves': 'Nesuveikė', 'bukle': 'Nenukentėjo', 'detaliBukle': None, 'suzalojimoMastas': None, 'vairuotojoKvalifikacija': 'Atitinka', 'vairavimoStazas': 20, 'busena': 'Blaivus', 'detaliBusena': None, 'papBusena': None, 'detaliPapBusena': None, 'kaltininkas': 'Ne', 'girtumasPromilemis': None, 'dalyvioBusena': 'NEPAZEIDE', 'teisenosStadijaBusena': None, 'dalyvioKetPazeidimai': [], 'tpId': 32912297}],\n",
    "[{'dalyvisId': 47823829, 'kategorija': 'Automobilio vairuotojas', 'dalyvioTipas': None, 'pasisalino': 'Taip', 'asmuoNezinomas': 'Taip', 'lytis': None, 'pilietybe': None, 'amzius': None, 'neigalumas': None, 'saugosDirzas': None, 'vaikoKedesNaudojimas': None, 'saugosSalmoNaudojimas': None, 'oroPagalves': None, 'bukle': None, 'detaliBukle': None, 'suzalojimoMastas': None, 'vairuotojoKvalifikacija': None, 'vairavimoStazas': None, 'busena': None, 'detaliBusena': None, 'papBusena': None, 'detaliPapBusena': None, 'kaltininkas': 'Taip', 'girtumasPromilemis': None, 'dalyvioBusena': 'GALIMAS_KALTININKAS', 'teisenosStadijaBusena': 'ADMINISTRACINIS', 'dalyvioKetPazeidimai': ['Kiti Kelių eismo taisyklių pažeidimai'], 'tpId': 32947795}, {'dalyvisId': 47823839, 'kategorija': 'Kiti', 'dalyvioTipas': 'Kitas asmuo', 'pasisalino': 'Ne', 'asmuoNezinomas': 'Ne', 'lytis': 'Moteris', 'pilietybe': None, 'amzius': 21, 'neigalumas': 'Ne', 'saugosDirzas': None, 'vaikoKedesNaudojimas': None, 'saugosSalmoNaudojimas': None, 'oroPagalves': None, 'bukle': 'Nenukentėjo', 'detaliBukle': None, 'suzalojimoMastas': None, 'vairuotojoKvalifikacija': None, 'vairavimoStazas': None, 'busena': 'Blaivus', 'detaliBusena': None, 'papBusena': None, 'detaliPapBusena': None, 'kaltininkas': 'Taip', 'girtumasPromilemis': None, 'dalyvioBusena': 'KALTININKAS', 'teisenosStadijaBusena': 'ADMINISTRACINIS', 'dalyvioKetPazeidimai': ['Kiti Kelių eismo taisyklių pažeidimai'], 'tpId': None}],\n",
    "[{'dalyvisId': 47767276, 'kategorija': 'Automobilio vairuotojas', 'dalyvioTipas': 'Kitas asmuo', 'pasisalino': 'Ne', 'asmuoNezinomas': 'Ne', 'lytis': 'Vyras', 'pilietybe': None, 'amzius': 26, 'neigalumas': 'Ne', 'saugosDirzas': 'Užsegtas', 'vaikoKedesNaudojimas': None, 'saugosSalmoNaudojimas': None, 'oroPagalves': 'Suveikė', 'bukle': 'Nenukentėjo', 'detaliBukle': None, 'suzalojimoMastas': None, 'vairuotojoKvalifikacija': 'Neturi teisės vairuoti', 'vairavimoStazas': None, 'busena': 'Neblaivus', 'detaliBusena': 'Vidutinis neblaivumo (girtumo) laipsnis', 'papBusena': None, 'detaliPapBusena': None, 'kaltininkas': 'Taip', 'girtumasPromilemis': 1.77, 'dalyvioBusena': 'KALTININKAS', 'teisenosStadijaBusena': 'ADMINISTRACINIS', 'dalyvioKetPazeidimai': ['Reikalavimo duoti kelią nevykdymas važiuojant per sankryžą'], 'tpId': 32917748}, {'dalyvisId': 47767277, 'kategorija': 'Automobilio vairuotojas', 'dalyvioTipas': 'Kitas asmuo', 'pasisalino': 'Ne', 'asmuoNezinomas': 'Ne', 'lytis': 'Vyras', 'pilietybe': None, 'amzius': 21, 'neigalumas': 'Ne', 'saugosDirzas': 'Užsegtas', 'vaikoKedesNaudojimas': None, 'saugosSalmoNaudojimas': None, 'oroPagalves': 'Suveikė', 'bukle': 'Nenukentėjo', 'detaliBukle': None, 'suzalojimoMastas': None, 'vairuotojoKvalifikacija': 'Atitinka', 'vairavimoStazas': 3, 'busena': 'Blaivus', 'detaliBusena': None, 'papBusena': None, 'detaliPapBusena': None, 'kaltininkas': 'Ne', 'girtumasPromilemis': None, 'dalyvioBusena': 'NEPAZEIDE', 'teisenosStadijaBusena': None, 'dalyvioKetPazeidimai': [], 'tpId': 32917749}, {'dalyvisId': 47767278, 'kategorija': 'Keleivis', 'dalyvioTipas': 'Kitas asmuo', 'pasisalino': 'Ne', 'asmuoNezinomas': 'Ne', 'lytis': 'Moteris', 'pilietybe': None, 'amzius': 27, 'neigalumas': 'Ne', 'saugosDirzas': 'Užsegtas', 'vaikoKedesNaudojimas': None, 'saugosSalmoNaudojimas': None, 'oroPagalves': 'Suveikė', 'bukle': 'Nenukentėjo', 'detaliBukle': None, 'suzalojimoMastas': None, 'vairuotojoKvalifikacija': None, 'vairavimoStazas': None, 'busena': 'Neblaivus', 'detaliBusena': 'Lengvas neblaivumo (girtumo) laipsnis', 'papBusena': None, 'detaliPapBusena': None, 'kaltininkas': 'Ne', 'girtumasPromilemis': 0.9500000000000001, 'dalyvioBusena': 'NEPAZEIDE', 'teisenosStadijaBusena': None, 'dalyvioKetPazeidimai': [], 'tpId': 32917748}],\n",
    "[{'dalyvisId': 47769521, 'kategorija': 'Automobilio vairuotojas', 'dalyvioTipas': 'Kitas asmuo', 'pasisalino': 'Taip', 'asmuoNezinomas': 'Ne', 'lytis': 'Vyras', 'pilietybe': None, 'amzius': 60, 'neigalumas': 'Ne', 'saugosDirzas': 'Užsegtas', 'vaikoKedesNaudojimas': None, 'saugosSalmoNaudojimas': None, 'oroPagalves': 'Nesuveikė', 'bukle': 'Nenukentėjo', 'detaliBukle': None, 'suzalojimoMastas': None, 'vairuotojoKvalifikacija': 'Atitinka', 'vairavimoStazas': 27, 'busena': 'Blaivus', 'detaliBusena': None, 'papBusena': None, 'detaliPapBusena': None, 'kaltininkas': 'Taip', 'girtumasPromilemis': None, 'dalyvioBusena': 'KALTININKAS', 'teisenosStadijaBusena': 'ADMINISTRACINIS', 'dalyvioKetPazeidimai': ['Kiti Kelių eismo taisyklių pažeidimai'], 'tpId': 32918919}, {'dalyvisId': 47769522, 'kategorija': 'Automobilio vairuotojas', 'dalyvioTipas': 'Kitas asmuo', 'pasisalino': 'Ne', 'asmuoNezinomas': 'Ne', 'lytis': 'Moteris', 'pilietybe': None, 'amzius': 33, 'neigalumas': 'Ne', 'saugosDirzas': 'Užsegtas', 'vaikoKedesNaudojimas': None, 'saugosSalmoNaudojimas': None, 'oroPagalves': 'Nesuveikė', 'bukle': 'Nenukentėjo', 'detaliBukle': None, 'suzalojimoMastas': None, 'vairuotojoKvalifikacija': 'Atitinka', 'vairavimoStazas': 15, 'busena': 'Blaivus', 'detaliBusena': None, 'papBusena': None, 'detaliPapBusena': None, 'kaltininkas': 'Ne', 'girtumasPromilemis': None, 'dalyvioBusena': 'NEPAZEIDE', 'teisenosStadijaBusena': None, 'dalyvioKetPazeidimai': [], 'tpId': 32918920}],\n",
    "[{'dalyvisId': 47756831, 'kategorija': 'Automobilio vairuotojas', 'dalyvioTipas': 'Kitas asmuo', 'pasisalino': 'Ne', 'asmuoNezinomas': 'Ne', 'lytis': 'Vyras', 'pilietybe': None, 'amzius': 36, 'neigalumas': 'Ne', 'saugosDirzas': 'Užsegtas', 'vaikoKedesNaudojimas': None, 'saugosSalmoNaudojimas': None, 'oroPagalves': 'Nesuveikė', 'bukle': 'Nenukentėjo', 'detaliBukle': None, 'suzalojimoMastas': None, 'vairuotojoKvalifikacija': 'Atitinka', 'vairavimoStazas': 17, 'busena': 'Blaivus', 'detaliBusena': None, 'papBusena': None, 'detaliPapBusena': None, 'kaltininkas': 'Ne', 'girtumasPromilemis': None, 'dalyvioBusena': 'NEPAZEIDE', 'teisenosStadijaBusena': None, 'dalyvioKetPazeidimai': [], 'tpId': 32912354}, {'dalyvisId': 47756830, 'kategorija': None, 'dalyvioTipas': None, 'pasisalino': 'Taip', 'asmuoNezinomas': 'Taip', 'lytis': None, 'pilietybe': None, 'amzius': None, 'neigalumas': None, 'saugosDirzas': None, 'vaikoKedesNaudojimas': None, 'saugosSalmoNaudojimas': None, 'oroPagalves': None, 'bukle': None, 'detaliBukle': None, 'suzalojimoMastas': None, 'vairuotojoKvalifikacija': None, 'vairavimoStazas': None, 'busena': None, 'detaliBusena': None, 'papBusena': None, 'detaliPapBusena': None, 'kaltininkas': 'Taip', 'girtumasPromilemis': None, 'dalyvioBusena': 'GALIMAS_KALTININKAS', 'teisenosStadijaBusena': None, 'dalyvioKetPazeidimai': ['Saugaus atstumo nesilaikymas'], 'tpId': None}],\n",
    "[{'dalyvisId': 47816484, 'kategorija': 'Kiti', 'dalyvioTipas': 'Kitas asmuo', 'pasisalino': 'Ne', 'asmuoNezinomas': 'Ne', 'lytis': 'Vyras', 'pilietybe': None, 'amzius': 67, 'neigalumas': 'Ne', 'saugosDirzas': None, 'vaikoKedesNaudojimas': None, 'saugosSalmoNaudojimas': None, 'oroPagalves': None, 'bukle': 'Nenukentėjo', 'detaliBukle': None, 'suzalojimoMastas': None, 'vairuotojoKvalifikacija': None, 'vairavimoStazas': None, 'busena': 'Blaivus', 'detaliBusena': None, 'papBusena': None, 'detaliPapBusena': None, 'kaltininkas': 'Ne', 'girtumasPromilemis': None, 'dalyvioBusena': 'NEPAZEIDE', 'teisenosStadijaBusena': None, 'dalyvioKetPazeidimai': [], 'tpId': None}, {'dalyvisId': 47816483, 'kategorija': 'Automobilio vairuotojas', 'dalyvioTipas': 'Kitas asmuo', 'pasisalino': 'Ne', 'asmuoNezinomas': 'Ne', 'lytis': 'Vyras', 'pilietybe': None, 'amzius': 58, 'neigalumas': 'Ne', 'saugosDirzas': 'Užsegtas', 'vaikoKedesNaudojimas': None, 'saugosSalmoNaudojimas': None, 'oroPagalves': 'Nesuveikė', 'bukle': 'Nenukentėjo', 'detaliBukle': None, 'suzalojimoMastas': None, 'vairuotojoKvalifikacija': 'Atitinka', 'vairavimoStazas': 17, 'busena': 'Neblaivus', 'detaliBusena': None, 'papBusena': None, 'detaliPapBusena': None, 'kaltininkas': 'Taip', 'girtumasPromilemis': None, 'dalyvioBusena': 'GALIMAS_KALTININKAS', 'teisenosStadijaBusena': 'IKITEISMINIS', 'dalyvioKetPazeidimai': ['Saugaus atstumo nesilaikymas'], 'tpId': 32943941}]\n",
    "]"
   ]
  },
  {
   "cell_type": "code",
   "execution_count": null,
   "metadata": {},
   "outputs": [],
   "source": []
  }
 ],
 "metadata": {
  "kernelspec": {
   "display_name": "Python 3",
   "language": "python",
   "name": "python3"
  },
  "language_info": {
   "codemirror_mode": {
    "name": "ipython",
    "version": 3
   },
   "file_extension": ".py",
   "mimetype": "text/x-python",
   "name": "python",
   "nbconvert_exporter": "python",
   "pygments_lexer": "ipython3",
   "version": "3.10.12"
  }
 },
 "nbformat": 4,
 "nbformat_minor": 2
}
