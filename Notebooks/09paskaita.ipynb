{
 "cells": [
  {
   "cell_type": "code",
   "execution_count": 9,
   "metadata": {},
   "outputs": [
    {
     "name": "stdout",
     "output_type": "stream",
     "text": [
      "True\n"
     ]
    }
   ],
   "source": [
    "# Parašyti funkciją, kuri patikrintų, ar duotas tekstas \n",
    "# yra palindromas (palindròmas (gr. palindromos – sugrįžtantis), žodis, \n",
    "# žodžių grupė, sakinys, posakis ar eilėraštis, \n",
    "# kuris skaitomas iš galo reiškia tą patį arba bent yra prasmingas.)\n",
    "# sula - alus, ėmė, savas, sėdėk užu kėdės, level, Hanah.\n",
    "# Ignoruoti raidžių registrą.\n",
    "# Turi veikti ir su skaičiais (pvz 12321, 666, 85258, etc.)\n",
    "# Vieno skaitmens skaičiai neturi būti laikomi palindromais.\n",
    "# Minuso ženklą - kaip sugalvosite. Mokėti pagrįsti savo sprendimą.\n",
    "\n",
    "\n",
    "a = input('zodis:')\n",
    "\n",
    "def ar_palindromas(ivestis):\n",
    "    if len(ivestis) <= 1:\n",
    "        return 'Netinkamas zodis'\n",
    "    elif ivestis == ivestis[::-1]:\n",
    "        return True\n",
    "    else:\n",
    "        return False \n",
    "\n",
    "    \n",
    "atsakymas = ar_palindromas(a)\n",
    "\n",
    "print(atsakymas)\n",
    "\n"
   ]
  },
  {
   "cell_type": "code",
   "execution_count": 15,
   "metadata": {},
   "outputs": [
    {
     "name": "stdout",
     "output_type": "stream",
     "text": [
      "True\n",
      "False\n"
     ]
    }
   ],
   "source": [
    "# Parašyti funkciją, kuri patikrintų, ar duotas tekstas \n",
    "# yra palindromas (palindròmas (gr. palindromos – sugrįžtantis), žodis, \n",
    "# žodžių grupė, sakinys, posakis ar eilėraštis, \n",
    "# kuris skaitomas iš galo reiškia tą patį arba bent yra prasmingas.)\n",
    "# sula - alus, ėmė, savas, sėdėk užu kėdės, level, Hanah.\n",
    "# Ignoruoti raidžių registrą.\n",
    "# Turi veikti ir su skaičiais (pvz 12321, 666, 85258, etc.)\n",
    "# Vieno skaitmens skaičiai neturi būti laikomi palindromais.\n",
    "# Minuso ženklą - kaip sugalvosite. Mokėti pagrįsti savo sprendimą.\n",
    "\n",
    "\n",
    "def is_pal(x):\n",
    "    r = str(x).lower().replace('-', '')\n",
    "    p = r == r[::-1] if len(r) > 1 else False\n",
    "    return p\n",
    "\n",
    "# Pavyzdys\n",
    "print(is_pal(666)) \n",
    "print(is_pal('Hello'))\n"
   ]
  },
  {
   "cell_type": "code",
   "execution_count": 18,
   "metadata": {},
   "outputs": [
    {
     "name": "stdout",
     "output_type": "stream",
     "text": [
      "Palindromas\n",
      "None\n"
     ]
    }
   ],
   "source": [
    "# Parašyti funkciją, kuri patikrintų, ar duotas tekstas \n",
    "# yra palindromas (palindròmas (gr. palindromos – sugrįžtantis), žodis, \n",
    "# žodžių grupė, sakinys, posakis ar eilėraštis, \n",
    "# kuris skaitomas iš galo reiškia tą patį arba bent yra prasmingas.)\n",
    "# sula - alus, ėmė, savas, sėdėk užu kėdės, level, Hanah.\n",
    "# Ignoruoti raidžių registrą.\n",
    "# Turi veikti ir su skaičiais (pvz 12321, 666, 85258, etc.)\n",
    "# Vieno skaitmens skaičiai neturi būti laikomi palindromais.\n",
    "# Minuso ženklą - kaip sugalvosite. Mokėti pagrįsti savo sprendimą.\n",
    "\n",
    "\n",
    "\n",
    "def fn(a):\n",
    "    s = ''\n",
    "    a = str(a.lower())\n",
    "    for i in a:\n",
    "        s = str(i) + s\n",
    "    if s == a and len(a) > 1:\n",
    "        print('Palindromas')\n",
    "    else:\n",
    "        print('Ne palindromas')\n",
    "        \n",
    "print( fn('asa'))"
   ]
  },
  {
   "cell_type": "code",
   "execution_count": 25,
   "metadata": {},
   "outputs": [
    {
     "data": {
      "text/plain": [
       "5.0"
      ]
     },
     "execution_count": 25,
     "metadata": {},
     "output_type": "execute_result"
    }
   ],
   "source": [
    "# parašyti funkciją, kuri suskaičiuotų pateiktų skaičių aritmetinį vidurkį.\n",
    "# Skaičiai pateikiami per *args\n",
    "# skaičiai gali būti kaip tekstai: '1', '2', '3.45280'\n",
    "# jei bent vieno skaičiaus nesugebėjo konvertuoti: turi grąžinti tekstą '0f'\n",
    "# vidurkį pateikti visada 4rių ženklų tikslumu\n",
    "\n",
    "\n",
    "def avg(*args):\n",
    "    s = '0f'\n",
    "    try:\n",
    "        f = [float(i) for i in args]\n",
    "        s = round(sum(f) / len(f), 4)\n",
    "    except ValueError:\n",
    "        s = '0f'\n",
    "    return s\n",
    "\n",
    "avg(1,5,6,7,6)\n"
   ]
  },
  {
   "cell_type": "code",
   "execution_count": null,
   "metadata": {},
   "outputs": [],
   "source": [
    "# Parašykite kodą, kuris sukurtų tekstinį failą iš trijų stulpelių.\n",
    "# Pirmąjame stulpelyje skaičiai nuo 1 iki 25-kių, antrame - atsitiktiniai skaičiau - ribos 10 - 1000,\n",
    "# trečiame stulpelyje - atsitiktiniai skaičiai tarp 1 ir 10, tačiau - float tipo, turintys 4turis ženklus\n",
    "# po kablelio\n",
    "# stulpeliai atskirti viens nuo kito ;\n",
    "# Pavyzdys, kas maždaug turi gautis:\n",
    "#1;25;1.4567\n",
    "#2;42;7.5213\n",
    "# ir maždaug taip toliau\n",
    "\n",
    "f_name = 'text08-06.txt'\n",
    "f = open(f_name, mode='w', encoding='utf-8')\n",
    "for i in range(1,26):\n",
    "    f.write(str(i)+';')\n",
    "    f.write(str(random.randint(10,1000))+';')\n",
    "    x = float(random.random())\n",
    "    f.write(f'{x:.4f}')\n",
    "    f.write('\\n')\n",
    "    \n",
    "f.close()\n",
    "\n",
    "# Reikia koreguoti !!!!"
   ]
  },
  {
   "cell_type": "code",
   "execution_count": 26,
   "metadata": {},
   "outputs": [],
   "source": [
    "# 5. Parašyti funkciją, kurioje sugeneruojamos dvi skaičių sekos\n",
    "# (jos gali būti skirtingo dydžio), programa turi grąžinti sąrašą\n",
    "# skaičių, kurie sutampa tarp dviejų sugeneruotu sąrašų,\n",
    "# galutiniame sąraše neturi būti skaičių dublikatų. PVZ: x =[1, 1,\n",
    "# 2, 3, 1] y = [1, 3, 5, 6] atsakymas = [1,3]\n",
    "\n",
    "\n",
    "\n",
    "def lst_intersection():\n",
    "    lst1 = []\n",
    "    lst2 = []\n",
    "    i = 0\n",
    "    j = 0\n",
    "    a = random.randint(1, 10)\n",
    "    b = random.randint(1, 10)\n",
    "    while i != a:\n",
    "        lst1.append(random.randint(1, 30))\n",
    "        i+= 1\n",
    "        \n",
    "    while j != b:\n",
    "        lst2.append(random.randint(1, 30))\n",
    "        j+= 1\n",
    "    \n",
    "    \n",
    "    return list(set(lst1).intersection(lst2))"
   ]
  },
  {
   "cell_type": "code",
   "execution_count": 27,
   "metadata": {},
   "outputs": [
    {
     "name": "stdout",
     "output_type": "stream",
     "text": [
      "[7, 10, 5, 5, 7, 2, 8, 10, 10, 7]\n",
      "[7, 2, 8, 6, 1, 1, 9, 8, 7, 9, 10, 7, 8, 9, 3, 10, 9, 10, 10, 5, 9, 6, 7, 1, 8, 8, 2, 2, 3, 3]\n",
      "[7, 2, 8, 10, 5]\n"
     ]
    }
   ],
   "source": [
    "# 5. Parašyti funkciją, kurioje sugeneruojamos dvi skaičių sekos\n",
    "# (jos gali būti skirtingo dydžio), programa turi grąžinti sąrašą\n",
    "# skaičių, kurie sutampa tarp dviejų sugeneruotu sąrašų,\n",
    "# galutiniame sąraše neturi būti skaičių dublikatų. PVZ: x =[1, 1,\n",
    "# 2, 3, 1] y = [1, 3, 5, 6] atsakymas = [1,3]\n",
    "\n",
    "\n",
    "\n",
    "l1=[]\n",
    "l2=[]\n",
    "bendri=[]\n",
    "for i in range(0, 10):\n",
    "    l1.append(random.randint(1, 10))\n",
    "for i in range(0, 30):\n",
    "    l2.append(random.randint(1, 10))\n",
    "if len(l1)>=len(l2):\n",
    "    for i in range(0, len(l1)):\n",
    "        if (l1[i] in l2) and (l1[i] not in bendri) :\n",
    "            bendri.append(l1[i])\n",
    "else:\n",
    "    for i in range(0, len(l2)):\n",
    "        if (l2[i] in l1)  and (l2[i] not in bendri):\n",
    "            bendri.append(l2[i])\n",
    "#ats=list(set(bendri))\n",
    "print(l1)\n",
    "print(l2)\n",
    "print(bendri)"
   ]
  },
  {
   "cell_type": "code",
   "execution_count": 34,
   "metadata": {},
   "outputs": [
    {
     "name": "stdout",
     "output_type": "stream",
     "text": [
      "['01Paskaita.ipynb', '02paskaita.ipynb', '03paskaita.ipynb', '04paskaita.ipynb', '05paskaita.ipynb', '06paskaita.ipynb', '07paskaita.ipynb', '08paskaita.ipynb', '09paskaita.ipynb', 'a.txt', 'f1.txt', 'f2.txt', 'Naujas aplankalas', 'pykodas.py', 'renamed.txt', 'Skaityk.txt', 't.txt', 't.txt.txt', 'testsas', 'Uzduotys 5.1.ipynb']\n",
      "['a.txt', 'f1.txt', 'f2.txt', 'renamed.txt', 'Skaityk.txt', 't.txt', 't.txt.txt']\n"
     ]
    }
   ],
   "source": [
    "# Parašykite skriptą, kuris:\n",
    "# • Parodytų failus, esančius darbiniame aplanke\n",
    "# • Sukurtų aplanką, kurio pavadinimą įvestų pats vartotojas\n",
    "# • Surastų visus txt plėtinį turinčius failus ir juos perkeltų į\n",
    "# naująjį aplanką.\n",
    "\n",
    "import os \n",
    "\n",
    "import shutil\n",
    "\n",
    "print(os.listdir()) # failų sąrašas \n",
    "\n",
    "# a = input('Iveskite failo pavadinima')\n",
    "\n",
    "# os.mkdir(a)   #sukuria naują aplankalą \n",
    "\n",
    "import glob \n",
    "\n",
    "txts = glob.glob('*.txt')\n",
    "print(txts)\n",
    "\n",
    "\n"
   ]
  }
 ],
 "metadata": {
  "kernelspec": {
   "display_name": "Python 3",
   "language": "python",
   "name": "python3"
  },
  "language_info": {
   "codemirror_mode": {
    "name": "ipython",
    "version": 3
   },
   "file_extension": ".py",
   "mimetype": "text/x-python",
   "name": "python",
   "nbconvert_exporter": "python",
   "pygments_lexer": "ipython3",
   "version": "3.12.4"
  }
 },
 "nbformat": 4,
 "nbformat_minor": 2
}
