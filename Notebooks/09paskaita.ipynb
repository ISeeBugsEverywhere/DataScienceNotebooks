{
 "cells": [
  {
   "cell_type": "code",
   "execution_count": null,
   "metadata": {},
   "outputs": [],
   "source": [
    "# Parašyti funkciją, kuri patikrintų, ar duotas tekstas \n",
    "# yra palindromas (palindròmas (gr. palindromos – sugrįžtantis), žodis, \n",
    "# žodžių grupė, sakinys, posakis ar eilėraštis, \n",
    "# kuris skaitomas iš galo reiškia tą patį arba bent yra prasmingas.)\n",
    "#  sula - alus, ėmė, savas, sėdėk užu kėdės, level, Hanah.\n",
    "# Ignoruoti raidžių registrą.\n",
    "# Turi veikti ir su skaičiais (pvz 12321, 666, 85258, etc.)\n",
    "# Vieno skaitmens skaičiai neturi būti laikomi palindromais.\n",
    "# Minuso ženklą - kaip sugalvosite. Mokėti pagrįsti savo sprendimą."
   ]
  },
  {
   "cell_type": "code",
   "execution_count": 7,
   "metadata": {},
   "outputs": [
    {
     "data": {
      "text/plain": [
       "False"
      ]
     },
     "execution_count": 7,
     "metadata": {},
     "output_type": "execute_result"
    }
   ],
   "source": [
    "def is_pal(x):\n",
    "    r = str(x).lower().replace('-','')\n",
    "    p = r == r[::-1] if len(r) > 1 else False\n",
    "    return p\n",
    "\n",
    "is_pal('Hanahf')\n"
   ]
  },
  {
   "cell_type": "code",
   "execution_count": null,
   "metadata": {},
   "outputs": [],
   "source": [
    "# parašyti funkciją, kuri suskaičiuotų pateiktų skaičių aritmetinį vidurkį.\n",
    "# Skaičiai pateikiami per *args\n",
    "# skaičiai gali būti kaip tekstai: '1', '2', '3.45280'\n",
    "# jei bent vieno skaičiaus nesugebėjo konvertuoti: turi grąžinti tekstą '0f'\n",
    "# vidurkį pateikti visada 4rių ženklų tikslumu"
   ]
  },
  {
   "cell_type": "code",
   "execution_count": 13,
   "metadata": {},
   "outputs": [
    {
     "data": {
      "text/plain": [
       "'0f'"
      ]
     },
     "execution_count": 13,
     "metadata": {},
     "output_type": "execute_result"
    }
   ],
   "source": [
    "def avg(*args):\n",
    "    s = '0f'\n",
    "    try:\n",
    "        f = [float(i) for i in args]\n",
    "        s = round(sum(f)/len(f), 4)\n",
    "    except:\n",
    "        s = '0f'\n",
    "    return s\n",
    "\n",
    "avg()"
   ]
  },
  {
   "cell_type": "code",
   "execution_count": 2,
   "metadata": {},
   "outputs": [],
   "source": [
    "import os"
   ]
  },
  {
   "cell_type": "code",
   "execution_count": 3,
   "metadata": {},
   "outputs": [
    {
     "name": "stdout",
     "output_type": "stream",
     "text": [
      "/home/egis/VisualCodeProjects/DataScienceNotebooks/Notebooks\n"
     ]
    }
   ],
   "source": [
    "print(os.getcwd())"
   ]
  },
  {
   "cell_type": "code",
   "execution_count": 4,
   "metadata": {},
   "outputs": [
    {
     "name": "stdout",
     "output_type": "stream",
     "text": [
      "['Uzduotys 5.1.ipynb', 'delfi.txt', 'F1.txt', 'F3.txt', '05paskaita.ipynb', 'renamed.txt', '03paskaita.ipynb', '09paskaita.ipynb', '06paskaita.ipynb', '04paskaita.ipynb', 'pykodas.py', 'ats.txt', 'Skaityk.txt', 't.txt', '07paskaita.ipynb', '01Paskaita.ipynb', '02paskaita.ipynb', 'F2.txt', 'atsSk.txt', '08paskaita.ipynb']\n"
     ]
    }
   ],
   "source": [
    "failai = os.listdir()\n",
    "print(failai)"
   ]
  },
  {
   "cell_type": "code",
   "execution_count": 17,
   "metadata": {},
   "outputs": [
    {
     "name": "stdout",
     "output_type": "stream",
     "text": [
      "/home/egis/VisualCodeProjects/DataScienceNotebooks\n"
     ]
    }
   ],
   "source": [
    "os.chdir('..')\n",
    "print(os.getcwd())"
   ]
  },
  {
   "cell_type": "code",
   "execution_count": 18,
   "metadata": {},
   "outputs": [
    {
     "name": "stdout",
     "output_type": "stream",
     "text": [
      "['DATA', 'Notebooks', '.gitignore', '.git', 'Studentai']\n"
     ]
    }
   ],
   "source": [
    "failai = os.listdir()\n",
    "print(failai)"
   ]
  },
  {
   "cell_type": "code",
   "execution_count": 19,
   "metadata": {},
   "outputs": [],
   "source": [
    "os.chdir('Studentai')\n"
   ]
  },
  {
   "cell_type": "code",
   "execution_count": 20,
   "metadata": {},
   "outputs": [
    {
     "name": "stdout",
     "output_type": "stream",
     "text": [
      "/home/egis/VisualCodeProjects/DataScienceNotebooks/Studentai\n"
     ]
    }
   ],
   "source": [
    "print(os.getcwd())"
   ]
  },
  {
   "cell_type": "code",
   "execution_count": 21,
   "metadata": {},
   "outputs": [
    {
     "name": "stdout",
     "output_type": "stream",
     "text": [
      "/home/egis/VisualCodeProjects\n"
     ]
    }
   ],
   "source": [
    "os.chdir('../../')\n",
    "print(os.getcwd())"
   ]
  },
  {
   "cell_type": "code",
   "execution_count": 22,
   "metadata": {},
   "outputs": [
    {
     "name": "stdout",
     "output_type": "stream",
     "text": [
      "/home/egis/VisualCodeProjects/DataScienceNotebooks/Notebooks\n"
     ]
    }
   ],
   "source": [
    "os.chdir('DataScienceNotebooks/Notebooks/')\n",
    "print(os.getcwd())"
   ]
  },
  {
   "cell_type": "code",
   "execution_count": 23,
   "metadata": {},
   "outputs": [
    {
     "name": "stdout",
     "output_type": "stream",
     "text": [
      "['Uzduotys 5.1.ipynb', 'delfi.txt', 'F1.txt', 'F3.txt', '05paskaita.ipynb', '03paskaita.ipynb', '09paskaita.ipynb', '06paskaita.ipynb', '04paskaita.ipynb', 'pykodas.py', 'ats.txt', 'Skaityk.txt', 't.txt', '07paskaita.ipynb', '01Paskaita.ipynb', '02paskaita.ipynb', 'F2.txt', 'atsSk.txt', 'Failai', '08paskaita.ipynb']\n"
     ]
    }
   ],
   "source": [
    "os.mkdir('Failai')\n",
    "failai = os.listdir()\n",
    "print(failai)"
   ]
  },
  {
   "cell_type": "code",
   "execution_count": 24,
   "metadata": {},
   "outputs": [],
   "source": [
    "os.rmdir('Failai')"
   ]
  },
  {
   "cell_type": "code",
   "execution_count": 26,
   "metadata": {},
   "outputs": [
    {
     "name": "stdout",
     "output_type": "stream",
     "text": [
      "['Uzduotys 5.1.ipynb', 'delfi.txt', 'F1.txt', 'F3.txt', '05paskaita.ipynb', 'renamed.txt', '03paskaita.ipynb', '09paskaita.ipynb', '06paskaita.ipynb', '04paskaita.ipynb', 'pykodas.py', 'ats.txt', 'Skaityk.txt', 't.txt', '07paskaita.ipynb', '01Paskaita.ipynb', '02paskaita.ipynb', 'F2.txt', 'atsSk.txt', '08paskaita.ipynb']\n"
     ]
    }
   ],
   "source": [
    "failai = os.listdir()\n",
    "print(failai)"
   ]
  },
  {
   "cell_type": "code",
   "execution_count": 1,
   "metadata": {},
   "outputs": [
    {
     "name": "stdout",
     "output_type": "stream",
     "text": [
      "[]\n"
     ]
    }
   ],
   "source": [
    "import glob\n",
    "txts = glob.glob('*.png')\n",
    "print(txts)"
   ]
  },
  {
   "cell_type": "code",
   "execution_count": null,
   "metadata": {},
   "outputs": [],
   "source": []
  }
 ],
 "metadata": {
  "kernelspec": {
   "display_name": "Python 3",
   "language": "python",
   "name": "python3"
  },
  "language_info": {
   "codemirror_mode": {
    "name": "ipython",
    "version": 3
   },
   "file_extension": ".py",
   "mimetype": "text/x-python",
   "name": "python",
   "nbconvert_exporter": "python",
   "pygments_lexer": "ipython3",
   "version": "3.10.12"
  }
 },
 "nbformat": 4,
 "nbformat_minor": 2
}
