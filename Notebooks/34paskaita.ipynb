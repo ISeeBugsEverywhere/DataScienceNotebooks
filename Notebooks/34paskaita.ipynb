{
 "cells": [
  {
   "cell_type": "code",
   "execution_count": null,
   "metadata": {},
   "outputs": [],
   "source": [
    "# atsisiųskite visus \n",
    "#  duomenis iš \n",
    "# https://data.gov.lt/datasets/509/\n",
    "# \n",
    "# Užduotys:\n",
    "# nuskaitykite visus failus į pandas DF (vienas DF vienam failui)\n",
    "# Suraskite ir pateikite kitimą kas metus šių kriterijų:\n",
    "# Dalyvių kiekis kiekvienais metais\n",
    "# Apgadintų TP kiekis kas metus\n",
    "# Žuvusių kiekis kiekvienais metais\n",
    "#  Sužeistų kiekis kiekvienais metais\n",
    "# Neblaivių bei apsvaigusių kaltininkų kiekio kaita kas metus\n",
    "# Suraskite 3 populiariausias eismo įvykių schemas! 2023 metais (stulpelis schema2)\n",
    "# ir pavaizduokite kitimą kas metus.\n",
    "#  parodykite, kaip kito vyrų, moterų sukeltų EI kiekiai kas metus.\n",
    "# parodykite, kaip kito neblaivių vyrų, moterų sukeltų EI kiekiai kas metus\n",
    "\n",
    "\n",
    "# Kad būtų ką veikti - jei viską nuskaitysite taip paprastai į DF - python naudos ~ 3GB RAM.\n",
    "# Pagalvokite, ką galima ir kur optimizuoti."
   ]
  },
  {
   "cell_type": "code",
   "execution_count": 1,
   "metadata": {},
   "outputs": [],
   "source": [
    "# GMP duomenų analizė\n",
    "# https://open-data-ls-osp-sdg.hub.arcgis.com/datasets/b8d1b280f55e45b3b8596d833584c8e5_0/about\n",
    "# \n",
    "#  Klausimai:\n",
    "#  Ar buvo mėnesių, kurie išssikirtų gaisringumu?\n",
    "#  Ar buvo mėnesių, kurie išssikirtų didelių gaisrų kiekiu? (2 ir daugiau autocisternos važiuoja) \n",
    "\n",
    "#  kokios vyraujančios 5 GMP kvietimo priežastys? Pateikite procentinį įvertinimą.\n",
    "#  \n",
    "#  pateikite top 5-kias priežastis, dėl kurių buvo kviesta policija.\n",
    "#  Pateikite procentinį įvertinimą.\n",
    "\n",
    "#  Pasirinkite 1-ną policijos kvietimo priežastį iš TOP5 ir palyginkite su kvietimais dėl KET, \n",
    "# kiekvienam mėnesiui. Ar yra mėnesių, kada dėl KET kviečiama mažiau, \n",
    "# nei dėl jūsų pasirinktos priežasties?\n"
   ]
  }
 ],
 "metadata": {
  "kernelspec": {
   "display_name": "Python 3",
   "language": "python",
   "name": "python3"
  },
  "language_info": {
   "codemirror_mode": {
    "name": "ipython",
    "version": 3
   },
   "file_extension": ".py",
   "mimetype": "text/x-python",
   "name": "python",
   "nbconvert_exporter": "python",
   "pygments_lexer": "ipython3",
   "version": "3.10.12"
  }
 },
 "nbformat": 4,
 "nbformat_minor": 2
}
