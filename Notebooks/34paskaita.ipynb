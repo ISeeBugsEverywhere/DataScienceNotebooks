{
 "cells": [
  {
   "cell_type": "code",
   "execution_count": null,
   "metadata": {},
   "outputs": [],
   "source": [
    "# atsisiųskite visus \n",
    "#  duomenis iš \n",
    "# https://data.gov.lt/datasets/509/\n",
    "# \n",
    "# Užduotys:\n",
    "# nuskaitykite visus failus į pandas DF (vienas DF vienam failui)\n",
    "# Suraskite ir pateikite kitimą kas metus šių kriterijų:\n",
    "# Dalyvių kiekis kiekvienais metais\n",
    "# Apgadintų TP kiekis kas metus\n",
    "# Žuvusių kiekis kiekvienais metais\n",
    "#  Sužeistų kiekis kiekvienais metais\n",
    "# Neblaivių bei apsvaigusių kaltininkų kiekio kaita kas metus\n",
    "# Suraskite 3 populiariausias eismo įvykių schemas! 2023 metais (stulpelis schema2)\n",
    "# ir pavaizduokite kitimą kas metus.\n",
    "#  parodykite, kaip kito vyrų, moterų sukeltų EI kiekiai kas metus.\n",
    "# parodykite, kaip kito neblaivių vyrų, moterų sukeltų EI kiekiai kas metus\n",
    "\n",
    "\n",
    "# Kad būtų ką veikti - jei viską nuskaitysite taip paprastai į DF - python naudos ~ 3GB RAM.\n",
    "# Pagalvokite, ką galima ir kur optimizuoti."
   ]
  }
 ],
 "metadata": {
  "kernelspec": {
   "display_name": "Python 3",
   "language": "python",
   "name": "python3"
  },
  "language_info": {
   "codemirror_mode": {
    "name": "ipython",
    "version": 3
   },
   "file_extension": ".py",
   "mimetype": "text/x-python",
   "name": "python",
   "nbconvert_exporter": "python",
   "pygments_lexer": "ipython3",
   "version": "3.10.12"
  }
 },
 "nbformat": 4,
 "nbformat_minor": 2
}
