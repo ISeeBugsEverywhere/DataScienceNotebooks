{
 "cells": [
  {
   "cell_type": "code",
   "execution_count": 2,
   "metadata": {},
   "outputs": [],
   "source": [
    "import numpy as np\n",
    "import pandas as pd\n",
    "import matplotlib.pyplot as plt\n",
    "import warnings\n",
    "warnings.filterwarnings('ignore')\n",
    "import seaborn as sns\n",
    "import requests\n",
    "# import sqlite3\n",
    "# import mysql.connector as cnt\n",
    "# import plotly.express as px"
   ]
  },
  {
   "cell_type": "code",
   "execution_count": 3,
   "metadata": {},
   "outputs": [
    {
     "name": "stdout",
     "output_type": "stream",
     "text": [
      "200\n"
     ]
    }
   ],
   "source": [
    "url = 'https://api.meteo.lt/v1/stations'\n",
    "\n",
    "page = requests.get(url)\n",
    "status = page.status_code\n",
    "print(status)"
   ]
  },
  {
   "cell_type": "code",
   "execution_count": 6,
   "metadata": {},
   "outputs": [
    {
     "name": "stdout",
     "output_type": "stream",
     "text": [
      "<class 'list'>\n"
     ]
    }
   ],
   "source": [
    "r = page.json()\n",
    "print(type(r))"
   ]
  },
  {
   "cell_type": "code",
   "execution_count": 8,
   "metadata": {},
   "outputs": [
    {
     "data": {
      "text/html": [
       "<div>\n",
       "<style scoped>\n",
       "    .dataframe tbody tr th:only-of-type {\n",
       "        vertical-align: middle;\n",
       "    }\n",
       "\n",
       "    .dataframe tbody tr th {\n",
       "        vertical-align: top;\n",
       "    }\n",
       "\n",
       "    .dataframe thead th {\n",
       "        text-align: right;\n",
       "    }\n",
       "</style>\n",
       "<table border=\"1\" class=\"dataframe\">\n",
       "  <thead>\n",
       "    <tr style=\"text-align: right;\">\n",
       "      <th></th>\n",
       "      <th>code</th>\n",
       "      <th>name</th>\n",
       "      <th>coordinates</th>\n",
       "    </tr>\n",
       "  </thead>\n",
       "  <tbody>\n",
       "    <tr>\n",
       "      <th>0</th>\n",
       "      <td>akmenes-ams</td>\n",
       "      <td>Akmenės AMS</td>\n",
       "      <td>{'latitude': 56.24992, 'longitude': 22.73081}</td>\n",
       "    </tr>\n",
       "    <tr>\n",
       "      <th>1</th>\n",
       "      <td>alytaus-ams</td>\n",
       "      <td>Alytaus AMS</td>\n",
       "      <td>{'latitude': 54.412435, 'longitude': 24.063274}</td>\n",
       "    </tr>\n",
       "    <tr>\n",
       "      <th>2</th>\n",
       "      <td>anyksciu-ams</td>\n",
       "      <td>Anykščių AMS</td>\n",
       "      <td>{'latitude': 55.51735, 'longitude': 25.1178}</td>\n",
       "    </tr>\n",
       "    <tr>\n",
       "      <th>3</th>\n",
       "      <td>birstono-ams</td>\n",
       "      <td>Birštono AMS</td>\n",
       "      <td>{'latitude': 54.603217, 'longitude': 24.035802}</td>\n",
       "    </tr>\n",
       "    <tr>\n",
       "      <th>4</th>\n",
       "      <td>birzu-ams</td>\n",
       "      <td>Biržų AMS</td>\n",
       "      <td>{'latitude': 56.193191, 'longitude': 24.774184}</td>\n",
       "    </tr>\n",
       "    <tr>\n",
       "      <th>5</th>\n",
       "      <td>dotnuvos-ams</td>\n",
       "      <td>Dotnuvos AMS</td>\n",
       "      <td>{'latitude': 55.395993, 'longitude': 23.866224}</td>\n",
       "    </tr>\n",
       "    <tr>\n",
       "      <th>6</th>\n",
       "      <td>druskininku-ams</td>\n",
       "      <td>Druskininkų AMS</td>\n",
       "      <td>{'latitude': 54.018202, 'longitude': 23.980791}</td>\n",
       "    </tr>\n",
       "    <tr>\n",
       "      <th>7</th>\n",
       "      <td>duksto-ams</td>\n",
       "      <td>Dūkšto AMS</td>\n",
       "      <td>{'latitude': 55.517856, 'longitude': 26.31614}</td>\n",
       "    </tr>\n",
       "    <tr>\n",
       "      <th>8</th>\n",
       "      <td>elektrenu-ams</td>\n",
       "      <td>Elektrėnų AMS</td>\n",
       "      <td>{'latitude': 54.786161, 'longitude': 24.689854}</td>\n",
       "    </tr>\n",
       "    <tr>\n",
       "      <th>9</th>\n",
       "      <td>jonavos-ams</td>\n",
       "      <td>Jonavos AMS</td>\n",
       "      <td>{'latitude': 55.06913, 'longitude': 24.277147}</td>\n",
       "    </tr>\n",
       "    <tr>\n",
       "      <th>10</th>\n",
       "      <td>joniskio-ams</td>\n",
       "      <td>Joniškio AMS</td>\n",
       "      <td>{'latitude': 56.246354, 'longitude': 23.630755}</td>\n",
       "    </tr>\n",
       "    <tr>\n",
       "      <th>11</th>\n",
       "      <td>jurbarko-ams</td>\n",
       "      <td>Jurbarko AMS</td>\n",
       "      <td>{'latitude': 55.094064, 'longitude': 22.773518}</td>\n",
       "    </tr>\n",
       "    <tr>\n",
       "      <th>12</th>\n",
       "      <td>kaisiadoriu-ams</td>\n",
       "      <td>Kaišiadorių AMS</td>\n",
       "      <td>{'latitude': 54.856942, 'longitude': 24.437842}</td>\n",
       "    </tr>\n",
       "    <tr>\n",
       "      <th>13</th>\n",
       "      <td>kalvarijos-ams</td>\n",
       "      <td>Kalvarijos AMS</td>\n",
       "      <td>{'latitude': 54.421564, 'longitude': 23.216806}</td>\n",
       "    </tr>\n",
       "    <tr>\n",
       "      <th>14</th>\n",
       "      <td>kauno-ams</td>\n",
       "      <td>Kauno AMS</td>\n",
       "      <td>{'latitude': 54.88396, 'longitude': 23.83588}</td>\n",
       "    </tr>\n",
       "  </tbody>\n",
       "</table>\n",
       "</div>"
      ],
      "text/plain": [
       "               code             name  \\\n",
       "0       akmenes-ams      Akmenės AMS   \n",
       "1       alytaus-ams      Alytaus AMS   \n",
       "2      anyksciu-ams     Anykščių AMS   \n",
       "3      birstono-ams     Birštono AMS   \n",
       "4         birzu-ams        Biržų AMS   \n",
       "5      dotnuvos-ams     Dotnuvos AMS   \n",
       "6   druskininku-ams  Druskininkų AMS   \n",
       "7        duksto-ams       Dūkšto AMS   \n",
       "8     elektrenu-ams    Elektrėnų AMS   \n",
       "9       jonavos-ams      Jonavos AMS   \n",
       "10     joniskio-ams     Joniškio AMS   \n",
       "11     jurbarko-ams     Jurbarko AMS   \n",
       "12  kaisiadoriu-ams  Kaišiadorių AMS   \n",
       "13   kalvarijos-ams   Kalvarijos AMS   \n",
       "14        kauno-ams        Kauno AMS   \n",
       "\n",
       "                                        coordinates  \n",
       "0     {'latitude': 56.24992, 'longitude': 22.73081}  \n",
       "1   {'latitude': 54.412435, 'longitude': 24.063274}  \n",
       "2      {'latitude': 55.51735, 'longitude': 25.1178}  \n",
       "3   {'latitude': 54.603217, 'longitude': 24.035802}  \n",
       "4   {'latitude': 56.193191, 'longitude': 24.774184}  \n",
       "5   {'latitude': 55.395993, 'longitude': 23.866224}  \n",
       "6   {'latitude': 54.018202, 'longitude': 23.980791}  \n",
       "7    {'latitude': 55.517856, 'longitude': 26.31614}  \n",
       "8   {'latitude': 54.786161, 'longitude': 24.689854}  \n",
       "9    {'latitude': 55.06913, 'longitude': 24.277147}  \n",
       "10  {'latitude': 56.246354, 'longitude': 23.630755}  \n",
       "11  {'latitude': 55.094064, 'longitude': 22.773518}  \n",
       "12  {'latitude': 54.856942, 'longitude': 24.437842}  \n",
       "13  {'latitude': 54.421564, 'longitude': 23.216806}  \n",
       "14    {'latitude': 54.88396, 'longitude': 23.83588}  "
      ]
     },
     "execution_count": 8,
     "metadata": {},
     "output_type": "execute_result"
    }
   ],
   "source": [
    "df = pd.DataFrame(data=r)\n",
    "df.head(15)"
   ]
  },
  {
   "cell_type": "code",
   "execution_count": null,
   "metadata": {},
   "outputs": [],
   "source": [
    "# raskite meteo stotelę, kuri užfiksavo didžiausią oro temperatūrą esamuoju metu."
   ]
  },
  {
   "cell_type": "code",
   "execution_count": 10,
   "metadata": {},
   "outputs": [
    {
     "data": {
      "text/plain": [
       "'zarasu-ams'"
      ]
     },
     "execution_count": 10,
     "metadata": {},
     "output_type": "execute_result"
    }
   ],
   "source": [
    "df.iloc[-1, 0]"
   ]
  }
 ],
 "metadata": {
  "kernelspec": {
   "display_name": "Python 3",
   "language": "python",
   "name": "python3"
  },
  "language_info": {
   "codemirror_mode": {
    "name": "ipython",
    "version": 3
   },
   "file_extension": ".py",
   "mimetype": "text/x-python",
   "name": "python",
   "nbconvert_exporter": "python",
   "pygments_lexer": "ipython3",
   "version": "3.10.12"
  }
 },
 "nbformat": 4,
 "nbformat_minor": 2
}
