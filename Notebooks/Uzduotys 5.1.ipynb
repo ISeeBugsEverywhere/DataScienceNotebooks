{
 "cells": [
  {
   "cell_type": "code",
   "execution_count": 4,
   "metadata": {},
   "outputs": [
    {
     "name": "stdout",
     "output_type": "stream",
     "text": [
      "<class 'float'>\n",
      "<class 'int'>\n",
      "<class 'str'>\n",
      "<class 'list'>\n"
     ]
    }
   ],
   "source": [
    "# Isveskite kintamaji\n",
    "\n",
    "a = 3.0\n",
    "b = 4\n",
    "c = \"Python\"\n",
    "d = ['o', 3.0]\n",
    "\n",
    "print(type(a))\n",
    "print(type(b))\n",
    "print(type(c))\n",
    "print(type(d))\n",
    "\n",
    "\n",
    "# sprendimas:\n",
    "# a = 3.0\n",
    "# b = 4\n",
    "# c = \"Python\"\n",
    "# d = ['o', 3.0]\n",
    "# print(type(a))\n",
    "# print(type(b))\n",
    "# print(type(c))\n",
    "# print(type(d))"
   ]
  },
  {
   "cell_type": "code",
   "execution_count": 6,
   "metadata": {},
   "outputs": [
    {
     "name": "stdout",
     "output_type": "stream",
     "text": [
      "7.0 -1.0 12.0 0.75 0.0 3.0\n"
     ]
    }
   ],
   "source": [
    "# 1.0.2 Atlikti veiksmus su skaičiais.\n",
    "# Skaičiai: x = 5.0, y = 17.0. Atlikite šiuos veiksmus: sudėtį, atimtį, daugybą, dalybą,\n",
    "# raskite liekaną, dalinant y iš x, liekaną dalinant x iš y.\n",
    "\n",
    "x = 5.0 \n",
    "y = 17.0\n",
    "\n",
    "print(a+b,a-b,a*b,a/b,a//b,a%b)\n",
    "\n",
    "\n",
    "\n",
    "# x = 5.0\n",
    "# y = 17.0\n",
    "# #aritmetiniai veiksmai\n",
    "# print(x+y)\n",
    "# print(x-y)\n",
    "# print(x*y)\n",
    "# print(x/y)\n",
    "# print(x % y)\n",
    "# print(y % x) # liekanų radimas"
   ]
  },
  {
   "cell_type": "code",
   "execution_count": 8,
   "metadata": {},
   "outputs": [
    {
     "name": "stdout",
     "output_type": "stream",
     "text": [
      "13.0 -3.0 40.0 0.625 0.0 5.0\n"
     ]
    }
   ],
   "source": [
    "# .0.3 Atlikti veiksmus su vartotojo įvestais skaičiais a ir b.\n",
    "# Atlikite šiuos veiksmus: sudėtį, atimtį, daugybą, dalybą, raskite liekaną dalinant a i\n",
    "\n",
    "a = float(input('a'))\n",
    "b = float(input('a'))\n",
    "\n",
    "x = 5.0 \n",
    "y = 17.0\n",
    "\n",
    "print(a+b,a-b,a*b,a/b,a//b,a%b)\n",
    "\n",
    "\n",
    "# a = float(input(\"Įveskite a:\"))\n",
    "# b = float(input(\"Įveskite b:\"))\n",
    "# print(a+b)\n",
    "# print(a-b)\n",
    "# print(a*b)\n",
    "# print(a/b)\n",
    "# print(a % b) # liekanos radimas\n"
   ]
  },
  {
   "cell_type": "code",
   "execution_count": 11,
   "metadata": {},
   "outputs": [
    {
     "name": "stdout",
     "output_type": "stream",
     "text": [
      "nelyginis\n"
     ]
    }
   ],
   "source": [
    "# 1.0.4 Parašyti programą, kuri nurodytų, ar vartotojo įvestas skaičius yra lyginis,\n",
    "# ar nelyginis\n",
    "# Hint’as - operatorius %, funkcijos input(), float(). Naudoti if sakinį.\n",
    "\n",
    "a = float(input('skaicius'))\n",
    "\n",
    "if a % 2 == 0:\n",
    "    print('lyginis')\n",
    "else:\n",
    "    print('nelyginis')\n",
    "    \n",
    "    \n",
    "# x = float(input(\"Įveskite skaičių:\"))\n",
    "# if x % 2 == 0:\n",
    "# print(x, 'lyginis')\n",
    "# else:\n",
    "# print(x, 'nelyginis')\n",
    "\n"
   ]
  },
  {
   "cell_type": "code",
   "execution_count": 15,
   "metadata": {},
   "outputs": [
    {
     "name": "stdout",
     "output_type": "stream",
     "text": [
      "25.0\n",
      "aritmetinis vidurkis 6.25\n",
      "25.0 suma 6.25 vidurkis\n"
     ]
    }
   ],
   "source": [
    "# 1.0.5 Paklausti vartotojo skaičių a, b, c ir d.\n",
    "# Suraskite šių skaičių sumą bei aritmetinį vidurkį.\n",
    "\n",
    "a = float(input('skaicius1'))\n",
    "b = float(input('skaicius2'))\n",
    "c = float(input('skaicius3'))\n",
    "d = float(input('skaicius4'))\n",
    "\n",
    "print(a + b + c + d)\n",
    "print('aritmetinis vidurkis', ((a + b + c + d)/4))\n",
    "\n",
    "\n",
    "# a = float(input(\"Įveskite a:\"))\n",
    "# b = float(input(\"Įveskite b:\"))\n",
    "# c = float(input(\"Įveskite c:\"))\n",
    "# d = float(input(\"Įveskite d:\"))\n",
    "# suma = a + b + c + d\n",
    "# a_vid = suma/4\n",
    "# print(suma, \"suma\", a_vid, \"aritm. vidurkis\")\n",
    "\n",
    "# #kitas variantas:\n",
    "s = [a,b,c,d]\n",
    "suma = sum(s)\n",
    "avg = sum(s)/len(s)\n",
    "print(suma, \"suma\", avg, \"vidurkis\")"
   ]
  },
  {
   "cell_type": "code",
   "execution_count": 21,
   "metadata": {},
   "outputs": [
    {
     "name": "stdout",
     "output_type": "stream",
     "text": [
      "7\n",
      "LKDSMFLKDS DSLKFMLDS NNN SJD NFKSJ JSKNFD JSN lkdsmflkds dslkfmlds nnn sjd nfksj jsknfd jsn 45\n"
     ]
    }
   ],
   "source": [
    "# 1.0.6 Išvesti vartotojo įvestą tekstą.\n",
    "# Išvesti šį tekstą didžiosiomis, mažosiomis raidėmis. Išspausdinti, kiek tekste yra raidžių.\n",
    "# Suskaičiuoti, kiek tekste yra žodžių.\n",
    "\n",
    "a = str(input('Iveskite teksta'))\n",
    "zodziai = a.split()\n",
    "\n",
    "print(len(zodziai))\n",
    "print(a.upper(), a.lower(), len(a))\n",
    "\n",
    "# Sprendimas: \n",
    "# txt = input(\"Įveskite kokį nors tekstą:\")\n",
    "# print(txt)\n",
    "# print(txt.upper())\n",
    "# print(txt.lower())\n",
    "# print(len(txt), \"- tiek yra simbolių\")\n",
    "# print(len(txt.split()), \" - tiek yra žodžių\")\n"
   ]
  },
  {
   "cell_type": "code",
   "execution_count": 31,
   "metadata": {},
   "outputs": [
    {
     "name": "stdout",
     "output_type": "stream",
     "text": [
      "11\n"
     ]
    }
   ],
   "source": [
    "# 1.0.7 FizzBuzz programa.\n",
    "# Parašyti FizzBuzz programą - patikrinti įvestą vartotojo skaičių, ar jis yra dalus iš 3-jų, 5-kių\n",
    "# ar abiejų.\n",
    "# • Jei įvestas skaičius dalus iš 3 - spausdinti Fizz;\n",
    "# • Jei įvestas skaičius dalus iš 5 - spausdinti Buzz;\n",
    "# • Jei įvestas skaičius dalus iš 3 ir 5 - spausdinti FizzBuzz.\n",
    "# • Jei nesidalina iš nurodytų skaičių - spausdinti įvestą skaičių.\n",
    "\n",
    "a = int(input('Iveskite sveikaji skaiciu'))\n",
    "\n",
    "\n",
    "if a % 3 == 0 and a % 5 == 0: \n",
    "    print('FizzBuzz')\n",
    "elif a % 3 == 0:\n",
    "    print('Fizz')\n",
    "elif a % 5 == 0:\n",
    "    print('buzz')\n",
    "\n",
    "else:\n",
    "    print(a)\n",
    "\n",
    "\n",
    "# x = float(input(\"X?\"))\n",
    "# if x % 3.0 == 0 and x % 5.0 == 0:\n",
    "# print(\"FizzBuzz\")\n",
    "# elif x % 3.0 == 0:\n",
    "# print(\"Fizz\")\n",
    "# elif x % 5.0 == 0:\n",
    "# print(\"Buzz\")\n",
    "# else:\n",
    "# print(x, \"buvo įvestas\")"
   ]
  },
  {
   "cell_type": "code",
   "execution_count": null,
   "metadata": {},
   "outputs": [],
   "source": [
    "# 1.0.8 Duotas tekstas t = \"Vilnius – kaimas Kupiškio rajono\n",
    "# savivaldybėje, 10 km nuo Palėvenėlės.\"\n",
    "\n",
    "# Užduotis - išvesti pirmą, paskutinį žodžius. Išvesti penktojo žodžio paskutinius 5-kis simbo-\n",
    "# lius. Išvesti tekstą didžiosiomis, mažosiomis raidėmis. Išveskite kas antrą žodį.\n",
    "\n",
    "\n",
    "t = \"Vilnius – kaimas Kupiškio rajono savivaldybėje, 10 km nuo Palėvenėlės.\"\n"
   ]
  }
 ],
 "metadata": {
  "kernelspec": {
   "display_name": "Python 3",
   "language": "python",
   "name": "python3"
  },
  "language_info": {
   "codemirror_mode": {
    "name": "ipython",
    "version": 3
   },
   "file_extension": ".py",
   "mimetype": "text/x-python",
   "name": "python",
   "nbconvert_exporter": "python",
   "pygments_lexer": "ipython3",
   "version": "3.10.12"
  }
 },
 "nbformat": 4,
 "nbformat_minor": 2
}
