{
 "cells": [
  {
   "cell_type": "code",
   "execution_count": 1,
   "metadata": {},
   "outputs": [
    {
     "name": "stdout",
     "output_type": "stream",
     "text": [
      "06 paskaita\n"
     ]
    }
   ],
   "source": [
    "print('06 paskaita')"
   ]
  },
  {
   "cell_type": "code",
   "execution_count": 7,
   "metadata": {},
   "outputs": [
    {
     "data": {
      "text/plain": [
       "60480"
      ]
     },
     "execution_count": 7,
     "metadata": {},
     "output_type": "execute_result"
    }
   ],
   "source": [
    "def sandauga(*pos3):\n",
    "    s = 1\n",
    "    for i in pos3:\n",
    "        s = s*i\n",
    "    return s\n",
    "    \n",
    "\n",
    "sandauga(4,5,6,7,8,9)\n"
   ]
  },
  {
   "cell_type": "code",
   "execution_count": 15,
   "metadata": {},
   "outputs": [
    {
     "name": "stdout",
     "output_type": "stream",
     "text": [
      "1\n",
      "(2, 3, 4)\n",
      "7\n",
      "{'d': 7, 'f': 8, 'g': 32, 'answer': 42}\n"
     ]
    }
   ],
   "source": [
    "def fn(arg1, *args, arg2=5, **kwargs):\n",
    "    print(arg1)\n",
    "    print(args)\n",
    "    print(arg2)\n",
    "    print(kwargs)\n",
    "\n",
    "\n",
    "fn(1,2,3,4, arg2=7, d=7, f=8, g=32, answer=42)"
   ]
  },
  {
   "cell_type": "code",
   "execution_count": 18,
   "metadata": {},
   "outputs": [
    {
     "name": "stdout",
     "output_type": "stream",
     "text": [
      "3.0\n",
      "2.605171084697352\n",
      "fignia čia\n"
     ]
    }
   ],
   "source": [
    "# • Parašykite funkciją, kuri suskaičiuotų aritmetinį arba\n",
    "# geometrinį vidurkį iš pateiktų skaičių. Pateikiamų skaičių\n",
    "# kiekis neapibrėžtas. Panaudokite raktažodžius, kad\n",
    "# nurodytumėte, kokį vidurkį reikia apskaičiuoti.\n",
    "\n",
    "def vid(*args,v='a'):\n",
    "    if v == 'a':\n",
    "        return sum(args)/len(args)\n",
    "    elif v == 'g':\n",
    "        s = 1\n",
    "        for i in args:\n",
    "            s = s * i\n",
    "        return s**(1/len(args))\n",
    "    else:\n",
    "        return 'fignia čia'\n",
    "    \n",
    "\n",
    "print(vid(1,2,3,4,5))\n",
    "print(vid(1,2,3,4,5, v='g'))\n",
    "print(vid(1,2,3,4,5, v='f'))\n"
   ]
  },
  {
   "cell_type": "code",
   "execution_count": 19,
   "metadata": {},
   "outputs": [
    {
     "ename": "AssertionError",
     "evalue": "Dalyba iš nulio negalima!",
     "output_type": "error",
     "traceback": [
      "\u001b[0;31m---------------------------------------------------------------------------\u001b[0m",
      "\u001b[0;31mAssertionError\u001b[0m                            Traceback (most recent call last)",
      "Cell \u001b[0;32mIn[19], line 3\u001b[0m\n\u001b[1;32m      1\u001b[0m b \u001b[38;5;241m=\u001b[39m \u001b[38;5;241m5\u001b[39m\n\u001b[1;32m      2\u001b[0m a \u001b[38;5;241m=\u001b[39m \u001b[38;5;241m0\u001b[39m\n\u001b[0;32m----> 3\u001b[0m \u001b[38;5;28;01massert\u001b[39;00m a \u001b[38;5;241m!=\u001b[39m \u001b[38;5;241m0\u001b[39m, \u001b[38;5;124m'\u001b[39m\u001b[38;5;124mDalyba iš nulio negalima!\u001b[39m\u001b[38;5;124m'\u001b[39m\n\u001b[1;32m      4\u001b[0m \u001b[38;5;28mprint\u001b[39m(b\u001b[38;5;241m/\u001b[39ma)\n",
      "\u001b[0;31mAssertionError\u001b[0m: Dalyba iš nulio negalima!"
     ]
    }
   ],
   "source": [
    "b = 5\n",
    "a = 0\n",
    "assert a != 0, 'Dalyba iš nulio negalima!'\n",
    "print(b/a)"
   ]
  },
  {
   "cell_type": "code",
   "execution_count": 23,
   "metadata": {},
   "outputs": [
    {
     "data": {
      "text/plain": [
       "20"
      ]
     },
     "execution_count": 23,
     "metadata": {},
     "output_type": "execute_result"
    }
   ],
   "source": [
    "def plotas(x,y):\n",
    "    assert x > 0 and y > 0, 'matmenys negali būti neigiami!'\n",
    "    return x*y\n",
    "\n",
    "plotas(4,5)"
   ]
  },
  {
   "cell_type": "code",
   "execution_count": 30,
   "metadata": {},
   "outputs": [
    {
     "name": "stdout",
     "output_type": "stream",
     "text": [
      "8.0\n",
      "-5.0\n",
      "0.125\n",
      "-0.25\n"
     ]
    }
   ],
   "source": [
    "def root(x, n):\n",
    "    assert x > 0 or n % 2 == 1, 'Arba teigiamas X, arba nelyginis n!'\n",
    "    return round(abs(x**(1/n)), 9)*abs(x)/x\n",
    "\n",
    "print(root(64,2))\n",
    "print(root(-125,3))\n",
    "print(root(64,-2))\n",
    "print(root(-64,-3))"
   ]
  },
  {
   "cell_type": "code",
   "execution_count": 37,
   "metadata": {},
   "outputs": [
    {
     "name": "stdout",
     "output_type": "stream",
     "text": [
      "8.0\n",
      "-5.0\n",
      "-0.2\n"
     ]
    }
   ],
   "source": [
    "def root(x,n):\n",
    "    assert x>0 or n%2 == 1, 'Arba X teigiamas, arba n nelyginis!'\n",
    "    return round(abs(x**(1/n)), 9)*abs(x)/x\n",
    "\n",
    "print(root(64,2))\n",
    "print(root(-125,3))\n",
    "print(root(-125,-3))"
   ]
  },
  {
   "cell_type": "code",
   "execution_count": 41,
   "metadata": {},
   "outputs": [
    {
     "data": {
      "text/plain": [
       "<function __main__.<lambda>(x)>"
      ]
     },
     "execution_count": 41,
     "metadata": {},
     "output_type": "execute_result"
    }
   ],
   "source": [
    "def r(x):\n",
    "    return x**2\n",
    "\n",
    "lambda x : x**2"
   ]
  },
  {
   "cell_type": "code",
   "execution_count": 39,
   "metadata": {},
   "outputs": [
    {
     "name": "stdout",
     "output_type": "stream",
     "text": [
      "4\n"
     ]
    }
   ],
   "source": [
    "ret = lambda x: x**2\n",
    "print(ret(2))"
   ]
  },
  {
   "cell_type": "code",
   "execution_count": 46,
   "metadata": {},
   "outputs": [
    {
     "name": "stdout",
     "output_type": "stream",
     "text": [
      "[0.75, 1.75, 2.75, 3.75, 4.75, 5.75, 6.75, 7.75, 8.75]\n",
      "[1.25, 2.25, 3.25, 4.25, 5.25, 6.25, 7.25, 8.25, 9.25]\n"
     ]
    }
   ],
   "source": [
    "l = [1,2,3,4,5,6,7,8,9]\n",
    "def r(x):\n",
    "    return x-0.25\n",
    "\n",
    "def f(x):\n",
    "    return x+0.25\n",
    "\n",
    "ats = list(map(r, l))\n",
    "print(ats)\n",
    "ats2 = list(map(f,l))\n",
    "print(ats2)"
   ]
  },
  {
   "cell_type": "code",
   "execution_count": 49,
   "metadata": {},
   "outputs": [
    {
     "name": "stdout",
     "output_type": "stream",
     "text": [
      "(1, 2, 3)\n",
      "1\n",
      "2\n"
     ]
    }
   ],
   "source": [
    "def fn():\n",
    "    return 1,2,3\n",
    "\n",
    "ats = fn()\n",
    "print(ats)\n",
    "print(ats[0])\n",
    "print(ats[1])"
   ]
  },
  {
   "cell_type": "code",
   "execution_count": 50,
   "metadata": {},
   "outputs": [
    {
     "name": "stdout",
     "output_type": "stream",
     "text": [
      "1 3 2\n"
     ]
    }
   ],
   "source": [
    "kiekis, kodas, kaina = fn()\n",
    "print(kiekis, kaina, kodas)"
   ]
  },
  {
   "cell_type": "code",
   "execution_count": 52,
   "metadata": {},
   "outputs": [
    {
     "name": "stdout",
     "output_type": "stream",
     "text": [
      "1\n",
      "2\n",
      "[3, 4, 5]\n"
     ]
    }
   ],
   "source": [
    "def fn():\n",
    "    return 1,2,3,4,5\n",
    "\n",
    "kodas, kaina, *kas_liko = fn()\n",
    "print(kodas, kaina, kas_liko, sep='\\n')"
   ]
  },
  {
   "cell_type": "code",
   "execution_count": 53,
   "metadata": {},
   "outputs": [
    {
     "name": "stdout",
     "output_type": "stream",
     "text": [
      "4\n",
      "5\n",
      "[1, 2, 3]\n"
     ]
    }
   ],
   "source": [
    "*kas_liko, kodas, kaina = fn()\n",
    "print(kodas, kaina, kas_liko, sep='\\n')"
   ]
  },
  {
   "cell_type": "code",
   "execution_count": 57,
   "metadata": {},
   "outputs": [
    {
     "name": "stdout",
     "output_type": "stream",
     "text": [
      "1\n",
      "5\n",
      "[2, 3, 4]\n"
     ]
    }
   ],
   "source": [
    "kodas, *kas_liko, kaina = fn()\n",
    "print(kodas, kaina, kas_liko, sep='\\n')"
   ]
  },
  {
   "cell_type": "code",
   "execution_count": 58,
   "metadata": {},
   "outputs": [
    {
     "name": "stdout",
     "output_type": "stream",
     "text": [
      "['L', 'a', 'b', 'a', 's', ' ', 'r', 'y', 't', 'a', 's']\n"
     ]
    }
   ],
   "source": [
    "*raides, = 'Labas rytas'\n",
    "print(raides)"
   ]
  },
  {
   "cell_type": "code",
   "execution_count": 59,
   "metadata": {},
   "outputs": [
    {
     "name": "stdout",
     "output_type": "stream",
     "text": [
      "0.25\n"
     ]
    }
   ],
   "source": [
    "eilute = '0.25,1.25'\n",
    "xstr, ystr = eilute.split(',')\n",
    "print(xstr)"
   ]
  },
  {
   "cell_type": "code",
   "execution_count": 60,
   "metadata": {},
   "outputs": [
    {
     "name": "stdout",
     "output_type": "stream",
     "text": [
      "0,25\n"
     ]
    }
   ],
   "source": [
    "eilute = '0,25 C'\n",
    "t, dimensija = eilute.split()\n",
    "print(t)"
   ]
  },
  {
   "cell_type": "code",
   "execution_count": 61,
   "metadata": {},
   "outputs": [
    {
     "name": "stdout",
     "output_type": "stream",
     "text": [
      "1\n"
     ]
    }
   ],
   "source": [
    "l = [1,2.25,3]\n",
    "a, b, c = l\n",
    "print(a)"
   ]
  },
  {
   "cell_type": "code",
   "execution_count": 62,
   "metadata": {},
   "outputs": [
    {
     "name": "stdout",
     "output_type": "stream",
     "text": [
      "[0.75, 1.75, 2.75, 3.75, 4.75, 5.75, 6.75, 7.75, 8.75]\n",
      "[1.25, 2.25, 3.25, 4.25, 5.25, 6.25, 7.25, 8.25, 9.25]\n"
     ]
    }
   ],
   "source": [
    "l = [1,2,3,4,5,6,7,8,9]\n",
    "def r(x):\n",
    "    return x-0.25\n",
    "\n",
    "def f(x):\n",
    "    return x+0.25\n",
    "\n",
    "ats = list(map(r, l))\n",
    "print(ats)\n",
    "ats2 = list(map(f,l))\n",
    "print(ats2)"
   ]
  },
  {
   "cell_type": "code",
   "execution_count": 64,
   "metadata": {},
   "outputs": [
    {
     "name": "stdout",
     "output_type": "stream",
     "text": [
      "[0.75, 1.75, 2.75, 3.75, 4.75, 5.75, 6.75, 7.75, 8.75]\n",
      "[0.25, 0.5, 0.75, 1.0, 1.25, 1.5, 1.75, 2.0, 2.25]\n"
     ]
    }
   ],
   "source": [
    "l = [1,2,3,4,5,6,7,8,9]\n",
    "\n",
    "ats = list(map(lambda x: x-0.25, l))\n",
    "print(ats)\n",
    "ats = list(map(lambda x: x*0.25, l))\n",
    "print(ats)"
   ]
  },
  {
   "cell_type": "code",
   "execution_count": 65,
   "metadata": {},
   "outputs": [
    {
     "name": "stdout",
     "output_type": "stream",
     "text": [
      "[28, 46, 21, 40, 4, 14, 24, 46, 43, 32, 6, 11, 28, 42, 14, 39, 34, 42, 4, 20]\n"
     ]
    }
   ],
   "source": [
    "import random\n",
    "r = [random.randint(1,47) for i in range(20)]\n",
    "print(r)"
   ]
  },
  {
   "cell_type": "code",
   "execution_count": null,
   "metadata": {},
   "outputs": [],
   "source": [
    "# Sugeneruoti sąrašą, kur vieto lyginių skaičių būtų žodis 'Lyginis', \n",
    "# o vietoj nelyginių - tas pats nelyginis, pakeltas kubu."
   ]
  },
  {
   "cell_type": "code",
   "execution_count": 66,
   "metadata": {},
   "outputs": [
    {
     "name": "stdout",
     "output_type": "stream",
     "text": [
      "[19683, 'Lyginis', 'Lyginis', 29791, 'Lyginis', 59319, 'Lyginis', 'Lyginis', 'Lyginis', 3375, 9261, 27, 59319, 'Lyginis', 29791, 'Lyginis', 35937, 'Lyginis', 'Lyginis', 27]\n"
     ]
    }
   ],
   "source": [
    "r = [random.randint(1,47) for i in range(20)]\n",
    "ats=list(map(lambda x: 'Lyginis' if x%2 == 0 else x**3, r))\n",
    "print(ats)"
   ]
  },
  {
   "cell_type": "code",
   "execution_count": null,
   "metadata": {},
   "outputs": [],
   "source": [
    "# tas pats skaičių sąrašas r. Sugeneruokite naują sąrašą, kuriame būtų vietoj skaičių \n",
    "# žodžiai Fizz, Buzz, FizzBuzz arba pats skaičius, \n",
    "# pagal FizzBuzz užduoties sąlygas (dalus iš 3jų, 5kių, iš 3jų ir iš 5kių, nedalus)"
   ]
  },
  {
   "cell_type": "code",
   "execution_count": 67,
   "metadata": {},
   "outputs": [
    {
     "name": "stdout",
     "output_type": "stream",
     "text": [
      "['Fizz', 2, 'FizzBuzz', 47, 'Buzz', 'Buzz', 'Buzz', 1, 7, 37, 'Buzz', 'Buzz', 19, 'FizzBuzz', 'Fizz', 16, 'Buzz', 43, 11, 'Fizz']\n"
     ]
    }
   ],
   "source": [
    "r = [random.randint(1,47) for i in range(20)]\n",
    "ats = list(map(lambda x: 'FizzBuzz' if x%3==0 and x%5 == 0 else 'Fizz' if x%3==0 else 'Buzz' if x%5 == 0 else x, r))\n",
    "print(ats)"
   ]
  },
  {
   "cell_type": "code",
   "execution_count": 68,
   "metadata": {},
   "outputs": [
    {
     "name": "stdout",
     "output_type": "stream",
     "text": [
      "['Lyginis', 'Lyginis', 'Lyginis', 343, 35937, 'Lyginis', 15625, 9261, 'Lyginis', 'Lyginis', 125, 343, 'Lyginis', 'Lyginis', 24389, 'Lyginis', 'Lyginis', 19683, 79507, 103823]\n"
     ]
    }
   ],
   "source": [
    "r = [random.randint(1,47) for i in range(20)]\n",
    "\n",
    "def f(x):\n",
    "    if x%2 == 0:\n",
    "        return 'Lyginis'\n",
    "    else:\n",
    "        return x**3\n",
    "    \n",
    "ats = list(map(f,r))\n",
    "print(ats)"
   ]
  },
  {
   "cell_type": "code",
   "execution_count": 69,
   "metadata": {},
   "outputs": [
    {
     "name": "stdout",
     "output_type": "stream",
     "text": [
      "[34, 43, 47, 'Fizz', 13, 37, 'Fizz', 'FizzBuzz', 'FizzBuzz', 23, 19, 'Buzz', 22, 38, 19, 'Buzz', 47, 2, 43, 44]\n"
     ]
    }
   ],
   "source": [
    "r = [random.randint(1,47) for i in range(20)]\n",
    "\n",
    "def f(x):\n",
    "    if x %3 == 0 and x%5 == 0:\n",
    "        return 'FizzBuzz'\n",
    "    elif x %3 == 0:\n",
    "        return 'Fizz'\n",
    "    elif x %5 == 0:\n",
    "        return 'Buzz'\n",
    "    else:\n",
    "        return x\n",
    "    \n",
    "ats = list(map(f,r))\n",
    "print(ats)"
   ]
  },
  {
   "cell_type": "code",
   "execution_count": 70,
   "metadata": {},
   "outputs": [
    {
     "data": {
      "text/plain": [
       "9"
      ]
     },
     "execution_count": 70,
     "metadata": {},
     "output_type": "execute_result"
    }
   ],
   "source": [
    "def f(*args):\n",
    "    s = 0\n",
    "    for sk in args:\n",
    "        if type(sk) is str:\n",
    "            s = s + len(sk)\n",
    "        else:\n",
    "            s = s + sk\n",
    "    return s\n",
    "\n",
    "f(1,3,'labas')"
   ]
  }
 ],
 "metadata": {
  "kernelspec": {
   "display_name": "Python 3",
   "language": "python",
   "name": "python3"
  },
  "language_info": {
   "codemirror_mode": {
    "name": "ipython",
    "version": 3
   },
   "file_extension": ".py",
   "mimetype": "text/x-python",
   "name": "python",
   "nbconvert_exporter": "python",
   "pygments_lexer": "ipython3",
   "version": "3.10.12"
  }
 },
 "nbformat": 4,
 "nbformat_minor": 2
}
