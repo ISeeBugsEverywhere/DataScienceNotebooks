{
 "cells": [
  {
   "cell_type": "code",
   "execution_count": 1,
   "metadata": {},
   "outputs": [
    {
     "name": "stdout",
     "output_type": "stream",
     "text": [
      "02 paskaita\n"
     ]
    }
   ],
   "source": [
    "# antra paskaita\n",
    "print('02 paskaita')"
   ]
  },
  {
   "cell_type": "code",
   "execution_count": 2,
   "metadata": {},
   "outputs": [],
   "source": [
    "a = 2"
   ]
  },
  {
   "cell_type": "code",
   "execution_count": 3,
   "metadata": {},
   "outputs": [
    {
     "name": "stdout",
     "output_type": "stream",
     "text": [
      "2\n"
     ]
    }
   ],
   "source": [
    "print(a)"
   ]
  },
  {
   "cell_type": "code",
   "execution_count": null,
   "metadata": {},
   "outputs": [],
   "source": [
    "# • Priskirkite savo pasirinktus skaičius kintamiesiems\n",
    "# • Raskite šių skaičių sandaugą, pakelkite juos savo pasirinktu\n",
    "# laipsniu;\n",
    "# • Ištraukite iš šių skaičių pasirinkto laipsnio šaknį\n",
    "# • Suraskite šių skaičių dalybos liekaną (dalinkite didesnį iš\n",
    "# mažesnio)"
   ]
  },
  {
   "cell_type": "markdown",
   "metadata": {},
   "source": [
    "$\\sqrt[n]{x} = x^{1/n}$"
   ]
  },
  {
   "cell_type": "code",
   "execution_count": 13,
   "metadata": {},
   "outputs": [
    {
     "name": "stdout",
     "output_type": "stream",
     "text": [
      "35 78125 2.23606797749979 2\n"
     ]
    }
   ],
   "source": [
    "a = 5\n",
    "b = 7\n",
    "print(a*b, a**b, a**(1/2), b%a)"
   ]
  },
  {
   "cell_type": "code",
   "execution_count": null,
   "metadata": {},
   "outputs": [],
   "source": [
    "# • Suskaičiuoti, kiek simbolių yra jūsų varde, pavardėje.\n",
    "# • Suskaičiuoti, kiek simbolių yra pačio pirmojo delfi.lt straipsnio\n",
    "# antraštėje\n",
    "# • Pakeisti visas raides į mažąsias jūsų varde. Ir į didžiąsias ;).\n",
    "# • Iš delfi antraštės atrinkite pirmus 10 simbolių; paskutinius\n",
    "# 10; kas antrą; iškirpkite tekstą nuo 10-to iki 20-to simbolių;\n",
    "# • Kiek delfi antraštėje yra \"a\" simbolių? Kurioje pozicijoje yra\n",
    "# pirmąkart sutinkamas šis simbolis?\n",
    "# • Iš teksto txt=\"Labas rytas!\" išveskite tekstą be pirmo\n",
    "# simbolio; be paskutinio; be pirmo ir be paskutinio;\n",
    "\n"
   ]
  },
  {
   "cell_type": "code",
   "execution_count": 11,
   "metadata": {},
   "outputs": [
    {
     "name": "stdout",
     "output_type": "stream",
     "text": [
      "4\n",
      "140\n",
      "EGIS egis\n",
      "Egidija ti\n",
      "delfi.lt/\n",
      "\n",
      "Eiiatkn:tipt knasa rlopteaa  ebjtnitp rjs aao iu\n",
      "Satkt aga:hts/wwdlil/\n",
      "ikina: tai \n",
      "18 6\n",
      "abas rytas!\n",
      "Labas rytas\n",
      "abas rytas\n"
     ]
    }
   ],
   "source": [
    "vardas = 'Egis'\n",
    "ats = len(vardas)\n",
    "print(ats)\n",
    "\n",
    "delfi = '''Egidija tikina: tai pats skaniausias grilio patiekalas – neabejotinai taps ir jūsų vasaros hitu!\n",
    "\n",
    "Skaitykite daugiau: https://www.delfi.lt/\n",
    "'''\n",
    "\n",
    "print(len(delfi))\n",
    "print(vardas.upper(), vardas.lower())\n",
    "\n",
    "print(delfi[:10])\n",
    "print(delfi[-10:])\n",
    "print(delfi[::2])\n",
    "\n",
    "print(delfi[9:20])\n",
    "\n",
    "print(delfi.count('a'), delfi.index('a'))\n",
    "\n",
    "txt=\"Labas rytas!\"\n",
    "\n",
    "print(txt[1:])\n",
    "print(txt[:-1])\n",
    "print(txt[1:-1])\n",
    "\n"
   ]
  },
  {
   "cell_type": "code",
   "execution_count": 16,
   "metadata": {},
   "outputs": [
    {
     "name": "stdout",
     "output_type": "stream",
     "text": [
      "42\n",
      "labas\n",
      "print fukcijos veikimo demonstracija\n"
     ]
    }
   ],
   "source": [
    "t = 42\n",
    "l = 'labas'\n",
    "print(t,l, 'print fukcijos veikimo demonstracija', sep='\\n')"
   ]
  },
  {
   "cell_type": "code",
   "execution_count": 17,
   "metadata": {},
   "outputs": [
    {
     "name": "stdout",
     "output_type": "stream",
     "text": [
      "labas rytas nor dabar yra vakaras\n"
     ]
    }
   ],
   "source": [
    "# input()\n",
    "ats_inputo = input()\n",
    "print(ats_inputo)"
   ]
  },
  {
   "cell_type": "code",
   "execution_count": 18,
   "metadata": {},
   "outputs": [
    {
     "name": "stdout",
     "output_type": "stream",
     "text": [
      "7\n"
     ]
    }
   ],
   "source": [
    "ats = input('Įveskite skaičių [1-10]')\n",
    "print(ats)"
   ]
  },
  {
   "cell_type": "code",
   "execution_count": 19,
   "metadata": {},
   "outputs": [
    {
     "name": "stdout",
     "output_type": "stream",
     "text": [
      "7777777\n"
     ]
    }
   ],
   "source": [
    "ats = input('Įveskite skaičių [1-10]')\n",
    "print(ats*7)"
   ]
  },
  {
   "cell_type": "code",
   "execution_count": 21,
   "metadata": {},
   "outputs": [
    {
     "name": "stdout",
     "output_type": "stream",
     "text": [
      "skaičius yra toks: 5\n"
     ]
    }
   ],
   "source": [
    "a = 5\n",
    "b = \"skaičius yra toks: \"\n",
    "print(b+str(a))"
   ]
  },
  {
   "cell_type": "code",
   "execution_count": 30,
   "metadata": {},
   "outputs": [
    {
     "name": "stdout",
     "output_type": "stream",
     "text": [
      "38.5\n"
     ]
    }
   ],
   "source": [
    "ats = input('Įveskite skaičių [1-10]')\n",
    "ats = float(ats.replace(',','.'))\n",
    "print(ats*7)\n"
   ]
  },
  {
   "cell_type": "code",
   "execution_count": 37,
   "metadata": {},
   "outputs": [
    {
     "name": "stdout",
     "output_type": "stream",
     "text": [
      "Prekė kainavo 50 €, iš kurių 7.5 teko valstybei.\n"
     ]
    }
   ],
   "source": [
    "# format metodas\n",
    "\n",
    "print(\"Prekė kainavo {} €, iš kurių {} teko valstybei.\".format(50, 7.5))"
   ]
  },
  {
   "cell_type": "code",
   "execution_count": 42,
   "metadata": {},
   "outputs": [
    {
     "name": "stdout",
     "output_type": "stream",
     "text": [
      "Prekė kainavo 10.12 €\n"
     ]
    }
   ],
   "source": [
    "txt = \"Prekė kainavo {:.2f} €\"\n",
    "print(txt.format(10.123456789))"
   ]
  },
  {
   "cell_type": "code",
   "execution_count": 44,
   "metadata": {},
   "outputs": [
    {
     "name": "stdout",
     "output_type": "stream",
     "text": [
      "A banko klientai yra lojalesni už 2 banko klientus  maždaug B kartus\n"
     ]
    }
   ],
   "source": [
    "txt = \"{0} banko klientai yra lojalesni už {2} banko klientus  maždaug {1} kartus\"\n",
    "print(txt.format('A', 'B', 2))"
   ]
  },
  {
   "cell_type": "code",
   "execution_count": 45,
   "metadata": {},
   "outputs": [
    {
     "name": "stdout",
     "output_type": "stream",
     "text": [
      "SWED banko klientai yra lojalesni už SEB banko klientus  maždaug 5 kartus\n"
     ]
    }
   ],
   "source": [
    "txt = \"{A} banko klientai yra lojalesni už {B} banko klientus  maždaug {C} kartus\"\n",
    "print(txt.format(C=5,A='SWED',B='SEB'))"
   ]
  },
  {
   "cell_type": "code",
   "execution_count": 48,
   "metadata": {},
   "outputs": [
    {
     "name": "stdout",
     "output_type": "stream",
     "text": [
      "Čia 42 random 42 tekstas su keliais -42\n"
     ]
    }
   ],
   "source": [
    "txt = \"Čia {A} random {A} tekstas su keliais {B}\"\n",
    "print(txt.format(A=42, B=-42))"
   ]
  },
  {
   "cell_type": "code",
   "execution_count": null,
   "metadata": {},
   "outputs": [],
   "source": [
    "# • Atlikite užduotis su skaičiais iš skaidrės (23). Šįkart skaičius\n",
    "# turi įvesti vartotojas.\n",
    "# • Išvestį suformatuokite taip, jog išvestų įvestus skačius, atlikto\n",
    "# veiksmo pavadinimą, pateiktų veiksmo rezultatą.\n",
    "# Rezultatams parodyti panaudokite skirtingus skaičių\n",
    "# atvaizdavimo formatus.\n",
    "# • Parašykite kodą, kuris atrinktų simbolius iš teksto (įvedamo\n",
    "# vartotojo). Rėžius (nuo - iki) taip pat turi nurodyti vartotojas."
   ]
  },
  {
   "cell_type": "code",
   "execution_count": 53,
   "metadata": {},
   "outputs": [
    {
     "name": "stdout",
     "output_type": "stream",
     "text": [
      "Sudėtis šių skaičių 5, 6, atsakymas 11.00\n"
     ]
    }
   ],
   "source": [
    "a =  int(input('nuo?'))\n",
    "b = int(input('iki?'))\n",
    "\n",
    "print('Sudėtis šių skaičių {a}, {b}, atsakymas {c:.2f}'.format(a=a,b=b,c=a+b))"
   ]
  },
  {
   "cell_type": "code",
   "execution_count": 55,
   "metadata": {},
   "outputs": [
    {
     "name": "stdout",
     "output_type": "stream",
     "text": [
      "sjfopqwer gl;\n"
     ]
    }
   ],
   "source": [
    "txt = input('tekstas?')\n",
    "a = int(input('nuo?'))\n",
    "b = int(input('iki?'))\n",
    "print(txt[a:b])"
   ]
  },
  {
   "cell_type": "code",
   "execution_count": 59,
   "metadata": {},
   "outputs": [
    {
     "name": "stdout",
     "output_type": "stream",
     "text": [
      "Dabar yra 2024 metai\n",
      "Dabar yra 2024 metai, 6 mėnuo\n"
     ]
    }
   ],
   "source": [
    "year = 2024\n",
    "t = f'Dabar yra {year} metai'\n",
    "print(t)\n",
    "month = 6\n",
    "t2 = f'Dabar yra {year} metai, {month} mėnuo'\n",
    "print(t2)"
   ]
  },
  {
   "cell_type": "code",
   "execution_count": 61,
   "metadata": {},
   "outputs": [
    {
     "name": "stdout",
     "output_type": "stream",
     "text": [
      "14 - sudėties rezultatas\n"
     ]
    }
   ],
   "source": [
    "#veiksmai f-stringe:\n",
    "sk = 12\n",
    "a = f'{sk+2} - sudėties rezultatas'\n",
    "print(a)"
   ]
  },
  {
   "cell_type": "code",
   "execution_count": 62,
   "metadata": {},
   "outputs": [
    {
     "name": "stdout",
     "output_type": "stream",
     "text": [
      "___1.00___| liekanos operatoriaus rezultatas\n"
     ]
    }
   ],
   "source": [
    "a = int(input('Įveskite skaičių'))\n",
    "answer = f'{a %2:_^10.2f}| liekanos operatoriaus rezultatas'\n",
    "print(answer)"
   ]
  },
  {
   "cell_type": "code",
   "execution_count": 70,
   "metadata": {},
   "outputs": [
    {
     "name": "stdout",
     "output_type": "stream",
     "text": [
      "2         | liekanos operatoriaus rezultatas\n"
     ]
    }
   ],
   "source": [
    "a = 17\n",
    "answer = f'{a %3:<10}| liekanos operatoriaus rezultatas'\n",
    "print(answer)"
   ]
  },
  {
   "cell_type": "code",
   "execution_count": 71,
   "metadata": {},
   "outputs": [
    {
     "name": "stdout",
     "output_type": "stream",
     "text": [
      "k=5\n"
     ]
    }
   ],
   "source": [
    "k = 5\n",
    "print(f'{k=}')"
   ]
  },
  {
   "cell_type": "code",
   "execution_count": 72,
   "metadata": {},
   "outputs": [
    {
     "data": {
      "text/plain": [
       "True"
      ]
     },
     "execution_count": 72,
     "metadata": {},
     "output_type": "execute_result"
    }
   ],
   "source": [
    "k == 5"
   ]
  },
  {
   "cell_type": "code",
   "execution_count": 73,
   "metadata": {},
   "outputs": [
    {
     "data": {
      "text/plain": [
       "False"
      ]
     },
     "execution_count": 73,
     "metadata": {},
     "output_type": "execute_result"
    }
   ],
   "source": [
    "not k == 5"
   ]
  },
  {
   "cell_type": "code",
   "execution_count": 76,
   "metadata": {},
   "outputs": [
    {
     "name": "stdout",
     "output_type": "stream",
     "text": [
      "True\n"
     ]
    }
   ],
   "source": [
    "txt = \"`Brave New World` - utopija\"\n",
    "print('New' in txt)"
   ]
  },
  {
   "cell_type": "code",
   "execution_count": 78,
   "metadata": {},
   "outputs": [
    {
     "name": "stdout",
     "output_type": "stream",
     "text": [
      "False\n"
     ]
    }
   ],
   "source": [
    "ats = 5 > 3**2*2 / 2 + 4 and 7 <  2 + 4*1**2  or 15 == 225**1/2\n",
    "print(ats)"
   ]
  },
  {
   "cell_type": "code",
   "execution_count": 79,
   "metadata": {},
   "outputs": [
    {
     "name": "stdout",
     "output_type": "stream",
     "text": [
      "<class 'str'> True\n",
      "<class 'list'> True\n",
      "<class 'dict'> True\n",
      "<class 'set'> True\n",
      "<class 'float'> True\n",
      "<class 'int'> True\n",
      "<class 'tuple'> True\n"
     ]
    }
   ],
   "source": [
    "s = 'A'\n",
    "lst = []\n",
    "dct = {}\n",
    "sets = set()\n",
    "flt = 1.0\n",
    "intgr = 7\n",
    "tpl = (7,)\n",
    "print(type(s), type(s) is str)\n",
    "print(type(lst), type(lst) is list)\n",
    "print(type(dct), type(dct) is dict)\n",
    "print(type(sets), type(sets) is set)\n",
    "print(type(flt), type(flt) is float)\n",
    "print(type(intgr), type(intgr) is int)\n",
    "print(type(tpl), type(tpl) is tuple)"
   ]
  },
  {
   "cell_type": "code",
   "execution_count": 81,
   "metadata": {},
   "outputs": [
    {
     "name": "stdout",
     "output_type": "stream",
     "text": [
      "False\n",
      "True\n"
     ]
    }
   ],
   "source": [
    "a = 15\n",
    "print(a is int)\n",
    "print(type(a) is int)"
   ]
  },
  {
   "cell_type": "code",
   "execution_count": 91,
   "metadata": {},
   "outputs": [
    {
     "name": "stdout",
     "output_type": "stream",
     "text": [
      "a daugiau už b\n",
      "a tikrai daugiau už b\n",
      "garantuotai a daugiau už b\n"
     ]
    }
   ],
   "source": [
    "a = 15\n",
    "b = 7\n",
    "\n",
    "if a > b:\n",
    "    print(\"a daugiau už b\")\n",
    "    print('a tikrai daugiau už b')\n",
    "    print('garantuotai a daugiau už b')\n",
    "else:\n",
    "    print(\"ELSE\")"
   ]
  },
  {
   "cell_type": "code",
   "execution_count": 97,
   "metadata": {},
   "outputs": [
    {
     "data": {
      "text/plain": [
       "False"
      ]
     },
     "execution_count": 97,
     "metadata": {},
     "output_type": "execute_result"
    }
   ],
   "source": [
    "'7777'.isupper()"
   ]
  },
  {
   "cell_type": "code",
   "execution_count": 98,
   "metadata": {},
   "outputs": [
    {
     "name": "stdout",
     "output_type": "stream",
     "text": [
      "didž\n",
      "Buvo ne vien tik skaičiai arba išvis be skaičių\n"
     ]
    }
   ],
   "source": [
    "txt = input('?')\n",
    "\n",
    "if txt.isupper():\n",
    "    print('didž')\n",
    "else:\n",
    "    print('maž')\n",
    "\n",
    "if txt.isnumeric():\n",
    "    print('Buvo vien tik skaičiai')\n",
    "else:\n",
    "    print('Buvo ne vien tik skaičiai arba išvis be skaičių')"
   ]
  }
 ],
 "metadata": {
  "kernelspec": {
   "display_name": "Python 3",
   "language": "python",
   "name": "python3"
  },
  "language_info": {
   "codemirror_mode": {
    "name": "ipython",
    "version": 3
   },
   "file_extension": ".py",
   "mimetype": "text/x-python",
   "name": "python",
   "nbconvert_exporter": "python",
   "pygments_lexer": "ipython3",
   "version": "3.10.12"
  }
 },
 "nbformat": 4,
 "nbformat_minor": 2
}
