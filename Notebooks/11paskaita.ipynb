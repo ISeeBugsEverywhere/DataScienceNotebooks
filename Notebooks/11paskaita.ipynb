{
 "cells": [
  {
   "cell_type": "code",
   "execution_count": 1,
   "metadata": {},
   "outputs": [
    {
     "name": "stdout",
     "output_type": "stream",
     "text": [
      "11 paskaita\n"
     ]
    }
   ],
   "source": [
    "print('11 paskaita')"
   ]
  },
  {
   "cell_type": "code",
   "execution_count": 4,
   "metadata": {},
   "outputs": [
    {
     "name": "stdout",
     "output_type": "stream",
     "text": [
      "‾|\n",
      " ‾|\n",
      "  ‾|\n",
      "   ‾|\n",
      "    ‾|\n",
      "     ‾|\n",
      "      ‾|\n",
      "       ‾|\n",
      "        ‾|\n"
     ]
    }
   ],
   "source": [
    "# vartotojas įveda skaičių n\n",
    "# jūsų funkcija! turi spausdinti \"laiptus\" iš simbolių | ir ‾\n",
    "# pvz įvesta 4:\n",
    "# ‾|\n",
    "#  ‾|\n",
    "#   ‾|\n",
    "#    ‾|\n",
    "\n",
    "def stairs(n):\n",
    "    s = '‾|'\n",
    "    f = '\\n'.join([' '*(i-1)+s for i in range(1,n+1)])\n",
    "    return f # arba, kad tiksliai palei sąlygą: print(f)\n",
    "    \n",
    "print(stairs(9))"
   ]
  },
  {
   "cell_type": "code",
   "execution_count": 12,
   "metadata": {},
   "outputs": [
    {
     "name": "stdout",
     "output_type": "stream",
     "text": [
      "['La', 'ba', 's_']\n",
      "['ab', 'c_']\n",
      "['ab', 'cd', 'ef']\n"
     ]
    }
   ],
   "source": [
    "#parašyti funkciją:\n",
    "#teskto skaidymas į sąrašą po porą simbolių.\n",
    "# jei tekstas yra iš nelyginio simbolių kiekio - trūkstamas simbolis keičiamas _\n",
    "# pvz 'abc' => ['ab', 'c_']\n",
    "# 'abcdef' => ['ab', 'cd', 'ef']\n",
    "\n",
    "def split(s):\n",
    "    ats = []\n",
    "    if len(s) % 2 != 0:\n",
    "        s = s + '_'\n",
    "    for r in range(0,len(s),2):\n",
    "        ats.append(s[r]+s[r+1])\n",
    "    return ats\n",
    "\n",
    "print(split('Labas'))\n",
    "print(split('abc'))\n",
    "print(split('abcdef'))"
   ]
  },
  {
   "cell_type": "code",
   "execution_count": 10,
   "metadata": {},
   "outputs": [
    {
     "data": {
      "text/plain": [
       "[0, 2, 4, 6, 8, 10, 12]"
      ]
     },
     "execution_count": 10,
     "metadata": {},
     "output_type": "execute_result"
    }
   ],
   "source": [
    "list(range(0, 14, 2))"
   ]
  },
  {
   "cell_type": "code",
   "execution_count": 29,
   "metadata": {},
   "outputs": [
    {
     "name": "stdout",
     "output_type": "stream",
     "text": [
      "[0, 1, 153, 370, 371, 407]\n"
     ]
    }
   ],
   "source": [
    "# Parašyti funkciją, kuri atrinktų \"kubinius\" skaičius iš intervalo [0-10000]\n",
    "#  \"kubinis\" skaičius - tai kurio skaitmenų kubų suma yra lygi pačiam skaičiui:\n",
    "#  pvz 153 = 1^3+5^3+3^3 => 153 yra \"kubinis\"\n",
    "# \n",
    "#  visus rastus skaičius pateikite kaip sąrašą (list)\n",
    "\n",
    "def cubic(x, p=3):\n",
    "    xf = int(x)\n",
    "    xs = str(x)\n",
    "    cubs = [int(i)**p for i in xs]\n",
    "    if sum(cubs) == xf:\n",
    "        return True\n",
    "    else:\n",
    "        return False\n",
    "    \n",
    "cubs = [i for i in range(0,10001) if cubic(i)]\n",
    "print(cubs)"
   ]
  },
  {
   "cell_type": "code",
   "execution_count": 28,
   "metadata": {},
   "outputs": [
    {
     "name": "stdout",
     "output_type": "stream",
     "text": [
      "151818768342934400477643849119323430926151558856856992403683167623338788231703972923580376294407758224716970609036631952126032917589155117426259699021159982446553631691886968789495086508289825736189303228342402494185117852445704145227336795895665770451490073785285941356369136270458927991506925\n"
     ]
    }
   ],
   "source": [
    "#  duota skaičių eilutė.\n",
    "# rasti joje visus skaičius, kurie yra lygūs savo \n",
    "#  skaitmenų, pakeltų laipsniu 4, arba 5, sumai.\n",
    "#  netirkinti skaičių, didesnių nei 10 000.\n",
    "import numpy as np\n",
    "r = np.random.randint(0,1000,100).tolist()\n",
    "r = ''.join([str(i) for i in r])\n",
    "print(r)"
   ]
  }
 ],
 "metadata": {
  "kernelspec": {
   "display_name": "Python 3",
   "language": "python",
   "name": "python3"
  },
  "language_info": {
   "codemirror_mode": {
    "name": "ipython",
    "version": 3
   },
   "file_extension": ".py",
   "mimetype": "text/x-python",
   "name": "python",
   "nbconvert_exporter": "python",
   "pygments_lexer": "ipython3",
   "version": "3.10.12"
  }
 },
 "nbformat": 4,
 "nbformat_minor": 2
}
