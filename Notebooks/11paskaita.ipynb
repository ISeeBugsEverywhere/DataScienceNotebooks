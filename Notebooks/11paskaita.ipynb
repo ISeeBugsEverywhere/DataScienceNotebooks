{
 "cells": [
  {
   "cell_type": "code",
   "execution_count": 1,
   "metadata": {},
   "outputs": [
    {
     "name": "stdout",
     "output_type": "stream",
     "text": [
      "11 paskaita\n"
     ]
    }
   ],
   "source": [
    "print('11 paskaita')"
   ]
  },
  {
   "cell_type": "code",
   "execution_count": 4,
   "metadata": {},
   "outputs": [
    {
     "name": "stdout",
     "output_type": "stream",
     "text": [
      "‾|\n",
      " ‾|\n",
      "  ‾|\n",
      "   ‾|\n",
      "    ‾|\n",
      "     ‾|\n",
      "      ‾|\n",
      "       ‾|\n",
      "        ‾|\n"
     ]
    }
   ],
   "source": [
    "# vartotojas įveda skaičių n\n",
    "# jūsų funkcija! turi spausdinti \"laiptus\" iš simbolių | ir ‾\n",
    "# pvz įvesta 4:\n",
    "# ‾|\n",
    "#  ‾|\n",
    "#   ‾|\n",
    "#    ‾|\n",
    "\n",
    "def stairs(n):\n",
    "    s = '‾|'\n",
    "    f = '\\n'.join([' '*(i-1)+s for i in range(1,n+1)])\n",
    "    return f # arba, kad tiksliai palei sąlygą: print(f)\n",
    "    \n",
    "print(stairs(9))"
   ]
  },
  {
   "cell_type": "code",
   "execution_count": 34,
   "metadata": {},
   "outputs": [
    {
     "name": "stdout",
     "output_type": "stream",
     "text": [
      "['La', 'ba', 's_']\n",
      "['ab', 'c_']\n",
      "['ab', 'cd', 'ef']\n"
     ]
    }
   ],
   "source": [
    "#parašyti funkciją:\n",
    "#teskto skaidymas į sąrašą po porą simbolių.\n",
    "# jei tekstas yra iš nelyginio simbolių kiekio - trūkstamas simbolis keičiamas _\n",
    "# pvz 'abc' => ['ab', 'c_']\n",
    "# 'abcdef' => ['ab', 'cd', 'ef']\n",
    "\n",
    "def split(s):\n",
    "    ats = []\n",
    "    if len(s) % 2 != 0:\n",
    "        s = s + '_'\n",
    "    for r in range(0,len(s),2):\n",
    "        ats.append(s[r]+s[r+1])\n",
    "    return ats\n",
    "\n",
    "print(split('Labas'))\n",
    "print(split('abc'))\n",
    "print(split('abcdef'))"
   ]
  },
  {
   "cell_type": "code",
   "execution_count": 29,
   "metadata": {},
   "outputs": [
    {
     "name": "stdout",
     "output_type": "stream",
     "text": [
      "[0, 1, 153, 370, 371, 407]\n"
     ]
    }
   ],
   "source": [
    "# Parašyti funkciją, kuri atrinktų \"kubinius\" skaičius iš intervalo [0-10000]\n",
    "#  \"kubinis\" skaičius - tai kurio skaitmenų kubų suma yra lygi pačiam skaičiui:\n",
    "#  pvz 153 = 1^3+5^3+3^3 => 153 yra \"kubinis\"\n",
    "# \n",
    "#  visus rastus skaičius pateikite kaip sąrašą (list)\n",
    "\n",
    "def cubic(x, p=3):\n",
    "    xf = int(x)\n",
    "    xs = str(x)\n",
    "    cubs = [int(i)**p for i in xs]\n",
    "    if sum(cubs) == xf:\n",
    "        return True\n",
    "    else:\n",
    "        return False\n",
    "    \n",
    "cubs = [i for i in range(0,10001) if cubic(i)]\n",
    "print(cubs)"
   ]
  },
  {
   "cell_type": "code",
   "execution_count": 28,
   "metadata": {},
   "outputs": [
    {
     "name": "stdout",
     "output_type": "stream",
     "text": [
      "151818768342934400477643849119323430926151558856856992403683167623338788231703972923580376294407758224716970609036631952126032917589155117426259699021159982446553631691886968789495086508289825736189303228342402494185117852445704145227336795895665770451490073785285941356369136270458927991506925\n"
     ]
    }
   ],
   "source": [
    "#  duota skaičių eilutė.\n",
    "# rasti joje visus skaičius, kurie yra lygūs savo \n",
    "#  skaitmenų, pakeltų laipsniu 4, arba 5, sumai.\n",
    "#  netirkinti skaičių, didesnių nei 10 000.\n",
    "import numpy as np\n",
    "r = np.random.randint(0,1000,100).tolist()\n",
    "r = ''.join([str(i) for i in r])\n",
    "print(r)"
   ]
  },
  {
   "cell_type": "code",
   "execution_count": 38,
   "metadata": {},
   "outputs": [
    {
     "name": "stdout",
     "output_type": "stream",
     "text": [
      "SimpleObj klasės atstovas\n",
      "[Labai kietas SimpleObj atstovas]\n"
     ]
    }
   ],
   "source": [
    "class SimpleObj():\n",
    "    def __str__(self):\n",
    "        return \"SimpleObj klasės atstovas\"\n",
    "    def __repr__(self) -> str:\n",
    "        return \"Labai kietas SimpleObj atstovas\"\n",
    "\n",
    "o = SimpleObj()\n",
    "print(o)\n",
    "print([o])"
   ]
  },
  {
   "cell_type": "code",
   "execution_count": 39,
   "metadata": {},
   "outputs": [
    {
     "name": "stdout",
     "output_type": "stream",
     "text": [
      "Jonas\n"
     ]
    }
   ],
   "source": [
    "class Object():\n",
    "    def __init__(self, name) -> None:\n",
    "        self.Name = name\n",
    "        pass\n",
    "    def getName(self):\n",
    "        return self.Name\n",
    "    \n",
    "\n",
    "o = Object(\"Jonas\")\n",
    "print(o.getName())"
   ]
  },
  {
   "cell_type": "code",
   "execution_count": 42,
   "metadata": {},
   "outputs": [],
   "source": [
    "class BetterObject(Object):\n",
    "    def getNameUpper(self):\n",
    "        return self.Name.upper()\n",
    "    def getNameLength(self):\n",
    "        return len(self.Name)\n",
    "\n",
    "g = BetterObject('Petras')\n"
   ]
  },
  {
   "cell_type": "code",
   "execution_count": 46,
   "metadata": {},
   "outputs": [
    {
     "data": {
      "text/plain": [
       "'PETRAS'"
      ]
     },
     "execution_count": 46,
     "metadata": {},
     "output_type": "execute_result"
    }
   ],
   "source": [
    "g.getNameUpper()"
   ]
  },
  {
   "cell_type": "code",
   "execution_count": 51,
   "metadata": {},
   "outputs": [
    {
     "name": "stdout",
     "output_type": "stream",
     "text": [
      "Taip\n",
      "29\n"
     ]
    }
   ],
   "source": [
    "class Asmuo():\n",
    "    def __init__(self, name, b_year) -> None:\n",
    "        self.Name = name\n",
    "        self.BYear = b_year\n",
    "    def getAge(self):\n",
    "        return 2024-self.BYear\n",
    "    \n",
    "    \n",
    "\n",
    "class Studentas(Asmuo):\n",
    "    def __init__(self,name, b_year, studentas):\n",
    "        super().__init__(name, b_year)\n",
    "        self.ArStudentas = studentas\n",
    "        \n",
    "    def getStud(self):\n",
    "        return self.ArStudentas\n",
    "    \n",
    "    \n",
    "\n",
    "st = Studentas('Petras', 1995, \"Taip\")\n",
    "print(st.getStud())\n",
    "print(st.getAge())"
   ]
  },
  {
   "cell_type": "code",
   "execution_count": 53,
   "metadata": {},
   "outputs": [
    {
     "name": "stdout",
     "output_type": "stream",
     "text": [
      "LABAS, ČIA KLASĖ O\n"
     ]
    },
    {
     "ename": "AttributeError",
     "evalue": "'int' object has no attribute 'upper'",
     "output_type": "error",
     "traceback": [
      "\u001b[0;31m---------------------------------------------------------------------------\u001b[0m",
      "\u001b[0;31mAttributeError\u001b[0m                            Traceback (most recent call last)",
      "Cell \u001b[0;32mIn[53], line 17\u001b[0m\n\u001b[1;32m     14\u001b[0m s \u001b[38;5;241m=\u001b[39m [O(), P(), F()]\n\u001b[1;32m     16\u001b[0m \u001b[38;5;28;01mfor\u001b[39;00m obj \u001b[38;5;129;01min\u001b[39;00m s:\n\u001b[0;32m---> 17\u001b[0m     \u001b[38;5;28mprint\u001b[39m(\u001b[43mobj\u001b[49m\u001b[38;5;241;43m.\u001b[39;49m\u001b[43mhello\u001b[49m\u001b[43m(\u001b[49m\u001b[43m)\u001b[49m\u001b[38;5;241;43m.\u001b[39;49m\u001b[43mupper\u001b[49m())\n",
      "\u001b[0;31mAttributeError\u001b[0m: 'int' object has no attribute 'upper'"
     ]
    }
   ],
   "source": [
    "class O():\n",
    "    def hello(self):\n",
    "        return \"Labas, čia klasė O\"\n",
    "\n",
    "class P():\n",
    "    def hello(self):\n",
    "        return 42\n",
    "\n",
    "class F():\n",
    "    def hello(self):\n",
    "        return [1,2,3]\n",
    "    \n",
    "\n",
    "s = [O(), P(), F()]\n",
    "\n",
    "for obj in s:\n",
    "    print(obj.hello())"
   ]
  },
  {
   "cell_type": "code",
   "execution_count": null,
   "metadata": {},
   "outputs": [],
   "source": [
    "#  privatūs ir vieši atributai ir metodai"
   ]
  },
  {
   "cell_type": "code",
   "execution_count": 56,
   "metadata": {},
   "outputs": [
    {
     "name": "stdout",
     "output_type": "stream",
     "text": [
      "42\n",
      "42\n",
      "43\n"
     ]
    }
   ],
   "source": [
    "class Obj():\n",
    "    def __init__(self):\n",
    "        self.A = 42\n",
    "        self.__A = 42\n",
    "    def getA(self):\n",
    "        return self.A\n",
    "    def __getA(self):\n",
    "        return self.A\n",
    "    # seters, getters:\n",
    "    def setA(self, a):\n",
    "        self.__A = a\n",
    "    def getLocalA(self):\n",
    "        return self.__A\n",
    "    \n",
    "o = Obj()\n",
    "print(o.A)\n",
    "print(o.getA())\n",
    "\n",
    "o.setA(43)\n",
    "print(o.getLocalA())"
   ]
  },
  {
   "cell_type": "code",
   "execution_count": null,
   "metadata": {},
   "outputs": [],
   "source": []
  }
 ],
 "metadata": {
  "kernelspec": {
   "display_name": "Python 3",
   "language": "python",
   "name": "python3"
  },
  "language_info": {
   "codemirror_mode": {
    "name": "ipython",
    "version": 3
   },
   "file_extension": ".py",
   "mimetype": "text/x-python",
   "name": "python",
   "nbconvert_exporter": "python",
   "pygments_lexer": "ipython3",
   "version": "3.10.12"
  }
 },
 "nbformat": 4,
 "nbformat_minor": 2
}
