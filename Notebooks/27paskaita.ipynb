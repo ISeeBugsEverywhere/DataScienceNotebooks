{
 "cells": [
  {
   "cell_type": "code",
   "execution_count": 1,
   "metadata": {},
   "outputs": [],
   "source": [
    "import numpy as np\n",
    "import pandas as pd\n",
    "import matplotlib.pyplot as plt\n",
    "import warnings\n",
    "warnings.filterwarnings('ignore')\n",
    "import seaborn as sns\n",
    "import sqlite3\n",
    "import mysql.connector as cnt\n",
    "import plotly.express as px"
   ]
  },
  {
   "cell_type": "code",
   "execution_count": 2,
   "metadata": {},
   "outputs": [],
   "source": [
    "import glob"
   ]
  },
  {
   "cell_type": "code",
   "execution_count": 3,
   "metadata": {},
   "outputs": [],
   "source": [
    "dat_failai = glob.glob('../DATA/OOP_DATA/*.dat')"
   ]
  },
  {
   "cell_type": "code",
   "execution_count": 4,
   "metadata": {},
   "outputs": [
    {
     "name": "stdout",
     "output_type": "stream",
     "text": [
      "['REF', 'V1145', 'V1177', 'V1178', 'V1179']\n"
     ]
    }
   ],
   "source": [
    "medziagos = []\n",
    "for failas in dat_failai:\n",
    "    m = failas.split('/')[-1].split('_')[0]\n",
    "    medziagos.append(m)\n",
    "medziagos = sorted(list(set(medziagos)))\n",
    "print(medziagos)"
   ]
  },
  {
   "cell_type": "code",
   "execution_count": 16,
   "metadata": {},
   "outputs": [
    {
     "name": "stdout",
     "output_type": "stream",
     "text": [
      "{'REF': None, 'V1145': None, 'V1177': None, 'V1178': None, 'V1179': None}\n",
      "{'REF': [], 'V1145': [], 'V1177': [], 'V1178': [], 'V1179': []}\n"
     ]
    }
   ],
   "source": [
    "mpar = dict.fromkeys(medziagos, None)\n",
    "print(mpar)\n",
    "for i in mpar.keys():\n",
    "    mpar[i] = []\n",
    "print(mpar)"
   ]
  },
  {
   "cell_type": "code",
   "execution_count": 17,
   "metadata": {},
   "outputs": [
    {
     "name": "stdout",
     "output_type": "stream",
     "text": [
      "{'REF': [14], 'V1145': [], 'V1177': [], 'V1178': [], 'V1179': []}\n",
      "{'REF': [14], 'V1145': [15], 'V1177': [], 'V1178': [], 'V1179': []}\n"
     ]
    }
   ],
   "source": [
    "mpar['REF'].append(14)\n",
    "print(mpar)\n",
    "mpar['V1145'].append(15)\n",
    "print(mpar)"
   ]
  },
  {
   "cell_type": "code",
   "execution_count": 14,
   "metadata": {},
   "outputs": [
    {
     "name": "stdout",
     "output_type": "stream",
     "text": [
      "{'REF': [14], 'V1145': [14], 'V1177': [14], 'V1178': [14], 'V1179': [14]}\n"
     ]
    }
   ],
   "source": [
    "m = dict.fromkeys(medziagos, [])\n",
    "m['REF'].append(14)\n",
    "print(m)"
   ]
  }
 ],
 "metadata": {
  "kernelspec": {
   "display_name": ".env-iqx9Jwlg",
   "language": "python",
   "name": "python3"
  },
  "language_info": {
   "codemirror_mode": {
    "name": "ipython",
    "version": 3
   },
   "file_extension": ".py",
   "mimetype": "text/x-python",
   "name": "python",
   "nbconvert_exporter": "python",
   "pygments_lexer": "ipython3",
   "version": "3.12.3"
  }
 },
 "nbformat": 4,
 "nbformat_minor": 2
}
