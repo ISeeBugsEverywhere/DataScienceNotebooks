{
 "cells": [
  {
   "cell_type": "code",
   "execution_count": null,
   "metadata": {},
   "outputs": [],
   "source": [
    "# šie du kodai yra naudotini\n",
    "# tik tada, jei turite savo apsirašytų funkcijų\n",
    "# išoriniame (.py) faile"
   ]
  },
  {
   "cell_type": "code",
   "execution_count": 6,
   "metadata": {},
   "outputs": [],
   "source": [
    "%reload_ext autoreload\n",
    "%autoreload 2"
   ]
  },
  {
   "cell_type": "code",
   "execution_count": null,
   "metadata": {},
   "outputs": [],
   "source": [
    "# pip install mysql-connector-python==8.0.29"
   ]
  },
  {
   "cell_type": "code",
   "execution_count": 7,
   "metadata": {},
   "outputs": [],
   "source": [
    "import numpy as np\n",
    "import matplotlib.pyplot as plt\n",
    "import mysql.connector as cnt\n",
    "\n",
    "# nuosavų funkcijų importavimas:\n",
    "from manoFunkcijos import *"
   ]
  },
  {
   "cell_type": "code",
   "execution_count": 8,
   "metadata": {},
   "outputs": [],
   "source": [
    "DB = cnt.connect(\n",
    "    host='88.223.121.130',\n",
    "    port=3306,\n",
    "    user='user',\n",
    "    password = 'slaptazodis',\n",
    "    database = 'works'\n",
    ")\n",
    "C = DB.cursor()"
   ]
  },
  {
   "cell_type": "code",
   "execution_count": 14,
   "metadata": {},
   "outputs": [],
   "source": [
    "#sql užklausos vykdymas per mysql/mariadb kursorių\n",
    "sql=\"\"\"select *, C/(select count(*) from sa)*100 as '%' from\n",
    "(select * from\n",
    "(select device_brand as B, count(*) as C\n",
    "from sa\n",
    "where device_brand != ''\n",
    "group by device_brand\n",
    "order by C desc\n",
    "limit 5) as T1\n",
    "union all\n",
    "select 'Others', count(*) as C\n",
    "from sa\n",
    "where device_brand not in\n",
    "(select B from (select device_brand as B, count(*) as C\n",
    "from sa\n",
    "where device_brand != ''\n",
    "group by device_brand\n",
    "order by C desc\n",
    "limit 5) as T2)) as T3;\"\"\"\n",
    "C.execute(sql)\n",
    "ans = C.fetchall()\n",
    "gamintojai, kiekiai, dalis = list(map(list, zip(*ans)))\n",
    "#? = np.transpose(ans)"
   ]
  },
  {
   "cell_type": "code",
   "execution_count": 22,
   "metadata": {},
   "outputs": [
    {
     "name": "stdout",
     "output_type": "stream",
     "text": [
      "| 0 |    Samsung     |     36290      |    30.4927     |\n",
      "| 1 |     Nokia      |     35186      |    29.5651     |\n",
      "| 2 |   BlackBerry   |      7161      |     6.0170     |\n",
      "| 3 |       LG       |      5194      |     4.3643     |\n",
      "| 4 |  SonyEricsson  |      4090      |     3.4366     |\n",
      "| 5 |     Others     |     31091      |    26.1243     |\n"
     ]
    }
   ],
   "source": [
    "pout(ans,6)"
   ]
  },
  {
   "cell_type": "code",
   "execution_count": 13,
   "metadata": {},
   "outputs": [
    {
     "name": "stdout",
     "output_type": "stream",
     "text": [
      "['Samsung', 'Nokia', 'BlackBerry', 'LG', 'SonyEricsson', 'Others']\n"
     ]
    }
   ],
   "source": [
    "print(gamintojai)"
   ]
  }
 ],
 "metadata": {
  "kernelspec": {
   "display_name": "Python 3",
   "language": "python",
   "name": "python3"
  },
  "language_info": {
   "codemirror_mode": {
    "name": "ipython",
    "version": 3
   },
   "file_extension": ".py",
   "mimetype": "text/x-python",
   "name": "python",
   "nbconvert_exporter": "python",
   "pygments_lexer": "ipython3",
   "version": "3.12.3"
  }
 },
 "nbformat": 4,
 "nbformat_minor": 2
}
