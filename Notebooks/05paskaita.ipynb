{
 "cells": [
  {
   "cell_type": "code",
   "execution_count": 1,
   "metadata": {},
   "outputs": [
    {
     "name": "stdout",
     "output_type": "stream",
     "text": [
      "05 paskaita\n"
     ]
    }
   ],
   "source": [
    "print('05 paskaita')"
   ]
  },
  {
   "cell_type": "code",
   "execution_count": 3,
   "metadata": {},
   "outputs": [
    {
     "name": "stdout",
     "output_type": "stream",
     "text": [
      "WV mažiausiai nuvažiavęs\n",
      "Toyota daugiausiai nuvažiavęs\n",
      "Nissan daugiausiai nuvažiavęs\n"
     ]
    }
   ],
   "source": [
    "# 1.0.26 Duotas sąrašas su žodynais.\n",
    "cl = [{'Modelis':'WV', 'rida':25000},\n",
    "      {'Modelis':'Audi', 'rida':36000},\n",
    "      {'Modelis':'Ford','rida':42000},\n",
    "      {'Modelis':'Toyota', 'rida':75000},\n",
    "      {'Modelis':'Nissan', 'rida':75000}]\n",
    "# Parašykite komandą, kuri išvestų automobilių ridas (vienam automobiliui vienas print()sakinys).\n",
    "# Parašykite ciklą, išvedantį automobilių ridas.\n",
    "# Parašykite kodą, surandantį daugiausiai ir mažiausiai nuvažiavusius automobilius.\n",
    "r = []\n",
    "for m in cl:\n",
    "    r.append(m['rida'])\n",
    "\n",
    "mn = min(r) # min, max\n",
    "mx = max(r)\n",
    " #?\n",
    "for m in cl:\n",
    "    if m['rida'] == mn:\n",
    "        print(m['Modelis'], 'mažiausiai nuvažiavęs')\n",
    "    if m['rida'] == mx:\n",
    "        print(m['Modelis'], 'daugiausiai nuvažiavęs')"
   ]
  },
  {
   "cell_type": "code",
   "execution_count": 6,
   "metadata": {},
   "outputs": [
    {
     "name": "stdout",
     "output_type": "stream",
     "text": [
      "1\n",
      "2\n",
      "3\n",
      "4\n",
      "5\n"
     ]
    }
   ],
   "source": [
    "a = [1,2,3,4,5]\n",
    "for i in a:\n",
    "    print(i)"
   ]
  },
  {
   "cell_type": "code",
   "execution_count": 9,
   "metadata": {},
   "outputs": [
    {
     "name": "stdout",
     "output_type": "stream",
     "text": [
      "1\n",
      "2\n",
      "3\n",
      "4\n",
      "5\n"
     ]
    }
   ],
   "source": [
    "k = 0\n",
    "while k < len(a):\n",
    "    print(a[k])\n",
    "    k = k + 1"
   ]
  },
  {
   "cell_type": "code",
   "execution_count": 18,
   "metadata": {},
   "outputs": [
    {
     "name": "stdout",
     "output_type": "stream",
     "text": [
      "Amžinas ciklas\n",
      "jei norite nutraukti, įveskite Q simbolį\n"
     ]
    }
   ],
   "source": [
    "quit = False\n",
    "while not quit:\n",
    "    print('Amžinas ciklas')\n",
    "    print('jei norite nutraukti, įveskite Q simbolį')\n",
    "    s = input('Q?')\n",
    "    if s.lower() == 'q':\n",
    "        quit = True"
   ]
  },
  {
   "cell_type": "code",
   "execution_count": 13,
   "metadata": {},
   "outputs": [
    {
     "name": "stdout",
     "output_type": "stream",
     "text": [
      "0\n",
      "1\n",
      "2\n",
      "3\n",
      "4\n",
      "6\n"
     ]
    }
   ],
   "source": [
    "for i in range(0,11):\n",
    "    if i == 5:\n",
    "        continue\n",
    "    if i == 7:\n",
    "        break\n",
    "    print(i)"
   ]
  },
  {
   "cell_type": "code",
   "execution_count": 16,
   "metadata": {},
   "outputs": [
    {
     "name": "stdout",
     "output_type": "stream",
     "text": [
      "Labas, Jonas\n"
     ]
    }
   ],
   "source": [
    "for i in ['Jonas', 'Petras', 'Ona']:\n",
    "    if i == 'Petras':\n",
    "        break\n",
    "    print(f'Labas, {i}')\n",
    "else:\n",
    "    print('Su visais pasisveikinta')"
   ]
  },
  {
   "cell_type": "code",
   "execution_count": 26,
   "metadata": {},
   "outputs": [
    {
     "name": "stdout",
     "output_type": "stream",
     "text": [
      "-1.0\n",
      "-5.0\n",
      "division by zero\n",
      "Neteisingi duomenys\n",
      "5.0\n",
      "1.0\n"
     ]
    }
   ],
   "source": [
    "a = [-5,-1,0, '5',1,5]\n",
    "for i in a:\n",
    "    try:\n",
    "        print(5/i)    \n",
    "    except ZeroDivisionError as ex:\n",
    "        print(ex)\n",
    "    except TypeError as ex:\n",
    "        print('Neteisingi duomenys')\n",
    "    except Exception as ex:\n",
    "        print(ex)\n",
    "        \n",
    "    "
   ]
  },
  {
   "cell_type": "code",
   "execution_count": 31,
   "metadata": {},
   "outputs": [
    {
     "name": "stdout",
     "output_type": "stream",
     "text": [
      "15.0\n",
      "Matematika suveikė\n",
      "Demo pabaiga\n"
     ]
    }
   ],
   "source": [
    "try:\n",
    "    A = float(input('A?'))\n",
    "    B = float(input('B?'))\n",
    "    m = input('+-/*?')\n",
    "    if m == '+':\n",
    "        print(A+B)\n",
    "    if m == '/':\n",
    "        try:\n",
    "            print(A/B)\n",
    "        except ZeroDivisionError as ex:\n",
    "            print(ex, 'Dalyba iš nulio negalima')\n",
    "except ValueError as ex:\n",
    "    print(ex, 'Įvesti neteisingi duomenys')\n",
    "else:\n",
    "    print('Matematika suveikė')\n",
    "finally:\n",
    "    print('Demo pabaiga')"
   ]
  },
  {
   "cell_type": "code",
   "execution_count": 32,
   "metadata": {},
   "outputs": [],
   "source": [
    "def useless():\n",
    "    pass"
   ]
  },
  {
   "cell_type": "code",
   "execution_count": 33,
   "metadata": {},
   "outputs": [],
   "source": [
    "useless()"
   ]
  },
  {
   "cell_type": "code",
   "execution_count": 34,
   "metadata": {},
   "outputs": [],
   "source": [
    "def fprint(arg):\n",
    "    print('Šiai funkcijai buvo nurodytai tai', arg)"
   ]
  },
  {
   "cell_type": "code",
   "execution_count": 36,
   "metadata": {},
   "outputs": [
    {
     "name": "stdout",
     "output_type": "stream",
     "text": [
      "Šiai funkcijai buvo nurodytai tai 25\n"
     ]
    }
   ],
   "source": [
    "fprint(25)"
   ]
  },
  {
   "cell_type": "code",
   "execution_count": 37,
   "metadata": {},
   "outputs": [
    {
     "name": "stdout",
     "output_type": "stream",
     "text": [
      "Šiai funkcijai buvo nurodytai tai labas\n"
     ]
    }
   ],
   "source": [
    "fprint('labas')"
   ]
  },
  {
   "cell_type": "code",
   "execution_count": 39,
   "metadata": {},
   "outputs": [
    {
     "name": "stdout",
     "output_type": "stream",
     "text": [
      "A c b\n"
     ]
    }
   ],
   "source": [
    "def fn(par1, par2, par3):\n",
    "    print(par3, par2, par1)\n",
    "\n",
    "\n",
    "fn(par3='A',par1='b',par2='c')"
   ]
  },
  {
   "cell_type": "code",
   "execution_count": 41,
   "metadata": {},
   "outputs": [
    {
     "name": "stdout",
     "output_type": "stream",
     "text": [
      "D b A\n"
     ]
    }
   ],
   "source": [
    "def fn(par1, par2, par3='F'):\n",
    "    print(par3, par2, par1)\n",
    "    \n",
    "\n",
    "fn('A', 'b', 'D')"
   ]
  },
  {
   "cell_type": "code",
   "execution_count": 42,
   "metadata": {},
   "outputs": [
    {
     "name": "stdout",
     "output_type": "stream",
     "text": [
      "4\n"
     ]
    }
   ],
   "source": [
    "def suma(x,y):\n",
    "    print(x+y)\n",
    "\n",
    "suma(2,2)"
   ]
  },
  {
   "cell_type": "code",
   "execution_count": 43,
   "metadata": {},
   "outputs": [
    {
     "name": "stdout",
     "output_type": "stream",
     "text": [
      "4\n"
     ]
    }
   ],
   "source": [
    "ats = suma(2,2)"
   ]
  },
  {
   "cell_type": "code",
   "execution_count": 44,
   "metadata": {},
   "outputs": [
    {
     "name": "stdout",
     "output_type": "stream",
     "text": [
      "None\n"
     ]
    }
   ],
   "source": [
    "print(ats)"
   ]
  },
  {
   "cell_type": "code",
   "execution_count": 45,
   "metadata": {},
   "outputs": [],
   "source": [
    "def suma(x,y):\n",
    "    return x+y"
   ]
  },
  {
   "cell_type": "code",
   "execution_count": 46,
   "metadata": {},
   "outputs": [],
   "source": [
    "ats = suma(2,2)"
   ]
  },
  {
   "cell_type": "code",
   "execution_count": 47,
   "metadata": {},
   "outputs": [
    {
     "name": "stdout",
     "output_type": "stream",
     "text": [
      "4\n"
     ]
    }
   ],
   "source": [
    "print(ats)"
   ]
  },
  {
   "cell_type": "code",
   "execution_count": null,
   "metadata": {},
   "outputs": [],
   "source": [
    "def v(x):\n",
    "    ats = None\n",
    "    if x:\n",
    "        ats = x\n",
    "    else:\n",
    "        ats = -42\n",
    "    return ats"
   ]
  },
  {
   "cell_type": "code",
   "execution_count": 52,
   "metadata": {},
   "outputs": [
    {
     "data": {
      "text/plain": [
       "-42"
      ]
     },
     "execution_count": 52,
     "metadata": {},
     "output_type": "execute_result"
    }
   ],
   "source": [
    "def v(x):\n",
    "    if x:\n",
    "        return 42\n",
    "    else:\n",
    "        return -42\n",
    "v('')"
   ]
  },
  {
   "cell_type": "code",
   "execution_count": 53,
   "metadata": {},
   "outputs": [
    {
     "name": "stdout",
     "output_type": "stream",
     "text": [
      "21.0\n"
     ]
    }
   ],
   "source": [
    "def pvm(kaina, tarifas=21):\n",
    "    return kaina*tarifas/100\n",
    "\n",
    "ats = pvm(100)\n",
    "print(ats)"
   ]
  },
  {
   "cell_type": "code",
   "execution_count": null,
   "metadata": {},
   "outputs": [],
   "source": [
    "#  29-ta užduotis\n",
    "def word_count(t):\n",
    "    return len(t.split())\n",
    "\n",
    "def word_counter(t):\n",
    "    return t.count(' ')+1"
   ]
  },
  {
   "cell_type": "code",
   "execution_count": 55,
   "metadata": {},
   "outputs": [
    {
     "data": {
      "text/plain": [
       "100000"
      ]
     },
     "execution_count": 55,
     "metadata": {},
     "output_type": "execute_result"
    }
   ],
   "source": [
    "# 27,28\n",
    "\n",
    "def n(sk, n=2):\n",
    "    return sk ** n # **(1/n)\n",
    "\n",
    "n(10,5)"
   ]
  }
 ],
 "metadata": {
  "kernelspec": {
   "display_name": "Python 3",
   "language": "python",
   "name": "python3"
  },
  "language_info": {
   "codemirror_mode": {
    "name": "ipython",
    "version": 3
   },
   "file_extension": ".py",
   "mimetype": "text/x-python",
   "name": "python",
   "nbconvert_exporter": "python",
   "pygments_lexer": "ipython3",
   "version": "3.12.3"
  }
 },
 "nbformat": 4,
 "nbformat_minor": 2
}
