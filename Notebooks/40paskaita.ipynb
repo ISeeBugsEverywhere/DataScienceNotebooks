{
 "cells": [
  {
   "cell_type": "code",
   "execution_count": 1,
   "metadata": {},
   "outputs": [],
   "source": [
    "import numpy as np\n",
    "import pandas as pd\n",
    "import matplotlib.pyplot as plt\n",
    "import warnings\n",
    "warnings.filterwarnings('ignore')\n",
    "import seaborn as sns\n",
    "# import sqlite3\n",
    "# import mysql.connector as cnt\n",
    "# import plotly.express as px\n",
    "\n",
    "import requests\n",
    "from bs4 import BeautifulSoup\n",
    "# pip install beautifulsoup4 selenium"
   ]
  },
  {
   "cell_type": "code",
<<<<<<< HEAD
   "execution_count": 3,
=======
   "execution_count": 2,
>>>>>>> origin/main
   "metadata": {},
   "outputs": [],
   "source": [
    "url = \"https://kauno.diena.lt/naujienos/kriminalai/nusikaltimai/lietuvis-ir-ruse-bus-teisiami-uz-tai-kad-pelnesi-kitu-asmenu-prostitucijos-1195248\"\n",
    "\n",
    "page = requests.get(url)\n",
    "source = page.content\n",
    "\n",
    "bs = BeautifulSoup(source, 'html.parser')\n",
    "# print(bs)"
   ]
  },
  {
   "cell_type": "code",
<<<<<<< HEAD
   "execution_count": 2,
   "metadata": {},
   "outputs": [
    {
     "ename": "NameError",
     "evalue": "name 'bs' is not defined",
     "output_type": "error",
     "traceback": [
      "\u001b[0;31m---------------------------------------------------------------------------\u001b[0m",
      "\u001b[0;31mNameError\u001b[0m                                 Traceback (most recent call last)",
      "Cell \u001b[0;32mIn[2], line 1\u001b[0m\n\u001b[0;32m----> 1\u001b[0m straipsniai \u001b[38;5;241m=\u001b[39m \u001b[43mbs\u001b[49m\u001b[38;5;241m.\u001b[39mfind_all(\u001b[38;5;124m'\u001b[39m\u001b[38;5;124mspan\u001b[39m\u001b[38;5;124m'\u001b[39m, {\u001b[38;5;124m'\u001b[39m\u001b[38;5;124mitemprop\u001b[39m\u001b[38;5;124m'\u001b[39m:\u001b[38;5;124m'\u001b[39m\u001b[38;5;124marticleBody\u001b[39m\u001b[38;5;124m'\u001b[39m})\n\u001b[1;32m      2\u001b[0m \u001b[38;5;28mprint\u001b[39m(\u001b[38;5;28mlen\u001b[39m(straipsniai))\n",
      "\u001b[0;31mNameError\u001b[0m: name 'bs' is not defined"
=======
   "execution_count": 3,
   "metadata": {},
   "outputs": [
    {
     "name": "stdout",
     "output_type": "stream",
     "text": [
      "1\n",
      "Baudžiamosios bylos duomenimis, nuo 2022 metų pavasario iki 2023-iųjų sausio pabaigos, Lietuvos didžiuosiuose miestuose veikė neįvardijamo organizatoriaus sukurtas prostitucijos tinklas. Organizatorius pats arba per tarpininkus, įtariama, surasdavo merginas, sutinkančias teikti seksualines paslaugas už atlygį, patalpas veiklai vykdyti, keldavo skelbimus internete apie teikiamas paslaugas.\n",
      "Tyrimo metu nustatyta, kad kaltinamoji, turėdama tikslą gauti turtinės naudos, prisijungė prie organizuotos grupės, kurioje buvo pelnomasi iš kitų asmenų prostitucijos. Manoma, kad moteris atskirais atvejais tardavosi dėl butų nuomos seksualinių paslaugų teikimui, mokėdavo už patalpų nuomą pinigais, gautais už merginų teikiamas seksualines paslaugas.\n",
      "Kaip įtariama, kaltinamoji tam tikrais atvejais apmokėdavo ir internetinių skelbimų įkėlimą bei iš merginų, teikiančių seksualines paslaugas, organizatoriaus pavedimu, rinko 50 proc. pajamų, gaunamų iš prostitucijos.\n",
      "Nustatyta, kad moteris pinigus dalimis perduodavo nurodytiems asmenims, dalį pinigų pasilikdavo už savo atliekamas funkcijas. Kaip įtariama, užsienietė gavo ne mažesnes kaip 25 tūkst. 500 eurų pajamas.\n",
      "Atliekant ikiteisminį tyrimą nustatyta, kad iš kitų asmenų prostitucijos pelnėsi ir Lietuvos gyventojas.\n",
      "Kaip įtariama, kaltinamasis turėjo atlikti prostitucijos paslaugas teikiančių merginų apsaugos funkcijas ir spręsti kylančias konfliktines situacijas su klientais. Atskirais atvejais vyras apmokėdavo internetinius skelbimus dėl seksualinių paslaugų teikimo. Nustatyta, kad penkis kartus teistas lietuvis, dalyvaudamas prostitucijos tinklo veikloje, atlikdamas organizatoriaus numatytas funkcijas, įgijo ne mažesnes kaip 91 tūkst. 500 eurų pajamas.\n",
      "Baudžiamajame kodekse numatyta, kad tas, kas organizavo ar vadovavo prostitucijai arba gabeno asmenį šio sutikimu prostitucijai į Lietuvą ar iš Lietuvos, baudžiamas laisvės atėmimu iki šešerių metų.\n",
      "Baudžiamoji byla perduota nagrinėti Kauno apylinkės teismo Kauno rūmams.\n",
      "Ikiteisminiam tyrimui vadovavo Kauno apygardos prokuratūros Organizuotų nusikaltimų ir korupcijos tyrimo skyriaus prokurorė. Tyrimą atliko Kauno apskrities vyriausiojo policijos komisariato Kriminalinės policijos organizuoto nusikalstamumo tyrimo valdybos pareigūnai.\n",
      "\n"
>>>>>>> origin/main
     ]
    }
   ],
   "source": [
    "url = \"https://kauno.diena.lt/naujienos/kriminalai/nusikaltimai/lietuvis-ir-ruse-bus-teisiami-uz-tai-kad-pelnesi-kitu-asmenu-prostitucijos-1195248\"\n",
    "\n",
    "page = requests.get(url)\n",
    "source = page.content\n",
    "\n",
    "bs = BeautifulSoup(source, 'html.parser')\n",
    "straipsniai = bs.find_all('span', {'itemprop':'articleBody'})\n",
    "print(len(straipsniai))\n",
    "print(straipsniai[0].text)"
   ]
  },
  {
   "cell_type": "code",
   "execution_count": 4,
   "metadata": {},
   "outputs": [
    {
     "name": "stdout",
     "output_type": "stream",
     "text": [
      "Baudžiamosios bylos duomenimis, nuo 2022 metų pavasario iki 2023-iųjų sausio pabaigos, Lietuvos didžiuosiuose miestuose veikė neįvardijamo organizatoriaus sukurtas prostitucijos tinklas. Organizatorius pats arba per tarpininkus, įtariama, surasdavo merginas, sutinkančias teikti seksualines paslaugas už atlygį, patalpas veiklai vykdyti, keldavo skelbimus internete apie teikiamas paslaugas.\n",
      "Tyrimo metu nustatyta, kad kaltinamoji, turėdama tikslą gauti turtinės naudos, prisijungė prie organizuotos grupės, kurioje buvo pelnomasi iš kitų asmenų prostitucijos. Manoma, kad moteris atskirais atvejais tardavosi dėl butų nuomos seksualinių paslaugų teikimui, mokėdavo už patalpų nuomą pinigais, gautais už merginų teikiamas seksualines paslaugas.\n",
      "Kaip įtariama, kaltinamoji tam tikrais atvejais apmokėdavo ir internetinių skelbimų įkėlimą bei iš merginų, teikiančių seksualines paslaugas, organizatoriaus pavedimu, rinko 50 proc. pajamų, gaunamų iš prostitucijos.\n",
      "Nustatyta, kad moteris pinigus dalimis perduodavo nurodytiems asmenims, dalį pinigų pasilikdavo už savo atliekamas funkcijas. Kaip įtariama, užsienietė gavo ne mažesnes kaip 25 tūkst. 500 eurų pajamas.\n",
      "Atliekant ikiteisminį tyrimą nustatyta, kad iš kitų asmenų prostitucijos pelnėsi ir Lietuvos gyventojas.\n",
      "Kaip įtariama, kaltinamasis turėjo atlikti prostitucijos paslaugas teikiančių merginų apsaugos funkcijas ir spręsti kylančias konfliktines situacijas su klientais. Atskirais atvejais vyras apmokėdavo internetinius skelbimus dėl seksualinių paslaugų teikimo. Nustatyta, kad penkis kartus teistas lietuvis, dalyvaudamas prostitucijos tinklo veikloje, atlikdamas organizatoriaus numatytas funkcijas, įgijo ne mažesnes kaip 91 tūkst. 500 eurų pajamas.\n",
      "Baudžiamajame kodekse numatyta, kad tas, kas organizavo ar vadovavo prostitucijai arba gabeno asmenį šio sutikimu prostitucijai į Lietuvą ar iš Lietuvos, baudžiamas laisvės atėmimu iki šešerių metų.\n",
      "Baudžiamoji byla perduota nagrinėti Kauno apylinkės teismo Kauno rūmams.\n",
      "Ikiteisminiam tyrimui vadovavo Kauno apygardos prokuratūros Organizuotų nusikaltimų ir korupcijos tyrimo skyriaus prokurorė. Tyrimą atliko Kauno apskrities vyriausiojo policijos komisariato Kriminalinės policijos organizuoto nusikalstamumo tyrimo valdybos pareigūnai.\n",
      "\n"
     ]
    }
   ],
   "source": [
    "print(straipsniai[0].text)"
   ]
  },
  {
   "cell_type": "code",
   "execution_count": 5,
   "metadata": {},
   "outputs": [],
   "source": [
    "# Surinkite visus straipsnių pavadinimus ir nuorodas į pačius straipsnius iš \n",
    "# Kauno  diena puslapio. Suraskite vidutinį straipsnių pavadinimuose esančių žodžių skaičių. \n",
    "# Atvaizduoikite grafiškai straipsnių kiekį VS žodžių kiekis pavadinime. Suraskite ilgiausią pavadinimą, \n",
    "# nueikite į tą straipsnį, suraskite 5kis dažniausiai pasikartojančius \n",
    "# žodžius, iliustruokite grafiškai. Suskaičiuokite, \n",
    "# kiek vidutiniškai turi žodžių straipsniai, esantys Kauno dienoje.\n",
    "#  atlikite tą patį su delfi.lt, palyginkite tarpusavyje kauno dieną ir delfi.lt, palyginimus\n",
    "# atlikite pateikdami grafikus."
   ]
  },
  {
   "cell_type": "code",
<<<<<<< HEAD
   "execution_count": 7,
=======
   "execution_count": 6,
>>>>>>> origin/main
   "metadata": {},
   "outputs": [
    {
     "data": {
      "text/plain": [
       "'Baudžiamosios bylos duomenimis, nuo 2022 metų pavasario iki 2023-iųjų sausio pabaigos, Lietuvos didžiuosiuose miestuose veikė neįvardijamo organizatoriaus sukurtas prostitucijos tinklas. Organizatorius pats arba per tarpininkus, įtariama, surasdavo merginas, sutinkančias teikti seksualines paslaugas už atlygį, patalpas veiklai vykdyti, keldavo skelbimus internete apie teikiamas paslaugas.\\nTyrimo metu nustatyta, kad kaltinamoji, turėdama tikslą gauti turtinės naudos, prisijungė prie organizuotos grupės, kurioje buvo pelnomasi iš kitų asmenų prostitucijos. Manoma, kad moteris atskirais atvejais tardavosi dėl butų nuomos seksualinių paslaugų teikimui, mokėdavo už patalpų nuomą pinigais, gautais už merginų teikiamas seksualines paslaugas.\\nKaip įtariama, kaltinamoji tam tikrais atvejais apmokėdavo ir internetinių skelbimų įkėlimą bei iš merginų, teikiančių seksualines paslaugas, organizatoriaus pavedimu, rinko 50 proc. pajamų, gaunamų iš prostitucijos.\\nNustatyta, kad moteris pinigus dalimis perduodavo nurodytiems asmenims, dalį pinigų pasilikdavo už savo atliekamas funkcijas. Kaip įtariama, užsienietė gavo ne mažesnes kaip 25 tūkst. 500 eurų pajamas.\\nAtliekant ikiteisminį tyrimą nustatyta, kad iš kitų asmenų prostitucijos pelnėsi ir Lietuvos gyventojas.\\nKaip įtariama, kaltinamasis turėjo atlikti prostitucijos paslaugas teikiančių merginų apsaugos funkcijas ir spręsti kylančias konfliktines situacijas su klientais. Atskirais atvejais vyras apmokėdavo internetinius skelbimus dėl seksualinių paslaugų teikimo. Nustatyta, kad penkis kartus teistas lietuvis, dalyvaudamas prostitucijos tinklo veikloje, atlikdamas organizatoriaus numatytas funkcijas, įgijo ne mažesnes kaip 91 tūkst. 500 eurų pajamas.\\nBaudžiamajame kodekse numatyta, kad tas, kas organizavo ar vadovavo prostitucijai arba gabeno asmenį šio sutikimu prostitucijai į Lietuvą ar iš Lietuvos, baudžiamas laisvės atėmimu iki šešerių metų.\\nBaudžiamoji byla perduota nagrinėti Kauno apylinkės teismo Kauno rūmams.\\nIkiteisminiam tyrimui vadovavo Kauno apygardos prokuratūros Organizuotų nusikaltimų ir korupcijos tyrimo skyriaus prokurorė. Tyrimą atliko Kauno apskrities vyriausiojo policijos komisariato Kriminalinės policijos organizuoto nusikalstamumo tyrimo valdybos pareigūnai.\\n'"
      ]
     },
<<<<<<< HEAD
     "execution_count": 7,
=======
     "execution_count": 6,
>>>>>>> origin/main
     "metadata": {},
     "output_type": "execute_result"
    }
   ],
   "source": [
    "straipsniai[0].text"
   ]
  },
  {
   "cell_type": "code",
<<<<<<< HEAD
   "execution_count": 6,
=======
   "execution_count": 7,
>>>>>>> origin/main
   "metadata": {},
   "outputs": [],
   "source": [
    "for s in straipsniai:\n",
    "    i = s.find('div', {'class':'articles-list-title-wrapper'})\n",
    "    if i is not None:\n",
    "        t = i.find('a', {'class':'articles-list-title'})\n",
    "        print('::REM::')\n",
    "        print(t)\n",
    "        print('HREF?')\n",
    "        print(t['href'])\n",
    "        print(t.text)"
   ]
  }
 ],
 "metadata": {
  "kernelspec": {
   "display_name": "Python 3",
   "language": "python",
   "name": "python3"
  },
  "language_info": {
   "codemirror_mode": {
    "name": "ipython",
    "version": 3
   },
   "file_extension": ".py",
   "mimetype": "text/x-python",
   "name": "python",
   "nbconvert_exporter": "python",
   "pygments_lexer": "ipython3",
   "version": "3.12.3"
  }
 },
 "nbformat": 4,
 "nbformat_minor": 2
}
