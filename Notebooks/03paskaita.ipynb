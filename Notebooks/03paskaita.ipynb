{
 "cells": [
  {
   "cell_type": "code",
   "execution_count": 1,
   "metadata": {},
   "outputs": [
    {
     "name": "stdout",
     "output_type": "stream",
     "text": [
      "03 paskaita\n"
     ]
    }
   ],
   "source": [
    "print('03 paskaita')"
   ]
  },
  {
   "cell_type": "code",
   "execution_count": 2,
   "metadata": {},
   "outputs": [
    {
     "data": {
      "text/plain": [
       "3.5"
      ]
     },
     "execution_count": 2,
     "metadata": {},
     "output_type": "execute_result"
    }
   ],
   "source": [
    "7 / 2"
   ]
  },
  {
   "cell_type": "code",
   "execution_count": 1,
   "metadata": {},
   "outputs": [
    {
     "data": {
      "text/plain": [
       "2.0"
      ]
     },
     "execution_count": 1,
     "metadata": {},
     "output_type": "execute_result"
    }
   ],
   "source": [
    "5.9 // 2 # floor()"
   ]
  },
  {
   "cell_type": "code",
   "execution_count": 5,
   "metadata": {},
   "outputs": [
    {
     "name": "stdout",
     "output_type": "stream",
     "text": [
      "Nelyginis\n"
     ]
    }
   ],
   "source": [
    "i = int(input('Įveskite skaičių'))\n",
    "ats = 'Lyginis' if i % 2 == 0 else 'Nelyginis'\n",
    "print(ats)"
   ]
  },
  {
   "cell_type": "code",
   "execution_count": 12,
   "metadata": {},
   "outputs": [
    {
     "name": "stdout",
     "output_type": "stream",
     "text": [
      "a daugiau už b\n"
     ]
    }
   ],
   "source": [
    "a = 5\n",
    "b = 10\n",
    "\n",
    "ats = \"a lygus b\" if a == b else 'a mažiau už b' if a < b else 'a daugiau už b'\n",
    "\n",
    "print(ats)"
   ]
  },
  {
   "cell_type": "code",
   "execution_count": 9,
   "metadata": {},
   "outputs": [
    {
     "name": "stdout",
     "output_type": "stream",
     "text": [
      "a mažiau už b\n"
     ]
    }
   ],
   "source": [
    "# su pilnu if sakiniu:\n",
    "if a == b:\n",
    "    print('a ir b yra lygūs')\n",
    "elif a < b:\n",
    "    print('a mažiau už b')\n",
    "else:\n",
    "    print('a daugiau už b')"
   ]
  },
  {
   "cell_type": "code",
   "execution_count": 3,
   "metadata": {},
   "outputs": [
    {
     "name": "stdout",
     "output_type": "stream",
     "text": [
      "!!\n"
     ]
    }
   ],
   "source": [
    "if 0:\n",
    "    print('!')\n",
    "else:\n",
    "    print('!!')"
   ]
  },
  {
   "cell_type": "code",
   "execution_count": 4,
   "metadata": {},
   "outputs": [
    {
     "name": "stdout",
     "output_type": "stream",
     "text": [
      "Galite balsuoti\n",
      "79.33333333333333\n",
      "Vid. teigiamas\n",
      "56 3136 28.0\n"
     ]
    }
   ],
   "source": [
    "# • Liepkite vartotojui suvesti savo amžių. Patikrinkite ar amžius\n",
    "# yra didesnis arba lygus 18-ai, jei taip - išveskite “jūs galite\n",
    "# balsuoti”.\n",
    "\n",
    "# age = int(input('Jūsų amžius?'))\n",
    "age = 18\n",
    "ats = 'Galite balsuoti' if age >= 18 else \"Negalite balsuoti\"\n",
    "print(ats)\n",
    "\n",
    "# • Leiskite vartotojui suvesti norimą kiekį pažymių (pavyzdžiui,\n",
    "# jūs nusimatote 3-is kintamuosius, tai leidžiate padaryti 3\n",
    "# įvedimus). Raskite šių pažymių vidurkį. Patikrinkite ar\n",
    "# vidurkis teigiamas (daugiau arba lygu 5-iems), jei taip -\n",
    "# išveskite 'vidurkis teigiamas'.\n",
    "a = int(input('1 skaičius iš 3jų'))\n",
    "b = int(input('2 skaičius iš 3jų'))\n",
    "c = int(input('3 skaičius iš 3jų'))\n",
    "v = (a+b+c)/3\n",
    "print(v)\n",
    "ats = 'Vid. teigiamas' if v >= 5 else 'Neigiamas'\n",
    "print(ats)\n",
    "# • Susikurkite skaičiaus kintamąjį arba leiskite šį skaičių įvesti\n",
    "# vartotojui.\n",
    "\n",
    "# Atlikite šiuos patikrinimus ir veiksmus:\n",
    "# 1. Jei skaičius dalinasi iš 5, tuomet išveskite žodį \"Labas\", pakartotą tiek,\n",
    "# koks yra įvestas skaičius.\n",
    "# 2. Jei skaičius lyginis, tuomet išveskite šį skaičių, jo kvadratą ir\n",
    "# jį padalintą iš 2.\n",
    "# 3. Jei skaičius nesidalina iš 7, tuomet susikurkite antrąjį\n",
    "# kintamąjį, išveskite šio skaičiaus ir 7-to sumą, skirtumą, sandaugą\n",
    "a = int(input('Skaičius?'))\n",
    "if a % 5 == 0:\n",
    "    print('Labas'*a)\n",
    "elif a % 2 == 0:\n",
    "    print(a, a**2, a/2)\n",
    "elif  a % 7 != 0:\n",
    "    b = int(input('Skaičius?'))\n",
    "    print(b*7, b+7, b-7)"
   ]
  },
  {
   "cell_type": "code",
   "execution_count": null,
   "metadata": {},
   "outputs": [],
   "source": [
    "# • Parašyti programą, kuri paklaustų dviejų skaičių, ir juos\n",
    "# palygintų.\n",
    "a = int(input('Įveskite 1-mą skaičių'))\n",
    "b = int(input('Įveskite 2-trą skaičių'))\n",
    "ats = \"a lygus b\" if a == b else 'a mažiau už b' if a < b else 'a daugiau už b'\n",
    "print(ats)\n",
    "# • Paklausti teksto, ir patikrinti, ar tas tekstas yra sakinyje\n",
    "# \"Vilnius yra UNESCO paveldas nuo 1996 metų.\"\n",
    "\n",
    "t = \"Vilnius yra UNESCO paveldas nuo 1996 metų.\"\n",
    "r = input('Įveskite tekstą')\n",
    "if r in t: # t.count(r) > 0\n",
    "    print('Yra toks tekstas')\n",
    "else:\n",
    "    print('nėra tokio teksto')\n",
    "\n",
    "# • Patikrinti įvestą skaičių, ar jis yra tarp 10 ir 20. Pavyzdžiui,\n",
    "# įvedus 15, turi spausdinti: \"15 yra tarp 10 ir 20\"\n",
    "\n",
    "a = int(input('SK?'))\n",
    "ats = f'{a} yra tarp 10 ir 20' if a > 10 and a < 20 else 'Nepateko į rėžius'\n",
    "print(ats)\n",
    "\n",
    "# • Patikrinti, ar vartotojo įvestas skaičius yra lyginis, ar ne.\n",
    "# • parašyti programą 'FizzBuzz'. Įvedus skaičių, kuris dalinasi\n",
    "# iš 3, spausdinamas žodis \"Fizz\", jei dalinasi iš 5 - \"Buzz\", o jei\n",
    "# dalinasi ir iš 3 ir iš 5 - \"FizzBuzz\". Jei nesidalina nei iš 3, nei iš\n",
    "# 5 - spausdinamas įvestas skaičius.\n",
    "\n",
    "a = int(input('SK?'))\n",
    "if a % 3 == 0 and a % 5 == 0:\n",
    "    print('FizzBuzz')\n",
    "elif  a % 3 == 0:\n",
    "    pass\n",
    "elif a % 5 == 0:\n",
    "    pass\n",
    "else:\n",
    "    pass\n",
    "\n",
    "\n",
    "# • Patikrinkite vartotojo įvestą tekstą:\n",
    "# • Ar vartotojas apskritai ką nors įvedė? \n",
    "t = 'Įvestas tekstas'\n",
    "if len(t) > 0:\n",
    "    pass\n",
    "if t:\n",
    "    pass\n",
    "# • Ar jame vien tik skaičiai? .isnumeric()\n",
    "# • Ar jame vien tik raidės? .isalpha()\n",
    "# • Ar jame nėra specialiųjų simbolių? .isalnum()\n",
    "# • Kokiu registru parašytas tekstas? .isupper() .islower()"
   ]
  },
  {
   "cell_type": "code",
   "execution_count": 16,
   "metadata": {},
   "outputs": [],
   "source": [
    "t = 'abc1478!'\n",
    "if t.isalnum():\n",
    "    print('raidės/skaičiai')"
   ]
  },
  {
   "cell_type": "code",
   "execution_count": 20,
   "metadata": {},
   "outputs": [
    {
     "name": "stdout",
     "output_type": "stream",
     "text": [
      "Pašerti katiną\n",
      "1323\n"
     ]
    }
   ],
   "source": [
    "lst = [\"Pašerti katiną\", \"Pašerti šunį\", \"Nupirkti pieno\",  \"Vilniaus įkūrimo metai\", 1323]\n",
    "#  lst = []\n",
    "print(lst[0])\n",
    "print(lst[-1])"
   ]
  },
  {
   "cell_type": "code",
   "execution_count": 141,
   "metadata": {},
   "outputs": [
    {
     "name": "stdout",
     "output_type": "stream",
     "text": [
      "Pašerti katiną\n",
      "1323\n",
      "['Pašerti katiną', 'Pašerti šunį', 'Nupirkti pieno', 'Vilniaus įkūrimo metai', 'Nupirkti koldūnų']\n"
     ]
    },
    {
     "data": {
      "text/plain": [
       "5"
      ]
     },
     "execution_count": 141,
     "metadata": {},
     "output_type": "execute_result"
    }
   ],
   "source": [
    "lst = [\"Pašerti katiną\", \"Pašerti šunį\", \"Nupirkti pieno\",  \"Vilniaus įkūrimo metai\", 1323]\n",
    "#  lst = []\n",
    "print(lst[0])\n",
    "print(lst[-1])\n",
    "lst[-1] = \"Nupirkti koldūnų\"\n",
    "print(lst)\n",
    "len(lst)"
   ]
  },
  {
   "cell_type": "code",
   "execution_count": 22,
   "metadata": {},
   "outputs": [
    {
     "name": "stdout",
     "output_type": "stream",
     "text": [
      "['Nupirkti koldūnų', 'Pašerti šunį', 'Nupirkti pieno', 'Vilniaus įkūrimo metai', 1323]\n",
      "['Nupirkti koldūnų', 'Pašerti šunį', 'Nupirkti pieno', 'Vilniaus įkūrimo metai', 'Nupirkti koldūnų']\n"
     ]
    }
   ],
   "source": [
    "print(lst)\n",
    "lst[-1] = \"Nupirkti koldūnų\"\n",
    "print(lst)"
   ]
  },
  {
   "cell_type": "code",
   "execution_count": 23,
   "metadata": {},
   "outputs": [
    {
     "data": {
      "text/plain": [
       "5"
      ]
     },
     "execution_count": 23,
     "metadata": {},
     "output_type": "execute_result"
    }
   ],
   "source": [
    "len(lst)"
   ]
  },
  {
   "cell_type": "code",
   "execution_count": 28,
   "metadata": {},
   "outputs": [
    {
     "name": "stdout",
     "output_type": "stream",
     "text": [
      "['Nupirkti koldūnų', 'Pašerti šunį', 'Nupirkti pieno', 'Vilniaus įkūrimo metai', 'Nupirkti koldūnų', 'Nuvažiuoti prie jūros', 'Nuvažiuoti prie jūros', 'Nuvažiuoti prie jūros', 'Nuvažiuoti prie jūros']\n",
      "['Nupirkti koldūnų', 'Pašerti šunį', 'Nupirkti pieno', 'Vilniaus įkūrimo metai', 'Nupirkti koldūnų', 'Nuvažiuoti prie jūros', 'Nuvažiuoti prie jūros', 'Nuvažiuoti prie jūros', 'Nuvažiuoti prie jūros', 'Nuvažiuoti prie jūros']\n"
     ]
    }
   ],
   "source": [
    "print(lst)\n",
    "lst.append('Nuvažiuoti prie jūros')\n",
    "print(lst)"
   ]
  },
  {
   "cell_type": "code",
   "execution_count": 29,
   "metadata": {},
   "outputs": [
    {
     "name": "stdout",
     "output_type": "stream",
     "text": [
      "['Nupirkti koldūnų', 'Pašerti šunį', 'Nupirkti pieno', 'Vilniaus įkūrimo metai', 'Nupirkti koldūnų', 'Nuvažiuoti prie jūros', 'Nuvažiuoti prie jūros', 'Nuvažiuoti prie jūros', 'Nuvažiuoti prie jūros', 'Nuvažiuoti prie jūros']\n",
      "['Nupirkti koldūnų', 'Nuvažiuoti prie jūros', 'Pašerti šunį', 'Nupirkti pieno', 'Vilniaus įkūrimo metai', 'Nupirkti koldūnų', 'Nuvažiuoti prie jūros', 'Nuvažiuoti prie jūros', 'Nuvažiuoti prie jūros', 'Nuvažiuoti prie jūros', 'Nuvažiuoti prie jūros']\n"
     ]
    }
   ],
   "source": [
    "print(lst)\n",
    "lst.insert(1, 'Nuvažiuoti prie jūros')\n",
    "print(lst)"
   ]
  },
  {
   "cell_type": "code",
   "execution_count": 142,
   "metadata": {},
   "outputs": [
    {
     "name": "stdout",
     "output_type": "stream",
     "text": [
      "['Pašerti katiną', 'Pašerti šunį', 'Nupirkti pieno', 'Vilniaus įkūrimo metai', 'Nupirkti koldūnų']\n",
      "['Pašerti katiną', 'Nupirkti pieno', 'Vilniaus įkūrimo metai', 'Nupirkti koldūnų']\n"
     ]
    }
   ],
   "source": [
    "print(lst)\n",
    "lst.pop(1)\n",
    "print(lst)"
   ]
  },
  {
   "cell_type": "code",
   "execution_count": 33,
   "metadata": {},
   "outputs": [
    {
     "data": {
      "text/plain": [
       "5"
      ]
     },
     "execution_count": 33,
     "metadata": {},
     "output_type": "execute_result"
    }
   ],
   "source": [
    "lst.index('Nuvažiuoti prie jūros')"
   ]
  },
  {
   "cell_type": "code",
   "execution_count": 34,
   "metadata": {},
   "outputs": [
    {
     "name": "stdout",
     "output_type": "stream",
     "text": [
      "[1, 2, 3, 4, 5, 6]\n"
     ]
    }
   ],
   "source": [
    "l = [1,2,3]\n",
    "l2 = [4,5,6]\n",
    "l.extend(l2)\n",
    "print(l)"
   ]
  },
  {
   "cell_type": "code",
   "execution_count": 36,
   "metadata": {},
   "outputs": [
    {
     "name": "stdout",
     "output_type": "stream",
     "text": [
      "[4, 5, 6, 1, 2, 3]\n"
     ]
    }
   ],
   "source": [
    "l = [1,2,3]\n",
    "l2 = [4,5,6]\n",
    "ats = l2 + l\n",
    "print(ats)"
   ]
  },
  {
   "cell_type": "code",
   "execution_count": 41,
   "metadata": {},
   "outputs": [
    {
     "name": "stdout",
     "output_type": "stream",
     "text": [
      "['Aš rytais mėgstu kav', ' kakav', ' arbat', ' sausainius']\n"
     ]
    }
   ],
   "source": [
    "txt = \"Aš rytais mėgstu kavą, kakavą, arbatą, sausainius\"\n",
    "ats = txt.split('ą,')\n",
    "print(ats)"
   ]
  },
  {
   "cell_type": "code",
   "execution_count": 46,
   "metadata": {},
   "outputs": [
    {
     "name": "stdout",
     "output_type": "stream",
     "text": [
      "Aš rytais mėgstu kav kakav arbat sausainius\n",
      "43 49\n"
     ]
    }
   ],
   "source": [
    "a = ''.join(ats)\n",
    "print(a)\n",
    "print(len(a), len(txt))"
   ]
  },
  {
   "cell_type": "code",
   "execution_count": 1,
   "metadata": {},
   "outputs": [
    {
     "name": "stdout",
     "output_type": "stream",
     "text": [
      "10 m = 1000 cm = 10000 mm = 0.01 km\n"
     ]
    },
    {
     "ename": "ValueError",
     "evalue": "invalid literal for int() with base 10: 'valio valio'",
     "output_type": "error",
     "traceback": [
      "\u001b[1;31m---------------------------------------------------------------------------\u001b[0m",
      "\u001b[1;31mValueError\u001b[0m                                Traceback (most recent call last)",
      "Cell \u001b[1;32mIn[1], line 14\u001b[0m\n\u001b[0;32m     11\u001b[0m \u001b[38;5;28mprint\u001b[39m(\u001b[38;5;124mf\u001b[39m\u001b[38;5;124m'\u001b[39m\u001b[38;5;132;01m{\u001b[39;00mm\u001b[38;5;132;01m}\u001b[39;00m\u001b[38;5;124m m = \u001b[39m\u001b[38;5;132;01m{\u001b[39;00mm\u001b[38;5;241m*\u001b[39m\u001b[38;5;241m100\u001b[39m\u001b[38;5;132;01m}\u001b[39;00m\u001b[38;5;124m cm = \u001b[39m\u001b[38;5;132;01m{\u001b[39;00mm\u001b[38;5;241m*\u001b[39m\u001b[38;5;241m1000\u001b[39m\u001b[38;5;132;01m}\u001b[39;00m\u001b[38;5;124m mm = \u001b[39m\u001b[38;5;132;01m{\u001b[39;00mm\u001b[38;5;241m/\u001b[39m\u001b[38;5;241m1000\u001b[39m\u001b[38;5;132;01m}\u001b[39;00m\u001b[38;5;124m km\u001b[39m\u001b[38;5;124m'\u001b[39m)\n\u001b[0;32m     13\u001b[0m sk \u001b[38;5;241m=\u001b[39m \u001b[38;5;28minput\u001b[39m(\u001b[38;5;124m'\u001b[39m\u001b[38;5;124msk,sk\u001b[39m\u001b[38;5;124m'\u001b[39m)\u001b[38;5;241m.\u001b[39msplit(\u001b[38;5;124m'\u001b[39m\u001b[38;5;124m,\u001b[39m\u001b[38;5;124m'\u001b[39m)\n\u001b[1;32m---> 14\u001b[0m a,b \u001b[38;5;241m=\u001b[39m \u001b[38;5;28;43mint\u001b[39;49m\u001b[43m(\u001b[49m\u001b[43msk\u001b[49m\u001b[43m[\u001b[49m\u001b[38;5;241;43m0\u001b[39;49m\u001b[43m]\u001b[49m\u001b[43m)\u001b[49m, \u001b[38;5;28mint\u001b[39m(sk[\u001b[38;5;241m1\u001b[39m])\n\u001b[0;32m     15\u001b[0m \u001b[38;5;28mprint\u001b[39m(a \u001b[38;5;241m%\u001b[39m b)\n\u001b[0;32m     16\u001b[0m \u001b[38;5;28mprint\u001b[39m(a\u001b[38;5;241m*\u001b[39m\u001b[38;5;241m*\u001b[39mb)\n",
      "\u001b[1;31mValueError\u001b[0m: invalid literal for int() with base 10: 'valio valio'"
     ]
    }
   ],
   "source": [
    "# • Leiskite vartotojui įvesti metrus. Išveskite, kiek tai gaunasi\n",
    "# centimetrais, milimetrais ir kilometrais.\n",
    "# • Leiskite vartotojui įvesti du norimus skaičius. Išveskite kokia\n",
    "# gaunasi liekana padalinus vieną skaičių iš kito.\n",
    "# • Leiskite vartotojui įvesti du skaičius. Išveskite kiek gautųsi\n",
    "# vieną skaičių pakėlus kito skaičiaus laipsniu (pvz, pirmas\n",
    "# skaičius eina už pagrindą, o antras skaičius yra laipsnis,\n",
    "# kuriuo ir keliame).\n",
    "\n",
    "m = int(input('metrai?'))\n",
    "print(f'{m} m = {m*100} cm = {m*1000} mm = {m/1000} km')*\n",
    "\n",
    "sk = input('sk,sk').split(',')\n",
    "a,b = int(sk[0]), int(sk[1])\n",
    "print(a % b)\n",
    "print(a**b)"
   ]
  },
  {
   "cell_type": "code",
   "execution_count": 14,
   "metadata": {},
   "outputs": [
    {
     "name": "stdout",
     "output_type": "stream",
     "text": [
      "a=12, b=1\n",
      "a/b liekana yra 0 a laipsniu b = 12\n",
      "b/a liekana yra 1 a laipsniu b = 1\n"
     ]
    }
   ],
   "source": [
    "a=int(input('ivesk sk'))\n",
    "b=int(input('ivesk sk'))\n",
    "print (f'a={a}, b={b}')\n",
    "print ('a/b liekana yra', a%b, 'a laipsniu b =', a**b)\n",
    "print('b/a liekana yra', b%a, 'a laipsniu b =', b**a)"
   ]
  },
  {
   "cell_type": "code",
   "execution_count": 20,
   "metadata": {},
   "outputs": [
    {
     "name": "stdout",
     "output_type": "stream",
     "text": [
      "Ivesk du skaicius atskirtus kableliu\n",
      "a/b liekana 0\n",
      "a pakeltas laipsniu b= 1728\n"
     ]
    }
   ],
   "source": [
    "print('Ivesk du skaicius atskirtus kableliu')\n",
    "sk = input('sk,sk').split(',')\n",
    "a,b = int(sk[0]), int(sk[1])\n",
    "print('a/b liekana', a % b)\n",
    "print('a pakeltas laipsniu b=', a**b)"
   ]
  },
  {
   "cell_type": "code",
   "execution_count": 58,
   "metadata": {},
   "outputs": [
    {
     "name": "stdout",
     "output_type": "stream",
     "text": [
      "Python\n",
      "kalba\n",
      "['yra', 'programavimo']\n",
      "<class 'str'>\n",
      "tekstas, str 6\n",
      "10\n",
      "Aš mėgstu su ir su\n"
     ]
    }
   ],
   "source": [
    "lst = [\"Python\", \"yra\", \"lengva\", \"programavimo\", \"kalba\"]\n",
    "# • Išveskite pirmą, paskutinį elementus\n",
    "# • Išveskite kas antrą elementą\n",
    "# • Išveskite priešpaskutinio elemento tipą\n",
    "# • Patikrinkite, ar pirmasis sąrašo elementas yra tekstas, ir kiek\n",
    "# simbolių jis turi.\n",
    "print(lst[0], lst[-1], lst[1::2], type(lst[-2]), sep='\\n')\n",
    "if type(lst[0]) is str:\n",
    "    print('tekstas, str', len(lst[0]))\n",
    "txt = \"Aš rytais mėgstu kavą su sumuštiniais ir arbatą su pyragu\"\n",
    "# • Suskaičiuokite, kiek šiame tekste yra žodžių.\n",
    "print(len(txt.split()))\n",
    "# • Išveskite tekstą be kas antro žodžio\n",
    "ats = ' '.join(txt.split()[::2])\n",
    "print(ats)"
   ]
  },
  {
   "cell_type": "code",
   "execution_count": 23,
   "metadata": {},
   "outputs": [
    {
     "name": "stdout",
     "output_type": "stream",
     "text": [
      "pirmas ir paskutinie elementai yra 1234 kalba\n",
      "kas antras elementas,skaiciuojant nuo pirmojo yra ['1234', 'lengva', 'kalba'] kalba\n",
      "<class 'str'>\n",
      "pirmas elementas nera tekstas\n"
     ]
    }
   ],
   "source": [
    "lst= [\"Phyton5\", \"yra\", \"lengva\", \"programavimo\", \"kalba\"]\n",
    "print('pirmas ir paskutinie elementai yra', lst[0], lst[-1])\n",
    "print ('kas antras elementas,skaiciuojant nuo pirmojo yra', lst[0: :2], 'paskutinis elementas yra', lst[-1])\n",
    "print (type(lst[-2]))\n",
    "if lst[0].isalpha():\n",
    "    print ('pirmas elementa yra tekstas, kurio ilgis', len(lst[0]))\n",
    "else:\n",
    "    print ('pirmas elementas nera tekstas')   "
   ]
  },
  {
   "cell_type": "code",
   "execution_count": 33,
   "metadata": {},
   "outputs": [
    {
     "name": "stdout",
     "output_type": "stream",
     "text": [
      "10\n",
      "['Aš', 'mėgstu', 'su', 'ir', 'su']\n"
     ]
    }
   ],
   "source": [
    "txt = \"Aš rytais mėgstu kavą su sumuštiniais ir arbatą su pyragu\"\n",
    "print(len(txt.split()))\n",
    "\n",
    "ats =(txt.split()[0: :2])\n",
    "print( ats)"
   ]
  },
  {
   "cell_type": "code",
   "execution_count": 34,
   "metadata": {},
   "outputs": [
    {
     "name": "stdout",
     "output_type": "stream",
     "text": [
      "10\n",
      "Aš mėgstu su ir su\n"
     ]
    }
   ],
   "source": [
    "txt = \"Aš rytais mėgstu kavą su sumuštiniais ir arbatą su pyragu\"\n",
    "print(len(txt.split()))\n",
    "ats = ' '.join(txt.split()[::2])\n",
    "print( ats)"
   ]
  },
  {
   "cell_type": "code",
   "execution_count": 42,
   "metadata": {},
   "outputs": [
    {
     "name": "stdout",
     "output_type": "stream",
     "text": [
      "1323\n",
      "VILNIUS\n",
      "STO\n"
     ]
    }
   ],
   "source": [
    "# Sąrašai gali turėti savyje bet kokį objektą, kad ir kitą sąrašą\n",
    "# (sudėtinis sąrašas (nested list)).\n",
    "l = [\"Vilnius\", 1323, [\"Nupirkti maisto\", \"PABėgioti\"], 8, \"Rytas\"]\n",
    "# • Išveskite Vilniaus paminėjimo metus, žodį ”Vilnius”\n",
    "# didžiosiomis raidėmis\n",
    "# • Išveskite žodžio ”maisto” paskutines tris raides didžiosiomis.\n",
    "# • Užrašykite kodą, kuris patikrintų, ar žodžio ”Pabėgioti” pirmi\n",
    "# trys simboliai yra didžiosios raidės.\n",
    "print(l[1], l[0].upper(), sep='\\n')\n",
    "print(l[2][0][-3:].upper())\n",
    "if l[2][-1][:3].isupper():\n",
    "    print('Taip, didžiosios')"
   ]
  },
  {
   "cell_type": "code",
   "execution_count": 44,
   "metadata": {},
   "outputs": [
    {
     "name": "stdout",
     "output_type": "stream",
     "text": [
      "1323\n",
      "VILNIUS\n",
      "STO\n",
      "pirmos raides mazosios\n"
     ]
    }
   ],
   "source": [
    "l = [\"Vilnius\", 1323, [\"Nupirkti maisto\", \"pabėgioti\"], 8, \"Rytas\"]\n",
    "print (l[1])\n",
    "print (l[0].upper())\n",
    "print (l[2][0][-3:].upper())\n",
    "if l[2][-1][:3].isupper():\n",
    "    print ('zodzio pirmos raides didziosios')\n",
    "else:\n",
    "    print('pirmos raides mazosios')"
   ]
  },
  {
   "cell_type": "code",
   "execution_count": 50,
   "metadata": {},
   "outputs": [
    {
     "name": "stdout",
     "output_type": "stream",
     "text": [
      "['A', 'b', 'c']\n"
     ]
    },
    {
     "ename": "TypeError",
     "evalue": "'tuple' object does not support item assignment",
     "output_type": "error",
     "traceback": [
      "\u001b[1;31m---------------------------------------------------------------------------\u001b[0m",
      "\u001b[1;31mTypeError\u001b[0m                                 Traceback (most recent call last)",
      "Cell \u001b[1;32mIn[50], line 5\u001b[0m\n\u001b[0;32m      3\u001b[0m sar[\u001b[38;5;241m0\u001b[39m] \u001b[38;5;241m=\u001b[39m sar[\u001b[38;5;241m0\u001b[39m]\u001b[38;5;241m.\u001b[39mupper() \u001b[38;5;66;03m#pakeitimas\u001b[39;00m\n\u001b[0;32m      4\u001b[0m \u001b[38;5;28mprint\u001b[39m(sar)\n\u001b[1;32m----> 5\u001b[0m \u001b[43meil\u001b[49m\u001b[43m[\u001b[49m\u001b[38;5;241;43m0\u001b[39;49m\u001b[43m]\u001b[49m \u001b[38;5;241m=\u001b[39m \u001b[38;5;124m'\u001b[39m\u001b[38;5;124ma\u001b[39m\u001b[38;5;124m'\u001b[39m\u001b[38;5;241m.\u001b[39mupper() \u001b[38;5;66;03m#neveiks\u001b[39;00m\n",
      "\u001b[1;31mTypeError\u001b[0m: 'tuple' object does not support item assignment"
     ]
    }
   ],
   "source": [
    "sar = ['a', 'b', 'c'] #sąrašas\n",
    "eil = ('a', 'b', 'c') #eilutė\n",
    "sar[0] = sar[0].upper() #pakeitimas\n",
    "print(sar)\n",
    "eil[0] = 'a'.upper() #neveiks"
   ]
  },
  {
   "cell_type": "code",
   "execution_count": 51,
   "metadata": {},
   "outputs": [
    {
     "data": {
      "text/plain": [
       "'c'"
      ]
     },
     "execution_count": 51,
     "metadata": {},
     "output_type": "execute_result"
    }
   ],
   "source": [
    "eil[-1]"
   ]
  },
  {
   "cell_type": "code",
   "execution_count": null,
   "metadata": {},
   "outputs": [],
   "source": [
    "a = 'ABC vldfjgfekpb sclkgpfkbg czb,kpsfkb' # string - tekstas\n",
    "b = ('aadklfopisdfbg lxcbjpodfjb saf;cljkgopdfjb','bdkfnopsdfjbgmdf, bmpodfjkbfdl;kbm') # tuple - eilutė "
   ]
  },
  {
   "cell_type": "code",
   "execution_count": 64,
   "metadata": {},
   "outputs": [
    {
     "name": "stdout",
     "output_type": "stream",
     "text": [
      "[1, 5, 3, 4, 7]\n"
     ]
    }
   ],
   "source": [
    "l = [1,5,3,4,7]\n",
    "print(l)"
   ]
  },
  {
   "cell_type": "code",
   "execution_count": 66,
   "metadata": {},
   "outputs": [
    {
     "name": "stdout",
     "output_type": "stream",
     "text": [
      "{'M', 'C', 'A', 'B'}\n"
     ]
    }
   ],
   "source": [
    "s = set(['M','A', 'B', 'C', 'C', 'C']) #iš sąrašo\n",
    "print(s)"
   ]
  },
  {
   "cell_type": "code",
   "execution_count": 67,
   "metadata": {},
   "outputs": [
    {
     "name": "stdout",
     "output_type": "stream",
     "text": [
      "{'M', 'B', 'A', 'C'}\n"
     ]
    }
   ],
   "source": [
    "s = {'B', 'A', 'C', 'M'} #tiesiogiai\n",
    "print(s)"
   ]
  },
  {
   "cell_type": "code",
   "execution_count": 76,
   "metadata": {},
   "outputs": [
    {
     "name": "stdout",
     "output_type": "stream",
     "text": [
      "{'A', 'B', 'C', 'M', 'F'}\n",
      "{'A', 'B', 'C', 'M', 'F'}\n"
     ]
    }
   ],
   "source": [
    "print(s)\n",
    "s.add('F')\n",
    "print(s)"
   ]
  },
  {
   "cell_type": "code",
   "execution_count": 1,
   "metadata": {},
   "outputs": [
    {
     "ename": "NameError",
     "evalue": "name 's' is not defined",
     "output_type": "error",
     "traceback": [
      "\u001b[1;31m---------------------------------------------------------------------------\u001b[0m",
      "\u001b[1;31mNameError\u001b[0m                                 Traceback (most recent call last)",
      "Cell \u001b[1;32mIn[1], line 1\u001b[0m\n\u001b[1;32m----> 1\u001b[0m \u001b[38;5;28mprint\u001b[39m(\u001b[43ms\u001b[49m)\n\u001b[0;32m      2\u001b[0m s\u001b[38;5;241m.\u001b[39mremove(\u001b[38;5;124m'\u001b[39m\u001b[38;5;124mF\u001b[39m\u001b[38;5;124m'\u001b[39m)\n\u001b[0;32m      3\u001b[0m \u001b[38;5;28mprint\u001b[39m(s)\n",
      "\u001b[1;31mNameError\u001b[0m: name 's' is not defined"
     ]
    }
   ],
   "source": [
    "print(s)\n",
    "s.remove('F')\n",
    "print(s)"
   ]
  },
  {
   "cell_type": "code",
   "execution_count": 79,
   "metadata": {},
   "outputs": [
    {
     "name": "stdout",
     "output_type": "stream",
     "text": [
      "{'A', 'B', 'C', 'M'}\n",
      "{'A', 'B', 'C', 'M'}\n"
     ]
    }
   ],
   "source": [
    "print(s)\n",
    "s.discard('F')\n",
    "print(s)"
   ]
  },
  {
   "cell_type": "code",
   "execution_count": 1,
   "metadata": {},
   "outputs": [
    {
     "name": "stdout",
     "output_type": "stream",
     "text": [
      "{1, 2, 3, 4, 5, 6, 'b', 'a'}\n",
      "{1, 2, 3}\n",
      "{'a', 4}\n",
      "{4, 5, 6, 'a', 'b'}\n",
      "[1, 2, 3, 4, 5, 8]\n"
     ]
    }
   ],
   "source": [
    "a_set={1,2,3,4, 'a'}\n",
    "b_set={1,2,3,5,6,'b'}\n",
    "# • raskite sąjungą šių rinkinių;\n",
    "print(a_set.union(b_set))\n",
    "# • raskite, kokie elementai buvo bendri abiems rinkiniams?\n",
    "print(a_set.intersection(b_set))\n",
    "# • raskite, kokiais elementais skiriasi a_set nuo b_set?\n",
    "print(a_set.difference(b_set))\n",
    "# • pašalinkite bendrus elementus tarp a_set ir b_set, likusius\n",
    "print(a_set.symmetric_difference(b_set))\n",
    "# elementus išspausdinkite.\n",
    "l = [1,1,2,2,3,4,5,5,5,8,8,1,2]\n",
    "# • Pašalinkite pasikartojančius elementus iš šio l sąrašo.\n",
    "l = list(set(l))\n",
    "print(l)"
   ]
  },
  {
   "cell_type": "code",
   "execution_count": 32,
   "metadata": {},
   "outputs": [
    {
     "name": "stdout",
     "output_type": "stream",
     "text": [
      "-2.4 daugiau už -3.4\n"
     ]
    }
   ],
   "source": [
    "a=float(input('skaicius?'))\n",
    "b=float(input('skaicius ?'))\n",
    "ats = f'{a} ir {b} yra lygus' if a == b else f'{a} mažiau už {b}' if a < b else f'{a} daugiau už {b}'\n",
    "print ( ats)"
   ]
  },
  {
   "cell_type": "code",
   "execution_count": null,
   "metadata": {},
   "outputs": [],
   "source": [
    "a=int(input(\"skaicius?\"))\n",
    "ats=f'{a} lyginis' if a%2==0 else f'{a} FizBuzz' if a%3==0 and a%5==0 else f'{a} Fizz' if a%3==0 else f'{a} Buzz' if a%5==0 else 'nera nei 3 , nei 5 kartotinis'\n",
    "print (ats)"
   ]
  },
  {
   "cell_type": "code",
   "execution_count": 129,
   "metadata": {},
   "outputs": [
    {
     "name": "stdout",
     "output_type": "stream",
     "text": [
      "tekste tik raides\n",
      "tekstas parasytas ir didziosiomis, ir mazosiomis\n"
     ]
    }
   ],
   "source": [
    "txt= input('ivestas tekstas/n')\n",
    "if len(a)==0:\n",
    "    print ('niekas neivesta')\n",
    "else:\n",
    "   if txt.isnumeric():\n",
    "      print ('tekste pateikti tik skaiciai')\n",
    "   else:\n",
    "      if txt.isalpha():\n",
    "         print ('tekste tik raides')\n",
    "         pass\n",
    "         if txt.isupper():\n",
    "            print (\"tekstas didziosiomis\")\n",
    "         else:\n",
    "             if txt.islower():\n",
    "                 print ('tekstas mazosiomis')\n",
    "             else:\n",
    "                 print('tekstas parasytas ir didziosiomis, ir mazosiomis')  \n",
    "               "
   ]
  },
  {
   "cell_type": "code",
   "execution_count": 135,
   "metadata": {},
   "outputs": [
    {
     "name": "stdout",
     "output_type": "stream",
     "text": [
      "tekste skaiciai ir raides\n"
     ]
    }
   ],
   "source": [
    "a=input('ivesk teksta/n')\n",
    "if a.isalpha():\n",
    "      print ('tekste tik raides')\n",
    "else:\n",
    "    if a.isnumeric():\n",
    "        print('tekste tik skaiciai') \n",
    "    else:\n",
    "        print( 'tekste skaiciai ir raides')\n",
    "    "
   ]
  },
  {
   "cell_type": "code",
   "execution_count": 138,
   "metadata": {},
   "outputs": [
    {
     "name": "stdout",
     "output_type": "stream",
     "text": [
      "True\n"
     ]
    }
   ],
   "source": [
    "a = 5>7\n",
    "print (not a)"
   ]
  },
  {
   "cell_type": "code",
   "execution_count": 139,
   "metadata": {},
   "outputs": [
    {
     "name": "stdout",
     "output_type": "stream",
     "text": [
      "<class 'str'> True\n",
      "<class 'list'> True\n",
      "<class 'dict'> True\n",
      "<class 'set'> True\n",
      "<class 'float'> True\n",
      "<class 'int'> True\n",
      "<class 'tuple'> True\n"
     ]
    }
   ],
   "source": [
    "s = 'A'\n",
    "lst = []\n",
    "dct = {}\n",
    "sets = set()\n",
    "flt = 1.0\n",
    "intgr = 7\n",
    "tpl = (7,)\n",
    "print(type(s), type(s) is str)\n",
    "print(type(lst), type(lst) is list)\n",
    "print(type(dct), type(dct) is dict)\n",
    "print(type(sets), type(sets) is set)\n",
    "print(type(flt), type(flt) is float)\n",
    "print(type(intgr), type(intgr) is int)\n",
    "print(type(tpl), type(tpl) is tuple)/"
   ]
  },
  {
   "cell_type": "code",
   "execution_count": 10,
   "metadata": {},
   "outputs": [
    {
     "name": "stdout",
     "output_type": "stream",
     "text": [
      "{'a', 1, 2, 3, 4}\n",
      "{1, 2, 3, 'b', 5, 6}\n",
      "{'a', 1, 2, 3, 4, 'b', 5, 6}\n",
      "{1, 2, 3}\n",
      "{'a', 4}\n",
      "{'a', 'b', 5, 6, 4}\n"
     ]
    }
   ],
   "source": [
    "a_set={1,2,3,4, 'a'}\n",
    "b_set={1,2,3,5,6,'b'}\n",
    "print (a_set, b_set, sep=\"\\n\")\n",
    "# • raskite sąjungą šių rinkinių;\n",
    "print(a_set.union(b_set))\n",
    "# • raskite, kokie elementai buvo bendri abiems rinkiniams?\n",
    "print(a_set.intersection(b_set))\n",
    "-0\n",
    "print(a_set.difference(b_set))\n",
    "# • pašalinkite bendrus elementus tarp a_set ir b_set, likusius\n",
    "print(a_set.symmetric_difference(b_set))\n",
    "# elementus išspausdinkite."
   ]
  },
  {
   "cell_type": "code",
   "execution_count": 11,
   "metadata": {},
   "outputs": [
    {
     "name": "stdout",
     "output_type": "stream",
     "text": [
      "{1, 2, 3, 4, 5, 8}\n"
     ]
    }
   ],
   "source": [
    "l = set( [1,1,2,2,3,4,5,5,5,8,8,1,2])\n",
    "# • Pašalinkite pasikartojančius elementus iš šio l sąrašo.\n",
    "print (l)"
   ]
  }
 ],
 "metadata": {
  "kernelspec": {
   "display_name": "Python 3",
   "language": "python",
   "name": "python3"
  },
  "language_info": {
   "codemirror_mode": {
    "name": "ipython",
    "version": 3
   },
   "file_extension": ".py",
   "mimetype": "text/x-python",
   "name": "python",
   "nbconvert_exporter": "python",
   "pygments_lexer": "ipython3",
   "version": "3.12.4"
  }
 },
 "nbformat": 4,
 "nbformat_minor": 2
}
