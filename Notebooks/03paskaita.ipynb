{
 "cells": [
  {
   "cell_type": "code",
   "execution_count": 1,
   "metadata": {},
   "outputs": [
    {
     "name": "stdout",
     "output_type": "stream",
     "text": [
      "03 paskaita\n"
     ]
    }
   ],
   "source": [
    "print('03 paskaita')"
   ]
  },
  {
   "cell_type": "code",
   "execution_count": 1,
   "metadata": {},
   "outputs": [
    {
     "data": {
      "text/plain": [
       "3.5"
      ]
     },
     "execution_count": 1,
     "metadata": {},
     "output_type": "execute_result"
    }
   ],
   "source": [
    "7 / 2"
   ]
  },
  {
   "cell_type": "code",
   "execution_count": 4,
   "metadata": {},
   "outputs": [
    {
     "data": {
      "text/plain": [
       "2.0"
      ]
     },
     "execution_count": 4,
     "metadata": {},
     "output_type": "execute_result"
    }
   ],
   "source": [
    "5.9 // 2 # floor()"
   ]
  },
  {
   "cell_type": "code",
   "execution_count": 5,
   "metadata": {},
   "outputs": [
    {
     "name": "stdout",
     "output_type": "stream",
     "text": [
      "Nelyginis\n"
     ]
    }
   ],
   "source": [
    "i = int(input('Įveskite skaičių'))\n",
    "ats = 'Lyginis' if i % 2 == 0 else 'Nelyginis'\n",
    "print(ats)"
   ]
  },
  {
   "cell_type": "code",
   "execution_count": 12,
   "metadata": {},
   "outputs": [
    {
     "name": "stdout",
     "output_type": "stream",
     "text": [
      "a daugiau už b\n"
     ]
    }
   ],
   "source": [
    "a = 5\n",
    "b = 10\n",
    "\n",
    "ats = \"a lygus b\" if a == b else 'a mažiau už b' if a < b else 'a daugiau už b'\n",
    "\n",
    "print(ats)"
   ]
  },
  {
   "cell_type": "code",
   "execution_count": 9,
   "metadata": {},
   "outputs": [
    {
     "name": "stdout",
     "output_type": "stream",
     "text": [
      "a mažiau už b\n"
     ]
    }
   ],
   "source": [
    "# su pilnu if sakiniu:\n",
    "if a == b:\n",
    "    print('a ir b yra lygūs')\n",
    "elif a < b:\n",
    "    print('a mažiau už b')\n",
    "else:\n",
    "    print('a daugiau už b')"
   ]
  },
  {
   "cell_type": "code",
   "execution_count": 13,
   "metadata": {},
   "outputs": [
    {
     "name": "stdout",
     "output_type": "stream",
     "text": [
      "!!\n"
     ]
    }
   ],
   "source": [
    "if 0:\n",
    "    print('!')\n",
    "else:\n",
    "    print('!!')"
   ]
  },
  {
   "cell_type": "code",
   "execution_count": 14,
   "metadata": {},
   "outputs": [
    {
     "name": "stdout",
     "output_type": "stream",
     "text": [
      "Galite balsuoti\n",
      "9.0\n",
      "Vid. teigiamas\n"
     ]
    }
   ],
   "source": [
    "# • Liepkite vartotojui suvesti savo amžių. Patikrinkite ar amžius\n",
    "# yra didesnis arba lygus 18-ai, jei taip - išveskite “jūs galite\n",
    "# balsuoti”.\n",
    "\n",
    "# age = int(input('Jūsų amžius?'))\n",
    "age = 18\n",
    "ats = 'Galite balsuoti' if age >= 18 else \"Negalite balsuoti\"\n",
    "print(ats)\n",
    "\n",
    "# • Leiskite vartotojui suvesti norimą kiekį pažymių (pavyzdžiui,\n",
    "# jūs nusimatote 3-is kintamuosius, tai leidžiate padaryti 3\n",
    "# įvedimus). Raskite šių pažymių vidurkį. Patikrinkite ar\n",
    "# vidurkis teigiamas (daugiau arba lygu 5-iems), jei taip -\n",
    "# išveskite 'vidurkis teigiamas'.\n",
    "a = int(input('1 skaičius iš 3jų'))\n",
    "b = int(input('2 skaičius iš 3jų'))\n",
    "c = int(input('3 skaičius iš 3jų'))\n",
    "v = (a+b+c)/3\n",
    "print(v)\n",
    "ats = 'Vid. teigiamas' if v >= 5 else 'Neigiamas'\n",
    "print(ats)\n",
    "# • Susikurkite skaičiaus kintamąjį arba leiskite šį skaičių įvesti\n",
    "# vartotojui.\n",
    "\n",
    "# Atlikite šiuos patikrinimus ir veiksmus:\n",
    "# 1. Jei skaičius dalinasi iš 5, tuomet išveskite žodį \"Labas\", pakartotą tiek,\n",
    "# koks yra įvestas skaičius.\n",
    "# 2. Jei skaičius lyginis, tuomet išveskite šį skaičių, jo kvadratą ir\n",
    "# jį padalintą iš 2.\n",
    "# 3. Jei skaičius nesidalina iš 7, tuomet susikurkite antrąjį\n",
    "# kintamąjį, išveskite šio skaičiaus ir 7-to sumą, skirtumą, sandaugą\n",
    "a = int(input('Skaičius?'))\n",
    "if a % 5 == 0:\n",
    "    print('Labas'*a)\n",
    "elif a % 2 == 0:\n",
    "    print(a, a**2, a/2)\n",
    "elif  a % 7 != 0:\n",
    "    b = int(input('Skaičius?'))\n",
    "    print(b*7, b+7, b-7)"
   ]
  },
  {
   "cell_type": "code",
   "execution_count": null,
   "metadata": {},
   "outputs": [],
   "source": [
    "# • Parašyti programą, kuri paklaustų dviejų skaičių, ir juos\n",
    "# palygintų.\n",
    "a = int(input('Įveskite 1-mą skaičių'))\n",
    "b = int(input('Įveskite 2-trą skaičių'))\n",
    "ats = \"a lygus b\" if a == b else 'a mažiau už b' if a < b else 'a daugiau už b'\n",
    "print(ats)\n",
    "# • Paklausti teksto, ir patikrinti, ar tas tekstas yra sakinyje\n",
    "# \"Vilnius yra UNESCO paveldas nuo 1996 metų.\"\n",
    "\n",
    "t = \"Vilnius yra UNESCO paveldas nuo 1996 metų.\"\n",
    "r = input('Įveskite tekstą')\n",
    "if r in t: # t.count(r) > 0\n",
    "    print('Yra toks tekstas')\n",
    "else:\n",
    "    print('nėra tokio teksto')\n",
    "\n",
    "# • Patikrinti įvestą skaičių, ar jis yra tarp 10 ir 20. Pavyzdžiui,\n",
    "# įvedus 15, turi spausdinti: \"15 yra tarp 10 ir 20\"\n",
    "\n",
    "a = int(input('SK?'))\n",
    "ats = f'{a} yra tarp 10 ir 20' if a > 10 and a < 20 else 'Nepateko į rėžius'\n",
    "print(ats)\n",
    "\n",
    "# • Patikrinti, ar vartotojo įvestas skaičius yra lyginis, ar ne.\n",
    "# • parašyti programą 'FizzBuzz'. Įvedus skaičių, kuris dalinasi\n",
    "# iš 3, spausdinamas žodis \"Fizz\", jei dalinasi iš 5 - \"Buzz\", o jei\n",
    "# dalinasi ir iš 3 ir iš 5 - \"FizzBuzz\". Jei nesidalina nei iš 3, nei iš\n",
    "# 5 - spausdinamas įvestas skaičius.\n",
    "\n",
    "a = int(input('SK?'))\n",
    "if a % 3 == 0 and a % 5 == 0:\n",
    "    print('FizzBuzz')\n",
    "elif  a % 3 == 0:\n",
    "    pass\n",
    "elif a % 5 == 0:\n",
    "    pass\n",
    "else:\n",
    "    pass\n",
    "\n",
    "\n",
    "# • Patikrinkite vartotojo įvestą tekstą:\n",
    "# • Ar vartotojas apskritai ką nors įvedė? \n",
    "t = 'Įvestas tekstas'\n",
    "if len(t) > 0:\n",
    "    pass\n",
    "if t:\n",
    "    pass\n",
    "# • Ar jame vien tik skaičiai? .isnumeric()\n",
    "# • Ar jame vien tik raidės? .isalpha()\n",
    "# • Ar jame nėra specialiųjų simbolių? .isalnum()\n",
    "# • Kokiu registru parašytas tekstas? .isupper() .islower()"
   ]
  },
  {
   "cell_type": "code",
   "execution_count": 16,
   "metadata": {},
   "outputs": [],
   "source": [
    "t = 'abc1478!'\n",
    "if t.isalnum():\n",
    "    print('raidės/skaičiai')"
   ]
  },
  {
   "cell_type": "code",
   "execution_count": 20,
   "metadata": {},
   "outputs": [
    {
     "name": "stdout",
     "output_type": "stream",
     "text": [
      "Pašerti katiną\n",
      "1323\n"
     ]
    }
   ],
   "source": [
    "lst = [\"Pašerti katiną\", \"Pašerti šunį\", \"Nupirkti pieno\",  \"Vilniaus įkūrimo metai\", 1323]\n",
    "#  lst = []\n",
    "print(lst[0])\n",
    "print(lst[-1])"
   ]
  },
  {
   "cell_type": "code",
   "execution_count": 22,
   "metadata": {},
   "outputs": [
    {
     "name": "stdout",
     "output_type": "stream",
     "text": [
      "['Nupirkti koldūnų', 'Pašerti šunį', 'Nupirkti pieno', 'Vilniaus įkūrimo metai', 1323]\n",
      "['Nupirkti koldūnų', 'Pašerti šunį', 'Nupirkti pieno', 'Vilniaus įkūrimo metai', 'Nupirkti koldūnų']\n"
     ]
    }
   ],
   "source": [
    "print(lst)\n",
    "lst[-1] = \"Nupirkti koldūnų\"\n",
    "print(lst)"
   ]
  },
  {
   "cell_type": "code",
   "execution_count": 23,
   "metadata": {},
   "outputs": [
    {
     "data": {
      "text/plain": [
       "5"
      ]
     },
     "execution_count": 23,
     "metadata": {},
     "output_type": "execute_result"
    }
   ],
   "source": [
    "len(lst)"
   ]
  },
  {
   "cell_type": "code",
   "execution_count": 28,
   "metadata": {},
   "outputs": [
    {
     "name": "stdout",
     "output_type": "stream",
     "text": [
      "['Nupirkti koldūnų', 'Pašerti šunį', 'Nupirkti pieno', 'Vilniaus įkūrimo metai', 'Nupirkti koldūnų', 'Nuvažiuoti prie jūros', 'Nuvažiuoti prie jūros', 'Nuvažiuoti prie jūros', 'Nuvažiuoti prie jūros']\n",
      "['Nupirkti koldūnų', 'Pašerti šunį', 'Nupirkti pieno', 'Vilniaus įkūrimo metai', 'Nupirkti koldūnų', 'Nuvažiuoti prie jūros', 'Nuvažiuoti prie jūros', 'Nuvažiuoti prie jūros', 'Nuvažiuoti prie jūros', 'Nuvažiuoti prie jūros']\n"
     ]
    }
   ],
   "source": [
    "print(lst)\n",
    "lst.append('Nuvažiuoti prie jūros')\n",
    "print(lst)"
   ]
  },
  {
   "cell_type": "code",
   "execution_count": 29,
   "metadata": {},
   "outputs": [
    {
     "name": "stdout",
     "output_type": "stream",
     "text": [
      "['Nupirkti koldūnų', 'Pašerti šunį', 'Nupirkti pieno', 'Vilniaus įkūrimo metai', 'Nupirkti koldūnų', 'Nuvažiuoti prie jūros', 'Nuvažiuoti prie jūros', 'Nuvažiuoti prie jūros', 'Nuvažiuoti prie jūros', 'Nuvažiuoti prie jūros']\n",
      "['Nupirkti koldūnų', 'Nuvažiuoti prie jūros', 'Pašerti šunį', 'Nupirkti pieno', 'Vilniaus įkūrimo metai', 'Nupirkti koldūnų', 'Nuvažiuoti prie jūros', 'Nuvažiuoti prie jūros', 'Nuvažiuoti prie jūros', 'Nuvažiuoti prie jūros', 'Nuvažiuoti prie jūros']\n"
     ]
    }
   ],
   "source": [
    "print(lst)\n",
    "lst.insert(1, 'Nuvažiuoti prie jūros')\n",
    "print(lst)"
   ]
  },
  {
   "cell_type": "code",
   "execution_count": 32,
   "metadata": {},
   "outputs": [
    {
     "name": "stdout",
     "output_type": "stream",
     "text": [
      "['Nupirkti koldūnų', 'Nuvažiuoti prie jūros', 'Pašerti šunį', 'Nupirkti pieno', 'Vilniaus įkūrimo metai', 'Nupirkti koldūnų', 'Nuvažiuoti prie jūros', 'Nuvažiuoti prie jūros', 'Nuvažiuoti prie jūros']\n",
      "['Nupirkti koldūnų', 'Pašerti šunį', 'Nupirkti pieno', 'Vilniaus įkūrimo metai', 'Nupirkti koldūnų', 'Nuvažiuoti prie jūros', 'Nuvažiuoti prie jūros', 'Nuvažiuoti prie jūros']\n"
     ]
    }
   ],
   "source": [
    "print(lst)\n",
    "lst.pop(1)\n",
    "print(lst)"
   ]
  },
  {
   "cell_type": "code",
   "execution_count": 33,
   "metadata": {},
   "outputs": [
    {
     "data": {
      "text/plain": [
       "5"
      ]
     },
     "execution_count": 33,
     "metadata": {},
     "output_type": "execute_result"
    }
   ],
   "source": [
    "lst.index('Nuvažiuoti prie jūros')"
   ]
  },
  {
   "cell_type": "code",
   "execution_count": 34,
   "metadata": {},
   "outputs": [
    {
     "name": "stdout",
     "output_type": "stream",
     "text": [
      "[1, 2, 3, 4, 5, 6]\n"
     ]
    }
   ],
   "source": [
    "l = [1,2,3]\n",
    "l2 = [4,5,6]\n",
    "l.extend(l2)\n",
    "print(l)"
   ]
  },
  {
   "cell_type": "code",
   "execution_count": 36,
   "metadata": {},
   "outputs": [
    {
     "name": "stdout",
     "output_type": "stream",
     "text": [
      "[4, 5, 6, 1, 2, 3]\n"
     ]
    }
   ],
   "source": [
    "l = [1,2,3]\n",
    "l2 = [4,5,6]\n",
    "ats = l2 + l\n",
    "print(ats)"
   ]
  },
  {
   "cell_type": "code",
   "execution_count": 41,
   "metadata": {},
   "outputs": [
    {
     "name": "stdout",
     "output_type": "stream",
     "text": [
      "['Aš rytais mėgstu kav', ' kakav', ' arbat', ' sausainius']\n"
     ]
    }
   ],
   "source": [
    "txt = \"Aš rytais mėgstu kavą, kakavą, arbatą, sausainius\"\n",
    "ats = txt.split('ą,')\n",
    "print(ats)"
   ]
  },
  {
   "cell_type": "code",
   "execution_count": 46,
   "metadata": {},
   "outputs": [
    {
     "name": "stdout",
     "output_type": "stream",
     "text": [
      "Aš rytais mėgstu kav kakav arbat sausainius\n",
      "43 49\n"
     ]
    }
   ],
   "source": [
    "a = ''.join(ats)\n",
    "print(a)\n",
    "print(len(a), len(txt))"
   ]
  },
  {
   "cell_type": "code",
   "execution_count": null,
   "metadata": {},
   "outputs": [],
   "source": [
    "# • Leiskite vartotojui įvesti metrus. Išveskite, kiek tai gaunasi\n",
    "# centimetrais, milimetrais ir kilometrais.\n",
    "# • Leiskite vartotojui įvesti du norimus skaičius. Išveskite kokia\n",
    "# gaunasi liekana padalinus vieną skaičių iš kito.\n",
    "# • Leiskite vartotojui įvesti du skaičius. Išveskite kiek gautųsi\n",
    "# vieną skaičių pakėlus kito skaičiaus laipsniu (pvz, pirmas\n",
    "# skaičius eina už pagrindą, o antras skaičius yra laipsnis,\n",
    "# kuriuo ir keliame)."
   ]
  }
 ],
 "metadata": {
  "kernelspec": {
   "display_name": "Python 3",
   "language": "python",
   "name": "python3"
  },
  "language_info": {
   "codemirror_mode": {
    "name": "ipython",
    "version": 3
   },
   "file_extension": ".py",
   "mimetype": "text/x-python",
   "name": "python",
   "nbconvert_exporter": "python",
   "pygments_lexer": "ipython3",
   "version": "3.12.4"
  }
 },
 "nbformat": 4,
 "nbformat_minor": 2
}
