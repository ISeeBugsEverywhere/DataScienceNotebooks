{
 "cells": [
  {
   "cell_type": "code",
   "execution_count": 1,
   "metadata": {},
   "outputs": [],
   "source": [
    "import numpy as np\n",
    "import pandas as pd\n",
    "import matplotlib.pyplot as plt\n",
    "import warnings\n",
    "warnings.filterwarnings('ignore')\n",
    "import seaborn as sns\n",
    "import sqlite3\n",
    "import mysql.connector as cnt\n",
    "import plotly.express as px"
   ]
  },
  {
   "cell_type": "code",
   "execution_count": 2,
   "metadata": {},
   "outputs": [
    {
     "name": "stdout",
     "output_type": "stream",
     "text": [
      "/home/egis/VisualCodeProjects/DataScienceNotebooks/Notebooks\n"
     ]
    }
   ],
   "source": [
    "import os\n",
    "print(os.getcwd())"
   ]
  },
  {
   "cell_type": "code",
   "execution_count": 5,
   "metadata": {},
   "outputs": [],
   "source": [
    "import selenium\n",
    "from selenium.webdriver.chrome.options import Options\n",
    "from selenium.webdriver.firefox.options import Options as FirefoxOptions\n",
    "from selenium import webdriver\n",
    "from bs4 import BeautifulSoup\n",
    "import time"
   ]
  },
  {
   "cell_type": "code",
   "execution_count": 6,
   "metadata": {},
   "outputs": [],
   "source": [
    "opcijos = Options()\n",
    "opcijos.add_argument('--incognito')\n",
    "driver = webdriver.Chrome(options=opcijos)\n",
    "url = 'https://www.varle.lt/dronai/'\n",
    "driver.get(url)\n",
    "time.sleep(5)\n",
    "source = driver.page_source\n",
    "driver.close()"
   ]
  },
  {
   "cell_type": "code",
   "execution_count": 7,
   "metadata": {},
   "outputs": [],
   "source": [
    "bs = BeautifulSoup(source, 'html.parser')"
   ]
  },
  {
   "cell_type": "code",
   "execution_count": 15,
   "metadata": {},
   "outputs": [
    {
     "name": "stdout",
     "output_type": "stream",
     "text": [
      "<a href=\"/dronai/dronas-dji-mini-2-se-fly-more-combo--23881156.html\">\n",
      "<img alt=\"Nuotrauka Nr.1\" class=\"product-img primary-img\" height=\"195\" loading=\"lazy\" src=\"https://www.varle.lt/static/uploads/products/235x195/404/bun/bundle-fly-more-dji-mini-2-se-mini-drone.jpg\" style=\"display: none;\" title=\"Dronas DJI Mini 2 SE Fly More Combo\" width=\"235\"/>\n",
      "<img alt=\"Nuotrauka Nr.2\" class=\"product-img secondary-img\" height=\"195\" loading=\"lazy\" src=\"https://www.varle.lt/static/uploads/products/235x195/404/bun/bundle-fly-more-dji-mini-2-se-mini-drone_Wo609zb.jpg\" style=\"display: inline;\" title=\"Dronas DJI Mini 2 SE Fly More Combo\" width=\"235\"/>\n",
      "</a>\n",
      "::REM::\n",
      "/dronai/dronas-dji-mini-2-se-fly-more-combo--23881156.html\n",
      "195\n"
     ]
    }
   ],
   "source": [
    "sk = bs.find('div', {'class':'GRID_ITEM'}).find('a')\n",
    "print(sk)\n",
    "print('::REM::')\n",
    "print(sk['href'])\n",
    "img = sk.find('img')\n",
    "print(img['height'])"
   ]
  }
 ],
 "metadata": {
  "kernelspec": {
   "display_name": "Python 3",
   "language": "python",
   "name": "python3"
  },
  "language_info": {
   "codemirror_mode": {
    "name": "ipython",
    "version": 3
   },
   "file_extension": ".py",
   "mimetype": "text/x-python",
   "name": "python",
   "nbconvert_exporter": "python",
   "pygments_lexer": "ipython3",
   "version": "3.12.3"
  }
 },
 "nbformat": 4,
 "nbformat_minor": 2
}
