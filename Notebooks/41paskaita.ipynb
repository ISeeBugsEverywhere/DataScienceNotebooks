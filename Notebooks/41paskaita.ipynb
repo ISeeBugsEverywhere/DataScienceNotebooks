{
 "cells": [
  {
   "cell_type": "code",
   "execution_count": null,
   "metadata": {},
   "outputs": [],
   "source": []
  },
  {
   "cell_type": "code",
   "execution_count": null,
   "metadata": {},
   "outputs": [],
   "source": [
    "# Užduotis\n",
    "# Atrinkite iš pigu.lt informaciją apie dronus.\n",
    "# Atsakykite į šiuos klausimus, kartu pateikdami atitinkamas vizualziacijs\n",
    "# Skaidant kainas intervalais kas 100 €, kokie modelių buvo kiekviename kainų intervale?\n",
    "# Ar dronų kaina priklausė nuo drono skrydžio atstumo (veikimo nuotolio), baterijos talpos, drono masės?\n",
    "# Jei priklausė, pateikite trendų vizualizacijas.\n"
   ]
  }
 ],
 "metadata": {
  "kernelspec": {
   "display_name": "Python 3",
   "language": "python",
   "name": "python3"
  },
  "language_info": {
   "name": "python",
   "version": "3.10.12"
  }
 },
 "nbformat": 4,
 "nbformat_minor": 2
}
