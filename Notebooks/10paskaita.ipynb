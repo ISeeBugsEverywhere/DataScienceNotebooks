{
 "cells": [
  {
   "cell_type": "code",
   "execution_count": 1,
   "metadata": {},
   "outputs": [],
   "source": [
    "import os\n",
    "import shutil\n",
    "import glob"
   ]
  },
  {
   "cell_type": "code",
   "execution_count": 2,
   "metadata": {},
   "outputs": [
    {
     "data": {
      "text/plain": [
       "'/home/egis/VisualCodeProjects/DataScienceNotebooks/Notebooks'"
      ]
     },
     "execution_count": 2,
     "metadata": {},
     "output_type": "execute_result"
    }
   ],
   "source": [
    "os.getcwd()"
   ]
  },
  {
   "cell_type": "code",
   "execution_count": 3,
   "metadata": {},
   "outputs": [
    {
     "data": {
      "text/plain": [
       "['Uzduotys 5.1.ipynb',\n",
       " 'delfi.txt',\n",
       " 't.txt.txt',\n",
       " 'F1.txt',\n",
       " 'F3.txt',\n",
       " 'f2.txt',\n",
       " '05paskaita.ipynb',\n",
       " 'renamed.txt',\n",
       " '03paskaita.ipynb',\n",
       " '09paskaita.ipynb',\n",
       " '06paskaita.ipynb',\n",
       " '04paskaita.ipynb',\n",
       " 'a.txt',\n",
       " 'pykodas.py',\n",
       " 'ats.txt',\n",
       " 'Skaityk.txt',\n",
       " 't.txt',\n",
       " '07paskaita.ipynb',\n",
       " 'f1.txt',\n",
       " '01Paskaita.ipynb',\n",
       " '10paskaita.ipynb',\n",
       " '02paskaita.ipynb',\n",
       " 'F2.txt',\n",
       " 'atsSk.txt',\n",
       " '08paskaita.ipynb']"
      ]
     },
     "execution_count": 3,
     "metadata": {},
     "output_type": "execute_result"
    }
   ],
   "source": [
    "os.listdir()"
   ]
  },
  {
   "cell_type": "code",
   "execution_count": 4,
   "metadata": {},
   "outputs": [
    {
     "data": {
      "text/plain": [
       "'/home/egis/VisualCodeProjects/DataScienceNotebooks/DATA'"
      ]
     },
     "execution_count": 4,
     "metadata": {},
     "output_type": "execute_result"
    }
   ],
   "source": [
    "os.chdir('../DATA')\n",
    "os.getcwd()"
   ]
  },
  {
   "cell_type": "code",
   "execution_count": 5,
   "metadata": {},
   "outputs": [
    {
     "name": "stdout",
     "output_type": "stream",
     "text": [
      "['imunizacija.csv', 'RU.csv', 'Table1.csv', 'life-exp.csv', 'profesijos.csv', 'auto.csv', 'NYPD.csv', 'aruodas.csv', 'BrentOilPrices.csv', 'gov-forms.csv']\n"
     ]
    }
   ],
   "source": [
    "csv = glob.glob('*.csv')\n",
    "print(csv)"
   ]
  },
  {
   "cell_type": "code",
   "execution_count": 6,
   "metadata": {},
   "outputs": [],
   "source": [
    "os.mkdir('FEILAI')"
   ]
  },
  {
   "cell_type": "code",
   "execution_count": 7,
   "metadata": {},
   "outputs": [],
   "source": [
    "for i in csv:\n",
    "    os.rename(i, 'FEILAI/'+\"cp_\"+i)"
   ]
  },
  {
   "cell_type": "code",
   "execution_count": null,
   "metadata": {},
   "outputs": [],
   "source": [
    "shutil.copy()\n",
    "shutil.copytree()"
   ]
  },
  {
   "cell_type": "code",
   "execution_count": 8,
   "metadata": {},
   "outputs": [
    {
     "name": "stdout",
     "output_type": "stream",
     "text": [
      "<class '__main__.Object'>\n",
      "<class '__main__.Object'>\n"
     ]
    }
   ],
   "source": [
    "class Object():\n",
    "    pass\n",
    "\n",
    "\n",
    "a = Object()\n",
    "b = Object()\n",
    "\n",
    "print(type(a), type(b), sep='\\n')"
   ]
  },
  {
   "cell_type": "code",
   "execution_count": 9,
   "metadata": {},
   "outputs": [
    {
     "name": "stdout",
     "output_type": "stream",
     "text": [
      "<class 'int'>\n"
     ]
    }
   ],
   "source": [
    "print(type(5))"
   ]
  },
  {
   "cell_type": "code",
   "execution_count": null,
   "metadata": {},
   "outputs": [],
   "source": [
    "#  konstruktorius - kodas, kurį reikia įvykdyti objekto sukūrimo metu\n",
    "#  destruktorius - kodas, kurį reikia įvykdyti objekto ištrynimo metu"
   ]
  },
  {
   "cell_type": "code",
   "execution_count": 15,
   "metadata": {},
   "outputs": [
    {
     "name": "stdout",
     "output_type": "stream",
     "text": [
      "Yey, aš gyvas!!!\n"
     ]
    }
   ],
   "source": [
    "class SimpleObject():\n",
    "    def __init__(self):\n",
    "        print(\"Yey, aš gyvas!!!\")\n",
    "    \n",
    "    def __del__(self):\n",
    "        print('FCUK, manęs neliko ...')\n",
    "        \n",
    "a = SimpleObject()\n"
   ]
  },
  {
   "cell_type": "code",
   "execution_count": 16,
   "metadata": {},
   "outputs": [
    {
     "name": "stdout",
     "output_type": "stream",
     "text": [
      "FCUK, manęs neliko ...\n"
     ]
    }
   ],
   "source": [
    "del a"
   ]
  },
  {
   "cell_type": "code",
   "execution_count": 18,
   "metadata": {},
   "outputs": [
    {
     "name": "stdout",
     "output_type": "stream",
     "text": [
      "Tai yra atributas\n",
      "42\n"
     ]
    }
   ],
   "source": [
    "class SimpleObject():\n",
    "    def __init__(self) -> None:\n",
    "        self.X = \"Tai yra atributas\"\n",
    "\n",
    "\n",
    "r = SimpleObject()\n",
    "\n",
    "atributas_x = r.X\n",
    "print(atributas_x)\n",
    "\n",
    "r.X = 42\n",
    "print(r.X)"
   ]
  },
  {
   "cell_type": "code",
   "execution_count": 22,
   "metadata": {},
   "outputs": [
    {
     "name": "stdout",
     "output_type": "stream",
     "text": [
      "42\n",
      "88\n"
     ]
    }
   ],
   "source": [
    "class SimpleObject():\n",
    "    def __init__(self, x) -> None:\n",
    "        self.X = x\n",
    "    \n",
    "    def get_X(self): #metodas\n",
    "        return self.X # atributo X pasiekimas metodo viduje\n",
    "    \n",
    "    def set_X(self, x):\n",
    "        self.X = x\n",
    "\n",
    "r = SimpleObject(42)\n",
    "print(r.X)\n",
    "\n",
    "r.set_X(88)\n",
    "\n",
    "print(r.get_X())\n"
   ]
  },
  {
   "cell_type": "code",
   "execution_count": 23,
   "metadata": {},
   "outputs": [
    {
     "name": "stdout",
     "output_type": "stream",
     "text": [
      "Labas rytas čia yra tekstas su įvairiais tarpais ir tarpeliais\n"
     ]
    }
   ],
   "source": [
    "t = \"   Labas rytas    čia yra         tekstas                  su įvairiais tarpais       ir        tarpeliais   \"\n",
    "t_ = ' '.join(t.split())\n",
    "print(t_)"
   ]
  }
 ],
 "metadata": {
  "kernelspec": {
   "display_name": "Python 3",
   "language": "python",
   "name": "python3"
  },
  "language_info": {
   "codemirror_mode": {
    "name": "ipython",
    "version": 3
   },
   "file_extension": ".py",
   "mimetype": "text/x-python",
   "name": "python",
   "nbconvert_exporter": "python",
   "pygments_lexer": "ipython3",
   "version": "3.10.12"
  }
 },
 "nbformat": 4,
 "nbformat_minor": 2
}
