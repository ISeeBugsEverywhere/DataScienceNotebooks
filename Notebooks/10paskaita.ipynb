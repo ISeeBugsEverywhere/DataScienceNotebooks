{
 "cells": [
  {
   "cell_type": "code",
   "execution_count": 1,
   "metadata": {},
   "outputs": [],
   "source": [
    "import os\n",
    "import shutil\n",
    "import glob"
   ]
  },
  {
   "cell_type": "code",
   "execution_count": 2,
   "metadata": {},
   "outputs": [
    {
     "data": {
      "text/plain": [
       "'/home/egis/VisualCodeProjects/DataScienceNotebooks/Notebooks'"
      ]
     },
     "execution_count": 2,
     "metadata": {},
     "output_type": "execute_result"
    }
   ],
   "source": [
    "os.getcwd()"
   ]
  },
  {
   "cell_type": "code",
   "execution_count": 3,
   "metadata": {},
   "outputs": [
    {
     "data": {
      "text/plain": [
       "['Uzduotys 5.1.ipynb',\n",
       " 'delfi.txt',\n",
       " 't.txt.txt',\n",
       " 'F1.txt',\n",
       " 'F3.txt',\n",
       " 'f2.txt',\n",
       " '05paskaita.ipynb',\n",
       " 'renamed.txt',\n",
       " '03paskaita.ipynb',\n",
       " '09paskaita.ipynb',\n",
       " '06paskaita.ipynb',\n",
       " '04paskaita.ipynb',\n",
       " 'a.txt',\n",
       " 'pykodas.py',\n",
       " 'ats.txt',\n",
       " 'Skaityk.txt',\n",
       " 't.txt',\n",
       " '07paskaita.ipynb',\n",
       " 'f1.txt',\n",
       " '01Paskaita.ipynb',\n",
       " '10paskaita.ipynb',\n",
       " '02paskaita.ipynb',\n",
       " 'F2.txt',\n",
       " 'atsSk.txt',\n",
       " '08paskaita.ipynb']"
      ]
     },
     "execution_count": 3,
     "metadata": {},
     "output_type": "execute_result"
    }
   ],
   "source": [
    "os.listdir()"
   ]
  },
  {
   "cell_type": "code",
   "execution_count": 4,
   "metadata": {},
   "outputs": [
    {
     "data": {
      "text/plain": [
       "'/home/egis/VisualCodeProjects/DataScienceNotebooks/DATA'"
      ]
     },
     "execution_count": 4,
     "metadata": {},
     "output_type": "execute_result"
    }
   ],
   "source": [
    "os.chdir('../DATA')\n",
    "os.getcwd()"
   ]
  },
  {
   "cell_type": "code",
   "execution_count": 5,
   "metadata": {},
   "outputs": [
    {
     "name": "stdout",
     "output_type": "stream",
     "text": [
      "['imunizacija.csv', 'RU.csv', 'Table1.csv', 'life-exp.csv', 'profesijos.csv', 'auto.csv', 'NYPD.csv', 'aruodas.csv', 'BrentOilPrices.csv', 'gov-forms.csv']\n"
     ]
    }
   ],
   "source": [
    "csv = glob.glob('*.csv')\n",
    "print(csv)"
   ]
  },
  {
   "cell_type": "code",
   "execution_count": 6,
   "metadata": {},
   "outputs": [],
   "source": [
    "os.mkdir('FEILAI')"
   ]
  },
  {
   "cell_type": "code",
   "execution_count": 7,
   "metadata": {},
   "outputs": [],
   "source": [
    "for i in csv:\n",
    "    os.rename(i, 'FEILAI/'+\"cp_\"+i)"
   ]
  },
  {
   "cell_type": "code",
   "execution_count": null,
   "metadata": {},
   "outputs": [],
   "source": [
    "shutil.copy()\n",
    "shutil.copytree()"
   ]
  },
  {
   "cell_type": "code",
   "execution_count": 8,
   "metadata": {},
   "outputs": [
    {
     "name": "stdout",
     "output_type": "stream",
     "text": [
      "<class '__main__.Object'>\n",
      "<class '__main__.Object'>\n"
     ]
    }
   ],
   "source": [
    "class Object():\n",
    "    pass\n",
    "\n",
    "\n",
    "a = Object()\n",
    "b = Object()\n",
    "\n",
    "print(type(a), type(b), sep='\\n')"
   ]
  },
  {
   "cell_type": "code",
   "execution_count": 9,
   "metadata": {},
   "outputs": [
    {
     "name": "stdout",
     "output_type": "stream",
     "text": [
      "<class 'int'>\n"
     ]
    }
   ],
   "source": [
    "print(type(5))"
   ]
  },
  {
   "cell_type": "code",
   "execution_count": null,
   "metadata": {},
   "outputs": [],
   "source": [
    "#  konstruktorius - kodas, kurį reikia įvykdyti objekto sukūrimo metu\n",
    "#  destruktorius - kodas, kurį reikia įvykdyti objekto ištrynimo metu"
   ]
  },
  {
   "cell_type": "code",
   "execution_count": 26,
   "metadata": {},
   "outputs": [
    {
     "name": "stdout",
     "output_type": "stream",
     "text": [
      "išsirito tarakonas\n",
      "išsirito tarakonas\n",
      "išsirito tarakonas\n",
      "1721234314.1405213\n",
      "1721234314.8412192\n",
      "1721234315.542299\n"
     ]
    }
   ],
   "source": [
    "import time\n",
    "class Tarakonas():\n",
    "    def __init__(self) -> None:\n",
    "        print('išsirito tarakonas')\n",
    "        self.gimtadienis=time.time()\n",
    "    def __del__(self):\n",
    "        print('Tarakonas mirė. Jis gyveno:',time.time()-self.gimtadienis)\n",
    "Rudis=Tarakonas()\n",
    "time.sleep(0.7)\n",
    "Juodis=Tarakonas()\n",
    "time.sleep(0.7)\n",
    "Pilkis=Tarakonas()\n",
    "print(Rudis.gimtadienis)\n",
    "print(Juodis.gimtadienis)\n",
    "print(Pilkis.gimtadienis)"
   ]
  },
  {
   "cell_type": "code",
   "execution_count": 27,
   "metadata": {},
   "outputs": [
    {
     "name": "stdout",
     "output_type": "stream",
     "text": [
      "Tarakonas mirė. Jis gyveno: 40.18692421913147\n"
     ]
    }
   ],
   "source": [
    "del Pilkis"
   ]
  },
  {
   "cell_type": "code",
   "execution_count": 28,
   "metadata": {},
   "outputs": [
    {
     "name": "stdout",
     "output_type": "stream",
     "text": [
      "Tarakonas mirė. Jis gyveno: 58.06151461601257\n"
     ]
    }
   ],
   "source": [
    "del Rudis"
   ]
  },
  {
   "cell_type": "code",
   "execution_count": 29,
   "metadata": {},
   "outputs": [
    {
     "name": "stdout",
     "output_type": "stream",
     "text": [
      "Tarakonas mirė. Jis gyveno: 68.29897713661194\n"
     ]
    }
   ],
   "source": [
    "del Juodis"
   ]
  },
  {
   "cell_type": "code",
   "execution_count": 18,
   "metadata": {},
   "outputs": [
    {
     "name": "stdout",
     "output_type": "stream",
     "text": [
      "Tai yra atributas\n",
      "42\n"
     ]
    }
   ],
   "source": [
    "class SimpleObject():\n",
    "    def __init__(self) -> None:\n",
    "        self.X = \"Tai yra atributas\"\n",
    "\n",
    "\n",
    "r = SimpleObject()\n",
    "\n",
    "atributas_x = r.X\n",
    "print(atributas_x)\n",
    "\n",
    "r.X = 42\n",
    "print(r.X)"
   ]
  },
  {
   "cell_type": "code",
   "execution_count": 22,
   "metadata": {},
   "outputs": [
    {
     "name": "stdout",
     "output_type": "stream",
     "text": [
      "42\n",
      "88\n"
     ]
    }
   ],
   "source": [
    "class SimpleObject():\n",
    "    def __init__(self, x) -> None:\n",
    "        self.X = x\n",
    "    \n",
    "    def get_X(self): #metodas\n",
    "        return self.X # atributo X pasiekimas metodo viduje\n",
    "    \n",
    "    def set_X(self, x):\n",
    "        self.X = x\n",
    "\n",
    "r = SimpleObject(42)\n",
    "print(r.X)\n",
    "\n",
    "r.set_X(88)\n",
    "\n",
    "print(r.get_X())\n"
   ]
  },
  {
   "cell_type": "code",
   "execution_count": 23,
   "metadata": {},
   "outputs": [
    {
     "name": "stdout",
     "output_type": "stream",
     "text": [
      "Labas rytas čia yra tekstas su įvairiais tarpais ir tarpeliais\n"
     ]
    }
   ],
   "source": [
    "t = \"   Labas rytas    čia yra         tekstas                  su įvairiais tarpais       ir        tarpeliais   \"\n",
    "t_ = ' '.join(t.split())\n",
    "print(t_)"
   ]
  },
  {
   "cell_type": "code",
   "execution_count": null,
   "metadata": {},
   "outputs": [],
   "source": [
    "# Parašyti funkciją, kuri nuskaitytų pateiktą DAT failą (DATA aplanke)\n",
    "# ir grąžintų 6-is sąrašus, kuriuose būtų atitinkamų stulpelių informacija.\n",
    "# Turite tekstą konvertuoti į float'us\n",
    "# Turite praleisti tas eilutes\n",
    "# kur pirmame stuleplyje yra ne skaitinis įrašas"
   ]
  },
  {
   "cell_type": "code",
   "execution_count": 30,
   "metadata": {},
   "outputs": [
    {
     "name": "stdout",
     "output_type": "stream",
     "text": [
      "/home/egis/VisualCodeProjects/DataScienceNotebooks/DATA\n"
     ]
    }
   ],
   "source": [
    "print(os.getcwd())"
   ]
  },
  {
   "cell_type": "code",
   "execution_count": 36,
   "metadata": {},
   "outputs": [
    {
     "name": "stdout",
     "output_type": "stream",
     "text": [
      "[4.5, 4.5, 4.5, 4.525, 4.525, 4.525, 4.55, 4.55, 4.55, 4.575, 4.575, 4.575, 4.6, 4.6, 4.6, 4.625, 4.625, 4.625, 4.65, 4.65, 4.65, 4.675, 4.675, 4.675, 4.7, 4.7, 4.7, 4.725, 4.725, 4.725, 4.75, 4.75, 4.75, 4.775, 4.775, 4.775, 4.8, 4.8, 4.8, 4.825, 4.825, 4.825, 4.85, 4.85, 4.85, 4.875, 4.875, 4.875, 4.9, 4.9, 4.9, 4.925, 4.925, 4.925, 4.95, 4.95, 4.95, 4.975, 4.975, 4.975, 5.0, 5.0, 5.0, 5.025, 5.025, 5.025, 5.05, 5.05, 5.05, 5.075, 5.075, 5.075, 5.1, 5.1, 5.1, 5.125, 5.125, 5.125, 5.15, 5.15, 5.15, 5.175, 5.175, 5.175, 5.2, 5.2, 5.2, 5.225, 5.225, 5.225, 5.25, 5.25, 5.25, 5.275, 5.275, 5.275, 5.3, 5.3, 5.3, 5.325, 5.325, 5.325, 5.35, 5.35, 5.35, 5.375, 5.375, 5.375, 5.4, 5.4, 5.4, 5.425, 5.425, 5.425, 5.45, 5.45, 5.45, 5.475, 5.475, 5.475, 5.5, 5.5, 5.5, 5.525, 5.525, 5.525, 5.55, 5.55, 5.55, 5.575, 5.575, 5.575, 5.6, 5.6, 5.6, 5.625, 5.625, 5.625, 5.65, 5.65, 5.65, 5.675, 5.675, 5.675, 5.7, 5.7, 5.7, 5.725, 5.725, 5.725, 5.75, 5.75, 5.75, 5.775, 5.775, 5.775, 5.8, 5.8, 5.8, 5.825, 5.825, 5.825, 5.85, 5.85, 5.85, 5.875, 5.875, 5.875, 5.9, 5.9, 5.9, 5.925, 5.925, 5.925, 5.95, 5.95, 5.95, 5.975, 5.975, 5.975, 6.0, 6.0, 6.0, 6.025, 6.025, 6.025, 6.05, 6.05, 6.05, 6.075, 6.075, 6.075, 6.1, 6.1, 6.1, 6.125, 6.125, 6.125, 6.15, 6.15, 6.15, 6.175, 6.175, 6.175, 6.2, 6.2, 6.2, 6.225, 6.225, 6.225]\n"
     ]
    }
   ],
   "source": [
    "def parse(fname):\n",
    "    f = open(fname, mode='r', encoding='utf-8')\n",
    "    lines = f.readlines()\n",
    "    A,B,C,D,E,F = [],[],[],[],[],[]\n",
    "    for line in lines[2:]:\n",
    "        if ('=' not in line) and ('T' not in line):\n",
    "            l_ = '|'.join(line.split())\n",
    "            a,b,c,d,e,f = l_.split('|')\n",
    "            A.append(float(a))\n",
    "            B.append(float(b))\n",
    "            C.append(float(c))\n",
    "            D.append(float(d))\n",
    "            E.append(float(e))\n",
    "            F.append(str(f))\n",
    "    return A,B,C,D,E,F\n",
    "\n",
    "f = glob.glob('*.dat')\n",
    "e,i, *_ = parse(f[0])\n",
    "print(e)"
   ]
  },
  {
   "cell_type": "code",
   "execution_count": null,
   "metadata": {},
   "outputs": [],
   "source": [
    "# Perrašyti ankstesnę funkciją taip, kad jai galima būtų nurodyti\n",
    "# stulpelių skirtuką, ir kuriuos stulpelius grąžinti kaip sąrašus. Stulpeliai nurodomi kaip\n",
    "# indeksai (skaičiai).\n",
    "# Turi veikti ir su duotaisiais DAT ir su duotaisiais txt failais.\n",
    "# Taip pat funkcijai turite galėti nurodyti, koks\n",
    "# skirtukas skiria dešimtaines dalis - taškas ar kablelis.\n",
    "# funkcija turi apdoroti tik tas eilutes, kur nurodytame pirmąjame stulpelyje \n",
    "# yra skaičiai, turi ignoruoti tekstinius įrašus"
   ]
  }
 ],
 "metadata": {
  "kernelspec": {
   "display_name": "Python 3",
   "language": "python",
   "name": "python3"
  },
  "language_info": {
   "codemirror_mode": {
    "name": "ipython",
    "version": 3
   },
   "file_extension": ".py",
   "mimetype": "text/x-python",
   "name": "python",
   "nbconvert_exporter": "python",
   "pygments_lexer": "ipython3",
   "version": "3.10.12"
  }
 },
 "nbformat": 4,
 "nbformat_minor": 2
}
