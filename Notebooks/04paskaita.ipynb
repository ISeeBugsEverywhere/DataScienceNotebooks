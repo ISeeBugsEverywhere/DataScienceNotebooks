{
 "cells": [
  {
   "cell_type": "code",
   "execution_count": 1,
   "metadata": {},
   "outputs": [
    {
     "name": "stdout",
     "output_type": "stream",
     "text": [
      "04 paskaita\n"
     ]
    }
   ],
   "source": [
    "print('04 paskaita')"
   ]
  },
  {
   "cell_type": "code",
   "execution_count": 30,
   "metadata": {},
   "outputs": [
    {
     "name": "stdout",
     "output_type": "stream",
     "text": [
      "{'Saulė': 'Žvaigždė', 'Vilnius': 'Lietuvos sostinė'}\n"
     ]
    }
   ],
   "source": [
    "d = {} # set() - jei norima turėti set'ą, o jei {} -\n",
    "# tai žodynas\n",
    "d = {'Saulė':'Žvaigždė', 'Vilnius':'Lietuvos sostinė'}\n",
    "print(d)"
   ]
  },
  {
   "cell_type": "code",
   "execution_count": 7,
   "metadata": {},
   "outputs": [
    {
     "name": "stdout",
     "output_type": "stream",
     "text": [
      "Lietuvos sostinė\n"
     ]
    }
   ],
   "source": [
    "ats = d['Vilnius']\n",
    "print(ats)"
   ]
  },
  {
   "cell_type": "code",
   "execution_count": 31,
   "metadata": {},
   "outputs": [
    {
     "name": "stdout",
     "output_type": "stream",
     "text": [
      "{'Saulė': 'Žvaigždė', 'Vilnius': 'Lietuvos sostinė'}\n",
      "{'Saulė': 'Žvaigždė', 'Vilnius': 'Lietuvos sostinė', 'Palanga': 'Kurortas'}\n"
     ]
    }
   ],
   "source": [
    "print(d)\n",
    "d['Palanga'] = 'Kurortas'\n",
    "print(d)"
   ]
  },
  {
   "cell_type": "code",
   "execution_count": 9,
   "metadata": {},
   "outputs": [
    {
     "name": "stdout",
     "output_type": "stream",
     "text": [
      "{'Saulė': 'Žvaigždė', 'Vilnius': 'Lietuvos sostinė', 'Palanga': 'Kurortas'}\n",
      "{'Saulė': 'Žvaigždė', 'Vilnius': 'Tikrai ne kurortas', 'Palanga': 'Kurortas'}\n"
     ]
    }
   ],
   "source": [
    "print(d)\n",
    "d['Vilnius'] = 'Tikrai ne kurortas'\n",
    "print(d)"
   ]
  },
  {
   "cell_type": "code",
   "execution_count": 10,
   "metadata": {},
   "outputs": [
    {
     "name": "stdout",
     "output_type": "stream",
     "text": [
      "Tikrai ne kurortas Tikrai ne kurortas\n"
     ]
    }
   ],
   "source": [
    "ats = d['Vilnius']\n",
    "ats2 = d.get('Vilnius')\n",
    "print(ats, ats2)"
   ]
  },
  {
   "cell_type": "code",
   "execution_count": 12,
   "metadata": {},
   "outputs": [
    {
     "data": {
      "text/plain": [
       "-1"
      ]
     },
     "execution_count": 12,
     "metadata": {},
     "output_type": "execute_result"
    }
   ],
   "source": [
    "d.get('Kaunas', -1)"
   ]
  },
  {
   "cell_type": "code",
   "execution_count": 32,
   "metadata": {},
   "outputs": [
    {
     "name": "stdout",
     "output_type": "stream",
     "text": [
      "{'Saulė': 'Žvaigždė', 'Vilnius': 'Lietuvos sostinė', 'Palanga': 'Kurortas'}\n",
      "{'Saulė': 'Žvaigždė', 'Vilnius': 'Lietuvos sostinė', 'Palanga': 2024, 'Kaunas': 'Laikinoj sostinė'}\n"
     ]
    }
   ],
   "source": [
    "print(d)\n",
    "d1 = {'Palanga':2024, 'Vilnius':'Lietuvos sostinė', 'Kaunas':'Laikinoj sostinė'}\n",
    "d.update(d1)\n",
    "print(d)"
   ]
  },
  {
   "cell_type": "code",
   "execution_count": 14,
   "metadata": {},
   "outputs": [
    {
     "data": {
      "text/plain": [
       "dict_keys(['Saulė', 'Vilnius', 'Palanga', 'Kaunas'])"
      ]
     },
     "execution_count": 14,
     "metadata": {},
     "output_type": "execute_result"
    }
   ],
   "source": [
    "d.keys()"
   ]
  },
  {
   "cell_type": "code",
   "execution_count": 15,
   "metadata": {},
   "outputs": [
    {
     "data": {
      "text/plain": [
       "dict_values(['Žvaigždė', 'Lietuvos sostinė', 2024, 'Laikinoj sostinė'])"
      ]
     },
     "execution_count": 15,
     "metadata": {},
     "output_type": "execute_result"
    }
   ],
   "source": [
    "d.values()"
   ]
  },
  {
   "cell_type": "code",
   "execution_count": 16,
   "metadata": {},
   "outputs": [
    {
     "data": {
      "text/plain": [
       "dict_items([('Saulė', 'Žvaigždė'), ('Vilnius', 'Lietuvos sostinė'), ('Palanga', 2024), ('Kaunas', 'Laikinoj sostinė')])"
      ]
     },
     "execution_count": 16,
     "metadata": {},
     "output_type": "execute_result"
    }
   ],
   "source": [
    "d.items()"
   ]
  },
  {
   "cell_type": "code",
   "execution_count": 18,
   "metadata": {},
   "outputs": [
    {
     "name": "stdout",
     "output_type": "stream",
     "text": [
      "'go' raktažodis yra žodyne\n"
     ]
    }
   ],
   "source": [
    "if 'Vilnius' in d:\n",
    "    print(\"'go' raktažodis yra žodyne\")\n",
    "else:\n",
    "    print('Tokio raktažodžio nėra')"
   ]
  },
  {
   "cell_type": "code",
   "execution_count": 19,
   "metadata": {},
   "outputs": [
    {
     "name": "stdout",
     "output_type": "stream",
     "text": [
      "ok\n"
     ]
    }
   ],
   "source": [
    "if 'Lietuvos sostinė' in d.values():\n",
    "    print('ok')"
   ]
  },
  {
   "cell_type": "code",
   "execution_count": 20,
   "metadata": {},
   "outputs": [
    {
     "name": "stdout",
     "output_type": "stream",
     "text": [
      "91237.0\n"
     ]
    }
   ],
   "source": [
    "# Paskaičiuoti pelną pardavus visas prekes. Informacija apie kainą\n",
    "# ir kiekius yra pateikiama kaip žodynai (dictionary):\n",
    "d1 = {\"cost_price\": 32.67,\n",
    "\"sell_price\": 45.00,\n",
    "\"inventory\": 1200}\n",
    "d2 = {\"cost_price\": 225.89,\n",
    "\"sell_price\": 550.00,\n",
    "\"inventory\": 100}\n",
    "d3 = {\"cost_price\": 2.77,\n",
    "\"sell_price\": 7.95,\n",
    "\"inventory\": 8500}\n",
    "\n",
    "p1=(d1['sell_price']-d1['cost_price'])*d1['inventory']\n",
    "p2=(d2['sell_price']-d2['cost_price'])*d2['inventory']\n",
    "p3=(d3['sell_price']-d3['cost_price'])*d3['inventory']\n",
    "print(p1+p2+p3)"
   ]
  },
  {
   "cell_type": "code",
   "execution_count": 24,
   "metadata": {},
   "outputs": [
    {
     "name": "stdout",
     "output_type": "stream",
     "text": [
      "{'Vilnius': 'Sostinė'}\n",
      "{'Vilnius': ['Sostinė', 'Didelis miestas']}\n",
      "{'Vilnius': 'Sostinė didelis miestas'}\n"
     ]
    }
   ],
   "source": [
    "d = {}\n",
    "d['Vilnius'] = 'Sostinė' # vertė, value taptų [], listu\n",
    "print(d)\n",
    "\n",
    "d = {}\n",
    "d['Vilnius'] = ['Sostinė'] # vertė, value taptų [], listu\n",
    "v = d['Vilnius']\n",
    "v.append('Didelis miestas')\n",
    "d['Vilnius'] = v\n",
    "print(d)\n",
    "\n",
    "d = {}\n",
    "d['Vilnius'] = 'Sostinė' # vertė, value taptų [], listu\n",
    "v = d['Vilnius']\n",
    "v = v + ' didelis miestas'\n",
    "d['Vilnius'] = v\n",
    "print(d)\n"
   ]
  },
  {
   "cell_type": "code",
   "execution_count": 25,
   "metadata": {},
   "outputs": [
    {
     "name": "stdout",
     "output_type": "stream",
     "text": [
      "1\n",
      "2\n",
      "3\n"
     ]
    }
   ],
   "source": [
    "s = [1,2,3]\n",
    "\n",
    "for si in s:\n",
    "    print(si)"
   ]
  },
  {
   "cell_type": "code",
   "execution_count": 27,
   "metadata": {},
   "outputs": [
    {
     "name": "stdout",
     "output_type": "stream",
     "text": [
      "0\n",
      "2\n",
      "4\n",
      "6\n",
      "8\n"
     ]
    }
   ],
   "source": [
    "for skaicius in range(0,10,2):\n",
    "    print(skaicius)"
   ]
  },
  {
   "cell_type": "code",
   "execution_count": 28,
   "metadata": {},
   "outputs": [
    {
     "name": "stdout",
     "output_type": "stream",
     "text": [
      "Jonas\n",
      "Petras\n",
      "Ona\n",
      "Agota\n"
     ]
    }
   ],
   "source": [
    "vardu_sarasas = ['Jonas', 'Petras', 'Ona', 'Agota']\n",
    "for vardas in vardu_sarasas:\n",
    "    print(vardas)"
   ]
  },
  {
   "cell_type": "code",
   "execution_count": 29,
   "metadata": {},
   "outputs": [
    {
     "name": "stdout",
     "output_type": "stream",
     "text": [
      "s\n",
      "a\n",
      "k\n",
      "o\n",
      ",\n",
      " \n",
      "k\n",
      "a\n",
      "d\n",
      " \n",
      "D\n",
      "e\n",
      "l\n",
      "f\n",
      "i\n",
      ".\n",
      "l\n",
      "t\n",
      " \n",
      "y\n",
      "r\n",
      "a\n",
      " \n",
      "p\n",
      "o\n",
      "p\n",
      "u\n",
      "l\n",
      "i\n",
      "a\n",
      "r\n",
      "i\n",
      "a\n",
      "u\n",
      "s\n",
      "i\n",
      "a\n",
      "s\n",
      " \n",
      "p\n",
      "o\n",
      "r\n",
      "t\n",
      "a\n",
      "l\n",
      "a\n",
      "s\n",
      ".\n"
     ]
    }
   ],
   "source": [
    "txt = \"sako, kad Delfi.lt yra populiariausias portalas.\"\n",
    "for letter in txt:\n",
    "    print(letter)"
   ]
  },
  {
   "cell_type": "code",
   "execution_count": 34,
   "metadata": {},
   "outputs": [
    {
     "name": "stdout",
     "output_type": "stream",
     "text": [
      "Saulė\n",
      "Vilnius\n",
      "Palanga\n",
      "Kaunas\n"
     ]
    }
   ],
   "source": [
    "for k in d.keys():\n",
    "    print(k)"
   ]
  },
  {
   "cell_type": "code",
   "execution_count": 35,
   "metadata": {},
   "outputs": [
    {
     "name": "stdout",
     "output_type": "stream",
     "text": [
      "Žvaigždė\n",
      "Lietuvos sostinė\n",
      "2024\n",
      "Laikinoj sostinė\n"
     ]
    }
   ],
   "source": [
    "for v in d.values():\n",
    "    print(v)"
   ]
  },
  {
   "cell_type": "code",
   "execution_count": 36,
   "metadata": {},
   "outputs": [
    {
     "name": "stdout",
     "output_type": "stream",
     "text": [
      "Saulė Žvaigždė\n",
      "Vilnius Lietuvos sostinė\n",
      "Palanga 2024\n",
      "Kaunas Laikinoj sostinė\n"
     ]
    }
   ],
   "source": [
    "for key, value in d.items():\n",
    "    print(key, value)"
   ]
  },
  {
   "cell_type": "code",
   "execution_count": 39,
   "metadata": {},
   "outputs": [
    {
     "name": "stdout",
     "output_type": "stream",
     "text": [
      "0 a\n",
      "1 b\n",
      "2 b\n",
      "3 b\n",
      "4 c\n"
     ]
    }
   ],
   "source": [
    "s = ['a','b', 'b','b','c']\n",
    "\n",
    "for pozicija, elementas in enumerate(s):\n",
    "    print(pozicija, elementas)"
   ]
  },
  {
   "cell_type": "code",
   "execution_count": 43,
   "metadata": {},
   "outputs": [
    {
     "ename": "ValueError",
     "evalue": "zip() argument 2 is shorter than argument 1",
     "output_type": "error",
     "traceback": [
      "\u001b[0;31m---------------------------------------------------------------------------\u001b[0m",
      "\u001b[0;31mValueError\u001b[0m                                Traceback (most recent call last)",
      "Cell \u001b[0;32mIn[43], line 4\u001b[0m\n\u001b[1;32m      2\u001b[0m f \u001b[38;5;241m=\u001b[39m [\u001b[38;5;241m4\u001b[39m,\u001b[38;5;241m5\u001b[39m,\u001b[38;5;241m6\u001b[39m]\n\u001b[1;32m      3\u001b[0m c \u001b[38;5;241m=\u001b[39m []\n\u001b[0;32m----> 4\u001b[0m \u001b[38;5;28;43;01mfor\u001b[39;49;00m\u001b[43m \u001b[49m\u001b[43msi\u001b[49m\u001b[43m,\u001b[49m\u001b[43m \u001b[49m\u001b[43mfi\u001b[49m\u001b[43m \u001b[49m\u001b[38;5;129;43;01min\u001b[39;49;00m\u001b[43m \u001b[49m\u001b[38;5;28;43mzip\u001b[39;49m\u001b[43m(\u001b[49m\u001b[43ms\u001b[49m\u001b[43m,\u001b[49m\u001b[43mf\u001b[49m\u001b[43m,\u001b[49m\u001b[43m \u001b[49m\u001b[43mstrict\u001b[49m\u001b[38;5;241;43m=\u001b[39;49m\u001b[38;5;28;43;01mTrue\u001b[39;49;00m\u001b[43m)\u001b[49m\u001b[43m:\u001b[49m\n\u001b[1;32m      5\u001b[0m \u001b[43m    \u001b[49m\u001b[43mc\u001b[49m\u001b[38;5;241;43m.\u001b[39;49m\u001b[43mappend\u001b[49m\u001b[43m(\u001b[49m\u001b[43msi\u001b[49m\u001b[38;5;241;43m*\u001b[39;49m\u001b[43mfi\u001b[49m\u001b[43m)\u001b[49m\n\u001b[1;32m      6\u001b[0m \u001b[38;5;28mprint\u001b[39m(c)\n",
      "\u001b[0;31mValueError\u001b[0m: zip() argument 2 is shorter than argument 1"
     ]
    }
   ],
   "source": [
    "s = [1,2,3,4,5,6]\n",
    "f = [4,5,6]\n",
    "c = []\n",
    "for si, fi in zip(s,f):\n",
    "    c.append(si*fi)\n",
    "print(c) # ctrl /"
   ]
  },
  {
   "cell_type": "code",
   "execution_count": 46,
   "metadata": {},
   "outputs": [
    {
     "name": "stdout",
     "output_type": "stream",
     "text": [
      "@\n",
      "@@\n",
      "@@@\n",
      "@@@@\n",
      "@@@@@\n",
      "@@@@@@\n",
      "@@@@@@@\n"
     ]
    }
   ],
   "source": [
    "# • Paprašykite vartotojo įvesti simbolį bei skaičių. Išveskite\n",
    "# kvadratą, sudarytą iš įvesto simbolio ir kurio kraštinė būtų\n",
    "# lygi įvestam skaičiui. Pvz.: įvesta '@' ir 5. Rezultatas:\n",
    "# @@@@@\n",
    "# @@@@@\n",
    "# @@@@@\n",
    "# @@@@@\n",
    "# @@@@@\n",
    "\n",
    "s = '@'\n",
    "k = 7\n",
    "for sk in range(1,k+1):\n",
    "    print(s*sk)"
   ]
  },
  {
   "cell_type": "code",
   "execution_count": 48,
   "metadata": {},
   "outputs": [
    {
     "name": "stdout",
     "output_type": "stream",
     "text": [
      "A\n",
      "š\n",
      " \n",
      "r\n",
      "Y\n",
      "t\n",
      "A\n",
      "i\n",
      "S\n",
      " \n",
      "M\n",
      "ė\n",
      "G\n",
      "s\n",
      "T\n",
      "u\n",
      " \n",
      "k\n",
      "A\n",
      "v\n",
      "Ą\n",
      " \n",
      "S\n",
      "u\n",
      " \n",
      "s\n",
      "U\n",
      "m\n",
      "U\n",
      "š\n",
      "T\n",
      "i\n",
      "N\n",
      "i\n",
      "A\n",
      "i\n",
      "S\n",
      " \n",
      "I\n",
      "r\n",
      " \n",
      "a\n",
      "R\n",
      "b\n",
      "A\n",
      "t\n",
      "Ą\n"
     ]
    }
   ],
   "source": [
    "t = \"Aš rytais mėgstu kavą su sumuštiniais ir arbatą\"\n",
    "for i, r in enumerate(t):\n",
    "    if i % 2 == 0:\n",
    "        print(r.upper())\n",
    "    else:\n",
    "        print(r.lower())"
   ]
  },
  {
   "cell_type": "code",
   "execution_count": 49,
   "metadata": {},
   "outputs": [
    {
     "name": "stdout",
     "output_type": "stream",
     "text": [
      "Vilnius\n",
      "Rokiškis\n",
      "Mažeikiai\n"
     ]
    }
   ],
   "source": [
    "miestai = ['Vilnius', 'Kaunas', 'Alytus', 'Rokiškis',\n",
    "'Ūla', 'Mažeikiai', 'Akmena']\n",
    "n = 6\n",
    "for m in miestai:\n",
    "    if len(m) > n:\n",
    "        print(m)"
   ]
  },
  {
   "cell_type": "markdown",
   "metadata": {},
   "source": [
    "Geometrinis vidurkis:  \n",
    "$A = \\sqrt[n]{\\Pi_{i=0}^{n} x_{i}}$"
   ]
  },
  {
   "cell_type": "code",
   "execution_count": 1,
   "metadata": {},
   "outputs": [
    {
     "name": "stdout",
     "output_type": "stream",
     "text": [
      "2.605171084697352\n"
     ]
    }
   ],
   "source": [
    "a = [1,2,3,4,5]\n",
    "# geometrinio vidurkio skaičiavimas sąrašui a:\n",
    "s = 1\n",
    "for i in a:\n",
    "    s = s * i\n",
    "print( s ** (1/len(a)))"
   ]
  },
  {
   "cell_type": "code",
   "execution_count": 63,
   "metadata": {},
   "outputs": [
    {
     "name": "stdout",
     "output_type": "stream",
     "text": [
      "197148.66666666666\n",
      "14850.0\n",
      "13.133333333333333\n"
     ]
    }
   ],
   "source": [
    "auto = [('BMW', 'M5', '253 000 km', '2005-12', '19 500'), ('Mitsubishi', 'Outlander', '195 405 km', '2006', '2 700'), ('Seat', 'Arona', '129 800 km', '2019-11', '13 490'), ('Skoda', 'Octavia Scout', '183 000 km', '2015-06', '14 650'), ('Volvo', 'XC90', '127 896 km', '2018-08', '38 000'), ('Audi', '80', '194 000 km', '1987-07', '1 200'), ('Dacia', 'Lodgy', '102 122 km', '2013-03', '8 000'), ('Skoda', 'Octavia', '227 937 km', '2017-11', '11 990'), ('BMW', '320', '158 486 km', '2017-07', '16 190'), ('Volkswagen', 'Passat', '150 869 km', '2019-01', '16 490'), ('BMW', '520', '74 455 km', '2018-03', '28 900'), ('Mercedes-Benz', 'GLE Coupe 350', '194 000 km', '2016-11', '42 500'), ('Ford', 'C-MAX', '276 260 km', '2005-06', '2 000'), ('BMW', 'X3', '290 000 km', '2004-11', '3 390'), ('BMW', '530', '400 000 km', '2004', '3 750')]\n",
    "ridos = []\n",
    "kainos = []\n",
    "metai = []\n",
    "for eilute in auto:\n",
    "    rida = int(eilute[2].replace(' ','').replace('km',''))\n",
    "    amzius = 2024- int(eilute[3][0:4])\n",
    "    kaina = int(eilute[-1].replace(' ',''))\n",
    "    ridos.append(rida)\n",
    "    kainos.append(kaina)\n",
    "    metai.append(amzius)\n",
    "print(sum(ridos)/len(ridos), sum(kainos)/len(kainos), sum(metai)/len(metai), sep='\\n')"
   ]
  }
 ],
 "metadata": {
  "kernelspec": {
   "display_name": "Python 3",
   "language": "python",
   "name": "python3"
  },
  "language_info": {
   "codemirror_mode": {
    "name": "ipython",
    "version": 3
   },
   "file_extension": ".py",
   "mimetype": "text/x-python",
   "name": "python",
   "nbconvert_exporter": "python",
   "pygments_lexer": "ipython3",
   "version": "3.12.4"
  }
 },
 "nbformat": 4,
 "nbformat_minor": 2
}
