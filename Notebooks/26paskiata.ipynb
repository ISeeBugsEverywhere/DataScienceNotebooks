{
 "cells": [
  {
   "cell_type": "code",
   "execution_count": null,
   "metadata": {},
   "outputs": [],
   "source": [
    "#  šios dvi eilutės užtikrina\n",
    "# jog kai pakeisite savo klasėje kodą\n",
    "#  jupyter notebook'o importavime\n",
    "#  jis irgi atsinaujins"
   ]
  },
  {
   "cell_type": "code",
   "execution_count": 9,
   "metadata": {},
   "outputs": [],
   "source": [
    "%reload_ext autoreload\n",
    "%autoreload 2 -p"
   ]
  },
  {
   "cell_type": "code",
   "execution_count": 12,
   "metadata": {},
   "outputs": [
    {
     "name": "stdout",
     "output_type": "stream",
     "text": [
      "Reloading 'manoFunkcijos'.\n"
     ]
    }
   ],
   "source": [
    "import numpy as np\n",
    "import matplotlib.pyplot as plt\n",
    "\n",
    "import glob\n",
    "\n",
    "from manoFunkcijos import pout"
   ]
  },
  {
   "cell_type": "code",
   "execution_count": 2,
   "metadata": {},
   "outputs": [],
   "source": [
    "dat_failai = glob.glob('../DATA/OOP_DATA/*.dat')"
   ]
  },
  {
   "cell_type": "code",
   "execution_count": 5,
   "metadata": {},
   "outputs": [
    {
     "name": "stdout",
     "output_type": "stream",
     "text": [
      "['V1177', 'V1145', 'V1179', 'V1178', 'REF']\n"
     ]
    }
   ],
   "source": [
    "medziagos = []\n",
    "for failas in dat_failai:\n",
    "    m = failas.split('/')[-1].split('_')[0]\n",
    "    medziagos.append(m)\n",
    "medziagos = list(set(medziagos))\n",
    "print(medziagos)"
   ]
  },
  {
   "cell_type": "code",
   "execution_count": 7,
   "metadata": {},
   "outputs": [
    {
     "name": "stdout",
     "output_type": "stream",
     "text": [
      "{'V1177': [], 'V1145': [], 'V1179': [], 'V1178': [], 'REF': []}\n"
     ]
    }
   ],
   "source": [
    "# surastus dydžius dėti į sąrašą, o tuos sąrašus\n",
    "# laikyti atitinkamuose žodynuose\n",
    "pce_dict = dict.fromkeys(medziagos, [])\n",
    "print(pce_dict)"
   ]
  },
  {
   "cell_type": "code",
   "execution_count": null,
   "metadata": {},
   "outputs": [],
   "source": [
    "# pseudokas:\n",
    "m = failas.split('_')[0]\n",
    "pce_list = pce_dict[m]\n",
    "pce_list.append(pce)\n"
   ]
  },
  {
   "cell_type": "code",
   "execution_count": null,
   "metadata": {},
   "outputs": [],
   "source": [
    "#aprastasis brute force metodas - 20 kintamųjų (sąrašų) kiekvienai medžiagai\n",
    "# kiekvienam parametrui\n",
    "pce_ref = []\n",
    "pce_v1145 = []\n"
   ]
  }
 ],
 "metadata": {
  "kernelspec": {
   "display_name": "Python 3",
   "language": "python",
   "name": "python3"
  },
  "language_info": {
   "codemirror_mode": {
    "name": "ipython",
    "version": 3
   },
   "file_extension": ".py",
   "mimetype": "text/x-python",
   "name": "python",
   "nbconvert_exporter": "python",
   "pygments_lexer": "ipython3",
   "version": "3.12.3"
  }
 },
 "nbformat": 4,
 "nbformat_minor": 2
}
