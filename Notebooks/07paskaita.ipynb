{
 "cells": [
  {
   "cell_type": "code",
<<<<<<< HEAD
   "execution_count": 12,
=======
   "execution_count": 2,
>>>>>>> feea45ec67a34ebd8439071387cd8b2b2a8e874a
   "metadata": {},
   "outputs": [
    {
     "name": "stdout",
     "output_type": "stream",
     "text": [
<<<<<<< HEAD
      "[0, 5, 10, 15, 20, 25, 30, 35, 40, 45]\n"
=======
      "07 paskaita\n"
>>>>>>> feea45ec67a34ebd8439071387cd8b2b2a8e874a
     ]
    }
   ],
   "source": [
<<<<<<< HEAD
    "# x = [*range(10)]\n",
    "# sukurkite naują sąrašą, kuriame x elemntai būtų pakdauginti iš jūsų įvesto skaičiaus\n",
    "x = [*range(10)]\n",
    "a = int(input('Iveskite skaiciu:'))\n",
    "\n",
    "b = [i * a for i in x]\n",
    "\n",
    "print(b)\n",
    "\n",
    "\n",
    "\n",
    "\n"
=======
    "print('07 paskaita')"
>>>>>>> feea45ec67a34ebd8439071387cd8b2b2a8e874a
   ]
  },
  {
   "cell_type": "code",
<<<<<<< HEAD
   "execution_count": 18,
=======
   "execution_count": 3,
>>>>>>> feea45ec67a34ebd8439071387cd8b2b2a8e874a
   "metadata": {},
   "outputs": [
    {
     "name": "stdout",
     "output_type": "stream",
     "text": [
<<<<<<< HEAD
      "[19500.0, 2700.0, 13490.0, 14650.0, 38000.0, 1200.0, 8000.0, 11990.0, 16190.0, 16490.0]\n",
      "[19500.0, 2700.0, 13490.0, 14650.0, 38000.0, 1200.0, 8000.0, 11990.0, 16190.0, 16490.0]\n"
=======
      "[0, 3, 6, 9, 12, 15, 18, 21, 24, 27, 30]\n"
>>>>>>> feea45ec67a34ebd8439071387cd8b2b2a8e874a
     ]
    }
   ],
   "source": [
<<<<<<< HEAD
    "# ('19 500', '2 700', '13 490', '14 650', '38 000', '1 200', '8 000', '11 990', '16 190', '16 490')\n",
    "# sukurkite sąrašą, kuriame būtų duoti tekstai paversti į skaičius (float) tipo.\n",
    "x = ('19 500', '2 700', '13 490', '14 650', '38 000', '1 200', '8 000', '11 990', '16 190', '16 490')\n",
    "\n",
    "# skaiciai = [float() for c in x]\n",
    "\n",
    "# print(skaiciai)\n",
    "\n",
    "skaiciai = [float(c.replace(\" \",\"\")) for c in x]\n",
    "\n",
    "print (skaiciai)\n",
    "print(list(skaiciai))"
=======
    "a = []\n",
    "for i in range(0,11):\n",
    "    a.append(i*3)\n",
    "print(a)"
>>>>>>> feea45ec67a34ebd8439071387cd8b2b2a8e874a
   ]
  },
  {
   "cell_type": "code",
<<<<<<< HEAD
   "execution_count": 26,
=======
   "execution_count": 4,
>>>>>>> feea45ec67a34ebd8439071387cd8b2b2a8e874a
   "metadata": {},
   "outputs": [
    {
     "name": "stdout",
     "output_type": "stream",
     "text": [
<<<<<<< HEAD
      "('BMW', 'Mitsubishi', 'Seat', 'Skoda', 'Volvo', 'Audi', 'Dacia', 'Skoda', 'BMW', 'Volkswagen')\n",
      "['BMW', 'Mitsubishi', 'Seat', 'Skoda', 'Volvo', 'Audi', 'Dacia', 'Skoda', 'BMW', 'Volkswagen']\n",
      "['BMW', 'Mit', 'Sea', 'Sko', 'Vol', 'Aud', 'Dac', 'Sko', 'BMW', 'Vol']\n"
=======
      "[0, 3, 6, 9, 12, 15, 18, 21, 24, 27, 30]\n"
>>>>>>> feea45ec67a34ebd8439071387cd8b2b2a8e874a
     ]
    }
   ],
   "source": [
<<<<<<< HEAD
    "# ('BMW', 'Mitsubishi', 'Seat', 'Skoda', 'Volvo', 'Audi', 'Dacia', 'Skoda', 'BMW', 'Volkswagen')\n",
    "# sukurkite sąrašą, kur būtų pirmi 3 simboliai gamintojų, didžiosiomis raidėmis\n",
    "\n",
    "a = ('BMW', 'Mitsubishi', 'Seat', 'Skoda', 'Volvo', 'Audi', 'Dacia', 'Skoda', 'BMW', 'Volkswagen')\n",
    "\n",
    "print (a)\n",
    "\n",
    "print (list(a))\n",
    "\n",
    "nauji_pavadinimai = [i[:3] for i in a]\n",
    "\n",
    "print(nauji_pavadinimai)\n"
=======
    "a = [i*3 for i in range(0,11)]\n",
    "print(a)"
>>>>>>> feea45ec67a34ebd8439071387cd8b2b2a8e874a
   ]
  },
  {
   "cell_type": "code",
<<<<<<< HEAD
   "execution_count": 62,
=======
   "execution_count": 5,
>>>>>>> feea45ec67a34ebd8439071387cd8b2b2a8e874a
   "metadata": {},
   "outputs": [
    {
     "name": "stdout",
     "output_type": "stream",
     "text": [
<<<<<<< HEAD
      "['4999', '2378', '1598', '1798', '1969', '1760', '1461', '1600', '2000', '1600']\n",
      "['507', '160', '95', '179', '235', '88', '107', '116', '163', '120']\n",
      "[['4999 cm³, 507 AG ', '373kW)'], ['2378 cm³, 160 AG ', '118kW)'], ['1598 cm³, 95 AG ', '70kW)'], ['1798 cm³, 179 AG ', '132kW)'], ['1969 cm³, 235 AG ', '173kW)'], ['1760 cm³, 88 AG ', '65kW)'], ['1461 cm³, 107 AG ', '79kW)'], ['1600 cm³, 116 AG ', '85kW)'], ['2000 cm³, 163 AG ', '120kW)'], ['1600 cm³, 120 AG ', '88kW)']]\n"
=======
      "['L', 'A', 'B', 'A', 'S']\n"
>>>>>>> feea45ec67a34ebd8439071387cd8b2b2a8e874a
     ]
    }
   ],
   "source": [
<<<<<<< HEAD
    "# ('4999 cm³, 507 AG (373kW)', '2378 cm³, 160 AG (118kW)', '1598 cm³, 95 AG (70kW)', '1798 cm³, 179 AG (132kW)', '1969 cm³, 235 AG (173kW)', '1760 cm³, 88 AG (65kW)', '1461 cm³, 107 AG (79kW)', '1600 cm³, 116 AG (85kW)', '2000 cm³, 163 AG (120kW)', '1600 cm³, 120 AG (88kW)')\n",
    "# Atskirkite į tris sąrašus tūrį, AG ir kW.\n",
    "# parašykite funkciją, kuri grąžintų vidurkį, jei jūs jai nurodote skaičių sąrašą (list) arba eilutę (tuple)\n",
    "\n",
    "a = ('4999 cm³, 507 AG (373kW)', '2378 cm³, 160 AG (118kW)', '1598 cm³, 95 AG (70kW)', '1798 cm³, 179 AG (132kW)', '1969 cm³, 235 AG (173kW)', '1760 cm³, 88 AG (65kW)', '1461 cm³, 107 AG (79kW)', '1600 cm³, 116 AG (85kW)', '2000 cm³, 163 AG (120kW)', '1600 cm³, 120 AG (88kW)')\n",
    "\n",
    "sarasas1 = [i.split()[0] for i in a]\n",
    "\n",
    "sarasas2 = [i.split(\", \")[1].split()[0] for i in a]\n",
    "\n",
    "sarasas3 = [i.split(\", \")[1].split()[2] for i in a]\n",
    "\n",
    "# sarasas3 = [i.split(\"(\") for i in a]\n",
    "\n",
    "print(sarasas1)\n",
    "print(sarasas2)\n",
    "print(sarasas3)\n",
    "# print(sarasas3)\n"
=======
    "b = [i.upper() for i in \"Labas\"]\n",
    "print(b)"
>>>>>>> feea45ec67a34ebd8439071387cd8b2b2a8e874a
   ]
  },
  {
   "cell_type": "code",
<<<<<<< HEAD
   "execution_count": 73,
=======
   "execution_count": 6,
>>>>>>> feea45ec67a34ebd8439071387cd8b2b2a8e874a
   "metadata": {},
   "outputs": [
    {
     "name": "stdout",
     "output_type": "stream",
     "text": [
<<<<<<< HEAD
      "[4, 6, 55]\n",
      "21.666666666666668\n"
=======
      "[2, 4, 6, 8, 10, 12, 14, 16, 18, 20]\n"
>>>>>>> feea45ec67a34ebd8439071387cd8b2b2a8e874a
     ]
    }
   ],
   "source": [
<<<<<<< HEAD
    "# 5) parašykite funkciją, kuri grąžintų vidurkį, jei jūs jai nurodote skaičių sąrašą (list) arba eilutę (tuple)\n",
    "\n",
    "a = int(input(\"iveskite skaicius: \"))\n",
    "b = int(input(\"iveskite kita skaiciu: \"))\n",
    "c = int(input(\"iveskite paskutini skaiciu:\"))\n",
    "\n",
    "sarasas = [a, b, c]\n",
    "\n",
    "print(sarasas)\n",
    "\n",
    "def vidurkis(sarasas):\n",
    "        vidurkis2 = sum(sarasas) / len(sarasas)\n",
    "        return vidurkis2\n",
    "\n",
    "rezultatas = vidurkis(sarasas)\n",
    "print(rezultatas)"
=======
    "c = [i for i in range(1,21) if i%2==0]\n",
    "print(c)"
>>>>>>> feea45ec67a34ebd8439071387cd8b2b2a8e874a
   ]
  },
  {
   "cell_type": "code",
<<<<<<< HEAD
   "execution_count": 85,
=======
   "execution_count": 7,
>>>>>>> feea45ec67a34ebd8439071387cd8b2b2a8e874a
   "metadata": {},
   "outputs": [
    {
     "name": "stdout",
     "output_type": "stream",
     "text": [
<<<<<<< HEAD
      "['Liepos', '19', 'd.', 'UNESCO', 'pasaulio', 'paveldu', 'tapusiame', 'Kauno', 'modernizmo', 'architektūros', 'objekte', '–', 'Lietuvos', 'banko', 'Kauno', 'rūmuose', 'į', 'muzikos', 'meditaciją', 'pakvies', 'vokalinis', 'ansamblis', '„Duodeco“.', 'Pirmą', 'kartą', 'Pažaislio', 'muzikos', 'festivalis', 'rengia', 'koncertą', 'šioje', 'nepaprastoje', 'erdvėje,', 'kurioje', '2019', 'm.', 'suburtas', 'kolektyvas', 'festivalio', 'publikai', 'pristatys', 'muzikinę', 'programą', '„More', 'Sweet', 'Than', 'My', 'Refrain“.']\n",
      "48\n",
      "[6, 2, 2, 6, 8, 7, 9, 5, 10, 13, 7, 1, 8, 5, 5, 7, 1, 7, 10, 7, 9, 9, 10, 5, 5, 9, 7, 10, 6, 8, 5, 12, 8, 7, 4, 2, 8, 10, 10, 8, 9, 8, 8, 5, 5, 4, 2, 9]\n"
=======
      "['Apvalus', 'Vienas', 'DU', 'Apvalus', 'Vienas', 'DU', 'Apvalus', 'Vienas', 'DU', 'Apvalus', 'Vienas', 'DU', 'Apvalus', 'Vienas', 'DU', 'Apvalus', 'Vienas', 'DU', 'Apvalus', 'Vienas']\n"
>>>>>>> feea45ec67a34ebd8439071387cd8b2b2a8e874a
     ]
    }
   ],
   "source": [
<<<<<<< HEAD
    "# 6)\n",
    "# t = '''Liepos 19 d. UNESCO pasaulio paveldu tapusiame Kauno modernizmo architektūros objekte – Lietuvos banko Kauno rūmuose į muzikos meditaciją pakvies vokalinis ansamblis „Duodeco“. Pirmą kartą Pažaislio muzikos festivalis rengia koncertą šioje nepaprastoje erdvėje, kurioje 2019 m. suburtas kolektyvas festivalio publikai pristatys muzikinę programą „More Sweet Than My Refrain“.'''\n",
    "# # SUkurkite sąrašą, kuriame būtų šio teksto žodžių ilgiai.\n",
    "\n",
    "originalus_tekstas = '''Liepos 19 d. UNESCO pasaulio paveldu tapusiame Kauno modernizmo architektūros objekte – Lietuvos banko Kauno rūmuose į muzikos meditaciją pakvies vokalinis ansamblis „Duodeco“. Pirmą kartą Pažaislio muzikos festivalis rengia koncertą šioje nepaprastoje erdvėje, kurioje 2019 m. suburtas kolektyvas festivalio publikai pristatys muzikinę programą „More Sweet Than My Refrain“.'''\n",
    "\n",
    "t2 = originalus_tekstas.split()\n",
    "print(t2)\n",
    "\n",
    "saraso_ilgis = len(t2)\n",
    "\n",
    "print(saraso_ilgis)\n",
    "\n",
    "naujas_sarasas = []\n",
    "\n",
    "for i in t2:\n",
    "    simboliai = len(i)\n",
    "    naujas_sarasas.append(simboliai) \n",
    "\n",
    "print(naujas_sarasas)\n",
    "\n",
    "\n",
    "\n"
   ]
  },
  {
   "cell_type": "code",
   "execution_count": 87,
   "metadata": {},
   "outputs": [
    {
     "name": "stdout",
     "output_type": "stream",
     "text": [
      "[23, 15, 19, 12, 4, 16, 17, 5, 2, 20, 3, 17, 22, 18, 11, 14, 21, 21, 11, 22, 16, 13, 4, 10, 21, 21, 11, 10, 21, 14, 19, 3, 7, 2, 22, 1, 17, 14, 23, 17, 15, 15, 19, 21, 10, 19, 4, 11, 22, 21, 4, 7, 5, 21, 12, 10, 15, 2, 21, 7, 19, 21, 15, 15, 5, 20, 14, 9, 5, 11, 4, 5]\n",
      "[23, 15, 19, 12, 4, 16, 17, 'Rytas', 2, 'Rytas', 3, 17, 22, 18, 11, 14, 21, 21, 11, 22, 16, 13, 4, 10, 21, 21, 11, 10, 21, 14, 19, 3, 7, 2, 22, 1, 17, 14, 23, 17, 15, 15, 19, 21, 10, 19, 4, 11, 22, 21, 4, 7, 5, 21, 12, 10, 15, 2, 21, 7, 19, 21, 15, 15, 5, 20, 14, 9, 5, 11, 4, 5]\n",
      "[4, 6, 55]\n"
     ]
    }
   ],
   "source": [
    "# 7)\n",
    "# fx = [23, 15, 19, 12, 4, 16, 17, 5, 2, 20, 3, 17, 22, 18, 11, 14, 21, 21, 11, 22, 16, 13, 4, 10, 21, 21, 11, 10, 21, 14, 19, 3, 7, 2, 22, 1, 17, 14, 23, 17, 15, 15, 19, 21, 10, 19, 4, 11, 22, 21, 4, 7, 5, 21, 12, 10, 15, 2, 21, 7, 19, 21, 15, 15, 5, 20, 14, 9, 5, 11, 4, 5]\n",
    "# Parašykite kodą, kuris sugeneruotų sąrašą, su žodžiais 'Rytas', jei skaičius fx sąraše yra tarp 6 ir 10, diena, jei tarp 10 ir 18, vakaras jei tarp 18 ir 22, ir naktis kitais atvejais.\n",
    "\n",
    "fx = [23, 15, 19, 12, 4, 16, 17, 5, 2, 20, 3, 17, 22, 18, 11, 14, 21, 21, 11, 22, 16, 13, 4, 10, 21, 21, 11, 10, 21, 14, 19, 3, 7, 2, 22, 1, 17, 14, 23, 17, 15, 15, 19, 21, 10, 19, 4, 11, 22, 21, 4, 7, 5, 21, 12, 10, 15, 2, 21, 7, 19, 21, 15, 15, 5, 20, 14, 9, 5, 11, 4, 5]\n",
    "\n",
    "print(fx)\n",
    "\n",
    "for i in fx: \n",
    "    if 6 < i < 10:\n",
    "        fx[i] = 'Rytas'\n",
    "        \n",
    "print (fx)\n",
    "        \n",
    "\n"
   ]
  },
  {
   "cell_type": "code",
   "execution_count": null,
   "metadata": {},
   "outputs": [],
   "source": [
    "# 8)\n",
    "# duomenys: [('BMW', '253 000 km', '19 500', '4999 cm³, 507 AG (373kW)', 'Benzinas'), ('Mitsubishi', '195 405 km', '2 700', '2378 cm³, 160 AG (118kW)', 'Benzinas'), ('Seat', '129 800 km', '13 490', '1598 cm³, 95 AG (70kW)', 'Dyzelinas'), ('Skoda', '183 000 km', '14 650', '1798 cm³, 179 AG (132kW)', 'Benzinas'), ('Volvo', '127 896 km', '38 000', '1969 cm³, 235 AG (173kW)', 'Dyzelinas')]\n",
    "# parašyti funkciją, kuri juos spausdintų tokiu vaizdu:"
   ]
  },
  {
   "cell_type": "code",
   "execution_count": null,
   "metadata": {},
   "outputs": [],
   "source": [
    "# 9)\n",
    "# parašykite funkcjas suma(), skirtumas(), sandauga(), dalyba(), kurioms jūs galėtumėte nurodyti skaičių sąrašą x, ir vieną sakičių d, ir tos funkcijos grąžintų naują sąrašą, su skaičiais iš x sąrašo su atitinkmai atliktu veiksmu - pridėtu d, atimtu d, padaugintu iš d.\n",
    "# def suma(x, d):\n",
    "#     veiksmai, kad gautumėte naują sąrašą kur x+d\n",
    "#     return naujas sąrašas\n",
    "\n",
    "\n"
   ]
  },
  {
   "cell_type": "code",
   "execution_count": 93,
   "metadata": {},
   "outputs": [
    {
     "name": "stdout",
     "output_type": "stream",
     "text": [
      "['1,2\\n', '3,4\\n', '5,6\\n', '7,8\\n', '\\n']\n"
     ]
    }
   ],
   "source": [
    "#darbas su failais\n",
    "\n",
    "failo_vardas = 'f1.txt'\n",
    "\n",
    "failas = open(failo_vardas, mode='r', encoding = 'utf-8')\n",
    "\n",
    "turinys = failas.readlines()\n",
    "\n",
    "failas.close()\n",
    "\n",
    "print(turinys)"
   ]
  },
  {
   "cell_type": "code",
   "execution_count": 115,
   "metadata": {},
   "outputs": [
    {
     "name": "stdout",
     "output_type": "stream",
     "text": [
      "['1.25,2.28\\n', '3.33,4.421\\n', '5,6.67\\n', '7,8.01']\n",
      "['1.25', '3.33', '5', '7']\n",
      "4.145\n"
     ]
    }
   ],
   "source": [
    "failo_vardas = 'f2.txt'\n",
    "\n",
    "failas = open(failo_vardas, mode='r', encoding='utf-8')\n",
    "\n",
    "xsar = []\n",
    "ysar=[]\n",
    "turinys = failas.readlines()\n",
    "\n",
    "for eil in turinys:\n",
    "    x, y = eil.strip().split(',')\n",
    "    xsar.append(float(x))\n",
    "    ysar.append(float(y))\n",
    "    \n",
    "xvid = sum(xsar) / len(xsar)\n",
    "\n",
    "\n",
    "failas.close()\n",
    "\n",
    "print(turinys)\n",
    "print(sarasas)\n",
    "print(xvid)"
=======
    "d = ['Apvalus' if i % 3 == 0 else 'Vienas' if i%3 == 1 else 'DU' for i in range(20)]\n",
    "print(d)"
>>>>>>> feea45ec67a34ebd8439071387cd8b2b2a8e874a
   ]
  },
  {
   "cell_type": "code",
   "execution_count": 8,
   "metadata": {},
   "outputs": [
    {
     "name": "stdout",
     "output_type": "stream",
     "text": [
<<<<<<< HEAD
      "[8, 5, 4]\n"
=======
      "[0, 1, 4, 9, 16, 25, 36, 49, 64, 81, 100, 121, 144, 169, 196, 225, 256, 289, 324, 361]\n",
      "[0, 1, 4, 27, 16, 125, 36, 343, 64, 729]\n"
>>>>>>> feea45ec67a34ebd8439071387cd8b2b2a8e874a
     ]
    }
   ],
   "source": [
<<<<<<< HEAD
    "# parašykite funkciją, kuriai galėtumėte nurodyti tris skaičius - elemnetų kiekį (ilgį), ribas nuo, iki, ir ta funkcija grąžintų sąrašą, nurodyto ilgio, atsitiktiniais skaičiais užpildytą.\n",
    "# parašyti funkciją, kuri grąžintų nurodyto ilgio sąrašą, užpildytą skaičiais tarp 0 ir 1\n",
    "\n",
    "import random \n",
    "\n",
    "def sarasas(elementai, nuo, iki):\n",
    "    return [random.randint(nuo, iki) for i in range(elementai)]\n",
    "\n",
    "rezultatas = sarasas(3, 1, 10)\n",
    "\n",
    "print(rezultatas)\n",
    "\n",
    "\n"
=======
    "def fn(x):\n",
    "    return x**2\n",
    "\n",
    "def fn3(x):\n",
    "    return x**3\n",
    "\n",
    "d = [fn(i) for i in range(20)]\n",
    "print(d)\n",
    "\n",
    "e = [fn(i) if i%2 == 0 else fn3(i) for i in range(10)]\n",
    "print(e)"
>>>>>>> feea45ec67a34ebd8439071387cd8b2b2a8e874a
   ]
  },
  {
   "cell_type": "code",
   "execution_count": 9,
   "metadata": {},
   "outputs": [
    {
<<<<<<< HEAD
     "ename": "TypeError",
     "evalue": "sarasas() takes 1 positional argument but 3 were given",
     "output_type": "error",
     "traceback": [
      "\u001b[1;31m---------------------------------------------------------------------------\u001b[0m",
      "\u001b[1;31mTypeError\u001b[0m                                 Traceback (most recent call last)",
      "Cell \u001b[1;32mIn[9], line 8\u001b[0m\n\u001b[0;32m      5\u001b[0m \u001b[38;5;28;01mdef\u001b[39;00m \u001b[38;5;21msarasas\u001b[39m(elementai):\n\u001b[0;32m      6\u001b[0m     \u001b[38;5;28;01mreturn\u001b[39;00m [random\u001b[38;5;241m.\u001b[39mrandom() \u001b[38;5;28;01mfor\u001b[39;00m i \u001b[38;5;129;01min\u001b[39;00m \u001b[38;5;28mrange\u001b[39m(elementai) ]\n\u001b[1;32m----> 8\u001b[0m rezultatas \u001b[38;5;241m=\u001b[39m \u001b[43msarasas\u001b[49m\u001b[43m(\u001b[49m\u001b[38;5;241;43m4\u001b[39;49m\u001b[43m,\u001b[49m\u001b[38;5;241;43m8\u001b[39;49m\u001b[43m,\u001b[49m\u001b[38;5;241;43m9\u001b[39;49m\u001b[43m)\u001b[49m\n\u001b[0;32m     10\u001b[0m \u001b[38;5;28mprint\u001b[39m(rezultatas)\n",
      "\u001b[1;31mTypeError\u001b[0m: sarasas() takes 1 positional argument but 3 were given"
=======
     "ename": "NameError",
     "evalue": "name 'C' is not defined",
     "output_type": "error",
     "traceback": [
      "\u001b[1;31m---------------------------------------------------------------------------\u001b[0m",
      "\u001b[1;31mNameError\u001b[0m                                 Traceback (most recent call last)",
      "Cell \u001b[1;32mIn[9], line 3\u001b[0m\n\u001b[0;32m      1\u001b[0m \u001b[38;5;66;03m#sql užklausos vykdymas per mysql/mariadb kursorių\u001b[39;00m\n\u001b[0;32m      2\u001b[0m sql\u001b[38;5;241m=\u001b[39m\u001b[38;5;124m\"\"\"\u001b[39m\u001b[38;5;124mselect gamintojas, rida, price, variklis, kuro_tipas from autopliuslt limit 5\u001b[39m\u001b[38;5;124m\"\"\"\u001b[39m\n\u001b[1;32m----> 3\u001b[0m \u001b[43mC\u001b[49m\u001b[38;5;241m.\u001b[39mexecute(sql)\n\u001b[0;32m      4\u001b[0m ans \u001b[38;5;241m=\u001b[39m C\u001b[38;5;241m.\u001b[39mfetchall()\n\u001b[0;32m      5\u001b[0m gam,rida,kaina,variklis,kuras \u001b[38;5;241m=\u001b[39m \u001b[38;5;28mzip\u001b[39m(\u001b[38;5;241m*\u001b[39mans)\n",
      "\u001b[1;31mNameError\u001b[0m: name 'C' is not defined"
>>>>>>> feea45ec67a34ebd8439071387cd8b2b2a8e874a
     ]
    }
   ],
   "source": [
<<<<<<< HEAD
    "# parašyti funkciją, kuri grąžintų nurodyto ilgio sąrašą, užpildytą skaičiais tarp 0 ir 1\n",
    "\n",
    "import random \n",
    "\n",
    "def sarasas(elementai):\n",
    "    return [random.random() for i in range(elementai) ]\n",
    "\n",
    "rezultatas = sarasas(4,8,9)\n",
    "\n",
    "print(rezultatas)"
=======
    "#sql užklausos vykdymas per mysql/mariadb kursorių\n",
    "sql=\"\"\"select gamintojas, rida, price, variklis, kuro_tipas from autopliuslt limit 5\"\"\"\n",
    "C.execute(sql)\n",
    "ans = C.fetchall()\n",
    "gam,rida,kaina,variklis,kuras = zip(*ans)\n",
    "#? = np.transpose(ans)\n",
    "print(ans)\n",
    "# print(variklis)\n",
    "# print(rida)\n",
    "\n",
    "def pout(a, limit=5):\n",
    "  if len(a) > limit:\n",
    "    print(f'Rodoma {limit} eilutės iš {len(a)}')\n",
    "  for k,i in enumerate(a):\n",
    "    if k > limit:\n",
    "      break\n",
    "    l = []\n",
    "    for k in i:\n",
    "      f = f'{str(k):^18.18}'\n",
    "      l.append(f)\n",
    "    t = '|'+'|'.join(l)+'|'\n",
    "    print(t)\n",
    "\n",
    "pout(ans)"
   ]
  },
  {
   "cell_type": "code",
   "execution_count": null,
   "metadata": {},
   "outputs": [
    {
     "name": "stdout",
     "output_type": "stream",
     "text": [
      "Rodoma 5 eilutės iš 10\n",
      "|       BMW        |    253 000 km    |      19 500      |4999 cm³, 507 AG (|     Benzinas     |\n",
      "|    Mitsubishi    |    195 405 km    |      2 700       |2378 cm³, 160 AG (|     Benzinas     |\n",
      "|       Seat       |    129 800 km    |      13 490      |1598 cm³, 95 AG (7|    Dyzelinas     |\n",
      "|      Skoda       |    183 000 km    |      14 650      |1798 cm³, 179 AG (|     Benzinas     |\n",
      "|      Volvo       |    127 896 km    |      38 000      |1969 cm³, 235 AG (|    Dyzelinas     |\n",
      "|       Audi       |    194 000 km    |      1 200       |1760 cm³, 88 AG (6|     Benzinas     |\n"
     ]
    }
   ],
   "source": [
    "pout(ans)"
>>>>>>> feea45ec67a34ebd8439071387cd8b2b2a8e874a
   ]
  },
  {
   "cell_type": "code",
   "execution_count": null,
   "metadata": {},
   "outputs": [],
   "source": [
<<<<<<< HEAD
    "# parašyti su amžinu while ciklu skaičių spėliojimo žaidimą. Sugeneruojamas skaičius tarp 1 ir 10, vartotojas įveda spėjimą. Programa pasako, ar įvestas skaičius yra mažesnis, ar didesnis už sugeneruotą skaičių. Programa nutrūksta, kai atspėjamas skaičius. Papildykite kodu, kuris parašytų, iš kelinto karto buvo atspėtas skaičius.\n",
=======
    "# parašykite funkciją, kuri grąžintų vidurkį, jei jūs jai nurodote skaičių sąrašą (list) arba eilutę (tuple)"
   ]
  },
  {
   "cell_type": "code",
   "execution_count": null,
   "metadata": {},
   "outputs": [],
   "source": [
    "t = '''Liepos 19 d. UNESCO pasaulio paveldu tapusiame Kauno modernizmo architektūros objekte – Lietuvos banko Kauno rūmuose į muzikos meditaciją pakvies vokalinis ansamblis „Duodeco“. Pirmą kartą Pažaislio muzikos festivalis rengia koncertą šioje nepaprastoje erdvėje, kurioje 2019 m. suburtas kolektyvas festivalio publikai pristatys muzikinę programą „More Sweet Than My Refrain“.'''\n",
    "# SUkurkite sąrašą, kuriame būtų šio teksto žodžių ilgiai.\n",
>>>>>>> feea45ec67a34ebd8439071387cd8b2b2a8e874a
    "\n"
   ]
  },
  {
   "cell_type": "code",
   "execution_count": null,
   "metadata": {},
<<<<<<< HEAD
   "outputs": [],
   "source": [
    "# 5. Parašyti funkciją, kurioje sugeneruojamos dvi skaičių sekos\n",
    "# (jos gali būti skirtingo dydžio), programa turi grąžinti sąrašą\n",
    "# skaičių, kurie sutampa tarp dviejų sugeneruotu sąrašų,\n",
    "# galutiniame sąraše neturi būti skaičių dublikatų. PVZ: x =[1, 1,\n",
    "# 2, 3, 1] y = [1, 3, 5, 6] atsakymas = [1,3]"
=======
   "outputs": [
    {
     "name": "stdout",
     "output_type": "stream",
     "text": [
      "[23, 15, 19, 12, 4, 16, 17, 5, 2, 20, 3, 17, 22, 18, 11, 14, 21, 21, 11, 22, 16, 13, 4, 10, 21, 21, 11, 10, 21, 14, 19, 3, 7, 2, 22, 1, 17, 14, 23, 17, 15, 15, 19, 21, 10, 19, 4, 11, 22, 21, 4, 7, 5, 21, 12, 10, 15, 2, 21, 7, 19, 21, 15, 15, 5, 20, 14, 9, 5, 11, 4, 5]\n"
     ]
    }
   ],
   "source": [
    "fx = np.random.randint(1,24,72).tolist()\n",
    "print(fx)"
   ]
  },
  {
   "cell_type": "markdown",
   "metadata": {},
   "source": [
    "#### Užduotys, įrašytos į chat'ą:"
   ]
  },
  {
   "cell_type": "code",
   "execution_count": null,
   "metadata": {},
   "outputs": [],
   "source": [
    "x = [*range(10)]\n",
    "# 1 )sukurkite naują sąrašą, kuriame x elemntai būtų pakdauginti iš jūsų įvesto skaičiaus"
   ]
  },
  {
   "cell_type": "code",
   "execution_count": null,
   "metadata": {},
   "outputs": [],
   "source": [
    "# 2)\n",
    "r = ('19 500', '2 700', '13 490', '14 650', '38 000', '1 200', '8 000', '11 990', '16 190', '16 490')\n",
    "# sukurkite sąrašą, kuriame būtų duoti tekstai paversti į skaičius (float) tipo."
   ]
  },
  {
   "cell_type": "code",
   "execution_count": null,
   "metadata": {},
   "outputs": [],
   "source": [
    "# 3) \n",
    "g = ('BMW', 'Mitsubishi', 'Seat', 'Skoda', 'Volvo', 'Audi', 'Dacia', 'Skoda', 'BMW', 'Volkswagen')\n",
    "# sukurkite sąrašą, kur būtų pirmi 3 simboliai gamintojų, didžiosiomis raidėmis"
   ]
  },
  {
   "cell_type": "code",
   "execution_count": null,
   "metadata": {},
   "outputs": [],
   "source": [
    "# 4)\n",
    "v = ('4999 cm³, 507 AG (373kW)', '2378 cm³, 160 AG (118kW)', '1598 cm³, 95 AG (70kW)', '1798 cm³, 179 AG (132kW)', '1969 cm³, 235 AG (173kW)', '1760 cm³, 88 AG (65kW)', '1461 cm³, 107 AG (79kW)', '1600 cm³, 116 AG (85kW)', '2000 cm³, 163 AG (120kW)', '1600 cm³, 120 AG (88kW)')\n",
    "# Atskirkite į tris sąrašus tūrį, AG ir kW."
   ]
  },
  {
   "cell_type": "code",
   "execution_count": null,
   "metadata": {},
   "outputs": [],
   "source": [
    "# 5)\n",
    "# parašykite funkciją, kuri grąžintų vidurkį,\n",
    "# jei jūs jai nurodote skaičių sąrašą (list) arba eilutę (tuple)"
   ]
  },
  {
   "cell_type": "code",
   "execution_count": null,
   "metadata": {},
   "outputs": [],
   "source": [
    "# 6)\n",
    "t = '''Liepos 19 d. UNESCO pasaulio paveldu tapusiame Kauno modernizmo architektūros objekte – Lietuvos banko Kauno rūmuose į muzikos meditaciją pakvies vokalinis ansamblis „Duodeco“. Pirmą kartą Pažaislio muzikos festivalis rengia koncertą šioje nepaprastoje erdvėje, kurioje 2019 m. suburtas kolektyvas festivalio publikai pristatys muzikinę programą „More Sweet Than My Refrain“.'''\n",
    "# SUkurkite sąrašą, kuriame būtų šio teksto žodžių ilgiai."
   ]
  },
  {
   "cell_type": "code",
   "execution_count": null,
   "metadata": {},
   "outputs": [],
   "source": [
    "# 7)\n",
    "fx = [23, 15, 19, 12, 4, 16, 17, 5, 2, 20, 3, 17, 22, 18, 11, 14, 21, 21, 11, 22, 16, 13, 4, 10, 21, 21, 11, 10, 21, 14, 19, 3, 7, 2, 22, 1, 17, 14, 23, 17, 15, 15, 19, 21, 10, 19, 4, 11, 22, 21, 4, 7, 5, 21, 12, 10, 15, 2, 21, 7, 19, 21, 15, 15, 5, 20, 14, 9, 5, 11, 4, 5]\n",
    "# Parašykite kodą, kuris sugeneruotų sąrašą, su žodžiais \n",
    "# 'Rytas', jei skaičius fx sąraše yra tarp 6 ir 10, diena, jei tarp 10 ir 18,\n",
    "# vakaras jei tarp 18 ir 22, ir naktis kitais atvejais."
   ]
  },
  {
   "cell_type": "code",
   "execution_count": null,
   "metadata": {},
   "outputs": [],
   "source": [
    "# 8)\n",
    "duomenys= [('BMW', '253 000 km', '19 500', '4999 cm³, 507 AG (373kW)', 'Benzinas'), ('Mitsubishi', '195 405 km', '2 700', '2378 cm³, 160 AG (118kW)', 'Benzinas'), ('Seat', '129 800 km', '13 490', '1598 cm³, 95 AG (70kW)', 'Dyzelinas'), ('Skoda', '183 000 km', '14 650', '1798 cm³, 179 AG (132kW)', 'Benzinas'), ('Volvo', '127 896 km', '38 000', '1969 cm³, 235 AG (173kW)', 'Dyzelinas')]\n",
    "# parašyti funkciją, kuri juos spausdintų tokiu vaizdu:"
   ]
  },
  {
   "attachments": {
    "image.png": {
     "image/png": "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"
    }
   },
   "cell_type": "markdown",
   "metadata": {},
   "source": [
    "![image.png](attachment:image.png)"
   ]
  },
  {
   "cell_type": "code",
   "execution_count": null,
   "metadata": {},
   "outputs": [],
   "source": [
    "# 9)\n",
    "# parašykite funkcjas suma(), skirtumas(), sandauga(), dalyba(), \n",
    "# kurioms jūs galėtumėte nurodyti skaičių sąrašą x, ir vieną skaičių d, \n",
    "# ir tos funkcijos grąžintų naują sąrašą, su skaičiais iš x sąrašo su atitinkmai atliktu veiksmu - \n",
    "# pridėtu d, atimtu d, padaugintu iš d.\n",
    "# def suma(x, d):\n",
    "#     veiksmai, kad gautumėte naują sąrašą kur x+d\n",
    "#     return naujas sąrašas"
   ]
  },
  {
   "cell_type": "code",
   "execution_count": null,
   "metadata": {},
   "outputs": [],
   "source": [
    "def fn(x):\n",
    "    '''\n",
    "    FN funkcija moka pasiimti x\n",
    "    \n",
    "    grąžina ta patį x'ą\n",
    "    \n",
    "    x: float\n",
    "    \n",
    "    retrun : list of floats\n",
    "    '''\n",
    "    return x"
   ]
  },
  {
   "cell_type": "code",
   "execution_count": null,
   "metadata": {},
   "outputs": [],
   "source": [
    "fn(5)"
   ]
  },
  {
   "cell_type": "code",
   "execution_count": null,
   "metadata": {},
   "outputs": [
    {
     "name": "stdout",
     "output_type": "stream",
     "text": [
      "42\n",
      "50\n"
     ]
    }
   ],
   "source": [
    "# globalūs ir lokalūs kintamieji\n",
    "\n",
    "A = 50 # globalus\n",
    "\n",
    "def fn(A): # ir čia aprašytas A yra lokalus!\n",
    "    A = 42 # lokalus, ir nė velnio nesusijes su globaliu A\n",
    "    print(A)\n",
    "    \n",
    "fn(A)\n",
    "print(A)"
   ]
  },
  {
   "cell_type": "code",
   "execution_count": null,
   "metadata": {},
   "outputs": [],
   "source": [
    "A = 40\n",
    "A = 50\n",
    "A = 'labas'"
   ]
  },
  {
   "cell_type": "code",
   "execution_count": null,
   "metadata": {},
   "outputs": [
    {
     "name": "stdout",
     "output_type": "stream",
     "text": [
      "42\n",
      "42\n"
     ]
    }
   ],
   "source": [
    "A = 50\n",
    "\n",
    "def fn():\n",
    "    A = 42\n",
    "    print(A)\n",
    "\n",
    "fn()\n",
    "print(A)"
   ]
  },
  {
   "cell_type": "code",
   "execution_count": null,
   "metadata": {},
   "outputs": [],
   "source": [
    "failas = 'labas.txt'\n",
    "\n",
    "def openf(failas):\n",
    "    pass\n",
    "\n",
    "openf(failas=failas)"
   ]
  },
  {
   "cell_type": "code",
   "execution_count": null,
   "metadata": {},
   "outputs": [],
   "source": [
    "t = [1,2,3]\n",
    "\n",
    "def fn(t):\n",
    "    pass\n",
    "\n",
    "fn(t)"
   ]
  },
  {
   "cell_type": "code",
   "execution_count": null,
   "metadata": {},
   "outputs": [
    {
     "name": "stdout",
     "output_type": "stream",
     "text": [
      "laba diena\n",
      "ąčęėįš\n",
      "ξλδ&δäφäγ\n",
      "123568\n",
      "swhdfuoiew dkjgiotrg dsafjpojg dajfofjg\n"
     ]
    }
   ],
   "source": [
    "failo_vardas = 'F1.txt'\n",
    "\n",
    "failas = open(failo_vardas, mode='r', encoding='utf-8')\n",
    "\n",
    "turinys = failas.read()\n",
    "\n",
    "\n",
    "failas.close()\n",
    "\n",
    "print(turinys)"
   ]
  },
  {
   "cell_type": "code",
   "execution_count": null,
   "metadata": {},
   "outputs": [
    {
     "name": "stdout",
     "output_type": "stream",
     "text": [
      "['laba diena\\n', 'ąčęėįš\\n', 'ξλδ&δäφäγ\\n', '123568\\n', 'swhdfuoiew dkjgiotrg dsafjpojg dajfofjg']\n"
     ]
    }
   ],
   "source": [
    "failo_vardas = 'F1.txt'\n",
    "\n",
    "failas = open(failo_vardas, mode='r', encoding='utf-8')\n",
    "\n",
    "turinys = failas.readlines()\n",
    "\n",
    "\n",
    "failas.close()\n",
    "\n",
    "print(turinys)"
   ]
  },
  {
   "cell_type": "code",
   "execution_count": null,
   "metadata": {},
   "outputs": [
    {
     "name": "stdout",
     "output_type": "stream",
     "text": [
      "['1,2\\n', '3,4\\n', '5,6\\n', '7,8']\n"
     ]
    }
   ],
   "source": [
    "failo_vardas = 'F1.txt'\n",
    "\n",
    "failas = open(failo_vardas, mode='r', encoding='utf-8')\n",
    "\n",
    "turinys = failas.readlines()\n",
    "\n",
    "\n",
    "failas.close()\n",
    "\n",
    "print(turinys)"
   ]
  },
  {
   "cell_type": "code",
   "execution_count": null,
   "metadata": {},
   "outputs": [
    {
     "name": "stdout",
     "output_type": "stream",
     "text": [
      "3.0\n",
      "7.0\n",
      "11.0\n",
      "15.0\n"
     ]
    }
   ],
   "source": [
    "for eil in turinys:\n",
    "    x, y = eil.split(',')\n",
    "    c= float(x)+float(y)\n",
    "    print(c)"
   ]
  },
  {
   "cell_type": "code",
   "execution_count": null,
   "metadata": {},
   "outputs": [],
   "source": [
    "failo_vardas = 'F2.txt'\n",
    "\n",
    "failas = open(failo_vardas, mode='w', encoding='utf-8')\n",
    "\n",
    "failas.write('Laba diena\\n')\n",
    "failas.write('Rytas\\n')\n",
    "failas.write('Rytas\\n')\n",
    "failas.write('Rytas')\n",
    "\n",
    "failas.close()"
   ]
  },
  {
   "cell_type": "code",
   "execution_count": null,
   "metadata": {},
   "outputs": [
    {
     "name": "stdout",
     "output_type": "stream",
     "text": [
      "4.145 5.34525\n"
     ]
    }
   ],
   "source": [
    "# Surašykite į failą šiuos duomenis (su Notepadu)\n",
    "1.25,2.28\n",
    "3.33,4.421\n",
    "5,6.67\n",
    "7,8.01\n",
    "# nuskaitykite su Python šitą failą, ir suraskite skaičių vidurkį, kiekvienam stulpeliui atskirai\n",
    "\n",
    "f = open('F1.txt', mode='r', encoding='utf-8')\n",
    "t = f.readlines()\n",
    "f.close()\n",
    "a = []\n",
    "b = []\n",
    "for i in t:\n",
    "    ai, bi = i.split(',')\n",
    "    a.append(float(ai))\n",
    "    b.append(float(bi))\n",
    "\n",
    "print(sum(a)/len(a), sum(b)/len(b))\n",
    "    "
>>>>>>> feea45ec67a34ebd8439071387cd8b2b2a8e874a
   ]
  }
 ],
 "metadata": {
  "kernelspec": {
   "display_name": "Python 3",
   "language": "python",
   "name": "python3"
  },
  "language_info": {
   "codemirror_mode": {
    "name": "ipython",
    "version": 3
   },
   "file_extension": ".py",
   "mimetype": "text/x-python",
   "name": "python",
   "nbconvert_exporter": "python",
   "pygments_lexer": "ipython3",
   "version": "3.12.4"
  }
 },
 "nbformat": 4,
 "nbformat_minor": 2
}
