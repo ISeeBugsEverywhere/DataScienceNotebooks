{
 "cells": [
  {
   "cell_type": "code",
   "execution_count": 12,
   "metadata": {},
   "outputs": [
    {
     "name": "stdout",
     "output_type": "stream",
     "text": [
      "[0, 5, 10, 15, 20, 25, 30, 35, 40, 45]\n"
     ]
    }
   ],
   "source": [
    "# x = [*range(10)]\n",
    "# sukurkite naują sąrašą, kuriame x elemntai būtų pakdauginti iš jūsų įvesto skaičiaus\n",
    "x = [*range(10)]\n",
    "a = int(input('Iveskite skaiciu:'))\n",
    "\n",
    "b = [i * a for i in x]\n",
    "\n",
    "print(b)\n",
    "\n",
    "\n",
    "\n",
    "\n"
   ]
  },
  {
   "cell_type": "code",
   "execution_count": 18,
   "metadata": {},
   "outputs": [
    {
     "name": "stdout",
     "output_type": "stream",
     "text": [
      "[19500.0, 2700.0, 13490.0, 14650.0, 38000.0, 1200.0, 8000.0, 11990.0, 16190.0, 16490.0]\n",
      "[19500.0, 2700.0, 13490.0, 14650.0, 38000.0, 1200.0, 8000.0, 11990.0, 16190.0, 16490.0]\n"
     ]
    }
   ],
   "source": [
    "# ('19 500', '2 700', '13 490', '14 650', '38 000', '1 200', '8 000', '11 990', '16 190', '16 490')\n",
    "# sukurkite sąrašą, kuriame būtų duoti tekstai paversti į skaičius (float) tipo.\n",
    "x = ('19 500', '2 700', '13 490', '14 650', '38 000', '1 200', '8 000', '11 990', '16 190', '16 490')\n",
    "\n",
    "# skaiciai = [float() for c in x]\n",
    "\n",
    "# print(skaiciai)\n",
    "\n",
    "skaiciai = [float(c.replace(\" \",\"\")) for c in x]\n",
    "\n",
    "print (skaiciai)\n",
    "print(list(skaiciai))"
   ]
  },
  {
   "cell_type": "code",
   "execution_count": 26,
   "metadata": {},
   "outputs": [
    {
     "name": "stdout",
     "output_type": "stream",
     "text": [
      "('BMW', 'Mitsubishi', 'Seat', 'Skoda', 'Volvo', 'Audi', 'Dacia', 'Skoda', 'BMW', 'Volkswagen')\n",
      "['BMW', 'Mitsubishi', 'Seat', 'Skoda', 'Volvo', 'Audi', 'Dacia', 'Skoda', 'BMW', 'Volkswagen']\n",
      "['BMW', 'Mit', 'Sea', 'Sko', 'Vol', 'Aud', 'Dac', 'Sko', 'BMW', 'Vol']\n"
     ]
    }
   ],
   "source": [
    "# ('BMW', 'Mitsubishi', 'Seat', 'Skoda', 'Volvo', 'Audi', 'Dacia', 'Skoda', 'BMW', 'Volkswagen')\n",
    "# sukurkite sąrašą, kur būtų pirmi 3 simboliai gamintojų, didžiosiomis raidėmis\n",
    "\n",
    "a = ('BMW', 'Mitsubishi', 'Seat', 'Skoda', 'Volvo', 'Audi', 'Dacia', 'Skoda', 'BMW', 'Volkswagen')\n",
    "\n",
    "print (a)\n",
    "\n",
    "print (list(a))\n",
    "\n",
    "nauji_pavadinimai = [i[:3] for i in a]\n",
    "\n",
    "print(nauji_pavadinimai)\n"
   ]
  },
  {
   "cell_type": "code",
   "execution_count": 62,
   "metadata": {},
   "outputs": [
    {
     "name": "stdout",
     "output_type": "stream",
     "text": [
      "['4999', '2378', '1598', '1798', '1969', '1760', '1461', '1600', '2000', '1600']\n",
      "['507', '160', '95', '179', '235', '88', '107', '116', '163', '120']\n",
      "[['4999 cm³, 507 AG ', '373kW)'], ['2378 cm³, 160 AG ', '118kW)'], ['1598 cm³, 95 AG ', '70kW)'], ['1798 cm³, 179 AG ', '132kW)'], ['1969 cm³, 235 AG ', '173kW)'], ['1760 cm³, 88 AG ', '65kW)'], ['1461 cm³, 107 AG ', '79kW)'], ['1600 cm³, 116 AG ', '85kW)'], ['2000 cm³, 163 AG ', '120kW)'], ['1600 cm³, 120 AG ', '88kW)']]\n"
     ]
    }
   ],
   "source": [
    "# ('4999 cm³, 507 AG (373kW)', '2378 cm³, 160 AG (118kW)', '1598 cm³, 95 AG (70kW)', '1798 cm³, 179 AG (132kW)', '1969 cm³, 235 AG (173kW)', '1760 cm³, 88 AG (65kW)', '1461 cm³, 107 AG (79kW)', '1600 cm³, 116 AG (85kW)', '2000 cm³, 163 AG (120kW)', '1600 cm³, 120 AG (88kW)')\n",
    "# Atskirkite į tris sąrašus tūrį, AG ir kW.\n",
    "# parašykite funkciją, kuri grąžintų vidurkį, jei jūs jai nurodote skaičių sąrašą (list) arba eilutę (tuple)\n",
    "\n",
    "a = ('4999 cm³, 507 AG (373kW)', '2378 cm³, 160 AG (118kW)', '1598 cm³, 95 AG (70kW)', '1798 cm³, 179 AG (132kW)', '1969 cm³, 235 AG (173kW)', '1760 cm³, 88 AG (65kW)', '1461 cm³, 107 AG (79kW)', '1600 cm³, 116 AG (85kW)', '2000 cm³, 163 AG (120kW)', '1600 cm³, 120 AG (88kW)')\n",
    "\n",
    "sarasas1 = [i.split()[0] for i in a]\n",
    "\n",
    "sarasas2 = [i.split(\", \")[1].split()[0] for i in a]\n",
    "\n",
    "sarasas3 = [i.split(\", \")[1].split()[2] for i in a]\n",
    "\n",
    "# sarasas3 = [i.split(\"(\") for i in a]\n",
    "\n",
    "print(sarasas1)\n",
    "print(sarasas2)\n",
    "print(sarasas3)\n",
    "# print(sarasas3)\n"
   ]
  },
  {
   "cell_type": "code",
   "execution_count": 73,
   "metadata": {},
   "outputs": [
    {
     "name": "stdout",
     "output_type": "stream",
     "text": [
      "[4, 6, 55]\n",
      "21.666666666666668\n"
     ]
    }
   ],
   "source": [
    "# 5) parašykite funkciją, kuri grąžintų vidurkį, jei jūs jai nurodote skaičių sąrašą (list) arba eilutę (tuple)\n",
    "\n",
    "a = int(input(\"iveskite skaicius: \"))\n",
    "b = int(input(\"iveskite kita skaiciu: \"))\n",
    "c = int(input(\"iveskite paskutini skaiciu:\"))\n",
    "\n",
    "sarasas = [a, b, c]\n",
    "\n",
    "print(sarasas)\n",
    "\n",
    "def vidurkis(sarasas):\n",
    "        vidurkis2 = sum(sarasas) / len(sarasas)\n",
    "        return vidurkis2\n",
    "\n",
    "rezultatas = vidurkis(sarasas)\n",
    "print(rezultatas)"
   ]
  },
  {
   "cell_type": "code",
   "execution_count": 85,
   "metadata": {},
   "outputs": [
    {
     "name": "stdout",
     "output_type": "stream",
     "text": [
      "['Liepos', '19', 'd.', 'UNESCO', 'pasaulio', 'paveldu', 'tapusiame', 'Kauno', 'modernizmo', 'architektūros', 'objekte', '–', 'Lietuvos', 'banko', 'Kauno', 'rūmuose', 'į', 'muzikos', 'meditaciją', 'pakvies', 'vokalinis', 'ansamblis', '„Duodeco“.', 'Pirmą', 'kartą', 'Pažaislio', 'muzikos', 'festivalis', 'rengia', 'koncertą', 'šioje', 'nepaprastoje', 'erdvėje,', 'kurioje', '2019', 'm.', 'suburtas', 'kolektyvas', 'festivalio', 'publikai', 'pristatys', 'muzikinę', 'programą', '„More', 'Sweet', 'Than', 'My', 'Refrain“.']\n",
      "48\n",
      "[6, 2, 2, 6, 8, 7, 9, 5, 10, 13, 7, 1, 8, 5, 5, 7, 1, 7, 10, 7, 9, 9, 10, 5, 5, 9, 7, 10, 6, 8, 5, 12, 8, 7, 4, 2, 8, 10, 10, 8, 9, 8, 8, 5, 5, 4, 2, 9]\n"
     ]
    }
   ],
   "source": [
    "# 6)\n",
    "# t = '''Liepos 19 d. UNESCO pasaulio paveldu tapusiame Kauno modernizmo architektūros objekte – Lietuvos banko Kauno rūmuose į muzikos meditaciją pakvies vokalinis ansamblis „Duodeco“. Pirmą kartą Pažaislio muzikos festivalis rengia koncertą šioje nepaprastoje erdvėje, kurioje 2019 m. suburtas kolektyvas festivalio publikai pristatys muzikinę programą „More Sweet Than My Refrain“.'''\n",
    "# # SUkurkite sąrašą, kuriame būtų šio teksto žodžių ilgiai.\n",
    "\n",
    "originalus_tekstas = '''Liepos 19 d. UNESCO pasaulio paveldu tapusiame Kauno modernizmo architektūros objekte – Lietuvos banko Kauno rūmuose į muzikos meditaciją pakvies vokalinis ansamblis „Duodeco“. Pirmą kartą Pažaislio muzikos festivalis rengia koncertą šioje nepaprastoje erdvėje, kurioje 2019 m. suburtas kolektyvas festivalio publikai pristatys muzikinę programą „More Sweet Than My Refrain“.'''\n",
    "\n",
    "t2 = originalus_tekstas.split()\n",
    "print(t2)\n",
    "\n",
    "saraso_ilgis = len(t2)\n",
    "\n",
    "print(saraso_ilgis)\n",
    "\n",
    "naujas_sarasas = []\n",
    "\n",
    "for i in t2:\n",
    "    simboliai = len(i)\n",
    "    naujas_sarasas.append(simboliai) \n",
    "\n",
    "print(naujas_sarasas)\n",
    "\n",
    "\n",
    "\n"
   ]
  },
  {
   "cell_type": "code",
   "execution_count": 87,
   "metadata": {},
   "outputs": [
    {
     "name": "stdout",
     "output_type": "stream",
     "text": [
      "[23, 15, 19, 12, 4, 16, 17, 5, 2, 20, 3, 17, 22, 18, 11, 14, 21, 21, 11, 22, 16, 13, 4, 10, 21, 21, 11, 10, 21, 14, 19, 3, 7, 2, 22, 1, 17, 14, 23, 17, 15, 15, 19, 21, 10, 19, 4, 11, 22, 21, 4, 7, 5, 21, 12, 10, 15, 2, 21, 7, 19, 21, 15, 15, 5, 20, 14, 9, 5, 11, 4, 5]\n",
      "[23, 15, 19, 12, 4, 16, 17, 'Rytas', 2, 'Rytas', 3, 17, 22, 18, 11, 14, 21, 21, 11, 22, 16, 13, 4, 10, 21, 21, 11, 10, 21, 14, 19, 3, 7, 2, 22, 1, 17, 14, 23, 17, 15, 15, 19, 21, 10, 19, 4, 11, 22, 21, 4, 7, 5, 21, 12, 10, 15, 2, 21, 7, 19, 21, 15, 15, 5, 20, 14, 9, 5, 11, 4, 5]\n",
      "[4, 6, 55]\n"
     ]
    }
   ],
   "source": [
    "# 7)\n",
    "# fx = [23, 15, 19, 12, 4, 16, 17, 5, 2, 20, 3, 17, 22, 18, 11, 14, 21, 21, 11, 22, 16, 13, 4, 10, 21, 21, 11, 10, 21, 14, 19, 3, 7, 2, 22, 1, 17, 14, 23, 17, 15, 15, 19, 21, 10, 19, 4, 11, 22, 21, 4, 7, 5, 21, 12, 10, 15, 2, 21, 7, 19, 21, 15, 15, 5, 20, 14, 9, 5, 11, 4, 5]\n",
    "# Parašykite kodą, kuris sugeneruotų sąrašą, su žodžiais 'Rytas', jei skaičius fx sąraše yra tarp 6 ir 10, diena, jei tarp 10 ir 18, vakaras jei tarp 18 ir 22, ir naktis kitais atvejais.\n",
    "\n",
    "fx = [23, 15, 19, 12, 4, 16, 17, 5, 2, 20, 3, 17, 22, 18, 11, 14, 21, 21, 11, 22, 16, 13, 4, 10, 21, 21, 11, 10, 21, 14, 19, 3, 7, 2, 22, 1, 17, 14, 23, 17, 15, 15, 19, 21, 10, 19, 4, 11, 22, 21, 4, 7, 5, 21, 12, 10, 15, 2, 21, 7, 19, 21, 15, 15, 5, 20, 14, 9, 5, 11, 4, 5]\n",
    "\n",
    "print(fx)\n",
    "\n",
    "for i in fx: \n",
    "    if 6 < i < 10:\n",
    "        fx[i] = 'Rytas'\n",
    "        \n",
    "print (fx)\n",
    "        \n",
    "\n"
   ]
  },
  {
   "cell_type": "code",
   "execution_count": null,
   "metadata": {},
   "outputs": [],
   "source": [
    "# 8)\n",
    "# duomenys: [('BMW', '253 000 km', '19 500', '4999 cm³, 507 AG (373kW)', 'Benzinas'), ('Mitsubishi', '195 405 km', '2 700', '2378 cm³, 160 AG (118kW)', 'Benzinas'), ('Seat', '129 800 km', '13 490', '1598 cm³, 95 AG (70kW)', 'Dyzelinas'), ('Skoda', '183 000 km', '14 650', '1798 cm³, 179 AG (132kW)', 'Benzinas'), ('Volvo', '127 896 km', '38 000', '1969 cm³, 235 AG (173kW)', 'Dyzelinas')]\n",
    "# parašyti funkciją, kuri juos spausdintų tokiu vaizdu:"
   ]
  },
  {
   "cell_type": "code",
   "execution_count": null,
   "metadata": {},
   "outputs": [],
   "source": [
    "# 9)\n",
    "# parašykite funkcjas suma(), skirtumas(), sandauga(), dalyba(), kurioms jūs galėtumėte nurodyti skaičių sąrašą x, ir vieną sakičių d, ir tos funkcijos grąžintų naują sąrašą, su skaičiais iš x sąrašo su atitinkmai atliktu veiksmu - pridėtu d, atimtu d, padaugintu iš d.\n",
    "# def suma(x, d):\n",
    "#     veiksmai, kad gautumėte naują sąrašą kur x+d\n",
    "#     return naujas sąrašas\n",
    "\n",
    "\n"
   ]
  },
  {
   "cell_type": "code",
   "execution_count": 93,
   "metadata": {},
   "outputs": [
    {
     "name": "stdout",
     "output_type": "stream",
     "text": [
      "['1,2\\n', '3,4\\n', '5,6\\n', '7,8\\n', '\\n']\n"
     ]
    }
   ],
   "source": [
    "#darbas su failais\n",
    "\n",
    "failo_vardas = 'f1.txt'\n",
    "\n",
    "failas = open(failo_vardas, mode='r', encoding = 'utf-8')\n",
    "\n",
    "turinys = failas.readlines()\n",
    "\n",
    "failas.close()\n",
    "\n",
    "print(turinys)"
   ]
  },
  {
   "cell_type": "code",
   "execution_count": 115,
   "metadata": {},
   "outputs": [
    {
     "name": "stdout",
     "output_type": "stream",
     "text": [
      "['1.25,2.28\\n', '3.33,4.421\\n', '5,6.67\\n', '7,8.01']\n",
      "['1.25', '3.33', '5', '7']\n",
      "4.145\n"
     ]
    }
   ],
   "source": [
    "failo_vardas = 'f2.txt'\n",
    "\n",
    "failas = open(failo_vardas, mode='r', encoding='utf-8')\n",
    "\n",
    "xsar = []\n",
    "ysar=[]\n",
    "turinys = failas.readlines()\n",
    "\n",
    "for eil in turinys:\n",
    "    x, y = eil.strip().split(',')\n",
    "    xsar.append(float(x))\n",
    "    ysar.append(float(y))\n",
    "    \n",
    "xvid = sum(xsar) / len(xsar)\n",
    "\n",
    "\n",
    "failas.close()\n",
    "\n",
    "print(turinys)\n",
    "print(sarasas)\n",
    "print(xvid)"
   ]
  },
  {
   "cell_type": "code",
   "execution_count": 8,
   "metadata": {},
   "outputs": [
    {
     "name": "stdout",
     "output_type": "stream",
     "text": [
      "[8, 5, 4]\n"
     ]
    }
   ],
   "source": [
    "# parašykite funkciją, kuriai galėtumėte nurodyti tris skaičius - elemnetų kiekį (ilgį), ribas nuo, iki, ir ta funkcija grąžintų sąrašą, nurodyto ilgio, atsitiktiniais skaičiais užpildytą.\n",
    "# parašyti funkciją, kuri grąžintų nurodyto ilgio sąrašą, užpildytą skaičiais tarp 0 ir 1\n",
    "\n",
    "import random \n",
    "\n",
    "def sarasas(elementai, nuo, iki):\n",
    "    return [random.randint(nuo, iki) for i in range(elementai)]\n",
    "\n",
    "rezultatas = sarasas(3, 1, 10)\n",
    "\n",
    "print(rezultatas)\n",
    "\n",
    "\n"
   ]
  },
  {
   "cell_type": "code",
   "execution_count": 9,
   "metadata": {},
   "outputs": [
    {
     "ename": "TypeError",
     "evalue": "sarasas() takes 1 positional argument but 3 were given",
     "output_type": "error",
     "traceback": [
      "\u001b[1;31m---------------------------------------------------------------------------\u001b[0m",
      "\u001b[1;31mTypeError\u001b[0m                                 Traceback (most recent call last)",
      "Cell \u001b[1;32mIn[9], line 8\u001b[0m\n\u001b[0;32m      5\u001b[0m \u001b[38;5;28;01mdef\u001b[39;00m \u001b[38;5;21msarasas\u001b[39m(elementai):\n\u001b[0;32m      6\u001b[0m     \u001b[38;5;28;01mreturn\u001b[39;00m [random\u001b[38;5;241m.\u001b[39mrandom() \u001b[38;5;28;01mfor\u001b[39;00m i \u001b[38;5;129;01min\u001b[39;00m \u001b[38;5;28mrange\u001b[39m(elementai) ]\n\u001b[1;32m----> 8\u001b[0m rezultatas \u001b[38;5;241m=\u001b[39m \u001b[43msarasas\u001b[49m\u001b[43m(\u001b[49m\u001b[38;5;241;43m4\u001b[39;49m\u001b[43m,\u001b[49m\u001b[38;5;241;43m8\u001b[39;49m\u001b[43m,\u001b[49m\u001b[38;5;241;43m9\u001b[39;49m\u001b[43m)\u001b[49m\n\u001b[0;32m     10\u001b[0m \u001b[38;5;28mprint\u001b[39m(rezultatas)\n",
      "\u001b[1;31mTypeError\u001b[0m: sarasas() takes 1 positional argument but 3 were given"
     ]
    }
   ],
   "source": [
    "# parašyti funkciją, kuri grąžintų nurodyto ilgio sąrašą, užpildytą skaičiais tarp 0 ir 1\n",
    "\n",
    "import random \n",
    "\n",
    "def sarasas(elementai):\n",
    "    return [random.random() for i in range(elementai) ]\n",
    "\n",
    "rezultatas = sarasas(4,8,9)\n",
    "\n",
    "print(rezultatas)"
   ]
  },
  {
   "cell_type": "code",
   "execution_count": null,
   "metadata": {},
   "outputs": [],
   "source": [
    "# parašyti su amžinu while ciklu skaičių spėliojimo žaidimą. Sugeneruojamas skaičius tarp 1 ir 10, vartotojas įveda spėjimą. Programa pasako, ar įvestas skaičius yra mažesnis, ar didesnis už sugeneruotą skaičių. Programa nutrūksta, kai atspėjamas skaičius. Papildykite kodu, kuris parašytų, iš kelinto karto buvo atspėtas skaičius.\n",
    "\n"
   ]
  },
  {
   "cell_type": "code",
   "execution_count": null,
   "metadata": {},
   "outputs": [],
   "source": [
    "# 5. Parašyti funkciją, kurioje sugeneruojamos dvi skaičių sekos\n",
    "# (jos gali būti skirtingo dydžio), programa turi grąžinti sąrašą\n",
    "# skaičių, kurie sutampa tarp dviejų sugeneruotu sąrašų,\n",
    "# galutiniame sąraše neturi būti skaičių dublikatų. PVZ: x =[1, 1,\n",
    "# 2, 3, 1] y = [1, 3, 5, 6] atsakymas = [1,3]"
   ]
  }
 ],
 "metadata": {
  "kernelspec": {
   "display_name": "Python 3",
   "language": "python",
   "name": "python3"
  },
  "language_info": {
   "codemirror_mode": {
    "name": "ipython",
    "version": 3
   },
   "file_extension": ".py",
   "mimetype": "text/x-python",
   "name": "python",
   "nbconvert_exporter": "python",
   "pygments_lexer": "ipython3",
   "version": "3.12.4"
  }
 },
 "nbformat": 4,
 "nbformat_minor": 2
}
