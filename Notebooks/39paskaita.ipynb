{
 "cells": [
  {
   "cell_type": "code",
   "execution_count": 2,
   "metadata": {},
   "outputs": [],
   "source": [
    "import numpy as np\n",
    "import pandas as pd\n",
    "import matplotlib.pyplot as plt\n",
    "import warnings\n",
    "warnings.filterwarnings('ignore')\n",
    "import seaborn as sns\n",
    "# import sqlite3\n",
    "# import mysql.connector as cnt\n",
    "# import plotly.express as px\n",
    "import requests"
   ]
  },
  {
   "cell_type": "code",
   "execution_count": 8,
   "metadata": {},
   "outputs": [
    {
     "name": "stdout",
     "output_type": "stream",
     "text": [
      "0: Akmenės AMS\n",
      "1: Alytaus AMS\n",
      "2: Anykščių AMS\n",
      "3: Birštono AMS\n",
      "4: Biržų AMS\n",
      "5: Dotnuvos AMS\n",
      "6: Druskininkų AMS\n",
      "7: Dūkšto AMS\n",
      "8: Elektrėnų AMS\n",
      "9: Jonavos AMS\n",
      "10: Joniškio AMS\n",
      "11: Jurbarko AMS\n",
      "12: Kaišiadorių AMS\n",
      "13: Kalvarijos AMS\n",
      "14: Kauno AMS\n",
      "15: Kazlų Rūdos AMS\n",
      "16: Kelmės AMS\n",
      "17: Klaipėdos AMS\n",
      "18: Kretingos AMS\n",
      "19: Kupiškio AMS\n",
      "20: Kybartų AMS\n",
      "21: Laukuvos AMS\n",
      "22: Lazdijų AMS\n",
      "23: Marijampolės AMS\n",
      "24: Mažeikių AMS\n",
      "25: Molėtų AMS\n",
      "26: Nidos AMS\n",
      "27: Pagėgių AMS\n",
      "28: Pakruojo AMS\n",
      "29: Panevėžio AMS\n",
      "30: Plungės AMS\n",
      "31: Prienų AMS\n",
      "32: Raseinių AMS\n",
      "33: Rietavo AMS\n",
      "34: Rokiškio AMS\n",
      "35: Šakių AMS\n",
      "36: Šalčininkų AMS\n",
      "37: Šeduvos AMS\n",
      "38: Šiaulių AMS\n",
      "39: Šilutės AMS\n",
      "40: Skuodo AMS\n",
      "41: Švenčionių AMS\n",
      "42: Tauragės AMS\n",
      "43: Telšių AMS\n",
      "44: Trakų AMS\n",
      "45: Ukmergės AMS\n",
      "46: Utenos AMS\n",
      "47: Varėnos AMS\n",
      "48: Ventės AMS\n",
      "49: Vėžaičių AMS\n",
      "50: Vilniaus AMS\n",
      "51: Zarasų AMS\n"
     ]
    }
   ],
   "source": [
    "url = 'https://api.meteo.lt/v1/stations'\n",
    "pg = requests.get(url)\n",
    "r = pg.json()\n",
    "stotys = {}\n",
    "for i in r:\n",
    "    stotys[i['name']] = i['code']\n",
    "# print(stotys)\n",
    "n = list(stotys.keys())\n",
    "for i, k in enumerate(n):\n",
    "    print(f'{i}: {k}')\n",
    "\n"
   ]
  },
  {
   "cell_type": "code",
   "execution_count": 11,
   "metadata": {},
   "outputs": [
    {
     "name": "stdout",
     "output_type": "stream",
     "text": [
      "Jūs pasirinkote šias stotis:\n",
      "['Alytaus AMS', 'Anykščių AMS', 'Birštono AMS']\n"
     ]
    }
   ],
   "source": [
    "stations = input('Įveskite stoties numerį(-ius) (iki trijų numerių, atskirtų kableliais)')\n",
    "st_idx = list(map(int, stations.split(',')))\n",
    "print('Jūs pasirinkote šias stotis:')\n",
    "sel_sts = [n[i] for i in st_idx]\n",
    "print(sel_sts)"
   ]
  },
  {
   "cell_type": "code",
   "execution_count": 12,
   "metadata": {},
   "outputs": [
    {
     "name": "stdout",
     "output_type": "stream",
     "text": [
      "['alytaus-ams', 'anyksciu-ams', 'birstono-ams']\n"
     ]
    }
   ],
   "source": [
    "codes = [stotys[key] for key in sel_sts]\n",
    "print(codes)"
   ]
  },
  {
   "cell_type": "code",
   "execution_count": 3,
   "metadata": {},
   "outputs": [
    {
     "name": "stdout",
     "output_type": "stream",
     "text": [
      "2023-10-09\n",
      "2023-10-10\n",
      "2023-10-11\n",
      "2023-10-12\n",
      "2023-10-13\n",
      "2023-10-14\n",
      "2023-10-15\n",
      "2023-10-16\n",
      "2023-10-17\n",
      "2023-10-18\n",
      "2023-10-19\n",
      "2023-10-20\n",
      "2023-10-21\n",
      "2023-10-22\n",
      "2023-10-23\n",
      "2023-10-24\n",
      "2023-10-25\n",
      "2023-10-26\n",
      "2023-10-27\n",
      "2023-10-28\n",
      "2023-10-29\n",
      "2023-10-30\n",
      "2023-10-31\n",
      "2023-11-01\n",
      "2023-11-02\n",
      "2023-11-03\n",
      "2023-11-04\n",
      "2023-11-05\n",
      "2023-11-06\n",
      "2023-11-07\n",
      "2023-11-08\n",
      "2023-11-09\n"
     ]
    }
   ],
   "source": [
    "from datetime import date, timedelta\n",
    "from dateutil import parser\n",
    "nuo = input('Įveskite datą YYYY-MM-DD formatu')\n",
    "iki = input('Įveskite datą YYYY-MM-DD formatu')\n",
    "\n",
    "start_date = parser.parse(nuo)\n",
    "end_date = parser.parse(iki)\n",
    "delta = timedelta(days=1)\n",
    "while start_date <= end_date:\n",
    "    print(start_date.strftime(\"%Y-%m-%d\"))\n",
    "    start_date = start_date + delta"
   ]
  },
  {
   "cell_type": "code",
   "execution_count": null,
   "metadata": {},
   "outputs": [],
   "source": []
  }
 ],
 "metadata": {
  "kernelspec": {
   "display_name": "Python 3",
   "language": "python",
   "name": "python3"
  },
  "language_info": {
   "codemirror_mode": {
    "name": "ipython",
    "version": 3
   },
   "file_extension": ".py",
   "mimetype": "text/x-python",
   "name": "python",
   "nbconvert_exporter": "python",
   "pygments_lexer": "ipython3",
   "version": "3.12.3"
  }
 },
 "nbformat": 4,
 "nbformat_minor": 2
}
