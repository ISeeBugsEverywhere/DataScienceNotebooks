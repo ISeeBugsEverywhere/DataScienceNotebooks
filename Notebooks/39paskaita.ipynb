{
 "cells": [
  {
   "cell_type": "code",
   "execution_count": 2,
   "metadata": {},
   "outputs": [],
   "source": [
    "import numpy as np\n",
    "import pandas as pd\n",
    "import matplotlib.pyplot as plt\n",
    "import warnings\n",
    "warnings.filterwarnings('ignore')\n",
    "import seaborn as sns\n",
    "# import sqlite3\n",
    "# import mysql.connector as cnt\n",
    "# import plotly.express as px\n",
    "import requests"
   ]
  },
  {
   "cell_type": "code",
   "execution_count": 8,
   "metadata": {},
   "outputs": [
    {
     "name": "stdout",
     "output_type": "stream",
     "text": [
      "0: Akmenės AMS\n",
      "1: Alytaus AMS\n",
      "2: Anykščių AMS\n",
      "3: Birštono AMS\n",
      "4: Biržų AMS\n",
      "5: Dotnuvos AMS\n",
      "6: Druskininkų AMS\n",
      "7: Dūkšto AMS\n",
      "8: Elektrėnų AMS\n",
      "9: Jonavos AMS\n",
      "10: Joniškio AMS\n",
      "11: Jurbarko AMS\n",
      "12: Kaišiadorių AMS\n",
      "13: Kalvarijos AMS\n",
      "14: Kauno AMS\n",
      "15: Kazlų Rūdos AMS\n",
      "16: Kelmės AMS\n",
      "17: Klaipėdos AMS\n",
      "18: Kretingos AMS\n",
      "19: Kupiškio AMS\n",
      "20: Kybartų AMS\n",
      "21: Laukuvos AMS\n",
      "22: Lazdijų AMS\n",
      "23: Marijampolės AMS\n",
      "24: Mažeikių AMS\n",
      "25: Molėtų AMS\n",
      "26: Nidos AMS\n",
      "27: Pagėgių AMS\n",
      "28: Pakruojo AMS\n",
      "29: Panevėžio AMS\n",
      "30: Plungės AMS\n",
      "31: Prienų AMS\n",
      "32: Raseinių AMS\n",
      "33: Rietavo AMS\n",
      "34: Rokiškio AMS\n",
      "35: Šakių AMS\n",
      "36: Šalčininkų AMS\n",
      "37: Šeduvos AMS\n",
      "38: Šiaulių AMS\n",
      "39: Šilutės AMS\n",
      "40: Skuodo AMS\n",
      "41: Švenčionių AMS\n",
      "42: Tauragės AMS\n",
      "43: Telšių AMS\n",
      "44: Trakų AMS\n",
      "45: Ukmergės AMS\n",
      "46: Utenos AMS\n",
      "47: Varėnos AMS\n",
      "48: Ventės AMS\n",
      "49: Vėžaičių AMS\n",
      "50: Vilniaus AMS\n",
      "51: Zarasų AMS\n"
     ]
    }
   ],
   "source": [
    "url = 'https://api.meteo.lt/v1/stations'\n",
    "pg = requests.get(url)\n",
    "r = pg.json()\n",
    "stotys = {}\n",
    "for i in r:\n",
    "    stotys[i['name']] = i['code']\n",
    "# print(stotys)\n",
    "n = list(stotys.keys())\n",
    "for i, k in enumerate(n):\n",
    "    print(f'{i}: {k}')\n",
    "\n"
   ]
  },
  {
   "cell_type": "code",
   "execution_count": 11,
   "metadata": {},
   "outputs": [
    {
     "name": "stdout",
     "output_type": "stream",
     "text": [
      "Jūs pasirinkote šias stotis:\n",
      "['Alytaus AMS', 'Anykščių AMS', 'Birštono AMS']\n"
     ]
    }
   ],
   "source": [
    "stations = input('Įveskite stoties numerį(-ius) (iki trijų numerių, atskirtų kableliais)')\n",
    "st_idx = list(map(int, stations.split(',')))\n",
    "print('Jūs pasirinkote šias stotis:')\n",
    "sel_sts = [n[i] for i in st_idx]\n",
    "print(sel_sts)"
   ]
  }
 ],
 "metadata": {
  "kernelspec": {
   "display_name": "Python 3",
   "language": "python",
   "name": "python3"
  },
  "language_info": {
   "codemirror_mode": {
    "name": "ipython",
    "version": 3
   },
   "file_extension": ".py",
   "mimetype": "text/x-python",
   "name": "python",
   "nbconvert_exporter": "python",
   "pygments_lexer": "ipython3",
   "version": "3.10.12"
  }
 },
 "nbformat": 4,
 "nbformat_minor": 2
}
