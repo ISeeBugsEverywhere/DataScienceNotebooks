{
 "cells": [
  {
   "cell_type": "code",
   "execution_count": 1,
   "metadata": {},
   "outputs": [],
   "source": [
    "import doctest"
   ]
  },
  {
   "cell_type": "code",
   "execution_count": 21,
   "metadata": {},
   "outputs": [],
   "source": [
    "def add(x:int|float,y:int|float):\n",
    "    \"\"\"Adds two digits and return a result\n",
    "\n",
    "    Args:\n",
    "        x (int|float): int or float\n",
    "        y (int|float): int or float\n",
    "\n",
    "    Returns:\n",
    "        int|float: result\n",
    "    doctests:\n",
    "    \n",
    "    >>> add(6,5)\n",
    "    11\n",
    "    >>> add(7,3)\n",
    "    10\n",
    "    >>> add('a'+7)\n",
    "    Traceback (most recent call last):\n",
    "    TypeError: can only concatenate str (not \"int\") to str\n",
    "    \"\"\"\n",
    "    return x + y"
   ]
  },
  {
   "cell_type": "code",
   "execution_count": 22,
   "metadata": {},
   "outputs": [
    {
     "name": "stdout",
     "output_type": "stream",
     "text": [
      "Finding tests in NoName\n",
      "Trying:\n",
      "    add(6,5)\n",
      "Expecting:\n",
      "    11\n",
      "ok\n",
      "Trying:\n",
      "    add(7,3)\n",
      "Expecting:\n",
      "    10\n",
      "ok\n",
      "Trying:\n",
      "    add('a'+7)\n",
      "Expecting:\n",
      "    Traceback (most recent call last):\n",
      "    TypeError: can only concatenate str (not \"int\") to str\n",
      "ok\n"
     ]
    }
   ],
   "source": [
    "doctest.run_docstring_examples(add, globs=globals(), verbose=True)"
   ]
  }
 ],
 "metadata": {
  "kernelspec": {
   "display_name": "Python 3",
   "language": "python",
   "name": "python3"
  },
  "language_info": {
   "codemirror_mode": {
    "name": "ipython",
    "version": 3
   },
   "file_extension": ".py",
   "mimetype": "text/x-python",
   "name": "python",
   "nbconvert_exporter": "python",
   "pygments_lexer": "ipython3",
   "version": "3.12.3"
  }
 },
 "nbformat": 4,
 "nbformat_minor": 2
}
