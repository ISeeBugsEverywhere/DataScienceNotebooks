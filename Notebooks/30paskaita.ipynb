{
 "cells": [
  {
   "cell_type": "code",
   "execution_count": 1,
   "metadata": {},
   "outputs": [],
   "source": [
    "import numpy as np\n",
    "import pandas as pd\n",
    "import matplotlib.pyplot as plt\n",
    "import warnings\n",
    "warnings.filterwarnings('ignore')\n",
    "import seaborn as sns\n",
    "import sqlite3\n",
    "import mysql.connector as cnt\n",
    "import plotly.express as px"
   ]
  },
  {
   "cell_type": "code",
   "execution_count": 10,
   "metadata": {},
   "outputs": [
    {
     "data": {
      "image/png": "[encoded data removed]",
      "text/plain": [
       "<Figure size 500x500 with 1 Axes>"
      ]
     },
     "metadata": {},
     "output_type": "display_data"
    }
   ],
   "source": [
    "times = np.random.randint(0,24,1000)\n",
    "# intervalai : 0-6 - naktis, 7-10 - rytas, \n",
    "# 11-12 - priešpietė, 13-14-pietūs, 15-18-pavakarė, 19-22 - vakaras, \n",
    "# 23 - 0 - naktis. \n",
    "#  Parašykite funkciją, kuri iš times sąrašo verčių sugeneruotų \n",
    "# tekstų (rytas, vakaras, popietė ... ) sąrašą. Pritaikykite map(). \n",
    "# Suskaičiuokite, kiek kartų pasikartojo atitinkami tekstai, atvaizduokite tai su bar arba barh.\n",
    "def f(x):\n",
    "    if 0<=x<=6 or x>=23:\n",
    "        return 'naktis'\n",
    "    elif 7<=x<=10:\n",
    "        return 'rytas'\n",
    "    elif 11<=x<=12:\n",
    "        return 'priešpietė'\n",
    "    elif 13<=x<=14:\n",
    "        return 'pietūs'\n",
    "    elif 15<=x<=18:\n",
    "        return 'pavakarė'\n",
    "    elif 19<=x<=22:\n",
    "        return 'vakaras'\n",
    "\n",
    "ptimes = list(map(f, times))\n",
    "uniq = list(set(ptimes))\n",
    "vals = dict.fromkeys(uniq, 0)\n",
    "for i in uniq:\n",
    "    c = ptimes.count(i)\n",
    "    vals[i] = c\n",
    "\n",
    "fig, axis = plt.subplots(figsize=(5,5))\n",
    "#plotting code:\n",
    "p = axis.bar(list(vals.keys()), list(vals.values()))\n",
    "axis.bar_label(p)\n",
    "#axis.legend(loc='best')\n",
    "#axis.ticklabel_format(style='plain')\n",
    "fig.tight_layout()\n",
    "plt.show()"
   ]
  },
  {
   "cell_type": "code",
   "execution_count": 12,
   "metadata": {},
   "outputs": [
    {
     "name": "stdout",
     "output_type": "stream",
     "text": [
      "['BMW', 'MIT', 'SEA', 'SKO', 'VOL', 'AUD', 'DAC', 'SKO', 'BMW', 'VOL', 'BMW', 'MER', 'FOR', 'BMW', 'BMW', 'MAZ', 'HYU', 'AUD', 'VOL', 'BMW', 'VOL', 'AUD', 'VOL', 'MER', 'VOL']\n"
     ]
    }
   ],
   "source": [
    "# Su map() sugeneruokite naują sąrašą, kur būtų pirmi 3 simboliai didžiosiomis iš duotojo sąrašo:\n",
    "a = ['BMW', 'Mitsubishi', 'Seat', 'Skoda', 'Volvo', 'Audi', 'Dacia', 'Skoda', 'BMW', 'Volkswagen', 'BMW', 'Mercedes-Benz', 'Ford', 'BMW', 'BMW', 'Mazda', 'Hyundai', 'Audi', 'Volvo', 'BMW', 'Volkswagen', 'Audi', 'Volkswagen', 'Mercedes-Benz', 'Volkswagen']\n",
    "a3 =  list(map(lambda s: s[:3].upper(), a))\n",
    "print(a3)"
   ]
  },
  {
   "cell_type": "code",
   "execution_count": null,
   "metadata": {},
   "outputs": [],
   "source": []
  }
 ],
 "metadata": {
  "kernelspec": {
   "display_name": "Python 3",
   "language": "python",
   "name": "python3"
  },
  "language_info": {
   "codemirror_mode": {
    "name": "ipython",
    "version": 3
   },
   "file_extension": ".py",
   "mimetype": "text/x-python",
   "name": "python",
   "nbconvert_exporter": "python",
   "pygments_lexer": "ipython3",
   "version": "3.10.12"
  }
 },
 "nbformat": 4,
 "nbformat_minor": 2
}
