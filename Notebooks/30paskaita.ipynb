{
 "cells": [
  {
   "cell_type": "code",
   "execution_count": 1,
   "metadata": {},
   "outputs": [],
   "source": [
    "import numpy as np\n",
    "import pandas as pd\n",
    "import matplotlib.pyplot as plt\n",
    "import warnings\n",
    "warnings.filterwarnings('ignore')\n",
    "import seaborn as sns\n",
    "import sqlite3\n",
    "import mysql.connector as cnt\n",
    "import plotly.express as px"
   ]
  },
  {
   "cell_type": "code",
   "execution_count": 13,
   "metadata": {},
   "outputs": [
    {
     "data": {
      "image/png": "[encoded data removed]",
      "text/plain": [
       "<Figure size 500x500 with 1 Axes>"
      ]
     },
     "metadata": {},
     "output_type": "display_data"
    }
   ],
   "source": [
    "times = np.random.randint(0,24,1000)\n",
    "# intervalai : 0-6 - naktis, 7-10 - rytas, \n",
    "# 11-12 - priešpietė, 13-14-pietūs, 15-18-pavakarė, 19-22 - vakaras, \n",
    "# 23 - 0 - naktis. \n",
    "#  Parašykite funkciją, kuri iš times sąrašo verčių sugeneruotų \n",
    "# tekstų (rytas, vakaras, popietė ... ) sąrašą. Pritaikykite map(). \n",
    "# Suskaičiuokite, kiek kartų pasikartojo atitinkami tekstai, atvaizduokite tai su bar arba barh.\n",
    "def f(x):\n",
    "    if 0<=x<=6 or x>=23:\n",
    "        return 'naktis'\n",
    "    elif 7<=x<=10:\n",
    "        return 'rytas'\n",
    "    elif 11<=x<=12:\n",
    "        return 'priešpietė'\n",
    "    elif 13<=x<=14:\n",
    "        return 'pietūs'\n",
    "    elif 15<=x<=18:\n",
    "        return 'pavakarė'\n",
    "    elif 19<=x<=22:\n",
    "        return 'vakaras'\n",
    "\n",
    "ptimes = list(map(f, times))\n",
    "uniq = list(set(ptimes))\n",
    "vals = dict.fromkeys(uniq, 0)\n",
    "for i in uniq:\n",
    "    c = ptimes.count(i)\n",
    "    vals[i] = c\n",
    "\n",
    "fig, axis = plt.subplots(figsize=(5,5))\n",
    "#plotting code:\n",
    "p = axis.bar(list(vals.keys()), list(vals.values()))\n",
    "axis.bar_label(p)\n",
    "#axis.legend(loc='best')\n",
    "#axis.ticklabel_format(style='plain')\n",
    "fig.tight_layout()\n",
    "plt.show()"
   ]
  },
  {
   "cell_type": "code",
   "execution_count": 12,
   "metadata": {},
   "outputs": [
    {
     "name": "stdout",
     "output_type": "stream",
     "text": [
      "['BMW', 'MIT', 'SEA', 'SKO', 'VOL', 'AUD', 'DAC', 'SKO', 'BMW', 'VOL', 'BMW', 'MER', 'FOR', 'BMW', 'BMW', 'MAZ', 'HYU', 'AUD', 'VOL', 'BMW', 'VOL', 'AUD', 'VOL', 'MER', 'VOL']\n"
     ]
    }
   ],
   "source": [
    "# Su map() sugeneruokite naują sąrašą, kur būtų pirmi 3 simboliai didžiosiomis iš duotojo sąrašo:\n",
    "a = ['BMW', 'Mitsubishi', 'Seat', 'Skoda', 'Volvo', 'Audi', 'Dacia', 'Skoda', 'BMW', 'Volkswagen', 'BMW', 'Mercedes-Benz', 'Ford', 'BMW', 'BMW', 'Mazda', 'Hyundai', 'Audi', 'Volvo', 'BMW', 'Volkswagen', 'Audi', 'Volkswagen', 'Mercedes-Benz', 'Volkswagen']\n",
    "a3 =  list(map(lambda s: s[:3].upper(), a))\n",
    "print(a3)"
   ]
  },
  {
   "cell_type": "code",
   "execution_count": null,
   "metadata": {},
   "outputs": [],
   "source": [
    "# :simp  - pagrindinių bibliotekų importavimas\n",
    "# :imp - daugelio bibliotekų importavimas\n",
    "# :cnt - prisijungimas prie DB\n",
    "# :sql - SQL nuskaitymas iš DB\n",
    "# :fig, :sfig - vieno grafiko kodas\n",
    "# :fig4h, :sfig4h - 4rių ašių kodas\n",
    "# :sfigh2, :figh2 - dviejų ašių horizontaliai braižymas\n",
    "# :warnings - išjungia įspėjimus UserWarning\n",
    "# :streamlit - streamlit projekto pradžia\n",
    "# :theme - nustato grafikų temą (stilių)\n",
    "# :bar - vienas bar'as su x ašyje esančiais label'iais\n",
    "# :bar2 - du bar'ai su x ašyje esančiais label'iais\n",
    "# :bar3 - stulpelinio (bar) grafiko braižymas, kai yra 3 skirtingi barai, x ašyje norima turėti labelius\n",
    "#: pdsql - sql užklausa per pandas sql_query"
   ]
  },
  {
   "cell_type": "code",
   "execution_count": 24,
   "metadata": {},
   "outputs": [
    {
     "data": {
      "text/html": [
       "<div>\n",
       "<style scoped>\n",
       "    .dataframe tbody tr th:only-of-type {\n",
       "        vertical-align: middle;\n",
       "    }\n",
       "\n",
       "    .dataframe tbody tr th {\n",
       "        vertical-align: top;\n",
       "    }\n",
       "\n",
       "    .dataframe thead th {\n",
       "        text-align: right;\n",
       "    }\n",
       "</style>\n",
       "<table border=\"1\" class=\"dataframe\">\n",
       "  <thead>\n",
       "    <tr style=\"text-align: right;\">\n",
       "      <th></th>\n",
       "      <th>DATA</th>\n",
       "      <th>BORO</th>\n",
       "      <th>STATISTICAL_MURDER_FLAG</th>\n",
       "    </tr>\n",
       "  </thead>\n",
       "  <tbody>\n",
       "    <tr>\n",
       "      <th>0</th>\n",
       "      <td>2021-03-30 23:45:00</td>\n",
       "      <td>QUEENS</td>\n",
       "      <td>False</td>\n",
       "    </tr>\n",
       "    <tr>\n",
       "      <th>1</th>\n",
       "      <td>2021-03-30 16:20:00</td>\n",
       "      <td>BROOKLYN</td>\n",
       "      <td>False</td>\n",
       "    </tr>\n",
       "  </tbody>\n",
       "</table>\n",
       "</div>"
      ],
      "text/plain": [
       "                 DATA      BORO  STATISTICAL_MURDER_FLAG\n",
       "0 2021-03-30 23:45:00    QUEENS                    False\n",
       "1 2021-03-30 16:20:00  BROOKLYN                    False"
      ]
     },
     "execution_count": 24,
     "metadata": {},
     "output_type": "execute_result"
    }
   ],
   "source": [
    "nypd = pd.read_csv('../DATA/NYPD.csv', parse_dates={'DATA':['OCCUR_DATE', 'OCCUR_TIME']})[['DATA','BORO','STATISTICAL_MURDER_FLAG']]\n",
    "nypd.head(2)"
   ]
  },
  {
   "cell_type": "code",
   "execution_count": 31,
   "metadata": {},
   "outputs": [
    {
     "data": {
      "text/html": [
       "<div>\n",
       "<style scoped>\n",
       "    .dataframe tbody tr th:only-of-type {\n",
       "        vertical-align: middle;\n",
       "    }\n",
       "\n",
       "    .dataframe tbody tr th {\n",
       "        vertical-align: top;\n",
       "    }\n",
       "\n",
       "    .dataframe thead th {\n",
       "        text-align: right;\n",
       "    }\n",
       "</style>\n",
       "<table border=\"1\" class=\"dataframe\">\n",
       "  <thead>\n",
       "    <tr style=\"text-align: right;\">\n",
       "      <th></th>\n",
       "      <th>lytis</th>\n",
       "      <th>issilavinimas</th>\n",
       "      <th>amzius</th>\n",
       "      <th>bdu_spalio</th>\n",
       "    </tr>\n",
       "  </thead>\n",
       "  <tbody>\n",
       "    <tr>\n",
       "      <th>0</th>\n",
       "      <td>M</td>\n",
       "      <td>G4</td>\n",
       "      <td>20-29</td>\n",
       "      <td>6.0</td>\n",
       "    </tr>\n",
       "    <tr>\n",
       "      <th>1</th>\n",
       "      <td>F</td>\n",
       "      <td>G2</td>\n",
       "      <td>20-29</td>\n",
       "      <td>6.0</td>\n",
       "    </tr>\n",
       "  </tbody>\n",
       "</table>\n",
       "</div>"
      ],
      "text/plain": [
       "  lytis issilavinimas amzius  bdu_spalio\n",
       "0     M            G4  20-29         6.0\n",
       "1     F            G2  20-29         6.0"
      ]
     },
     "execution_count": 31,
     "metadata": {},
     "output_type": "execute_result"
    }
   ],
   "source": [
    "d14 = pd.read_csv('../DATA/DUS2014.csv')[['lytis','issilavinimas','amzius','bdu_spalio']]\n",
    "d14.head(2)"
   ]
  },
  {
   "cell_type": "code",
   "execution_count": 32,
   "metadata": {},
   "outputs": [
    {
     "data": {
      "text/html": [
       "<div>\n",
       "<style scoped>\n",
       "    .dataframe tbody tr th:only-of-type {\n",
       "        vertical-align: middle;\n",
       "    }\n",
       "\n",
       "    .dataframe tbody tr th {\n",
       "        vertical-align: top;\n",
       "    }\n",
       "\n",
       "    .dataframe thead th {\n",
       "        text-align: right;\n",
       "    }\n",
       "</style>\n",
       "<table border=\"1\" class=\"dataframe\">\n",
       "  <thead>\n",
       "    <tr style=\"text-align: right;\">\n",
       "      <th></th>\n",
       "      <th>lytis</th>\n",
       "      <th>issilavinimas</th>\n",
       "      <th>amzius</th>\n",
       "      <th>bdu_spalio</th>\n",
       "      <th>€</th>\n",
       "    </tr>\n",
       "  </thead>\n",
       "  <tbody>\n",
       "    <tr>\n",
       "      <th>0</th>\n",
       "      <td>M</td>\n",
       "      <td>G4</td>\n",
       "      <td>20-29</td>\n",
       "      <td>6.00</td>\n",
       "      <td>1.737720</td>\n",
       "    </tr>\n",
       "    <tr>\n",
       "      <th>1</th>\n",
       "      <td>F</td>\n",
       "      <td>G2</td>\n",
       "      <td>20-29</td>\n",
       "      <td>6.00</td>\n",
       "      <td>1.737720</td>\n",
       "    </tr>\n",
       "    <tr>\n",
       "      <th>2</th>\n",
       "      <td>F</td>\n",
       "      <td>G4</td>\n",
       "      <td>40-49</td>\n",
       "      <td>6.00</td>\n",
       "      <td>1.737720</td>\n",
       "    </tr>\n",
       "    <tr>\n",
       "      <th>3</th>\n",
       "      <td>F</td>\n",
       "      <td>G4</td>\n",
       "      <td>30-39</td>\n",
       "      <td>6.00</td>\n",
       "      <td>1.737720</td>\n",
       "    </tr>\n",
       "    <tr>\n",
       "      <th>4</th>\n",
       "      <td>M</td>\n",
       "      <td>G2</td>\n",
       "      <td>40-49</td>\n",
       "      <td>11.33</td>\n",
       "      <td>3.281395</td>\n",
       "    </tr>\n",
       "  </tbody>\n",
       "</table>\n",
       "</div>"
      ],
      "text/plain": [
       "  lytis issilavinimas amzius  bdu_spalio         €\n",
       "0     M            G4  20-29        6.00  1.737720\n",
       "1     F            G2  20-29        6.00  1.737720\n",
       "2     F            G4  40-49        6.00  1.737720\n",
       "3     F            G4  30-39        6.00  1.737720\n",
       "4     M            G2  40-49       11.33  3.281395"
      ]
     },
     "execution_count": 32,
     "metadata": {},
     "output_type": "execute_result"
    }
   ],
   "source": [
    "#  .apply()\n",
    "\n",
    "def c(x):\n",
    "    return x/3.4528\n",
    "\n",
    "d14['€'] = d14['bdu_spalio'].apply(c)\n",
    "\n",
    "d14.head(5)"
   ]
  },
  {
   "cell_type": "code",
   "execution_count": 33,
   "metadata": {},
   "outputs": [
    {
     "data": {
      "text/html": [
       "<div>\n",
       "<style scoped>\n",
       "    .dataframe tbody tr th:only-of-type {\n",
       "        vertical-align: middle;\n",
       "    }\n",
       "\n",
       "    .dataframe tbody tr th {\n",
       "        vertical-align: top;\n",
       "    }\n",
       "\n",
       "    .dataframe thead th {\n",
       "        text-align: right;\n",
       "    }\n",
       "</style>\n",
       "<table border=\"1\" class=\"dataframe\">\n",
       "  <thead>\n",
       "    <tr style=\"text-align: right;\">\n",
       "      <th></th>\n",
       "      <th>lytis</th>\n",
       "      <th>issilavinimas</th>\n",
       "      <th>amzius</th>\n",
       "      <th>bdu_spalio</th>\n",
       "      <th>€</th>\n",
       "      <th>€copy</th>\n",
       "    </tr>\n",
       "  </thead>\n",
       "  <tbody>\n",
       "    <tr>\n",
       "      <th>0</th>\n",
       "      <td>M</td>\n",
       "      <td>G4</td>\n",
       "      <td>20-29</td>\n",
       "      <td>6.00</td>\n",
       "      <td>1.737720</td>\n",
       "      <td>1.737720</td>\n",
       "    </tr>\n",
       "    <tr>\n",
       "      <th>1</th>\n",
       "      <td>F</td>\n",
       "      <td>G2</td>\n",
       "      <td>20-29</td>\n",
       "      <td>6.00</td>\n",
       "      <td>1.737720</td>\n",
       "      <td>1.737720</td>\n",
       "    </tr>\n",
       "    <tr>\n",
       "      <th>2</th>\n",
       "      <td>F</td>\n",
       "      <td>G4</td>\n",
       "      <td>40-49</td>\n",
       "      <td>6.00</td>\n",
       "      <td>1.737720</td>\n",
       "      <td>1.737720</td>\n",
       "    </tr>\n",
       "    <tr>\n",
       "      <th>3</th>\n",
       "      <td>F</td>\n",
       "      <td>G4</td>\n",
       "      <td>30-39</td>\n",
       "      <td>6.00</td>\n",
       "      <td>1.737720</td>\n",
       "      <td>1.737720</td>\n",
       "    </tr>\n",
       "    <tr>\n",
       "      <th>4</th>\n",
       "      <td>M</td>\n",
       "      <td>G2</td>\n",
       "      <td>40-49</td>\n",
       "      <td>11.33</td>\n",
       "      <td>3.281395</td>\n",
       "      <td>3.281395</td>\n",
       "    </tr>\n",
       "  </tbody>\n",
       "</table>\n",
       "</div>"
      ],
      "text/plain": [
       "  lytis issilavinimas amzius  bdu_spalio         €     €copy\n",
       "0     M            G4  20-29        6.00  1.737720  1.737720\n",
       "1     F            G2  20-29        6.00  1.737720  1.737720\n",
       "2     F            G4  40-49        6.00  1.737720  1.737720\n",
       "3     F            G4  30-39        6.00  1.737720  1.737720\n",
       "4     M            G2  40-49       11.33  3.281395  3.281395"
      ]
     },
     "execution_count": 33,
     "metadata": {},
     "output_type": "execute_result"
    }
   ],
   "source": [
    "d14['€copy'] = d14['bdu_spalio'].apply(lambda x: x/3.4528)\n",
    "d14.head()"
   ]
  },
  {
   "cell_type": "code",
   "execution_count": 39,
   "metadata": {},
   "outputs": [
    {
     "data": {
      "image/png": "[encoded data removed]",
      "text/plain": [
       "<Figure size 800x450 with 1 Axes>"
      ]
     },
     "metadata": {},
     "output_type": "display_data"
    }
   ],
   "source": [
    "#  prisiminti .dt. modulį pandos:\n",
    "#  prie nypd pridėkite naują stulpelį V, kur būtų tik įvykio valanda\n",
    "# tada pritaikykite savo rašytą funkciją su .apply() ir sukurkite naują\n",
    "# stulpelį su tekstais rytas, vakaras, priešpietė\n",
    "# tada vizualizuokite, kuriuo paros metu kiek buvo susišaudymų (bar arba barh)\n",
    "\n",
    "nypd['V'] = nypd['DATA'].dt.hour\n",
    "nypd['Metas'] = nypd['V'].apply(f)\n",
    "metas = nypd['Metas'].value_counts()\n",
    "\n",
    "fig, axis = plt.subplots(figsize=(8,4.5))\n",
    "#plotting code:\n",
    "p = axis.bar(metas.index, metas.values)\n",
    "axis.bar_label(p)\n",
    "#axis.legend(loc='best')\n",
    "#axis.ticklabel_format(style='plain')\n",
    "fig.tight_layout()\n",
    "plt.show()"
   ]
  },
  {
   "cell_type": "code",
   "execution_count": 40,
   "metadata": {},
   "outputs": [],
   "source": [
    "#prisijungimas prie mySQL, ir kursoriaus sukūrimas\n",
    "DB = cnt.connect(\n",
    "    host = '88.223.121.130',\n",
    "    user='user',\n",
    "    password='slaptazodis',\n",
    "    port=3306,\n",
    "    database='works'\n",
    "    )\n",
    "C=DB.cursor()"
   ]
  },
  {
   "cell_type": "code",
   "execution_count": 42,
   "metadata": {},
   "outputs": [
    {
     "data": {
      "text/html": [
       "<div>\n",
       "<style scoped>\n",
       "    .dataframe tbody tr th:only-of-type {\n",
       "        vertical-align: middle;\n",
       "    }\n",
       "\n",
       "    .dataframe tbody tr th {\n",
       "        vertical-align: top;\n",
       "    }\n",
       "\n",
       "    .dataframe thead th {\n",
       "        text-align: right;\n",
       "    }\n",
       "</style>\n",
       "<table border=\"1\" class=\"dataframe\">\n",
       "  <thead>\n",
       "    <tr style=\"text-align: right;\">\n",
       "      <th></th>\n",
       "      <th>G</th>\n",
       "      <th>R</th>\n",
       "      <th>K</th>\n",
       "      <th>variklis</th>\n",
       "      <th>D</th>\n",
       "    </tr>\n",
       "  </thead>\n",
       "  <tbody>\n",
       "    <tr>\n",
       "      <th>0</th>\n",
       "      <td>BMW</td>\n",
       "      <td>253 000 km</td>\n",
       "      <td>19 500</td>\n",
       "      <td>4999 cm³, 507 AG (373kW)</td>\n",
       "      <td>2005-12</td>\n",
       "    </tr>\n",
       "    <tr>\n",
       "      <th>1</th>\n",
       "      <td>Mitsubishi</td>\n",
       "      <td>195 405 km</td>\n",
       "      <td>2 700</td>\n",
       "      <td>2378 cm³, 160 AG (118kW)</td>\n",
       "      <td>2006</td>\n",
       "    </tr>\n",
       "    <tr>\n",
       "      <th>2</th>\n",
       "      <td>Seat</td>\n",
       "      <td>129 800 km</td>\n",
       "      <td>13 490</td>\n",
       "      <td>1598 cm³, 95 AG (70kW)</td>\n",
       "      <td>2019-11</td>\n",
       "    </tr>\n",
       "    <tr>\n",
       "      <th>3</th>\n",
       "      <td>Skoda</td>\n",
       "      <td>183 000 km</td>\n",
       "      <td>14 650</td>\n",
       "      <td>1798 cm³, 179 AG (132kW)</td>\n",
       "      <td>2015-06</td>\n",
       "    </tr>\n",
       "    <tr>\n",
       "      <th>4</th>\n",
       "      <td>Volvo</td>\n",
       "      <td>127 896 km</td>\n",
       "      <td>38 000</td>\n",
       "      <td>1969 cm³, 235 AG (173kW)</td>\n",
       "      <td>2018-08</td>\n",
       "    </tr>\n",
       "  </tbody>\n",
       "</table>\n",
       "</div>"
      ],
      "text/plain": [
       "            G           R       K                  variklis        D\n",
       "0         BMW  253 000 km  19 500  4999 cm³, 507 AG (373kW)  2005-12\n",
       "1  Mitsubishi  195 405 km   2 700  2378 cm³, 160 AG (118kW)     2006\n",
       "2        Seat  129 800 km  13 490    1598 cm³, 95 AG (70kW)  2019-11\n",
       "3       Skoda  183 000 km  14 650  1798 cm³, 179 AG (132kW)  2015-06\n",
       "4       Volvo  127 896 km  38 000  1969 cm³, 235 AG (173kW)  2018-08"
      ]
     },
     "execution_count": 42,
     "metadata": {},
     "output_type": "execute_result"
    }
   ],
   "source": [
    "#  :pdsql\n",
    "#sql užklausa per pandas sql_query\n",
    "sql=\"\"\"select gamintojas as G, rida as R, price as K, variklis, pagaminimo_data as D from autopliuslt\"\"\"\n",
    "df = pd.read_sql_query(sql, con=DB)\n",
    "df.head()"
   ]
  },
  {
   "cell_type": "code",
   "execution_count": null,
   "metadata": {},
   "outputs": [],
   "source": [
    "#  pridėkite naujus stulpelius - kaina, rida kaip skaičiai (integer) \n",
    "#  su apply() metodu, pridėkite naują stulpelį amžius, kaip skaičius"
   ]
  }
 ],
 "metadata": {
  "kernelspec": {
   "display_name": "Python 3",
   "language": "python",
   "name": "python3"
  },
  "language_info": {
   "codemirror_mode": {
    "name": "ipython",
    "version": 3
   },
   "file_extension": ".py",
   "mimetype": "text/x-python",
   "name": "python",
   "nbconvert_exporter": "python",
   "pygments_lexer": "ipython3",
   "version": "3.12.3"
  }
 },
 "nbformat": 4,
 "nbformat_minor": 2
}
