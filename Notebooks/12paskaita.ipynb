{
 "cells": [
  {
   "cell_type": "code",
   "execution_count": 1,
   "metadata": {},
   "outputs": [
    {
     "name": "stdout",
     "output_type": "stream",
     "text": [
      "12 paskaita\n"
     ]
    }
   ],
   "source": [
    "print('12 paskaita')"
   ]
  },
  {
   "cell_type": "code",
   "execution_count": 8,
   "metadata": {},
   "outputs": [
    {
     "name": "stdout",
     "output_type": "stream",
     "text": [
      "Jonas Jonaitis, [1, 2, 3, 5, 10]\n",
      "Ona Onaitė, [1, 2, 3, 5, 10, 7, 10, 1, 10, 10, 10]\n",
      "Petras Petraitis, [10, 10, 8]\n",
      "[Jonas Jonaitis, [1, 2, 3, 5, 10], Ona Onaitė, [1, 2, 3, 5, 10, 7, 10, 1, 10, 10, 10], Petras Petraitis, [10, 10, 8], Unė Universitytė, [10, 10, 10, 8, 6, 10, 10, 10, 9]]\n",
      "7.257070707070707\n"
     ]
    }
   ],
   "source": [
    "# • Sukurkite Mokinys klasę, kuri turės mokinio vardą, pavardę ir\n",
    "# sąrašą pažymių. Įtraukite metodus, kurie skaičiuotų vidurkį,\n",
    "# didžiausią ir mažiausią pažymį.\n",
    "# • Sukurkite Abiturientas klasę, kuri paveldi Mokinys klasę ir\n",
    "# prideda papildomą funkcionalumą, pvz., gebėjimą pridėti\n",
    "# egzamino rezultatus ir skaičiuoti bendrą vidurkį, įskaitant ir\n",
    "# egzamino rezultatus.\n",
    "# • Sukurkite Mokykla klasę, kuri turės sąrašą Mokinys objektų.\n",
    "# Įtraukite metodus, kurie leistų pridėti naują mokinį, pašalinti\n",
    "# mokinį, bei skaičiuoti visos mokyklos mokinių pažymių\n",
    "# vidurkius.\n",
    "# • Atnaujinkite Mokinys klasę taip, kad pažymių sąrašas būtų\n",
    "# privatus. Sukurkite metodus, kurie leistų saugiai pridėti ir\n",
    "# gauti pažymius, užtikrinant, kad negalima būtų pridėti\n",
    "# netinkamų pažymių (pvz., neigiamų ar didesnių nei 10).\n",
    "\n",
    "\n",
    "class Mokinys():\n",
    "    def __init__(self, vardas, pavarde, ID) -> None:\n",
    "        self.Name = vardas\n",
    "        self.SurName= pavarde\n",
    "        self.__grades = []\n",
    "        self.ID = ID\n",
    "    \n",
    "    def addGrades(self, *args):\n",
    "        for grade in args:\n",
    "            try:\n",
    "                gr = int(grade)\n",
    "                if 0 < gr <= 10:\n",
    "                    self.__grades.append(grade)\n",
    "            except:\n",
    "                pass\n",
    "    \n",
    "    def getAvg(self):\n",
    "        a = sum(self.__grades)/len(self.__grades)\n",
    "        return a\n",
    "    \n",
    "    def getMin(self):\n",
    "        return min(self.__grades)\n",
    "    \n",
    "    def getMax(self):\n",
    "        return max(self.__grades)\n",
    "    \n",
    "    def showGrades(self):\n",
    "        return self.__grades\n",
    "    \n",
    "    def __repr__(self):\n",
    "        s =  f'{self.Name} {self.SurName}, {self.__grades}'\n",
    "        return s\n",
    "    \n",
    "    def __str__(self):\n",
    "        s =  f'{self.Name} {self.SurName}, {self.__grades}'\n",
    "        return s\n",
    "    \n",
    "\n",
    "class Abiturientas(Mokinys):\n",
    "    def __init__(self, vardas, pavarde, ID) -> None:\n",
    "        super().__init__(vardas, pavarde, ID)\n",
    "        self.__egz = []\n",
    "        \n",
    "    def addEgzGrades(self, *args):\n",
    "        for grade in args:\n",
    "            try:\n",
    "                gr = int(grade)\n",
    "                if 0 < gr <= 10:\n",
    "                    self.__egz.append(grade)\n",
    "            except:\n",
    "                pass\n",
    "        \n",
    "    def getAvg(self):\n",
    "        gr = self.showGrades()\n",
    "        g = gr + self.__egz\n",
    "        a = sum(g)/len(g)\n",
    "        return a\n",
    "    \n",
    "    def __repr__(self):\n",
    "        g = self.showGrades()\n",
    "        s =  f'{self.Name} {self.SurName}, {g+self.__egz}'\n",
    "        return s\n",
    "    \n",
    "    def __str__(self):\n",
    "        g = self.showGrades()\n",
    "        s =  f'{self.Name} {self.SurName}, {g+self.__egz}'\n",
    "        return s\n",
    "\n",
    "\n",
    "class Mokykla():\n",
    "    def __init__(self) -> None:\n",
    "        self.mokiniai = []\n",
    "    \n",
    "    def addStudent(self, o):\n",
    "        self.mokiniai.append(o)\n",
    "    \n",
    "    def getAvg(self):\n",
    "        a = 0\n",
    "        for i in self.mokiniai:\n",
    "            a = a + i.getAvg()\n",
    "        avg = a/len(self.mokiniai)\n",
    "        return avg\n",
    "    \n",
    "    def removeStudent(self, id):\n",
    "        for idx, o in enumerate(self.mokiniai):\n",
    "            if o.ID == id:\n",
    "                self.mokiniai.pop(idx)\n",
    "\n",
    "\n",
    "m1 = Mokinys('Jonas', 'Jonaitis', 0)\n",
    "m2 = Mokinys('Ona', 'Onaitė', 1)\n",
    "m3 = Mokinys('Petras', 'Petraitis', 3)\n",
    "\n",
    "m1.addGrades(1,2,3,5,10,15,0,-1,26)\n",
    "m2.addGrades(1,2,3,5,10,7,10,1,10,10,10)\n",
    "m3.addGrades(10,10,8)\n",
    "\n",
    "print(m1, m2, m3, sep='\\n')\n",
    "\n",
    "a1 = Abiturientas('Unė', 'Universitytė', 4)\n",
    "\n",
    "a1.addGrades(10,10,10,8,6)\n",
    "a1.addEgzGrades(10,10,10,9)\n",
    "\n",
    "mokykla = Mokykla()\n",
    "mokykla.addStudent(m1)\n",
    "mokykla.addStudent(m2)\n",
    "mokykla.addStudent(m3)\n",
    "mokykla.addStudent(a1)\n",
    "print(mokykla.mokiniai)\n",
    "print(mokykla.getAvg())"
   ]
  },
  {
   "cell_type": "code",
   "execution_count": 9,
   "metadata": {},
   "outputs": [],
   "source": [
    "import datetime"
   ]
  },
  {
   "cell_type": "code",
   "execution_count": 18,
   "metadata": {},
   "outputs": [
    {
     "name": "stdout",
     "output_type": "stream",
     "text": [
      "2024-07-22 19:09:27\n"
     ]
    }
   ],
   "source": [
    "dt_str = '2024-07-22 19:09:27'\n",
    "\n",
    "date = datetime.datetime.strptime(dt_str, '%Y-%m-%d %H:%M:%S')\n",
    "\n",
    "print(date)"
   ]
  },
  {
   "cell_type": "code",
   "execution_count": 21,
   "metadata": {},
   "outputs": [
    {
     "data": {
      "text/plain": [
       "19"
      ]
     },
     "execution_count": 21,
     "metadata": {},
     "output_type": "execute_result"
    }
   ],
   "source": [
    "date.hour"
   ]
  },
  {
   "cell_type": "code",
   "execution_count": 26,
   "metadata": {},
   "outputs": [],
   "source": [
    "date_n = datetime.datetime.now()"
   ]
  },
  {
   "cell_type": "code",
   "execution_count": 27,
   "metadata": {},
   "outputs": [
    {
     "data": {
      "text/plain": [
       "102.605776"
      ]
     },
     "execution_count": 27,
     "metadata": {},
     "output_type": "execute_result"
    }
   ],
   "source": [
    "(date_n - date).total_seconds()"
   ]
  },
  {
   "cell_type": "code",
   "execution_count": 35,
   "metadata": {},
   "outputs": [
    {
     "name": "stdout",
     "output_type": "stream",
     "text": [
      "Įvesta din='2024-05-15 14:15:16'\n",
      "1638.0\n"
     ]
    }
   ],
   "source": [
    "#paklauskite vartotojo datos - savo pasirinktu formatu. \n",
    "# Suraskite skirtumą valandomis tarp įvestos datos ir dabarties\n",
    "now = datetime.datetime.now()\n",
    "din = input('Y-M-D h:m:s')\n",
    "print(f'Įvesta {din=}')\n",
    "dtin = datetime.datetime.strptime(din, '%Y-%m-%d %H:%M:%S')\n",
    "dif = (now-dtin).total_seconds()//3600\n",
    "print(dif)"
   ]
  },
  {
   "cell_type": "code",
   "execution_count": null,
   "metadata": {},
   "outputs": [],
   "source": [
    "# paklauskite vartotojo datos, amerikietišku formatu, mėnesio pavadinimas - tekstas, \n",
    "# abbrevated name, pirmi trys simboliai (Jan, Feb, Dec, Nov ...) - \n",
    "# raskite skirtumaą tarp įvestos datos ir dabarties"
   ]
  },
  {
   "cell_type": "code",
   "execution_count": null,
   "metadata": {},
   "outputs": [],
   "source": [
    "# Turite failą BrentOilPrices.csv\n",
    "# Parašykite funkciją, kuri grąžintų naftos kainą nurodytą dieną.\n",
    "# Diena nurodoma vartotojo, su input()\n",
    "# Jūsų pasirinktu formatu.\n",
    "# Jei įvestos datos neišeina rasti - funkcija grąžina -42\n",
    "\n",
    "# Parašykite funkciją, kuri grąžintų datas ir kainas iš \n",
    "# nurodyto intervalo, kaip du atskirus sąrašus.\n",
    "# intervalą nurodo vartotojas:\n",
    "#  pvz, įvedus 07/May/04 ir 21/Mar/05 grąžintų sąrašą datų ir kainų tarp 2004-05-07 ir 2005-03-21"
   ]
  },
  {
   "cell_type": "code",
   "execution_count": 39,
   "metadata": {},
   "outputs": [
    {
     "name": "stdout",
     "output_type": "stream",
     "text": [
      "2004-07-01 35.58\n"
     ]
    }
   ],
   "source": [
    "fn = '../DATA/BrentOilPrices.csv'\n",
    "f = open(fn,mode='r',encoding='utf-8')\n",
    "t = f.readlines()\n",
    "f.close()\n",
    "\n",
    "def getPriceAtDate(data, t):\n",
    "    d = -42\n",
    "    p = -42\n",
    "    for line in t:\n",
    "        dt, pt = line.split(',')\n",
    "        dt = datetime.datetime.strptime(dt, '%d-%b-%y')\n",
    "        pt = float(pt)\n",
    "        if data == dt:\n",
    "            d = dt\n",
    "            p = pt\n",
    "    return d.date(), p\n",
    "\n",
    "din = input('data?')\n",
    "data = datetime.datetime.strptime(din, '%Y-%m-%d')\n",
    "\n",
    "d, p = getPriceAtDate(data, t[1:])\n",
    "print(d, p)\n",
    "    "
   ]
  },
  {
   "cell_type": "code",
   "execution_count": 41,
   "metadata": {},
   "outputs": [
    {
     "name": "stdout",
     "output_type": "stream",
     "text": [
      "[datetime.datetime(2002, 7, 1, 0, 0), datetime.datetime(2002, 7, 2, 0, 0), datetime.datetime(2002, 7, 3, 0, 0), datetime.datetime(2002, 7, 4, 0, 0), datetime.datetime(2002, 7, 5, 0, 0), datetime.datetime(2002, 7, 8, 0, 0), datetime.datetime(2002, 7, 9, 0, 0), datetime.datetime(2002, 7, 10, 0, 0), datetime.datetime(2002, 7, 11, 0, 0), datetime.datetime(2002, 7, 12, 0, 0), datetime.datetime(2002, 7, 15, 0, 0), datetime.datetime(2002, 7, 16, 0, 0)]\n",
      "[25.65, 25.64, 25.59, 25.51, 25.75, 25.08, 24.9, 25.82, 25.83, 26.11, 26.16, 25.94]\n"
     ]
    }
   ],
   "source": [
    "def getPrices(d1,d2, t):\n",
    "    ds = []\n",
    "    ps = []\n",
    "    for line in t:\n",
    "        dt, pt = line.split(',')\n",
    "        dt = datetime.datetime.strptime(dt, '%d-%b-%y')\n",
    "        pt = float(pt)\n",
    "        if d1<=dt<=d2:\n",
    "            ds.append(dt)\n",
    "            ps.append(pt)\n",
    "    return ds, ps\n",
    "\n",
    "d1 = datetime.datetime.strptime('2002-07-01', '%Y-%m-%d')\n",
    "d2 = datetime.datetime.strptime('2002-07-16', '%Y-%m-%d')\n",
    "\n",
    "ds, ps = getPrices(d1,d2,t[1:])\n",
    "print(ds, ps, sep='\\n')"
   ]
  },
  {
   "cell_type": "code",
   "execution_count": 44,
   "metadata": {},
   "outputs": [
    {
     "name": "stdout",
     "output_type": "stream",
     "text": [
      "[1.0, 2.0, 3.0, 4.0, 5.0, 6.0, 7.0, 8.0, 9.0, 10.0, 11.0, 12.0, 13.0, 14.0, 15.0, 16.0, 17.0, 18.0, 19.0, 20.0, 21.0, 22.0, 23.0, 24.0, 25.0, 26.0, 27.0, 28.0, 29.0, 30.0]\n",
      "[1.0, 1.0, 1.0, 1.0, 1.0, 1.0, 1.0, 1.0, 1.0, 1.0, 1.0, 1.0, 1.0, 1.0, 1.0, 1.0, 1.0, 1.0, 1.0, 1.0, 1.0, 1.0, 1.0, 1.0, 1.0, 1.0, 1.0, 1.0, 1.0, 1.0]\n"
     ]
    }
   ],
   "source": [
    "maths = 'round(c4**2+c5**2,6)'\n",
    "fn = '../DATA/fpc.csv'\n",
    "def retCols(fn,maths):\n",
    "    f = open(fn, mode='r', encoding='utf-8')\n",
    "    t = f.readlines()\n",
    "    C = []\n",
    "    R = []\n",
    "    for line in t[1:]:\n",
    "        fs = line.split(',')\n",
    "        c1,c2,c3,c4,c5 = list(map(float,fs))\n",
    "        C.append(c1)\n",
    "        r = eval(maths)\n",
    "        R.append(r)\n",
    "    return C, R\n",
    "\n",
    "C,R = retCols(fn,maths)\n",
    "print(C,R,sep='\\n')"
   ]
  }
 ],
 "metadata": {
  "kernelspec": {
   "display_name": "Python 3",
   "language": "python",
   "name": "python3"
  },
  "language_info": {
   "codemirror_mode": {
    "name": "ipython",
    "version": 3
   },
   "file_extension": ".py",
   "mimetype": "text/x-python",
   "name": "python",
   "nbconvert_exporter": "python",
   "pygments_lexer": "ipython3",
   "version": "3.10.12"
  }
 },
 "nbformat": 4,
 "nbformat_minor": 2
}
