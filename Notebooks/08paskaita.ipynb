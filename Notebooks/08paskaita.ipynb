{
 "cells": [
  {
   "cell_type": "code",
   "execution_count": 39,
   "metadata": {},
   "outputs": [
    {
     "name": "stdout",
     "output_type": "stream",
     "text": [
      "1 2 1\n",
      "2 4 4\n",
      "3 6 9\n",
      "4 8 16\n",
      "5 10 25\n"
     ]
    }
   ],
   "source": [
    "# Su Notepad’u susikurkite failą pavadinimu 't.txt', ir jame įrašy-\n",
    "# kite skaičius 1, 2, 3, 4, 5; po vieną skaičių į vieną eilutę.\n",
    "\n",
    "# • Su Python’u nuskaitykite šį failą po vieną eilutę ir išveskite į\n",
    "# ekraną.\n",
    "# • Nuskaitydami po eilutę, padauginkite kiekvieną nuskaitytą\n",
    "# skaičių iš\n",
    "# • 2 ir išspausdinkite\n",
    "# • iš jo paties ir išspausdinkite\n",
    "# • Ankstesniuose punktuose gautuosius rezultatus įrašykite į\n",
    "# failą taip: nuskaitytas skaičius, sandauga su 2, sandauga su\n",
    "# savimi pačiu. Turite gauti tokį failą:\n",
    "# 1 2 1\n",
    "# 2 4 4\n",
    "# 3 6 9\n",
    "\n",
    "failo_vardas = 't.txt'\n",
    "\n",
    "failas = open(failo_vardas, mode='r', encoding='utf-8')\n",
    "\n",
    "for eil in failas:\n",
    "    a = int(eil)\n",
    "    skaicius = a\n",
    "    daugyba2 = a*2\n",
    "    daugyba3 = a*a\n",
    "    print(skaicius, daugyba2, daugyba3)\n",
    "    \n",
    "    for pr in failas:\n",
    "        failas.write{f\"\"}\n",
    "\n",
    "\n",
    "\n",
    "\n",
    "\n",
    "\n",
    "\n",
    "\n"
   ]
  },
  {
   "cell_type": "code",
   "execution_count": 61,
   "metadata": {},
   "outputs": [
    {
     "name": "stdout",
     "output_type": "stream",
     "text": [
      "['the', '650', 'seats', 'In', 'the', 'House', 'of', 'Commons', 'are', 'Up', 'for', 'Grabs', 'in', 'An', 'election', 'That', 'has', 'Already', 'been', 'Forecast', '-', 'Even', 'by', 'Some', 'governing', 'Conservatives', '–', 'As', 'likely', 'To', 'result', 'In', 'a', 'Labour', 'victory.', 'Conservative', 'incumbent', 'Prime', 'minister', 'Rishi', 'sunak', 'Looks', 'likely', 'To', 'be', 'Replaced', 'by', 'Labour', 'leader', 'Keir', 'starmer', 'On', 'the', 'Basis', 'of', 'Polling', 'leading', 'Up', 'to', 'The', 'election.', 'We’ll', 'track', 'The', 'day', 'As', 'it', 'Progresses', 'and', 'Leaders', 'of', 'The', 'key', 'Party', 'factions', 'Vote,', 'explaining', 'How', 'the', 'Voting', 'system', 'Works', 'and', 'Bringing', 'up', 'To', 'the', 'Minute', 'news', 'As', 'it', 'Trickles', 'in.']\n"
     ]
    }
   ],
   "source": [
    "#x • Sukurkite tekstinį failą su Notepad ar kita programa, failo\n",
    "# xplėtinys turėtų būti .txt\n",
    "# x• Iš pirmojo Delfi straipsnio įkopijuokite 2 - 3 pastraipas ir\n",
    "# xišsaugokite.\n",
    "# xUžduotis:\n",
    "# xVisi atsakymai rašomi į tą patį ats.txt failą.\n",
    "# x• Įrašykite tekstą iš sukurtojo failo didžiosiomis raidėmis\n",
    "# • Kas n-tąjį žodį didžiomis raidėmis, n įveda vartotojas.\n",
    "# • Kiekvieną žodį iš didžiosios raidės\n",
    "# • Kiekvienas žodis iš didžiosios raidės, kas antras -\n",
    "# parašytas atvirkščiai, kas 5-tas - vien tik didžiosiomis\n",
    "# raidėmis, kas 6-tame - simboliai \"a\" turi būti pakeisti\n",
    "# ':)' simboliais.\n",
    "\n",
    "failo_vardas = 'a.txt'\n",
    "\n",
    "failas = open(failo_vardas, mode='r', encoding='utf-8')\n",
    "\n",
    "turinys = failas.read()\n",
    "\n",
    "turinys_didziosiom = turinys.lower() \n",
    "\n",
    "zodziai = turinys_didziosiom.split()\n",
    "\n",
    "naujas_sarasas = []\n",
    "\n",
    "for i, zodziai in enumerate(zodziai):\n",
    "    if i % 2 == 1:\n",
    "        zodziai = zodziai.capitalize()\n",
    "    naujas_sarasas.append(zodziai)\n",
    "\n",
    "\n",
    "print(naujas_sarasas)\n",
    "\n",
    "\n",
    "\n",
    "\n",
    "\n",
    "\n",
    "\n"
   ]
  },
  {
   "cell_type": "code",
   "execution_count": null,
   "metadata": {},
   "outputs": [],
   "source": [
    "# sugalvokite ir parašykite funkciją, kuri įrašytų į failą nurodytą tekstą, automatiškai pridėdama\n",
    "# naujos eilutės simbolį.\n",
    "# (FreePascal writeln() analogas)\n",
    "\n",
    "\n"
   ]
  },
  {
   "cell_type": "code",
   "execution_count": null,
   "metadata": {},
   "outputs": [],
   "source": [
    "# pršykite funkciją, kuriai galėtumėte nurodyti sąrašą arba eilutę tekstų, \n",
    "# ir ji grąžintų sąrašą, kuriame būtų tekstai, konvertuoti į skaičius\n",
    "# Funkcija turi grąžinti tuščią sąrašą, jei nepavyktų konvertuoti nors vieno teksto į skaičių"
   ]
  }
 ],
 "metadata": {
  "kernelspec": {
   "display_name": "Python 3",
   "language": "python",
   "name": "python3"
  },
  "language_info": {
   "codemirror_mode": {
    "name": "ipython",
    "version": 3
   },
   "file_extension": ".py",
   "mimetype": "text/x-python",
   "name": "python",
   "nbconvert_exporter": "python",
   "pygments_lexer": "ipython3",
   "version": "3.12.4"
  }
 },
 "nbformat": 4,
 "nbformat_minor": 2
}
