{
 "cells": [
  {
   "cell_type": "code",
   "execution_count": 1,
   "metadata": {},
   "outputs": [
    {
     "name": "stdout",
     "output_type": "stream",
     "text": [
      "16 paskaita\n"
     ]
    }
   ],
   "source": [
    "print('16 paskaita')"
   ]
  },
  {
   "cell_type": "code",
   "execution_count": null,
   "metadata": {},
   "outputs": [],
   "source": [
    "# parašyti funkciją, kuriai \n",
    "# galėtumėte nurodyti sąrašą skaičių bei \n",
    "# dar vieną skaičių, ir ta funkcija surastų ir \n",
    "# grąžintų sarašę buvusį skaičių, artimiausią nuliui \n",
    "# (arba jūsų nurodytam skaičiui), bei rastojo skaičiaus\n",
    "# poziciją (indeksą) sąraše."
   ]
  },
  {
   "cell_type": "code",
   "execution_count": null,
   "metadata": {},
   "outputs": [],
   "source": [
    "[1,0.5,0.75,2,5,25,0.1,0.05, -0.045,2,3,4,5,6]\n",
    "# jūs nurodėte antrą argumentą - 0\n",
    "#  min()\n",
    "#  jei tų skaičių yra daugiau nei vienas - grąžinkite \n",
    "# pirmąjį surastą iš dešinės einant į kairę\n",
    "# (maksimalų indeksą)\n"
   ]
  },
  {
   "cell_type": "code",
   "execution_count": 9,
   "metadata": {},
   "outputs": [
    {
     "data": {
      "text/plain": [
       "(-0.045, 8)"
      ]
     },
     "execution_count": 9,
     "metadata": {},
     "output_type": "execute_result"
    }
   ],
   "source": [
    "def argmax(array, point):\n",
    "    mods = list(map(lambda x: abs(point-x), array))\n",
    "    mn = min(mods)\n",
    "    # ieškom indekso, didžiausio,\n",
    "    # jei bus keli skaičiai\n",
    "    # grąžinsime didžiausią indeksą\n",
    "    idx = len(mods)-1\n",
    "    # mods.index(mn)\n",
    "    while idx >= 0:\n",
    "        if mods[idx] == mn:\n",
    "            idx = idx\n",
    "            break\n",
    "        idx = idx - 1\n",
    "    return array[idx], idx\n",
    "\n",
    "argmax([1,0.5,0.75,2,5,25,0.1,0.05, -0.045,2,3,4,5,6], 0)    "
   ]
  },
  {
   "cell_type": "code",
   "execution_count": 12,
   "metadata": {},
   "outputs": [
    {
     "name": "stdout",
     "output_type": "stream",
     "text": [
      "42\n",
      "107.60000000000001\n",
      "40\n",
      "107.60000000000001\n"
     ]
    }
   ],
   "source": [
    "class Degree():\n",
    "    def __init__(self, c):\n",
    "        self.__Tc = c\n",
    "        self.__Tf = (c*1.8)+32\n",
    "    \n",
    "    def getC(self):\n",
    "        return self.__Tc\n",
    "    def setC(self, c):\n",
    "        self.__Tc = c\n",
    "    def getF(self):\n",
    "        return self.__Tf\n",
    "        \n",
    "\n",
    "obj = Degree(42)\n",
    "print(obj.getC())\n",
    "print(obj.getF())\n",
    "obj.setC(40)\n",
    "print(obj.getC())\n",
    "print(obj.getF())"
   ]
  },
  {
   "cell_type": "code",
   "execution_count": 18,
   "metadata": {},
   "outputs": [
    {
     "name": "stdout",
     "output_type": "stream",
     "text": [
      "42\n",
      "107.60000000000001\n",
      "40\n",
      "104.0\n"
     ]
    }
   ],
   "source": [
    "class Degree():\n",
    "    def __init__(self, c):\n",
    "        self.setT(c)\n",
    "        pass\n",
    "    \n",
    "    def setT(self, c):\n",
    "        self.__Tc = c\n",
    "        self.__Tf = (c*1.8)+32\n",
    "    \n",
    "    def getT(self):\n",
    "        return self.__Tc\n",
    "    def getF(self):\n",
    "        return self.__Tf\n",
    "    T = property(getT, setT)\n",
    "\n",
    "obj = Degree(42)\n",
    "print(obj.getT())\n",
    "print(obj.getF())\n",
    "\n",
    "obj.setT(40)\n",
    "print(obj.getT())\n",
    "print(obj.getF())"
   ]
  },
  {
   "cell_type": "code",
   "execution_count": 21,
   "metadata": {},
   "outputs": [
    {
     "name": "stdout",
     "output_type": "stream",
     "text": [
      "109.4\n",
      "43\n"
     ]
    }
   ],
   "source": [
    "obj.T = 43\n",
    "print(obj.getF())\n",
    "print(obj.T)"
   ]
  },
  {
   "cell_type": "code",
   "execution_count": 25,
   "metadata": {},
   "outputs": [
    {
     "name": "stdout",
     "output_type": "stream",
     "text": [
      "5\n",
      "157.0\n",
      "226.08\n"
     ]
    }
   ],
   "source": [
    "class Apskritimas():\n",
    "    def __init__(self, r):\n",
    "        self.R = r\n",
    "        # self.S = ?\n",
    "        pass\n",
    "    \n",
    "    @property\n",
    "    def R(self):\n",
    "        return self.__R\n",
    "    @R.setter\n",
    "    def R(self, r):\n",
    "        self.__R = r\n",
    "        self.S = 2*3.14*r**2\n",
    "        \n",
    "o = Apskritimas(5)\n",
    "print(o.R)\n",
    "print(o.S)\n",
    "o.R = 6\n",
    "print(o.S)"
   ]
  }
 ],
 "metadata": {
  "kernelspec": {
   "display_name": "Python 3",
   "language": "python",
   "name": "python3"
  },
  "language_info": {
   "codemirror_mode": {
    "name": "ipython",
    "version": 3
   },
   "file_extension": ".py",
   "mimetype": "text/x-python",
   "name": "python",
   "nbconvert_exporter": "python",
   "pygments_lexer": "ipython3",
   "version": "3.12.3"
  }
 },
 "nbformat": 4,
 "nbformat_minor": 2
}
