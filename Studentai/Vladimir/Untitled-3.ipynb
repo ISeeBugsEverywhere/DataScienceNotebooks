{
 "cells": [
  {
   "cell_type": "code",
   "execution_count": null,
   "metadata": {},
   "outputs": [],
   "source": [
    "# 9)\n",
    "# parašykite funkcjas suma(), skirtumas(), sandauga(), dalyba(), \n",
    "# kurioms jūs galėtumėte nurodyti skaičių sąrašą x, ir vieną skaičių d, \n",
    "# ir tos funkcijos grąžintų naują sąrašą, su skaičiais iš x sąrašo su atitinkmai atliktu veiksmu - \n",
    "# pridėtu d, atimtu d, padaugintu iš d.\n",
    "# def suma(x, d):\n",
    "#     veiksmai, kad gautumėte naują sąrašą kur x+d\n",
    "#     return naujas sąrašas"
   ]
  },
  {
   "cell_type": "code",
   "execution_count": 1,
   "metadata": {},
   "outputs": [
    {
     "name": "stdout",
     "output_type": "stream",
     "text": [
      "[6, 8, 10, 12, 13, 5]\n"
     ]
    }
   ],
   "source": [
    "def suma(*x,d):\n",
    "    return list(map(lambda y: y+d, x)) \n",
    "\n",
    "print(suma(2,4,6,8,9,1, d=4))"
   ]
  },
  {
   "cell_type": "code",
   "execution_count": 2,
   "metadata": {},
   "outputs": [
    {
     "name": "stdout",
     "output_type": "stream",
     "text": [
      "[-2, 0, 2, 4, 5, -3]\n"
     ]
    }
   ],
   "source": [
    "def skirtumas(*x,d):\n",
    "    return list(map(lambda y: y-d, x)) \n",
    "\n",
    "print(skirtumas(2,4,6,8,9,1, d=4))"
   ]
  },
  {
   "cell_type": "code",
   "execution_count": null,
   "metadata": {},
   "outputs": [],
   "source": []
  }
 ],
 "metadata": {
  "kernelspec": {
   "display_name": "base",
   "language": "python",
   "name": "python3"
  },
  "language_info": {
   "codemirror_mode": {
    "name": "ipython",
    "version": 3
   },
   "file_extension": ".py",
   "mimetype": "text/x-python",
   "name": "python",
   "nbconvert_exporter": "python",
   "pygments_lexer": "ipython3",
   "version": "3.11.7"
  }
 },
 "nbformat": 4,
 "nbformat_minor": 2
}
