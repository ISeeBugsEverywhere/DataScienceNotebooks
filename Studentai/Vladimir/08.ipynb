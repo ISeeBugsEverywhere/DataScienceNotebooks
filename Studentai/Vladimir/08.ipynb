{
 "cells": [
  {
   "cell_type": "code",
   "execution_count": 1,
   "metadata": {},
   "outputs": [],
   "source": [
    "f_name='f3.txt'\n",
    "\n",
    "f = open(file=f_name, mode= 'a', encoding='utf-8')\n",
    "\n",
    "f.write('Labas, čia append režimu atidarytas failas\\n')\n",
    "\n",
    "\n",
    "f.close()"
   ]
  },
  {
   "cell_type": "code",
   "execution_count": 34,
   "metadata": {},
   "outputs": [
    {
     "name": "stdout",
     "output_type": "stream",
     "text": [
      "['1\\n', '2\\n', '3\\n', '4\\n', '5\\n', '\\n']\n",
      "  1   2   1\n",
      "  2   4   4\n",
      "  3   6   9\n",
      "  4   8  16\n",
      "  5  10  25\n"
     ]
    },
    {
     "ename": "ValueError",
     "evalue": "invalid literal for int() with base 10: ''",
     "output_type": "error",
     "traceback": [
      "\u001b[1;31m---------------------------------------------------------------------------\u001b[0m",
      "\u001b[1;31mValueError\u001b[0m                                Traceback (most recent call last)",
      "Cell \u001b[1;32mIn[34], line 10\u001b[0m\n\u001b[0;32m      6\u001b[0m \u001b[38;5;66;03m# print(list(map(lambda x:x*2, lines)))\u001b[39;00m\n\u001b[0;32m      8\u001b[0m \u001b[38;5;28;01mfor\u001b[39;00m line \u001b[38;5;129;01min\u001b[39;00m  lines:\n\u001b[1;32m---> 10\u001b[0m         n\u001b[38;5;241m=\u001b[39m\u001b[38;5;28mint\u001b[39m(line\u001b[38;5;241m.\u001b[39mstrip())\n\u001b[0;32m     11\u001b[0m         multiply\u001b[38;5;241m=\u001b[39mn\u001b[38;5;241m*\u001b[39m\u001b[38;5;241m2\u001b[39m\n\u001b[0;32m     13\u001b[0m         res\u001b[38;5;241m=\u001b[39mn\u001b[38;5;241m*\u001b[39mn\n",
      "\u001b[1;31mValueError\u001b[0m: invalid literal for int() with base 10: ''"
     ]
    }
   ],
   "source": [
    "with open(r'C:\\Users\\Batia\\Desktop\\t.txt', 'r') as file:\n",
    "    lines = file.readlines()\n",
    "\n",
    "print(lines) \n",
    "\n",
    "# print(list(map(lambda x:x*2, lines)))\n",
    "\n",
    "for line in  lines:\n",
    "        \n",
    "        n=int(line.strip())\n",
    "        multiply=n*2\n",
    "        \n",
    "        res=n*n\n",
    "        \n",
    "        print(f'{n:3} {multiply:3} {res:3}')\n",
    "\n",
    "\n",
    "        with open(r'C:\\Users\\Batia\\Desktop\\ats1.txt', 'a') as file:\n",
    "            file.write(f'{n:3} {multiply:3} {res:3}\\n')"
   ]
  },
  {
   "cell_type": "code",
   "execution_count": 11,
   "metadata": {},
   "outputs": [
    {
     "name": "stdout",
     "output_type": "stream",
     "text": [
      "ИСТОРИЯ ЯИНЕЩИХОП ЮНОЙ ЫЦИНЬЛЕТИОВ ФУРИОСЫ ЗИ ЗЕЛЁНЫХ ,ЬЛЕМЕЗ В ЕТАТЬЛУЗЕР КОТОРОГО АКШУВЕД ПОПАДАЕТ В РУКИ ЫДРО БАЙКЕРОВ ДОП ПРЕДВОДИТЕЛЬСТВОМ АКИНЬЛАЧАНЕОВ ДЕМЕНТУСА. ЬСЯАРИБОРП ЧЕРЕЗ ,ЬШОТСУП ОНИ ЯСТЮАКЫТАН НА ,ЬЛЕДАТИЦ КОТОРОЙ ТЕЯЛВАРПУ БЕССМЕРТНЫЙ ,ОЖД И АКОП ДВА АНАРИТ БОРЮТСЯ АЗ ГОСПОДСТВО, ЕСОИРУФ ПРЕДСТОИТ ЬТИЖЕРЕП МНОЖЕСТВО ,ЙИНАТЫПСИ ПЫТАЯСЬ ИТЙАН ПУТЬ .ЙОМОД ГЛАВНЫЙ ЙОРЕГ ЭТОЙ ИИЦАЗИНАРКЭ КУЛЬТОВОЙ ЙОНРЕТЮЬПМОК ИГРЫ, ЙЫНЮ ПРИНЦ НАТСАД ВСЕГДА ЛАДЖЕБОП ВРАГОВ В БОЮ, ОН ПОТЕРЯЛ ОВТСВЕЛОРОК ИЗ-ЗА ЙЕНЗОК КОВАРНОГО .АЦРОВДЕРАЦ ТЕПЕРЬ УНАТСАД ПРЕДСТОИТ ЬТИТИХОП ИЗ КУР ЗЛОДЕЕВ ЙЫННЕВТСЕЩУГОМ МАГИЧЕСКИЙ ,ТКАФЕТРА СПОСОБНЫЙ ЬТУНРЕВОП ВРЕМЯ ЬТЯПСВ И ЬТАЛЕДС СВОЕГО АЦЬЛЕДАЛВ ВЛАСТЕЛИНОМ .АРИМ ПОМОЧЬ ЬТЕЛОДО ВРАГОВ УНАТСАД ПОМОГУТ ОГЕ БЛЕСТЯЩИЕ ИКЫВАН ВЛАДЕНИЯ МЫНДОЛОХ ОРУЖИЕМ, А ТАКЖЕ ЕЫННИЖЮДЕН СПОСОБНОСТИ К АКРОБАТИКЕ И ЭКВИЛИБРИСТИКЕ.\n"
     ]
    }
   ],
   "source": [
    "with open(r'C:\\Users\\Batia\\Desktop\\ats.txt', 'r') as file:\n",
    "    content = file.read()\n",
    "\n",
    "uppercased_contents=content.upper()\n",
    "\n",
    "with open(r'C:\\Users\\Batia\\Desktop\\ats.txt', 'w') as file:\n",
    "    file.write(uppercased_contents)\n",
    "\n",
    "print(uppercased_contents)"
   ]
  },
  {
   "cell_type": "code",
   "execution_count": 13,
   "metadata": {},
   "outputs": [
    {
     "name": "stdout",
     "output_type": "stream",
     "text": [
      "история яинещихоп ЮНОЙ ыциньлетиов фуриосы ЗИ зелёных ,ьлемез В етатьлузер которого АКШУВЕД попадает в РУКИ ыдро байкеров ДОП предводительством акиньлачанеов ДЕМЕНТУСА. ьсяариборп через ,ЬШОТСУП они ястюакытан НА ,ьледатиц которой ТЕЯЛВАРПУ бессмертный ,ожд И акоп два АНАРИТ борются аз ГОСПОДСТВО, есоируф предстоит ЬТИЖЕРЕП множество ,йинатыпси ПЫТАЯСЬ итйан путь .ЙОМОД главный йорег ЭТОЙ иицазинаркэ культовой ЙОНРЕТЮЬПМОК игры, йыню ПРИНЦ натсад всегда ЛАДЖЕБОП врагов в БОЮ, он потерял ОВТСВЕЛОРОК из-за йензок КОВАРНОГО .ацровдерац теперь УНАТСАД предстоит ьтитихоп ИЗ кур злодеев ЙЫННЕВТСЕЩУГОМ магический ,ткафетра СПОСОБНЫЙ ьтунревоп время ЬТЯПСВ и ьталедс СВОЕГО ацьледалв властелином .АРИМ помочь ьтелодо ВРАГОВ унатсад помогут ОГЕ блестящие икыван ВЛАДЕНИЯ мындолох оружием, А также еыннижюден СПОСОБНОСТИ к акробатике И эквилибристике.\n"
     ]
    }
   ],
   "source": [
    "with open(r'C:\\Users\\Batia\\Desktop\\ats.txt', 'r') as file:\n",
    "    txt = file.read()\n",
    "def lower(txt):\n",
    "    return txt.lower()\n",
    "words=lower(txt).split()\n",
    "n = int(input(\"Enter the value of n: \"))\n",
    "for i in range(n-1,len(words), n):\n",
    "    words[i]= words[i].upper()\n",
    "\n",
    "txt1=' '.join(words)\n",
    "\n",
    "with open(r'C:\\Users\\Batia\\Desktop\\ats.txt', 'w') as file:\n",
    "    file.write(txt1)\n",
    "print(txt1)"
   ]
  },
  {
   "cell_type": "code",
   "execution_count": 14,
   "metadata": {},
   "outputs": [
    {
     "name": "stdout",
     "output_type": "stream",
     "text": [
      "История Яинещихоп Юной Ыциньлетиов Фуриосы Зи Зелёных ,Ьлемез В Етатьлузер Которого Акшувед Попадает В Руки Ыдро Байкеров Доп Предводительством Акиньлачанеов Дементуса. Ьсяариборп Через ,Ьшотсуп Они Ястюакытан На ,Ьледатиц Которой Теялварпу Бессмертный ,Ожд И Акоп Два Анарит Борются Аз Господство, Есоируф Предстоит Ьтижереп Множество ,Йинатыпси Пытаясь Итйан Путь .Йомод Главный Йорег Этой Иицазинаркэ Культовой Йонретюьпмок Игры, Йыню Принц Натсад Всегда Ладжебоп Врагов В Бою, Он Потерял Овтсвелорок Из-За Йензок Коварного .Ацровдерац Теперь Унатсад Предстоит Ьтитихоп Из Кур Злодеев Йынневтсещугом Магический ,Ткафетра Способный Ьтунревоп Время Ьтяпсв И Ьталедс Своего Ацьледалв Властелином .Арим Помочь Ьтелодо Врагов Унатсад Помогут Оге Блестящие Икыван Владения Мындолох Оружием, А Также Еыннижюден Способности К Акробатике И Эквилибристике.\n",
      "История Яинещихоп Юной Ыциньлетиов Фуриосы Зи Зелёных ,Ьлемез В Етатьлузер Которого Акшувед Попадает В Руки Ыдро Байкеров Доп Предводительством Акиньлачанеов Дементуса. Ьсяариборп Через ,Ьшотсуп Они Ястюакытан На ,Ьледатиц Которой Теялварпу Бессмертный ,Ожд И Акоп Два Анарит Борются Аз Господство, Есоируф Предстоит Ьтижереп Множество ,Йинатыпси Пытаясь Итйан Путь .Йомод Главный Йорег Этой Иицазинаркэ Культовой Йонретюьпмок Игры, Йыню Принц Натсад Всегда Ладжебоп Врагов В Бою, Он Потерял Овтсвелорок Из-За Йензок Коварного .Ацровдерац Теперь Унатсад Предстоит Ьтитихоп Из Кур Злодеев Йынневтсещугом Магический ,Ткафетра Способный Ьтунревоп Время Ьтяпсв И Ьталедс Своего Ацьледалв Властелином .Арим Помочь Ьтелодо Врагов Унатсад Помогут Оге Блестящие Икыван Владения Мындолох Оружием, А Также Еыннижюден Способности К Акробатике И Эквилибристике.\n",
      "история похищения ЮНОЙ воительницы фуриосы ИЗ зелёных земель, В результате которого ДЕВУШКА попадает в РУКИ орды байкеров ПОД предводительством военачальника ДЕМЕНТУСА. пробираясь через ПУСТОШЬ, они натыкаются НА цитадель, которой УПРАВЛЯЕТ бессмертный джо, И пока два ТИРАНА борются за ГОСПОДСТВО, фуриосе предстоит ПЕРЕЖИТЬ множество испытаний, ПЫТАЯСЬ найти путь ДОМОЙ. главный герой ЭТОЙ экранизации культовой КОМПЬЮТЕРНОЙ игры, юный ПРИНЦ дастан всегда ПОБЕЖДАЛ врагов в БОЮ, но потерял КОРОЛЕВСТВО из-за козней КОВАРНОГО царедворца. теперь ДАСТАНУ предстоит похитить ИЗ рук злодеев МОГУЩЕСТВЕННЫЙ магический артефакт, СПОСОБНЫЙ повернуть время ВСПЯТЬ и сделать СВОЕГО владельца властелином МИРА. помочь одолеть ВРАГОВ дастану помогут ЕГО блестящие навыки ВЛАДЕНИЯ холодным оружием, А также недюжинные СПОСОБНОСТИ к акробатике И эквилибристике.\n",
      "история похищения ЮНОЙ воительницы ФУРИОСЫ ИЗ зелёных земель, В РЕЗУЛЬТАТЕ которого ДЕВУШКА попадает в РУКИ орды байкеров ПОД предводительством ВОЕНАЧАЛЬНИКА ДЕМЕНТУСА. пробираясь через ПУСТОШЬ, ОНИ натыкаются НА цитадель, которой УПРАВЛЯЕТ бессмертный джо, И пока ДВА ТИРАНА борются за ГОСПОДСТВО, ФУРИОСЕ предстоит ПЕРЕЖИТЬ множество испытаний, ПЫТАЯСЬ найти путь ДОМОЙ. главный ГЕРОЙ ЭТОЙ экранизации культовой КОМПЬЮТЕРНОЙ ИГРЫ, юный ПРИНЦ дастан всегда ПОБЕЖДАЛ врагов в БОЮ, но ПОТЕРЯЛ КОРОЛЕВСТВО из-за козней КОВАРНОГО ЦАРЕДВОРЦА. теперь ДАСТАНУ предстоит похитить ИЗ рук злодеев МОГУЩЕСТВЕННЫЙ магический АРТЕФАКТ, СПОСОБНЫЙ повернуть время ВСПЯТЬ И сделать СВОЕГО владельца властелином МИРА. помочь одолеть ВРАГОВ дастану ПОМОГУТ ЕГО блестящие навыки ВЛАДЕНИЯ ХОЛОДНЫМ оружием, А также недюжинные СПОСОБНОСТИ к акробатике И эквилибристике.\n",
      "история похищения ЮНОЙ воительницы ФУРИОСЫ ИЗ зелёных земель, В РЕЗУЛЬТАТЕ которого ДЕВУШКА попадает в РУКИ орды байкеров ПОД предводительством ВОЕНАЧАЛЬНИКА ДЕМЕНТУСА. пробираясь через ПУСТОШЬ, ОНИ натыкаются НА цитадель, которой УПРАВЛЯЕТ бессмертный джо, И пока ДВА ТИРАНА борются за ГОСПОДСТВО, ФУРИОСЕ предстоит ПЕРЕЖИТЬ множество испытаний, ПЫТАЯСЬ найти путь ДОМОЙ. главный ГЕРОЙ ЭТОЙ экранизации культовой КОМПЬЮТЕРНОЙ ИГРЫ, юный ПРИНЦ дастан всегда ПОБЕЖДАЛ врагов в БОЮ, но ПОТЕРЯЛ КОРОЛЕВСТВО из-за козней КОВАРНОГО ЦАРЕДВОРЦА. теперь ДАСТАНУ предстоит похитить ИЗ рук злодеев МОГУЩЕСТВЕННЫЙ магический АРТЕФАКТ, СПОСОБНЫЙ повернуть время ВСПЯТЬ И сделать СВОЕГО владельца властелином МИРА. помочь одолеть ВРАГОВ дастану ПОМОГУТ ЕГО блестящие навыки ВЛАДЕНИЯ ХОЛОДНЫМ оружием, А также недюжинные СПОСОБНОСТИ к акробатике И эквилибристике.\n",
      "история похищения ЮНОЙ воительницы ФУРИОСЫ ИЗ зелёных земель, В РЕЗУЛЬТАТЕ которого ДЕВУШКА попадает в РУКИ орды байкеров ПОД предводительством ВОЕНАЧАЛЬНИКА ДЕМЕНТУСА. пробираясь через ПУСТОШЬ, ОНИ натыкаются НА цитадель, которой УПРАВЛЯЕТ бессмертный джо, И пока ДВА ТИРАНА борются за ГОСПОДСТВО, ФУРИОСЕ предстоит ПЕРЕЖИТЬ множество испытаний, ПЫТАЯСЬ найти путь ДОМОЙ. главный ГЕРОЙ ЭТОЙ экранизации культовой КОМПЬЮТЕРНОЙ ИГРЫ, юный ПРИНЦ дастан всегда ПОБЕЖДАЛ врагов в БОЮ, но ПОТЕРЯЛ КОРОЛЕВСТВО из-за козней КОВАРНОГО ЦАРЕДВОРЦА. теперь ДАСТАНУ предстоит похитить ИЗ рук злодеев МОГУЩЕСТВЕННЫЙ магический АРТЕФАКТ, СПОСОБНЫЙ повернуть время ВСПЯТЬ И сделать СВОЕГО владельца властелином МИРА. помочь одолеть ВРАГОВ дастану ПОМОГУТ ЕГО блестящие навыки ВЛАДЕНИЯ ХОЛОДНЫМ оружием, А также недюжинные СПОСОБНОСТИ к акробатике И эквилибристике.\n"
     ]
    }
   ],
   "source": [
    "def title(txt1):\n",
    "    return txt1.title()\n",
    "txt3=title(txt1)\n",
    "print(txt3)\n",
    "with open(r'C:\\Users\\Batia\\Desktop\\ats.txt', 'w') as file:\n",
    "    file.write(txt3)\n",
    "print(txt3)\n",
    "\n",
    "\n",
    "words=txt1.split()\n",
    "for i in range(1,len(words),2):\n",
    "    words[i]=words[i][::-1]\n",
    "txt2=' '.join(words)\n",
    "\n",
    "with open(r'C:\\Users\\Batia\\Desktop\\ats.txt', 'w') as file:\n",
    "    file.write(txt2)\n",
    "print(txt2)\n",
    "\n",
    "\n",
    "words2=txt2.split()\n",
    "for i in range(4, len(words2),5):\n",
    "    words2[i]=words2[i].upper()\n",
    "txt4=' '.join(words2)\n",
    "print(txt4)\n",
    "with open(r'C:\\Users\\Batia\\Desktop\\ats.txt', 'w') as file:\n",
    "    file.write(txt4)\n",
    "print(txt4)\n",
    "\n",
    "words3=txt4.split()\n",
    "for i in range(5, len(words3),6):\n",
    "    words3[i]=words3[i].replace('A', ':)')\n",
    "txt5=' '.join(words3)\n",
    "with open(r'C:\\Users\\Batia\\Desktop\\ats.txt', 'w') as file:\n",
    "    file.write(txt5)\n",
    "print(txt5)"
   ]
  },
  {
   "cell_type": "code",
   "execution_count": 69,
   "metadata": {},
   "outputs": [],
   "source": [
    "# sugalvokite ir parašykite funkciją, kuri įrašytų į failą nurodytą tekstą, automatiškai pridėdama\n",
    "# naujos eilutės simbolį.\n",
    "# (FreePascal writeln() analogas)\n",
    "def funk(file_path, *text):\n",
    "    with open(r'C:\\Users\\Batia\\Desktop\\new.txt', 'a') as fi:\n",
    "        for t in text:\n",
    "            fi.write(t + '\\n')\n",
    "\n",
    "file_path=r'C:\\Users\\Batia\\Desktop\\new.txt'\n",
    "funk(file_path, 'Naujas tekstas' , 'Dar tekstas', 'Ir dar')"
   ]
  },
  {
   "cell_type": "code",
   "execution_count": 70,
   "metadata": {},
   "outputs": [
    {
     "name": "stdout",
     "output_type": "stream",
     "text": [
      "[]\n"
     ]
    }
   ],
   "source": [
    "# pršykite funkciją, kuriai galėtumėte nurodyti sąrašą arba eilutę tekstų, \n",
    "# ir ji grąžintų sąrašą, kuriame būtų tekstai, konvertuoti į skaičius\n",
    "# Funkcija turi grąžinti tuščią sąrašą, jei nepavyktų konvertuoti nors vieno teksto į skaičių\n",
    "\n",
    "l=['vienas', '2','3','4','5']\n",
    "\n",
    "def convert(l):\n",
    "    try:\n",
    "        return list(map(int, l))\n",
    "    except ValueError:\n",
    "        return []\n",
    "\n",
    "print(convert(l))"
   ]
  },
  {
   "cell_type": "code",
   "execution_count": 36,
   "metadata": {},
   "outputs": [],
   "source": [
    "import scipy as S"
   ]
  },
  {
   "cell_type": "code",
   "execution_count": 37,
   "metadata": {},
   "outputs": [
    {
     "name": "stderr",
     "output_type": "stream",
     "text": [
      "C:\\Users\\Batia\\AppData\\Local\\Temp\\ipykernel_30728\\2362059180.py:1: DeprecationWarning: scipy.sqrt is deprecated and will be removed in SciPy 2.0.0, use numpy.lib.scimath.sqrt instead\n",
      "  S.sqrt(-9)\n"
     ]
    },
    {
     "data": {
      "text/plain": [
       "3j"
      ]
     },
     "execution_count": 37,
     "metadata": {},
     "output_type": "execute_result"
    }
   ],
   "source": [
    "S.sqrt(-9)"
   ]
  },
  {
   "cell_type": "code",
   "execution_count": 38,
   "metadata": {},
   "outputs": [
    {
     "name": "stdout",
     "output_type": "stream",
     "text": [
      "0.12005060941419987\n"
     ]
    }
   ],
   "source": [
    "import random\n",
    "f = random.random()\n",
    "print(f)"
   ]
  },
  {
   "cell_type": "code",
   "execution_count": 39,
   "metadata": {},
   "outputs": [
    {
     "name": "stdout",
     "output_type": "stream",
     "text": [
      "56\n"
     ]
    }
   ],
   "source": [
    "f= random.randint(0,100)\n",
    "print(f)"
   ]
  },
  {
   "cell_type": "code",
   "execution_count": 43,
   "metadata": {},
   "outputs": [
    {
     "name": "stdout",
     "output_type": "stream",
     "text": [
      "[12, 5, 19, 19, 21, 20, 7, 14, 25, 6]\n"
     ]
    }
   ],
   "source": [
    "# parašykite funkciją, kuriai galėtumėte nurodyti tris skaičius - elemnetų kiekį (ilgį),\n",
    "# ribas nuo, iki, ir ta funkcija grąžintų sąrašą, nurodyto ilgio, atsitiktiniais skaičiais užpildytą.\n",
    "\n",
    "def triple(l,f,t):\n",
    "    \n",
    "    return [random.randint(f,t) for i in range(l)]\n",
    "\n",
    "print(triple(10, 5, 25))"
   ]
  },
  {
   "cell_type": "code",
   "execution_count": 47,
   "metadata": {},
   "outputs": [
    {
     "name": "stdout",
     "output_type": "stream",
     "text": [
      "[0.08802207451590849, 0.6587103260963003, 0.8423920162707753, 0.1366048043687048, 0.4909901152991746, 0.6958719816059125, 0.3072708889712126, 0.633555403756345, 0.3084844037115727, 0.39231086917254443]\n"
     ]
    }
   ],
   "source": [
    "# parašyti funkciją, kuri grąžintų nurodyto ilgio sąrašą, užpildytą skaičiais tarp 0 ir 1\n",
    "\n",
    "def binary(l):\n",
    "    return [random.random() for i in range(l)]\n",
    "print(binary(10))"
   ]
  },
  {
   "cell_type": "code",
   "execution_count": 56,
   "metadata": {},
   "outputs": [
    {
     "name": "stdout",
     "output_type": "stream",
     "text": [
      "Ivestas mazesnis skaicius\n",
      "Ivestas mazesnis skaicius\n",
      "Ivestas skaicius yra didesnis\n",
      "Ivestas skaicius yra didesnis\n",
      "Ivestas mazesnis skaicius\n",
      "Ivestas skaicius yra didesnis\n",
      "Ivestas skaicius yra didesnis\n",
      "Ivestas skaicius yra didesnis\n",
      "Ivestas skaicius yra didesnis\n",
      "Ivestas skaicius yra didesnis\n",
      "Ivestas skaicius yra didesnis\n",
      "Ivestas skaicius yra didesnis\n",
      "Ivestas skaicius yra didesnis\n",
      "Ivestas skaicius yra didesnis\n",
      "Ivestas skaicius yra didesnis\n",
      "Ivestas skaicius yra didesnis\n",
      "Ivestas skaicius yra didesnis\n",
      "Ivestas skaicius yra didesnis\n",
      "Atspetas skaicius\n"
     ]
    }
   ],
   "source": [
    "# parašyti su amžinu while ciklu skaičių spėliojimo žaidimą. \n",
    "# Sugeneruojamas skaičius tarp 1 ir 10, vartotojas įveda spėjimą.\n",
    "# Programa pasako, ar įvestas skaičius yra mažesnis, ar didesnis už sugeneruotą skaičių. Programa nutrūksta, kai atspėjamas skaičius. \n",
    "# Papildykite kodu, kuris parašytų, iš kelinto karto buvo atspėtas skaičius.\n",
    "import random\n",
    "def game():\n",
    "    cycles=0\n",
    "    while True:\n",
    "        n=int(input('Number from 1 to 10'))\n",
    "        i=random.randint(1,10)\n",
    "        cycles=+1\n",
    "        if i < n :\n",
    "            print('Ivestas skaicius yra didesnis')\n",
    "    \n",
    "        elif i > n :\n",
    "            print('Ivestas mazesnis skaicius')\n",
    "    \n",
    "        elif i==n:\n",
    "            print('Atspetas skaicius')\n",
    "            print(f'Is {cycles} karto atspetas')\n",
    "            break\n",
    "\n",
    "game()"
   ]
  },
  {
   "cell_type": "code",
   "execution_count": 49,
   "metadata": {},
   "outputs": [
    {
     "name": "stdout",
     "output_type": "stream",
     "text": [
      "[10, 9, 21, 14, 20, 23, 22, 13, 9, 7]\n",
      "[6, 14, 13, 13, 12, 13, 10, 4, 4, 7, 20, 12]\n",
      "Sarasas= [7, 10, 13, 14, 20]\n"
     ]
    }
   ],
   "source": [
    "# 5. Parašyti funkciją, kurioje sugeneruojamos dvi skaičių sekos\n",
    "# (jos gali būti skirtingo dydžio), programa turi grąžinti sąrašą\n",
    "# skaičių, kurie sutampa tarp dviejų sugeneruotu sąrašų,\n",
    "# galutiniame sąraše neturi būti skaičių dublikatų. PVZ: x =[1, 1,\n",
    "# 2, 3, 1] y = [1, 3, 5, 6] atsakymas = [1,3]\n",
    "\n",
    "def lst(l,f,t):\n",
    "    \n",
    "    return [random.randint(f,t) for i in range(l)]\n",
    "\n",
    "def common(list1, list2):\n",
    "\n",
    "    e=set(list1).intersection(set(list2))\n",
    "    return list(e)\n",
    "\n",
    "list1=lst(10,6,25)\n",
    "list2=lst(12,3,20)\n",
    "print(list1)\n",
    "print(list2)\n",
    "list3=common(list1,list2)\n",
    "print('Sarasas=', list3)\n",
    "\n",
    "    "
   ]
  },
  {
   "cell_type": "code",
   "execution_count": null,
   "metadata": {},
   "outputs": [],
   "source": [
    "# Parašykite kodą, kuris sukurtų tekstinį failą iš trijų stulpelių.\n",
    "# Pirmąjame stulpelyje skaičiai nuo 1 iki 25-kių, antrame - atsitiktiniai skaičiau - ribos 10 - 1000,\n",
    "# trečiame stulpelyje - atsitiktiniai skaičiai tarp 1 ir 10, tačiau - float tipo, turintys 4turis ženklus\n",
    "# po kablelio\n",
    "# stulpeliai atskirti viens nuo kito ;\n",
    "# Pavyzdys, kas maždaug turi gautis:\n",
    "1;25;1.4567\n",
    "2;42;7.5213\n",
    "# ir maždaug taip toliau"
   ]
  },
  {
   "cell_type": "code",
   "execution_count": 87,
   "metadata": {},
   "outputs": [
    {
     "name": "stdout",
     "output_type": "stream",
     "text": [
      "None\n"
     ]
    }
   ],
   "source": [
    "import random\n",
    "def funk(file_path, k=25):\n",
    "    with open(r'C:\\Users\\Batia\\Desktop\\text.txt', 'w') as file:\n",
    "        for i in range(1,25 +1):\n",
    "            first=i\n",
    "            second=random.randint(10,1000)\n",
    "            third=round(random.uniform(1,10),4)\n",
    "\n",
    "\n",
    "            file.write(f\"{first};{second};{third}\\n\")\n",
    "            \n",
    "\n",
    "file_path=r'C:\\Users\\Batia\\Desktop\\text.txt'\n",
    "print(funk(file_path, k=25))"
   ]
  },
  {
   "cell_type": "code",
   "execution_count": null,
   "metadata": {},
   "outputs": [],
   "source": [
    "with open(r'C:\\Users\\Batia\\Desktop\\t.txt', 'r') as file:\n",
    "    lines = file.readlines()\n",
    "\n",
    "print(lines) \n",
    "\n",
    "# print(list(map(lambda x:x*2, lines)))\n",
    "\n",
    "for line in  lines:\n",
    "        \n",
    "        n=int(line.strip())\n",
    "        multiply=n*2\n",
    "        \n",
    "        res=n*n\n",
    "        \n",
    "        print(f'{n:3} {multiply:3} {res:3}')\n",
    "\n",
    "\n",
    "        with open(r'C:\\Users\\Batia\\Desktop\\ats1.txt', 'a') as file:\n",
    "            file.write(f'{n:3} {multiply:3} {res:3}\\n')"
   ]
  },
  {
   "cell_type": "code",
   "execution_count": 86,
   "metadata": {},
   "outputs": [
    {
     "name": "stdout",
     "output_type": "stream",
     "text": [
      "[1, 2, 3, 4, 5]\n",
      "5 1\n"
     ]
    }
   ],
   "source": [
    "# high_and_low(\"1 2 3 4 5\")  # return \"5 1\"\n",
    "# high_and_low(\"1 2 -3 4 5\") # return \"5 -3\"\n",
    "# high_and_low(\"1 9 3 4 -5\") # return \"9 -5\"\n",
    "\n",
    "def high_and_low(string):\n",
    "    string=\"1 2 3 4 5\"\n",
    "    x=string.split()\n",
    "\n",
    "    # x=list(string.replace(' ', ','))\n",
    "    num=list(map(int, x))\n",
    "    print(num)\n",
    "    # k=[]\n",
    "    # for i in x:\n",
    "    mx=max(num)\n",
    "    mn=min(num)\n",
    "    #     k.append(i)\n",
    "        \n",
    "    return f'{mx} {mn}'\n",
    "print(high_and_low(\"1 2 3 4 5\"))"
   ]
  },
  {
   "cell_type": "code",
   "execution_count": null,
   "metadata": {},
   "outputs": [],
   "source": [
    "def lst_intersection():\n",
    "    lst1 = []\n",
    "    lst2 = []\n",
    "    i = 0\n",
    "    j = 0\n",
    "    a = random.randint(1, 10)\n",
    "    b = random.randint(1, 10)\n",
    "    while i != a:\n",
    "        lst1.append(random.randint(1, 30))\n",
    "        i+= 1\n",
    "        \n",
    "    while j != b:\n",
    "        lst2.append(random.randint(1, 30))\n",
    "        j+= 1\n",
    "    \n",
    "    \n",
    "    return list(set(lst1).intersection(lst2))"
   ]
  }
 ],
 "metadata": {
  "kernelspec": {
   "display_name": "base",
   "language": "python",
   "name": "python3"
  },
  "language_info": {
   "codemirror_mode": {
    "name": "ipython",
    "version": 3
   },
   "file_extension": ".py",
   "mimetype": "text/x-python",
   "name": "python",
   "nbconvert_exporter": "python",
   "pygments_lexer": "ipython3",
   "version": "3.11.7"
  }
 },
 "nbformat": 4,
 "nbformat_minor": 2
}
