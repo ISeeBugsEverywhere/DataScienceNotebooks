{
 "cells": [
  {
   "cell_type": "code",
   "execution_count": 64,
   "metadata": {},
   "outputs": [
    {
     "name": "stdout",
     "output_type": "stream",
     "text": [
      "False\n"
     ]
    },
    {
     "data": {
      "text/plain": [
       "False"
      ]
     },
     "execution_count": 64,
     "metadata": {},
     "output_type": "execute_result"
    }
   ],
   "source": [
    "#  Parašyti funkciją, kuri patikrintų, ar duotas tekstas \n",
    "# # yra palindromas (palindròmas (gr. palindromos – sugrįžtantis), žodis, \n",
    "# # žodžių grupė, sakinys, posakis ar eilėraštis, \n",
    "# # kuris skaitomas iš galo reiškia tą patį arba bent yra prasmingas.)\n",
    "# # sula - alus, ėmė, savas, sėdėk užu kėdės, level, Hanah.\n",
    "# # Ignoruoti raidžių registrą.\n",
    "# # Turi veikti ir su skaičiais (pvz 12321, 666, 85258, etc.)\n",
    "# # Vieno skaitmens skaičiai neturi būti laikomi palindromais.\n",
    "# # Minuso ženklą - kaip sugalvosite. Mokėti pagrįsti savo sprendimą.\n",
    "\n",
    "\n",
    "\n",
    "def palindromas(text):\n",
    "    text=text.lower().replace('-', '')\n",
    "    text1=''\n",
    "    \n",
    "    # if len(text) >1: \n",
    "    #         True\n",
    "    # else:   \n",
    "    #         False # if not i.isdigit():\n",
    "            \n",
    "    return text1==text1[::-1] if len(text) >1 else False\n",
    "\n",
    "print(palindromas('6'))\n",
    "\n",
    "\n",
    "\n",
    "def is_pal(x):\n",
    "    r = str(x).lower().replace('-','')\n",
    "    p = r == r[::-1] if len(r) > 1 else False\n",
    "    return p\n",
    "\n",
    "is_pal('Hanahf')"
   ]
  },
  {
   "cell_type": "code",
   "execution_count": 65,
   "metadata": {},
   "outputs": [
    {
     "name": "stdout",
     "output_type": "stream",
     "text": [
      "0f\n",
      "5.0\n"
     ]
    }
   ],
   "source": [
    "# parašyti funkciją, kuri suskaičiuotų pateiktų skaičių aritmetinį vidurkį.\n",
    "# Skaičiai pateikiami per *args\n",
    "# skaičiai gali būti kaip tekstai: '1', '2', '3.45280'\n",
    "# jei bent vieno skaičiaus nesugebėjo konvertuoti: turi grąžinti tekstą '0f'\n",
    "# vidurkį pateikti visada 4rių ženklų tikslumu\n",
    "\n",
    "\n",
    "def mean(*args):\n",
    "    numbers=[]\n",
    "    try:\n",
    "        for arg in args:\n",
    "            numbers.append(int(arg))\n",
    "    except:\n",
    "        print('0f')\n",
    "    suma=sum(numbers)\n",
    "    mean= round(suma/len(numbers),4)\n",
    "\n",
    "    return mean\n",
    "\n",
    "print(mean('5', 'three', 3,2,1))\n"
   ]
  },
  {
   "cell_type": "code",
   "execution_count": 86,
   "metadata": {},
   "outputs": [
    {
     "name": "stdout",
     "output_type": "stream",
     "text": [
      "3.5\n"
     ]
    }
   ],
   "source": [
    "def mean(*args):\n",
    "    l=[]\n",
    "    for i in args:\n",
    "        l.append(float(i))\n",
    "    return sum(l)/(len(l))\n",
    "\n",
    "print(mean('5', '4', 3, 2,))"
   ]
  },
  {
   "cell_type": "code",
   "execution_count": 38,
   "metadata": {},
   "outputs": [
    {
     "name": "stdout",
     "output_type": "stream",
     "text": [
      "c:\\Users\\Batia\\courses\\DataScienceNotebooks\\DataScienceNotebooks\\Studentai\\Vladimir\n",
      "['02.ipynb', '03.ipynb', '04.ipynb', '06.ipynb', '07.ipynb', '08.ipynb', '09.ipynb', 'demo.txt', 'f1.txt', 'F2.txt', 'f3.txt', 'first.ipynb', 'Untitled-3.ipynb', 'Vladimir.txt']\n",
      "True\n"
     ]
    }
   ],
   "source": [
    "import os\n",
    "print(os.getcwd())\n",
    "# failo sukūrimas:\n",
    "f = open('demo.txt', mode='w')\n",
    "f.close()\n",
    "print(os.listdir()) # apžvalga failų\n",
    "print(os.path.isfile('demo.txt'))\n",
    "os.rename('demo.txt', 'renamed.txt')\n",
    "os.mkdir('example')"
   ]
  },
  {
   "cell_type": "code",
   "execution_count": 46,
   "metadata": {},
   "outputs": [
    {
     "name": "stdout",
     "output_type": "stream",
     "text": [
      "c:\\Users\\Batia\\courses\\DataScienceNotebooks\\DataScienceNotebooks\\Studentai\\Vladimir\n",
      "['02.ipynb', '03.ipynb', '04.ipynb', '06.ipynb', '07.ipynb', '08.ipynb', '09.ipynb', 'example', 'f1.txt', 'F2.txt', 'f3.txt', 'first.ipynb', 'new', 'renamed.txt', 'Untitled-3.ipynb', 'Vladimir.txt']\n"
     ]
    },
    {
     "ename": "FileExistsError",
     "evalue": "[WinError 183] Cannot create a file when that file already exists: 'new'",
     "output_type": "error",
     "traceback": [
      "\u001b[1;31m---------------------------------------------------------------------------\u001b[0m",
      "\u001b[1;31mFileExistsError\u001b[0m                           Traceback (most recent call last)",
      "Cell \u001b[1;32mIn[46], line 12\u001b[0m\n\u001b[0;32m     10\u001b[0m \u001b[38;5;28mprint\u001b[39m(os\u001b[38;5;241m.\u001b[39mlistdir())\n\u001b[0;32m     11\u001b[0m dir_name\u001b[38;5;241m=\u001b[39m\u001b[38;5;28minput\u001b[39m(\u001b[38;5;124m'\u001b[39m\u001b[38;5;124mIveskite pavadinima\u001b[39m\u001b[38;5;124m'\u001b[39m)\n\u001b[1;32m---> 12\u001b[0m os\u001b[38;5;241m.\u001b[39mmkdir(dir_name)\n\u001b[0;32m     13\u001b[0m \u001b[38;5;28;01mimport\u001b[39;00m \u001b[38;5;21;01mglob\u001b[39;00m\n\u001b[0;32m     14\u001b[0m all_txt \u001b[38;5;241m=\u001b[39m glob\u001b[38;5;241m.\u001b[39mglob(\u001b[38;5;124m'\u001b[39m\u001b[38;5;124m*.txt\u001b[39m\u001b[38;5;124m'\u001b[39m)\n",
      "\u001b[1;31mFileExistsError\u001b[0m: [WinError 183] Cannot create a file when that file already exists: 'new'"
     ]
    }
   ],
   "source": [
    "# Parašykite skriptą, kuris:\n",
    "# • Parodytų failus, esančius darbiniame aplanke\n",
    "# • Sukurtų aplanką, kurio pavadinimą įvestų pats vartotojas\n",
    "# • Surastų visus txt plėtinį turinčius failus ir juos perkeltų į\n",
    "# naująjį aplanką.\n",
    "import glob\n",
    "import shutil\n",
    "import os\n",
    "print(os.getcwd())\n",
    "print(os.listdir())\n",
    "dir_name=input('Iveskite pavadinima')\n",
    "os.mkdir(dir_name)\n",
    "import glob\n",
    "all_txt = glob.glob('*.txt')\n",
    "print(all_txt)\n",
    "for file in all_txt:\n",
    "    dest_path=r'c:\\Users\\Batia\\courses\\DataScienceNotebooks\\DataScienceNotebooks\\Studentai'\n",
    "    shutil.move(file,dest_path)"
   ]
  },
  {
   "cell_type": "code",
   "execution_count": 50,
   "metadata": {},
   "outputs": [
    {
     "name": "stdout",
     "output_type": "stream",
     "text": [
      "[]\n"
     ]
    }
   ],
   "source": [
    "import glob\n",
    "all_txt = glob.glob('*.txt')\n",
    "print(all_txt)\n",
    "for file in all_txt:\n",
    "    dest_path=r'c:\\Users\\Batia\\courses\\DataScienceNotebooks\\DataScienceNotebooks\\Studentai\\Vladimir'\n",
    "    shutil.move(file,dest_path)"
   ]
  },
  {
   "cell_type": "code",
   "execution_count": 77,
   "metadata": {},
   "outputs": [],
   "source": [
    "# Prisikte elkiį darbinį aplanką įvairių failų : paveikslėlių,. csv, tekstinių, docx, pdf failų.\n",
    "# Paklauskite vartotojo aplanko pavadinimo\n",
    "# Sukurkite jį, jame sukurkite kitus atlankus, kurių pavadinimai būtų \n",
    "# 'Tekstiniai failai', 'Paveikslėliai', 'Wordai', 'pdfai'\n",
    "# ir tada surūšiuokite savo susirinktus failus į naujojo aplanko atitinkamus subfolderius.\n",
    "\n",
    "import glob\n",
    "import shutil\n",
    "import os\n",
    "\n",
    "file_path = [\n",
    "    r'C:\\Users\\Batia\\Desktop\\survey_results_public.csv',\n",
    "    r'C:\\Users\\Batia\\Desktop\\Image20240626193657.png',\n",
    "    r'C:\\Users\\Batia\\Desktop\\so_survey_2019.pdf',\n",
    "    r'C:\\Users\\Batia\\Desktop\\README_2019.txt'\n",
    "]\n",
    "destination='c:\\\\Users\\\\Batia\\\\courses\\\\DataScienceNotebooks\\\\DataScienceNotebooks\\\\Studentai\\\\Vladimir'\n",
    "for file in file_path:\n",
    "\n",
    "    shutil.move(file, destination) #darbiniame aplanke failai\n",
    "\n",
    "dir_name=input('Iveskite pavadinima')\n",
    "dir_path = destination + '\\\\' + dir_name\n",
    "os.mkdir(dir_path) #pagrindinis aplankas\n",
    "new_fold=('Tekstiniai failai', 'Paveikslėliai', 'Wordai', 'pdfai')\n",
    "for folder_name in new_fold:\n",
    "    folder_path = dir_path + '\\\\' + folder_name\n",
    "    os.makedirs(folder_path) #subaplankai sukurti pagrindiniame aplanke\n",
    "for file in os.listdir(destination):\n",
    "    file_path = destination + '\\\\' + file #pasiekia failus\n",
    "    if os.path.isfile(file_path):     #patikrina ar yra failai, egzistoja\n",
    "        file_extension = os.path.splitext(file)[1].lower() #istraukia extention is failo pavadinimo ir padaro lowercase, [0]-root, [1]-ext ; \n",
    "        if file_extension in ['.txt', '.csv']:\n",
    "            shutil.move(file_path, dir_path + '\\\\' + 'Tekstiniai failai' + '\\\\' + file)\n",
    "        elif file_extension in ['.jpg', '.jpeg', '.png', '.gif']:\n",
    "            shutil.move(file_path, dir_path + '\\\\' + 'Paveikslėliai' + '\\\\' + file)\n",
    "        elif file_extension in ['.doc', '.docx']:\n",
    "            shutil.move(file_path, dir_path + '\\\\' + 'Wordai' + '\\\\' + file)\n",
    "        elif file_extension == '.pdf':\n",
    "            shutil.move(file_path, dir_path + '\\\\' + 'pdfai' + '\\\\' + file) #perkelia i atitinkamus folderius pagal atititnkamus extentions\n",
    "\n"
   ]
  },
  {
   "cell_type": "code",
   "execution_count": 79,
   "metadata": {},
   "outputs": [],
   "source": [
    "#  Jūs turite aplanką DATA su įvairiais failais. parašykite Python kodą, kuris padarytų šio aplanko kopiją,\n",
    "# # prie kiekvieno failo pavadinimo pradžios pridėdamas po tekstą \"09p_\"\n",
    "\n",
    "import os\n",
    "import shutil\n",
    "import glob\n",
    "\n",
    "sourse_folder=r'C:\\Users\\Batia\\Desktop\\DATA'\n",
    "copy=r'C:\\Users\\Batia\\Desktop\\copyDATA'\n",
    "\n",
    "# os.makedirs(copy)\n",
    "shutil.copytree(sourse_folder, copy) #daro kopija folderio DATA, visa saka\n",
    "for file_name in os.listdir(copy): #iterates tarp failu copyDATA folderije\n",
    "        new_name =\"09p_\" + file_name #padaro naujus failu pavadinimus\n",
    "        os.rename(copy + '\\\\' + file_name, copy + '\\\\' + new_name) #pervardina failu pavadinimus"
   ]
  },
  {
   "cell_type": "code",
   "execution_count": 8,
   "metadata": {},
   "outputs": [
    {
     "ename": "OSError",
     "evalue": "[WinError 123] The filename, directory name, or volume label syntax is incorrect: \"r'C:\\\\Users\\\\Batia\\\\Desktop\\\\DeletedFold'\"",
     "output_type": "error",
     "traceback": [
      "\u001b[1;31m---------------------------------------------------------------------------\u001b[0m",
      "\u001b[1;31mOSError\u001b[0m                                   Traceback (most recent call last)",
      "Cell \u001b[1;32mIn[8], line 31\u001b[0m\n\u001b[0;32m     28\u001b[0m     \u001b[38;5;28;01mreturn\u001b[39;00m deleted_files, deleted_dirs\n\u001b[0;32m     30\u001b[0m del_dir\u001b[38;5;241m=\u001b[39m\u001b[38;5;28minput\u001b[39m(\u001b[38;5;124m\"\u001b[39m\u001b[38;5;124mIveskite pavadinima arba kelia\u001b[39m\u001b[38;5;124m\"\u001b[39m)\u001b[38;5;241m.\u001b[39mstrip()\n\u001b[1;32m---> 31\u001b[0m deleted_files, deleted_dirs \u001b[38;5;241m=\u001b[39m delete_and_count_deleted(del_dir)\n\u001b[0;32m     33\u001b[0m \u001b[38;5;28mprint\u001b[39m(\u001b[38;5;124mf\u001b[39m\u001b[38;5;124m\"\u001b[39m\u001b[38;5;124mDeleted \u001b[39m\u001b[38;5;132;01m{\u001b[39;00mdeleted_files\u001b[38;5;132;01m}\u001b[39;00m\u001b[38;5;124m files and \u001b[39m\u001b[38;5;132;01m{\u001b[39;00mdeleted_dirs\u001b[38;5;132;01m}\u001b[39;00m\u001b[38;5;124m directories.\u001b[39m\u001b[38;5;124m\"\u001b[39m)\n",
      "Cell \u001b[1;32mIn[8], line 22\u001b[0m, in \u001b[0;36mdelete_and_count_deleted\u001b[1;34m(dir_name)\u001b[0m\n\u001b[0;32m     19\u001b[0m \u001b[38;5;28;01mdef\u001b[39;00m \u001b[38;5;21mdelete_and_count_deleted\u001b[39m(dir_name):\n\u001b[0;32m     20\u001b[0m     num_files_before, num_dirs_before \u001b[38;5;241m=\u001b[39m count_files_and_directories(dir_name) \u001b[38;5;66;03m#suskaiciuoti failus pries issitrinima\u001b[39;00m\n\u001b[1;32m---> 22\u001b[0m     shutil\u001b[38;5;241m.\u001b[39mrmtree(dir_name) \u001b[38;5;66;03m#istrina failus, dir\u001b[39;00m\n\u001b[0;32m     23\u001b[0m     num_files_after, num_dirs_after \u001b[38;5;241m=\u001b[39m count_files_and_directories(dir_name) \u001b[38;5;66;03m#suskaiciuoja failus, dir, po issitrinimo\u001b[39;00m\n\u001b[0;32m     25\u001b[0m     deleted_files \u001b[38;5;241m=\u001b[39m num_files_before \u001b[38;5;241m-\u001b[39m num_files_after \u001b[38;5;66;03m#suskaiciuoja istrintus failus ir dir\u001b[39;00m\n",
      "File \u001b[1;32mc:\\Users\\Batia\\anaconda3\\Lib\\shutil.py:759\u001b[0m, in \u001b[0;36mrmtree\u001b[1;34m(path, ignore_errors, onerror, dir_fd)\u001b[0m\n\u001b[0;32m    757\u001b[0m     \u001b[38;5;66;03m# can't continue even if onerror hook returns\u001b[39;00m\n\u001b[0;32m    758\u001b[0m     \u001b[38;5;28;01mreturn\u001b[39;00m\n\u001b[1;32m--> 759\u001b[0m \u001b[38;5;28;01mreturn\u001b[39;00m _rmtree_unsafe(path, onerror)\n",
      "File \u001b[1;32mc:\\Users\\Batia\\anaconda3\\Lib\\shutil.py:603\u001b[0m, in \u001b[0;36m_rmtree_unsafe\u001b[1;34m(path, onerror)\u001b[0m\n\u001b[0;32m    601\u001b[0m         entries \u001b[38;5;241m=\u001b[39m \u001b[38;5;28mlist\u001b[39m(scandir_it)\n\u001b[0;32m    602\u001b[0m \u001b[38;5;28;01mexcept\u001b[39;00m \u001b[38;5;167;01mOSError\u001b[39;00m:\n\u001b[1;32m--> 603\u001b[0m     onerror(os\u001b[38;5;241m.\u001b[39mscandir, path, sys\u001b[38;5;241m.\u001b[39mexc_info())\n\u001b[0;32m    604\u001b[0m     entries \u001b[38;5;241m=\u001b[39m []\n\u001b[0;32m    605\u001b[0m \u001b[38;5;28;01mfor\u001b[39;00m entry \u001b[38;5;129;01min\u001b[39;00m entries:\n",
      "File \u001b[1;32mc:\\Users\\Batia\\anaconda3\\Lib\\shutil.py:600\u001b[0m, in \u001b[0;36m_rmtree_unsafe\u001b[1;34m(path, onerror)\u001b[0m\n\u001b[0;32m    598\u001b[0m \u001b[38;5;28;01mdef\u001b[39;00m \u001b[38;5;21m_rmtree_unsafe\u001b[39m(path, onerror):\n\u001b[0;32m    599\u001b[0m     \u001b[38;5;28;01mtry\u001b[39;00m:\n\u001b[1;32m--> 600\u001b[0m         \u001b[38;5;28;01mwith\u001b[39;00m os\u001b[38;5;241m.\u001b[39mscandir(path) \u001b[38;5;28;01mas\u001b[39;00m scandir_it:\n\u001b[0;32m    601\u001b[0m             entries \u001b[38;5;241m=\u001b[39m \u001b[38;5;28mlist\u001b[39m(scandir_it)\n\u001b[0;32m    602\u001b[0m     \u001b[38;5;28;01mexcept\u001b[39;00m \u001b[38;5;167;01mOSError\u001b[39;00m:\n",
      "\u001b[1;31mOSError\u001b[0m: [WinError 123] The filename, directory name, or volume label syntax is incorrect: \"r'C:\\\\Users\\\\Batia\\\\Desktop\\\\DeletedFold'\""
     ]
    }
   ],
   "source": [
    "# Parašykite kodą, kuris ištrintų aplanką, kurio pavadinimą (arba kelią iki jo) \n",
    "# įveda vartotojas.\n",
    "# Kartu parašykite, kiek failų ištrynė jūsų kodas\n",
    "r'C:\\Users\\Batia\\Desktop\\DeletedFold'\n",
    "import os\n",
    "import shutil\n",
    "import glob\n",
    "\n",
    "\n",
    "\n",
    "def count_files_and_directories(dir_name):  #suskaiciuoja kiek failu ir dir sitoje directorijoje\n",
    "    num_files = 0\n",
    "    num_dirs = 0\n",
    "    for root, dirs, files in os.walk(dir_name):\n",
    "        num_files += len(files)\n",
    "        num_dirs += len(dirs)\n",
    "    return num_files, num_dirs\n",
    "\n",
    "def delete_and_count_deleted(dir_name):\n",
    "    num_files_before, num_dirs_before = count_files_and_directories(dir_name) #suskaiciuoti failus pries issitrinima\n",
    "\n",
    "    shutil.rmtree(dir_name) #istrina failus, dir\n",
    "    num_files_after, num_dirs_after = count_files_and_directories(dir_name) #suskaiciuoja failus, dir, po issitrinimo\n",
    "\n",
    "    deleted_files = num_files_before - num_files_after #suskaiciuoja istrintus failus ir dir\n",
    "    deleted_dirs = num_dirs_before - num_dirs_after\n",
    "\n",
    "    return deleted_files, deleted_dirs\n",
    "\n",
    "del_dir=input(\"Iveskite pavadinima arba kelia\").strip()\n",
    "deleted_files, deleted_dirs = delete_and_count_deleted(del_dir)\n",
    "\n",
    "print(f\"Deleted {deleted_files} files and {deleted_dirs} directories.\")\n"
   ]
  },
  {
   "cell_type": "code",
   "execution_count": null,
   "metadata": {},
   "outputs": [],
   "source": [
    "# Parašykite kodą, kuris sukurtų jums tekstinį failą, kurio pavadinimą jūs įvedate.\n",
    "# Prieš kurdami, patikrinkite, ar toks failas neegzistuoja.\n",
    "# jei egzistuoa - praneškite, jog 'failas jau yra tokiu pavadinimu'.\n",
    "\n",
    "def create_file(file_name):\n",
    "    if os.path.exists(file_name):  #patikrina ar yra toks failas\n",
    "        print('failas jau yra tokiu pavadinimu')\n",
    "    else:\n",
    "\n",
    "        with open(file_name, 'w') as file: #sukuria nauja faila\n",
    "            file.write('New file')\n",
    "file_name = input(\"Iveskite failo pavadinima, .txt \")"
   ]
  },
  {
   "cell_type": "code",
   "execution_count": 95,
   "metadata": {},
   "outputs": [
    {
     "name": "stdout",
     "output_type": "stream",
     "text": [
      "Vyru buvo 27 ir moteru buvo 10\n",
      "Vidutinis amzius : 35.7\n",
      "Pasisalino: 10\n"
     ]
    }
   ],
   "source": [
    "# kiek čia buvo vyrų, moterų, koks jų buvo vidutinis amžius, kiek kaltininkų pasišalino?\n",
    "data = [\n",
    "    [{'dalyvisId': 47756477, 'kategorija': 'Automobilio vairuotojas', 'dalyvioTipas': 'Kitas asmuo', 'pasisalino': 'Ne', 'asmuoNezinomas': 'Ne', 'lytis': 'Moteris', 'pilietybe': None, 'amzius': 19, 'neigalumas': 'Ne', 'saugosDirzas': 'Užsegtas', 'vaikoKedesNaudojimas': None, 'saugosSalmoNaudojimas': None, 'oroPagalves': 'Nesuveikė', 'bukle': 'Nenukentėjo', 'detaliBukle': None, 'suzalojimoMastas': None, 'vairuotojoKvalifikacija': 'Atitinka', 'vairavimoStazas': 0, 'busena': 'Blaivus', 'detaliBusena': None, 'papBusena': None, 'detaliPapBusena': None, 'kaltininkas': 'Taip', 'girtumasPromilemis': None, 'dalyvioBusena': 'KALTININKAS', 'teisenosStadijaBusena': 'ADMINISTRACINIS', 'dalyvioKetPazeidimai': ['Kiti Kelių eismo taisyklių pažeidimai'], 'tpId': 32912177}],\n",
    "[{'dalyvisId': 47759080, 'kategorija': 'Automobilio vairuotojas', 'dalyvioTipas': None, 'pasisalino': 'Ne', 'asmuoNezinomas': 'Taip', 'lytis': None, 'pilietybe': None, 'amzius': None, 'neigalumas': None, 'saugosDirzas': None, 'vaikoKedesNaudojimas': None, 'saugosSalmoNaudojimas': None, 'oroPagalves': None, 'bukle': None, 'detaliBukle': None, 'suzalojimoMastas': None, 'vairuotojoKvalifikacija': None, 'vairavimoStazas': None, 'busena': None, 'detaliBusena': None, 'papBusena': None, 'detaliPapBusena': None, 'kaltininkas': 'Ne', 'girtumasPromilemis': None, 'dalyvioBusena': 'NEPAZEIDE', 'teisenosStadijaBusena': None, 'dalyvioKetPazeidimai': [], 'tpId': 32913457}, {'dalyvisId': 47759079, 'kategorija': 'Automobilio vairuotojas', 'dalyvioTipas': 'Kitas asmuo', 'pasisalino': 'Ne', 'asmuoNezinomas': 'Ne', 'lytis': 'Vyras', 'pilietybe': None, 'amzius': 18, 'neigalumas': 'Ne', 'saugosDirzas': 'Užsegtas', 'vaikoKedesNaudojimas': None, 'saugosSalmoNaudojimas': None, 'oroPagalves': 'Nesuveikė', 'bukle': 'Nenukentėjo', 'detaliBukle': None, 'suzalojimoMastas': None, 'vairuotojoKvalifikacija': 'Atitinka', 'vairavimoStazas': 0, 'busena': 'Blaivus', 'detaliBusena': None, 'papBusena': None, 'detaliPapBusena': None, 'kaltininkas': 'Taip', 'girtumasPromilemis': None, 'dalyvioBusena': 'KALTININKAS', 'teisenosStadijaBusena': 'ADMINISTRACINIS', 'dalyvioKetPazeidimai': ['Saugaus atstumo nesilaikymas'], 'tpId': 32913456}],\n",
    "[{'dalyvisId': 47756490, 'kategorija': 'Automobilio vairuotojas', 'dalyvioTipas': 'Kitas asmuo', 'pasisalino': 'Ne', 'asmuoNezinomas': 'Ne', 'lytis': 'Moteris', 'pilietybe': None, 'amzius': 39, 'neigalumas': 'Ne', 'saugosDirzas': 'Užsegtas', 'vaikoKedesNaudojimas': None, 'saugosSalmoNaudojimas': None, 'oroPagalves': 'Nesuveikė', 'bukle': 'Nenukentėjo', 'detaliBukle': None, 'suzalojimoMastas': None, 'vairuotojoKvalifikacija': 'Atitinka', 'vairavimoStazas': 13, 'busena': 'Blaivus', 'detaliBusena': None, 'papBusena': None, 'detaliPapBusena': None, 'kaltininkas': 'Ne', 'girtumasPromilemis': None, 'dalyvioBusena': 'NEPAZEIDE', 'teisenosStadijaBusena': None, 'dalyvioKetPazeidimai': [], 'tpId': 32912184}],\n",
    "[{'dalyvisId': 48447053, 'kategorija': 'Automobilio vairuotojas', 'dalyvioTipas': 'Kitas asmuo', 'pasisalino': 'Ne', 'asmuoNezinomas': 'Ne', 'lytis': 'Moteris', 'pilietybe': None, 'amzius': 48, 'neigalumas': 'Ne', 'saugosDirzas': 'Užsegtas', 'vaikoKedesNaudojimas': None, 'saugosSalmoNaudojimas': None, 'oroPagalves': 'Nesuveikė', 'bukle': 'Nenukentėjo', 'detaliBukle': None, 'suzalojimoMastas': None, 'vairuotojoKvalifikacija': 'Atitinka', 'vairavimoStazas': 25, 'busena': 'Blaivus', 'detaliBusena': None, 'papBusena': None, 'detaliPapBusena': None, 'kaltininkas': 'Taip', 'girtumasPromilemis': None, 'dalyvioBusena': 'KALTININKAS', 'teisenosStadijaBusena': 'ADMINISTRACINIS', 'dalyvioKetPazeidimai': ['Saugaus greičio nepasirinkimas'], 'tpId': 33386413}],\n",
    "[{'dalyvisId': 47756497, 'kategorija': 'Automobilio vairuotojas', 'dalyvioTipas': 'Kitas asmuo', 'pasisalino': 'Taip', 'asmuoNezinomas': 'Ne', 'lytis': 'Vyras', 'pilietybe': None, 'amzius': 31, 'neigalumas': 'Ne', 'saugosDirzas': 'Užsegtas', 'vaikoKedesNaudojimas': None, 'saugosSalmoNaudojimas': None, 'oroPagalves': 'Nesuveikė', 'bukle': 'Nenukentėjo', 'detaliBukle': None, 'suzalojimoMastas': None, 'vairuotojoKvalifikacija': 'Atitinka', 'vairavimoStazas': 5, 'busena': 'Neblaivus', 'detaliBusena': 'Lengvas neblaivumo (girtumo) laipsnis', 'papBusena': None, 'detaliPapBusena': None, 'kaltininkas': 'Taip', 'girtumasPromilemis': 1.48, 'dalyvioBusena': 'KALTININKAS', 'teisenosStadijaBusena': 'ADMINISTRACINIS', 'dalyvioKetPazeidimai': ['Saugaus greičio nepasirinkimas'], 'tpId': 32912187}],\n",
    "[{'dalyvisId': 47759516, 'kategorija': 'Automobilio vairuotojas', 'dalyvioTipas': 'Kitas asmuo', 'pasisalino': 'Ne', 'asmuoNezinomas': 'Ne', 'lytis': 'Vyras', 'pilietybe': None, 'amzius': 18, 'neigalumas': 'Ne', 'saugosDirzas': 'Užsegtas', 'vaikoKedesNaudojimas': None, 'saugosSalmoNaudojimas': None, 'oroPagalves': 'Nesuveikė', 'bukle': 'Nenukentėjo', 'detaliBukle': None, 'suzalojimoMastas': None, 'vairuotojoKvalifikacija': 'Neturi teisės vairuoti', 'vairavimoStazas': 0, 'busena': 'Neblaivus', 'detaliBusena': 'Lengvas neblaivumo (girtumo) laipsnis', 'papBusena': None, 'detaliPapBusena': None, 'kaltininkas': 'Taip', 'girtumasPromilemis': 0.78, 'dalyvioBusena': 'KALTININKAS', 'teisenosStadijaBusena': 'ADMINISTRACINIS', 'dalyvioKetPazeidimai': ['Kiti Kelių eismo taisyklių pažeidimai'], 'tpId': 32913682}],\n",
    "[{'dalyvisId': 47808609, 'kategorija': 'Automobilio vairuotojas', 'dalyvioTipas': 'Kitas asmuo', 'pasisalino': 'Ne', 'asmuoNezinomas': 'Ne', 'lytis': 'Vyras', 'pilietybe': None, 'amzius': 53, 'neigalumas': 'Ne', 'saugosDirzas': 'Užsegtas', 'vaikoKedesNaudojimas': None, 'saugosSalmoNaudojimas': None, 'oroPagalves': 'Neįrengta', 'bukle': 'Sužeistas', 'detaliBukle': 'Gydomas ambulatoriškai', 'suzalojimoMastas': 'Atsisakyta nustatyti sveikatos sutrikdymo mastą', 'vairuotojoKvalifikacija': 'Atitinka', 'vairavimoStazas': 18, 'busena': 'Blaivus', 'detaliBusena': None, 'papBusena': None, 'detaliPapBusena': None, 'kaltininkas': 'Taip', 'girtumasPromilemis': None, 'dalyvioBusena': 'KALTININKAS', 'teisenosStadijaBusena': 'ADMINISTRACINIS', 'dalyvioKetPazeidimai': ['Saugaus greičio nepasirinkimas'], 'tpId': 32939779}, {'dalyvisId': 47808610, 'kategorija': 'Keleivis', 'dalyvioTipas': 'Kitas asmuo', 'pasisalino': 'Ne', 'asmuoNezinomas': 'Ne', 'lytis': 'Vyras', 'pilietybe': None, 'amzius': 34, 'neigalumas': 'Ne', 'saugosDirzas': 'Užsegtas', 'vaikoKedesNaudojimas': None, 'saugosSalmoNaudojimas': None, 'oroPagalves': 'Neįrengta', 'bukle': 'Sužeistas', 'detaliBukle': 'Gydomas ambulatoriškai', 'suzalojimoMastas': 'Nežymus sveikatos sutrikdymas', 'vairuotojoKvalifikacija': None, 'vairavimoStazas': None, 'busena': 'Blaivus', 'detaliBusena': None, 'papBusena': None, 'detaliPapBusena': None, 'kaltininkas': 'Ne', 'girtumasPromilemis': None, 'dalyvioBusena': 'NEPAZEIDE', 'teisenosStadijaBusena': None, 'dalyvioKetPazeidimai': [], 'tpId': 32939779}],\n",
    "[{'dalyvisId': 47756539, 'kategorija': 'Automobilio vairuotojas', 'dalyvioTipas': 'Kitas asmuo', 'pasisalino': 'Ne', 'asmuoNezinomas': 'Ne', 'lytis': 'Vyras', 'pilietybe': None, 'amzius': 27, 'neigalumas': 'Ne', 'saugosDirzas': 'Užsegtas', 'vaikoKedesNaudojimas': None, 'saugosSalmoNaudojimas': None, 'oroPagalves': 'Nesuveikė', 'bukle': 'Nenukentėjo', 'detaliBukle': None, 'suzalojimoMastas': None, 'vairuotojoKvalifikacija': 'Atitinka', 'vairavimoStazas': 0, 'busena': 'Neblaivus', 'detaliBusena': 'Vidutinis neblaivumo (girtumo) laipsnis', 'papBusena': None, 'detaliPapBusena': None, 'kaltininkas': 'Taip', 'girtumasPromilemis': 2, 'dalyvioBusena': 'KALTININKAS', 'teisenosStadijaBusena': 'ADMINISTRACINIS', 'dalyvioKetPazeidimai': ['Saugaus atstumo nesilaikymas'], 'tpId': 32912212}],\n",
    "[{'dalyvisId': 47870990, 'kategorija': 'Automobilio vairuotojas', 'dalyvioTipas': 'Kitas asmuo', 'pasisalino': 'Taip', 'asmuoNezinomas': 'Ne', 'lytis': 'Vyras', 'pilietybe': None, 'amzius': 29, 'neigalumas': 'Ne', 'saugosDirzas': None, 'vaikoKedesNaudojimas': None, 'saugosSalmoNaudojimas': None, 'oroPagalves': None, 'bukle': 'Nenukentėjo', 'detaliBukle': None, 'suzalojimoMastas': None, 'vairuotojoKvalifikacija': 'Atitinka', 'vairavimoStazas': 11, 'busena': 'Blaivus', 'detaliBusena': None, 'papBusena': None, 'detaliPapBusena': None, 'kaltininkas': 'Taip', 'girtumasPromilemis': None, 'dalyvioBusena': 'KALTININKAS', 'teisenosStadijaBusena': 'ADMINISTRACINIS', 'dalyvioKetPazeidimai': ['Saugaus greičio nepasirinkimas'], 'tpId': 32972622}],\n",
    "[{'dalyvisId': 47767352, 'kategorija': 'Automobilio vairuotojas', 'dalyvioTipas': 'Kitas asmuo', 'pasisalino': 'Ne', 'asmuoNezinomas': 'Ne', 'lytis': 'Vyras', 'pilietybe': None, 'amzius': 38, 'neigalumas': 'Ne', 'saugosDirzas': 'Neužsegtas', 'vaikoKedesNaudojimas': None, 'saugosSalmoNaudojimas': None, 'oroPagalves': 'Nesuveikė', 'bukle': 'Nenukentėjo', 'detaliBukle': None, 'suzalojimoMastas': None, 'vairuotojoKvalifikacija': 'Atitinka', 'vairavimoStazas': 18, 'busena': 'Blaivus', 'detaliBusena': None, 'papBusena': None, 'detaliPapBusena': None, 'kaltininkas': 'Ne', 'girtumasPromilemis': None, 'dalyvioBusena': 'NEPAZEIDE', 'teisenosStadijaBusena': None, 'dalyvioKetPazeidimai': [], 'tpId': 32917786}, {'dalyvisId': 47767353, 'kategorija': 'Automobilio vairuotojas', 'dalyvioTipas': None, 'pasisalino': 'Taip', 'asmuoNezinomas': 'Taip', 'lytis': None, 'pilietybe': None, 'amzius': None, 'neigalumas': None, 'saugosDirzas': None, 'vaikoKedesNaudojimas': None, 'saugosSalmoNaudojimas': None, 'oroPagalves': None, 'bukle': None, 'detaliBukle': None, 'suzalojimoMastas': None, 'vairuotojoKvalifikacija': None, 'vairavimoStazas': None, 'busena': None, 'detaliBusena': None, 'papBusena': None, 'detaliPapBusena': None, 'kaltininkas': 'Taip', 'girtumasPromilemis': None, 'dalyvioBusena': 'KALTININKAS', 'teisenosStadijaBusena': 'ADMINISTRACINIS', 'dalyvioKetPazeidimai': ['Saugaus atstumo nesilaikymas'], 'tpId': 32917787}],\n",
    "[{'dalyvisId': 47756551, 'kategorija': 'Automobilio vairuotojas', 'dalyvioTipas': 'Kitas asmuo', 'pasisalino': 'Ne', 'asmuoNezinomas': 'Ne', 'lytis': 'Vyras', 'pilietybe': None, 'amzius': 35, 'neigalumas': 'Ne', 'saugosDirzas': 'Užsegtas', 'vaikoKedesNaudojimas': None, 'saugosSalmoNaudojimas': None, 'oroPagalves': 'Nesuveikė', 'bukle': 'Nenukentėjo', 'detaliBukle': None, 'suzalojimoMastas': None, 'vairuotojoKvalifikacija': 'Atitinka', 'vairavimoStazas': 10, 'busena': 'Blaivus', 'detaliBusena': None, 'papBusena': None, 'detaliPapBusena': None, 'kaltininkas': 'Ne', 'girtumasPromilemis': None, 'dalyvioBusena': 'NEPAZEIDE', 'teisenosStadijaBusena': None, 'dalyvioKetPazeidimai': [], 'tpId': 32912217}],\n",
    "[{'dalyvisId': 47756561, 'kategorija': 'Automobilio vairuotojas', 'dalyvioTipas': 'Kitas asmuo', 'pasisalino': 'Ne', 'asmuoNezinomas': 'Ne', 'lytis': 'Vyras', 'pilietybe': None, 'amzius': 36, 'neigalumas': 'Ne', 'saugosDirzas': 'Užsegtas', 'vaikoKedesNaudojimas': None, 'saugosSalmoNaudojimas': None, 'oroPagalves': 'Nesuveikė', 'bukle': 'Nenukentėjo', 'detaliBukle': None, 'suzalojimoMastas': None, 'vairuotojoKvalifikacija': 'Atitinka', 'vairavimoStazas': 15, 'busena': 'Blaivus', 'detaliBusena': None, 'papBusena': None, 'detaliPapBusena': None, 'kaltininkas': 'Ne', 'girtumasPromilemis': None, 'dalyvioBusena': 'NEPAZEIDE', 'teisenosStadijaBusena': None, 'dalyvioKetPazeidimai': [], 'tpId': 32912221}],\n",
    "[{'dalyvisId': 47756590, 'kategorija': None, 'dalyvioTipas': None, 'pasisalino': 'Taip', 'asmuoNezinomas': 'Taip', 'lytis': None, 'pilietybe': None, 'amzius': None, 'neigalumas': None, 'saugosDirzas': None, 'vaikoKedesNaudojimas': None, 'saugosSalmoNaudojimas': None, 'oroPagalves': None, 'bukle': None, 'detaliBukle': None, 'suzalojimoMastas': None, 'vairuotojoKvalifikacija': None, 'vairavimoStazas': None, 'busena': None, 'detaliBusena': None, 'papBusena': None, 'detaliPapBusena': None, 'kaltininkas': 'Taip', 'girtumasPromilemis': None, 'dalyvioBusena': 'GALIMAS_KALTININKAS', 'teisenosStadijaBusena': None, 'dalyvioKetPazeidimai': ['Saugaus atstumo nesilaikymas'], 'tpId': 32912237}, {'dalyvisId': 47756589, 'kategorija': 'Kiti', 'dalyvioTipas': 'Kitas asmuo', 'pasisalino': 'Ne', 'asmuoNezinomas': 'Ne', 'lytis': 'Moteris', 'pilietybe': None, 'amzius': 32, 'neigalumas': 'Ne', 'saugosDirzas': None, 'vaikoKedesNaudojimas': None, 'saugosSalmoNaudojimas': None, 'oroPagalves': None, 'bukle': 'Nenukentėjo', 'detaliBukle': None, 'suzalojimoMastas': None, 'vairuotojoKvalifikacija': None, 'vairavimoStazas': None, 'busena': 'Blaivus', 'detaliBusena': None, 'papBusena': None, 'detaliPapBusena': None, 'kaltininkas': 'Ne', 'girtumasPromilemis': None, 'dalyvioBusena': 'NEPAZEIDE', 'teisenosStadijaBusena': None, 'dalyvioKetPazeidimai': [], 'tpId': None}],\n",
    "[{'dalyvisId': 47798291, 'kategorija': 'Kiti', 'dalyvioTipas': 'Kitas asmuo', 'pasisalino': 'Ne', 'asmuoNezinomas': 'Ne', 'lytis': 'Vyras', 'pilietybe': None, 'amzius': 28, 'neigalumas': 'Ne', 'saugosDirzas': None, 'vaikoKedesNaudojimas': None, 'saugosSalmoNaudojimas': None, 'oroPagalves': None, 'bukle': 'Nenukentėjo', 'detaliBukle': None, 'suzalojimoMastas': None, 'vairuotojoKvalifikacija': None, 'vairavimoStazas': None, 'busena': 'Blaivus', 'detaliBusena': None, 'papBusena': None, 'detaliPapBusena': None, 'kaltininkas': 'Ne', 'girtumasPromilemis': None, 'dalyvioBusena': 'NEPAZEIDE', 'teisenosStadijaBusena': None, 'dalyvioKetPazeidimai': [], 'tpId': None}, {'dalyvisId': 47798292, 'kategorija': 'Automobilio vairuotojas', 'dalyvioTipas': 'Kitas asmuo', 'pasisalino': 'Ne', 'asmuoNezinomas': 'Ne', 'lytis': 'Vyras', 'pilietybe': None, 'amzius': 29, 'neigalumas': 'Ne', 'saugosDirzas': 'Užsegtas', 'vaikoKedesNaudojimas': None, 'saugosSalmoNaudojimas': None, 'oroPagalves': 'Nesuveikė', 'bukle': 'Nenukentėjo', 'detaliBukle': None, 'suzalojimoMastas': None, 'vairuotojoKvalifikacija': 'Neturi teisės vairuoti', 'vairavimoStazas': None, 'busena': 'Neblaivus', 'detaliBusena': None, 'papBusena': None, 'detaliPapBusena': None, 'kaltininkas': 'Taip', 'girtumasPromilemis': 1.5, 'dalyvioBusena': 'KALTININKAS', 'teisenosStadijaBusena': 'ADMINISTRACINIS', 'dalyvioKetPazeidimai': ['Saugaus atstumo nesilaikymas'], 'tpId': 32934169}],\n",
    "[{'dalyvisId': 47756953, 'kategorija': 'Automobilio vairuotojas', 'dalyvioTipas': 'Kitas asmuo', 'pasisalino': 'Ne', 'asmuoNezinomas': 'Ne', 'lytis': 'Vyras', 'pilietybe': None, 'amzius': 26, 'neigalumas': 'Ne', 'saugosDirzas': 'Užsegtas', 'vaikoKedesNaudojimas': None, 'saugosSalmoNaudojimas': None, 'oroPagalves': 'Nesuveikė', 'bukle': 'Nenukentėjo', 'detaliBukle': None, 'suzalojimoMastas': None, 'vairuotojoKvalifikacija': 'Atitinka', 'vairavimoStazas': 6, 'busena': 'Neblaivus', 'detaliBusena': None, 'papBusena': None, 'detaliPapBusena': None, 'kaltininkas': 'Taip', 'girtumasPromilemis': 1.52, 'dalyvioBusena': 'KALTININKAS', 'teisenosStadijaBusena': 'ADMINISTRACINIS', 'dalyvioKetPazeidimai': ['Saugaus greičio nepasirinkimas'], 'tpId': 32912411}],\n",
    "[{'dalyvisId': 47756607, 'kategorija': 'Automobilio vairuotojas', 'dalyvioTipas': 'Kitas asmuo', 'pasisalino': 'Ne', 'asmuoNezinomas': 'Ne', 'lytis': 'Moteris', 'pilietybe': None, 'amzius': 50, 'neigalumas': 'Ne', 'saugosDirzas': 'Užsegtas', 'vaikoKedesNaudojimas': None, 'saugosSalmoNaudojimas': None, 'oroPagalves': 'Nesuveikė', 'bukle': 'Nenukentėjo', 'detaliBukle': None, 'suzalojimoMastas': None, 'vairuotojoKvalifikacija': 'Atitinka', 'vairavimoStazas': 31, 'busena': 'Blaivus', 'detaliBusena': None, 'papBusena': None, 'detaliPapBusena': None, 'kaltininkas': 'Ne', 'girtumasPromilemis': None, 'dalyvioBusena': 'NEPAZEIDE', 'teisenosStadijaBusena': None, 'dalyvioKetPazeidimai': [], 'tpId': 32912246}],\n",
    "[{'dalyvisId': 47756632, 'kategorija': 'Automobilio vairuotojas', 'dalyvioTipas': None, 'pasisalino': 'Ne', 'asmuoNezinomas': 'Taip', 'lytis': None, 'pilietybe': None, 'amzius': None, 'neigalumas': None, 'saugosDirzas': None, 'vaikoKedesNaudojimas': None, 'saugosSalmoNaudojimas': None, 'oroPagalves': None, 'bukle': None, 'detaliBukle': None, 'suzalojimoMastas': None, 'vairuotojoKvalifikacija': None, 'vairavimoStazas': None, 'busena': None, 'detaliBusena': None, 'papBusena': None, 'detaliPapBusena': None, 'kaltininkas': 'Ne', 'girtumasPromilemis': None, 'dalyvioBusena': 'NEPAZEIDE', 'teisenosStadijaBusena': None, 'dalyvioKetPazeidimai': [], 'tpId': 32912259}, {'dalyvisId': 47756629, 'kategorija': 'Automobilio vairuotojas', 'dalyvioTipas': 'Kitas asmuo', 'pasisalino': 'Taip', 'asmuoNezinomas': 'Ne', 'lytis': 'Vyras', 'pilietybe': None, 'amzius': 25, 'neigalumas': 'Ne', 'saugosDirzas': 'Užsegtas', 'vaikoKedesNaudojimas': None, 'saugosSalmoNaudojimas': None, 'oroPagalves': 'Nesuveikė', 'bukle': 'Nenukentėjo', 'detaliBukle': None, 'suzalojimoMastas': None, 'vairuotojoKvalifikacija': 'Neturi teisės vairuoti', 'vairavimoStazas': None, 'busena': 'Neblaivus', 'detaliBusena': 'Vidutinis neblaivumo (girtumo) laipsnis', 'papBusena': None, 'detaliPapBusena': None, 'kaltininkas': 'Taip', 'girtumasPromilemis': 2.15, 'dalyvioBusena': 'KALTININKAS', 'teisenosStadijaBusena': 'ADMINISTRACINIS', 'dalyvioKetPazeidimai': ['Saugaus atstumo nesilaikymas'], 'tpId': 32912258}],\n",
    "[{'dalyvisId': 47767014, 'kategorija': None, 'dalyvioTipas': None, 'pasisalino': 'Taip', 'asmuoNezinomas': 'Taip', 'lytis': None, 'pilietybe': None, 'amzius': None, 'neigalumas': None, 'saugosDirzas': None, 'vaikoKedesNaudojimas': None, 'saugosSalmoNaudojimas': None, 'oroPagalves': None, 'bukle': None, 'detaliBukle': None, 'suzalojimoMastas': None, 'vairuotojoKvalifikacija': None, 'vairavimoStazas': None, 'busena': None, 'detaliBusena': None, 'papBusena': None, 'detaliPapBusena': None, 'kaltininkas': 'Taip', 'girtumasPromilemis': None, 'dalyvioBusena': 'GALIMAS_KALTININKAS', 'teisenosStadijaBusena': None, 'dalyvioKetPazeidimai': ['Saugaus atstumo nesilaikymas'], 'tpId': 32917607}],\n",
    "[{'dalyvisId': 47756694, 'kategorija': 'Automobilio vairuotojas', 'dalyvioTipas': 'Kitas asmuo', 'pasisalino': 'Ne', 'asmuoNezinomas': 'Ne', 'lytis': 'Vyras', 'pilietybe': None, 'amzius': 31, 'neigalumas': 'Ne', 'saugosDirzas': 'Užsegtas', 'vaikoKedesNaudojimas': None, 'saugosSalmoNaudojimas': None, 'oroPagalves': 'Nesuveikė', 'bukle': 'Nenukentėjo', 'detaliBukle': None, 'suzalojimoMastas': None, 'vairuotojoKvalifikacija': 'Atitinka', 'vairavimoStazas': 13, 'busena': 'Neblaivus', 'detaliBusena': 'Sunkus neblaivumo (girtumo) laipsnis', 'papBusena': None, 'detaliPapBusena': None, 'kaltininkas': 'Taip', 'girtumasPromilemis': 3.03, 'dalyvioBusena': 'KALTININKAS', 'teisenosStadijaBusena': 'ADMINISTRACINIS', 'dalyvioKetPazeidimai': ['Saugaus atstumo nesilaikymas'], 'tpId': 32912289}],\n",
    "[{'dalyvisId': 47838043, 'kategorija': 'Automobilio vairuotojas', 'dalyvioTipas': 'Kitas asmuo', 'pasisalino': 'Ne', 'asmuoNezinomas': 'Ne', 'lytis': 'Vyras', 'pilietybe': None, 'amzius': 52, 'neigalumas': 'Ne', 'saugosDirzas': 'Neįrengtas', 'vaikoKedesNaudojimas': None, 'saugosSalmoNaudojimas': None, 'oroPagalves': 'Neįrengta', 'bukle': 'Nenukentėjo', 'detaliBukle': None, 'suzalojimoMastas': None, 'vairuotojoKvalifikacija': 'Atitinka', 'vairavimoStazas': 20, 'busena': 'Blaivus', 'detaliBusena': None, 'papBusena': 'Neapsvaigęs', 'detaliPapBusena': None, 'kaltininkas': 'Taip', 'girtumasPromilemis': None, 'dalyvioBusena': 'KALTININKAS', 'teisenosStadijaBusena': 'ADMINISTRACINIS', 'dalyvioKetPazeidimai': ['Saugaus greičio nepasirinkimas'], 'tpId': 32955417}, {'dalyvisId': 47838044, 'kategorija': 'Keleivis', 'dalyvioTipas': 'Kitas asmuo', 'pasisalino': 'Ne', 'asmuoNezinomas': 'Ne', 'lytis': 'Moteris', 'pilietybe': None, 'amzius': 43, 'neigalumas': 'Ne', 'saugosDirzas': 'Neįrengtas', 'vaikoKedesNaudojimas': None, 'saugosSalmoNaudojimas': None, 'oroPagalves': 'Neįrengta', 'bukle': 'Sužeistas', 'detaliBukle': 'Gydomas stacionare', 'suzalojimoMastas': None, 'vairuotojoKvalifikacija': None, 'vairavimoStazas': None, 'busena': 'Blaivus', 'detaliBusena': None, 'papBusena': None, 'detaliPapBusena': None, 'kaltininkas': 'Ne', 'girtumasPromilemis': None, 'dalyvioBusena': 'NEPAZEIDE', 'teisenosStadijaBusena': None, 'dalyvioKetPazeidimai': [], 'tpId': 32955417}],\n",
    "[{'dalyvisId': 47790937, 'kategorija': 'Automobilio vairuotojas', 'dalyvioTipas': 'Kitas asmuo', 'pasisalino': 'Ne', 'asmuoNezinomas': 'Ne', 'lytis': 'Vyras', 'pilietybe': None, 'amzius': 23, 'neigalumas': 'Ne', 'saugosDirzas': 'Užsegtas', 'vaikoKedesNaudojimas': None, 'saugosSalmoNaudojimas': None, 'oroPagalves': 'Nesuveikė', 'bukle': 'Nenukentėjo', 'detaliBukle': None, 'suzalojimoMastas': None, 'vairuotojoKvalifikacija': 'Atitinka', 'vairavimoStazas': 4, 'busena': 'Neblaivus', 'detaliBusena': 'Lengvas neblaivumo (girtumo) laipsnis', 'papBusena': None, 'detaliPapBusena': None, 'kaltininkas': 'Taip', 'girtumasPromilemis': 0.87, 'dalyvioBusena': 'KALTININKAS', 'teisenosStadijaBusena': 'ADMINISTRACINIS', 'dalyvioKetPazeidimai': ['Saugaus greičio nepasirinkimas'], 'tpId': 32930281}, {'dalyvisId': 47790938, 'kategorija': 'Keleivis', 'dalyvioTipas': 'Kitas asmuo', 'pasisalino': 'Ne', 'asmuoNezinomas': 'Ne', 'lytis': 'Vyras', 'pilietybe': None, 'amzius': 23, 'neigalumas': 'Ne', 'saugosDirzas': 'Užsegtas', 'vaikoKedesNaudojimas': None, 'saugosSalmoNaudojimas': None, 'oroPagalves': 'Nesuveikė', 'bukle': 'Nenukentėjo', 'detaliBukle': None, 'suzalojimoMastas': None, 'vairuotojoKvalifikacija': None, 'vairavimoStazas': None, 'busena': 'Neblaivus', 'detaliBusena': 'Lengvas neblaivumo (girtumo) laipsnis', 'papBusena': None, 'detaliPapBusena': None, 'kaltininkas': 'Ne', 'girtumasPromilemis': 1.46, 'dalyvioBusena': 'NEPAZEIDE', 'teisenosStadijaBusena': None, 'dalyvioKetPazeidimai': [], 'tpId': 32930281}],\n",
    "[{'dalyvisId': 47756705, 'kategorija': 'Automobilio vairuotojas', 'dalyvioTipas': 'Kitas asmuo', 'pasisalino': 'Ne', 'asmuoNezinomas': 'Ne', 'lytis': 'Vyras', 'pilietybe': None, 'amzius': 44, 'neigalumas': 'Ne', 'saugosDirzas': 'Užsegtas', 'vaikoKedesNaudojimas': None, 'saugosSalmoNaudojimas': None, 'oroPagalves': 'Suveikė', 'bukle': 'Nenukentėjo', 'detaliBukle': None, 'suzalojimoMastas': None, 'vairuotojoKvalifikacija': 'Atitinka', 'vairavimoStazas': 27, 'busena': 'Blaivus', 'detaliBusena': None, 'papBusena': None, 'detaliPapBusena': None, 'kaltininkas': 'Taip', 'girtumasPromilemis': None, 'dalyvioBusena': 'KALTININKAS', 'teisenosStadijaBusena': 'ADMINISTRACINIS', 'dalyvioKetPazeidimai': ['Saugaus greičio nepasirinkimas'], 'tpId': 32912295}],\n",
    "[{'dalyvisId': 48295244, 'kategorija': 'Pėsčiasis', 'dalyvioTipas': 'Kitas asmuo', 'pasisalino': 'Ne', 'asmuoNezinomas': 'Ne', 'lytis': 'Moteris', 'pilietybe': None, 'amzius': 72, 'neigalumas': 'Ne', 'saugosDirzas': None, 'vaikoKedesNaudojimas': None, 'saugosSalmoNaudojimas': None, 'oroPagalves': None, 'bukle': 'Sužeistas', 'detaliBukle': 'Gydomas ambulatoriškai', 'suzalojimoMastas': 'Nesunkus sveikatos sutrikdymas', 'vairuotojoKvalifikacija': None, 'vairavimoStazas': None, 'busena': 'Blaivus', 'detaliBusena': None, 'papBusena': None, 'detaliPapBusena': None, 'kaltininkas': 'Ne', 'girtumasPromilemis': None, 'dalyvioBusena': 'NEPAZEIDE', 'teisenosStadijaBusena': None, 'dalyvioKetPazeidimai': [], 'tpId': None}, {'dalyvisId': 48295243, 'kategorija': 'Automobilio vairuotojas', 'dalyvioTipas': 'Kitas asmuo', 'pasisalino': 'Taip', 'asmuoNezinomas': 'Ne', 'lytis': 'Vyras', 'pilietybe': None, 'amzius': 31, 'neigalumas': 'Ne', 'saugosDirzas': 'Užsegtas', 'vaikoKedesNaudojimas': None, 'saugosSalmoNaudojimas': None, 'oroPagalves': 'Nesuveikė', 'bukle': 'Nenukentėjo', 'detaliBukle': None, 'suzalojimoMastas': None, 'vairuotojoKvalifikacija': 'Neturi teisės vairuoti', 'vairavimoStazas': None, 'busena': 'Blaivus', 'detaliBusena': None, 'papBusena': None, 'detaliPapBusena': None, 'kaltininkas': 'Taip', 'girtumasPromilemis': None, 'dalyvioBusena': 'GALIMAS_KALTININKAS', 'teisenosStadijaBusena': 'IKITEISMINIS', 'dalyvioKetPazeidimai': ['Saugaus atstumo nesilaikymas'], 'tpId': 33242282}],\n",
    "[{'dalyvisId': 47756688, 'kategorija': 'Automobilio vairuotojas', 'dalyvioTipas': 'Kitas asmuo', 'pasisalino': 'Ne', 'asmuoNezinomas': 'Ne', 'lytis': None, 'pilietybe': None, 'amzius': None, 'neigalumas': 'Ne', 'saugosDirzas': 'Užsegtas', 'vaikoKedesNaudojimas': None, 'saugosSalmoNaudojimas': None, 'oroPagalves': 'Nesuveikė', 'bukle': 'Nenukentėjo', 'detaliBukle': None, 'suzalojimoMastas': None, 'vairuotojoKvalifikacija': 'Atitinka', 'vairavimoStazas': 5, 'busena': 'Blaivus', 'detaliBusena': None, 'papBusena': None, 'detaliPapBusena': None, 'kaltininkas': 'Ne', 'girtumasPromilemis': None, 'dalyvioBusena': 'NEPAZEIDE', 'teisenosStadijaBusena': None, 'dalyvioKetPazeidimai': [], 'tpId': 32912286}, {'dalyvisId': 47756689, 'kategorija': 'Automobilio vairuotojas', 'dalyvioTipas': 'Kitas asmuo', 'pasisalino': 'Ne', 'asmuoNezinomas': 'Ne', 'lytis': None, 'pilietybe': None, 'amzius': None, 'neigalumas': 'Ne', 'saugosDirzas': 'Užsegtas', 'vaikoKedesNaudojimas': None, 'saugosSalmoNaudojimas': None, 'oroPagalves': 'Nesuveikė', 'bukle': 'Nenukentėjo', 'detaliBukle': None, 'suzalojimoMastas': None, 'vairuotojoKvalifikacija': 'Atitinka', 'vairavimoStazas': 5, 'busena': 'Blaivus', 'detaliBusena': None, 'papBusena': None, 'detaliPapBusena': None, 'kaltininkas': 'Taip', 'girtumasPromilemis': None, 'dalyvioBusena': 'KALTININKAS', 'teisenosStadijaBusena': 'ADMINISTRACINIS', 'dalyvioKetPazeidimai': ['Saugaus greičio nepasirinkimas'], 'tpId': 32912287}],\n",
    "[{'dalyvisId': 47756709, 'kategorija': 'Automobilio vairuotojas', 'dalyvioTipas': 'Kitas asmuo', 'pasisalino': 'Ne', 'asmuoNezinomas': 'Ne', 'lytis': 'Vyras', 'pilietybe': None, 'amzius': 39, 'neigalumas': 'Ne', 'saugosDirzas': 'Užsegtas', 'vaikoKedesNaudojimas': None, 'saugosSalmoNaudojimas': None, 'oroPagalves': 'Nesuveikė', 'bukle': 'Nenukentėjo', 'detaliBukle': None, 'suzalojimoMastas': None, 'vairuotojoKvalifikacija': 'Atitinka', 'vairavimoStazas': 20, 'busena': 'Blaivus', 'detaliBusena': None, 'papBusena': None, 'detaliPapBusena': None, 'kaltininkas': 'Ne', 'girtumasPromilemis': None, 'dalyvioBusena': 'NEPAZEIDE', 'teisenosStadijaBusena': None, 'dalyvioKetPazeidimai': [], 'tpId': 32912297}],\n",
    "[{'dalyvisId': 47823829, 'kategorija': 'Automobilio vairuotojas', 'dalyvioTipas': None, 'pasisalino': 'Taip', 'asmuoNezinomas': 'Taip', 'lytis': None, 'pilietybe': None, 'amzius': None, 'neigalumas': None, 'saugosDirzas': None, 'vaikoKedesNaudojimas': None, 'saugosSalmoNaudojimas': None, 'oroPagalves': None, 'bukle': None, 'detaliBukle': None, 'suzalojimoMastas': None, 'vairuotojoKvalifikacija': None, 'vairavimoStazas': None, 'busena': None, 'detaliBusena': None, 'papBusena': None, 'detaliPapBusena': None, 'kaltininkas': 'Taip', 'girtumasPromilemis': None, 'dalyvioBusena': 'GALIMAS_KALTININKAS', 'teisenosStadijaBusena': 'ADMINISTRACINIS', 'dalyvioKetPazeidimai': ['Kiti Kelių eismo taisyklių pažeidimai'], 'tpId': 32947795}, {'dalyvisId': 47823839, 'kategorija': 'Kiti', 'dalyvioTipas': 'Kitas asmuo', 'pasisalino': 'Ne', 'asmuoNezinomas': 'Ne', 'lytis': 'Moteris', 'pilietybe': None, 'amzius': 21, 'neigalumas': 'Ne', 'saugosDirzas': None, 'vaikoKedesNaudojimas': None, 'saugosSalmoNaudojimas': None, 'oroPagalves': None, 'bukle': 'Nenukentėjo', 'detaliBukle': None, 'suzalojimoMastas': None, 'vairuotojoKvalifikacija': None, 'vairavimoStazas': None, 'busena': 'Blaivus', 'detaliBusena': None, 'papBusena': None, 'detaliPapBusena': None, 'kaltininkas': 'Taip', 'girtumasPromilemis': None, 'dalyvioBusena': 'KALTININKAS', 'teisenosStadijaBusena': 'ADMINISTRACINIS', 'dalyvioKetPazeidimai': ['Kiti Kelių eismo taisyklių pažeidimai'], 'tpId': None}],\n",
    "[{'dalyvisId': 47767276, 'kategorija': 'Automobilio vairuotojas', 'dalyvioTipas': 'Kitas asmuo', 'pasisalino': 'Ne', 'asmuoNezinomas': 'Ne', 'lytis': 'Vyras', 'pilietybe': None, 'amzius': 26, 'neigalumas': 'Ne', 'saugosDirzas': 'Užsegtas', 'vaikoKedesNaudojimas': None, 'saugosSalmoNaudojimas': None, 'oroPagalves': 'Suveikė', 'bukle': 'Nenukentėjo', 'detaliBukle': None, 'suzalojimoMastas': None, 'vairuotojoKvalifikacija': 'Neturi teisės vairuoti', 'vairavimoStazas': None, 'busena': 'Neblaivus', 'detaliBusena': 'Vidutinis neblaivumo (girtumo) laipsnis', 'papBusena': None, 'detaliPapBusena': None, 'kaltininkas': 'Taip', 'girtumasPromilemis': 1.77, 'dalyvioBusena': 'KALTININKAS', 'teisenosStadijaBusena': 'ADMINISTRACINIS', 'dalyvioKetPazeidimai': ['Reikalavimo duoti kelią nevykdymas važiuojant per sankryžą'], 'tpId': 32917748}, {'dalyvisId': 47767277, 'kategorija': 'Automobilio vairuotojas', 'dalyvioTipas': 'Kitas asmuo', 'pasisalino': 'Ne', 'asmuoNezinomas': 'Ne', 'lytis': 'Vyras', 'pilietybe': None, 'amzius': 21, 'neigalumas': 'Ne', 'saugosDirzas': 'Užsegtas', 'vaikoKedesNaudojimas': None, 'saugosSalmoNaudojimas': None, 'oroPagalves': 'Suveikė', 'bukle': 'Nenukentėjo', 'detaliBukle': None, 'suzalojimoMastas': None, 'vairuotojoKvalifikacija': 'Atitinka', 'vairavimoStazas': 3, 'busena': 'Blaivus', 'detaliBusena': None, 'papBusena': None, 'detaliPapBusena': None, 'kaltininkas': 'Ne', 'girtumasPromilemis': None, 'dalyvioBusena': 'NEPAZEIDE', 'teisenosStadijaBusena': None, 'dalyvioKetPazeidimai': [], 'tpId': 32917749}, {'dalyvisId': 47767278, 'kategorija': 'Keleivis', 'dalyvioTipas': 'Kitas asmuo', 'pasisalino': 'Ne', 'asmuoNezinomas': 'Ne', 'lytis': 'Moteris', 'pilietybe': None, 'amzius': 27, 'neigalumas': 'Ne', 'saugosDirzas': 'Užsegtas', 'vaikoKedesNaudojimas': None, 'saugosSalmoNaudojimas': None, 'oroPagalves': 'Suveikė', 'bukle': 'Nenukentėjo', 'detaliBukle': None, 'suzalojimoMastas': None, 'vairuotojoKvalifikacija': None, 'vairavimoStazas': None, 'busena': 'Neblaivus', 'detaliBusena': 'Lengvas neblaivumo (girtumo) laipsnis', 'papBusena': None, 'detaliPapBusena': None, 'kaltininkas': 'Ne', 'girtumasPromilemis': 0.9500000000000001, 'dalyvioBusena': 'NEPAZEIDE', 'teisenosStadijaBusena': None, 'dalyvioKetPazeidimai': [], 'tpId': 32917748}],\n",
    "[{'dalyvisId': 47769521, 'kategorija': 'Automobilio vairuotojas', 'dalyvioTipas': 'Kitas asmuo', 'pasisalino': 'Taip', 'asmuoNezinomas': 'Ne', 'lytis': 'Vyras', 'pilietybe': None, 'amzius': 60, 'neigalumas': 'Ne', 'saugosDirzas': 'Užsegtas', 'vaikoKedesNaudojimas': None, 'saugosSalmoNaudojimas': None, 'oroPagalves': 'Nesuveikė', 'bukle': 'Nenukentėjo', 'detaliBukle': None, 'suzalojimoMastas': None, 'vairuotojoKvalifikacija': 'Atitinka', 'vairavimoStazas': 27, 'busena': 'Blaivus', 'detaliBusena': None, 'papBusena': None, 'detaliPapBusena': None, 'kaltininkas': 'Taip', 'girtumasPromilemis': None, 'dalyvioBusena': 'KALTININKAS', 'teisenosStadijaBusena': 'ADMINISTRACINIS', 'dalyvioKetPazeidimai': ['Kiti Kelių eismo taisyklių pažeidimai'], 'tpId': 32918919}, {'dalyvisId': 47769522, 'kategorija': 'Automobilio vairuotojas', 'dalyvioTipas': 'Kitas asmuo', 'pasisalino': 'Ne', 'asmuoNezinomas': 'Ne', 'lytis': 'Moteris', 'pilietybe': None, 'amzius': 33, 'neigalumas': 'Ne', 'saugosDirzas': 'Užsegtas', 'vaikoKedesNaudojimas': None, 'saugosSalmoNaudojimas': None, 'oroPagalves': 'Nesuveikė', 'bukle': 'Nenukentėjo', 'detaliBukle': None, 'suzalojimoMastas': None, 'vairuotojoKvalifikacija': 'Atitinka', 'vairavimoStazas': 15, 'busena': 'Blaivus', 'detaliBusena': None, 'papBusena': None, 'detaliPapBusena': None, 'kaltininkas': 'Ne', 'girtumasPromilemis': None, 'dalyvioBusena': 'NEPAZEIDE', 'teisenosStadijaBusena': None, 'dalyvioKetPazeidimai': [], 'tpId': 32918920}],\n",
    "[{'dalyvisId': 47756831, 'kategorija': 'Automobilio vairuotojas', 'dalyvioTipas': 'Kitas asmuo', 'pasisalino': 'Ne', 'asmuoNezinomas': 'Ne', 'lytis': 'Vyras', 'pilietybe': None, 'amzius': 36, 'neigalumas': 'Ne', 'saugosDirzas': 'Užsegtas', 'vaikoKedesNaudojimas': None, 'saugosSalmoNaudojimas': None, 'oroPagalves': 'Nesuveikė', 'bukle': 'Nenukentėjo', 'detaliBukle': None, 'suzalojimoMastas': None, 'vairuotojoKvalifikacija': 'Atitinka', 'vairavimoStazas': 17, 'busena': 'Blaivus', 'detaliBusena': None, 'papBusena': None, 'detaliPapBusena': None, 'kaltininkas': 'Ne', 'girtumasPromilemis': None, 'dalyvioBusena': 'NEPAZEIDE', 'teisenosStadijaBusena': None, 'dalyvioKetPazeidimai': [], 'tpId': 32912354}, {'dalyvisId': 47756830, 'kategorija': None, 'dalyvioTipas': None, 'pasisalino': 'Taip', 'asmuoNezinomas': 'Taip', 'lytis': None, 'pilietybe': None, 'amzius': None, 'neigalumas': None, 'saugosDirzas': None, 'vaikoKedesNaudojimas': None, 'saugosSalmoNaudojimas': None, 'oroPagalves': None, 'bukle': None, 'detaliBukle': None, 'suzalojimoMastas': None, 'vairuotojoKvalifikacija': None, 'vairavimoStazas': None, 'busena': None, 'detaliBusena': None, 'papBusena': None, 'detaliPapBusena': None, 'kaltininkas': 'Taip', 'girtumasPromilemis': None, 'dalyvioBusena': 'GALIMAS_KALTININKAS', 'teisenosStadijaBusena': None, 'dalyvioKetPazeidimai': ['Saugaus atstumo nesilaikymas'], 'tpId': None}],\n",
    "[{'dalyvisId': 47816484, 'kategorija': 'Kiti', 'dalyvioTipas': 'Kitas asmuo', 'pasisalino': 'Ne', 'asmuoNezinomas': 'Ne', 'lytis': 'Vyras', 'pilietybe': None, 'amzius': 67, 'neigalumas': 'Ne', 'saugosDirzas': None, 'vaikoKedesNaudojimas': None, 'saugosSalmoNaudojimas': None, 'oroPagalves': None, 'bukle': 'Nenukentėjo', 'detaliBukle': None, 'suzalojimoMastas': None, 'vairuotojoKvalifikacija': None, 'vairavimoStazas': None, 'busena': 'Blaivus', 'detaliBusena': None, 'papBusena': None, 'detaliPapBusena': None, 'kaltininkas': 'Ne', 'girtumasPromilemis': None, 'dalyvioBusena': 'NEPAZEIDE', 'teisenosStadijaBusena': None, 'dalyvioKetPazeidimai': [], 'tpId': None}, {'dalyvisId': 47816483, 'kategorija': 'Automobilio vairuotojas', 'dalyvioTipas': 'Kitas asmuo', 'pasisalino': 'Ne', 'asmuoNezinomas': 'Ne', 'lytis': 'Vyras', 'pilietybe': None, 'amzius': 58, 'neigalumas': 'Ne', 'saugosDirzas': 'Užsegtas', 'vaikoKedesNaudojimas': None, 'saugosSalmoNaudojimas': None, 'oroPagalves': 'Nesuveikė', 'bukle': 'Nenukentėjo', 'detaliBukle': None, 'suzalojimoMastas': None, 'vairuotojoKvalifikacija': 'Atitinka', 'vairavimoStazas': 17, 'busena': 'Neblaivus', 'detaliBusena': None, 'papBusena': None, 'detaliPapBusena': None, 'kaltininkas': 'Taip', 'girtumasPromilemis': None, 'dalyvioBusena': 'GALIMAS_KALTININKAS', 'teisenosStadijaBusena': 'IKITEISMINIS', 'dalyvioKetPazeidimai': ['Saugaus atstumo nesilaikymas'], 'tpId': 32943941}]\n",
    "]\n",
    "\n",
    "def extract_info(data):\n",
    "    total_age=0\n",
    "    counta=0\n",
    "    lytis=[]\n",
    "    pasisalino=0\n",
    "    for i in data:\n",
    "        for j in i:\n",
    "            if j.get('lytis'):\n",
    "                lytis.append(j['lytis'])\n",
    "            if j.get('amzius'):\n",
    "                total_age+=j['amzius']\n",
    "                counta+=1\n",
    "            if j.get('pasisalino')=='Taip':\n",
    "                pasisalino+=1\n",
    "\n",
    "    \n",
    "    countv=0\n",
    "    countm=0\n",
    "    for h in lytis:\n",
    "        if h=='Vyras':\n",
    "            countv+=1\n",
    "        if h=='Moteris':\n",
    "            countm+=1\n",
    "    \n",
    "    average_age=round((total_age/counta),1)\n",
    "    return countv, countm, average_age, pasisalino\n",
    "\n",
    "countv, countm, average_age, pasisalino = extract_info(data)\n",
    "print(f'Vyru buvo {countv} ir moteru buvo {countm}')\n",
    "print(f'Vidutinis amzius : {average_age}')\n",
    "print(f'Pasisalino: {pasisalino}')"
   ]
  },
  {
   "cell_type": "code",
   "execution_count": null,
   "metadata": {},
   "outputs": [],
   "source": []
  }
 ],
 "metadata": {
  "kernelspec": {
   "display_name": "base",
   "language": "python",
   "name": "python3"
  },
  "language_info": {
   "codemirror_mode": {
    "name": "ipython",
    "version": 3
   },
   "file_extension": ".py",
   "mimetype": "text/x-python",
   "name": "python",
   "nbconvert_exporter": "python",
   "pygments_lexer": "ipython3",
   "version": "3.11.7"
  }
 },
 "nbformat": 4,
 "nbformat_minor": 2
}
