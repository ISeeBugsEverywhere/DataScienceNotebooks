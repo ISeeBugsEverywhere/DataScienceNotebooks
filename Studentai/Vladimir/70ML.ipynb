{
 "cells": [
  {
   "cell_type": "code",
   "execution_count": 1,
   "metadata": {},
   "outputs": [],
   "source": [
    "from sklearn.model_selection import train_test_split\n",
    "from sklearn.preprocessing import StandardScaler\n",
    "from sklearn.metrics import accuracy_score\n",
    "from sklearn.metrics import confusion_matrix\n",
    "from sklearn.metrics import classification_report\n",
    "from sklearn import datasets\n",
    "from sklearn import svm\n",
    "import numpy as np\n",
    "import matplotlib.pyplot as plt\n",
    "import pandas as pd\n",
    "from sklearn.linear_model import LinearRegression\n",
    "import seaborn as sns"
   ]
  },
  {
   "cell_type": "code",
   "execution_count": 2,
   "metadata": {},
   "outputs": [],
   "source": [
    "import numpy as np\n",
    "import matplotlib.pyplot as plt\n",
    "from sklearn.preprocessing import PolynomialFeatures\n",
    "from sklearn.linear_model import LinearRegression\n",
    "from sklearn.metrics import mean_squared_error"
   ]
  },
  {
   "cell_type": "code",
   "execution_count": 74,
   "metadata": {},
   "outputs": [],
   "source": [
    "from sklearn.datasets import load_breast_cancer\n",
    "from sklearn.linear_model import LogisticRegression\n",
    "from sklearn.model_selection import train_test_split\n",
    "from sklearn.metrics import accuracy_score"
   ]
  },
  {
   "cell_type": "code",
   "execution_count": null,
   "metadata": {},
   "outputs": [],
   "source": [
    "# Esimo įvykių statistikos duomenys : https://data.gov.lt/datasets/509/ ;\n",
    "# Pritaikyti ML jog nustatytumėte, ar tai buvo susidūrimas su gyvūnu?\n",
    "# Ar galite nustatyti kaltininko lytį, pagal pateiktas eismo įvykio aplinkybes? \n",
    "# Hipotezė - vyrai daro daugiau vienos rūšies klaidų, moterys - kitos."
   ]
  },
  {
   "cell_type": "code",
   "execution_count": 84,
   "metadata": {},
   "outputs": [],
   "source": [
    "df = pd.read_json(r\"C:\\Users\\Batia\\Downloads\\ei_2022_12_31(1).json\")"
   ]
  },
  {
   "cell_type": "code",
   "execution_count": 52,
   "metadata": {},
   "outputs": [
    {
     "data": {
      "text/html": [
       "<div>\n",
       "<style scoped>\n",
       "    .dataframe tbody tr th:only-of-type {\n",
       "        vertical-align: middle;\n",
       "    }\n",
       "\n",
       "    .dataframe tbody tr th {\n",
       "        vertical-align: top;\n",
       "    }\n",
       "\n",
       "    .dataframe thead th {\n",
       "        text-align: right;\n",
       "    }\n",
       "</style>\n",
       "<table border=\"1\" class=\"dataframe\">\n",
       "  <thead>\n",
       "    <tr style=\"text-align: right;\">\n",
       "      <th></th>\n",
       "      <th>registrokodas</th>\n",
       "      <th>dataLaikas</th>\n",
       "      <th>registravimoData</th>\n",
       "      <th>paskutinioRedagavimoLaikas</th>\n",
       "      <th>iskaitinis</th>\n",
       "      <th>rusis</th>\n",
       "      <th>schema1</th>\n",
       "      <th>schema2</th>\n",
       "      <th>dalyviuSkaicius</th>\n",
       "      <th>zuvusiuSkaicius</th>\n",
       "      <th>...</th>\n",
       "      <th>kelioElementas2</th>\n",
       "      <th>privalomasLeistinasGreitis</th>\n",
       "      <th>leistinasGreitis</th>\n",
       "      <th>neblaivusKaltininkai</th>\n",
       "      <th>apsvaigeKaltininkai</th>\n",
       "      <th>atsisakeTikrintisKaltininkai</th>\n",
       "      <th>ilguma</th>\n",
       "      <th>platuma</th>\n",
       "      <th>eismoDalyviai</th>\n",
       "      <th>eismoTranspPreimone</th>\n",
       "    </tr>\n",
       "  </thead>\n",
       "  <tbody>\n",
       "    <tr>\n",
       "      <th>0</th>\n",
       "      <td>07-22-9565141</td>\n",
       "      <td>2021-12-31 22:00</td>\n",
       "      <td>2022-01-01 00:30</td>\n",
       "      <td>2022-01-01 00:39</td>\n",
       "      <td>0</td>\n",
       "      <td>Kiti eismo įvykiai</td>\n",
       "      <td>Nuvažiavimai nuo kelio</td>\n",
       "      <td>Nuvažiavimai nuo kelio į kairę, kai kelio ving...</td>\n",
       "      <td>1.0</td>\n",
       "      <td>0</td>\n",
       "      <td>...</td>\n",
       "      <td>None</td>\n",
       "      <td>1</td>\n",
       "      <td>50.0</td>\n",
       "      <td>Ne</td>\n",
       "      <td>Ne</td>\n",
       "      <td>Ne</td>\n",
       "      <td>6083759.0</td>\n",
       "      <td>491606.0</td>\n",
       "      <td>[{'dalyvisId': 47756477, 'kategorija': 'Automo...</td>\n",
       "      <td>[{'tpId': 32912177, 'regValstybe': 'Lietuva', ...</td>\n",
       "    </tr>\n",
       "    <tr>\n",
       "      <th>1</th>\n",
       "      <td>07-22-9565142</td>\n",
       "      <td>2022-01-01 00:40</td>\n",
       "      <td>2022-01-01 01:28</td>\n",
       "      <td>2022-01-03 13:49</td>\n",
       "      <td>0</td>\n",
       "      <td>Susidūrimas</td>\n",
       "      <td>Kiti eismo įvykiai</td>\n",
       "      <td>Susidūrimas su stovinčia TP</td>\n",
       "      <td>2.0</td>\n",
       "      <td>0</td>\n",
       "      <td>...</td>\n",
       "      <td>None</td>\n",
       "      <td>1</td>\n",
       "      <td>20.0</td>\n",
       "      <td>Ne</td>\n",
       "      <td>Ne</td>\n",
       "      <td>Ne</td>\n",
       "      <td>6181902.0</td>\n",
       "      <td>317439.0</td>\n",
       "      <td>[{'dalyvisId': 47759080, 'kategorija': 'Automo...</td>\n",
       "      <td>[{'tpId': 32913457, 'regValstybe': 'Lietuva', ...</td>\n",
       "    </tr>\n",
       "    <tr>\n",
       "      <th>2</th>\n",
       "      <td>07-22-9565143</td>\n",
       "      <td>2022-01-01 02:02</td>\n",
       "      <td>2022-01-01 02:29</td>\n",
       "      <td>2022-01-01 02:29</td>\n",
       "      <td>0</td>\n",
       "      <td>Užvažiavimas ant gyvūno</td>\n",
       "      <td>Kiti eismo įvykiai</td>\n",
       "      <td>Užvažiavimas ant gyvūno</td>\n",
       "      <td>1.0</td>\n",
       "      <td>0</td>\n",
       "      <td>...</td>\n",
       "      <td>None</td>\n",
       "      <td>1</td>\n",
       "      <td>90.0</td>\n",
       "      <td>Ne</td>\n",
       "      <td>Ne</td>\n",
       "      <td>Ne</td>\n",
       "      <td>6161589.0</td>\n",
       "      <td>333263.0</td>\n",
       "      <td>[{'dalyvisId': 47756490, 'kategorija': 'Automo...</td>\n",
       "      <td>[{'tpId': 32912184, 'regValstybe': 'Lietuva', ...</td>\n",
       "    </tr>\n",
       "    <tr>\n",
       "      <th>3</th>\n",
       "      <td>07-22-9565144</td>\n",
       "      <td>2022-01-01 01:53</td>\n",
       "      <td>2022-01-01 02:34</td>\n",
       "      <td>2022-12-20 09:44</td>\n",
       "      <td>0</td>\n",
       "      <td>Apvirtimas</td>\n",
       "      <td>Nuvažiavimai nuo kelio</td>\n",
       "      <td>Nuvažiavimai nuo kelio į dešinę tiesiame ruože</td>\n",
       "      <td>1.0</td>\n",
       "      <td>0</td>\n",
       "      <td>...</td>\n",
       "      <td>None</td>\n",
       "      <td>1</td>\n",
       "      <td>90.0</td>\n",
       "      <td>Ne</td>\n",
       "      <td>Ne</td>\n",
       "      <td>Ne</td>\n",
       "      <td>6104844.0</td>\n",
       "      <td>630436.0</td>\n",
       "      <td>[{'dalyvisId': 48447053, 'kategorija': 'Automo...</td>\n",
       "      <td>[{'tpId': 33386413, 'regValstybe': 'Lietuva', ...</td>\n",
       "    </tr>\n",
       "    <tr>\n",
       "      <th>4</th>\n",
       "      <td>07-22-9565145</td>\n",
       "      <td>2021-12-31 12:35</td>\n",
       "      <td>2022-01-01 02:52</td>\n",
       "      <td>2022-01-01 02:55</td>\n",
       "      <td>0</td>\n",
       "      <td>Užvažiavimas ant kliūties</td>\n",
       "      <td>Kiti eismo įvykiai</td>\n",
       "      <td>Kiti eismo įvykiai</td>\n",
       "      <td>1.0</td>\n",
       "      <td>0</td>\n",
       "      <td>...</td>\n",
       "      <td>None</td>\n",
       "      <td>1</td>\n",
       "      <td>50.0</td>\n",
       "      <td>Taip</td>\n",
       "      <td>Ne</td>\n",
       "      <td>Ne</td>\n",
       "      <td>6102529.0</td>\n",
       "      <td>495530.0</td>\n",
       "      <td>[{'dalyvisId': 47756497, 'kategorija': 'Automo...</td>\n",
       "      <td>[{'tpId': 32912187, 'regValstybe': 'Lietuva', ...</td>\n",
       "    </tr>\n",
       "    <tr>\n",
       "      <th>...</th>\n",
       "      <td>...</td>\n",
       "      <td>...</td>\n",
       "      <td>...</td>\n",
       "      <td>...</td>\n",
       "      <td>...</td>\n",
       "      <td>...</td>\n",
       "      <td>...</td>\n",
       "      <td>...</td>\n",
       "      <td>...</td>\n",
       "      <td>...</td>\n",
       "      <td>...</td>\n",
       "      <td>...</td>\n",
       "      <td>...</td>\n",
       "      <td>...</td>\n",
       "      <td>...</td>\n",
       "      <td>...</td>\n",
       "      <td>...</td>\n",
       "      <td>...</td>\n",
       "      <td>...</td>\n",
       "      <td>...</td>\n",
       "      <td>...</td>\n",
       "    </tr>\n",
       "    <tr>\n",
       "      <th>23515</th>\n",
       "      <td>07-22-9588940</td>\n",
       "      <td>2022-12-31 19:40</td>\n",
       "      <td>2022-12-31 20:15</td>\n",
       "      <td>2022-12-31 21:45</td>\n",
       "      <td>0</td>\n",
       "      <td>Užvažiavimas ant gyvūno</td>\n",
       "      <td>Kiti eismo įvykiai</td>\n",
       "      <td>Užvažiavimas ant gyvūno</td>\n",
       "      <td>1.0</td>\n",
       "      <td>0</td>\n",
       "      <td>...</td>\n",
       "      <td>None</td>\n",
       "      <td>1</td>\n",
       "      <td>90.0</td>\n",
       "      <td>Ne</td>\n",
       "      <td>Ne</td>\n",
       "      <td>Ne</td>\n",
       "      <td>6060864.0</td>\n",
       "      <td>483320.0</td>\n",
       "      <td>[{'dalyvisId': 48474241, 'kategorija': 'Automo...</td>\n",
       "      <td>[{'tpId': 33416356, 'regValstybe': 'Lietuva', ...</td>\n",
       "    </tr>\n",
       "    <tr>\n",
       "      <th>23516</th>\n",
       "      <td>07-22-9588941</td>\n",
       "      <td>2022-12-31 17:35</td>\n",
       "      <td>2022-12-31 20:20</td>\n",
       "      <td>2023-01-06 08:09</td>\n",
       "      <td>0</td>\n",
       "      <td>Susidūrimas</td>\n",
       "      <td>Priešpriešiniai susidūrimai</td>\n",
       "      <td>Priešpriešinis susidūrimas</td>\n",
       "      <td>2.0</td>\n",
       "      <td>0</td>\n",
       "      <td>...</td>\n",
       "      <td>None</td>\n",
       "      <td>1</td>\n",
       "      <td>90.0</td>\n",
       "      <td>Taip</td>\n",
       "      <td>Ne</td>\n",
       "      <td>Ne</td>\n",
       "      <td>6218953.0</td>\n",
       "      <td>589894.0</td>\n",
       "      <td>[{'dalyvisId': 48489943, 'kategorija': 'Automo...</td>\n",
       "      <td>[{'tpId': 33427877, 'regValstybe': 'Lietuva', ...</td>\n",
       "    </tr>\n",
       "    <tr>\n",
       "      <th>23517</th>\n",
       "      <td>07-22-9588942</td>\n",
       "      <td>2022-12-31 20:00</td>\n",
       "      <td>2022-12-31 20:52</td>\n",
       "      <td>2022-12-31 20:44</td>\n",
       "      <td>0</td>\n",
       "      <td>Užvažiavimas ant gyvūno</td>\n",
       "      <td>Kiti eismo įvykiai</td>\n",
       "      <td>Užvažiavimas ant gyvūno</td>\n",
       "      <td>1.0</td>\n",
       "      <td>0</td>\n",
       "      <td>...</td>\n",
       "      <td>None</td>\n",
       "      <td>1</td>\n",
       "      <td>90.0</td>\n",
       "      <td>Ne</td>\n",
       "      <td>Ne</td>\n",
       "      <td>Ne</td>\n",
       "      <td>6127284.0</td>\n",
       "      <td>504282.0</td>\n",
       "      <td>[{'dalyvisId': 48474207, 'kategorija': 'Automo...</td>\n",
       "      <td>[{'tpId': 33415862, 'regValstybe': 'Lietuva', ...</td>\n",
       "    </tr>\n",
       "    <tr>\n",
       "      <th>23518</th>\n",
       "      <td>07-22-9588943</td>\n",
       "      <td>2022-12-31 19:20</td>\n",
       "      <td>2022-12-31 21:15</td>\n",
       "      <td>2022-12-31 21:22</td>\n",
       "      <td>0</td>\n",
       "      <td>Kiti eismo įvykiai</td>\n",
       "      <td>Kiti eismo įvykiai</td>\n",
       "      <td>Užvažiavimas ant važiuojamoje dalyje esančios ...</td>\n",
       "      <td>1.0</td>\n",
       "      <td>0</td>\n",
       "      <td>...</td>\n",
       "      <td>None</td>\n",
       "      <td>1</td>\n",
       "      <td>70.0</td>\n",
       "      <td>Ne</td>\n",
       "      <td>Ne</td>\n",
       "      <td>Ne</td>\n",
       "      <td>6126630.0</td>\n",
       "      <td>551706.0</td>\n",
       "      <td>[{'dalyvisId': 48474230, 'kategorija': 'Automo...</td>\n",
       "      <td>[{'tpId': 33415874, 'regValstybe': 'Lietuva', ...</td>\n",
       "    </tr>\n",
       "    <tr>\n",
       "      <th>23519</th>\n",
       "      <td>07-22-9588944</td>\n",
       "      <td>2022-12-31 18:40</td>\n",
       "      <td>2022-12-31 21:35</td>\n",
       "      <td>2023-01-01 13:22</td>\n",
       "      <td>0</td>\n",
       "      <td>Susidūrimas su stovinčia transporto priemone</td>\n",
       "      <td>Kiti eismo įvykiai</td>\n",
       "      <td>Susidūrimas su stovinčia TP</td>\n",
       "      <td>1.0</td>\n",
       "      <td>0</td>\n",
       "      <td>...</td>\n",
       "      <td>None</td>\n",
       "      <td>1</td>\n",
       "      <td>20.0</td>\n",
       "      <td>Ne</td>\n",
       "      <td>Ne</td>\n",
       "      <td>Ne</td>\n",
       "      <td>6242381.0</td>\n",
       "      <td>396595.0</td>\n",
       "      <td>[{'dalyvisId': 48476944, 'kategorija': 'Automo...</td>\n",
       "      <td>[{'tpId': 33418365, 'regValstybe': 'Lietuva', ...</td>\n",
       "    </tr>\n",
       "  </tbody>\n",
       "</table>\n",
       "<p>23520 rows × 52 columns</p>\n",
       "</div>"
      ],
      "text/plain": [
       "       registrokodas        dataLaikas  registravimoData  \\\n",
       "0      07-22-9565141  2021-12-31 22:00  2022-01-01 00:30   \n",
       "1      07-22-9565142  2022-01-01 00:40  2022-01-01 01:28   \n",
       "2      07-22-9565143  2022-01-01 02:02  2022-01-01 02:29   \n",
       "3      07-22-9565144  2022-01-01 01:53  2022-01-01 02:34   \n",
       "4      07-22-9565145  2021-12-31 12:35  2022-01-01 02:52   \n",
       "...              ...               ...               ...   \n",
       "23515  07-22-9588940  2022-12-31 19:40  2022-12-31 20:15   \n",
       "23516  07-22-9588941  2022-12-31 17:35  2022-12-31 20:20   \n",
       "23517  07-22-9588942  2022-12-31 20:00  2022-12-31 20:52   \n",
       "23518  07-22-9588943  2022-12-31 19:20  2022-12-31 21:15   \n",
       "23519  07-22-9588944  2022-12-31 18:40  2022-12-31 21:35   \n",
       "\n",
       "      paskutinioRedagavimoLaikas  iskaitinis  \\\n",
       "0               2022-01-01 00:39           0   \n",
       "1               2022-01-03 13:49           0   \n",
       "2               2022-01-01 02:29           0   \n",
       "3               2022-12-20 09:44           0   \n",
       "4               2022-01-01 02:55           0   \n",
       "...                          ...         ...   \n",
       "23515           2022-12-31 21:45           0   \n",
       "23516           2023-01-06 08:09           0   \n",
       "23517           2022-12-31 20:44           0   \n",
       "23518           2022-12-31 21:22           0   \n",
       "23519           2023-01-01 13:22           0   \n",
       "\n",
       "                                              rusis  \\\n",
       "0                                Kiti eismo įvykiai   \n",
       "1                                       Susidūrimas   \n",
       "2                           Užvažiavimas ant gyvūno   \n",
       "3                                        Apvirtimas   \n",
       "4                         Užvažiavimas ant kliūties   \n",
       "...                                             ...   \n",
       "23515                       Užvažiavimas ant gyvūno   \n",
       "23516                                   Susidūrimas   \n",
       "23517                       Užvažiavimas ant gyvūno   \n",
       "23518                            Kiti eismo įvykiai   \n",
       "23519  Susidūrimas su stovinčia transporto priemone   \n",
       "\n",
       "                           schema1  \\\n",
       "0           Nuvažiavimai nuo kelio   \n",
       "1               Kiti eismo įvykiai   \n",
       "2               Kiti eismo įvykiai   \n",
       "3           Nuvažiavimai nuo kelio   \n",
       "4               Kiti eismo įvykiai   \n",
       "...                            ...   \n",
       "23515           Kiti eismo įvykiai   \n",
       "23516  Priešpriešiniai susidūrimai   \n",
       "23517           Kiti eismo įvykiai   \n",
       "23518           Kiti eismo įvykiai   \n",
       "23519           Kiti eismo įvykiai   \n",
       "\n",
       "                                                 schema2  dalyviuSkaicius  \\\n",
       "0      Nuvažiavimai nuo kelio į kairę, kai kelio ving...              1.0   \n",
       "1                            Susidūrimas su stovinčia TP              2.0   \n",
       "2                                Užvažiavimas ant gyvūno              1.0   \n",
       "3         Nuvažiavimai nuo kelio į dešinę tiesiame ruože              1.0   \n",
       "4                                     Kiti eismo įvykiai              1.0   \n",
       "...                                                  ...              ...   \n",
       "23515                            Užvažiavimas ant gyvūno              1.0   \n",
       "23516                         Priešpriešinis susidūrimas              2.0   \n",
       "23517                            Užvažiavimas ant gyvūno              1.0   \n",
       "23518  Užvažiavimas ant važiuojamoje dalyje esančios ...              1.0   \n",
       "23519                        Susidūrimas su stovinčia TP              1.0   \n",
       "\n",
       "       zuvusiuSkaicius  ...  kelioElementas2  privalomasLeistinasGreitis  \\\n",
       "0                    0  ...             None                           1   \n",
       "1                    0  ...             None                           1   \n",
       "2                    0  ...             None                           1   \n",
       "3                    0  ...             None                           1   \n",
       "4                    0  ...             None                           1   \n",
       "...                ...  ...              ...                         ...   \n",
       "23515                0  ...             None                           1   \n",
       "23516                0  ...             None                           1   \n",
       "23517                0  ...             None                           1   \n",
       "23518                0  ...             None                           1   \n",
       "23519                0  ...             None                           1   \n",
       "\n",
       "       leistinasGreitis  neblaivusKaltininkai  apsvaigeKaltininkai  \\\n",
       "0                  50.0                    Ne                   Ne   \n",
       "1                  20.0                    Ne                   Ne   \n",
       "2                  90.0                    Ne                   Ne   \n",
       "3                  90.0                    Ne                   Ne   \n",
       "4                  50.0                  Taip                   Ne   \n",
       "...                 ...                   ...                  ...   \n",
       "23515              90.0                    Ne                   Ne   \n",
       "23516              90.0                  Taip                   Ne   \n",
       "23517              90.0                    Ne                   Ne   \n",
       "23518              70.0                    Ne                   Ne   \n",
       "23519              20.0                    Ne                   Ne   \n",
       "\n",
       "       atsisakeTikrintisKaltininkai     ilguma   platuma  \\\n",
       "0                                Ne  6083759.0  491606.0   \n",
       "1                                Ne  6181902.0  317439.0   \n",
       "2                                Ne  6161589.0  333263.0   \n",
       "3                                Ne  6104844.0  630436.0   \n",
       "4                                Ne  6102529.0  495530.0   \n",
       "...                             ...        ...       ...   \n",
       "23515                            Ne  6060864.0  483320.0   \n",
       "23516                            Ne  6218953.0  589894.0   \n",
       "23517                            Ne  6127284.0  504282.0   \n",
       "23518                            Ne  6126630.0  551706.0   \n",
       "23519                            Ne  6242381.0  396595.0   \n",
       "\n",
       "                                           eismoDalyviai  \\\n",
       "0      [{'dalyvisId': 47756477, 'kategorija': 'Automo...   \n",
       "1      [{'dalyvisId': 47759080, 'kategorija': 'Automo...   \n",
       "2      [{'dalyvisId': 47756490, 'kategorija': 'Automo...   \n",
       "3      [{'dalyvisId': 48447053, 'kategorija': 'Automo...   \n",
       "4      [{'dalyvisId': 47756497, 'kategorija': 'Automo...   \n",
       "...                                                  ...   \n",
       "23515  [{'dalyvisId': 48474241, 'kategorija': 'Automo...   \n",
       "23516  [{'dalyvisId': 48489943, 'kategorija': 'Automo...   \n",
       "23517  [{'dalyvisId': 48474207, 'kategorija': 'Automo...   \n",
       "23518  [{'dalyvisId': 48474230, 'kategorija': 'Automo...   \n",
       "23519  [{'dalyvisId': 48476944, 'kategorija': 'Automo...   \n",
       "\n",
       "                                     eismoTranspPreimone  \n",
       "0      [{'tpId': 32912177, 'regValstybe': 'Lietuva', ...  \n",
       "1      [{'tpId': 32913457, 'regValstybe': 'Lietuva', ...  \n",
       "2      [{'tpId': 32912184, 'regValstybe': 'Lietuva', ...  \n",
       "3      [{'tpId': 33386413, 'regValstybe': 'Lietuva', ...  \n",
       "4      [{'tpId': 32912187, 'regValstybe': 'Lietuva', ...  \n",
       "...                                                  ...  \n",
       "23515  [{'tpId': 33416356, 'regValstybe': 'Lietuva', ...  \n",
       "23516  [{'tpId': 33427877, 'regValstybe': 'Lietuva', ...  \n",
       "23517  [{'tpId': 33415862, 'regValstybe': 'Lietuva', ...  \n",
       "23518  [{'tpId': 33415874, 'regValstybe': 'Lietuva', ...  \n",
       "23519  [{'tpId': 33418365, 'regValstybe': 'Lietuva', ...  \n",
       "\n",
       "[23520 rows x 52 columns]"
      ]
     },
     "execution_count": 52,
     "metadata": {},
     "output_type": "execute_result"
    }
   ],
   "source": [
    "df"
   ]
  },
  {
   "cell_type": "code",
   "execution_count": 6,
   "metadata": {},
   "outputs": [
    {
     "data": {
      "text/plain": [
       "(23520, 52)"
      ]
     },
     "execution_count": 6,
     "metadata": {},
     "output_type": "execute_result"
    }
   ],
   "source": [
    "df.shape"
   ]
  },
  {
   "cell_type": "code",
   "execution_count": 7,
   "metadata": {},
   "outputs": [
    {
     "name": "stdout",
     "output_type": "stream",
     "text": [
      "<class 'pandas.core.frame.DataFrame'>\n",
      "RangeIndex: 23520 entries, 0 to 23519\n",
      "Data columns (total 52 columns):\n",
      " #   Column                        Non-Null Count  Dtype  \n",
      "---  ------                        --------------  -----  \n",
      " 0   registrokodas                 23520 non-null  object \n",
      " 1   dataLaikas                    23520 non-null  object \n",
      " 2   registravimoData              23520 non-null  object \n",
      " 3   paskutinioRedagavimoLaikas    23510 non-null  object \n",
      " 4   iskaitinis                    23520 non-null  int64  \n",
      " 5   rusis                         23510 non-null  object \n",
      " 6   schema1                       23510 non-null  object \n",
      " 7   schema2                       23510 non-null  object \n",
      " 8   dalyviuSkaicius               23510 non-null  float64\n",
      " 9   zuvusiuSkaicius               23520 non-null  int64  \n",
      " 10  zuvVaiku                      23520 non-null  int64  \n",
      " 11  suzeistuSkaicius              23520 non-null  int64  \n",
      " 12  suzeistaVaiku                 23520 non-null  int64  \n",
      " 13  tpSkaicius                    23510 non-null  float64\n",
      " 14  policijosTpSkaicius           88 non-null     float64\n",
      " 15  apgadintuTpSkaicius           22725 non-null  float64\n",
      " 16  apgadintuPolicijosTpSkaicius  62 non-null     float64\n",
      " 17  policijosIstaigaL1            23520 non-null  object \n",
      " 18  policijosIstaigaL2            1117 non-null   object \n",
      " 19  iforminusiIstaigaL1           18430 non-null  object \n",
      " 20  iforminusiIstaigaL2           2911 non-null   object \n",
      " 21  ivykioVieta                   23520 non-null  object \n",
      " 22  vietosSavivaldybeTipas        23340 non-null  object \n",
      " 23  savivaldybe                   23520 non-null  object \n",
      " 24  gatve                         17446 non-null  object \n",
      " 25  namas                         12894 non-null  object \n",
      " 26  kitaGatveSankryzoje           2310 non-null   object \n",
      " 27  kelioPavadinimas              5983 non-null   object \n",
      " 28  kelioReiksme                  6377 non-null   object \n",
      " 29  atstumas                      5803 non-null   float64\n",
      " 30  dangosRusis                   23510 non-null  object \n",
      " 31  dangosBukle                   23510 non-null  object \n",
      " 32  parosMetas                    23510 non-null  object \n",
      " 33  kelioApsvietimas              6577 non-null   object \n",
      " 34  meteoSalygos                  23510 non-null  object \n",
      " 35  kitosOroSalygos               23520 non-null  object \n",
      " 36  kelioGatvesKreive             23510 non-null  object \n",
      " 37  nuliamentisVeiksnys           1054 non-null   object \n",
      " 38  kitiNuliamentysVeiksniai      23520 non-null  object \n",
      " 39  atitvarai                     23514 non-null  object \n",
      " 40  sankryzosTipas                2651 non-null   object \n",
      " 41  kelioElementas1               1316 non-null   object \n",
      " 42  kelioElementas2               91 non-null     object \n",
      " 43  privalomasLeistinasGreitis    23520 non-null  int64  \n",
      " 44  leistinasGreitis              23509 non-null  float64\n",
      " 45  neblaivusKaltininkai          23520 non-null  object \n",
      " 46  apsvaigeKaltininkai           23520 non-null  object \n",
      " 47  atsisakeTikrintisKaltininkai  23520 non-null  object \n",
      " 48  ilguma                        23484 non-null  float64\n",
      " 49  platuma                       23483 non-null  float64\n",
      " 50  eismoDalyviai                 23520 non-null  object \n",
      " 51  eismoTranspPreimone           23520 non-null  object \n",
      "dtypes: float64(9), int64(6), object(37)\n",
      "memory usage: 9.3+ MB\n"
     ]
    }
   ],
   "source": [
    "df.info()"
   ]
  },
  {
   "cell_type": "code",
   "execution_count": 8,
   "metadata": {},
   "outputs": [
    {
     "data": {
      "text/plain": [
       "Index(['registrokodas', 'dataLaikas', 'registravimoData',\n",
       "       'paskutinioRedagavimoLaikas', 'rusis', 'schema1', 'schema2',\n",
       "       'policijosIstaigaL1', 'policijosIstaigaL2', 'iforminusiIstaigaL1',\n",
       "       'iforminusiIstaigaL2', 'ivykioVieta', 'vietosSavivaldybeTipas',\n",
       "       'savivaldybe', 'gatve', 'namas', 'kitaGatveSankryzoje',\n",
       "       'kelioPavadinimas', 'kelioReiksme', 'dangosRusis', 'dangosBukle',\n",
       "       'parosMetas', 'kelioApsvietimas', 'meteoSalygos', 'kitosOroSalygos',\n",
       "       'kelioGatvesKreive', 'nuliamentisVeiksnys', 'kitiNuliamentysVeiksniai',\n",
       "       'atitvarai', 'sankryzosTipas', 'kelioElementas1', 'kelioElementas2',\n",
       "       'neblaivusKaltininkai', 'apsvaigeKaltininkai',\n",
       "       'atsisakeTikrintisKaltininkai', 'eismoDalyviai', 'eismoTranspPreimone'],\n",
       "      dtype='object')"
      ]
     },
     "execution_count": 8,
     "metadata": {},
     "output_type": "execute_result"
    }
   ],
   "source": [
    "df.select_dtypes(include=['object']).columns"
   ]
  },
  {
   "cell_type": "code",
   "execution_count": 9,
   "metadata": {},
   "outputs": [
    {
     "data": {
      "text/plain": [
       "37"
      ]
     },
     "execution_count": 9,
     "metadata": {},
     "output_type": "execute_result"
    }
   ],
   "source": [
    "len(df.select_dtypes(include=['object']).columns)"
   ]
  },
  {
   "cell_type": "code",
   "execution_count": 12,
   "metadata": {},
   "outputs": [
    {
     "data": {
      "text/plain": [
       "Index(['iskaitinis', 'dalyviuSkaicius', 'zuvusiuSkaicius', 'zuvVaiku',\n",
       "       'suzeistuSkaicius', 'suzeistaVaiku', 'tpSkaicius',\n",
       "       'policijosTpSkaicius', 'apgadintuTpSkaicius',\n",
       "       'apgadintuPolicijosTpSkaicius', 'atstumas',\n",
       "       'privalomasLeistinasGreitis', 'leistinasGreitis', 'ilguma', 'platuma'],\n",
       "      dtype='object')"
      ]
     },
     "execution_count": 12,
     "metadata": {},
     "output_type": "execute_result"
    }
   ],
   "source": [
    "df.select_dtypes(include=['int64','float64']).columns"
   ]
  },
  {
   "cell_type": "code",
   "execution_count": 13,
   "metadata": {},
   "outputs": [
    {
     "data": {
      "text/plain": [
       "15"
      ]
     },
     "execution_count": 13,
     "metadata": {},
     "output_type": "execute_result"
    }
   ],
   "source": [
    "len(df.select_dtypes(include=['int64','float64']).columns)"
   ]
  },
  {
   "cell_type": "code",
   "execution_count": 14,
   "metadata": {},
   "outputs": [
    {
     "data": {
      "text/plain": [
       "True"
      ]
     },
     "execution_count": 14,
     "metadata": {},
     "output_type": "execute_result"
    }
   ],
   "source": [
    "df.isnull().values.any()"
   ]
  },
  {
   "cell_type": "code",
   "execution_count": 18,
   "metadata": {},
   "outputs": [
    {
     "data": {
      "text/plain": [
       "0"
      ]
     },
     "execution_count": 18,
     "metadata": {},
     "output_type": "execute_result"
    }
   ],
   "source": [
    "df.isnull().values.sum()"
   ]
  },
  {
   "cell_type": "code",
   "execution_count": 16,
   "metadata": {},
   "outputs": [
    {
     "data": {
      "text/plain": [
       "Index(['paskutinioRedagavimoLaikas', 'rusis', 'schema1', 'schema2',\n",
       "       'dalyviuSkaicius', 'tpSkaicius', 'policijosTpSkaicius',\n",
       "       'apgadintuTpSkaicius', 'apgadintuPolicijosTpSkaicius',\n",
       "       'policijosIstaigaL2', 'iforminusiIstaigaL1', 'iforminusiIstaigaL2',\n",
       "       'vietosSavivaldybeTipas', 'gatve', 'namas', 'kitaGatveSankryzoje',\n",
       "       'kelioPavadinimas', 'kelioReiksme', 'atstumas', 'dangosRusis',\n",
       "       'dangosBukle', 'parosMetas', 'kelioApsvietimas', 'meteoSalygos',\n",
       "       'kelioGatvesKreive', 'nuliamentisVeiksnys', 'atitvarai',\n",
       "       'sankryzosTipas', 'kelioElementas1', 'kelioElementas2',\n",
       "       'leistinasGreitis', 'ilguma', 'platuma'],\n",
       "      dtype='object')"
      ]
     },
     "execution_count": 16,
     "metadata": {},
     "output_type": "execute_result"
    }
   ],
   "source": [
    "df.columns[df.isnull().any()]"
   ]
  },
  {
   "cell_type": "code",
   "execution_count": 26,
   "metadata": {},
   "outputs": [],
   "source": [
    "df.dropna(inplace=True)"
   ]
  },
  {
   "cell_type": "code",
   "execution_count": 53,
   "metadata": {},
   "outputs": [
    {
     "name": "stderr",
     "output_type": "stream",
     "text": [
      "C:\\Users\\Batia\\AppData\\Local\\Temp\\ipykernel_23972\\3041237978.py:1: FutureWarning: DataFrame.applymap has been deprecated. Use DataFrame.map instead.\n",
      "  list_columns = df.select_dtypes(include=['object']).applymap(lambda x: isinstance(x, list)).any()\n"
     ]
    }
   ],
   "source": [
    "\n",
    "list_columns = df.select_dtypes(include=['object']).applymap(lambda x: isinstance(x, list)).any()\n",
    "for col in list_columns.index:\n",
    "\tif list_columns[col]:\n",
    "\t\tdf[col] = df[col].apply(lambda x: str(x) if isinstance(x, list) else x)\n",
    "\n",
    "\n",
    "df = pd.get_dummies(data=df, drop_first=True)"
   ]
  },
  {
   "cell_type": "code",
   "execution_count": 38,
   "metadata": {},
   "outputs": [
    {
     "data": {
      "text/html": [
       "<div>\n",
       "<style scoped>\n",
       "    .dataframe tbody tr th:only-of-type {\n",
       "        vertical-align: middle;\n",
       "    }\n",
       "\n",
       "    .dataframe tbody tr th {\n",
       "        vertical-align: top;\n",
       "    }\n",
       "\n",
       "    .dataframe thead th {\n",
       "        text-align: right;\n",
       "    }\n",
       "</style>\n",
       "<table border=\"1\" class=\"dataframe\">\n",
       "  <thead>\n",
       "    <tr style=\"text-align: right;\">\n",
       "      <th></th>\n",
       "      <th>registrokodas</th>\n",
       "      <th>dataLaikas</th>\n",
       "      <th>registravimoData</th>\n",
       "      <th>paskutinioRedagavimoLaikas</th>\n",
       "      <th>iskaitinis</th>\n",
       "      <th>rusis</th>\n",
       "      <th>schema1</th>\n",
       "      <th>schema2</th>\n",
       "      <th>dalyviuSkaicius</th>\n",
       "      <th>zuvusiuSkaicius</th>\n",
       "      <th>...</th>\n",
       "      <th>kelioElementas2</th>\n",
       "      <th>privalomasLeistinasGreitis</th>\n",
       "      <th>leistinasGreitis</th>\n",
       "      <th>neblaivusKaltininkai</th>\n",
       "      <th>apsvaigeKaltininkai</th>\n",
       "      <th>atsisakeTikrintisKaltininkai</th>\n",
       "      <th>ilguma</th>\n",
       "      <th>platuma</th>\n",
       "      <th>eismoDalyviai</th>\n",
       "      <th>eismoTranspPreimone</th>\n",
       "    </tr>\n",
       "  </thead>\n",
       "  <tbody>\n",
       "    <tr>\n",
       "      <th>0</th>\n",
       "      <td>07-22-9565141</td>\n",
       "      <td>2021-12-31 22:00</td>\n",
       "      <td>2022-01-01 00:30</td>\n",
       "      <td>2022-01-01 00:39</td>\n",
       "      <td>0</td>\n",
       "      <td>Kiti eismo įvykiai</td>\n",
       "      <td>Nuvažiavimai nuo kelio</td>\n",
       "      <td>Nuvažiavimai nuo kelio į kairę, kai kelio ving...</td>\n",
       "      <td>1.0</td>\n",
       "      <td>0</td>\n",
       "      <td>...</td>\n",
       "      <td>None</td>\n",
       "      <td>1</td>\n",
       "      <td>50.0</td>\n",
       "      <td>Ne</td>\n",
       "      <td>Ne</td>\n",
       "      <td>Ne</td>\n",
       "      <td>6083759.0</td>\n",
       "      <td>491606.0</td>\n",
       "      <td>[{'dalyvisId': 47756477, 'kategorija': 'Automo...</td>\n",
       "      <td>[{'tpId': 32912177, 'regValstybe': 'Lietuva', ...</td>\n",
       "    </tr>\n",
       "    <tr>\n",
       "      <th>1</th>\n",
       "      <td>07-22-9565142</td>\n",
       "      <td>2022-01-01 00:40</td>\n",
       "      <td>2022-01-01 01:28</td>\n",
       "      <td>2022-01-03 13:49</td>\n",
       "      <td>0</td>\n",
       "      <td>Susidūrimas</td>\n",
       "      <td>Kiti eismo įvykiai</td>\n",
       "      <td>Susidūrimas su stovinčia TP</td>\n",
       "      <td>2.0</td>\n",
       "      <td>0</td>\n",
       "      <td>...</td>\n",
       "      <td>None</td>\n",
       "      <td>1</td>\n",
       "      <td>20.0</td>\n",
       "      <td>Ne</td>\n",
       "      <td>Ne</td>\n",
       "      <td>Ne</td>\n",
       "      <td>6181902.0</td>\n",
       "      <td>317439.0</td>\n",
       "      <td>[{'dalyvisId': 47759080, 'kategorija': 'Automo...</td>\n",
       "      <td>[{'tpId': 32913457, 'regValstybe': 'Lietuva', ...</td>\n",
       "    </tr>\n",
       "    <tr>\n",
       "      <th>2</th>\n",
       "      <td>07-22-9565143</td>\n",
       "      <td>2022-01-01 02:02</td>\n",
       "      <td>2022-01-01 02:29</td>\n",
       "      <td>2022-01-01 02:29</td>\n",
       "      <td>0</td>\n",
       "      <td>Užvažiavimas ant gyvūno</td>\n",
       "      <td>Kiti eismo įvykiai</td>\n",
       "      <td>Užvažiavimas ant gyvūno</td>\n",
       "      <td>1.0</td>\n",
       "      <td>0</td>\n",
       "      <td>...</td>\n",
       "      <td>None</td>\n",
       "      <td>1</td>\n",
       "      <td>90.0</td>\n",
       "      <td>Ne</td>\n",
       "      <td>Ne</td>\n",
       "      <td>Ne</td>\n",
       "      <td>6161589.0</td>\n",
       "      <td>333263.0</td>\n",
       "      <td>[{'dalyvisId': 47756490, 'kategorija': 'Automo...</td>\n",
       "      <td>[{'tpId': 32912184, 'regValstybe': 'Lietuva', ...</td>\n",
       "    </tr>\n",
       "    <tr>\n",
       "      <th>3</th>\n",
       "      <td>07-22-9565144</td>\n",
       "      <td>2022-01-01 01:53</td>\n",
       "      <td>2022-01-01 02:34</td>\n",
       "      <td>2022-12-20 09:44</td>\n",
       "      <td>0</td>\n",
       "      <td>Apvirtimas</td>\n",
       "      <td>Nuvažiavimai nuo kelio</td>\n",
       "      <td>Nuvažiavimai nuo kelio į dešinę tiesiame ruože</td>\n",
       "      <td>1.0</td>\n",
       "      <td>0</td>\n",
       "      <td>...</td>\n",
       "      <td>None</td>\n",
       "      <td>1</td>\n",
       "      <td>90.0</td>\n",
       "      <td>Ne</td>\n",
       "      <td>Ne</td>\n",
       "      <td>Ne</td>\n",
       "      <td>6104844.0</td>\n",
       "      <td>630436.0</td>\n",
       "      <td>[{'dalyvisId': 48447053, 'kategorija': 'Automo...</td>\n",
       "      <td>[{'tpId': 33386413, 'regValstybe': 'Lietuva', ...</td>\n",
       "    </tr>\n",
       "    <tr>\n",
       "      <th>4</th>\n",
       "      <td>07-22-9565145</td>\n",
       "      <td>2021-12-31 12:35</td>\n",
       "      <td>2022-01-01 02:52</td>\n",
       "      <td>2022-01-01 02:55</td>\n",
       "      <td>0</td>\n",
       "      <td>Užvažiavimas ant kliūties</td>\n",
       "      <td>Kiti eismo įvykiai</td>\n",
       "      <td>Kiti eismo įvykiai</td>\n",
       "      <td>1.0</td>\n",
       "      <td>0</td>\n",
       "      <td>...</td>\n",
       "      <td>None</td>\n",
       "      <td>1</td>\n",
       "      <td>50.0</td>\n",
       "      <td>Taip</td>\n",
       "      <td>Ne</td>\n",
       "      <td>Ne</td>\n",
       "      <td>6102529.0</td>\n",
       "      <td>495530.0</td>\n",
       "      <td>[{'dalyvisId': 47756497, 'kategorija': 'Automo...</td>\n",
       "      <td>[{'tpId': 32912187, 'regValstybe': 'Lietuva', ...</td>\n",
       "    </tr>\n",
       "    <tr>\n",
       "      <th>...</th>\n",
       "      <td>...</td>\n",
       "      <td>...</td>\n",
       "      <td>...</td>\n",
       "      <td>...</td>\n",
       "      <td>...</td>\n",
       "      <td>...</td>\n",
       "      <td>...</td>\n",
       "      <td>...</td>\n",
       "      <td>...</td>\n",
       "      <td>...</td>\n",
       "      <td>...</td>\n",
       "      <td>...</td>\n",
       "      <td>...</td>\n",
       "      <td>...</td>\n",
       "      <td>...</td>\n",
       "      <td>...</td>\n",
       "      <td>...</td>\n",
       "      <td>...</td>\n",
       "      <td>...</td>\n",
       "      <td>...</td>\n",
       "      <td>...</td>\n",
       "    </tr>\n",
       "    <tr>\n",
       "      <th>23515</th>\n",
       "      <td>07-22-9588940</td>\n",
       "      <td>2022-12-31 19:40</td>\n",
       "      <td>2022-12-31 20:15</td>\n",
       "      <td>2022-12-31 21:45</td>\n",
       "      <td>0</td>\n",
       "      <td>Užvažiavimas ant gyvūno</td>\n",
       "      <td>Kiti eismo įvykiai</td>\n",
       "      <td>Užvažiavimas ant gyvūno</td>\n",
       "      <td>1.0</td>\n",
       "      <td>0</td>\n",
       "      <td>...</td>\n",
       "      <td>None</td>\n",
       "      <td>1</td>\n",
       "      <td>90.0</td>\n",
       "      <td>Ne</td>\n",
       "      <td>Ne</td>\n",
       "      <td>Ne</td>\n",
       "      <td>6060864.0</td>\n",
       "      <td>483320.0</td>\n",
       "      <td>[{'dalyvisId': 48474241, 'kategorija': 'Automo...</td>\n",
       "      <td>[{'tpId': 33416356, 'regValstybe': 'Lietuva', ...</td>\n",
       "    </tr>\n",
       "    <tr>\n",
       "      <th>23516</th>\n",
       "      <td>07-22-9588941</td>\n",
       "      <td>2022-12-31 17:35</td>\n",
       "      <td>2022-12-31 20:20</td>\n",
       "      <td>2023-01-06 08:09</td>\n",
       "      <td>0</td>\n",
       "      <td>Susidūrimas</td>\n",
       "      <td>Priešpriešiniai susidūrimai</td>\n",
       "      <td>Priešpriešinis susidūrimas</td>\n",
       "      <td>2.0</td>\n",
       "      <td>0</td>\n",
       "      <td>...</td>\n",
       "      <td>None</td>\n",
       "      <td>1</td>\n",
       "      <td>90.0</td>\n",
       "      <td>Taip</td>\n",
       "      <td>Ne</td>\n",
       "      <td>Ne</td>\n",
       "      <td>6218953.0</td>\n",
       "      <td>589894.0</td>\n",
       "      <td>[{'dalyvisId': 48489943, 'kategorija': 'Automo...</td>\n",
       "      <td>[{'tpId': 33427877, 'regValstybe': 'Lietuva', ...</td>\n",
       "    </tr>\n",
       "    <tr>\n",
       "      <th>23517</th>\n",
       "      <td>07-22-9588942</td>\n",
       "      <td>2022-12-31 20:00</td>\n",
       "      <td>2022-12-31 20:52</td>\n",
       "      <td>2022-12-31 20:44</td>\n",
       "      <td>0</td>\n",
       "      <td>Užvažiavimas ant gyvūno</td>\n",
       "      <td>Kiti eismo įvykiai</td>\n",
       "      <td>Užvažiavimas ant gyvūno</td>\n",
       "      <td>1.0</td>\n",
       "      <td>0</td>\n",
       "      <td>...</td>\n",
       "      <td>None</td>\n",
       "      <td>1</td>\n",
       "      <td>90.0</td>\n",
       "      <td>Ne</td>\n",
       "      <td>Ne</td>\n",
       "      <td>Ne</td>\n",
       "      <td>6127284.0</td>\n",
       "      <td>504282.0</td>\n",
       "      <td>[{'dalyvisId': 48474207, 'kategorija': 'Automo...</td>\n",
       "      <td>[{'tpId': 33415862, 'regValstybe': 'Lietuva', ...</td>\n",
       "    </tr>\n",
       "    <tr>\n",
       "      <th>23518</th>\n",
       "      <td>07-22-9588943</td>\n",
       "      <td>2022-12-31 19:20</td>\n",
       "      <td>2022-12-31 21:15</td>\n",
       "      <td>2022-12-31 21:22</td>\n",
       "      <td>0</td>\n",
       "      <td>Kiti eismo įvykiai</td>\n",
       "      <td>Kiti eismo įvykiai</td>\n",
       "      <td>Užvažiavimas ant važiuojamoje dalyje esančios ...</td>\n",
       "      <td>1.0</td>\n",
       "      <td>0</td>\n",
       "      <td>...</td>\n",
       "      <td>None</td>\n",
       "      <td>1</td>\n",
       "      <td>70.0</td>\n",
       "      <td>Ne</td>\n",
       "      <td>Ne</td>\n",
       "      <td>Ne</td>\n",
       "      <td>6126630.0</td>\n",
       "      <td>551706.0</td>\n",
       "      <td>[{'dalyvisId': 48474230, 'kategorija': 'Automo...</td>\n",
       "      <td>[{'tpId': 33415874, 'regValstybe': 'Lietuva', ...</td>\n",
       "    </tr>\n",
       "    <tr>\n",
       "      <th>23519</th>\n",
       "      <td>07-22-9588944</td>\n",
       "      <td>2022-12-31 18:40</td>\n",
       "      <td>2022-12-31 21:35</td>\n",
       "      <td>2023-01-01 13:22</td>\n",
       "      <td>0</td>\n",
       "      <td>Susidūrimas su stovinčia transporto priemone</td>\n",
       "      <td>Kiti eismo įvykiai</td>\n",
       "      <td>Susidūrimas su stovinčia TP</td>\n",
       "      <td>1.0</td>\n",
       "      <td>0</td>\n",
       "      <td>...</td>\n",
       "      <td>None</td>\n",
       "      <td>1</td>\n",
       "      <td>20.0</td>\n",
       "      <td>Ne</td>\n",
       "      <td>Ne</td>\n",
       "      <td>Ne</td>\n",
       "      <td>6242381.0</td>\n",
       "      <td>396595.0</td>\n",
       "      <td>[{'dalyvisId': 48476944, 'kategorija': 'Automo...</td>\n",
       "      <td>[{'tpId': 33418365, 'regValstybe': 'Lietuva', ...</td>\n",
       "    </tr>\n",
       "  </tbody>\n",
       "</table>\n",
       "<p>23520 rows × 52 columns</p>\n",
       "</div>"
      ],
      "text/plain": [
       "       registrokodas        dataLaikas  registravimoData  \\\n",
       "0      07-22-9565141  2021-12-31 22:00  2022-01-01 00:30   \n",
       "1      07-22-9565142  2022-01-01 00:40  2022-01-01 01:28   \n",
       "2      07-22-9565143  2022-01-01 02:02  2022-01-01 02:29   \n",
       "3      07-22-9565144  2022-01-01 01:53  2022-01-01 02:34   \n",
       "4      07-22-9565145  2021-12-31 12:35  2022-01-01 02:52   \n",
       "...              ...               ...               ...   \n",
       "23515  07-22-9588940  2022-12-31 19:40  2022-12-31 20:15   \n",
       "23516  07-22-9588941  2022-12-31 17:35  2022-12-31 20:20   \n",
       "23517  07-22-9588942  2022-12-31 20:00  2022-12-31 20:52   \n",
       "23518  07-22-9588943  2022-12-31 19:20  2022-12-31 21:15   \n",
       "23519  07-22-9588944  2022-12-31 18:40  2022-12-31 21:35   \n",
       "\n",
       "      paskutinioRedagavimoLaikas  iskaitinis  \\\n",
       "0               2022-01-01 00:39           0   \n",
       "1               2022-01-03 13:49           0   \n",
       "2               2022-01-01 02:29           0   \n",
       "3               2022-12-20 09:44           0   \n",
       "4               2022-01-01 02:55           0   \n",
       "...                          ...         ...   \n",
       "23515           2022-12-31 21:45           0   \n",
       "23516           2023-01-06 08:09           0   \n",
       "23517           2022-12-31 20:44           0   \n",
       "23518           2022-12-31 21:22           0   \n",
       "23519           2023-01-01 13:22           0   \n",
       "\n",
       "                                              rusis  \\\n",
       "0                                Kiti eismo įvykiai   \n",
       "1                                       Susidūrimas   \n",
       "2                           Užvažiavimas ant gyvūno   \n",
       "3                                        Apvirtimas   \n",
       "4                         Užvažiavimas ant kliūties   \n",
       "...                                             ...   \n",
       "23515                       Užvažiavimas ant gyvūno   \n",
       "23516                                   Susidūrimas   \n",
       "23517                       Užvažiavimas ant gyvūno   \n",
       "23518                            Kiti eismo įvykiai   \n",
       "23519  Susidūrimas su stovinčia transporto priemone   \n",
       "\n",
       "                           schema1  \\\n",
       "0           Nuvažiavimai nuo kelio   \n",
       "1               Kiti eismo įvykiai   \n",
       "2               Kiti eismo įvykiai   \n",
       "3           Nuvažiavimai nuo kelio   \n",
       "4               Kiti eismo įvykiai   \n",
       "...                            ...   \n",
       "23515           Kiti eismo įvykiai   \n",
       "23516  Priešpriešiniai susidūrimai   \n",
       "23517           Kiti eismo įvykiai   \n",
       "23518           Kiti eismo įvykiai   \n",
       "23519           Kiti eismo įvykiai   \n",
       "\n",
       "                                                 schema2  dalyviuSkaicius  \\\n",
       "0      Nuvažiavimai nuo kelio į kairę, kai kelio ving...              1.0   \n",
       "1                            Susidūrimas su stovinčia TP              2.0   \n",
       "2                                Užvažiavimas ant gyvūno              1.0   \n",
       "3         Nuvažiavimai nuo kelio į dešinę tiesiame ruože              1.0   \n",
       "4                                     Kiti eismo įvykiai              1.0   \n",
       "...                                                  ...              ...   \n",
       "23515                            Užvažiavimas ant gyvūno              1.0   \n",
       "23516                         Priešpriešinis susidūrimas              2.0   \n",
       "23517                            Užvažiavimas ant gyvūno              1.0   \n",
       "23518  Užvažiavimas ant važiuojamoje dalyje esančios ...              1.0   \n",
       "23519                        Susidūrimas su stovinčia TP              1.0   \n",
       "\n",
       "       zuvusiuSkaicius  ...  kelioElementas2  privalomasLeistinasGreitis  \\\n",
       "0                    0  ...             None                           1   \n",
       "1                    0  ...             None                           1   \n",
       "2                    0  ...             None                           1   \n",
       "3                    0  ...             None                           1   \n",
       "4                    0  ...             None                           1   \n",
       "...                ...  ...              ...                         ...   \n",
       "23515                0  ...             None                           1   \n",
       "23516                0  ...             None                           1   \n",
       "23517                0  ...             None                           1   \n",
       "23518                0  ...             None                           1   \n",
       "23519                0  ...             None                           1   \n",
       "\n",
       "       leistinasGreitis  neblaivusKaltininkai  apsvaigeKaltininkai  \\\n",
       "0                  50.0                    Ne                   Ne   \n",
       "1                  20.0                    Ne                   Ne   \n",
       "2                  90.0                    Ne                   Ne   \n",
       "3                  90.0                    Ne                   Ne   \n",
       "4                  50.0                  Taip                   Ne   \n",
       "...                 ...                   ...                  ...   \n",
       "23515              90.0                    Ne                   Ne   \n",
       "23516              90.0                  Taip                   Ne   \n",
       "23517              90.0                    Ne                   Ne   \n",
       "23518              70.0                    Ne                   Ne   \n",
       "23519              20.0                    Ne                   Ne   \n",
       "\n",
       "       atsisakeTikrintisKaltininkai     ilguma   platuma  \\\n",
       "0                                Ne  6083759.0  491606.0   \n",
       "1                                Ne  6181902.0  317439.0   \n",
       "2                                Ne  6161589.0  333263.0   \n",
       "3                                Ne  6104844.0  630436.0   \n",
       "4                                Ne  6102529.0  495530.0   \n",
       "...                             ...        ...       ...   \n",
       "23515                            Ne  6060864.0  483320.0   \n",
       "23516                            Ne  6218953.0  589894.0   \n",
       "23517                            Ne  6127284.0  504282.0   \n",
       "23518                            Ne  6126630.0  551706.0   \n",
       "23519                            Ne  6242381.0  396595.0   \n",
       "\n",
       "                                           eismoDalyviai  \\\n",
       "0      [{'dalyvisId': 47756477, 'kategorija': 'Automo...   \n",
       "1      [{'dalyvisId': 47759080, 'kategorija': 'Automo...   \n",
       "2      [{'dalyvisId': 47756490, 'kategorija': 'Automo...   \n",
       "3      [{'dalyvisId': 48447053, 'kategorija': 'Automo...   \n",
       "4      [{'dalyvisId': 47756497, 'kategorija': 'Automo...   \n",
       "...                                                  ...   \n",
       "23515  [{'dalyvisId': 48474241, 'kategorija': 'Automo...   \n",
       "23516  [{'dalyvisId': 48489943, 'kategorija': 'Automo...   \n",
       "23517  [{'dalyvisId': 48474207, 'kategorija': 'Automo...   \n",
       "23518  [{'dalyvisId': 48474230, 'kategorija': 'Automo...   \n",
       "23519  [{'dalyvisId': 48476944, 'kategorija': 'Automo...   \n",
       "\n",
       "                                     eismoTranspPreimone  \n",
       "0      [{'tpId': 32912177, 'regValstybe': 'Lietuva', ...  \n",
       "1      [{'tpId': 32913457, 'regValstybe': 'Lietuva', ...  \n",
       "2      [{'tpId': 32912184, 'regValstybe': 'Lietuva', ...  \n",
       "3      [{'tpId': 33386413, 'regValstybe': 'Lietuva', ...  \n",
       "4      [{'tpId': 32912187, 'regValstybe': 'Lietuva', ...  \n",
       "...                                                  ...  \n",
       "23515  [{'tpId': 33416356, 'regValstybe': 'Lietuva', ...  \n",
       "23516  [{'tpId': 33427877, 'regValstybe': 'Lietuva', ...  \n",
       "23517  [{'tpId': 33415862, 'regValstybe': 'Lietuva', ...  \n",
       "23518  [{'tpId': 33415874, 'regValstybe': 'Lietuva', ...  \n",
       "23519  [{'tpId': 33418365, 'regValstybe': 'Lietuva', ...  \n",
       "\n",
       "[23520 rows x 52 columns]"
      ]
     },
     "execution_count": 38,
     "metadata": {},
     "output_type": "execute_result"
    }
   ],
   "source": [
    "df"
   ]
  },
  {
   "cell_type": "code",
   "execution_count": 37,
   "metadata": {},
   "outputs": [],
   "source": [
    "from sklearn.preprocessing import LabelEncoder"
   ]
  },
  {
   "cell_type": "code",
   "execution_count": 92,
   "metadata": {},
   "outputs": [],
   "source": [
    "columns_to_encode = ['registrokodas', 'dataLaikas', 'registravimoData',\n",
    "       'paskutinioRedagavimoLaikas', 'rusis', 'schema1', 'schema2',\n",
    "       'policijosIstaigaL1', 'policijosIstaigaL2', 'iforminusiIstaigaL1',\n",
    "       'iforminusiIstaigaL2', 'ivykioVieta', 'vietosSavivaldybeTipas',\n",
    "       'savivaldybe', 'gatve', 'namas', 'kitaGatveSankryzoje',\n",
    "       'kelioPavadinimas', 'kelioReiksme', 'dangosRusis', 'dangosBukle',\n",
    "       'parosMetas', 'kelioApsvietimas', 'meteoSalygos', 'kitosOroSalygos',\n",
    "       'kelioGatvesKreive', 'nuliamentisVeiksnys', 'kitiNuliamentysVeiksniai',\n",
    "       'atitvarai', 'sankryzosTipas', 'kelioElementas1', 'kelioElementas2',\n",
    "       'neblaivusKaltininkai', 'apsvaigeKaltininkai',\n",
    "       'atsisakeTikrintisKaltininkai', 'eismoDalyviai', 'eismoTranspPreimone', 'lytis']\n",
    "\n",
    "\n",
    "for col in columns_to_encode:\n",
    "    df[col] = df[col].apply(lambda x: str(x) if isinstance(x, list) else x)\n",
    "\n",
    "df[columns_to_encode] = df[columns_to_encode].apply(LabelEncoder().fit_transform)\n"
   ]
  },
  {
   "cell_type": "code",
   "execution_count": 47,
   "metadata": {},
   "outputs": [
    {
     "data": {
      "image/png": "[encoded data removed]",
      "text/plain": [
       "<Figure size 640x480 with 1 Axes>"
      ]
     },
     "metadata": {},
     "output_type": "display_data"
    }
   ],
   "source": [
    "sns.countplot(x=df['iskaitinis'])\n",
    "plt.show()"
   ]
  },
  {
   "cell_type": "code",
   "execution_count": 56,
   "metadata": {},
   "outputs": [
    {
     "data": {
      "image/png": "[encoded data removed]",
      "text/plain": [
       "<Figure size 640x480 with 1 Axes>"
      ]
     },
     "metadata": {},
     "output_type": "display_data"
    }
   ],
   "source": [
    "sns.countplot(x=df['rusis'])\n",
    "plt.show()"
   ]
  },
  {
   "cell_type": "code",
   "execution_count": 66,
   "metadata": {},
   "outputs": [],
   "source": [
    "# df['rusis'].value_counts()\n"
   ]
  },
  {
   "cell_type": "code",
   "execution_count": 70,
   "metadata": {},
   "outputs": [
    {
     "data": {
      "text/plain": [
       "rusis\n",
       "2     5321\n",
       "8     4934\n",
       "7     4800\n",
       "1     4244\n",
       "9     1955\n",
       "10     844\n",
       "0      664\n",
       "4      561\n",
       "6      121\n",
       "5       62\n",
       "11      10\n",
       "3        4\n",
       "Name: count, dtype: int64"
      ]
     },
     "execution_count": 70,
     "metadata": {},
     "output_type": "execute_result"
    }
   ],
   "source": [
    "df['rusis'].value_counts()"
   ]
  },
  {
   "cell_type": "code",
   "execution_count": 71,
   "metadata": {},
   "outputs": [],
   "source": [
    "df['rusis1'] = df['rusis'].apply(lambda x: 1 if x == 8 else 0)"
   ]
  },
  {
   "cell_type": "code",
   "execution_count": 72,
   "metadata": {},
   "outputs": [
    {
     "data": {
      "text/plain": [
       "rusis1\n",
       "0    18586\n",
       "1     4934\n",
       "Name: count, dtype: int64"
      ]
     },
     "execution_count": 72,
     "metadata": {},
     "output_type": "execute_result"
    }
   ],
   "source": [
    "df['rusis1'].value_counts()"
   ]
  },
  {
   "cell_type": "code",
   "execution_count": 49,
   "metadata": {},
   "outputs": [],
   "source": [
    "df2 = df.drop(columns=['iskaitinis'])"
   ]
  },
  {
   "cell_type": "code",
   "execution_count": 73,
   "metadata": {},
   "outputs": [
    {
     "name": "stderr",
     "output_type": "stream",
     "text": [
      "c:\\Users\\Batia\\anaconda3\\Lib\\site-packages\\numpy\\lib\\function_base.py:2897: RuntimeWarning: invalid value encountered in divide\n",
      "  c /= stddev[:, None]\n",
      "c:\\Users\\Batia\\anaconda3\\Lib\\site-packages\\numpy\\lib\\function_base.py:2898: RuntimeWarning: invalid value encountered in divide\n",
      "  c /= stddev[None, :]\n"
     ]
    },
    {
     "data": {
      "text/plain": [
       "<Axes: title={'center': 'Correlation with rusis1'}>"
      ]
     },
     "execution_count": 73,
     "metadata": {},
     "output_type": "execute_result"
    },
    {
     "data": {
      "image/png": "[encoded data removed]",
      "text/plain": [
       "<Figure size 1200x800 with 1 Axes>"
      ]
     },
     "metadata": {},
     "output_type": "display_data"
    }
   ],
   "source": [
    "df2.corrwith(df['rusis1']).plot(kind='bar', grid=True, figsize=(12, 8), title=\"Correlation with rusis1\")"
   ]
  },
  {
   "cell_type": "code",
   "execution_count": 82,
   "metadata": {},
   "outputs": [
    {
     "name": "stdout",
     "output_type": "stream",
     "text": [
      "0.8246173469387755\n",
      "[[3546  175]\n",
      " [ 650  333]]\n"
     ]
    },
    {
     "name": "stderr",
     "output_type": "stream",
     "text": [
      "c:\\Users\\Batia\\anaconda3\\Lib\\site-packages\\sklearn\\linear_model\\_logistic.py:458: ConvergenceWarning: lbfgs failed to converge (status=1):\n",
      "STOP: TOTAL NO. of ITERATIONS REACHED LIMIT.\n",
      "\n",
      "Increase the number of iterations (max_iter) or scale the data as shown in:\n",
      "    https://scikit-learn.org/stable/modules/preprocessing.html\n",
      "Please also refer to the documentation for alternative solver options:\n",
      "    https://scikit-learn.org/stable/modules/linear_model.html#logistic-regression\n",
      "  n_iter_i = _check_optimize_result(\n"
     ]
    },
    {
     "data": {
      "image/png": "[encoded data removed]",
      "text/plain": [
       "<Figure size 640x480 with 2 Axes>"
      ]
     },
     "metadata": {},
     "output_type": "display_data"
    }
   ],
   "source": [
    "from sklearn.impute import SimpleImputer\n",
    "\n",
    "X = df.drop(columns=['rusis1', 'rusis'])\n",
    "y = df['rusis1']\n",
    "\n",
    "\n",
    "imputer = SimpleImputer(strategy='mean')\n",
    "X = imputer.fit_transform(X)\n",
    "\n",
    "X_train, X_test, y_train, y_test = train_test_split(X, y, test_size=0.2, random_state=42)\n",
    "\n",
    "model = LogisticRegression()\n",
    "model.fit(X_train, y_train)\n",
    "\n",
    "y_pred = model.predict(X_test)\n",
    "\n",
    "print(accuracy_score(y_test, y_pred))\n",
    "print(confusion_matrix(y_test, y_pred))\n",
    "\n",
    "cm = confusion_matrix(y_test, y_pred, normalize='true')\n",
    "sns.heatmap(data=cm, annot=True, annot_kws={'fontsize':16})\n",
    "plt.show()"
   ]
  },
  {
   "cell_type": "code",
   "execution_count": null,
   "metadata": {},
   "outputs": [],
   "source": [
    "# Ar galite nustatyti kaltininko lytį, pagal pateiktas eismo įvykio aplinkybes? \n",
    "# Hipotezė - vyrai daro daugiau vienos rūšies klaidų, moterys - kitos."
   ]
  },
  {
   "cell_type": "code",
   "execution_count": 85,
   "metadata": {},
   "outputs": [
    {
     "data": {
      "text/html": [
       "<div>\n",
       "<style scoped>\n",
       "    .dataframe tbody tr th:only-of-type {\n",
       "        vertical-align: middle;\n",
       "    }\n",
       "\n",
       "    .dataframe tbody tr th {\n",
       "        vertical-align: top;\n",
       "    }\n",
       "\n",
       "    .dataframe thead th {\n",
       "        text-align: right;\n",
       "    }\n",
       "</style>\n",
       "<table border=\"1\" class=\"dataframe\">\n",
       "  <thead>\n",
       "    <tr style=\"text-align: right;\">\n",
       "      <th></th>\n",
       "      <th>eismoDalyviai</th>\n",
       "      <th>lytis</th>\n",
       "    </tr>\n",
       "  </thead>\n",
       "  <tbody>\n",
       "    <tr>\n",
       "      <th>0</th>\n",
       "      <td>[{'dalyvisId': 47756477, 'kategorija': 'Automo...</td>\n",
       "      <td>None</td>\n",
       "    </tr>\n",
       "    <tr>\n",
       "      <th>1</th>\n",
       "      <td>[{'dalyvisId': 47759080, 'kategorija': 'Automo...</td>\n",
       "      <td>None</td>\n",
       "    </tr>\n",
       "    <tr>\n",
       "      <th>2</th>\n",
       "      <td>[{'dalyvisId': 47756490, 'kategorija': 'Automo...</td>\n",
       "      <td>None</td>\n",
       "    </tr>\n",
       "    <tr>\n",
       "      <th>3</th>\n",
       "      <td>[{'dalyvisId': 48447053, 'kategorija': 'Automo...</td>\n",
       "      <td>None</td>\n",
       "    </tr>\n",
       "    <tr>\n",
       "      <th>4</th>\n",
       "      <td>[{'dalyvisId': 47756497, 'kategorija': 'Automo...</td>\n",
       "      <td>None</td>\n",
       "    </tr>\n",
       "    <tr>\n",
       "      <th>...</th>\n",
       "      <td>...</td>\n",
       "      <td>...</td>\n",
       "    </tr>\n",
       "    <tr>\n",
       "      <th>23515</th>\n",
       "      <td>[{'dalyvisId': 48474241, 'kategorija': 'Automo...</td>\n",
       "      <td>None</td>\n",
       "    </tr>\n",
       "    <tr>\n",
       "      <th>23516</th>\n",
       "      <td>[{'dalyvisId': 48489943, 'kategorija': 'Automo...</td>\n",
       "      <td>None</td>\n",
       "    </tr>\n",
       "    <tr>\n",
       "      <th>23517</th>\n",
       "      <td>[{'dalyvisId': 48474207, 'kategorija': 'Automo...</td>\n",
       "      <td>None</td>\n",
       "    </tr>\n",
       "    <tr>\n",
       "      <th>23518</th>\n",
       "      <td>[{'dalyvisId': 48474230, 'kategorija': 'Automo...</td>\n",
       "      <td>None</td>\n",
       "    </tr>\n",
       "    <tr>\n",
       "      <th>23519</th>\n",
       "      <td>[{'dalyvisId': 48476944, 'kategorija': 'Automo...</td>\n",
       "      <td>None</td>\n",
       "    </tr>\n",
       "  </tbody>\n",
       "</table>\n",
       "<p>23520 rows × 2 columns</p>\n",
       "</div>"
      ],
      "text/plain": [
       "                                           eismoDalyviai lytis\n",
       "0      [{'dalyvisId': 47756477, 'kategorija': 'Automo...  None\n",
       "1      [{'dalyvisId': 47759080, 'kategorija': 'Automo...  None\n",
       "2      [{'dalyvisId': 47756490, 'kategorija': 'Automo...  None\n",
       "3      [{'dalyvisId': 48447053, 'kategorija': 'Automo...  None\n",
       "4      [{'dalyvisId': 47756497, 'kategorija': 'Automo...  None\n",
       "...                                                  ...   ...\n",
       "23515  [{'dalyvisId': 48474241, 'kategorija': 'Automo...  None\n",
       "23516  [{'dalyvisId': 48489943, 'kategorija': 'Automo...  None\n",
       "23517  [{'dalyvisId': 48474207, 'kategorija': 'Automo...  None\n",
       "23518  [{'dalyvisId': 48474230, 'kategorija': 'Automo...  None\n",
       "23519  [{'dalyvisId': 48476944, 'kategorija': 'Automo...  None\n",
       "\n",
       "[23520 rows x 2 columns]"
      ]
     },
     "execution_count": 85,
     "metadata": {},
     "output_type": "execute_result"
    }
   ],
   "source": [
    "# import ast\n",
    "\n",
    "# def extract_gender(eismo_dalyviai):\n",
    "#     try:\n",
    "        \n",
    "#         participants = ast.literal_eval(eismo_dalyviai)\n",
    "#         genders = [participant.get('lytis') for participant in participants if 'lytis' in participant]\n",
    "#         return genders\n",
    "#     except (ValueError, SyntaxError, TypeError):\n",
    "#         return None\n",
    "\n",
    "\n",
    "# df['lytis'] = df['eismoDalyviai'].apply(extract_gender)\n",
    "\n",
    "\n",
    "# df[['eismoDalyviai', 'lytis']]"
   ]
  },
  {
   "cell_type": "code",
   "execution_count": 86,
   "metadata": {},
   "outputs": [
    {
     "data": {
      "text/plain": [
       "Series([], Name: count, dtype: int64)"
      ]
     },
     "execution_count": 86,
     "metadata": {},
     "output_type": "execute_result"
    }
   ],
   "source": [
    "df['lytis'].value_counts()"
   ]
  },
  {
   "cell_type": "code",
   "execution_count": 88,
   "metadata": {},
   "outputs": [],
   "source": [
    "lytis=[]\n",
    "for i in df['eismoDalyviai']:\n",
    "    try:\n",
    "        lytis.append(i[0]['lytis'])\n",
    "    except:\n",
    "        lytis.append(None)\n",
    "\n",
    "df['lytis'] = lytis"
   ]
  },
  {
   "cell_type": "code",
   "execution_count": 93,
   "metadata": {},
   "outputs": [
    {
     "data": {
      "text/plain": [
       "0        0\n",
       "1        2\n",
       "2        0\n",
       "3        0\n",
       "4        1\n",
       "        ..\n",
       "23515    1\n",
       "23516    1\n",
       "23517    1\n",
       "23518    0\n",
       "23519    1\n",
       "Name: lytis, Length: 23520, dtype: int32"
      ]
     },
     "execution_count": 93,
     "metadata": {},
     "output_type": "execute_result"
    }
   ],
   "source": [
    "df['lytis']"
   ]
  },
  {
   "cell_type": "code",
   "execution_count": 99,
   "metadata": {},
   "outputs": [
    {
     "data": {
      "text/plain": [
       "lytis\n",
       "1    14551\n",
       "0     5783\n",
       "2     3186\n",
       "Name: count, dtype: int64"
      ]
     },
     "execution_count": 99,
     "metadata": {},
     "output_type": "execute_result"
    }
   ],
   "source": [
    "df['lytis'].value_counts()"
   ]
  },
  {
   "cell_type": "code",
   "execution_count": null,
   "metadata": {},
   "outputs": [],
   "source": []
  },
  {
   "cell_type": "code",
   "execution_count": 102,
   "metadata": {},
   "outputs": [
    {
     "data": {
      "text/plain": [
       "lytis\n",
       "1    14551\n",
       "0     5783\n",
       "2     3186\n",
       "Name: count, dtype: int64"
      ]
     },
     "execution_count": 102,
     "metadata": {},
     "output_type": "execute_result"
    }
   ],
   "source": [
    "df['lytis'].value_counts()"
   ]
  },
  {
   "cell_type": "code",
   "execution_count": 105,
   "metadata": {},
   "outputs": [
    {
     "name": "stdout",
     "output_type": "stream",
     "text": [
      "lytis\n",
      "1    14551\n",
      "0     5783\n",
      "Name: count, dtype: int64\n"
     ]
    }
   ],
   "source": [
    "df = df[df['lytis'] != 2]\n",
    "\n",
    "\n",
    "print(df['lytis'].value_counts())"
   ]
  },
  {
   "cell_type": "code",
   "execution_count": 106,
   "metadata": {},
   "outputs": [
    {
     "name": "stderr",
     "output_type": "stream",
     "text": [
      "c:\\Users\\Batia\\anaconda3\\Lib\\site-packages\\numpy\\lib\\function_base.py:2897: RuntimeWarning: invalid value encountered in divide\n",
      "  c /= stddev[:, None]\n",
      "c:\\Users\\Batia\\anaconda3\\Lib\\site-packages\\numpy\\lib\\function_base.py:2898: RuntimeWarning: invalid value encountered in divide\n",
      "  c /= stddev[None, :]\n"
     ]
    },
    {
     "data": {
      "text/plain": [
       "<Axes: title={'center': 'Correlation with lytis'}>"
      ]
     },
     "execution_count": 106,
     "metadata": {},
     "output_type": "execute_result"
    },
    {
     "data": {
      "image/png": "[encoded data removed]",
      "text/plain": [
       "<Figure size 1200x800 with 1 Axes>"
      ]
     },
     "metadata": {},
     "output_type": "display_data"
    }
   ],
   "source": [
    "df.corrwith(df['lytis']).plot(kind='bar', grid=True, figsize=(12, 8), title=\"Correlation with lytis\")"
   ]
  },
  {
   "cell_type": "code",
   "execution_count": 111,
   "metadata": {},
   "outputs": [
    {
     "name": "stdout",
     "output_type": "stream",
     "text": [
      "0.7216621588394394\n",
      "[[   0 1132]\n",
      " [   0 2935]]\n"
     ]
    },
    {
     "data": {
      "image/png": "[encoded data removed]",
      "text/plain": [
       "<Figure size 640x480 with 2 Axes>"
      ]
     },
     "metadata": {},
     "output_type": "display_data"
    }
   ],
   "source": [
    "# X = df.drop(columns=['lytis'])\n",
    "X = df.drop(columns=['lytis'])\n",
    "y = df['lytis']\n",
    "\n",
    "\n",
    "imputer = SimpleImputer(strategy='mean')\n",
    "X = imputer.fit_transform(X)\n",
    "\n",
    "X_train, X_test, y_train, y_test = train_test_split(X, y, test_size=0.2, random_state=42)\n",
    "\n",
    "model = LogisticRegression()\n",
    "model.fit(X_train, y_train)\n",
    "\n",
    "y_pred = model.predict(X_test)\n",
    "\n",
    "print(accuracy_score(y_test, y_pred))\n",
    "print(confusion_matrix(y_test, y_pred))\n",
    "\n",
    "cm = confusion_matrix(y_test, y_pred, normalize='true')\n",
    "sns.heatmap(data=cm, annot=True, annot_kws={'fontsize':16})\n",
    "plt.show()"
   ]
  }
 ],
 "metadata": {
  "kernelspec": {
   "display_name": "base",
   "language": "python",
   "name": "python3"
  },
  "language_info": {
   "codemirror_mode": {
    "name": "ipython",
    "version": 3
   },
   "file_extension": ".py",
   "mimetype": "text/x-python",
   "name": "python",
   "nbconvert_exporter": "python",
   "pygments_lexer": "ipython3",
   "version": "3.11.7"
  }
 },
 "nbformat": 4,
 "nbformat_minor": 2
}
