{
 "cells": [
  {
   "cell_type": "code",
   "execution_count": 5,
   "metadata": {},
   "outputs": [],
   "source": [
    "import mysql.connector as cnt"
   ]
  },
  {
   "cell_type": "code",
   "execution_count": 12,
   "metadata": {},
   "outputs": [
    {
     "name": "stdout",
     "output_type": "stream",
     "text": [
      "2014 : {'M': 22586, 'F': 22366}\n",
      "2018: {'M': 22476, 'F': 20688}\n",
      " Skirtumas : {'M': -110, 'F': -1678}\n"
     ]
    }
   ],
   "source": [
    "# DB = cnt.connect(\n",
    "# host='88.223.121.130',\n",
    "# user='user',\n",
    "# password='slaptazodis',\n",
    "# port=3306,\n",
    "# database='works'\n",
    "# )\n",
    "\n",
    "# C = DB.cursor()\n",
    "# q2014='select lytis from DUS2014N'\n",
    "# q2018='select lytis from DUS2018N'\n",
    "# C.execute(q2014)\n",
    "# d2014=C.fetchall()\n",
    "# C.execute(q2018)\n",
    "# d2018=C.fetchall()\n",
    "\n",
    "\n",
    "# def sk_lytis(data):\n",
    "#     sk= {'M':0,'F':0}\n",
    "#     for eilute in data:\n",
    "#         lytis=eilute[0]\n",
    "#         if lytis in sk:\n",
    "#             sk[lytis]+=1\n",
    "#     return sk\n",
    "\n",
    "# sus_2014=sk_lytis(d2014)\n",
    "# sus_2018=sk_lytis(d2018)\n",
    "\n",
    "# skirtumas={'M': sus_2018['M'] - sus_2014['M'],'F': sus_2018['F'] - sus_2014['F']}\n",
    "\n",
    "# print(f'2014 : {sus_2014}')\n",
    "# print(f'2018: {sus_2018}')\n",
    "# print(f' Skirtumas : {skirtumas}')\n",
    "\n",
    "# C.close()\n",
    "# DB.close()"
   ]
  },
  {
   "cell_type": "code",
   "execution_count": 20,
   "metadata": {},
   "outputs": [
    {
     "name": "stdout",
     "output_type": "stream",
     "text": [
      "Amzius : ('14-19', '20-29', '30-39', '40-49', '50-59', '60+')\n",
      "Kiek : (347, 9015, 9747, 10947, 10968, 3928)\n"
     ]
    }
   ],
   "source": [
    "DB = cnt.connect(\n",
    "host='88.223.121.130',\n",
    "user='user',\n",
    "password='slaptazodis',\n",
    "port=3306,\n",
    "database='works'\n",
    ")\n",
    "\n",
    "C = DB.cursor()\n",
    "q2014='select amzius, count(amzius) as kiek from DUS2014N group by amzius;'\n",
    "C.execute(q2014)\n",
    "d2014=C.fetchall()\n",
    "amzius, kiek = zip(*d2014)\n",
    "print(f'Amzius : {amzius}')\n",
    "print(f'Kiek : {kiek}')"
   ]
  },
  {
   "cell_type": "code",
   "execution_count": 24,
   "metadata": {},
   "outputs": [
    {
     "name": "stdout",
     "output_type": "stream",
     "text": [
      "2014: [('F', 22366), ('M', 22586)]\n",
      "2018 : [('F', 20688), ('M', 22476)]\n",
      "2014 : ('F', 'M'), (22366, 22586)\n",
      "2018: ('F', 'M'), (20688, 22476)\n",
      "Skirtumas: {'M': -110, 'F': -1678}\n"
     ]
    }
   ],
   "source": [
    "DB = cnt.connect(\n",
    "host='88.223.121.130',\n",
    "user='user',\n",
    "password='slaptazodis',\n",
    "port=3306,\n",
    "database='works'\n",
    ")\n",
    "\n",
    "C = DB.cursor()\n",
    "q2014='select lytis , count(*) from DUS2014N group by lytis;'\n",
    "q2018='select lytis , count(*) from DUS2018N group by lytis;'\n",
    "C.execute(q2014)\n",
    "d2014=C.fetchall()\n",
    "C.execute(q2018)\n",
    "d2018=C.fetchall()\n",
    "lytis1, kiek1 = zip(*d2014)\n",
    "lytis2, kiek2 = zip(*d2018)\n",
    "sus2014 = {lytis: count for lytis, count in d2014}\n",
    "sus2018 = {lytis: count for lytis, count in d2018}\n",
    "skirtumas = {'M': sus2018.get('M', 0) - sus2014.get('M', 0),'F': sus2018.get('F', 0) - sus2014.get('F', 0)}\n",
    "\n",
    "print(f'2014: {d2014}')\n",
    "print(f'2018 : {d2018}')\n",
    "print(f\"Skirtumas: {skirtumas}\")"
   ]
  },
  {
   "cell_type": "code",
   "execution_count": 28,
   "metadata": {},
   "outputs": [
    {
     "name": "stdout",
     "output_type": "stream",
     "text": [
      "Skirtumas tarp 2014 ir 2018 metu amziu grupese: Amziu grupes:('20-29', '30-39', '40-49', '50-59', '60+'), skirtumas (Decimal('6'), Decimal('-465'), Decimal('-1526'), Decimal('-912'), Decimal('1109'))\n",
      " Amziu grupese skirtumas: [('20-29', Decimal('6')), ('30-39', Decimal('-465')), ('40-49', Decimal('-1526')), ('50-59', Decimal('-912')), ('60+', Decimal('1109'))]\n"
     ]
    }
   ],
   "source": [
    "DB = cnt.connect(\n",
    "host='88.223.121.130',\n",
    "user='user',\n",
    "password='slaptazodis',\n",
    "port=3306,\n",
    "database='works'\n",
    ")\n",
    "\n",
    "C = DB.cursor()\n",
    "query=\"\"\"\n",
    "select amzius , sum(case when year_ = 2018 then kiek else 0 end) - sum(case when year_= 2014 then kiek else 0 end) as skirtumas\n",
    "from(\n",
    "select amzius, count(amzius) as kiek,\n",
    "CASE\n",
    "when amzius between 14 and 29 then '14-29'\n",
    "when amzius between 30 and 39 then '30-39'\n",
    "when amzius between 40 and 49 then '40-49'\n",
    "when amzius between 50 and 59 then '50-59'\n",
    "else '60+'\n",
    "end as amzius1,\n",
    "2014 as year_\n",
    "from DUS2014N\n",
    "group by amzius1\n",
    "Union all\n",
    "select amzius , count(amzius) as kiek,\n",
    "CASE\n",
    "when amzius between 14 and 29 then '14-29'\n",
    "when amzius between 30 and 39 then '30-39'\n",
    "when amzius between 40 and 49 then '40-49'\n",
    "when amzius between 50 and 59 then '50-59'\n",
    "else '60+'\n",
    "end as amzius1,\n",
    "2018 as year_\n",
    "from DUS2018N\n",
    "group by amzius1) as amz group by amzius1;\n",
    "\"\"\"\n",
    "C.execute(query)\n",
    "results=C.fetchall()\n",
    "amzius, skirtumas =zip(*results)\n",
    "\n",
    "print(f'Skirtumas tarp 2014 ir 2018 metu amziu grupese: Amziu grupes:{amzius}, skirtumas {skirtumas}')\n",
    "print(f' Amziu grupese skirtumas: {results}')"
   ]
  },
  {
   "cell_type": "code",
   "execution_count": 55,
   "metadata": {},
   "outputs": [
    {
     "name": "stdout",
     "output_type": "stream",
     "text": [
      "Respondentų vidutinis spalio mėnesio uždarbis (pagal amžiaus grupes) tarp 2014 ir 2018 metų keitesi: [('20-29', 2497330.254170526), ('30-39', 2349971.832599649), ('40-49', 1570958.3234476568), ('60+', 1489454.5244439282), ('50-59', 1295552.9427710986)]\n"
     ]
    }
   ],
   "source": [
    "DB = cnt.connect(\n",
    "host='88.223.121.130',\n",
    "user='user',\n",
    "password='slaptazodis',\n",
    "port=3306,\n",
    "database='works'\n",
    ")\n",
    "\n",
    "C = DB.cursor()\n",
    "query=\"\"\"\n",
    "select amzius , sum(case when year_ = 2018 then kiek else 0 end) - sum(case when year_= 2014 then kiek else 0 end) as skirtumas\n",
    "from(\n",
    "select amzius, sum(bdu_spalio)/3.4528 as kiek,\n",
    "CASE\n",
    "when amzius between 14 and 29 then '14-29'\n",
    "when amzius between 30 and 39 then '30-39'\n",
    "when amzius between 40 and 49 then '40-49'\n",
    "when amzius between 50 and 59 then '50-59'\n",
    "else '60+'\n",
    "end as amzius1,\n",
    "2014 as year_\n",
    "from DUS2014N\n",
    "group by amzius1\n",
    "Union all\n",
    "select amzius , sum(bdu_spalio) as kiek,\n",
    "CASE\n",
    "when amzius between 14 and 29 then '14-29'\n",
    "when amzius between 30 and 39 then '30-39'\n",
    "when amzius between 40 and 49 then '40-49'\n",
    "when amzius between 50 and 59 then '50-59'\n",
    "else '60+'\n",
    "end as amzius1,\n",
    "2018 as year_\n",
    "from DUS2018N\n",
    "group by amzius1) as amz group by amzius1\n",
    "order by skirtumas desc;\"\"\"\n",
    "C.execute(query)\n",
    "results=C.fetchall()\n",
    "\n",
    "print(f'Respondentų vidutinis spalio mėnesio uždarbis (pagal amžiaus grupes) tarp 2014 ir 2018 metų keitesi: {results}')\n",
    "\n",
    "\n"
   ]
  },
  {
   "cell_type": "code",
   "execution_count": 56,
   "metadata": {},
   "outputs": [
    {
     "name": "stdout",
     "output_type": "stream",
     "text": [
      "Taip keitėsi respondentų vidutinis spalio mėnesio uždarbis (pagal išsilavinimo grupes) tarp 2014 ir 2018 metų: [('G1', 58528.18060704379), ('G4', 1888269.38971271), ('G3', 3223001.758109372), ('G2', 4033468.549003694)]\n"
     ]
    },
    {
     "data": {
      "image/png": "[encoded data removed]",
      "text/plain": [
       "<Figure size 640x480 with 1 Axes>"
      ]
     },
     "metadata": {},
     "output_type": "display_data"
    }
   ],
   "source": [
    "import matplotlib.pyplot as plt\n",
    "\n",
    "DB = cnt.connect(\n",
    "host='88.223.121.130',\n",
    "user='user',\n",
    "password='slaptazodis',\n",
    "port=3306,\n",
    "database='works'\n",
    ")\n",
    "\n",
    "C = DB.cursor()\n",
    "query=\"\"\"\n",
    "select issilavinimas, sum(case when year_ = 2018 then kiek else 0 end) - sum(case when year_= 2014 then kiek else 0 end) as skirtumas\n",
    "from(\n",
    "select sum(bdu_spalio)/3.4528 as kiek, issilavinimas, 2014 as year_\n",
    "from DUS2014N\n",
    "group by issilavinimas\n",
    "union all\n",
    "select sum(bdu_spalio) as kiek, issilavinimas, 2018 as year_ from DUS2018N\n",
    "group by issilavinimas) as iss \n",
    "group by issilavinimas\n",
    "order by skirtumas asc;\n",
    "\"\"\"\n",
    "C.execute(query)\n",
    "results=C.fetchall()\n",
    "\n",
    "print(f'Taip keitėsi respondentų vidutinis spalio mėnesio uždarbis (pagal išsilavinimo grupes) tarp 2014 ir 2018 metų: {results}')\n",
    "\n",
    "C.close()\n",
    "DB.close()\n",
    "\n",
    "issilavinimas=[row[0] for row in results]\n",
    "skirtumas=[row[1] for row in results]\n",
    "\n",
    "plt.barh(issilavinimas, skirtumas, color='green' )\n",
    "plt.xlabel('skirtumas')\n",
    "plt.ylabel('issilavinimas')\n",
    "plt.title('2018 vs 2014')\n",
    "plt.grid()\n",
    "plt.show()\n"
   ]
  },
  {
   "cell_type": "code",
   "execution_count": 54,
   "metadata": {},
   "outputs": [
    {
     "name": "stdout",
     "output_type": "stream",
     "text": [
      "BMW: vidutinė rida 260.48 km, vidutine kaina 30.92 €, vidutine metai: 15.00 metu.\n",
      "Volkswagen: vidutinė rida 240.64 km, vidutine kaina 36.70 €, vidutine metai: 15.00 metu.\n",
      "Audi: vidutinė rida 241.16 km, vidutine kaina 43.66 €, vidutine metai: 16.00 metu.\n",
      "Mercedes-Benz: vidutinė rida 261.07 km, vidutine kaina 34.82 €, vidutine metai: 15.00 metu.\n",
      "Toyota: vidutinė rida 201.56 km, vidutine kaina 25.68 €, vidutine metai: 14.00 metu.\n",
      "(2009.0, 2009.0, 2008.0, 2009.0, 2010.0)\n"
     ]
    },
    {
     "data": {
      "text/plain": [
       "<function matplotlib.pyplot.show(close=None, block=None)>"
      ]
     },
     "execution_count": 54,
     "metadata": {},
     "output_type": "execute_result"
    },
    {
     "data": {
      "image/png": "[encoded data removed]",
      "text/plain": [
       "<Figure size 640x480 with 1 Axes>"
      ]
     },
     "metadata": {},
     "output_type": "display_data"
    }
   ],
   "source": [
    "import matplotlib.pyplot as plt\n",
    "\n",
    "DB = cnt.connect(\n",
    "host='88.223.121.130',\n",
    "user='user',\n",
    "password='slaptazodis',\n",
    "port=3306,\n",
    "database='works'\n",
    ")\n",
    "\n",
    "C = DB.cursor()\n",
    "query=\"\"\"\n",
    "select gamintojas, count(gamintojas), avg(price), avg(rida), ceil(avg(pagaminimo_data)) from autopliuslt\n",
    "group by gamintojas\n",
    "order by count(gamintojas) desc\n",
    "limit 5;\"\"\"\n",
    "\n",
    "C.execute(query)\n",
    "results = C.fetchall()\n",
    "\n",
    "\n",
    "\n",
    "for row in results:\n",
    "    gamintojas = row[0]\n",
    "    rida = row[3]\n",
    "    kaina = row[2]\n",
    "    metai =2024- row[4]\n",
    "    print(f\"{gamintojas}: vidutinė rida {rida:.2f} km, vidutine kaina {kaina:.2f} €, vidutine metai: {metai:.2f} metu.\")\n",
    "\n",
    "gamintojas,kiek, rida,kaina,metai=zip(*results)\n",
    "print(metai)\n",
    "plt.figure()\n",
    "plt.barh(gamintojas,rida, color='purple')\n",
    "plt.xlabel('Rida')\n",
    "plt.ylabel('Gamintojas')\n",
    "plt.title('Rida')\n",
    "plt.show\n",
    "\n"
   ]
  }
 ],
 "metadata": {
  "kernelspec": {
   "display_name": "base",
   "language": "python",
   "name": "python3"
  },
  "language_info": {
   "codemirror_mode": {
    "name": "ipython",
    "version": 3
   },
   "file_extension": ".py",
   "mimetype": "text/x-python",
   "name": "python",
   "nbconvert_exporter": "python",
   "pygments_lexer": "ipython3",
   "version": "3.11.7"
  }
 },
 "nbformat": 4,
 "nbformat_minor": 2
}
