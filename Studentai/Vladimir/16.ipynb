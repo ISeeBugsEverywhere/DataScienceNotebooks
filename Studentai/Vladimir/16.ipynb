{
 "cells": [
  {
   "cell_type": "code",
   "execution_count": null,
   "metadata": {},
   "outputs": [],
   "source": [
    "# parašyti funkciją, kuriai galėtumėte nurodyti sąrašą skaičių bei dar vieną skaičių, \n",
    "# ir ta funkcija surastų ir grąžintų sarašę buvusį skaičių, artimiausią nuliui (arba jūsų nurodytam skaičiui), \n",
    "# bei rastojo skaičiaus poziciją (indeksą) sąraše."
   ]
  },
  {
   "cell_type": "code",
   "execution_count": 4,
   "metadata": {},
   "outputs": [
    {
     "name": "stdout",
     "output_type": "stream",
     "text": [
      "10 0\n"
     ]
    }
   ],
   "source": [
    "def find_nearest_number(numbers, target):\n",
    "    nearest_number = min(numbers, key=lambda number: abs(number - target))\n",
    "    nearest_index = numbers.index(nearest_number)\n",
    "    return nearest_number, nearest_index\n",
    "\n",
    "numbers = [10, 20, 30, 40, 50]\n",
    "nb=float(input('nb'))\n",
    "\n",
    "nearest_number, nearest_index = find_nearest_number(numbers, nb)\n",
    "print(nearest_number , nearest_index)"
   ]
  },
  {
   "cell_type": "code",
   "execution_count": null,
   "metadata": {},
   "outputs": [],
   "source": [
    "class Degree():\n",
    "    "
   ]
  },
  {
   "cell_type": "code",
   "execution_count": null,
   "metadata": {},
   "outputs": [],
   "source": [
    "# Sukurkite klasę, skirtą geometrinių figūrų parametrų\n",
    "# skaičiavimui:\n",
    "# • Klasė Stačiakampis - sukūrimo metu automatiškai\n",
    "# suskaičiuoja plotą ir perimetrą\n",
    "# • P = 2(a + b), S = ab\n",
    "# • Klasė Kubas - sukūrimo metu turi suskaičiuoti paviršiaus\n",
    "# plotą ir tūrį\n",
    "# • V = abc\n",
    "# Realizuokite metodus, skirtus atnaujinti skaičiavimams, pasiekti\n",
    "# skaičiavimų rezultatus."
   ]
  },
  {
   "cell_type": "code",
   "execution_count": 49,
   "metadata": {},
   "outputs": [
    {
     "name": "stdout",
     "output_type": "stream",
     "text": [
      "Perimetras: 16\n",
      "Plotas: 15\n",
      "22\n",
      "28\n"
     ]
    }
   ],
   "source": [
    "class Staciakampis():\n",
    "    def __init__(self, a,b):\n",
    "        self._a = a\n",
    "        self._b = b\n",
    "        self.updated()\n",
    "\n",
    "    def updated(self):\n",
    "        self._perimetras = 2 * (self._a +self._b)\n",
    "        self._plotas = self._a *self._b\n",
    "    @property\n",
    "    def perimetras(self):\n",
    "        return self._perimetras\n",
    "    @property\n",
    "    def plotas(self):\n",
    "        return self._plotas\n",
    "    @property\n",
    "    def a(self):\n",
    "        return self._a\n",
    "    @a.setter\n",
    "    def a(self, value):\n",
    "        self._a = value\n",
    "        self.updated()\n",
    "    @property\n",
    "    def b(self):\n",
    "        return self._b\n",
    "    @b.setter\n",
    "    def b(self, value):\n",
    "        self._b = value\n",
    "        self.updated()\n",
    "staciakampis = Staciakampis(5, 3)\n",
    "print(\"Perimetras:\", staciakampis.perimetras)\n",
    "print(\"Plotas:\", staciakampis.plotas)\n",
    "staciakampis.a = 7\n",
    "staciakampis.b = 4\n",
    "print(staciakampis.perimetras)\n",
    "print(staciakampis.plotas)\n"
   ]
  },
  {
   "cell_type": "code",
   "execution_count": null,
   "metadata": {},
   "outputs": [],
   "source": [
    "class Kubas:\n",
    "    def __init__(self, a, b, c):"
   ]
  },
  {
   "cell_type": "code",
   "execution_count": null,
   "metadata": {},
   "outputs": [],
   "source": [
    "class Rutulis():"
   ]
  }
 ],
 "metadata": {
  "kernelspec": {
   "display_name": "base",
   "language": "python",
   "name": "python3"
  },
  "language_info": {
   "codemirror_mode": {
    "name": "ipython",
    "version": 3
   },
   "file_extension": ".py",
   "mimetype": "text/x-python",
   "name": "python",
   "nbconvert_exporter": "python",
   "pygments_lexer": "ipython3",
   "version": "3.11.7"
  }
 },
 "nbformat": 4,
 "nbformat_minor": 2
}
