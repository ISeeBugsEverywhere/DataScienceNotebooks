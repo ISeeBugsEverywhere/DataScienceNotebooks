{
 "cells": [
  {
   "cell_type": "code",
   "execution_count": null,
   "metadata": {},
   "outputs": [],
   "source": [
    "def sandauga(*pos3):\n",
    "    s = 1\n",
    "    for i in pos3:\n",
    "        s = s*i\n",
    "    return s\n",
    "\n",
    "\n",
    "sandauga(4,5,6,7,8,9)"
   ]
  },
  {
   "cell_type": "code",
   "execution_count": 3,
   "metadata": {},
   "outputs": [
    {
     "name": "stdout",
     "output_type": "stream",
     "text": [
      "5.555368605381862\n",
      "None\n"
     ]
    }
   ],
   "source": [
    "def funk(*args, mean):\n",
    "    if mean==2:\n",
    "        x=[*args]\n",
    "        multiply=1\n",
    "        for i in x:\n",
    "            multiply=multiply*i\n",
    "        print(multiply**(1.0/len(x)))\n",
    "    if mean==1:\n",
    "        x=[*args]\n",
    "        print(sum(x)/len(x))\n",
    "\n",
    "print(funk(6,7,8,9,4,5,3,5, mean=2))"
   ]
  },
  {
   "cell_type": "code",
   "execution_count": null,
   "metadata": {},
   "outputs": [],
   "source": [
    "# Parašykite funkciją, kuriai galėtumėte nurodyti bet kokį skaičių/tekstų kiekį.\n",
    "#  Funkcija turi gražinti sumą, kur būtų sudėti skaičiai ir, jei buvo nurodyti tekstai, tekstų ilgiai. \n",
    "# Pvz: fn(1,3,'labas') turi grąžinti skaičių 9.\n",
    "\n",
    "\n",
    "def f(*args):\n",
    "    s = 0\n",
    "    for sk in args:\n",
    "        if type(sk) is str:\n",
    "            s = s + len(sk)\n",
    "    else:\n",
    "        s = s + sk\n",
    "    return s\n",
    "\n",
    "f(1,3,'labas')"
   ]
  },
  {
   "cell_type": "code",
   "execution_count": 55,
   "metadata": {},
   "outputs": [
    {
     "name": "stdout",
     "output_type": "stream",
     "text": [
      "None\n"
     ]
    }
   ],
   "source": [
    "def plus(*args):\n",
    "    x=[*args]\n",
    "    if x is str:\n",
    "      for i in x:\n",
    "       return (len(i))\n",
    "    if x is int:\n",
    "       print(sum(x))\n",
    "\n",
    "print(plus('abs'))\n"
   ]
  },
  {
   "cell_type": "code",
   "execution_count": 21,
   "metadata": {},
   "outputs": [
    {
     "ename": "AssertionError",
     "evalue": "neigiamas skaicius",
     "output_type": "error",
     "traceback": [
      "\u001b[1;31m---------------------------------------------------------------------------\u001b[0m",
      "\u001b[1;31mAssertionError\u001b[0m                            Traceback (most recent call last)",
      "Cell \u001b[1;32mIn[21], line 5\u001b[0m\n\u001b[0;32m      3\u001b[0m     \u001b[38;5;28;01massert\u001b[39;00m exp\u001b[38;5;241m%\u001b[39m\u001b[38;5;241m2\u001b[39m\u001b[38;5;241m==\u001b[39m\u001b[38;5;241m0\u001b[39m \u001b[38;5;129;01mand\u001b[39;00m nr\u001b[38;5;241m>\u001b[39m\u001b[38;5;241m0\u001b[39m ,\u001b[38;5;124m'\u001b[39m\u001b[38;5;124mneigiamas skaicius\u001b[39m\u001b[38;5;124m'\u001b[39m\n\u001b[0;32m      4\u001b[0m     \u001b[38;5;28;01mreturn\u001b[39;00m nr\u001b[38;5;241m*\u001b[39m\u001b[38;5;241m*\u001b[39m(\u001b[38;5;241m1\u001b[39m\u001b[38;5;241m/\u001b[39mexp)\n\u001b[1;32m----> 5\u001b[0m \u001b[38;5;28mprint\u001b[39m(root(\u001b[38;5;241m-\u001b[39m\u001b[38;5;241m125\u001b[39m,\u001b[38;5;241m3\u001b[39m))\n",
      "Cell \u001b[1;32mIn[21], line 3\u001b[0m, in \u001b[0;36mroot\u001b[1;34m(exp, nr)\u001b[0m\n\u001b[0;32m      1\u001b[0m \u001b[38;5;28;01mdef\u001b[39;00m \u001b[38;5;21mroot\u001b[39m(exp,nr):\n\u001b[1;32m----> 3\u001b[0m     \u001b[38;5;28;01massert\u001b[39;00m exp\u001b[38;5;241m%\u001b[39m\u001b[38;5;241m2\u001b[39m\u001b[38;5;241m==\u001b[39m\u001b[38;5;241m0\u001b[39m \u001b[38;5;129;01mand\u001b[39;00m nr\u001b[38;5;241m>\u001b[39m\u001b[38;5;241m0\u001b[39m ,\u001b[38;5;124m'\u001b[39m\u001b[38;5;124mneigiamas skaicius\u001b[39m\u001b[38;5;124m'\u001b[39m\n\u001b[0;32m      4\u001b[0m     \u001b[38;5;28;01mreturn\u001b[39;00m nr\u001b[38;5;241m*\u001b[39m\u001b[38;5;241m*\u001b[39m(\u001b[38;5;241m1\u001b[39m\u001b[38;5;241m/\u001b[39mexp)\n",
      "\u001b[1;31mAssertionError\u001b[0m: neigiamas skaicius"
     ]
    }
   ],
   "source": [
    "def root(exp,nr):\n",
    "    \n",
    "    assert exp%2==0 and nr>0 ,'neigiamas skaicius'\n",
    "    return nr**(1/exp)\n",
    "print(root(-125,3))"
   ]
  },
  {
   "cell_type": "code",
   "execution_count": 22,
   "metadata": {},
   "outputs": [
    {
     "name": "stdout",
     "output_type": "stream",
     "text": [
      "8.0\n",
      "-5.0\n"
     ]
    },
    {
     "ename": "AssertionError",
     "evalue": "Arba X teigiamas, arba n nelyginis!",
     "output_type": "error",
     "traceback": [
      "\u001b[1;31m---------------------------------------------------------------------------\u001b[0m",
      "\u001b[1;31mAssertionError\u001b[0m                            Traceback (most recent call last)",
      "Cell \u001b[1;32mIn[22], line 7\u001b[0m\n\u001b[0;32m      5\u001b[0m \u001b[38;5;28mprint\u001b[39m(root(\u001b[38;5;241m64\u001b[39m,\u001b[38;5;241m2\u001b[39m))\n\u001b[0;32m      6\u001b[0m \u001b[38;5;28mprint\u001b[39m(root(\u001b[38;5;241m-\u001b[39m\u001b[38;5;241m125\u001b[39m,\u001b[38;5;241m3\u001b[39m))\n\u001b[1;32m----> 7\u001b[0m \u001b[38;5;28mprint\u001b[39m(root(\u001b[38;5;241m-\u001b[39m\u001b[38;5;241m125\u001b[39m,\u001b[38;5;241m2\u001b[39m))\n",
      "Cell \u001b[1;32mIn[22], line 2\u001b[0m, in \u001b[0;36mroot\u001b[1;34m(x, n)\u001b[0m\n\u001b[0;32m      1\u001b[0m \u001b[38;5;28;01mdef\u001b[39;00m \u001b[38;5;21mroot\u001b[39m(x,n):\n\u001b[1;32m----> 2\u001b[0m     \u001b[38;5;28;01massert\u001b[39;00m x\u001b[38;5;241m>\u001b[39m\u001b[38;5;241m0\u001b[39m \u001b[38;5;129;01mor\u001b[39;00m n\u001b[38;5;241m%\u001b[39m\u001b[38;5;241m2\u001b[39m \u001b[38;5;241m==\u001b[39m \u001b[38;5;241m1\u001b[39m, \u001b[38;5;124m'\u001b[39m\u001b[38;5;124mArba X teigiamas, arba n nelyginis!\u001b[39m\u001b[38;5;124m'\u001b[39m\n\u001b[0;32m      3\u001b[0m     \u001b[38;5;28;01mreturn\u001b[39;00m \u001b[38;5;28mround\u001b[39m(\u001b[38;5;28mabs\u001b[39m(x\u001b[38;5;241m*\u001b[39m\u001b[38;5;241m*\u001b[39m(\u001b[38;5;241m1\u001b[39m\u001b[38;5;241m/\u001b[39mn)), \u001b[38;5;241m9\u001b[39m)\u001b[38;5;241m*\u001b[39m\u001b[38;5;28mabs\u001b[39m(x)\u001b[38;5;241m/\u001b[39mx\n",
      "\u001b[1;31mAssertionError\u001b[0m: Arba X teigiamas, arba n nelyginis!"
     ]
    }
   ],
   "source": [
    "def root(x,n):\n",
    "    assert x>0 or n%2 == 1, 'Arba X teigiamas, arba n nelyginis!'\n",
    "    return round(abs(x**(1/n)), 9)*abs(x)/x\n",
    "\n",
    "print(root(64,2))\n",
    "print(root(-125,3))\n",
    "print(root(-125,2))"
   ]
  },
  {
   "cell_type": "code",
   "execution_count": 39,
   "metadata": {},
   "outputs": [
    {
     "name": "stdout",
     "output_type": "stream",
     "text": [
      "[21, 45, 36, 32, 14, 22, 11, 27, 18, 41, 45, 10, 34, 20, 11, 39, 45, 18, 23, 46]\n"
     ]
    }
   ],
   "source": [
    "import random\n",
    "r = [random.randint(1,47) for i in range(20)]\n",
    "print(r)"
   ]
  },
  {
   "cell_type": "code",
   "execution_count": 50,
   "metadata": {},
   "outputs": [
    {
     "ename": "TypeError",
     "evalue": "unsupported operand type(s) for ** or pow(): 'str' and 'int'",
     "output_type": "error",
     "traceback": [
      "\u001b[1;31m---------------------------------------------------------------------------\u001b[0m",
      "\u001b[1;31mTypeError\u001b[0m                                 Traceback (most recent call last)",
      "Cell \u001b[1;32mIn[50], line 11\u001b[0m\n\u001b[0;32m      9\u001b[0m     x[i] \u001b[38;5;241m=\u001b[39m \u001b[38;5;124m\"\u001b[39m\u001b[38;5;124mLyginis\u001b[39m\u001b[38;5;124m\"\u001b[39m\n\u001b[0;32m     10\u001b[0m \u001b[38;5;28;01melif\u001b[39;00m i\u001b[38;5;241m%\u001b[39m\u001b[38;5;241m2\u001b[39m\u001b[38;5;241m!=\u001b[39m\u001b[38;5;241m0\u001b[39m:\n\u001b[1;32m---> 11\u001b[0m     \u001b[38;5;28mprint\u001b[39m(\u001b[38;5;28mlist\u001b[39m(\u001b[38;5;28mmap\u001b[39m(\u001b[38;5;28;01mlambda\u001b[39;00m i : i\u001b[38;5;241m*\u001b[39m\u001b[38;5;241m*\u001b[39m\u001b[38;5;241m3\u001b[39m , x)))\n",
      "Cell \u001b[1;32mIn[50], line 11\u001b[0m, in \u001b[0;36m<lambda>\u001b[1;34m(i)\u001b[0m\n\u001b[0;32m      9\u001b[0m     x[i] \u001b[38;5;241m=\u001b[39m \u001b[38;5;124m\"\u001b[39m\u001b[38;5;124mLyginis\u001b[39m\u001b[38;5;124m\"\u001b[39m\n\u001b[0;32m     10\u001b[0m \u001b[38;5;28;01melif\u001b[39;00m i\u001b[38;5;241m%\u001b[39m\u001b[38;5;241m2\u001b[39m\u001b[38;5;241m!=\u001b[39m\u001b[38;5;241m0\u001b[39m:\n\u001b[1;32m---> 11\u001b[0m     \u001b[38;5;28mprint\u001b[39m(\u001b[38;5;28mlist\u001b[39m(\u001b[38;5;28mmap\u001b[39m(\u001b[38;5;28;01mlambda\u001b[39;00m i : i\u001b[38;5;241m*\u001b[39m\u001b[38;5;241m*\u001b[39m\u001b[38;5;241m3\u001b[39m , x)))\n",
      "\u001b[1;31mTypeError\u001b[0m: unsupported operand type(s) for ** or pow(): 'str' and 'int'"
     ]
    }
   ],
   "source": [
    "# Sugeneruoti sąrašą, kur vieto lyginių skaičių būtų žodis 'Lyginis', o vietoj nelyginių - tas pats nelyginis, pakeltas kubiu\n",
    "\n",
    "\n",
    "x=[]\n",
    "import random\n",
    "for i in r:\n",
    "    \n",
    "        # x.append(random.randint(1, 47))\n",
    "        # if x[i]%2==0:\n",
    "        #     x[i] = \"Lyginis\"\n",
    "        # elif i%2!=0:\n",
    "        #     print(list(map(lambda i : i**3 , x)))\n",
    "        "
   ]
  },
  {
   "cell_type": "code",
   "execution_count": 54,
   "metadata": {},
   "outputs": [
    {
     "name": "stdout",
     "output_type": "stream",
     "text": [
      "['Lyginis', 'Lyginis', 'Lyginis', 'Lyginis', 'Lyginis', 12167, 'Lyginis', 27, 'Lyginis', 9261, 103823, 103823, 103823, 'Lyginis', 6859, 12167, 'Lyginis', 'Lyginis', 'Lyginis', 29791]\n"
     ]
    }
   ],
   "source": [
    "r = [random.randint(1,47) for i in range(20)]\n",
    "ats=list(map(lambda x: 'Lyginis' if x%2 == 0 else x**3, r))\n",
    "print(ats)"
   ]
  },
  {
   "cell_type": "code",
   "execution_count": null,
   "metadata": {},
   "outputs": [],
   "source": [
    "def f(x):\n",
    "    if x%2 == 0:\n",
    "        return 'Lyginis'\n",
    "    else:\n",
    "        return x**3\n",
    "\n",
    "ats = list(map(f,r))\n",
    "print(ats)"
   ]
  },
  {
   "cell_type": "code",
   "execution_count": null,
   "metadata": {},
   "outputs": [],
   "source": [
    "# tas pats skaičių sąrašas r. Sugeneruokite naują sąrašą, kuriame būtų vietoj skaičių žodžiai Fizz, Buzz, FizzBuzz arba pats skaičius, pagal FizzBuzz užduoties sąlygas (dalus iš 3jų, 5kių, iš 3jų ir iš 5kių, nedalus)\n",
    "\n",
    "r = [random.randint(1,47) for i in range(20)]\n",
    "\n",
    "def f(x):\n",
    "    if x %3 == 0 and x%5 == 0:\n",
    "        return 'FizzBuzz'\n",
    "    elif x %3 == 0:\n",
    "        return 'Fizz'\n",
    "    elif x %5 == 0:\n",
    "        return 'Buzz'\n",
    "    else:\n",
    "        return x\n",
    "\n",
    "ats = list(map(f,r))\n",
    "print(ats)"
   ]
  },
  {
   "cell_type": "code",
   "execution_count": 53,
   "metadata": {},
   "outputs": [
    {
     "name": "stdout",
     "output_type": "stream",
     "text": [
      "[0.5, 1.0, 1.5, 2.0, 2.5, 3.0, 3.5, 4.0, 4.5, 5.0]\n",
      "[0.35, 0.85, 1.35, 1.85, 2.35, 2.85, 3.35, 3.85, 4.35, 4.85]\n",
      "[2, 4, 6, 8, 10, 12, 14, 16, 18, 20]\n"
     ]
    }
   ],
   "source": [
    "# l = [*range(1,11)]\n",
    "# Paklauskite vartotojo skaičiaus, ir sugenerukite tris sąrašus: l padalintas iš skaičiuaus, padaugintas iš skaičiaus, ir (l-0.3)/skaičius\n",
    "\n",
    "l = [*range(1,11)]\n",
    "n=int(input('number'))\n",
    "\n",
    "l1=list(map(lambda x : x/n , l))\n",
    "print(l1)\n",
    "\n",
    "l2=list(map(lambda x : (x-0.3)/n , l))\n",
    "print(l2)\n",
    "\n",
    "l3=list(map(lambda x : x*n , l))\n",
    "print(l3)"
   ]
  },
  {
   "cell_type": "code",
   "execution_count": null,
   "metadata": {},
   "outputs": [],
   "source": []
  }
 ],
 "metadata": {
  "kernelspec": {
   "display_name": "base",
   "language": "python",
   "name": "python3"
  },
  "language_info": {
   "codemirror_mode": {
    "name": "ipython",
    "version": 3
   },
   "file_extension": ".py",
   "mimetype": "text/x-python",
   "name": "python",
   "nbconvert_exporter": "python",
   "pygments_lexer": "ipython3",
   "version": "3.11.7"
  }
 },
 "nbformat": 4,
 "nbformat_minor": 2
}
