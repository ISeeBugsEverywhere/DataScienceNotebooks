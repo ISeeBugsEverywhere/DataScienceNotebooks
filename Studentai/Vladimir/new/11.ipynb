{
 "cells": [
  {
   "cell_type": "code",
   "execution_count": null,
   "metadata": {},
   "outputs": [],
   "source": [
    "#paklauskite vartotojo datos - savo pasirinktu formatu. Suraskite skirtumą valandomis tarp įvestos datos ir dabarties"
   ]
  },
  {
   "cell_type": "code",
   "execution_count": 12,
   "metadata": {},
   "outputs": [
    {
     "name": "stdout",
     "output_type": "stream",
     "text": [
      "Skirtumas yra 36119.74 valandu.\n"
     ]
    }
   ],
   "source": [
    "from datetime import datetime\n",
    "\n",
    "\n",
    "date_format = input(\"Iveskite formata \")\n",
    "user_date_str = input(f\"Iveskite data ir laika formatu {date_format}: \")\n",
    "user_date = datetime.strptime(user_date_str, date_format)\n",
    "\n",
    "now = datetime.now()\n",
    "difference = (now - user_date).total_seconds() / 3600\n",
    "\n",
    "print(f\"Skirtumas yra {difference:.2f} valandu.\")\n",
    "\n",
    "\n"
   ]
  },
  {
   "cell_type": "code",
   "execution_count": null,
   "metadata": {},
   "outputs": [],
   "source": [
    "# paklauskite vartotojo datos, amerikietišku formatu, mėnesio pavadinimas - tekstas, \n",
    "# abbrevated name, pirmi trys simboliai (Jan, Feb, Dec, Nov ...) - arskite skirtumaą tarp įvestos datos ir dabarties"
   ]
  },
  {
   "cell_type": "code",
   "execution_count": 13,
   "metadata": {},
   "outputs": [
    {
     "name": "stdout",
     "output_type": "stream",
     "text": [
      "Skirtumas 1504\n"
     ]
    }
   ],
   "source": [
    "def get_user_date():\n",
    "    user_date_str = input(\"Data\")\n",
    "    try:\n",
    "        user_date = datetime.strptime(user_date_str, '%d %b %Y %H:%M:%S')\n",
    "        return user_date\n",
    "    except ValueError:\n",
    "        print(\"Neteisingas formatas iveskite formatu:'DD MMM YYYY HH:MM:SS'.\")\n",
    "        return None\n",
    "\n",
    "def calculate_difference(user_date):\n",
    "    now = datetime.now()\n",
    "    difference = now - user_date\n",
    "    difference_in_days = difference.days\n",
    "    return difference_in_days\n",
    "\n",
    "\n",
    "difference_in_days = calculate_difference(user_date)\n",
    "print(f\"Skirtumas {difference_in_days}\")"
   ]
  },
  {
   "cell_type": "code",
   "execution_count": null,
   "metadata": {},
   "outputs": [],
   "source": [
    "# Turite failą BrentOilPrices.csv\n",
    "# Parašykite funkciją, kuri grąžintų naftos kainą nurodytą dieną.\n",
    "# Diena nurodoma vartotojo, su input()\n",
    "# Jūsų pasirinktu formatu.\n",
    "# Jei įvestos datos neišeina rasti - funkcija grąžina -42"
   ]
  },
  {
   "cell_type": "code",
   "execution_count": null,
   "metadata": {},
   "outputs": [],
   "source": [
    "# Parašykite funkciją, kuri grąžintų datas ir kainas iš \n",
    "# nurodyto intervalo, kaip du atskirus sąrašus.\n",
    "# intervalą nurodo vartotojas:\n",
    "# pvz, įvedus 07/May/04 ir 21/Mar/05 grąžintų sąrašą datų ir kainų tarp 2004-05-07 ir 2005-03-21"
   ]
  },
  {
   "cell_type": "code",
   "execution_count": 21,
   "metadata": {},
   "outputs": [
    {
     "name": "stdout",
     "output_type": "stream",
     "text": [
      "The oil price on 2002-07-01 00:00:00 is 25.65\n"
     ]
    }
   ],
   "source": [
    "import datetime\n",
    "def read_oil_prices(csv_file):\n",
    "    oil_prices = {}\n",
    "    with open(csv_file, 'r') as file:\n",
    "        for line in file:\n",
    "            if line.strip() == \"\" or \"Date\" in line:  # Skip empty lines and header\n",
    "                continue\n",
    "            date, price = line.strip().split(',')\n",
    "            date = datetime.datetime.strptime(date, '%d-%b-%y')\n",
    "            oil_prices[date] = float(price)\n",
    "    return oil_prices\n",
    "\n",
    "def get_oil_price_from_csv(date_str, csv_file):\n",
    "    oil_prices = read_oil_prices(csv_file)\n",
    "    return oil_prices.get(date_str, -42)\n",
    "\n",
    "\n",
    "user_date_str = input(f\"Data\")\n",
    "data = datetime.datetime.strptime(user_date_str, '%Y-%m-%d')\n",
    "\n",
    "csv_file = r'C:\\Users\\Batia\\courses\\DataScienceNotebooks\\DataScienceNotebooks\\DATA\\BrentOilPrices.csv'\n",
    "\n",
    "price = get_oil_price_from_csv(data, csv_file)\n",
    "\n",
    "print(f\"The oil price on {data} is {price}\")\n"
   ]
  },
  {
   "cell_type": "code",
   "execution_count": null,
   "metadata": {},
   "outputs": [],
   "source": [
    "# Parašykite funkciją, kuri grąžintų datas ir kainas iš \n",
    "# nurodyto intervalo, kaip du atskirus sąrašus.\n",
    "# intervalą nurodo vartotojas:\n",
    "# pvz, įvedus 07/May/04 ir 21/Mar/05 grąžintų sąrašą datų ir kainų tarp 2004-05-07 ir 2005-03-21"
   ]
  },
  {
   "cell_type": "code",
   "execution_count": null,
   "metadata": {},
   "outputs": [],
   "source": [
    "# duotas failas fpc.csv.\n",
    "# parašyti funkciją, kuri nuskaitytų failą, ir grąžintų visados pirmą stulpelį, ir stulpelį, gautą \n",
    "# iš matematinių veiksmų, kuriuos jūs nurodote kaip funkcijos argumentą.\n",
    "# HINT - pasiskaitykite apie eval() funkciją, ir pritaikykite ją čia."
   ]
  },
  {
   "cell_type": "code",
   "execution_count": 23,
   "metadata": {},
   "outputs": [
    {
     "name": "stdout",
     "output_type": "stream",
     "text": [
      "[datetime.datetime(2009, 5, 8, 0, 0), datetime.datetime(2009, 5, 11, 0, 0), datetime.datetime(2009, 5, 12, 0, 0), datetime.datetime(2009, 5, 13, 0, 0), datetime.datetime(2009, 5, 14, 0, 0), datetime.datetime(2009, 5, 15, 0, 0), datetime.datetime(2009, 5, 18, 0, 0), datetime.datetime(2009, 5, 19, 0, 0), datetime.datetime(2009, 5, 20, 0, 0), datetime.datetime(2009, 5, 21, 0, 0), datetime.datetime(2009, 5, 22, 0, 0), datetime.datetime(2009, 5, 26, 0, 0), datetime.datetime(2009, 5, 27, 0, 0), datetime.datetime(2009, 5, 28, 0, 0), datetime.datetime(2009, 5, 29, 0, 0), datetime.datetime(2009, 6, 1, 0, 0), datetime.datetime(2009, 6, 2, 0, 0), datetime.datetime(2009, 6, 3, 0, 0), datetime.datetime(2009, 6, 4, 0, 0), datetime.datetime(2009, 6, 5, 0, 0), datetime.datetime(2009, 6, 8, 0, 0), datetime.datetime(2009, 6, 9, 0, 0), datetime.datetime(2009, 6, 10, 0, 0), datetime.datetime(2009, 6, 11, 0, 0), datetime.datetime(2009, 6, 12, 0, 0), datetime.datetime(2009, 6, 15, 0, 0), datetime.datetime(2009, 6, 16, 0, 0), datetime.datetime(2009, 6, 17, 0, 0), datetime.datetime(2009, 6, 18, 0, 0), datetime.datetime(2009, 6, 19, 0, 0), datetime.datetime(2009, 6, 22, 0, 0), datetime.datetime(2009, 6, 23, 0, 0), datetime.datetime(2009, 6, 24, 0, 0), datetime.datetime(2009, 6, 25, 0, 0), datetime.datetime(2009, 6, 26, 0, 0), datetime.datetime(2009, 6, 29, 0, 0), datetime.datetime(2009, 6, 30, 0, 0), datetime.datetime(2009, 7, 1, 0, 0), datetime.datetime(2009, 7, 2, 0, 0), datetime.datetime(2009, 7, 6, 0, 0), datetime.datetime(2009, 7, 7, 0, 0), datetime.datetime(2009, 7, 8, 0, 0), datetime.datetime(2009, 7, 9, 0, 0), datetime.datetime(2009, 7, 10, 0, 0), datetime.datetime(2009, 7, 13, 0, 0), datetime.datetime(2009, 7, 14, 0, 0), datetime.datetime(2009, 7, 15, 0, 0), datetime.datetime(2009, 7, 16, 0, 0), datetime.datetime(2009, 7, 17, 0, 0), datetime.datetime(2009, 7, 20, 0, 0), datetime.datetime(2009, 7, 21, 0, 0), datetime.datetime(2009, 7, 22, 0, 0), datetime.datetime(2009, 7, 23, 0, 0), datetime.datetime(2009, 7, 24, 0, 0), datetime.datetime(2009, 7, 27, 0, 0), datetime.datetime(2009, 7, 28, 0, 0), datetime.datetime(2009, 7, 29, 0, 0), datetime.datetime(2009, 7, 30, 0, 0), datetime.datetime(2009, 7, 31, 0, 0), datetime.datetime(2009, 8, 3, 0, 0), datetime.datetime(2009, 8, 4, 0, 0), datetime.datetime(2009, 8, 5, 0, 0), datetime.datetime(2009, 8, 6, 0, 0), datetime.datetime(2009, 8, 7, 0, 0), datetime.datetime(2009, 8, 10, 0, 0), datetime.datetime(2009, 8, 11, 0, 0), datetime.datetime(2009, 8, 12, 0, 0), datetime.datetime(2009, 8, 13, 0, 0), datetime.datetime(2009, 8, 14, 0, 0), datetime.datetime(2009, 8, 17, 0, 0), datetime.datetime(2009, 8, 18, 0, 0), datetime.datetime(2009, 8, 19, 0, 0), datetime.datetime(2009, 8, 20, 0, 0), datetime.datetime(2009, 8, 21, 0, 0), datetime.datetime(2009, 8, 24, 0, 0), datetime.datetime(2009, 8, 25, 0, 0), datetime.datetime(2009, 8, 26, 0, 0), datetime.datetime(2009, 8, 27, 0, 0), datetime.datetime(2009, 8, 28, 0, 0), datetime.datetime(2009, 8, 31, 0, 0), datetime.datetime(2009, 9, 1, 0, 0), datetime.datetime(2009, 9, 2, 0, 0), datetime.datetime(2009, 9, 3, 0, 0), datetime.datetime(2009, 9, 4, 0, 0), datetime.datetime(2009, 9, 8, 0, 0), datetime.datetime(2009, 9, 9, 0, 0), datetime.datetime(2009, 9, 10, 0, 0), datetime.datetime(2009, 9, 11, 0, 0), datetime.datetime(2009, 9, 14, 0, 0), datetime.datetime(2009, 9, 15, 0, 0), datetime.datetime(2009, 9, 16, 0, 0), datetime.datetime(2009, 9, 17, 0, 0), datetime.datetime(2009, 9, 18, 0, 0), datetime.datetime(2009, 9, 21, 0, 0), datetime.datetime(2009, 9, 22, 0, 0), datetime.datetime(2009, 9, 23, 0, 0), datetime.datetime(2009, 9, 24, 0, 0), datetime.datetime(2009, 9, 25, 0, 0), datetime.datetime(2009, 9, 28, 0, 0), datetime.datetime(2009, 9, 29, 0, 0), datetime.datetime(2009, 9, 30, 0, 0), datetime.datetime(2009, 10, 1, 0, 0), datetime.datetime(2009, 10, 2, 0, 0), datetime.datetime(2009, 10, 5, 0, 0), datetime.datetime(2009, 10, 6, 0, 0), datetime.datetime(2009, 10, 7, 0, 0), datetime.datetime(2009, 10, 8, 0, 0), datetime.datetime(2009, 10, 9, 0, 0), datetime.datetime(2009, 10, 12, 0, 0), datetime.datetime(2009, 10, 13, 0, 0), datetime.datetime(2009, 10, 14, 0, 0), datetime.datetime(2009, 10, 15, 0, 0), datetime.datetime(2009, 10, 16, 0, 0), datetime.datetime(2009, 10, 19, 0, 0), datetime.datetime(2009, 10, 20, 0, 0), datetime.datetime(2009, 10, 21, 0, 0), datetime.datetime(2009, 10, 22, 0, 0), datetime.datetime(2009, 10, 23, 0, 0), datetime.datetime(2009, 10, 26, 0, 0), datetime.datetime(2009, 10, 27, 0, 0), datetime.datetime(2009, 10, 28, 0, 0), datetime.datetime(2009, 10, 29, 0, 0), datetime.datetime(2009, 10, 30, 0, 0), datetime.datetime(2009, 11, 2, 0, 0), datetime.datetime(2009, 11, 3, 0, 0), datetime.datetime(2009, 11, 4, 0, 0), datetime.datetime(2009, 11, 5, 0, 0), datetime.datetime(2009, 11, 6, 0, 0), datetime.datetime(2009, 11, 9, 0, 0), datetime.datetime(2009, 11, 10, 0, 0), datetime.datetime(2009, 11, 11, 0, 0), datetime.datetime(2009, 11, 12, 0, 0), datetime.datetime(2009, 11, 13, 0, 0), datetime.datetime(2009, 11, 16, 0, 0), datetime.datetime(2009, 11, 17, 0, 0), datetime.datetime(2009, 11, 18, 0, 0), datetime.datetime(2009, 11, 19, 0, 0), datetime.datetime(2009, 11, 20, 0, 0), datetime.datetime(2009, 11, 23, 0, 0), datetime.datetime(2009, 11, 24, 0, 0), datetime.datetime(2009, 11, 25, 0, 0), datetime.datetime(2009, 11, 27, 0, 0), datetime.datetime(2009, 11, 30, 0, 0), datetime.datetime(2009, 12, 1, 0, 0), datetime.datetime(2009, 12, 2, 0, 0), datetime.datetime(2009, 12, 3, 0, 0), datetime.datetime(2009, 12, 4, 0, 0), datetime.datetime(2009, 12, 7, 0, 0), datetime.datetime(2009, 12, 8, 0, 0), datetime.datetime(2009, 12, 9, 0, 0), datetime.datetime(2009, 12, 10, 0, 0), datetime.datetime(2009, 12, 11, 0, 0), datetime.datetime(2009, 12, 14, 0, 0), datetime.datetime(2009, 12, 15, 0, 0), datetime.datetime(2009, 12, 16, 0, 0), datetime.datetime(2009, 12, 17, 0, 0), datetime.datetime(2009, 12, 18, 0, 0), datetime.datetime(2009, 12, 21, 0, 0), datetime.datetime(2009, 12, 22, 0, 0), datetime.datetime(2009, 12, 23, 0, 0), datetime.datetime(2009, 12, 24, 0, 0), datetime.datetime(2009, 12, 28, 0, 0), datetime.datetime(2009, 12, 29, 0, 0), datetime.datetime(2009, 12, 30, 0, 0), datetime.datetime(2009, 12, 31, 0, 0), datetime.datetime(2010, 1, 4, 0, 0), datetime.datetime(2010, 1, 5, 0, 0), datetime.datetime(2010, 1, 6, 0, 0), datetime.datetime(2010, 1, 7, 0, 0), datetime.datetime(2010, 1, 8, 0, 0), datetime.datetime(2010, 1, 11, 0, 0), datetime.datetime(2010, 1, 12, 0, 0), datetime.datetime(2010, 1, 13, 0, 0), datetime.datetime(2010, 1, 14, 0, 0), datetime.datetime(2010, 1, 15, 0, 0), datetime.datetime(2010, 1, 19, 0, 0), datetime.datetime(2010, 1, 20, 0, 0), datetime.datetime(2010, 1, 21, 0, 0), datetime.datetime(2010, 1, 22, 0, 0), datetime.datetime(2010, 1, 25, 0, 0), datetime.datetime(2010, 1, 26, 0, 0), datetime.datetime(2010, 1, 27, 0, 0), datetime.datetime(2010, 1, 28, 0, 0), datetime.datetime(2010, 1, 29, 0, 0), datetime.datetime(2010, 2, 1, 0, 0), datetime.datetime(2010, 2, 2, 0, 0), datetime.datetime(2010, 2, 3, 0, 0), datetime.datetime(2010, 2, 4, 0, 0), datetime.datetime(2010, 2, 5, 0, 0), datetime.datetime(2010, 2, 8, 0, 0), datetime.datetime(2010, 2, 9, 0, 0), datetime.datetime(2010, 2, 10, 0, 0), datetime.datetime(2010, 2, 11, 0, 0), datetime.datetime(2010, 2, 12, 0, 0), datetime.datetime(2010, 2, 16, 0, 0), datetime.datetime(2010, 2, 17, 0, 0), datetime.datetime(2010, 2, 18, 0, 0), datetime.datetime(2010, 2, 19, 0, 0), datetime.datetime(2010, 2, 22, 0, 0), datetime.datetime(2010, 2, 23, 0, 0), datetime.datetime(2010, 2, 24, 0, 0), datetime.datetime(2010, 2, 25, 0, 0), datetime.datetime(2010, 2, 26, 0, 0), datetime.datetime(2010, 3, 1, 0, 0), datetime.datetime(2010, 3, 2, 0, 0), datetime.datetime(2010, 3, 3, 0, 0), datetime.datetime(2010, 3, 4, 0, 0), datetime.datetime(2010, 3, 5, 0, 0), datetime.datetime(2010, 3, 8, 0, 0), datetime.datetime(2010, 3, 9, 0, 0), datetime.datetime(2010, 3, 10, 0, 0), datetime.datetime(2010, 3, 11, 0, 0), datetime.datetime(2010, 3, 12, 0, 0), datetime.datetime(2010, 3, 15, 0, 0), datetime.datetime(2010, 3, 16, 0, 0), datetime.datetime(2010, 3, 17, 0, 0), datetime.datetime(2010, 3, 18, 0, 0), datetime.datetime(2010, 3, 19, 0, 0), datetime.datetime(2010, 3, 22, 0, 0), datetime.datetime(2010, 3, 23, 0, 0), datetime.datetime(2010, 3, 24, 0, 0), datetime.datetime(2010, 3, 25, 0, 0), datetime.datetime(2010, 3, 26, 0, 0), datetime.datetime(2010, 3, 29, 0, 0), datetime.datetime(2010, 3, 30, 0, 0), datetime.datetime(2010, 3, 31, 0, 0), datetime.datetime(2010, 4, 1, 0, 0), datetime.datetime(2010, 4, 5, 0, 0), datetime.datetime(2010, 4, 6, 0, 0), datetime.datetime(2010, 4, 7, 0, 0), datetime.datetime(2010, 4, 8, 0, 0), datetime.datetime(2010, 4, 9, 0, 0), datetime.datetime(2010, 4, 12, 0, 0), datetime.datetime(2010, 4, 13, 0, 0), datetime.datetime(2010, 4, 14, 0, 0), datetime.datetime(2010, 4, 15, 0, 0), datetime.datetime(2010, 4, 16, 0, 0), datetime.datetime(2010, 4, 19, 0, 0), datetime.datetime(2010, 4, 20, 0, 0), datetime.datetime(2010, 4, 21, 0, 0), datetime.datetime(2010, 4, 22, 0, 0), datetime.datetime(2010, 4, 23, 0, 0), datetime.datetime(2010, 4, 26, 0, 0), datetime.datetime(2010, 4, 27, 0, 0), datetime.datetime(2010, 4, 28, 0, 0), datetime.datetime(2010, 4, 29, 0, 0), datetime.datetime(2010, 4, 30, 0, 0), datetime.datetime(2010, 5, 3, 0, 0), datetime.datetime(2010, 5, 4, 0, 0), datetime.datetime(2010, 5, 5, 0, 0), datetime.datetime(2010, 5, 6, 0, 0), datetime.datetime(2010, 5, 7, 0, 0), datetime.datetime(2010, 5, 10, 0, 0)] [56.02, 55.99, 56.52, 56.84, 56.25, 56.33, 56.51, 57.12, 59.1, 58.02, 58.7, 59.05, 61.28, 63.47, 64.98, 66.6, 67.67, 66.15, 67.68, 67.77, 67.61, 68.94, 70.52, 71.71, 70.62, 68.49, 70.52, 68.95, 69.96, 70.48, 66.13, 66.36, 68.47, 68.82, 68.1, 69.75, 68.11, 68.52, 65.74, 63.12, 61.54, 59.71, 59.17, 58.43, 58.25, 60.48, 61.25, 62.02, 63.54, 64.64, 65.93, 65.36, 68.06, 68.82, 69.78, 68.53, 65.79, 68.82, 70.08, 72.9, 73.82, 74.39, 74.61, 74.21, 73.79, 71.58, 74.03, 73.76, 71.33, 68.65, 68.66, 72.81, 73.75, 73.71, 74.34, 73.1, 70.74, 70.68, 72.8, 69.02, 68.78, 67.6, 66.78, 65.84, 69.2, 69.76, 68.96, 68.76, 66.91, 66.53, 68.51, 71.56, 70.72, 68.11, 69.65, 67.43, 64.99, 64.6, 65.43, 64.63, 65.82, 67.12, 66.5, 65.26, 68.51, 67.65, 68.47, 69.45, 70.75, 70.81, 72.16, 73.14, 74.58, 75.86, 76.51, 77.74, 78.36, 77.72, 76.45, 76.69, 75.11, 77.18, 74.91, 75.56, 75.68, 78.21, 78.02, 75.51, 77.18, 77.07, 76.99, 75.18, 74.81, 77.14, 77.36, 78.64, 76.45, 75.61, 78.14, 75.35, 76.57, 76.0, 77.77, 78.68, 76.96, 77.76, 77.74, 76.18, 74.93, 73.63, 70.91, 70.07, 71.19, 71.33, 73.34, 71.28, 71.87, 72.74, 71.64, 73.87, 75.15, 76.59, 76.65, 77.62, 77.91, 79.05, 79.27, 80.14, 80.57, 80.06, 80.14, 79.38, 77.57, 77.61, 76.85, 75.18, 75.09, 74.13, 72.73, 72.18, 72.63, 72.75, 70.65, 71.2, 71.58, 73.94, 75.77, 71.3, 70.11, 69.62, 70.4, 70.4, 72.35, 71.49, 74.82, 74.89, 76.61, 76.88, 76.95, 76.44, 77.0, 74.38, 76.36, 76.07, 77.5, 78.66, 77.88, 79.2, 78.94, 78.77, 80.29, 79.44, 79.38, 77.08, 79.45, 80.28, 80.09, 78.37, 78.09, 79.17, 78.03, 78.64, 77.98, 79.89, 79.46, 80.37, 82.63, 84.48, 85.05, 84.49, 82.63, 82.77, 85.21, 83.44, 85.81, 86.9, 84.81, 83.09, 84.73, 84.55, 84.58, 86.09, 86.72, 85.59, 84.59, 86.82, 86.19, 88.09, 85.39, 82.31, 80.21, 76.48, 78.08]\n"
     ]
    }
   ],
   "source": [
    "from datetime import datetime\n",
    "fn = r'C:\\Users\\Batia\\courses\\DataScienceNotebooks\\DataScienceNotebooks\\DATA\\BrentOilPrices.csv'\n",
    "with open(fn, mode='r') as f:\n",
    "    lines = f.readlines()\n",
    "\n",
    "def get_prices_in_interval(start_date_str, end_date_str, lines):\n",
    "    start_date = datetime.strptime(start_date_str, '%d-%b-%y')\n",
    "    end_date = datetime.strptime(end_date_str, '%d-%b-%y')\n",
    "    \n",
    "    dates = []\n",
    "    prices = [] \n",
    "\n",
    "    for line in lines[1:]:  # Propuskaet zaglavie\n",
    "        dt, pt = line.strip().split(',')\n",
    "        try:\n",
    "            dt = datetime.strptime(dt, '%d-%b-%y')\n",
    "            pt = float(pt)\n",
    "            \n",
    "            # Proveriajet interval\n",
    "            if start_date <= dt <= end_date:\n",
    "                dates.append(dt)\n",
    "                prices.append(pt)\n",
    "        except ValueError:\n",
    "            continue  # Skipina nepodxodiawuju datu\n",
    "    \n",
    "    return dates, prices\n",
    "\n",
    "\n",
    "start_date_str = input('Pradzios (DD-MMM-YY): ')\n",
    "end_date_str = input('Pabaigos (DD-MMM-YY): ')\n",
    "\n",
    "dates, prices = get_prices_in_interval(start_date_str, end_date_str, lines)\n",
    "print(dates, prices, sep='\\n')"
   ]
  },
  {
   "cell_type": "code",
   "execution_count": 25,
   "metadata": {},
   "outputs": [
    {
     "name": "stdout",
     "output_type": "stream",
     "text": [
      "['1', '2', '3', '4', '5', '6', '7', '8', '9', '10', '11', '12', '13', '14', '15', '16', '17', '18', '19', '20', '21', '22', '23', '24', '25', '26', '27', '28', '29', '30']\n",
      "[0.7262088068495, 3.2562211046389997, 2.017520121361, 2.066388824306, 2.688205920523, 0.6456688534865, 0.547608353229, 0.4580146513358, 2.187695636081, 4.7962436850915005, 4.5405258894875, 4.8402129772075, 1.3736124379824999, 4.697526914687, 0.1351254003751, 0.5427126732955, 2.2550379886625, 1.7400913105675, 3.7237010169160003, 2.180115722694, 4.795937375039, 3.3887797617965, 1.5542002095990002, 2.2198814528765003, 1.39614229254, 0.7086759733195, 2.934242303595, 3.7079525380829996, 0.20587895555385, 3.8127488258645]\n"
     ]
    }
   ],
   "source": [
    "file_path =r'C:\\Users\\Batia\\courses\\DataScienceNotebooks\\DataScienceNotebooks\\DATA\\fpc.csv'\n",
    "with open(file_path, mode='r') as file:\n",
    "    lines=file.readlines()\n",
    "def read_and_calculate(file_path, calc_expression):\n",
    "    first_column = []\n",
    "    calculated_column = []\n",
    "    for line in lines[1:]:\n",
    "        parts = line.strip().split(',')\n",
    "        c1,c2,c3,c4,c5 = list(map(float,parts))    \n",
    "        first_col_value = parts[0]\n",
    "        first_column.append(first_col_value)\n",
    "        calculated_value = eval(calc_expression)\n",
    "        calculated_column.append(calculated_value)\n",
    "\n",
    "    return first_column, calculated_column\n",
    "\n",
    "file_path =r'C:\\Users\\Batia\\courses\\DataScienceNotebooks\\DataScienceNotebooks\\DATA\\fpc.csv'\n",
    "calc_expression = 'c2* 5'\n",
    "first_col, calculated_col = read_and_calculate(file_path, calc_expression)\n",
    "print(first_col, calculated_col , sep='\\n')"
   ]
  },
  {
   "cell_type": "code",
   "execution_count": null,
   "metadata": {},
   "outputs": [],
   "source": []
  }
 ],
 "metadata": {
  "kernelspec": {
   "display_name": "base",
   "language": "python",
   "name": "python3"
  },
  "language_info": {
   "codemirror_mode": {
    "name": "ipython",
    "version": 3
   },
   "file_extension": ".py",
   "mimetype": "text/x-python",
   "name": "python",
   "nbconvert_exporter": "python",
   "pygments_lexer": "ipython3",
   "version": "3.11.7"
  }
 },
 "nbformat": 4,
 "nbformat_minor": 2
}
