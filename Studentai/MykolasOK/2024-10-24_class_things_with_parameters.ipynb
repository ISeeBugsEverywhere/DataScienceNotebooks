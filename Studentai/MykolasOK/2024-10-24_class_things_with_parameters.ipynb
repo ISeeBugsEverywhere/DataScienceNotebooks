{
 "cells": [
  {
   "cell_type": "code",
   "execution_count": 1,
   "metadata": {},
   "outputs": [
    {
     "name": "stdout",
     "output_type": "stream",
     "text": [
      "Paskaita nr. 46, 2024-10-24\n",
      "Atverčia ir nuskaito AutoPlius skelbimus pagal anksčiau db išsaugotas nuorodas.\n",
      "sqlite3.connect('auto_skelbimai_txt.db')\n",
      "2024-10-24 22:08:28\n"
     ]
    }
   ],
   "source": [
    "import numpy as np\n",
    "import pandas as pd\n",
    "import matplotlib.pyplot as plt\n",
    "import warnings\n",
    "warnings.filterwarnings('ignore')\n",
    "import seaborn as sns\n",
    "import sqlite3\n",
    "import mysql.connector as cnt\n",
    "import plotly.express as px\n",
    "\n",
    "import datetime as dt\n",
    "\n",
    "# import mysql.connector as cnt\n",
    "import sqlite3\n",
    "\n",
    "import requests\n",
    "from bs4 import BeautifulSoup\n",
    "\n",
    "# import selenium\n",
    "from selenium.webdriver.chrome.options import Options\n",
    "# from selenium.webdriver.firefox.options import Options as FirefoxOptions\n",
    "# Firefox leistų sudėtingesnius nustatymus, bet neveikia per SNAP\n",
    "\n",
    "from selenium import webdriver\n",
    "from bs4 import BeautifulSoup\n",
    "import time\n",
    "\n",
    "print('Paskaita nr. 46, 2024-10-24')\n",
    "print('Atverčia ir nuskaito AutoPlius skelbimus pagal anksčiau db išsaugotas nuorodas.')\n",
    "\n",
    "# https://www.sqlitetutorial.net/sqlite-primary-key/\n",
    "# https://www.crummy.com/software/BeautifulSoup/bs4/doc/\n",
    "# https://www.sqlite.org/lang_createtable.html\n",
    "\n",
    "db_file_name='auto_skelbimai_txt.db'\n",
    "db_connect = sqlite3.connect(db_file_name)\n",
    "cs = db_connect.cursor()\n",
    "print(f\"sqlite3.connect('{db_file_name}')\")\n",
    "print(dt.datetime.now().replace(microsecond=0))"
   ]
  },
  {
   "cell_type": "code",
   "execution_count": 13,
   "metadata": {},
   "outputs": [
    {
     "name": "stdout",
     "output_type": "stream",
     "text": [
      "Class 'things_with_parameters' defined.\n"
     ]
    }
   ],
   "source": [
    "# https://stackoverflow.com/questions/38076220/python-mysqldb-connection-in-a-class\n",
    "# https://stackoverflow.com/questions/75688682/how-should-i-type-my-sqlite-connection-and-cursor-in-a-python-class-before-i-pro\n",
    "# https://pynative.com/python-sqlite/\n",
    "# https://www.geeksforgeeks.org/python-sqlite-connecting-to-database/\n",
    "# https://www.reddit.com/r/learnpython/comments/4lznux/best_technique_for_passing_sqlite3_connection/\n",
    "\n",
    "import sqlite3\n",
    "\n",
    "class things_with_parameters:\n",
    "    production=False # 'True' for production, 'False' for testing.\n",
    "\n",
    "    def __init__(self,name): # constructor.\n",
    "        self._name=name\n",
    "        self._connection = sqlite3.connect(name)\n",
    "        self._cursor = self._connection.cursor()\n",
    "        things_with_parameters.production or print(f\"Connected '{name}'\\n\")\n",
    "\n",
    "    def __enter__(self):\n",
    "        return self\n",
    "\n",
    "    def __exit__(self, exc_type, exc_val, exc_tb):\n",
    "        self.close()\n",
    "    \n",
    "    def __str__(self):\n",
    "        rez=f'The structure of database \"{self._name}\"\\n'\n",
    "        for (tableName,) in self.query(\n",
    "        \"select NAME from SQLITE_MASTER where TYPE='table' order by NAME;\"\n",
    "        ):\n",
    "            rez+=\"{}:\\n\".format(tableName)\n",
    "            for (\n",
    "                columnID, columnName, columnType,\n",
    "                columnNotNull, columnDefault, columnPK,\n",
    "            ) in self.query(\"pragma table_info('{}');\".format(tableName)):\n",
    "                rez+=\"  {id}: {name}({type}){null}{default}{pk}\\n\".format(\n",
    "                    id=columnID,\n",
    "                    name=columnName,\n",
    "                    type=columnType,\n",
    "                    null=\" not null\" if columnNotNull else \"\",\n",
    "                    default=\" [{}]\".format(columnDefault) if columnDefault else \"\",\n",
    "                    pk=\" *{}\".format(columnPK) if columnPK else \"\",\n",
    "                )\n",
    "        return rez\n",
    "\n",
    "    @property\n",
    "    def connection(self):\n",
    "        return self._connection\n",
    "\n",
    "    @property\n",
    "    def cursor(self):\n",
    "        return self._cursor\n",
    "\n",
    "    def commit(self):\n",
    "        self.connection.commit()\n",
    "\n",
    "    def close(self, commit=True):\n",
    "        if commit:\n",
    "            self.commit()\n",
    "        self.connection.close()\n",
    "        things_with_parameters.production or print(f\"Disconnected '{self._name}'\")\n",
    "\n",
    "    def execute(self, sql, params=None): # result with .fetchall() or .fetchone()\n",
    "        self._cursor.execute(sql, params or ())\n",
    "\n",
    "    def fetchall(self):\n",
    "        return self._cursor.fetchall()\n",
    "\n",
    "    def fetchone(self):\n",
    "        return self._cursor.fetchone()\n",
    "\n",
    "    def query(self, sql, params=None):\n",
    "        self._cursor.execute(sql, params or ())\n",
    "        return self.fetchall()\n",
    "\n",
    "things_with_parameters.production or print(\"Class 'things_with_parameters' defined.\")"
   ]
  },
  {
   "cell_type": "code",
   "execution_count": 16,
   "metadata": {},
   "outputs": [
    {
     "name": "stdout",
     "output_type": "stream",
     "text": [
      "Connected 'auto_skelbimai_txt.db'\n",
      "\n",
      "The structure of database \"auto_skelbimai_txt.db\"\n",
      "object_param:\n",
      "  0: object_id(INTEGER) not null\n",
      "  1: param_name(TEXT) not null\n",
      "  2: param_value(TEXT)\n",
      "  3: create_timestamp(INTEGER)\n",
      "  4: update_timestamp(INTEGER)\n",
      "object_x:\n",
      "  0: id(INTEGER) *1\n",
      "  1: href(TEXT)\n",
      "  2: create_timestamp(INTEGER)\n",
      "  3: update_timestamp(INTEGER)\n",
      "param_category:\n",
      "  0: param_name(TEXT)\n",
      "  1: param_description(TEXT)\n",
      "  2: create_timestamp(INTEGER)\n",
      "  3: update_timestamp(INTEGER)\n",
      "\n",
      "Disconnected 'auto_skelbimai_txt.db'\n"
     ]
    }
   ],
   "source": [
    "db_objektas=things_with_parameters(db_file_name)\n",
    "print(db_objektas)\n",
    "db_objektas.close()"
   ]
  }
 ],
 "metadata": {
  "kernelspec": {
   "display_name": "Python 3",
   "language": "python",
   "name": "python3"
  },
  "language_info": {
   "codemirror_mode": {
    "name": "ipython",
    "version": 3
   },
   "file_extension": ".py",
   "mimetype": "text/x-python",
   "name": "python",
   "nbconvert_exporter": "python",
   "pygments_lexer": "ipython3",
   "version": "3.12.3"
  }
 },
 "nbformat": 4,
 "nbformat_minor": 2
}
