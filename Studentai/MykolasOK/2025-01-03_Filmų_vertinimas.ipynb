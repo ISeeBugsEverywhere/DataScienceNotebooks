{
 "cells": [
  {
   "cell_type": "code",
   "execution_count": 17,
   "metadata": {},
   "outputs": [
    {
     "name": "stdout",
     "output_type": "stream",
     "text": [
      "72 paskaita. 2 dalis. Filmų vertinimas.\n",
      "Pasiruošta 2025-01-03 21:09:35\n"
     ]
    }
   ],
   "source": [
    "import pandas as pd\n",
    "import matplotlib.pyplot as plt\n",
    "from datetime import datetime as dt\n",
    "\n",
    "print(f'72 paskaita. 2 dalis. Filmų vertinimas.')\n",
    "print('Pasiruošta',dt.now().replace(microsecond=0))\n",
    "\n",
    "csv_files=\"../../../duomenys/ml-32m/\""
   ]
  },
  {
   "cell_type": "code",
   "execution_count": 2,
   "metadata": {},
   "outputs": [
    {
     "data": {
      "text/plain": [
       "'c:\\\\Users\\\\Eridas\\\\Documents\\\\vilniuscoding2024\\\\git\\\\DataScienceNotebooks\\\\Studentai\\\\MykolasOK'"
      ]
     },
     "execution_count": 2,
     "metadata": {},
     "output_type": "execute_result"
    }
   ],
   "source": [
    "pwd"
   ]
  },
  {
   "cell_type": "code",
   "execution_count": null,
   "metadata": {},
   "outputs": [],
   "source": [
    "# '/home/administratorius/git/python_kursai/DataScienceNotebooks/Studentai/MykolasOK'\n",
    "# 'c:\\\\Users\\\\Eridas\\\\Documents\\\\vilniuscoding2024\\\\git\\\\DataScienceNotebooks\\\\Studentai\\\\MykolasOK'"
   ]
  },
  {
   "cell_type": "code",
   "execution_count": 4,
   "metadata": {},
   "outputs": [],
   "source": [
    "# Projektas (kažkiek dienų trukmės)\n",
    "# (Čia ne ML, kurkite savo algoritmą, arba savo algoritmą + ML):\n",
    "# Filmų rekomendacijos skriptas (Jupyter notebook)  arba Streamlit aplikacija\n",
    "# Rekomenduoti filmus pagal pasirinkimus (remiantis kitų vartotojų vertinimais) - \n",
    "# vartotojas įveda žanrą, aktorių, etc .. (apribokite įvestį 3-5 parametrais)\n",
    "# Rezultatas - rekomenduojami filmai (1, 2 ar daugiau)\n",
    "# get_dummies() -> dummy_df = df[\"Fruits\"].str.get_dummies(\", \") \n",
    "# iš čia: https://stackoverflow.com/questions/76783764/pandas-get-dummies-on-rows-with-multiple-entries\n",
    "\n",
    "# /home/administratorius/git/python_kursai/duomenys/ml-32m/\n",
    "# checksums.txt  links.csv  movies.csv  ratings.csv  README.txt  tags.csv"
   ]
  },
  {
   "cell_type": "code",
   "execution_count": 8,
   "metadata": {},
   "outputs": [],
   "source": [
    "# print(f'{csv_files}links.csv')"
   ]
  },
  {
   "cell_type": "code",
   "execution_count": 18,
   "metadata": {},
   "outputs": [],
   "source": [
    "links_df = pd.read_csv(f'{csv_files}links.csv') # print(links_df.info()) # 0.0s\n",
    "# print(links_df.head(3))"
   ]
  },
  {
   "cell_type": "code",
   "execution_count": 21,
   "metadata": {},
   "outputs": [],
   "source": [
    "movies_df = pd.read_csv(f'{csv_files}movies.csv') # print(movies_df.info()) # 0.2s\n",
    "# Dešifruoju movies_df['genres'] į atskirus stulpelius kiekvienam žanrui:\n",
    "movies_df = movies_df.join(movies_df['genres'].str.get_dummies(sep='|'))\n",
    "# print(movies_df.head(3))"
   ]
  },
  {
   "cell_type": "code",
   "execution_count": null,
   "metadata": {},
   "outputs": [],
   "source": [
    "ratings_df = pd.read_csv(f'{csv_files}ratings.csv') # print(ratings_df.info()) # 8.8s\n",
    "# print(ratings_df.head())"
   ]
  },
  {
   "cell_type": "code",
   "execution_count": null,
   "metadata": {},
   "outputs": [],
   "source": [
    "tags_df = pd.read_csv(f'{csv_files}tags.csv') # print(tags_df.info()) # 1.7s\n",
    "# print(tags_df.head())"
   ]
  },
  {
   "cell_type": "code",
   "execution_count": 7,
   "metadata": {},
   "outputs": [],
   "source": [
    "# Algoritmo idėja: filtruojamas žanras, \n",
    "# kiekvienam žanrui atrenkami ekspertai, kurių nuomonės vertinamos;\n",
    "# skaičiuojamas reitingas pagal atrinktus ekspertus."
   ]
  }
 ],
 "metadata": {
  "kernelspec": {
   "display_name": "Python 3",
   "language": "python",
   "name": "python3"
  },
  "language_info": {
   "codemirror_mode": {
    "name": "ipython",
    "version": 3
   },
   "file_extension": ".py",
   "mimetype": "text/x-python",
   "name": "python",
   "nbconvert_exporter": "python",
   "pygments_lexer": "ipython3",
   "version": "3.12.4"
  }
 },
 "nbformat": 4,
 "nbformat_minor": 2
}
