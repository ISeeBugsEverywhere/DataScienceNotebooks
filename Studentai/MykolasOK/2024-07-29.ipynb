{
 "cells": [
  {
   "cell_type": "code",
   "execution_count": 1,
   "metadata": {},
   "outputs": [
    {
     "name": "stdout",
     "output_type": "stream",
     "text": [
      "2024-07-29\n",
      "15 paskaita\n",
      "Grafikų braižymo 2 dalis\n"
     ]
    }
   ],
   "source": [
    "print('2024-07-29\\n15 paskaita\\nStulpelinių diagramų kūrimas')"
   ]
  },
  {
   "cell_type": "code",
   "execution_count": 2,
   "metadata": {},
   "outputs": [],
   "source": [
    "import matplotlib.pyplot as plt\n",
    "\n",
    "# https://lt.wikipedia.org/wiki/Lietuvos_klimatas\n",
    "# nubraižykite stulpelinę diagramą, kur būtų \n",
    "# atvaizduotos vidutinės ilgametės mėnesių temperatūros\n",
    "# mėlynas stulpelis turi rodyti neigiamą temperatūrą\n",
    "# žalias - teigiamą\n",
    "\n",
    "mėn3R=['Sau','Vas','Kov','Bal','Geg','Bir','Lie','Rgp','Rgs','Spa','Lap','Gru']\n",
    "vidMėnT=[-3.2,-3.2,0.4,6.7,12.4,15.4,17.9,17.1,12.3,7.2,1.9,-1.9]\n",
    "\n"
   ]
  }
 ],
 "metadata": {
  "kernelspec": {
   "display_name": "Python 3",
   "language": "python",
   "name": "python3"
  },
  "language_info": {
   "codemirror_mode": {
    "name": "ipython",
    "version": 3
   },
   "file_extension": ".py",
   "mimetype": "text/x-python",
   "name": "python",
   "nbconvert_exporter": "python",
   "pygments_lexer": "ipython3",
   "version": "3.11.6"
  }
 },
 "nbformat": 4,
 "nbformat_minor": 2
}
