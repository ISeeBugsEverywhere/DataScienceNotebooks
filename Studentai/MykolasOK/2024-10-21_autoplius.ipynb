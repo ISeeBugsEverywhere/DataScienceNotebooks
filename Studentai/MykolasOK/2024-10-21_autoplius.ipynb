{
 "cells": [
  {
   "cell_type": "code",
   "execution_count": 2,
   "metadata": {},
   "outputs": [
    {
     "name": "stdout",
     "output_type": "stream",
     "text": [
      "Paskaita nr. 44, 2024-10-21\n",
      "Atverčia ir nuskaito AutoPlius skelbimus pagal anksčiau db išsaugotas nuorodas.\n"
     ]
    }
   ],
   "source": [
    "import numpy as np\n",
    "import pandas as pd\n",
    "import matplotlib.pyplot as plt\n",
    "import warnings\n",
    "warnings.filterwarnings('ignore')\n",
    "import seaborn as sns\n",
    "import sqlite3\n",
    "import mysql.connector as cnt\n",
    "import plotly.express as px\n",
    "\n",
    "import datetime as dt\n",
    "\n",
    "# import mysql.connector as cnt\n",
    "import sqlite3\n",
    "\n",
    "import requests\n",
    "from bs4 import BeautifulSoup\n",
    "\n",
    "# import selenium\n",
    "from selenium.webdriver.chrome.options import Options\n",
    "# from selenium.webdriver.firefox.options import Options as FirefoxOptions\n",
    "# Firefox leistų sudėtingesnius nustatymus, bet neveikia per SNAP\n",
    "\n",
    "from selenium import webdriver\n",
    "from bs4 import BeautifulSoup\n",
    "import time\n",
    "\n",
    "print('Paskaita nr. 44, 2024-10-21')\n",
    "print('Atverčia ir nuskaito AutoPlius skelbimus pagal anksčiau db išsaugotas nuorodas.')"
   ]
  },
  {
   "cell_type": "code",
   "execution_count": 3,
   "metadata": {},
   "outputs": [
    {
     "name": "stdout",
     "output_type": "stream",
     "text": [
      "sdb = sqlite3.connect('Testas.db')\n"
     ]
    }
   ],
   "source": [
    "# https://www.sqlitetutorial.net/sqlite-primary-key/\n",
    "# https://www.crummy.com/software/BeautifulSoup/bs4/doc/\n",
    "https://www.sqlite.org/lang_createtable.html\n",
    "\n",
    "sdb = sqlite3.connect('Testas.db')\n",
    "cs = sdb.cursor()\n",
    "\n",
    "print(\"sdb = sqlite3.connect('Testas.db')\")"
   ]
  },
  {
   "cell_type": "code",
   "execution_count": 5,
   "metadata": {},
   "outputs": [
    {
     "name": "stdout",
     "output_type": "stream",
     "text": [
      "Sukuriamos lentelės bazėje Testas.db\n"
     ]
    },
    {
     "data": {
      "text/plain": [
       "<sqlite3.Cursor at 0x793b95923d40>"
      ]
     },
     "execution_count": 5,
     "metadata": {},
     "output_type": "execute_result"
    }
   ],
   "source": [
    "# Viskas atliekama vieną kartą !!!\n",
    "\n",
    "print('Sukuriamos lentelės bazėje Testas.db')\n",
    "\n",
    "sql_create_table = '''\n",
    "create table if not exists auto_skelbimai\n",
    "(\n",
    "    nr integer primary key,\n",
    "    href text\n",
    "    create_timestamp integer\n",
    "    update_timestamp integer\n",
    ")\n",
    "''' # Reikia pridėti nuskaitymo timestamp !!!\n",
    "cs.execute(sql_create_table)\n",
    "\n",
    "sql_create_table = '''\n",
    "create table if not exists parametro_kategorija\n",
    "(\n",
    "    param_id integer primary key,\n",
    "    param_txt text,\n",
    "    create_timestamp integer,\n",
    "    update_timestamp integer\n",
    ")\n",
    "'''\n",
    "cs.execute(sql_create_table)\n",
    "\n",
    "sql_create_table = '''\n",
    "create table if not exists skelbimo_parametras\n",
    "(\n",
    "    skelbimo_nr integer not null,\n",
    "    param_id integer not null,\n",
    "    create_timestamp integer,\n",
    "    update_timestamp integer,\n",
    "    primary key (skelbimo_nr, param_id)\n",
    ")\n",
    "'''\n",
    "cs.execute(sql_create_table)"
   ]
  }
 ],
 "metadata": {
  "kernelspec": {
   "display_name": "Python 3",
   "language": "python",
   "name": "python3"
  },
  "language_info": {
   "codemirror_mode": {
    "name": "ipython",
    "version": 3
   },
   "file_extension": ".py",
   "mimetype": "text/x-python",
   "name": "python",
   "nbconvert_exporter": "python",
   "pygments_lexer": "ipython3",
   "version": "3.12.3"
  }
 },
 "nbformat": 4,
 "nbformat_minor": 2
}
