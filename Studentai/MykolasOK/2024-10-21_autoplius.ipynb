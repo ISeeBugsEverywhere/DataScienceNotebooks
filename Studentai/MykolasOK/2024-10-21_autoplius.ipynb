{
 "cells": [
  {
   "cell_type": "code",
   "execution_count": 1,
   "metadata": {},
   "outputs": [
    {
     "name": "stdout",
     "output_type": "stream",
     "text": [
      "Paskaita nr. 44, 2024-10-21\n",
      "Atverčia ir nuskaito AutoPlius skelbimus pagal anksčiau db išsaugotas nuorodas.\n"
     ]
    }
   ],
   "source": [
    "import numpy as np\n",
    "import pandas as pd\n",
    "import matplotlib.pyplot as plt\n",
    "import warnings\n",
    "warnings.filterwarnings('ignore')\n",
    "import seaborn as sns\n",
    "import sqlite3\n",
    "import mysql.connector as cnt\n",
    "import plotly.express as px\n",
    "\n",
    "import datetime as dt\n",
    "\n",
    "# import mysql.connector as cnt\n",
    "import sqlite3\n",
    "\n",
    "import requests\n",
    "from bs4 import BeautifulSoup\n",
    "\n",
    "# import selenium\n",
    "from selenium.webdriver.chrome.options import Options\n",
    "# from selenium.webdriver.firefox.options import Options as FirefoxOptions\n",
    "# Firefox leistų sudėtingesnius nustatymus, bet neveikia per SNAP\n",
    "\n",
    "from selenium import webdriver\n",
    "from bs4 import BeautifulSoup\n",
    "import time\n",
    "\n",
    "print('Paskaita nr. 44, 2024-10-21')\n",
    "print('Atverčia ir nuskaito AutoPlius skelbimus pagal anksčiau db išsaugotas nuorodas.')"
   ]
  },
  {
   "cell_type": "code",
   "execution_count": 14,
   "metadata": {},
   "outputs": [
    {
     "name": "stdout",
     "output_type": "stream",
     "text": [
      "sqlite3.connect('auto_skelbimai.db')\n"
     ]
    }
   ],
   "source": [
    "# https://www.sqlitetutorial.net/sqlite-primary-key/\n",
    "# https://www.crummy.com/software/BeautifulSoup/bs4/doc/\n",
    "# https://www.sqlite.org/lang_createtable.html\n",
    "\n",
    "db_name='auto_skelbimai.db'\n",
    "\n",
    "cs = sqlite3.connect(db_name).cursor()\n",
    "\n",
    "print(f\"sqlite3.connect('{db_name}')\")"
   ]
  },
  {
   "cell_type": "code",
   "execution_count": 12,
   "metadata": {},
   "outputs": [
    {
     "name": "stdout",
     "output_type": "stream",
     "text": [
      "Perrašau lentelę į naują db\n",
      "Perskaityta 1000 įrašų.\n"
     ]
    }
   ],
   "source": [
    "print('Perrašau lentelę į naują db')\n",
    "\n",
    "sena_db = sqlite3.connect('Testas.db')\n",
    "sena_cs = sena_db.cursor()\n",
    "\n",
    "sql_create_table = '''\n",
    "create table if not exists auto_skelbimai\n",
    "(\n",
    "    nr integer primary key,\n",
    "    href text,\n",
    "    create_timestamp integer,\n",
    "    update_timestamp integer\n",
    ") strict\n",
    "'''\n",
    "sena_cs.execute(sql_create_table)\n",
    "\n",
    "dabar=int(dt.datetime.today().timestamp()) # now(), today()\n",
    "eilutės=[]\n",
    "sena_cs.execute('select * from auto_skelbimai') # limit 9\n",
    "for rezultatas in sena_cs.fetchall():\n",
    "    eilutė=list(rezultatas)\n",
    "    eilutė.append(dabar) \n",
    "    eilutė.append(dabar) \n",
    "    # print(eilutė)\n",
    "    eilutės.append(eilutė)\n",
    "sena_db.close()\n",
    "print(f\"Perskaityta {len(eilutės)} įrašų.\")\n",
    "\n",
    "nauja_db = sqlite3.connect('auto_skelbimai.db')\n",
    "nauja_cs = nauja_db.cursor()\n",
    "\n",
    "sql_template='''INSERT OR REPLACE into auto_skelbimai (nr,href,create_timestamp,update_timestamp) values (?,?,?,?)'''\n",
    "nauja_cs.executemany(sql_template,eilutės)\n",
    "nauja_db.commit()\n",
    "nauja_db.close()"
   ]
  },
  {
   "cell_type": "code",
   "execution_count": 15,
   "metadata": {},
   "outputs": [
    {
     "name": "stdout",
     "output_type": "stream",
     "text": [
      "a\n",
      "[('top_auto',), ('autoįvykiai',), ('KaunoDiena_straipsniai',), ('auto_skelbimai',), ('parametro_kategorija',), ('skelbimo_parametras',), ('auto_skelbimai_4',)]\n"
     ]
    }
   ],
   "source": [
    "print('a')\n",
    "\n",
    "cs_sena_db = sqlite3.connect('Testas.db')\n",
    "cs_sena = cs_sena_db.cursor()\n",
    "\n",
    "x=\"SELECT name FROM sqlite_master WHERE type='table'\"\n",
    "cs_sena.execute(x)\n",
    "ats=cs_sena.fetchall()\n",
    "print(ats)\n",
    "\n",
    "cs_sena.close()\n",
    "cs_sena_db.close()"
   ]
  },
  {
   "cell_type": "code",
   "execution_count": 10,
   "metadata": {},
   "outputs": [
    {
     "name": "stdout",
     "output_type": "stream",
     "text": [
      "Sukuriamos lentelės sqlite3 duomenųbazėje\n"
     ]
    },
    {
     "data": {
      "text/plain": [
       "<sqlite3.Cursor at 0x793b95792140>"
      ]
     },
     "execution_count": 10,
     "metadata": {},
     "output_type": "execute_result"
    }
   ],
   "source": [
    "# Viskas atliekama vieną kartą !!!\n",
    "\n",
    "print('Sukuriamos lentelės sqlite3 duomenųbazėje')\n",
    "\n",
    "sql_create_table = '''\n",
    "create table if not exists auto_skelbimai\n",
    "(\n",
    "    nr integer primary key,\n",
    "    href text,\n",
    "    create_timestamp integer,\n",
    "    update_timestamp integer\n",
    ") strict\n",
    "''' # Reikia pridėti nuskaitymo timestamp !!!\n",
    "cs.execute(sql_create_table)\n",
    "\n",
    "sql_create_table = '''\n",
    "create table if not exists parametro_kategorija\n",
    "(\n",
    "    param_id integer primary key,\n",
    "    param_txt text not null,\n",
    "    create_timestamp integer,\n",
    "    update_timestamp integer\n",
    ") strict\n",
    "'''\n",
    "cs.execute(sql_create_table)\n",
    "\n",
    "sql_create_table = '''\n",
    "create table if not exists skelbimo_parametras\n",
    "(\n",
    "    skelbimo_nr integer not null,\n",
    "    param_id integer not null,\n",
    "    create_timestamp integer,\n",
    "    update_timestamp integer,\n",
    "    primary key (skelbimo_nr, param_id)\n",
    ") strict\n",
    "'''\n",
    "cs.execute(sql_create_table)"
   ]
  }
 ],
 "metadata": {
  "kernelspec": {
   "display_name": "Python 3",
   "language": "python",
   "name": "python3"
  },
  "language_info": {
   "codemirror_mode": {
    "name": "ipython",
    "version": 3
   },
   "file_extension": ".py",
   "mimetype": "text/x-python",
   "name": "python",
   "nbconvert_exporter": "python",
   "pygments_lexer": "ipython3",
   "version": "3.12.3"
  }
 },
 "nbformat": 4,
 "nbformat_minor": 2
}
