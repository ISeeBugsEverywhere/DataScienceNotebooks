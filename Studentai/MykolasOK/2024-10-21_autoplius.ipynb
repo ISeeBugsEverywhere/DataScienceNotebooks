{
 "cells": [
  {
   "cell_type": "code",
   "execution_count": 1,
   "metadata": {},
   "outputs": [
    {
     "name": "stdout",
     "output_type": "stream",
     "text": [
      "Paskaita nr. 44, 2024-10-21\n",
      "Atverčia ir nuskaito AutoPlius skelbimus pagal anksčiau db išsaugotas nuorodas.\n"
     ]
    }
   ],
   "source": [
    "import numpy as np\n",
    "import pandas as pd\n",
    "import matplotlib.pyplot as plt\n",
    "import warnings\n",
    "warnings.filterwarnings('ignore')\n",
    "import seaborn as sns\n",
    "import sqlite3\n",
    "import mysql.connector as cnt\n",
    "import plotly.express as px\n",
    "\n",
    "import datetime as dt\n",
    "\n",
    "# import mysql.connector as cnt\n",
    "import sqlite3\n",
    "\n",
    "import requests\n",
    "from bs4 import BeautifulSoup\n",
    "\n",
    "# import selenium\n",
    "from selenium.webdriver.chrome.options import Options\n",
    "# from selenium.webdriver.firefox.options import Options as FirefoxOptions\n",
    "# Firefox leistų sudėtingesnius nustatymus, bet neveikia per SNAP\n",
    "\n",
    "from selenium import webdriver\n",
    "from bs4 import BeautifulSoup\n",
    "import time\n",
    "\n",
    "print('Paskaita nr. 44, 2024-10-21')\n",
    "print('Atverčia ir nuskaito AutoPlius skelbimus pagal anksčiau db išsaugotas nuorodas.')\n",
    "print('Parametrų kategorijų identifikatoriai \"integer primary key\" tipo.')"
   ]
  },
  {
   "cell_type": "code",
   "execution_count": 59,
   "metadata": {},
   "outputs": [
    {
     "name": "stdout",
     "output_type": "stream",
     "text": [
      "sqlite3.connect('auto_skelbimai.db')\n"
     ]
    }
   ],
   "source": [
    "# https://www.sqlitetutorial.net/sqlite-primary-key/\n",
    "# https://www.crummy.com/software/BeautifulSoup/bs4/doc/\n",
    "# https://www.sqlite.org/lang_createtable.html\n",
    "\n",
    "db_failas='auto_skelbimai.db'\n",
    "db_connect = sqlite3.connect(db_failas)\n",
    "cs = db_connect.cursor()\n",
    "\n",
    "print(f\"sqlite3.connect('{db_failas}')\")"
   ]
  },
  {
   "cell_type": "code",
   "execution_count": 26,
   "metadata": {},
   "outputs": [
    {
     "name": "stdout",
     "output_type": "stream",
     "text": [
      "18267894 https://m.autoplius.lt/skelbimai/mercedes-benz-e250-2-5-l-sedanas-1990-dyzelinas-18267894.html\n",
      "Skelbimas 18267894 neegzistuoja.\n",
      "23150167 https://m.autoplius.lt/skelbimai/toyota-sienna-3-3-l-vienaturis-2004-benzinas-dujos-23150167.html\n"
     ]
    }
   ],
   "source": [
    "cs.execute(\"select * from auto_skelbimai limit 2\")\n",
    "for (nr,href,created,updated) in cs.fetchall():\n",
    "    print(nr,href)\n",
    "\n",
    "    opcijos = Options()\n",
    "    opcijos.add_argument('--incognito')\n",
    "    driver = webdriver.Chrome(options=opcijos)\n",
    "    driver.get(href)\n",
    "    time.sleep(1) # 3 sekundėms atsidaro naršyklės langas\n",
    "    source = driver.page_source\n",
    "    driver.close()\n",
    "\n",
    "    bs = BeautifulSoup(source,'html.parser').find('body')\n",
    "\n",
    "    # <div class=\"larger\">Skelbimas neegzistuoja</div>\n",
    "    larger=bs.find('div',{'class':'larger'})\n",
    "    if larger and larger.text == 'Skelbimas neegzistuoja':\n",
    "        print(f'Skelbimas {nr} neegzistuoja.')\n",
    "        continue"
   ]
  },
  {
   "cell_type": "code",
   "execution_count": 93,
   "metadata": {},
   "outputs": [
    {
     "name": "stdout",
     "output_type": "stream",
     "text": [
      "Skelbimas:23150167, parametras:title, reikšmė:Toyota Sienna\n",
      "Rasta: [(1, 'title')] 1. Nustatytas id: 1\n",
      "\n",
      "Skelbimas:23150167, parametras:subtitle, reikšmė:3.3 l., vienatūris\n",
      "Rasta: [(2, 'subtitle')] 1. Nustatytas id: 2\n",
      "\n",
      "Skelbimas:23150167, parametras:picture, reikšmė:https://autoplius-img.dgn.lt/ann_25_330980647/toyota-sienna-3-3-l-vienaturis-2004-benzinas-dujos-0.jpg\n",
      "Rasta: [(3, 'picture')] 1. Nustatytas id: 3\n",
      "\n",
      "Skelbimas:23150167, parametras:rida, reikšmė:333000\n",
      "Rasta: [(4, 'rida')] 1. Nustatytas id: 4\n",
      "\n",
      "Skelbimas:23150167, parametras:tmp99, reikšmė:tmp\n",
      "Rasta: [] 0. Įterpta: [(11, 'tmp99')]. Nustatytas id: 11\n",
      "\n"
     ]
    }
   ],
   "source": [
    "def parametro_išsaugojimas(nr_,p_txt_id_,p_value_,db_,cs_):\n",
    "    print(f\"Skelbimas:{nr_}, parametras:{p_txt_id_}, reikšmė:{p_value_}\")\n",
    "    sql=f\"select param_cat_id, param_cat_txt from parametro_kategorija where param_cat_txt='{p_txt_id_}'\"\n",
    "    cs_.execute(sql)\n",
    "    db_.commit()\n",
    "    ats = cs_.fetchall()\n",
    "    print('Rasta:',ats,len(ats),end='. ') # \n",
    "    egzistuoja=len(ats)\n",
    "    if egzistuoja:\n",
    "        p_id_=ats[0][0]\n",
    "    else:\n",
    "        sql_template='''INSERT into parametro_kategorija \n",
    "        (param_cat_txt) values (?)'''\n",
    "        cs_.execute(sql_template,([p_txt_id_]))\n",
    "        db_.commit()\n",
    "        sql=f\"select param_cat_id, param_cat_txt from parametro_kategorija where param_cat_txt='{p_txt_id_}'\"\n",
    "        cs_.execute(sql)\n",
    "        db_.commit()\n",
    "        ats = cs_.fetchall()\n",
    "        print('Įterpta:',ats,end='. ') # ,len(ats),ats[0][0]\n",
    "        p_id_=ats[0][0]\n",
    "\n",
    "    print('Nustatytas id:',p_id_)\n",
    "    print()\n",
    "\n",
    "    # Sukuriama kategorija jei tokios nebuvo. \n",
    "    # Nustatomas rastos arba naujai sukurtos kategorijos id.\n",
    "    # Reikia įraįrašyti skelbimo-kategorijos ryšį.\n",
    "\n",
    "    # sql_template='''INSERT OR REPLACE into auto_skelbimai (nr,href) values (?,?)'''\n",
    "    # cs.execute(sql_template,(nr,href))\n",
    "\n",
    "# print(bs)\n",
    "konteineris=bs.find('div',{'id':'container'})\n",
    "# print(konteineris)\n",
    "\n",
    "title=konteineris.find('h1',{'class':'title'}).get_text().strip()\n",
    "parametro_išsaugojimas(nr,'title',title,db_connect,cs)\n",
    "\n",
    "subtitle=konteineris.find('h3',{'class':'subtitle'}).get_text().strip()\n",
    "parametro_išsaugojimas(nr,'subtitle',subtitle,db_connect,cs)\n",
    "\n",
    "picture=konteineris.find('picture').find('source')['srcset'].strip()\n",
    "parametro_išsaugojimas(nr,'picture',picture,db_connect,cs)\n",
    "\n",
    "rida=konteineris.find('span',{'title':'Rida'}).get_text().replace('Rida:','').replace(' km','').replace(' ','').strip()\n",
    "parametro_išsaugojimas(nr,'rida',rida,db_connect,cs)\n",
    "\n",
    "parametro_išsaugojimas(nr,'tmp99','tmp',db_connect,cs)"
   ]
  },
  {
   "cell_type": "code",
   "execution_count": null,
   "metadata": {},
   "outputs": [],
   "source": [
    "db_connect.close()"
   ]
  },
  {
   "cell_type": "code",
   "execution_count": null,
   "metadata": {},
   "outputs": [],
   "source": [
    "######################################################################\n",
    "################ Žemiai - vienkartiniai dalykai ######################\n",
    "######################################################################"
   ]
  },
  {
   "cell_type": "code",
   "execution_count": 12,
   "metadata": {},
   "outputs": [
    {
     "name": "stdout",
     "output_type": "stream",
     "text": [
      "Perrašau lentelę į naują db\n",
      "Perskaityta 1000 įrašų.\n"
     ]
    }
   ],
   "source": [
    "######################################################################\n",
    "print('Perrašau lentelę į naują db')  ################################\n",
    "######################################################################\n",
    "\n",
    "sena_db = sqlite3.connect('Testas.db')\n",
    "sena_cs = sena_db.cursor()\n",
    "\n",
    "sql_create_table = '''\n",
    "create table if not exists auto_skelbimai\n",
    "(\n",
    "    nr integer primary key,\n",
    "    href text,\n",
    "    create_timestamp integer,\n",
    "    update_timestamp integer\n",
    ") strict\n",
    "'''\n",
    "sena_cs.execute(sql_create_table)\n",
    "\n",
    "dabar=int(dt.datetime.today().timestamp()) # now(), today()\n",
    "eilutės=[]\n",
    "sena_cs.execute('select * from auto_skelbimai') # limit 9\n",
    "for rezultatas in sena_cs.fetchall():\n",
    "    eilutė=list(rezultatas)\n",
    "    eilutė.append(dabar) \n",
    "    eilutė.append(dabar) \n",
    "    # print(eilutė)\n",
    "    eilutės.append(eilutė)\n",
    "sena_db.close()\n",
    "print(f\"Perskaityta {len(eilutės)} įrašų.\")\n",
    "\n",
    "nauja_db = sqlite3.connect('auto_skelbimai.db')\n",
    "nauja_cs = nauja_db.cursor()\n",
    "\n",
    "sql_template='''INSERT OR REPLACE into auto_skelbimai (nr,href,create_timestamp,update_timestamp) values (?,?,?,?)'''\n",
    "nauja_cs.executemany(sql_template,eilutės)\n",
    "nauja_db.commit()\n",
    "nauja_db.close()"
   ]
  },
  {
   "cell_type": "code",
   "execution_count": 9,
   "metadata": {},
   "outputs": [
    {
     "name": "stdout",
     "output_type": "stream",
     "text": [
      "Tikriname db\n",
      "[('auto_skelbimai',), ('parametro_kategorija',), ('skelbimo_parametras',)]\n"
     ]
    }
   ],
   "source": [
    "######################################################################\n",
    "print('Tikriname db')  ###############################################\n",
    "######################################################################\n",
    "\n",
    "db_x = sqlite3.connect('auto_skelbimai.db')\n",
    "cs_x = db_x.cursor()\n",
    "\n",
    "cs_x.execute(\"SELECT name FROM sqlite_master WHERE type='table'\")\n",
    "print(cs_x.fetchall())\n",
    "\n",
    "cs_x.close()\n",
    "db_x.close()"
   ]
  },
  {
   "cell_type": "code",
   "execution_count": 31,
   "metadata": {},
   "outputs": [
    {
     "name": "stdout",
     "output_type": "stream",
     "text": [
      "Sukuriamos lentelės sqlite3 duomenųbazėje\n"
     ]
    },
    {
     "data": {
      "text/plain": [
       "<sqlite3.Cursor at 0x7e795d459bc0>"
      ]
     },
     "execution_count": 31,
     "metadata": {},
     "output_type": "execute_result"
    }
   ],
   "source": [
    "######################################################################\n",
    "print('Sukuriamos lentelės sqlite3 duomenųbazėje') ###################\n",
    "######################################################################\n",
    "\n",
    "sql_create_table = '''\n",
    "create table if not exists auto_skelbimai\n",
    "(\n",
    "    nr integer primary key,\n",
    "    href text,\n",
    "    create_timestamp integer,\n",
    "    update_timestamp integer\n",
    ") strict\n",
    "'''\n",
    "cs.execute(sql_create_table)\n",
    "\n",
    "sql_create_table = '''\n",
    "create table if not exists parametro_kategorija\n",
    "(\n",
    "    param_cat_id integer primary key autoincrement,\n",
    "    param_cat_txt text unique on conflict fail,\n",
    "    param_description text,\n",
    "    create_timestamp integer,\n",
    "    update_timestamp integer\n",
    ") strict\n",
    "'''\n",
    "cs.execute(sql_create_table)\n",
    "\n",
    "sql_create_table = '''\n",
    "create table if not exists skelbimo_parametras\n",
    "(\n",
    "    skelbimo_nr integer not null,\n",
    "    param_cat_id integer not null,\n",
    "    create_timestamp integer,\n",
    "    update_timestamp integer,\n",
    "    primary key (skelbimo_nr,param_cat_id)\n",
    ") strict\n",
    "'''\n",
    "cs.execute(sql_create_table)\n",
    "\n",
    "# https://www.sqlite.org/lang_createtable.html"
   ]
  }
 ],
 "metadata": {
  "kernelspec": {
   "display_name": "Python 3",
   "language": "python",
   "name": "python3"
  },
  "language_info": {
   "codemirror_mode": {
    "name": "ipython",
    "version": 3
   },
   "file_extension": ".py",
   "mimetype": "text/x-python",
   "name": "python",
   "nbconvert_exporter": "python",
   "pygments_lexer": "ipython3",
   "version": "3.12.3"
  }
 },
 "nbformat": 4,
 "nbformat_minor": 2
}
