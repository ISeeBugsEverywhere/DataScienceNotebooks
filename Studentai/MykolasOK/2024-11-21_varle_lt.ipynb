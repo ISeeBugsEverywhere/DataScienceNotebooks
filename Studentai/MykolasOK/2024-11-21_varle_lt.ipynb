{
 "cells": [
  {
   "cell_type": "code",
   "execution_count": 1,
   "metadata": {},
   "outputs": [],
   "source": [
    "import sqlite3\n",
    "import pandas as pd\n",
    "\n",
    "from lib.properties_of_1 import properties_of"
   ]
  },
  {
   "cell_type": "code",
   "execution_count": null,
   "metadata": {},
   "outputs": [],
   "source": [
    "# Idėja kitam kartui:\n",
    "# Numatyti konstruktorių be objekto, kuris sukurtų DB,\n",
    "# Vėliau šaukiant knstruktorių būtų naudojamas tas prisijungimas,\n",
    "# Bet nebūtų automatiškai uždaromas panaikinus visus realius abjektus.\n",
    "# Tai ypač blogaio, jei DB \":memory:\", nes uždarius prarandami duomenys."
   ]
  },
  {
   "cell_type": "code",
   "execution_count": 2,
   "metadata": {},
   "outputs": [
    {
     "name": "stdout",
     "output_type": "stream",
     "text": [
      "Knygos savybės: [{'object_id': '111-222-333', 'property_id': '1', 'description': 'Pavadinimas', 'value': 'Lapė Snapė'}]\n",
      "Automobilių savybės: [{'object_id': 'GGZ123', 'property_id': '1', 'description': 'Energija', 'value': 'dyzelis'}]\n",
      "\n",
      "property_id    object_id          title              author  year\n",
      "0            111-222-333     Lapė Snapė      Jonas Papievis  2020\n",
      "1            222-333-444  Vilkas Pilkas  Antanas Antanaitis  1900\n"
     ]
    }
   ],
   "source": [
    "def main():\n",
    "    # Sukuria bendrą ryšio objektą\n",
    "    shared_conn = sqlite3.connect(\":memory:\")\n",
    "\n",
    "    # Sukuria objektus, naudojant bendrą ryšį\n",
    "    book = properties_of(\"knyga\", db_path=shared_conn)\n",
    "    car = properties_of(\"automobilis\", db_path=shared_conn)\n",
    "\n",
    "    # Prideda duomenų\n",
    "    book.add_property_type(1, \"Pavadinimas\")\n",
    "    book.add_property(\"111-222-333\", 1, \"Lapė Snapė\")\n",
    "\n",
    "    car.add_property_type(1, \"Energija\")\n",
    "    car.add_property(\"GGZ123\", 1, \"dyzelis\")\n",
    "\n",
    "    # Išveda duomenis\n",
    "    print(\"Knygos savybės:\", book.get_all_properties())\n",
    "    print(\"Automobilių savybės:\", car.get_all_properties())\n",
    "    print()\n",
    "\n",
    "    # Uždaro bendrą ryšį\n",
    "    shared_conn.close()\n",
    "\n",
    "    # Sukuria objektą ir prideda duomenų\n",
    "    conn = sqlite3.connect(\":memory:\")\n",
    "    book = properties_of(\"knyga\", db_path=conn)\n",
    "\n",
    "    # Prideda savybių tipus\n",
    "    book.add_property_type(\"title\", \"Pavadinimas\")\n",
    "    book.add_property_type(\"author\", \"Autorius\")\n",
    "    book.add_property_type(\"year\", \"Metai\")\n",
    "\n",
    "    # Prideda savybes objektams\n",
    "    book.add_property(\"111-222-333\", \"title\", \"Lapė Snapė\")\n",
    "    book.add_property(\"111-222-333\", \"author\", \"Jonas Papievis\")\n",
    "    book.add_property(\"111-222-333\", \"year\", \"2020\")\n",
    "\n",
    "    book.add_property(\"222-333-444\", \"title\", \"Vilkas Pilkas\")\n",
    "    book.add_property(\"222-333-444\", \"author\", \"Antanas Antanaitis\")\n",
    "    book.add_property(\"222-333-444\", \"year\", \"1900\")\n",
    "\n",
    "    # Gauna Pandas DataFrame su nurodytomis savybėmis\n",
    "    properties_to_fetch = [\"title\", \"author\", \"year\"]\n",
    "    df = book.get_properties_as_dataframe(properties_to_fetch)\n",
    "    print(df)\n",
    "\n",
    "    # Uždaro ryšį\n",
    "    conn.close()\n",
    "\n",
    "if __name__ == \"__main__\":\n",
    "    main()"
   ]
  }
 ],
 "metadata": {
  "kernelspec": {
   "display_name": "Python 3",
   "language": "python",
   "name": "python3"
  },
  "language_info": {
   "codemirror_mode": {
    "name": "ipython",
    "version": 3
   },
   "file_extension": ".py",
   "mimetype": "text/x-python",
   "name": "python",
   "nbconvert_exporter": "python",
   "pygments_lexer": "ipython3",
   "version": "3.12.3"
  }
 },
 "nbformat": 4,
 "nbformat_minor": 2
}
