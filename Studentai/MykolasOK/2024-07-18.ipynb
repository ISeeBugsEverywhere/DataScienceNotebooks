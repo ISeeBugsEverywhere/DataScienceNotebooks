{
 "cells": [
  {
   "cell_type": "code",
   "execution_count": 1,
   "metadata": {},
   "outputs": [
    {
     "name": "stdout",
     "output_type": "stream",
     "text": [
      "2024-07-18\n",
      "11 paskaita\n"
     ]
    }
   ],
   "source": [
    "print('2024-07-18\\n11 paskaita')"
   ]
  },
  {
   "cell_type": "code",
   "execution_count": 23,
   "metadata": {},
   "outputs": [
    {
     "name": "stdout",
     "output_type": "stream",
     "text": [
      "‾|\n",
      " ‾|\n",
      "  ‾|\n",
      "   ‾|\n",
      "‾|\n",
      " ‾|\n",
      "  ‾|\n",
      "   ‾|\n",
      "    ‾|\n"
     ]
    }
   ],
   "source": [
    "# vartotojas įveda skaičių n\n",
    "# jūsų funkcija! turi spausdinti \"laiptus\" iš simbolių | ir ‾\n",
    "# pvz įvesta 4:\n",
    "# ‾|\n",
    "#  ‾|\n",
    "#   ‾|\n",
    "#    ‾|\n",
    "\n",
    "def laiptas(likutis,atitraukimas=0):\n",
    "    print(' '*atitraukimas+'‾|')\n",
    "    if likutis>1:\n",
    "        laiptas(likutis-1,atitraukimas+1)\n",
    "\n",
    "laiptas(4)\n",
    "laiptas(5)\n",
    "    "
   ]
  },
  {
   "cell_type": "code",
   "execution_count": 25,
   "metadata": {},
   "outputs": [
    {
     "name": "stdout",
     "output_type": "stream",
     "text": [
      "['La', 'ba', 's_']\n",
      "\n",
      "['Vi', 'so', ' g', 'er', 'o!']\n"
     ]
    }
   ],
   "source": [
    "#parašyti funkciją:\n",
    "#teskto skaidymas į sąrašą po porą simbolių.\n",
    "# jei tekstas yra iš nelyginio simbolių kiekio - trūkstamas simbolis keičiamas _\n",
    "# pvz 'abc' => ['ab', 'c_']\n",
    "# 'abcdef' => ['ab', 'cd', 'ef']\n",
    "\n",
    "def poromis(txt):\n",
    "    if len(txt)%2:\n",
    "        txt+='_'\n",
    "    # print(txt)\n",
    "    poros=[]\n",
    "    for i in range(0,len(txt)//2):\n",
    "        # print(txt[2*i:2*i+2])\n",
    "        poros.append(txt[2*i:2*i+2])\n",
    "    return poros\n",
    "\n",
    "print(poromis('Labas'))\n",
    "print()\n",
    "print(poromis('Viso gero!'))\n"
   ]
  },
  {
   "cell_type": "code",
   "execution_count": null,
   "metadata": {},
   "outputs": [],
   "source": [
    "# Parašyti funkciją, kuri atrinktų \"kubinius\" skaičius iš intervalo [0-10000]\n",
    "#  \"kubinis\" skaičius - tai kurio skaitmenų kubų suma yra lygi pačiam skaičiui:\n",
    "#  pvz 153 = 1^3+5^3+3^3 => 153 yra \"kubinis\"\n",
    "#  visus rastus skaičius pateikite kaip sąrašą (list)\n",
    "\n",
    "def kubiniai\n"
   ]
  }
 ],
 "metadata": {
  "kernelspec": {
   "display_name": "Python 3",
   "language": "python",
   "name": "python3"
  },
  "language_info": {
   "codemirror_mode": {
    "name": "ipython",
    "version": 3
   },
   "file_extension": ".py",
   "mimetype": "text/x-python",
   "name": "python",
   "nbconvert_exporter": "python",
   "pygments_lexer": "ipython3",
   "version": "3.12.4"
  }
 },
 "nbformat": 4,
 "nbformat_minor": 2
}
