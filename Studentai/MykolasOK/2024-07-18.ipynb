{
 "cells": [
  {
   "cell_type": "code",
   "execution_count": 1,
   "metadata": {},
   "outputs": [
    {
     "name": "stdout",
     "output_type": "stream",
     "text": [
      "2024-07-18\n",
      "11 paskaita\n"
     ]
    }
   ],
   "source": [
    "print('2024-07-18\\n11 paskaita')"
   ]
  },
  {
   "cell_type": "code",
   "execution_count": 23,
   "metadata": {},
   "outputs": [
    {
     "name": "stdout",
     "output_type": "stream",
     "text": [
      "‾|\n",
      " ‾|\n",
      "  ‾|\n",
      "   ‾|\n",
      "‾|\n",
      " ‾|\n",
      "  ‾|\n",
      "   ‾|\n",
      "    ‾|\n"
     ]
    }
   ],
   "source": [
    "# vartotojas įveda skaičių n\n",
    "# jūsų funkcija! turi spausdinti \"laiptus\" iš simbolių | ir ‾\n",
    "# pvz įvesta 4:\n",
    "# ‾|\n",
    "#  ‾|\n",
    "#   ‾|\n",
    "#    ‾|\n",
    "\n",
    "def laiptas(likutis,atitraukimas=0):\n",
    "    print(' '*atitraukimas+'‾|')\n",
    "    if likutis>1:\n",
    "        laiptas(likutis-1,atitraukimas+1)\n",
    "\n",
    "laiptas(4)\n",
    "laiptas(5)\n",
    "    "
   ]
  },
  {
   "cell_type": "code",
   "execution_count": 25,
   "metadata": {},
   "outputs": [
    {
     "name": "stdout",
     "output_type": "stream",
     "text": [
      "['La', 'ba', 's_']\n",
      "\n",
      "['Vi', 'so', ' g', 'er', 'o!']\n"
     ]
    }
   ],
   "source": [
    "#parašyti funkciją:\n",
    "#teskto skaidymas į sąrašą po porą simbolių.\n",
    "# jei tekstas yra iš nelyginio simbolių kiekio - trūkstamas simbolis keičiamas _\n",
    "# pvz 'abc' => ['ab', 'c_']\n",
    "# 'abcdef' => ['ab', 'cd', 'ef']\n",
    "\n",
    "def poromis(txt):\n",
    "    if len(txt)%2:\n",
    "        txt+='_'\n",
    "    poros=[]\n",
    "    for i in range(0,len(txt)//2):\n",
    "        poros.append(txt[2*i:2*i+2])\n",
    "    return poros\n",
    "\n",
    "print(poromis('Labas'))\n",
    "print(poromis('Viso gero!'))\n"
   ]
  },
  {
   "cell_type": "code",
   "execution_count": 61,
   "metadata": {},
   "outputs": [
    {
     "name": "stdout",
     "output_type": "stream",
     "text": [
      "[0, 1, 153, 370, 371, 407]\n"
     ]
    }
   ],
   "source": [
    "# Parašyti funkciją, kuri atrinktų \"kubinius\" skaičius iš intervalo [0-10000]\n",
    "#  \"kubinis\" skaičius - tai kurio skaitmenų kubų suma yra lygi pačiam skaičiui:\n",
    "#  pvz 153 = 1^3+5^3+3^3 => 153 yra \"kubinis\"\n",
    "#  visus rastus skaičius pateikite kaip sąrašą (list)\n",
    "\n",
    "def kubiniai():\n",
    "    rez=[]\n",
    "    for i in range(0,10000):\n",
    "        skaičius=i\n",
    "        suma=0\n",
    "        while skaičius>0:\n",
    "            suma+=(skaičius % 10)**3\n",
    "            skaičius=skaičius//10\n",
    "        if suma==i:\n",
    "            rez.append(i)\n",
    "    return rez\n",
    "\n",
    "print(kubiniai())"
   ]
  },
  {
   "cell_type": "code",
   "execution_count": 57,
   "metadata": {},
   "outputs": [
    {
     "name": "stdout",
     "output_type": "stream",
     "text": [
      "Note: you may need to restart the kernel to use updated packages.Defaulting to user installation because normal site-packages is not writeable\n",
      "Collecting numpy\n",
      "  Downloading numpy-2.0.0-cp312-cp312-win_amd64.whl.metadata (60 kB)\n",
      "     ---------------------------------------- 0.0/60.9 kB ? eta -:--:--\n",
      "     ------ --------------------------------- 10.2/60.9 kB ? eta -:--:--\n",
      "     ------ --------------------------------- 10.2/60.9 kB ? eta -:--:--\n",
      "     ------------ ------------------------- 20.5/60.9 kB 165.2 kB/s eta 0:00:01\n",
      "     ------------ ------------------------- 20.5/60.9 kB 165.2 kB/s eta 0:00:01\n",
      "     ------------------------- ------------ 41.0/60.9 kB 179.6 kB/s eta 0:00:01\n",
      "     ------------------------------- ------ 51.2/60.9 kB 201.8 kB/s eta 0:00:01\n",
      "     -------------------------------------- 60.9/60.9 kB 216.5 kB/s eta 0:00:00\n",
      "Downloading numpy-2.0.0-cp312-cp312-win_amd64.whl (16.2 MB)\n",
      "   ---------------------------------------- 0.0/16.2 MB ? eta -:--:--\n",
      "   ---------------------------------------- 0.0/16.2 MB 991.0 kB/s eta 0:00:17\n",
      "   ---------------------------------------- 0.1/16.2 MB 1.7 MB/s eta 0:00:10\n",
      "    --------------------------------------- 0.2/16.2 MB 2.2 MB/s eta 0:00:08\n",
      "    --------------------------------------- 0.4/16.2 MB 2.5 MB/s eta 0:00:07\n",
      "   - -------------------------------------- 0.5/16.2 MB 2.6 MB/s eta 0:00:06\n",
      "   -- ------------------------------------- 0.9/16.2 MB 3.7 MB/s eta 0:00:05\n",
      "   -- ------------------------------------- 1.1/16.2 MB 3.9 MB/s eta 0:00:04\n",
      "   --- ------------------------------------ 1.6/16.2 MB 4.7 MB/s eta 0:00:04\n",
      "   ---- ----------------------------------- 2.0/16.2 MB 5.2 MB/s eta 0:00:03\n",
      "   ----- ---------------------------------- 2.4/16.2 MB 5.6 MB/s eta 0:00:03\n",
      "   ------ --------------------------------- 2.8/16.2 MB 6.1 MB/s eta 0:00:03\n",
      "   ------- -------------------------------- 3.1/16.2 MB 6.2 MB/s eta 0:00:03\n",
      "   -------- ------------------------------- 3.5/16.2 MB 6.4 MB/s eta 0:00:02\n",
      "   --------- ------------------------------ 4.0/16.2 MB 6.8 MB/s eta 0:00:02\n",
      "   ----------- ---------------------------- 4.5/16.2 MB 7.1 MB/s eta 0:00:02\n",
      "   ------------ --------------------------- 5.0/16.2 MB 7.4 MB/s eta 0:00:02\n",
      "   ------------- -------------------------- 5.3/16.2 MB 7.4 MB/s eta 0:00:02\n",
      "   -------------- ------------------------- 5.8/16.2 MB 7.6 MB/s eta 0:00:02\n",
      "   --------------- ------------------------ 6.3/16.2 MB 7.7 MB/s eta 0:00:02\n",
      "   ---------------- ----------------------- 6.7/16.2 MB 7.8 MB/s eta 0:00:02\n",
      "   ----------------- ---------------------- 7.1/16.2 MB 8.0 MB/s eta 0:00:02\n",
      "   ------------------ --------------------- 7.6/16.2 MB 7.9 MB/s eta 0:00:02\n",
      "   ------------------- -------------------- 7.9/16.2 MB 8.0 MB/s eta 0:00:02\n",
      "   -------------------- ------------------- 8.4/16.2 MB 8.2 MB/s eta 0:00:01\n",
      "   ---------------------- ----------------- 8.9/16.2 MB 8.3 MB/s eta 0:00:01\n",
      "   ----------------------- ---------------- 9.4/16.2 MB 8.3 MB/s eta 0:00:01\n",
      "   ----------------------- ---------------- 9.7/16.2 MB 8.3 MB/s eta 0:00:01\n",
      "   ------------------------ --------------- 10.1/16.2 MB 8.4 MB/s eta 0:00:01\n",
      "   -------------------------- ------------- 10.6/16.2 MB 9.2 MB/s eta 0:00:01\n",
      "   --------------------------- ------------ 11.0/16.2 MB 9.6 MB/s eta 0:00:01\n",
      "   ---------------------------- ----------- 11.5/16.2 MB 9.8 MB/s eta 0:00:01\n",
      "   ----------------------------- ---------- 12.0/16.2 MB 9.8 MB/s eta 0:00:01\n",
      "   ------------------------------ --------- 12.3/16.2 MB 9.9 MB/s eta 0:00:01\n",
      "   ------------------------------- -------- 12.7/16.2 MB 9.9 MB/s eta 0:00:01\n",
      "   -------------------------------- ------- 13.3/16.2 MB 10.1 MB/s eta 0:00:01\n",
      "   --------------------------------- ------ 13.7/16.2 MB 10.1 MB/s eta 0:00:01\n",
      "   ---------------------------------- ----- 14.1/16.2 MB 10.1 MB/s eta 0:00:01\n",
      "   ------------------------------------ --- 14.7/16.2 MB 10.1 MB/s eta 0:00:01\n",
      "   ------------------------------------- -- 15.1/16.2 MB 10.1 MB/s eta 0:00:01\n",
      "   -------------------------------------- - 15.5/16.2 MB 10.2 MB/s eta 0:00:01\n",
      "   ---------------------------------------  15.9/16.2 MB 10.1 MB/s eta 0:00:01\n",
      "   ---------------------------------------  16.2/16.2 MB 9.9 MB/s eta 0:00:01\n",
      "   ---------------------------------------  16.2/16.2 MB 9.9 MB/s eta 0:00:01\n",
      "   ---------------------------------------  16.2/16.2 MB 9.9 MB/s eta 0:00:01\n",
      "   ---------------------------------------- 16.2/16.2 MB 9.0 MB/s eta 0:00:00\n",
      "Installing collected packages: numpy\n",
      "Successfully installed numpy-2.0.0\n",
      "\n"
     ]
    },
    {
     "name": "stderr",
     "output_type": "stream",
     "text": [
      "\n",
      "[notice] A new release of pip is available: 24.0 -> 24.1.2\n",
      "[notice] To update, run: python.exe -m pip install --upgrade pip\n"
     ]
    }
   ],
   "source": [
    "pip install numpy"
   ]
  },
  {
   "cell_type": "code",
   "execution_count": 63,
   "metadata": {},
   "outputs": [
    {
     "name": "stdout",
     "output_type": "stream",
     "text": [
      "26515546563367464495657576901798829117260580226981846596980582879812451776140600577788554765224169114042425197452429835966187506669709587657835977432861906474162332922676404138094065094239305590883491357681824020427122451942558845112759835445056371076028072043669464416012734186651843419480\n"
     ]
    }
   ],
   "source": [
    "# duota skaičių eilutė.\n",
    "# rasti joje visus skaičius, kurie yra lygūs savo \n",
    "# skaitmenų, pakeltų laipsniu 4, arba 5, sumai.\n",
    "\n",
    "import numpy as np\n",
    "r = np.random.randint(0,1000,100).tolist()\n",
    "r = ''.join([str(i) for i in r])\n",
    "print(r)"
   ]
  },
  {
   "cell_type": "code",
   "execution_count": 68,
   "metadata": {},
   "outputs": [
    {
     "name": "stdout",
     "output_type": "stream",
     "text": [
      "10 14.142135623730951 141.4213562373095 48.2842712474619\n",
      "10 10 100 40\n"
     ]
    }
   ],
   "source": [
    "# Aprašykite klasę Rectangle. Kreipiantis į klasę, reikia nurodyti\n",
    "# stačiakampio kraštines a ir b.\n",
    "# • Realizuokite atributą Plotas (S = a ⋅ b) ir metodą, grąžinantį\n",
    "# Ploto reikšmę\n",
    "# • Taip pat pridėkite metodą, apskaičiuojantį ir grąžinantį\n",
    "# perimetrą (P = 2(a + b)).\n",
    "\n",
    "class Rectangle():\n",
    "    def __init__(self,a,b=0):\n",
    "        if b==0:\n",
    "            b=a\n",
    "        self.a=a\n",
    "        self.b=b\n",
    "        self.S=a*b\n",
    "    def Plotas(self):\n",
    "        return self.S\n",
    "    def Perimetras(self):\n",
    "        return (self.a+self.b)*2\n",
    "\n",
    "Lapas=Rectangle(10,10*2**(0.5))\n",
    "print(Lapas.a,Lapas.b,Lapas.Plotas(),Lapas.Perimetras())\n",
    "\n",
    "Kvadratas=Rectangle(10)\n",
    "print(Kvadratas.a,Kvadratas.b,Kvadratas.Plotas(),Kvadratas.Perimetras())"
   ]
  },
  {
   "cell_type": "code",
   "execution_count": 76,
   "metadata": {},
   "outputs": [
    {
     "name": "stdout",
     "output_type": "stream",
     "text": [
      "[10, 7]\n",
      "8.5\n",
      "[2, 7]\n",
      "4.5\n"
     ]
    }
   ],
   "source": [
    "# Sukurkite Mokinys klasę, kuri turės mokinio vardą, pavardę ir\n",
    "# sąrašą pažymių. Įtraukite metodus, kurie skaičiuotų vidurkį,\n",
    "# didžiausią ir mažiausią pažymį.\n",
    "# • Sukurkite Abiturientas klasę, kuri paveldi Mokinys klasę ir\n",
    "# prideda papildomą funkcionalumą, pvz., gebėjimą pridėti\n",
    "# egzamino rezultatus ir skaičiuoti bendrą vidurkį, įskaitant ir\n",
    "# egzamino rezultatus.\n",
    "# • Sukurkite Mokykla klasę, kuri turės sąrašą Mokinys objektų.\n",
    "# Įtraukite metodus, kurie leistų pridėti naują mokinį, pašalinti\n",
    "# mokinį, bei skaičiuoti visos mokyklos mokinių pažymių\n",
    "# vidurkius.\n",
    "# • Atnaujinkite Mokinys klasę taip, kad pažymių sąrašas būtų\n",
    "# privatus. Sukurkite metodus, kurie leistų saugiai pridėti ir\n",
    "# gauti pažymius, užtikrinant, kad negalima būtų pridėti\n",
    "# netinkamų pažymių (pvz., neigiamų ar didesnių nei 10).\n",
    "\n",
    "class Mokinys():\n",
    "    def __init__(self,vardas,pavardė=''):\n",
    "        self.Vardas=vardas\n",
    "        self.Pavardė=pavardė\n",
    "        self.pažymiai=[]\n",
    "    def Vidurkis(self):\n",
    "        if not(len(self.pažymiai)):\n",
    "            return False\n",
    "        n=0\n",
    "        sum=0\n",
    "        for x in self.pažymiai:\n",
    "            n+=1\n",
    "            sum+=x\n",
    "        return sum/n\n",
    "\n",
    "m1=Mokinys('Agnė','Arimaitė')\n",
    "m1.pažymiai.append(10)\n",
    "m1.pažymiai.append(7)\n",
    "print(m1.pažymiai)\n",
    "print(m1.Vidurkis())\n",
    "\n",
    "class Abiturientas(Mokinys):\n",
    "    def __init__(self,vardas,pavardė=''):\n",
    "        super().__init__(vardas,pavardė)\n",
    "        self.egzaminai=[]\n",
    "    def Vidurkis(self):\n",
    "        n=0\n",
    "        sum=0\n",
    "        for x in self.pažymiai:\n",
    "            n+=1\n",
    "            sum+=x\n",
    "        for x in self.egzaminai:\n",
    "            n+=1\n",
    "            sum+=x\n",
    "        if not(n):\n",
    "            return False\n",
    "        return sum/n\n",
    "\n",
    "m2=Abiturientas('Darius')\n",
    "m2.pažymiai.append(2)\n",
    "m2.pažymiai.append(7)\n",
    "print(m2.pažymiai)\n",
    "print(m2.Vidurkis())\n",
    "\n",
    "class Mokykla():\n",
    "    def __init__(self):\n",
    "        self.Mokiniai=[]\n",
    "    def NaujasMokinys(self,mokinys):\n",
    "        self.Mokiniai.append(mokinys)\n",
    "\n",
    "šulė=Mokykla()\n",
    "šulė.NaujasMokinys(m1)\n",
    "šulė.NaujasMokinys(m2)\n"
   ]
  },
  {
   "cell_type": "code",
   "execution_count": null,
   "metadata": {},
   "outputs": [],
   "source": [
    "# Sukurkite klasę, skirtą geometrinių figūrų parametrų\n",
    "# skaičiavimui:\n",
    "# • Klasė Stačiakampis - sukūrimo metu automatiškai\n",
    "# suskaičiuoja plotą ir perimetrą\n",
    "# • P = 2(a + b), S = ab\n",
    "# • Klasė Kubas - sukūrimo metu turi suskaičiuoti paviršiaus\n",
    "# plotą ir tūrį\n",
    "# • V = abc\n",
    "# Realizuokite metodus, skirtus atnaujinti skaičiavimams, pasiekti\n",
    "# skaičiavimų rezultatus."
   ]
  },
  {
   "cell_type": "code",
   "execution_count": null,
   "metadata": {},
   "outputs": [],
   "source": [
    "# Sukurkite dvi klases:\n",
    "# • Klasę Stačiakampis - tėvinė (parent) klasė, sukūrimo metu\n",
    "# automatiškai suskaičiuoja plotą ir perimetrą. Galite naudoti\n",
    "# anksčiau kurtą klasę.\n",
    "# • Klasę Piramidė - išvestinė klasė (child class). Pridėkite\n",
    "# papildomą funkcionalumą - metodą, argumentus piramidės\n",
    "# tūrio skaičiavimui.\n",
    "# V = 1/3⋅Sp⋅h, čia Sp#- pagrindo plotas, h - piramidės aukštis."
   ]
  },
  {
   "cell_type": "code",
   "execution_count": null,
   "metadata": {},
   "outputs": [],
   "source": [
    "# Parašyti klasę TxtReader skirtą tekstinio failo iš dviejų\n",
    "# stulpelių nuskaitymui . Esant poreikiui, inicializacijos metu\n",
    "# galima nurodyti stulpelių skirtuką, ar konvertuoti pirmąjį\n",
    "# stulpelį į datą (datetime objektą), kiek eilučių praleisti nuo\n",
    "# failo pradžios. Jei failas turi daugiau nei du stulpelius - galima\n",
    "# nurodyti, kuris stulpelis konkrečiai yra x, o kuris y. Atributai x\n",
    "# ir y - privatūs."
   ]
  }
 ],
 "metadata": {
  "kernelspec": {
   "display_name": "Python 3",
   "language": "python",
   "name": "python3"
  },
  "language_info": {
   "codemirror_mode": {
    "name": "ipython",
    "version": 3
   },
   "file_extension": ".py",
   "mimetype": "text/x-python",
   "name": "python",
   "nbconvert_exporter": "python",
   "pygments_lexer": "ipython3",
   "version": "3.12.4"
  }
 },
 "nbformat": 4,
 "nbformat_minor": 2
}
