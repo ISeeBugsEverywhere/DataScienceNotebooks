{
 "cells": [
  {
   "cell_type": "code",
   "execution_count": 10,
   "metadata": {},
   "outputs": [],
   "source": [
    "# Pradėta 2024-11-21_ObjectProperties.ipynb\n",
    "# Tęsinys. Čia 2024-11-27_varle_lt.ipynb\n",
    "\n",
    "import pandas as pd\n",
    "import time\n",
    "import sqlite3\n",
    "\n",
    "from bs4 import BeautifulSoup\n",
    "\n",
    "# Selenium\n",
    "import selenium\n",
    "from selenium.webdriver.chrome.options import Options\n",
    "# from selenium.webdriver.firefox.options import Options as FirefoxOptions\n",
    "from selenium import webdriver\n",
    "\n",
    "from my_lib.properties_of_1 import properties_of"
   ]
  },
  {
   "cell_type": "code",
   "execution_count": null,
   "metadata": {},
   "outputs": [
    {
     "name": "stdout",
     "output_type": "stream",
     "text": [
      "Prskaityta https://www.varle.lt/dronai/?p=1\n"
     ]
    }
   ],
   "source": [
    "# WebDriver\n",
    "opcijos = Options()\n",
    "opcijos.add_argument('--incognito')\n",
    "opcijos.add_argument('--ignore-certificate-errors')\n",
    "opcijos.add_argument('--ignore-ssl-errors')\n",
    "driver = webdriver.Chrome(options=opcijos)\n",
    "url = 'https://www.varle.lt/dronai/?p=1'\n",
    "driver.get(url)\n",
    "time.sleep(3)\n",
    "source = driver.page_source\n",
    "driver.close()\n",
    "print(f'Prskaityta {url}')\n",
    "# 18.0s"
   ]
  },
  {
   "cell_type": "code",
   "execution_count": 11,
   "metadata": {},
   "outputs": [
    {
     "name": "stdout",
     "output_type": "stream",
     "text": [
      "38\n",
      "['https://www.varle.lt/dronai/dji-mini-4-pro-fly-more-combo-dji-rc-2-dronas--29184156.html', 'https://www.varle.lt/dronai/dronas-dji-mini-2-se--23792132.html', 'https://www.varle.lt/dronai/dronas-dji-mini-3-su-dji-rc-n1-valdymo-pultu--22802854.html', 'https://www.varle.lt/dronai/dronas-dji-mini-4k-fly-more-combo-su-dji-rc-n1c--38731147.html', 'https://www.varle.lt/dronai/avernus-dronas-s1s-4k-hd--37604985.html', 'https://www.varle.lt/dronai/avernus-dronas-l900-pro-gps--37604944.html', 'https://www.varle.lt/dronai/dronas-dji-mini-3-fly-more-combo-su-dji-rc-valdymo--21966035.html', 'https://www.varle.lt/dronai/dronas-dji-mavic-3-pro-cine-premium-combo-dji-rc--24575445.html', 'https://www.varle.lt/dronai/dronas-dji-mavic-3-pro-dji-rc--24505758.html', 'https://www.varle.lt/dronai/extra-digital-kroviklis-dji-mavic-mini-2-se--39704489.html', 'https://www.varle.lt/dronai/dji-avata-2-dronas--34746172.html', 'https://www.varle.lt/dronai/dji-neo-drone-fly-more-combo-dronas--38775265.html', 'https://www.varle.lt/dronai/dronas-dji-mavic-air-2s--15711420.html', 'https://www.varle.lt/dronai/dronas-dji-mavic-3-classic-su-dji-rc-n1-valdymo-pultu--21236869.html', 'https://www.varle.lt/dronai/avernus-dronas-e63-pro-4k--37604932.html', 'https://www.varle.lt/dronai/dji-neo-motion-fly-more-combo-dronas--40643087.html', 'https://www.varle.lt/dronai/dronas-hoverair-x1-baltas--37361578.html', 'https://www.varle.lt/dronai/dji-mavic-3-multispectral--24380630.html', 'https://www.varle.lt/dronai/dronas-dji-mavic-3-pro-fly-more-combo-dji-rc-pro--24554666.html', 'https://www.varle.lt/dronai/drono-rinkinys-extralink-dron-e88-pro-3-baterijos--38259682.html', 'https://www.varle.lt/dronai/dronas-allnoel-e95-pro--32423660.html', 'https://www.varle.lt/dronai/dji-neo--38664654.html', 'https://www.varle.lt/dronai/extralink-dronas-e99-pro-su-3-baterijomis-ir-deklu--39673705.html', 'https://www.varle.lt/dronai/dronas-dji-mini-2-se-fly-more-combo--23881156.html', 'https://www.varle.lt/dronai/dji-mini-4-pro-dji-rc-n2-dronas--29184151.html', 'https://www.varle.lt/dronai/rankomis-valdomas-skraidantis-dronas-baltas--39830592.html', 'https://www.varle.lt/dronai/k911-max-gps-dronas-8k-sumine-filmavimo-kamera-profesionalus--35571291.html', 'https://www.varle.lt/dronai/dronas-dji-mini-4k-su-rc-n1c-valdymo-pultu--38764607.html', 'https://www.varle.lt/dronai/dji-mini-3-pro-dronas-su-dji-rc-pultu--18933701.html', 'https://www.varle.lt/dronai/dronas-dji-mavic-3-pro-fly-more-combo-dji-rc--24537862.html', 'https://www.varle.lt/dronai/profesionalus-sulankstomas-dronas-su-6k-dviguba-hd--37236572.html', 'https://www.varle.lt/dronai/dronas-dji-air-3s-fly-more-combo-su-dji-rc-2-valdymo--39591440.html', 'https://www.varle.lt/dronai/dron-allnet-mini-dron-174879-all-gd65ablue--28640078.html', 'https://www.varle.lt/dronai/dji-air-3-fly-more-combo-dronas-su-rc-n2-valdymo-pultu--26593170.html', 'https://www.varle.lt/dronai/parrot-anafi-usa-gov-dronas--31775527.html', 'https://www.varle.lt/dronai/dronas-dji-fpv-cpfp0000000901-atnaujinta--32235749.html', 'https://www.varle.lt/dronai/dji-mini-4-pro-dji-rc-2--29184945.html', 'https://www.varle.lt/dronai/dji-avata-2-fly-more-combo-trys-baterijos-dronai--34230085.html']\n",
      "3\n"
     ]
    }
   ],
   "source": [
    "bs = BeautifulSoup(source, 'html.parser')\n",
    "p_nuorodos = []\n",
    "\n",
    "linkai = bs.find_all('div',{'class':'GRID_ITEM'})\n",
    "for linkas in linkai:\n",
    "    # linkas = bs.find('div', {'class':'product-title'}).find('div', {'class':'product-title'}).find('a')\n",
    "    link = linkas.find('div', {'class':'product-title'}).find('a')\n",
    "    # print(link['href'])\n",
    "    add_link = 'https://www.varle.lt'+ link['href']\n",
    "    # print(add_link)\n",
    "    p_nuorodos.append(add_link)\n",
    "print(len(p_nuorodos))\n",
    "print(p_nuorodos)\n",
    "\n",
    "pages = []\n",
    "pages_numbers = bs.find('div', {'class':'PAGINATION'}).find_all('li', {'class':'number'})\n",
    "for page in pages_numbers:\n",
    "    # print(page.text.strip())\n",
    "    pages.append(int(page.text.strip()))\n",
    "pages_max_number = max(pages)\n",
    "print(pages_max_number)\n",
    "# 0.6s"
   ]
  }
 ],
 "metadata": {
  "kernelspec": {
   "display_name": "Python 3",
   "language": "python",
   "name": "python3"
  },
  "language_info": {
   "codemirror_mode": {
    "name": "ipython",
    "version": 3
   },
   "file_extension": ".py",
   "mimetype": "text/x-python",
   "name": "python",
   "nbconvert_exporter": "python",
   "pygments_lexer": "ipython3",
   "version": "3.12.3"
  }
 },
 "nbformat": 4,
 "nbformat_minor": 2
}
