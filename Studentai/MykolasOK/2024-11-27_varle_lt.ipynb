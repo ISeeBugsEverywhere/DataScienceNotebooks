{
 "cells": [
  {
   "cell_type": "code",
   "execution_count": 10,
   "metadata": {},
   "outputs": [],
   "source": [
    "# Pradėta 2024-11-21_ObjectProperties.ipynb\n",
    "# Tęsinys. Čia 2024-11-27_varle_lt.ipynb\n",
    "\n",
    "import pandas as pd\n",
    "import time\n",
    "import sqlite3\n",
    "\n",
    "from bs4 import BeautifulSoup\n",
    "\n",
    "# Selenium\n",
    "import selenium\n",
    "from selenium.webdriver.chrome.options import Options\n",
    "# from selenium.webdriver.firefox.options import Options as FirefoxOptions\n",
    "from selenium import webdriver\n",
    "\n",
    "from my_lib.properties_of_1 import properties_of"
   ]
  },
  {
   "cell_type": "code",
   "execution_count": null,
   "metadata": {},
   "outputs": [
    {
     "name": "stdout",
     "output_type": "stream",
     "text": [
      "Prskaityta https://www.varle.lt/dronai/?p=1\n"
     ]
    }
   ],
   "source": [
    "# WebDriver\n",
    "opcijos = Options()\n",
    "opcijos.add_argument('--incognito')\n",
    "opcijos.add_argument('--ignore-certificate-errors')\n",
    "opcijos.add_argument('--ignore-ssl-errors')\n",
    "driver = webdriver.Chrome(options=opcijos)\n",
    "url = 'https://www.varle.lt/dronai/?p=1'\n",
    "driver.get(url)\n",
    "time.sleep(3)\n",
    "source = driver.page_source\n",
    "driver.close()\n",
    "print(f'Prskaityta {url}')\n",
    "# 18.0s"
   ]
  },
  {
   "cell_type": "code",
   "execution_count": 48,
   "metadata": {},
   "outputs": [
    {
     "name": "stdout",
     "output_type": "stream",
     "text": [
      "Total pages: 3\n"
     ]
    }
   ],
   "source": [
    "pages_numbers = bs.find('div',{'class':'PAGINATION'}).find_all('li',{'class':'number'})\n",
    "total_pages = pages_numbers[-1].text.strip()\n",
    "print(f'Total pages: {total_pages}')"
   ]
  },
  {
   "cell_type": "code",
   "execution_count": null,
   "metadata": {},
   "outputs": [
    {
     "name": "stdout",
     "output_type": "stream",
     "text": [
      "         id     price                                                url\n",
      "0  29184156  1029.99€  https://www.varle.lt/dronai/dji-mini-4-pro-fly...\n",
      "1  23792132   275.99€  https://www.varle.lt/dronai/dronas-dji-mini-2-...\n",
      "2  22802854   385.71€  https://www.varle.lt/dronai/dronas-dji-mini-3-... \n",
      " 38\n"
     ]
    }
   ],
   "source": [
    "bs = BeautifulSoup(source,'html.parser')\n",
    "items_df = pd.DataFrame(columns=('id','price','url'))\n",
    "\n",
    "items_blocks = bs.find_all('div',{'class':'GRID_ITEM'})\n",
    "for item_block in items_blocks:\n",
    "    item_href = item_block.find('div',{'class':'product-title'}).find('a')['href']\n",
    "    item_url = 'https://www.varle.lt'+ item_href\n",
    "    item_id = item_href.split('-')[-1].split('.')[0]\n",
    "\n",
    "    price_container = item_block.find('div',{'class':'price-container'})\n",
    "    price_value = price_container.find('span',{'class':'price-value'}).getText()\n",
    "    item_price = ''.join(price_value.split())\n",
    "\n",
    "    items_df.loc[len(items_df)] = {'id':item_id,'price':item_price,'url':item_url}\n",
    "\n",
    "print(items_df.head(3),'\\n',len(items_df))"
   ]
  }
 ],
 "metadata": {
  "kernelspec": {
   "display_name": "Python 3",
   "language": "python",
   "name": "python3"
  },
  "language_info": {
   "codemirror_mode": {
    "name": "ipython",
    "version": 3
   },
   "file_extension": ".py",
   "mimetype": "text/x-python",
   "name": "python",
   "nbconvert_exporter": "python",
   "pygments_lexer": "ipython3",
   "version": "3.12.3"
  }
 },
 "nbformat": 4,
 "nbformat_minor": 2
}
