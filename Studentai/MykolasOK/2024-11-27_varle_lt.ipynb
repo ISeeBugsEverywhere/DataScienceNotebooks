{
 "cells": [
  {
   "cell_type": "code",
   "execution_count": 1,
   "metadata": {},
   "outputs": [
    {
     "name": "stdout",
     "output_type": "stream",
     "text": [
      "Bibliotekos importuotos.\n"
     ]
    }
   ],
   "source": [
    "# Pradėta 2024-11-21_ObjectProperties.ipynb\n",
    "# Tęsinys. Čia 2024-11-27_varle_lt.ipynb\n",
    "\n",
    "import pandas as pd\n",
    "import time\n",
    "import sqlite3\n",
    "\n",
    "from bs4 import BeautifulSoup\n",
    "\n",
    "# Selenium\n",
    "import selenium\n",
    "from selenium.webdriver.chrome.options import Options\n",
    "# from selenium.webdriver.firefox.options import Options as FirefoxOptions\n",
    "from selenium import webdriver\n",
    "\n",
    "from my_lib.properties_of import properties_of\n",
    "from my_lib.my_db_functions import save_df_to_sqlite\n",
    "\n",
    "print('Bibliotekos importuotos.')"
   ]
  },
  {
   "cell_type": "code",
   "execution_count": null,
   "metadata": {},
   "outputs": [
    {
     "name": "stdout",
     "output_type": "stream",
     "text": [
      "WebDriver started. Prskaityta https://www.varle.lt/saldytuvai/.\n"
     ]
    }
   ],
   "source": [
    "print('WebDriver started.',end=' ')\n",
    "item_type = 'saldytuvai' # 'dronai', 'televizoriai'\n",
    "\n",
    "opcijos = Options()\n",
    "opcijos.add_argument('--incognito')\n",
    "opcijos.add_argument('--ignore-certificate-errors')\n",
    "opcijos.add_argument('--ignore-ssl-errors')\n",
    "driver = webdriver.Chrome(options=opcijos)\n",
    "url = f'https://www.varle.lt/{item_type}/'\n",
    "driver.get(url)\n",
    "time.sleep(3)\n",
    "source = driver.page_source\n",
    "\n",
    "print(f'Prskaityta {url}.')"
   ]
  },
  {
   "cell_type": "code",
   "execution_count": 14,
   "metadata": {},
   "outputs": [
    {
     "name": "stdout",
     "output_type": "stream",
     "text": [
      "Total pages: 33\n"
     ]
    }
   ],
   "source": [
    "bs = BeautifulSoup(source,'html.parser')\n",
    "\n",
    "pages_numbers = bs.find('div',{'class':'PAGINATION'}).find_all('li',{'class':'number'})\n",
    "total_pages = int(pages_numbers[-1].text.strip())\n",
    "\n",
    "print(f'Total pages: {total_pages}')\n",
    "\n",
    "items_df = pd.DataFrame(columns=('id','price','url','price_in_cents')) # šios programos rezultatas"
   ]
  },
  {
   "cell_type": "code",
   "execution_count": null,
   "metadata": {},
   "outputs": [
    {
     "name": "stdout",
     "output_type": "stream",
     "text": [
      "38\n"
     ]
    }
   ],
   "source": [
    "# Parsinamas pirmasis prekių sąrašo puslapis.\n",
    "\n",
    "items_blocks = bs.find_all('div',{'class':'GRID_ITEM'})\n",
    "for item_block in items_blocks:\n",
    "\n",
    "    item_href = item_block.find('div',{'class':'product-title'}).find('a')['href']\n",
    "    item_url = 'https://www.varle.lt'+ item_href\n",
    "    item_id = item_href.split('-')[-1].split('.')[0]\n",
    "\n",
    "    price_container = item_block.find('div',{'class':'price-container'})\n",
    "    price_value = price_container.find('span',{'class':'price-value'}).getText()\n",
    "    item_price = ''.join(price_value.split())\n",
    "\n",
    "    items_df.loc[len(items_df)] = {'id':int(item_id),'price':item_price,'url':item_url}\n",
    "\n",
    "print(len(items_df))"
   ]
  },
  {
   "cell_type": "code",
   "execution_count": null,
   "metadata": {},
   "outputs": [
    {
     "name": "stdout",
     "output_type": "stream",
     "text": [
      "Prskaityta https://www.varle.lt/saldytuvai/?p=2\n",
      "Get 76 items. Unique 76 items.\n",
      "Prskaityta https://www.varle.lt/saldytuvai/?p=3\n",
      "Get 114 items. Unique 114 items.\n",
      "Prskaityta https://www.varle.lt/saldytuvai/?p=4\n",
      "Get 152 items. Unique 152 items.\n",
      "Prskaityta https://www.varle.lt/saldytuvai/?p=5\n",
      "Get 190 items. Unique 190 items.\n",
      "Prskaityta https://www.varle.lt/saldytuvai/?p=6\n",
      "Get 228 items. Unique 228 items.\n",
      "Prskaityta https://www.varle.lt/saldytuvai/?p=7\n",
      "Get 266 items. Unique 266 items.\n",
      "Prskaityta https://www.varle.lt/saldytuvai/?p=8\n",
      "Get 304 items. Unique 304 items.\n",
      "Prskaityta https://www.varle.lt/saldytuvai/?p=9\n",
      "Get 342 items. Unique 342 items.\n",
      "Prskaityta https://www.varle.lt/saldytuvai/?p=10\n",
      "Get 380 items. Unique 380 items.\n",
      "Prskaityta https://www.varle.lt/saldytuvai/?p=11\n",
      "Get 418 items. Unique 418 items.\n",
      "Prskaityta https://www.varle.lt/saldytuvai/?p=12\n",
      "Get 456 items. Unique 456 items.\n",
      "Prskaityta https://www.varle.lt/saldytuvai/?p=13\n",
      "Get 494 items. Unique 494 items.\n",
      "Prskaityta https://www.varle.lt/saldytuvai/?p=14\n",
      "Get 532 items. Unique 532 items.\n",
      "Prskaityta https://www.varle.lt/saldytuvai/?p=15\n",
      "Get 570 items. Unique 570 items.\n",
      "Prskaityta https://www.varle.lt/saldytuvai/?p=16\n",
      "Get 608 items. Unique 608 items.\n",
      "Prskaityta https://www.varle.lt/saldytuvai/?p=17\n",
      "Get 646 items. Unique 646 items.\n",
      "Prskaityta https://www.varle.lt/saldytuvai/?p=18\n",
      "Get 684 items. Unique 684 items.\n",
      "Prskaityta https://www.varle.lt/saldytuvai/?p=19\n",
      "Get 722 items. Unique 722 items.\n",
      "Prskaityta https://www.varle.lt/saldytuvai/?p=20\n",
      "Get 760 items. Unique 760 items.\n",
      "Prskaityta https://www.varle.lt/saldytuvai/?p=21\n",
      "Get 798 items. Unique 798 items.\n",
      "Prskaityta https://www.varle.lt/saldytuvai/?p=22\n",
      "Get 836 items. Unique 836 items.\n",
      "Prskaityta https://www.varle.lt/saldytuvai/?p=23\n",
      "Get 874 items. Unique 874 items.\n",
      "Prskaityta https://www.varle.lt/saldytuvai/?p=24\n",
      "Get 912 items. Unique 912 items.\n",
      "Prskaityta https://www.varle.lt/saldytuvai/?p=25\n",
      "Get 950 items. Unique 950 items.\n",
      "Prskaityta https://www.varle.lt/saldytuvai/?p=26\n",
      "Get 988 items. Unique 988 items.\n",
      "Prskaityta https://www.varle.lt/saldytuvai/?p=27\n",
      "Get 1026 items. Unique 1026 items.\n",
      "Prskaityta https://www.varle.lt/saldytuvai/?p=28\n",
      "Get 1064 items. Unique 1064 items.\n",
      "Prskaityta https://www.varle.lt/saldytuvai/?p=29\n",
      "Get 1102 items. Unique 1102 items.\n",
      "Prskaityta https://www.varle.lt/saldytuvai/?p=30\n",
      "Get 1140 items. Unique 1140 items.\n",
      "Prskaityta https://www.varle.lt/saldytuvai/?p=31\n",
      "Get 1178 items. Unique 1178 items.\n",
      "Prskaityta https://www.varle.lt/saldytuvai/?p=32\n",
      "Get 1216 items. Unique 1216 items.\n",
      "Prskaityta https://www.varle.lt/saldytuvai/?p=33\n",
      "Get 1248 items. Unique 1248 items.\n"
     ]
    }
   ],
   "source": [
    "# Perskaitomi kiti prekių sąrašo puslapiai\n",
    "\n",
    "for page_number in range(2,total_pages+1):\n",
    "\n",
    "    url = f'https://www.varle.lt/{item_type}/?p={page_number}'\n",
    "    driver.get(url)\n",
    "    time.sleep(3)\n",
    "    source = driver.page_source\n",
    "    print(f'Prskaityta {url}')\n",
    "\n",
    "    bs = BeautifulSoup(source,'html.parser')\n",
    "\n",
    "    items_blocks = bs.find_all('div',{'class':'GRID_ITEM'})\n",
    "    for item_block in items_blocks:\n",
    "        item_href = item_block.find('div',{'class':'product-title'}).find('a')['href']\n",
    "        item_url = 'https://www.varle.lt'+item_href\n",
    "        item_id = item_href.split('-')[-1].split('.')[0]\n",
    "\n",
    "        price_container = item_block.find('div',{'class':'price-container'})\n",
    "        price_value = price_container.find('span',{'class':'price-value'}).getText()\n",
    "        item_price = ''.join(price_value.split())\n",
    "\n",
    "        items_df.loc[len(items_df)] = {'id':int(item_id),'price':item_price,'url':item_url}\n",
    "\n",
    "    items_total = len(items_df)\n",
    "    items_df.drop_duplicates(subset='id',keep='first',inplace=True)\n",
    "    print(f'Get {items_total} items. Unique {len(items_df)} items.')\n",
    "\n",
    "# WebDriver stop!\n",
    "driver.close()\n"
   ]
  },
  {
   "cell_type": "code",
   "execution_count": 7,
   "metadata": {},
   "outputs": [
    {
     "name": "stdout",
     "output_type": "stream",
     "text": [
      "119 119\n"
     ]
    }
   ],
   "source": [
    "# Patikrinimas: skaičiai skiriasi jei yra dublikatai.\n",
    "grupuotas_df=items_df.groupby('id')\n",
    "print(len(grupuotas_df),len(items_df))"
   ]
  },
  {
   "cell_type": "code",
   "execution_count": 17,
   "metadata": {},
   "outputs": [],
   "source": [
    "import re\n",
    "\n",
    "def price_in_cents(price:str) -> int:\n",
    "    # Pašalina visus simbolius, išskyrus skaičius, kablelį ir tašką:\n",
    "    cleaned = re.sub(r'[^\\d.,]', '', price).replace(',', '.').replace(' ', '')\n",
    "    return int(float(cleaned)*100)\n",
    "\n",
    "items_df['price_in_cents'] = items_df['price'].apply(price_in_cents)\n"
   ]
  },
  {
   "cell_type": "code",
   "execution_count": 18,
   "metadata": {},
   "outputs": [
    {
     "data": {
      "text/html": [
       "<div>\n",
       "<style scoped>\n",
       "    .dataframe tbody tr th:only-of-type {\n",
       "        vertical-align: middle;\n",
       "    }\n",
       "\n",
       "    .dataframe tbody tr th {\n",
       "        vertical-align: top;\n",
       "    }\n",
       "\n",
       "    .dataframe thead th {\n",
       "        text-align: right;\n",
       "    }\n",
       "</style>\n",
       "<table border=\"1\" class=\"dataframe\">\n",
       "  <thead>\n",
       "    <tr style=\"text-align: right;\">\n",
       "      <th></th>\n",
       "      <th>id</th>\n",
       "      <th>price</th>\n",
       "      <th>url</th>\n",
       "      <th>price_in_cents</th>\n",
       "    </tr>\n",
       "  </thead>\n",
       "  <tbody>\n",
       "    <tr>\n",
       "      <th>0</th>\n",
       "      <td>36822303</td>\n",
       "      <td>219€</td>\n",
       "      <td>https://www.varle.lt/saldytuvai/saldytuvas-sha...</td>\n",
       "      <td>21900</td>\n",
       "    </tr>\n",
       "    <tr>\n",
       "      <th>1</th>\n",
       "      <td>37859978</td>\n",
       "      <td>170€</td>\n",
       "      <td>https://www.varle.lt/saldytuvai/saldytuvas-his...</td>\n",
       "      <td>17000</td>\n",
       "    </tr>\n",
       "    <tr>\n",
       "      <th>2</th>\n",
       "      <td>28786311</td>\n",
       "      <td>777€</td>\n",
       "      <td>https://www.varle.lt/saldytuvai/imontuojamasis...</td>\n",
       "      <td>77700</td>\n",
       "    </tr>\n",
       "    <tr>\n",
       "      <th>3</th>\n",
       "      <td>15912426</td>\n",
       "      <td>450€</td>\n",
       "      <td>https://www.varle.lt/saldytuvai/saldytuvas-bos...</td>\n",
       "      <td>45000</td>\n",
       "    </tr>\n",
       "    <tr>\n",
       "      <th>4</th>\n",
       "      <td>31802747</td>\n",
       "      <td>450€</td>\n",
       "      <td>https://www.varle.lt/saldytuvai/saldytuvas-hai...</td>\n",
       "      <td>45000</td>\n",
       "    </tr>\n",
       "    <tr>\n",
       "      <th>...</th>\n",
       "      <td>...</td>\n",
       "      <td>...</td>\n",
       "      <td>...</td>\n",
       "      <td>...</td>\n",
       "    </tr>\n",
       "    <tr>\n",
       "      <th>1243</th>\n",
       "      <td>39312671</td>\n",
       "      <td>809.99€</td>\n",
       "      <td>https://www.varle.lt/saldytuvai/saldytuvas-sam...</td>\n",
       "      <td>80999</td>\n",
       "    </tr>\n",
       "    <tr>\n",
       "      <th>1244</th>\n",
       "      <td>34279221</td>\n",
       "      <td>809.99€</td>\n",
       "      <td>https://www.varle.lt/saldytuvai/saldytuvas-sam...</td>\n",
       "      <td>80999</td>\n",
       "    </tr>\n",
       "    <tr>\n",
       "      <th>1245</th>\n",
       "      <td>40216925</td>\n",
       "      <td>950.03€</td>\n",
       "      <td>https://www.varle.lt/saldytuvai/siemens-siemen...</td>\n",
       "      <td>95003</td>\n",
       "    </tr>\n",
       "    <tr>\n",
       "      <th>1246</th>\n",
       "      <td>39349057</td>\n",
       "      <td>235.99€</td>\n",
       "      <td>https://www.varle.lt/saldytuvai/saldytuvas-sha...</td>\n",
       "      <td>23599</td>\n",
       "    </tr>\n",
       "    <tr>\n",
       "      <th>1247</th>\n",
       "      <td>40295481</td>\n",
       "      <td>959.99€</td>\n",
       "      <td>https://www.varle.lt/saldytuvai/saldytuvas-bos...</td>\n",
       "      <td>95999</td>\n",
       "    </tr>\n",
       "  </tbody>\n",
       "</table>\n",
       "<p>1248 rows × 4 columns</p>\n",
       "</div>"
      ],
      "text/plain": [
       "            id    price                                                url  \\\n",
       "0     36822303     219€  https://www.varle.lt/saldytuvai/saldytuvas-sha...   \n",
       "1     37859978     170€  https://www.varle.lt/saldytuvai/saldytuvas-his...   \n",
       "2     28786311     777€  https://www.varle.lt/saldytuvai/imontuojamasis...   \n",
       "3     15912426     450€  https://www.varle.lt/saldytuvai/saldytuvas-bos...   \n",
       "4     31802747     450€  https://www.varle.lt/saldytuvai/saldytuvas-hai...   \n",
       "...        ...      ...                                                ...   \n",
       "1243  39312671  809.99€  https://www.varle.lt/saldytuvai/saldytuvas-sam...   \n",
       "1244  34279221  809.99€  https://www.varle.lt/saldytuvai/saldytuvas-sam...   \n",
       "1245  40216925  950.03€  https://www.varle.lt/saldytuvai/siemens-siemen...   \n",
       "1246  39349057  235.99€  https://www.varle.lt/saldytuvai/saldytuvas-sha...   \n",
       "1247  40295481  959.99€  https://www.varle.lt/saldytuvai/saldytuvas-bos...   \n",
       "\n",
       "      price_in_cents  \n",
       "0              21900  \n",
       "1              17000  \n",
       "2              77700  \n",
       "3              45000  \n",
       "4              45000  \n",
       "...              ...  \n",
       "1243           80999  \n",
       "1244           80999  \n",
       "1245           95003  \n",
       "1246           23599  \n",
       "1247           95999  \n",
       "\n",
       "[1248 rows x 4 columns]"
      ]
     },
     "execution_count": 18,
     "metadata": {},
     "output_type": "execute_result"
    }
   ],
   "source": [
    "items_df"
   ]
  },
  {
   "cell_type": "code",
   "execution_count": 19,
   "metadata": {},
   "outputs": [
    {
     "name": "stdout",
     "output_type": "stream",
     "text": [
      "Lentelė 'saldytuvai' sėkmingai įrašyta į DB.\n"
     ]
    }
   ],
   "source": [
    "# Save to SQLite3\n",
    "save_df_to_sqlite(items_df,\"./my_scrap_working_data.db\",table_name=item_type)"
   ]
  }
 ],
 "metadata": {
  "kernelspec": {
   "display_name": "Python 3",
   "language": "python",
   "name": "python3"
  },
  "language_info": {
   "codemirror_mode": {
    "name": "ipython",
    "version": 3
   },
   "file_extension": ".py",
   "mimetype": "text/x-python",
   "name": "python",
   "nbconvert_exporter": "python",
   "pygments_lexer": "ipython3",
   "version": "3.12.3"
  }
 },
 "nbformat": 4,
 "nbformat_minor": 2
}
