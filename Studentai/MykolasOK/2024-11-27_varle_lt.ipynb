{
 "cells": [
  {
   "cell_type": "code",
   "execution_count": 1,
   "metadata": {},
   "outputs": [
    {
     "name": "stdout",
     "output_type": "stream",
     "text": [
      "Bibliotekos importuotos.\n"
     ]
    }
   ],
   "source": [
    "# Pradėta 2024-11-21_ObjectProperties.ipynb\n",
    "# Tęsinys. Čia 2024-11-27_varle_lt.ipynb\n",
    "\n",
    "import pandas as pd\n",
    "import time\n",
    "import sqlite3\n",
    "\n",
    "from bs4 import BeautifulSoup\n",
    "\n",
    "# Selenium\n",
    "import selenium\n",
    "from selenium.webdriver.chrome.options import Options\n",
    "# from selenium.webdriver.firefox.options import Options as FirefoxOptions\n",
    "from selenium import webdriver\n",
    "\n",
    "from my_lib.properties_of import properties_of\n",
    "from my_lib.my_db_functions import save_df_to_sqlite\n",
    "\n",
    "print('Bibliotekos importuotos.')"
   ]
  },
  {
   "cell_type": "code",
   "execution_count": 2,
   "metadata": {},
   "outputs": [
    {
     "name": "stdout",
     "output_type": "stream",
     "text": [
      "WebDriver started. Prskaityta https://www.varle.lt/dronai/. WebDriver closed.\n"
     ]
    }
   ],
   "source": [
    "print('WebDriver started.',end=' ')\n",
    "\n",
    "opcijos = Options()\n",
    "opcijos.add_argument('--incognito')\n",
    "opcijos.add_argument('--ignore-certificate-errors')\n",
    "opcijos.add_argument('--ignore-ssl-errors')\n",
    "driver = webdriver.Chrome(options=opcijos)\n",
    "url = 'https://www.varle.lt/dronai/'\n",
    "driver.get(url)\n",
    "time.sleep(3)\n",
    "source = driver.page_source\n",
    "# WebDriver stop!\n",
    "driver.close()\n",
    "\n",
    "print(f'Prskaityta {url}. WebDriver closed.')\n",
    "# 14.9s"
   ]
  },
  {
   "cell_type": "code",
   "execution_count": 3,
   "metadata": {},
   "outputs": [
    {
     "name": "stdout",
     "output_type": "stream",
     "text": [
      "Total pages: 4\n"
     ]
    }
   ],
   "source": [
    "bs = BeautifulSoup(source,'html.parser')\n",
    "\n",
    "pages_numbers = bs.find('div',{'class':'PAGINATION'}).find_all('li',{'class':'number'})\n",
    "total_pages = int(pages_numbers[-1].text.strip())\n",
    "\n",
    "print(f'Total pages: {total_pages}')\n",
    "\n",
    "items_df = pd.DataFrame(columns=('id','price','url')) # šios programos rezultatas"
   ]
  },
  {
   "cell_type": "code",
   "execution_count": 4,
   "metadata": {},
   "outputs": [
    {
     "name": "stdout",
     "output_type": "stream",
     "text": [
      "38\n"
     ]
    }
   ],
   "source": [
    "items_blocks = bs.find_all('div',{'class':'GRID_ITEM'})\n",
    "for item_block in items_blocks:\n",
    "\n",
    "    item_href = item_block.find('div',{'class':'product-title'}).find('a')['href']\n",
    "    item_url = 'https://www.varle.lt'+ item_href\n",
    "    item_id = item_href.split('-')[-1].split('.')[0]\n",
    "\n",
    "    price_container = item_block.find('div',{'class':'price-container'})\n",
    "    price_value = price_container.find('span',{'class':'price-value'}).getText()\n",
    "    item_price = ''.join(price_value.split())\n",
    "\n",
    "    items_df.loc[len(items_df)] = {'id':item_id,'price':item_price,'url':item_url}\n",
    "\n",
    "print(len(items_df))"
   ]
  },
  {
   "cell_type": "code",
   "execution_count": 5,
   "metadata": {},
   "outputs": [
    {
     "name": "stdout",
     "output_type": "stream",
     "text": [
      "Prskaityta https://www.varle.lt/dronai/?p=2\n",
      "Get 76 items. Unique 76 items.\n",
      "Prskaityta https://www.varle.lt/dronai/?p=3\n",
      "Get 114 items. Unique 114 items.\n",
      "Prskaityta https://www.varle.lt/dronai/?p=4\n",
      "Get 117 items. Unique 117 items.\n"
     ]
    }
   ],
   "source": [
    "\n",
    "# WebDriver start!\n",
    "opcijos = Options()\n",
    "opcijos.add_argument('--incognito')\n",
    "opcijos.add_argument('--ignore-certificate-errors')\n",
    "opcijos.add_argument('--ignore-ssl-errors')\n",
    "driver = webdriver.Chrome(options=opcijos)\n",
    "\n",
    "for page_number in range(2,total_pages+1):\n",
    "\n",
    "    url = f'https://www.varle.lt/dronai/?p={page_number}'\n",
    "    driver.get(url)\n",
    "    time.sleep(3)\n",
    "    source = driver.page_source\n",
    "    print(f'Prskaityta {url}')\n",
    "\n",
    "    bs = BeautifulSoup(source,'html.parser')\n",
    "\n",
    "    items_blocks = bs.find_all('div',{'class':'GRID_ITEM'})\n",
    "    for item_block in items_blocks:\n",
    "        item_href = item_block.find('div',{'class':'product-title'}).find('a')['href']\n",
    "        item_url = 'https://www.varle.lt'+item_href\n",
    "        item_id = item_href.split('-')[-1].split('.')[0]\n",
    "\n",
    "        price_container = item_block.find('div',{'class':'price-container'})\n",
    "        price_value = price_container.find('span',{'class':'price-value'}).getText()\n",
    "        item_price = ''.join(price_value.split())\n",
    "\n",
    "        items_df.loc[len(items_df)] = {'id':item_id,'price':item_price,'url':item_url}\n",
    "\n",
    "    items_total = len(items_df)\n",
    "    items_df.drop_duplicates(subset='id',keep='first',inplace=True)\n",
    "    print(f'Get {items_total} items. Unique {len(items_df)} items.')\n",
    "\n",
    "# WebDriver stop!\n",
    "driver.close()\n"
   ]
  },
  {
   "cell_type": "code",
   "execution_count": 6,
   "metadata": {},
   "outputs": [
    {
     "name": "stdout",
     "output_type": "stream",
     "text": [
      "117 117\n"
     ]
    }
   ],
   "source": [
    "# Abu skaičiai sutampa, jei dublikatai pašalinti.\n",
    "grupuotas_df=items_df.groupby('id')\n",
    "print(len(grupuotas_df),len(items_df))"
   ]
  },
  {
   "cell_type": "code",
   "execution_count": null,
   "metadata": {},
   "outputs": [
    {
     "name": "stdout",
     "output_type": "stream",
     "text": [
      "Lentelė 'items_df' sėkmingai įrašyta į DB.\n"
     ]
    }
   ],
   "source": [
    "# Save to SQLite3\n",
    "save_df_to_sqlite(items_df,\"./my_scrap_working_data.db\")"
   ]
  }
 ],
 "metadata": {
  "kernelspec": {
   "display_name": "Python 3",
   "language": "python",
   "name": "python3"
  },
  "language_info": {
   "codemirror_mode": {
    "name": "ipython",
    "version": 3
   },
   "file_extension": ".py",
   "mimetype": "text/x-python",
   "name": "python",
   "nbconvert_exporter": "python",
   "pygments_lexer": "ipython3",
   "version": "3.12.3"
  }
 },
 "nbformat": 4,
 "nbformat_minor": 2
}
