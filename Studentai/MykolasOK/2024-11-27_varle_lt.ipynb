{
 "cells": [
  {
   "cell_type": "code",
   "execution_count": 10,
   "metadata": {},
   "outputs": [],
   "source": [
    "# Pradėta 2024-11-21_ObjectProperties.ipynb\n",
    "# Tęsinys. Čia 2024-11-27_varle_lt.ipynb\n",
    "\n",
    "import pandas as pd\n",
    "import time\n",
    "import sqlite3\n",
    "\n",
    "from bs4 import BeautifulSoup\n",
    "\n",
    "# Selenium\n",
    "import selenium\n",
    "from selenium.webdriver.chrome.options import Options\n",
    "# from selenium.webdriver.firefox.options import Options as FirefoxOptions\n",
    "from selenium import webdriver\n",
    "\n",
    "from my_lib.properties_of_1 import properties_of"
   ]
  },
  {
   "cell_type": "code",
   "execution_count": null,
   "metadata": {},
   "outputs": [
    {
     "name": "stdout",
     "output_type": "stream",
     "text": [
      "Prskaityta https://www.varle.lt/dronai/?p=1\n"
     ]
    }
   ],
   "source": [
    "# WebDriver\n",
    "opcijos = Options()\n",
    "opcijos.add_argument('--incognito')\n",
    "opcijos.add_argument('--ignore-certificate-errors')\n",
    "opcijos.add_argument('--ignore-ssl-errors')\n",
    "driver = webdriver.Chrome(options=opcijos)\n",
    "url = 'https://www.varle.lt/dronai/?p=1'\n",
    "driver.get(url)\n",
    "time.sleep(3)\n",
    "source = driver.page_source\n",
    "driver.close()\n",
    "print(f'Prskaityta {url}')\n",
    "# 18.0s"
   ]
  },
  {
   "cell_type": "code",
   "execution_count": 36,
   "metadata": {},
   "outputs": [
    {
     "name": "stdout",
     "output_type": "stream",
     "text": [
      "         id                                                url\n",
      "0  29184156  https://www.varle.lt/dronai/dji-mini-4-pro-fly...\n",
      "1  23792132  https://www.varle.lt/dronai/dronas-dji-mini-2-...\n",
      "2  22802854  https://www.varle.lt/dronai/dronas-dji-mini-3-...\n",
      "3  38731147  https://www.varle.lt/dronai/dronas-dji-mini-4k...\n",
      "4  37604985  https://www.varle.lt/dronai/avernus-dronas-s1s...\n"
     ]
    }
   ],
   "source": [
    "bs = BeautifulSoup(source,'html.parser')\n",
    "items_df = pd.DataFrame(columns=('id','url'))\n",
    "\n",
    "items_blocks = bs.find_all('div',{'class':'GRID_ITEM'})\n",
    "for item_block in items_blocks:\n",
    "    item_href = item_block.find('div', {'class':'product-title'}).find('a')['href']\n",
    "    item_url = 'https://www.varle.lt'+ item_href\n",
    "    item_id = item_href.split('-')[-1].split('.')[0]\n",
    "    items_df.loc[len(items_df)] = {'id':item_id,'url':item_url}\n",
    "\n",
    "print(items_df.head(5))"
   ]
  },
  {
   "cell_type": "code",
   "execution_count": null,
   "metadata": {},
   "outputs": [],
   "source": [
    "\n",
    "pages = []\n",
    "pages_numbers = bs.find('div', {'class':'PAGINATION'}).find_all('li', {'class':'number'})\n",
    "for page in pages_numbers:\n",
    "    # print(page.text.strip())\n",
    "    pages.append(int(page.text.strip()))\n",
    "pages_max_number = max(pages)\n",
    "print(pages_max_number)\n",
    "# 0.6s"
   ]
  },
  {
   "cell_type": "code",
   "execution_count": 26,
   "metadata": {},
   "outputs": [
    {
     "name": "stdout",
     "output_type": "stream",
     "text": [
      "34230085\n",
      "https://www.varle.lt/dronai/dji-avata-2-fly-more-combo-trys-baterijos-dronai--34230085.html\n",
      "<div class=\"GRID_ITEM\">\n",
      "<div class=\"img-container\">\n",
      "<a href=\"/dronai/dji-avata-2-fly-more-combo-trys-baterijos-dronai--34230085.html\">\n",
      "<img alt=\"Nuotrauka Nr.1\" class=\"product-img primary-img\" height=\"195\" loading=\"lazy\" src=\"https://www.varle.lt/static/uploads/products/235x195/1516/dji/dji-avata-2-fly-more-combo-fpv-drone-5f13fd36f0.jpg\" title=\"DJI Avata 2 Fly More Combo (trys baterijos) dronai\" width=\"235\"/>\n",
      "<img alt=\"Nuotrauka Nr.2\" class=\"product-img secondary-img\" height=\"195\" loading=\"lazy\" src=\"https://www.varle.lt/static/uploads/products/235x195/1516/dji/dji-avata-2-fly-more-combo-fpv-drone-e6fee6b688.jpeg\" title=\"DJI Avata 2 Fly More Combo (trys baterijos) dronai\" width=\"235\"/>\n",
      "</a>\n",
      "<div class=\"grid-labels\">\n",
      "</div>\n",
      "<span class=\"product-like\" id=\"34230085\"></span>\n",
      "</div>\n",
      "<div class=\"product-info\">\n",
      "<ul class=\"sale-guarantee\">\n",
      "</ul>\n",
      "<div class=\"product-title\">\n",
      "<a href=\"/dronai/dji-avata-2-fly-more-combo-trys-baterijos-dronai--34230085.html\" title=\"DJI Avata 2 Fly More Combo (trys baterijos) dronai\">\n",
      "                    DJI Avata 2 Fly More Combo (trys baterijos) dronai\n",
      "                </a>\n",
      "</div>\n",
      "<div class=\"spec-shortcuts\">\n",
      "<ul>\n",
      "<li>Gamintojas<a href=\"/dronai/?f.s-gamintojas=DJI\"><span>DJI</span></a></li>\n",
      "<li>Tipas<a href=\"/dronai/?f.s-tipas=Baterijos\"><span>Baterijos</span></a></li>\n",
      "<li>Veikimo laikas (min)<a href=\"/dronai/?f.s-veikimo_laikas=20.0%3Ainf\" rel=\"nofollow\"><span>23</span></a></li>\n",
      "<li>Baterijos talpa (mAh)<a href=\"/dronai/?f.r.s-baterijos_talpa=1000.0%3Ainf\" rel=\"nofollow\"><span>2600.0</span></a></li>\n",
      "<li>Svoris (kg)<a href=\"/dronai/?f.s-svoris=0.377\" rel=\"nofollow\"><span>0.377</span></a></li>\n",
      "<li>Spalva<a href=\"/dronai/?f.s-spalva=Pilka\"><span>Pilka</span></a>, <a href=\"/dronai/?f.s-spalva=Juoda\"><span>Juoda</span></a></li>\n",
      "</ul>\n",
      "</div>\n",
      "</div>\n",
      "<ul class=\"general-info\">\n",
      "<li class=\"rating\">\n",
      "<img alt=\"Įvertinimas\" height=\"14\" loading=\"lazy\" src=\"/static/web/img/rating-star.svg\" title=\"Įvertinimas\" width=\"15\"/>\n",
      "<span>5.0</span>\n",
      "<span class=\"total-ratings\">(7)</span>\n",
      "</li>\n",
      "<li class=\"delivery\">\n",
      "<img alt=\"Pristatymas į namus\" height=\"30\" loading=\"lazy\" src=\"/static/web/img/truck.svg\" title=\"Pristatymas į namus\" width=\"30\"/>\n",
      "<span>1-3 d. d.</span>\n",
      "</li>\n",
      "<li class=\"stock lowstock\">\n",
      "<span class=\"stock-icon\"></span>\n",
      "<span>Liko tik: <b>2 vnt.</b></span>\n",
      "</li>\n",
      "</ul>\n",
      "<div class=\"price-container\">\n",
      "<div class=\"price-tag\">\n",
      "<img alt=\"DJI Avata 2 Fly More Combo (trys baterijos) dronai kaina\" height=\"22\" loading=\"lazy\" src=\"/static/web/img/priceFront.svg\" title=\"DJI Avata 2 Fly More Combo (trys baterijos) dronai kaina\" width=\"9\"/>\n",
      "<div class=\"price-mid-section\">\n",
      "<span class=\"price-value\">\n",
      "<!-- 'if' statement can't be started in a new line to avoid uneccessary space before '.' -->\n",
      "<span>1183.</span><sup>12</sup>\n",
      "<span> €</span>\n",
      "</span>\n",
      "</div>\n",
      "</div>\n",
      "<div class=\"discount-line asterisk-upper-corner-right white\">\n",
      "<span>-14%</span>\n",
      "</div>\n",
      "<div class=\"price10x\">\n",
      "<span class=\"top-line\">118.<sup>31</sup>\n",
      "<span> €/mėn</span>\n",
      "</span>\n",
      "<span>be pabrangimo</span>\n",
      "</div>\n",
      "</div>\n",
      "<div class=\"spacer\" style=\"height: 14px;\"></div>\n",
      "</div>\n"
     ]
    }
   ],
   "source": [
    "print(item_id)\n",
    "print(item_url)\n",
    "print(item_block)\n"
   ]
  }
 ],
 "metadata": {
  "kernelspec": {
   "display_name": "Python 3",
   "language": "python",
   "name": "python3"
  },
  "language_info": {
   "codemirror_mode": {
    "name": "ipython",
    "version": 3
   },
   "file_extension": ".py",
   "mimetype": "text/x-python",
   "name": "python",
   "nbconvert_exporter": "python",
   "pygments_lexer": "ipython3",
   "version": "3.12.3"
  }
 },
 "nbformat": 4,
 "nbformat_minor": 2
}
