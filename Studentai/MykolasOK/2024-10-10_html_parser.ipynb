{
 "cells": [
  {
   "cell_type": "code",
   "execution_count": 15,
   "metadata": {},
   "outputs": [
    {
     "name": "stdout",
     "output_type": "stream",
     "text": [
      "Paskaita nr. 40, 2024-10-10\n",
      "Pasiruošta 2024-10-14 21:13:28\n"
     ]
    }
   ],
   "source": [
    "import numpy as np\n",
    "import pandas as pd\n",
    "import matplotlib.pyplot as plt\n",
    "import warnings\n",
    "warnings.filterwarnings('ignore')\n",
    "import seaborn as sns\n",
    "import requests\n",
    "# import sqlite3\n",
    "# import mysql.connector as cnt\n",
    "# import plotly.express as px\n",
    "\n",
    "import requests\n",
    "from bs4 import BeautifulSoup\n",
    "\n",
    "import datetime as dt\n",
    "print('Paskaita nr. 40, 2024-10-10')\n",
    "print('Pasiruošta',dt.datetime.now().replace(microsecond=0))"
   ]
  },
  {
   "cell_type": "code",
   "execution_count": 3,
   "metadata": {},
   "outputs": [
    {
     "name": "stdout",
     "output_type": "stream",
     "text": [
      "naujienos/lietuva/politika/lietuva-renka-nauja-valdzia-apylinkes-uzsidare-skaiciuojami-balsai-1195621\n",
      "naujienos/lietuva/politika/laukia-kova-vienmandatese-aiskeja-i-antraji-tura-pateke-kandidatai-1195683\n",
      "naujienos/kaunas/miesto-pulsas/judrioje-aleksoto-gatveje-laikini-eismo-ribojimai-1195787\n",
      "naujienos/lietuva/politika/sesiose-apygardose-bus-perskaiciuoti-balsai-panemuneje-gali-buti-trys-kandidatai-1195781\n",
      "naujienos/kaunas/miesto-pulsas/kaunieciai-noriai-balsuoja-seimo-rinkimuose-kai-kur-stebinantis-aktyvumas-nuolat-atnaujinama-1195597\n",
      "naujienos/kaunas/nusikaltimai-ir-nelaimes/veiksmas-partizanu-gatveje-pareigunai-sturmavo-automobili-sulaikytas-vyras-1194672\n",
      "naujienos/verslas/ekonomika/darbdavio-magija-kas-darbuotoja-skatina-isitraukti-ir-augti-1182991\n",
      "naujienos/lietuva/salies-pulsas/akibrokstas-privaciai-greitajai-pagalbai-viskas-vyksta-pagal-sutarti-1194484\n",
      "naujienos/verslas/ekonomika/vyriausybe-nepritaria-kad-baige-gyvulininkyste-teiktu-sveikatos-paslaugas-su-gyvunais-1195593\n",
      "naujienos/sveikata/psichologija/seima-tarsi-universitetas-kuriame-mokomes-artimuju-1195032\n",
      "naujienos/lietuva/politika/ka-pasirinks-l-mazylis-seima-ar-ep-1195817\n",
      "naujienos/lietuva/politika/l-kasciuno-rinkimuose-aplenktas-g-landsbergis-tai-nueinancio-pirmininko-efektas-1195807\n",
      "naujienos/lietuva/salies-pulsas/isaugtu-vaikisku-drabuziu-prisiminimu-siltukai-1195036\n",
      "naujienos/lietuva/salies-pulsas/mainu-platformos-ikureja-gyventi-tvariau-naudinga-ir-finansiskai-1194059\n",
      "https://www.diena.lt/naujienos/vilnius/nusikaltimai-ir-nelaimes/vilniaus-policija-aiskinasi-kas-pavoge-lagamina-1195812\n",
      "naujienos/kauno-dienos-studija/kauno-dienos-studijoje-istorikas-r-kamuntavicius-ar-reikia-bijoti-gudisko-litvinizmo-1195490\n",
      "naujienos/sportas/krepsinis/m-balciunas-jei-savo-imoniu-paremiau-lkf-kuo-tai-blogai-finansiskai-1190480\n",
      "naujienos/verslas/ekonomika/litgrid-vejo-jegainiu-gamyba-pastaraja-savaite-augo-daugiau-nei-2-kartus-1195825\n",
      "naujienos/vilnius/miesto-pulsas/kodel-siu-butu-nesikrausto-senbuviai-1195793\n",
      "naujienos/pasaulis/ekonomika-ir-politika/tyrimas-issiaiskinta-kokia-buvo-k-kolumbo-tautybe-1195824\n",
      "naujienos/pasaulis/ekonomika-ir-politika/vaiku-ligonineje-dziaugsmas-atskirti-siamo-dvyniai-1195816\n",
      "naujienos/sportas/krepsinis/m-lukauskis-ir-krepsinis-skyrybos-vel-atidetos-1195428\n",
      "naujienos/sportas/kitos-sporto-sakos/baltijos-tinklinio-lygoje-nauji-lietuviu-uzmojai-1195429\n",
      "naujienos/vilnius/nusikaltimai-ir-nelaimes/vilniuje-nenustatyti-asmenys-apiplese-vyra-1195775\n",
      "naujienos/kriminalai/nusikaltimai/nuteistas-panevezyje-i-buta-petarda-imetes-vyras-1195762\n",
      "naujienos/laisvalaikis-ir-kultura/zvaigzdes-ir-pramogos/j-statkevicius-atvirai-kodel-nesiruosia-i-pensija-ir-kiek-po-paryziaus-kainuos-jo-drabuziai-1195814\n",
      "naujienos/laisvalaikis-ir-kultura/kultura/370-rekomenduojamos-knygos-1195768\n",
      "naujienos/pasaulis/ekonomika-ir-politika/pirmi-pasaulyje-spacex-sekmingai-pagavo-savo-raketos-greitintuva-1195611\n",
      "naujienos/ivairenybes/receptai/geles-maiste-grazu-bet-ne-visada-saugu-1195045\n"
     ]
    }
   ],
   "source": [
    "url = 'https://kauno.diena.lt/'\n",
    "page = requests.get(url)\n",
    "source = page.content\n",
    "bs = BeautifulSoup(source,'html.parser')\n",
    "# print(bs)\n",
    "straipsniai=bs.find_all('div',{'class':'category-block-row grid-12 alpha omega unscore'})\n",
    "# print(straipsniai)\n",
    "for s in straipsniai:\n",
    "    i=s.find('div',{'class':'articles-list-title-wrapper'})\n",
    "    if i is not None:\n",
    "        t=i.find('a',{'class':'articles-list-title'})\n",
    "        print(t['href'])\n",
    "        # print(t.text)"
   ]
  },
  {
   "cell_type": "code",
   "execution_count": 21,
   "metadata": {},
   "outputs": [
    {
     "name": "stdout",
     "output_type": "stream",
     "text": [
      "len(straipsnis[0].text) = 5109 \n",
      "\n",
      "– Devyneri su puse metų – greitai minėsite dešimtmečio sukaktį. Dar užpernai pasiekėte rekordą, būdamas ilgiausiai dirbančiu Kauno meru per nepriklausomybės laikotarpį. Ką jums tai reiškia?\n",
      "– Nesureikšminu tų skaičių ir rekordų, bet viena žinau, kad pats nebejaunėju. Gal dėl to ir norisi dar daug ką suspėti. Atrodo, nuveikta tikrai nemažai, bet kai pažiūriu, kiek visko priplanuota... Esu ramus, kad ateičiai nemažai projektų jau paruošta, kiti – rengimo stadijoje. Idėjų mūsų komandai niekada netrūko – reikia tik užtektinai finansų ir šiek tiek laiko joms įgyvendinti. Gal dar kokių dešimties metų (juokiasi)...\n",
      "\n",
      "\n",
      "– Jūs šypsotės, bet daugelis išties norėtų sužinoti, kiek dar turite ambicijų tęsti darbus Kauno mero poste?\n",
      "– Čia vienas dažnesnių klausimų, į kurį atsakymo pats sau neturiu. Tai niekada nebuvo mano asmeninė ambicija. Turėjau tik labai konkretų norą – sutvarkyti, pakeisti miestą. Pamenu, kažkada išvis galvojau neiti į šitas pareigas, po rinkimų 2015-aisiais domėjausi, kaip galėčiau jų atsisakyti.\n",
      "Vėliau atradom gerą ryšį su tuomet buvusia Vyriausybe – pajaučiau, kad Kaunas sulaukia dėmesio ir palaikymo iš šalies valdžios. Bet čia kalbu apie 2016–2020 metų kadenciją, kuomet vadovavo Saulius Skvernelis su savo ministrų kabinetu. Paprastai tariant, su Kaunu tuomet tikrai skaitėsi.\n",
      "Paskiau atėjo dabartiniai valdantieji ir supratau, jog situacija keičiasi – į mūsų pusę jie nebežiūri, jokios pagarbos Kaunui. Paėmė azartas nenumesti visko, bet pakovot už savo miestą. Dabar galiu pasakyti, kad buvo verta. Nors iš nueinančios Vyriausybės Kaunas didesniems projektams negavo beveik nieko, bet suvaldėm situaciją – miestas nesustojo. Visa tai yra pačių kauniečių dėka.\n",
      "\n",
      "Turėjau tik labai konkretų norą – sutvarkyti, pakeisti miestą.\n",
      "\n",
      "Jeigu ne tas iki tol įgytas pagreitis, verslų plėtra, valdžia mums būtų „užtraukusi“ rankinį stabdį. Tikiuosi, greitai situacija pasikeis ir mes tiesime naujus tiltus ne tik per upes, bet ir perkeltine prasme.\n",
      "– Atrodo, kad ir šis ruduo Kaunui – gana derlingas: pirmosios įkurtuvės Inovacijų parke „ALEX“, startavo dar vieno tilto statybos, ruošiatės „Mokslo salos“ muziejaus atidarymui. Turite kuo pasidžiaugti?\n",
      "– Yra nemažai gražių progų... Dabar tiltų statymo metai – porą statom, trečią baigiam projektuoti, jau startavom ir su viaduko statybomis. Kyla du baseinai, Romainiuose matosi naujo vaikų darželio pamatai, toliau atnaujinami parkai, kitos žalios erdvės, tvarkoma susisiekimo infrastruktūra.\n",
      "Bet geriausia džiaugtis ir švęsti ne darbų pradžią, o pabaigtuves, kai žmonės gali matyti apčiuopiamą rezultatą. Tokių vien šiemet irgi turim užtektinai: daugelis jau spėjo pasigėrėti atgijusiu Dainų slėniu, dabar artėja „Mokslo salos“ atidarymas, atversim ir Lengvosios atletikos maniežą. Toliau ruošiamės Čiurlionio koncertų centro statyboms, projektuojame nemažai išskirtinių sporto ir laisvalaikio objektų.\n",
      "– Opozicijos atstovai tikriausiai vėl pasikartotų, kad tokio proveržio priežastis – smarkiai išaugęs miesto biudžetas?\n",
      "– Tegul jie kalba, ką nori. Aš galiu tik paklausti, kodėl jie neaugino ir išvis nemylėjo Kauno iki man ateinant? Miesto biudžeto surinkimas – irgi reikalauja daug darbo. Jis didžiąja dalimi susideda iš gyventojų pajamų mokesčio. Todėl reikia stipriai pasistengti, kad verslai stiprėtų, žmonės turėtų gerai apmokamas darbo vietas ir pačių gyventojų kiekis mieste augtų.\n",
      "Panašu, kad šituos procesus užkūrėm ir jie važiuoja. Miestas tapo patogesnis, tvarkingesnis, patrauklesnis tiek studentams, tiek ir čia besikuriančioms jaunoms šeimoms.\n",
      "Nereikia toli žvalgytis – vien praėjusią savaitę turėjome kelis puikius pavyzdžius: „Antėja“ Kaune atidarė didžiausią Baltijos šalyse medicininių tyrimų laboratoriją, SBA pristatė ketvirčio milijardo investicijas „Nemunaičiuose“, Aleksoto inovacijų parke turime pirmąją besikuriančią kompaniją su 50 milijonų privataus kapitalo krepšeliu. Va tai aš turiu galvoje, kai sakau, kad miestas kauniečių dėka nestabdo. Net ir be Vyriausybės dėmesio.\n",
      "– Pradėdamas eiti mero pareigas vis kalbėdavote, kad reikia nebijoti džiazuoti ir išlaisvinti fantaziją. Kaip manote, ar jums tai pavyko?\n",
      "– Geriausiai apie viską pasako padaryti darbai. Būtų neteisinga pačiam vertinti, nes tai yra darbas, kurį man patikėjo kauniečiai. Žmonės mato ir turi savo nuomones apie tai, kaip keičiasi miestas. Jų gali būti įvairių, bet iš šono nesunku matyti, kad dauguma džiaugiasi.\n",
      "Baseinas prie „Žalgirio“ arenos – pilnutėlis, Sporto halė – gyva, Ąžuolynas – išgražėjęs. Stadionas muša koncertų lankomumo rekordus ir tikiu, kad pamažu užaugins rezultatus bei palaikymo kultūrą futbole, kaip tą padarė „Žalgirio“ krepšinio klubas su sausakimša arena. Rotušė irgi tapo muziejaus verta erdve.\n",
      "Kiekvienu atveju su komanda dėta daug pastangų, būta ir nemažai ginčų, netgi karštų momentų. Bet viskas dėl bendro tikslo, nes mes visi esame kauniečiai.\n",
      "Žinau, kad per praėjusius Seimo rinkimus pasitaikė nemažai „ateivių“: didesnė dalis Kaune išrinktų vienmandatininkų buvo ne Kauno gyventojai. Turbūt tokių atsiras ir dabar. Nenoriu čia nei kritikuoti, nei agituoti, bet aš pats sau išvadas jau seniai esu pasidaręs.\n",
      "\n"
     ]
    }
   ],
   "source": [
    "url = \"https://kauno.diena.lt/naujienos/kaunas/miesto-pulsas/v-matijosaitis-miestas-nesustojo-tik-paciu-kaunieciu-deka-1195275\"\n",
    "page = requests.get(url)\n",
    "source = page.content\n",
    "bs = BeautifulSoup(source,'html.parser')\n",
    "straipsnis = bs.find_all('span',{'itemprop':'articleBody'})\n",
    "print('len(straipsnis[0].text) =',len(straipsnis[0].text),'\\n')\n",
    "print(straipsnis[0].text)"
   ]
  },
  {
   "cell_type": "code",
   "execution_count": 5,
   "metadata": {},
   "outputs": [],
   "source": [
    "# Surinkite visus straipsnių pavadinimus ir nuorodas į pačius straipsnius iš Kauno diena puslapio. \n",
    "# Suraskite vidutinį straipsnių pavadinimuose esančių žodžių skaičių.\n",
    "# Atvaizduoikite grafiškai straipsnių kiekį VS žodžių kiekis pavadinime.\n",
    "\n",
    "# Suraskite ilgiausią pavadinimą, nueikite į tą straipsnį.\n",
    "# suraskite 5-kis dažniausiai pasikartojančius žodžius, iliustruokite grafiškai.\n",
    "\n",
    "# Suskaičiuokite, kiek vidutiniškai turi žodžių straipsniai, esantys Kauno dienoje."
   ]
  },
  {
   "cell_type": "code",
   "execution_count": 12,
   "metadata": {},
   "outputs": [
    {
     "name": "stdout",
     "output_type": "stream",
     "text": [
      "Straipsnių skaičius: 28\n",
      "Vidutinis straipsnių pavadinimo žodžių skaičius: 8.607\n"
     ]
    },
    {
     "data": {
      "text/plain": [
       "<Axes: xlabel='Žodžių skaičius pavadinime', ylabel='Dažnis'>"
      ]
     },
     "execution_count": 12,
     "metadata": {},
     "output_type": "execute_result"
    },
    {
     "data": {
      "image/png": "[encoded data removed]",
      "text/plain": [
       "<Figure size 640x480 with 1 Axes>"
      ]
     },
     "metadata": {},
     "output_type": "display_data"
    }
   ],
   "source": [
    "HomeUrl = 'https://kauno.diena.lt/'\n",
    "page = requests.get(HomeUrl)\n",
    "source = page.content\n",
    "bs = BeautifulSoup(source,'html.parser')\n",
    "# print(bs)\n",
    "straipsniai=bs.find_all('div',{'class':'category-block-row grid-12 alpha omega unscore'})\n",
    "# print(straipsniai)\n",
    "\n",
    "urlLst=[] # Straipsnių nuorodų sąrašas\n",
    "žskLst=[] # Straipsnių pavadinimų ženklų skaičių sąrašas\n",
    "pvdLst=[] # Straipsnių pavadinimų sąrašas\n",
    "for s in straipsniai:\n",
    "    i=s.find('div',{'class':'articles-list-title-wrapper'})\n",
    "    if i is not None:\n",
    "        t=i.find('a',{'class':'articles-list-title'})\n",
    "        # print(t['href'])\n",
    "        # print(t.text)\n",
    "        urlElm=t['href'].split('/')\n",
    "        if urlElm[0]=='naujienos':\n",
    "            žodžiai=t.text.split()\n",
    "            urlLst.append(HomeUrl+t['href'])\n",
    "            žskLst.append(len(žodžiai))\n",
    "            pvdLst.append(t.text)\n",
    "            # print(urlElm)\n",
    "            # print(len(žodžiai),žodžiai)\n",
    "\n",
    "df = pd.DataFrame()\n",
    "df['url']=urlLst # Straipsnio URL\n",
    "df['žsk']=žskLst # Straipsnio pavadinimo žodžių skaičius\n",
    "df['pvd']=pvdLst # Straipsnio pavadinimas\n",
    "df['rsk']=df['pvd'].str.len() # Straipsnio pavadinimo raidžių skaičius\n",
    "\n",
    "print('Straipsnių skaičius:',df['url'].size)\n",
    "print('Vidutinis straipsnių pavadinimo žodžių skaičius:',df['žsk'].mean().round(3))\n",
    "\n",
    "dfGroup=df.groupby('žsk').size()\n",
    "dfGroup.plot(kind='bar',xlabel='Žodžių skaičius pavadinime',ylabel='Dažnis')"
   ]
  },
  {
   "cell_type": "code",
   "execution_count": 7,
   "metadata": {},
   "outputs": [
    {
     "name": "stdout",
     "output_type": "stream",
     "text": [
      "Straipsniai ilgiausiais pavadinimais\n",
      "\n",
      "    žsk  rsk                                                pvd\n",
      "24   14   93  J. Statkevičius atvirai: kodėl nesiruošia į pe...\n",
      "14   12   91  „Kauno dienos“ studijoje – istorikas R. Kamunt...\n",
      "8    10   86  Vyriausybė nepritaria, kad baigę gyvulininkyst...\n",
      "3    10   85  Septyniose apygardose bus perskaičiuoti balsai...\n",
      "11   11   85  L. Kasčiūno rinkimuose aplenktas G. Landsbergi...\n"
     ]
    }
   ],
   "source": [
    "print('Straipsniai ilgiausiais pavadinimais\\n')\n",
    "print(df[['žsk','rsk','pvd']].sort_values('rsk',ascending=False).head(5))"
   ]
  },
  {
   "cell_type": "code",
   "execution_count": 32,
   "metadata": {},
   "outputs": [
    {
     "name": "stdout",
     "output_type": "stream",
     "text": [
      "Tiriame straipsnį ilgiausiu pavadinimu\n"
     ]
    },
    {
     "data": {
      "text/plain": [
       "<Axes: xlabel='Žodis', ylabel='Dažnis'>"
      ]
     },
     "execution_count": 32,
     "metadata": {},
     "output_type": "execute_result"
    },
    {
     "data": {
      "image/png": "[encoded data removed]",
      "text/plain": [
       "<Figure size 640x480 with 1 Axes>"
      ]
     },
     "metadata": {},
     "output_type": "display_data"
    }
   ],
   "source": [
    "import re\n",
    "\n",
    "print('Tiriame straipsnį ilgiausiu pavadinimu')\n",
    "m=df['rsk'].max()\n",
    "url=df.query('rsk==@m')['url'].tolist()[0]\n",
    "# print(url)\n",
    "\n",
    "page = requests.get(url)\n",
    "source = page.content\n",
    "bs = BeautifulSoup(source,'html.parser')\n",
    "straipsnis = bs.find_all('span',{'itemprop':'articleBody'})\n",
    "# print(straipsnis[0].text)\n",
    "žodžiai=straipsnis[0].text.split()\n",
    "# print(žodžiai)\n",
    "\n",
    "žodžiaiLower=[žodis.lower() for žodis in žodžiai]\n",
    "# print(žodžiaiLower)\n",
    "\n",
    "tikriŽodžiai=[]\n",
    "for žodis in žodžiaiLower:\n",
    "    if žodis.islower():\n",
    "        tikriŽodžiai.append(re.sub(r'[\\W]','',žodis))\n",
    "# print(tikriŽodžiai)\n",
    "\n",
    "ždžDF = pd.DataFrame()\n",
    "ždžDF['ždž']=tikriŽodžiai\n",
    "\n",
    "dfGroup=ždžDF.groupby('ždž').size().sort_values(ascending=False).head(13)\n",
    "dfGroup.plot(kind='bar',xlabel='Žodis',ylabel='Dažnis')\n",
    "\n",
    "# print('Žodžių skaičius grafike:',dfGroup.size)"
   ]
  },
  {
   "cell_type": "code",
   "execution_count": 11,
   "metadata": {},
   "outputs": [
    {
     "name": "stdout",
     "output_type": "stream",
     "text": [
      "Kiek žodžių Kauno dienos straipsniuose\n",
      "1 578 https://kauno.diena.lt/naujienos/lietuva/politika/lietuva-renka-nauja-valdzia-apylinkes-uzsidare-skaiciuojami-balsai-1195621\n",
      "2 995 https://kauno.diena.lt/naujienos/lietuva/politika/laukia-kova-vienmandatese-aiskeja-i-antraji-tura-pateke-kandidatai-1195683\n",
      "3 69 https://kauno.diena.lt/naujienos/kaunas/miesto-pulsas/judrioje-aleksoto-gatveje-laikini-eismo-ribojimai-1195787\n",
      "4 381 https://kauno.diena.lt/naujienos/lietuva/politika/sesiose-apygardose-bus-perskaiciuoti-balsai-panemuneje-gali-buti-trys-kandidatai-1195781\n",
      "5 703 https://kauno.diena.lt/naujienos/kaunas/miesto-pulsas/kaunieciai-noriai-balsuoja-seimo-rinkimuose-kai-kur-stebinantis-aktyvumas-nuolat-atnaujinama-1195597\n",
      "6 76 https://kauno.diena.lt/naujienos/kaunas/nusikaltimai-ir-nelaimes/veiksmas-partizanu-gatveje-pareigunai-sturmavo-automobili-sulaikytas-vyras-1194672\n",
      "7 1065 https://kauno.diena.lt/naujienos/verslas/ekonomika/darbdavio-magija-kas-darbuotoja-skatina-isitraukti-ir-augti-1182991\n",
      "8 1345 https://kauno.diena.lt/naujienos/lietuva/salies-pulsas/akibrokstas-privaciai-greitajai-pagalbai-viskas-vyksta-pagal-sutarti-1194484\n",
      "9 214 https://kauno.diena.lt/naujienos/verslas/ekonomika/vyriausybe-nepritaria-kad-baige-gyvulininkyste-teiktu-sveikatos-paslaugas-su-gyvunais-1195593\n",
      "10 424 https://kauno.diena.lt/naujienos/sveikata/psichologija/seima-tarsi-universitetas-kuriame-mokomes-artimuju-1195032\n"
     ]
    }
   ],
   "source": [
    "print('Kiek žodžių Kauno dienos straipsniuose')\n",
    "\n",
    "HomeUrl = 'https://kauno.diena.lt/'\n",
    "page = requests.get(HomeUrl)\n",
    "source = page.content\n",
    "bs = BeautifulSoup(source,'html.parser')\n",
    "straipsniai=bs.find_all('div',{'class':'category-block-row grid-12 alpha omega unscore'})\n",
    "\n",
    "nr=0\n",
    "urlLst=[]\n",
    "žskLst=[]\n",
    "for s in straipsniai:\n",
    "    i=s.find('div',{'class':'articles-list-title-wrapper'})\n",
    "    if ( i is not None )and( nr<10 ):\n",
    "        nr=nr+1\n",
    "        t=i.find('a',{'class':'articles-list-title'})\n",
    "        # print(t['href'])\n",
    "        # print(t.text)\n",
    "        urlElm=t['href'].split('/')\n",
    "        if urlElm[0]=='naujienos':\n",
    "            url=HomeUrl+t['href']\n",
    "            urlLst.append(url)\n",
    "            page = requests.get(url)\n",
    "            source = page.content\n",
    "            bs = BeautifulSoup(source,'html.parser')\n",
    "            straipsnis = bs.find_all('span',{'itemprop':'articleBody'})\n",
    "            # print(straipsnis[0].text)\n",
    "            žodžiai=straipsnis[0].text.split()\n",
    "            # print(žodžiai)\n",
    "            print(nr,len(žodžiai),url)\n",
    "            ždžDF = pd.DataFrame()\n",
    "            ždžDF['ždž']=žodžiai\n",
    "\n",
    "            # dfGroup=ždžDF.groupby('ždž').size().sort_values(ascending=False).head(13)\n",
    "            # dfGroup.plot(kind='bar',xlabel='Žodis',ylabel='Dažnis')\n",
    "\n",
    "            # print('Žodžių skaičius grafike:',dfGroup.size)\n",
    "\n",
    "            # žskLst.append(len(žodžiai))\n",
    "            # pvdLst.append(t.text)\n",
    "            # žodžiai=t.text.split()\n",
    "            # print(len(žodžiai),žodžiai)\n",
    "\n",
    "# df = pd.DataFrame()\n",
    "# df['url']=urlLst # Straipsnio URL\n",
    "# df['žsk']=žskLst # Straipsnio pavadinimo žodžių skaičius\n",
    "# df['pvd']=pvdLst # Straipsnio pavadinimas\n",
    "# df['rsk']=df['pvd'].str.len() # Straipsnio pavadinimo raidžių skaičius\n",
    "\n",
    "# print('Straipsnių skaičius:',df['url'].size)\n",
    "# print('Vidutinis straipsnių pavadinimo žodžių skaičius:',df['žsk'].mean().round(3))\n",
    "\n",
    "# dfGroup=df.groupby('žsk').size()\n",
    "# dfGroup.plot(kind='bar',xlabel='Žodžių skaičius pavadinime',ylabel='Dažnis')"
   ]
  }
 ],
 "metadata": {
  "kernelspec": {
   "display_name": "Python 3",
   "language": "python",
   "name": "python3"
  },
  "language_info": {
   "codemirror_mode": {
    "name": "ipython",
    "version": 3
   },
   "file_extension": ".py",
   "mimetype": "text/x-python",
   "name": "python",
   "nbconvert_exporter": "python",
   "pygments_lexer": "ipython3",
   "version": "3.12.3"
  }
 },
 "nbformat": 4,
 "nbformat_minor": 2
}
