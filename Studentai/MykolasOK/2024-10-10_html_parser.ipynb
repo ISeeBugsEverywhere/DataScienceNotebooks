{
 "cells": [
  {
   "cell_type": "code",
   "execution_count": 2,
   "metadata": {},
   "outputs": [
    {
     "name": "stdout",
     "output_type": "stream",
     "text": [
      "Paskaita nr. 40, 2024-10-10\n",
      "Pasiruošta 2024-10-10 19:41:45.091215\n"
     ]
    }
   ],
   "source": [
    "import numpy as np\n",
    "import pandas as pd\n",
    "import matplotlib.pyplot as plt\n",
    "import warnings\n",
    "warnings.filterwarnings('ignore')\n",
    "import seaborn as sns\n",
    "import requests\n",
    "# import sqlite3\n",
    "# import mysql.connector as cnt\n",
    "# import plotly.express as px\n",
    "\n",
    "import requests\n",
    "from bs4 import BeautifulSoup\n",
    "\n",
    "import datetime as dt\n",
    "print('Paskaita nr. 40, 2024-10-10')\n",
    "print('Pasiruošta',dt.datetime.now())"
   ]
  },
  {
   "cell_type": "code",
   "execution_count": 3,
   "metadata": {},
   "outputs": [
    {
     "name": "stdout",
     "output_type": "stream",
     "text": [
      "naujienos/kaunas/miesto-pulsas/v-matijosaitis-miestas-nesustojo-tik-paciu-kaunieciu-deka-1195275\n",
      "naujienos/kaunas/miesto-pulsas/sirdi-glostanti-eile-kaunieciai-nori-speti-anksto-balsuoti-seimo-rinkimuose-1195301\n",
      "naujienos/kriminalai/nusikaltimai/lietuvis-ir-ruse-bus-teisiami-uz-tai-kad-pelnesi-kitu-asmenu-prostitucijos-1195248\n",
      "naujienos/kaunas/miesto-pulsas/penktadieni-kaune-pradedamas-sildymo-sezonas-1195208\n",
      "naujienos/kaunas/nusikaltimai-ir-nelaimes/jonavos-pareigunams-su-ikalciais-ikliuvo-kontrabandininkas-1195177\n",
      "naujienos/kaunas/nusikaltimai-ir-nelaimes/veiksmas-partizanu-gatveje-pareigunai-sturmavo-automobili-sulaikytas-vyras-1194672\n",
      "naujienos/verslas/ekonomika/darbdavio-magija-kas-darbuotoja-skatina-isitraukti-ir-augti-1182991\n",
      "naujienos/lietuva/salies-pulsas/akibrokstas-privaciai-greitajai-pagalbai-viskas-vyksta-pagal-sutarti-1194484\n",
      "naujienos/sveikata/psichologija/o-dabar-pakalbekime-apie-nieka-1194950\n",
      "naujienos/sveikata/sveikata/vilniaus-rajone-uz-daugiau-nei-835-tukst-euru-bus-modernizuojamos-sveikatos-centro-paslaugos-1195217\n",
      "naujienos/klaipeda/miesto-pulsas/po-vizito-i-kirpykla-sumaistis-1195220\n",
      "naujienos/lietuva/politika/kandidate-kviete-atsivezti-ir-beisbolo-lazdas-ir-dalgius-teisesauga-tiria-raginima-susidoroti-1195262\n",
      "naujienos/grazi-diena/auskaru-verimo-meistre-g-balevice-apie-grozi-kantrybe-profesionaluma-ir-truputeli-skausmo-1194964\n",
      "naujienos/lietuva/salies-pulsas/deveta-nereiskia-skurdu-1194060\n",
      "https://www.diena.lt/naujienos/vilnius/miesto-pulsas/avulis-apie-nacionalinio-stadiono-projekta-reikia-dar-truputelio-kantrybes-1195289\n",
      "naujienos/kauno-dienos-studija/kauno-dienos-studijoje-20-meti-minincio-kauno-miesto-simfoninio-orkestro-vadovas-1191320\n",
      "naujienos/sportas/krepsinis/kauno-dienos-studijoje-kandidatas-i-lkf-prezidentus-r-javtokas-1190406\n",
      "naujienos/vilnius/miesto-pulsas/avulis-apie-nacionalinio-stadiono-projekta-reikia-dar-truputelio-kantrybes-1195289\n",
      "naujienos/laisvalaikis-ir-kultura/kultura/kulturos-ministerijoje-pasirasomas-susitarimas-del-kulturos-inovaciju-skatinimo-1195170\n",
      "naujienos/pasaulis/ekonomika-ir-politika/lenkijos-premjeras-kaltina-duda-trukdant-ambasadoriu-paskyrimo-procesui-1195299\n",
      "naujienos/pasaulis/konfliktai-nelaimes/stebetojai-baltarusijoje-nusileido-du-rusu-orlaiviai-galintys-nesti-raketas-kinzal-1195279\n",
      "naujienos/sportas/krepsinis/zalgirieciu-ieskojimu-kelyje-olympiakos-1195192\n",
      "naujienos/sportas/kitos-sporto-sakos/amerikietisku-kalneliu-citadele-kmt-mace-uteniskiai-palauze-svecius-kedainiu-1195152\n",
      "naujienos/vilnius/nusikaltimai-ir-nelaimes/del-advokato-mirties-sukresti-kolegos-noretume-zinoti-ar-pareigunai-tinkamai-vykde-savo-misija-1195286\n",
      "naujienos/vilnius/nusikaltimai-ir-nelaimes/saudyniu-vilniuje-epicentre-atsidures-rezisierius-zmones-mane-eme-tempti-i-kavine-1195255\n",
      "naujienos/vilnius/miesto-pulsas/teismas-atmete-asociacijos-ir-s-neries-anukes-skunda-del-sprendimo-nuimti-poetes-paminkla-1195247\n",
      "naujienos/laisvalaikis-ir-kultura/kultura/rasytojui-d-dirgelai-skirta-neringos-savivaldybes-stipendija-1195232\n",
      "naujienos/ivairenybes/horoskopai/dienos-horoskopas-12-zodiako-zenklu-spalio-10-d-1195139\n",
      "naujienos/pasaulis/ekonomika-ir-politika/nobelio-chemijos-premija-pasidalijo-jav-ir-jk-mokslininkai-1195066\n"
     ]
    }
   ],
   "source": [
    "url = 'https://kauno.diena.lt/'\n",
    "page = requests.get(url)\n",
    "source = page.content\n",
    "bs = BeautifulSoup(source,'html.parser')\n",
    "# print(bs)\n",
    "straipsniai=bs.find_all('div',{'class':'category-block-row grid-12 alpha omega unscore'})\n",
    "# print(straipsniai)\n",
    "for s in straipsniai:\n",
    "    i=s.find('div',{'class':'articles-list-title-wrapper'})\n",
    "    if i is not None:\n",
    "        t=i.find('a',{'class':'articles-list-title'})\n",
    "        print(t['href'])\n",
    "        # print(t.text)"
   ]
  },
  {
   "cell_type": "code",
   "execution_count": 4,
   "metadata": {},
   "outputs": [
    {
     "name": "stdout",
     "output_type": "stream",
     "text": [
      "– Devyneri su puse metų – greitai minėsite dešimtmečio sukaktį. Dar užpernai pasiekėte rekordą, būdamas ilgiausiai dirbančiu Kauno meru per nepriklausomybės laikotarpį. Ką jums tai reiškia?\n",
      "– Nesureikšminu tų skaičių ir rekordų, bet viena žinau, kad pats nebejaunėju. Gal dėl to ir norisi dar daug ką suspėti. Atrodo, nuveikta tikrai nemažai, bet kai pažiūriu, kiek visko priplanuota... Esu ramus, kad ateičiai nemažai projektų jau paruošta, kiti – rengimo stadijoje. Idėjų mūsų komandai niekada netrūko – reikia tik užtektinai finansų ir šiek tiek laiko joms įgyvendinti. Gal dar kokių dešimties metų (juokiasi)...\n",
      "\n",
      "\n",
      "– Jūs šypsotės, bet daugelis išties norėtų sužinoti, kiek dar turite ambicijų tęsti darbus Kauno mero poste?\n",
      "– Čia vienas dažnesnių klausimų, į kurį atsakymo pats sau neturiu. Tai niekada nebuvo mano asmeninė ambicija. Turėjau tik labai konkretų norą – sutvarkyti, pakeisti miestą. Pamenu, kažkada išvis galvojau neiti į šitas pareigas, po rinkimų 2015-aisiais domėjausi, kaip galėčiau jų atsisakyti.\n",
      "Vėliau atradom gerą ryšį su tuomet buvusia Vyriausybe – pajaučiau, kad Kaunas sulaukia dėmesio ir palaikymo iš šalies valdžios. Bet čia kalbu apie 2016–2020 metų kadenciją, kuomet vadovavo Saulius Skvernelis su savo ministrų kabinetu. Paprastai tariant, su Kaunu tuomet tikrai skaitėsi.\n",
      "Paskiau atėjo dabartiniai valdantieji ir supratau, jog situacija keičiasi – į mūsų pusę jie nebežiūri, jokios pagarbos Kaunui. Paėmė azartas nenumesti visko, bet pakovot už savo miestą. Dabar galiu pasakyti, kad buvo verta. Nors iš nueinančios Vyriausybės Kaunas didesniems projektams negavo beveik nieko, bet suvaldėm situaciją – miestas nesustojo. Visa tai yra pačių kauniečių dėka.\n",
      "\n",
      "Turėjau tik labai konkretų norą – sutvarkyti, pakeisti miestą.\n",
      "\n",
      "Jeigu ne tas iki tol įgytas pagreitis, verslų plėtra, valdžia mums būtų „užtraukusi“ rankinį stabdį. Tikiuosi, greitai situacija pasikeis ir mes tiesime naujus tiltus ne tik per upes, bet ir perkeltine prasme.\n",
      "– Atrodo, kad ir šis ruduo Kaunui – gana derlingas: pirmosios įkurtuvės Inovacijų parke „ALEX“, startavo dar vieno tilto statybos, ruošiatės „Mokslo salos“ muziejaus atidarymui. Turite kuo pasidžiaugti?\n",
      "– Yra nemažai gražių progų... Dabar tiltų statymo metai – porą statom, trečią baigiam projektuoti, jau startavom ir su viaduko statybomis. Kyla du baseinai, Romainiuose matosi naujo vaikų darželio pamatai, toliau atnaujinami parkai, kitos žalios erdvės, tvarkoma susisiekimo infrastruktūra.\n",
      "Bet geriausia džiaugtis ir švęsti ne darbų pradžią, o pabaigtuves, kai žmonės gali matyti apčiuopiamą rezultatą. Tokių vien šiemet irgi turim užtektinai: daugelis jau spėjo pasigėrėti atgijusiu Dainų slėniu, dabar artėja „Mokslo salos“ atidarymas, atversim ir Lengvosios atletikos maniežą. Toliau ruošiamės Čiurlionio koncertų centro statyboms, projektuojame nemažai išskirtinių sporto ir laisvalaikio objektų.\n",
      "– Opozicijos atstovai tikriausiai vėl pasikartotų, kad tokio proveržio priežastis – smarkiai išaugęs miesto biudžetas?\n",
      "– Tegul jie kalba, ką nori. Aš galiu tik paklausti, kodėl jie neaugino ir išvis nemylėjo Kauno iki man ateinant? Miesto biudžeto surinkimas – irgi reikalauja daug darbo. Jis didžiąja dalimi susideda iš gyventojų pajamų mokesčio. Todėl reikia stipriai pasistengti, kad verslai stiprėtų, žmonės turėtų gerai apmokamas darbo vietas ir pačių gyventojų kiekis mieste augtų.\n",
      "Panašu, kad šituos procesus užkūrėm ir jie važiuoja. Miestas tapo patogesnis, tvarkingesnis, patrauklesnis tiek studentams, tiek ir čia besikuriančioms jaunoms šeimoms.\n",
      "Nereikia toli žvalgytis – vien praėjusią savaitę turėjome kelis puikius pavyzdžius: „Antėja“ Kaune atidarė didžiausią Baltijos šalyse medicininių tyrimų laboratoriją, SBA pristatė ketvirčio milijardo investicijas „Nemunaičiuose“, Aleksoto inovacijų parke turime pirmąją besikuriančią kompaniją su 50 milijonų privataus kapitalo krepšeliu. Va tai aš turiu galvoje, kai sakau, kad miestas kauniečių dėka nestabdo. Net ir be Vyriausybės dėmesio.\n",
      "– Pradėdamas eiti mero pareigas vis kalbėdavote, kad reikia nebijoti džiazuoti ir išlaisvinti fantaziją. Kaip manote, ar jums tai pavyko?\n",
      "– Geriausiai apie viską pasako padaryti darbai. Būtų neteisinga pačiam vertinti, nes tai yra darbas, kurį man patikėjo kauniečiai. Žmonės mato ir turi savo nuomones apie tai, kaip keičiasi miestas. Jų gali būti įvairių, bet iš šono nesunku matyti, kad dauguma džiaugiasi.\n",
      "Baseinas prie „Žalgirio“ arenos – pilnutėlis, Sporto halė – gyva, Ąžuolynas – išgražėjęs. Stadionas muša koncertų lankomumo rekordus ir tikiu, kad pamažu užaugins rezultatus bei palaikymo kultūrą futbole, kaip tą padarė „Žalgirio“ krepšinio klubas su sausakimša arena. Rotušė irgi tapo muziejaus verta erdve.\n",
      "Kiekvienu atveju su komanda dėta daug pastangų, būta ir nemažai ginčų, netgi karštų momentų. Bet viskas dėl bendro tikslo, nes mes visi esame kauniečiai.\n",
      "Žinau, kad per praėjusius Seimo rinkimus pasitaikė nemažai „ateivių“: didesnė dalis Kaune išrinktų vienmandatininkų buvo ne Kauno gyventojai. Turbūt tokių atsiras ir dabar. Nenoriu čia nei kritikuoti, nei agituoti, bet aš pats sau išvadas jau seniai esu pasidaręs.\n",
      "\n"
     ]
    }
   ],
   "source": [
    "url = \"https://kauno.diena.lt/naujienos/kaunas/miesto-pulsas/v-matijosaitis-miestas-nesustojo-tik-paciu-kaunieciu-deka-1195275\"\n",
    "page = requests.get(url)\n",
    "source = page.content\n",
    "bs = BeautifulSoup(source,'html.parser')\n",
    "straipsnis = bs.find_all('span',{'itemprop':'articleBody'})\n",
    "# print(len(straipsnis))\n",
    "print(straipsnis[0].text)"
   ]
  },
  {
   "cell_type": "code",
   "execution_count": 5,
   "metadata": {},
   "outputs": [],
   "source": [
    "# Surinkite visus straipsnių pavadinimus ir nuorodas į pačius straipsnius iš Kauno diena puslapio. \n",
    "# Suraskite vidutinį straipsnių pavadinimuose esančių žodžių skaičių.\n",
    "# Atvaizduoikite grafiškai straipsnių kiekį VS žodžių kiekis pavadinime.\n",
    "\n",
    "# Suraskite ilgiausią pavadinimą, nueikite į tą straipsnį.\n",
    "# suraskite 5-kis dažniausiai pasikartojančius žodžius, iliustruokite grafiškai.\n",
    "\n",
    "# Suskaičiuokite, kiek vidutiniškai turi žodžių straipsniai, esantys Kauno dienoje."
   ]
  },
  {
   "cell_type": "code",
   "execution_count": 50,
   "metadata": {},
   "outputs": [
    {
     "name": "stdout",
     "output_type": "stream",
     "text": [
      "Straipsnių skaičius: 28\n",
      "Vidutinis straipsnių pavadinimo žodžių skaičius: 9.107\n",
      "    žsk  rsk                                                pvd\n",
      "12   13   94  Auskarų vėrimo meistrė G. Balevičė – apie grož...\n",
      "9    13   93  Vilniaus rajone už daugiau nei 835 tūkst. eurų...\n",
      "18   13   89  Velso princesė ir princas pirmą kartą po jos c...\n"
     ]
    },
    {
     "data": {
      "image/png": "[encoded data removed]",
      "text/plain": [
       "<Figure size 640x480 with 1 Axes>"
      ]
     },
     "metadata": {},
     "output_type": "display_data"
    }
   ],
   "source": [
    "url = 'https://kauno.diena.lt/'\n",
    "page = requests.get(url)\n",
    "source = page.content\n",
    "bs = BeautifulSoup(source,'html.parser')\n",
    "# print(bs)\n",
    "straipsniai=bs.find_all('div',{'class':'category-block-row grid-12 alpha omega unscore'})\n",
    "# print(straipsniai)\n",
    "\n",
    "urlLst=[]\n",
    "žskLst=[]\n",
    "pvdLst=[]\n",
    "for s in straipsniai:\n",
    "    i=s.find('div',{'class':'articles-list-title-wrapper'})\n",
    "    if i is not None:\n",
    "        t=i.find('a',{'class':'articles-list-title'})\n",
    "        # print(t['href'])\n",
    "        # print(t.text)\n",
    "        urlElm=t['href'].split('/')\n",
    "        if urlElm[0]=='naujienos':\n",
    "            žodžiai=t.text.split()\n",
    "            urlLst.append(url+t['href'])\n",
    "            žskLst.append(len(žodžiai))\n",
    "            pvdLst.append(t.text)\n",
    "            # print(urlElm)\n",
    "            # print(len(žodžiai),žodžiai)\n",
    "\n",
    "df = pd.DataFrame()\n",
    "df['url']=urlLst # Straipsnio URL\n",
    "df['žsk']=žskLst # Straipsnio pavadinimo žodžių skaičius\n",
    "df['pvd']=pvdLst # Straipsnio pavadinimas\n",
    "df['rsk']=df['pvd'].str.len() # Straipsnio pavadinimo raidžių skaičius\n",
    "\n",
    "print('Straipsnių skaičius:',df['url'].size)\n",
    "print('Vidutinis straipsnių pavadinimo žodžių skaičius:',df['žsk'].mean().round(3))\n",
    "\n",
    "dfGroup=df.groupby('žsk').size()\n",
    "dfGroup.plot(kind='bar',xlabel='Žodžių skaičius pavadinime',ylabel='Dažnis')\n",
    "\n",
    "print(df[['žsk','rsk','pvd']].sort_values('rsk',ascending=False).head(3))\n"
   ]
  }
 ],
 "metadata": {
  "kernelspec": {
   "display_name": "Python 3",
   "language": "python",
   "name": "python3"
  },
  "language_info": {
   "codemirror_mode": {
    "name": "ipython",
    "version": 3
   },
   "file_extension": ".py",
   "mimetype": "text/x-python",
   "name": "python",
   "nbconvert_exporter": "python",
   "pygments_lexer": "ipython3",
   "version": "3.12.3"
  }
 },
 "nbformat": 4,
 "nbformat_minor": 2
}
