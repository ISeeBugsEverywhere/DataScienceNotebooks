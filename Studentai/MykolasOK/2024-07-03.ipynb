{
 "cells": [
  {
   "cell_type": "code",
   "execution_count": 1,
   "metadata": {},
   "outputs": [
    {
     "name": "stdout",
     "output_type": "stream",
     "text": [
      "2024-07-03\n",
      "\n"
     ]
    }
   ],
   "source": [
    "print('2024-07-03\\n')"
   ]
  },
  {
   "cell_type": "code",
   "execution_count": 2,
   "metadata": {},
   "outputs": [
    {
     "ename": "NameError",
     "evalue": "name 'C' is not defined",
     "output_type": "error",
     "traceback": [
      "\u001b[1;31m---------------------------------------------------------------------------\u001b[0m",
      "\u001b[1;31mNameError\u001b[0m                                 Traceback (most recent call last)",
      "Cell \u001b[1;32mIn[2], line 3\u001b[0m\n\u001b[0;32m      1\u001b[0m \u001b[38;5;66;03m#sql užklausos vykdymas per mysql/mariadb kursorių\u001b[39;00m\n\u001b[0;32m      2\u001b[0m sql\u001b[38;5;241m=\u001b[39m\u001b[38;5;124m\"\"\"\u001b[39m\u001b[38;5;124mselect gamintojas, rida, price, variklis, kuro_tipas from autopliuslt limit 5\u001b[39m\u001b[38;5;124m\"\"\"\u001b[39m\n\u001b[1;32m----> 3\u001b[0m \u001b[43mC\u001b[49m\u001b[38;5;241m.\u001b[39mexecute(sql)\n\u001b[0;32m      4\u001b[0m ans \u001b[38;5;241m=\u001b[39m C\u001b[38;5;241m.\u001b[39mfetchall()\n\u001b[0;32m      5\u001b[0m gam,rida,kaina,variklis,kuras \u001b[38;5;241m=\u001b[39m \u001b[38;5;28mzip\u001b[39m(\u001b[38;5;241m*\u001b[39mans)\n",
      "\u001b[1;31mNameError\u001b[0m: name 'C' is not defined"
     ]
    }
   ],
   "source": [
    "#sql užklausos vykdymas per mysql/mariadb kursorių\n",
    "sql=\"\"\"select gamintojas, rida, price, variklis, kuro_tipas from autopliuslt limit 5\"\"\"\n",
    "C.execute(sql)\n",
    "ans = C.fetchall()\n",
    "gam,rida,kaina,variklis,kuras = zip(*ans)\n",
    "#? = np.transpose(ans)\n",
    "print(ans)\n",
    "# print(variklis)\n",
    "# print(rida)\n",
    "\n",
    "def pout(a, limit=5):\n",
    "  if len(a) > limit:\n",
    "    print(f'Rodoma {limit} eilutės iš {len(a)}')\n",
    "  for k,i in enumerate(a):\n",
    "    if k > limit:\n",
    "      break\n",
    "    l = []\n",
    "    for k in i:\n",
    "      f = f'{str(k):^18.18}'\n",
    "      l.append(f)\n",
    "    t = '|'+'|'.join(l)+'|'\n",
    "    print(t)\n",
    "\n",
    "pout(ans)"
   ]
  },
  {
   "cell_type": "code",
   "execution_count": 17,
   "metadata": {},
   "outputs": [
    {
     "name": "stdout",
     "output_type": "stream",
     "text": [
      "4.0\n",
      "20.0\n",
      "22.0\n",
      "77.0\n",
      "6.0\n",
      "25.0\n"
     ]
    },
    {
     "ename": "AssertionError",
     "evalue": "Klaida: tuščia aibė!",
     "output_type": "error",
     "traceback": [
      "\u001b[1;31m---------------------------------------------------------------------------\u001b[0m",
      "\u001b[1;31mAssertionError\u001b[0m                            Traceback (most recent call last)",
      "Cell \u001b[1;32mIn[17], line 16\u001b[0m\n\u001b[0;32m     14\u001b[0m \u001b[38;5;28mprint\u001b[39m(vidurkis({\u001b[38;5;241m9\u001b[39m,\u001b[38;5;241m7\u001b[39m,\u001b[38;5;241m2\u001b[39m})) \u001b[38;5;66;03m# Set - unikalių elementų rinkinys.\u001b[39;00m\n\u001b[0;32m     15\u001b[0m \u001b[38;5;28mprint\u001b[39m(vidurkis({\u001b[38;5;124m'\u001b[39m\u001b[38;5;124m15\u001b[39m\u001b[38;5;124m'\u001b[39m,\u001b[38;5;124m'\u001b[39m\u001b[38;5;124m25\u001b[39m\u001b[38;5;124m'\u001b[39m,\u001b[38;5;124m'\u001b[39m\u001b[38;5;124m35\u001b[39m\u001b[38;5;124m'\u001b[39m})) \u001b[38;5;66;03m# Set.\u001b[39;00m\n\u001b[1;32m---> 16\u001b[0m \u001b[38;5;28mprint\u001b[39m(\u001b[43mvidurkis\u001b[49m\u001b[43m(\u001b[49m\u001b[43m[\u001b[49m\u001b[43m]\u001b[49m\u001b[43m)\u001b[49m) \u001b[38;5;66;03m# Empty list.\u001b[39;00m\n",
      "Cell \u001b[1;32mIn[17], line 4\u001b[0m, in \u001b[0;36mvidurkis\u001b[1;34m(duom)\u001b[0m\n\u001b[0;32m      3\u001b[0m \u001b[38;5;28;01mdef\u001b[39;00m \u001b[38;5;21mvidurkis\u001b[39m( duom ):\n\u001b[1;32m----> 4\u001b[0m     \u001b[38;5;28;01massert\u001b[39;00m \u001b[38;5;28mlen\u001b[39m(duom)\u001b[38;5;241m>\u001b[39m\u001b[38;5;241m0\u001b[39m, \u001b[38;5;124m'\u001b[39m\u001b[38;5;124mKlaida: tuščia aibė!\u001b[39m\u001b[38;5;124m'\u001b[39m\n\u001b[0;32m      5\u001b[0m     suma \u001b[38;5;241m=\u001b[39m \u001b[38;5;241m0\u001b[39m\n\u001b[0;32m      6\u001b[0m     \u001b[38;5;28;01mfor\u001b[39;00m x \u001b[38;5;129;01min\u001b[39;00m duom:\n",
      "\u001b[1;31mAssertionError\u001b[0m: Klaida: tuščia aibė!"
     ]
    }
   ],
   "source": [
    "# parašykite funkciją, kuri grąžintų vidurkį, jei jūs jai nurodote skaičių sąrašą (list) arba eilutę (tuple)\n",
    "\n",
    "def vidurkis( duom ):\n",
    "    assert len(duom)>0, 'Klaida: tuščia aibė!'\n",
    "    suma = 0\n",
    "    for x in duom:\n",
    "        suma += int(x)\n",
    "    return suma/len(duom)\n",
    "\n",
    "print(vidurkis([1,4,7])) # List - sunumeruotas įvairiatipių elementų sąrašas.\n",
    "print(vidurkis((10,20,30))) # Tuple - kaip 'list', tik nekintamas.\n",
    "print(vidurkis(['11','22','33'])) # List.\n",
    "print(vidurkis(('55','77','99'))) # Tuple.\n",
    "print(vidurkis({9,7,2})) # Set - unikalių elementų rinkinys.\n",
    "print(vidurkis({'15','25','35'})) # Set.\n",
    "print(vidurkis([])) # Empty list."
   ]
  }
 ],
 "metadata": {
  "kernelspec": {
   "display_name": "Python 3",
   "language": "python",
   "name": "python3"
  },
  "language_info": {
   "codemirror_mode": {
    "name": "ipython",
    "version": 3
   },
   "file_extension": ".py",
   "mimetype": "text/x-python",
   "name": "python",
   "nbconvert_exporter": "python",
   "pygments_lexer": "ipython3",
   "version": "3.12.4"
  }
 },
 "nbformat": 4,
 "nbformat_minor": 2
}
