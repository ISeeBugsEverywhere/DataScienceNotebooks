{
 "cells": [
  {
   "cell_type": "code",
   "execution_count": 14,
   "metadata": {},
   "outputs": [
    {
     "name": "stdout",
     "output_type": "stream",
     "text": [
      "Paskaita nr. 49, 2024-10-31 „Kintamųjų tipų deklaravimas ir tikrinimas“\n"
     ]
    }
   ],
   "source": [
    "print('Paskaita nr. 49, 2024-10-31 „Kintamųjų tipų deklaravimas ir tikrinimas“')\n",
    "\n",
    "# import typing as T\n",
    "\n",
    "# import numpy as np\n",
    "# import pandas as pd\n",
    "import matplotlib.pyplot as plt\n",
    "# import warnings\n",
    "# warnings.filterwarnings('ignore')\n",
    "# import seaborn as sns\n",
    "# import sqlite3\n",
    "# import mysql.connector as cnt\n",
    "# import plotly.express as px"
   ]
  },
  {
   "cell_type": "code",
   "execution_count": 2,
   "metadata": {},
   "outputs": [
    {
     "name": "stdout",
     "output_type": "stream",
     "text": [
      "False\n",
      "latex\n"
     ]
    }
   ],
   "source": [
    "def sfunkcija(s:str):\n",
    "    print(s.islower())\n",
    "    print(s.lower())\n",
    "\n",
    "sfunkcija('LaTeX')\n",
    "# sfunkcija(999) # AttributeError: 'int' object has no attribute 'islower'"
   ]
  },
  {
   "cell_type": "code",
   "execution_count": 3,
   "metadata": {},
   "outputs": [
    {
     "name": "stdout",
     "output_type": "stream",
     "text": [
      "LATEX\n"
     ]
    }
   ],
   "source": [
    "def sfunkcija(s:str):\n",
    "    if isinstance(s,str):\n",
    "        print(s.upper())\n",
    "    else:\n",
    "        raise TypeError('sfunkcija() parametras turi būti str tipo.')\n",
    "\n",
    "sfunkcija('LaTeX')\n",
    "# sfunkcija(999) # TypeError: sfunkcija() parametras turi būti str tipo."
   ]
  },
  {
   "cell_type": "code",
   "execution_count": 7,
   "metadata": {},
   "outputs": [
    {
     "name": "stdout",
     "output_type": "stream",
     "text": [
      "55\n",
      "2233\n"
     ]
    }
   ],
   "source": [
    "def suma(a:str|int,b:str|int):\n",
    "    print(a+b)\n",
    "\n",
    "suma(22,33)\n",
    "suma('22','33')\n",
    "# suma('22',33) # TypeError: can only concatenate str (not \"int\") to str"
   ]
  },
  {
   "cell_type": "code",
   "execution_count": 21,
   "metadata": {},
   "outputs": [
    {
     "name": "stdout",
     "output_type": "stream",
     "text": [
      "LaTeX titles for Subplots\n"
     ]
    },
    {
     "data": {
      "image/png": "[encoded data removed]",
      "text/plain": [
       "<Figure size 500x200 with 1 Axes>"
      ]
     },
     "metadata": {},
     "output_type": "display_data"
    }
   ],
   "source": [
    "print('LaTeX titles for Subplots')\n",
    "\n",
    "import matplotlib.pyplot as plt\n",
    "\n",
    "fig,axis=plt.subplots(figsize=(5,2))\n",
    "axis.set_xlabel(r'$jsc\\left[\\dfrac{mA}{cm^2}\\right]$')\n",
    "axis.set_ylabel(r'$U_{OC}\\left[V\\right]$')\n",
    "fig.tight_layout()\n",
    "plt.show()\n",
    "\n",
    "# https://matplotlib.org/stable/users/explain/text/usetex.html"
   ]
  },
  {
   "cell_type": "code",
   "execution_count": 24,
   "metadata": {},
   "outputs": [],
   "source": [
    "# globals()"
   ]
  },
  {
   "cell_type": "code",
   "execution_count": 46,
   "metadata": {},
   "outputs": [
    {
     "name": "stdout",
     "output_type": "stream",
     "text": [
      "Finding tests in Testas\n",
      "Trying:\n",
      "    suma(22,33)\n",
      "Expecting:\n",
      "    55\n",
      "ok\n",
      "Trying:\n",
      "    suma('22','33')\n",
      "Expecting:\n",
      "    '2233'\n",
      "ok\n",
      "Trying:\n",
      "    suma('22',33)\n",
      "Expecting:\n",
      "    Traceback (most recent call last):\n",
      "    TypeError: can only concatenate str (not \"int\") to str\n",
      "ok\n"
     ]
    }
   ],
   "source": [
    "import doctest\n",
    "\n",
    "def suma(a:str|int,b:str|int):\n",
    "    '''Dviejų skaičių suma\n",
    "    >>> suma(22,33)\n",
    "    55\n",
    "    >>> suma('22','33')\n",
    "    '2233'\n",
    "    >>> suma('22',33)\n",
    "    Traceback (most recent call last):\n",
    "    TypeError: can only concatenate str (not \"int\") to str\n",
    "    '''\n",
    "    return a+b\n",
    "\n",
    "doctest.run_docstring_examples(suma,verbose=True,globs=globals(),name='Testas')\n"
   ]
  },
  {
   "cell_type": "code",
   "execution_count": 44,
   "metadata": {},
   "outputs": [
    {
     "name": "stdout",
     "output_type": "stream",
     "text": [
      "55\n",
      "2233\n"
     ]
    }
   ],
   "source": [
    "print(suma(22,33))\n",
    "print(suma('22','33'))\n",
    "# print(suma('22',33)) # TypeError: can only concatenate str (not \"int\") to str"
   ]
  },
  {
   "cell_type": "code",
   "execution_count": 45,
   "metadata": {},
   "outputs": [
    {
     "name": "stdout",
     "output_type": "stream",
     "text": [
      "Trying:\n",
      "    add(1,2)\n",
      "Expecting:\n",
      "    3\n",
      "ok\n",
      "Trying:\n",
      "    add(5,-4)\n",
      "Expecting:\n",
      "    1\n",
      "ok\n",
      "Trying:\n",
      "    add(0,0)\n",
      "Expecting:\n",
      "    0\n",
      "ok\n",
      "Trying:\n",
      "    add(5,'5')\n",
      "Expecting:\n",
      "    Traceback (most recent call last):\n",
      "    TypeError: unsupported operand type(s) for +: 'int' and 'str'\n",
      "ok\n",
      "Trying:\n",
      "    suma(22,33)\n",
      "Expecting:\n",
      "    55\n",
      "ok\n",
      "Trying:\n",
      "    suma('22','33')\n",
      "Expecting:\n",
      "    '2233'\n",
      "ok\n",
      "Trying:\n",
      "    suma('22',33)\n",
      "Expecting:\n",
      "    Traceback (most recent call last):\n",
      "    TypeError: can only concatenate str (not \"int\") to str\n",
      "ok\n",
      "2 items had no tests:\n",
      "    __main__\n",
      "    __main__.sfunkcija\n",
      "2 items passed all tests:\n",
      "   4 tests in __main__.add\n",
      "   3 tests in __main__.suma\n",
      "7 tests in 4 items.\n",
      "7 passed and 0 failed.\n",
      "Test passed.\n"
     ]
    }
   ],
   "source": [
    "import doctest\n",
    " \n",
    "def add(x, y):\n",
    "    '''sums up two digits\n",
    "    >>> add(1,2)\n",
    "    3\n",
    "    >>> add(5,-4)\n",
    "    1\n",
    "    >>> add(0,0)\n",
    "    0\n",
    "    >>> add(5,'5')\n",
    "    Traceback (most recent call last):\n",
    "    TypeError: unsupported operand type(s) for +: 'int' and 'str'\n",
    "    '''\n",
    "    return x + y\n",
    " \n",
    " \n",
    "if __name__ == '__main__':\n",
    "    doctest.testmod(verbose=True, globs=globals(), report=True)"
   ]
  },
  {
   "cell_type": "code",
   "execution_count": 41,
   "metadata": {},
   "outputs": [
    {
     "name": "stdout",
     "output_type": "stream",
     "text": [
      "__main__\n"
     ]
    }
   ],
   "source": [
    "print(__name__)"
   ]
  },
  {
   "cell_type": "code",
   "execution_count": 29,
   "metadata": {},
   "outputs": [],
   "source": [
    "# Užduotis 1: Funkcija, kuri tikrina, ar skaičius yra nelyginis\n",
    "\n",
    "def nelyginis(x:int):\n",
    "    '''ar skaičius yra nelyginis\n",
    "    >>> nelyginis(-999)\n",
    "    True\n",
    "    >>> nelyginis(-888)\n",
    "    False\n",
    "    >>> nelyginis(0)\n",
    "    False\n",
    "    >>> nelyginis(888)\n",
    "    False\n",
    "    >>> nelyginis(999)\n",
    "    True\n",
    "    >>> nelyginis('444')\n",
    "    Traceback (most recent call last):\n",
    "    TypeError: not all arguments converted during string formatting\n",
    "    >>> nelyginis([2,3])\n",
    "    Traceback (most recent call last):\n",
    "    TypeError: '%' not supported between instances of 'list' and 'int'\n",
    "    >>> nelyginis(None)\n",
    "    Traceback (most recent call last):\n",
    "    TypeError: unsupported operand type(s) for %: 'NoneType' and 'int'\n",
    "    >>> nelyginis()\n",
    "    Traceback (most recent call last):\n",
    "    TypeError: nelyginis() missing 1 required positional argument: 'x'\n",
    "    '''\n",
    "    return x % 2"
   ]
  },
  {
   "cell_type": "code",
   "execution_count": 30,
   "metadata": {},
   "outputs": [],
   "source": [
    "# Užduotis 2: Funkcija, kuri tikrina, ar skaičius yra teigiamas\n",
    "\n",
    "def teigiamas(x:int):\n",
    "    '''ar skaičius yra teigiamas\n",
    "    >>> teigiamas(-999)\n",
    "    False\n",
    "    >>> teigiamas(-888)\n",
    "    False\n",
    "    >>> teigiamas(0)\n",
    "    False\n",
    "    >>> teigiamas(888)\n",
    "    True\n",
    "    >>> teigiamas(999)\n",
    "    True\n",
    "    >>> teigiamas('444')\n",
    "    Traceback (most recent call last):\n",
    "    TypeError: '>' not supported between instances of 'str' and 'int'\n",
    "    >>> teigiamas([2,3])\n",
    "    Traceback (most recent call last):\n",
    "    TypeError: '>' not supported between instances of 'list' and 'int'\n",
    "    >>> teigiamas(None)\n",
    "    Traceback (most recent call last):\n",
    "    TypeError: '>' not supported between instances of 'NoneType' and 'int'\n",
    "    >>> teigiamas()\n",
    "    Traceback (most recent call last):\n",
    "    TypeError: teigiamas() missing 1 required positional argument: 'x'\n",
    "    '''\n",
    "    return x>0"
   ]
  },
  {
   "cell_type": "code",
   "execution_count": 26,
   "metadata": {},
   "outputs": [],
   "source": [
    "# Užduotis 3: Funkcija, kuri tikrina, ar skaičius yra neigiamas\n",
    "\n",
    "def neigiamas(x:int):\n",
    "    '''ar skaičius yra neigiamas\n",
    "    >>> neigiamas(-999)\n",
    "    True\n",
    "    >>> neigiamas(-888)\n",
    "    True\n",
    "    >>> neigiamas(0)\n",
    "    False\n",
    "    >>> neigiamas(888)\n",
    "    False\n",
    "    >>> neigiamas(999)\n",
    "    False\n",
    "    >>> neigiamas('444')\n",
    "    Traceback (most recent call last):\n",
    "    TypeError: '<' not supported between instances of 'str' and 'int'\n",
    "    >>> neigiamas([2,3])\n",
    "    Traceback (most recent call last):\n",
    "    TypeError: '<' not supported between instances of 'list' and 'int'\n",
    "    >>> neigiamas(None)\n",
    "    Traceback (most recent call last):\n",
    "    TypeError: '<' not supported between instances of 'NoneType' and 'int'\n",
    "    >>> neigiamas()\n",
    "    Traceback (most recent call last):\n",
    "    TypeError: neigiamas() missing 1 required positional argument: 'x'\n",
    "    '''\n",
    "    return x<0"
   ]
  },
  {
   "cell_type": "code",
   "execution_count": 43,
   "metadata": {},
   "outputs": [],
   "source": [
    "# Užduotis 4: Funkcija, kuri tikrina, ar tekstas yra tuščias\n",
    "\n",
    "def tuščias(s:str):\n",
    "    '''ar tekstas yra tuščias\n",
    "    >>> tuščias('abc')\n",
    "    False\n",
    "    >>> tuščias('')\n",
    "    True\n",
    "    >>> tuščias('  ')\n",
    "    False\n",
    "    >>> tuščias(0)\n",
    "    Traceback (most recent call last):\n",
    "    AttributeError: 'int' object has no attribute 'strip'\n",
    "    >>> tuščias(999)\n",
    "    Traceback (most recent call last):\n",
    "    AttributeError: 'int' object has no attribute 'strip'\n",
    "    >>> tuščias([2,3])\n",
    "    Traceback (most recent call last):\n",
    "    AttributeError: 'list' object has no attribute 'strip'\n",
    "    >>> tuščias(None)\n",
    "    Traceback (most recent call last):\n",
    "    AttributeError: 'NoneType' object has no attribute 'strip'\n",
    "    >>> tuščias()\n",
    "    Traceback (most recent call last):\n",
    "    TypeError: tuščias() missing 1 required positional argument: 's'\n",
    "    '''\n",
    "    s.strip()\n",
    "    return not s"
   ]
  },
  {
   "cell_type": "code",
   "execution_count": 59,
   "metadata": {},
   "outputs": [],
   "source": [
    "# Užduotis 5: Funkcija, kuri tikrina, ar tekstas prasideda tam tikra raide\n",
    "\n",
    "def prasideda(s:str,c:chr):\n",
    "    '''ar tekstas prasideda tam tikra raide\n",
    "    >>> prasideda('abc','a')\n",
    "    True\n",
    "    >>> prasideda('abc','b')\n",
    "    False\n",
    "    >>> prasideda('abc','A')\n",
    "    False\n",
    "    >>> prasideda('Abc','a')\n",
    "    False\n",
    "    >>> prasideda('','')\n",
    "    Traceback (most recent call last):\n",
    "    IndexError: string index out of range\n",
    "    >>> prasideda('')\n",
    "    Traceback (most recent call last):\n",
    "    TypeError: prasideda() missing 1 required positional argument: 'c'\n",
    "    >>> prasideda()\n",
    "    Traceback (most recent call last):\n",
    "    TypeError: prasideda() missing 2 required positional arguments: 's' and 'c'\n",
    "    >>> prasideda(['a','b'],['c','d'])\n",
    "    Traceback (most recent call last):\n",
    "    AttributeError: 'list' object has no attribute 'strip'\n",
    "    >>> prasideda(None)\n",
    "    Traceback (most recent call last):\n",
    "    AttributeError: 'NoneType' object has no attribute 'strip'\n",
    "    >>> prasideda()\n",
    "    Traceback (most recent call last):\n",
    "    TypeError: prasideda() missing 2 required positional arguments: 's' and 'c'\n",
    "    '''\n",
    "    s=s.strip()\n",
    "    c=c.strip()\n",
    "    return s[0]==c"
   ]
  },
  {
   "cell_type": "code",
   "execution_count": 69,
   "metadata": {},
   "outputs": [],
   "source": [
    "# Užduotis 6: Funkcija, kuri suranda pateikto skaičių sąrašo vidurkį (len, sum naudoti viduje)\n",
    "\n",
    "def vidurkis(a:list):\n",
    "    '''skaičių sąrašo vidurkis\n",
    "    >>> vidurkis([15,16,17,18])\n",
    "    16.5\n",
    "    >>> vidurkis([99])\n",
    "    99.0\n",
    "    >>> vidurkis([0])\n",
    "    0.0\n",
    "    >>> vidurkis([-15,0,-17,18])\n",
    "    -3.5\n",
    "    >>> vidurkis([-99])\n",
    "    -99.0\n",
    "    >>> vidurkis([])\n",
    "    Traceback (most recent call last):\n",
    "    ZeroDivisionError: division by zero\n",
    "    >>> vidurkis(None)\n",
    "    Traceback (most recent call last):\n",
    "    TypeError: 'NoneType' object is not iterable\n",
    "    >>> vidurkis()\n",
    "    Traceback (most recent call last):\n",
    "    TypeError: vidurkis() missing 1 required positional argument: 'a'\n",
    "    '''\n",
    "    return sum(a)/len(a)"
   ]
  },
  {
   "cell_type": "code",
   "execution_count": 79,
   "metadata": {},
   "outputs": [],
   "source": [
    "# 7. Funkcija grąžina didžiausią sąrašo elementą.\n",
    "\n",
    "def didžiausią(a:list):\n",
    "    '''didžiausias sąrašo elementas\n",
    "    >>> didžiausią([15,16,17,18])\n",
    "    18\n",
    "    >>> didžiausią([99])\n",
    "    99\n",
    "    >>> didžiausią([0])\n",
    "    0\n",
    "    >>> didžiausią([-15,0,-17,28])\n",
    "    28\n",
    "    >>> didžiausią([-99])\n",
    "    -99\n",
    "    >>> didžiausią([])\n",
    "    Traceback (most recent call last):\n",
    "    ValueError: max() iterable argument is empty\n",
    "    >>> didžiausią(None)\n",
    "    Traceback (most recent call last):\n",
    "    TypeError: 'NoneType' object is not iterable\n",
    "    >>> didžiausią()\n",
    "    Traceback (most recent call last):\n",
    "    TypeError: didžiausią() missing 1 required positional argument: 'a'\n",
    "    '''\n",
    "    return max(a)"
   ]
  },
  {
   "cell_type": "code",
   "execution_count": 92,
   "metadata": {},
   "outputs": [],
   "source": [
    "# 8. Funkcija apverčia duotą eilutę.\n",
    "\n",
    "def apverčia(s:str):\n",
    "    '''apverčia duotą eilutę\n",
    "    >>> apverčia('LaTeX')\n",
    "    'XeTaL'\n",
    "    >>> apverčia('LaTeX ')\n",
    "    ' XeTaL'\n",
    "    >>> apverčia('a')\n",
    "    'a'\n",
    "    >>> apverčia('')\n",
    "    ''\n",
    "    >>> apverčia('  ')\n",
    "    '  '\n",
    "    >>> apverčia(0)\n",
    "    Traceback (most recent call last):\n",
    "    AttributeError: 'int' object has no attribute 'strip'\n",
    "    >>> apverčia(999)\n",
    "    Traceback (most recent call last):\n",
    "    AttributeError: 'int' object has no attribute 'strip'\n",
    "    >>> apverčia([2,3])\n",
    "    Traceback (most recent call last):\n",
    "    AttributeError: 'list' object has no attribute 'strip'\n",
    "    >>> apverčia(None)\n",
    "    Traceback (most recent call last):\n",
    "    AttributeError: 'NoneType' object has no attribute 'strip'\n",
    "    >>> apverčia()\n",
    "    Traceback (most recent call last):\n",
    "    TypeError: apverčia() missing 1 required positional argument: 's'\n",
    "    '''\n",
    "    s.strip()\n",
    "    return s[::-1]"
   ]
  },
  {
   "cell_type": "code",
   "execution_count": 125,
   "metadata": {},
   "outputs": [],
   "source": [
    "# 9. Funkcija apskaičiuoja faktorialą.\n",
    "\n",
    "def faktorialas(x:int):\n",
    "    '''apskaičiuoja faktorialą\n",
    "    >>> faktorialas(1)\n",
    "    1\n",
    "    >>> faktorialas(10)\n",
    "    3628800\n",
    "    >>> faktorialas(0)\n",
    "    Traceback (most recent call last):\n",
    "    TypeError: faktorialas() parametras turi būti natūralus skaičius.\n",
    "    >>> faktorialas(-1)\n",
    "    Traceback (most recent call last):\n",
    "    TypeError: faktorialas() parametras turi būti natūralus skaičius.\n",
    "    >>> faktorialas(-9)\n",
    "    Traceback (most recent call last):\n",
    "    TypeError: faktorialas() parametras turi būti natūralus skaičius.\n",
    "    >>> faktorialas('444')\n",
    "    Traceback (most recent call last):\n",
    "    TypeError: faktorialas() parametras turi būti natūralus skaičius.\n",
    "    >>> faktorialas([2,3])\n",
    "    Traceback (most recent call last):\n",
    "    TypeError: faktorialas() parametras turi būti natūralus skaičius.\n",
    "    >>> faktorialas(None)\n",
    "    Traceback (most recent call last):\n",
    "    TypeError: faktorialas() parametras turi būti natūralus skaičius.\n",
    "    >>> faktorialas()\n",
    "    Traceback (most recent call last):\n",
    "    TypeError: faktorialas() missing 1 required positional argument: 'x'\n",
    "    '''\n",
    "    if not isinstance(x,int) or x<1 :\n",
    "        raise TypeError(\"faktorialas() parametras turi būti natūralus skaičius\")\n",
    "    else:\n",
    "        if x>1:\n",
    "            return x*faktorialas(x-1)\n",
    "        elif x==1:\n",
    "            return 1\n",
    "        else:\n",
    "            raise TypeError('Neidentifikuota faktorialas() parametro klaida.')"
   ]
  },
  {
   "cell_type": "code",
   "execution_count": 164,
   "metadata": {},
   "outputs": [],
   "source": [
    "# 10. Funkcija grąžina Fibonacci seką iki n-tosios reikšmės.\n",
    "\n",
    "def fibonSeka(x:int):\n",
    "    '''Fibonacci seka iki n-tosios reikšmės\n",
    "    >>> fibonSeka(1)\n",
    "    1\n",
    "    >>> fibonSeka(25)\n",
    "    75025\n",
    "    >>> fibonSeka(0)\n",
    "    Traceback (most recent call last):\n",
    "    TypeError: fibonSeka() parametras turi būti natūralus skaičius.\n",
    "    >>> fibonSeka(-1)\n",
    "    Traceback (most recent call last):\n",
    "    TypeError: fibonSeka() parametras turi būti natūralus skaičius.\n",
    "    >>> fibonSeka(-25)\n",
    "    Traceback (most recent call last):\n",
    "    TypeError: fibonSeka() parametras turi būti natūralus skaičius.\n",
    "    >>> fibonSeka('444')\n",
    "    Traceback (most recent call last):\n",
    "    TypeError: fibonSeka() parametras turi būti natūralus skaičius.\n",
    "    >>> fibonSeka([2,3])\n",
    "    Traceback (most recent call last):\n",
    "    TypeError: fibonSeka() parametras turi būti natūralus skaičius.\n",
    "    >>> fibonSeka(None)\n",
    "    Traceback (most recent call last):\n",
    "    TypeError: fibonSeka() parametras turi būti natūralus skaičius.\n",
    "    >>> fibonSeka()\n",
    "    Traceback (most recent call last):\n",
    "    TypeError: fibonSeka() missing 1 required positional argument: 'x'\n",
    "    '''\n",
    "    if not isinstance(x,int) or x<1 :\n",
    "        raise TypeError(\"fibonSeka() parametras turi būti natūralus skaičius\")\n",
    "    else:\n",
    "        a, b = 0, 1\n",
    "        for i in range(x-1):\n",
    "            # print(a,end=', ')\n",
    "            a, b = b, a + b\n",
    "        return(b)"
   ]
  },
  {
   "cell_type": "code",
   "execution_count": 9,
   "metadata": {},
   "outputs": [],
   "source": [
    "import time\n",
    "\n",
    "# Žemiau - keli Fibonacci skačiavimo metodai.\n",
    "\n",
    "n = 30"
   ]
  },
  {
   "cell_type": "code",
   "execution_count": 10,
   "metadata": {},
   "outputs": [
    {
     "name": "stdout",
     "output_type": "stream",
     "text": [
      "fib(29)=514229, fib(30)=832040\n",
      "fib(30) vykdyta 1 ms\n"
     ]
    }
   ],
   "source": [
    "# Ciklas.\n",
    "\n",
    "start_time = time.time()\n",
    "\n",
    "a, b = 0, 1\n",
    "for i in range(n-1):\n",
    "   # print(a,end=', ')\n",
    "   a, b = b, a + b\n",
    "\n",
    "print(f\"fib({n-1})={a}, fib({n})={b}\")\n",
    "\n",
    "exec_time=round((time.time()-start_time)*1000)\n",
    "\n",
    "print(f\"fib({n}) vykdyta {exec_time} ms\")\n",
    "\n",
    "# hp EliteBook, 8GB, Intel Core i5-4200U, cpubenchmark.net 2181\n",
    "# fib(40) vykdyta 0 ms\n",
    "# fib(41) vykdyta 1 ms\n",
    "# fib(2000) vykdyta 1 ms\n",
    "# fib(2500) vykdyta 1 ms\n",
    "# fib(5000) vykdyta 8 ms\n",
    "# fib(11000) vykdyta 8 ms"
   ]
  },
  {
   "cell_type": "code",
   "execution_count": 11,
   "metadata": {},
   "outputs": [
    {
     "name": "stdout",
     "output_type": "stream",
     "text": [
      "fib_dynamic(30)=832040\n",
      "fib_dynamic(30) vykdyta 0 ms\n"
     ]
    }
   ],
   "source": [
    "# Žodymno pildymas\n",
    "\n",
    "start_time = time.time()\n",
    "\n",
    "memo = {0:0,1:1} \n",
    "def fib_dynamic(n):\n",
    "    if n in memo:\n",
    "        return memo[n]\n",
    "    memo[n] = fib_dynamic(n-1) + fib_dynamic(n-2)   \n",
    "    return memo[n]\n",
    "\n",
    "print(f\"fib_dynamic({n})={fib_dynamic(n)}\")\n",
    "\n",
    "exec_time=round((time.time()-start_time)*1000)\n",
    "print(f\"fib_dynamic({n}) vykdyta {exec_time} ms\")\n",
    "\n",
    "# hp EliteBook, 8GB, Intel Core i5-4200U, cpubenchmark.net 2181\n",
    "# fib_dynamic(40) vykdyta 1 ms\n",
    "# fib_dynamic(2000) vykdyta 4 ms\n",
    "# fib_dynamic(2500) vykdyta 3 ms\n",
    "# fib_dynamic(3000) RecursionError: maximum recursion depth exceeded\n",
    "# fib_dynamic(11000) RecursionError: maximum recursion depth exceeded"
   ]
  },
  {
   "cell_type": "code",
   "execution_count": 13,
   "metadata": {},
   "outputs": [
    {
     "name": "stdout",
     "output_type": "stream",
     "text": [
      "fib_recur(30)=832040\n",
      "fib_recur(30) vykdyta 293 ms\n"
     ]
    }
   ],
   "source": [
    "# Rekursija\n",
    "\n",
    "# 8GB, Intel Core i5-4200U, cpubenchmark.net 2181: n=40 ~30s !!!\n",
    "\n",
    "start_time = time.time()\n",
    "\n",
    "def fib_recur(n):\n",
    "   if n <= 1:\n",
    "       return n\n",
    "   else:\n",
    "       return fib_recur(n-1)+fib_recur(n-2)\n",
    "\n",
    "print(f\"fib_recur({n})={fib_recur(n)}\")\n",
    "\n",
    "exec_time=round((time.time()-start_time)*1000)\n",
    "\n",
    "print(f\"fib_recur({n}) vykdyta {exec_time} ms\")\n",
    "\n",
    "# hp EliteBook, 8GB, Intel Core i5-4200U, cpubenchmark.net 2181\n",
    "# fib_recur(40) vykdyta 29207 ms\n",
    "# fib_recur(41) vykdyta 40973 ms"
   ]
  }
 ],
 "metadata": {
  "kernelspec": {
   "display_name": "Python 3",
   "language": "python",
   "name": "python3"
  },
  "language_info": {
   "codemirror_mode": {
    "name": "ipython",
    "version": 3
   },
   "file_extension": ".py",
   "mimetype": "text/x-python",
   "name": "python",
   "nbconvert_exporter": "python",
   "pygments_lexer": "ipython3",
   "version": "3.12.3"
  }
 },
 "nbformat": 4,
 "nbformat_minor": 2
}
