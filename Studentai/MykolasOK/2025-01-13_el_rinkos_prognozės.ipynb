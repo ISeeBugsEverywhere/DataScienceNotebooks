{
 "cells": [
  {
   "cell_type": "code",
   "execution_count": 1,
   "metadata": {},
   "outputs": [
    {
     "name": "stdout",
     "output_type": "stream",
     "text": [
      "['b2b_gv_vartojimas.xlsx', 'b2b_ngv_vartojimas.xlsx', 'b2c_gv_vartojimas.xlsx', 'b2c_ngv_vartojimas.xlsx', 'REGRESIJOS.pdf', 'Uzduotis.txt']\n",
      "77 paskaita. Pasiruošta 2025-01-13 18:27:58\n"
     ]
    }
   ],
   "source": [
    "from datetime import datetime as dt\n",
    "from os import listdir\n",
    "import pandas as pd\n",
    "import numpy as np\n",
    "\n",
    "data_dir=\"../../../duomenys/elektros_paklausa/\"; # print(listdir(csv_dir))\n",
    "data_files=['b2b_gv_vartojimas.xlsx', 'b2c_gv_vartojimas.xlsx', 'b2c_ngv_vartojimas.xlsx', 'b2b_ngv_vartojimas.xlsx']\n",
    "date_cols=['data_valanda', 'dateTime', 'dateTime', 'data_valanda']\n",
    "\n",
    "print(listdir(data_dir))\n",
    "\n",
    "print('77 paskaita. Pasiruošta',dt.now().replace(microsecond=0))"
   ]
  }
 ],
 "metadata": {
  "kernelspec": {
   "display_name": "Python 3",
   "language": "python",
   "name": "python3"
  },
  "language_info": {
   "codemirror_mode": {
    "name": "ipython",
    "version": 3
   },
   "file_extension": ".py",
   "mimetype": "text/x-python",
   "name": "python",
   "nbconvert_exporter": "python",
   "pygments_lexer": "ipython3",
   "version": "3.12.4"
  }
 },
 "nbformat": 4,
 "nbformat_minor": 2
}
