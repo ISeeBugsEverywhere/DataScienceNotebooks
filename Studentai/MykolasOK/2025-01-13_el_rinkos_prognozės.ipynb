{
 "cells": [
  {
   "cell_type": "code",
   "execution_count": 1,
   "metadata": {},
   "outputs": [
    {
     "name": "stdout",
     "output_type": "stream",
     "text": [
      "['b2b_gv_vartojimas.xlsx', 'b2b_ngv_vartojimas.xlsx', 'b2c_gv_vartojimas.xlsx', 'b2c_ngv_vartojimas.xlsx', 'ML_Nordpool.docx', 'REGRESIJOS.pdf', 'Uzduotis.txt']\n",
      "77 paskaita. Pasiruošta 2025-01-15 20:57:24\n"
     ]
    }
   ],
   "source": [
    "from datetime import datetime as dt\n",
    "import os \n",
    "import pandas as pd\n",
    "import numpy as np\n",
    "\n",
    "data_dir=\"../../../duomenys/elektros_paklausa/\"\n",
    "data_files=['b2b_gv_vartojimas.xlsx', 'b2c_gv_vartojimas.xlsx', 'b2c_ngv_vartojimas.xlsx', 'b2b_ngv_vartojimas.xlsx']\n",
    "date_cols=['data_valanda', 'dateTime', 'dateTime', 'data_valanda']\n",
    "\n",
    "print(os.listdir(data_dir))\n",
    "\n",
    "print('77 paskaita. Pasiruošta',dt.now().replace(microsecond=0))\n",
    "\n",
    "# Vienu metu rašyti keliose vietose: Alt-Left, pele pažymimos kelios kursoriaus vietos."
   ]
  },
  {
   "cell_type": "code",
   "execution_count": 2,
   "metadata": {},
   "outputs": [
    {
     "name": "stdout",
     "output_type": "stream",
     "text": [
      "Duomenys iš failų įkeliami į 'df_list[]'.  2025-01-13 21:51:54\n",
      "../../../duomenys/elektros_paklausa/b2b_gv_vartojimas.xlsx įkelta (8760, 764) eil. x stulp.\n",
      "../../../duomenys/elektros_paklausa/b2c_gv_vartojimas.xlsx įkelta (2185, 1051) eil. x stulp.\n",
      "../../../duomenys/elektros_paklausa/b2c_ngv_vartojimas.xlsx įkelta (2185, 1027) eil. x stulp.\n",
      "../../../duomenys/elektros_paklausa/b2b_ngv_vartojimas.xlsx įkelta (8760, 800) eil. x stulp.\n"
     ]
    }
   ],
   "source": [
    "print(\"Duomenys iš failų įkeliami į 'df_list[]'. \",dt.now().replace(microsecond=0))\n",
    "\n",
    "# final_df = pd.DataFrame()\n",
    "df_list = []\n",
    "\n",
    "# for index, file in enumerate(data_files):\n",
    "    \n",
    "for file in data_files:\n",
    "    print(f'{data_dir}{file}',end=' ')\n",
    "    df = pd.read_excel(f'{data_dir}{file}')\n",
    "    # df['datetime'] = pd.to_datetime(df[[date_cols[index]]])\n",
    "    # df['hour'] = df['datetime'].dt.hour\n",
    "    # df['cos_hour'] = np.cos(2 * np.pi * df['hour'] % 24 / 24)\n",
    "    \n",
    "    df_list.append(df)\n",
    "    # df = df[['hour', 'cos_hour', 'air_temperature']]  # Pasirenkame reikiamus stulpelius\n",
    "    # final_df = pd.concat([final_df, df], ignore_index=True)\n",
    "    \n",
    "    print(f'įkelta {df.shape} eil. x stulp.')\n",
    "    # print(df.head(1))"
   ]
  },
  {
   "cell_type": "code",
   "execution_count": 3,
   "metadata": {},
   "outputs": [
    {
     "name": "stdout",
     "output_type": "stream",
     "text": [
      "Tvarkomi datų įrašai, df.set_index()\n",
      "(Nekartoti, nes ištrina originalius datos stulpelius)\n",
      "2025-01-13 21:56:55\n"
     ]
    }
   ],
   "source": [
    "print('Tvarkomi datų įrašai, df.set_index()') # pridedami valandų, cos(), sav. d. stulpeliai\n",
    "print('(Nekartoti, nes ištrina originalius datos stulpelius)')\n",
    "print(dt.now().replace(microsecond=0))\n",
    "\n",
    "for index, df in enumerate(df_list):\n",
    "    # print(date_cols[index])\n",
    "\n",
    "    df['datetime'] = pd.to_datetime(df[date_cols[index]])\n",
    "    del df[date_cols[index]]\n",
    "\n",
    "    df.dropna(subset=['datetime'], inplace=True)  # Pašaliname 'NaN' iš 'datetime'\n",
    "    df.set_index('datetime', inplace=True, verify_integrity=True)  # Nustatome indeksą\n",
    "\n",
    "    # df['hour'] = df['datetime'].dt.hour\n",
    "    # df['weekday'] = df['datetime'].dt.weekday\n",
    "    # df['cos_hour'] = np.cos(2 * np.pi * df['hour'] % 24 / 24)\n",
    "    \n",
    "    # print(df.head(1)) "
   ]
  },
  {
   "cell_type": "code",
   "execution_count": 4,
   "metadata": {},
   "outputs": [
    {
     "ename": "KeyError",
     "evalue": "'datetime'",
     "output_type": "error",
     "traceback": [
      "\u001b[1;31m---------------------------------------------------------------------------\u001b[0m",
      "\u001b[1;31mKeyError\u001b[0m                                  Traceback (most recent call last)",
      "File \u001b[1;32m~\\AppData\\Roaming\\Python\\Python312\\site-packages\\pandas\\core\\indexes\\base.py:3805\u001b[0m, in \u001b[0;36mIndex.get_loc\u001b[1;34m(self, key)\u001b[0m\n\u001b[0;32m   3804\u001b[0m \u001b[38;5;28;01mtry\u001b[39;00m:\n\u001b[1;32m-> 3805\u001b[0m     \u001b[38;5;28;01mreturn\u001b[39;00m \u001b[38;5;28;43mself\u001b[39;49m\u001b[38;5;241;43m.\u001b[39;49m\u001b[43m_engine\u001b[49m\u001b[38;5;241;43m.\u001b[39;49m\u001b[43mget_loc\u001b[49m\u001b[43m(\u001b[49m\u001b[43mcasted_key\u001b[49m\u001b[43m)\u001b[49m\n\u001b[0;32m   3806\u001b[0m \u001b[38;5;28;01mexcept\u001b[39;00m \u001b[38;5;167;01mKeyError\u001b[39;00m \u001b[38;5;28;01mas\u001b[39;00m err:\n",
      "File \u001b[1;32mindex.pyx:167\u001b[0m, in \u001b[0;36mpandas._libs.index.IndexEngine.get_loc\u001b[1;34m()\u001b[0m\n",
      "File \u001b[1;32mindex.pyx:196\u001b[0m, in \u001b[0;36mpandas._libs.index.IndexEngine.get_loc\u001b[1;34m()\u001b[0m\n",
      "File \u001b[1;32mpandas\\\\_libs\\\\hashtable_class_helper.pxi:7081\u001b[0m, in \u001b[0;36mpandas._libs.hashtable.PyObjectHashTable.get_item\u001b[1;34m()\u001b[0m\n",
      "File \u001b[1;32mpandas\\\\_libs\\\\hashtable_class_helper.pxi:7089\u001b[0m, in \u001b[0;36mpandas._libs.hashtable.PyObjectHashTable.get_item\u001b[1;34m()\u001b[0m\n",
      "\u001b[1;31mKeyError\u001b[0m: 'datetime'",
      "\nThe above exception was the direct cause of the following exception:\n",
      "\u001b[1;31mKeyError\u001b[0m                                  Traceback (most recent call last)",
      "Cell \u001b[1;32mIn[4], line 12\u001b[0m\n\u001b[0;32m      6\u001b[0m filtered_df_list \u001b[38;5;241m=\u001b[39m []\n\u001b[0;32m      7\u001b[0m \u001b[38;5;28;01mfor\u001b[39;00m df \u001b[38;5;129;01min\u001b[39;00m df_list:\n\u001b[0;32m      8\u001b[0m     \n\u001b[0;32m      9\u001b[0m     \u001b[38;5;66;03m# Visus skaičius ir str verčiu pd.to_numeric.\u001b[39;00m\n\u001b[0;32m     10\u001b[0m     \u001b[38;5;66;03m# df.loc[:, df.select_dtypes(include=['number', 'object']).columns] = df.select_dtypes(include=['number', 'object']).apply(pd.to_numeric, errors='coerce')\u001b[39;00m\n\u001b[1;32m---> 12\u001b[0m     filtered_df\u001b[38;5;241m=\u001b[39mdf[( start_date \u001b[38;5;241m<\u001b[39m\u001b[38;5;241m=\u001b[39m \u001b[43mdf\u001b[49m\u001b[43m[\u001b[49m\u001b[38;5;124;43m'\u001b[39;49m\u001b[38;5;124;43mdatetime\u001b[39;49m\u001b[38;5;124;43m'\u001b[39;49m\u001b[43m]\u001b[49m )\u001b[38;5;241m&\u001b[39m( df[\u001b[38;5;124m'\u001b[39m\u001b[38;5;124mdatetime\u001b[39m\u001b[38;5;124m'\u001b[39m] \u001b[38;5;241m<\u001b[39m\u001b[38;5;241m=\u001b[39m end_date )]\n\u001b[0;32m     13\u001b[0m     df[\u001b[38;5;124m'\u001b[39m\u001b[38;5;124msum\u001b[39m\u001b[38;5;124m'\u001b[39m] \u001b[38;5;241m=\u001b[39m df\u001b[38;5;241m.\u001b[39mselect_dtypes(include\u001b[38;5;241m=\u001b[39m\u001b[38;5;124m'\u001b[39m\u001b[38;5;124mnumber\u001b[39m\u001b[38;5;124m'\u001b[39m)\u001b[38;5;241m.\u001b[39msum(axis\u001b[38;5;241m=\u001b[39m\u001b[38;5;241m1\u001b[39m)\n\u001b[0;32m     16\u001b[0m     filtered_df_list\u001b[38;5;241m.\u001b[39mappend()\n",
      "File \u001b[1;32m~\\AppData\\Roaming\\Python\\Python312\\site-packages\\pandas\\core\\frame.py:4102\u001b[0m, in \u001b[0;36mDataFrame.__getitem__\u001b[1;34m(self, key)\u001b[0m\n\u001b[0;32m   4100\u001b[0m \u001b[38;5;28;01mif\u001b[39;00m \u001b[38;5;28mself\u001b[39m\u001b[38;5;241m.\u001b[39mcolumns\u001b[38;5;241m.\u001b[39mnlevels \u001b[38;5;241m>\u001b[39m \u001b[38;5;241m1\u001b[39m:\n\u001b[0;32m   4101\u001b[0m     \u001b[38;5;28;01mreturn\u001b[39;00m \u001b[38;5;28mself\u001b[39m\u001b[38;5;241m.\u001b[39m_getitem_multilevel(key)\n\u001b[1;32m-> 4102\u001b[0m indexer \u001b[38;5;241m=\u001b[39m \u001b[38;5;28;43mself\u001b[39;49m\u001b[38;5;241;43m.\u001b[39;49m\u001b[43mcolumns\u001b[49m\u001b[38;5;241;43m.\u001b[39;49m\u001b[43mget_loc\u001b[49m\u001b[43m(\u001b[49m\u001b[43mkey\u001b[49m\u001b[43m)\u001b[49m\n\u001b[0;32m   4103\u001b[0m \u001b[38;5;28;01mif\u001b[39;00m is_integer(indexer):\n\u001b[0;32m   4104\u001b[0m     indexer \u001b[38;5;241m=\u001b[39m [indexer]\n",
      "File \u001b[1;32m~\\AppData\\Roaming\\Python\\Python312\\site-packages\\pandas\\core\\indexes\\base.py:3812\u001b[0m, in \u001b[0;36mIndex.get_loc\u001b[1;34m(self, key)\u001b[0m\n\u001b[0;32m   3807\u001b[0m     \u001b[38;5;28;01mif\u001b[39;00m \u001b[38;5;28misinstance\u001b[39m(casted_key, \u001b[38;5;28mslice\u001b[39m) \u001b[38;5;129;01mor\u001b[39;00m (\n\u001b[0;32m   3808\u001b[0m         \u001b[38;5;28misinstance\u001b[39m(casted_key, abc\u001b[38;5;241m.\u001b[39mIterable)\n\u001b[0;32m   3809\u001b[0m         \u001b[38;5;129;01mand\u001b[39;00m \u001b[38;5;28many\u001b[39m(\u001b[38;5;28misinstance\u001b[39m(x, \u001b[38;5;28mslice\u001b[39m) \u001b[38;5;28;01mfor\u001b[39;00m x \u001b[38;5;129;01min\u001b[39;00m casted_key)\n\u001b[0;32m   3810\u001b[0m     ):\n\u001b[0;32m   3811\u001b[0m         \u001b[38;5;28;01mraise\u001b[39;00m InvalidIndexError(key)\n\u001b[1;32m-> 3812\u001b[0m     \u001b[38;5;28;01mraise\u001b[39;00m \u001b[38;5;167;01mKeyError\u001b[39;00m(key) \u001b[38;5;28;01mfrom\u001b[39;00m \u001b[38;5;21;01merr\u001b[39;00m\n\u001b[0;32m   3813\u001b[0m \u001b[38;5;28;01mexcept\u001b[39;00m \u001b[38;5;167;01mTypeError\u001b[39;00m:\n\u001b[0;32m   3814\u001b[0m     \u001b[38;5;66;03m# If we have a listlike key, _check_indexing_error will raise\u001b[39;00m\n\u001b[0;32m   3815\u001b[0m     \u001b[38;5;66;03m#  InvalidIndexError. Otherwise we fall through and re-raise\u001b[39;00m\n\u001b[0;32m   3816\u001b[0m     \u001b[38;5;66;03m#  the TypeError.\u001b[39;00m\n\u001b[0;32m   3817\u001b[0m     \u001b[38;5;28mself\u001b[39m\u001b[38;5;241m.\u001b[39m_check_indexing_error(key)\n",
      "\u001b[1;31mKeyError\u001b[0m: 'datetime'"
     ]
    }
   ],
   "source": [
    "# Apmokymui naudosime šio intervalo duomenis:\n",
    "start_date = '2023-08-01'\n",
    "end_date = '2023-10-30'\n",
    "\n",
    "# Atrenkame iš nurodyto datos intervalo:\n",
    "filtered_df_list = []\n",
    "for df in df_list:\n",
    "    \n",
    "    # Visus skaičius ir str verčiu pd.to_numeric.\n",
    "    # df.loc[:, df.select_dtypes(include=['number', 'object']).columns] = df.select_dtypes(include=['number', 'object']).apply(pd.to_numeric, errors='coerce')\n",
    "\n",
    "    filtered_df=df[( start_date <= df['datetime'] )&( df['datetime'] <= end_date )]\n",
    "    df['sum'] = df.select_dtypes(include='number').sum(axis=1)\n",
    "\n",
    "\n",
    "    filtered_df_list.append()\n",
    "\n",
    "# Apjungiame pagal 'datetime' stulpelį\n",
    "result = pd.concat(filtered_dfs, axis=1)"
   ]
  }
 ],
 "metadata": {
  "kernelspec": {
   "display_name": "Python 3",
   "language": "python",
   "name": "python3"
  },
  "language_info": {
   "codemirror_mode": {
    "name": "ipython",
    "version": 3
   },
   "file_extension": ".py",
   "mimetype": "text/x-python",
   "name": "python",
   "nbconvert_exporter": "python",
   "pygments_lexer": "ipython3",
   "version": "3.12.4"
  }
 },
 "nbformat": 4,
 "nbformat_minor": 2
}
