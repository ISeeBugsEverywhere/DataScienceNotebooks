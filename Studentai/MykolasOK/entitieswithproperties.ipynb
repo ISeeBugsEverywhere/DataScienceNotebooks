{
 "cells": [
  {
   "cell_type": "code",
   "execution_count": 3,
   "metadata": {},
   "outputs": [
    {
     "name": "stdout",
     "output_type": "stream",
     "text": [
      "Paskaita nr. 50, 2024-11-04 „Unittest“\n",
      "Mano  darbai: entitiesWithProperties Class\n",
      "Testas 123.\n"
     ]
    }
   ],
   "source": [
    "print('Paskaita nr. 50, 2024-11-04 „Unittest“')\n",
    "print('Mano  darbai: entitiesWithProperties Class')\n",
    "\n"
   ]
  }
 ],
 "metadata": {
  "kernelspec": {
   "display_name": "Python 3",
   "language": "python",
   "name": "python3"
  },
  "language_info": {
   "codemirror_mode": {
    "name": "ipython",
    "version": 3
   },
   "file_extension": ".py",
   "mimetype": "text/x-python",
   "name": "python",
   "nbconvert_exporter": "python",
   "pygments_lexer": "ipython3",
   "version": "3.12.3"
  }
 },
 "nbformat": 4,
 "nbformat_minor": 2
}
