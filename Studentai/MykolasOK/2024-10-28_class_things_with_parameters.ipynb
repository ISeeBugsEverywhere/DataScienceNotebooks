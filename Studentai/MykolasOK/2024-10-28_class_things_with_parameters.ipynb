{
 "cells": [
  {
   "cell_type": "code",
   "execution_count": 2,
   "metadata": {},
   "outputs": [
    {
     "name": "stdout",
     "output_type": "stream",
     "text": [
      "Paskaita nr. 47, 2024-10-28\n",
      "Atverčia ir nuskaito AutoPlius skelbimus pagal anksčiau db išsaugotas nuorodas.\n",
      "sqlite3.connect('auto_skelbimai_txt.db')\n",
      "2024-10-28 20:36:00\n"
     ]
    }
   ],
   "source": [
    "import numpy as np\n",
    "import pandas as pd\n",
    "import matplotlib.pyplot as plt\n",
    "import warnings\n",
    "warnings.filterwarnings('ignore')\n",
    "import seaborn as sns\n",
    "import sqlite3\n",
    "import mysql.connector as cnt\n",
    "import plotly.express as px\n",
    "\n",
    "import datetime as dt\n",
    "\n",
    "# import mysql.connector as cnt\n",
    "import sqlite3\n",
    "\n",
    "import requests\n",
    "from bs4 import BeautifulSoup\n",
    "\n",
    "# import selenium\n",
    "from selenium.webdriver.chrome.options import Options\n",
    "# from selenium.webdriver.firefox.options import Options as FirefoxOptions\n",
    "# Firefox leistų sudėtingesnius nustatymus, bet neveikia per SNAP\n",
    "\n",
    "from selenium import webdriver\n",
    "from bs4 import BeautifulSoup\n",
    "import time\n",
    "\n",
    "print('Paskaita nr. 47, 2024-10-28')\n",
    "print('Atverčia ir nuskaito AutoPlius skelbimus pagal anksčiau db išsaugotas nuorodas.')\n",
    "\n",
    "# https://www.sqlitetutorial.net/sqlite-primary-key/\n",
    "# https://www.crummy.com/software/BeautifulSoup/bs4/doc/\n",
    "# https://www.sqlite.org/lang_createtable.html\n",
    "\n",
    "db_file_name='auto_skelbimai_txt.db'\n",
    "db_connect = sqlite3.connect(db_file_name)\n",
    "cs = db_connect.cursor()\n",
    "print(f\"sqlite3.connect('{db_file_name}')\")\n",
    "print(dt.datetime.now().replace(microsecond=0))"
   ]
  }
 ],
 "metadata": {
  "kernelspec": {
   "display_name": "Python 3",
   "language": "python",
   "name": "python3"
  },
  "language_info": {
   "codemirror_mode": {
    "name": "ipython",
    "version": 3
   },
   "file_extension": ".py",
   "mimetype": "text/x-python",
   "name": "python",
   "nbconvert_exporter": "python",
   "pygments_lexer": "ipython3",
   "version": "3.11.9"
  }
 },
 "nbformat": 4,
 "nbformat_minor": 2
}
