{
 "cells": [
  {
   "cell_type": "code",
   "execution_count": 24,
   "metadata": {},
   "outputs": [
    {
     "name": "stdout",
     "output_type": "stream",
     "text": [
      "Paskaita nr. 47, 2024-10-28\n",
      "Atverčia ir nuskaito AutoPlius skelbimus pagal anksčiau db išsaugotas nuorodas.\n",
      "sqlite3.connect('auto_skelbimai_txt.db')\n",
      "2024-10-28 21:29:07\n"
     ]
    }
   ],
   "source": [
    "import numpy as np\n",
    "import pandas as pd\n",
    "import matplotlib.pyplot as plt\n",
    "import warnings\n",
    "warnings.filterwarnings('ignore')\n",
    "import seaborn as sns\n",
    "import sqlite3\n",
    "import mysql.connector as cnt\n",
    "import plotly.express as px\n",
    "\n",
    "import datetime as dt\n",
    "\n",
    "# import mysql.connector as cnt\n",
    "import sqlite3\n",
    "\n",
    "import requests\n",
    "from bs4 import BeautifulSoup\n",
    "\n",
    "# import selenium\n",
    "from selenium.webdriver.chrome.options import Options\n",
    "# from selenium.webdriver.firefox.options import Options as FirefoxOptions\n",
    "# Firefox leistų sudėtingesnius nustatymus, bet neveikia per SNAP\n",
    "\n",
    "from selenium import webdriver\n",
    "from bs4 import BeautifulSoup\n",
    "import time\n",
    "\n",
    "print('Paskaita nr. 47, 2024-10-28')\n",
    "print('Atverčia ir nuskaito AutoPlius skelbimus pagal anksčiau db išsaugotas nuorodas.')\n",
    "\n",
    "# https://www.sqlitetutorial.net/sqlite-primary-key/\n",
    "# https://www.crummy.com/software/BeautifulSoup/bs4/doc/\n",
    "# https://www.sqlite.org/lang_createtable.html\n",
    "\n",
    "db_file_name='auto_skelbimai_txt.db'\n",
    "db_connect = sqlite3.connect(db_file_name)\n",
    "cs = db_connect.cursor()\n",
    "print(f\"sqlite3.connect('{db_file_name}')\")\n",
    "print(dt.datetime.now().replace(microsecond=0))"
   ]
  },
  {
   "cell_type": "code",
   "execution_count": 41,
   "metadata": {},
   "outputs": [
    {
     "name": "stdout",
     "output_type": "stream",
     "text": [
      "Class 'things_with_properties()' defined.\n"
     ]
    }
   ],
   "source": [
    "# https://stackoverflow.com/questions/38076220/python-mysqldb-connection-in-a-class\n",
    "# https://stackoverflow.com/questions/75688682/how-should-i-type-my-sqlite-connection-and-cursor-in-a-python-class-before-i-pro\n",
    "# https://pynative.com/python-sqlite/\n",
    "# https://www.geeksforgeeks.org/python-sqlite-connecting-to-database/\n",
    "# https://www.reddit.com/r/learnpython/comments/4lznux/best_technique_for_passing_sqlite3_connection/\n",
    "\n",
    "import sqlite3\n",
    "\n",
    "class things_with_properties:\n",
    "    production=False # 'True' for production, 'False' for testing.\n",
    "    class_type='things_with_properties'\n",
    "    _current=False # Current instance id or False, if not set.\n",
    "\n",
    "    def __init__(self,name): # constructor.\n",
    "        self._name=name\n",
    "        self._connection = sqlite3.connect(name)\n",
    "        self._cursor = self._connection.cursor()\n",
    "        if not self.production:\n",
    "            print(f\"Connected '{name}'\\n\")\n",
    "\n",
    "    def __enter__(self):\n",
    "        return self\n",
    "\n",
    "    def __exit__(self, exc_type, exc_val, exc_tb):\n",
    "        if not self.production:\n",
    "            print(f\"{self.class_type}.__exit__()\")\n",
    "        self.close() # .__exit__() vykdomas jei nebelieka kintamojo\n",
    "    \n",
    "    def __str__(self):\n",
    "        if self._current:\n",
    "            rez=f'Thing \"{self._name}/{self._current}\"\\n'\n",
    "            rez+=f'Parameters:\"\\n'\n",
    "            rez+=f\"{self._current}\\n\"\n",
    "            return rez\n",
    "        rez=f'The structure of database \"{self._name}\"\\n'\n",
    "        for (tableName,) in self.query(\n",
    "        \"select NAME from SQLITE_MASTER where TYPE='table' order by NAME;\"\n",
    "        ):\n",
    "            rez+=\"{}:\\n\".format(tableName)\n",
    "            for ( columnID,columnName,columnType,columnNotNull,columnDefault,columnPK,\n",
    "            ) in self.query(\"pragma table_info('{}');\".format(tableName)):\n",
    "                rez+=\"  {id}: {name}({type}){null}{default}{pk}\\n\".format(\n",
    "                    id=columnID,\n",
    "                    name=columnName,\n",
    "                    type=columnType,\n",
    "                    null=\" not null\" if columnNotNull else \"\",\n",
    "                    default=\" [{}]\".format(columnDefault) if columnDefault else \"\",\n",
    "                    pk=\" *{}\".format(columnPK) if columnPK else \"\",\n",
    "                )\n",
    "        return rez\n",
    "\n",
    "    @property\n",
    "    def connection(self):\n",
    "        return self._connection\n",
    "\n",
    "    @property\n",
    "    def cursor(self):\n",
    "        return self._cursor\n",
    "\n",
    "    def commit(self):\n",
    "        self.connection.commit()\n",
    "\n",
    "    def close(self, commit=True):\n",
    "        if not self.production:\n",
    "            print(f\"{self.class_type}.close()\")\n",
    "        commit and self.commit()\n",
    "        self.connection.close()\n",
    "\n",
    "    def execute(self, sql, params=None): # result with .fetchall() or .fetchone()\n",
    "        self._cursor.execute(sql, params or ())\n",
    "\n",
    "    def fetchall(self):\n",
    "        return self._cursor.fetchall()\n",
    "\n",
    "    def fetchone(self):\n",
    "        return self._cursor.fetchone()\n",
    "\n",
    "    def query(self, sql, params=None):\n",
    "        self._cursor.execute(sql, params or ())\n",
    "        return self.fetchall()\n",
    "\n",
    "    def current(self,id=0,reset=False):\n",
    "        if reset:\n",
    "            self._current=False\n",
    "        elif id:\n",
    "            self.execute('select id from object_x where id=? limit 1',(id,))\n",
    "            if self.fetchone():\n",
    "                self._current=id\n",
    "            else:\n",
    "                self._current=False\n",
    "        return self._current\n",
    "\n",
    "    def property(self,id=0,reset=False):\n",
    "        if reset:\n",
    "            self._current=False\n",
    "            return False\n",
    "        if id:\n",
    "            self._current=id\n",
    "        return self._current\n",
    "\n",
    "if not things_with_properties.production:\n",
    "    print(\"Class 'things_with_properties()' defined.\")"
   ]
  },
  {
   "cell_type": "code",
   "execution_count": 45,
   "metadata": {},
   "outputs": [
    {
     "name": "stdout",
     "output_type": "stream",
     "text": [
      "Connected 'auto_skelbimai_txt.db'\n",
      "\n",
      "(18267894, 'https://m.autoplius.lt/skelbimai/mercedes-benz-e250-2-5-l-sedanas-1990-dyzelinas-18267894.html', 1729622835, 1729622835)\n",
      "things_with_properties.close()\n"
     ]
    }
   ],
   "source": [
    "db_objektas=things_with_properties(db_file_name)\n",
    "db_objektas.execute('select * from object_x limit 1')\n",
    "print(db_objektas.fetchone())\n",
    "db_objektas.close()"
   ]
  },
  {
   "cell_type": "code",
   "execution_count": 46,
   "metadata": {},
   "outputs": [
    {
     "name": "stdout",
     "output_type": "stream",
     "text": [
      "Connected 'auto_skelbimai_txt.db'\n",
      "\n",
      "Current instance: 18267894\n",
      "\n",
      "Thing \"auto_skelbimai_txt.db/18267894\"\n",
      "Parameters:\"\n",
      "18267894\n",
      "\n",
      "things_with_properties.close()\n"
     ]
    }
   ],
   "source": [
    "db_objektas=things_with_properties(db_file_name)\n",
    "# print(db_objektas)\n",
    "print(\"Current instance:\",db_objektas.current(18267894))\n",
    "print()\n",
    "print(db_objektas)\n",
    "db_objektas.close()"
   ]
  }
 ],
 "metadata": {
  "kernelspec": {
   "display_name": "Python 3",
   "language": "python",
   "name": "python3"
  },
  "language_info": {
   "codemirror_mode": {
    "name": "ipython",
    "version": 3
   },
   "file_extension": ".py",
   "mimetype": "text/x-python",
   "name": "python",
   "nbconvert_exporter": "python",
   "pygments_lexer": "ipython3",
   "version": "3.11.9"
  }
 },
 "nbformat": 4,
 "nbformat_minor": 2
}
