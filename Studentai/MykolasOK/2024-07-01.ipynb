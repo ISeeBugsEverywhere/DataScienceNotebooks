{
 "cells": [
  {
   "cell_type": "code",
   "execution_count": 1,
   "metadata": {},
   "outputs": [
    {
     "name": "stdout",
     "output_type": "stream",
     "text": [
      "2024-07-01\n",
      "\n"
     ]
    }
   ],
   "source": [
    "print('2024-07-01\\n')"
   ]
  },
  {
   "cell_type": "code",
   "execution_count": 5,
   "metadata": {},
   "outputs": [
    {
     "name": "stdout",
     "output_type": "stream",
     "text": [
      "Pirm: 1\n",
      "Antr: def\n",
      "Pirm: 1\n",
      "Pirm: 1\n"
     ]
    }
   ],
   "source": [
    "def funkcija( pirm, antr='def', *args, **kwargs):\n",
    "    print('Pirm:', pirm)\n",
    "    print('Antr:', antr)\n",
    "    print('Pirm:', pirm)\n",
    "    print('Pirm:', pirm)\n",
    "\n",
    "funkcija(1) "
   ]
  },
  {
   "cell_type": "code",
   "execution_count": 9,
   "metadata": {},
   "outputs": [
    {
     "name": "stdout",
     "output_type": "stream",
     "text": [
      "\n",
      "Aritmetiniai:\n",
      "2.0\n",
      "81.0\n",
      "4.0\n",
      "\n",
      "Geometriniai:\n",
      "9.999999999999998\n",
      "11.066819197003216\n",
      "\n",
      "Klaida:\n"
     ]
    },
    {
     "ename": "AssertionError",
     "evalue": "assert: Neteisingai nurodyta komanda!",
     "output_type": "error",
     "traceback": [
      "\u001b[1;31m---------------------------------------------------------------------------\u001b[0m",
      "\u001b[1;31mAssertionError\u001b[0m                            Traceback (most recent call last)",
      "Cell \u001b[1;32mIn[9], line 37\u001b[0m\n\u001b[0;32m     35\u001b[0m \u001b[38;5;28mprint\u001b[39m(vidurkis(\u001b[38;5;241m20\u001b[39m, \u001b[38;5;241m5\u001b[39m, \u001b[38;5;241m10\u001b[39m, \u001b[38;5;241m15\u001b[39m, koks\u001b[38;5;241m=\u001b[39m\u001b[38;5;124m'\u001b[39m\u001b[38;5;124mG\u001b[39m\u001b[38;5;124m'\u001b[39m))\n\u001b[0;32m     36\u001b[0m \u001b[38;5;28mprint\u001b[39m(\u001b[38;5;124m'\u001b[39m\u001b[38;5;130;01m\\n\u001b[39;00m\u001b[38;5;124mKlaida:\u001b[39m\u001b[38;5;124m'\u001b[39m)\n\u001b[1;32m---> 37\u001b[0m \u001b[38;5;28mprint\u001b[39m(\u001b[43mvidurkis\u001b[49m\u001b[43m(\u001b[49m\u001b[38;5;241;43m20\u001b[39;49m\u001b[43m,\u001b[49m\u001b[43m \u001b[49m\u001b[38;5;241;43m5\u001b[39;49m\u001b[43m,\u001b[49m\u001b[43m \u001b[49m\u001b[38;5;241;43m10\u001b[39;49m\u001b[43m,\u001b[49m\u001b[43m \u001b[49m\u001b[43mkoks\u001b[49m\u001b[38;5;241;43m=\u001b[39;49m\u001b[38;5;124;43m'\u001b[39;49m\u001b[38;5;124;43mz\u001b[39;49m\u001b[38;5;124;43m'\u001b[39;49m\u001b[43m)\u001b[49m)\n",
      "Cell \u001b[1;32mIn[9], line 10\u001b[0m, in \u001b[0;36mvidurkis\u001b[1;34m(koks, *skaičiai)\u001b[0m\n\u001b[0;32m      9\u001b[0m \u001b[38;5;28;01mdef\u001b[39;00m \u001b[38;5;21mvidurkis\u001b[39m(\u001b[38;5;241m*\u001b[39mskaičiai, koks\u001b[38;5;241m=\u001b[39m\u001b[38;5;124m'\u001b[39m\u001b[38;5;124ma\u001b[39m\u001b[38;5;124m'\u001b[39m):\n\u001b[1;32m---> 10\u001b[0m     \u001b[38;5;28;01massert\u001b[39;00m koks \u001b[38;5;129;01min\u001b[39;00m [\u001b[38;5;124m'\u001b[39m\u001b[38;5;124ma\u001b[39m\u001b[38;5;124m'\u001b[39m,\u001b[38;5;124m'\u001b[39m\u001b[38;5;124mA\u001b[39m\u001b[38;5;124m'\u001b[39m,\u001b[38;5;124m'\u001b[39m\u001b[38;5;124mg\u001b[39m\u001b[38;5;124m'\u001b[39m,\u001b[38;5;124m'\u001b[39m\u001b[38;5;124mG\u001b[39m\u001b[38;5;124m'\u001b[39m], \u001b[38;5;124m'\u001b[39m\u001b[38;5;124massert: Neteisingai nurodyta komanda!\u001b[39m\u001b[38;5;124m'\u001b[39m\n\u001b[0;32m     11\u001b[0m     n\u001b[38;5;241m=\u001b[39m\u001b[38;5;241m0\u001b[39m\n\u001b[0;32m     12\u001b[0m     \u001b[38;5;28;01mif\u001b[39;00m koks \u001b[38;5;129;01min\u001b[39;00m [\u001b[38;5;124m'\u001b[39m\u001b[38;5;124ma\u001b[39m\u001b[38;5;124m'\u001b[39m,\u001b[38;5;124m'\u001b[39m\u001b[38;5;124mA\u001b[39m\u001b[38;5;124m'\u001b[39m]:\n",
      "\u001b[1;31mAssertionError\u001b[0m: assert: Neteisingai nurodyta komanda!"
     ]
    }
   ],
   "source": [
    "# Parašykite funkciją, kuri suskaičiuotų aritmetinį arba geometrinį vidurkį iš pateiktų skaičių. \n",
    "# Pateikiamų skaičių kiekis neapibrėžtas. Panaudokite raktažodžius, kad nurodytumėte, kokį vidurkį reikia apskaičiuoti.\n",
    "\n",
    "# Be raktažodžio:\n",
    "# def vidurkis(koks, *skaičiai):\n",
    "\n",
    "# Su raktažodžiu:\n",
    "\n",
    "def vidurkis(*skaičiai, koks='a'):\n",
    "    assert koks in ['a','A','g','G'], 'assert: Neteisingai nurodyta komanda!'\n",
    "    n=0\n",
    "    if koks in ['a','A']:\n",
    "        rez=sum(skaičiai)/len(skaičiai)\n",
    "        # suma=0\n",
    "        # for x in skaičiai:\n",
    "        #     n+=1\n",
    "        #     suma+=x\n",
    "        # rez=suma/n\n",
    "    elif koks in ['g','G']:\n",
    "        sand=1\n",
    "        for x in skaičiai:\n",
    "            n+=1\n",
    "            sand*=x\n",
    "        rez=sand**(1/n)\n",
    "    else:\n",
    "        rez='Neteisingai nurodyta komanda!'\n",
    "    return rez\n",
    "        \n",
    "print('\\nAritmetiniai:')\n",
    "print(vidurkis(1, 2, 3, koks='a'))\n",
    "print(vidurkis(77, 78, 79, 90, koks='A'))\n",
    "print(vidurkis(1, 2, 3, 4, 10))\n",
    "print('\\nGeometriniai:')\n",
    "print(vidurkis(20, 5, 10, koks='g'))\n",
    "print(vidurkis(20, 5, 10, 15, koks='G'))\n",
    "print('\\nKlaida:')\n",
    "print(vidurkis(20, 5, 10, koks='z'))"
   ]
  },
  {
   "cell_type": "code",
   "execution_count": 24,
   "metadata": {},
   "outputs": [
    {
     "name": "stdout",
     "output_type": "stream",
     "text": [
      "-5.0\n",
      "-10.0\n",
      "-10.0\n",
      "-3.981\n"
     ]
    }
   ],
   "source": [
    "# Parašykite funkciją, kuri galėtų ištraukti nurodyto laipsnio šaknį iš nurodyto skaičiaus.\n",
    "# Su assert užtikrinkite, jog jei nurodoma lyginio laipsnio šaknis, tai skaičius (iš kurio traukiama šaknis) turi būti teigiamas, \n",
    "# kitu atveju rodykite AssertionError klaidą.\n",
    "# Jei Python ** operatorius grąžina menamus skaičius, panaudoti abs() funkciją.\n",
    "\n",
    "def šaknis(skaičius, laipsnis=2):\n",
    "    assert ( laipsnis % 2 )or( skaičius > 0 ), 'Assert klaida'\n",
    "    rez=skaičius**(1/laipsnis)\n",
    "    if skaičius<0:\n",
    "        rez=-round(abs(rez),3)\n",
    "    else:\n",
    "        rez=-round(rez,3)\n",
    "    return rez\n",
    "\n",
    "print(šaknis(25))\n",
    "print(šaknis(100))\n",
    "print(šaknis(1000,3))\n",
    "print(šaknis(-1000,5))\n",
    "# print(šaknis(-1000,4)) # Klaidos apdorojimas.\n"
   ]
  }
 ],
 "metadata": {
  "kernelspec": {
   "display_name": "Python 3",
   "language": "python",
   "name": "python3"
  },
  "language_info": {
   "codemirror_mode": {
    "name": "ipython",
    "version": 3
   },
   "file_extension": ".py",
   "mimetype": "text/x-python",
   "name": "python",
   "nbconvert_exporter": "python",
   "pygments_lexer": "ipython3",
   "version": "3.12.4"
  }
 },
 "nbformat": 4,
 "nbformat_minor": 2
}
