{
 "cells": [
  {
   "cell_type": "code",
   "execution_count": 1,
   "metadata": {},
   "outputs": [
    {
     "name": "stdout",
     "output_type": "stream",
     "text": [
      "2024-07-01\n",
      "\n"
     ]
    }
   ],
   "source": [
    "print('2024-07-01\\n')"
   ]
  },
  {
   "cell_type": "code",
   "execution_count": 5,
   "metadata": {},
   "outputs": [
    {
     "name": "stdout",
     "output_type": "stream",
     "text": [
      "Pirm: 1\n",
      "Antr: def\n",
      "Pirm: 1\n",
      "Pirm: 1\n"
     ]
    }
   ],
   "source": [
    "def funkcija( pirm, antr='def', *args, **kwargs):\n",
    "    print('Pirm:', pirm)\n",
    "    print('Antr:', antr)\n",
    "    print('Pirm:', pirm)\n",
    "    print('Pirm:', pirm)\n",
    "\n",
    "funkcija(1) "
   ]
  },
  {
   "cell_type": "code",
   "execution_count": 22,
   "metadata": {},
   "outputs": [
    {
     "name": "stdout",
     "output_type": "stream",
     "text": [
      "\n",
      "Aritmetiniai:\n",
      "2.0\n",
      "81.0\n",
      "4.0\n",
      "\n",
      "Geometriniai:\n",
      "9.999999999999998\n",
      "11.066819197003216\n",
      "\n",
      "Klaida:\n",
      "Neteisingai nurodyta komanda!\n"
     ]
    }
   ],
   "source": [
    "# Parašykite funkciją, kuri suskaičiuotų aritmetinį arba geometrinį vidurkį iš pateiktų skaičių. \n",
    "# Pateikiamų skaičių kiekis neapibrėžtas. Panaudokite raktažodžius, kad nurodytumėte, kokį vidurkį reikia apskaičiuoti.\n",
    "\n",
    "#def vidurkis(koks, *skaičiai):\n",
    "\n",
    "def vidurkis(*skaičiai, koks='a'):\n",
    "    n=0\n",
    "    if koks in ['a','A']:\n",
    "        suma=0\n",
    "        for x in skaičiai:\n",
    "            n+=1\n",
    "            suma+=x\n",
    "        rez=suma/n\n",
    "    elif koks in ['g','G']:\n",
    "        sand=1\n",
    "        for x in skaičiai:\n",
    "            n+=1\n",
    "            sand*=x\n",
    "        rez=sand**(1/n)\n",
    "    else:\n",
    "        rez='Neteisingai nurodyta komanda!'\n",
    "    return rez\n",
    "        \n",
    "print('\\nAritmetiniai:')\n",
    "print(vidurkis(1, 2, 3, koks='a'))\n",
    "print(vidurkis(77, 78, 79, 90, koks='A'))\n",
    "print(vidurkis(1, 2, 3, 4, 10))\n",
    "print('\\nGeometriniai:')\n",
    "print(vidurkis(20, 5, 10, koks='g'))\n",
    "print(vidurkis(20, 5, 10, 15, koks='G'))\n",
    "print('\\nKlaida:')\n",
    "print(vidurkis(20, 5, 10, koks='z'))"
   ]
  }
 ],
 "metadata": {
  "kernelspec": {
   "display_name": "Python 3",
   "language": "python",
   "name": "python3"
  },
  "language_info": {
   "codemirror_mode": {
    "name": "ipython",
    "version": 3
   },
   "file_extension": ".py",
   "mimetype": "text/x-python",
   "name": "python",
   "nbconvert_exporter": "python",
   "pygments_lexer": "ipython3",
   "version": "3.12.4"
  }
 },
 "nbformat": 4,
 "nbformat_minor": 2
}
