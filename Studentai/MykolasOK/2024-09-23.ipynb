{
 "cells": [
  {
   "cell_type": "code",
   "execution_count": 4,
   "metadata": {},
   "outputs": [],
   "source": [
    "%reload_ext autoreload\n",
    "%autoreload 2"
   ]
  },
  {
   "cell_type": "code",
   "execution_count": 2,
   "metadata": {},
   "outputs": [
    {
     "name": "stdout",
     "output_type": "stream",
     "text": [
      "Paskaita\n",
      "Pasiruošta 2024-09-23 18:44:13.070105\n"
     ]
    }
   ],
   "source": [
    "print('Paskaita')\n",
    "import datetime\n",
    "print('Pasiruošta',datetime.datetime.now())\n",
    "\n",
    "import pandas as pd\n",
    "import numpy as np\n",
    "import matplotlib.pyplot as plt\n",
    "import mysql.connector as cnt\n",
    "\n",
    "# import os\n",
    "# import glob"
   ]
  },
  {
   "cell_type": "code",
   "execution_count": 9,
   "metadata": {},
   "outputs": [
    {
     "name": "stderr",
     "output_type": "stream",
     "text": [
      "/tmp/ipykernel_9123/1625817683.py:16: UserWarning: pandas only supports SQLAlchemy connectable (engine/connection) or database string URI or sqlite3 DBAPI2 connection. Other DBAPI2 objects are not tested. Please consider using SQLAlchemy.\n",
      "  df = pd.read_sql_query(sql, con=DB) # Sukuriamas Pandas DF.\n"
     ]
    },
    {
     "name": "stdout",
     "output_type": "stream",
     "text": [
      "\n",
      "Prisijungta 2024-09-23 18:49:08.816543\n",
      "\n",
      "   age     sex    bmi  children smoker     region     charges\n",
      "0   19  female  27.90         0    yes  southwest  16884.9240\n",
      "1   18    male  33.77         1     no  southeast   1725.5523\n",
      "2   28    male  33.00         3     no  southeast   4449.4620\n"
     ]
    }
   ],
   "source": [
    "# SQl lentelė - InsuranceUSA7cols. \n",
    "# Ar yra priklausoimybė tarp lyties, kūno masės indekso (bmi), \n",
    "# rūkymo, amžiaus, vaikų kiekio ir draudimo įmokos dydžio?\n",
    "\n",
    "DB = cnt.connect(\n",
    "host = '88.223.121.130',\n",
    "user='user',\n",
    "password='slaptazodis',\n",
    "port=3306,\n",
    "database='works'\n",
    ")\n",
    "C=DB.cursor()\n",
    "\n",
    "#sql užklausa per pandas sql_query\n",
    "sql=\"\"\"select * from InsuranceUSA7cols\"\"\"\n",
    "df = pd.read_sql_query(sql, con=DB) # Sukuriamas Pandas DF.\n",
    "\n",
    "print('\\nPrisijungta',datetime.datetime.now())\n",
    "print()\n",
    "print(df.head(3))"
   ]
  }
 ],
 "metadata": {
  "kernelspec": {
   "display_name": "Python 3",
   "language": "python",
   "name": "python3"
  },
  "language_info": {
   "codemirror_mode": {
    "name": "ipython",
    "version": 3
   },
   "file_extension": ".py",
   "mimetype": "text/x-python",
   "name": "python",
   "nbconvert_exporter": "python",
   "pygments_lexer": "ipython3",
   "version": "3.12.3"
  }
 },
 "nbformat": 4,
 "nbformat_minor": 2
}
