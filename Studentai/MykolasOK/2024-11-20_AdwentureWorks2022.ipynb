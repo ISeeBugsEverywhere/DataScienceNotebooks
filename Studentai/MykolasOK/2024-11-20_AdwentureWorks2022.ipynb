{
 "cells": [
  {
   "cell_type": "code",
   "execution_count": 1,
   "metadata": {},
   "outputs": [
    {
     "name": "stdout",
     "output_type": "stream",
     "text": [
      "Nauja tema. AdwentureWorks2022\n"
     ]
    }
   ],
   "source": [
    "import pandas as pd\n",
    "# import numpy as np\n",
    "# import sqlite3\n",
    "# import seaborn as sns\n",
    "# import matplotlib.pyplot as plt\n",
    "\n",
    "print('Nauja tema. AdwentureWorks2022')\n",
    "\n",
    "# Šis failas:\n",
    "# /home/administratorius/git/python_kursai/DataScienceNotebooks/Studentai/MykolasOK/*.ipynb\n",
    "# Duomenų šaltiniai:\n",
    "# /home/administratorius/git/python_kursai/DataScienceNotebooks/DATA/*\n",
    "\n",
    "# print(\"Duomenys paimami iš DB failo\")\n",
    "# conn = sqlite3.connect('../../DATA/WEBscr.db')\n",
    "# # query = \"SELECT name FROM sqlite_master WHERE type='table';\"\n",
    "# # print(pd.read_sql_query(query, conn)['name'].tolist())\n",
    "# query = '''SELECT TAutos.*, TUrl.url, TUrl.name, TUrl.params\n",
    "#             FROM TAutos\n",
    "#             LEFT JOIN TUrl ON TAutos.id = TUrl.id\n",
    "#             GROUP BY TAutos.id;'''\n",
    "# df=pd.read_sql_query(query, conn) # Kuriamas df.\n",
    "\n",
    "# # print(df.columns,end='\\n')\n",
    "# print('Paimta įrašų:',len(df))"
   ]
  },
  {
   "cell_type": "code",
   "execution_count": null,
   "metadata": {},
   "outputs": [],
   "source": [
    "# AdwentureWorks2022\n",
    "# -- Bendras kasmėnesinis pardavimų skaičius? (lentelė: SalesOrderHeader)\n",
    "# -- Mėnesiniai pardavimai pagal šalį (SalesOrderHeader, SalesTerritory, CountryRegion)\n",
    "# -- Kurios parduotuvės pasirodo geriausiai? (SalesOrderHeader, Store)\n",
    "# -- Palyginkite Online versus Store pagal Sales count ir Revenue: (SalesOrderHeader, , jei OnlineOrderFlag = 1,\n",
    "# -- tai čia Online užsakymas.\n",
    "# -- atsakykite į klausimą, ar verta uždaryti/plėsti/nekeisti fizinių parduotuvių skaičiaus \n",
    "# -- eiti į Online, neiti į online?\n",
    "# -- Pagrįskite.\n",
    " \n",
    "# -- Koks vidutinis vieno užsakymo dydis kiekvienoje šalyje? \n",
    "# -- (SalesOrderHeader,SalesOrderDetail, SalesTerritory, CountryRegion)\n"
   ]
  }
 ],
 "metadata": {
  "kernelspec": {
   "display_name": "Python 3",
   "language": "python",
   "name": "python3"
  },
  "language_info": {
   "codemirror_mode": {
    "name": "ipython",
    "version": 3
   },
   "file_extension": ".py",
   "mimetype": "text/x-python",
   "name": "python",
   "nbconvert_exporter": "python",
   "pygments_lexer": "ipython3",
   "version": "3.12.3"
  }
 },
 "nbformat": 4,
 "nbformat_minor": 2
}
