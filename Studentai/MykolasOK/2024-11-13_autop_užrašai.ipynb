{
 "cells": [
  {
   "cell_type": "code",
   "execution_count": null,
   "metadata": {},
   "outputs": [
    {
     "name": "stdout",
     "output_type": "stream",
     "text": [
      "2024-11-13\n"
     ]
    }
   ],
   "source": [
    "import numpy as np\n",
    "import pandas as pd\n",
    "import matplotlib.pyplot as plt\n",
    "import warnings\n",
    "warnings.filterwarnings('ignore')\n",
    "import seaborn as sns\n",
    "import sqlite3\n",
    "import plotly.express as px\n",
    "import os, sys, glob\n",
    "\n",
    "print('2024-11-13')\n",
    "\n"
   ]
  },
  {
   "cell_type": "code",
   "execution_count": null,
   "metadata": {},
   "outputs": [
    {
     "ename": "NameError",
     "evalue": "name 'query_to_dataframe' is not defined",
     "output_type": "error",
     "traceback": [
      "\u001b[0;31m---------------------------------------------------------------------------\u001b[0m",
      "\u001b[0;31mNameError\u001b[0m                                 Traceback (most recent call last)",
      "Cell \u001b[0;32mIn[6], line 3\u001b[0m\n\u001b[1;32m      1\u001b[0m db_path \u001b[38;5;241m=\u001b[39m \u001b[38;5;124m'\u001b[39m\u001b[38;5;124m../../../web_scrap.db\u001b[39m\u001b[38;5;124m'\u001b[39m\n\u001b[1;32m      2\u001b[0m query \u001b[38;5;241m=\u001b[39m \u001b[38;5;124m'\u001b[39m\u001b[38;5;124mSELECT * FROM autopliuslt2;\u001b[39m\u001b[38;5;124m'\u001b[39m  \u001b[38;5;66;03m# SQL užklausa, kurią norite vykdyti\u001b[39;00m\n\u001b[0;32m----> 3\u001b[0m df_auto \u001b[38;5;241m=\u001b[39m \u001b[43mquery_to_dataframe\u001b[49m(db_path,query)\n\u001b[1;32m      4\u001b[0m df_auto[\u001b[38;5;124m'\u001b[39m\u001b[38;5;124mJS\u001b[39m\u001b[38;5;124m'\u001b[39m]\u001b[38;5;241m=\u001b[39m df_auto[\u001b[38;5;124m'\u001b[39m\u001b[38;5;124mKaina\u001b[39m\u001b[38;5;124m'\u001b[39m]\u001b[38;5;241m.\u001b[39mapply(\u001b[38;5;28;01mlambda\u001b[39;00m x: \u001b[38;5;28mfloat\u001b[39m(x)\u001b[38;5;241m*\u001b[39m\u001b[38;5;241m1.5\u001b[39m)\n\u001b[1;32m      5\u001b[0m df_auto[\u001b[38;5;124m'\u001b[39m\u001b[38;5;124mKaina\u001b[39m\u001b[38;5;124m'\u001b[39m]\u001b[38;5;241m=\u001b[39m df_auto[\u001b[38;5;124m'\u001b[39m\u001b[38;5;124mKaina\u001b[39m\u001b[38;5;124m'\u001b[39m]\u001b[38;5;241m.\u001b[39mapply(\u001b[38;5;28;01mlambda\u001b[39;00m x: \u001b[38;5;28mfloat\u001b[39m(x))\n",
      "\u001b[0;31mNameError\u001b[0m: name 'query_to_dataframe' is not defined"
     ]
    }
   ],
   "source": [
    "# def turis(x):\n",
    "#     if x != None:\n",
    "#         if 'cm³' in x:\n",
    "#             return float(x.replace(' cm³',''))\n",
    "\n",
    "# db_path = '../../../web_scrap.db'\n",
    "# query = 'SELECT * FROM autopliuslt2;'  # SQL užklausa, kurią norite vykdyti\n",
    "# df_auto = query_to_dataframe(db_path,query)\n",
    "# df_auto['JS']= df_auto['Kaina'].apply(lambda x: float(x)*1.5)\n",
    "# df_auto['Kaina']= df_auto['Kaina'].apply(lambda x: float(x))\n",
    "# df_auto['Rida'] = df_auto['Rida'].apply(lambda x: int(x.replace(' ','').replace('km','')) if x != None else x)\n",
    "# df_auto['Amzius'] = df_auto['Pirma registracija'].apply(lambda x: 2024-int(x[:4]) if x != None else x)\n",
    "# df_auto['Turis'] = df_auto['Variklis'].apply(lambda x: x.split(',')[0] if x != None else None)\n",
    "# df_auto['Turis'] = df_auto['Turis'].apply(turis)\n",
    "# df_auto['Miestas'] = df_auto['Miestas'].apply(lambda x: x.split(',')[0])\n",
    "# df_auto['Baterijos talpa, kWh'] = df_auto['Baterijos talpa, kWh'].apply(lambda x: float(x.replace(' kWh','')) if x != None else x)\n",
    "# df_auto['Elektra nuvažiuojamas atstumas'] = df_auto['Elektra nuvažiuojamas atstumas'].apply(lambda x: float(x.replace(' km','')) if x != None else x)\n",
    "\n",
    "# df_auto.head(3)"
   ]
  },
  {
   "cell_type": "code",
   "execution_count": 5,
   "metadata": {},
   "outputs": [
    {
     "name": "stdout",
     "output_type": "stream",
     "text": [
      "read_csv('../../DATA/auto.csv')\n",
      "<bound method IndexOpsMixin.tolist of Index(['index', 'id', 'gamintojas', 'modelis', 'pagaminimo_data', 'rida',\n",
      "       'variklis', 'kuro_tipas', 'varantieji_ratai', 'pavaros',\n",
      "       ...\n",
      "       'service_book', 'warranty', 'catalytic_converter', 'multiple_key_sets',\n",
      "       'double_wheels', 'folding_seats', 'insulated_glass',\n",
      "       'two_sliding_doors', 'personal_ventilation', 'personal_illumination'],\n",
      "      dtype='object', length=115)>\n",
      "   index           id  gamintojas    modelis pagaminimo_data        rida  \\\n",
      "0      0  ID:22996628         BMW         M5         2005-12  253 000 km   \n",
      "1      1  ID:23120069  Mitsubishi  Outlander            2006  195 405 km   \n",
      "\n",
      "                   variklis kuro_tipas     varantieji_ratai     pavaros  ...  \\\n",
      "0  4999 cm³, 507 AG (373kW)   Benzinas             Galiniai  Automatinė  ...   \n",
      "1  2378 cm³, 160 AG (118kW)   Benzinas  Visi varantys (4х4)  Automatinė  ...   \n",
      "\n",
      "  service_book warranty catalytic_converter multiple_key_sets double_wheels  \\\n",
      "0            0        0                   0                 0             0   \n",
      "1            0        0                   0                 0             0   \n",
      "\n",
      "  folding_seats insulated_glass two_sliding_doors personal_ventilation  \\\n",
      "0             0               0                 0                    0   \n",
      "1             0               0                 0                    0   \n",
      "\n",
      "  personal_illumination  \n",
      "0                     0  \n",
      "1                     0  \n",
      "\n",
      "[2 rows x 115 columns]\n"
     ]
    }
   ],
   "source": [
    "failas='../../DATA/auto.csv'\n",
    "print(f\"read_csv('{failas}')\")\n",
    "# ,header=0,skiprows=[1]\n",
    "\n",
    "dfa = pd.read_csv(failas,sep='|') # ,usecols=['gamintojas','modelis','pagaminimo_data','rida']\n",
    "dfa.columns=dfa.columns.str.strip()\n",
    "print(dfa.columns.tolist)\n",
    "\n",
    "print(dfa.head(2))\n",
    "# dfa.drop(columns=['service_book','available_for_leasing','warranty','catalytic_converter','multiple_key_sets','double_wheels','folding_seats','insulated_glass','two_sliding_doors','personal_ventilation','personal_illumination'])\n",
    "\n",
    "# dfa = dfa[['Sav.', 'Bruto, EUR']]\n",
    "# dfa.columns = ['Sav', 'Eur']\n",
    "# dfa['Sav'] = dfa['Sav'].str[:4]\n",
    "# dfa.drop_duplicates(subset=['Sav'], inplace=True)\n",
    "# dfa['Eur'] = dfa['Eur'].str.replace(' ','').str.replace(',','.').str.replace('\\xa0','').apply(float)"
   ]
  },
  {
   "cell_type": "code",
   "execution_count": null,
   "metadata": {},
   "outputs": [],
   "source": [
    "TAF['Galia']=G\n",
    "TAF['Tūris']=V\n",
    "\n",
    "TAF_EL=\n"
   ]
  },
  {
   "cell_type": "code",
   "execution_count": null,
   "metadata": {},
   "outputs": [],
   "source": [
    "sns.pairplot()"
   ]
  },
  {
   "cell_type": "code",
   "execution_count": null,
   "metadata": {},
   "outputs": [],
   "source": []
  },
  {
   "cell_type": "code",
   "execution_count": null,
   "metadata": {},
   "outputs": [],
   "source": []
  },
  {
   "cell_type": "code",
   "execution_count": 18,
   "metadata": {},
   "outputs": [
    {
     "ename": "NameError",
     "evalue": "name 'TAF_VDV' is not defined",
     "output_type": "error",
     "traceback": [
      "\u001b[0;31m---------------------------------------------------------------------------\u001b[0m",
      "\u001b[0;31mNameError\u001b[0m                                 Traceback (most recent call last)",
      "Cell \u001b[0;32mIn[18], line 1\u001b[0m\n\u001b[0;32m----> 1\u001b[0m DEMO\u001b[38;5;241m=\u001b[39m\u001b[43mTAF_VDV\u001b[49m[[\u001b[38;5;124m'\u001b[39m\u001b[38;5;124mRida\u001b[39m\u001b[38;5;124m'\u001b[39m,\u001b[38;5;124m'\u001b[39m\u001b[38;5;124mKaina\u001b[39m\u001b[38;5;124m'\u001b[39m]]\n\u001b[1;32m      2\u001b[0m DEMO\u001b[38;5;241m.\u001b[39mdropna(inplace\u001b[38;5;241m=\u001b[39m\u001b[38;5;28;01mTrue\u001b[39;00m)\n\u001b[1;32m      3\u001b[0m DEMO[\u001b[38;5;124m'\u001b[39m\u001b[38;5;124mRida\u001b[39m\u001b[38;5;124m'\u001b[39m]\u001b[38;5;241m=\u001b[39mnp\u001b[38;5;241m.\u001b[39mceil(DEMO[\u001b[38;5;124m'\u001b[39m\u001b[38;5;124mRida\u001b[39m\u001b[38;5;124m'\u001b[39m]\u001b[38;5;241m.\u001b[39mvalues\u001b[38;5;241m/\u001b[39m\u001b[38;5;241m5000.0\u001b[39m)\u001b[38;5;241m*\u001b[39m\u001b[38;5;241m5000.0\u001b[39m\n",
      "\u001b[0;31mNameError\u001b[0m: name 'TAF_VDV' is not defined"
     ]
    }
   ],
   "source": [
    "DEMO=TAF_VDV[['Rida','Kaina']]\n",
    "DEMO.dropna(inplace=True)\n",
    "DEMO['Rida']=np.ceil(DEMO['Rida'].values/5000.0)*5000.0\n",
    "DEMOGR=DEMO.groupby('Rida').mean(numeric_only=True).seset_index()\n",
    "DEMOGR.head(5)\n",
    "\n",
    "# ax=sns.regplot(data=df.query(expr='rida<500000'),x='Rida',y='Kaina')\n",
    "# ax.axhline(y=0)\n",
    "# plt.show()"
   ]
  },
  {
   "cell_type": "code",
   "execution_count": null,
   "metadata": {},
   "outputs": [],
   "source": [
    "import numpy.polynomial.polynomial as poly\n",
    "\n",
    "coef=np.polyfit(x=DM2['Rida'],y=DM2['Kaina'],deg=1)\n",
    "# Grąžina koeficinetus nuo didžiausio iki mažiausio x laipsnio.\n",
    "print(coef)\n",
    "\n",
    "fn_fit=poly.Polynomial(coef[::-1])\n",
    "\n",
    "x_rida=100000\n",
    "x_kaina=fn_fit(x_rida)\n",
    "\n"
   ]
  },
  {
   "cell_type": "code",
   "execution_count": null,
   "metadata": {},
   "outputs": [],
   "source": [
    "kainos_fitted=fn_fit(DM2['Rida'])\n",
    "DM2['K_fit']=kainos_fitted\n",
    "\n",
    "ax=sns.regplot(data=df.query(expr='rida<500000'),x='Rida',y='Kaina')\n",
    "ax.scatter(x=DM2['Rida'][::10],y=DM2['K_fit'][::10],c='red')\n",
    "\n"
   ]
  },
  {
   "cell_type": "code",
   "execution_count": null,
   "metadata": {},
   "outputs": [],
   "source": [
    "coef = np.polyfit(x=DM2['Rida'], y=DM2['Kaina'], deg=3)\n",
    "print(coef)\n",
    "\n",
    "fn_fit = poly.Polynomial(coef[::-1])\n",
    "kainos_fitted = fn_fit(DM2['Rida'])\n",
    "DM2['K_fit'] = kainos_fitted\n",
    "\n",
    "ax = sns.regplot(data=DM2, x='Rida', y='Kaina', order=3)\n",
    "ax.scatter(x=DM2['Rida'][::10], y=DM2['K_fit'][::10], c='red')\n",
    "\n",
    "plt.show()"
   ]
  }
 ],
 "metadata": {
  "kernelspec": {
   "display_name": "Python 3",
   "language": "python",
   "name": "python3"
  },
  "language_info": {
   "codemirror_mode": {
    "name": "ipython",
    "version": 3
   },
   "file_extension": ".py",
   "mimetype": "text/x-python",
   "name": "python",
   "nbconvert_exporter": "python",
   "pygments_lexer": "ipython3",
   "version": "3.12.3"
  }
 },
 "nbformat": 4,
 "nbformat_minor": 2
}
