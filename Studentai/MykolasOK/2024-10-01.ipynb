{
 "cells": [
  {
   "cell_type": "code",
   "execution_count": null,
   "metadata": {},
   "outputs": [],
   "source": [
    "print('Paskaita nr. 36\\n2024-10-01')\n",
    "\n",
    "import datetime\n",
    "print('Pasiruošta',datetime.datetime.now())\n",
    "\n",
    "# import urllib.request\n",
    "# import os\n",
    "# import pandas as pd\n",
    "# import sqlite3\n",
    "\n",
    "# import mysql.connector as cnt\n",
    "# import pandas as pd\n",
    "\n",
    "# import numpy as np\n",
    "# import matplotlib.pyplot as plt\n",
    "# import seaborn as sns"
   ]
  }
 ],
 "metadata": {
  "language_info": {
   "name": "python"
  }
 },
 "nbformat": 4,
 "nbformat_minor": 2
}
