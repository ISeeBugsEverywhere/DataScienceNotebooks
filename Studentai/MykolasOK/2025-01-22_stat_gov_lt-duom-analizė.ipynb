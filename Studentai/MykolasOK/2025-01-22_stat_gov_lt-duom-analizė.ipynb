{
 "cells": [
  {
   "cell_type": "code",
   "execution_count": 8,
   "metadata": {},
   "outputs": [
    {
     "name": "stdout",
     "output_type": "stream",
     "text": [
      "Pasiruošta 2025-01-24 16:34:25\n",
      "/home/administratorius/git/python_kursai/DataScienceNotebooks/Studentai/MykolasOK\n",
      "2021-II_ŠPAM_utf-8.csv\n",
      "2021-I_kiti_utf-8.csv\n",
      "2021-I_ŠPAM_utf-8.csv\n",
      "2021-I_VKK_utf-8.csv\n",
      "2021-II_kiti_utf-8.csv\n",
      "2021-II_VKK_utf-8.csv\n"
     ]
    }
   ],
   "source": [
    "from datetime import datetime as dt\n",
    "import os \n",
    "import pandas as pd\n",
    "import numpy as np\n",
    "\n",
    "# Duomenų šaltinis https://data.gov.lt/datasets/1828/#resources\n",
    "data_files=['2021-I_kiti','2021-I_ŠPAM','2021-I_VKK','2021-II_kiti','2021-II_ŠPAM','2021-II_VKK']\n",
    "data_dir=\"../../../duomenys/data_gov_lt/elektra\" # atsisiųsti failai\n",
    "data_dir_git=\"./csv\" # konvertuoti csv saugomi čia pat\n",
    "data_file_ext=\"csv\" # extention\n",
    "\n",
    "print('Pasiruošta',dt.now().replace(microsecond=0))\n",
    "print(os.getcwd())\n",
    "\n",
    "file_list = os.listdir(data_dir_git)\n",
    "# Print elements containing 'abc', one per line\n",
    "for file in file_list:\n",
    "    if 'utf' in file:\n",
    "        print(file)\n",
    "\n",
    "# c:\\Users\\Eridas\\Documents\\vilniuscoding2024\\git\\DataScienceNotebooks\\Studentai\\MykolasOK\n",
    "# /home/administratorius/git/python_kursai/DataScienceNotebooks/Studentai/MykolasOK"
   ]
  },
  {
   "cell_type": "code",
   "execution_count": 13,
   "metadata": {},
   "outputs": [
    {
     "name": "stdout",
     "output_type": "stream",
     "text": [
      "Duomenys iš failų įkeliami į 'df_dict={}'.  2025-01-24 17:23:51\n",
      "./csv/2021-I_kiti_utf-8_m.csv >>> (1048575, 11) (eil. x stulp.)\n",
      "./csv/2021-I_ŠPAM_utf-8_m.csv >>> (271444, 11) (eil. x stulp.)\n",
      "./csv/2021-I_VKK_utf-8_m.csv >>> (1015563, 11) (eil. x stulp.)\n",
      "./csv/2021-II_kiti_utf-8_m.csv >>> (1048575, 11) (eil. x stulp.)\n",
      "./csv/2021-II_ŠPAM_utf-8_m.csv >>> (272313, 11) (eil. x stulp.)\n",
      "./csv/2021-II_VKK_utf-8_m.csv >>> (1024658, 11) (eil. x stulp.)\n"
     ]
    }
   ],
   "source": [
    "print(\"Duomenys iš failų įkeliami į 'df_dict={}'. \",dt.now().replace(microsecond=0))\n",
    "\n",
    "df_dict={}\n",
    "\n",
    "for file in data_files:\n",
    "    print(f'{data_dir_git}/{file}_utf-8_m.{data_file_ext}',end=' ')\n",
    "    df = pd.read_csv(f'{data_dir_git}/{file}_utf-8_m.{data_file_ext}',sep=',',low_memory=False)\n",
    "    # ,sep=r'[;,]',engine='python'\n",
    "    print(f'>>> {df.shape} (eil. x stulp.)')\n",
    "    \n",
    "    df_dict[file]=df\n",
    "\n",
    "# print('+'*50)"
   ]
  }
 ],
 "metadata": {
  "kernelspec": {
   "display_name": "Python 3",
   "language": "python",
   "name": "python3"
  },
  "language_info": {
   "codemirror_mode": {
    "name": "ipython",
    "version": 3
   },
   "file_extension": ".py",
   "mimetype": "text/x-python",
   "name": "python",
   "nbconvert_exporter": "python",
   "pygments_lexer": "ipython3",
   "version": "3.12.3"
  }
 },
 "nbformat": 4,
 "nbformat_minor": 2
}
