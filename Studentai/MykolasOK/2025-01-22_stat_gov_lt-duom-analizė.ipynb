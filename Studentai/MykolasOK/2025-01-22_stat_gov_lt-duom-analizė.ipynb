{
 "cells": [
  {
   "cell_type": "code",
   "execution_count": 1,
   "metadata": {},
   "outputs": [
    {
     "name": "stdout",
     "output_type": "stream",
     "text": [
      "80 pask. pasiruošta 2025-01-22 21:34:07\n",
      "/home/administratorius/git/python_kursai/DataScienceNotebooks/Studentai/MykolasOK\n"
     ]
    }
   ],
   "source": [
    "from datetime import datetime as dt\n",
    "import os \n",
    "import pandas as pd\n",
    "import numpy as np\n",
    "\n",
    "# Duomenų šaltinis \n",
    "# https://data.gov.lt/datasets/1828/#resources\n",
    "data_files=['2021-I_kiti','2021-I_ŠPAM','2021-I_VKK','2021-II_kiti','2021-II_ŠPAM','2021-II_VKK']\n",
    "date_cols=['data_valanda','dateTime','dateTime','data_valanda']\n",
    "\n",
    "data_dir=\"../../../duomenys/data_gov_lt/elektra\"\n",
    "data_dir_git=\"./csv\"\n",
    "data_file_ext=\"csv\"\n",
    "\n",
    "print('80 pask. pasiruošta',dt.now().replace(microsecond=0))\n",
    "print(os.getcwd())\n",
    "# print(os.listdir(data_dir))\n",
    "\n",
    "# c:\\Users\\Eridas\\Documents\\vilniuscoding2024\\git\\DataScienceNotebooks\\Studentai\\MykolasOK\n",
    "# /home/administratorius/git/python_kursai/DataScienceNotebooks/Studentai/MykolasOK"
   ]
  },
  {
   "cell_type": "code",
   "execution_count": null,
   "metadata": {},
   "outputs": [],
   "source": [
    "print(\"Duomenys iš failų įkeliami į 'df_dict={}'. \",dt.now().replace(microsecond=0))\n",
    "\n",
    "df_dict={}\n",
    "\n",
    "for file in data_files:\n",
    "\n",
    "    print(f'{data_dir}/{file}_utf-8.{data_file_ext}',end=' ')\n",
    "    df = pd.read_csv(f'{data_dir}/{file}_utf-8.{data_file_ext}',sep=',')\n",
    "    # ,sep=r'[;,]',engine='python'\n",
    "    print(f'>>> {df.shape} (eil. x stulp.)')\n",
    "    \n",
    "    df_dict[file]=df\n",
    "\n",
    "# print('+'*50)"
   ]
  }
 ],
 "metadata": {
  "kernelspec": {
   "display_name": "Python 3",
   "language": "python",
   "name": "python3"
  },
  "language_info": {
   "codemirror_mode": {
    "name": "ipython",
    "version": 3
   },
   "file_extension": ".py",
   "mimetype": "text/x-python",
   "name": "python",
   "nbconvert_exporter": "python",
   "pygments_lexer": "ipython3",
   "version": "3.12.3"
  }
 },
 "nbformat": 4,
 "nbformat_minor": 2
}
