{
 "cells": [
  {
   "cell_type": "code",
   "execution_count": 1,
   "metadata": {},
   "outputs": [
    {
     "name": "stdout",
     "output_type": "stream",
     "text": [
      "2024-07-08\n",
      "\n"
     ]
    }
   ],
   "source": [
    "print('2024-07-08\\n')"
   ]
  },
  {
   "cell_type": "code",
   "execution_count": 3,
   "metadata": {},
   "outputs": [
    {
     "name": "stdout",
     "output_type": "stream",
     "text": [
      "Savas savaS True\n",
      "Sėdėk kėdėS False\n"
     ]
    }
   ],
   "source": [
    "# Parašyti funkciją, kuri patikrintų, ar duotas tekstas \n",
    "# yra palindromas (palindròmas (gr. palindromos – sugrįžtantis), žodis, \n",
    "# žodžių grupė, sakinys, posakis ar eilėraštis, \n",
    "# kuris skaitomas iš galo reiškia tą patį arba bent yra prasmingas.)\n",
    "# sula - alus, ėmė, savas, sėdėk užu kėdės, level, Hanah.\n",
    "# Ignoruoti raidžių registrą.\n",
    "# Turi veikti ir su skaičiais (pvz 12321, 666, 85258, etc.)\n",
    "# Vieno skaitmens skaičiai neturi būti laikomi palindromais.\n",
    "# Minuso ženklą - kaip sugalvosite. Mokėti pagrįsti savo sprendimą.\n",
    "\n",
    "def atgal(txt):\n",
    "    return txt[::-1]\n",
    "\n",
    "def is_pal(x):\n",
    "    if not(x):\n",
    "        return False\n",
    "    r = str(x).lower().replace('-','')\n",
    "    p = r == r[::-1] if len(r) > 1 else False\n",
    "    return p\n",
    "\n",
    "print('Savas',atgal('Savas'),is_pal('Savas'))\n",
    "print('Sėdėk',atgal('Sėdėk'),is_pal('Sėdėk'))"
   ]
  },
  {
   "cell_type": "code",
   "execution_count": 4,
   "metadata": {},
   "outputs": [
    {
     "name": "stdout",
     "output_type": "stream",
     "text": [
      "Darbinis aplankas: /home/administratorius/git/python_kursai/DataScienceNotebooks/Studentai/MykolasOK\n",
      "['2024-06-17.ipynb', '2024-06-19.ipynb', '2024-06-20.ipynb', '2024-06-26.ipynb', '2024-06-27.ipynb', '2024-07-01.ipynb', '2024-07-03.ipynb', '2024-07-04.ipynb', '2024-07-08(1).ipynb', '2024-07-08.ipynb', '2024-07-17.ipynb', '2024-07-18.ipynb', 'Labas', 'Mykolas.txt', 'antroji_paskaita.ipynb', 'ats.txt', 'laikinas.txt', 'manotekstai', 'pirmoji_pask.ipynb', 'pirmoji_paskaita.ipynb', 'rezultatai.txt', 't.txt', 'tmp.txt', 'trečioji_paskaita.ipynb', 'txt.txt', '2024-07-22.ipynb', '2024-07-24.ipynb', '2024-07-25.ipynb', '2024-07-29.ipynb', 'manoSQL']\n",
      "Sukurs aplanką \n"
     ]
    },
    {
     "ename": "FileNotFoundError",
     "evalue": "[Errno 2] No such file or directory: ''",
     "output_type": "error",
     "traceback": [
      "\u001b[0;31m---------------------------------------------------------------------------\u001b[0m",
      "\u001b[0;31mFileNotFoundError\u001b[0m                         Traceback (most recent call last)",
      "Cell \u001b[0;32mIn[4], line 18\u001b[0m\n\u001b[1;32m     16\u001b[0m \u001b[38;5;66;03m# dirVardas='TMP_aplankas_2'\u001b[39;00m\n\u001b[1;32m     17\u001b[0m \u001b[38;5;28mprint\u001b[39m(\u001b[38;5;124m'\u001b[39m\u001b[38;5;124mSukurs aplanką\u001b[39m\u001b[38;5;124m'\u001b[39m,dirVardas)\n\u001b[0;32m---> 18\u001b[0m \u001b[43mos\u001b[49m\u001b[38;5;241;43m.\u001b[39;49m\u001b[43mmkdir\u001b[49m\u001b[43m(\u001b[49m\u001b[43mdirVardas\u001b[49m\u001b[43m,\u001b[49m\u001b[43mmode\u001b[49m\u001b[38;5;241;43m=\u001b[39;49m\u001b[38;5;241;43m0o777\u001b[39;49m\u001b[43m)\u001b[49m\n\u001b[1;32m     20\u001b[0m \u001b[38;5;28mprint\u001b[39m(os\u001b[38;5;241m.\u001b[39mlistdir())\n",
      "\u001b[0;31mFileNotFoundError\u001b[0m: [Errno 2] No such file or directory: ''"
     ]
    }
   ],
   "source": [
    "import os\n",
    "\n",
    "# Parašykite skriptą, kuris:\n",
    "# • Parodytų failus, esančius darbiniame aplanke\n",
    "# • Sukurtų aplanką, kurio pavadinimą įvestų pats vartotojas\n",
    "# • Surastų visus txt plėtinį turinčius failus ir juos perkeltų į naująjį aplanką.\n",
    "\n",
    "print('Darbinis aplankas:',os.getcwd())\n",
    "print(os.listdir())\n",
    "\n",
    "# fVardas=input('Įveskite failo vardą')\n",
    "# f = open(fVardas+\".txt\",\"x\")\n",
    "# f.close()\n",
    "\n",
    "dirVardas=input('Įveskite aplanko vardą')\n",
    "# dirVardas='TMP_aplankas_2'\n",
    "print('Sukurs aplanką',dirVardas)\n",
    "os.mkdir(dirVardas,mode=0o777)\n",
    "\n",
    "print(os.listdir())"
   ]
  },
  {
   "cell_type": "code",
   "execution_count": 5,
   "metadata": {},
   "outputs": [
    {
     "name": "stdout",
     "output_type": "stream",
     "text": [
      "['Mykolas.txt', 'ats.txt', 'laikinas.txt', 'rezultatai.txt', 't.txt', 'tmp.txt', 'txt.txt']\n",
      "Mykolas.txt\n"
     ]
    },
    {
     "ename": "Error",
     "evalue": "Destination path 'manotekstai/Mykolas.txt' already exists",
     "output_type": "error",
     "traceback": [
      "\u001b[0;31m---------------------------------------------------------------------------\u001b[0m",
      "\u001b[0;31mError\u001b[0m                                     Traceback (most recent call last)",
      "Cell \u001b[0;32mIn[5], line 9\u001b[0m\n\u001b[1;32m      7\u001b[0m \u001b[38;5;28;01mfor\u001b[39;00m failas \u001b[38;5;129;01min\u001b[39;00m failai:\n\u001b[1;32m      8\u001b[0m     \u001b[38;5;28mprint\u001b[39m(failas)\n\u001b[0;32m----> 9\u001b[0m     \u001b[43mshutil\u001b[49m\u001b[38;5;241;43m.\u001b[39;49m\u001b[43mmove\u001b[49m\u001b[43m(\u001b[49m\u001b[43mfailas\u001b[49m\u001b[43m,\u001b[49m\u001b[38;5;124;43m'\u001b[39;49m\u001b[38;5;124;43mmanotekstai\u001b[39;49m\u001b[38;5;124;43m'\u001b[39;49m\u001b[43m)\u001b[49m\n",
      "File \u001b[0;32m/usr/lib/python3.12/shutil.py:884\u001b[0m, in \u001b[0;36mmove\u001b[0;34m(src, dst, copy_function)\u001b[0m\n\u001b[1;32m    881\u001b[0m     real_dst \u001b[38;5;241m=\u001b[39m os\u001b[38;5;241m.\u001b[39mpath\u001b[38;5;241m.\u001b[39mjoin(dst, _basename(src))\n\u001b[1;32m    883\u001b[0m     \u001b[38;5;28;01mif\u001b[39;00m os\u001b[38;5;241m.\u001b[39mpath\u001b[38;5;241m.\u001b[39mexists(real_dst):\n\u001b[0;32m--> 884\u001b[0m         \u001b[38;5;28;01mraise\u001b[39;00m Error(\u001b[38;5;124m\"\u001b[39m\u001b[38;5;124mDestination path \u001b[39m\u001b[38;5;124m'\u001b[39m\u001b[38;5;132;01m%s\u001b[39;00m\u001b[38;5;124m'\u001b[39m\u001b[38;5;124m already exists\u001b[39m\u001b[38;5;124m\"\u001b[39m \u001b[38;5;241m%\u001b[39m real_dst)\n\u001b[1;32m    885\u001b[0m \u001b[38;5;28;01mtry\u001b[39;00m:\n\u001b[1;32m    886\u001b[0m     os\u001b[38;5;241m.\u001b[39mrename(src, real_dst)\n",
      "\u001b[0;31mError\u001b[0m: Destination path 'manotekstai/Mykolas.txt' already exists"
     ]
    }
   ],
   "source": [
    "import glob\n",
    "import os\n",
    "import shutil\n",
    "\n",
    "failai = glob.glob('*.txt')\n",
    "print(failai)\n",
    "for failas in failai:\n",
    "    print(failas)\n",
    "    shutil.move(failas,'manotekstai')"
   ]
  },
  {
   "cell_type": "code",
   "execution_count": 1,
   "metadata": {},
   "outputs": [
    {
     "name": "stdout",
     "output_type": "stream",
     "text": [
      "Antra dalis (po pertraukos)\n"
     ]
    }
   ],
   "source": [
    "print('Antra dalis (po pertraukos)')"
   ]
  },
  {
   "cell_type": "code",
   "execution_count": null,
   "metadata": {},
   "outputs": [],
   "source": [
    "# Prisikelkite į darbinį aplanką įvairių failų : paveikslėlių,. csv, tekstinių, docx, pdf failų.\n",
    "# Paklauskite vartotojo aplanko pavadinimo\n",
    "# Sukurkite jį, jame sukurkite kitus atlankus, kurių pavadinimai būtų \n",
    "# 'Tekstiniai failai', 'Paveikslėliai', 'Wordai', 'pdfai'\n",
    "# ir tada surūšiuokite savo susirinktus failus į naujojo aplanko atitinkamus subfolderius."
   ]
  },
  {
   "cell_type": "code",
   "execution_count": null,
   "metadata": {},
   "outputs": [],
   "source": [
    "# Jūs turite aplanką DATA su įvairiais failais. parašykite Python kodą, kuris padarytų šio aplanko kopiją,\n",
    "# prie kiekvieno failo pavadinimo pradžios pridėdamas po tekstą \"09p_\""
   ]
  },
  {
   "cell_type": "code",
   "execution_count": null,
   "metadata": {},
   "outputs": [],
   "source": [
    "# Parašykite kodą, kuris ištrintų aplanką, kurio pavadinimą (arba kelią iki jo) \n",
    "# įveda vartotojas.\n",
    "# Kartu parašykite, kiek failų ištrynė jūsų kodas"
   ]
  },
  {
   "cell_type": "code",
   "execution_count": null,
   "metadata": {},
   "outputs": [],
   "source": [
    "# Parašykite kodą, kuris sukurtų jums tekstinį failą, kurio pavadinimą jūs įvedate.\n",
    "# Prieš kurdami, patikrinkite, ar toks failas neegzistuoja.\n",
    "# jei egzistuoa - praneškite, jog 'failas jau yra tokiu pavadinimu'."
   ]
  },
  {
   "cell_type": "code",
   "execution_count": 1,
   "metadata": {},
   "outputs": [],
   "source": [
    "# kiek čia buvo vyrų, moterų, koks jų buvo vidutinis amžius, kiek kaltininkų pasišalino?\n",
    "data = [\n",
    "    [{'dalyvisId': 47756477, 'kategorija': 'Automobilio vairuotojas', 'dalyvioTipas': 'Kitas asmuo', 'pasisalino': 'Ne', 'asmuoNezinomas': 'Ne', 'lytis': 'Moteris', 'pilietybe': None, 'amzius': 19, 'neigalumas': 'Ne', 'saugosDirzas': 'Užsegtas', 'vaikoKedesNaudojimas': None, 'saugosSalmoNaudojimas': None, 'oroPagalves': 'Nesuveikė', 'bukle': 'Nenukentėjo', 'detaliBukle': None, 'suzalojimoMastas': None, 'vairuotojoKvalifikacija': 'Atitinka', 'vairavimoStazas': 0, 'busena': 'Blaivus', 'detaliBusena': None, 'papBusena': None, 'detaliPapBusena': None, 'kaltininkas': 'Taip', 'girtumasPromilemis': None, 'dalyvioBusena': 'KALTININKAS', 'teisenosStadijaBusena': 'ADMINISTRACINIS', 'dalyvioKetPazeidimai': ['Kiti Kelių eismo taisyklių pažeidimai'], 'tpId': 32912177}],\n",
    "[{'dalyvisId': 47759080, 'kategorija': 'Automobilio vairuotojas', 'dalyvioTipas': None, 'pasisalino': 'Ne', 'asmuoNezinomas': 'Taip', 'lytis': None, 'pilietybe': None, 'amzius': None, 'neigalumas': None, 'saugosDirzas': None, 'vaikoKedesNaudojimas': None, 'saugosSalmoNaudojimas': None, 'oroPagalves': None, 'bukle': None, 'detaliBukle': None, 'suzalojimoMastas': None, 'vairuotojoKvalifikacija': None, 'vairavimoStazas': None, 'busena': None, 'detaliBusena': None, 'papBusena': None, 'detaliPapBusena': None, 'kaltininkas': 'Ne', 'girtumasPromilemis': None, 'dalyvioBusena': 'NEPAZEIDE', 'teisenosStadijaBusena': None, 'dalyvioKetPazeidimai': [], 'tpId': 32913457}, {'dalyvisId': 47759079, 'kategorija': 'Automobilio vairuotojas', 'dalyvioTipas': 'Kitas asmuo', 'pasisalino': 'Ne', 'asmuoNezinomas': 'Ne', 'lytis': 'Vyras', 'pilietybe': None, 'amzius': 18, 'neigalumas': 'Ne', 'saugosDirzas': 'Užsegtas', 'vaikoKedesNaudojimas': None, 'saugosSalmoNaudojimas': None, 'oroPagalves': 'Nesuveikė', 'bukle': 'Nenukentėjo', 'detaliBukle': None, 'suzalojimoMastas': None, 'vairuotojoKvalifikacija': 'Atitinka', 'vairavimoStazas': 0, 'busena': 'Blaivus', 'detaliBusena': None, 'papBusena': None, 'detaliPapBusena': None, 'kaltininkas': 'Taip', 'girtumasPromilemis': None, 'dalyvioBusena': 'KALTININKAS', 'teisenosStadijaBusena': 'ADMINISTRACINIS', 'dalyvioKetPazeidimai': ['Saugaus atstumo nesilaikymas'], 'tpId': 32913456}],\n",
    "[{'dalyvisId': 47756490, 'kategorija': 'Automobilio vairuotojas', 'dalyvioTipas': 'Kitas asmuo', 'pasisalino': 'Ne', 'asmuoNezinomas': 'Ne', 'lytis': 'Moteris', 'pilietybe': None, 'amzius': 39, 'neigalumas': 'Ne', 'saugosDirzas': 'Užsegtas', 'vaikoKedesNaudojimas': None, 'saugosSalmoNaudojimas': None, 'oroPagalves': 'Nesuveikė', 'bukle': 'Nenukentėjo', 'detaliBukle': None, 'suzalojimoMastas': None, 'vairuotojoKvalifikacija': 'Atitinka', 'vairavimoStazas': 13, 'busena': 'Blaivus', 'detaliBusena': None, 'papBusena': None, 'detaliPapBusena': None, 'kaltininkas': 'Ne', 'girtumasPromilemis': None, 'dalyvioBusena': 'NEPAZEIDE', 'teisenosStadijaBusena': None, 'dalyvioKetPazeidimai': [], 'tpId': 32912184}],\n",
    "[{'dalyvisId': 48447053, 'kategorija': 'Automobilio vairuotojas', 'dalyvioTipas': 'Kitas asmuo', 'pasisalino': 'Ne', 'asmuoNezinomas': 'Ne', 'lytis': 'Moteris', 'pilietybe': None, 'amzius': 48, 'neigalumas': 'Ne', 'saugosDirzas': 'Užsegtas', 'vaikoKedesNaudojimas': None, 'saugosSalmoNaudojimas': None, 'oroPagalves': 'Nesuveikė', 'bukle': 'Nenukentėjo', 'detaliBukle': None, 'suzalojimoMastas': None, 'vairuotojoKvalifikacija': 'Atitinka', 'vairavimoStazas': 25, 'busena': 'Blaivus', 'detaliBusena': None, 'papBusena': None, 'detaliPapBusena': None, 'kaltininkas': 'Taip', 'girtumasPromilemis': None, 'dalyvioBusena': 'KALTININKAS', 'teisenosStadijaBusena': 'ADMINISTRACINIS', 'dalyvioKetPazeidimai': ['Saugaus greičio nepasirinkimas'], 'tpId': 33386413}],\n",
    "[{'dalyvisId': 47756497, 'kategorija': 'Automobilio vairuotojas', 'dalyvioTipas': 'Kitas asmuo', 'pasisalino': 'Taip', 'asmuoNezinomas': 'Ne', 'lytis': 'Vyras', 'pilietybe': None, 'amzius': 31, 'neigalumas': 'Ne', 'saugosDirzas': 'Užsegtas', 'vaikoKedesNaudojimas': None, 'saugosSalmoNaudojimas': None, 'oroPagalves': 'Nesuveikė', 'bukle': 'Nenukentėjo', 'detaliBukle': None, 'suzalojimoMastas': None, 'vairuotojoKvalifikacija': 'Atitinka', 'vairavimoStazas': 5, 'busena': 'Neblaivus', 'detaliBusena': 'Lengvas neblaivumo (girtumo) laipsnis', 'papBusena': None, 'detaliPapBusena': None, 'kaltininkas': 'Taip', 'girtumasPromilemis': 1.48, 'dalyvioBusena': 'KALTININKAS', 'teisenosStadijaBusena': 'ADMINISTRACINIS', 'dalyvioKetPazeidimai': ['Saugaus greičio nepasirinkimas'], 'tpId': 32912187}],\n",
    "[{'dalyvisId': 47759516, 'kategorija': 'Automobilio vairuotojas', 'dalyvioTipas': 'Kitas asmuo', 'pasisalino': 'Ne', 'asmuoNezinomas': 'Ne', 'lytis': 'Vyras', 'pilietybe': None, 'amzius': 18, 'neigalumas': 'Ne', 'saugosDirzas': 'Užsegtas', 'vaikoKedesNaudojimas': None, 'saugosSalmoNaudojimas': None, 'oroPagalves': 'Nesuveikė', 'bukle': 'Nenukentėjo', 'detaliBukle': None, 'suzalojimoMastas': None, 'vairuotojoKvalifikacija': 'Neturi teisės vairuoti', 'vairavimoStazas': 0, 'busena': 'Neblaivus', 'detaliBusena': 'Lengvas neblaivumo (girtumo) laipsnis', 'papBusena': None, 'detaliPapBusena': None, 'kaltininkas': 'Taip', 'girtumasPromilemis': 0.78, 'dalyvioBusena': 'KALTININKAS', 'teisenosStadijaBusena': 'ADMINISTRACINIS', 'dalyvioKetPazeidimai': ['Kiti Kelių eismo taisyklių pažeidimai'], 'tpId': 32913682}],\n",
    "[{'dalyvisId': 47808609, 'kategorija': 'Automobilio vairuotojas', 'dalyvioTipas': 'Kitas asmuo', 'pasisalino': 'Ne', 'asmuoNezinomas': 'Ne', 'lytis': 'Vyras', 'pilietybe': None, 'amzius': 53, 'neigalumas': 'Ne', 'saugosDirzas': 'Užsegtas', 'vaikoKedesNaudojimas': None, 'saugosSalmoNaudojimas': None, 'oroPagalves': 'Neįrengta', 'bukle': 'Sužeistas', 'detaliBukle': 'Gydomas ambulatoriškai', 'suzalojimoMastas': 'Atsisakyta nustatyti sveikatos sutrikdymo mastą', 'vairuotojoKvalifikacija': 'Atitinka', 'vairavimoStazas': 18, 'busena': 'Blaivus', 'detaliBusena': None, 'papBusena': None, 'detaliPapBusena': None, 'kaltininkas': 'Taip', 'girtumasPromilemis': None, 'dalyvioBusena': 'KALTININKAS', 'teisenosStadijaBusena': 'ADMINISTRACINIS', 'dalyvioKetPazeidimai': ['Saugaus greičio nepasirinkimas'], 'tpId': 32939779}, {'dalyvisId': 47808610, 'kategorija': 'Keleivis', 'dalyvioTipas': 'Kitas asmuo', 'pasisalino': 'Ne', 'asmuoNezinomas': 'Ne', 'lytis': 'Vyras', 'pilietybe': None, 'amzius': 34, 'neigalumas': 'Ne', 'saugosDirzas': 'Užsegtas', 'vaikoKedesNaudojimas': None, 'saugosSalmoNaudojimas': None, 'oroPagalves': 'Neįrengta', 'bukle': 'Sužeistas', 'detaliBukle': 'Gydomas ambulatoriškai', 'suzalojimoMastas': 'Nežymus sveikatos sutrikdymas', 'vairuotojoKvalifikacija': None, 'vairavimoStazas': None, 'busena': 'Blaivus', 'detaliBusena': None, 'papBusena': None, 'detaliPapBusena': None, 'kaltininkas': 'Ne', 'girtumasPromilemis': None, 'dalyvioBusena': 'NEPAZEIDE', 'teisenosStadijaBusena': None, 'dalyvioKetPazeidimai': [], 'tpId': 32939779}],\n",
    "[{'dalyvisId': 47756539, 'kategorija': 'Automobilio vairuotojas', 'dalyvioTipas': 'Kitas asmuo', 'pasisalino': 'Ne', 'asmuoNezinomas': 'Ne', 'lytis': 'Vyras', 'pilietybe': None, 'amzius': 27, 'neigalumas': 'Ne', 'saugosDirzas': 'Užsegtas', 'vaikoKedesNaudojimas': None, 'saugosSalmoNaudojimas': None, 'oroPagalves': 'Nesuveikė', 'bukle': 'Nenukentėjo', 'detaliBukle': None, 'suzalojimoMastas': None, 'vairuotojoKvalifikacija': 'Atitinka', 'vairavimoStazas': 0, 'busena': 'Neblaivus', 'detaliBusena': 'Vidutinis neblaivumo (girtumo) laipsnis', 'papBusena': None, 'detaliPapBusena': None, 'kaltininkas': 'Taip', 'girtumasPromilemis': 2, 'dalyvioBusena': 'KALTININKAS', 'teisenosStadijaBusena': 'ADMINISTRACINIS', 'dalyvioKetPazeidimai': ['Saugaus atstumo nesilaikymas'], 'tpId': 32912212}],\n",
    "[{'dalyvisId': 47870990, 'kategorija': 'Automobilio vairuotojas', 'dalyvioTipas': 'Kitas asmuo', 'pasisalino': 'Taip', 'asmuoNezinomas': 'Ne', 'lytis': 'Vyras', 'pilietybe': None, 'amzius': 29, 'neigalumas': 'Ne', 'saugosDirzas': None, 'vaikoKedesNaudojimas': None, 'saugosSalmoNaudojimas': None, 'oroPagalves': None, 'bukle': 'Nenukentėjo', 'detaliBukle': None, 'suzalojimoMastas': None, 'vairuotojoKvalifikacija': 'Atitinka', 'vairavimoStazas': 11, 'busena': 'Blaivus', 'detaliBusena': None, 'papBusena': None, 'detaliPapBusena': None, 'kaltininkas': 'Taip', 'girtumasPromilemis': None, 'dalyvioBusena': 'KALTININKAS', 'teisenosStadijaBusena': 'ADMINISTRACINIS', 'dalyvioKetPazeidimai': ['Saugaus greičio nepasirinkimas'], 'tpId': 32972622}],\n",
    "[{'dalyvisId': 47767352, 'kategorija': 'Automobilio vairuotojas', 'dalyvioTipas': 'Kitas asmuo', 'pasisalino': 'Ne', 'asmuoNezinomas': 'Ne', 'lytis': 'Vyras', 'pilietybe': None, 'amzius': 38, 'neigalumas': 'Ne', 'saugosDirzas': 'Neužsegtas', 'vaikoKedesNaudojimas': None, 'saugosSalmoNaudojimas': None, 'oroPagalves': 'Nesuveikė', 'bukle': 'Nenukentėjo', 'detaliBukle': None, 'suzalojimoMastas': None, 'vairuotojoKvalifikacija': 'Atitinka', 'vairavimoStazas': 18, 'busena': 'Blaivus', 'detaliBusena': None, 'papBusena': None, 'detaliPapBusena': None, 'kaltininkas': 'Ne', 'girtumasPromilemis': None, 'dalyvioBusena': 'NEPAZEIDE', 'teisenosStadijaBusena': None, 'dalyvioKetPazeidimai': [], 'tpId': 32917786}, {'dalyvisId': 47767353, 'kategorija': 'Automobilio vairuotojas', 'dalyvioTipas': None, 'pasisalino': 'Taip', 'asmuoNezinomas': 'Taip', 'lytis': None, 'pilietybe': None, 'amzius': None, 'neigalumas': None, 'saugosDirzas': None, 'vaikoKedesNaudojimas': None, 'saugosSalmoNaudojimas': None, 'oroPagalves': None, 'bukle': None, 'detaliBukle': None, 'suzalojimoMastas': None, 'vairuotojoKvalifikacija': None, 'vairavimoStazas': None, 'busena': None, 'detaliBusena': None, 'papBusena': None, 'detaliPapBusena': None, 'kaltininkas': 'Taip', 'girtumasPromilemis': None, 'dalyvioBusena': 'KALTININKAS', 'teisenosStadijaBusena': 'ADMINISTRACINIS', 'dalyvioKetPazeidimai': ['Saugaus atstumo nesilaikymas'], 'tpId': 32917787}],\n",
    "[{'dalyvisId': 47756551, 'kategorija': 'Automobilio vairuotojas', 'dalyvioTipas': 'Kitas asmuo', 'pasisalino': 'Ne', 'asmuoNezinomas': 'Ne', 'lytis': 'Vyras', 'pilietybe': None, 'amzius': 35, 'neigalumas': 'Ne', 'saugosDirzas': 'Užsegtas', 'vaikoKedesNaudojimas': None, 'saugosSalmoNaudojimas': None, 'oroPagalves': 'Nesuveikė', 'bukle': 'Nenukentėjo', 'detaliBukle': None, 'suzalojimoMastas': None, 'vairuotojoKvalifikacija': 'Atitinka', 'vairavimoStazas': 10, 'busena': 'Blaivus', 'detaliBusena': None, 'papBusena': None, 'detaliPapBusena': None, 'kaltininkas': 'Ne', 'girtumasPromilemis': None, 'dalyvioBusena': 'NEPAZEIDE', 'teisenosStadijaBusena': None, 'dalyvioKetPazeidimai': [], 'tpId': 32912217}],\n",
    "[{'dalyvisId': 47756561, 'kategorija': 'Automobilio vairuotojas', 'dalyvioTipas': 'Kitas asmuo', 'pasisalino': 'Ne', 'asmuoNezinomas': 'Ne', 'lytis': 'Vyras', 'pilietybe': None, 'amzius': 36, 'neigalumas': 'Ne', 'saugosDirzas': 'Užsegtas', 'vaikoKedesNaudojimas': None, 'saugosSalmoNaudojimas': None, 'oroPagalves': 'Nesuveikė', 'bukle': 'Nenukentėjo', 'detaliBukle': None, 'suzalojimoMastas': None, 'vairuotojoKvalifikacija': 'Atitinka', 'vairavimoStazas': 15, 'busena': 'Blaivus', 'detaliBusena': None, 'papBusena': None, 'detaliPapBusena': None, 'kaltininkas': 'Ne', 'girtumasPromilemis': None, 'dalyvioBusena': 'NEPAZEIDE', 'teisenosStadijaBusena': None, 'dalyvioKetPazeidimai': [], 'tpId': 32912221}],\n",
    "[{'dalyvisId': 47756590, 'kategorija': None, 'dalyvioTipas': None, 'pasisalino': 'Taip', 'asmuoNezinomas': 'Taip', 'lytis': None, 'pilietybe': None, 'amzius': None, 'neigalumas': None, 'saugosDirzas': None, 'vaikoKedesNaudojimas': None, 'saugosSalmoNaudojimas': None, 'oroPagalves': None, 'bukle': None, 'detaliBukle': None, 'suzalojimoMastas': None, 'vairuotojoKvalifikacija': None, 'vairavimoStazas': None, 'busena': None, 'detaliBusena': None, 'papBusena': None, 'detaliPapBusena': None, 'kaltininkas': 'Taip', 'girtumasPromilemis': None, 'dalyvioBusena': 'GALIMAS_KALTININKAS', 'teisenosStadijaBusena': None, 'dalyvioKetPazeidimai': ['Saugaus atstumo nesilaikymas'], 'tpId': 32912237}, {'dalyvisId': 47756589, 'kategorija': 'Kiti', 'dalyvioTipas': 'Kitas asmuo', 'pasisalino': 'Ne', 'asmuoNezinomas': 'Ne', 'lytis': 'Moteris', 'pilietybe': None, 'amzius': 32, 'neigalumas': 'Ne', 'saugosDirzas': None, 'vaikoKedesNaudojimas': None, 'saugosSalmoNaudojimas': None, 'oroPagalves': None, 'bukle': 'Nenukentėjo', 'detaliBukle': None, 'suzalojimoMastas': None, 'vairuotojoKvalifikacija': None, 'vairavimoStazas': None, 'busena': 'Blaivus', 'detaliBusena': None, 'papBusena': None, 'detaliPapBusena': None, 'kaltininkas': 'Ne', 'girtumasPromilemis': None, 'dalyvioBusena': 'NEPAZEIDE', 'teisenosStadijaBusena': None, 'dalyvioKetPazeidimai': [], 'tpId': None}],\n",
    "[{'dalyvisId': 47798291, 'kategorija': 'Kiti', 'dalyvioTipas': 'Kitas asmuo', 'pasisalino': 'Ne', 'asmuoNezinomas': 'Ne', 'lytis': 'Vyras', 'pilietybe': None, 'amzius': 28, 'neigalumas': 'Ne', 'saugosDirzas': None, 'vaikoKedesNaudojimas': None, 'saugosSalmoNaudojimas': None, 'oroPagalves': None, 'bukle': 'Nenukentėjo', 'detaliBukle': None, 'suzalojimoMastas': None, 'vairuotojoKvalifikacija': None, 'vairavimoStazas': None, 'busena': 'Blaivus', 'detaliBusena': None, 'papBusena': None, 'detaliPapBusena': None, 'kaltininkas': 'Ne', 'girtumasPromilemis': None, 'dalyvioBusena': 'NEPAZEIDE', 'teisenosStadijaBusena': None, 'dalyvioKetPazeidimai': [], 'tpId': None}, {'dalyvisId': 47798292, 'kategorija': 'Automobilio vairuotojas', 'dalyvioTipas': 'Kitas asmuo', 'pasisalino': 'Ne', 'asmuoNezinomas': 'Ne', 'lytis': 'Vyras', 'pilietybe': None, 'amzius': 29, 'neigalumas': 'Ne', 'saugosDirzas': 'Užsegtas', 'vaikoKedesNaudojimas': None, 'saugosSalmoNaudojimas': None, 'oroPagalves': 'Nesuveikė', 'bukle': 'Nenukentėjo', 'detaliBukle': None, 'suzalojimoMastas': None, 'vairuotojoKvalifikacija': 'Neturi teisės vairuoti', 'vairavimoStazas': None, 'busena': 'Neblaivus', 'detaliBusena': None, 'papBusena': None, 'detaliPapBusena': None, 'kaltininkas': 'Taip', 'girtumasPromilemis': 1.5, 'dalyvioBusena': 'KALTININKAS', 'teisenosStadijaBusena': 'ADMINISTRACINIS', 'dalyvioKetPazeidimai': ['Saugaus atstumo nesilaikymas'], 'tpId': 32934169}],\n",
    "[{'dalyvisId': 47756953, 'kategorija': 'Automobilio vairuotojas', 'dalyvioTipas': 'Kitas asmuo', 'pasisalino': 'Ne', 'asmuoNezinomas': 'Ne', 'lytis': 'Vyras', 'pilietybe': None, 'amzius': 26, 'neigalumas': 'Ne', 'saugosDirzas': 'Užsegtas', 'vaikoKedesNaudojimas': None, 'saugosSalmoNaudojimas': None, 'oroPagalves': 'Nesuveikė', 'bukle': 'Nenukentėjo', 'detaliBukle': None, 'suzalojimoMastas': None, 'vairuotojoKvalifikacija': 'Atitinka', 'vairavimoStazas': 6, 'busena': 'Neblaivus', 'detaliBusena': None, 'papBusena': None, 'detaliPapBusena': None, 'kaltininkas': 'Taip', 'girtumasPromilemis': 1.52, 'dalyvioBusena': 'KALTININKAS', 'teisenosStadijaBusena': 'ADMINISTRACINIS', 'dalyvioKetPazeidimai': ['Saugaus greičio nepasirinkimas'], 'tpId': 32912411}],\n",
    "[{'dalyvisId': 47756607, 'kategorija': 'Automobilio vairuotojas', 'dalyvioTipas': 'Kitas asmuo', 'pasisalino': 'Ne', 'asmuoNezinomas': 'Ne', 'lytis': 'Moteris', 'pilietybe': None, 'amzius': 50, 'neigalumas': 'Ne', 'saugosDirzas': 'Užsegtas', 'vaikoKedesNaudojimas': None, 'saugosSalmoNaudojimas': None, 'oroPagalves': 'Nesuveikė', 'bukle': 'Nenukentėjo', 'detaliBukle': None, 'suzalojimoMastas': None, 'vairuotojoKvalifikacija': 'Atitinka', 'vairavimoStazas': 31, 'busena': 'Blaivus', 'detaliBusena': None, 'papBusena': None, 'detaliPapBusena': None, 'kaltininkas': 'Ne', 'girtumasPromilemis': None, 'dalyvioBusena': 'NEPAZEIDE', 'teisenosStadijaBusena': None, 'dalyvioKetPazeidimai': [], 'tpId': 32912246}],\n",
    "[{'dalyvisId': 47756632, 'kategorija': 'Automobilio vairuotojas', 'dalyvioTipas': None, 'pasisalino': 'Ne', 'asmuoNezinomas': 'Taip', 'lytis': None, 'pilietybe': None, 'amzius': None, 'neigalumas': None, 'saugosDirzas': None, 'vaikoKedesNaudojimas': None, 'saugosSalmoNaudojimas': None, 'oroPagalves': None, 'bukle': None, 'detaliBukle': None, 'suzalojimoMastas': None, 'vairuotojoKvalifikacija': None, 'vairavimoStazas': None, 'busena': None, 'detaliBusena': None, 'papBusena': None, 'detaliPapBusena': None, 'kaltininkas': 'Ne', 'girtumasPromilemis': None, 'dalyvioBusena': 'NEPAZEIDE', 'teisenosStadijaBusena': None, 'dalyvioKetPazeidimai': [], 'tpId': 32912259}, {'dalyvisId': 47756629, 'kategorija': 'Automobilio vairuotojas', 'dalyvioTipas': 'Kitas asmuo', 'pasisalino': 'Taip', 'asmuoNezinomas': 'Ne', 'lytis': 'Vyras', 'pilietybe': None, 'amzius': 25, 'neigalumas': 'Ne', 'saugosDirzas': 'Užsegtas', 'vaikoKedesNaudojimas': None, 'saugosSalmoNaudojimas': None, 'oroPagalves': 'Nesuveikė', 'bukle': 'Nenukentėjo', 'detaliBukle': None, 'suzalojimoMastas': None, 'vairuotojoKvalifikacija': 'Neturi teisės vairuoti', 'vairavimoStazas': None, 'busena': 'Neblaivus', 'detaliBusena': 'Vidutinis neblaivumo (girtumo) laipsnis', 'papBusena': None, 'detaliPapBusena': None, 'kaltininkas': 'Taip', 'girtumasPromilemis': 2.15, 'dalyvioBusena': 'KALTININKAS', 'teisenosStadijaBusena': 'ADMINISTRACINIS', 'dalyvioKetPazeidimai': ['Saugaus atstumo nesilaikymas'], 'tpId': 32912258}],\n",
    "[{'dalyvisId': 47767014, 'kategorija': None, 'dalyvioTipas': None, 'pasisalino': 'Taip', 'asmuoNezinomas': 'Taip', 'lytis': None, 'pilietybe': None, 'amzius': None, 'neigalumas': None, 'saugosDirzas': None, 'vaikoKedesNaudojimas': None, 'saugosSalmoNaudojimas': None, 'oroPagalves': None, 'bukle': None, 'detaliBukle': None, 'suzalojimoMastas': None, 'vairuotojoKvalifikacija': None, 'vairavimoStazas': None, 'busena': None, 'detaliBusena': None, 'papBusena': None, 'detaliPapBusena': None, 'kaltininkas': 'Taip', 'girtumasPromilemis': None, 'dalyvioBusena': 'GALIMAS_KALTININKAS', 'teisenosStadijaBusena': None, 'dalyvioKetPazeidimai': ['Saugaus atstumo nesilaikymas'], 'tpId': 32917607}],\n",
    "[{'dalyvisId': 47756694, 'kategorija': 'Automobilio vairuotojas', 'dalyvioTipas': 'Kitas asmuo', 'pasisalino': 'Ne', 'asmuoNezinomas': 'Ne', 'lytis': 'Vyras', 'pilietybe': None, 'amzius': 31, 'neigalumas': 'Ne', 'saugosDirzas': 'Užsegtas', 'vaikoKedesNaudojimas': None, 'saugosSalmoNaudojimas': None, 'oroPagalves': 'Nesuveikė', 'bukle': 'Nenukentėjo', 'detaliBukle': None, 'suzalojimoMastas': None, 'vairuotojoKvalifikacija': 'Atitinka', 'vairavimoStazas': 13, 'busena': 'Neblaivus', 'detaliBusena': 'Sunkus neblaivumo (girtumo) laipsnis', 'papBusena': None, 'detaliPapBusena': None, 'kaltininkas': 'Taip', 'girtumasPromilemis': 3.03, 'dalyvioBusena': 'KALTININKAS', 'teisenosStadijaBusena': 'ADMINISTRACINIS', 'dalyvioKetPazeidimai': ['Saugaus atstumo nesilaikymas'], 'tpId': 32912289}],\n",
    "[{'dalyvisId': 47838043, 'kategorija': 'Automobilio vairuotojas', 'dalyvioTipas': 'Kitas asmuo', 'pasisalino': 'Ne', 'asmuoNezinomas': 'Ne', 'lytis': 'Vyras', 'pilietybe': None, 'amzius': 52, 'neigalumas': 'Ne', 'saugosDirzas': 'Neįrengtas', 'vaikoKedesNaudojimas': None, 'saugosSalmoNaudojimas': None, 'oroPagalves': 'Neįrengta', 'bukle': 'Nenukentėjo', 'detaliBukle': None, 'suzalojimoMastas': None, 'vairuotojoKvalifikacija': 'Atitinka', 'vairavimoStazas': 20, 'busena': 'Blaivus', 'detaliBusena': None, 'papBusena': 'Neapsvaigęs', 'detaliPapBusena': None, 'kaltininkas': 'Taip', 'girtumasPromilemis': None, 'dalyvioBusena': 'KALTININKAS', 'teisenosStadijaBusena': 'ADMINISTRACINIS', 'dalyvioKetPazeidimai': ['Saugaus greičio nepasirinkimas'], 'tpId': 32955417}, {'dalyvisId': 47838044, 'kategorija': 'Keleivis', 'dalyvioTipas': 'Kitas asmuo', 'pasisalino': 'Ne', 'asmuoNezinomas': 'Ne', 'lytis': 'Moteris', 'pilietybe': None, 'amzius': 43, 'neigalumas': 'Ne', 'saugosDirzas': 'Neįrengtas', 'vaikoKedesNaudojimas': None, 'saugosSalmoNaudojimas': None, 'oroPagalves': 'Neįrengta', 'bukle': 'Sužeistas', 'detaliBukle': 'Gydomas stacionare', 'suzalojimoMastas': None, 'vairuotojoKvalifikacija': None, 'vairavimoStazas': None, 'busena': 'Blaivus', 'detaliBusena': None, 'papBusena': None, 'detaliPapBusena': None, 'kaltininkas': 'Ne', 'girtumasPromilemis': None, 'dalyvioBusena': 'NEPAZEIDE', 'teisenosStadijaBusena': None, 'dalyvioKetPazeidimai': [], 'tpId': 32955417}],\n",
    "[{'dalyvisId': 47790937, 'kategorija': 'Automobilio vairuotojas', 'dalyvioTipas': 'Kitas asmuo', 'pasisalino': 'Ne', 'asmuoNezinomas': 'Ne', 'lytis': 'Vyras', 'pilietybe': None, 'amzius': 23, 'neigalumas': 'Ne', 'saugosDirzas': 'Užsegtas', 'vaikoKedesNaudojimas': None, 'saugosSalmoNaudojimas': None, 'oroPagalves': 'Nesuveikė', 'bukle': 'Nenukentėjo', 'detaliBukle': None, 'suzalojimoMastas': None, 'vairuotojoKvalifikacija': 'Atitinka', 'vairavimoStazas': 4, 'busena': 'Neblaivus', 'detaliBusena': 'Lengvas neblaivumo (girtumo) laipsnis', 'papBusena': None, 'detaliPapBusena': None, 'kaltininkas': 'Taip', 'girtumasPromilemis': 0.87, 'dalyvioBusena': 'KALTININKAS', 'teisenosStadijaBusena': 'ADMINISTRACINIS', 'dalyvioKetPazeidimai': ['Saugaus greičio nepasirinkimas'], 'tpId': 32930281}, {'dalyvisId': 47790938, 'kategorija': 'Keleivis', 'dalyvioTipas': 'Kitas asmuo', 'pasisalino': 'Ne', 'asmuoNezinomas': 'Ne', 'lytis': 'Vyras', 'pilietybe': None, 'amzius': 23, 'neigalumas': 'Ne', 'saugosDirzas': 'Užsegtas', 'vaikoKedesNaudojimas': None, 'saugosSalmoNaudojimas': None, 'oroPagalves': 'Nesuveikė', 'bukle': 'Nenukentėjo', 'detaliBukle': None, 'suzalojimoMastas': None, 'vairuotojoKvalifikacija': None, 'vairavimoStazas': None, 'busena': 'Neblaivus', 'detaliBusena': 'Lengvas neblaivumo (girtumo) laipsnis', 'papBusena': None, 'detaliPapBusena': None, 'kaltininkas': 'Ne', 'girtumasPromilemis': 1.46, 'dalyvioBusena': 'NEPAZEIDE', 'teisenosStadijaBusena': None, 'dalyvioKetPazeidimai': [], 'tpId': 32930281}],\n",
    "[{'dalyvisId': 47756705, 'kategorija': 'Automobilio vairuotojas', 'dalyvioTipas': 'Kitas asmuo', 'pasisalino': 'Ne', 'asmuoNezinomas': 'Ne', 'lytis': 'Vyras', 'pilietybe': None, 'amzius': 44, 'neigalumas': 'Ne', 'saugosDirzas': 'Užsegtas', 'vaikoKedesNaudojimas': None, 'saugosSalmoNaudojimas': None, 'oroPagalves': 'Suveikė', 'bukle': 'Nenukentėjo', 'detaliBukle': None, 'suzalojimoMastas': None, 'vairuotojoKvalifikacija': 'Atitinka', 'vairavimoStazas': 27, 'busena': 'Blaivus', 'detaliBusena': None, 'papBusena': None, 'detaliPapBusena': None, 'kaltininkas': 'Taip', 'girtumasPromilemis': None, 'dalyvioBusena': 'KALTININKAS', 'teisenosStadijaBusena': 'ADMINISTRACINIS', 'dalyvioKetPazeidimai': ['Saugaus greičio nepasirinkimas'], 'tpId': 32912295}],\n",
    "[{'dalyvisId': 48295244, 'kategorija': 'Pėsčiasis', 'dalyvioTipas': 'Kitas asmuo', 'pasisalino': 'Ne', 'asmuoNezinomas': 'Ne', 'lytis': 'Moteris', 'pilietybe': None, 'amzius': 72, 'neigalumas': 'Ne', 'saugosDirzas': None, 'vaikoKedesNaudojimas': None, 'saugosSalmoNaudojimas': None, 'oroPagalves': None, 'bukle': 'Sužeistas', 'detaliBukle': 'Gydomas ambulatoriškai', 'suzalojimoMastas': 'Nesunkus sveikatos sutrikdymas', 'vairuotojoKvalifikacija': None, 'vairavimoStazas': None, 'busena': 'Blaivus', 'detaliBusena': None, 'papBusena': None, 'detaliPapBusena': None, 'kaltininkas': 'Ne', 'girtumasPromilemis': None, 'dalyvioBusena': 'NEPAZEIDE', 'teisenosStadijaBusena': None, 'dalyvioKetPazeidimai': [], 'tpId': None}, {'dalyvisId': 48295243, 'kategorija': 'Automobilio vairuotojas', 'dalyvioTipas': 'Kitas asmuo', 'pasisalino': 'Taip', 'asmuoNezinomas': 'Ne', 'lytis': 'Vyras', 'pilietybe': None, 'amzius': 31, 'neigalumas': 'Ne', 'saugosDirzas': 'Užsegtas', 'vaikoKedesNaudojimas': None, 'saugosSalmoNaudojimas': None, 'oroPagalves': 'Nesuveikė', 'bukle': 'Nenukentėjo', 'detaliBukle': None, 'suzalojimoMastas': None, 'vairuotojoKvalifikacija': 'Neturi teisės vairuoti', 'vairavimoStazas': None, 'busena': 'Blaivus', 'detaliBusena': None, 'papBusena': None, 'detaliPapBusena': None, 'kaltininkas': 'Taip', 'girtumasPromilemis': None, 'dalyvioBusena': 'GALIMAS_KALTININKAS', 'teisenosStadijaBusena': 'IKITEISMINIS', 'dalyvioKetPazeidimai': ['Saugaus atstumo nesilaikymas'], 'tpId': 33242282}],\n",
    "[{'dalyvisId': 47756688, 'kategorija': 'Automobilio vairuotojas', 'dalyvioTipas': 'Kitas asmuo', 'pasisalino': 'Ne', 'asmuoNezinomas': 'Ne', 'lytis': None, 'pilietybe': None, 'amzius': None, 'neigalumas': 'Ne', 'saugosDirzas': 'Užsegtas', 'vaikoKedesNaudojimas': None, 'saugosSalmoNaudojimas': None, 'oroPagalves': 'Nesuveikė', 'bukle': 'Nenukentėjo', 'detaliBukle': None, 'suzalojimoMastas': None, 'vairuotojoKvalifikacija': 'Atitinka', 'vairavimoStazas': 5, 'busena': 'Blaivus', 'detaliBusena': None, 'papBusena': None, 'detaliPapBusena': None, 'kaltininkas': 'Ne', 'girtumasPromilemis': None, 'dalyvioBusena': 'NEPAZEIDE', 'teisenosStadijaBusena': None, 'dalyvioKetPazeidimai': [], 'tpId': 32912286}, {'dalyvisId': 47756689, 'kategorija': 'Automobilio vairuotojas', 'dalyvioTipas': 'Kitas asmuo', 'pasisalino': 'Ne', 'asmuoNezinomas': 'Ne', 'lytis': None, 'pilietybe': None, 'amzius': None, 'neigalumas': 'Ne', 'saugosDirzas': 'Užsegtas', 'vaikoKedesNaudojimas': None, 'saugosSalmoNaudojimas': None, 'oroPagalves': 'Nesuveikė', 'bukle': 'Nenukentėjo', 'detaliBukle': None, 'suzalojimoMastas': None, 'vairuotojoKvalifikacija': 'Atitinka', 'vairavimoStazas': 5, 'busena': 'Blaivus', 'detaliBusena': None, 'papBusena': None, 'detaliPapBusena': None, 'kaltininkas': 'Taip', 'girtumasPromilemis': None, 'dalyvioBusena': 'KALTININKAS', 'teisenosStadijaBusena': 'ADMINISTRACINIS', 'dalyvioKetPazeidimai': ['Saugaus greičio nepasirinkimas'], 'tpId': 32912287}],\n",
    "[{'dalyvisId': 47756709, 'kategorija': 'Automobilio vairuotojas', 'dalyvioTipas': 'Kitas asmuo', 'pasisalino': 'Ne', 'asmuoNezinomas': 'Ne', 'lytis': 'Vyras', 'pilietybe': None, 'amzius': 39, 'neigalumas': 'Ne', 'saugosDirzas': 'Užsegtas', 'vaikoKedesNaudojimas': None, 'saugosSalmoNaudojimas': None, 'oroPagalves': 'Nesuveikė', 'bukle': 'Nenukentėjo', 'detaliBukle': None, 'suzalojimoMastas': None, 'vairuotojoKvalifikacija': 'Atitinka', 'vairavimoStazas': 20, 'busena': 'Blaivus', 'detaliBusena': None, 'papBusena': None, 'detaliPapBusena': None, 'kaltininkas': 'Ne', 'girtumasPromilemis': None, 'dalyvioBusena': 'NEPAZEIDE', 'teisenosStadijaBusena': None, 'dalyvioKetPazeidimai': [], 'tpId': 32912297}],\n",
    "[{'dalyvisId': 47823829, 'kategorija': 'Automobilio vairuotojas', 'dalyvioTipas': None, 'pasisalino': 'Taip', 'asmuoNezinomas': 'Taip', 'lytis': None, 'pilietybe': None, 'amzius': None, 'neigalumas': None, 'saugosDirzas': None, 'vaikoKedesNaudojimas': None, 'saugosSalmoNaudojimas': None, 'oroPagalves': None, 'bukle': None, 'detaliBukle': None, 'suzalojimoMastas': None, 'vairuotojoKvalifikacija': None, 'vairavimoStazas': None, 'busena': None, 'detaliBusena': None, 'papBusena': None, 'detaliPapBusena': None, 'kaltininkas': 'Taip', 'girtumasPromilemis': None, 'dalyvioBusena': 'GALIMAS_KALTININKAS', 'teisenosStadijaBusena': 'ADMINISTRACINIS', 'dalyvioKetPazeidimai': ['Kiti Kelių eismo taisyklių pažeidimai'], 'tpId': 32947795}, {'dalyvisId': 47823839, 'kategorija': 'Kiti', 'dalyvioTipas': 'Kitas asmuo', 'pasisalino': 'Ne', 'asmuoNezinomas': 'Ne', 'lytis': 'Moteris', 'pilietybe': None, 'amzius': 21, 'neigalumas': 'Ne', 'saugosDirzas': None, 'vaikoKedesNaudojimas': None, 'saugosSalmoNaudojimas': None, 'oroPagalves': None, 'bukle': 'Nenukentėjo', 'detaliBukle': None, 'suzalojimoMastas': None, 'vairuotojoKvalifikacija': None, 'vairavimoStazas': None, 'busena': 'Blaivus', 'detaliBusena': None, 'papBusena': None, 'detaliPapBusena': None, 'kaltininkas': 'Taip', 'girtumasPromilemis': None, 'dalyvioBusena': 'KALTININKAS', 'teisenosStadijaBusena': 'ADMINISTRACINIS', 'dalyvioKetPazeidimai': ['Kiti Kelių eismo taisyklių pažeidimai'], 'tpId': None}],\n",
    "[{'dalyvisId': 47767276, 'kategorija': 'Automobilio vairuotojas', 'dalyvioTipas': 'Kitas asmuo', 'pasisalino': 'Ne', 'asmuoNezinomas': 'Ne', 'lytis': 'Vyras', 'pilietybe': None, 'amzius': 26, 'neigalumas': 'Ne', 'saugosDirzas': 'Užsegtas', 'vaikoKedesNaudojimas': None, 'saugosSalmoNaudojimas': None, 'oroPagalves': 'Suveikė', 'bukle': 'Nenukentėjo', 'detaliBukle': None, 'suzalojimoMastas': None, 'vairuotojoKvalifikacija': 'Neturi teisės vairuoti', 'vairavimoStazas': None, 'busena': 'Neblaivus', 'detaliBusena': 'Vidutinis neblaivumo (girtumo) laipsnis', 'papBusena': None, 'detaliPapBusena': None, 'kaltininkas': 'Taip', 'girtumasPromilemis': 1.77, 'dalyvioBusena': 'KALTININKAS', 'teisenosStadijaBusena': 'ADMINISTRACINIS', 'dalyvioKetPazeidimai': ['Reikalavimo duoti kelią nevykdymas važiuojant per sankryžą'], 'tpId': 32917748}, {'dalyvisId': 47767277, 'kategorija': 'Automobilio vairuotojas', 'dalyvioTipas': 'Kitas asmuo', 'pasisalino': 'Ne', 'asmuoNezinomas': 'Ne', 'lytis': 'Vyras', 'pilietybe': None, 'amzius': 21, 'neigalumas': 'Ne', 'saugosDirzas': 'Užsegtas', 'vaikoKedesNaudojimas': None, 'saugosSalmoNaudojimas': None, 'oroPagalves': 'Suveikė', 'bukle': 'Nenukentėjo', 'detaliBukle': None, 'suzalojimoMastas': None, 'vairuotojoKvalifikacija': 'Atitinka', 'vairavimoStazas': 3, 'busena': 'Blaivus', 'detaliBusena': None, 'papBusena': None, 'detaliPapBusena': None, 'kaltininkas': 'Ne', 'girtumasPromilemis': None, 'dalyvioBusena': 'NEPAZEIDE', 'teisenosStadijaBusena': None, 'dalyvioKetPazeidimai': [], 'tpId': 32917749}, {'dalyvisId': 47767278, 'kategorija': 'Keleivis', 'dalyvioTipas': 'Kitas asmuo', 'pasisalino': 'Ne', 'asmuoNezinomas': 'Ne', 'lytis': 'Moteris', 'pilietybe': None, 'amzius': 27, 'neigalumas': 'Ne', 'saugosDirzas': 'Užsegtas', 'vaikoKedesNaudojimas': None, 'saugosSalmoNaudojimas': None, 'oroPagalves': 'Suveikė', 'bukle': 'Nenukentėjo', 'detaliBukle': None, 'suzalojimoMastas': None, 'vairuotojoKvalifikacija': None, 'vairavimoStazas': None, 'busena': 'Neblaivus', 'detaliBusena': 'Lengvas neblaivumo (girtumo) laipsnis', 'papBusena': None, 'detaliPapBusena': None, 'kaltininkas': 'Ne', 'girtumasPromilemis': 0.9500000000000001, 'dalyvioBusena': 'NEPAZEIDE', 'teisenosStadijaBusena': None, 'dalyvioKetPazeidimai': [], 'tpId': 32917748}],\n",
    "[{'dalyvisId': 47769521, 'kategorija': 'Automobilio vairuotojas', 'dalyvioTipas': 'Kitas asmuo', 'pasisalino': 'Taip', 'asmuoNezinomas': 'Ne', 'lytis': 'Vyras', 'pilietybe': None, 'amzius': 60, 'neigalumas': 'Ne', 'saugosDirzas': 'Užsegtas', 'vaikoKedesNaudojimas': None, 'saugosSalmoNaudojimas': None, 'oroPagalves': 'Nesuveikė', 'bukle': 'Nenukentėjo', 'detaliBukle': None, 'suzalojimoMastas': None, 'vairuotojoKvalifikacija': 'Atitinka', 'vairavimoStazas': 27, 'busena': 'Blaivus', 'detaliBusena': None, 'papBusena': None, 'detaliPapBusena': None, 'kaltininkas': 'Taip', 'girtumasPromilemis': None, 'dalyvioBusena': 'KALTININKAS', 'teisenosStadijaBusena': 'ADMINISTRACINIS', 'dalyvioKetPazeidimai': ['Kiti Kelių eismo taisyklių pažeidimai'], 'tpId': 32918919}, {'dalyvisId': 47769522, 'kategorija': 'Automobilio vairuotojas', 'dalyvioTipas': 'Kitas asmuo', 'pasisalino': 'Ne', 'asmuoNezinomas': 'Ne', 'lytis': 'Moteris', 'pilietybe': None, 'amzius': 33, 'neigalumas': 'Ne', 'saugosDirzas': 'Užsegtas', 'vaikoKedesNaudojimas': None, 'saugosSalmoNaudojimas': None, 'oroPagalves': 'Nesuveikė', 'bukle': 'Nenukentėjo', 'detaliBukle': None, 'suzalojimoMastas': None, 'vairuotojoKvalifikacija': 'Atitinka', 'vairavimoStazas': 15, 'busena': 'Blaivus', 'detaliBusena': None, 'papBusena': None, 'detaliPapBusena': None, 'kaltininkas': 'Ne', 'girtumasPromilemis': None, 'dalyvioBusena': 'NEPAZEIDE', 'teisenosStadijaBusena': None, 'dalyvioKetPazeidimai': [], 'tpId': 32918920}],\n",
    "[{'dalyvisId': 47756831, 'kategorija': 'Automobilio vairuotojas', 'dalyvioTipas': 'Kitas asmuo', 'pasisalino': 'Ne', 'asmuoNezinomas': 'Ne', 'lytis': 'Vyras', 'pilietybe': None, 'amzius': 36, 'neigalumas': 'Ne', 'saugosDirzas': 'Užsegtas', 'vaikoKedesNaudojimas': None, 'saugosSalmoNaudojimas': None, 'oroPagalves': 'Nesuveikė', 'bukle': 'Nenukentėjo', 'detaliBukle': None, 'suzalojimoMastas': None, 'vairuotojoKvalifikacija': 'Atitinka', 'vairavimoStazas': 17, 'busena': 'Blaivus', 'detaliBusena': None, 'papBusena': None, 'detaliPapBusena': None, 'kaltininkas': 'Ne', 'girtumasPromilemis': None, 'dalyvioBusena': 'NEPAZEIDE', 'teisenosStadijaBusena': None, 'dalyvioKetPazeidimai': [], 'tpId': 32912354}, {'dalyvisId': 47756830, 'kategorija': None, 'dalyvioTipas': None, 'pasisalino': 'Taip', 'asmuoNezinomas': 'Taip', 'lytis': None, 'pilietybe': None, 'amzius': None, 'neigalumas': None, 'saugosDirzas': None, 'vaikoKedesNaudojimas': None, 'saugosSalmoNaudojimas': None, 'oroPagalves': None, 'bukle': None, 'detaliBukle': None, 'suzalojimoMastas': None, 'vairuotojoKvalifikacija': None, 'vairavimoStazas': None, 'busena': None, 'detaliBusena': None, 'papBusena': None, 'detaliPapBusena': None, 'kaltininkas': 'Taip', 'girtumasPromilemis': None, 'dalyvioBusena': 'GALIMAS_KALTININKAS', 'teisenosStadijaBusena': None, 'dalyvioKetPazeidimai': ['Saugaus atstumo nesilaikymas'], 'tpId': None}],\n",
    "[{'dalyvisId': 47816484, 'kategorija': 'Kiti', 'dalyvioTipas': 'Kitas asmuo', 'pasisalino': 'Ne', 'asmuoNezinomas': 'Ne', 'lytis': 'Vyras', 'pilietybe': None, 'amzius': 67, 'neigalumas': 'Ne', 'saugosDirzas': None, 'vaikoKedesNaudojimas': None, 'saugosSalmoNaudojimas': None, 'oroPagalves': None, 'bukle': 'Nenukentėjo', 'detaliBukle': None, 'suzalojimoMastas': None, 'vairuotojoKvalifikacija': None, 'vairavimoStazas': None, 'busena': 'Blaivus', 'detaliBusena': None, 'papBusena': None, 'detaliPapBusena': None, 'kaltininkas': 'Ne', 'girtumasPromilemis': None, 'dalyvioBusena': 'NEPAZEIDE', 'teisenosStadijaBusena': None, 'dalyvioKetPazeidimai': [], 'tpId': None}, {'dalyvisId': 47816483, 'kategorija': 'Automobilio vairuotojas', 'dalyvioTipas': 'Kitas asmuo', 'pasisalino': 'Ne', 'asmuoNezinomas': 'Ne', 'lytis': 'Vyras', 'pilietybe': None, 'amzius': 58, 'neigalumas': 'Ne', 'saugosDirzas': 'Užsegtas', 'vaikoKedesNaudojimas': None, 'saugosSalmoNaudojimas': None, 'oroPagalves': 'Nesuveikė', 'bukle': 'Nenukentėjo', 'detaliBukle': None, 'suzalojimoMastas': None, 'vairuotojoKvalifikacija': 'Atitinka', 'vairavimoStazas': 17, 'busena': 'Neblaivus', 'detaliBusena': None, 'papBusena': None, 'detaliPapBusena': None, 'kaltininkas': 'Taip', 'girtumasPromilemis': None, 'dalyvioBusena': 'GALIMAS_KALTININKAS', 'teisenosStadijaBusena': 'IKITEISMINIS', 'dalyvioKetPazeidimai': ['Saugaus atstumo nesilaikymas'], 'tpId': 32943941}]\n",
    "]"
   ]
  }
 ],
 "metadata": {
  "kernelspec": {
   "display_name": "Python 3",
   "language": "python",
   "name": "python3"
  },
  "language_info": {
   "codemirror_mode": {
    "name": "ipython",
    "version": 3
   },
   "file_extension": ".py",
   "mimetype": "text/x-python",
   "name": "python",
   "nbconvert_exporter": "python",
   "pygments_lexer": "ipython3",
   "version": "3.12.3"
  }
 },
 "nbformat": 4,
 "nbformat_minor": 2
}
