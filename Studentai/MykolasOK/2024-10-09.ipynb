{
 "cells": [
  {
   "cell_type": "code",
   "execution_count": 1,
   "metadata": {},
   "outputs": [
    {
     "name": "stdout",
     "output_type": "stream",
     "text": [
      "Paskaita nr. 39, 2024-10-09\n",
      "Pasiruošta 2024-10-09 18:18:47.503634\n"
     ]
    }
   ],
   "source": [
    "import numpy as np\n",
    "import pandas as pd\n",
    "import matplotlib.pyplot as plt\n",
    "import warnings\n",
    "warnings.filterwarnings('ignore')\n",
    "import seaborn as sns\n",
    "import requests\n",
    "# import sqlite3\n",
    "# import mysql.connector as cnt\n",
    "# import plotly.express as px\n",
    "\n",
    "import datetime as dt\n",
    "print('Paskaita nr. 39, 2024-10-09')\n",
    "print('Pasiruošta',dt.datetime.now())"
   ]
  },
  {
   "cell_type": "code",
   "execution_count": null,
   "metadata": {},
   "outputs": [],
   "source": [
    "# Leiskite vartotojui nurodyti iki trijų metreologinių stočių, ir dvi datas : nuo, iki.\n",
    "# Iš meto.lt per API išgaukite istorinius duomenis nurodytame laikotarpyje,\n",
    "# ir atvaizduokite grafiškai - oro temperatūrą bei vėjo greitį.\n",
    "\n",
    "# https://docs.streamlit.io/develop/api-reference/widgets/st.multiselect"
   ]
  },
  {
   "cell_type": "code",
   "execution_count": 33,
   "metadata": {},
   "outputs": [
    {
     "name": "stdout",
     "output_type": "stream",
     "text": [
      "amn Akmen | aya Alyta | ays Anyks | brt Birst | bru Birzu | dtu Dotnu | duk Drusk | dkt Dukst | \n",
      "eet Elekt | jnv Jonav | jns Jonis | jra Jurba | kii Kaisi | kla Kalva | kuo Kauno | kzu Kazlu | \n",
      "kle Kelme | kap Klaip | kei Kreti | kps Kupis | kbr Kybar | luu Lauku | lzi Lazdi | mrj Marij | \n",
      "mzi Mazei | mlt Molet | nds Nidos | pgg Pageg | pku Pakru | pnv Panev | pug Plung | pin Prien | \n",
      "rsi Rasei | rea Rieta | rks Rokis | sku Sakiu | sli Salci | sdv Seduv | sal Siaul | slt Silut | \n",
      "sud Skuod | sec Svenc | tua Taura | tli Telsi | tau Traku | umr Ukmer | ueo Uteno | vrn Varen | \n",
      "vne Vente | vzi Vezai | vli Vilni | zrs Zaras | \n",
      "fvzdfgd\n",
      "dr\n",
      "rt\n",
      "ser\n"
     ]
    }
   ],
   "source": [
    "url = 'https://api.meteo.lt/v1/stations'\n",
    "page = requests.get(url)\n",
    "r = page.json()\n",
    "dfSt = pd.DataFrame(data=r) # Stations\n",
    "\n",
    "# for x in dfSt['code']:\n",
    "#     print(x)\n",
    "# for x in dfSt['name']:\n",
    "#     print(x,end=' ')\n",
    "# for x in dfSt['coordinates']:\n",
    "#     print(x)\n",
    "\n",
    "dfSt['k3']=dfSt['code'][0]+dfSt['code'][2]+dfSt['code'][4]\n",
    "\n",
    "k3Lst=[]\n",
    "x=1\n",
    "for i in range(len(dfSt['code'])):\n",
    "    kodas3=dfSt['code'][i][0:5:2]\n",
    "    kodasT=dfSt['code'][i][0:5].capitalize()\n",
    "    k3Lst.append(kodas3)\n",
    "    print(kodas3,kodasT,sep=' ',end=' | ')\n",
    "    x=x+1\n",
    "    if x>8:\n",
    "        print()\n",
    "        x=1\n",
    "dfSt['k3']=k3Lst\n",
    "mstStr=input('Pasirinkite miestus iš sąrašo')\n",
    "mstLst=mstStr.split()\n",
    "print()\n",
    "for i in range(len(mstLst)):\n",
    "    print(mstLst[i])"
   ]
  }
 ],
 "metadata": {
  "kernelspec": {
   "display_name": "Python 3",
   "language": "python",
   "name": "python3"
  },
  "language_info": {
   "codemirror_mode": {
    "name": "ipython",
    "version": 3
   },
   "file_extension": ".py",
   "mimetype": "text/x-python",
   "name": "python",
   "nbconvert_exporter": "python",
   "pygments_lexer": "ipython3",
   "version": "3.12.3"
  }
 },
 "nbformat": 4,
 "nbformat_minor": 2
}
