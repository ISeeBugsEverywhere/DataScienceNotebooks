{
 "cells": [
  {
   "cell_type": "code",
   "execution_count": 1,
   "metadata": {},
   "outputs": [],
   "source": [
    "import pandas as pd"
   ]
  },
  {
   "cell_type": "code",
   "execution_count": 2,
   "metadata": {},
   "outputs": [
    {
     "name": "stdout",
     "output_type": "stream",
     "text": [
      "  numeris                         failo_vardas\n",
      "0   24NLH  valstybiniai_numeriai_csv_part1.csv\n",
      "1   04TPI  valstybiniai_numeriai_csv_part1.csv\n",
      "2  BYL744  valstybiniai_numeriai_csv_part1.csv\n",
      "Ilgis 3249307.\n",
      "\n",
      "  numeris                         failo_vardas\n",
      "0   11OUY  valstybiniai_numeriai_csv_part2.csv\n",
      "1  NVL306  valstybiniai_numeriai_csv_part2.csv\n",
      "2  YSJ932  valstybiniai_numeriai_csv_part2.csv\n",
      "Ilgis 2758280.\n",
      "\n",
      "  numeris                         failo_vardas\n",
      "0   955SH  valstybiniai_numeriai_csv_part3.csv\n",
      "1   52JFG  valstybiniai_numeriai_csv_part3.csv\n",
      "2  033005  valstybiniai_numeriai_csv_part3.csv\n",
      "Ilgis 1718682.\n",
      "\n"
     ]
    }
   ],
   "source": [
    "# 1. URL sąrašas\n",
    "urls = [\n",
    "    \"https://github.com/marukqs/techmuge/blob/85544144cb731577c29a76845a8e37d468c4a679/valstybiniai_numeriai_csv_part1.csv?raw=true\",\n",
    "    \"https://github.com/marukqs/techmuge/blob/85544144cb731577c29a76845a8e37d468c4a679/valstybiniai_numeriai_csv_part2.csv?raw=true\",\n",
    "    \"https://github.com/marukqs/techmuge/blob/85544144cb731577c29a76845a8e37d468c4a679/valstybiniai_numeriai_csv_part3.csv?raw=true\",\n",
    "]\n",
    "\n",
    "# 2. Duomenų nuskaitymas ir apdorojimas\n",
    "dataframes = []\n",
    "for url in urls:\n",
    "\n",
    "    # Nuskaitymas į DataFrame\n",
    "    df = pd.read_csv(url, header=None, names=[\"numeris\"])\n",
    "\n",
    "    # Pridedamas stulpelis su failo vardu\n",
    "    df[\"failo_vardas\"] = url.split(\"/\")[-1].split(\"?\")[0]\n",
    "\n",
    "    print(df.head(3),f\"Ilgis {len(df)}.\",sep='\\n',end='\\n\\n')\n",
    "    dataframes.append(df)\n",
    "   "
   ]
  },
  {
   "cell_type": "code",
   "execution_count": 3,
   "metadata": {},
   "outputs": [
    {
     "name": "stdout",
     "output_type": "stream",
     "text": [
      "Jungtinio ilgis 7726269.\n"
     ]
    }
   ],
   "source": [
    "# 3. Sujungimas į vieną DataFrame\n",
    "combined_df = pd.concat(dataframes, ignore_index=True)\n",
    "print(f\"Jungtinio ilgis {len(combined_df)}.\")"
   ]
  },
  {
   "cell_type": "code",
   "execution_count": 4,
   "metadata": {},
   "outputs": [
    {
     "name": "stdout",
     "output_type": "stream",
     "text": [
      "  numeris                         failo_vardas        tipas\n",
      "0   24NLH  valstybiniai_numeriai_csv_part1.csv      mopedas\n",
      "1   04TPI  valstybiniai_numeriai_csv_part1.csv      mopedas\n",
      "2  BYL744  valstybiniai_numeriai_csv_part1.csv  automobilis\n",
      "3  VRY997  valstybiniai_numeriai_csv_part1.csv  automobilis\n",
      "4  ZKP768  valstybiniai_numeriai_csv_part1.csv  automobilis \n",
      "Ilgis 7726269.\n"
     ]
    }
   ],
   "source": [
    "# 6. Pridedame stulpelį 'tipas'\n",
    "def classify_number(numeris):\n",
    "    import re\n",
    "    if re.fullmatch(r\"[A-Z]{3}\\d{3}\", numeris):\n",
    "        return \"automobilis\"\n",
    "    elif re.fullmatch(r\"[A-Z]{2}\\d{3}\", numeris):\n",
    "        return \"priekaba\"\n",
    "    elif re.fullmatch(r\"\\d{3}[A-Z]{2}\", numeris):\n",
    "        return \"motociklas\"\n",
    "    elif re.fullmatch(r\"\\d{2}[A-Z]{3}\", numeris):\n",
    "        return \"mopedas\"\n",
    "    elif re.fullmatch(r\"[A-Z]{2}\\d{2}\", numeris):\n",
    "        return \"keturratis\"\n",
    "    elif re.fullmatch(r\"T\\d{5}\", numeris, re.IGNORECASE):\n",
    "        return \"taksi\"\n",
    "    elif re.fullmatch(r\"H\\d{5}\", numeris, re.IGNORECASE):\n",
    "        return \"istorinis\"\n",
    "    elif re.fullmatch(r\"\\d{4}H\", numeris, re.IGNORECASE):\n",
    "        return \"istorinis mažasis\"\n",
    "    elif re.fullmatch(r\"P\\d{5}\", numeris, re.IGNORECASE):\n",
    "        return \"prekyba\"\n",
    "    elif re.fullmatch(r\"P\\d{4}\", numeris, re.IGNORECASE):\n",
    "        return \"prekyba mažasis\"\n",
    "    elif re.fullmatch(r\"E[A-Z]\\d{4}\", numeris, re.IGNORECASE):\n",
    "        return \"EV\"\n",
    "    elif re.fullmatch(r\"\\d{6}\", numeris):\n",
    "        return \"diplomatinis\"\n",
    "    elif re.fullmatch(r\"\\d{5}\", numeris):\n",
    "        return \"diplomatinis mažasis\"\n",
    "    elif re.fullmatch(r\"\\d{4}[A-Z]{2}\", numeris):\n",
    "        return \"tranzitinis\"\n",
    "    elif re.fullmatch(r\"\\d{4}[A-Z]\", numeris):\n",
    "        return \"tranzitinis mažasis\"\n",
    "    else:\n",
    "        return \"neatpažintas\"\n",
    "\n",
    "combined_df[\"tipas\"] = combined_df[\"numeris\"].apply(classify_number)\n",
    "print(combined_df.head(5),f\"\\nIlgis {len(combined_df)}.\")"
   ]
  },
  {
   "cell_type": "code",
   "execution_count": 5,
   "metadata": {},
   "outputs": [
    {
     "name": "stdout",
     "output_type": "stream",
     "text": [
      "  numeris                         failo_vardas        tipas\n",
      "0   24nlh  valstybiniai_numeriai_csv_part1.csv      mopedas\n",
      "1   04tpi  valstybiniai_numeriai_csv_part1.csv      mopedas\n",
      "2  byl744  valstybiniai_numeriai_csv_part1.csv  automobilis\n",
      "3  vry997  valstybiniai_numeriai_csv_part1.csv  automobilis\n",
      "4  zkp768  valstybiniai_numeriai_csv_part1.csv  automobilis \n",
      "Ilgis 7726269.\n"
     ]
    }
   ],
   "source": [
    "combined_df['numeris'] = combined_df['numeris'].str.lower() \n",
    "print(combined_df.head(5),f\"\\nIlgis {len(combined_df)}.\")"
   ]
  },
  {
   "cell_type": "code",
   "execution_count": 7,
   "metadata": {},
   "outputs": [
    {
     "name": "stdout",
     "output_type": "stream",
     "text": [
      "Pasikartojančių numerių skaičius: 859359.\n",
      "Dažniausiai kartojasi:\n",
      "numeris\n",
      "513ja     3\n",
      "lin45     3\n",
      "yr4       3\n",
      "tro545    3\n",
      "nen300    2\n",
      "Name: count, dtype: int64\n"
     ]
    }
   ],
   "source": [
    "# 4.A. Numerių su pasikartojimais skaičiavimas\n",
    "numeris_counts = combined_df[\"numeris\"].value_counts()\n",
    "pasikartojantys_numeriai = numeris_counts[numeris_counts > 1]\n",
    "print(f\"Pasikartojančių numerių skaičius: {len(pasikartojantys_numeriai)}.\")\n",
    "print(\"Dažniausiai kartojasi:\")\n",
    "print(numeris_counts[numeris_counts > 1].sort_values(ascending=False).head(5))"
   ]
  },
  {
   "cell_type": "code",
   "execution_count": 8,
   "metadata": {},
   "outputs": [
    {
     "name": "stdout",
     "output_type": "stream",
     "text": [
      "5 dažniausiai pasikartojantys numeriai:\n",
      "numeris\n",
      "513ja     3\n",
      "lin45     3\n",
      "yr4       3\n",
      "tro545    3\n",
      "nen300    2\n",
      "Name: count, dtype: int64\n"
     ]
    }
   ],
   "source": [
    "# 4.B. Unikalių numerių su pasikartojimais skaičiavimas\n",
    "numeris_counts = combined_df[\"numeris\"].value_counts()\n",
    "pasikartojantys_numeriai = numeris_counts[numeris_counts > 1]\n",
    "print(\"5 dažniausiai pasikartojantys numeriai:\")\n",
    "print(pasikartojantys_numeriai.sort_values(ascending=False).head(5))"
   ]
  },
  {
   "cell_type": "code",
   "execution_count": 9,
   "metadata": {},
   "outputs": [
    {
     "name": "stdout",
     "output_type": "stream",
     "text": [
      "Sąrašo ilgis be pasikartojimų 6866906.\n",
      "\n",
      "  numeris                         failo_vardas        tipas  eil_nr\n",
      "0   24nlh  valstybiniai_numeriai_csv_part1.csv      mopedas       1\n",
      "1   04tpi  valstybiniai_numeriai_csv_part1.csv      mopedas       2\n",
      "2  byl744  valstybiniai_numeriai_csv_part1.csv  automobilis       3\n",
      "3  vry997  valstybiniai_numeriai_csv_part1.csv  automobilis       4\n",
      "4  zkp768  valstybiniai_numeriai_csv_part1.csv  automobilis       5 \n",
      "lgis 6866906.\n"
     ]
    }
   ],
   "source": [
    "# 5. Paliekame tik unikalius numerius\n",
    "unikalus_df = combined_df.drop_duplicates(subset=\"numeris\")\n",
    "print(f\"Sąrašo ilgis be pasikartojimų {len(unikalus_df)}.\\n\")\n",
    "\n",
    "# 7. Pridedame stulpelį \"eil_nr\"\n",
    "unikalus_df = unikalus_df.reset_index(drop=True)\n",
    "unikalus_df[\"eil_nr\"] = unikalus_df.index + 1\n",
    "print(unikalus_df.head(5),f\"\\nlgis {len(unikalus_df)}.\")"
   ]
  },
  {
   "cell_type": "code",
   "execution_count": 10,
   "metadata": {},
   "outputs": [],
   "source": [
    "# 8. Įrašome į CSV failą\n",
    "unikalus_df.to_csv(\"numeriai.csv\", index=False)"
   ]
  },
  {
   "cell_type": "code",
   "execution_count": 11,
   "metadata": {},
   "outputs": [
    {
     "name": "stdout",
     "output_type": "stream",
     "text": [
      "Po du kiekvieno tipo numerius:\n",
      "   numeris                 tipas\n",
      "0   ez8359                    EV\n",
      "1   ev5781                    EV\n",
      "2   byl744           automobilis\n",
      "3   vry997           automobilis\n",
      "4   413040          diplomatinis\n",
      "5   344504          diplomatinis\n",
      "6    10181  diplomatinis mažasis\n",
      "7    90337  diplomatinis mažasis\n",
      "8   h81939             istorinis\n",
      "9   h89231             istorinis\n",
      "10   4236h     istorinis mažasis\n",
      "11   1336h     istorinis mažasis\n",
      "12    nd75            keturratis\n",
      "13    pd12            keturratis\n",
      "14   24nlh               mopedas\n",
      "15   04tpi               mopedas\n",
      "16   089jn            motociklas\n",
      "17   849ty            motociklas\n",
      "18  gag4ra          neatpažintas\n",
      "19   t3rba          neatpažintas\n",
      "20  p73619               prekyba\n",
      "21  p56089               prekyba\n",
      "22   nb229              priekaba\n",
      "23   ly597              priekaba\n",
      "24  t12098                 taksi\n",
      "25  t28460                 taksi\n",
      "26  5415to           tranzitinis\n"
     ]
    },
    {
     "name": "stderr",
     "output_type": "stream",
     "text": [
      "/tmp/ipykernel_17527/2454452146.py:4: DeprecationWarning: DataFrameGroupBy.apply operated on the grouping columns. This behavior is deprecated, and in a future version of pandas the grouping columns will be excluded from the operation. Either pass `include_groups=False` to exclude the groupings or explicitly select the grouping columns after groupby to silence this warning.\n",
      "  .apply(lambda x: x.head(2))\n"
     ]
    }
   ],
   "source": [
    "# 9.A. Išvesti po du kiekvieno tipo numerius\n",
    "sampled_df = (\n",
    "    unikalus_df.groupby(\"tipas\", group_keys=False)\n",
    "    .apply(lambda x: x.head(2))\n",
    "    .reset_index(drop=True)\n",
    ")\n",
    "print(\"Po du kiekvieno tipo numerius:\")\n",
    "print(sampled_df[[\"numeris\", \"tipas\"]])"
   ]
  },
  {
   "cell_type": "code",
   "execution_count": 12,
   "metadata": {},
   "outputs": [
    {
     "name": "stdout",
     "output_type": "stream",
     "text": [
      "Po du kiekvieno tipo numerius:\n",
      "   numeris                 tipas\n",
      "0   ez8359                    EV\n",
      "1   ev5781                    EV\n",
      "2   byl744           automobilis\n",
      "3   vry997           automobilis\n",
      "4   413040          diplomatinis\n",
      "5   344504          diplomatinis\n",
      "6    10181  diplomatinis mažasis\n",
      "7    90337  diplomatinis mažasis\n",
      "8   h81939             istorinis\n",
      "9   h89231             istorinis\n",
      "10   4236h     istorinis mažasis\n",
      "11   1336h     istorinis mažasis\n",
      "12    nd75            keturratis\n",
      "13    pd12            keturratis\n",
      "14   24nlh               mopedas\n",
      "15   04tpi               mopedas\n",
      "16   089jn            motociklas\n",
      "17   849ty            motociklas\n",
      "18  gag4ra          neatpažintas\n",
      "19   t3rba          neatpažintas\n",
      "20  p73619               prekyba\n",
      "21  p56089               prekyba\n",
      "22   nb229              priekaba\n",
      "23   ly597              priekaba\n",
      "24  t12098                 taksi\n",
      "25  t28460                 taksi\n",
      "26  5415to           tranzitinis\n"
     ]
    },
    {
     "name": "stderr",
     "output_type": "stream",
     "text": [
      "/tmp/ipykernel_17527/54240288.py:2: DeprecationWarning: DataFrameGroupBy.apply operated on the grouping columns. This behavior is deprecated, and in a future version of pandas the grouping columns will be excluded from the operation. Either pass `include_groups=False` to exclude the groupings or explicitly select the grouping columns after groupby to silence this warning.\n",
      "  sampled_df = unikalus_df.groupby(\"tipas\").apply(lambda x: x.head(2)).reset_index(drop=True)\n"
     ]
    }
   ],
   "source": [
    "# 9.B. Išvesti po du kiekvieno tipo numerius\n",
    "sampled_df = unikalus_df.groupby(\"tipas\").apply(lambda x: x.head(2)).reset_index(drop=True)\n",
    "print(\"Po du kiekvieno tipo numerius:\")\n",
    "print(sampled_df[[\"numeris\", \"tipas\"]])"
   ]
  },
  {
   "cell_type": "code",
   "execution_count": 14,
   "metadata": {},
   "outputs": [
    {
     "name": "stdout",
     "output_type": "stream",
     "text": [
      "Pirmi 10 unikalių įrašų su tipu ir eilės numeriais:\n",
      "  numeris                         failo_vardas        tipas  eil_nr\n",
      "0   24nlh  valstybiniai_numeriai_csv_part1.csv      mopedas       1\n",
      "1   04tpi  valstybiniai_numeriai_csv_part1.csv      mopedas       2\n",
      "2  byl744  valstybiniai_numeriai_csv_part1.csv  automobilis       3\n",
      "3  vry997  valstybiniai_numeriai_csv_part1.csv  automobilis       4\n",
      "4  zkp768  valstybiniai_numeriai_csv_part1.csv  automobilis       5\n",
      "5  fof615  valstybiniai_numeriai_csv_part1.csv  automobilis       6\n",
      "6  fep597  valstybiniai_numeriai_csv_part1.csv  automobilis       7\n",
      "7  ktf988  valstybiniai_numeriai_csv_part1.csv  automobilis       8\n",
      "8  ugr863  valstybiniai_numeriai_csv_part1.csv  automobilis       9\n",
      "9  fyr560  valstybiniai_numeriai_csv_part1.csv  automobilis      10\n"
     ]
    }
   ],
   "source": [
    "# 10. Rezultatai\n",
    "print(\"Pirmi 10 unikalių įrašų su tipu ir eilės numeriais:\")\n",
    "print(unikalus_df.head(10))"
   ]
  },
  {
   "cell_type": "code",
   "execution_count": null,
   "metadata": {},
   "outputs": [],
   "source": [
    "# 11. Papildoma analizė\n",
    "# Perskaitome failą 'numeriai.csv'\n",
    "unikalus_df = pd.read_csv(\"numeriai.csv\")"
   ]
  },
  {
   "cell_type": "code",
   "execution_count": 15,
   "metadata": {},
   "outputs": [
    {
     "name": "stdout",
     "output_type": "stream",
     "text": [
      "Kiekvieno tipo numerių skaičius:\n",
      "tipas\n",
      "automobilis             5475344\n",
      "mopedas                  546979\n",
      "motociklas               237932\n",
      "priekaba                 237701\n",
      "EV                       103766\n",
      "diplomatinis              89841\n",
      "prekyba                   45145\n",
      "taksi                     45043\n",
      "istorinis                 44751\n",
      "keturratis                23795\n",
      "diplomatinis mažasis       9007\n",
      "istorinis mažasis          4505\n",
      "neatpažintas               3096\n",
      "tranzitinis                   1\n",
      "Name: count, dtype: int64\n"
     ]
    }
   ],
   "source": [
    "# Skaičiuojame kiekvieno tipo numerių skaičių\n",
    "count_by_type = unikalus_df[\"tipas\"].value_counts()\n",
    "print(\"Kiekvieno tipo numerių skaičius:\")\n",
    "print(count_by_type)"
   ]
  },
  {
   "cell_type": "code",
   "execution_count": 26,
   "metadata": {},
   "outputs": [
    {
     "name": "stdout",
     "output_type": "stream",
     "text": [
      "Neteisingi numeriai (sąrašo pradžia):\n",
      "['gag4ra', 't3rba', 'per45', 'rupt1', 'kuk51', '5k3ndi', 'kru5t', 'v1jo', 'glumt1', 'l3pina']\n"
     ]
    }
   ],
   "source": [
    "# Įrašome neteisingus įrašus į 'neteisingi_df'\n",
    "neteisingi_df = unikalus_df[unikalus_df[\"tipas\"] == \"neatpažintas\"]\n",
    "print(\"Neteisingi numeriai (sąrašo pradžia):\")\n",
    "# print(neteisingi_df.head(10)[['numeris']].values.tolist())\n",
    "print(neteisingi_df.head(10)['numeris'].values.tolist())"
   ]
  },
  {
   "cell_type": "code",
   "execution_count": 17,
   "metadata": {},
   "outputs": [
    {
     "data": {
      "text/html": [
       "<div>\n",
       "<style scoped>\n",
       "    .dataframe tbody tr th:only-of-type {\n",
       "        vertical-align: middle;\n",
       "    }\n",
       "\n",
       "    .dataframe tbody tr th {\n",
       "        vertical-align: top;\n",
       "    }\n",
       "\n",
       "    .dataframe thead th {\n",
       "        text-align: right;\n",
       "    }\n",
       "</style>\n",
       "<table border=\"1\" class=\"dataframe\">\n",
       "  <thead>\n",
       "    <tr style=\"text-align: right;\">\n",
       "      <th></th>\n",
       "      <th>numeris</th>\n",
       "      <th>failo_vardas</th>\n",
       "      <th>tipas</th>\n",
       "      <th>eil_nr</th>\n",
       "    </tr>\n",
       "  </thead>\n",
       "  <tbody>\n",
       "    <tr>\n",
       "      <th>0</th>\n",
       "      <td>24nlh</td>\n",
       "      <td>valstybiniai_numeriai_csv_part1.csv</td>\n",
       "      <td>mopedas</td>\n",
       "      <td>1</td>\n",
       "    </tr>\n",
       "    <tr>\n",
       "      <th>1</th>\n",
       "      <td>04tpi</td>\n",
       "      <td>valstybiniai_numeriai_csv_part1.csv</td>\n",
       "      <td>mopedas</td>\n",
       "      <td>2</td>\n",
       "    </tr>\n",
       "    <tr>\n",
       "      <th>2</th>\n",
       "      <td>byl744</td>\n",
       "      <td>valstybiniai_numeriai_csv_part1.csv</td>\n",
       "      <td>automobilis</td>\n",
       "      <td>3</td>\n",
       "    </tr>\n",
       "    <tr>\n",
       "      <th>3</th>\n",
       "      <td>vry997</td>\n",
       "      <td>valstybiniai_numeriai_csv_part1.csv</td>\n",
       "      <td>automobilis</td>\n",
       "      <td>4</td>\n",
       "    </tr>\n",
       "    <tr>\n",
       "      <th>4</th>\n",
       "      <td>zkp768</td>\n",
       "      <td>valstybiniai_numeriai_csv_part1.csv</td>\n",
       "      <td>automobilis</td>\n",
       "      <td>5</td>\n",
       "    </tr>\n",
       "    <tr>\n",
       "      <th>...</th>\n",
       "      <td>...</td>\n",
       "      <td>...</td>\n",
       "      <td>...</td>\n",
       "      <td>...</td>\n",
       "    </tr>\n",
       "    <tr>\n",
       "      <th>6866901</th>\n",
       "      <td>krb616</td>\n",
       "      <td>valstybiniai_numeriai_csv_part3.csv</td>\n",
       "      <td>automobilis</td>\n",
       "      <td>6866902</td>\n",
       "    </tr>\n",
       "    <tr>\n",
       "      <th>6866902</th>\n",
       "      <td>bps951</td>\n",
       "      <td>valstybiniai_numeriai_csv_part3.csv</td>\n",
       "      <td>automobilis</td>\n",
       "      <td>6866903</td>\n",
       "    </tr>\n",
       "    <tr>\n",
       "      <th>6866903</th>\n",
       "      <td>dni279</td>\n",
       "      <td>valstybiniai_numeriai_csv_part3.csv</td>\n",
       "      <td>automobilis</td>\n",
       "      <td>6866904</td>\n",
       "    </tr>\n",
       "    <tr>\n",
       "      <th>6866904</th>\n",
       "      <td>roplys</td>\n",
       "      <td>valstybiniai_numeriai_csv_part3.csv</td>\n",
       "      <td>neatpažintas</td>\n",
       "      <td>6866905</td>\n",
       "    </tr>\n",
       "    <tr>\n",
       "      <th>6866905</th>\n",
       "      <td>fgy868</td>\n",
       "      <td>valstybiniai_numeriai_csv_part3.csv</td>\n",
       "      <td>automobilis</td>\n",
       "      <td>6866906</td>\n",
       "    </tr>\n",
       "  </tbody>\n",
       "</table>\n",
       "<p>6866906 rows × 4 columns</p>\n",
       "</div>"
      ],
      "text/plain": [
       "        numeris                         failo_vardas         tipas   eil_nr\n",
       "0         24nlh  valstybiniai_numeriai_csv_part1.csv       mopedas        1\n",
       "1         04tpi  valstybiniai_numeriai_csv_part1.csv       mopedas        2\n",
       "2        byl744  valstybiniai_numeriai_csv_part1.csv   automobilis        3\n",
       "3        vry997  valstybiniai_numeriai_csv_part1.csv   automobilis        4\n",
       "4        zkp768  valstybiniai_numeriai_csv_part1.csv   automobilis        5\n",
       "...         ...                                  ...           ...      ...\n",
       "6866901  krb616  valstybiniai_numeriai_csv_part3.csv   automobilis  6866902\n",
       "6866902  bps951  valstybiniai_numeriai_csv_part3.csv   automobilis  6866903\n",
       "6866903  dni279  valstybiniai_numeriai_csv_part3.csv   automobilis  6866904\n",
       "6866904  roplys  valstybiniai_numeriai_csv_part3.csv  neatpažintas  6866905\n",
       "6866905  fgy868  valstybiniai_numeriai_csv_part3.csv   automobilis  6866906\n",
       "\n",
       "[6866906 rows x 4 columns]"
      ]
     },
     "execution_count": 17,
     "metadata": {},
     "output_type": "execute_result"
    }
   ],
   "source": [
    "unikalus_df"
   ]
  },
  {
   "cell_type": "code",
   "execution_count": 18,
   "metadata": {},
   "outputs": [
    {
     "name": "stdout",
     "output_type": "stream",
     "text": [
      "5 dažniausios raidės kiekvieno tipo numeriuose:\n",
      "                tipas raidė  dažnis\n",
      "0                  EV     e  108165\n",
      "1                  EV     k    4618\n",
      "2                  EV     v    4616\n",
      "3                  EV     m    4586\n",
      "4                  EV     i    4578\n",
      "5         automobilis     k  715415\n",
      "6         automobilis     d  715224\n",
      "7         automobilis     b  714954\n",
      "8         automobilis     j  714852\n",
      "9         automobilis     l  714755\n",
      "10          istorinis     h   44751\n",
      "11  istorinis mažasis     h    4505\n",
      "12         keturratis     d    2134\n",
      "13         keturratis     z    2118\n",
      "14         keturratis     s    2106\n",
      "15         keturratis     p    2098\n",
      "16         keturratis     j    2098\n",
      "17            mopedas     r   71788\n",
      "18            mopedas     c   71679\n",
      "19            mopedas     f   71658\n",
      "20            mopedas     l   71508\n",
      "21            mopedas     t   71508\n",
      "22         motociklas     f   20952\n",
      "23         motociklas     c   20833\n",
      "24         motociklas     l   20824\n",
      "25         motociklas     h   20819\n",
      "26         motociklas     a   20800\n",
      "27       neatpažintas     t    1011\n",
      "28       neatpažintas     k     918\n",
      "29       neatpažintas     r     884\n",
      "30       neatpažintas     u     868\n",
      "31       neatpažintas     o     866\n",
      "32            prekyba     p   45145\n",
      "33           priekaba     y   20809\n",
      "34           priekaba     i   20800\n",
      "35           priekaba     k   20783\n",
      "36           priekaba     d   20771\n",
      "37           priekaba     s   20736\n",
      "38              taksi     t   45043\n",
      "39        tranzitinis     t       1\n",
      "40        tranzitinis     o       1\n"
     ]
    }
   ],
   "source": [
    "# Analizuojame 5 dažniausias raides kiekvieno tipo numeriuose\n",
    "def extract_letters(numeris):\n",
    "    return \"\".join(filter(str.isalpha, numeris))\n",
    "\n",
    "unikalus_df[\"letters\"] = unikalus_df[\"numeris\"].apply(extract_letters)\n",
    "analize_df = unikalus_df.groupby(\"tipas\")[\"letters\"].apply(\n",
    "    lambda x: pd.Series(list(\"\".join(x))).value_counts().head(5)\n",
    ").reset_index()\n",
    "analize_df.columns = [\"tipas\", \"raidė\", \"dažnis\"]\n",
    "\n",
    "print(\"5 dažniausios raidės kiekvieno tipo numeriuose:\")\n",
    "print(analize_df)"
   ]
  },
  {
   "cell_type": "code",
   "execution_count": 29,
   "metadata": {},
   "outputs": [
    {
     "name": "stdout",
     "output_type": "stream",
     "text": [
      "Tipas: 'EV', sąrašo pradžia:\n",
      "['ez8359', 'ev5781', 'ed0321', 'eg1437', 'ef0008', 'ee4322', 'et8609', 'eu3174', 'ep5118', 'ec1748']\n",
      "\n",
      "Tipas: 'tranzitinis', sąrašo pradžia:\n",
      "['5415to']\n",
      "\n",
      "Tipas: 'istorinis', sąrašo pradžia:\n",
      "['h81939', 'h89231', 'h56721', 'h82155', 'h36852', 'h55256', 'h80691', 'h29461', 'h58477', 'h41650']\n"
     ]
    }
   ],
   "source": [
    "print(\"Tipas: 'EV', sąrašo pradžia:\")\n",
    "print(unikalus_df[unikalus_df[\"tipas\"]==\"EV\"].head(10)['numeris'].values.tolist())\n",
    "print()\n",
    "print(\"Tipas: 'tranzitinis', sąrašo pradžia:\")\n",
    "print(unikalus_df[unikalus_df[\"tipas\"]==\"tranzitinis\"].head(10)['numeris'].values.tolist())\n",
    "print()\n",
    "print(\"Tipas: 'istorinis', sąrašo pradžia:\")\n",
    "print(unikalus_df[unikalus_df[\"tipas\"]==\"istorinis\"].head(10)['numeris'].values.tolist())"
   ]
  },
  {
   "cell_type": "code",
   "execution_count": 30,
   "metadata": {},
   "outputs": [
    {
     "name": "stdout",
     "output_type": "stream",
     "text": [
      "Pirmi 10 unikalių įrašų su tipu ir eilės numeriais:\n",
      "  numeris                         failo_vardas        tipas  eil_nr letters\n",
      "0   24nlh  valstybiniai_numeriai_csv_part1.csv      mopedas       1     nlh\n",
      "1   04tpi  valstybiniai_numeriai_csv_part1.csv      mopedas       2     tpi\n",
      "2  byl744  valstybiniai_numeriai_csv_part1.csv  automobilis       3     byl\n",
      "3  vry997  valstybiniai_numeriai_csv_part1.csv  automobilis       4     vry\n",
      "4  zkp768  valstybiniai_numeriai_csv_part1.csv  automobilis       5     zkp\n",
      "5  fof615  valstybiniai_numeriai_csv_part1.csv  automobilis       6     fof\n",
      "6  fep597  valstybiniai_numeriai_csv_part1.csv  automobilis       7     fep\n",
      "7  ktf988  valstybiniai_numeriai_csv_part1.csv  automobilis       8     ktf\n",
      "8  ugr863  valstybiniai_numeriai_csv_part1.csv  automobilis       9     ugr\n",
      "9  fyr560  valstybiniai_numeriai_csv_part1.csv  automobilis      10     fyr\n"
     ]
    }
   ],
   "source": [
    "# 10. Rezultatai\n",
    "print(\"Pirmi 10 unikalių įrašų su tipu ir eilės numeriais:\")\n",
    "print(unikalus_df.head(10))"
   ]
  }
 ],
 "metadata": {
  "kernelspec": {
   "display_name": "Python 3",
   "language": "python",
   "name": "python3"
  },
  "language_info": {
   "codemirror_mode": {
    "name": "ipython",
    "version": 3
   },
   "file_extension": ".py",
   "mimetype": "text/x-python",
   "name": "python",
   "nbconvert_exporter": "python",
   "pygments_lexer": "ipython3",
   "version": "3.12.3"
  }
 },
 "nbformat": 4,
 "nbformat_minor": 2
}
