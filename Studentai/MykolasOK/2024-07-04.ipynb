{
 "cells": [
  {
   "cell_type": "code",
   "execution_count": 34,
   "metadata": {},
   "outputs": [
    {
     "name": "stdout",
     "output_type": "stream",
     "text": [
      "2024-07-04\n",
      "\n"
     ]
    }
   ],
   "source": [
    "print('2024-07-04\\n')"
   ]
  },
  {
   "cell_type": "code",
   "execution_count": 35,
   "metadata": {},
   "outputs": [],
   "source": [
    "dfailo_vardas = 't.txt' # Pradinių duomenų failas.\n",
    "failas = open(failo_vardas, mode='w', encoding='utf-8')\n",
    "\n",
    "for i in range(1,6):\n",
    "    # print(i)\n",
    "    failas.write(str(i)+'\\n')\n",
    "\n",
    "failas.close()"
   ]
  },
  {
   "cell_type": "code",
   "execution_count": 42,
   "metadata": {},
   "outputs": [
    {
     "name": "stdout",
     "output_type": "stream",
     "text": [
      "1\n",
      "2\n",
      "3\n",
      "4\n",
      "5\n"
     ]
    }
   ],
   "source": [
    "# def rodyk_failą( f_vardas ):\n",
    "#     failas = open(f_vardas, mode='r', encoding='utf-8') # Duomenų failas.\n",
    "#     turinys = failas.readlines()\n",
    "#     failas.close()\n",
    "#     print(turinys)\n",
    "\n",
    "def rodyk_failą( f_vardas ):\n",
    "    failas = open(f_vardas, mode='r', encoding='utf-8') # Duomenų failas.\n",
    "    for eil in failas:\n",
    "        print(eil.rstrip())\n",
    "    failas.close()\n",
    "\n",
    "rodyk_failą(dfailo_vardas)"
   ]
  },
  {
   "cell_type": "code",
   "execution_count": 44,
   "metadata": {},
   "outputs": [
    {
     "name": "stdout",
     "output_type": "stream",
     "text": [
      "  1   2   1\n",
      "  2   4   4\n",
      "  3   6   9\n",
      "  4   8  16\n",
      "  5  10  25\n",
      "--------------------\n",
      "  1   2   1\n",
      "  2   4   4\n",
      "  3   6   9\n",
      "  4   8  16\n",
      "  5  10  25\n"
     ]
    }
   ],
   "source": [
    "dfailas = open(dfailo_vardas, mode='r', encoding='utf-8') # Pradinių duomenų failas.\n",
    "rfailo_vardas = 'rezultatai.txt'\n",
    "rfailas = open(rfailo_vardas, mode='w', encoding='utf-8') # Rezultatų failas.\n",
    "for eil in dfailas:\n",
    "    # print(eil.rstrip())\n",
    "    x = int(eil)\n",
    "    print(f\"{x:3} {x*2:3} {x*x:3}\")\n",
    "    rfailas.write(f\"{x:3} {x*2:3} {x*x:3}\\n\")\n",
    "dfailas.close()\n",
    "rfailas.close()\n",
    "\n",
    "print('--------------------')\n",
    "rodyk_failą(rfailo_vardas)"
   ]
  },
  {
   "cell_type": "code",
   "execution_count": 50,
   "metadata": {},
   "outputs": [
    {
     "name": "stdout",
     "output_type": "stream",
     "text": [
      "1\n",
      "2\n",
      "3\n",
      "4\n",
      "5\n",
      "Papildau.\n",
      "Papildau.\n",
      "Papildau.\n",
      "Papildau.\n",
      "Papildau.\n",
      "Papildau.\n"
     ]
    }
   ],
   "source": [
    "failas = open(failo_vardas, mode='a', encoding='utf-8')\n",
    "failas.write('Papildau.\\n')\n",
    "failas.close()\n",
    "rodyk_failą(failo_vardas)"
   ]
  }
 ],
 "metadata": {
  "kernelspec": {
   "display_name": "Python 3",
   "language": "python",
   "name": "python3"
  },
  "language_info": {
   "codemirror_mode": {
    "name": "ipython",
    "version": 3
   },
   "file_extension": ".py",
   "mimetype": "text/x-python",
   "name": "python",
   "nbconvert_exporter": "python",
   "pygments_lexer": "ipython3",
   "version": "3.12.4"
  }
 },
 "nbformat": 4,
 "nbformat_minor": 2
}
