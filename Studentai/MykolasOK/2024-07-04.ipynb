{
 "cells": [
  {
   "cell_type": "code",
   "execution_count": null,
   "metadata": {},
   "outputs": [],
   "source": [
    "print('2024-07-04\\n')"
   ]
  },
  {
   "cell_type": "code",
   "execution_count": 10,
   "metadata": {},
   "outputs": [],
   "source": [
    "failo_vardas = 'laikinas.txt'\n",
    "\n",
    "failas = open(failo_vardas, mode='w', encoding='utf-8')\n",
    "\n",
    "failas.write('Labas rytas\\n')\n",
    "failas.write('Laba diena\\n')\n",
    "failas.write('Labas vakaras\\n')\n",
    "\n",
    "failas.close()"
   ]
  },
  {
   "cell_type": "code",
   "execution_count": 13,
   "metadata": {},
   "outputs": [
    {
     "name": "stdout",
     "output_type": "stream",
     "text": [
      "['Labas rytas\\n', 'Laba diena\\n', 'Labas vakaras\\n', 'Papildau.\\n']\n"
     ]
    }
   ],
   "source": [
    "failas = open(failo_vardas, mode='r', encoding='utf-8')\n",
    "\n",
    "turinys = failas.readlines()\n",
    "\n",
    "failas.close()\n",
    "\n",
    "print(turinys)"
   ]
  },
  {
   "cell_type": "code",
   "execution_count": 12,
   "metadata": {},
   "outputs": [],
   "source": [
    "failas = open(failo_vardas, mode='a', encoding='utf-8')\n",
    "\n",
    "failas.write('Papildau.\\n')\n",
    "\n",
    "failas.close()"
   ]
  }
 ],
 "metadata": {
  "kernelspec": {
   "display_name": "Python 3",
   "language": "python",
   "name": "python3"
  },
  "language_info": {
   "codemirror_mode": {
    "name": "ipython",
    "version": 3
   },
   "file_extension": ".py",
   "mimetype": "text/x-python",
   "name": "python",
   "nbconvert_exporter": "python",
   "pygments_lexer": "ipython3",
   "version": "3.12.4"
  }
 },
 "nbformat": 4,
 "nbformat_minor": 2
}
