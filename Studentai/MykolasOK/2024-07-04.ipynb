{
 "cells": [
  {
   "cell_type": "code",
   "execution_count": 34,
   "metadata": {},
   "outputs": [
    {
     "name": "stdout",
     "output_type": "stream",
     "text": [
      "2024-07-04\n",
      "\n"
     ]
    }
   ],
   "source": [
    "print('2024-07-04\\n')"
   ]
  },
  {
   "cell_type": "code",
   "execution_count": 52,
   "metadata": {},
   "outputs": [],
   "source": [
    "dfailo_vardas = 't.txt' # Pradinių duomenų failas.\n",
    "failas = open(failo_vardas, mode='w', encoding='utf-8')\n",
    "\n",
    "for i in range(1,6):\n",
    "    # print(i)\n",
    "    failas.write(str(i)+'\\n')\n",
    "\n",
    "failas.close()"
   ]
  },
  {
   "cell_type": "code",
   "execution_count": 58,
   "metadata": {},
   "outputs": [
    {
     "name": "stdout",
     "output_type": "stream",
     "text": [
      "-------------\n",
      "1\n",
      "2\n",
      "3\n",
      "4\n",
      "5\n",
      "-------------\n"
     ]
    }
   ],
   "source": [
    "# def rodyk_failą( f_vardas ):\n",
    "#     failas = open(f_vardas, mode='r', encoding='utf-8') # Duomenų failas.\n",
    "#     turinys = failas.readlines()\n",
    "#     failas.close()\n",
    "#     print(turinys)\n",
    "\n",
    "def rodyk_failą( f_vardas ):\n",
    "    failas = open(f_vardas, mode='r', encoding='utf-8') # Duomenų failas.\n",
    "    print('-------------')\n",
    "    for eil in failas:\n",
    "        print(eil.rstrip())\n",
    "    print('-------------')\n",
    "    failas.close()\n",
    "\n",
    "rodyk_failą(dfailo_vardas)"
   ]
  },
  {
   "cell_type": "code",
   "execution_count": 59,
   "metadata": {},
   "outputs": [
    {
     "name": "stdout",
     "output_type": "stream",
     "text": [
      "-------------\n",
      "  1   2   1\n",
      "  2   4   4\n",
      "  3   6   9\n",
      "  4   8  16\n",
      "  5  10  25\n",
      "-------------\n"
     ]
    }
   ],
   "source": [
    "dfailas = open(dfailo_vardas, mode='r', encoding='utf-8') # Pradinių duomenų failas.\n",
    "rfailo_vardas = 'rezultatai.txt'\n",
    "rfailas = open(rfailo_vardas, mode='w', encoding='utf-8') # Rezultatų failas.\n",
    "for eil in dfailas:\n",
    "    # print(eil.rstrip())\n",
    "    x = int(eil)\n",
    "    # print(f\"{x:3} {x*2:3} {x*x:3}\")\n",
    "    rfailas.write(f\"{x:3} {x*2:3} {x*x:3}\\n\")\n",
    "dfailas.close()\n",
    "rfailas.close()\n",
    "\n",
    "rodyk_failą(rfailo_vardas)"
   ]
  },
  {
   "cell_type": "code",
   "execution_count": 60,
   "metadata": {},
   "outputs": [
    {
     "name": "stdout",
     "output_type": "stream",
     "text": [
      "-------------\n",
      "1\n",
      "2\n",
      "3\n",
      "4\n",
      "5\n",
      "Papildau.\n",
      "-------------\n"
     ]
    }
   ],
   "source": [
    "failas = open(failo_vardas, mode='a', encoding='utf-8')\n",
    "failas.write('Papildau.\\n')\n",
    "failas.close()\n",
    "rodyk_failą(failo_vardas)"
   ]
  },
  {
   "cell_type": "code",
   "execution_count": 100,
   "metadata": {},
   "outputs": [
    {
     "name": "stdout",
     "output_type": "stream",
     "text": [
      "-------------\n",
      "Jau saulelė vėl atkopdama budino svietą,\n",
      "Ir žiemos šaltos trūsus pargriaudama juokės,\n",
      "Šalčių pramones su ledais sugaišti pagavo,\n",
      "Ir putodams sniegs visur į nieką pavirto.\n",
      "-------------\n"
     ]
    }
   ],
   "source": [
    "tfailo_vardas = 'txt.txt' # Pradinių duomenų failas.\n",
    "tfailas = open(tfailo_vardas, mode='w', encoding='utf-8')\n",
    "tfailas.write('Jau saulelė vėl atkopdama budino svietą,\\n')\n",
    "tfailas.write('Ir žiemos šaltos trūsus pargriaudama juokės,\\n')\n",
    "tfailas.write('Šalčių pramones su ledais sugaišti pagavo,\\n')\n",
    "tfailas.write('Ir putodams sniegs visur į nieką pavirto.\\n')\n",
    "tfailas.close()\n",
    "\n",
    "rodyk_failą(tfailo_vardas)"
   ]
  },
  {
   "cell_type": "code",
   "execution_count": 102,
   "metadata": {},
   "outputs": [
    {
     "name": "stdout",
     "output_type": "stream",
     "text": [
      "-------------\n",
      " 1. Viskas didžiosiomis:\n",
      "JAU SAULELĖ VĖL ATKOPDAMA BUDINO SVIETĄ,\n",
      "IR ŽIEMOS ŠALTOS TRŪSUS PARGRIAUDAMA JUOKĖS,\n",
      "ŠALČIŲ PRAMONES SU LEDAIS SUGAIŠTI PAGAVO,\n",
      "IR PUTODAMS SNIEGS VISUR Į NIEKĄ PAVIRTO.\n",
      "\n",
      " 2. Kas 3 žodis didžiosiomis:\n",
      "Jau saulelė VĖL atkopdama budino SVIETĄ,\n",
      "Ir žiemos ŠALTOS trūsus pargriaudama JUOKĖS,\n",
      "Šalčių pramones SU ledais sugaišti PAGAVO,\n",
      "Ir putodams SNIEGS visur į NIEKĄ pavirto.\n",
      "\n",
      " 3. Kiekvienas ž. iš didžiosios:\n",
      "Jau Saulelė Vėl Atkopdama Budino Svietą,\n",
      "Ir Žiemos Šaltos Trūsus Pargriaudama Juokės,\n",
      "Šalčių Pramones Su Ledais Sugaišti Pagavo,\n",
      "Ir Putodams Sniegs Visur Į Nieką Pavirto.\n",
      "\n",
      " 4. Sudėtinga sąlyga:\n",
      "Jau ėleluaS Vėl amadpoktA BUDINO ,ąteivS\n",
      "Ir someiŽ Šaltos SUSŪRT Pargriaudama ,sėkouJ\n",
      "Šalčių senomarP SU siadeL Sugaišti ,ov:-)g:-)P\n",
      "Ir SMADOTUP Sniegs rusiV Į ąkeiN PAVIRTO.\n",
      "\n",
      "-------------\n"
     ]
    }
   ],
   "source": [
    "# Nuskaitome failą į atmintį.\n",
    "tfailas = open(tfailo_vardas, mode='r', encoding='utf-8') # Pradinio teksto failas.\n",
    "tekstas=[]\n",
    "for eil in tfailas:\n",
    "    tekstas.append(eil.strip())\n",
    "tfailas.close()\n",
    "\n",
    "afailo_vardas = 'ats.txt' # Atsakymo failas.\n",
    "afailas = open(afailo_vardas, mode='w', encoding='utf-8')\n",
    "\n",
    "afailas.write(f\" 1. Viskas didžiosiomis:\\n\")\n",
    "for eee in tekstas:\n",
    "    afailas.write(eee.upper()+'\\n')\n",
    "# print(struktūra)\n",
    "afailas.write('\\n')\n",
    "\n",
    "# Nuskaito struktūrą\n",
    "struktūra = []\n",
    "for eee in tekstas:\n",
    "    struktūra.append(eee.split())\n",
    "# print(struktūra)\n",
    "\n",
    "n=3 # Kas kelintas žodis didžiosiomis\n",
    "afailas.write(f\" 2. Kas {n} žodis didžiosiomis:\\n\")\n",
    "i=0\n",
    "for eee in struktūra:\n",
    "    nauja_eil=''\n",
    "    for žžž in eee:\n",
    "        i += 1\n",
    "        if i % n:\n",
    "            nauja_eil += žžž+' '\n",
    "        else:\n",
    "            nauja_eil += žžž.upper()+' '\n",
    "    afailas.write(f'{nauja_eil}\\n')\n",
    "afailas.write('\\n')\n",
    "\n",
    "afailas.write(f\" 3. Kiekvienas ž. iš didžiosios:\\n\")\n",
    "for eee in struktūra:\n",
    "    nauja_eil=''\n",
    "    for žžž in eee:\n",
    "        nauja_eil += žžž.capitalize()+' '\n",
    "    afailas.write(f'{nauja_eil}\\n')\n",
    "afailas.write('\\n')\n",
    "\n",
    "def atgala(txt):\n",
    "    a = ''\n",
    "    for i in txt:\n",
    "        a = i + a\n",
    "    return a\n",
    "\n",
    "# Kiekvienas žodis iš didžiosios raidės, \n",
    "# kas 2-as   - parašytas atvirkščiai, \n",
    "# kas 5-tas  - vien tik didžiosiomis raidėmis, \n",
    "# kas 6-tame - simboliai \"a\" turi būti pakeisti ':)' simboliais.\n",
    "afailas.write(f\" 4. Sudėtinga sąlyga:\\n\")\n",
    "i=0\n",
    "for eee in struktūra:\n",
    "    nauja_eil=''\n",
    "    for žžž in eee:\n",
    "        naujasž = žžž.capitalize()\n",
    "        i += 1\n",
    "        if i % 2 == 0:\n",
    "            naujasž = atgala(naujasž)\n",
    "        if i % 5 == 0:\n",
    "            naujasž = naujasž.upper()\n",
    "        if i % 6 == 0:\n",
    "            naujasž = naujasž.replace('a',':-)')\n",
    "\n",
    "        nauja_eil += naujasž+' '\n",
    "    afailas.write(f'{nauja_eil}\\n')\n",
    "afailas.write('\\n')\n",
    "\n",
    "afailas.close()\n",
    "\n",
    "rodyk_failą(afailo_vardas)"
   ]
  }
 ],
 "metadata": {
  "kernelspec": {
   "display_name": "Python 3",
   "language": "python",
   "name": "python3"
  },
  "language_info": {
   "codemirror_mode": {
    "name": "ipython",
    "version": 3
   },
   "file_extension": ".py",
   "mimetype": "text/x-python",
   "name": "python",
   "nbconvert_exporter": "python",
   "pygments_lexer": "ipython3",
   "version": "3.12.4"
  }
 },
 "nbformat": 4,
 "nbformat_minor": 2
}
