{
 "cells": [
  {
   "cell_type": "code",
   "execution_count": 35,
   "metadata": {},
   "outputs": [
    {
     "name": "stdout",
     "output_type": "stream",
     "text": [
      "80 pask. pasiruošta 2025-01-20 19:33:29\n",
      "c:\\Users\\Eridas\\Documents\\vilniuscoding2024\\git\\DataScienceNotebooks\\Studentai\\MykolasOK\n"
     ]
    }
   ],
   "source": [
    "from datetime import datetime as dt\n",
    "import os \n",
    "import pandas as pd\n",
    "import numpy as np\n",
    "\n",
    "data_files=['2021-I_mažiausi','2021-I_ŠPAM','2021-I_VKK','2021-II_mažiausi','2021-II_ŠPAM','2021-II_VKK']\n",
    "date_cols=['data_valanda','dateTime','dateTime','data_valanda']\n",
    "\n",
    "data_dir=\"../../../duomenys/data_gov_lt/elektra\"\n",
    "data_file_ext=\"csv\"\n",
    "\n",
    "print('80 pask. pasiruošta',dt.now().replace(microsecond=0))\n",
    "print(os.getcwd())\n",
    "# print(os.listdir(data_dir))"
   ]
  },
  {
   "cell_type": "code",
   "execution_count": 105,
   "metadata": {},
   "outputs": [
    {
     "name": "stdout",
     "output_type": "stream",
     "text": [
      "Duomenys iš failų įkeliami į 'df_dict={}'.  2025-01-20 22:23:11\n",
      "../../../duomenys/data_gov_lt/elektra/2021-I_mažiausi.csv "
     ]
    },
    {
     "name": "stderr",
     "output_type": "stream",
     "text": [
      "C:\\Users\\Eridas\\AppData\\Local\\Temp\\ipykernel_14068\\3777566122.py:8: DtypeWarning: Columns (4) have mixed types. Specify dtype option on import or set low_memory=False.\n",
      "  df = pd.read_csv(f'{data_dir}/{file}.{data_file_ext}',sep=',')\n"
     ]
    },
    {
     "name": "stdout",
     "output_type": "stream",
     "text": [
      ">>> (1048575, 12) (eil. x stulp.)\n",
      "../../../duomenys/data_gov_lt/elektra/2021-I_ŠPAM.csv >>> (271444, 12) (eil. x stulp.)\n",
      "../../../duomenys/data_gov_lt/elektra/2021-I_VKK.csv "
     ]
    },
    {
     "name": "stderr",
     "output_type": "stream",
     "text": [
      "C:\\Users\\Eridas\\AppData\\Local\\Temp\\ipykernel_14068\\3777566122.py:8: DtypeWarning: Columns (4,5) have mixed types. Specify dtype option on import or set low_memory=False.\n",
      "  df = pd.read_csv(f'{data_dir}/{file}.{data_file_ext}',sep=',')\n"
     ]
    },
    {
     "name": "stdout",
     "output_type": "stream",
     "text": [
      ">>> (1015563, 12) (eil. x stulp.)\n",
      "../../../duomenys/data_gov_lt/elektra/2021-II_mažiausi.csv "
     ]
    },
    {
     "name": "stderr",
     "output_type": "stream",
     "text": [
      "C:\\Users\\Eridas\\AppData\\Local\\Temp\\ipykernel_14068\\3777566122.py:8: DtypeWarning: Columns (4) have mixed types. Specify dtype option on import or set low_memory=False.\n",
      "  df = pd.read_csv(f'{data_dir}/{file}.{data_file_ext}',sep=',')\n"
     ]
    },
    {
     "name": "stdout",
     "output_type": "stream",
     "text": [
      ">>> (1048575, 12) (eil. x stulp.)\n",
      "../../../duomenys/data_gov_lt/elektra/2021-II_ŠPAM.csv >>> (272313, 12) (eil. x stulp.)\n",
      "../../../duomenys/data_gov_lt/elektra/2021-II_VKK.csv >>> (1024658, 12) (eil. x stulp.)\n"
     ]
    },
    {
     "name": "stderr",
     "output_type": "stream",
     "text": [
      "C:\\Users\\Eridas\\AppData\\Local\\Temp\\ipykernel_14068\\3777566122.py:8: DtypeWarning: Columns (4,5) have mixed types. Specify dtype option on import or set low_memory=False.\n",
      "  df = pd.read_csv(f'{data_dir}/{file}.{data_file_ext}',sep=',')\n"
     ]
    }
   ],
   "source": [
    "print(\"Duomenys iš failų įkeliami į 'df_dict={}'. \",dt.now().replace(microsecond=0))\n",
    "\n",
    "df_dict={}\n",
    "\n",
    "for file in data_files:\n",
    "\n",
    "    print(f'{data_dir}/{file}.{data_file_ext}',end=' ')\n",
    "    df = pd.read_csv(f'{data_dir}/{file}.{data_file_ext}',sep=',')\n",
    "    # ,sep=r'[;,]',engine='python'\n",
    "    print(f'>>> {df.shape} (eil. x stulp.)')\n",
    "    \n",
    "    df_dict[file]=df\n",
    "\n",
    "# print('+'*50)"
   ]
  },
  {
   "cell_type": "code",
   "execution_count": 110,
   "metadata": {},
   "outputs": [
    {
     "name": "stdout",
     "output_type": "stream",
     "text": [
      "(1048575, 14) 0.16s\n",
      "(272313, 14) 0.23s\n",
      "(1024658, 14) 0.49s\n"
     ]
    }
   ],
   "source": [
    "import time\n",
    "\n",
    "columns = [1]+[*range(6,12)]\n",
    "\n",
    "start_time = time.time()\n",
    "df_dict['2021_kiti']=pd.concat([df_dict['2021-I_mažiausi'].iloc[:,columns],df_dict['2021-II_mažiausi'].iloc[:,columns]],axis=1)\n",
    "print(f\"{df_dict['2021_kiti'].shape} {time.time()-start_time:.2f}s\")\n",
    "df_dict['2021_ŠPAM']=pd.concat([df_dict['2021-I_ŠPAM'].iloc[:,columns],df_dict['2021-II_ŠPAM'].iloc[:,columns]],axis=1)\n",
    "print(f\"{df_dict['2021_ŠPAM'].shape} {time.time()-start_time:.2f}s\")\n",
    "df_dict['2021_VKK']=pd.concat([df_dict['2021-I_VKK'].iloc[:,columns],df_dict['2021-II_VKK'].iloc[:,columns]],axis=1)\n",
    "print(f\"{df_dict['2021_VKK'].shape} {time.time()-start_time:.2f}s\")\n",
    "\n",
    "year_df=['2021_kiti','2021_ŠPAM','2021_VKK']"
   ]
  },
  {
   "cell_type": "code",
   "execution_count": 111,
   "metadata": {},
   "outputs": [
    {
     "name": "stdout",
     "output_type": "stream",
     "text": [
      "##### Nesutapimų skaičius 2021_kiti: 116778 #####\n",
      "                REGIONAS                                           REGIONAS\n",
      "9    Švenčionių regionas  Švenčionių regionas,KV,T,Gaminantis vartotojas...\n",
      "45   Švenčionių regionas  Švenčionių regionas,KV,T,Gaminantis vartotojas...\n",
      "174  Švenčionių regionas  Švenčionių regionas,KV,T,Gaminantis vartotojas...\n",
      "177  Švenčionių regionas  Švenčionių regionas,BV,T,Gaminantis vartotojas...\n",
      "199  Švenčionių regionas  Švenčionių regionas,KV,T,,\"29,89\",4900.0,3065....\n",
      "                 REGIONAS     REGIONAS\n",
      "1048570  Gargždų regionas  Ignitis INT\n",
      "1048571  Gargždų regionas  Ignitis INT\n",
      "1048572  Gargždų regionas  Ignitis INT\n",
      "1048573  Gargždų regionas  Ignitis INT\n",
      "1048574  Gargždų regionas  Ignitis INT\n",
      "##### Nesutapimų skaičius 2021_ŠPAM: 4277 #####\n",
      "             REGIONAS                                           REGIONAS\n",
      "75   Šiaulių regionas  Šiaulių regionas,KV,T,Gaminantis vartotojas,\"1...\n",
      "126  Šiaulių regionas  Šiaulių regionas,KV,T,Gaminantis vartotojas,\"2...\n",
      "141  Šiaulių regionas  Šiaulių regionas,KV,T,Gaminantis vartotojas,\"7...\n",
      "146  Šiaulių regionas  Šiaulių regionas,KV,T,Gaminantis vartotojas,\"9...\n",
      "155  Šiaulių regionas  Šiaulių regionas,KV,T,Gaminantis vartotojas,\"9...\n",
      "       REGIONAS          REGIONAS\n",
      "272308      NaN  Alytaus regionas\n",
      "272309      NaN  Alytaus regionas\n",
      "272310      NaN  Alytaus regionas\n",
      "272311      NaN  Alytaus regionas\n",
      "272312      NaN  Alytaus regionas\n",
      "##### Nesutapimų skaičius 2021_VKK: 22541 #####\n",
      "                   REGIONAS           REGIONAS\n",
      "571749  KlaipÄdos regionas  Vilniaus regionas\n",
      "571750  KlaipÄdos regionas  Vilniaus regionas\n",
      "571751  KlaipÄdos regionas  Vilniaus regionas\n",
      "571752  KlaipÄdos regionas  Vilniaus regionas\n",
      "571753  KlaipÄdos regionas  Vilniaus regionas\n",
      "        REGIONAS        REGIONAS\n",
      "1024653      NaN  Kauno regionas\n",
      "1024654      NaN  Kauno regionas\n",
      "1024655      NaN  Kauno regionas\n",
      "1024656      NaN  Kauno regionas\n",
      "1024657      NaN  Kauno regionas\n"
     ]
    }
   ],
   "source": [
    "for df_title in year_df:\n",
    "    # print('#'*5,df_title,'#'*5)\n",
    "    # print(df_dict[df_title].iloc[:,0].head(3))\n",
    "    # print(df_dict[df_title].iloc[:,7].head(3))\n",
    "    \n",
    "    df=df_dict[df_title]\n",
    "    regiono_nesutapimo_df = df[df.iloc[:,0] != df.iloc[:,7]]\n",
    "    print('#'*5,f'Nesutapimų skaičius {df_title}:',len(regiono_nesutapimo_df),'#'*5)\n",
    "    print(regiono_nesutapimo_df.iloc[:,[0,7]].head(5))\n",
    "    print(regiono_nesutapimo_df.iloc[:,[0,7]].tail(5))\n",
    "\n"
   ]
  },
  {
   "cell_type": "markdown",
   "metadata": {},
   "source": [
    "df.iloc[:,1] regionai\n",
    "df.iloc[:,6] KWH01\n",
    "df.iloc[:,11] KWH06\n",
    "df.iloc[:,13] regionai\n",
    "df.iloc[:,18] KWH07\n",
    "df.iloc[:,23] KWH12"
   ]
  },
  {
   "cell_type": "code",
   "execution_count": null,
   "metadata": {},
   "outputs": [
    {
     "name": "stdout",
     "output_type": "stream",
     "text": [
      "2021_kiti\n",
      "2021_ŠPAM\n",
      "2021_VKK\n"
     ]
    }
   ],
   "source": [
    "# columns=[1]+[13]+[*range(6,12)]+[*range(18,24)]\n",
    "\n",
    "# for df_title in year_df:\n",
    "#     print(df_title)\n",
    "#     df_dict[df_title+'_']=df_dict[df_title].iloc[:,columns]"
   ]
  },
  {
   "cell_type": "code",
   "execution_count": 95,
   "metadata": {},
   "outputs": [
    {
     "name": "stdout",
     "output_type": "stream",
     "text": [
      "Nesutapimų skaičius 2021_kiti_: 1048575\n",
      "              REGIONAS     KWH01     KWH02     KWH03     KWH04     KWH05  \\\n",
      "0  Švenčionių regionas  605781.0  575742.2  584244.2  548519.8  518863.6   \n",
      "1  Švenčionių regionas  605781.0  575742.2  584244.2  548519.8  518863.6   \n",
      "2  Švenčionių regionas  605781.0  575742.2  584244.2  548519.8  518863.6   \n",
      "3  Švenčionių regionas  605781.0  575742.2  584244.2  548519.8  518863.6   \n",
      "4  Švenčionių regionas  605781.0  575742.2  584244.2  548519.8  518863.6   \n",
      "\n",
      "      KWH06             REGIONAS     KWH07     KWH08     KWH09     KWH10  \\\n",
      "0  611692.2  Švenčionių regionas  616291.6  568311.2  537184.4  558586.2   \n",
      "1  611692.2  Švenčionių regionas  616291.6  568311.2  537184.4  558586.2   \n",
      "2  611692.2  Švenčionių regionas  616291.6  568311.2  537184.4  558586.2   \n",
      "3  611692.2  Švenčionių regionas  616291.6  568311.2  537184.4  558586.2   \n",
      "4  611692.2  Švenčionių regionas  616291.6  568311.2  537184.4  558586.2   \n",
      "\n",
      "      KWH11     KWH12  \n",
      "0  777806.0  562580.0  \n",
      "1  777806.0  562580.0  \n",
      "2  777806.0  562580.0  \n",
      "3  777806.0  562580.0  \n",
      "4  777806.0  562580.0  \n",
      "                 REGIONAS  KWH01  KWH02  KWH03  KWH04  KWH05  KWH06  \\\n",
      "1048570  Gargždų regionas   30.0   28.0   28.0   28.0   28.0    0.0   \n",
      "1048571  Gargždų regionas    0.0    0.0    0.0    0.0   42.0  100.0   \n",
      "1048572  Gargždų regionas    0.0    0.0    0.0    0.0  142.0    0.0   \n",
      "1048573  Gargždų regionas    0.0    0.0    0.0    0.0  142.0    0.0   \n",
      "1048574  Gargždų regionas    0.0    0.0  141.0    0.0    0.0    0.0   \n",
      "\n",
      "            REGIONAS  KWH07  KWH08  KWH09  KWH10  KWH11  KWH12  \n",
      "1048570  Ignitis INT    0.0    0.0    0.0    0.0    0.0    0.0  \n",
      "1048571  Ignitis INT    0.0    0.0    0.0    0.0    0.0    0.0  \n",
      "1048572  Ignitis INT    0.0    0.0    0.0    0.0    0.0    0.0  \n",
      "1048573  Ignitis INT    0.0    0.0    0.0    0.0    0.0    0.0  \n",
      "1048574  Ignitis INT    0.0    0.0    0.0    0.0    0.0    0.0  \n",
      "Nesutapimų skaičius 2021_ŠPAM_: 272313\n",
      "           REGIONAS      KWH01     KWH02      KWH03      KWH04      KWH05  \\\n",
      "0  Šiaulių regionas  1052547.8  908230.0  1135250.2  1120408.4  1185698.4   \n",
      "1  Šiaulių regionas  1052547.8  908230.0  1135250.2  1120408.4  1185698.4   \n",
      "2  Šiaulių regionas  1052547.8  908230.0  1135250.2  1120408.4  1185698.4   \n",
      "3  Šiaulių regionas  1052547.8  908230.0  1135250.2  1120408.4  1185698.4   \n",
      "4  Šiaulių regionas  1052547.8  908230.0  1135250.2  1120408.4  1185698.4   \n",
      "\n",
      "       KWH06          REGIONAS      KWH07      KWH08      KWH09      KWH10  \\\n",
      "0  1253056.0  Šiaulių regionas  1362162.0  1255867.4  1108174.2  1095702.8   \n",
      "1  1253056.0  Šiaulių regionas  1362162.0  1255867.4  1108174.2  1095702.8   \n",
      "2  1253056.0  Šiaulių regionas  1362162.0  1255867.4  1108174.2  1095702.8   \n",
      "3  1253056.0  Šiaulių regionas  1362162.0  1255867.4  1108174.2  1095702.8   \n",
      "4  1253056.0  Šiaulių regionas  1362162.0  1255867.4  1108174.2  1095702.8   \n",
      "\n",
      "       KWH11      KWH12  \n",
      "0  1083865.4  1048594.0  \n",
      "1  1083865.4  1048594.0  \n",
      "2  1083865.4  1048594.0  \n",
      "3  1083865.4  1048594.0  \n",
      "4  1083865.4  1048594.0  \n",
      "       REGIONAS  KWH01  KWH02  KWH03  KWH04  KWH05  KWH06          REGIONAS  \\\n",
      "272308      NaN    NaN    NaN    NaN    NaN    NaN    NaN  Alytaus regionas   \n",
      "272309      NaN    NaN    NaN    NaN    NaN    NaN    NaN  Alytaus regionas   \n",
      "272310      NaN    NaN    NaN    NaN    NaN    NaN    NaN  Alytaus regionas   \n",
      "272311      NaN    NaN    NaN    NaN    NaN    NaN    NaN  Alytaus regionas   \n",
      "272312      NaN    NaN    NaN    NaN    NaN    NaN    NaN  Alytaus regionas   \n",
      "\n",
      "        KWH07  KWH08  KWH09  KWH10  KWH11  KWH12  \n",
      "272308    0.0    0.0    0.0    0.0    0.0    0.0  \n",
      "272309    0.0    0.0    0.0    0.0    0.0    0.0  \n",
      "272310    0.0    0.0    0.0    0.0    0.0    0.0  \n",
      "272311    0.0    0.0    0.0    0.0    0.0    0.0  \n",
      "272312   20.0   30.0 -792.0    0.0    0.0   10.0  \n",
      "Nesutapimų skaičius 2021_VKK_: 1024658\n",
      "            REGIONAS      KWH01      KWH02      KWH03      KWH04      KWH05  \\\n",
      "0  Vilniaus regionas  3459470.8  3389592.8  3656872.6  3631011.4  3591220.6   \n",
      "1  Vilniaus regionas  3459470.8  3389592.8  3656872.6  3631011.4  3591220.6   \n",
      "2  Vilniaus regionas  3459470.8  3389592.8  3656872.6  3631011.4  3591220.6   \n",
      "3  Vilniaus regionas  3459470.8  3389592.8  3656872.6  3631011.4  3591220.6   \n",
      "4  Vilniaus regionas  3459470.8  3389592.8  3656872.6  3631011.4  3591220.6   \n",
      "\n",
      "       KWH06           REGIONAS      KWH07      KWH08      KWH09      KWH10  \\\n",
      "0  3698914.8  Vilniaus regionas  4047020.8  3941376.4  3819321.4  3913849.0   \n",
      "1  3698914.8  Vilniaus regionas  4047020.8  3941376.4  3819321.4  3913849.0   \n",
      "2  3698914.8  Vilniaus regionas  4047020.8  3941376.4  3819321.4  3913849.0   \n",
      "3  3698914.8  Vilniaus regionas  4047020.8  3941376.4  3819321.4  3913849.0   \n",
      "4  3698914.8  Vilniaus regionas  4047020.8  3941376.4  3819321.4  3913849.0   \n",
      "\n",
      "       KWH11      KWH12  \n",
      "0  3877301.2  3998284.0  \n",
      "1  3877301.2  3998284.0  \n",
      "2  3877301.2  3998284.0  \n",
      "3  3877301.2  3998284.0  \n",
      "4  3877301.2  3998284.0  \n",
      "        REGIONAS  KWH01  KWH02  KWH03  KWH04  KWH05  KWH06        REGIONAS  \\\n",
      "1024653      NaN    NaN    NaN    NaN    NaN    NaN    NaN  Kauno regionas   \n",
      "1024654      NaN    NaN    NaN    NaN    NaN    NaN    NaN  Kauno regionas   \n",
      "1024655      NaN    NaN    NaN    NaN    NaN    NaN    NaN  Kauno regionas   \n",
      "1024656      NaN    NaN    NaN    NaN    NaN    NaN    NaN  Kauno regionas   \n",
      "1024657      NaN    NaN    NaN    NaN    NaN    NaN    NaN  Kauno regionas   \n",
      "\n",
      "          KWH07     KWH08   KWH09     KWH10   KWH11    KWH12  \n",
      "1024653     0.0       0.0  -600.0       0.0  -313.0   -528.0  \n",
      "1024654  4464.0      49.0 -8848.0      50.0   100.0    200.0  \n",
      "1024655  1231.0    1342.0  1836.0    1505.0   865.0 -13360.0  \n",
      "1024656  1350.0 -172318.0  1000.0    1500.0  3000.0   3500.0  \n",
      "1024657  3961.0    4279.0  3430.0 -217835.0  5620.0   6770.0  \n"
     ]
    }
   ],
   "source": [
    "top_n = 3\n",
    "\n",
    "for df_title in year_df:\n",
    "    df=df_dict[df_title]\n",
    "    \n",
    "    regiono_nesutapimo_df = df[df.iloc[:, 0] != df.iloc[:, 1]]\n",
    "    print(f'Nesutapimų skaičius {df_title}_:',len(regiono_nesutapimo_df))\n",
    "    print(regiono_nesutapimo_df.head(5))\n",
    "    print(regiono_nesutapimo_df.tail(5))\n",
    "\n",
    "    # print(df[column].value_counts().head(top_n))\n",
    "    # print(df.iloc[:,2].value_counts().head(top_n))\n",
    "    # for column in df.columns:\n",
    "    #     print(f\"Stulpelis '{column}':\")\n",
    "    #     print(df[column].value_counts().head(top_n))\n",
    "    # print() \n",
    "\n",
    "# regiono_nesutapimo_df = df[df.iloc[:, 0] != df.iloc[:, 1]]\n",
    "# regiono_nesutapimo_df\n",
    "   "
   ]
  },
  {
   "cell_type": "code",
   "execution_count": null,
   "metadata": {},
   "outputs": [],
   "source": []
  },
  {
   "cell_type": "markdown",
   "metadata": {},
   "source": [
    "##########################################\n",
    "    Kintamųjų peržiūros įrankiai\n",
    "##########################################"
   ]
  },
  {
   "cell_type": "code",
   "execution_count": 43,
   "metadata": {},
   "outputs": [
    {
     "name": "stdout",
     "output_type": "stream",
     "text": [
      "2021-I_mažiausi 2021-I_ŠPAM 2021-I_VKK 2021-II_mažiausi 2021-II_ŠPAM 2021-II_VKK "
     ]
    }
   ],
   "source": [
    "for data_title in df_dict.keys():\n",
    "    print(data_title,end=' ')"
   ]
  },
  {
   "cell_type": "code",
   "execution_count": 50,
   "metadata": {},
   "outputs": [
    {
     "name": "stdout",
     "output_type": "stream",
     "text": [
      "2021-I_mažiausi\n",
      "   Unnamed: 0             REGIONAS SUT_TIPAS SUT_GAM GV_TIPAS  GEN_GALIA  \\\n",
      "0           0  Švenčionių regionas        KV       T      NaN        0.0   \n",
      "1           1  Švenčionių regionas        KV     NaN      NaN        NaN   \n",
      "\n",
      "      KWH01     KWH02     KWH03     KWH04     KWH05     KWH06  \n",
      "0  605781.0  575742.2  584244.2  548519.8  518863.6  611692.2  \n",
      "1  605781.0  575742.2  584244.2  548519.8  518863.6  611692.2  \n",
      "         Unnamed: 0          REGIONAS SUT_TIPAS SUT_GAM GV_TIPAS  GEN_GALIA  \\\n",
      "1048573     1048573  Gargždų regionas        BV     NaN      NaN        NaN   \n",
      "1048574     1048574  Gargždų regionas        BV     NaN      NaN        NaN   \n",
      "\n",
      "         KWH01  KWH02  KWH03  KWH04  KWH05  KWH06  \n",
      "1048573    0.0    0.0    0.0    0.0  142.0    0.0  \n",
      "1048574    0.0    0.0  141.0    0.0    0.0    0.0  \n",
      "+++++++++++++++++++++++++++++++++++++++++++++++++++++++++++++++++++++++++++++++\n",
      "2021-I_ŠPAM\n",
      "   Unnamed: 0          REGIONAS SUT_TIPAS SUT_GAM GV_TIPAS GEN_GALIA  \\\n",
      "0           0  Šiaulių regionas        KV     NaN      NaN       NaN   \n",
      "1           1  Šiaulių regionas        KV     NaN      NaN       NaN   \n",
      "\n",
      "       KWH01     KWH02      KWH03      KWH04      KWH05      KWH06  \n",
      "0  1052547.8  908230.0  1135250.2  1120408.4  1185698.4  1253056.0  \n",
      "1  1052547.8  908230.0  1135250.2  1120408.4  1185698.4  1253056.0  \n",
      "        Unnamed: 0          REGIONAS SUT_TIPAS SUT_GAM GV_TIPAS GEN_GALIA  \\\n",
      "271442      271442  Alytaus regionas        BV     NaN      NaN       NaN   \n",
      "271443      271443  Alytaus regionas        BV     NaN      NaN       NaN   \n",
      "\n",
      "        KWH01  KWH02  KWH03  KWH04  KWH05  KWH06  \n",
      "271442    0.0    0.0    0.0    0.0    0.0    0.0  \n",
      "271443 -112.0    0.0    0.0    0.0    0.0    0.0  \n",
      "+++++++++++++++++++++++++++++++++++++++++++++++++++++++++++++++++++++++++++++++\n",
      "2021-I_VKK\n",
      "   Unnamed: 0           REGIONAS SUT_TIPAS SUT_GAM GV_TIPAS GEN_GALIA  \\\n",
      "0           0  Vilniaus regionas        KV     NaN      NaN         0   \n",
      "1           1  Vilniaus regionas        KV     NaN      NaN       NaN   \n",
      "\n",
      "       KWH01      KWH02      KWH03      KWH04      KWH05      KWH06  \n",
      "0  3459470.8  3389592.8  3656872.6  3631011.4  3591220.6  3698914.8  \n",
      "1  3459470.8  3389592.8  3656872.6  3631011.4  3591220.6  3698914.8  \n",
      "         Unnamed: 0        REGIONAS SUT_TIPAS SUT_GAM GV_TIPAS GEN_GALIA  \\\n",
      "1015561     1015561  Kauno regionas        BV     NaN      NaN       NaN   \n",
      "1015562     1015562  Kauno regionas        BV     NaN      NaN         0   \n",
      "\n",
      "           KWH01  KWH02  KWH03  KWH04  KWH05  KWH06  \n",
      "1015561 -15969.0  372.0  172.0  175.0  182.0  168.0  \n",
      "1015562 -15629.0    0.0    0.0    0.0    0.0    0.0  \n",
      "+++++++++++++++++++++++++++++++++++++++++++++++++++++++++++++++++++++++++++++++\n",
      "2021-II_mažiausi\n",
      "   Unnamed: 0             REGIONAS SUT_TIPAS SUT_GAM GV_TIPAS  GEN_GALIA  \\\n",
      "0           0  Švenčionių regionas        KV       T      NaN        0.0   \n",
      "1           1  Švenčionių regionas        KV     NaN      NaN        NaN   \n",
      "\n",
      "      KWH07     KWH08     KWH09     KWH10     KWH11     KWH12  \n",
      "0  616291.6  568311.2  537184.4  558586.2  777806.0  562580.0  \n",
      "1  616291.6  568311.2  537184.4  558586.2  777806.0  562580.0  \n",
      "         Unnamed: 0     REGIONAS SUT_TIPAS SUT_GAM GV_TIPAS  GEN_GALIA  KWH07  \\\n",
      "1048573     1048573  Ignitis INT        BV     NaN      NaN        NaN    0.0   \n",
      "1048574     1048574  Ignitis INT        BV     NaN      NaN        NaN    0.0   \n",
      "\n",
      "         KWH08  KWH09  KWH10  KWH11  KWH12  \n",
      "1048573    0.0    0.0    0.0    0.0    0.0  \n",
      "1048574    0.0    0.0    0.0    0.0    0.0  \n",
      "+++++++++++++++++++++++++++++++++++++++++++++++++++++++++++++++++++++++++++++++\n",
      "2021-II_ŠPAM\n",
      "   Unnamed: 0          REGIONAS SUT_TIPAS SUT_GAM GV_TIPAS  GEN_GALIA  \\\n",
      "0           0  Šiaulių regionas        KV     NaN      NaN        NaN   \n",
      "1           1  Šiaulių regionas        KV     NaN      NaN        0.0   \n",
      "\n",
      "       KWH07      KWH08      KWH09      KWH10      KWH11      KWH12  \n",
      "0  1362162.0  1255867.4  1108174.2  1095702.8  1083865.4  1048594.0  \n",
      "1  1362162.0  1255867.4  1108174.2  1095702.8  1083865.4  1048594.0  \n",
      "        Unnamed: 0          REGIONAS SUT_TIPAS SUT_GAM GV_TIPAS  GEN_GALIA  \\\n",
      "272311      272311  Alytaus regionas        BV     NaN      NaN        NaN   \n",
      "272312      272312  Alytaus regionas        BV     NaN      NaN        NaN   \n",
      "\n",
      "        KWH07  KWH08  KWH09  KWH10  KWH11  KWH12  \n",
      "272311    0.0    0.0    0.0    0.0    0.0    0.0  \n",
      "272312   20.0   30.0 -792.0    0.0    0.0   10.0  \n",
      "+++++++++++++++++++++++++++++++++++++++++++++++++++++++++++++++++++++++++++++++\n",
      "2021-II_VKK\n",
      "   Unnamed: 0           REGIONAS SUT_TIPAS SUT_GAM GV_TIPAS GEN_GALIA  \\\n",
      "0           0  Vilniaus regionas        KV     NaN      NaN         0   \n",
      "1           1  Vilniaus regionas        KV     NaN      NaN       NaN   \n",
      "\n",
      "       KWH07      KWH08      KWH09      KWH10      KWH11      KWH12  \n",
      "0  4047020.8  3941376.4  3819321.4  3913849.0  3877301.2  3998284.0  \n",
      "1  4047020.8  3941376.4  3819321.4  3913849.0  3877301.2  3998284.0  \n",
      "         Unnamed: 0        REGIONAS SUT_TIPAS SUT_GAM GV_TIPAS GEN_GALIA  \\\n",
      "1024656     1024656  Kauno regionas        KV     NaN      NaN       NaN   \n",
      "1024657     1024657  Kauno regionas        KV     NaN      NaN       NaN   \n",
      "\n",
      "          KWH07     KWH08   KWH09     KWH10   KWH11   KWH12  \n",
      "1024656  1350.0 -172318.0  1000.0    1500.0  3000.0  3500.0  \n",
      "1024657  3961.0    4279.0  3430.0 -217835.0  5620.0  6770.0  \n",
      "+++++++++++++++++++++++++++++++++++++++++++++++++++++++++++++++++++++++++++++++\n"
     ]
    }
   ],
   "source": [
    "for data_title in df_dict.keys():\n",
    "    print(data_title)\n",
    "    print(df_dict[data_title].head(2))\n",
    "    print(df_dict[data_title].tail(2))\n",
    "    print('+'*79)"
   ]
  },
  {
   "cell_type": "markdown",
   "metadata": {},
   "source": [
    "##########################################\n",
    "    Duomenų formatų tvarkymo įrankiai\n",
    "##########################################"
   ]
  },
  {
   "cell_type": "code",
   "execution_count": 21,
   "metadata": {},
   "outputs": [
    {
     "name": "stdout",
     "output_type": "stream",
     "text": [
      "../../../duomenys/data_gov_lt/elektra/2021-I_ŠPAM.xlsx\n"
     ]
    }
   ],
   "source": [
    "# xlsx konvertuojamas į CSV.\n",
    "print(f'{data_dir}/2021-I_ŠPAM.xlsx')\n",
    "df = pd.read_excel(f\"Konvertuojami duomenys: '{data_dir}/2021-I_ŠPAM.xlsx' \")\n",
    "# print('df.head(2)')\n",
    "df.to_csv(f'{data_dir}/2021-I_ŠPAM.csv')"
   ]
  },
  {
   "cell_type": "code",
   "execution_count": 33,
   "metadata": {},
   "outputs": [
    {
     "name": "stdout",
     "output_type": "stream",
     "text": [
      "Konvertuojami duomenys: '...' \n"
     ]
    }
   ],
   "source": [
    "data_name='2021-II_VKK'\n",
    "print(f\"Konvertuojami duomenys: '{data_dir}/{data_name}.csv' \")\n",
    "df = pd.read_csv(f'{data_dir}/{data_name}.csv',encoding='iso-8859-13',sep=';')\n",
    "# print(df.head(1))\n",
    "df.to_csv(f'{data_dir}/{data_name}.csv',encoding='utf-8',sep=',')"
   ]
  },
  {
   "cell_type": "code",
   "execution_count": 115,
   "metadata": {},
   "outputs": [],
   "source": [
    "# Šalinu klaidą (kabutes)\n",
    "\n",
    "file_name=f'{data_dir}/2021-II_ŠPAM.csv'\n",
    "\n",
    "with open(f'{data_dir}/2021-II_ŠPAM.csv','r') as file:\n",
    "    content = file.read()\n",
    "\n",
    "# Pakeičiame skirtukus į kabliataškius\n",
    "content = content.replace('\"','')\n",
    "\n",
    "# Išsaugome apdorotą failą ir nuskaitykime jį\n",
    "with open(f'{data_dir}/2021-II_ŠPAM_.csv','w') as file:\n",
    "    file.write(content)\n",
    "\n",
    "# Nustatyta, kad tose eilutėse yra daugiau klaidų, \n",
    "# todėl jos bus ne taisomos, o ignoruojamos."
   ]
  },
  {
   "cell_type": "markdown",
   "metadata": {},
   "source": [
    "74,Šiaulių regionas,KV,,,,62503.0,51617.0,45523.0,45605.0,44642.0,47615.0\n",
    "75,\"Šiaulių regionas,KV,T,Gaminantis vartotojas,\"\"199,4\"\",34303.0,49973.0,51328.0,48745.0,55593.0,45736.0\",,,,,,,,,,\n",
    "76,Šiaulių regionas,KV,,,,15471.0,55083.0,62517.0,52360.0,49874.0,42057.0"
   ]
  }
 ],
 "metadata": {
  "kernelspec": {
   "display_name": "Python 3",
   "language": "python",
   "name": "python3"
  },
  "language_info": {
   "codemirror_mode": {
    "name": "ipython",
    "version": 3
   },
   "file_extension": ".py",
   "mimetype": "text/x-python",
   "name": "python",
   "nbconvert_exporter": "python",
   "pygments_lexer": "ipython3",
   "version": "3.12.4"
  }
 },
 "nbformat": 4,
 "nbformat_minor": 2
}
