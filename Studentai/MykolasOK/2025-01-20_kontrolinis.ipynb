{
 "cells": [
  {
   "cell_type": "code",
   "execution_count": 35,
   "metadata": {},
   "outputs": [
    {
     "name": "stdout",
     "output_type": "stream",
     "text": [
      "80 pask. pasiruošta 2025-01-20 19:33:29\n",
      "c:\\Users\\Eridas\\Documents\\vilniuscoding2024\\git\\DataScienceNotebooks\\Studentai\\MykolasOK\n"
     ]
    }
   ],
   "source": [
    "from datetime import datetime as dt\n",
    "import os \n",
    "import pandas as pd\n",
    "import numpy as np\n",
    "\n",
    "data_files=['2021-I_mažiausi','2021-I_ŠPAM','2021-I_VKK','2021-II_mažiausi','2021-II_ŠPAM','2021-II_VKK']\n",
    "date_cols=['data_valanda','dateTime','dateTime','data_valanda']\n",
    "\n",
    "data_dir=\"../../../duomenys/data_gov_lt/elektra\"\n",
    "data_file_ext=\"csv\"\n",
    "\n",
    "print('80 pask. pasiruošta',dt.now().replace(microsecond=0))\n",
    "print(os.getcwd())\n",
    "# print(os.listdir(data_dir))"
   ]
  },
  {
   "cell_type": "code",
   "execution_count": 39,
   "metadata": {},
   "outputs": [
    {
     "name": "stdout",
     "output_type": "stream",
     "text": [
      "Duomenys iš failų įkeliami į 'df_dict={}'.  2025-01-20 19:44:26\n",
      "../../../duomenys/data_gov_lt/elektra/2021-I_mažiausi.csv "
     ]
    },
    {
     "name": "stderr",
     "output_type": "stream",
     "text": [
      "C:\\Users\\Eridas\\AppData\\Local\\Temp\\ipykernel_14068\\2098954815.py:8: DtypeWarning: Columns (4) have mixed types. Specify dtype option on import or set low_memory=False.\n",
      "  df = pd.read_csv(f'{data_dir}/{file}.{data_file_ext}')\n"
     ]
    },
    {
     "name": "stdout",
     "output_type": "stream",
     "text": [
      ">>> (1048575, 12) (eil. x stulp.)\n",
      "../../../duomenys/data_gov_lt/elektra/2021-I_ŠPAM.csv >>> (271444, 12) (eil. x stulp.)\n",
      "../../../duomenys/data_gov_lt/elektra/2021-I_VKK.csv "
     ]
    },
    {
     "name": "stderr",
     "output_type": "stream",
     "text": [
      "C:\\Users\\Eridas\\AppData\\Local\\Temp\\ipykernel_14068\\2098954815.py:8: DtypeWarning: Columns (4,5) have mixed types. Specify dtype option on import or set low_memory=False.\n",
      "  df = pd.read_csv(f'{data_dir}/{file}.{data_file_ext}')\n"
     ]
    },
    {
     "name": "stdout",
     "output_type": "stream",
     "text": [
      ">>> (1015563, 12) (eil. x stulp.)\n",
      "../../../duomenys/data_gov_lt/elektra/2021-II_mažiausi.csv "
     ]
    },
    {
     "name": "stderr",
     "output_type": "stream",
     "text": [
      "C:\\Users\\Eridas\\AppData\\Local\\Temp\\ipykernel_14068\\2098954815.py:8: DtypeWarning: Columns (4) have mixed types. Specify dtype option on import or set low_memory=False.\n",
      "  df = pd.read_csv(f'{data_dir}/{file}.{data_file_ext}')\n"
     ]
    },
    {
     "name": "stdout",
     "output_type": "stream",
     "text": [
      ">>> (1048575, 12) (eil. x stulp.)\n",
      "../../../duomenys/data_gov_lt/elektra/2021-II_ŠPAM.csv >>> (272313, 12) (eil. x stulp.)\n",
      "../../../duomenys/data_gov_lt/elektra/2021-II_VKK.csv >>> (1024658, 12) (eil. x stulp.)\n"
     ]
    },
    {
     "name": "stderr",
     "output_type": "stream",
     "text": [
      "C:\\Users\\Eridas\\AppData\\Local\\Temp\\ipykernel_14068\\2098954815.py:8: DtypeWarning: Columns (4,5) have mixed types. Specify dtype option on import or set low_memory=False.\n",
      "  df = pd.read_csv(f'{data_dir}/{file}.{data_file_ext}')\n"
     ]
    }
   ],
   "source": [
    "print(\"Duomenys iš failų įkeliami į 'df_dict={}'. \",dt.now().replace(microsecond=0))\n",
    "\n",
    "df_dict={}\n",
    "\n",
    "for file in data_files:\n",
    "\n",
    "    print(f'{data_dir}/{file}.{data_file_ext}',end=' ')\n",
    "    df = pd.read_csv(f'{data_dir}/{file}.{data_file_ext}')\n",
    "\n",
    "    print(f'>>> {df.shape} (eil. x stulp.)')\n",
    "    \n",
    "    df_dict[file]=df\n",
    "\n",
    "# print('+'*50)"
   ]
  },
  {
   "cell_type": "markdown",
   "metadata": {},
   "source": [
    "##########################################\n",
    "    Kintamųjų peržiūros įrankiai\n",
    "##########################################"
   ]
  },
  {
   "cell_type": "code",
   "execution_count": 43,
   "metadata": {},
   "outputs": [
    {
     "name": "stdout",
     "output_type": "stream",
     "text": [
      "2021-I_mažiausi 2021-I_ŠPAM 2021-I_VKK 2021-II_mažiausi 2021-II_ŠPAM 2021-II_VKK "
     ]
    }
   ],
   "source": [
    "for data_title in df_dict.keys():\n",
    "    print(data_title,end=' ')"
   ]
  },
  {
   "cell_type": "code",
   "execution_count": 50,
   "metadata": {},
   "outputs": [
    {
     "name": "stdout",
     "output_type": "stream",
     "text": [
      "2021-I_mažiausi\n",
      "   Unnamed: 0             REGIONAS SUT_TIPAS SUT_GAM GV_TIPAS  GEN_GALIA  \\\n",
      "0           0  Švenčionių regionas        KV       T      NaN        0.0   \n",
      "1           1  Švenčionių regionas        KV     NaN      NaN        NaN   \n",
      "\n",
      "      KWH01     KWH02     KWH03     KWH04     KWH05     KWH06  \n",
      "0  605781.0  575742.2  584244.2  548519.8  518863.6  611692.2  \n",
      "1  605781.0  575742.2  584244.2  548519.8  518863.6  611692.2  \n",
      "         Unnamed: 0          REGIONAS SUT_TIPAS SUT_GAM GV_TIPAS  GEN_GALIA  \\\n",
      "1048573     1048573  Gargždų regionas        BV     NaN      NaN        NaN   \n",
      "1048574     1048574  Gargždų regionas        BV     NaN      NaN        NaN   \n",
      "\n",
      "         KWH01  KWH02  KWH03  KWH04  KWH05  KWH06  \n",
      "1048573    0.0    0.0    0.0    0.0  142.0    0.0  \n",
      "1048574    0.0    0.0  141.0    0.0    0.0    0.0  \n",
      "+++++++++++++++++++++++++++++++++++++++++++++++++++++++++++++++++++++++++++++++\n",
      "2021-I_ŠPAM\n",
      "   Unnamed: 0          REGIONAS SUT_TIPAS SUT_GAM GV_TIPAS GEN_GALIA  \\\n",
      "0           0  Šiaulių regionas        KV     NaN      NaN       NaN   \n",
      "1           1  Šiaulių regionas        KV     NaN      NaN       NaN   \n",
      "\n",
      "       KWH01     KWH02      KWH03      KWH04      KWH05      KWH06  \n",
      "0  1052547.8  908230.0  1135250.2  1120408.4  1185698.4  1253056.0  \n",
      "1  1052547.8  908230.0  1135250.2  1120408.4  1185698.4  1253056.0  \n",
      "        Unnamed: 0          REGIONAS SUT_TIPAS SUT_GAM GV_TIPAS GEN_GALIA  \\\n",
      "271442      271442  Alytaus regionas        BV     NaN      NaN       NaN   \n",
      "271443      271443  Alytaus regionas        BV     NaN      NaN       NaN   \n",
      "\n",
      "        KWH01  KWH02  KWH03  KWH04  KWH05  KWH06  \n",
      "271442    0.0    0.0    0.0    0.0    0.0    0.0  \n",
      "271443 -112.0    0.0    0.0    0.0    0.0    0.0  \n",
      "+++++++++++++++++++++++++++++++++++++++++++++++++++++++++++++++++++++++++++++++\n",
      "2021-I_VKK\n",
      "   Unnamed: 0           REGIONAS SUT_TIPAS SUT_GAM GV_TIPAS GEN_GALIA  \\\n",
      "0           0  Vilniaus regionas        KV     NaN      NaN         0   \n",
      "1           1  Vilniaus regionas        KV     NaN      NaN       NaN   \n",
      "\n",
      "       KWH01      KWH02      KWH03      KWH04      KWH05      KWH06  \n",
      "0  3459470.8  3389592.8  3656872.6  3631011.4  3591220.6  3698914.8  \n",
      "1  3459470.8  3389592.8  3656872.6  3631011.4  3591220.6  3698914.8  \n",
      "         Unnamed: 0        REGIONAS SUT_TIPAS SUT_GAM GV_TIPAS GEN_GALIA  \\\n",
      "1015561     1015561  Kauno regionas        BV     NaN      NaN       NaN   \n",
      "1015562     1015562  Kauno regionas        BV     NaN      NaN         0   \n",
      "\n",
      "           KWH01  KWH02  KWH03  KWH04  KWH05  KWH06  \n",
      "1015561 -15969.0  372.0  172.0  175.0  182.0  168.0  \n",
      "1015562 -15629.0    0.0    0.0    0.0    0.0    0.0  \n",
      "+++++++++++++++++++++++++++++++++++++++++++++++++++++++++++++++++++++++++++++++\n",
      "2021-II_mažiausi\n",
      "   Unnamed: 0             REGIONAS SUT_TIPAS SUT_GAM GV_TIPAS  GEN_GALIA  \\\n",
      "0           0  Švenčionių regionas        KV       T      NaN        0.0   \n",
      "1           1  Švenčionių regionas        KV     NaN      NaN        NaN   \n",
      "\n",
      "      KWH07     KWH08     KWH09     KWH10     KWH11     KWH12  \n",
      "0  616291.6  568311.2  537184.4  558586.2  777806.0  562580.0  \n",
      "1  616291.6  568311.2  537184.4  558586.2  777806.0  562580.0  \n",
      "         Unnamed: 0     REGIONAS SUT_TIPAS SUT_GAM GV_TIPAS  GEN_GALIA  KWH07  \\\n",
      "1048573     1048573  Ignitis INT        BV     NaN      NaN        NaN    0.0   \n",
      "1048574     1048574  Ignitis INT        BV     NaN      NaN        NaN    0.0   \n",
      "\n",
      "         KWH08  KWH09  KWH10  KWH11  KWH12  \n",
      "1048573    0.0    0.0    0.0    0.0    0.0  \n",
      "1048574    0.0    0.0    0.0    0.0    0.0  \n",
      "+++++++++++++++++++++++++++++++++++++++++++++++++++++++++++++++++++++++++++++++\n",
      "2021-II_ŠPAM\n",
      "   Unnamed: 0          REGIONAS SUT_TIPAS SUT_GAM GV_TIPAS  GEN_GALIA  \\\n",
      "0           0  Šiaulių regionas        KV     NaN      NaN        NaN   \n",
      "1           1  Šiaulių regionas        KV     NaN      NaN        0.0   \n",
      "\n",
      "       KWH07      KWH08      KWH09      KWH10      KWH11      KWH12  \n",
      "0  1362162.0  1255867.4  1108174.2  1095702.8  1083865.4  1048594.0  \n",
      "1  1362162.0  1255867.4  1108174.2  1095702.8  1083865.4  1048594.0  \n",
      "        Unnamed: 0          REGIONAS SUT_TIPAS SUT_GAM GV_TIPAS  GEN_GALIA  \\\n",
      "272311      272311  Alytaus regionas        BV     NaN      NaN        NaN   \n",
      "272312      272312  Alytaus regionas        BV     NaN      NaN        NaN   \n",
      "\n",
      "        KWH07  KWH08  KWH09  KWH10  KWH11  KWH12  \n",
      "272311    0.0    0.0    0.0    0.0    0.0    0.0  \n",
      "272312   20.0   30.0 -792.0    0.0    0.0   10.0  \n",
      "+++++++++++++++++++++++++++++++++++++++++++++++++++++++++++++++++++++++++++++++\n",
      "2021-II_VKK\n",
      "   Unnamed: 0           REGIONAS SUT_TIPAS SUT_GAM GV_TIPAS GEN_GALIA  \\\n",
      "0           0  Vilniaus regionas        KV     NaN      NaN         0   \n",
      "1           1  Vilniaus regionas        KV     NaN      NaN       NaN   \n",
      "\n",
      "       KWH07      KWH08      KWH09      KWH10      KWH11      KWH12  \n",
      "0  4047020.8  3941376.4  3819321.4  3913849.0  3877301.2  3998284.0  \n",
      "1  4047020.8  3941376.4  3819321.4  3913849.0  3877301.2  3998284.0  \n",
      "         Unnamed: 0        REGIONAS SUT_TIPAS SUT_GAM GV_TIPAS GEN_GALIA  \\\n",
      "1024656     1024656  Kauno regionas        KV     NaN      NaN       NaN   \n",
      "1024657     1024657  Kauno regionas        KV     NaN      NaN       NaN   \n",
      "\n",
      "          KWH07     KWH08   KWH09     KWH10   KWH11   KWH12  \n",
      "1024656  1350.0 -172318.0  1000.0    1500.0  3000.0  3500.0  \n",
      "1024657  3961.0    4279.0  3430.0 -217835.0  5620.0  6770.0  \n",
      "+++++++++++++++++++++++++++++++++++++++++++++++++++++++++++++++++++++++++++++++\n"
     ]
    }
   ],
   "source": [
    "for data_title in df_dict.keys():\n",
    "    print(data_title)\n",
    "    print(df_dict[data_title].head(2))\n",
    "    print(df_dict[data_title].tail(2))\n",
    "    print('+'*79)"
   ]
  },
  {
   "cell_type": "markdown",
   "metadata": {},
   "source": [
    "##########################################\n",
    "    Duomenų formatų tvarkymo įrankiai\n",
    "##########################################"
   ]
  },
  {
   "cell_type": "code",
   "execution_count": 21,
   "metadata": {},
   "outputs": [
    {
     "name": "stdout",
     "output_type": "stream",
     "text": [
      "../../../duomenys/data_gov_lt/elektra/2021-I_ŠPAM.xlsx\n"
     ]
    }
   ],
   "source": [
    "print(f'{data_dir}/2021-I_ŠPAM.xlsx')\n",
    "df = pd.read_excel(f\"Konvertuojami duomenys: '{data_dir}/2021-I_ŠPAM.xlsx' \")\n",
    "# print('df.head(2)')\n",
    "df.to_csv(f'{data_dir}/2021-I_ŠPAM.csv')"
   ]
  },
  {
   "cell_type": "code",
   "execution_count": 33,
   "metadata": {},
   "outputs": [
    {
     "name": "stdout",
     "output_type": "stream",
     "text": [
      "Konvertuojami duomenys: '...' \n"
     ]
    }
   ],
   "source": [
    "data_name='2021-II_VKK'\n",
    "print(f\"Konvertuojami duomenys: '{data_dir}/{data_name}.csv' \")\n",
    "df = pd.read_csv(f'{data_dir}/{data_name}.csv',encoding='iso-8859-13',sep=';')\n",
    "# print(df.head(1))\n",
    "df.to_csv(f'{data_dir}/{data_name}.csv',encoding='utf-8',sep=',')"
   ]
  }
 ],
 "metadata": {
  "kernelspec": {
   "display_name": "Python 3",
   "language": "python",
   "name": "python3"
  },
  "language_info": {
   "codemirror_mode": {
    "name": "ipython",
    "version": 3
   },
   "file_extension": ".py",
   "mimetype": "text/x-python",
   "name": "python",
   "nbconvert_exporter": "python",
   "pygments_lexer": "ipython3",
   "version": "3.12.4"
  }
 },
 "nbformat": 4,
 "nbformat_minor": 2
}
