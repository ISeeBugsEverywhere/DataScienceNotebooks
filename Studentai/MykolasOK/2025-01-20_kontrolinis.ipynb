{
 "cells": [
  {
   "cell_type": "code",
   "execution_count": 4,
   "metadata": {},
   "outputs": [
    {
     "name": "stdout",
     "output_type": "stream",
     "text": [
      "80 pask. pasiruošta 2025-01-20 18:55:18\n",
      "c:\\Users\\Eridas\\Documents\\vilniuscoding2024\\git\\DataScienceNotebooks\\Studentai\\MykolasOK\n",
      "['.~lock.2021-I_ŠPAM.xlsx#', '2021-II_mažiausi.csv', '2021-II_VKK.csv', '2021-II_ŠPAM.csv', '2021-I_mažiausi.csv', '2021-I_VKK.csv', '2021-I_ŠPAM.xlsx']\n"
     ]
    }
   ],
   "source": [
    "from datetime import datetime as dt\n",
    "import os \n",
    "import pandas as pd\n",
    "import numpy as np\n",
    "\n",
    "weekday_names=[\"Pirmadienis\",\"Antradienis\",\"Trečiadienis\",\"Ketvirtadienis\",\"Penktadienis\",\"Šeštadienis\",\"Sekmadienis\"]\n",
    "data_files=['b2b_gv_vartojimas','b2c_gv_vartojimas','b2c_ngv_vartojimas','b2b_ngv_vartojimas']\n",
    "date_cols=['data_valanda','dateTime','dateTime','data_valanda']\n",
    "\n",
    "data_dir=\"../../../duomenys/data_gov_lt/elektra/\"\n",
    "data_file_ext=\"xlsx\"\n",
    "\n",
    "print('80 pask. pasiruošta',dt.now().replace(microsecond=0))\n",
    "print(os.getcwd())\n",
    "print(os.listdir(data_dir))"
   ]
  }
 ],
 "metadata": {
  "kernelspec": {
   "display_name": "Python 3",
   "language": "python",
   "name": "python3"
  },
  "language_info": {
   "codemirror_mode": {
    "name": "ipython",
    "version": 3
   },
   "file_extension": ".py",
   "mimetype": "text/x-python",
   "name": "python",
   "nbconvert_exporter": "python",
   "pygments_lexer": "ipython3",
   "version": "3.12.4"
  }
 },
 "nbformat": 4,
 "nbformat_minor": 2
}
