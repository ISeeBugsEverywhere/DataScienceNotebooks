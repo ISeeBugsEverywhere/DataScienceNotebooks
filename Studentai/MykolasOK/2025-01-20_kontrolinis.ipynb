{
 "cells": [
  {
   "cell_type": "code",
   "execution_count": 35,
   "metadata": {},
   "outputs": [
    {
     "name": "stdout",
     "output_type": "stream",
     "text": [
      "80 pask. pasiruošta 2025-01-20 19:33:29\n",
      "c:\\Users\\Eridas\\Documents\\vilniuscoding2024\\git\\DataScienceNotebooks\\Studentai\\MykolasOK\n"
     ]
    }
   ],
   "source": [
    "from datetime import datetime as dt\n",
    "import os \n",
    "import pandas as pd\n",
    "import numpy as np\n",
    "\n",
    "data_files=['2021-I_mažiausi','2021-I_ŠPAM','2021-I_VKK','2021-II_mažiausi','2021-II_ŠPAM','2021-II_VKK']\n",
    "date_cols=['data_valanda','dateTime','dateTime','data_valanda']\n",
    "\n",
    "data_dir=\"../../../duomenys/data_gov_lt/elektra\"\n",
    "data_file_ext=\"csv\"\n",
    "\n",
    "print('80 pask. pasiruošta',dt.now().replace(microsecond=0))\n",
    "print(os.getcwd())\n",
    "# print(os.listdir(data_dir))"
   ]
  },
  {
   "cell_type": "code",
   "execution_count": null,
   "metadata": {},
   "outputs": [],
   "source": [
    "print(\"Duomenys iš failų įkeliami į 'df_dict={}'. \",dt.now().replace(microsecond=0))\n",
    "\n",
    "df_dict={}\n",
    "\n",
    "for file in data_files:\n",
    "\n",
    "    print(f'{data_dir}{file}.{data_file_ext}',end=' ')\n",
    "    df = pd.read_csv(f'{data_dir}{file}.{data_file_ext}')\n",
    "\n",
    "    print(f'>>> {df.shape} (eil. x stulp.)')\n",
    "    \n",
    "    df_dict[file]=df\n",
    "\n",
    "print('+'*50)\n",
    "\n",
    "for df in df_dict:\n",
    "    print(df.head(3))"
   ]
  },
  {
   "cell_type": "markdown",
   "metadata": {},
   "source": [
    "##########################################\n",
    "    Duomenų formatų tvarkymo įrankiai\n",
    "##########################################"
   ]
  },
  {
   "cell_type": "code",
   "execution_count": 21,
   "metadata": {},
   "outputs": [
    {
     "name": "stdout",
     "output_type": "stream",
     "text": [
      "../../../duomenys/data_gov_lt/elektra/2021-I_ŠPAM.xlsx\n"
     ]
    }
   ],
   "source": [
    "print(f'{data_dir}/2021-I_ŠPAM.xlsx')\n",
    "df = pd.read_excel(f\"Konvertuojami duomenys: '{data_dir}/2021-I_ŠPAM.xlsx' \")\n",
    "# print('df.head(2)')\n",
    "df.to_csv(f'{data_dir}/2021-I_ŠPAM.csv')"
   ]
  },
  {
   "cell_type": "code",
   "execution_count": 33,
   "metadata": {},
   "outputs": [
    {
     "name": "stdout",
     "output_type": "stream",
     "text": [
      "Konvertuojami duomenys: '...' \n"
     ]
    }
   ],
   "source": [
    "data_name='2021-II_VKK'\n",
    "print(f\"Konvertuojami duomenys: '{data_dir}/{data_name}.csv' \")\n",
    "df = pd.read_csv(f'{data_dir}/{data_name}.csv',encoding='iso-8859-13',sep=';')\n",
    "# print(df.head(1))\n",
    "df.to_csv(f'{data_dir}/{data_name}.csv',encoding='utf-8',sep=',')"
   ]
  }
 ],
 "metadata": {
  "kernelspec": {
   "display_name": "Python 3",
   "language": "python",
   "name": "python3"
  },
  "language_info": {
   "codemirror_mode": {
    "name": "ipython",
    "version": 3
   },
   "file_extension": ".py",
   "mimetype": "text/x-python",
   "name": "python",
   "nbconvert_exporter": "python",
   "pygments_lexer": "ipython3",
   "version": "3.12.4"
  }
 },
 "nbformat": 4,
 "nbformat_minor": 2
}
