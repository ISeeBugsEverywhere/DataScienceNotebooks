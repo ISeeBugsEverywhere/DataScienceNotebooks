{
 "cells": [
  {
   "cell_type": "code",
   "execution_count": 2,
   "metadata": {},
   "outputs": [
    {
     "name": "stdout",
     "output_type": "stream",
     "text": [
      "2024-07-24\n",
      "13 paskaita\n"
     ]
    }
   ],
   "source": [
    "print('2024-07-24\\n13 paskaita')"
   ]
  },
  {
   "cell_type": "code",
   "execution_count": 55,
   "metadata": {},
   "outputs": [
    {
     "data": {
      "text/plain": [
       "['S', 'skaicius', 42, 42, 'S']"
      ]
     },
     "execution_count": 55,
     "metadata": {},
     "output_type": "execute_result"
    }
   ],
   "source": [
    "# .isnumeric(), .isalpha() - a-z\n",
    "txt = 'Labs, šiandien yra 24 liepos, 7-to mėnesio diena'\n",
    "txt = 'A4= x'\n",
    "# parašyti funkciją, skirtą naudoti su map()\n",
    "# ir gaukite sąrašą, kur, jei simbolis duotąjame tekste buvo skaičius - rašote 'Skaičius;,\n",
    "# o jei tai buvo raidė - rašote 'S', o jei tai spec. simbolis - rašote 42 (skaičių)\n",
    "\n",
    "def eil_info(t):\n",
    "    return list(map(lambda x: \"skaicius\" if x.isnumeric() else 'S' if x.isalpha() else 42, t))\n",
    "\n",
    "eil_info(txt)"
   ]
  },
  {
   "cell_type": "code",
   "execution_count": 11,
   "metadata": {},
   "outputs": [
    {
     "name": "stdout",
     "output_type": "stream",
     "text": [
      "2024-06-17 00:00:00\n",
      "2009-07-08 00:00:00\n",
      "2009-07-08 00:00:00\n",
      "2003-01-02 00:00:00\n",
      "2011-03-10 00:00:00\n"
     ]
    }
   ],
   "source": [
    "from dateutil import parser\n",
    "\n",
    "d=[]\n",
    "d.append('2024-06-17')\n",
    "d.append('7/8/9')\n",
    "d.append('7.8.9')\n",
    "d.append('1-2-3')\n",
    "d.append('10/mar/11')\n",
    "\n",
    "for dd in d:\n",
    "    print(parser.parse(dd))"
   ]
  },
  {
   "cell_type": "code",
   "execution_count": 41,
   "metadata": {},
   "outputs": [
    {
     "name": "stdout",
     "output_type": "stream",
     "text": [
      "[0, 1, 2, 3, 4, 5, 6, 7, 8, 9, 10]\n",
      "[0, 1, 2, 3, 4, 5, 6, 7, 8, 9, 10, 0, 1, 2, 3, 4, 5, 6, 7, 8, 9, 10]\n",
      "[ 0  1  2  3  4  5  6  7  8  9 10]\n",
      "[ 0  2  4  6  8 10 12 14 16 18 20]\n",
      "[15 16 17 18 19] m\n",
      "[10 11 12 13 14] h\n",
      "[150 176 204 234 266] m*h\n",
      "[1.5        1.45454545 1.41666667 1.38461538 1.35714286] m/h\n"
     ]
    }
   ],
   "source": [
    "import numpy as np\n",
    "\n",
    "f=[]\n",
    "for i in range (11):\n",
    "    f.append(i)\n",
    "print(f)\n",
    "print(f*2)\n",
    "\n",
    "g=np.arange(0,11)\n",
    "print(g)\n",
    "print(g*2)\n",
    "\n",
    "h=np.arange(10,15)\n",
    "m=np.arange(15,20)\n",
    "\n",
    "print(m,'m')\n",
    "print(h,'h')\n",
    "print(m*h,'m*h')\n",
    "print(m/h,'m/h')"
   ]
  },
  {
   "cell_type": "code",
   "execution_count": 42,
   "metadata": {},
   "outputs": [
    {
     "name": "stdout",
     "output_type": "stream",
     "text": [
      "[ 1.    3.25  5.5   7.75 10.  ]\n",
      "[ 1.   2.5  4.   5.5  7.   8.5 10. ]\n",
      "[0.43317563 0.77840799 0.28991474 0.67607637 0.18694958 0.086229  ]\n",
      "0.408458885925874\n",
      "0.408458885925874\n",
      "0.3615451866032599\n"
     ]
    }
   ],
   "source": [
    "print(np.linspace(1,10,5))\n",
    "print(np.linspace(1,10,7))\n",
    "\n",
    "p=np.random.rand(6)\n",
    "print(p)\n",
    "print(np.average(p))\n",
    "print(np.mean(p))\n",
    "print(np.median(p))"
   ]
  },
  {
   "cell_type": "code",
   "execution_count": 53,
   "metadata": {},
   "outputs": [
    {
     "name": "stdout",
     "output_type": "stream",
     "text": [
      "[1.         0.14524176 1.27893738 0.96891242 0.24740396]\n",
      "[ 2.          0.65124422 -0.22124983  0.87758256  0.47942554]\n",
      "[3.         0.40350402 0.26072018 0.73168887 0.68163876]\n",
      "\n",
      "(1.0, 2.0, 3.0, 4.0, 5.0, 6.0, 7.0, 8.0, 9.0, 10.0, 11.0, 12.0, 13.0, 14.0, 15.0, 16.0, 17.0, 18.0, 19.0, 20.0, 21.0, 22.0, 23.0, 24.0, 25.0, 26.0, 27.0, 28.0, 29.0, 30.0)\n",
      "(0.1452417613699, 0.6512442209278, 0.4035040242722, 0.4132777648612, 0.5376411841046, 0.1291337706973, 0.1095216706458, 0.09160293026716, 0.4375391272162, 0.9592487370183, 0.9081051778975, 0.9680425954415, 0.2747224875965, 0.9395053829374, 0.02702508007502, 0.1085425346591, 0.4510075977325, 0.3480182621135, 0.7447402033832, 0.4360231445388, 0.9591874750078, 0.6777559523593, 0.3108400419198, 0.4439762905753, 0.279228458508, 0.1417351946639, 0.586848460719, 0.7415905076166, 0.04117579111077, 0.7625497651729)\n",
      "(1.278937382525, -0.221249827056, 0.2607201762198, -0.639773669202, -1.289622965918, -0.5827399456765, -0.6255631311019, 0.4207626695444, 0.545822596946, -0.7345529426945, -0.8456202437782, -0.3624250402443, 0.98016735787, 0.2743819570803, -1.815132715182, 1.046147297371, -0.09027164462343, -0.3725032839649, -1.55157980558, 0.4012095447749, -0.7191148652728, -0.6067827588022, -1.468194938267, -0.5550429008205, 1.235023764172, 0.8888412045504, -0.8446565102295, 0.27671541301, 0.6790202400819, -0.6251059757464)\n",
      "(0.9689124217106, 0.8775825618904, 0.7316888688738, 0.5403023058681, 0.3153223623953, 0.0707372016677, -0.1782460556495, -0.4161468365471, -0.6281736227227, -0.8011436155469, -0.9243023786325, -0.9899924966004, -0.9941296760805, -0.9364566872908, -0.8205593573396, -0.6536436208636, -0.4460874899138, -0.2107957994308, 0.03760215288798, 0.2836621854632, 0.5120854772418, 0.7086697742913, 0.8611924171615, 0.9601702866504, 0.9994494182245, 0.976587625728, 0.8930063446891, 0.7539022543433, 0.5679241732887, 0.346635317835)\n",
      "(0.2474039592545, 0.4794255386042, 0.6816387600233, 0.8414709848079, 0.9489846193556, 0.9974949866041, 0.9839859468739, 0.9092974268257, 0.7780731968879, 0.598472144104, 0.3816609920523, 0.1411200080599, -0.1081951345301, -0.3507832276896, -0.5715613187423, -0.7568024953079, -0.8949893582286, -0.9775301176651, -0.9992927889754, -0.9589242746631, -0.8589344934266, -0.7055403255704, -0.5082790774993, -0.2794154981989, -0.03317921654756, 0.2151199880878, 0.4500440737806, 0.6569865987188, 0.8230808790115, 0.9379999767747)\n"
     ]
    }
   ],
   "source": [
    "r=np.loadtxt('../../DATA/fpc.csv',delimiter=',',skiprows=1)\n",
    "print(r[0])\n",
    "print(r[1])\n",
    "print(r[2])\n",
    "print()\n",
    "\n",
    "s1,s2,s3,s4,s5=zip(*r)\n",
    "print(s1)\n",
    "print(s2)\n",
    "print(s3)\n",
    "print(s4)\n",
    "print(s5)"
   ]
  },
  {
   "cell_type": "code",
   "execution_count": 72,
   "metadata": {},
   "outputs": [
    {
     "name": "stdout",
     "output_type": "stream",
     "text": [
      "\n",
      "Average 0.11 0.11 0.08\n",
      "Median 0.03 0.3 -0.02\n"
     ]
    }
   ],
   "source": [
    "# nuskaitykyte Table1.dat, ir suraskite:\n",
    "# stulpeliuose esančių skaičių vidurkį, medianą\n",
    "# suraskite sandaugą antro stlpelio su trečiuoju, tada gauto atsakymo vidurkį.\n",
    "# Suapvalinkite visus atsakymus iki 2-jų ženklų po kablelio\n",
    "\n",
    "def rezform( a ):\n",
    "    return np.round( a, 2 )\n",
    "\n",
    "r=np.loadtxt('../../DATA/Table1.dat',delimiter=';',skiprows=1)\n",
    "# print(r[0])\n",
    "# print(r[1])\n",
    "# print(r[2])\n",
    "# print()\n",
    "\n",
    "nr,duom1,duom2=zip(*r)\n",
    "# print(nr)\n",
    "# print(duom1)\n",
    "# print(duom2)\n",
    "\n",
    "sandaugos=[]\n",
    "for ddd in r:\n",
    "    sandaugos.append(ddd[1]*ddd[2])\n",
    "\n",
    "print('')\n",
    "print('Average',rezform(np.average(duom1)),rezform(np.average(duom2)),rezform(np.average(sandaugos)))\n",
    "print('Median',rezform(np.median(duom1)),rezform(np.median(duom2)),rezform(np.median(sandaugos)))"
   ]
  },
  {
   "cell_type": "code",
   "execution_count": 15,
   "metadata": {},
   "outputs": [
    {
     "name": "stdout",
     "output_type": "stream",
     "text": [
      "Skaitomas failas ../../DATA/Table1.dat\n"
     ]
    },
    {
     "ename": "ValueError",
     "evalue": "could not convert string 'C1;\\tC2;\\tC3' to float64 at row 0, column 1.",
     "output_type": "error",
     "traceback": [
      "\u001b[0;31m---------------------------------------------------------------------------\u001b[0m",
      "\u001b[0;31mValueError\u001b[0m                                Traceback (most recent call last)",
      "\u001b[0;31mValueError\u001b[0m: could not convert string to float: 'C1;\tC2;\tC3'",
      "\nThe above exception was the direct cause of the following exception:\n",
      "\u001b[0;31mValueError\u001b[0m                                Traceback (most recent call last)",
      "Cell \u001b[0;32mIn[15], line 27\u001b[0m\n\u001b[1;32m     24\u001b[0m     \u001b[38;5;28;01mdef\u001b[39;00m \u001b[38;5;21mvidurkis\u001b[39m(\u001b[38;5;28mself\u001b[39m):\n\u001b[1;32m     25\u001b[0m         \u001b[38;5;28;01mreturn\u001b[39;00m np\u001b[38;5;241m.\u001b[39mminimum(\u001b[38;5;28mself\u001b[39m\u001b[38;5;241m.\u001b[39m_y)\n\u001b[0;32m---> 27\u001b[0m ttt\u001b[38;5;241m=\u001b[39m\u001b[43mTxtReader\u001b[49m\u001b[43m(\u001b[49m\u001b[38;5;124;43m'\u001b[39;49m\u001b[38;5;124;43m../../DATA/Table1.dat\u001b[39;49m\u001b[38;5;124;43m'\u001b[39;49m\u001b[43m)\u001b[49m\n",
      "Cell \u001b[0;32mIn[15], line 16\u001b[0m, in \u001b[0;36mTxtReader.__init__\u001b[0;34m(self, failas, sep, taidata, hdr, xnr, ynr)\u001b[0m\n\u001b[1;32m     14\u001b[0m \u001b[38;5;28mself\u001b[39m\u001b[38;5;241m.\u001b[39m_y\u001b[38;5;241m=\u001b[39m[]\n\u001b[1;32m     15\u001b[0m \u001b[38;5;28mprint\u001b[39m(\u001b[38;5;124m'\u001b[39m\u001b[38;5;124mSkaitomas failas\u001b[39m\u001b[38;5;124m'\u001b[39m,failas)\n\u001b[0;32m---> 16\u001b[0m r\u001b[38;5;241m=\u001b[39m\u001b[43mnp\u001b[49m\u001b[38;5;241;43m.\u001b[39;49m\u001b[43mloadtxt\u001b[49m\u001b[43m(\u001b[49m\u001b[43mfailas\u001b[49m\u001b[43m,\u001b[49m\u001b[43mdelimiter\u001b[49m\u001b[38;5;241;43m=\u001b[39;49m\u001b[43msep\u001b[49m\u001b[43m,\u001b[49m\u001b[43mskiprows\u001b[49m\u001b[38;5;241;43m=\u001b[39;49m\u001b[43mhdr\u001b[49m\u001b[43m)\u001b[49m\n",
      "File \u001b[0;32m/usr/lib/python3/dist-packages/numpy/lib/npyio.py:1356\u001b[0m, in \u001b[0;36mloadtxt\u001b[0;34m(fname, dtype, comments, delimiter, converters, skiprows, usecols, unpack, ndmin, encoding, max_rows, quotechar, like)\u001b[0m\n\u001b[1;32m   1353\u001b[0m \u001b[38;5;28;01mif\u001b[39;00m \u001b[38;5;28misinstance\u001b[39m(delimiter, \u001b[38;5;28mbytes\u001b[39m):\n\u001b[1;32m   1354\u001b[0m     delimiter \u001b[38;5;241m=\u001b[39m delimiter\u001b[38;5;241m.\u001b[39mdecode(\u001b[38;5;124m'\u001b[39m\u001b[38;5;124mlatin1\u001b[39m\u001b[38;5;124m'\u001b[39m)\n\u001b[0;32m-> 1356\u001b[0m arr \u001b[38;5;241m=\u001b[39m \u001b[43m_read\u001b[49m\u001b[43m(\u001b[49m\u001b[43mfname\u001b[49m\u001b[43m,\u001b[49m\u001b[43m \u001b[49m\u001b[43mdtype\u001b[49m\u001b[38;5;241;43m=\u001b[39;49m\u001b[43mdtype\u001b[49m\u001b[43m,\u001b[49m\u001b[43m \u001b[49m\u001b[43mcomment\u001b[49m\u001b[38;5;241;43m=\u001b[39;49m\u001b[43mcomment\u001b[49m\u001b[43m,\u001b[49m\u001b[43m \u001b[49m\u001b[43mdelimiter\u001b[49m\u001b[38;5;241;43m=\u001b[39;49m\u001b[43mdelimiter\u001b[49m\u001b[43m,\u001b[49m\n\u001b[1;32m   1357\u001b[0m \u001b[43m            \u001b[49m\u001b[43mconverters\u001b[49m\u001b[38;5;241;43m=\u001b[39;49m\u001b[43mconverters\u001b[49m\u001b[43m,\u001b[49m\u001b[43m \u001b[49m\u001b[43mskiplines\u001b[49m\u001b[38;5;241;43m=\u001b[39;49m\u001b[43mskiprows\u001b[49m\u001b[43m,\u001b[49m\u001b[43m \u001b[49m\u001b[43musecols\u001b[49m\u001b[38;5;241;43m=\u001b[39;49m\u001b[43musecols\u001b[49m\u001b[43m,\u001b[49m\n\u001b[1;32m   1358\u001b[0m \u001b[43m            \u001b[49m\u001b[43munpack\u001b[49m\u001b[38;5;241;43m=\u001b[39;49m\u001b[43munpack\u001b[49m\u001b[43m,\u001b[49m\u001b[43m \u001b[49m\u001b[43mndmin\u001b[49m\u001b[38;5;241;43m=\u001b[39;49m\u001b[43mndmin\u001b[49m\u001b[43m,\u001b[49m\u001b[43m \u001b[49m\u001b[43mencoding\u001b[49m\u001b[38;5;241;43m=\u001b[39;49m\u001b[43mencoding\u001b[49m\u001b[43m,\u001b[49m\n\u001b[1;32m   1359\u001b[0m \u001b[43m            \u001b[49m\u001b[43mmax_rows\u001b[49m\u001b[38;5;241;43m=\u001b[39;49m\u001b[43mmax_rows\u001b[49m\u001b[43m,\u001b[49m\u001b[43m \u001b[49m\u001b[43mquote\u001b[49m\u001b[38;5;241;43m=\u001b[39;49m\u001b[43mquotechar\u001b[49m\u001b[43m)\u001b[49m\n\u001b[1;32m   1361\u001b[0m \u001b[38;5;28;01mreturn\u001b[39;00m arr\n",
      "File \u001b[0;32m/usr/lib/python3/dist-packages/numpy/lib/npyio.py:999\u001b[0m, in \u001b[0;36m_read\u001b[0;34m(fname, delimiter, comment, quote, imaginary_unit, usecols, skiplines, max_rows, converters, ndmin, unpack, dtype, encoding)\u001b[0m\n\u001b[1;32m    996\u001b[0m     data \u001b[38;5;241m=\u001b[39m _preprocess_comments(data, comments, encoding)\n\u001b[1;32m    998\u001b[0m \u001b[38;5;28;01mif\u001b[39;00m read_dtype_via_object_chunks \u001b[38;5;129;01mis\u001b[39;00m \u001b[38;5;28;01mNone\u001b[39;00m:\n\u001b[0;32m--> 999\u001b[0m     arr \u001b[38;5;241m=\u001b[39m \u001b[43m_load_from_filelike\u001b[49m\u001b[43m(\u001b[49m\n\u001b[1;32m   1000\u001b[0m \u001b[43m        \u001b[49m\u001b[43mdata\u001b[49m\u001b[43m,\u001b[49m\u001b[43m \u001b[49m\u001b[43mdelimiter\u001b[49m\u001b[38;5;241;43m=\u001b[39;49m\u001b[43mdelimiter\u001b[49m\u001b[43m,\u001b[49m\u001b[43m \u001b[49m\u001b[43mcomment\u001b[49m\u001b[38;5;241;43m=\u001b[39;49m\u001b[43mcomment\u001b[49m\u001b[43m,\u001b[49m\u001b[43m \u001b[49m\u001b[43mquote\u001b[49m\u001b[38;5;241;43m=\u001b[39;49m\u001b[43mquote\u001b[49m\u001b[43m,\u001b[49m\n\u001b[1;32m   1001\u001b[0m \u001b[43m        \u001b[49m\u001b[43mimaginary_unit\u001b[49m\u001b[38;5;241;43m=\u001b[39;49m\u001b[43mimaginary_unit\u001b[49m\u001b[43m,\u001b[49m\n\u001b[1;32m   1002\u001b[0m \u001b[43m        \u001b[49m\u001b[43musecols\u001b[49m\u001b[38;5;241;43m=\u001b[39;49m\u001b[43musecols\u001b[49m\u001b[43m,\u001b[49m\u001b[43m \u001b[49m\u001b[43mskiplines\u001b[49m\u001b[38;5;241;43m=\u001b[39;49m\u001b[43mskiplines\u001b[49m\u001b[43m,\u001b[49m\u001b[43m \u001b[49m\u001b[43mmax_rows\u001b[49m\u001b[38;5;241;43m=\u001b[39;49m\u001b[43mmax_rows\u001b[49m\u001b[43m,\u001b[49m\n\u001b[1;32m   1003\u001b[0m \u001b[43m        \u001b[49m\u001b[43mconverters\u001b[49m\u001b[38;5;241;43m=\u001b[39;49m\u001b[43mconverters\u001b[49m\u001b[43m,\u001b[49m\u001b[43m \u001b[49m\u001b[43mdtype\u001b[49m\u001b[38;5;241;43m=\u001b[39;49m\u001b[43mdtype\u001b[49m\u001b[43m,\u001b[49m\n\u001b[1;32m   1004\u001b[0m \u001b[43m        \u001b[49m\u001b[43mencoding\u001b[49m\u001b[38;5;241;43m=\u001b[39;49m\u001b[43mencoding\u001b[49m\u001b[43m,\u001b[49m\u001b[43m \u001b[49m\u001b[43mfilelike\u001b[49m\u001b[38;5;241;43m=\u001b[39;49m\u001b[43mfilelike\u001b[49m\u001b[43m,\u001b[49m\n\u001b[1;32m   1005\u001b[0m \u001b[43m        \u001b[49m\u001b[43mbyte_converters\u001b[49m\u001b[38;5;241;43m=\u001b[39;49m\u001b[43mbyte_converters\u001b[49m\u001b[43m)\u001b[49m\n\u001b[1;32m   1007\u001b[0m \u001b[38;5;28;01melse\u001b[39;00m:\n\u001b[1;32m   1008\u001b[0m     \u001b[38;5;66;03m# This branch reads the file into chunks of object arrays and then\u001b[39;00m\n\u001b[1;32m   1009\u001b[0m     \u001b[38;5;66;03m# casts them to the desired actual dtype.  This ensures correct\u001b[39;00m\n\u001b[1;32m   1010\u001b[0m     \u001b[38;5;66;03m# string-length and datetime-unit discovery (like `arr.astype()`).\u001b[39;00m\n\u001b[1;32m   1011\u001b[0m     \u001b[38;5;66;03m# Due to chunking, certain error reports are less clear, currently.\u001b[39;00m\n\u001b[1;32m   1012\u001b[0m     \u001b[38;5;28;01mif\u001b[39;00m filelike:\n",
      "\u001b[0;31mValueError\u001b[0m: could not convert string 'C1;\\tC2;\\tC3' to float64 at row 0, column 1."
     ]
    }
   ],
   "source": [
    "import numpy as np\n",
    "\n",
    "# Parašyti klasę TxtReader skirtą tekstinio failo iš dviejų stulpelių nuskaitymui.\n",
    "# Esant poreikiui, inicializacijos metu galima nurodyti stulpelių skirtuką, \n",
    "# ar konvertuoti pirmąjį stulpelį į datą (datetime objektą), \n",
    "# kiek eilučių praleisti nuo failo pradžios. \n",
    "# Jei failas turi daugiau nei du stulpelius - galima nurodyti, kuris stulpelis konkrečiai yra x, o kuris y. \n",
    "# Atributai x ir y - privatūs.\n",
    "# Pridėkite metodus, kurie leistų surasti stulpelio y vidurkį, medianą, maksimumą, minimumą.\n",
    "\n",
    "class TxtReader():\n",
    "    def __init__(self,failas,sep=',',taidata=False,hdr=0,xnr=0,ynr=1):\n",
    "        self._x=[]\n",
    "        self._y=[]\n",
    "        print('Skaitomas failas',failas)\n",
    "        r=np.loadtxt(failas,delimiter=sep,skiprows=hdr)\n",
    "        \n",
    "    def vidurkis(self):\n",
    "        return np.average(self._y)\n",
    "    def mediana(self):\n",
    "        return np.median(self._y)\n",
    "    def vidurkis(self):\n",
    "        return np.maximum(self._y)\n",
    "    def vidurkis(self):\n",
    "        return np.minimum(self._y)\n",
    "\n",
    "ttt=TxtReader('../../DATA/Table1.dat')"
   ]
  }
 ],
 "metadata": {
  "kernelspec": {
   "display_name": "Python 3",
   "language": "python",
   "name": "python3"
  },
  "language_info": {
   "codemirror_mode": {
    "name": "ipython",
    "version": 3
   },
   "file_extension": ".py",
   "mimetype": "text/x-python",
   "name": "python",
   "nbconvert_exporter": "python",
   "pygments_lexer": "ipython3",
   "version": "3.11.6"
  }
 },
 "nbformat": 4,
 "nbformat_minor": 2
}
