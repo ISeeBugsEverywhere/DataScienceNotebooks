{
 "cells": [
  {
   "cell_type": "code",
   "execution_count": 2,
   "metadata": {},
   "outputs": [
    {
     "name": "stdout",
     "output_type": "stream",
     "text": [
      "2024-07-24\n",
      "13 paskaita\n"
     ]
    }
   ],
   "source": [
    "print('2024-07-24\\n13 paskaita')"
   ]
  },
  {
   "cell_type": "code",
   "execution_count": 6,
   "metadata": {},
   "outputs": [
    {
     "data": {
      "text/plain": [
       "['S', 'skaicius', 42, 42, 'S']"
      ]
     },
     "execution_count": 6,
     "metadata": {},
     "output_type": "execute_result"
    }
   ],
   "source": [
    "# .isnumeric(), .isalpha() - a-z\n",
    "txt = 'Labs, šiandien yra 24 liepos, 7-to mėnesio diena'\n",
    "txt = 'A4= x'\n",
    "# parašyti funkciją, skirtą naudoti su map()\n",
    "# ir gaukite sąrašą, kur, jei simbolis duotąjame tekste buvo skaičius - rašote 'Skaičius;,\n",
    "# o jei tai buvo raidė - rašote 'S', o jei tai spec. simbolis - rašote 42 (skaičių)\n",
    "\n",
    "def eilute(t):\n",
    "    ats = list(map(lambda x: \"skaicius\" if x.isnumeric() else 'S' if x.isalpha() else 42, t))\n",
    "    return ats\n",
    "\n",
    "eilute(txt)"
   ]
  },
  {
   "cell_type": "code",
   "execution_count": 11,
   "metadata": {},
   "outputs": [
    {
     "name": "stdout",
     "output_type": "stream",
     "text": [
      "2024-06-17 00:00:00\n",
      "2009-07-08 00:00:00\n",
      "2009-07-08 00:00:00\n",
      "2003-01-02 00:00:00\n",
      "2011-03-10 00:00:00\n"
     ]
    }
   ],
   "source": [
    "from dateutil import parser\n",
    "\n",
    "d=[]\n",
    "d.append('2024-06-17')\n",
    "d.append('7/8/9')\n",
    "d.append('7.8.9')\n",
    "d.append('1-2-3')\n",
    "d.append('10/mar/11')\n",
    "\n",
    "for dd in d:\n",
    "    print(parser.parse(dd))"
   ]
  },
  {
   "cell_type": "code",
   "execution_count": 25,
   "metadata": {},
   "outputs": [
    {
     "name": "stdout",
     "output_type": "stream",
     "text": [
      "[0, 1, 2, 3, 4, 5, 6, 7, 8, 9, 10]\n",
      "[0, 1, 2, 3, 4, 5, 6, 7, 8, 9, 10, 0, 1, 2, 3, 4, 5, 6, 7, 8, 9, 10]\n",
      "[ 0  1  2  3  4  5  6  7  8  9 10]\n",
      "[ 0  2  4  6  8 10 12 14 16 18 20]\n",
      "[15 16 17 18 19] m\n",
      "[10 11 12 13 14] h\n",
      "[150 176 204 234 266] m*h\n",
      "[1.5        1.45454545 1.41666667 1.38461538 1.35714286] m/h\n"
     ]
    }
   ],
   "source": [
    "import numpy as np\n",
    "\n",
    "f=[]\n",
    "for i in range (11):\n",
    "    f.append(i)\n",
    "print(f)\n",
    "print(f*2)\n",
    "\n",
    "g=np.arange(0,11)\n",
    "print(g)\n",
    "print(g*2)\n",
    "\n",
    "h=np.arange(10,15)\n",
    "m=np.arange(15,20)\n",
    "\n",
    "print(m,'m')\n",
    "print(h,'h')\n",
    "print(m*h,'m*h')\n",
    "print(m/h,'m/h')"
   ]
  },
  {
   "cell_type": "code",
   "execution_count": 37,
   "metadata": {},
   "outputs": [
    {
     "name": "stdout",
     "output_type": "stream",
     "text": [
      "[ 1.    3.25  5.5   7.75 10.  ]\n",
      "[ 1.   2.5  4.   5.5  7.   8.5 10. ]\n",
      "[0.87759354 0.28714739 0.03664882 0.01169538 0.45925891 0.61200168]\n",
      "0.3807242866344016\n",
      "0.3807242866344016\n",
      "0.37320315069019966\n"
     ]
    }
   ],
   "source": [
    "print(np.linspace(1,10,5))\n",
    "print(np.linspace(1,10,7))\n",
    "\n",
    "p=np.random.rand(6)\n",
    "print(p)\n",
    "print(np.average(p))\n",
    "print(np.mean(p))\n",
    "print(np.median(p))"
   ]
  },
  {
   "cell_type": "code",
   "execution_count": 39,
   "metadata": {},
   "outputs": [],
   "source": [
    "# r=np.loadtxt('../../DATA/fpc.csv')\n",
    "# print(r)"
   ]
  }
 ],
 "metadata": {
  "kernelspec": {
   "display_name": "Python 3",
   "language": "python",
   "name": "python3"
  },
  "language_info": {
   "codemirror_mode": {
    "name": "ipython",
    "version": 3
   },
   "file_extension": ".py",
   "mimetype": "text/x-python",
   "name": "python",
   "nbconvert_exporter": "python",
   "pygments_lexer": "ipython3",
   "version": "3.11.6"
  }
 },
 "nbformat": 4,
 "nbformat_minor": 2
}
