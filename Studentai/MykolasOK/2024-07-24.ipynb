{
 "cells": [
  {
   "cell_type": "code",
   "execution_count": 2,
   "metadata": {},
   "outputs": [
    {
     "name": "stdout",
     "output_type": "stream",
     "text": [
      "2024-07-24\n",
      "13 paskaita\n"
     ]
    }
   ],
   "source": [
    "print('2024-07-24\\n13 paskaita')"
   ]
  },
  {
   "cell_type": "code",
   "execution_count": 6,
   "metadata": {},
   "outputs": [
    {
     "data": {
      "text/plain": [
       "['S', 'skaicius', 42, 42, 'S']"
      ]
     },
     "execution_count": 6,
     "metadata": {},
     "output_type": "execute_result"
    }
   ],
   "source": [
    "# .isnumeric(), .isalpha() - a-z\n",
    "txt = 'Labs, šiandien yra 24 liepos, 7-to mėnesio diena'\n",
    "txt = 'A4= x'\n",
    "# parašyti funkciją, skirtą naudoti su map()\n",
    "# ir gaukite sąrašą, kur, jei simbolis duotąjame tekste buvo skaičius - rašote 'Skaičius;,\n",
    "# o jei tai buvo raidė - rašote 'S', o jei tai spec. simbolis - rašote 42 (skaičių)\n",
    "\n",
    "def eilute(t):\n",
    "    ats = list(map(lambda x: \"skaicius\" if x.isnumeric() else 'S' if x.isalpha() else 42, t))\n",
    "    return ats\n",
    "\n",
    "eilute(txt)"
   ]
  },
  {
   "cell_type": "code",
   "execution_count": 7,
   "metadata": {},
   "outputs": [
    {
     "name": "stdout",
     "output_type": "stream",
     "text": [
      "2024-06-17 00:00:00\n"
     ]
    }
   ],
   "source": [
    "from dateutil import parser\n",
    "\n",
    "d1='2024-06-17'\n",
    "d2='7/8/9'\n",
    "d3='7.8.9'\n",
    "d4='7-8-9'\n",
    "d5='10/mar/10'\n",
    "\n",
    "print(parser.parse(d1))"
   ]
  }
 ],
 "metadata": {
  "kernelspec": {
   "display_name": "Python 3",
   "language": "python",
   "name": "python3"
  },
  "language_info": {
   "codemirror_mode": {
    "name": "ipython",
    "version": 3
   },
   "file_extension": ".py",
   "mimetype": "text/x-python",
   "name": "python",
   "nbconvert_exporter": "python",
   "pygments_lexer": "ipython3",
   "version": "3.11.6"
  }
 },
 "nbformat": 4,
 "nbformat_minor": 2
}
