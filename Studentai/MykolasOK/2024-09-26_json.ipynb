{
 "cells": [
  {
   "cell_type": "code",
   "execution_count": null,
   "metadata": {},
   "outputs": [],
   "source": [
    "# atsisiųskite visus duomenis iš \n",
    "# https://data.gov.lt/datasets/509/\n",
    "# \n",
    "# Užduotys:\n",
    "# nuskaitykite visus failus į pandas DF (vienas DF vienam failui)\n",
    "# \n",
    "# Suraskite ir pateikite kitimą kas metus šių kriterijų:\n",
    "# Dalyvių kiekis kiekvienais metais\n",
    "# Apgadintų TP kiekis kas metus\n",
    "# Žuvusių kiekis kiekvienais metais\n",
    "# Sužeistų kiekis kiekvienais metais\n",
    "# Neblaivių bei apsvaigusių kaltininkų kiekio kaita kas metus\n",
    "# Suraskite 3 populiariausias eismo įvykių schemas! 2023 metais (stulpelis schema2)\n",
    "# ir pavaizduokite kitimą kas metus.\n",
    "# parodykite, kaip kito vyrų, moterų sukeltų EI kiekiai kas metus.\n",
    "# parodykite, kaip kito neblaivių vyrų, moterų sukeltų EI kiekiai kas metus\n",
    "# \n",
    "# Kad būtų ką veikti - jei viską nuskaitysite taip paprastai į DF - python naudos ~ 3GB RAM.\n",
    "# Pagalvokite, ką galima ir kur optimizuoti."
   ]
  },
  {
   "cell_type": "code",
   "execution_count": null,
   "metadata": {},
   "outputs": [],
   "source": []
  }
 ],
 "metadata": {
  "language_info": {
   "name": "python"
  }
 },
 "nbformat": 4,
 "nbformat_minor": 2
}
