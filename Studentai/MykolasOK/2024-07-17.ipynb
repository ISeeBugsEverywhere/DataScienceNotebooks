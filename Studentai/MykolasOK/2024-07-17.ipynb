{
 "cells": [
  {
   "cell_type": "code",
   "execution_count": 1,
   "metadata": {},
   "outputs": [
    {
     "name": "stdout",
     "output_type": "stream",
     "text": [
      "2024-07-17. Objektinis programavimas.\n"
     ]
    }
   ],
   "source": [
    "print('2024-07-17. Objektinis')"
   ]
  },
  {
   "cell_type": "code",
   "execution_count": 22,
   "metadata": {},
   "outputs": [
    {
     "name": "stdout",
     "output_type": "stream",
     "text": [
      "išsirito tarakonas\n",
      "išsirito tarakonas\n",
      "išsirito tarakonas\n",
      "1721234692.7624452\n",
      "1721234693.0636375\n",
      "1721234693.3654325\n",
      "Tarakonas mirė. Jis gyveno: 0.301588773727417\n",
      "Tarakonas mirė. Jis gyveno: 0.9045760631561279\n",
      "Tarakonas mirė. Jis gyveno: 0.6033837795257568\n"
     ]
    }
   ],
   "source": [
    "import time\n",
    "\n",
    "class Tarakonas():\n",
    "    def __init__(self) -> None:\n",
    "        print('išsirito tarakonas')\n",
    "        self.gimtadienis=time.time()\n",
    "    def __del__(self):\n",
    "        print('Tarakonas mirė. Jis gyveno:',time.time()-self.gimtadienis)\n",
    "\n",
    "Rudis=Tarakonas()\n",
    "time.sleep(0.3)\n",
    "Juodis=Tarakonas()\n",
    "time.sleep(0.3)\n",
    "Pilkis=Tarakonas()\n",
    "time.sleep(0.3)\n",
    "\n",
    "print(Rudis.gimtadienis)\n",
    "print(Juodis.gimtadienis)\n",
    "print(Pilkis.gimtadienis)\n",
    "\n",
    "type(Pilkis)\n",
    "\n",
    "del Pilkis\n",
    "del Rudis\n",
    "del Juodis\n",
    "\n",
    "# type(Pilkis) # NameError: name 'Pilkis' is not defined\n"
   ]
  },
  {
   "cell_type": "code",
   "execution_count": 16,
   "metadata": {},
   "outputs": [
    {
     "data": {
      "text/plain": [
       "__main__.Tarakonas"
      ]
     },
     "execution_count": 16,
     "metadata": {},
     "output_type": "execute_result"
    }
   ],
   "source": []
  }
 ],
 "metadata": {
  "kernelspec": {
   "display_name": "Python 3",
   "language": "python",
   "name": "python3"
  },
  "language_info": {
   "codemirror_mode": {
    "name": "ipython",
    "version": 3
   },
   "file_extension": ".py",
   "mimetype": "text/x-python",
   "name": "python",
   "nbconvert_exporter": "python",
   "pygments_lexer": "ipython3",
   "version": "3.12.4"
  }
 },
 "nbformat": 4,
 "nbformat_minor": 2
}
