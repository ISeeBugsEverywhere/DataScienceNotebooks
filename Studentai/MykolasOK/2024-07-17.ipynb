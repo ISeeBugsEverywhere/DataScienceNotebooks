{
 "cells": [
  {
   "cell_type": "code",
   "execution_count": 1,
   "metadata": {},
   "outputs": [
    {
     "name": "stdout",
     "output_type": "stream",
     "text": [
      "2024-07-17. Objektinis programavimas.\n"
     ]
    }
   ],
   "source": [
    "print('2024-07-17. Objektinis')"
   ]
  },
  {
   "cell_type": "code",
   "execution_count": 29,
   "metadata": {},
   "outputs": [
    {
     "name": "stdout",
     "output_type": "stream",
     "text": [
      "Išsirito tarakonas.\n",
      "Išsirito tarakonas.\n",
      "Išsirito tarakonas.\n",
      "Rudis: 1721235141.331897\n",
      "Juodis: 1721235141.6325512\n",
      "Pilkis: 1721235141.9339478\n",
      "Tarakonas mirė. Jis gyveno: 0.30197596549987793 ms\n",
      "Tarakonas mirė. Jis gyveno: 0.6033725738525391 ms\n"
     ]
    }
   ],
   "source": [
    "import time\n",
    "\n",
    "class Tarakonas():\n",
    "    def __init__(self) -> None:\n",
    "        print('Išsirito tarakonas.')\n",
    "        self.gimtadienis=time.time()\n",
    "    def __del__(self):\n",
    "        print('Tarakonas mirė. Jis gyveno:',time.time()-self.gimtadienis,'ms')\n",
    "\n",
    "Rudis=Tarakonas()\n",
    "time.sleep(0.3)\n",
    "Juodis=Tarakonas()\n",
    "time.sleep(0.3)\n",
    "Pilkis=Tarakonas()\n",
    "time.sleep(0.3)\n",
    "\n",
    "print('Rudis:',Rudis.gimtadienis)\n",
    "print('Juodis:',Juodis.gimtadienis)\n",
    "print('Pilkis:',Pilkis.gimtadienis)\n",
    "\n",
    "type(Pilkis)\n",
    "\n",
    "del Pilkis\n",
    "# del Rudis\n",
    "del Juodis\n",
    "\n",
    "# type(Rudis) \n",
    "# Po destruktoriaus: NameError: name 'Rudis' is not defined\n"
   ]
  },
  {
   "cell_type": "code",
   "execution_count": 28,
   "metadata": {},
   "outputs": [
    {
     "name": "stdout",
     "output_type": "stream",
     "text": [
      "Labas_rytas_čia_yra_tekstas_su_įvairiais_tarpais_ir_tarpeliais\n"
     ]
    }
   ],
   "source": [
    "t = \" Labas rytas čia yra tekstas su įvairiais tarpais ir tarpeliais \"\n",
    "t_ = '_'.join(t.split())\n",
    "print(t_)"
   ]
  },
  {
   "cell_type": "code",
   "execution_count": null,
   "metadata": {},
   "outputs": [],
   "source": []
  }
 ],
 "metadata": {
  "kernelspec": {
   "display_name": "Python 3",
   "language": "python",
   "name": "python3"
  },
  "language_info": {
   "codemirror_mode": {
    "name": "ipython",
    "version": 3
   },
   "file_extension": ".py",
   "mimetype": "text/x-python",
   "name": "python",
   "nbconvert_exporter": "python",
   "pygments_lexer": "ipython3",
   "version": "3.12.4"
  }
 },
 "nbformat": 4,
 "nbformat_minor": 2
}
