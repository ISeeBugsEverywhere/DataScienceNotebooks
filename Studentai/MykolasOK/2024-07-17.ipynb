{
 "cells": [
  {
   "cell_type": "code",
   "execution_count": 1,
   "metadata": {},
   "outputs": [
    {
     "name": "stdout",
     "output_type": "stream",
     "text": [
      "2024-07-17. Objektinis programavimas.\n"
     ]
    }
   ],
   "source": [
    "print('2024-07-17. Objektinis')"
   ]
  },
  {
   "cell_type": "code",
   "execution_count": 15,
   "metadata": {},
   "outputs": [
    {
     "name": "stdout",
     "output_type": "stream",
     "text": [
      "išsirito tarakonas\n",
      "Tarakonas mirė. Jis gyveno: 122.4929313659668\n",
      "išsirito tarakonas\n",
      "Tarakonas mirė. Jis gyveno: 122.493239402771\n",
      "išsirito tarakonas\n",
      "Tarakonas mirė. Jis gyveno: 122.49268627166748\n",
      "1721234004.6369174\n",
      "1721234005.3384795\n",
      "1721234006.0389013\n"
     ]
    }
   ],
   "source": [
    "import time\n",
    "\n",
    "class Tarakonas():\n",
    "    def __init__(self) -> None:\n",
    "        print('išsirito tarakonas')\n",
    "        self.gimtadienis=time.time()\n",
    "    def __del__(self):\n",
    "        print('Tarakonas mirė. Jis gyveno:',time.time()-self.gimtadienis)\n",
    "\n",
    "Rudis=Tarakonas()\n",
    "time.sleep(0.7)\n",
    "Juodis=Tarakonas()\n",
    "time.sleep(0.7)\n",
    "Pilkis=Tarakonas()\n",
    "\n",
    "print(Rudis.gimtadienis)\n",
    "print(Juodis.gimtadienis)\n",
    "print(Pilkis.gimtadienis)\n"
   ]
  },
  {
   "cell_type": "code",
   "execution_count": 16,
   "metadata": {},
   "outputs": [
    {
     "data": {
      "text/plain": [
       "__main__.Tarakonas"
      ]
     },
     "execution_count": 16,
     "metadata": {},
     "output_type": "execute_result"
    }
   ],
   "source": [
    "type(Pilkis)"
   ]
  }
 ],
 "metadata": {
  "kernelspec": {
   "display_name": "Python 3",
   "language": "python",
   "name": "python3"
  },
  "language_info": {
   "codemirror_mode": {
    "name": "ipython",
    "version": 3
   },
   "file_extension": ".py",
   "mimetype": "text/x-python",
   "name": "python",
   "nbconvert_exporter": "python",
   "pygments_lexer": "ipython3",
   "version": "3.12.4"
  }
 },
 "nbformat": 4,
 "nbformat_minor": 2
}
