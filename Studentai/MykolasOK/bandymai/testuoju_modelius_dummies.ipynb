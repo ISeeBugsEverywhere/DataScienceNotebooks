{
 "cells": [
  {
   "cell_type": "code",
   "execution_count": 13,
   "metadata": {},
   "outputs": [
    {
     "name": "stderr",
     "output_type": "stream",
     "text": [
      "21:21:55 - cmdstanpy - INFO - Chain [1] start processing\n",
      "21:21:56 - cmdstanpy - INFO - Chain [1] done processing\n"
     ]
    },
    {
     "name": "stdout",
     "output_type": "stream",
     "text": [
      "                    ds        yhat  yhat_lower  yhat_upper\n",
      "0  2023-01-01 00:00:00  122.129941  122.129941  122.129941\n",
      "1  2023-01-01 01:00:00  126.339239  126.339239  126.339239\n",
      "2  2023-01-01 02:00:00  107.649749  107.649749  107.649749\n",
      "3  2023-01-01 03:00:00  106.440401  106.440401  106.440401\n",
      "4  2023-01-01 04:00:00  123.971129  123.971129  123.971129\n",
      "5  2023-01-01 05:00:00  141.501867  141.501867  141.501867\n",
      "6  2023-01-01 06:00:00  119.490974  119.490974  119.490974\n",
      "7  2023-01-01 07:00:00   70.940745   68.491316   73.227001\n",
      "8  2023-01-01 08:00:00   38.436504   30.672188   45.468573\n",
      "9  2023-01-01 09:00:00   44.001073   29.433163   58.192296\n",
      "10 2023-01-01 10:00:00   55.601966   31.419854   79.588449\n",
      "11 2023-01-01 11:00:00   12.810398  -23.313333   45.587369\n",
      "12 2023-01-01 12:00:00 -107.030646 -154.725107  -61.297299\n",
      "13 2023-01-01 13:00:00 -248.149424 -308.231384 -187.327539\n",
      "14 2023-01-01 14:00:00 -309.490368 -383.002068 -234.775639\n",
      "15 2023-01-01 15:00:00 -230.131066 -316.722255 -141.072978\n",
      "16 2023-01-01 16:00:00  -50.690022 -152.597454   55.910244\n",
      "17 2023-01-01 17:00:00  109.447731   -7.829493  233.242098\n",
      "18 2023-01-01 18:00:00  144.161594    9.958663  288.148389\n",
      "19 2023-01-01 19:00:00   42.908808 -112.815305  204.181161\n",
      "20 2023-01-01 20:00:00 -107.587077 -278.132584   74.587615\n",
      "21 2023-01-01 21:00:00 -200.241355 -385.685263   -2.216270\n",
      "22 2023-01-01 22:00:00 -192.015614 -394.864460   27.642915\n",
      "23 2023-01-01 23:00:00 -123.429276 -346.995931  121.424117\n"
     ]
    }
   ],
   "source": [
    "# 1. Facebook Prophet su papildomais regresoriais\n",
    "# Kodėl pasirinkti?\n",
    "# Paprastas nustatyti ir naudoti.\n",
    "# Automatiškai modeliuoja sezoniškumą, įskaitant paros ritmą.\n",
    "# Leidžia pridėti orų prognozės duomenis kaip papildomus regresorius.\n",
    "\n",
    "# pip install prophet\n",
    "\n",
    "from prophet import Prophet\n",
    "import pandas as pd\n",
    "\n",
    "# Duomenys\n",
    "data = pd.DataFrame({\n",
    "    'ds': pd.date_range(start='2023-01-01', periods=7, freq='h'),  # Laiko žymės\n",
    "    'y': [50, 60, 55, 48, 50, 52, 65],  # Elektros suvartojimas\n",
    "    'temperature': [5, 6, 5, 4, 3, 2, 3],  # Temperatūra\n",
    "    'humidity': [80, 82, 78, 76, 75, 74, 73]  # Drėgmė\n",
    "})\n",
    "\n",
    "# Sukurkite Prophet modelį\n",
    "model = Prophet(daily_seasonality=True)  # Paros sezoniškumas\n",
    "model.add_regressor('temperature')\n",
    "model.add_regressor('humidity')\n",
    "\n",
    "# Treniruotė\n",
    "model.fit(data)\n",
    "\n",
    "# Prognozavimas\n",
    "future = model.make_future_dataframe(periods=17, freq='h')  # 24 valandų prognozė\n",
    "future['temperature'] = [4] * 24  # Pavyzdinė temperatūra\n",
    "future['humidity'] = [70] * 24  # Pavyzdinė drėgmė\n",
    "forecast = model.predict(future)\n",
    "\n",
    "# Rezultatai\n",
    "print(forecast[['ds', 'yhat', 'yhat_lower', 'yhat_upper']])"
   ]
  },
  {
   "cell_type": "code",
   "execution_count": 2,
   "metadata": {},
   "outputs": [
    {
     "name": "stdout",
     "output_type": "stream",
     "text": [
      "consumption        mean      mean_se  mean_ci_lower  mean_ci_upper\n",
      "7             65.000000  1000.000500   -1894.964965    2024.964965\n",
      "8             65.000000  1414.214269   -2706.809035    2836.809035\n",
      "9             65.000000  1732.051674   -3329.758900    3459.758900\n",
      "10            65.000000  2000.001000   -3854.929929    3984.929929\n",
      "11            65.000000  2236.069096   -4317.614894    4447.614894\n",
      "12            65.000000  2449.490968   -4735.914077    4865.914077\n",
      "13            65.000000  2645.752634   -5120.579875    5250.579875\n",
      "14            65.000000  2828.428539   -5478.618069    5608.618069\n",
      "15            65.000000  3000.001500   -5814.894894    5944.894894\n",
      "16            65.000000  3162.279241   -6132.953422    6262.953422\n",
      "17            65.000000  3316.626449   -6435.468390    6565.468390\n",
      "18            65.000000  3464.103347   -6724.517799    6854.517799\n",
      "19            65.000000  3605.553078   -7001.754178    7131.754178\n",
      "20            65.000000  3741.659258   -7268.517387    7398.517387\n",
      "21            65.000000  3872.985283   -7525.911667    7655.911667\n",
      "22            65.000000  4000.002000   -7774.859858    7904.859858\n",
      "23            65.000000  4123.107687   -8016.142571    8146.142571\n",
      "24            90.000012  4183.302314   -8109.121859    8289.121884\n",
      "25           100.000012  4183.302433   -8099.122094    8299.122119\n",
      "26            95.000012  4183.302553   -8104.122328    8294.122353\n",
      "27            88.000012  4183.302673   -8111.122562    8287.122587\n",
      "28            90.000012  4183.302792   -8109.122796    8289.122821\n",
      "29            92.000012  4183.302912   -8107.123031    8291.123056\n",
      "30           105.000012  4183.303031   -8094.123265    8304.123290\n"
     ]
    },
    {
     "name": "stderr",
     "output_type": "stream",
     "text": [
      "C:\\Users\\Eridas\\AppData\\Roaming\\Python\\Python312\\site-packages\\statsmodels\\tsa\\statespace\\sarimax.py:866: UserWarning: Too few observations to estimate starting parameters for ARMA and trend. All parameters except for variances will be set to zeros.\n",
      "  warn('Too few observations to estimate starting parameters%s.'\n",
      "C:\\Users\\Eridas\\AppData\\Roaming\\Python\\Python312\\site-packages\\statsmodels\\tsa\\statespace\\sarimax.py:866: UserWarning: Too few observations to estimate starting parameters for seasonal ARMA. All parameters except for variances will be set to zeros.\n",
      "  warn('Too few observations to estimate starting parameters%s.'\n"
     ]
    }
   ],
   "source": [
    "# 2. SARIMAX (ARIMA su eksogeniniais kintamaisiais)\n",
    "# Kodėl pasirinkti?\n",
    "# Gerai tinka modeliuoti laiko priklausomybes (pvz., paros sezoniškumą).\n",
    "# Leidžia įtraukti orų prognozes kaip papildomus veiksnius.\n",
    "\n",
    "# pip install statsmodels\n",
    "\n",
    "import pandas as pd\n",
    "from statsmodels.tsa.statespace.sarimax import SARIMAX\n",
    "\n",
    "# Duomenys\n",
    "data = pd.DataFrame({\n",
    "    'consumption': [50, 60, 55, 48, 50, 52, 65],  # Elektros suvartojimas\n",
    "    'temperature': [5, 6, 5, 4, 3, 2, 3],  # Temperatūra\n",
    "    'humidity': [80, 82, 78, 76, 75, 74, 73]  # Drėgmė\n",
    "})\n",
    "\n",
    "# Tikslinis ir eksogeniniai kintamieji\n",
    "y = data['consumption']\n",
    "X = data[['temperature', 'humidity']]\n",
    "\n",
    "# SARIMAX modelis su sezoniniu paros efektu\n",
    "model = SARIMAX(y, exog=X, order=(1, 1, 1), seasonal_order=(0, 1, 1, 24))\n",
    "results = model.fit()\n",
    "\n",
    "# Prognozė su naujais orų duomenimis\n",
    "future_X = pd.DataFrame({'temperature': [4] * 24, 'humidity': [70] * 24})\n",
    "forecast = results.get_forecast(steps=24, exog=future_X)\n",
    "print(forecast.summary_frame())"
   ]
  },
  {
   "cell_type": "code",
   "execution_count": 17,
   "metadata": {},
   "outputs": [
    {
     "name": "stdout",
     "output_type": "stream",
     "text": [
      "Prognozės: [59.18794607 68.72640761 61.77557494 55.2371134  58.90483743 62.57256146\n",
      " 71.4924663 ]\n"
     ]
    },
    {
     "name": "stderr",
     "output_type": "stream",
     "text": [
      "C:\\Users\\Eridas\\AppData\\Roaming\\Python\\Python312\\site-packages\\sklearn\\utils\\validation.py:2739: UserWarning: X does not have valid feature names, but OneHotEncoder was fitted with feature names\n",
      "  warnings.warn(\n"
     ]
    }
   ],
   "source": [
    "# 3. Linijinė regresija su kategoriniais kintamaisiais\n",
    "# Kodėl pasirinkti?\n",
    "# Paprasta implementuoti ir interpretuoti.\n",
    "# Paros laiko efektą galima įtraukti kaip kategorinį kintamąjį (pvz., valandos).\n",
    "\n",
    "import pandas as pd\n",
    "from sklearn.linear_model import LinearRegression\n",
    "from sklearn.preprocessing import OneHotEncoder\n",
    "\n",
    "# Duomenys\n",
    "data = pd.DataFrame({\n",
    "    'hour': [0, 1, 2, 3, 4, 5, 6],  # Valanda\n",
    "    'temperature': [5, 6, 5, 4, 3, 2, 3],  # Temperatūra\n",
    "    'humidity': [80, 82, 78, 76, 75, 74, 73],  # Drėgmė\n",
    "    'consumption': [50, 60, 55, 48, 50, 52, 65]  # Elektros suvartojimas\n",
    "})\n",
    "\n",
    "# Kategoriniai kintamieji (valanda)\n",
    "encoder = OneHotEncoder(sparse_output=False) # 'sparse_output'\n",
    "hour_encoded = encoder.fit_transform(data[['hour']])\n",
    "\n",
    "# Modelio treniruotė\n",
    "X = pd.concat([pd.DataFrame(hour_encoded), data[['temperature', 'humidity']]], axis=1)\n",
    "X.columns = X.columns.astype(str)  # Užtikriname, kad pavadinimai būtų string tipo\n",
    "y = data['consumption']\n",
    "model = LinearRegression()\n",
    "model.fit(X, y)\n",
    "\n",
    "# Prognozė naujai dienai\n",
    "future_hours = encoder.transform([[0], [1], [2], [3], [4], [5], [6]])\n",
    "future_weather = pd.DataFrame({'temperature': [4] * 7, 'humidity': [70] * 7})\n",
    "future_X = pd.concat([pd.DataFrame(future_hours), future_weather], axis=1)\n",
    "future_X.columns = future_X.columns.astype(str)  # Užtikriname, kad pavadinimai būtų string tipo\n",
    "forecast = model.predict(future_X)\n",
    "\n",
    "print(\"Prognozės:\", forecast)\n"
   ]
  },
  {
   "cell_type": "code",
   "execution_count": 8,
   "metadata": {},
   "outputs": [
    {
     "ename": "ModuleNotFoundError",
     "evalue": "No module named 'tensorflow'",
     "output_type": "error",
     "traceback": [
      "\u001b[1;31m---------------------------------------------------------------------------\u001b[0m",
      "\u001b[1;31mModuleNotFoundError\u001b[0m                       Traceback (most recent call last)",
      "Cell \u001b[1;32mIn[8], line 6\u001b[0m\n\u001b[0;32m      1\u001b[0m \u001b[38;5;66;03m# 3. LSTM (giluminio mokymosi metodas)\u001b[39;00m\n\u001b[0;32m      2\u001b[0m \u001b[38;5;66;03m# Kada naudoti: Kai duomenys turi sudėtingas nelinearines priklausomybes arba ilgesnę laiko priklausomybę (pvz., savaitinį ar mėnesinį ciklą).\u001b[39;00m\n\u001b[0;32m      3\u001b[0m \u001b[38;5;66;03m# Įrankis: TensorFlow arba PyTorch\u001b[39;00m\n\u001b[0;32m      5\u001b[0m \u001b[38;5;28;01mimport\u001b[39;00m \u001b[38;5;21;01mnumpy\u001b[39;00m \u001b[38;5;28;01mas\u001b[39;00m \u001b[38;5;21;01mnp\u001b[39;00m\n\u001b[1;32m----> 6\u001b[0m \u001b[38;5;28;01mimport\u001b[39;00m \u001b[38;5;21;01mtensorflow\u001b[39;00m \u001b[38;5;28;01mas\u001b[39;00m \u001b[38;5;21;01mtf\u001b[39;00m\n\u001b[0;32m      7\u001b[0m \u001b[38;5;28;01mfrom\u001b[39;00m \u001b[38;5;21;01mtensorflow\u001b[39;00m\u001b[38;5;21;01m.\u001b[39;00m\u001b[38;5;21;01mkeras\u001b[39;00m\u001b[38;5;21;01m.\u001b[39;00m\u001b[38;5;21;01mmodels\u001b[39;00m \u001b[38;5;28;01mimport\u001b[39;00m Sequential\n\u001b[0;32m      8\u001b[0m \u001b[38;5;28;01mfrom\u001b[39;00m \u001b[38;5;21;01mtensorflow\u001b[39;00m\u001b[38;5;21;01m.\u001b[39;00m\u001b[38;5;21;01mkeras\u001b[39;00m\u001b[38;5;21;01m.\u001b[39;00m\u001b[38;5;21;01mlayers\u001b[39;00m \u001b[38;5;28;01mimport\u001b[39;00m LSTM, Dense\n",
      "\u001b[1;31mModuleNotFoundError\u001b[0m: No module named 'tensorflow'"
     ]
    }
   ],
   "source": [
    "# 3. LSTM (giluminio mokymosi metodas)\n",
    "# Kada naudoti: Kai duomenys turi sudėtingas nelinearines priklausomybes arba ilgesnę laiko priklausomybę (pvz., savaitinį ar mėnesinį ciklą).\n",
    "# Įrankis: TensorFlow arba PyTorch\n",
    "\n",
    "# pip install tensorflow\n",
    "\n",
    "import numpy as np\n",
    "import tensorflow as tf\n",
    "from tensorflow.keras.models import Sequential\n",
    "from tensorflow.keras.layers import LSTM, Dense\n",
    "\n",
    "# Duomenys\n",
    "X = np.array([\n",
    "    [[20, 60], [21, 65], [19, 63]],  # Ankstesni meteorologiniai duomenys\n",
    "    [[21, 65], [19, 63], [18, 59]]\n",
    "])  # Formatas: (pavyzdžiai, laiko momentai, savybės)\n",
    "y = np.array([120, 130])  # Tiksliniai duomenys\n",
    "\n",
    "# Modelio kūrimas\n",
    "model = Sequential([\n",
    "    LSTM(50, activation='relu', input_shape=(3, 2)),\n",
    "    Dense(1)\n",
    "])\n",
    "model.compile(optimizer='adam', loss='mse')\n",
    "\n",
    "# Treniruotė\n",
    "model.fit(X, y, epochs=100, verbose=0)\n",
    "\n",
    "# Prognozė\n",
    "X_new = np.array([[[19, 63], [18, 59], [22, 61]]])\n",
    "print(\"Prognozė:\", model.predict(X_new))"
   ]
  }
 ],
 "metadata": {
  "kernelspec": {
   "display_name": "Python 3",
   "language": "python",
   "name": "python3"
  },
  "language_info": {
   "codemirror_mode": {
    "name": "ipython",
    "version": 3
   },
   "file_extension": ".py",
   "mimetype": "text/x-python",
   "name": "python",
   "nbconvert_exporter": "python",
   "pygments_lexer": "ipython3",
   "version": "3.12.4"
  }
 },
 "nbformat": 4,
 "nbformat_minor": 2
}
