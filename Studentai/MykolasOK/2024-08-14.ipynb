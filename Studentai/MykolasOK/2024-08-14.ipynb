{
 "cells": [
  {
   "cell_type": "code",
   "execution_count": 3,
   "metadata": {},
   "outputs": [],
   "source": [
    "def pout(a, limit=5):\n",
    "    if len(a) > limit:\n",
    "        print(f'Rodoma {limit} eilutės iš {len(a)}')\n",
    "    for k,i in enumerate(a):\n",
    "        if k > limit-1:\n",
    "            break\n",
    "        l = []\n",
    "        for n in i:\n",
    "            f = f'{str(n):^16.16}'\n",
    "            l.append(f)\n",
    "        t = f'|{k:^3}|'+'|'.join(l)+'|'\n",
    "        print(t)"
   ]
  },
  {
   "cell_type": "code",
   "execution_count": 4,
   "metadata": {},
   "outputs": [
    {
     "ename": "NameError",
     "evalue": "name 'cnt' is not defined",
     "output_type": "error",
     "traceback": [
      "\u001b[0;31m---------------------------------------------------------------------------\u001b[0m",
      "\u001b[0;31mNameError\u001b[0m                                 Traceback (most recent call last)",
      "Cell \u001b[0;32mIn[4], line 3\u001b[0m\n\u001b[1;32m      1\u001b[0m \u001b[38;5;66;03m#prisijungimas prie mySQL, ir kursoriaus sukūrimas\u001b[39;00m\n\u001b[0;32m----> 3\u001b[0m DB \u001b[38;5;241m=\u001b[39m \u001b[43mcnt\u001b[49m\u001b[38;5;241m.\u001b[39mconnect(\n\u001b[1;32m      4\u001b[0m     host \u001b[38;5;241m=\u001b[39m \u001b[38;5;124m'\u001b[39m\u001b[38;5;124m88.223.121.130\u001b[39m\u001b[38;5;124m'\u001b[39m,\n\u001b[1;32m      5\u001b[0m     user\u001b[38;5;241m=\u001b[39m\u001b[38;5;124m'\u001b[39m\u001b[38;5;124muser\u001b[39m\u001b[38;5;124m'\u001b[39m,\n\u001b[1;32m      6\u001b[0m     password\u001b[38;5;241m=\u001b[39m\u001b[38;5;124m'\u001b[39m\u001b[38;5;124mslaptazodis\u001b[39m\u001b[38;5;124m'\u001b[39m,\n\u001b[1;32m      7\u001b[0m     port\u001b[38;5;241m=\u001b[39m\u001b[38;5;241m3306\u001b[39m,\n\u001b[1;32m      8\u001b[0m     database\u001b[38;5;241m=\u001b[39m\u001b[38;5;124m'\u001b[39m\u001b[38;5;124mworks\u001b[39m\u001b[38;5;124m'\u001b[39m\n\u001b[1;32m      9\u001b[0m     )\n\u001b[1;32m     10\u001b[0m C\u001b[38;5;241m=\u001b[39mDB\u001b[38;5;241m.\u001b[39mcursor()\n",
      "\u001b[0;31mNameError\u001b[0m: name 'cnt' is not defined"
     ]
    }
   ],
   "source": [
    "#prisijungimas prie mySQL, ir kursoriaus sukūrimas\n",
    "\n",
    "DB = cnt.connect(\n",
    "    host = '88.223.121.130',\n",
    "    user='user',\n",
    "    password='slaptazodis',\n",
    "    port=3306,\n",
    "    database='works'\n",
    "    )\n",
    "C=DB.cursor()"
   ]
  },
  {
   "cell_type": "code",
   "execution_count": null,
   "metadata": {},
   "outputs": [],
   "source": [
    "#sql užklausos vykdymas per mysql/mariadb kursorių\n",
    "sql=\"\"\"paste SQL command here!\"\"\"\n",
    "C.execute(sql)\n",
    "ans = C.fetchall()\n",
    "? = list(map(list, zip(*ans)))\n",
    "#? = np.transpose(ans)"
   ]
  },
  {
   "cell_type": "code",
   "execution_count": 1,
   "metadata": {},
   "outputs": [
    {
     "ename": "NameError",
     "evalue": "name 'C' is not defined",
     "output_type": "error",
     "traceback": [
      "\u001b[0;31m---------------------------------------------------------------------------\u001b[0m",
      "\u001b[0;31mNameError\u001b[0m                                 Traceback (most recent call last)",
      "Cell \u001b[0;32mIn[1], line 21\u001b[0m\n\u001b[1;32m      1\u001b[0m \u001b[38;5;66;03m#sql užklausos vykdymas per mysql/mariadb kursorių\u001b[39;00m\n\u001b[1;32m      3\u001b[0m sql\u001b[38;5;241m=\u001b[39m\u001b[38;5;124m\"\"\"\u001b[39m\u001b[38;5;124mselect *, C/(select count(*) from sa)*100 as \u001b[39m\u001b[38;5;124m'\u001b[39m\u001b[38;5;124m%\u001b[39m\u001b[38;5;124m'\u001b[39m\u001b[38;5;124m from\u001b[39m\n\u001b[1;32m      4\u001b[0m \u001b[38;5;124m(select * from\u001b[39m\n\u001b[1;32m      5\u001b[0m \u001b[38;5;124m(select device_brand as B, count(*) as C\u001b[39m\n\u001b[0;32m   (...)\u001b[0m\n\u001b[1;32m     19\u001b[0m \u001b[38;5;124morder by C desc\u001b[39m\n\u001b[1;32m     20\u001b[0m \u001b[38;5;124mlimit 5) as T2)) as T3;\u001b[39m\u001b[38;5;124m\"\"\"\u001b[39m\n\u001b[0;32m---> 21\u001b[0m \u001b[43mC\u001b[49m\u001b[38;5;241m.\u001b[39mexecute(sql)\n\u001b[1;32m     22\u001b[0m ans \u001b[38;5;241m=\u001b[39m C\u001b[38;5;241m.\u001b[39mfetchall()\n\u001b[1;32m     23\u001b[0m gamintojai, kiekiai, dalis \u001b[38;5;241m=\u001b[39m \u001b[38;5;28mlist\u001b[39m(\u001b[38;5;28mmap\u001b[39m(\u001b[38;5;28mlist\u001b[39m, \u001b[38;5;28mzip\u001b[39m(\u001b[38;5;241m*\u001b[39mans)))\n",
      "\u001b[0;31mNameError\u001b[0m: name 'C' is not defined"
     ]
    }
   ],
   "source": [
    "#sql užklausos vykdymas per mysql/mariadb kursorių\n",
    "\n",
    "sql=\"\"\"select *, C/(select count(*) from sa)*100 as '%' from\n",
    "(select * from\n",
    "(select device_brand as B, count(*) as C\n",
    "from sa\n",
    "where device_brand != ''\n",
    "group by device_brand\n",
    "order by C desc\n",
    "limit 5) as T1\n",
    "union all\n",
    "select 'Others', count(*) as C\n",
    "from sa\n",
    "where device_brand not in\n",
    "(select B from (select device_brand as B, count(*) as C\n",
    "from sa\n",
    "where device_brand != ''\n",
    "group by device_brand\n",
    "order by C desc\n",
    "limit 5) as T2)) as T3;\"\"\"\n",
    "\n",
    "C.execute(sql)\n",
    "ans = C.fetchall()\n",
    "gamintojai, kiekiai, dalis = list(map(list, zip(*ans)))\n"
   ]
  }
 ],
 "metadata": {
  "kernelspec": {
   "display_name": "DataScienceNotebooks-SNSOLmWp",
   "language": "python",
   "name": "python3"
  },
  "language_info": {
   "codemirror_mode": {
    "name": "ipython",
    "version": 3
   },
   "file_extension": ".py",
   "mimetype": "text/x-python",
   "name": "python",
   "nbconvert_exporter": "python",
   "pygments_lexer": "ipython3",
   "version": "3.12.3"
  }
 },
 "nbformat": 4,
 "nbformat_minor": 2
}
