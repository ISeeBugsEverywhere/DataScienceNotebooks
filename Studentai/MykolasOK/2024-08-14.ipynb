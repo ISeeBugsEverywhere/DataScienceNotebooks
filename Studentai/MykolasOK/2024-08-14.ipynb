{
 "cells": [
  {
   "cell_type": "code",
   "execution_count": null,
   "metadata": {},
   "outputs": [],
   "source": [
    "def pout(a, limit=5):\n",
    "    if len(a) > limit:\n",
    "        print(f'Rodoma {limit} eilutės iš {len(a)}')\n",
    "    for k,i in enumerate(a):\n",
    "        if k > limit-1:\n",
    "            break\n",
    "        l = []\n",
    "        for n in i:\n",
    "            f = f'{str(n):^16.16}'\n",
    "            l.append(f)\n",
    "        t = f'|{k:^3}|'+'|'.join(l)+'|'\n",
    "        print(t)"
   ]
  },
  {
   "cell_type": "code",
   "execution_count": null,
   "metadata": {},
   "outputs": [],
   "source": [
    "#sql užklausos vykdymas per mysql/mariadb kursorių\n",
    "sql=\"\"\"paste SQL command here!\"\"\"\n",
    "C.execute(sql)\n",
    "ans = C.fetchall()\n",
    "? = list(map(list, zip(*ans)))\n",
    "#? = np.transpose(ans)"
   ]
  }
 ],
 "metadata": {
  "language_info": {
   "name": "python"
  }
 },
 "nbformat": 4,
 "nbformat_minor": 2
}
