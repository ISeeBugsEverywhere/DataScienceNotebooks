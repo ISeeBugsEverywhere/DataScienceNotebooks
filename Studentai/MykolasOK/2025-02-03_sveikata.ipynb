{
 "cells": [
  {
   "cell_type": "markdown",
   "metadata": {},
   "source": [
    "82 paskaita\n",
    "\n",
    "Viena užduotis maždaug vienai paskaitai. Techniniai reikalavimai – Jupyter Notebook’as arba Streamlit aplinka. Grafikai turi turėti pavadinimus, ašys pavadintos prasmingai, jei grafike yra daugiau nei viena kreivė – legenda būtina. Panaudoti boxplot, swarmplot, heatmap, pairplot, (h)bar, histogram, scatter.\n",
    "\n",
    "Būtina pasirašyti 1 – 2 sakinius į JupyterNotebook’ą apie tai, ką matote, ką galite pasakyti iš grafiko (ką matote grafike, 1-2 sakiniai vienam grafikui, tad jei turėsite 10 grafikų – 20 sakinių).\n",
    "\n",
    "\n",
    "83 paskaita. Egidijus Kamarauskas\n",
    "\n",
    "4\n",
    "https://data.gov.lt/datasets/2700/ --- DĖMESIO! Daug duomenų! Pasiūlymas - pagrįstai išsirinkti dalį įrašų !\n",
    "Remdamiesi pateikiamais pacientų\n",
    "laboratorinių tyrimų rez., įvertinkite tirtųjų asmenų imtį:\n",
    "kiek vyrų, moterų, kokio amžiaus, kokių amžiaus grupių, bendra sveikatos būklė kiekvienoje grupėje., kuriame regione buvo sveikiausi/ligočiausi asmenys. Parašykite skriptą, kuris iš vartotojo pateiktų duomenų įvertintų, palygintų šio vartotojo sveikatos būklę su titinkamos\n",
    "grupės žmonių sveikatos būkle.\n"
   ]
  },
  {
   "cell_type": "code",
   "execution_count": 2,
   "metadata": {},
   "outputs": [
    {
     "name": "stdout",
     "output_type": "stream",
     "text": [
      "Pasiruošta 2025-02-03 01:52:00\n"
     ]
    }
   ],
   "source": [
    "import numpy as np\n",
    "import pandas as pd\n",
    "import matplotlib.pyplot as plt\n",
    "# import seaborn as sns\n",
    "from datetime import datetime as dt\n",
    "import warnings; warnings.filterwarnings('ignore')\n",
    "print('Pasiruošta',dt.now().replace(microsecond=0))"
   ]
  },
  {
   "cell_type": "code",
   "execution_count": null,
   "metadata": {},
   "outputs": [],
   "source": []
  }
 ],
 "metadata": {
  "kernelspec": {
   "display_name": "Python 3",
   "language": "python",
   "name": "python3"
  },
  "language_info": {
   "codemirror_mode": {
    "name": "ipython",
    "version": 3
   },
   "file_extension": ".py",
   "mimetype": "text/x-python",
   "name": "python",
   "nbconvert_exporter": "python",
   "pygments_lexer": "ipython3",
   "version": "3.12.4"
  }
 },
 "nbformat": 4,
 "nbformat_minor": 2
}
