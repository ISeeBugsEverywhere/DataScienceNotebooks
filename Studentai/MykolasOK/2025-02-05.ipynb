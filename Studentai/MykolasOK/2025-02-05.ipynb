{
 "cells": [
  {
   "cell_type": "markdown",
   "metadata": {},
   "source": [
    "Viena užduotis maždaug\n",
    "vienai paskaitai. Techniniai reikalavimai –\n",
    "Jupyter Notebook’as arba Streamlit aplinka. Grafikai turi turėti\n",
    "pavadinimus, ašys pavadintos prasmingai, jei grafike yra daugiau nei\n",
    "viena kreivė – legenda būtina. Panaudoti boxplot,\n",
    "swarmplot, heatmap, pairplot, (h)bar,\n",
    "histogram, scatter. Būtina pasirašyti 1 – 2\n",
    "sakinius į JupyterNotebook’ą apie tai, ką matote, ką galite\n",
    "pasakyti iš grafiko (ką matote grafike, 1-2 sakiniai vienam\n",
    "grafikui, tad jei turėsite 10 grafikų – 20 sakinių).\n",
    "\n",
    "5  \n",
    "\n",
    "Duomenys:\n",
    "https://data.gov.lt/datasets/2829/\n",
    "- Stacionaro ir ambulatoriniai ligoniai, gydyti nuo traumų ir\n",
    "apsinuodijimų. Įvertinkite patiriamų traumų, apsinuodijimų\n",
    "dažnius/pasiskirstymą, sunkumą pagal amžių/amžiaus\n",
    "grupes, lytį, paros, metų, darbo dienų/švenčių/išeiginių. Ar\n",
    "traumų pobūdis/dažnis, apsinuodijimų kiekis, pobūdis, sunkumas\n",
    "priklauso nuo užfiksuotų meteorologinių sąlygų, mėnulio fazės,\n",
    "švenčių/laisvadienių?\n",
    "Duomenys:\n",
    "https://data.gov.lt/datasets/2793/#info\n",
    "– PAGD iškvietimai; https://data.gov.lt/datasets/1667/#info\n",
    "– Policijos\n",
    "iškvietimai. Ar\n",
    "iškvietimų dažnis/kiekis priklauso nuo paros,\n",
    "metų, darbo dienų/švenčių/išeiginių, mėnulio\n",
    "fazės, švenčių/laisvadienių?\n",
    "Mėnulio\n",
    "fazės turi būti pasiekiamos per http užklausas – iš esmės\n",
    "pasinaudojate web scrapingu, kad gautumėte norimą informaciją.\n",
    "Papildoma informacija -\n",
    "https://ligoniukasa.lrv.lt/lt/veiklos-sritys/informacija-gyventojams/gydymo-ir-sveikatos-prieziuros-paslaugos/stebejimo-paslaugos/\n",
    ";\n",
    "\n",
    "TLK kodų paaiškinimai yra šiame excel faile:\n",
    "https://ligoniukasa.lrv.lt/uploads/ligoniukasa/documents/files/1(9).xlsx\n",
    "\n",
    "Jūs turėsite sujungti tris failus:\n",
    "https://data.gov.lt/datasets/2829/data/Pacientas/\n",
    "https://data.gov.lt/datasets/2829/data/Ligonine/\n",
    "ir pateiktą excel'io failą, kad turėtumėte vientisą lentelę su reikiamais duomenimis.\n",
    "Prie jų jungsite infromaciją iš\n",
    "https://astropixels.com/ephemeris/phasescat/phasescat.html\n",
    "ARBA day.lt - bus paprasčiau:\n",
    "https://day.lt/diena/2021.04.22    <--- adreso laukelyje įrašius norimą datą, gaunama informacija apie tą dieną.\n",
    "\n",
    "iš kurios, naudodami web scraping'ą, išgausite reikiamą informaciją apie fazes. (requests bibliotekos užteks)"
   ]
  },
  {
   "cell_type": "code",
   "execution_count": null,
   "metadata": {},
   "outputs": [],
   "source": []
  },
  {
   "cell_type": "markdown",
   "metadata": {},
   "source": [
    "Kuriu ir testuoju funkciją, nustatančią mėnulio fazę."
   ]
  },
  {
   "cell_type": "code",
   "execution_count": 49,
   "metadata": {},
   "outputs": [
    {
     "name": "stdout",
     "output_type": "stream",
     "text": [
      "Mėnulio fazė 2025/02/05: 46%\n",
      "Mėnulio fazė 2008/08/01:   0% (Jaunatis)\n",
      "Mėnulio fazė 2001/11/01: 100%\n"
     ]
    }
   ],
   "source": [
    "import ephem\n",
    "\n",
    "def get_moon_phase(date=None):\n",
    "    moon = ephem.Moon()\n",
    "    moon.compute(date)\n",
    "    phase = moon.phase\n",
    "    return phase\n",
    "\n",
    "# Naudojimas:\n",
    "date = '2025/02/05'  # Data 'YYYY/MM/DD'\n",
    "print(f\"Mėnulio fazė {date}: {get_moon_phase(date):2.0f}%\")\n",
    "\n",
    "date = '2008/08/01'  # Jaunatis\n",
    "print(f\"Mėnulio fazė {date}: {get_moon_phase(iso_date):3.0f}% (Jaunatis)\")\n",
    "\n",
    "date = '2001/11/01'  # Pilnatis\n",
    "print(f\"Mėnulio fazė {date}: {get_moon_phase(date):2.0f}%\")\n"
   ]
  },
  {
   "cell_type": "code",
   "execution_count": 50,
   "metadata": {},
   "outputs": [
    {
     "name": "stdout",
     "output_type": "stream",
     "text": [
      "Mėnulio fazė 2025-02-05: 46%\n",
      "Mėnulio fazė 2001-11-01: 100% (Pilnatis)\n",
      "Mėnulio fazė 2008-08-01:   0% (Jaunatis)\n"
     ]
    }
   ],
   "source": [
    "from dateutil import parser\n",
    "import ephem\n",
    "\n",
    "def get_moon_phase(iso_date=None):\n",
    "    # Konvertuojama ISO data į datetime objektą\n",
    "    date = parser.parse(iso_date)\n",
    "    # Sukuriama `ephem` mėnulio objektas\n",
    "    moon = ephem.Moon()\n",
    "    # Data pateikiama `ephem` suprantamu formatu\n",
    "    moon.compute(date)\n",
    "    phase = moon.phase\n",
    "    return phase\n",
    "\n",
    "# Naudojimas:\n",
    "date = '2025-02-05'  # Data\n",
    "print(f\"Mėnulio fazė {date}: {get_moon_phase(date):2.0f}%\")\n",
    "\n",
    "date = '2001-11-01'  # Pilnatis\n",
    "print(f\"Mėnulio fazė {date}: {get_moon_phase(date):3.0f}% (Pilnatis)\")\n",
    "\n",
    "date = '2008-08-01'  # Jaunatis\n",
    "print(f\"Mėnulio fazė {date}: {get_moon_phase(date):3.0f}% (Jaunatis)\")\n"
   ]
  },
  {
   "cell_type": "code",
   "execution_count": 56,
   "metadata": {},
   "outputs": [
    {
     "name": "stdout",
     "output_type": "stream",
     "text": [
      "Mėnulio fazė šiuo metu:  55%\n",
      "Mėnulio fazė 2025-02-05 19:27:  55%\n",
      "Mėnulio fazė 2001-11-01: 100% (Pilnatis)\n",
      "Mėnulio fazė 2008-08-01:   0% (Jaunatis)\n"
     ]
    }
   ],
   "source": [
    "from dateutil import parser\n",
    "import ephem\n",
    "from datetime import datetime\n",
    "\n",
    "def get_moon_phase(iso_date=None):\n",
    "    # Jei data nenurodyta, naudojama šiandienos data\n",
    "    if not iso_date:\n",
    "        date = datetime.now()\n",
    "        # iso_date.replace(hour=0, minute=0, second=0, microsecond=0)\n",
    "    else:\n",
    "        # Konvertuojama ISO data į datetime objektą\n",
    "        date = parser.parse(iso_date)\n",
    "\n",
    "    # Sukuriama `ephem` mėnulio objektas\n",
    "    moon = ephem.Moon()\n",
    "    # Data pateikiama `ephem` suprantamu formatu\n",
    "    moon.compute(date)\n",
    "    phase = moon.phase\n",
    "    # print(f\"({date}, {phase})\")\n",
    "    return phase\n",
    "\n",
    "# Naudojimas:\n",
    "print(f\"Mėnulio fazė šiuo metu: {get_moon_phase():3.0f}%\")\n",
    "\n",
    "date = '2025-02-05 19:27'  # Data\n",
    "print(f\"Mėnulio fazė {date}: {get_moon_phase(date):3.0f}%\")\n",
    "\n",
    "date = '2001-11-01'  # Pilnatis\n",
    "print(f\"Mėnulio fazė {date}: {get_moon_phase(date):3.0f}% (Pilnatis)\")\n",
    "\n",
    "date = '2008-08-01'  # Jaunatis\n",
    "print(f\"Mėnulio fazė {date}: {get_moon_phase(date):3.0f}% (Jaunatis)\")\n"
   ]
  },
  {
   "cell_type": "code",
   "execution_count": 59,
   "metadata": {},
   "outputs": [
    {
     "name": "stdout",
     "output_type": "stream",
     "text": [
      "Mėnulio fazė šiuo metu:  46%\n",
      "Mėnulio fazė 2025-02-05:  46%\n",
      "Mėnulio fazė 2001-11-01: 100% (Pilnatis)\n",
      "Mėnulio fazė 2008-08-01:   0% (Jaunatis)\n"
     ]
    }
   ],
   "source": [
    "from datetime import datetime\n",
    "import ephem\n",
    "\n",
    "def get_moon_phase(date=None):\n",
    "    if date is None:\n",
    "        date = datetime.now()\n",
    "    else:\n",
    "        date = datetime.strptime(date, \"%Y-%m-%d\")\n",
    "    \n",
    "    moon = ephem.Moon()\n",
    "    # Konvertuojama 'datetime' objektas į 'ephem' naudojamą formatą\n",
    "    moon.compute(date.strftime('%Y/%m/%d')) # date.strftime('%Y/%m/%d')\n",
    "    phase = moon.phase\n",
    "    return phase\n",
    "\n",
    "# Naudojimas:\n",
    "print(f\"Mėnulio fazė šiuo metu: {get_moon_phase():3.0f}%\")\n",
    "\n",
    "date = '2025-02-05'  # Data\n",
    "print(f\"Mėnulio fazė {date}: {get_moon_phase(date):3.0f}%\")\n",
    "\n",
    "date = '2001-11-01'  # Pilnatis\n",
    "print(f\"Mėnulio fazė {date}: {get_moon_phase(date):3.0f}% (Pilnatis)\")\n",
    "\n",
    "date = '2008-08-01'  # Jaunatis\n",
    "print(f\"Mėnulio fazė {date}: {get_moon_phase(date):3.0f}% (Jaunatis)\")\n"
   ]
  }
 ],
 "metadata": {
  "kernelspec": {
   "display_name": "Python 3",
   "language": "python",
   "name": "python3"
  },
  "language_info": {
   "codemirror_mode": {
    "name": "ipython",
    "version": 3
   },
   "file_extension": ".py",
   "mimetype": "text/x-python",
   "name": "python",
   "nbconvert_exporter": "python",
   "pygments_lexer": "ipython3",
   "version": "3.12.3"
  }
 },
 "nbformat": 4,
 "nbformat_minor": 2
}
