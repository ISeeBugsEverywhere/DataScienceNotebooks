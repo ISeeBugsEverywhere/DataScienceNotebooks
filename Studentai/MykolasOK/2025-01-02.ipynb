{
 "cells": [
  {
   "cell_type": "code",
   "execution_count": 4,
   "metadata": {},
   "outputs": [
    {
     "name": "stdout",
     "output_type": "stream",
     "text": [
      "72 paskaita.\n",
      "Pasiruošta 2025-01-02 18:39:00\n"
     ]
    }
   ],
   "source": [
    "from datetime import datetime as dt\n",
    "print(f'72 paskaita.')\n",
    "print('Pasiruošta',dt.now().replace(microsecond=0))"
   ]
  },
  {
   "cell_type": "code",
   "execution_count": 5,
   "metadata": {},
   "outputs": [
    {
     "name": "stdout",
     "output_type": "stream",
     "text": [
      "Warning: Looks like you're using an outdated `kagglehub` version (installed: 0.3.5), please consider upgrading to the latest version (0.3.6).\n",
      "Downloading from https://www.kaggle.com/api/v1/datasets/download/yasserh/wine-quality-dataset?dataset_version_number=1...\n"
     ]
    },
    {
     "name": "stderr",
     "output_type": "stream",
     "text": [
      "100%|██████████| 21.5k/21.5k [00:00<00:00, 331kB/s]"
     ]
    },
    {
     "name": "stdout",
     "output_type": "stream",
     "text": [
      "Extracting files...\n",
      "Path to dataset files: /home/administratorius/.cache/kagglehub/datasets/yasserh/wine-quality-dataset/versions/1\n"
     ]
    },
    {
     "name": "stderr",
     "output_type": "stream",
     "text": [
      "\n"
     ]
    }
   ],
   "source": [
    "# Wine Quality Dataset\n",
    "import kagglehub\n",
    "# Download latest version\n",
    "path = kagglehub.dataset_download(\"yasserh/wine-quality-dataset\")\n",
    "print(\"Path to dataset files:\", path)\n",
    "\n",
    "# Užduotis - naudodamiesi savo žinomais ML įrankiais\n",
    "# įvertinkite vynų kokybę (quality)\n",
    "# pateikite confusion matrix vizualizacijas, accuracy score\n",
    "\n",
    "# MOvie DB https://grouplens.org/datasets/movielens/\n",
    "# https://files.grouplens.org/datasets/movielens/ml-32m-README.html"
   ]
  },
  {
   "cell_type": "code",
   "execution_count": null,
   "metadata": {},
   "outputs": [],
   "source": []
  },
  {
   "cell_type": "code",
   "execution_count": 6,
   "metadata": {},
   "outputs": [],
   "source": [
    "# Projektas (kažkiek dienų trukmės)\n",
    "# (Čia ne ML, kurkite savo algoritmą, arba savo algoritmą + ML):\n",
    "# Filmų rekomendacijos skriptas (Jupyter notebook)  arba Streamlit aplikacija\n",
    "# Rekomenduoti filmus pagal pasirinkimus (remiantis kitų vartotojų vertinimais) - vartotojas įveda žanrą, aktorių, etc .. \n",
    "# (apribokite įvestį 3-5 parametrais)\n",
    "# Rezultatas - rekomenduojami filmai ( 1, 2 ar daugiau)\n",
    "# get_dummies() -> dummy_df = df[\"Fruits\"].str.get_dummies(\", \") \n",
    "# iš čia: https://stackoverflow.com/questions/76783764/pandas-get-dummies-on-rows-with-multiple-entries"
   ]
  }
 ],
 "metadata": {
  "kernelspec": {
   "display_name": "Python 3",
   "language": "python",
   "name": "python3"
  },
  "language_info": {
   "codemirror_mode": {
    "name": "ipython",
    "version": 3
   },
   "file_extension": ".py",
   "mimetype": "text/x-python",
   "name": "python",
   "nbconvert_exporter": "python",
   "pygments_lexer": "ipython3",
   "version": "3.12.3"
  }
 },
 "nbformat": 4,
 "nbformat_minor": 2
}
