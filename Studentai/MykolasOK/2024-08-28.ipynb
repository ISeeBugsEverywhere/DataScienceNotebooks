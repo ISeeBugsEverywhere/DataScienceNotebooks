{
 "cells": [
  {
   "cell_type": "code",
   "execution_count": 24,
   "metadata": {},
   "outputs": [
    {
     "name": "stdout",
     "output_type": "stream",
     "text": [
      "Reloading 'manoFunkcijos'.\n",
      "Pasiruošta\n"
     ]
    }
   ],
   "source": [
    "import numpy as np\n",
    "import matplotlib.pyplot as plt\n",
    "# import pandas as pd\n",
    "# import warnings\n",
    "# warnings.filterwarnings('ignore')\n",
    "# import seaborn as sns\n",
    "# import sqlite3\n",
    "# import mysql.connector as cnt\n",
    "# import plotly.express as px\n",
    "\n",
    "import os\n",
    "import glob\n",
    "\n",
    "from manoFunkcijos import SolarAnalyzer\n",
    "\n",
    "print('Pasiruošta')"
   ]
  },
  {
   "cell_type": "code",
   "execution_count": 4,
   "metadata": {},
   "outputs": [],
   "source": [
    "%reload_ext autoreload\n",
    "%autoreload 2 -p"
   ]
  },
  {
   "cell_type": "code",
   "execution_count": 19,
   "metadata": {},
   "outputs": [
    {
     "name": "stdout",
     "output_type": "stream",
     "text": [
      "Reloading 'manoFunkcijos'.\n",
      "Klasės patikrinimas su failu \"../../DATA/OOP_DATA/REF_D_1k_FW_2.08.dat\"\n",
      "\n",
      "SolarAnalyzer()\n",
      "Skaitomas failas: ../../DATA/OOP_DATA/REF_D_1k_FW_2.08.dat\n",
      "Praleista: U[V] ; I[A] ; j[mA/cm^2] ; P[mW/cm^2]\n",
      "Rezultatas: 'REF' 14.9890787 25.9075833 1.1066667 52.27947222282707\n",
      "\n",
      "SE_analiz.medžiaga: REF\n",
      "SE_analiz.pce: 14.9890787 - naudingumo koeficientas pagal saulę [%]\n",
      "SE_analiz.jsc: 25.9075833 - maksimali srovė [mA/cm^2]\n",
      "SE_analiz.Uoc: 1.1066667 - maksimali įtampa [V]\n",
      "SE_analiz.FF: 52.27947222282707 - n.k., palyginus su idealia SE [%]\n"
     ]
    }
   ],
   "source": [
    "fVardas='../../DATA/OOP_DATA/REF_D_1k_FW_2.08.dat'\n",
    "print(f'Klasės patikrinimas su failu \"{fVardas}\"')\n",
    "print()\n",
    "SE_analiz=SolarAnalyzer(fVardas,sep=';',header=1)\n",
    "print()\n",
    "print('SE_analiz.medžiaga:',SE_analiz.medžiaga)\n",
    "print('SE_analiz.pce:',SE_analiz.pce,'- naudingumo koeficientas pagal saulę [%]')\n",
    "print('SE_analiz.jsc:',SE_analiz.jsc,'- maksimali srovė [mA/cm^2]')\n",
    "print('SE_analiz.Uoc:',SE_analiz.Uoc,'- maksimali įtampa [V]')\n",
    "print('SE_analiz.FF:',SE_analiz.FF,'- n.k., palyginus su idealia SE [%]')"
   ]
  },
  {
   "cell_type": "code",
   "execution_count": 61,
   "metadata": {},
   "outputs": [
    {
     "name": "stdout",
     "output_type": "stream",
     "text": [
      "27 paskaita (užduotis nuo 26 paskaitos)\n",
      "{'REF': [14.9890787, 7.5438748, 7.4238104, 8.0058633, 5.8455224, 7.5898202], 'V1145': [7.2185067, 7.4302523, 9.819264, 9.966608, 10.3472289, 7.1922158, 6.6159931, 7.4931652, 2.1742023, 2.7738899, 1.2551786, 2.4197289, 2.7348784, 6.3753896, 8.4197053], 'V1177': [9.7088172, 9.3709515, 9.3167654, 8.49892], 'V1178': [2.8507688, 4.4438755, 5.4668606, 4.9624175, 3.5715517, 3.6503919, 0.4279458, 0.0552548], 'V1179': [6.0877625, 6.8847554, 4.7826852, 4.8088329, 6.595937, 6.4384347, 6.4022243]}\n",
      "{'REF': [25.9075833, 13.8147889, 13.4178667, 14.3619625, 11.333355, 14.7006375], 'V1145': [19.3017375, 19.6389875, 20.5197125, 21.3685875, 20.59545, 21.1418625, 19.2826625, 21.8893875, 21.6366125, 22.6278, 19.2498, 20.61475, 19.0444, 23.0556625, 22.345175], 'V1177': [21.0204, 20.7519125, 18.4347875, 17.07735], 'V1178': [15.7351857, 18.2650143, 19.5459857, 18.0892857, 15.032, 14.5286714, 12.7791543, 5.5254829], 'V1179': [19.9404857, 20.4088571, 17.5839857, 18.4517571, 18.5897143, 18.4025857, 17.9121]}\n",
      "{'REF': [1.1066667, 1.0833333, 1.0833333, 1.1066667, 1.06, 1.1066667], 'V1145': [0.8033333, 0.8266667, 0.9433333, 0.92, 0.9433333, 0.78, 0.8033333, 0.8033333, 0.29, 0.36, 1.1766667, 0.36, 0.43, 0.71, 0.85], 'V1177': [0.99, 0.9433333, 1.0133333, 1.0133333], 'V1178': [0.5233333, 0.6866667, 0.8033333, 0.7566667, 0.6633333, 0.6866667, 0.1266667, 1.0133333], 'V1179': [0.6866667, 0.8033333, 0.6633333, 0.6633333, 0.85, 0.85, 0.8733333]}\n",
      "{'REF': [52.27947222282707, 50.406683758486125, 51.07181659803085, 50.37064821331489, 48.658528507974076, 46.6528819480503], 'V1145': [46.553805637457316, 45.767166280805526, 50.727387865360924, 50.697172029818965, 53.258337518800026, 43.613893937582304, 42.7102657624205, 42.612393436347716, 34.65075371823953, 34.05213817614714, 5.54148091119949, 32.60514518326279, 33.396601234911024, 38.94670982380569, 44.3296400545479], 'V1177': [46.65413627050895, 47.86966598416758, 49.874058401915235, 49.11237622438116], 'V1178': [34.61877964466031, 35.43201734781102, 34.81646334303176, 36.25494578984782, 35.81858079121294, 36.59043765470902, 26.437732147896302, 0.9868416197898506], 'V1179': [44.46066784279402, 41.99272527304216, 41.00366479068668, 39.28892603115394, 41.74311534391328, 41.16067808244757, 40.9264768676331]}\n"
     ]
    }
   ],
   "source": [
    "print('27 paskaita (užduotis nuo 26 paskaitos)')\n",
    "\n",
    "# kuriami tušti sąrašai ..L\n",
    "medL=[] # medžiaga\n",
    "pceL=[]\n",
    "jscL=[]\n",
    "UocL=[]\n",
    "FF_L=[]\n",
    "\n",
    "# iš failų į sąrašus ..L\n",
    "for fVardas in glob.glob('../../DATA/OOP_DATA/*.dat'):\n",
    "    SE_analiz=SolarAnalyzer(fVardas,sep=';',header=1)\n",
    "    medL.append(SE_analiz.medžiaga)\n",
    "    pceL.append(SE_analiz.pce)\n",
    "    jscL.append(SE_analiz.jsc)\n",
    "    UocL.append(SE_analiz.Uoc)\n",
    "    FF_L.append(SE_analiz.FF)\n",
    "\n",
    "# kuriami tušti žodynai\n",
    "pceD = dict.fromkeys(medžiaga,None)\n",
    "for k in pceD.keys():\n",
    "    pceD[k]=[]\n",
    "\n",
    "jscD = dict.fromkeys(medžiaga,None)\n",
    "for k in jscD.keys():\n",
    "    jscD[k]=[]\n",
    "\n",
    "UocD = dict.fromkeys(medžiaga,None)\n",
    "for k in UocD.keys():\n",
    "    UocD[k]=[]\n",
    "\n",
    "FF_D = dict.fromkeys(medžiaga,None)\n",
    "for k in FF_D.keys():\n",
    "    FF_D[k]=[]\n",
    "\n",
    "# print(pceD)\n",
    "# print(jscD)\n",
    "# print(UocD)\n",
    "# print(FF_D)\n",
    "\n",
    "# iš sąrašų (..L) į žodynus (..D)\n",
    "n = len(FF_L)\n",
    "\n",
    "for i in range(n):\n",
    "    pceD[medžiaga[i]].append(pceL[i])\n",
    "# print(pceD)\n",
    "\n",
    "for i in range(n):\n",
    "    jscD[medžiaga[i]].append(jscL[i])\n",
    "# print(jscD)\n",
    "\n",
    "for i in range(n):\n",
    "    UocD[medžiaga[i]].append(UocL[i])\n",
    "# print(UocD)\n",
    "\n",
    "for i in range(n):\n",
    "    FF_D[medžiaga[i]].append(FF_L[i])\n",
    "# print(FF_D)\n",
    "\n",
    "# išvesti rezultatus"
   ]
  }
 ],
 "metadata": {
  "kernelspec": {
   "display_name": "Python 3",
   "language": "python",
   "name": "python3"
  },
  "language_info": {
   "codemirror_mode": {
    "name": "ipython",
    "version": 3
   },
   "file_extension": ".py",
   "mimetype": "text/x-python",
   "name": "python",
   "nbconvert_exporter": "python",
   "pygments_lexer": "ipython3",
   "version": "3.12.3"
  }
 },
 "nbformat": 4,
 "nbformat_minor": 2
}
