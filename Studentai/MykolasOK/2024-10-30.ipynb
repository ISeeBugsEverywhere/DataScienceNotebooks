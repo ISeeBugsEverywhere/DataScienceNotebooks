{
 "cells": [
  {
   "cell_type": "code",
   "execution_count": null,
   "metadata": {},
   "outputs": [],
   "source": [
    "# Užduotis\n",
    "\n",
    "import pandas as pd\n",
    "\n",
    "2024_10_25_17val44min_III_P_K_A_params.dat"
   ]
  },
  {
   "cell_type": "code",
   "execution_count": null,
   "metadata": {},
   "outputs": [],
   "source": [
    "# Read Text Files with Pandas using read_csv()\n",
    "\n",
    "# importing pandas\n",
    "import pandas as pd\n",
    "\n",
    "# read text file into pandas DataFrame\n",
    "df = pd.read_csv(\"../../../../kopija/2024_10_25_17val44min_III_P_K_A_params.dat\", sep=\" \")\n",
    "\n",
    "# display DataFrame\n",
    "print(df)"
   ]
  }
 ],
 "metadata": {
  "language_info": {
   "name": "python"
  }
 },
 "nbformat": 4,
 "nbformat_minor": 2
}
