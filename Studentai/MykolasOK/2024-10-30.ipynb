{
 "cells": [
  {
   "cell_type": "code",
   "execution_count": null,
   "metadata": {},
   "outputs": [],
   "source": [
    "# Kontrolinė užduotis"
   ]
  },
  {
   "cell_type": "code",
   "execution_count": 60,
   "metadata": {},
   "outputs": [
    {
     "name": "stdout",
     "output_type": "stream",
     "text": [
      "Index(['SC ', ' F/B ', ' Uoc ', ' jsc ', ' FF ', ' Umax ', ' jmax ', ' Pmax ',\n",
      "       ' PCE', ' S', ' t'],\n",
      "      dtype='object')\n"
     ]
    }
   ],
   "source": [
    "# Read Text Files with Pandas using read_csv()\n",
    "\n",
    "# importing pandas\n",
    "import pandas as pd\n",
    "\n",
    "# read text file into pandas DataFrame\n",
    "df = pd.read_csv(\"../../../../kopija/2024_10_25_17val44min_III_P_K_A_params.dat\",sep=\";\",header=0,skiprows=[1])\n",
    "\n",
    "# display DataFrame structure\n",
    "print(df.columns)"
   ]
  },
  {
   "cell_type": "code",
   "execution_count": 94,
   "metadata": {},
   "outputs": [],
   "source": [
    "# df"
   ]
  },
  {
   "cell_type": "code",
   "execution_count": 64,
   "metadata": {},
   "outputs": [
    {
     "name": "stdout",
     "output_type": "stream",
     "text": [
      "Index(['SC', 'F/B', 'Uoc', 'jsc', 'FF', 'Umax', 'jmax', 'Pmax', 'PCE', 'S',\n",
      "       't'],\n",
      "      dtype='object')\n"
     ]
    }
   ],
   "source": [
    "df=df.rename(columns=lambda x: x.strip())\n",
    "print(df.columns)"
   ]
  },
  {
   "cell_type": "code",
   "execution_count": 65,
   "metadata": {},
   "outputs": [
    {
     "name": "stdout",
     "output_type": "stream",
     "text": [
      "Index(['SC', 'F/B', 'Uoc', 'jsc', 'FF', 'Umax', 'jmax', 'Pmax', 'PCE', 'S',\n",
      "       't'],\n",
      "      dtype='object')\n"
     ]
    }
   ],
   "source": [
    "df.columns=df.columns.str.strip()\n",
    "print(df.columns)\n",
    "# \"str.strip is ~2X faster, I expect this to scale better for larger dfs.\""
   ]
  },
  {
   "cell_type": "code",
   "execution_count": 44,
   "metadata": {},
   "outputs": [],
   "source": [
    "import seaborn as sns\n",
    "# import matplotlib\n",
    "import matplotlib.pyplot as plt\n",
    "import numpy as np\n",
    "# import pandas as pd"
   ]
  },
  {
   "cell_type": "code",
   "execution_count": 120,
   "metadata": {},
   "outputs": [
    {
     "name": "stdout",
     "output_type": "stream",
     "text": [
      "len(df) = 38\n",
      "                          SC   F/B    Uoc      jsc       FF   Umax     jmax  \\\n",
      "12  A_III_V1547+3S_1k_10-25    FW   0.567 -0.09536  21.7301  0.281 -0.04125   \n",
      "13  A_III_V1547+3S_1k_10-25    BW   0.528 -0.07641  17.9103  0.229 -0.03125   \n",
      "14  A_III_V1547+3S_2k_10-25    FW   0.554 -0.05169  16.8190  0.216 -0.02250   \n",
      "15  A_III_V1547+3S_3k_10-25    FW   0.528 -0.08875  18.5978  0.216 -0.04000   \n",
      "16  A_III_V1547+3S_4k_10-25    FW   0.190 -0.08167  31.5006  0.112 -0.04375   \n",
      "\n",
      "      Pmax     PCE     S    t  \n",
      "12 -0.0117  0.0117  0.08 -1.0  \n",
      "13 -0.0072  0.0072  0.08 -1.0  \n",
      "14 -0.0048  0.0048  0.08 -1.0  \n",
      "15 -0.0087  0.0087  0.08 -1.0  \n",
      "16 -0.0049  0.0049  0.08 -1.0  \n"
     ]
    }
   ],
   "source": [
    "print(\"len(df) =\",len(df)) # len=38\n",
    "\n",
    "REF_df=df[df['SC'].str.contains('REF')] # len=12\n",
    "V1547_df=df[df['SC'].str.contains('V1547')] # len=26 (tarpinis df tolesnei atrankai)\n",
    "V1547_3S_df=V1547_df[V1547_df['SC'].str.contains('3S_')] # len=5\n",
    "V1547_3S_BCP_df=V1547_df[V1547_df['SC'].str.contains('3S\\+BCP')] # len=6\n",
    "V1547_3S_PCBM_BCP_df=V1547_df[V1547_df['SC'].str.contains('PCBM\\+BCP')] # len=15\n",
    "\n",
    "# print(V1547_3S_df.columns)\n",
    "# V1547_3S_df.info()\n",
    "print(V1547_3S_df)"
   ]
  },
  {
   "cell_type": "code",
   "execution_count": 100,
   "metadata": {},
   "outputs": [],
   "source": [
    "# fig, axs = plt.subplots(nrows=2, ncols=2, figsize=(9, 4))\n",
    "# axs[0,0].boxplot(data=df,x=,y=)\n",
    "# axs[0,0].set_title('Box plot')\n",
    "# axs[0,1].boxplot(data=df)\n",
    "# axs[0,1].set_title('Box plot')\n",
    "# axs[1,0].boxplot(data=df)\n",
    "# axs[1,0].set_title('Box plot')\n",
    "# axs[1,1].boxplot(data=df)\n",
    "# axs[1,1].set_title('Box plot')\n",
    "# plt.show()"
   ]
  }
 ],
 "metadata": {
  "kernelspec": {
   "display_name": "Python 3",
   "language": "python",
   "name": "python3"
  },
  "language_info": {
   "codemirror_mode": {
    "name": "ipython",
    "version": 3
   },
   "file_extension": ".py",
   "mimetype": "text/x-python",
   "name": "python",
   "nbconvert_exporter": "python",
   "pygments_lexer": "ipython3",
   "version": "3.11.9"
  }
 },
 "nbformat": 4,
 "nbformat_minor": 2
}
