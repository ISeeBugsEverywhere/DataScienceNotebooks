{
 "cells": [
  {
   "cell_type": "code",
   "execution_count": 1,
   "metadata": {},
   "outputs": [
    {
     "name": "stdout",
     "output_type": "stream",
     "text": [
      "WebDriver started. Prskaityta https://www.varle.lt/mobilieji-telefonai/.\n",
      "Total pages: 59\n"
     ]
    }
   ],
   "source": [
    "# Pradėta 2024-11-21_ObjectProperties.ipynb\n",
    "# Tęsinys. Čia 2024-11-28_varle_lt.ipynb\n",
    "\n",
    "item_type = 'mobilieji-telefonai'\n",
    "# 'dronai', 'televizoriai', 'saldytuvai', 'televizoriai'\n",
    "\n",
    "import pandas as pd\n",
    "import time\n",
    "import sqlite3\n",
    "\n",
    "from bs4 import BeautifulSoup\n",
    "\n",
    "# Selenium\n",
    "import selenium\n",
    "from selenium.webdriver.chrome.options import Options\n",
    "# from selenium.webdriver.firefox.options import Options as FirefoxOptions\n",
    "from selenium import webdriver\n",
    "\n",
    "from my_lib.properties_of import properties_of\n",
    "from my_lib.my_db_functions import save_df_to_sqlite\n",
    "\n",
    "opcijos = Options()\n",
    "opcijos.add_argument('--incognito')\n",
    "opcijos.add_argument('--ignore-certificate-errors')\n",
    "opcijos.add_argument('--ignore-ssl-errors')\n",
    "driver = webdriver.Chrome(options=opcijos)\n",
    "print('WebDriver started.',end=' ')\n",
    "\n",
    "url = f'https://www.varle.lt/{item_type}/'\n",
    "driver.get(url)\n",
    "time.sleep(3)\n",
    "source = driver.page_source\n",
    "print(f'Prskaityta {url}.')\n",
    "\n",
    "bs = BeautifulSoup(source,'html.parser')\n",
    "pages_numbers = bs.find('div',{'class':'PAGINATION'}).find_all('li',{'class':'number'})\n",
    "total_pages = int(pages_numbers[-1].text.strip())\n",
    "print(f'Total pages: {total_pages}')\n",
    "\n",
    "items_df = pd.DataFrame(columns=('id','price','url','price_in_cents')) # šios programos rezultatas"
   ]
  },
  {
   "cell_type": "code",
   "execution_count": 2,
   "metadata": {},
   "outputs": [
    {
     "name": "stdout",
     "output_type": "stream",
     "text": [
      "38\n"
     ]
    }
   ],
   "source": [
    "# Parsinamas pirmasis prekių sąrašo puslapis.\n",
    "\n",
    "items_blocks = bs.find_all('div',{'class':'GRID_ITEM'})\n",
    "for item_block in items_blocks:\n",
    "\n",
    "    item_href = item_block.find('div',{'class':'product-title'}).find('a')['href']\n",
    "    item_url = 'https://www.varle.lt'+ item_href\n",
    "    item_id = item_href.split('-')[-1].split('.')[0]\n",
    "\n",
    "    price_container = item_block.find('div',{'class':'price-container'})\n",
    "    price_value = price_container.find('span',{'class':'price-value'}).getText()\n",
    "    item_price = ''.join(price_value.split())\n",
    "\n",
    "    items_df.loc[len(items_df)] = {'id':int(item_id),'price':item_price,'url':item_url}\n",
    "\n",
    "print(len(items_df))"
   ]
  },
  {
   "cell_type": "code",
   "execution_count": 3,
   "metadata": {},
   "outputs": [
    {
     "ename": "KeyboardInterrupt",
     "evalue": "",
     "output_type": "error",
     "traceback": [
      "\u001b[0;31m---------------------------------------------------------------------------\u001b[0m",
      "\u001b[0;31mKeyboardInterrupt\u001b[0m                         Traceback (most recent call last)",
      "Cell \u001b[0;32mIn[3], line 8\u001b[0m\n\u001b[1;32m      6\u001b[0m url \u001b[38;5;241m=\u001b[39m \u001b[38;5;124mf\u001b[39m\u001b[38;5;124m'\u001b[39m\u001b[38;5;124mhttps://www.varle.lt/\u001b[39m\u001b[38;5;132;01m{\u001b[39;00mitem_type\u001b[38;5;132;01m}\u001b[39;00m\u001b[38;5;124m/?p=\u001b[39m\u001b[38;5;132;01m{\u001b[39;00mpage_number\u001b[38;5;132;01m}\u001b[39;00m\u001b[38;5;124m'\u001b[39m\n\u001b[1;32m      7\u001b[0m driver\u001b[38;5;241m.\u001b[39mget(url)\n\u001b[0;32m----> 8\u001b[0m \u001b[43mtime\u001b[49m\u001b[38;5;241;43m.\u001b[39;49m\u001b[43msleep\u001b[49m\u001b[43m(\u001b[49m\u001b[38;5;241;43m60\u001b[39;49m\u001b[43m)\u001b[49m\n\u001b[1;32m      9\u001b[0m source \u001b[38;5;241m=\u001b[39m driver\u001b[38;5;241m.\u001b[39mpage_source\n\u001b[1;32m     10\u001b[0m \u001b[38;5;28mprint\u001b[39m(\u001b[38;5;124mf\u001b[39m\u001b[38;5;124m'\u001b[39m\u001b[38;5;124mPrskaityta \u001b[39m\u001b[38;5;132;01m{\u001b[39;00murl\u001b[38;5;132;01m}\u001b[39;00m\u001b[38;5;124m'\u001b[39m)\n",
      "\u001b[0;31mKeyboardInterrupt\u001b[0m: "
     ]
    }
   ],
   "source": [
    "# Perskaitomi kiti prekių sąrašo puslapiai,\n",
    "# po to įrašoma į db\n",
    "\n",
    "for page_number in range(2,total_pages+1):\n",
    "\n",
    "    url = f'https://www.varle.lt/{item_type}/?p={page_number}'\n",
    "    driver.get(url)\n",
    "    time.sleep(60)\n",
    "    source = driver.page_source\n",
    "    print(f'Prskaityta {url}')\n",
    "\n",
    "    bs = BeautifulSoup(source,'html.parser')\n",
    "\n",
    "    items_blocks = bs.find_all('div',{'class':'GRID_ITEM'})\n",
    "    for item_block in items_blocks:\n",
    "        item_href = item_block.find('div',{'class':'product-title'}).find('a')['href']\n",
    "        item_url = 'https://www.varle.lt'+item_href\n",
    "        item_id = item_href.split('-')[-1].split('.')[0]\n",
    "\n",
    "        price_container = item_block.find('div',{'class':'price-container'})\n",
    "        price_value = price_container.find('span',{'class':'price-value'}).getText()\n",
    "        item_price = ''.join(price_value.split())\n",
    "\n",
    "        items_df.loc[len(items_df)] = {'id':int(item_id),'price':item_price,'url':item_url}\n",
    "\n",
    "    items_total = len(items_df)\n",
    "    items_df.drop_duplicates(subset='id',keep='first',inplace=True)\n",
    "    print(f'Get {items_total} items. Unique {len(items_df)} items.')\n",
    "\n",
    "driver.close()\n",
    "\n",
    "\n",
    "# Pridedamas kainos stulpelis centais (int)\n",
    "import re\n",
    "\n",
    "def price_in_cents(price:str) -> int:\n",
    "    # Pašalina visus simbolius, išskyrus skaičius, kablelį ir tašką:\n",
    "    cleaned = re.sub(r'[^\\d.,]', '', price).replace(',', '.').replace(' ', '')\n",
    "    return int(float(cleaned)*100)\n",
    "\n",
    "items_df['price_in_cents'] = items_df['price'].apply(price_in_cents)\n",
    "\n",
    "\n",
    "# Save to SQLite3\n",
    "save_df_to_sqlite(items_df,\"./my_scrap_working_data.db\",table_name=item_type)\n",
    "\n",
    "\n",
    "items_df"
   ]
  }
 ],
 "metadata": {
  "kernelspec": {
   "display_name": "Python 3",
   "language": "python",
   "name": "python3"
  },
  "language_info": {
   "codemirror_mode": {
    "name": "ipython",
    "version": 3
   },
   "file_extension": ".py",
   "mimetype": "text/x-python",
   "name": "python",
   "nbconvert_exporter": "python",
   "pygments_lexer": "ipython3",
   "version": "3.12.3"
  }
 },
 "nbformat": 4,
 "nbformat_minor": 2
}
