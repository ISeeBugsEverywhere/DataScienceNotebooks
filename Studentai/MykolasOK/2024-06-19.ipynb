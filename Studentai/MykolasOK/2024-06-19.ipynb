{
 "cells": [
  {
   "cell_type": "code",
   "execution_count": 2,
   "metadata": {},
   "outputs": [
    {
     "name": "stdout",
     "output_type": "stream",
     "text": [
      "\n",
      " Antroji paskaita. Pirmoji užduotis\n"
     ]
    }
   ],
   "source": [
    "# x=input('Įveskite:')\n",
    "# print(x, type(x), x*7, int(x)*7)\n",
    "\n",
    "print('\\n Antroji paskaita. Pirmoji užduotis')\n",
    "vrd='Mykolas'\n",
    "pvd=\"Okulič-Kazarinas\"\n",
    "pav='Rusija ketina stabdyti savo narystę ESBO Parlamentinėje Asamblėjoje'\n",
    "lbr='Labas rytas!'"
   ]
  },
  {
   "cell_type": "code",
   "execution_count": 3,
   "metadata": {},
   "outputs": [
    {
     "name": "stdout",
     "output_type": "stream",
     "text": [
      "7\n",
      "16\n",
      "67\n",
      "MYKOLAS\n",
      "mykolas\n",
      "Rusija ket\n",
      "samblėjoje\n",
      "Rsj eiasadt aonrsęEB almniėeAabėoe\n",
      "tina stabdy\n",
      "8\n",
      "6\n",
      "abas rytas!\n",
      "Labas rytas\n",
      "abas rytas\n"
     ]
    }
   ],
   "source": [
    "print(len(vrd))\n",
    "print(len(pvd))\n",
    "print(len(pav))\n",
    "print(vrd.upper())\n",
    "print(vrd.lower())\n",
    "print(pav[:10])\n",
    "print(pav[-10:])\n",
    "print(pav[::2])\n",
    "print(pav[9:20])\n",
    "print(pav.count('a'))\n",
    "print(pav.find('a')+1) # Nes numeruoja nuo nulio.\n",
    "print(lbr[1:])\n",
    "print(lbr[:-1])\n",
    "print(lbr[1:-1])"
   ]
  },
  {
   "cell_type": "code",
   "execution_count": 4,
   "metadata": {},
   "outputs": [
    {
     "name": "stdout",
     "output_type": "stream",
     "text": [
      "\n",
      " Antroji paskaita. Antroji ir trečioji užduotys\n",
      "a=4545 b=4545\n",
      "4545_*_4545_=_20657025\n",
      "Skaičiavimai: 4545 ** 3 = 93886178625\n",
      "Kubinė šaknis iš 4545.00 yra 16.56\n",
      "Skaičiavimai: 4545 % 4545 = 0\n",
      "gnhdfghn\n",
      "fg\n",
      "\n",
      " Antroji paskaita. Ketvirtoji užduotis\n",
      "Tik raidės\n"
     ]
    }
   ],
   "source": [
    "print('\\n Antroji paskaita. Antroji ir trečioji užduotys')\n",
    "a=input('Įveskite a:')\n",
    "b=input('Įveskite b:')\n",
    "a=int(a)\n",
    "b=int(b)\n",
    "print(f'{a=} {b=}')\n",
    "if a>b :\n",
    "    a,b=(b,a)\n",
    "print(a,'*',b,'=',a*b,sep='_') # sep='\\n'\n",
    "pranešimas=\"Skaičiavimai: {} {} {} = {}\"\n",
    "print(pranešimas.format(a,'**',3,a**3))\n",
    "print(\"Kubinė šaknis iš {:.2f} yra {:.2f}\".format(a,a**(1/3)))\n",
    "print(pranešimas.format(b,'%',a,b%a))\n",
    "eil=input('Įveskite eil:')\n",
    "nuo=int(input('Nuo:'))\n",
    "iki=int(input('Iki:'))\n",
    "if nuo>iki :\n",
    "    nuo,iki=(iki,nuo)\n",
    "print(eil)\n",
    "print(eil[nuo-1:iki])\n",
    "\n",
    "print('\\n Antroji paskaita. Ketvirtoji užduotis')\n",
    "if eil.isalpha() :\n",
    "    print('Tik raidės')\n",
    "elif eil.islower() :\n",
    "    print('Tik mažosios')\n",
    "elif eil.isupper() :\n",
    "    print('Tik didžiosios')\n",
    "elif eil.isnumeric() :\n",
    "    print('Tik skaičiai')"
   ]
  }
 ],
 "metadata": {
  "kernelspec": {
   "display_name": "Python 3",
   "language": "python",
   "name": "python3"
  },
  "language_info": {
   "codemirror_mode": {
    "name": "ipython",
    "version": 3
   },
   "file_extension": ".py",
   "mimetype": "text/x-python",
   "name": "python",
   "nbconvert_exporter": "python",
   "pygments_lexer": "ipython3",
   "version": "3.11.9"
  }
 },
 "nbformat": 4,
 "nbformat_minor": 2
}
