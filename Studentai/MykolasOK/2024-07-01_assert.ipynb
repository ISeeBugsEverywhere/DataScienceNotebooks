{
 "cells": [
  {
   "cell_type": "code",
   "execution_count": 1,
   "metadata": {},
   "outputs": [
    {
     "name": "stdout",
     "output_type": "stream",
     "text": [
      "2024-07-01\n",
      "\n"
     ]
    }
   ],
   "source": [
    "print('2024-07-01\\n')"
   ]
  },
  {
   "cell_type": "code",
   "execution_count": 5,
   "metadata": {},
   "outputs": [
    {
     "name": "stdout",
     "output_type": "stream",
     "text": [
      "Pirm: 1\n",
      "Antr: def\n",
      "Pirm: 1\n",
      "Pirm: 1\n"
     ]
    }
   ],
   "source": [
    "def funkcija( pirm, antr='def', *args, **kwargs):\n",
    "    print('Pirm:', pirm)\n",
    "    print('Antr:', antr)\n",
    "    print('Pirm:', pirm)\n",
    "    print('Pirm:', pirm)\n",
    "\n",
    "funkcija(1) "
   ]
  },
  {
   "cell_type": "code",
   "execution_count": 9,
   "metadata": {},
   "outputs": [
    {
     "name": "stdout",
     "output_type": "stream",
     "text": [
      "\n",
      "Aritmetiniai:\n",
      "2.0\n",
      "81.0\n",
      "4.0\n",
      "\n",
      "Geometriniai:\n",
      "9.999999999999998\n",
      "11.066819197003216\n",
      "\n",
      "Klaida:\n"
     ]
    },
    {
     "ename": "AssertionError",
     "evalue": "assert: Neteisingai nurodyta komanda!",
     "output_type": "error",
     "traceback": [
      "\u001b[1;31m---------------------------------------------------------------------------\u001b[0m",
      "\u001b[1;31mAssertionError\u001b[0m                            Traceback (most recent call last)",
      "Cell \u001b[1;32mIn[9], line 37\u001b[0m\n\u001b[0;32m     35\u001b[0m \u001b[38;5;28mprint\u001b[39m(vidurkis(\u001b[38;5;241m20\u001b[39m, \u001b[38;5;241m5\u001b[39m, \u001b[38;5;241m10\u001b[39m, \u001b[38;5;241m15\u001b[39m, koks\u001b[38;5;241m=\u001b[39m\u001b[38;5;124m'\u001b[39m\u001b[38;5;124mG\u001b[39m\u001b[38;5;124m'\u001b[39m))\n\u001b[0;32m     36\u001b[0m \u001b[38;5;28mprint\u001b[39m(\u001b[38;5;124m'\u001b[39m\u001b[38;5;130;01m\\n\u001b[39;00m\u001b[38;5;124mKlaida:\u001b[39m\u001b[38;5;124m'\u001b[39m)\n\u001b[1;32m---> 37\u001b[0m \u001b[38;5;28mprint\u001b[39m(\u001b[43mvidurkis\u001b[49m\u001b[43m(\u001b[49m\u001b[38;5;241;43m20\u001b[39;49m\u001b[43m,\u001b[49m\u001b[43m \u001b[49m\u001b[38;5;241;43m5\u001b[39;49m\u001b[43m,\u001b[49m\u001b[43m \u001b[49m\u001b[38;5;241;43m10\u001b[39;49m\u001b[43m,\u001b[49m\u001b[43m \u001b[49m\u001b[43mkoks\u001b[49m\u001b[38;5;241;43m=\u001b[39;49m\u001b[38;5;124;43m'\u001b[39;49m\u001b[38;5;124;43mz\u001b[39;49m\u001b[38;5;124;43m'\u001b[39;49m\u001b[43m)\u001b[49m)\n",
      "Cell \u001b[1;32mIn[9], line 10\u001b[0m, in \u001b[0;36mvidurkis\u001b[1;34m(koks, *skaičiai)\u001b[0m\n\u001b[0;32m      9\u001b[0m \u001b[38;5;28;01mdef\u001b[39;00m \u001b[38;5;21mvidurkis\u001b[39m(\u001b[38;5;241m*\u001b[39mskaičiai, koks\u001b[38;5;241m=\u001b[39m\u001b[38;5;124m'\u001b[39m\u001b[38;5;124ma\u001b[39m\u001b[38;5;124m'\u001b[39m):\n\u001b[1;32m---> 10\u001b[0m     \u001b[38;5;28;01massert\u001b[39;00m koks \u001b[38;5;129;01min\u001b[39;00m [\u001b[38;5;124m'\u001b[39m\u001b[38;5;124ma\u001b[39m\u001b[38;5;124m'\u001b[39m,\u001b[38;5;124m'\u001b[39m\u001b[38;5;124mA\u001b[39m\u001b[38;5;124m'\u001b[39m,\u001b[38;5;124m'\u001b[39m\u001b[38;5;124mg\u001b[39m\u001b[38;5;124m'\u001b[39m,\u001b[38;5;124m'\u001b[39m\u001b[38;5;124mG\u001b[39m\u001b[38;5;124m'\u001b[39m], \u001b[38;5;124m'\u001b[39m\u001b[38;5;124massert: Neteisingai nurodyta komanda!\u001b[39m\u001b[38;5;124m'\u001b[39m\n\u001b[0;32m     11\u001b[0m     n\u001b[38;5;241m=\u001b[39m\u001b[38;5;241m0\u001b[39m\n\u001b[0;32m     12\u001b[0m     \u001b[38;5;28;01mif\u001b[39;00m koks \u001b[38;5;129;01min\u001b[39;00m [\u001b[38;5;124m'\u001b[39m\u001b[38;5;124ma\u001b[39m\u001b[38;5;124m'\u001b[39m,\u001b[38;5;124m'\u001b[39m\u001b[38;5;124mA\u001b[39m\u001b[38;5;124m'\u001b[39m]:\n",
      "\u001b[1;31mAssertionError\u001b[0m: assert: Neteisingai nurodyta komanda!"
     ]
    }
   ],
   "source": [
    "# Parašykite funkciją, kuri suskaičiuotų aritmetinį arba geometrinį vidurkį iš pateiktų skaičių. \n",
    "# Pateikiamų skaičių kiekis neapibrėžtas. Panaudokite raktažodžius, kad nurodytumėte, kokį vidurkį reikia apskaičiuoti.\n",
    "\n",
    "# Be raktažodžio:\n",
    "# def vidurkis(koks, *skaičiai):\n",
    "\n",
    "# Su raktažodžiu:\n",
    "\n",
    "def vidurkis(*skaičiai, koks='a'):\n",
    "    assert koks in ['a','A','g','G'], 'assert: Neteisingai nurodyta komanda!'\n",
    "    n=0\n",
    "    if koks in ['a','A']:\n",
    "        rez=sum(skaičiai)/len(skaičiai)\n",
    "        # suma=0\n",
    "        # for x in skaičiai:\n",
    "        #     n+=1\n",
    "        #     suma+=x\n",
    "        # rez=suma/n\n",
    "    elif koks in ['g','G']:\n",
    "        sand=1\n",
    "        for x in skaičiai:\n",
    "            n+=1\n",
    "            sand*=x\n",
    "        rez=sand**(1/n)\n",
    "    else:\n",
    "        rez='Neteisingai nurodyta komanda!'\n",
    "    return rez\n",
    "        \n",
    "print('\\nAritmetiniai:')\n",
    "print(vidurkis(1, 2, 3, koks='a'))\n",
    "print(vidurkis(77, 78, 79, 90, koks='A'))\n",
    "print(vidurkis(1, 2, 3, 4, 10))\n",
    "print('\\nGeometriniai:')\n",
    "print(vidurkis(20, 5, 10, koks='g'))\n",
    "print(vidurkis(20, 5, 10, 15, koks='G'))\n",
    "print('\\nKlaida:')\n",
    "print(vidurkis(20, 5, 10, koks='z'))"
   ]
  },
  {
   "cell_type": "code",
   "execution_count": 24,
   "metadata": {},
   "outputs": [
    {
     "name": "stdout",
     "output_type": "stream",
     "text": [
      "-5.0\n",
      "-10.0\n",
      "-10.0\n",
      "-3.981\n"
     ]
    }
   ],
   "source": [
    "# Parašykite funkciją, kuri galėtų ištraukti nurodyto laipsnio šaknį iš nurodyto skaičiaus.\n",
    "# Su assert užtikrinkite, jog jei nurodoma lyginio laipsnio šaknis, tai skaičius (iš kurio traukiama šaknis) turi būti teigiamas, \n",
    "# kitu atveju rodykite AssertionError klaidą.\n",
    "# Jei Python ** operatorius grąžina menamus skaičius, panaudoti abs() funkciją.\n",
    "\n",
    "def šaknis(skaičius, laipsnis=2):\n",
    "    assert ( laipsnis % 2 )or( skaičius > 0 ), 'Assert klaida'\n",
    "    rez=skaičius**(1/laipsnis)\n",
    "    if skaičius<0:\n",
    "        rez=-round(abs(rez),3)\n",
    "    else:\n",
    "        rez=-round(rez,3)\n",
    "    return rez\n",
    "\n",
    "print(šaknis(25))\n",
    "print(šaknis(100))\n",
    "print(šaknis(1000,3))\n",
    "print(šaknis(-1000,5))\n",
    "# print(šaknis(-1000,4)) # Klaidos apdorojimas.\n"
   ]
  },
  {
   "cell_type": "code",
   "execution_count": 29,
   "metadata": {},
   "outputs": [
    {
     "name": "stdout",
     "output_type": "stream",
     "text": [
      "25\n",
      "49\n"
     ]
    }
   ],
   "source": [
    "def f1(x):\n",
    "    return x*x\n",
    "\n",
    "f2  = lambda x: x*x\n",
    "\n",
    "print(f1(5))\n",
    "print(f2(7))"
   ]
  },
  {
   "cell_type": "code",
   "execution_count": 31,
   "metadata": {},
   "outputs": [
    {
     "name": "stdout",
     "output_type": "stream",
     "text": [
      "[1, 4, 16, 64, 256, 1024, 4096, 16384, 65536, 262144]\n",
      "[1, 4, 16, 64, 256, 1024, 4096, 16384, 65536, 262144]\n"
     ]
    }
   ],
   "source": [
    "lst=[1,2,4,8,16,32,64,128,256,512]\n",
    "\n",
    "ats1=list(map(f1,lst))\n",
    "print(ats1)\n",
    "\n",
    "ats2=list(map(f2,lst))\n",
    "print(ats2)\n"
   ]
  },
  {
   "cell_type": "code",
   "execution_count": 60,
   "metadata": {},
   "outputs": [
    {
     "name": "stdout",
     "output_type": "stream",
     "text": [
      "10 :  Buzz\n",
      "15 :  FizzBuzz\n",
      "27 :  Fizz\n",
      "77 :  77\n"
     ]
    }
   ],
   "source": [
    "# parašyti programą 'FizzBuzz'. Įvedus skaičių, kuris dalinasi iš 3, \n",
    "# spausdinamas žodis \"Fizz\", jei dalinasi iš 5 - \"Buzz\", \n",
    "# jei dalinasi ir iš 3 ir iš 5 - \"FizzBuzz\". \n",
    "# Jei nesidalina nei iš 3, nei iš 5 - spausdinamas įvestas skaičius.\n",
    "\n",
    "def FizzBuzz( a ):\n",
    "    print(a,': ',('Fizz' if not(a%3) else '' )+( 'Buzz' if not(a%5) else '' )+( str(a) if a%3 and a%5 else '' ))\n",
    "\n",
    "FizzBuzz( 10 )\n",
    "FizzBuzz( 15 )\n",
    "FizzBuzz( 27 )\n",
    "FizzBuzz( 77 )"
   ]
  },
  {
   "cell_type": "code",
   "execution_count": 65,
   "metadata": {},
   "outputs": [
    {
     "name": "stdout",
     "output_type": "stream",
     "text": [
      "[37, 1, 7, 8, 36, 35, 6, 23, 10, 14, 30, 10, 47, 37, 5, 23, 9, 6, 41, 30]\n",
      "[50653, 1, 343, 'Lyginis', 'Lyginis', 42875, 'Lyginis', 12167, 'Lyginis', 'Lyginis', 'Lyginis', 'Lyginis', 103823, 50653, 125, 12167, 729, 'Lyginis', 68921, 'Lyginis']\n",
      "['37', '1', '7', '8', 'Fizz', 'Buzz', 'Fizz', '23', 'Buzz', '14', 'FizzBuzz', 'Buzz', '47', '37', 'Buzz', '23', 'Fizz', 'Fizz', '41', 'FizzBuzz']\n"
     ]
    }
   ],
   "source": [
    "import random\n",
    "r = [random.randint(1,47) for i in range(20)]\n",
    "print(r)\n",
    "# Sugeneruoti sąrašą, kur vieto lyginių skaičių būtų žodis 'Lyginis', o vietoj nelyginių - tas pats nelyginis, pakeltas kubu.\n",
    "\n",
    "print(list(map( lambda x: x*x*x if x % 2 else 'Lyginis', r)))\n",
    "\n",
    "# tas pats skaičių sąrašas r.\n",
    "# Sugeneruokite naują sąrašą, kuriame būtų vietoj skaičių žodžiai Fizz, Buzz, FizzBuzz arba pats skaičius, pagal FizzBuzz užduoties sąlygas \n",
    "# (dalus iš 3jų, 5kių, iš 3jų ir iš 5kių, nedalus)\n",
    "\n",
    "fizbuz=lambda a: ('Fizz' if not(a%3) else '' )+( 'Buzz' if not(a%5) else '' )+( str(a) if a%3 and a%5 else '' )\n",
    "print(list(map( fizbuz, r)))"
   ]
  },
  {
   "cell_type": "code",
   "execution_count": 64,
   "metadata": {},
   "outputs": [
    {
     "name": "stdout",
     "output_type": "stream",
     "text": [
      "[47, 9, 1, 30, 27, 32, 32, 43, 42, 16, 11, 45, 22, 21, 16, 23, 32, 11, 41, 41]\n",
      "9\n",
      "[5.222222222222222, 1.0, 0.1111111111111111, 3.3333333333333335, 3.0, 3.5555555555555554, 3.5555555555555554, 4.777777777777778, 4.666666666666667, 1.7777777777777777, 1.2222222222222223, 5.0, 2.4444444444444446, 2.3333333333333335, 1.7777777777777777, 2.5555555555555554, 3.5555555555555554, 1.2222222222222223, 4.555555555555555, 4.555555555555555]\n",
      "[423, 81, 9, 270, 243, 288, 288, 387, 378, 144, 99, 405, 198, 189, 144, 207, 288, 99, 369, 369]\n",
      "[5.188888888888889, 0.9666666666666666, 0.07777777777777778, 3.3, 2.966666666666667, 3.522222222222222, 3.522222222222222, 4.7444444444444445, 4.633333333333334, 1.7444444444444445, 1.1888888888888889, 4.966666666666667, 2.411111111111111, 2.3, 1.7444444444444445, 2.522222222222222, 3.522222222222222, 1.1888888888888889, 4.522222222222222, 4.522222222222222]\n"
     ]
    }
   ],
   "source": [
    "import random\n",
    "r = [random.randint(1,47) for i in range(20)]\n",
    "a = random.randint(2,9)\n",
    "\n",
    "# Paklauskite vartotojo skaičiaus, ir sugenerukite tris sąrašus: \n",
    "# l padalintas iš skaičiuaus, padaugintas iš skaičiaus, ir (l-0.3)/skaičius\n",
    "\n",
    "print(r)\n",
    "print(a)\n",
    "print(list(map( lambda x: x/a, r)))\n",
    "print(list(map( lambda x: x*a, r)))\n",
    "print(list(map( lambda x: (x-0.3)/a, r)))\n"
   ]
  }
 ],
 "metadata": {
  "kernelspec": {
   "display_name": "Python 3",
   "language": "python",
   "name": "python3"
  },
  "language_info": {
   "codemirror_mode": {
    "name": "ipython",
    "version": 3
   },
   "file_extension": ".py",
   "mimetype": "text/x-python",
   "name": "python",
   "nbconvert_exporter": "python",
   "pygments_lexer": "ipython3",
   "version": "3.12.4"
  }
 },
 "nbformat": 4,
 "nbformat_minor": 2
}
