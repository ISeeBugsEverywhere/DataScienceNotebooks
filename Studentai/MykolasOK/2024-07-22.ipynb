{
 "cells": [
  {
   "cell_type": "code",
   "execution_count": 1,
   "metadata": {},
   "outputs": [
    {
     "name": "stdout",
     "output_type": "stream",
     "text": [
      "2024-07-22\n",
      "12 paskaita\n",
      "„Datos“\n"
     ]
    }
   ],
   "source": [
    "import datetime\n",
    "\n",
    "print('2024-07-22\\n12 paskaita\\n„Datos“')"
   ]
  },
  {
   "cell_type": "code",
   "execution_count": 16,
   "metadata": {},
   "outputs": [
    {
     "name": "stdout",
     "output_type": "stream",
     "text": [
      "2024-07-22 19:09:27\n",
      "2024-07-22 20:53:43.708260\n",
      "1:44:16.708260\n",
      "6256.70826\n"
     ]
    }
   ],
   "source": [
    "dt_str = '2024-07-22 19:09:27'\n",
    "date = datetime.datetime.strptime(dt_str, '%Y-%m-%d %H:%M:%S')\n",
    "dabar = datetime.datetime.now()\n",
    "print(date)\n",
    "print(dabar)\n",
    "print(dabar-date)\n",
    "print((dabar-date).total_seconds())"
   ]
  },
  {
   "cell_type": "code",
   "execution_count": 35,
   "metadata": {},
   "outputs": [
    {
     "name": "stdout",
     "output_type": "stream",
     "text": [
      "2023-11-11 00:00:00\n",
      "2024-07-22 21:26:12.595721\n",
      "254 days, 21:26:12.595721\n",
      "6117.0 val.\n",
      "26.0 min.\n",
      "12.595720998942852 sek.\n"
     ]
    }
   ],
   "source": [
    "# paklauskite vartotojo datos - savo pasirinktu formatu. \n",
    "# Suraskite skirtumą valandomis tarp įvestos datos ir dabarties\n",
    "\n",
    "d_forma='%y %m %d'\n",
    "dt_pvz_str=input(d_forma)\n",
    "date = datetime.datetime.strptime(dt_pvz_str,d_forma)\n",
    "dabar = datetime.datetime.now()\n",
    "print(date)\n",
    "print(dabar)\n",
    "print(dabar-date)\n",
    "print((dabar-date).total_seconds()//3600,'val.')\n",
    "print((dabar-date).total_seconds()%3600//60,'min.')\n",
    "print((dabar-date).total_seconds()%60,'sek.')"
   ]
  },
  {
   "cell_type": "code",
   "execution_count": 37,
   "metadata": {},
   "outputs": [
    {
     "name": "stdout",
     "output_type": "stream",
     "text": [
      "1990-03-11 00:00:00\n",
      "2024-07-22 21:28:51.573438\n",
      "12552 days, 21:28:51.573438\n",
      "301269.0 val.\n",
      "28.0 min.\n",
      "51.57343792915344 sek.\n"
     ]
    }
   ],
   "source": [
    "# paklauskite vartotojo datos, amerikietišku formatu, mėnesio pavadinimas -\n",
    "# tekstas, abbrevated name, pirmi trys simboliai (Jan, Feb, Dec, Nov ...) - \n",
    "# raskite skirtumaą tarp įvestos datos ir dabarties\n",
    "\n",
    "d_forma='%d/%b/%y' # USA (11/mar/90)\n",
    "dt_pvz_str=input(d_forma)\n",
    "date = datetime.datetime.strptime(dt_pvz_str,d_forma)\n",
    "dabar = datetime.datetime.now()\n",
    "print(date)\n",
    "print(dabar)\n",
    "print(dabar-date)\n",
    "print((dabar-date).total_seconds()//3600,'val.')\n",
    "print((dabar-date).total_seconds()%3600//60,'min.')\n",
    "print((dabar-date).total_seconds()%60,'sek.')"
   ]
  },
  {
   "cell_type": "code",
   "execution_count": 44,
   "metadata": {},
   "outputs": [
    {
     "name": "stdout",
     "output_type": "stream",
     "text": [
      "2004-06-01 39.05\n"
     ]
    }
   ],
   "source": [
    "# Turite failą BrentOilPrices.csv\n",
    "# Parašykite funkciją, kuri grąžintų naftos kainą nurodytą dieną.\n",
    "# Diena nurodoma vartotojo, su input()\n",
    "# Jūsų pasirinktu formatu.\n",
    "# Jei įvestos datos neišeina rasti - funkcija grąžina -42\n",
    "# Redaguoju dėstytojo versiją:\n",
    "\n",
    "fn = '../../DATA/BrentOilPrices.csv'\n",
    "f = open(fn,mode='r',encoding='utf-8')\n",
    "t = f.readlines()\n",
    "f.close()\n",
    "\n",
    "def getPriceAtDate(data, t):\n",
    "    d = -42\n",
    "    p = -42\n",
    "    for line in t:\n",
    "        dt, pt = line.split(',')\n",
    "        dt = datetime.datetime.strptime(dt, '%d-%b-%y')\n",
    "        pt = float(pt)\n",
    "        if data == dt:\n",
    "            d = dt\n",
    "            p = pt\n",
    "    return d.date(), p\n",
    "\n",
    "din = input('data (%Y-%m-%d, pvz. 2004-06-01)') # pvz. 2004-06-01\n",
    "data = datetime.datetime.strptime(din, '%Y-%m-%d')\n",
    "\n",
    "d, p = getPriceAtDate(data, t[1:])\n",
    "print(d, p)"
   ]
  },
  {
   "cell_type": "code",
   "execution_count": 2,
   "metadata": {},
   "outputs": [
    {
     "name": "stdout",
     "output_type": "stream",
     "text": [
      "2004-05-07 00:00:00 2005-03-21 00:00:00\n"
     ]
    },
    {
     "ename": "ValueError",
     "evalue": "time data 'Date' does not match format '%d-%b-%y'",
     "output_type": "error",
     "traceback": [
      "\u001b[0;31m---------------------------------------------------------------------------\u001b[0m",
      "\u001b[0;31mValueError\u001b[0m                                Traceback (most recent call last)",
      "Cell \u001b[0;32mIn[2], line 32\u001b[0m\n\u001b[1;32m     29\u001b[0m     \u001b[38;5;28mprint\u001b[39m(d)\n\u001b[1;32m     30\u001b[0m     \u001b[38;5;28mprint\u001b[39m(p)\n\u001b[0;32m---> 32\u001b[0m \u001b[43mgetPriceAtDates\u001b[49m\u001b[43m(\u001b[49m\u001b[43md1\u001b[49m\u001b[43m,\u001b[49m\u001b[43md2\u001b[49m\u001b[43m,\u001b[49m\u001b[43mt\u001b[49m\u001b[43m)\u001b[49m\n",
      "Cell \u001b[0;32mIn[2], line 23\u001b[0m, in \u001b[0;36mgetPriceAtDates\u001b[0;34m(data1, data2, t)\u001b[0m\n\u001b[1;32m     21\u001b[0m \u001b[38;5;28;01mfor\u001b[39;00m line \u001b[38;5;129;01min\u001b[39;00m t:\n\u001b[1;32m     22\u001b[0m     dt, pt \u001b[38;5;241m=\u001b[39m line\u001b[38;5;241m.\u001b[39msplit(\u001b[38;5;124m'\u001b[39m\u001b[38;5;124m,\u001b[39m\u001b[38;5;124m'\u001b[39m)\n\u001b[0;32m---> 23\u001b[0m     dt \u001b[38;5;241m=\u001b[39m \u001b[43mdatetime\u001b[49m\u001b[38;5;241;43m.\u001b[39;49m\u001b[43mdatetime\u001b[49m\u001b[38;5;241;43m.\u001b[39;49m\u001b[43mstrptime\u001b[49m\u001b[43m(\u001b[49m\u001b[43mdt\u001b[49m\u001b[43m,\u001b[49m\u001b[43m \u001b[49m\u001b[38;5;124;43m'\u001b[39;49m\u001b[38;5;132;43;01m%d\u001b[39;49;00m\u001b[38;5;124;43m-\u001b[39;49m\u001b[38;5;124;43m%\u001b[39;49m\u001b[38;5;124;43mb-\u001b[39;49m\u001b[38;5;124;43m%\u001b[39;49m\u001b[38;5;124;43my\u001b[39;49m\u001b[38;5;124;43m'\u001b[39;49m\u001b[43m)\u001b[49m\n\u001b[1;32m     24\u001b[0m     pt \u001b[38;5;241m=\u001b[39m \u001b[38;5;28mfloat\u001b[39m(pt)\n\u001b[1;32m     25\u001b[0m     \u001b[38;5;28;01mif\u001b[39;00m data1\u001b[38;5;241m<\u001b[39mdt\u001b[38;5;241m<\u001b[39mdata2:\n",
      "File \u001b[0;32m/usr/lib/python3.11/_strptime.py:568\u001b[0m, in \u001b[0;36m_strptime_datetime\u001b[0;34m(cls, data_string, format)\u001b[0m\n\u001b[1;32m    565\u001b[0m \u001b[38;5;28;01mdef\u001b[39;00m \u001b[38;5;21m_strptime_datetime\u001b[39m(\u001b[38;5;28mcls\u001b[39m, data_string, \u001b[38;5;28mformat\u001b[39m\u001b[38;5;241m=\u001b[39m\u001b[38;5;124m\"\u001b[39m\u001b[38;5;132;01m%a\u001b[39;00m\u001b[38;5;124m \u001b[39m\u001b[38;5;124m%\u001b[39m\u001b[38;5;124mb \u001b[39m\u001b[38;5;132;01m%d\u001b[39;00m\u001b[38;5;124m \u001b[39m\u001b[38;5;124m%\u001b[39m\u001b[38;5;124mH:\u001b[39m\u001b[38;5;124m%\u001b[39m\u001b[38;5;124mM:\u001b[39m\u001b[38;5;124m%\u001b[39m\u001b[38;5;124mS \u001b[39m\u001b[38;5;124m%\u001b[39m\u001b[38;5;124mY\u001b[39m\u001b[38;5;124m\"\u001b[39m):\n\u001b[1;32m    566\u001b[0m \u001b[38;5;250m    \u001b[39m\u001b[38;5;124;03m\"\"\"Return a class cls instance based on the input string and the\u001b[39;00m\n\u001b[1;32m    567\u001b[0m \u001b[38;5;124;03m    format string.\"\"\"\u001b[39;00m\n\u001b[0;32m--> 568\u001b[0m     tt, fraction, gmtoff_fraction \u001b[38;5;241m=\u001b[39m \u001b[43m_strptime\u001b[49m\u001b[43m(\u001b[49m\u001b[43mdata_string\u001b[49m\u001b[43m,\u001b[49m\u001b[43m \u001b[49m\u001b[38;5;28;43mformat\u001b[39;49m\u001b[43m)\u001b[49m\n\u001b[1;32m    569\u001b[0m     tzname, gmtoff \u001b[38;5;241m=\u001b[39m tt[\u001b[38;5;241m-\u001b[39m\u001b[38;5;241m2\u001b[39m:]\n\u001b[1;32m    570\u001b[0m     args \u001b[38;5;241m=\u001b[39m tt[:\u001b[38;5;241m6\u001b[39m] \u001b[38;5;241m+\u001b[39m (fraction,)\n",
      "File \u001b[0;32m/usr/lib/python3.11/_strptime.py:349\u001b[0m, in \u001b[0;36m_strptime\u001b[0;34m(data_string, format)\u001b[0m\n\u001b[1;32m    347\u001b[0m found \u001b[38;5;241m=\u001b[39m format_regex\u001b[38;5;241m.\u001b[39mmatch(data_string)\n\u001b[1;32m    348\u001b[0m \u001b[38;5;28;01mif\u001b[39;00m \u001b[38;5;129;01mnot\u001b[39;00m found:\n\u001b[0;32m--> 349\u001b[0m     \u001b[38;5;28;01mraise\u001b[39;00m \u001b[38;5;167;01mValueError\u001b[39;00m(\u001b[38;5;124m\"\u001b[39m\u001b[38;5;124mtime data \u001b[39m\u001b[38;5;132;01m%r\u001b[39;00m\u001b[38;5;124m does not match format \u001b[39m\u001b[38;5;132;01m%r\u001b[39;00m\u001b[38;5;124m\"\u001b[39m \u001b[38;5;241m%\u001b[39m\n\u001b[1;32m    350\u001b[0m                      (data_string, \u001b[38;5;28mformat\u001b[39m))\n\u001b[1;32m    351\u001b[0m \u001b[38;5;28;01mif\u001b[39;00m \u001b[38;5;28mlen\u001b[39m(data_string) \u001b[38;5;241m!=\u001b[39m found\u001b[38;5;241m.\u001b[39mend():\n\u001b[1;32m    352\u001b[0m     \u001b[38;5;28;01mraise\u001b[39;00m \u001b[38;5;167;01mValueError\u001b[39;00m(\u001b[38;5;124m\"\u001b[39m\u001b[38;5;124munconverted data remains: \u001b[39m\u001b[38;5;132;01m%s\u001b[39;00m\u001b[38;5;124m\"\u001b[39m \u001b[38;5;241m%\u001b[39m\n\u001b[1;32m    353\u001b[0m                       data_string[found\u001b[38;5;241m.\u001b[39mend():])\n",
      "\u001b[0;31mValueError\u001b[0m: time data 'Date' does not match format '%d-%b-%y'"
     ]
    }
   ],
   "source": [
    "# NEBAIGTA\n",
    "\n",
    "# Parašykite funkciją, kuri grąžintų datas ir kainas iš \n",
    "# nurodyto intervalo, kaip du atskirus sąrašus.\n",
    "# intervalą nurodo vartotojas:\n",
    "# pvz, įvedus 07/May/04 ir 21/Mar/05 grąžintų sąrašą datų ir kainų tarp 2004-05-07 ir 2005-03-21\n",
    "\n",
    "d_forma='%Y-%m-%d' # USA (11/mar/90)\n",
    "d1 = datetime.datetime.strptime('2004-05-07',d_forma)\n",
    "d2 = datetime.datetime.strptime('2005-03-21',d_forma)\n",
    "print(d1,d2)\n",
    "\n",
    "fn = '../../DATA/BrentOilPrices.csv'\n",
    "f = open(fn,mode='r',encoding='utf-8')\n",
    "t = f.readlines()\n",
    "f.close()\n",
    "\n",
    "def getPriceAtDates(data1, data2, t):\n",
    "    d = []\n",
    "    p = []\n",
    "    for line in t:\n",
    "        dt, pt = line.split(',')\n",
    "        dt = datetime.datetime.strptime(dt, '%d-%b-%y')\n",
    "        pt = float(pt)\n",
    "        if data1<dt<data2:\n",
    "            d.append(dt)\n",
    "            p.append(pt)\n",
    "    # return d.date(), p\n",
    "    print(d)\n",
    "    print(p)\n",
    "\n",
    "getPriceAtDates(d1,d2,t)"
   ]
  }
 ],
 "metadata": {
  "kernelspec": {
   "display_name": "Python 3",
   "language": "python",
   "name": "python3"
  },
  "language_info": {
   "codemirror_mode": {
    "name": "ipython",
    "version": 3
   },
   "file_extension": ".py",
   "mimetype": "text/x-python",
   "name": "python",
   "nbconvert_exporter": "python",
   "pygments_lexer": "ipython3",
   "version": "3.12.3"
  }
 },
 "nbformat": 4,
 "nbformat_minor": 2
}
