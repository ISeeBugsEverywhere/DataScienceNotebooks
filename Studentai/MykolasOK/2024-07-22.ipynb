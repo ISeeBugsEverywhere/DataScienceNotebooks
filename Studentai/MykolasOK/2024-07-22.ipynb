{
 "cells": [
  {
   "cell_type": "code",
   "execution_count": 4,
   "metadata": {},
   "outputs": [
    {
     "name": "stdout",
     "output_type": "stream",
     "text": [
      "2024-07-22\n",
      "12 paskaita\n",
      "„Datos“\n"
     ]
    }
   ],
   "source": [
    "print('2024-07-22\\n12 paskaita\\n„Datos“')"
   ]
  },
  {
   "cell_type": "code",
   "execution_count": 16,
   "metadata": {},
   "outputs": [
    {
     "name": "stdout",
     "output_type": "stream",
     "text": [
      "2024-07-22 19:09:27\n",
      "2024-07-22 20:53:43.708260\n",
      "1:44:16.708260\n",
      "6256.70826\n"
     ]
    }
   ],
   "source": [
    "import datetime\n",
    "dt_str = '2024-07-22 19:09:27'\n",
    "date = datetime.datetime.strptime(dt_str, '%Y-%m-%d %H:%M:%S')\n",
    "dabar = datetime.datetime.now()\n",
    "print(date)\n",
    "print(dabar)\n",
    "print(dabar-date)\n",
    "print((dabar-date).total_seconds())"
   ]
  },
  {
   "cell_type": "code",
   "execution_count": 35,
   "metadata": {},
   "outputs": [
    {
     "name": "stdout",
     "output_type": "stream",
     "text": [
      "2023-11-11 00:00:00\n",
      "2024-07-22 21:26:12.595721\n",
      "254 days, 21:26:12.595721\n",
      "6117.0 val.\n",
      "26.0 min.\n",
      "12.595720998942852 sek.\n"
     ]
    }
   ],
   "source": [
    "# paklauskite vartotojo datos - savo pasirinktu formatu. \n",
    "# Suraskite skirtumą valandomis tarp įvestos datos ir dabarties\n",
    "\n",
    "d_forma='%y %m %d'\n",
    "dt_pvz_str=input(d_forma)\n",
    "date = datetime.datetime.strptime(dt_pvz_str,d_forma)\n",
    "dabar = datetime.datetime.now()\n",
    "print(date)\n",
    "print(dabar)\n",
    "print(dabar-date)\n",
    "print((dabar-date).total_seconds()//3600,'val.')\n",
    "print((dabar-date).total_seconds()%3600//60,'min.')\n",
    "print((dabar-date).total_seconds()%60,'sek.')"
   ]
  },
  {
   "cell_type": "code",
   "execution_count": 37,
   "metadata": {},
   "outputs": [
    {
     "name": "stdout",
     "output_type": "stream",
     "text": [
      "1990-03-11 00:00:00\n",
      "2024-07-22 21:28:51.573438\n",
      "12552 days, 21:28:51.573438\n",
      "301269.0 val.\n",
      "28.0 min.\n",
      "51.57343792915344 sek.\n"
     ]
    }
   ],
   "source": [
    "# paklauskite vartotojo datos, amerikietišku formatu, mėnesio pavadinimas -\n",
    "# tekstas, abbrevated name, pirmi trys simboliai (Jan, Feb, Dec, Nov ...) - \n",
    "# raskite skirtumaą tarp įvestos datos ir dabarties\n",
    "\n",
    "d_forma='%d/%b/%y' # USA (11/mar/90)\n",
    "dt_pvz_str=input(d_forma)\n",
    "date = datetime.datetime.strptime(dt_pvz_str,d_forma)\n",
    "dabar = datetime.datetime.now()\n",
    "print(date)\n",
    "print(dabar)\n",
    "print(dabar-date)\n",
    "print((dabar-date).total_seconds()//3600,'val.')\n",
    "print((dabar-date).total_seconds()%3600//60,'min.')\n",
    "print((dabar-date).total_seconds()%60,'sek.')"
   ]
  },
  {
   "cell_type": "code",
   "execution_count": 38,
   "metadata": {},
   "outputs": [
    {
     "ename": "FileNotFoundError",
     "evalue": "[Errno 2] No such file or directory: '../DATA/BrentOilPrices.csv'",
     "output_type": "error",
     "traceback": [
      "\u001b[0;31m---------------------------------------------------------------------------\u001b[0m",
      "\u001b[0;31mFileNotFoundError\u001b[0m                         Traceback (most recent call last)",
      "Cell \u001b[0;32mIn[38], line 8\u001b[0m\n\u001b[1;32m      1\u001b[0m \u001b[38;5;66;03m# Turite failą BrentOilPrices.csv\u001b[39;00m\n\u001b[1;32m      2\u001b[0m \u001b[38;5;66;03m# Parašykite funkciją, kuri grąžintų naftos kainą nurodytą dieną.\u001b[39;00m\n\u001b[1;32m      3\u001b[0m \u001b[38;5;66;03m# Diena nurodoma vartotojo, su input()\u001b[39;00m\n\u001b[1;32m      4\u001b[0m \u001b[38;5;66;03m# Jūsų pasirinktu formatu.\u001b[39;00m\n\u001b[1;32m      5\u001b[0m \u001b[38;5;66;03m# Jei įvestos datos neišeina rasti - funkcija grąžina -42\u001b[39;00m\n\u001b[1;32m      6\u001b[0m \u001b[38;5;66;03m# Dėstytojo versija:\u001b[39;00m\n\u001b[1;32m      7\u001b[0m fn \u001b[38;5;241m=\u001b[39m \u001b[38;5;124m'\u001b[39m\u001b[38;5;124m../DATA/BrentOilPrices.csv\u001b[39m\u001b[38;5;124m'\u001b[39m\n\u001b[0;32m----> 8\u001b[0m f \u001b[38;5;241m=\u001b[39m \u001b[38;5;28;43mopen\u001b[39;49m\u001b[43m(\u001b[49m\u001b[43mfn\u001b[49m\u001b[43m,\u001b[49m\u001b[43mmode\u001b[49m\u001b[38;5;241;43m=\u001b[39;49m\u001b[38;5;124;43m'\u001b[39;49m\u001b[38;5;124;43mr\u001b[39;49m\u001b[38;5;124;43m'\u001b[39;49m\u001b[43m,\u001b[49m\u001b[43mencoding\u001b[49m\u001b[38;5;241;43m=\u001b[39;49m\u001b[38;5;124;43m'\u001b[39;49m\u001b[38;5;124;43mutf-8\u001b[39;49m\u001b[38;5;124;43m'\u001b[39;49m\u001b[43m)\u001b[49m\n\u001b[1;32m      9\u001b[0m t \u001b[38;5;241m=\u001b[39m f\u001b[38;5;241m.\u001b[39mreadlines()\n\u001b[1;32m     10\u001b[0m f\u001b[38;5;241m.\u001b[39mclose()\n",
      "File \u001b[0;32m~/.local/lib/python3.11/site-packages/IPython/core/interactiveshell.py:324\u001b[0m, in \u001b[0;36m_modified_open\u001b[0;34m(file, *args, **kwargs)\u001b[0m\n\u001b[1;32m    317\u001b[0m \u001b[38;5;28;01mif\u001b[39;00m file \u001b[38;5;129;01min\u001b[39;00m {\u001b[38;5;241m0\u001b[39m, \u001b[38;5;241m1\u001b[39m, \u001b[38;5;241m2\u001b[39m}:\n\u001b[1;32m    318\u001b[0m     \u001b[38;5;28;01mraise\u001b[39;00m \u001b[38;5;167;01mValueError\u001b[39;00m(\n\u001b[1;32m    319\u001b[0m         \u001b[38;5;124mf\u001b[39m\u001b[38;5;124m\"\u001b[39m\u001b[38;5;124mIPython won\u001b[39m\u001b[38;5;124m'\u001b[39m\u001b[38;5;124mt let you open fd=\u001b[39m\u001b[38;5;132;01m{\u001b[39;00mfile\u001b[38;5;132;01m}\u001b[39;00m\u001b[38;5;124m by default \u001b[39m\u001b[38;5;124m\"\u001b[39m\n\u001b[1;32m    320\u001b[0m         \u001b[38;5;124m\"\u001b[39m\u001b[38;5;124mas it is likely to crash IPython. If you know what you are doing, \u001b[39m\u001b[38;5;124m\"\u001b[39m\n\u001b[1;32m    321\u001b[0m         \u001b[38;5;124m\"\u001b[39m\u001b[38;5;124myou can use builtins\u001b[39m\u001b[38;5;124m'\u001b[39m\u001b[38;5;124m open.\u001b[39m\u001b[38;5;124m\"\u001b[39m\n\u001b[1;32m    322\u001b[0m     )\n\u001b[0;32m--> 324\u001b[0m \u001b[38;5;28;01mreturn\u001b[39;00m \u001b[43mio_open\u001b[49m\u001b[43m(\u001b[49m\u001b[43mfile\u001b[49m\u001b[43m,\u001b[49m\u001b[43m \u001b[49m\u001b[38;5;241;43m*\u001b[39;49m\u001b[43margs\u001b[49m\u001b[43m,\u001b[49m\u001b[43m \u001b[49m\u001b[38;5;241;43m*\u001b[39;49m\u001b[38;5;241;43m*\u001b[39;49m\u001b[43mkwargs\u001b[49m\u001b[43m)\u001b[49m\n",
      "\u001b[0;31mFileNotFoundError\u001b[0m: [Errno 2] No such file or directory: '../DATA/BrentOilPrices.csv'"
     ]
    }
   ],
   "source": [
    "# Turite failą BrentOilPrices.csv\n",
    "# Parašykite funkciją, kuri grąžintų naftos kainą nurodytą dieną.\n",
    "# Diena nurodoma vartotojo, su input()\n",
    "# Jūsų pasirinktu formatu.\n",
    "# Jei įvestos datos neišeina rasti - funkcija grąžina -42\n",
    "# Dėstytojo versija:\n",
    "fn = '../DATA/BrentOilPrices.csv'\n",
    "f = open(fn,mode='r',encoding='utf-8')\n",
    "t = f.readlines()\n",
    "f.close()\n",
    "\n",
    "def getPriceAtDate(data, t):\n",
    "    d = -42\n",
    "    p = -42\n",
    "    for line in t:\n",
    "        dt, pt = line.split(',')\n",
    "        dt = datetime.datetime.strptime(dt, '%d-%b-%y')\n",
    "        pt = float(pt)\n",
    "        if data == dt:\n",
    "            d = dt\n",
    "            p = pt\n",
    "    return d.date(), p\n",
    "\n",
    "din = input('data?')\n",
    "data = datetime.datetime.strptime(din, '%Y-%m-%d')\n",
    "\n",
    "d, p = getPriceAtDate(data, t[1:])\n",
    "print(d, p)\n",
    "\n",
    "\n",
    "# Parašykite funkciją, kuri grąžintų datas ir kainas iš \n",
    "# nurodyto intervalo, kaip du atskirus sąrašus.\n",
    "# intervalą nurodo vartotojas:\n",
    "#  pvz, įvedus 07/May/04 ir 21/Mar/05 grąžintų sąrašą datų ir kainų tarp 2004-05-07 ir 2005-03-21"
   ]
  }
 ],
 "metadata": {
  "kernelspec": {
   "display_name": "Python 3",
   "language": "python",
   "name": "python3"
  },
  "language_info": {
   "codemirror_mode": {
    "name": "ipython",
    "version": 3
   },
   "file_extension": ".py",
   "mimetype": "text/x-python",
   "name": "python",
   "nbconvert_exporter": "python",
   "pygments_lexer": "ipython3",
   "version": "3.11.6"
  }
 },
 "nbformat": 4,
 "nbformat_minor": 2
}
