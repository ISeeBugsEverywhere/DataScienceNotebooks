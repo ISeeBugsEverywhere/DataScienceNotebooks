{
 "cells": [
  {
   "cell_type": "code",
   "execution_count": 55,
   "metadata": {},
   "outputs": [
    {
     "name": "stdout",
     "output_type": "stream",
     "text": [
      "\n",
      " Antroji paskaita. Pirmoji užduotis\n",
      "7\n",
      "16\n",
      "67\n",
      "MYKOLAS\n",
      "mykolas\n",
      "Rusija ket\n",
      "samblėjoje\n",
      "Rsj eiasadt aonrsęEB almniėeAabėoe\n",
      "tina stabdy\n",
      "8\n",
      "6\n",
      "abas rytas!\n",
      "Labas rytas\n",
      "abas rytas\n",
      "\n",
      " Antroji paskaita. Antroji ir trečioji užduotys\n",
      "588_*_778_=_457464\n",
      "588 kube yra 203297472\n",
      "Kubinė šaknis iš 588.00 yra 8.38\n",
      "778 % 588 = 190\n",
      "123456789\n",
      "56789\n"
     ]
    }
   ],
   "source": [
    "\n",
    "# x=input('Įveskite:')\n",
    "# print(x, type(x), x*7, int(x)*7)\n",
    "\n",
    "print('\\n Antroji paskaita. Pirmoji užduotis')\n",
    "vrd='Mykolas'\n",
    "pvd=\"Okulič-Kazarinas\"\n",
    "pav='Rusija ketina stabdyti savo narystę ESBO Parlamentinėje Asamblėjoje'\n",
    "lbr='Labas rytas!'\n",
    "print(len(vrd))\n",
    "print(len(pvd))\n",
    "print(len(pav))\n",
    "print(vrd.upper())\n",
    "print(vrd.lower())\n",
    "print(pav[:10])\n",
    "print(pav[-10:])\n",
    "print(pav[::2])\n",
    "print(pav[9:20])\n",
    "print(pav.count('a'))\n",
    "print(pav.find('a')+1)\n",
    "print(lbr[1:])\n",
    "print(lbr[:-1])\n",
    "print(lbr[1:-1])\n",
    "\n",
    "print('\\n Antroji paskaita. Antroji ir trečioji užduotys')\n",
    "a=input('Įveskite a:')\n",
    "b=input('Įveskite b:')\n",
    "a=int(a)\n",
    "b=int(b)\n",
    "if a>b :\n",
    "    c=a\n",
    "    a=b\n",
    "    b=c\n",
    "print(a,'*',b,'=',a*b,sep='_') # sep='\\n'\n",
    "print(\"{} kube yra {}\".format(a,a**3))\n",
    "print(\"Kubinė šaknis iš {:.2f} yra {:.2f}\".format(a,a**(1/3)))\n",
    "print(\"{} % {} = {}\".format(b,a,b%a))\n",
    "eil=input('Įveskite eil:')\n",
    "nuo=int(input('Nuo:'))\n",
    "iki=int(input('Iki:'))\n",
    "if nuo>iki :\n",
    "    tmp=iki\n",
    "    iki=nuo\n",
    "    nuo=tmp\n",
    "print(eil)\n",
    "print(eil[nuo-1:iki])\n"
   ]
  }
 ],
 "metadata": {
  "kernelspec": {
   "display_name": "Python 3",
   "language": "python",
   "name": "python3"
  },
  "language_info": {
   "codemirror_mode": {
    "name": "ipython",
    "version": 3
   },
   "file_extension": ".py",
   "mimetype": "text/x-python",
   "name": "python",
   "nbconvert_exporter": "python",
   "pygments_lexer": "ipython3",
   "version": "3.12.4"
  }
 },
 "nbformat": 4,
 "nbformat_minor": 2
}
