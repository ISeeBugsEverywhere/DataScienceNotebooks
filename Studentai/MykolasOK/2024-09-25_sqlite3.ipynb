{
 "cells": [
  {
   "cell_type": "code",
   "execution_count": 12,
   "metadata": {},
   "outputs": [
    {
     "name": "stdout",
     "output_type": "stream",
     "text": [
      "Paskaita nr. 33\n",
      "2024-09-25\n",
      "Pasiruošta 2024-09-25 19:34:28.232711\n"
     ]
    }
   ],
   "source": [
    "print('Paskaita nr. 33\\n2024-09-25')\n",
    "\n",
    "import datetime\n",
    "print('Pasiruošta',datetime.datetime.now())\n",
    "\n",
    "import mysql.connector as cnt\n",
    "import sqlite3\n",
    "\n",
    "import numpy as np\n",
    "import matplotlib.pyplot as plt\n",
    "import seaborn as sns"
   ]
  },
  {
   "cell_type": "code",
   "execution_count": null,
   "metadata": {},
   "outputs": [],
   "source": [
    "# atrinkti 10 populiariausių gamintojų iš autopliuslt, \n",
    "# pateikti tokius stulpelius - gamintojas, vidutinė kaina, vidutinė rida, vidutinis amžius, modelių kiekis. \n",
    "# Gautus rezultatus surašyti į SQLite duomebazę, pavadinimu \"Testas.db\", lentelės pavadinimas kokį sugalvosite. \n",
    "# Viską turi atlikti python kodas. \n",
    "# PANDAS NEGALIMA NAUDOTI, viską atlikite per cursor() objektus.\n",
    "\n",
    "# Bandymai:\n",
    "\n",
    "# DB = cnt.connect(\n",
    "#     host = '88.223.121.130',\n",
    "#     user='user',\n",
    "#     password='slaptazodis',\n",
    "#     port=3306,\n",
    "#     database='works'\n",
    "# )\n",
    "# C=DB.cursor()\n",
    "\n",
    "# SQLite naudojimas:\n",
    "\n",
    "# import sqlite3\n",
    "\n",
    "# sdb = sqlite3.connect('Testas.db')\n",
    "# cs = sdb.cursor()\n",
    "\n",
    "# sql = '''create table if not exists pop_auto_gamintojai\n",
    "# (\n",
    "#     name text not null,\n",
    "#     surname text not null,\n",
    "#     age integer not null,\n",
    "#     salary real not null\n",
    "# )\n",
    "# '''\n",
    "# cs.execute(sql)\n",
    "\n",
    "# sql_template = '''insert into T1 values (?,?,?,?)'''\n",
    "# data = [(\"Onynė\",\"Mažutytė\",18,1860),(\"Jonas\",\"Varnas\",28,1670),(\"Petras\",\"Repšys\",42,2760)]\n",
    "\n",
    "# cs.executemany(sql_template,data)\n",
    "# sdb.commit()"
   ]
  },
  {
   "cell_type": "code",
   "execution_count": 14,
   "metadata": {},
   "outputs": [
    {
     "name": "stdout",
     "output_type": "stream",
     "text": [
      "Paimta top 10 iš db:\n",
      "[('BMW', 10652.1, 260654.0, 15.2219, 365), ('Volkswagen', 6190.71, 237651.0, 15.7903, 310), ('Audi', 8447.67, 241376.0, 16.7665, 227), ('Mercedes-Benz', 15080.3, 261259.0, 15.1864, 177), ('Toyota', 8712.73, 201755.0, 14.6039, 154), ('Volvo', 7847.71, 278037.0, 15.3116, 138), ('Opel', 4005.84, 226788.0, 16.3209, 134), ('Ford', 5592.4, 225685.0, 14.8818, 110), ('Peugeot', 6748.5, 205881.0, 13.4103, 78), ('Skoda', 10808.3, 181196.0, 10.7703, 74)]\n"
     ]
    }
   ],
   "source": [
    "# Užduoties pirmoji dalis - duomenų gavimas:\n",
    "# atrinkti 10 populiariausių gamintojų iš autopliuslt, \n",
    "# pateikti tokius stulpelius - gamintojas, vidutinė kaina, vidutinė rida, vidutinis amžius, modelių kiekis. \n",
    "\n",
    "DB = cnt.connect(\n",
    "    host = '88.223.121.130',\n",
    "    user='user',\n",
    "    password='slaptazodis',\n",
    "    port=3306,\n",
    "    database='works'\n",
    ")\n",
    "C=DB.cursor()\n",
    "\n",
    "sql=\"\"\"\n",
    "    select\n",
    "        G, \n",
    "        cast(avg(P) as float), \n",
    "        cast(avg(R) as float), \n",
    "        cast(avg(A) as float), \n",
    "        count(*) as C \n",
    "    from (select \n",
    "        gamintojas as G, \n",
    "        cast(replace(price,' ','') as int) as P,\n",
    "        cast(replace(rida, ' ','') as int) as R, \n",
    "        2024-cast(substring(pagaminimo_data,1,4) as int) as A\n",
    "    from autopliuslt) as T1\n",
    "    group by G\n",
    "    order by C desc limit 10;\n",
    "\"\"\"\n",
    "C.execute(sql)\n",
    "ans = C.fetchall()\n",
    "\n",
    "print('Paimta top 10 iš db:')\n",
    "print(ans)\n"
   ]
  },
  {
   "cell_type": "code",
   "execution_count": 20,
   "metadata": {},
   "outputs": [],
   "source": [
    "# Užduoties antroji dalis - duomenų įrašymas:\n",
    "# Pateikti tokius stulpelius - gamintojas, vidutinė kaina, vidutinė rida, vidutinis amžius, modelių kiekis. \n",
    "# Gautus rezultatus surašyti į SQLite duomebazę, pavadinimu \"Testas.db\", lentelės pavadinimas kokį sugalvosite. \n",
    "# Viską turi atlikti python kodas. \n",
    "\n",
    "sdb = sqlite3.connect('Testas.db')\n",
    "cs = sdb.cursor()\n",
    "\n",
    "sql_table = '''\n",
    "create table if not exists top_auto\n",
    "(\n",
    "    gamintojas text not null,\n",
    "    kaina real not null,\n",
    "    rida real not null,\n",
    "    amz real not null,\n",
    "    n real not null\n",
    ")\n",
    "'''\n",
    "cs.execute(sql_table)\n",
    "\n",
    "sql_template = '''insert into top_auto values (?,?,?,?,?)'''\n",
    "cs.executemany(sql_template, ans)\n",
    "\n",
    "sdb.commit()\n",
    "sdb.close()"
   ]
  },
  {
   "cell_type": "code",
   "execution_count": null,
   "metadata": {},
   "outputs": [],
   "source": [
    "# JSON duomenų gavimas:\n",
    "\n",
    "# Eismo įvykių, įvykusių Lietuvos Respublikoje, kurių metu žuvo ir (ar) buvo sužeisti žmonės, duomenys:\n",
    "# https://data.gov.lt/datasets/509/\n",
    "\n",
    "# nuskaitykite JSON failą -  2023 metus\n",
    "\n",
    "# konvertuokite dataLaikas stulpelį į datetime\n",
    "# pd.to_datetime(df[stulpelis])\n",
    "\n",
    "# pridėkite naują stulpelį su paros laikais (rytas, vakaras ...)\n",
    "# pridėkite naują stulplelį, kur būtų tik įvykio valanda\n",
    "# Vizualizuokite, kuriuo paros laiku, kurią valandą įvyksta daugiausiai eismo įvykių\n",
    " \n",
    "# sekantiems klausimams patys sugalvojate tinkamiausias vizualizacijas\n",
    "# Vyrų ar moterų buvo daugiau, sukėlusių eismo įvykį?\n",
    "# koks vidutinis kaltininkų amžius?\n",
    "# Kokiomis baudų rūšimis buvo nubausti vyrai/moterys (administracinė, baudžiamoji) (teisenosStadijaBusena)"
   ]
  }
 ],
 "metadata": {
  "kernelspec": {
   "display_name": "Python 3",
   "language": "python",
   "name": "python3"
  },
  "language_info": {
   "codemirror_mode": {
    "name": "ipython",
    "version": 3
   },
   "file_extension": ".py",
   "mimetype": "text/x-python",
   "name": "python",
   "nbconvert_exporter": "python",
   "pygments_lexer": "ipython3",
   "version": "3.12.3"
  }
 },
 "nbformat": 4,
 "nbformat_minor": 2
}
