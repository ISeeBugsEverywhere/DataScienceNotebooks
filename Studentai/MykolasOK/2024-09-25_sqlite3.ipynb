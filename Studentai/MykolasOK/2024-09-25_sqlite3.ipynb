{
 "cells": [
  {
   "cell_type": "code",
   "execution_count": 2,
   "metadata": {},
   "outputs": [
    {
     "name": "stdout",
     "output_type": "stream",
     "text": [
      "Paskaita nr. 33\n",
      "2024-09-25\n",
      "Pasiruošta 2024-09-25 18:07:45.373326\n"
     ]
    }
   ],
   "source": [
    "print('Paskaita nr. 33\\n2024-09-25')\n",
    "\n",
    "import datetime\n",
    "print('Pasiruošta',datetime.datetime.now())\n",
    "\n",
    "import mysql.connector as cnt\n",
    "import numpy as np\n",
    "import matplotlib.pyplot as plt\n",
    "import seaborn as sns"
   ]
  },
  {
   "cell_type": "code",
   "execution_count": null,
   "metadata": {},
   "outputs": [],
   "source": [
    "# atrinkti 10 populiariausių gamintojų iš autopliuslt, \n",
    "# pateikti tokius stulpelius - gamintojas, vidutinė kaina, vidutinė rida, vidutinis amžius, modelių kiekis. \n",
    "# Gautus rezultatus surašyti į SQLite duomebazę, pavadinimu \"Testas.db\", lentelės pavadinimas kokį sugalvosite. \n",
    "# Viską turi atlikti python kodas. \n",
    "# PANDAS NEGALIMA NAUDOTI, viską atlikite per cursor() objektus.\n",
    "\n",
    "# SQLite naudojimas:\n",
    "\n",
    "import sqlite3\n",
    "\n",
    "sdb = sqlite3.connect('Testas.db')\n",
    "cs = sdb.cursor()\n",
    "\n",
    "# sql = '''create table if not exists pop_auto_gamintojai\n",
    "# (\n",
    "#     name text not null,\n",
    "#     surname text not null,\n",
    "#     age integer not null,\n",
    "#     salary real not null\n",
    "# )\n",
    "# '''\n",
    "# cs.execute(sql)\n",
    "\n",
    "# sql_template = '''insert into T1 values (?,?,?,?)'''\n",
    "# data = [(\"Onynė\",\"Mažutytė\",18,1860),(\"Jonas\",\"Varnas\",28,1670),(\"Petras\",\"Repšys\",42,2760)]\n",
    "\n",
    "# cs.executemany(sql_template,data)\n",
    "# sdb.commit()"
   ]
  }
 ],
 "metadata": {
  "kernelspec": {
   "display_name": "Python 3",
   "language": "python",
   "name": "python3"
  },
  "language_info": {
   "codemirror_mode": {
    "name": "ipython",
    "version": 3
   },
   "file_extension": ".py",
   "mimetype": "text/x-python",
   "name": "python",
   "nbconvert_exporter": "python",
   "pygments_lexer": "ipython3",
   "version": "3.12.3"
  }
 },
 "nbformat": 4,
 "nbformat_minor": 2
}
