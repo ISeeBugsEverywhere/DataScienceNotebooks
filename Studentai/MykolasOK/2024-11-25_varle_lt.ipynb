{
 "cells": [
  {
   "cell_type": "code",
   "execution_count": 2,
   "metadata": {},
   "outputs": [],
   "source": [
    "# Pradėta 2024-11-21_ObjectProperties.ipynb\n",
    "# Tęsinys. Čia 2024-11-25_varle_lt.ipynb\n",
    "\n",
    "import sqlite3\n",
    "import pandas as pd\n",
    "\n",
    "from my_lib.properties_of_1 import properties_of"
   ]
  }
 ],
 "metadata": {
  "kernelspec": {
   "display_name": "Python 3",
   "language": "python",
   "name": "python3"
  },
  "language_info": {
   "codemirror_mode": {
    "name": "ipython",
    "version": 3
   },
   "file_extension": ".py",
   "mimetype": "text/x-python",
   "name": "python",
   "nbconvert_exporter": "python",
   "pygments_lexer": "ipython3",
   "version": "3.12.3"
  }
 },
 "nbformat": 4,
 "nbformat_minor": 2
}
