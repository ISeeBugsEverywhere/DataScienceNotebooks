{
 "cells": [
  {
   "cell_type": "code",
   "execution_count": 59,
   "metadata": {},
   "outputs": [
    {
     "name": "stdout",
     "output_type": "stream",
     "text": [
      "Model: SVC()\n"
     ]
    }
   ],
   "source": [
    "from sklearn import svm\n",
    "from sklearn import datasets\n",
    "\n",
    "# Load the Iris dataset\n",
    "iris = datasets.load_iris()\n",
    "\n",
    "# X = iris.data[:, :1] # 1 feature\n",
    "X = iris.data[:, :2] # 2 features\n",
    "# X = iris.data[:, :3] # 3 features\n",
    "\n",
    "y = iris.target # Actual values\n",
    "\n",
    "# Fit the SVM model # SVM = Support Vector Machine # klasifikatorius\n",
    "model = svm.SVC(kernel='rbf') # kernel=('linear','poly','rbf','sigmoid',...)\n",
    "print( 'Model:', model.fit(X, y) )\n",
    "\n",
    "# Predict using the SVM model\n",
    "predictions = model.predict(X)\n",
    "\n",
    "# print('Actual values:\\n',y)\n",
    "# print('Predicted:\\n',predictions)"
   ]
  },
  {
   "cell_type": "code",
   "execution_count": 60,
   "metadata": {},
   "outputs": [
    {
     "name": "stdout",
     "output_type": "stream",
     "text": [
      "Accuracy of SVM (Support Vector Machine): 0.82\n"
     ]
    }
   ],
   "source": [
    "# Modelių vertinimas\n",
    "# https://www.edlitera.com/blog/posts/regression-perfomance-measures#mcetoc_1h2io7aic6\n",
    "\n",
    "# Evaluate the predictions\n",
    "print(f\"Accuracy of SVM (Support Vector Machine): {model.score(X, y):.2f}\")"
   ]
  },
  {
   "cell_type": "code",
   "execution_count": 61,
   "metadata": {},
   "outputs": [
    {
     "name": "stdout",
     "output_type": "stream",
     "text": [
      "R2 score: 0.73\n"
     ]
    }
   ],
   "source": [
    "from sklearn.metrics import r2_score\n",
    "\n",
    "print(f'R2 score: {r2_score(y, predictions):.2f}')"
   ]
  },
  {
   "cell_type": "code",
   "execution_count": 62,
   "metadata": {},
   "outputs": [
    {
     "name": "stdout",
     "output_type": "stream",
     "text": [
      " Mean Squared Error (MSE): 0.18\n",
      " Root Mean Squared Error (RMSE): 0.42\n"
     ]
    }
   ],
   "source": [
    "from sklearn.metrics import mean_squared_error\n",
    "import numpy as np\n",
    "\n",
    "mse = mean_squared_error(y, predictions)\n",
    "print(f' Mean Squared Error (MSE): {mse:.2f}')\n",
    "print(f' Root Mean Squared Error (RMSE): {np.sqrt(mse):.2f}')"
   ]
  },
  {
   "cell_type": "code",
   "execution_count": 63,
   "metadata": {},
   "outputs": [
    {
     "name": "stdout",
     "output_type": "stream",
     "text": [
      "[0 0 0 0 0 0 0 0 0 0 0 0 0 0 0 0 0 0 0 0 0 0 0 0 0 0 0 0 0 0 0 0 0 0 0 0 0\n",
      " 0 0 0 0 0 0 0 0 0 0 0 0 0 2 2 2 1 2 1 2 1 2 1 1 1 1 1 1 2 1 1 1 1 1 1 1 1\n",
      " 2 2 2 2 1 1 1 1 1 1 1 1 2 1 1 1 1 1 1 1 1 1 1 1 1 1 2 1 2 2 2 2 1 2 2 2 2\n",
      " 2 2 1 1 2 2 2 2 1 2 1 2 1 2 2 1 1 2 2 2 2 2 1 1 2 2 2 1 2 2 2 1 2 2 2 1 2\n",
      " 2 1]\n"
     ]
    }
   ],
   "source": [
    "# Modelio saugojimas (pickle)\n",
    "\n",
    "import pickle\n",
    "\n",
    "model_pickle_file = 'modelis_pickle.pkl'\n",
    "\n",
    "with open(model_pickle_file, mode='wb') as file:\n",
    "    pickle.dump(model,file)\n",
    "\n",
    "with open(model_pickle_file, mode='rb') as file:\n",
    "    loadedModel = pickle.load(file)\n",
    "\n",
    "print(loadedModel.predict(X))"
   ]
  },
  {
   "cell_type": "code",
   "execution_count": 64,
   "metadata": {},
   "outputs": [
    {
     "name": "stdout",
     "output_type": "stream",
     "text": [
      "[0 0 0 0 0 0 0 0 0 0 0 0 0 0 0 0 0 0 0 0 0 0 0 0 0 0 0 0 0 0 0 0 0 0 0 0 0\n",
      " 0 0 0 0 0 0 0 0 0 0 0 0 0 2 2 2 1 2 1 2 1 2 1 1 1 1 1 1 2 1 1 1 1 1 1 1 1\n",
      " 2 2 2 2 1 1 1 1 1 1 1 1 2 1 1 1 1 1 1 1 1 1 1 1 1 1 2 1 2 2 2 2 1 2 2 2 2\n",
      " 2 2 1 1 2 2 2 2 1 2 1 2 1 2 2 1 1 2 2 2 2 2 1 1 2 2 2 1 2 2 2 1 2 2 2 1 2\n",
      " 2 1]\n"
     ]
    }
   ],
   "source": [
    "# Modelio saugojimas (joblib)\n",
    "\n",
    "import joblib\n",
    "\n",
    "model_joblib_file = 'modelis_joblib.pkl'\n",
    "\n",
    "joblib.dump(model, model_joblib_file)\n",
    "\n",
    "loadedModel = joblib.load(model_joblib_file)\n",
    "\n",
    "print(loadedModel.predict(X))"
   ]
  },
  {
   "cell_type": "code",
   "execution_count": 1,
   "metadata": {},
   "outputs": [
    {
     "name": "stdout",
     "output_type": "stream",
     "text": [
      "c:\\Users\\Eridas\\Documents\\vilniuscoding2024\\git\\DataScienceNotebooks\\Studentai\\MykolasOK\n",
      "['2024-06-17_pretty_print_table.ipynb', '2024-06-19.ipynb', '2024-06-20_list.ipynb', '2024-06-26_dictionary.ipynb', '2024-06-27_while.ipynb', '2024-07-01_assert.ipynb', '2024-07-03_sql.ipynb', '2024-07-04_failai.ipynb', '2024-07-08_os.ipynb', '2024-07-17_time.ipynb', '2024-07-18_numpy.ipynb', '2024-07-22_datetime.ipynb', '2024-07-24.ipynb', '2024-07-25_pyplot.ipynb', '2024-07-29_BoxAndWhisker.ipynb', '2024-08-14_mysql_connector.ipynb', '2024-08-19_union.ipynb', '2024-08-21_group_concat.ipynb', '2024-08-26_SolarAnalyzer.ipynb', '2024-08-28_SolarAnalyzer.ipynb', '2024-08-29_Pandas.ipynb', '2024-09-02_read_csv.ipynb', '2024-09-04_read_sql_query.ipynb', '2024-09-05_regplot.ipynb', '2024-09-19_auto_gd_kaina.ipynb', '2024-09-23_seaborn.ipynb', '2024-09-25_sqlite3.ipynb', '2024-09-26_json.ipynb', '2024-09-30.ipynb', '2024-10-01.py', '2024-10-02_map.ipynb', '2024-10-02_streamlit.py', '2024-10-07_requests.ipynb', '2024-10-09_requests.ipynb', '2024-10-10_html_parser.ipynb', '2024-10-14_selenium_browser.ipynb', '2024-10-16_autoplius.ipynb', '2024-10-17_autoplius.ipynb', '2024-10-21_autoplius.ipynb', '2024-10-22_autoplius_txt.ipynb', '2024-10-24_class_things_with_parameters.ipynb', '2024-10-28_class_things_with_parameters.ipynb', '2024-10-30_kontrolinis_darbas.ipynb', '2024-10-31_tipai_ir_tikrinimas.ipynb', '2024-10-31_tipai_ir_tikrinimas.py', '2024-11-04_entitieswithproperties.ipynb', '2024-11-06_užduotis.ipynb', '2024-11-11_autop_atlyg_heatmap.ipynb', '2024-11-12_užduotis_autop.ipynb', '2024-11-13_2024-09-19_auto_gd_kaina.ipynb', '2024-11-13_2024-11-12_užduotis_autop.ipynb', '2024-11-13_autop.ipynb', '2024-11-13_autop_užrašai.ipynb', '2024-11-14_autop_tęsinys.ipynb', '2024-11-18_autop_tęsinys.ipynb', '2024-11-20_AdwentureWorks2022.ipynb', '2024-11-21_AdwentureWorks2022.ipynb', '2024-11-21_my_lib_test.ipynb', '2024-11-21_ObjectProperties.ipynb', '2024-11-21_properties_of.ipynb', '2024-11-25_varle_dronai.ipynb', '2024-11-27_varle_lt.ipynb', '2024-11-28_varle_lt.ipynb', '2024-12-02_varle_lt_prop_list.ipynb', '2024-12-04_varle_lt_prop_list.ipynb', '2024-12-11_varle_lt_prop_list.ipynb', '2024-12-12', '2024-12-16_machine_learning_1.ipynb', '2024-12-18_machine_learning_3.ipynb', '2024-12-18_ML_2_scikit_aruodas.ipynb', '2024-12-19_ML_auto_stat.ipynb', '2024-12-23_ML_auto_stat.ipynb', '2025-01-02_Vyno_kokybė.ipynb', '2025-01-03_Filmų_vertinimas.ipynb', '2025-01-06_orų_prognozės.ipynb', '2025-01-08_el_rinkos_prognozės.ipynb', '2025-01-13_el_rinkos_prognozės.ipynb', 'atrinkti_auto_skelbimai.db', 'auto_skelbimai.db', 'auto_skelbimai_txt.db', 'bandymai', 'csv_pyspark', 'entitieswithproperties.ipynb', 'manoFunkcijos.py', 'manoSQL', 'manotekstai', 'MD_75_el_paklausa.ipynb', 'MD_75_model_save.ipynb', 'modelis_joblib.joblib', 'modelis_joblib.pkl', 'modelis_pickle.pkl', 'Mykolas.txt', 'my_lib', 'my_scrap_working_data.db', 'my_scrap_working_data_2_id.sqbpro', 'testas.db', 'TMP_aplankas', 'TMP_aplankas_2', 'VarlePigu.db', '__init__.py']\n"
     ]
    }
   ],
   "source": [
    "import os\n",
    "print(os.getcwd())\n",
    "print(os.listdir())"
   ]
  }
 ],
 "metadata": {
  "kernelspec": {
   "display_name": "Python 3",
   "language": "python",
   "name": "python3"
  },
  "language_info": {
   "codemirror_mode": {
    "name": "ipython",
    "version": 3
   },
   "file_extension": ".py",
   "mimetype": "text/x-python",
   "name": "python",
   "nbconvert_exporter": "python",
   "pygments_lexer": "ipython3",
   "version": "3.12.4"
  }
 },
 "nbformat": 4,
 "nbformat_minor": 2
}
