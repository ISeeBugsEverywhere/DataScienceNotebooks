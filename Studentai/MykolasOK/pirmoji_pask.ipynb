{
 "cells": [
  {
   "cell_type": "code",
   "execution_count": 20,
   "metadata": {},
   "outputs": [
    {
     "name": "stdout",
     "output_type": "stream",
     "text": [
      "Labas vakaras.\n",
      "<class 'int'>\n",
      "<class 'str'>\n",
      "<class 'str'>\n",
      "115\n",
      "UŽUPIS UŽUPIS \n",
      "užupis_užupis_užupis_\n",
      "UžupisUžupisUžupisUžupis\n",
      "UUI\n",
      "užu\n",
      "PIS\n"
     ]
    }
   ],
   "source": [
    "# Pradžia.\n",
    "print('Labas vakaras.')\n",
    "a=15\n",
    "b='Užupis'\n",
    "c='100'\n",
    "print(type(a))\n",
    "print(type(b))\n",
    "print(type(c))\n",
    "print(a+int(c))\n",
    "print((b.upper()+' ')*2)\n",
    "print((b.lower()+'_')*3)\n",
    "print((b.capitalize())*4)\n",
    "print(b[::2].upper())\n",
    "print(b[:3:].lower())\n",
    "print(b[-3:].upper())"
   ]
  }
 ],
 "metadata": {
  "kernelspec": {
   "display_name": "Python 3",
   "language": "python",
   "name": "python3"
  },
  "language_info": {
   "codemirror_mode": {
    "name": "ipython",
    "version": 3
   },
   "file_extension": ".py",
   "mimetype": "text/x-python",
   "name": "python",
   "nbconvert_exporter": "python",
   "pygments_lexer": "ipython3",
   "version": "3.12.4"
  }
 },
 "nbformat": 4,
 "nbformat_minor": 2
}
