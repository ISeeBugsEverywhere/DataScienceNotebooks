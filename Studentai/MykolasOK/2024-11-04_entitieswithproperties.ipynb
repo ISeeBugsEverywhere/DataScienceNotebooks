{
 "cells": [
  {
   "cell_type": "code",
   "execution_count": 2,
   "metadata": {},
   "outputs": [
    {
     "name": "stdout",
     "output_type": "stream",
     "text": [
      "Paskaita nr. 50, 2024-11-04 „Unittest“\n",
      "Mano  darbai: entitiesWithProperties Class\n"
     ]
    }
   ],
   "source": [
    "print('Paskaita nr. 50, 2024-11-04 „Unittest“')\n",
    "print('Mano  darbai: entitiesWithProperties Class')\n",
    "\n",
    "import entitieswithproperties"
   ]
  },
  {
   "cell_type": "code",
   "execution_count": 4,
   "metadata": {},
   "outputs": [
    {
     "name": "stdout",
     "output_type": "stream",
     "text": [
      "sqlite3.connect('auto_skelbimai_txt.db')\n",
      "2024-11-04 19:59:15\n",
      "Kuriamos lentelės sqlite3 duomenųbazėje 'auto_skelbimai_txt.db'\n",
      "Atlikta: 2024-11-04 19:59:15\n"
     ]
    }
   ],
   "source": [
    "import sqlite3\n",
    "import datetime as dt\n",
    "\n",
    "db_file_name='auto_skelbimai_txt.db'\n",
    "db_connect = sqlite3.connect(db_file_name)\n",
    "cs = db_connect.cursor()\n",
    "print(f\"sqlite3.connect('{db_file_name}')\")\n",
    "print(dt.datetime.now().replace(microsecond=0))\n",
    "\n",
    "######################################################################\n",
    "print(f\"Kuriamos lentelės sqlite3 duomenųbazėje '{db_file_name}'\") ###\n",
    "######################################################################\n",
    "\n",
    "sql_create_table = '''\n",
    "create table if not exists entity\n",
    "(\n",
    "    entity_id integer primary key,\n",
    "    entity_href text,\n",
    "    create_timestamp integer,\n",
    "    update_timestamp integer\n",
    ") strict\n",
    "'''\n",
    "cs.execute(sql_create_table)\n",
    "\n",
    "sql_create_table = '''\n",
    "create table if not exists entity_property\n",
    "(\n",
    "    entity_id integer not null,\n",
    "    property_name text not null,\n",
    "    property_value text,\n",
    "    create_timestamp integer,\n",
    "    update_timestamp integer,\n",
    "    unique(entity_id,property_name)\n",
    ") strict\n",
    "'''\n",
    "cs.execute(sql_create_table)\n",
    "\n",
    "sql_create_table = '''\n",
    "create table if not exists property_category\n",
    "(\n",
    "    property_name text unique on conflict fail,\n",
    "    property_description text,\n",
    "    create_timestamp integer,\n",
    "    update_timestamp integer\n",
    ") strict\n",
    "'''\n",
    "cs.execute(sql_create_table)\n",
    "\n",
    "print('Atlikta:',dt.datetime.now().replace(microsecond=0))\n",
    "# https://www.sqlite.org/lang_createtable.html"
   ]
  },
  {
   "cell_type": "code",
   "execution_count": 5,
   "metadata": {},
   "outputs": [
    {
     "name": "stdout",
     "output_type": "stream",
     "text": [
      "Perrašau lentelę į naują db\n",
      "Dabar: 1730747945 2024-11-04 21:19:05\n",
      "Perskaityta 1000 įrašų.\n"
     ]
    }
   ],
   "source": [
    "import sqlite3\n",
    "import datetime as dt\n",
    "\n",
    "######################################################################\n",
    "print('Perrašau lentelę į naują db')  ################################\n",
    "######################################################################\n",
    "\n",
    "sena_db = sqlite3.connect('Testas.db')\n",
    "sena_cs = sena_db.cursor()\n",
    "\n",
    "dabar=int(dt.datetime.today().timestamp()) # now(), today()\n",
    "print('Dabar:',dabar,dt.datetime.fromtimestamp(dabar))\n",
    "\n",
    "eilutės=[]\n",
    "sena_cs.execute('select * from auto_skelbimai') # limit 9\n",
    "for rezultatas in sena_cs.fetchall():\n",
    "    eilutė=list(rezultatas)\n",
    "    eilutė.append(dabar) \n",
    "    eilutė.append(dabar) \n",
    "    # print(eilutė)\n",
    "    eilutės.append(eilutė)\n",
    "\n",
    "sena_db.close()\n",
    "print(f\"Perskaityta {len(eilutės)} įrašų.\")\n",
    "\n",
    "nauja_db = sqlite3.connect(db_file_name) # current\n",
    "nauja_cs = nauja_db.cursor()\n",
    "\n",
    "sql_template='''INSERT OR REPLACE into entity (entity_id,entity_href,create_timestamp,update_timestamp) values (?,?,?,?)'''\n",
    "nauja_cs.executemany(sql_template,eilutės)\n",
    "\n",
    "nauja_db.commit()\n",
    "nauja_db.close()"
   ]
  }
 ],
 "metadata": {
  "kernelspec": {
   "display_name": "Python 3",
   "language": "python",
   "name": "python3"
  },
  "language_info": {
   "codemirror_mode": {
    "name": "ipython",
    "version": 3
   },
   "file_extension": ".py",
   "mimetype": "text/x-python",
   "name": "python",
   "nbconvert_exporter": "python",
   "pygments_lexer": "ipython3",
   "version": "3.12.3"
  }
 },
 "nbformat": 4,
 "nbformat_minor": 2
}
