{
 "cells": [
  {
   "cell_type": "code",
   "execution_count": 1,
   "metadata": {},
   "outputs": [
    {
     "name": "stdout",
     "output_type": "stream",
     "text": [
      "['b2b_gv_vartojimas.xlsx', 'b2b_ngv_vartojimas.xlsx', 'b2c_gv_vartojimas.xlsx', 'b2c_ngv_vartojimas.xlsx', 'REGRESIJOS.pdf', 'Uzduotis.txt']\n",
      "75 paskaita. Pasiruošta 2025-01-09 18:31:51\n"
     ]
    }
   ],
   "source": [
    "from datetime import datetime as dt\n",
    "from os import listdir\n",
    "import pandas as pd\n",
    "import numpy as np\n",
    "\n",
    "data_dir=\"../../../duomenys/elektros_paklausa/\"; # print(listdir(csv_dir))\n",
    "data_files=['b2b_gv_vartojimas.xlsx', 'b2c_gv_vartojimas.xlsx', 'b2c_ngv_vartojimas.xlsx', 'b2b_ngv_vartojimas.xlsx']\n",
    "date_cols=['data_valanda', 'dateTime', 'dateTime', 'data_valanda']\n",
    "\n",
    "print(listdir(data_dir))\n",
    "\n",
    "print('75 paskaita. Pasiruošta',dt.now().replace(microsecond=0))"
   ]
  },
  {
   "cell_type": "code",
   "execution_count": null,
   "metadata": {},
   "outputs": [
    {
     "name": "stdout",
     "output_type": "stream",
     "text": [
      "Duomenys iš failų įkeliami į DF listą.\n",
      "../../../duomenys/elektros_paklausa/b2b_gv_vartojimas.xlsx įkelta 8760 įr.\n",
      "../../../duomenys/elektros_paklausa/b2c_gv_vartojimas.xlsx įkelta 2185 įr.\n",
      "../../../duomenys/elektros_paklausa/b2c_ngv_vartojimas.xlsx įkelta 2185 įr.\n",
      "../../../duomenys/elektros_paklausa/b2b_ngv_vartojimas.xlsx įkelta 8760 įr.\n"
     ]
    }
   ],
   "source": [
    "print(\"Duomenys iš failų įkeliami į 'df_list[]'. \",dt.now().replace(microsecond=0))\n",
    "\n",
    "final_df = pd.DataFrame()\n",
    "df_list = []\n",
    "\n",
    "# for index, file in enumerate(data_files):\n",
    "    \n",
    "for file in data_files:\n",
    "    print(f'{data_dir}{file}',end=' ')\n",
    "    day_df = pd.read_excel(f'{data_dir}{file}')\n",
    "    # day_df['datetime'] = pd.to_datetime(day_df[[date_cols[index]]])\n",
    "    # day_df['hour'] = day_df['datetime'].dt.hour\n",
    "    # day_df['cos_hour'] = np.cos(2 * np.pi * day_df['hour'] % 24 / 24)\n",
    "    \n",
    "    df_list.append(day_df)\n",
    "    # day_df = day_df[['hour', 'cos_hour', 'air_temperature']]  # Pasirenkame reikiamus stulpelius\n",
    "    # final_df = pd.concat([final_df, day_df], ignore_index=True)\n",
    "    \n",
    "    print(f'įkelta {len(day_df)} įr.')\n",
    "    # print(day_df.head(1))"
   ]
  },
  {
   "cell_type": "code",
   "execution_count": null,
   "metadata": {},
   "outputs": [
    {
     "name": "stdout",
     "output_type": "stream",
     "text": [
      "Tvarkomi datų įrašai, pridedami valandų ir cos() stulpeliai\n",
      "(Nekartojama, nes ištrina originsalius datos stulpelius)\n",
      "     0    1     2      3    4    5       6       7       8      9  ...  756  \\\n",
      "0  0.0  0.0  4.68  0.001  0.0  0.0  1.7159  1.9334  1.4671  0.986  ...  0.0   \n",
      "\n",
      "   757     758   759     760     761    762   datetime  hour  cos_hour  \n",
      "0  0.0  5.9883  91.9  0.3135  6.9318  2.831 2022-11-01     0       1.0  \n",
      "\n",
      "[1 rows x 766 columns]\n",
      "       0      1      2      3      4      5      6     7      8      9  ...  \\\n",
      "0  1.128  0.301  0.078  0.083  0.306  0.239  0.666  1.05  0.284  1.455  ...   \n",
      "\n",
      "   1043  1044  1045  1046  1047  1048  1049   datetime  hour  cos_hour  \n",
      "0   0.0   0.0   0.0   0.0   0.0   0.0   0.0 2023-08-01     0       1.0  \n",
      "\n",
      "[1 rows x 1053 columns]\n",
      "       0      1      2     3      4      5      6      7      8      9  ...  \\\n",
      "0  0.117  0.103  0.041  0.07  0.126  0.048  0.131  0.171  0.347  0.185  ...   \n",
      "\n",
      "   1019  1020  1021  1022  1023  1024  1025   datetime  hour  cos_hour  \n",
      "0   0.0   0.0   0.0   0.0   0.0   0.0   0.0 2023-08-01     0       1.0  \n",
      "\n",
      "[1 rows x 1029 columns]\n",
      "     0  1      2      3    4    5      6      7    8      9  ...  792  793  \\\n",
      "0  0.0  0  0.014  0.018  0.0  0.0  0.014  0.049  0.0  2.429  ...  0.0  0.0   \n",
      "\n",
      "   794  795    796  797    798   datetime  hour  cos_hour  \n",
      "0  0.0  0.0  0.071  0.0  0.459 2022-11-01     0       1.0  \n",
      "\n",
      "[1 rows x 802 columns]\n"
     ]
    }
   ],
   "source": [
    "print('Tvarkomi datų įrašai, pridedami valandų, cos(), sav. d. stulpeliai')\n",
    "print('(Nekartojama, nes ištrina originalius datos stulpelius)')\n",
    "print()\n",
    "\n",
    "for index, df in enumerate(df_list):\n",
    "    # print(date_cols[index])\n",
    "\n",
    "    df['datetime'] = pd.to_datetime(df[date_cols[index]])\n",
    "    del df[date_cols[index]]\n",
    "\n",
    "    df.dropna(subset=['datetime'], inplace=True)  # Pašaliname 'NaN' iš 'datetime'\n",
    "    df.set_index('datetime', inplace=True, verify_integrity=True)  # Nustatome indeksą\n",
    "\n",
    "    # df['hour'] = df['datetime'].dt.hour\n",
    "    # df['weekday'] = df['datetime'].dt.weekday\n",
    "    # df['cos_hour'] = np.cos(2 * np.pi * df['hour'] % 24 / 24)\n",
    "    \n",
    "    print(df.head(1)) \n"
   ]
  },
  {
   "cell_type": "code",
   "execution_count": 9,
   "metadata": {},
   "outputs": [
    {
     "name": "stdout",
     "output_type": "stream",
     "text": [
      "Išvedame pirmąsias ir paskutininiasias eilutes.\n",
      "Tai padės pasirinkti datų ijtervalą tolesniame žingsnyje.\n",
      "\n",
      "0   2022-11-01 00:00:00\n",
      "1   2022-11-01 01:00:00\n",
      "Name: datetime, dtype: datetime64[ns]\n",
      "8758   2023-10-31 23:00:00\n",
      "8759   2023-11-01 00:00:00\n",
      "Name: datetime, dtype: datetime64[ns]\n",
      "\n",
      "0   2023-08-01 00:00:00\n",
      "1   2023-08-01 01:00:00\n",
      "Name: datetime, dtype: datetime64[ns]\n",
      "2183   2023-10-30 23:00:00\n",
      "2184   2023-10-31 00:00:00\n",
      "Name: datetime, dtype: datetime64[ns]\n",
      "\n",
      "0   2023-08-01 00:00:00\n",
      "1   2023-08-01 01:00:00\n",
      "Name: datetime, dtype: datetime64[ns]\n",
      "2183   2023-10-30 23:00:00\n",
      "2184   2023-10-31 00:00:00\n",
      "Name: datetime, dtype: datetime64[ns]\n",
      "\n",
      "0   2022-11-01 00:00:00\n",
      "1   2022-11-01 01:00:00\n",
      "Name: datetime, dtype: datetime64[ns]\n",
      "8758   2023-10-31 23:00:00\n",
      "8759   2023-11-01 00:00:00\n",
      "Name: datetime, dtype: datetime64[ns]\n",
      "\n"
     ]
    }
   ],
   "source": [
    "print('Išvedame pirmąsias ir paskutininiasias eilutes.')\n",
    "print('Tai padės pasirinkti datų intervalą tolesniame žingsnyje.')\n",
    "\n",
    "for df in df_list:\n",
    "    print(df['datetime'].head(2))\n",
    "    print(df['datetime'].tail(2))\n",
    "    print()\n",
    "print()"
   ]
  },
  {
   "cell_type": "code",
   "execution_count": 23,
   "metadata": {},
   "outputs": [],
   "source": [
    "# Apmokymui naudosime šio intervalo duomenis:\n",
    "start_date = '2023-09-01'\n",
    "end_date = '2023-10-30'\n",
    "\n",
    "# Atrenkame iš nurodyto datos intervalo:\n",
    "filtered_dfs = []\n",
    "for index, df in enumerate(df_list):\n",
    "    \n",
    "    # Visus skaičius ir str verčiu pd.to_numeric.\n",
    "    df.loc[:, df.select_dtypes(include=['number', 'object']).columns] = df.select_dtypes(include=['number', 'object']).apply(pd.to_numeric, errors='coerce')\n",
    "\n",
    "    filtered_dfs.append(df[( start_date <= df['datetime'] )&( df['datetime'] <= end_date )])\n",
    "\n",
    "# Apjungiame pagal 'datetime' stulpelį\n",
    "result = pd.concat(filtered_dfs, axis=1)"
   ]
  },
  {
   "cell_type": "code",
   "execution_count": 24,
   "metadata": {},
   "outputs": [
    {
     "name": "stdout",
     "output_type": "stream",
     "text": [
      "Stulperlių sumos statistinė suvestinė\n",
      "count     2834.000000\n",
      "mean      4417.689598\n",
      "std       4805.518969\n",
      "min         17.029600\n",
      "25%        135.989525\n",
      "50%       1451.608046\n",
      "75%       7891.396684\n",
      "max      20177.368931\n",
      "Name: sum, dtype: float64\n"
     ]
    }
   ],
   "source": [
    "# Pašaliname pasikartojančius 'datetime' stulpelius\n",
    "result = result.loc[:, ~result.columns.duplicated()]\n",
    "\n",
    "result = result.dropna(axis=1, how='all')\n",
    "\n",
    "result['sum'] = result.select_dtypes(include='number').sum(axis=1)\n",
    "\n",
    "print('Stulperlių sumos statistinė suvestinė')\n",
    "print(result['sum'].describe())"
   ]
  },
  {
   "cell_type": "code",
   "execution_count": 25,
   "metadata": {},
   "outputs": [
    {
     "name": "stdout",
     "output_type": "stream",
     "text": [
      "        0    1      2      3      4      5       6       7      8      9  ...  \\\n",
      "7295  0.0  0.0  1.303  0.002  0.137  0.056  0.9013  0.1798  0.221  1.094  ...   \n",
      "7296  0.0  0.0  0.971  0.000  0.187  0.047  0.2362  0.1789  0.294  1.092  ...   \n",
      "7297  0.0  0.0  1.195  0.001  0.060  0.054  0.7219  0.1784  0.276  1.089  ...   \n",
      "7298  0.0  0.0  1.113  0.000  0.063  0.060  0.2230  0.1780  0.217  1.084  ...   \n",
      "7299  0.0  0.0  1.107  0.001  0.052  0.060  0.7469  0.2413  0.271  1.100  ...   \n",
      "...   ...  ...    ...    ...    ...    ...     ...     ...    ...    ...  ...   \n",
      "2156  NaN  NaN    NaN    NaN    NaN    NaN     NaN     NaN    NaN    NaN  ...   \n",
      "2157  NaN  NaN    NaN    NaN    NaN    NaN     NaN     NaN    NaN    NaN  ...   \n",
      "2158  NaN  NaN    NaN    NaN    NaN    NaN     NaN     NaN    NaN    NaN  ...   \n",
      "2159  NaN  NaN    NaN    NaN    NaN    NaN     NaN     NaN    NaN    NaN  ...   \n",
      "2160  NaN  NaN    NaN    NaN    NaN    NaN     NaN     NaN    NaN    NaN  ...   \n",
      "\n",
      "       1041   1042   1043   1044   1045   1046   1047   1048   1049  \\\n",
      "7295    NaN    NaN    NaN    NaN    NaN    NaN    NaN    NaN    NaN   \n",
      "7296    NaN    NaN    NaN    NaN    NaN    NaN    NaN    NaN    NaN   \n",
      "7297    NaN    NaN    NaN    NaN    NaN    NaN    NaN    NaN    NaN   \n",
      "7298    NaN    NaN    NaN    NaN    NaN    NaN    NaN    NaN    NaN   \n",
      "7299    NaN    NaN    NaN    NaN    NaN    NaN    NaN    NaN    NaN   \n",
      "...     ...    ...    ...    ...    ...    ...    ...    ...    ...   \n",
      "2156  0.444  0.785  0.721  0.583  0.391  0.493  0.282  1.142  0.247   \n",
      "2157  0.355  0.119  0.781  1.688  0.308  0.374  0.254  0.302  0.504   \n",
      "2158  0.221  0.108  0.723  0.910  0.098  0.397  0.294  0.196  0.273   \n",
      "2159  0.203  0.103  1.943  0.182  0.083  0.560  0.306  0.283  0.077   \n",
      "2160  0.375  0.102  0.274  0.750  0.140  0.547  0.211  0.328  0.066   \n",
      "\n",
      "              sum  \n",
      "7295  7528.173681  \n",
      "7296  7416.262007  \n",
      "7297  7267.504706  \n",
      "7298  7351.287704  \n",
      "7299  7413.319767  \n",
      "...           ...  \n",
      "2156   341.754500  \n",
      "2157   291.764300  \n",
      "2158   240.819600  \n",
      "2159   208.946400  \n",
      "2160   204.683500  \n",
      "\n",
      "[2834 rows x 1054 columns]\n"
     ]
    }
   ],
   "source": [
    "print(result)"
   ]
  },
  {
   "cell_type": "code",
   "execution_count": 29,
   "metadata": {},
   "outputs": [
    {
     "name": "stdout",
     "output_type": "stream",
     "text": [
      "                datetime          sum\n",
      "7295 2023-09-01 00:00:00  7528.173681\n",
      "7296 2023-09-01 01:00:00  7416.262007\n",
      "\n",
      "     datetime       sum\n",
      "2152      NaT  326.9314\n",
      "2153      NaT  365.2655\n",
      "2154      NaT  368.2759\n",
      "2155      NaT  374.4888\n",
      "2156      NaT  341.7545\n",
      "2157      NaT  291.7643\n",
      "2158      NaT  240.8196\n",
      "2159      NaT  208.9464\n",
      "2160      NaT  204.6835\n"
     ]
    }
   ],
   "source": [
    "print(result[['datetime','sum']].head(2))\n",
    "print()\n",
    "print(result[['datetime','sum']].tail(9))"
   ]
  },
  {
   "cell_type": "code",
   "execution_count": 30,
   "metadata": {},
   "outputs": [
    {
     "data": {
      "text/plain": [
       "Index([    0,     1,     2,     3,     4,     5,     6,     7,     8,     9,\n",
       "       ...\n",
       "        1041,  1042,  1043,  1044,  1045,  1046,  1047,  1048,  1049, 'sum'],\n",
       "      dtype='object', length=1054)"
      ]
     },
     "execution_count": 30,
     "metadata": {},
     "output_type": "execute_result"
    }
   ],
   "source": [
    "result.columns"
   ]
  },
  {
   "cell_type": "code",
   "execution_count": 12,
   "metadata": {},
   "outputs": [
    {
     "name": "stdout",
     "output_type": "stream",
     "text": [
      "                datetime          sum\n",
      "0    2022-11-01 00:00:00  5208.003717\n",
      "1    2022-11-01 01:00:00  5048.399818\n",
      "2    2022-11-01 02:00:00  5067.342876\n",
      "3    2022-11-01 03:00:00  5019.512423\n",
      "4    2022-11-01 04:00:00  5000.326411\n",
      "...                  ...          ...\n",
      "8707 2023-10-29 20:00:00  8031.284482\n",
      "8708 2023-10-29 21:00:00  7657.709174\n",
      "8709 2023-10-29 22:00:00  7340.527287\n",
      "8710 2023-10-29 23:00:00  7187.391771\n",
      "8711 2023-10-30 00:00:00  6895.730016\n",
      "\n",
      "[8712 rows x 2 columns]\n"
     ]
    }
   ],
   "source": [
    "print(result[['datetime','sum']])"
   ]
  },
  {
   "cell_type": "code",
   "execution_count": 14,
   "metadata": {},
   "outputs": [
    {
     "name": "stdout",
     "output_type": "stream",
     "text": [
      "Modeliuojame\n"
     ]
    },
    {
     "ename": "KeyError",
     "evalue": "\"[('sum', 'datetime')] not found in axis\"",
     "output_type": "error",
     "traceback": [
      "\u001b[1;31m---------------------------------------------------------------------------\u001b[0m",
      "\u001b[1;31mKeyError\u001b[0m                                  Traceback (most recent call last)",
      "Cell \u001b[1;32mIn[14], line 8\u001b[0m\n\u001b[0;32m      5\u001b[0m \u001b[38;5;28;01mfrom\u001b[39;00m \u001b[38;5;21;01msklearn\u001b[39;00m\u001b[38;5;21;01m.\u001b[39;00m\u001b[38;5;21;01mmodel_selection\u001b[39;00m \u001b[38;5;28;01mimport\u001b[39;00m train_test_split\n\u001b[0;32m      6\u001b[0m \u001b[38;5;28;01mfrom\u001b[39;00m \u001b[38;5;21;01msklearn\u001b[39;00m\u001b[38;5;21;01m.\u001b[39;00m\u001b[38;5;21;01mmetrics\u001b[39;00m \u001b[38;5;28;01mimport\u001b[39;00m mean_squared_error\n\u001b[1;32m----> 8\u001b[0m X \u001b[38;5;241m=\u001b[39m \u001b[43mresult\u001b[49m\u001b[38;5;241;43m.\u001b[39;49m\u001b[43mdrop\u001b[49m\u001b[43m(\u001b[49m\u001b[43mcolumns\u001b[49m\u001b[38;5;241;43m=\u001b[39;49m\u001b[43m[\u001b[49m\u001b[43m[\u001b[49m\u001b[38;5;124;43m'\u001b[39;49m\u001b[38;5;124;43msum\u001b[39;49m\u001b[38;5;124;43m'\u001b[39;49m\u001b[43m,\u001b[49m\u001b[38;5;124;43m'\u001b[39;49m\u001b[38;5;124;43mdatetime\u001b[39;49m\u001b[38;5;124;43m'\u001b[39;49m\u001b[43m]\u001b[49m\u001b[43m]\u001b[49m\u001b[43m)\u001b[49m  \u001b[38;5;66;03m# Nepriklausomi kintamieji\u001b[39;00m\n\u001b[0;32m      9\u001b[0m y \u001b[38;5;241m=\u001b[39m result[\u001b[38;5;124m'\u001b[39m\u001b[38;5;124msum\u001b[39m\u001b[38;5;124m'\u001b[39m]  \u001b[38;5;66;03m# Priklausomasis kintamasis\u001b[39;00m\n\u001b[0;32m     11\u001b[0m \u001b[38;5;66;03m# Duomenų padalijimas į treniravimo ir testavimo rinkinius\u001b[39;00m\n",
      "File \u001b[1;32m~\\AppData\\Roaming\\Python\\Python312\\site-packages\\pandas\\core\\frame.py:5581\u001b[0m, in \u001b[0;36mDataFrame.drop\u001b[1;34m(self, labels, axis, index, columns, level, inplace, errors)\u001b[0m\n\u001b[0;32m   5433\u001b[0m \u001b[38;5;28;01mdef\u001b[39;00m \u001b[38;5;21mdrop\u001b[39m(\n\u001b[0;32m   5434\u001b[0m     \u001b[38;5;28mself\u001b[39m,\n\u001b[0;32m   5435\u001b[0m     labels: IndexLabel \u001b[38;5;241m|\u001b[39m \u001b[38;5;28;01mNone\u001b[39;00m \u001b[38;5;241m=\u001b[39m \u001b[38;5;28;01mNone\u001b[39;00m,\n\u001b[1;32m   (...)\u001b[0m\n\u001b[0;32m   5442\u001b[0m     errors: IgnoreRaise \u001b[38;5;241m=\u001b[39m \u001b[38;5;124m\"\u001b[39m\u001b[38;5;124mraise\u001b[39m\u001b[38;5;124m\"\u001b[39m,\n\u001b[0;32m   5443\u001b[0m ) \u001b[38;5;241m-\u001b[39m\u001b[38;5;241m>\u001b[39m DataFrame \u001b[38;5;241m|\u001b[39m \u001b[38;5;28;01mNone\u001b[39;00m:\n\u001b[0;32m   5444\u001b[0m \u001b[38;5;250m    \u001b[39m\u001b[38;5;124;03m\"\"\"\u001b[39;00m\n\u001b[0;32m   5445\u001b[0m \u001b[38;5;124;03m    Drop specified labels from rows or columns.\u001b[39;00m\n\u001b[0;32m   5446\u001b[0m \n\u001b[1;32m   (...)\u001b[0m\n\u001b[0;32m   5579\u001b[0m \u001b[38;5;124;03m            weight  1.0     0.8\u001b[39;00m\n\u001b[0;32m   5580\u001b[0m \u001b[38;5;124;03m    \"\"\"\u001b[39;00m\n\u001b[1;32m-> 5581\u001b[0m     \u001b[38;5;28;01mreturn\u001b[39;00m \u001b[38;5;28;43msuper\u001b[39;49m\u001b[43m(\u001b[49m\u001b[43m)\u001b[49m\u001b[38;5;241;43m.\u001b[39;49m\u001b[43mdrop\u001b[49m\u001b[43m(\u001b[49m\n\u001b[0;32m   5582\u001b[0m \u001b[43m        \u001b[49m\u001b[43mlabels\u001b[49m\u001b[38;5;241;43m=\u001b[39;49m\u001b[43mlabels\u001b[49m\u001b[43m,\u001b[49m\n\u001b[0;32m   5583\u001b[0m \u001b[43m        \u001b[49m\u001b[43maxis\u001b[49m\u001b[38;5;241;43m=\u001b[39;49m\u001b[43maxis\u001b[49m\u001b[43m,\u001b[49m\n\u001b[0;32m   5584\u001b[0m \u001b[43m        \u001b[49m\u001b[43mindex\u001b[49m\u001b[38;5;241;43m=\u001b[39;49m\u001b[43mindex\u001b[49m\u001b[43m,\u001b[49m\n\u001b[0;32m   5585\u001b[0m \u001b[43m        \u001b[49m\u001b[43mcolumns\u001b[49m\u001b[38;5;241;43m=\u001b[39;49m\u001b[43mcolumns\u001b[49m\u001b[43m,\u001b[49m\n\u001b[0;32m   5586\u001b[0m \u001b[43m        \u001b[49m\u001b[43mlevel\u001b[49m\u001b[38;5;241;43m=\u001b[39;49m\u001b[43mlevel\u001b[49m\u001b[43m,\u001b[49m\n\u001b[0;32m   5587\u001b[0m \u001b[43m        \u001b[49m\u001b[43minplace\u001b[49m\u001b[38;5;241;43m=\u001b[39;49m\u001b[43minplace\u001b[49m\u001b[43m,\u001b[49m\n\u001b[0;32m   5588\u001b[0m \u001b[43m        \u001b[49m\u001b[43merrors\u001b[49m\u001b[38;5;241;43m=\u001b[39;49m\u001b[43merrors\u001b[49m\u001b[43m,\u001b[49m\n\u001b[0;32m   5589\u001b[0m \u001b[43m    \u001b[49m\u001b[43m)\u001b[49m\n",
      "File \u001b[1;32m~\\AppData\\Roaming\\Python\\Python312\\site-packages\\pandas\\core\\generic.py:4788\u001b[0m, in \u001b[0;36mNDFrame.drop\u001b[1;34m(self, labels, axis, index, columns, level, inplace, errors)\u001b[0m\n\u001b[0;32m   4786\u001b[0m \u001b[38;5;28;01mfor\u001b[39;00m axis, labels \u001b[38;5;129;01min\u001b[39;00m axes\u001b[38;5;241m.\u001b[39mitems():\n\u001b[0;32m   4787\u001b[0m     \u001b[38;5;28;01mif\u001b[39;00m labels \u001b[38;5;129;01mis\u001b[39;00m \u001b[38;5;129;01mnot\u001b[39;00m \u001b[38;5;28;01mNone\u001b[39;00m:\n\u001b[1;32m-> 4788\u001b[0m         obj \u001b[38;5;241m=\u001b[39m \u001b[43mobj\u001b[49m\u001b[38;5;241;43m.\u001b[39;49m\u001b[43m_drop_axis\u001b[49m\u001b[43m(\u001b[49m\u001b[43mlabels\u001b[49m\u001b[43m,\u001b[49m\u001b[43m \u001b[49m\u001b[43maxis\u001b[49m\u001b[43m,\u001b[49m\u001b[43m \u001b[49m\u001b[43mlevel\u001b[49m\u001b[38;5;241;43m=\u001b[39;49m\u001b[43mlevel\u001b[49m\u001b[43m,\u001b[49m\u001b[43m \u001b[49m\u001b[43merrors\u001b[49m\u001b[38;5;241;43m=\u001b[39;49m\u001b[43merrors\u001b[49m\u001b[43m)\u001b[49m\n\u001b[0;32m   4790\u001b[0m \u001b[38;5;28;01mif\u001b[39;00m inplace:\n\u001b[0;32m   4791\u001b[0m     \u001b[38;5;28mself\u001b[39m\u001b[38;5;241m.\u001b[39m_update_inplace(obj)\n",
      "File \u001b[1;32m~\\AppData\\Roaming\\Python\\Python312\\site-packages\\pandas\\core\\generic.py:4830\u001b[0m, in \u001b[0;36mNDFrame._drop_axis\u001b[1;34m(self, labels, axis, level, errors, only_slice)\u001b[0m\n\u001b[0;32m   4828\u001b[0m         new_axis \u001b[38;5;241m=\u001b[39m axis\u001b[38;5;241m.\u001b[39mdrop(labels, level\u001b[38;5;241m=\u001b[39mlevel, errors\u001b[38;5;241m=\u001b[39merrors)\n\u001b[0;32m   4829\u001b[0m     \u001b[38;5;28;01melse\u001b[39;00m:\n\u001b[1;32m-> 4830\u001b[0m         new_axis \u001b[38;5;241m=\u001b[39m \u001b[43maxis\u001b[49m\u001b[38;5;241;43m.\u001b[39;49m\u001b[43mdrop\u001b[49m\u001b[43m(\u001b[49m\u001b[43mlabels\u001b[49m\u001b[43m,\u001b[49m\u001b[43m \u001b[49m\u001b[43merrors\u001b[49m\u001b[38;5;241;43m=\u001b[39;49m\u001b[43merrors\u001b[49m\u001b[43m)\u001b[49m\n\u001b[0;32m   4831\u001b[0m     indexer \u001b[38;5;241m=\u001b[39m axis\u001b[38;5;241m.\u001b[39mget_indexer(new_axis)\n\u001b[0;32m   4833\u001b[0m \u001b[38;5;66;03m# Case for non-unique axis\u001b[39;00m\n\u001b[0;32m   4834\u001b[0m \u001b[38;5;28;01melse\u001b[39;00m:\n",
      "File \u001b[1;32m~\\AppData\\Roaming\\Python\\Python312\\site-packages\\pandas\\core\\indexes\\base.py:7070\u001b[0m, in \u001b[0;36mIndex.drop\u001b[1;34m(self, labels, errors)\u001b[0m\n\u001b[0;32m   7068\u001b[0m \u001b[38;5;28;01mif\u001b[39;00m mask\u001b[38;5;241m.\u001b[39many():\n\u001b[0;32m   7069\u001b[0m     \u001b[38;5;28;01mif\u001b[39;00m errors \u001b[38;5;241m!=\u001b[39m \u001b[38;5;124m\"\u001b[39m\u001b[38;5;124mignore\u001b[39m\u001b[38;5;124m\"\u001b[39m:\n\u001b[1;32m-> 7070\u001b[0m         \u001b[38;5;28;01mraise\u001b[39;00m \u001b[38;5;167;01mKeyError\u001b[39;00m(\u001b[38;5;124mf\u001b[39m\u001b[38;5;124m\"\u001b[39m\u001b[38;5;132;01m{\u001b[39;00mlabels[mask]\u001b[38;5;241m.\u001b[39mtolist()\u001b[38;5;132;01m}\u001b[39;00m\u001b[38;5;124m not found in axis\u001b[39m\u001b[38;5;124m\"\u001b[39m)\n\u001b[0;32m   7071\u001b[0m     indexer \u001b[38;5;241m=\u001b[39m indexer[\u001b[38;5;241m~\u001b[39mmask]\n\u001b[0;32m   7072\u001b[0m \u001b[38;5;28;01mreturn\u001b[39;00m \u001b[38;5;28mself\u001b[39m\u001b[38;5;241m.\u001b[39mdelete(indexer)\n",
      "\u001b[1;31mKeyError\u001b[0m: \"[('sum', 'datetime')] not found in axis\""
     ]
    }
   ],
   "source": [
    "print('Modeliuojame')\n",
    "# pip install scikit-learn\n",
    "\n",
    "from sklearn.linear_model import LinearRegression\n",
    "from sklearn.model_selection import train_test_split\n",
    "from sklearn.metrics import mean_squared_error\n",
    "\n",
    "X = result.drop(columns=['sum','datetime'])  # Nepriklausomi kintamieji\n",
    "y = result['sum']  # Priklausomasis kintamasis\n",
    "\n",
    "# Duomenų padalijimas į treniravimo ir testavimo rinkinius\n",
    "X_train, X_test, y_train, y_test = train_test_split(X, y, test_size=0.1, random_state=11)\n",
    "\n",
    "# Tiesinės regresijos modelis\n",
    "model = LinearRegression()\n",
    "model.fit( X_train, y_train )\n",
    "\n",
    "# Prognozės ir modelio tikslumo įvertinimas\n",
    "y_pred = model.predict(X_test)\n",
    "print(\"MSE:\", mean_squared_error(y_test, y_pred))"
   ]
  },
  {
   "cell_type": "code",
   "execution_count": 82,
   "metadata": {},
   "outputs": [
    {
     "data": {
      "text/plain": [
       "Index([   0,    1,    2,    3,    4,    5,    6,    7,    8,    9,\n",
       "       ...\n",
       "       1040, 1041, 1042, 1043, 1044, 1045, 1046, 1047, 1048, 1049],\n",
       "      dtype='object', length=1051)"
      ]
     },
     "execution_count": 82,
     "metadata": {},
     "output_type": "execute_result"
    }
   ],
   "source": [
    "X_train.columns"
   ]
  },
  {
   "cell_type": "code",
   "execution_count": 80,
   "metadata": {},
   "outputs": [
    {
     "data": {
      "text/plain": [
       "5696     9120.300727\n",
       "1104     8089.405451\n",
       "2898    12599.957250\n",
       "2321     9064.221266\n",
       "4061     9952.361172\n",
       "            ...     \n",
       "1293     6761.013542\n",
       "4023     9774.293050\n",
       "7259     9746.908818\n",
       "5200     5780.424278\n",
       "3775    14042.917419\n",
       "Name: sum, Length: 7840, dtype: float64"
      ]
     },
     "execution_count": 80,
     "metadata": {},
     "output_type": "execute_result"
    }
   ],
   "source": [
    "# X_train\n",
    "y_train"
   ]
  },
  {
   "cell_type": "code",
   "execution_count": null,
   "metadata": {},
   "outputs": [],
   "source": [
    "# Užrašai:\n",
    "# Multi-target regression\n",
    "# https://stackoverflow.com/questions/57704609/multi-target-regression-using-scikit-learn\n",
    "# https://medium.com/@tubelwj/developing-multi-class-regression-models-with-python-c8beca5dd482"
   ]
  }
 ],
 "metadata": {
  "kernelspec": {
   "display_name": "Python 3",
   "language": "python",
   "name": "python3"
  },
  "language_info": {
   "codemirror_mode": {
    "name": "ipython",
    "version": 3
   },
   "file_extension": ".py",
   "mimetype": "text/x-python",
   "name": "python",
   "nbconvert_exporter": "python",
   "pygments_lexer": "ipython3",
   "version": "3.12.4"
  }
 },
 "nbformat": 4,
 "nbformat_minor": 2
}
