{
 "cells": [
  {
   "cell_type": "code",
   "execution_count": 1,
   "metadata": {},
   "outputs": [
    {
     "name": "stdout",
     "output_type": "stream",
     "text": [
      "2024-07-08\n",
      "\n"
     ]
    }
   ],
   "source": [
    "print('2024-07-08\\n')"
   ]
  },
  {
   "cell_type": "code",
   "execution_count": 7,
   "metadata": {},
   "outputs": [
    {
     "name": "stdout",
     "output_type": "stream",
     "text": [
      "Savas savaS True\n",
      "Sėdėk kėdėS False\n"
     ]
    }
   ],
   "source": [
    "# Parašyti funkciją, kuri patikrintų, ar duotas tekstas \n",
    "# yra palindromas (palindròmas (gr. palindromos – sugrįžtantis), žodis, \n",
    "# žodžių grupė, sakinys, posakis ar eilėraštis, \n",
    "# kuris skaitomas iš galo reiškia tą patį arba bent yra prasmingas.)\n",
    "# sula - alus, ėmė, savas, sėdėk užu kėdės, level, Hanah.\n",
    "# Ignoruoti raidžių registrą.\n",
    "# Turi veikti ir su skaičiais (pvz 12321, 666, 85258, etc.)\n",
    "# Vieno skaitmens skaičiai neturi būti laikomi palindromais.\n",
    "# Minuso ženklą - kaip sugalvosite. Mokėti pagrįsti savo sprendimą.\n",
    "\n",
    "def atgal(txt):\n",
    "    return txt[::-1]\n",
    "\n",
    "def is_pal(x):\n",
    "    if not(x):\n",
    "        return False\n",
    "    r = str(x).lower().replace('-','')\n",
    "    p = r == r[::-1] if len(r) > 1 else False\n",
    "    return p\n",
    "\n",
    "print('Savas',atgal('Savas'),is_pal('Savas'))\n",
    "print('Sėdėk',atgal('Sėdėk'),is_pal('Sėdėk'))"
   ]
  },
  {
   "cell_type": "code",
   "execution_count": 17,
   "metadata": {},
   "outputs": [
    {
     "name": "stdout",
     "output_type": "stream",
     "text": [
      "Darbinis aplankas: c:\\Users\\Eridas\\Documents\\vilniuscoding2024\\git\\DataScienceNotebooks\\Studentai\\MykolasOK\n",
      "['2024-06-17.ipynb', '2024-06-19.ipynb', '2024-06-20.ipynb', '2024-06-26.ipynb', '2024-06-27.ipynb', '2024-07-01.ipynb', '2024-07-03.ipynb', '2024-07-04.ipynb', '2024-07-08.ipynb', 'abc.txt', 'ats.txt', 'Labas', 'laikinas.txt', 'Mykolas.txt', 'rezultatai.txt', 't.txt', 'tmp.txt', 'TMP_aplankas', 'TMP_aplankas_2', 'txt.txt']\n",
      "Sukurs aplanką manotekstai\n",
      "['2024-06-17.ipynb', '2024-06-19.ipynb', '2024-06-20.ipynb', '2024-06-26.ipynb', '2024-06-27.ipynb', '2024-07-01.ipynb', '2024-07-03.ipynb', '2024-07-04.ipynb', '2024-07-08.ipynb', 'abc.txt', 'ats.txt', 'Labas', 'laikinas.txt', 'manotekstai', 'Mykolas.txt', 'rezultatai.txt', 't.txt', 'tmp.txt', 'TMP_aplankas', 'TMP_aplankas_2', 'txt.txt']\n"
     ]
    }
   ],
   "source": [
    "import os\n",
    "\n",
    "# Parašykite skriptą, kuris:\n",
    "# • Parodytų failus, esančius darbiniame aplanke\n",
    "# • Sukurtų aplanką, kurio pavadinimą įvestų pats vartotojas\n",
    "# • Surastų visus txt plėtinį turinčius failus ir juos perkeltų į naująjį aplanką.\n",
    "\n",
    "print('Darbinis aplankas:',os.getcwd())\n",
    "print(os.listdir())\n",
    "\n",
    "# fVardas=input('Įveskite failo vardą')\n",
    "# f = open(fVardas+\".txt\",\"x\")\n",
    "# f.close()\n",
    "\n",
    "dirVardas=input('Įveskite aplanko vardą')\n",
    "# dirVardas='TMP_aplankas_2'\n",
    "print('Sukurs aplanką',dirVardas)\n",
    "os.mkdir(dirVardas,mode=0o777)\n",
    "\n",
    "print(os.listdir())"
   ]
  },
  {
   "cell_type": "code",
   "execution_count": 18,
   "metadata": {},
   "outputs": [
    {
     "name": "stdout",
     "output_type": "stream",
     "text": [
      "['abc.txt', 'ats.txt', 'laikinas.txt', 'Mykolas.txt', 'rezultatai.txt', 't.txt', 'tmp.txt', 'txt.txt']\n",
      "abc.txt\n",
      "ats.txt\n",
      "laikinas.txt\n",
      "Mykolas.txt\n",
      "rezultatai.txt\n",
      "t.txt\n",
      "tmp.txt\n",
      "txt.txt\n"
     ]
    }
   ],
   "source": [
    "import glob\n",
    "import os\n",
    "import shutil\n",
    "\n",
    "failai = glob.glob('*.txt')\n",
    "print(failai)\n",
    "for failas in failai:\n",
    "    print(failas)\n",
    "    shutil.move(failas,'manotekstai')"
   ]
  },
  {
   "cell_type": "code",
   "execution_count": null,
   "metadata": {},
   "outputs": [],
   "source": []
  }
 ],
 "metadata": {
  "kernelspec": {
   "display_name": "Python 3",
   "language": "python",
   "name": "python3"
  },
  "language_info": {
   "codemirror_mode": {
    "name": "ipython",
    "version": 3
   },
   "file_extension": ".py",
   "mimetype": "text/x-python",
   "name": "python",
   "nbconvert_exporter": "python",
   "pygments_lexer": "ipython3",
   "version": "3.12.4"
  }
 },
 "nbformat": 4,
 "nbformat_minor": 2
}
