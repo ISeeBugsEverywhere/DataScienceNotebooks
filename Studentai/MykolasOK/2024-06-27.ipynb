{
 "cells": [
  {
   "cell_type": "code",
   "execution_count": 1,
   "metadata": {},
   "outputs": [
    {
     "name": "stdout",
     "output_type": "stream",
     "text": [
      "2024-06-27\n",
      "while\n"
     ]
    }
   ],
   "source": [
    "print('2024-06-27\\nwhile')"
   ]
  },
  {
   "cell_type": "code",
   "execution_count": 9,
   "metadata": {},
   "outputs": [
    {
     "name": "stdout",
     "output_type": "stream",
     "text": [
      "1\n",
      "0 1 2 3 4 5 6 7 8 9 10 \n",
      "2\n",
      "0 2 4 6 8 10 12 14 16 18 20 \n",
      "3\n",
      "0 3 6 9 12 15 18 21 24 27 30 \n",
      "4\n",
      "0 4 8 12 16 20 24 28 32 36 40 \n",
      "5\n",
      "0 5 10 15 20 25 30 35 40 45 50 \n",
      "6\n",
      "0 6 12 18 24 30 36 42 48 54 60 \n",
      "7\n",
      "0 7 14 21 28 35 42 49 56 63 70 \n",
      "8\n",
      "0 8 16 24 32 40 48 56 64 72 80 \n",
      "9\n",
      "0 9 18 27 36 45 54 63 72 81 90 \n",
      "10\n",
      "0 10 20 30 40 50 60 70 80 90 100 \n"
     ]
    }
   ],
   "source": [
    "n=10\n",
    "i=1\n",
    "while i<=n :\n",
    "    print(i)\n",
    "    eil=''\n",
    "    j=0\n",
    "    while j<=n :\n",
    "        eil+=str(i*j)+' '\n",
    "        j+=1\n",
    "    print(eil)\n",
    "    i+=1 "
   ]
  },
  {
   "cell_type": "code",
   "execution_count": 16,
   "metadata": {},
   "outputs": [
    {
     "name": "stdout",
     "output_type": "stream",
     "text": [
      "a\n",
      "b\n",
      "c\n",
      "q\n",
      "Įvykdyta\n"
     ]
    }
   ],
   "source": [
    "# Parašyti amžiną while ciklą, kuris būtų nutraukiamas, jei vartotojas įveda Q simbolį. Simbolio registras neturi turėti reikšmės.\n",
    "\n",
    "while True :\n",
    "    r=input('Įveskite komandą (q=quit)')\n",
    "    print(r)\n",
    "    # if r=='q' or r=='Q' :\n",
    "    if r.lower()=='q' :\n",
    "        break\n",
    "print('Įvykdyta')"
   ]
  },
  {
   "cell_type": "code",
   "execution_count": 20,
   "metadata": {},
   "outputs": [
    {
     "name": "stdout",
     "output_type": "stream",
     "text": [
      "-2.0\n",
      "Klaida 2: nesuderinti tipai. unsupported operand type(s) for /: 'int' and 'str'\n",
      "-10.0\n",
      "Klaida 1: dalyba iš nulio. division by zero\n",
      "10.0\n",
      "5.0\n",
      "2.0\n"
     ]
    }
   ],
   "source": [
    "a=[-5,'-2',-1,0,1,2,5]\n",
    "for n in a :\n",
    "    try:\n",
    "        print(10/n)\n",
    "    except ZeroDivisionError as ex:\n",
    "        print('Klaida 1: dalyba iš nulio.',ex)\n",
    "    except TypeError as ex:\n",
    "        print('Klaida 2: nesuderinti tipai.',ex)\n",
    "    except Exception as ex:\n",
    "        print('Klaida 9: kita klaida.',ex)\n",
    "        \n",
    "\n",
    "\n",
    "# try:\n",
    "#     print(10/n)\n",
    "# exception ZeroDivisionError as ex:\n",
    "#     print('Klaida 1: dalyba iš nulio.') \n",
    "# else:\n",
    "#     print('vykdama, jei nėra klaidos')\n",
    "# finally:\n",
    "#     print('vykdama po visko, bet kuriuo atveju')"
   ]
  },
  {
   "cell_type": "code",
   "execution_count": 30,
   "metadata": {},
   "outputs": [
    {
     "name": "stdout",
     "output_type": "stream",
     "text": [
      "_______________________________\n",
      "5+9=14\n",
      "5-9=-4\n",
      "5*9=45 5 9\n",
      "5/9=0.5555555555555556 5 9\n",
      "Sėkmingai apskaičiuota\n",
      "Dar du skaičiai apdoroti\n",
      "_______________________________\n",
      "5+0=5\n",
      "5-0=5\n",
      "5*0=0 5 0\n",
      "Klaida 1: dalyba iš nulio. division by zero\n",
      "Dar du skaičiai apdoroti\n",
      "Pabaiga.\n"
     ]
    }
   ],
   "source": [
    "# Parašykite kodą, kuris paklaustų vartotojo skaičių A ir B, matematinio veiksmo (+, −, /, ∗), \n",
    "# atliktų veiksmą, rezultatą išspausdintų. Pritaikykite try bloką, kad išvengtumėte tokių situacijų kaip:\n",
    "# • dalyba iš 0;\n",
    "# • vietoj skaičiaus tekstas;\n",
    "# Pritaikykite visas try bloko šakas.\n",
    "# (a,b) = input('įveskite du skaičius')\n",
    "\n",
    "while True:\n",
    "    try:\n",
    "        print('_______________________________')\n",
    "        a=float(input('a'))\n",
    "        b=float(input('b'))\n",
    "        print(f'{a}+{b}={a+b}')\n",
    "        print(f'{a}-{b}={a-b}')\n",
    "        print(f'{a}*{b}={a*b}',a,b,)\n",
    "        print(f'{a}/{b}={a/b}',a,b,)\n",
    "    except ZeroDivisionError as ex:\n",
    "        print('Klaida 1: dalyba iš nulio.',ex)\n",
    "        break\n",
    "    except ValueError as ex:\n",
    "        print('Klaida 2: netinkama reikšmė.',ex)\n",
    "        break\n",
    "    except TypeError as ex:\n",
    "        print('Klaida 3: nesuderinti tipai.',ex)\n",
    "        break\n",
    "    except Exception as ex:\n",
    "        print('Klaida 9: kita klaida.',ex)\n",
    "        break\n",
    "    else:\n",
    "        print('Sėkmingai apskaičiuota')\n",
    "    finally:\n",
    "        print('Dar du skaičiai apdoroti')\n",
    "print('Pabaiga.')"
   ]
  }
 ],
 "metadata": {
  "kernelspec": {
   "display_name": "Python 3",
   "language": "python",
   "name": "python3"
  },
  "language_info": {
   "codemirror_mode": {
    "name": "ipython",
    "version": 3
   },
   "file_extension": ".py",
   "mimetype": "text/x-python",
   "name": "python",
   "nbconvert_exporter": "python",
   "pygments_lexer": "ipython3",
   "version": "3.12.4"
  }
 },
 "nbformat": 4,
 "nbformat_minor": 2
}
