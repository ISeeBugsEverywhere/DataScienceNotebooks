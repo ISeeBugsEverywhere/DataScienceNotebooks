{
 "cells": [
  {
   "cell_type": "code",
   "execution_count": 1,
   "metadata": {},
   "outputs": [
    {
     "name": "stdout",
     "output_type": "stream",
     "text": [
      "2024-06-27\n",
      "while\n"
     ]
    }
   ],
   "source": [
    "print('2024-06-27\\nwhile')"
   ]
  },
  {
   "cell_type": "code",
   "execution_count": 9,
   "metadata": {},
   "outputs": [
    {
     "name": "stdout",
     "output_type": "stream",
     "text": [
      "1\n",
      "0 1 2 3 4 5 6 7 8 9 10 \n",
      "2\n",
      "0 2 4 6 8 10 12 14 16 18 20 \n",
      "3\n",
      "0 3 6 9 12 15 18 21 24 27 30 \n",
      "4\n",
      "0 4 8 12 16 20 24 28 32 36 40 \n",
      "5\n",
      "0 5 10 15 20 25 30 35 40 45 50 \n",
      "6\n",
      "0 6 12 18 24 30 36 42 48 54 60 \n",
      "7\n",
      "0 7 14 21 28 35 42 49 56 63 70 \n",
      "8\n",
      "0 8 16 24 32 40 48 56 64 72 80 \n",
      "9\n",
      "0 9 18 27 36 45 54 63 72 81 90 \n",
      "10\n",
      "0 10 20 30 40 50 60 70 80 90 100 \n"
     ]
    }
   ],
   "source": [
    "n=10\n",
    "i=1\n",
    "while i<=n :\n",
    "    print(i)\n",
    "    eil=''\n",
    "    j=0\n",
    "    while j<=n :\n",
    "        eil+=str(i*j)+' '\n",
    "        j+=1\n",
    "    print(eil)\n",
    "    i+=1 "
   ]
  },
  {
   "cell_type": "code",
   "execution_count": 16,
   "metadata": {},
   "outputs": [
    {
     "name": "stdout",
     "output_type": "stream",
     "text": [
      "a\n",
      "b\n",
      "c\n",
      "q\n",
      "Įvykdyta\n"
     ]
    }
   ],
   "source": [
    "# Parašyti amžiną while ciklą, kuris būtų nutraukiamas, jei vartotojas įveda Q simbolį. Simbolio registras neturi turėti reikšmės.\n",
    "\n",
    "while True :\n",
    "    r=input('Įveskite komandą (q=quit)')\n",
    "    print(r)\n",
    "    # if r=='q' or r=='Q' :\n",
    "    if r.lower()=='q' :\n",
    "        break\n",
    "print('Įvykdyta')"
   ]
  },
  {
   "cell_type": "code",
   "execution_count": 20,
   "metadata": {},
   "outputs": [
    {
     "name": "stdout",
     "output_type": "stream",
     "text": [
      "-2.0\n",
      "Klaida 2: nesuderinti tipai. unsupported operand type(s) for /: 'int' and 'str'\n",
      "-10.0\n",
      "Klaida 1: dalyba iš nulio. division by zero\n",
      "10.0\n",
      "5.0\n",
      "2.0\n"
     ]
    }
   ],
   "source": [
    "a=[-5,'-2',-1,0,1,2,5]\n",
    "for n in a :\n",
    "    try:\n",
    "        print(10/n)\n",
    "    except ZeroDivisionError as ex:\n",
    "        print('Klaida 1: dalyba iš nulio.',ex)\n",
    "    except TypeError as ex:\n",
    "        print('Klaida 2: nesuderinti tipai.',ex)\n",
    "    except Exception as ex:\n",
    "        print('Klaida 9: kita klaida.',ex)\n",
    "        \n",
    "\n",
    "\n",
    "# try:\n",
    "#     print(10/n)\n",
    "# exception ZeroDivisionError as ex:\n",
    "#     print('Klaida 1: dalyba iš nulio.') \n",
    "# else:\n",
    "#     print('vykdama, jei nėra klaidos')\n",
    "# finally:\n",
    "#     print('vykdama po visko, bet kuriuo atveju')"
   ]
  },
  {
   "cell_type": "code",
   "execution_count": 30,
   "metadata": {},
   "outputs": [
    {
     "name": "stdout",
     "output_type": "stream",
     "text": [
      "_______________________________\n",
      "5+9=14\n",
      "5-9=-4\n",
      "5*9=45 5 9\n",
      "5/9=0.5555555555555556 5 9\n",
      "Sėkmingai apskaičiuota\n",
      "Dar du skaičiai apdoroti\n",
      "_______________________________\n",
      "5+0=5\n",
      "5-0=5\n",
      "5*0=0 5 0\n",
      "Klaida 1: dalyba iš nulio. division by zero\n",
      "Dar du skaičiai apdoroti\n",
      "Pabaiga.\n"
     ]
    }
   ],
   "source": [
    "# Parašykite kodą, kuris paklaustų vartotojo skaičių A ir B, matematinio veiksmo (+, −, /, ∗), \n",
    "# atliktų veiksmą, rezultatą išspausdintų. Pritaikykite try bloką, kad išvengtumėte tokių situacijų kaip:\n",
    "# • dalyba iš 0;\n",
    "# • vietoj skaičiaus tekstas;\n",
    "# Pritaikykite visas try bloko šakas.\n",
    "# (a,b) = input('įveskite du skaičius')\n",
    "\n",
    "while True:\n",
    "    try:\n",
    "        print('_______________________________')\n",
    "        a=float(input('a'))\n",
    "        b=float(input('b'))\n",
    "        print(f'{a}+{b}={a+b}')\n",
    "        print(f'{a}-{b}={a-b}')\n",
    "        print(f'{a}*{b}={a*b}',a,b,)\n",
    "        print(f'{a}/{b}={a/b}',a,b,)\n",
    "    except ZeroDivisionError as ex:\n",
    "        print('Klaida 1: dalyba iš nulio.',ex)\n",
    "        break\n",
    "    except ValueError as ex:\n",
    "        print('Klaida 2: netinkama reikšmė.',ex)\n",
    "        break\n",
    "    except TypeError as ex:\n",
    "        print('Klaida 3: nesuderinti tipai.',ex)\n",
    "        break\n",
    "    except Exception as ex:\n",
    "        print('Klaida 9: kita klaida.',ex)\n",
    "        break\n",
    "    else:\n",
    "        print('Sėkmingai apskaičiuota')\n",
    "    finally:\n",
    "        print('Dar du skaičiai apdoroti')\n",
    "print('Pabaiga.')"
   ]
  },
  {
   "cell_type": "code",
   "execution_count": 32,
   "metadata": {},
   "outputs": [
    {
     "name": "stdout",
     "output_type": "stream",
     "text": [
      "Funkcija\n",
      "13\n",
      "13\n"
     ]
    }
   ],
   "source": [
    "print('Funkcija')\n",
    "def f(a,b):\n",
    "    print(a+b)\n",
    "    return a+b\n",
    "print(f(5,8))"
   ]
  },
  {
   "cell_type": "code",
   "execution_count": 36,
   "metadata": {},
   "outputs": [
    {
     "name": "stdout",
     "output_type": "stream",
     "text": [
      "21.0\n",
      "42.0\n",
      "7.5\n",
      "0.0\n"
     ]
    }
   ],
   "source": [
    "# Parašykite funkciją PVM skaičiavimui. Pateikiami argumentai - kaina be pvm, tarifas. funkcija turi gražinti PVM kiekį.\n",
    "\n",
    "def PVM(kaina,pvm=21):\n",
    "    return kaina*pvm/100\n",
    "\n",
    "print(PVM(100))\n",
    "print(PVM(200))\n",
    "print(PVM(150,5))\n",
    "print(PVM(150,0))"
   ]
  },
  {
   "cell_type": "code",
   "execution_count": 41,
   "metadata": {},
   "outputs": [
    {
     "name": "stdout",
     "output_type": "stream",
     "text": [
      "6\n"
     ]
    }
   ],
   "source": [
    "# 29 užduotis\n",
    "\n",
    "def kiekž(tekstas):\n",
    "    zdz = tekstas.split()\n",
    "    return len(zdz)\n",
    "\n",
    "txt='Jau saulelė vėl atkopdama budino svietą'\n",
    "\n",
    "print(kiekž(txt))"
   ]
  },
  {
   "cell_type": "code",
   "execution_count": 42,
   "metadata": {},
   "outputs": [
    {
     "name": "stdout",
     "output_type": "stream",
     "text": [
      "5^2 25\n",
      "5^3 125\n",
      "2^10 1024\n"
     ]
    }
   ],
   "source": [
    "# 27 užduotis\n",
    "\n",
    "def laipsnis(sk,laipsnis=2):\n",
    "    return sk**laipsnis\n",
    "\n",
    "print('5^2',laipsnis(5))\n",
    "print('5^3',laipsnis(5,3))\n",
    "print('2^10',laipsnis(2,10))\n"
   ]
  },
  {
   "cell_type": "code",
   "execution_count": 46,
   "metadata": {},
   "outputs": [
    {
     "name": "stdout",
     "output_type": "stream",
     "text": [
      "2, 2 1.4142135623730951\n",
      "10, 3 2.154434690031884\n",
      "2, 10 1.0717734625362931\n"
     ]
    }
   ],
   "source": [
    "# 28 užduotis\n",
    "\n",
    "def šaknis(sk,laipsnis=2):\n",
    "    return sk**(1/laipsnis)\n",
    "\n",
    "print('2, 2',šaknis(2))\n",
    "print('10, 3',šaknis(10,3))\n",
    "print('2, 10',šaknis(2,10))"
   ]
  },
  {
   "cell_type": "code",
   "execution_count": 48,
   "metadata": {},
   "outputs": [
    {
     "name": "stdout",
     "output_type": "stream",
     "text": [
      "[1, 9]\n"
     ]
    }
   ],
   "source": [
    "# 1. Parašyti funkciją, kuri priima sąrašą ir grąžina naują sąrašą su paskutiniu ir pirmu elementais iš pirmojo sąrašo. \n",
    "# PVZ: [1,2,3,4,5,6,7,8,9] ats: [1,9]\n",
    "\n",
    "def galai(sąr):\n",
    "    s2=[]\n",
    "    s2.append(sąr[0])\n",
    "    s2.append(sąr[-1])\n",
    "    return s2\n",
    "\n",
    "sss=[1,2,3,4,5,6,7,8,9]\n",
    "print(galai(sss))"
   ]
  },
  {
   "cell_type": "code",
   "execution_count": 58,
   "metadata": {},
   "outputs": [
    {
     "name": "stdout",
     "output_type": "stream",
     "text": [
      "Ok\n",
      "0 baudos tšk.\n",
      "7 baudos tšk.\n",
      "8 baudos tšk. Atimamos teisės!\n",
      "9 baudos tšk. Atimamos teisės!\n"
     ]
    }
   ],
   "source": [
    "# 2. Parašyti funkciją greičiui tikrinti: Funkcija paima argumentą - automobilio greitį. \n",
    "# Jei greitis 50 ar mažesnis, funkcija grąžina ”Ok”, \n",
    "# jei greitis didesnis nei 50 - už kiekvieną 5km/h greičio viršijimą duodamas baudos taškas \n",
    "# (pvz: greitis 70, atsakymas - 4) Jei surenkami 8 taškai ir daugiau - funkcija ne tik grąžina taškų sumą, bet ir priduria, jog vairuotojo teisės atimamos.\n",
    "\n",
    "def bauda(g):\n",
    "    if g<51:\n",
    "        rez='Ok'\n",
    "    else:\n",
    "        taškai=(g-50)//5\n",
    "        if taškai<8:\n",
    "            rez=str(taškai)+' baudos tšk.'\n",
    "        else:\n",
    "            rez=str(taškai)+' baudos tšk. Atimamos teisės!'\n",
    "    return rez\n",
    "\n",
    "print(bauda(20))\n",
    "print(bauda(53))\n",
    "print(bauda(88))\n",
    "print(bauda(90))\n",
    "print(bauda(99))\n"
   ]
  }
 ],
 "metadata": {
  "kernelspec": {
   "display_name": "Python 3",
   "language": "python",
   "name": "python3"
  },
  "language_info": {
   "codemirror_mode": {
    "name": "ipython",
    "version": 3
   },
   "file_extension": ".py",
   "mimetype": "text/x-python",
   "name": "python",
   "nbconvert_exporter": "python",
   "pygments_lexer": "ipython3",
   "version": "3.12.4"
  }
 },
 "nbformat": 4,
 "nbformat_minor": 2
}
