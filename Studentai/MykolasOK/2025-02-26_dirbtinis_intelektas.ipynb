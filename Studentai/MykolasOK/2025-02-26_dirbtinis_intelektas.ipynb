{
 "cells": [
  {
   "cell_type": "markdown",
   "metadata": {},
   "source": [
    "pip install openai\n",
    "\n",
    "https://medium.com/towards-agi/how-to-use-openai-with-langchain-a-step-by-step-guide-dab8fa3f6ab5\n",
    "Python installed on your machine (version 3.7 or higher is recommended).\n",
    "python --version"
   ]
  },
  {
   "cell_type": "code",
   "execution_count": 1,
   "metadata": {},
   "outputs": [
    {
     "name": "stderr",
     "output_type": "stream",
     "text": [
      "C:\\Users\\Eridas\\AppData\\Local\\Temp\\ipykernel_15364\\340901903.py:9: LangChainDeprecationWarning: The class `OpenAI` was deprecated in LangChain 0.0.10 and will be removed in 1.0. An updated version of the class exists in the :class:`~langchain-openai package and should be used instead. To use it run `pip install -U :class:`~langchain-openai` and import as `from :class:`~langchain_openai import OpenAI``.\n",
      "  llm = OpenAI(model_name=\"text-davinci-003\")  # Replace with your desired model name\n",
      "C:\\Users\\Eridas\\AppData\\Local\\Temp\\ipykernel_15364\\340901903.py:11: LangChainDeprecationWarning: The class `LLMChain` was deprecated in LangChain 0.1.17 and will be removed in 1.0. Use :meth:`~RunnableSequence, e.g., `prompt | llm`` instead.\n",
      "  chain = LLMChain(llm=llm, prompt=prompt)\n"
     ]
    },
    {
     "ename": "ValidationError",
     "evalue": "1 validation error for LLMChain\nprompt\n  Input should be a valid dictionary or instance of BasePromptTemplate [type=model_type, input_value='Write a story about a br...oring a distant planet.', input_type=str]\n    For further information visit https://errors.pydantic.dev/2.10/v/model_type",
     "output_type": "error",
     "traceback": [
      "\u001b[1;31m---------------------------------------------------------------------------\u001b[0m",
      "\u001b[1;31mValidationError\u001b[0m                           Traceback (most recent call last)",
      "Cell \u001b[1;32mIn[1], line 11\u001b[0m\n\u001b[0;32m      9\u001b[0m llm \u001b[38;5;241m=\u001b[39m OpenAI(model_name\u001b[38;5;241m=\u001b[39m\u001b[38;5;124m\"\u001b[39m\u001b[38;5;124mtext-davinci-003\u001b[39m\u001b[38;5;124m\"\u001b[39m)  \u001b[38;5;66;03m# Replace with your desired model name\u001b[39;00m\n\u001b[0;32m     10\u001b[0m prompt \u001b[38;5;241m=\u001b[39m \u001b[38;5;124m\"\u001b[39m\u001b[38;5;124mWrite a story about a brave astronaut exploring a distant planet.\u001b[39m\u001b[38;5;124m\"\u001b[39m\n\u001b[1;32m---> 11\u001b[0m chain \u001b[38;5;241m=\u001b[39m \u001b[43mLLMChain\u001b[49m\u001b[43m(\u001b[49m\u001b[43mllm\u001b[49m\u001b[38;5;241;43m=\u001b[39;49m\u001b[43mllm\u001b[49m\u001b[43m,\u001b[49m\u001b[43m \u001b[49m\u001b[43mprompt\u001b[49m\u001b[38;5;241;43m=\u001b[39;49m\u001b[43mprompt\u001b[49m\u001b[43m)\u001b[49m\n\u001b[0;32m     13\u001b[0m response \u001b[38;5;241m=\u001b[39m chain\u001b[38;5;241m.\u001b[39mrun()\n\u001b[0;32m     14\u001b[0m \u001b[38;5;28mprint\u001b[39m(response)  \u001b[38;5;66;03m# This will print the generated story\u001b[39;00m\n",
      "File \u001b[1;32m~\\AppData\\Roaming\\Python\\Python312\\site-packages\\langchain_core\\_api\\deprecation.py:214\u001b[0m, in \u001b[0;36mdeprecated.<locals>.deprecate.<locals>.finalize.<locals>.warn_if_direct_instance\u001b[1;34m(self, *args, **kwargs)\u001b[0m\n\u001b[0;32m    212\u001b[0m     warned \u001b[38;5;241m=\u001b[39m \u001b[38;5;28;01mTrue\u001b[39;00m\n\u001b[0;32m    213\u001b[0m     emit_warning()\n\u001b[1;32m--> 214\u001b[0m \u001b[38;5;28;01mreturn\u001b[39;00m \u001b[43mwrapped\u001b[49m\u001b[43m(\u001b[49m\u001b[38;5;28;43mself\u001b[39;49m\u001b[43m,\u001b[49m\u001b[43m \u001b[49m\u001b[38;5;241;43m*\u001b[39;49m\u001b[43margs\u001b[49m\u001b[43m,\u001b[49m\u001b[43m \u001b[49m\u001b[38;5;241;43m*\u001b[39;49m\u001b[38;5;241;43m*\u001b[39;49m\u001b[43mkwargs\u001b[49m\u001b[43m)\u001b[49m\n",
      "File \u001b[1;32m~\\AppData\\Roaming\\Python\\Python312\\site-packages\\langchain_core\\load\\serializable.py:125\u001b[0m, in \u001b[0;36mSerializable.__init__\u001b[1;34m(self, *args, **kwargs)\u001b[0m\n\u001b[0;32m    123\u001b[0m \u001b[38;5;28;01mdef\u001b[39;00m \u001b[38;5;21m__init__\u001b[39m(\u001b[38;5;28mself\u001b[39m, \u001b[38;5;241m*\u001b[39margs: Any, \u001b[38;5;241m*\u001b[39m\u001b[38;5;241m*\u001b[39mkwargs: Any) \u001b[38;5;241m-\u001b[39m\u001b[38;5;241m>\u001b[39m \u001b[38;5;28;01mNone\u001b[39;00m:\n\u001b[0;32m    124\u001b[0m \u001b[38;5;250m    \u001b[39m\u001b[38;5;124;03m\"\"\"\"\"\"\u001b[39;00m\n\u001b[1;32m--> 125\u001b[0m     \u001b[38;5;28;43msuper\u001b[39;49m\u001b[43m(\u001b[49m\u001b[43m)\u001b[49m\u001b[38;5;241;43m.\u001b[39;49m\u001b[38;5;21;43m__init__\u001b[39;49m\u001b[43m(\u001b[49m\u001b[38;5;241;43m*\u001b[39;49m\u001b[43margs\u001b[49m\u001b[43m,\u001b[49m\u001b[43m \u001b[49m\u001b[38;5;241;43m*\u001b[39;49m\u001b[38;5;241;43m*\u001b[39;49m\u001b[43mkwargs\u001b[49m\u001b[43m)\u001b[49m\n",
      "File \u001b[1;32m~\\AppData\\Roaming\\Python\\Python312\\site-packages\\pydantic\\main.py:214\u001b[0m, in \u001b[0;36mBaseModel.__init__\u001b[1;34m(self, **data)\u001b[0m\n\u001b[0;32m    212\u001b[0m \u001b[38;5;66;03m# `__tracebackhide__` tells pytest and some other tools to omit this function from tracebacks\u001b[39;00m\n\u001b[0;32m    213\u001b[0m __tracebackhide__ \u001b[38;5;241m=\u001b[39m \u001b[38;5;28;01mTrue\u001b[39;00m\n\u001b[1;32m--> 214\u001b[0m validated_self \u001b[38;5;241m=\u001b[39m \u001b[38;5;28;43mself\u001b[39;49m\u001b[38;5;241;43m.\u001b[39;49m\u001b[43m__pydantic_validator__\u001b[49m\u001b[38;5;241;43m.\u001b[39;49m\u001b[43mvalidate_python\u001b[49m\u001b[43m(\u001b[49m\u001b[43mdata\u001b[49m\u001b[43m,\u001b[49m\u001b[43m \u001b[49m\u001b[43mself_instance\u001b[49m\u001b[38;5;241;43m=\u001b[39;49m\u001b[38;5;28;43mself\u001b[39;49m\u001b[43m)\u001b[49m\n\u001b[0;32m    215\u001b[0m \u001b[38;5;28;01mif\u001b[39;00m \u001b[38;5;28mself\u001b[39m \u001b[38;5;129;01mis\u001b[39;00m \u001b[38;5;129;01mnot\u001b[39;00m validated_self:\n\u001b[0;32m    216\u001b[0m     warnings\u001b[38;5;241m.\u001b[39mwarn(\n\u001b[0;32m    217\u001b[0m         \u001b[38;5;124m'\u001b[39m\u001b[38;5;124mA custom validator is returning a value other than `self`.\u001b[39m\u001b[38;5;130;01m\\n\u001b[39;00m\u001b[38;5;124m'\u001b[39m\n\u001b[0;32m    218\u001b[0m         \u001b[38;5;124m\"\u001b[39m\u001b[38;5;124mReturning anything other than `self` from a top level model validator isn\u001b[39m\u001b[38;5;124m'\u001b[39m\u001b[38;5;124mt supported when validating via `__init__`.\u001b[39m\u001b[38;5;130;01m\\n\u001b[39;00m\u001b[38;5;124m\"\u001b[39m\n\u001b[0;32m    219\u001b[0m         \u001b[38;5;124m'\u001b[39m\u001b[38;5;124mSee the `model_validator` docs (https://docs.pydantic.dev/latest/concepts/validators/#model-validators) for more details.\u001b[39m\u001b[38;5;124m'\u001b[39m,\n\u001b[0;32m    220\u001b[0m         stacklevel\u001b[38;5;241m=\u001b[39m\u001b[38;5;241m2\u001b[39m,\n\u001b[0;32m    221\u001b[0m     )\n",
      "\u001b[1;31mValidationError\u001b[0m: 1 validation error for LLMChain\nprompt\n  Input should be a valid dictionary or instance of BasePromptTemplate [type=model_type, input_value='Write a story about a br...oring a distant planet.', input_type=str]\n    For further information visit https://errors.pydantic.dev/2.10/v/model_type"
     ]
    }
   ],
   "source": [
    "# pip install langchain openai\n",
    "\n",
    "from langchain import OpenAI\n",
    "from langchain.chains import LLMChain\n",
    "\n",
    "import os\n",
    "\n",
    "os.environ[\"OPENAI_API_KEY\"] = \"your_openai_api_key\"  # Replace with your actual OpenAI API key\n",
    "llm = OpenAI(model_name=\"text-davinci-003\")  # Replace with your desired model name\n",
    "prompt = \"Write a story about a brave astronaut exploring a distant planet.\"\n",
    "chain = LLMChain(llm=llm, prompt=prompt)\n",
    "\n",
    "response = chain.run()\n",
    "print(response)  # This will print the generated story\n"
   ]
  },
  {
   "cell_type": "code",
   "execution_count": null,
   "metadata": {},
   "outputs": [],
   "source": [
    "from openai import OpenAI\n",
    "\n",
    "client = OpenAI(\n",
    "  api_key=\"\"\n",
    ")\n",
    "\n",
    "# gpt-3.5-turbo gpt-4o-mini text-embedding-3-small\n",
    "\n",
    "completion = client.chat.completions.create(\n",
    "  model=\"text-embedding-3-small\",\n",
    "  store=True,\n",
    "  messages=[{\"role\":\"user\", \"content\":\"write a haiku about ai\"}]\n",
    ")\n",
    "\n",
    "print(completion.choices[0].message)"
   ]
  },
  {
   "cell_type": "code",
   "execution_count": null,
   "metadata": {},
   "outputs": [],
   "source": [
    "from openai import OpenAI\n",
    "client = OpenAI()\n",
    "completion = client.chat.completions.create(\n",
    "    model=\"gpt-4o\",\n",
    "    store=True,\n",
    "    messages=[\n",
    "        {\"role\":\"user\", \"content\":\"write a haiku about ai\"}\n",
    "    ]\n",
    ")"
   ]
  },
  {
   "cell_type": "markdown",
   "metadata": {},
   "source": [
    "Ollama"
   ]
  },
  {
   "cell_type": "code",
   "execution_count": null,
   "metadata": {},
   "outputs": [],
   "source": [
    "# https://platform.openai.com/\n",
    "# pip install openai ollama"
   ]
  },
  {
   "cell_type": "code",
   "execution_count": null,
   "metadata": {},
   "outputs": [
    {
     "name": "stdout",
     "output_type": "stream",
     "text": [
      "<think>\n",
      "Okay, so I need to explain Newton's Second Law of Motion. Hmm, I remember it's one of the three laws of motion from classical mechanics, right? It's about how force affects motion. Let me try to recall what exactly it says.\n",
      "\n",
      "Alright, Newton's First Law is the law of inertia. That makes sense—it states that an object will stay at rest or move at a constant velocity unless acted upon by an external force. So, if you're in a car and it suddenly speeds up, your body wants to stay where you were because nothing is pushing you forward. That's the idea behind Newton's First Law.\n",
      "\n",
      "Now, moving on to the Second Law. I think this one talks about how force causes acceleration. The formula must be F = ma, where F is force, m is mass, and a is acceleration. So, if something has more force applied, it accelerates more, or if its mass is bigger, it takes longer for acceleration.\n",
      "\n",
      "Wait, why does the equation look like that? I mean, how did Newton derive it? Wasn't there an experiment where he could show this relationship? Oh right, when you apply a greater force to a lighter object, it accelerates faster. Or maybe if you have something with more mass, even the same force takes longer for acceleration.\n",
      "\n",
      "Let me also remember that the law is about vectors, so direction matters too. If you push an object in one direction, it moves that way. And this all happens at constant external forces, right? So, no air resistance or anything else messing things up.\n",
      "\n",
      "I should probably mention how this applies to real-life scenarios. Like when you hit a ball—it stops because of the force from your hand and the opposing forces from the ground. Or if something accelerates quickly, like a car starting from rest—this law explains why it speeds up as time goes on.\n",
      "\n",
      "Wait, could I have missed anything? Maybe units? Newton is the unit for force, mass in kilograms, acceleration in meters per second squared. That's good to know because it helps apply the formula correctly.\n",
      "\n",
      "I think that covers it. So summarizing: Newton's Second Law states that net force equals mass times acceleration; objects accelerate when a net external force is applied, and more force or greater mass leads to higher acceleration.\n",
      "</think>\n",
      "\n",
      "Newton's Second Law of Motion states that the net force acting on an object is equal to its mass multiplied by its acceleration. This can be expressed with the formula \\( F = ma \\), where:\n",
      "- **F** represents the net force in Newtons (N),\n",
      "- **m** is the mass of the object in kilograms (kg),\n",
      "- **a** is the acceleration in meters per second squared (m/s²).\n",
      "\n",
      "This law explains that an object accelerates when a net external force is applied. More force or greater mass leads to higher acceleration, and objects move in the direction of the applied force. This principle applies universally for vector quantities, considering direction as well.\n",
      "\n",
      "In real-life scenarios, this law explains phenomena like a ball stopping after impact (due to opposing forces) or a car accelerating due to increased external force. Understanding this law is fundamental in physics and engineering.\n"
     ]
    }
   ],
   "source": [
    "import ollama\n",
    "\n",
    "# ollama pull deepseek-r1:1.5b\n",
    "\n",
    "response = ollama.chat(\n",
    "    model=\"deepseek-r1:1.5b\",\n",
    "    # \"gemma\", \"llama2\"\n",
    "    \n",
    "    messages=[\n",
    "        {\"role\":\"user\", \"content\":\"Explain Newton's second law of motion\"},\n",
    "    ],\n",
    ")\n",
    "\n",
    "print(response[\"message\"][\"content\"])"
   ]
  },
  {
   "cell_type": "code",
   "execution_count": null,
   "metadata": {},
   "outputs": [
    {
     "name": "stdout",
     "output_type": "stream",
     "text": [
      "[Klausimas:] The best EV?\n",
      "[DI modelio atsakymas:] <think>\n",
      "\n",
      "</think>\n",
      "\n",
      "When choosing the \"best EV,\" it's important to consider your specific needs, lifestyle, and budget. Here are some key factors to focus on:\n",
      "\n",
      "### 1. **Power**\n",
      "   - Look for an electric vehicle with at least 60% of its battery capacity charged by solar power if you plan to drive in a sunny area.\n",
      "   - Most EVs now have fast charging stations (FSCS) or the ability to charge online.\n",
      "\n",
      "### 2. **Range**\n",
      "   - Consider your driving habits, traffic patterns, and the maximum distance you'll need to travel each day.\n",
      "   - Range is often measured in kilometers per charged hour (kph/h). Aim for an average of at least 15-30 kph/h depending on your route.\n",
      "\n",
      "### 3. **Cost**\n",
      "   - Compare prices from multiple sellers to find the best value for your money.\n",
      "   - Consider the total price, including any additional fees or taxes.\n",
      "\n",
      "### 4. **Fuel Efficiency**\n",
      "   - Look for the highest miles per gallon (mpg) rating available for each EV model.\n",
      "   - MPG is a key metric for understanding how efficient you'll be driving on public transportation.\n",
      "\n",
      "### 5. **Technology and Features**\n",
      "   - Check if the EV offers features like a smartphone app, a charging station, or a navigation system.\n",
      "   - Look for comfort options such as heated seats, front-row seats with a view, and an infotainment system with voice-activated controls.\n",
      "\n",
      "### 6. **Maintenance and Parts**\n",
      "   - Ensure you have the necessary parts for the vehicle. Most EVs come with tested batteries, but check if they are fully functional.\n",
      "   - Avoid buying a used or out-of-tune vehicle that may require extensive repairs.\n",
      "\n",
      "### 7. **Environmental Impact**\n",
      "   - Look for models with low emissions and a reduced carbon footprint compared to internal combustion engines (ICE).\n",
      "\n",
      "### 8. **Safety Features**\n",
      "   - Ensure the EV has modern safety features like active safety systems, automatic emergency braking, and advanced driver-assistance technologies.\n",
      "\n",
      "### 9. **Fuel Type and Efficiency**\n",
      "   - Check if the vehicle is compatible with your car or truck's fuel type (gasoline, diesel, electric).\n",
      "   - Some EVs offer a range of options based on your fuel type.\n",
      "\n",
      "### 10. **Long-Term Sustainability**\n",
      "   - Consider whether the EV aligns with your sustainability goals, such as reducing your carbon footprint or meeting specific environmental regulations.\n",
      "\n",
      "### Final Tips:\n",
      "- If you plan to travel extensively, prioritize models with FSCS.\n",
      "- If you're driving in a sunny area, look for solar charging stations.\n",
      "- Avoid buying an EV that only works on short trips and instead opt for one that offers long-term savings on costs.\n",
      "\n",
      "Compare these factors across different models and choose the one that best fits your needs.\n",
      "--------------------------------------------------\n",
      "[Klausimas:] The best electric vehicle?\n",
      "[DI modelio atsakymas:] <think>\n",
      "\n",
      "</think>\n",
      "\n",
      "As the world moves toward a low-carbon future, electric vehicles (EVs) have gained significant traction. However, when it comes to comparing electric vehicles like Tesla Model Y and other EV models, several factors come into play:\n",
      "\n",
      "1. **Range**: The range is one of the most critical attributes for consumers. It measures how far the vehicle can travel on a single charge.\n",
      "\n",
      "2. **Efficiency**: This refers to how well the battery handles low-speed power and stops efficiently at high speeds, which impacts overall energy consumption.\n",
      "\n",
      "3. **Power Performance**: This includes acceleration time, torque at mid-rack, and maximum power output.\n",
      "\n",
      "4. **Cost**: Electric vehicles can be more expensive upfront due to their production costs and development timelines compared to internal combustion engine (ICE) vehicles.\n",
      "\n",
      "5. **Charging**: Most EVs require charging stations or a fast charge station for quick energy retrieval when visiting different locations.\n",
      "\n",
      "6. **Range Plus**: This is a common metric, where higher range plus lower fuel consumption makes the vehicle more efficient in terms of overall travel efficiency.\n",
      "\n",
      "7. **Durability and Maintenance**: The reliability and maintenance costs depend on the specific design and technology used in production.\n",
      "\n",
      "8. **Technology**: Features like electric motor (EM) charging capability, advanced driver-assistance systems (ADAS), and autonomous driving features enhance comfort and safety.\n",
      "\n",
      "Ultimately, the best EV depends on your needs—whether you prioritize range, efficiency, affordability, or sustainability. Tesla Model Y, for example, is known for its impressive range and performance but might come with higher costs compared to other models.\n",
      "--------------------------------------------------\n",
      "[Klausimas:] What is the best programming language?\n",
      "[DI modelio atsakymas:] <think>\n",
      "\n",
      "</think>\n",
      "\n",
      "As an AI assistant, I don't have personal preferences or opinions. However, when it comes to coding, I can help with understanding various concepts, solving problems, and providing guidance in multiple programming languages. How can I assist you today?\n",
      "--------------------------------------------------\n"
     ]
    }
   ],
   "source": [
    "import ollama\n",
    "\n",
    "def main() -> None:\n",
    "    model = \"deepseek-r1:1.5b\"  \n",
    "    # Pakeisti į pvz., \"gemma\", \"llama2\"\n",
    "    \n",
    "    while True:\n",
    "        question = input(\"KLauskite. [Q]uit išeiti: \").strip()\n",
    "        \n",
    "        if question.lower() in {\"q\", \"quit\"}:\n",
    "            print(\"Programa baigia darbą.\")\n",
    "            break\n",
    "        \n",
    "        print(\"[Klausimas:]\", question)\n",
    "        response = ollama.chat(model=model, messages=[{\"role\":\"user\", \"content\":question}])\n",
    "        print(\"[DI modelio atsakymas:]\", response[\"message\"][\"content\"])\n",
    "        print(\"-\"*50)\n",
    "\n",
    "if __name__ == \"__main__\":\n",
    "    main()\n"
   ]
  },
  {
   "cell_type": "code",
   "execution_count": null,
   "metadata": {},
   "outputs": [],
   "source": [
    "# ollama pull phi3:medium\n",
    "\n",
    "import ollama\n",
    "\n",
    "response = ollama.chat(\n",
    "    model=\"phi3:medium\",\n",
    "    messages=[\n",
    "        {\"role\":\"user\", \"content\":\"Explain Newton's second law of motion\"},\n",
    "    ],\n",
    ")\n",
    "r = response[\"message\"][\"content\"]\n",
    "print(r)"
   ]
  },
  {
   "cell_type": "code",
   "execution_count": null,
   "metadata": {},
   "outputs": [],
   "source": [
    "# pip install pymupdf --break-system-packages\n",
    "\n",
    "# https://visualstudio.microsoft.com/visual-cpp-build-tools/\n",
    "# pip install langchain chromadb gradio\n",
    "\n",
    "# pip install -U langchain-community"
   ]
  },
  {
   "cell_type": "markdown",
   "metadata": {},
   "source": [
    "https://stackoverflow.com/questions/64261546/how-to-solve-error-microsoft-visual-c-14-0-or-greater-is-required-when-inst\n",
    "https://learn.microsoft.com/en-us/cpp/windows/latest-supported-vc-redist?view=msvc-170\n",
    "https://medium.com/towards-agi/how-to-use-openai-with-langchain-a-step-by-step-guide-dab8fa3f6ab5\n",
    "https://ollama.com/library/deepseek-r1\n",
    "https://platform.openai.com/settings/organization/general"
   ]
  }
 ],
 "metadata": {
  "kernelspec": {
   "display_name": "Python 3",
   "language": "python",
   "name": "python3"
  },
  "language_info": {
   "codemirror_mode": {
    "name": "ipython",
    "version": 3
   },
   "file_extension": ".py",
   "mimetype": "text/x-python",
   "name": "python",
   "nbconvert_exporter": "python",
   "pygments_lexer": "ipython3",
   "version": "3.12.4"
  }
 },
 "nbformat": 4,
 "nbformat_minor": 2
}
