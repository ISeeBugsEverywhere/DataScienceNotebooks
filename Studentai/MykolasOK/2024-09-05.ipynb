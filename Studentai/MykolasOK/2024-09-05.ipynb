{
 "cells": [
  {
   "cell_type": "code",
   "execution_count": 2,
   "metadata": {},
   "outputs": [
    {
     "name": "stdout",
     "output_type": "stream",
     "text": [
      "31 paskaita\n",
      "(pasiruošta)\n"
     ]
    }
   ],
   "source": [
    "print('31 paskaita\\n(pasiruošta)')\n",
    "\n",
    "import pandas as pd\n",
    "import numpy as np\n",
    "import matplotlib.pyplot as plt\n",
    "import mysql.connector as cnt\n",
    "\n",
    "# import os\n",
    "# import glob"
   ]
  },
  {
   "cell_type": "code",
   "execution_count": 8,
   "metadata": {},
   "outputs": [
    {
     "name": "stderr",
     "output_type": "stream",
     "text": [
      "/tmp/ipykernel_58115/3210438067.py:20: UserWarning: pandas only supports SQLAlchemy connectable (engine/connection) or database string URI or sqlite3 DBAPI2 connection. Other DBAPI2 objects are not tested. Please consider using SQLAlchemy.\n",
      "  df = pd.read_sql_query(sql, con=DB) # Sukuriamas Pandas DF.\n"
     ]
    },
    {
     "data": {
      "text/html": [
       "<div>\n",
       "<style scoped>\n",
       "    .dataframe tbody tr th:only-of-type {\n",
       "        vertical-align: middle;\n",
       "    }\n",
       "\n",
       "    .dataframe tbody tr th {\n",
       "        vertical-align: top;\n",
       "    }\n",
       "\n",
       "    .dataframe thead th {\n",
       "        text-align: right;\n",
       "    }\n",
       "</style>\n",
       "<table border=\"1\" class=\"dataframe\">\n",
       "  <thead>\n",
       "    <tr style=\"text-align: right;\">\n",
       "      <th></th>\n",
       "      <th>g</th>\n",
       "      <th>k</th>\n",
       "      <th>r</th>\n",
       "      <th>Kn€</th>\n",
       "    </tr>\n",
       "  </thead>\n",
       "  <tbody>\n",
       "    <tr>\n",
       "      <th>0</th>\n",
       "      <td>BMW</td>\n",
       "      <td>19 500</td>\n",
       "      <td>253 000 km</td>\n",
       "      <td>19 500</td>\n",
       "    </tr>\n",
       "    <tr>\n",
       "      <th>1</th>\n",
       "      <td>Mitsubishi</td>\n",
       "      <td>2 700</td>\n",
       "      <td>195 405 km</td>\n",
       "      <td>2 700</td>\n",
       "    </tr>\n",
       "  </tbody>\n",
       "</table>\n",
       "</div>"
      ],
      "text/plain": [
       "            g       k           r     Kn€\n",
       "0         BMW  19 500  253 000 km  19 500\n",
       "1  Mitsubishi   2 700  195 405 km   2 700"
      ]
     },
     "execution_count": 8,
     "metadata": {},
     "output_type": "execute_result"
    }
   ],
   "source": [
    "# Turite nusiskaityti iš SQL DB lentelės autopliuslt į Pandas DataFrame \n",
    "# gamintoją, kainą, pagaminimo datą, ridą, pavarų tipą, variklio informaciją. \n",
    "# SQL užklausoje turite atmesti tuos įrašus, kur rida nenurodyta, \n",
    "# taip pat palikite tik nesikartojančius įrašus \n",
    "# (atranka pagal ID stuleplį - jei ID sutampa - reiškia, jog skelbimas dubliuojasi)\n",
    "\n",
    "#prisijungimas prie mySQL, ir kursoriaus sukūrimas\n",
    "\n",
    "DB = cnt.connect(\n",
    "host = '88.223.121.130',\n",
    "user='user',\n",
    "password='slaptazodis',\n",
    "port=3306,\n",
    "database='works'\n",
    ")\n",
    "C=DB.cursor()\n",
    "\n",
    "#sql užklausa per pandas sql_query\n",
    "sql=\"\"\"select gamintojas g, price k, rida as r, price as Kn€ from autopliuslt\"\"\"\n",
    "df = pd.read_sql_query(sql, con=DB) # Sukuriamas Pandas DF.\n",
    "df.head(2)"
   ]
  }
 ],
 "metadata": {
  "kernelspec": {
   "display_name": "Python 3",
   "language": "python",
   "name": "python3"
  },
  "language_info": {
   "codemirror_mode": {
    "name": "ipython",
    "version": 3
   },
   "file_extension": ".py",
   "mimetype": "text/x-python",
   "name": "python",
   "nbconvert_exporter": "python",
   "pygments_lexer": "ipython3",
   "version": "3.12.3"
  }
 },
 "nbformat": 4,
 "nbformat_minor": 2
}
