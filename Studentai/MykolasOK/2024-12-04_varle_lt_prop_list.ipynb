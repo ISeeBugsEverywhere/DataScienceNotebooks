{
 "cells": [
  {
   "cell_type": "code",
   "execution_count": 1,
   "metadata": {},
   "outputs": [],
   "source": [
    "# Pradėta 2024-11-21_ObjectProperties.ipynb\n",
    "# Tęsinys. Čia 2024-12-04...\n",
    "\n",
    "import pandas as pd\n",
    "import time\n",
    "import sqlite3\n",
    "import random\n",
    "\n",
    "from bs4 import BeautifulSoup\n",
    "\n",
    "# Selenium\n",
    "import selenium\n",
    "from selenium.webdriver.chrome.options import Options\n",
    "# from selenium.webdriver.firefox.options import Options as FirefoxOptions\n",
    "from selenium import webdriver\n",
    "\n",
    "from my_lib.properties_of_7 import properties_of\n",
    "from my_lib.my_db_functions import df_to_sqlite"
   ]
  },
  {
   "cell_type": "code",
   "execution_count": 3,
   "metadata": {},
   "outputs": [
    {
     "name": "stdout",
     "output_type": "stream",
     "text": [
      "https://www.varle.lt/mobilieji-telefonai/?f.s-5g_rysys=Yra&f.s-gamintojas=Samsung&sort=-price&\n"
     ]
    }
   ],
   "source": [
    "# Nustatymai, parametrai:\n",
    "\n",
    "item_type = 'mobilieji-telefonai'\n",
    "# 'dronai', 'televizoriai', 'saldytuvai', 'televizoriai'\n",
    "item_params = 'f.s-5g_rysys=Yra&f.s-gamintojas=Samsung&sort=-price&'\n",
    "\n",
    "table_version = '_7'\n",
    "item_producer = 'samsung'\n",
    "\n",
    "common_prop = {'producer':'samsung','5g':True}\n",
    "\n",
    "url = f'https://www.varle.lt/{item_type}/?{item_params}'\n",
    "print(url)"
   ]
  },
  {
   "cell_type": "code",
   "execution_count": 4,
   "metadata": {},
   "outputs": [],
   "source": [
    "# Šis fragmentas automatiškai išvalo 'items_df' sukauptus duomenis,\n",
    "# Pasirengta naujų duomenų įrašymui.\n",
    "\n",
    "items_df = pd.DataFrame(columns=('id','price','url','price_in_cents','producer','5g'))\n",
    "# čia bus šios programos rezultatas"
   ]
  },
  {
   "cell_type": "code",
   "execution_count": null,
   "metadata": {},
   "outputs": [],
   "source": [
    "# Atidaro Chrome naršyklę,\n",
    "# reikia patvirtinti \"Leisti visus slapukus\"!\n",
    "# Šis fragmentas automatiškai panaikina „draiver“.\n",
    "\n",
    "opcijos = Options()\n",
    "opcijos.add_argument('--incognito')\n",
    "opcijos.add_argument('--ignore-certificate-errors')\n",
    "opcijos.add_argument('--ignore-ssl-errors')\n",
    "driver = webdriver.Chrome(options=opcijos)\n",
    "\n",
    "# url = f'https://www.varle.lt/{item_type}/?{item_params}' # iškeliamas į pradžią?\n",
    "\n",
    "driver.get(url)\n",
    "# time.sleep(3)\n",
    "source = driver.page_source\n",
    "print(f'First page: {url}')\n",
    "\n",
    "bs = BeautifulSoup(source,'html.parser')\n",
    "pages_numbers = bs.find('div',{'class':'PAGINATION'}).find_all('li',{'class':'number'})\n",
    "total_pages = int(pages_numbers[-1].text.strip())\n",
    "print(f'Total pages: {total_pages}')"
   ]
  },
  {
   "cell_type": "code",
   "execution_count": null,
   "metadata": {},
   "outputs": [],
   "source": [
    "# Toliau analizuojamas prekių sąrašo html iš bs=BeautifulSoup().\n",
    "\n",
    "items_blocks = bs.find_all('div',{'class':'GRID_ITEM'})\n",
    "for item_block in items_blocks:\n",
    "\n",
    "    item_href = item_block.find('div',{'class':'product-title'}).find('a')['href']\n",
    "    item_url = 'https://www.varle.lt'+ item_href\n",
    "    item_id = item_href.split('-')[-1].split('.')[0]\n",
    "\n",
    "    price_container = item_block.find('div',{'class':'price-container'})\n",
    "    price_value = price_container.find('span',{'class':'price-value'}).getText()\n",
    "    item_price = ''.join(price_value.split())\n",
    "\n",
    "    items_df.loc[len(items_df)] = {'id':int(item_id),'price':item_price,'url':item_url}\n",
    "\n",
    "print(f'DF items: {len(items_df)}.')"
   ]
  },
  {
   "cell_type": "code",
   "execution_count": null,
   "metadata": {},
   "outputs": [],
   "source": [
    "# Perskaitomi kiti prekių sąrašo puslapiai,\n",
    "# po to įrašoma į db\n",
    "\n",
    "import random\n",
    "\n",
    "# for page_number in range(2,total_pages+1):\n",
    "for page_number in range(2,total_pages+1):\n",
    "\n",
    "    url = f'https://www.varle.lt/{item_type}/?{item_params}p={page_number}'\n",
    "    driver.get(url)\n",
    "    time.sleep(random.randint(25,75))\n",
    "    source = driver.page_source\n",
    "    print(f'Prskaityta {url}')\n",
    "\n",
    "    bs = BeautifulSoup(source,'html.parser')\n",
    "\n",
    "    items_blocks = bs.find_all('div',{'class':'GRID_ITEM'})\n",
    "    for item_block in items_blocks:\n",
    "        item_href = item_block.find('div',{'class':'product-title'}).find('a')['href']\n",
    "        item_url = 'https://www.varle.lt'+item_href\n",
    "        item_id = item_href.split('-')[-1].split('.')[0]\n",
    "\n",
    "        price_container = item_block.find('div',{'class':'price-container'})\n",
    "        price_value = price_container.find('span',{'class':'price-value'}).getText()\n",
    "        item_price = ''.join(price_value.split())\n",
    "\n",
    "        # items_df.loc[len(items_df)] = {'id':int(item_id),'price':item_price,'url':item_url}\n",
    "        items_df.loc[len(items_df)] = {'id':int(item_id),'price':item_price,'url':item_url}\n",
    "\n",
    "    items_total = len(items_df)\n",
    "    items_df.drop_duplicates(subset='id',keep='last',inplace=True)\n",
    "    print(f'Get {items_total} items. Unique {len(items_df)} items.')\n",
    "\n",
    "# driver.close() # Uždaro Chrome puslapį."
   ]
  },
  {
   "cell_type": "code",
   "execution_count": null,
   "metadata": {},
   "outputs": [],
   "source": [
    "# Pridedamas kainos stulpelis centais (int)\n",
    "\n",
    "import re\n",
    "\n",
    "def price_in_cents(price:str) -> int:\n",
    "    # Pašalina visus simbolius, išskyrus skaičius, kablelį ir tašką:\n",
    "    cleaned = re.sub(r'[^\\d.,]', '', price).replace(',', '.').replace(' ', '')\n",
    "    return int(float(cleaned)*100)\n",
    "\n",
    "items_df['price_in_cents'] = items_df['price'].apply(price_in_cents)\n",
    "\n",
    "items_df['producer'] = 'samsung'\n",
    "items_df['5g'] = True\n",
    "\n",
    "items_df"
   ]
  },
  {
   "cell_type": "code",
   "execution_count": null,
   "metadata": {},
   "outputs": [],
   "source": [
    "f'{item_type}{table_version}'"
   ]
  },
  {
   "cell_type": "code",
   "execution_count": null,
   "metadata": {},
   "outputs": [],
   "source": [
    "# Save to SQLite3\n",
    "df_to_sqlite(items_df,\"./my_scrap_working_data.db\",table_name=f'{item_type}{table_version}')"
   ]
  },
  {
   "cell_type": "code",
   "execution_count": null,
   "metadata": {},
   "outputs": [],
   "source": [
    "mobilieji_telefonai = properties_of(\"mobilieji_telefonai\",engine=\"sqlite_file\",db_path=\"./my_scrap_prop_of.db\")\n",
    "mobilieji_telefonai.import_from_df(items_df)"
   ]
  },
  {
   "cell_type": "code",
   "execution_count": null,
   "metadata": {},
   "outputs": [],
   "source": [
    "print(mobilieji_telefonai.export_to_df())\n",
    "# print(mobilieji_telefonai.export_to_df(['5g','price']))"
   ]
  }
 ],
 "metadata": {
  "kernelspec": {
   "display_name": "Python 3",
   "language": "python",
   "name": "python3"
  },
  "language_info": {
   "codemirror_mode": {
    "name": "ipython",
    "version": 3
   },
   "file_extension": ".py",
   "mimetype": "text/x-python",
   "name": "python",
   "nbconvert_exporter": "python",
   "pygments_lexer": "ipython3",
   "version": "3.12.3"
  }
 },
 "nbformat": 4,
 "nbformat_minor": 2
}
