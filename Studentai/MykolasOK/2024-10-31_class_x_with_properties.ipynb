{
 "cells": [
  {
   "cell_type": "code",
   "execution_count": 3,
   "metadata": {},
   "outputs": [
    {
     "name": "stdout",
     "output_type": "stream",
     "text": [
      "Paskaita nr. 49, 2024-10-31 „Kintamųjų tipų deklaravimas“\n",
      "abc\n"
     ]
    }
   ],
   "source": [
    "print('Paskaita nr. 49, 2024-10-31 „Kintamųjų tipų deklaravimas“')\n",
    "\n",
    "# import typing as T\n",
    "\n",
    "# import numpy as np\n",
    "# import pandas as pd\n",
    "import matplotlib.pyplot as plt\n",
    "# import warnings\n",
    "# warnings.filterwarnings('ignore')\n",
    "# import seaborn as sns\n",
    "# import sqlite3\n",
    "# import mysql.connector as cnt\n",
    "# import plotly.express as px"
   ]
  },
  {
   "cell_type": "code",
   "execution_count": 16,
   "metadata": {},
   "outputs": [
    {
     "name": "stdout",
     "output_type": "stream",
     "text": [
      "False\n",
      "latex\n"
     ]
    }
   ],
   "source": [
    "def sfunkcija(s:str):\n",
    "    print(s.islower())\n",
    "    print(s.lower())\n",
    "\n",
    "sfunkcija('LaTeX')\n",
    "# sfunkcija(999) # AttributeError: 'int' object has no attribute 'islower'"
   ]
  },
  {
   "cell_type": "code",
   "execution_count": 19,
   "metadata": {},
   "outputs": [
    {
     "name": "stdout",
     "output_type": "stream",
     "text": [
      "LATEX\n"
     ]
    }
   ],
   "source": [
    "def sfunkcija(s:str):\n",
    "    if isinstance(s,str):\n",
    "        print(s.upper())\n",
    "    else:\n",
    "        raise TypeError('sfunkcija() parametras turi būti str tipo.')\n",
    "\n",
    "sfunkcija('LaTeX')\n",
    "# sfunkcija(999) # TypeError: sfunkcija() parametras turi būti str tipo."
   ]
  },
  {
   "cell_type": "code",
   "execution_count": 15,
   "metadata": {},
   "outputs": [
    {
     "name": "stdout",
     "output_type": "stream",
     "text": [
      "55\n",
      "2233\n"
     ]
    }
   ],
   "source": [
    "def suma(a:str|int,b:str|int):\n",
    "    print(a+b)\n",
    "\n",
    "suma(22,33)\n",
    "suma('22','33')\n",
    "# suma('22',33) # TypeError: can only concatenate str (not \"int\") to str"
   ]
  },
  {
   "cell_type": "code",
   "execution_count": 21,
   "metadata": {},
   "outputs": [
    {
     "name": "stdout",
     "output_type": "stream",
     "text": [
      "LaTeX titles for Subplots\n"
     ]
    },
    {
     "data": {
      "image/png": "[encoded data removed]",
      "text/plain": [
       "<Figure size 500x200 with 1 Axes>"
      ]
     },
     "metadata": {},
     "output_type": "display_data"
    }
   ],
   "source": [
    "print('LaTeX titles for Subplots')\n",
    "\n",
    "import matplotlib.pyplot as plt\n",
    "\n",
    "fig,axis=plt.subplots(figsize=(5,2))\n",
    "xtitle = r'$\\dfrac{E^2}{m \\cdot c}$'\n",
    "axis.set_xlabel(xtitle)\n",
    "ytitle = r'$\\dfrac{E^2}{m \\cdot c}$'\n",
    "axis.set_ylabel(xtitle)\n",
    "fig.tight_layout()\n",
    "plt.show()\n",
    "\n",
    "# https://matplotlib.org/stable/users/explain/text/usetex.html"
   ]
  }
 ],
 "metadata": {
  "kernelspec": {
   "display_name": "Python 3",
   "language": "python",
   "name": "python3"
  },
  "language_info": {
   "codemirror_mode": {
    "name": "ipython",
    "version": 3
   },
   "file_extension": ".py",
   "mimetype": "text/x-python",
   "name": "python",
   "nbconvert_exporter": "python",
   "pygments_lexer": "ipython3",
   "version": "3.12.3"
  }
 },
 "nbformat": 4,
 "nbformat_minor": 2
}
