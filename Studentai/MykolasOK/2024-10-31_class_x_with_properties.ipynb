{
 "cells": [
  {
   "cell_type": "code",
   "execution_count": 3,
   "metadata": {},
   "outputs": [
    {
     "name": "stdout",
     "output_type": "stream",
     "text": [
      "Paskaita nr. 49, 2024-10-31 „Kintamųjų tipų deklaravimas“\n",
      "abc\n"
     ]
    }
   ],
   "source": [
    "print('Paskaita nr. 49, 2024-10-31 „Kintamųjų tipų deklaravimas“')\n",
    "\n",
    "# import typing as T"
   ]
  },
  {
   "cell_type": "code",
   "execution_count": 12,
   "metadata": {},
   "outputs": [
    {
     "name": "stdout",
     "output_type": "stream",
     "text": [
      "abc\n"
     ]
    }
   ],
   "source": [
    "def sfunkcija(s:str):\n",
    "    s.islower()\n",
    "    print(s)\n",
    "\n",
    "sfunkcija('abc')\n",
    "# sfunkcija(999) # AttributeError: 'int' object has no attribute 'islower'"
   ]
  },
  {
   "cell_type": "code",
   "execution_count": 15,
   "metadata": {},
   "outputs": [
    {
     "name": "stdout",
     "output_type": "stream",
     "text": [
      "55\n",
      "2233\n"
     ]
    }
   ],
   "source": [
    "def suma(a:str|int,b:str|int):\n",
    "    print(a+b)\n",
    "\n",
    "suma(22,33)\n",
    "suma('22','33')\n",
    "# suma('22',33) # TypeError: can only concatenate str (not \"int\") to str"
   ]
  },
  {
   "cell_type": "code",
   "execution_count": null,
   "metadata": {},
   "outputs": [],
   "source": [
    "import numpy as np\n",
    "import pandas as pd\n",
    "\n"
   ]
  }
 ],
 "metadata": {
  "kernelspec": {
   "display_name": "Python 3",
   "language": "python",
   "name": "python3"
  },
  "language_info": {
   "codemirror_mode": {
    "name": "ipython",
    "version": 3
   },
   "file_extension": ".py",
   "mimetype": "text/x-python",
   "name": "python",
   "nbconvert_exporter": "python",
   "pygments_lexer": "ipython3",
   "version": "3.12.3"
  }
 },
 "nbformat": 4,
 "nbformat_minor": 2
}
