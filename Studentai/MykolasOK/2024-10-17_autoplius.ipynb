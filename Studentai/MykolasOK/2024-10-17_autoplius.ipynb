{
 "cells": [
  {
   "cell_type": "code",
   "execution_count": 1,
   "metadata": {},
   "outputs": [
    {
     "name": "stdout",
     "output_type": "stream",
     "text": [
      "Paskaita nr. 43, 2024-10-17\n",
      "Atverčia ir nuskaito AutoPlius skelbimus pagal nuorodas, išsaugotas vakar.\n"
     ]
    }
   ],
   "source": [
    "import numpy as np\n",
    "import pandas as pd\n",
    "import matplotlib.pyplot as plt\n",
    "import warnings\n",
    "warnings.filterwarnings('ignore')\n",
    "import seaborn as sns\n",
    "import sqlite3\n",
    "import mysql.connector as cnt\n",
    "import plotly.express as px\n",
    "\n",
    "import datetime as dt\n",
    "\n",
    "# import mysql.connector as cnt\n",
    "import sqlite3\n",
    "\n",
    "import requests\n",
    "from bs4 import BeautifulSoup\n",
    "\n",
    "# import selenium\n",
    "from selenium.webdriver.chrome.options import Options\n",
    "# from selenium.webdriver.firefox.options import Options as FirefoxOptions\n",
    "# Firefox leistų sudėtingesnius nustatymus, bet neveikia per SNAP\n",
    "\n",
    "from selenium import webdriver\n",
    "from bs4 import BeautifulSoup\n",
    "import time\n",
    "\n",
    "print('Paskaita nr. 43, 2024-10-17')\n",
    "print('Atverčia ir nuskaito AutoPlius skelbimus pagal nuorodas, išsaugotas vakar.')"
   ]
  },
  {
   "cell_type": "code",
   "execution_count": 10,
   "metadata": {},
   "outputs": [
    {
     "name": "stdout",
     "output_type": "stream",
     "text": [
      "18267894 https://m.autoplius.lt/skelbimai/mercedes-benz-e250-2-5-l-sedanas-1990-dyzelinas-18267894.html\n",
      "23150167 https://m.autoplius.lt/skelbimai/toyota-sienna-3-3-l-vienaturis-2004-benzinas-dujos-23150167.html\n",
      "23212783 https://m.autoplius.lt/skelbimai/volkswagen-golf-2-0-l-universalas-2007-dyzelinas-23212783.html\n",
      "23595689 https://m.autoplius.lt/skelbimai/volkswagen-passat-1-6-l-universalas-2012-dyzelinas-23595689.html\n",
      "24161587 https://m.autoplius.lt/skelbimai/seat-leon-1-6-l-universalas-2014-dyzelinas-24161587.html\n",
      "24178627 https://m.autoplius.lt/skelbimai/land-rover-range-rover-sport-3-0-l-visureigis-krosoveris-2012-dyzelinas-24178627.html\n",
      "24355692 https://m.autoplius.lt/skelbimai/volvo-c70-2-4-l-kabrioletas-2007-dyzelinas-24355692.html\n",
      "24423484 https://m.autoplius.lt/skelbimai/volkswagen-up-hecbekas-2014-elektra-24423484.html\n",
      "24655068 https://m.autoplius.lt/skelbimai/audi-a4-2-0-l-universalas-2012-dyzelinas-24655068.html\n",
      "24911425 https://m.autoplius.lt/skelbimai/mercedes-benz-c180-2-0-l-sedanas-2001-benzinas-24911425.html\n"
     ]
    }
   ],
   "source": [
    "sdb = sqlite3.connect('Testas.db')\n",
    "cs = sdb.cursor()\n",
    "cs.execute(\"select * from auto_skelbimai limit 10\")\n",
    "for (nr,href) in cs.fetchall():\n",
    "    print(nr,href)\n",
    "    \n",
    "\n"
   ]
  }
 ],
 "metadata": {
  "kernelspec": {
   "display_name": "Python 3",
   "language": "python",
   "name": "python3"
  },
  "language_info": {
   "codemirror_mode": {
    "name": "ipython",
    "version": 3
   },
   "file_extension": ".py",
   "mimetype": "text/x-python",
   "name": "python",
   "nbconvert_exporter": "python",
   "pygments_lexer": "ipython3",
   "version": "3.12.3"
  }
 },
 "nbformat": 4,
 "nbformat_minor": 2
}
