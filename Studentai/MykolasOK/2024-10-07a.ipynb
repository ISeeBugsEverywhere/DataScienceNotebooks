{
 "cells": [
  {
   "cell_type": "code",
   "execution_count": 4,
   "metadata": {},
   "outputs": [
    {
     "name": "stdout",
     "output_type": "stream",
     "text": [
      "Paskaita nr. 38, 2024-10-07\n",
      "Pasiruošta 2024-10-07 20:43:55.112808\n"
     ]
    }
   ],
   "source": [
    "import numpy as np\n",
    "import pandas as pd\n",
    "import matplotlib.pyplot as plt\n",
    "import warnings\n",
    "warnings.filterwarnings('ignore')\n",
    "import seaborn as sns\n",
    "import requests\n",
    "# import sqlite3\n",
    "# import mysql.connector as cnt\n",
    "# import plotly.express as px\n",
    "\n",
    "print('Paskaita nr. 38, 2024-10-07')\n",
    "print('Pasiruošta',dt.datetime.now())"
   ]
  },
  {
   "cell_type": "code",
   "execution_count": 7,
   "metadata": {},
   "outputs": [
    {
     "name": "stdout",
     "output_type": "stream",
     "text": [
      "200\n",
      "<class 'list'>\n"
     ]
    }
   ],
   "source": [
    "url = 'https://api.meteo.lt/v1/stations'\n",
    "page = requests.get(url)\n",
    "print(page.status_code)\n",
    "\n",
    "r = page.json()\n",
    "print(type(r))"
   ]
  },
  {
   "cell_type": "code",
   "execution_count": 10,
   "metadata": {},
   "outputs": [
    {
     "data": {
      "text/html": [
       "<div>\n",
       "<style scoped>\n",
       "    .dataframe tbody tr th:only-of-type {\n",
       "        vertical-align: middle;\n",
       "    }\n",
       "\n",
       "    .dataframe tbody tr th {\n",
       "        vertical-align: top;\n",
       "    }\n",
       "\n",
       "    .dataframe thead th {\n",
       "        text-align: right;\n",
       "    }\n",
       "</style>\n",
       "<table border=\"1\" class=\"dataframe\">\n",
       "  <thead>\n",
       "    <tr style=\"text-align: right;\">\n",
       "      <th></th>\n",
       "      <th>code</th>\n",
       "      <th>name</th>\n",
       "      <th>coordinates</th>\n",
       "    </tr>\n",
       "  </thead>\n",
       "  <tbody>\n",
       "    <tr>\n",
       "      <th>0</th>\n",
       "      <td>akmenes-ams</td>\n",
       "      <td>Akmenės AMS</td>\n",
       "      <td>{'latitude': 56.24992, 'longitude': 22.73081}</td>\n",
       "    </tr>\n",
       "    <tr>\n",
       "      <th>1</th>\n",
       "      <td>alytaus-ams</td>\n",
       "      <td>Alytaus AMS</td>\n",
       "      <td>{'latitude': 54.412435, 'longitude': 24.063274}</td>\n",
       "    </tr>\n",
       "    <tr>\n",
       "      <th>2</th>\n",
       "      <td>anyksciu-ams</td>\n",
       "      <td>Anykščių AMS</td>\n",
       "      <td>{'latitude': 55.51735, 'longitude': 25.1178}</td>\n",
       "    </tr>\n",
       "    <tr>\n",
       "      <th>3</th>\n",
       "      <td>birstono-ams</td>\n",
       "      <td>Birštono AMS</td>\n",
       "      <td>{'latitude': 54.603217, 'longitude': 24.035802}</td>\n",
       "    </tr>\n",
       "    <tr>\n",
       "      <th>4</th>\n",
       "      <td>birzu-ams</td>\n",
       "      <td>Biržų AMS</td>\n",
       "      <td>{'latitude': 56.193191, 'longitude': 24.774184}</td>\n",
       "    </tr>\n",
       "  </tbody>\n",
       "</table>\n",
       "</div>"
      ],
      "text/plain": [
       "           code          name                                      coordinates\n",
       "0   akmenes-ams   Akmenės AMS    {'latitude': 56.24992, 'longitude': 22.73081}\n",
       "1   alytaus-ams   Alytaus AMS  {'latitude': 54.412435, 'longitude': 24.063274}\n",
       "2  anyksciu-ams  Anykščių AMS     {'latitude': 55.51735, 'longitude': 25.1178}\n",
       "3  birstono-ams  Birštono AMS  {'latitude': 54.603217, 'longitude': 24.035802}\n",
       "4     birzu-ams     Biržų AMS  {'latitude': 56.193191, 'longitude': 24.774184}"
      ]
     },
     "execution_count": 10,
     "metadata": {},
     "output_type": "execute_result"
    }
   ],
   "source": [
    "df = pd.DataFrame(data=r)\n",
    "df.head(5)"
   ]
  }
 ],
 "metadata": {
  "kernelspec": {
   "display_name": "Python 3",
   "language": "python",
   "name": "python3"
  },
  "language_info": {
   "codemirror_mode": {
    "name": "ipython",
    "version": 3
   },
   "file_extension": ".py",
   "mimetype": "text/x-python",
   "name": "python",
   "nbconvert_exporter": "python",
   "pygments_lexer": "ipython3",
   "version": "3.12.3"
  }
 },
 "nbformat": 4,
 "nbformat_minor": 2
}
