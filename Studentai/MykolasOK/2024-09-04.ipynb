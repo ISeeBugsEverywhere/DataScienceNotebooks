{
 "cells": [
  {
   "cell_type": "code",
   "execution_count": 1,
   "metadata": {},
   "outputs": [
    {
     "name": "stdout",
     "output_type": "stream",
     "text": [
      "30 paskaita\n",
      "(pasiruošta)\n"
     ]
    }
   ],
   "source": [
    "print('30 paskaita\\n(pasiruošta)')\n",
    "\n",
    "import pandas as pd\n",
    "import numpy as np\n",
    "import matplotlib.pyplot as plt\n",
    "import mysql.connector as cnt\n",
    "\n",
    "# import os\n",
    "# import glob"
   ]
  },
  {
   "cell_type": "code",
   "execution_count": 15,
   "metadata": {},
   "outputs": [
    {
     "name": "stdout",
     "output_type": "stream",
     "text": [
      "[1, 2, 3, 11, 22, 33, 'a', 'b', 'c']\n",
      "[11, 22, 33, 1, 2, 3, 100]\n",
      "Štai 100\n",
      "1100\n",
      "1001000\n"
     ]
    }
   ],
   "source": [
    "a=[1,2,3]\n",
    "b=[11,22,33]\n",
    "print(a+b+['a','b','c'])\n",
    "print(b+a+[100])\n",
    "a='Štai '\n",
    "b=100\n",
    "c=1000\n",
    "print(a+str(b))\n",
    "print(b+c)\n",
    "print(str(b)+str(c))"
   ]
  },
  {
   "cell_type": "code",
   "execution_count": 23,
   "metadata": {},
   "outputs": [
    {
     "name": "stdout",
     "output_type": "stream",
     "text": [
      "['pavakarė', 'pietūs', 'vakaras', 'naktis', 'pietūs', 'pavakarė', 'vakaras', 'rytas', 'priešpietė', 'vakaras', 'naktis', 'naktis', 'naktis', 'naktis', 'vakaras', 'naktis', 'vakaras', 'pavakarė', 'rytas', 'rytas']\n"
     ]
    }
   ],
   "source": [
    "times = np.random.randint(0,24,20) # .randint(0,24,1000) \n",
    "# print(times)\n",
    "\n",
    "# intervalai: # 0-6 - naktis, 7-10 - rytas, 11-12 - priešpietė, \n",
    "# 13-14-pietūs, 15-18-pavakarė, 19-22 - vakaras, 23-0 - naktis.\n",
    "# Parašykite funkciją, kuri iš times sąrašo verčių sugeneruotų tekstų (rytas, vakaras, popietė ... ) sąrašą.\n",
    "# Pritaikykite map(). Suskaičiuokite, kiek kartų pasikartojo atitinkami tekstai, \n",
    "\n",
    "def laikoPavadinimas(laikas):\n",
    "    laik=int(laikas)\n",
    "    if laik<0 :\n",
    "        return 'klaida: 001'\n",
    "    elif laik<7 :\n",
    "        return 'naktis'\n",
    "    elif laik<11 :\n",
    "        return 'rytas'\n",
    "    elif laik<13 :\n",
    "        return 'priešpietė'\n",
    "    elif laik<15 :\n",
    "        return 'pietūs'\n",
    "    elif laik<19 :\n",
    "        return 'pavakarė'\n",
    "    elif laik<23 :\n",
    "        return 'vakaras'\n",
    "    elif laik<24 :\n",
    "        return 'naktis'\n",
    "    else :\n",
    "        return 'klaida: 002'\n",
    "\n",
    "# print(laikoPavadinimas(15))\n",
    "\n",
    "print(list(map(laikoPavadinimas,times)))"
   ]
  },
  {
   "cell_type": "code",
   "execution_count": 44,
   "metadata": {},
   "outputs": [
    {
     "name": "stdout",
     "output_type": "stream",
     "text": [
      "['naktis', 'rytas', 'priešpietė', 'pietūs', 'pavakarė', 'vakaras', 'naktis']\n",
      "['naktis', 'naktis', 'naktis', 'vakaras', 'rytas', 'pavakarė', 'pavakarė', 'pietūs', 'pietūs', 'naktis', 'vakaras', 'vakaras', 'rytas', 'naktis', 'naktis', 'vakaras', 'priešpietė', 'pavakarė', 'pavakarė', 'naktis', 'priešpietė', 'naktis', 'naktis', 'naktis', 'naktis', 'naktis', 'vakaras', 'pavakarė', 'vakaras', 'pavakarė', 'naktis', 'pavakarė', 'priešpietė', 'rytas', 'naktis', 'vakaras', 'pavakarė', 'pavakarė', 'vakaras', 'vakaras', 'priešpietė', 'naktis', 'pavakarė', 'naktis', 'rytas', 'naktis', 'pavakarė', 'pavakarė', 'pavakarė', 'pietūs', 'pavakarė', 'pavakarė', 'pavakarė', 'naktis', 'pavakarė', 'naktis', 'pavakarė', 'vakaras', 'pavakarė', 'vakaras', 'rytas', 'rytas', 'priešpietė', 'pavakarė', 'priešpietė', 'pavakarė', 'pietūs', 'pavakarė', 'pavakarė', 'rytas', 'naktis', 'rytas', 'naktis', 'naktis', 'rytas', 'naktis', 'pavakarė', 'vakaras', 'pavakarė', 'naktis', 'rytas', 'naktis', 'naktis', 'naktis', 'naktis', 'pavakarė', 'naktis', 'rytas', 'rytas', 'pavakarė', 'naktis', 'pavakarė', 'vakaras', 'pavakarė', 'naktis', 'pietūs', 'rytas', 'naktis', 'vakaras', 'naktis', 'vakaras', 'vakaras', 'naktis', 'rytas', 'vakaras', 'naktis', 'rytas', 'vakaras', 'pietūs', 'naktis', 'naktis', 'pavakarė', 'naktis', 'vakaras', 'pavakarė', 'priešpietė', 'naktis', 'priešpietė', 'vakaras', 'rytas', 'naktis', 'pavakarė', 'rytas', 'rytas', 'pavakarė', 'vakaras', 'vakaras', 'vakaras', 'pietūs', 'rytas', 'pavakarė', 'pavakarė', 'naktis', 'naktis', 'priešpietė', 'rytas', 'pietūs', 'pietūs', 'pavakarė', 'pavakarė', 'rytas', 'naktis', 'rytas', 'naktis', 'naktis', 'naktis', 'rytas', 'vakaras', 'vakaras', 'naktis', 'vakaras', 'rytas', 'naktis', 'pavakarė', 'pavakarė', 'naktis', 'naktis', 'priešpietė', 'vakaras', 'naktis', 'pavakarė', 'rytas', 'vakaras', 'naktis', 'rytas', 'rytas', 'pavakarė', 'priešpietė', 'rytas', 'naktis', 'priešpietė', 'naktis', 'naktis', 'vakaras', 'naktis', 'naktis', 'naktis', 'naktis', 'naktis', 'vakaras', 'rytas', 'naktis', 'vakaras', 'naktis', 'pavakarė', 'vakaras', 'rytas', 'priešpietė', 'pietūs', 'vakaras', 'priešpietė', 'pavakarė', 'naktis', 'vakaras', 'rytas', 'vakaras', 'naktis', 'priešpietė', 'naktis', 'priešpietė', 'naktis', 'naktis', 'naktis', 'naktis', 'naktis', 'vakaras', 'vakaras', 'vakaras', 'vakaras', 'pavakarė', 'naktis', 'vakaras', 'naktis', 'naktis', 'naktis', 'pavakarė', 'rytas', 'naktis', 'priešpietė', 'naktis', 'rytas', 'vakaras', 'naktis', 'vakaras', 'naktis', 'naktis', 'naktis', 'pavakarė', 'pietūs', 'pietūs', 'naktis', 'naktis', 'naktis', 'naktis', 'pavakarė', 'priešpietė', 'rytas', 'rytas', 'pavakarė', 'vakaras', 'vakaras', 'naktis', 'naktis', 'pietūs', 'rytas', 'priešpietė', 'vakaras', 'rytas', 'pietūs', 'rytas', 'naktis', 'naktis', 'naktis', 'vakaras', 'naktis', 'naktis', 'vakaras', 'naktis', 'vakaras', 'naktis', 'naktis', 'pavakarė', 'pavakarė', 'vakaras', 'pavakarė', 'naktis', 'naktis', 'pavakarė', 'vakaras', 'pavakarė', 'naktis', 'pietūs', 'rytas', 'priešpietė', 'pietūs', 'rytas', 'naktis', 'rytas', 'rytas', 'naktis', 'vakaras', 'pavakarė', 'naktis', 'rytas', 'pavakarė', 'naktis', 'naktis', 'naktis', 'naktis', 'rytas', 'vakaras', 'naktis', 'naktis', 'pavakarė', 'pavakarė', 'pavakarė', 'pietūs', 'rytas', 'vakaras', 'vakaras', 'pietūs', 'naktis', 'naktis', 'pietūs', 'vakaras', 'naktis', 'pavakarė', 'rytas', 'naktis', 'pavakarė', 'pavakarė', 'vakaras', 'pavakarė', 'naktis', 'rytas', 'naktis', 'naktis', 'rytas', 'pavakarė', 'pavakarė', 'naktis', 'priešpietė', 'rytas', 'vakaras', 'vakaras', 'naktis', 'naktis', 'naktis', 'naktis', 'pavakarė', 'pietūs', 'naktis', 'priešpietė', 'naktis', 'naktis', 'naktis', 'naktis', 'naktis', 'naktis', 'naktis', 'naktis', 'naktis', 'rytas', 'priešpietė', 'vakaras', 'priešpietė', 'naktis', 'naktis', 'pavakarė', 'pavakarė', 'pavakarė', 'naktis', 'pietūs', 'naktis', 'pavakarė', 'naktis', 'rytas', 'pietūs', 'naktis', 'pavakarė', 'pavakarė', 'vakaras', 'pavakarė', 'rytas', 'priešpietė', 'vakaras', 'naktis', 'naktis', 'naktis', 'priešpietė', 'rytas', 'pavakarė', 'naktis', 'naktis', 'rytas', 'naktis', 'pavakarė', 'naktis', 'pavakarė', 'vakaras', 'naktis', 'pietūs', 'vakaras', 'rytas', 'pavakarė', 'naktis', 'vakaras', 'naktis', 'rytas', 'naktis', 'vakaras', 'vakaras', 'pavakarė', 'vakaras', 'rytas', 'priešpietė', 'naktis', 'vakaras', 'naktis', 'rytas', 'naktis', 'vakaras', 'naktis', 'vakaras', 'naktis', 'naktis', 'naktis', 'naktis', 'rytas', 'rytas', 'naktis', 'vakaras', 'rytas', 'rytas', 'priešpietė', 'rytas', 'pavakarė', 'pavakarė', 'rytas', 'priešpietė', 'vakaras', 'pavakarė', 'pietūs', 'rytas', 'naktis', 'naktis', 'vakaras', 'naktis', 'naktis', 'naktis', 'pavakarė', 'naktis', 'naktis', 'naktis', 'rytas', 'naktis', 'naktis', 'naktis', 'rytas', 'vakaras', 'naktis', 'rytas', 'vakaras', 'pietūs', 'pavakarė', 'rytas', 'pietūs', 'naktis', 'naktis', 'pietūs', 'rytas', 'naktis', 'vakaras', 'vakaras', 'naktis', 'pavakarė', 'rytas', 'naktis', 'priešpietė', 'vakaras', 'priešpietė', 'vakaras', 'vakaras', 'naktis', 'naktis', 'priešpietė', 'rytas', 'pietūs', 'rytas', 'naktis', 'priešpietė', 'priešpietė', 'rytas', 'vakaras', 'vakaras', 'priešpietė', 'vakaras', 'naktis', 'pietūs', 'priešpietė', 'rytas', 'pietūs', 'pavakarė', 'naktis', 'pavakarė', 'pietūs', 'rytas', 'pavakarė', 'pavakarė', 'priešpietė', 'pavakarė', 'naktis', 'naktis', 'naktis', 'pavakarė', 'naktis', 'pietūs', 'rytas', 'rytas', 'naktis', 'vakaras', 'naktis', 'pavakarė', 'naktis', 'naktis', 'priešpietė', 'vakaras', 'pavakarė', 'pavakarė', 'rytas', 'naktis', 'naktis', 'naktis', 'pavakarė', 'naktis', 'pietūs', 'naktis', 'naktis', 'priešpietė', 'pavakarė', 'priešpietė', 'rytas', 'naktis', 'pavakarė', 'pavakarė', 'naktis', 'vakaras', 'pietūs', 'vakaras', 'pietūs', 'rytas', 'rytas', 'rytas', 'naktis', 'pavakarė', 'priešpietė', 'pietūs', 'pietūs', 'vakaras', 'naktis', 'naktis', 'priešpietė', 'rytas', 'naktis', 'naktis', 'naktis', 'vakaras', 'naktis', 'rytas', 'rytas', 'naktis', 'pavakarė', 'naktis', 'pavakarė', 'naktis', 'naktis', 'pavakarė', 'vakaras', 'rytas', 'priešpietė', 'pavakarė', 'naktis', 'naktis', 'naktis', 'rytas', 'naktis', 'vakaras', 'vakaras', 'pavakarė', 'rytas', 'naktis', 'pavakarė', 'vakaras', 'naktis', 'vakaras', 'pavakarė', 'naktis', 'pavakarė', 'pavakarė', 'pietūs', 'naktis', 'naktis', 'vakaras', 'pavakarė', 'pavakarė', 'vakaras', 'naktis', 'vakaras', 'naktis', 'vakaras', 'naktis', 'rytas', 'naktis', 'rytas', 'pavakarė', 'priešpietė', 'vakaras', 'naktis', 'pietūs', 'naktis', 'priešpietė', 'pietūs', 'pavakarė', 'rytas', 'vakaras', 'vakaras', 'naktis', 'naktis', 'pavakarė', 'naktis', 'naktis', 'naktis', 'priešpietė', 'priešpietė', 'vakaras', 'naktis', 'pavakarė', 'rytas', 'priešpietė', 'rytas', 'rytas', 'vakaras', 'pietūs', 'rytas', 'priešpietė', 'vakaras', 'pavakarė', 'naktis', 'vakaras', 'pavakarė', 'rytas', 'pietūs', 'vakaras', 'naktis', 'vakaras', 'pietūs', 'pavakarė', 'naktis', 'naktis', 'vakaras', 'vakaras', 'pietūs', 'pavakarė', 'naktis', 'pavakarė', 'rytas', 'naktis', 'naktis', 'pavakarė', 'rytas', 'naktis', 'naktis', 'vakaras', 'pavakarė', 'rytas', 'naktis', 'naktis', 'naktis', 'vakaras', 'vakaras', 'naktis', 'naktis', 'rytas', 'pavakarė', 'priešpietė', 'naktis', 'vakaras', 'rytas', 'vakaras', 'pavakarė', 'naktis', 'naktis', 'pavakarė', 'naktis', 'naktis', 'naktis', 'naktis', 'pietūs', 'rytas', 'naktis', 'priešpietė', 'naktis', 'naktis', 'naktis', 'priešpietė', 'pavakarė', 'vakaras', 'naktis', 'priešpietė', 'rytas', 'naktis', 'pietūs', 'naktis', 'naktis', 'rytas', 'pavakarė', 'vakaras', 'naktis', 'vakaras', 'pietūs', 'rytas', 'naktis', 'vakaras', 'naktis', 'vakaras', 'naktis', 'naktis', 'naktis', 'priešpietė', 'vakaras', 'naktis', 'rytas', 'rytas', 'rytas', 'naktis', 'vakaras', 'vakaras', 'naktis', 'rytas', 'naktis', 'pavakarė', 'rytas', 'naktis', 'naktis', 'pavakarė', 'vakaras', 'naktis', 'rytas', 'vakaras', 'pietūs', 'rytas', 'rytas', 'rytas', 'naktis', 'pietūs', 'pavakarė', 'rytas', 'naktis', 'naktis', 'pietūs', 'pietūs', 'naktis', 'naktis', 'pavakarė', 'naktis', 'naktis', 'vakaras', 'rytas', 'naktis', 'pietūs', 'priešpietė', 'pavakarė', 'naktis', 'rytas', 'pietūs', 'vakaras', 'vakaras', 'naktis', 'naktis', 'naktis', 'naktis', 'priešpietė', 'naktis', 'naktis', 'pietūs', 'rytas', 'pavakarė', 'vakaras', 'pietūs', 'vakaras', 'naktis', 'pavakarė', 'naktis', 'vakaras', 'naktis', 'vakaras', 'rytas', 'vakaras', 'naktis', 'naktis', 'pietūs', 'pavakarė', 'naktis', 'vakaras', 'naktis', 'priešpietė', 'naktis', 'naktis', 'rytas', 'pavakarė', 'naktis', 'vakaras', 'priešpietė', 'priešpietė', 'naktis', 'naktis', 'pietūs', 'pavakarė', 'rytas', 'priešpietė', 'naktis', 'rytas', 'naktis', 'pietūs', 'vakaras', 'vakaras', 'vakaras', 'vakaras', 'vakaras', 'naktis', 'pavakarė', 'vakaras', 'vakaras', 'naktis', 'rytas', 'rytas', 'pietūs', 'rytas', 'vakaras', 'rytas', 'pavakarė', 'naktis', 'pietūs', 'pavakarė', 'naktis', 'vakaras', 'vakaras', 'pavakarė', 'vakaras', 'pavakarė', 'naktis', 'naktis', 'pavakarė', 'pietūs', 'pavakarė', 'priešpietė', 'naktis', 'naktis', 'naktis', 'priešpietė', 'naktis', 'naktis', 'naktis', 'naktis', 'priešpietė', 'rytas', 'rytas', 'rytas', 'naktis', 'naktis', 'naktis', 'vakaras', 'priešpietė', 'rytas', 'vakaras', 'pavakarė', 'pietūs', 'vakaras', 'pavakarė', 'naktis', 'vakaras', 'rytas', 'rytas', 'rytas', 'naktis', 'naktis', 'priešpietė', 'naktis', 'rytas', 'vakaras', 'rytas', 'vakaras', 'priešpietė', 'naktis', 'vakaras', 'priešpietė', 'naktis', 'naktis', 'naktis', 'pietūs', 'naktis', 'vakaras', 'rytas', 'pavakarė', 'vakaras', 'pavakarė', 'vakaras', 'naktis', 'priešpietė', 'priešpietė', 'rytas', 'rytas', 'naktis', 'pietūs', 'priešpietė', 'pavakarė', 'naktis', 'naktis', 'pavakarė', 'pavakarė', 'rytas', 'pavakarė', 'naktis', 'naktis', 'vakaras', 'rytas', 'naktis', 'naktis', 'rytas', 'naktis', 'naktis', 'vakaras', 'pietūs', 'vakaras', 'naktis', 'naktis', 'rytas', 'rytas', 'priešpietė', 'pavakarė', 'pavakarė', 'rytas', 'naktis', 'vakaras', 'vakaras', 'priešpietė', 'pietūs', 'vakaras', 'naktis', 'naktis', 'vakaras', 'naktis', 'naktis', 'naktis', 'pavakarė', 'naktis', 'priešpietė', 'naktis', 'rytas', 'naktis', 'vakaras', 'pavakarė', 'naktis', 'rytas', 'naktis', 'pavakarė', 'pietūs', 'rytas', 'pietūs', 'vakaras', 'naktis', 'naktis', 'pietūs', 'rytas', 'naktis', 'pavakarė', 'priešpietė', 'pavakarė', 'pietūs', 'pavakarė', 'naktis', 'priešpietė', 'vakaras', 'naktis', 'pavakarė', 'rytas', 'rytas', 'priešpietė', 'vakaras', 'naktis', 'naktis', 'pavakarė', 'pavakarė', 'vakaras', 'naktis', 'vakaras', 'naktis', 'priešpietė', 'naktis', 'naktis', 'rytas', 'vakaras', 'pietūs', 'vakaras', 'naktis', 'naktis', 'naktis', 'pavakarė', 'naktis', 'naktis', 'pietūs', 'pietūs', 'rytas', 'rytas', 'pietūs', 'pavakarė', 'rytas', 'pavakarė', 'pavakarė', 'naktis']\n",
      "{'naktis': 360, 'rytas': 155, 'priešpietė': 77, 'pietūs': 74, 'pavakarė': 164, 'vakaras': 170}\n"
     ]
    },
    {
     "data": {
      "image/png": "[encoded data removed]",
      "text/plain": [
       "<Figure size 640x480 with 1 Axes>"
      ]
     },
     "metadata": {},
     "output_type": "display_data"
    }
   ],
   "source": [
    "times = np.random.randint(0,24,1000) # .randint(0,24,1000) \n",
    "# print(times)\n",
    "\n",
    "# intervalai: # 0-6 - naktis, 7-10 - rytas, 11-12 - priešpietė, \n",
    "# 13-14-pietūs, 15-18-pavakarė, 19-22 - vakaras, 23-0 - naktis.\n",
    "# Parašykite funkciją, kuri iš times sąrašo verčių sugeneruotų tekstų (rytas, vakaras, popietė ... ) sąrašą.\n",
    "# Pritaikykite map(). Suskaičiuokite, kiek kartų pasikartojo atitinkami tekstai, \n",
    "# (!) atvaizduokite tai su bar arba barh.\n",
    "\n",
    "print(intervaloPavadinimas)\n",
    "\n",
    "# def intervaloIndex(laikas):\n",
    "#     laik=int(laikas)\n",
    "#     if laik<0 :\n",
    "#         print('klaida: 001')\n",
    "#         return(-1)\n",
    "#     elif laik<7 :\n",
    "#         return 0\n",
    "#     elif laik<11 :\n",
    "#         return 1\n",
    "#     elif laik<13 :\n",
    "#         return 2\n",
    "#     elif laik<15 :\n",
    "#         return 3\n",
    "#     elif laik<19 :\n",
    "#         return 4\n",
    "#     elif laik<23 :\n",
    "#         return 5\n",
    "#     elif laik<24 :\n",
    "#         return 0\n",
    "#     else :\n",
    "#         print('klaida: 002')\n",
    "#         return(-1)\n",
    "\n",
    "\n",
    "intervalai=list(map(laikoPavadinimas,times))\n",
    "print(intervalai)\n",
    "\n",
    "L = ['naktis','rytas','priešpietė','pietūs','pavakarė','vakaras']\n",
    "D = {i:intervalai.count(i) for i in L}\n",
    "print(D)\n",
    "\n",
    "plt.bar(list(D.keys()), list(D.values()), align='center')\n",
    "# plt.xticks(range(len(D)), list(D.keys()))\n",
    "plt.show()"
   ]
  }
 ],
 "metadata": {
  "kernelspec": {
   "display_name": "Python 3",
   "language": "python",
   "name": "python3"
  },
  "language_info": {
   "codemirror_mode": {
    "name": "ipython",
    "version": 3
   },
   "file_extension": ".py",
   "mimetype": "text/x-python",
   "name": "python",
   "nbconvert_exporter": "python",
   "pygments_lexer": "ipython3",
   "version": "3.12.3"
  }
 },
 "nbformat": 4,
 "nbformat_minor": 2
}
