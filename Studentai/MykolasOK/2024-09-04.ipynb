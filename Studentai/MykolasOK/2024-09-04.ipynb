{
 "cells": [
  {
   "cell_type": "code",
   "execution_count": 1,
   "metadata": {},
   "outputs": [
    {
     "name": "stdout",
     "output_type": "stream",
     "text": [
      "30 paskaita\n",
      "(pasiruošta)\n"
     ]
    }
   ],
   "source": [
    "print('30 paskaita\\n(pasiruošta)')\n",
    "\n",
    "import pandas as pd\n",
    "import numpy as np\n",
    "import matplotlib.pyplot as plt\n",
    "import mysql.connector as cnt\n",
    "\n",
    "# import os\n",
    "# import glob"
   ]
  },
  {
   "cell_type": "code",
   "execution_count": 2,
   "metadata": {},
   "outputs": [
    {
     "name": "stdout",
     "output_type": "stream",
     "text": [
      "[1, 2, 3, 11, 22, 33, 'a', 'b', 'c']\n",
      "[11, 22, 33, 1, 2, 3, 100]\n",
      "Štai 100\n",
      "1100\n",
      "1001000\n"
     ]
    }
   ],
   "source": [
    "a=[1,2,3]\n",
    "b=[11,22,33]\n",
    "print(a+b+['a','b','c'])\n",
    "print(b+a+[100])\n",
    "a='Štai '\n",
    "b=100\n",
    "c=1000\n",
    "print(a+str(b))\n",
    "print(b+c)\n",
    "print(str(b)+str(c))"
   ]
  },
  {
   "cell_type": "code",
   "execution_count": 4,
   "metadata": {},
   "outputs": [
    {
     "name": "stdout",
     "output_type": "stream",
     "text": [
      "['pietūs', 'rytas', 'rytas', 'rytas', 'vakaras', 'pavakarė', 'naktis', 'vakaras', 'rytas', 'naktis', 'priešpietė', 'priešpietė', 'vakaras', 'pietūs', 'naktis', 'rytas', 'naktis', 'pavakarė', 'pietūs', 'rytas']\n"
     ]
    }
   ],
   "source": [
    "times = np.random.randint(0,24,20) # .randint(0,24,1000) \n",
    "# print(times)\n",
    "\n",
    "# intervalai: # 0-6 - naktis, 7-10 - rytas, 11-12 - priešpietė, \n",
    "# 13-14-pietūs, 15-18-pavakarė, 19-22 - vakaras, 23-0 - naktis.\n",
    "# Parašykite funkciją, kuri iš times sąrašo verčių sugeneruotų tekstų (rytas, vakaras, popietė ... ) sąrašą.\n",
    "# Pritaikykite map(). Suskaičiuokite, kiek kartų pasikartojo atitinkami tekstai, \n",
    "\n",
    "def laikoPavadinimas(laikas):\n",
    "    laik=int(laikas)\n",
    "    if laik<0 :\n",
    "        return 'klaida: 001'\n",
    "    elif laik<7 :\n",
    "        return 'naktis'\n",
    "    elif laik<11 :\n",
    "        return 'rytas'\n",
    "    elif laik<13 :\n",
    "        return 'priešpietė'\n",
    "    elif laik<15 :\n",
    "        return 'pietūs'\n",
    "    elif laik<19 :\n",
    "        return 'pavakarė'\n",
    "    elif laik<23 :\n",
    "        return 'vakaras'\n",
    "    elif laik<24 :\n",
    "        return 'naktis'\n",
    "    else :\n",
    "        return 'klaida: 002'\n",
    "\n",
    "# print(laikoPavadinimas(15))\n",
    "\n",
    "print(list(map(laikoPavadinimas,times)))"
   ]
  },
  {
   "cell_type": "code",
   "execution_count": 6,
   "metadata": {},
   "outputs": [
    {
     "name": "stdout",
     "output_type": "stream",
     "text": [
      "['naktis', 'rytas', 'naktis', 'naktis', 'naktis', 'pietūs', 'pavakarė', 'pietūs', 'vakaras', 'rytas', 'priešpietė', 'rytas', 'priešpietė', 'priešpietė', 'pavakarė', 'vakaras', 'vakaras', 'naktis', 'rytas', 'rytas', 'pietūs', 'vakaras', 'priešpietė', 'vakaras', 'rytas', 'vakaras', 'pietūs', 'rytas', 'pavakarė', 'naktis', 'vakaras', 'rytas', 'pavakarė', 'pavakarė', 'pavakarė', 'vakaras', 'naktis', 'naktis', 'vakaras', 'rytas', 'pavakarė', 'naktis', 'vakaras', 'naktis', 'vakaras', 'naktis', 'rytas', 'rytas', 'rytas', 'pavakarė', 'naktis', 'vakaras', 'naktis', 'pavakarė', 'naktis', 'naktis', 'naktis', 'rytas', 'naktis', 'priešpietė', 'priešpietė', 'naktis', 'naktis', 'rytas', 'pavakarė', 'pavakarė', 'naktis', 'rytas', 'priešpietė', 'pavakarė', 'naktis', 'naktis', 'naktis', 'pavakarė', 'naktis', 'rytas', 'pietūs', 'naktis', 'naktis', 'vakaras', 'rytas', 'naktis', 'pietūs', 'pavakarė', 'rytas', 'vakaras', 'naktis', 'rytas', 'rytas', 'naktis', 'pavakarė', 'rytas', 'priešpietė', 'vakaras', 'pavakarė', 'naktis', 'naktis', 'vakaras', 'naktis', 'naktis', 'naktis', 'naktis', 'pavakarė', 'pietūs', 'rytas', 'vakaras', 'priešpietė', 'naktis', 'priešpietė', 'pietūs', 'naktis', 'pavakarė', 'naktis', 'pavakarė', 'vakaras', 'rytas', 'pietūs', 'naktis', 'rytas', 'vakaras', 'pavakarė', 'naktis', 'naktis', 'naktis', 'vakaras', 'naktis', 'naktis', 'pavakarė', 'priešpietė', 'priešpietė', 'vakaras', 'naktis', 'naktis', 'rytas', 'rytas', 'naktis', 'naktis', 'vakaras', 'pavakarė', 'rytas', 'naktis', 'pavakarė', 'rytas', 'pavakarė', 'pavakarė', 'naktis', 'priešpietė', 'vakaras', 'rytas', 'naktis', 'pavakarė', 'vakaras', 'pavakarė', 'naktis', 'pavakarė', 'vakaras', 'pavakarė', 'pietūs', 'naktis', 'pavakarė', 'rytas', 'pavakarė', 'naktis', 'naktis', 'vakaras', 'rytas', 'rytas', 'naktis', 'priešpietė', 'pavakarė', 'rytas', 'naktis', 'vakaras', 'pavakarė', 'pietūs', 'pavakarė', 'naktis', 'pavakarė', 'priešpietė', 'pavakarė', 'pavakarė', 'vakaras', 'naktis', 'naktis', 'pavakarė', 'pietūs', 'pavakarė', 'vakaras', 'rytas', 'vakaras', 'naktis', 'rytas', 'priešpietė', 'naktis', 'rytas', 'naktis', 'priešpietė', 'naktis', 'pavakarė', 'naktis', 'pietūs', 'rytas', 'rytas', 'rytas', 'rytas', 'naktis', 'naktis', 'rytas', 'pavakarė', 'naktis', 'naktis', 'vakaras', 'naktis', 'naktis', 'vakaras', 'pietūs', 'naktis', 'rytas', 'pavakarė', 'rytas', 'priešpietė', 'naktis', 'naktis', 'naktis', 'naktis', 'vakaras', 'naktis', 'pavakarė', 'rytas', 'naktis', 'vakaras', 'naktis', 'pavakarė', 'pavakarė', 'naktis', 'naktis', 'pavakarė', 'rytas', 'rytas', 'naktis', 'priešpietė', 'naktis', 'naktis', 'pietūs', 'naktis', 'naktis', 'naktis', 'naktis', 'priešpietė', 'vakaras', 'priešpietė', 'naktis', 'naktis', 'naktis', 'vakaras', 'naktis', 'naktis', 'vakaras', 'naktis', 'naktis', 'priešpietė', 'naktis', 'naktis', 'pavakarė', 'vakaras', 'vakaras', 'pietūs', 'pavakarė', 'vakaras', 'naktis', 'naktis', 'naktis', 'naktis', 'naktis', 'rytas', 'naktis', 'naktis', 'pietūs', 'pavakarė', 'naktis', 'naktis', 'vakaras', 'rytas', 'naktis', 'naktis', 'naktis', 'naktis', 'priešpietė', 'pavakarė', 'pavakarė', 'naktis', 'naktis', 'pavakarė', 'naktis', 'pavakarė', 'pavakarė', 'naktis', 'naktis', 'naktis', 'pietūs', 'naktis', 'rytas', 'vakaras', 'naktis', 'naktis', 'vakaras', 'naktis', 'naktis', 'naktis', 'pavakarė', 'vakaras', 'priešpietė', 'naktis', 'priešpietė', 'naktis', 'rytas', 'naktis', 'pavakarė', 'naktis', 'naktis', 'rytas', 'rytas', 'rytas', 'vakaras', 'rytas', 'vakaras', 'pavakarė', 'vakaras', 'vakaras', 'pavakarė', 'naktis', 'pavakarė', 'pavakarė', 'naktis', 'vakaras', 'rytas', 'vakaras', 'pavakarė', 'pavakarė', 'naktis', 'vakaras', 'priešpietė', 'pietūs', 'pavakarė', 'naktis', 'priešpietė', 'rytas', 'priešpietė', 'rytas', 'pavakarė', 'naktis', 'naktis', 'vakaras', 'vakaras', 'rytas', 'pavakarė', 'rytas', 'pavakarė', 'pavakarė', 'pavakarė', 'pavakarė', 'pavakarė', 'pavakarė', 'pavakarė', 'pavakarė', 'vakaras', 'pavakarė', 'naktis', 'naktis', 'vakaras', 'naktis', 'vakaras', 'naktis', 'vakaras', 'rytas', 'vakaras', 'naktis', 'priešpietė', 'rytas', 'rytas', 'pietūs', 'naktis', 'rytas', 'naktis', 'naktis', 'vakaras', 'naktis', 'naktis', 'rytas', 'pavakarė', 'pavakarė', 'pavakarė', 'vakaras', 'naktis', 'naktis', 'rytas', 'pavakarė', 'naktis', 'vakaras', 'naktis', 'rytas', 'vakaras', 'priešpietė', 'naktis', 'naktis', 'naktis', 'pavakarė', 'naktis', 'naktis', 'pavakarė', 'vakaras', 'priešpietė', 'priešpietė', 'vakaras', 'pavakarė', 'pavakarė', 'pavakarė', 'naktis', 'pavakarė', 'naktis', 'pavakarė', 'naktis', 'priešpietė', 'naktis', 'priešpietė', 'naktis', 'vakaras', 'rytas', 'rytas', 'rytas', 'vakaras', 'rytas', 'naktis', 'pietūs', 'rytas', 'rytas', 'rytas', 'rytas', 'vakaras', 'pavakarė', 'vakaras', 'pietūs', 'rytas', 'naktis', 'rytas', 'rytas', 'vakaras', 'naktis', 'vakaras', 'pavakarė', 'naktis', 'naktis', 'vakaras', 'naktis', 'naktis', 'naktis', 'naktis', 'vakaras', 'naktis', 'pietūs', 'naktis', 'rytas', 'pavakarė', 'priešpietė', 'naktis', 'vakaras', 'pietūs', 'pavakarė', 'naktis', 'pietūs', 'rytas', 'naktis', 'vakaras', 'priešpietė', 'naktis', 'pavakarė', 'naktis', 'pavakarė', 'naktis', 'pavakarė', 'rytas', 'naktis', 'vakaras', 'naktis', 'vakaras', 'pietūs', 'rytas', 'rytas', 'vakaras', 'rytas', 'naktis', 'rytas', 'priešpietė', 'priešpietė', 'pavakarė', 'naktis', 'naktis', 'vakaras', 'vakaras', 'vakaras', 'rytas', 'vakaras', 'pietūs', 'naktis', 'naktis', 'rytas', 'vakaras', 'vakaras', 'priešpietė', 'priešpietė', 'naktis', 'priešpietė', 'vakaras', 'pavakarė', 'vakaras', 'rytas', 'naktis', 'pavakarė', 'naktis', 'vakaras', 'rytas', 'pavakarė', 'pietūs', 'naktis', 'naktis', 'vakaras', 'pietūs', 'vakaras', 'priešpietė', 'rytas', 'naktis', 'naktis', 'rytas', 'naktis', 'naktis', 'rytas', 'vakaras', 'naktis', 'vakaras', 'pietūs', 'vakaras', 'priešpietė', 'pavakarė', 'priešpietė', 'naktis', 'vakaras', 'pavakarė', 'naktis', 'naktis', 'priešpietė', 'priešpietė', 'pietūs', 'naktis', 'naktis', 'pavakarė', 'vakaras', 'naktis', 'naktis', 'vakaras', 'vakaras', 'rytas', 'vakaras', 'pavakarė', 'pietūs', 'pavakarė', 'vakaras', 'rytas', 'pavakarė', 'naktis', 'vakaras', 'naktis', 'naktis', 'naktis', 'naktis', 'rytas', 'rytas', 'naktis', 'rytas', 'rytas', 'naktis', 'naktis', 'rytas', 'rytas', 'rytas', 'rytas', 'rytas', 'pavakarė', 'naktis', 'naktis', 'vakaras', 'naktis', 'naktis', 'rytas', 'naktis', 'rytas', 'pavakarė', 'naktis', 'rytas', 'vakaras', 'naktis', 'priešpietė', 'rytas', 'naktis', 'rytas', 'vakaras', 'naktis', 'pietūs', 'naktis', 'naktis', 'naktis', 'priešpietė', 'vakaras', 'rytas', 'vakaras', 'naktis', 'pavakarė', 'naktis', 'vakaras', 'rytas', 'rytas', 'vakaras', 'vakaras', 'vakaras', 'rytas', 'pietūs', 'vakaras', 'priešpietė', 'rytas', 'naktis', 'naktis', 'pietūs', 'pavakarė', 'rytas', 'rytas', 'rytas', 'pavakarė', 'pavakarė', 'vakaras', 'vakaras', 'vakaras', 'pietūs', 'pavakarė', 'pavakarė', 'vakaras', 'naktis', 'rytas', 'naktis', 'naktis', 'pietūs', 'pavakarė', 'priešpietė', 'pietūs', 'naktis', 'pietūs', 'pavakarė', 'rytas', 'priešpietė', 'pavakarė', 'naktis', 'naktis', 'rytas', 'naktis', 'vakaras', 'priešpietė', 'naktis', 'pavakarė', 'naktis', 'rytas', 'rytas', 'rytas', 'naktis', 'naktis', 'naktis', 'naktis', 'pietūs', 'vakaras', 'naktis', 'rytas', 'naktis', 'naktis', 'vakaras', 'vakaras', 'naktis', 'rytas', 'priešpietė', 'vakaras', 'vakaras', 'naktis', 'rytas', 'pavakarė', 'vakaras', 'naktis', 'rytas', 'naktis', 'pavakarė', 'naktis', 'rytas', 'naktis', 'pavakarė', 'pietūs', 'pavakarė', 'vakaras', 'naktis', 'rytas', 'naktis', 'vakaras', 'rytas', 'naktis', 'pavakarė', 'pavakarė', 'pavakarė', 'vakaras', 'naktis', 'naktis', 'pavakarė', 'vakaras', 'rytas', 'rytas', 'pavakarė', 'pavakarė', 'pietūs', 'naktis', 'naktis', 'naktis', 'rytas', 'rytas', 'rytas', 'rytas', 'naktis', 'priešpietė', 'rytas', 'vakaras', 'pietūs', 'priešpietė', 'naktis', 'vakaras', 'naktis', 'naktis', 'pavakarė', 'vakaras', 'naktis', 'pavakarė', 'naktis', 'naktis', 'vakaras', 'vakaras', 'pavakarė', 'naktis', 'naktis', 'vakaras', 'naktis', 'naktis', 'naktis', 'pavakarė', 'pavakarė', 'naktis', 'vakaras', 'naktis', 'pavakarė', 'naktis', 'rytas', 'pavakarė', 'vakaras', 'pietūs', 'pavakarė', 'pavakarė', 'naktis', 'pavakarė', 'rytas', 'priešpietė', 'rytas', 'pietūs', 'naktis', 'naktis', 'naktis', 'naktis', 'vakaras', 'rytas', 'naktis', 'rytas', 'pavakarė', 'pietūs', 'pavakarė', 'vakaras', 'naktis', 'rytas', 'vakaras', 'pavakarė', 'pietūs', 'naktis', 'rytas', 'pietūs', 'naktis', 'naktis', 'naktis', 'naktis', 'rytas', 'naktis', 'pavakarė', 'rytas', 'naktis', 'naktis', 'naktis', 'priešpietė', 'vakaras', 'vakaras', 'vakaras', 'pavakarė', 'pietūs', 'naktis', 'pavakarė', 'rytas', 'vakaras', 'pavakarė', 'naktis', 'vakaras', 'vakaras', 'rytas', 'naktis', 'naktis', 'naktis', 'naktis', 'pietūs', 'rytas', 'vakaras', 'naktis', 'naktis', 'pavakarė', 'vakaras', 'rytas', 'priešpietė', 'naktis', 'pavakarė', 'priešpietė', 'rytas', 'naktis', 'rytas', 'naktis', 'naktis', 'vakaras', 'rytas', 'priešpietė', 'vakaras', 'pavakarė', 'rytas', 'pavakarė', 'naktis', 'rytas', 'naktis', 'naktis', 'naktis', 'vakaras', 'naktis', 'vakaras', 'naktis', 'pavakarė', 'priešpietė', 'naktis', 'pavakarė', 'pietūs', 'naktis', 'pavakarė', 'vakaras', 'pietūs', 'rytas', 'naktis', 'naktis', 'priešpietė', 'naktis', 'pavakarė', 'rytas', 'vakaras', 'vakaras', 'naktis', 'vakaras', 'pavakarė', 'rytas', 'naktis', 'naktis', 'pietūs', 'vakaras', 'naktis', 'pavakarė', 'naktis', 'naktis', 'vakaras', 'pietūs', 'pavakarė', 'rytas', 'pavakarė', 'pavakarė', 'rytas', 'naktis', 'priešpietė', 'rytas', 'vakaras', 'priešpietė', 'priešpietė', 'pavakarė', 'priešpietė', 'priešpietė', 'naktis', 'pavakarė', 'pietūs', 'naktis', 'priešpietė', 'pietūs', 'vakaras', 'pavakarė', 'naktis', 'priešpietė', 'pavakarė', 'rytas', 'pavakarė', 'naktis', 'rytas', 'naktis', 'priešpietė', 'naktis', 'naktis', 'vakaras', 'naktis', 'naktis', 'pavakarė', 'naktis', 'pietūs', 'naktis', 'priešpietė', 'naktis', 'priešpietė', 'pavakarė', 'pavakarė', 'pavakarė', 'rytas', 'pavakarė', 'rytas', 'pavakarė', 'priešpietė', 'pietūs', 'pavakarė', 'pavakarė', 'pavakarė', 'vakaras', 'pietūs', 'rytas', 'naktis', 'pavakarė', 'naktis', 'naktis', 'pavakarė', 'naktis', 'naktis', 'rytas', 'vakaras', 'pavakarė', 'rytas', 'naktis', 'vakaras', 'rytas', 'naktis', 'naktis', 'naktis', 'pavakarė', 'priešpietė', 'naktis', 'priešpietė', 'naktis', 'vakaras', 'priešpietė', 'pavakarė', 'naktis', 'priešpietė', 'naktis', 'pietūs', 'pietūs', 'vakaras', 'naktis', 'naktis', 'vakaras', 'pietūs', 'naktis', 'naktis', 'rytas', 'vakaras', 'pavakarė', 'naktis', 'naktis', 'pavakarė', 'rytas', 'rytas', 'vakaras', 'vakaras', 'priešpietė', 'pavakarė', 'priešpietė', 'pavakarė', 'pavakarė', 'vakaras', 'vakaras', 'naktis']\n",
      "{'naktis': 345, 'rytas': 170, 'priešpietė': 79, 'pietūs': 62, 'pavakarė': 178, 'vakaras': 166}\n"
     ]
    },
    {
     "data": {
      "image/png": "[encoded data removed]",
      "text/plain": [
       "<Figure size 640x480 with 1 Axes>"
      ]
     },
     "metadata": {},
     "output_type": "display_data"
    }
   ],
   "source": [
    "times = np.random.randint(0,24,1000) # .randint(0,24,1000) \n",
    "# print(times)\n",
    "\n",
    "# intervalai: # 0-6 - naktis, 7-10 - rytas, 11-12 - priešpietė, \n",
    "# 13-14-pietūs, 15-18-pavakarė, 19-22 - vakaras, 23-0 - naktis.\n",
    "# Parašykite funkciją, kuri iš times sąrašo verčių sugeneruotų tekstų (rytas, vakaras, popietė ... ) sąrašą.\n",
    "# Pritaikykite map(). Suskaičiuokite, kiek kartų pasikartojo atitinkami tekstai, \n",
    "# (!) atvaizduokite tai su bar arba barh.\n",
    "\n",
    "# def intervaloIndex(laikas):\n",
    "#     laik=int(laikas)\n",
    "#     if laik<0 :\n",
    "#         print('klaida: 001')\n",
    "#         return(-1)\n",
    "#     elif laik<7 :\n",
    "#         return 0\n",
    "#     elif laik<11 :\n",
    "#         return 1\n",
    "#     elif laik<13 :\n",
    "#         return 2\n",
    "#     elif laik<15 :\n",
    "#         return 3\n",
    "#     elif laik<19 :\n",
    "#         return 4\n",
    "#     elif laik<23 :\n",
    "#         return 5\n",
    "#     elif laik<24 :\n",
    "#         return 0 # Vėl nulis, nes vėl naktis.\n",
    "#     else :\n",
    "#         print('klaida: 002')\n",
    "#         return(-1)\n",
    "\n",
    "\n",
    "intervalai=list(map(laikoPavadinimas,times))\n",
    "print(intervalai)\n",
    "\n",
    "L = ['naktis','rytas','priešpietė','pietūs','pavakarė','vakaras']\n",
    "D = {i:intervalai.count(i) for i in L}\n",
    "print(D)\n",
    "\n",
    "plt.bar(list(D.keys()), list(D.values()), align='center')\n",
    "# plt.xticks(range(len(D)), list(D.keys()))\n",
    "plt.show()"
   ]
  },
  {
   "cell_type": "code",
   "execution_count": 7,
   "metadata": {},
   "outputs": [
    {
     "data": {
      "image/png": "[encoded data removed]",
      "text/plain": [
       "<Figure size 500x500 with 1 Axes>"
      ]
     },
     "metadata": {},
     "output_type": "display_data"
    }
   ],
   "source": [
    "# Dėstytojo versija:\n",
    "\n",
    "times = np.random.randint(0,24,1000)\n",
    "# intervalai : 0-6 - naktis, 7-10 - rytas, \n",
    "# 11-12 - priešpietė, 13-14-pietūs, 15-18-pavakarė, 19-22 - vakaras, \n",
    "# 23 - 0 - naktis. \n",
    "#  Parašykite funkciją, kuri iš times sąrašo verčių sugeneruotų \n",
    "# tekstų (rytas, vakaras, popietė ... ) sąrašą. Pritaikykite map(). \n",
    "# Suskaičiuokite, kiek kartų pasikartojo atitinkami tekstai, atvaizduokite tai su bar arba barh.\n",
    "def f(x):\n",
    "    if 0<=x<=6 or x>=23:\n",
    "        return 'naktis'\n",
    "    elif 7<=x<=10:\n",
    "        return 'rytas'\n",
    "    elif 11<=x<=12:\n",
    "        return 'priešpietė'\n",
    "    elif 13<=x<=14:\n",
    "        return 'pietūs'\n",
    "    elif 15<=x<=18:\n",
    "        return 'pavakarė'\n",
    "    elif 19<=x<=22:\n",
    "        return 'vakaras'\n",
    "\n",
    "ptimes = list(map(f, times))\n",
    "uniq = list(set(ptimes))\n",
    "vals = dict.fromkeys(uniq, 0)\n",
    "for i in uniq:\n",
    "    c = ptimes.count(i)\n",
    "    vals[i] = c\n",
    "\n",
    "fig, axis = plt.subplots(figsize=(5,5))\n",
    "#plotting code:\n",
    "p = axis.bar(list(vals.keys()), list(vals.values()))\n",
    "axis.bar_label(p)\n",
    "#axis.legend(loc='best')\n",
    "#axis.ticklabel_format(style='plain')\n",
    "fig.tight_layout()\n",
    "plt.show()"
   ]
  },
  {
   "cell_type": "code",
   "execution_count": 8,
   "metadata": {},
   "outputs": [
    {
     "name": "stdout",
     "output_type": "stream",
     "text": [
      "['BMW', 'MIT', 'SEA', 'SKO', 'VOL', 'AUD', 'DAC', 'SKO', 'BMW', 'VOL', 'BMW', 'MER', 'FOR', 'BMW', 'BMW', 'MAZ', 'HYU', 'AUD', 'VOL', 'BMW', 'VOL', 'AUD', 'VOL', 'MER', 'VOL']\n"
     ]
    }
   ],
   "source": [
    "# Su map() sugeneruokite naują sąrašą, kur būtų pirmi 3 simboliai didžiosiomis iš duotojo sąrašo:\n",
    "\n",
    "a = ['BMW', 'Mitsubishi', 'Seat', 'Skoda', 'Volvo', 'Audi', 'Dacia', 'Skoda', 'BMW', 'Volkswagen', 'BMW', 'Mercedes-Benz', 'Ford', 'BMW', 'BMW', 'Mazda', 'Hyundai', 'Audi', 'Volvo', 'BMW', 'Volkswagen', 'Audi', 'Volkswagen', 'Mercedes-Benz', 'Volkswagen']\n",
    "a3 =  list(map(lambda s: s[:3].upper(), a))\n",
    "print(a3)"
   ]
  },
  {
   "cell_type": "code",
   "execution_count": null,
   "metadata": {},
   "outputs": [],
   "source": [
    "# Toliau - snipet pavyzdžiai:"
   ]
  },
  {
   "cell_type": "code",
   "execution_count": 10,
   "metadata": {},
   "outputs": [],
   "source": [
    "# (eil pradžioje rašyti) :simp\n",
    "\n",
    "import numpy as np\n",
    "import pandas as pd\n",
    "import matplotlib.pyplot as plt\n",
    "import warnings\n",
    "warnings.filterwarnings('ignore')\n",
    "import seaborn as sns\n",
    "import sqlite3\n",
    "import mysql.connector as cnt\n",
    "import plotly.express as px"
   ]
  },
  {
   "cell_type": "code",
   "execution_count": null,
   "metadata": {},
   "outputs": [],
   "source": [
    "# (eil pradžioje rašyti) :imp\n",
    "\n",
    "#standartiniai moduliai\n",
    "import numpy as np\n",
    "import numpy.polynomial.polynomial as poly\n",
    "import pandas as pd\n",
    "import matplotlib.pyplot as plt\n",
    "import matplotlib as mpl\n",
    "from datetime import datetime\n",
    "from dateutil import parser\n",
    "import mysql.connector as cnt\n",
    "#import panel as pn\n",
    "#pn.extension()\n",
    "import seaborn as sns\n",
    "import os, sys\n",
    "print(os.getcwd())\n",
    "fontsize=16 #for all entries\n",
    "titlesize=24\n",
    "labelsize=16\n",
    "fwidth=6\n",
    "fheight=4"
   ]
  },
  {
   "cell_type": "code",
   "execution_count": null,
   "metadata": {},
   "outputs": [],
   "source": [
    "# :sql\n",
    "\n",
    "#sql užklausos vykdymas per mysql/mariadb kursorių\n",
    "sql=\"\"\"paste SQL command here!\"\"\"\n",
    "C.execute(sql)\n",
    "ans = C.fetchall()\n",
    "? = list(map(list, zip(*ans)))\n",
    "#? = np.transpose(ans)"
   ]
  },
  {
   "cell_type": "code",
   "execution_count": null,
   "metadata": {},
   "outputs": [],
   "source": [
    "# :sfig\n",
    "\n",
    "fig, axis = plt.subplots(figsize=(8,4.5))\n",
    "#plotting code:\n",
    "\n",
    "\n",
    "#axis.legend(loc='best')\n",
    "#axis.ticklabel_format(style='plain')\n",
    "fig.tight_layout()\n",
    "plt.show()"
   ]
  },
  {
   "cell_type": "code",
   "execution_count": null,
   "metadata": {},
   "outputs": [],
   "source": [
    "# :sfigh2\n",
    "\n",
    "fig, (ax1, ax2) = plt.subplots(1,2, figsize=(16,9), gridspec_kw={'width_ratios':[1,1]})\n",
    "#ax1:\n",
    "#plotting code:\n",
    "\n",
    "\n",
    "#ax1.legend(loc=1)\n",
    "#ax2:\n",
    "#plotting code:\n",
    "\n",
    "\n",
    "#ax2.legend(loc='best')\n",
    "fig.tight_layout()\n",
    "plt.show()"
   ]
  },
  {
   "cell_type": "code",
   "execution_count": 13,
   "metadata": {},
   "outputs": [
    {
     "name": "stdout",
     "output_type": "stream",
     "text": [
      "['Solarize_Light2', '_classic_test_patch', '_mpl-gallery', '_mpl-gallery-nogrid', 'bmh', 'classic', 'dark_background', 'fast', 'fivethirtyeight', 'ggplot', 'grayscale', 'seaborn-v0_8', 'seaborn-v0_8-bright', 'seaborn-v0_8-colorblind', 'seaborn-v0_8-dark', 'seaborn-v0_8-dark-palette', 'seaborn-v0_8-darkgrid', 'seaborn-v0_8-deep', 'seaborn-v0_8-muted', 'seaborn-v0_8-notebook', 'seaborn-v0_8-paper', 'seaborn-v0_8-pastel', 'seaborn-v0_8-poster', 'seaborn-v0_8-talk', 'seaborn-v0_8-ticks', 'seaborn-v0_8-white', 'seaborn-v0_8-whitegrid', 'tableau-colorblind10']\n"
     ]
    }
   ],
   "source": [
    "# :theme\n",
    "\n",
    "plt.style.use(style='default')\n",
    "print(plt.style.available)\n",
    "#bmh, classic, default, fivethirtyeight, ggplot ...\n",
    "plt.style.use(style='seaborn-v0_8-paper')"
   ]
  }
 ],
 "metadata": {
  "kernelspec": {
   "display_name": "Python 3",
   "language": "python",
   "name": "python3"
  },
  "language_info": {
   "codemirror_mode": {
    "name": "ipython",
    "version": 3
   },
   "file_extension": ".py",
   "mimetype": "text/x-python",
   "name": "python",
   "nbconvert_exporter": "python",
   "pygments_lexer": "ipython3",
   "version": "3.12.3"
  }
 },
 "nbformat": 4,
 "nbformat_minor": 2
}
