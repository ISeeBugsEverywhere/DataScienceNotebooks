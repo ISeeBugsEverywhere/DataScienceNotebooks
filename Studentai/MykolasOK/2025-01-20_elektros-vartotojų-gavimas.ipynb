{
 "cells": [
  {
   "cell_type": "code",
   "execution_count": 1,
   "metadata": {},
   "outputs": [
    {
     "name": "stdout",
     "output_type": "stream",
     "text": [
      "Pasiruošta 2025-01-27 19:14:07\n",
      "/home/administratorius/git/python_kursai/DataScienceNotebooks/Studentai/MykolasOK\n"
     ]
    }
   ],
   "source": [
    "from datetime import datetime as dt\n",
    "import os \n",
    "import pandas as pd\n",
    "import numpy as np\n",
    "\n",
    "# Duomenų šaltinis https://data.gov.lt/datasets/1828/#resources\n",
    "data_files=['2021-I_kiti','2021-I_ŠPAM','2021-I_VKK','2021-II_kiti','2021-II_ŠPAM','2021-II_VKK']\n",
    "data_dir=\"../../../duomenys/data_gov_lt/elektra\" # atsisiųsti failai\n",
    "data_dir_git=\"./csv\" # konvertuoti csv saugomi čia pat\n",
    "data_file_ext=\"csv\" # extention\n",
    "\n",
    "print('Pasiruošta',dt.now().replace(microsecond=0))\n",
    "print(os.getcwd())\n",
    "# print(os.listdir(data_dir))\n",
    "\n",
    "# c:\\Users\\Eridas\\Documents\\vilniuscoding2024\\git\\DataScienceNotebooks\\Studentai\\MykolasOK\n",
    "# /home/administratorius/git/python_kursai/DataScienceNotebooks/Studentai/MykolasOK"
   ]
  },
  {
   "cell_type": "code",
   "execution_count": 105,
   "metadata": {},
   "outputs": [
    {
     "name": "stdout",
     "output_type": "stream",
     "text": [
      "Duomenys iš failų įkeliami į 'df_dict={}'.  2025-01-20 22:23:11\n",
      "../../../duomenys/data_gov_lt/elektra/2021-I_mažiausi.csv "
     ]
    },
    {
     "name": "stderr",
     "output_type": "stream",
     "text": [
      "C:\\Users\\Eridas\\AppData\\Local\\Temp\\ipykernel_14068\\3777566122.py:8: DtypeWarning: Columns (4) have mixed types. Specify dtype option on import or set low_memory=False.\n",
      "  df = pd.read_csv(f'{data_dir}/{file}.{data_file_ext}',sep=',')\n"
     ]
    },
    {
     "name": "stdout",
     "output_type": "stream",
     "text": [
      ">>> (1048575, 12) (eil. x stulp.)\n",
      "../../../duomenys/data_gov_lt/elektra/2021-I_ŠPAM.csv >>> (271444, 12) (eil. x stulp.)\n",
      "../../../duomenys/data_gov_lt/elektra/2021-I_VKK.csv "
     ]
    },
    {
     "name": "stderr",
     "output_type": "stream",
     "text": [
      "C:\\Users\\Eridas\\AppData\\Local\\Temp\\ipykernel_14068\\3777566122.py:8: DtypeWarning: Columns (4,5) have mixed types. Specify dtype option on import or set low_memory=False.\n",
      "  df = pd.read_csv(f'{data_dir}/{file}.{data_file_ext}',sep=',')\n"
     ]
    },
    {
     "name": "stdout",
     "output_type": "stream",
     "text": [
      ">>> (1015563, 12) (eil. x stulp.)\n",
      "../../../duomenys/data_gov_lt/elektra/2021-II_mažiausi.csv "
     ]
    },
    {
     "name": "stderr",
     "output_type": "stream",
     "text": [
      "C:\\Users\\Eridas\\AppData\\Local\\Temp\\ipykernel_14068\\3777566122.py:8: DtypeWarning: Columns (4) have mixed types. Specify dtype option on import or set low_memory=False.\n",
      "  df = pd.read_csv(f'{data_dir}/{file}.{data_file_ext}',sep=',')\n"
     ]
    },
    {
     "name": "stdout",
     "output_type": "stream",
     "text": [
      ">>> (1048575, 12) (eil. x stulp.)\n",
      "../../../duomenys/data_gov_lt/elektra/2021-II_ŠPAM.csv >>> (272313, 12) (eil. x stulp.)\n",
      "../../../duomenys/data_gov_lt/elektra/2021-II_VKK.csv >>> (1024658, 12) (eil. x stulp.)\n"
     ]
    },
    {
     "name": "stderr",
     "output_type": "stream",
     "text": [
      "C:\\Users\\Eridas\\AppData\\Local\\Temp\\ipykernel_14068\\3777566122.py:8: DtypeWarning: Columns (4,5) have mixed types. Specify dtype option on import or set low_memory=False.\n",
      "  df = pd.read_csv(f'{data_dir}/{file}.{data_file_ext}',sep=',')\n"
     ]
    }
   ],
   "source": [
    "# Nenaudojamas.\n",
    "\n",
    "print(\"Duomenys iš failų įkeliami į 'df_dict={}'. \",dt.now().replace(microsecond=0))\n",
    "\n",
    "df_dict={}\n",
    "\n",
    "for file in data_files:\n",
    "\n",
    "    print(f'{data_dir}/{file}.{data_file_ext}',end=' ')\n",
    "    df = pd.read_csv(f'{data_dir}/{file}.{data_file_ext}',sep=',')\n",
    "    # ,sep=r'[;,]',engine='python'\n",
    "    print(f'>>> {df.shape} (eil. x stulp.)')\n",
    "    \n",
    "    df_dict[file]=df\n",
    "\n",
    "# print('+'*50)"
   ]
  },
  {
   "cell_type": "code",
   "execution_count": 60,
   "metadata": {},
   "outputs": [],
   "source": [
    "# import time\n",
    "# columns = [1]+[*range(6,12)]\n",
    "# start_time = time.time()\n",
    "# df_dict['2021_kiti']=pd.concat([df_dict['2021-I_mažiausi'].iloc[:,columns],df_dict['2021-II_mažiausi'].iloc[:,columns]],axis=1)\n",
    "# print(f\"{df_dict['2021_kiti'].shape} {time.time()-start_time:.2f}s\")\n",
    "# df_dict['2021_ŠPAM']=pd.concat([df_dict['2021-I_ŠPAM'].iloc[:,columns],df_dict['2021-II_ŠPAM'].iloc[:,columns]],axis=1)\n",
    "# print(f\"{df_dict['2021_ŠPAM'].shape} {time.time()-start_time:.2f}s\")\n",
    "# df_dict['2021_VKK']=pd.concat([df_dict['2021-I_VKK'].iloc[:,columns],df_dict['2021-II_VKK'].iloc[:,columns]],axis=1)\n",
    "# print(f\"{df_dict['2021_VKK'].shape} {time.time()-start_time:.2f}s\")\n",
    "# year_df=['2021_kiti','2021_ŠPAM','2021_VKK']"
   ]
  },
  {
   "cell_type": "code",
   "execution_count": 61,
   "metadata": {},
   "outputs": [],
   "source": [
    "# for df_title in year_df:\n",
    "#     # print('#'*5,df_title,'#'*5)\n",
    "#     # print(df_dict[df_title].iloc[:,0].head(3))\n",
    "#     # print(df_dict[df_title].iloc[:,7].head(3))\n",
    "    \n",
    "#     df=df_dict[df_title]\n",
    "#     regiono_nesutapimo_df = df[df.iloc[:,0] != df.iloc[:,7]]\n",
    "#     print('#'*5,f'Nesutapimų skaičius {df_title}:',len(regiono_nesutapimo_df),'#'*5)\n",
    "#     print(regiono_nesutapimo_df.iloc[:,[0,7]].head(5))\n",
    "#     print(regiono_nesutapimo_df.iloc[:,[0,7]].tail(5))"
   ]
  },
  {
   "cell_type": "markdown",
   "metadata": {},
   "source": [
    "df.iloc[:,1] regionai\n",
    "df.iloc[:,6] KWH01\n",
    "df.iloc[:,11] KWH06\n",
    "df.iloc[:,13] regionai\n",
    "df.iloc[:,18] KWH07\n",
    "df.iloc[:,23] KWH12"
   ]
  },
  {
   "cell_type": "code",
   "execution_count": 62,
   "metadata": {},
   "outputs": [],
   "source": [
    "# columns=[1]+[13]+[*range(6,12)]+[*range(18,24)]\n",
    "\n",
    "# for df_title in year_df:\n",
    "#     print(df_title)\n",
    "#     df_dict[df_title+'_']=df_dict[df_title].iloc[:,columns]"
   ]
  },
  {
   "cell_type": "code",
   "execution_count": 63,
   "metadata": {},
   "outputs": [],
   "source": [
    "# top_n = 3\n",
    "\n",
    "# for df_title in year_df:\n",
    "#     df=df_dict[df_title]\n",
    "    \n",
    "#     regiono_nesutapimo_df = df[df.iloc[:, 0] != df.iloc[:, 1]]\n",
    "#     print(f'Nesutapimų skaičius {df_title}_:',len(regiono_nesutapimo_df))\n",
    "#     print(regiono_nesutapimo_df.head(5))\n",
    "#     print(regiono_nesutapimo_df.tail(5))\n",
    "\n",
    "#     # print(df[column].value_counts().head(top_n))\n",
    "#     # print(df.iloc[:,2].value_counts().head(top_n))\n",
    "#     # for column in df.columns:\n",
    "#     #     print(f\"Stulpelis '{column}':\")\n",
    "#     #     print(df[column].value_counts().head(top_n))\n",
    "#     # print() \n",
    "\n",
    "# # regiono_nesutapimo_df = df[df.iloc[:, 0] != df.iloc[:, 1]]\n",
    "# # regiono_nesutapimo_df\n",
    "   "
   ]
  },
  {
   "cell_type": "markdown",
   "metadata": {},
   "source": [
    "##########################################\n",
    "    Kintamųjų peržiūros įrankiai\n",
    "##########################################"
   ]
  },
  {
   "cell_type": "code",
   "execution_count": 1,
   "metadata": {},
   "outputs": [],
   "source": [
    "# for data_title in df_dict.keys():\n",
    "#     print(data_title,end=' ')"
   ]
  },
  {
   "cell_type": "code",
   "execution_count": 50,
   "metadata": {},
   "outputs": [
    {
     "name": "stdout",
     "output_type": "stream",
     "text": [
      "2021-I_mažiausi\n",
      "   Unnamed: 0             REGIONAS SUT_TIPAS SUT_GAM GV_TIPAS  GEN_GALIA  \\\n",
      "0           0  Švenčionių regionas        KV       T      NaN        0.0   \n",
      "1           1  Švenčionių regionas        KV     NaN      NaN        NaN   \n",
      "\n",
      "      KWH01     KWH02     KWH03     KWH04     KWH05     KWH06  \n",
      "0  605781.0  575742.2  584244.2  548519.8  518863.6  611692.2  \n",
      "1  605781.0  575742.2  584244.2  548519.8  518863.6  611692.2  \n",
      "         Unnamed: 0          REGIONAS SUT_TIPAS SUT_GAM GV_TIPAS  GEN_GALIA  \\\n",
      "1048573     1048573  Gargždų regionas        BV     NaN      NaN        NaN   \n",
      "1048574     1048574  Gargždų regionas        BV     NaN      NaN        NaN   \n",
      "\n",
      "         KWH01  KWH02  KWH03  KWH04  KWH05  KWH06  \n",
      "1048573    0.0    0.0    0.0    0.0  142.0    0.0  \n",
      "1048574    0.0    0.0  141.0    0.0    0.0    0.0  \n",
      "+++++++++++++++++++++++++++++++++++++++++++++++++++++++++++++++++++++++++++++++\n",
      "2021-I_ŠPAM\n",
      "   Unnamed: 0          REGIONAS SUT_TIPAS SUT_GAM GV_TIPAS GEN_GALIA  \\\n",
      "0           0  Šiaulių regionas        KV     NaN      NaN       NaN   \n",
      "1           1  Šiaulių regionas        KV     NaN      NaN       NaN   \n",
      "\n",
      "       KWH01     KWH02      KWH03      KWH04      KWH05      KWH06  \n",
      "0  1052547.8  908230.0  1135250.2  1120408.4  1185698.4  1253056.0  \n",
      "1  1052547.8  908230.0  1135250.2  1120408.4  1185698.4  1253056.0  \n",
      "        Unnamed: 0          REGIONAS SUT_TIPAS SUT_GAM GV_TIPAS GEN_GALIA  \\\n",
      "271442      271442  Alytaus regionas        BV     NaN      NaN       NaN   \n",
      "271443      271443  Alytaus regionas        BV     NaN      NaN       NaN   \n",
      "\n",
      "        KWH01  KWH02  KWH03  KWH04  KWH05  KWH06  \n",
      "271442    0.0    0.0    0.0    0.0    0.0    0.0  \n",
      "271443 -112.0    0.0    0.0    0.0    0.0    0.0  \n",
      "+++++++++++++++++++++++++++++++++++++++++++++++++++++++++++++++++++++++++++++++\n",
      "2021-I_VKK\n",
      "   Unnamed: 0           REGIONAS SUT_TIPAS SUT_GAM GV_TIPAS GEN_GALIA  \\\n",
      "0           0  Vilniaus regionas        KV     NaN      NaN         0   \n",
      "1           1  Vilniaus regionas        KV     NaN      NaN       NaN   \n",
      "\n",
      "       KWH01      KWH02      KWH03      KWH04      KWH05      KWH06  \n",
      "0  3459470.8  3389592.8  3656872.6  3631011.4  3591220.6  3698914.8  \n",
      "1  3459470.8  3389592.8  3656872.6  3631011.4  3591220.6  3698914.8  \n",
      "         Unnamed: 0        REGIONAS SUT_TIPAS SUT_GAM GV_TIPAS GEN_GALIA  \\\n",
      "1015561     1015561  Kauno regionas        BV     NaN      NaN       NaN   \n",
      "1015562     1015562  Kauno regionas        BV     NaN      NaN         0   \n",
      "\n",
      "           KWH01  KWH02  KWH03  KWH04  KWH05  KWH06  \n",
      "1015561 -15969.0  372.0  172.0  175.0  182.0  168.0  \n",
      "1015562 -15629.0    0.0    0.0    0.0    0.0    0.0  \n",
      "+++++++++++++++++++++++++++++++++++++++++++++++++++++++++++++++++++++++++++++++\n",
      "2021-II_mažiausi\n",
      "   Unnamed: 0             REGIONAS SUT_TIPAS SUT_GAM GV_TIPAS  GEN_GALIA  \\\n",
      "0           0  Švenčionių regionas        KV       T      NaN        0.0   \n",
      "1           1  Švenčionių regionas        KV     NaN      NaN        NaN   \n",
      "\n",
      "      KWH07     KWH08     KWH09     KWH10     KWH11     KWH12  \n",
      "0  616291.6  568311.2  537184.4  558586.2  777806.0  562580.0  \n",
      "1  616291.6  568311.2  537184.4  558586.2  777806.0  562580.0  \n",
      "         Unnamed: 0     REGIONAS SUT_TIPAS SUT_GAM GV_TIPAS  GEN_GALIA  KWH07  \\\n",
      "1048573     1048573  Ignitis INT        BV     NaN      NaN        NaN    0.0   \n",
      "1048574     1048574  Ignitis INT        BV     NaN      NaN        NaN    0.0   \n",
      "\n",
      "         KWH08  KWH09  KWH10  KWH11  KWH12  \n",
      "1048573    0.0    0.0    0.0    0.0    0.0  \n",
      "1048574    0.0    0.0    0.0    0.0    0.0  \n",
      "+++++++++++++++++++++++++++++++++++++++++++++++++++++++++++++++++++++++++++++++\n",
      "2021-II_ŠPAM\n",
      "   Unnamed: 0          REGIONAS SUT_TIPAS SUT_GAM GV_TIPAS  GEN_GALIA  \\\n",
      "0           0  Šiaulių regionas        KV     NaN      NaN        NaN   \n",
      "1           1  Šiaulių regionas        KV     NaN      NaN        0.0   \n",
      "\n",
      "       KWH07      KWH08      KWH09      KWH10      KWH11      KWH12  \n",
      "0  1362162.0  1255867.4  1108174.2  1095702.8  1083865.4  1048594.0  \n",
      "1  1362162.0  1255867.4  1108174.2  1095702.8  1083865.4  1048594.0  \n",
      "        Unnamed: 0          REGIONAS SUT_TIPAS SUT_GAM GV_TIPAS  GEN_GALIA  \\\n",
      "272311      272311  Alytaus regionas        BV     NaN      NaN        NaN   \n",
      "272312      272312  Alytaus regionas        BV     NaN      NaN        NaN   \n",
      "\n",
      "        KWH07  KWH08  KWH09  KWH10  KWH11  KWH12  \n",
      "272311    0.0    0.0    0.0    0.0    0.0    0.0  \n",
      "272312   20.0   30.0 -792.0    0.0    0.0   10.0  \n",
      "+++++++++++++++++++++++++++++++++++++++++++++++++++++++++++++++++++++++++++++++\n",
      "2021-II_VKK\n",
      "   Unnamed: 0           REGIONAS SUT_TIPAS SUT_GAM GV_TIPAS GEN_GALIA  \\\n",
      "0           0  Vilniaus regionas        KV     NaN      NaN         0   \n",
      "1           1  Vilniaus regionas        KV     NaN      NaN       NaN   \n",
      "\n",
      "       KWH07      KWH08      KWH09      KWH10      KWH11      KWH12  \n",
      "0  4047020.8  3941376.4  3819321.4  3913849.0  3877301.2  3998284.0  \n",
      "1  4047020.8  3941376.4  3819321.4  3913849.0  3877301.2  3998284.0  \n",
      "         Unnamed: 0        REGIONAS SUT_TIPAS SUT_GAM GV_TIPAS GEN_GALIA  \\\n",
      "1024656     1024656  Kauno regionas        KV     NaN      NaN       NaN   \n",
      "1024657     1024657  Kauno regionas        KV     NaN      NaN       NaN   \n",
      "\n",
      "          KWH07     KWH08   KWH09     KWH10   KWH11   KWH12  \n",
      "1024656  1350.0 -172318.0  1000.0    1500.0  3000.0  3500.0  \n",
      "1024657  3961.0    4279.0  3430.0 -217835.0  5620.0  6770.0  \n",
      "+++++++++++++++++++++++++++++++++++++++++++++++++++++++++++++++++++++++++++++++\n"
     ]
    }
   ],
   "source": [
    "for data_title in df_dict.keys():\n",
    "    print(data_title)\n",
    "    print(df_dict[data_title].head(2))\n",
    "    print(df_dict[data_title].tail(2))\n",
    "    print('+'*79)"
   ]
  },
  {
   "cell_type": "markdown",
   "metadata": {},
   "source": [
    "<!-- Duomenų failų tvarkymo įrankiai  -->"
   ]
  },
  {
   "cell_type": "code",
   "execution_count": 13,
   "metadata": {},
   "outputs": [
    {
     "name": "stdout",
     "output_type": "stream",
     "text": [
      "../../../duomenys/data_gov_lt/elektra\n",
      "['2021-II_kiti.csv', '2021-II_VKK.csv', '2021-I_kiti.csv', '2021-I_ŠPAM.xlsx', '2021-II_ŠPAM.csv', '2021-I_VKK.csv', '2021-I_ŠPAM_m.csv']\n"
     ]
    }
   ],
   "source": [
    "print(data_dir)\n",
    "print(os.listdir(data_dir))"
   ]
  },
  {
   "cell_type": "code",
   "execution_count": 66,
   "metadata": {},
   "outputs": [
    {
     "name": "stdout",
     "output_type": "stream",
     "text": [
      "'../../../duomenys/data_gov_lt/elektra/2021-I_ŠPAM.xlsx' konvertuojamas į CSV.\n",
      "\n",
      "           REGIONAS SUT_TIPAS SUT_GAM GV_TIPAS GEN_GALIA      KWH01     KWH02  \\\n",
      "0  Šiaulių regionas        KV     NaN      NaN       NaN  1052547.8  908230.0   \n",
      "1  Šiaulių regionas        KV     NaN      NaN       NaN  1052547.8  908230.0   \n",
      "\n",
      "       KWH03      KWH04      KWH05      KWH06  \n",
      "0  1135250.2  1120408.4  1185698.4  1253056.0  \n",
      "1  1135250.2  1120408.4  1185698.4  1253056.0  \n",
      "\n",
      "Tęsinys žemiau:\n"
     ]
    }
   ],
   "source": [
    "print(f\"'{data_dir}/2021-I_ŠPAM.xlsx' konvertuojamas į CSV.\\n\")\n",
    "df = pd.read_excel(f'{data_dir}/2021-I_ŠPAM.xlsx')\n",
    "# df.drop(df.columns[0], axis=1, inplace=True)\n",
    "print(df.head(2))\n",
    "print('\\nTęsinys žemiau:')"
   ]
  },
  {
   "cell_type": "code",
   "execution_count": 67,
   "metadata": {},
   "outputs": [
    {
     "name": "stdout",
     "output_type": "stream",
     "text": [
      "Tęsiami darbaai. Įrašoma: '../../../duomenys/data_gov_lt/elektra/2021-I_ŠPAM.csv' \n"
     ]
    }
   ],
   "source": [
    "print(f\"Tęsiami darbaai. Įrašoma: '{data_dir}/2021-I_ŠPAM.csv' \")\n",
    "df.to_csv(f'{data_dir}/2021-I_ŠPAM.csv',encoding='iso-8859-13',sep=';',index=False)"
   ]
  },
  {
   "cell_type": "markdown",
   "metadata": {},
   "source": [
    "Broko pvz.:\n",
    "\n",
    "74,Šiaulių regionas,KV,,,,62503.0,51617.0,45523.0,45605.0,44642.0,47615.0\n",
    "75,\"Šiaulių regionas,KV,T,Gaminantis vartotojas,\"\"199,4\"\",34303.0,49973.0,51328.0,48745.0,55593.0,45736.0\",,,,,,,,,,\n",
    "76,Šiaulių regionas,KV,,,,15471.0,55083.0,62517.0,52360.0,49874.0,42057.0"
   ]
  },
  {
   "cell_type": "code",
   "execution_count": 68,
   "metadata": {},
   "outputs": [
    {
     "name": "stdout",
     "output_type": "stream",
     "text": [
      "Sutvarkyta UTF-8, kabutės, skirtukai. Įrašyta: ./csv/2021-I_kiti_utf-8.csv\n",
      "\n",
      "REGIONAS,SUT_TIPAS,SUT_GAM,GV_TIPAS,GEN_GALIA,KWH01,KWH02,KWH03,KWH04,KWH05,KWH06\n",
      "Švenčionių regionas,KV,T,,0,605781.0,575742.2,584244.2,548519.8,518863.6,611692.2\n",
      "Švenčionių regionas,KV,,,,605781.0,575742.2,584244.2,548519.8,518863.6,611692.2\n",
      "Švenčionių regionas,KV,,,,605781.0,575742.2,584244.2,548519.8,518863.6,611692.2\n",
      "-----------------------------------------------------------------------------\n",
      "Sutvarkyta UTF-8, kabutės, skirtukai. Įrašyta: ./csv/2021-I_ŠPAM_utf-8.csv\n",
      "\n",
      "REGIONAS,SUT_TIPAS,SUT_GAM,GV_TIPAS,GEN_GALIA,KWH01,KWH02,KWH03,KWH04,KWH05,KWH06\n",
      "Šiaulių regionas,KV,,,,1052547.8,908230.0,1135250.2,1120408.4,1185698.4,1253056.0\n",
      "Šiaulių regionas,KV,,,,1052547.8,908230.0,1135250.2,1120408.4,1185698.4,1253056.0\n",
      "Šiaulių regionas,KV,,,0,1052547.8,908230.0,1135250.2,1120408.4,1185698.4,1253056.0\n",
      "-----------------------------------------------------------------------------\n",
      "Sutvarkyta UTF-8, kabutės, skirtukai. Įrašyta: ./csv/2021-I_VKK_utf-8.csv\n",
      "\n",
      "REGIONAS,SUT_TIPAS,SUT_GAM,GV_TIPAS,GEN_GALIA,KWH01,KWH02,KWH03,KWH04,KWH05,KWH06\n",
      "Vilniaus regionas,KV,,,0,3459470.8,3389592.8,3656872.6,3631011.4,3591220.6,3698914.8\n",
      "Vilniaus regionas,KV,,,,3459470.8,3389592.8,3656872.6,3631011.4,3591220.6,3698914.8\n",
      "Vilniaus regionas,KV,,,,3459470.8,3389592.8,3656872.6,3631011.4,3591220.6,3698914.8\n",
      "-----------------------------------------------------------------------------\n",
      "Sutvarkyta UTF-8, kabutės, skirtukai. Įrašyta: ./csv/2021-II_kiti_utf-8.csv\n",
      "\n",
      "REGIONAS,SUT_TIPAS,SUT_GAM,GV_TIPAS,GEN_GALIA,KWH07,KWH08,KWH09,KWH10,KWH11,KWH12\n",
      "Švenčionių regionas,KV,T,,0,616291.6,568311.2,537184.4,558586.2,777806.0,562580.0\n",
      "Švenčionių regionas,KV,,,,616291.6,568311.2,537184.4,558586.2,777806.0,562580.0\n",
      "Švenčionių regionas,KV,,,,616291.6,568311.2,537184.4,558586.2,777806.0,562580.0\n",
      "-----------------------------------------------------------------------------\n",
      "Sutvarkyta UTF-8, kabutės, skirtukai. Įrašyta: ./csv/2021-II_ŠPAM_utf-8.csv\n",
      "\n",
      "REGIONAS,SUT_TIPAS,SUT_GAM,GV_TIPAS,GEN_GALIA,KWH07,KWH08,KWH09,KWH10,KWH11,KWH12\n",
      "Šiaulių regionas,KV,,,,1362162.0,1255867.4,1108174.2,1095702.8,1083865.4,1048594.0\n",
      "Šiaulių regionas,KV,,,0,1362162.0,1255867.4,1108174.2,1095702.8,1083865.4,1048594.0\n",
      "Šiaulių regionas,KV,,,,1362162.0,1255867.4,1108174.2,1095702.8,1083865.4,1048594.0\n",
      "-----------------------------------------------------------------------------\n",
      "Sutvarkyta UTF-8, kabutės, skirtukai. Įrašyta: ./csv/2021-II_VKK_utf-8.csv\n",
      "\n",
      "REGIONAS,SUT_TIPAS,SUT_GAM,GV_TIPAS,GEN_GALIA,KWH07,KWH08,KWH09,KWH10,KWH11,KWH12\n",
      "Vilniaus regionas,KV,,,0,4047020.8,3941376.4,3819321.4,3913849.0,3877301.2,3998284.0\n",
      "Vilniaus regionas,KV,,,,4047020.8,3941376.4,3819321.4,3913849.0,3877301.2,3998284.0\n",
      "Vilniaus regionas,KV,,,,4047020.8,3941376.4,3819321.4,3913849.0,3877301.2,3998284.0\n",
      "-----------------------------------------------------------------------------\n"
     ]
    }
   ],
   "source": [
    "import re\n",
    "\n",
    "for data_file in data_files:\n",
    "    # ['2021-I_mažiausi','2021-I_ŠPAM','2021-I_VKK','2021-II_mažiausi','2021-II_ŠPAM','2021-II_VKK']\n",
    "\n",
    "    # Nuskaitome failą iso-8859-13\n",
    "    with open(f'{data_dir}/{data_file}.csv',\"r\",encoding='iso-8859-13') as file:\n",
    "        content = file.read()\n",
    "\n",
    "    # Funkcija, kuri tvarko skaičius ir pašalina kabutes\n",
    "    def process_content(text):\n",
    "        # Pirma pakeičiame skaičius tarp dvigubų dvigubų kabučių\n",
    "        pattern = r'\"\"(\\d+,\\d+)\"\"'\n",
    "        text = re.sub(pattern,lambda m: m.group(1).replace(\",\",\".\"),text)\n",
    "        # Pašaliname ;;; eilučių gale\n",
    "        text = re.sub(r';+$', '', text, flags=re.MULTILINE)\n",
    "        # Pašaliname visas likusias kabutes, tvarkome skirtukus\n",
    "        text = text.replace('\"','').replace(';',',')\n",
    "        text = text.replace('Gaminantis vartotojas','GV').replace('gaminantis vartotojas','GV')\n",
    "        return text\n",
    "\n",
    "    # Atnaujiname failo turinį\n",
    "    updated_content = process_content(content)\n",
    "\n",
    "    # Išsaugome pataisytą failą UTF-8 formatu\n",
    "    output_file = f'{data_dir_git}/{data_file}_utf-8.csv'\n",
    "    with open(output_file, \"w\", encoding=\"utf-8\") as file:\n",
    "        file.write(updated_content)\n",
    "\n",
    "    print(f\"Sutvarkyta UTF-8, kabutės, skirtukai. Įrašyta: {output_file}\\n\")\n",
    "\n",
    "    # Išvedame pirmas tris eilutes iš naujo failo\n",
    "    with open(output_file, \"r\", encoding=\"utf-8\") as file:\n",
    "        for i, line in enumerate(file):\n",
    "            if i > 3:  # Sustojame po 3 eilutės\n",
    "                break\n",
    "            print(line.strip())\n",
    "        \n",
    "    print('-'*77)"
   ]
  },
  {
   "cell_type": "code",
   "execution_count": null,
   "metadata": {},
   "outputs": [],
   "source": [
    "# https://www.meteo.lt/category/menesio-hidrometeorologiniu-salygu-apzvalga/2021-menesio-hidrometeorologiniu-salygu-apzvalga/"
   ]
  },
  {
   "cell_type": "code",
   "execution_count": 19,
   "metadata": {},
   "outputs": [
    {
     "name": "stdout",
     "output_type": "stream",
     "text": [
      "Konvertuotų failų patikrinimas\n",
      "\n",
      "failo './csv/2021-I_kiti_utf-8.csv' laukų skaičiaus eilutėse pasiskirstymas\n",
      "Length 11: 1048576 occurrences\n",
      "\n",
      "failo './csv/2021-I_ŠPAM_utf-8.csv' laukų skaičiaus eilutėse pasiskirstymas\n",
      "Length 11: 271445 occurrences\n",
      "\n",
      "failo './csv/2021-I_VKK_utf-8.csv' laukų skaičiaus eilutėse pasiskirstymas\n",
      "Length 11: 1015564 occurrences\n",
      "\n",
      "failo './csv/2021-II_kiti_utf-8.csv' laukų skaičiaus eilutėse pasiskirstymas\n",
      "Length 11: 1048576 occurrences\n",
      "\n",
      "failo './csv/2021-II_ŠPAM_utf-8.csv' laukų skaičiaus eilutėse pasiskirstymas\n",
      "Length 11: 272314 occurrences\n",
      "\n",
      "failo './csv/2021-II_VKK_utf-8.csv' laukų skaičiaus eilutėse pasiskirstymas\n",
      "Length 11: 1024659 occurrences\n"
     ]
    }
   ],
   "source": [
    "import os\n",
    "from collections import Counter\n",
    "\n",
    "print('Konvertuotų failų patikrinimas')\n",
    "\n",
    "for file in data_files:\n",
    "\n",
    "    file_path = f'{data_dir_git}/{file}_utf-8.{data_file_ext}'\n",
    "    print(f\"\\nfailo '{file_path}' laukų skaičiaus eilutėse pasiskirstymas\")\n",
    "\n",
    "    if os.path.isfile(file_path):\n",
    "        with open(file_path, 'r', encoding='utf-8') as file:\n",
    "            # Sukuriamas sąrašas ilgių\n",
    "            lengths = []\n",
    "            \n",
    "            for line in file:\n",
    "                # Pašaliname nereikalingus tarpelius ir skaidome eilutę\n",
    "                elements = line.strip().split(',')\n",
    "                \n",
    "                # Pridedame elementų skaičių į sąrašą\n",
    "                lengths.append(len(elements))\n",
    "                if len(elements)==12:\n",
    "                    print(line.strip())\n",
    "                    print(elements[4:6])\n",
    "                    break\n",
    "            \n",
    "            # Suskaičiuojame dažnius ilgius\n",
    "            length_counts = Counter(lengths)\n",
    "            \n",
    "            # Pateikiame ataskaitą\n",
    "            for length, count in sorted(length_counts.items()):\n",
    "                print(f\"Length {length}: {count} occurrences\")\n",
    "\n",
    "    else:\n",
    "        print(f\"File '{file_path}' does not exist.\")"
   ]
  },
  {
   "cell_type": "code",
   "execution_count": 17,
   "metadata": {},
   "outputs": [
    {
     "name": "stdout",
     "output_type": "stream",
     "text": [
      "Konvertuotų failų patikrinimas\n",
      "Skaitomas './csv/2021-I_kiti_utf-8.csv'\n",
      "Rašomas './csv/2021-I_kiti_utf-8_m.csv'\n",
      "11 eil. x 1048576, 12 eil. x 0\n",
      "Skaitomas './csv/2021-I_ŠPAM_utf-8.csv'\n",
      "Rašomas './csv/2021-I_ŠPAM_utf-8_m.csv'\n",
      "11 eil. x 269802, 12 eil. x 1643\n",
      "Skaitomas './csv/2021-I_VKK_utf-8.csv'\n",
      "Rašomas './csv/2021-I_VKK_utf-8_m.csv'\n",
      "11 eil. x 1010873, 12 eil. x 4691\n",
      "Skaitomas './csv/2021-II_kiti_utf-8.csv'\n",
      "Rašomas './csv/2021-II_kiti_utf-8_m.csv'\n",
      "11 eil. x 1048576, 12 eil. x 0\n",
      "Skaitomas './csv/2021-II_ŠPAM_utf-8.csv'\n",
      "Rašomas './csv/2021-II_ŠPAM_utf-8_m.csv'\n",
      "11 eil. x 272314, 12 eil. x 0\n",
      "Skaitomas './csv/2021-II_VKK_utf-8.csv'\n",
      "Rašomas './csv/2021-II_VKK_utf-8_m.csv'\n",
      "11 eil. x 1019389, 12 eil. x 5270\n"
     ]
    }
   ],
   "source": [
    "import os\n",
    "\n",
    "print('Konvertuoti failai toliau tvarkomi pašalinant GV anomalijas')\n",
    "\n",
    "for file in data_files:\n",
    "\n",
    "    file_path = f'{data_dir_git}/{file}_utf-8.{data_file_ext}'\n",
    "    print(f\"Skaitomas '{file_path}'\")\n",
    "\n",
    "    # Sukurkite naujo failo pavadinimą\n",
    "    new_file_path = os.path.splitext(file_path)[0] + \"_m.csv\"\n",
    "    print(f\"Rašomas '{new_file_path}'\")\n",
    "\n",
    "    i_11=0; i_12=0\n",
    "\n",
    "    if os.path.isfile(file_path):\n",
    "        with open(file_path, 'r', encoding='utf-8') as infile, open(new_file_path, 'w', encoding='utf-8') as outfile:\n",
    "            for line in infile:\n",
    "                # Pašaliname nereikalingus tarpelius ir skaidome eilutę\n",
    "                elements = line.strip().split(',')\n",
    "                \n",
    "                # Suskaičiuojame elementų skaičių\n",
    "                if len(elements) == 11:\n",
    "                    i_11+=1\n",
    "                    # Jei elementų skaičius yra 11, rašome pradinę eilutę\n",
    "                    outfile.write(line)\n",
    "                elif len(elements) == 12:\n",
    "                    i_12+=1\n",
    "                    # Jei elementų skaičius yra 12, atliekame modifikaciją\n",
    "                    try:\n",
    "                        # Apjungiame elements[4] ir elements[5], paversdami į skaičių\n",
    "                        merged_value = float(elements[4] + '.' + elements[5])\n",
    "                        \n",
    "                        # Pakeičiame elements[4], pašaliname elements[5]\n",
    "                        elements[4] = str(merged_value)\n",
    "                        del elements[5]\n",
    "                        \n",
    "                        # Konvertuojame atgal į eilutę ir įrašome\n",
    "                        modified_line = ','.join(elements)\n",
    "                        outfile.write(modified_line + '\\n')\n",
    "                    except ValueError:\n",
    "                        print(f\"Error converting to float: {elements[4]} and {elements[5]} in line: {line.strip()}\")\n",
    "                else:\n",
    "                    print(f\"len={len(elements)}\")\n",
    "    else:\n",
    "        print(f\"File '{file_path}' does not exist.\")\n",
    "    print(f'11 eil. x {i_11}, 12 eil. x {i_12}')"
   ]
  }
 ],
 "metadata": {
  "kernelspec": {
   "display_name": "Python 3",
   "language": "python",
   "name": "python3"
  },
  "language_info": {
   "codemirror_mode": {
    "name": "ipython",
    "version": 3
   },
   "file_extension": ".py",
   "mimetype": "text/x-python",
   "name": "python",
   "nbconvert_exporter": "python",
   "pygments_lexer": "ipython3",
   "version": "3.12.3"
  }
 },
 "nbformat": 4,
 "nbformat_minor": 2
}
