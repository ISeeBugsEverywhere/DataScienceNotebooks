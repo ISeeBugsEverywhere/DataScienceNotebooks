{
 "cells": [
  {
   "cell_type": "code",
   "execution_count": 1,
   "metadata": {},
   "outputs": [
    {
     "name": "stdout",
     "output_type": "stream",
     "text": [
      "Paskaita nr. 39, 2024-10-09\n",
      "Pasiruošta 2024-10-10 18:02:01.320333\n"
     ]
    }
   ],
   "source": [
    "import numpy as np\n",
    "import pandas as pd\n",
    "import matplotlib.pyplot as plt\n",
    "import warnings\n",
    "warnings.filterwarnings('ignore')\n",
    "import seaborn as sns\n",
    "import requests # !!!\n",
    "\n",
    "# import sqlite3\n",
    "# import mysql.connector as cnt\n",
    "# import plotly.express as px\n",
    "\n",
    "import datetime as dt\n",
    "print('Paskaita nr. 39, 2024-10-09')\n",
    "print('Pasiruošta',dt.datetime.now())"
   ]
  },
  {
   "cell_type": "code",
   "execution_count": null,
   "metadata": {},
   "outputs": [],
   "source": [
    "# Leiskite vartotojui nurodyti iki trijų metreologinių stočių, ir dvi datas : nuo, iki.\n",
    "# Iš meto.lt per API išgaukite istorinius duomenis nurodytame laikotarpyje,\n",
    "# ir atvaizduokite grafiškai - oro temperatūrą bei vėjo greitį.\n",
    "\n",
    "# https://docs.streamlit.io/develop/api-reference/widgets/st.multiselect"
   ]
  },
  {
   "cell_type": "code",
   "execution_count": 5,
   "metadata": {},
   "outputs": [
    {
     "name": "stdout",
     "output_type": "stream",
     "text": [
      "amn Akmene | aya Alytau | ays Anyksc | brt Birsto | bru Birzu- | dtu Dotnuv | duk Druski | dkt Duksto | \n",
      "eet Elektr | jnv Jonavo | jns Jonisk | jra Jurbar | kii Kaisia | kla Kalvar | kuo Kauno- | kzu Kazlu- | \n",
      "kle Kelmes | kap Klaipe | kei Kretin | kps Kupisk | kbr Kybart | luu Laukuv | lzi Lazdij | mrj Marija | \n",
      "mzi Mazeik | mlt Moletu | nds Nidos- | pgg Pagegi | pku Pakruo | pnv Paneve | pug Plunge | pin Prienu | \n",
      "rsi Rasein | rea Rietav | rks Rokisk | sku Sakiu- | sli Salcin | sdv Seduvo | sal Siauli | slt Silute | \n",
      "sud Skuodo | sec Svenci | tua Taurag | tli Telsiu | tau Traku- | umr Ukmerg | ueo Utenos | vrn Vareno | \n",
      "vne Ventes | vzi Vezaic | vli Vilnia | zrs Zarasu | \n",
      "\n",
      "Jūs pasirinkote:\n",
      "[+] „nds“, nidos-ams, 26 \n",
      "[-]  „Nidos-“ ??? \n",
      "[-]  „|“ ??? \n",
      "[+] „pgg“, pagegiu-ams, 27 \n",
      "['nds', 'Nidos-', '|', 'pgg']\n",
      "[26, 27]\n"
     ]
    }
   ],
   "source": [
    "url = 'https://api.meteo.lt/v1/stations'\n",
    "page = requests.get(url)\n",
    "r = page.json()\n",
    "dfSt = pd.DataFrame(data=r) # Stations\n",
    "\n",
    "# for x in dfSt['code']:\n",
    "#     print(x)\n",
    "# for x in dfSt['name']:\n",
    "#     print(x,end=' ')\n",
    "# for x in dfSt['coordinates']:\n",
    "#     print(x)\n",
    "\n",
    "dfSt['k3']=dfSt['code'][0]+dfSt['code'][2]+dfSt['code'][4]\n",
    "\n",
    "k3Lst=[]\n",
    "x=1\n",
    "for i in range(len(dfSt['code'])):\n",
    "    kodas3=dfSt['code'][i][0:5:2]\n",
    "    kodasT=dfSt['code'][i][0:6].capitalize()\n",
    "    k3Lst.append(kodas3)\n",
    "    print(kodas3,kodasT,sep=' ',end=' | ')\n",
    "    x=x+1\n",
    "    if x>8:\n",
    "        print()\n",
    "        x=1\n",
    "dfSt['k3']=k3Lst\n",
    "mstStr=input('Pasirinkite miestus iš sąrašo')\n",
    "mstLst=mstStr.split()\n",
    "print('\\n')\n",
    "\n",
    "print('Jūs pasirinkote:')\n",
    "mstNdx=[] # Pasirinktų miestų indeksai dfSt[]\n",
    "for mst1 in mstLst:\n",
    "    if mst1 in k3Lst:\n",
    "        ndx=k3Lst.index(mst1)\n",
    "        mstNdx.append(ndx)\n",
    "        print(f\"[+] „{dfSt['k3'][ndx]}“, {dfSt['code'][ndx]}, {ndx} \")\n",
    "    else:\n",
    "        print(f\"[-]  „{mst1}“ ??? \") # Įvestas žodis nėra miesto kodas.\n",
    "        # Negalima šalinti iš sąrašo mstLst[], nes tada griūva ciklas.\n",
    "print(mstLst) # Tiriamų miestų kodų sąrašas.\n",
    "print(mstNdx) # Tiriamų miestų indeksų sąrašas."
   ]
  },
  {
   "cell_type": "code",
   "execution_count": 13,
   "metadata": {},
   "outputs": [
    {
     "name": "stdout",
     "output_type": "stream",
     "text": [
      "Nurodykite datų intervalą.\n",
      "(Sistema užpildo šios dienos datos duomenimis.)\n",
      "2024-10-04 2024-10-05 2024-10-06 2024-10-07 2024-10-08 2024-10-09 2024-10-10 "
     ]
    }
   ],
   "source": [
    "from datetime import date, timedelta\n",
    "from dateutil import parser\n",
    "# print(date.today())\n",
    "print('Nurodykite datų intervalą.\\n(Sistema užpildo šios dienos datos duomenimis.)')\n",
    "dataNuoStr=input('Pasirinkite pradžios datą')\n",
    "dataIkiStr=input('Pasirinkite pabaigos datą')\n",
    "\n",
    "start_date = parser.parse(dataNuoStr).date()\n",
    "end_date = ( parser.parse(dataIkiStr).date() if not dataIkiStr=='' else date.today() )\n",
    "\n",
    "delta = timedelta(days=1)\n",
    "dataX = start_date\n",
    "while dataX <= end_date:\n",
    "    print(dataX.strftime(\"%Y-%m-%d\"),end=' ')\n",
    "    dataX = dataX + delta"
   ]
  },
  {
   "cell_type": "code",
   "execution_count": 19,
   "metadata": {},
   "outputs": [
    {
     "name": "stdout",
     "output_type": "stream",
     "text": [
      "2024-10-04\n",
      "https://api.meteo.lt/v1/stations/nidos-ams/observations/2024-10-04\n",
      "https://api.meteo.lt/v1/stations/pagegiu-ams/observations/2024-10-04\n",
      "2024-10-05\n",
      "https://api.meteo.lt/v1/stations/nidos-ams/observations/2024-10-05\n",
      "https://api.meteo.lt/v1/stations/pagegiu-ams/observations/2024-10-05\n",
      "2024-10-06\n",
      "https://api.meteo.lt/v1/stations/nidos-ams/observations/2024-10-06\n",
      "https://api.meteo.lt/v1/stations/pagegiu-ams/observations/2024-10-06\n",
      "2024-10-07\n",
      "https://api.meteo.lt/v1/stations/nidos-ams/observations/2024-10-07\n",
      "https://api.meteo.lt/v1/stations/pagegiu-ams/observations/2024-10-07\n",
      "2024-10-08\n",
      "https://api.meteo.lt/v1/stations/nidos-ams/observations/2024-10-08\n",
      "https://api.meteo.lt/v1/stations/pagegiu-ams/observations/2024-10-08\n",
      "2024-10-09\n",
      "https://api.meteo.lt/v1/stations/nidos-ams/observations/2024-10-09\n",
      "https://api.meteo.lt/v1/stations/pagegiu-ams/observations/2024-10-09\n",
      "2024-10-10\n",
      "https://api.meteo.lt/v1/stations/nidos-ams/observations/2024-10-10\n",
      "https://api.meteo.lt/v1/stations/pagegiu-ams/observations/2024-10-10\n"
     ]
    }
   ],
   "source": [
    "delta = timedelta(days=1)\n",
    "dataX = start_date\n",
    "while dataX <= end_date:\n",
    "    print(dataX.strftime(\"%Y-%m-%d\"))\n",
    "\n",
    "    for ndx in mstNdx:\n",
    "        # print(f\" „{dfSt['k3'][ndx]}“, {ndx}, {dfSt['code'][ndx]} \")\n",
    "        url =f\"https://api.meteo.lt/v1/stations/{dfSt['code'][ndx]}/observations/\"+dataX.strftime(\"%Y-%m-%d\")\n",
    "        print(url)\n",
    "    \n",
    "        # page = requests.get(url)\n",
    "        # r = page.json()\n",
    "        # for j in r['observations']:\n",
    "        #     t2.append(j['airTemperature'])\n",
    "        #     vg2.append(j['windSpeed'])\n",
    "\n",
    "    dataX = dataX + delta\n"
   ]
  },
  {
   "cell_type": "code",
   "execution_count": null,
   "metadata": {},
   "outputs": [],
   "source": [
    "# https://data.gov.lt/datasets/2638/models/VietovesTemperaturaDregme/\n",
    "# nuskaitykite šiuos duomenis (atsisiuntę kaip CSV ar kitu jums priimtinu būdu)\n",
    "# atvaizduokite su scatter_mapbox, kuriose Lietuvos vietose yra įrengti registratoriai.\n",
    "# atvaizduokite vieno bet kurio vietos registratoriaus užfiksuotas temperatūras (istorinius duomenis)\n",
    "# 8 cm gylyje, paviršiuje, 15 cm aukštyje."
   ]
  }
 ],
 "metadata": {
  "kernelspec": {
   "display_name": "Python 3",
   "language": "python",
   "name": "python3"
  },
  "language_info": {
   "codemirror_mode": {
    "name": "ipython",
    "version": 3
   },
   "file_extension": ".py",
   "mimetype": "text/x-python",
   "name": "python",
   "nbconvert_exporter": "python",
   "pygments_lexer": "ipython3",
   "version": "3.12.3"
  }
 },
 "nbformat": 4,
 "nbformat_minor": 2
}
