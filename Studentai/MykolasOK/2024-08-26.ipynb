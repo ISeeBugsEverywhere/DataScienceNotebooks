{
 "cells": [
  {
   "cell_type": "code",
   "execution_count": 3,
   "metadata": {},
   "outputs": [
    {
     "name": "stdout",
     "output_type": "stream",
     "text": [
      "26 paskaita\n"
     ]
    }
   ],
   "source": [
    "print('26 paskaita')\n",
    "\n",
    "import numpy as np\n",
    "import matplotlib.pyplot as plt\n",
    "# import pandas as pd\n",
    "# import warnings\n",
    "# warnings.filterwarnings('ignore')\n",
    "# import seaborn as sns\n",
    "# import sqlite3\n",
    "# import mysql.connector as cnt\n",
    "# import plotly.express as px\n",
    "\n",
    "import os\n",
    "import glob\n",
    "\n",
    "from manoFunkcijos import SolarAnalyzer"
   ]
  },
  {
   "cell_type": "code",
   "execution_count": 4,
   "metadata": {},
   "outputs": [
    {
     "name": "stdout",
     "output_type": "stream",
     "text": [
      "SolarAnalyzer. Skaitomas failas: ../../DATA/OOP_DATA/REF_D_1k_FW_2.08.dat\n"
     ]
    }
   ],
   "source": [
    "SEan=SolarAnalyzer('../../DATA/OOP_DATA/REF_D_1k_FW_2.08.dat',sep=';',header=1)\n"
   ]
  }
 ],
 "metadata": {
  "kernelspec": {
   "display_name": "Python 3",
   "language": "python",
   "name": "python3"
  },
  "language_info": {
   "codemirror_mode": {
    "name": "ipython",
    "version": 3
   },
   "file_extension": ".py",
   "mimetype": "text/x-python",
   "name": "python",
   "nbconvert_exporter": "python",
   "pygments_lexer": "ipython3",
   "version": "3.12.3"
  }
 },
 "nbformat": 4,
 "nbformat_minor": 2
}
