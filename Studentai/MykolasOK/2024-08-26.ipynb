{
 "cells": [
  {
   "cell_type": "code",
   "execution_count": 20,
   "metadata": {},
   "outputs": [
    {
     "name": "stdout",
     "output_type": "stream",
     "text": [
      "Reloading 'manoFunkcijos'.\n",
      "26 paskaita\n"
     ]
    }
   ],
   "source": [
    "print('26 paskaita')\n",
    "\n",
    "import numpy as np\n",
    "import matplotlib.pyplot as plt\n",
    "# import pandas as pd\n",
    "# import warnings\n",
    "# warnings.filterwarnings('ignore')\n",
    "# import seaborn as sns\n",
    "# import sqlite3\n",
    "# import mysql.connector as cnt\n",
    "# import plotly.express as px\n",
    "\n",
    "import os\n",
    "import glob\n",
    "\n",
    "from manoFunkcijos import SolarAnalyzer"
   ]
  },
  {
   "cell_type": "code",
   "execution_count": 49,
   "metadata": {},
   "outputs": [],
   "source": [
    "%reload_ext autoreload\n",
    "%autoreload 2 -p"
   ]
  },
  {
   "cell_type": "code",
   "execution_count": 52,
   "metadata": {},
   "outputs": [
    {
     "name": "stdout",
     "output_type": "stream",
     "text": [
      "SolarAnalyzer.\n",
      "Skaitomas failas: ../../DATA/OOP_DATA/REF_D_1k_FW_2.08.dat\n",
      "Praleista: U[V] ; I[A] ; j[mA/cm^2] ; P[mW/cm^2]\n",
      "Mažiausias |U|=0.01, i=51, |j|=25.9075833\n",
      "Mažiausias |j|=1.1066667, i=4, |U|=1.1066667\n",
      "SolarAnalyzer() atlikta.\n",
      "\n",
      "self.medžiaga: REF\n",
      "self.pce: 14.9890787 naudingumo koeficientas pagal saulę [%]\n",
      "self.jsc: 25.9075833 maksimali srovė [mA/cm^2]\n",
      "self.Uoc: 1.1066667 maksimali įtampa [V]\n",
      "self.FF: 52.27947222282707 n.k., palyginus su idealia SE [%]\n"
     ]
    }
   ],
   "source": [
    "SE_analiz=SolarAnalyzer('../../DATA/OOP_DATA/REF_D_1k_FW_2.08.dat',sep=';',header=1)\n",
    "print()\n",
    "print('self.medžiaga:',SE_analiz.medžiaga)\n",
    "print('self.pce:',SE_analiz.pce,'naudingumo koeficientas pagal saulę [%]')\n",
    "print('self.jsc:',SE_analiz.jsc,'maksimali srovė [mA/cm^2]')\n",
    "print('self.Uoc:',SE_analiz.Uoc,'maksimali įtampa [V]')\n",
    "print('self.FF:',SE_analiz.FF,'n.k., palyginus su idealia SE [%]')"
   ]
  }
 ],
 "metadata": {
  "kernelspec": {
   "display_name": "Python 3",
   "language": "python",
   "name": "python3"
  },
  "language_info": {
   "codemirror_mode": {
    "name": "ipython",
    "version": 3
   },
   "file_extension": ".py",
   "mimetype": "text/x-python",
   "name": "python",
   "nbconvert_exporter": "python",
   "pygments_lexer": "ipython3",
   "version": "3.12.3"
  }
 },
 "nbformat": 4,
 "nbformat_minor": 2
}
