{
 "cells": [
  {
   "cell_type": "code",
   "execution_count": 1,
   "metadata": {},
   "outputs": [
    {
     "name": "stdout",
     "output_type": "stream",
     "text": [
      "Paskaita nr. 41, 1 dalis, 2024-10-14\n",
      "Pasiruošta (1) 2024-10-14 21:33:51\n"
     ]
    }
   ],
   "source": [
    "import numpy as np\n",
    "import pandas as pd\n",
    "import matplotlib.pyplot as plt\n",
    "import warnings\n",
    "warnings.filterwarnings('ignore')\n",
    "import seaborn as sns\n",
    "import sqlite3\n",
    "import mysql.connector as cnt\n",
    "import plotly.express as px\n",
    "\n",
    "import selenium\n",
    "from selenium.webdriver.chrome.options import Options\n",
    "from selenium.webdriver.firefox.options import Options as FirefoxOptions\n",
    "from selenium import webdriver\n",
    "from bs4 import BeautifulSoup\n",
    "import time\n",
    "\n",
    "import datetime as dt\n",
    "print('Paskaita nr. 41, 1 dalis, 2024-10-14')\n",
    "print('Pasiruošta (1)',dt.datetime.now().replace(microsecond=0))"
   ]
  },
  {
   "cell_type": "code",
   "execution_count": 2,
   "metadata": {},
   "outputs": [
    {
     "name": "stdout",
     "output_type": "stream",
     "text": [
      "/home/administratorius/git/python_kursai/DataScienceNotebooks/Studentai/MykolasOK\n"
     ]
    }
   ],
   "source": [
    "import os\n",
    "print(os.getcwd())"
   ]
  },
  {
   "cell_type": "code",
   "execution_count": 3,
   "metadata": {},
   "outputs": [
    {
     "name": "stdout",
     "output_type": "stream",
     "text": [
      "Jungiuosi prie varle.lt\n",
      " 2024-10-14 21:33:56\n"
     ]
    }
   ],
   "source": [
    "print('Jungiuosi prie varle.lt\\n',dt.datetime.now().replace(microsecond=0))\n",
    "\n",
    "opcijos = Options()\n",
    "opcijos.add_argument('--incognito')\n",
    "driver = webdriver.Chrome(options=opcijos)\n",
    "url = 'https://www.varle.lt/dronai/'\n",
    "driver.get(url)\n",
    "time.sleep(5) # 5 sekundėms atsidaro naršyklės langas\n",
    "source = driver.page_source\n",
    "driver.close()"
   ]
  },
  {
   "cell_type": "code",
   "execution_count": 4,
   "metadata": {},
   "outputs": [
    {
     "name": "stdout",
     "output_type": "stream",
     "text": [
      "<a href=\"/dronai/dronas-dji-mini-2-se-fly-more-combo--23881156.html\">\n",
      "<img alt=\"Nuotrauka Nr.1\" class=\"product-img primary-img\" height=\"195\" loading=\"lazy\" src=\"https://www.varle.lt/static/uploads/products/235x195/404/bun/bundle-fly-more-dji-mini-2-se-mini-drone.jpg\" title=\"Dronas DJI Mini 2 SE Fly More Combo\" width=\"235\"/>\n",
      "<img alt=\"Nuotrauka Nr.2\" class=\"product-img secondary-img\" height=\"195\" loading=\"lazy\" src=\"https://www.varle.lt/static/uploads/products/235x195/404/bun/bundle-fly-more-dji-mini-2-se-mini-drone_Wo609zb.jpg\" title=\"Dronas DJI Mini 2 SE Fly More Combo\" width=\"235\"/>\n",
      "</a>\n",
      "::REM::\n",
      "/dronai/dronas-dji-mini-2-se-fly-more-combo--23881156.html\n",
      "195\n"
     ]
    }
   ],
   "source": [
    "bs = BeautifulSoup(source, 'html.parser')\n",
    "\n",
    "sk = bs.find('div', {'class':'GRID_ITEM'}).find('a')\n",
    "print(sk)\n",
    "print('::REM::')\n",
    "print(sk['href'])\n",
    "img = sk.find('img')\n",
    "print(img['height'])"
   ]
  },
  {
   "cell_type": "code",
   "execution_count": 5,
   "metadata": {},
   "outputs": [],
   "source": [
    "# Surinkti iš kauno.diena.lt puslapio straipsnių pavadiniumų ilgius, \n",
    "# tam panaudoti selenium biblioteką. \n",
    "# Surinktus duomenis surašyti į SQLite duomenų bazę. \n",
    "# Surašoma infromacija - pavadinimas, nuoroda į straipsnį, žodžių kiekis pavadinime.\n",
    "# SQLite lentelėje trys stulpeliai."
   ]
  },
  {
   "cell_type": "code",
   "execution_count": 6,
   "metadata": {},
   "outputs": [
    {
     "name": "stdout",
     "output_type": "stream",
     "text": [
      "Pasiruošta (2) 2024-10-14 21:34:18.974018\n"
     ]
    }
   ],
   "source": [
    "# import mysql.connector as cnt\n",
    "import sqlite3\n",
    "\n",
    "import requests\n",
    "from bs4 import BeautifulSoup\n",
    "\n",
    "print('Pasiruošta (2)',dt.datetime.now())"
   ]
  },
  {
   "cell_type": "code",
   "execution_count": 8,
   "metadata": {},
   "outputs": [
    {
     "name": "stdout",
     "output_type": "stream",
     "text": [
      "Kauno dienos straipsnių sąrašas išsaugomas Pandas DF\n",
      "Straipsnių skaičius: 28\n",
      "Vidutinis straipsnių pavadinimo žodžių skaičius: 8.571\n"
     ]
    },
    {
     "data": {
      "text/plain": [
       "<Axes: xlabel='Žodžių skaičius pavadinime', ylabel='Dažnis'>"
      ]
     },
     "execution_count": 8,
     "metadata": {},
     "output_type": "execute_result"
    },
    {
     "data": {
      "image/png": "[encoded data removed]",
      "text/plain": [
       "<Figure size 640x480 with 1 Axes>"
      ]
     },
     "metadata": {},
     "output_type": "display_data"
    }
   ],
   "source": [
    "print('Kauno dienos straipsnių sąrašas išsaugomas Pandas DF')\n",
    "\n",
    "HomeUrl = 'https://kauno.diena.lt/'\n",
    "page = requests.get(HomeUrl)\n",
    "source = page.content\n",
    "bs = BeautifulSoup(source,'html.parser')\n",
    "# print(bs)\n",
    "straipsniai=bs.find_all('div',{'class':'category-block-row grid-12 alpha omega unscore'})\n",
    "# print(straipsniai)\n",
    "\n",
    "urlLst=[] # Straipsnių nuorodų sąrašas\n",
    "žskLst=[] # Straipsnių pavadinimų ženklų skaičių sąrašas\n",
    "pvdLst=[] # Straipsnių pavadinimų sąrašas\n",
    "for s in straipsniai:\n",
    "    i=s.find('div',{'class':'articles-list-title-wrapper'})\n",
    "    if i is not None:\n",
    "        t=i.find('a',{'class':'articles-list-title'})\n",
    "        # print(t['href'])\n",
    "        # print(t.text)\n",
    "        urlElm=t['href'].split('/')\n",
    "        if urlElm[0]=='naujienos':\n",
    "            žodžiai=t.text.split()\n",
    "            urlLst.append(HomeUrl+t['href'])\n",
    "            žskLst.append(len(žodžiai))\n",
    "            pvdLst.append(t.text)\n",
    "            # print(urlElm)\n",
    "            # print(len(žodžiai),žodžiai)\n",
    "\n",
    "df = pd.DataFrame()\n",
    "df['url']=urlLst # Straipsnio URL\n",
    "df['žsk']=žskLst # Straipsnio pavadinimo žodžių skaičius\n",
    "df['pvd']=pvdLst # Straipsnio pavadinimas\n",
    "df['rsk']=df['pvd'].str.len() # Straipsnio pavadinimo raidžių skaičius\n",
    "\n",
    "print('Straipsnių skaičius:',df['url'].size)\n",
    "print('Vidutinis straipsnių pavadinimo žodžių skaičius:',df['žsk'].mean().round(3))\n",
    "\n",
    "dfGroup=df.groupby('žsk').size()\n",
    "dfGroup.plot(kind='bar',xlabel='Žodžių skaičius pavadinime',ylabel='Dažnis')"
   ]
  },
  {
   "cell_type": "code",
   "execution_count": 9,
   "metadata": {},
   "outputs": [
    {
     "name": "stdout",
     "output_type": "stream",
     "text": [
      "Kauno dienos straipsnių sąrašas išsaugomas sqlite3\n"
     ]
    }
   ],
   "source": [
    "print('Kauno dienos straipsnių sąrašas išsaugomas sqlite3')\n",
    "\n",
    "HomeUrl = 'https://kauno.diena.lt/'\n",
    "page = requests.get(HomeUrl)\n",
    "source = page.content\n",
    "bs = BeautifulSoup(source,'html.parser')\n",
    "# print(bs)\n",
    "straipsniai=bs.find_all('div',{'class':'category-block-row grid-12 alpha omega unscore'})\n",
    "# print(straipsniai)"
   ]
  },
  {
   "cell_type": "code",
   "execution_count": 42,
   "metadata": {},
   "outputs": [
    {
     "name": "stdout",
     "output_type": "stream",
     "text": [
      "Atlikta 2024-10-14 20:05:09.421013\n"
     ]
    }
   ],
   "source": [
    "sdb = sqlite3.connect('Testas.db')\n",
    "cs = sdb.cursor()\n",
    "\n",
    "sql_create_table = '''\n",
    "create table if not exists KaunoDiena_straipsniai\n",
    "(\n",
    "    pavadinimas text not null,\n",
    "    url text not null,\n",
    "    žodžių_pavadinime real not null,\n",
    "    raidžių_pavadinime real not null\n",
    ")\n",
    "'''\n",
    "cs.execute(sql_create_table)\n",
    "\n",
    "for s in straipsniai:\n",
    "    i=s.find('div',{'class':'articles-list-title-wrapper'})\n",
    "    if i is not None:\n",
    "        t=i.find('a',{'class':'articles-list-title'})\n",
    "        # print(t['href'])\n",
    "        # print(t.text)\n",
    "        urlElm=t['href'].split('/')\n",
    "        if urlElm[0]=='naujienos': # Praledžia išorines nuorodas.\n",
    "            žodžiai=t.text.split()\n",
    "\n",
    "            pvd=t.text # Straipsnio pavadinimas\n",
    "            url=HomeUrl+t['href'] # Straipsnio URL\n",
    "            žsk=len(žodžiai) # Straipsnio pavadinimo žodžių skaičius\n",
    "            rsk=len(pvd) # Straipsnio pavadinimo raidžių skaičius\n",
    "\n",
    "            sql_template = '''insert into KaunoDiena_straipsniai values (?,?,?,?)'''\n",
    "            cs.execute(sql_template,(pvd,url,žsk,rsk))\n",
    "\n",
    "sdb.commit()\n",
    "sdb.close()\n",
    "\n",
    "print('Atlikta',dt.datetime.now())"
   ]
  }
 ],
 "metadata": {
  "kernelspec": {
   "display_name": "Python 3",
   "language": "python",
   "name": "python3"
  },
  "language_info": {
   "codemirror_mode": {
    "name": "ipython",
    "version": 3
   },
   "file_extension": ".py",
   "mimetype": "text/x-python",
   "name": "python",
   "nbconvert_exporter": "python",
   "pygments_lexer": "ipython3",
   "version": "3.12.3"
  }
 },
 "nbformat": 4,
 "nbformat_minor": 2
}
