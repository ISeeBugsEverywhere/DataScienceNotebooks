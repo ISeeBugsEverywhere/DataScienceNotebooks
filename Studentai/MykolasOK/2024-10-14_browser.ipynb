{
 "cells": [
  {
   "cell_type": "code",
   "execution_count": 12,
   "metadata": {},
   "outputs": [
    {
     "name": "stdout",
     "output_type": "stream",
     "text": [
      "Paskaita nr. 41, 2024-10-14\n",
      "Pasiruošta (1) 2024-10-14 18:48:15.738805\n"
     ]
    }
   ],
   "source": [
    "import numpy as np\n",
    "import pandas as pd\n",
    "import matplotlib.pyplot as plt\n",
    "import warnings\n",
    "warnings.filterwarnings('ignore')\n",
    "import seaborn as sns\n",
    "import sqlite3\n",
    "import mysql.connector as cnt\n",
    "import plotly.express as px\n",
    "\n",
    "import datetime as dt\n",
    "print('Paskaita nr. 41, 2024-10-14')\n",
    "print('Pasiruošta (1)',dt.datetime.now())"
   ]
  },
  {
   "cell_type": "code",
   "execution_count": 4,
   "metadata": {},
   "outputs": [
    {
     "name": "stdout",
     "output_type": "stream",
     "text": [
      "/home/administratorius/git/python_kursai/DataScienceNotebooks/Studentai/MykolasOK\n"
     ]
    }
   ],
   "source": [
    "import os\n",
    "print(os.getcwd())"
   ]
  },
  {
   "cell_type": "code",
   "execution_count": 5,
   "metadata": {},
   "outputs": [],
   "source": [
    "import selenium\n",
    "from selenium.webdriver.chrome.options import Options\n",
    "from selenium.webdriver.firefox.options import Options as FirefoxOptions\n",
    "from selenium import webdriver\n",
    "from bs4 import BeautifulSoup\n",
    "import time"
   ]
  },
  {
   "cell_type": "code",
   "execution_count": 6,
   "metadata": {},
   "outputs": [],
   "source": [
    "opcijos = Options()\n",
    "opcijos.add_argument('--incognito')\n",
    "driver = webdriver.Chrome(options=opcijos)\n",
    "url = 'https://www.varle.lt/dronai/'\n",
    "driver.get(url)\n",
    "time.sleep(5)\n",
    "source = driver.page_source\n",
    "driver.close()"
   ]
  },
  {
   "cell_type": "code",
   "execution_count": 7,
   "metadata": {},
   "outputs": [],
   "source": [
    "bs = BeautifulSoup(source, 'html.parser')"
   ]
  },
  {
   "cell_type": "code",
   "execution_count": 8,
   "metadata": {},
   "outputs": [
    {
     "name": "stdout",
     "output_type": "stream",
     "text": [
      "<a href=\"/dronai/dronas-dji-mini-2-se-fly-more-combo--23881156.html\">\n",
      "<img alt=\"Nuotrauka Nr.1\" class=\"product-img primary-img\" height=\"195\" loading=\"lazy\" src=\"https://www.varle.lt/static/uploads/products/235x195/404/bun/bundle-fly-more-dji-mini-2-se-mini-drone.jpg\" title=\"Dronas DJI Mini 2 SE Fly More Combo\" width=\"235\"/>\n",
      "<img alt=\"Nuotrauka Nr.2\" class=\"product-img secondary-img\" height=\"195\" loading=\"lazy\" src=\"https://www.varle.lt/static/uploads/products/235x195/404/bun/bundle-fly-more-dji-mini-2-se-mini-drone_Wo609zb.jpg\" title=\"Dronas DJI Mini 2 SE Fly More Combo\" width=\"235\"/>\n",
      "</a>\n",
      "::REM::\n",
      "/dronai/dronas-dji-mini-2-se-fly-more-combo--23881156.html\n",
      "195\n"
     ]
    }
   ],
   "source": [
    "sk = bs.find('div', {'class':'GRID_ITEM'}).find('a')\n",
    "print(sk)\n",
    "print('::REM::')\n",
    "print(sk['href'])\n",
    "img = sk.find('img')\n",
    "print(img['height'])"
   ]
  },
  {
   "cell_type": "code",
   "execution_count": null,
   "metadata": {},
   "outputs": [],
   "source": [
    "# Surinkti iš kauno.diena.lt puslapio straipsnių pavadiniumų ilgius, \n",
    "# tam panaudoti selenium biblioteką. \n",
    "# Surinktus duomenis surašyti į SQLite duomenų bazę. \n",
    "# Surašoma infromacija - pavadinimas, nuoroda į straipsnį, žodžių kiekis pavadinime.\n",
    "# SQLite lentelėje trys stulpeliai."
   ]
  },
  {
   "cell_type": "code",
   "execution_count": 13,
   "metadata": {},
   "outputs": [
    {
     "name": "stdout",
     "output_type": "stream",
     "text": [
      "Pasiruošta (2) 2024-10-14 18:48:28.654890\n"
     ]
    }
   ],
   "source": [
    "# import mysql.connector as cnt\n",
    "import sqlite3\n",
    "\n",
    "import requests\n",
    "from bs4 import BeautifulSoup\n",
    "\n",
    "print('Pasiruošta (2)',dt.datetime.now())"
   ]
  },
  {
   "cell_type": "code",
   "execution_count": 11,
   "metadata": {},
   "outputs": [
    {
     "name": "stdout",
     "output_type": "stream",
     "text": [
      "Straipsnių skaičius: 28\n",
      "Vidutinis straipsnių pavadinimo žodžių skaičius: 8.607\n"
     ]
    },
    {
     "data": {
      "text/plain": [
       "<Axes: xlabel='Žodžių skaičius pavadinime', ylabel='Dažnis'>"
      ]
     },
     "execution_count": 11,
     "metadata": {},
     "output_type": "execute_result"
    },
    {
     "data": {
      "image/png": "[encoded data removed]",
      "text/plain": [
       "<Figure size 640x480 with 1 Axes>"
      ]
     },
     "metadata": {},
     "output_type": "display_data"
    }
   ],
   "source": [
    "HomeUrl = 'https://kauno.diena.lt/'\n",
    "page = requests.get(HomeUrl)\n",
    "source = page.content\n",
    "bs = BeautifulSoup(source,'html.parser')\n",
    "# print(bs)\n",
    "straipsniai=bs.find_all('div',{'class':'category-block-row grid-12 alpha omega unscore'})\n",
    "# print(straipsniai)\n",
    "\n",
    "urlLst=[] # Straipsnių nuorodų sąrašas\n",
    "žskLst=[] # Straipsnių pavadinimų ženklų skaičių sąrašas\n",
    "pvdLst=[] # Straipsnių pavadinimų sąrašas\n",
    "for s in straipsniai:\n",
    "    i=s.find('div',{'class':'articles-list-title-wrapper'})\n",
    "    if i is not None:\n",
    "        t=i.find('a',{'class':'articles-list-title'})\n",
    "        # print(t['href'])\n",
    "        # print(t.text)\n",
    "        urlElm=t['href'].split('/')\n",
    "        if urlElm[0]=='naujienos':\n",
    "            žodžiai=t.text.split()\n",
    "            urlLst.append(HomeUrl+t['href'])\n",
    "            žskLst.append(len(žodžiai))\n",
    "            pvdLst.append(t.text)\n",
    "            # print(urlElm)\n",
    "            # print(len(žodžiai),žodžiai)\n",
    "\n",
    "df = pd.DataFrame()\n",
    "df['url']=urlLst # Straipsnio URL\n",
    "df['žsk']=žskLst # Straipsnio pavadinimo žodžių skaičius\n",
    "df['pvd']=pvdLst # Straipsnio pavadinimas\n",
    "df['rsk']=df['pvd'].str.len() # Straipsnio pavadinimo raidžių skaičius\n",
    "\n",
    "print('Straipsnių skaičius:',df['url'].size)\n",
    "print('Vidutinis straipsnių pavadinimo žodžių skaičius:',df['žsk'].mean().round(3))\n",
    "\n",
    "dfGroup=df.groupby('žsk').size()\n",
    "dfGroup.plot(kind='bar',xlabel='Žodžių skaičius pavadinime',ylabel='Dažnis')"
   ]
  }
 ],
 "metadata": {
  "kernelspec": {
   "display_name": "Python 3",
   "language": "python",
   "name": "python3"
  },
  "language_info": {
   "codemirror_mode": {
    "name": "ipython",
    "version": 3
   },
   "file_extension": ".py",
   "mimetype": "text/x-python",
   "name": "python",
   "nbconvert_exporter": "python",
   "pygments_lexer": "ipython3",
   "version": "3.12.3"
  }
 },
 "nbformat": 4,
 "nbformat_minor": 2
}
