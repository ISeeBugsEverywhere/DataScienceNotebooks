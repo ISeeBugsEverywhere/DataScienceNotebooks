{
 "cells": [
  {
   "cell_type": "code",
   "execution_count": 4,
   "metadata": {},
   "outputs": [
    {
     "name": "stdout",
     "output_type": "stream",
     "text": [
      "2024-07-04\n",
      "Failai\n"
     ]
    }
   ],
   "source": [
    "print('2024-07-04\\nFailai')"
   ]
  },
  {
   "cell_type": "code",
   "execution_count": 6,
   "metadata": {},
   "outputs": [],
   "source": [
    "dfailo_vardas = 't.txt' # Pradinių duomenų failas.\n",
    "failas = open(dfailo_vardas, mode='w', encoding='utf-8')\n",
    "\n",
    "for i in range(1,6):\n",
    "    # print(i)\n",
    "    failas.write(str(i)+'\\n')\n",
    "\n",
    "failas.close()"
   ]
  },
  {
   "cell_type": "code",
   "execution_count": 58,
   "metadata": {},
   "outputs": [
    {
     "name": "stdout",
     "output_type": "stream",
     "text": [
      "-------------\n",
      "1\n",
      "2\n",
      "3\n",
      "4\n",
      "5\n",
      "-------------\n"
     ]
    }
   ],
   "source": [
    "# def rodyk_failą( f_vardas ):\n",
    "#     failas = open(f_vardas, mode='r', encoding='utf-8') # Duomenų failas.\n",
    "#     turinys = failas.readlines()\n",
    "#     failas.close()\n",
    "#     print(turinys)\n",
    "\n",
    "def rodyk_failą( f_vardas ):\n",
    "    failas = open(f_vardas, mode='r', encoding='utf-8') # Duomenų failas.\n",
    "    print('-------------')\n",
    "    for eil in failas:\n",
    "        print(eil.rstrip())\n",
    "    print('-------------')\n",
    "    failas.close()\n",
    "\n",
    "rodyk_failą(dfailo_vardas)"
   ]
  },
  {
   "cell_type": "code",
   "execution_count": 59,
   "metadata": {},
   "outputs": [
    {
     "name": "stdout",
     "output_type": "stream",
     "text": [
      "-------------\n",
      "  1   2   1\n",
      "  2   4   4\n",
      "  3   6   9\n",
      "  4   8  16\n",
      "  5  10  25\n",
      "-------------\n"
     ]
    }
   ],
   "source": [
    "dfailas = open(dfailo_vardas, mode='r', encoding='utf-8') # Pradinių duomenų failas.\n",
    "rfailo_vardas = 'rezultatai.txt'\n",
    "rfailas = open(rfailo_vardas, mode='w', encoding='utf-8') # Rezultatų failas.\n",
    "for eil in dfailas:\n",
    "    # print(eil.rstrip())\n",
    "    x = int(eil)\n",
    "    # print(f\"{x:3} {x*2:3} {x*x:3}\")\n",
    "    rfailas.write(f\"{x:3} {x*2:3} {x*x:3}\\n\")\n",
    "dfailas.close()\n",
    "rfailas.close()\n",
    "\n",
    "rodyk_failą(rfailo_vardas)"
   ]
  },
  {
   "cell_type": "code",
   "execution_count": 60,
   "metadata": {},
   "outputs": [
    {
     "name": "stdout",
     "output_type": "stream",
     "text": [
      "-------------\n",
      "1\n",
      "2\n",
      "3\n",
      "4\n",
      "5\n",
      "Papildau.\n",
      "-------------\n"
     ]
    }
   ],
   "source": [
    "failas = open(failo_vardas, mode='a', encoding='utf-8')\n",
    "failas.write('Papildau.\\n')\n",
    "failas.close()\n",
    "rodyk_failą(failo_vardas)"
   ]
  },
  {
   "cell_type": "code",
   "execution_count": 100,
   "metadata": {},
   "outputs": [
    {
     "name": "stdout",
     "output_type": "stream",
     "text": [
      "-------------\n",
      "Jau saulelė vėl atkopdama budino svietą,\n",
      "Ir žiemos šaltos trūsus pargriaudama juokės,\n",
      "Šalčių pramones su ledais sugaišti pagavo,\n",
      "Ir putodams sniegs visur į nieką pavirto.\n",
      "-------------\n"
     ]
    }
   ],
   "source": [
    "tfailo_vardas = 'txt.txt' # Pradinių duomenų failas.\n",
    "tfailas = open(tfailo_vardas, mode='w', encoding='utf-8')\n",
    "tfailas.write('Jau saulelė vėl atkopdama budino svietą,\\n')\n",
    "tfailas.write('Ir žiemos šaltos trūsus pargriaudama juokės,\\n')\n",
    "tfailas.write('Šalčių pramones su ledais sugaišti pagavo,\\n')\n",
    "tfailas.write('Ir putodams sniegs visur į nieką pavirto.\\n')\n",
    "tfailas.close()\n",
    "\n",
    "rodyk_failą(tfailo_vardas)"
   ]
  },
  {
   "cell_type": "code",
   "execution_count": 102,
   "metadata": {},
   "outputs": [
    {
     "name": "stdout",
     "output_type": "stream",
     "text": [
      "-------------\n",
      " 1. Viskas didžiosiomis:\n",
      "JAU SAULELĖ VĖL ATKOPDAMA BUDINO SVIETĄ,\n",
      "IR ŽIEMOS ŠALTOS TRŪSUS PARGRIAUDAMA JUOKĖS,\n",
      "ŠALČIŲ PRAMONES SU LEDAIS SUGAIŠTI PAGAVO,\n",
      "IR PUTODAMS SNIEGS VISUR Į NIEKĄ PAVIRTO.\n",
      "\n",
      " 2. Kas 3 žodis didžiosiomis:\n",
      "Jau saulelė VĖL atkopdama budino SVIETĄ,\n",
      "Ir žiemos ŠALTOS trūsus pargriaudama JUOKĖS,\n",
      "Šalčių pramones SU ledais sugaišti PAGAVO,\n",
      "Ir putodams SNIEGS visur į NIEKĄ pavirto.\n",
      "\n",
      " 3. Kiekvienas ž. iš didžiosios:\n",
      "Jau Saulelė Vėl Atkopdama Budino Svietą,\n",
      "Ir Žiemos Šaltos Trūsus Pargriaudama Juokės,\n",
      "Šalčių Pramones Su Ledais Sugaišti Pagavo,\n",
      "Ir Putodams Sniegs Visur Į Nieką Pavirto.\n",
      "\n",
      " 4. Sudėtinga sąlyga:\n",
      "Jau ėleluaS Vėl amadpoktA BUDINO ,ąteivS\n",
      "Ir someiŽ Šaltos SUSŪRT Pargriaudama ,sėkouJ\n",
      "Šalčių senomarP SU siadeL Sugaišti ,ov:-)g:-)P\n",
      "Ir SMADOTUP Sniegs rusiV Į ąkeiN PAVIRTO.\n",
      "\n",
      "-------------\n"
     ]
    }
   ],
   "source": [
    "# Nuskaitome failą į atmintį.\n",
    "tfailas = open(tfailo_vardas, mode='r', encoding='utf-8') # Pradinio teksto failas.\n",
    "tekstas=[]\n",
    "for eil in tfailas:\n",
    "    tekstas.append(eil.strip())\n",
    "tfailas.close()\n",
    "\n",
    "afailo_vardas = 'ats.txt' # Atsakymo failas.\n",
    "afailas = open(afailo_vardas, mode='w', encoding='utf-8')\n",
    "\n",
    "afailas.write(f\" 1. Viskas didžiosiomis:\\n\")\n",
    "for eee in tekstas:\n",
    "    afailas.write(eee.upper()+'\\n')\n",
    "# print(struktūra)\n",
    "afailas.write('\\n')\n",
    "\n",
    "# Nuskaito struktūrą\n",
    "struktūra = []\n",
    "for eee in tekstas:\n",
    "    struktūra.append(eee.split())\n",
    "# print(struktūra)\n",
    "\n",
    "n=3 # Kas kelintas žodis didžiosiomis\n",
    "afailas.write(f\" 2. Kas {n} žodis didžiosiomis:\\n\")\n",
    "i=0\n",
    "for eee in struktūra:\n",
    "    nauja_eil=''\n",
    "    for žžž in eee:\n",
    "        i += 1\n",
    "        if i % n:\n",
    "            nauja_eil += žžž+' '\n",
    "        else:\n",
    "            nauja_eil += žžž.upper()+' '\n",
    "    afailas.write(f'{nauja_eil}\\n')\n",
    "afailas.write('\\n')\n",
    "\n",
    "afailas.write(f\" 3. Kiekvienas ž. iš didžiosios:\\n\")\n",
    "for eee in struktūra:\n",
    "    nauja_eil=''\n",
    "    for žžž in eee:\n",
    "        nauja_eil += žžž.capitalize()+' '\n",
    "    afailas.write(f'{nauja_eil}\\n')\n",
    "afailas.write('\\n')\n",
    "\n",
    "def atgala(txt):\n",
    "    a = ''\n",
    "    for i in txt:\n",
    "        a = i + a\n",
    "    return a\n",
    "\n",
    "# Kiekvienas žodis iš didžiosios raidės, \n",
    "# kas 2-as   - parašytas atvirkščiai, \n",
    "# kas 5-tas  - vien tik didžiosiomis raidėmis, \n",
    "# kas 6-tame - simboliai \"a\" turi būti pakeisti ':)' simboliais.\n",
    "afailas.write(f\" 4. Sudėtinga sąlyga:\\n\")\n",
    "i=0\n",
    "for eee in struktūra:\n",
    "    nauja_eil=''\n",
    "    for žžž in eee:\n",
    "        naujasž = žžž.capitalize()\n",
    "        i += 1\n",
    "        if i % 2 == 0:\n",
    "            naujasž = atgala(naujasž)\n",
    "        if i % 5 == 0:\n",
    "            naujasž = naujasž.upper()\n",
    "        if i % 6 == 0:\n",
    "            naujasž = naujasž.replace('a',':-)')\n",
    "\n",
    "        nauja_eil += naujasž+' '\n",
    "    afailas.write(f'{nauja_eil}\\n')\n",
    "afailas.write('\\n')\n",
    "\n",
    "afailas.close()\n",
    "\n",
    "rodyk_failą(afailo_vardas)"
   ]
  },
  {
   "cell_type": "code",
   "execution_count": 114,
   "metadata": {},
   "outputs": [
    {
     "name": "stdout",
     "output_type": "stream",
     "text": [
      "-------------\n",
      "Labas\n",
      "Labas\n",
      "Labas\n",
      "Labas\n",
      "Labas\n",
      "Labas\n",
      "-------------\n"
     ]
    }
   ],
   "source": [
    "# sugalvokite ir parašykite funkciją, kuri įrašytų į failą nurodytą tekstą, \n",
    "# automatiškai pridėdama naujos eilutės simbolį.\n",
    "# (FreePascal writeln() analogas)\n",
    "\n",
    "def writeln ( failo_vardas, tekstas ):\n",
    "    if not failo_vardas or not tekstas:\n",
    "        return False\n",
    "    ttt = str(tekstas)\n",
    "    failas = open(failo_vardas, mode='a', encoding='utf-8')\n",
    "    failas.write(ttt.strip()+'\\n')\n",
    "    failas.close()\n",
    "\n",
    "writeln('tmp.txt','Labas')\n",
    "\n",
    "rodyk_failą('tmp.txt')"
   ]
  },
  {
   "cell_type": "code",
   "execution_count": 192,
   "metadata": {},
   "outputs": [
    {
     "ename": "AttributeError",
     "evalue": "'int' object has no attribute 'isnumber'",
     "output_type": "error",
     "traceback": [
      "\u001b[1;31m---------------------------------------------------------------------------\u001b[0m",
      "\u001b[1;31mAttributeError\u001b[0m                            Traceback (most recent call last)",
      "Cell \u001b[1;32mIn[192], line 16\u001b[0m\n\u001b[0;32m     13\u001b[0m         rez\u001b[38;5;241m.\u001b[39mappend(\u001b[38;5;28mint\u001b[39m(x))\n\u001b[0;32m     14\u001b[0m     \u001b[38;5;28;01mreturn\u001b[39;00m rez\n\u001b[1;32m---> 16\u001b[0m \u001b[38;5;28mprint\u001b[39m(\u001b[43mtxt_int\u001b[49m\u001b[43m(\u001b[49m\u001b[43m[\u001b[49m\u001b[38;5;241;43m1\u001b[39;49m\u001b[43m,\u001b[49m\u001b[38;5;241;43m4\u001b[39;49m\u001b[43m,\u001b[49m\u001b[38;5;241;43m7\u001b[39;49m\u001b[43m]\u001b[49m\u001b[43m)\u001b[49m) \u001b[38;5;66;03m# List - sunumeruotas įvairiatipių elementų sąrašas.\u001b[39;00m\n\u001b[0;32m     17\u001b[0m \u001b[38;5;28mprint\u001b[39m(txt_int((\u001b[38;5;241m10\u001b[39m,\u001b[38;5;241m20\u001b[39m,\u001b[38;5;241m30\u001b[39m))) \u001b[38;5;66;03m# Tuple - kaip 'list', tik nekintamas.\u001b[39;00m\n\u001b[0;32m     18\u001b[0m \u001b[38;5;28mprint\u001b[39m(txt_int([\u001b[38;5;124m'\u001b[39m\u001b[38;5;124m11\u001b[39m\u001b[38;5;124m'\u001b[39m,\u001b[38;5;124m'\u001b[39m\u001b[38;5;124m22\u001b[39m\u001b[38;5;124m'\u001b[39m,\u001b[38;5;124m'\u001b[39m\u001b[38;5;124m33\u001b[39m\u001b[38;5;124m'\u001b[39m])) \u001b[38;5;66;03m# List.\u001b[39;00m\n",
      "Cell \u001b[1;32mIn[192], line 11\u001b[0m, in \u001b[0;36mtxt_int\u001b[1;34m(duom)\u001b[0m\n\u001b[0;32m      9\u001b[0m rez \u001b[38;5;241m=\u001b[39m []\n\u001b[0;32m     10\u001b[0m \u001b[38;5;28;01mfor\u001b[39;00m x \u001b[38;5;129;01min\u001b[39;00m duom:\n\u001b[1;32m---> 11\u001b[0m     \u001b[38;5;28;01mif\u001b[39;00m \u001b[38;5;129;01mnot\u001b[39;00m \u001b[43mx\u001b[49m\u001b[38;5;241;43m.\u001b[39;49m\u001b[43misnumber\u001b[49m():\n\u001b[0;32m     12\u001b[0m         \u001b[38;5;28;01mreturn\u001b[39;00m []\n\u001b[0;32m     13\u001b[0m     rez\u001b[38;5;241m.\u001b[39mappend(\u001b[38;5;28mint\u001b[39m(x))\n",
      "\u001b[1;31mAttributeError\u001b[0m: 'int' object has no attribute 'isnumber'"
     ]
    }
   ],
   "source": [
    "# pršykite funkciją, kuriai galėtumėte nurodyti sąrašą arba eilutę tekstų, \n",
    "# ir ji grąžintų sąrašą, kuriame būtų tekstai, konvertuoti į skaičius\n",
    "# Funkcija turi grąžinti tuščią sąrašą, jei nepavyktų konvertuoti nors vieno teksto į skaičių\n",
    "\n",
    "# NEBAIGTA!\n",
    "\n",
    "def txt_int( duom ):\n",
    "    assert len(duom)>0, 'Klaida: tuščia aibė!'\n",
    "    rez = []\n",
    "    for x in duom:\n",
    "        if not typeof(x): isdigit()\n",
    "            return []\n",
    "        rez.append(int(x))\n",
    "    return rez\n",
    "\n",
    "print(txt_int([1,4,7])) # List - sunumeruotas įvairiatipių elementų sąrašas.\n",
    "print(txt_int((10,20,30))) # Tuple - kaip 'list', tik nekintamas.\n",
    "print(txt_int(['11','22','33'])) # List.\n",
    "print(txt_int(['11','Labas','33'])) # List.\n",
    "print(txt_int(('55','77','99'))) # Tuple.\n",
    "print(txt_int({9,7,2})) # Set - unikalių elementų rinkinys.\n",
    "print(txt_int({'15','25','35'})) # Set.\n",
    "print(txt_int([])) # Empty list."
   ]
  },
  {
   "cell_type": "code",
   "execution_count": 149,
   "metadata": {},
   "outputs": [
    {
     "name": "stdout",
     "output_type": "stream",
     "text": [
      "0.6626929519732682\n",
      "79\n"
     ]
    }
   ],
   "source": [
    "import random\n",
    "print(random.random())\n",
    "print(random.randint(10,99))"
   ]
  },
  {
   "cell_type": "code",
   "execution_count": 159,
   "metadata": {},
   "outputs": [
    {
     "name": "stdout",
     "output_type": "stream",
     "text": [
      "[15, 17, 19, 19, 18]\n"
     ]
    }
   ],
   "source": [
    "# parašykite funkciją, kuriai galėtumėte nurodyti tris skaičius - elemnetų kiekį (ilgį), ribas nuo, iki, \n",
    "# ir ta funkcija grąžintų sąrašą, nurodyto ilgio, atsitiktiniais skaičiais užpildytą.\n",
    "\n",
    "def sveikas_rand(n,nuo,iki):\n",
    "    rez=[]\n",
    "    for i in range(n):\n",
    "        rez.append(random.randint(nuo,iki))\n",
    "    return rez\n",
    "\n",
    "print(sveikas_rand(5,15,19))\n"
   ]
  },
  {
   "cell_type": "code",
   "execution_count": 158,
   "metadata": {},
   "outputs": [
    {
     "name": "stdout",
     "output_type": "stream",
     "text": [
      "[0.11045960154868784, 0.565009962881201, 0.885335585928997, 0.5377274072162267, 0.9460328818857907]\n"
     ]
    }
   ],
   "source": [
    "# parašyti funkciją, kuri grąžintų nurodyto ilgio sąrašą, užpildytą skaičiais tarp 0 ir 1\n",
    "\n",
    "def randomas_realus(n):\n",
    "    rez=[]\n",
    "    for i in range(n):\n",
    "        rez.append(random.random())\n",
    "    return rez\n",
    "\n",
    "print(randomas_realus(5))\n"
   ]
  },
  {
   "cell_type": "code",
   "execution_count": 197,
   "metadata": {},
   "outputs": [
    {
     "name": "stdout",
     "output_type": "stream",
     "text": [
      "Per mažai\n",
      "Per daug\n",
      "Per daug\n",
      "Per daug\n",
      "Fantastika, Jūs atspėjote!\n",
      "Skaičius 3\n",
      "Naujas skaičius\n",
      "Per daug\n",
      "Atsijungta\n"
     ]
    }
   ],
   "source": [
    "# parašyti su amžinu while ciklu skaičių spėliojimo žaidimą. \n",
    "# Sugeneruojamas skaičius tarp 1 ir 10, vartotojas įveda spėjimą. \n",
    "# Programa pasako, ar įvestas skaičius yra mažesnis, ar didesnis už sugeneruotą skaičių. \n",
    "# Programa nutrūksta, kai atspėjamas skaičius. \n",
    "# Papildykite kodu, kuris parašytų, iš kelinto karto buvo atspėtas skaičius.\n",
    "\n",
    "while True:\n",
    "    ss=random.randint(1,10)\n",
    "    while True:\n",
    "        spėjimas=input('Spėkite skaičių')\n",
    "        if int(spėjimas)==int(ss):\n",
    "            print('Fantastika, Jūs atspėjote!\\nSkaičius '+str(ss))\n",
    "            break\n",
    "        elif int(spėjimas)==99:\n",
    "            break\n",
    "        elif int(spėjimas)>int(ss):\n",
    "            print('Per daug')\n",
    "        elif int(spėjimas)<int(ss):\n",
    "            print('Per mažai')\n",
    "    if int(spėjimas)==99:\n",
    "        print('Atsijungta')\n",
    "        break\n",
    "    print('Naujas skaičius')\n"
   ]
  },
  {
   "cell_type": "code",
   "execution_count": 188,
   "metadata": {},
   "outputs": [
    {
     "name": "stdout",
     "output_type": "stream",
     "text": [
      "[4, 1, 9, 6, 3, 9, 9, 1, 5, 6, 2, 1]\n",
      "[8, 4, 2, 7, 3, 1, 4]\n",
      "{1, 2, 3, 4, 5, 6, 9}\n",
      "{1, 2, 3, 4, 7, 8}\n",
      "{1, 2, 3, 4}\n"
     ]
    }
   ],
   "source": [
    "# 5. Parašyti funkciją, kurioje sugeneruojamos dvi skaičių sekos\n",
    "# (jos gali būti skirtingo dydžio), programa turi grąžinti sąrašą\n",
    "# skaičių, kurie sutampa tarp dviejų sugeneruotu sąrašų,\n",
    "# galutiniame sąraše neturi būti skaičių dublikatų. PVZ: x =[1, 1,\n",
    "# 2, 3, 1] y = [1, 3, 5, 6] atsakymas = [1,3]\n",
    "\n",
    "s1=sveikas_rand(random.randint(5,12),1,9)\n",
    "s2=sveikas_rand(random.randint(5,12),1,9)\n",
    "print(s1)\n",
    "print(s2)\n",
    "set1=set(s1)\n",
    "set2=set(s2)\n",
    "print(set1)\n",
    "print(set2)\n",
    "sankirta=set1.intersection(set2)\n",
    "print(sankirta)\n",
    "\n"
   ]
  },
  {
   "cell_type": "code",
   "execution_count": null,
   "metadata": {},
   "outputs": [],
   "source": [
    "# Parašykite kodą, kuris sukurtų tekstinį failą iš trijų stulpelių.\n",
    "# Pirmąjame stulpelyje skaičiai nuo 1 iki 25-kių, antrame - atsitiktiniai skaičiau - ribos 10 - 1000,\n",
    "# trečiame stulpelyje - atsitiktiniai skaičiai tarp 1 ir 10, tačiau - float tipo, turintys 4turis ženklus\n",
    "# po kablelio\n",
    "# stulpeliai atskirti viens nuo kito ;\n",
    "# Pavyzdys, kas maždaug turi gautis:\n",
    "# 1;25;1.4567\n",
    "# 2;42;7.5213\n",
    "# ir maždaug taip toliau\n",
    "\n",
    "Namų darbas!"
   ]
  }
 ],
 "metadata": {
  "kernelspec": {
   "display_name": "Python 3",
   "language": "python",
   "name": "python3"
  },
  "language_info": {
   "codemirror_mode": {
    "name": "ipython",
    "version": 3
   },
   "file_extension": ".py",
   "mimetype": "text/x-python",
   "name": "python",
   "nbconvert_exporter": "python",
   "pygments_lexer": "ipython3",
   "version": "3.12.4"
  }
 },
 "nbformat": 4,
 "nbformat_minor": 2
}
