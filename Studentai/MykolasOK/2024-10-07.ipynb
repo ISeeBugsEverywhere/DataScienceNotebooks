{
 "cells": [
  {
   "cell_type": "code",
   "execution_count": 3,
   "metadata": {},
   "outputs": [
    {
     "name": "stdout",
     "output_type": "stream",
     "text": [
      "Paskaita nr. 38, 2024-10-07\n",
      "Pasiruošta 2024-10-07 21:00:48.417839\n"
     ]
    }
   ],
   "source": [
    "import numpy as np\n",
    "import pandas as pd\n",
    "import matplotlib.pyplot as plt\n",
    "import warnings\n",
    "warnings.filterwarnings('ignore')\n",
    "import seaborn as sns\n",
    "import requests\n",
    "# import sqlite3\n",
    "# import mysql.connector as cnt\n",
    "# import plotly.express as px\n",
    "\n",
    "import datetime as dt\n",
    "print('Paskaita nr. 38, 2024-10-07')\n",
    "print('Pasiruošta',dt.datetime.now())"
   ]
  },
  {
   "cell_type": "code",
   "execution_count": 20,
   "metadata": {},
   "outputs": [
    {
     "name": "stdout",
     "output_type": "stream",
     "text": [
      "Naudodamiesi Meteo.lt API, Jūs galite integruoti LHMT teikiamus\n",
      "hidrometeorologinius duomenis į savo kuriamas programas.\n",
      "Naudojimo sąlygos: https://api.meteo.lt/\n"
     ]
    }
   ],
   "source": [
    "print('Naudodamiesi Meteo.lt API, Jūs galite integruoti LHMT teikiamus')\n",
    "print('hidrometeorologinius duomenis į savo kuriamas programas.')\n",
    "print('Naudojimo sąlygos: https://api.meteo.lt/')"
   ]
  },
  {
   "cell_type": "code",
   "execution_count": 30,
   "metadata": {},
   "outputs": [
    {
     "data": {
      "text/html": [
       "<div>\n",
       "<style scoped>\n",
       "    .dataframe tbody tr th:only-of-type {\n",
       "        vertical-align: middle;\n",
       "    }\n",
       "\n",
       "    .dataframe tbody tr th {\n",
       "        vertical-align: top;\n",
       "    }\n",
       "\n",
       "    .dataframe thead th {\n",
       "        text-align: right;\n",
       "    }\n",
       "</style>\n",
       "<table border=\"1\" class=\"dataframe\">\n",
       "  <thead>\n",
       "    <tr style=\"text-align: right;\">\n",
       "      <th></th>\n",
       "      <th>code</th>\n",
       "      <th>name</th>\n",
       "      <th>coordinates</th>\n",
       "    </tr>\n",
       "  </thead>\n",
       "  <tbody>\n",
       "    <tr>\n",
       "      <th>0</th>\n",
       "      <td>akmenes-ams</td>\n",
       "      <td>Akmenės AMS</td>\n",
       "      <td>{'latitude': 56.24992, 'longitude': 22.73081}</td>\n",
       "    </tr>\n",
       "    <tr>\n",
       "      <th>1</th>\n",
       "      <td>alytaus-ams</td>\n",
       "      <td>Alytaus AMS</td>\n",
       "      <td>{'latitude': 54.412435, 'longitude': 24.063274}</td>\n",
       "    </tr>\n",
       "    <tr>\n",
       "      <th>2</th>\n",
       "      <td>anyksciu-ams</td>\n",
       "      <td>Anykščių AMS</td>\n",
       "      <td>{'latitude': 55.51735, 'longitude': 25.1178}</td>\n",
       "    </tr>\n",
       "  </tbody>\n",
       "</table>\n",
       "</div>"
      ],
      "text/plain": [
       "           code          name                                      coordinates\n",
       "0   akmenes-ams   Akmenės AMS    {'latitude': 56.24992, 'longitude': 22.73081}\n",
       "1   alytaus-ams   Alytaus AMS  {'latitude': 54.412435, 'longitude': 24.063274}\n",
       "2  anyksciu-ams  Anykščių AMS     {'latitude': 55.51735, 'longitude': 25.1178}"
      ]
     },
     "execution_count": 30,
     "metadata": {},
     "output_type": "execute_result"
    }
   ],
   "source": [
    "url = 'https://api.meteo.lt/v1/stations'\n",
    "page = requests.get(url)\n",
    "# print(page.status_code)\n",
    "\n",
    "r = page.json()\n",
    "# print(type(r))\n",
    "\n",
    "df = pd.DataFrame(data=r)\n",
    "df.head(3)"
   ]
  },
  {
   "cell_type": "code",
   "execution_count": 23,
   "metadata": {},
   "outputs": [
    {
     "data": {
      "text/html": [
       "<div>\n",
       "<style scoped>\n",
       "    .dataframe tbody tr th:only-of-type {\n",
       "        vertical-align: middle;\n",
       "    }\n",
       "\n",
       "    .dataframe tbody tr th {\n",
       "        vertical-align: top;\n",
       "    }\n",
       "\n",
       "    .dataframe thead th {\n",
       "        text-align: right;\n",
       "    }\n",
       "</style>\n",
       "<table border=\"1\" class=\"dataframe\">\n",
       "  <thead>\n",
       "    <tr style=\"text-align: right;\">\n",
       "      <th></th>\n",
       "      <th>code</th>\n",
       "      <th>name</th>\n",
       "      <th>type</th>\n",
       "      <th>coordinates</th>\n",
       "    </tr>\n",
       "  </thead>\n",
       "  <tbody>\n",
       "    <tr>\n",
       "      <th>latitude</th>\n",
       "      <td>druskininku-ams</td>\n",
       "      <td>Druskininkų AMS</td>\n",
       "      <td>Automatinė meteorologijos stotis</td>\n",
       "      <td>54.018202</td>\n",
       "    </tr>\n",
       "    <tr>\n",
       "      <th>longitude</th>\n",
       "      <td>druskininku-ams</td>\n",
       "      <td>Druskininkų AMS</td>\n",
       "      <td>Automatinė meteorologijos stotis</td>\n",
       "      <td>23.980791</td>\n",
       "    </tr>\n",
       "  </tbody>\n",
       "</table>\n",
       "</div>"
      ],
      "text/plain": [
       "                      code             name                              type  \\\n",
       "latitude   druskininku-ams  Druskininkų AMS  Automatinė meteorologijos stotis   \n",
       "longitude  druskininku-ams  Druskininkų AMS  Automatinė meteorologijos stotis   \n",
       "\n",
       "           coordinates  \n",
       "latitude     54.018202  \n",
       "longitude    23.980791  "
      ]
     },
     "execution_count": 23,
     "metadata": {},
     "output_type": "execute_result"
    }
   ],
   "source": [
    "url = 'https://api.meteo.lt/v1/stations/druskininku-ams'\n",
    "page = requests.get(url)\n",
    "# print(page.status_code)\n",
    "\n",
    "r = page.json()\n",
    "# print(type(r))\n",
    "\n",
    "df = pd.DataFrame(data=r)\n",
    "df.head(3)"
   ]
  },
  {
   "cell_type": "code",
   "execution_count": 25,
   "metadata": {},
   "outputs": [
    {
     "data": {
      "text/html": [
       "<div>\n",
       "<style scoped>\n",
       "    .dataframe tbody tr th:only-of-type {\n",
       "        vertical-align: middle;\n",
       "    }\n",
       "\n",
       "    .dataframe tbody tr th {\n",
       "        vertical-align: top;\n",
       "    }\n",
       "\n",
       "    .dataframe thead th {\n",
       "        text-align: right;\n",
       "    }\n",
       "</style>\n",
       "<table border=\"1\" class=\"dataframe\">\n",
       "  <thead>\n",
       "    <tr style=\"text-align: right;\">\n",
       "      <th></th>\n",
       "      <th>station</th>\n",
       "      <th>observationsDataRange</th>\n",
       "    </tr>\n",
       "  </thead>\n",
       "  <tbody>\n",
       "    <tr>\n",
       "      <th>code</th>\n",
       "      <td>vilniaus-ams</td>\n",
       "      <td>NaN</td>\n",
       "    </tr>\n",
       "    <tr>\n",
       "      <th>name</th>\n",
       "      <td>Vilniaus AMS</td>\n",
       "      <td>NaN</td>\n",
       "    </tr>\n",
       "    <tr>\n",
       "      <th>coordinates</th>\n",
       "      <td>{'latitude': 54.625992, 'longitude': 25.107064}</td>\n",
       "      <td>NaN</td>\n",
       "    </tr>\n",
       "  </tbody>\n",
       "</table>\n",
       "</div>"
      ],
      "text/plain": [
       "                                                     station  \\\n",
       "code                                            vilniaus-ams   \n",
       "name                                            Vilniaus AMS   \n",
       "coordinates  {'latitude': 54.625992, 'longitude': 25.107064}   \n",
       "\n",
       "            observationsDataRange  \n",
       "code                          NaN  \n",
       "name                          NaN  \n",
       "coordinates                   NaN  "
      ]
     },
     "execution_count": 25,
     "metadata": {},
     "output_type": "execute_result"
    }
   ],
   "source": [
    "url = 'https://api.meteo.lt/v1/stations/vilniaus-ams/observations'\n",
    "page = requests.get(url)\n",
    "# print(page.status_code)\n",
    "\n",
    "r = page.json()\n",
    "# print(type(r))\n",
    "\n",
    "df = pd.DataFrame(data=r)\n",
    "df.head(3)"
   ]
  },
  {
   "cell_type": "code",
   "execution_count": 39,
   "metadata": {},
   "outputs": [
    {
     "name": "stdout",
     "output_type": "stream",
     "text": [
      "https://api.meteo.lt/v1/stations/vilniaus-ams/observations/latest\n",
      "Susideda iš antraštės ir lentelės 'observations':\n",
      "    observationTimeUtc  airTemperature  feelsLikeTemperature  windSpeed  \\\n",
      "0  2024-10-06 19:00:00             7.8                   7.8        1.1   \n",
      "1  2024-10-06 20:00:00             7.7                   7.7        1.2   \n",
      "2  2024-10-06 21:00:00             7.5                   7.5        2.1   \n",
      "\n",
      "   windGust  windDirection  cloudCover  seaLevelPressure  relativeHumidity  \\\n",
      "0       2.5            317          88            1011.5                90   \n",
      "1       2.8            327         100            1011.1                91   \n",
      "2       3.6            338         100            1010.7                94   \n",
      "\n",
      "   precipitation conditionCode  \n",
      "0            0.0        cloudy  \n",
      "1            0.0        cloudy  \n",
      "2            0.0          rain  \n"
     ]
    }
   ],
   "source": [
    "url = 'https://api.meteo.lt/v1/stations/vilniaus-ams/observations/latest'\n",
    "page = requests.get(url)\n",
    "# print(page.status_code)\n",
    "\n",
    "r = page.json()\n",
    "# print(type(r))\n",
    "\n",
    "print('https://api.meteo.lt/v1/stations/vilniaus-ams/observations/latest')\n",
    "print(\"Susideda iš antraštės ir lentelės 'observations':\")\n",
    "df = pd.DataFrame(data=r['observations'])\n",
    "print(df.head(3))"
   ]
  },
  {
   "cell_type": "code",
   "execution_count": null,
   "metadata": {},
   "outputs": [],
   "source": [
    "# Užduotis: \n",
    "# Raskite meteo stotelę, kuri užfiksavo didžiausią oro temperatūrą esamuoju metu.\n",
    "\n",
    "url = 'https://api.meteo.lt/v1/stations'\n",
    "page = requests.get(url)\n",
    "r = page.json()\n",
    "dfSt = pd.DataFrame(data=r) # Stations"
   ]
  },
  {
   "cell_type": "code",
   "execution_count": 56,
   "metadata": {},
   "outputs": [
    {
     "name": "stdout",
     "output_type": "stream",
     "text": [
      "Ieškau didžiausio rezultato per pastarąją parą\n",
      "akmenes-ams 13.5℃, birstono-ams 14.9℃, kretingos-ams 15.1℃, \n",
      "šiandien didžiausia temperatūta 15.1℃ fiksuota kretingos-ams stotyje.\n"
     ]
    }
   ],
   "source": [
    "print('Ieškau didžiausio rezultato per pastarąją parą')\n",
    "\n",
    "maxT = -273\n",
    "maxAMS = 'nenustatyta'\n",
    "\n",
    "for stCode in dfSt['code']:\n",
    "    url = f'https://api.meteo.lt/v1/stations/{stCode}/observations/latest'\n",
    "    page = requests.get(url)\n",
    "    r = page.json()\n",
    "    dfObs = pd.DataFrame(data=r['observations']) # Observations\n",
    "    airT = dfObs['airTemperature'].max()\n",
    "    if airT > maxT:\n",
    "        maxT = airT\n",
    "        maxAMS = stCode\n",
    "        print(f\"{maxAMS} {maxT}℃, \", end='')\n",
    "print(f\"\\nšiandien didžiausia temperatūta {maxT}℃ fiksuota {maxAMS} stotyje.\")"
   ]
  },
  {
   "cell_type": "code",
   "execution_count": 57,
   "metadata": {},
   "outputs": [
    {
     "name": "stdout",
     "output_type": "stream",
     "text": [
      "Ieškau didžiausio paskutinio matavimo\n",
      "akmenes-ams 3.9℃, alytaus-ams 6.9℃, anyksciu-ams 8.1℃, birzu-ams 8.4℃, elektrenu-ams 9.0℃, lazdiju-ams 9.8℃, nidos-ams 11.9℃, \n",
      "naujausiu matavimu didžiausia temperatūta 11.9℃ fiksuota nidos-ams stotyje.\n"
     ]
    }
   ],
   "source": [
    "print('Ieškau didžiausio paskutinio matavimo')\n",
    "\n",
    "maxT = -273\n",
    "maxAMS = 'nenustatyta'\n",
    "\n",
    "for stCode in dfSt['code']:\n",
    "    url = f'https://api.meteo.lt/v1/stations/{stCode}/observations/latest'\n",
    "    page = requests.get(url)\n",
    "    r = page.json()\n",
    "    dfObs = pd.DataFrame(data=r['observations']) # Observations\n",
    "    airTlist = dfObs['airTemperature'].tolist()\n",
    "    airT = airTlist[-1]\n",
    "    if airT > maxT:\n",
    "        maxT = airT\n",
    "        maxAMS = stCode\n",
    "        print(f\"{maxAMS} {maxT}℃, \", end='')\n",
    "print(f\"\\nnaujausiu matavimu didžiausia temperatūta {maxT}℃ fiksuota {maxAMS} stotyje.\")"
   ]
  },
  {
   "cell_type": "code",
   "execution_count": null,
   "metadata": {},
   "outputs": [],
   "source": []
  }
 ],
 "metadata": {
  "kernelspec": {
   "display_name": "Python 3",
   "language": "python",
   "name": "python3"
  },
  "language_info": {
   "codemirror_mode": {
    "name": "ipython",
    "version": 3
   },
   "file_extension": ".py",
   "mimetype": "text/x-python",
   "name": "python",
   "nbconvert_exporter": "python",
   "pygments_lexer": "ipython3",
   "version": "3.12.3"
  }
 },
 "nbformat": 4,
 "nbformat_minor": 2
}
