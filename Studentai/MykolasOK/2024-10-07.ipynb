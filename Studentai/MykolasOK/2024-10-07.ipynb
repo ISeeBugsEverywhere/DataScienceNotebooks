{
 "cells": [
  {
   "cell_type": "code",
   "execution_count": 1,
   "metadata": {},
   "outputs": [
    {
     "name": "stdout",
     "output_type": "stream",
     "text": [
      "Paskaita nr. 37, 2024-10-07, \"plotly.express naudojimas GIS duomenims\"\n",
      "Pasiruošta 2024-10-07 20:28:48.389187\n"
     ]
    }
   ],
   "source": [
    "import plotly.express as px\n",
    "import pandas as pd\n",
    "import datetime as dt\n",
    "import streamlit as sl\n",
    "\n",
    "print('Paskaita nr. 37, 2024-10-07, \"plotly.express naudojimas GIS duomenims\"')\n",
    "print('Pasiruošta',dt.datetime.now())"
   ]
  }
 ],
 "metadata": {
  "kernelspec": {
   "display_name": "Python 3",
   "language": "python",
   "name": "python3"
  },
  "language_info": {
   "codemirror_mode": {
    "name": "ipython",
    "version": 3
   },
   "file_extension": ".py",
   "mimetype": "text/x-python",
   "name": "python",
   "nbconvert_exporter": "python",
   "pygments_lexer": "ipython3",
   "version": "3.12.3"
  }
 },
 "nbformat": 4,
 "nbformat_minor": 2
}
