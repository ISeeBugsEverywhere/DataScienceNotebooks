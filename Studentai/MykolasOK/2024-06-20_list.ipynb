{
 "cells": [
  {
   "cell_type": "code",
   "execution_count": 1,
   "metadata": {},
   "outputs": [
    {
     "name": "stdout",
     "output_type": "stream",
     "text": [
      "7000mm = 700cm = 7m = 0.007km\n",
      "3%2=1\n",
      "3**2=9\n"
     ]
    }
   ],
   "source": [
    "m=int(input('metrai'))\n",
    "print(f\"{m*1000}mm = {m*100}cm = {m}m = {m/1000}km\")\n",
    "\n",
    "a=int(input('a'))\n",
    "b=int(input('b'))\n",
    "print(f'{a}%{b}={a%b}')\n",
    "print(f'{a}**{b}={a**b}')"
   ]
  },
  {
   "cell_type": "code",
   "execution_count": 3,
   "metadata": {},
   "outputs": [
    {
     "name": "stdout",
     "output_type": "stream",
     "text": [
      "Python kalba\n",
      "['Python', 'lengva', 'kalba']\n",
      "programavimo <class 'str'>\n",
      "Python True 6\n"
     ]
    }
   ],
   "source": [
    "lst = [\"Python\", \"yra\", \"lengva\", \"programavimo\", \"kalba\"]\n",
    "print(lst[0],lst[-1])\n",
    "i = 1\n",
    "#for eil in lst :\n",
    "#    if i%2 :\n",
    "#        print(eil)\n",
    "#    i += 1\n",
    "print(lst[::2])\n",
    "print(lst[-2],type(lst[-2]))\n",
    "print(lst[0],lst[0].isalpha(),len(lst[0]))"
   ]
  },
  {
   "cell_type": "code",
   "execution_count": 4,
   "metadata": {},
   "outputs": [
    {
     "name": "stdout",
     "output_type": "stream",
     "text": [
      "Aš\n",
      "mėgstu\n",
      "su\n",
      "ir\n",
      "su\n",
      "{'mėgstu', 'pyragu', 'ir', 'sumuštiniais', 'arbatą', 'Aš', 'rytais', 'su', 'kavą'}\n"
     ]
    }
   ],
   "source": [
    "txt = \"Aš rytais mėgstu kavą su sumuštiniais ir arbatą su pyragu\"\n",
    "zdz = txt.split()\n",
    "len(zdz)\n",
    "i = 1\n",
    "for eil in zdz :\n",
    "    if i%2 :\n",
    "        print(eil)\n",
    "    i += 1\n",
    "print(set(zdz))"
   ]
  },
  {
   "cell_type": "code",
   "execution_count": 5,
   "metadata": {},
   "outputs": [
    {
     "name": "stdout",
     "output_type": "stream",
     "text": [
      "Sąrašai\n",
      "{1, 2, 3, 4, 'b', 5, 6, 'a'}\n",
      "{1, 2, 3}\n",
      "{'a', 4}\n",
      "{'b', 5, 6, 4, 'a'}\n",
      "[1, 2, 3, 4, 5, 8]\n"
     ]
    }
   ],
   "source": [
    "print('Sąrašai')\n",
    "a_set={1,2,3,4,'a'}\n",
    "b_set={1,2,3,5,6,'b'}\n",
    "print(a_set.union(b_set))\n",
    "print(a_set.intersection(b_set))\n",
    "print(a_set.difference(b_set))\n",
    "print(a_set.symmetric_difference(b_set))\n",
    "\n",
    "l = [1,1,2,2,3,4,5,5,5,8,8,1,2]\n",
    "print(list(set(l)))"
   ]
  },
  {
   "cell_type": "code",
   "execution_count": 6,
   "metadata": {},
   "outputs": [
    {
     "name": "stdout",
     "output_type": "stream",
     "text": [
      "1323 VILNIUS\n",
      "STO\n",
      "True\n"
     ]
    }
   ],
   "source": [
    "# (sudėtinis sąrašas (nested list)).\n",
    "l = [\"Vilnius\", 1323, [\"Nupirkti maisto\", \"PABėgioti\"], 8, \"Rytas\"]\n",
    "print(l[1],l[0].upper())\n",
    "print(l[2][0][-3:].upper())\n",
    "print(l[2][1][:3].isupper())"
   ]
  },
  {
   "cell_type": "code",
   "execution_count": 3,
   "metadata": {},
   "outputs": [
    {
     "name": "stdout",
     "output_type": "stream",
     "text": [
      "5%7=5\n",
      "Labas\n",
      "Labas\n",
      "Labas\n",
      "Labas\n",
      "a<b\n"
     ]
    },
    {
     "ename": "NameError",
     "evalue": "name 't' is not defined",
     "output_type": "error",
     "traceback": [
      "\u001b[1;31m---------------------------------------------------------------------------\u001b[0m",
      "\u001b[1;31mNameError\u001b[0m                                 Traceback (most recent call last)",
      "Cell \u001b[1;32mIn[3], line 17\u001b[0m\n\u001b[0;32m     15\u001b[0m \u001b[38;5;66;03m# t=input('Įveskite txt')\u001b[39;00m\n\u001b[0;32m     16\u001b[0m sakinys\u001b[38;5;241m=\u001b[39m\u001b[38;5;124m\"\u001b[39m\u001b[38;5;124mVilnius yra UNESCO paveldas nuo 1996 metų.\u001b[39m\u001b[38;5;124m\"\u001b[39m\n\u001b[1;32m---> 17\u001b[0m \u001b[38;5;28mprint\u001b[39m(\u001b[43mt\u001b[49m,\u001b[38;5;124m'\u001b[39m\u001b[38;5;124myra\u001b[39m\u001b[38;5;124m'\u001b[39m \u001b[38;5;28;01mif\u001b[39;00m t \u001b[38;5;129;01min\u001b[39;00m sakinys \u001b[38;5;28;01melse\u001b[39;00m \u001b[38;5;124m'\u001b[39m\u001b[38;5;124mnėra\u001b[39m\u001b[38;5;124m'\u001b[39m,\u001b[38;5;124m'\u001b[39m\u001b[38;5;124msakinyje\u001b[39m\u001b[38;5;124m'\u001b[39m)\n\u001b[0;32m     18\u001b[0m \u001b[38;5;28;01mif\u001b[39;00m \u001b[38;5;129;01mnot\u001b[39;00m t:\n\u001b[0;32m     19\u001b[0m     \u001b[38;5;28mprint\u001b[39m(\u001b[38;5;124m'\u001b[39m\u001b[38;5;124mNieko neįvesta.\u001b[39m\u001b[38;5;124m'\u001b[39m)\n",
      "\u001b[1;31mNameError\u001b[0m: name 't' is not defined"
     ]
    }
   ],
   "source": [
    "# a=int(input('a'))\n",
    "# b=int(input('b'))\n",
    "a=5\n",
    "b=7\n",
    "print(f'{a}%{b}={a%b}')\n",
    "\n",
    "if not(a%5) :\n",
    "    i = 1\n",
    "    while i < a:\n",
    "        print('Labas')\n",
    "        i += 1\n",
    "    \n",
    "print('a=b' if a==b else 'a<b' if a<b else 'a>b')\n",
    "\n",
    "# t=input('Įveskite txt')\n",
    "sakinys=\"Vilnius yra UNESCO paveldas nuo 1996 metų.\"\n",
    "print(t,'yra' if t in sakinys else 'nėra','sakinyje')\n",
    "if not t:\n",
    "    print('Nieko neįvesta.')\n",
    "if t.isalpha() :\n",
    "    print('Tik raidės, nėra specialiųjų simbolių.')\n",
    "if t.islower() :\n",
    "    print('Tik mažosios.')\n",
    "if t.isupper() :\n",
    "    print('Tik didžiosios.')\n",
    "if t.isnumeric() :\n",
    "    print('Tik skaičiai.')\n",
    "if t.isalnum() :\n",
    "    print('Skaičiai ir raidės be spec. simbolių.')\n",
    "\n",
    "\n",
    "print(a,'yra' if 10<a and a<20 else 'ne intervale','tarp 10 ir 20')\n",
    "print(b,' yra ','nelyginis' if b%2 else 'lyginis')\n",
    "\n",
    "print(a,': ','Fizz' if not(a%3) else '','Buzz' if not(a%5) else '',a if a%3 and a%5 else '')\n",
    "# parašyti programą 'FizzBuzz'. Įvedus skaičių, kuris dalinasi iš 3, \n",
    "# spausdinamas žodis \"Fizz\", jei dalinasi iš 5 - \"Buzz\", \n",
    "# jei dalinasi ir iš 3 ir iš 5 - \"FizzBuzz\". \n",
    "# Jei nesidalina nei iš 3, nei iš 5 - spausdinamas įvestas skaičius."
   ]
  },
  {
   "cell_type": "code",
   "execution_count": 8,
   "metadata": {},
   "outputs": [
    {
     "name": "stdout",
     "output_type": "stream",
     "text": [
      "_______________________________________\n",
      "1x1=1 1x2=2 1x3=3 1x4=4 1x5=5  \n",
      "2x1=2 2x2=4 2x3=6 2x4=8 2x5=10  \n",
      "3x1=3 3x2=6 3x3=9 3x4=12 3x5=15  \n",
      "4x1=4 4x2=8 4x3=12 4x4=16 4x5=20  \n",
      "5x1=5 5x2=10 5x3=15 5x4=20 5x5=25  \n"
     ]
    }
   ],
   "source": [
    "print('_______________________________________')\n",
    "i = 1\n",
    "while i < 6:\n",
    "    j = 1\n",
    "    while j < 6 :\n",
    "        print('{}x{}={}'.format(i,j,i*j),end=' ')\n",
    "        j += 1\n",
    "    print(' ')\n",
    "    i += 1"
   ]
  }
 ],
 "metadata": {
  "kernelspec": {
   "display_name": "Python 3",
   "language": "python",
   "name": "python3"
  },
  "language_info": {
   "codemirror_mode": {
    "name": "ipython",
    "version": 3
   },
   "file_extension": ".py",
   "mimetype": "text/x-python",
   "name": "python",
   "nbconvert_exporter": "python",
   "pygments_lexer": "ipython3",
   "version": "3.12.3"
  }
 },
 "nbformat": 4,
 "nbformat_minor": 2
}
