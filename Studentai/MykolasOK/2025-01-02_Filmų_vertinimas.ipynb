{
 "cells": [
  {
   "cell_type": "code",
   "execution_count": null,
   "metadata": {},
   "outputs": [],
   "source": [
    "from datetime import datetime as dt\n",
    "print(f'72 paskaita. 2 dalis. Filmų vertinimas.')\n",
    "print('Pasiruošta',dt.now().replace(microsecond=0))"
   ]
  },
  {
   "cell_type": "code",
   "execution_count": null,
   "metadata": {},
   "outputs": [],
   "source": [
    "# Projektas (kažkiek dienų trukmės)\n",
    "# (Čia ne ML, kurkite savo algoritmą, arba savo algoritmą + ML):\n",
    "# Filmų rekomendacijos skriptas (Jupyter notebook)  arba Streamlit aplikacija\n",
    "# Rekomenduoti filmus pagal pasirinkimus (remiantis kitų vartotojų vertinimais) - vartotojas įveda žanrą, aktorių, etc .. \n",
    "# (apribokite įvestį 3-5 parametrais)\n",
    "# Rezultatas - rekomenduojami filmai ( 1, 2 ar daugiau)\n",
    "# get_dummies() -> dummy_df = df[\"Fruits\"].str.get_dummies(\", \") \n",
    "# iš čia: https://stackoverflow.com/questions/76783764/pandas-get-dummies-on-rows-with-multiple-entries"
   ]
  }
 ],
 "metadata": {
  "language_info": {
   "name": "python"
  }
 },
 "nbformat": 4,
 "nbformat_minor": 2
}
