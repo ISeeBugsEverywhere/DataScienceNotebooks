{
 "cells": [
  {
   "cell_type": "code",
   "execution_count": 11,
   "metadata": {},
   "outputs": [
    {
     "name": "stdout",
     "output_type": "stream",
     "text": [
      "{'Varna': 'Paukštis', 'Žvirblis': 'Paukštis'}\n",
      "Paukštis\n",
      "Paukštis\n",
      "{'Varna': 'Paukštis', 'Žvirblis': 'Paukštis', 'Kuosa': 'Paukštis'}\n",
      "{'Varna': 'Juoda', 'Žvirblis': 'Paukštis', 'Kuosa': 'Paukštis'}\n",
      "nerasta\n",
      "Juoda\n",
      "Paukštis\n",
      "dict_items([('Varna', 'Juoda'), ('Žvirblis', 'Paukštis'), ('Kuosa', 'Paukštis')])\n",
      "dict_keys(['Varna', 'Žvirblis', 'Kuosa'])\n",
      "dict_values(['Juoda', 'Paukštis', 'Paukštis'])\n"
     ]
    }
   ],
   "source": [
    "setas=()\n",
    "žodynėlis={}\n",
    "žodynėlis={\"Varna\":\"Paukštis\",\"Žvirblis\":\"Paukštis\"}\n",
    "print(žodynėlis)\n",
    "print(žodynėlis[\"Varna\"])\n",
    "print(žodynėlis[\"Žvirblis\"])\n",
    "žodynėlis['Kuosa']='Paukštis'\n",
    "print(žodynėlis)\n",
    "žodynėlis[\"Varna\"]='Juoda'\n",
    "print(žodynėlis)\n",
    "print(žodynėlis.get('Kukutis','nerasta'))\n",
    "print(žodynėlis.get('Varna','nerasta'))\n",
    "print(žodynėlis.get('Žvirblis','nerasta'))\n",
    "print(žodynėlis.items())\n",
    "print(žodynėlis.keys())\n",
    "print(žodynėlis.values())\n"
   ]
  },
  {
   "cell_type": "code",
   "execution_count": 18,
   "metadata": {},
   "outputs": [
    {
     "name": "stdout",
     "output_type": "stream",
     "text": [
      "91237.0\n"
     ]
    }
   ],
   "source": [
    "d1 = {\"cost_price\":32.67,\"sell_price\":45.00,\"inventory\":1200}\n",
    "d2 = {\"cost_price\":225.89,\"sell_price\":550.00,\"inventory\": 100}\n",
    "d3 = {\"cost_price\":2.77,\"sell_price\":7.95,\"inventory\":8500}\n",
    "dd = (d1,d2,d3)\n",
    "#print(dd)\n",
    "pelnas=0\n",
    "for x in dd:\n",
    "    pelnas += ( x[\"sell_price\"] - x[\"cost_price\"] ) * x[\"inventory\"]\n",
    "print(pelnas)"
   ]
  }
 ],
 "metadata": {
  "kernelspec": {
   "display_name": "Python 3",
   "language": "python",
   "name": "python3"
  },
  "language_info": {
   "codemirror_mode": {
    "name": "ipython",
    "version": 3
   },
   "file_extension": ".py",
   "mimetype": "text/x-python",
   "name": "python",
   "nbconvert_exporter": "python",
   "pygments_lexer": "ipython3",
   "version": "3.12.4"
  }
 },
 "nbformat": 4,
 "nbformat_minor": 2
}
