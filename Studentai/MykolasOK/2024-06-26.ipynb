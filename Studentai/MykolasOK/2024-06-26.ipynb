{
 "cells": [
  {
   "cell_type": "code",
   "execution_count": 11,
   "metadata": {},
   "outputs": [
    {
     "name": "stdout",
     "output_type": "stream",
     "text": [
      "{'Varna': 'Paukštis', 'Žvirblis': 'Paukštis'}\n",
      "Paukštis\n",
      "Paukštis\n",
      "{'Varna': 'Paukštis', 'Žvirblis': 'Paukštis', 'Kuosa': 'Paukštis'}\n",
      "{'Varna': 'Juoda', 'Žvirblis': 'Paukštis', 'Kuosa': 'Paukštis'}\n",
      "nerasta\n",
      "Juoda\n",
      "Paukštis\n",
      "dict_items([('Varna', 'Juoda'), ('Žvirblis', 'Paukštis'), ('Kuosa', 'Paukštis')])\n",
      "dict_keys(['Varna', 'Žvirblis', 'Kuosa'])\n",
      "dict_values(['Juoda', 'Paukštis', 'Paukštis'])\n"
     ]
    }
   ],
   "source": [
    "setas=()\n",
    "žodynėlis={}\n",
    "žodynėlis={\"Varna\":\"Paukštis\",\"Žvirblis\":\"Paukštis\"}\n",
    "print(žodynėlis)\n",
    "print(žodynėlis[\"Varna\"])\n",
    "print(žodynėlis[\"Žvirblis\"])\n",
    "žodynėlis['Kuosa']='Paukštis'\n",
    "print(žodynėlis)\n",
    "žodynėlis[\"Varna\"]='Juoda'\n",
    "print(žodynėlis)\n",
    "print(žodynėlis.get('Kukutis','nerasta'))\n",
    "print(žodynėlis.get('Varna','nerasta'))\n",
    "print(žodynėlis.get('Žvirblis','nerasta'))\n",
    "print(žodynėlis.items())\n",
    "print(žodynėlis.keys())\n",
    "print(žodynėlis.values())\n"
   ]
  },
  {
   "cell_type": "code",
   "execution_count": 18,
   "metadata": {},
   "outputs": [
    {
     "name": "stdout",
     "output_type": "stream",
     "text": [
      "91237.0\n"
     ]
    }
   ],
   "source": [
    "d1 = {\"cost_price\":32.67,\"sell_price\":45.00,\"inventory\":1200}\n",
    "d2 = {\"cost_price\":225.89,\"sell_price\":550.00,\"inventory\": 100}\n",
    "d3 = {\"cost_price\":2.77,\"sell_price\":7.95,\"inventory\":8500}\n",
    "dd = (d1,d2,d3)\n",
    "pelnas=0\n",
    "for x in dd:\n",
    "    pelnas += ( x[\"sell_price\"] - x[\"cost_price\"] ) * x[\"inventory\"]\n",
    "print(pelnas)"
   ]
  },
  {
   "cell_type": "code",
   "execution_count": 20,
   "metadata": {},
   "outputs": [
    {
     "name": "stdout",
     "output_type": "stream",
     "text": [
      "0 A\n",
      "1 š\n",
      "2  \n",
      "3 r\n",
      "4 Y\n",
      "5 t\n",
      "6 A\n",
      "7 i\n",
      "8 S\n",
      "9  \n",
      "10 M\n",
      "11 ė\n",
      "12 G\n",
      "13 s\n",
      "14 T\n",
      "15 u\n",
      "16  \n",
      "17 k\n",
      "18 A\n",
      "19 v\n",
      "20 Ą\n",
      "21  \n",
      "22 S\n",
      "23 u\n",
      "24  \n",
      "25 s\n",
      "26 U\n",
      "27 m\n",
      "28 U\n",
      "29 š\n",
      "30 T\n",
      "31 i\n",
      "32 N\n",
      "33 i\n",
      "34 A\n",
      "35 i\n",
      "36 S\n",
      "37  \n",
      "38 I\n",
      "39 r\n",
      "40  \n",
      "41 a\n",
      "42 R\n",
      "43 b\n",
      "44 A\n",
      "45 t\n",
      "46 Ą\n"
     ]
    }
   ],
   "source": [
    "t = \"Aš rytais mėgstu kavą su sumuštiniais ir arbatą\"\n",
    "# • Išveskite po vieną simbolį iš teksto. Šalia nurodykite ir\n",
    "# simbolio poziciją (indeksą) tekste.\n",
    "\n",
    "for nr, raidė in enumerate(t):\n",
    "    print(nr,raidė)"
   ]
  },
  {
   "cell_type": "code",
   "execution_count": null,
   "metadata": {},
   "outputs": [],
   "source": [
    "# • Išvesdami simbolį, spausdinkite jį viršutiniame registre, jei jis\n",
    "# yra lyginėje pozicijoje. Kitu atveju - žemutiniame registre.\n",
    "\n",
    "for nr, raidė in enumerate(t):\n",
    "    if nr % 2:\n",
    "        print(nr,raidė.lower())\n",
    "    else:\n",
    "        print(nr,raidė.upper())"
   ]
  },
  {
   "cell_type": "code",
   "execution_count": 23,
   "metadata": {},
   "outputs": [
    {
     "name": "stdout",
     "output_type": "stream",
     "text": [
      "Aš\n",
      "rytais\n",
      "mėgstu\n",
      "kavą\n",
      "su\n",
      "sumuštiniais\n",
      "ir\n",
      "arbatą\n"
     ]
    }
   ],
   "source": [
    "# • Išveskite po vieną žodį.\n",
    "\n",
    "žodžiai=t.split(' ')\n",
    "# print(žodžiai)\n",
    "for žodis in žodžiai:\n",
    "    print(žodis)\n",
    "\n",
    "# Bloko komentavimas: Ctrl+/ (-)"
   ]
  },
  {
   "cell_type": "code",
   "execution_count": 33,
   "metadata": {},
   "outputs": [
    {
     "name": "stdout",
     "output_type": "stream",
     "text": [
      "####\n",
      "####\n",
      "####\n",
      "####\n"
     ]
    }
   ],
   "source": [
    "# • Paprašykite vartotojo įvesti simbolį bei skaičių. Išveskite\n",
    "# kvadratą, sudarytą iš įvesto simbolio ir kurio kraštinė būtų\n",
    "# lygi įvestam skaičiui. Pvz.: įvesta '@' ir 5. Rezultatas:\n",
    "# @@@@@\n",
    "# @@@@@\n",
    "# @@@@@\n",
    "# @@@@@\n",
    "# @@@@@\n",
    "\n",
    "simb = input('simb')\n",
    "sk = int(input('sk'))\n",
    "\n",
    "eil = ''\n",
    "for i in range(0,sk):\n",
    "    eil += simb\n",
    "\n",
    "for i in range(0,sk):\n",
    "    print(eil)"
   ]
  },
  {
   "cell_type": "code",
   "execution_count": 36,
   "metadata": {},
   "outputs": [
    {
     "name": "stdout",
     "output_type": "stream",
     "text": [
      "> n\n",
      "> nn\n",
      "> nnn\n",
      "> nnnn\n",
      "> nnnnn\n"
     ]
    }
   ],
   "source": [
    "# Išspausdinkite ”pusinę” eglutę iš simbolio '*':\n",
    "# Eglutės ilgį (eilučių kiekį) turi įvesti vartotojas. Eglutei naudojamą\n",
    "# simbolį tegul įveda irgi vartotojas.\n",
    "\n",
    "simb = input('simb')\n",
    "sk = int(input('sk'))\n",
    "\n",
    "for i in range(1,sk+1):\n",
    "    eil = ''\n",
    "    for j in range(0,i):\n",
    "        eil += simb\n",
    "    print('>',eil)"
   ]
  },
  {
   "cell_type": "code",
   "execution_count": 39,
   "metadata": {},
   "outputs": [
    {
     "name": "stdout",
     "output_type": "stream",
     "text": [
      "Vilnius\n",
      "Rokiškis\n",
      "Mažeikiai\n"
     ]
    }
   ],
   "source": [
    "# Duotas sąrašas:\n",
    "\n",
    "miestai = ['Vilnius', 'Kaunas', 'Alytus', 'Rokiškis', 'Ūla', 'Mažeikiai', 'Akmena']\n",
    "\n",
    "# Spausdinkite tik tuos miestus, kurių pavadinimai ilgesni nei 6\n",
    "# simboliai.\n",
    "\n",
    "for miestas in miestai:\n",
    "    if len(miestas) > 6 :\n",
    "        print(miestas)\n",
    "\n",
    "# enumerate(), split()  metodas, if su %\n",
    "# upper(), lower()\n",
    "# dar len() funkcija simbolių ilgiui nustatyti"
   ]
  }
 ],
 "metadata": {
  "kernelspec": {
   "display_name": "Python 3",
   "language": "python",
   "name": "python3"
  },
  "language_info": {
   "codemirror_mode": {
    "name": "ipython",
    "version": 3
   },
   "file_extension": ".py",
   "mimetype": "text/x-python",
   "name": "python",
   "nbconvert_exporter": "python",
   "pygments_lexer": "ipython3",
   "version": "3.12.4"
  }
 },
 "nbformat": 4,
 "nbformat_minor": 2
}
