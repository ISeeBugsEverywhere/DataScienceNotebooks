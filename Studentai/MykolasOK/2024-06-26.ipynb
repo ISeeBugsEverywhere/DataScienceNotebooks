{
 "cells": [
  {
   "cell_type": "code",
   "execution_count": 11,
   "metadata": {},
   "outputs": [
    {
     "name": "stdout",
     "output_type": "stream",
     "text": [
      "{'Varna': 'Paukštis', 'Žvirblis': 'Paukštis'}\n",
      "Paukštis\n",
      "Paukštis\n",
      "{'Varna': 'Paukštis', 'Žvirblis': 'Paukštis', 'Kuosa': 'Paukštis'}\n",
      "{'Varna': 'Juoda', 'Žvirblis': 'Paukštis', 'Kuosa': 'Paukštis'}\n",
      "nerasta\n",
      "Juoda\n",
      "Paukštis\n",
      "dict_items([('Varna', 'Juoda'), ('Žvirblis', 'Paukštis'), ('Kuosa', 'Paukštis')])\n",
      "dict_keys(['Varna', 'Žvirblis', 'Kuosa'])\n",
      "dict_values(['Juoda', 'Paukštis', 'Paukštis'])\n"
     ]
    }
   ],
   "source": [
    "setas=()\n",
    "žodynėlis={}\n",
    "žodynėlis={\"Varna\":\"Paukštis\",\"Žvirblis\":\"Paukštis\"}\n",
    "print(žodynėlis)\n",
    "print(žodynėlis[\"Varna\"])\n",
    "print(žodynėlis[\"Žvirblis\"])\n",
    "žodynėlis['Kuosa']='Paukštis'\n",
    "print(žodynėlis)\n",
    "žodynėlis[\"Varna\"]='Juoda'\n",
    "print(žodynėlis)\n",
    "print(žodynėlis.get('Kukutis','nerasta'))\n",
    "print(žodynėlis.get('Varna','nerasta'))\n",
    "print(žodynėlis.get('Žvirblis','nerasta'))\n",
    "print(žodynėlis.items())\n",
    "print(žodynėlis.keys())\n",
    "print(žodynėlis.values())\n"
   ]
  },
  {
   "cell_type": "code",
   "execution_count": 18,
   "metadata": {},
   "outputs": [
    {
     "name": "stdout",
     "output_type": "stream",
     "text": [
      "91237.0\n"
     ]
    }
   ],
   "source": [
    "d1 = {\"cost_price\":32.67,\"sell_price\":45.00,\"inventory\":1200}\n",
    "d2 = {\"cost_price\":225.89,\"sell_price\":550.00,\"inventory\": 100}\n",
    "d3 = {\"cost_price\":2.77,\"sell_price\":7.95,\"inventory\":8500}\n",
    "dd = (d1,d2,d3)\n",
    "pelnas=0\n",
    "for x in dd:\n",
    "    pelnas += ( x[\"sell_price\"] - x[\"cost_price\"] ) * x[\"inventory\"]\n",
    "print(pelnas)"
   ]
  },
  {
   "cell_type": "code",
   "execution_count": 20,
   "metadata": {},
   "outputs": [
    {
     "name": "stdout",
     "output_type": "stream",
     "text": [
      "0 A\n",
      "1 š\n",
      "2  \n",
      "3 r\n",
      "4 Y\n",
      "5 t\n",
      "6 A\n",
      "7 i\n",
      "8 S\n",
      "9  \n",
      "10 M\n",
      "11 ė\n",
      "12 G\n",
      "13 s\n",
      "14 T\n",
      "15 u\n",
      "16  \n",
      "17 k\n",
      "18 A\n",
      "19 v\n",
      "20 Ą\n",
      "21  \n",
      "22 S\n",
      "23 u\n",
      "24  \n",
      "25 s\n",
      "26 U\n",
      "27 m\n",
      "28 U\n",
      "29 š\n",
      "30 T\n",
      "31 i\n",
      "32 N\n",
      "33 i\n",
      "34 A\n",
      "35 i\n",
      "36 S\n",
      "37  \n",
      "38 I\n",
      "39 r\n",
      "40  \n",
      "41 a\n",
      "42 R\n",
      "43 b\n",
      "44 A\n",
      "45 t\n",
      "46 Ą\n"
     ]
    }
   ],
   "source": [
    "t = \"Aš rytais mėgstu kavą su sumuštiniais ir arbatą\"\n",
    "# • Išveskite po vieną simbolį iš teksto. Šalia nurodykite ir\n",
    "# simbolio poziciją (indeksą) tekste.\n",
    "\n",
    "for nr, raidė in enumerate(t):\n",
    "    print(nr,raidė)"
   ]
  },
  {
   "cell_type": "code",
   "execution_count": null,
   "metadata": {},
   "outputs": [],
   "source": [
    "# • Išvesdami simbolį, spausdinkite jį viršutiniame registre, jei jis\n",
    "# yra lyginėje pozicijoje. Kitu atveju - žemutiniame registre.\n",
    "\n",
    "for nr, raidė in enumerate(t):\n",
    "    if nr % 2:\n",
    "        print(nr,raidė.lower())\n",
    "    else:\n",
    "        print(nr,raidė.upper())"
   ]
  },
  {
   "cell_type": "code",
   "execution_count": 23,
   "metadata": {},
   "outputs": [
    {
     "name": "stdout",
     "output_type": "stream",
     "text": [
      "Aš\n",
      "rytais\n",
      "mėgstu\n",
      "kavą\n",
      "su\n",
      "sumuštiniais\n",
      "ir\n",
      "arbatą\n"
     ]
    }
   ],
   "source": [
    "# • Išveskite po vieną žodį.\n",
    "\n",
    "žodžiai=t.split(' ')\n",
    "# print(žodžiai)\n",
    "for žodis in žodžiai:\n",
    "    print(žodis)\n",
    "\n",
    "# Bloko komentavimas: Ctrl+/ (-)"
   ]
  },
  {
   "cell_type": "code",
   "execution_count": 43,
   "metadata": {},
   "outputs": [
    {
     "name": "stdout",
     "output_type": "stream",
     "text": [
      "ggggggg\n",
      "ggggggg\n",
      "ggggggg\n",
      "ggggggg\n",
      "ggggggg\n",
      "ggggggg\n",
      "ggggggg\n",
      "Trumpiau:\n",
      "ggggggg\n",
      "ggggggg\n",
      "ggggggg\n",
      "ggggggg\n",
      "ggggggg\n",
      "ggggggg\n",
      "ggggggg\n"
     ]
    }
   ],
   "source": [
    "# • Paprašykite vartotojo įvesti simbolį bei skaičių. Išveskite\n",
    "# kvadratą, sudarytą iš įvesto simbolio ir kurio kraštinė būtų\n",
    "# lygi įvestam skaičiui. Pvz.: įvesta '@' ir 5. Rezultatas:\n",
    "# @@@@@\n",
    "# @@@@@\n",
    "# @@@@@\n",
    "# @@@@@\n",
    "# @@@@@\n",
    "\n",
    "simb = input('simb')\n",
    "sk = int(input('sk'))\n",
    "\n",
    "eil = ''\n",
    "for i in range(0,sk):\n",
    "    eil += simb\n",
    "\n",
    "for i in range(0,sk):\n",
    "    print(eil)\n",
    "\n",
    "print('Trumpiau:')\n",
    "for i in range(0,sk):\n",
    "    print(simb*sk)"
   ]
  },
  {
   "cell_type": "code",
   "execution_count": 42,
   "metadata": {},
   "outputs": [
    {
     "name": "stdout",
     "output_type": "stream",
     "text": [
      "> u\n",
      "> uu\n",
      "> uuu\n",
      "> uuuu\n",
      ": u\n",
      ": uu\n",
      ": uuu\n",
      ": uuuu\n"
     ]
    }
   ],
   "source": [
    "# Išspausdinkite ”pusinę” eglutę iš simbolio '*':\n",
    "# Eglutės ilgį (eilučių kiekį) turi įvesti vartotojas. Eglutei naudojamą\n",
    "# simbolį tegul įveda irgi vartotojas.\n",
    "\n",
    "simb = input('simb')\n",
    "sk = int(input('sk'))\n",
    "\n",
    "for i in range(1,sk+1):\n",
    "    eil = ''\n",
    "    for j in range(0,i):\n",
    "        eil += simb\n",
    "    print('>',eil)\n",
    "\n",
    "for i in range(1,sk+1):\n",
    "    print(':',simb*i)\n"
   ]
  },
  {
   "cell_type": "code",
   "execution_count": 39,
   "metadata": {},
   "outputs": [
    {
     "name": "stdout",
     "output_type": "stream",
     "text": [
      "Vilnius\n",
      "Rokiškis\n",
      "Mažeikiai\n"
     ]
    }
   ],
   "source": [
    "# Duotas sąrašas:\n",
    "\n",
    "miestai = ['Vilnius', 'Kaunas', 'Alytus', 'Rokiškis', 'Ūla', 'Mažeikiai', 'Akmena']\n",
    "\n",
    "# Spausdinkite tik tuos miestus, kurių pavadinimai ilgesni nei 6\n",
    "# simboliai.\n",
    "\n",
    "for miestas in miestai:\n",
    "    if len(miestas) > 6 :\n",
    "        print(miestas)\n",
    "\n",
    "# enumerate(), split()  metodas, if su %\n",
    "# upper(), lower()\n",
    "# dar len() funkcija simbolių ilgiui nustatyti"
   ]
  },
  {
   "cell_type": "code",
   "execution_count": 48,
   "metadata": {},
   "outputs": [
    {
     "name": "stdout",
     "output_type": "stream",
     "text": [
      "1.0.12\n",
      "[1, 6, 15, 28, 45, 66, 91, 120, 153, 190]\n",
      "[1.0, 0.6666666666666666, 0.6, 0.5714285714285714, 0.5555555555555556, 0.5454545454545454, 0.5384615384615384, 0.5333333333333333, 0.5294117647058824, 0.5263157894736842]\n",
      "[1, 4, 9, 16, 25, 36, 49, 64, 81, 100]\n"
     ]
    }
   ],
   "source": [
    "print('1.0.12')\n",
    "\n",
    "a = [1,2,3,4,5,6,7,8,9,10] \n",
    "b = [1,3,5,7,9,11,13,15,17,19]\n",
    "\n",
    "dgb=[]\n",
    "dal=[]\n",
    "kvd=[]\n",
    "for a1,b1 in zip(a,b):\n",
    "    dgb.append(a1*b1)\n",
    "    dal.append(a1/b1)\n",
    "    kvd.append(a1*a1)\n",
    "print(dgb)\n",
    "print(dal)\n",
    "print(kvd)"
   ]
  },
  {
   "cell_type": "code",
   "execution_count": 49,
   "metadata": {},
   "outputs": [
    {
     "name": "stdout",
     "output_type": "stream",
     "text": [
      "1.0.13\n",
      "a) [2, 4, 6, 8, 10, 12, 14, 16, 18, 20]\n",
      "b) [2, 2, 12, 28, 55, 78, 105, 136, 171, 210]\n",
      "c) [0.5, 2.0, 0.75, 0.5714285714285714, 0.45454545454545453, 0.46153846153846156, 0.4666666666666667, 0.47058823529411764, 0.47368421052631576, 0.47619047619047616]\n"
     ]
    }
   ],
   "source": [
    "print('1.0.13')\n",
    "\n",
    "# 1.0.13 Parašyti kodą, kuris sudaugintų standartinius Python’o sąrašus\n",
    "# Sąrašai:\n",
    "x = [1,2,3,4,5,6,7,8,9,10]\n",
    "y = [2,1,4,7,11,13,15,17,19,21]\n",
    "\n",
    "kiek=int(input('Iš ko dauginti kiekvieną elementą'))\n",
    "dgb=[]\n",
    "dal=[]\n",
    "krt=[]\n",
    "for a1,b1 in zip(x,y):\n",
    "    krt.append(a1*kiek)\n",
    "    dgb.append(a1*b1)\n",
    "    dal.append(a1/b1)\n",
    "print(\"a)\",krt)\n",
    "print(\"b)\",dgb)\n",
    "print(\"c)\",dal)\n"
   ]
  },
  {
   "cell_type": "code",
   "execution_count": 55,
   "metadata": {},
   "outputs": [
    {
     "name": "stdout",
     "output_type": "stream",
     "text": [
      "1.0.14\n",
      "Yra 9 nelyg. sk., jų aritmetinis vidurkis 10.333333333333334, geometrinis vidurkis 7.447789060288642.\n",
      "Yra 6 nelyg. sk., jų aritmetinis vidurkis 19.666666666666668, geometrinis vidurkis 11.542998948276226.\n"
     ]
    }
   ],
   "source": [
    "print('1.0.14')\n",
    "\n",
    "# 1.0.14 Parašyti programą, kuri suskaičiuotų, kiek yra lyginių ir nelyginių skaičių sąraše.\n",
    "# Taip pat suskaičiuotų lyginių ir nelyginių skaičių aritmetinį ir geometrinį vidurkius.\n",
    "# Sąrašas: \n",
    "x = [1,2,3,4,5,7,8,9,11,17,19,21,22,40,42]\n",
    "# skaičių sąrašo suma - sum() funkcija\n",
    "\n",
    "sum1 = 0\n",
    "sum2 = 0\n",
    "daug1= 1\n",
    "daug2= 1\n",
    "n1 = 0\n",
    "n2 = 0\n",
    "\n",
    "for sk in x:\n",
    "    if sk % 2:\n",
    "        sum1 += sk\n",
    "        daug1 *= sk\n",
    "        n1 += 1\n",
    "    else:\n",
    "        sum2 += sk\n",
    "        daug2 *= sk\n",
    "        n2 += 1\n",
    "print(f'Yra {n1} nelyg. sk., jų aritmetinis vidurkis {sum1/n1}, geometrinis vidurkis {daug1**(1/n1)}.')\n",
    "print(f'Yra {n2} nelyg. sk., jų aritmetinis vidurkis {sum2/n2}, geometrinis vidurkis {daug2**(1/n2)}.')"
   ]
  },
  {
   "cell_type": "code",
   "execution_count": 32,
   "metadata": {},
   "outputs": [
    {
     "name": "stdout",
     "output_type": "stream",
     "text": [
      "Po pertraukos\n",
      "Ridos vidurkis: 197149 km\n",
      "Amžiaus vidurkis: 13.1 m.\n",
      "Kainos vidurkis: 14850.00 €\n"
     ]
    }
   ],
   "source": [
    "print('Po pertraukos')\n",
    "# a) Suraskite vidutinę kainą, amžių ir ridą šių automobilių.\n",
    "dd=[('BMW', 'M5', '253 000 km', '2005-12', '19 500'), ('Mitsubishi', 'Outlander', '195 405 km', '2006', '2 700'), ('Seat', 'Arona', '129 800 km', '2019-11', '13 490'), ('Skoda', 'Octavia Scout', '183 000 km', '2015-06', '14 650'), ('Volvo', 'XC90', '127 896 km', '2018-08', '38 000'), ('Audi', '80', '194 000 km', '1987-07', '1 200'), ('Dacia', 'Lodgy', '102 122 km', '2013-03', '8 000'), ('Skoda', 'Octavia', '227 937 km', '2017-11', '11 990'), ('BMW', '320', '158 486 km', '2017-07', '16 190'), ('Volkswagen', 'Passat', '150 869 km', '2019-01', '16 490'), ('BMW', '520', '74 455 km', '2018-03', '28 900'), ('Mercedes-Benz', 'GLE Coupe 350', '194 000 km', '2016-11', '42 500'), ('Ford', 'C-MAX', '276 260 km', '2005-06', '2 000'), ('BMW', 'X3', '290 000 km', '2004-11', '3 390'), ('BMW', '530', '400 000 km', '2004', '3 750')]\n",
    "\n",
    "kaina=0\n",
    "amžius=0\n",
    "rida=0\n",
    "kainaN=0\n",
    "amžiusN=0\n",
    "ridaN=0\n",
    "dabar = 2024\n",
    "\n",
    "for auto in dd:\n",
    "\n",
    "    r1=int(auto[2].replace(\" \", \"\").replace(\"km\", \"\"))\n",
    "    if r1:\n",
    "        rida+=r1\n",
    "        ridaN+=1\n",
    "\n",
    "    a1=int(auto[3].split('-')[0])\n",
    "    if a1:\n",
    "        # print(a1)\n",
    "        a1 = dabar-a1\n",
    "        amžius+=a1\n",
    "        amžiusN+=1\n",
    "\n",
    "    k1=int(auto[4].replace(\" \", \"\"))\n",
    "    if k1:\n",
    "        kaina+=k1\n",
    "        kainaN+=1\n",
    "\n",
    "\n",
    "print(f'Ridos vidurkis: {rida/ridaN:.0f} km')\n",
    "print(f'Amžiaus vidurkis: {amžius/amžiusN:.1f} m.')\n",
    "print(f'Kainos vidurkis: {kaina/kainaN:.2f} €')\n",
    "\n",
    "# \"Hello World\"\tstr\n",
    "# [\"apple\", \"banana\", \"cherry\"]\tlist\n",
    "# (\"apple\", \"banana\", \"cherry\")\ttuple\n",
    "# range(6)\trange\n",
    "# {\"name\" : \"John\", \"age\" : 36}\tdict\n",
    "# {\"apple\", \"banana\", \"cherry\"}\tset\n",
    "# frozenset({\"apple\", \"banana\", \"cherry\"})\tfrozenset"
   ]
  },
  {
   "cell_type": "code",
   "execution_count": null,
   "metadata": {},
   "outputs": [],
   "source": []
  }
 ],
 "metadata": {
  "kernelspec": {
   "display_name": "Python 3",
   "language": "python",
   "name": "python3"
  },
  "language_info": {
   "codemirror_mode": {
    "name": "ipython",
    "version": 3
   },
   "file_extension": ".py",
   "mimetype": "text/x-python",
   "name": "python",
   "nbconvert_exporter": "python",
   "pygments_lexer": "ipython3",
   "version": "3.12.4"
  }
 },
 "nbformat": 4,
 "nbformat_minor": 2
}
