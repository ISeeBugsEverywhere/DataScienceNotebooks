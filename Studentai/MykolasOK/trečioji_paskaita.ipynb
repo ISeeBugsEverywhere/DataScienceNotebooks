{
 "cells": [
  {
   "cell_type": "code",
   "execution_count": 10,
   "metadata": {},
   "outputs": [
    {
     "name": "stdout",
     "output_type": "stream",
     "text": [
      "56000mm = 5600cm = 56m = 0.056km\n",
      "45%3=0\n",
      "45**3=91125\n"
     ]
    }
   ],
   "source": [
    "m=int(input('metrai'))\n",
    "print(f\"{m*1000}mm = {m*100}cm = {m}m = {m/1000}km\")\n",
    "\n",
    "a=int(input('a'))\n",
    "b=int(input('b'))\n",
    "print(f'{a}%{b}={a%b}')\n",
    "print(f'{a}**{b}={a**b}')\n",
    "\n"
   ]
  },
  {
   "cell_type": "code",
   "execution_count": 36,
   "metadata": {},
   "outputs": [
    {
     "name": "stdout",
     "output_type": "stream",
     "text": [
      "Python kalba\n",
      "Python\n",
      "lengva\n",
      "kalba\n",
      "['Python', 'lengva', 'kalba']\n",
      "programavimo <class 'str'>\n",
      "Python True 6\n"
     ]
    }
   ],
   "source": [
    "lst = [\"Python\", \"yra\", \"lengva\", \"programavimo\", \"kalba\"]\n",
    "print(lst[0],lst[-1])\n",
    "i = 1\n",
    "#for eil in lst :\n",
    "#    if i%2 :\n",
    "#        print(eil)\n",
    "#    i += 1\n",
    "print(lst[::2])\n",
    "print(lst[-2],type(lst[-2]))\n",
    "print(lst[0],lst[0].isalpha(),len(lst[0]))"
   ]
  },
  {
   "cell_type": "code",
   "execution_count": 38,
   "metadata": {},
   "outputs": [
    {
     "name": "stdout",
     "output_type": "stream",
     "text": [
      "Aš\n",
      "mėgstu\n",
      "su\n",
      "ir\n",
      "su\n",
      "{'ir', 'sumuštiniais', 'kavą', 'mėgstu', 'su', 'rytais', 'pyragu', 'Aš', 'arbatą'}\n"
     ]
    }
   ],
   "source": [
    "txt = \"Aš rytais mėgstu kavą su sumuštiniais ir arbatą su pyragu\"\n",
    "zdz = txt.split()\n",
    "len(zdz)\n",
    "i = 1\n",
    "for eil in zdz :\n",
    "    if i%2 :\n",
    "        print(eil)\n",
    "    i += 1\n",
    "print(set(zdz))"
   ]
  },
  {
   "cell_type": "code",
   "execution_count": 40,
   "metadata": {},
   "outputs": [
    {
     "name": "stdout",
     "output_type": "stream",
     "text": [
      "Sąrašai\n",
      "{1, 2, 3, 4, 5, 6, 'b', 'a'}\n",
      "{1, 2, 3}\n",
      "{4, 'a'}\n",
      "{4, 5, 6, 'b', 'a'}\n",
      "[1, 2, 3, 4, 5, 8]\n"
     ]
    }
   ],
   "source": [
    "print('Sąrašai')\n",
    "a_set={1,2,3,4,'a'}\n",
    "b_set={1,2,3,5,6,'b'}\n",
    "print(a_set.union(b_set))\n",
    "print(a_set.intersection(b_set))\n",
    "print(a_set.difference(b_set))\n",
    "print(a_set.symmetric_difference(b_set))\n",
    "\n",
    "l = [1,1,2,2,3,4,5,5,5,8,8,1,2]\n",
    "print(list(set(l)))"
   ]
  },
  {
   "cell_type": "code",
   "execution_count": 35,
   "metadata": {},
   "outputs": [
    {
     "name": "stdout",
     "output_type": "stream",
     "text": [
      "1323 VILNIUS\n",
      "STO\n",
      "True\n"
     ]
    }
   ],
   "source": [
    "# (sudėtinis sąrašas (nested list)).\n",
    "l = [\"Vilnius\", 1323, [\"Nupirkti maisto\", \"PABėgioti\"], 8, \"Rytas\"]\n",
    "print(l[1],l[0].upper())\n",
    "print(l[2][0][-3:].upper())\n",
    "print(l[2][1][:3].isupper())"
   ]
  },
  {
   "cell_type": "code",
   "execution_count": 7,
   "metadata": {},
   "outputs": [
    {
     "name": "stdout",
     "output_type": "stream",
     "text": [
      "45%7=3\n",
      "Labas\n",
      "Labas\n",
      "Labas\n",
      "Labas\n",
      "Labas\n",
      "Labas\n",
      "Labas\n",
      "Labas\n",
      "Labas\n",
      "Labas\n",
      "Labas\n",
      "Labas\n",
      "Labas\n",
      "Labas\n",
      "Labas\n",
      "Labas\n",
      "Labas\n",
      "Labas\n",
      "Labas\n",
      "Labas\n",
      "Labas\n",
      "Labas\n",
      "Labas\n",
      "Labas\n",
      "Labas\n",
      "Labas\n",
      "Labas\n",
      "Labas\n",
      "Labas\n",
      "Labas\n",
      "Labas\n",
      "Labas\n",
      "Labas\n",
      "Labas\n",
      "Labas\n",
      "Labas\n",
      "Labas\n",
      "Labas\n",
      "Labas\n",
      "Labas\n",
      "Labas\n",
      "Labas\n",
      "Labas\n",
      "Labas\n",
      "a>b\n",
      "dqsd nėra sakinyje\n",
      "Tik raidės, nėra specialiųjų simbolių.\n",
      "Tik mažosios.\n",
      "Skaičiai ir raidės be spec. simbolių.\n",
      "45 ne intervale tarp 10 ir 20\n",
      "7  yra  nelyginis\n",
      "45 :  Fizz Buzz \n",
      "_______________________________________\n",
      "1x1=1 1x2=2 1x3=3 1x4=4 1x5=5  \n",
      "2x1=2 2x2=4 2x3=6 2x4=8 2x5=10  \n",
      "3x1=3 3x2=6 3x3=9 3x4=12 3x5=15  \n",
      "4x1=4 4x2=8 4x3=12 4x4=16 4x5=20  \n",
      "5x1=5 5x2=10 5x3=15 5x4=20 5x5=25  \n"
     ]
    }
   ],
   "source": [
    "\n",
    "a=int(input('a'))\n",
    "b=int(input('b'))\n",
    "print(f'{a}%{b}={a%b}')\n",
    "\n",
    "if not(a%5) :\n",
    "    i = 1\n",
    "    while i < a:\n",
    "        print('Labas')\n",
    "        i += 1\n",
    "    \n",
    "print('a=b' if a==b else 'a<b' if a<b else 'a>b')\n",
    "\n",
    "t=input('Įveskite txt')\n",
    "sakinys=\"Vilnius yra UNESCO paveldas nuo 1996 metų.\"\n",
    "print(t,'yra' if t in sakinys else 'nėra','sakinyje')\n",
    "if not t:\n",
    "    print('Nieko neįvesta.')\n",
    "if t.isalpha() :\n",
    "    print('Tik raidės, nėra specialiųjų simbolių.')\n",
    "if t.islower() :\n",
    "    print('Tik mažosios.')\n",
    "if t.isupper() :\n",
    "    print('Tik didžiosios.')\n",
    "if t.isnumeric() :\n",
    "    print('Tik skaičiai.')\n",
    "if t.isalnum() :\n",
    "    print('Skaičiai ir raidės be spec. simbolių.')\n",
    "\n",
    "\n",
    "print(a,'yra' if 10<a and a<20 else 'ne intervale','tarp 10 ir 20')\n",
    "print(b,' yra ','nelyginis' if b%2 else 'lyginis')\n",
    "\n",
    "print(a,': ','Fizz' if not(a%3) else '','Buzz' if not(a%5) else '',a if a%3 and a%5 else '')\n",
    "# parašyti programą 'FizzBuzz'. Įvedus skaičių, kuris dalinasi iš 3, \n",
    "# spausdinamas žodis \"Fizz\", jei dalinasi iš 5 - \"Buzz\", \n",
    "# jei dalinasi ir iš 3 ir iš 5 - \"FizzBuzz\". \n",
    "# Jei nesidalina nei iš 3, nei iš 5 - spausdinamas įvestas skaičius.\n",
    "\n",
    "print('_______________________________________')\n",
    "i = 1\n",
    "while i < 6:\n",
    "    j = 1\n",
    "    while j < 6 :\n",
    "        print('{}x{}={}'.format(i,j,i*j),end=' ')\n",
    "        j += 1\n",
    "    print(' ')\n",
    "    i += 1"
   ]
  }
 ],
 "metadata": {
  "kernelspec": {
   "display_name": "Python 3",
   "language": "python",
   "name": "python3"
  },
  "language_info": {
   "codemirror_mode": {
    "name": "ipython",
    "version": 3
   },
   "file_extension": ".py",
   "mimetype": "text/x-python",
   "name": "python",
   "nbconvert_exporter": "python",
   "pygments_lexer": "ipython3",
   "version": "3.12.4"
  }
 },
 "nbformat": 4,
 "nbformat_minor": 2
}
