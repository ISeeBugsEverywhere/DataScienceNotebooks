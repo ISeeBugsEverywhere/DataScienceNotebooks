{
 "cells": [
  {
   "cell_type": "code",
   "execution_count": 2,
   "metadata": {},
   "outputs": [
    {
     "name": "stdout",
     "output_type": "stream",
     "text": [
      "3.0 tipas yra <class 'float'>\n",
      "4 tipas yra <class 'int'>\n",
      "Python tipas yra <class 'str'>\n",
      "['o', 3.0] tipas yra <class 'list'>\n"
     ]
    }
   ],
   "source": [
    "#1.0.1 Išvesti kintamojo tipą. Duoti kintamieji:\n",
    "a = 3.0\n",
    "b = 4\n",
    "c = \"Python\"\n",
    "d = ['o', 3.0]\n",
    "print(f'{a} tipas yra', type(a))\n",
    "print(f'{b} tipas yra', type(b))\n",
    "print(f'{c} tipas yra', type(c))\n",
    "print(f'{d} tipas yra', type(d))"
   ]
  },
  {
   "cell_type": "code",
   "execution_count": 16,
   "metadata": {},
   "outputs": [
    {
     "name": "stdout",
     "output_type": "stream",
     "text": [
      "y/x liekana yra 2.0\n"
     ]
    }
   ],
   "source": [
    "#Skaičiai: x = 5.0, y = 17.0. Atlikite šiuos veiksmus: sudėtį, atimtį, daugybą, dalybą,\n",
    "#raskite liekaną, dalinant y iš x, liekaną dalinant x iš y.\n",
    "x=5.0\n",
    "y=17.0\n",
    "a=x/y\n",
    "if a>1:\n",
    "    print(\"x/y liekana=\", x%y)\n",
    "else:   \n",
    "    print(\"y/x liekana yra\", y%x)\n"
   ]
  },
  {
   "cell_type": "code",
   "execution_count": 45,
   "metadata": {},
   "outputs": [
    {
     "name": "stdout",
     "output_type": "stream",
     "text": [
      "a=6 b=12\n",
      "a+b= 18\n",
      "a-b= -6 o b-a= 6\n",
      "a*b= 72\n",
      "a/b= 0.5 b/a= 2.0\n",
      "atlikome veiksmus su Jusu pateiktais duomenimis\n",
      "a/b trupmeninis skaicius, liekanos nera b/a liekna yra 0\n"
     ]
    }
   ],
   "source": [
    "#Atlikti veiksmus su vartotojo įvestais skaičiais a ir b.\n",
    "#Atlikite šiuos veiksmus: sudėtį, atimtį, daugybą, \n",
    "# dalybą, raskite liekaną dalinant a iš b\n",
    "a=input(\"ivesk skaiciu a=\")\n",
    "b=input(\"ivesk skaiciu b=\")\n",
    "try:\n",
    "    A=int(a)\n",
    "    B=int(b)\n",
    "    result=A/10+B/10\n",
    "except ValueError as ex:\n",
    "    print(\"klaida ivedant duomenis. Ivesti ne skaiciai\")\n",
    "else:\n",
    "    print(f'a={A}', f'b={B}')\n",
    "    print(\"a+b=\", A+B)\n",
    "    print(\"a-b=\", A-B, \"o b-a=\", B-A)\n",
    "    print(\"a*b=\", A*B)\n",
    "    try:\n",
    "     c=A/B\n",
    "     d=B/A\n",
    "    except ZeroDivisionError:\n",
    "      print(\"Dalyba is nulio negalima\" )\n",
    "    else:\n",
    "      print(\"a/b=\",A/B,\"b/a=\", B/A)\n",
    "finally:\n",
    "        print(\"atlikome veiksmus su Jusu pateiktais duomenimis\")\n",
    "if A/B<1:\n",
    "    print(\"a/b trupmeninis skaicius, liekanos nera\", 'b/a liekna yra', B%A)\n",
    "else:\n",
    "    print(\"a/b liekana yra\", A%B)\n",
    " \n",
    "\n",
    "                 \n",
    "                 "
   ]
  },
  {
   "cell_type": "code",
   "execution_count": 135,
   "metadata": {},
   "outputs": [
    {
     "name": "stdout",
     "output_type": "stream",
     "text": [
      "lyginiai skaiciai sekoje =[2, 4, 8, 22, 40, 42] ju yra 6\n",
      "nelyginiai skaiciai sekoje =[1, 3, 5, 7, 9, 11, 17, 19, 21] ju yra 9\n",
      "aritmetinis vidurkis lyginiu skaiciu=19.67\n",
      "aritmetinis vidurkis nelyginiu skaiciu=10.33\n",
      "geometrinis vidurkis lyginiu=11.54\n",
      "geometrinis vidurkis nelyginiu=7.45\n"
     ]
    }
   ],
   "source": [
    "#1.0.14 Parašyti programą, kuri suskaičiuotų, kiek yra lyginių ir nelyginių skaičių sąraše.\n",
    "#Taip pat suskaičiuotų lyginių ir nelyginių skaičių aritmetinį ir geometrinį vidurkius.\n",
    "x = [1,2,3,4,5,7,8,9,11,17,19,21,22,40,42]\n",
    "even_numbers = []\n",
    "odd_numbers = []\n",
    "for i in x:\n",
    "    if i%2 == 0:\n",
    "        even_numbers.append(i)\n",
    "    else:\n",
    "        odd_numbers.append(i)  \n",
    "           \n",
    "even_numbers_length = len(even_numbers)\n",
    "odd_numbers_length = len(odd_numbers)\n",
    "print(f'lyginiai skaiciai sekoje ={even_numbers}', f'ju yra {even_numbers_length}')\n",
    "print(f'nelyginiai skaiciai sekoje ={odd_numbers}', f'ju yra {odd_numbers_length}')\n",
    "\n",
    "even_aritmetinis_vidurkis=sum(even_numbers) / even_numbers_length\n",
    "odd_aritmetinis_vidurkis=sum(odd_numbers) / odd_numbers_length\n",
    "print (f'aritmetinis vidurkis lyginiu skaiciu={even_aritmetinis_vidurkis:.2f}')\n",
    "print(f'aritmetinis vidurkis nelyginiu skaiciu={odd_aritmetinis_vidurkis:.2f}')\n",
    "even_multiple=1\n",
    "for i in even_numbers:\n",
    "    even_multiple*=i\n",
    "    even_geometinis_vidurkis=even_multiple**(1/even_numbers_length) \n",
    "print(f'geometrinis vidurkis lyginiu={even_multiple**(1/even_numbers_length):.2f}')\n",
    "odd_multiple=1\n",
    "for i in odd_numbers:\n",
    "    odd_multiple*=i\n",
    "    odd_geometrinis_vidurkis=odd_multiple**(1/odd_numbers_length)\n",
    "print(f'geometrinis vidurkis nelyginiu={odd_multiple**(1/odd_numbers_length):.2f}')"
   ]
  },
  {
   "cell_type": "code",
   "execution_count": 142,
   "metadata": {},
   "outputs": [
    {
     "name": "stdout",
     "output_type": "stream",
     "text": [
      "lyginiai skaiciai sekoje =[2, 4, 8, 22, 40, 42] ju yra 6\n",
      "nelyginiai skaiciai sekoje =[1, 3, 5, 7, 9, 11, 17, 19, 21] ju yra 9\n",
      "aritmetinis vidurkis lyginiu skaiciu=19.67 aritmetinis vidurkis nelyginiu skaiciu=10.33\n",
      "lyginiu sk. geometrinis vidurkis 1.12\n",
      "lyginiu sk. geometrinis vidurkis 1.41\n",
      "lyginiu sk. geometrinis vidurkis 2.00\n",
      "lyginiu sk. geometrinis vidurkis 3.35\n",
      "lyginiu sk. geometrinis vidurkis 6.19\n",
      "lyginiu sk. geometrinis vidurkis 11.54\n",
      "geometrinis vidurkis nelyginiu yra 1.00\n",
      "geometrinis vidurkis nelyginiu yra 1.20\n",
      "geometrinis vidurkis nelyginiu yra 1.57\n",
      "geometrinis vidurkis nelyginiu yra 2.17\n",
      "geometrinis vidurkis nelyginiu yra 3.13\n",
      "geometrinis vidurkis nelyginiu yra 4.67\n",
      "geometrinis vidurkis nelyginiu yra 7.49\n",
      "geometrinis vidurkis nelyginiu yra 12.24\n",
      "geometrinis vidurkis nelyginiu yra 20.33\n"
     ]
    }
   ],
   "source": [
    "#1.0.14 Parašyti programą, kuri suskaičiuotų, kiek yra lyginių ir nelyginių skaičių sąraše.\n",
    "#Taip pat suskaičiuotų lyginių ir nelyginių skaičių aritmetinį ir geometrinį vidurkius.\n",
    "#padaryta, kad atsiminciau, kad print vieta labai svarbi. Palygink ka spausdina si ir pries tai buvusi programa\n",
    "x = [1,2,3,4,5,7,8,9,11,17,19,21,22,40,42]\n",
    "even_numbers = []\n",
    "odd_numbers = []\n",
    "for i in x:\n",
    "    if i%2 == 0:\n",
    "        even_numbers.append(i)\n",
    "    else:\n",
    "        odd_numbers.append(i)  \n",
    "           \n",
    "even_numbers_length = len(even_numbers)\n",
    "odd_numbers_length = len(odd_numbers)\n",
    "print(f'lyginiai skaiciai sekoje ={even_numbers}', f'ju yra {even_numbers_length}')\n",
    "print(f'nelyginiai skaiciai sekoje ={odd_numbers}', f'ju yra {odd_numbers_length}')\n",
    "\n",
    "even_aritmetinis_vidurkis=sum(even_numbers) / even_numbers_length\n",
    "odd_aritmetinis_vidurkis=sum(odd_numbers) / odd_numbers_length\n",
    "print (f'aritmetinis vidurkis lyginiu skaiciu={even_aritmetinis_vidurkis:.2f}', f'aritmetinis vidurkis nelyginiu skaiciu={odd_aritmetinis_vidurkis:.2f}')\n",
    "even_multiple=1\n",
    "for i in even_numbers:\n",
    "    even_multiple*=i\n",
    "    lyginiu_vidurkis=even_multiple**(1/even_numbers_length)\n",
    "    print (f'lyginiu sk. geometrinis vidurkis {lyginiu_vidurkis:.2f}')\n",
    "odd_multiple=1\n",
    "for i in odd_numbers:\n",
    "    odd_multiple*=i\n",
    "    nelyginiu_vidurkis=odd_multiple**(1/even_numbers_length)\n",
    "    print(f'geometrinis vidurkis nelyginiu yra {nelyginiu_vidurkis:.2f}')"
   ]
  },
  {
   "cell_type": "code",
   "execution_count": 159,
   "metadata": {},
   "outputs": [
    {
     "name": "stdout",
     "output_type": "stream",
     "text": [
      "15\n",
      "16\n",
      "17\n",
      "18\n",
      "19\n",
      "20\n",
      "21\n",
      "22\n",
      "23\n",
      "24\n",
      "25\n",
      "26\n",
      "27\n"
     ]
    }
   ],
   "source": [
    "#1.0.15 Parašykite ciklą, panaudodami range()funkciją\n",
    "#a) ciklas turi išvesti skaičius nuo 15 iki 27, kas vieną.\n",
    "for i in range(0,50):\n",
    "    if 15<= i <=27:\n",
    "        print(i) \n",
    "    elif i>27:\n",
    "        break\n",
    "\n",
    "     \n",
    "    "
   ]
  },
  {
   "cell_type": "code",
   "execution_count": 162,
   "metadata": {},
   "outputs": [
    {
     "name": "stdout",
     "output_type": "stream",
     "text": [
      "0\n",
      "1\n",
      "2\n",
      "3\n",
      "4\n",
      "5\n",
      "6\n",
      "7\n",
      "8\n",
      "9\n",
      "10\n"
     ]
    }
   ],
   "source": [
    "#1.0.15 Parašykite ciklą, panaudodami range()funkciją\n",
    "#b) pakeiskite ciklą, kad būtų išvedama nuo 0 iki 10 skaičiai.\n",
    "for i in range(-50,50):\n",
    "    if 0<= i <=10:\n",
    "        print(i) \n",
    "    elif i>10:\n",
    "        break"
   ]
  },
  {
   "cell_type": "code",
   "execution_count": 163,
   "metadata": {},
   "outputs": [
    {
     "name": "stdout",
     "output_type": "stream",
     "text": [
      "1\n",
      "4\n",
      "9\n",
      "16\n",
      "25\n",
      "36\n",
      "49\n",
      "64\n",
      "81\n",
      "100\n"
     ]
    }
   ],
   "source": [
    "#1.0.15 Parašykite ciklą, panaudodami range()funkciją\n",
    "#c) pakeiskite ciklą, kad būtų išvedami skaičiai, padauginti patys iš savęs (ribos 0-10)\n",
    "for i in range(-50,50):\n",
    "    if 0< i <=10:\n",
    "        print(i*i) \n",
    "    elif i>10:\n",
    "        break"
   ]
  },
  {
   "cell_type": "code",
   "execution_count": 1,
   "metadata": {},
   "outputs": [
    {
     "name": "stdout",
     "output_type": "stream",
     "text": [
      "1\n",
      "4\n",
      "9\n",
      "16\n",
      "25\n",
      "36\n",
      "49\n",
      "64\n",
      "81\n",
      "100\n"
     ]
    }
   ],
   "source": [
    "#1.0.15 Parašykite ciklą, panaudodami range()funkciją\n",
    "#c) pakeiskite ciklą, kad būtų išvedami skaičiai, padauginti patys iš savęs (ribos 0-10)\n",
    "for i in range(-50,50):\n",
    "    if 0< i <=10:\n",
    "        print(i**2) \n",
    "    elif i>10:\n",
    "        break"
   ]
  },
  {
   "cell_type": "code",
   "execution_count": 35,
   "metadata": {},
   "outputs": [
    {
     "name": "stdout",
     "output_type": "stream",
     "text": [
      "Sukurtas sąrašas: [0, 3, 6, 9, 12, 15, 18, 21, 24, 27, 30, 33, 36, 39, 42, 45, 48, 51, 54, 57, 60]\n",
      "0\n",
      "3\n",
      "6\n",
      "9\n",
      "12\n",
      "15\n",
      "pateiktas sarasa yra ilgesnis\n"
     ]
    }
   ],
   "source": [
    "#1.0.16 Parašyti kodą, kuris sugeneruotų sąrašą a, kuriame būtų skaičiai nuo 0 iki 15,\n",
    "# vartotojas įveda, kiek elementų turi būti sąraše (sąrašo ilgį), bei\n",
    "#žingsnį - kas kiek turi didėti skaičiai sąraše\n",
    "list_length = int(input(\"Įveskite sąrašo ilgį: \"))\n",
    "step = int(input(\"Įveskite žingsnį: \"))\n",
    "\n",
    "a = list(range( 0, list_length * step, step))\n",
    "\n",
    "print(\"Sukurtas sąrašas:\", a)\n",
    "for i in a:\n",
    "    if 0<= i <=15:\n",
    "        print(i) \n",
    "    else:\n",
    "        print(\"pateiktas sarasa yra ilgesnis\")\n",
    "        break\n",
    "        \n",
    "        "
   ]
  },
  {
   "cell_type": "code",
   "execution_count": 65,
   "metadata": {},
   "outputs": [
    {
     "name": "stdout",
     "output_type": "stream",
     "text": [
      "saraso zingsnis turi buti 1. Iveskite duomenis dar karta\n"
     ]
    }
   ],
   "source": [
    "#1.0.16 Parašyti kodą, kuris sugeneruotų sąrašą a, kuriame būtų skaičiai nuo 0 iki 15, kas 1-ną.\n",
    "#Patobulinti kodą taip, kad vartotojas įvestų, kiek elementų turi būti sąraše (sąrašo ilgį), bei\n",
    "#žingsnį - kas kiek turi didėti skaičiai sąraše\n",
    "\n",
    "# AR GALIMA PADARYTI TAIP, KAD BUTU SPAUSDINAMAS SARASAS\n",
    "list_length = int(input(\"Įveskite sąrašo ilgį: \"))\n",
    "step = int(input(\"Įveskite žingsnį: \"))\n",
    "A=int(step)\n",
    "B=int(list_length)\n",
    "if A>1:\n",
    "     print(\"saraso zingsnis turi buti 1. Iveskite duomenis dar karta\")\n",
    "elif B<15:\n",
    "    print(\"pateiktas sarasa per trumpas\")\n",
    "else:\n",
    "     a = list(range( 0, list_length * step, step))\n",
    "     print(\"Sukurtas sąrašas:\", a) #cia tik patikrinimsa sau, kas ivesta\n",
    "     for i in a:\n",
    "         if 0<= i <=15:\n",
    "             print(i) \n",
    "         else:\n",
    "             print(\"pateiktas sarasa yra ilgesnis.\")\n",
    "             break\n",
    "        "
   ]
  },
  {
   "cell_type": "code",
   "execution_count": 5,
   "metadata": {},
   "outputs": [
    {
     "name": "stdout",
     "output_type": "stream",
     "text": [
      "Sukurtas sąrašas: [0, 1, 2, 3, 4, 5, 6, 7, 8, 9, 10, 11, 12, 13, 14, 15, 16, 17, 18, 19, 20, 21, 22, 23]\n",
      "0\n",
      "1\n",
      "2\n",
      "3\n",
      "4\n",
      "5\n",
      "6\n",
      "7\n",
      "8\n",
      "9\n",
      "10\n",
      "11\n",
      "12\n",
      "13\n",
      "14\n",
      "15\n",
      "pateiktas sarasa yra ilgesnis.\n"
     ]
    }
   ],
   "source": [
    "#1.0.16 Parašyti kodą, kuris sugeneruotų sąrašą a, kuriame būtų skaičiai nuo 0 iki 15, kas 1-ną.\n",
    "#Patobulinti kodą taip, kad vartotojas įvestų, kiek elementų turi būti sąraše (sąrašo ilgį), bei\n",
    "#žingsnį - kas kiek turi didėti skaičiai sąraše\n",
    "list_length = int(input(\"Įveskite sąrašo ilgį: \"))\n",
    "step = int(input(\"Įveskite žingsnį: \"))\n",
    "A=int(step)\n",
    "B=int(list_length)\n",
    "if A>1 or B<=15:\n",
    "     print(\"saraso zingsnis turi buti 1 ar sarasas turi bui ilgesnis nei 15 \")\n",
    "else:\n",
    "     a = list(range( 0, list_length * step, step))\n",
    "     print(\"Sukurtas sąrašas:\", a) #cia tik patikrinimsa sau, kas ivesta\n",
    "     for i in a:\n",
    "         if 0<= i <=15:\n",
    "             print(i) \n",
    "         else:\n",
    "             print(\"pateiktas sarasa yra ilgesnis.\")\n",
    "             break"
   ]
  },
  {
   "cell_type": "code",
   "execution_count": 50,
   "metadata": {},
   "outputs": [
    {
     "name": "stdout",
     "output_type": "stream",
     "text": [
      "saraso ilgis 10 zingsnis 5\n",
      "Sukurtas sąrašas a= [0, 5, 10, 15, 20, 25, 30, 35, 40, 45]\n",
      "sarasas a sudarytas vartotojo (be nulio) [5, 10, 15, 20, 25, 30, 35, 40, 45]\n",
      " saraso a (be nulio) aritmetinis vidurkis 25.00\n"
     ]
    }
   ],
   "source": [
    "#1.0.17 Atsitiktinai sugeneruoti sąrašą (list) ir suskaičiuoti visų elementų vidurkį\n",
    "#Vartotojas įveda sąrašo ilgį nurodantį skaičių. Pvz, įvestas 10, vadinasi, sąraše turi būti 10\n",
    "#elementų.\n",
    "list_length = int(input(\"Įveskite sąrašo ilgį: \"))\n",
    "step = int(input(\"Įveskite žingsnį: \"))\n",
    "A=int(step)\n",
    "B=int(list_length)\n",
    "print(\"saraso ilgis\", B, \"zingsnis\", A)\n",
    "a = list(range( 0, list_length * step, step))\n",
    "print(\"Sukurtas sąrašas a=\", a)\n",
    "while 0 in a:\n",
    "        a.remove(0)\n",
    "        a_numbers_length=len(a)\n",
    "        a_aritmetinis_vidurkis=sum(a) / a_numbers_length\n",
    "        print(\"sarasas a sudarytas vartotojo (be nulio)\",a)\n",
    "        print( f' saraso a (be nulio) aritmetinis vidurkis {a_aritmetinis_vidurkis:.2f}') \n"
   ]
  },
  {
   "cell_type": "code",
   "execution_count": 55,
   "metadata": {},
   "outputs": [
    {
     "name": "stdout",
     "output_type": "stream",
     "text": [
      "Amžinas ciklas\n",
      "Amžinas ciklas\n",
      "Amžinas ciklas\n",
      "Amžinas ciklas\n"
     ]
    }
   ],
   "source": [
    "#1.0.18 Parašyti amžiną while ciklą, kuris būtų nutraukiamas vartotojui įvedus\n",
    "#skaičių 27\n",
    "while True:\n",
    "    print(\"Amžinas ciklas\")\n",
    "    q = int(input(\"Jei norite nutraukti ciklą, įveskite 27\"))\n",
    "    if q == 27:\n",
    "        break"
   ]
  },
  {
   "cell_type": "code",
   "execution_count": 75,
   "metadata": {},
   "outputs": [
    {
     "name": "stdout",
     "output_type": "stream",
     "text": [
      "Amžinas ciklas\n"
     ]
    }
   ],
   "source": [
    "#1.0.19 Parašyti “amžiną” while ciklą, kuris būtų nutraukiamas vartotojui įvedant\n",
    "#q simbolį.\n",
    "#Ciklą nutraukti nepriklausomai nuo to, ar buvo įvestas q ar Q simbolis\n",
    "while True:\n",
    "    print(\"Amžinas ciklas\")\n",
    "    a = input(\"Jei norite nutraukti ciklą, įveskite q \")\n",
    "    if a=='q' or a=='Q':\n",
    "        break\n",
    "   "
   ]
  },
  {
   "cell_type": "code",
   "execution_count": 93,
   "metadata": {},
   "outputs": [
    {
     "name": "stdout",
     "output_type": "stream",
     "text": [
      "Žodžiai, kurie yra ilgesni nei 4 simboliai ir turi 'a' simbolį:\n",
      "['labas', 'rytas', 'šiandien', 'graži', 'diena']\n"
     ]
    }
   ],
   "source": [
    "#1.0.20 Duotas sąrašas a = ['labas', 'rytas', 'šiandien', 'graži',\n",
    "#'diena', 'šuo', 'katė', 'pelė', 'ir']\n",
    "#Išveskite tik tuos žodžius, kurie yra ilgesni nei 4-ri simboliai ir savyje turi ’a’ simbolį.\n",
    "\n",
    "a = ['labas', 'rytas', 'šiandien', 'graži','diena', 'šuo', 'katė', 'pelė', 'ir']\n",
    "b=[]\n",
    "for i in a:\n",
    "    if len(i) > 4 and 'a' in i:\n",
    "        b.append(i)\n",
    "print(\"Žodžiai, kurie yra ilgesni nei 4 simboliai ir turi 'a' simbolį:\")\n",
    "print(b)  "
   ]
  },
  {
   "cell_type": "code",
   "execution_count": 162,
   "metadata": {},
   "outputs": [
    {
     "name": "stdout",
     "output_type": "stream",
     "text": [
      "ivesto zodzio ilgis 10 raides jame turi buti raide h\n",
      "Nei vienas sarase esantis zodis neatitinka pateiktu raikalavimu\n"
     ]
    }
   ],
   "source": [
    "#1.0.20 Duotas sąrašas a = ['labas', 'rytas', 'šiandien', 'graži',\n",
    "#'diena', 'šuo', 'katė', 'pelė', 'ir']\n",
    "#Išveskite tik tuos žodžius, kurie yra ilgesni nei 4-ri simboliai ir savyje turi ’a’ simbolį.\n",
    "#pakeiskite kodą taip, kad ir ilgį, ir ieškomą simbolį įvestų vartotojas su input() funkcija\n",
    "word_length=int(input(\"iveskite ieskomo zodzio ilgi\"))\n",
    "letter=input(\"Iveskite, kokia raide privalo buti zodyje\")\n",
    "a = ['labas', 'rytas', 'šiandien', 'graži','diena', 'šuo', 'katė', 'pelė', 'ir']\n",
    "b=[]\n",
    "print(\"ivesto zodzio ilgis\", word_length, \"raides\",\"jame turi buti raide\", letter)\n",
    "for i in a:\n",
    "    if len(i) == word_length and letter in i:\n",
    "        b.append(i)\n",
    "       # print(f' sarase yra  {word_length} raidziu zodziai', f'ir juose yra raide {letter}')\n",
    "if len(b)>0:\n",
    "    print(f' sarase yra  {word_length} raidziu zodziai', f'ir juose yra raide {letter}')\n",
    "    print(b)\n",
    "else:\n",
    "    print(\"Nei vienas sarase esantis zodis neatitinka pateiktu raikalavimu\")"
   ]
  },
  {
   "cell_type": "code",
   "execution_count": 72,
   "metadata": {},
   "outputs": [
    {
     "name": "stdout",
     "output_type": "stream",
     "text": [
      "Vilnius – Lietuvos sostinė ir didži%usi%s š%lies miest%s, Vilni%us %pskrities, r%jono\n",
      "ir miesto s%viv%ldybės centr%s. Įsikūręs š%lies pietryčiuose, Neries ir Vilnios s%nt%kos. Vilnius\n",
      "yr% %rkivyskupijos centr%s, nuo 1579 m. – universitetinis miest%s.\n"
     ]
    }
   ],
   "source": [
    "#1.0.21 Duotajame tekste pakeisti nurodytas raides/simbolius vartotojo įvestu\n",
    "#simboliu.\n",
    "#Tekstas - “Vilnius – Lietuvos sostinė ir didžiausias šalies miestas, Vilniaus apskrities, rajono\n",
    "#ir miesto savivaldybės centras. Įsikūręs šalies pietryčiuose, Neries ir Vilnios santakos. Vilnius\n",
    "#yra arkivyskupijos centras, nuo 1579 m. – universitetinis miestas.”\n",
    "#Vartotojas įveda du simbolius - kurio ieškoti, ir kuriuo pakeisti. T.y. jei įvedamas simbolis ’a’,\n",
    "#ir po to simbolis ’?’, tai duotajame tekste visi ’a’ simboliai turi būti pakeisti ’?’ simboliais.\n",
    "#Papildymas - vartotojas įveda skaičių, nurodantį, kas kelintas simbolis turi būti pakeistas nauju,\n",
    "#vartotojo įvestu simboliu. Pvz.: jei įvedamas skaičius 3 ir ’?’, tai kas 3-čias simbolis turi būti\n",
    "#pakeistas į ’?’. Pradinis ir naujasis tekstai išvedami į ekraną (terminalą).\n",
    "#Keista, nesuveikia? Klaidos sistemoje? Atspausdina simboli, kuris buvo pries tai.\n",
    "def replace_letter(txt, replace, symbol):\n",
    "    new_txt=[]\n",
    "    for char in txt:\n",
    "        if char==letter:\n",
    "            new_txt.append(symbol)\n",
    "        else:\n",
    "            new_txt.append(char)\n",
    "    return ''.join(new_txt)  \n",
    "txt=\"\"\"Vilnius – Lietuvos sostinė ir didžiausias šalies miestas, Vilniaus apskrities, rajono\n",
    "ir miesto savivaldybės centras. Įsikūręs šalies pietryčiuose, Neries ir Vilnios santakos. Vilnius\n",
    "yra arkivyskupijos centras, nuo 1579 m. – universitetinis miestas.\"\"\" \n",
    "\n",
    "naujas_tekstas = replace_letter(txt, letter, symbol)\n",
    "\n",
    "symbol=input(\"Ivesk simboli, kuriuo bus pakeista raide\")\n",
    "letter=input(\"ivesk raide, kuri bus pakeista simboliu\")\n",
    "print(naujas_tekstas)"
   ]
  },
  {
   "cell_type": "code",
   "execution_count": 43,
   "metadata": {},
   "outputs": [
    {
     "name": "stdout",
     "output_type": "stream",
     "text": [
      "Naujas tekstas:\n",
      " V@ln@us – L@etuvos sost@nė @r d@dž@aus@as šal@es m@estas, V@ln@aus apskr@t@es, rajono\n",
      "@r m@esto sav@valdybės centras. Įs@kūręs šal@es p@etryč@uose, Ner@es @r V@ln@os santakos. V@ln@us\n",
      "yra ark@vyskup@jos centras, nuo 1579 m. – un@vers@tet@n@s m@estas.\n"
     ]
    }
   ],
   "source": [
    "def replace_letter(txt, letter, symbol):\n",
    "    new_txt = []\n",
    "    for char in txt:\n",
    "        if char == letter:\n",
    "            new_txt.append(symbol)\n",
    "        else:\n",
    "            new_txt.append(char)\n",
    "    return ''.join(new_txt)\n",
    "\n",
    "# Pradinis tekstas\n",
    "txt = \"\"\"Vilnius – Lietuvos sostinė ir didžiausias šalies miestas, Vilniaus apskrities, rajono\n",
    "ir miesto savivaldybės centras. Įsikūręs šalies pietryčiuose, Neries ir Vilnios santakos. Vilnius\n",
    "yra arkivyskupijos centras, nuo 1579 m. – universitetinis miestas.\"\"\"\n",
    "\n",
    "# Vartotojo įvestis\n",
    "symbol = input(\"Įvesk simbolį, kuriuo bus pakeista raidė: \")\n",
    "letter = input(\"Įvesk raidę, kuri bus pakeista simboliu: \")\n",
    "\n",
    "# Pakeičiamas tekstas\n",
    "naujas_tekstas = replace_letter(txt, letter, symbol)\n",
    "\n",
    "# Pradinis ir naujasis tekstai išvedami į ekraną\n",
    "\n",
    "print(\"Naujas tekstas:\\n\", naujas_tekstas)"
   ]
  },
  {
   "cell_type": "code",
   "execution_count": 11,
   "metadata": {},
   "outputs": [
    {
     "name": "stdout",
     "output_type": "stream",
     "text": [
      "['Kaunas', 'antrasis', 'dydį', 'miestas', 'centrinėje', 'Nemuno', '#Neries', 'Svarbus', 'transporto,', 'ir', 'centras,', 'sostinė.', 'miesto', 'Kauno', 'savivaldybės,', 'centras.']\n"
     ]
    }
   ],
   "source": [
    "#1.0.22 Duotajame tekste panaikinti žodžius.\n",
    "#Tekstas - “Kaunas – antrasis pagal dydį Lietuvos miestas šalies centrinėje dalyje, Nemuno ir\n",
    "#Neries santakoje. Svarbus pramonės, transporto, mokslo ir kultūros centras, Laikinoji sostinė.\n",
    "#Kauno miesto savivaldybės, Kauno rajono savivaldybės, arkivyskupijos centras.”\n",
    "#Vartotojas įveda skaičių, rodantį, kas kelintą žodį reikia ištrinti.\n",
    "#Išveskite pradinį tekstą ir rezultatą į ekraną (terminalą)\n",
    "#ISVEDAMAS\n",
    "txt=\"\"\"Kaunas – antrasis pagal dydį Lietuvos miestas šalies centrinėje dalyje, Nemuno ir\n",
    "#Neries santakoje. Svarbus pramonės, transporto, mokslo ir kultūros centras, Laikinoji sostinė.\n",
    "#Kauno miesto savivaldybės, Kauno rajono savivaldybės, arkivyskupijos centras.\"\"\"\n",
    "a=int(input('iveskite skaiciu,nurodanti zodziu isbraukymo dazni'))\n",
    "new_txt=(txt.split()[0: :a])\n",
    "print(new_txt)"
   ]
  },
  {
   "cell_type": "code",
   "execution_count": 18,
   "metadata": {},
   "outputs": [
    {
     "name": "stdout",
     "output_type": "stream",
     "text": [
      "Kaunas antrasis dydį miestas centrinėje Nemuno Neries Svarbus transporto, ir centras, sostinė. miesto Kauno savivaldybės, centras.\n"
     ]
    }
   ],
   "source": [
    "#1.0.22 Duotajame tekste panaikinti žodžius.\n",
    "#Tekstas - “Kaunas – antrasis pagal dydį Lietuvos miestas šalies centrinėje dalyje, Nemuno ir\n",
    "#Neries santakoje. Svarbus pramonės, transporto, mokslo ir kultūros centras, Laikinoji sostinė.\n",
    "#Kauno miesto savivaldybės, Kauno rajono savivaldybės, arkivyskupijos centras.”\n",
    "#Vartotojas įveda skaičių, rodantį, kas kelintą žodį reikia ištrinti.\n",
    "#Išveskite pradinį tekstą ir rezultatą į ekraną (terminalą)\n",
    "txt=\"\"\"Kaunas – antrasis pagal dydį Lietuvos miestas šalies centrinėje dalyje, Nemuno ir\n",
    "Neries santakoje. Svarbus pramonės, transporto, mokslo ir kultūros centras, Laikinoji sostinė.\n",
    "Kauno miesto savivaldybės, Kauno rajono savivaldybės, arkivyskupijos centras.\"\"\"\n",
    "a=int(input('iveskite skaiciu,nurodanti zodziu isbraukymo dazni'))\n",
    "new_txt= ' '.join((txt.split()[0: :a]))\n",
    "print(new_txt)"
   ]
  },
  {
   "cell_type": "code",
   "execution_count": 60,
   "metadata": {},
   "outputs": [
    {
     "name": "stdout",
     "output_type": "stream",
     "text": [
      "Ivestas tekstas:\n",
      " Paskutine siu metu birzelio diena. Karsta. Temperatura aukstesne nei vidutine.\n",
      "Naujas tekstas:\n",
      " PAsKuTiNe sIu mEtU BiRzElIo dIeNa. KaRsTa. TeMpErAtUrA AuKsTeSnE NeI ViDuTiNe.\n"
     ]
    }
   ],
   "source": [
    "#1.0.23 a Nuskaityti vartotojo įvedamą tekstą.\n",
    "#Pakeisti kas antrą simbolį į didžiąsias raides (viršutinį registrą, upper registry).\n",
    "def replace_txt (txt):\n",
    "     new_txt = []\n",
    "     for i in range(len(txt)):\n",
    "        if i%2 == 1:\n",
    "            new_txt.append(txt[i].upper())\n",
    "        else:\n",
    "            new_txt.append(txt[i])\n",
    "     return ''.join(new_txt)\n",
    "\n",
    "txt=input('ivesk teksta')\n",
    "new_txt=replace_txt(txt)\n",
    "print(\"Ivestas tekstas:\\n\", txt)\n",
    "print(\"Naujas tekstas:\\n\", new_txt)"
   ]
  },
  {
   "cell_type": "code",
   "execution_count": 65,
   "metadata": {},
   "outputs": [
    {
     "name": "stdout",
     "output_type": "stream",
     "text": [
      "Ivestas tekstas:\n",
      " Paklausti vartotojo, kas kelintą simbolį keisti, ir atlikti pakeitimus kas nurodytąjį simbolį\n",
      "Naujas tekstas:\n",
      " PaKlaUstI vArtOtoJo, kaS kEliNtą siMboLį KeiSti, iR aTliKti paKeiTimUs Kas nuRodYtąJį SimBolĮ\n"
     ]
    }
   ],
   "source": [
    "#1.0.23 Nuskaityti vartotojo įvedamą tekstą.\n",
    "#Paklausti vartotojo, kas kelintą simbolį keisti, ir atlikti pakeitimus kas nurodytąjį simbolį (Pvz.:\n",
    "#vartotojas įveda 3 - keičiamas bus kas trečias simbolis į viršutinį registrą).\n",
    "def replace_txt (txt, interval):\n",
    "     new_txt = []\n",
    "     for i in range(len(txt)):\n",
    "        if (i+1)% interval == 0:\n",
    "            new_txt.append(txt[i].upper())\n",
    "        else:\n",
    "            new_txt.append(txt[i])\n",
    "     return ''.join(new_txt)\n",
    "interval=int(input(\"Ivesk, kas kelinta simboli keisti\"))\n",
    "txt=input('ivesk teksta')\n",
    "new_txt=replace_txt(txt,interval)\n",
    "print(\"Ivestas tekstas:\\n\", txt)\n",
    "print(\"Naujas tekstas:\\n\", new_txt)"
   ]
  },
  {
   "cell_type": "code",
   "execution_count": 75,
   "metadata": {},
   "outputs": [
    {
     "name": "stdout",
     "output_type": "stream",
     "text": [
      "Ivestas zodis:\n",
      " Klaipeda\n",
      "pakeistas zodis:\n",
      " alaipedK\n"
     ]
    }
   ],
   "source": [
    "#1.0.24 Nuskaityti vartotojo įvestą zodi.\n",
    "#Apsukti įvestą zodi (reverse). Jei įvestas zodis - ’Labas’, rezultatas turi būti ’sabaL’.\n",
    "def reverse_txt (txt):\n",
    "     new_txt = []\n",
    "     txt = input(\"Ivesk zodi\")\n",
    "     print(\"Ivestas zodis:\\n\", txt)\n",
    "     return txt[-1]+txt[1:-1]+txt[0]\n",
    "print(\"pakeistas zodis:\\n\", reverse_txt(txt))"
   ]
  },
  {
   "cell_type": "code",
   "execution_count": 117,
   "metadata": {},
   "outputs": [
    {
     "name": "stdout",
     "output_type": "stream",
     "text": [
      "1323\n",
      "1361\n",
      "Žvaigždė Planeta\n",
      "Planetoi\n",
      "milž\n"
     ]
    }
   ],
   "source": [
    "#1.0.25 Duotas sudėtinis sąrašas\n",
    "#cl=[{'Vilnius':1323,'Kaunas':1361},{'Saulė':'Žvaigždė','Žemė':'Planeta',\n",
    "# 'Cerera':'Planetoidas'},[{'Betelgeizė':['Raudonoji','milžinė']},\n",
    "#{'Panda':'Kung Fu'}]]\n",
    "#Parašyti komandą, kuri išspausdintų:\n",
    "#a) Vilniaus paminėjimo metus (1323)\n",
    "#b) Kauno paminėjimo metus\n",
    "#c) Saulės, Žemės tipą (planeta/žvaigždė)\n",
    "#d) Pirmus 8-nis žodžio ’Planetoidas’ simbolius\n",
    "#e) Pirmus 4-ris žodžio ’milžinė’ simbolius\n",
    "l=[{'Vilnius':1323,'Kaunas':1361},{'Saulė':'Žvaigždė','Žemė':'Planeta','Cerera':'Planetoidas'},[{'Betelgeizė':['Raudonoji','milžinė']},\n",
    "{'Panda':'Kung Fu'}]]\n",
    "print(l[0]['Vilnius'])#a)\n",
    "print(l[0]['Kaunas']) #b\n",
    "print(l[1]['Saulė'], l[1]['Žemė'])#c\n",
    "print(l[1]['Cerera'][0:8])#d\n",
    "print(l[2][0]['Betelgeizė'][1][:4])#e\n"
   ]
  },
  {
   "cell_type": "code",
   "execution_count": 125,
   "metadata": {},
   "outputs": [
    {
     "name": "stdout",
     "output_type": "stream",
     "text": [
      "WV 25000\n",
      "Audi 25000\n",
      "Ford 25000\n",
      "Toyota 25000\n",
      "Nissan 25000\n"
     ]
    }
   ],
   "source": [
    "#1.0.26. cl = [{'Modelis':'WV', 'rida':25000},{'Modelis':'Audi', 'rida':36000},{'Modelis':'Ford',\n",
    "#'rida':42000},{'Modelis':'Toyota', 'rida':31000},{'Modelis':'Nissan', 'rida':75000}]\n",
    "#Parašykite komandą, kuri išvestų automobilių ridas (vienam automobiliui vienas print()sakinys).\n",
    "#Parašykite ciklą, išvedantį automobilių ridas.\n",
    "\n",
    "auto=[{'Modelis':'WV', 'rida':25000},\n",
    "     {'Modelis':'Audi', 'rida':36000},\n",
    "     {'Modelis':'Ford', 'rida':42000},\n",
    "     {'Modelis':'Toyota', 'rida':31000},\n",
    "     {'Modelis':'Nissan', 'rida':75000}]\n",
    "print(auto[0]['Modelis'], auto[0]['rida'])\n",
    "print(auto[1]['Modelis'], auto[0]['rida'])\n",
    "print(auto[2]['Modelis'], auto[0]['rida'])\n",
    "print(auto[3]['Modelis'], auto[0]['rida'])\n",
    "print(auto[4]['Modelis'], auto[0]['rida'])"
   ]
  },
  {
   "cell_type": "code",
   "execution_count": 3,
   "metadata": {},
   "outputs": [
    {
     "name": "stdout",
     "output_type": "stream",
     "text": [
      "WV mažiausiai nuvažiavęs. jo rida bus, 25000\n",
      "Toyota daugiausiai nuvažiavęs. Jo rida bus 75000\n",
      "Nissan daugiausiai nuvažiavęs. Jo rida bus 75000\n"
     ]
    }
   ],
   "source": [
    " #1.0.26 Duotas sąrašas su žodynais.\n",
    "cl = [{'Modelis':'WV', 'rida':25000},\n",
    "      {'Modelis':'Audi', 'rida':36000},\n",
    "      {'Modelis':'Ford','rida':42000},\n",
    "      {'Modelis':'Toyota', 'rida':75000},\n",
    "      {'Modelis':'Nissan', 'rida':75000}]\n",
    "#DESTYTOJO SPRENDIMAS\n",
    "# Parašykite kodą, surandantį daugiausiai ir mažiausiai nuvažiavusius automobilius.\n",
    "r = []\n",
    "for m in cl:\n",
    "    r.append(m['rida'])\n",
    "\n",
    "mn = min(r) # min, max\n",
    "mx = max(r)\n",
    " #?\n",
    "for m in cl:\n",
    "    if m['rida'] == mn:\n",
    "        print(m['Modelis'],'mažiausiai nuvažiavęs. jo rida bus,', m['rida'])\n",
    "    if m['rida'] == mx:\n",
    "        print(m['Modelis'], 'daugiausiai nuvažiavęs. Jo rida bus', m['rida'])"
   ]
  },
  {
   "cell_type": "code",
   "execution_count": 178,
   "metadata": {},
   "outputs": [
    {
     "name": "stdout",
     "output_type": "stream",
     "text": [
      "10000\n"
     ]
    }
   ],
   "source": [
    "#1.0.27 Parašyti funkciją, kuri pakeltų skaičių nurodytu laipsniu.\n",
    "#Numatytoji laipsnio vertė - 2. T. y. jei nenurodomas laipsnis, funkcija grąžina atsakymą -\n",
    "#skaičių pakeltą kvadratu.\n",
    "def kelimas_laipsniu(skaicius,laipsnis=2):\n",
    "   return skaicius**laipsnis\n",
    "ats=kelimas_laipsniu(100)\n",
    "print(ats)\n"
   ]
  },
  {
   "cell_type": "code",
   "execution_count": 2,
   "metadata": {},
   "outputs": [
    {
     "data": {
      "text/plain": [
       "'sugnad sardyZ'"
      ]
     },
     "execution_count": 2,
     "metadata": {},
     "output_type": "execute_result"
    }
   ],
   "source": [
    "def text(x):\n",
    "    a = ''\n",
    "    for i in x:\n",
    "        a = i + a\n",
    "    return a\n",
    "text('Zydras dangus')\n",
    "#apvers teksta, paasys atvirksciai"
   ]
  },
  {
   "cell_type": "code",
   "execution_count": 188,
   "metadata": {},
   "outputs": [
    {
     "name": "stdout",
     "output_type": "stream",
     "text": [
      "10.00\n"
     ]
    }
   ],
   "source": [
    "#1.0.28 Parašyti funkciją, kuri trauktų nurodyto laipsnio šaknį iš skaičiaus.\n",
    "#Numatytasis šaknies laipsnis - 2. T. y. jei nenurodytas šaknies laipsnis, funkcija ištraukia\n",
    "#kvadratinę šaknį iš pateikto skaičiaus ir grąžina atsakymą.\n",
    "def saknies_traukimas(skaicius,saknis=(2)):\n",
    "    return skaicius**(1/saknis)\n",
    "ats=saknies_traukimas(100000,5)\n",
    "print (f'{ats:.2f}')\n"
   ]
  },
  {
   "cell_type": "code",
   "execution_count": 211,
   "metadata": {},
   "outputs": [
    {
     "name": "stdout",
     "output_type": "stream",
     "text": [
      "pateiktame tekste \"Jau saulelė atkopdama budino svietą ir žiemos triūsą pargriaudama juokės\"yra:\n",
      " 10 zodziu\n"
     ]
    }
   ],
   "source": [
    "#1.0.29 Parašyti funkciją, kuri suskaičiuotų, kiek pateiktame tekste yra žodžių, ir grąžintų atsakymą.\n",
    "#Tekstas:\n",
    "#txt=\"Jau saulelė atkopdama budino svietą ir žiemos triūsą pargriaudama9 juokės\"\n",
    "txt=\"Jau saulelė atkopdama budino svietą ir žiemos triūsą pargriaudama juokės\"\n",
    "def txt_words_count (txt):\n",
    "    words = txt.split()\n",
    "    count = len(words)\n",
    "    return count\n",
    "result = txt_words_count(txt)\n",
    "print(f'pateiktame tekste \"{txt}\"yra:\\n', result, 'zodziu')"
   ]
  },
  {
   "cell_type": "code",
   "execution_count": 3,
   "metadata": {},
   "outputs": [
    {
     "ename": "ValueError",
     "evalue": "could not convert string to float: ''",
     "output_type": "error",
     "traceback": [
      "\u001b[1;31m---------------------------------------------------------------------------\u001b[0m",
      "\u001b[1;31mValueError\u001b[0m                                Traceback (most recent call last)",
      "Cell \u001b[1;32mIn[3], line 7\u001b[0m\n\u001b[0;32m      5\u001b[0m t\u001b[38;5;241m=\u001b[39m\u001b[38;5;28minput\u001b[39m(\u001b[38;5;124m\"\u001b[39m\u001b[38;5;124mIvesk temperatura Celsijaus (C) arba F (Farenheito) laipsniais. Laipsnius butina nurodyti\u001b[39m\u001b[38;5;124m\"\u001b[39m)\n\u001b[0;32m      6\u001b[0m t_correct \u001b[38;5;241m=\u001b[39m t\u001b[38;5;241m.\u001b[39mreplace(\u001b[38;5;124m'\u001b[39m\u001b[38;5;124m \u001b[39m\u001b[38;5;124m'\u001b[39m, \u001b[38;5;124m'\u001b[39m\u001b[38;5;124m'\u001b[39m)\n\u001b[1;32m----> 7\u001b[0m t_value\u001b[38;5;241m=\u001b[39m\u001b[38;5;28;43mfloat\u001b[39;49m\u001b[43m(\u001b[49m\u001b[43mt\u001b[49m\u001b[43m[\u001b[49m\u001b[43m:\u001b[49m\u001b[38;5;241;43m-\u001b[39;49m\u001b[38;5;241;43m1\u001b[39;49m\u001b[43m]\u001b[49m\u001b[43m)\u001b[49m\n\u001b[0;32m      8\u001b[0m \u001b[38;5;28;01mif\u001b[39;00m t_correct[\u001b[38;5;241m-\u001b[39m\u001b[38;5;241m1\u001b[39m]\u001b[38;5;241m.\u001b[39mupper()\u001b[38;5;241m==\u001b[39m \u001b[38;5;124m'\u001b[39m\u001b[38;5;124mC\u001b[39m\u001b[38;5;124m'\u001b[39m:\n\u001b[0;32m      9\u001b[0m     t_convert_F\u001b[38;5;241m=\u001b[39m(\u001b[38;5;241m9\u001b[39m\u001b[38;5;241m/\u001b[39m\u001b[38;5;241m5\u001b[39m\u001b[38;5;241m*\u001b[39m\u001b[38;5;28mfloat\u001b[39m(t_value)\u001b[38;5;241m+\u001b[39m\u001b[38;5;241m32\u001b[39m)\n",
      "\u001b[1;31mValueError\u001b[0m: could not convert string to float: ''"
     ]
    }
   ],
   "source": [
    "#1.0.30 Parašyti paprastą konverterį, kaip funkciją, tarp skirtingų temperatūros\n",
    "#skalių.Vartotojas įveda temperatūrą tokiu formatu ’xxC’, ’yyF’, tarp temperatūros dimensijos\n",
    "# ir skaičių gali būti tarpas. Programa atpažįsta, ar įvesta Celsijaus laipsniai, ar Farenheito, ir pagal\n",
    "#tai atlieka konvertavimą į °F arba į °C.\n",
    "t=input(\"Ivesk temperatura Celsijaus (C) arba F (Farenheito) laipsniais. Laipsnius butina nurodyti\")\n",
    "t_correct = t.replace(' ', '')\n",
    "t_value=float(t[:-1])\n",
    "if t_correct[-1].upper()== 'C':\n",
    "    t_convert_F=(9/5*float(t_value)+32)\n",
    "    print('Ivesta T Celsijaus laipsniais=', t_value, '.',f'F laipsniais tai yra {t_convert_F:.2f} F')\n",
    "elif t_correct[-1].upper()== 'F':\n",
    "        t_convert_C=(5/9*float(t_value)-32)\n",
    "        print('Ivesta T Farenheito laipsniais=', t_value, '.',f'C laipsniais tai yra {t_convert_C:.2f} C')\n",
    "else:\n",
    "        print('Neinkamai ivesti duomenys. Nenurodyta kokiais laipsniais C ar F pateikta temperatura')\n",
    "    \n",
    "        "
   ]
  },
  {
   "cell_type": "code",
   "execution_count": 9,
   "metadata": {},
   "outputs": [
    {
     "name": "stdout",
     "output_type": "stream",
     "text": [
      "0.00+10.00j\n"
     ]
    }
   ],
   "source": [
    "#Parašykite funkciją, kuri galėtų ištraukti nurodyto laipsnio\n",
    "# šaknį iš nurodyto skaičiaus. Su assert užtikrinkite, jog jei\n",
    "# nurodoma lyginio laipsnio šaknis, tai skaičius (iš kurio\n",
    "#traukiama šaknis) turi būti teigiamas, kitu atveju rodykite\n",
    "# AssertionError klaidą.\n",
    "def saknies_traukimas(number,degree):\n",
    "    assert degree % 2 == 1 or number > 0\n",
    "    return round(abs(number**(1/degree)),2)*abs(x)/x# pagal ideja isveda sk. dvieju sk po kableliu tikslumu\n",
    "\n",
    "number=int(input('ivesk skaiciu'))\n",
    "saknis=int(input('ivesk saknies diduma'))\n",
    "ats= number**(1/saknis)\n",
    "print (f'{ats:.2f}')"
   ]
  },
  {
   "cell_type": "code",
   "execution_count": 1,
   "metadata": {},
   "outputs": [
    {
     "name": "stdout",
     "output_type": "stream",
     "text": [
      "4.1\n",
      "-0.2\n"
     ]
    }
   ],
   "source": [
    "#Parašykite funkciją, kuri galėtų ištraukti nurodyto laipsnio\n",
    "# šaknį iš nurodyto skaičiaus. Su assert užtikrinkite, jog jei\n",
    "# nurodoma lyginio laipsnio šaknis, tai skaičius (iš kurio\n",
    "#traukiama šaknis) turi būti teigiamas, kitu atveju rodykite\n",
    "# AssertionError klaidą.\n",
    "def saknies_traukimas(x,n):\n",
    "    assert x>0 or n% 2 ==1\n",
    "    return round(abs(x**(1/n)),2)*abs(x)/x # turi isvesti dvieju skaiciu po kableliu tikslumu\n",
    "\n",
    "print(saknies_traukimas(69,3))\n",
    "print(saknies_traukimas(-125,-3))\n",
    "#print(saknies_traukimas(-125,2))"
   ]
  },
  {
   "cell_type": "code",
   "execution_count": null,
   "metadata": {},
   "outputs": [],
   "source": [
    "#1.0.31 Parašyti tekstinį skaičiuotuvą\n",
    "#Programa veikia nenutrūkstamai, nebent įvedamas\n",
    "#Q simbolis užbaigimui. Vartotojas įveda skaičius ir pasirenka matematinį veiksmą, programa išv\n",
    " while True:\n",
    "        numbers = input('Iveskite du skaicius atskirtus tarpu (arba Q, kad užbaigtumėte): ')\n",
    "        if numbers.upper() == 'Q':\n",
    "            print('Programa baigta.')\n",
    "            break\n",
    "        number=input(int('Iveskite skaicius'))\n",
    "        number2=input(int('Ivesk kita skaiciu'))\n",
    "        veiksmas=input('Iveskite matematinio veiksmo simboli '+', '-', '/', '*', ir .t.t')\n",
    "\n",
    "if veiksmas ==\"+\":\n",
    "       sum=number+number2          "
   ]
  }
 ],
 "metadata": {
  "kernelspec": {
   "display_name": "Python 3",
   "language": "python",
   "name": "python3"
  },
  "language_info": {
   "codemirror_mode": {
    "name": "ipython",
    "version": 3
   },
   "file_extension": ".py",
   "mimetype": "text/x-python",
   "name": "python",
   "nbconvert_exporter": "python",
   "pygments_lexer": "ipython3",
   "version": "3.12.4"
  }
 },
 "nbformat": 4,
 "nbformat_minor": 2
}
