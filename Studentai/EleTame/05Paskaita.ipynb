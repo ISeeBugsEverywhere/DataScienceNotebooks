{
 "cells": [
  {
   "cell_type": "code",
   "execution_count": 6,
   "metadata": {},
   "outputs": [
    {
     "name": "stdout",
     "output_type": "stream",
     "text": [
      "Automobilis su didžiausia rida: Nissan, rida: 75000\n"
     ]
    }
   ],
   "source": [
    "#Parašyti programą, kuri isrenka, kurio automobilio rida yra didžiaisia\n",
    "cl =[{'Modelis':'WV', 'rida':25000},\n",
    "     {'Modelis':'Audi', 'rida':36000},\n",
    "     {'Modelis':'Ford', 'rida':42000},\n",
    "     {'Modelis':'Toyota', 'rida':31000},\n",
    "     {'Modelis':'Nissan', 'rida':75000}]\n",
    "max_rida = max(cl, key=lambda x: x['rida'])\n",
    "print(f\"Automobilis su didžiausia rida: {max_rida['Modelis']}, rida: {max_rida['rida']}\")\n"
   ]
  },
  {
   "cell_type": "code",
   "execution_count": 10,
   "metadata": {},
   "outputs": [
    {
     "name": "stdout",
     "output_type": "stream",
     "text": [
      "Automobilis su didžiausia rida yra Nissan, jo rida= 75000 km\n"
     ]
    }
   ],
   "source": [
    "#Parašyti programą, kuri isrenka, kurio automobilio rida yra didžiaisia\n",
    "cl=[{'Modelis':'WV', 'rida':25000},\n",
    "     {'Modelis':'Audi', 'rida':36000},\n",
    "     {'Modelis':'Ford', 'rida':42000},\n",
    "     {'Modelis':'Toyota', 'rida':31000},\n",
    "     {'Modelis':'Nissan', 'rida':75000}]\n",
    "max_rida = 0\n",
    "max_rida_auto = None\n",
    "for auto in cl:\n",
    "    if auto['rida'] > max_rida:\n",
    "        max_rida = auto['rida']\n",
    "        max_rida_auto = auto\n",
    "print(f\"Automobilis su didžiausia rida yra {max_rida_auto['Modelis']}, jo rida= {max_rida_auto['rida']}\",'km')\n"
   ]
  },
  {
   "cell_type": "code",
   "execution_count": 17,
   "metadata": {},
   "outputs": [
    {
     "name": "stdout",
     "output_type": "stream",
     "text": [
      "Automobilis su maziausia rida yra WV, jo rida= 25000 km\n"
     ]
    }
   ],
   "source": [
    "#Parašyti programą, kuri isrenka, kurio automobilio rida yra maziausia\n",
    "cl=[{'Modelis':'WV', 'rida':25000},\n",
    "     {'Modelis':'Audi', 'rida':36000},\n",
    "     {'Modelis':'Ford', 'rida':42000},\n",
    "     {'Modelis':'Toyota', 'rida':31000},\n",
    "     {'Modelis':'Nissan', 'rida':75000}]\n",
    "\n",
    "min_rida = min(cl, key=lambda x: x['rida'])\n",
    "print(f\"Automobilis su maziausia rida yra {min_rida['Modelis']}, jo rida= {min_rida['rida']}\",'km')\n"
   ]
  }
 ],
 "metadata": {
  "kernelspec": {
   "display_name": "Python 3",
   "language": "python",
   "name": "python3"
  },
  "language_info": {
   "codemirror_mode": {
    "name": "ipython",
    "version": 3
   },
   "file_extension": ".py",
   "mimetype": "text/x-python",
   "name": "python",
   "nbconvert_exporter": "python",
   "pygments_lexer": "ipython3",
   "version": "3.12.4"
  }
 },
 "nbformat": 4,
 "nbformat_minor": 2
}
