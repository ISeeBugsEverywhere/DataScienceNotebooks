{
 "cells": [
  {
   "cell_type": "code",
   "execution_count": 8,
   "metadata": {},
   "outputs": [
    {
     "name": "stdout",
     "output_type": "stream",
     "text": [
      "Amzinas ciklas\n",
      " jei norite nutraukti cikla, 5veskite Q \n",
      "Ciklas nutrauktas.\n"
     ]
    }
   ],
   "source": [
    "#Parašyti amžiną while ciklą, kuris būtų nutraukiamas, jei\n",
    "#vartotojas įveda Q simbolį. Simbolio registras neturi turėti\n",
    "#reikšmės.\n",
    "quit=False\n",
    "while not quit:\n",
    "    print(\"Amzinas ciklas\")\n",
    "    print (\" jei norite nutraukti cikla, 5veskite Q \")\n",
    "    s=input(\"Q\")\n",
    "    if s.lower() == 'q':\n",
    "        print(\"Ciklas nutrauktas.\")\n",
    "        break"
   ]
  },
  {
   "cell_type": "code",
   "execution_count": 85,
   "metadata": {},
   "outputs": [
    {
     "name": "stdout",
     "output_type": "stream",
     "text": [
      "A=0 B=0 m yra /\n",
      "float division by zero Dalyba iš nulio negalima\n",
      "sveikinu, suveike\n"
     ]
    }
   ],
   "source": [
    "A = input('ivesk skaiciu A: ')\n",
    "B = input('ivesk kitas skaiciu B: ')\n",
    "m = input('ivest matematinio veiksmo zenkla: ')\n",
    "print(f'A={A}', f'B={B}', f'm yra {m}')\n",
    "\n",
    "try:\n",
    "    A = float(A)\n",
    "    B = float(B)\n",
    "    if m == '+':\n",
    "        print('A+B=', A + B)\n",
    "    elif m == '-':\n",
    "        print('A-B=', A - B)\n",
    "    elif m == '*':\n",
    "        print('A*B=',A * B)\n",
    "    elif m == '/':\n",
    "        try:\n",
    "            print('A/B=', A / B, 'B/A=', B/A)\n",
    "        except ZeroDivisionError as ex:\n",
    "            print(ex, 'Dalyba iš nulio negalima')\n",
    "    else:\n",
    "        print('Neatpažintas matematinis veiksmas')\n",
    "except ValueError as ex:\n",
    "    print(ex, 'Įvesti neteisingi duomenys')\n",
    "finally:\n",
    "    print('sveikinu, suveike')\n",
    "             "
   ]
  },
  {
   "cell_type": "code",
   "execution_count": 29,
   "metadata": {},
   "outputs": [
    {
     "name": "stdout",
     "output_type": "stream",
     "text": [
      "PVM kiekis: 21.00 EUR\n"
     ]
    }
   ],
   "source": [
    "def pvm_skaiciavimas(kaina_be_pvm, tarifas):\n",
    "    try:\n",
    "        # Paverčiame tarifą procentais, jei jis pateiktas kaip sveikasis skaičius\n",
    "        tarifas = tarifas / 100 if tarifas > 1 else tarifas\n",
    "        pvm_kiekis = kaina_be_pvm * tarifas\n",
    "        return pvm_kiekis\n",
    "    except TypeError:\n",
    "        return \"Įvesties duomenys turi būti skaičiai.\"\n",
    "pvm_kiekis = pvm_skaiciavimas(kaina_be_pvm, tarifas)\n",
    "print(f\"PVM kiekis: {pvm_kiekis:.2f} EUR\")"
   ]
  },
  {
   "cell_type": "code",
   "execution_count": 33,
   "metadata": {},
   "outputs": [
    {
     "name": "stdout",
     "output_type": "stream",
     "text": [
      "1000000\n"
     ]
    }
   ],
   "source": [
    "#Numatytoji laipsnio vertė - 2. T. y. jei nenurodomas laipsnis, funkcija grąžina atsakymą -\n",
    "#skaičių pakeltą kvadratu.\n",
    "def kelimas_laipsniu(skaicius,laipsnis=2):\n",
    "   return skaicius**laipsnis\n",
    "ats=kelimas_laipsniu(100,3)\n",
    "print(ats)"
   ]
  },
  {
   "cell_type": "code",
   "execution_count": 36,
   "metadata": {},
   "outputs": [
    {
     "name": "stdout",
     "output_type": "stream",
     "text": [
      "2.0\n"
     ]
    }
   ],
   "source": [
    "#Numatytasis šaknies laipsnis - 2. T. y. jei nenurodytas šaknies laipsnis, funkcija ištraukia\n",
    "#kvadratinę šaknį iš pateikto skaičiaus ir grąžina atsakymą.\n",
    "def saknies_traukimas(skaicius,laipsnis=2):\n",
    "   return skaicius**(1/laipsnis)\n",
    "ats=saknies_traukimas(100)\n",
    "print(ats)"
   ]
  },
  {
   "cell_type": "code",
   "execution_count": 50,
   "metadata": {},
   "outputs": [
    {
     "name": "stdout",
     "output_type": "stream",
     "text": [
      "Naujas sąrašas: [1, 9]\n"
     ]
    }
   ],
   "source": [
    "def pirmas_paskutinis (sarasas):\n",
    "    naujas_sarasas = [sarasas[0], sarasas[-1]]\n",
    "    return naujas_sarasas\n",
    "\n",
    "sarasas = [1, 2, 3, 4, 5, 6, 7, 8, 9]\n",
    "ats= pirmas_paskutinis(sarasas)\n",
    "print(f\"Naujas sąrašas: {ats}\")\n"
   ]
  },
  {
   "cell_type": "code",
   "execution_count": 51,
   "metadata": {},
   "outputs": [
    {
     "name": "stdout",
     "output_type": "stream",
     "text": [
      "Originalus tekstas: Rytas\n",
      "Tekstas su apkeistom pirma ir paskutine raidėmis: sytaR\n"
     ]
    }
   ],
   "source": [
    "#Parašyti funkciją, kuri priima tekstą ir grąžina atgal tekstą su\n",
    "#apkeistom pirma ir paskutine raidėmis. PVZ: Rytas sytaR.\n",
    "def apkeisti_pirma_ir_paskutine_raide(tekstas):\n",
    "        naujas_tekstas = tekstas[-1] + tekstas[1:-1] + tekstas[0]\n",
    "        return naujas_tekstas\n",
    "tekstas = \"Rytas\"\n",
    "rezultatas = apkeisti_pirma_ir_paskutine_raide(tekstas)\n",
    "\n",
    "print(f\"Originalus tekstas: {tekstas}\")\n",
    "print(f\"Tekstas su apkeistom pirma ir paskutine raidėmis: {rezultatas}\")"
   ]
  },
  {
   "cell_type": "code",
   "execution_count": 7,
   "metadata": {},
   "outputs": [
    {
     "name": "stdout",
     "output_type": "stream",
     "text": [
      "28\n",
      "Greitis: 190 km/h - Rezultatas: 28 baudos taškai. Vairuotojo teisės atimamos.\n"
     ]
    }
   ],
   "source": [
    "#Parašyti funkciją greičiui tikrinti: \n",
    "# Funkcija paima argumentą - automobilio greitį. \n",
    "# Jei greitis 50 ar mažesnis, funkcija grąžina ”Ok”, \n",
    "# jei greitis didesnis nei 50 - už kiekvieną 5km/h greičio viršijimą duodamas baudos taškas \n",
    "# (pvz: greitis 70, atsakymas - 4) Jei surenkami 8 taškai ir daugiau - funkcija ne tik grąžina taškų sumą, \n",
    "# bet ir priduria, jog vairuotojo teisės atimamos.\n",
    "def greicio_virsijimas(greitis):\n",
    "    if greitis<=50:\n",
    "        print(\"Dekui uz saugu vairavima\")\n",
    "    else:\n",
    "     if greitis>50:\n",
    "         baudos_taskai = (greitis - 50) // 5\n",
    "         print(baudos_taskai)\n",
    "         if baudos_taskai >= 8:\n",
    "             return f\"{baudos_taskai} baudos taškai. Vairuotojo teisės atimamos.\"\n",
    "         else:\n",
    "            return f\"{baudos_taskai} baudos taškai.\"\n",
    "\n",
    "greitis = 190\n",
    "rezultatas = greicio_virsijimas(greitis)\n",
    "print(f\"Greitis: {greitis} km/h - Rezultatas: {rezultatas}\")"
   ]
  }
 ],
 "metadata": {
  "kernelspec": {
   "display_name": "Python 3",
   "language": "python",
   "name": "python3"
  },
  "language_info": {
   "codemirror_mode": {
    "name": "ipython",
    "version": 3
   },
   "file_extension": ".py",
   "mimetype": "text/x-python",
   "name": "python",
   "nbconvert_exporter": "python",
   "pygments_lexer": "ipython3",
   "version": "3.12.4"
  }
 },
 "nbformat": 4,
 "nbformat_minor": 2
}
