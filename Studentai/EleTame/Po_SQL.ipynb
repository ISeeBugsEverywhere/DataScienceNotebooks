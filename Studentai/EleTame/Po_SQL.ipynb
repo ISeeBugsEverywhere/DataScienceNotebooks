{
 "cells": [
  {
   "cell_type": "code",
   "execution_count": 1,
   "metadata": {},
   "outputs": [],
   "source": [
    "%reload_ext autoreload\n",
    "%autoreload 2"
   ]
  },
  {
   "cell_type": "code",
   "execution_count": 3,
   "metadata": {},
   "outputs": [
    {
     "name": "stdout",
     "output_type": "stream",
     "text": [
      "Requirement already satisfied: mysql-connector-python==8.0.29 in c:\\users\\eleta\\appdata\\local\\programs\\python\\python312\\lib\\site-packages (8.0.29)\n",
      "Requirement already satisfied: protobuf>=3.0.0 in c:\\users\\eleta\\appdata\\local\\programs\\python\\python312\\lib\\site-packages (from mysql-connector-python==8.0.29) (5.27.3)\n",
      "Note: you may need to restart the kernel to use updated packages.\n"
     ]
    },
    {
     "name": "stderr",
     "output_type": "stream",
     "text": [
      "\n",
      "[notice] A new release of pip is available: 24.0 -> 24.2\n",
      "[notice] To update, run: python.exe -m pip install --upgrade pip\n"
     ]
    }
   ],
   "source": [
    "pip install mysql-connector-python==8.0.29"
   ]
  },
  {
   "cell_type": "code",
   "execution_count": 4,
   "metadata": {},
   "outputs": [],
   "source": [
    "import numpy as np\n",
    "import matplotlib.pyplot as plt\n",
    "import mysql.connector as cnt\n",
    "\n",
    "# nuosavų funkcijų importavimas:\n",
    "from Mano_Funkcijos import *"
   ]
  },
  {
   "cell_type": "code",
   "execution_count": 5,
   "metadata": {},
   "outputs": [],
   "source": [
    "DB = cnt.connect(\n",
    "    host='88.223.121.130',\n",
    "    port=3306,\n",
    "    user='user',\n",
    "    password = 'slaptazodis',\n",
    "    database = 'works'\n",
    ")\n",
    "C = DB.cursor()"
   ]
  },
  {
   "cell_type": "code",
   "execution_count": 6,
   "metadata": {},
   "outputs": [],
   "source": [
    "#sql užklausos vykdymas per mysql/mariadb kursorių\n",
    "sql=\"\"\" select count(*) as Kiekis, count(*)/(select count(*) from sa)*100 as `Rinkos dalis`,\n",
    "case \n",
    "when device_brand in (select * from(select brand from\n",
    "(select count(*) as kiekis, device_brand as brand  from sa where device_brand<>'' group by device_brand) as D\n",
    "order by kiekis desc limit 5)as f) then device_brand\n",
    "else 'Other'\n",
    "end as Brand from sa\n",
    "group by Brand\n",
    "order by kiekis desc;\"\"\"\n",
    "C.execute(sql)\n",
    "ans = C.fetchall()\n",
    "gamintojai, kiekis, dalis = list(map(list, zip(*ans)))\n",
    "#? = np.transpose(ans)"
   ]
  },
  {
   "cell_type": "code",
   "execution_count": 7,
   "metadata": {},
   "outputs": [
    {
     "name": "stdout",
     "output_type": "stream",
     "text": [
      "Rodoma 5 eilutės iš 6\n",
      "|      36290       |     30.4927      |     Samsung      |\n",
      "|      35186       |     29.5651      |      Nokia       |\n",
      "|      31091       |     26.1243      |      Other       |\n",
      "|       7161       |      6.0170      |    BlackBerry    |\n",
      "|       5194       |      4.3643      |        LG        |\n"
     ]
    }
   ],
   "source": [
    "pout (ans)"
   ]
  },
  {
   "cell_type": "code",
   "execution_count": 10,
   "metadata": {},
   "outputs": [
    {
     "name": "stdout",
     "output_type": "stream",
     "text": [
      "[36290, 35186, 31091, 7161, 5194, 4090]\n"
     ]
    }
   ],
   "source": [
    "print (gamintojai)"
   ]
  }
 ],
 "metadata": {
  "kernelspec": {
   "display_name": "Python 3",
   "language": "python",
   "name": "python3"
  },
  "language_info": {
   "codemirror_mode": {
    "name": "ipython",
    "version": 3
   },
   "file_extension": ".py",
   "mimetype": "text/x-python",
   "name": "python",
   "nbconvert_exporter": "python",
   "pygments_lexer": "ipython3",
   "version": "3.12.4"
  }
 },
 "nbformat": 4,
 "nbformat_minor": 2
}
