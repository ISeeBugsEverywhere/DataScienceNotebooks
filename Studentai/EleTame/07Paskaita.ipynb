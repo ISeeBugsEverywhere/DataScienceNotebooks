{
 "cells": [
  {
   "cell_type": "code",
   "execution_count": 2,
   "metadata": {},
   "outputs": [
    {
     "name": "stdout",
     "output_type": "stream",
     "text": [
      "x= [0, 1, 2, 3, 4, 5, 6, 7, 8, 9]\n",
      "x*6= [0, 6, 12, 18, 24, 30, 36, 42, 48, 54]\n"
     ]
    }
   ],
   "source": [
    "x = [*range(10)]\n",
    "# 1. sukurkite naują sąrašą, kuriame x elemntai būtų\n",
    "# pakdauginti iš jūsų įvesto skaičiaus\n",
    "d=[i*6 for i in x ]\n",
    "print(\"x=\",x)\n",
    "print(\"x*6=\",d)"
   ]
  },
  {
   "cell_type": "code",
   "execution_count": 5,
   "metadata": {},
   "outputs": [
    {
     "name": "stdout",
     "output_type": "stream",
     "text": [
      "c= ('19 500', '2 700', '13 490', '14 650', '38 000', '1 200', '8 000', '11 990', '16 190', '16 490')\n",
      "naujas= [19500.0, 2700.0, 13490.0, 14650.0, 38000.0, 1200.0, 8000.0, 11990.0, 16190.0, 16490.0]\n"
     ]
    }
   ],
   "source": [
    "c=('19 500', '2 700', '13 490', '14 650', '38 000', '1 200', '8 000', '11 990', '16 190', '16 490')\n",
    "#2.sukurkite sąrašą, kuriame būtų duoti tekstai paversti į skaičius (float) tipo.\n",
    "c_skaiciai = [float(value.replace(' ', '')) for value in c]\n",
    "print('c=',c)\n",
    "print('naujas=',c_skaiciai)"
   ]
  },
  {
   "cell_type": "code",
   "execution_count": 6,
   "metadata": {},
   "outputs": [
    {
     "name": "stdout",
     "output_type": "stream",
     "text": [
      "['BMW', 'MIT', 'SEA', 'SKO', 'VOL', 'AUD', 'DAC', 'SKO', 'BMW', 'VOL']\n"
     ]
    }
   ],
   "source": [
    "auto=('BMW', 'Mitsubishi', 'Seat', 'Skoda', 'Volvo', 'Audi', 'Dacia', 'Skoda', 'BMW', 'Volkswagen')\n",
    "#3.sukurkite sąrašą, kur būtų pirmi 3 simboliai gamintojų, didžiosiomis raidėmis\n",
    "d=[name[:3].upper() for name in auto]\n",
    "print(d)"
   ]
  },
  {
   "cell_type": "code",
   "execution_count": 9,
   "metadata": {},
   "outputs": [
    {
     "name": "stdout",
     "output_type": "stream",
     "text": [
      "Tūriai: [4999, 2378, 1598, 1798, 1969, 1760, 1461, 1600, 2000, 1600]\n",
      "AG: [507, 160, 95, 179, 235, 88, 107, 116, 163, 120]\n",
      "kW: [373, 118, 70, 132, 173, 65, 79, 85, 120, 88]\n"
     ]
    }
   ],
   "source": [
    "auto2=('4999 cm³, 507 AG (373kW)', '2378 cm³, 160 AG (118kW)', '1598 cm³, 95 AG (70kW)', '1798 cm³, 179 AG (132kW)', '1969 cm³, 235 AG (173kW)', '1760 cm³, 88 AG (65kW)', '1461 cm³, 107 AG (79kW)', '1600 cm³, 116 AG (85kW)', '2000 cm³, 163 AG (120kW)', '1600 cm³, 120 AG (88kW)')\n",
    "#4. Atskirkite į tris sąrašus tūrį, AG ir kW.\n",
    "V_turiai=[]\n",
    "AG_jegos = []\n",
    "P_galia = []\n",
    "for i in auto2:\n",
    "    parts = i.split(', ')\n",
    "    V = parts[0].split(' ')[0]\n",
    "    ag = parts[1].split(' ')[0]\n",
    "    kw = parts[1].split('(')[1].split('kW')[0]\n",
    "    \n",
    "    V_turiai.append(int(V))\n",
    "    AG_jegos.append(int(ag))\n",
    "    P_galia.append(int(kw))\n",
    "\n",
    "print(\"Tūriai:\", V_turiai)\n",
    "print(\"AG:\", AG_jegos)\n",
    "print(\"kW:\", P_galia)"
   ]
  },
  {
   "cell_type": "code",
   "execution_count": 13,
   "metadata": {},
   "outputs": [
    {
     "name": "stdout",
     "output_type": "stream",
     "text": [
      "Tūriai: ['1600', '1600', '1600', '1600', '1600', '1600', '1600', '1600', '1600', '1600']\n",
      "AG: ['120', '120', '120', '120', '120', '120', '120', '120', '120', '120']\n",
      "kW: ['88', '88', '88', '88', '88', '88', '88', '88', '88', '88']\n"
     ]
    }
   ],
   "source": [
    "auto2=('4999 cm³, 507 AG (373kW)', '2378 cm³, 160 AG (118kW)', '1598 cm³, 95 AG (70kW)', '1798 cm³, 179 AG (132kW)', '1969 cm³, 235 AG (173kW)', '1760 cm³, 88 AG (65kW)', '1461 cm³, 107 AG (79kW)', '1600 cm³, 116 AG (85kW)', '2000 cm³, 163 AG (120kW)', '1600 cm³, 120 AG (88kW)')\n",
    "#4. Atskirkite į tris sąrašus tūrį, AG ir kW.\n",
    "V=[parts[0].split(' ')[0] for i in auto2]\n",
    "AG=[parts[1].split(' ') [0] for i in auto2]\n",
    "P=[parts[1].split('(')[1].split('kW')[0] for i in auto2]\n",
    "\n",
    "print(\"Tūriai:\", V)\n",
    "print(\"AG:\", AG)\n",
    "print(\"kW:\", P)\n"
   ]
  },
  {
   "cell_type": "code",
   "execution_count": 14,
   "metadata": {},
   "outputs": [
    {
     "name": "stdout",
     "output_type": "stream",
     "text": [
      "5.5\n"
     ]
    }
   ],
   "source": [
    "#5)parašykite funkciją, kuri grąžintų vidurkį, jei jūs jai nurodote skaičių sąrašą \n",
    "# (list) arba eilutę (tuple)\n",
    "l=[1,2,3,4,5,6,7,8,9,10]\n",
    "def f(number):\n",
    "    return (sum(number))/len(number)\n",
    "print(f(l))\n"
   ]
  },
  {
   "cell_type": "code",
   "execution_count": 24,
   "metadata": {},
   "outputs": [
    {
     "name": "stdout",
     "output_type": "stream",
     "text": [
      "[6, 2, 1, 6, 8, 7, 9, 5, 10, 13, 7, 0, 8, 5, 5, 7, 1, 7, 10, 7, 9, 9, 7, 5, 5, 9, 7, 10, 6, 8, 5, 12, 7, 7, 4, 1, 8, 10, 10, 8, 9, 8, 8, 4, 5, 4, 2, 7]\n"
     ]
    }
   ],
   "source": [
    "#6\n",
    "t = '''Liepos 19 d. UNESCO pasaulio paveldu tapusiame Kauno modernizmo \n",
    "architektūros objekte – Lietuvos banko Kauno rūmuose į muzikos meditaciją \n",
    "pakvies vokalinis ansamblis „Duodeco“. Pirmą kartą Pažaislio muzikos \n",
    "festivalis rengia koncertą šioje nepaprastoje erdvėje, kurioje 2019 m. \n",
    "suburtas kolektyvas festivalio publikai pristatys muzikinę programą \n",
    "„More Sweet Than My Refrain“.'''\n",
    "# SUkurkite sąrašą, kuriame būtų šio teksto žodžių ilgiai.\n",
    "txt = t.split()\n",
    "\n",
    "word_length = [len(word.strip('.,–„“')) for word in txt]\n",
    "\n",
    "print(word_length)"
   ]
  },
  {
   "cell_type": "code",
   "execution_count": 10,
   "metadata": {},
   "outputs": [
    {
     "name": "stdout",
     "output_type": "stream",
     "text": [
      "suma= [3, 4, 5, 6, 7]\n",
      "skirtumas= [-1, 0, 1, 2, 3]\n",
      "sandauga= [2, 4, 6, 8, 10]\n",
      "dalyba= [0.5, 1.0, 1.5, 2.0, 2.5]\n"
     ]
    }
   ],
   "source": [
    "#9)parašykite funkcjas suma(), skirtumas(), sandauga(), dalyba(),\n",
    "# kurioms jūs galėtumėte nurodyti skaičių sąrašą x, ir vieną sakičių d, \n",
    "# ir tos funkcijos grąžintų naują sąrašą, su skaičiais iš x sąrašo su atitinkmai \n",
    "# atliktu veiksmu - pridėtu d, atimtu d, padaugintu iš d.\n",
    "#def suma(x, d): veiksmai, kad gautumėte naują sąrašą kur x+d return naujas sąrašas\n",
    "x=[1,2,3,4,5]\n",
    "d=int(input(\"Ivesk skaiciu\"))\n",
    "def sum(x,d):\n",
    "    return [i + d for i in x]\n",
    "def skirtumas(x, d):\n",
    "    return [i - d for i in x]\n",
    "def sandauga(x, d):\n",
    "    return [i * d for i in x]\n",
    "def dalyba(x, d):\n",
    "    return [ \"Dalyba iš nulio negalima\" if d == 0 else i / d for i in x]\n",
    "print ('suma=',sum(x,d))\n",
    "print('skirtumas=',skirtumas(x,d))\n",
    "print('sandauga=', sandauga(x,d))\n",
    "print('dalyba=', dalyba(x,d))"
   ]
  },
  {
   "cell_type": "code",
   "execution_count": 35,
   "metadata": {},
   "outputs": [
    {
     "name": "stdout",
     "output_type": "stream",
     "text": [
      "Siandien liepos 3 d. Temperatura nukrito iki 20 C. Po 33 C - salta. \n"
     ]
    }
   ],
   "source": [
    "failo_vardas=\"07Medziaga.txt\"\n",
    "failas =open(failo_vardas,mode='r', encoding='utf-8')#atidaro fila, kuri nuskaitys ir atkoduos \n",
    "turinys=failas.read()# nuskaito teksta\n",
    "failas.close()#uzdaro\n",
    "print(turinys)"
   ]
  },
  {
   "cell_type": "code",
   "execution_count": 36,
   "metadata": {},
   "outputs": [
    {
     "name": "stdout",
     "output_type": "stream",
     "text": [
      "['Siandien liepos 3 d. Temperatura nukrito iki 20 C. Po 33 C - salta. ']\n"
     ]
    }
   ],
   "source": [
    "failo_vardas=\"07Medziaga.txt\"\n",
    "failas =open(failo_vardas,mode='r', encoding='utf-8')\n",
    "turinys=failas.readlines()# padarys teksto eilute\n",
    "failas.close()\n",
    "print(turinys)"
   ]
  },
  {
   "cell_type": "code",
   "execution_count": 38,
   "metadata": {},
   "outputs": [
    {
     "name": "stdout",
     "output_type": "stream",
     "text": [
      "3.0\n",
      "7.0\n",
      "11.0\n",
      "15.0\n",
      "['1,2\\n', '3,4\\n', '5,6\\n', '7,8']\n"
     ]
    }
   ],
   "source": [
    "#uzduotie sudeti skaicius, kurie yra pateikti stulpeliuose txt byloje\n",
    "failo_vardas=\"07Medziaga.txt\"\n",
    "failas =open(failo_vardas,mode='r', encoding='utf-8')\n",
    "turinys=failas.readlines()# padarys teksto eilute\n",
    "for eil in turinys:\n",
    "    x,y=eil.split(',')\n",
    "    c=float(x)+float(y)\n",
    "    print(c)\n",
    "failas.close()\n",
    "print(turinys)"
   ]
  },
  {
   "cell_type": "code",
   "execution_count": 2,
   "metadata": {},
   "outputs": [
    {
     "name": "stdout",
     "output_type": "stream",
     "text": [
      "Vidurkis x stulpelio = 4.14\n",
      "\"Vidurkis y stulpelio= 5.35\n"
     ]
    }
   ],
   "source": [
    "#suraskite vidurkį skaičių, esančių stulpeliuose pateiktuose faile Pamoka.txt\n",
    "failo_vardas=\"07Medziaga.txt\"\n",
    "failas =open(failo_vardas,mode='r', encoding='utf-8')\n",
    "turinys=failas.readlines()\n",
    "sum_x = 0\n",
    "sum_y = 0\n",
    "number = 0\n",
    "\n",
    "for eil in turinys:\n",
    "    x, y = eil.split(',')\n",
    "    sum_x = sum_x+float(x)\n",
    "    sum_y = sum_y+float(y)\n",
    "    number= number +1\n",
    "\n",
    "failas.close()\n",
    "\n",
    "vidurkis_x = sum_x / number\n",
    "vidurkis_y = sum_y / number\n",
    "\n",
    "print(f'Vidurkis x stulpelio = {vidurkis_x:.2f}')\n",
    "print(f'Vidurkis y stulpelio= {vidurkis_y:.2f}')"
   ]
  },
  {
   "cell_type": "code",
   "execution_count": 40,
   "metadata": {},
   "outputs": [],
   "source": [
    "#uzduotis irasyti faila\n",
    "failo_vardas=\"07Medziaga.txt\"\n",
    "failas =open(failo_vardas,mode='w', encoding='utf-8')\n",
    "failas.write(\"labas\\n\")# rasys teksta eiluteje\n",
    "failas.write(\"labas\\n\")\n",
    "failas.write(\"labas\\n\")\n",
    "failas.write(\"Viso\")\n",
    "failas.close()"
   ]
  },
  {
   "cell_type": "code",
   "execution_count": 20,
   "metadata": {},
   "outputs": [
    {
     "name": "stdout",
     "output_type": "stream",
     "text": [
      "Auto         Rida         Kaina      Tūris      AG              KWh        Kuras     \n",
      "================================================================================\n",
      "| BMW        | 253 000 km | 19 500   | 4999 cm³ | 507 AG   | 373kW    | Benzinas   |\n",
      "| Mitsubishi | 195 405 km | 2 700    | 2378 cm³ | 160 AG   | 118kW    | Benzinas   |\n",
      "| Seat       | 129 800 km | 13 490   | 1598 cm³ | 95 AG    | 70kW     | Dyzelinas  |\n",
      "| Skoda      | 183 000 km | 14 650   | 1798 cm³ | 179 AG   | 132kW    | Benzinas   |\n",
      "| Volvo      | 127 896 km | 38 000   | 1969 cm³ | 235 AG   | 173kW    | Dyzelinas  |\n"
     ]
    }
   ],
   "source": [
    "#8)\n",
    "#duomenys:[('BMW', '253 000 km', '19 500', '4999 cm³, 507 AG (373kW)', 'Benzinas'), ('Mitsubishi', '195 405 km', '2 700', '2378 cm³, 160 AG (118kW)', 'Benzinas'), ('Seat', '129 800 km', '13 490', '1598 cm³, 95 AG (70kW)', 'Dyzelinas'), ('Skoda', '183 000 km', '14 650', '1798 cm³, 179 AG (132kW)', 'Benzinas'), ('Volvo', '127 896 km', '38 000', '1969 cm³, 235 AG (173kW)', 'Dyzelinas')]\n",
    "#parašyti funkciją, kuri juos spausdintų  lenteleje Auto, rida, sk, turis, AG, KW,benzinas\n",
    "duomenys = [\n",
    "    ('BMW', '253 000 km', '19 500', '4999 cm³', '507 AG (373kW)', 'Benzinas'),\n",
    "    ('Mitsubishi', '195 405 km', '2 700', '2378 cm³', '160 AG (118kW)', 'Benzinas'),\n",
    "    ('Seat', '129 800 km', '13 490', '1598 cm³', '95 AG (70kW)', 'Dyzelinas'),\n",
    "    ('Skoda', '183 000 km', '14 650', '1798 cm³', '179 AG (132kW)', 'Benzinas'),\n",
    "    ('Volvo', '127 896 km', '38 000', '1969 cm³', '235 AG (173kW)', 'Dyzelinas')\n",
    "]\n",
    "\n",
    "# Funkcija spausdinanti lentelę\n",
    "def spausdinti_lentele(duomenys):\n",
    "    # Lentelės antraštės\n",
    "    print(f\"{'Auto':<12} {'Rida':<12} {'Kaina':<10} {'Tūris':<10} {'AG':<15} {'KWh':<10} {'Kuras':<10}\")\n",
    "    print(\"=\"*80)\n",
    "    \n",
    "    # Spausdina kiekvieną įrašą\n",
    "    for auto in duomenys:\n",
    "        auto_pavadinimas, rida, kaina, turis, ag_kwh, kuras = auto\n",
    "        ag, kwh = ag_kwh.split(' (')\n",
    "        kwh = kwh.rstrip(')')\n",
    "    #ag_kwh.split(' (') padalija reikšmę į dvi dalis, o rstrip(')') pašalina uždarantį skliaustą iš antrosios dalies,\n",
    "        print(f\"| {auto_pavadinimas:<10} | {rida:<10} | {kaina:<8} | {turis:<8} | {ag:<8} | {kwh:<8} | {kuras:<10} |\")\n",
    "\n",
    "# Iškviečiame funkciją\n",
    "spausdinti_lentele(duomenys)"
   ]
  },
  {
   "cell_type": "code",
   "execution_count": 31,
   "metadata": {},
   "outputs": [
    {
     "name": "stdout",
     "output_type": "stream",
     "text": [
      "|    Auto    |    Rida    |  Kaina   |  Tūris   |    AG    |   KWh    |   Kuras    |\n",
      "====================================================================================\n",
      "| BMW        | 253 000 km | 19 500   | 4999 cm³ | 507 AG   | 373kW    | Benzinas   |\n",
      "| Mitsubishi | 195 405 km | 2 700    | 2378 cm³ | 160 AG   | 118kW    | Benzinas   |\n",
      "| Seat       | 129 800 km | 13 490   | 1598 cm³ | 95 AG    | 70kW     | Dyzelinas  |\n",
      "| Skoda      | 183 000 km | 14 650   | 1798 cm³ | 179 AG   | 132kW    | Benzinas   |\n",
      "| Volvo      | 127 896 km | 38 000   | 1969 cm³ | 235 AG   | 173kW    | Dyzelinas  |\n"
     ]
    }
   ],
   "source": [
    "#8)\n",
    "#duomenys:[('BMW', '253 000 km', '19 500', '4999 cm³, 507 AG (373kW)', 'Benzinas'), ('Mitsubishi', '195 405 km', '2 700', '2378 cm³, 160 AG (118kW)', 'Benzinas'), ('Seat', '129 800 km', '13 490', '1598 cm³, 95 AG (70kW)', 'Dyzelinas'), ('Skoda', '183 000 km', '14 650', '1798 cm³, 179 AG (132kW)', 'Benzinas'), ('Volvo', '127 896 km', '38 000', '1969 cm³, 235 AG (173kW)', 'Dyzelinas')]\n",
    "#parašyti funkciją, kuri juos spausdintų  lenteleje Auto, rida, sk, turis, AG, KW,benzinas\n",
    "duomenys = [\n",
    "    ('BMW', '253 000 km', '19 500', '4999 cm³', '507 AG (373kW)', 'Benzinas'),\n",
    "    ('Mitsubishi', '195 405 km', '2 700', '2378 cm³', '160 AG (118kW)', 'Benzinas'),\n",
    "    ('Seat', '129 800 km', '13 490', '1598 cm³', '95 AG (70kW)', 'Dyzelinas'),\n",
    "    ('Skoda', '183 000 km', '14 650', '1798 cm³', '179 AG (132kW)', 'Benzinas'),\n",
    "    ('Volvo', '127 896 km', '38 000', '1969 cm³', '235 AG (173kW)', 'Dyzelinas')\n",
    "]\n",
    "\n",
    "# Funkcija spausdinanti lentelę\n",
    "def spausdinti_lentele(duomenys):\n",
    "    # Lentelės antraštės\n",
    "    print(f\"| {'Auto':^10} | {'Rida':^10} | {'Kaina':^8} | {'Tūris':^8} | {'AG':^8} | {'KWh':^8} | {'Kuras':^10} |\")\n",
    "    print(\"=\"*84)\n",
    "    \n",
    "    # Spausdina kiekvieną įrašą\n",
    "    for auto in duomenys:\n",
    "        auto_pavadinimas, rida, kaina, turis, ag_kwh, kuras = auto\n",
    "        ag, kwh = ag_kwh.split(' (')\n",
    "        kwh = kwh.rstrip(')')\n",
    "    #ag_kwh.split(' (') padalija reikšmę į dvi dalis, o rstrip(')') pašalina uždarantį skliaustą iš antrosios dalies,\n",
    "        print(f\"| {auto_pavadinimas:<10} | {rida:<10} | {kaina:<8} | {turis:<8} | {ag:<8} | {kwh:<8} | {kuras:<10} |\")\n",
    "\n",
    "# Iškviečiame funkciją\n",
    "spausdinti_lentele(duomenys)"
   ]
  },
  {
   "cell_type": "code",
   "execution_count": 6,
   "metadata": {},
   "outputs": [
    {
     "name": "stdout",
     "output_type": "stream",
     "text": [
      "|    Auto    |  Rida, km  | Kaina, Eur | Tūris,cm³ | Galia, AG | Energija,KWh |   Kuras    |\n",
      "____________________________________________________________________________________________\n",
      "|    BMW     |  253 000   |   19 500   |   4999    |   507     |     373      |  Benzinas  |\n",
      "| Mitsubishi |  195 405   |   2 700    |   2378    |   160     |     118      |  Benzinas  |\n",
      "|    Seat    |  129 800   |   13 490   |   1598    |    95     |      70      | Dyzelinas  |\n",
      "|   Skoda    |  183 000   |   14 650   |   1798    |   179     |     132      |  Benzinas  |\n",
      "|   Volvo    |  127 896   |   38 000   |   1969    |   235     |     173      | Dyzelinas  |\n"
     ]
    }
   ],
   "source": [
    "#8)\n",
    "#duomenys:[('BMW', '253 000 km', '19 500', '4999 cm³, 507 AG (373kW)', 'Benzinas'), ('Mitsubishi', '195 405 km', '2 700', '2378 cm³, 160 AG (118kW)', 'Benzinas'), ('Seat', '129 800 km', '13 490', '1598 cm³, 95 AG (70kW)', 'Dyzelinas'), ('Skoda', '183 000 km', '14 650', '1798 cm³, 179 AG (132kW)', 'Benzinas'), ('Volvo', '127 896 km', '38 000', '1969 cm³, 235 AG (173kW)', 'Dyzelinas')]\n",
    "#parašyti funkciją, kuri juos spausdintų  lenteleje Auto, rida, sk, turis, AG, KW,benzinas\n",
    "#keiciau centruote ir tarpus lenteleje., siek tiekpavidal1. Lentele galima issikviesti su \n",
    "# \"from tabulate import tabulate\" - cia neinstaliuota.\n",
    "duomenys = [\n",
    "    ('BMW', '253 000 km', '19 500', '4999 cm³', '507 AG (373kW)', 'Benzinas'),\n",
    "    ('Mitsubishi', '195 405 km', '2 700', '2378 cm³', '160 AG (118kW)', 'Benzinas'),\n",
    "    ('Seat', '129 800 km', '13 490', '1598 cm³', '95 AG (70kW)', 'Dyzelinas'),\n",
    "    ('Skoda', '183 000 km', '14 650', '1798 cm³', '179 AG (132kW)', 'Benzinas'),\n",
    "    ('Volvo', '127 896 km', '38 000', '1969 cm³', '235 AG (173kW)', 'Dyzelinas')\n",
    "]\n",
    "\n",
    "# Funkcija spausdinanti lentelę\n",
    "def spausdinti_lentele(duomenys):\n",
    "    # Lentelės antraštės\n",
    "    print(f\"| {'Auto':^10} | {'Rida, km':^10} | {'Kaina, Eur':^8} | {'Tūris,cm³':^8} | {'Galia, AG':^8} | {'Energija,KWh':^8} | {'Kuras':^10} |\")\n",
    "    print(\"_\"*92)\n",
    "    \n",
    "    # Spausdina kiekvieną įrašą\n",
    "    for auto in duomenys:\n",
    "        auto_pavadinimas, rida, kaina, turis, ag_kwh, kuras = auto\n",
    "        rida = rida.replace(' km', '')\n",
    "        ag, kwh = ag_kwh.split(' (')\n",
    "        turis = turis.replace(' cm³', '')\n",
    "        kwh = kwh.rstrip(')').replace('kW', '')\n",
    "        ag=ag.replace('AG','')\n",
    "        \n",
    "    #ag_kwh.split(' (') padalija reikšmę į dvi dalis, o rstrip(')') pašalina uždarantį skliaustą iš antrosios dalies,\n",
    "        print(f\"| {auto_pavadinimas:^10} | {rida:^10} | {kaina:^10} | {turis:^9} | {ag:^9} | {kwh:^12} | {kuras:^10} |\")\n",
    "\n",
    "# Iškviečiame funkciją\n",
    "spausdinti_lentele(duomenys)"
   ]
  },
  {
   "cell_type": "code",
   "execution_count": 30,
   "metadata": {},
   "outputs": [
    {
     "name": "stdout",
     "output_type": "stream",
     "text": [
      "['Rytas', 'Rytas', 'Rytas', 'Rytas', 'Naktis', 'Rytas', 'Rytas', 'Naktis', 'Naktis', 'Rytas', 'Naktis', 'Rytas', 'Rytas', 'Rytas', 'Rytas', 'Rytas', 'Rytas', 'Rytas', 'Rytas', 'Rytas', 'Rytas', 'Rytas', 'Naktis', 'Naktis', 'Rytas', 'Rytas', 'Rytas', 'Naktis', 'Rytas', 'Rytas', 'Rytas', 'Naktis', 'Naktis', 'Naktis', 'Rytas', 'Naktis', 'Rytas', 'Rytas', 'Rytas', 'Rytas', 'Rytas', 'Rytas', 'Rytas', 'Rytas', 'Naktis', 'Rytas', 'Naktis', 'Rytas', 'Rytas', 'Rytas', 'Naktis', 'Naktis', 'Naktis', 'Rytas', 'Rytas', 'Naktis', 'Rytas', 'Naktis', 'Rytas', 'Naktis', 'Rytas', 'Rytas', 'Rytas', 'Rytas', 'Naktis', 'Rytas', 'Rytas', 'Naktis', 'Naktis', 'Rytas', 'Naktis', 'Naktis']\n"
     ]
    }
   ],
   "source": [
    "#7\n",
    "fx = [23, 15, 19, 12, 4, 16, 17, 5, 2, 20, 3, 17, 22, 18, 11, 14, 21, 21, 11, 22, 16, 13, 4, 10, 21, 21, 11, 10, 21, 14, 19, 3, 7, 2, 22, 1, 17, 14, 23, 17, 15, 15, 19, 21, 10, 19, 4, 11, 22, 21, 4, 7, 5, 21, 12, 10, 15, 2, 21, 7, 19, 21, 15, 15, 5, 20, 14, 9, 5, 11, 4, 5]\n",
    "#Parašykite kodą, kuris sugeneruotų sąrašą, su žodžiais \n",
    "# 'Rytas', jei skaičius fx sąraše yra tarp 6 ir 10, diena, \n",
    "# jei tarp 10 ir 18, vakaras jei tarp 18 ir 22, ir naktis kitais atvejais.\n",
    "d=['Rytas' if 6<i>10 else 'Diena' if 10>=i>18 else 'Vakaras' if 18>=i>22 else 'Naktis' for i in fx ]\n",
    "print(d)"
   ]
  }
 ],
 "metadata": {
  "kernelspec": {
   "display_name": "Python 3",
   "language": "python",
   "name": "python3"
  },
  "language_info": {
   "codemirror_mode": {
    "name": "ipython",
    "version": 3
   },
   "file_extension": ".py",
   "mimetype": "text/x-python",
   "name": "python",
   "nbconvert_exporter": "python",
   "pygments_lexer": "ipython3",
   "version": "3.12.4"
  }
 },
 "nbformat": 4,
 "nbformat_minor": 2
}
