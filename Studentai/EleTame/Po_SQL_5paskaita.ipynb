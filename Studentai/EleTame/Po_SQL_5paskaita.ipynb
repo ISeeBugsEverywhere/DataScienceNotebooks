{
 "cells": [
  {
   "cell_type": "code",
   "execution_count": 1,
   "metadata": {},
   "outputs": [],
   "source": [
    "import pandas as pd\n",
    "import numpy as np\n",
    "import matplotlib.pyplot as plt\n",
    "import mysql.connector as cnt"
   ]
  },
  {
   "cell_type": "code",
   "execution_count": 3,
   "metadata": {},
   "outputs": [
    {
     "name": "stdout",
     "output_type": "stream",
     "text": [
      "  issilavinimas lytis  vidutinis darbo uzmokestis  mediana\n",
      "0            G1     M                     1762.30  1485.66\n",
      "1            G1     F                     1406.67  1256.50\n",
      "2            G2     M                     2129.49  1884.00\n",
      "3            G2     F                     1571.05  1395.00\n",
      "4            G3     M                     2900.46  2500.00\n",
      "5            G3     F                     2190.46  1974.00\n",
      "6            G4     M                     4158.56  3400.00\n",
      "7            G4     F                     3039.67  2691.84\n"
     ]
    }
   ],
   "source": [
    "#Išssilavinimo pakopos yraG1,G2,G3 ir G4. Parašykite ciklą, kuris išspausdintų pakopos kodą ir spalio atlyginų medianą bei vidurkį,\n",
    "#atskirai vyrams, atskirai moterims.\n",
    "import pandas as pd\n",
    "\n",
    "# Nuskaitome failą\n",
    "df = pd.read_csv('../../DATA/DUS2014.csv')\n",
    "\n",
    "# Ivedu išsilavinimo lygmenis\n",
    "edu = ['G1', 'G2', 'G3', 'G4']\n",
    "\n",
    "# Sukurti tuščią sąrašą rezultatams saugoti\n",
    "results = []\n",
    "\n",
    "# Iteruoti per kiekvieną išsilavinimo lygmenį ir lytį\n",
    "for e in edu:\n",
    "    for lytis in ['M', 'F']:\n",
    "        # Filtruoti pagal išsilavinimą ir lytį\n",
    "        df_filtered = df[(df['issilavinimas'] == e) & (df['lytis'] == lytis)]\n",
    "        \n",
    "        # Apskaičiuoti medianą ir vidurkį\n",
    "        median_salary = round(df_filtered['bdu_spalio'].median(),2)\n",
    "        mean_salary = round(df_filtered['bdu_spalio'].mean(),2)\n",
    "        \n",
    "        # Pridėti rezultatus į sąrašą\n",
    "        results.append({'issilavinimas': e, 'lytis': lytis, 'vidutinis darbo uzmokestis': mean_salary, 'mediana': median_salary})\n",
    "\n",
    "# Konvertuoti rezultatus į DataFrame\n",
    "ATS = pd.DataFrame(results)\n",
    "\n",
    "# Išvesti rezultatus\n",
    "print(ATS)"
   ]
  },
  {
   "cell_type": "code",
   "execution_count": 9,
   "metadata": {},
   "outputs": [
    {
     "name": "stdout",
     "output_type": "stream",
     "text": [
      "  issilavinimas lytis  vid. darbo uzmokestis  mediana\n",
      "1            G1     F                1406.67  1256.50\n",
      "3            G2     F                1571.05  1395.00\n",
      "5            G3     F                2190.46  1974.00\n",
      "7            G4     F                3039.67  2691.84\n",
      "0            G1     M                1762.30  1485.66\n",
      "2            G2     M                2129.49  1884.00\n",
      "4            G3     M                2900.46  2500.00\n",
      "6            G4     M                4158.56  3400.00\n"
     ]
    }
   ],
   "source": [
    "#Išssilavinimo pakopos yraG1,G2,G3 ir G4. Parašykite ciklą, kuris išspausdintų pakopos kodą ir spalio atlyginų medianą bei vidurkį,\n",
    "#atskirai vyrams, atskirai moterims. SIUO ATVEJU REZULTATUS SURUSIUOJU PAGAL LYTI IR ISSILAVINIMA\n",
    "import pandas as pd\n",
    "\n",
    "# Nuskaitome failą\n",
    "df = pd.read_csv('../../DATA/DUS2014.csv')\n",
    "\n",
    "# Įvedame išsilavinimo lygmenis\n",
    "edu = ['G1', 'G2', 'G3', 'G4']\n",
    "\n",
    "# Sukurti tuščią sąrašą rezultatams saugoti\n",
    "results = []\n",
    "\n",
    "# Iteruoti per kiekvieną išsilavinimo lygmenį ir lytį\n",
    "for e in edu:\n",
    "    for lytis in ['M', 'F']:\n",
    "        # Filtruoti pagal išsilavinimą ir lytį\n",
    "        df_filtered = df[(df['lytis'] == lytis) & (df['issilavinimas'] == e)]\n",
    "        \n",
    "        # Apskaičiuoti medianą ir vidurkį\n",
    "        median_salary = round(df_filtered['bdu_spalio'].median(), 2)\n",
    "        mean_salary = round(df_filtered['bdu_spalio'].mean(), 2)\n",
    "        \n",
    "        # Pridėti rezultatus į sąrašą\n",
    "        # Pridėti rezultatus į sąrašą\n",
    "        results.append({'issilavinimas': e, 'lytis': lytis, 'vid. darbo uzmokestis': mean_salary, 'mediana': median_salary})\n",
    "\n",
    "# Konvertuoti rezultatus į DataFrame\n",
    "ATS = pd.DataFrame(results)\n",
    "# Surūšiuoti pagal lytį, o tada pagal išsilavinimą\n",
    "ATS = ATS.sort_values(by=['lytis', 'issilavinimas'])\n",
    "# Išvesti rezultatus\n",
    "print(ATS)"
   ]
  },
  {
   "cell_type": "code",
   "execution_count": 12,
   "metadata": {},
   "outputs": [
    {
     "name": "stdout",
     "output_type": "stream",
     "text": [
      "G1   |1406.67|1256.50|Mot  \n",
      "G2   |1571.05|1395.00|Mot  \n",
      "G3   |2190.46|1974.00|Mot  \n",
      "G4   |3039.67|2691.84|Mot  \n",
      "G1   |1762.30|1485.66|Vyr  \n",
      "G2   |2129.49|1884.00|Vyr  \n",
      "G3   |2900.46|2500.00|Vyr  \n",
      "G4   |4158.56|3400.00|Vyr  \n"
     ]
    }
   ],
   "source": [
    "#Destytojo sprendimas. Siuo atveju nesukurta jokia nauja lentele,\n",
    "# bet viskas atspausdinama ekrane. Kiekvieno ciklo rezultatas yra spausdinamas\n",
    "edu = ['G1','G2', 'G3', 'G4']\n",
    "\n",
    "for e in edu:\n",
    "    fv = df.query(expr='issilavinimas == @e and lytis == \"F\"')['bdu_spalio'].mean()\n",
    "    fm = df.query(expr='issilavinimas == @e and lytis == \"F\"')['bdu_spalio'].median()\n",
    "    print(f'{e:5}|{fv:5.2f}|{fm:5.2f}|{\"Mot\":5}')\n",
    "\n",
    "for e in edu:\n",
    "    fv = df.query(expr='issilavinimas == @e and lytis == \"M\"')['bdu_spalio'].mean()\n",
    "    fm = df.query(expr='issilavinimas == @e and lytis == \"M\"')['bdu_spalio'].median()\n",
    "    print(f'{e:5}|{fv:5.2f}|{fm:5.2f}|{\"Vyr\":5}')"
   ]
  },
  {
   "cell_type": "code",
   "execution_count": null,
   "metadata": {},
   "outputs": [],
   "source": [
    "#Pvz. kaip naudoti value_caount, rusiuoti duomenis didejimo tvarka, bei paversti duomeinis i sarasa.\n",
    "edus = df['issilavinimas'].value_counts().sort_index(ascending=True).index.to_list()\n",
    "print(edus)\n",
    "for e in edus:\n",
    "d = df.query('issilavinimas == @e')['bdu_spalio'].mean()\n",
    "print(e, d)"
   ]
  },
  {
   "cell_type": "code",
   "execution_count": 22,
   "metadata": {},
   "outputs": [
    {
     "name": "stdout",
     "output_type": "stream",
     "text": [
      " 14-19  | 361.95 | 351.31 | 10.64  |\n",
      " 20-29  | 608.5  | 533.77 | 74.73  |\n",
      " 30-39  | 795.91 | 651.07 | 144.84 |\n",
      " 40-49  | 700.62 | 560.41 | 140.21 |\n",
      " 50-59  | 666.76 | 543.09 | 123.67 |\n",
      "  60+   | 626.85 | 512.77 | 114.08 |\n"
     ]
    }
   ],
   "source": [
    "#Parašykite ciklą, kuris surašytų atlyginimų vidurkius bei medianas\n",
    "# pagal amžiaus grupes (2014 metams, eurais)\n",
    "# amžiaus grupes gaukite naudodamiesi value_counts()\n",
    "# tvarkingesniam atvaizdavimui pasinaudokite f-strings\n",
    "# išvestyje pridėkite dar ir skirtumą tarp vidurkio ir medianos (vidurkis-mediana)\n",
    "\n",
    "# Nuskaitome failą\n",
    "df = pd.read_csv('../../DATA/DUS2014.csv')\n",
    "#Atrenkame amziaus grupes, isdestome jas didejimo tvarka, amziaus grupes surasome \n",
    "# i \"lista', nors cia tai nebutina\"\n",
    "age = df['amzius'].value_counts().sort_index(ascending=True).index.to_list()\n",
    "\n",
    "#Su kiekviena iteracija nustatome parametrus, kurie reikalingi ir juos kiekviena karta atspausdiname ekrane\n",
    "#atskiros lenteles nekuriame.\n",
    "for e in age:\n",
    "    vidurkis= round(df.query('amzius == @e')['bdu_spalio'].mean()/3.4528,2)\n",
    "    mediana= round(df.query('amzius == @e')['bdu_spalio'].median()/3.4528,2)\n",
    "    delta= round(vidurkis-mediana,2)\n",
    "    print(f'{e:^8}|{vidurkis:^8}|{mediana:^8}|{delta:^8}|')"
   ]
  },
  {
   "cell_type": "code",
   "execution_count": null,
   "metadata": {},
   "outputs": [],
   "source": [
    "# value_counts() ir pie plot:\n",
    "# kiek procentų buvo vyrų, moterų 2014 metais?\n",
    "#*"
   ]
  },
  {
   "cell_type": "code",
   "execution_count": null,
   "metadata": {},
   "outputs": [],
   "source": [
    "# value_counts() ir pie plot:\n",
    "# kiek procentų buvo iš kiekvienos amžiaus grupės?\n",
    "#"
   ]
  },
  {
   "cell_type": "code",
   "execution_count": null,
   "metadata": {},
   "outputs": [],
   "source": [
    "#value_counts() ir pie plot:\n",
    "# kiek procentų buvo iš kiekvienos išsilavinimo pakopos?\n",
    "# kiek respondentų buvo iš privataus (B) bei viešojo (A) sektoriaus? (stulpelis: nuosavybe)\n",
    "# kiek procentaliai buvo vyrų, moterų iš didelių, vidutinių, mažų įmonių? (Stulpelis im_dydis, \n",
    "# du pie plot'ai, vienas vyrams, kitas moterims)"
   ]
  },
  {
   "cell_type": "code",
   "execution_count": null,
   "metadata": {},
   "outputs": [],
   "source": [
    "#kiek respondentų buvo iš privataus (B) bei viešojo (A) sektoriaus? (stulpelis: nuosavybe)\n",
    "#"
   ]
  },
  {
   "cell_type": "code",
   "execution_count": null,
   "metadata": {},
   "outputs": [],
   "source": [
    "# kiek procentaliai buvo vyrų, moterų iš didelių, vidutinių, mažų įmonių? \n",
    "# (Stulpelis im_dydis, \n",
    "# du pie plot'ai, vienas vyrams, kitas moterims)"
   ]
  }
 ],
 "metadata": {
  "kernelspec": {
   "display_name": "Python 3",
   "language": "python",
   "name": "python3"
  },
  "language_info": {
   "codemirror_mode": {
    "name": "ipython",
    "version": 3
   },
   "file_extension": ".py",
   "mimetype": "text/x-python",
   "name": "python",
   "nbconvert_exporter": "python",
   "pygments_lexer": "ipython3",
   "version": "3.12.4"
  }
 },
 "nbformat": 4,
 "nbformat_minor": 2
}
