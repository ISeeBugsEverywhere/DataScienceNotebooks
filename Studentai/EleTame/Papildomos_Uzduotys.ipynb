{
 "cells": [
  {
   "cell_type": "code",
   "execution_count": 41,
   "metadata": {},
   "outputs": [
    {
     "name": "stdout",
     "output_type": "stream",
     "text": [
      "8 -6 7\n"
     ]
    }
   ],
   "source": [
    "i=float(input('ivesk skaiciu'))\n",
    "if i % 5 == 0:\n",
    "    print ('Labas'*5)\n",
    "else:\n",
    "    if i % 2==0:\n",
    "        print (i, i**2, i/2) \n",
    "    else:\n",
    "        if i  % 7 == 0:\n",
    "         print('Dalinasi is 7')\n",
    "        else:\n",
    "            a=int(input('ivesk kita skaiciu'))\n",
    "            print (a+7, a-7, a*7 )\n",
    "        \n",
    "        "
   ]
  },
  {
   "cell_type": "code",
   "execution_count": 6,
   "metadata": {},
   "outputs": [
    {
     "name": "stdout",
     "output_type": "stream",
     "text": [
      "True pirmas skaicius didesnis uz antra\n"
     ]
    }
   ],
   "source": [
    "i=float(input('ivesk skaiciu'))\n",
    "a=int(input('ivesk kita skaiciu'))\n",
    "if i==a:\n",
    "    print ('lygus')\n",
    "else:\n",
    "    if i>a:\n",
    "        print( i>a,'pirmas skaicius didesnis uz antra')\n",
    "    else:\n",
    "        print( i<a, 'antras skaicius didesnis uz pirma')"
   ]
  },
  {
   "cell_type": "code",
   "execution_count": null,
   "metadata": {},
   "outputs": [
    {
     "name": "stdout",
     "output_type": "stream",
     "text": [
      "5 ivestas skaicius maziau 10\n"
     ]
    }
   ],
   "source": [
    "i=float(input(' ivesk skaiciu'))\n",
    "if 10<i<15:\n",
    "    print (i, 'yra tarp 10 ir 20')\n",
    "else:\n",
    "    if i<10:\n",
    "        print (i,'ivestas skaicius maziau 10')\n",
    "    else:\n",
    "        print (i,'ivestas skaicius daugiau 15')\n"
   ]
  },
  {
   "cell_type": "code",
   "execution_count": null,
   "metadata": {},
   "outputs": [
    {
     "name": "stdout",
     "output_type": "stream",
     "text": [
      "14 yra Lyginis\n"
     ]
    }
   ],
   "source": [
    "i=float(input(' ivesk skaiciu'))\n",
    "if i%2 == 0:\n",
    "    print (i, 'yra Lyginis')\n",
    "else:*\n",
    "    print (i,'yra nelyginis')"
   ]
  },
  {
   "cell_type": "code",
   "execution_count": null,
   "metadata": {},
   "outputs": [
    {
     "name": "stdout",
     "output_type": "stream",
     "text": [
      "49 nera 3 ir 5 kartotinis\n"
     ]
    }
   ],
   "source": [
    "i=float(input('ivesk skaiciu'))\n",
    "if i%3==0 and i%5==0:\n",
    "         print('FizzBuszz')\n",
    "else:         \n",
    "    if i%3==0:\n",
    "      print ('Fizz')\n",
    "    else:\n",
    "       if i%5==0:\n",
    "        print('Buzz')\n",
    "       else:\n",
    "          if i%3==0 and i%5==0:\n",
    "            print('FizzBuszz')\n",
    "          else:\n",
    "            print(i, \"nera 3 ir 5 kartotinis\")\n",
    "        "
   ]
  },
  {
   "cell_type": "code",
   "execution_count": 69,
   "metadata": {},
   "outputs": [
    {
     "name": "stdout",
     "output_type": "stream",
     "text": [
      "10.0 cm\n",
      "10000.0 mm\n",
      "0.01 km\n"
     ]
    }
   ],
   "source": [
    "i=float(input('ivesk ilgi metrai'))\n",
    "print( i,'cm')\n",
    "print( i*1000,'mm')\n",
    "print( i/1000,'km')"
   ]
  },
  {
   "cell_type": "code",
   "execution_count": null,
   "metadata": {},
   "outputs": [
    {
     "name": "stdout",
     "output_type": "stream",
     "text": [
      "20 liekana antra skaiciu padalinua is pirmo\n"
     ]
    }
   ],
   "source": [
    "i=float(input('ivesk skaiciu'))\n",
    "b=float(input('ivesk skaiciu'))\n",
    "if i>b:\n",
    "  print (i%b, 'liekana pirma skaiciu padalinus is antro')\n",
    "else:\n",
    "  print (b%i, 'liekana antra skaiciu padalinua is pirmo')\n",
    "    "
   ]
  },
  {
   "cell_type": "code",
   "execution_count": 43,
   "metadata": {},
   "outputs": [
    {
     "name": "stdout",
     "output_type": "stream",
     "text": [
      "8.0 pirmas skaicius 2.0 pakelta laipsniu 3.0 (antras skaicius)\n"
     ]
    }
   ],
   "source": [
    "i=float(input('ivesk skaiciu'))\n",
    "b=float(input('ivesk skaiciu'))\n",
    "print (i**b,'pirmas skaicius', i,  'pakelta laipsniu', b, '(antras skaicius)' )\n",
    "    "
   ]
  },
  {
   "cell_type": "code",
   "execution_count": 64,
   "metadata": {},
   "outputs": [
    {
     "name": "stdout",
     "output_type": "stream",
     "text": [
      "Python kalba\n",
      "['Python', 'lengva', 'kalba']\n",
      "<class 'int'> 2\n",
      "5\n",
      "1\n"
     ]
    }
   ],
   "source": [
    "lst = [\"Python\", \"yra\", \"lengva\", \"programavimo\", \"kalba\"]\n",
    "print(lst[0], lst[-1])\n",
    "print(lst[: : 2])\n",
    "txt= '\"Python\", \"yra\", \"lengva\", \"programavimo\", \"kalba\"'\n",
    "txt.split(''\"programavimo\")\n",
    "print (type(a), len(txt.split('\"programavimo\"')))\n",
    "print(len(txt.split()))\n",
    "txt.split('Phyton')\n",
    "txt.isalpha()\n",
    "print(len(txt.split(\"Phyton\")))"
   ]
  },
  {
   "cell_type": "code",
   "execution_count": 76,
   "metadata": {},
   "outputs": [
    {
     "name": "stdout",
     "output_type": "stream",
     "text": [
      "10 A yasmgt aąs uutnasi raąs yau\n"
     ]
    }
   ],
   "source": [
    "txt = \"Aš rytais mėgstu kavą su sumuštiniais ir arbatą su pyragu\"\n",
    "a=txt.split()\n",
    "ats= ' ' .join(a)\n",
    "print(len(a), ats[ : :2])\n"
   ]
  },
  {
   "cell_type": "code",
   "execution_count": 82,
   "metadata": {},
   "outputs": [
    {
     "name": "stdout",
     "output_type": "stream",
     "text": [
      "{1, 2, 3, 4, 5, 8}\n"
     ]
    }
   ],
   "source": [
    "l= [1,1,2,2,3,4,5,5,5,8,8,1,2]\n",
    "l1=set(l)\n",
    "print(l1)"
   ]
  }
 ],
 "metadata": {
  "kernelspec": {
   "display_name": "Python 3",
   "language": "python",
   "name": "python3"
  },
  "language_info": {
   "codemirror_mode": {
    "name": "ipython",
    "version": 3
   },
   "file_extension": ".py",
   "mimetype": "text/x-python",
   "name": "python",
   "nbconvert_exporter": "python",
   "pygments_lexer": "ipython3",
   "version": "3.12.4"
  }
 },
 "nbformat": 4,
 "nbformat_minor": 2
}
