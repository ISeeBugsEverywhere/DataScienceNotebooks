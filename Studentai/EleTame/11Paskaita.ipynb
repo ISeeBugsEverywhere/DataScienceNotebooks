{
 "cells": [
  {
   "cell_type": "code",
   "execution_count": 8,
   "metadata": {},
   "outputs": [
    {
     "name": "stdout",
     "output_type": "stream",
     "text": [
      "‾|\n",
      "‾|\n",
      "‾|\n"
     ]
    }
   ],
   "source": [
    "# vartotojas įveda skaičių n\n",
    "# jūsų funkcija! turi spausdinti \"laiptus\" iš simbolių | ir ‾\n",
    "# pvz įvesta 4:\n",
    "# ‾|\n",
    "# ‾|\n",
    "# ‾|\n",
    "# ‾|\n",
    "\n",
    "def spausdinti_laiptus(n):\n",
    "    for i in range(n):\n",
    "        print('‾|')\n",
    "\n",
    "\n",
    "n = int(input('Ivesk skaiciu'))\n",
    "spausdinti_laiptus(n)"
   ]
  },
  {
   "cell_type": "code",
   "execution_count": 11,
   "metadata": {},
   "outputs": [
    {
     "name": "stdout",
     "output_type": "stream",
     "text": [
      "‾|\n",
      " ‾|\n",
      "  ‾|\n"
     ]
    }
   ],
   "source": [
    "# vartotojas įveda skaičių n\n",
    "# jūsų funkcija! turi spausdinti \"laiptus\" iš simbolių | ir ‾\n",
    "# pvz įvesta 3:\n",
    "#‾|\n",
    "# ‾|\n",
    "#   ‾|\n",
    "#    ‾|\n",
    "\n",
    "def spausdinti_laiptus(n):\n",
    "    i=0\n",
    "    for i in range(n):\n",
    "         print(' ' * i + '‾|')#padarau, kad butu pridetas tarpas.\n",
    "\n",
    "\n",
    "n = int(input('Ivesk skaiciu'))\n",
    "spausdinti_laiptus(n)"
   ]
  },
  {
   "cell_type": "code",
   "execution_count": 1,
   "metadata": {},
   "outputs": [
    {
     "name": "stdout",
     "output_type": "stream",
     "text": [
      "['ry', 'ta', 's_']\n"
     ]
    }
   ],
   "source": [
    "#parašyti funkciją:\n",
    "#žodžio skaidymas į sąrašą po porą simbolių.\n",
    "# jei žodis yra iš nelyginio simbolių kiekio - trūkstamas simbolis keičiamas _\n",
    "# pvz 'abc' => ['ab', 'c_']\n",
    "# 'abcdef' => ['ab', 'cd', 'ef']\n",
    "\n",
    "def padalinti_teksta(text):\n",
    "    # Jei teksto ilgis nelyginis, pridėti '_' pabaigoje\n",
    "    if len(text) % 2 != 0:\n",
    "        text = text+'_'\n",
    "\n",
    "    poros = [text[i:i+2] for i in range(0, len(text), 2)]\n",
    "    return poros\n",
    "\n",
    "# Vartotojas įveda tekstą\n",
    "ivestas_tekstas = input(\"Įveskite tekstą: \")\n",
    "resultatas = padalinti_teksta(ivestas_tekstas)\n",
    "print(resultatas)"
   ]
  },
  {
   "cell_type": "code",
   "execution_count": 6,
   "metadata": {},
   "outputs": [
    {
     "name": "stdout",
     "output_type": "stream",
     "text": [
      "['Ja', 'us', 'au', 'le', 'le', 've', 'la', 'tk', 'op', 'da', 'ma', 'bu', 'di', 'na', 'sv', 'ie', 'ta']\n"
     ]
    }
   ],
   "source": [
    "# Padalinti tekstą į poras\n",
    "    #text[i:i+2]: Tai yra pjūvis (angl. slice) iš teksto, kuris paima simbolius \n",
    "    # nuo indekso i iki i+2, bet neįtraukia i+2. Kitaip tariant, tai paima du simbolius\n",
    "    # pradedant nuo indekso i.\n",
    "    # for i in range(0, len(text), 2): Tai yra kilpa (angl. loop), \n",
    "    # kuri eina per indeksus nuo 0 iki teksto ilgio su žingsniu 2. \n",
    "    # Tai reiškia, kad ji paima kiekvieną antrą indeksą: 0, 2, 4, ir t.t.\n",
    "\n",
    "def padalinti_teksta(text):\n",
    "    # Pašalinti visus tarpus iš teksto\n",
    "    text = text.replace(\" \", \"\")\n",
    "    \n",
    "    # Jei teksto ilgis nelyginis, pridėti '_' pabaigoje\n",
    "    if len(text) % 2 != 0:\n",
    "        text =text+ '_'\n",
    "    \n",
    "    # Padalinti tekstą į poras\n",
    "    poros = [text[i:i+2] for i in range(0, len(text), 2)]\n",
    "    return poros\n",
    "\n",
    "# Vartotojas įveda tekstą\n",
    "ivestas_tekstas = input(\"Įveskite tekstą: \")\n",
    "resultatas = padalinti_teksta(ivestas_tekstas)\n",
    "print(resultatas)"
   ]
  },
  {
   "cell_type": "code",
   "execution_count": 40,
   "metadata": {},
   "outputs": [
    {
     "name": "stdout",
     "output_type": "stream",
     "text": [
      "[0, 1, 153, 370, 371, 407]\n"
     ]
    }
   ],
   "source": [
    "# Parašyti funkciją, kuri atrinktų \"kubinius\" skaičius iš intervalo [0-10000] \n",
    "# # \"kubinis\" skaičius - tai kurio skaitmenų kubų suma yra lygi pačiam skaičiui: \n",
    "# # pvz 153 = 1^3+5^3+3^3 => 153 yra \"kubinis\" # \n",
    "# # visus rastus skaičius \n",
    "# pateikite kaip sąrašą (list) \n",
    "def kubinis(n):\n",
    "    suma = sum(int(skaitmuo) ** 3 for skaitmuo in str(n))\n",
    "    return suma == n\n",
    "\n",
    "def atrinkti_kubinius(intervalas):\n",
    "    kubiniai_skaiciai = [skaicius for skaicius in range(intervalas[0], intervalas[1] + 1) if kubinis(skaicius)]\n",
    "    return kubiniai_skaiciai\n",
    "\n",
    "intervalas = (0, 10000)\n",
    "kubiniai_skaiciai = atrinkti_kubinius(intervalas)\n",
    "print(kubiniai_skaiciai)"
   ]
  },
  {
   "cell_type": "code",
   "execution_count": 41,
   "metadata": {},
   "outputs": [
    {
     "name": "stdout",
     "output_type": "stream",
     "text": [
      "Requirement already satisfied: numpy in c:\\users\\eleta\\appdata\\local\\programs\\python\\python312\\lib\\site-packages (2.0.0)\n",
      "Note: you may need to restart the kernel to use updated packages.\n"
     ]
    },
    {
     "name": "stderr",
     "output_type": "stream",
     "text": [
      "\n",
      "[notice] A new release of pip is available: 24.0 -> 24.1.2\n",
      "[notice] To update, run: python.exe -m pip install --upgrade pip\n"
     ]
    }
   ],
   "source": [
    "pip install numpy\n"
   ]
  },
  {
   "cell_type": "code",
   "execution_count": 12,
   "metadata": {},
   "outputs": [
    {
     "name": "stdout",
     "output_type": "stream",
     "text": [
      "11158736809786370683691677137823799725339183553391853989992469086863091382371475480847577165097003869213631854658748132604224389112419545246619632130448933263413470370890624836643784747185559187191698813177935154537443412302766664398674714992910157279601467869231742410884547161844201344\n",
      "811 431 100 244 947 337 645 684 126 15 380 171 994 766 908 79 840 593 61 680 681 480 338 913 295 89 670 505 27 496 131 944 15 48 568 408 767 804 822 710 856 226 492 835 104 18 382 323 297 997 467 168 203 783 538 956 802 971 60 985 504 387 453 819 539 398 913 39 50 546 842 380 53 297 278 263 928 449 424 357 326 972 47 635 945 879 266 36 712 800 830 758 306 199 340 79 655 62 946 812\n",
      "Pakelti 4 laipsniu: []\n",
      "Pakelti 5 laipsniu: []\n"
     ]
    }
   ],
   "source": [
    "# duota skaičių eilutė.\n",
    "# rasti joje visus skaičius, kurie yra lygūs savo \n",
    "# skaitmenų, pakeltų laipsniu 4, arba 5, sumai.\n",
    "import numpy as np\n",
    "\n",
    "# Sugeneruoti atsitiktinius skaičius ir sujungti juos į eilutę\n",
    "r = np.random.randint(0, 1000, 100).tolist()\n",
    "r = ''.join([str(i) for i in r])\n",
    "print(r)\n",
    "\n",
    "# Funkcija patikrinanti, ar skaičius yra lygus savo skaitmenų, pakeltų laipsniu 4, sumai\n",
    "def ketvirtas(n):\n",
    "    suma = sum(int(skaitmuo) ** 4 for skaitmuo in str(n))\n",
    "    return suma == n\n",
    "\n",
    "# Funkcija patikrinanti, ar skaičius yra lygus savo skaitmenų, pakeltų laipsniu 5, sumai\n",
    "def penktas(n):\n",
    "    suma = sum(int(skaitmuo) ** 5 for skaitmuo in str(n))\n",
    "    return suma == n\n",
    "\n",
    "# Funkcija atrenkanti visus skaičius, kurie atitinka sąlygas\n",
    "def atrinkti_ketvirtas(r):\n",
    "    ketvirtu_skaiciai = [int(skaicius) for skaicius in r.split() if ketvirtas(int(skaicius))]\n",
    "    return ketvirtu_skaiciai\n",
    "\n",
    "def atrinkti_penktas(r):\n",
    "    penktu_skaiciai = [int(skaicius) for skaicius in r.split() if penktas(int(skaicius))]\n",
    "    return penktu_skaiciai\n",
    "\n",
    "# Kadangi r yra viena ilga eilutė be tarpų, pridedame tarpus tarp skaičių \n",
    "# (neefektyvu, bet veiks su esamu kodu)\n",
    "# Geriau būtų generuoti skaičių sąrašą arba skaičius atskirti kitu būdu\n",
    "intervalas = ' '.join([str(i) for i in np.random.randint(0, 1000, 100)])\n",
    "print(intervalas)\n",
    "\n",
    "# Atrenkame skaičius, kurie atitinka sąlygas\n",
    "ketvirtu_skaiciai = atrinkti_ketvirtas(intervalas)\n",
    "penktu_skaiciai = atrinkti_penktas(intervalas)\n",
    "\n",
    "# Spausdiname rezultatus\n",
    "print(f'Pakelti 4 laipsniu: {ketvirtu_skaiciai}')\n",
    "print(f'Pakelti 5 laipsniu: {penktu_skaiciai}')\n"
   ]
  },
  {
   "cell_type": "code",
   "execution_count": 43,
   "metadata": {},
   "outputs": [
    {
     "name": "stdout",
     "output_type": "stream",
     "text": [
      "814387041459124880293055353082948925022843772679073914244433329233806933954191151983278006138662302822464883714067104268356583817017802887733615156393462629470554935447529913096469362569158935977016254859363478157862198817197927926144686058586026740829922272525160766788366642129645668494\n"
     ]
    }
   ],
   "source": [
    "# duota skaičių eilutė.\n",
    "# rasti joje visus skaičius, kurie yra lygūs savo \n",
    "# skaitmenų, pakeltų laipsniu 4, arba 5, sumai.\n",
    "# netirkinti skaičių, didesnių nei 10 000.\n",
    "import numpy as np\n",
    "r = np.random.randint(0,1000,100).tolist()\n",
    "r = ''.join([str(i) for i in r])\n",
    "print(r)"
   ]
  },
  {
   "cell_type": "code",
   "execution_count": 44,
   "metadata": {},
   "outputs": [
    {
     "name": "stdout",
     "output_type": "stream",
     "text": [
      "['ka', 'sa', 'ts', 'it', 'ik', 'o_']\n"
     ]
    }
   ],
   "source": [
    "#parašyti funkciją:\n",
    "#teksto skaidymas į sąrašą po porą simbolių.\n",
    "# jei žodis yra iš nelyginio simbolių kiekio - trūkstamas simbolis keičiamas _\n",
    "# pvz 'abc' => ['ab', 'c_']\n",
    "# 'abcdef' => ['ab', 'cd', 'ef']. Tarpai is teksto ismetami, nesiskaito kaip simbolis\n",
    "\n",
    "def padalinti_teksta(text):\n",
    "    # Pašalinti visus tarpus iš teksto\n",
    "    text = text.replace(\" \", \"\")\n",
    "    \n",
    "    # Jei teksto ilgis nelyginis, pridėti '_' pabaigoje\n",
    "    if len(text) % 2 != 0:\n",
    "        text =text+ '_'\n",
    "    \n",
    "    # Padalinti tekstą į poras\n",
    "    poros = [text[i:i+2] for i in range(0, len(text), 2)]\n",
    "    return poros\n",
    "\n",
    "# Vartotojas įveda tekstą\n",
    "ivestas_tekstas = input(\"Įveskite tekstą: \")\n",
    "resultatas = padalinti_teksta(ivestas_tekstas)\n",
    "print(resultatas)"
   ]
  },
  {
   "cell_type": "code",
   "execution_count": 45,
   "metadata": {},
   "outputs": [
    {
     "name": "stdout",
     "output_type": "stream",
     "text": [
      "Įvestos kraštinės: a = 6, b = 12\n",
      "plotas 72\n",
      "perimetras 36\n"
     ]
    }
   ],
   "source": [
    "#Aprašykite klasę Rectangle. Kreipiantis į klasę, reikia nurodyti\n",
    "#stačiakampio kraštines a ir b.\n",
    "#Realizuokite atributą Plotas (𝑆 = 𝑎 ⋅ 𝑏) ir metodą, grąžinantį\n",
    "#Ploto reikšmę\n",
    "#• Taip pat pridėkite metodą, apskaičiuojantį ir grąžinantį perimetrą (𝑃 = 2(𝑎 + 𝑏)).\n",
    "class Rectangle:\n",
    "    def __init__(self, a, b):\n",
    "        self.a = a\n",
    "        self.b = b\n",
    "\n",
    "    def area(self):\n",
    "        return self.a * self.b\n",
    "\n",
    "    def perimeter(self):\n",
    "        return 2 * (self.a + self.b)\n",
    "    \n",
    "    def show_dimensions(self):\n",
    "        print(f\"Įvestos kraštinės: a = {self.a}, b = {self.b}\")\n",
    "\n",
    "# Sukurti stačiakampio objektą\n",
    "rect = Rectangle(6, 12)\n",
    "# Išspausdinti įvestus skaičius\n",
    "rect.show_dimensions()\n",
    "\n",
    "# Iškviečiame metodus ir spausdiname rezultatus už klasės ribų\n",
    "a = rect.area()\n",
    "print(\"plotas\", a)\n",
    "\n",
    "b = rect.perimeter()\n",
    "print(\"perimetras\", b)\n",
    "        \n",
    "        "
   ]
  },
  {
   "cell_type": "code",
   "execution_count": 46,
   "metadata": {},
   "outputs": [
    {
     "name": "stdout",
     "output_type": "stream",
     "text": [
      "Mokinys: Vardenis Pavardenis\n",
      "Pažymiai: [10, 5, 9, 8, 7, 6, 6, 3, 2, 10]\n",
      "Vidurkis: 6.6\n",
      "Didžiausias pažymys: 10\n",
      "Mažiausias pažymys: 2\n"
     ]
    }
   ],
   "source": [
    "#Sukurkite Mokinys klasę, kuri turės mokinio vardą, pavardę ir\n",
    "#sąrašą pažymių. Įtraukite metodus, kurie skaičiuotų vidurkį,\n",
    "# atspausdintu didžiausią ir mažiausią pažymį.\n",
    "class Mokinys:\n",
    "    def __init__(self, vardas, pavarde, pazymiai):\n",
    "        self.vardas = vardas\n",
    "        self.pavarde = pavarde\n",
    "        self.pazymiai = pazymiai\n",
    "\n",
    "    def vidurkis(self):\n",
    "        return sum(self.pazymiai) / len(self.pazymiai) if self.pazymiai else 0\n",
    "\n",
    "    def didziausias_pazymys(self):\n",
    "        return max(self.pazymiai) if self.pazymiai else None\n",
    "\n",
    "    def maziausias_pazymys(self):\n",
    "        return min(self.pazymiai) if self.pazymiai else None\n",
    "\n",
    "    def spausdinti_informacija(self):\n",
    "        print(f\"Mokinys: {self.vardas} {self.pavarde}\")\n",
    "        print(f\"Pažymiai: {self.pazymiai}\")\n",
    "        print(f\"Vidurkis: {self.vidurkis()}\")\n",
    "        print(f\"Didžiausias pažymys: {self.didziausias_pazymys()}\")\n",
    "        print(f\"Mažiausias pažymys: {self.maziausias_pazymys()}\")\n",
    "\n",
    "# Sukurti mokinio objektą\n",
    "mokinys = Mokinys(\"Vardenis\", \"Pavardenis\", [10, 5, 9, 8, 7, 6, 6, 3, 2, 10])\n",
    "\n",
    "# Spausdinti mokinio informaciją\n",
    "mokinys.spausdinti_informacija()\n",
    "    \n",
    "    \n"
   ]
  },
  {
   "cell_type": "code",
   "execution_count": 47,
   "metadata": {},
   "outputs": [
    {
     "name": "stdout",
     "output_type": "stream",
     "text": [
      "Abiturientas: Vardenis Pavardenis\n",
      "Pažymiai: [10, 5, 9, 8, 7, 6, 6, 3, 2, 10]\n",
      "Vidurkis: 6.6\n",
      "Didžiausias pažymys: 10\n",
      "Mažiausias pažymys: 2\n",
      "Vidurkis po egzamino:6.91\n"
     ]
    }
   ],
   "source": [
    "#Sukurkite Abiturientas klasę, kuri paveldi Mokinys klasę ir\n",
    "#prideda papildomą funkcionalumą, pvz., gebėjimą pridėti\n",
    "#egzamino rezultatus ir skaičiuoti bendrą vidurkį, įskaitant ir\n",
    "#egzamino rezultatus.\n",
    "\n",
    "class Mokinys:\n",
    "    def __init__(self, vardas, pavarde, pazymiai):\n",
    "        self.vardas = vardas\n",
    "        self.pavarde = pavarde\n",
    "        self.pazymiai = pazymiai\n",
    "\n",
    "    def vidurkis(self):\n",
    "        return sum(self.pazymiai) / len(self.pazymiai) if self.pazymiai else 0\n",
    "\n",
    "    def didziausias_pazymys(self):\n",
    "        return max(self.pazymiai) if self.pazymiai else None\n",
    "\n",
    "    def maziausias_pazymys(self):\n",
    "        return min(self.pazymiai) if self.pazymiai else None\n",
    "\n",
    "class Abiturientas(Mokinys):\n",
    "    def __init__(self, vardas, pavarde, pazymiai, egzaminas):\n",
    "        super().__init__(vardas, pavarde, pazymiai)\n",
    "        self.egzaminas = egzaminas\n",
    "\n",
    "    def vidurkis2(self):\n",
    "        bendra_suma = sum(self.pazymiai) + self.egzaminas\n",
    "        bendra_kiekis = len(self.pazymiai) + 1\n",
    "        return bendra_suma / bendra_kiekis\n",
    "\n",
    "    def spausdinti_informacija(self):\n",
    "        print(f\"Abiturientas: {self.vardas} {self.pavarde}\")\n",
    "        print(f\"Pažymiai: {self.pazymiai}\")\n",
    "        print(f\"Vidurkis: {self.vidurkis()}\")\n",
    "        print(f\"Didžiausias pažymys: {self.didziausias_pazymys()}\")\n",
    "        print(f\"Mažiausias pažymys: {self.maziausias_pazymys()}\")\n",
    "        print(f\"Vidurkis po egzamino:{self.vidurkis2():.2f}\")\n",
    "\n",
    "# Sukurti abituriento objektą\n",
    "abiturientas = Abiturientas(\"Vardenis\", \"Pavardenis\", [10, 5, 9, 8, 7, 6, 6, 3, 2, 10], 10)\n",
    "\n",
    "# Spausdinti abituriento informaciją\n",
    "abiturientas.spausdinti_informacija()\n",
    "        "
   ]
  },
  {
   "cell_type": "code",
   "execution_count": 48,
   "metadata": {},
   "outputs": [
    {
     "name": "stdout",
     "output_type": "stream",
     "text": [
      "Mokinys: Jonas Jonaitis, Pažymiai: [10, 9, 8], Vidurkis: 9.0\n",
      "Mokinys: Ona Onaite, Pažymiai: [7, 6, 5], Vidurkis: 6.0\n",
      "Mokinys: Petras Petraitis, Pažymiai: [8, 9, 10], Vidurkis: 9.0\n",
      "Mokyklos vidurkis: 8.0\n",
      "Mokinys: Jonas Jonaitis, Pažymiai: [10, 9, 8], Vidurkis: 9.0\n",
      "Mokinys: Petras Petraitis, Pažymiai: [8, 9, 10], Vidurkis: 9.0\n",
      "Mokyklos vidurkis po pašalinimo: 9.0\n"
     ]
    }
   ],
   "source": [
    "#Sukurkite Mokykla klasę, kuri turės sąrašą Mokinys objektų.\n",
    "#Įtraukite metodus, kurie leistų pridėti naują mokinį, pašalinti\n",
    "#mokinį, bei skaičiuoti visos mokyklos mokinių pažymių\n",
    "#vidurkius.\n",
    "class Mokinys:\n",
    "    def __init__(self, vardas, pavarde, pazymiai):\n",
    "        self.vardas = vardas\n",
    "        self.pavarde = pavarde\n",
    "        self.pazymiai = pazymiai\n",
    "\n",
    "    def vidurkis(self):\n",
    "        return sum(self.pazymiai) / len(self.pazymiai) if self.pazymiai else 0\n",
    "\n",
    "class Mokykla:\n",
    "    def __init__(self):\n",
    "        self.mokiniai = []#kuriamas tuscias sarasa\n",
    "\n",
    "    def prideti_mokini(self, mokinys):\n",
    "        self.mokiniai.append(mokinys)#pildomas sarasas su kiekvienu nauji mokiniu\n",
    "\n",
    "    def pasalinti_mokini(self, vardas, pavarde):\n",
    "        self.mokiniai = [mokinys for mokinys in self.mokiniai if not (mokinys.vardas == vardas and mokinys.pavarde == pavarde)]\n",
    "\n",
    "    def mokyklos_vidurkis(self):\n",
    "        if not self.mokiniai:\n",
    "            return 0\n",
    "        bendras_vidurkis = sum(mokinys.vidurkis() for mokinys in self.mokiniai) / len(self.mokiniai)\n",
    "        return bendras_vidurkis\n",
    "\n",
    "    def spausdinti_mokinius(self):\n",
    "        for mokinys in self.mokiniai:\n",
    "            print(f\"Mokinys: {mokinys.vardas} {mokinys.pavarde}, Pažymiai: {mokinys.pazymiai}, Vidurkis: {mokinys.vidurkis()}\")\n",
    "\n",
    "\n",
    "# Sukuriame kelis Mokinys objektus\n",
    "mokinys1 = Mokinys(\"Jonas\", \"Jonaitis\", [10, 9, 8])\n",
    "mokinys2 = Mokinys(\"Ona\", \"Onaite\", [7, 6, 5])\n",
    "mokinys3 = Mokinys(\"Petras\", \"Petraitis\", [8, 9, 10])\n",
    "\n",
    "# Sukuriame Mokykla objektą\n",
    "mokykla = Mokykla()\n",
    "\n",
    "# Pridedame mokinius į mokyklą\n",
    "mokykla.prideti_mokini(mokinys1)\n",
    "mokykla.prideti_mokini(mokinys2)\n",
    "mokykla.prideti_mokini(mokinys3)\n",
    "\n",
    "# Spausdiname mokinius\n",
    "mokykla.spausdinti_mokinius()\n",
    "\n",
    "# Skaičiuojame mokyklos vidurkį\n",
    "print(f\"Mokyklos vidurkis: {mokykla.mokyklos_vidurkis()}\")\n",
    "\n",
    "# Pašaliname mokinį\n",
    "mokykla.pasalinti_mokini(\"Ona\", \"Onaite\")\n",
    "\n",
    "# Spausdiname mokinius po pašalinimo\n",
    "mokykla.spausdinti_mokinius()\n",
    "\n",
    "# Skaičiuojame mokyklos vidurkį po pašalinimo\n",
    "print(f\"Mokyklos vidurkis po pašalinimo: {mokykla.mokyklos_vidurkis()}\")"
   ]
  },
  {
   "cell_type": "code",
   "execution_count": 2,
   "metadata": {},
   "outputs": [
    {
     "name": "stdout",
     "output_type": "stream",
     "text": [
      "Mokinys: Vardenis Pavardenis\n",
      "Pažymiai: [10, 5, 9, 8, 7, 6, 6, 3, 2, 10, 10, 1, 1]\n"
     ]
    }
   ],
   "source": [
    "#Atnaujinkite Mokinys klasę taip, kad pažymių sąrašas būtų\n",
    "#privatus. Sukurkite metodus, kurie leistų saugiai pridėti ir\n",
    "#gauti pažymius, užtikrinant, kad negalima būtų pridėti\n",
    "#netinkamų pažymių (pvz., neigiamų ar didesnių nei 10).\n",
    "class Mokinys:\n",
    "    def __init__(self, vardas, pavarde):\n",
    "        self.vardas = vardas\n",
    "        self.pavarde = pavarde\n",
    "        self.__pazymiai = Pazymiai()  # Nurodau, kad tai lokalus kintamasis\n",
    "    \n",
    "    def prideti_pazymi(self, pazymys):\n",
    "        return self.__pazymiai.prideti_pazymi(pazymys)\n",
    "    \n",
    "    def spausdinti_informacija(self):\n",
    "        if self.__pazymiai.ar_ivedimas_teisingas():\n",
    "            print(f\"Mokinys: {self.vardas} {self.pavarde}\")\n",
    "            print(f\"Pažymiai: {self.__pazymiai.gauti_pazymius()}\")\n",
    "        else:\n",
    "            print(f\"Mokinys: {self.vardas} {self.pavarde}\")\n",
    "            print(\"\"\" Pažymai turi būti sveiki skaiciai tarp 1 ir 10. \n",
    "Yra klaidingų pažymių įvedimų, todėl pažymiai nespausdinami.\"\"\")\n",
    "        \n",
    "    def getVardas(self):\n",
    "        return self.vardas\n",
    "\n",
    "    def getPavarde(self):\n",
    "        return self.pavarde\n",
    "\n",
    "class Pazymiai:\n",
    "    def __init__(self):\n",
    "        self.__pazymiai = []  # kuriamas tuščias sąrašas\n",
    "        self.__ivedimas_teisingas = True  # stebi, ar visi įvedimai buvo teisingi\n",
    "\n",
    "    def prideti_pazymi(self, pazymys):\n",
    "        if isinstance(pazymys, int) and 0 < pazymys <= 10:# tik su isinstance uztikrinu, kad skaicius nebutu trukmeninis. int(pazymys) nesuveikia.\n",
    "            self.__pazymiai.append(pazymys)  # pildomas sąrašas su kiekvienu nauju pažymiu\n",
    "            return True\n",
    "        else:\n",
    "            self.__ivedimas_teisingas = False\n",
    "            return False\n",
    "\n",
    "    def gauti_pazymius(self):\n",
    "        return self.__pazymiai\n",
    "\n",
    "    def ar_ivedimas_teisingas(self):\n",
    "        return self.__ivedimas_teisingas\n",
    "\n",
    "# Sukurti mokinio objektą\n",
    "mokinys = Mokinys(\"Vardenis\", \"Pavardenis\")\n",
    "\n",
    "# Pridėti pažymius iš sąrašo\n",
    "pazymiai = [10, 5, 9, 8, 7, 6, 6, 3, 2, 10, 10, 1,1]  \n",
    "for pazymys in pazymiai:\n",
    "    mokinys.prideti_pazymi(pazymys)\n",
    "\n",
    "# Spausdinti mokinio informaciją\n",
    "mokinys.spausdinti_informacija()"
   ]
  },
  {
   "cell_type": "code",
   "execution_count": 50,
   "metadata": {},
   "outputs": [
    {
     "name": "stdout",
     "output_type": "stream",
     "text": [
      "Įvestos kraštinės: a = 6, b = 12\n",
      "Įvestos kraštinės: a = 6, b = 12, c=1\n",
      "plotas 72\n",
      "perimetras 36\n",
      "staciakampio gretasienio pavirsiaus plotas 180\n",
      "turis 72\n"
     ]
    }
   ],
   "source": [
    "#Sukurkite klasę, skirtą geometrinių figūrų parametrų\n",
    "#skaičiavimui:\n",
    "#• Klasė Stačiakampis - sukūrimo metu automatiškai\n",
    "#suskaičiuoja plotą ir perimetrą\n",
    "#• 𝑃 = 2(𝑎 + 𝑏), 𝑆 = 𝑎𝑏\n",
    "#• Klasė Kubas - sukūrimo metu turi suskaičiuoti paviršiaus\n",
    "#plotą ir tūrį\n",
    "#• 𝑉 = 𝑎𝑏𝑐\n",
    "#Realizuokite metodus, skirtus atnaujinti skaičiavimams, pasiekti skaičiavimų rezultatus.\n",
    "# SITO NESUPRANTU!!!! SPEJU< KAD SIUO ATVEJU METODAI PERIMETRUI IR PLOTUI SKAICIUOTI NERA SUKURTI.\n",
    "\n",
    "class Staciakampis:\n",
    "    def __init__(self, a, b):\n",
    "        self.a = a\n",
    "        self.b = b\n",
    "    def area(self):\n",
    "        return self.a * self.b\n",
    "\n",
    "    def perimeter(self):\n",
    "        return 2 * (self.a + self.b)\n",
    "    \n",
    "    def show_dimensions(self):\n",
    "        print(f\"Įvestos kraštinės: a = {self.a}, b = {self.b}\")\n",
    "class kubas:\n",
    "    def __init__(self, a, b, c):\n",
    "        self.a = a\n",
    "        self.b = b\n",
    "        self.c= c\n",
    "    def area2(self):\n",
    "        return 2*(self.a * self.b +self.c*self.b+self.c*self.a)\n",
    "\n",
    "    def volume(self):\n",
    "        return (self.a * self.b*self.c)\n",
    "    \n",
    "    def show_dimensions(self):\n",
    "        print(f\"Įvestos kraštinės: a = {self.a}, b = {self.b}, c={self.c}\")       \n",
    "\n",
    "# Sukurti stačiakampio objektą\n",
    "rect = Staciakampis(6, 12)\n",
    "rect2=kubas(6,12,1)\n",
    "# Išspausdinti įvestus skaičius\n",
    "rect.show_dimensions()\n",
    "rect2.show_dimensions()\n",
    "\n",
    "# Iškviečiame metodus ir spausdiname rezultatus už klasės ribų\n",
    "S = rect.area()\n",
    "print(\"plotas\", S)\n",
    "P= rect.perimeter()\n",
    "print(\"perimetras\", P)\n",
    "S_pav = rect2.area2()\n",
    "print(\"staciakampio gretasienio pavirsiaus plotas\", S_pav)\n",
    "V=rect2.volume()\n",
    "print(\"turis\", V)\n",
    "        "
   ]
  },
  {
   "cell_type": "code",
   "execution_count": 2,
   "metadata": {},
   "outputs": [
    {
     "name": "stdout",
     "output_type": "stream",
     "text": [
      "Įvestos kraštinės staciakampio ploto ir perimetro skaiciavimui: a = 6, b = 12\n",
      "\n",
      "Įvestos kraštinės staciakampio gretasienio pavirsiasu ploto ir turio skaiciavimui:\n",
      "a = 6, b = 12, c = 1\n",
      "Staciakampio plotas 72\n",
      "Staciakampio perimetras 36\n",
      "staciakampio gretasienio pavirsiaus plotas 180\n",
      "Jo turis 72\n"
     ]
    }
   ],
   "source": [
    "#Sukurkite klasę, skirtą geometrinių figūrų parametrų\n",
    "#skaičiavimui:\n",
    "#• Klasė Stačiakampis - sukūrimo metu automatiškai\n",
    "#suskaičiuoja plotą ir perimetrą\n",
    "#• 𝑃 = 2(𝑎 + 𝑏), 𝑆 = 𝑎𝑏\n",
    "#• Klasė Kubas - sukūrimo metu turi suskaičiuoti paviršiaus\n",
    "#plotą ir tūrį\n",
    "#• 𝑉 = 𝑎𝑏𝑐\n",
    "#Realizuokite metodus, skirtus atnaujinti skaičiavimams, pasiekti skaičiavimų rezultatus. \n",
    "# Nepadaryta, kad butu pasiekti skaiciavimo rezultatai.\n",
    "class Staciakampis:\n",
    "    def __init__(self, a, b):\n",
    "        self.a = a\n",
    "        self.b = b\n",
    "        self.skaiciuoti_plota_ir_perimetra()\n",
    "    \n",
    "    def skaiciuoti_plota_ir_perimetra(self):\n",
    "        self.plotas = self.a * self.b\n",
    "        self.perimetras = 2 * (self.a + self.b)\n",
    "\n",
    "    def show_dimensions(self):\n",
    "        print(f\"Įvestos kraštinės staciakampio ploto ir perimetro skaiciavimui: a = {self.a}, b = {self.b}\\n\")\n",
    "    \n",
    "    def get_plotas(self):\n",
    "        return self.plotas\n",
    "\n",
    "    def get_perimetras(self):\n",
    "        return self.perimetras\n",
    "\n",
    "class Kubas:\n",
    "    def __init__(self, a, b, c):\n",
    "        self.a = a\n",
    "        self.b = b\n",
    "        self.c = c\n",
    "    \n",
    "    def area2(self):\n",
    "        return 2 * (self.a * self.b + self.c * self.b + self.c * self.a)\n",
    "\n",
    "    def volume(self):\n",
    "        return self.a * self.b * self.c\n",
    "    \n",
    "    def show_dimensions(self):\n",
    "        print(f\"Įvestos kraštinės staciakampio gretasienio pavirsiasu ploto ir turio skaiciavimui:\")\n",
    "        print(f\"a = {self.a}, b = {self.b}, c = {self.c}\")\n",
    "              \n",
    "\n",
    "# Sukurti stačiakampio objektą\n",
    "rect = Staciakampis(6, 12)\n",
    "rect2 = Kubas(6, 12, 1)\n",
    "\n",
    "# Išspausdinti įvestus skaičius\n",
    "rect.show_dimensions()\n",
    "rect2.show_dimensions()\n",
    "\n",
    "# Iškviečiame metodus ir spausdiname rezultatus už klasės ribų\n",
    "S = rect.get_plotas() #Jei nebutu sukurtas metodas, spausdintu S = rect.area(). Palyginimui programa virsui.\n",
    "print(\"Staciakampio plotas\", S)\n",
    "P = rect.get_perimetras()\n",
    "print(\"Staciakampio perimetras\", P)\n",
    "\n",
    "S_pav = rect2.area2()\n",
    "print(\"staciakampio gretasienio pavirsiaus plotas\", S_pav)\n",
    "V = rect2.volume()\n",
    "print(\"Jo turis\", V)"
   ]
  },
  {
   "cell_type": "code",
   "execution_count": 22,
   "metadata": {},
   "outputs": [
    {
     "ename": "TypeError",
     "evalue": "object.__init__() takes exactly one argument (the instance to initialize)",
     "output_type": "error",
     "traceback": [
      "\u001b[1;31m---------------------------------------------------------------------------\u001b[0m",
      "\u001b[1;31mTypeError\u001b[0m                                 Traceback (most recent call last)",
      "Cell \u001b[1;32mIn[22], line 32\u001b[0m\n\u001b[0;32m     30\u001b[0m \u001b[38;5;66;03m# Sukurti stačiakampio objektą\u001b[39;00m\n\u001b[0;32m     31\u001b[0m rect \u001b[38;5;241m=\u001b[39m Staciakampis(\u001b[38;5;241m6\u001b[39m, \u001b[38;5;241m12\u001b[39m)\n\u001b[1;32m---> 32\u001b[0m piramide\u001b[38;5;241m=\u001b[39m\u001b[43mPiramide\u001b[49m\u001b[43m(\u001b[49m\u001b[38;5;241;43m6\u001b[39;49m\u001b[43m,\u001b[49m\u001b[38;5;241;43m12\u001b[39;49m\u001b[43m,\u001b[49m\u001b[43m \u001b[49m\u001b[38;5;241;43m10\u001b[39;49m\u001b[43m)\u001b[49m\n\u001b[0;32m     33\u001b[0m \u001b[38;5;66;03m# Išspausdinti įvestus skaičius\u001b[39;00m\n\u001b[0;32m     34\u001b[0m rect\u001b[38;5;241m.\u001b[39mshow_dimensions()\n",
      "Cell \u001b[1;32mIn[22], line 22\u001b[0m, in \u001b[0;36mPiramide.__init__\u001b[1;34m(self, a, b, h)\u001b[0m\n\u001b[0;32m     21\u001b[0m \u001b[38;5;28;01mdef\u001b[39;00m \u001b[38;5;21m__init__\u001b[39m(\u001b[38;5;28mself\u001b[39m, a, b, h):\n\u001b[1;32m---> 22\u001b[0m     \u001b[38;5;28;43msuper\u001b[39;49m\u001b[43m(\u001b[49m\u001b[43mPiramide\u001b[49m\u001b[43m,\u001b[49m\u001b[43m \u001b[49m\u001b[38;5;28;43mself\u001b[39;49m\u001b[43m)\u001b[49m\u001b[38;5;241;43m.\u001b[39;49m\u001b[38;5;21;43m__init__\u001b[39;49m\u001b[43m(\u001b[49m\u001b[43ma\u001b[49m\u001b[43m,\u001b[49m\u001b[43m \u001b[49m\u001b[43mb\u001b[49m\u001b[43m)\u001b[49m  \u001b[38;5;66;03m# Užtikrinti, kad tėvinė klasė yra Staciakampis\u001b[39;00m\n\u001b[0;32m     23\u001b[0m     \u001b[38;5;28mself\u001b[39m\u001b[38;5;241m.\u001b[39mh\u001b[38;5;241m=\u001b[39m h\n",
      "\u001b[1;31mTypeError\u001b[0m: object.__init__() takes exactly one argument (the instance to initialize)"
     ]
    }
   ],
   "source": [
    "#Sukurkite dvi klases:\n",
    "#• Klasę Stačiakampis - tėvinė (parent) klasė, sukūrimo metu\n",
    "#automatiškai suskaičiuoja plotą ir perimetrą. Galite naudoti\n",
    "#anksčiau kurtą klasę.\n",
    "#• Klasę Piramidė - išvestinė klasė (child class). Pridėkite\n",
    "#papildomą funkcionalumą - metodą, argumentus piramidės, kurios pagrindas staciakampis\n",
    "#tūrio skaičiavimui. Kodel nesuveikia?\n",
    "class Staciakampis:\n",
    "    def __init__(self, a, b):\n",
    "        self.a = a\n",
    "        self.b = b\n",
    "    def area(self):\n",
    "        return self.a * self.b\n",
    "\n",
    "    def perimeter(self):\n",
    "        return 2 * (self.a + self.b)\n",
    "    \n",
    "    def show_dimensions(self):\n",
    "        print(f\"Įvestos kraštinės: a = {self.a}, b = {self.b}\")\n",
    "class Piramide:\n",
    "    def __init__(self, a, b, h):\n",
    "        super(Piramide, self).__init__(a, b)  # Užtikrinti, kad tėvinė klasė yra Staciakampis\n",
    "        self.h= h\n",
    "    def volume(self):\n",
    "        return (1/3)*self.a * self.b * self.c\n",
    "    \n",
    "    def show_dimensions(self):\n",
    "        print(f\"Įvestos kraštinės: a = {self.a}, b = {self.b} ir aukstine h={self.c}\")       \n",
    "\n",
    "# Sukurti stačiakampio objektą\n",
    "rect = Staciakampis(6, 12)\n",
    "piramide=Piramide(6,12, 10)\n",
    "# Išspausdinti įvestus skaičius\n",
    "rect.show_dimensions()\n",
    "piramide.show_dimensions()\n",
    "\n",
    "# Iškviečiame metodus ir spausdiname rezultatus už klasės ribų\n",
    "S = rect.area()\n",
    "print(\"plotas\", S)\n",
    "P = rect.perimeter()\n",
    "print(\"plotas\", P)\n",
    "V=piramide.volume()\n",
    "print(\"turis\", V)\n",
    "        "
   ]
  },
  {
   "cell_type": "code",
   "execution_count": 12,
   "metadata": {},
   "outputs": [
    {
     "name": "stdout",
     "output_type": "stream",
     "text": [
      "Įvestos kraštinės: a = 6, b = 12\n",
      "Įvestos kraštinės: a = 6, b = 12, aukštis h = 10\n",
      "Stačiakampio plotas: 72\n",
      "Stačiakampio perimetras: 36\n",
      "Piramidės tūris: 240.0\n"
     ]
    }
   ],
   "source": [
    "#Sukurkite dvi klases:\n",
    "#• Klasę Stačiakampis - tėvinė (parent) klasė, sukūrimo metu\n",
    "#automatiškai suskaičiuoja plotą ir perimetrą. Galite naudoti\n",
    "#anksčiau kurtą klasę.\n",
    "#• Klasę Piramidė - išvestinė klasė (child class). Pridėkite\n",
    "#papildomą funkcionalumą - metodą, argumentus piramidės, kurios pagrindas staciakampis\n",
    "#tūrio skaičiavimui.\n",
    "class Staciakampis:\n",
    "    def __init__(self, a, b):\n",
    "        self.a = a\n",
    "        self.b = b\n",
    "        self.skaiciuoti_plota_ir_perimetra()\n",
    "    \n",
    "    def skaiciuoti_plota_ir_perimetra(self):\n",
    "        self.plotas = self.a * self.b\n",
    "        self.perimetras = 2 * (self.a + self.b)\n",
    "\n",
    "    def show_dimensions(self):\n",
    "        print(f\"Įvestos kraštinės: a = {self.a}, b = {self.b}\")\n",
    "    \n",
    "    def get_plotas(self):\n",
    "        return self.plotas\n",
    "\n",
    "    def get_perimetras(self):\n",
    "        return self.perimetras\n",
    "\n",
    "class Piramide(Staciakampis):\n",
    "    def __init__(self, a, b, h):\n",
    "        super().__init__(a, b)  # Teisingai iškviečiame Staciakampis klasės __init__ metodą\n",
    "        self.h = h\n",
    "    \n",
    "    def volume(self):\n",
    "        return (1/3) * self.a * self.b * self.h\n",
    "    \n",
    "    def show_dimensions(self):\n",
    "        print(f\"Įvestos kraštinės: a = {self.a}, b = {self.b}, aukštis h = {self.h}\")\n",
    "\n",
    "# Sukurti stačiakampio objektą\n",
    "rect = Staciakampis(6, 12)\n",
    "piramide = Piramide(6, 12, 10)\n",
    "\n",
    "# Išspausdinti įvestus skaičius\n",
    "rect.show_dimensions()\n",
    "piramide.show_dimensions()\n",
    "\n",
    "# Iškviečiame metodus ir spausdiname rezultatus už klasės ribų\n",
    "S = rect.get_plotas()\n",
    "print(\"Stačiakampio plotas:\", S)\n",
    "P = rect.get_perimetras()\n",
    "print(\"Stačiakampio perimetras:\", P)\n",
    "\n",
    "V = piramide.volume()\n",
    "print(\"Piramidės tūris:\", V)"
   ]
  }
 ],
 "metadata": {
  "kernelspec": {
   "display_name": "Python 3",
   "language": "python",
   "name": "python3"
  },
  "language_info": {
   "codemirror_mode": {
    "name": "ipython",
    "version": 3
   },
   "file_extension": ".py",
   "mimetype": "text/x-python",
   "name": "python",
   "nbconvert_exporter": "python",
   "pygments_lexer": "ipython3",
   "version": "3.12.4"
  }
 },
 "nbformat": 4,
 "nbformat_minor": 2
}
