{
 "cells": [
  {
   "cell_type": "code",
   "execution_count": null,
   "metadata": {},
   "outputs": [],
   "source": [
    "import numpy as np\n",
    "import pandas as pd\n",
    "import matplotlib.pyplot as plt\n",
    "\n",
    "# Load data from Excel file\n",
    "file_path = 'nexafs_data.xlsx'  # Replace with your actual file path\n",
    "data = pd.read_excel(file_path)\n",
    "\n",
    "# Assuming the first column is excitation energies and the second is oscillator strengths\n",
    "excitation_energies = data.iloc[:, 0].values  # First column\n",
    "oscillator_strengths = data.iloc[:, 1].values  # Second column\n",
    "\n",
    "# Parameters for Gaussian broadening\n",
    "broadening_width = 0.5  # Full Width at Half Maximum (FWHM) in eV\n",
    "energy_range = np.linspace(280, 310, 1000)  # energy range for the spectrum\n",
    "\n",
    "def gaussian_broadening(energy, center, intensity, width):\n",
    "    \"\"\"Apply Gaussian broadening to a single transition.\"\"\"\n",
    "    sigma = width / (2.0 * np.sqrt(2.0 * np.log(2.0)))  # Convert FWHM to sigma\n",
    "    return intensity * np.exp(-(energy - center)**2 / (2.0 * sigma**2))\n",
    "\n",
    "# Initialize the spectrum\n",
    "spectrum = np.zeros_like(energy_range)\n",
    "\n",
    "# Sum the broadened transitions to form the spectrum\n",
    "for energy, strength in zip(excitation_energies, oscillator_strengths):\n",
    "    spectrum += gaussian_broadening(energy_range, energy, strength, broadening_width)\n",
    "\n",
    "# Plotting the spectrum\n",
    "plt.figure(figsize=(8, 6))\n",
    "plt.plot(energy_range, spectrum, label='NEXAFS Spectrum')\n",
    "plt.xlabel('Energy (eV)')\n",
    "plt.ylabel('Intensity (arb. units)')\n",
    "plt.title('NEXAFS Spectrum')\n",
    "plt.legend()\n",
    "plt.grid(True)\n",
    "plt.show()"
   ]
  }
 ],
 "metadata": {
  "language_info": {
   "name": "python"
  }
 },
 "nbformat": 4,
 "nbformat_minor": 2
}
