{
 "cells": [
  {
   "cell_type": "code",
   "execution_count": 9,
   "metadata": {},
   "outputs": [
    {
     "name": "stdout",
     "output_type": "stream",
     "text": [
      "Sąrašas: [68.88, 51.59, -15.89, -48.22, 2.25, -19.01, 56.76, -39.34, -4.68, 16.68, 81.62, 0.94, -43.63, 51.16, 23.67, -49.9, 81.95, 96.56, 62.04, 80.43]\n",
      "Artimiausias skaičius nurodytam 6.06 yra 2.25 jo indeksas yra 4\n"
     ]
    }
   ],
   "source": [
    "#parašyti funkciją, kuriai galėtumėte nurodyti sąrašą skaičių bei dar \n",
    "# vieną skaičių, ir ta funkcija surastų ir grąžintų sarašę buvusį skaičių, artimiausią nuliui (arba jūsų nurodytam skaičiui), bei rastojo skaičiaus poziciją (indeksą) sąraše.\n",
    "# Jei tokių skaičių daugiau nei vienas, grazinkite pirmaji is \n",
    "# desines einanti skaiciu. Sarasas generuojamas random.\n",
    "\n",
    "import random\n",
    "\n",
    "def find_closest_number(nums, target):\n",
    "    # Inicializuoti artimiausią skaičių ir jo indeksą\n",
    "    closest_num = None\n",
    "    closest_index = -1\n",
    "    min_distance = float('inf')\n",
    "    \n",
    "    # Eiti per sąrašą ir rasti artimiausią skaičių\n",
    "    for i, num in enumerate(nums):\n",
    "        distance = abs(num - target)\n",
    "        # Jei randa mažesnį skaiciu arba jei turime kelis, nustatome pirmais dešinės\n",
    "        if distance < min_distance or (distance == min_distance and closest_index < i):\n",
    "            closest_num = num\n",
    "            closest_index = i\n",
    "            min_distance = distance\n",
    "    \n",
    "    return closest_num, closest_index\n",
    "\n",
    "# Generuoti atsitiktinį sąrašą\n",
    "random.seed(0)  # Tam, kad rezultatai būtų atkartojami\n",
    "#nums = [random.randint(-100, 100) for _ in range(20)] # Generuos sarasa is sveiku skaiciu\n",
    "nums = [random.uniform(-100, 100) for _ in range(20)]#generuojamas sarasas is trupmeniniu sakiciu\n",
    "# Paprašyti vartotojo įvesti skaičių\n",
    "target = float(input(\"Įveskite skaičių, simtuju tikslumu, kuriam ieškome rtimiausio sąraše: \"))\n",
    "\n",
    "closest_num, closest_index = find_closest_number(nums, target)\n",
    "rounded_nums = [round(num, 2) for num in nums]\n",
    "rounded_closest_num = round(closest_num, 2)\n",
    "\n",
    "print(\"Sąrašas:\", rounded_nums)\n",
    "print(\"Artimiausias skaičius nurodytam\", target, \"yra\", rounded_closest_num, \"jo indeksas yra\", closest_index)\n"
   ]
  },
  {
   "cell_type": "code",
   "execution_count": null,
   "metadata": {},
   "outputs": [],
   "source": [
    "#Sukurkite klasę, skirtą geometrinių figūrų parametrų skaičiavimui:\n",
    "#• Klasė Stačiakampis - sukūrimo metu automatiškai suskaičiuoja plotą ir perimetrą\n",
    "#• Klasė Kubas - sukūrimo metu turi suskaičiuoti paviršiaus plotą ir tūrį\n",
    "#Realizuokite metodus, skirtus atnaujinti skaičiavimams, pasiekti\n",
    "# skaičiavimų rezultatus."
   ]
  }
 ],
 "metadata": {
  "kernelspec": {
   "display_name": "Python 3",
   "language": "python",
   "name": "python3"
  },
  "language_info": {
   "codemirror_mode": {
    "name": "ipython",
    "version": 3
   },
   "file_extension": ".py",
   "mimetype": "text/x-python",
   "name": "python",
   "nbconvert_exporter": "python",
   "pygments_lexer": "ipython3",
   "version": "3.12.4"
  }
 },
 "nbformat": 4,
 "nbformat_minor": 2
}
