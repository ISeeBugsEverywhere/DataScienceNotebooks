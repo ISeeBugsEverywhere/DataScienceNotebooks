{
 "cells": [
  {
   "cell_type": "code",
   "execution_count": 1,
   "metadata": {},
   "outputs": [
    {
     "name": "stdout",
     "output_type": "stream",
     "text": [
      "Collecting pillow\n",
      "  Downloading pillow-10.4.0-cp312-cp312-win_amd64.whl.metadata (9.3 kB)\n",
      "Downloading pillow-10.4.0-cp312-cp312-win_amd64.whl (2.6 MB)\n",
      "   ---------------------------------------- 0.0/2.6 MB ? eta -:--:--\n",
      "   ---------------------------------------- 0.0/2.6 MB ? eta -:--:--\n",
      "    --------------------------------------- 0.0/2.6 MB 495.5 kB/s eta 0:00:06\n",
      "   --- ------------------------------------ 0.2/2.6 MB 2.1 MB/s eta 0:00:02\n",
      "   --------- ------------------------------ 0.6/2.6 MB 4.2 MB/s eta 0:00:01\n",
      "   ----------------------- ---------------- 1.5/2.6 MB 7.3 MB/s eta 0:00:01\n",
      "   ------------------------------- -------- 2.0/2.6 MB 8.7 MB/s eta 0:00:01\n",
      "   ------------------------------------- -- 2.4/2.6 MB 8.6 MB/s eta 0:00:01\n",
      "   ---------------------------------------- 2.6/2.6 MB 8.2 MB/s eta 0:00:00\n",
      "Installing collected packages: pillow\n",
      "Successfully installed pillow-10.4.0\n",
      "Note: you may need to restart the kernel to use updated packages.\n"
     ]
    },
    {
     "name": "stderr",
     "output_type": "stream",
     "text": [
      "\n",
      "[notice] A new release of pip is available: 24.0 -> 24.1.1\n",
      "[notice] To update, run: python.exe -m pip install --upgrade pip\n"
     ]
    }
   ],
   "source": [
    "pip install pillow\n"
   ]
  },
  {
   "cell_type": "code",
   "execution_count": 2,
   "metadata": {},
   "outputs": [
    {
     "name": "stdout",
     "output_type": "stream",
     "text": [
      "a= 34 b= 48 c= 12.0 d= 15\n"
     ]
    }
   ],
   "source": [
    "#Išveskite atsakymus šių veiksmų:\n",
    "#1) 8 * 4 + 2\n",
    "#2) 8 * (4 + 2)\n",
    "#3) 48 / 4\n",
    "#4) 3 + 6 * 2\n",
    "a=8*4+2\n",
    "b=8 * (4 + 2)\n",
    "c= 48 / 4\n",
    "d= 3 + 6 * 2\n",
    "print('a=',a, 'b=', b, 'c=', c, 'd=',d )"
   ]
  },
  {
   "cell_type": "code",
   "execution_count": 12,
   "metadata": {},
   "outputs": [
    {
     "name": "stdout",
     "output_type": "stream",
     "text": [
      "m= 10.4 b= 11.6 ju suma 22.0\n"
     ]
    }
   ],
   "source": [
    "#Susikurkite du kintamuosius skaičiams saugoti. Į juos\n",
    "#įrašykite norimus skaičius. Susikurkite trečiąjį kintamąjį, kurio\n",
    "#reikšmė būtų pirmų dviejų kintamųjų suma. Visus kintamuosius išveskite.\n",
    "m=float(input(\"Ivesk skaiciu\"))\n",
    "b=float(input(\"Ivesk kita skaiciu\"))\n",
    "c=b+m\n",
    "print('m=', m, 'b=', b, 'ju suma', c)"
   ]
  },
  {
   "cell_type": "code",
   "execution_count": 22,
   "metadata": {},
   "outputs": [
    {
     "name": "stdout",
     "output_type": "stream",
     "text": [
      "(100.0)+(10.0)+(0.0)= 110.0\n",
      "(100.0)-(10.0)-(0.0)= 90.0\n",
      "(100.0)*(10.0)*(0.0)= 0.0\n",
      "float division by zero \"dalyba is nulio negalima\"\n"
     ]
    }
   ],
   "source": [
    "#Susikurkite tris kintamuosius skaičiams saugoti. Į juos\n",
    "#įrašykite norimus skaičius. Raskite šių skaičių suma,\n",
    "#skirtumą, sandaugą ir dalmenį. Atsakymus išveskite kartu su\n",
    "#atliekamu veiksmu (pvz 8 + 2 + 4 = 14).\n",
    "m=float(input(\"Ivesk skaiciu\"))\n",
    "b=float(input(\"Ivesk kita skaiciu\"))\n",
    "c=float(input(\"Ivesk kita skaiciu\"))\n",
    "print(f'({m})+({b})+({c})=', m+b+c)\n",
    "print(f'({m})-({b})-({c})=', m-b-c)\n",
    "print(f'({m})*({b})*({c})=', m*b*c)\n",
    "try:\n",
    "    print(f'({m}):({b}):({c})=', m/b/c)\n",
    "except ZeroDivisionError as isimtis:\n",
    "    print(f'{isimtis} \"dalyba is nulio negalima\"')\n"
   ]
  },
  {
   "cell_type": "code",
   "execution_count": 17,
   "metadata": {},
   "outputs": [
    {
     "name": "stdout",
     "output_type": "stream",
     "text": [
      "m=4.0 5m= 20.0\n",
      "b=5.5 2b= 11.0\n"
     ]
    }
   ],
   "source": [
    "#Susikurkite du kintamuosius skaičiams saugoti. Į juos\n",
    "#įrašykite norimus skaičius. Pirmąjį kintamąjį padidinkite\n",
    "# #5-iais. Antrajį padidinkite 2 kartus. Išveskite visus atsakymus\n",
    "# (pradines reikšmes ir pakeistas reikšmes).\n",
    "m=float(input(\"Ivesk skaiciu\"))\n",
    "b=float(input(\"Ivesk kita skaiciu\"))\n",
    "print(f'm={m}', '5m=', 5*m)\n",
    "print(f'b={b}', '2b=', 2*b)"
   ]
  },
  {
   "cell_type": "code",
   "execution_count": 30,
   "metadata": {},
   "outputs": [
    {
     "name": "stdout",
     "output_type": "stream",
     "text": [
      "-100.0*(100.0)= -10000.0\n",
      "-100.0^2= 10000.0 100.0^2= 10000.0\n",
      "pirmas skaicius neigiamas, traukiama lyginio \n",
      "          skaičiaus šaknis, gaunasi iracionalus {(6.123233995736766e-16+10j)}\n",
      "100.0^(1/2) = 10.0\n",
      "100.0:-100.0 liekana -0.0\n"
     ]
    }
   ],
   "source": [
    "#Priskirkite savo pasirinktus skaičius kintamiesiems\n",
    "#• Raskite šių skaičių sandaugą, pakelkite juos savo pasirinktu\n",
    "#laipsniu;\n",
    "#• Ištraukite iš šių skaičių pasirinkto laipsnio šaknį\n",
    "#• Suraskite šių skaičių dalybos liekaną (dalinkite didesnį iš mažesnio)\n",
    "m=float(input(\"Ivesk skaiciu\"))\n",
    "b=float(input(\"Ivesk kita skaiciu\"))\n",
    "c=int(input(\"Laipsnis, kuriuos skacius bus keliamas\"))\n",
    "a=int(input('saknis, kuri bus traukiama'))\n",
    "i=1    \n",
    "print(f'{m}*({b})=', m*b)\n",
    "print(f'{m}^{c}=', m**c,f'{b}^{c}=', b**c )\n",
    "if m < 0 and a % 2 == 0:\n",
    "    print(\"\"\"pirmas skaicius neigiamas, traukiama lyginio \n",
    "          skaičiaus šaknis, gaunasi iracionalus\"\"\", {m ** (1/a)} )\n",
    "else:\n",
    "    print (f'{m}^(1/{a}) = {m ** (1/a)}')\n",
    "if b <0 and a % 2==0:\n",
    "    print(\"\"\"angtras skaicius neigiamas  - traukiama lyginio\n",
    "          skaičiaus šaknis, gauname iracionalu skaičiu\"\"\", {b ** (1/a)} )\n",
    "else:\n",
    "    print(f'{b}^(1/{a}) = {b ** (1/a)}')\n",
    "    \n",
    "if m>=b:\n",
    "    print(f'{m}:{b} liekana', {m%b})\n",
    "else:\n",
    "     print(f'{b}:{m} liekana', b%m)\n"
   ]
  },
  {
   "cell_type": "code",
   "execution_count": 38,
   "metadata": {},
   "outputs": [
    {
     "name": "stdout",
     "output_type": "stream",
     "text": [
      "['Jelena', 'Tamuliene']\n",
      "2\n",
      "Varde \"Jelena\" yra 6 simbolių.\n",
      "Pavardėje \"Tamuliene\" yra 9 simbolių.\n",
      "Varde ir pavardeje yra 15 simboliu\n"
     ]
    }
   ],
   "source": [
    "#Suskaičiuoti, kiek simbolių yra jūsų varde, pavardėje.\n",
    "txt=\"Jelena Tamuliene\"\n",
    "name_parts=txt.split()#isbraukiu tarpus\n",
    "print(name_parts[:]) #atspausdina pakoreguota teksta\n",
    "print(len(name_parts)) #skaiciuoja, kiek yra zodziu pateiktame tekste\"\n",
    "a=name_parts[0] #atskiriu varda\n",
    "b=name_parts[1] #atskiriu pavarde\n",
    "vardas = len(a)\n",
    "pavarde = len(b)\n",
    "\n",
    "print(f'Varde \"{a}\" yra {vardas} simbolių.')\n",
    "print(f'Pavardėje \"{b}\" yra {pavarde} simbolių.')\n",
    "print(f'Varde ir pavardeje yra', vardas+pavarde, 'simboliu')"
   ]
  },
  {
   "cell_type": "code",
   "execution_count": 42,
   "metadata": {},
   "outputs": [
    {
     "name": "stdout",
     "output_type": "stream",
     "text": [
      "tekste yra 73 simboliu\n"
     ]
    }
   ],
   "source": [
    "#Suskaičiuoti, kiek simbolių yra pačio pirmojo delfi.lt straipsnio\n",
    "#antraštėje\n",
    "txt=\"Šimonytė tikrinasi pasitikėjimą Seime: po Nausėdos žodžių kilo audringos reakcijos\"\n",
    "txt_joint = ''.join(name_parts)\n",
    "print(F'tekste yra', len(txt_joint), 'simboliu')"
   ]
  },
  {
   "cell_type": "code",
   "execution_count": 43,
   "metadata": {},
   "outputs": [
    {
     "name": "stdout",
     "output_type": "stream",
     "text": [
      "JELENA jelena TAMULIENE tamuliene\n"
     ]
    }
   ],
   "source": [
    "#Pakeisti visas raides į mažąsias jūsų varde. Ir į didžiąsias ;).\n",
    "txt=\"Jelena Tamuliene\"\n",
    "name_parts=txt.split()#isbraukiu tarpus\n",
    "vardas=name_parts[0]\n",
    "pavarde=name_parts[-1]\n",
    "a=vardas.upper()\n",
    "b=vardas.lower()\n",
    "c=pavarde.upper()\n",
    "d=pavarde.lower()\n",
    "print(a,b,c,d)"
   ]
  },
  {
   "cell_type": "code",
   "execution_count": 46,
   "metadata": {},
   "outputs": [
    {
     "name": "stdout",
     "output_type": "stream",
     "text": [
      "Šimonytė ti\n",
      "s reakcijo\n",
      "Šmnt irns aiiėiąSie oNuėo ožųkl urno ekio\n",
      "ikrinasi pa\n"
     ]
    }
   ],
   "source": [
    "#Iš delfi antraštės atrinkite pirmus 10 simbolių; paskutinius\n",
    "#10; kas antrą; iškirpkite tekstą nuo 10-to iki 20-to simbolių;\n",
    "txt=\"Šimonytė tikrinasi pasitikėjimą Seime: po Nausėdos žodžių kilo audringos reakcijos\"\n",
    "txt_joint = ''.join(txt)\n",
    "print(txt_joint[0:11])\n",
    "print(txt_joint[-10:-1])\n",
    "print(txt_joint[0::2])\n",
    "print(txt_joint[10:21])"
   ]
  },
  {
   "cell_type": "code",
   "execution_count": 49,
   "metadata": {},
   "outputs": [
    {
     "name": "stdout",
     "output_type": "stream",
     "text": [
      "a raidžių skaičius tekste yra: 5\n",
      "Pirmąkart \"a\" sutinkamas pozicijoje: 15\n"
     ]
    }
   ],
   "source": [
    "#Kiek delfi antraštėje yra \"a\" simbolių? Kurioje pozicijoje yra\n",
    "#pirmąkart sutinkamas šis simbolis?\n",
    "txt=\"Šimonytė tikrinasi pasitikėjimą Seime: po Nausėdos žodžių kilo audringos reakcijos\"\n",
    "i = 0\n",
    "first_a_index = -1\n",
    "\n",
    "# Skaičiuoti \"a\" simbolius ir rasti pirmąją poziciją\n",
    "for index, symbol in enumerate(txt):\n",
    "    if symbol == 'a':\n",
    "        i =i+ 1\n",
    "        if first_a_index == -1:\n",
    "            first_a_index = index\n",
    "\n",
    "print('a raidžių skaičius tekste yra:', i)\n",
    "if first_a_index != -1:\n",
    "    print('Pirmąkart \"a\" sutinkamas pozicijoje:', first_a_index)\n",
    "else:\n",
    "    print('\"a\" simbolis tekste nerastas')"
   ]
  },
  {
   "cell_type": "code",
   "execution_count": 51,
   "metadata": {},
   "outputs": [
    {
     "name": "stdout",
     "output_type": "stream",
     "text": [
      "abas rytas!\n",
      "Labas rytas\n",
      "abas rytas\n"
     ]
    }
   ],
   "source": [
    "#Iš teksto txt=\"Labas rytas!\" išveskite tekstą be pirmo\n",
    "#simbolio; be paskutinio; be pirmo ir be paskutinio;\n",
    "txt=\"Labas rytas!\"\n",
    "print(txt[1:])\n",
    "print(txt[:-1])\n",
    "print(txt[1:-1])"
   ]
  },
  {
   "cell_type": "code",
   "execution_count": 52,
   "metadata": {},
   "outputs": [
    {
     "name": "stdout",
     "output_type": "stream",
     "text": [
      "Produktai pabrango maždaug 13.123456789 kartų :: general format\n",
      "Produktai pabrango maždaug 13.123457 kartų 6-i ženklai po kablelio\n",
      "Produktai pabrango maždaug 1.312346e+01 kartų :: eksponentinė forma\n",
      "Produktai pabrango maždaug 13.12 kartų apvalinta iki 2-jų ženklų\n"
     ]
    }
   ],
   "source": [
    "txt = \"Produktai pabrango maždaug {} kartų\"\n",
    "print(txt.format(13.123456789), \":: general format\")\n",
    "txt = \"Produktai pabrango maždaug {:f} kartų\"\n",
    "print(txt.format(13.123456789), \"6-i ženklai po kablelio\")\n",
    "txt = \"Produktai pabrango maždaug {:e} kartų\"\n",
    "print(txt.format(13.123456789), \":: eksponentinė forma\")\n",
    "txt = \"Produktai pabrango maždaug {:.2f} kartų\"\n",
    "print(txt.format(13.123456789), \"apvalinta iki 2-jų ženklų\")\n"
   ]
  },
  {
   "cell_type": "code",
   "execution_count": 66,
   "metadata": {},
   "outputs": [
    {
     "name": "stdout",
     "output_type": "stream",
     "text": [
      "sandauga -100000.0*100000.0 lygi -1.00e+10\n",
      "kelimas -100000.0 laipsniu 5 lygu -1.00e+25\n",
      "kelimas 100000.0 laipsniu 5 lygu 1.00e+25\n",
      "-100000.0^(1/5) = 8.1+5.9j\n",
      "100000.0^(1/5) = 10\n",
      "100000.0:(-100000.0) liekana -0.0\n"
     ]
    }
   ],
   "source": [
    "#Priskirkite savo pasirinktus skaičius kintamiesiems\n",
    "#• Raskite šių skaičių sandaugą, pakelkite juos savo pasirinktu\n",
    "#laipsniu;\n",
    "#• Ištraukite iš šių skaičių pasirinkto laipsnio šaknį\n",
    "#• Suraskite šių skaičių dalybos liekaną (dalinkite didesnį iš mažesnio)\n",
    "#Išvestį suformatuokite taip, jog išvestų įvestus skačius, atlikto\n",
    "#veiksmo pavadinimą, pateiktų veiksmo rezultatą.\n",
    "#Rezultatams parodyti panaudokite skirtingus skaičių atvaizdavimo formatus.\n",
    "m=float(input(\"Ivesk skaiciu\"))\n",
    "b=float(input(\"Ivesk kita skaiciu\"))\n",
    "c=int(input(\"Laipsnis, kuriuos skacius bus keliamas\"))\n",
    "a=int(input('saknis, kuri bus traukiama'))\n",
    "sandauga=m*b \n",
    "print(f'sandauga {m}*{b} lygi {sandauga:.2e}' )\n",
    "kelimas_laipsniu=m**c\n",
    "kelimas_laipsniuA=b**c\n",
    "print(f'kelimas {m} laipsniu {c} lygu {kelimas_laipsniu:.2e}')\n",
    "print(f'kelimas {b} laipsniu {c} lygu {kelimas_laipsniuA:.2e}')\n",
    "\n",
    "if m < 0 and a % 2 == 0:\n",
    "    print(\"\"\"pirmas skaicius neigiamas, traukiama lyginio \n",
    "          skaičiaus šaknis, gaunasi iracionalus skaicius\"\"\", {m ** (1/a)} )\n",
    "else:\n",
    "    print (f'{m}^(1/{a}) = {m ** (1/a):.2e}')\n",
    "if b <0 and a % 2==0:\n",
    "    print(\"\"\"antras skaicius neigiamas  - traukiama lyginio\n",
    "          skaičiaus šaknis, gauname iracionalu skaičiu\"\"\", {b ** (1/a)} )\n",
    "else:\n",
    "    print(f'{b}^(1/{a}) = {b ** (1/a):.2e}')\n",
    "    \n",
    "if m>=b:\n",
    "    print(f'{m}:{b} liekana', {m%b})\n",
    "else:\n",
    "     print(f'{b}:({m}) liekana', b%m)"
   ]
  },
  {
   "cell_type": "code",
   "execution_count": 73,
   "metadata": {},
   "outputs": [
    {
     "name": "stdout",
     "output_type": "stream",
     "text": [
      "Atrinktas tekstas:\n",
      "uri turinį ir formą. Teksto forma gali būti sakytinė ir rašytinė. Skiriami šie teksto perteikimo tipai: pasakojimas, aprašymas, protavimas. Tekstą sudaro sakinių sąsaja. Sakiniai jungiami į tekstus įvardžiais, prieveiksmiais, dalelytėmis, žodžių tvarka, paraleliu ar kontrastišku \n"
     ]
    }
   ],
   "source": [
    "#Parašykite kodą, kuris atrinktų simbolius iš teksto (įvedamo\n",
    "#vartotojo). Rėžius (nuo - iki) taip pat turi nurodyti vartotojas.\n",
    "txt = input('Įvesk tekstą: ')\n",
    "start = int(input('Įvesk skaičių, kuris nurodo nuo kurio simbolio atrenkamas tekstas: '))\n",
    "end = int(input('Įvesk skaičių, kuris nurodo iki kurio simbolio atrenkamas tekstas: '))\n",
    "\n",
    "if start < 0 or end > len(txt):\n",
    "    print('Neteisingas rėžis. Įveskite tinkamus skaičius.')\n",
    "elif start >= end:\n",
    "    print('Pradžios indeksas turi būti mažesnis už pabaigos indeksą. Įveskite tinkamus skaičius.')\n",
    "else:\n",
    "    print('Atrinktas tekstas:') \n",
    "    print(f'{txt[start:end]}')\n"
   ]
  },
  {
   "cell_type": "code",
   "execution_count": 77,
   "metadata": {},
   "outputs": [
    {
     "name": "stdout",
     "output_type": "stream",
     "text": [
      "Teks palaukti dar 8 metus\n"
     ]
    }
   ],
   "source": [
    "#Liepkite vartotojui suvesti savo amžių. Patikrinkite ar amžius\n",
    "#yra didesnis arba lygus 18-ai, jei taip - išveskite “jūs galite\n",
    "#balsuoti”.\n",
    "\n",
    "age=int(input('Iveskite savo amziu'))\n",
    "if age >=18:\n",
    "    print(\"Jus galite balsuoti\")\n",
    "else:\n",
    "    m=18-age\n",
    "    print(f'Teks palaukti dar {m} metus')"
   ]
  },
  {
   "cell_type": "code",
   "execution_count": 85,
   "metadata": {},
   "outputs": [
    {
     "name": "stdout",
     "output_type": "stream",
     "text": [
      "Pažymys negali būti neigiamas, įveskite kitą skaičių.\n",
      "Lietuvoje yra 10 balų vertinimo sistema. Pažymys negali būti didesnis nei 10.\n",
      "Vidurkis yra: 3.33, žemiau 5. Teks kartoti kursą.\n"
     ]
    }
   ],
   "source": [
    "#Leiskite vartotojui suvesti norimą kiekį pažymių (pavyzdžiui,\n",
    "#jūs nusimatote 3-is kintamuosius, tai leidžiate padaryti 3\n",
    "#įvedimus). Raskite šių pažymių vidurkį. Patikrinkite ar\n",
    "#vidurkis teigiamas (daugiau arba lygu 5-iems), jei taip -\n",
    "#išveskite 'vidurkis teigiamas'.\n",
    "# Paprašykite vartotojo įvesti, kiek pažymių jis nori įvesti\n",
    "# Paprašykite vartotojo įvesti, kiek pažymių jis nori įvesti\n",
    "num_grades = int(input(\"Įveskite, kiek pažymių norite įvesti: \"))\n",
    "\n",
    "# Sukurkite tuščią sąrašą pažymiams saugoti\n",
    "grades = []\n",
    "\n",
    "# Leiskite vartotojui įvesti pažymius\n",
    "for i in range(num_grades):\n",
    "    while True:\n",
    "        grade = float(input(f\"Įveskite pažymį {i+1}: \"))\n",
    "        if grade < 0:\n",
    "            print('Pažymys negali būti neigiamas, įveskite kitą skaičių.')\n",
    "        elif grade > 10:\n",
    "            print('Lietuvoje yra 10 balų vertinimo sistema. Pažymys negali būti didesnis nei 10.')\n",
    "        else:\n",
    "            grades.append(grade)\n",
    "            break  # išeiname iš ciklo, kai įvestas pažymys yra tinkamas\n",
    "\n",
    "# Apskaičiuokite pažymių vidurkį\n",
    "average = sum(grades) / len(grades)\n",
    "\n",
    "# Patikrinkite, ar vidurkis yra teigiamas\n",
    "if average >= 5:\n",
    "    print(f'Vidurkis yra teigiamas: {average:.2f}')\n",
    "else:\n",
    "    print(f'Vidurkis yra: {average:.2f}, žemiau 5. Teks kartoti kursą.')"
   ]
  },
  {
   "cell_type": "code",
   "execution_count": 88,
   "metadata": {},
   "outputs": [
    {
     "name": "stdout",
     "output_type": "stream",
     "text": [
      "Skaičius dalinasi iš 5, daugybos lentelė:\n",
      "70 * 1 = 70\n",
      "70 * 2 = 140\n",
      "70 * 3 = 210\n",
      "70 * 4 = 280\n",
      "70 * 5 = 350\n",
      "a = 70, a*a = 4900, a/2 = 35.0\n"
     ]
    }
   ],
   "source": [
    "#Susikurkite skaičiaus kintamąjį arba leiskite šį skaičių įvesti vartotojui.\n",
    "#Atlikite šiuos patikrinimus ir veiksmus:\n",
    "#1. Jei skaičius dalinasi iš 5, tuomet išveskite šio skaičiaus\n",
    "#daugybos lentelę nuo 1 iki 5.\n",
    "#2. Jei skaičius lyginis, tuomet išveskite šį skaičių, jo kvadratą ir\n",
    "#jį padalintą iš 2.\n",
    "#3. Jei skaičius nesidalina iš 7, tuomet susikurkite antrąjį\n",
    "#kintamąjį, išveskite šio skaičiaus ir 7-to sumą, skirtumą,\n",
    "#sandaugą.\n",
    "a = int(input(\"Įvesk skaičių a: \"))\n",
    "\n",
    "# Patikriname, ar skaičius dalinasi iš 5\n",
    "if a % 5 == 0:\n",
    "    print(\"Skaičius dalinasi iš 5, daugybos lentelė:\")\n",
    "    for i in range(1, 6):  # nuo 1 iki 5 imtinai\n",
    "        print(f'{a} * {i} = {a * i}')\n",
    "\n",
    "# Patikriname, ar skaičius yra lyginis\n",
    "if a % 2 == 0:\n",
    "    print(f'a = {a}, a*a = {a ** 2}, a/2 = {a / 2}')\n",
    "\n",
    "# Patikriname, ar skaičius nesidalina iš 7\n",
    "if a % 7 != 0:\n",
    "    b = int(input(\"Skaičius nesidalina iš 7, įveskite kitą skaičių b: \"))\n",
    "    print(f'Skaičiaus {b} ir 7 suma = {b + 7}')\n",
    "    print(f'Skaičiaus {b} ir 7 skirtumas = {b - 7}')\n",
    "    print(f'Skaičiaus {b} ir 7 sandauga = {b * 7}')"
   ]
  },
  {
   "cell_type": "code",
   "execution_count": 4,
   "metadata": {},
   "outputs": [
    {
     "name": "stdout",
     "output_type": "stream",
     "text": [
      "ivesti skaiciai: -5.0 ir 4.0\n",
      "4.0 > -5.0\n"
     ]
    }
   ],
   "source": [
    "#Parašyti programą, kuri paklaustų dviejų skaičių, ir juos\n",
    "#palygintų.\n",
    "txt = input(\"Įvesk du skaicius per kableli: \")\n",
    "txt_split = txt.split(',')\n",
    "a = float(txt_split[0])\n",
    "b = float(txt_split[1])\n",
    "print(f'ivesti skaiciai: {a} ir {b}')\n",
    "if a > b:\n",
    "    print(f'{a} > {b}')\n",
    "else:\n",
    "    print(f'{b} > {a}')"
   ]
  },
  {
   "cell_type": "code",
   "execution_count": 5,
   "metadata": {},
   "outputs": [
    {
     "name": "stdout",
     "output_type": "stream",
     "text": [
      "Tekstas \"Jau saulele budino svieta\" nėra sakinyje.\n"
     ]
    }
   ],
   "source": [
    "#Paklausti teksto, ir patikrinti, ar tas tekstas yra sakinyje\n",
    "#\"Vilnius yra UNESCO paveldas nuo 1996 metų.\"\n",
    "sakinys = \"Vilnius yra UNESCO paveldas nuo 1996 metų.\"\n",
    "\n",
    "# Paprašome vartotojo įvesti tekstą\n",
    "tekstas = input(\"Įvesk tekstą: \")\n",
    "\n",
    "# Patikriname, ar įvestas tekstas yra sakinyje\n",
    "if tekstas in sakinys:\n",
    "    print(f'Tekstas \"{tekstas}\" yra sakinyje.')\n",
    "else:\n",
    "    print(f'Tekstas \"{tekstas}\" nėra sakinyje.')"
   ]
  },
  {
   "cell_type": "code",
   "execution_count": 13,
   "metadata": {},
   "outputs": [
    {
     "name": "stdout",
     "output_type": "stream",
     "text": [
      "-6.6 yra  mazesnis uz 10\n"
     ]
    }
   ],
   "source": [
    "#Patikrinti įvestą skaičių, ar jis yra tarp 10 ir 20. Pavyzdžiui,\n",
    "#įvedus 15, turi spausdinti: \"15 yra tarp 10 ir 20\"\n",
    "skaicius=int(input(\"Ivekite skaiciu\"))\n",
    "if 10<a<20:\n",
    "    print(f'{skaicius} yra tarp 10 ir 20')\n",
    "elif a<10:\n",
    "    print(f'{skaicius} yra  mazesnis uz 10')\n",
    "else:\n",
    "    print(f'{skaicius} yra didesnis 20')\n",
    "    "
   ]
  },
  {
   "cell_type": "code",
   "execution_count": 15,
   "metadata": {},
   "outputs": [
    {
     "name": "stdout",
     "output_type": "stream",
     "text": [
      "6.6 yra nelyginis\n"
     ]
    }
   ],
   "source": [
    "#Patikrinti, ar vartotojo įvestas skaičius yra lyginis, ar ne.\n",
    "skaicius=float(input(\"Ivekite skaiciu\"))\n",
    "if skaicius%2==0:\n",
    "    print(f'{skaicius} yra lyginis')\n",
    "else:\n",
    "    print(f'{skaicius} yra nelyginis')"
   ]
  },
  {
   "cell_type": "code",
   "execution_count": 32,
   "metadata": {},
   "outputs": [
    {
     "name": "stdout",
     "output_type": "stream",
     "text": [
      "10,9,8,10,9\n",
      "Pažymių vidurkis yra 9.2\n",
      "Rezultatai puikūs\n"
     ]
    }
   ],
   "source": [
    "#Paprašykite vartotojo įvesti 5-is savo pažymius.\n",
    "#Paskaičiuokite pažymių vidurkį. Išveskite atsakymą\n",
    "txt = input(\"Įvesk penkis skaičius atskirtus kableliu: \")\n",
    "print(txt)\n",
    "txt_split = txt.split(',')\n",
    "\n",
    "# Patikriname, ar įvesti teisingas skaičius kiekis\n",
    "if len(txt_split) > 5:\n",
    "    print(\"Ivesta per daug skaiciu. Prašome įvesti lygiai penkis skaičius.\")\n",
    "elif len(txt_split)<5:\n",
    "    print(\"Ivesta per mazai skaiciu. Prašome įvesti lygiai penkis skaičius.\")\n",
    "else:\n",
    "    # Paverčiame sąrašo elementus į float\n",
    "    pazymiai = []\n",
    "    invalid_input = False#pradinėje stadijoje laikome įvestį kaip galiojančią. \n",
    "    #Tai yra pradinė reikšmė, kuri rodo, kad kol kas nebuvo aptikta jokių klaidų įvestyje.\n",
    "    for i in txt_split:\n",
    "        try:\n",
    "            pazymys = float(i)\n",
    "            if pazymys > 10:\n",
    "                print('Ivestas pažymis didesnis nei 10. Pakartokite ivedima.')\n",
    "                invalid_input = True# Rasta klaida ivestyje. Tolimesnis tikrinimas susitoja.\n",
    "                #iseinama is ciklo\n",
    "                break\n",
    "            elif pazymys < 1:\n",
    "                print('Ivestas pažymis mazesnis nei 1. Pakartokite ivedima.')\n",
    "                invalid_input = True\n",
    "            pazymiai.append(pazymys)\n",
    "        except ValueError:\n",
    "            print('Neteisingai įvestas skaičius. Pakartokite ivedima.')\n",
    "            invalid_input = True\n",
    "            break\n",
    "\n",
    "    # Jei visi įvesti pažymiai yra teisingi, skaičiuojame vidurkį\n",
    "    if not invalid_input:\n",
    "        vidurkis = sum(pazymiai) / len(pazymiai)\n",
    "        print(f'Pažymių vidurkis yra {vidurkis:.1f}')\n",
    "\n",
    "        # Įvertiname vidurkį\n",
    "        if vidurkis < 5:\n",
    "            print('Reikia pasitempti, nes gali palikti kitiems metams')\n",
    "        elif 5 <= vidurkis < 7:\n",
    "            print('Rezultatai vidutiniški')\n",
    "        else:\n",
    "            print('Rezultatai puikūs')"
   ]
  },
  {
   "cell_type": "code",
   "execution_count": 17,
   "metadata": {},
   "outputs": [
    {
     "name": "stdout",
     "output_type": "stream",
     "text": [
      "File does not exist: C:\\Users\\eleta\\OneDrive\\Desktop\\Mokslai\\PNGJUngimuiC:\\Users\\eleta\\OneDrive\\Desktop\\Mokslai\\DataScienceNotebooks\\Studentai\\EleTame\\AnotherImage.png\n",
      "Some images could not be loaded.\n"
     ]
    }
   ],
   "source": [
    "import os\n",
    "from PIL import Image\n",
    "\n",
    "# File paths\n",
    "images = [\n",
    "    r'C:\\Users\\eleta\\OneDrive\\Desktop\\Mokslai\\PNGJUngimui'\n",
    "    r'C:\\Users\\eleta\\OneDrive\\Desktop\\Mokslai\\DataScienceNotebooks\\Studentai\\EleTame\\AnotherImage.png'\n",
    "]\n",
    "\n",
    "# Verify and open images\n",
    "imgs = []\n",
    "for img_path in images:\n",
    "    if os.path.exists(img_path):\n",
    "        imgs.append(Image.open(img_path))\n",
    "    else:\n",
    "        print(f\"File does not exist: {img_path}\")\n",
    "\n",
    "# Check if images are successfully loaded\n",
    "if len(imgs) == len(images):\n",
    "    # Calculate the width and height of the combined image\n",
    "    total_width = sum(img.width for img in imgs)\n",
    "    max_height = max(img.height for img in imgs)\n",
    "\n",
    "    # Create a new image with the appropriate size\n",
    "    combined_image = Image.new(\"RGBA\", (total_width, max_height))\n",
    "\n",
    "    # Paste images side by side\n",
    "    x_offset = 0\n",
    "    for img in imgs:\n",
    "        combined_image.paste(img, (x_offset, 0))\n",
    "        x_offset += img.width\n",
    "\n",
    "    # Save the combined image\n",
    "    combined_image.save(r'C:\\Users\\eleta\\OneDrive\\Desktop\\Mokslai\\DataScienceNotebooks\\Studentai\\EleTame\\combined_image.png')\n",
    "    print(\"Combined image saved successfully.\")\n",
    "else:\n",
    "    print(\"Some images could not be loaded.\")"
   ]
  },
  {
   "cell_type": "code",
   "execution_count": 20,
   "metadata": {},
   "outputs": [
    {
     "name": "stdout",
     "output_type": "stream",
     "text": [
      "File does not exist.\n"
     ]
    }
   ],
   "source": [
    "import os\n",
    "\n",
    "file_path = r'C:\\Users\\eleta\\OneDrive\\Desktop\\Mokslai\\PNGJUngimui\\*.png'\n",
    "if os.path.exists(file_path):\n",
    "    print(\"File exists.\")\n",
    "else:\n",
    "    print(\"File does not exist.\")\n",
    "    "
   ]
  }
 ],
 "metadata": {
  "kernelspec": {
   "display_name": "Python 3",
   "language": "python",
   "name": "python3"
  },
  "language_info": {
   "codemirror_mode": {
    "name": "ipython",
    "version": 3
   },
   "file_extension": ".py",
   "mimetype": "text/x-python",
   "name": "python",
   "nbconvert_exporter": "python",
   "pygments_lexer": "ipython3",
   "version": "3.12.4"
  }
 },
 "nbformat": 4,
 "nbformat_minor": 2
}
