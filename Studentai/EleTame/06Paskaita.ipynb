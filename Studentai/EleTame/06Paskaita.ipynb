{
 "cells": [
  {
   "cell_type": "code",
   "execution_count": 1,
   "metadata": {},
   "outputs": [
    {
     "name": "stdout",
     "output_type": "stream",
     "text": [
      "Naudokite 'a' arba 'g'\n"
     ]
    }
   ],
   "source": [
    "#Parašykite funkciją, kuri suskaičiuotų aritmetinį arba\n",
    "#geometrinį vidurkį iš pateiktų skaičių. Pateikiamų skaičių\n",
    "#kiekis neapibrėžtas. Panaudokite raktažodžius, kad\n",
    "#nurodytumėte, kokį vidurkį reikia apskaičiuoti.\n",
    "#NESUVEIKIA. Deklaruotas argumentas turi b8ti f-jos gale\n",
    "def vidurkiai(arg='a', *arg2):\n",
    "    if arg == 'a':\n",
    "        return sum(arg2) / len(arg2)\n",
    "    elif arg == 'g':\n",
    "        s = 1\n",
    "        for i in arg2:\n",
    "            s = s * i\n",
    "        return s ** (1 / len(arg2))\n",
    "    else:\n",
    "        return \"Naudokite 'a' arba 'g'\"\n",
    "    \n",
    "print(vidurkiai(1,2,3,4,5))\n",
    "#print(vidurkiai(arg='g',(1,2,3,4,5))\n",
    "#print(vidurkiai(arg='a',1,2,3,4,5)"
   ]
  },
  {
   "cell_type": "code",
   "execution_count": 11,
   "metadata": {},
   "outputs": [
    {
     "name": "stdout",
     "output_type": "stream",
     "text": [
      "3.0\n",
      "3.0\n",
      "2.605171084697352\n",
      "Naudokite 'a' arba 'g'\n"
     ]
    }
   ],
   "source": [
    "#Parašykite funkciją, kuri suskaičiuotų aritmetinį arba\n",
    "#geometrinį vidurkį iš pateiktų skaičių. Pateikiamų skaičių\n",
    "#kiekis neapibrėžtas. Panaudokite raktažodžius, kad\n",
    "#nurodytumėte, kokį vidurkį reikia apskaičiuoti.\n",
    "def vidurkiai(*arg2, arg='a'):\n",
    "    if arg == 'a':\n",
    "        return sum(arg2) / len(arg2)\n",
    "    elif arg == 'g':\n",
    "        s = 1\n",
    "        for i in arg2:\n",
    "            s = s * i\n",
    "        return s ** (1/len(arg2))\n",
    "    else:\n",
    "        return \"Naudokite 'a' arba 'g'\"\n",
    "    \n",
    "print(vidurkiai(1,2,3,4,5))\n",
    "print(vidurkiai(1,2,3,4,5,arg='a'))\n",
    "print(vidurkiai(1,2,3,4,5,arg=\"g\"))\n",
    "print(vidurkiai(1,2,3,4,5,arg=\"h\"))"
   ]
  },
  {
   "cell_type": "code",
   "execution_count": 125,
   "metadata": {},
   "outputs": [
    {
     "name": "stdout",
     "output_type": "stream",
     "text": [
      "10.0\n"
     ]
    }
   ],
   "source": [
    "#Parašykite funkciją, kuri galėtų ištraukti nurodyto laipsnio\n",
    "#šaknį iš nurodyto skaičiaus. Su assert užtikrinkite, jog jei\n",
    "#nurodoma lyginio laipsnio šaknis, tai skaičius (iš kurio\n",
    "#traukiama šaknis) turi būti teigiamas, kitu atveju rodykite\n",
    "#AssertionError klaidą.\n",
    "def saknies_traukimas(number,degree):\n",
    "    assert number>0 or degree % 2 ==1,'Arba lyginis laipsnis, arba nelyginis skaicius'\n",
    "    return round(abs(number**(1/degree)),2)*abs(degree)/degree\n",
    "print(saknies_traukimas(100,2))"
   ]
  },
  {
   "cell_type": "code",
   "execution_count": 96,
   "metadata": {},
   "outputs": [
    {
     "name": "stdout",
     "output_type": "stream",
     "text": [
      "[29, 34, 24, 8, 15, 23, 38, 40, 47, 3, 47, 26, 14, 30, 28, 5, 3, 10, 21, 31]\n",
      "[1, 'Lyginis', 27]\n"
     ]
    }
   ],
   "source": [
    "import random\n",
    "r = [random.randint(1,47) for i in range(20)]\n",
    "print(r)\n",
    "#Sugeneruoti sąrašą, kur vieto lyginių skaičių būtų žodis 'Lyginis', \n",
    "#o vietoj nelyginių - tas pats nelyginis, pakeltas kubu.\n",
    "def transformuoti_sarasa(skaiciai):\n",
    "        if skaiciai % 2 == 0:\n",
    "            return 'Lyginis'\n",
    "        else:\n",
    "            return skaiciai**3\n",
    "ats=list(map(transformuoti_sarasa, skaiciai)) \n",
    "print(ats)"
   ]
  },
  {
   "cell_type": "code",
   "execution_count": 5,
   "metadata": {},
   "outputs": [
    {
     "name": "stdout",
     "output_type": "stream",
     "text": [
      "[33, 46, 6, 45, 45, 7, 11, 22, 20, 13, 6, 46, 44, 45, 43, 24, 10, 14, 30, 4]\n",
      "[35937, 'Lyginis', 'Lyginis', 91125, 91125, 343, 1331, 'Lyginis', 'Lyginis', 2197, 'Lyginis', 'Lyginis', 'Lyginis', 91125, 79507, 'Lyginis', 'Lyginis', 'Lyginis', 'Lyginis', 'Lyginis']\n"
     ]
    }
   ],
   "source": [
    "import random\n",
    "r = [random.randint(1,47) for i in range(20)]\n",
    "print(r)\n",
    "#Sugeneruoti sąrašą, kur vieto lyginių skaičių būtų žodis 'Lyginis', \n",
    "#o vietoj nelyginių - tas pats nelyginis, pakeltas kubu.\n",
    "ats=list(map(lambda x: 'Lyginis' if x%2==0 else x**3,r)) \n",
    "print(ats)"
   ]
  },
  {
   "cell_type": "code",
   "execution_count": 127,
   "metadata": {},
   "outputs": [
    {
     "name": "stdout",
     "output_type": "stream",
     "text": [
      "[8, 27, 47, 26, 8, 25, 6, 44, 8, 25, 21, 24, 44, 20, 26, 7, 31, 31, 40, 42]\n",
      "[8, 'FizzBuzz', 47, 26, 8, 'Buzz', 'FizzBuzz', 44, 8, 'Buzz', 'FizzBuzz', 'FizzBuzz', 44, 'Buzz', 26, 7, 31, 31, 'Buzz', 'FizzBuzz']\n"
     ]
    }
   ],
   "source": [
    "import random\n",
    "r = [random.randint(1,47) for i in range(20)]\n",
    "print(r)\n",
    "#Sugeneruokite naują sąrašą, kuriame būtų vietoj skaičių žodžiai\n",
    "# Fizz, Buzz, FizzBuzz arba pats skaičius, pagal FizzBuzz užduoties sąlygas \n",
    "# (dalus iš 3jų, 5kių, iš 3jų ir iš 5kių, nedalus)\n",
    "def transformuoti_sarasa_2(x):\n",
    "        if x % 3 == 0 and x % 5:\n",
    "            return \"FizzBuzz\"\n",
    "        elif x % 3 == 0:\n",
    "            return \"Fizz\"\n",
    "        elif x % 5 == 0:\n",
    "          return \"Buzz\"\n",
    "        else:\n",
    "          return x\n",
    "ats=list(map(transformuoti_sarasa_2,r)) \n",
    "print(ats)  \n",
    "            "
   ]
  },
  {
   "cell_type": "code",
   "execution_count": 7,
   "metadata": {},
   "outputs": [
    {
     "name": "stdout",
     "output_type": "stream",
     "text": [
      "[13, 17, 7, 4, 26, 21, 18, 17, 24, 14, 18, 33, 5, 27, 36, 7, 39, 29, 37, 4]\n",
      "[13, 17, 7, 4, 26, 'Buzz', 'Buzz', 17, 'Buzz', 14, 'Buzz', 'Buzz', 'Fizz', 'Buzz', 'Buzz', 7, 'Buzz', 29, 37, 4]\n"
     ]
    }
   ],
   "source": [
    "import random\n",
    "r = [random.randint(1,47) for i in range(20)]\n",
    "print(r)\n",
    "#Sugeneruokite naują sąrašą, kuriame būtų vietoj skaičių žodžiai\n",
    "# Fizz, Buzz, FizzBuzz arba pats skaičius, pagal FizzBuzz užduoties sąlygas \n",
    "# (dalus iš 3jų, 5kių, iš 3jų ir iš 5kių, nedalus)\n",
    "ats=list(map(lambda x: 'FizzBuz' if x%3==0 and x%5==0 else 'Buzz' if x%3==0 else 'Fizz' if x%5==0 else x,r)) \n",
    "print(ats)"
   ]
  },
  {
   "cell_type": "code",
   "execution_count": null,
   "metadata": {},
   "outputs": [],
   "source": [
    "r = [random.randint(1,47) for i in range(20)]\n",
    "\n",
    "def f(x):\n",
    "    if x %3 == 0 and x%5 == 0:\n",
    "        return 'FizzBuzz'\n",
    "    elif x %3 == 0:\n",
    "        return 'Fizz'\n",
    "    elif x %5 == 0:\n",
    "        return 'Buzz'\n",
    "    else:\n",
    "        return x\n",
    "    \n",
    "ats = list(map(f,r))\n",
    "print(ats)"
   ]
  },
  {
   "cell_type": "code",
   "execution_count": 21,
   "metadata": {},
   "outputs": [
    {
     "name": "stdout",
     "output_type": "stream",
     "text": [
      "ats= [0.25, 0.5, 0.75, 1.0, 1.25, 1.5, 1.75, 2.0, 2.25, 2.5]\n",
      "ats1= [4, 8, 12, 16, 20, 24, 28, 32, 36, 40]\n",
      "ats2= [-0.075, -0.15, -0.22499999999999998, -0.3, -0.375, -0.44999999999999996, -0.525, -0.6, -0.6749999999999999, -0.75]\n"
     ]
    }
   ],
   "source": [
    "l = [*range(1,11)]\n",
    "#Paklauskite vartotojo skaičiaus, ir sugenerukite tris sąrašus: \n",
    "# l padalintas iš skaičiuaus, padaugintas iš skaičiaus,\n",
    "# ir (l-0.3)/skaičius\n",
    "r=int(input(\"Irasyk skaiciu\"))\n",
    "def f(x):\n",
    "    ats=list(map(lambda x:x/r, l))\n",
    "    print (\"ats=\",ats)\n",
    "def f1(x):\n",
    "    ats1=list(map(lambda x:x*r, l))\n",
    "    print (\"ats1=\",ats1)\n",
    "def f2(x):\n",
    "    ats2=list(map(lambda x:(x*-0.3)/r, l))\n",
    "    print (\"ats2=\",ats2)\n",
    "f(r)\n",
    "f1(r)\n",
    "f2(r)"
   ]
  },
  {
   "cell_type": "code",
   "execution_count": 25,
   "metadata": {},
   "outputs": [
    {
     "name": "stdout",
     "output_type": "stream",
     "text": [
      "[1, 2, 3, 4, 5, 6, 7, 8, 9, 10]\n",
      "[0.25, 0.5, 0.75, 1.0, 1.25, 1.5, 1.75, 2.0, 2.25, 2.5]\n",
      "[4, 8, 12, 16, 20, 24, 28, 32, 36, 40]\n",
      "[0.175, 0.425, 0.675, 0.925, 1.175, 1.425, 1.675, 1.925, 2.175, 2.425]\n"
     ]
    }
   ],
   "source": [
    "l = [*range(1,11)]\n",
    "print(l)\n",
    "#Paklauskite vartotojo skaičiaus, ir sugenerukite tris sąrašus: \n",
    "# l padalintas iš skaičiuaus, padaugintas iš skaičiaus,\n",
    "# ir (l-0.3)/skaičius\n",
    "r=int(input(\"Irasyk skaiciu\"))\n",
    "ats=list(map(lambda x:x/r, l))\n",
    "print (ats)\n",
    "ats1=list(map(lambda x:x*r, l))\n",
    "print (ats1)\n",
    "ats2=list(map(lambda x:(x-0.3)/r, l))\n",
    "print (ats2)\n"
   ]
  }
 ],
 "metadata": {
  "kernelspec": {
   "display_name": "Python 3",
   "language": "python",
   "name": "python3"
  },
  "language_info": {
   "codemirror_mode": {
    "name": "ipython",
    "version": 3
   },
   "file_extension": ".py",
   "mimetype": "text/x-python",
   "name": "python",
   "nbconvert_exporter": "python",
   "pygments_lexer": "ipython3",
   "version": "3.12.4"
  }
 },
 "nbformat": 4,
 "nbformat_minor": 2
}
