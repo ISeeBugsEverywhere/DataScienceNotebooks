{
 "cells": [
  {
   "cell_type": "code",
   "execution_count": null,
   "metadata": {},
   "outputs": [],
   "source": [
    "#  sie du kodai yra naudotini tik tada, jei turite savo apsirasytu funkciju isoriniame (.py) faile"
   ]
  },
  {
   "cell_type": "code",
   "execution_count": 1,
   "metadata": {},
   "outputs": [],
   "source": [
    "%reload_ext autoreload\n",
    "%autoreload 2"
   ]
  },
  {
   "cell_type": "code",
   "execution_count": 2,
   "metadata": {},
   "outputs": [
    {
     "name": "stdout",
     "output_type": "stream",
     "text": [
      "Defaulting to user installation because normal site-packages is not writeable\n",
      "Collecting mysql-connector-python==8.0.29\n",
      "  Downloading mysql_connector_python-8.0.29-py2.py3-none-any.whl.metadata (1.7 kB)\n",
      "Collecting protobuf>=3.0.0 (from mysql-connector-python==8.0.29)\n",
      "  Downloading protobuf-5.27.3-cp310-abi3-win_amd64.whl.metadata (592 bytes)\n",
      "Downloading mysql_connector_python-8.0.29-py2.py3-none-any.whl (342 kB)\n",
      "Downloading protobuf-5.27.3-cp310-abi3-win_amd64.whl (426 kB)\n",
      "Installing collected packages: protobuf, mysql-connector-python\n",
      "Successfully installed mysql-connector-python-8.0.29 protobuf-5.27.3\n",
      "Note: you may need to restart the kernel to use updated packages.\n"
     ]
    }
   ],
   "source": [
    "# pip install mysql-connector-python==8.0.29"
   ]
  },
  {
   "cell_type": "code",
   "execution_count": 3,
   "metadata": {},
   "outputs": [],
   "source": [
    "import numpy as np\n",
    "import matplotlib.pyplot as plt\n",
    "import mysql.connector as cnt\n",
    "\n",
    "# nuosavu funkciju importavimas:\n",
    "from manofunkcijos import *"
   ]
  },
  {
   "cell_type": "code",
   "execution_count": 6,
   "metadata": {},
   "outputs": [],
   "source": [
    "DB = cnt.connect(\n",
    "    host='88.223.121.130',\n",
    "    user='user',\n",
    "    password='slaptazodis',\n",
    "    port=3306,\n",
    "    database='works'\n",
    ")\n",
    "C = DB.cursor()\n"
   ]
  },
  {
   "cell_type": "code",
   "execution_count": null,
   "metadata": {},
   "outputs": [],
   "source": [
    "#sql užklausos vykdymas per mysql/mariadb kursorių\n",
    "sql=\"\"\"paste SQL command here!\"\"\"\n",
    "C.execute(sql)\n",
    "ans = C.fetchall()\n",
    "? = list(map(list, zip(*ans)))\n",
    "#? = np.transpose(ans)"
   ]
  },
  {
   "cell_type": "code",
   "execution_count": 7,
   "metadata": {},
   "outputs": [],
   "source": [
    "#sql užklausos vykdymas per mysql/mariadb kursorių\n",
    "sql=\"\"\"select count(*) as Kiekis, count(*)/(select count(*) from sa)*100 as `Rinkos dalis`,\n",
    "case \n",
    "when device_brand in (select * from(select brand from\n",
    "(select count(*) as kiekis, device_brand as brand  from sa where device_brand<>'' group by device_brand) as D\n",
    "order by kiekis desc limit 5)as f) then device_brand\n",
    "else 'Other'\n",
    "end as Brand from sa\n",
    "group by Brand\n",
    "order by kiekis desc;\"\"\"\n",
    "C.execute(sql)\n",
    "ans = C.fetchall()\n",
    "kiekiai, dalis, gamintojai = list(map(list, zip(*ans)))\n",
    "#? = np.transpose(ans)"
   ]
  },
  {
   "cell_type": "code",
   "execution_count": 10,
   "metadata": {},
   "outputs": [
    {
     "name": "stdout",
     "output_type": "stream",
     "text": [
      "Rodoma 5 eilutės iš 6\n",
      "|      36290       |     30.4927      |     Samsung      |\n",
      "|      35186       |     29.5651      |      Nokia       |\n",
      "|      31091       |     26.1243      |      Other       |\n",
      "|       7161       |      6.0170      |    BlackBerry    |\n",
      "|       5194       |      4.3643      |        LG        |\n",
      "|       4090       |      3.4366      |   SonyEricsson   |\n"
     ]
    }
   ],
   "source": [
    "pout(ans)"
   ]
  },
  {
   "cell_type": "code",
   "execution_count": 11,
   "metadata": {},
   "outputs": [
    {
     "name": "stdout",
     "output_type": "stream",
     "text": [
      "['Samsung', 'Nokia', 'Other', 'BlackBerry', 'LG', 'SonyEricsson']\n"
     ]
    }
   ],
   "source": [
    "print(gamintojai)"
   ]
  }
 ],
 "metadata": {
  "kernelspec": {
   "display_name": "Python 3",
   "language": "python",
   "name": "python3"
  },
  "language_info": {
   "codemirror_mode": {
    "name": "ipython",
    "version": 3
   },
   "file_extension": ".py",
   "mimetype": "text/x-python",
   "name": "python",
   "nbconvert_exporter": "python",
   "pygments_lexer": "ipython3",
   "version": "3.12.4"
  }
 },
 "nbformat": 4,
 "nbformat_minor": 2
}
