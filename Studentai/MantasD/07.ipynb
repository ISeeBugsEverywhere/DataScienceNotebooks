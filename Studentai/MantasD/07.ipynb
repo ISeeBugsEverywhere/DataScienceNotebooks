{
 "cells": [
  {
   "cell_type": "code",
   "execution_count": 4,
   "metadata": {},
   "outputs": [
    {
     "name": "stdout",
     "output_type": "stream",
     "text": [
      "[0, 3, 6, 9, 12, 15, 18, 21, 24, 27, 30]\n"
     ]
    }
   ],
   "source": [
    "c = []\n",
    "for i in range(0,11):\n",
    "    c.append(i*3)\n",
    "print(c)"
   ]
  },
  {
   "cell_type": "code",
   "execution_count": 3,
   "metadata": {},
   "outputs": [
    {
     "name": "stdout",
     "output_type": "stream",
     "text": [
      "[0, 3, 6, 9, 12, 15, 18, 21, 24, 27, 30]\n"
     ]
    }
   ],
   "source": [
    "a = [i*3 for i in range(0,11)]\n",
    "print(a)"
   ]
  },
  {
   "cell_type": "code",
   "execution_count": 5,
   "metadata": {},
   "outputs": [
    {
     "name": "stdout",
     "output_type": "stream",
     "text": [
      "['L', 'A', 'B', 'A', 'S']\n"
     ]
    }
   ],
   "source": [
    "b = [i.upper() for i in \"Labas\"]\n",
    "print(b)"
   ]
  },
  {
   "cell_type": "code",
   "execution_count": 6,
   "metadata": {},
   "outputs": [
    {
     "name": "stdout",
     "output_type": "stream",
     "text": [
      "[2, 4, 6, 8, 10, 12, 14, 16, 18, 20]\n"
     ]
    }
   ],
   "source": [
    "c = [i for i in range(1,21) if i%2==0]\n",
    "print(c)\n",
    "# lyginiai skaiciai"
   ]
  },
  {
   "cell_type": "code",
   "execution_count": 7,
   "metadata": {},
   "outputs": [
    {
     "name": "stdout",
     "output_type": "stream",
     "text": [
      "['Lyginis', 3, 'Lyginis', 9, 'Lyginis', 15, 'Lyginis', 21, 'Lyginis', 27, 'Lyginis', 33, 'Lyginis', 39, 'Lyginis', 45, 'Lyginis', 51, 'Lyginis', 57]\n"
     ]
    }
   ],
   "source": [
    "d = ['Lyginis' if i % 2 == 0 else i*3 for i in range(20)]\n",
    "print(d)"
   ]
  },
  {
   "cell_type": "code",
   "execution_count": 10,
   "metadata": {},
   "outputs": [
    {
     "name": "stdout",
     "output_type": "stream",
     "text": [
      "['Apvalus', 'Vienas', 'DU', 'Apvalus', 'Vienas', 'DU', 'Apvalus', 'Vienas', 'DU', 'Apvalus', 'Vienas', 'DU', 'Apvalus', 'Vienas', 'DU', 'Apvalus', 'Vienas', 'DU', 'Apvalus', 'Vienas']\n"
     ]
    }
   ],
   "source": [
    "d = ['Apvalus' if i % 3 == 0 else 'Vienas' if i % 3 == 1 else 'DU' for i in range(20)]\n",
    "print(d)"
   ]
  },
  {
   "cell_type": "code",
   "execution_count": 14,
   "metadata": {},
   "outputs": [
    {
     "name": "stdout",
     "output_type": "stream",
     "text": [
      "[0, 1, 4, 9, 16, 25, 36, 49, 64, 81, 100, 121, 144, 169, 196, 225, 256, 289, 324, 361]\n",
      "[0, 1, 4, 27, 16, 125, 36, 343, 64, 729]\n"
     ]
    }
   ],
   "source": [
    "def fn(x):\n",
    "    return x**2\n",
    "\n",
    "def fn3(x):\n",
    "    return x**3\n",
    "\n",
    "d = [fn(i) for i in range(20)]\n",
    "print(d)\n",
    "\n",
    "e = [fn(i) if i%2 == 0 else fn3(i) for i in range(10)]\n",
    "print(e)"
   ]
  },
  {
   "cell_type": "code",
   "execution_count": 21,
   "metadata": {},
   "outputs": [
    {
     "name": "stdout",
     "output_type": "stream",
     "text": [
      "[0, 1, 2, 3, 4, 5, 6, 7, 8, 9]\n",
      "[0, 10, 20, 30, 40, 50, 60, 70, 80, 90]\n"
     ]
    }
   ],
   "source": [
    "x = [*range(10)]\n",
    "print(x)\n",
    "# sukurkite naują sąrašą, kuriame x elemntai būtų pakdauginti iš jūsų įvesto skaičiaus\n",
    "g = int(input('skaicius'))\n",
    "s = [i * g for i in range(10)]\n",
    "print(s)"
   ]
  },
  {
   "cell_type": "code",
   "execution_count": 38,
   "metadata": {},
   "outputs": [
    {
     "name": "stdout",
     "output_type": "stream",
     "text": [
      "[19500.0, 2700.0, 13490.0, 14650.0, 38000.0, 1200.0, 8000.0, 11990.0, 16190.0, 16490.0]\n"
     ]
    }
   ],
   "source": [
    "w = ('19 500', '2 700', '13 490', '14 650', '38 000', '1 200', '8 000', '11 990', '16 190', '16 490')\n",
    "# sukurkite sąrašą, kuriame būtų duoti tekstai paversti į skaičius (float) tipo.\n",
    "c = []\n",
    "for i in w:\n",
    "    c.append(float(i.replace(' ','')))\n",
    "print(c)\n",
    "\n"
   ]
  },
  {
   "cell_type": "code",
   "execution_count": 46,
   "metadata": {},
   "outputs": [
    {
     "name": "stdout",
     "output_type": "stream",
     "text": [
      "['BMW', 'MIT', 'SEA', 'SKO', 'VOL', 'AUD', 'DAC', 'SKO', 'BMW', 'VOL']\n"
     ]
    }
   ],
   "source": [
    "w = ('BMW', 'Mitsubishi', 'Seat', 'Skoda', 'Volvo', 'Audi', 'Dacia', 'Skoda', 'BMW', 'Volkswagen')\n",
    "# sukurkite sąrašą, kur būtų pirmi 3 simboliai gamintojų, didžiosiomis raidėmis\n",
    "c = []\n",
    "for i in w:\n",
    "    c.append(i[0:3].upper())\n",
    "print(c)"
   ]
  },
  {
   "cell_type": "code",
   "execution_count": 105,
   "metadata": {},
   "outputs": [
    {
     "name": "stdout",
     "output_type": "stream",
     "text": [
      "['4999 cm³,', '2378 cm³,', '1598 cm³,', '1798 cm³,', '1969 cm³,', '1760 cm³,', '1461 cm³,', '1600 cm³,', '2000 cm³,', '1600 cm³,']\n",
      "['507 AG', '160 AG', '95 AG', '179 AG', '235 AG', '88 AG', '107 AG', '116 AG', '163 AG', '120 AG']\n",
      "['(373kW)', '(118kW)', '(70kW)', '(132kW)', '(173kW)', '(65kW)', '(79kW)', '(85kW)', '(120kW)', '(88kW)']\n"
     ]
    }
   ],
   "source": [
    "w = ('4999 cm³, 507 AG (373kW)', '2378 cm³, 160 AG (118kW)', '1598 cm³, 95 AG (70kW)', '1798 cm³, 179 AG (132kW)', '1969 cm³, 235 AG (173kW)', '1760 cm³, 88 AG (65kW)', '1461 cm³, 107 AG (79kW)', '1600 cm³, 116 AG (85kW)', '2000 cm³, 163 AG (120kW)', '1600 cm³, 120 AG (88kW)')\n",
    "# Atskirkite į tris sąrašus tūrį, AG ir kW.\n",
    "x = []\n",
    "c = []\n",
    "d = []\n",
    "e = []\n",
    "for i in w:\n",
    "    c.append(i.split()[0]+' '+i.split()[1]) \n",
    "    d.append(i.split()[2]+' '+i.split()[3])\n",
    "    e.append(i.split()[4]) \n",
    "    \n",
    "print(c)\n",
    "print(d)\n",
    "print(e)   \n",
    "\n",
    "    "
   ]
  },
  {
   "cell_type": "code",
   "execution_count": 93,
   "metadata": {},
   "outputs": [
    {
     "name": "stdout",
     "output_type": "stream",
     "text": [
      "[0, 1, 2, 3, 4, 5, 6, 7, 8, 9, 10, 11, 12, 13, 14, 15, 16, 17, 18]\n",
      "9.0\n"
     ]
    }
   ],
   "source": [
    "# parašykite funkciją, kuri grąžintų vidurkį, jei jūs jai nurodote skaičių sąrašą (list) arba eilutę (tuple)\n",
    "\n",
    "c = [*range(0,19)]\n",
    "print(c)\n",
    "def fn(x):\n",
    "    return sum(x)/len(x)\n",
    "print(fn(c))"
   ]
  },
  {
   "cell_type": "code",
   "execution_count": 100,
   "metadata": {},
   "outputs": [
    {
     "name": "stdout",
     "output_type": "stream",
     "text": [
      "['Liepos', '19', 'd.', 'UNESCO', 'pasaulio', 'paveldu', 'tapusiame', 'Kauno', 'modernizmo', 'architektūros', 'objekte', '–', 'Lietuvos', 'banko', 'Kauno', 'rūmuose', 'į', 'muzikos', 'meditaciją', 'pakvies', 'vokalinis', 'ansamblis', '„Duodeco“.', 'Pirmą', 'kartą', 'Pažaislio', 'muzikos', 'festivalis', 'rengia', 'koncertą', 'šioje', 'nepaprastoje', 'erdvėje,', 'kurioje', '2019', 'm.', 'suburtas', 'kolektyvas', 'festivalio', 'publikai', 'pristatys', 'muzikinę', 'programą', '„More', 'Sweet', 'Than', 'My', 'Refrain“.']\n",
      "[6, 2, 2, 6, 8, 7, 9, 5, 10, 13, 7, 1, 8, 5, 5, 7, 1, 7, 10, 7, 9, 9, 10, 5, 5, 9, 7, 10, 6, 8, 5, 12, 8, 7, 4, 2, 8, 10, 10, 8, 9, 8, 8, 5, 5, 4, 2, 9]\n"
     ]
    }
   ],
   "source": [
    "# 6)\n",
    "c = []\n",
    "t = '''Liepos 19 d. UNESCO pasaulio paveldu tapusiame Kauno modernizmo architektūros objekte – Lietuvos banko Kauno rūmuose į muzikos meditaciją pakvies vokalinis ansamblis „Duodeco“. Pirmą kartą Pažaislio muzikos festivalis rengia koncertą šioje nepaprastoje erdvėje, kurioje 2019 m. suburtas kolektyvas festivalio publikai pristatys muzikinę programą „More Sweet Than My Refrain“.'''\n",
    "# SUkurkite sąrašą, kuriame būtų šio teksto žodžių ilgiai.\n",
    "t = t.split()\n",
    "print(t)\n",
    "for i in t:\n",
    "    c.append(len(i))\n",
    "    \n",
    "print(c)"
   ]
  },
  {
   "cell_type": "code",
   "execution_count": 106,
   "metadata": {},
   "outputs": [
    {
     "name": "stdout",
     "output_type": "stream",
     "text": [
      "['Naktis', 'Diena', 'Vakaras', 'Diena', 'Naktis', 'Diena', 'Diena', 'Naktis', 'Naktis', 'Vakaras', 'Naktis', 'Diena', 'Naktis', 'Naktis', 'Diena', 'Diena', 'Vakaras', 'Vakaras', 'Diena', 'Naktis', 'Diena', 'Diena', 'Naktis', 'Naktis', 'Vakaras', 'Vakaras', 'Diena', 'Naktis', 'Vakaras', 'Diena', 'Vakaras', 'Naktis', 'Rytas', 'Naktis', 'Naktis', 'Naktis', 'Diena', 'Diena', 'Naktis', 'Diena', 'Diena', 'Diena', 'Vakaras', 'Vakaras', 'Naktis', 'Vakaras', 'Naktis', 'Diena', 'Naktis', 'Vakaras', 'Naktis', 'Rytas', 'Naktis', 'Vakaras', 'Diena', 'Naktis', 'Diena', 'Naktis', 'Vakaras', 'Rytas', 'Vakaras', 'Vakaras', 'Diena', 'Diena', 'Naktis', 'Vakaras', 'Diena', 'Rytas', 'Naktis', 'Diena', 'Naktis', 'Naktis']\n"
     ]
    }
   ],
   "source": [
    "# 7)\n",
    "fx = [23, 15, 19, 12, 4, 16, 17, 5, 2, 20, 3, 17, 22, 18, 11, 14, 21, 21, 11, 22, 16, 13, 4, 10, 21, 21, 11, 10, 21, 14, 19, 3, 7, 2, 22, 1, 17, 14, 23, 17, 15, 15, 19, 21, 10, 19, 4, 11, 22, 21, 4, 7, 5, 21, 12, 10, 15, 2, 21, 7, 19, 21, 15, 15, 5, 20, 14, 9, 5, 11, 4, 5]\n",
    "# Parašykite kodą, kuris sugeneruotų sąrašą, su žodžiais 'Rytas', jei skaičius fx sąraše yra tarp 6 ir 10, diena, jei tarp 10 ir 18, vakaras jei tarp 18 ir 22, ir naktis kitais atvejais.\n",
    "c = ['Rytas' if i > 6 and i < 10 else 'Diena' if i > 10 and i < 18 else 'Vakaras' if i > 18 and i < 22 else 'Naktis' for i in fx]\n",
    "print(c)"
   ]
  },
  {
   "cell_type": "code",
   "execution_count": 157,
   "metadata": {},
   "outputs": [
    {
     "name": "stdout",
     "output_type": "stream",
     "text": [
      "|        BMW         |     253 000 km     |       19 500       |4999 cm³, 507 AG (373kW)|      Benzinas      |\n",
      "|     Mitsubishi     |     195 405 km     |       2 700        |2378 cm³, 160 AG (118kW)|      Benzinas      |\n",
      "|        Seat        |     129 800 km     |       13 490       | 1598 cm³, 95 AG (70kW) |     Dyzelinas      |\n",
      "|       Skoda        |     183 000 km     |       14 650       |1798 cm³, 179 AG (132kW)|      Benzinas      |\n",
      "|       Volvo        |     127 896 km     |       38 000       |1969 cm³, 235 AG (173kW)|     Dyzelinas      |\n",
      "\n"
     ]
    }
   ],
   "source": [
    "# 8)\n",
    "duomenys = [('BMW', '253 000 km', '19 500', '4999 cm³, 507 AG (373kW)', 'Benzinas'), ('Mitsubishi', '195 405 km', '2 700', '2378 cm³, 160 AG (118kW)', 'Benzinas'), ('Seat', '129 800 km', '13 490', '1598 cm³, 95 AG (70kW)', 'Dyzelinas'), ('Skoda', '183 000 km', '14 650', '1798 cm³, 179 AG (132kW)', 'Benzinas'), ('Volvo', '127 896 km', '38 000', '1969 cm³, 235 AG (173kW)', 'Dyzelinas')]\n",
    "# parašyti funkciją, kuri juos spausdintų tokiu vaizdu:\n",
    "a=''\n",
    "for i in duomenys:\n",
    "    a = a +'|' + f'{i[0]:^20}' + '|' + f'{i[1]:^20}' + '|' + f'{i[2]:^20}' + '|' + f'{i[3]:^24}' + '|' + f'{i[4]:^20}' + '|' '\\n'\n",
    "print(a)"
   ]
  },
  {
   "cell_type": "code",
   "execution_count": 153,
   "metadata": {},
   "outputs": [
    {
     "name": "stdout",
     "output_type": "stream",
     "text": [
      "None\n"
     ]
    }
   ],
   "source": [
    "# 9)\n",
    "# parašykite funkcjas suma(), skirtumas(), sandauga(), dalyba(), kurioms jūs galėtumėte nurodyti skaičių sąrašą x, ir vieną sakičių d, \n",
    "# ir tos funkcijos grąžintų naują sąrašą, su skaičiais iš x sąrašo su atitinkmai atliktu veiksmu - pridėtu d, atimtu d, padaugintu iš d.\n",
    "c=[]\n",
    "def suma(x, d):\n",
    "    for i in x:\n",
    "        return c.append(int(i)+d)\n",
    "\n",
    "    \n",
    "print(suma([1,2,3],2))\n",
    "\n",
    "#     veiksmai, kad gautumėte naują sąrašą kur x+d\n",
    "#     return naujas sąrašas\n"
   ]
  },
  {
   "cell_type": "code",
   "execution_count": 160,
   "metadata": {},
   "outputs": [
    {
     "data": {
      "text/plain": [
       "5"
      ]
     },
     "execution_count": 160,
     "metadata": {},
     "output_type": "execute_result"
    }
   ],
   "source": [
    "def fn(x):\n",
    "    '''\n",
    "    \n",
    "    FN funkcija moka pasiimti\n",
    "    \n",
    "    x grazina ta pati x\n",
    "    \n",
    "    '''\n",
    "    return(x)\n",
    "\n",
    "fn(5)"
   ]
  },
  {
   "cell_type": "code",
   "execution_count": null,
   "metadata": {},
   "outputs": [],
   "source": [
    "fn(5)"
   ]
  },
  {
   "cell_type": "code",
   "execution_count": 161,
   "metadata": {},
   "outputs": [
    {
     "name": "stdout",
     "output_type": "stream",
     "text": [
      "50\n",
      "50\n"
     ]
    }
   ],
   "source": [
    "# globalus ir lokalus kintamieji\n",
    "\n",
    "A = 50 # globalus\n",
    "\n",
    "def fn():\n",
    "    print(A)\n",
    "    \n",
    "fn()\n",
    "print(A)"
   ]
  },
  {
   "cell_type": "code",
   "execution_count": 162,
   "metadata": {},
   "outputs": [
    {
     "name": "stdout",
     "output_type": "stream",
     "text": [
      "42\n",
      "50\n"
     ]
    }
   ],
   "source": [
    "# globalus ir lokalus kintamieji\n",
    "\n",
    "A = 50 # globalus\n",
    "\n",
    "def fn():\n",
    "    A = 42 # lokalus ir nesusijes su globaliu A\n",
    "    print(A)\n",
    "    \n",
    "fn()\n",
    "print(A)"
   ]
  },
  {
   "cell_type": "code",
   "execution_count": 164,
   "metadata": {},
   "outputs": [
    {
     "name": "stdout",
     "output_type": "stream",
     "text": [
      "50\n",
      "50\n"
     ]
    }
   ],
   "source": [
    "# globalus ir lokalus kintamieji\n",
    "\n",
    "A = 50 # globalus\n",
    "\n",
    "def fn(A):\n",
    "    # A = 42 # lokalus ir nesusijes su globaliu A\n",
    "    print(A)\n",
    "    \n",
    "fn(A)\n",
    "print(A)"
   ]
  },
  {
   "cell_type": "code",
   "execution_count": 165,
   "metadata": {},
   "outputs": [
    {
     "name": "stdout",
     "output_type": "stream",
     "text": [
      "42\n",
      "50\n"
     ]
    }
   ],
   "source": [
    "# globalus ir lokalus kintamieji\n",
    "\n",
    "A = 50 # globalus\n",
    "\n",
    "def fn(A): # ir cia aprasytas A yra lokalus!\n",
    "    A = 42 # lokalus ir nesusijes su globaliu A\n",
    "    print(A)\n",
    "    \n",
    "fn(A)\n",
    "print(A)"
   ]
  },
  {
   "cell_type": "code",
   "execution_count": 166,
   "metadata": {},
   "outputs": [
    {
     "name": "stdout",
     "output_type": "stream",
     "text": [
      "42\n",
      "42\n"
     ]
    }
   ],
   "source": [
    "A = 50\n",
    "\n",
    "def fn():\n",
    "    global A\n",
    "    A = 42\n",
    "    print(A)\n",
    "    \n",
    "fn()\n",
    "print(A)"
   ]
  },
  {
   "cell_type": "code",
   "execution_count": 167,
   "metadata": {},
   "outputs": [],
   "source": [
    "failas = 'labas.txt'\n",
    "\n",
    "def openf(failas):\n",
    "    pass\n",
    "\n",
    "openf(failas=failas)"
   ]
  },
  {
   "cell_type": "code",
   "execution_count": null,
   "metadata": {},
   "outputs": [],
   "source": [
    "# darbas su tekstiniais failais"
   ]
  },
  {
   "cell_type": "code",
   "execution_count": 173,
   "metadata": {},
   "outputs": [
    {
     "name": "stdout",
     "output_type": "stream",
     "text": [
      "laba diena\n",
      "@@@@@43535356^&^*(&)(0-=)ČČČČČČČ\n",
      "4564656\n",
      "fsgsrgrg\n",
      "122415649\n"
     ]
    }
   ],
   "source": [
    "failo_vardas = 'f1.txt'\n",
    "\n",
    "failas = open(failo_vardas, mode = 'r', encoding='utf-8')\n",
    "\n",
    "turinys = failas.read()\n",
    "\n",
    "\n",
    "failas.close()\n",
    "\n",
    "print(turinys)"
   ]
  },
  {
   "cell_type": "code",
   "execution_count": 172,
   "metadata": {},
   "outputs": [
    {
     "name": "stdout",
     "output_type": "stream",
     "text": [
      "laba diena\n",
      "@@@@@43535356^&^*(&)(0-=)ÄŒÄŒÄŒÄŒÄŒÄŒÄŒ\n",
      "4564656\n",
      "fsgsrgrg\n",
      "122415649\n"
     ]
    }
   ],
   "source": [
    "failo_vardas = 'f1.txt'\n",
    "\n",
    "failas = open(failo_vardas, mode = 'r')\n",
    "\n",
    "turinys = failas.read()\n",
    "\n",
    "\n",
    "failas.close()\n",
    "\n",
    "print(turinys)"
   ]
  },
  {
   "cell_type": "code",
   "execution_count": 175,
   "metadata": {},
   "outputs": [
    {
     "name": "stdout",
     "output_type": "stream",
     "text": [
      "['laba diena\\n', '@@@@@43535356^&^*(&)(0-=)ČČČČČČČ\\n', '4564656\\n', 'fsgsrgrg\\n', '122415649']\n"
     ]
    }
   ],
   "source": [
    "failo_vardas = 'f1.txt'\n",
    "\n",
    "failas = open(failo_vardas, mode = 'r', encoding='utf-8')\n",
    "\n",
    "turinys = failas.readlines()\n",
    "\n",
    "failas.close()\n",
    "\n",
    "print(turinys)"
   ]
  },
  {
   "cell_type": "code",
   "execution_count": 176,
   "metadata": {},
   "outputs": [
    {
     "name": "stdout",
     "output_type": "stream",
     "text": [
      "['1,2\\n', '3,4\\n', '5,6\\n', '7,8']\n"
     ]
    }
   ],
   "source": [
    "failo_vardas = 'f2.txt'\n",
    "\n",
    "failas = open(failo_vardas, mode = 'r', encoding='utf-8')\n",
    "\n",
    "turinys = failas.readlines()\n",
    "\n",
    "failas.close()\n",
    "\n",
    "print(turinys)"
   ]
  },
  {
   "cell_type": "code",
   "execution_count": 177,
   "metadata": {},
   "outputs": [
    {
     "name": "stdout",
     "output_type": "stream",
     "text": [
      "1,2\n",
      "\n",
      "3,4\n",
      "\n",
      "5,6\n",
      "\n",
      "7,8\n"
     ]
    }
   ],
   "source": [
    "for eil in turinys:\n",
    "    print(eil)"
   ]
  },
  {
   "cell_type": "code",
   "execution_count": 179,
   "metadata": {},
   "outputs": [
    {
     "name": "stdout",
     "output_type": "stream",
     "text": [
      "3.0\n",
      "7.0\n",
      "11.0\n",
      "15.0\n"
     ]
    }
   ],
   "source": [
    "for eil in turinys:\n",
    "    x, y = eil.split(',')\n",
    "    c = float(x) + float(y)\n",
    "    print(c)"
   ]
  },
  {
   "cell_type": "code",
   "execution_count": 184,
   "metadata": {},
   "outputs": [],
   "source": [
    "failo_vardas = 'F3.txt'\n",
    "\n",
    "failas = open(failo_vardas, mode='w', encoding='utf-8') # w rezime jei failas neegzistavo, failas bus sukurtas. Jei egzistavo failo turinys bus istrintas\n",
    "\n",
    "failas.close()"
   ]
  },
  {
   "cell_type": "code",
   "execution_count": 187,
   "metadata": {},
   "outputs": [],
   "source": [
    "failo_vardas = 'F3.txt'\n",
    "\n",
    "failas = open(failo_vardas, mode='w', encoding='utf-8') # w rezime jei failas neegzistavo, failas bus sukurtas. Jei egzistavo failo turinys bus istrintas\n",
    "\n",
    "failas.write('Laba diena\\n')\n",
    "failas.write('Rytas\\n')\n",
    "failas.write('Rytas\\n')\n",
    "failas.write('Rytas')\n",
    "\n",
    "failas.close()"
   ]
  },
  {
   "cell_type": "code",
   "execution_count": 207,
   "metadata": {},
   "outputs": [
    {
     "name": "stdout",
     "output_type": "stream",
     "text": [
      "['1.25,2.28\\n', '3.33,4.421\\n', '5,6.67\\n', '7,8.01']\n",
      "1.765\n",
      "3.8755\n",
      "5.835\n",
      "7.505\n",
      "4.145\n",
      "5.34525\n"
     ]
    }
   ],
   "source": [
    "# suraskite vidurkį skaičių, esančių stulpeliuose\n",
    "failo_vardas = 'f2.txt'\n",
    "\n",
    "failas = open(failo_vardas, mode = 'r', encoding='utf-8')\n",
    "\n",
    "turinys = failas.readlines()\n",
    "\n",
    "failas.close()\n",
    "\n",
    "print(turinys)\n",
    "\n",
    "for eil in turinys:\n",
    "    x, y = eil.split(',')\n",
    "    c = (float(x) + float(y))/2\n",
    "    print(c)\n",
    "\n",
    "c=[]\n",
    "for eil in turinys:\n",
    "    c.append(float(eil.split(',')[0]))\n",
    "print(sum(c)/len(c))\n",
    "\n",
    "c=[]\n",
    "for eil in turinys:\n",
    "    c.append(float(eil.split(',')[1]))\n",
    "print(sum(c)/len(c))"
   ]
  }
 ],
 "metadata": {
  "kernelspec": {
   "display_name": "Python 3",
   "language": "python",
   "name": "python3"
  },
  "language_info": {
   "codemirror_mode": {
    "name": "ipython",
    "version": 3
   },
   "file_extension": ".py",
   "mimetype": "text/x-python",
   "name": "python",
   "nbconvert_exporter": "python",
   "pygments_lexer": "ipython3",
   "version": "3.12.4"
  }
 },
 "nbformat": 4,
 "nbformat_minor": 2
}
