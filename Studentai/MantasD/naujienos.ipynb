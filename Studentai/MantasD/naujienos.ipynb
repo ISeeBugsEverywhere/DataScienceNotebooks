{
 "cells": [
  {
   "cell_type": "code",
   "execution_count": 1,
   "metadata": {},
   "outputs": [],
   "source": [
    "import numpy as np\n",
    "import pandas as pd\n",
    "import matplotlib.pyplot as plt\n",
    "import warnings\n",
    "warnings.filterwarnings('ignore')\n",
    "import seaborn as sns\n",
    "import sqlite3\n",
    "import mysql.connector as cnt\n",
    "import plotly.express as px\n",
    "import random\n",
    "from Skriptai.manofunkcijos import *\n",
    "import requests\n",
    "from bs4 import BeautifulSoup\n",
    "import selenium\n",
    "from selenium import webdriver # naršyklės kontroleris\n",
    "from selenium.webdriver.chrome.options import Options #Naršyklės\n",
    "import time"
   ]
  },
  {
   "cell_type": "code",
   "execution_count": null,
   "metadata": {},
   "outputs": [
    {
     "name": "stdout",
     "output_type": "stream",
     "text": [
      "Sunday, December 15, 2024\n",
      "Monday, December 16, 2024\n",
      "Tuesday, December 17, 2024\n",
      "Wednesday, December 18, 2024\n",
      "Thursday, December 19, 2024\n",
      "Friday, December 20, 2024\n"
     ]
    }
   ],
   "source": [
    "url = 'https://ec.forexprostools.com/'\n",
    "opcijos = Options()\n",
    "opcijos.add_argument('--incognito')\n",
    "driver = webdriver.Chrome(options=opcijos)\n",
    "driver.get(url)\n",
    "time.sleep(3)\n",
    "source = driver.page_source\n",
    "bs = BeautifulSoup(source, 'html.parser')\n",
    "dates = bs.find_all('td', {'class':'theDay'})\n",
    "\n",
    "for date in dates:\n",
    "    print(date.text)\n",
    "driver.close()"
   ]
  }
 ],
 "metadata": {
  "kernelspec": {
   "display_name": "Python 3",
   "language": "python",
   "name": "python3"
  },
  "language_info": {
   "codemirror_mode": {
    "name": "ipython",
    "version": 3
   },
   "file_extension": ".py",
   "mimetype": "text/x-python",
   "name": "python",
   "nbconvert_exporter": "python",
   "pygments_lexer": "ipython3",
   "version": "3.12.4"
  }
 },
 "nbformat": 4,
 "nbformat_minor": 2
}
