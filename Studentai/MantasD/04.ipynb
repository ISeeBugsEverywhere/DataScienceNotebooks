{
 "cells": [
  {
   "cell_type": "code",
   "execution_count": 3,
   "metadata": {},
   "outputs": [
    {
     "name": "stdout",
     "output_type": "stream",
     "text": [
      "{'Saule': 'Zavigzde', 'Vilnius': 'Lietuvos sostine'}\n"
     ]
    }
   ],
   "source": [
    "d = {} #set()\n",
    "d = {'Saule':'Zavigzde', 'Vilnius':'Lietuvos sostine'} # Zodynas\n",
    "print(d)"
   ]
  },
  {
   "cell_type": "code",
   "execution_count": 4,
   "metadata": {},
   "outputs": [
    {
     "name": "stdout",
     "output_type": "stream",
     "text": [
      "Lietuvos sostine\n"
     ]
    }
   ],
   "source": [
    "print(d['Vilnius'])"
   ]
  },
  {
   "cell_type": "code",
   "execution_count": 5,
   "metadata": {},
   "outputs": [
    {
     "name": "stdout",
     "output_type": "stream",
     "text": [
      "Lietuvos sostine\n"
     ]
    }
   ],
   "source": [
    "ats = d['Vilnius']\n",
    "print(ats)"
   ]
  },
  {
   "cell_type": "code",
   "execution_count": 6,
   "metadata": {},
   "outputs": [
    {
     "name": "stdout",
     "output_type": "stream",
     "text": [
      "{'Saule': 'Zavigzde', 'Vilnius': 'Lietuvos sostine'}\n",
      "{'Saule': 'Zavigzde', 'Vilnius': 'Lietuvos sostine', 'Palanga': 'Kurortas'}\n"
     ]
    }
   ],
   "source": [
    "print(d)\n",
    "d['Palanga'] = 'Kurortas'\n",
    "print(d)"
   ]
  },
  {
   "cell_type": "code",
   "execution_count": 7,
   "metadata": {},
   "outputs": [
    {
     "name": "stdout",
     "output_type": "stream",
     "text": [
      "{'Saule': 'Zavigzde', 'Vilnius': 'Lietuvos sostine', 'Palanga': 'Kurortas'}\n",
      "{'Saule': 'Zavigzde', 'Vilnius': 'Tikrai ne kurortas', 'Palanga': 'Kurortas'}\n"
     ]
    }
   ],
   "source": [
    "print(d)\n",
    "d['Vilnius'] = 'Tikrai ne kurortas'\n",
    "print(d)"
   ]
  },
  {
   "cell_type": "code",
   "execution_count": 10,
   "metadata": {},
   "outputs": [
    {
     "name": "stdout",
     "output_type": "stream",
     "text": [
      "Tikrai ne kurortas Tikrai ne kurortas\n"
     ]
    }
   ],
   "source": [
    "ats = d['Vilnius']\n",
    "ats2 = d.get('Vilnius')\n",
    "print(ats, ats2)"
   ]
  },
  {
   "cell_type": "code",
   "execution_count": 11,
   "metadata": {},
   "outputs": [
    {
     "data": {
      "text/plain": [
       "-1"
      ]
     },
     "execution_count": 11,
     "metadata": {},
     "output_type": "execute_result"
    }
   ],
   "source": [
    "d.get('Kaunas', -1)"
   ]
  },
  {
   "cell_type": "code",
   "execution_count": 37,
   "metadata": {},
   "outputs": [
    {
     "name": "stdout",
     "output_type": "stream",
     "text": [
      "{'Vilnius': ['Sostine', 'Didelis miestas']}\n",
      "{'Vilnius': 'Lietuvos sostine', 'Palanga': 2024, 'Kaunas': 'Laikinoji sostine'}\n"
     ]
    }
   ],
   "source": [
    "print(d)\n",
    "d1 = {'Palanga':2024, 'Vilnius':'Lietuvos sostine', 'Kaunas':'Laikinoji sostine'}\n",
    "d.update(d1)\n",
    "print(d)"
   ]
  },
  {
   "cell_type": "code",
   "execution_count": 17,
   "metadata": {},
   "outputs": [
    {
     "data": {
      "text/plain": [
       "dict_keys(['Saule', 'Vilnius', 'Palanga'])"
      ]
     },
     "execution_count": 17,
     "metadata": {},
     "output_type": "execute_result"
    }
   ],
   "source": [
    "d.keys()"
   ]
  },
  {
   "cell_type": "code",
   "execution_count": 18,
   "metadata": {},
   "outputs": [
    {
     "data": {
      "text/plain": [
       "dict_items([('Saule', 'Zavigzde'), ('Vilnius', 'Tikrai ne kurortas'), ('Palanga', 'Kurortas')])"
      ]
     },
     "execution_count": 18,
     "metadata": {},
     "output_type": "execute_result"
    }
   ],
   "source": [
    "d.items()"
   ]
  },
  {
   "cell_type": "code",
   "execution_count": null,
   "metadata": {},
   "outputs": [],
   "source": [
    "#  Sąrašas (list) - surikiuotas, keičiamas, galimi vienodi įrašai.\n",
    "# • Eilutė (tuple) - surikiuotas, NEkeičiamas, galimi vienodi įrašai.\n",
    "# • Rinkinys (set) - NEsurikiuotas, NEkeičiamas, NEgalimi vienodi\n",
    "# įrašai.\n",
    "# • Žodynas (dict) - surikiuotas, keičiamas, NEgalimi vienodi\n",
    "# įrašai."
   ]
  },
  {
   "cell_type": "code",
   "execution_count": 20,
   "metadata": {},
   "outputs": [
    {
     "name": "stdout",
     "output_type": "stream",
     "text": [
      "91237.0\n"
     ]
    }
   ],
   "source": [
    "# Paskaičiuoti pelną pardavus visas prekes. Informacija apie kainą\n",
    "# ir kiekius yra pateikiama kaip žodynai (dictionary):\n",
    "d1 = {\"cost_price\": 32.67,\n",
    "\"sell_price\": 45.00,\n",
    "\"inventory\": 1200}\n",
    "d2 = {\"cost_price\": 225.89,\n",
    "\"sell_price\": 550.00,\n",
    "\"inventory\": 100}\n",
    "d3 = {\"cost_price\": 2.77,\n",
    "\"sell_price\": 7.95,\n",
    "\"inventory\": 8500}\n",
    "profit = ((d1[\"sell_price\"]-d1[\"cost_price\"])*d1[\"inventory\"])+((d2[\"sell_price\"]-d2[\"cost_price\"])*d2[\"inventory\"])+((d3[\"sell_price\"]-d3[\"cost_price\"])*d3[\"inventory\"])\n",
    "print(profit)"
   ]
  },
  {
   "cell_type": "code",
   "execution_count": 24,
   "metadata": {},
   "outputs": [
    {
     "name": "stdout",
     "output_type": "stream",
     "text": [
      "{'Vilnius': 'Sostine'}\n",
      "{'Vilnius': ['Sostine']}\n",
      "{'Vilnius': ['Sostine', 'Didelis miestas']}\n"
     ]
    }
   ],
   "source": [
    "d = {}\n",
    "d['Vilnius'] = 'Sostine' # verte, value taptu [], listu\n",
    "print(d)\n",
    "\n",
    "d = {}\n",
    "d['Vilnius'] = ['Sostine']\n",
    "print(d)\n",
    "v = d['Vilnius']\n",
    "v.append('Didelis miestas')\n",
    "d['Vilnius'] = v\n",
    "print(d)"
   ]
  },
  {
   "cell_type": "code",
   "execution_count": 25,
   "metadata": {},
   "outputs": [
    {
     "name": "stdout",
     "output_type": "stream",
     "text": [
      "1\n",
      "2\n",
      "3\n"
     ]
    }
   ],
   "source": [
    "s = [1,2,3]\n",
    "\n",
    "for si in s:\n",
    "    print(si)"
   ]
  },
  {
   "cell_type": "code",
   "execution_count": 26,
   "metadata": {},
   "outputs": [
    {
     "name": "stdout",
     "output_type": "stream",
     "text": [
      "0\n",
      "1\n",
      "2\n",
      "3\n",
      "4\n",
      "5\n",
      "6\n",
      "7\n",
      "8\n",
      "9\n"
     ]
    }
   ],
   "source": [
    "for skaicius in range(0,10):\n",
    "    print(skaicius)"
   ]
  },
  {
   "cell_type": "code",
   "execution_count": 27,
   "metadata": {},
   "outputs": [
    {
     "name": "stdout",
     "output_type": "stream",
     "text": [
      "0\n",
      "2\n",
      "4\n",
      "6\n",
      "8\n"
     ]
    }
   ],
   "source": [
    "for skaicius in range(0,10,2):\n",
    "    print(skaicius)"
   ]
  },
  {
   "cell_type": "code",
   "execution_count": 29,
   "metadata": {},
   "outputs": [
    {
     "name": "stdout",
     "output_type": "stream",
     "text": [
      "Jonas\n",
      "Petras\n",
      "Ona\n",
      "Agota\n"
     ]
    }
   ],
   "source": [
    "vardu_sarasas = ['Jonas', 'Petras', 'Ona', 'Agota']\n",
    "for vardas in vardu_sarasas:\n",
    "    print(vardas)\n"
   ]
  },
  {
   "cell_type": "code",
   "execution_count": 32,
   "metadata": {},
   "outputs": [
    {
     "name": "stdout",
     "output_type": "stream",
     "text": [
      "s\n",
      "a\n",
      "k\n",
      "o\n",
      ",\n",
      " \n",
      "k\n",
      "a\n",
      "d\n",
      " \n",
      "D\n",
      "e\n",
      "l\n",
      "f\n",
      "i\n",
      ".\n",
      "l\n",
      "t\n",
      " \n",
      "y\n",
      "r\n",
      "a\n",
      " \n",
      "p\n",
      "o\n",
      "p\n",
      "u\n",
      "l\n",
      "i\n",
      "a\n",
      "r\n",
      "i\n",
      "a\n",
      "u\n",
      "s\n",
      "i\n",
      "a\n",
      "s\n",
      " \n",
      "p\n",
      "o\n",
      "r\n",
      "t\n",
      "a\n",
      "l\n",
      "a\n",
      "s\n",
      ".\n"
     ]
    }
   ],
   "source": [
    "txt = \"sako, kad Delfi.lt yra populiariausias portalas.\"\n",
    "for letter in txt:\n",
    "    print(letter)"
   ]
  },
  {
   "cell_type": "code",
   "execution_count": 38,
   "metadata": {},
   "outputs": [
    {
     "name": "stdout",
     "output_type": "stream",
     "text": [
      "{'Vilnius': 'Lietuvos sostine', 'Palanga': 2024, 'Kaunas': 'Laikinoji sostine'}\n",
      "{'Vilnius': 'Lietuvos sostine', 'Palanga': 2024, 'Kaunas': 'Laikinoji sostine'}\n",
      "{'Vilnius': 'Lietuvos sostine', 'Palanga': 2024, 'Kaunas': 'Laikinoji sostine'}\n"
     ]
    }
   ],
   "source": [
    "for k in d.keys():\n",
    "    print(d)"
   ]
  },
  {
   "cell_type": "code",
   "execution_count": 39,
   "metadata": {},
   "outputs": [
    {
     "name": "stdout",
     "output_type": "stream",
     "text": [
      "Vilnius Lietuvos sostine\n",
      "Palanga 2024\n",
      "Kaunas Laikinoji sostine\n"
     ]
    }
   ],
   "source": [
    "for key, value in d.items():\n",
    "    print(key,value)\n"
   ]
  },
  {
   "cell_type": "code",
   "execution_count": 40,
   "metadata": {},
   "outputs": [
    {
     "name": "stdout",
     "output_type": "stream",
     "text": [
      "a\n",
      "b\n",
      "c\n"
     ]
    }
   ],
   "source": [
    "s = ['a','b','c']\n",
    "\n",
    "for si in s:\n",
    "    print(si)"
   ]
  },
  {
   "cell_type": "code",
   "execution_count": 42,
   "metadata": {},
   "outputs": [
    {
     "name": "stdout",
     "output_type": "stream",
     "text": [
      "0 a\n",
      "1 b\n",
      "2 b\n",
      "3 c\n"
     ]
    }
   ],
   "source": [
    "s = ['a','b','b','c']\n",
    "\n",
    "for pozicija, elementas in enumerate(s):\n",
    "    print(pozicija, elementas)"
   ]
  },
  {
   "cell_type": "code",
   "execution_count": 43,
   "metadata": {},
   "outputs": [
    {
     "name": "stdout",
     "output_type": "stream",
     "text": [
      "[4, 10, 18]\n"
     ]
    }
   ],
   "source": [
    "s = [1,2,3]\n",
    "f = [4,5,6]\n",
    "c = [] \n",
    "for si, fi in zip(s,f):\n",
    "    c.append(si*fi)\n",
    "print(c)"
   ]
  },
  {
   "cell_type": "code",
   "execution_count": 44,
   "metadata": {},
   "outputs": [
    {
     "ename": "ValueError",
     "evalue": "zip() argument 2 is shorter than argument 1",
     "output_type": "error",
     "traceback": [
      "\u001b[1;31m---------------------------------------------------------------------------\u001b[0m",
      "\u001b[1;31mValueError\u001b[0m                                Traceback (most recent call last)",
      "Cell \u001b[1;32mIn[44], line 4\u001b[0m\n\u001b[0;32m      2\u001b[0m f \u001b[38;5;241m=\u001b[39m [\u001b[38;5;241m4\u001b[39m,\u001b[38;5;241m5\u001b[39m,\u001b[38;5;241m6\u001b[39m]\n\u001b[0;32m      3\u001b[0m c \u001b[38;5;241m=\u001b[39m [] \n\u001b[1;32m----> 4\u001b[0m \u001b[38;5;28;43;01mfor\u001b[39;49;00m\u001b[43m \u001b[49m\u001b[43msi\u001b[49m\u001b[43m,\u001b[49m\u001b[43m \u001b[49m\u001b[43mfi\u001b[49m\u001b[43m \u001b[49m\u001b[38;5;129;43;01min\u001b[39;49;00m\u001b[43m \u001b[49m\u001b[38;5;28;43mzip\u001b[39;49m\u001b[43m(\u001b[49m\u001b[43ms\u001b[49m\u001b[43m,\u001b[49m\u001b[43mf\u001b[49m\u001b[43m,\u001b[49m\u001b[43m \u001b[49m\u001b[43mstrict\u001b[49m\u001b[43m \u001b[49m\u001b[38;5;241;43m=\u001b[39;49m\u001b[43m \u001b[49m\u001b[38;5;28;43;01mTrue\u001b[39;49;00m\u001b[43m)\u001b[49m\u001b[43m:\u001b[49m\n\u001b[0;32m      5\u001b[0m \u001b[43m    \u001b[49m\u001b[43mc\u001b[49m\u001b[38;5;241;43m.\u001b[39;49m\u001b[43mappend\u001b[49m\u001b[43m(\u001b[49m\u001b[43msi\u001b[49m\u001b[38;5;241;43m*\u001b[39;49m\u001b[43mfi\u001b[49m\u001b[43m)\u001b[49m\n\u001b[0;32m      6\u001b[0m \u001b[38;5;28mprint\u001b[39m(c)\n",
      "\u001b[1;31mValueError\u001b[0m: zip() argument 2 is shorter than argument 1"
     ]
    }
   ],
   "source": [
    "s = [1,2,3, 4]\n",
    "f = [4,5,6]\n",
    "c = [] \n",
    "for si, fi in zip(s,f, strict = True):\n",
    "    c.append(si*fi)\n",
    "print(c)"
   ]
  },
  {
   "cell_type": "code",
   "execution_count": 45,
   "metadata": {},
   "outputs": [
    {
     "name": "stdout",
     "output_type": "stream",
     "text": [
      "[4, 10, 18]\n"
     ]
    }
   ],
   "source": [
    "s = [1,2,3, 4]\n",
    "f = [4,5,6]\n",
    "c = [] \n",
    "for si, fi in zip(s,f):\n",
    "    c.append(si*fi)\n",
    "print(c)"
   ]
  },
  {
   "cell_type": "code",
   "execution_count": 77,
   "metadata": {},
   "outputs": [
    {
     "name": "stdout",
     "output_type": "stream",
     "text": [
      "0 A\n",
      "1 š\n",
      "2  \n",
      "3 r\n",
      "4 y\n",
      "5 t\n",
      "6 a\n",
      "7 i\n",
      "8 s\n",
      "9  \n",
      "10 m\n",
      "11 ė\n",
      "12 g\n",
      "13 s\n",
      "14 t\n",
      "15 u\n",
      "16  \n",
      "17 k\n",
      "18 a\n",
      "19 v\n",
      "20 ą\n",
      "21  \n",
      "22 s\n",
      "23 u\n",
      "24  \n",
      "25 s\n",
      "26 u\n",
      "27 m\n",
      "28 u\n",
      "29 š\n",
      "30 t\n",
      "31 i\n",
      "32 n\n",
      "33 i\n",
      "34 a\n",
      "35 i\n",
      "36 s\n",
      "37  \n",
      "38 i\n",
      "39 r\n",
      "40  \n",
      "41 a\n",
      "42 r\n",
      "43 b\n",
      "44 a\n",
      "45 t\n",
      "46 ą\n"
     ]
    }
   ],
   "source": [
    "t = \"Aš rytais mėgstu kavą su sumuštiniais ir arbatą\"\n",
    "# • Išveskite po vieną simbolį iš teksto. Šalia nurodykite ir\n",
    "# simbolio poziciją (indeksą) tekste.\n",
    "for pozicija, elementas in enumerate(t):\n",
    "    print(pozicija, elementas)\n",
    "# • Išvesdami simbolį, spausdinkite jį viršutiniame registre, jei jis\n",
    "# yra lyginėje pozicijoje. Kitu atveju - žemutiniame registre.\n",
    "# for pozicija, elementas in enumerate(t):\n",
    "#     if elementas = a:\n",
    "#         print(pozicija, elementas.upper())\n",
    "#     else:\n",
    "#         print(pozicija, elementas.upper())\n",
    "# # • Išveskite po vieną žodį.\n",
    "# for x in t(' '):\n",
    "#     print(x)"
   ]
  },
  {
   "cell_type": "code",
   "execution_count": 81,
   "metadata": {},
   "outputs": [
    {
     "name": "stdout",
     "output_type": "stream",
     "text": [
      "aaaa\n",
      "aaaa\n",
      "aaaa\n",
      "aaaa\n",
      "\n",
      "g\n",
      "gg\n",
      "ggg\n"
     ]
    }
   ],
   "source": [
    "# • Paprašykite vartotojo įvesti simbolį bei skaičių. Išveskite\n",
    "# kvadratą, sudarytą iš įvesto simbolio ir kurio kraštinė būtų\n",
    "# lygi įvestam skaičiui. Pvz.: įvesta '@' ir 5. Rezultatas:\n",
    "# @@@@@\n",
    "# @@@@@\n",
    "# @@@@@\n",
    "# @@@@@\n",
    "# @@@@@\n",
    "a = input('iveskite simboli')\n",
    "b = int(input('iveskite skaiciu'))\n",
    "\n",
    "for bi in range(b):\n",
    "    print(a*b)\n",
    "# Išspausdinkite ”pusinę” eglutę iš simbolio '*':\n",
    "# Eglutės ilgį (eilučių kiekį) turi įvesti vartotojas. Eglutei naudojamą\n",
    "# simbolį tegul įveda irgi vartotojas.\n",
    "a = input('iveskite simboli')\n",
    "b = int(input('iveskite skaiciu'))\n",
    "\n",
    "for bi in range(b):\n",
    "    print(bi*a)"
   ]
  },
  {
   "cell_type": "code",
   "execution_count": 70,
   "metadata": {},
   "outputs": [
    {
     "name": "stdout",
     "output_type": "stream",
     "text": [
      "Vilnius\n",
      "Rokiškis\n",
      "Mažeikiai\n"
     ]
    }
   ],
   "source": [
    "# Duotas sąrašas:\n",
    "miestai = ['Vilnius', 'Kaunas', 'Alytus', 'Rokiškis',\n",
    "'Ūla', 'Mažeikiai', 'Akmena']\n",
    "# Spausdinkite tik tuos miestus, kurių pavadinimai ilgesni nei 6\n",
    "# simboliai.\n",
    "for a in miestai:\n",
    "    if len(a)>6:\n",
    "        print(a)"
   ]
  },
  {
   "cell_type": "code",
   "execution_count": 133,
   "metadata": {},
   "outputs": [
    {
     "name": "stdout",
     "output_type": "stream",
     "text": [
      "1\n",
      "6\n",
      "15\n",
      "28\n",
      "45\n",
      "66\n",
      "91\n",
      "120\n",
      "153\n",
      "190\n",
      "[1.0, 0.6666666666666666, 0.6, 0.5714285714285714, 0.5555555555555556, 0.5454545454545454, 0.5384615384615384, 0.5333333333333333, 0.5294117647058824, 0.5263157894736842]\n",
      "[1, 6, 15, 28, 45, 66, 91, 120, 153, 190]\n",
      "[1, 4, 9, 16, 25, 36, 49, 64, 81, 100]\n"
     ]
    },
    {
     "name": "stdout",
     "output_type": "stream",
     "text": [
      "5\n",
      "10\n",
      "15\n",
      "20\n",
      "25\n",
      "30\n",
      "35\n",
      "40\n",
      "45\n",
      "50\n",
      "10\n",
      "5\n",
      "20\n",
      "35\n",
      "55\n",
      "65\n",
      "75\n",
      "85\n",
      "95\n",
      "105\n",
      "[2, 2, 12, 28, 55, 78, 105, 136, 171, 210]\n",
      "[0.5, 2.0, 0.75, 0.5714285714285714, 0.45454545454545453, 0.46153846153846156, 0.4666666666666667, 0.47058823529411764, 0.47368421052631576, 0.47619047619047616]\n"
     ]
    },
    {
     "ename": "TypeError",
     "evalue": "'str' object is not callable",
     "output_type": "error",
     "traceback": [
      "\u001b[1;31m---------------------------------------------------------------------------\u001b[0m",
      "\u001b[1;31mTypeError\u001b[0m                                 Traceback (most recent call last)",
      "Cell \u001b[1;32mIn[133], line 45\u001b[0m\n\u001b[0;32m     40\u001b[0m \u001b[38;5;66;03m# 1.0.14 Parašyti programą, kuri suskaičiuotų, kiek yra lyginių ir nelyginių skaičių\u001b[39;00m\n\u001b[0;32m     41\u001b[0m \u001b[38;5;66;03m# sąraše.\u001b[39;00m\n\u001b[0;32m     42\u001b[0m \u001b[38;5;66;03m# Taip pat suskaičiuotų lyginių ir nelyginių skaičių aritmetinį ir geometrinį vidurkius.\u001b[39;00m\n\u001b[0;32m     43\u001b[0m r \u001b[38;5;241m=\u001b[39m [\u001b[38;5;241m1\u001b[39m,\u001b[38;5;241m2\u001b[39m,\u001b[38;5;241m3\u001b[39m,\u001b[38;5;241m4\u001b[39m,\u001b[38;5;241m5\u001b[39m,\u001b[38;5;241m7\u001b[39m,\u001b[38;5;241m8\u001b[39m,\u001b[38;5;241m9\u001b[39m,\u001b[38;5;241m11\u001b[39m,\u001b[38;5;241m17\u001b[39m,\u001b[38;5;241m19\u001b[39m,\u001b[38;5;241m21\u001b[39m,\u001b[38;5;241m22\u001b[39m,\u001b[38;5;241m40\u001b[39m,\u001b[38;5;241m42\u001b[39m]\n\u001b[1;32m---> 45\u001b[0m \u001b[38;5;28;43msum\u001b[39;49m\u001b[43m(\u001b[49m\u001b[43mr\u001b[49m\u001b[43m)\u001b[49m\n\u001b[0;32m     46\u001b[0m vid \u001b[38;5;241m=\u001b[39m \u001b[38;5;28msum\u001b[39m(r)\u001b[38;5;241m/\u001b[39m\u001b[38;5;28mlen\u001b[39m(r)\n\u001b[0;32m     47\u001b[0m \u001b[38;5;28mprint\u001b[39m(vid)\n",
      "\u001b[1;31mTypeError\u001b[0m: 'str' object is not callable"
     ]
    }
   ],
   "source": [
    "#1.0.12 Duotas sąrašai \n",
    "a = [1,2,3,4,5,6,7,8,9,10] #ir \n",
    "b = [1,3,5,7,9,11,13,15,17,19]\n",
    "c = []\n",
    "d = []\n",
    "e = []\n",
    "for ai, bi in zip(a,b):\n",
    "    print(ai*bi)\n",
    "\n",
    "for ai, bi in zip(a,b):\n",
    "    c.append(ai/bi)\n",
    "print(c)\n",
    "for ai, bi in zip(a,b):\n",
    "    d.append(ai*bi)\n",
    "print(d)\n",
    "for ai, bi in zip(a,b):\n",
    "    e.append(ai*ai)\n",
    "print(e)\n",
    "\n",
    "# 1.0.13 Parašyti kodą, kuris sudaugintų standartinius Python’o sąrašus\n",
    "# Sąrašai:\n",
    "x = [1,2,3,4,5,6,7,8,9,10] \n",
    "y = [2,1,4,7,11,13,15,17,19,21]\n",
    "q = int(input('Iveskite skaiciu'))\n",
    "z =[]\n",
    "v =[]\n",
    "for xi in x:\n",
    "    print(xi*q)\n",
    "\n",
    "for yi in y:\n",
    "    print(yi*q)\n",
    "    \n",
    "for xi, yi in zip(x,y):\n",
    "    z.append(xi*yi)\n",
    "print(z)\n",
    "\n",
    "for xi, yi in zip(x,y):\n",
    "    v.append(xi/yi)\n",
    "print(v)\n",
    "# 1.0.14 Parašyti programą, kuri suskaičiuotų, kiek yra lyginių ir nelyginių skaičių\n",
    "# sąraše.\n",
    "# Taip pat suskaičiuotų lyginių ir nelyginių skaičių aritmetinį ir geometrinį vidurkius.\n",
    "r = [1,2,3,4,5,7,8,9,11,17,19,21,22,40,42]\n",
    "\n",
    "sum(r)\n",
    "vid = sum(r)/len(r)\n",
    "print(vid)\n",
    "\n",
    "s=1\n",
    "for i in r:\n",
    "    s = s * i\n",
    "print(s**(1/len(r)))"
   ]
  },
  {
   "cell_type": "code",
   "execution_count": 164,
   "metadata": {},
   "outputs": [
    {
     "name": "stdout",
     "output_type": "stream",
     "text": [
      "14850.0\n",
      "13.133333333333333\n",
      "197148.66666666666\n",
      "[253000, 195405, 129800, 183000, 127896, 194000, 102122, 227937, 158486, 150869, 74455, 194000, 276260, 290000, 400000]\n",
      "197148.66666666666\n",
      "[19500, 2700, 13490, 14650, 38000, 1200, 8000, 11990, 16190, 16490, 28900, 42500, 2000, 3390, 3750]\n",
      "14850.0\n",
      "[2005, 2006, 2019, 2015, 2018, 1987, 2013, 2017, 2017, 2019, 2018, 2016, 2005, 2004, 2004]\n",
      "2010.8666666666666\n"
     ]
    }
   ],
   "source": [
    "a =[('BMW', 'M5', '253 000 km', '2005-12', '19 500'), ('Mitsubishi', 'Outlander', '195 405 km', '2006', '2 700'), ('Seat', 'Arona', '129 800 km', '2019-11', '13 490'), ('Skoda', 'Octavia Scout', '183 000 km', '2015-06', '14 650'), ('Volvo', 'XC90', '127 896 km', '2018-08', '38 000'), ('Audi', '80', '194 000 km', '1987-07', '1 200'), ('Dacia', 'Lodgy', '102 122 km', '2013-03', '8 000'), ('Skoda', 'Octavia', '227 937 km', '2017-11', '11 990'), ('BMW', '320', '158 486 km', '2017-07', '16 190'), ('Volkswagen', 'Passat', '150 869 km', '2019-01', '16 490'), ('BMW', '520', '74 455 km', '2018-03', '28 900'), ('Mercedes-Benz', 'GLE Coupe 350', '194 000 km', '2016-11', '42 500'), ('Ford', 'C-MAX', '276 260 km', '2005-06', '2 000'), ('BMW', 'X3', '290 000 km', '2004-11', '3 390'), ('BMW', '530', '400 000 km', '2004', '3 750')]\n",
    "# Suraskite vidutinę kainą, amžių ir ridą šių automobilių.\n",
    "suma = 0\n",
    "for ai in a:\n",
    "    sum =  int(ai[4].replace(' ',''))\n",
    "    suma = suma + sum\n",
    "print(suma/len(a))\n",
    "\n",
    "metai = 0\n",
    "dabar = 2024\n",
    "for ai in a:\n",
    "    sum = dabar -  int(ai[3][0:4])\n",
    "    metai = metai + sum\n",
    "print(metai/len(a))\n",
    "\n",
    "rida = 0 \n",
    "for ai in a:\n",
    "    sum =  int(ai[2].replace(' ','').replace('km',''))\n",
    "    rida = rida + sum\n",
    "print(rida/len(a))   \n",
    "\n",
    "# a) susikurti 3 tuščius sąrašus\n",
    "\n",
    "r = []\n",
    "k = []\n",
    "m = []\n",
    "\n",
    "for ai in a:\n",
    "    sum =  int(ai[2].replace(' ','').replace('km',''))\n",
    "    r.append(sum)\n",
    "print(r)\n",
    "tarpsum = 0\n",
    "for ri in r:\n",
    "    tarpsum = tarpsum + ri\n",
    "print(tarpsum/len(r))\n",
    "for ai in a:\n",
    "    sum =  int(ai[4].replace(' ',''))\n",
    "    k.append(sum)\n",
    "print(k)\n",
    "tarpsum = 0\n",
    "for ki in k:\n",
    "    tarpsum = tarpsum + ki\n",
    "print(tarpsum/len(k))\n",
    "for ai in a:\n",
    "    sum =  int(ai[3][0:4])\n",
    "    m.append(sum)\n",
    "print(m)\n",
    "tarpsum = 0\n",
    "for mi in m:\n",
    "    tarpsum = tarpsum + mi\n",
    "print(tarpsum/len(m))\n",
    "\n",
    "# b) parašyti ciklą, kuris:\n",
    "# eitų per duotąjį sąrašą\n",
    "# paimtų ridą, kainą, metus\n",
    "# konvertuotų į skaičius\n",
    "# su append() konvertuotą skaičių pridėkite prie atitinkamo tuščio sąrašo\n",
    "# c) kiekvienam sąrašui suraskite vidurkį\n",
    "# tai ir bus ats.\n"
   ]
  },
  {
   "cell_type": "code",
   "execution_count": 172,
   "metadata": {},
   "outputs": [
    {
     "name": "stdout",
     "output_type": "stream",
     "text": [
      "25000\n",
      "36000\n",
      "42000\n",
      "31000\n",
      "75000\n"
     ]
    }
   ],
   "source": [
    "# 1.0.26 Duotas sąrašas su žodynais.\n",
    "cl = [{'Modelis':'WV', 'rida':25000},{'Modelis':'Audi', 'rida':36000},{'Modelis':'Ford',\n",
    "'rida':42000},{'Modelis':'Toyota', 'rida':31000},{'Modelis':'Nissan', 'rida':75000}]\n",
    "# Parašykite ciklą, išvedantį automobilių ridas.\n",
    "for cli in cl:\n",
    "    print(cli['rida'])\n",
    "\n",
    "# Parašykite kodą, surandantį daugiausiai ir mažiausiai nuvažiavusius automobilius.\n",
    "\n"
   ]
  }
 ],
 "metadata": {
  "kernelspec": {
   "display_name": "Python 3",
   "language": "python",
   "name": "python3"
  },
  "language_info": {
   "codemirror_mode": {
    "name": "ipython",
    "version": 3
   },
   "file_extension": ".py",
   "mimetype": "text/x-python",
   "name": "python",
   "nbconvert_exporter": "python",
   "pygments_lexer": "ipython3",
   "version": "3.12.4"
  }
 },
 "nbformat": 4,
 "nbformat_minor": 2
}
