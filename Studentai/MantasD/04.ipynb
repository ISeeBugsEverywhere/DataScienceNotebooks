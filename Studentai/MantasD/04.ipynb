{
 "cells": [
  {
   "cell_type": "code",
   "execution_count": 3,
   "metadata": {},
   "outputs": [
    {
     "name": "stdout",
     "output_type": "stream",
     "text": [
      "{'Saule': 'Zavigzde', 'Vilnius': 'Lietuvos sostine'}\n"
     ]
    }
   ],
   "source": [
    "d = {} #set()\n",
    "d = {'Saule':'Zavigzde', 'Vilnius':'Lietuvos sostine'} # Zodynas\n",
    "print(d)"
   ]
  },
  {
   "cell_type": "code",
   "execution_count": 4,
   "metadata": {},
   "outputs": [
    {
     "name": "stdout",
     "output_type": "stream",
     "text": [
      "Lietuvos sostine\n"
     ]
    }
   ],
   "source": [
    "print(d['Vilnius'])"
   ]
  },
  {
   "cell_type": "code",
   "execution_count": 5,
   "metadata": {},
   "outputs": [
    {
     "name": "stdout",
     "output_type": "stream",
     "text": [
      "Lietuvos sostine\n"
     ]
    }
   ],
   "source": [
    "ats = d['Vilnius']\n",
    "print(ats)"
   ]
  },
  {
   "cell_type": "code",
   "execution_count": 6,
   "metadata": {},
   "outputs": [
    {
     "name": "stdout",
     "output_type": "stream",
     "text": [
      "{'Saule': 'Zavigzde', 'Vilnius': 'Lietuvos sostine'}\n",
      "{'Saule': 'Zavigzde', 'Vilnius': 'Lietuvos sostine', 'Palanga': 'Kurortas'}\n"
     ]
    }
   ],
   "source": [
    "print(d)\n",
    "d['Palanga'] = 'Kurortas'\n",
    "print(d)"
   ]
  },
  {
   "cell_type": "code",
   "execution_count": 7,
   "metadata": {},
   "outputs": [
    {
     "name": "stdout",
     "output_type": "stream",
     "text": [
      "{'Saule': 'Zavigzde', 'Vilnius': 'Lietuvos sostine', 'Palanga': 'Kurortas'}\n",
      "{'Saule': 'Zavigzde', 'Vilnius': 'Tikrai ne kurortas', 'Palanga': 'Kurortas'}\n"
     ]
    }
   ],
   "source": [
    "print(d)\n",
    "d['Vilnius'] = 'Tikrai ne kurortas'\n",
    "print(d)"
   ]
  },
  {
   "cell_type": "code",
   "execution_count": 10,
   "metadata": {},
   "outputs": [
    {
     "name": "stdout",
     "output_type": "stream",
     "text": [
      "Tikrai ne kurortas Tikrai ne kurortas\n"
     ]
    }
   ],
   "source": [
    "ats = d['Vilnius']\n",
    "ats2 = d.get('Vilnius')\n",
    "print(ats, ats2)"
   ]
  },
  {
   "cell_type": "code",
   "execution_count": 11,
   "metadata": {},
   "outputs": [
    {
     "data": {
      "text/plain": [
       "-1"
      ]
     },
     "execution_count": 11,
     "metadata": {},
     "output_type": "execute_result"
    }
   ],
   "source": [
    "d.get('Kaunas', -1)"
   ]
  },
  {
   "cell_type": "code",
   "execution_count": 37,
   "metadata": {},
   "outputs": [
    {
     "name": "stdout",
     "output_type": "stream",
     "text": [
      "{'Vilnius': ['Sostine', 'Didelis miestas']}\n",
      "{'Vilnius': 'Lietuvos sostine', 'Palanga': 2024, 'Kaunas': 'Laikinoji sostine'}\n"
     ]
    }
   ],
   "source": [
    "print(d)\n",
    "d1 = {'Palanga':2024, 'Vilnius':'Lietuvos sostine', 'Kaunas':'Laikinoji sostine'}\n",
    "d.update(d1)\n",
    "print(d)"
   ]
  },
  {
   "cell_type": "code",
   "execution_count": 17,
   "metadata": {},
   "outputs": [
    {
     "data": {
      "text/plain": [
       "dict_keys(['Saule', 'Vilnius', 'Palanga'])"
      ]
     },
     "execution_count": 17,
     "metadata": {},
     "output_type": "execute_result"
    }
   ],
   "source": [
    "d.keys()"
   ]
  },
  {
   "cell_type": "code",
   "execution_count": 18,
   "metadata": {},
   "outputs": [
    {
     "data": {
      "text/plain": [
       "dict_items([('Saule', 'Zavigzde'), ('Vilnius', 'Tikrai ne kurortas'), ('Palanga', 'Kurortas')])"
      ]
     },
     "execution_count": 18,
     "metadata": {},
     "output_type": "execute_result"
    }
   ],
   "source": [
    "d.items()"
   ]
  },
  {
   "cell_type": "code",
   "execution_count": null,
   "metadata": {},
   "outputs": [],
   "source": [
    "#  Sąrašas (list) - surikiuotas, keičiamas, galimi vienodi įrašai.\n",
    "# • Eilutė (tuple) - surikiuotas, NEkeičiamas, galimi vienodi įrašai.\n",
    "# • Rinkinys (set) - NEsurikiuotas, NEkeičiamas, NEgalimi vienodi\n",
    "# įrašai.\n",
    "# • Žodynas (dict) - surikiuotas, keičiamas, NEgalimi vienodi\n",
    "# įrašai."
   ]
  },
  {
   "cell_type": "code",
   "execution_count": 20,
   "metadata": {},
   "outputs": [
    {
     "name": "stdout",
     "output_type": "stream",
     "text": [
      "91237.0\n"
     ]
    }
   ],
   "source": [
    "# Paskaičiuoti pelną pardavus visas prekes. Informacija apie kainą\n",
    "# ir kiekius yra pateikiama kaip žodynai (dictionary):\n",
    "d1 = {\"cost_price\": 32.67,\n",
    "\"sell_price\": 45.00,\n",
    "\"inventory\": 1200}\n",
    "d2 = {\"cost_price\": 225.89,\n",
    "\"sell_price\": 550.00,\n",
    "\"inventory\": 100}\n",
    "d3 = {\"cost_price\": 2.77,\n",
    "\"sell_price\": 7.95,\n",
    "\"inventory\": 8500}\n",
    "profit = ((d1[\"sell_price\"]-d1[\"cost_price\"])*d1[\"inventory\"])+((d2[\"sell_price\"]-d2[\"cost_price\"])*d2[\"inventory\"])+((d3[\"sell_price\"]-d3[\"cost_price\"])*d3[\"inventory\"])\n",
    "print(profit)"
   ]
  },
  {
   "cell_type": "code",
   "execution_count": 24,
   "metadata": {},
   "outputs": [
    {
     "name": "stdout",
     "output_type": "stream",
     "text": [
      "{'Vilnius': 'Sostine'}\n",
      "{'Vilnius': ['Sostine']}\n",
      "{'Vilnius': ['Sostine', 'Didelis miestas']}\n"
     ]
    }
   ],
   "source": [
    "d = {}\n",
    "d['Vilnius'] = 'Sostine' # verte, value taptu [], listu\n",
    "print(d)\n",
    "\n",
    "d = {}\n",
    "d['Vilnius'] = ['Sostine']\n",
    "print(d)\n",
    "v = d['Vilnius']\n",
    "v.append('Didelis miestas')\n",
    "d['Vilnius'] = v\n",
    "print(d)"
   ]
  },
  {
   "cell_type": "code",
   "execution_count": 25,
   "metadata": {},
   "outputs": [
    {
     "name": "stdout",
     "output_type": "stream",
     "text": [
      "1\n",
      "2\n",
      "3\n"
     ]
    }
   ],
   "source": [
    "s = [1,2,3]\n",
    "\n",
    "for si in s:\n",
    "    print(si)"
   ]
  },
  {
   "cell_type": "code",
   "execution_count": 26,
   "metadata": {},
   "outputs": [
    {
     "name": "stdout",
     "output_type": "stream",
     "text": [
      "0\n",
      "1\n",
      "2\n",
      "3\n",
      "4\n",
      "5\n",
      "6\n",
      "7\n",
      "8\n",
      "9\n"
     ]
    }
   ],
   "source": [
    "for skaicius in range(0,10):\n",
    "    print(skaicius)"
   ]
  },
  {
   "cell_type": "code",
   "execution_count": 27,
   "metadata": {},
   "outputs": [
    {
     "name": "stdout",
     "output_type": "stream",
     "text": [
      "0\n",
      "2\n",
      "4\n",
      "6\n",
      "8\n"
     ]
    }
   ],
   "source": [
    "for skaicius in range(0,10,2):\n",
    "    print(skaicius)"
   ]
  },
  {
   "cell_type": "code",
   "execution_count": 29,
   "metadata": {},
   "outputs": [
    {
     "name": "stdout",
     "output_type": "stream",
     "text": [
      "Jonas\n",
      "Petras\n",
      "Ona\n",
      "Agota\n"
     ]
    }
   ],
   "source": [
    "vardu_sarasas = ['Jonas', 'Petras', 'Ona', 'Agota']\n",
    "for vardas in vardu_sarasas:\n",
    "    print(vardas)\n"
   ]
  },
  {
   "cell_type": "code",
   "execution_count": 32,
   "metadata": {},
   "outputs": [
    {
     "name": "stdout",
     "output_type": "stream",
     "text": [
      "s\n",
      "a\n",
      "k\n",
      "o\n",
      ",\n",
      " \n",
      "k\n",
      "a\n",
      "d\n",
      " \n",
      "D\n",
      "e\n",
      "l\n",
      "f\n",
      "i\n",
      ".\n",
      "l\n",
      "t\n",
      " \n",
      "y\n",
      "r\n",
      "a\n",
      " \n",
      "p\n",
      "o\n",
      "p\n",
      "u\n",
      "l\n",
      "i\n",
      "a\n",
      "r\n",
      "i\n",
      "a\n",
      "u\n",
      "s\n",
      "i\n",
      "a\n",
      "s\n",
      " \n",
      "p\n",
      "o\n",
      "r\n",
      "t\n",
      "a\n",
      "l\n",
      "a\n",
      "s\n",
      ".\n"
     ]
    }
   ],
   "source": [
    "txt = \"sako, kad Delfi.lt yra populiariausias portalas.\"\n",
    "for letter in txt:\n",
    "    print(letter)"
   ]
  },
  {
   "cell_type": "code",
   "execution_count": 38,
   "metadata": {},
   "outputs": [
    {
     "name": "stdout",
     "output_type": "stream",
     "text": [
      "{'Vilnius': 'Lietuvos sostine', 'Palanga': 2024, 'Kaunas': 'Laikinoji sostine'}\n",
      "{'Vilnius': 'Lietuvos sostine', 'Palanga': 2024, 'Kaunas': 'Laikinoji sostine'}\n",
      "{'Vilnius': 'Lietuvos sostine', 'Palanga': 2024, 'Kaunas': 'Laikinoji sostine'}\n"
     ]
    }
   ],
   "source": [
    "for k in d.keys():\n",
    "    print(d)"
   ]
  },
  {
   "cell_type": "code",
   "execution_count": 39,
   "metadata": {},
   "outputs": [
    {
     "name": "stdout",
     "output_type": "stream",
     "text": [
      "Vilnius Lietuvos sostine\n",
      "Palanga 2024\n",
      "Kaunas Laikinoji sostine\n"
     ]
    }
   ],
   "source": [
    "for key, value in d.items():\n",
    "    print(key,value)\n"
   ]
  },
  {
   "cell_type": "code",
   "execution_count": 40,
   "metadata": {},
   "outputs": [
    {
     "name": "stdout",
     "output_type": "stream",
     "text": [
      "a\n",
      "b\n",
      "c\n"
     ]
    }
   ],
   "source": [
    "s = ['a','b','c']\n",
    "\n",
    "for si in s:\n",
    "    print(si)"
   ]
  },
  {
   "cell_type": "code",
   "execution_count": 42,
   "metadata": {},
   "outputs": [
    {
     "name": "stdout",
     "output_type": "stream",
     "text": [
      "0 a\n",
      "1 b\n",
      "2 b\n",
      "3 c\n"
     ]
    }
   ],
   "source": [
    "s = ['a','b','b','c']\n",
    "\n",
    "for pozicija, elementas in enumerate(s):\n",
    "    print(pozicija, elementas)"
   ]
  },
  {
   "cell_type": "code",
   "execution_count": 43,
   "metadata": {},
   "outputs": [
    {
     "name": "stdout",
     "output_type": "stream",
     "text": [
      "[4, 10, 18]\n"
     ]
    }
   ],
   "source": [
    "s = [1,2,3]\n",
    "f = [4,5,6]\n",
    "c = [] \n",
    "for si, fi in zip(s,f):\n",
    "    c.append(si*fi)\n",
    "print(c)"
   ]
  },
  {
   "cell_type": "code",
   "execution_count": 44,
   "metadata": {},
   "outputs": [
    {
     "ename": "ValueError",
     "evalue": "zip() argument 2 is shorter than argument 1",
     "output_type": "error",
     "traceback": [
      "\u001b[1;31m---------------------------------------------------------------------------\u001b[0m",
      "\u001b[1;31mValueError\u001b[0m                                Traceback (most recent call last)",
      "Cell \u001b[1;32mIn[44], line 4\u001b[0m\n\u001b[0;32m      2\u001b[0m f \u001b[38;5;241m=\u001b[39m [\u001b[38;5;241m4\u001b[39m,\u001b[38;5;241m5\u001b[39m,\u001b[38;5;241m6\u001b[39m]\n\u001b[0;32m      3\u001b[0m c \u001b[38;5;241m=\u001b[39m [] \n\u001b[1;32m----> 4\u001b[0m \u001b[38;5;28;43;01mfor\u001b[39;49;00m\u001b[43m \u001b[49m\u001b[43msi\u001b[49m\u001b[43m,\u001b[49m\u001b[43m \u001b[49m\u001b[43mfi\u001b[49m\u001b[43m \u001b[49m\u001b[38;5;129;43;01min\u001b[39;49;00m\u001b[43m \u001b[49m\u001b[38;5;28;43mzip\u001b[39;49m\u001b[43m(\u001b[49m\u001b[43ms\u001b[49m\u001b[43m,\u001b[49m\u001b[43mf\u001b[49m\u001b[43m,\u001b[49m\u001b[43m \u001b[49m\u001b[43mstrict\u001b[49m\u001b[43m \u001b[49m\u001b[38;5;241;43m=\u001b[39;49m\u001b[43m \u001b[49m\u001b[38;5;28;43;01mTrue\u001b[39;49;00m\u001b[43m)\u001b[49m\u001b[43m:\u001b[49m\n\u001b[0;32m      5\u001b[0m \u001b[43m    \u001b[49m\u001b[43mc\u001b[49m\u001b[38;5;241;43m.\u001b[39;49m\u001b[43mappend\u001b[49m\u001b[43m(\u001b[49m\u001b[43msi\u001b[49m\u001b[38;5;241;43m*\u001b[39;49m\u001b[43mfi\u001b[49m\u001b[43m)\u001b[49m\n\u001b[0;32m      6\u001b[0m \u001b[38;5;28mprint\u001b[39m(c)\n",
      "\u001b[1;31mValueError\u001b[0m: zip() argument 2 is shorter than argument 1"
     ]
    }
   ],
   "source": [
    "s = [1,2,3, 4]\n",
    "f = [4,5,6]\n",
    "c = [] \n",
    "for si, fi in zip(s,f, strict = True):\n",
    "    c.append(si*fi)\n",
    "print(c)"
   ]
  },
  {
   "cell_type": "code",
   "execution_count": 45,
   "metadata": {},
   "outputs": [
    {
     "name": "stdout",
     "output_type": "stream",
     "text": [
      "[4, 10, 18]\n"
     ]
    }
   ],
   "source": [
    "s = [1,2,3, 4]\n",
    "f = [4,5,6]\n",
    "c = [] \n",
    "for si, fi in zip(s,f):\n",
    "    c.append(si*fi)\n",
    "print(c)"
   ]
  },
  {
   "cell_type": "code",
   "execution_count": 77,
   "metadata": {},
   "outputs": [
    {
     "name": "stdout",
     "output_type": "stream",
     "text": [
      "0 A\n",
      "1 š\n",
      "2  \n",
      "3 r\n",
      "4 y\n",
      "5 t\n",
      "6 a\n",
      "7 i\n",
      "8 s\n",
      "9  \n",
      "10 m\n",
      "11 ė\n",
      "12 g\n",
      "13 s\n",
      "14 t\n",
      "15 u\n",
      "16  \n",
      "17 k\n",
      "18 a\n",
      "19 v\n",
      "20 ą\n",
      "21  \n",
      "22 s\n",
      "23 u\n",
      "24  \n",
      "25 s\n",
      "26 u\n",
      "27 m\n",
      "28 u\n",
      "29 š\n",
      "30 t\n",
      "31 i\n",
      "32 n\n",
      "33 i\n",
      "34 a\n",
      "35 i\n",
      "36 s\n",
      "37  \n",
      "38 i\n",
      "39 r\n",
      "40  \n",
      "41 a\n",
      "42 r\n",
      "43 b\n",
      "44 a\n",
      "45 t\n",
      "46 ą\n"
     ]
    }
   ],
   "source": [
    "t = \"Aš rytais mėgstu kavą su sumuštiniais ir arbatą\"\n",
    "# • Išveskite po vieną simbolį iš teksto. Šalia nurodykite ir\n",
    "# simbolio poziciją (indeksą) tekste.\n",
    "for pozicija, elementas in enumerate(t):\n",
    "    print(pozicija, elementas)\n",
    "# • Išvesdami simbolį, spausdinkite jį viršutiniame registre, jei jis\n",
    "# yra lyginėje pozicijoje. Kitu atveju - žemutiniame registre.\n",
    "# for pozicija, elementas in enumerate(t):\n",
    "#     if elementas = a:\n",
    "#         print(pozicija, elementas.upper())\n",
    "#     else:\n",
    "#         print(pozicija, elementas.upper())\n",
    "# # • Išveskite po vieną žodį.\n",
    "# for x in t(' '):\n",
    "#     print(x)"
   ]
  },
  {
   "cell_type": "code",
   "execution_count": 81,
   "metadata": {},
   "outputs": [
    {
     "name": "stdout",
     "output_type": "stream",
     "text": [
      "aaaa\n",
      "aaaa\n",
      "aaaa\n",
      "aaaa\n",
      "\n",
      "g\n",
      "gg\n",
      "ggg\n"
     ]
    }
   ],
   "source": [
    "# • Paprašykite vartotojo įvesti simbolį bei skaičių. Išveskite\n",
    "# kvadratą, sudarytą iš įvesto simbolio ir kurio kraštinė būtų\n",
    "# lygi įvestam skaičiui. Pvz.: įvesta '@' ir 5. Rezultatas:\n",
    "# @@@@@\n",
    "# @@@@@\n",
    "# @@@@@\n",
    "# @@@@@\n",
    "# @@@@@\n",
    "a = input('iveskite simboli')\n",
    "b = int(input('iveskite skaiciu'))\n",
    "\n",
    "for bi in range(b):\n",
    "    print(a*b)\n",
    "# Išspausdinkite ”pusinę” eglutę iš simbolio '*':\n",
    "# Eglutės ilgį (eilučių kiekį) turi įvesti vartotojas. Eglutei naudojamą\n",
    "# simbolį tegul įveda irgi vartotojas.\n",
    "a = input('iveskite simboli')\n",
    "b = int(input('iveskite skaiciu'))\n",
    "\n",
    "for bi in range(b):\n",
    "    print(bi*a)"
   ]
  },
  {
   "cell_type": "code",
   "execution_count": 70,
   "metadata": {},
   "outputs": [
    {
     "name": "stdout",
     "output_type": "stream",
     "text": [
      "Vilnius\n",
      "Rokiškis\n",
      "Mažeikiai\n"
     ]
    }
   ],
   "source": [
    "# Duotas sąrašas:\n",
    "miestai = ['Vilnius', 'Kaunas', 'Alytus', 'Rokiškis',\n",
    "'Ūla', 'Mažeikiai', 'Akmena']\n",
    "# Spausdinkite tik tuos miestus, kurių pavadinimai ilgesni nei 6\n",
    "# simboliai.\n",
    "for a in miestai:\n",
    "    if len(a)>6:\n",
    "        print(a)"
   ]
  },
  {
   "cell_type": "code",
   "execution_count": 94,
   "metadata": {},
   "outputs": [
    {
     "name": "stdout",
     "output_type": "stream",
     "text": [
      "1\n",
      "6\n",
      "15\n",
      "28\n",
      "45\n",
      "66\n",
      "91\n",
      "120\n",
      "153\n",
      "190\n",
      "[1.0, 0.6666666666666666, 0.6, 0.5714285714285714, 0.5555555555555556, 0.5454545454545454, 0.5384615384615384, 0.5333333333333333, 0.5294117647058824, 0.5263157894736842]\n",
      "[1, 6, 15, 28, 45, 66, 91, 120, 153, 190]\n",
      "[1, 4, 9, 16, 25, 36, 49, 64, 81, 100]\n",
      "5\n",
      "10\n",
      "15\n",
      "20\n",
      "25\n",
      "30\n",
      "35\n",
      "40\n",
      "45\n",
      "50\n",
      "10\n",
      "5\n",
      "20\n",
      "35\n",
      "55\n",
      "65\n",
      "75\n",
      "85\n",
      "95\n",
      "105\n",
      "[2, 2, 12, 28, 55, 78, 105, 136, 171, 210]\n"
     ]
    }
   ],
   "source": [
    "#1.0.12 Duotas sąrašai \n",
    "a = [1,2,3,4,5,6,7,8,9,10] #ir \n",
    "b = [1,3,5,7,9,11,13,15,17,19]\n",
    "c = []\n",
    "d = []\n",
    "e = []\n",
    "for ai, bi in zip(a,b):\n",
    "    print(ai*bi)\n",
    "\n",
    "for ai, bi in zip(a,b):\n",
    "    c.append(ai/bi)\n",
    "print(c)\n",
    "for ai, bi in zip(a,b):\n",
    "    d.append(ai*bi)\n",
    "print(d)\n",
    "for ai, bi in zip(a,b):\n",
    "    e.append(ai*ai)\n",
    "print(e)\n",
    "\n",
    "# 1.0.13 Parašyti kodą, kuris sudaugintų standartinius Python’o sąrašus\n",
    "# Sąrašai:\n",
    "x = [1,2,3,4,5,6,7,8,9,10] \n",
    "y = [2,1,4,7,11,13,15,17,19,21]\n",
    "q = int(input('Iveskite skaiciu'))\n",
    "z =[]\n",
    "for xi in x:\n",
    "    print(xi*q)\n",
    "\n",
    "for yi in y:\n",
    "    print(yi*q)\n",
    "    \n",
    "for xi, yi in zip(x,y):\n",
    "    z.append(xi*yi)\n",
    "print(z)\n",
    "\n",
    "# 1.0.14 Parašyti programą, kuri suskaičiuotų, kiek yra lyginių ir nelyginių skaičių\n",
    "# sąraše.\n",
    "# Taip pat suskaičiuotų lyginių ir nelyginių skaičių aritmetinį ir geometrinį vidurkius.\n",
    "Sąrašas: x = [1,2,3,4,5,7,8,9,11,17,19,21,22,40,42]"
   ]
  }
 ],
 "metadata": {
  "kernelspec": {
   "display_name": "Python 3",
   "language": "python",
   "name": "python3"
  },
  "language_info": {
   "codemirror_mode": {
    "name": "ipython",
    "version": 3
   },
   "file_extension": ".py",
   "mimetype": "text/x-python",
   "name": "python",
   "nbconvert_exporter": "python",
   "pygments_lexer": "ipython3",
   "version": "3.12.4"
  }
 },
 "nbformat": 4,
 "nbformat_minor": 2
}
