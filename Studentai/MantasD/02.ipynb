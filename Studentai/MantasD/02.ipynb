{
 "cells": [
  {
   "cell_type": "code",
   "execution_count": null,
   "metadata": {},
   "outputs": [],
   "source": [
    "# • Suskaičiuoti, kiek simbolių yra jūsų varde, pavardėje.\n",
    "# • Suskaičiuoti, kiek simbolių yra pačio pirmojo delfi.lt straipsnio\n",
    "# antraštėje\n",
    "# • Pakeisti visas raides į mažąsias jūsų varde. Ir į didžiąsias ;).\n",
    "# • Iš delfi antraštės atrinkite pirmus 10 simbolių; paskutinius\n",
    "# 10; kas antrą; iškirpkite tekstą nuo 10-to iki 20-to simbolių;\n",
    "# • Kiek delfi antraštėje yra \"a\" simbolių? Kurioje pozicijoje yra\n",
    "# pirmąkart sutinkamas šis simbolis?\n",
    "# • Iš teksto txt=\"Labas rytas!\" išveskite tekstą be pirmo\n",
    "# # simbolio; be paskutinio; be pirmo ir be paskutinio;"
   ]
  },
  {
   "cell_type": "code",
   "execution_count": 4,
   "metadata": {},
   "outputs": [
    {
     "name": "stdout",
     "output_type": "stream",
     "text": [
      "6\n",
      "8\n"
     ]
    }
   ],
   "source": [
    "name = 'Mantas'\n",
    "surname = 'Dzimidas'\n",
    "print(len(name))\n",
    "print(len(surname))\n"
   ]
  },
  {
   "cell_type": "code",
   "execution_count": 12,
   "metadata": {},
   "outputs": [
    {
     "name": "stdout",
     "output_type": "stream",
     "text": [
      "93\n"
     ]
    }
   ],
   "source": [
    "d = 'Pasiūlė, kaip reikėtų sumažinti maisto produktų kainas: vienas realus būdas tikrai egzistuoja'\n",
    "print(len(d))"
   ]
  },
  {
   "cell_type": "code",
   "execution_count": 6,
   "metadata": {},
   "outputs": [
    {
     "name": "stdout",
     "output_type": "stream",
     "text": [
      "mantas\n"
     ]
    }
   ],
   "source": [
    "print(name.lower())"
   ]
  },
  {
   "cell_type": "code",
   "execution_count": 8,
   "metadata": {},
   "outputs": [
    {
     "name": "stdout",
     "output_type": "stream",
     "text": [
      "Pasiūlė, k\n"
     ]
    }
   ],
   "source": [
    "first10 = d[:10]\n",
    "print(first10)"
   ]
  },
  {
   "cell_type": "code",
   "execution_count": 36,
   "metadata": {},
   "outputs": [
    {
     "name": "stdout",
     "output_type": "stream",
     "text": [
      "egzistuoja\n"
     ]
    }
   ],
   "source": [
    "print(d[-10:])"
   ]
  },
  {
   "cell_type": "code",
   "execution_count": 16,
   "metadata": {},
   "outputs": [
    {
     "name": "stdout",
     "output_type": "stream",
     "text": [
      "Psūė apriėųsmžnimit rdkųkia:vea elsbdstka gitoa\n"
     ]
    }
   ],
   "source": [
    "print(d[::2])"
   ]
  },
  {
   "cell_type": "code",
   "execution_count": 19,
   "metadata": {},
   "outputs": [
    {
     "name": "stdout",
     "output_type": "stream",
     "text": [
      "kaip reikė\n"
     ]
    }
   ],
   "source": [
    "print(d[9:19])"
   ]
  },
  {
   "cell_type": "code",
   "execution_count": 21,
   "metadata": {},
   "outputs": [
    {
     "name": "stdout",
     "output_type": "stream",
     "text": [
      "11\n"
     ]
    }
   ],
   "source": [
    "print(d.count('a'))"
   ]
  },
  {
   "cell_type": "code",
   "execution_count": 22,
   "metadata": {},
   "outputs": [
    {
     "name": "stdout",
     "output_type": "stream",
     "text": [
      "1\n"
     ]
    }
   ],
   "source": [
    "print(d.index('a'))"
   ]
  },
  {
   "cell_type": "code",
   "execution_count": null,
   "metadata": {},
   "outputs": [],
   "source": [
    "# • Priskirkite savo pasirinktus skaičius kintamiesiems\n",
    "# • Raskite šių skaičių sandaugą, pakelkite juos savo pasirinktu\n",
    "# laipsniu;\n",
    "# • Ištraukite iš šių skaičių pasirinkto laipsnio šaknį\n",
    "# • Suraskite šių skaičių dalybos liekaną (dalinkite didesnį iš\n",
    "# mažesnio)"
   ]
  },
  {
   "cell_type": "code",
   "execution_count": 23,
   "metadata": {},
   "outputs": [
    {
     "name": "stdout",
     "output_type": "stream",
     "text": [
      "abas rytas!\n"
     ]
    }
   ],
   "source": [
    "txt = \"Labas rytas!\"\n",
    "print(txt[1:])"
   ]
  },
  {
   "cell_type": "code",
   "execution_count": 27,
   "metadata": {},
   "outputs": [
    {
     "name": "stdout",
     "output_type": "stream",
     "text": [
      "Labas rytas\n"
     ]
    }
   ],
   "source": [
    "print(txt[:-1])"
   ]
  },
  {
   "cell_type": "code",
   "execution_count": 29,
   "metadata": {},
   "outputs": [
    {
     "name": "stdout",
     "output_type": "stream",
     "text": [
      "abas rytas\n"
     ]
    }
   ],
   "source": [
    "print(txt[1:-1])"
   ]
  },
  {
   "cell_type": "code",
   "execution_count": 35,
   "metadata": {},
   "outputs": [
    {
     "name": "stdout",
     "output_type": "stream",
     "text": [
      "300\n",
      "225\n",
      "8000\n",
      "3.872983346207417\n",
      "4.47213595499958\n",
      "5\n"
     ]
    }
   ],
   "source": [
    "number1 = 15\n",
    "number2 = 20\n",
    "sandauga = number1*number2\n",
    "laipsnis = number1**2\n",
    "laipsnis2 = number2**3\n",
    "saknis = number1**(1/2)\n",
    "saknis2 = number2**(1/2)\n",
    "liekana = number2 % number1\n",
    "print(sandauga)\n",
    "print(laipsnis)\n",
    "print(laipsnis2)\n",
    "print(saknis)\n",
    "print(saknis2)\n",
    "print(liekana)"
   ]
  },
  {
   "cell_type": "code",
   "execution_count": 37,
   "metadata": {},
   "outputs": [
    {
     "name": "stdout",
     "output_type": "stream",
     "text": [
      "42\n",
      "labas\n",
      "print funkcija\n"
     ]
    }
   ],
   "source": [
    "t = 42\n",
    "l = 'labas'\n",
    "print(t,l, 'print funkcija', sep='\\n')"
   ]
  },
  {
   "cell_type": "code",
   "execution_count": 38,
   "metadata": {},
   "outputs": [
    {
     "name": "stdout",
     "output_type": "stream",
     "text": [
      "labas rytas nors dabar yra vakaras\n"
     ]
    }
   ],
   "source": [
    "# input()\n",
    "ats_inputo = input()\n",
    "print(ats_inputo)"
   ]
  },
  {
   "cell_type": "code",
   "execution_count": 39,
   "metadata": {},
   "outputs": [
    {
     "name": "stdout",
     "output_type": "stream",
     "text": [
      "7\n"
     ]
    }
   ],
   "source": [
    "ats = input('Iveskite skaiciu [1-10]')\n",
    "print(ats)"
   ]
  },
  {
   "cell_type": "code",
   "execution_count": 40,
   "metadata": {},
   "outputs": [
    {
     "name": "stdout",
     "output_type": "stream",
     "text": [
      "7777777\n"
     ]
    }
   ],
   "source": [
    "ats = input('Iveskite skaiciu [1-10]')\n",
    "print(ats*7)"
   ]
  },
  {
   "cell_type": "code",
   "execution_count": 42,
   "metadata": {},
   "outputs": [
    {
     "name": "stdout",
     "output_type": "stream",
     "text": [
      "skaicius yra toks: 5\n"
     ]
    }
   ],
   "source": [
    "a = 5\n",
    "b = \"skaicius yra toks: \"\n",
    "print(b+str(a))"
   ]
  },
  {
   "cell_type": "code",
   "execution_count": 43,
   "metadata": {},
   "outputs": [
    {
     "name": "stdout",
     "output_type": "stream",
     "text": [
      "49\n"
     ]
    }
   ],
   "source": [
    "ats = input('Iveskite skaiciu [1-10]')\n",
    "sk = int(ats)\n",
    "print(sk*7)"
   ]
  },
  {
   "cell_type": "code",
   "execution_count": 44,
   "metadata": {},
   "outputs": [
    {
     "name": "stdout",
     "output_type": "stream",
     "text": [
      "63\n"
     ]
    }
   ],
   "source": [
    "ats = int(input('Iveskite skaiciu [1-10]'))\n",
    "print(ats*7)"
   ]
  },
  {
   "cell_type": "code",
   "execution_count": 45,
   "metadata": {},
   "outputs": [
    {
     "name": "stdout",
     "output_type": "stream",
     "text": [
      "17.5\n"
     ]
    }
   ],
   "source": [
    "ats = float(input('Iveskite skaiciu [1-10]'))\n",
    "print(ats*7)"
   ]
  },
  {
   "cell_type": "code",
   "execution_count": 46,
   "metadata": {},
   "outputs": [
    {
     "name": "stdout",
     "output_type": "stream",
     "text": [
      "17.5\n"
     ]
    }
   ],
   "source": [
    "ats = input('Iveskite skaiciu [1-10]')\n",
    "ats = float(ats.replace(',','.'))\n",
    "print(ats*7)"
   ]
  },
  {
   "cell_type": "code",
   "execution_count": 52,
   "metadata": {},
   "outputs": [
    {
     "name": "stdout",
     "output_type": "stream",
     "text": [
      "Preke kainavo 50 $, iš kuriu teko valstybei. 7.5\n"
     ]
    }
   ],
   "source": [
    "# format metodas\n",
    "\n",
    "txt =\"Preke kainavo {} $, iš kuriu teko valstybei. {}\"\n",
    "print(txt.format(50, 7.5))"
   ]
  },
  {
   "cell_type": "code",
   "execution_count": 58,
   "metadata": {},
   "outputs": [
    {
     "name": "stdout",
     "output_type": "stream",
     "text": [
      "Preke kainavo 10.123457 $\n"
     ]
    }
   ],
   "source": [
    "txt = \"Preke kainavo {:f} $\"\n",
    "print(txt.format(10.123456789))"
   ]
  },
  {
   "cell_type": "code",
   "execution_count": 57,
   "metadata": {},
   "outputs": [
    {
     "name": "stdout",
     "output_type": "stream",
     "text": [
      "Preke kainavo 10.12 $\n"
     ]
    }
   ],
   "source": [
    "txt = \"Preke kainavo {:.2f} $\"\n",
    "print(txt.format(10.123456789))"
   ]
  },
  {
   "cell_type": "code",
   "execution_count": 60,
   "metadata": {},
   "outputs": [
    {
     "name": "stdout",
     "output_type": "stream",
     "text": [
      "B banko klientai yra lojalesni uz 2 banko klientus mazdaug B kartus\n"
     ]
    }
   ],
   "source": [
    "txt = \"{1} banko klientai yra lojalesni uz {2} banko klientus mazdaug {1} kartus\"\n",
    "print(txt.format('A','B',2))"
   ]
  },
  {
   "cell_type": "code",
   "execution_count": 61,
   "metadata": {},
   "outputs": [
    {
     "name": "stdout",
     "output_type": "stream",
     "text": [
      "A banko klientai yra lojalesni uz B banko klientus mazdaug 2 kartus\n"
     ]
    }
   ],
   "source": [
    "txt = \"{A} banko klientai yra lojalesni uz {B} banko klientus mazdaug {C} kartus\"\n",
    "print(txt.format(A='A',B='B',C=2))"
   ]
  },
  {
   "cell_type": "code",
   "execution_count": 62,
   "metadata": {},
   "outputs": [
    {
     "name": "stdout",
     "output_type": "stream",
     "text": [
      "Cia 42 random 42 tekstas su keliais 42\n"
     ]
    }
   ],
   "source": [
    "txt = \"Cia {A} random {A} tekstas su keliais {A}\"\n",
    "print(txt.format(A=42))"
   ]
  },
  {
   "cell_type": "code",
   "execution_count": null,
   "metadata": {},
   "outputs": [],
   "source": [
    "# • Atlikite užduotis su skaičiais iš skaidrės (23). Šįkart skaičius\n",
    "# turi įvesti vartotojas.\n",
    "# • Išvestį suformatuokite taip, jog išvestų įvestus skačius, atlikto\n",
    "# veiksmo pavadinimą, pateiktų veiksmo rezultatą.\n",
    "# Rezultatams parodyti panaudokite skirtingus skaičių\n",
    "# atvaizdavimo formatus.\n",
    "# • Parašykite kodą, kuris atrinktų simbolius iš teksto (įvedamo\n",
    "# vartotojo). Rėžius (nuo - iki) taip pat turi nurodyti vartotojas."
   ]
  },
  {
   "cell_type": "code",
   "execution_count": 68,
   "metadata": {},
   "outputs": [
    {
     "name": "stdout",
     "output_type": "stream",
     "text": [
      "Skaiciaus 15.0 ir skaiciaus 30.0 sandauga yra 450.0\n",
      "Skaicius 15.0 pakeltas 2 laipsniu yra 225.0\n",
      "Skaicius 30.0 pakeltas 2 laipsniu yra 27000.0\n",
      "Is skaiciaus 15.0 istraukta saknis yra 3.872983346207417\n",
      "Is skaiciaus 30.0 istraukta saknis yra 5.477225575051661\n",
      "Skaiciu 15.0 ir 30.0 liekana yra 0.0\n"
     ]
    }
   ],
   "source": [
    "number1 = input(\"Iveskite bet koki 1 skaiciu\")\n",
    "number1 = float(number1.replace(',','.'))\n",
    "number2 = input('Iveskite bet koki 2 skaiciu')\n",
    "number2 = float(number2.replace(',','.'))\n",
    "sandauga = number1*number2\n",
    "laipsnis = number1**2\n",
    "laipsnis2 = number2**3\n",
    "saknis = number1**(1/2)\n",
    "saknis2 = number2**(1/2)\n",
    "liekana = number2 % number1\n",
    "print('Skaiciaus', number1, 'ir', 'skaiciaus', number2, 'sandauga yra', sandauga)\n",
    "print('Skaicius', number1, 'pakeltas 2 laipsniu yra', laipsnis)\n",
    "print('Skaicius', number2, 'pakeltas 2 laipsniu yra', laipsnis2)\n",
    "print('Is skaiciaus', number1, 'istraukta saknis yra', saknis)\n",
    "print('Is skaiciaus', number2, 'istraukta saknis yra', saknis2)\n",
    "print('Skaiciu', number1, 'ir', number2, 'liekana yra',liekana)"
   ]
  },
  {
   "cell_type": "code",
   "execution_count": 70,
   "metadata": {},
   "outputs": [
    {
     "name": "stdout",
     "output_type": "stream",
     "text": [
      "Skaiciaus 15.0  ir skaiciaus 20.0 sandauga yra 300.0\n",
      "Skaiciaus 15.0 ir skaiciaus 20.0 sandauga yra 300.0\n",
      "Skaicius 15.0 pakeltas 2 laipsniu yra 225.0\n",
      "Skaicius 20.0 pakeltas 2 laipsniu yra 8000.0\n",
      "Is skaiciaus 15.0 istraukta saknis yra 3.872983346207417\n",
      "Is skaiciaus 20.0 istraukta saknis yra 4.47213595499958\n",
      "Skaiciu 15.0 ir 20.0 liekana yra 5.0\n"
     ]
    }
   ],
   "source": [
    "number1 = input(\"Iveskite bet koki 1 skaiciu\")\n",
    "number1 = float(number1.replace(',','.'))\n",
    "number2 = input('Iveskite bet koki 2 skaiciu')\n",
    "number2 = float(number2.replace(',','.'))\n",
    "sandauga = number1*number2\n",
    "laipsnis = number1**2\n",
    "laipsnis2 = number2**3\n",
    "saknis = number1**(1/2)\n",
    "saknis2 = number2**(1/2)\n",
    "liekana = number2 % number1\n",
    "txt1 ='Skaiciaus {a}  ir skaiciaus {b} sandauga yra {c}'\n",
    "print(txt1.format(a=number1,b=number2,c=sandauga))\n",
    "print('Skaiciaus', number1, 'ir', 'skaiciaus', number2, 'sandauga yra', sandauga)\n",
    "print('Skaicius', number1, 'pakeltas 2 laipsniu yra', laipsnis)\n",
    "print('Skaicius', number2, 'pakeltas 2 laipsniu yra', laipsnis2)\n",
    "print('Is skaiciaus', number1, 'istraukta saknis yra', saknis)\n",
    "print('Is skaiciaus', number2, 'istraukta saknis yra', saknis2)\n",
    "print('Skaiciu', number1, 'ir', number2, 'liekana yra',liekana)"
   ]
  },
  {
   "cell_type": "code",
   "execution_count": 71,
   "metadata": {},
   "outputs": [
    {
     "name": "stdout",
     "output_type": "stream",
     "text": [
      "abas\n"
     ]
    }
   ],
   "source": [
    "vtxt = input('Iveskite teksta')\n",
    "v1txt = int(input('Iveskite nuo kokio simbolio pateikti atsakyma'))\n",
    "v2txt = int(input('Iveskite iki kokio simbolio pateikti atsakyma'))\n",
    "print(vtxt[v1txt:v2txt])"
   ]
  }
 ],
 "metadata": {
  "kernelspec": {
   "display_name": "Python 3",
   "language": "python",
   "name": "python3"
  },
  "language_info": {
   "codemirror_mode": {
    "name": "ipython",
    "version": 3
   },
   "file_extension": ".py",
   "mimetype": "text/x-python",
   "name": "python",
   "nbconvert_exporter": "python",
   "pygments_lexer": "ipython3",
   "version": "3.12.4"
  }
 },
 "nbformat": 4,
 "nbformat_minor": 2
}
