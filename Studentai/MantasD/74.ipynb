{
 "cells": [
  {
   "cell_type": "code",
   "execution_count": null,
   "metadata": {},
   "outputs": [],
   "source": [
    "# Random Forests"
   ]
  },
  {
   "cell_type": "code",
   "execution_count": 3,
   "metadata": {},
   "outputs": [
    {
     "name": "stdout",
     "output_type": "stream",
     "text": [
      "Accuracy:1.0\n"
     ]
    }
   ],
   "source": [
    "from sklearn.ensemble import RandomForestClassifier\n",
    "from sklearn.model_selection import train_test_split\n",
    "from sklearn.datasets import load_iris\n",
    "from sklearn.metrics import accuracy_score\n",
    "# Load dataset\n",
    "data = load_iris()\n",
    "X, y = data.data, data.target\n",
    "# Split data into training and test sets\n",
    "X_train, X_test, y_train, y_test = train_test_split(X, y,test_size=0.3, random_state=42)\n",
    "# Initialize and train the RandomForestClassifier\n",
    "rf = RandomForestClassifier(n_estimators=100, random_state=42)\n",
    "rf.fit(X_train, y_train)\n",
    "# Make predictions\n",
    "y_pred = rf.predict(X_test)\n",
    "# Evaluate accuracy\n",
    "accuracy = accuracy_score(y_test, y_pred) \n",
    "print(f'Accuracy:{accuracy}')"
   ]
  },
  {
   "cell_type": "code",
   "execution_count": 4,
   "metadata": {},
   "outputs": [
    {
     "data": {
      "text/plain": [
       "array(['setosa', 'versicolor', 'virginica'], dtype='<U10')"
      ]
     },
     "execution_count": 4,
     "metadata": {},
     "output_type": "execute_result"
    }
   ],
   "source": [
    "data.target_names"
   ]
  },
  {
   "cell_type": "code",
   "execution_count": 5,
   "metadata": {},
   "outputs": [
    {
     "name": "stdout",
     "output_type": "stream",
     "text": [
      "accuracy score: 0.95\n",
      "Confusion matrix\n",
      "[[   0  500]\n",
      " [   0 9500]]\n",
      "class 0 accuracy: 0.0\n",
      "class 1 accuracy: 1.0\n"
     ]
    }
   ],
   "source": [
    "import numpy as np\n",
    "from sklearn.metrics import accuracy_score, confusion_matrix, roc_auc_score, roc_curve\n",
    "n = 10000\n",
    "ratio = .95\n",
    "n_0 = int((1-ratio) * n)\n",
    "n_1 = int(ratio * n)\n",
    "y = np.array([0] * n_0 + [1] * n_1)\n",
    "# below are the probabilities obtained from a hypothetical model that always predicts the majority class\n",
    "# probability of predicting class 1 is going to be 100%\n",
    "y_proba = np.array([1]*n)\n",
    "y_pred = y_proba > .5\n",
    "print(f'accuracy score: {accuracy_score(y, y_pred)}')\n",
    "cf_mat = confusion_matrix(y, y_pred)\n",
    "print('Confusion matrix')\n",
    "print(cf_mat)\n",
    "print(f'class 0 accuracy: {cf_mat[0][0]/n_0}')\n",
    "print(f'class 1 accuracy: {cf_mat[1][1]/n_1}')"
   ]
  },
  {
   "cell_type": "code",
   "execution_count": 6,
   "metadata": {},
   "outputs": [
    {
     "name": "stdout",
     "output_type": "stream",
     "text": [
      "accuracy score: 0.7256\n",
      "Confusion matrix\n",
      "[[ 366  134]\n",
      " [2610 6890]]\n",
      "class 0 accuracy: 0.732\n",
      "class 1 accuracy: 0.7252631578947368\n"
     ]
    }
   ],
   "source": [
    "# below are the probabilities obtained from a hypothetical model that doesn't always predict the mode\n",
    "y_proba_2 = np.array(\n",
    "np.random.uniform(0, .7, n_0).tolist() +\n",
    "np.random.uniform(.3, 1, n_1).tolist()\n",
    ")\n",
    "y_pred_2 = y_proba_2 > .5\n",
    "print(f'accuracy score: {accuracy_score(y, y_pred_2)}')\n",
    "cf_mat = confusion_matrix(y, y_pred_2)\n",
    "print('Confusion matrix')\n",
    "print(cf_mat)\n",
    "print(f'class 0 accuracy: {cf_mat[0][0]/n_0}')\n",
    "print(f'class 1 accuracy: {cf_mat[1][1]/n_1}')"
   ]
  },
  {
   "cell_type": "code",
   "execution_count": 9,
   "metadata": {},
   "outputs": [
    {
     "name": "stdout",
     "output_type": "stream",
     "text": [
      "model 1 AUC score: 0.5\n",
      "model 2 AUC score: 0.8496962105263157\n"
     ]
    },
    {
     "data": {
      "image/png": "[encoded data removed]",
      "text/plain": [
       "<Figure size 640x480 with 1 Axes>"
      ]
     },
     "metadata": {},
     "output_type": "display_data"
    }
   ],
   "source": [
    "import matplotlib.pyplot as plt\n",
    "def plot_roc_curve(true_y, y_prob): \n",
    "    \"\"\"\n",
    "    plots the roc curve based of the probabilities\n",
    "    \"\"\"\n",
    "    fpr, tpr, thresholds = roc_curve(true_y, y_prob)\n",
    "    plt.plot(fpr, tpr)\n",
    "    plt.xlabel('False Positive Rate')\n",
    "    plt.ylabel('True Positive Rate')\n",
    "plot_roc_curve(y, y_proba)\n",
    "print(f'model 1 AUC score: {roc_auc_score(y, y_proba)}')\n",
    "plot_roc_curve(y, y_proba_2)\n",
    "print(f'model 2 AUC score: {roc_auc_score(y, y_proba_2)}')"
   ]
  },
  {
   "cell_type": "code",
   "execution_count": 10,
   "metadata": {},
   "outputs": [],
   "source": [
    "# Ateityje reiks pateikti\n",
    "\n",
    "from sklearn.metrics import accuracy_score, precision_score, recall_score, f1_score"
   ]
  },
  {
   "cell_type": "code",
   "execution_count": 11,
   "metadata": {},
   "outputs": [],
   "source": [
    "# Daugiau informacijos\n",
    "# https://developers.google.com/machine-learning/crash-course/classification/roc-and-auc "
   ]
  },
  {
   "cell_type": "code",
   "execution_count": 12,
   "metadata": {},
   "outputs": [],
   "source": [
    "# Panaudodami mašininį mokymąsi (linearRegression, Logistic, DecisionTree ...) \n",
    "# pateikite orų prognozę 24rioms valandoms į priekį. \n",
    "# Pritaikykite daugiau nei vieną ML algoritmą.\n",
    "# Pateikite Modelių tikslumo įverčius. Pateikite Modelio prognozę, \n",
    "# LHMT tarnybos prognozę, o praėjus 24 valandoms - stebėjimų rezultatus, pagal kuriuos apskaičiuosite modelių tikslumus."
   ]
  },
  {
   "cell_type": "code",
   "execution_count": 2,
   "metadata": {},
   "outputs": [],
   "source": [
    "import requests\n",
    "import pandas as pd\n",
    "import warnings\n",
    "warnings.filterwarnings('ignore')"
   ]
  },
  {
   "cell_type": "code",
   "execution_count": null,
   "metadata": {},
   "outputs": [],
   "source": [
    "# https://archyvas.meteo.lt/?station=vilniaus-ams&start_date=2024-12-23&end_date=2024-12-23&meteo-form=Rodyti"
   ]
  },
  {
   "cell_type": "code",
   "execution_count": 102,
   "metadata": {},
   "outputs": [],
   "source": [
    "orai = pd.read_json('../../../weather_data.json')"
   ]
  },
  {
   "cell_type": "code",
   "execution_count": 103,
   "metadata": {},
   "outputs": [
    {
     "data": {
      "text/html": [
       "<div>\n",
       "<style scoped>\n",
       "    .dataframe tbody tr th:only-of-type {\n",
       "        vertical-align: middle;\n",
       "    }\n",
       "\n",
       "    .dataframe tbody tr th {\n",
       "        vertical-align: top;\n",
       "    }\n",
       "\n",
       "    .dataframe thead th {\n",
       "        text-align: right;\n",
       "    }\n",
       "</style>\n",
       "<table border=\"1\" class=\"dataframe\">\n",
       "  <thead>\n",
       "    <tr style=\"text-align: right;\">\n",
       "      <th></th>\n",
       "      <th>obs_time_utc</th>\n",
       "      <th>station_code</th>\n",
       "      <th>air_temperature</th>\n",
       "      <th>feels_like_temperature</th>\n",
       "      <th>wind_speed</th>\n",
       "      <th>wind_gust</th>\n",
       "      <th>wind_direction</th>\n",
       "      <th>cloud_cover</th>\n",
       "      <th>sea_level_pressure</th>\n",
       "      <th>relative_humidity</th>\n",
       "      <th>precipitation</th>\n",
       "      <th>condition_code</th>\n",
       "    </tr>\n",
       "  </thead>\n",
       "  <tbody>\n",
       "    <tr>\n",
       "      <th>0</th>\n",
       "      <td>2025-01-01 00:00:00</td>\n",
       "      <td>kauno-ams</td>\n",
       "      <td>3.1</td>\n",
       "      <td>-1.7</td>\n",
       "      <td>6.3</td>\n",
       "      <td>12.4</td>\n",
       "      <td>225</td>\n",
       "      <td>100</td>\n",
       "      <td>1011.9</td>\n",
       "      <td>90</td>\n",
       "      <td>0.0</td>\n",
       "      <td>cloudy</td>\n",
       "    </tr>\n",
       "    <tr>\n",
       "      <th>1</th>\n",
       "      <td>2025-01-01 01:00:00</td>\n",
       "      <td>kauno-ams</td>\n",
       "      <td>2.9</td>\n",
       "      <td>-2.0</td>\n",
       "      <td>6.6</td>\n",
       "      <td>10.9</td>\n",
       "      <td>222</td>\n",
       "      <td>100</td>\n",
       "      <td>1010.6</td>\n",
       "      <td>88</td>\n",
       "      <td>0.0</td>\n",
       "      <td>cloudy</td>\n",
       "    </tr>\n",
       "    <tr>\n",
       "      <th>2</th>\n",
       "      <td>2025-01-01 02:00:00</td>\n",
       "      <td>kauno-ams</td>\n",
       "      <td>2.8</td>\n",
       "      <td>-2.2</td>\n",
       "      <td>6.7</td>\n",
       "      <td>11.2</td>\n",
       "      <td>237</td>\n",
       "      <td>100</td>\n",
       "      <td>1009.7</td>\n",
       "      <td>86</td>\n",
       "      <td>0.0</td>\n",
       "      <td>cloudy</td>\n",
       "    </tr>\n",
       "    <tr>\n",
       "      <th>3</th>\n",
       "      <td>2025-01-01 03:00:00</td>\n",
       "      <td>kauno-ams</td>\n",
       "      <td>2.3</td>\n",
       "      <td>-2.9</td>\n",
       "      <td>6.7</td>\n",
       "      <td>12.9</td>\n",
       "      <td>265</td>\n",
       "      <td>100</td>\n",
       "      <td>1009.3</td>\n",
       "      <td>83</td>\n",
       "      <td>0.0</td>\n",
       "      <td>cloudy</td>\n",
       "    </tr>\n",
       "    <tr>\n",
       "      <th>4</th>\n",
       "      <td>2025-01-01 04:00:00</td>\n",
       "      <td>kauno-ams</td>\n",
       "      <td>2.0</td>\n",
       "      <td>-3.5</td>\n",
       "      <td>7.3</td>\n",
       "      <td>12.6</td>\n",
       "      <td>256</td>\n",
       "      <td>100</td>\n",
       "      <td>1008.6</td>\n",
       "      <td>83</td>\n",
       "      <td>0.0</td>\n",
       "      <td>cloudy</td>\n",
       "    </tr>\n",
       "  </tbody>\n",
       "</table>\n",
       "</div>"
      ],
      "text/plain": [
       "          obs_time_utc station_code  air_temperature  feels_like_temperature  \\\n",
       "0  2025-01-01 00:00:00    kauno-ams              3.1                    -1.7   \n",
       "1  2025-01-01 01:00:00    kauno-ams              2.9                    -2.0   \n",
       "2  2025-01-01 02:00:00    kauno-ams              2.8                    -2.2   \n",
       "3  2025-01-01 03:00:00    kauno-ams              2.3                    -2.9   \n",
       "4  2025-01-01 04:00:00    kauno-ams              2.0                    -3.5   \n",
       "\n",
       "   wind_speed  wind_gust  wind_direction  cloud_cover  sea_level_pressure  \\\n",
       "0         6.3       12.4             225          100              1011.9   \n",
       "1         6.6       10.9             222          100              1010.6   \n",
       "2         6.7       11.2             237          100              1009.7   \n",
       "3         6.7       12.9             265          100              1009.3   \n",
       "4         7.3       12.6             256          100              1008.6   \n",
       "\n",
       "   relative_humidity  precipitation condition_code  \n",
       "0                 90            0.0         cloudy  \n",
       "1                 88            0.0         cloudy  \n",
       "2                 86            0.0         cloudy  \n",
       "3                 83            0.0         cloudy  \n",
       "4                 83            0.0         cloudy  "
      ]
     },
     "execution_count": 103,
     "metadata": {},
     "output_type": "execute_result"
    }
   ],
   "source": [
    "orai.head()"
   ]
  },
  {
   "cell_type": "code",
   "execution_count": 80,
   "metadata": {},
   "outputs": [
    {
     "ename": "NameError",
     "evalue": "name 'X_train_s' is not defined",
     "output_type": "error",
     "traceback": [
      "\u001b[1;31m---------------------------------------------------------------------------\u001b[0m",
      "\u001b[1;31mNameError\u001b[0m                                 Traceback (most recent call last)",
      "Cell \u001b[1;32mIn[80], line 4\u001b[0m\n\u001b[0;32m      1\u001b[0m \u001b[38;5;28;01mfrom\u001b[39;00m \u001b[38;5;21;01msklearn\u001b[39;00m\u001b[38;5;21;01m.\u001b[39;00m\u001b[38;5;21;01mensemble\u001b[39;00m \u001b[38;5;28;01mimport\u001b[39;00m RandomForestRegressor\n\u001b[0;32m      3\u001b[0m forest \u001b[38;5;241m=\u001b[39m RandomForestRegressor()\n\u001b[1;32m----> 4\u001b[0m forest\u001b[38;5;241m.\u001b[39mfit(\u001b[43mX_train_s\u001b[49m, y_train)\n",
      "\u001b[1;31mNameError\u001b[0m: name 'X_train_s' is not defined"
     ]
    }
   ],
   "source": [
    "from sklearn.ensemble import RandomForestRegressor\n",
    "\n",
    "forest = RandomForestRegressor()\n",
    "forest.fit(X_train_s, y_train)"
   ]
  },
  {
   "cell_type": "code",
   "execution_count": 81,
   "metadata": {},
   "outputs": [
    {
     "data": {
      "text/plain": [
       "Index(['obs_time_utc', 'station_code', 'air_temperature',\n",
       "       'feels_like_temperature', 'wind_speed', 'wind_gust', 'wind_direction',\n",
       "       'cloud_cover', 'sea_level_pressure', 'relative_humidity',\n",
       "       'precipitation', 'condition_code'],\n",
       "      dtype='object')"
      ]
     },
     "execution_count": 81,
     "metadata": {},
     "output_type": "execute_result"
    }
   ],
   "source": [
    "orai.columns"
   ]
  },
  {
   "cell_type": "code",
   "execution_count": 121,
   "metadata": {},
   "outputs": [],
   "source": [
    "df = orai"
   ]
  },
  {
   "cell_type": "code",
   "execution_count": 116,
   "metadata": {},
   "outputs": [
    {
     "name": "stdout",
     "output_type": "stream",
     "text": [
      "          obs_time_utc station_code  air_temperature\n",
      "43 2025-01-06 19:00:00    kauno-ams           -2.244\n",
      "44 2025-01-06 20:00:00    kauno-ams           -2.300\n",
      "45 2025-01-06 21:00:00    kauno-ams           -3.004\n",
      "46 2025-01-06 22:00:00    kauno-ams           -3.065\n",
      "47 2025-01-06 23:00:00    kauno-ams           -3.237\n",
      "48 2025-01-07 00:00:00    kauno-ams           -3.509\n",
      "49 2025-01-07 01:00:00    kauno-ams           -3.710\n",
      "50 2025-01-07 02:00:00    kauno-ams           -3.791\n",
      "51 2025-01-07 03:00:00    kauno-ams           -3.882\n",
      "52 2025-01-07 04:00:00    kauno-ams           -3.926\n",
      "53 2025-01-07 05:00:00    kauno-ams           -3.954\n",
      "54 2025-01-07 06:00:00    kauno-ams           -3.901\n",
      "55 2025-01-07 07:00:00    kauno-ams           -2.831\n",
      "56 2025-01-07 08:00:00    kauno-ams           -2.461\n",
      "57 2025-01-07 09:00:00    kauno-ams           -2.288\n",
      "58 2025-01-07 10:00:00    kauno-ams           -2.245\n",
      "59 2025-01-07 11:00:00    kauno-ams           -2.006\n",
      "60 2025-01-07 12:00:00    kauno-ams           -1.862\n",
      "61 2025-01-07 13:00:00    kauno-ams           -1.772\n",
      "62 2025-01-07 14:00:00    kauno-ams           -1.641\n",
      "63 2025-01-07 15:00:00    kauno-ams           -1.675\n",
      "64 2025-01-07 16:00:00    kauno-ams           -1.995\n",
      "65 2025-01-07 17:00:00    kauno-ams           -2.314\n",
      "66 2025-01-07 18:00:00    kauno-ams           -2.987\n"
     ]
    }
   ],
   "source": [
    "import pandas as pd\n",
    "import numpy as np\n",
    "from sklearn.ensemble import RandomForestRegressor\n",
    "from sklearn.model_selection import train_test_split\n",
    "from sklearn.metrics import mean_absolute_error\n",
    "\n",
    "df['obs_time_utc'] = pd.to_datetime(df['obs_time_utc'])\n",
    "df = df.sort_values(by='obs_time_utc')\n",
    "\n",
    "for i in range(1, 25):\n",
    "    df[f'lag_{i}'] = df['air_temperature'].shift(i)\n",
    "    \n",
    "df = df.dropna()\n",
    "\n",
    "X = df[[f'lag_{i}' for i in range(1, 25)]]\n",
    "y = df['air_temperature']\n",
    "\n",
    "X_train, X_test, y_train, y_test = train_test_split(X, y, test_size=0.2, random_state=42, shuffle=False)\n",
    "\n",
    "model = RandomForestRegressor(n_estimators=100, random_state=42)\n",
    "model.fit(X_train, y_train)\n",
    "\n",
    "y_pred = model.predict(X_test)\n",
    "\n",
    "future_lags = df['air_temperature'].iloc[-24:].values.reshape(1, -1)  \n",
    "future_predictions = []\n",
    "\n",
    "for _ in range(24):\n",
    "    next_prediction = model.predict(future_lags)[0]\n",
    "    future_predictions.append(next_prediction)\n",
    "    future_lags = np.roll(future_lags, -1)\n",
    "    future_lags[0, -1] = next_prediction\n",
    "\n",
    "future_times = pd.date_range(start=df['obs_time_utc'].iloc[-1] + pd.Timedelta(hours=1), periods=24, freq='H')\n",
    "forecast_df = pd.DataFrame({\n",
    "    'obs_time_utc': future_times,\n",
    "    'station_code': df['station_code'].iloc[0], \n",
    "    'air_temperature': future_predictions\n",
    "})\n",
    "\n",
    "result_df = pd.concat([df[['obs_time_utc', 'station_code', 'air_temperature']], forecast_df], ignore_index=True)\n",
    "print(result_df[-24:])\n",
    "\n",
    "result_df[-24:].to_csv('forecast_randomforests_only.csv', index=False)"
   ]
  },
  {
   "cell_type": "code",
   "execution_count": 117,
   "metadata": {},
   "outputs": [
    {
     "name": "stdout",
     "output_type": "stream",
     "text": [
      "          obs_time_utc station_code  air_temperature\n",
      "0  2025-01-05 00:00:00    kauno-ams        -5.100000\n",
      "1  2025-01-05 01:00:00    kauno-ams        -5.300000\n",
      "2  2025-01-05 02:00:00    kauno-ams        -4.900000\n",
      "3  2025-01-05 03:00:00    kauno-ams        -4.700000\n",
      "4  2025-01-05 04:00:00    kauno-ams        -4.600000\n",
      "..                 ...          ...              ...\n",
      "62 2025-01-07 14:00:00    kauno-ams         0.388563\n",
      "63 2025-01-07 15:00:00    kauno-ams        -3.275656\n",
      "64 2025-01-07 16:00:00    kauno-ams         0.360469\n",
      "65 2025-01-07 17:00:00    kauno-ams         0.429439\n",
      "66 2025-01-07 18:00:00    kauno-ams        -3.811320\n",
      "\n",
      "[67 rows x 3 columns]\n"
     ]
    }
   ],
   "source": [
    "from sklearn.linear_model import LinearRegression\n",
    "from sklearn.metrics import mean_absolute_error\n",
    "\n",
    "X = df[[f'lag_{i}' for i in range(1, 25)]]\n",
    "y = df['air_temperature']\n",
    "\n",
    "df = df.dropna()\n",
    "\n",
    "X_train, X_test, y_train, y_test = train_test_split(X, y, test_size=0.2, random_state=42, shuffle=False)\n",
    "\n",
    "model = LinearRegression()\n",
    "model.fit(X_train, y_train)\n",
    "\n",
    "y_pred = model.predict(X_test)\n",
    "\n",
    "future_lags = df['air_temperature'].iloc[-24:].values.reshape(1, -1)\n",
    "future_predictions = []\n",
    "\n",
    "for _ in range(24):\n",
    "    next_prediction = model.predict(future_lags)[0]\n",
    "    future_predictions.append(next_prediction)\n",
    "    future_lags = np.roll(future_lags, -1)\n",
    "    future_lags[0, -1] = next_prediction\n",
    "\n",
    "future_times = pd.date_range(start=df['obs_time_utc'].iloc[-1] + pd.Timedelta(hours=1), periods=24, freq='H')\n",
    "forecast_df = pd.DataFrame({\n",
    "    'obs_time_utc': future_times,\n",
    "    'station_code': df['station_code'].iloc[0], \n",
    "    'air_temperature': future_predictions\n",
    "})\n",
    "\n",
    "result_df = pd.concat([df[['obs_time_utc', 'station_code', 'air_temperature']], forecast_df], ignore_index=True)\n",
    "print(result_df)\n",
    "\n",
    "result_df[-24:].to_csv('forecast_linear_only.csv', index=False)"
   ]
  },
  {
   "cell_type": "code",
   "execution_count": 118,
   "metadata": {},
   "outputs": [
    {
     "name": "stdout",
     "output_type": "stream",
     "text": [
      "          obs_time_utc station_code  air_temperature\n",
      "0  2025-01-05 00:00:00    kauno-ams           -5.100\n",
      "1  2025-01-05 01:00:00    kauno-ams           -5.300\n",
      "2  2025-01-05 02:00:00    kauno-ams           -4.900\n",
      "3  2025-01-05 03:00:00    kauno-ams           -4.700\n",
      "4  2025-01-05 04:00:00    kauno-ams           -4.600\n",
      "..                 ...          ...              ...\n",
      "62 2025-01-07 14:00:00    kauno-ams           -2.881\n",
      "63 2025-01-07 15:00:00    kauno-ams           -1.880\n",
      "64 2025-01-07 16:00:00    kauno-ams           -1.779\n",
      "65 2025-01-07 17:00:00    kauno-ams           -1.710\n",
      "66 2025-01-07 18:00:00    kauno-ams           -1.685\n",
      "\n",
      "[67 rows x 3 columns]\n"
     ]
    }
   ],
   "source": [
    "import pandas as pd\n",
    "import numpy as np\n",
    "from sklearn.ensemble import RandomForestRegressor\n",
    "from sklearn.model_selection import train_test_split\n",
    "from sklearn.metrics import mean_absolute_error\n",
    "\n",
    "df['obs_time_utc'] = pd.to_datetime(df['obs_time_utc'])\n",
    "df = df.sort_values(by='obs_time_utc')\n",
    "\n",
    "X = df.drop(columns=['obs_time_utc', 'station_code', 'air_temperature', 'condition_code']) \n",
    "y = df['air_temperature']\n",
    "\n",
    "X_train, X_test, y_train, y_test = train_test_split(X, y, test_size=0.2, random_state=42, shuffle=False)\n",
    "\n",
    "model = RandomForestRegressor(n_estimators=100, random_state=42)\n",
    "model.fit(X_train, y_train)\n",
    "\n",
    "y_pred = model.predict(X_test)\n",
    "\n",
    "future_data = X.iloc[-24:].copy() \n",
    "future_predictions = model.predict(future_data)\n",
    "\n",
    "future_times = pd.date_range(start=df['obs_time_utc'].iloc[-1] + pd.Timedelta(hours=1), periods=24, freq='H')\n",
    "forecast_df = pd.DataFrame({\n",
    "    'obs_time_utc': future_times,\n",
    "    'station_code': df['station_code'].iloc[0], \n",
    "    'air_temperature': future_predictions\n",
    "})\n",
    "\n",
    "result_df = pd.concat([df[['obs_time_utc', 'station_code', 'air_temperature']], forecast_df], ignore_index=True)\n",
    "print(result_df)\n",
    "\n",
    "result_df[-24:].to_csv('forecast_randomforests_all.csv', index=False)\n"
   ]
  },
  {
   "cell_type": "code",
   "execution_count": 128,
   "metadata": {},
   "outputs": [
    {
     "name": "stdout",
     "output_type": "stream",
     "text": [
      "           obs_time_utc station_code  air_temperature\n",
      "0   2025-01-02 00:00:00    kauno-ams         5.000000\n",
      "1   2025-01-02 01:00:00    kauno-ams         5.200000\n",
      "2   2025-01-02 02:00:00    kauno-ams         5.600000\n",
      "3   2025-01-02 03:00:00    kauno-ams         5.700000\n",
      "4   2025-01-02 04:00:00    kauno-ams         6.200000\n",
      "..                  ...          ...              ...\n",
      "134 2025-01-07 14:00:00    kauno-ams        -1.588128\n",
      "135 2025-01-07 15:00:00    kauno-ams        -0.785775\n",
      "136 2025-01-07 16:00:00    kauno-ams        -0.426979\n",
      "137 2025-01-07 17:00:00    kauno-ams        -0.194063\n",
      "138 2025-01-07 18:00:00    kauno-ams         0.321885\n",
      "\n",
      "[139 rows x 3 columns]\n"
     ]
    }
   ],
   "source": [
    "from sklearn.linear_model import LinearRegression\n",
    "from sklearn.metrics import mean_absolute_error\n",
    "\n",
    "X = df.drop(columns=['obs_time_utc', 'station_code', 'air_temperature', 'condition_code'])\n",
    "y = df['air_temperature']\n",
    "\n",
    "X_train, X_test, y_train, y_test = train_test_split(X, y, test_size=0.2, random_state=42, shuffle=False)\n",
    "\n",
    "model = LinearRegression()\n",
    "model.fit(X_train, y_train)\n",
    "\n",
    "y_pred = model.predict(X_test)\n",
    "\n",
    "future_data = X.iloc[-24:].copy()\n",
    "future_predictions = model.predict(future_data)\n",
    "\n",
    "future_times = pd.date_range(start=df['obs_time_utc'].iloc[-1] + pd.Timedelta(hours=1), periods=24, freq='H')\n",
    "forecast_df = pd.DataFrame({\n",
    "    'obs_time_utc': future_times,\n",
    "    'station_code': df['station_code'].iloc[0], \n",
    "    'air_temperature': future_predictions\n",
    "})\n",
    "\n",
    "result_df = pd.concat([df[['obs_time_utc', 'station_code', 'air_temperature']], forecast_df], ignore_index=True)\n",
    "print(result_df)\n",
    "\n",
    "result_df[-24:].to_csv('forecast_linear_all.csv', index=False)\n"
   ]
  },
  {
   "cell_type": "code",
   "execution_count": 127,
   "metadata": {},
   "outputs": [
    {
     "name": "stdout",
     "output_type": "stream",
     "text": [
      "           obs_time_utc station_code  air_temperature\n",
      "0   2025-01-02 00:00:00    kauno-ams              5.0\n",
      "1   2025-01-02 01:00:00    kauno-ams              5.2\n",
      "2   2025-01-02 02:00:00    kauno-ams              5.6\n",
      "3   2025-01-02 03:00:00    kauno-ams              5.7\n",
      "4   2025-01-02 04:00:00    kauno-ams              6.2\n",
      "..                  ...          ...              ...\n",
      "134 2025-01-07 14:00:00    kauno-ams             -3.4\n",
      "135 2025-01-07 15:00:00    kauno-ams             -1.7\n",
      "136 2025-01-07 16:00:00    kauno-ams             -1.7\n",
      "137 2025-01-07 17:00:00    kauno-ams             -0.5\n",
      "138 2025-01-07 18:00:00    kauno-ams             -0.2\n",
      "\n",
      "[139 rows x 3 columns]\n"
     ]
    }
   ],
   "source": [
    "import pandas as pd\n",
    "import numpy as np\n",
    "from sklearn.tree import DecisionTreeRegressor\n",
    "from sklearn.metrics import mean_absolute_error\n",
    "from sklearn.model_selection import train_test_split\n",
    "\n",
    "X = df.drop(columns=['obs_time_utc', 'station_code', 'air_temperature', 'condition_code'])\n",
    "y = df['air_temperature']\n",
    "\n",
    "X_train, X_test, y_train, y_test = train_test_split(X, y, test_size=0.2, random_state=42, shuffle=False)\n",
    "\n",
    "model = DecisionTreeRegressor()\n",
    "model.fit(X_train, y_train)\n",
    "\n",
    "y_pred = model.predict(X_test)\n",
    "\n",
    "future_data = X.iloc[-24:].copy()\n",
    "future_predictions = model.predict(future_data)\n",
    "\n",
    "future_times = pd.date_range(start=df['obs_time_utc'].iloc[-1] + pd.Timedelta(hours=1), periods=24, freq='H')\n",
    "forecast_df = pd.DataFrame({\n",
    "    'obs_time_utc': future_times,\n",
    "    'station_code': df['station_code'].iloc[0], \n",
    "    'air_temperature': future_predictions\n",
    "})\n",
    "\n",
    "result_df = pd.concat([df[['obs_time_utc', 'station_code', 'air_temperature']], forecast_df], ignore_index=True)\n",
    "print(result_df)\n",
    "\n",
    "result_df[-24:].to_csv('forecast_decision_tree_all.csv', index=False)\n"
   ]
  },
  {
   "cell_type": "code",
   "execution_count": null,
   "metadata": {},
   "outputs": [],
   "source": [
    "import pandas as pd\n",
    "import numpy as np\n",
    "from sklearn.tree import DecisionTreeRegressor\n",
    "from sklearn.metrics import mean_absolute_error\n",
    "from sklearn.model_selection import train_test_split\n",
    "\n",
    "df = orai\n",
    "\n",
    "df['obs_time_utc'] = pd.to_datetime(df['obs_time_utc'])\n",
    "df = df.sort_values(by='obs_time_utc')\n",
    "\n",
    "lags = 24\n",
    "for i in range(1, lags + 1):\n",
    "    df[f'lag_{i}'] = df['air_temperature'].shift(i)\n",
    "\n",
    "X = df[[f'lag_{i}' for i in range(1, lags + 1)]]\n",
    "y = df['air_temperature']\n",
    "\n",
    "df = df.dropna()\n",
    "\n",
    "X_train, X_test, y_train, y_test = train_test_split(X, y, test_size=0.2, random_state=42, shuffle=False)\n",
    "\n",
    "model = DecisionTreeRegressor(max_depth=10, random_state=42)\n",
    "model.fit(X_train, y_train)\n",
    "\n",
    "y_pred = model.predict(X_test)\n",
    "\n",
    "future_lags = df['air_temperature'].iloc[-lags:]\n",
    "future_predictions = []\n",
    "\n",
    "for _ in range(lags):\n",
    "    next_prediction = model.predict(future_lags)[0]\n",
    "    future_predictions.append(next_prediction)\n",
    "    future_lags = np.roll(future_lags, -1)\n",
    "    future_lags[0, -1] = next_prediction\n",
    "\n",
    "future_times = pd.date_range(start=df['obs_time_utc'].iloc[-1] + pd.Timedelta(hours=1), periods=lags, freq='H')\n",
    "forecast_df = pd.DataFrame({\n",
    "    'obs_time_utc': future_times,\n",
    "    'station_code': df['station_code'].iloc[0],\n",
    "    'air_temperature': future_predictions\n",
    "})\n",
    "\n",
    "result_df = pd.concat([df[['obs_time_utc', 'station_code', 'air_temperature']], forecast_df], ignore_index=True)\n",
    "\n",
    "print(result_df)\n",
    "result_df[-lags:].to_csv('forecast_decision_tree_only.csv', index=False)"
   ]
  },
  {
   "cell_type": "code",
   "execution_count": 91,
   "metadata": {},
   "outputs": [
    {
     "name": "stdout",
     "output_type": "stream",
     "text": [
      "200\n"
     ]
    }
   ],
   "source": [
    "url = 'https://api.meteo.lt/v1/places/kaunas/forecasts/long-term'\n",
    "\n",
    "page = requests.get(url)\n",
    "status = page.status_code\n",
    "print(status)"
   ]
  },
  {
   "cell_type": "code",
   "execution_count": 98,
   "metadata": {},
   "outputs": [
    {
     "data": {
      "text/html": [
       "<div>\n",
       "<style scoped>\n",
       "    .dataframe tbody tr th:only-of-type {\n",
       "        vertical-align: middle;\n",
       "    }\n",
       "\n",
       "    .dataframe tbody tr th {\n",
       "        vertical-align: top;\n",
       "    }\n",
       "\n",
       "    .dataframe thead th {\n",
       "        text-align: right;\n",
       "    }\n",
       "</style>\n",
       "<table border=\"1\" class=\"dataframe\">\n",
       "  <thead>\n",
       "    <tr style=\"text-align: right;\">\n",
       "      <th></th>\n",
       "      <th>forecastTimeUtc</th>\n",
       "      <th>airTemperature</th>\n",
       "      <th>feelsLikeTemperature</th>\n",
       "      <th>windSpeed</th>\n",
       "      <th>windGust</th>\n",
       "      <th>windDirection</th>\n",
       "      <th>cloudCover</th>\n",
       "      <th>seaLevelPressure</th>\n",
       "      <th>relativeHumidity</th>\n",
       "      <th>totalPrecipitation</th>\n",
       "      <th>conditionCode</th>\n",
       "    </tr>\n",
       "  </thead>\n",
       "  <tbody>\n",
       "    <tr>\n",
       "      <th>0</th>\n",
       "      <td>2025-01-06 17:00:00</td>\n",
       "      <td>0.2</td>\n",
       "      <td>-4.1</td>\n",
       "      <td>4</td>\n",
       "      <td>8</td>\n",
       "      <td>156</td>\n",
       "      <td>100</td>\n",
       "      <td>997</td>\n",
       "      <td>96</td>\n",
       "      <td>0.6</td>\n",
       "      <td>rain</td>\n",
       "    </tr>\n",
       "    <tr>\n",
       "      <th>1</th>\n",
       "      <td>2025-01-06 18:00:00</td>\n",
       "      <td>1.0</td>\n",
       "      <td>-3.1</td>\n",
       "      <td>4</td>\n",
       "      <td>7</td>\n",
       "      <td>164</td>\n",
       "      <td>100</td>\n",
       "      <td>997</td>\n",
       "      <td>96</td>\n",
       "      <td>0.3</td>\n",
       "      <td>light-rain</td>\n",
       "    </tr>\n",
       "    <tr>\n",
       "      <th>2</th>\n",
       "      <td>2025-01-06 19:00:00</td>\n",
       "      <td>1.7</td>\n",
       "      <td>-2.2</td>\n",
       "      <td>4</td>\n",
       "      <td>7</td>\n",
       "      <td>172</td>\n",
       "      <td>100</td>\n",
       "      <td>997</td>\n",
       "      <td>96</td>\n",
       "      <td>0.3</td>\n",
       "      <td>light-rain</td>\n",
       "    </tr>\n",
       "    <tr>\n",
       "      <th>3</th>\n",
       "      <td>2025-01-06 20:00:00</td>\n",
       "      <td>2.4</td>\n",
       "      <td>-1.4</td>\n",
       "      <td>4</td>\n",
       "      <td>7</td>\n",
       "      <td>179</td>\n",
       "      <td>100</td>\n",
       "      <td>997</td>\n",
       "      <td>95</td>\n",
       "      <td>0.3</td>\n",
       "      <td>light-rain</td>\n",
       "    </tr>\n",
       "    <tr>\n",
       "      <th>4</th>\n",
       "      <td>2025-01-06 21:00:00</td>\n",
       "      <td>2.7</td>\n",
       "      <td>-1.0</td>\n",
       "      <td>4</td>\n",
       "      <td>7</td>\n",
       "      <td>185</td>\n",
       "      <td>100</td>\n",
       "      <td>997</td>\n",
       "      <td>94</td>\n",
       "      <td>0.0</td>\n",
       "      <td>cloudy</td>\n",
       "    </tr>\n",
       "  </tbody>\n",
       "</table>\n",
       "</div>"
      ],
      "text/plain": [
       "       forecastTimeUtc  airTemperature  feelsLikeTemperature  windSpeed  \\\n",
       "0  2025-01-06 17:00:00             0.2                  -4.1          4   \n",
       "1  2025-01-06 18:00:00             1.0                  -3.1          4   \n",
       "2  2025-01-06 19:00:00             1.7                  -2.2          4   \n",
       "3  2025-01-06 20:00:00             2.4                  -1.4          4   \n",
       "4  2025-01-06 21:00:00             2.7                  -1.0          4   \n",
       "\n",
       "   windGust  windDirection  cloudCover  seaLevelPressure  relativeHumidity  \\\n",
       "0         8            156         100               997                96   \n",
       "1         7            164         100               997                96   \n",
       "2         7            172         100               997                96   \n",
       "3         7            179         100               997                95   \n",
       "4         7            185         100               997                94   \n",
       "\n",
       "   totalPrecipitation conditionCode  \n",
       "0                 0.6          rain  \n",
       "1                 0.3    light-rain  \n",
       "2                 0.3    light-rain  \n",
       "3                 0.3    light-rain  \n",
       "4                 0.0        cloudy  "
      ]
     },
     "execution_count": 98,
     "metadata": {},
     "output_type": "execute_result"
    }
   ],
   "source": [
    "r = page.json()\n",
    "n = r['forecastTimestamps']\n",
    "df = pd.DataFrame(data=n)\n",
    "df.head()"
   ]
  },
  {
   "cell_type": "code",
   "execution_count": 99,
   "metadata": {},
   "outputs": [],
   "source": [
    "df.to_csv('forecast_meteo.csv', index=False)"
   ]
  },
  {
   "cell_type": "code",
   "execution_count": 141,
   "metadata": {},
   "outputs": [],
   "source": [
    "df1 = pd.read_csv('forecast_decision_tree_only.csv')\n",
    "df2 = pd.read_csv('forecast_decision_tree_all.csv')\n",
    "df3 = pd.read_csv('forecast_linear_only.csv')\n",
    "df4 = pd.read_csv('forecast_linear_all.csv')\n",
    "df5 = pd.read_csv('forecast_randomforests_only.csv')\n",
    "df6 = pd.read_csv('forecast_randomforests_all.csv')\n",
    "df7 = pd.read_csv('forecast_meteo_atrinkti.csv')"
   ]
  },
  {
   "cell_type": "code",
   "execution_count": 132,
   "metadata": {},
   "outputs": [],
   "source": [
    "df8 = df7[2:26]"
   ]
  },
  {
   "cell_type": "code",
   "execution_count": 133,
   "metadata": {},
   "outputs": [],
   "source": [
    "df8.to_csv('forecast_meteo_atrinkti.csv', index=False)"
   ]
  },
  {
   "cell_type": "code",
   "execution_count": 142,
   "metadata": {},
   "outputs": [],
   "source": [
    "df1['temp_dto'] = df1['air_temperature']\n",
    "df2['temp_dta'] = df2['air_temperature']\n",
    "df3['temp_lo'] = df3['air_temperature']\n",
    "df4['temp_la'] = df4['air_temperature']\n",
    "df5['temp_rfo'] = df5['air_temperature']\n",
    "df6['temp_rfa'] = df6['air_temperature']"
   ]
  },
  {
   "cell_type": "code",
   "execution_count": 143,
   "metadata": {},
   "outputs": [],
   "source": [
    "df7['temp_meteo_prog'] = df7['airTemperature']\n",
    "df7['obs_time_utc'] = df7['forecastTimeUtc']"
   ]
  },
  {
   "cell_type": "code",
   "execution_count": 146,
   "metadata": {},
   "outputs": [],
   "source": [
    "df_group = pd.merge(df1[['obs_time_utc','temp_dto']],df2[['obs_time_utc','temp_dta']],on='obs_time_utc')\n",
    "df_group = pd.merge(df_group,df3[['temp_lo','obs_time_utc']],on='obs_time_utc')\n",
    "df_group = pd.merge(df_group,df4[['temp_la','obs_time_utc']],on='obs_time_utc')\n",
    "df_group = pd.merge(df_group,df5[['temp_rfo','obs_time_utc']],on='obs_time_utc')\n",
    "df_group = pd.merge(df_group,df6[['temp_rfa','obs_time_utc']],on='obs_time_utc')\n",
    "df_group = pd.merge(df_group,df7[['temp_meteo_prog','obs_time_utc']],on='obs_time_utc')"
   ]
  },
  {
   "cell_type": "code",
   "execution_count": 147,
   "metadata": {},
   "outputs": [],
   "source": [
    "df_group.to_csv('prognozės.csv', index=False)"
   ]
  },
  {
   "cell_type": "code",
   "execution_count": 6,
   "metadata": {},
   "outputs": [],
   "source": [
    "df_group = pd.read_csv('prognozės.csv')"
   ]
  },
  {
   "cell_type": "code",
   "execution_count": 3,
   "metadata": {},
   "outputs": [],
   "source": [
    "orai1 = pd.read_json('../../../weather_data1.json')"
   ]
  },
  {
   "cell_type": "code",
   "execution_count": 5,
   "metadata": {},
   "outputs": [
    {
     "data": {
      "text/html": [
       "<div>\n",
       "<style scoped>\n",
       "    .dataframe tbody tr th:only-of-type {\n",
       "        vertical-align: middle;\n",
       "    }\n",
       "\n",
       "    .dataframe tbody tr th {\n",
       "        vertical-align: top;\n",
       "    }\n",
       "\n",
       "    .dataframe thead th {\n",
       "        text-align: right;\n",
       "    }\n",
       "</style>\n",
       "<table border=\"1\" class=\"dataframe\">\n",
       "  <thead>\n",
       "    <tr style=\"text-align: right;\">\n",
       "      <th></th>\n",
       "      <th>obs_time_utc</th>\n",
       "      <th>air_temperature</th>\n",
       "    </tr>\n",
       "  </thead>\n",
       "  <tbody>\n",
       "    <tr>\n",
       "      <th>19</th>\n",
       "      <td>2025-01-06 19:00:00</td>\n",
       "      <td>0.5</td>\n",
       "    </tr>\n",
       "    <tr>\n",
       "      <th>20</th>\n",
       "      <td>2025-01-06 20:00:00</td>\n",
       "      <td>1.0</td>\n",
       "    </tr>\n",
       "    <tr>\n",
       "      <th>21</th>\n",
       "      <td>2025-01-06 21:00:00</td>\n",
       "      <td>1.1</td>\n",
       "    </tr>\n",
       "    <tr>\n",
       "      <th>22</th>\n",
       "      <td>2025-01-06 22:00:00</td>\n",
       "      <td>2.0</td>\n",
       "    </tr>\n",
       "    <tr>\n",
       "      <th>23</th>\n",
       "      <td>2025-01-06 23:00:00</td>\n",
       "      <td>2.2</td>\n",
       "    </tr>\n",
       "    <tr>\n",
       "      <th>24</th>\n",
       "      <td>2025-01-07 00:00:00</td>\n",
       "      <td>2.4</td>\n",
       "    </tr>\n",
       "    <tr>\n",
       "      <th>25</th>\n",
       "      <td>2025-01-07 01:00:00</td>\n",
       "      <td>2.8</td>\n",
       "    </tr>\n",
       "    <tr>\n",
       "      <th>26</th>\n",
       "      <td>2025-01-07 02:00:00</td>\n",
       "      <td>3.5</td>\n",
       "    </tr>\n",
       "    <tr>\n",
       "      <th>27</th>\n",
       "      <td>2025-01-07 03:00:00</td>\n",
       "      <td>3.9</td>\n",
       "    </tr>\n",
       "    <tr>\n",
       "      <th>28</th>\n",
       "      <td>2025-01-07 04:00:00</td>\n",
       "      <td>3.2</td>\n",
       "    </tr>\n",
       "    <tr>\n",
       "      <th>29</th>\n",
       "      <td>2025-01-07 05:00:00</td>\n",
       "      <td>3.3</td>\n",
       "    </tr>\n",
       "    <tr>\n",
       "      <th>30</th>\n",
       "      <td>2025-01-07 06:00:00</td>\n",
       "      <td>2.4</td>\n",
       "    </tr>\n",
       "    <tr>\n",
       "      <th>31</th>\n",
       "      <td>2025-01-07 07:00:00</td>\n",
       "      <td>2.1</td>\n",
       "    </tr>\n",
       "    <tr>\n",
       "      <th>32</th>\n",
       "      <td>2025-01-07 08:00:00</td>\n",
       "      <td>2.4</td>\n",
       "    </tr>\n",
       "    <tr>\n",
       "      <th>33</th>\n",
       "      <td>2025-01-07 09:00:00</td>\n",
       "      <td>2.8</td>\n",
       "    </tr>\n",
       "    <tr>\n",
       "      <th>34</th>\n",
       "      <td>2025-01-07 10:00:00</td>\n",
       "      <td>2.9</td>\n",
       "    </tr>\n",
       "    <tr>\n",
       "      <th>35</th>\n",
       "      <td>2025-01-07 11:00:00</td>\n",
       "      <td>2.4</td>\n",
       "    </tr>\n",
       "    <tr>\n",
       "      <th>36</th>\n",
       "      <td>2025-01-07 12:00:00</td>\n",
       "      <td>2.8</td>\n",
       "    </tr>\n",
       "    <tr>\n",
       "      <th>37</th>\n",
       "      <td>2025-01-07 13:00:00</td>\n",
       "      <td>2.6</td>\n",
       "    </tr>\n",
       "    <tr>\n",
       "      <th>38</th>\n",
       "      <td>2025-01-07 14:00:00</td>\n",
       "      <td>2.5</td>\n",
       "    </tr>\n",
       "    <tr>\n",
       "      <th>39</th>\n",
       "      <td>2025-01-07 15:00:00</td>\n",
       "      <td>2.6</td>\n",
       "    </tr>\n",
       "    <tr>\n",
       "      <th>40</th>\n",
       "      <td>2025-01-07 16:00:00</td>\n",
       "      <td>2.6</td>\n",
       "    </tr>\n",
       "    <tr>\n",
       "      <th>41</th>\n",
       "      <td>2025-01-07 17:00:00</td>\n",
       "      <td>2.8</td>\n",
       "    </tr>\n",
       "    <tr>\n",
       "      <th>42</th>\n",
       "      <td>2025-01-07 18:00:00</td>\n",
       "      <td>2.8</td>\n",
       "    </tr>\n",
       "  </tbody>\n",
       "</table>\n",
       "</div>"
      ],
      "text/plain": [
       "           obs_time_utc  air_temperature\n",
       "19  2025-01-06 19:00:00              0.5\n",
       "20  2025-01-06 20:00:00              1.0\n",
       "21  2025-01-06 21:00:00              1.1\n",
       "22  2025-01-06 22:00:00              2.0\n",
       "23  2025-01-06 23:00:00              2.2\n",
       "24  2025-01-07 00:00:00              2.4\n",
       "25  2025-01-07 01:00:00              2.8\n",
       "26  2025-01-07 02:00:00              3.5\n",
       "27  2025-01-07 03:00:00              3.9\n",
       "28  2025-01-07 04:00:00              3.2\n",
       "29  2025-01-07 05:00:00              3.3\n",
       "30  2025-01-07 06:00:00              2.4\n",
       "31  2025-01-07 07:00:00              2.1\n",
       "32  2025-01-07 08:00:00              2.4\n",
       "33  2025-01-07 09:00:00              2.8\n",
       "34  2025-01-07 10:00:00              2.9\n",
       "35  2025-01-07 11:00:00              2.4\n",
       "36  2025-01-07 12:00:00              2.8\n",
       "37  2025-01-07 13:00:00              2.6\n",
       "38  2025-01-07 14:00:00              2.5\n",
       "39  2025-01-07 15:00:00              2.6\n",
       "40  2025-01-07 16:00:00              2.6\n",
       "41  2025-01-07 17:00:00              2.8\n",
       "42  2025-01-07 18:00:00              2.8"
      ]
     },
     "execution_count": 5,
     "metadata": {},
     "output_type": "execute_result"
    }
   ],
   "source": [
    "orai_f = orai1[19:43][['obs_time_utc', 'air_temperature']];orai_f"
   ]
  },
  {
   "cell_type": "code",
   "execution_count": 10,
   "metadata": {},
   "outputs": [],
   "source": [
    "orai_f['faktas'] = orai_f['air_temperature']\n",
    "orai_fct = orai_f[['obs_time_utc', 'faktas']]"
   ]
  },
  {
   "cell_type": "code",
   "execution_count": 11,
   "metadata": {},
   "outputs": [],
   "source": [
    "df_group = pd.merge(df_group,orai_fct,on='obs_time_utc')"
   ]
  },
  {
   "cell_type": "code",
   "execution_count": 13,
   "metadata": {},
   "outputs": [],
   "source": [
    "df_group.to_csv('prognozė_ir_faktas.csv', index=False)"
   ]
  },
  {
   "cell_type": "code",
   "execution_count": 14,
   "metadata": {},
   "outputs": [],
   "source": [
    "import seaborn as sns\n"
   ]
  },
  {
   "cell_type": "code",
   "execution_count": 15,
   "metadata": {},
   "outputs": [
    {
     "data": {
      "text/plain": [
       "<Axes: >"
      ]
     },
     "execution_count": 15,
     "metadata": {},
     "output_type": "execute_result"
    },
    {
     "data": {
      "image/png": "[encoded data removed]",
      "text/plain": [
       "<Figure size 640x480 with 1 Axes>"
      ]
     },
     "metadata": {},
     "output_type": "display_data"
    }
   ],
   "source": [
    "sns.lineplot(data=df_group)"
   ]
  },
  {
   "cell_type": "code",
   "execution_count": null,
   "metadata": {},
   "outputs": [],
   "source": [
    "df_group"
   ]
  }
 ],
 "metadata": {
  "kernelspec": {
   "display_name": "Python 3",
   "language": "python",
   "name": "python3"
  },
  "language_info": {
   "codemirror_mode": {
    "name": "ipython",
    "version": 3
   },
   "file_extension": ".py",
   "mimetype": "text/x-python",
   "name": "python",
   "nbconvert_exporter": "python",
   "pygments_lexer": "ipython3",
   "version": "3.12.4"
  }
 },
 "nbformat": 4,
 "nbformat_minor": 2
}
