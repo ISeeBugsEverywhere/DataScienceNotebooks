{
 "cells": [
  {
   "cell_type": "code",
   "execution_count": null,
   "metadata": {},
   "outputs": [],
   "source": [
    "# pigult webscrap"
   ]
  },
  {
   "cell_type": "code",
   "execution_count": 2,
   "metadata": {},
   "outputs": [],
   "source": [
    "import numpy as np\n",
    "import pandas as pd\n",
    "import matplotlib.pyplot as plt\n",
    "import warnings\n",
    "warnings.filterwarnings('ignore')\n",
    "import seaborn as sns\n",
    "import sqlite3\n",
    "import mysql.connector as cnt\n",
    "import plotly.express as px\n",
    "import random\n",
    "\n",
    "from Skriptai.manofunkcijos import *\n",
    "\n",
    "import requests\n",
    "from bs4 import BeautifulSoup\n",
    "import selenium\n",
    "from selenium import webdriver # naršyklės kontroleris\n",
    "from selenium.webdriver.chrome.options import Options #Naršyklės\n",
    "# pip install beautifulsoup4 selenium\n",
    "import time\n",
    "import nordvpn_switcher as ns"
   ]
  },
  {
   "cell_type": "code",
   "execution_count": null,
   "metadata": {},
   "outputs": [],
   "source": [
    "url = 'https://pigu.lt/lt/saldytuvai/gorenje-rf212epw4?id=80913785'\n",
    "opcijos = Options()\n",
    "opcijos.add_argument('--incognito')\n",
    "driver = webdriver.Chrome(options=opcijos)\n",
    "driver.get(url)\n",
    "time.sleep(3)\n",
    "source = driver.page_source\n",
    "bs = BeautifulSoup(source, 'html.parser')\n",
    "price = bs.find('div', {'widget':'Product'})\n",
    "# adv = bs.find('div', {'class':'h-row h-pl--8 h-pr--8'}).find_all('tr')\n",
    "# for a in adv:\n",
    "#     print(f'Pavadinimas {a.find_all('td')[0].text.strip()}')\n",
    "#     print(f'Laukas {a.find_all('td')[1].text.strip()}')\n",
    "# print(adv)\n",
    "# print(adv.find('h1',{'class':'c-product__name'}).text.strip())\n",
    "print(price)"
   ]
  },
  {
   "cell_type": "code",
   "execution_count": 49,
   "metadata": {},
   "outputs": [],
   "source": [
    "x = eval(price['widget-data'].replace('null','None').replace('false','False').replace('true','True'))\n"
   ]
  },
  {
   "cell_type": "code",
   "execution_count": 50,
   "metadata": {},
   "outputs": [
    {
     "data": {
      "text/plain": [
       "dict"
      ]
     },
     "execution_count": 50,
     "metadata": {},
     "output_type": "execute_result"
    }
   ],
   "source": [
    "type(x)"
   ]
  },
  {
   "cell_type": "code",
   "execution_count": 51,
   "metadata": {},
   "outputs": [
    {
     "data": {
      "text/plain": [
       "dict_keys(['productId', 'm', 'v', 'w', 'h', 'wishlistId', 'meta', 'n18', 'productClass', 'supplierId', 'specialMessage', 'categoryId', 'hasWarranty', 'compareSelected', 'dataLayerItem', 'ignoreSelectItem', 'ignoreViewItem', 'warrantyInsurance'])"
      ]
     },
     "execution_count": 51,
     "metadata": {},
     "output_type": "execute_result"
    }
   ],
   "source": [
    "x.keys()"
   ]
  },
  {
   "cell_type": "code",
   "execution_count": 52,
   "metadata": {},
   "outputs": [
    {
     "data": {
      "text/plain": [
       "'179.00'"
      ]
     },
     "execution_count": 52,
     "metadata": {},
     "output_type": "execute_result"
    }
   ],
   "source": [
    "x['meta']['sell_price']"
   ]
  },
  {
   "cell_type": "code",
   "execution_count": 39,
   "metadata": {},
   "outputs": [
    {
     "name": "stdout",
     "output_type": "stream",
     "text": [
      "{'productId': '80913785', 'm': '102913080', 'v': 0, 'w': 0, 'h': 'cf9e6558ef949a267c251f89615addd9', 'wishlistId': 0, 'meta': {'id': '80913785', 'title': 'Laisvai pastatomas, Šaldytuvas su šaldikliu viršuje Gorenje RF212EPW4, Rankinis atitirpinimas', 'nativeTitle': 'Laisvai pastatomas, Šaldytuvas su šaldikliu viršuje Gorenje RF212EPW4, Rankinis atitirpinimas', 'sell_price': '179.00', 'sellPrice': '179.00', 'sectionCode': 'push001', 'location': 'product \\\\/ product'}, 'n18': 'n', 'productClass': None, 'supplierId': None, 'specialMessage': False, 'categoryId': '8669', 'hasWarranty': True, 'compareSelected': False, 'dataLayerItem': {'index': 0, 'item_id': 80913785, 'item_name': 'Gorenje RF212EPW4', 'item_brand': 'Gorenje', 'item_variant': 102913080, 'price': 179, 'quantity': 1, 'supply_type': '1P', 'supply_id': 4230, 'item_status': 'active', 'custom_ecommerce_params': {'component_type': 'cart_control', 'component_name': 'product_cart_control', 'component_code': 'ri_ptcc_0_pi', 'component_index': 0, 'item_list_name': 'product_cart_control', 'item_list_id': 'ri_ptcc_0_pi', 'component_engine': 'pi', 'component_origin': 'web'}}, 'ignoreSelectItem': True, 'ignoreViewItem': True, 'warrantyInsurance': {'insurance': {'image_path': 'facelift\\\\/img\\\\/svg-n\\\\/icon-insurance-4.svg', 'index': 'insurancePrices', 'title': 'Gamintojo suteikiamas draudimas', 'period': '0 metų', 'cardTitle': {'link': 'insurance_text', 'linkText': 'Draudimas', 'remainingText': 'nuo dūžių, vandens, vagystės'}, 'fields': {'insurance': {'id': 'insurance', 'method': 'getDefaultInsuranceModIdHash', 'discounts': [], 'dropdown': {'5fe196d2ed8680bd085e70ad2d03d0af': 35, 'aa9e5aeb5c0b144a6e9ab93e75c7cfb4': 54}, 'defaultValue': 'aa9e5aeb5c0b144a6e9ab93e75c7cfb4'}}, 'terms': {'27216422': {'hash': '5fe196d2ed8680bd085e70ad2d03d0af', 'term': 12, 'price': 35, 'dataLayerItem': {'index': 0, 'item_id': 27778272, 'item_name': 'Gamintojo suteikiamas draudimas - 12', 'item_variant': 27216422, 'price': 35, 'quantity': 1, 'custom_ecommerce_params': {'component_type': 'cart_control', 'component_name': 'service_insurance', 'component_code': 'ri_seie_0', 'component_index': 0, 'item_list_id': 'ri_seie_0', 'item_list_name': 'service_insurance', 'component_engine': 'pi', 'component_origin': 'web'}}}, '27216462': {'hash': 'aa9e5aeb5c0b144a6e9ab93e75c7cfb4', 'term': 24, 'price': 54, 'dataLayerItem': {'index': 0, 'item_id': 27778272, 'item_name': 'Gamintojo suteikiamas draudimas - 24', 'item_variant': 27216462, 'price': 54, 'quantity': 1, 'custom_ecommerce_params': {'component_type': 'cart_control', 'component_name': 'service_insurance', 'component_code': 'ri_seie_0', 'component_index': 0, 'item_list_id': 'ri_seie_0', 'item_list_name': 'service_insurance', 'component_engine': 'pi', 'component_origin': 'web'}}}}, 'id': 'insurancePrices', 'hideTitle': False, 'defaultValue': 'aa9e5aeb5c0b144a6e9ab93e75c7cfb4', 'defaultId': 27216462, 'productId': 27778272, 'showLastPrices': False, 'titleHtml': '<span class=\"warranty-card-title\"><a widget=\"LinkModal\" class=\"text-blue blue-link\" href=\"https:\\\\/\\\\/pigu.lt\\\\/lt\\\\/t\\\\/prekes_draudimas\">Draudimas<\\\\/a> - nuo dūžių, vandens, vagystės<\\\\/span>', 'hideFields': False, 'boxChecked': False}, 'warranty': {'image_path': 'facelift\\\\/img\\\\/svg-n\\\\/icon-warranty-4.svg', 'index': 'warrantyPrices', 'title': 'Gamintojo suteikiama garantija fiziniams asmenims', 'cardTitle': {'link': 'warranty_text', 'linkText': 'Pratęsta garantija', 'remainingText': 'nemokamas remontas arba keitimas nauja preke'}, 'fields': {'warranty': {'id': 'warranty', 'method': 'getDefaultWarrantyModIdHash', 'discounts': [{'include': True, 'before': '2022-11-14 23:59:59', 'after': '2050-11-28 23:59:59', 'text': 'REKOMENDUOJAME', 'color': '#1F70D9', 'label': 'c-label--recommend'}], 'dropdown': {'7441480650b38aac41ef6a127d3951b3': 11, '2e85a591ce5ba56fffde2a1dc434c4bf': 19, 'bd8dff91d42b764b80dee96df1f01f48': 28, 'c42f9718b9ad394c9825f79932461b65': 33, '80e996533753c6a9e1d474730d7bac5a': 39}, 'defaultValue': 'bd8dff91d42b764b80dee96df1f01f48'}}, 'terms': {'27216547': {'hash': '7441480650b38aac41ef6a127d3951b3', 'term': 12, 'price': 11, 'dataLayerItem': {'index': 1, 'item_id': 27778392, 'item_name': 'Gamintojo suteikiama garantija fiziniams asmenims - 12', 'item_variant': 27216547, 'price': 11, 'quantity': 1, 'custom_ecommerce_params': {'component_type': 'cart_control', 'component_name': 'service_insurance', 'component_code': 'ri_seie_0', 'component_index': 0, 'item_list_id': 'ri_seie_0', 'item_list_name': 'service_insurance', 'component_engine': 'pi', 'component_origin': 'web'}}}, '27216552': {'hash': '2e85a591ce5ba56fffde2a1dc434c4bf', 'term': 24, 'price': 19, 'dataLayerItem': {'index': 1, 'item_id': 27778392, 'item_name': 'Gamintojo suteikiama garantija fiziniams asmenims - 24', 'item_variant': 27216552, 'price': 19, 'quantity': 1, 'custom_ecommerce_params': {'component_type': 'cart_control', 'component_name': 'service_insurance', 'component_code': 'ri_seie_0', 'component_index': 0, 'item_list_id': 'ri_seie_0', 'item_list_name': 'service_insurance', 'component_engine': 'pi', 'component_origin': 'web'}}}, '27216567': {'hash': 'bd8dff91d42b764b80dee96df1f01f48', 'term': 36, 'price': 28, 'dataLayerItem': {'index': 1, 'item_id': 27778392, 'item_name': 'Gamintojo suteikiama garantija fiziniams asmenims - 36', 'item_variant': 27216567, 'price': 28, 'quantity': 1, 'custom_ecommerce_params': {'component_type': 'cart_control', 'component_name': 'service_insurance', 'component_code': 'ri_seie_0', 'component_index': 0, 'item_list_id': 'ri_seie_0', 'item_list_name': 'service_insurance', 'component_engine': 'pi', 'component_origin': 'web'}}}, '27216572': {'hash': 'c42f9718b9ad394c9825f79932461b65', 'term': 48, 'price': 33, 'dataLayerItem': {'index': 1, 'item_id': 27778392, 'item_name': 'Gamintojo suteikiama garantija fiziniams asmenims - 48', 'item_variant': 27216572, 'price': 33, 'quantity': 1, 'custom_ecommerce_params': {'component_type': 'cart_control', 'component_name': 'service_insurance', 'component_code': 'ri_seie_0', 'component_index': 0, 'item_list_id': 'ri_seie_0', 'item_list_name': 'service_insurance', 'component_engine': 'pi', 'component_origin': 'web'}}}, '27216582': {'hash': '80e996533753c6a9e1d474730d7bac5a', 'term': 60, 'price': 39, 'dataLayerItem': {'index': 1, 'item_id': 27778392, 'item_name': 'Gamintojo suteikiama garantija fiziniams asmenims - 60', 'item_variant': 27216582, 'price': 39, 'quantity': 1, 'custom_ecommerce_params': {'component_type': 'cart_control', 'component_name': 'service_insurance', 'component_code': 'ri_seie_0', 'component_index': 0, 'item_list_id': 'ri_seie_0', 'item_list_name': 'service_insurance', 'component_engine': 'pi', 'component_origin': 'web'}}}}, 'id': 'warrantyPrices', 'hideTitle': False, 'defaultValue': 'bd8dff91d42b764b80dee96df1f01f48', 'defaultId': 27216567, 'productId': 27778392, 'period': '2 metai', 'showLastPrices': False, 'titleHtml': '<span class=\"warranty-card-title\"><a widget=\"LinkModal\" class=\"text-blue blue-link\" href=\"https:\\\\/\\\\/pigu.lt\\\\/lt\\\\/t\\\\/pratesta_garantija\">Pratęsta garantija<\\\\/a> - nemokamas remontas arba keitimas nauja preke<\\\\/span>', 'hideFields': False, 'boxChecked': False}}}\n"
     ]
    }
   ],
   "source": [
    "print(x)"
   ]
  },
  {
   "cell_type": "code",
   "execution_count": 63,
   "metadata": {},
   "outputs": [
    {
     "name": "stdout",
     "output_type": "stream",
     "text": [
      "Puslapiai 18\n",
      "Puslapiai 7\n",
      "Puslapiai 19\n",
      "Puslapiai 11\n",
      "Puslapiai 35\n"
     ]
    }
   ],
   "source": [
    "list_of_urls = ['https://pigu.lt/lt/saldytuvai','https://pigu.lt/lt/kompiuterine-technika/dronai','https://pigu.lt/lt/plansetiniai-kompiuteriai/plansetes-tablets','https://pigu.lt/lt/televizoriai','https://pigu.lt/lt/dviraciai']\n",
    "opcijos = Options()\n",
    "opcijos.add_argument('--incognito')\n",
    "driver = webdriver.Chrome(options=opcijos)\n",
    "for url in list_of_urls:\n",
    "    try:\n",
    "        urlas = url\n",
    "        driver.get(urlas)\n",
    "        time.sleep(3)\n",
    "        source = driver.page_source\n",
    "        bs = BeautifulSoup(source, 'html.parser')\n",
    "        count = int(round(int(bs.find('span', {'class':'product-counter'}).text.strip().replace('(','').replace(')',''))/59,0)+1)\n",
    "        print(f'Puslapiai {count}')\n",
    "        for i in range(count):\n",
    "            try:\n",
    "                page = i + 1\n",
    "                url = f'{urlas}?page={page}'\n",
    "                driver.get(url)\n",
    "                source = driver.page_source\n",
    "                bs = BeautifulSoup(source, 'html.parser')\n",
    "                advs = bs.find_all('div', {'class':'c-product-card__image-wrapper'})\n",
    "                for dv in advs:\n",
    "                    try:\n",
    "                        zod = {}\n",
    "                        zod['Skelbimo_tipas'] = urlas\n",
    "                        url = dv.find('a')['href']\n",
    "                        # if True:\n",
    "                        if not check_if_value_exists_or_max('../../../web_scrap.db','pigult','URL',url):\n",
    "                            zod['URL'] = url\n",
    "                            driver.get(url)\n",
    "                            source = driver.page_source\n",
    "                            ss = BeautifulSoup(source, 'html.parser')\n",
    "                            info = ss.find('div', {'class':'c-product__info'})\n",
    "                            try:\n",
    "                                zod['Gamintojas'] = info.find('a',{'class':'c-product__brand'}).text.strip()\n",
    "                            except:\n",
    "                                None\n",
    "                            try:\n",
    "                                zod['Aprašymas'] = info.find('h1',{'class':'c-product__name'}).text.strip()\n",
    "                            except:\n",
    "                                None\n",
    "                            # print(zod)\n",
    "                            x = ss.find('div', {'widget':'Product'})\n",
    "                            # zod['meta'] = eval(x['widget-data'].replace('null','None').replace('false','False').replace('true','True'))['meta']\n",
    "                            # print(zod)\n",
    "                            price = eval(x['widget-data'].replace('null','None').replace('false','False').replace('true','True'))['meta']['sell_price']\n",
    "                            zod['Kaina'] = price\n",
    "                            try:\n",
    "                                fspec = ss.find('div', {'class':'s-is-trimmed'}).find_all('tr')\n",
    "                                for s in fspec:\n",
    "                                    try:\n",
    "                                        x = None\n",
    "                                        y = None\n",
    "                                        x = s.find_all('td')[0].text.strip().replace(':','')\n",
    "                                        y = s.find_all('td')[1].text.strip()\n",
    "                                        zod[x]=y\n",
    "                                    except Exception as e:\n",
    "                                        print(e)\n",
    "                            except:\n",
    "                                None\n",
    "                            insert_into_db(zod,'../../../web_scrap.db','pigult')\n",
    "                    except Exception as e:\n",
    "                        print(e)\n",
    "                        print(zod)\n",
    "            except:\n",
    "                None\n",
    "    except Exception as e:\n",
    "        print(e)\n",
    "driver.close()"
   ]
  }
 ],
 "metadata": {
  "kernelspec": {
   "display_name": "Python 3",
   "language": "python",
   "name": "python3"
  },
  "language_info": {
   "codemirror_mode": {
    "name": "ipython",
    "version": 3
   },
   "file_extension": ".py",
   "mimetype": "text/x-python",
   "name": "python",
   "nbconvert_exporter": "python",
   "pygments_lexer": "ipython3",
   "version": "3.12.4"
  }
 },
 "nbformat": 4,
 "nbformat_minor": 2
}
