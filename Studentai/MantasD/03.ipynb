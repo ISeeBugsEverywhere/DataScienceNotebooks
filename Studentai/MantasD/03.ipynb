{
 "cells": [
  {
   "cell_type": "code",
   "execution_count": 1,
   "metadata": {},
   "outputs": [
    {
     "name": "stdout",
     "output_type": "stream",
     "text": [
      "Lyginis\n"
     ]
    }
   ],
   "source": [
    "i = int(input('Iveskite'))\n",
    "ats = 'Lyginis' if i % 2 == 0 else \"Nelyginis\"\n",
    "print(ats)"
   ]
  },
  {
   "cell_type": "code",
   "execution_count": 2,
   "metadata": {},
   "outputs": [
    {
     "name": "stdout",
     "output_type": "stream",
     "text": [
      "a maziau uz b\n"
     ]
    }
   ],
   "source": [
    "a = 10\n",
    "b = 20\n",
    "\n",
    "ats = \"a lygus b\" if a == b else 'a maziau uz b' if a < b else 'a daugiau uz b' \n",
    "\n",
    "print (ats)"
   ]
  },
  {
   "cell_type": "code",
   "execution_count": 3,
   "metadata": {},
   "outputs": [
    {
     "name": "stdout",
     "output_type": "stream",
     "text": [
      "!!\n"
     ]
    }
   ],
   "source": [
    "if 0:\n",
    "    print('!')\n",
    "else:\n",
    "    print('!!')"
   ]
  },
  {
   "cell_type": "code",
   "execution_count": null,
   "metadata": {},
   "outputs": [],
   "source": [
    "# • Liepkite vartotojui suvesti savo amžių. Patikrinkite ar amžius\n",
    "# yra didesnis arba lygus 18-ai, jei taip - išveskite “jūs galite\n",
    "# balsuoti”.\n",
    "# • Leiskite vartotojui suvesti norimą kiekį pažymių (pavyzdžiui,\n",
    "# jūs nusimatote 3-is kintamuosius, tai leidžiate padaryti 3\n",
    "# įvedimus). Raskite šių pažymių vidurkį. Patikrinkite ar\n",
    "# vidurkis teigiamas (daugiau arba lygu 5-iems), jei taip -\n",
    "# išveskite 'vidurkis teigiamas'.\n"
   ]
  },
  {
   "cell_type": "code",
   "execution_count": 10,
   "metadata": {},
   "outputs": [
    {
     "name": "stdout",
     "output_type": "stream",
     "text": [
      "Galite balsuoti\n"
     ]
    }
   ],
   "source": [
    "a = int(input('iVESKITE AMZIU'))\n",
    "ats = \"Galite balsuoti\" if a>=18 else \"Balsuoti negalima\"\n",
    "print(ats)"
   ]
  },
  {
   "cell_type": "code",
   "execution_count": 15,
   "metadata": {},
   "outputs": [
    {
     "name": "stdout",
     "output_type": "stream",
     "text": [
      "Teigiamas vidurkis\n"
     ]
    }
   ],
   "source": [
    "a = int(input('iveskite pazymius'))\n",
    "b = int(input('iveskite pazymius'))\n",
    "c = int(input('iveskite pazymius'))\n",
    "vid= (a+b+c)/3\n",
    "ats = \"Teigiamas vidurkis\" if vid>=5 else \"Neigiamas vidurkis\"\n",
    "print(ats)"
   ]
  },
  {
   "cell_type": "code",
   "execution_count": null,
   "metadata": {},
   "outputs": [],
   "source": [
    "# • Parašyti programą, kuri paklaustų dviejų skaičių, ir juos\n",
    "# palygintų.\n",
    "# • Paklausti teksto, ir patikrinti, ar tas tekstas yra sakinyje\n",
    "# \"Vilnius yra UNESCO paveldas nuo 1996 metų.\"\n",
    "# • Patikrinti įvestą skaičių, ar jis yra tarp 10 ir 20. Pavyzdžiui,\n",
    "# įvedus 15, turi spausdinti: \"15 yra tarp 10 ir 20\"\n",
    "# • Patikrinti, ar vartotojo įvestas skaičius yra lyginis, ar ne.\n",
    "# • parašyti programą 'FizzBuzz'. Įvedus skaičių, kuris dalinasi\n",
    "# iš 3, spausdinamas žodis \"Fizz\", jei dalinasi iš 5 - \"Buzz\", o jei\n",
    "# dalinasi ir iš 3 ir iš 5 - \"FizzBuzz\". Jei nesidalina nei iš 3, nei iš\n",
    "# 5 - spausdinamas įvestas skaičius.\n",
    "# • Patikrinkite vartotojo įvestą tekstą:\n",
    "# • Ar vartotojas apskritai ką nors įvedė?\n",
    "# • Ar jame vien tik skaičiai?\n",
    "# • Ar jame vien tik raidės?\n",
    "# • Ar jame nėra specialiųjų simbolių?\n",
    "# • Kokiu registru parašytas tekstas?"
   ]
  },
  {
   "cell_type": "code",
   "execution_count": 19,
   "metadata": {},
   "outputs": [
    {
     "name": "stdout",
     "output_type": "stream",
     "text": [
      "a maziau uz b\n"
     ]
    }
   ],
   "source": [
    "a = int(input('iveskite skaiciu'))\n",
    "b = int(input('iveskite skaiciu'))\n",
    "ats = 'Lygus'if a == b else \"a maziau uz b\" if a<b else \"a daugiau uz b\"\n",
    "print(ats)"
   ]
  },
  {
   "cell_type": "code",
   "execution_count": 21,
   "metadata": {},
   "outputs": [
    {
     "name": "stdout",
     "output_type": "stream",
     "text": [
      "Teksto nera sakinyje: Vilnius yra UNESCO paveldas nuo 1996 metų.\n"
     ]
    }
   ],
   "source": [
    "a = str(input('iveskite teksta'))\n",
    "b = 'Vilnius yra UNESCO paveldas nuo 1996 metų.'\n",
    "ats = \"Tekstas yra sakinyje: Vilnius yra UNESCO paveldas nuo 1996 metų.\" if b.count(a)>0 else \"Teksto nera sakinyje: Vilnius yra UNESCO paveldas nuo 1996 metų.\"\n",
    "print(ats)"
   ]
  },
  {
   "cell_type": "code",
   "execution_count": 28,
   "metadata": {},
   "outputs": [
    {
     "name": "stdout",
     "output_type": "stream",
     "text": [
      "Skaicius {a} yra tarp skaiciu 10 ir 20\n",
      "None\n"
     ]
    }
   ],
   "source": [
    "a = int(input('iveskite skaiciu'))\n",
    "ats = print(\"Skaicius {a} yra tarp skaiciu 10 ir 20\") if a>10  and  a<20 else print(\"Skaicius {a} nera tarp skaiciu 10 ir 20\")\n",
    "print(ats)"
   ]
  },
  {
   "cell_type": "code",
   "execution_count": 30,
   "metadata": {},
   "outputs": [
    {
     "name": "stdout",
     "output_type": "stream",
     "text": [
      "Nelyginis\n"
     ]
    }
   ],
   "source": [
    "a = int(input('iveskite skaiciu'))\n",
    "ats = \"Lyginis\" if a%2==0 else 'Nelyginis'\n",
    "print(ats)"
   ]
  },
  {
   "cell_type": "code",
   "execution_count": 36,
   "metadata": {},
   "outputs": [
    {
     "name": "stdout",
     "output_type": "stream",
     "text": [
      "13\n",
      "None\n"
     ]
    }
   ],
   "source": [
    "a = int(input('iveskite skaiciu'))\n",
    "ats = \"Fizz\" if a%3==0 and a%5>0 else 'Buzz' if a%5==0 and a%3>0 else 'FizzBuzz' if a%5==0 and a%3==0 else print(a)\n",
    "print(ats)"
   ]
  },
  {
   "cell_type": "code",
   "execution_count": 44,
   "metadata": {},
   "outputs": [
    {
     "name": "stdout",
     "output_type": "stream",
     "text": [
      "Nera teksto arba panaudoti specialieji simboliai\n"
     ]
    }
   ],
   "source": [
    "a = input('iveskite teksta')\n",
    "ats = \"Ivesti skaiciai\" if a.isnumeric() else \"Ivestos vien raides\" if a.isalpha() else \"Panaudotos didziosios raides\" if a.isupper() else \"Panaudotos mazosios raides\" if a.islower() else \"Nera teksto arba panaudoti specialieji simboliai\"\n",
    "print(ats)"
   ]
  },
  {
   "cell_type": "code",
   "execution_count": 50,
   "metadata": {},
   "outputs": [
    {
     "name": "stdout",
     "output_type": "stream",
     "text": [
      "100000.0 cm\n",
      "1000000.0 mm\n",
      "1.0 km\n",
      "1\n",
      "25\n"
     ]
    }
   ],
   "source": [
    "# • Leiskite vartotojui įvesti metrus. Išveskite, kiek tai gaunasi\n",
    "# centimetrais, milimetrais ir kilometrais.\n",
    "m = int(input('iveskite metrus'))\n",
    "cm = float(m*100)\n",
    "print(f'{cm} cm')\n",
    "mm = float(cm*10)\n",
    "print(f'{mm} mm')\n",
    "km = float(m/1000)\n",
    "print(f'{km} km')\n",
    "# • Leiskite vartotojui įvesti du norimus skaičius. Išveskite kokia\n",
    "# gaunasi liekana padalinus vieną skaičių iš kito.\n",
    "a = int(input('iveskite skaiciu'))\n",
    "b = int(input('iveskite skaiciu'))\n",
    "l = a%b\n",
    "print(l)\n",
    "# • Leiskite vartotojui įvesti du skaičius. Išveskite kiek gautųsi\n",
    "# vieną skaičių pakėlus kito skaičiaus laipsniu (pvz, pirmas\n",
    "# skaičius eina už pagrindą, o antras skaičius yra laipsnis,\n",
    "# kuriuo ir keliame).\n",
    "laipsnis = a**b\n",
    "print(laipsnis)"
   ]
  },
  {
   "cell_type": "code",
   "execution_count": 92,
   "metadata": {},
   "outputs": [
    {
     "name": "stdout",
     "output_type": "stream",
     "text": [
      "Python kalba\n",
      "['yra', 'programavimo']\n",
      "<class 'str'>\n",
      "Tekstas\n",
      "6\n",
      "10\n",
      "['Aš', 'mėgstu', 'su', 'ir', 'su']\n",
      "Aš mėgstu su ir su\n",
      " VILNIUS 1323\n",
      "STO\n",
      "Didziosios raides\n"
     ]
    }
   ],
   "source": [
    "lst = [\"Python\", \"yra\", \"lengva\", \"programavimo\", \"kalba\"]\n",
    "# • Išveskite pirmą, paskutinį elementus\n",
    "a = lst[0]\n",
    "b = lst[-1]\n",
    "print(a,b)\n",
    "# • Išveskite kas antrą elementą\n",
    "a = lst[1::2]\n",
    "print(a)\n",
    "# • Išveskite priešpaskutinio elemento tipą\n",
    "a = type(lst[-2])\n",
    "print(a)\n",
    "# • Patikrinkite, ar pirmasis sąrašo elementas yra tekstas, ir kiek\n",
    "# simbolių jis turi.\n",
    "a = lst[0]\n",
    "ats = \"Tekstas\" if a.isalpha() else 'Ne tekstas'\n",
    "print(ats)\n",
    "el = len(a)\n",
    "print(el)\n",
    "txt = \"Aš rytais mėgstu kavą su sumuštiniais ir arbatą su pyragu\"\n",
    "# • Suskaičiuokite, kiek šiame tekste yra žodžių.\n",
    "t = txt.split()\n",
    "el = len(t)\n",
    "print(el)\n",
    "# • Išveskite tekstą be kas antro žodžio\n",
    "t1 = t[::2]\n",
    "print(t1)\n",
    "txt = ' '.join(t1)\n",
    "print(txt)\n",
    "# Sąrašai gali turėti savyje bet kokį objektą, kad ir kitą sąrašą\n",
    "# (sudėtinis sąrašas (nested list)).\n",
    "l = [\"Vilnius\", 1323, [\"Nupirkti maisto\", \"PABėgioti\"], 8, \"Rytas\"]\n",
    "# • Išveskite Vilniaus paminėjimo metus, žodį ”Vilnius”\n",
    "# didžiosiomis raidėmis\n",
    "print(f' {l[0].upper()} {l[1]}')\n",
    "# • Išveskite žodžio ”maisto” paskutines tris raides didžiosiomis.\n",
    "l1 = l[2][0].split()[1][-3:].upper()\n",
    "print(l1)\n",
    "# • Užrašykite kodą, kuris patikrintų, ar žodžio ”Pabėgioti” pirmi\n",
    "# trys simboliai yra didžiosios raidės.\n",
    "l2 = l[2][1][:3]\n",
    "ats = \"Didziosios raides\" if l2.isupper() else \"ne didziosios\"\n",
    "print(ats)"
   ]
  }
 ],
 "metadata": {
  "kernelspec": {
   "display_name": "Python 3",
   "language": "python",
   "name": "python3"
  },
  "language_info": {
   "codemirror_mode": {
    "name": "ipython",
    "version": 3
   },
   "file_extension": ".py",
   "mimetype": "text/x-python",
   "name": "python",
   "nbconvert_exporter": "python",
   "pygments_lexer": "ipython3",
   "version": "3.12.4"
  }
 },
 "nbformat": 4,
 "nbformat_minor": 2
}
