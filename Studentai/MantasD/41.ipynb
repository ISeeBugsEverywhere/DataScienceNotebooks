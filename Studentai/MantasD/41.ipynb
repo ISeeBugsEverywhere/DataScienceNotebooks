{
 "cells": [
  {
   "cell_type": "code",
   "execution_count": 2,
   "metadata": {},
   "outputs": [],
   "source": [
    "%reload_ext autoreload\n",
    "%autoreload 2"
   ]
  },
  {
   "cell_type": "code",
   "execution_count": 1,
   "metadata": {},
   "outputs": [],
   "source": [
    "import numpy as np\n",
    "import pandas as pd\n",
    "import matplotlib.pyplot as plt\n",
    "import warnings\n",
    "warnings.filterwarnings('ignore')\n",
    "import seaborn as sns\n",
    "import sqlite3\n",
    "import mysql.connector as cnt\n",
    "import plotly.express as px\n",
    "\n",
    "from manofunkcijos import *\n",
    "\n",
    "import requests\n",
    "from bs4 import BeautifulSoup\n",
    "import selenium\n",
    "from selenium import webdriver # naršyklės kontroleris\n",
    "from selenium.webdriver.chrome.options import Options #Naršyklės\n",
    "# pip install beautifulsoup4 selenium\n",
    "import time"
   ]
  },
  {
   "cell_type": "code",
   "execution_count": 8,
   "metadata": {},
   "outputs": [
    {
     "name": "stdout",
     "output_type": "stream",
     "text": [
      "0\n"
     ]
    }
   ],
   "source": [
    "url = 'https://ec.forexprostools.com/'\n",
    "\n",
    "page = requests.get(url)\n",
    "source = page.content\n",
    "\n",
    "bs = BeautifulSoup(source, 'html.parser')\n",
    "\n",
    "straipsniai = bs.find_all('td', {'class':'theDay'})\n",
    "print(len(straipsniai))"
   ]
  },
  {
   "cell_type": "code",
   "execution_count": 10,
   "metadata": {},
   "outputs": [],
   "source": [
    "opcijos = Options()\n",
    "opcijos.add_argument('--incognito')\n",
    "driver = webdriver.Chrome(options=opcijos)\n",
    "url = 'https://www.varle.lt/dronai/'\n",
    "driver.get(url)\n",
    "time.sleep(5)\n",
    "source = driver.page_source\n",
    "driver.close()"
   ]
  },
  {
   "cell_type": "code",
   "execution_count": 11,
   "metadata": {},
   "outputs": [],
   "source": [
    "bs = BeautifulSoup(source, 'html.parser')"
   ]
  },
  {
   "cell_type": "code",
   "execution_count": 16,
   "metadata": {},
   "outputs": [
    {
     "name": "stdout",
     "output_type": "stream",
     "text": [
      "<a href=\"/dronai/dronas-dji-mini-2-se-fly-more-combo--23881156.html\">\n",
      "<img alt=\"Nuotrauka Nr.1\" class=\"product-img primary-img\" height=\"195\" loading=\"lazy\" src=\"https://www.varle.lt/static/uploads/products/235x195/404/bun/bundle-fly-more-dji-mini-2-se-mini-drone.jpg\" title=\"Dronas DJI Mini 2 SE Fly More Combo\" width=\"235\"/>\n",
      "<img alt=\"Nuotrauka Nr.2\" class=\"product-img secondary-img\" height=\"195\" loading=\"lazy\" src=\"https://www.varle.lt/static/uploads/products/235x195/404/bun/bundle-fly-more-dji-mini-2-se-mini-drone_Wo609zb.jpg\" title=\"Dronas DJI Mini 2 SE Fly More Combo\" width=\"235\"/>\n",
      "</a>\n",
      "::REM::\n",
      "/dronai/dronas-dji-mini-2-se-fly-more-combo--23881156.html\n",
      "Dronas DJI Mini 2 SE Fly More Combo\n"
     ]
    }
   ],
   "source": [
    "sk = bs.find('div', {'class': 'GRID_ITEM'}).find('a')\n",
    "print(sk)\n",
    "print('::REM::')\n",
    "print(sk['href'])\n",
    "img = sk.find('img')\n",
    "print(img['title'])"
   ]
  },
  {
   "cell_type": "code",
   "execution_count": 7,
   "metadata": {},
   "outputs": [],
   "source": [
    "opcijos = Options()\n",
    "opcijos.add_argument('--incognito')\n",
    "driver = webdriver.Chrome(options=opcijos)\n",
    "url = 'https://kauno.diena.lt/'\n",
    "driver.get(url)\n",
    "time.sleep(5)\n",
    "source = driver.page_source\n",
    "driver.close()\n",
    "bs = BeautifulSoup(source, 'html.parser')"
   ]
  },
  {
   "cell_type": "code",
   "execution_count": 8,
   "metadata": {},
   "outputs": [
    {
     "name": "stdout",
     "output_type": "stream",
     "text": [
      "41\n"
     ]
    }
   ],
   "source": [
    "straipsniai = bs.find_all('div', {'class':'category-block-row grid-12 alpha omega unscore'})\n",
    "print(len(straipsniai))"
   ]
  },
  {
   "cell_type": "code",
   "execution_count": 9,
   "metadata": {},
   "outputs": [
    {
     "name": "stdout",
     "output_type": "stream",
     "text": [
      "['2024-ųjų Seimo rinkimai: laimėjo socdemai, antri – TS-LKD, treti – „Nemuno Aušra“ ', 'Į antrąjį Seimo rinkimų turą patekę kandidatai (apžvalga)', 'Judrioje Aleksoto gatvėje – laikini eismo ribojimai', 'Septyniose apygardose bus perskaičiuoti balsai, Panemunėje gali būti trys kandidatai ', 'Kauniečiai noriai balsavo Seimo rinkimuose: kai kur – stebinantis aktyvumas', 'Vytėnų gyventojas: šviesoforas neveikia, neįmanoma išvažiuoti', '„Lidl Lietuva“: ir toliau didinsime parduotuvių bei logistikos centro darbuotojų atlyginimus', 'Akibrokštas privačiai greitajai pagalbai: 50 įdarbintų žmonių valstybei neįdomu?', 'Vyriausybė nepritaria, kad baigę gyvulininkystę teiktų sveikatos paslaugas su gyvūnais', 'Šeima – tarsi universitetas, kuriame mokomės iš artimųjų', 'Verslas apie lūkesčius po Seimo rinkimų: stabilumas yra aukso vertės', 'Rezultatų laukimas rinkimų štabuose: kas puolė ieškotis darbo, o kas – valdyti', 'Iš išaugtų vaikiškų drabužių – prisiminimų šiltukai', 'Mainų platformos įkūrėja: gyventi tvariau – naudinga ir finansiškai', 'Vilniaus policija aiškinasi, kas pavogė lagaminą', '„Kauno dienos“ studijoje – istorikas R. Kamuntavičius: ar reikia bijoti gudiško litvinizmo?', 'M. Balčiūnas: jei aš iš savo įmonių parėmiau LKF, kuo tai blogai finansiškai?', '„Litgrid“: vėjo jėgainių gamyba pastarąją savaitę augo daugiau nei 2 kartus', 'Kodėl iš šių butų nesikrausto senbuviai?', 'Tyrimas: išsiaiškinta, kokia buvo K. Kolumbo kilmė', 'Vaikų ligoninėje –\\xa0džiaugsmas: atskirti Siamo dvyniai\\xa0 ', 'M. Lukauskis ir krepšinis: skyrybos vėl atidėtos', 'Baltijos tinklinio lygoje – nauji lietuvių užmojai', 'Vilniuje nenustatyti asmenys apiplėšė vyrą', '„TikTok“ žvaigždės nuomotą butą padegęs vyras išgirdo teismo nuosprendį', 'J. Statkevičius atvirai: kodėl nesiruošia į pensiją ir kiek po Paryžiaus kainuos jo drabužiai', '„370“ rekomenduojamos knygos', 'Pirmi pasaulyje: „SpaceX“ sėkmingai „pagavo“ savo raketos greitintuvą', 'Valgomosios gėlės: gražu, bet ne visada saugu'] \n",
      " ['https://kauno.diena.lt/naujienos/lietuva/politika/lietuva-renka-nauja-valdzia-apylinkes-uzsidare-skaiciuojami-balsai-1195621', 'https://kauno.diena.lt/naujienos/lietuva/politika/laukia-kova-vienmandatese-aiskeja-i-antraji-tura-pateke-kandidatai-1195683', 'https://kauno.diena.lt/naujienos/kaunas/miesto-pulsas/judrioje-aleksoto-gatveje-laikini-eismo-ribojimai-1195787', 'https://kauno.diena.lt/naujienos/lietuva/politika/sesiose-apygardose-bus-perskaiciuoti-balsai-panemuneje-gali-buti-trys-kandidatai-1195781', 'https://kauno.diena.lt/naujienos/kaunas/miesto-pulsas/kaunieciai-noriai-balsuoja-seimo-rinkimuose-kai-kur-stebinantis-aktyvumas-nuolat-atnaujinama-1195597', 'https://kauno.diena.lt/naujienos/kaunas/miesto-pulsas/vytenu-gyventojas-sviesoforas-neveikia-neimanoma-isvaziuoti-1189731', 'https://kauno.diena.lt/naujienos/verslas/imoniu-pulsas/lidl-lietuva-ir-toliau-didinsime-parduotuviu-bei-logistikos-centro-darbuotoju-atlyginimus-1145677', 'https://kauno.diena.lt/naujienos/lietuva/salies-pulsas/akibrokstas-privaciai-greitajai-pagalbai-viskas-vyksta-pagal-sutarti-1194484', 'https://kauno.diena.lt/naujienos/verslas/ekonomika/vyriausybe-nepritaria-kad-baige-gyvulininkyste-teiktu-sveikatos-paslaugas-su-gyvunais-1195593', 'https://kauno.diena.lt/naujienos/sveikata/psichologija/seima-tarsi-universitetas-kuriame-mokomes-artimuju-1195032', 'https://kauno.diena.lt/naujienos/verslas/ekonomika/verslas-apie-lukescius-po-seimo-rinkimu-stabilumas-yra-aukso-vertes-1195819', 'https://kauno.diena.lt/naujienos/lietuva/politika/rezultatu-laukimas-rinkimu-stabuose-kas-puole-ieskotis-darbo-o-kas-valdyti-1195811', 'https://kauno.diena.lt/naujienos/lietuva/salies-pulsas/isaugtu-vaikisku-drabuziu-prisiminimu-siltukai-1195036', 'https://kauno.diena.lt/naujienos/lietuva/salies-pulsas/mainu-platformos-ikureja-gyventi-tvariau-naudinga-ir-finansiskai-1194059', 'https://www.diena.lt/naujienos/vilnius/nusikaltimai-ir-nelaimes/vilniaus-policija-aiskinasi-kas-pavoge-lagamina-1195812', 'https://kauno.diena.lt/naujienos/kauno-dienos-studija/kauno-dienos-studijoje-istorikas-r-kamuntavicius-ar-reikia-bijoti-gudisko-litvinizmo-1195490', 'https://kauno.diena.lt/naujienos/sportas/krepsinis/m-balciunas-jei-savo-imoniu-paremiau-lkf-kuo-tai-blogai-finansiskai-1190480', 'https://kauno.diena.lt/naujienos/verslas/ekonomika/litgrid-vejo-jegainiu-gamyba-pastaraja-savaite-augo-daugiau-nei-2-kartus-1195825', 'https://kauno.diena.lt/naujienos/vilnius/miesto-pulsas/kodel-siu-butu-nesikrausto-senbuviai-1195793', 'https://kauno.diena.lt/naujienos/pasaulis/ekonomika-ir-politika/tyrimas-issiaiskinta-kokia-buvo-k-kolumbo-tautybe-1195824', 'https://kauno.diena.lt/naujienos/pasaulis/ekonomika-ir-politika/vaiku-ligonineje-dziaugsmas-atskirti-siamo-dvyniai-1195816', 'https://kauno.diena.lt/naujienos/sportas/krepsinis/m-lukauskis-ir-krepsinis-skyrybos-vel-atidetos-1195428', 'https://kauno.diena.lt/naujienos/sportas/kitos-sporto-sakos/baltijos-tinklinio-lygoje-nauji-lietuviu-uzmojai-1195429', 'https://kauno.diena.lt/naujienos/vilnius/nusikaltimai-ir-nelaimes/vilniuje-nenustatyti-asmenys-apiplese-vyra-1195775', 'https://kauno.diena.lt/naujienos/kriminalai/nusikaltimai/nuteistas-panevezyje-i-buta-petarda-imetes-vyras-1195762', 'https://kauno.diena.lt/naujienos/laisvalaikis-ir-kultura/zvaigzdes-ir-pramogos/j-statkevicius-atvirai-kodel-nesiruosia-i-pensija-ir-kiek-po-paryziaus-kainuos-jo-drabuziai-1195814', 'https://kauno.diena.lt/naujienos/laisvalaikis-ir-kultura/kultura/370-rekomenduojamos-knygos-1195768', 'https://kauno.diena.lt/naujienos/pasaulis/ekonomika-ir-politika/pirmi-pasaulyje-spacex-sekmingai-pagavo-savo-raketos-greitintuva-1195611', 'https://kauno.diena.lt/naujienos/ivairenybes/receptai/geles-maiste-grazu-bet-ne-visada-saugu-1195045'] \n",
      " [12, 8, 7, 10, 10, 6, 11, 9, 10, 8, 10, 12, 7, 9, 6, 12, 13, 11, 6, 7, 7, 7, 7, 5, 9, 14, 3, 8, 7] \n",
      " 8.655172413793103\n"
     ]
    }
   ],
   "source": [
    "strp_pav = []\n",
    "strp_nuor = []\n",
    "ant_ilg = []\n",
    "\n",
    "for s in straipsniai:\n",
    "    i = s.find('div', {'class':'articles-list-title-wrapper'})\n",
    "    if i is not None:\n",
    "        t = i.find('a', {'class':'articles-list-title'})\n",
    "        strp_pav.append(t.text)\n",
    "        ant_ilg.append(len(t.text.split()))\n",
    "        x = t['href']\n",
    "        c = x.count('http')\n",
    "        if c !=0:\n",
    "            strp_nuor.append(x)\n",
    "        else:\n",
    "            strp_nuor.append(url+x)\n",
    "avg_ant_ilg = sum(ant_ilg)/len(ant_ilg)\n",
    "print(strp_pav,'\\n',strp_nuor, '\\n', ant_ilg, '\\n', avg_ant_ilg)"
   ]
  },
  {
   "cell_type": "code",
   "execution_count": 14,
   "metadata": {},
   "outputs": [],
   "source": [
    "SDB = sqlite3.connect('web_scrap.db') # jei neegzistuoja, bus sukurta nauja sqlite DB\n",
    "Cs = SDB.cursor()\n",
    "# if not exsists ignoruoja lenteles kurima jai tokia yra\n",
    "sql = '''create table if not exists kauno_diena_lt\n",
    "(\n",
    "    Pavadinimas text not null,\n",
    "    Nuoroda text not null,\n",
    "    Žodžiai_pav real not null\n",
    ")'''\n",
    "\n",
    "Cs.execute(sql)\n",
    "\n",
    "sql_template = '''insert into kauno_diena_lt values (?,?,?)'''\n",
    "# data = [(gamintojas, kaina, rida, amzius,kiekis)]\n",
    "# Cs.executemany(sql_template, data)\n",
    "for pav, nuor, zodz in zip(strp_pav,strp_nuor,ant_ilg):\n",
    "    sql_template = '''insert into kauno_diena_lt values (?,?,?)'''\n",
    "    Cs.execute(sql_template, (pav, nuor, zodz))\n",
    "\n",
    "SDB.commit()\n",
    "\n",
    "SDB.close()"
   ]
  },
  {
   "cell_type": "code",
   "execution_count": 13,
   "metadata": {},
   "outputs": [],
   "source": [
    "SDB.close()"
   ]
  },
  {
   "cell_type": "code",
   "execution_count": 2,
   "metadata": {},
   "outputs": [],
   "source": [
    "opcijos = Options()\n",
    "opcijos.add_argument('--incognito')\n",
    "driver = webdriver.Chrome(options=opcijos)\n",
    "url = 'https://www.delfi.lt/'\n",
    "driver.get(url)\n",
    "time.sleep(5)\n",
    "source = driver.page_source\n",
    "driver.close()\n",
    "bs = BeautifulSoup(source, 'html.parser')"
   ]
  },
  {
   "cell_type": "code",
   "execution_count": 3,
   "metadata": {},
   "outputs": [
    {
     "name": "stdout",
     "output_type": "stream",
     "text": [
      "71\n"
     ]
    }
   ],
   "source": [
    "straipsniai = bs.find_all('div', {'class':'block-type-102-headline__title'})\n",
    "print(len(straipsniai))"
   ]
  },
  {
   "cell_type": "code",
   "execution_count": 5,
   "metadata": {},
   "outputs": [
    {
     "name": "stdout",
     "output_type": "stream",
     "text": [
      "['Per ketverius metus – kone kardinaliai pasikeitusi situacija: Karbauskis turi dėl ko pykti ant Žemaitaičio', 'Jansonas įvertino Seimo rinkimų rezultatus: buvo sukurtas Frankenšteinas ', 'Karo ekspertai: rusai įvykdė baisų nusikaltimą ', 'Rusai sunaikino trečdalį Ukrainos energetinių pajėgumų – kaip Lietuva pasiruošė tokiai atakai', 'Užkalnis. Kokie žmonės, tokie ir rinkimai', '„Bolt“ pavežėjai kreipsis į teismą: teigia, kad po Naujųjų daug kam nebeapsimokės dirbti', 'Naujas anticiklonas netrukus atneš malonių pokyčių', 'Jei savo kelyje sutiksi Budą – nužudyk jį', 'Dviejose savivaldybėse pasiektas epideminis sergamumo gripu lygis, 7 žmonės pateko į reanimaciją', 'Masiniai atleidimai įsisiūbuoja – kam ruoštis', 'Pikantiškoje fotosesijoje įsiamžinusią Kristiną Meseguer vyras įvertino ispanišku išsireiškimu: lietuviai – konservatyvesni', 'Pašniukštinėkite, kaip balsavo gyventojai jūsų aplinkoje: rezultatai pagal rinkimų apylinkes', 'Kasčiūno pralenktas Landsbergis to nesureikšmina ir net turi paaiškinimą', '„Neptūnas“ – LKL pirmūnas: kaip jis atsidūrė turnyro lentelės viršūnėje?', 'Rašyti telefonu jau galima daug patogiau nei iki šiol – pasikeiskite šiuos nustatymus telefone', 'Vilniuje pranešta apie Neries upėje aptiktą skenduolį, įtariama, kad tai – dingusio 15-mečio kūnas', 'Kiek partijų kandidatų varžysis antrajame Seimo rinkimų ture: laukia 62 dvikovos ir viena trikova', 'Ekspertas ragina šio Seimo rinkimų aspekto nevynioti į vatą: tai tragiška ', 'Mirė vos 25-erių „TikTok“ žvaigždė: gedintis vyras pasidalijo širdį veriančiu įrašu', 'Kuo avėsime: šešios pagrindinės šio rudens avalynės tendencijos ', 'Po rinkimų Nausėda sureagavo į Žemaitaičio kalbas', 'Seimo rinkimai 2024. LSDP triumfuoja, antri – TS-LKD, treti – „Nemuno aušra“', 'Vaizdas gerokai skiriasi nuo to, ką matėme prieš 4 metus: kas rinkimuose triumfavo, o kas balsus prarado', 'Ekspertai pasakė, kokios valdžios galime tikėtis: įvardijo geidžiamiausią partnerį', 'Sakartvelas ar Gruzija: įvardijo, kaip teisingai reikėtų vadinti šią šalį', 'Nemoka užsirišti batų, bet vadovauja įmonei: paaiškino, kodėl įvairūs raidos sutrikimai neturi užkirsti kelio karjerai', 'Peršalus sveikti padeda ir maistas: patarė, ko naudinga valgyti daugiau, kai sergate', 'Artur Lebedenko Swan – nebe vienišas: atvirai prakalbo apie naują mylimąją, pažinties istoriją ir bendro gyvenimo planus', 'Klauskite teisininko: ar buto gyventojas privalo turėti buto savininko įgaliojimą, steigiant daugiabučio bendriją bei dalyvaujant jos veikloje?', 'Iš esmės. Ar įmanoma koalicija be Žemaitaičio?', 'Ar galiu paragauti? Maistas partijų štabuose ir kiti rinkimų užkulisiai', 'Įsimintiniausios Seimo rinkimų akimirkos: nuo Žemaitaičio šokio iki Armonaitės siūlymo lažintis', 'Piniginiai reikalai. Prasidėjęs šildymo sezonas – kokios kainos laukia?', 'Iš Neries ištrauktas skenduolis, įtariama, kad tai – dingusio 15-mečio kūnas', 'Delfi diena. Įvyko pirmasis Seimo rinkimų turas: kaip galėtų atrodyti naujoji valdžia?', 'Dronu užfiksuota vieta, kur buvo upėje pastebėtas žmogaus kūnas', 'Lingės ir Morkūnaitės-Mikulėnienės komentarai po pirmojo Seimo rinkimų turo', 'Blinkevičiūtė greitu metu tikisi susitikti su Karbauskiu', '„Nemuno aušra“ lyderis Žemaitaitis ironiškai vertina koalicijos galimybes be jų', 'Rusai sunaikino trečdalį Ukrainos energetinių pajėgumų – kaip Lietuva pasiruošė tokiai atakai', 'Vokietijos karo apžvalgininkas interviu „Delfi“: netiesa, kad Vakarai negali duoti daugiau ginklų Ukrainai', 'Išskirtinis „Delfi“ interviu: lenkų generolas baksnoja į Vakarų klaidas ir ragina aiškiai atsakyti Maskvai', 'Buvę emigrantai paniro į žemės ūkį – bijo tik vieno, kad valdžia vietoj bulvių privers sėti pievą ', 'Maisto atsargų kaupimas dienai X – kada jį pradėtų teikti valstybė ir kur laikomi produktai ', 'Kiek partijų kandidatų varžysis antrajame Seimo rinkimų ture: laukia 62 dvikovos ir viena trikova', 'Landsbergis aiškiai nurodė, ko tikisi iš Nausėdos: klausimai nėra iki galo atsakyti', '6 apygardų rinkimų rezultatus planuojama perskaičiuoti', 'Seimo rinkimai 2024. LSDP triumfuoja, antri – TS-LKD, treti – „Nemuno aušra“', 'Išrinkti Seimo nariai – VRK skelbia sąrašą', 'VRK: Mažeikių vienmandatės rinkimų apygardos rezultatai po balsų perskaičiavimo nepasikeitė', 'Karo ekspertai: rusai įvykdė baisų nusikaltimą ', 'VRK: Tauragės vienmandatės rinkimų apygardos rezultatai po balsų perskaičiavimo nepasikeitė', 'Jansonas įvertino Seimo rinkimų rezultatus: buvo sukurtas Frankenšteinas ', 'Per ketverius metus – kone kardinaliai pasikeitusi situacija: Karbauskis turi dėl ko pykti ant Žemaitaičio', 'Politologai „laisviečių“ dar nelaidoja: ramybės išėjus į politikos anapilį linki Darbo partijai', 'Naujas anticiklonas netrukus atneš malonių pokyčių', 'Mažylis apsispręsti dėl Seimo ir EP mandatų ketina tik po antrojo turo', 'Puidokas užsimena apie galimą politinės karjeros baigtį', 'Kasčiūno pralenktas Landsbergis to nesureikšmina ir net turi paaiškinimą', 'Pašniukštinėkite, kaip balsavo gyventojai jūsų aplinkoje: rezultatai pagal rinkimų apylinkes', 'Orlauskas: vienintelė pergalė, kad eliminavome iš politinės arenos Laisvės partiją', 'Ekspertas ragina šio Seimo rinkimų aspekto nevynioti į vatą: tai tragiška ', 'Pinskuvienė įsitikinusi, kad „Nemuno aušros“ ir konservatorių sėkmę lėmė Žemaitaičio retorika: spardydami vieni kitus – kėlė ir vienijo', 'Po rinkimų Nausėda sureagavo į Žemaitaičio kalbas', 'Konkrečiai įvardijo rinkimų laimėtojus ir pralaimėtojus: pateikė kelis koalicijos variantus', 'Armonaitė: pirmojo turo pasirodymą vertiname kaip nesėkmę', 'Mažvydas Jastramskis: logiški rinkimai – dešimt esminių punktų ', 'Žemaitaitis skaičiuoja, kaip būtų galima dėlioti koaliciją be jų ir kokio posto norėtų', 'Vėgėlė: be mūsų komandos LVŽS nebūtų surinkusi ir 5 procentų', 'Šimonytė: esame tarpinėje stotelėje ', 'Rytas po rinkimų: kas ir kiek surinko mandatų'] \n",
      " ['https://www.delfi.lt//news/daily/politics/per-ketverius-metus-kone-kardinaliai-pasikeitusi-situacija-karbauskis-turi-del-ko-pykti-ant-zemaitaicio-120057114', 'https://www.delfi.lt//news/daily/lithuania/jansonas-ivertino-seimo-rinkimu-rezultatus-buvo-sukurtas-frankensteinas-120057212', 'https://www.delfi.lt//news/daily/lithuania/karo-ekspertai-rusai-ivykde-baisu-nusikaltima-120057049', 'https://www.delfi.lt/saugu/naujienos/rusai-sunaikino-trecdali-ukrainos-energetiniu-pajegumu-kaip-lietuva-pasiruose-tokiai-atakai-120055509', 'https://www.delfi.lt//news/ringas/lit/uzkalnis-kokie-zmones-tokie-ir-rinkimai-120057214', 'https://www.delfi.lt/verslas/transportas/bolt-pavezejai-kreipsis-i-teisma-teigia-kad-po-naujuju-daug-kam-nebeapsimokes-dirbti-120054835', 'https://www.delfi.lt//news/daily/lithuania/naujas-anticiklonas-netrukus-atnes-maloniu-pokyciu-120057185', 'https://www.delfi.lt/moterys/is-pirmu-lupu/jei-savo-kelyje-sutiksi-buda-nuzudyk-ji-120056972', 'https://www.delfi.lt/sveikata/persalimas/dviejose-savivaldybese-pasiektas-epideminis-sergamumo-gripu-lygis-7-zmones-pateko-i-reanimacija-120057208', 'https://www.delfi.lt/verslo-poziuris/karjera/masiniai-atleidimai-isisiubuoja-kam-ruostis-120056487', 'https://www.delfi.lt/veidai/zmones/pikantiskoje-fotosesijoje-isiamzinusia-kristina-meseguer-vyras-ivertino-ispanisku-issireiskimu-lietuviai-konservatyvesni-120057142', 'https://www.delfi.lt//news/daily/politics/pasniukstinekite-kaip-balsavo-gyventojai-jusu-aplinkoje-rezultatai-pagal-rinkimu-apylinkes-120057139', 'https://www.delfi.lt//news/daily/lithuania/kasciuno-pralenktas-landsbergis-to-nesureiksmina-ir-net-turi-paaiskinima-120057161', 'https://www.delfi.lt/krepsinis/lkl/neptunas-lkl-pirmunas-kaip-jis-atsidure-turnyro-lenteles-virsuneje-120057133', 'https://www.delfi.lt/login/tele2-inovaciju-biuras/rasyti-telefonu-jau-galima-daug-patogiau-nei-iki-siol-pasikeiskite-siuos-nustatymus-telefone-120057082', 'https://www.delfi.lt//news/daily/crime/vilniuje-pranesta-apie-neries-upeje-aptikta-skenduoli-itariama-kad-tai-dingusio-15-mecio-kunas-120057004', 'https://www.delfi.lt//news/daily/politics/kiek-partiju-kandidatu-varzysis-antrajame-seimo-rinkimu-ture-laukia-62-dvikovos-ir-viena-trikova-120057109', 'https://www.delfi.lt//news/daily/politics/ekspertas-ragina-sio-seimo-rinkimu-aspekto-nevynioti-i-vata-tai-tragiska-120057080', 'https://www.delfi.lt/veidai/ivairenybes/mire-vos-25-eriu-tiktok-zvaigzde-gedintis-vyras-pasidalijo-sirdi-verianciu-irasu-120056978', 'https://www.delfi.lt/stilius/stiliaus-naujienos/kuo-avesime-sesios-pagrindines-sio-rudens-avalynes-tendencijos-120056354', 'https://www.delfi.lt//news/daily/politics/po-rinkimu-nauseda-sureagavo-i-zemaitaicio-kalbas-120057083', 'https://www.delfi.lt//news/daily/politics/seimo-rinkimai-2024-lsdp-triumfuoja-antri-ts-lkd-treti-nemuno-ausra-120056945', 'https://www.delfi.lt//news/daily/politics/vaizdas-gerokai-skiriasi-nuo-to-ka-mateme-pries-4-metus-kas-rinkimuose-triumfavo-o-kas-balsus-prarado-120057033', 'https://www.delfi.lt//news/daily/politics/ekspertai-pasake-kokios-valdzios-galime-tiketis-ivardijo-geidziamiausia-partneri-120056944', 'https://www.delfi.lt/gyvenimas/istorijos/sakartvelas-ar-gruzija-ivardijo-kaip-teisingai-reiketu-vadinti-sia-sali-120055165', 'https://www.delfi.lt/verslo-poziuris/karjera/nemoka-uzsiristi-batu-bet-vadovauja-imonei-paaiskino-kodel-ivairus-raidos-sutrikimai-neturi-uzkirsti-kelio-karjerai-120056419', 'https://www.delfi.lt/sveikata/persalimas/persalus-sveikti-padeda-ir-maistas-patare-ko-naudinga-valgyti-daugiau-kai-sergate-120056923', 'https://www.delfi.lt/veidai/zmones/artur-lebedenko-swan-nebe-vienisas-atvirai-prakalbo-apie-nauja-mylimaja-pazinties-istorija-ir-bendro-gyvenimo-planus-120056576', 'https://www.delfi.lt//news/daily/law/klauskite-teisininko-ar-buto-gyventojas-privalo-tureti-buto-savininko-igaliojima-steigiant-daugiabucio-bendrija-bei-dalyvaujant-jos-veikloje-120056253', 'https://www.delfi.lt/video/laidos/is-esmes/is-esmes-ar-imanoma-koalicija-be-zemaitaicio-120057131', 'https://www.delfi.lt/video/aktualijos/ar-galiu-paragauti-maistas-partiju-stabuose-ir-kiti-rinkimu-uzkulisiai-120057184', 'https://www.delfi.lt/video/aktualijos/isimintiniausios-seimo-rinkimu-akimirkos-nuo-zemaitaicio-sokio-iki-armonaites-siulymo-lazintis-120057141', 'https://www.delfi.lt/video/laidos/piniginiai-reikalai/piniginiai-reikalai-prasidejes-sildymo-sezonas-kokios-kainos-laukia-120057103', 'https://www.delfi.lt/video/aktualijos/is-neries-istrauktas-skenduolis-itariama-kad-tai-dingusio-15-mecio-kunas-120057022', 'https://www.delfi.lt/video/laidos/delfi-diena/delfi-diena-ivyko-pirmasis-seimo-rinkimu-turas-kaip-galetu-atrodyti-naujoji-valdzia-120057054', 'https://www.delfi.lt/video/aktualijos/dronu-uzfiksuota-vieta-kur-buvo-upeje-pastebetas-zmogaus-kunas-120057061', 'https://www.delfi.lt/video/aktualijos/linges-ir-morkunaites-mikulenienes-komentarai-po-pirmojo-seimo-rinkimu-turo-120056975', 'https://www.delfi.lt/video/aktualijos/blinkeviciute-greitu-metu-tikisi-susitikti-su-karbauskiu-120056993', 'https://www.delfi.lt/video/aktualijos/nemuno-ausra-lyderis-zemaitaitis-ironiskai-vertina-koalicijos-galimybes-be-ju-120057003', 'https://www.delfi.lt/saugu/naujienos/rusai-sunaikino-trecdali-ukrainos-energetiniu-pajegumu-kaip-lietuva-pasiruose-tokiai-atakai-120055509', 'https://www.delfi.lt/saugu/naujienos/vokietijos-karo-apzvalgininkas-interviu-delfi-netiesa-kad-vakarai-negali-duoti-daugiau-ginklu-ukrainai-120056288', 'https://www.delfi.lt/saugu/politika/isskirtinis-delfi-interviu-lenku-generolas-baksnoja-i-vakaru-klaidas-ir-ragina-aiskiai-atsakyti-maskvai-120056020', 'https://www.delfi.lt/saugu/ekonomika/buve-emigrantai-paniro-i-zemes-uki-bijo-tik-vieno-kad-valdzia-vietoj-bulviu-privers-seti-pieva-120055903', 'https://www.delfi.lt/saugu/naujienos/maisto-atsargu-kaupimas-dienai-x-kada-ji-pradetu-teikti-valstybe-ir-kur-laikomi-produktai-120053938', 'https://www.delfi.lt//news/daily/politics/kiek-partiju-kandidatu-varzysis-antrajame-seimo-rinkimu-ture-laukia-62-dvikovos-ir-viena-trikova-120057109', 'https://www.delfi.lt//news/daily/lithuania/landsbergis-aiskiai-nurode-ko-tikisi-is-nausedos-klausimai-nera-iki-galo-atsakyti-120057108', 'https://www.delfi.lt//news/daily/politics/6-apygardu-rinkimu-rezultatus-planuojama-perskaiciuoti-120057096', 'https://www.delfi.lt//news/daily/politics/seimo-rinkimai-2024-lsdp-triumfuoja-antri-ts-lkd-treti-nemuno-ausra-120056945', 'https://www.delfi.lt//news/daily/politics/isrinkti-seimo-nariai-vrk-skelbia-sarasa-120056946', 'https://www.delfi.lt//news/daily/lithuania/vrk-mazeikiu-vienmandates-rinkimu-apygardos-rezultatai-po-balsu-perskaiciavimo-nepasikeite-120057219', 'https://www.delfi.lt//news/daily/lithuania/karo-ekspertai-rusai-ivykde-baisu-nusikaltima-120057049', 'https://www.delfi.lt//news/daily/lithuania/vrk-taurages-vienmandates-rinkimu-apygardos-rezultatai-po-balsu-perskaiciavimo-nepasikeite-120057213', 'https://www.delfi.lt//news/daily/lithuania/jansonas-ivertino-seimo-rinkimu-rezultatus-buvo-sukurtas-frankensteinas-120057212', 'https://www.delfi.lt//news/daily/politics/per-ketverius-metus-kone-kardinaliai-pasikeitusi-situacija-karbauskis-turi-del-ko-pykti-ant-zemaitaicio-120057114', 'https://www.delfi.lt//news/daily/politics/politologai-laisvieciu-dar-nelaidoja-ramybes-isejus-i-politikos-anapili-linki-darbo-partijai-120057192', 'https://www.delfi.lt//news/daily/lithuania/naujas-anticiklonas-netrukus-atnes-maloniu-pokyciu-120057185', 'https://www.delfi.lt//news/daily/politics/mazylis-apsispresti-del-seimo-ir-ep-mandatu-ketina-tik-po-antrojo-turo-120057187', 'https://www.delfi.lt//news/daily/politics/puidokas-uzsimena-apie-galima-politines-karjeros-baigti-120057183', 'https://www.delfi.lt//news/daily/lithuania/kasciuno-pralenktas-landsbergis-to-nesureiksmina-ir-net-turi-paaiskinima-120057161', 'https://www.delfi.lt//news/daily/politics/pasniukstinekite-kaip-balsavo-gyventojai-jusu-aplinkoje-rezultatai-pagal-rinkimu-apylinkes-120057139', 'https://www.delfi.lt//news/daily/lithuania/orlauskas-vienintele-pergale-kad-eliminavome-is-politines-arenos-laisves-partija-120057122', 'https://www.delfi.lt//news/daily/politics/ekspertas-ragina-sio-seimo-rinkimu-aspekto-nevynioti-i-vata-tai-tragiska-120057080', 'https://www.delfi.lt//news/daily/politics/pinskuviene-isitikinusi-kad-nemuno-ausros-ir-konservatoriu-sekme-leme-zemaitaicio-retorika-spardydami-vieni-kitus-kele-ir-vienijo-120057092', 'https://www.delfi.lt//news/daily/politics/po-rinkimu-nauseda-sureagavo-i-zemaitaicio-kalbas-120057083', 'https://www.delfi.lt//news/daily/politics/konkreciai-ivardijo-rinkimu-laimetojus-ir-pralaimetojus-pateike-kelis-koalicijos-variantus-120057043', 'https://www.delfi.lt//news/daily/politics/armonaite-pirmojo-turo-pasirodyma-vertiname-kaip-nesekme-120057046', 'https://www.delfi.lt//news/daily/lithuania/mazvydas-jastramskis-logiski-rinkimai-desimt-esminiu-punktu-120057007', 'https://www.delfi.lt//news/daily/politics/zemaitaitis-skaiciuoja-kaip-butu-galima-delioti-koalicija-be-ju-ir-kokio-posto-noretu-120056977', 'https://www.delfi.lt//news/daily/politics/vegele-be-musu-komandos-lvzs-nebutu-surinkusi-ir-5-procentu-120056983', 'https://www.delfi.lt//news/daily/lithuania/simonyte-esame-tarpineje-stoteleje-120056966', 'https://www.delfi.lt//news/daily/lithuania/rytas-po-rinkimu-kas-ir-kiek-surinko-mandatu-120056981'] \n",
      " [15, 8, 6, 12, 6, 13, 6, 8, 12, 6, 12, 10, 9, 10, 14, 14, 14, 11, 11, 8, 7, 12, 17, 9, 10, 15, 12, 17, 17, 7, 10, 11, 9, 11, 12, 9, 9, 7, 10, 12, 13, 14, 17, 15, 14, 12, 6, 12, 7, 10, 6, 10, 8, 15, 12, 6, 12, 7, 9, 10, 10, 11, 18, 7, 10, 7, 8, 13, 10, 4, 8] \n",
      " 10.549295774647888\n"
     ]
    }
   ],
   "source": [
    "strp_pav = []\n",
    "strp_nuor = []\n",
    "ant_ilg = []\n",
    "\n",
    "for s in straipsniai:\n",
    "    if s is not None:\n",
    "        t = s.find('a')\n",
    "        strp_pav.append(t.text)\n",
    "        ant_ilg.append(len(t.text.split()))\n",
    "        x = t['href']\n",
    "        c = x.count('http')\n",
    "        if c !=0:\n",
    "            strp_nuor.append(x)\n",
    "        else:\n",
    "            strp_nuor.append(url+x)\n",
    "avg_ant_ilg = sum(ant_ilg)/len(ant_ilg)\n",
    "print(strp_pav,'\\n',strp_nuor, '\\n', ant_ilg, '\\n', avg_ant_ilg)"
   ]
  },
  {
   "cell_type": "code",
   "execution_count": 6,
   "metadata": {},
   "outputs": [],
   "source": [
    "SDB = sqlite3.connect('web_scrap.db') # jei neegzistuoja, bus sukurta nauja sqlite DB\n",
    "Cs = SDB.cursor()\n",
    "sql = 'Drop table if exists delfilt'\n",
    "Cs.execute(sql)\n",
    "# if not exsists ignoruoja lenteles kurima jai tokia yra\n",
    "sql = '''create table if not exists delfilt\n",
    "(\n",
    "    Pavadinimas text not null,\n",
    "    Nuoroda text not null,\n",
    "    Žodžiai_pav real not null\n",
    "    \n",
    ")'''\n",
    "\n",
    "Cs.execute(sql)\n",
    "\n",
    "sql_template = '''insert into delfilt values (?,?,?)'''\n",
    "# data = [(gamintojas, kaina, rida, amzius,kiekis)]\n",
    "# Cs.executemany(sql_template, data)\n",
    "for pav, nuor, zodz in zip(strp_pav,strp_nuor,ant_ilg):\n",
    "    sql_template = '''insert into delfilt values (?,?,?)'''\n",
    "    Cs.execute(sql_template, (pav, nuor, zodz))\n",
    "\n",
    "SDB.commit()\n",
    "\n",
    "SDB.close()"
   ]
  },
  {
   "cell_type": "code",
   "execution_count": 54,
   "metadata": {},
   "outputs": [],
   "source": [
    "SDB.close()"
   ]
  },
  {
   "cell_type": "code",
   "execution_count": null,
   "metadata": {},
   "outputs": [],
   "source": [
    "auto_skelbimai = []\n",
    "\n",
    "\n",
    "\n",
    "while True:\n",
    "    try:\n",
    "        opcijos = Options()\n",
    "        opcijos.add_argument('--incognito')\n",
    "        driver = webdriver.Chrome(options=opcijos)\n",
    "        # maxp = int(check_if_value_exists_or_max('web_scrap.db','autopliuslt','Page'))\n",
    "        # maxp = 105\n",
    "        for p in range(1000):\n",
    "            if p != 0:\n",
    "                page = p\n",
    "            else:\n",
    "                page = p+1\n",
    "            print(page)\n",
    "            url = f'https://autoplius.lt/skelbimai/naudoti-automobiliai?page_nr={page}'\n",
    "            driver.get(url)\n",
    "            time.sleep(5)\n",
    "            source = driver.page_source\n",
    "            bs = BeautifulSoup(source, 'html.parser')\n",
    "            straipsniai = bs.find('div', {'class':'auto-lists lt'}).find_all('a')\n",
    "\n",
    "\n",
    "            for s in straipsniai:\n",
    "                if s is not None:\n",
    "                    url = s['href']\n",
    "                    if not check_if_value_exists_or_max('web_scrap.db','autopliuslt','URL',url):\n",
    "                        driver.get(url)\n",
    "                        \n",
    "                        source = driver.page_source\n",
    "                        bs = BeautifulSoup(source, 'html.parser')\n",
    "                        \n",
    "                        skelbimas = bs.find_all('div', {'class':'parameter-row'})\n",
    "                        marke = bs.find_all('li', {'class':'crumb'})[2].text.strip()\n",
    "                        modelis = bs.find_all('li', {'class':'crumb'})[3].text.strip()\n",
    "                        kaina = bs.find('div', {'class':'price'}).text.strip().split('\\n')[0].replace(' ','')[:-1]\n",
    "                        skelb = {}\n",
    "                        skelb['Markė']=marke\n",
    "                        skelb['Modelis']=modelis\n",
    "                        skelb['Kaina']=kaina\n",
    "                        for s in skelbimas:\n",
    "                            x = s.find_all('div', {'class':'parameter-value'})\n",
    "                            p = s.find_all('div', {'class':'parameter-label'})\n",
    "                            for i, z in zip(x,p):\n",
    "                                skelb[z.text.strip()]=i.text.strip()\n",
    "                        skelb['URL'] = url\n",
    "                        skelb['Page'] = page\n",
    "                        auto_skelbimai.append(skelb)\n",
    "                        insert_into_db(skelb,'web_scrap.db','autopliuslt')\n",
    "\n",
    "\n",
    "        driver.close()\n",
    "    except Exception as e:\n",
    "        print(e)\n",
    "        driver.close()\n",
    "    time.sleep(60)\n"
   ]
  },
  {
   "cell_type": "code",
   "execution_count": 205,
   "metadata": {},
   "outputs": [
    {
     "name": "stdout",
     "output_type": "stream",
     "text": [
      "[{'Markė': 'BMW', 'Modelis': '428 Gran Coupe', 'Kaina': '18000', 'Pirma registracija': '2015', 'Rida': '199 000 km', 'Variklis': '1997 cm³, 245 AG (180kW)', 'Kuro tipas': 'Benzinas', 'Kėbulo tipas': 'Kupė (Coupe)', 'Durų skaičius': '4/5', 'Varantieji ratai': 'Visi varantys (4х4)', 'Pavarų dėžė': 'Automatinė', 'Klimato valdymas': 'Klimato kontrolė', 'Spalva': 'Balta', 'Sėdimų vietų skaičius': '5', 'Pirmosios registracijos šalis': 'JAV', 'Kėbulo numeris (VIN)': 'WBA4A7C5...\\n            Rodyti', 'CO₂ emisija, g/km': '~ 147 g/km', 'Taršos mokestis': '~ 40.47 €'}, {'Markė': 'BMW', 'Modelis': '530', 'Kaina': '26900', 'Pirma registracija': '2019', 'Rida': '46 000 km', 'Variklis': '1998 cm³, 252 AG (185kW)', 'Kuro tipas': 'Benzinas', 'Kėbulo tipas': 'Sedanas', 'Durų skaičius': '4/5', 'Pavarų dėžė': 'Automatinė', 'Spalva': 'Pilka / sidabrinė', 'Tech. apžiūra iki': '2026-07', 'Ratlankių skersmuo': 'R20', 'Sėdimų vietų skaičius': '5', 'CO₂ emisija, g/km': '~ 126 g/km', 'Taršos mokestis': '0 €'}, {'Markė': 'BMW', 'Modelis': '530', 'Kaina': '48500', 'Pirma registracija': '2021-11', 'Rida': '25 000 km', 'Variklis': '1998 cm³, 262 AG (193kW)', 'Kuro tipas': 'Benzinas', 'Kėbulo tipas': 'Sedanas', 'Durų skaičius': '4/5', 'Varantieji ratai': 'Visi varantys (4х4)', 'Pavarų dėžė': 'Automatinė', 'Klimato valdymas': 'Klimato kontrolė', 'Spalva': 'Pilka / sidabrinė', 'Tech. apžiūra iki': '2026-06', 'Ratlankių skersmuo': 'R19', 'Nuosava masė, kg': '1680', 'Sėdimų vietų skaičius': '5', 'Pirmosios registracijos šalis': 'JAV', 'Kėbulo numeris (VIN)': 'WBA13BJ0...\\n            Rodyti', 'SDK': 'THPRH...\\n                Rodyti', 'Euro standartas': 'Euro 6', 'CO₂ emisija, g/km': '135 g/km', 'Taršos mokestis': '20.23 €', 'Mieste': '7', 'Užmiestyje': '5', 'Vidutinės': '5,9'}, {'Markė': 'BMW', 'Modelis': '530', 'Kaina': '4500', 'Pirma registracija': '2004-04', 'Rida': '320 000 km', 'Variklis': '2979 cm³, 231 AG (170kW)', 'Kuro tipas': 'Benzinas', 'Kėbulo tipas': 'Sedanas', 'Durų skaičius': '4/5', 'Varantieji ratai': 'Galiniai', 'Pavarų dėžė': 'Mechaninė', 'Klimato valdymas': 'Oro kondicionierius', 'Spalva': 'Pilka / sidabrinė', 'Tech. apžiūra iki': '2025-10', 'Ratlankių skersmuo': 'R19', 'Nuosava masė, kg': '1570', 'Sėdimų vietų skaičius': '5', 'Pirmosios registracijos šalis': 'Švedija', 'Kėbulo numeris (VIN)': 'WBANA710...\\n            Rodyti', 'SDK': 'FCTEA...\\n                Rodyti', 'Euro standartas': 'Euro 4', 'CO₂ emisija, g/km': '231 g/km', 'Taršos mokestis': '222.58 €', 'Mieste': '10,7', 'Užmiestyje': '7', 'Vidutinės': '8,7'}]\n"
     ]
    }
   ],
   "source": [
    "print(auto_skelbimai)"
   ]
  },
  {
   "cell_type": "code",
   "execution_count": 150,
   "metadata": {},
   "outputs": [
    {
     "ename": "AttributeError",
     "evalue": "'NoneType' object has no attribute 'find_all'",
     "output_type": "error",
     "traceback": [
      "\u001b[1;31m---------------------------------------------------------------------------\u001b[0m",
      "\u001b[1;31mAttributeError\u001b[0m                            Traceback (most recent call last)",
      "Cell \u001b[1;32mIn[150], line 1\u001b[0m\n\u001b[1;32m----> 1\u001b[0m straipsniai \u001b[38;5;241m=\u001b[39m \u001b[43mbs\u001b[49m\u001b[38;5;241;43m.\u001b[39;49m\u001b[43mfind\u001b[49m\u001b[43m(\u001b[49m\u001b[38;5;124;43m'\u001b[39;49m\u001b[38;5;124;43mdiv\u001b[39;49m\u001b[38;5;124;43m'\u001b[39;49m\u001b[43m,\u001b[49m\u001b[43m \u001b[49m\u001b[43m{\u001b[49m\u001b[38;5;124;43m'\u001b[39;49m\u001b[38;5;124;43mclass\u001b[39;49m\u001b[38;5;124;43m'\u001b[39;49m\u001b[43m:\u001b[49m\u001b[38;5;124;43m'\u001b[39;49m\u001b[38;5;124;43mauto-lists lt\u001b[39;49m\u001b[38;5;124;43m'\u001b[39;49m\u001b[43m}\u001b[49m\u001b[43m)\u001b[49m\u001b[38;5;241;43m.\u001b[39;49m\u001b[43mfind_all\u001b[49m(\u001b[38;5;124m'\u001b[39m\u001b[38;5;124ma\u001b[39m\u001b[38;5;124m'\u001b[39m)\n\u001b[0;32m      2\u001b[0m \u001b[38;5;28mprint\u001b[39m(\u001b[38;5;28mlen\u001b[39m(straipsniai))\n",
      "\u001b[1;31mAttributeError\u001b[0m: 'NoneType' object has no attribute 'find_all'"
     ]
    }
   ],
   "source": [
    "straipsniai = bs.find('div', {'class':'auto-lists lt'}).find_all('a')\n",
    "print(len(straipsniai))"
   ]
  },
  {
   "cell_type": "code",
   "execution_count": 111,
   "metadata": {},
   "outputs": [
    {
     "name": "stdout",
     "output_type": "stream",
     "text": [
      "['https://autoplius.lt/skelbimai/bmw-428-gran-coupe-2-0-l-kupe-coupe-2015-benzinas-26837939.html', 'https://autoplius.lt/skelbimai/bmw-530-2-0-l-sedanas-2019-benzinas-26808537.html', 'https://autoplius.lt/skelbimai/bmw-530-2-0-l-sedanas-2021-benzinas-26749453.html', 'https://autoplius.lt/skelbimai/bmw-530-3-0-l-sedanas-2004-benzinas-26675965.html', 'https://autoplius.lt/skelbimai/fiat-500x-2-4-l-visureigis-krosoveris-2016-benzinas-dujos-26862175.html', 'https://autoplius.lt/skelbimai/bmw-320-gran-turismo-2-0-l-hecbekas-2016-dyzelinas-26830873.html', 'https://autoplius.lt/skelbimai/mazda-cx-5-2-0-l-visureigis-krosoveris-2017-benzinas-26740367.html', 'https://autoplius.lt/skelbimai/mercedes-benz-clk320-3-2-l-kupe-coupe-2002-benzinas-dujos-26445796.html', 'https://autoplius.lt/skelbimai/bmw-520-2-0-l-universalas-2006-dyzelinas-26806059.html', 'https://autoplius.lt/skelbimai/volkswagen-amarok-2-0-l-pikapas-2014-dyzelinas-26615729.html', 'https://autoplius.lt/skelbimai/land-rover-discovery-sport-2-0-l-visureigis-krosoveris-2020-dyzelinas-elektra-25338021.html', 'https://autoplius.lt/skelbimai/toyota-prius-1-5-l-hecbekas-2008-benzinas-elektra-26782479.html', 'https://autoplius.lt/skelbimai/mercedes-benz-c220-2-1-l-universalas-2009-dyzelinas-26866731.html', 'https://autoplius.lt/skelbimai/peugeot-508-2-0-l-universalas-2011-dyzelinas-26838409.html', 'https://autoplius.lt/skelbimai/bmw-318-2-0-l-universalas-2009-dyzelinas-26753921.html', 'https://autoplius.lt/skelbimai/volvo-v70-2-4-l-universalas-2009-dyzelinas-26832241.html', 'https://autoplius.lt/skelbimai/bmw-530-3-0-l-sedanas-2004-benzinas-26144972.html', 'https://autoplius.lt/skelbimai/bmw-525-3-0-l-universalas-2011-dyzelinas-26347076.html', 'https://autoplius.lt/skelbimai/bmw-325-3-0-l-kupe-coupe-2011-dyzelinas-26828241.html', 'https://autoplius.lt/skelbimai/bmw-x5-3-0-l-visureigis-krosoveris-2010-dyzelinas-26868613.html'] [<div class=\"announcement-title\">\n",
      "                        BMW 428 Gran Coupe                    </div>, <div class=\"announcement-title\">\n",
      "                        BMW 530                    </div>, <div class=\"announcement-title\">\n",
      "                        BMW 530                    </div>, <div class=\"announcement-title\">\n",
      "                        BMW 530                    </div>, <div class=\"announcement-title\">\n",
      "                        Fiat 500X                    </div>, <div class=\"announcement-title\">\n",
      "                        BMW 320 Gran Turismo                    </div>, <div class=\"announcement-title\">\n",
      "                        Mazda CX-5                    </div>, <div class=\"announcement-title\">\n",
      "                        Mercedes-Benz CLK320                    </div>, <div class=\"announcement-title\">\n",
      "                        BMW 520                    </div>, <div class=\"announcement-title\">\n",
      "                        Volkswagen Amarok                    </div>, <div class=\"announcement-title\">\n",
      "                        Land Rover Discovery Sport                    </div>, <div class=\"announcement-title\">\n",
      "                        Toyota Prius                    </div>, <div class=\"announcement-title\">\n",
      "                        Mercedes-Benz C220                    </div>, <div class=\"announcement-title\">\n",
      "                        Peugeot 508                    </div>, <div class=\"announcement-title\">\n",
      "                        BMW 318                    </div>, <div class=\"announcement-title\">\n",
      "                        Volvo V70                    </div>, <div class=\"announcement-title\">\n",
      "                        BMW 530                    </div>, <div class=\"announcement-title\">\n",
      "                        BMW 525                    </div>, <div class=\"announcement-title\">\n",
      "                        BMW 325                    </div>, <div class=\"announcement-title\">\n",
      "                        BMW X5                    </div>]\n"
     ]
    }
   ],
   "source": [
    "strp_nuor = []\n",
    "\n",
    "\n",
    "for s in straipsniai:\n",
    "    if s is not None:\n",
    "        strp_pav.append(p)\n",
    "        x = s['href']\n",
    "        strp_nuor.append(x)\n",
    "print(strp_nuor)"
   ]
  },
  {
   "cell_type": "code",
   "execution_count": 194,
   "metadata": {},
   "outputs": [],
   "source": [
    "opcijos = Options()\n",
    "opcijos.add_argument('--incognito')\n",
    "driver = webdriver.Chrome(options=opcijos)\n",
    "url = 'https://autoplius.lt/skelbimai/bmw-428-gran-coupe-2-0-l-kupe-coupe-2015-benzinas-26837939.html'\n",
    "driver.get(url)\n",
    "time.sleep(5)\n",
    "source = driver.page_source\n",
    "driver.close()\n",
    "bs = BeautifulSoup(source, 'html.parser')"
   ]
  },
  {
   "cell_type": "code",
   "execution_count": 190,
   "metadata": {},
   "outputs": [],
   "source": [
    "skelbimas = bs.find_all('div', {'class':'parameter-row'})\n",
    "marke = bs.find_all('li', {'class':'crumb'})[2].text.strip()\n",
    "modelis = bs.find_all('li', {'class':'crumb'})[3].text.strip()\n",
    "kaina = bs.find('div', {'class':'price'}).text.strip().split('\\n')[0].replace(' ','')[:-1]"
   ]
  },
  {
   "cell_type": "code",
   "execution_count": 195,
   "metadata": {},
   "outputs": [
    {
     "name": "stdout",
     "output_type": "stream",
     "text": [
      "['48500']\n"
     ]
    }
   ],
   "source": [
    "c = []\n",
    "c.append(kaina)\n",
    "print(c)"
   ]
  },
  {
   "cell_type": "code",
   "execution_count": 199,
   "metadata": {},
   "outputs": [
    {
     "name": "stdout",
     "output_type": "stream",
     "text": [
      "{'Markė': 'BMW', 'Modelis': '530', '2021-11': '2021-11', '25 000 km': '25 000 km', '1998 cm³, 262 AG (193kW)': '1998 cm³, 262 AG (193kW)', 'Benzinas': 'Benzinas', 'Sedanas': 'Sedanas', '4/5': '4/5', 'Visi varantys (4х4)': 'Visi varantys (4х4)', 'Automatinė': 'Automatinė', 'Klimato kontrolė': 'Klimato kontrolė', 'Pilka / sidabrinė': 'Pilka / sidabrinė', '2026-06': '2026-06', 'R19': 'R19', '1680': '1680', '5': '5', 'JAV': 'JAV', 'WBA13BJ0...\\n            Rodyti': 'WBA13BJ0...\\n            Rodyti', 'THPRH...\\n                Rodyti': 'THPRH...\\n                Rodyti', 'Euro 6': 'Euro 6', '135 g/km': '135 g/km', '20.23 €': '20.23 €', '7': '7', '5,9': '5,9'}\n"
     ]
    }
   ],
   "source": [
    "skelb = {}\n",
    "skelb['Markė']=marke\n",
    "skelb['Modelis']=modelis\n",
    "for s in skelbimas:\n",
    "    x = s.find_all('div', {'class':'parameter-value'})\n",
    "    p = s.find_all('div', {'class':'parameter-label'})\n",
    "    for i, z in zip(x,p):\n",
    "        skelb[z.text.strip()]=i.text.strip()\n",
    "print(skelb)"
   ]
  }
 ],
 "metadata": {
  "kernelspec": {
   "display_name": "Python 3",
   "language": "python",
   "name": "python3"
  },
  "language_info": {
   "codemirror_mode": {
    "name": "ipython",
    "version": 3
   },
   "file_extension": ".py",
   "mimetype": "text/x-python",
   "name": "python",
   "nbconvert_exporter": "python",
   "pygments_lexer": "ipython3",
   "version": "3.12.4"
  }
 },
 "nbformat": 4,
 "nbformat_minor": 2
}
