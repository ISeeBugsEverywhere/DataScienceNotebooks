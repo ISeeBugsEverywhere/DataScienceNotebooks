{
 "cells": [
  {
   "cell_type": "code",
   "execution_count": 1,
   "metadata": {},
   "outputs": [
    {
     "name": "stdout",
     "output_type": "stream",
     "text": [
      "1\n",
      "2\n",
      "3\n",
      "4\n",
      "5\n"
     ]
    }
   ],
   "source": [
    "for i in [1,2,3,4,5]:\n",
    "    print(i)"
   ]
  },
  {
   "cell_type": "code",
   "execution_count": 2,
   "metadata": {},
   "outputs": [
    {
     "name": "stdout",
     "output_type": "stream",
     "text": [
      "1\n",
      "2\n",
      "3\n",
      "4\n",
      "5\n"
     ]
    }
   ],
   "source": [
    "a = [1,2,3,4,5]\n",
    "for i in a:\n",
    "    print(i)"
   ]
  },
  {
   "cell_type": "code",
   "execution_count": 3,
   "metadata": {},
   "outputs": [
    {
     "name": "stdout",
     "output_type": "stream",
     "text": [
      "1\n",
      "2\n",
      "3\n",
      "4\n",
      "5\n"
     ]
    }
   ],
   "source": [
    "k = 0\n",
    "a = [1,2,3,4,5]\n",
    "while k <len(a):\n",
    "    print(a[k])\n",
    "    k = k + 1"
   ]
  },
  {
   "cell_type": "code",
   "execution_count": 4,
   "metadata": {},
   "outputs": [
    {
     "name": "stdout",
     "output_type": "stream",
     "text": [
      "Amzinas ciklas\n",
      "jei norite nutraukti, iveskite simboli Q\n"
     ]
    }
   ],
   "source": [
    "q = False\n",
    "while not q:\n",
    "    print('Amzinas ciklas')\n",
    "    print('jei norite nutraukti, iveskite simboli Q')\n",
    "    s = input('Q?')\n",
    "    if s == 'Q':\n",
    "        q = True"
   ]
  },
  {
   "cell_type": "code",
   "execution_count": 6,
   "metadata": {},
   "outputs": [
    {
     "name": "stdout",
     "output_type": "stream",
     "text": [
      "0\n",
      "1\n",
      "2\n",
      "3\n",
      "4\n",
      "6\n"
     ]
    }
   ],
   "source": [
    "for i in range(0,11):\n",
    "    if i == 5:\n",
    "        continue\n",
    "    if i == 7:\n",
    "        break\n",
    "    print(i)"
   ]
  },
  {
   "cell_type": "code",
   "execution_count": 8,
   "metadata": {},
   "outputs": [
    {
     "name": "stdout",
     "output_type": "stream",
     "text": [
      "Labas, Jonas\n"
     ]
    }
   ],
   "source": [
    "for i in ['Jonas', 'Petras', 'Antanas']:\n",
    "    if i == 'Petras':\n",
    "        break\n",
    "    print(f'Labas, {i}')\n",
    "else:\n",
    "    print('Su visais pasisveikinta')"
   ]
  },
  {
   "cell_type": "code",
   "execution_count": 9,
   "metadata": {},
   "outputs": [
    {
     "name": "stdout",
     "output_type": "stream",
     "text": [
      "Labas, Jonas\n",
      "Labas, Petras\n",
      "Labas, Antanas\n",
      "Su visais pasisveikinta\n"
     ]
    }
   ],
   "source": [
    "for i in ['Jonas', 'Petras', 'Antanas']:\n",
    "    # if i == 'Petras':\n",
    "    #     break\n",
    "    print(f'Labas, {i}')\n",
    "else:\n",
    "    print('Su visais pasisveikinta')"
   ]
  },
  {
   "cell_type": "code",
   "execution_count": 19,
   "metadata": {},
   "outputs": [
    {
     "name": "stdout",
     "output_type": "stream",
     "text": [
      "Amzinas ciklas\n",
      "jei norite nutraukti, iveskite simboli Q\n"
     ]
    }
   ],
   "source": [
    "# • Parašyti amžiną while ciklą, kuris būtų nutraukiamas, jei\n",
    "# vartotojas įveda Q simbolį. Simbolio registras neturi turėti\n",
    "# reikšmės.\n",
    "q = False\n",
    "while not q:\n",
    "    print('Amzinas ciklas')\n",
    "    print('jei norite nutraukti, iveskite simboli Q')\n",
    "    s = input('Q?')\n",
    "    if s.lower() == 'q' :\n",
    "        q = True"
   ]
  },
  {
   "cell_type": "code",
   "execution_count": 22,
   "metadata": {},
   "outputs": [
    {
     "name": "stdout",
     "output_type": "stream",
     "text": [
      "-1.0\n",
      "-1.0\n",
      "division by zero\n",
      "5.0\n",
      "1.0\n"
     ]
    }
   ],
   "source": [
    "a = [-5, -5, 0, 1, 5]\n",
    "for i in a:\n",
    "    try:\n",
    "        print(5/i)\n",
    "    except Exception as ex:\n",
    "        print(ex)"
   ]
  },
  {
   "cell_type": "code",
   "execution_count": 23,
   "metadata": {},
   "outputs": [
    {
     "name": "stdout",
     "output_type": "stream",
     "text": [
      "-1.0\n",
      "-1.0\n",
      "5.0\n",
      "1.0\n"
     ]
    }
   ],
   "source": [
    "a = [-5, -5, 0, 1, 5]\n",
    "for i in a:\n",
    "    try:\n",
    "        print(5/i)\n",
    "    except Exception as ex:\n",
    "        pass"
   ]
  },
  {
   "cell_type": "code",
   "execution_count": 31,
   "metadata": {},
   "outputs": [
    {
     "name": "stdout",
     "output_type": "stream",
     "text": [
      "-1.0\n",
      "-1.0\n",
      "Neteisingi duomenys\n",
      "5.0\n",
      "1.0\n"
     ]
    }
   ],
   "source": [
    "a = [-5, -5, 0,'5', 1, 5]\n",
    "for i in a:\n",
    "    try:\n",
    "        print(5/i)\n",
    "    except ZeroDivisionError as ex:\n",
    "        pass\n",
    "    except TypeError as ex:\n",
    "        print('Neteisingi duomenys')\n",
    "\n",
    "        "
   ]
  },
  {
   "cell_type": "code",
   "execution_count": 30,
   "metadata": {},
   "outputs": [
    {
     "name": "stdout",
     "output_type": "stream",
     "text": [
      "-1.0\n",
      "-1.0\n",
      "Neteisingi duomenys\n",
      "5.0\n",
      "1.0\n"
     ]
    }
   ],
   "source": [
    "a = [-5, -5, 0,'5', 1, 5]\n",
    "for i in a:\n",
    "    try:\n",
    "        print(5/i)\n",
    "    except ZeroDivisionError as ex:\n",
    "        pass\n",
    "    except TypeError as ex:\n",
    "        print('Neteisingi duomenys')\n",
    "    except Exception as ex:\n",
    "        pass"
   ]
  },
  {
   "cell_type": "code",
   "execution_count": null,
   "metadata": {},
   "outputs": [],
   "source": []
  },
  {
   "cell_type": "code",
   "execution_count": null,
   "metadata": {},
   "outputs": [],
   "source": []
  },
  {
   "cell_type": "code",
   "execution_count": 66,
   "metadata": {},
   "outputs": [
    {
     "name": "stdout",
     "output_type": "stream",
     "text": [
      "Neteisingi duomenys a\n",
      "Neteisingi duomenys b\n",
      "Demo pabaiga\n"
     ]
    },
    {
     "ename": "TypeError",
     "evalue": "unsupported operand type(s) for /: 'str' and 'str'",
     "output_type": "error",
     "traceback": [
      "\u001b[1;31m---------------------------------------------------------------------------\u001b[0m",
      "\u001b[1;31mTypeError\u001b[0m                                 Traceback (most recent call last)",
      "Cell \u001b[1;32mIn[66], line 21\u001b[0m\n\u001b[0;32m     17\u001b[0m     \u001b[38;5;28mprint\u001b[39m(\u001b[38;5;124m'\u001b[39m\u001b[38;5;124mNeteisingi duomenys b\u001b[39m\u001b[38;5;124m'\u001b[39m)\n\u001b[0;32m     20\u001b[0m \u001b[38;5;28;01mtry\u001b[39;00m:\n\u001b[1;32m---> 21\u001b[0m     \u001b[38;5;28mprint\u001b[39m(\u001b[43ma\u001b[49m\u001b[43m \u001b[49m\u001b[38;5;241;43m/\u001b[39;49m\u001b[43m \u001b[49m\u001b[43mb\u001b[49m, \u001b[38;5;124m'\u001b[39m\u001b[38;5;124m/\u001b[39m\u001b[38;5;124m'\u001b[39m)\n\u001b[0;32m     22\u001b[0m \u001b[38;5;28;01mexcept\u001b[39;00m \u001b[38;5;167;01mZeroDivisionError\u001b[39;00m \u001b[38;5;28;01mas\u001b[39;00m ex:\n\u001b[0;32m     23\u001b[0m     \u001b[38;5;28;01mpass\u001b[39;00m\n",
      "\u001b[1;31mTypeError\u001b[0m: unsupported operand type(s) for /: 'str' and 'str'"
     ]
    }
   ],
   "source": [
    "# Parašykite kodą, kuris paklaustų vartotojo skaičių A ir B,\n",
    "# matematinio veiksmo (+, −, /, ∗), atliktų veiksmą, rezultatą\n",
    "# išspausdintų. Pritaikykite try bloką, kad išvengtumėte tokių\n",
    "# situacijų kaip:\n",
    "# • dalyba iš 0;\n",
    "# • vietoj skaičiaus tekstas;\n",
    "# Pritaikykite visas try bloko šakas.\n",
    "a = ''\n",
    "b = ''\n",
    "try:\n",
    "    a = int(input('a skaicius'))\n",
    "except ValueError as ex:\n",
    "    print('Neteisingi duomenys a') \n",
    "try:  \n",
    "    b = int(input('b skaicius'))\n",
    "except ValueError as ex:\n",
    "    print('Neteisingi duomenys b')\n",
    "\n",
    "    \n",
    "try:\n",
    "    print(a / b, '/')\n",
    "except ZeroDivisionError as ex:\n",
    "    pass\n",
    "    print(ex, '/')\n",
    "\n",
    "else:\n",
    "    print('matematika suveike')\n",
    "finally:\n",
    "    print('Demo pabaiga')\n",
    "    \n",
    "print(a + b, '+')\n",
    "print(a - b, '-')\n",
    "print(a * b, '*')"
   ]
  },
  {
   "cell_type": "code",
   "execution_count": 67,
   "metadata": {},
   "outputs": [],
   "source": [
    "def useless():\n",
    "    pass"
   ]
  },
  {
   "cell_type": "code",
   "execution_count": 68,
   "metadata": {},
   "outputs": [],
   "source": [
    "useless()"
   ]
  },
  {
   "cell_type": "code",
   "execution_count": 69,
   "metadata": {},
   "outputs": [],
   "source": [
    "def fprint(arg):\n",
    "    print('Siai funkcijai buvo nurodyta tai', arg)"
   ]
  },
  {
   "cell_type": "code",
   "execution_count": 71,
   "metadata": {},
   "outputs": [
    {
     "name": "stdout",
     "output_type": "stream",
     "text": [
      "Siai funkcijai buvo nurodyta tai 25\n"
     ]
    }
   ],
   "source": [
    "fprint(25)"
   ]
  },
  {
   "cell_type": "code",
   "execution_count": 72,
   "metadata": {},
   "outputs": [
    {
     "name": "stdout",
     "output_type": "stream",
     "text": [
      "C B A\n"
     ]
    }
   ],
   "source": [
    "def fn(par1, par2, par3):\n",
    "    print(par3, par2, par1)\n",
    "    \n",
    "fn('A','B','C')"
   ]
  },
  {
   "cell_type": "code",
   "execution_count": 73,
   "metadata": {},
   "outputs": [
    {
     "name": "stdout",
     "output_type": "stream",
     "text": [
      "A C B\n"
     ]
    }
   ],
   "source": [
    "def fn(par1, par2, par3):\n",
    "    print(par3, par2, par1)\n",
    "    \n",
    "fn(par3='A',par1='B',par2='C')"
   ]
  },
  {
   "cell_type": "code",
   "execution_count": 74,
   "metadata": {},
   "outputs": [
    {
     "name": "stdout",
     "output_type": "stream",
     "text": [
      "F b A\n"
     ]
    }
   ],
   "source": [
    "def fn(par1, par2, par3='F'):\n",
    "    print(par3, par2, par1)\n",
    "    \n",
    "    \n",
    "fn('A','b')\n",
    "    "
   ]
  },
  {
   "cell_type": "code",
   "execution_count": 75,
   "metadata": {},
   "outputs": [
    {
     "name": "stdout",
     "output_type": "stream",
     "text": [
      "D b A\n"
     ]
    }
   ],
   "source": [
    "def fn(par1, par2, par3='F'):\n",
    "    print(par3, par2, par1)\n",
    "    \n",
    "    \n",
    "fn('A','b', 'D')"
   ]
  },
  {
   "cell_type": "code",
   "execution_count": 78,
   "metadata": {},
   "outputs": [
    {
     "name": "stdout",
     "output_type": "stream",
     "text": [
      "4\n"
     ]
    }
   ],
   "source": [
    "def suma(x,y):\n",
    "    print(x+y)\n",
    "    \n",
    "suma(2,2)"
   ]
  },
  {
   "cell_type": "code",
   "execution_count": 79,
   "metadata": {},
   "outputs": [
    {
     "name": "stdout",
     "output_type": "stream",
     "text": [
      "4\n"
     ]
    }
   ],
   "source": [
    "ats = suma(2,2)"
   ]
  },
  {
   "cell_type": "code",
   "execution_count": 80,
   "metadata": {},
   "outputs": [
    {
     "name": "stdout",
     "output_type": "stream",
     "text": [
      "None\n"
     ]
    }
   ],
   "source": [
    "print(ats)"
   ]
  },
  {
   "cell_type": "code",
   "execution_count": 81,
   "metadata": {},
   "outputs": [],
   "source": [
    "def suma(x,y):\n",
    "    return x+y"
   ]
  },
  {
   "cell_type": "code",
   "execution_count": 82,
   "metadata": {},
   "outputs": [],
   "source": [
    "ats = suma(2,2)"
   ]
  },
  {
   "cell_type": "code",
   "execution_count": 83,
   "metadata": {},
   "outputs": [
    {
     "name": "stdout",
     "output_type": "stream",
     "text": [
      "4\n"
     ]
    }
   ],
   "source": [
    "print(ats)"
   ]
  },
  {
   "cell_type": "code",
   "execution_count": 84,
   "metadata": {},
   "outputs": [],
   "source": [
    "def v(x):\n",
    "    ats = None\n",
    "    if x:\n",
    "        ats = x\n",
    "    else:\n",
    "        ats = -42\n",
    "    return ats"
   ]
  },
  {
   "cell_type": "code",
   "execution_count": 86,
   "metadata": {},
   "outputs": [
    {
     "data": {
      "text/plain": [
       "42"
      ]
     },
     "execution_count": 86,
     "metadata": {},
     "output_type": "execute_result"
    }
   ],
   "source": [
    "def v(x):\n",
    "    if x:\n",
    "        return 42\n",
    "    else:\n",
    "        return -42\n",
    "    \n",
    "v(1)"
   ]
  },
  {
   "cell_type": "code",
   "execution_count": 92,
   "metadata": {},
   "outputs": [
    {
     "data": {
      "text/plain": [
       "3.09"
      ]
     },
     "execution_count": 92,
     "metadata": {},
     "output_type": "execute_result"
    }
   ],
   "source": [
    "# Parašykite funkciją PVM skaičiavimui. Pateikiami argumentai - kaina be pvm, tarifas. funkcija turi gražinti PVM kiekį.\n",
    "def pvm(kaina, tarifas):\n",
    "    return kaina * tarifas /100\n",
    "\n",
    "pvm(103,21)\n",
    "\n",
    "# papildomas punktas - tarifas turi turėti numatytąją reikšmę.\n",
    "\n",
    "def pvm(kaina, tarifas=21):\n",
    "    return kaina * tarifas /100\n",
    "\n",
    "pvm(103,3)"
   ]
  },
  {
   "cell_type": "code",
   "execution_count": 100,
   "metadata": {},
   "outputs": [
    {
     "name": "stdout",
     "output_type": "stream",
     "text": [
      "8\n",
      "2.0\n"
     ]
    }
   ],
   "source": [
    "# 1.0.27\n",
    "def kv(a,b=2):\n",
    "    return a**b\n",
    "ats = kv(2,3)\n",
    "print(ats)\n",
    "# 1.0.28\n",
    "def sak(a,b=2):\n",
    "    return a**(1/b)\n",
    "ats = sak(4,2)\n",
    "print(ats)"
   ]
  },
  {
   "cell_type": "code",
   "execution_count": 99,
   "metadata": {},
   "outputs": [
    {
     "name": "stdout",
     "output_type": "stream",
     "text": [
      "10\n"
     ]
    }
   ],
   "source": [
    "# kontrolinis tekstas 1.0.29\n",
    "\n",
    "def sk(txt):\n",
    "    return txt.split(' ')\n",
    "txt=\"Jau saulelė atkopdama budino svietą ir žiemos triūsą pargriaudama juokės\"\n",
    "ats =len(sk(txt))\n",
    "print(ats)\n"
   ]
  },
  {
   "cell_type": "code",
   "execution_count": null,
   "metadata": {},
   "outputs": [],
   "source": [
    "# 1.0.30\n",
    "# def temp(x):\n",
    "    "
   ]
  },
  {
   "cell_type": "code",
   "execution_count": 147,
   "metadata": {},
   "outputs": [
    {
     "name": "stdout",
     "output_type": "stream",
     "text": [
      "[9, 1]\n",
      "6\n"
     ]
    }
   ],
   "source": [
    "# 1. Parašyti funkciją, kuri priima sąrašą ir grąžina naują sąrašą su\n",
    "# paskutiniu ir pirmu elementais iš pirmojo sąrašo. PVZ:\n",
    "# [1,2,3,4,5,6,7,8,9] ats: [9,1]\n",
    "def sar(x):\n",
    "    return [x[-1],x[0]]\n",
    "ats = sar([1,2,3,4,5,6,7,8,9])\n",
    "\n",
    "print(ats)\n",
    "# 2. Parašyti funkciją greičiui tikrinti: Funkcija paima argumentą -\n",
    "# automobilio greitį. Jei greitis 50 ar mažesnis, funkcija grąžina\n",
    "# ”Ok”, jei greitis didesnis nei 50 - už kiekvieną 5km/h greičio\n",
    "# viršijimą duodamas baudos taškas (pvz: greitis 70, atsakymas\n",
    "# - 4) Jei surenkami 8 taškai ir daugiau - funkcija ne tik grąžina\n",
    "# taškų sumą, bet ir priduria, jog vairuotojo teisės atimamos.\n",
    "\n",
    "def greitis(v):\n",
    "    if v<=50:\n",
    "        return \"Ok\"\n",
    "    return  ((v-50)//5)\n",
    "\n",
    "ats = greitis(80)\n",
    "\n",
    "if ats>8:\n",
    "    print(ats, 'atimtos teises')\n",
    "else:\n",
    "    print(ats)"
   ]
  },
  {
   "cell_type": "code",
   "execution_count": 140,
   "metadata": {},
   "outputs": [
    {
     "name": "stdout",
     "output_type": "stream",
     "text": [
      "sangud\n"
     ]
    }
   ],
   "source": [
    "# 3. Parašyti funkciją, kuri priima tekstą ir grąžina atgal tekstą su\n",
    "# apkeistom pirma ir paskutine raidėmis. PVZ: Rytas sytaR.\n",
    "\n",
    "def text(x):\n",
    "    return x[-1] + x[1:-1] + x[0]\n",
    "ats = text('dangus')\n",
    "print(ats)"
   ]
  },
  {
   "cell_type": "code",
   "execution_count": 1,
   "metadata": {},
   "outputs": [
    {
     "data": {
      "text/plain": [
       "'sugnaD'"
      ]
     },
     "execution_count": 1,
     "metadata": {},
     "output_type": "execute_result"
    }
   ],
   "source": [
    "# 4. Parašyti funkciją, kuri paima ir parašo žodį iš kitos pusės.\n",
    "# PVZ.: Dangus sugnaD.\n",
    "\n",
    "def text(x):\n",
    "    a = ''\n",
    "    for i in x:\n",
    "        a = i + a\n",
    "    return a\n",
    "text('Dangus')        \n",
    "     \n",
    "\n",
    "    "
   ]
  },
  {
   "cell_type": "code",
   "execution_count": 4,
   "metadata": {},
   "outputs": [
    {
     "name": "stdout",
     "output_type": "stream",
     "text": [
      "g\n"
     ]
    }
   ],
   "source": [
    "t = 'dangus'\n",
    "print(t[3])"
   ]
  }
 ],
 "metadata": {
  "kernelspec": {
   "display_name": "Python 3",
   "language": "python",
   "name": "python3"
  },
  "language_info": {
   "codemirror_mode": {
    "name": "ipython",
    "version": 3
   },
   "file_extension": ".py",
   "mimetype": "text/x-python",
   "name": "python",
   "nbconvert_exporter": "python",
   "pygments_lexer": "ipython3",
   "version": "3.12.4"
  }
 },
 "nbformat": 4,
 "nbformat_minor": 2
}
