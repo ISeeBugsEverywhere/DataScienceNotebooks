{
 "cells": [
  {
   "cell_type": "code",
   "execution_count": 1,
   "metadata": {},
   "outputs": [],
   "source": [
    "%reload_ext autoreload\n",
    "%autoreload 2"
   ]
  },
  {
   "cell_type": "code",
   "execution_count": 5,
   "metadata": {},
   "outputs": [],
   "source": [
    "import numpy as np\n",
    "import pandas as pd\n",
    "import matplotlib.pyplot as plt\n",
    "import warnings\n",
    "warnings.filterwarnings('ignore')\n",
    "import seaborn as sns\n",
    "import sqlite3\n",
    "import mysql.connector as cnt\n",
    "import plotly.express as px\n",
    "import random\n",
    "from Skriptai.manofunkcijos import *\n",
    "\n",
    "import requests\n",
    "from bs4 import BeautifulSoup\n",
    "import selenium\n",
    "from selenium import webdriver # naršyklės kontroleris\n",
    "from selenium.webdriver.chrome.options import Options #Naršyklės\n",
    "# pip install beautifulsoup4 selenium\n",
    "import time"
   ]
  },
  {
   "cell_type": "code",
   "execution_count": 106,
   "metadata": {},
   "outputs": [],
   "source": [
    "from pylatexenc.latex2text import LatexNodes2Text\n",
    "from pylatexenc.latexencode import UnicodeToLatexEncoder"
   ]
  },
  {
   "cell_type": "code",
   "execution_count": null,
   "metadata": {},
   "outputs": [],
   "source": [
    "# from ../../../manofunkcijos import *"
   ]
  },
  {
   "cell_type": "code",
   "execution_count": null,
   "metadata": {},
   "outputs": [],
   "source": [
    "# pytonas ir tipų anotacijos\n",
    "def do_smth(x:str):\n",
    "    x.islower()\n",
    "    print(x)"
   ]
  },
  {
   "cell_type": "code",
   "execution_count": 3,
   "metadata": {},
   "outputs": [],
   "source": [
    "import typing as T"
   ]
  },
  {
   "cell_type": "code",
   "execution_count": 8,
   "metadata": {},
   "outputs": [
    {
     "name": "stdout",
     "output_type": "stream",
     "text": [
      "10\n",
      "10.0\n",
      "55\n"
     ]
    }
   ],
   "source": [
    "\n",
    "def add(x:str|float|int, y:str|float|int) -> str|T.Any:\n",
    "    return x + y\n",
    "\n",
    "\n",
    "print(add(5,5))\n",
    "print(add(5.0,5.0))\n",
    "print(add('5','5'))"
   ]
  },
  {
   "cell_type": "code",
   "execution_count": null,
   "metadata": {},
   "outputs": [],
   "source": [
    "def do_smth(df:pd.DataFrame) -> np.ndarray:\n",
    "    pass"
   ]
  },
  {
   "cell_type": "code",
   "execution_count": 12,
   "metadata": {},
   "outputs": [
    {
     "name": "stdout",
     "output_type": "stream",
     "text": [
      "2\n"
     ]
    }
   ],
   "source": [
    "class obj():\n",
    "    def A(self) -> int:\n",
    "        return 2\n",
    "    \n",
    "    \n",
    "def do(o:obj) -> None:\n",
    "    print(o.A())\n",
    "    \n",
    "do(obj())\n"
   ]
  },
  {
   "cell_type": "code",
   "execution_count": 1,
   "metadata": {},
   "outputs": [],
   "source": [
    "# pip install mypy"
   ]
  },
  {
   "cell_type": "code",
   "execution_count": null,
   "metadata": {},
   "outputs": [],
   "source": [
    "# python -m mypy 49_anotacijos.py\n",
    "# gaunamos klaidos pagal anotacijas"
   ]
  },
  {
   "cell_type": "code",
   "execution_count": 4,
   "metadata": {},
   "outputs": [],
   "source": [
    "def do(x:T.Iterable) -> None:\n",
    "    for i in x:\n",
    "        print(i)\n",
    "    pass"
   ]
  },
  {
   "cell_type": "code",
   "execution_count": 11,
   "metadata": {},
   "outputs": [
    {
     "data": {
      "image/png": "[encoded data removed]",
      "text/plain": [
       "<Figure size 800x450 with 1 Axes>"
      ]
     },
     "metadata": {},
     "output_type": "display_data"
    }
   ],
   "source": [
    "fig, axis = plt.subplots(figsize=(8,4.5))\n",
    "#plotting code:\n",
    "xtitle =r'$\\dfrac{E^2}{m \\cdot c}$'\n",
    "axis.set_xlabel(xtitle)\n",
    "#axis.legend(loc='best')\n",
    "#axis.ticklabel_format(style='plain')\n",
    "fig.tight_layout()\n",
    "plt.show()"
   ]
  },
  {
   "cell_type": "code",
   "execution_count": 18,
   "metadata": {},
   "outputs": [
    {
     "name": "stdout",
     "output_type": "stream",
     "text": [
      "S\n"
     ]
    }
   ],
   "source": [
    "def doSmth(x:str) -> None:\n",
    "    if isinstance(x, str):\n",
    "        print(x)\n",
    "    else:\n",
    "        raise TypeError('The HELL??')\n",
    "    \n",
    "doSmth('S')"
   ]
  },
  {
   "cell_type": "code",
   "execution_count": 19,
   "metadata": {},
   "outputs": [
    {
     "ename": "TypeError",
     "evalue": "The HELL??",
     "output_type": "error",
     "traceback": [
      "\u001b[1;31m---------------------------------------------------------------------------\u001b[0m",
      "\u001b[1;31mTypeError\u001b[0m                                 Traceback (most recent call last)",
      "Cell \u001b[1;32mIn[19], line 1\u001b[0m\n\u001b[1;32m----> 1\u001b[0m \u001b[43mdoSmth\u001b[49m\u001b[43m(\u001b[49m\u001b[38;5;241;43m5\u001b[39;49m\u001b[43m)\u001b[49m\n",
      "Cell \u001b[1;32mIn[18], line 5\u001b[0m, in \u001b[0;36mdoSmth\u001b[1;34m(x)\u001b[0m\n\u001b[0;32m      3\u001b[0m     \u001b[38;5;28mprint\u001b[39m(x)\n\u001b[0;32m      4\u001b[0m \u001b[38;5;28;01melse\u001b[39;00m:\n\u001b[1;32m----> 5\u001b[0m     \u001b[38;5;28;01mraise\u001b[39;00m \u001b[38;5;167;01mTypeError\u001b[39;00m(\u001b[38;5;124m'\u001b[39m\u001b[38;5;124mThe HELL??\u001b[39m\u001b[38;5;124m'\u001b[39m)\n",
      "\u001b[1;31mTypeError\u001b[0m: The HELL??"
     ]
    }
   ],
   "source": [
    "doSmth(5)"
   ]
  },
  {
   "cell_type": "code",
   "execution_count": 14,
   "metadata": {},
   "outputs": [
    {
     "data": {
      "text/plain": [
       "False"
      ]
     },
     "execution_count": 14,
     "metadata": {},
     "output_type": "execute_result"
    }
   ],
   "source": [
    "isinstance('Skriptai',int)"
   ]
  },
  {
   "cell_type": "code",
   "execution_count": 15,
   "metadata": {},
   "outputs": [
    {
     "data": {
      "text/plain": [
       "True"
      ]
     },
     "execution_count": 15,
     "metadata": {},
     "output_type": "execute_result"
    }
   ],
   "source": [
    "isinstance(2,int)"
   ]
  },
  {
   "cell_type": "code",
   "execution_count": 16,
   "metadata": {},
   "outputs": [
    {
     "data": {
      "text/plain": [
       "True"
      ]
     },
     "execution_count": 16,
     "metadata": {},
     "output_type": "execute_result"
    }
   ],
   "source": [
    "type(2) is int"
   ]
  },
  {
   "cell_type": "code",
   "execution_count": 20,
   "metadata": {},
   "outputs": [],
   "source": [
    "# docTest rašymas"
   ]
  },
  {
   "cell_type": "code",
   "execution_count": 27,
   "metadata": {},
   "outputs": [
    {
     "name": "stdout",
     "output_type": "stream",
     "text": [
      "Finding tests in NoName\n",
      "Trying:\n",
      "    add(1,2)\n",
      "Expecting:\n",
      "    3\n",
      "ok\n",
      "Trying:\n",
      "    add(5,-4)\n",
      "Expecting:\n",
      "    1\n",
      "ok\n",
      "Trying:\n",
      "    add(0,0)\n",
      "Expecting:\n",
      "    0\n",
      "ok\n"
     ]
    },
    {
     "data": {
      "text/plain": [
       "10"
      ]
     },
     "execution_count": 27,
     "metadata": {},
     "output_type": "execute_result"
    }
   ],
   "source": [
    "import doctest\n",
    "\n",
    "def add(x, y):\n",
    "    '''sums up two digits\n",
    "    >>> add(1,2)\n",
    "    3\n",
    "    >>> add(5,-4)\n",
    "    1\n",
    "    >>> add(0,0)\n",
    "    0\n",
    "    '''\n",
    "    return x + y\n",
    "\n",
    "doctest.run_docstring_examples(add, verbose=True, globs=globals())\n",
    "# verbose rodo viską ką atliko\n",
    "# globals() gražina žodyną su esamais atributais kas buvo vykdyta\n",
    "add(5,5)"
   ]
  },
  {
   "cell_type": "code",
   "execution_count": 24,
   "metadata": {},
   "outputs": [
    {
     "data": {
      "text/plain": [
       "{'__name__': '__main__',\n",
       " '__doc__': 'Automatically created module for IPython interactive environment',\n",
       " '__package__': None,\n",
       " '__loader__': None,\n",
       " '__spec__': None,\n",
       " '__builtin__': <module 'builtins' (built-in)>,\n",
       " '__builtins__': <module 'builtins' (built-in)>,\n",
       " '_ih': ['',\n",
       "  '# pip install mypy',\n",
       "  'def do(x:T.Iterable) -> None:\\n    for i in x:\\n        print(i)\\n    pass',\n",
       "  'import typing as T',\n",
       "  'def do(x:T.Iterable) -> None:\\n    for i in x:\\n        print(i)\\n    pass',\n",
       "  \"import numpy as np\\nimport pandas as pd\\nimport matplotlib.pyplot as plt\\nimport warnings\\nwarnings.filterwarnings('ignore')\\nimport seaborn as sns\\nimport sqlite3\\nimport mysql.connector as cnt\\nimport plotly.express as px\\nimport random\\nfrom Skriptai.manofunkcijos import *\\n\\nimport requests\\nfrom bs4 import BeautifulSoup\\nimport selenium\\nfrom selenium import webdriver # naršyklės kontroleris\\nfrom selenium.webdriver.chrome.options import Options #Naršyklės\\n# pip install beautifulsoup4 selenium\\nimport time\",\n",
       "  \"fig, axis = plt.subplots(figsize=(8,4.5))\\n#plotting code:\\n\\n\\n#axis.legend(loc='best')\\n#axis.ticklabel_format(style='plain')\\nfig.tight_layout()\\nplt.show()\",\n",
       "  \"fig, axis = plt.subplots(figsize=(8,4.5))\\n#plotting code:\\nxtitle =r'$\\\\dfrac{E^2}{m \\\\cdot c}$'\\n\\n#axis.legend(loc='best')\\n#axis.ticklabel_format(style='plain')\\nfig.tight_layout()\\nplt.show()\",\n",
       "  \"fig, axis = plt.subplots(figsize=(8,4.5))\\n#plotting code:\\nxtitle =r'$\\\\dfrac{E^2}{m \\\\cdot c}$'\\n\\n#axis.legend(loc='best')\\n#axis.ticklabel_format(style='plain')\\nfig.tight_layout()\\nplt.show()\",\n",
       "  \"fig, axis = plt.subplots(figsize=(8,4.5))\\n#plotting code:\\nxtitle =r'$\\\\dfrac{E^2}{m \\\\cdot c}$'\\n\\n#axis.legend(loc='best')\\n#axis.ticklabel_format(style='plain')\\nfig.tight_layout()\\nplt.show()\",\n",
       "  \"fig, axis = plt.subplots(figsize=(8,4.5))\\n#plotting code:\\nxtitle = r'$\\\\dfrac{E^2}{m \\\\cdot c}$'\\naxis.set_xlabel(xtitle)\\n#axis.legend(loc='best')\\n#axis.ticklabel_format(style='plain')\\nfig.tight_layout()\\nplt.show()\",\n",
       "  \"fig, axis = plt.subplots(figsize=(8,4.5))\\n#plotting code:\\nxtitle =r'$\\\\dfrac{E^2}{m \\\\cdot c}$'\\naxis.set_xlabel(xtitle)\\n#axis.legend(loc='best')\\n#axis.ticklabel_format(style='plain')\\nfig.tight_layout()\\nplt.show()\",\n",
       "  \"def doSmth(X:str) -> None:\\n    if isinstance(x, str):\\n        print(x)\\n    else:\\n        raise TypeError('The HELL??')\",\n",
       "  'isinstance(2,int)',\n",
       "  \"isinstance('Skriptai',int)\",\n",
       "  'isinstance(2,int)',\n",
       "  'type(2) is int',\n",
       "  \"def doSmth(X:str) -> None:\\n    if isinstance(x, str):\\n        print(x)\\n    else:\\n        raise TypeError('The HELL??')\\n    \\ndoSmth('S')\",\n",
       "  \"def doSmth(x:str) -> None:\\n    if isinstance(x, str):\\n        print(x)\\n    else:\\n        raise TypeError('The HELL??')\\n    \\ndoSmth('S')\",\n",
       "  'doSmth(5)',\n",
       "  '# docTest rašymas',\n",
       "  'import doctest',\n",
       "  \"import doctest\\n\\ndef add(x, y):\\n    '''sums up two digits\\n    >>> add(1,2)\\n    '''\\n    return x + y\",\n",
       "  'globals()',\n",
       "  'globals()\\n# globals() gražina žodyną su esamais atributais kas buvo vykdyta'],\n",
       " '_oh': {13: True, 14: False, 15: True, 16: True, 23: {...}},\n",
       " '_dh': [WindowsPath('c:/Users/manta/OneDrive/Dokumentai/Python projektai/DataScienceNotebooks/Studentai/MantasD')],\n",
       " 'In': ['',\n",
       "  '# pip install mypy',\n",
       "  'def do(x:T.Iterable) -> None:\\n    for i in x:\\n        print(i)\\n    pass',\n",
       "  'import typing as T',\n",
       "  'def do(x:T.Iterable) -> None:\\n    for i in x:\\n        print(i)\\n    pass',\n",
       "  \"import numpy as np\\nimport pandas as pd\\nimport matplotlib.pyplot as plt\\nimport warnings\\nwarnings.filterwarnings('ignore')\\nimport seaborn as sns\\nimport sqlite3\\nimport mysql.connector as cnt\\nimport plotly.express as px\\nimport random\\nfrom Skriptai.manofunkcijos import *\\n\\nimport requests\\nfrom bs4 import BeautifulSoup\\nimport selenium\\nfrom selenium import webdriver # naršyklės kontroleris\\nfrom selenium.webdriver.chrome.options import Options #Naršyklės\\n# pip install beautifulsoup4 selenium\\nimport time\",\n",
       "  \"fig, axis = plt.subplots(figsize=(8,4.5))\\n#plotting code:\\n\\n\\n#axis.legend(loc='best')\\n#axis.ticklabel_format(style='plain')\\nfig.tight_layout()\\nplt.show()\",\n",
       "  \"fig, axis = plt.subplots(figsize=(8,4.5))\\n#plotting code:\\nxtitle =r'$\\\\dfrac{E^2}{m \\\\cdot c}$'\\n\\n#axis.legend(loc='best')\\n#axis.ticklabel_format(style='plain')\\nfig.tight_layout()\\nplt.show()\",\n",
       "  \"fig, axis = plt.subplots(figsize=(8,4.5))\\n#plotting code:\\nxtitle =r'$\\\\dfrac{E^2}{m \\\\cdot c}$'\\n\\n#axis.legend(loc='best')\\n#axis.ticklabel_format(style='plain')\\nfig.tight_layout()\\nplt.show()\",\n",
       "  \"fig, axis = plt.subplots(figsize=(8,4.5))\\n#plotting code:\\nxtitle =r'$\\\\dfrac{E^2}{m \\\\cdot c}$'\\n\\n#axis.legend(loc='best')\\n#axis.ticklabel_format(style='plain')\\nfig.tight_layout()\\nplt.show()\",\n",
       "  \"fig, axis = plt.subplots(figsize=(8,4.5))\\n#plotting code:\\nxtitle = r'$\\\\dfrac{E^2}{m \\\\cdot c}$'\\naxis.set_xlabel(xtitle)\\n#axis.legend(loc='best')\\n#axis.ticklabel_format(style='plain')\\nfig.tight_layout()\\nplt.show()\",\n",
       "  \"fig, axis = plt.subplots(figsize=(8,4.5))\\n#plotting code:\\nxtitle =r'$\\\\dfrac{E^2}{m \\\\cdot c}$'\\naxis.set_xlabel(xtitle)\\n#axis.legend(loc='best')\\n#axis.ticklabel_format(style='plain')\\nfig.tight_layout()\\nplt.show()\",\n",
       "  \"def doSmth(X:str) -> None:\\n    if isinstance(x, str):\\n        print(x)\\n    else:\\n        raise TypeError('The HELL??')\",\n",
       "  'isinstance(2,int)',\n",
       "  \"isinstance('Skriptai',int)\",\n",
       "  'isinstance(2,int)',\n",
       "  'type(2) is int',\n",
       "  \"def doSmth(X:str) -> None:\\n    if isinstance(x, str):\\n        print(x)\\n    else:\\n        raise TypeError('The HELL??')\\n    \\ndoSmth('S')\",\n",
       "  \"def doSmth(x:str) -> None:\\n    if isinstance(x, str):\\n        print(x)\\n    else:\\n        raise TypeError('The HELL??')\\n    \\ndoSmth('S')\",\n",
       "  'doSmth(5)',\n",
       "  '# docTest rašymas',\n",
       "  'import doctest',\n",
       "  \"import doctest\\n\\ndef add(x, y):\\n    '''sums up two digits\\n    >>> add(1,2)\\n    '''\\n    return x + y\",\n",
       "  'globals()',\n",
       "  'globals()\\n# globals() gražina žodyną su esamais atributais kas buvo vykdyta'],\n",
       " 'Out': {13: True, 14: False, 15: True, 16: True, 23: {...}},\n",
       " 'get_ipython': <bound method InteractiveShell.get_ipython of <ipykernel.zmqshell.ZMQInteractiveShell object at 0x000001C09397F680>>,\n",
       " 'exit': <IPython.core.autocall.ZMQExitAutocall at 0x1c0939e5730>,\n",
       " 'quit': <IPython.core.autocall.ZMQExitAutocall at 0x1c0939e5730>,\n",
       " 'open': <function _io.open(file, mode='r', buffering=-1, encoding=None, errors=None, newline=None, closefd=True, opener=None)>,\n",
       " '_': {...},\n",
       " '__': True,\n",
       " '___': True,\n",
       " '__vsc_ipynb_file__': 'c:\\\\Users\\\\manta\\\\OneDrive\\\\Dokumentai\\\\Python projektai\\\\DataScienceNotebooks\\\\Studentai\\\\MantasD\\\\49.ipynb',\n",
       " '_i': 'globals()',\n",
       " '_ii': \"import doctest\\n\\ndef add(x, y):\\n    '''sums up two digits\\n    >>> add(1,2)\\n    '''\\n    return x + y\",\n",
       " '_iii': 'import doctest',\n",
       " '_i1': '# pip install mypy',\n",
       " '_i2': 'def do(x:T.Iterable) -> None:\\n    for i in x:\\n        print(i)\\n    pass',\n",
       " '_i3': 'import typing as T',\n",
       " 'T': <module 'typing' from 'c:\\\\Program Files\\\\Python312\\\\Lib\\\\typing.py'>,\n",
       " '_i4': 'def do(x:T.Iterable) -> None:\\n    for i in x:\\n        print(i)\\n    pass',\n",
       " 'do': <function __main__.do(x: Iterable) -> None>,\n",
       " '_i5': \"import numpy as np\\nimport pandas as pd\\nimport matplotlib.pyplot as plt\\nimport warnings\\nwarnings.filterwarnings('ignore')\\nimport seaborn as sns\\nimport sqlite3\\nimport mysql.connector as cnt\\nimport plotly.express as px\\nimport random\\nfrom Skriptai.manofunkcijos import *\\n\\nimport requests\\nfrom bs4 import BeautifulSoup\\nimport selenium\\nfrom selenium import webdriver # naršyklės kontroleris\\nfrom selenium.webdriver.chrome.options import Options #Naršyklės\\n# pip install beautifulsoup4 selenium\\nimport time\",\n",
       " 'np': <module 'numpy' from 'C:\\\\Users\\\\manta\\\\AppData\\\\Roaming\\\\Python\\\\Python312\\\\site-packages\\\\numpy\\\\__init__.py'>,\n",
       " 'pd': <module 'pandas' from 'C:\\\\Users\\\\manta\\\\AppData\\\\Roaming\\\\Python\\\\Python312\\\\site-packages\\\\pandas\\\\__init__.py'>,\n",
       " 'plt': <module 'matplotlib.pyplot' from 'C:\\\\Users\\\\manta\\\\AppData\\\\Roaming\\\\Python\\\\Python312\\\\site-packages\\\\matplotlib\\\\pyplot.py'>,\n",
       " 'warnings': <module 'warnings' from 'c:\\\\Program Files\\\\Python312\\\\Lib\\\\warnings.py'>,\n",
       " 'sns': <module 'seaborn' from 'C:\\\\Users\\\\manta\\\\AppData\\\\Roaming\\\\Python\\\\Python312\\\\site-packages\\\\seaborn\\\\__init__.py'>,\n",
       " 'sqlite3': <module 'sqlite3' from 'c:\\\\Program Files\\\\Python312\\\\Lib\\\\sqlite3\\\\__init__.py'>,\n",
       " 'cnt': <module 'mysql.connector' from 'C:\\\\Users\\\\manta\\\\AppData\\\\Roaming\\\\Python\\\\Python312\\\\site-packages\\\\mysql\\\\connector\\\\__init__.py'>,\n",
       " 'px': <module 'plotly.express' from 'C:\\\\Users\\\\manta\\\\AppData\\\\Roaming\\\\Python\\\\Python312\\\\site-packages\\\\plotly\\\\express\\\\__init__.py'>,\n",
       " 'random': <module 'random' from 'c:\\\\Program Files\\\\Python312\\\\Lib\\\\random.py'>,\n",
       " 'pout': <function Skriptai.manofunkcijos.pout(a, limit=5)>,\n",
       " 'SolarAnalyzer': Skriptai.manofunkcijos.SolarAnalyzer,\n",
       " 'col': <function Skriptai.manofunkcijos.col(fname, sep=';') -> None>,\n",
       " 'pop': <function Skriptai.manofunkcijos.pop(sar1, sar1labels, sar2, sar2labels, indeksas=0, title1='', title2='')>,\n",
       " 'bop': <function Skriptai.manofunkcijos.bop(sar1, sar1labels, sar2, sar2labels, indeksas=0, title1='', title2='')>,\n",
       " 'check_if_value_exists_or_max': <function Skriptai.manofunkcijos.check_if_value_exists_or_max(db_path, table_name, column_name, value=None)>,\n",
       " 'insert_into_db': <function Skriptai.manofunkcijos.insert_into_db(data, db_path, table_name)>,\n",
       " 'update_row_in_db': <function Skriptai.manofunkcijos.update_row_in_db(db_path, table_name, data, condition_column, condition_value)>,\n",
       " 'query_to_dataframe': <function Skriptai.manofunkcijos.query_to_dataframe(db_path, query)>,\n",
       " 'remove_duplicates': <function Skriptai.manofunkcijos.remove_duplicates(db_name, table_name, column_name)>,\n",
       " 'remove_table': <function Skriptai.manofunkcijos.remove_table(db_name, table_name)>,\n",
       " 'get_coordinates': <function Skriptai.manofunkcijos.get_coordinates(address)>,\n",
       " 'requests': <module 'requests' from 'C:\\\\Users\\\\manta\\\\AppData\\\\Roaming\\\\Python\\\\Python312\\\\site-packages\\\\requests\\\\__init__.py'>,\n",
       " 'BeautifulSoup': bs4.BeautifulSoup,\n",
       " 'selenium': <module 'selenium' from 'C:\\\\Users\\\\manta\\\\AppData\\\\Roaming\\\\Python\\\\Python312\\\\site-packages\\\\selenium\\\\__init__.py'>,\n",
       " 'webdriver': <module 'selenium.webdriver' from 'C:\\\\Users\\\\manta\\\\AppData\\\\Roaming\\\\Python\\\\Python312\\\\site-packages\\\\selenium\\\\webdriver\\\\__init__.py'>,\n",
       " 'Options': selenium.webdriver.chrome.options.Options,\n",
       " 'time': <module 'time' (built-in)>,\n",
       " '_i6': \"fig, axis = plt.subplots(figsize=(8,4.5))\\n#plotting code:\\n\\n\\n#axis.legend(loc='best')\\n#axis.ticklabel_format(style='plain')\\nfig.tight_layout()\\nplt.show()\",\n",
       " 'fig': <Figure size 800x450 with 1 Axes>,\n",
       " 'axis': <Axes: xlabel='$\\\\dfrac{E^2}{m \\\\cdot c}$'>,\n",
       " '_i7': \"fig, axis = plt.subplots(figsize=(8,4.5))\\n#plotting code:\\nxtitle =r'$\\\\dfrac{E^2}{m \\\\cdot c}$'\\n\\n#axis.legend(loc='best')\\n#axis.ticklabel_format(style='plain')\\nfig.tight_layout()\\nplt.show()\",\n",
       " 'xtitle': '$\\\\dfrac{E^2}{m \\\\cdot c}$',\n",
       " '_i8': \"fig, axis = plt.subplots(figsize=(8,4.5))\\n#plotting code:\\nxtitle =r'$\\\\dfrac{E^2}{m \\\\cdot c}$'\\n\\n#axis.legend(loc='best')\\n#axis.ticklabel_format(style='plain')\\nfig.tight_layout()\\nplt.show()\",\n",
       " '_i9': \"fig, axis = plt.subplots(figsize=(8,4.5))\\n#plotting code:\\nxtitle =r'$\\\\dfrac{E^2}{m \\\\cdot c}$'\\n\\n#axis.legend(loc='best')\\n#axis.ticklabel_format(style='plain')\\nfig.tight_layout()\\nplt.show()\",\n",
       " '_i10': \"fig, axis = plt.subplots(figsize=(8,4.5))\\n#plotting code:\\nxtitle = r'$\\\\dfrac{E^2}{m \\\\cdot c}$'\\naxis.set_xlabel(xtitle)\\n#axis.legend(loc='best')\\n#axis.ticklabel_format(style='plain')\\nfig.tight_layout()\\nplt.show()\",\n",
       " '_i11': \"fig, axis = plt.subplots(figsize=(8,4.5))\\n#plotting code:\\nxtitle =r'$\\\\dfrac{E^2}{m \\\\cdot c}$'\\naxis.set_xlabel(xtitle)\\n#axis.legend(loc='best')\\n#axis.ticklabel_format(style='plain')\\nfig.tight_layout()\\nplt.show()\",\n",
       " '_i12': \"def doSmth(X:str) -> None:\\n    if isinstance(x, str):\\n        print(x)\\n    else:\\n        raise TypeError('The HELL??')\",\n",
       " 'doSmth': <function __main__.doSmth(x: str) -> None>,\n",
       " '_i13': 'isinstance(2,int)',\n",
       " '_13': True,\n",
       " '_i14': \"isinstance('Skriptai',int)\",\n",
       " '_14': False,\n",
       " '_i15': 'isinstance(2,int)',\n",
       " '_15': True,\n",
       " '_i16': 'type(2) is int',\n",
       " '_16': True,\n",
       " '_i17': \"def doSmth(X:str) -> None:\\n    if isinstance(x, str):\\n        print(x)\\n    else:\\n        raise TypeError('The HELL??')\\n    \\ndoSmth('S')\",\n",
       " '_i18': \"def doSmth(x:str) -> None:\\n    if isinstance(x, str):\\n        print(x)\\n    else:\\n        raise TypeError('The HELL??')\\n    \\ndoSmth('S')\",\n",
       " '_i19': 'doSmth(5)',\n",
       " '_i20': '# docTest rašymas',\n",
       " '_i21': 'import doctest',\n",
       " 'doctest': <module 'doctest' from 'c:\\\\Program Files\\\\Python312\\\\Lib\\\\doctest.py'>,\n",
       " '_i22': \"import doctest\\n\\ndef add(x, y):\\n    '''sums up two digits\\n    >>> add(1,2)\\n    '''\\n    return x + y\",\n",
       " 'add': <function __main__.add(x, y)>,\n",
       " '_i23': 'globals()',\n",
       " '_23': {...},\n",
       " '_i24': 'globals()\\n# globals() gražina žodyną su esamais atributais kas buvo vykdyta'}"
      ]
     },
     "execution_count": 24,
     "metadata": {},
     "output_type": "execute_result"
    }
   ],
   "source": [
    "globals()\n",
    "# globals() gražina žodyną su esamais atributais kas buvo vykdyta"
   ]
  },
  {
   "cell_type": "code",
   "execution_count": 28,
   "metadata": {},
   "outputs": [
    {
     "ename": "TypeError",
     "evalue": "unsupported operand type(s) for +: 'int' and 'str'",
     "output_type": "error",
     "traceback": [
      "\u001b[1;31m---------------------------------------------------------------------------\u001b[0m",
      "\u001b[1;31mTypeError\u001b[0m                                 Traceback (most recent call last)",
      "Cell \u001b[1;32mIn[28], line 1\u001b[0m\n\u001b[1;32m----> 1\u001b[0m \u001b[43madd\u001b[49m\u001b[43m(\u001b[49m\u001b[38;5;241;43m5\u001b[39;49m\u001b[43m,\u001b[49m\u001b[38;5;124;43m'\u001b[39;49m\u001b[38;5;124;43m5\u001b[39;49m\u001b[38;5;124;43m'\u001b[39;49m\u001b[43m)\u001b[49m\n",
      "Cell \u001b[1;32mIn[27], line 12\u001b[0m, in \u001b[0;36madd\u001b[1;34m(x, y)\u001b[0m\n\u001b[0;32m      3\u001b[0m \u001b[38;5;28;01mdef\u001b[39;00m \u001b[38;5;21madd\u001b[39m(x, y):\n\u001b[0;32m      4\u001b[0m \u001b[38;5;250m    \u001b[39m\u001b[38;5;124;03m'''sums up two digits\u001b[39;00m\n\u001b[0;32m      5\u001b[0m \u001b[38;5;124;03m    >>> add(1,2)\u001b[39;00m\n\u001b[0;32m      6\u001b[0m \u001b[38;5;124;03m    3\u001b[39;00m\n\u001b[1;32m   (...)\u001b[0m\n\u001b[0;32m     10\u001b[0m \u001b[38;5;124;03m    0\u001b[39;00m\n\u001b[0;32m     11\u001b[0m \u001b[38;5;124;03m    '''\u001b[39;00m\n\u001b[1;32m---> 12\u001b[0m     \u001b[38;5;28;01mreturn\u001b[39;00m \u001b[43mx\u001b[49m\u001b[43m \u001b[49m\u001b[38;5;241;43m+\u001b[39;49m\u001b[43m \u001b[49m\u001b[43my\u001b[49m\n",
      "\u001b[1;31mTypeError\u001b[0m: unsupported operand type(s) for +: 'int' and 'str'"
     ]
    }
   ],
   "source": [
    "add(5,'5')"
   ]
  },
  {
   "cell_type": "code",
   "execution_count": 29,
   "metadata": {},
   "outputs": [
    {
     "name": "stdout",
     "output_type": "stream",
     "text": [
      "Finding tests in NoName\n",
      "Trying:\n",
      "    add(1,2)\n",
      "Expecting:\n",
      "    3\n",
      "ok\n",
      "Trying:\n",
      "    add(5,-4)\n",
      "Expecting:\n",
      "    1\n",
      "ok\n",
      "Trying:\n",
      "    add(0,0)\n",
      "Expecting:\n",
      "    0\n",
      "ok\n",
      "Trying:\n",
      "    (5,'5')\n",
      "Expecting:\n",
      "    Traceback (most recent call last):\n",
      "    unsupported operand type(s) for +: 'int' and 'str'\n",
      "**********************************************************************\n",
      "File \"__main__\", line 11, in NoName\n",
      "Failed example:\n",
      "    (5,'5')\n",
      "Expected:\n",
      "    Traceback (most recent call last):\n",
      "    unsupported operand type(s) for +: 'int' and 'str'\n",
      "Got:\n",
      "    (5, '5')\n"
     ]
    },
    {
     "data": {
      "text/plain": [
       "10"
      ]
     },
     "execution_count": 29,
     "metadata": {},
     "output_type": "execute_result"
    }
   ],
   "source": [
    "import doctest\n",
    "\n",
    "def add(x, y):\n",
    "    '''sums up two digits\n",
    "    >>> add(1,2)\n",
    "    3\n",
    "    >>> add(5,-4)\n",
    "    1\n",
    "    >>> add(0,0)\n",
    "    0\n",
    "    >>> (5,'5')\n",
    "    Traceback (most recent call last):\n",
    "    unsupported operand type(s) for +: 'int' and 'str'\n",
    "    '''\n",
    "    return x + y\n",
    "\n",
    "doctest.run_docstring_examples(add, verbose=True, globs=globals())\n",
    "# verbose rodo viską ką atliko\n",
    "# globals() gražina žodyną su esamais atributais kas buvo vykdyta\n",
    "add(5,5)"
   ]
  },
  {
   "cell_type": "code",
   "execution_count": 38,
   "metadata": {},
   "outputs": [],
   "source": [
    "# python -m doctest -v  49_doctester.py\n",
    "# galima paleisti testavimą kai leidžiama per kitą skriptą"
   ]
  },
  {
   "cell_type": "code",
   "execution_count": null,
   "metadata": {},
   "outputs": [],
   "source": [
    "# Užduotis 1: Funkcija, kuri tikrina, ar skaičius yra nelyginis\n",
    "# Užduotis 2: Funkcija, kuri tikrina, ar skaičius yra teigiamas\n",
    "# Užduotis 3: Funkcija, kuri tikrina, ar skaičius yra neigiamas\n",
    "# Užduotis 4: Funkcija, kuri tikrina, ar tekstas yra tuščias\n",
    "# Užduotis 5: Funkcija, kuri tikrina, ar tekstas prasideda tam tikra raide\n",
    "# Užduotis 6: Funkcija, kuri suranda pateikto skaičių sąrašo vidurkį (len, sum naudoti viduje)\n",
    "\n",
    "# Funkcija grąžina didžiausią sąrašo elementą.\n",
    "\n",
    "# Funkcija apverčia duotą eilutę.\n",
    "\n",
    "# Funkcija apskaičiuoja faktorialą.\n",
    "\n",
    "# Funkcija grąžina Fibonacci seką iki n-tosios reikšmės."
   ]
  },
  {
   "cell_type": "code",
   "execution_count": null,
   "metadata": {},
   "outputs": [
    {
     "name": "stdout",
     "output_type": "stream",
     "text": [
      "Finding tests in NoName\n",
      "Trying:\n",
      "    nel(5)\n",
      "Expecting:\n",
      "    True\n",
      "ok\n",
      "Trying:\n",
      "    nel(4)\n",
      "Expecting:\n",
      "    False\n",
      "ok\n"
     ]
    }
   ],
   "source": [
    "# Užduotis 1: Funkcija, kuri tikrina, ar skaičius yra nelyginis\n",
    "def nel(x):\n",
    "    ''' jei skaičius nelyginis atiduoda True\n",
    "    >>> nel(5)\n",
    "    True\n",
    "    >>> nel(4)\n",
    "    False\n",
    "    '''\n",
    "    if x%2 != 0:\n",
    "        return True\n",
    "    else:\n",
    "        return False\n",
    "    \n",
    "doctest.run_docstring_examples(nel, verbose=True, globs=globals())"
   ]
  },
  {
   "cell_type": "code",
   "execution_count": null,
   "metadata": {},
   "outputs": [
    {
     "name": "stdout",
     "output_type": "stream",
     "text": [
      "Finding tests in NoName\n",
      "Trying:\n",
      "    lyg(5)\n",
      "Expecting:\n",
      "    True\n",
      "ok\n",
      "Trying:\n",
      "    lyg(-4)\n",
      "Expecting:\n",
      "    False\n",
      "ok\n"
     ]
    }
   ],
   "source": [
    "# Užduotis 2: Funkcija, kuri tikrina, ar skaičius yra teigiamas\n",
    "def lyg(x):\n",
    "    ''' jei skaičius yra teigiamas atiduoda True\n",
    "    >>> lyg(5)\n",
    "    True\n",
    "    >>> lyg(-4)\n",
    "    False\n",
    "    '''\n",
    "    if x >= 0:\n",
    "        return True\n",
    "    else:\n",
    "        return False\n",
    "    \n",
    "doctest.run_docstring_examples(lyg, verbose=True, globs=globals())"
   ]
  },
  {
   "cell_type": "code",
   "execution_count": null,
   "metadata": {},
   "outputs": [
    {
     "name": "stdout",
     "output_type": "stream",
     "text": [
      "Finding tests in NoName\n",
      "Trying:\n",
      "    neig(5)\n",
      "Expecting:\n",
      "    False\n",
      "ok\n",
      "Trying:\n",
      "    neig(-4)\n",
      "Expecting:\n",
      "    True\n",
      "ok\n"
     ]
    }
   ],
   "source": [
    "# Užduotis 3: Funkcija, kuri tikrina, ar skaičius yra neigiamas\n",
    "def neig(x):\n",
    "    ''' jei skaičius yra neigiamas atiduoda True\n",
    "    >>> neig(5)\n",
    "    False\n",
    "    >>> neig(-4)\n",
    "    True\n",
    "    '''\n",
    "    if x < 0:\n",
    "        return True\n",
    "    else:\n",
    "        return False\n",
    "    \n",
    "doctest.run_docstring_examples(neig, verbose=True, globs=globals())"
   ]
  },
  {
   "cell_type": "code",
   "execution_count": 45,
   "metadata": {},
   "outputs": [
    {
     "name": "stdout",
     "output_type": "stream",
     "text": [
      "Finding tests in NoName\n",
      "Trying:\n",
      "    tusc('')\n",
      "Expecting:\n",
      "    True\n",
      "ok\n",
      "Trying:\n",
      "    tusc('h')\n",
      "Expecting:\n",
      "    False\n",
      "ok\n"
     ]
    }
   ],
   "source": [
    "# Užduotis 4: Funkcija, kuri tikrina, ar tekstas yra tuščias\n",
    "def tusc(x):\n",
    "    ''' jei tekstas yra tuščias atiduoda True\n",
    "    >>> tusc('')\n",
    "    True\n",
    "    >>> tusc('h')\n",
    "    False\n",
    "    '''\n",
    "    if x == '':\n",
    "        return True\n",
    "    else:\n",
    "        return False\n",
    "    \n",
    "doctest.run_docstring_examples(tusc, verbose=True, globs=globals())"
   ]
  },
  {
   "cell_type": "code",
   "execution_count": 47,
   "metadata": {},
   "outputs": [
    {
     "name": "stdout",
     "output_type": "stream",
     "text": [
      "Finding tests in NoName\n",
      "Trying:\n",
      "    raid('rusis')\n",
      "Expecting:\n",
      "    True\n",
      "ok\n",
      "Trying:\n",
      "    raid('aktas')\n",
      "Expecting:\n",
      "    False\n",
      "ok\n"
     ]
    }
   ],
   "source": [
    "# Užduotis 5: Funkcija, kuri tikrina, ar tekstas prasideda tam tikra raide\n",
    "def raid(x):\n",
    "    ''' jei tekstas tekstas prasideda raide \"r\" atiduoda True\n",
    "    >>> raid('rusis')\n",
    "    True\n",
    "    >>> raid('aktas')\n",
    "    False\n",
    "    '''\n",
    "    if x[0] == 'r':\n",
    "        return True\n",
    "    else:\n",
    "        return False\n",
    "    \n",
    "doctest.run_docstring_examples(raid, verbose=True, globs=globals())"
   ]
  },
  {
   "cell_type": "code",
   "execution_count": 56,
   "metadata": {},
   "outputs": [
    {
     "name": "stdout",
     "output_type": "stream",
     "text": [
      "Finding tests in NoName\n",
      "Trying:\n",
      "    vid([1,2,3])\n",
      "Expecting:\n",
      "    2.0\n",
      "ok\n",
      "Trying:\n",
      "    vid([3,4,5])\n",
      "Expecting:\n",
      "    4.0\n",
      "ok\n",
      "Trying:\n",
      "    vid([3,3,'a'])\n",
      "Expecting:\n",
      "    Traceback (most recent call last):\n",
      "    TypeError: unsupported operand type(s) for +: 'int' and 'str'\n",
      "ok\n"
     ]
    }
   ],
   "source": [
    "# Užduotis 6: Funkcija, kuri suranda pateikto skaičių sąrašo vidurkį (len, sum naudoti viduje)\n",
    "def vid(x):\n",
    "    ''' jei tekstas tekstas prasideda raide \"r\" atiduoda True\n",
    "    >>> vid([1,2,3])\n",
    "    2.0\n",
    "    >>> vid([3,4,5])\n",
    "    4.0\n",
    "    >>> vid([3,3,'a'])\n",
    "    Traceback (most recent call last):\n",
    "    TypeError: unsupported operand type(s) for +: 'int' and 'str'\n",
    "    '''\n",
    "    return sum(x)/len(x)\n",
    "    \n",
    "doctest.run_docstring_examples(vid, verbose=True, globs=globals())"
   ]
  },
  {
   "cell_type": "code",
   "execution_count": 55,
   "metadata": {},
   "outputs": [
    {
     "name": "stdout",
     "output_type": "stream",
     "text": [
      "Finding tests in NoName\n",
      "Trying:\n",
      "    maks([1,2,3])\n",
      "Expecting:\n",
      "    3\n",
      "ok\n",
      "Trying:\n",
      "    maks([3,4,5])\n",
      "Expecting:\n",
      "    5\n",
      "ok\n",
      "Trying:\n",
      "    maks([3,3,'a'])\n",
      "Expecting:\n",
      "    Traceback (most recent call last):\n",
      "    TypeError: '>' not supported between instances of 'str' and 'int'\n",
      "ok\n"
     ]
    }
   ],
   "source": [
    "# Funkcija grąžina didžiausią sąrašo elementą.\n",
    "def maks(x):\n",
    "    ''' jei tekstas tekstas prasideda raide \"r\" atiduoda True\n",
    "    >>> maks([1,2,3])\n",
    "    3\n",
    "    >>> maks([3,4,5])\n",
    "    5\n",
    "    >>> maks([3,3,'a'])\n",
    "    Traceback (most recent call last):\n",
    "    TypeError: '>' not supported between instances of 'str' and 'int'\n",
    "    '''\n",
    "    return max(x)\n",
    "    \n",
    "doctest.run_docstring_examples(maks, verbose=True, globs=globals())"
   ]
  },
  {
   "cell_type": "code",
   "execution_count": 65,
   "metadata": {},
   "outputs": [
    {
     "name": "stdout",
     "output_type": "stream",
     "text": [
      "Finding tests in NoName\n",
      "Trying:\n",
      "    apv('abc')\n",
      "Expecting:\n",
      "    'cba'\n",
      "ok\n",
      "Trying:\n",
      "    apv('345')\n",
      "Expecting:\n",
      "    '543\n",
      "**********************************************************************\n",
      "File \"__main__\", line 6, in NoName\n",
      "Failed example:\n",
      "    apv('345')\n",
      "Expected:\n",
      "    '543\n",
      "Got:\n",
      "    '543'\n",
      "Trying:\n",
      "    apv(453)\n",
      "Expecting:\n",
      "    Traceback (most recent call last):\n",
      "    TypeError: 'int' object is not subscriptable\n",
      "ok\n"
     ]
    }
   ],
   "source": [
    "# Funkcija apverčia duotą eilutę.\n",
    "def apv(x):\n",
    "    ''' jei tekstas tekstas prasideda raide \"r\" atiduoda True\n",
    "    >>> apv('abc')\n",
    "    'cba'\n",
    "    >>> apv('345')\n",
    "    '543\n",
    "    >>> apv(453)\n",
    "    Traceback (most recent call last):\n",
    "    TypeError: 'int' object is not subscriptable\n",
    "    '''\n",
    "    return x[::-1]\n",
    "    \n",
    "doctest.run_docstring_examples(apv, verbose=True, globs=globals())"
   ]
  },
  {
   "cell_type": "code",
   "execution_count": 88,
   "metadata": {},
   "outputs": [
    {
     "name": "stdout",
     "output_type": "stream",
     "text": [
      "Finding tests in NoName\n",
      "Trying:\n",
      "    fak(5)\n",
      "Expecting:\n",
      "    120\n",
      "ok\n",
      "Trying:\n",
      "    fak(4)\n",
      "Expecting:\n",
      "    24\n",
      "ok\n",
      "Trying:\n",
      "    fak('s')\n",
      "Expecting:\n",
      "    Traceback (most recent call last):\n",
      "    TypeError: 'str' object cannot be interpreted as an integer\n",
      "ok\n"
     ]
    }
   ],
   "source": [
    "# Funkcija apskaičiuoja faktorialą.\n",
    "def fak(x):\n",
    "    ''' jei tekstas tekstas prasideda raide \"r\" atiduoda True\n",
    "    >>> fak(5)\n",
    "    120\n",
    "    >>> fak(4)\n",
    "    24\n",
    "    >>> fak('s')\n",
    "    Traceback (most recent call last):\n",
    "    TypeError: 'str' object cannot be interpreted as an integer\n",
    "    '''\n",
    "    c = 1\n",
    "    for i in range(x):\n",
    "        c = c * (i+1)\n",
    "    return c\n",
    "        \n",
    "    \n",
    "doctest.run_docstring_examples(fak, verbose=True, globs=globals())"
   ]
  },
  {
   "cell_type": "code",
   "execution_count": 115,
   "metadata": {},
   "outputs": [
    {
     "name": "stdout",
     "output_type": "stream",
     "text": [
      "Finding tests in NoName\n",
      "Trying:\n",
      "    fib(11)\n",
      "Expecting:\n",
      "    [0, 1, 1, 2, 3, 5, 8, 13, 21, 34, 55, 89]\n",
      "ok\n",
      "Trying:\n",
      "    fib(4)\n",
      "Expecting:\n",
      "    [0, 1, 1, 2, 3]\n",
      "ok\n",
      "Trying:\n",
      "    fib('s')\n",
      "Expecting:\n",
      "    Traceback (most recent call last):\n",
      "    TypeError: can only concatenate str (not \"int\") to str\n",
      "ok\n",
      "Trying:\n",
      "    fib([1,2])\n",
      "Expecting:\n",
      "    Traceback (most recent call last):\n",
      "    TypeError: can only concatenate list (not \"int\") to list\n",
      "ok\n",
      "Trying:\n",
      "    fib(None)\n",
      "Expecting:\n",
      "    Traceback (most recent call last):\n",
      "    TypeError: unsupported operand type(s) for +: 'NoneType' and 'int'\n",
      "ok\n"
     ]
    }
   ],
   "source": [
    "# Funkcija grąžina Fibonacci seką iki n-tosios reikšmės.\n",
    "def fib(n):\n",
    "    ''' jei tekstas tekstas prasideda raide \"r\" atiduoda True\n",
    "    >>> fib(11)\n",
    "    [0, 1, 1, 2, 3, 5, 8, 13, 21, 34, 55, 89]\n",
    "    >>> fib(4)\n",
    "    [0, 1, 1, 2, 3]\n",
    "    >>> fib('s')\n",
    "    Traceback (most recent call last):\n",
    "    TypeError: can only concatenate str (not \"int\") to str\n",
    "    >>> fib([1,2])\n",
    "    Traceback (most recent call last):\n",
    "    TypeError: can only concatenate list (not \"int\") to list\n",
    "    >>> fib(None)\n",
    "    Traceback (most recent call last):\n",
    "    TypeError: unsupported operand type(s) for +: 'NoneType' and 'int'\n",
    "    '''\n",
    "    s = [0, 1]\n",
    "    for i in range(2, n + 1):\n",
    "        n = s[i - 1] + s[i - 2]\n",
    "        s.append(n)\n",
    "    return s\n",
    "              \n",
    "    \n",
    "doctest.run_docstring_examples(fib, verbose=True, globs=globals())"
   ]
  }
 ],
 "metadata": {
  "kernelspec": {
   "display_name": "Python 3",
   "language": "python",
   "name": "python3"
  },
  "language_info": {
   "codemirror_mode": {
    "name": "ipython",
    "version": 3
   },
   "file_extension": ".py",
   "mimetype": "text/x-python",
   "name": "python",
   "nbconvert_exporter": "python",
   "pygments_lexer": "ipython3",
   "version": "3.12.4"
  }
 },
 "nbformat": 4,
 "nbformat_minor": 2
}
