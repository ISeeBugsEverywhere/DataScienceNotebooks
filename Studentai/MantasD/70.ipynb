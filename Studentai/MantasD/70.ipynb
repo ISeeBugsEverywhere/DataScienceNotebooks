{
 "cells": [
  {
   "cell_type": "code",
   "execution_count": 19,
   "metadata": {},
   "outputs": [],
   "source": [
    "# Mašininis mokymasis"
   ]
  },
  {
   "cell_type": "code",
   "execution_count": 43,
   "metadata": {},
   "outputs": [],
   "source": [
    "import numpy as np\n",
    "import pandas as pd\n",
    "import matplotlib.pyplot as plt\n",
    "import warnings\n",
    "warnings.filterwarnings('ignore')\n",
    "import seaborn as sns\n",
    "# import sqlite3\n",
    "# import mysql.connector as cnt\n",
    "# import plotly.express as px\n",
    "import pandas as pd\n",
    "from sklearn.linear_model import LinearRegression\n",
    "\n",
    "from sklearn.model_selection import train_test_split, cross_val_score\n",
    "from Skriptai.manofunkcijos import *\n",
    "from sklearn.preprocessing import LabelEncoder\n",
    "\n",
    "from sklearn.datasets import load_breast_cancer\n",
    "from sklearn.linear_model import LogisticRegression\n",
    "from sklearn.metrics import accuracy_score\n",
    "\n",
    "from sklearn.metrics import confusion_matrix"
   ]
  },
  {
   "cell_type": "code",
   "execution_count": null,
   "metadata": {},
   "outputs": [],
   "source": [
    "# Esimo įvykių statistikos duomenys : https://data.gov.lt/datasets/509/ ; \n",
    "# Pritaikyti ML jog nustatytumėte, ar tai buvo susidūrimas su gyvūnu? \n",
    "# Ar galite nustatyti kaltininko lytį, pagal pateiktas eismo įvykio aplinkybes? \n",
    "# Hipotezė - vyrai daro daugiau vienos rūšies klaidų, moterys - kitos."
   ]
  },
  {
   "cell_type": "code",
   "execution_count": 14,
   "metadata": {},
   "outputs": [],
   "source": [
    "# iv2013 = pd.read_json('C:/Users/manta/OneDrive/Dokumentai/Python projektai/Eismo_ivykiai/ei_2013_12_31.json')\n",
    "# iv2014 = pd.read_json('C:/Users/manta/OneDrive/Dokumentai/Python projektai/Eismo_ivykiai/ei_2014_12_31.json')\n",
    "# iv2015 = pd.read_json('C:/Users/manta/OneDrive/Dokumentai/Python projektai/Eismo_ivykiai/ei_2015_12_31.json')\n",
    "# iv2016 = pd.read_json('C:/Users/manta/OneDrive/Dokumentai/Python projektai/Eismo_ivykiai/ei_2016_12_31.json')\n",
    "# iv2017 = pd.read_json('C:/Users/manta/OneDrive/Dokumentai/Python projektai/Eismo_ivykiai/ei_2017_12_31.json')\n",
    "# iv2018 = pd.read_json('C:/Users/manta/OneDrive/Dokumentai/Python projektai/Eismo_ivykiai/ei_2018_12_31.json')\n",
    "# iv2019 = pd.read_json('C:/Users/manta/OneDrive/Dokumentai/Python projektai/Eismo_ivykiai/ei_2019_12_31.json')\n",
    "# iv2020 = pd.read_json('C:/Users/manta/OneDrive/Dokumentai/Python projektai/Eismo_ivykiai/ei_2020_12_31.json')\n",
    "# iv2021 = pd.read_json('C:/Users/manta/OneDrive/Dokumentai/Python projektai/Eismo_ivykiai/ei_2021_12_31.json')\n",
    "# iv2022 = pd.read_json('C:/Users/manta/OneDrive/Dokumentai/Python projektai/Eismo_ivykiai/ei_2022_12_31.json')\n",
    "# iv2023 = pd.read_json('C:/Users/manta/OneDrive/Dokumentai/Python projektai/Eismo_ivykiai/ei_2023_12_31.json')\n",
    "s_of_dfs = [iv2013,iv2014,iv2015,iv2016,iv2017,iv2018,iv2019,iv2020,iv2021,iv2022,iv2023]\n",
    "ivykiai = pd.concat(s_of_dfs)"
   ]
  },
  {
   "cell_type": "code",
   "execution_count": 15,
   "metadata": {},
   "outputs": [],
   "source": [
    "ivykiai['dataLaikas'] = pd.to_datetime(ivykiai['registravimoData'])\n",
    "ivykiai['Metai'] = ivykiai['dataLaikas'].dt.year"
   ]
  },
  {
   "cell_type": "code",
   "execution_count": 16,
   "metadata": {},
   "outputs": [
    {
     "data": {
      "text/html": [
       "<div>\n",
       "<style scoped>\n",
       "    .dataframe tbody tr th:only-of-type {\n",
       "        vertical-align: middle;\n",
       "    }\n",
       "\n",
       "    .dataframe tbody tr th {\n",
       "        vertical-align: top;\n",
       "    }\n",
       "\n",
       "    .dataframe thead th {\n",
       "        text-align: right;\n",
       "    }\n",
       "</style>\n",
       "<table border=\"1\" class=\"dataframe\">\n",
       "  <thead>\n",
       "    <tr style=\"text-align: right;\">\n",
       "      <th></th>\n",
       "      <th>registrokodas</th>\n",
       "      <th>dataLaikas</th>\n",
       "      <th>registravimoData</th>\n",
       "      <th>paskutinioRedagavimoLaikas</th>\n",
       "      <th>iskaitinis</th>\n",
       "      <th>rusis</th>\n",
       "      <th>schema1</th>\n",
       "      <th>schema2</th>\n",
       "      <th>dalyviuSkaicius</th>\n",
       "      <th>zuvusiuSkaicius</th>\n",
       "      <th>...</th>\n",
       "      <th>privalomasLeistinasGreitis</th>\n",
       "      <th>leistinasGreitis</th>\n",
       "      <th>neblaivusKaltininkai</th>\n",
       "      <th>apsvaigeKaltininkai</th>\n",
       "      <th>atsisakeTikrintisKaltininkai</th>\n",
       "      <th>ilguma</th>\n",
       "      <th>platuma</th>\n",
       "      <th>eismoDalyviai</th>\n",
       "      <th>eismoTranspPreimone</th>\n",
       "      <th>Metai</th>\n",
       "    </tr>\n",
       "  </thead>\n",
       "  <tbody>\n",
       "    <tr>\n",
       "      <th>0</th>\n",
       "      <td>07-13-7271255</td>\n",
       "      <td>2013-01-01 00:02:00</td>\n",
       "      <td>2013-01-01 00:02</td>\n",
       "      <td>2013-03-14 10:04</td>\n",
       "      <td>0</td>\n",
       "      <td>Kiti eismo įvykiai</td>\n",
       "      <td>Kiti eismo įvykiai</td>\n",
       "      <td>Susidūrimas su stovinčia TP</td>\n",
       "      <td>2.0</td>\n",
       "      <td>0</td>\n",
       "      <td>...</td>\n",
       "      <td>1</td>\n",
       "      <td>20.0</td>\n",
       "      <td>None</td>\n",
       "      <td>None</td>\n",
       "      <td>None</td>\n",
       "      <td>NaN</td>\n",
       "      <td>NaN</td>\n",
       "      <td>[{'dalyvisId': 22897970, 'kategorija': 'Automo...</td>\n",
       "      <td>[{'tpId': 19801434, 'regValstybe': 'Lietuva', ...</td>\n",
       "      <td>2013</td>\n",
       "    </tr>\n",
       "    <tr>\n",
       "      <th>1</th>\n",
       "      <td>07-13-7271259</td>\n",
       "      <td>2013-01-01 01:26:00</td>\n",
       "      <td>2013-01-01 01:26</td>\n",
       "      <td>2013-03-14 10:01</td>\n",
       "      <td>0</td>\n",
       "      <td>Susidūrimas</td>\n",
       "      <td>Kiti susidūrimai</td>\n",
       "      <td>Kiti susidūrimai</td>\n",
       "      <td>2.0</td>\n",
       "      <td>0</td>\n",
       "      <td>...</td>\n",
       "      <td>1</td>\n",
       "      <td>20.0</td>\n",
       "      <td>None</td>\n",
       "      <td>None</td>\n",
       "      <td>None</td>\n",
       "      <td>NaN</td>\n",
       "      <td>NaN</td>\n",
       "      <td>[{'dalyvisId': 22897891, 'kategorija': 'Automo...</td>\n",
       "      <td>[{'tpId': 19801407, 'regValstybe': None, 'kate...</td>\n",
       "      <td>2013</td>\n",
       "    </tr>\n",
       "    <tr>\n",
       "      <th>2</th>\n",
       "      <td>07-13-7271001</td>\n",
       "      <td>2013-01-01 02:26:00</td>\n",
       "      <td>2013-01-01 02:26</td>\n",
       "      <td>2013-01-01 02:11</td>\n",
       "      <td>0</td>\n",
       "      <td>Užvažiavimas ant gyvūno</td>\n",
       "      <td>Kiti susidūrimai</td>\n",
       "      <td>Kiti susidūrimai</td>\n",
       "      <td>1.0</td>\n",
       "      <td>0</td>\n",
       "      <td>...</td>\n",
       "      <td>1</td>\n",
       "      <td>100.0</td>\n",
       "      <td>None</td>\n",
       "      <td>None</td>\n",
       "      <td>None</td>\n",
       "      <td>NaN</td>\n",
       "      <td>NaN</td>\n",
       "      <td>[{'dalyvisId': 21794565, 'kategorija': 'Automo...</td>\n",
       "      <td>[{'tpId': 19226309, 'regValstybe': 'Lietuva', ...</td>\n",
       "      <td>2013</td>\n",
       "    </tr>\n",
       "    <tr>\n",
       "      <th>3</th>\n",
       "      <td>07-13-7271276</td>\n",
       "      <td>2013-01-01 03:27:00</td>\n",
       "      <td>2013-01-01 03:27</td>\n",
       "      <td>2013-03-14 10:01</td>\n",
       "      <td>0</td>\n",
       "      <td>Užvažiavimas ant gyvūno</td>\n",
       "      <td>Kiti susidūrimai</td>\n",
       "      <td>Kiti susidūrimai</td>\n",
       "      <td>2.0</td>\n",
       "      <td>0</td>\n",
       "      <td>...</td>\n",
       "      <td>1</td>\n",
       "      <td>50.0</td>\n",
       "      <td>None</td>\n",
       "      <td>None</td>\n",
       "      <td>None</td>\n",
       "      <td>NaN</td>\n",
       "      <td>NaN</td>\n",
       "      <td>[{'dalyvisId': 22897876, 'kategorija': 'Automo...</td>\n",
       "      <td>[{'tpId': 19801349, 'regValstybe': 'Lietuva', ...</td>\n",
       "      <td>2013</td>\n",
       "    </tr>\n",
       "    <tr>\n",
       "      <th>4</th>\n",
       "      <td>07-13-7271354</td>\n",
       "      <td>2013-01-01 03:49:00</td>\n",
       "      <td>2013-01-01 03:49</td>\n",
       "      <td>2013-07-30 15:23</td>\n",
       "      <td>0</td>\n",
       "      <td>Susidūrimas su stovinčia transporto priemone</td>\n",
       "      <td>Kiti eismo įvykiai</td>\n",
       "      <td>Kiti eismo įvykiai</td>\n",
       "      <td>2.0</td>\n",
       "      <td>0</td>\n",
       "      <td>...</td>\n",
       "      <td>1</td>\n",
       "      <td>20.0</td>\n",
       "      <td>None</td>\n",
       "      <td>None</td>\n",
       "      <td>None</td>\n",
       "      <td>NaN</td>\n",
       "      <td>NaN</td>\n",
       "      <td>[{'dalyvisId': 24796989, 'kategorija': 'Automo...</td>\n",
       "      <td>[{'tpId': 21000436, 'regValstybe': 'Lietuva', ...</td>\n",
       "      <td>2013</td>\n",
       "    </tr>\n",
       "    <tr>\n",
       "      <th>...</th>\n",
       "      <td>...</td>\n",
       "      <td>...</td>\n",
       "      <td>...</td>\n",
       "      <td>...</td>\n",
       "      <td>...</td>\n",
       "      <td>...</td>\n",
       "      <td>...</td>\n",
       "      <td>...</td>\n",
       "      <td>...</td>\n",
       "      <td>...</td>\n",
       "      <td>...</td>\n",
       "      <td>...</td>\n",
       "      <td>...</td>\n",
       "      <td>...</td>\n",
       "      <td>...</td>\n",
       "      <td>...</td>\n",
       "      <td>...</td>\n",
       "      <td>...</td>\n",
       "      <td>...</td>\n",
       "      <td>...</td>\n",
       "      <td>...</td>\n",
       "    </tr>\n",
       "    <tr>\n",
       "      <th>24235</th>\n",
       "      <td>07-23-9613407</td>\n",
       "      <td>2023-12-31 20:37:00</td>\n",
       "      <td>2023-12-31 20:37</td>\n",
       "      <td>2023-12-31 21:01</td>\n",
       "      <td>0</td>\n",
       "      <td>Užvažiavimas ant gyvūno</td>\n",
       "      <td>Kiti eismo įvykiai</td>\n",
       "      <td>Užvažiavimas ant gyvūno</td>\n",
       "      <td>1.0</td>\n",
       "      <td>0</td>\n",
       "      <td>...</td>\n",
       "      <td>1</td>\n",
       "      <td>50.0</td>\n",
       "      <td>Ne</td>\n",
       "      <td>Ne</td>\n",
       "      <td>Ne</td>\n",
       "      <td>6106928.0</td>\n",
       "      <td>516738.0</td>\n",
       "      <td>[{'dalyvisId': 49086534, 'kategorija': 'Automo...</td>\n",
       "      <td>[{'tpId': 33932683, 'regValstybe': 'Lietuva', ...</td>\n",
       "      <td>2023</td>\n",
       "    </tr>\n",
       "    <tr>\n",
       "      <th>24236</th>\n",
       "      <td>07-23-9613408</td>\n",
       "      <td>2023-12-31 21:32:00</td>\n",
       "      <td>2023-12-31 21:32</td>\n",
       "      <td>2023-12-31 21:45</td>\n",
       "      <td>0</td>\n",
       "      <td>Užvažiavimas ant gyvūno</td>\n",
       "      <td>Kiti eismo įvykiai</td>\n",
       "      <td>Užvažiavimas ant gyvūno</td>\n",
       "      <td>1.0</td>\n",
       "      <td>0</td>\n",
       "      <td>...</td>\n",
       "      <td>1</td>\n",
       "      <td>110.0</td>\n",
       "      <td>Ne</td>\n",
       "      <td>Ne</td>\n",
       "      <td>Ne</td>\n",
       "      <td>6076033.0</td>\n",
       "      <td>573738.0</td>\n",
       "      <td>[{'dalyvisId': 49086564, 'kategorija': 'Automo...</td>\n",
       "      <td>[{'tpId': 33932701, 'regValstybe': 'Lietuva', ...</td>\n",
       "      <td>2023</td>\n",
       "    </tr>\n",
       "    <tr>\n",
       "      <th>24237</th>\n",
       "      <td>07-23-9613409</td>\n",
       "      <td>2023-12-31 21:47:00</td>\n",
       "      <td>2023-12-31 21:47</td>\n",
       "      <td>2024-01-08 10:32</td>\n",
       "      <td>0</td>\n",
       "      <td>Susidūrimas su stovinčia transporto priemone</td>\n",
       "      <td>Kiti eismo įvykiai</td>\n",
       "      <td>Kiti eismo įvykiai</td>\n",
       "      <td>2.0</td>\n",
       "      <td>0</td>\n",
       "      <td>...</td>\n",
       "      <td>1</td>\n",
       "      <td>50.0</td>\n",
       "      <td>Ne</td>\n",
       "      <td>Ne</td>\n",
       "      <td>Ne</td>\n",
       "      <td>6069714.0</td>\n",
       "      <td>581924.0</td>\n",
       "      <td>[{'dalyvisId': 49094163, 'kategorija': 'Automo...</td>\n",
       "      <td>[{'tpId': 33936715, 'regValstybe': 'Lietuva', ...</td>\n",
       "      <td>2023</td>\n",
       "    </tr>\n",
       "    <tr>\n",
       "      <th>24238</th>\n",
       "      <td>07-23-9613410</td>\n",
       "      <td>2023-12-31 22:40:00</td>\n",
       "      <td>2023-12-31 22:40</td>\n",
       "      <td>2024-03-06 11:01</td>\n",
       "      <td>0</td>\n",
       "      <td>Susidūrimas</td>\n",
       "      <td>Susidūrimai judant ta pačia kryptimi</td>\n",
       "      <td>Šoninis susidūrimas</td>\n",
       "      <td>2.0</td>\n",
       "      <td>0</td>\n",
       "      <td>...</td>\n",
       "      <td>1</td>\n",
       "      <td>50.0</td>\n",
       "      <td>Ne</td>\n",
       "      <td>Ne</td>\n",
       "      <td>Ne</td>\n",
       "      <td>6061478.0</td>\n",
       "      <td>581565.0</td>\n",
       "      <td>[{'dalyvisId': 49159858, 'kategorija': 'Automo...</td>\n",
       "      <td>[{'tpId': 33971728, 'regValstybe': 'Lietuva', ...</td>\n",
       "      <td>2023</td>\n",
       "    </tr>\n",
       "    <tr>\n",
       "      <th>24239</th>\n",
       "      <td>07-23-9613411</td>\n",
       "      <td>2023-12-31 23:34:00</td>\n",
       "      <td>2023-12-31 23:34</td>\n",
       "      <td>2024-01-02 16:03</td>\n",
       "      <td>0</td>\n",
       "      <td>Susidūrimas</td>\n",
       "      <td>Susidūrimai judant ta pačia kryptimi</td>\n",
       "      <td>Šoninis susidūrimas</td>\n",
       "      <td>6.0</td>\n",
       "      <td>0</td>\n",
       "      <td>...</td>\n",
       "      <td>1</td>\n",
       "      <td>50.0</td>\n",
       "      <td>Ne</td>\n",
       "      <td>Ne</td>\n",
       "      <td>Ne</td>\n",
       "      <td>6186722.0</td>\n",
       "      <td>471778.0</td>\n",
       "      <td>[{'dalyvisId': 49087861, 'kategorija': 'Keleiv...</td>\n",
       "      <td>[{'tpId': 33933356, 'regValstybe': 'Lietuva', ...</td>\n",
       "      <td>2023</td>\n",
       "    </tr>\n",
       "  </tbody>\n",
       "</table>\n",
       "<p>253689 rows × 53 columns</p>\n",
       "</div>"
      ],
      "text/plain": [
       "       registrokodas          dataLaikas  registravimoData  \\\n",
       "0      07-13-7271255 2013-01-01 00:02:00  2013-01-01 00:02   \n",
       "1      07-13-7271259 2013-01-01 01:26:00  2013-01-01 01:26   \n",
       "2      07-13-7271001 2013-01-01 02:26:00  2013-01-01 02:26   \n",
       "3      07-13-7271276 2013-01-01 03:27:00  2013-01-01 03:27   \n",
       "4      07-13-7271354 2013-01-01 03:49:00  2013-01-01 03:49   \n",
       "...              ...                 ...               ...   \n",
       "24235  07-23-9613407 2023-12-31 20:37:00  2023-12-31 20:37   \n",
       "24236  07-23-9613408 2023-12-31 21:32:00  2023-12-31 21:32   \n",
       "24237  07-23-9613409 2023-12-31 21:47:00  2023-12-31 21:47   \n",
       "24238  07-23-9613410 2023-12-31 22:40:00  2023-12-31 22:40   \n",
       "24239  07-23-9613411 2023-12-31 23:34:00  2023-12-31 23:34   \n",
       "\n",
       "      paskutinioRedagavimoLaikas  iskaitinis  \\\n",
       "0               2013-03-14 10:04           0   \n",
       "1               2013-03-14 10:01           0   \n",
       "2               2013-01-01 02:11           0   \n",
       "3               2013-03-14 10:01           0   \n",
       "4               2013-07-30 15:23           0   \n",
       "...                          ...         ...   \n",
       "24235           2023-12-31 21:01           0   \n",
       "24236           2023-12-31 21:45           0   \n",
       "24237           2024-01-08 10:32           0   \n",
       "24238           2024-03-06 11:01           0   \n",
       "24239           2024-01-02 16:03           0   \n",
       "\n",
       "                                              rusis  \\\n",
       "0                                Kiti eismo įvykiai   \n",
       "1                                       Susidūrimas   \n",
       "2                           Užvažiavimas ant gyvūno   \n",
       "3                           Užvažiavimas ant gyvūno   \n",
       "4      Susidūrimas su stovinčia transporto priemone   \n",
       "...                                             ...   \n",
       "24235                       Užvažiavimas ant gyvūno   \n",
       "24236                       Užvažiavimas ant gyvūno   \n",
       "24237  Susidūrimas su stovinčia transporto priemone   \n",
       "24238                                   Susidūrimas   \n",
       "24239                                   Susidūrimas   \n",
       "\n",
       "                                    schema1                      schema2  \\\n",
       "0                        Kiti eismo įvykiai  Susidūrimas su stovinčia TP   \n",
       "1                          Kiti susidūrimai             Kiti susidūrimai   \n",
       "2                          Kiti susidūrimai             Kiti susidūrimai   \n",
       "3                          Kiti susidūrimai             Kiti susidūrimai   \n",
       "4                        Kiti eismo įvykiai           Kiti eismo įvykiai   \n",
       "...                                     ...                          ...   \n",
       "24235                    Kiti eismo įvykiai      Užvažiavimas ant gyvūno   \n",
       "24236                    Kiti eismo įvykiai      Užvažiavimas ant gyvūno   \n",
       "24237                    Kiti eismo įvykiai           Kiti eismo įvykiai   \n",
       "24238  Susidūrimai judant ta pačia kryptimi          Šoninis susidūrimas   \n",
       "24239  Susidūrimai judant ta pačia kryptimi          Šoninis susidūrimas   \n",
       "\n",
       "       dalyviuSkaicius  zuvusiuSkaicius  ...  privalomasLeistinasGreitis  \\\n",
       "0                  2.0                0  ...                           1   \n",
       "1                  2.0                0  ...                           1   \n",
       "2                  1.0                0  ...                           1   \n",
       "3                  2.0                0  ...                           1   \n",
       "4                  2.0                0  ...                           1   \n",
       "...                ...              ...  ...                         ...   \n",
       "24235              1.0                0  ...                           1   \n",
       "24236              1.0                0  ...                           1   \n",
       "24237              2.0                0  ...                           1   \n",
       "24238              2.0                0  ...                           1   \n",
       "24239              6.0                0  ...                           1   \n",
       "\n",
       "       leistinasGreitis  neblaivusKaltininkai  apsvaigeKaltininkai  \\\n",
       "0                  20.0                  None                 None   \n",
       "1                  20.0                  None                 None   \n",
       "2                 100.0                  None                 None   \n",
       "3                  50.0                  None                 None   \n",
       "4                  20.0                  None                 None   \n",
       "...                 ...                   ...                  ...   \n",
       "24235              50.0                    Ne                   Ne   \n",
       "24236             110.0                    Ne                   Ne   \n",
       "24237              50.0                    Ne                   Ne   \n",
       "24238              50.0                    Ne                   Ne   \n",
       "24239              50.0                    Ne                   Ne   \n",
       "\n",
       "       atsisakeTikrintisKaltininkai     ilguma   platuma  \\\n",
       "0                              None        NaN       NaN   \n",
       "1                              None        NaN       NaN   \n",
       "2                              None        NaN       NaN   \n",
       "3                              None        NaN       NaN   \n",
       "4                              None        NaN       NaN   \n",
       "...                             ...        ...       ...   \n",
       "24235                            Ne  6106928.0  516738.0   \n",
       "24236                            Ne  6076033.0  573738.0   \n",
       "24237                            Ne  6069714.0  581924.0   \n",
       "24238                            Ne  6061478.0  581565.0   \n",
       "24239                            Ne  6186722.0  471778.0   \n",
       "\n",
       "                                           eismoDalyviai  \\\n",
       "0      [{'dalyvisId': 22897970, 'kategorija': 'Automo...   \n",
       "1      [{'dalyvisId': 22897891, 'kategorija': 'Automo...   \n",
       "2      [{'dalyvisId': 21794565, 'kategorija': 'Automo...   \n",
       "3      [{'dalyvisId': 22897876, 'kategorija': 'Automo...   \n",
       "4      [{'dalyvisId': 24796989, 'kategorija': 'Automo...   \n",
       "...                                                  ...   \n",
       "24235  [{'dalyvisId': 49086534, 'kategorija': 'Automo...   \n",
       "24236  [{'dalyvisId': 49086564, 'kategorija': 'Automo...   \n",
       "24237  [{'dalyvisId': 49094163, 'kategorija': 'Automo...   \n",
       "24238  [{'dalyvisId': 49159858, 'kategorija': 'Automo...   \n",
       "24239  [{'dalyvisId': 49087861, 'kategorija': 'Keleiv...   \n",
       "\n",
       "                                     eismoTranspPreimone Metai  \n",
       "0      [{'tpId': 19801434, 'regValstybe': 'Lietuva', ...  2013  \n",
       "1      [{'tpId': 19801407, 'regValstybe': None, 'kate...  2013  \n",
       "2      [{'tpId': 19226309, 'regValstybe': 'Lietuva', ...  2013  \n",
       "3      [{'tpId': 19801349, 'regValstybe': 'Lietuva', ...  2013  \n",
       "4      [{'tpId': 21000436, 'regValstybe': 'Lietuva', ...  2013  \n",
       "...                                                  ...   ...  \n",
       "24235  [{'tpId': 33932683, 'regValstybe': 'Lietuva', ...  2023  \n",
       "24236  [{'tpId': 33932701, 'regValstybe': 'Lietuva', ...  2023  \n",
       "24237  [{'tpId': 33936715, 'regValstybe': 'Lietuva', ...  2023  \n",
       "24238  [{'tpId': 33971728, 'regValstybe': 'Lietuva', ...  2023  \n",
       "24239  [{'tpId': 33933356, 'regValstybe': 'Lietuva', ...  2023  \n",
       "\n",
       "[253689 rows x 53 columns]"
      ]
     },
     "execution_count": 16,
     "metadata": {},
     "output_type": "execute_result"
    }
   ],
   "source": [
    "ivykiai"
   ]
  },
  {
   "cell_type": "code",
   "execution_count": 91,
   "metadata": {},
   "outputs": [
    {
     "name": "stdout",
     "output_type": "stream",
     "text": [
      "Ne\n"
     ]
    }
   ],
   "source": [
    "eil = ivykiai[:1]['eismoDalyviai'] \n",
    "print(eil[0][1]['kaltininkas'])\n",
    "def kalt_lytis(x):\n",
    "    if x != None:\n",
    "        # try:\n",
    "            dalyviai = x\n",
    "            for dalyvis in dalyviai:\n",
    "                if dalyvis['kaltininkas'] == 'Taip':\n",
    "                    lytis = dalyvis['lytis']\n",
    "                    if lytis != 'Nežinoma':\n",
    "                        return lytis\n",
    "        # except Exception as e:\n",
    "            # print(e)"
   ]
  },
  {
   "cell_type": "code",
   "execution_count": 63,
   "metadata": {},
   "outputs": [],
   "source": [
    "kalt_lytis(ivykiai['eismoDalyviai'].values[0])"
   ]
  },
  {
   "cell_type": "code",
   "execution_count": 92,
   "metadata": {},
   "outputs": [],
   "source": [
    "ivykiai['lytis'] = ivykiai['eismoDalyviai'].apply(kalt_lytis)"
   ]
  },
  {
   "cell_type": "code",
   "execution_count": 193,
   "metadata": {},
   "outputs": [],
   "source": [
    "check_df = ivykiai[['rusis', 'schema1', 'schema2', 'dalyviuSkaicius', 'zuvusiuSkaicius', 'suzeistuSkaicius', 'tpSkaicius', 'apgadintuTpSkaicius', 'dangosRusis', 'dangosBukle', 'parosMetas', 'meteoSalygos', 'kelioGatvesKreive', 'atitvarai', 'leistinasGreitis', 'neblaivusKaltininkai', 'apsvaigeKaltininkai', 'atsisakeTikrintisKaltininkai', 'eismoDalyviai']]\n",
    "check_df.dropna(inplace=True)"
   ]
  },
  {
   "cell_type": "code",
   "execution_count": 194,
   "metadata": {},
   "outputs": [],
   "source": [
    "def gyvun(x):\n",
    "    if x == 'Užvažiavimas ant gyvūno':\n",
    "        return True\n",
    "    else:\n",
    "        return False"
   ]
  },
  {
   "cell_type": "code",
   "execution_count": 195,
   "metadata": {},
   "outputs": [],
   "source": [
    "check_df['Gyvunas'] = check_df['schema2'].apply(gyvun)"
   ]
  },
  {
   "cell_type": "code",
   "execution_count": 196,
   "metadata": {},
   "outputs": [],
   "source": [
    "ndf = check_df\n",
    "l2 = LabelEncoder().fit_transform(ndf['dangosRusis'])\n",
    "l2_dict = dict(zip(ndf['dangosRusis'],l2))\n",
    "l3 = LabelEncoder().fit_transform(ndf['dangosBukle'])\n",
    "l3_dict = dict(zip(ndf['dangosBukle'],l3))\n",
    "l4 = LabelEncoder().fit_transform(ndf['parosMetas'])\n",
    "l4_dict = dict(zip(ndf['parosMetas'],l4))\n",
    "l5 = LabelEncoder().fit_transform(ndf['meteoSalygos'])\n",
    "l5_dict = dict(zip(ndf['meteoSalygos'],l5))\n",
    "l6 = LabelEncoder().fit_transform(ndf['kelioGatvesKreive'])\n",
    "l6_dict = dict(zip(ndf['kelioGatvesKreive'],l6))\n",
    "l7 = LabelEncoder().fit_transform(ndf['atitvarai'])\n",
    "l7_dict = dict(zip(ndf['atitvarai'],l7))\n",
    "l8 = LabelEncoder().fit_transform(ndf['neblaivusKaltininkai'])\n",
    "l8_dict = dict(zip(ndf['neblaivusKaltininkai'],l8))\n",
    "l9 = LabelEncoder().fit_transform(ndf['apsvaigeKaltininkai'])\n",
    "l9_dict = dict(zip(ndf['apsvaigeKaltininkai'],l9))\n",
    "l10 = LabelEncoder().fit_transform(ndf['atsisakeTikrintisKaltininkai'])\n",
    "l10_dict = dict(zip(ndf['atsisakeTikrintisKaltininkai'],l10))\n",
    "# l11 = LabelEncoder().fit_transform(ndf['lytis'])\n",
    "# l11_dict = dict(zip(ndf['lytis'],l11))\n",
    "l12 = LabelEncoder().fit_transform(ndf['rusis'])\n",
    "l12_dict = dict(zip(ndf['rusis'],l12))\n",
    "l13 = LabelEncoder().fit_transform(ndf['schema1'])\n",
    "l13_dict = dict(zip(ndf['schema1'],l13))\n",
    "l14 = LabelEncoder().fit_transform(ndf['schema2'])\n",
    "l14_dict = dict(zip(ndf['schema2'],l14))\n",
    "\n",
    "\n",
    "\n",
    "ndf['dangosRusis'] = l2\n",
    "ndf['dangosBukle'] = l3\n",
    "ndf['parosMetas'] = l4\n",
    "ndf['meteoSalygos'] = l5\n",
    "ndf['kelioGatvesKreive'] = l6\n",
    "ndf['atitvarai'] = l7\n",
    "ndf['neblaivusKaltininkai'] = l8\n",
    "ndf['apsvaigeKaltininkai'] = l9\n",
    "ndf['atsisakeTikrintisKaltininkai'] = l10\n",
    "# ndf['lytis'] = l11\n",
    "ndf['rusis'] = l12\n",
    "ndf['schema1'] = l13\n",
    "ndf['schema2'] = l14"
   ]
  },
  {
   "cell_type": "code",
   "execution_count": null,
   "metadata": {},
   "outputs": [],
   "source": [
    "ndf"
   ]
  },
  {
   "cell_type": "code",
   "execution_count": 197,
   "metadata": {},
   "outputs": [],
   "source": [
    "X = ndf.drop(columns=['rusis','schema1', 'schema2', 'eismoDalyviai', 'Gyvunas'])\n",
    "y = ndf['Gyvunas']"
   ]
  },
  {
   "cell_type": "code",
   "execution_count": 198,
   "metadata": {},
   "outputs": [
    {
     "name": "stdout",
     "output_type": "stream",
     "text": [
      "Logistic Regression model accuracy (in %): 86.59854914418472\n"
     ]
    }
   ],
   "source": [
    "X_train, X_test,\\\n",
    "y_train, y_test = train_test_split(X, y,\n",
    "test_size=0.20,\n",
    "random_state=23)\n",
    "\n",
    "# LogisticRegression\n",
    "clf = LogisticRegression(random_state=0)\n",
    "clf.fit(X_train, y_train)\n",
    "# Prediction\n",
    "y_pred = clf.predict(X_test)\n",
    "acc = accuracy_score(y_test, y_pred)\n",
    "print(\"Logistic Regression model accuracy (in %):\", acc*100)"
   ]
  },
  {
   "cell_type": "code",
   "execution_count": 142,
   "metadata": {},
   "outputs": [
    {
     "data": {
      "text/plain": [
       "<Axes: >"
      ]
     },
     "execution_count": 142,
     "metadata": {},
     "output_type": "execute_result"
    },
    {
     "data": {
      "image/png": "[encoded data removed]",
      "text/plain": [
       "<Figure size 640x480 with 2 Axes>"
      ]
     },
     "metadata": {},
     "output_type": "display_data"
    }
   ],
   "source": [
    "import seaborn as sns\n",
    "cm = confusion_matrix(y_test, y_pred, normalize='true')\n",
    "sns.heatmap(data=cm,annot=True, annot_kws={'fontsize':16})"
   ]
  },
  {
   "cell_type": "code",
   "execution_count": 143,
   "metadata": {},
   "outputs": [],
   "source": [
    "X = ndf.drop(columns=['eismoDalyviai', 'lytis', 'Gyvunas'])\n",
    "y = ndf['lytis']"
   ]
  },
  {
   "cell_type": "code",
   "execution_count": 144,
   "metadata": {},
   "outputs": [
    {
     "data": {
      "text/plain": [
       "{'Moteris', None, 'Vyras'}"
      ]
     },
     "execution_count": 144,
     "metadata": {},
     "output_type": "execute_result"
    }
   ],
   "source": [
    "set(ivykiai['lytis'])\n"
   ]
  },
  {
   "cell_type": "code",
   "execution_count": 145,
   "metadata": {},
   "outputs": [
    {
     "name": "stdout",
     "output_type": "stream",
     "text": [
      "Logistic Regression model accuracy (in %): 76.39932344727217\n"
     ]
    }
   ],
   "source": [
    "X_train, X_test,\\\n",
    "y_train, y_test = train_test_split(X, y,\n",
    "test_size=0.20,\n",
    "random_state=23)\n",
    "\n",
    "# LogisticRegression\n",
    "clf = LogisticRegression(random_state=0)\n",
    "clf.fit(X_train, y_train)\n",
    "# Prediction\n",
    "y_pred = clf.predict(X_test)\n",
    "acc = accuracy_score(y_test, y_pred)\n",
    "print(\"Logistic Regression model accuracy (in %):\", acc*100)"
   ]
  },
  {
   "cell_type": "code",
   "execution_count": 146,
   "metadata": {},
   "outputs": [
    {
     "data": {
      "text/plain": [
       "<Axes: >"
      ]
     },
     "execution_count": 146,
     "metadata": {},
     "output_type": "execute_result"
    },
    {
     "data": {
      "image/png": "[encoded data removed]",
      "text/plain": [
       "<Figure size 640x480 with 2 Axes>"
      ]
     },
     "metadata": {},
     "output_type": "display_data"
    }
   ],
   "source": [
    "import seaborn as sns\n",
    "cm = confusion_matrix(y_test, y_pred, normalize='true')\n",
    "sns.heatmap(data=cm,annot=True, annot_kws={'fontsize':16})"
   ]
  },
  {
   "cell_type": "code",
   "execution_count": 166,
   "metadata": {},
   "outputs": [],
   "source": [
    "ndf = check_df\n",
    "l2 = LabelEncoder().fit_transform(ndf['dangosRusis'])\n",
    "l2_dict = dict(zip(ndf['dangosRusis'],l2))\n",
    "l3 = LabelEncoder().fit_transform(ndf['dangosBukle'])\n",
    "l3_dict = dict(zip(ndf['dangosBukle'],l3))\n",
    "l4 = LabelEncoder().fit_transform(ndf['parosMetas'])\n",
    "l4_dict = dict(zip(ndf['parosMetas'],l4))\n",
    "l5 = LabelEncoder().fit_transform(ndf['meteoSalygos'])\n",
    "l5_dict = dict(zip(ndf['meteoSalygos'],l5))\n",
    "l6 = LabelEncoder().fit_transform(ndf['kelioGatvesKreive'])\n",
    "l6_dict = dict(zip(ndf['kelioGatvesKreive'],l6))\n",
    "l7 = LabelEncoder().fit_transform(ndf['atitvarai'])\n",
    "l7_dict = dict(zip(ndf['atitvarai'],l7))\n",
    "l8 = LabelEncoder().fit_transform(ndf['neblaivusKaltininkai'])\n",
    "l8_dict = dict(zip(ndf['neblaivusKaltininkai'],l8))\n",
    "l9 = LabelEncoder().fit_transform(ndf['apsvaigeKaltininkai'])\n",
    "l9_dict = dict(zip(ndf['apsvaigeKaltininkai'],l9))\n",
    "l10 = LabelEncoder().fit_transform(ndf['atsisakeTikrintisKaltininkai'])\n",
    "l10_dict = dict(zip(ndf['atsisakeTikrintisKaltininkai'],l10))\n",
    "l11 = LabelEncoder().fit_transform(ndf['lytis'])\n",
    "l11_dict = dict(zip(ndf['lytis'],l11))\n",
    "l12 = LabelEncoder().fit_transform(ndf['rusis'])\n",
    "l12_dict = dict(zip(ndf['rusis'],l12))\n",
    "l13 = LabelEncoder().fit_transform(ndf['schema1'])\n",
    "l13_dict = dict(zip(ndf['schema1'],l13))\n",
    "l14 = LabelEncoder().fit_transform(ndf['schema2'])\n",
    "l14_dict = dict(zip(ndf['schema2'],l14))\n",
    "\n",
    "\n",
    "\n",
    "ndf['dangosRusis_enc'] = l2\n",
    "ndf['dangosBukle_enc'] = l3\n",
    "ndf['parosMetas_enc'] = l4\n",
    "ndf['meteoSalygos_enc'] = l5\n",
    "ndf['kelioGatvesKreive_enc'] = l6\n",
    "ndf['atitvarai_enc'] = l7\n",
    "ndf['neblaivusKaltininkai_enc'] = l8\n",
    "ndf['apsvaigeKaltininkai_enc'] = l9\n",
    "ndf['atsisakeTikrintisKaltininkai_enc'] = l10\n",
    "ndf['lytis_enc'] = l11\n",
    "ndf['rusis_enc'] = l12\n",
    "ndf['schema1_enc'] = l13\n",
    "ndf['schema2_enc'] = l14"
   ]
  },
  {
   "cell_type": "code",
   "execution_count": null,
   "metadata": {},
   "outputs": [],
   "source": [
    "ndf"
   ]
  },
  {
   "cell_type": "code",
   "execution_count": 159,
   "metadata": {},
   "outputs": [],
   "source": [
    "X = ndf.drop(columns=['eismoDalyviai', 'lytis', 'Gyvunas', 'dangosRusis', 'dangosBukle', 'parosMetas', 'meteoSalygos', 'kelioGatvesKreive', 'atitvarai', 'neblaivusKaltininkai', 'apsvaigeKaltininkai', 'atsisakeTikrintisKaltininkai', 'lytis', 'rusis', 'schema1', 'schema2', 'lytis_enc'])\n",
    "y = ndf['lytis_enc']"
   ]
  },
  {
   "cell_type": "code",
   "execution_count": 160,
   "metadata": {},
   "outputs": [
    {
     "name": "stdout",
     "output_type": "stream",
     "text": [
      "Logistic Regression model accuracy (in %): 76.40325689336429\n"
     ]
    }
   ],
   "source": [
    "X_train, X_test,\\\n",
    "y_train, y_test = train_test_split(X, y,\n",
    "test_size=0.20,\n",
    "random_state=23)\n",
    "\n",
    "# LogisticRegression\n",
    "clf = LogisticRegression(random_state=0)\n",
    "clf.fit(X_train, y_train)\n",
    "# Prediction\n",
    "y_pred = clf.predict(X_test)\n",
    "acc = accuracy_score(y_test, y_pred)\n",
    "print(\"Logistic Regression model accuracy (in %):\", acc*100)"
   ]
  },
  {
   "cell_type": "code",
   "execution_count": 162,
   "metadata": {},
   "outputs": [
    {
     "name": "stdout",
     "output_type": "stream",
     "text": [
      "3025     1\n",
      "19436    1\n",
      "274      1\n",
      "19724    1\n",
      "9744     1\n",
      "Name: lytis_enc, dtype: int64\n"
     ]
    }
   ],
   "source": [
    "print(y_test[:5])"
   ]
  },
  {
   "cell_type": "code",
   "execution_count": 167,
   "metadata": {},
   "outputs": [],
   "source": [
    "y_test_withlabels = ['Vyras' if x == 1 else \"Moteris\" for x in y_test]"
   ]
  },
  {
   "cell_type": "code",
   "execution_count": 168,
   "metadata": {},
   "outputs": [],
   "source": [
    "y_pred_withlabels = ['Vyras' if x == 1 else \"Moteris\" for x in y_pred]"
   ]
  },
  {
   "cell_type": "code",
   "execution_count": 170,
   "metadata": {},
   "outputs": [
    {
     "data": {
      "text/plain": [
       "{'Moteris', 'Vyras'}"
      ]
     },
     "execution_count": 170,
     "metadata": {},
     "output_type": "execute_result"
    }
   ],
   "source": [
    "set(y_test_withlabels)"
   ]
  },
  {
   "cell_type": "code",
   "execution_count": 171,
   "metadata": {},
   "outputs": [
    {
     "data": {
      "text/plain": [
       "{'Moteris', 'Vyras'}"
      ]
     },
     "execution_count": 171,
     "metadata": {},
     "output_type": "execute_result"
    }
   ],
   "source": [
    "set(y_pred_withlabels)"
   ]
  },
  {
   "cell_type": "code",
   "execution_count": 172,
   "metadata": {},
   "outputs": [
    {
     "data": {
      "text/plain": [
       "<Axes: >"
      ]
     },
     "execution_count": 172,
     "metadata": {},
     "output_type": "execute_result"
    },
    {
     "data": {
      "image/png": "[encoded data removed]",
      "text/plain": [
       "<Figure size 640x480 with 2 Axes>"
      ]
     },
     "metadata": {},
     "output_type": "display_data"
    }
   ],
   "source": [
    "import seaborn as sns\n",
    "cm = confusion_matrix(y_test_withlabels, y_pred_withlabels)\n",
    "sns.heatmap(data=cm,annot=True, annot_kws={'fontsize':16})"
   ]
  },
  {
   "cell_type": "code",
   "execution_count": 161,
   "metadata": {},
   "outputs": [
    {
     "data": {
      "text/plain": [
       "<Axes: >"
      ]
     },
     "execution_count": 161,
     "metadata": {},
     "output_type": "execute_result"
    },
    {
     "data": {
      "image/png": "[encoded data removed]",
      "text/plain": [
       "<Figure size 640x480 with 2 Axes>"
      ]
     },
     "metadata": {},
     "output_type": "display_data"
    }
   ],
   "source": [
    "import seaborn as sns\n",
    "cm = confusion_matrix(y_test, y_pred, normalize='true')\n",
    "sns.heatmap(data=cm,annot=True, annot_kws={'fontsize':16})"
   ]
  },
  {
   "cell_type": "code",
   "execution_count": null,
   "metadata": {},
   "outputs": [],
   "source": [
    "ndf"
   ]
  },
  {
   "cell_type": "code",
   "execution_count": 151,
   "metadata": {},
   "outputs": [
    {
     "name": "stdout",
     "output_type": "stream",
     "text": [
      "<class 'pandas.core.frame.DataFrame'>\n",
      "Index: 127113 entries, 7210 to 24239\n",
      "Data columns (total 19 columns):\n",
      " #   Column                            Non-Null Count   Dtype  \n",
      "---  ------                            --------------   -----  \n",
      " 0   dalyviuSkaicius                   127113 non-null  float64\n",
      " 1   zuvusiuSkaicius                   127113 non-null  int64  \n",
      " 2   suzeistuSkaicius                  127113 non-null  int64  \n",
      " 3   tpSkaicius                        127113 non-null  float64\n",
      " 4   apgadintuTpSkaicius               127113 non-null  float64\n",
      " 5   leistinasGreitis                  127113 non-null  float64\n",
      " 6   dangosRusis_enc                   127113 non-null  int64  \n",
      " 7   dangosBukle_enc                   127113 non-null  int64  \n",
      " 8   parosMetas_enc                    127113 non-null  int64  \n",
      " 9   meteoSalygos_enc                  127113 non-null  int64  \n",
      " 10  kelioGatvesKreive_enc             127113 non-null  int64  \n",
      " 11  atitvarai_enc                     127113 non-null  int64  \n",
      " 12  neblaivusKaltininkai_enc          127113 non-null  int64  \n",
      " 13  apsvaigeKaltininkai_enc           127113 non-null  int64  \n",
      " 14  atsisakeTikrintisKaltininkai_enc  127113 non-null  int64  \n",
      " 15  lytis_enc                         127113 non-null  int64  \n",
      " 16  rusis_enc                         127113 non-null  int64  \n",
      " 17  schema1_enc                       127113 non-null  int64  \n",
      " 18  schema2_enc                       127113 non-null  int64  \n",
      "dtypes: float64(4), int64(15)\n",
      "memory usage: 19.4 MB\n"
     ]
    }
   ],
   "source": [
    "X.info()"
   ]
  },
  {
   "cell_type": "code",
   "execution_count": null,
   "metadata": {},
   "outputs": [],
   "source": [
    "# rep = True\n",
    "# if rep:\n",
    "#     try:\n",
    "#         rep = True\n",
    "#         x = np.nan\n",
    "#         miestas = np.nan\n",
    "#         irengimas = np.nan     \n",
    "#         sildymo_tipas = np.nan\n",
    "#         pastato_tipas = np.nan\n",
    "#         plotas = np.nan\n",
    "#         metai = np.nan\n",
    "#         kambariai = np.nan\n",
    "#         aukstas = np.nan\n",
    "#         aukstai = np.nan\n",
    "#         m = input('Nurodykite buto miestą')\n",
    "#         miestas = l2_dict[m]\n",
    "#         print(m, miestas)\n",
    "#         i = input(f'Įveskite vieną iš įrengimo variantų, variantai: {list(set(l3_dict.keys()))}')\n",
    "#         irengimas = l3_dict[i]\n",
    "#         print(i, irengimas)\n",
    "#         s = input(f'Įveskite vieną iš šildymo tipų variantų, variantai: {list(set(l4_dict.keys()))}')\n",
    "#         sildymo_tipas = l4_dict[s]\n",
    "#         print(s, sildymo_tipas)\n",
    "#         p = input(f'Įveskite vieną iš pastato tipų variantų, variantai: {list(set(l5_dict.keys()))}')\n",
    "#         pastato_tipas = l5_dict[p]\n",
    "#         print(p, pastato_tipas)\n",
    "#         plotas = float(input('Nurodykite buto plotą'))\n",
    "#         print(plotas)\n",
    "#         metai = int(input('Nurodykite buto metus'))\n",
    "#         print(metai)\n",
    "#         kambariai = int(input('Nurodykite buto kambarių skaičių'))\n",
    "#         print(kambariai)\n",
    "#         aukstas = int(input('Nurodykite buto aukštą'))\n",
    "#         print(aukstas)\n",
    "#         aukstai = int(input('Nurodykite daugiabučio aukštų skaičių'))\n",
    "#         print(aukstai)\n",
    "#         rep = False\n",
    "#     except Exception as e:\n",
    "#         print(e)\n",
    "    \n",
    "# x = fit.predict(np.reshape([miestas,irengimas, sildymo_tipas, pastato_tipas, plotas, metai, kambariai, aukstas, aukstai], (1,-1)))[0]\n",
    "# print(f'{round(x,0)} EUR')"
   ]
  },
  {
   "cell_type": "code",
   "execution_count": 152,
   "metadata": {},
   "outputs": [
    {
     "data": {
      "text/plain": [
       "dict_keys([0, 1])"
      ]
     },
     "execution_count": 152,
     "metadata": {},
     "output_type": "execute_result"
    }
   ],
   "source": [
    "l11_dict.keys()"
   ]
  },
  {
   "cell_type": "code",
   "execution_count": 153,
   "metadata": {},
   "outputs": [
    {
     "data": {
      "text/html": [
       "<div>\n",
       "<style scoped>\n",
       "    .dataframe tbody tr th:only-of-type {\n",
       "        vertical-align: middle;\n",
       "    }\n",
       "\n",
       "    .dataframe tbody tr th {\n",
       "        vertical-align: top;\n",
       "    }\n",
       "\n",
       "    .dataframe thead th {\n",
       "        text-align: right;\n",
       "    }\n",
       "</style>\n",
       "<table border=\"1\" class=\"dataframe\">\n",
       "  <thead>\n",
       "    <tr style=\"text-align: right;\">\n",
       "      <th></th>\n",
       "      <th>lytis</th>\n",
       "      <th>Spėjimai</th>\n",
       "    </tr>\n",
       "  </thead>\n",
       "  <tbody>\n",
       "    <tr>\n",
       "      <th>0</th>\n",
       "      <td>1</td>\n",
       "      <td>1</td>\n",
       "    </tr>\n",
       "    <tr>\n",
       "      <th>1</th>\n",
       "      <td>1</td>\n",
       "      <td>1</td>\n",
       "    </tr>\n",
       "    <tr>\n",
       "      <th>2</th>\n",
       "      <td>1</td>\n",
       "      <td>1</td>\n",
       "    </tr>\n",
       "    <tr>\n",
       "      <th>3</th>\n",
       "      <td>1</td>\n",
       "      <td>1</td>\n",
       "    </tr>\n",
       "    <tr>\n",
       "      <th>4</th>\n",
       "      <td>1</td>\n",
       "      <td>1</td>\n",
       "    </tr>\n",
       "  </tbody>\n",
       "</table>\n",
       "</div>"
      ],
      "text/plain": [
       "   lytis  Spėjimai\n",
       "0      1         1\n",
       "1      1         1\n",
       "2      1         1\n",
       "3      1         1\n",
       "4      1         1"
      ]
     },
     "execution_count": 153,
     "metadata": {},
     "output_type": "execute_result"
    }
   ],
   "source": [
    "s = y_pred\n",
    "spejimai = pd.Series(data=s, name='Spėjimai')\n",
    "res = pd.concat([y_test.reset_index(drop=True), spejimai], axis = 1); res.head()"
   ]
  },
  {
   "cell_type": "code",
   "execution_count": 154,
   "metadata": {},
   "outputs": [],
   "source": [
    "lytys = res['lytis']\n",
    "spejimai = res['Spėjimai']\n",
    "ats = []\n",
    "for l,s in zip (lytys,spejimai):\n",
    "    if l == s:\n",
    "        ats.append(True)\n",
    "    else:\n",
    "        ats.append(False)"
   ]
  },
  {
   "cell_type": "code",
   "execution_count": 155,
   "metadata": {},
   "outputs": [],
   "source": [
    "atsakymai = pd.Series(data=ats, name='Atspėta')\n",
    "# nres = pd.concat([res; atsakymai], axis=1)"
   ]
  },
  {
   "cell_type": "code",
   "execution_count": 157,
   "metadata": {},
   "outputs": [
    {
     "data": {
      "text/plain": [
       "Index(['dalyviuSkaicius', 'zuvusiuSkaicius', 'suzeistuSkaicius', 'tpSkaicius',\n",
       "       'apgadintuTpSkaicius', 'leistinasGreitis', 'dangosRusis_enc',\n",
       "       'dangosBukle_enc', 'parosMetas_enc', 'meteoSalygos_enc',\n",
       "       'kelioGatvesKreive_enc', 'atitvarai_enc', 'neblaivusKaltininkai_enc',\n",
       "       'apsvaigeKaltininkai_enc', 'atsisakeTikrintisKaltininkai_enc',\n",
       "       'lytis_enc', 'rusis_enc', 'schema1_enc', 'schema2_enc'],\n",
       "      dtype='object')"
      ]
     },
     "execution_count": 157,
     "metadata": {},
     "output_type": "execute_result"
    }
   ],
   "source": [
    "X.columns"
   ]
  },
  {
   "cell_type": "code",
   "execution_count": 158,
   "metadata": {},
   "outputs": [
    {
     "data": {
      "text/plain": [
       "Index(['rusis', 'schema1', 'schema2', 'dalyviuSkaicius', 'zuvusiuSkaicius',\n",
       "       'suzeistuSkaicius', 'tpSkaicius', 'apgadintuTpSkaicius', 'dangosRusis',\n",
       "       'dangosBukle', 'parosMetas', 'meteoSalygos', 'kelioGatvesKreive',\n",
       "       'atitvarai', 'leistinasGreitis', 'neblaivusKaltininkai',\n",
       "       'apsvaigeKaltininkai', 'atsisakeTikrintisKaltininkai', 'eismoDalyviai',\n",
       "       'lytis', 'Gyvunas', 'dangosRusis_enc', 'dangosBukle_enc',\n",
       "       'parosMetas_enc', 'meteoSalygos_enc', 'kelioGatvesKreive_enc',\n",
       "       'atitvarai_enc', 'neblaivusKaltininkai_enc', 'apsvaigeKaltininkai_enc',\n",
       "       'atsisakeTikrintisKaltininkai_enc', 'lytis_enc', 'rusis_enc',\n",
       "       'schema1_enc', 'schema2_enc'],\n",
       "      dtype='object')"
      ]
     },
     "execution_count": 158,
     "metadata": {},
     "output_type": "execute_result"
    }
   ],
   "source": [
    "ndf.columns"
   ]
  },
  {
   "cell_type": "code",
   "execution_count": null,
   "metadata": {},
   "outputs": [],
   "source": []
  }
 ],
 "metadata": {
  "kernelspec": {
   "display_name": "Python 3",
   "language": "python",
   "name": "python3"
  },
  "language_info": {
   "codemirror_mode": {
    "name": "ipython",
    "version": 3
   },
   "file_extension": ".py",
   "mimetype": "text/x-python",
   "name": "python",
   "nbconvert_exporter": "python",
   "pygments_lexer": "ipython3",
   "version": "3.12.4"
  }
 },
 "nbformat": 4,
 "nbformat_minor": 2
}
