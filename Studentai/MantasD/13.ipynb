{
 "cells": [
  {
   "cell_type": "code",
   "execution_count": 1,
   "metadata": {},
   "outputs": [],
   "source": [
    "# .isnumeric(), .isalpha() - a-z\n",
    "txt = 'Labs, šiandien yra 24 liepos, 7-to mėnesio diena'\n",
    "# parašyti funkciją, skirtą naudoti su map()\n",
    "# ir gaukite sąrašą, kur, jei simbolis duotąjame tekste buvo skaičius - rašote 'Skaičius;,\n",
    "#  o jei tai buvo raidė - rašote 'S', o jei tai spec. simbolis - rašote 42 (skaičių)"
   ]
  },
  {
   "cell_type": "code",
   "execution_count": 2,
   "metadata": {},
   "outputs": [
    {
     "name": "stdout",
     "output_type": "stream",
     "text": [
      "[2, 4, 6]\n"
     ]
    }
   ],
   "source": [
    "s = [1,2,3]\n",
    "\n",
    "def f(x):\n",
    "    return x*2\n",
    "\n",
    "a = list(map(f, s))\n",
    "print(a)"
   ]
  },
  {
   "cell_type": "code",
   "execution_count": 3,
   "metadata": {},
   "outputs": [
    {
     "name": "stdout",
     "output_type": "stream",
     "text": [
      "['A', 'B', 'C']\n"
     ]
    }
   ],
   "source": [
    "r = ['a', 'b', 'c']\n",
    "\n",
    "def f(x):\n",
    "    return x.upper()\n",
    "\n",
    "print(list(map(f, r)))"
   ]
  },
  {
   "cell_type": "code",
   "execution_count": 4,
   "metadata": {},
   "outputs": [
    {
     "name": "stdout",
     "output_type": "stream",
     "text": [
      "[2, 4, 6]\n"
     ]
    }
   ],
   "source": [
    "a = list(map(lambda x: x*2, s))\n",
    "print(a)"
   ]
  },
  {
   "cell_type": "code",
   "execution_count": 4,
   "metadata": {},
   "outputs": [],
   "source": [
    "from dateutil import parser"
   ]
  },
  {
   "cell_type": "code",
   "execution_count": 5,
   "metadata": {},
   "outputs": [
    {
     "name": "stdout",
     "output_type": "stream",
     "text": [
      "2004-05-22\n",
      "2022-05-07 00:00:00\n",
      "18:15:07\n"
     ]
    }
   ],
   "source": [
    "t1 = '22/May/04'\n",
    "t2 = 'May/07/22'\n",
    "t3 = '2024-07-24 18:15:07'\n",
    "\n",
    "d1 = parser.parse(t1).date()\n",
    "print(d1)\n",
    "d2 = parser.parse(t2)\n",
    "print(d2)\n",
    "d3 = parser.parse(t3).time()\n",
    "print(d3)"
   ]
  },
  {
   "cell_type": "code",
   "execution_count": 6,
   "metadata": {},
   "outputs": [
    {
     "name": "stdout",
     "output_type": "stream",
     "text": [
      "2024-07-31 18:57:22\n"
     ]
    }
   ],
   "source": [
    "time = '18:57:22'\n",
    "t = parser.parse(time)\n",
    "print(t)"
   ]
  },
  {
   "cell_type": "code",
   "execution_count": 7,
   "metadata": {},
   "outputs": [
    {
     "name": "stdout",
     "output_type": "stream",
     "text": [
      "[0.2, 0.6, 1.2000000000000002]\n"
     ]
    }
   ],
   "source": [
    "l = [1,2,3]\n",
    "f = [0.2, 0.3, 0.4, 0.5]\n",
    "#  c = l * f\n",
    "c = []\n",
    "for li, fi in zip(l, f):\n",
    "    c.append(li*fi)\n",
    "\n",
    "print(c)"
   ]
  },
  {
   "cell_type": "code",
   "execution_count": 8,
   "metadata": {},
   "outputs": [],
   "source": [
    "import numpy as np"
   ]
  },
  {
   "cell_type": "code",
   "execution_count": 9,
   "metadata": {},
   "outputs": [
    {
     "name": "stdout",
     "output_type": "stream",
     "text": [
      "[0, 1, 2, 3, 4, 5, 6, 7, 8, 9, 10]\n"
     ]
    }
   ],
   "source": [
    "f = []\n",
    "for i in range(11):\n",
    "    f.append(i)\n",
    "print(f)\n",
    "#  ats = f * 0.2 ?"
   ]
  },
  {
   "cell_type": "code",
   "execution_count": 10,
   "metadata": {},
   "outputs": [
    {
     "name": "stdout",
     "output_type": "stream",
     "text": [
      "[ 0  1  2  3  4  5  6  7  8  9 10]\n"
     ]
    }
   ],
   "source": [
    "f = np.arange(0, 11)\n",
    "print(f)"
   ]
  },
  {
   "cell_type": "code",
   "execution_count": 11,
   "metadata": {},
   "outputs": [
    {
     "data": {
      "text/plain": [
       "array([ 3,  4,  5,  6,  7,  8,  9, 10])"
      ]
     },
     "execution_count": 11,
     "metadata": {},
     "output_type": "execute_result"
    }
   ],
   "source": [
    "f[3:]"
   ]
  },
  {
   "cell_type": "code",
   "execution_count": 12,
   "metadata": {},
   "outputs": [
    {
     "name": "stdout",
     "output_type": "stream",
     "text": [
      "[0.  0.2 0.4 0.6 0.8 1.  1.2 1.4 1.6 1.8 2. ]\n"
     ]
    }
   ],
   "source": [
    "c = f * 0.2\n",
    "print(c)"
   ]
  },
  {
   "cell_type": "code",
   "execution_count": 13,
   "metadata": {},
   "outputs": [
    {
     "name": "stdout",
     "output_type": "stream",
     "text": [
      "[0.1 0.4 0.9]\n"
     ]
    }
   ],
   "source": [
    "f = np.asarray([1,2,3])\n",
    "l = np.asarray([0.1,0.2,0.3, 0.5, 0.7])[:len(f)]\n",
    "\n",
    "a = f*l\n",
    "print(a)"
   ]
  },
  {
   "cell_type": "code",
   "execution_count": 14,
   "metadata": {},
   "outputs": [
    {
     "data": {
      "text/plain": [
       "array([0.  , 0.91, 1.82, 2.73, 3.64, 4.55, 5.45, 6.36, 7.27, 8.18, 9.09])"
      ]
     },
     "execution_count": 14,
     "metadata": {},
     "output_type": "execute_result"
    }
   ],
   "source": [
    "np.round(np.linspace(0,10, 11, endpoint=False), 2)\n"
   ]
  },
  {
   "cell_type": "code",
   "execution_count": 15,
   "metadata": {},
   "outputs": [
    {
     "data": {
      "text/plain": [
       "np.float64(2.0)"
      ]
     },
     "execution_count": 15,
     "metadata": {},
     "output_type": "execute_result"
    }
   ],
   "source": [
    "s = [1,2,3]\n",
    "np.mean(s)"
   ]
  },
  {
   "cell_type": "code",
   "execution_count": 16,
   "metadata": {},
   "outputs": [
    {
     "data": {
      "text/plain": [
       "np.float64(2.0)"
      ]
     },
     "execution_count": 16,
     "metadata": {},
     "output_type": "execute_result"
    }
   ],
   "source": [
    "np.average(s)"
   ]
  },
  {
   "cell_type": "code",
   "execution_count": 17,
   "metadata": {},
   "outputs": [
    {
     "name": "stdout",
     "output_type": "stream",
     "text": [
      "[0.71329757 0.02436451 0.15352329 0.68490184 0.13059853 0.23267532\n",
      " 0.67831383 0.08417563 0.1273843  0.17062405 0.84244797]\n"
     ]
    }
   ],
   "source": [
    "w = np.random.rand(11)\n",
    "print(w)"
   ]
  },
  {
   "cell_type": "code",
   "execution_count": 18,
   "metadata": {},
   "outputs": [
    {
     "name": "stdout",
     "output_type": "stream",
     "text": [
      "[9 9 9 9 9 3 3 1 1 6 2]\n"
     ]
    }
   ],
   "source": [
    "c = np.random.randint(1,10, 11)\n",
    "print(c)"
   ]
  },
  {
   "cell_type": "code",
   "execution_count": 19,
   "metadata": {},
   "outputs": [
    {
     "name": "stdout",
     "output_type": "stream",
     "text": [
      "5.545454545454546\n",
      "5.545454545454546\n",
      "5.468938371328212\n"
     ]
    }
   ],
   "source": [
    "print(np.average(c))\n",
    "print(np.mean(c))\n",
    "print(np.average(c, weights=w))"
   ]
  },
  {
   "cell_type": "code",
   "execution_count": 20,
   "metadata": {},
   "outputs": [
    {
     "name": "stdout",
     "output_type": "stream",
     "text": [
      "6.0\n"
     ]
    }
   ],
   "source": [
    "print(np.median(c))"
   ]
  },
  {
   "cell_type": "code",
   "execution_count": 21,
   "metadata": {},
   "outputs": [
    {
     "name": "stdout",
     "output_type": "stream",
     "text": [
      "(np.float64(1.0), np.float64(2.0), np.float64(3.0), np.float64(4.0), np.float64(5.0), np.float64(6.0), np.float64(7.0), np.float64(8.0), np.float64(9.0), np.float64(10.0), np.float64(11.0), np.float64(12.0), np.float64(13.0), np.float64(14.0), np.float64(15.0), np.float64(16.0), np.float64(17.0), np.float64(18.0), np.float64(19.0), np.float64(20.0), np.float64(21.0), np.float64(22.0), np.float64(23.0), np.float64(24.0), np.float64(25.0), np.float64(26.0), np.float64(27.0), np.float64(28.0), np.float64(29.0), np.float64(30.0))\n",
      "\n",
      "(np.float64(0.1452417613699), np.float64(0.6512442209278), np.float64(0.4035040242722), np.float64(0.4132777648612), np.float64(0.5376411841046), np.float64(0.1291337706973), np.float64(0.1095216706458), np.float64(0.09160293026716), np.float64(0.4375391272162), np.float64(0.9592487370183), np.float64(0.9081051778975), np.float64(0.9680425954415), np.float64(0.2747224875965), np.float64(0.9395053829374), np.float64(0.02702508007502), np.float64(0.1085425346591), np.float64(0.4510075977325), np.float64(0.3480182621135), np.float64(0.7447402033832), np.float64(0.4360231445388), np.float64(0.9591874750078), np.float64(0.6777559523593), np.float64(0.3108400419198), np.float64(0.4439762905753), np.float64(0.279228458508), np.float64(0.1417351946639), np.float64(0.586848460719), np.float64(0.7415905076166), np.float64(0.04117579111077), np.float64(0.7625497651729))\n",
      "\n",
      "(np.float64(1.278937382525), np.float64(-0.221249827056), np.float64(0.2607201762198), np.float64(-0.639773669202), np.float64(-1.289622965918), np.float64(-0.5827399456765), np.float64(-0.6255631311019), np.float64(0.4207626695444), np.float64(0.545822596946), np.float64(-0.7345529426945), np.float64(-0.8456202437782), np.float64(-0.3624250402443), np.float64(0.98016735787), np.float64(0.2743819570803), np.float64(-1.815132715182), np.float64(1.046147297371), np.float64(-0.09027164462343), np.float64(-0.3725032839649), np.float64(-1.55157980558), np.float64(0.4012095447749), np.float64(-0.7191148652728), np.float64(-0.6067827588022), np.float64(-1.468194938267), np.float64(-0.5550429008205), np.float64(1.235023764172), np.float64(0.8888412045504), np.float64(-0.8446565102295), np.float64(0.27671541301), np.float64(0.6790202400819), np.float64(-0.6251059757464))\n",
      "\n",
      "(np.float64(0.9689124217106), np.float64(0.8775825618904), np.float64(0.7316888688738), np.float64(0.5403023058681), np.float64(0.3153223623953), np.float64(0.0707372016677), np.float64(-0.1782460556495), np.float64(-0.4161468365471), np.float64(-0.6281736227227), np.float64(-0.8011436155469), np.float64(-0.9243023786325), np.float64(-0.9899924966004), np.float64(-0.9941296760805), np.float64(-0.9364566872908), np.float64(-0.8205593573396), np.float64(-0.6536436208636), np.float64(-0.4460874899138), np.float64(-0.2107957994308), np.float64(0.03760215288798), np.float64(0.2836621854632), np.float64(0.5120854772418), np.float64(0.7086697742913), np.float64(0.8611924171615), np.float64(0.9601702866504), np.float64(0.9994494182245), np.float64(0.976587625728), np.float64(0.8930063446891), np.float64(0.7539022543433), np.float64(0.5679241732887), np.float64(0.346635317835))\n",
      "\n",
      "(np.float64(0.2474039592545), np.float64(0.4794255386042), np.float64(0.6816387600233), np.float64(0.8414709848079), np.float64(0.9489846193556), np.float64(0.9974949866041), np.float64(0.9839859468739), np.float64(0.9092974268257), np.float64(0.7780731968879), np.float64(0.598472144104), np.float64(0.3816609920523), np.float64(0.1411200080599), np.float64(-0.1081951345301), np.float64(-0.3507832276896), np.float64(-0.5715613187423), np.float64(-0.7568024953079), np.float64(-0.8949893582286), np.float64(-0.9775301176651), np.float64(-0.9992927889754), np.float64(-0.9589242746631), np.float64(-0.8589344934266), np.float64(-0.7055403255704), np.float64(-0.5082790774993), np.float64(-0.2794154981989), np.float64(-0.03317921654756), np.float64(0.2151199880878), np.float64(0.4500440737806), np.float64(0.6569865987188), np.float64(0.8230808790115), np.float64(0.9379999767747))\n"
     ]
    }
   ],
   "source": [
    "f = 'C:/Users/manta/OneDrive/Dokumentai/Python projektai/DataScienceNotebooks/Studentai/MantasD/DATA/fpc.csv'\n",
    "ft = np.loadtxt(f, delimiter=',', skiprows=1)\n",
    "# skaidymas į stulpelius:\n",
    "c1,c2,c3,c4,c5 = zip(*ft)\n",
    "print(c1,c2,c3,c4,c5,sep='\\n\\n')"
   ]
  },
  {
   "cell_type": "code",
   "execution_count": 22,
   "metadata": {},
   "outputs": [
    {
     "name": "stdout",
     "output_type": "stream",
     "text": [
      "[ 1.  2.  3.  4.  5.  6.  7.  8.  9. 10. 11. 12. 13. 14. 15. 16. 17. 18.\n",
      " 19. 20. 21. 22. 23. 24. 25. 26. 27. 28. 29. 30.]\n"
     ]
    }
   ],
   "source": [
    "c1,c2,c3,c4,c5 = np.transpose(ft)\n",
    "print(c1)"
   ]
  },
  {
   "cell_type": "code",
   "execution_count": null,
   "metadata": {},
   "outputs": [],
   "source": [
    "#nuskaitykyte Table1.dat, ir suraskite:\n",
    "#  stulpeliuose esančių skaičių vidurkį, medianą\n",
    "# suraskite sandaugą antro stlpelio su trečiuoju, tada gauto atsakymo vidurkį.\n",
    "# Suapvalinkite visus atsakymus iki 2-jų ženklų poo kablelio\n"
   ]
  },
  {
   "cell_type": "code",
   "execution_count": null,
   "metadata": {},
   "outputs": [],
   "source": [
    "#  Parašyti klasę TxtReader skirtą tekstinio failo iš dviejų\n",
    "# stulpelių nuskaitymui . Esant poreikiui, inicializacijos metu\n",
    "# galima nurodyti stulpelių skirtuką, ar konvertuoti pirmąjį\n",
    "# stulpelį į datą (datetime objektą), kiek eilučių praleisti nuo\n",
    "# failo pradžios. Jei failas turi daugiau nei du stulpelius - galima\n",
    "# nurodyti, kuris stulpelis konkrečiai yra x, o kuris y. Atributai x\n",
    "# ir y - privatūs.\n",
    "# Pridėkite motdus, kurie leistų surasti stulpelio y vidurkį, medianą, maksimumą, minimumą"
   ]
  }
 ],
 "metadata": {
  "kernelspec": {
   "display_name": "Python 3",
   "language": "python",
   "name": "python3"
  },
  "language_info": {
   "codemirror_mode": {
    "name": "ipython",
    "version": 3
   },
   "file_extension": ".py",
   "mimetype": "text/x-python",
   "name": "python",
   "nbconvert_exporter": "python",
   "pygments_lexer": "ipython3",
   "version": "3.12.4"
  }
 },
 "nbformat": 4,
 "nbformat_minor": 2
}
