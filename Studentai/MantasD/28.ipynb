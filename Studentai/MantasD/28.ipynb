{
 "cells": [
  {
   "cell_type": "code",
   "execution_count": 2,
   "metadata": {},
   "outputs": [],
   "source": [
    "%reload_ext autoreload\n",
    "%autoreload 2"
   ]
  },
  {
   "cell_type": "code",
   "execution_count": 3,
   "metadata": {},
   "outputs": [],
   "source": [
    "import numpy as np\n",
    "from dateutil import parser\n",
    "import datetime\n",
    "import pandas as pd\n",
    "import matplotlib.pyplot as plt\n",
    "import warnings\n",
    "warnings.filterwarnings('ignore')\n",
    "import seaborn as sns\n",
    "import sqlite3\n",
    "import mysql.connector as cnt\n",
    "\n",
    "import glob\n",
    "# import plotly.express as px"
   ]
  },
  {
   "cell_type": "code",
   "execution_count": 4,
   "metadata": {},
   "outputs": [],
   "source": [
    "from manofunkcijos import *"
   ]
  },
  {
   "cell_type": "code",
   "execution_count": null,
   "metadata": {},
   "outputs": [],
   "source": [
    "# pip install pandas"
   ]
  },
  {
   "cell_type": "code",
   "execution_count": 7,
   "metadata": {},
   "outputs": [
    {
     "name": "stdout",
     "output_type": "stream",
     "text": [
      "                U[V] ; I[A] ; j[mA/cm^2] ; P[mW/cm^2]\n",
      "0              1.2 ; 0.001286 ; 21.4341333 ; 25.72096\n",
      "1     1.1766667 ; 0.0008088 ; 13.4806917 ; 15.8622805\n",
      "2           1.1533333 ; 0.000465 ; 7.75065 ; 8.939083\n",
      "3            1.13 ; 0.0001868 ; 3.1128067 ; 3.5174715\n",
      "4         1.1066667 ; 8.2e-06 ; 0.1359291 ; 0.1504282\n",
      "..                                                ...\n",
      "56  -0.1066667 ; -0.0015876 ; -26.4602833 ; 2.8224302\n",
      "57       -0.13 ; -0.0015914 ; -26.5234667 ; 3.4480507\n",
      "58  -0.1533333 ; -0.0015983 ; -26.6379167 ; 4.0844806\n",
      "59  -0.1766667 ; -0.0016019 ; -26.6986333 ; 4.7167586\n",
      "60        -0.2 ; -0.0016058 ; -26.7636667 ; 5.3527333\n",
      "\n",
      "[61 rows x 1 columns]\n"
     ]
    }
   ],
   "source": [
    "file = 'DATA/OOP_DATA\\\\REF_D_1k_FW_2.08.dat'\n",
    "pdframe = pd.read_csv(file)\n",
    "print(pdframe)\n"
   ]
  },
  {
   "cell_type": "code",
   "execution_count": 8,
   "metadata": {},
   "outputs": [],
   "source": [
    "# default importai nuo šiandien\n",
    "import pandas as pd\n",
    "import numpy as np\n",
    "import matplotlib.pyplot as plt\n",
    "import mysql.connector as cnt"
   ]
  },
  {
   "cell_type": "code",
   "execution_count": 9,
   "metadata": {},
   "outputs": [
    {
     "name": "stdout",
     "output_type": "stream",
     "text": [
      "Empty DataFrame\n",
      "Columns: []\n",
      "Index: []\n"
     ]
    }
   ],
   "source": [
    "df = pd.DataFrame()\n",
    "print(df)"
   ]
  },
  {
   "cell_type": "code",
   "execution_count": 10,
   "metadata": {},
   "outputs": [
    {
     "name": "stdout",
     "output_type": "stream",
     "text": [
      "   A\n",
      "0  9\n",
      "1  6\n",
      "2  2\n",
      "3  3\n",
      "4  1\n"
     ]
    }
   ],
   "source": [
    "duomenys = np.random.randint(1,10,5)\n",
    "# naujo stulpelio ir duomenu pridejimas\n",
    "df['A'] = duomenys\n",
    "print(df)"
   ]
  },
  {
   "cell_type": "code",
   "execution_count": 11,
   "metadata": {},
   "outputs": [
    {
     "name": "stdout",
     "output_type": "stream",
     "text": [
      "   A  B\n",
      "0  9  7\n",
      "1  6  6\n",
      "2  2  4\n",
      "3  3  6\n",
      "4  1  3\n"
     ]
    }
   ],
   "source": [
    "duomenysB = np.random.randint(1,10,5)\n",
    "df['B'] = duomenysB\n",
    "\n",
    "print(df)"
   ]
  },
  {
   "cell_type": "code",
   "execution_count": 15,
   "metadata": {},
   "outputs": [
    {
     "name": "stdout",
     "output_type": "stream",
     "text": [
      "<class 'pandas.core.frame.DataFrame'>\n",
      "RangeIndex: 5 entries, 0 to 4\n",
      "Data columns (total 2 columns):\n",
      " #   Column  Non-Null Count  Dtype\n",
      "---  ------  --------------  -----\n",
      " 0   A       5 non-null      int32\n",
      " 1   B       5 non-null      int32\n",
      "dtypes: int32(2)\n",
      "memory usage: 172.0 bytes\n"
     ]
    }
   ],
   "source": [
    "# duomenu apzvlaga:\n",
    "df.info()"
   ]
  },
  {
   "cell_type": "code",
   "execution_count": 13,
   "metadata": {},
   "outputs": [
    {
     "data": {
      "text/html": [
       "<div>\n",
       "<style scoped>\n",
       "    .dataframe tbody tr th:only-of-type {\n",
       "        vertical-align: middle;\n",
       "    }\n",
       "\n",
       "    .dataframe tbody tr th {\n",
       "        vertical-align: top;\n",
       "    }\n",
       "\n",
       "    .dataframe thead th {\n",
       "        text-align: right;\n",
       "    }\n",
       "</style>\n",
       "<table border=\"1\" class=\"dataframe\">\n",
       "  <thead>\n",
       "    <tr style=\"text-align: right;\">\n",
       "      <th></th>\n",
       "      <th>A</th>\n",
       "      <th>B</th>\n",
       "    </tr>\n",
       "  </thead>\n",
       "  <tbody>\n",
       "    <tr>\n",
       "      <th>0</th>\n",
       "      <td>9</td>\n",
       "      <td>7</td>\n",
       "    </tr>\n",
       "    <tr>\n",
       "      <th>1</th>\n",
       "      <td>6</td>\n",
       "      <td>6</td>\n",
       "    </tr>\n",
       "    <tr>\n",
       "      <th>2</th>\n",
       "      <td>2</td>\n",
       "      <td>4</td>\n",
       "    </tr>\n",
       "    <tr>\n",
       "      <th>3</th>\n",
       "      <td>3</td>\n",
       "      <td>6</td>\n",
       "    </tr>\n",
       "    <tr>\n",
       "      <th>4</th>\n",
       "      <td>1</td>\n",
       "      <td>3</td>\n",
       "    </tr>\n",
       "  </tbody>\n",
       "</table>\n",
       "</div>"
      ],
      "text/plain": [
       "   A  B\n",
       "0  9  7\n",
       "1  6  6\n",
       "2  2  4\n",
       "3  3  6\n",
       "4  1  3"
      ]
     },
     "execution_count": 13,
     "metadata": {},
     "output_type": "execute_result"
    }
   ],
   "source": [
    "# apzvalga\n",
    "df.head()"
   ]
  },
  {
   "cell_type": "code",
   "execution_count": 16,
   "metadata": {},
   "outputs": [
    {
     "data": {
      "text/html": [
       "<div>\n",
       "<style scoped>\n",
       "    .dataframe tbody tr th:only-of-type {\n",
       "        vertical-align: middle;\n",
       "    }\n",
       "\n",
       "    .dataframe tbody tr th {\n",
       "        vertical-align: top;\n",
       "    }\n",
       "\n",
       "    .dataframe thead th {\n",
       "        text-align: right;\n",
       "    }\n",
       "</style>\n",
       "<table border=\"1\" class=\"dataframe\">\n",
       "  <thead>\n",
       "    <tr style=\"text-align: right;\">\n",
       "      <th></th>\n",
       "      <th>A</th>\n",
       "      <th>B</th>\n",
       "    </tr>\n",
       "  </thead>\n",
       "  <tbody>\n",
       "    <tr>\n",
       "      <th>3</th>\n",
       "      <td>3</td>\n",
       "      <td>6</td>\n",
       "    </tr>\n",
       "    <tr>\n",
       "      <th>4</th>\n",
       "      <td>1</td>\n",
       "      <td>3</td>\n",
       "    </tr>\n",
       "  </tbody>\n",
       "</table>\n",
       "</div>"
      ],
      "text/plain": [
       "   A  B\n",
       "3  3  6\n",
       "4  1  3"
      ]
     },
     "execution_count": 16,
     "metadata": {},
     "output_type": "execute_result"
    }
   ],
   "source": [
    "df.tail(2)"
   ]
  },
  {
   "cell_type": "code",
   "execution_count": 17,
   "metadata": {},
   "outputs": [
    {
     "name": "stdout",
     "output_type": "stream",
     "text": [
      "Index(['A', 'B'], dtype='object')\n"
     ]
    }
   ],
   "source": [
    "cols = df.columns\n",
    "print(cols)"
   ]
  },
  {
   "cell_type": "code",
   "execution_count": 18,
   "metadata": {},
   "outputs": [
    {
     "name": "stdout",
     "output_type": "stream",
     "text": [
      "A\n",
      "B\n"
     ]
    }
   ],
   "source": [
    "for i in cols:\n",
    "    print(i)"
   ]
  },
  {
   "cell_type": "code",
   "execution_count": 5,
   "metadata": {},
   "outputs": [
    {
     "data": {
      "text/html": [
       "<div>\n",
       "<style scoped>\n",
       "    .dataframe tbody tr th:only-of-type {\n",
       "        vertical-align: middle;\n",
       "    }\n",
       "\n",
       "    .dataframe tbody tr th {\n",
       "        vertical-align: top;\n",
       "    }\n",
       "\n",
       "    .dataframe thead th {\n",
       "        text-align: right;\n",
       "    }\n",
       "</style>\n",
       "<table border=\"1\" class=\"dataframe\">\n",
       "  <thead>\n",
       "    <tr style=\"text-align: right;\">\n",
       "      <th></th>\n",
       "      <th>svoris</th>\n",
       "      <th>stazas</th>\n",
       "      <th>darbo_laiko_dalis</th>\n",
       "      <th>evrk</th>\n",
       "      <th>im_dydzio_kodas</th>\n",
       "      <th>im_dydis</th>\n",
       "      <th>amzius</th>\n",
       "      <th>atostogu_dienos</th>\n",
       "      <th>sutarties_rusis</th>\n",
       "      <th>virsvalandziu_bdu</th>\n",
       "      <th>...</th>\n",
       "      <th>nuosavybe</th>\n",
       "      <th>bdu_val</th>\n",
       "      <th>nuts</th>\n",
       "      <th>vv_darb_sk</th>\n",
       "      <th>virsvalandziu_sk</th>\n",
       "      <th>premijos</th>\n",
       "      <th>bdu_spalio</th>\n",
       "      <th>priemokos</th>\n",
       "      <th>objectid</th>\n",
       "      <th>issilavinimas</th>\n",
       "    </tr>\n",
       "  </thead>\n",
       "  <tbody>\n",
       "    <tr>\n",
       "      <th>0</th>\n",
       "      <td>35.03</td>\n",
       "      <td>0</td>\n",
       "      <td>0.58</td>\n",
       "      <td>XL</td>\n",
       "      <td>0</td>\n",
       "      <td>1_49</td>\n",
       "      <td>20-29</td>\n",
       "      <td>0</td>\n",
       "      <td>A</td>\n",
       "      <td>0</td>\n",
       "      <td>...</td>\n",
       "      <td>B</td>\n",
       "      <td>6.0</td>\n",
       "      <td>LT</td>\n",
       "      <td>6</td>\n",
       "      <td>0</td>\n",
       "      <td>0</td>\n",
       "      <td>6.0</td>\n",
       "      <td>0</td>\n",
       "      <td>1</td>\n",
       "      <td>G4</td>\n",
       "    </tr>\n",
       "    <tr>\n",
       "      <th>1</th>\n",
       "      <td>2.39</td>\n",
       "      <td>0</td>\n",
       "      <td>0.54</td>\n",
       "      <td>XN</td>\n",
       "      <td>0</td>\n",
       "      <td>1_49</td>\n",
       "      <td>20-29</td>\n",
       "      <td>0</td>\n",
       "      <td>A</td>\n",
       "      <td>0</td>\n",
       "      <td>...</td>\n",
       "      <td>B</td>\n",
       "      <td>6.0</td>\n",
       "      <td>LT</td>\n",
       "      <td>12</td>\n",
       "      <td>0</td>\n",
       "      <td>0</td>\n",
       "      <td>6.0</td>\n",
       "      <td>0</td>\n",
       "      <td>2</td>\n",
       "      <td>G2</td>\n",
       "    </tr>\n",
       "  </tbody>\n",
       "</table>\n",
       "<p>2 rows × 32 columns</p>\n",
       "</div>"
      ],
      "text/plain": [
       "   svoris  stazas  darbo_laiko_dalis evrk  im_dydzio_kodas im_dydis amzius  \\\n",
       "0   35.03       0               0.58   XL                0     1_49  20-29   \n",
       "1    2.39       0               0.54   XN                0     1_49  20-29   \n",
       "\n",
       "   atostogu_dienos sutarties_rusis  virsvalandziu_bdu  ...  nuosavybe bdu_val  \\\n",
       "0                0               A                  0  ...          B     6.0   \n",
       "1                0               A                  0  ...          B     6.0   \n",
       "\n",
       "   nuts  vv_darb_sk  virsvalandziu_sk premijos  bdu_spalio priemokos  \\\n",
       "0    LT           6                 0        0         6.0         0   \n",
       "1    LT          12                 0        0         6.0         0   \n",
       "\n",
       "   objectid issilavinimas  \n",
       "0         1            G4  \n",
       "1         2            G2  \n",
       "\n",
       "[2 rows x 32 columns]"
      ]
     },
     "execution_count": 5,
     "metadata": {},
     "output_type": "execute_result"
    }
   ],
   "source": [
    "# duomenu nuskaitymas\n",
    "df14 = pd.read_csv('DATA\\DUS2014.csv')\n",
    "df14.head(2)"
   ]
  },
  {
   "cell_type": "code",
   "execution_count": 21,
   "metadata": {},
   "outputs": [
    {
     "data": {
      "text/html": [
       "<div>\n",
       "<style scoped>\n",
       "    .dataframe tbody tr th:only-of-type {\n",
       "        vertical-align: middle;\n",
       "    }\n",
       "\n",
       "    .dataframe tbody tr th {\n",
       "        vertical-align: top;\n",
       "    }\n",
       "\n",
       "    .dataframe thead th {\n",
       "        text-align: right;\n",
       "    }\n",
       "</style>\n",
       "<table border=\"1\" class=\"dataframe\">\n",
       "  <thead>\n",
       "    <tr style=\"text-align: right;\">\n",
       "      <th></th>\n",
       "      <th>svoris</th>\n",
       "      <th>stazas</th>\n",
       "      <th>darbo_laiko_dalis</th>\n",
       "      <th>evrk</th>\n",
       "      <th>im_dydzio_kodas</th>\n",
       "      <th>im_dydis</th>\n",
       "      <th>amzius</th>\n",
       "      <th>atostogu_dienos</th>\n",
       "      <th>sutarties_rusis</th>\n",
       "      <th>virsvalandziu_bdu</th>\n",
       "      <th>...</th>\n",
       "      <th>nuosavybe</th>\n",
       "      <th>bdu_val</th>\n",
       "      <th>nuts</th>\n",
       "      <th>vv_darb_sk</th>\n",
       "      <th>virsvalandziu_sk</th>\n",
       "      <th>premijos</th>\n",
       "      <th>bdu_spalio</th>\n",
       "      <th>priemokos</th>\n",
       "      <th>objectid</th>\n",
       "      <th>issilavinimas</th>\n",
       "    </tr>\n",
       "  </thead>\n",
       "  <tbody>\n",
       "    <tr>\n",
       "      <th>0</th>\n",
       "      <td>35.03</td>\n",
       "      <td>0</td>\n",
       "      <td>0.58</td>\n",
       "      <td>XL</td>\n",
       "      <td>0</td>\n",
       "      <td>1_49</td>\n",
       "      <td>20-29</td>\n",
       "      <td>0</td>\n",
       "      <td>A</td>\n",
       "      <td>0</td>\n",
       "      <td>...</td>\n",
       "      <td>B</td>\n",
       "      <td>6.00</td>\n",
       "      <td>LT</td>\n",
       "      <td>6</td>\n",
       "      <td>0</td>\n",
       "      <td>0</td>\n",
       "      <td>6.00</td>\n",
       "      <td>0</td>\n",
       "      <td>1</td>\n",
       "      <td>G4</td>\n",
       "    </tr>\n",
       "    <tr>\n",
       "      <th>1</th>\n",
       "      <td>2.39</td>\n",
       "      <td>0</td>\n",
       "      <td>0.54</td>\n",
       "      <td>XN</td>\n",
       "      <td>0</td>\n",
       "      <td>1_49</td>\n",
       "      <td>20-29</td>\n",
       "      <td>0</td>\n",
       "      <td>A</td>\n",
       "      <td>0</td>\n",
       "      <td>...</td>\n",
       "      <td>B</td>\n",
       "      <td>6.00</td>\n",
       "      <td>LT</td>\n",
       "      <td>12</td>\n",
       "      <td>0</td>\n",
       "      <td>0</td>\n",
       "      <td>6.00</td>\n",
       "      <td>0</td>\n",
       "      <td>2</td>\n",
       "      <td>G2</td>\n",
       "    </tr>\n",
       "    <tr>\n",
       "      <th>2</th>\n",
       "      <td>16.70</td>\n",
       "      <td>0</td>\n",
       "      <td>0.56</td>\n",
       "      <td>XQ</td>\n",
       "      <td>2</td>\n",
       "      <td>GT_250</td>\n",
       "      <td>40-49</td>\n",
       "      <td>0</td>\n",
       "      <td>A</td>\n",
       "      <td>0</td>\n",
       "      <td>...</td>\n",
       "      <td>B</td>\n",
       "      <td>6.00</td>\n",
       "      <td>LT</td>\n",
       "      <td>360</td>\n",
       "      <td>0</td>\n",
       "      <td>0</td>\n",
       "      <td>6.00</td>\n",
       "      <td>0</td>\n",
       "      <td>3</td>\n",
       "      <td>G4</td>\n",
       "    </tr>\n",
       "    <tr>\n",
       "      <th>3</th>\n",
       "      <td>28.24</td>\n",
       "      <td>0</td>\n",
       "      <td>0.58</td>\n",
       "      <td>XE</td>\n",
       "      <td>0</td>\n",
       "      <td>1_49</td>\n",
       "      <td>30-39</td>\n",
       "      <td>0</td>\n",
       "      <td>A</td>\n",
       "      <td>0</td>\n",
       "      <td>...</td>\n",
       "      <td>B</td>\n",
       "      <td>6.00</td>\n",
       "      <td>LT</td>\n",
       "      <td>27</td>\n",
       "      <td>0</td>\n",
       "      <td>0</td>\n",
       "      <td>6.00</td>\n",
       "      <td>0</td>\n",
       "      <td>4</td>\n",
       "      <td>G4</td>\n",
       "    </tr>\n",
       "    <tr>\n",
       "      <th>4</th>\n",
       "      <td>54.82</td>\n",
       "      <td>0</td>\n",
       "      <td>1.09</td>\n",
       "      <td>XI</td>\n",
       "      <td>0</td>\n",
       "      <td>1_49</td>\n",
       "      <td>40-49</td>\n",
       "      <td>0</td>\n",
       "      <td>A</td>\n",
       "      <td>0</td>\n",
       "      <td>...</td>\n",
       "      <td>B</td>\n",
       "      <td>6.00</td>\n",
       "      <td>LT</td>\n",
       "      <td>11</td>\n",
       "      <td>0</td>\n",
       "      <td>0</td>\n",
       "      <td>11.33</td>\n",
       "      <td>0</td>\n",
       "      <td>5</td>\n",
       "      <td>G2</td>\n",
       "    </tr>\n",
       "    <tr>\n",
       "      <th>...</th>\n",
       "      <td>...</td>\n",
       "      <td>...</td>\n",
       "      <td>...</td>\n",
       "      <td>...</td>\n",
       "      <td>...</td>\n",
       "      <td>...</td>\n",
       "      <td>...</td>\n",
       "      <td>...</td>\n",
       "      <td>...</td>\n",
       "      <td>...</td>\n",
       "      <td>...</td>\n",
       "      <td>...</td>\n",
       "      <td>...</td>\n",
       "      <td>...</td>\n",
       "      <td>...</td>\n",
       "      <td>...</td>\n",
       "      <td>...</td>\n",
       "      <td>...</td>\n",
       "      <td>...</td>\n",
       "      <td>...</td>\n",
       "      <td>...</td>\n",
       "    </tr>\n",
       "    <tr>\n",
       "      <th>44947</th>\n",
       "      <td>15.20</td>\n",
       "      <td>16</td>\n",
       "      <td>100.00</td>\n",
       "      <td>XP</td>\n",
       "      <td>0</td>\n",
       "      <td>1_49</td>\n",
       "      <td>50-59</td>\n",
       "      <td>40</td>\n",
       "      <td>A</td>\n",
       "      <td>0</td>\n",
       "      <td>...</td>\n",
       "      <td>A</td>\n",
       "      <td>18.64</td>\n",
       "      <td>LT</td>\n",
       "      <td>8</td>\n",
       "      <td>0</td>\n",
       "      <td>3000</td>\n",
       "      <td>3393.00</td>\n",
       "      <td>0</td>\n",
       "      <td>44948</td>\n",
       "      <td>G4</td>\n",
       "    </tr>\n",
       "    <tr>\n",
       "      <th>44948</th>\n",
       "      <td>17.45</td>\n",
       "      <td>10</td>\n",
       "      <td>100.00</td>\n",
       "      <td>XP</td>\n",
       "      <td>2</td>\n",
       "      <td>GT_250</td>\n",
       "      <td>30-39</td>\n",
       "      <td>40</td>\n",
       "      <td>A</td>\n",
       "      <td>0</td>\n",
       "      <td>...</td>\n",
       "      <td>A</td>\n",
       "      <td>26.37</td>\n",
       "      <td>LT</td>\n",
       "      <td>409</td>\n",
       "      <td>0</td>\n",
       "      <td>1050</td>\n",
       "      <td>3639.67</td>\n",
       "      <td>0</td>\n",
       "      <td>44949</td>\n",
       "      <td>G4</td>\n",
       "    </tr>\n",
       "    <tr>\n",
       "      <th>44949</th>\n",
       "      <td>13.73</td>\n",
       "      <td>7</td>\n",
       "      <td>100.00</td>\n",
       "      <td>XP</td>\n",
       "      <td>2</td>\n",
       "      <td>GT_250</td>\n",
       "      <td>50-59</td>\n",
       "      <td>40</td>\n",
       "      <td>A</td>\n",
       "      <td>0</td>\n",
       "      <td>...</td>\n",
       "      <td>A</td>\n",
       "      <td>22.38</td>\n",
       "      <td>LT</td>\n",
       "      <td>778</td>\n",
       "      <td>0</td>\n",
       "      <td>0</td>\n",
       "      <td>3670.00</td>\n",
       "      <td>0</td>\n",
       "      <td>44950</td>\n",
       "      <td>G4</td>\n",
       "    </tr>\n",
       "    <tr>\n",
       "      <th>44950</th>\n",
       "      <td>98.09</td>\n",
       "      <td>4</td>\n",
       "      <td>100.00</td>\n",
       "      <td>XP</td>\n",
       "      <td>2</td>\n",
       "      <td>GT_250</td>\n",
       "      <td>30-39</td>\n",
       "      <td>40</td>\n",
       "      <td>B</td>\n",
       "      <td>0</td>\n",
       "      <td>...</td>\n",
       "      <td>A</td>\n",
       "      <td>23.03</td>\n",
       "      <td>LT</td>\n",
       "      <td>380</td>\n",
       "      <td>0</td>\n",
       "      <td>0</td>\n",
       "      <td>4212.00</td>\n",
       "      <td>0</td>\n",
       "      <td>44951</td>\n",
       "      <td>G4</td>\n",
       "    </tr>\n",
       "    <tr>\n",
       "      <th>44951</th>\n",
       "      <td>16.66</td>\n",
       "      <td>1</td>\n",
       "      <td>100.00</td>\n",
       "      <td>XP</td>\n",
       "      <td>2</td>\n",
       "      <td>GT_250</td>\n",
       "      <td>40-49</td>\n",
       "      <td>40</td>\n",
       "      <td>B</td>\n",
       "      <td>0</td>\n",
       "      <td>...</td>\n",
       "      <td>A</td>\n",
       "      <td>25.56</td>\n",
       "      <td>LT</td>\n",
       "      <td>1774</td>\n",
       "      <td>0</td>\n",
       "      <td>437</td>\n",
       "      <td>4218.00</td>\n",
       "      <td>0</td>\n",
       "      <td>44952</td>\n",
       "      <td>G4</td>\n",
       "    </tr>\n",
       "  </tbody>\n",
       "</table>\n",
       "<p>44952 rows × 32 columns</p>\n",
       "</div>"
      ],
      "text/plain": [
       "       svoris  stazas  darbo_laiko_dalis evrk  im_dydzio_kodas im_dydis  \\\n",
       "0       35.03       0               0.58   XL                0     1_49   \n",
       "1        2.39       0               0.54   XN                0     1_49   \n",
       "2       16.70       0               0.56   XQ                2   GT_250   \n",
       "3       28.24       0               0.58   XE                0     1_49   \n",
       "4       54.82       0               1.09   XI                0     1_49   \n",
       "...       ...     ...                ...  ...              ...      ...   \n",
       "44947   15.20      16             100.00   XP                0     1_49   \n",
       "44948   17.45      10             100.00   XP                2   GT_250   \n",
       "44949   13.73       7             100.00   XP                2   GT_250   \n",
       "44950   98.09       4             100.00   XP                2   GT_250   \n",
       "44951   16.66       1             100.00   XP                2   GT_250   \n",
       "\n",
       "      amzius  atostogu_dienos sutarties_rusis  virsvalandziu_bdu  ...  \\\n",
       "0      20-29                0               A                  0  ...   \n",
       "1      20-29                0               A                  0  ...   \n",
       "2      40-49                0               A                  0  ...   \n",
       "3      30-39                0               A                  0  ...   \n",
       "4      40-49                0               A                  0  ...   \n",
       "...      ...              ...             ...                ...  ...   \n",
       "44947  50-59               40               A                  0  ...   \n",
       "44948  30-39               40               A                  0  ...   \n",
       "44949  50-59               40               A                  0  ...   \n",
       "44950  30-39               40               B                  0  ...   \n",
       "44951  40-49               40               B                  0  ...   \n",
       "\n",
       "       nuosavybe bdu_val  nuts  vv_darb_sk  virsvalandziu_sk premijos  \\\n",
       "0              B    6.00    LT           6                 0        0   \n",
       "1              B    6.00    LT          12                 0        0   \n",
       "2              B    6.00    LT         360                 0        0   \n",
       "3              B    6.00    LT          27                 0        0   \n",
       "4              B    6.00    LT          11                 0        0   \n",
       "...          ...     ...   ...         ...               ...      ...   \n",
       "44947          A   18.64    LT           8                 0     3000   \n",
       "44948          A   26.37    LT         409                 0     1050   \n",
       "44949          A   22.38    LT         778                 0        0   \n",
       "44950          A   23.03    LT         380                 0        0   \n",
       "44951          A   25.56    LT        1774                 0      437   \n",
       "\n",
       "       bdu_spalio priemokos  objectid issilavinimas  \n",
       "0            6.00         0         1            G4  \n",
       "1            6.00         0         2            G2  \n",
       "2            6.00         0         3            G4  \n",
       "3            6.00         0         4            G4  \n",
       "4           11.33         0         5            G2  \n",
       "...           ...       ...       ...           ...  \n",
       "44947     3393.00         0     44948            G4  \n",
       "44948     3639.67         0     44949            G4  \n",
       "44949     3670.00         0     44950            G4  \n",
       "44950     4212.00         0     44951            G4  \n",
       "44951     4218.00         0     44952            G4  \n",
       "\n",
       "[44952 rows x 32 columns]"
      ]
     },
     "execution_count": 21,
     "metadata": {},
     "output_type": "execute_result"
    }
   ],
   "source": [
    "df14"
   ]
  },
  {
   "cell_type": "code",
   "execution_count": 22,
   "metadata": {},
   "outputs": [
    {
     "name": "stdout",
     "output_type": "stream",
     "text": [
      "0        G4\n",
      "1        G2\n",
      "2        G4\n",
      "3        G4\n",
      "4        G2\n",
      "         ..\n",
      "44947    G4\n",
      "44948    G4\n",
      "44949    G4\n",
      "44950    G4\n",
      "44951    G4\n",
      "Name: issilavinimas, Length: 44952, dtype: object\n"
     ]
    }
   ],
   "source": [
    "issilavinimas = df14['issilavinimas'] # cia Series objektas - 2 irasai visada\n",
    "print(issilavinimas)\n",
    "\n",
    "# pirmas stulpelis su eiluciu numeiriais vadinamas indeksais\n",
    "# antras vertemis"
   ]
  },
  {
   "cell_type": "code",
   "execution_count": 23,
   "metadata": {},
   "outputs": [
    {
     "name": "stdout",
     "output_type": "stream",
     "text": [
      "RangeIndex(start=0, stop=44952, step=1)\n"
     ]
    }
   ],
   "source": [
    "# series objektui index ir values:\n",
    "indeksai = issilavinimas.index\n",
    "print(indeksai)"
   ]
  },
  {
   "cell_type": "code",
   "execution_count": 24,
   "metadata": {},
   "outputs": [
    {
     "name": "stdout",
     "output_type": "stream",
     "text": [
      "['G4' 'G2' 'G4' ... 'G4' 'G4' 'G4']\n"
     ]
    }
   ],
   "source": [
    "vertes = issilavinimas.values\n",
    "print(vertes)"
   ]
  },
  {
   "cell_type": "code",
   "execution_count": 25,
   "metadata": {},
   "outputs": [
    {
     "name": "stdout",
     "output_type": "stream",
     "text": [
      "['M' 'F' 'F' ... 'F' 'F' 'F']\n"
     ]
    }
   ],
   "source": [
    "lytis = df14['lytis'].values\n",
    "print(lytis)"
   ]
  },
  {
   "cell_type": "code",
   "execution_count": 6,
   "metadata": {},
   "outputs": [
    {
     "data": {
      "text/html": [
       "<div>\n",
       "<style scoped>\n",
       "    .dataframe tbody tr th:only-of-type {\n",
       "        vertical-align: middle;\n",
       "    }\n",
       "\n",
       "    .dataframe tbody tr th {\n",
       "        vertical-align: top;\n",
       "    }\n",
       "\n",
       "    .dataframe thead th {\n",
       "        text-align: right;\n",
       "    }\n",
       "</style>\n",
       "<table border=\"1\" class=\"dataframe\">\n",
       "  <thead>\n",
       "    <tr style=\"text-align: right;\">\n",
       "      <th></th>\n",
       "      <th>lytis</th>\n",
       "      <th>issilavinimas</th>\n",
       "      <th>amzius</th>\n",
       "      <th>bdu_spalio</th>\n",
       "      <th>profesija</th>\n",
       "    </tr>\n",
       "  </thead>\n",
       "  <tbody>\n",
       "    <tr>\n",
       "      <th>0</th>\n",
       "      <td>M</td>\n",
       "      <td>G4</td>\n",
       "      <td>20-29</td>\n",
       "      <td>6.00</td>\n",
       "      <td>261</td>\n",
       "    </tr>\n",
       "    <tr>\n",
       "      <th>1</th>\n",
       "      <td>F</td>\n",
       "      <td>G2</td>\n",
       "      <td>20-29</td>\n",
       "      <td>6.00</td>\n",
       "      <td>334</td>\n",
       "    </tr>\n",
       "    <tr>\n",
       "      <th>2</th>\n",
       "      <td>F</td>\n",
       "      <td>G4</td>\n",
       "      <td>40-49</td>\n",
       "      <td>6.00</td>\n",
       "      <td>221</td>\n",
       "    </tr>\n",
       "    <tr>\n",
       "      <th>3</th>\n",
       "      <td>F</td>\n",
       "      <td>G4</td>\n",
       "      <td>30-39</td>\n",
       "      <td>6.00</td>\n",
       "      <td>332</td>\n",
       "    </tr>\n",
       "    <tr>\n",
       "      <th>4</th>\n",
       "      <td>M</td>\n",
       "      <td>G2</td>\n",
       "      <td>40-49</td>\n",
       "      <td>11.33</td>\n",
       "      <td>962</td>\n",
       "    </tr>\n",
       "  </tbody>\n",
       "</table>\n",
       "</div>"
      ],
      "text/plain": [
       "  lytis issilavinimas amzius  bdu_spalio  profesija\n",
       "0     M            G4  20-29        6.00        261\n",
       "1     F            G2  20-29        6.00        334\n",
       "2     F            G4  40-49        6.00        221\n",
       "3     F            G4  30-39        6.00        332\n",
       "4     M            G2  40-49       11.33        962"
      ]
     },
     "execution_count": 6,
     "metadata": {},
     "output_type": "execute_result"
    }
   ],
   "source": [
    "df = df14[['lytis','issilavinimas','amzius', 'bdu_spalio', 'profesija']]\n",
    "df.head()"
   ]
  },
  {
   "cell_type": "code",
   "execution_count": 29,
   "metadata": {},
   "outputs": [
    {
     "data": {
      "text/plain": [
       "0        False\n",
       "1         True\n",
       "2         True\n",
       "3         True\n",
       "4        False\n",
       "         ...  \n",
       "44947     True\n",
       "44948     True\n",
       "44949     True\n",
       "44950     True\n",
       "44951     True\n",
       "Name: lytis, Length: 44952, dtype: bool"
      ]
     },
     "execution_count": 29,
     "metadata": {},
     "output_type": "execute_result"
    }
   ],
   "source": [
    "df['lytis'] == 'F'"
   ]
  },
  {
   "cell_type": "code",
   "execution_count": 30,
   "metadata": {},
   "outputs": [
    {
     "data": {
      "text/html": [
       "<div>\n",
       "<style scoped>\n",
       "    .dataframe tbody tr th:only-of-type {\n",
       "        vertical-align: middle;\n",
       "    }\n",
       "\n",
       "    .dataframe tbody tr th {\n",
       "        vertical-align: top;\n",
       "    }\n",
       "\n",
       "    .dataframe thead th {\n",
       "        text-align: right;\n",
       "    }\n",
       "</style>\n",
       "<table border=\"1\" class=\"dataframe\">\n",
       "  <thead>\n",
       "    <tr style=\"text-align: right;\">\n",
       "      <th></th>\n",
       "      <th>lytis</th>\n",
       "      <th>issilavinimas</th>\n",
       "      <th>amzius</th>\n",
       "      <th>bdu_spalio</th>\n",
       "      <th>profesija</th>\n",
       "    </tr>\n",
       "  </thead>\n",
       "  <tbody>\n",
       "    <tr>\n",
       "      <th>1</th>\n",
       "      <td>F</td>\n",
       "      <td>G2</td>\n",
       "      <td>20-29</td>\n",
       "      <td>6.00</td>\n",
       "      <td>334</td>\n",
       "    </tr>\n",
       "    <tr>\n",
       "      <th>2</th>\n",
       "      <td>F</td>\n",
       "      <td>G4</td>\n",
       "      <td>40-49</td>\n",
       "      <td>6.00</td>\n",
       "      <td>221</td>\n",
       "    </tr>\n",
       "    <tr>\n",
       "      <th>3</th>\n",
       "      <td>F</td>\n",
       "      <td>G4</td>\n",
       "      <td>30-39</td>\n",
       "      <td>6.00</td>\n",
       "      <td>332</td>\n",
       "    </tr>\n",
       "    <tr>\n",
       "      <th>7</th>\n",
       "      <td>F</td>\n",
       "      <td>G2</td>\n",
       "      <td>20-29</td>\n",
       "      <td>13.33</td>\n",
       "      <td>531</td>\n",
       "    </tr>\n",
       "    <tr>\n",
       "      <th>10</th>\n",
       "      <td>F</td>\n",
       "      <td>G3</td>\n",
       "      <td>40-49</td>\n",
       "      <td>10.00</td>\n",
       "      <td>334</td>\n",
       "    </tr>\n",
       "    <tr>\n",
       "      <th>...</th>\n",
       "      <td>...</td>\n",
       "      <td>...</td>\n",
       "      <td>...</td>\n",
       "      <td>...</td>\n",
       "      <td>...</td>\n",
       "    </tr>\n",
       "    <tr>\n",
       "      <th>44947</th>\n",
       "      <td>F</td>\n",
       "      <td>G4</td>\n",
       "      <td>50-59</td>\n",
       "      <td>3393.00</td>\n",
       "      <td>235</td>\n",
       "    </tr>\n",
       "    <tr>\n",
       "      <th>44948</th>\n",
       "      <td>F</td>\n",
       "      <td>G4</td>\n",
       "      <td>30-39</td>\n",
       "      <td>3639.67</td>\n",
       "      <td>233</td>\n",
       "    </tr>\n",
       "    <tr>\n",
       "      <th>44949</th>\n",
       "      <td>F</td>\n",
       "      <td>G4</td>\n",
       "      <td>50-59</td>\n",
       "      <td>3670.00</td>\n",
       "      <td>231</td>\n",
       "    </tr>\n",
       "    <tr>\n",
       "      <th>44950</th>\n",
       "      <td>F</td>\n",
       "      <td>G4</td>\n",
       "      <td>30-39</td>\n",
       "      <td>4212.00</td>\n",
       "      <td>231</td>\n",
       "    </tr>\n",
       "    <tr>\n",
       "      <th>44951</th>\n",
       "      <td>F</td>\n",
       "      <td>G4</td>\n",
       "      <td>40-49</td>\n",
       "      <td>4218.00</td>\n",
       "      <td>231</td>\n",
       "    </tr>\n",
       "  </tbody>\n",
       "</table>\n",
       "<p>22366 rows × 5 columns</p>\n",
       "</div>"
      ],
      "text/plain": [
       "      lytis issilavinimas amzius  bdu_spalio  profesija\n",
       "1         F            G2  20-29        6.00        334\n",
       "2         F            G4  40-49        6.00        221\n",
       "3         F            G4  30-39        6.00        332\n",
       "7         F            G2  20-29       13.33        531\n",
       "10        F            G3  40-49       10.00        334\n",
       "...     ...           ...    ...         ...        ...\n",
       "44947     F            G4  50-59     3393.00        235\n",
       "44948     F            G4  30-39     3639.67        233\n",
       "44949     F            G4  50-59     3670.00        231\n",
       "44950     F            G4  30-39     4212.00        231\n",
       "44951     F            G4  40-49     4218.00        231\n",
       "\n",
       "[22366 rows x 5 columns]"
      ]
     },
     "execution_count": 30,
     "metadata": {},
     "output_type": "execute_result"
    }
   ],
   "source": [
    "df[df['lytis'] == 'F']"
   ]
  },
  {
   "cell_type": "code",
   "execution_count": 31,
   "metadata": {},
   "outputs": [
    {
     "data": {
      "text/html": [
       "<div>\n",
       "<style scoped>\n",
       "    .dataframe tbody tr th:only-of-type {\n",
       "        vertical-align: middle;\n",
       "    }\n",
       "\n",
       "    .dataframe tbody tr th {\n",
       "        vertical-align: top;\n",
       "    }\n",
       "\n",
       "    .dataframe thead th {\n",
       "        text-align: right;\n",
       "    }\n",
       "</style>\n",
       "<table border=\"1\" class=\"dataframe\">\n",
       "  <thead>\n",
       "    <tr style=\"text-align: right;\">\n",
       "      <th></th>\n",
       "      <th>lytis</th>\n",
       "      <th>issilavinimas</th>\n",
       "      <th>amzius</th>\n",
       "      <th>bdu_spalio</th>\n",
       "      <th>profesija</th>\n",
       "    </tr>\n",
       "  </thead>\n",
       "  <tbody>\n",
       "    <tr>\n",
       "      <th>1</th>\n",
       "      <td>F</td>\n",
       "      <td>G2</td>\n",
       "      <td>20-29</td>\n",
       "      <td>6.00</td>\n",
       "      <td>334</td>\n",
       "    </tr>\n",
       "    <tr>\n",
       "      <th>2</th>\n",
       "      <td>F</td>\n",
       "      <td>G4</td>\n",
       "      <td>40-49</td>\n",
       "      <td>6.00</td>\n",
       "      <td>221</td>\n",
       "    </tr>\n",
       "    <tr>\n",
       "      <th>3</th>\n",
       "      <td>F</td>\n",
       "      <td>G4</td>\n",
       "      <td>30-39</td>\n",
       "      <td>6.00</td>\n",
       "      <td>332</td>\n",
       "    </tr>\n",
       "    <tr>\n",
       "      <th>7</th>\n",
       "      <td>F</td>\n",
       "      <td>G2</td>\n",
       "      <td>20-29</td>\n",
       "      <td>13.33</td>\n",
       "      <td>531</td>\n",
       "    </tr>\n",
       "    <tr>\n",
       "      <th>10</th>\n",
       "      <td>F</td>\n",
       "      <td>G3</td>\n",
       "      <td>40-49</td>\n",
       "      <td>10.00</td>\n",
       "      <td>334</td>\n",
       "    </tr>\n",
       "  </tbody>\n",
       "</table>\n",
       "</div>"
      ],
      "text/plain": [
       "   lytis issilavinimas amzius  bdu_spalio  profesija\n",
       "1      F            G2  20-29        6.00        334\n",
       "2      F            G4  40-49        6.00        221\n",
       "3      F            G4  30-39        6.00        332\n",
       "7      F            G2  20-29       13.33        531\n",
       "10     F            G3  40-49       10.00        334"
      ]
     },
     "execution_count": 31,
     "metadata": {},
     "output_type": "execute_result"
    }
   ],
   "source": [
    "df_f = df[df['lytis'] == 'F']\n",
    "df_f.head()"
   ]
  },
  {
   "cell_type": "code",
   "execution_count": 32,
   "metadata": {},
   "outputs": [
    {
     "data": {
      "text/html": [
       "<div>\n",
       "<style scoped>\n",
       "    .dataframe tbody tr th:only-of-type {\n",
       "        vertical-align: middle;\n",
       "    }\n",
       "\n",
       "    .dataframe tbody tr th {\n",
       "        vertical-align: top;\n",
       "    }\n",
       "\n",
       "    .dataframe thead th {\n",
       "        text-align: right;\n",
       "    }\n",
       "</style>\n",
       "<table border=\"1\" class=\"dataframe\">\n",
       "  <thead>\n",
       "    <tr style=\"text-align: right;\">\n",
       "      <th></th>\n",
       "      <th>lytis</th>\n",
       "      <th>issilavinimas</th>\n",
       "      <th>amzius</th>\n",
       "      <th>bdu_spalio</th>\n",
       "      <th>profesija</th>\n",
       "    </tr>\n",
       "  </thead>\n",
       "  <tbody>\n",
       "    <tr>\n",
       "      <th>2</th>\n",
       "      <td>F</td>\n",
       "      <td>G4</td>\n",
       "      <td>40-49</td>\n",
       "      <td>6.00</td>\n",
       "      <td>221</td>\n",
       "    </tr>\n",
       "    <tr>\n",
       "      <th>3</th>\n",
       "      <td>F</td>\n",
       "      <td>G4</td>\n",
       "      <td>30-39</td>\n",
       "      <td>6.00</td>\n",
       "      <td>332</td>\n",
       "    </tr>\n",
       "    <tr>\n",
       "      <th>12</th>\n",
       "      <td>F</td>\n",
       "      <td>G4</td>\n",
       "      <td>30-39</td>\n",
       "      <td>6.00</td>\n",
       "      <td>241</td>\n",
       "    </tr>\n",
       "    <tr>\n",
       "      <th>14</th>\n",
       "      <td>F</td>\n",
       "      <td>G4</td>\n",
       "      <td>50-59</td>\n",
       "      <td>17.00</td>\n",
       "      <td>263</td>\n",
       "    </tr>\n",
       "    <tr>\n",
       "      <th>34</th>\n",
       "      <td>F</td>\n",
       "      <td>G4</td>\n",
       "      <td>40-49</td>\n",
       "      <td>9.67</td>\n",
       "      <td>121</td>\n",
       "    </tr>\n",
       "  </tbody>\n",
       "</table>\n",
       "</div>"
      ],
      "text/plain": [
       "   lytis issilavinimas amzius  bdu_spalio  profesija\n",
       "2      F            G4  40-49        6.00        221\n",
       "3      F            G4  30-39        6.00        332\n",
       "12     F            G4  30-39        6.00        241\n",
       "14     F            G4  50-59       17.00        263\n",
       "34     F            G4  40-49        9.67        121"
      ]
     },
     "execution_count": 32,
     "metadata": {},
     "output_type": "execute_result"
    }
   ],
   "source": [
    "df_f =df[(df['lytis'] == 'F') & (df['issilavinimas'] == 'G4')]\n",
    "df_f.head()"
   ]
  },
  {
   "cell_type": "code",
   "execution_count": 33,
   "metadata": {},
   "outputs": [
    {
     "data": {
      "text/plain": [
       "np.float64(2691.835)"
      ]
     },
     "execution_count": 33,
     "metadata": {},
     "output_type": "execute_result"
    }
   ],
   "source": [
    "df_f['bdu_spalio'].median()"
   ]
  },
  {
   "cell_type": "code",
   "execution_count": 34,
   "metadata": {},
   "outputs": [
    {
     "data": {
      "text/plain": [
       "np.float64(3039.6705276946113)"
      ]
     },
     "execution_count": 34,
     "metadata": {},
     "output_type": "execute_result"
    }
   ],
   "source": [
    "df_f['bdu_spalio'].mean()"
   ]
  },
  {
   "cell_type": "code",
   "execution_count": 35,
   "metadata": {},
   "outputs": [
    {
     "data": {
      "text/plain": [
       "np.float64(27242.67)"
      ]
     },
     "execution_count": 35,
     "metadata": {},
     "output_type": "execute_result"
    }
   ],
   "source": [
    "df_f['bdu_spalio'].max()"
   ]
  },
  {
   "cell_type": "code",
   "execution_count": 36,
   "metadata": {},
   "outputs": [
    {
     "data": {
      "text/html": [
       "<div>\n",
       "<style scoped>\n",
       "    .dataframe tbody tr th:only-of-type {\n",
       "        vertical-align: middle;\n",
       "    }\n",
       "\n",
       "    .dataframe tbody tr th {\n",
       "        vertical-align: top;\n",
       "    }\n",
       "\n",
       "    .dataframe thead th {\n",
       "        text-align: right;\n",
       "    }\n",
       "</style>\n",
       "<table border=\"1\" class=\"dataframe\">\n",
       "  <thead>\n",
       "    <tr style=\"text-align: right;\">\n",
       "      <th></th>\n",
       "      <th>lytis</th>\n",
       "      <th>issilavinimas</th>\n",
       "      <th>amzius</th>\n",
       "      <th>bdu_spalio</th>\n",
       "      <th>profesija</th>\n",
       "    </tr>\n",
       "  </thead>\n",
       "  <tbody>\n",
       "    <tr>\n",
       "      <th>1</th>\n",
       "      <td>F</td>\n",
       "      <td>G2</td>\n",
       "      <td>20-29</td>\n",
       "      <td>6.00</td>\n",
       "      <td>334</td>\n",
       "    </tr>\n",
       "    <tr>\n",
       "      <th>2</th>\n",
       "      <td>F</td>\n",
       "      <td>G4</td>\n",
       "      <td>40-49</td>\n",
       "      <td>6.00</td>\n",
       "      <td>221</td>\n",
       "    </tr>\n",
       "    <tr>\n",
       "      <th>3</th>\n",
       "      <td>F</td>\n",
       "      <td>G4</td>\n",
       "      <td>30-39</td>\n",
       "      <td>6.00</td>\n",
       "      <td>332</td>\n",
       "    </tr>\n",
       "    <tr>\n",
       "      <th>7</th>\n",
       "      <td>F</td>\n",
       "      <td>G2</td>\n",
       "      <td>20-29</td>\n",
       "      <td>13.33</td>\n",
       "      <td>531</td>\n",
       "    </tr>\n",
       "    <tr>\n",
       "      <th>10</th>\n",
       "      <td>F</td>\n",
       "      <td>G3</td>\n",
       "      <td>40-49</td>\n",
       "      <td>10.00</td>\n",
       "      <td>334</td>\n",
       "    </tr>\n",
       "    <tr>\n",
       "      <th>...</th>\n",
       "      <td>...</td>\n",
       "      <td>...</td>\n",
       "      <td>...</td>\n",
       "      <td>...</td>\n",
       "      <td>...</td>\n",
       "    </tr>\n",
       "    <tr>\n",
       "      <th>44947</th>\n",
       "      <td>F</td>\n",
       "      <td>G4</td>\n",
       "      <td>50-59</td>\n",
       "      <td>3393.00</td>\n",
       "      <td>235</td>\n",
       "    </tr>\n",
       "    <tr>\n",
       "      <th>44948</th>\n",
       "      <td>F</td>\n",
       "      <td>G4</td>\n",
       "      <td>30-39</td>\n",
       "      <td>3639.67</td>\n",
       "      <td>233</td>\n",
       "    </tr>\n",
       "    <tr>\n",
       "      <th>44949</th>\n",
       "      <td>F</td>\n",
       "      <td>G4</td>\n",
       "      <td>50-59</td>\n",
       "      <td>3670.00</td>\n",
       "      <td>231</td>\n",
       "    </tr>\n",
       "    <tr>\n",
       "      <th>44950</th>\n",
       "      <td>F</td>\n",
       "      <td>G4</td>\n",
       "      <td>30-39</td>\n",
       "      <td>4212.00</td>\n",
       "      <td>231</td>\n",
       "    </tr>\n",
       "    <tr>\n",
       "      <th>44951</th>\n",
       "      <td>F</td>\n",
       "      <td>G4</td>\n",
       "      <td>40-49</td>\n",
       "      <td>4218.00</td>\n",
       "      <td>231</td>\n",
       "    </tr>\n",
       "  </tbody>\n",
       "</table>\n",
       "<p>22366 rows × 5 columns</p>\n",
       "</div>"
      ],
      "text/plain": [
       "      lytis issilavinimas amzius  bdu_spalio  profesija\n",
       "1         F            G2  20-29        6.00        334\n",
       "2         F            G4  40-49        6.00        221\n",
       "3         F            G4  30-39        6.00        332\n",
       "7         F            G2  20-29       13.33        531\n",
       "10        F            G3  40-49       10.00        334\n",
       "...     ...           ...    ...         ...        ...\n",
       "44947     F            G4  50-59     3393.00        235\n",
       "44948     F            G4  30-39     3639.67        233\n",
       "44949     F            G4  50-59     3670.00        231\n",
       "44950     F            G4  30-39     4212.00        231\n",
       "44951     F            G4  40-49     4218.00        231\n",
       "\n",
       "[22366 rows x 5 columns]"
      ]
     },
     "execution_count": 36,
     "metadata": {},
     "output_type": "execute_result"
    }
   ],
   "source": [
    "df.query(expr='lytis == \"F\"')"
   ]
  },
  {
   "cell_type": "code",
   "execution_count": 37,
   "metadata": {},
   "outputs": [
    {
     "data": {
      "text/html": [
       "<div>\n",
       "<style scoped>\n",
       "    .dataframe tbody tr th:only-of-type {\n",
       "        vertical-align: middle;\n",
       "    }\n",
       "\n",
       "    .dataframe tbody tr th {\n",
       "        vertical-align: top;\n",
       "    }\n",
       "\n",
       "    .dataframe thead th {\n",
       "        text-align: right;\n",
       "    }\n",
       "</style>\n",
       "<table border=\"1\" class=\"dataframe\">\n",
       "  <thead>\n",
       "    <tr style=\"text-align: right;\">\n",
       "      <th></th>\n",
       "      <th>lytis</th>\n",
       "      <th>issilavinimas</th>\n",
       "      <th>amzius</th>\n",
       "      <th>bdu_spalio</th>\n",
       "      <th>profesija</th>\n",
       "    </tr>\n",
       "  </thead>\n",
       "  <tbody>\n",
       "    <tr>\n",
       "      <th>2</th>\n",
       "      <td>F</td>\n",
       "      <td>G4</td>\n",
       "      <td>40-49</td>\n",
       "      <td>6.00</td>\n",
       "      <td>221</td>\n",
       "    </tr>\n",
       "    <tr>\n",
       "      <th>3</th>\n",
       "      <td>F</td>\n",
       "      <td>G4</td>\n",
       "      <td>30-39</td>\n",
       "      <td>6.00</td>\n",
       "      <td>332</td>\n",
       "    </tr>\n",
       "    <tr>\n",
       "      <th>12</th>\n",
       "      <td>F</td>\n",
       "      <td>G4</td>\n",
       "      <td>30-39</td>\n",
       "      <td>6.00</td>\n",
       "      <td>241</td>\n",
       "    </tr>\n",
       "    <tr>\n",
       "      <th>14</th>\n",
       "      <td>F</td>\n",
       "      <td>G4</td>\n",
       "      <td>50-59</td>\n",
       "      <td>17.00</td>\n",
       "      <td>263</td>\n",
       "    </tr>\n",
       "    <tr>\n",
       "      <th>34</th>\n",
       "      <td>F</td>\n",
       "      <td>G4</td>\n",
       "      <td>40-49</td>\n",
       "      <td>9.67</td>\n",
       "      <td>121</td>\n",
       "    </tr>\n",
       "    <tr>\n",
       "      <th>...</th>\n",
       "      <td>...</td>\n",
       "      <td>...</td>\n",
       "      <td>...</td>\n",
       "      <td>...</td>\n",
       "      <td>...</td>\n",
       "    </tr>\n",
       "    <tr>\n",
       "      <th>44947</th>\n",
       "      <td>F</td>\n",
       "      <td>G4</td>\n",
       "      <td>50-59</td>\n",
       "      <td>3393.00</td>\n",
       "      <td>235</td>\n",
       "    </tr>\n",
       "    <tr>\n",
       "      <th>44948</th>\n",
       "      <td>F</td>\n",
       "      <td>G4</td>\n",
       "      <td>30-39</td>\n",
       "      <td>3639.67</td>\n",
       "      <td>233</td>\n",
       "    </tr>\n",
       "    <tr>\n",
       "      <th>44949</th>\n",
       "      <td>F</td>\n",
       "      <td>G4</td>\n",
       "      <td>50-59</td>\n",
       "      <td>3670.00</td>\n",
       "      <td>231</td>\n",
       "    </tr>\n",
       "    <tr>\n",
       "      <th>44950</th>\n",
       "      <td>F</td>\n",
       "      <td>G4</td>\n",
       "      <td>30-39</td>\n",
       "      <td>4212.00</td>\n",
       "      <td>231</td>\n",
       "    </tr>\n",
       "    <tr>\n",
       "      <th>44951</th>\n",
       "      <td>F</td>\n",
       "      <td>G4</td>\n",
       "      <td>40-49</td>\n",
       "      <td>4218.00</td>\n",
       "      <td>231</td>\n",
       "    </tr>\n",
       "  </tbody>\n",
       "</table>\n",
       "<p>5344 rows × 5 columns</p>\n",
       "</div>"
      ],
      "text/plain": [
       "      lytis issilavinimas amzius  bdu_spalio  profesija\n",
       "2         F            G4  40-49        6.00        221\n",
       "3         F            G4  30-39        6.00        332\n",
       "12        F            G4  30-39        6.00        241\n",
       "14        F            G4  50-59       17.00        263\n",
       "34        F            G4  40-49        9.67        121\n",
       "...     ...           ...    ...         ...        ...\n",
       "44947     F            G4  50-59     3393.00        235\n",
       "44948     F            G4  30-39     3639.67        233\n",
       "44949     F            G4  50-59     3670.00        231\n",
       "44950     F            G4  30-39     4212.00        231\n",
       "44951     F            G4  40-49     4218.00        231\n",
       "\n",
       "[5344 rows x 5 columns]"
      ]
     },
     "execution_count": 37,
     "metadata": {},
     "output_type": "execute_result"
    }
   ],
   "source": [
    "df.query(expr='lytis == \"F\" and issilavinimas == \"G4\"')"
   ]
  },
  {
   "cell_type": "code",
   "execution_count": 39,
   "metadata": {},
   "outputs": [
    {
     "name": "stdout",
     "output_type": "stream",
     "text": [
      "      lytis issilavinimas amzius  bdu_spalio  profesija\n",
      "8         M            G1  20-29        6.67        912\n",
      "51        M            G1  20-29      160.33        962\n",
      "68        F            G1  30-39     1041.00        524\n",
      "70        M            G1  14-19     1061.00        752\n",
      "89        M            G1  40-49      418.67        932\n",
      "...     ...           ...    ...         ...        ...\n",
      "41133     M            G1  40-49     2978.00        541\n",
      "41204     M            G1  50-59     1781.00        821\n",
      "41247     F            G1  30-39     1267.67        322\n",
      "41478     F            G1  50-59     2135.67        222\n",
      "41509     F            G1  50-59     2144.00        322\n",
      "\n",
      "[1716 rows x 5 columns]\n",
      "      lytis issilavinimas amzius  bdu_spalio  profesija\n",
      "1         F            G2  20-29        6.00        334\n",
      "4         M            G2  40-49       11.33        962\n",
      "5         M            G2  30-39        6.00        122\n",
      "7         F            G2  20-29       13.33        531\n",
      "9         M            G2  40-49        6.00        332\n",
      "...     ...           ...    ...         ...        ...\n",
      "44880     M            G2    60+     2302.00        232\n",
      "44893     F            G2    60+     2686.00        232\n",
      "44905     M            G2  50-59     2892.67        232\n",
      "44917     F            G2  50-59     2227.67        232\n",
      "44928     F            G2    60+     2115.00        232\n",
      "\n",
      "[22059 rows x 5 columns]\n"
     ]
    }
   ],
   "source": [
    "edu = ['G1', 'G2']\n",
    "for e in edu:\n",
    "    print(df.query(expr = 'issilavinimas == @e'))"
   ]
  },
  {
   "cell_type": "code",
   "execution_count": 40,
   "metadata": {},
   "outputs": [
    {
     "data": {
      "text/html": [
       "<div>\n",
       "<style scoped>\n",
       "    .dataframe tbody tr th:only-of-type {\n",
       "        vertical-align: middle;\n",
       "    }\n",
       "\n",
       "    .dataframe tbody tr th {\n",
       "        vertical-align: top;\n",
       "    }\n",
       "\n",
       "    .dataframe thead th {\n",
       "        text-align: right;\n",
       "    }\n",
       "</style>\n",
       "<table border=\"1\" class=\"dataframe\">\n",
       "  <thead>\n",
       "    <tr style=\"text-align: right;\">\n",
       "      <th></th>\n",
       "      <th>lytis</th>\n",
       "      <th>issilavinimas</th>\n",
       "      <th>amzius</th>\n",
       "      <th>bdu_spalio</th>\n",
       "      <th>profesija</th>\n",
       "      <th>EUR</th>\n",
       "    </tr>\n",
       "  </thead>\n",
       "  <tbody>\n",
       "    <tr>\n",
       "      <th>0</th>\n",
       "      <td>M</td>\n",
       "      <td>G4</td>\n",
       "      <td>20-29</td>\n",
       "      <td>6.00</td>\n",
       "      <td>261</td>\n",
       "      <td>1.737720</td>\n",
       "    </tr>\n",
       "    <tr>\n",
       "      <th>1</th>\n",
       "      <td>F</td>\n",
       "      <td>G2</td>\n",
       "      <td>20-29</td>\n",
       "      <td>6.00</td>\n",
       "      <td>334</td>\n",
       "      <td>1.737720</td>\n",
       "    </tr>\n",
       "    <tr>\n",
       "      <th>2</th>\n",
       "      <td>F</td>\n",
       "      <td>G4</td>\n",
       "      <td>40-49</td>\n",
       "      <td>6.00</td>\n",
       "      <td>221</td>\n",
       "      <td>1.737720</td>\n",
       "    </tr>\n",
       "    <tr>\n",
       "      <th>3</th>\n",
       "      <td>F</td>\n",
       "      <td>G4</td>\n",
       "      <td>30-39</td>\n",
       "      <td>6.00</td>\n",
       "      <td>332</td>\n",
       "      <td>1.737720</td>\n",
       "    </tr>\n",
       "    <tr>\n",
       "      <th>4</th>\n",
       "      <td>M</td>\n",
       "      <td>G2</td>\n",
       "      <td>40-49</td>\n",
       "      <td>11.33</td>\n",
       "      <td>962</td>\n",
       "      <td>3.281395</td>\n",
       "    </tr>\n",
       "  </tbody>\n",
       "</table>\n",
       "</div>"
      ],
      "text/plain": [
       "  lytis issilavinimas amzius  bdu_spalio  profesija       EUR\n",
       "0     M            G4  20-29        6.00        261  1.737720\n",
       "1     F            G2  20-29        6.00        334  1.737720\n",
       "2     F            G4  40-49        6.00        221  1.737720\n",
       "3     F            G4  30-39        6.00        332  1.737720\n",
       "4     M            G2  40-49       11.33        962  3.281395"
      ]
     },
     "execution_count": 40,
     "metadata": {},
     "output_type": "execute_result"
    }
   ],
   "source": [
    "df['EUR'] = df['bdu_spalio']/3.4528\n",
    "df.head()"
   ]
  },
  {
   "cell_type": "code",
   "execution_count": 67,
   "metadata": {},
   "outputs": [
    {
     "name": "stdout",
     "output_type": "stream",
     "text": [
      "G1   |1406.67|1256.50|Mot\n",
      "G2   |1571.05|1395.00|Mot\n",
      "G3   |2190.46|1974.00|Mot\n",
      "G4   |3039.67|2691.84|Mot\n",
      "G1   |1762.30|1485.66|Vyr\n",
      "G2   |2129.49|1884.00|Vyr\n",
      "G3   |2900.46|2500.00|Vyr\n",
      "G4   |4158.56|3400.00|Vyr\n"
     ]
    }
   ],
   "source": [
    "# Išssilavinimo pakopos yra G1,G2,G3 ir G4. Parašykite ciklą, \n",
    "# kuris išspausdintų pakopos kodą ir spalio atlyginų medianą \n",
    "# bei vidurkį, atskirai vyrams, atskirai moterims.\n",
    "df = df14[['lytis','issilavinimas','amzius', 'bdu_spalio', 'profesija']]\n",
    "lytis = list(set(df14['lytis'].values))\n",
    "issilavinimas = list(set(df14['issilavinimas'].values))\n",
    "\n",
    "\n",
    "for l in lytis:\n",
    "    for i in issilavinimas:\n",
    "        if l == 'F':\n",
    "            lyt = \"Mot\"\n",
    "        else:\n",
    "            lyt = \"Vyr\"\n",
    "        x = df.query(expr = 'issilavinimas == @i and lytis == @l')\n",
    "        median = x['bdu_spalio'].median()\n",
    "        mean = x['bdu_spalio'].mean()\n",
    "        print(f'{i:5}|{mean:^6.2f}|{median:^6.2f}|{lyt}')\n"
   ]
  },
  {
   "cell_type": "code",
   "execution_count": 72,
   "metadata": {},
   "outputs": [
    {
     "name": "stdout",
     "output_type": "stream",
     "text": [
      "M 22586\n",
      "F 22366\n"
     ]
    },
    {
     "data": {
      "image/png": "[encoded data removed]",
      "text/plain": [
       "<Figure size 640x480 with 1 Axes>"
      ]
     },
     "metadata": {},
     "output_type": "display_data"
    }
   ],
   "source": [
    "# value.counts()\n",
    "c = df['lytis'].value_counts()\n",
    "lytys = c.index\n",
    "kiekiai = c.values\n",
    "\n",
    "for li, ci in zip (lytys, kiekiai):\n",
    "    print(li,ci)\n",
    "\n",
    "plt.pie(x=kiekiai, labels=lytys, autopct='%.2f%%')\n",
    "plt.show()\n",
    "\n",
    "\n",
    "#parasykime cikla, kuris surastu kiek vyru ir moteru dalyvavo apklausoje\n",
    "# atvaizduokite procentiskai su pie plot tai\n"
   ]
  },
  {
   "cell_type": "code",
   "execution_count": 78,
   "metadata": {},
   "outputs": [
    {
     "name": "stdout",
     "output_type": "stream",
     "text": [
      "['G1', 'G2', 'G3', 'G4']\n",
      "G1 1639.1983275058276\n",
      "G2 1877.952304728229\n",
      "G3 2521.961990474626\n",
      "G4 3494.114123791532\n"
     ]
    }
   ],
   "source": [
    "edus = df['issilavinimas'].value_counts().sort_index(ascending=True).index.to_list() #sort_index rusiuoja pagal indeksa, index paima indeksus, to_list() konvertuoja i sarasa\n",
    "print(edus)\n",
    "\n",
    "for e in edus:\n",
    "    d = df.query('issilavinimas == @e')['bdu_spalio'].mean()\n",
    "    print(e,d)"
   ]
  },
  {
   "cell_type": "code",
   "execution_count": 7,
   "metadata": {},
   "outputs": [
    {
     "name": "stdout",
     "output_type": "stream",
     "text": [
      "14-19|361.95|351.31| 10.64\n",
      "20-29|608.50|533.77| 74.74\n",
      "30-39|795.91|651.07|144.84\n",
      "40-49|700.62|560.41|140.20\n",
      "50-59|666.76|543.09|123.68\n",
      " 60+ |626.85|512.77|114.08\n"
     ]
    }
   ],
   "source": [
    "# Parašykite ciklą, kuris surašytų atlyginimų vidurkius bei medianas\n",
    "# pagal amžiaus grupes (2014 metams, eurais)\n",
    "# amžiaus grupes gaukite naudodamiesi value_counts()\n",
    "# tvarkingesniam atvaizdavimui pasinaudokite f-strings\n",
    "# išvestyje pridėkite dar ir skirtumą tarp vidurkio ir medianos (vidurkis-mediana)\n",
    "edus = df['amzius'].value_counts().sort_index(ascending=True).index.to_list()\n",
    "for e in edus:\n",
    "    eurmean = df.query('amzius == @e')['bdu_spalio'].mean()/3.4528\n",
    "    eurmedian = df.query('amzius == @e')['bdu_spalio'].median()/3.4528\n",
    "    print(f\"{e:^5}|{eurmean:^6.2f}|{eurmedian:^6.2f}|{(eurmean-eurmedian):6.2f}\")"
   ]
  },
  {
   "cell_type": "code",
   "execution_count": 8,
   "metadata": {},
   "outputs": [
    {
     "name": "stdout",
     "output_type": "stream",
     "text": [
      "M 22586\n",
      "F 22366\n"
     ]
    },
    {
     "data": {
      "image/png": "[encoded data removed]",
      "text/plain": [
       "<Figure size 640x480 with 1 Axes>"
      ]
     },
     "metadata": {},
     "output_type": "display_data"
    }
   ],
   "source": [
    "# value_counts() ir pie plot:\n",
    "# kiek procentų buvo vyrų, moterų 2014 metais?\n",
    "c = df['lytis'].value_counts()\n",
    "lytys = c.index\n",
    "kiekiai = c.values\n",
    "plt.pie(x=kiekiai, labels=lytys, autopct='%.2f%%')\n",
    "plt.show()"
   ]
  },
  {
   "cell_type": "code",
   "execution_count": 38,
   "metadata": {},
   "outputs": [
    {
     "data": {
      "image/png": "[encoded data removed]",
      "text/plain": [
       "<Figure size 640x480 with 1 Axes>"
      ]
     },
     "metadata": {},
     "output_type": "display_data"
    }
   ],
   "source": [
    "# kiek procentų buvo iš kiekvienos amžiaus grupės?\n",
    "c = df['amzius'].value_counts()\n",
    "lytys = c.index\n",
    "kiekiai = c.values\n",
    "plt.pie(x=kiekiai, labels=lytys, autopct='%.2f%%')\n",
    "plt.show()"
   ]
  },
  {
   "cell_type": "code",
   "execution_count": 10,
   "metadata": {},
   "outputs": [
    {
     "data": {
      "image/png": "[encoded data removed]",
      "text/plain": [
       "<Figure size 640x480 with 1 Axes>"
      ]
     },
     "metadata": {},
     "output_type": "display_data"
    }
   ],
   "source": [
    "# kiek procentų buvo iš kiekvienos išsilavinimo pakopos?\n",
    "c = df['issilavinimas'].value_counts()\n",
    "issilavinimai = c.index\n",
    "kiekiai = c.values\n",
    "plt.pie(x=kiekiai, labels=issilavinimai, autopct='%.2f%%')\n",
    "plt.show()"
   ]
  },
  {
   "cell_type": "code",
   "execution_count": 30,
   "metadata": {},
   "outputs": [
    {
     "data": {
      "image/png": "[encoded data removed]",
      "text/plain": [
       "<Figure size 640x480 with 1 Axes>"
      ]
     },
     "metadata": {},
     "output_type": "display_data"
    }
   ],
   "source": [
    "# kiek respondentų buvo iš privataus (B) bei viešojo (A) sektoriaus? (stulpelis: nuosavybe)\n",
    "c = df14['nuosavybe'].value_counts()\n",
    "nuosavybes = c.index\n",
    "kiekiai = c.values\n",
    "plt.pie(x=kiekiai, labels=nuosavybes, autopct='%.2f%%')\n",
    "plt.show()"
   ]
  },
  {
   "cell_type": "code",
   "execution_count": 46,
   "metadata": {},
   "outputs": [
    {
     "data": {
      "image/png": "[encoded data removed]",
      "text/plain": [
       "<Figure size 640x480 with 1 Axes>"
      ]
     },
     "metadata": {},
     "output_type": "display_data"
    },
    {
     "data": {
      "image/png": "[encoded data removed]",
      "text/plain": [
       "<Figure size 640x480 with 1 Axes>"
      ]
     },
     "metadata": {},
     "output_type": "display_data"
    }
   ],
   "source": [
    "# kiek procentaliai buvo vyrų, moterų iš didelių, vidutinių, mažų įmonių? (Stulpelis im_dydis, \n",
    "c = df14[['im_dydis', 'lytis']].value_counts()\n",
    "dydziai = list(set(c.index))\n",
    "kiekiai = list(set(c.values))\n",
    "vyr_dydz =[]\n",
    "mot_dydz = []\n",
    "vyr_kiek = []\n",
    "mot_kiek = []\n",
    "for d, k in zip(dydziai,kiekiai):\n",
    "    if d[1] == 'F':\n",
    "        mot_dydz.append(d)\n",
    "        mot_kiek.append(k)\n",
    "    else:\n",
    "        vyr_dydz.append(d)\n",
    "        vyr_kiek.append(k)\n",
    "\n",
    "\n",
    "plt.pie(x=vyr_kiek, labels=vyr_dydz, autopct='%.2f%%')\n",
    "plt.show()\n",
    "plt.pie(x=mot_kiek, labels=mot_dydz, autopct='%.2f%%')\n",
    "plt.show()"
   ]
  }
 ],
 "metadata": {
  "kernelspec": {
   "display_name": "Python 3",
   "language": "python",
   "name": "python3"
  },
  "language_info": {
   "codemirror_mode": {
    "name": "ipython",
    "version": 3
   },
   "file_extension": ".py",
   "mimetype": "text/x-python",
   "name": "python",
   "nbconvert_exporter": "python",
   "pygments_lexer": "ipython3",
   "version": "3.12.4"
  }
 },
 "nbformat": 4,
 "nbformat_minor": 2
}
