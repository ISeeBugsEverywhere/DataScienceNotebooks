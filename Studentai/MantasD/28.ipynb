{
 "cells": [
  {
   "cell_type": "code",
   "execution_count": 1,
   "metadata": {},
   "outputs": [],
   "source": [
    "%reload_ext autoreload\n",
    "%autoreload 2"
   ]
  },
  {
   "cell_type": "code",
   "execution_count": 9,
   "metadata": {},
   "outputs": [],
   "source": [
    "import numpy as np\n",
    "from dateutil import parser\n",
    "import datetime\n",
    "import pandas as pd\n",
    "import matplotlib.pyplot as plt\n",
    "import warnings\n",
    "warnings.filterwarnings('ignore')\n",
    "import seaborn as sns\n",
    "import sqlite3\n",
    "import mysql.connector as cnt\n",
    "\n",
    "import glob\n",
    "# import plotly.express as px"
   ]
  },
  {
   "cell_type": "code",
   "execution_count": 227,
   "metadata": {},
   "outputs": [],
   "source": [
    "from manofunkcijos import *"
   ]
  },
  {
   "cell_type": "code",
   "execution_count": 256,
   "metadata": {},
   "outputs": [
    {
     "data": {
      "text/plain": [
       "['U[V]  priskirtas stulpeliui col_0',\n",
       " ' I[A]  priskirtas stulpeliui col_1',\n",
       " ' j[mA/cm^2]  priskirtas stulpeliui col_2',\n",
       " ' P[mW/cm^2]\\n priskirtas stulpeliui col_3']"
      ]
     },
     "execution_count": 256,
     "metadata": {},
     "output_type": "execute_result"
    }
   ],
   "source": [
    "\n",
    "def col(fname, sep=';') -> None:\n",
    "    fname= fname\n",
    "    sep\n",
    "    __columns = []\n",
    "       \n",
    "        \n",
    "  \n",
    "    f = open(fname, mode='r', encoding='utf-8')\n",
    "    line = f.readline()\n",
    "    lines = f.readlines()\n",
    "    f.close()\n",
    "    names = line.split(sep)\n",
    "    n = len(names)\n",
    "    x = 0\n",
    "    for i in range(n):\n",
    "        globals()[f\"col_{i}\"] = []\n",
    "        __columns.append(f\"col_{i}\")\n",
    "        for line in lines[1:]:\n",
    "            r = line.split(';')\n",
    "            globals()[f\"col_{i}\"].append(r[x])\n",
    "        x = x + 1\n",
    "    pavadinimai = []\n",
    "    for a, b in zip(names, __columns):\n",
    "        pavadinimai.append(a+\" priskirtas stulpeliui \"+b)\n",
    "    return pavadinimai\n",
    "\n",
    "col('DATA/OOP_DATA\\\\REF_D_1k_FW_2.08.dat')\n",
    "\n"
   ]
  }
 ],
 "metadata": {
  "kernelspec": {
   "display_name": "Python 3",
   "language": "python",
   "name": "python3"
  },
  "language_info": {
   "codemirror_mode": {
    "name": "ipython",
    "version": 3
   },
   "file_extension": ".py",
   "mimetype": "text/x-python",
   "name": "python",
   "nbconvert_exporter": "python",
   "pygments_lexer": "ipython3",
   "version": "3.12.4"
  }
 },
 "nbformat": 4,
 "nbformat_minor": 2
}
