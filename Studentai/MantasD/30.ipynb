{
 "cells": [
  {
   "cell_type": "code",
   "execution_count": 1,
   "metadata": {},
   "outputs": [],
   "source": [
    "%reload_ext autoreload\n",
    "%autoreload 2"
   ]
  },
  {
   "cell_type": "code",
   "execution_count": 2,
   "metadata": {},
   "outputs": [],
   "source": [
    "import numpy as np\n",
    "from dateutil import parser\n",
    "import datetime\n",
    "import pandas as pd\n",
    "import matplotlib.pyplot as plt\n",
    "import warnings\n",
    "warnings.filterwarnings('ignore')\n",
    "import seaborn as sns\n",
    "import sqlite3\n",
    "import mysql.connector as cnt\n",
    "\n",
    "import glob\n",
    "# import plotly.express as px"
   ]
  },
  {
   "cell_type": "code",
   "execution_count": 4,
   "metadata": {},
   "outputs": [],
   "source": [
    "from manofunkcijos import *"
   ]
  },
  {
   "cell_type": "code",
   "execution_count": null,
   "metadata": {},
   "outputs": [],
   "source": [
    "# pip install pandas"
   ]
  },
  {
   "cell_type": "code",
   "execution_count": 3,
   "metadata": {},
   "outputs": [],
   "source": [
    "# default importai nuo šiandien\n",
    "import pandas as pd\n",
    "import numpy as np\n",
    "import matplotlib.pyplot as plt\n",
    "import mysql.connector as cnt"
   ]
  },
  {
   "cell_type": "code",
   "execution_count": 5,
   "metadata": {},
   "outputs": [
    {
     "name": "stdout",
     "output_type": "stream",
     "text": [
      "[1, 2, 3, 4, 5, 6]\n"
     ]
    }
   ],
   "source": [
    "a = [1,2,3]\n",
    "b = [4,5,6]\n",
    "c = a +b\n",
    "print(c)"
   ]
  },
  {
   "cell_type": "code",
   "execution_count": 7,
   "metadata": {},
   "outputs": [
    {
     "name": "stdout",
     "output_type": "stream",
     "text": [
      "[0 1 2 3 4]\n",
      "[0, 1, 2, 3, 4]\n",
      "<class 'numpy.ndarray'>\n",
      "<class 'list'>\n"
     ]
    }
   ],
   "source": [
    "# tolist() - konvertuoja numpy array į python sąrašą\n",
    "a = np.arange(0,5)\n",
    "a_py = a.tolist()\n",
    "print(a,a_py, type(a), type(a_py), sep = '\\n')"
   ]
  },
  {
   "cell_type": "code",
   "execution_count": 50,
   "metadata": {},
   "outputs": [
    {
     "data": {
      "image/png": "[encoded data removed]",
      "text/plain": [
       "<Figure size 800x450 with 1 Axes>"
      ]
     },
     "metadata": {},
     "output_type": "display_data"
    }
   ],
   "source": [
    "# map()\n",
    "times = np.random.randint(0,24,1000)\n",
    "\n",
    "# intervalai : 0-6 - naktis, 7-10 - rytas, 11-12 - priešpietė, 13-14-pietūs, 15-18-pavakarė, 19-22 - vakaras, 23 - 0 - naktis. \n",
    "# Parašykite funkciją, kuri iš times sąrašo verčių sugeneruotų tekstų (rytas, vakaras, popietė ... ) sąrašą. \n",
    "# Pritaikykite map(). Suskaičiuokite, kiek kartų pasikartojo atitinkami tekstai, atvaizduokite tai su bar arba barh.\n",
    "def dien_metas(i):\n",
    "    if i >= 0 and i<=6:\n",
    "        return 'Naktis'\n",
    "    elif i >= 7 and i<=10:\n",
    "        return 'Rytas'\n",
    "    elif i >= 11 and i<=12:\n",
    "        return 'Priešpietė'\n",
    "    elif i >= 13 and i<=14:\n",
    "        return 'Pietūs'\n",
    "    elif i >= 15 and i<=16:\n",
    "        return 'Pavakarė'\n",
    "    elif i >= 19 and i<=22:\n",
    "        return 'Vakaras'\n",
    "    else:\n",
    "        return 'Naktis'\n",
    "\n",
    "n = list(map(dien_metas,times))\n",
    "kint = list(set(list(map(dien_metas,times))))\n",
    "skaic = []\n",
    "for k in kint:\n",
    "    skaic.append(n.count(k))\n",
    "fig, axis = plt.subplots(figsize = [8,4.5])\n",
    "a = axis.bar(kint, skaic)\n",
    "axis.bar_label(a)\n",
    "axis.set_title('Valandos pagal dienos metą')\n",
    "plt.show()"
   ]
  },
  {
   "cell_type": "code",
   "execution_count": 42,
   "metadata": {},
   "outputs": [
    {
     "name": "stdout",
     "output_type": "stream",
     "text": [
      "['BMW', 'MIT', 'SEA', 'SKO', 'VOL', 'AUD', 'DAC', 'SKO', 'BMW', 'VOL', 'BMW', 'MER', 'FOR', 'BMW', 'BMW', 'MAZ', 'HYU', 'AUD', 'VOL', 'BMW', 'VOL', 'AUD', 'VOL', 'MER', 'VOL']\n"
     ]
    }
   ],
   "source": [
    "sar = ['BMW', 'Mitsubishi', 'Seat', 'Skoda', 'Volvo', 'Audi', 'Dacia', 'Skoda', 'BMW', 'Volkswagen', 'BMW', 'Mercedes-Benz', 'Ford', 'BMW', 'BMW', 'Mazda', 'Hyundai', 'Audi', 'Volvo', 'BMW', 'Volkswagen', 'Audi', 'Volkswagen', 'Mercedes-Benz', 'Volkswagen']\n",
    "# def didz(s):\n",
    "#     return s[0:3].upper()\n",
    "# ns = list(map(didz,sar))\n",
    "ns = list(map(lambda a: a[0:3].upper(),sar))\n",
    "print(ns)"
   ]
  }
 ],
 "metadata": {
  "kernelspec": {
   "display_name": "Python 3",
   "language": "python",
   "name": "python3"
  },
  "language_info": {
   "codemirror_mode": {
    "name": "ipython",
    "version": 3
   },
   "file_extension": ".py",
   "mimetype": "text/x-python",
   "name": "python",
   "nbconvert_exporter": "python",
   "pygments_lexer": "ipython3",
   "version": "3.12.4"
  }
 },
 "nbformat": 4,
 "nbformat_minor": 2
}
