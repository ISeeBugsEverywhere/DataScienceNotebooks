{
 "cells": [
  {
   "cell_type": "code",
   "execution_count": 81,
   "metadata": {},
   "outputs": [],
   "source": [
    "%reload_ext autoreload\n",
    "%autoreload 2"
   ]
  },
  {
   "cell_type": "code",
   "execution_count": 82,
   "metadata": {},
   "outputs": [],
   "source": [
    "import numpy as np\n",
    "from dateutil import parser\n",
    "import datetime\n",
    "import pandas as pd\n",
    "import matplotlib.pyplot as plt\n",
    "import warnings\n",
    "warnings.filterwarnings('ignore')\n",
    "import seaborn as sns\n",
    "import sqlite3\n",
    "import mysql.connector as cnt\n",
    "\n",
    "import glob\n",
    "# import plotly.express as px"
   ]
  },
  {
   "cell_type": "code",
   "execution_count": 83,
   "metadata": {},
   "outputs": [],
   "source": [
    "from manofunkcijos import *"
   ]
  },
  {
   "cell_type": "code",
   "execution_count": null,
   "metadata": {},
   "outputs": [],
   "source": [
    "# pip install pandas"
   ]
  },
  {
   "cell_type": "code",
   "execution_count": 84,
   "metadata": {},
   "outputs": [],
   "source": [
    "# default importai nuo šiandien\n",
    "import pandas as pd\n",
    "import numpy as np\n",
    "import matplotlib.pyplot as plt\n",
    "import mysql.connector as cnt"
   ]
  },
  {
   "cell_type": "code",
   "execution_count": 85,
   "metadata": {},
   "outputs": [
    {
     "name": "stdout",
     "output_type": "stream",
     "text": [
      "[1, 2, 3, 4, 5, 6]\n"
     ]
    }
   ],
   "source": [
    "a = [1,2,3]\n",
    "b = [4,5,6]\n",
    "c = a +b\n",
    "print(c)"
   ]
  },
  {
   "cell_type": "code",
   "execution_count": 86,
   "metadata": {},
   "outputs": [
    {
     "name": "stdout",
     "output_type": "stream",
     "text": [
      "[0 1 2 3 4]\n",
      "[0, 1, 2, 3, 4]\n",
      "<class 'numpy.ndarray'>\n",
      "<class 'list'>\n"
     ]
    }
   ],
   "source": [
    "# tolist() - konvertuoja numpy array į python sąrašą\n",
    "a = np.arange(0,5)\n",
    "a_py = a.tolist()\n",
    "print(a,a_py, type(a), type(a_py), sep = '\\n')"
   ]
  },
  {
   "cell_type": "code",
   "execution_count": 89,
   "metadata": {},
   "outputs": [
    {
     "ename": "TypeError",
     "evalue": "'value' must be an instance of str or bytes, not a None",
     "output_type": "error",
     "traceback": [
      "\u001b[1;31m---------------------------------------------------------------------------\u001b[0m",
      "\u001b[1;31mTypeError\u001b[0m                                 Traceback (most recent call last)",
      "Cell \u001b[1;32mIn[89], line 29\u001b[0m\n\u001b[0;32m     27\u001b[0m     skaic\u001b[38;5;241m.\u001b[39mappend(n\u001b[38;5;241m.\u001b[39mcount(k))\n\u001b[0;32m     28\u001b[0m fig, axis \u001b[38;5;241m=\u001b[39m plt\u001b[38;5;241m.\u001b[39msubplots(figsize \u001b[38;5;241m=\u001b[39m [\u001b[38;5;241m8\u001b[39m,\u001b[38;5;241m4.5\u001b[39m])\n\u001b[1;32m---> 29\u001b[0m a \u001b[38;5;241m=\u001b[39m \u001b[43maxis\u001b[49m\u001b[38;5;241;43m.\u001b[39;49m\u001b[43mbar\u001b[49m\u001b[43m(\u001b[49m\u001b[43mkint\u001b[49m\u001b[43m,\u001b[49m\u001b[43m \u001b[49m\u001b[43mskaic\u001b[49m\u001b[43m)\u001b[49m\n\u001b[0;32m     30\u001b[0m axis\u001b[38;5;241m.\u001b[39mbar_label(a)\n\u001b[0;32m     31\u001b[0m axis\u001b[38;5;241m.\u001b[39mset_title(\u001b[38;5;124m'\u001b[39m\u001b[38;5;124mValandos pagal dienos metą\u001b[39m\u001b[38;5;124m'\u001b[39m)\n",
      "File \u001b[1;32m~\\AppData\\Roaming\\Python\\Python312\\site-packages\\matplotlib\\__init__.py:1486\u001b[0m, in \u001b[0;36m_preprocess_data.<locals>.inner\u001b[1;34m(ax, data, *args, **kwargs)\u001b[0m\n\u001b[0;32m   1483\u001b[0m \u001b[38;5;129m@functools\u001b[39m\u001b[38;5;241m.\u001b[39mwraps(func)\n\u001b[0;32m   1484\u001b[0m \u001b[38;5;28;01mdef\u001b[39;00m \u001b[38;5;21minner\u001b[39m(ax, \u001b[38;5;241m*\u001b[39margs, data\u001b[38;5;241m=\u001b[39m\u001b[38;5;28;01mNone\u001b[39;00m, \u001b[38;5;241m*\u001b[39m\u001b[38;5;241m*\u001b[39mkwargs):\n\u001b[0;32m   1485\u001b[0m     \u001b[38;5;28;01mif\u001b[39;00m data \u001b[38;5;129;01mis\u001b[39;00m \u001b[38;5;28;01mNone\u001b[39;00m:\n\u001b[1;32m-> 1486\u001b[0m         \u001b[38;5;28;01mreturn\u001b[39;00m \u001b[43mfunc\u001b[49m\u001b[43m(\u001b[49m\n\u001b[0;32m   1487\u001b[0m \u001b[43m            \u001b[49m\u001b[43max\u001b[49m\u001b[43m,\u001b[49m\n\u001b[0;32m   1488\u001b[0m \u001b[43m            \u001b[49m\u001b[38;5;241;43m*\u001b[39;49m\u001b[38;5;28;43mmap\u001b[39;49m\u001b[43m(\u001b[49m\u001b[43msanitize_sequence\u001b[49m\u001b[43m,\u001b[49m\u001b[43m \u001b[49m\u001b[43margs\u001b[49m\u001b[43m)\u001b[49m\u001b[43m,\u001b[49m\n\u001b[0;32m   1489\u001b[0m \u001b[43m            \u001b[49m\u001b[38;5;241;43m*\u001b[39;49m\u001b[38;5;241;43m*\u001b[39;49m\u001b[43m{\u001b[49m\u001b[43mk\u001b[49m\u001b[43m:\u001b[49m\u001b[43m \u001b[49m\u001b[43msanitize_sequence\u001b[49m\u001b[43m(\u001b[49m\u001b[43mv\u001b[49m\u001b[43m)\u001b[49m\u001b[43m \u001b[49m\u001b[38;5;28;43;01mfor\u001b[39;49;00m\u001b[43m \u001b[49m\u001b[43mk\u001b[49m\u001b[43m,\u001b[49m\u001b[43m \u001b[49m\u001b[43mv\u001b[49m\u001b[43m \u001b[49m\u001b[38;5;129;43;01min\u001b[39;49;00m\u001b[43m \u001b[49m\u001b[43mkwargs\u001b[49m\u001b[38;5;241;43m.\u001b[39;49m\u001b[43mitems\u001b[49m\u001b[43m(\u001b[49m\u001b[43m)\u001b[49m\u001b[43m}\u001b[49m\u001b[43m)\u001b[49m\n\u001b[0;32m   1491\u001b[0m     bound \u001b[38;5;241m=\u001b[39m new_sig\u001b[38;5;241m.\u001b[39mbind(ax, \u001b[38;5;241m*\u001b[39margs, \u001b[38;5;241m*\u001b[39m\u001b[38;5;241m*\u001b[39mkwargs)\n\u001b[0;32m   1492\u001b[0m     auto_label \u001b[38;5;241m=\u001b[39m (bound\u001b[38;5;241m.\u001b[39marguments\u001b[38;5;241m.\u001b[39mget(label_namer)\n\u001b[0;32m   1493\u001b[0m                   \u001b[38;5;129;01mor\u001b[39;00m bound\u001b[38;5;241m.\u001b[39mkwargs\u001b[38;5;241m.\u001b[39mget(label_namer))\n",
      "File \u001b[1;32m~\\AppData\\Roaming\\Python\\Python312\\site-packages\\matplotlib\\axes\\_axes.py:2492\u001b[0m, in \u001b[0;36mAxes.bar\u001b[1;34m(self, x, height, width, bottom, align, **kwargs)\u001b[0m\n\u001b[0;32m   2486\u001b[0m         x \u001b[38;5;241m=\u001b[39m \u001b[38;5;241m0\u001b[39m\n\u001b[0;32m   2488\u001b[0m \u001b[38;5;28;01mif\u001b[39;00m orientation \u001b[38;5;241m==\u001b[39m \u001b[38;5;124m'\u001b[39m\u001b[38;5;124mvertical\u001b[39m\u001b[38;5;124m'\u001b[39m:\n\u001b[0;32m   2489\u001b[0m     \u001b[38;5;66;03m# It is possible for y (bottom) to contain unit information.\u001b[39;00m\n\u001b[0;32m   2490\u001b[0m     \u001b[38;5;66;03m# However, it is also possible for y=0 for the default and height\u001b[39;00m\n\u001b[0;32m   2491\u001b[0m     \u001b[38;5;66;03m# to contain unit information.  This will prioritize the units of y.\u001b[39;00m\n\u001b[1;32m-> 2492\u001b[0m     \u001b[38;5;28;43mself\u001b[39;49m\u001b[38;5;241;43m.\u001b[39;49m\u001b[43m_process_unit_info\u001b[49m\u001b[43m(\u001b[49m\n\u001b[0;32m   2493\u001b[0m \u001b[43m        \u001b[49m\u001b[43m[\u001b[49m\u001b[43m(\u001b[49m\u001b[38;5;124;43m\"\u001b[39;49m\u001b[38;5;124;43mx\u001b[39;49m\u001b[38;5;124;43m\"\u001b[39;49m\u001b[43m,\u001b[49m\u001b[43m \u001b[49m\u001b[43mx\u001b[49m\u001b[43m)\u001b[49m\u001b[43m,\u001b[49m\u001b[43m \u001b[49m\u001b[43m(\u001b[49m\u001b[38;5;124;43m\"\u001b[39;49m\u001b[38;5;124;43my\u001b[39;49m\u001b[38;5;124;43m\"\u001b[39;49m\u001b[43m,\u001b[49m\u001b[43m \u001b[49m\u001b[43my\u001b[49m\u001b[43m)\u001b[49m\u001b[43m,\u001b[49m\u001b[43m \u001b[49m\u001b[43m(\u001b[49m\u001b[38;5;124;43m\"\u001b[39;49m\u001b[38;5;124;43my\u001b[39;49m\u001b[38;5;124;43m\"\u001b[39;49m\u001b[43m,\u001b[49m\u001b[43m \u001b[49m\u001b[43mheight\u001b[49m\u001b[43m)\u001b[49m\u001b[43m]\u001b[49m\u001b[43m,\u001b[49m\u001b[43m \u001b[49m\u001b[43mkwargs\u001b[49m\u001b[43m,\u001b[49m\u001b[43m \u001b[49m\u001b[43mconvert\u001b[49m\u001b[38;5;241;43m=\u001b[39;49m\u001b[38;5;28;43;01mFalse\u001b[39;49;00m\u001b[43m)\u001b[49m\n\u001b[0;32m   2494\u001b[0m     \u001b[38;5;28;01mif\u001b[39;00m log:\n\u001b[0;32m   2495\u001b[0m         \u001b[38;5;28mself\u001b[39m\u001b[38;5;241m.\u001b[39mset_yscale(\u001b[38;5;124m'\u001b[39m\u001b[38;5;124mlog\u001b[39m\u001b[38;5;124m'\u001b[39m, nonpositive\u001b[38;5;241m=\u001b[39m\u001b[38;5;124m'\u001b[39m\u001b[38;5;124mclip\u001b[39m\u001b[38;5;124m'\u001b[39m)\n",
      "File \u001b[1;32m~\\AppData\\Roaming\\Python\\Python312\\site-packages\\matplotlib\\axes\\_base.py:2585\u001b[0m, in \u001b[0;36m_AxesBase._process_unit_info\u001b[1;34m(self, datasets, kwargs, convert)\u001b[0m\n\u001b[0;32m   2583\u001b[0m     \u001b[38;5;66;03m# Update from data if axis is already set but no unit is set yet.\u001b[39;00m\n\u001b[0;32m   2584\u001b[0m     \u001b[38;5;28;01mif\u001b[39;00m axis \u001b[38;5;129;01mis\u001b[39;00m \u001b[38;5;129;01mnot\u001b[39;00m \u001b[38;5;28;01mNone\u001b[39;00m \u001b[38;5;129;01mand\u001b[39;00m data \u001b[38;5;129;01mis\u001b[39;00m \u001b[38;5;129;01mnot\u001b[39;00m \u001b[38;5;28;01mNone\u001b[39;00m \u001b[38;5;129;01mand\u001b[39;00m \u001b[38;5;129;01mnot\u001b[39;00m axis\u001b[38;5;241m.\u001b[39mhave_units():\n\u001b[1;32m-> 2585\u001b[0m         \u001b[43maxis\u001b[49m\u001b[38;5;241;43m.\u001b[39;49m\u001b[43mupdate_units\u001b[49m\u001b[43m(\u001b[49m\u001b[43mdata\u001b[49m\u001b[43m)\u001b[49m\n\u001b[0;32m   2586\u001b[0m \u001b[38;5;28;01mfor\u001b[39;00m axis_name, axis \u001b[38;5;129;01min\u001b[39;00m axis_map\u001b[38;5;241m.\u001b[39mitems():\n\u001b[0;32m   2587\u001b[0m     \u001b[38;5;66;03m# Return if no axis is set.\u001b[39;00m\n\u001b[0;32m   2588\u001b[0m     \u001b[38;5;28;01mif\u001b[39;00m axis \u001b[38;5;129;01mis\u001b[39;00m \u001b[38;5;28;01mNone\u001b[39;00m:\n",
      "File \u001b[1;32m~\\AppData\\Roaming\\Python\\Python312\\site-packages\\matplotlib\\axis.py:1747\u001b[0m, in \u001b[0;36mAxis.update_units\u001b[1;34m(self, data)\u001b[0m\n\u001b[0;32m   1745\u001b[0m neednew \u001b[38;5;241m=\u001b[39m \u001b[38;5;28mself\u001b[39m\u001b[38;5;241m.\u001b[39mconverter \u001b[38;5;241m!=\u001b[39m converter\n\u001b[0;32m   1746\u001b[0m \u001b[38;5;28mself\u001b[39m\u001b[38;5;241m.\u001b[39mconverter \u001b[38;5;241m=\u001b[39m converter\n\u001b[1;32m-> 1747\u001b[0m default \u001b[38;5;241m=\u001b[39m \u001b[38;5;28;43mself\u001b[39;49m\u001b[38;5;241;43m.\u001b[39;49m\u001b[43mconverter\u001b[49m\u001b[38;5;241;43m.\u001b[39;49m\u001b[43mdefault_units\u001b[49m\u001b[43m(\u001b[49m\u001b[43mdata\u001b[49m\u001b[43m,\u001b[49m\u001b[43m \u001b[49m\u001b[38;5;28;43mself\u001b[39;49m\u001b[43m)\u001b[49m\n\u001b[0;32m   1748\u001b[0m \u001b[38;5;28;01mif\u001b[39;00m default \u001b[38;5;129;01mis\u001b[39;00m \u001b[38;5;129;01mnot\u001b[39;00m \u001b[38;5;28;01mNone\u001b[39;00m \u001b[38;5;129;01mand\u001b[39;00m \u001b[38;5;28mself\u001b[39m\u001b[38;5;241m.\u001b[39munits \u001b[38;5;129;01mis\u001b[39;00m \u001b[38;5;28;01mNone\u001b[39;00m:\n\u001b[0;32m   1749\u001b[0m     \u001b[38;5;28mself\u001b[39m\u001b[38;5;241m.\u001b[39mset_units(default)\n",
      "File \u001b[1;32m~\\AppData\\Roaming\\Python\\Python312\\site-packages\\matplotlib\\category.py:105\u001b[0m, in \u001b[0;36mStrCategoryConverter.default_units\u001b[1;34m(data, axis)\u001b[0m\n\u001b[0;32m    103\u001b[0m \u001b[38;5;66;03m# the conversion call stack is default_units -> axis_info -> convert\u001b[39;00m\n\u001b[0;32m    104\u001b[0m \u001b[38;5;28;01mif\u001b[39;00m axis\u001b[38;5;241m.\u001b[39munits \u001b[38;5;129;01mis\u001b[39;00m \u001b[38;5;28;01mNone\u001b[39;00m:\n\u001b[1;32m--> 105\u001b[0m     axis\u001b[38;5;241m.\u001b[39mset_units(\u001b[43mUnitData\u001b[49m\u001b[43m(\u001b[49m\u001b[43mdata\u001b[49m\u001b[43m)\u001b[49m)\n\u001b[0;32m    106\u001b[0m \u001b[38;5;28;01melse\u001b[39;00m:\n\u001b[0;32m    107\u001b[0m     axis\u001b[38;5;241m.\u001b[39munits\u001b[38;5;241m.\u001b[39mupdate(data)\n",
      "File \u001b[1;32m~\\AppData\\Roaming\\Python\\Python312\\site-packages\\matplotlib\\category.py:181\u001b[0m, in \u001b[0;36mUnitData.__init__\u001b[1;34m(self, data)\u001b[0m\n\u001b[0;32m    179\u001b[0m \u001b[38;5;28mself\u001b[39m\u001b[38;5;241m.\u001b[39m_counter \u001b[38;5;241m=\u001b[39m itertools\u001b[38;5;241m.\u001b[39mcount()\n\u001b[0;32m    180\u001b[0m \u001b[38;5;28;01mif\u001b[39;00m data \u001b[38;5;129;01mis\u001b[39;00m \u001b[38;5;129;01mnot\u001b[39;00m \u001b[38;5;28;01mNone\u001b[39;00m:\n\u001b[1;32m--> 181\u001b[0m     \u001b[38;5;28;43mself\u001b[39;49m\u001b[38;5;241;43m.\u001b[39;49m\u001b[43mupdate\u001b[49m\u001b[43m(\u001b[49m\u001b[43mdata\u001b[49m\u001b[43m)\u001b[49m\n",
      "File \u001b[1;32m~\\AppData\\Roaming\\Python\\Python312\\site-packages\\matplotlib\\category.py:216\u001b[0m, in \u001b[0;36mUnitData.update\u001b[1;34m(self, data)\u001b[0m\n\u001b[0;32m    213\u001b[0m convertible \u001b[38;5;241m=\u001b[39m \u001b[38;5;28;01mTrue\u001b[39;00m\n\u001b[0;32m    214\u001b[0m \u001b[38;5;28;01mfor\u001b[39;00m val \u001b[38;5;129;01min\u001b[39;00m OrderedDict\u001b[38;5;241m.\u001b[39mfromkeys(data):\n\u001b[0;32m    215\u001b[0m     \u001b[38;5;66;03m# OrderedDict just iterates over unique values in data.\u001b[39;00m\n\u001b[1;32m--> 216\u001b[0m     \u001b[43m_api\u001b[49m\u001b[38;5;241;43m.\u001b[39;49m\u001b[43mcheck_isinstance\u001b[49m\u001b[43m(\u001b[49m\u001b[43m(\u001b[49m\u001b[38;5;28;43mstr\u001b[39;49m\u001b[43m,\u001b[49m\u001b[43m \u001b[49m\u001b[38;5;28;43mbytes\u001b[39;49m\u001b[43m)\u001b[49m\u001b[43m,\u001b[49m\u001b[43m \u001b[49m\u001b[43mvalue\u001b[49m\u001b[38;5;241;43m=\u001b[39;49m\u001b[43mval\u001b[49m\u001b[43m)\u001b[49m\n\u001b[0;32m    217\u001b[0m     \u001b[38;5;28;01mif\u001b[39;00m convertible:\n\u001b[0;32m    218\u001b[0m         \u001b[38;5;66;03m# this will only be called so long as convertible is True.\u001b[39;00m\n\u001b[0;32m    219\u001b[0m         convertible \u001b[38;5;241m=\u001b[39m \u001b[38;5;28mself\u001b[39m\u001b[38;5;241m.\u001b[39m_str_is_convertible(val)\n",
      "File \u001b[1;32m~\\AppData\\Roaming\\Python\\Python312\\site-packages\\matplotlib\\_api\\__init__.py:91\u001b[0m, in \u001b[0;36mcheck_isinstance\u001b[1;34m(types, **kwargs)\u001b[0m\n\u001b[0;32m     89\u001b[0m     names\u001b[38;5;241m.\u001b[39mremove(\u001b[38;5;124m\"\u001b[39m\u001b[38;5;124mNone\u001b[39m\u001b[38;5;124m\"\u001b[39m)\n\u001b[0;32m     90\u001b[0m     names\u001b[38;5;241m.\u001b[39mappend(\u001b[38;5;124m\"\u001b[39m\u001b[38;5;124mNone\u001b[39m\u001b[38;5;124m\"\u001b[39m)\n\u001b[1;32m---> 91\u001b[0m \u001b[38;5;28;01mraise\u001b[39;00m \u001b[38;5;167;01mTypeError\u001b[39;00m(\n\u001b[0;32m     92\u001b[0m     \u001b[38;5;124m\"\u001b[39m\u001b[38;5;132;01m{!r}\u001b[39;00m\u001b[38;5;124m must be an instance of \u001b[39m\u001b[38;5;132;01m{}\u001b[39;00m\u001b[38;5;124m, not a \u001b[39m\u001b[38;5;132;01m{}\u001b[39;00m\u001b[38;5;124m\"\u001b[39m\u001b[38;5;241m.\u001b[39mformat(\n\u001b[0;32m     93\u001b[0m         k,\n\u001b[0;32m     94\u001b[0m         \u001b[38;5;124m\"\u001b[39m\u001b[38;5;124m, \u001b[39m\u001b[38;5;124m\"\u001b[39m\u001b[38;5;241m.\u001b[39mjoin(names[:\u001b[38;5;241m-\u001b[39m\u001b[38;5;241m1\u001b[39m]) \u001b[38;5;241m+\u001b[39m \u001b[38;5;124m\"\u001b[39m\u001b[38;5;124m or \u001b[39m\u001b[38;5;124m\"\u001b[39m \u001b[38;5;241m+\u001b[39m names[\u001b[38;5;241m-\u001b[39m\u001b[38;5;241m1\u001b[39m]\n\u001b[0;32m     95\u001b[0m         \u001b[38;5;28;01mif\u001b[39;00m \u001b[38;5;28mlen\u001b[39m(names) \u001b[38;5;241m>\u001b[39m \u001b[38;5;241m1\u001b[39m \u001b[38;5;28;01melse\u001b[39;00m names[\u001b[38;5;241m0\u001b[39m],\n\u001b[0;32m     96\u001b[0m         type_name(\u001b[38;5;28mtype\u001b[39m(v))))\n",
      "\u001b[1;31mTypeError\u001b[0m: 'value' must be an instance of str or bytes, not a None"
     ]
    },
    {
     "data": {
      "image/png": "[encoded data removed]",
      "text/plain": [
       "<Figure size 800x450 with 1 Axes>"
      ]
     },
     "metadata": {},
     "output_type": "display_data"
    }
   ],
   "source": [
    "# map()\n",
    "times = np.random.randint(0,24,1000)\n",
    "\n",
    "# intervalai : 0-6 - naktis, 7-10 - rytas, 11-12 - priešpietė, 13-14-pietūs, 15-18-pavakarė, 19-22 - vakaras, 23 - 0 - naktis. \n",
    "# Parašykite funkciją, kuri iš times sąrašo verčių sugeneruotų tekstų (rytas, vakaras, popietė ... ) sąrašą. \n",
    "# Pritaikykite map(). Suskaičiuokite, kiek kartų pasikartojo atitinkami tekstai, atvaizduokite tai su bar arba barh.\n",
    "def dien_metas(i):\n",
    "    if i >= 0 and i<=6:\n",
    "        return 'Naktis'\n",
    "    elif i >= 7 and i<=10:\n",
    "        return 'Rytas'\n",
    "    elif i >= 11 and i<=12:\n",
    "        return 'Priešpietė'\n",
    "    elif i >= 13 and i<=14:\n",
    "        return 'Pietūs'\n",
    "    elif i >= 15 and i<=16:\n",
    "        return 'Pavakarė'\n",
    "    elif i >= 19 and i<=22:\n",
    "        return 'Vakaras'\n",
    "    elif i == 23:\n",
    "        return 'Naktis'\n",
    "\n",
    "n = list(map(dien_metas,times))\n",
    "kint = list(set(list(map(dien_metas,times))))\n",
    "skaic = []\n",
    "for k in kint:\n",
    "    skaic.append(n.count(k))\n",
    "fig, axis = plt.subplots(figsize = [8,4.5])\n",
    "a = axis.bar(kint, skaic)\n",
    "axis.bar_label(a)\n",
    "axis.set_title('Valandos pagal dienos metą')\n",
    "plt.show()"
   ]
  },
  {
   "cell_type": "code",
   "execution_count": 90,
   "metadata": {},
   "outputs": [
    {
     "name": "stdout",
     "output_type": "stream",
     "text": [
      "['BMW', 'MIT', 'SEA', 'SKO', 'VOL', 'AUD', 'DAC', 'SKO', 'BMW', 'VOL', 'BMW', 'MER', 'FOR', 'BMW', 'BMW', 'MAZ', 'HYU', 'AUD', 'VOL', 'BMW', 'VOL', 'AUD', 'VOL', 'MER', 'VOL']\n"
     ]
    }
   ],
   "source": [
    "sar = ['BMW', 'Mitsubishi', 'Seat', 'Skoda', 'Volvo', 'Audi', 'Dacia', 'Skoda', 'BMW', 'Volkswagen', 'BMW', 'Mercedes-Benz', 'Ford', 'BMW', 'BMW', 'Mazda', 'Hyundai', 'Audi', 'Volvo', 'BMW', 'Volkswagen', 'Audi', 'Volkswagen', 'Mercedes-Benz', 'Volkswagen']\n",
    "# def didz(s):\n",
    "#     return s[0:3].upper()\n",
    "# ns = list(map(didz,sar))\n",
    "ns = list(map(lambda a: a[0:3].upper(),sar))\n",
    "print(ns)"
   ]
  },
  {
   "cell_type": "code",
   "execution_count": null,
   "metadata": {},
   "outputs": [],
   "source": [
    "# :simp - pagrindinių bibliotekų importavimas\n",
    "# :imp - daugelio bibliotekų importavimas\n",
    "# :cnt - prisijungimas prie DB\n",
    "# :sql - SQL nuskaitymas iš DB\n",
    "# :fig, :sfig - vieno grafiko kodas\n",
    "# :fig4h, :sfig4h - 4rių ašių kodas\n",
    "# :sfigh2, :figh2 - dviejų ašių horizontaliai braižymas\n",
    "# :warnings - išjungia įspėjimus UserWarning\n",
    "# :streamlit - streamlit projekto pradžia\n",
    "# :theme - nustato grafikų temą (stilių)\n",
    "# :bar - vienas bar'as su x ašyje esančiais label'iais\n",
    "# :bar2 - du bar'ai su x ašyje esančiais label'iais\n",
    "# :bar3 - stulpelinio (bar) grafiko braižymas, kai yra 3 skirtingi barai, x ašyje norima turėti labelius\n",
    "#: pdsql - sql užklausa per pandas sql_query"
   ]
  },
  {
   "cell_type": "code",
   "execution_count": 12,
   "metadata": {},
   "outputs": [],
   "source": [
    "import numpy as np\n",
    "import pandas as pd\n",
    "import matplotlib.pyplot as plt\n",
    "import warnings\n",
    "warnings.filterwarnings('ignore')\n",
    "import seaborn as sns\n",
    "import sqlite3\n",
    "import mysql.connector as cnt\n",
    "import plotly.express as px"
   ]
  },
  {
   "cell_type": "code",
   "execution_count": 11,
   "metadata": {},
   "outputs": [],
   "source": [
    "# pip install plotly seaborn"
   ]
  },
  {
   "cell_type": "code",
   "execution_count": 91,
   "metadata": {},
   "outputs": [
    {
     "data": {
      "text/html": [
       "<div>\n",
       "<style scoped>\n",
       "    .dataframe tbody tr th:only-of-type {\n",
       "        vertical-align: middle;\n",
       "    }\n",
       "\n",
       "    .dataframe tbody tr th {\n",
       "        vertical-align: top;\n",
       "    }\n",
       "\n",
       "    .dataframe thead th {\n",
       "        text-align: right;\n",
       "    }\n",
       "</style>\n",
       "<table border=\"1\" class=\"dataframe\">\n",
       "  <thead>\n",
       "    <tr style=\"text-align: right;\">\n",
       "      <th></th>\n",
       "      <th>DATA</th>\n",
       "      <th>BORO</th>\n",
       "      <th>STATISTICAL_MURDER_FLAG</th>\n",
       "    </tr>\n",
       "  </thead>\n",
       "  <tbody>\n",
       "    <tr>\n",
       "      <th>0</th>\n",
       "      <td>2021-03-30 23:45:00</td>\n",
       "      <td>QUEENS</td>\n",
       "      <td>False</td>\n",
       "    </tr>\n",
       "    <tr>\n",
       "      <th>1</th>\n",
       "      <td>2021-03-30 16:20:00</td>\n",
       "      <td>BROOKLYN</td>\n",
       "      <td>False</td>\n",
       "    </tr>\n",
       "  </tbody>\n",
       "</table>\n",
       "</div>"
      ],
      "text/plain": [
       "                 DATA      BORO  STATISTICAL_MURDER_FLAG\n",
       "0 2021-03-30 23:45:00    QUEENS                    False\n",
       "1 2021-03-30 16:20:00  BROOKLYN                    False"
      ]
     },
     "execution_count": 91,
     "metadata": {},
     "output_type": "execute_result"
    }
   ],
   "source": [
    "nypd = pd.read_csv('DATA/NYPD.csv', parse_dates={'DATA':['OCCUR_DATE', 'OCCUR_TIME']})[['DATA', 'BORO', 'STATISTICAL_MURDER_FLAG']]\n",
    "nypd.head(2)"
   ]
  },
  {
   "cell_type": "code",
   "execution_count": 92,
   "metadata": {},
   "outputs": [
    {
     "data": {
      "text/html": [
       "<div>\n",
       "<style scoped>\n",
       "    .dataframe tbody tr th:only-of-type {\n",
       "        vertical-align: middle;\n",
       "    }\n",
       "\n",
       "    .dataframe tbody tr th {\n",
       "        vertical-align: top;\n",
       "    }\n",
       "\n",
       "    .dataframe thead th {\n",
       "        text-align: right;\n",
       "    }\n",
       "</style>\n",
       "<table border=\"1\" class=\"dataframe\">\n",
       "  <thead>\n",
       "    <tr style=\"text-align: right;\">\n",
       "      <th></th>\n",
       "      <th>lytis</th>\n",
       "      <th>issilavinimas</th>\n",
       "      <th>amzius</th>\n",
       "      <th>bdu_spalio</th>\n",
       "    </tr>\n",
       "  </thead>\n",
       "  <tbody>\n",
       "    <tr>\n",
       "      <th>0</th>\n",
       "      <td>M</td>\n",
       "      <td>G4</td>\n",
       "      <td>20-29</td>\n",
       "      <td>6.0</td>\n",
       "    </tr>\n",
       "    <tr>\n",
       "      <th>1</th>\n",
       "      <td>F</td>\n",
       "      <td>G2</td>\n",
       "      <td>20-29</td>\n",
       "      <td>6.0</td>\n",
       "    </tr>\n",
       "  </tbody>\n",
       "</table>\n",
       "</div>"
      ],
      "text/plain": [
       "  lytis issilavinimas amzius  bdu_spalio\n",
       "0     M            G4  20-29         6.0\n",
       "1     F            G2  20-29         6.0"
      ]
     },
     "execution_count": 92,
     "metadata": {},
     "output_type": "execute_result"
    }
   ],
   "source": [
    "d14 = pd.read_csv('DATA/DUS2014.csv')[['lytis', 'issilavinimas', 'amzius', 'bdu_spalio']]\n",
    "d14.head(2)"
   ]
  },
  {
   "cell_type": "code",
   "execution_count": 93,
   "metadata": {},
   "outputs": [
    {
     "data": {
      "text/html": [
       "<div>\n",
       "<style scoped>\n",
       "    .dataframe tbody tr th:only-of-type {\n",
       "        vertical-align: middle;\n",
       "    }\n",
       "\n",
       "    .dataframe tbody tr th {\n",
       "        vertical-align: top;\n",
       "    }\n",
       "\n",
       "    .dataframe thead th {\n",
       "        text-align: right;\n",
       "    }\n",
       "</style>\n",
       "<table border=\"1\" class=\"dataframe\">\n",
       "  <thead>\n",
       "    <tr style=\"text-align: right;\">\n",
       "      <th></th>\n",
       "      <th>lytis</th>\n",
       "      <th>issilavinimas</th>\n",
       "      <th>amzius</th>\n",
       "      <th>bdu_spalio</th>\n",
       "      <th>€</th>\n",
       "    </tr>\n",
       "  </thead>\n",
       "  <tbody>\n",
       "    <tr>\n",
       "      <th>0</th>\n",
       "      <td>M</td>\n",
       "      <td>G4</td>\n",
       "      <td>20-29</td>\n",
       "      <td>6.00</td>\n",
       "      <td>1.737720</td>\n",
       "    </tr>\n",
       "    <tr>\n",
       "      <th>1</th>\n",
       "      <td>F</td>\n",
       "      <td>G2</td>\n",
       "      <td>20-29</td>\n",
       "      <td>6.00</td>\n",
       "      <td>1.737720</td>\n",
       "    </tr>\n",
       "    <tr>\n",
       "      <th>2</th>\n",
       "      <td>F</td>\n",
       "      <td>G4</td>\n",
       "      <td>40-49</td>\n",
       "      <td>6.00</td>\n",
       "      <td>1.737720</td>\n",
       "    </tr>\n",
       "    <tr>\n",
       "      <th>3</th>\n",
       "      <td>F</td>\n",
       "      <td>G4</td>\n",
       "      <td>30-39</td>\n",
       "      <td>6.00</td>\n",
       "      <td>1.737720</td>\n",
       "    </tr>\n",
       "    <tr>\n",
       "      <th>4</th>\n",
       "      <td>M</td>\n",
       "      <td>G2</td>\n",
       "      <td>40-49</td>\n",
       "      <td>11.33</td>\n",
       "      <td>3.281395</td>\n",
       "    </tr>\n",
       "  </tbody>\n",
       "</table>\n",
       "</div>"
      ],
      "text/plain": [
       "  lytis issilavinimas amzius  bdu_spalio         €\n",
       "0     M            G4  20-29        6.00  1.737720\n",
       "1     F            G2  20-29        6.00  1.737720\n",
       "2     F            G4  40-49        6.00  1.737720\n",
       "3     F            G4  30-39        6.00  1.737720\n",
       "4     M            G2  40-49       11.33  3.281395"
      ]
     },
     "execution_count": 93,
     "metadata": {},
     "output_type": "execute_result"
    }
   ],
   "source": [
    "# .apply()\n",
    "\n",
    "def c(x):\n",
    "    return x/3.4528\n",
    "\n",
    "d14['€'] = d14['bdu_spalio'].apply(c)\n",
    "\n",
    "d14.head(5)"
   ]
  },
  {
   "cell_type": "code",
   "execution_count": 94,
   "metadata": {},
   "outputs": [
    {
     "data": {
      "text/html": [
       "<div>\n",
       "<style scoped>\n",
       "    .dataframe tbody tr th:only-of-type {\n",
       "        vertical-align: middle;\n",
       "    }\n",
       "\n",
       "    .dataframe tbody tr th {\n",
       "        vertical-align: top;\n",
       "    }\n",
       "\n",
       "    .dataframe thead th {\n",
       "        text-align: right;\n",
       "    }\n",
       "</style>\n",
       "<table border=\"1\" class=\"dataframe\">\n",
       "  <thead>\n",
       "    <tr style=\"text-align: right;\">\n",
       "      <th></th>\n",
       "      <th>lytis</th>\n",
       "      <th>issilavinimas</th>\n",
       "      <th>amzius</th>\n",
       "      <th>bdu_spalio</th>\n",
       "      <th>€</th>\n",
       "      <th>€copy</th>\n",
       "    </tr>\n",
       "  </thead>\n",
       "  <tbody>\n",
       "    <tr>\n",
       "      <th>0</th>\n",
       "      <td>M</td>\n",
       "      <td>G4</td>\n",
       "      <td>20-29</td>\n",
       "      <td>6.00</td>\n",
       "      <td>1.737720</td>\n",
       "      <td>1.737720</td>\n",
       "    </tr>\n",
       "    <tr>\n",
       "      <th>1</th>\n",
       "      <td>F</td>\n",
       "      <td>G2</td>\n",
       "      <td>20-29</td>\n",
       "      <td>6.00</td>\n",
       "      <td>1.737720</td>\n",
       "      <td>1.737720</td>\n",
       "    </tr>\n",
       "    <tr>\n",
       "      <th>2</th>\n",
       "      <td>F</td>\n",
       "      <td>G4</td>\n",
       "      <td>40-49</td>\n",
       "      <td>6.00</td>\n",
       "      <td>1.737720</td>\n",
       "      <td>1.737720</td>\n",
       "    </tr>\n",
       "    <tr>\n",
       "      <th>3</th>\n",
       "      <td>F</td>\n",
       "      <td>G4</td>\n",
       "      <td>30-39</td>\n",
       "      <td>6.00</td>\n",
       "      <td>1.737720</td>\n",
       "      <td>1.737720</td>\n",
       "    </tr>\n",
       "    <tr>\n",
       "      <th>4</th>\n",
       "      <td>M</td>\n",
       "      <td>G2</td>\n",
       "      <td>40-49</td>\n",
       "      <td>11.33</td>\n",
       "      <td>3.281395</td>\n",
       "      <td>3.281395</td>\n",
       "    </tr>\n",
       "  </tbody>\n",
       "</table>\n",
       "</div>"
      ],
      "text/plain": [
       "  lytis issilavinimas amzius  bdu_spalio         €     €copy\n",
       "0     M            G4  20-29        6.00  1.737720  1.737720\n",
       "1     F            G2  20-29        6.00  1.737720  1.737720\n",
       "2     F            G4  40-49        6.00  1.737720  1.737720\n",
       "3     F            G4  30-39        6.00  1.737720  1.737720\n",
       "4     M            G2  40-49       11.33  3.281395  3.281395"
      ]
     },
     "execution_count": 94,
     "metadata": {},
     "output_type": "execute_result"
    }
   ],
   "source": [
    "d14['€copy'] = d14['bdu_spalio'].apply(lambda x: x/3.4528)\n",
    "d14.head(5)"
   ]
  },
  {
   "cell_type": "code",
   "execution_count": 95,
   "metadata": {},
   "outputs": [
    {
     "data": {
      "image/png": "[encoded data removed]",
      "text/plain": [
       "<Figure size 640x480 with 1 Axes>"
      ]
     },
     "metadata": {},
     "output_type": "display_data"
    }
   ],
   "source": [
    "# prisiminti .dt. modulį pandos:\n",
    "# prie nypd pridėkite naują stulpelį V, kur būtų tik įvykio valanda\n",
    "nypd['V'] = nypd['DATA'].dt.hour\n",
    "nypd.head(5)\n",
    "# tada pritaikykite savo rašytą funkciją su .apply() ir sukurkite naują\n",
    "# stulpelį su tekstais rytas, vakaras, priešpietė\n",
    "nypd['Dienos_metas'] = nypd['V'].apply(dien_metas)\n",
    "nypd.head(5)\n",
    "# tada vizualizuokite, kuriuo paros metu kiek buvo susišaudymų (bar arba barh)\n",
    "nypd_metas = nypd.groupby('Dienos_metas')\n",
    "fig, axis = plt.subplots()\n",
    "metai = nypd_metas.groups.keys()\n",
    "for metas in metai:\n",
    "    b = nypd_metas.get_group(metas)\n",
    "    h = b['Dienos_metas'].value_counts().sort_index(ascending=True)\n",
    "    x = axis.bar(h.index, h.values)\n",
    "    axis.bar_label(x)\n",
    "axis.legend(loc='best')\n",
    "plt.show()"
   ]
  },
  {
   "cell_type": "code",
   "execution_count": 96,
   "metadata": {},
   "outputs": [],
   "source": [
    "#prisijungimas prie mySQL, ir kursoriaus sukūrimas\n",
    "DB = cnt.connect(\n",
    "host = '88.223.121.130',\n",
    "user='user',\n",
    "password='slaptazodis',\n",
    "port=3306,\n",
    "database='works'\n",
    ")\n",
    "C=DB.cursor()"
   ]
  },
  {
   "cell_type": "code",
   "execution_count": 97,
   "metadata": {},
   "outputs": [
    {
     "data": {
      "text/html": [
       "<div>\n",
       "<style scoped>\n",
       "    .dataframe tbody tr th:only-of-type {\n",
       "        vertical-align: middle;\n",
       "    }\n",
       "\n",
       "    .dataframe tbody tr th {\n",
       "        vertical-align: top;\n",
       "    }\n",
       "\n",
       "    .dataframe thead th {\n",
       "        text-align: right;\n",
       "    }\n",
       "</style>\n",
       "<table border=\"1\" class=\"dataframe\">\n",
       "  <thead>\n",
       "    <tr style=\"text-align: right;\">\n",
       "      <th></th>\n",
       "      <th>G</th>\n",
       "      <th>R</th>\n",
       "      <th>K</th>\n",
       "      <th>variklis</th>\n",
       "      <th>D</th>\n",
       "    </tr>\n",
       "  </thead>\n",
       "  <tbody>\n",
       "    <tr>\n",
       "      <th>0</th>\n",
       "      <td>BMW</td>\n",
       "      <td>253 000 km</td>\n",
       "      <td>19 500</td>\n",
       "      <td>4999 cm³, 507 AG (373kW)</td>\n",
       "      <td>2005-12</td>\n",
       "    </tr>\n",
       "    <tr>\n",
       "      <th>1</th>\n",
       "      <td>Mitsubishi</td>\n",
       "      <td>195 405 km</td>\n",
       "      <td>2 700</td>\n",
       "      <td>2378 cm³, 160 AG (118kW)</td>\n",
       "      <td>2006</td>\n",
       "    </tr>\n",
       "    <tr>\n",
       "      <th>2</th>\n",
       "      <td>Seat</td>\n",
       "      <td>129 800 km</td>\n",
       "      <td>13 490</td>\n",
       "      <td>1598 cm³, 95 AG (70kW)</td>\n",
       "      <td>2019-11</td>\n",
       "    </tr>\n",
       "    <tr>\n",
       "      <th>3</th>\n",
       "      <td>Skoda</td>\n",
       "      <td>183 000 km</td>\n",
       "      <td>14 650</td>\n",
       "      <td>1798 cm³, 179 AG (132kW)</td>\n",
       "      <td>2015-06</td>\n",
       "    </tr>\n",
       "    <tr>\n",
       "      <th>4</th>\n",
       "      <td>Volvo</td>\n",
       "      <td>127 896 km</td>\n",
       "      <td>38 000</td>\n",
       "      <td>1969 cm³, 235 AG (173kW)</td>\n",
       "      <td>2018-08</td>\n",
       "    </tr>\n",
       "  </tbody>\n",
       "</table>\n",
       "</div>"
      ],
      "text/plain": [
       "            G           R       K                  variklis        D\n",
       "0         BMW  253 000 km  19 500  4999 cm³, 507 AG (373kW)  2005-12\n",
       "1  Mitsubishi  195 405 km   2 700  2378 cm³, 160 AG (118kW)     2006\n",
       "2        Seat  129 800 km  13 490    1598 cm³, 95 AG (70kW)  2019-11\n",
       "3       Skoda  183 000 km  14 650  1798 cm³, 179 AG (132kW)  2015-06\n",
       "4       Volvo  127 896 km  38 000  1969 cm³, 235 AG (173kW)  2018-08"
      ]
     },
     "execution_count": 97,
     "metadata": {},
     "output_type": "execute_result"
    }
   ],
   "source": [
    "# :pdsql\n",
    "#sql uzklausa per pandas sql_query\n",
    "#sql užklausos vykdymas per mysql/mariadb kursorių\n",
    "sql=\"\"\"select gamintojas as G, rida as R, price as K, variklis, pagaminimo_data as D from autopliuslt\"\"\"\n",
    "df = pd.read_sql_query(sql, con=DB)\n",
    "df.head()"
   ]
  },
  {
   "cell_type": "code",
   "execution_count": 99,
   "metadata": {},
   "outputs": [
    {
     "data": {
      "text/html": [
       "<div>\n",
       "<style scoped>\n",
       "    .dataframe tbody tr th:only-of-type {\n",
       "        vertical-align: middle;\n",
       "    }\n",
       "\n",
       "    .dataframe tbody tr th {\n",
       "        vertical-align: top;\n",
       "    }\n",
       "\n",
       "    .dataframe thead th {\n",
       "        text-align: right;\n",
       "    }\n",
       "</style>\n",
       "<table border=\"1\" class=\"dataframe\">\n",
       "  <thead>\n",
       "    <tr style=\"text-align: right;\">\n",
       "      <th></th>\n",
       "      <th>G</th>\n",
       "      <th>R</th>\n",
       "      <th>K</th>\n",
       "      <th>variklis</th>\n",
       "      <th>D</th>\n",
       "      <th>Kaina</th>\n",
       "      <th>Rida</th>\n",
       "      <th>Amzius</th>\n",
       "    </tr>\n",
       "  </thead>\n",
       "  <tbody>\n",
       "    <tr>\n",
       "      <th>0</th>\n",
       "      <td>BMW</td>\n",
       "      <td>253 000 km</td>\n",
       "      <td>19 500</td>\n",
       "      <td>4999 cm³, 507 AG (373kW)</td>\n",
       "      <td>2005-12</td>\n",
       "      <td>19500</td>\n",
       "      <td>253000.0</td>\n",
       "      <td>19</td>\n",
       "    </tr>\n",
       "    <tr>\n",
       "      <th>1</th>\n",
       "      <td>Mitsubishi</td>\n",
       "      <td>195 405 km</td>\n",
       "      <td>2 700</td>\n",
       "      <td>2378 cm³, 160 AG (118kW)</td>\n",
       "      <td>2006</td>\n",
       "      <td>2700</td>\n",
       "      <td>195405.0</td>\n",
       "      <td>18</td>\n",
       "    </tr>\n",
       "    <tr>\n",
       "      <th>2</th>\n",
       "      <td>Seat</td>\n",
       "      <td>129 800 km</td>\n",
       "      <td>13 490</td>\n",
       "      <td>1598 cm³, 95 AG (70kW)</td>\n",
       "      <td>2019-11</td>\n",
       "      <td>13490</td>\n",
       "      <td>129800.0</td>\n",
       "      <td>5</td>\n",
       "    </tr>\n",
       "    <tr>\n",
       "      <th>3</th>\n",
       "      <td>Skoda</td>\n",
       "      <td>183 000 km</td>\n",
       "      <td>14 650</td>\n",
       "      <td>1798 cm³, 179 AG (132kW)</td>\n",
       "      <td>2015-06</td>\n",
       "      <td>14650</td>\n",
       "      <td>183000.0</td>\n",
       "      <td>9</td>\n",
       "    </tr>\n",
       "    <tr>\n",
       "      <th>4</th>\n",
       "      <td>Volvo</td>\n",
       "      <td>127 896 km</td>\n",
       "      <td>38 000</td>\n",
       "      <td>1969 cm³, 235 AG (173kW)</td>\n",
       "      <td>2018-08</td>\n",
       "      <td>38000</td>\n",
       "      <td>127896.0</td>\n",
       "      <td>6</td>\n",
       "    </tr>\n",
       "  </tbody>\n",
       "</table>\n",
       "</div>"
      ],
      "text/plain": [
       "            G           R       K                  variklis        D  Kaina  \\\n",
       "0         BMW  253 000 km  19 500  4999 cm³, 507 AG (373kW)  2005-12  19500   \n",
       "1  Mitsubishi  195 405 km   2 700  2378 cm³, 160 AG (118kW)     2006   2700   \n",
       "2        Seat  129 800 km  13 490    1598 cm³, 95 AG (70kW)  2019-11  13490   \n",
       "3       Skoda  183 000 km  14 650  1798 cm³, 179 AG (132kW)  2015-06  14650   \n",
       "4       Volvo  127 896 km  38 000  1969 cm³, 235 AG (173kW)  2018-08  38000   \n",
       "\n",
       "       Rida  Amzius  \n",
       "0  253000.0      19  \n",
       "1  195405.0      18  \n",
       "2  129800.0       5  \n",
       "3  183000.0       9  \n",
       "4  127896.0       6  "
      ]
     },
     "execution_count": 99,
     "metadata": {},
     "output_type": "execute_result"
    }
   ],
   "source": [
    "# np.nan yra tuscia reiksme not a number\n",
    "\n",
    "#  pridėkite naujus stulpelius - kaina, rida kaip skaičiai (integer) su apply() metodu, pridėkite naują stulpelį amžius, kaip skaičius\n",
    "df['Kaina'] = df['K'].apply(lambda x: int(x.replace(' ','')))\n",
    "def rid(s):\n",
    "    if s == 'Nenurodyta':\n",
    "        return np.nan\n",
    "    else:\n",
    "        return int(s.replace('km','').replace(' ',''))      \n",
    "df['Rida'] = df['R'].apply(rid)\n",
    "def amz(s):\n",
    "    return 2024-int(s[:4])\n",
    "df['Amzius'] = df['D'].apply(amz)\n",
    "df.head()"
   ]
  }
 ],
 "metadata": {
  "kernelspec": {
   "display_name": "Python 3",
   "language": "python",
   "name": "python3"
  },
  "language_info": {
   "codemirror_mode": {
    "name": "ipython",
    "version": 3
   },
   "file_extension": ".py",
   "mimetype": "text/x-python",
   "name": "python",
   "nbconvert_exporter": "python",
   "pygments_lexer": "ipython3",
   "version": "3.12.4"
  }
 },
 "nbformat": 4,
 "nbformat_minor": 2
}
