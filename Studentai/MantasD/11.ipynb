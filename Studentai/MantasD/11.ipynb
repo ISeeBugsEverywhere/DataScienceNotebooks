{
 "cells": [
  {
   "cell_type": "code",
   "execution_count": 1,
   "metadata": {},
   "outputs": [
    {
     "name": "stdout",
     "output_type": "stream",
     "text": [
      "11 paskaita\n"
     ]
    }
   ],
   "source": [
    "print('11 paskaita')"
   ]
  },
  {
   "cell_type": "code",
   "execution_count": 80,
   "metadata": {},
   "outputs": [
    {
     "name": "stdout",
     "output_type": "stream",
     "text": [
      " ‾|\n",
      "  ‾|\n",
      "   ‾|\n",
      "    ‾|\n",
      "     ‾|\n",
      "‾|\n",
      " ‾|\n",
      "  ‾|\n",
      "   ‾|\n",
      "    ‾|\n",
      "     ‾|\n",
      "      ‾|\n",
      "       ‾|\n",
      "        ‾|\n"
     ]
    }
   ],
   "source": [
    "# vartotojas įveda skaičių n\n",
    "# jūsų funkcija! turi spausdinti \"laiptus\" iš simbolių | ir ‾\n",
    "# pvz įvesta 4:\n",
    "# ‾|\n",
    "#  ‾|\n",
    "#   ‾|\n",
    "#    ‾|\n",
    "\n",
    "n = int(input('Iveskite skaiciu'))\n",
    "s =''\n",
    "def laiptai(n):\n",
    "    for i in range(n):\n",
    "        i = i + 1\n",
    "        s =(' '*i)+'‾'+'|'\n",
    "        print(s)\n",
    "laiptai(n)\n",
    "\n",
    "def stairs(n):\n",
    "    s = '‾|'\n",
    "    f = '\\n'.join([' '*(i-1)+s for i in range(1,n+1)])\n",
    "    return f # arba, kad tiksliai palei sąlygą: print(f)\n",
    "    \n",
    "print(stairs(9))"
   ]
  },
  {
   "cell_type": "code",
   "execution_count": 81,
   "metadata": {},
   "outputs": [
    {
     "name": "stdout",
     "output_type": "stream",
     "text": [
      "['ab']\n",
      "['La', 'ba', 's_']\n",
      "['ab', 'c_']\n",
      "['ab', 'cd', 'ef']\n"
     ]
    }
   ],
   "source": [
    "#parašyti funkciją:\n",
    "#teskto skaidymas į sąrašą po porą simbolių.\n",
    "# jei tekstas yra iš nelyginio simbolių kiekio - trūkstamas simbolis keičiamas _\n",
    "# pvz 'abc' => ['ab', 'c_']\n",
    "# 'abcdef' => ['ab', 'cd', 'ef']\n",
    "\n",
    "text = str(input('Tekstas'))\n",
    "\n",
    "s = []\n",
    "def con(text):\n",
    "    l = ''\n",
    "    # text = str(text.split())\n",
    "    if len(text) % 2 == 0:\n",
    "        \n",
    "    \n",
    "        for i in text:\n",
    "            l = l + i\n",
    "            if len(l) % 2 == 0:\n",
    "                s.append(l)\n",
    "                l = ''\n",
    "    else:\n",
    "        for i in text:\n",
    "            l = l + i\n",
    "            if len(l) % 2 == 0:\n",
    "                s.append(l)\n",
    "                l = ''\n",
    "            else:\n",
    "                s.append(l+'_')\n",
    "            \n",
    "        \n",
    "            \n",
    "    \n",
    "    print(s)\n",
    "    \n",
    "con(text)\n",
    "\n",
    "def split(s):\n",
    "    ats = []\n",
    "    if len(s) % 2 != 0:\n",
    "        s = s + '_'\n",
    "    for r in range(0,len(s),2):\n",
    "        ats.append(s[r]+s[r+1])\n",
    "    return ats\n",
    "\n",
    "print(split('Labas'))\n",
    "print(split('abc'))\n",
    "print(split('abcdef'))"
   ]
  },
  {
   "cell_type": "code",
   "execution_count": 82,
   "metadata": {},
   "outputs": [
    {
     "name": "stdout",
     "output_type": "stream",
     "text": [
      "[0, 1, 153, 370, 371, 407]\n",
      "[0, 1, 153, 370, 371, 407]\n"
     ]
    }
   ],
   "source": [
    "# Parašyti funkciją, kuri atrinktų \"kubinius\" skaičius iš intervalo [0-10000]\n",
    "#  \"kubinis\" skaičius - tai kurio skaitmenų kubų suma yra lygi pačiam skaičiui:\n",
    "#  pvz 153 = 1^3+5^3+3^3 => 153 yra \"kubinis\"\n",
    "# \n",
    "#  visus rastus skaičius pateikite kaip sąrašą (list)\n",
    "\n",
    "def abc(x):\n",
    "    s = []\n",
    "    c = []\n",
    "    for i in range(0,x):\n",
    "        \n",
    "        s.append(str(i))\n",
    "    for b in s:\n",
    "        x = len(b)\n",
    "        z = 0\n",
    "        for d in range(x):\n",
    "            z = z + (int(b[d])**3)\n",
    "        if z == int(b):\n",
    "            c.append(z)\n",
    "    print(c)\n",
    "        \n",
    "    \n",
    "abc(10000)\n",
    "\n",
    "\n",
    "def cubic(x, p=3):\n",
    "    xf = int(x)\n",
    "    xs = str(x)\n",
    "    cubs = [int(i)**p for i in xs]\n",
    "    if sum(cubs) == xf:\n",
    "        return True\n",
    "    else:\n",
    "        return False\n",
    "    \n",
    "cubs = [i for i in range(0,10001) if cubic(i)]\n",
    "print(cubs)"
   ]
  },
  {
   "cell_type": "code",
   "execution_count": 67,
   "metadata": {},
   "outputs": [
    {
     "name": "stdout",
     "output_type": "stream",
     "text": [
      "Defaulting to user installation because normal site-packages is not writeable\n",
      "Collecting numpy\n",
      "  Downloading numpy-2.0.0-cp312-cp312-win_amd64.whl.metadata (60 kB)\n",
      "     ---------------------------------------- 0.0/60.9 kB ? eta -:--:--\n",
      "     ------ --------------------------------- 10.2/60.9 kB ? eta -:--:--\n",
      "     ------------------- ------------------ 30.7/60.9 kB 330.3 kB/s eta 0:00:01\n",
      "     ------------------------------- ------ 51.2/60.9 kB 440.4 kB/s eta 0:00:01\n",
      "     -------------------------------------- 60.9/60.9 kB 464.8 kB/s eta 0:00:00\n",
      "Downloading numpy-2.0.0-cp312-cp312-win_amd64.whl (16.2 MB)\n",
      "   ---------------------------------------- 0.0/16.2 MB ? eta -:--:--\n",
      "   ---------------------------------------- 0.1/16.2 MB 2.0 MB/s eta 0:00:09\n",
      "    --------------------------------------- 0.2/16.2 MB 3.6 MB/s eta 0:00:05\n",
      "   - -------------------------------------- 0.6/16.2 MB 6.0 MB/s eta 0:00:03\n",
      "   -- ------------------------------------- 1.1/16.2 MB 9.0 MB/s eta 0:00:02\n",
      "   ---- ----------------------------------- 1.8/16.2 MB 10.5 MB/s eta 0:00:02\n",
      "   ------ --------------------------------- 2.6/16.2 MB 12.7 MB/s eta 0:00:02\n",
      "   -------- ------------------------------- 3.3/16.2 MB 13.0 MB/s eta 0:00:01\n",
      "   --------- ------------------------------ 3.9/16.2 MB 14.0 MB/s eta 0:00:01\n",
      "   ----------- ---------------------------- 4.7/16.2 MB 14.9 MB/s eta 0:00:01\n",
      "   ------------- -------------------------- 5.4/16.2 MB 15.8 MB/s eta 0:00:01\n",
      "   --------------- ------------------------ 6.3/16.2 MB 16.0 MB/s eta 0:00:01\n",
      "   ----------------- ---------------------- 7.0/16.2 MB 16.5 MB/s eta 0:00:01\n",
      "   ------------------- -------------------- 7.8/16.2 MB 16.5 MB/s eta 0:00:01\n",
      "   --------------------- ------------------ 8.6/16.2 MB 17.1 MB/s eta 0:00:01\n",
      "   ----------------------- ---------------- 9.3/16.2 MB 17.5 MB/s eta 0:00:01\n",
      "   ------------------------- -------------- 10.1/16.2 MB 17.5 MB/s eta 0:00:01\n",
      "   -------------------------- ------------- 10.9/16.2 MB 20.5 MB/s eta 0:00:01\n",
      "   ---------------------------- ----------- 11.6/16.2 MB 21.1 MB/s eta 0:00:01\n",
      "   ------------------------------ --------- 12.5/16.2 MB 21.8 MB/s eta 0:00:01\n",
      "   -------------------------------- ------- 13.3/16.2 MB 21.1 MB/s eta 0:00:01\n",
      "   ---------------------------------- ----- 14.1/16.2 MB 21.8 MB/s eta 0:00:01\n",
      "   ----------------------------------- ---- 14.3/16.2 MB 21.1 MB/s eta 0:00:01\n",
      "   ----------------------------------- ---- 14.3/16.2 MB 21.1 MB/s eta 0:00:01\n",
      "   ----------------------------------- ---- 14.3/16.2 MB 21.1 MB/s eta 0:00:01\n",
      "   ------------------------------------ --- 14.7/16.2 MB 17.7 MB/s eta 0:00:01\n",
      "   ---------------------------------------  16.1/16.2 MB 18.7 MB/s eta 0:00:01\n",
      "   ---------------------------------------  16.2/16.2 MB 18.2 MB/s eta 0:00:01\n",
      "   ---------------------------------------- 16.2/16.2 MB 17.2 MB/s eta 0:00:00\n",
      "Installing collected packages: numpy\n",
      "Successfully installed numpy-2.0.0\n"
     ]
    },
    {
     "name": "stderr",
     "output_type": "stream",
     "text": [
      "\n",
      "[notice] A new release of pip is available: 24.0 -> 24.1.2\n",
      "[notice] To update, run: python.exe -m pip install --upgrade pip\n"
     ]
    }
   ],
   "source": [
    "!pip install numpy"
   ]
  },
  {
   "cell_type": "code",
   "execution_count": 72,
   "metadata": {},
   "outputs": [
    {
     "name": "stdout",
     "output_type": "stream",
     "text": [
      "504972510336469258086956692843675111568883537923273353442301565716179720489220974698949228229597343369552268907122863742452062798633308361174979720832685990343788504695117739118656392160647748185797578417292104937583259183294076416833051332094614966821350254881396311312646193738810943279287\n"
     ]
    }
   ],
   "source": [
    "# duota skaičių eilutė.\n",
    "# rasti joje visus skaičius, kurie yra lygūs savo \n",
    "# skaitmenų, pakeltų laipsniu 4, arba 5, sumai.\n",
    "import numpy as np\n",
    "r = np.random.randint(0,1000,100).tolist()\n",
    "r = ''.join([str(i) for i in r])\n",
    "print(r)"
   ]
  },
  {
   "cell_type": "code",
   "execution_count": null,
   "metadata": {},
   "outputs": [],
   "source": []
  },
  {
   "cell_type": "code",
   "execution_count": 73,
   "metadata": {},
   "outputs": [
    {
     "name": "stdout",
     "output_type": "stream",
     "text": [
      "42246779151523231606742667339558277473626244599388280942979356678862959673284781259470422108886108111245275613709966782649286151643874008083314047972894345442354668435287965881614376432950591258761551213132113904571813932208386604985807144746808065466664669898777978230514938135790104906392806\n"
     ]
    }
   ],
   "source": [
    "# duota skaičių eilutė.\n",
    "# rasti joje visus skaičius, kurie yra lygūs savo \n",
    "# skaitmenų, pakeltų laipsniu 4, arba 5, sumai.\n",
    "# netirkinti skaičių, didesnių nei 10 000.\n",
    "import numpy as np\n",
    "r = np.random.randint(0,1000,100).tolist()\n",
    "r = ''.join([str(i) for i in r])\n",
    "print(r)"
   ]
  },
  {
   "cell_type": "code",
   "execution_count": 84,
   "metadata": {},
   "outputs": [
    {
     "name": "stdout",
     "output_type": "stream",
     "text": [
      "<__main__.SimpleObj object at 0x00000274CFE6F440>\n"
     ]
    }
   ],
   "source": [
    "class SimpleObj():\n",
    "    pass\n",
    "\n",
    "o = SimpleObj()\n",
    "print(o)"
   ]
  },
  {
   "cell_type": "code",
   "execution_count": 87,
   "metadata": {},
   "outputs": [
    {
     "name": "stdout",
     "output_type": "stream",
     "text": [
      "SimpleObj klases atstovas\n",
      "[Labai kietas SimpleObj atstovas]\n"
     ]
    }
   ],
   "source": [
    "class SimpleObj():\n",
    "    def __str__(sef):\n",
    "        return 'SimpleObj klases atstovas'\n",
    "    def __repr__(self) -> str:\n",
    "        return 'Labai kietas SimpleObj atstovas'\n",
    "\n",
    "o = SimpleObj()\n",
    "print(o)\n",
    "print([o])"
   ]
  },
  {
   "cell_type": "code",
   "execution_count": 88,
   "metadata": {},
   "outputs": [
    {
     "name": "stdout",
     "output_type": "stream",
     "text": [
      "Jonas\n"
     ]
    }
   ],
   "source": [
    "class Object():\n",
    "    def __init__(self, name) -> None:\n",
    "        self.Name =name\n",
    "        pass\n",
    "    def getName(self):\n",
    "        return self.Name\n",
    "    \n",
    "o = Object('Jonas')\n",
    "print(o.getName())"
   ]
  },
  {
   "cell_type": "code",
   "execution_count": 90,
   "metadata": {},
   "outputs": [
    {
     "name": "stdout",
     "output_type": "stream",
     "text": [
      "Petras\n"
     ]
    }
   ],
   "source": [
    "class BetterObject(Object):\n",
    "    def getNameUpper(self):\n",
    "        return self.Name.upper()\n",
    "    def getNameLenght(self):\n",
    "        return len(self.Name)\n",
    "\n",
    "g = BetterObject('Petras')\n",
    "print(g.getName())"
   ]
  },
  {
   "cell_type": "code",
   "execution_count": 94,
   "metadata": {},
   "outputs": [
    {
     "data": {
      "text/plain": [
       "'PETRAS'"
      ]
     },
     "execution_count": 94,
     "metadata": {},
     "output_type": "execute_result"
    }
   ],
   "source": [
    "g.getNameUpper()"
   ]
  },
  {
   "cell_type": "code",
   "execution_count": 95,
   "metadata": {},
   "outputs": [
    {
     "data": {
      "text/plain": [
       "6"
      ]
     },
     "execution_count": 95,
     "metadata": {},
     "output_type": "execute_result"
    }
   ],
   "source": [
    "g.getNameLenght()"
   ]
  },
  {
   "cell_type": "code",
   "execution_count": 100,
   "metadata": {},
   "outputs": [
    {
     "name": "stdout",
     "output_type": "stream",
     "text": [
      "Taip\n",
      "29\n"
     ]
    }
   ],
   "source": [
    "class Asmuo():\n",
    "    def __init__(self, name, b_year) -> None:\n",
    "        self.Name = name\n",
    "        self.BYear = b_year\n",
    "    def getAge(self):\n",
    "        return 2024-self.BYear\n",
    "    \n",
    "class Studentas(Asmuo):\n",
    "    def __init__(self ,name, b_year, studentas):\n",
    "        self.ArStudentas = studentas\n",
    "        super().__init__(name, b_year)\n",
    "    def getStud(self):\n",
    "        return self.ArStudentas\n",
    "    \n",
    "st = Studentas('Petras',1995,'Taip')\n",
    "print(st.getStud())\n",
    "print(st.getAge())\n"
   ]
  },
  {
   "cell_type": "code",
   "execution_count": 104,
   "metadata": {},
   "outputs": [
    {
     "name": "stdout",
     "output_type": "stream",
     "text": [
      "Labas, cia klase 0\n",
      "42\n",
      "[1, 2, 3]\n"
     ]
    }
   ],
   "source": [
    "class O():\n",
    "    def hello(self):\n",
    "        return \"Labas, cia klase 0\"\n",
    "    \n",
    "class P():\n",
    "    def hello(self):\n",
    "        return 42\n",
    "\n",
    "class D():\n",
    "    def hello(self):\n",
    "        return [1,2,3]\n",
    "    \n",
    "s = [O(),P(),D()]\n",
    "for obj in s:\n",
    "    print(obj.hello())"
   ]
  },
  {
   "cell_type": "code",
   "execution_count": 105,
   "metadata": {},
   "outputs": [
    {
     "name": "stdout",
     "output_type": "stream",
     "text": [
      "LABAS, CIA KLASE 0\n"
     ]
    },
    {
     "ename": "AttributeError",
     "evalue": "'int' object has no attribute 'upper'",
     "output_type": "error",
     "traceback": [
      "\u001b[1;31m---------------------------------------------------------------------------\u001b[0m",
      "\u001b[1;31mAttributeError\u001b[0m                            Traceback (most recent call last)",
      "Cell \u001b[1;32mIn[105], line 15\u001b[0m\n\u001b[0;32m     13\u001b[0m s \u001b[38;5;241m=\u001b[39m [O(),P(),D()]\n\u001b[0;32m     14\u001b[0m \u001b[38;5;28;01mfor\u001b[39;00m obj \u001b[38;5;129;01min\u001b[39;00m s:\n\u001b[1;32m---> 15\u001b[0m     \u001b[38;5;28mprint\u001b[39m(\u001b[43mobj\u001b[49m\u001b[38;5;241;43m.\u001b[39;49m\u001b[43mhello\u001b[49m\u001b[43m(\u001b[49m\u001b[43m)\u001b[49m\u001b[38;5;241;43m.\u001b[39;49m\u001b[43mupper\u001b[49m())\n",
      "\u001b[1;31mAttributeError\u001b[0m: 'int' object has no attribute 'upper'"
     ]
    }
   ],
   "source": [
    "class O():\n",
    "    def hello(self):\n",
    "        return \"Labas, cia klase 0\"\n",
    "    \n",
    "class P():\n",
    "    def hello(self):\n",
    "        return 42\n",
    "\n",
    "class D():\n",
    "    def hello(self):\n",
    "        return [1,2,3]\n",
    "    \n",
    "s = [O(),P(),D()]\n",
    "for obj in s:\n",
    "    print(obj.hello().upper())"
   ]
  },
  {
   "cell_type": "code",
   "execution_count": null,
   "metadata": {},
   "outputs": [],
   "source": [
    "# privatus ir viesi atributai ir metodai"
   ]
  },
  {
   "cell_type": "code",
   "execution_count": 109,
   "metadata": {},
   "outputs": [
    {
     "name": "stdout",
     "output_type": "stream",
     "text": [
      "42\n",
      "42\n",
      "43\n"
     ]
    }
   ],
   "source": [
    "class Obj():\n",
    "    def __init__(self) -> None:\n",
    "        self.A = 42\n",
    "        self.__A = 42\n",
    "    def getA(self):\n",
    "        return self.A\n",
    "    def __getA(self):\n",
    "        return self.A\n",
    "    # seter, getters:\n",
    "    def setA(self, a):\n",
    "        self.__A = a\n",
    "    def getLocalA(self):\n",
    "        return self.__A\n",
    "\n",
    "o = Obj()\n",
    "print(o.A)\n",
    "print(o.getA())\n",
    "\n",
    "\n",
    "\n",
    "o.setA(43)\n",
    "print(o.getLocalA())"
   ]
  },
  {
   "cell_type": "code",
   "execution_count": null,
   "metadata": {},
   "outputs": [],
   "source": [
    "#138-141skaidres"
   ]
  },
  {
   "cell_type": "code",
   "execution_count": 113,
   "metadata": {},
   "outputs": [
    {
     "name": "stdout",
     "output_type": "stream",
     "text": [
      "Plotas 20\n",
      "Perimetras 18\n"
     ]
    }
   ],
   "source": [
    "# • Aprašykite klasę Rectangle. Kreipiantis į klasę, reikia nurodyti\n",
    "# stačiakampio kraštines a ir b.\n",
    "# • Realizuokite atributą Plotas (S = a ⋅ b) ir metodą, grąžinantį\n",
    "# Ploto reikšmę\n",
    "# • Taip pat pridėkite metodą, apskaičiuojantį ir grąžinantį\n",
    "# perimetrą (P = 2(a + b)).\n",
    "\n",
    "class Rectangle():\n",
    "    def __init__(self, a, b):\n",
    "        self.a = a\n",
    "        self.b = b\n",
    "        self.Plotas = f'Plotas {a * b}'\n",
    "    def perimetras(self):\n",
    "        return f'Perimetras {2*(self.a+self.b)}'\n",
    "    \n",
    "o = Rectangle(5,4)\n",
    "print(o.Plotas)\n",
    "print(o.perimetras())\n",
    "\n",
    "        "
   ]
  },
  {
   "cell_type": "code",
   "execution_count": 126,
   "metadata": {},
   "outputs": [
    {
     "name": "stdout",
     "output_type": "stream",
     "text": [
      "Mantas Dzimidas pažymių vidurkis yra 7.0\n",
      "Mantas Dzimidas didžiausias pažymis yra 10\n",
      "Mantas Dzimidas didžiausias pažymis yra 3\n",
      "Mantas Dzimidas pažymių ir egzaminų vidurkis yra 6.818181818181818\n",
      "[<__main__.Mokinys object at 0x00000274C4847B60>]\n"
     ]
    }
   ],
   "source": [
    "# Sukurkite Mokinys klasę, kuri turės mokinio vardą, pavardę ir\n",
    "# sąrašą pažymių. Įtraukite metodus, kurie skaičiuotų vidurkį,\n",
    "# didžiausią ir mažiausią pažymį.\n",
    "class Mokinys():\n",
    "    def __init__(self, name, surname, list):\n",
    "        self.Name = name\n",
    "        self.Surname = surname\n",
    "        self.List = list\n",
    "    def avg(self):\n",
    "        return f'{self.Name} {self.Surname} pažymių vidurkis yra {sum(self.List)/len(self.List)}'\n",
    "    def bigger(self):\n",
    "        return f'{self.Name} {self.Surname} didžiausias pažymis yra {max(self.List)}'\n",
    "    def lower(self):\n",
    "        return f'{self.Name} {self.Surname} didžiausias pažymis yra {min(self.List)}'\n",
    "i = Mokinys('Mantas', \"Dzimidas\",[8,9,10,5,3,7])\n",
    "print(i.avg())\n",
    "print(i.bigger())\n",
    "print(i.lower())\n",
    "# • Sukurkite Abiturientas klasę, kuri paveldi Mokinys klasę ir\n",
    "# prideda papildomą funkcionalumą, pvz., gebėjimą pridėti\n",
    "# egzamino rezultatus ir skaičiuoti bendrą vidurkį, įskaitant ir\n",
    "# egzamino rezultatus.\n",
    "class Abiturientas(Mokinys):\n",
    "    def __init__(self, name, surname, list, egz):\n",
    "        self.Egz = egz\n",
    "        super().__init__(name, surname, list)\n",
    "    def avgegz(self):\n",
    "        return f'{self.Name} {self.Surname} pažymių ir egzaminų vidurkis yra {(sum(self.List)+sum(self.Egz))/(len(self.List)+len(self.Egz))}'\n",
    "\n",
    "c = Abiturientas(\"Mantas\",'Dzimidas',[8,9,10,5,3,7],[9,9,8,4,3])\n",
    "print(c.avgegz())\n",
    "# • Sukurkite Mokykla klasę, kuri turės sąrašą Mokinys objektų.\n",
    "# Įtraukite metodus, kurie leistų pridėti naują mokinį, pašalinti\n",
    "# mokinį, bei skaičiuoti visos mokyklos mokinių pažymių\n",
    "# vidurkius.\n",
    "class Mokykla():\n",
    "    def __init__(self):\n",
    "        self.s = []\n",
    "    def addmok(self, mokinys):\n",
    "        return self.s.append(mokinys)\n",
    "\n",
    "e = Mokykla()\n",
    "e.addmok(i)\n",
    "print(e.s)\n",
    "# • Atnaujinkite Mokinys klasę taip, kad pažymių sąrašas būtų\n",
    "# privatus. Sukurkite metodus, kurie leistų saugiai pridėti ir\n",
    "# gauti pažymius, užtikrinant, kad negalima būtų pridėti\n",
    "# netinkamų pažymių (pvz., neigiamų ar didesnių nei 10)."
   ]
  },
  {
   "cell_type": "code",
   "execution_count": null,
   "metadata": {},
   "outputs": [],
   "source": [
    "# Sukurkite klasę, skirtą geometrinių figūrų parametrų\n",
    "# skaičiavimui:\n",
    "# • Klasė Stačiakampis - sukūrimo metu automatiškai\n",
    "# suskaičiuoja plotą ir perimetrą\n",
    "# • P = 2(a + b), S = ab\n",
    "# • Klasė Kubas - sukūrimo metu turi suskaičiuoti paviršiaus\n",
    "# plotą ir tūrį\n",
    "# • V = abc\n",
    "# Realizuokite metodus, skirtus atnaujinti skaičiavimams, pasiekti\n",
    "# skaičiavimų rezultatus."
   ]
  },
  {
   "cell_type": "code",
   "execution_count": null,
   "metadata": {},
   "outputs": [],
   "source": [
    "# Sukurkite dvi klases:\n",
    "# • Klasę Stačiakampis - tėvinė (parent) klasė, sukūrimo metu\n",
    "# automatiškai suskaičiuoja plotą ir perimetrą. Galite naudoti\n",
    "# anksčiau kurtą klasę.\n",
    "# • Klasę Piramidė - išvestinė klasė (child class). Pridėkite\n",
    "# papildomą funkcionalumą - metodą, argumentus piramidės\n",
    "# tūrio skaičiavimui.\n",
    "# V = 1\n",
    "# 3\n",
    "# Sp\n",
    "# ⋅ h, čia Sp\n",
    "# - pagrindo plotas, h - piramidės aukštis."
   ]
  }
 ],
 "metadata": {
  "kernelspec": {
   "display_name": "Python 3",
   "language": "python",
   "name": "python3"
  },
  "language_info": {
   "codemirror_mode": {
    "name": "ipython",
    "version": 3
   },
   "file_extension": ".py",
   "mimetype": "text/x-python",
   "name": "python",
   "nbconvert_exporter": "python",
   "pygments_lexer": "ipython3",
   "version": "3.12.4"
  }
 },
 "nbformat": 4,
 "nbformat_minor": 2
}
