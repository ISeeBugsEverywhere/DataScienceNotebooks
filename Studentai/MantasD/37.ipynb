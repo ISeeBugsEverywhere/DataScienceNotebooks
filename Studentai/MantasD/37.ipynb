{
 "cells": [
  {
   "cell_type": "code",
   "execution_count": 1,
   "metadata": {},
   "outputs": [],
   "source": [
    "%reload_ext autoreload\n",
    "%autoreload 2"
   ]
  },
  {
   "cell_type": "code",
   "execution_count": 2,
   "metadata": {},
   "outputs": [],
   "source": [
    "import numpy as np\n",
    "import pandas as pd\n",
    "import matplotlib.pyplot as plt\n",
    "import warnings\n",
    "warnings.filterwarnings('ignore')\n",
    "import seaborn as sns\n",
    "import sqlite3\n",
    "import mysql.connector as cnt\n",
    "import plotly.express as px"
   ]
  },
  {
   "cell_type": "code",
   "execution_count": 3,
   "metadata": {},
   "outputs": [],
   "source": [
    "from manofunkcijos import *"
   ]
  },
  {
   "cell_type": "code",
   "execution_count": null,
   "metadata": {},
   "outputs": [],
   "source": [
    "gmp = pd.read_csv('../../DATA/GMP.csv')\n",
    "gmp.head(1)"
   ]
  },
  {
   "cell_type": "code",
   "execution_count": null,
   "metadata": {},
   "outputs": [],
   "source": [
    "# :mapbox\n",
    "fig = px.scatter_mapbox(data_frame=gmp, lon='X', lat='Y', zoom=5)\n",
    "fig.update_layout(mapbox_style='open-street-map')\n",
    "fig.update_layout(width=800, height=600)\n",
    "fig.show()"
   ]
  },
  {
   "cell_type": "code",
   "execution_count": null,
   "metadata": {},
   "outputs": [],
   "source": [
    "# atvaizduokite tik gaisrų įvykius žemėlapyje. \n",
    "gaisrai = gmp[gmp['zemesnis_ivykio_tipas'].str.contains('Gaisras')]\n",
    "fig = px.scatter_mapbox(data_frame=gaisrai, lon='X', lat='Y', zoom=6.1)\n",
    "fig.update_layout(mapbox_style='open-street-map')\n",
    "fig.update_layout(width=800, height=600)\n",
    "fig.show()\n"
   ]
  },
  {
   "cell_type": "code",
   "execution_count": null,
   "metadata": {},
   "outputs": [],
   "source": [
    "# atvaizduokite tik KET iškvietimus.\n",
    "ket = gmp[gmp['zemesnis_ivykio_tipas'] == 'KET pažeidimas']\n",
    "fig = px.scatter_mapbox(data_frame=ket, lon='X', lat='Y', zoom=6.1)\n",
    "fig.update_layout(mapbox_style='open-street-map')\n",
    "fig.update_layout(width=800, height=600)\n",
    "fig.show()\n",
    "#  ar yra vietų, į kur nebuvo apskritai važiuojama?"
   ]
  },
  {
   "cell_type": "code",
   "execution_count": 12,
   "metadata": {},
   "outputs": [],
   "source": [
    "#  ar yra vietų, į kur nebuvo apskritai važiuojama?\n",
    "#Taip"
   ]
  },
  {
   "cell_type": "code",
   "execution_count": null,
   "metadata": {},
   "outputs": [],
   "source": [
    "# streamlit"
   ]
  },
  {
   "cell_type": "code",
   "execution_count": 4,
   "metadata": {},
   "outputs": [],
   "source": [
    "from LKS94WGS84 import *"
   ]
  },
  {
   "cell_type": "code",
   "execution_count": 5,
   "metadata": {},
   "outputs": [],
   "source": [
    "gmp2 =  pd.read_csv('C:/Users/manta/OneDrive/Dokumentai/Python projektai/GMP.csv')"
   ]
  },
  {
   "cell_type": "code",
   "execution_count": null,
   "metadata": {},
   "outputs": [],
   "source": [
    "gmp2.head(10)"
   ]
  },
  {
   "cell_type": "code",
   "execution_count": null,
   "metadata": {},
   "outputs": [],
   "source": [
    "grid2geo(455179,6202578)"
   ]
  },
  {
   "cell_type": "code",
   "execution_count": 18,
   "metadata": {},
   "outputs": [
    {
     "ename": "KeyboardInterrupt",
     "evalue": "",
     "output_type": "error",
     "traceback": [
      "\u001b[1;31m---------------------------------------------------------------------------\u001b[0m",
      "\u001b[1;31mKeyboardInterrupt\u001b[0m                         Traceback (most recent call last)",
      "Cell \u001b[1;32mIn[18], line 11\u001b[0m\n\u001b[0;32m      9\u001b[0m \u001b[38;5;28;01mfor\u001b[39;00m a,b \u001b[38;5;129;01min\u001b[39;00m \u001b[38;5;28mzip\u001b[39m(x,y):\n\u001b[0;32m     10\u001b[0m     X\u001b[38;5;241m.\u001b[39mappend(grid2geo(a,b)[\u001b[38;5;241m0\u001b[39m])\n\u001b[1;32m---> 11\u001b[0m     Y\u001b[38;5;241m.\u001b[39mappend(\u001b[43mgrid2geo\u001b[49m\u001b[43m(\u001b[49m\u001b[43ma\u001b[49m\u001b[43m,\u001b[49m\u001b[43mb\u001b[49m\u001b[43m)\u001b[49m[\u001b[38;5;241m1\u001b[39m])\n\u001b[0;32m     13\u001b[0m \u001b[38;5;66;03m#alter\u001b[39;00m\n",
      "File \u001b[1;32mc:\\Users\\manta\\OneDrive\\Dokumentai\\Python projektai\\DataScienceNotebooks\\Studentai\\MantasD\\LKS94WGS84.py:98\u001b[0m, in \u001b[0;36mgrid2geo\u001b[1;34m(lat, lon)\u001b[0m\n\u001b[0;32m     96\u001b[0m laterm1 \u001b[38;5;241m=\u001b[39m (t \u001b[38;5;241m/\u001b[39m (k \u001b[38;5;241m*\u001b[39m rho)) \u001b[38;5;241m*\u001b[39m (east \u001b[38;5;241m*\u001b[39m x \u001b[38;5;241m/\u001b[39m \u001b[38;5;241m2\u001b[39m)\n\u001b[0;32m     97\u001b[0m laterm2 \u001b[38;5;241m=\u001b[39m (t \u001b[38;5;241m/\u001b[39m (k \u001b[38;5;241m*\u001b[39m rho)) \u001b[38;5;241m*\u001b[39m (east \u001b[38;5;241m*\u001b[39m math\u001b[38;5;241m.\u001b[39mpow(x, \u001b[38;5;241m3\u001b[39m) \u001b[38;5;241m/\u001b[39m \u001b[38;5;241m24\u001b[39m) \u001b[38;5;241m*\u001b[39m (\u001b[38;5;241m-\u001b[39m\u001b[38;5;241m4\u001b[39m \u001b[38;5;241m*\u001b[39m psi \u001b[38;5;241m*\u001b[39m psi \u001b[38;5;241m+\u001b[39m \u001b[38;5;241m9\u001b[39m \u001b[38;5;241m*\u001b[39m psi \u001b[38;5;241m*\u001b[39m (\u001b[38;5;241m1\u001b[39m \u001b[38;5;241m-\u001b[39m t \u001b[38;5;241m*\u001b[39m t) \u001b[38;5;241m+\u001b[39m \u001b[38;5;241m12\u001b[39m \u001b[38;5;241m*\u001b[39m t \u001b[38;5;241m*\u001b[39m t)\n\u001b[1;32m---> 98\u001b[0m laterm3 \u001b[38;5;241m=\u001b[39m (t \u001b[38;5;241m/\u001b[39m (k \u001b[38;5;241m*\u001b[39m rho)) \u001b[38;5;241m*\u001b[39m (east \u001b[38;5;241m*\u001b[39m math\u001b[38;5;241m.\u001b[39mpow(x, \u001b[38;5;241m5\u001b[39m) \u001b[38;5;241m/\u001b[39m \u001b[38;5;241m720\u001b[39m) \u001b[38;5;241m*\u001b[39m (\u001b[38;5;241m8\u001b[39m \u001b[38;5;241m*\u001b[39m \u001b[43mmath\u001b[49m\u001b[38;5;241;43m.\u001b[39;49m\u001b[43mpow\u001b[49m\u001b[43m(\u001b[49m\u001b[43mpsi\u001b[49m\u001b[43m,\u001b[49m\u001b[43m \u001b[49m\u001b[38;5;241;43m4\u001b[39;49m\u001b[43m)\u001b[49m \u001b[38;5;241m*\u001b[39m (\u001b[38;5;241m11\u001b[39m \u001b[38;5;241m-\u001b[39m \u001b[38;5;241m24\u001b[39m \u001b[38;5;241m*\u001b[39m t \u001b[38;5;241m*\u001b[39m t) \u001b[38;5;241m-\u001b[39m \u001b[38;5;241m12\u001b[39m \u001b[38;5;241m*\u001b[39m math\u001b[38;5;241m.\u001b[39mpow(psi, \u001b[38;5;241m3\u001b[39m) \u001b[38;5;241m*\u001b[39m (\u001b[38;5;241m21\u001b[39m \u001b[38;5;241m-\u001b[39m \u001b[38;5;241m71\u001b[39m \u001b[38;5;241m*\u001b[39m t \u001b[38;5;241m*\u001b[39m t) \u001b[38;5;241m+\u001b[39m \u001b[38;5;241m15\u001b[39m \u001b[38;5;241m*\u001b[39m psi \u001b[38;5;241m*\u001b[39m psi \u001b[38;5;241m*\u001b[39m (\u001b[38;5;241m15\u001b[39m \u001b[38;5;241m-\u001b[39m \u001b[38;5;241m98\u001b[39m \u001b[38;5;241m*\u001b[39m t \u001b[38;5;241m*\u001b[39m t \u001b[38;5;241m+\u001b[39m \u001b[38;5;241m15\u001b[39m \u001b[38;5;241m*\u001b[39m math\u001b[38;5;241m.\u001b[39mpow(t, \u001b[38;5;241m4\u001b[39m)) \u001b[38;5;241m+\u001b[39m \u001b[38;5;241m180\u001b[39m \u001b[38;5;241m*\u001b[39m psi \u001b[38;5;241m*\u001b[39m (\u001b[38;5;241m5\u001b[39m \u001b[38;5;241m*\u001b[39m t \u001b[38;5;241m*\u001b[39m t \u001b[38;5;241m-\u001b[39m \u001b[38;5;241m3\u001b[39m \u001b[38;5;241m*\u001b[39m math\u001b[38;5;241m.\u001b[39mpow(t, \u001b[38;5;241m4\u001b[39m)) \u001b[38;5;241m+\u001b[39m \u001b[38;5;241m360\u001b[39m \u001b[38;5;241m*\u001b[39m math\u001b[38;5;241m.\u001b[39mpow(t, \u001b[38;5;241m4\u001b[39m))\n\u001b[0;32m     99\u001b[0m laterm4 \u001b[38;5;241m=\u001b[39m (t \u001b[38;5;241m/\u001b[39m (k \u001b[38;5;241m*\u001b[39m rho)) \u001b[38;5;241m*\u001b[39m (east \u001b[38;5;241m*\u001b[39m math\u001b[38;5;241m.\u001b[39mpow(x, \u001b[38;5;241m7\u001b[39m) \u001b[38;5;241m/\u001b[39m \u001b[38;5;241m40320\u001b[39m) \u001b[38;5;241m*\u001b[39m (\u001b[38;5;241m1385\u001b[39m \u001b[38;5;241m+\u001b[39m \u001b[38;5;241m3633\u001b[39m \u001b[38;5;241m*\u001b[39m t \u001b[38;5;241m*\u001b[39m t \u001b[38;5;241m+\u001b[39m \u001b[38;5;241m4095\u001b[39m \u001b[38;5;241m*\u001b[39m math\u001b[38;5;241m.\u001b[39mpow(t, \u001b[38;5;241m4\u001b[39m) \u001b[38;5;241m+\u001b[39m \u001b[38;5;241m1575\u001b[39m \u001b[38;5;241m*\u001b[39m math\u001b[38;5;241m.\u001b[39mpow(t, \u001b[38;5;241m6\u001b[39m))\n\u001b[0;32m    100\u001b[0m latrad \u001b[38;5;241m=\u001b[39m footlat \u001b[38;5;241m-\u001b[39m laterm1 \u001b[38;5;241m+\u001b[39m laterm2 \u001b[38;5;241m-\u001b[39m laterm3 \u001b[38;5;241m+\u001b[39m laterm4\n",
      "\u001b[1;31mKeyboardInterrupt\u001b[0m: "
     ]
    }
   ],
   "source": [
    "# apply () axis\n",
    "# nuskaityti GMP failą (didenįjį), x, y koordinantes konvertuoti į pasaulines ilgumą ir platumą, pridėti gautąsias koordinantes kaip du naujus stulpelius.\n",
    "# atrinkti tik gaisrus iki 3jų autocisternų ir jų įvykių vietas atvaizduoti plotly express mapbox grafike.\n",
    "\n",
    "x = list(gmp2['X'])\n",
    "y = list(gmp2['Y'])\n",
    "X =[]\n",
    "Y = []\n",
    "for a,b in zip(x,y):\n",
    "    X.append(grid2geo(a,b)[0])\n",
    "    Y.append(grid2geo(a,b)[1])\n",
    "    \n",
    "#alternatyva\n",
    "df['xai'], df['yai'] = zip(*df.apply(lambda x: grid2geo(x['X'], x['Y']), axis=1))"
   ]
  },
  {
   "cell_type": "code",
   "execution_count": 9,
   "metadata": {},
   "outputs": [],
   "source": [
    "gmp2['NX'] = pd.DataFrame(X, columns=['NX'])\n",
    "gmp2['NY'] = pd.DataFrame(Y, columns=['NY'])"
   ]
  },
  {
   "cell_type": "code",
   "execution_count": null,
   "metadata": {},
   "outputs": [],
   "source": [
    "gmp2.head()"
   ]
  },
  {
   "cell_type": "code",
   "execution_count": 12,
   "metadata": {},
   "outputs": [],
   "source": [
    "def gaisras(d):\n",
    "    if str(\"Gaisras\") in str(d):\n",
    "        return True\n",
    "    else:\n",
    "        False"
   ]
  },
  {
   "cell_type": "code",
   "execution_count": 13,
   "metadata": {},
   "outputs": [],
   "source": [
    "gmp2['Gaisras'] = gmp2['zemesnis_ivykio_tipas'].apply(gaisras)"
   ]
  },
  {
   "cell_type": "code",
   "execution_count": 14,
   "metadata": {},
   "outputs": [],
   "source": [
    "def did_gaisras(d):\n",
    "    if \"Gaisras\" in str(d) and \"Gaisras 0\" not in str(d):\n",
    "        return True\n",
    "    else:\n",
    "        False"
   ]
  },
  {
   "cell_type": "code",
   "execution_count": 15,
   "metadata": {},
   "outputs": [],
   "source": [
    "gmp2['Did_gaisras'] = gmp2['zemesnis_ivykio_tipas'].apply(did_gaisras)"
   ]
  },
  {
   "cell_type": "code",
   "execution_count": 16,
   "metadata": {},
   "outputs": [],
   "source": [
    "gmp2_dg = gmp2[gmp2['Did_gaisras']==True]"
   ]
  },
  {
   "cell_type": "code",
   "execution_count": null,
   "metadata": {},
   "outputs": [],
   "source": [
    "fig = px.scatter_mapbox(data_frame=gmp2_dg, lon='NX', lat='NY', zoom=6.1)\n",
    "fig.update_layout(mapbox_style='open-street-map')\n",
    "fig.update_layout(width=800, height=600)\n",
    "fig.show()"
   ]
  }
 ],
 "metadata": {
  "kernelspec": {
   "display_name": "Python 3",
   "language": "python",
   "name": "python3"
  },
  "language_info": {
   "codemirror_mode": {
    "name": "ipython",
    "version": 3
   },
   "file_extension": ".py",
   "mimetype": "text/x-python",
   "name": "python",
   "nbconvert_exporter": "python",
   "pygments_lexer": "ipython3",
   "version": "3.12.4"
  }
 },
 "nbformat": 4,
 "nbformat_minor": 2
}
