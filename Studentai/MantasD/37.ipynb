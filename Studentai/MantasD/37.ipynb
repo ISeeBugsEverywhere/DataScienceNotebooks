{
 "cells": [
  {
   "cell_type": "code",
   "execution_count": 1,
   "metadata": {},
   "outputs": [],
   "source": [
    "%reload_ext autoreload\n",
    "%autoreload 2"
   ]
  },
  {
   "cell_type": "code",
   "execution_count": 2,
   "metadata": {},
   "outputs": [],
   "source": [
    "import numpy as np\n",
    "import pandas as pd\n",
    "import matplotlib.pyplot as plt\n",
    "import warnings\n",
    "warnings.filterwarnings('ignore')\n",
    "import seaborn as sns\n",
    "import sqlite3\n",
    "import mysql.connector as cnt\n",
    "import plotly.express as px"
   ]
  },
  {
   "cell_type": "code",
   "execution_count": 3,
   "metadata": {},
   "outputs": [],
   "source": [
    "from manofunkcijos import *"
   ]
  },
  {
   "cell_type": "code",
   "execution_count": null,
   "metadata": {},
   "outputs": [],
   "source": [
    "gmp = pd.read_csv('../../DATA/GMP.csv')\n",
    "gmp.head(1)"
   ]
  },
  {
   "cell_type": "code",
   "execution_count": null,
   "metadata": {},
   "outputs": [],
   "source": [
    "# :mapbox\n",
    "fig = px.scatter_mapbox(data_frame=gmp, lon='X', lat='Y', zoom=5)\n",
    "fig.update_layout(mapbox_style='open-street-map')\n",
    "fig.update_layout(width=800, height=600)\n",
    "fig.show()"
   ]
  },
  {
   "cell_type": "code",
   "execution_count": null,
   "metadata": {},
   "outputs": [],
   "source": [
    "# atvaizduokite tik gaisrų įvykius žemėlapyje. \n",
    "gaisrai = gmp[gmp['zemesnis_ivykio_tipas'].str.contains('Gaisras')]\n",
    "fig = px.scatter_mapbox(data_frame=gaisrai, lon='X', lat='Y', zoom=6.1)\n",
    "fig.update_layout(mapbox_style='open-street-map')\n",
    "fig.update_layout(width=800, height=600)\n",
    "fig.show()\n"
   ]
  },
  {
   "cell_type": "code",
   "execution_count": null,
   "metadata": {},
   "outputs": [],
   "source": [
    "# atvaizduokite tik KET iškvietimus.\n",
    "ket = gmp[gmp['zemesnis_ivykio_tipas'] == 'KET pažeidimas']\n",
    "fig = px.scatter_mapbox(data_frame=ket, lon='X', lat='Y', zoom=6.1)\n",
    "fig.update_layout(mapbox_style='open-street-map')\n",
    "fig.update_layout(width=800, height=600)\n",
    "fig.show()\n",
    "#  ar yra vietų, į kur nebuvo apskritai važiuojama?"
   ]
  },
  {
   "cell_type": "code",
   "execution_count": 12,
   "metadata": {},
   "outputs": [],
   "source": [
    "#  ar yra vietų, į kur nebuvo apskritai važiuojama?\n",
    "#Taip"
   ]
  },
  {
   "cell_type": "code",
   "execution_count": null,
   "metadata": {},
   "outputs": [],
   "source": [
    "# streamlit"
   ]
  },
  {
   "cell_type": "code",
   "execution_count": 4,
   "metadata": {},
   "outputs": [],
   "source": [
    "from LKS94WGS84 import *"
   ]
  },
  {
   "cell_type": "code",
   "execution_count": 5,
   "metadata": {},
   "outputs": [],
   "source": [
    "gmp2 =  pd.read_csv('C:/Users/manta/OneDrive/Dokumentai/Python projektai/GMP.csv')"
   ]
  },
  {
   "cell_type": "code",
   "execution_count": null,
   "metadata": {},
   "outputs": [],
   "source": [
    "gmp2.head(10)"
   ]
  },
  {
   "cell_type": "code",
   "execution_count": null,
   "metadata": {},
   "outputs": [],
   "source": [
    "grid2geo(455179,6202578)"
   ]
  },
  {
   "cell_type": "code",
   "execution_count": 8,
   "metadata": {},
   "outputs": [],
   "source": [
    "# apply () axis\n",
    "# nuskaityti GMP failą (didenįjį), x, y koordinantes konvertuoti į pasaulines ilgumą ir platumą, pridėti gautąsias koordinantes kaip du naujus stulpelius.\n",
    "# atrinkti tik gaisrus iki 3jų autocisternų ir jų įvykių vietas atvaizduoti plotly express mapbox grafike.\n",
    "\n",
    "x = list(gmp2['X'])\n",
    "y = list(gmp2['Y'])\n",
    "X =[]\n",
    "Y = []\n",
    "for a,b in zip(x,y):\n",
    "    X.append(grid2geo(a,b)[0])\n",
    "    Y.append(grid2geo(a,b)[1])"
   ]
  },
  {
   "cell_type": "code",
   "execution_count": 9,
   "metadata": {},
   "outputs": [],
   "source": [
    "gmp2['NX'] = pd.DataFrame(X, columns=['NX'])\n",
    "gmp2['NY'] = pd.DataFrame(Y, columns=['NY'])"
   ]
  },
  {
   "cell_type": "code",
   "execution_count": null,
   "metadata": {},
   "outputs": [],
   "source": [
    "gmp2.head()"
   ]
  },
  {
   "cell_type": "code",
   "execution_count": 12,
   "metadata": {},
   "outputs": [],
   "source": [
    "def gaisras(d):\n",
    "    if str(\"Gaisras\") in str(d):\n",
    "        return True\n",
    "    else:\n",
    "        False"
   ]
  },
  {
   "cell_type": "code",
   "execution_count": 13,
   "metadata": {},
   "outputs": [],
   "source": [
    "gmp2['Gaisras'] = gmp2['zemesnis_ivykio_tipas'].apply(gaisras)"
   ]
  },
  {
   "cell_type": "code",
   "execution_count": 14,
   "metadata": {},
   "outputs": [],
   "source": [
    "def did_gaisras(d):\n",
    "    if \"Gaisras\" in str(d) and \"Gaisras 0\" not in str(d):\n",
    "        return True\n",
    "    else:\n",
    "        False"
   ]
  },
  {
   "cell_type": "code",
   "execution_count": 15,
   "metadata": {},
   "outputs": [],
   "source": [
    "gmp2['Did_gaisras'] = gmp2['zemesnis_ivykio_tipas'].apply(did_gaisras)"
   ]
  },
  {
   "cell_type": "code",
   "execution_count": 16,
   "metadata": {},
   "outputs": [],
   "source": [
    "gmp2_dg = gmp2[gmp2['Did_gaisras']==True]"
   ]
  },
  {
   "cell_type": "code",
   "execution_count": null,
   "metadata": {},
   "outputs": [],
   "source": [
    "fig = px.scatter_mapbox(data_frame=gmp2_dg, lon='NX', lat='NY', zoom=6.1)\n",
    "fig.update_layout(mapbox_style='open-street-map')\n",
    "fig.update_layout(width=800, height=600)\n",
    "fig.show()"
   ]
  }
 ],
 "metadata": {
  "kernelspec": {
   "display_name": "Python 3",
   "language": "python",
   "name": "python3"
  },
  "language_info": {
   "codemirror_mode": {
    "name": "ipython",
    "version": 3
   },
   "file_extension": ".py",
   "mimetype": "text/x-python",
   "name": "python",
   "nbconvert_exporter": "python",
   "pygments_lexer": "ipython3",
   "version": "3.12.4"
  }
 },
 "nbformat": 4,
 "nbformat_minor": 2
}
