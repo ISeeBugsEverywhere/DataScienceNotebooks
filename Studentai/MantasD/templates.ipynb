{
 "cells": [
  {
   "cell_type": "code",
   "execution_count": 1,
   "metadata": {},
   "outputs": [],
   "source": [
    "%reload_ext autoreload\n",
    "%autoreload 2"
   ]
  },
  {
   "cell_type": "code",
   "execution_count": 3,
   "metadata": {},
   "outputs": [],
   "source": [
    "from manofunkcijos import *"
   ]
  },
  {
   "cell_type": "code",
   "execution_count": null,
   "metadata": {},
   "outputs": [],
   "source": [
    "# pip install pandas"
   ]
  },
  {
   "cell_type": "code",
   "execution_count": null,
   "metadata": {},
   "outputs": [],
   "source": [
    "# :simp - pagrindinių bibliotekų importavimas\n",
    "# :imp - daugelio bibliotekų importavimas\n",
    "# :cnt - prisijungimas prie DB\n",
    "# :sql - SQL nuskaitymas iš DB\n",
    "# :fig, :sfig - vieno grafiko kodas\n",
    "# :fig4h, :sfig4h - 4rių ašių kodas\n",
    "# :sfigh2, :figh2 - dviejų ašių horizontaliai braižymas\n",
    "# :warnings - išjungia įspėjimus UserWarning\n",
    "# :streamlit - streamlit projekto pradžia\n",
    "# :theme - nustato grafikų temą (stilių)\n",
    "# :bar - vienas bar'as su x ašyje esančiais label'iais\n",
    "# :bar2 - du bar'ai su x ašyje esančiais label'iais\n",
    "# :bar3 - stulpelinio (bar) grafiko braižymas, kai yra 3 skirtingi barai, x ašyje norima turėti labelius\n",
    "#: pdsql - sql užklausa per pandas sql_query"
   ]
  }
 ],
 "metadata": {
  "kernelspec": {
   "display_name": "Python 3",
   "language": "python",
   "name": "python3"
  },
  "language_info": {
   "codemirror_mode": {
    "name": "ipython",
    "version": 3
   },
   "file_extension": ".py",
   "mimetype": "text/x-python",
   "name": "python",
   "nbconvert_exporter": "python",
   "pygments_lexer": "ipython3",
   "version": "3.12.4"
  }
 },
 "nbformat": 4,
 "nbformat_minor": 2
}
