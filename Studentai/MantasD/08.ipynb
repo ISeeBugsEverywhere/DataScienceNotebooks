{
 "cells": [
  {
   "cell_type": "code",
   "execution_count": 19,
   "metadata": {},
   "outputs": [],
   "source": [
    "f_name = 'F3.txt'\n",
    "\n",
    "f = open(file=f_name, mode='a', encoding='utf-8')\n",
    "\n",
    "f.write('Labas, čia append režimu atidarytas failas\\n')\n",
    "\n",
    "l = ['Labas\\n', 'rytas\\n','diena\\n', 'vakaras']\n",
    "f.writelines(l)\n",
    "\n",
    "f.close()"
   ]
  },
  {
   "cell_type": "code",
   "execution_count": 8,
   "metadata": {},
   "outputs": [],
   "source": [
    "# 120 is skaidriu\n",
    "# Su Notepad’u susikurkite failą pavadinimu 't.txt', ir jame įrašykite skaičius 1, 2, 3, 4, 5; po vieną skaičių į vieną eilutę.\n",
    "# • Su Python’u nuskaitykite šį failą po vieną eilutę ir išveskite į\n",
    "# ekraną.\n",
    "# • Nuskaitydami po eilutę, padauginkite kiekvieną nuskaitytą\n",
    "# skaičių iš\n",
    "# • 2 ir išspausdinkite\n",
    "# • iš jo paties ir išspausdinkite\n",
    "# • Ankstesniuose punktuose gautuosius rezultatus įrašykite į\n",
    "# failą taip: nuskaitytas skaičius, sandauga su 2, sandauga su\n",
    "# savimi pačiu. Turite gauti tokį failą:\n",
    "# 1 2 1\n",
    "# 2 4 4\n",
    "# 3 6 9\n",
    "f_name = 't.txt'\n",
    "\n",
    "f = open(f_name, mode='r', encoding='utf-8')\n",
    "\n",
    "turinys = f.readlines()\n",
    "\n",
    "f = open('rez.txt', mode='w', encoding='utf-8')\n",
    "\n",
    "for eil in turinys:\n",
    "    f.writelines(f'{int(eil):^2} {(int(eil)*2):^2} {(int(eil)*int(eil)):^2}\\n')\n",
    "    \n",
    "f.close()\n",
    "    "
   ]
  },
  {
   "cell_type": "code",
   "execution_count": 27,
   "metadata": {},
   "outputs": [
    {
     "name": "stdout",
     "output_type": "stream",
     "text": [
      "The Intergovernmental Oceanographic Commission of UNESCO (IOC) is warning with 100 per cent certainty that a tsunami measuring over one metre will hit the Mediterranean in the next 30 years.\n",
      "Spanish newspaper La Razon reports that the danger zone is the Averroes fault beneath the Alboran Sea - roughly halfway between the Málaga coast and north Africa.\n",
      "An earthquake here could cause six-metre waves, which would reach Spain in as little as 21 minutes. In a best-case scenario, coastal residents would still only have 35 minutes to flee inland.\n"
     ]
    }
   ],
   "source": [
    "# 120 is skaidriu\n",
    "#  Sukurkite tekstinį failą su Notepad ar kita programa, failo\n",
    "# plėtinys turėtų būti .txt\n",
    "# • Iš pirmojo Delfi straipsnio įkopijuokite 2 - 3 pastraipas ir\n",
    "# išsaugokite.\n",
    "# Užduotis:\n",
    "# Visi atsakymai rašomi į tą patį ats.txt failą.\n",
    "# • Įrašykite tekstą iš sukurtojo failo didžiosiomis raidėmis\n",
    "# • Kas 𝑛-tąjį žodį didžiomis raidėmis, 𝑛 įveda vartotojas.\n",
    "# • Kiekvieną žodį iš didžiosios raidės\n",
    "# • Kiekvienas žodis iš didžiosios raidės, kas antras -\n",
    "# parašytas atvirkščiai, kas 5-tas - vien tik didžiosiomis\n",
    "# raidėmis, kas 6-tame - simboliai \"a\" turi būti pakeisti\n",
    "# ':)' simboliais.\n",
    "f_name = 'text.txt'\n",
    "f_ats_name = 'ats.txt'\n",
    "\n",
    "f = open(f_name, mode='r', encoding='utf-8')\n",
    "f_ats = open(f_ats_name, mode='w', encoding='utf-8')\n",
    "\n",
    "turinys = f.read()\n",
    "\n",
    "print(turinys)\n",
    "\n",
    "f_ats.write(turinys.upper()+'\\n')\n",
    "\n",
    "n = int(input('N?'))\n",
    "words = turinys.split()\n",
    "for i, w in enumerate(words):\n",
    "    if i % n == 0:\n",
    "        words[i] = w.upper()\n",
    "txt = ' '.join(words)\n",
    "f_ats.write(txt +'\\n')\n",
    "\n",
    "words = turinys.title().split()\n",
    "for i, w in enumerate(words):\n",
    "    if i % 2 == 0:\n",
    "        words[i] = w[::-1]\n",
    "for i, w in enumerate(words):\n",
    "    if i % 5 == 0:\n",
    "        words[i] = w.upper()\n",
    "for i, w in enumerate(words):\n",
    "    if i % 6 == 0:\n",
    "        words[i] = w.replace('a', ':)')\n",
    "        \n",
    "txt = ' '.join(words)+'\\n'\n",
    "f_ats.write(txt)\n",
    "\n",
    "f_ats.write(turinys.title()+'\\n')\n",
    "\n",
    "f.close()\n",
    "f_ats.close()"
   ]
  }
 ],
 "metadata": {
  "kernelspec": {
   "display_name": "Python 3",
   "language": "python",
   "name": "python3"
  },
  "language_info": {
   "codemirror_mode": {
    "name": "ipython",
    "version": 3
   },
   "file_extension": ".py",
   "mimetype": "text/x-python",
   "name": "python",
   "nbconvert_exporter": "python",
   "pygments_lexer": "ipython3",
   "version": "3.12.4"
  }
 },
 "nbformat": 4,
 "nbformat_minor": 2
}
