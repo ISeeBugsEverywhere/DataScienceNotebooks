{
 "cells": [
  {
   "cell_type": "code",
   "execution_count": 19,
   "metadata": {},
   "outputs": [],
   "source": [
    "f_name = 'F3.txt'\n",
    "\n",
    "f = open(file=f_name, mode='a', encoding='utf-8')\n",
    "\n",
    "f.write('Labas, čia append režimu atidarytas failas\\n')\n",
    "\n",
    "l = ['Labas\\n', 'rytas\\n','diena\\n', 'vakaras']\n",
    "f.writelines(l)\n",
    "\n",
    "f.close()"
   ]
  },
  {
   "cell_type": "code",
   "execution_count": 8,
   "metadata": {},
   "outputs": [],
   "source": [
    "# 120 is skaidriu\n",
    "# Su Notepad’u susikurkite failą pavadinimu 't.txt', ir jame įrašykite skaičius 1, 2, 3, 4, 5; po vieną skaičių į vieną eilutę.\n",
    "# • Su Python’u nuskaitykite šį failą po vieną eilutę ir išveskite į\n",
    "# ekraną.\n",
    "# • Nuskaitydami po eilutę, padauginkite kiekvieną nuskaitytą\n",
    "# skaičių iš\n",
    "# • 2 ir išspausdinkite\n",
    "# • iš jo paties ir išspausdinkite\n",
    "# • Ankstesniuose punktuose gautuosius rezultatus įrašykite į\n",
    "# failą taip: nuskaitytas skaičius, sandauga su 2, sandauga su\n",
    "# savimi pačiu. Turite gauti tokį failą:\n",
    "# 1 2 1\n",
    "# 2 4 4\n",
    "# 3 6 9\n",
    "f_name = 't.txt'\n",
    "\n",
    "f = open(f_name, mode='r', encoding='utf-8')\n",
    "\n",
    "turinys = f.readlines()\n",
    "\n",
    "f = open('rez.txt', mode='w', encoding='utf-8')\n",
    "\n",
    "for eil in turinys:\n",
    "    f.writelines(f'{int(eil):^2} {(int(eil)*2):^2} {(int(eil)*int(eil)):^2}\\n')\n",
    "    \n",
    "f.close()\n",
    "    "
   ]
  },
  {
   "cell_type": "code",
   "execution_count": 27,
   "metadata": {},
   "outputs": [
    {
     "name": "stdout",
     "output_type": "stream",
     "text": [
      "The Intergovernmental Oceanographic Commission of UNESCO (IOC) is warning with 100 per cent certainty that a tsunami measuring over one metre will hit the Mediterranean in the next 30 years.\n",
      "Spanish newspaper La Razon reports that the danger zone is the Averroes fault beneath the Alboran Sea - roughly halfway between the Málaga coast and north Africa.\n",
      "An earthquake here could cause six-metre waves, which would reach Spain in as little as 21 minutes. In a best-case scenario, coastal residents would still only have 35 minutes to flee inland.\n"
     ]
    }
   ],
   "source": [
    "# 120 is skaidriu\n",
    "#  Sukurkite tekstinį failą su Notepad ar kita programa, failo\n",
    "# plėtinys turėtų būti .txt\n",
    "# • Iš pirmojo Delfi straipsnio įkopijuokite 2 - 3 pastraipas ir\n",
    "# išsaugokite.\n",
    "# Užduotis:\n",
    "# Visi atsakymai rašomi į tą patį ats.txt failą.\n",
    "# • Įrašykite tekstą iš sukurtojo failo didžiosiomis raidėmis\n",
    "# • Kas 𝑛-tąjį žodį didžiomis raidėmis, 𝑛 įveda vartotojas.\n",
    "# • Kiekvieną žodį iš didžiosios raidės\n",
    "# • Kiekvienas žodis iš didžiosios raidės, kas antras -\n",
    "# parašytas atvirkščiai, kas 5-tas - vien tik didžiosiomis\n",
    "# raidėmis, kas 6-tame - simboliai \"a\" turi būti pakeisti\n",
    "# ':)' simboliais.\n",
    "f_name = 'text.txt'\n",
    "f_ats_name = 'ats.txt'\n",
    "\n",
    "f = open(f_name, mode='r', encoding='utf-8')\n",
    "f_ats = open(f_ats_name, mode='w', encoding='utf-8')\n",
    "\n",
    "turinys = f.read()\n",
    "\n",
    "print(turinys)\n",
    "\n",
    "f_ats.write(turinys.upper()+'\\n')\n",
    "\n",
    "n = int(input('N?'))\n",
    "words = turinys.split()\n",
    "for i, w in enumerate(words):\n",
    "    if i % n == 0:\n",
    "        words[i] = w.upper()\n",
    "txt = ' '.join(words)\n",
    "f_ats.write(txt +'\\n')\n",
    "\n",
    "words = turinys.title().split()\n",
    "for i, w in enumerate(words):\n",
    "    if i % 2 == 0:\n",
    "        words[i] = w[::-1]\n",
    "for i, w in enumerate(words):\n",
    "    if i % 5 == 0:\n",
    "        words[i] = w.upper()\n",
    "for i, w in enumerate(words):\n",
    "    if i % 6 == 0:\n",
    "        words[i] = w.replace('a', ':)')\n",
    "        \n",
    "txt = ' '.join(words)+'\\n'\n",
    "f_ats.write(txt)\n",
    "\n",
    "f_ats.write(turinys.title()+'\\n')\n",
    "\n",
    "f.close()\n",
    "f_ats.close()"
   ]
  },
  {
   "cell_type": "code",
   "execution_count": 18,
   "metadata": {},
   "outputs": [
    {
     "name": "stdout",
     "output_type": "stream",
     "text": [
      "\n",
      "laba diena\n",
      "laba diena\n",
      "laba diena\n",
      "laba diena\n",
      "labadiena\n",
      "laba diena\n",
      "laba diena\n",
      "lana\n",
      "lana\n",
      "ggg\n",
      "ggg\n",
      "454\n",
      "555\n",
      "kaa\n"
     ]
    }
   ],
   "source": [
    "# sugalvokite ir parašykite funkciją, kuri įrašytų į failą nurodytą tekstą, automatiškai pridėdama\n",
    "# naujos eilutės simbolį.\n",
    "# (FreePascal writeln() analogas)\n",
    "tekstas = input('Ivesk teksta')\n",
    "def fn(t,a='\\n'):\n",
    "    f_name = 'text08.txt'\n",
    "    f = open(f_name, mode='a', encoding='utf-8')\n",
    "    tadd = a + t\n",
    "    f.write(tadd)\n",
    "    f.close()\n",
    "fn(tekstas)\n",
    "f1 = open(f_name, mode='r', encoding='utf-8')\n",
    "t1 = f1.read()\n",
    "f1.close()\n",
    "print(t1)\n"
   ]
  },
  {
   "cell_type": "code",
   "execution_count": 38,
   "metadata": {},
   "outputs": [
    {
     "data": {
      "text/plain": [
       "[]"
      ]
     },
     "execution_count": 38,
     "metadata": {},
     "output_type": "execute_result"
    }
   ],
   "source": [
    "# paršykite funkciją, kuriai galėtumėte nurodyti sąrašą arba eilutę tekstų, \n",
    "# ir ji grąžintų sąrašą, kuriame būtų tekstai, konvertuoti į skaičius\n",
    "# Funkcija turi grąžinti tuščią sąrašą, jei nepavyktų konvertuoti nors vieno teksto į skaičių\n",
    "\n",
    "def fn(a):\n",
    "    s = []\n",
    "    for i in a:\n",
    "        try:\n",
    "            s.append(int(i))\n",
    "        except Exception as ax:\n",
    "            s = []\n",
    "    return s\n",
    "    \n",
    "fn([5,4,3,'labas'])"
   ]
  },
  {
   "cell_type": "code",
   "execution_count": 29,
   "metadata": {},
   "outputs": [],
   "source": [
    "import math"
   ]
  },
  {
   "cell_type": "code",
   "execution_count": 31,
   "metadata": {},
   "outputs": [
    {
     "data": {
      "text/plain": [
       "3.0"
      ]
     },
     "execution_count": 31,
     "metadata": {},
     "output_type": "execute_result"
    }
   ],
   "source": [
    "math.sqrt(9)"
   ]
  },
  {
   "cell_type": "code",
   "execution_count": 32,
   "metadata": {},
   "outputs": [],
   "source": [
    "import math as M"
   ]
  },
  {
   "cell_type": "code",
   "execution_count": 33,
   "metadata": {},
   "outputs": [
    {
     "data": {
      "text/plain": [
       "3.0"
      ]
     },
     "execution_count": 33,
     "metadata": {},
     "output_type": "execute_result"
    }
   ],
   "source": [
    "M.sqrt(9)"
   ]
  },
  {
   "cell_type": "code",
   "execution_count": 34,
   "metadata": {},
   "outputs": [],
   "source": [
    "from math import sin, cos, sqrt"
   ]
  },
  {
   "cell_type": "code",
   "execution_count": 35,
   "metadata": {},
   "outputs": [
    {
     "data": {
      "text/plain": [
       "0.8414709848078965"
      ]
     },
     "execution_count": 35,
     "metadata": {},
     "output_type": "execute_result"
    }
   ],
   "source": [
    "sin(1)"
   ]
  },
  {
   "cell_type": "code",
   "execution_count": 36,
   "metadata": {},
   "outputs": [
    {
     "data": {
      "text/plain": [
       "3.0"
      ]
     },
     "execution_count": 36,
     "metadata": {},
     "output_type": "execute_result"
    }
   ],
   "source": [
    "sqrt(9)"
   ]
  },
  {
   "cell_type": "code",
   "execution_count": 37,
   "metadata": {},
   "outputs": [],
   "source": [
    "from math import *"
   ]
  },
  {
   "cell_type": "code",
   "execution_count": 38,
   "metadata": {},
   "outputs": [
    {
     "data": {
      "text/plain": [
       "1.5574077246549023"
      ]
     },
     "execution_count": 38,
     "metadata": {},
     "output_type": "execute_result"
    }
   ],
   "source": [
    "tan(1)"
   ]
  },
  {
   "cell_type": "code",
   "execution_count": 41,
   "metadata": {},
   "outputs": [],
   "source": [
    "import warnings\n",
    "warnings.filterwarnings('ignore')"
   ]
  },
  {
   "cell_type": "code",
   "execution_count": 42,
   "metadata": {},
   "outputs": [
    {
     "ename": "ModuleNotFoundError",
     "evalue": "No module named 'scipy'",
     "output_type": "error",
     "traceback": [
      "\u001b[1;31m---------------------------------------------------------------------------\u001b[0m",
      "\u001b[1;31mModuleNotFoundError\u001b[0m                       Traceback (most recent call last)",
      "Cell \u001b[1;32mIn[42], line 2\u001b[0m\n\u001b[0;32m      1\u001b[0m \u001b[38;5;28;01mimport\u001b[39;00m \u001b[38;5;21;01mmath\u001b[39;00m \u001b[38;5;28;01mas\u001b[39;00m \u001b[38;5;21;01mM\u001b[39;00m\n\u001b[1;32m----> 2\u001b[0m \u001b[38;5;28;01mimport\u001b[39;00m \u001b[38;5;21;01mscipy\u001b[39;00m \u001b[38;5;28;01mas\u001b[39;00m \u001b[38;5;21;01mS\u001b[39;00m\n",
      "\u001b[1;31mModuleNotFoundError\u001b[0m: No module named 'scipy'"
     ]
    }
   ],
   "source": [
    "import math as M\n",
    "import scipy as S"
   ]
  },
  {
   "cell_type": "code",
   "execution_count": 43,
   "metadata": {},
   "outputs": [
    {
     "ename": "ValueError",
     "evalue": "math domain error",
     "output_type": "error",
     "traceback": [
      "\u001b[1;31m---------------------------------------------------------------------------\u001b[0m",
      "\u001b[1;31mValueError\u001b[0m                                Traceback (most recent call last)",
      "Cell \u001b[1;32mIn[43], line 1\u001b[0m\n\u001b[1;32m----> 1\u001b[0m \u001b[43mM\u001b[49m\u001b[38;5;241;43m.\u001b[39;49m\u001b[43msqrt\u001b[49m\u001b[43m(\u001b[49m\u001b[38;5;241;43m-\u001b[39;49m\u001b[38;5;241;43m9\u001b[39;49m\u001b[43m)\u001b[49m\n",
      "\u001b[1;31mValueError\u001b[0m: math domain error"
     ]
    }
   ],
   "source": [
    "M.sqrt(-9)"
   ]
  },
  {
   "cell_type": "code",
   "execution_count": 51,
   "metadata": {},
   "outputs": [],
   "source": [
    "import random"
   ]
  },
  {
   "cell_type": "code",
   "execution_count": 48,
   "metadata": {},
   "outputs": [
    {
     "name": "stdout",
     "output_type": "stream",
     "text": [
      "0.3128334679285023\n"
     ]
    }
   ],
   "source": [
    "f = random.random() # (0-1)\n",
    "print(f)"
   ]
  },
  {
   "cell_type": "code",
   "execution_count": 50,
   "metadata": {},
   "outputs": [
    {
     "name": "stdout",
     "output_type": "stream",
     "text": [
      "27\n"
     ]
    }
   ],
   "source": [
    "f = random.randint(10,100)\n",
    "print(f)"
   ]
  },
  {
   "cell_type": "code",
   "execution_count": 52,
   "metadata": {},
   "outputs": [
    {
     "name": "stdout",
     "output_type": "stream",
     "text": [
      "[5, 5, 5, 5, 5]\n"
     ]
    }
   ],
   "source": [
    "# parašykite funkciją, kuriai galėtumėte \n",
    "# nurodyti tris skaičius - elemnetų kiekį (ilgį), \n",
    "# ribas nuo, iki, ir ta funkcija grąžintų sąrašą\n",
    "# , nurodyto ilgio, atsitiktiniais sveikaisiais skaičiais užpildytą.\n",
    "\n",
    "k = int(input('Kiekis'))\n",
    "n = int(input('Nuo'))\n",
    "i = int(input('Iki'))\n",
    "s = []\n",
    "def fn(k, n, i):\n",
    "    for c in range(k):\n",
    "        s.append(random.randint(n,i))\n",
    "    return s\n",
    "print(fn(k,n,i))\n",
    "    "
   ]
  },
  {
   "cell_type": "code",
   "execution_count": 53,
   "metadata": {},
   "outputs": [
    {
     "name": "stdout",
     "output_type": "stream",
     "text": [
      "[1, 1, 1, 0, 0]\n"
     ]
    }
   ],
   "source": [
    "# parašyti funkciją, \n",
    "# kuri grąžintų nurodyto ilgio sąrašą, \n",
    "# užpildytą skaičiais tarp 0 ir 1\n",
    "\n",
    "k = int(input('Kiekis'))\n",
    "\n",
    "s = []\n",
    "def fn(k, n = 0, i = 1):\n",
    "    for c in range(k):\n",
    "        s.append(random.randint(n,i))\n",
    "    return s\n",
    "print(fn(k))"
   ]
  },
  {
   "cell_type": "code",
   "execution_count": 54,
   "metadata": {},
   "outputs": [
    {
     "name": "stdout",
     "output_type": "stream",
     "text": [
      "4\n",
      "Skaicius turetu buti mazesnis\n",
      "Atspejote skaiciu\n"
     ]
    }
   ],
   "source": [
    "# parašyti su amžinu while ciklu skaičių spėliojimo žaidimą.\n",
    "# Sugeneruojamas skaičius tarp 1 ir 10, vartotojas įveda spėjimą.\n",
    "# Programa pasako, ar įvestas skaičius yra mažesnis, ar didesnis už sugeneruotą skaičių.\n",
    "# Programa nutrūksta, kai atspėjamas skaičius.\n",
    "# Papildykite kodu, kuris parašytų, iš kelinto karto buvo atspėtas skaičius.\n",
    "sk = random.randint(1,10)\n",
    "i = 1\n",
    "print(sk)\n",
    "while i == 1:\n",
    "    x = int(input('Spekite skaiciu nuo 1 iki 10'))\n",
    "    if x < sk:\n",
    "        print('Skaicius turetu buti didesnis')\n",
    "    elif x > sk:\n",
    "        print('Skaicius turetu buti mazesnis')\n",
    "    else:\n",
    "        print('Atspejote skaiciu')\n",
    "        i = 0"
   ]
  },
  {
   "cell_type": "code",
   "execution_count": 169,
   "metadata": {},
   "outputs": [
    {
     "name": "stdout",
     "output_type": "stream",
     "text": [
      "([10, 42, 73, 21, 95], [21, 8, 43, 31, 18, 26])\n",
      "[10, 42, 73, 21, 95]\n",
      "[21, 8, 43, 31, 18, 26]\n",
      "[]\n",
      "[4, 2, 10, 4, 1, 4, 6, 10, 6, 2]\n",
      "[5, 4, 9, 5, 10, 7, 6, 1, 3, 6, 5, 3, 2, 6, 7, 9, 4, 10, 10, 5, 7, 8, 3, 3, 7, 4, 6, 2, 8, 4]\n",
      "[4, 10, 6, 1, 2]\n"
     ]
    }
   ],
   "source": [
    "# 5. Parašyti funkciją, kurioje sugeneruojamos dvi skaičių sekos\n",
    "# (jos gali būti skirtingo dydžio), programa turi grąžinti sąrašą\n",
    "# skaičių, kurie sutampa tarp dviejų sugeneruotu sąrašų,\n",
    "# galutiniame sąraše neturi būti skaičių dublikatų. PVZ: x =[1, 1,\n",
    "# 2, 3, 1] y = [1, 3, 5, 6] atsakymas = [1,3]\n",
    "\n",
    "def fn(k1, k2, n, i):\n",
    "    s1 = []\n",
    "    s2 = []\n",
    "    for c in range(k1):\n",
    "        s1.append(random.randint(n,i))\n",
    "    for a in range(k2):\n",
    "        s2.append(random.randint(n,i))   \n",
    "    return s1, s2\n",
    "ats = fn(5,6,7,100)\n",
    "print(ats)\n",
    "x1 = ats[0]\n",
    "print(x1)\n",
    "x2 = ats[1]\n",
    "print(x2)\n",
    "s = []\n",
    "for i in x1:\n",
    "    if i == x2:\n",
    "        s.append(i)\n",
    "print(s)\n",
    "# luko\n",
    "def lst_intersection():\n",
    "    lst1 = []\n",
    "    lst2 = []\n",
    "    i = 0\n",
    "    j = 0\n",
    "    a = random.randint(1, 10)\n",
    "    b = random.randint(1, 10)\n",
    "    while i != a:\n",
    "        lst1.append(random.randint(1, 30))\n",
    "        i+= 1\n",
    "        \n",
    "    while j != b:\n",
    "        lst2.append(random.randint(1, 30))\n",
    "        j+= 1\n",
    "    \n",
    "    \n",
    "    return list(set(lst1).intersection(lst2))\n",
    "# paulius\n",
    "l1=[]\n",
    "l2=[]\n",
    "bendri=[]\n",
    "for i in range(0, 10):\n",
    "    l1.append(random.randint(1, 10))\n",
    "for i in range(0, 30):\n",
    "    l2.append(random.randint(1, 10))\n",
    "if len(l1)>=len(l2):\n",
    "    for i in range(0, len(l1)):\n",
    "        if (l1[i] in l2) and (l1[i] not in bendri) :\n",
    "            bendri.append(l1[i])\n",
    "else:\n",
    "    for i in range(0, len(l2)):\n",
    "        if (l2[i] in l1)  and (l2[i] not in bendri):\n",
    "            bendri.append(l2[i])\n",
    "#ats=list(set(bendri))\n",
    "print(l1)\n",
    "print(l2)\n",
    "print(bendri)\n",
    "\n",
    "    "
   ]
  },
  {
   "cell_type": "code",
   "execution_count": 171,
   "metadata": {},
   "outputs": [],
   "source": [
    "# Parašykite kodą, kuris sukurtų tekstinį failą iš trijų stulpelių.\n",
    "# Pirmąjame stulpelyje skaičiai nuo 1 iki 25-kių, antrame - atsitiktiniai skaičiau - ribos 10 - 1000,\n",
    "# trečiame stulpelyje - atsitiktiniai skaičiai tarp 1 ir 10, tačiau - float tipo, turintys 4turis ženklus\n",
    "# po kablelio\n",
    "# stulpeliai atskirti viens nuo kito ;\n",
    "# Pavyzdys, kas maždaug turi gautis:\n",
    "1;25;1.4567\n",
    "2;42;7.5213\n",
    "# ir maždaug taip toliau\n",
    "\n",
    "\n",
    "f_name = 'text08-06.txt'\n",
    "f = open(f_name, mode='w', encoding='utf-8')\n",
    "\n",
    "for i in range(1,26):\n",
    "    f.write(str(i)+';')\n",
    "    f.write(str(random.randint(10,1000))+';')\n",
    "    x = round(random.uniform(1,10),4)\n",
    "    f.write(str(x))\n",
    "    f.write('\\n')\n",
    "    \n",
    "f.close()\n"
   ]
  },
  {
   "cell_type": "code",
   "execution_count": 117,
   "metadata": {},
   "outputs": [
    {
     "name": "stdout",
     "output_type": "stream",
     "text": [
      "Palindormas\n"
     ]
    }
   ],
   "source": [
    "# Parašyti funkciją, kuri patikrintų, ar duotas tekstas \n",
    "#    yra palindromas (palindròmas (gr. palindromos – sugrįžtantis), žodis, \n",
    "#   žodžių grupė, sakinys, posakis ar eilėraštis, \n",
    "#   kuris skaitomas iš galo reiškia tą patį arba bent yra prasmingas.)\n",
    "#   sula - alus, ėmė, savas, sėdėk užu kėdės, level, Hanah.\n",
    "\n",
    "# Ignoruoti raidžių registrą.\n",
    "# Turi veikti ir su skaičiais (pvz 12321, 666, 85258, etc.)\n",
    "# Vieno skaitmens skaičiai neturi būti laikomi palindromais.\n",
    "# Minuso ženklą - kaip sugalvosite. Mokėti pagrįsti savo sprendimą.\n",
    "def fn(a):\n",
    "    s=''\n",
    "    a = str(a.lower())\n",
    "    for i in a:\n",
    "        s = str(i) + s\n",
    "    if s == a and len(a)>1:\n",
    "        print('Palindormas')\n",
    "    else:\n",
    "        print('Ne palindormas')\n",
    "\n",
    "fn('-141-')"
   ]
  },
  {
   "cell_type": "code",
   "execution_count": 143,
   "metadata": {},
   "outputs": [
    {
     "name": "stdout",
     "output_type": "stream",
     "text": [
      "[5, 5, 10]\n",
      "6.6667\n"
     ]
    }
   ],
   "source": [
    "# parašyti funkciją, kuri suskaičiuotų pateiktų skaičių aritmetinį vidurkį.\n",
    "# Skaičiai pateikiami per *args\n",
    "# skaičiai gali būti kaip tekstai: '1', '2', '3.45280'\n",
    "# jei bent vieno skaičiaus nesugebėjo konvertuoti: turi grąžinti tekstą '0f'\n",
    "# vidurkį pateikti visada 4rių ženklų tikslumu\n",
    "\n",
    "s =[]\n",
    "def fn(a):\n",
    "    for i in a:\n",
    "        try:   \n",
    "            i = int(i)\n",
    "            s.append(i)\n",
    "        except Exception:\n",
    "            s.append('0f')\n",
    "    print(s)\n",
    "    return sum(s)/len(s)\n",
    "ats = fn([5,5,10])\n",
    "print(f'{ats:.4f}')"
   ]
  },
  {
   "cell_type": "code",
   "execution_count": 150,
   "metadata": {},
   "outputs": [
    {
     "data": {
      "text/plain": [
       "6.6667"
      ]
     },
     "execution_count": 150,
     "metadata": {},
     "output_type": "execute_result"
    }
   ],
   "source": [
    "def avg(*args):\n",
    "    s = '0f'\n",
    "    try:\n",
    "        f = [float(i) for i in args]\n",
    "        s = round(sum(f)/len(f),4)\n",
    "    except:\n",
    "        s= '0f'\n",
    "    return s\n",
    "\n",
    "avg(5,5,10)"
   ]
  },
  {
   "cell_type": "code",
   "execution_count": 172,
   "metadata": {},
   "outputs": [],
   "source": [
    "import os"
   ]
  },
  {
   "cell_type": "code",
   "execution_count": 173,
   "metadata": {},
   "outputs": [
    {
     "name": "stdout",
     "output_type": "stream",
     "text": [
      "c:\\Users\\manta\\OneDrive\\Dokumentai\\Python projektai\\DataScienceNotebooks\\Studentai\\MantasD\n"
     ]
    }
   ],
   "source": [
    "print(os.getcwd())"
   ]
  },
  {
   "cell_type": "code",
   "execution_count": 178,
   "metadata": {},
   "outputs": [
    {
     "name": "stdout",
     "output_type": "stream",
     "text": [
      "['01.ipynb', '02.ipynb', '03.ipynb', '04.ipynb', '05.ipynb', '06.ipynb', '07.ipynb', '08.ipynb', 'ats.txt', 'f1.txt', 'f2.txt', 'F3.txt', 'Mantas.txt', 'rez.txt', 't.txt', 'text.txt', 'text08-06.txt', 'text08.txt']\n"
     ]
    }
   ],
   "source": [
    "failai = os.listdir()\n",
    "print(failai)"
   ]
  },
  {
   "cell_type": "code",
   "execution_count": 177,
   "metadata": {},
   "outputs": [
    {
     "name": "stdout",
     "output_type": "stream",
     "text": [
      "c:\\Users\\manta\\OneDrive\\Dokumentai\\Python projektai\\DataScienceNotebooks\\Studentai\\MantasD\n"
     ]
    }
   ],
   "source": [
    "os.chdir('MantasD')\n",
    "print(os.getcwd())"
   ]
  },
  {
   "cell_type": "code",
   "execution_count": 183,
   "metadata": {},
   "outputs": [
    {
     "name": "stdout",
     "output_type": "stream",
     "text": [
      "c:\\Users\\manta\\OneDrive\\Dokumentai\\Python projektai\\DataScienceNotebooks\n"
     ]
    }
   ],
   "source": [
    "os.chdir('../..')\n",
    "print(os.getcwd())"
   ]
  },
  {
   "cell_type": "code",
   "execution_count": 184,
   "metadata": {},
   "outputs": [
    {
     "name": "stdout",
     "output_type": "stream",
     "text": [
      "c:\\Users\\manta\\OneDrive\\Dokumentai\\Python projektai\\DataScienceNotebooks\\Studentai\\MantasD\n"
     ]
    }
   ],
   "source": [
    "os.chdir('Studentai/MantasD/')\n",
    "print(os.getcwd())"
   ]
  },
  {
   "cell_type": "code",
   "execution_count": 186,
   "metadata": {},
   "outputs": [
    {
     "ename": "FileExistsError",
     "evalue": "[WinError 183] Cannot create a file when that file already exists: 'Failai'",
     "output_type": "error",
     "traceback": [
      "\u001b[1;31m---------------------------------------------------------------------------\u001b[0m",
      "\u001b[1;31mFileExistsError\u001b[0m                           Traceback (most recent call last)",
      "Cell \u001b[1;32mIn[186], line 1\u001b[0m\n\u001b[1;32m----> 1\u001b[0m \u001b[43mos\u001b[49m\u001b[38;5;241;43m.\u001b[39;49m\u001b[43mmkdir\u001b[49m\u001b[43m(\u001b[49m\u001b[38;5;124;43m'\u001b[39;49m\u001b[38;5;124;43mFailai\u001b[39;49m\u001b[38;5;124;43m'\u001b[39;49m\u001b[43m)\u001b[49m\n\u001b[0;32m      2\u001b[0m failai \u001b[38;5;241m=\u001b[39m os\u001b[38;5;241m.\u001b[39mlistdir()\n\u001b[0;32m      3\u001b[0m \u001b[38;5;28mprint\u001b[39m(failai)\n",
      "\u001b[1;31mFileExistsError\u001b[0m: [WinError 183] Cannot create a file when that file already exists: 'Failai'"
     ]
    }
   ],
   "source": [
    "os.mkdir('Failai')"
   ]
  },
  {
   "cell_type": "code",
   "execution_count": 187,
   "metadata": {},
   "outputs": [
    {
     "name": "stdout",
     "output_type": "stream",
     "text": [
      "['01.ipynb', '02.ipynb', '03.ipynb', '04.ipynb', '05.ipynb', '06.ipynb', '07.ipynb', '08.ipynb', 'ats.txt', 'f1.txt', 'f2.txt', 'F3.txt', 'Failai', 'Mantas.txt', 'rez.txt', 't.txt', 'text.txt', 'text08-06.txt', 'text08.txt']\n"
     ]
    }
   ],
   "source": [
    "failai = os.listdir()\n",
    "print(failai)"
   ]
  },
  {
   "cell_type": "code",
   "execution_count": 188,
   "metadata": {},
   "outputs": [],
   "source": [
    "os.rmdir('Failai')"
   ]
  },
  {
   "cell_type": "code",
   "execution_count": 191,
   "metadata": {},
   "outputs": [
    {
     "name": "stdout",
     "output_type": "stream",
     "text": [
      "c:\\Users\\manta\\OneDrive\\Dokumentai\\Python projektai\\DataScienceNotebooks\\Studentai\\MantasD\n",
      "['01.ipynb', '02.ipynb', '03.ipynb', '04.ipynb', '05.ipynb', '06.ipynb', '07.ipynb', '08.ipynb', 'ats.txt', 'demo.txt', 'f1.txt', 'f2.txt', 'F3.txt', 'Mantas.txt', 'rez.txt', 't.txt', 'text.txt', 'text08-06.txt', 'text08.txt']\n",
      "True\n"
     ]
    }
   ],
   "source": [
    "import os\n",
    "print(os.getcwd())\n",
    "# failo sukūrimas:\n",
    "f = open('demo.txt', mode='w')\n",
    "f.close()\n",
    "print(os.listdir()) # apžvalga failų\n",
    "print(os.path.isfile('demo.txt'))\n",
    "os.rename('demo.txt', 'renamed.txt')\n",
    "os.mkdir('example')"
   ]
  },
  {
   "cell_type": "code",
   "execution_count": null,
   "metadata": {},
   "outputs": [],
   "source": [
    "import shutil\n",
    "shutil.rmtree('example')"
   ]
  },
  {
   "cell_type": "code",
   "execution_count": 193,
   "metadata": {},
   "outputs": [
    {
     "name": "stdout",
     "output_type": "stream",
     "text": [
      "['ats.txt', 'f1.txt', 'f2.txt', 'F3.txt', 'Mantas.txt', 'renamed.txt', 'rez.txt', 't.txt', 'text.txt', 'text08-06.txt', 'text08.txt']\n"
     ]
    }
   ],
   "source": [
    "import glob\n",
    "txts = glob.glob('*.txt')\n",
    "print(txts)"
   ]
  },
  {
   "cell_type": "code",
   "execution_count": 3,
   "metadata": {},
   "outputs": [
    {
     "name": "stdout",
     "output_type": "stream",
     "text": [
      "['01.ipynb', '02.ipynb', '03.ipynb', '04.ipynb', '05.ipynb', '06.ipynb', '07.ipynb', '08-09.ipynb', 'Tekstiniai failai']\n",
      "[]\n"
     ]
    }
   ],
   "source": [
    "# Parašykite skriptą, kuris:\n",
    "# • Parodytų failus, esančius darbiniame aplanke\n",
    "import os\n",
    "print(os.listdir())\n",
    "# • Sukurtų aplanką, kurio pavadinimą įvestų pats vartotojas\n",
    "x = str(input(''))\n",
    "os. mkdir(x)\n",
    "# • Surastų visus txt plėtinį turinčius failus ir juos perkeltų į\n",
    "# naująjį aplanką.\n",
    "import glob\n",
    "txts = glob.glob('*.txt')\n",
    "print(txts)\n",
    "import shutil\n",
    "#failo perkėlimas:\n",
    "for i in txts:\n",
    "    shutil.move(i, dst='testas')\n"
   ]
  },
  {
   "cell_type": "code",
   "execution_count": 200,
   "metadata": {},
   "outputs": [],
   "source": [
    "os.rename('testas', 'Tekstiniai failai')"
   ]
  },
  {
   "cell_type": "code",
   "execution_count": 4,
   "metadata": {},
   "outputs": [],
   "source": [
    "os.rmdir('aaa')"
   ]
  }
 ],
 "metadata": {
  "kernelspec": {
   "display_name": "Python 3",
   "language": "python",
   "name": "python3"
  },
  "language_info": {
   "codemirror_mode": {
    "name": "ipython",
    "version": 3
   },
   "file_extension": ".py",
   "mimetype": "text/x-python",
   "name": "python",
   "nbconvert_exporter": "python",
   "pygments_lexer": "ipython3",
   "version": "3.12.4"
  }
 },
 "nbformat": 4,
 "nbformat_minor": 2
}
