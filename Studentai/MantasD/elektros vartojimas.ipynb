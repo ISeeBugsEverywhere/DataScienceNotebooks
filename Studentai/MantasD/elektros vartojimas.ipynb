{
 "cells": [
  {
   "cell_type": "code",
   "execution_count": 6,
   "metadata": {},
   "outputs": [],
   "source": [
    "import numpy as np\n",
    "import matplotlib.pyplot as plt"
   ]
  },
  {
   "cell_type": "code",
   "execution_count": 26,
   "metadata": {},
   "outputs": [],
   "source": [
    "#nuskaityti ir atvaizduoti fpc.csv failo stulpelius grafiškai \n",
    "from dateutil import parser\n",
    "class TxtReaders():\n",
    "    '''\n",
    "    Nuskaito failą, tekstinį\n",
    "    konvertuoja į skaičius,\n",
    "    pirmą stulpelį gali\n",
    "    konvertuoti į datetime\n",
    "    '''\n",
    "    def __init__(self, fname, sep=',', use_xy=[0,1],skip=0, convert_date=False) -> None:\n",
    "        self.fname= fname\n",
    "        self.skip = skip\n",
    "        self.xy = use_xy\n",
    "        self.sep=sep\n",
    "        self.convert = convert_date\n",
    "        self.__X = None\n",
    "        self.__Y = None\n",
    "        self.read_file()\n",
    "        \n",
    "    \n",
    "    def read_file(self):\n",
    "        f = open(self.fname, mode='r', encoding='utf-8')\n",
    "        lines = f.readlines()\n",
    "        f.close()\n",
    "        xl = []\n",
    "        yl = []\n",
    "        for line in lines[self.skip:]:\n",
    "            r = line.split(self.sep)\n",
    "            xi = r[self.xy[0]]\n",
    "            yi = r[self.xy[1]]\n",
    "            if self.convert:\n",
    "                x = parser.parse(xi)\n",
    "                xl.append(x)\n",
    "            else:\n",
    "                x = xi\n",
    "                xl.append(x)\n",
    "            y = yi\n",
    "            yl.append(y)\n",
    "        self.__X = xl\n",
    "        self.__Y = yl\n",
    "    \n",
    "    def X(self):\n",
    "        return self.__X\n",
    "    def Y(self):\n",
    "        return self.__Y"
   ]
  },
  {
   "cell_type": "code",
   "execution_count": 27,
   "metadata": {},
   "outputs": [],
   "source": [
    "fn = 'C:/Users/manta/OneDrive/Dokumentai/Python projektai/DataScienceNotebooks/Studentai/MantasD/DATA/Suminiai[2021-07 - 2024-07].csv'\n",
    "o = TxtReaders(fn,sep=';', skip=1) \n",
    "\n",
    "\n",
    "\n"
   ]
  }
 ],
 "metadata": {
  "kernelspec": {
   "display_name": "Python 3",
   "language": "python",
   "name": "python3"
  },
  "language_info": {
   "codemirror_mode": {
    "name": "ipython",
    "version": 3
   },
   "file_extension": ".py",
   "mimetype": "text/x-python",
   "name": "python",
   "nbconvert_exporter": "python",
   "pygments_lexer": "ipython3",
   "version": "3.12.4"
  }
 },
 "nbformat": 4,
 "nbformat_minor": 2
}
