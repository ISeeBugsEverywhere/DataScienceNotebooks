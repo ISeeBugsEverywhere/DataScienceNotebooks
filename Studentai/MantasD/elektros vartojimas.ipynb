{
 "cells": [
  {
   "cell_type": "code",
   "execution_count": 6,
   "metadata": {},
   "outputs": [],
   "source": [
    "import numpy as np\n",
    "import matplotlib.pyplot as plt"
   ]
  },
  {
   "cell_type": "code",
   "execution_count": 4,
   "metadata": {},
   "outputs": [],
   "source": [
    "#nuskaityti ir atvaizduoti fpc.csv failo stulpelius grafiškai \n",
    "from dateutil import parser\n",
    "class TxtReader():\n",
    "    '''\n",
    "    Nuskaito failą, tekstinį\n",
    "    konvertuoja į skaičius,\n",
    "    pirmą stulpelį gali\n",
    "    konvertuoti į datetime\n",
    "    '''\n",
    "    def __init__(self, fname, sep=',', use_xy=[0,1],skip=0, convert_date=False) -> None:\n",
    "        self.fname= fname\n",
    "        self.skip = skip\n",
    "        self.xy = use_xy\n",
    "        self.sep=sep\n",
    "        self.convert = convert_date\n",
    "        self.__X = None\n",
    "        self.__Y = None\n",
    "        self.read_file()\n",
    "        \n",
    "    \n",
    "    def read_file(self):\n",
    "        f = open(self.fname, mode='r', encoding='utf-8')\n",
    "        lines = f.readlines()\n",
    "        f.close()\n",
    "        xl = []\n",
    "        yl = []\n",
    "        for line in lines[self.skip:]:\n",
    "            r = line.split(self.sep)\n",
    "            xi = r[self.xy[0]]\n",
    "            yi = r[self.xy[1]]\n",
    "            if self.convert:\n",
    "                x = parser.parse(xi)\n",
    "                xl.append(x)\n",
    "            else:\n",
    "                x = float(xi)\n",
    "                xl.append(x)\n",
    "            y = float(yi)\n",
    "            yl.append(y)\n",
    "        self.__X = xl\n",
    "        self.__Y = yl\n",
    "    \n",
    "    def X(self):\n",
    "        return self.__X\n",
    "    def Y(self):\n",
    "        return self.__Y"
   ]
  },
  {
   "cell_type": "code",
   "execution_count": 7,
   "metadata": {},
   "outputs": [
    {
     "ename": "IndexError",
     "evalue": "list index out of range",
     "output_type": "error",
     "traceback": [
      "\u001b[1;31m---------------------------------------------------------------------------\u001b[0m",
      "\u001b[1;31mIndexError\u001b[0m                                Traceback (most recent call last)",
      "Cell \u001b[1;32mIn[7], line 2\u001b[0m\n\u001b[0;32m      1\u001b[0m fn \u001b[38;5;241m=\u001b[39m \u001b[38;5;124m'\u001b[39m\u001b[38;5;124mC:/Users/manta/OneDrive/Dokumentai/Python projektai/DataScienceNotebooks/Studentai/MantasD/DATA/Suminiai[2021-07 - 2024-07].csv\u001b[39m\u001b[38;5;124m'\u001b[39m\n\u001b[1;32m----> 2\u001b[0m o \u001b[38;5;241m=\u001b[39m \u001b[43mTxtReader\u001b[49m\u001b[43m(\u001b[49m\u001b[43mfn\u001b[49m\u001b[43m,\u001b[49m\u001b[43m \u001b[49m\u001b[43mskip\u001b[49m\u001b[38;5;241;43m=\u001b[39;49m\u001b[38;5;241;43m1\u001b[39;49m\u001b[43m,\u001b[49m\u001b[43mconvert_date\u001b[49m\u001b[38;5;241;43m=\u001b[39;49m\u001b[38;5;28;43;01mTrue\u001b[39;49;00m\u001b[43m)\u001b[49m \n\u001b[0;32m      3\u001b[0m fig, ax \u001b[38;5;241m=\u001b[39m plt\u001b[38;5;241m.\u001b[39msubplots()\n\u001b[0;32m      4\u001b[0m ax\u001b[38;5;241m.\u001b[39mplot(o\u001b[38;5;241m.\u001b[39mX(), o\u001b[38;5;241m.\u001b[39mY())\n",
      "Cell \u001b[1;32mIn[4], line 18\u001b[0m, in \u001b[0;36mTxtReader.__init__\u001b[1;34m(self, fname, sep, use_xy, skip, convert_date)\u001b[0m\n\u001b[0;32m     16\u001b[0m \u001b[38;5;28mself\u001b[39m\u001b[38;5;241m.\u001b[39m__X \u001b[38;5;241m=\u001b[39m \u001b[38;5;28;01mNone\u001b[39;00m\n\u001b[0;32m     17\u001b[0m \u001b[38;5;28mself\u001b[39m\u001b[38;5;241m.\u001b[39m__Y \u001b[38;5;241m=\u001b[39m \u001b[38;5;28;01mNone\u001b[39;00m\n\u001b[1;32m---> 18\u001b[0m \u001b[38;5;28;43mself\u001b[39;49m\u001b[38;5;241;43m.\u001b[39;49m\u001b[43mread_file\u001b[49m\u001b[43m(\u001b[49m\u001b[43m)\u001b[49m\n",
      "Cell \u001b[1;32mIn[4], line 30\u001b[0m, in \u001b[0;36mTxtReader.read_file\u001b[1;34m(self)\u001b[0m\n\u001b[0;32m     28\u001b[0m r \u001b[38;5;241m=\u001b[39m line\u001b[38;5;241m.\u001b[39msplit(\u001b[38;5;28mself\u001b[39m\u001b[38;5;241m.\u001b[39msep)\n\u001b[0;32m     29\u001b[0m xi \u001b[38;5;241m=\u001b[39m r[\u001b[38;5;28mself\u001b[39m\u001b[38;5;241m.\u001b[39mxy[\u001b[38;5;241m0\u001b[39m]]\n\u001b[1;32m---> 30\u001b[0m yi \u001b[38;5;241m=\u001b[39m \u001b[43mr\u001b[49m\u001b[43m[\u001b[49m\u001b[38;5;28;43mself\u001b[39;49m\u001b[38;5;241;43m.\u001b[39;49m\u001b[43mxy\u001b[49m\u001b[43m[\u001b[49m\u001b[38;5;241;43m1\u001b[39;49m\u001b[43m]\u001b[49m\u001b[43m]\u001b[49m\n\u001b[0;32m     31\u001b[0m \u001b[38;5;28;01mif\u001b[39;00m \u001b[38;5;28mself\u001b[39m\u001b[38;5;241m.\u001b[39mconvert:\n\u001b[0;32m     32\u001b[0m     x \u001b[38;5;241m=\u001b[39m parser\u001b[38;5;241m.\u001b[39mparse(xi)\n",
      "\u001b[1;31mIndexError\u001b[0m: list index out of range"
     ]
    }
   ],
   "source": [
    "fn = 'C:/Users/manta/OneDrive/Dokumentai/Python projektai/DataScienceNotebooks/Studentai/MantasD/DATA/Suminiai[2021-07 - 2024-07].csv'\n",
    "o = TxtReader(fn, skip=1,convert_date=True) \n",
    "fig, ax = plt.subplots()\n",
    "ax.plot(o.X(), o.Y())\n",
    "plt.show()\n",
    "\n"
   ]
  }
 ],
 "metadata": {
  "kernelspec": {
   "display_name": "Python 3",
   "language": "python",
   "name": "python3"
  },
  "language_info": {
   "codemirror_mode": {
    "name": "ipython",
    "version": 3
   },
   "file_extension": ".py",
   "mimetype": "text/x-python",
   "name": "python",
   "nbconvert_exporter": "python",
   "pygments_lexer": "ipython3",
   "version": "3.12.4"
  }
 },
 "nbformat": 4,
 "nbformat_minor": 2
}
