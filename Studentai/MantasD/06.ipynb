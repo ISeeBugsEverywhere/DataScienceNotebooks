{
 "cells": [
  {
   "cell_type": "code",
   "execution_count": 1,
   "metadata": {},
   "outputs": [
    {
     "name": "stdout",
     "output_type": "stream",
     "text": [
      "1\n",
      "2\n",
      "()\n"
     ]
    }
   ],
   "source": [
    "def fn_ma(pos1, pos2, *pos3):\n",
    "    print(pos1)\n",
    "    print(pos2)\n",
    "    print(pos3)\n",
    "    \n",
    "fn_ma(1,2)"
   ]
  },
  {
   "cell_type": "code",
   "execution_count": 2,
   "metadata": {},
   "outputs": [
    {
     "name": "stdout",
     "output_type": "stream",
     "text": [
      "1\n",
      "2\n",
      "('a', 'b', 1, 2, [10, 11, 12])\n"
     ]
    }
   ],
   "source": [
    "def fn_ma(pos1, pos2, *pos3):\n",
    "    print(pos1)\n",
    "    print(pos2)\n",
    "    print(pos3)\n",
    "    \n",
    "fn_ma(1,2, 'a','b',1,2,[10,11,12])"
   ]
  },
  {
   "cell_type": "code",
   "execution_count": 6,
   "metadata": {},
   "outputs": [
    {
     "data": {
      "text/plain": [
       "4"
      ]
     },
     "execution_count": 6,
     "metadata": {},
     "output_type": "execute_result"
    }
   ],
   "source": [
    "def sandauga(*pos3):\n",
    "    s = 1\n",
    "    for i in pos3:\n",
    "        s = s*i\n",
    "        return s\n",
    "    \n",
    "sandauga(4,5,6,7)"
   ]
  },
  {
   "cell_type": "code",
   "execution_count": 8,
   "metadata": {},
   "outputs": [
    {
     "name": "stdout",
     "output_type": "stream",
     "text": [
      "1\n",
      "(2, 3)\n",
      "4\n"
     ]
    }
   ],
   "source": [
    "def fn(arg1, *args, arg2):\n",
    "    print(arg1)\n",
    "    print(args)\n",
    "    print(arg2)\n",
    "    \n",
    "fn(1,2,3,arg2 = 4)"
   ]
  },
  {
   "cell_type": "code",
   "execution_count": 12,
   "metadata": {},
   "outputs": [
    {
     "name": "stdout",
     "output_type": "stream",
     "text": [
      "1\n",
      "(2, 3)\n",
      "4\n",
      "{'d': 7, 'f': 8, 'g': 32, 'answer': 42}\n"
     ]
    }
   ],
   "source": [
    "def fn(arg1, *args, arg2, **kwargs):\n",
    "    print(arg1)\n",
    "    print(args)\n",
    "    print(arg2)\n",
    "    print(kwargs)\n",
    "    \n",
    "fn(1,2,3,arg2 = 4, d = 7, f = 8,g = 32, answer = 42)"
   ]
  },
  {
   "cell_type": "code",
   "execution_count": 24,
   "metadata": {},
   "outputs": [
    {
     "name": "stdout",
     "output_type": "stream",
     "text": [
      "3\n",
      "1.5\n",
      "1.4142135623730951\n"
     ]
    }
   ],
   "source": [
    "# Parašykite funkciją, kuri suskaičiuotų aritmetinį arba\n",
    "# geometrinį vidurkį iš pateiktų skaičių. Pateikiamų skaičių\n",
    "# kiekis neapibrėžtas. Panaudokite raktažodžius, kad\n",
    "# nurodytumėte, kokį vidurkį reikia apskaičiuoti.\n",
    "\n",
    "def vidurkis(a,*args):\n",
    "    if a == 'a':\n",
    "        s = sum(args)\n",
    "        n = len(args)\n",
    "        return s/n\n",
    "    elif a == 's':\n",
    "        s = sum(args)\n",
    "        return s\n",
    "    elif a == 'g':\n",
    "        s = 1\n",
    "        for i in args:\n",
    "            s = s * i\n",
    "        n = len(args)\n",
    "        return s**(1/n)\n",
    "\n",
    "print(vidurkis('s',1,2))\n",
    "print(vidurkis('a',1,2))\n",
    "print(vidurkis('g',1,2))           "
   ]
  },
  {
   "cell_type": "code",
   "execution_count": null,
   "metadata": {},
   "outputs": [],
   "source": [
    "# Parašykite funkciją, kuriai galėtumėte nurodyti bet kokį skaičių/tekstų kiekį. \n",
    "# Funkcija turi gražinti sumą, kur būtų sudėti skaičiai ir, jei buvo nurodyti tekstai, \n",
    "# tekstų ilgiai. Pvz: fn(1,3,'labas') turi grąžinti skaičių 9.\n",
    "def fn(*args):\n",
    "    for i in args:\n",
    "        if type(i) == int:\n",
    "            "
   ]
  },
  {
   "cell_type": "code",
   "execution_count": 25,
   "metadata": {},
   "outputs": [
    {
     "ename": "AssertionError",
     "evalue": "Dalyba is nulio negalima!",
     "output_type": "error",
     "traceback": [
      "\u001b[1;31m---------------------------------------------------------------------------\u001b[0m",
      "\u001b[1;31mAssertionError\u001b[0m                            Traceback (most recent call last)",
      "Cell \u001b[1;32mIn[25], line 3\u001b[0m\n\u001b[0;32m      1\u001b[0m b \u001b[38;5;241m=\u001b[39m \u001b[38;5;241m5\u001b[39m\n\u001b[0;32m      2\u001b[0m a \u001b[38;5;241m=\u001b[39m \u001b[38;5;241m0\u001b[39m\n\u001b[1;32m----> 3\u001b[0m \u001b[38;5;28;01massert\u001b[39;00m a \u001b[38;5;241m!=\u001b[39m \u001b[38;5;241m0\u001b[39m, \u001b[38;5;124m'\u001b[39m\u001b[38;5;124mDalyba is nulio negalima!\u001b[39m\u001b[38;5;124m'\u001b[39m\n\u001b[0;32m      4\u001b[0m \u001b[38;5;28mprint\u001b[39m(b\u001b[38;5;241m/\u001b[39ma)\n",
      "\u001b[1;31mAssertionError\u001b[0m: Dalyba is nulio negalima!"
     ]
    }
   ],
   "source": [
    "b = 5\n",
    "a = 0\n",
    "assert a != 0, 'Dalyba is nulio negalima!'\n",
    "print(b/a)"
   ]
  },
  {
   "cell_type": "code",
   "execution_count": 26,
   "metadata": {},
   "outputs": [
    {
     "data": {
      "text/plain": [
       "20"
      ]
     },
     "execution_count": 26,
     "metadata": {},
     "output_type": "execute_result"
    }
   ],
   "source": [
    "def plotas(x,y):\n",
    "    return x*y\n",
    "\n",
    "plotas(-5,-4)"
   ]
  },
  {
   "cell_type": "code",
   "execution_count": 27,
   "metadata": {},
   "outputs": [
    {
     "ename": "AssertionError",
     "evalue": "matmenys negali buti neigiami",
     "output_type": "error",
     "traceback": [
      "\u001b[1;31m---------------------------------------------------------------------------\u001b[0m",
      "\u001b[1;31mAssertionError\u001b[0m                            Traceback (most recent call last)",
      "Cell \u001b[1;32mIn[27], line 5\u001b[0m\n\u001b[0;32m      2\u001b[0m     \u001b[38;5;28;01massert\u001b[39;00m x\u001b[38;5;241m>\u001b[39m\u001b[38;5;241m0\u001b[39m \u001b[38;5;129;01mand\u001b[39;00m y\u001b[38;5;241m>\u001b[39m\u001b[38;5;241m0\u001b[39m, \u001b[38;5;124m'\u001b[39m\u001b[38;5;124mmatmenys negali buti neigiami\u001b[39m\u001b[38;5;124m'\u001b[39m\n\u001b[0;32m      3\u001b[0m     \u001b[38;5;28;01mreturn\u001b[39;00m x\u001b[38;5;241m*\u001b[39my\n\u001b[1;32m----> 5\u001b[0m \u001b[43mplotas\u001b[49m\u001b[43m(\u001b[49m\u001b[38;5;241;43m-\u001b[39;49m\u001b[38;5;241;43m5\u001b[39;49m\u001b[43m,\u001b[49m\u001b[38;5;241;43m-\u001b[39;49m\u001b[38;5;241;43m4\u001b[39;49m\u001b[43m)\u001b[49m\n",
      "Cell \u001b[1;32mIn[27], line 2\u001b[0m, in \u001b[0;36mplotas\u001b[1;34m(x, y)\u001b[0m\n\u001b[0;32m      1\u001b[0m \u001b[38;5;28;01mdef\u001b[39;00m \u001b[38;5;21mplotas\u001b[39m(x,y):\n\u001b[1;32m----> 2\u001b[0m     \u001b[38;5;28;01massert\u001b[39;00m x\u001b[38;5;241m>\u001b[39m\u001b[38;5;241m0\u001b[39m \u001b[38;5;129;01mand\u001b[39;00m y\u001b[38;5;241m>\u001b[39m\u001b[38;5;241m0\u001b[39m, \u001b[38;5;124m'\u001b[39m\u001b[38;5;124mmatmenys negali buti neigiami\u001b[39m\u001b[38;5;124m'\u001b[39m\n\u001b[0;32m      3\u001b[0m     \u001b[38;5;28;01mreturn\u001b[39;00m x\u001b[38;5;241m*\u001b[39my\n",
      "\u001b[1;31mAssertionError\u001b[0m: matmenys negali buti neigiami"
     ]
    }
   ],
   "source": [
    "def plotas(x,y):\n",
    "    assert x>0 and y>0, 'matmenys negali buti neigiami'\n",
    "    return x*y\n",
    "\n",
    "plotas(-5,-4)"
   ]
  },
  {
   "cell_type": "code",
   "execution_count": 28,
   "metadata": {},
   "outputs": [
    {
     "data": {
      "text/plain": [
       "20"
      ]
     },
     "execution_count": 28,
     "metadata": {},
     "output_type": "execute_result"
    }
   ],
   "source": [
    "def plotas(x,y):\n",
    "    assert x>0 and y>0, 'matmenys negali buti neigiami'\n",
    "    return x*y\n",
    "\n",
    "plotas(5,4)"
   ]
  },
  {
   "cell_type": "code",
   "execution_count": 54,
   "metadata": {},
   "outputs": [
    {
     "name": "stdout",
     "output_type": "stream",
     "text": [
      "8.0\n",
      "-5.0\n",
      "-0.2\n"
     ]
    }
   ],
   "source": [
    "# • Parašykite funkciją, kuri galėtų ištraukti nurodyto laipsnio\n",
    "# šaknį iš nurodyto skaičiaus. Su assert užtikrinkite, jog jei\n",
    "# nurodoma lyginio laipsnio šaknis, tai skaičius (iš kurio\n",
    "# traukiama šaknis) turi būti teigiamas, kitu atveju rodykite\n",
    "# AssertionError klaidą.\n",
    "def sakn(a, b):\n",
    "    assert a > 0 or  b % 2 == 1, 'Lyginė šaknis traukiama tik iš teigiamo skaičiaus'\n",
    "    return round(abs(a**(1/b)),9)*abs(a)/a\n",
    "\n",
    "print(sakn(64,2))\n",
    "print(sakn(-125,3))\n",
    "print(sakn(-125,-3))\n"
   ]
  },
  {
   "cell_type": "code",
   "execution_count": null,
   "metadata": {},
   "outputs": [],
   "source": [
    "def r(x):\n",
    "    return x\n",
    "# =\n",
    "lambda x : x"
   ]
  },
  {
   "cell_type": "code",
   "execution_count": 55,
   "metadata": {},
   "outputs": [
    {
     "name": "stdout",
     "output_type": "stream",
     "text": [
      "4\n"
     ]
    }
   ],
   "source": [
    "ret = lambda x: x**2\n",
    "print(ret(2))"
   ]
  },
  {
   "cell_type": "code",
   "execution_count": 56,
   "metadata": {},
   "outputs": [
    {
     "name": "stdout",
     "output_type": "stream",
     "text": [
      "<map object at 0x000001E1C915E2C0>\n"
     ]
    }
   ],
   "source": [
    "l =[1,2,3,4,5,6,7,8,9]\n",
    "def r(x):\n",
    "    return x-0.25\n",
    "\n",
    "ats = map(r, l)\n",
    "print(ats)"
   ]
  },
  {
   "cell_type": "code",
   "execution_count": 57,
   "metadata": {},
   "outputs": [
    {
     "name": "stdout",
     "output_type": "stream",
     "text": [
      "[0.75, 1.75, 2.75, 3.75, 4.75, 5.75, 6.75, 7.75, 8.75]\n"
     ]
    }
   ],
   "source": [
    "l =[1,2,3,4,5,6,7,8,9]\n",
    "def r(x):\n",
    "    return x-0.25\n",
    "\n",
    "ats = list(map(r, l))\n",
    "print(ats)"
   ]
  },
  {
   "cell_type": "code",
   "execution_count": 61,
   "metadata": {},
   "outputs": [
    {
     "name": "stdout",
     "output_type": "stream",
     "text": [
      "(1, 2, 3)\n",
      "1\n",
      "2\n"
     ]
    }
   ],
   "source": [
    "def fn():\n",
    "    return 1,2,3\n",
    "\n",
    "ats = fn()\n",
    "print(ats)\n",
    "print(ats[0])\n",
    "print(ats[1])\n"
   ]
  },
  {
   "cell_type": "code",
   "execution_count": 62,
   "metadata": {},
   "outputs": [
    {
     "name": "stdout",
     "output_type": "stream",
     "text": [
      "1 3 2\n"
     ]
    }
   ],
   "source": [
    "kiekis, kodas, kaina = fn()\n",
    "print(kiekis, kaina, kodas)"
   ]
  },
  {
   "cell_type": "code",
   "execution_count": 64,
   "metadata": {},
   "outputs": [
    {
     "name": "stdout",
     "output_type": "stream",
     "text": [
      "1\n",
      "2\n",
      "[3, 4, 5]\n"
     ]
    }
   ],
   "source": [
    "def fn():\n",
    "    return 1,2,3,4,5\n",
    "\n",
    "kodas, kaina, *kas_liko =fn()\n",
    "print(kodas, kaina, kas_liko,sep='\\n')"
   ]
  },
  {
   "cell_type": "code",
   "execution_count": 65,
   "metadata": {},
   "outputs": [
    {
     "name": "stdout",
     "output_type": "stream",
     "text": [
      "4\n",
      "5\n",
      "[1, 2, 3]\n"
     ]
    }
   ],
   "source": [
    "*kas_liko, kodas, kaina = fn()\n",
    "print(kodas, kaina, kas_liko, sep ='\\n')"
   ]
  },
  {
   "cell_type": "code",
   "execution_count": 66,
   "metadata": {},
   "outputs": [
    {
     "name": "stdout",
     "output_type": "stream",
     "text": [
      "['L', 'a', 'b', 'a', 's', ' ', 'r', 'y', 't', 'a', 's']\n"
     ]
    }
   ],
   "source": [
    "*raides, = 'Labas rytas'\n",
    "print(raides)"
   ]
  },
  {
   "cell_type": "code",
   "execution_count": 67,
   "metadata": {},
   "outputs": [
    {
     "name": "stdout",
     "output_type": "stream",
     "text": [
      "0.25\n"
     ]
    }
   ],
   "source": [
    "eilute = '0.25,1.25'\n",
    "xstr, ystr = eilute.split(',')\n",
    "print(xstr)"
   ]
  },
  {
   "cell_type": "code",
   "execution_count": 69,
   "metadata": {},
   "outputs": [
    {
     "name": "stdout",
     "output_type": "stream",
     "text": [
      "1\n"
     ]
    }
   ],
   "source": [
    "l = [1,2,3]\n",
    "a,b,c = l\n",
    "print(a)"
   ]
  },
  {
   "cell_type": "code",
   "execution_count": 71,
   "metadata": {},
   "outputs": [
    {
     "name": "stdout",
     "output_type": "stream",
     "text": [
      "[0.75, 1.75, 2.75, 3.75, 4.75, 5.75, 6.75, 7.75, 8.75]\n",
      "[1.25, 2.25, 3.25, 4.25, 5.25, 6.25, 7.25, 8.25, 9.25]\n"
     ]
    }
   ],
   "source": [
    "l =[1,2,3,4,5,6,7,8,9]\n",
    "def r(x):\n",
    "    return x-0.25\n",
    "def t(x):\n",
    "    return x+0.25\n",
    "ats = list(map(r, l))\n",
    "print(ats)\n",
    "ats = list(map(t, l))\n",
    "print(ats)"
   ]
  },
  {
   "cell_type": "code",
   "execution_count": 73,
   "metadata": {},
   "outputs": [
    {
     "name": "stdout",
     "output_type": "stream",
     "text": [
      "[0.75, 1.75, 2.75, 3.75, 4.75, 5.75, 6.75, 7.75, 8.75]\n",
      "[0.25, 0.5, 0.75, 1.0, 1.25, 1.5, 1.75, 2.0, 2.25]\n"
     ]
    }
   ],
   "source": [
    "l =[1,2,3,4,5,6,7,8,9]\n",
    "\n",
    "ats = list(map(lambda x: x-0.25, l))\n",
    "print(ats)\n",
    "ats = list(map(lambda x: x*0.25, l))\n",
    "print(ats)\n"
   ]
  },
  {
   "cell_type": "code",
   "execution_count": 96,
   "metadata": {},
   "outputs": [
    {
     "name": "stdout",
     "output_type": "stream",
     "text": [
      "[34, 36, 11, 27, 37, 7, 12, 29, 8, 43, 30, 1, 43, 6, 14, 15, 1, 20, 5, 12]\n",
      "['Lyginis', 'Lyginis', 1331, 19683, 50653, 343, 'Lyginis', 24389, 'Lyginis', 79507, 'Lyginis', 1, 79507, 'Lyginis', 'Lyginis', 3375, 1, 'Lyginis', 125, 'Lyginis']\n",
      "['Nedalus', 'Fizz', 'Nedalus', 'Fizz', 'Nedalus', 'Nedalus', 'Fizz', 'Nedalus', 'Nedalus', 'Nedalus', 'FizzBuzz', 'Nedalus', 'Nedalus', 'Fizz', 'Nedalus', 'FizzBuzz', 'Nedalus', 'Buzz', 'Buzz', 'Fizz']\n"
     ]
    }
   ],
   "source": [
    "import random\n",
    "r = [random.randint(1,47) for i in range(20)]\n",
    "print(r)\n",
    "\n",
    "# Sugeneruoti sąrašą, kur vietoj lyginių skaičių būtų žodis 'Lyginis', o vietoj nelyginių - tas pats nelyginis, pakeltas kubiu.\n",
    "\n",
    "ats = list(map(lambda x: 'Lyginis' if x % 2 == 0 else x**3, r )) \n",
    "print(ats)\n",
    "\n",
    "# tas pats skaičių sąrašas r. Sugeneruokite naują sąrašą, kuriame būtų vietoj skaičių žodžiai Fizz, \n",
    "# Buzz, FizzBuzz arba pats skaičius, pagal FizzBuzz užduoties sąlygas (dalus iš 3jų, 5kių, iš 3jų ir iš 5kių, nedalus)\n",
    "\n",
    "ats2 = list (map(lambda x: 'FizzBuzz' if (x%3 == 0 and x%5 ==0) else 'Fizz' if x%3==0 else 'Buzz' if x%5 ==0 else 'Nedalus' , r ))\n",
    "print(ats2)"
   ]
  },
  {
   "cell_type": "code",
   "execution_count": 97,
   "metadata": {},
   "outputs": [
    {
     "name": "stdout",
     "output_type": "stream",
     "text": [
      "['Lyginis', 'Lyginis', 'Lyginis', 12167, 68921, 59319, 'Lyginis', 'Lyginis', 42875, 2197, 12167, 79507, 79507, 'Lyginis', 1331, 'Lyginis', 'Lyginis', 1331, 'Lyginis', 79507]\n"
     ]
    }
   ],
   "source": [
    "r = [random.randint(1,47) for i in range(20)]\n",
    "ats=list(map(lambda x: 'Lyginis' if x%2 == 0 else x**3, r))\n",
    "print(ats)"
   ]
  },
  {
   "cell_type": "code",
   "execution_count": 98,
   "metadata": {},
   "outputs": [
    {
     "name": "stdout",
     "output_type": "stream",
     "text": [
      "['Buzz', 14, 'Fizz', 'Fizz', 'Buzz', 7, 'Fizz', 16, 37, 'Fizz', 8, 'Fizz', 'Fizz', 'Buzz', 22, 43, 'Fizz', 23, 'Fizz', 'Buzz']\n"
     ]
    }
   ],
   "source": [
    "r = [random.randint(1,47) for i in range(20)]\n",
    "ats = list(map(lambda x: 'FizzBuzz' if x%3==0 and x%5 == 0 else 'Fizz' if x%3==0 else 'Buzz' if x%5 == 0 else x, r))\n",
    "print(ats)"
   ]
  },
  {
   "cell_type": "code",
   "execution_count": 100,
   "metadata": {},
   "outputs": [
    {
     "name": "stdout",
     "output_type": "stream",
     "text": [
      "['Lyginis', 'Lyginis', 19683, 'Lyginis', 'Lyginis', 343, 'Lyginis', 'Lyginis', 50653, 'Lyginis', 'Lyginis', 9261, 729, 125, 'Lyginis', 79507, 'Lyginis', 12167, 'Lyginis', 'Lyginis']\n"
     ]
    }
   ],
   "source": [
    "def f(x):\n",
    "    if x%2 == 0:\n",
    "        return 'Lyginis'\n",
    "    else:\n",
    "        return x**3\n",
    "\n",
    "ats = list(map(f,r))\n",
    "print(ats)"
   ]
  },
  {
   "cell_type": "code",
   "execution_count": 101,
   "metadata": {},
   "outputs": [
    {
     "name": "stdout",
     "output_type": "stream",
     "text": [
      "[43, 34, 32, 22, 29, 'Fizz', 'FizzBuzz', 19, 'Fizz', 'Fizz', 47, 8, 'FizzBuzz', 'Fizz', 'Fizz', 22, 'Fizz', 11, 14, 'Buzz']\n"
     ]
    }
   ],
   "source": [
    "r = [random.randint(1,47) for i in range(20)]\n",
    "\n",
    "def f(x):\n",
    "    if x %3 == 0 and x%5 == 0:\n",
    "        return 'FizzBuzz'\n",
    "    elif x %3 == 0:\n",
    "        return 'Fizz'\n",
    "    elif x %5 == 0:\n",
    "        return 'Buzz'\n",
    "    else:\n",
    "        return x\n",
    "\n",
    "ats = list(map(f,r))\n",
    "print(ats)"
   ]
  },
  {
   "cell_type": "code",
   "execution_count": 104,
   "metadata": {},
   "outputs": [
    {
     "name": "stdout",
     "output_type": "stream",
     "text": [
      "[1, 2, 3, 4, 5, 6, 7, 8, 9, 10]\n",
      "[0.02, 0.04, 0.06, 0.08, 0.1, 0.12, 0.14, 0.16, 0.18, 0.2]\n",
      "[50, 100, 150, 200, 250, 300, 350, 400, 450, 500]\n",
      "[0.013999999999999999, 0.034, 0.054000000000000006, 0.07400000000000001, 0.094, 0.114, 0.134, 0.154, 0.174, 0.19399999999999998]\n"
     ]
    }
   ],
   "source": [
    "l = [*range(1,11)]\n",
    "# Paklauskite vartotojo skaičiaus, ir sugenerukite tris sąrašus: l padalintas iš skaičiuaus, padaugintas iš skaičiaus, ir (l-0.3)/skaičius\n",
    "a = int(input('skaicius'))\n",
    "\n",
    "print(l)\n",
    "ats = list(map(lambda x: x/a, l))\n",
    "print(ats)\n",
    "ats = list(map(lambda x: x*a, l))\n",
    "print(ats)\n",
    "ats = list(map(lambda x: (x-0.3)/a, l))\n",
    "print(ats)\n"
   ]
  }
 ],
 "metadata": {
  "kernelspec": {
   "display_name": "Python 3",
   "language": "python",
   "name": "python3"
  },
  "language_info": {
   "codemirror_mode": {
    "name": "ipython",
    "version": 3
   },
   "file_extension": ".py",
   "mimetype": "text/x-python",
   "name": "python",
   "nbconvert_exporter": "python",
   "pygments_lexer": "ipython3",
   "version": "3.12.4"
  }
 },
 "nbformat": 4,
 "nbformat_minor": 2
}
