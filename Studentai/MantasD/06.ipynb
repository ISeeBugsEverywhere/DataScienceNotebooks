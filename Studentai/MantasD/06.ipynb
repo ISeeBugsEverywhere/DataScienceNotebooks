{
 "cells": [
  {
   "cell_type": "code",
   "execution_count": 1,
   "metadata": {},
   "outputs": [
    {
     "name": "stdout",
     "output_type": "stream",
     "text": [
      "1\n",
      "2\n",
      "()\n"
     ]
    }
   ],
   "source": [
    "def fn_ma(pos1, pos2, *pos3):\n",
    "    print(pos1)\n",
    "    print(pos2)\n",
    "    print(pos3)\n",
    "    \n",
    "fn_ma(1,2)"
   ]
  },
  {
   "cell_type": "code",
   "execution_count": 2,
   "metadata": {},
   "outputs": [
    {
     "name": "stdout",
     "output_type": "stream",
     "text": [
      "1\n",
      "2\n",
      "('a', 'b', 1, 2, [10, 11, 12])\n"
     ]
    }
   ],
   "source": [
    "def fn_ma(pos1, pos2, *pos3):\n",
    "    print(pos1)\n",
    "    print(pos2)\n",
    "    print(pos3)\n",
    "    \n",
    "fn_ma(1,2, 'a','b',1,2,[10,11,12])"
   ]
  },
  {
   "cell_type": "code",
   "execution_count": 6,
   "metadata": {},
   "outputs": [
    {
     "data": {
      "text/plain": [
       "4"
      ]
     },
     "execution_count": 6,
     "metadata": {},
     "output_type": "execute_result"
    }
   ],
   "source": [
    "def sandauga(*pos3):\n",
    "    s = 1\n",
    "    for i in pos3:\n",
    "        s = s*i\n",
    "        return s\n",
    "    \n",
    "sandauga(4,5,6,7)"
   ]
  },
  {
   "cell_type": "code",
   "execution_count": 8,
   "metadata": {},
   "outputs": [
    {
     "name": "stdout",
     "output_type": "stream",
     "text": [
      "1\n",
      "(2, 3)\n",
      "4\n"
     ]
    }
   ],
   "source": [
    "def fn(arg1, *args, arg2):\n",
    "    print(arg1)\n",
    "    print(args)\n",
    "    print(arg2)\n",
    "    \n",
    "fn(1,2,3,arg2 = 4)"
   ]
  },
  {
   "cell_type": "code",
   "execution_count": 12,
   "metadata": {},
   "outputs": [
    {
     "name": "stdout",
     "output_type": "stream",
     "text": [
      "1\n",
      "(2, 3)\n",
      "4\n",
      "{'d': 7, 'f': 8, 'g': 32, 'answer': 42}\n"
     ]
    }
   ],
   "source": [
    "def fn(arg1, *args, arg2, **kwargs):\n",
    "    print(arg1)\n",
    "    print(args)\n",
    "    print(arg2)\n",
    "    print(kwargs)\n",
    "    \n",
    "fn(1,2,3,arg2 = 4, d = 7, f = 8,g = 32, answer = 42)"
   ]
  },
  {
   "cell_type": "code",
   "execution_count": 24,
   "metadata": {},
   "outputs": [
    {
     "name": "stdout",
     "output_type": "stream",
     "text": [
      "3\n",
      "1.5\n",
      "1.4142135623730951\n"
     ]
    }
   ],
   "source": [
    "# Parašykite funkciją, kuri suskaičiuotų aritmetinį arba\n",
    "# geometrinį vidurkį iš pateiktų skaičių. Pateikiamų skaičių\n",
    "# kiekis neapibrėžtas. Panaudokite raktažodžius, kad\n",
    "# nurodytumėte, kokį vidurkį reikia apskaičiuoti.\n",
    "\n",
    "def vidurkis(a,*args):\n",
    "    if a == 'a':\n",
    "        s = sum(args)\n",
    "        n = len(args)\n",
    "        return s/n\n",
    "    elif a == 's':\n",
    "        s = sum(args)\n",
    "        return s\n",
    "    elif a == 'g':\n",
    "        s = 1\n",
    "        for i in args:\n",
    "            s = s * i\n",
    "        n = len(args)\n",
    "        return s**(1/n)\n",
    "\n",
    "print(vidurkis('s',1,2))\n",
    "print(vidurkis('a',1,2))\n",
    "print(vidurkis('g',1,2))           "
   ]
  },
  {
   "cell_type": "code",
   "execution_count": null,
   "metadata": {},
   "outputs": [],
   "source": [
    "# Parašykite funkciją, kuriai galėtumėte nurodyti bet kokį skaičių/tekstų kiekį. \n",
    "# Funkcija turi gražinti sumą, kur būtų sudėti skaičiai ir, jei buvo nurodyti tekstai, \n",
    "# tekstų ilgiai. Pvz: fn(1,3,'labas') turi grąžinti skaičių 9.\n",
    "def fn(*args):\n",
    "    for i in args:\n",
    "        if type(i) == int:\n",
    "            "
   ]
  },
  {
   "cell_type": "code",
   "execution_count": 25,
   "metadata": {},
   "outputs": [
    {
     "ename": "AssertionError",
     "evalue": "Dalyba is nulio negalima!",
     "output_type": "error",
     "traceback": [
      "\u001b[1;31m---------------------------------------------------------------------------\u001b[0m",
      "\u001b[1;31mAssertionError\u001b[0m                            Traceback (most recent call last)",
      "Cell \u001b[1;32mIn[25], line 3\u001b[0m\n\u001b[0;32m      1\u001b[0m b \u001b[38;5;241m=\u001b[39m \u001b[38;5;241m5\u001b[39m\n\u001b[0;32m      2\u001b[0m a \u001b[38;5;241m=\u001b[39m \u001b[38;5;241m0\u001b[39m\n\u001b[1;32m----> 3\u001b[0m \u001b[38;5;28;01massert\u001b[39;00m a \u001b[38;5;241m!=\u001b[39m \u001b[38;5;241m0\u001b[39m, \u001b[38;5;124m'\u001b[39m\u001b[38;5;124mDalyba is nulio negalima!\u001b[39m\u001b[38;5;124m'\u001b[39m\n\u001b[0;32m      4\u001b[0m \u001b[38;5;28mprint\u001b[39m(b\u001b[38;5;241m/\u001b[39ma)\n",
      "\u001b[1;31mAssertionError\u001b[0m: Dalyba is nulio negalima!"
     ]
    }
   ],
   "source": [
    "b = 5\n",
    "a = 0\n",
    "assert a != 0, 'Dalyba is nulio negalima!'\n",
    "print(b/a)"
   ]
  },
  {
   "cell_type": "code",
   "execution_count": 26,
   "metadata": {},
   "outputs": [
    {
     "data": {
      "text/plain": [
       "20"
      ]
     },
     "execution_count": 26,
     "metadata": {},
     "output_type": "execute_result"
    }
   ],
   "source": [
    "def plotas(x,y):\n",
    "    return x*y\n",
    "\n",
    "plotas(-5,-4)"
   ]
  },
  {
   "cell_type": "code",
   "execution_count": 27,
   "metadata": {},
   "outputs": [
    {
     "ename": "AssertionError",
     "evalue": "matmenys negali buti neigiami",
     "output_type": "error",
     "traceback": [
      "\u001b[1;31m---------------------------------------------------------------------------\u001b[0m",
      "\u001b[1;31mAssertionError\u001b[0m                            Traceback (most recent call last)",
      "Cell \u001b[1;32mIn[27], line 5\u001b[0m\n\u001b[0;32m      2\u001b[0m     \u001b[38;5;28;01massert\u001b[39;00m x\u001b[38;5;241m>\u001b[39m\u001b[38;5;241m0\u001b[39m \u001b[38;5;129;01mand\u001b[39;00m y\u001b[38;5;241m>\u001b[39m\u001b[38;5;241m0\u001b[39m, \u001b[38;5;124m'\u001b[39m\u001b[38;5;124mmatmenys negali buti neigiami\u001b[39m\u001b[38;5;124m'\u001b[39m\n\u001b[0;32m      3\u001b[0m     \u001b[38;5;28;01mreturn\u001b[39;00m x\u001b[38;5;241m*\u001b[39my\n\u001b[1;32m----> 5\u001b[0m \u001b[43mplotas\u001b[49m\u001b[43m(\u001b[49m\u001b[38;5;241;43m-\u001b[39;49m\u001b[38;5;241;43m5\u001b[39;49m\u001b[43m,\u001b[49m\u001b[38;5;241;43m-\u001b[39;49m\u001b[38;5;241;43m4\u001b[39;49m\u001b[43m)\u001b[49m\n",
      "Cell \u001b[1;32mIn[27], line 2\u001b[0m, in \u001b[0;36mplotas\u001b[1;34m(x, y)\u001b[0m\n\u001b[0;32m      1\u001b[0m \u001b[38;5;28;01mdef\u001b[39;00m \u001b[38;5;21mplotas\u001b[39m(x,y):\n\u001b[1;32m----> 2\u001b[0m     \u001b[38;5;28;01massert\u001b[39;00m x\u001b[38;5;241m>\u001b[39m\u001b[38;5;241m0\u001b[39m \u001b[38;5;129;01mand\u001b[39;00m y\u001b[38;5;241m>\u001b[39m\u001b[38;5;241m0\u001b[39m, \u001b[38;5;124m'\u001b[39m\u001b[38;5;124mmatmenys negali buti neigiami\u001b[39m\u001b[38;5;124m'\u001b[39m\n\u001b[0;32m      3\u001b[0m     \u001b[38;5;28;01mreturn\u001b[39;00m x\u001b[38;5;241m*\u001b[39my\n",
      "\u001b[1;31mAssertionError\u001b[0m: matmenys negali buti neigiami"
     ]
    }
   ],
   "source": [
    "def plotas(x,y):\n",
    "    assert x>0 and y>0, 'matmenys negali buti neigiami'\n",
    "    return x*y\n",
    "\n",
    "plotas(-5,-4)"
   ]
  },
  {
   "cell_type": "code",
   "execution_count": 28,
   "metadata": {},
   "outputs": [
    {
     "data": {
      "text/plain": [
       "20"
      ]
     },
     "execution_count": 28,
     "metadata": {},
     "output_type": "execute_result"
    }
   ],
   "source": [
    "def plotas(x,y):\n",
    "    assert x>0 and y>0, 'matmenys negali buti neigiami'\n",
    "    return x*y\n",
    "\n",
    "plotas(5,4)"
   ]
  },
  {
   "cell_type": "code",
   "execution_count": 54,
   "metadata": {},
   "outputs": [
    {
     "name": "stdout",
     "output_type": "stream",
     "text": [
      "8.0\n",
      "-5.0\n",
      "-0.2\n"
     ]
    }
   ],
   "source": [
    "# • Parašykite funkciją, kuri galėtų ištraukti nurodyto laipsnio\n",
    "# šaknį iš nurodyto skaičiaus. Su assert užtikrinkite, jog jei\n",
    "# nurodoma lyginio laipsnio šaknis, tai skaičius (iš kurio\n",
    "# traukiama šaknis) turi būti teigiamas, kitu atveju rodykite\n",
    "# AssertionError klaidą.\n",
    "def sakn(a, b):\n",
    "    assert a > 0 or  b % 2 == 1, 'Lyginė šaknis traukiama tik iš teigiamo skaičiaus'\n",
    "    return round(abs(a**(1/b)),9)*abs(a)/a\n",
    "\n",
    "print(sakn(64,2))\n",
    "print(sakn(-125,3))\n",
    "print(sakn(-125,-3))\n"
   ]
  },
  {
   "cell_type": "code",
   "execution_count": null,
   "metadata": {},
   "outputs": [],
   "source": [
    "def r(x):\n",
    "    return x\n",
    "# =\n",
    "lambda x : x"
   ]
  },
  {
   "cell_type": "code",
   "execution_count": 55,
   "metadata": {},
   "outputs": [
    {
     "name": "stdout",
     "output_type": "stream",
     "text": [
      "4\n"
     ]
    }
   ],
   "source": [
    "ret = lambda x: x**2\n",
    "print(ret(2))"
   ]
  },
  {
   "cell_type": "code",
   "execution_count": 56,
   "metadata": {},
   "outputs": [
    {
     "name": "stdout",
     "output_type": "stream",
     "text": [
      "<map object at 0x000001E1C915E2C0>\n"
     ]
    }
   ],
   "source": [
    "l =[1,2,3,4,5,6,7,8,9]\n",
    "def r(x):\n",
    "    return x-0.25\n",
    "\n",
    "ats = map(r, l)\n",
    "print(ats)"
   ]
  },
  {
   "cell_type": "code",
   "execution_count": 57,
   "metadata": {},
   "outputs": [
    {
     "name": "stdout",
     "output_type": "stream",
     "text": [
      "[0.75, 1.75, 2.75, 3.75, 4.75, 5.75, 6.75, 7.75, 8.75]\n"
     ]
    }
   ],
   "source": [
    "l =[1,2,3,4,5,6,7,8,9]\n",
    "def r(x):\n",
    "    return x-0.25\n",
    "\n",
    "ats = list(map(r, l))\n",
    "print(ats)"
   ]
  }
 ],
 "metadata": {
  "kernelspec": {
   "display_name": "Python 3",
   "language": "python",
   "name": "python3"
  },
  "language_info": {
   "codemirror_mode": {
    "name": "ipython",
    "version": 3
   },
   "file_extension": ".py",
   "mimetype": "text/x-python",
   "name": "python",
   "nbconvert_exporter": "python",
   "pygments_lexer": "ipython3",
   "version": "3.12.4"
  }
 },
 "nbformat": 4,
 "nbformat_minor": 2
}
