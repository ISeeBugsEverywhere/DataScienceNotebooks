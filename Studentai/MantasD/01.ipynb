{
 "cells": [
  {
   "cell_type": "code",
   "execution_count": 3,
   "metadata": {},
   "outputs": [
    {
     "name": "stdout",
     "output_type": "stream",
     "text": [
      "Labas vakaras\n"
     ]
    }
   ],
   "source": [
    "print ('Labas vakaras') "
   ]
  },
  {
   "cell_type": "code",
   "execution_count": 4,
   "metadata": {},
   "outputs": [
    {
     "name": "stdout",
     "output_type": "stream",
     "text": [
      "21\n"
     ]
    }
   ],
   "source": [
    "a = 15\n",
    "b = a + 6\n",
    "print (b)"
   ]
  },
  {
   "cell_type": "code",
   "execution_count": 5,
   "metadata": {},
   "outputs": [
    {
     "name": "stdout",
     "output_type": "stream",
     "text": [
      "10\n"
     ]
    }
   ],
   "source": [
    "a = 2024\n",
    "year = 2024\n",
    "\n",
    "mėsos_šmoto_svoris = 10\n",
    "print(mėsos_šmoto_svoris)"
   ]
  },
  {
   "cell_type": "code",
   "execution_count": 11,
   "metadata": {},
   "outputs": [
    {
     "name": "stdout",
     "output_type": "stream",
     "text": [
      "8\n",
      "256\n",
      "1.681792830507429\n",
      "3.0\n",
      "<class 'float'>\n",
      "21.0\n",
      "1\n"
     ]
    }
   ],
   "source": [
    "# sudėtis:\n",
    "print(1 +7)\n",
    "# kėlimas laipsniu:\n",
    "print(2**8)\n",
    "#n-tojo laipsnio šaknies ištraukimas\n",
    "print(64**(1/8))\n",
    "#skaičiaus priskyrimas kintamajam:\n",
    "a = 3.0\n",
    "print(a) # išves 3.0\n",
    "print(type(a)) #parašys, koks kintamojo tipas\n",
    "b = a *7 # atsakymo priskyrimas naujam kintamajam\n",
    "print(b) # atsakymo išvedimas\n",
    "print(9 % 4) # liekano radimas (operatoriaus %)"
   ]
  },
  {
   "cell_type": "code",
   "execution_count": 10,
   "metadata": {},
   "outputs": [
    {
     "name": "stdout",
     "output_type": "stream",
     "text": [
      "Vilnius\n",
      "yra \n",
      "miestas\n"
     ]
    }
   ],
   "source": [
    "a = '''Vilnius\n",
    "yra \n",
    "miestas'''\n",
    "print(a)"
   ]
  },
  {
   "cell_type": "code",
   "execution_count": 12,
   "metadata": {},
   "outputs": [
    {
     "name": "stdout",
     "output_type": "stream",
     "text": [
      "8\n"
     ]
    }
   ],
   "source": [
    "# len() \n",
    "t = \"Vilnius!\"\n",
    "ats = len(t)\n",
    "print(ats)"
   ]
  },
  {
   "cell_type": "code",
   "execution_count": 14,
   "metadata": {},
   "outputs": [
    {
     "name": "stdout",
     "output_type": "stream",
     "text": [
      "RYTAS\n",
      "Vilniaus miestas\n",
      "Kauno miestas\n"
     ]
    }
   ],
   "source": [
    "# metodai\n",
    "a = 'Rytas'\n",
    "ats =  a.upper() # .lower()\n",
    "print(ats)\n",
    "\n",
    "\n",
    "t = 'Vilniaus miestas'\n",
    "ats = t.replace('Vilniaus', 'Kauno')\n",
    "print(t)\n",
    "print(ats)"
   ]
  },
  {
   "cell_type": "code",
   "execution_count": 15,
   "metadata": {},
   "outputs": [
    {
     "name": "stdout",
     "output_type": "stream",
     "text": [
      "Rytas\n"
     ]
    }
   ],
   "source": [
    "a = 1\n",
    "a = 3\n",
    "a = 5\n",
    "a = 'Rytas'\n",
    "print (a)"
   ]
  },
  {
   "cell_type": "code",
   "execution_count": 16,
   "metadata": {},
   "outputs": [
    {
     "name": "stdout",
     "output_type": "stream",
     "text": [
      "10\n"
     ]
    }
   ],
   "source": [
    "a = 7\n",
    "A = 3\n",
    "print(a+A)"
   ]
  },
  {
   "cell_type": "code",
   "execution_count": 18,
   "metadata": {},
   "outputs": [
    {
     "name": "stdout",
     "output_type": "stream",
     "text": [
      "LabasRytas\n",
      "LabasLabasLabasLabasLabasLabas\n"
     ]
    }
   ],
   "source": [
    "a = 'Labas' + 'Rytas'\n",
    "print(a)\n",
    "b = 'Labas'*6\n",
    "print(b)"
   ]
  },
  {
   "cell_type": "code",
   "execution_count": 20,
   "metadata": {},
   "outputs": [
    {
     "name": "stdout",
     "output_type": "stream",
     "text": [
      "2\n"
     ]
    }
   ],
   "source": [
    "a = 'Vilniaus Kaunas'\n",
    "ats = a.count('i')\n",
    "print(ats)"
   ]
  },
  {
   "cell_type": "code",
   "execution_count": 21,
   "metadata": {},
   "outputs": [
    {
     "name": "stdout",
     "output_type": "stream",
     "text": [
      "1\n"
     ]
    }
   ],
   "source": [
    "a = 'Vilniaus Kaunas'\n",
    "ats = a.index('i')\n",
    "print(ats)"
   ]
  },
  {
   "cell_type": "code",
   "execution_count": 23,
   "metadata": {},
   "outputs": [
    {
     "name": "stdout",
     "output_type": "stream",
     "text": [
      "s\n"
     ]
    }
   ],
   "source": [
    "print(a[-1])"
   ]
  },
  {
   "cell_type": "code",
   "execution_count": 25,
   "metadata": {},
   "outputs": [
    {
     "name": "stdout",
     "output_type": "stream",
     "text": [
      "niaus \n"
     ]
    }
   ],
   "source": [
    "ats = a[3:9]\n",
    "print(ats)"
   ]
  },
  {
   "cell_type": "code",
   "execution_count": 26,
   "metadata": {},
   "outputs": [
    {
     "name": "stdout",
     "output_type": "stream",
     "text": [
      "Vilniaus Kaunas\n"
     ]
    }
   ],
   "source": [
    "ats = a[0:len(a)]\n",
    "print(ats)"
   ]
  },
  {
   "cell_type": "code",
   "execution_count": 28,
   "metadata": {},
   "outputs": [
    {
     "name": "stdout",
     "output_type": "stream",
     "text": [
      "Vnu\n"
     ]
    }
   ],
   "source": [
    "ats = a[0:9:3]\n",
    "print(ats)"
   ]
  },
  {
   "cell_type": "code",
   "execution_count": 30,
   "metadata": {},
   "outputs": [
    {
     "name": "stdout",
     "output_type": "stream",
     "text": [
      "Vliu ans\n"
     ]
    }
   ],
   "source": [
    "print(a[::2])"
   ]
  },
  {
   "cell_type": "code",
   "execution_count": 31,
   "metadata": {},
   "outputs": [
    {
     "name": "stdout",
     "output_type": "stream",
     "text": [
      "aunas\n"
     ]
    }
   ],
   "source": [
    "print(a[-5:])"
   ]
  },
  {
   "cell_type": "code",
   "execution_count": 32,
   "metadata": {},
   "outputs": [
    {
     "name": "stdout",
     "output_type": "stream",
     "text": [
      "sanuaK suainliV\n"
     ]
    }
   ],
   "source": [
    "print(a[::-1])"
   ]
  }
 ],
 "metadata": {
  "kernelspec": {
   "display_name": "Python 3",
   "language": "python",
   "name": "python3"
  },
  "language_info": {
   "codemirror_mode": {
    "name": "ipython",
    "version": 3
   },
   "file_extension": ".py",
   "mimetype": "text/x-python",
   "name": "python",
   "nbconvert_exporter": "python",
   "pygments_lexer": "ipython3",
   "version": "3.12.4"
  }
 },
 "nbformat": 4,
 "nbformat_minor": 2
}
