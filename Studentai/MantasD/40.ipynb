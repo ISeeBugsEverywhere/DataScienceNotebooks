{
 "cells": [
  {
   "cell_type": "code",
   "execution_count": 1,
   "metadata": {},
   "outputs": [],
   "source": [
    "%reload_ext autoreload\n",
    "%autoreload 2"
   ]
  },
  {
   "cell_type": "code",
   "execution_count": 1,
   "metadata": {},
   "outputs": [],
   "source": [
    "import numpy as np\n",
    "import pandas as pd\n",
    "import matplotlib.pyplot as plt\n",
    "import warnings\n",
    "warnings.filterwarnings('ignore')\n",
    "import seaborn as sns\n",
    "import sqlite3\n",
    "import mysql.connector as cnt\n",
    "import plotly.express as px\n",
    "\n",
    "from manofunkcijos import *\n",
    "\n",
    "import requests\n",
    "from bs4 import BeautifulSoup\n",
    "from selenium import webdriver # naršyklės kontroleris\n",
    "from selenium.webdriver.chrome.options import Options #Naršyklės\n",
    "# pip install beautifulsoup4 selenium"
   ]
  },
  {
   "cell_type": "code",
   "execution_count": 5,
   "metadata": {},
   "outputs": [],
   "source": [
    "url = 'https://kauno.diena.lt/'\n",
    "\n",
    "page = requests.get(url)\n",
    "source = page.content\n",
    "\n",
    "bs = BeautifulSoup(source, 'html.parser')\n",
    "\n"
   ]
  },
  {
   "cell_type": "code",
   "execution_count": 10,
   "metadata": {},
   "outputs": [
    {
     "name": "stdout",
     "output_type": "stream",
     "text": [
      "41\n"
     ]
    }
   ],
   "source": [
    "straipsniai = bs.find_all('div', {'class':'category-block-row grid-12 alpha omega unscore'})\n",
    "print(len(straipsniai))"
   ]
  },
  {
   "cell_type": "code",
   "execution_count": 14,
   "metadata": {},
   "outputs": [
    {
     "name": "stdout",
     "output_type": "stream",
     "text": [
      "::REM::\n",
      "<a class=\"articles-list-title\" href=\"naujienos/kaunas/miesto-pulsas/v-matijosaitis-miestas-nesustojo-tik-paciu-kaunieciu-deka-1195275\" style=\"font-size: 16px;line-height: 1.2;margin-bottom: 10px;display: inline;\">V. Matijošaitis: miestas nesustojo tik pačių kauniečių dėka</a>\n",
      "HREF?\n",
      "naujienos/kaunas/miesto-pulsas/v-matijosaitis-miestas-nesustojo-tik-paciu-kaunieciu-deka-1195275\n",
      "V. Matijošaitis: miestas nesustojo tik pačių kauniečių dėka\n",
      "::REM::\n",
      "<a class=\"articles-list-title\" href=\"naujienos/kaunas/miesto-pulsas/kauno-diena-pristato-kauno-detales-kuo-skiriasi-argentinka-nuo-brazilkos-1195282\" style=\"font-size: 16px;line-height: 1.2;margin-bottom: 10px;display: inline;\">„Kauno diena“ pristato „Kauno detales“: kuo skiriasi Argentinka nuo Brazilkos?</a>\n",
      "HREF?\n",
      "naujienos/kaunas/miesto-pulsas/kauno-diena-pristato-kauno-detales-kuo-skiriasi-argentinka-nuo-brazilkos-1195282\n",
      "„Kauno diena“ pristato „Kauno detales“: kuo skiriasi Argentinka nuo Brazilkos?\n",
      "::REM::\n",
      "<a class=\"articles-list-title\" href=\"naujienos/kaunas/menas-ir-pramogos/kaune-seniausio-estijos-menininku-kolektyvo-paroda-1195201\" style=\"font-size: 20px;line-height: 1.2;margin-bottom: 10px;display: inline;\">Kaune – seniausio Estijos menininkų kolektyvo paroda</a>\n",
      "HREF?\n",
      "naujienos/kaunas/menas-ir-pramogos/kaune-seniausio-estijos-menininku-kolektyvo-paroda-1195201\n",
      "Kaune – seniausio Estijos menininkų kolektyvo paroda\n",
      "::REM::\n",
      "<a class=\"articles-list-title\" href=\"naujienos/kaunas/miesto-pulsas/rinkejai-stebejosi-isankstiniu-balsavimu-tamsoje-atrodo-itartinai-1195200\" style=\"font-size: 16px;line-height: 1.2;margin-bottom: 10px;display: inline;\">Rinkėjai stebėjosi išankstiniu balsavimu tamsoje: atrodo įtartinai</a>\n",
      "HREF?\n",
      "naujienos/kaunas/miesto-pulsas/rinkejai-stebejosi-isankstiniu-balsavimu-tamsoje-atrodo-itartinai-1195200\n",
      "Rinkėjai stebėjosi išankstiniu balsavimu tamsoje: atrodo įtartinai\n",
      "::REM::\n",
      "<a class=\"articles-list-title\" href=\"naujienos/lietuva/salies-pulsas/sesiose-salies-savivaldybese-vyks-kariu-savanoriu-pratybos-1195172\" style=\"font-size: 16px;line-height: 1.2;margin-bottom: 10px;display: inline;\">Šešiose šalies savivaldybėse vyks karių savanorių pratybos</a>\n",
      "HREF?\n",
      "naujienos/lietuva/salies-pulsas/sesiose-salies-savivaldybese-vyks-kariu-savanoriu-pratybos-1195172\n",
      "Šešiose šalies savivaldybėse vyks karių savanorių pratybos\n",
      "::REM::\n",
      "<a class=\"articles-list-title\" href=\"naujienos/kaunas/nusikaltimai-ir-nelaimes/veiksmas-partizanu-gatveje-pareigunai-sturmavo-automobili-sulaikytas-vyras-1194672\" style=\"font-size: 16px;line-height: 1.2;margin-bottom: 10px;display: inline;\">Veiksmas Partizanų gatvėje: pareigūnai šturmavo automobilį, sulaikytas vyras</a>\n",
      "HREF?\n",
      "naujienos/kaunas/nusikaltimai-ir-nelaimes/veiksmas-partizanu-gatveje-pareigunai-sturmavo-automobili-sulaikytas-vyras-1194672\n",
      "Veiksmas Partizanų gatvėje: pareigūnai šturmavo automobilį, sulaikytas vyras\n",
      "::REM::\n",
      "<a class=\"articles-list-title\" href=\"naujienos/verslas/ekonomika/darbdavio-magija-kas-darbuotoja-skatina-isitraukti-ir-augti-1182991\" style=\"font-size: 16px;line-height: 1.2;margin-bottom: 10px;display: inline;\">Darbdavio magija: kas darbuotoją skatina įsitraukti ir augti?</a>\n",
      "HREF?\n",
      "naujienos/verslas/ekonomika/darbdavio-magija-kas-darbuotoja-skatina-isitraukti-ir-augti-1182991\n",
      "Darbdavio magija: kas darbuotoją skatina įsitraukti ir augti?\n",
      "::REM::\n",
      "<a class=\"articles-list-title\" href=\"naujienos/lietuva/salies-pulsas/akibrokstas-privaciai-greitajai-pagalbai-viskas-vyksta-pagal-sutarti-1194484\" style=\"font-size: 20px;line-height: 1.2;margin-bottom: 10px;display: inline;\">Akibrokštas privačiai greitajai pagalbai: 50 įdarbintų žmonių valstybei neįdomu?</a>\n",
      "HREF?\n",
      "naujienos/lietuva/salies-pulsas/akibrokstas-privaciai-greitajai-pagalbai-viskas-vyksta-pagal-sutarti-1194484\n",
      "Akibrokštas privačiai greitajai pagalbai: 50 įdarbintų žmonių valstybei neįdomu?\n",
      "::REM::\n",
      "<a class=\"articles-list-title\" href=\"naujienos/sveikata/psichologija/o-dabar-pakalbekime-apie-nieka-1194950\" style=\"font-size: 20px;line-height: 1.2;margin-bottom: 10px;display: inline;\">O dabar pakalbėkime apie… nieką</a>\n",
      "HREF?\n",
      "naujienos/sveikata/psichologija/o-dabar-pakalbekime-apie-nieka-1194950\n",
      "O dabar pakalbėkime apie… nieką\n",
      "::REM::\n",
      "<a class=\"articles-list-title\" href=\"naujienos/sveikata/sveikata/vilniaus-rajone-uz-daugiau-nei-835-tukst-euru-bus-modernizuojamos-sveikatos-centro-paslaugos-1195217\" style=\"font-size: 16px;line-height: 1.2;margin-bottom: 10px;display: inline;\">Vilniaus rajone už daugiau nei 835 tūkst. eurų bus modernizuojamos sveikatos centro paslaugos</a>\n",
      "HREF?\n",
      "naujienos/sveikata/sveikata/vilniaus-rajone-uz-daugiau-nei-835-tukst-euru-bus-modernizuojamos-sveikatos-centro-paslaugos-1195217\n",
      "Vilniaus rajone už daugiau nei 835 tūkst. eurų bus modernizuojamos sveikatos centro paslaugos\n",
      "::REM::\n",
      "<a class=\"articles-list-title\" href=\"naujienos/klaipeda/miesto-pulsas/po-vizito-i-kirpykla-sumaistis-1195220\" style=\"font-size: 20px;line-height: 1.2;margin-bottom: 10px;display: inline;\">Po vizito į kirpyklą – sumaištis: galvojau, jog esu skerdykloje</a>\n",
      "HREF?\n",
      "naujienos/klaipeda/miesto-pulsas/po-vizito-i-kirpykla-sumaistis-1195220\n",
      "Po vizito į kirpyklą – sumaištis: galvojau, jog esu skerdykloje\n",
      "::REM::\n",
      "<a class=\"articles-list-title\" href=\"naujienos/lietuva/politika/kandidate-kviete-atsivezti-ir-beisbolo-lazdas-ir-dalgius-teisesauga-tiria-raginima-susidoroti-1195262\" style=\"font-size: 16px;line-height: 1.2;margin-bottom: 10px;display: inline;\">Kandidatė kvietė atsivežti ir beisbolo lazdas, ir dalgius: teisėsauga tiria raginimą susidoroti</a>\n",
      "HREF?\n",
      "naujienos/lietuva/politika/kandidate-kviete-atsivezti-ir-beisbolo-lazdas-ir-dalgius-teisesauga-tiria-raginima-susidoroti-1195262\n",
      "Kandidatė kvietė atsivežti ir beisbolo lazdas, ir dalgius: teisėsauga tiria raginimą susidoroti\n",
      "::REM::\n",
      "<a class=\"articles-list-title\" href=\"naujienos/grazi-diena/auskaru-verimo-meistre-g-balevice-apie-grozi-kantrybe-profesionaluma-ir-truputeli-skausmo-1194964\" style=\"font-size: 20px;line-height: 1.2;margin-bottom: 10px;display: inline;\">Auskarų vėrimo meistrė G. Balevičė – apie grožį, kantrybę, profesionalumą ir truputėlį skausmo</a>\n",
      "HREF?\n",
      "naujienos/grazi-diena/auskaru-verimo-meistre-g-balevice-apie-grozi-kantrybe-profesionaluma-ir-truputeli-skausmo-1194964\n",
      "Auskarų vėrimo meistrė G. Balevičė – apie grožį, kantrybę, profesionalumą ir truputėlį skausmo\n",
      "::REM::\n",
      "<a class=\"articles-list-title\" href=\"naujienos/lietuva/salies-pulsas/deveta-nereiskia-skurdu-1194060\" style=\"font-size: 16px;line-height: 1.2;margin-bottom: 10px;display: inline;\">Tvari mada: dėvėta nereiškia skurdu</a>\n",
      "HREF?\n",
      "naujienos/lietuva/salies-pulsas/deveta-nereiskia-skurdu-1194060\n",
      "Tvari mada: dėvėta nereiškia skurdu\n",
      "::REM::\n",
      "<a class=\"articles-list-title\" href=\"https://www.diena.lt/naujienos/vilnius/miesto-pulsas/avulis-apie-nacionalinio-stadiono-projekta-reikia-dar-truputelio-kantrybes-1195289\" style=\"font-size: 16px;line-height: 1.2;margin-bottom: 10px;display: inline;\">A. Avulis apie Nacionalinio stadiono projektą: reikia dar truputėlio kantrybės</a>\n",
      "HREF?\n",
      "https://www.diena.lt/naujienos/vilnius/miesto-pulsas/avulis-apie-nacionalinio-stadiono-projekta-reikia-dar-truputelio-kantrybes-1195289\n",
      "A. Avulis apie Nacionalinio stadiono projektą: reikia dar truputėlio kantrybės\n",
      "::REM::\n",
      "<a class=\"articles-list-title\" href=\"naujienos/kauno-dienos-studija/kauno-dienos-studijoje-20-meti-minincio-kauno-miesto-simfoninio-orkestro-vadovas-1191320\" style=\"font-size: 20px;line-height: 1.2;margin-bottom: 10px;display: inline;\">„Kauno dienos“ studijoje – 20-metį mininčio Kauno miesto simfoninio orkestro vadovas </a>\n",
      "HREF?\n",
      "naujienos/kauno-dienos-studija/kauno-dienos-studijoje-20-meti-minincio-kauno-miesto-simfoninio-orkestro-vadovas-1191320\n",
      "„Kauno dienos“ studijoje – 20-metį mininčio Kauno miesto simfoninio orkestro vadovas \n",
      "::REM::\n",
      "<a class=\"articles-list-title\" href=\"naujienos/sportas/krepsinis/kauno-dienos-studijoje-kandidatas-i-lkf-prezidentus-r-javtokas-1190406\" style=\"font-size: 16px;line-height: 1.2;margin-bottom: 10px;display: inline;\">„Kauno dienos“ studijoje – kandidatas į LKF prezidentus R. Javtokas</a>\n",
      "HREF?\n",
      "naujienos/sportas/krepsinis/kauno-dienos-studijoje-kandidatas-i-lkf-prezidentus-r-javtokas-1190406\n",
      "„Kauno dienos“ studijoje – kandidatas į LKF prezidentus R. Javtokas\n",
      "::REM::\n",
      "<a class=\"articles-list-title\" href=\"naujienos/vilnius/miesto-pulsas/avulis-apie-nacionalinio-stadiono-projekta-reikia-dar-truputelio-kantrybes-1195289\" style=\"font-size: 20px;line-height: 1.2;margin-bottom: 10px;display: inline;\">A. Avulis apie Nacionalinio stadiono projektą: reikia dar truputėlio kantrybės</a>\n",
      "HREF?\n",
      "naujienos/vilnius/miesto-pulsas/avulis-apie-nacionalinio-stadiono-projekta-reikia-dar-truputelio-kantrybes-1195289\n",
      "A. Avulis apie Nacionalinio stadiono projektą: reikia dar truputėlio kantrybės\n",
      "::REM::\n",
      "<a class=\"articles-list-title\" href=\"naujienos/laisvalaikis-ir-kultura/kultura/kulturos-ministerijoje-pasirasomas-susitarimas-del-kulturos-inovaciju-skatinimo-1195170\" style=\"font-size: 16px;line-height: 1.2;margin-bottom: 10px;display: inline;\">Kultūros ministerijoje pasirašomas susitarimas dėl kultūros inovacijų skatinimo</a>\n",
      "HREF?\n",
      "naujienos/laisvalaikis-ir-kultura/kultura/kulturos-ministerijoje-pasirasomas-susitarimas-del-kulturos-inovaciju-skatinimo-1195170\n",
      "Kultūros ministerijoje pasirašomas susitarimas dėl kultūros inovacijų skatinimo\n",
      "::REM::\n",
      "<a class=\"articles-list-title\" href=\"naujienos/pasaulis/konfliktai-nelaimes/stebetojai-baltarusijoje-nusileido-du-rusu-orlaiviai-galintys-nesti-raketas-kinzal-1195279\" style=\"font-size: 20px;line-height: 1.2;margin-bottom: 10px;display: inline;\">Stebėtojai: Baltarusijoje nusileido du rusų orlaiviai, galintys nešti raketas „Kinžal“</a>\n",
      "HREF?\n",
      "naujienos/pasaulis/konfliktai-nelaimes/stebetojai-baltarusijoje-nusileido-du-rusu-orlaiviai-galintys-nesti-raketas-kinzal-1195279\n",
      "Stebėtojai: Baltarusijoje nusileido du rusų orlaiviai, galintys nešti raketas „Kinžal“\n",
      "::REM::\n",
      "<a class=\"articles-list-title\" href=\"naujienos/pasaulis/ekonomika-ir-politika/ukrainos-parlamentas-pritare-istoriniam-mokesciu-didinimui-1195263\" style=\"font-size: 16px;line-height: 1.2;margin-bottom: 10px;display: inline;\">Ukrainos parlamentas pritarė „istoriniam“ mokesčių didinimui</a>\n",
      "HREF?\n",
      "naujienos/pasaulis/ekonomika-ir-politika/ukrainos-parlamentas-pritare-istoriniam-mokesciu-didinimui-1195263\n",
      "Ukrainos parlamentas pritarė „istoriniam“ mokesčių didinimui\n",
      "::REM::\n",
      "<a class=\"articles-list-title\" href=\"naujienos/sportas/krepsinis/zalgirieciu-ieskojimu-kelyje-olympiakos-1195192\" style=\"font-size: 20px;line-height: 1.2;margin-bottom: 10px;display: inline;\">Žalgiriečių ieškojimų kelyje – „Olympiakos“</a>\n",
      "HREF?\n",
      "naujienos/sportas/krepsinis/zalgirieciu-ieskojimu-kelyje-olympiakos-1195192\n",
      "Žalgiriečių ieškojimų kelyje – „Olympiakos“\n",
      "::REM::\n",
      "<a class=\"articles-list-title\" href=\"naujienos/sportas/kitos-sporto-sakos/amerikietisku-kalneliu-citadele-kmt-mace-uteniskiai-palauze-svecius-kedainiu-1195152\" style=\"font-size: 16px;line-height: 1.2;margin-bottom: 10px;display: inline;\">Amerikietiškų kalnelių Citadele KMT mače uteniškiai palaužė svečius iš Kėdainių</a>\n",
      "HREF?\n",
      "naujienos/sportas/kitos-sporto-sakos/amerikietisku-kalneliu-citadele-kmt-mace-uteniskiai-palauze-svecius-kedainiu-1195152\n",
      "Amerikietiškų kalnelių Citadele KMT mače uteniškiai palaužė svečius iš Kėdainių\n",
      "::REM::\n",
      "<a class=\"articles-list-title\" href=\"naujienos/vilnius/nusikaltimai-ir-nelaimes/del-advokato-mirties-sukresti-kolegos-noretume-zinoti-ar-pareigunai-tinkamai-vykde-savo-misija-1195286\" style=\"font-size: 20px;line-height: 1.2;margin-bottom: 10px;display: inline;\">Dėl advokato mirties sukrėsti kolegos: norėtume žinoti, ar pareigūnai tinkamai vykdė savo misiją</a>\n",
      "HREF?\n",
      "naujienos/vilnius/nusikaltimai-ir-nelaimes/del-advokato-mirties-sukresti-kolegos-noretume-zinoti-ar-pareigunai-tinkamai-vykde-savo-misija-1195286\n",
      "Dėl advokato mirties sukrėsti kolegos: norėtume žinoti, ar pareigūnai tinkamai vykdė savo misiją\n",
      "::REM::\n",
      "<a class=\"articles-list-title\" href=\"naujienos/vilnius/nusikaltimai-ir-nelaimes/saudyniu-vilniuje-epicentre-atsidures-rezisierius-zmones-mane-eme-tempti-i-kavine-1195255\" style=\"font-size: 16px;line-height: 1.2;margin-bottom: 10px;display: inline;\">Šaudynių Vilniuje epicentre atsidūręs režisierius: žmonės mane ėmė tempti į kavinę</a>\n",
      "HREF?\n",
      "naujienos/vilnius/nusikaltimai-ir-nelaimes/saudyniu-vilniuje-epicentre-atsidures-rezisierius-zmones-mane-eme-tempti-i-kavine-1195255\n",
      "Šaudynių Vilniuje epicentre atsidūręs režisierius: žmonės mane ėmė tempti į kavinę\n",
      "::REM::\n",
      "<a class=\"articles-list-title\" href=\"naujienos/laisvalaikis-ir-kultura/zvaigzdes-ir-pramogos/sokiruojanti-tiesa-atskleista-m-jacksono-seksualinio-gyvenimo-paslaptis-1195244\" style=\"font-size: 20px;line-height: 1.2;margin-bottom: 10px;display: inline;\">Šokiruojanti tiesa: atskleista M. Jacksono seksualinio gyvenimo paslaptis</a>\n",
      "HREF?\n",
      "naujienos/laisvalaikis-ir-kultura/zvaigzdes-ir-pramogos/sokiruojanti-tiesa-atskleista-m-jacksono-seksualinio-gyvenimo-paslaptis-1195244\n",
      "Šokiruojanti tiesa: atskleista M. Jacksono seksualinio gyvenimo paslaptis\n",
      "::REM::\n",
      "<a class=\"articles-list-title\" href=\"naujienos/laisvalaikis-ir-kultura/zvaigzdes-ir-pramogos/atskleide-siurpia-tiesa-e-preslio-dukra-du-menesius-namuose-laike-mirusio-sunaus-kuna-1195231\" style=\"font-size: 16px;line-height: 1.2;margin-bottom: 10px;display: inline;\">Atskleidė šiurpią tiesą: E. Preslio dukra du mėnesius namuose laikė mirusio sūnaus kūną</a>\n",
      "HREF?\n",
      "naujienos/laisvalaikis-ir-kultura/zvaigzdes-ir-pramogos/atskleide-siurpia-tiesa-e-preslio-dukra-du-menesius-namuose-laike-mirusio-sunaus-kuna-1195231\n",
      "Atskleidė šiurpią tiesą: E. Preslio dukra du mėnesius namuose laikė mirusio sūnaus kūną\n",
      "::REM::\n",
      "<a class=\"articles-list-title\" href=\"naujienos/ivairenybes/horoskopai/dienos-horoskopas-12-zodiako-zenklu-spalio-10-d-1195139\" style=\"font-size: 20px;line-height: 1.2;margin-bottom: 10px;display: inline;\">Dienos horoskopas 12 Zodiako ženklų <span style=\"color:red;\">(spalio 10 d.)</span></a>\n",
      "HREF?\n",
      "naujienos/ivairenybes/horoskopai/dienos-horoskopas-12-zodiako-zenklu-spalio-10-d-1195139\n",
      "Dienos horoskopas 12 Zodiako ženklų (spalio 10 d.)\n",
      "::REM::\n",
      "<a class=\"articles-list-title\" href=\"naujienos/pasaulis/ekonomika-ir-politika/nobelio-chemijos-premija-pasidalijo-jav-ir-jk-mokslininkai-1195066\" style=\"font-size: 16px;line-height: 1.2;margin-bottom: 10px;display: inline;\">Nobelio chemijos premiją pasidalijo JAV ir JK mokslininkai</a>\n",
      "HREF?\n",
      "naujienos/pasaulis/ekonomika-ir-politika/nobelio-chemijos-premija-pasidalijo-jav-ir-jk-mokslininkai-1195066\n",
      "Nobelio chemijos premiją pasidalijo JAV ir JK mokslininkai\n"
     ]
    }
   ],
   "source": [
    "for s in straipsniai:\n",
    "    i = s.find('div', {'class':'articles-list-title-wrapper'})\n",
    "    if i is not None:\n",
    "        t = i.find('a', {'class':'articles-list-title'})\n",
    "        print('::REM::')\n",
    "        print(t)\n",
    "        print('HREF?')\n",
    "        print(t['href'])\n",
    "        print(t.text)"
   ]
  },
  {
   "cell_type": "code",
   "execution_count": 15,
   "metadata": {},
   "outputs": [],
   "source": [
    "url = 'https://kauno.diena.lt/naujienos/kaunas/miesto-pulsas/v-matijosaitis-miestas-nesustojo-tik-paciu-kaunieciu-deka-1195275'\n",
    "page = requests.get(url)\n",
    "source = page.content\n",
    "\n",
    "bs = BeautifulSoup(source, 'html.parser')"
   ]
  },
  {
   "cell_type": "code",
   "execution_count": 16,
   "metadata": {},
   "outputs": [
    {
     "name": "stdout",
     "output_type": "stream",
     "text": [
      "1\n"
     ]
    }
   ],
   "source": [
    "straipsniai = bs.find_all('span', {'itemprop':'articleBody'})\n",
    "print(len(straipsniai))"
   ]
  },
  {
   "cell_type": "code",
   "execution_count": 20,
   "metadata": {},
   "outputs": [
    {
     "name": "stdout",
     "output_type": "stream",
     "text": [
      "– Devyneri su puse metų – greitai minėsite dešimtmečio sukaktį. Dar užpernai pasiekėte rekordą, būdamas ilgiausiai dirbančiu Kauno meru per nepriklausomybės laikotarpį. Ką jums tai reiškia?\n",
      "– Nesureikšminu tų skaičių ir rekordų, bet viena žinau, kad pats nebejaunėju. Gal dėl to ir norisi dar daug ką suspėti. Atrodo, nuveikta tikrai nemažai, bet kai pažiūriu, kiek visko priplanuota... Esu ramus, kad ateičiai nemažai projektų jau paruošta, kiti – rengimo stadijoje. Idėjų mūsų komandai niekada netrūko – reikia tik užtektinai finansų ir šiek tiek laiko joms įgyvendinti. Gal dar kokių dešimties metų (juokiasi)...\n",
      "– Jūs šypsotės, bet daugelis išties norėtų sužinoti, kiek dar turite ambicijų tęsti darbus Kauno mero poste?\n",
      "– Čia vienas dažnesnių klausimų, į kurį atsakymo pats sau neturiu. Tai niekada nebuvo mano asmeninė ambicija. Turėjau tik labai konkretų norą – sutvarkyti, pakeisti miestą. Pamenu, kažkada išvis galvojau neiti į šitas pareigas, po rinkimų 2015-aisiais domėjausi, kaip galėčiau jų atsisakyti.\n",
      "Vėliau atradom gerą ryšį su tuomet buvusia Vyriausybe – pajaučiau, kad Kaunas sulaukia dėmesio ir palaikymo iš šalies valdžios. Bet čia kalbu apie 2016–2020 metų kadenciją, kuomet vadovavo Saulius Skvernelis su savo ministrų kabinetu. Paprastai tariant, su Kaunu tuomet tikrai skaitėsi.\n",
      "\n",
      "\n",
      "Paskiau atėjo dabartiniai valdantieji ir supratau, jog situacija keičiasi – į mūsų pusę jie nebežiūri, jokios pagarbos Kaunui. Paėmė azartas nenumesti visko, bet pakovot už savo miestą. Dabar galiu pasakyti, kad buvo verta. Nors iš nueinančios Vyriausybės Kaunas didesniems projektams negavo beveik nieko, bet suvaldėm situaciją – miestas nesustojo. Visa tai yra pačių kauniečių dėka.\n",
      "\n",
      "Turėjau tik labai konkretų norą – sutvarkyti, pakeisti miestą.\n",
      "\n",
      "Jeigu ne tas iki tol įgytas pagreitis, verslų plėtra, valdžia mums būtų „užtraukusi“ rankinį stabdį. Tikiuosi, greitai situacija pasikeis ir mes tiesime naujus tiltus ne tik per upes, bet ir perkeltine prasme.\n",
      "– Atrodo, kad ir šis ruduo Kaunui – gana derlingas: pirmosios įkurtuvės Inovacijų parke „ALEX“, startavo dar vieno tilto statybos, ruošiatės „Mokslo salos“ muziejaus atidarymui. Turite kuo pasidžiaugti?\n",
      "– Yra nemažai gražių progų... Dabar tiltų statymo metai – porą statom, trečią baigiam projektuoti, jau startavom ir su viaduko statybomis. Kyla du baseinai, Romainiuose matosi naujo vaikų darželio pamatai, toliau atnaujinami parkai, kitos žalios erdvės, tvarkoma susisiekimo infrastruktūra.\n",
      "Bet geriausia džiaugtis ir švęsti ne darbų pradžią, o pabaigtuves, kai žmonės gali matyti apčiuopiamą rezultatą. Tokių vien šiemet irgi turim užtektinai: daugelis jau spėjo pasigėrėti atgijusiu Dainų slėniu, dabar artėja „Mokslo salos“ atidarymas, atversim ir Lengvosios atletikos maniežą. Toliau ruošiamės Čiurlionio koncertų centro statyboms, projektuojame nemažai išskirtinių sporto ir laisvalaikio objektų.\n",
      "– Opozicijos atstovai tikriausiai vėl pasikartotų, kad tokio proveržio priežastis – smarkiai išaugęs miesto biudžetas?\n",
      "– Tegul jie kalba, ką nori. Aš galiu tik paklausti, kodėl jie neaugino ir išvis nemylėjo Kauno iki man ateinant? Miesto biudžeto surinkimas – irgi reikalauja daug darbo. Jis didžiąja dalimi susideda iš gyventojų pajamų mokesčio. Todėl reikia stipriai pasistengti, kad verslai stiprėtų, žmonės turėtų gerai apmokamas darbo vietas ir pačių gyventojų kiekis mieste augtų.\n",
      "Panašu, kad šituos procesus užkūrėm ir jie važiuoja. Miestas tapo patogesnis, tvarkingesnis, patrauklesnis tiek studentams, tiek ir čia besikuriančioms jaunoms šeimoms.\n",
      "Nereikia toli žvalgytis – vien praėjusią savaitę turėjome kelis puikius pavyzdžius: „Antėja“ Kaune atidarė didžiausią Baltijos šalyse medicininių tyrimų laboratoriją, SBA pristatė ketvirčio milijardo investicijas „Nemunaičiuose“, Aleksoto inovacijų parke turime pirmąją besikuriančią kompaniją su 50 milijonų privataus kapitalo krepšeliu. Va tai aš turiu galvoje, kai sakau, kad miestas kauniečių dėka nestabdo. Net ir be Vyriausybės dėmesio.\n",
      "– Pradėdamas eiti mero pareigas vis kalbėdavote, kad reikia nebijoti džiazuoti ir išlaisvinti fantaziją. Kaip manote, ar jums tai pavyko?\n",
      "– Geriausiai apie viską pasako padaryti darbai. Būtų neteisinga pačiam vertinti, nes tai yra darbas, kurį man patikėjo kauniečiai. Žmonės mato ir turi savo nuomones apie tai, kaip keičiasi miestas. Jų gali būti įvairių, bet iš šono nesunku matyti, kad dauguma džiaugiasi.\n",
      "Baseinas prie „Žalgirio“ arenos – pilnutėlis, Sporto halė – gyva, Ąžuolynas – išgražėjęs. Stadionas muša koncertų lankomumo rekordus ir tikiu, kad pamažu užaugins rezultatus bei palaikymo kultūrą futbole, kaip tą padarė „Žalgirio“ krepšinio klubas su sausakimša arena. Rotušė irgi tapo muziejaus verta erdve.\n",
      "Kiekvienu atveju su komanda dėta daug pastangų, būta ir nemažai ginčų, netgi karštų momentų. Bet viskas dėl bendro tikslo, nes mes visi esame kauniečiai.\n",
      "Žinau, kad per praėjusius Seimo rinkimus pasitaikė nemažai „ateivių“: didesnė dalis Kaune išrinktų vienmandatininkų buvo ne Kauno gyventojai. Turbūt tokių atsiras ir dabar. Nenoriu čia nei kritikuoti, nei agituoti, bet aš pats sau išvadas jau seniai esu pasidaręs.\n",
      "\n"
     ]
    }
   ],
   "source": [
    "print(straipsniai[0].text)"
   ]
  },
  {
   "cell_type": "code",
   "execution_count": null,
   "metadata": {},
   "outputs": [],
   "source": [
    "# Surinkite visus straipsnių pavadinimus ir nuorodas į pačius straipsnius iš Kauno  diena puslapio.\n",
    "# Suraskite vidutinį straipsnių pavadinimuose esančių žodžių skaičių. Atvaizduoikite grafiškai straipsnių kiekį VS žodžių kiekis pavadinime. \n",
    "# Suraskite ilgiausią pavadinimą, nueikite į tą straipsnį, suraskite 5kis dažniausiai pasikartojančius žodžius, iliustruokite grafiškai. \n",
    "# Suskaičiuokite, kiek vidutiniškai turi žodžių straipsniai, esantys Kauno dienoje."
   ]
  },
  {
   "cell_type": "code",
   "execution_count": 153,
   "metadata": {},
   "outputs": [],
   "source": [
    "url = 'https://kauno.diena.lt/'\n",
    "\n",
    "page = requests.get(url)\n",
    "source = page.content\n",
    "\n",
    "bs = BeautifulSoup(source, 'html.parser')"
   ]
  },
  {
   "cell_type": "code",
   "execution_count": 154,
   "metadata": {},
   "outputs": [
    {
     "name": "stdout",
     "output_type": "stream",
     "text": [
      "41\n"
     ]
    }
   ],
   "source": [
    "straipsniai = bs.find_all('div', {'class':'category-block-row grid-12 alpha omega unscore'})\n",
    "print(len(straipsniai))"
   ]
  },
  {
   "cell_type": "code",
   "execution_count": 155,
   "metadata": {},
   "outputs": [
    {
     "name": "stdout",
     "output_type": "stream",
     "text": [
      "['V. Matijošaitis: miestas nesustojo tik pačių kauniečių dėka', 'Širdį glostanti eilė: kauniečiai nori spėti iš anksto balsuoti Seimo rinkimuose', 'Lietuvis ir rusė bus teisiami už tai, kad pelnėsi iš kitų asmenų prostitucijos', 'Penktadienį Kaune pradedamas šildymo sezonas', 'Jonavos pareigūnams su įkalčiais įkliuvo kontrabandininkas', 'Veiksmas Partizanų gatvėje: pareigūnai šturmavo automobilį, sulaikytas vyras', 'Darbdavio magija: kas darbuotoją skatina įsitraukti ir augti?', 'Akibrokštas privačiai greitajai pagalbai: 50 įdarbintų žmonių valstybei neįdomu?', 'O dabar pakalbėkime apie… nieką', 'Vilniaus rajone už daugiau nei 835 tūkst. eurų bus modernizuojamos sveikatos centro paslaugos', 'Po šaudynių Vilniaus centre – diskusijos: ar reikia griežtinti ginklų kontrolę?', 'L. Kasčiūnas apdovanojo iš Libano Lietuvos piliečius evakavusius karius ir civilius', 'Auskarų vėrimo meistrė G. Balevičė – apie grožį, kantrybę, profesionalumą ir truputėlį skausmo', 'Tvari mada: dėvėta nereiškia skurdu', 'Kompozitoriui svarbu ir savitumas, ir ieškojimai', '„Kauno dienos“ studijoje – 20-metį mininčio Kauno miesto simfoninio orkestro vadovas ', '„Kauno dienos“ studijoje – kandidatas į LKF prezidentus R. Javtokas', 'A. Avulis apie Nacionalinio stadiono projektą: reikia dar truputėlio kantrybės', 'Kultūros ministerijoje pasirašomas susitarimas dėl kultūros inovacijų skatinimo', 'Strasbūre dėl dūmų teko evakuoti visus traukinio keleivius', 'Lenkijos premjeras kaltina A. Dudą trukdant ambasadorių paskyrimo procesui', 'Teniso žvaigždė R. Nadalis paskelbė, kad baigs savo sportinę karjerą', 'Žalgiriečių ieškojimų kelyje – „Olympiakos“', 'Po mirtinų šaudynių Vilniuje prabilo kaimynai: ryškėja šaulio portretas', 'Lenkijos teismas: įtariamieji L. Volkovo užpuolimu Vilniuje gali būti paleisti už užstatą', 'Nobelio literatūros premiją laimėjo Pietų Korėjos rašytoja Han Kang', 'Šokiruojanti tiesa: atskleista M. Jacksono seksualinio gyvenimo paslaptis', 'Dienos horoskopas 12 Zodiako ženklų (spalio 10 d.)', 'Nobelio chemijos premiją pasidalijo JAV ir JK mokslininkai'] \n",
      " ['https://kauno.diena.lt/naujienos/kaunas/miesto-pulsas/v-matijosaitis-miestas-nesustojo-tik-paciu-kaunieciu-deka-1195275', 'https://kauno.diena.lt/naujienos/kaunas/miesto-pulsas/sirdi-glostanti-eile-kaunieciai-nori-speti-anksto-balsuoti-seimo-rinkimuose-1195301', 'https://kauno.diena.lt/naujienos/kriminalai/nusikaltimai/lietuvis-ir-ruse-bus-teisiami-uz-tai-kad-pelnesi-kitu-asmenu-prostitucijos-1195248', 'https://kauno.diena.lt/naujienos/kaunas/miesto-pulsas/penktadieni-kaune-pradedamas-sildymo-sezonas-1195208', 'https://kauno.diena.lt/naujienos/kaunas/nusikaltimai-ir-nelaimes/jonavos-pareigunams-su-ikalciais-ikliuvo-kontrabandininkas-1195177', 'https://kauno.diena.lt/naujienos/kaunas/nusikaltimai-ir-nelaimes/veiksmas-partizanu-gatveje-pareigunai-sturmavo-automobili-sulaikytas-vyras-1194672', 'https://kauno.diena.lt/naujienos/verslas/ekonomika/darbdavio-magija-kas-darbuotoja-skatina-isitraukti-ir-augti-1182991', 'https://kauno.diena.lt/naujienos/lietuva/salies-pulsas/akibrokstas-privaciai-greitajai-pagalbai-viskas-vyksta-pagal-sutarti-1194484', 'https://kauno.diena.lt/naujienos/sveikata/psichologija/o-dabar-pakalbekime-apie-nieka-1194950', 'https://kauno.diena.lt/naujienos/sveikata/sveikata/vilniaus-rajone-uz-daugiau-nei-835-tukst-euru-bus-modernizuojamos-sveikatos-centro-paslaugos-1195217', 'https://kauno.diena.lt/naujienos/lietuva/salies-pulsas/policijos-profesine-sajunga-apie-ginklu-isdavimo-tvarka-tai-nera-gera-praktika-1195280', 'https://kauno.diena.lt/naujienos/lietuva/salies-pulsas/l-kasciunas-apdovanojo-libano-lietuvos-piliecius-evakavusius-karius-ir-civilius-1195267', 'https://kauno.diena.lt/naujienos/grazi-diena/auskaru-verimo-meistre-g-balevice-apie-grozi-kantrybe-profesionaluma-ir-truputeli-skausmo-1194964', 'https://kauno.diena.lt/naujienos/lietuva/salies-pulsas/deveta-nereiskia-skurdu-1194060', 'https://www.diena.lt/naujienos/vilnius/menas-ir-pramogos/kompozitoriui-svarbu-ir-savitumas-ir-ieskojimai-1195197', 'https://kauno.diena.lt/naujienos/kauno-dienos-studija/kauno-dienos-studijoje-20-meti-minincio-kauno-miesto-simfoninio-orkestro-vadovas-1191320', 'https://kauno.diena.lt/naujienos/sportas/krepsinis/kauno-dienos-studijoje-kandidatas-i-lkf-prezidentus-r-javtokas-1190406', 'https://kauno.diena.lt/naujienos/vilnius/miesto-pulsas/avulis-apie-nacionalinio-stadiono-projekta-reikia-dar-truputelio-kantrybes-1195289', 'https://kauno.diena.lt/naujienos/laisvalaikis-ir-kultura/kultura/kulturos-ministerijoje-pasirasomas-susitarimas-del-kulturos-inovaciju-skatinimo-1195170', 'https://kauno.diena.lt/naujienos/pasaulis/konfliktai-nelaimes/strasbure-del-dumu-teko-evakuoti-visus-traukinio-keleivius-1195303', 'https://kauno.diena.lt/naujienos/pasaulis/ekonomika-ir-politika/lenkijos-premjeras-kaltina-duda-trukdant-ambasadoriu-paskyrimo-procesui-1195299', 'https://kauno.diena.lt/naujienos/sportas/kitos-sporto-sakos/teniso-zvaigzde-r-nadalis-paskelbe-kad-baigs-savo-sportine-karjera-1195259', 'https://kauno.diena.lt/naujienos/sportas/krepsinis/zalgirieciu-ieskojimu-kelyje-olympiakos-1195192', 'https://kauno.diena.lt/naujienos/vilnius/nusikaltimai-ir-nelaimes/po-mirtinu-saudyniu-vilniuje-prabilo-kaimynai-ryskeja-saulio-portretas-1195283', 'https://kauno.diena.lt/naujienos/vilnius/nusikaltimai-ir-nelaimes/lenkijos-teismas-itariamieji-l-volkovo-uzpuolimu-vilniuje-gali-buti-paleisti-uz-uzstata-1195266', 'https://kauno.diena.lt/naujienos/pasaulis/ekonomika-ir-politika/nobelio-literaturos-premija-laimejo-pietu-korejos-rasytoja-han-kang-1195257', 'https://kauno.diena.lt/naujienos/laisvalaikis-ir-kultura/zvaigzdes-ir-pramogos/sokiruojanti-tiesa-atskleista-m-jacksono-seksualinio-gyvenimo-paslaptis-1195244', 'https://kauno.diena.lt/naujienos/ivairenybes/horoskopai/dienos-horoskopas-12-zodiako-zenklu-spalio-10-d-1195139', 'https://kauno.diena.lt/naujienos/pasaulis/ekonomika-ir-politika/nobelio-chemijos-premija-pasidalijo-jav-ir-jk-mokslininkai-1195066'] \n",
      " [8, 11, 13, 5, 6, 8, 8, 9, 5, 13, 11, 11, 13, 5, 6, 11, 10, 10, 8, 8, 9, 10, 5, 9, 12, 9, 8, 8, 8] \n",
      " 8.862068965517242\n"
     ]
    }
   ],
   "source": [
    "strp_pav = []\n",
    "strp_nuor = []\n",
    "ant_ilg = []\n",
    "\n",
    "for s in straipsniai:\n",
    "    i = s.find('div', {'class':'articles-list-title-wrapper'})\n",
    "    if i is not None:\n",
    "        t = i.find('a', {'class':'articles-list-title'})\n",
    "        strp_pav.append(t.text)\n",
    "        ant_ilg.append(len(t.text.split()))\n",
    "        x = t['href']\n",
    "        c = x.count('http')\n",
    "        if c !=0:\n",
    "            strp_nuor.append(x)\n",
    "        else:\n",
    "            strp_nuor.append(url+x)\n",
    "avg_ant_ilg = sum(ant_ilg)/len(ant_ilg)\n",
    "print(strp_pav,'\\n',strp_nuor, '\\n', ant_ilg, '\\n', avg_ant_ilg)"
   ]
  },
  {
   "cell_type": "code",
   "execution_count": 156,
   "metadata": {},
   "outputs": [
    {
     "data": {
      "text/html": [
       "<div>\n",
       "<style scoped>\n",
       "    .dataframe tbody tr th:only-of-type {\n",
       "        vertical-align: middle;\n",
       "    }\n",
       "\n",
       "    .dataframe tbody tr th {\n",
       "        vertical-align: top;\n",
       "    }\n",
       "\n",
       "    .dataframe thead th {\n",
       "        text-align: right;\n",
       "    }\n",
       "</style>\n",
       "<table border=\"1\" class=\"dataframe\">\n",
       "  <thead>\n",
       "    <tr style=\"text-align: right;\">\n",
       "      <th></th>\n",
       "      <th>Pav</th>\n",
       "      <th>Ant_ilgis</th>\n",
       "      <th>Nuoroda</th>\n",
       "    </tr>\n",
       "  </thead>\n",
       "  <tbody>\n",
       "    <tr>\n",
       "      <th>0</th>\n",
       "      <td>V. Matijošaitis: miestas nesustojo tik pačių k...</td>\n",
       "      <td>8</td>\n",
       "      <td>https://kauno.diena.lt/naujienos/kaunas/miesto...</td>\n",
       "    </tr>\n",
       "    <tr>\n",
       "      <th>1</th>\n",
       "      <td>Širdį glostanti eilė: kauniečiai nori spėti iš...</td>\n",
       "      <td>11</td>\n",
       "      <td>https://kauno.diena.lt/naujienos/kaunas/miesto...</td>\n",
       "    </tr>\n",
       "    <tr>\n",
       "      <th>2</th>\n",
       "      <td>Lietuvis ir rusė bus teisiami už tai, kad peln...</td>\n",
       "      <td>13</td>\n",
       "      <td>https://kauno.diena.lt/naujienos/kriminalai/nu...</td>\n",
       "    </tr>\n",
       "    <tr>\n",
       "      <th>3</th>\n",
       "      <td>Penktadienį Kaune pradedamas šildymo sezonas</td>\n",
       "      <td>5</td>\n",
       "      <td>https://kauno.diena.lt/naujienos/kaunas/miesto...</td>\n",
       "    </tr>\n",
       "    <tr>\n",
       "      <th>4</th>\n",
       "      <td>Jonavos pareigūnams su įkalčiais įkliuvo kontr...</td>\n",
       "      <td>6</td>\n",
       "      <td>https://kauno.diena.lt/naujienos/kaunas/nusika...</td>\n",
       "    </tr>\n",
       "  </tbody>\n",
       "</table>\n",
       "</div>"
      ],
      "text/plain": [
       "                                                 Pav  Ant_ilgis  \\\n",
       "0  V. Matijošaitis: miestas nesustojo tik pačių k...          8   \n",
       "1  Širdį glostanti eilė: kauniečiai nori spėti iš...         11   \n",
       "2  Lietuvis ir rusė bus teisiami už tai, kad peln...         13   \n",
       "3       Penktadienį Kaune pradedamas šildymo sezonas          5   \n",
       "4  Jonavos pareigūnams su įkalčiais įkliuvo kontr...          6   \n",
       "\n",
       "                                             Nuoroda  \n",
       "0  https://kauno.diena.lt/naujienos/kaunas/miesto...  \n",
       "1  https://kauno.diena.lt/naujienos/kaunas/miesto...  \n",
       "2  https://kauno.diena.lt/naujienos/kriminalai/nu...  \n",
       "3  https://kauno.diena.lt/naujienos/kaunas/miesto...  \n",
       "4  https://kauno.diena.lt/naujienos/kaunas/nusika...  "
      ]
     },
     "execution_count": 156,
     "metadata": {},
     "output_type": "execute_result"
    }
   ],
   "source": [
    "df = pd.DataFrame(strp_pav)\n",
    "df['Pav'] = pd.DataFrame(data=strp_pav)\n",
    "df['Ant_ilgis'] = pd.DataFrame(data=ant_ilg)\n",
    "df['Nuoroda'] = pd.DataFrame(data=strp_nuor)\n",
    "df = df[['Pav','Ant_ilgis','Nuoroda']]\n",
    "df.head()"
   ]
  },
  {
   "cell_type": "code",
   "execution_count": 157,
   "metadata": {},
   "outputs": [
    {
     "data": {
      "image/png": "[encoded data removed]",
      "text/plain": [
       "<Figure size 1000x600 with 1 Axes>"
      ]
     },
     "metadata": {},
     "output_type": "display_data"
    }
   ],
   "source": [
    "fig, axes = plt.subplots(figsize=(10,6))\n",
    "df_str = df.groupby(['Ant_ilgis'])['Pav'].count().reset_index()\n",
    "axes.set_title('Straipsnių kiekis pagal antraštės žodžių skaičių')\n",
    "# ax = sns.barplot(data=df_str, x = 'Pav', y='Ant_ilgis', ax=axes)\n",
    "axes.set(ylabel='Straipsnių kiekis',xlabel='Straipsnių žodžių kiekis')\n",
    "# # axes.legend(labels=df_str['Ant_ilgis'])\n",
    "# for container in ax.containers:\n",
    "#     ax.bar_label(container)\n",
    "# plt.show()\n",
    "a = axes.bar(df_str['Ant_ilgis'],df_str['Pav'])\n",
    "axes.bar_label(a)\n",
    "# axes.set_title('Dalyvių skaičius')\n",
    "plt.show()"
   ]
  },
  {
   "cell_type": "code",
   "execution_count": 118,
   "metadata": {},
   "outputs": [
    {
     "name": "stdout",
     "output_type": "stream",
     "text": [
      "Anot Vilniaus rajono savivaldybės, projekte dalyvaus Vilniaus rajono centrinė bei Nemenčinės poliklinikos.\n",
      "„Savivaldybė nuolat ieško sprendimų, kurie pagerintų Vilniaus rajono pacientų sveikatos priežiūros kokybę bei medicinos specialistų darbo efektyvumą. Esame įsitikinę, kad šis projektas ne tik prisidės prie modernių ir funkcionalių sprendimų, geresnių sveikatos centro veiklos rezultatų, bet ir padės geriau tenkinti pacientų poreikius“, – pranešime teigė Vilniaus rajono savivaldybės meras Robertas Duchnevičius.\n",
      "Įgyvendinant projektą numatytose sveikatos priežiūros įstaigose ketinama įdiegti paslaugų teikimo modelius, kurie pagerintų prieinamumą ir kokybę pacientams, sergantiems lėtinėmis ligomis, tokiomis kaip cukrinis diabetas, hipertenzija, širdies ritmo sutrikimai ir širdies nepakankamumas.\n",
      "Planuojama sudaryti iš viso 12 daugiadalykių specialistų komandų, į kurias įeitų šeimos gydytojai, slaugytojai, kineziterapeutai, kardiologai ir endokrinologai – devynios komandos Vilniaus rajono centrinėje poliklinikoje, kurios teiks paslaugas bent 150 pacientų, ir trys komandos Nemenčinės poliklinikoje, kurios aptarnaus 50 pacientų.\n",
      "Anot savivaldybės, taip pat bus įgyvendinamos priemonės, leidžiančios užtikrinti sveikatos priežiūros paslaugų teikimą taikant „žaliojo koridoriaus“ principą, kuris leis pacientams gauti reikiamas paslaugas kuo greičiau.\n",
      "Visas veiklas planuojama įgyvendinti per 36 mėnesius. Projektas finansuojamas Europos Sąjungos fondų lėšomis.\n",
      "\n",
      "['Anot', 'Vilniaus', 'rajono', 'savivaldybės,', 'projekte', 'dalyvaus', 'Vilniaus', 'rajono', 'centrinė', 'bei', 'Nemenčinės', 'poliklinikos.', '„Savivaldybė', 'nuolat', 'ieško', 'sprendimų,', 'kurie', 'pagerintų', 'Vilniaus', 'rajono', 'pacientų', 'sveikatos', 'priežiūros', 'kokybę', 'bei', 'medicinos', 'specialistų', 'darbo', 'efektyvumą.', 'Esame', 'įsitikinę,', 'kad', 'šis', 'projektas', 'ne', 'tik', 'prisidės', 'prie', 'modernių', 'ir', 'funkcionalių', 'sprendimų,', 'geresnių', 'sveikatos', 'centro', 'veiklos', 'rezultatų,', 'bet', 'ir', 'padės', 'geriau', 'tenkinti', 'pacientų', 'poreikius“,', '–', 'pranešime', 'teigė', 'Vilniaus', 'rajono', 'savivaldybės', 'meras', 'Robertas', 'Duchnevičius.', 'Įgyvendinant', 'projektą', 'numatytose', 'sveikatos', 'priežiūros', 'įstaigose', 'ketinama', 'įdiegti', 'paslaugų', 'teikimo', 'modelius,', 'kurie', 'pagerintų', 'prieinamumą', 'ir', 'kokybę', 'pacientams,', 'sergantiems', 'lėtinėmis', 'ligomis,', 'tokiomis', 'kaip', 'cukrinis', 'diabetas,', 'hipertenzija,', 'širdies', 'ritmo', 'sutrikimai', 'ir', 'širdies', 'nepakankamumas.', 'Planuojama', 'sudaryti', 'iš', 'viso', '12', 'daugiadalykių', 'specialistų', 'komandų,', 'į', 'kurias', 'įeitų', 'šeimos', 'gydytojai,', 'slaugytojai,', 'kineziterapeutai,', 'kardiologai', 'ir', 'endokrinologai', '–', 'devynios', 'komandos', 'Vilniaus', 'rajono', 'centrinėje', 'poliklinikoje,', 'kurios', 'teiks', 'paslaugas', 'bent', '150', 'pacientų,', 'ir', 'trys', 'komandos', 'Nemenčinės', 'poliklinikoje,', 'kurios', 'aptarnaus', '50', 'pacientų.', 'Anot', 'savivaldybės,', 'taip', 'pat', 'bus', 'įgyvendinamos', 'priemonės,', 'leidžiančios', 'užtikrinti', 'sveikatos', 'priežiūros', 'paslaugų', 'teikimą', 'taikant', '„žaliojo', 'koridoriaus“', 'principą,', 'kuris', 'leis', 'pacientams', 'gauti', 'reikiamas', 'paslaugas', 'kuo', 'greičiau.', 'Visas', 'veiklas', 'planuojama', 'įgyvendinti', 'per', '36', 'mėnesius.', 'Projektas', 'finansuojamas', 'Europos', 'Sąjungos', 'fondų', 'lėšomis.']\n",
      "[2, 5, 5, 2, 1, 1, 5, 5, 2, 2, 2, 1, 1, 1, 1, 2, 2, 2, 5, 5, 4, 4, 3, 2, 2, 1, 2, 1, 1, 1, 1, 1, 1, 1, 6, 3, 1, 6, 1, 8, 1, 2, 1, 4, 1, 1, 1, 2, 8, 1, 1, 1, 4, 1, 2, 1, 1, 5, 5, 3, 1, 1, 1, 1, 1, 1, 4, 3, 1, 1, 1, 2, 1, 1, 2, 2, 1, 8, 2, 1, 1, 1, 1, 1, 1, 1, 1, 1, 2, 1, 1, 8, 2, 1, 1, 1, 1, 1, 1, 1, 2, 1, 7, 1, 1, 1, 1, 1, 1, 1, 8, 1, 2, 1, 2, 5, 5, 1, 2, 2, 1, 2, 1, 1, 1, 8, 1, 2, 2, 2, 2, 1, 2, 1, 2, 2, 1, 1, 1, 1, 1, 1, 1, 4, 3, 2, 1, 1, 1, 1, 1, 1, 1, 2, 1, 1, 2, 1, 1, 1, 1, 1, 1, 2, 1, 1, 1, 1, 1, 1, 1, 1]\n"
     ]
    }
   ],
   "source": [
    "df_new = df.sort_values(by=['Ant_ilgis'],ascending=False)[:1]\n",
    "ilg_nuor = df_new['Nuoroda']\n",
    "page = requests.get(ilg_nuor.values[0])\n",
    "source = page.content\n",
    "bs = BeautifulSoup(source, 'html.parser')\n",
    "\n",
    "straipsniai = bs.find_all('span', {'itemprop':'articleBody'})\n",
    "print(straipsniai[0].text)\n",
    "straipsnis = straipsniai[0].text\n",
    "zodziai = straipsniai[0].text.split()\n",
    "kiekiai = []\n",
    "for zodis in zodziai:\n",
    "    x = straipsnis.count(zodis)\n",
    "    kiekiai.append(x)\n",
    "print(zodziai)\n",
    "print(kiekiai)"
   ]
  },
  {
   "cell_type": "code",
   "execution_count": 119,
   "metadata": {},
   "outputs": [
    {
     "data": {
      "text/html": [
       "<div>\n",
       "<style scoped>\n",
       "    .dataframe tbody tr th:only-of-type {\n",
       "        vertical-align: middle;\n",
       "    }\n",
       "\n",
       "    .dataframe tbody tr th {\n",
       "        vertical-align: top;\n",
       "    }\n",
       "\n",
       "    .dataframe thead th {\n",
       "        text-align: right;\n",
       "    }\n",
       "</style>\n",
       "<table border=\"1\" class=\"dataframe\">\n",
       "  <thead>\n",
       "    <tr style=\"text-align: right;\">\n",
       "      <th></th>\n",
       "      <th>Zodis</th>\n",
       "      <th>Kiekis</th>\n",
       "    </tr>\n",
       "  </thead>\n",
       "  <tbody>\n",
       "    <tr>\n",
       "      <th>41</th>\n",
       "      <td>ir</td>\n",
       "      <td>8.0</td>\n",
       "    </tr>\n",
       "    <tr>\n",
       "      <th>124</th>\n",
       "      <td>į</td>\n",
       "      <td>7.0</td>\n",
       "    </tr>\n",
       "    <tr>\n",
       "      <th>87</th>\n",
       "      <td>prie</td>\n",
       "      <td>6.0</td>\n",
       "    </tr>\n",
       "    <tr>\n",
       "      <th>67</th>\n",
       "      <td>ne</td>\n",
       "      <td>6.0</td>\n",
       "    </tr>\n",
       "    <tr>\n",
       "      <th>96</th>\n",
       "      <td>rajono</td>\n",
       "      <td>5.0</td>\n",
       "    </tr>\n",
       "  </tbody>\n",
       "</table>\n",
       "</div>"
      ],
      "text/plain": [
       "      Zodis  Kiekis\n",
       "41       ir     8.0\n",
       "124       į     7.0\n",
       "87     prie     6.0\n",
       "67       ne     6.0\n",
       "96   rajono     5.0"
      ]
     },
     "execution_count": 119,
     "metadata": {},
     "output_type": "execute_result"
    }
   ],
   "source": [
    "str_df = pd.DataFrame(zodziai)\n",
    "str_df['Zodis'] = pd.DataFrame(data=zodziai)\n",
    "str_df['Kiekis'] = pd.DataFrame(data=kiekiai)\n",
    "str_df = str_df[['Zodis','Kiekis']].groupby(['Zodis'])['Kiekis'].mean().reset_index().sort_values(by=['Kiekis'],ascending=False)[:5]\n",
    "str_df.head()"
   ]
  },
  {
   "cell_type": "code",
   "execution_count": 120,
   "metadata": {},
   "outputs": [
    {
     "data": {
      "image/png": "[encoded data removed]",
      "text/plain": [
       "<Figure size 1000x600 with 1 Axes>"
      ]
     },
     "metadata": {},
     "output_type": "display_data"
    }
   ],
   "source": [
    "fig, axes = plt.subplots(figsize=(10,6))\n",
    "axes.set_title('Žodžių pasikartojimas straipsnyje')\n",
    "# ax = sns.barplot(data=df_str, x = 'Pav', y='Ant_ilgis', ax=axes)\n",
    "axes.set(ylabel='Kiekis',xlabel='Žodis')\n",
    "# # axes.legend(labels=df_str['Ant_ilgis'])\n",
    "# for container in ax.containers:\n",
    "#     ax.bar_label(container)\n",
    "# plt.show()\n",
    "a = axes.bar(str_df['Zodis'],str_df['Kiekis'])\n",
    "axes.bar_label(a)\n",
    "# axes.set_title('Dalyvių skaičius')\n",
    "plt.show()"
   ]
  },
  {
   "cell_type": "code",
   "execution_count": 128,
   "metadata": {},
   "outputs": [
    {
     "name": "stdout",
     "output_type": "stream",
     "text": [
      "Neteisinga nuoroda : https://www.diena.lt/naujienos/vilnius/menas-ir-pramogos/kompozitoriui-svarbu-ir-savitumas-ir-ieskojimai-1195197\n",
      "390.42857142857144\n"
     ]
    }
   ],
   "source": [
    "# Suskaičiuokite, kiek vidutiniškai turi žodžių straipsniai, esantys Kauno dienoje.\n",
    "straipsniu_zodziai = []\n",
    "for nuoroda in strp_nuor:\n",
    "    if \"www.diena.lt\" not in nuoroda:\n",
    "        page = requests.get(nuoroda)\n",
    "        source = page.content\n",
    "        bs = BeautifulSoup(source, 'html.parser')\n",
    "\n",
    "        straipsniai = bs.find_all('span', {'itemprop':'articleBody'})\n",
    "        straipsnis = straipsniai[0].text\n",
    "        zodziai = straipsniai[0].text.split()\n",
    "        straipsniu_zodziai.append(len(zodziai))\n",
    "    else:\n",
    "        print(\"Neteisinga nuoroda :\",nuoroda)\n",
    "vid_skaic = sum(straipsniu_zodziai)/len(straipsniu_zodziai)\n",
    "print(vid_skaic)"
   ]
  },
  {
   "cell_type": "code",
   "execution_count": 166,
   "metadata": {},
   "outputs": [],
   "source": [
    "\n",
    "# atlikite tą patį su delfi.lt, palyginkite tarpusavyje kauno dieną ir delfi.lt, palyginimus\n",
    "# atlikite pateikdami grafikus.\n",
    "\n",
    "delfi_url = 'https://www.delfi.lt/'\n",
    "page = requests.get(delfi_url)\n",
    "source = page.content\n",
    "bs = BeautifulSoup(source, 'html.parser')"
   ]
  },
  {
   "cell_type": "code",
   "execution_count": 168,
   "metadata": {},
   "outputs": [
    {
     "name": "stdout",
     "output_type": "stream",
     "text": [
      "71\n"
     ]
    }
   ],
   "source": [
    "straipsniai = bs.find_all('div', {'class':'block-type-102-headline__title'})\n",
    "print(len(straipsniai))"
   ]
  },
  {
   "cell_type": "code",
   "execution_count": 147,
   "metadata": {},
   "outputs": [
    {
     "ename": "KeyError",
     "evalue": "'href'",
     "output_type": "error",
     "traceback": [
      "\u001b[1;31m---------------------------------------------------------------------------\u001b[0m",
      "\u001b[1;31mKeyError\u001b[0m                                  Traceback (most recent call last)",
      "Cell \u001b[1;32mIn[147], line 3\u001b[0m\n\u001b[0;32m      1\u001b[0m \u001b[38;5;28;01mfor\u001b[39;00m s \u001b[38;5;129;01min\u001b[39;00m straipsniai:\n\u001b[0;32m      2\u001b[0m     i \u001b[38;5;241m=\u001b[39m s\u001b[38;5;241m.\u001b[39mfind(\u001b[38;5;124m'\u001b[39m\u001b[38;5;124mdiv\u001b[39m\u001b[38;5;124m'\u001b[39m, {\u001b[38;5;124m'\u001b[39m\u001b[38;5;124mclass\u001b[39m\u001b[38;5;124m'\u001b[39m:\u001b[38;5;124m'\u001b[39m\u001b[38;5;124marticles-list-title-wrapper\u001b[39m\u001b[38;5;124m'\u001b[39m})\n\u001b[1;32m----> 3\u001b[0m     \u001b[38;5;28mprint\u001b[39m(\u001b[43ms\u001b[49m\u001b[43m[\u001b[49m\u001b[38;5;124;43m'\u001b[39;49m\u001b[38;5;124;43mhref\u001b[39;49m\u001b[38;5;124;43m'\u001b[39;49m\u001b[43m]\u001b[49m)\n",
      "File \u001b[1;32m~\\AppData\\Roaming\\Python\\Python312\\site-packages\\bs4\\element.py:1573\u001b[0m, in \u001b[0;36mTag.__getitem__\u001b[1;34m(self, key)\u001b[0m\n\u001b[0;32m   1570\u001b[0m \u001b[38;5;28;01mdef\u001b[39;00m \u001b[38;5;21m__getitem__\u001b[39m(\u001b[38;5;28mself\u001b[39m, key):\n\u001b[0;32m   1571\u001b[0m \u001b[38;5;250m    \u001b[39m\u001b[38;5;124;03m\"\"\"tag[key] returns the value of the 'key' attribute for the Tag,\u001b[39;00m\n\u001b[0;32m   1572\u001b[0m \u001b[38;5;124;03m    and throws an exception if it's not there.\"\"\"\u001b[39;00m\n\u001b[1;32m-> 1573\u001b[0m     \u001b[38;5;28;01mreturn\u001b[39;00m \u001b[38;5;28;43mself\u001b[39;49m\u001b[38;5;241;43m.\u001b[39;49m\u001b[43mattrs\u001b[49m\u001b[43m[\u001b[49m\u001b[43mkey\u001b[49m\u001b[43m]\u001b[49m\n",
      "\u001b[1;31mKeyError\u001b[0m: 'href'"
     ]
    }
   ],
   "source": [
    "for s in straipsniai:\n",
    "    i = s.find('div', {'class':'ticles-list-title-wrapper'})\n",
    "    print(s['href'])"
   ]
  },
  {
   "cell_type": "code",
   "execution_count": 140,
   "metadata": {},
   "outputs": [
    {
     "ename": "ZeroDivisionError",
     "evalue": "division by zero",
     "output_type": "error",
     "traceback": [
      "\u001b[1;31m---------------------------------------------------------------------------\u001b[0m",
      "\u001b[1;31mZeroDivisionError\u001b[0m                         Traceback (most recent call last)",
      "Cell \u001b[1;32mIn[140], line 17\u001b[0m\n\u001b[0;32m     15\u001b[0m         \u001b[38;5;28;01melse\u001b[39;00m:\n\u001b[0;32m     16\u001b[0m             strp_nuor\u001b[38;5;241m.\u001b[39mappend(url\u001b[38;5;241m+\u001b[39mx)\n\u001b[1;32m---> 17\u001b[0m avg_ant_ilg \u001b[38;5;241m=\u001b[39m \u001b[38;5;28;43msum\u001b[39;49m\u001b[43m(\u001b[49m\u001b[43mant_ilg\u001b[49m\u001b[43m)\u001b[49m\u001b[38;5;241;43m/\u001b[39;49m\u001b[38;5;28;43mlen\u001b[39;49m\u001b[43m(\u001b[49m\u001b[43mant_ilg\u001b[49m\u001b[43m)\u001b[49m        \n\u001b[0;32m     18\u001b[0m \u001b[38;5;28mprint\u001b[39m(strp_pav,\u001b[38;5;124m'\u001b[39m\u001b[38;5;130;01m\\n\u001b[39;00m\u001b[38;5;124m'\u001b[39m,strp_nuor, \u001b[38;5;124m'\u001b[39m\u001b[38;5;130;01m\\n\u001b[39;00m\u001b[38;5;124m'\u001b[39m, ant_ilg, \u001b[38;5;124m'\u001b[39m\u001b[38;5;130;01m\\n\u001b[39;00m\u001b[38;5;124m'\u001b[39m, avg_ant_ilg)\n",
      "\u001b[1;31mZeroDivisionError\u001b[0m: division by zero"
     ]
    }
   ],
   "source": [
    "strp_pav = []\n",
    "strp_nuor = []\n",
    "ant_ilg = []\n",
    "\n",
    "for s in straipsniai:\n",
    "    i = s.find('div', {'class':'block-type-102-headline__title'})\n",
    "    if i is not None:\n",
    "        t = i.find('a', {'class':'articles-list-title'})\n",
    "        strp_pav.append(t.text)\n",
    "        ant_ilg.append(len(t.text.split()))\n",
    "        x = t['href']\n",
    "        c = x.count('http')\n",
    "        if c !=0:\n",
    "            strp_nuor.append(x)\n",
    "        else:\n",
    "            strp_nuor.append(url+x)\n",
    "avg_ant_ilg = sum(ant_ilg)/len(ant_ilg)        \n",
    "print(strp_pav,'\\n',strp_nuor, '\\n', ant_ilg, '\\n', avg_ant_ilg)"
   ]
  },
  {
   "cell_type": "code",
   "execution_count": null,
   "metadata": {},
   "outputs": [],
   "source": [
    "# Pavyzdžiai\n",
    "# https://scrapeops.io/python-web-scraping-playbook/python-beautifulsoup-findall/"
   ]
  }
 ],
 "metadata": {
  "kernelspec": {
   "display_name": "Python 3",
   "language": "python",
   "name": "python3"
  },
  "language_info": {
   "codemirror_mode": {
    "name": "ipython",
    "version": 3
   },
   "file_extension": ".py",
   "mimetype": "text/x-python",
   "name": "python",
   "nbconvert_exporter": "python",
   "pygments_lexer": "ipython3",
   "version": "3.12.4"
  }
 },
 "nbformat": 4,
 "nbformat_minor": 2
}
