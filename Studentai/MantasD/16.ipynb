{
 "cells": [
  {
   "cell_type": "code",
   "execution_count": 1,
   "metadata": {},
   "outputs": [
    {
     "name": "stdout",
     "output_type": "stream",
     "text": [
      "Skaičius 6 indeksas 13\n"
     ]
    },
    {
     "data": {
      "text/plain": [
       "(-0.045, 8)"
      ]
     },
     "execution_count": 1,
     "metadata": {},
     "output_type": "execute_result"
    }
   ],
   "source": [
    "# parašyti funkciją, kuriai galėtumėte nurodyti sąrašą skaičių\n",
    "# bei dar vieną skaičių, ir ta funkcija surastų ir grąžintų sarašę buvusį skaičių, \n",
    "# artimiausią nuliui (arba jūsų nurodytam skaičiui), bei rastojo skaičiaus poziciją (indeksą) sąraše.\n",
    "a = [1,0.5,0.75,2,5,25,0.1,0.05,-0.045,2,3,4,5,6]\n",
    "b = 10\n",
    "# jus nurodėte nulį\n",
    "# jei tu skaičių yra daugiau nei vienas - gražinkite pirmąjį surastą iš dešinės einant į kairę (maksimalų indeksą)\n",
    "def findnear(sar,sk):\n",
    "    x = []\n",
    "    for i in sar:\n",
    "        x.append(abs(i-sk))\n",
    "    return print('Skaičius',sar[x.index(min(x))],'indeksas',x.index(min(x)))\n",
    "    \n",
    "findnear(a,b)\n",
    "\n",
    "def argmax(array, point):\n",
    "    mods = list(map(lambda x: abs(point-x), array))\n",
    "    mn = min(mods)\n",
    "    # ieškom indekso, didžiausio,\n",
    "    # jei bus keli skaičiai\n",
    "    # grąžinsime didžiausią indeksą\n",
    "    idx = len(mods)-1\n",
    "    while idx >= 0:\n",
    "        if mods[idx] == mn:\n",
    "            idx = idx\n",
    "            break\n",
    "        idx = idx - 1\n",
    "    return array[idx], idx\n",
    "\n",
    "argmax([1,0.5,0.75,2,5,25,0.1,0.05, -0.045,2,3,4,5,6], 0)    "
   ]
  },
  {
   "cell_type": "code",
   "execution_count": 2,
   "metadata": {},
   "outputs": [
    {
     "name": "stdout",
     "output_type": "stream",
     "text": [
      "42\n",
      "107.60000000000001\n"
     ]
    }
   ],
   "source": [
    "class Degree():\n",
    "    def __init__(self,c):\n",
    "        self.__Tc = c\n",
    "        self.__Tf = (c*1.8)+32\n",
    "        \n",
    "    def getC(self):\n",
    "        return self.__Tc\n",
    "    \n",
    "    def setC(self,c):\n",
    "        self.__Tc = c\n",
    "        \n",
    "    def getF(self):\n",
    "        return self.__Tf\n",
    "        \n",
    "obj = Degree(42)\n",
    "print(obj.getC())\n",
    "print(obj.getF())"
   ]
  },
  {
   "cell_type": "code",
   "execution_count": 3,
   "metadata": {},
   "outputs": [
    {
     "name": "stdout",
     "output_type": "stream",
     "text": [
      "42\n",
      "107.60000000000001\n",
      "40\n",
      "104.0\n"
     ]
    }
   ],
   "source": [
    "class Degree():\n",
    "    def __init__(self, c):\n",
    "        self.setT(c)\n",
    "        pass\n",
    "    \n",
    "    def setT(self, c):\n",
    "        self.__Tc = c\n",
    "        self.__Tf = (c*1.8)+32\n",
    "    \n",
    "    def getT(self):\n",
    "        return self.__Tc\n",
    "    def getF(self):\n",
    "        return self.__Tf\n",
    "    T = property(getT, setT)\n",
    "\n",
    "obj = Degree(42)\n",
    "print(obj.getT())\n",
    "print(obj.getF())\n",
    "\n",
    "obj.setT(40)\n",
    "print(obj.getT())\n",
    "print(obj.getF())"
   ]
  },
  {
   "cell_type": "code",
   "execution_count": 4,
   "metadata": {},
   "outputs": [
    {
     "name": "stdout",
     "output_type": "stream",
     "text": [
      "109.4\n",
      "43\n"
     ]
    }
   ],
   "source": [
    "obj.T = 43\n",
    "print(obj.getF())\n",
    "print(obj.T)"
   ]
  },
  {
   "cell_type": "code",
   "execution_count": 5,
   "metadata": {},
   "outputs": [
    {
     "name": "stdout",
     "output_type": "stream",
     "text": [
      "5\n",
      "157.0\n",
      "226.08\n"
     ]
    }
   ],
   "source": [
    "class Apskritimas():\n",
    "    def __init__(self, r):\n",
    "        self.R = r\n",
    "        # self.S = \n",
    "        pass\n",
    "    \n",
    "    @property\n",
    "    def R(self):\n",
    "        return self.__R\n",
    "    @R.setter\n",
    "    def R(self,r):\n",
    "        self.__R = r\n",
    "        self. S = 2*3.14*r**2\n",
    "        \n",
    "o = Apskritimas(5)\n",
    "print(o.R)\n",
    "print(o.S)\n",
    "o.R = 6\n",
    "print(o.S)"
   ]
  },
  {
   "cell_type": "code",
   "execution_count": 6,
   "metadata": {},
   "outputs": [
    {
     "name": "stdout",
     "output_type": "stream",
     "text": [
      "Perimetras yra 30, plotas yra 50\n",
      "Perimetras yra 32, plotas yra 60\n",
      "\n",
      "\n",
      "Plotas yra 25, tūris yra 125\n",
      "Plotas yra 36, tūris yra 216\n",
      "6\n",
      "6\n",
      "12\n",
      "14\n"
     ]
    }
   ],
   "source": [
    "# Sukurkite klasę, skirtą geometrinių figūrų parametrų\n",
    "# skaičiavimui:\n",
    "# • Klasė Stačiakampis - sukūrimo metu automatiškai\n",
    "# suskaičiuoja plotą ir perimetrą\n",
    "# • P = 2(a + b), S = ab\n",
    "\n",
    "class Stačiakampis:\n",
    "    def __init__(self,a,b):\n",
    "        self.A = a\n",
    "        self.B = b\n",
    "        pass\n",
    "\n",
    "    @property\n",
    "    def A(self):\n",
    "        return self.__A\n",
    "    # def B(self):\n",
    "    #     return self.__B\n",
    "    @A.setter\n",
    "    def A(self,a):\n",
    "        self.__A = a\n",
    "        self.P = 2*(a+b)\n",
    "        self.S = a*b\n",
    "    # @property\n",
    "    # def B(self):\n",
    "    #     return self.__B\n",
    "    # @B.setter\n",
    "    # def B(self,b):\n",
    "    #     self.__B = b\n",
    "    #     self.P = 2*(a+b)\n",
    "    #     self.S = a*b\n",
    "\n",
    "t = Stačiakampis(5,20)\n",
    "print(f'Perimetras yra {t.P}, plotas yra {t.S}')\n",
    "t.A = 6\n",
    "print(f'Perimetras yra {t.P}, plotas yra {t.S}')\n",
    "\n",
    "print('\\n')\n",
    "# • Klasė Kubas - sukūrimo metu turi suskaičiuoti paviršiaus\n",
    "# plotą ir tūrį\n",
    "# • V = abc\n",
    "# Realizuokite metodus, skirtus atnaujinti skaičiavimams, pasiekti\n",
    "# skaičiavimų rezultatus.\n",
    "\n",
    "class Kubas:\n",
    "    def __init__(self,a):\n",
    "        self.A = a\n",
    "        pass\n",
    "\n",
    "    @property\n",
    "    def A(self):\n",
    "        return self.__A\n",
    "\n",
    "    @A.setter\n",
    "    def A(self,a):\n",
    "        self.__A = a\n",
    "        self.V = a**3\n",
    "        self.S = a*a\n",
    "\n",
    "z = Kubas(5)\n",
    "print(f'Plotas yra {z.S}, tūris yra {z.V}')\n",
    "z.A = 6\n",
    "print(f'Plotas yra {z.S}, tūris yra {z.V}')\n",
    "\n",
    "# destytojo 1 variantas\n",
    "\n",
    "class RectII():\n",
    "    def __init__(self, a, b) -> None:\n",
    "        self.a, self.b = None, None\n",
    "        self.A = a\n",
    "        self.B = b\n",
    "        pass\n",
    "    \n",
    "    def calcS(self):\n",
    "        if self.a and self.b:\n",
    "            self.S = self.a * self.b\n",
    "    \n",
    "    @property\n",
    "    def A(self):\n",
    "        return self.a\n",
    "    \n",
    "    @property\n",
    "    def B(self):\n",
    "        return self.b\n",
    "    \n",
    "    @A.setter\n",
    "    def A(self, a):\n",
    "        self.a = a\n",
    "        self.calcS()\n",
    "    \n",
    "    @B.setter\n",
    "    def B(self, b):\n",
    "        self.b = b\n",
    "        self.calcS()\n",
    "\n",
    "# destytojo 2 variantas\n",
    "\n",
    "o = RectII(2,3)\n",
    "print(o.S)\n",
    "\n",
    "class Rect():\n",
    "    def __init__(self, a, b) -> None:\n",
    "        self.AB = (a, b)\n",
    "        pass\n",
    "    @property\n",
    "    def AB(self):\n",
    "        return self.a, self.b\n",
    "    @AB.setter\n",
    "    def AB(self, w):\n",
    "        self.a, self.b = w\n",
    "        self.S = self.a * self.b\n",
    "        self.P = 2*(self.a+self.b)\n",
    "\n",
    "r = Rect(2,3)\n",
    "print(r.S)\n",
    "r.AB = (3,4)\n",
    "print(r.S)\n",
    "print(r.P)"
   ]
  },
  {
   "cell_type": "code",
   "execution_count": null,
   "metadata": {},
   "outputs": [],
   "source": []
  }
 ],
 "metadata": {
  "kernelspec": {
   "display_name": "Python 3",
   "language": "python",
   "name": "python3"
  },
  "language_info": {
   "codemirror_mode": {
    "name": "ipython",
    "version": 3
   },
   "file_extension": ".py",
   "mimetype": "text/x-python",
   "name": "python",
   "nbconvert_exporter": "python",
   "pygments_lexer": "ipython3",
   "version": "3.12.4"
  }
 },
 "nbformat": 4,
 "nbformat_minor": 2
}
