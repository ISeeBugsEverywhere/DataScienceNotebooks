{
 "cells": [
  {
   "cell_type": "code",
   "execution_count": 350,
   "metadata": {},
   "outputs": [],
   "source": [
    "import numpy as np\n",
    "import pandas as pd\n",
    "import matplotlib.pyplot as plt\n",
    "# import warnings\n",
    "# warnings.filterwarnings('ignore')\n",
    "import seaborn as sns\n",
    "import plotly.express as px\n",
    "\n",
    "from sklearn.preprocessing import StandardScaler\n",
    "from sklearn.model_selection import train_test_split\n",
    "from sklearn.linear_model import LinearRegression\n",
    "from sklearn.ensemble import RandomForestRegressor\n",
    "from sklearn.tree import DecisionTreeRegressor\n",
    "\n",
    "from sklearn.preprocessing import LabelEncoder\n",
    "\n",
    "from sklearn.metrics import r2_score\n",
    "from sklearn.metrics import mean_squared_error"
   ]
  },
  {
   "cell_type": "code",
   "execution_count": 351,
   "metadata": {},
   "outputs": [],
   "source": [
    "class Averager:\n",
    "    def fit(self, a):\n",
    "        self.A = a\n",
    "    \n",
    "    def predict(self, B):\n",
    "        \n",
    "        predictions = []\n",
    "        \n",
    "        for i in B['valanda']:\n",
    "            filtered_data = self.A[\n",
    "                (self.A['savaites_diena'] == B.iloc[0]['savaites_diena']) & \n",
    "                (self.A['menuo'] == B.iloc[0]['menuo']) & \n",
    "                (self.A['valanda'] == i)\n",
    "            ]\n",
    "            \n",
    "            mean_value = filtered_data['value'].mean()\n",
    "            predictions.append(mean_value)\n",
    "        \n",
    "        return predictions"
   ]
  },
  {
   "cell_type": "code",
   "execution_count": null,
   "metadata": {},
   "outputs": [],
   "source": [
    "#destytojo klase.\n",
    "# # ['MM','DD', 'HH', 'value']]\n",
    "\n",
    "# class Analyzer():\n",
    "#   def __init__(self):\n",
    "#     self.DF_DATA = None\n",
    "\n",
    "#   def fit(self, data, X_features:list, y_target:str):\n",
    "#     self.DF_DATA = data[X_features+[y_target]].groupby(X_features).mean().reset_index()\n",
    "#     pass\n",
    " \n",
    "#   def predict(self, d:str):\n",
    "#    dt = pd.to_datetime(d)\n",
    "#    M = dt.month\n",
    "#    D = dt.day_of_week\n",
    "#    h24 = self.DF_DATA.query(expr='MM == @M and DD == @D')\n",
    "#    return h24[['HH', 'value']]"
   ]
  },
  {
   "cell_type": "code",
   "execution_count": 352,
   "metadata": {},
   "outputs": [],
   "source": [
    "df_dideli = pd.read_json(r\"C:\\Users\\pauli\\Downloads\\stambiuju_vartotoju_suvartojimas_mwh.json\")\n",
    "df_mazi = pd.read_json(r\"C:\\Users\\pauli\\Downloads\\skirstomojo_tinklo_suvartojimas_mwh.json\")"
   ]
  },
  {
   "cell_type": "code",
   "execution_count": 353,
   "metadata": {},
   "outputs": [],
   "source": [
    "df_orai1 = pd.read_json(r\"C:\\Users\\pauli\\Downloads\\weather_data.json\")\n",
    "df_orai2 = pd.read_json(r\"C:\\Users\\pauli\\Downloads\\weather_data(1).json\")\n",
    "df_orai3 = pd.read_json(r\"C:\\Users\\pauli\\Downloads\\weather_data(2).json\")"
   ]
  },
  {
   "cell_type": "code",
   "execution_count": 354,
   "metadata": {},
   "outputs": [],
   "source": [
    "df_orai = pd.concat([df_orai1, df_orai2, df_orai3])"
   ]
  },
  {
   "cell_type": "code",
   "execution_count": 355,
   "metadata": {},
   "outputs": [
    {
     "data": {
      "application/vnd.microsoft.datawrangler.viewer.v0+json": {
       "columns": [
        {
         "name": "index",
         "rawType": "int64",
         "type": "integer"
        },
        {
         "name": "id",
         "rawType": "int64",
         "type": "integer"
        },
        {
         "name": "value",
         "rawType": "float64",
         "type": "float"
        },
        {
         "name": "ltu",
         "rawType": "object",
         "type": "string"
        },
        {
         "name": "utc",
         "rawType": "object",
         "type": "string"
        }
       ],
       "conversionMethod": "pd.DataFrame",
       "ref": "26014da4-3aaa-46ad-9bf5-16af00d66dbd",
       "rows": [
        [
         "0",
         "1102",
         "91.465",
         "2023-01-01 02:00:00",
         "2023-01-01 00:00:00"
        ],
        [
         "1",
         "1102",
         "91.878",
         "2023-01-01 03:00:00",
         "2023-01-01 01:00:00"
        ],
        [
         "2",
         "1102",
         "91.54",
         "2023-01-01 04:00:00",
         "2023-01-01 02:00:00"
        ]
       ],
       "shape": {
        "columns": 4,
        "rows": 3
       }
      },
      "text/html": [
       "<div>\n",
       "<style scoped>\n",
       "    .dataframe tbody tr th:only-of-type {\n",
       "        vertical-align: middle;\n",
       "    }\n",
       "\n",
       "    .dataframe tbody tr th {\n",
       "        vertical-align: top;\n",
       "    }\n",
       "\n",
       "    .dataframe thead th {\n",
       "        text-align: right;\n",
       "    }\n",
       "</style>\n",
       "<table border=\"1\" class=\"dataframe\">\n",
       "  <thead>\n",
       "    <tr style=\"text-align: right;\">\n",
       "      <th></th>\n",
       "      <th>id</th>\n",
       "      <th>value</th>\n",
       "      <th>ltu</th>\n",
       "      <th>utc</th>\n",
       "    </tr>\n",
       "  </thead>\n",
       "  <tbody>\n",
       "    <tr>\n",
       "      <th>0</th>\n",
       "      <td>1102</td>\n",
       "      <td>91.465</td>\n",
       "      <td>2023-01-01 02:00:00</td>\n",
       "      <td>2023-01-01 00:00:00</td>\n",
       "    </tr>\n",
       "    <tr>\n",
       "      <th>1</th>\n",
       "      <td>1102</td>\n",
       "      <td>91.878</td>\n",
       "      <td>2023-01-01 03:00:00</td>\n",
       "      <td>2023-01-01 01:00:00</td>\n",
       "    </tr>\n",
       "    <tr>\n",
       "      <th>2</th>\n",
       "      <td>1102</td>\n",
       "      <td>91.540</td>\n",
       "      <td>2023-01-01 04:00:00</td>\n",
       "      <td>2023-01-01 02:00:00</td>\n",
       "    </tr>\n",
       "  </tbody>\n",
       "</table>\n",
       "</div>"
      ],
      "text/plain": [
       "     id   value                  ltu                  utc\n",
       "0  1102  91.465  2023-01-01 02:00:00  2023-01-01 00:00:00\n",
       "1  1102  91.878  2023-01-01 03:00:00  2023-01-01 01:00:00\n",
       "2  1102  91.540  2023-01-01 04:00:00  2023-01-01 02:00:00"
      ]
     },
     "execution_count": 355,
     "metadata": {},
     "output_type": "execute_result"
    }
   ],
   "source": [
    "df_dideli.head(3)"
   ]
  },
  {
   "cell_type": "code",
   "execution_count": 356,
   "metadata": {},
   "outputs": [
    {
     "name": "stdout",
     "output_type": "stream",
     "text": [
      "<class 'pandas.core.frame.DataFrame'>\n",
      "RangeIndex: 18478 entries, 0 to 18477\n",
      "Data columns (total 4 columns):\n",
      " #   Column  Non-Null Count  Dtype  \n",
      "---  ------  --------------  -----  \n",
      " 0   id      18478 non-null  int64  \n",
      " 1   value   18478 non-null  float64\n",
      " 2   ltu     18478 non-null  object \n",
      " 3   utc     18478 non-null  object \n",
      "dtypes: float64(1), int64(1), object(2)\n",
      "memory usage: 577.6+ KB\n"
     ]
    }
   ],
   "source": [
    "df_mazi.info()"
   ]
  },
  {
   "cell_type": "code",
   "execution_count": 357,
   "metadata": {},
   "outputs": [
    {
     "data": {
      "application/vnd.microsoft.datawrangler.viewer.v0+json": {
       "columns": [
        {
         "name": "index",
         "rawType": "int64",
         "type": "integer"
        },
        {
         "name": "id",
         "rawType": "int64",
         "type": "integer"
        },
        {
         "name": "value",
         "rawType": "float64",
         "type": "float"
        },
        {
         "name": "ltu",
         "rawType": "object",
         "type": "string"
        },
        {
         "name": "utc",
         "rawType": "object",
         "type": "string"
        }
       ],
       "conversionMethod": "pd.DataFrame",
       "ref": "6d8e1c9f-f352-4f1c-a000-5dfdddae4800",
       "rows": [
        [
         "0",
         "1101",
         "683.07",
         "2023-01-01 02:00:00",
         "2023-01-01 00:00:00"
        ],
        [
         "1",
         "1101",
         "656.493",
         "2023-01-01 03:00:00",
         "2023-01-01 01:00:00"
        ],
        [
         "2",
         "1101",
         "639.742",
         "2023-01-01 04:00:00",
         "2023-01-01 02:00:00"
        ]
       ],
       "shape": {
        "columns": 4,
        "rows": 3
       }
      },
      "text/html": [
       "<div>\n",
       "<style scoped>\n",
       "    .dataframe tbody tr th:only-of-type {\n",
       "        vertical-align: middle;\n",
       "    }\n",
       "\n",
       "    .dataframe tbody tr th {\n",
       "        vertical-align: top;\n",
       "    }\n",
       "\n",
       "    .dataframe thead th {\n",
       "        text-align: right;\n",
       "    }\n",
       "</style>\n",
       "<table border=\"1\" class=\"dataframe\">\n",
       "  <thead>\n",
       "    <tr style=\"text-align: right;\">\n",
       "      <th></th>\n",
       "      <th>id</th>\n",
       "      <th>value</th>\n",
       "      <th>ltu</th>\n",
       "      <th>utc</th>\n",
       "    </tr>\n",
       "  </thead>\n",
       "  <tbody>\n",
       "    <tr>\n",
       "      <th>0</th>\n",
       "      <td>1101</td>\n",
       "      <td>683.070</td>\n",
       "      <td>2023-01-01 02:00:00</td>\n",
       "      <td>2023-01-01 00:00:00</td>\n",
       "    </tr>\n",
       "    <tr>\n",
       "      <th>1</th>\n",
       "      <td>1101</td>\n",
       "      <td>656.493</td>\n",
       "      <td>2023-01-01 03:00:00</td>\n",
       "      <td>2023-01-01 01:00:00</td>\n",
       "    </tr>\n",
       "    <tr>\n",
       "      <th>2</th>\n",
       "      <td>1101</td>\n",
       "      <td>639.742</td>\n",
       "      <td>2023-01-01 04:00:00</td>\n",
       "      <td>2023-01-01 02:00:00</td>\n",
       "    </tr>\n",
       "  </tbody>\n",
       "</table>\n",
       "</div>"
      ],
      "text/plain": [
       "     id    value                  ltu                  utc\n",
       "0  1101  683.070  2023-01-01 02:00:00  2023-01-01 00:00:00\n",
       "1  1101  656.493  2023-01-01 03:00:00  2023-01-01 01:00:00\n",
       "2  1101  639.742  2023-01-01 04:00:00  2023-01-01 02:00:00"
      ]
     },
     "execution_count": 357,
     "metadata": {},
     "output_type": "execute_result"
    }
   ],
   "source": [
    "df_mazi.head(3)"
   ]
  },
  {
   "cell_type": "code",
   "execution_count": 358,
   "metadata": {},
   "outputs": [],
   "source": [
    "df = df_dideli.merge(df_mazi[['value', 'ltu']], on='ltu', how='left')\n",
    "# df=df_mazi"
   ]
  },
  {
   "cell_type": "code",
   "execution_count": 359,
   "metadata": {},
   "outputs": [],
   "source": [
    "df['value'] = df['value_x'] + df['value_y']\n",
    "df=df.drop(columns = ['id', 'utc', 'value_x', 'value_y'])\n",
    "# df=df.drop(columns = ['id', 'utc'])"
   ]
  },
  {
   "cell_type": "code",
   "execution_count": 360,
   "metadata": {},
   "outputs": [],
   "source": [
    "df = df.merge(df_orai[['obs_time_utc', 'air_temperature', 'wind_speed', 'cloud_cover']], left_on='ltu', right_on='obs_time_utc', how='left')"
   ]
  },
  {
   "cell_type": "code",
   "execution_count": 361,
   "metadata": {},
   "outputs": [],
   "source": [
    "df['air_temperature'] = df['air_temperature'].ffill()\n",
    "df['wind_speed'] = df['wind_speed'].ffill()\n",
    "df['cloud_cover'] = df['cloud_cover'].fillna(100.0)"
   ]
  },
  {
   "cell_type": "code",
   "execution_count": 362,
   "metadata": {},
   "outputs": [],
   "source": [
    "df=df.drop(columns = ['obs_time_utc'])"
   ]
  },
  {
   "cell_type": "code",
   "execution_count": 363,
   "metadata": {},
   "outputs": [],
   "source": [
    "df['ltu'] = pd.to_datetime(df['ltu'])\n",
    "df['metai'] = df['ltu'].dt.year\n",
    "df['menuo'] = df['ltu'].dt.month\n",
    "df['diena'] = df['ltu'].dt.day\n",
    "df['valanda'] = df['ltu'].dt.hour\n",
    "df['savaites_diena'] = df['ltu'].dt.dayofweek"
   ]
  },
  {
   "cell_type": "code",
   "execution_count": 364,
   "metadata": {},
   "outputs": [],
   "source": [
    "df_08 = df[(df['diena'] == 8) & (df['metai'] == 2025) & (df['menuo'] == 2)]\n",
    "df = df.query(\"not (diena == 8 and metai == 2025 and menuo == 2)\")"
   ]
  },
  {
   "cell_type": "code",
   "execution_count": 365,
   "metadata": {},
   "outputs": [],
   "source": [
    "vidurkis = Averager()\n",
    "vidurkis.fit(df)\n",
    "prognoze = vidurkis.predict(df_08)"
   ]
  },
  {
   "cell_type": "code",
   "execution_count": 366,
   "metadata": {},
   "outputs": [],
   "source": [
    "df_rezultatai = df_08[['valanda', 'value']].copy()\n",
    "df_rezultatai['prognoze_vidurkis'] = prognoze"
   ]
  },
  {
   "cell_type": "code",
   "execution_count": 367,
   "metadata": {},
   "outputs": [
    {
     "data": {
      "image/png": "[encoded data removed]",
      "text/plain": [
       "<Figure size 640x480 with 1 Axes>"
      ]
     },
     "metadata": {},
     "output_type": "display_data"
    }
   ],
   "source": [
    "sns.lineplot(data=df_rezultatai, x='valanda', y='value', label='Faktinis suvartojimas')\n",
    "sns.lineplot(data=df_rezultatai, x='valanda', y='prognoze_vidurkis', label='Prognozuojamas suvartojimas')\n",
    "plt.title('Faktinis ir prognozuojamas suvartojimas 2025-02-08 (vidurkiai)')\n",
    "plt.show()"
   ]
  },
  {
   "cell_type": "code",
   "execution_count": 368,
   "metadata": {},
   "outputs": [],
   "source": [
    "Y_target = df['value']\n",
    "X_features = df.drop(columns=['value', 'ltu'])\n",
    "\n",
    "X_train, X_test, y_train, y_test = train_test_split(X_features, Y_target, test_size=0.15, random_state=0)"
   ]
  },
  {
   "cell_type": "code",
   "execution_count": 369,
   "metadata": {},
   "outputs": [
    {
     "data": {
      "text/plain": [
       "array([[ 0.39733132, -1.19548517, -1.60797267],\n",
       "       [ 1.38374186, -0.59452072, -0.69391861],\n",
       "       [ 0.15620874, -0.19387776, -1.60797267],\n",
       "       ...,\n",
       "       [-0.97268333, -0.12710393,  0.50878411],\n",
       "       [-0.88500239, -0.66129455, -1.60797267],\n",
       "       [ 0.21100933, -0.26065159, -0.40526996]])"
      ]
     },
     "execution_count": 369,
     "metadata": {},
     "output_type": "execute_result"
    }
   ],
   "source": [
    "scaler = StandardScaler(with_mean=True, with_std=True)\n",
    "scaler.fit(X_train[['air_temperature','wind_speed','cloud_cover']])\n",
    "X_train_scaled = scaler.transform(X_train[['air_temperature','wind_speed','cloud_cover']]); X_train_scaled"
   ]
  },
  {
   "cell_type": "code",
   "execution_count": 370,
   "metadata": {},
   "outputs": [],
   "source": [
    "air_temperature_sc, wind_speed_sc, cloud_cover_sc = zip(*X_train_scaled)\n",
    "X_train['air_temperature'] = air_temperature_sc\n",
    "X_train['wind_speed'] = wind_speed_sc\n",
    "X_train['cloud_cover'] = cloud_cover_sc"
   ]
  },
  {
   "cell_type": "code",
   "execution_count": 371,
   "metadata": {},
   "outputs": [
    {
     "data": {
      "text/plain": [
       "array([[ 1.66870491, -0.66129455, -1.60797267],\n",
       "       [ 0.15620874, -1.12871134, -1.60797267],\n",
       "       [-0.11779419, -0.12710393,  0.50878411],\n",
       "       ...,\n",
       "       [-0.00819302, -1.46258048, -1.60797267],\n",
       "       [ 1.73446561,  0.00644372,  0.50878411],\n",
       "       [-0.50139829,  0.34031286,  0.50878411]])"
      ]
     },
     "execution_count": 371,
     "metadata": {},
     "output_type": "execute_result"
    }
   ],
   "source": [
    "X_test_scaled = scaler.transform(X_test[['air_temperature','wind_speed','cloud_cover']]); X_test_scaled"
   ]
  },
  {
   "cell_type": "code",
   "execution_count": 372,
   "metadata": {},
   "outputs": [
    {
     "data": {
      "application/vnd.microsoft.datawrangler.viewer.v0+json": {
       "columns": [
        {
         "name": "index",
         "rawType": "int64",
         "type": "integer"
        },
        {
         "name": "air_temperature",
         "rawType": "float64",
         "type": "float"
        },
        {
         "name": "wind_speed",
         "rawType": "float64",
         "type": "float"
        },
        {
         "name": "cloud_cover",
         "rawType": "float64",
         "type": "float"
        },
        {
         "name": "metai",
         "rawType": "int32",
         "type": "integer"
        },
        {
         "name": "menuo",
         "rawType": "int32",
         "type": "integer"
        },
        {
         "name": "diena",
         "rawType": "int32",
         "type": "integer"
        },
        {
         "name": "valanda",
         "rawType": "int32",
         "type": "integer"
        },
        {
         "name": "savaites_diena",
         "rawType": "int32",
         "type": "integer"
        }
       ],
       "conversionMethod": "pd.DataFrame",
       "ref": "20a7af70-7467-4226-94da-95a22cd875e5",
       "rows": [
        [
         "14224",
         "1.6687049116618533",
         "-0.6612945510747698",
         "-1.6079726697446408",
         "2024",
         "8",
         "15",
         "17",
         "3"
        ],
        [
         "12624",
         "0.15620874010052033",
         "-1.1287113431320015",
         "-1.6079726697446408",
         "2024",
         "6",
         "10",
         "1",
         "0"
        ],
        [
         "7479",
         "-0.11779418953015598",
         "-0.12710393158079045",
         "0.5087841073721534",
         "2023",
         "11",
         "8",
         "15",
         "2"
        ],
        [
         "4825",
         "0.47405213847210487",
         "-0.39419924132778",
         "-1.6079726697446408",
         "2023",
         "7",
         "21",
         "4",
         "4"
        ],
        [
         "565",
         "-1.2686064939789965",
         "-0.2606515864542854",
         "0.7974327587971708",
         "2023",
         "1",
         "24",
         "15",
         "1"
        ],
        [
         "8985",
         "-0.9069226268665036",
         "0.8077296525336731",
         "0.7974327587971708",
         "2024",
         "1",
         "10",
         "9",
         "2"
        ],
        [
         "7821",
         "-1.7289314157585325",
         "0.4738605153499361",
         "0.7974327587971708",
         "2023",
         "11",
         "22",
         "21",
         "2"
        ],
        [
         "6706",
         "0.27677002913801785",
         "3.411908922566822",
         "-0.09256724976329954",
         "2023",
         "10",
         "7",
         "13",
         "5"
        ],
        [
         "15423",
         "0.05756768543347682",
         "-1.2622589980054963",
         "0.7974327587971708",
         "2024",
         "10",
         "4",
         "16",
         "4"
        ],
        [
         "1893",
         "-0.19451500982674527",
         "0.3403128604764412",
         "0.7974327587971708",
         "2023",
         "3",
         "20",
         "23",
         "0"
        ],
        [
         "12506",
         "0.5726931931391483",
         "-1.195485170568749",
         "-1.006621312609188",
         "2024",
         "6",
         "5",
         "3",
         "2"
        ],
        [
         "2782",
         "-0.6000393456801462",
         "0.273539033039694",
         "0.7974327587971708",
         "2023",
         "4",
         "27",
         "1",
         "3"
        ],
        [
         "841",
         "-1.4439683689426293",
         "-0.12710393158079045",
         "0.7974327587971708",
         "2023",
         "2",
         "5",
         "3",
         "6"
        ],
        [
         "3543",
         "0.8576562399550517",
         "-1.195485170568749",
         "-1.6079726697446408",
         "2023",
         "5",
         "28",
         "18",
         "6"
        ],
        [
         "14405",
         "0.5946134275096024",
         "-0.19387775901753793",
         "0.7974327587971708",
         "2024",
         "8",
         "23",
         "6",
         "4"
        ],
        [
         "16690",
         "-0.7863613378290061",
         "1.609015581774642",
         "0.5087841073721534",
         "2024",
         "11",
         "26",
         "8",
         "1"
        ],
        [
         "10551",
         "0.11236827135961208",
         "1.0080511348439152",
         "0.5087841073721534",
         "2024",
         "3",
         "15",
         "15",
         "4"
        ],
        [
         "5107",
         "1.0439782321039115",
         "0.6074081702234311",
         "0.5087841073721534",
         "2023",
         "8",
         "1",
         "22",
         "1"
        ],
        [
         "1818",
         "-0.764441103458552",
         "-0.12710393158079045",
         "0.5087841073721534",
         "2023",
         "3",
         "17",
         "20",
         "4"
        ],
        [
         "6698",
         "0.5836533103243754",
         "2.143206201268621",
         "0.7974327587971708",
         "2023",
         "10",
         "7",
         "5",
         "5"
        ],
        [
         "17762",
         "-0.6877202831619627",
         "0.8745034799704203",
         "0.7974327587971708",
         "2025",
         "1",
         "10",
         "0",
         "4"
        ],
        [
         "12208",
         "1.5043031538834477",
         "0.07321755072945164",
         "-1.006621312609188",
         "2024",
         "5",
         "23",
         "17",
         "3"
        ],
        [
         "4107",
         "1.5481436226243561",
         "-1.1287113431320015",
         "-1.6079726697446408",
         "2023",
         "6",
         "21",
         "6",
         "2"
        ],
        [
         "1194",
         "-1.0055636815335471",
         "1.2083726171541573",
         "0.19608140166171786",
         "2023",
         "2",
         "19",
         "20",
         "6"
        ],
        [
         "4144",
         "1.2412603414379986",
         "0.1399913781661991",
         "-1.6079726697446408",
         "2023",
         "6",
         "22",
         "19",
         "3"
        ],
        [
         "3269",
         "0.47405213847210487",
         "-1.0619375156952542",
         "0.7974327587971708",
         "2023",
         "5",
         "17",
         "8",
         "2"
        ],
        [
         "5587",
         "0.7590151852880082",
         "0.20676520560294656",
         "-1.6079726697446408",
         "2023",
         "8",
         "21",
         "22",
         "0"
        ],
        [
         "2838",
         "0.3754110838050614",
         "0.40708668791318864",
         "-1.2952699640342054",
         "2023",
         "4",
         "29",
         "9",
         "5"
        ],
        [
         "11824",
         "0.10140815417438506",
         "-0.19387775901753793",
         "-1.6079726697446408",
         "2024",
         "5",
         "7",
         "17",
         "1"
        ],
        [
         "15004",
         "0.4411717869164236",
         "-0.9283898608217594",
         "-1.6079726697446408",
         "2024",
         "9",
         "17",
         "5",
         "1"
        ],
        [
         "15094",
         "0.27677002913801785",
         "-0.9951636882585068",
         "-1.6079726697446408",
         "2024",
         "9",
         "20",
         "23",
         "4"
        ],
        [
         "10595",
         "-0.43563758790174045",
         "1.0080511348439152",
         "0.7974327587971708",
         "2024",
         "3",
         "17",
         "11",
         "6"
        ],
        [
         "14762",
         "0.5178926072130131",
         "-0.5945207236380224",
         "-1.6079726697446408",
         "2024",
         "9",
         "7",
         "3",
         "5"
        ],
        [
         "12239",
         "0.7918955368436894",
         "-0.9951636882585068",
         "-0.40526995547373507",
         "2024",
         "5",
         "25",
         "0",
         "5"
        ],
        [
         "8705",
         "-0.35891676760515107",
         "1.4086940994644",
         "0.7974327587971708",
         "2023",
         "12",
         "29",
         "17",
         "4"
        ],
        [
         "3586",
         "1.2851008101789065",
         "0.8077296525336731",
         "-0.09256724976329954",
         "2023",
         "5",
         "30",
         "13",
         "1"
        ],
        [
         "16967",
         "-0.9507630956074119",
         "-0.2606515864542854",
         "0.7974327587971708",
         "2024",
         "12",
         "7",
         "21",
         "5"
        ],
        [
         "15695",
         "-0.3150762988642429",
         "-0.32742541389103286",
         "0.5087841073721534",
         "2024",
         "10",
         "16",
         "0",
         "2"
        ],
        [
         "989",
         "-0.8850023924960496",
         "2.2099800287053686",
         "0.7974327587971708",
         "2023",
         "2",
         "11",
         "7",
         "5"
        ],
        [
         "14308",
         "1.2083799898823173",
         "-0.9951636882585068",
         "0.7974327587971708",
         "2024",
         "8",
         "19",
         "5",
         "0"
        ],
        [
         "4346",
         "0.8357360055845977",
         "-0.06033010414404299",
         "0.7974327587971708",
         "2023",
         "7",
         "1",
         "5",
         "5"
        ],
        [
         "1624",
         "-1.2905267283494504",
         "-1.195485170568749",
         "0.7974327587971708",
         "2023",
         "3",
         "9",
         "18",
         "3"
        ],
        [
         "17916",
         "-0.8411619237551413",
         "0.273539033039694",
         "0.7974327587971708",
         "2025",
         "1",
         "16",
         "10",
         "3"
        ],
        [
         "5584",
         "1.0658984664743656",
         "0.8745034799704203",
         "-1.6079726697446408",
         "2023",
         "8",
         "21",
         "19",
         "0"
        ],
        [
         "12945",
         "0.9782175289925494",
         "0.20676520560294656",
         "0.7974327587971708",
         "2024",
         "6",
         "23",
         "10",
         "6"
        ],
        [
         "11405",
         "-0.4246774707165134",
         "0.00644372329270418",
         "0.5087841073721534",
         "2024",
         "4",
         "20",
         "6",
         "5"
        ],
        [
         "1821",
         "-0.7863613378290061",
         "0.3403128604764412",
         "0.5087841073721534",
         "2023",
         "3",
         "17",
         "23",
         "4"
        ],
        [
         "7085",
         "-0.10683407234492887",
         "0.1399913781661991",
         "0.7974327587971708",
         "2023",
         "10",
         "23",
         "8",
         "0"
        ],
        [
         "2539",
         "-0.19451500982674527",
         "-0.9951636882585068",
         "0.7974327587971708",
         "2023",
         "4",
         "16",
         "22",
         "6"
        ],
        [
         "15386",
         "-0.2164352441971994",
         "-1.195485170568749",
         "0.7974327587971708",
         "2024",
         "10",
         "3",
         "3",
         "3"
        ]
       ],
       "shape": {
        "columns": 8,
        "rows": 2769
       }
      },
      "text/html": [
       "<div>\n",
       "<style scoped>\n",
       "    .dataframe tbody tr th:only-of-type {\n",
       "        vertical-align: middle;\n",
       "    }\n",
       "\n",
       "    .dataframe tbody tr th {\n",
       "        vertical-align: top;\n",
       "    }\n",
       "\n",
       "    .dataframe thead th {\n",
       "        text-align: right;\n",
       "    }\n",
       "</style>\n",
       "<table border=\"1\" class=\"dataframe\">\n",
       "  <thead>\n",
       "    <tr style=\"text-align: right;\">\n",
       "      <th></th>\n",
       "      <th>air_temperature</th>\n",
       "      <th>wind_speed</th>\n",
       "      <th>cloud_cover</th>\n",
       "      <th>metai</th>\n",
       "      <th>menuo</th>\n",
       "      <th>diena</th>\n",
       "      <th>valanda</th>\n",
       "      <th>savaites_diena</th>\n",
       "    </tr>\n",
       "  </thead>\n",
       "  <tbody>\n",
       "    <tr>\n",
       "      <th>14224</th>\n",
       "      <td>1.668705</td>\n",
       "      <td>-0.661295</td>\n",
       "      <td>-1.607973</td>\n",
       "      <td>2024</td>\n",
       "      <td>8</td>\n",
       "      <td>15</td>\n",
       "      <td>17</td>\n",
       "      <td>3</td>\n",
       "    </tr>\n",
       "    <tr>\n",
       "      <th>12624</th>\n",
       "      <td>0.156209</td>\n",
       "      <td>-1.128711</td>\n",
       "      <td>-1.607973</td>\n",
       "      <td>2024</td>\n",
       "      <td>6</td>\n",
       "      <td>10</td>\n",
       "      <td>1</td>\n",
       "      <td>0</td>\n",
       "    </tr>\n",
       "    <tr>\n",
       "      <th>7479</th>\n",
       "      <td>-0.117794</td>\n",
       "      <td>-0.127104</td>\n",
       "      <td>0.508784</td>\n",
       "      <td>2023</td>\n",
       "      <td>11</td>\n",
       "      <td>8</td>\n",
       "      <td>15</td>\n",
       "      <td>2</td>\n",
       "    </tr>\n",
       "    <tr>\n",
       "      <th>4825</th>\n",
       "      <td>0.474052</td>\n",
       "      <td>-0.394199</td>\n",
       "      <td>-1.607973</td>\n",
       "      <td>2023</td>\n",
       "      <td>7</td>\n",
       "      <td>21</td>\n",
       "      <td>4</td>\n",
       "      <td>4</td>\n",
       "    </tr>\n",
       "    <tr>\n",
       "      <th>565</th>\n",
       "      <td>-1.268606</td>\n",
       "      <td>-0.260652</td>\n",
       "      <td>0.797433</td>\n",
       "      <td>2023</td>\n",
       "      <td>1</td>\n",
       "      <td>24</td>\n",
       "      <td>15</td>\n",
       "      <td>1</td>\n",
       "    </tr>\n",
       "    <tr>\n",
       "      <th>...</th>\n",
       "      <td>...</td>\n",
       "      <td>...</td>\n",
       "      <td>...</td>\n",
       "      <td>...</td>\n",
       "      <td>...</td>\n",
       "      <td>...</td>\n",
       "      <td>...</td>\n",
       "      <td>...</td>\n",
       "    </tr>\n",
       "    <tr>\n",
       "      <th>12610</th>\n",
       "      <td>0.923417</td>\n",
       "      <td>1.208373</td>\n",
       "      <td>0.797433</td>\n",
       "      <td>2024</td>\n",
       "      <td>6</td>\n",
       "      <td>9</td>\n",
       "      <td>11</td>\n",
       "      <td>6</td>\n",
       "    </tr>\n",
       "    <tr>\n",
       "      <th>15665</th>\n",
       "      <td>-0.095874</td>\n",
       "      <td>-0.127104</td>\n",
       "      <td>0.797433</td>\n",
       "      <td>2024</td>\n",
       "      <td>10</td>\n",
       "      <td>14</td>\n",
       "      <td>18</td>\n",
       "      <td>0</td>\n",
       "    </tr>\n",
       "    <tr>\n",
       "      <th>5997</th>\n",
       "      <td>-0.008193</td>\n",
       "      <td>-1.462580</td>\n",
       "      <td>-1.607973</td>\n",
       "      <td>2023</td>\n",
       "      <td>9</td>\n",
       "      <td>8</td>\n",
       "      <td>0</td>\n",
       "      <td>4</td>\n",
       "    </tr>\n",
       "    <tr>\n",
       "      <th>5475</th>\n",
       "      <td>1.734466</td>\n",
       "      <td>0.006444</td>\n",
       "      <td>0.508784</td>\n",
       "      <td>2023</td>\n",
       "      <td>8</td>\n",
       "      <td>17</td>\n",
       "      <td>6</td>\n",
       "      <td>3</td>\n",
       "    </tr>\n",
       "    <tr>\n",
       "      <th>8722</th>\n",
       "      <td>-0.501398</td>\n",
       "      <td>0.340313</td>\n",
       "      <td>0.508784</td>\n",
       "      <td>2023</td>\n",
       "      <td>12</td>\n",
       "      <td>30</td>\n",
       "      <td>10</td>\n",
       "      <td>5</td>\n",
       "    </tr>\n",
       "  </tbody>\n",
       "</table>\n",
       "<p>2769 rows × 8 columns</p>\n",
       "</div>"
      ],
      "text/plain": [
       "       air_temperature  wind_speed  cloud_cover  metai  menuo  diena  valanda  \\\n",
       "14224         1.668705   -0.661295    -1.607973   2024      8     15       17   \n",
       "12624         0.156209   -1.128711    -1.607973   2024      6     10        1   \n",
       "7479         -0.117794   -0.127104     0.508784   2023     11      8       15   \n",
       "4825          0.474052   -0.394199    -1.607973   2023      7     21        4   \n",
       "565          -1.268606   -0.260652     0.797433   2023      1     24       15   \n",
       "...                ...         ...          ...    ...    ...    ...      ...   \n",
       "12610         0.923417    1.208373     0.797433   2024      6      9       11   \n",
       "15665        -0.095874   -0.127104     0.797433   2024     10     14       18   \n",
       "5997         -0.008193   -1.462580    -1.607973   2023      9      8        0   \n",
       "5475          1.734466    0.006444     0.508784   2023      8     17        6   \n",
       "8722         -0.501398    0.340313     0.508784   2023     12     30       10   \n",
       "\n",
       "       savaites_diena  \n",
       "14224               3  \n",
       "12624               0  \n",
       "7479                2  \n",
       "4825                4  \n",
       "565                 1  \n",
       "...               ...  \n",
       "12610               6  \n",
       "15665               0  \n",
       "5997                4  \n",
       "5475                3  \n",
       "8722                5  \n",
       "\n",
       "[2769 rows x 8 columns]"
      ]
     },
     "execution_count": 372,
     "metadata": {},
     "output_type": "execute_result"
    }
   ],
   "source": [
    "air_temperature_sc, wind_speed_sc, cloud_cover_sc = zip(*X_test_scaled)\n",
    "X_test['air_temperature'] = air_temperature_sc\n",
    "X_test['wind_speed'] = wind_speed_sc\n",
    "X_test['cloud_cover'] = cloud_cover_sc ; X_test"
   ]
  },
  {
   "cell_type": "code",
   "execution_count": 373,
   "metadata": {},
   "outputs": [
    {
     "name": "stdout",
     "output_type": "stream",
     "text": [
      "R² score: 0.85\n"
     ]
    }
   ],
   "source": [
    "regressor = DecisionTreeRegressor(random_state=42)\n",
    "\n",
    "regressor.fit(X_train, y_train)\n",
    "\n",
    "y_pred = regressor.predict(X_test)\n",
    "\n",
    "score = r2_score(y_test, y_pred)\n",
    "\n",
    "print(f\"R² score: {score:.2f}\")\n",
    "# y_pred = regressor.predict(df_test)"
   ]
  },
  {
   "cell_type": "code",
   "execution_count": 374,
   "metadata": {},
   "outputs": [],
   "source": [
    "duomenys08= df_08.drop(columns=['value', 'ltu'])\n",
    "y_pred = regressor.predict(duomenys08)"
   ]
  },
  {
   "cell_type": "code",
   "execution_count": 375,
   "metadata": {},
   "outputs": [],
   "source": [
    "df_rezultatai['prognoze_DTR'] = y_pred"
   ]
  },
  {
   "cell_type": "code",
   "execution_count": 376,
   "metadata": {},
   "outputs": [
    {
     "data": {
      "image/png": "[encoded data removed]",
      "text/plain": [
       "<Figure size 640x480 with 1 Axes>"
      ]
     },
     "metadata": {},
     "output_type": "display_data"
    }
   ],
   "source": [
    "sns.lineplot(data=df_rezultatai, x='valanda', y='value', label='Faktinis suvartojimas')\n",
    "sns.lineplot(data=df_rezultatai, x='valanda', y='prognoze_DTR', label='Prognozuojamas suvartojimas')\n",
    "plt.title('Faktinis ir prognozuojamas suvartojimas 2025-02-08 (DecisionTreeRegressor)')\n",
    "plt.show()"
   ]
  },
  {
   "cell_type": "code",
   "execution_count": 377,
   "metadata": {},
   "outputs": [
    {
     "name": "stdout",
     "output_type": "stream",
     "text": [
      "R² score: 0.92\n"
     ]
    }
   ],
   "source": [
    "regressor = RandomForestRegressor(random_state=42)\n",
    "\n",
    "regressor.fit(X_train, y_train)\n",
    "\n",
    "y_pred = regressor.predict(X_test)\n",
    "\n",
    "score = r2_score(y_test, y_pred)\n",
    "\n",
    "print(f\"R² score: {score:.2f}\")\n"
   ]
  },
  {
   "cell_type": "code",
   "execution_count": 378,
   "metadata": {},
   "outputs": [],
   "source": [
    "duomenys08= df_08.drop(columns=['value', 'ltu'])\n",
    "y_pred = regressor.predict(duomenys08)"
   ]
  },
  {
   "cell_type": "code",
   "execution_count": 379,
   "metadata": {},
   "outputs": [],
   "source": [
    "df_rezultatai['prognoze_RFR'] = y_pred"
   ]
  },
  {
   "cell_type": "code",
   "execution_count": 380,
   "metadata": {},
   "outputs": [
    {
     "data": {
      "image/png": "[encoded data removed]",
      "text/plain": [
       "<Figure size 640x480 with 1 Axes>"
      ]
     },
     "metadata": {},
     "output_type": "display_data"
    }
   ],
   "source": [
    "sns.lineplot(data=df_rezultatai, x='valanda', y='value', label='Faktinis suvartojimas')\n",
    "sns.lineplot(data=df_rezultatai, x='valanda', y='prognoze_RFR', label='Prognozuojamas suvartojimas')\n",
    "plt.title('Faktinis ir prognozuojamas suvartojimas 2025-02-08 (RandomForestRegressor)')\n",
    "plt.show()"
   ]
  },
  {
   "cell_type": "code",
   "execution_count": 381,
   "metadata": {},
   "outputs": [
    {
     "data": {
      "application/vnd.microsoft.datawrangler.viewer.v0+json": {
       "columns": [
        {
         "name": "index",
         "rawType": "int64",
         "type": "integer"
        },
        {
         "name": "valanda",
         "rawType": "int32",
         "type": "integer"
        },
        {
         "name": "value",
         "rawType": "float64",
         "type": "float"
        },
        {
         "name": "prognoze_vidurkis",
         "rawType": "float64",
         "type": "float"
        },
        {
         "name": "prognoze_DTR",
         "rawType": "float64",
         "type": "float"
        },
        {
         "name": "prognoze_RFR",
         "rawType": "float64",
         "type": "float"
        }
       ],
       "conversionMethod": "pd.DataFrame",
       "ref": "4142fd5f-3948-44d6-9d0f-736e94dd02bf",
       "rows": [
        [
         "18458",
         "0",
         "1068.992",
         "1012.4854444444443",
         "1165.606",
         "1146.0288199999998"
        ],
        [
         "18459",
         "1",
         "1023.915",
         "966.1932222222222",
         "1072.6779999999999",
         "1147.6542499999998"
        ],
        [
         "18460",
         "2",
         "983.7769999999999",
         "939.0826666666666",
         "1072.6779999999999",
         "1145.47989"
        ],
        [
         "18461",
         "3",
         "972.988",
         "922.8933333333334",
         "1072.6779999999999",
         "1142.9605099999999"
        ],
        [
         "18462",
         "4",
         "976.748",
         "920.709111111111",
         "1072.6779999999999",
         "1203.39583"
        ],
        [
         "18463",
         "5",
         "1002.086",
         "944.1032222222223",
         "1275.993",
         "1246.1138200000003"
        ],
        [
         "18464",
         "6",
         "1081.828",
         "1007.6693333333333",
         "1134.7530000000002",
         "1193.265549999999"
        ],
        [
         "18465",
         "7",
         "1163.594",
         "1078.7587777777778",
         "1112.348",
         "1223.6686699999993"
        ],
        [
         "18466",
         "8",
         "1236.3039999999999",
         "1163.5739999999998",
         "1448.567",
         "1357.1943899999992"
        ],
        [
         "18467",
         "9",
         "1332.549",
         "1238.922111111111",
         "1644.014",
         "1592.8469599999994"
        ],
        [
         "18468",
         "10",
         "1345.867",
         "1266.3671111111112",
         "1644.014",
         "1630.0116299999995"
        ],
        [
         "18469",
         "11",
         "1330.529",
         "1258.5205555555556",
         "1644.014",
         "1644.1402599999994"
        ],
        [
         "18470",
         "12",
         "1264.468",
         "1251.484",
         "1619.449",
         "1561.6063699999986"
        ],
        [
         "18471",
         "13",
         "1210.894",
         "1247.9114444444444",
         "1534.873",
         "1526.6410999999994"
        ],
        [
         "18472",
         "14",
         "1214.602",
         "1233.2574444444444",
         "1537.245",
         "1534.5230199999992"
        ],
        [
         "18473",
         "15",
         "1183.91",
         "1235.4813333333332",
         "1644.014",
         "1640.1285499999985"
        ],
        [
         "18474",
         "16",
         "1317.6480000000001",
         "1256.5203333333332",
         "1719.496",
         "1675.2406700000001"
        ],
        [
         "18475",
         "17",
         "1375.866",
         "1308.5211111111112",
         "1719.496",
         "1676.3698500000005"
        ],
        [
         "18476",
         "18",
         "1428.609",
         "1341.9535555555556",
         "1719.496",
         "1677.80577"
        ],
        [
         "18477",
         "19",
         "1424.79",
         "1319.725",
         "1719.496",
         "1675.4647900000002"
        ],
        [
         "18478",
         "20",
         "1375.549",
         "1270.5575555555556",
         "1671.824",
         "1665.3907399999996"
        ],
        [
         "18479",
         "21",
         "1298.356",
         "1207.1576666666667",
         "1586.329",
         "1604.1612699999998"
        ],
        [
         "18480",
         "22",
         "1210.2040000000002",
         "1130.783222222222",
         "1311.201",
         "1370.2589700000012"
        ],
        [
         "18481",
         "23",
         "1136.56",
         "1055.2015555555556",
         "1316.17",
         "1308.010970000001"
        ]
       ],
       "shape": {
        "columns": 5,
        "rows": 24
       }
      },
      "text/html": [
       "<div>\n",
       "<style scoped>\n",
       "    .dataframe tbody tr th:only-of-type {\n",
       "        vertical-align: middle;\n",
       "    }\n",
       "\n",
       "    .dataframe tbody tr th {\n",
       "        vertical-align: top;\n",
       "    }\n",
       "\n",
       "    .dataframe thead th {\n",
       "        text-align: right;\n",
       "    }\n",
       "</style>\n",
       "<table border=\"1\" class=\"dataframe\">\n",
       "  <thead>\n",
       "    <tr style=\"text-align: right;\">\n",
       "      <th></th>\n",
       "      <th>valanda</th>\n",
       "      <th>value</th>\n",
       "      <th>prognoze_vidurkis</th>\n",
       "      <th>prognoze_DTR</th>\n",
       "      <th>prognoze_RFR</th>\n",
       "    </tr>\n",
       "  </thead>\n",
       "  <tbody>\n",
       "    <tr>\n",
       "      <th>18458</th>\n",
       "      <td>0</td>\n",
       "      <td>1068.992</td>\n",
       "      <td>1012.485444</td>\n",
       "      <td>1165.606</td>\n",
       "      <td>1146.02882</td>\n",
       "    </tr>\n",
       "    <tr>\n",
       "      <th>18459</th>\n",
       "      <td>1</td>\n",
       "      <td>1023.915</td>\n",
       "      <td>966.193222</td>\n",
       "      <td>1072.678</td>\n",
       "      <td>1147.65425</td>\n",
       "    </tr>\n",
       "    <tr>\n",
       "      <th>18460</th>\n",
       "      <td>2</td>\n",
       "      <td>983.777</td>\n",
       "      <td>939.082667</td>\n",
       "      <td>1072.678</td>\n",
       "      <td>1145.47989</td>\n",
       "    </tr>\n",
       "    <tr>\n",
       "      <th>18461</th>\n",
       "      <td>3</td>\n",
       "      <td>972.988</td>\n",
       "      <td>922.893333</td>\n",
       "      <td>1072.678</td>\n",
       "      <td>1142.96051</td>\n",
       "    </tr>\n",
       "    <tr>\n",
       "      <th>18462</th>\n",
       "      <td>4</td>\n",
       "      <td>976.748</td>\n",
       "      <td>920.709111</td>\n",
       "      <td>1072.678</td>\n",
       "      <td>1203.39583</td>\n",
       "    </tr>\n",
       "    <tr>\n",
       "      <th>18463</th>\n",
       "      <td>5</td>\n",
       "      <td>1002.086</td>\n",
       "      <td>944.103222</td>\n",
       "      <td>1275.993</td>\n",
       "      <td>1246.11382</td>\n",
       "    </tr>\n",
       "    <tr>\n",
       "      <th>18464</th>\n",
       "      <td>6</td>\n",
       "      <td>1081.828</td>\n",
       "      <td>1007.669333</td>\n",
       "      <td>1134.753</td>\n",
       "      <td>1193.26555</td>\n",
       "    </tr>\n",
       "    <tr>\n",
       "      <th>18465</th>\n",
       "      <td>7</td>\n",
       "      <td>1163.594</td>\n",
       "      <td>1078.758778</td>\n",
       "      <td>1112.348</td>\n",
       "      <td>1223.66867</td>\n",
       "    </tr>\n",
       "    <tr>\n",
       "      <th>18466</th>\n",
       "      <td>8</td>\n",
       "      <td>1236.304</td>\n",
       "      <td>1163.574000</td>\n",
       "      <td>1448.567</td>\n",
       "      <td>1357.19439</td>\n",
       "    </tr>\n",
       "    <tr>\n",
       "      <th>18467</th>\n",
       "      <td>9</td>\n",
       "      <td>1332.549</td>\n",
       "      <td>1238.922111</td>\n",
       "      <td>1644.014</td>\n",
       "      <td>1592.84696</td>\n",
       "    </tr>\n",
       "    <tr>\n",
       "      <th>18468</th>\n",
       "      <td>10</td>\n",
       "      <td>1345.867</td>\n",
       "      <td>1266.367111</td>\n",
       "      <td>1644.014</td>\n",
       "      <td>1630.01163</td>\n",
       "    </tr>\n",
       "    <tr>\n",
       "      <th>18469</th>\n",
       "      <td>11</td>\n",
       "      <td>1330.529</td>\n",
       "      <td>1258.520556</td>\n",
       "      <td>1644.014</td>\n",
       "      <td>1644.14026</td>\n",
       "    </tr>\n",
       "    <tr>\n",
       "      <th>18470</th>\n",
       "      <td>12</td>\n",
       "      <td>1264.468</td>\n",
       "      <td>1251.484000</td>\n",
       "      <td>1619.449</td>\n",
       "      <td>1561.60637</td>\n",
       "    </tr>\n",
       "    <tr>\n",
       "      <th>18471</th>\n",
       "      <td>13</td>\n",
       "      <td>1210.894</td>\n",
       "      <td>1247.911444</td>\n",
       "      <td>1534.873</td>\n",
       "      <td>1526.64110</td>\n",
       "    </tr>\n",
       "    <tr>\n",
       "      <th>18472</th>\n",
       "      <td>14</td>\n",
       "      <td>1214.602</td>\n",
       "      <td>1233.257444</td>\n",
       "      <td>1537.245</td>\n",
       "      <td>1534.52302</td>\n",
       "    </tr>\n",
       "    <tr>\n",
       "      <th>18473</th>\n",
       "      <td>15</td>\n",
       "      <td>1183.910</td>\n",
       "      <td>1235.481333</td>\n",
       "      <td>1644.014</td>\n",
       "      <td>1640.12855</td>\n",
       "    </tr>\n",
       "    <tr>\n",
       "      <th>18474</th>\n",
       "      <td>16</td>\n",
       "      <td>1317.648</td>\n",
       "      <td>1256.520333</td>\n",
       "      <td>1719.496</td>\n",
       "      <td>1675.24067</td>\n",
       "    </tr>\n",
       "    <tr>\n",
       "      <th>18475</th>\n",
       "      <td>17</td>\n",
       "      <td>1375.866</td>\n",
       "      <td>1308.521111</td>\n",
       "      <td>1719.496</td>\n",
       "      <td>1676.36985</td>\n",
       "    </tr>\n",
       "    <tr>\n",
       "      <th>18476</th>\n",
       "      <td>18</td>\n",
       "      <td>1428.609</td>\n",
       "      <td>1341.953556</td>\n",
       "      <td>1719.496</td>\n",
       "      <td>1677.80577</td>\n",
       "    </tr>\n",
       "    <tr>\n",
       "      <th>18477</th>\n",
       "      <td>19</td>\n",
       "      <td>1424.790</td>\n",
       "      <td>1319.725000</td>\n",
       "      <td>1719.496</td>\n",
       "      <td>1675.46479</td>\n",
       "    </tr>\n",
       "    <tr>\n",
       "      <th>18478</th>\n",
       "      <td>20</td>\n",
       "      <td>1375.549</td>\n",
       "      <td>1270.557556</td>\n",
       "      <td>1671.824</td>\n",
       "      <td>1665.39074</td>\n",
       "    </tr>\n",
       "    <tr>\n",
       "      <th>18479</th>\n",
       "      <td>21</td>\n",
       "      <td>1298.356</td>\n",
       "      <td>1207.157667</td>\n",
       "      <td>1586.329</td>\n",
       "      <td>1604.16127</td>\n",
       "    </tr>\n",
       "    <tr>\n",
       "      <th>18480</th>\n",
       "      <td>22</td>\n",
       "      <td>1210.204</td>\n",
       "      <td>1130.783222</td>\n",
       "      <td>1311.201</td>\n",
       "      <td>1370.25897</td>\n",
       "    </tr>\n",
       "    <tr>\n",
       "      <th>18481</th>\n",
       "      <td>23</td>\n",
       "      <td>1136.560</td>\n",
       "      <td>1055.201556</td>\n",
       "      <td>1316.170</td>\n",
       "      <td>1308.01097</td>\n",
       "    </tr>\n",
       "  </tbody>\n",
       "</table>\n",
       "</div>"
      ],
      "text/plain": [
       "       valanda     value  prognoze_vidurkis  prognoze_DTR  prognoze_RFR\n",
       "18458        0  1068.992        1012.485444      1165.606    1146.02882\n",
       "18459        1  1023.915         966.193222      1072.678    1147.65425\n",
       "18460        2   983.777         939.082667      1072.678    1145.47989\n",
       "18461        3   972.988         922.893333      1072.678    1142.96051\n",
       "18462        4   976.748         920.709111      1072.678    1203.39583\n",
       "18463        5  1002.086         944.103222      1275.993    1246.11382\n",
       "18464        6  1081.828        1007.669333      1134.753    1193.26555\n",
       "18465        7  1163.594        1078.758778      1112.348    1223.66867\n",
       "18466        8  1236.304        1163.574000      1448.567    1357.19439\n",
       "18467        9  1332.549        1238.922111      1644.014    1592.84696\n",
       "18468       10  1345.867        1266.367111      1644.014    1630.01163\n",
       "18469       11  1330.529        1258.520556      1644.014    1644.14026\n",
       "18470       12  1264.468        1251.484000      1619.449    1561.60637\n",
       "18471       13  1210.894        1247.911444      1534.873    1526.64110\n",
       "18472       14  1214.602        1233.257444      1537.245    1534.52302\n",
       "18473       15  1183.910        1235.481333      1644.014    1640.12855\n",
       "18474       16  1317.648        1256.520333      1719.496    1675.24067\n",
       "18475       17  1375.866        1308.521111      1719.496    1676.36985\n",
       "18476       18  1428.609        1341.953556      1719.496    1677.80577\n",
       "18477       19  1424.790        1319.725000      1719.496    1675.46479\n",
       "18478       20  1375.549        1270.557556      1671.824    1665.39074\n",
       "18479       21  1298.356        1207.157667      1586.329    1604.16127\n",
       "18480       22  1210.204        1130.783222      1311.201    1370.25897\n",
       "18481       23  1136.560        1055.201556      1316.170    1308.01097"
      ]
     },
     "execution_count": 381,
     "metadata": {},
     "output_type": "execute_result"
    }
   ],
   "source": [
    "df_rezultatai"
   ]
  },
  {
   "cell_type": "code",
   "execution_count": 382,
   "metadata": {},
   "outputs": [
    {
     "data": {
      "image/png": "[encoded data removed]",
      "text/plain": [
       "<Figure size 640x480 with 1 Axes>"
      ]
     },
     "metadata": {},
     "output_type": "display_data"
    }
   ],
   "source": [
    "sns.lineplot(data=df_rezultatai, x='valanda', y='value', label='Faktinis suvartojimas')\n",
    "sns.lineplot(data=df_rezultatai, x='valanda', y='prognoze_RFR', label='Prognozuojamas suvartojimas RFR')\n",
    "sns.lineplot(data=df_rezultatai, x='valanda', y='prognoze_DTR', label='Prognozuojamas suvartojimas DTR')\n",
    "sns.lineplot(data=df_rezultatai, x='valanda', y='prognoze_vidurkis', label='Prognozuojamas suvartojimas vidurkis')\n",
    "plt.title('Faktinis ir prognozuojamas suvartojimas 2025-02-08')\n",
    "plt.show()"
   ]
  }
 ],
 "metadata": {
  "kernelspec": {
   "display_name": "Python 3",
   "language": "python",
   "name": "python3"
  },
  "language_info": {
   "codemirror_mode": {
    "name": "ipython",
    "version": 3
   },
   "file_extension": ".py",
   "mimetype": "text/x-python",
   "name": "python",
   "nbconvert_exporter": "python",
   "pygments_lexer": "ipython3",
   "version": "3.12.4"
  }
 },
 "nbformat": 4,
 "nbformat_minor": 2
}
