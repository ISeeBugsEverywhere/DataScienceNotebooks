{
 "cells": [
  {
   "cell_type": "code",
   "execution_count": 1,
   "metadata": {},
   "outputs": [],
   "source": [
    "import numpy as np\n",
    "import pandas as pd\n",
    "import matplotlib.pyplot as plt\n",
    "import warnings\n",
    "warnings.filterwarnings('ignore')\n",
    "import seaborn as sns\n",
    "import sqlite3\n",
    "import mysql.connector as cnt\n",
    "import plotly.express as px"
   ]
  },
  {
   "cell_type": "code",
   "execution_count": null,
   "metadata": {},
   "outputs": [],
   "source": [
    "import streamlit as st\n",
    "import pandas as pd\n",
    "import numpy as np\n",
    "import plotly.express as px\n",
    "import mysql.connector as cnt\n",
    "import matplotlib.pyplot as plt\n",
    "#streamlit page config:\n",
    "st.set_page_config(page_icon=':bar_chart', page_title='DEMO STREAMLIT MAP', layout='centered')"
   ]
  },
  {
   "cell_type": "code",
   "execution_count": 2,
   "metadata": {},
   "outputs": [],
   "source": [
    "gmp = pd.read_csv(r'../../DATA/GMP.csv')"
   ]
  },
  {
   "cell_type": "code",
   "execution_count": null,
   "metadata": {},
   "outputs": [],
   "source": [
    "gmp.head(1)"
   ]
  },
  {
   "cell_type": "code",
   "execution_count": null,
   "metadata": {},
   "outputs": [],
   "source": [
    "fig = px.scatter_mapbox(data_frame=gmp, lon='X', lat='Y', zoom=5)\n",
    "fig.update_layout(mapbox_style='open-street-map')\n",
    "fig.update_layout(width=800, height=600)\n",
    "fig.show()"
   ]
  },
  {
   "cell_type": "code",
   "execution_count": null,
   "metadata": {},
   "outputs": [],
   "source": [
    "gaisrai = gmp[gmp['zemesnis_ivykio_tipas'].str.contains('Gaisr', na =False)]\n",
    "\n",
    "fig = px.scatter_mapbox(data_frame=gaisrai, lon='X', lat='Y', zoom=5)\n",
    "fig.update_layout(mapbox_style='open-street-map')\n",
    "fig.update_layout(width=800, height=600)\n",
    "fig.show()"
   ]
  },
  {
   "cell_type": "code",
   "execution_count": null,
   "metadata": {},
   "outputs": [],
   "source": [
    "ket = gmp[gmp['zemesnis_ivykio_tipas'].str.contains('KET', na =False)]\n",
    "\n",
    "fig = px.scatter_mapbox(data_frame=ket, lon='X', lat='Y', zoom=5)\n",
    "fig.update_layout(mapbox_style='open-street-map')\n",
    "fig.update_layout(width=800, height=600)\n",
    "fig.show()"
   ]
  },
  {
   "cell_type": "code",
   "execution_count": null,
   "metadata": {},
   "outputs": [],
   "source": [
    "# import streamlit as st\n",
    "# import pandas as pd\n",
    "# import numpy as np\n",
    "# import plotly.express as px\n",
    "# import mysql.connector as cnt\n",
    "# import matplotlib.pyplot as plt\n",
    "# #streamlit page config: :streamlit\n",
    "# st.set_page_config(page_icon=':bar_chart', page_title='DEMO STREAMLIT MAP', layout='centered')\n",
    "\n",
    "# st.header('Mano pirmas data science web puslapis')\n",
    "\n",
    "# def read_json(name):\n",
    "# df = pd.read_json(name)\n",
    "# return df\n",
    "\n",
    "# @st.cache_data\n",
    "# def read_json_cached(namea):\n",
    "# dff = pd.read_json(namea)\n",
    "# return dff\n",
    "\n",
    "# left, right = st.columns(2)\n",
    "\n",
    "# file = left.file_uploader(label='Nurodykite JSON failą (left)')\n",
    "\n",
    "\n",
    "# left.write('paprasta funkcija')\n",
    "# if file is not None:\n",
    "# dfa = read_json(file)\n",
    "# left.write(dfa.head(5))\n",
    "# file = right.file_uploader(label='Nurodykite JSON failą (right)')\n",
    "# right.write('dekoruota funkcija')\n",
    "# if file is not None:\n",
    "# dfb = read_json_cached(file)\n",
    "# right.write(dfb.head(5))\n",
    "\n",
    "\n",
    "####################\n",
    "\n",
    "# f = st.file_uploader(label='CSV')\n",
    "# if f is not None:\n",
    "# df = pd.read_csv(f)\n",
    "# fig = px.scatter_mapbox(data_frame=df, lon='X', lat='Y', zoom=5)\n",
    "# fig.update_layout(mapbox_style='open-street-map')\n",
    "# fig.update_layout(width=800, height=600)\n",
    "# st.plotly_chart(fig)"
   ]
  },
  {
   "cell_type": "code",
   "execution_count": null,
   "metadata": {},
   "outputs": [],
   "source": [
    "# apply () axis\n",
    "# nuskaityti GMP failą (didenįjį), x, y koordinantes konvertuoti į \n",
    "# pasaulines ilgumą ir platumą, pridėti gautąsias koordinantes kaip du naujus stulpelius.\n",
    "# atrinkti tik gaisrus iki 3jų autocisternų ir jų įvykių vietas atvaizduoti plotly express mapbox grafike.\n",
    "# galite tai atlikti arba jupyter notebooke arba galite panaudoti streamlit skriptą"
   ]
  }
 ],
 "metadata": {
  "kernelspec": {
   "display_name": "Python 3",
   "language": "python",
   "name": "python3"
  },
  "language_info": {
   "codemirror_mode": {
    "name": "ipython",
    "version": 3
   },
   "file_extension": ".py",
   "mimetype": "text/x-python",
   "name": "python",
   "nbconvert_exporter": "python",
   "pygments_lexer": "ipython3",
   "version": "3.12.4"
  }
 },
 "nbformat": 4,
 "nbformat_minor": 2
}
