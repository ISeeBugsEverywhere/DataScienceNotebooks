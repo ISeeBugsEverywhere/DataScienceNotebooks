{
 "cells": [
  {
   "cell_type": "code",
   "execution_count": 2,
   "metadata": {},
   "outputs": [
    {
     "name": "stdout",
     "output_type": "stream",
     "text": [
      "14\n"
     ]
    }
   ],
   "source": [
    "a = len('pauliusvanagas')\n",
    "print(a)"
   ]
  },
  {
   "cell_type": "code",
   "execution_count": 3,
   "metadata": {},
   "outputs": [
    {
     "name": "stdout",
     "output_type": "stream",
     "text": [
      "90\n"
     ]
    }
   ],
   "source": [
    "b=len('„Laukia gana ramus ir tvankus vakaras“: sinoptikė atskleidė, kur ir kodėl pasitraukė audra')\n",
    "print(b)"
   ]
  },
  {
   "cell_type": "code",
   "execution_count": 4,
   "metadata": {},
   "outputs": [
    {
     "name": "stdout",
     "output_type": "stream",
     "text": [
      "PAULIUS VANAGAS paulius vanagas\n"
     ]
    }
   ],
   "source": [
    "c = 'Paulius Vanagas'\n",
    "c1 = c.upper()\n",
    "c2=c.lower()\n",
    "print(c1, c2)"
   ]
  },
  {
   "cell_type": "code",
   "execution_count": 5,
   "metadata": {},
   "outputs": [
    {
     "name": "stdout",
     "output_type": "stream",
     "text": [
      "pirmi 10 simboliu: „Laukia ga\n",
      "paskutiniai 10 simboliu: aukė audra\n",
      "kas antras: „akagn au rtaksvkrs:snpiėasliė u rkdlpstak ur\n",
      "nuo 10 iki 20: ana ramus i\n"
     ]
    }
   ],
   "source": [
    "d = '„Laukia gana ramus ir tvankus vakaras“: sinoptikė atskleidė, kur ir kodėl pasitraukė audra'\n",
    "d1 = d[0:10]\n",
    "d2=d[-10:]\n",
    "print(\"pirmi 10 simboliu:\", d1)\n",
    "print(\"paskutiniai 10 simboliu:\", d2)\n",
    "d3 = d[::2]\n",
    "print(\"kas antras:\", d3)\n",
    "d4 = d[9:20]\n",
    "print(\"nuo 10 iki 20:\", d4)\n"
   ]
  },
  {
   "cell_type": "code",
   "execution_count": 6,
   "metadata": {},
   "outputs": [
    {
     "name": "stdout",
     "output_type": "stream",
     "text": [
      "14\n",
      "2\n"
     ]
    }
   ],
   "source": [
    "\n",
    "f = '„Laukia gana ramus ir tvankus vakaras“: sinoptikė atskleidė, kur ir kodėl pasitraukė audra'\n",
    "f1 = f.count('a')\n",
    "print(f1)\n",
    "f2=f.index('a')\n",
    "print(f2)"
   ]
  },
  {
   "cell_type": "code",
   "execution_count": 7,
   "metadata": {},
   "outputs": [
    {
     "name": "stdout",
     "output_type": "stream",
     "text": [
      "abas rytas!\n",
      "labas rytas\n",
      "abas rytas\n"
     ]
    }
   ],
   "source": [
    "txt = \"labas rytas!\"\n",
    "e1 = txt[1:]\n",
    "print(e1)\n",
    "e2=txt[0:len(txt)-1]\n",
    "print(e2)\n",
    "e3=txt[1:len(txt)-1]\n",
    "print(e3)"
   ]
  },
  {
   "cell_type": "code",
   "execution_count": 8,
   "metadata": {},
   "outputs": [
    {
     "name": "stdout",
     "output_type": "stream",
     "text": [
      "180 144 3.4641016151377544 3\n"
     ]
    }
   ],
   "source": [
    "###### antra dalis\n",
    "k1=12\n",
    "k2=15\n",
    "s1=k1*k2\n",
    "s2=k1**2\n",
    "s3=k1**(1/2)\n",
    "s4=k2%k1\n",
    "print(s1, s2, s3, s4)"
   ]
  },
  {
   "cell_type": "code",
   "execution_count": 25,
   "metadata": {},
   "outputs": [
    {
     "name": "stdout",
     "output_type": "stream",
     "text": [
      "ivesti skaiciai 5.2222 3.33333\n",
      "daugyba: 17.41, kelimas kvadratu: 27.2714, saknies traukimas: 2.285213e+00,liekana: 3.33333\n"
     ]
    }
   ],
   "source": [
    "######## trecia dalis\n",
    "k1=float(input())\n",
    "k2=float(input())\n",
    "s1=k1*k2\n",
    "s2=k1**2\n",
    "s3=k1**(1/2)\n",
    "s4=k2%k1\n",
    "print('ivesti skaiciai', k1, k2)\n",
    "txt=\"daugyba: {A:.2f}, kelimas kvadratu: {B:.4f}, saknies traukimas: {C:e},liekana: {D}\"\n",
    "print(txt.format( A=s1, B=s2, C=s3, D=s4))"
   ]
  }
 ],
 "metadata": {
  "kernelspec": {
   "display_name": "Python 3",
   "language": "python",
   "name": "python3"
  },
  "language_info": {
   "codemirror_mode": {
    "name": "ipython",
    "version": 3
   },
   "file_extension": ".py",
   "mimetype": "text/x-python",
   "name": "python",
   "nbconvert_exporter": "python",
   "pygments_lexer": "ipython3",
   "version": "3.12.4"
  }
 },
 "nbformat": 4,
 "nbformat_minor": 2
}
