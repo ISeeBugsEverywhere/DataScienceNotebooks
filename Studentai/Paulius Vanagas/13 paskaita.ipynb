{
 "cells": [
  {
   "cell_type": "code",
   "execution_count": 33,
   "metadata": {},
   "outputs": [
    {
     "name": "stdout",
     "output_type": "stream",
     "text": [
      "['S', 'S', 'S', 'S', 42, 42, 'S', 'S', 'S', 'S', 'S', 'S', 'S', 'S', 42, 'S', 'S', 'S', 42, 'Skaičius', 'Skaičius', 42, 'S', 'S', 'S', 'S', 'S', 'S', 42, 42, 'Skaičius', 42, 'S', 'S', 42, 'S', 'S', 'S', 'S', 'S', 'S', 'S', 42, 'S', 'S', 'S', 'S', 'S']\n"
     ]
    }
   ],
   "source": [
    "txt='Labs, šiandien yra 24 liepos, 7-to mėnesio diena'\n",
    "\n",
    "sar = list(txt)\n",
    "\n",
    "def darom(x):\n",
    "    for i in x:\n",
    "        if i.isnumeric():\n",
    "            return 'Skaičius'\n",
    "        elif i.isalpha():\n",
    "            return 'S'\n",
    "        else:\n",
    "            return 42\n",
    "\n",
    "ats=list(map(darom, sar)) #vietoje sar galima buvo ir txt ideti, taip pat veiktu\n",
    "print(ats)\n",
    "\n",
    "# Luko\n",
    "# def eilute(t):\n",
    "#     # t.replace(\",\", \"\")\n",
    "#     # lst = t.replace(',', '').split()\n",
    "#     # lst = list(t)\n",
    "#     # print(lst)\n",
    "#     ats = list(map(lambda x: \"skaicius\" if x.isnumeric() else 'S' if x.isalpha() else 42, t))\n",
    "#     return ats\n",
    "# eilute(txt)\n"
   ]
  },
  {
   "cell_type": "code",
   "execution_count": 34,
   "metadata": {},
   "outputs": [],
   "source": [
    "from dateutil import parser"
   ]
  },
  {
   "cell_type": "code",
   "execution_count": 35,
   "metadata": {},
   "outputs": [],
   "source": [
    "import numpy as np"
   ]
  },
  {
   "cell_type": "code",
   "execution_count": 39,
   "metadata": {},
   "outputs": [
    {
     "name": "stdout",
     "output_type": "stream",
     "text": [
      "(np.float64(1.0), np.float64(2.0), np.float64(3.0), np.float64(4.0), np.float64(5.0), np.float64(6.0), np.float64(7.0), np.float64(8.0), np.float64(9.0), np.float64(10.0), np.float64(11.0), np.float64(12.0), np.float64(13.0), np.float64(14.0), np.float64(15.0), np.float64(16.0), np.float64(17.0), np.float64(18.0), np.float64(19.0), np.float64(20.0), np.float64(21.0), np.float64(22.0), np.float64(23.0), np.float64(24.0), np.float64(25.0), np.float64(26.0), np.float64(27.0), np.float64(28.0), np.float64(29.0), np.float64(30.0))\n"
     ]
    }
   ],
   "source": [
    "f='../../Data/fpc.csv'\n",
    "ft=np.loadtxt(f, delimiter=',', skiprows=1)\n",
    "c1, c2, c3, c4, c5 = zip(*ft)\n",
    "\n",
    "print(c1)"
   ]
  },
  {
   "cell_type": "code",
   "execution_count": 40,
   "metadata": {},
   "outputs": [
    {
     "name": "stdout",
     "output_type": "stream",
     "text": [
      "[ 1.  2.  3.  4.  5.  6.  7.  8.  9. 10. 11. 12. 13. 14. 15. 16. 17. 18.\n",
      " 19. 20. 21. 22. 23. 24. 25. 26. 27. 28. 29. 30.]\n"
     ]
    }
   ],
   "source": [
    "c1, c2, c3, c4, c5 = np.transpose(ft)\n",
    "print(c1)"
   ]
  },
  {
   "cell_type": "code",
   "execution_count": 1,
   "metadata": {},
   "outputs": [
    {
     "name": "stdout",
     "output_type": "stream",
     "text": [
      "0.11\n",
      "0.03\n",
      "[np.float64(-0.96), np.float64(-0.22), np.float64(-0.91), np.float64(-0.27), np.float64(-0.19), np.float64(-0.1), np.float64(-0.25), np.float64(0.16), np.float64(0.21), np.float64(0.1), np.float64(0.02), np.float64(-0.15), np.float64(-0.08), np.float64(0.57), np.float64(-0.47), np.float64(0.89), np.float64(-0.42), np.float64(-0.06), np.float64(0.04), np.float64(0.19), np.float64(0.7), np.float64(-0.21), np.float64(0.81), np.float64(-0.61), np.float64(1.02), np.float64(0.3), np.float64(1.77), np.float64(-0.46), np.float64(0.77), np.float64(0.14)]\n",
      "0.08\n"
     ]
    }
   ],
   "source": [
    "#nuskaitykyte Table1.dat, ir suraskite:\n",
    "#  stulpeliuose esančių skaičių vidurkį, medianą\n",
    "# suraskite sandaugą antro stlpelio su trečiuoju, tada gauto atsakymo vidurkį.\n",
    "# Suapvalinkite visus atsakymus iki 2-jų ženklų poo kablelio\n",
    "\n",
    "import os\n",
    "import glob\n",
    "import numpy as np\n",
    "\n",
    "os.chdir(r\"C:\\Users\\pauli\\Desktop\\DataScienceNotebooks\\DATA\")\n",
    "failas = open('Table1.dat', mode='r', encoding='utf-8')\n",
    "turinys = np.loadtxt(failas, delimiter=';', skiprows=1)\n",
    "failas.close()\n",
    "\n",
    "c1,c2,c3 = zip(*turinys)\n",
    "\n",
    "def vidurkis(d):\n",
    "    return round(sum(d)/len(d),2)\n",
    "\n",
    "def mediana(e):\n",
    "    return round(np.median(e), 2)\n",
    "\n",
    "def sandauga(f1, f2):\n",
    "    f1=np.asarray(f1)\n",
    "    f2=np.asarray(f2)\n",
    "\n",
    "    a = f1*f2\n",
    "    \n",
    "    return list(map(lambda x: round(x, 2), a))\n",
    "\n",
    "\n",
    "print(vidurkis(c3))\n",
    "print(mediana(c2))\n",
    "print(sandauga(c2, c3))\n",
    "print(vidurkis(sandauga(c2, c3)))\n",
    "\n"
   ]
  },
  {
   "cell_type": "code",
   "execution_count": 4,
   "metadata": {},
   "outputs": [
    {
     "name": "stdout",
     "output_type": "stream",
     "text": [
      "4.506\n",
      "85.8752\n",
      "30.054000000000002\n",
      "34.99069929824561\n"
     ]
    }
   ],
   "source": [
    "#  Parašyti klasę TxtReader skirtą tekstinio failo iš dviejų\n",
    "# stulpelių nuskaitymui . Esant poreikiui, inicializacijos metu\n",
    "# galima nurodyti stulpelių skirtuką, ar konvertuoti pirmąjį\n",
    "# stulpelį į datą (datetime objektą), kiek eilučių praleisti nuo\n",
    "# failo pradžios. Jei failas turi daugiau nei du stulpelius - galima\n",
    "# nurodyti, kuris stulpelis konkrečiai yra x, o kuris y. Atributai x\n",
    "# ir y - privatūs.\n",
    "# Pridėkite motdus, kurie leistų surasti stulpelio y vidurkį, medianą, maksimumą, minimumą\n",
    "\n",
    "import os\n",
    "import glob\n",
    "import numpy as np\n",
    "from dateutil import parser\n",
    "\n",
    "class TxtReader():\n",
    "    def __init__(self, f, skirtukas=',', ardata=True, praleisti=1, stu1=1, stu2=2):\n",
    "        self.skirtukas = skirtukas\n",
    "        self.ardata = ardata\n",
    "        self.praleisti = praleisti\n",
    "        self.__x = stu1-1\n",
    "        self.__y = stu2-1\n",
    "        \n",
    "        os.chdir(r\"C:\\Users\\pauli\\Desktop\\DataScienceNotebooks\\DATA\")\n",
    "        failas = open(f, mode='r', encoding='utf-8')\n",
    "        turinys = failas.readlines()[self.praleisti:]\n",
    "        failas.close()\n",
    "        \n",
    "        self.c1, self.c2 = [], []\n",
    "        for line in turinys:\n",
    "            fs = line.split(skirtukas)\n",
    "            self.c1.append(fs[self.__x])\n",
    "            self.c2.append(float(fs[self.__y]))\n",
    "            \n",
    "        if self.ardata:\n",
    "            for i in range(len(self.c1)):\n",
    "                self.c1[i]=parser.parse(self.c1[i]).date()  \n",
    "        \n",
    "    def minimumas(self):\n",
    "        return min(self.c2)\n",
    "    \n",
    "    def maksimumas(self):\n",
    "        return max(self.c2)\n",
    "    \n",
    "    def mediana(self):\n",
    "        return np.median(self.c2)\n",
    "    \n",
    "    def vidurkis(self):\n",
    "        return np.mean(self.c2)\n",
    "    \n",
    "    \n",
    "#a=TxtReader('BrentOilPrices.csv')\n",
    "a=TxtReader('RU.csv', ',', True, 1, 1, 3)\n",
    "print(a.minimumas())\n",
    "print(a.maksimumas())\n",
    "print(a.mediana())\n",
    "print(a.vidurkis())\n"
   ]
  }
 ],
 "metadata": {
  "kernelspec": {
   "display_name": "Python 3",
   "language": "python",
   "name": "python3"
  },
  "language_info": {
   "codemirror_mode": {
    "name": "ipython",
    "version": 3
   },
   "file_extension": ".py",
   "mimetype": "text/x-python",
   "name": "python",
   "nbconvert_exporter": "python",
   "pygments_lexer": "ipython3",
   "version": "3.12.4"
  }
 },
 "nbformat": 4,
 "nbformat_minor": 2
}
