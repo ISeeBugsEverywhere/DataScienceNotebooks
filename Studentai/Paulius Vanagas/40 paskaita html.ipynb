{
 "cells": [
  {
   "cell_type": "code",
   "execution_count": 3,
   "metadata": {},
   "outputs": [],
   "source": [
    "import numpy as np\n",
    "import pandas as pd\n",
    "import matplotlib.pyplot as plt\n",
    "import warnings\n",
    "warnings.filterwarnings('ignore')\n",
    "import seaborn as sns\n",
    "import sqlite3\n",
    "import mysql.connector as cnt\n",
    "import plotly.express as px\n",
    "import requests\n",
    "from datetime import datetime, timedelta\n",
    "from bs4 import BeautifulSoup"
   ]
  },
  {
   "cell_type": "code",
   "execution_count": 10,
   "metadata": {},
   "outputs": [],
   "source": [
    "url = 'https://kauno.diena.lt/'\n",
    "\n",
    "page = requests.get(url)\n",
    "source = page.content\n",
    "\n",
    "bs = BeautifulSoup(source, 'html.parser')\n",
    "# print(bs)"
   ]
  },
  {
   "cell_type": "code",
   "execution_count": 11,
   "metadata": {},
   "outputs": [
    {
     "name": "stdout",
     "output_type": "stream",
     "text": [
      "41\n"
     ]
    }
   ],
   "source": [
    "straipsniai = bs.find_all('div', {'class':'category-block-row grid-12 alpha omega unscore'})\n",
    "print(len(straipsniai))"
   ]
  },
  {
   "cell_type": "code",
   "execution_count": 14,
   "metadata": {},
   "outputs": [
    {
     "name": "stdout",
     "output_type": "stream",
     "text": [
      "::REM::\n",
      "<a class=\"articles-list-title\" href=\"naujienos/kaunas/miesto-pulsas/v-matijosaitis-miestas-nesustojo-tik-paciu-kaunieciu-deka-1195275\" style=\"font-size: 16px;line-height: 1.2;margin-bottom: 10px;display: inline;\">V. Matijošaitis: miestas nesustojo tik pačių kauniečių dėka</a>\n",
      "HREF?\n",
      "naujienos/kaunas/miesto-pulsas/v-matijosaitis-miestas-nesustojo-tik-paciu-kaunieciu-deka-1195275\n",
      "V. Matijošaitis: miestas nesustojo tik pačių kauniečių dėka\n",
      "::REM::\n",
      "<a class=\"articles-list-title\" href=\"naujienos/kaunas/miesto-pulsas/sirdi-glostanti-eile-kaunieciai-nori-speti-anksto-balsuoti-seimo-rinkimuose-1195301\" style=\"font-size: 16px;line-height: 1.2;margin-bottom: 10px;display: inline;\">Širdį glostanti eilė: kauniečiai nori spėti iš anksto balsuoti Seimo rinkimuose</a>\n",
      "HREF?\n",
      "naujienos/kaunas/miesto-pulsas/sirdi-glostanti-eile-kaunieciai-nori-speti-anksto-balsuoti-seimo-rinkimuose-1195301\n",
      "Širdį glostanti eilė: kauniečiai nori spėti iš anksto balsuoti Seimo rinkimuose\n",
      "::REM::\n",
      "<a class=\"articles-list-title\" href=\"naujienos/kriminalai/nusikaltimai/lietuvis-ir-ruse-bus-teisiami-uz-tai-kad-pelnesi-kitu-asmenu-prostitucijos-1195248\" style=\"font-size: 20px;line-height: 1.2;margin-bottom: 10px;display: inline;\">Lietuvis ir rusė bus teisiami už tai, kad pelnėsi iš kitų asmenų prostitucijos</a>\n",
      "HREF?\n",
      "naujienos/kriminalai/nusikaltimai/lietuvis-ir-ruse-bus-teisiami-uz-tai-kad-pelnesi-kitu-asmenu-prostitucijos-1195248\n",
      "Lietuvis ir rusė bus teisiami už tai, kad pelnėsi iš kitų asmenų prostitucijos\n",
      "::REM::\n",
      "<a class=\"articles-list-title\" href=\"naujienos/kaunas/miesto-pulsas/penktadieni-kaune-pradedamas-sildymo-sezonas-1195208\" style=\"font-size: 16px;line-height: 1.2;margin-bottom: 10px;display: inline;\">Penktadienį Kaune pradedamas šildymo sezonas</a>\n",
      "HREF?\n",
      "naujienos/kaunas/miesto-pulsas/penktadieni-kaune-pradedamas-sildymo-sezonas-1195208\n",
      "Penktadienį Kaune pradedamas šildymo sezonas\n",
      "::REM::\n",
      "<a class=\"articles-list-title\" href=\"naujienos/kaunas/nusikaltimai-ir-nelaimes/jonavos-pareigunams-su-ikalciais-ikliuvo-kontrabandininkas-1195177\" style=\"font-size: 16px;line-height: 1.2;margin-bottom: 10px;display: inline;\">Jonavos pareigūnams su įkalčiais įkliuvo kontrabandininkas</a>\n",
      "HREF?\n",
      "naujienos/kaunas/nusikaltimai-ir-nelaimes/jonavos-pareigunams-su-ikalciais-ikliuvo-kontrabandininkas-1195177\n",
      "Jonavos pareigūnams su įkalčiais įkliuvo kontrabandininkas\n",
      "::REM::\n",
      "<a class=\"articles-list-title\" href=\"naujienos/kaunas/nusikaltimai-ir-nelaimes/veiksmas-partizanu-gatveje-pareigunai-sturmavo-automobili-sulaikytas-vyras-1194672\" style=\"font-size: 16px;line-height: 1.2;margin-bottom: 10px;display: inline;\">Veiksmas Partizanų gatvėje: pareigūnai šturmavo automobilį, sulaikytas vyras</a>\n",
      "HREF?\n",
      "naujienos/kaunas/nusikaltimai-ir-nelaimes/veiksmas-partizanu-gatveje-pareigunai-sturmavo-automobili-sulaikytas-vyras-1194672\n",
      "Veiksmas Partizanų gatvėje: pareigūnai šturmavo automobilį, sulaikytas vyras\n",
      "::REM::\n",
      "<a class=\"articles-list-title\" href=\"naujienos/verslas/ekonomika/darbdavio-magija-kas-darbuotoja-skatina-isitraukti-ir-augti-1182991\" style=\"font-size: 16px;line-height: 1.2;margin-bottom: 10px;display: inline;\">Darbdavio magija: kas darbuotoją skatina įsitraukti ir augti?</a>\n",
      "HREF?\n",
      "naujienos/verslas/ekonomika/darbdavio-magija-kas-darbuotoja-skatina-isitraukti-ir-augti-1182991\n",
      "Darbdavio magija: kas darbuotoją skatina įsitraukti ir augti?\n",
      "::REM::\n",
      "<a class=\"articles-list-title\" href=\"naujienos/lietuva/salies-pulsas/akibrokstas-privaciai-greitajai-pagalbai-viskas-vyksta-pagal-sutarti-1194484\" style=\"font-size: 20px;line-height: 1.2;margin-bottom: 10px;display: inline;\">Akibrokštas privačiai greitajai pagalbai: 50 įdarbintų žmonių valstybei neįdomu?</a>\n",
      "HREF?\n",
      "naujienos/lietuva/salies-pulsas/akibrokstas-privaciai-greitajai-pagalbai-viskas-vyksta-pagal-sutarti-1194484\n",
      "Akibrokštas privačiai greitajai pagalbai: 50 įdarbintų žmonių valstybei neįdomu?\n",
      "::REM::\n",
      "<a class=\"articles-list-title\" href=\"naujienos/sveikata/psichologija/o-dabar-pakalbekime-apie-nieka-1194950\" style=\"font-size: 20px;line-height: 1.2;margin-bottom: 10px;display: inline;\">O dabar pakalbėkime apie… nieką</a>\n",
      "HREF?\n",
      "naujienos/sveikata/psichologija/o-dabar-pakalbekime-apie-nieka-1194950\n",
      "O dabar pakalbėkime apie… nieką\n",
      "::REM::\n",
      "<a class=\"articles-list-title\" href=\"naujienos/sveikata/sveikata/vilniaus-rajone-uz-daugiau-nei-835-tukst-euru-bus-modernizuojamos-sveikatos-centro-paslaugos-1195217\" style=\"font-size: 16px;line-height: 1.2;margin-bottom: 10px;display: inline;\">Vilniaus rajone už daugiau nei 835 tūkst. eurų bus modernizuojamos sveikatos centro paslaugos</a>\n",
      "HREF?\n",
      "naujienos/sveikata/sveikata/vilniaus-rajone-uz-daugiau-nei-835-tukst-euru-bus-modernizuojamos-sveikatos-centro-paslaugos-1195217\n",
      "Vilniaus rajone už daugiau nei 835 tūkst. eurų bus modernizuojamos sveikatos centro paslaugos\n",
      "::REM::\n",
      "<a class=\"articles-list-title\" href=\"naujienos/klaipeda/miesto-pulsas/po-vizito-i-kirpykla-sumaistis-1195220\" style=\"font-size: 20px;line-height: 1.2;margin-bottom: 10px;display: inline;\">Po vizito į kirpyklą – sumaištis: galvojau, jog esu skerdykloje</a>\n",
      "HREF?\n",
      "naujienos/klaipeda/miesto-pulsas/po-vizito-i-kirpykla-sumaistis-1195220\n",
      "Po vizito į kirpyklą – sumaištis: galvojau, jog esu skerdykloje\n",
      "::REM::\n",
      "<a class=\"articles-list-title\" href=\"naujienos/lietuva/politika/kandidate-kviete-atsivezti-ir-beisbolo-lazdas-ir-dalgius-teisesauga-tiria-raginima-susidoroti-1195262\" style=\"font-size: 16px;line-height: 1.2;margin-bottom: 10px;display: inline;\">Kandidatė kvietė atsivežti ir beisbolo lazdas, ir dalgius: teisėsauga tiria raginimą susidoroti</a>\n",
      "HREF?\n",
      "naujienos/lietuva/politika/kandidate-kviete-atsivezti-ir-beisbolo-lazdas-ir-dalgius-teisesauga-tiria-raginima-susidoroti-1195262\n",
      "Kandidatė kvietė atsivežti ir beisbolo lazdas, ir dalgius: teisėsauga tiria raginimą susidoroti\n",
      "::REM::\n",
      "<a class=\"articles-list-title\" href=\"naujienos/grazi-diena/auskaru-verimo-meistre-g-balevice-apie-grozi-kantrybe-profesionaluma-ir-truputeli-skausmo-1194964\" style=\"font-size: 20px;line-height: 1.2;margin-bottom: 10px;display: inline;\">Auskarų vėrimo meistrė G. Balevičė – apie grožį, kantrybę, profesionalumą ir truputėlį skausmo</a>\n",
      "HREF?\n",
      "naujienos/grazi-diena/auskaru-verimo-meistre-g-balevice-apie-grozi-kantrybe-profesionaluma-ir-truputeli-skausmo-1194964\n",
      "Auskarų vėrimo meistrė G. Balevičė – apie grožį, kantrybę, profesionalumą ir truputėlį skausmo\n",
      "::REM::\n",
      "<a class=\"articles-list-title\" href=\"naujienos/lietuva/salies-pulsas/deveta-nereiskia-skurdu-1194060\" style=\"font-size: 16px;line-height: 1.2;margin-bottom: 10px;display: inline;\">Tvari mada: dėvėta nereiškia skurdu</a>\n",
      "HREF?\n",
      "naujienos/lietuva/salies-pulsas/deveta-nereiskia-skurdu-1194060\n",
      "Tvari mada: dėvėta nereiškia skurdu\n",
      "::REM::\n",
      "<a class=\"articles-list-title\" href=\"https://www.diena.lt/naujienos/vilnius/miesto-pulsas/avulis-apie-nacionalinio-stadiono-projekta-reikia-dar-truputelio-kantrybes-1195289\" style=\"font-size: 16px;line-height: 1.2;margin-bottom: 10px;display: inline;\">A. Avulis apie Nacionalinio stadiono projektą: reikia dar truputėlio kantrybės</a>\n",
      "HREF?\n",
      "https://www.diena.lt/naujienos/vilnius/miesto-pulsas/avulis-apie-nacionalinio-stadiono-projekta-reikia-dar-truputelio-kantrybes-1195289\n",
      "A. Avulis apie Nacionalinio stadiono projektą: reikia dar truputėlio kantrybės\n",
      "::REM::\n",
      "<a class=\"articles-list-title\" href=\"naujienos/kauno-dienos-studija/kauno-dienos-studijoje-20-meti-minincio-kauno-miesto-simfoninio-orkestro-vadovas-1191320\" style=\"font-size: 20px;line-height: 1.2;margin-bottom: 10px;display: inline;\">„Kauno dienos“ studijoje – 20-metį mininčio Kauno miesto simfoninio orkestro vadovas </a>\n",
      "HREF?\n",
      "naujienos/kauno-dienos-studija/kauno-dienos-studijoje-20-meti-minincio-kauno-miesto-simfoninio-orkestro-vadovas-1191320\n",
      "„Kauno dienos“ studijoje – 20-metį mininčio Kauno miesto simfoninio orkestro vadovas \n",
      "::REM::\n",
      "<a class=\"articles-list-title\" href=\"naujienos/sportas/krepsinis/kauno-dienos-studijoje-kandidatas-i-lkf-prezidentus-r-javtokas-1190406\" style=\"font-size: 16px;line-height: 1.2;margin-bottom: 10px;display: inline;\">„Kauno dienos“ studijoje – kandidatas į LKF prezidentus R. Javtokas</a>\n",
      "HREF?\n",
      "naujienos/sportas/krepsinis/kauno-dienos-studijoje-kandidatas-i-lkf-prezidentus-r-javtokas-1190406\n",
      "„Kauno dienos“ studijoje – kandidatas į LKF prezidentus R. Javtokas\n",
      "::REM::\n",
      "<a class=\"articles-list-title\" href=\"naujienos/vilnius/miesto-pulsas/avulis-apie-nacionalinio-stadiono-projekta-reikia-dar-truputelio-kantrybes-1195289\" style=\"font-size: 20px;line-height: 1.2;margin-bottom: 10px;display: inline;\">A. Avulis apie Nacionalinio stadiono projektą: reikia dar truputėlio kantrybės</a>\n",
      "HREF?\n",
      "naujienos/vilnius/miesto-pulsas/avulis-apie-nacionalinio-stadiono-projekta-reikia-dar-truputelio-kantrybes-1195289\n",
      "A. Avulis apie Nacionalinio stadiono projektą: reikia dar truputėlio kantrybės\n",
      "::REM::\n",
      "<a class=\"articles-list-title\" href=\"naujienos/laisvalaikis-ir-kultura/kultura/kulturos-ministerijoje-pasirasomas-susitarimas-del-kulturos-inovaciju-skatinimo-1195170\" style=\"font-size: 16px;line-height: 1.2;margin-bottom: 10px;display: inline;\">Kultūros ministerijoje pasirašomas susitarimas dėl kultūros inovacijų skatinimo</a>\n",
      "HREF?\n",
      "naujienos/laisvalaikis-ir-kultura/kultura/kulturos-ministerijoje-pasirasomas-susitarimas-del-kulturos-inovaciju-skatinimo-1195170\n",
      "Kultūros ministerijoje pasirašomas susitarimas dėl kultūros inovacijų skatinimo\n",
      "::REM::\n",
      "<a class=\"articles-list-title\" href=\"naujienos/pasaulis/ekonomika-ir-politika/lenkijos-premjeras-kaltina-duda-trukdant-ambasadoriu-paskyrimo-procesui-1195299\" style=\"font-size: 20px;line-height: 1.2;margin-bottom: 10px;display: inline;\">Lenkijos premjeras kaltina A. Dudą trukdant ambasadorių paskyrimo procesui</a>\n",
      "HREF?\n",
      "naujienos/pasaulis/ekonomika-ir-politika/lenkijos-premjeras-kaltina-duda-trukdant-ambasadoriu-paskyrimo-procesui-1195299\n",
      "Lenkijos premjeras kaltina A. Dudą trukdant ambasadorių paskyrimo procesui\n",
      "::REM::\n",
      "<a class=\"articles-list-title\" href=\"naujienos/pasaulis/konfliktai-nelaimes/stebetojai-baltarusijoje-nusileido-du-rusu-orlaiviai-galintys-nesti-raketas-kinzal-1195279\" style=\"font-size: 16px;line-height: 1.2;margin-bottom: 10px;display: inline;\">Stebėtojai: Baltarusijoje nusileido du rusų orlaiviai, galintys nešti raketas „Kinžal“</a>\n",
      "HREF?\n",
      "naujienos/pasaulis/konfliktai-nelaimes/stebetojai-baltarusijoje-nusileido-du-rusu-orlaiviai-galintys-nesti-raketas-kinzal-1195279\n",
      "Stebėtojai: Baltarusijoje nusileido du rusų orlaiviai, galintys nešti raketas „Kinžal“\n",
      "::REM::\n",
      "<a class=\"articles-list-title\" href=\"naujienos/sportas/krepsinis/zalgirieciu-ieskojimu-kelyje-olympiakos-1195192\" style=\"font-size: 20px;line-height: 1.2;margin-bottom: 10px;display: inline;\">Žalgiriečių ieškojimų kelyje – „Olympiakos“</a>\n",
      "HREF?\n",
      "naujienos/sportas/krepsinis/zalgirieciu-ieskojimu-kelyje-olympiakos-1195192\n",
      "Žalgiriečių ieškojimų kelyje – „Olympiakos“\n",
      "::REM::\n",
      "<a class=\"articles-list-title\" href=\"naujienos/sportas/kitos-sporto-sakos/amerikietisku-kalneliu-citadele-kmt-mace-uteniskiai-palauze-svecius-kedainiu-1195152\" style=\"font-size: 16px;line-height: 1.2;margin-bottom: 10px;display: inline;\">Amerikietiškų kalnelių Citadele KMT mače uteniškiai palaužė svečius iš Kėdainių</a>\n",
      "HREF?\n",
      "naujienos/sportas/kitos-sporto-sakos/amerikietisku-kalneliu-citadele-kmt-mace-uteniskiai-palauze-svecius-kedainiu-1195152\n",
      "Amerikietiškų kalnelių Citadele KMT mače uteniškiai palaužė svečius iš Kėdainių\n",
      "::REM::\n",
      "<a class=\"articles-list-title\" href=\"naujienos/vilnius/nusikaltimai-ir-nelaimes/del-advokato-mirties-sukresti-kolegos-noretume-zinoti-ar-pareigunai-tinkamai-vykde-savo-misija-1195286\" style=\"font-size: 20px;line-height: 1.2;margin-bottom: 10px;display: inline;\">Dėl advokato mirties sukrėsti kolegos: norėtume žinoti, ar pareigūnai tinkamai vykdė savo misiją</a>\n",
      "HREF?\n",
      "naujienos/vilnius/nusikaltimai-ir-nelaimes/del-advokato-mirties-sukresti-kolegos-noretume-zinoti-ar-pareigunai-tinkamai-vykde-savo-misija-1195286\n",
      "Dėl advokato mirties sukrėsti kolegos: norėtume žinoti, ar pareigūnai tinkamai vykdė savo misiją\n",
      "::REM::\n",
      "<a class=\"articles-list-title\" href=\"naujienos/vilnius/nusikaltimai-ir-nelaimes/saudyniu-vilniuje-epicentre-atsidures-rezisierius-zmones-mane-eme-tempti-i-kavine-1195255\" style=\"font-size: 16px;line-height: 1.2;margin-bottom: 10px;display: inline;\">Šaudynių Vilniuje epicentre atsidūręs režisierius: žmonės mane ėmė tempti į kavinę</a>\n",
      "HREF?\n",
      "naujienos/vilnius/nusikaltimai-ir-nelaimes/saudyniu-vilniuje-epicentre-atsidures-rezisierius-zmones-mane-eme-tempti-i-kavine-1195255\n",
      "Šaudynių Vilniuje epicentre atsidūręs režisierius: žmonės mane ėmė tempti į kavinę\n",
      "::REM::\n",
      "<a class=\"articles-list-title\" href=\"naujienos/vilnius/miesto-pulsas/teismas-atmete-asociacijos-ir-s-neries-anukes-skunda-del-sprendimo-nuimti-poetes-paminkla-1195247\" style=\"font-size: 20px;line-height: 1.2;margin-bottom: 10px;display: inline;\">Teismas atmetė asociacijos ir S. Nėries anūkės skundą dėl sprendimo nuimti poetės paminklą</a>\n",
      "HREF?\n",
      "naujienos/vilnius/miesto-pulsas/teismas-atmete-asociacijos-ir-s-neries-anukes-skunda-del-sprendimo-nuimti-poetes-paminkla-1195247\n",
      "Teismas atmetė asociacijos ir S. Nėries anūkės skundą dėl sprendimo nuimti poetės paminklą\n",
      "::REM::\n",
      "<a class=\"articles-list-title\" href=\"naujienos/laisvalaikis-ir-kultura/kultura/rasytojui-d-dirgelai-skirta-neringos-savivaldybes-stipendija-1195232\" style=\"font-size: 16px;line-height: 1.2;margin-bottom: 10px;display: inline;\">Rašytojui D. Dirgėlai skirta Neringos savivaldybės stipendija</a>\n",
      "HREF?\n",
      "naujienos/laisvalaikis-ir-kultura/kultura/rasytojui-d-dirgelai-skirta-neringos-savivaldybes-stipendija-1195232\n",
      "Rašytojui D. Dirgėlai skirta Neringos savivaldybės stipendija\n",
      "::REM::\n",
      "<a class=\"articles-list-title\" href=\"naujienos/ivairenybes/horoskopai/dienos-horoskopas-12-zodiako-zenklu-spalio-10-d-1195139\" style=\"font-size: 20px;line-height: 1.2;margin-bottom: 10px;display: inline;\">Dienos horoskopas 12 Zodiako ženklų <span style=\"color:red;\">(spalio 10 d.)</span></a>\n",
      "HREF?\n",
      "naujienos/ivairenybes/horoskopai/dienos-horoskopas-12-zodiako-zenklu-spalio-10-d-1195139\n",
      "Dienos horoskopas 12 Zodiako ženklų (spalio 10 d.)\n",
      "::REM::\n",
      "<a class=\"articles-list-title\" href=\"naujienos/pasaulis/ekonomika-ir-politika/nobelio-chemijos-premija-pasidalijo-jav-ir-jk-mokslininkai-1195066\" style=\"font-size: 16px;line-height: 1.2;margin-bottom: 10px;display: inline;\">Nobelio chemijos premiją pasidalijo JAV ir JK mokslininkai</a>\n",
      "HREF?\n",
      "naujienos/pasaulis/ekonomika-ir-politika/nobelio-chemijos-premija-pasidalijo-jav-ir-jk-mokslininkai-1195066\n",
      "Nobelio chemijos premiją pasidalijo JAV ir JK mokslininkai\n"
     ]
    }
   ],
   "source": [
    "pavadinimai, nuorodos = [], []\n",
    "for s in straipsniai:\n",
    "    i = s.find('div', {'class':'articles-list-title-wrapper'})\n",
    "    if i is not None:\n",
    "        t = i.find('a', {'class':'articles-list-title'})\n",
    "        print('::REM::')\n",
    "        print(t)\n",
    "        print('HREF?')\n",
    "        print(t['href'])\n",
    "        print(t.text)\n",
    "        pavadinimai.append(t.text)\n",
    "        nuorodos.append(t['href'])"
   ]
  },
  {
   "cell_type": "code",
   "execution_count": 16,
   "metadata": {},
   "outputs": [
    {
     "name": "stdout",
     "output_type": "stream",
     "text": [
      "29\n",
      "29\n"
     ]
    }
   ],
   "source": [
    "print(len(pavadinimai))\n",
    "print(len(nuorodos))"
   ]
  },
  {
   "cell_type": "code",
   "execution_count": 24,
   "metadata": {},
   "outputs": [
    {
     "name": "stdout",
     "output_type": "stream",
     "text": [
      "vidutinis žodžių kiekis straipsnio pavadinime 9.28\n",
      "[8, 11, 13, 5, 6, 8, 8, 9, 5, 13, 10, 12, 13, 5, 10, 11, 10, 10, 8, 9, 10, 5, 10, 13, 11, 13, 7, 8, 8]\n"
     ]
    }
   ],
   "source": [
    "zodziai=0\n",
    "zodziukiekiai=[]\n",
    "for p in pavadinimai:\n",
    "    zodziai=zodziai + len(p.split())\n",
    "    zodziukiekiai.append(len(p.split()))\n",
    "    \n",
    "print('vidutinis žodžių kiekis straipsnio pavadinime', round(zodziai/len(pavadinimai),2))\n",
    "print(zodziukiekiai)"
   ]
  },
  {
   "cell_type": "code",
   "execution_count": 34,
   "metadata": {},
   "outputs": [
    {
     "name": "stdout",
     "output_type": "stream",
     "text": [
      "{5: 4, 6: 1, 7: 1, 8: 6, 9: 2, 10: 6, 11: 3, 12: 1, 13: 5}\n"
     ]
    }
   ],
   "source": [
    "zodziuzodynas={}\n",
    "for k in zodziukiekiai:\n",
    "    if k in zodziuzodynas:\n",
    "        zodziuzodynas[k] += 1\n",
    "    else:\n",
    "        zodziuzodynas[k] = 1\n",
    "\n",
    "zodziuzodynas = {key: zodziuzodynas[key] for key in sorted(zodziuzodynas)}\n",
    "print(zodziuzodynas)"
   ]
  },
  {
   "cell_type": "code",
   "execution_count": 40,
   "metadata": {},
   "outputs": [
    {
     "data": {
      "image/png": "[encoded data removed]",
      "text/plain": [
       "<Figure size 640x480 with 1 Axes>"
      ]
     },
     "metadata": {},
     "output_type": "display_data"
    }
   ],
   "source": [
    "fig, axis = plt.subplots()\n",
    "\n",
    "a=axis.bar(zodziuzodynas.keys(), zodziuzodynas.values())\n",
    "axis.bar_label(a)\n",
    "axis.set_xticks(list(zodziuzodynas.keys()))\n",
    "axis.set_xlabel('žodžių kiekis pavadinime')\n",
    "axis.set_ylabel('kiek kartų pasikartojo')\n",
    "plt.show()"
   ]
  },
  {
   "cell_type": "code",
   "execution_count": 49,
   "metadata": {},
   "outputs": [
    {
     "name": "stdout",
     "output_type": "stream",
     "text": [
      "23\n",
      "Dėl advokato mirties sukrėsti kolegos: norėtume žinoti, ar pareigūnai tinkamai vykdė savo misiją\n",
      "naujienos/vilnius/nusikaltimai-ir-nelaimes/del-advokato-mirties-sukresti-kolegos-noretume-zinoti-ar-pareigunai-tinkamai-vykde-savo-misija-1195286\n"
     ]
    }
   ],
   "source": [
    "ilgiausias=0\n",
    "for i in range(0, len(zodziukiekiai)):\n",
    "    if zodziukiekiai[i] > ilgiausias:\n",
    "        ilgiausias = i\n",
    "\n",
    "print(ilgiausias)\n",
    "print(pavadinimai[ilgiausias])\n",
    "print(nuorodos[ilgiausias])"
   ]
  },
  {
   "cell_type": "code",
   "execution_count": 76,
   "metadata": {},
   "outputs": [
    {
     "name": "stdout",
     "output_type": "stream",
     "text": [
      "23\n"
     ]
    }
   ],
   "source": [
    "url = \"https://kauno.diena.lt/\"+nuorodos[ilgiausias]\n",
    "\n",
    "\n",
    "page = requests.get(url)\n",
    "source = page.content\n",
    "\n",
    "bs = BeautifulSoup(source, 'html.parser')\n",
    "\n",
    "straipsniai = bs.find('span', {'itemprop':'articleBody'})\n",
    "print(len(straipsniai))\n"
   ]
  },
  {
   "cell_type": "code",
   "execution_count": 77,
   "metadata": {},
   "outputs": [],
   "source": [
    "straip=straipsniai.text\n",
    "straip=straip.split()\n"
   ]
  },
  {
   "cell_type": "code",
   "execution_count": 69,
   "metadata": {},
   "outputs": [
    {
     "name": "stdout",
     "output_type": "stream",
     "text": [
      "{'buvo': 8, 'ir': 7, 'kad': 7, 'policijos': 6, 'advokatas': 5}\n"
     ]
    }
   ],
   "source": [
    "zodziaistraip={}\n",
    "\n",
    "for k in straip:\n",
    "    if k in zodziaistraip:\n",
    "        zodziaistraip[k] += 1\n",
    "    else:\n",
    "        zodziaistraip[k] = 1\n",
    "\n",
    "zodziaistraip = dict(sorted(zodziaistraip.items(), key=lambda item: item[1], reverse=True))\n",
    "zodziaistraip5=dict(list(zodziaistraip.items())[:5])\n",
    "print(zodziaistraip5)"
   ]
  },
  {
   "cell_type": "code",
   "execution_count": 71,
   "metadata": {},
   "outputs": [
    {
     "data": {
      "image/png": "[encoded data removed]",
      "text/plain": [
       "<Figure size 640x480 with 1 Axes>"
      ]
     },
     "metadata": {},
     "output_type": "display_data"
    }
   ],
   "source": [
    "fig, axis = plt.subplots()\n",
    "\n",
    "a=axis.bar(zodziaistraip5.keys(), zodziaistraip5.values())\n",
    "axis.bar_label(a)\n",
    "axis.set_xticks(list(zodziaistraip5.keys()))\n",
    "axis.set_xlabel('žodis')\n",
    "axis.set_ylabel('kiek kartų pasikartojo')\n",
    "plt.title(pavadinimai[ilgiausias])\n",
    "plt.show()"
   ]
  },
  {
   "cell_type": "code",
   "execution_count": 101,
   "metadata": {},
   "outputs": [
    {
     "name": "stdout",
     "output_type": "stream",
     "text": [
      "https://kauno.diena.lt/https://www.diena.lt/naujienos/vilnius/miesto-pulsas/avulis-apie-nacionalinio-stadiono-projekta-reikia-dar-truputelio-kantrybes-1195289\n",
      "387.0357142857143\n"
     ]
    }
   ],
   "source": [
    "visozodziu=0\n",
    "failas=0\n",
    "for nuor in nuorodos:\n",
    "    url = \"https://kauno.diena.lt/\"+nuor\n",
    "    page = requests.get(url)\n",
    "    source = page.content\n",
    "    bs = BeautifulSoup(source, 'html.parser')\n",
    "    straipsniai = bs.find_all('span', {'itemprop':'articleBody'})\n",
    "    \n",
    "    if straipsniai:\n",
    "        straip=straipsniai[0].text\n",
    "        straip=straip.split()\n",
    "    \n",
    "        visozodziu=visozodziu + len(straip)\n",
    "    else:\n",
    "        print(url)\n",
    "        failas=failas+1\n",
    "    \n",
    "\n",
    "print(visozodziu/(len(nuorodos)-1))\n"
   ]
  },
  {
   "cell_type": "code",
   "execution_count": 102,
   "metadata": {},
   "outputs": [
    {
     "name": "stdout",
     "output_type": "stream",
     "text": [
      "<class 'bs4.element.ResultSet'>\n"
     ]
    }
   ],
   "source": [
    "print(type(straipsniai))"
   ]
  }
 ],
 "metadata": {
  "kernelspec": {
   "display_name": "Python 3",
   "language": "python",
   "name": "python3"
  },
  "language_info": {
   "codemirror_mode": {
    "name": "ipython",
    "version": 3
   },
   "file_extension": ".py",
   "mimetype": "text/x-python",
   "name": "python",
   "nbconvert_exporter": "python",
   "pygments_lexer": "ipython3",
   "version": "3.12.4"
  }
 },
 "nbformat": 4,
 "nbformat_minor": 2
}
