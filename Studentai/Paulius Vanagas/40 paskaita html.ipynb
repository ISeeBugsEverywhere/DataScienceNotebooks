{
 "cells": [
  {
   "cell_type": "code",
   "execution_count": 1,
   "metadata": {},
   "outputs": [],
   "source": [
    "import numpy as np\n",
    "import pandas as pd\n",
    "import matplotlib.pyplot as plt\n",
    "import warnings\n",
    "warnings.filterwarnings('ignore')\n",
    "import seaborn as sns\n",
    "import sqlite3\n",
    "import mysql.connector as cnt\n",
    "import plotly.express as px\n",
    "import requests\n",
    "from datetime import datetime, timedelta\n",
    "from bs4 import BeautifulSoup"
   ]
  },
  {
   "cell_type": "code",
   "execution_count": 2,
   "metadata": {},
   "outputs": [],
   "source": [
    "url = 'https://kauno.diena.lt/'\n",
    "\n",
    "page = requests.get(url)\n",
    "source = page.content\n",
    "\n",
    "bs = BeautifulSoup(source, 'html.parser')\n",
    "# print(bs)"
   ]
  },
  {
   "cell_type": "code",
   "execution_count": 3,
   "metadata": {},
   "outputs": [
    {
     "name": "stdout",
     "output_type": "stream",
     "text": [
      "41\n"
     ]
    }
   ],
   "source": [
    "straipsniai = bs.find_all('div', {'class':'category-block-row grid-12 alpha omega unscore'})\n",
    "print(len(straipsniai))"
   ]
  },
  {
   "cell_type": "code",
   "execution_count": 4,
   "metadata": {},
   "outputs": [
    {
     "name": "stdout",
     "output_type": "stream",
     "text": [
      "::REM::\n",
      "<a class=\"articles-list-title\" href=\"naujienos/lietuva/politika/lietuva-renka-nauja-valdzia-apylinkes-uzsidare-skaiciuojami-balsai-1195621\" style=\"font-size: 16px;line-height: 1.2;margin-bottom: 10px;display: inline;\">2024-ųjų Seimo rinkimai: laimėjo socdemai, antri – TS-LKD, treti – „Nemuno Aušra“ </a>\n",
      "HREF?\n",
      "naujienos/lietuva/politika/lietuva-renka-nauja-valdzia-apylinkes-uzsidare-skaiciuojami-balsai-1195621\n",
      "2024-ųjų Seimo rinkimai: laimėjo socdemai, antri – TS-LKD, treti – „Nemuno Aušra“ \n",
      "::REM::\n",
      "<a class=\"articles-list-title\" href=\"naujienos/lietuva/politika/laukia-kova-vienmandatese-aiskeja-i-antraji-tura-pateke-kandidatai-1195683\" style=\"font-size: 16px;line-height: 1.2;margin-bottom: 10px;display: inline;\">Į antrąjį Seimo rinkimų turą patekę kandidatai <span style=\"color:red;\">(apžvalga)</span></a>\n",
      "HREF?\n",
      "naujienos/lietuva/politika/laukia-kova-vienmandatese-aiskeja-i-antraji-tura-pateke-kandidatai-1195683\n",
      "Į antrąjį Seimo rinkimų turą patekę kandidatai (apžvalga)\n",
      "::REM::\n",
      "<a class=\"articles-list-title\" href=\"naujienos/kaunas/miesto-pulsas/judrioje-aleksoto-gatveje-laikini-eismo-ribojimai-1195787\" style=\"font-size: 20px;line-height: 1.2;margin-bottom: 10px;display: inline;\">Judrioje Aleksoto gatvėje – laikini eismo ribojimai</a>\n",
      "HREF?\n",
      "naujienos/kaunas/miesto-pulsas/judrioje-aleksoto-gatveje-laikini-eismo-ribojimai-1195787\n",
      "Judrioje Aleksoto gatvėje – laikini eismo ribojimai\n",
      "::REM::\n",
      "<a class=\"articles-list-title\" href=\"naujienos/lietuva/politika/sesiose-apygardose-bus-perskaiciuoti-balsai-panemuneje-gali-buti-trys-kandidatai-1195781\" style=\"font-size: 16px;line-height: 1.2;margin-bottom: 10px;display: inline;\">Septyniose apygardose bus perskaičiuoti balsai, Panemunėje gali būti trys kandidatai </a>\n",
      "HREF?\n",
      "naujienos/lietuva/politika/sesiose-apygardose-bus-perskaiciuoti-balsai-panemuneje-gali-buti-trys-kandidatai-1195781\n",
      "Septyniose apygardose bus perskaičiuoti balsai, Panemunėje gali būti trys kandidatai \n",
      "::REM::\n",
      "<a class=\"articles-list-title\" href=\"naujienos/kaunas/miesto-pulsas/kaunieciai-noriai-balsuoja-seimo-rinkimuose-kai-kur-stebinantis-aktyvumas-nuolat-atnaujinama-1195597\" style=\"font-size: 16px;line-height: 1.2;margin-bottom: 10px;display: inline;\">Kauniečiai noriai balsavo Seimo rinkimuose: kai kur – stebinantis aktyvumas</a>\n",
      "HREF?\n",
      "naujienos/kaunas/miesto-pulsas/kaunieciai-noriai-balsuoja-seimo-rinkimuose-kai-kur-stebinantis-aktyvumas-nuolat-atnaujinama-1195597\n",
      "Kauniečiai noriai balsavo Seimo rinkimuose: kai kur – stebinantis aktyvumas\n",
      "::REM::\n",
      "<a class=\"articles-list-title\" href=\"naujienos/kaunas/nusikaltimai-ir-nelaimes/veiksmas-partizanu-gatveje-pareigunai-sturmavo-automobili-sulaikytas-vyras-1194672\" style=\"font-size: 16px;line-height: 1.2;margin-bottom: 10px;display: inline;\">Veiksmas Partizanų gatvėje: pareigūnai šturmavo automobilį, sulaikytas vyras</a>\n",
      "HREF?\n",
      "naujienos/kaunas/nusikaltimai-ir-nelaimes/veiksmas-partizanu-gatveje-pareigunai-sturmavo-automobili-sulaikytas-vyras-1194672\n",
      "Veiksmas Partizanų gatvėje: pareigūnai šturmavo automobilį, sulaikytas vyras\n",
      "::REM::\n",
      "<a class=\"articles-list-title\" href=\"naujienos/verslas/ekonomika/darbdavio-magija-kas-darbuotoja-skatina-isitraukti-ir-augti-1182991\" style=\"font-size: 16px;line-height: 1.2;margin-bottom: 10px;display: inline;\">Darbdavio magija: kas darbuotoją skatina įsitraukti ir augti?</a>\n",
      "HREF?\n",
      "naujienos/verslas/ekonomika/darbdavio-magija-kas-darbuotoja-skatina-isitraukti-ir-augti-1182991\n",
      "Darbdavio magija: kas darbuotoją skatina įsitraukti ir augti?\n",
      "::REM::\n",
      "<a class=\"articles-list-title\" href=\"naujienos/lietuva/salies-pulsas/akibrokstas-privaciai-greitajai-pagalbai-viskas-vyksta-pagal-sutarti-1194484\" style=\"font-size: 20px;line-height: 1.2;margin-bottom: 10px;display: inline;\">Akibrokštas privačiai greitajai pagalbai: 50 įdarbintų žmonių valstybei neįdomu?</a>\n",
      "HREF?\n",
      "naujienos/lietuva/salies-pulsas/akibrokstas-privaciai-greitajai-pagalbai-viskas-vyksta-pagal-sutarti-1194484\n",
      "Akibrokštas privačiai greitajai pagalbai: 50 įdarbintų žmonių valstybei neįdomu?\n",
      "::REM::\n",
      "<a class=\"articles-list-title\" href=\"naujienos/verslas/ekonomika/vyriausybe-nepritaria-kad-baige-gyvulininkyste-teiktu-sveikatos-paslaugas-su-gyvunais-1195593\" style=\"font-size: 20px;line-height: 1.2;margin-bottom: 10px;display: inline;\">Vyriausybė nepritaria, kad baigę gyvulininkystę teiktų sveikatos paslaugas su gyvūnais</a>\n",
      "HREF?\n",
      "naujienos/verslas/ekonomika/vyriausybe-nepritaria-kad-baige-gyvulininkyste-teiktu-sveikatos-paslaugas-su-gyvunais-1195593\n",
      "Vyriausybė nepritaria, kad baigę gyvulininkystę teiktų sveikatos paslaugas su gyvūnais\n",
      "::REM::\n",
      "<a class=\"articles-list-title\" href=\"naujienos/sveikata/psichologija/seima-tarsi-universitetas-kuriame-mokomes-artimuju-1195032\" style=\"font-size: 16px;line-height: 1.2;margin-bottom: 10px;display: inline;\">Šeima – tarsi universitetas, kuriame mokomės iš artimųjų</a>\n",
      "HREF?\n",
      "naujienos/sveikata/psichologija/seima-tarsi-universitetas-kuriame-mokomes-artimuju-1195032\n",
      "Šeima – tarsi universitetas, kuriame mokomės iš artimųjų\n",
      "::REM::\n",
      "<a class=\"articles-list-title\" href=\"naujienos/lietuva/politika/ka-pasirinks-l-mazylis-seima-ar-ep-1195817\" style=\"font-size: 20px;line-height: 1.2;margin-bottom: 10px;display: inline;\">Ką pasirinks L. Mažylis – Seimą ar EP?</a>\n",
      "HREF?\n",
      "naujienos/lietuva/politika/ka-pasirinks-l-mazylis-seima-ar-ep-1195817\n",
      "Ką pasirinks L. Mažylis – Seimą ar EP?\n",
      "::REM::\n",
      "<a class=\"articles-list-title\" href=\"naujienos/lietuva/politika/l-kasciuno-rinkimuose-aplenktas-g-landsbergis-tai-nueinancio-pirmininko-efektas-1195807\" style=\"font-size: 16px;line-height: 1.2;margin-bottom: 10px;display: inline;\">L. Kasčiūno rinkimuose aplenktas G. Landsbergis: tai – nueinančio pirmininko efektas </a>\n",
      "HREF?\n",
      "naujienos/lietuva/politika/l-kasciuno-rinkimuose-aplenktas-g-landsbergis-tai-nueinancio-pirmininko-efektas-1195807\n",
      "L. Kasčiūno rinkimuose aplenktas G. Landsbergis: tai – nueinančio pirmininko efektas \n",
      "::REM::\n",
      "<a class=\"articles-list-title\" href=\"naujienos/lietuva/salies-pulsas/isaugtu-vaikisku-drabuziu-prisiminimu-siltukai-1195036\" style=\"font-size: 20px;line-height: 1.2;margin-bottom: 10px;display: inline;\">Iš išaugtų vaikiškų drabužių – prisiminimų šiltukai</a>\n",
      "HREF?\n",
      "naujienos/lietuva/salies-pulsas/isaugtu-vaikisku-drabuziu-prisiminimu-siltukai-1195036\n",
      "Iš išaugtų vaikiškų drabužių – prisiminimų šiltukai\n",
      "::REM::\n",
      "<a class=\"articles-list-title\" href=\"naujienos/lietuva/salies-pulsas/mainu-platformos-ikureja-gyventi-tvariau-naudinga-ir-finansiskai-1194059\" style=\"font-size: 16px;line-height: 1.2;margin-bottom: 10px;display: inline;\">Mainų platformos įkūrėja: gyventi tvariau – naudinga ir finansiškai</a>\n",
      "HREF?\n",
      "naujienos/lietuva/salies-pulsas/mainu-platformos-ikureja-gyventi-tvariau-naudinga-ir-finansiskai-1194059\n",
      "Mainų platformos įkūrėja: gyventi tvariau – naudinga ir finansiškai\n",
      "::REM::\n",
      "<a class=\"articles-list-title\" href=\"https://www.diena.lt/naujienos/vilnius/nusikaltimai-ir-nelaimes/vilniaus-policija-aiskinasi-kas-pavoge-lagamina-1195812\" style=\"font-size: 16px;line-height: 1.2;margin-bottom: 10px;display: inline;\">Vilniaus policija aiškinasi, kas pavogė lagaminą</a>\n",
      "HREF?\n",
      "https://www.diena.lt/naujienos/vilnius/nusikaltimai-ir-nelaimes/vilniaus-policija-aiskinasi-kas-pavoge-lagamina-1195812\n",
      "Vilniaus policija aiškinasi, kas pavogė lagaminą\n",
      "::REM::\n",
      "<a class=\"articles-list-title\" href=\"naujienos/kauno-dienos-studija/kauno-dienos-studijoje-istorikas-r-kamuntavicius-ar-reikia-bijoti-gudisko-litvinizmo-1195490\" style=\"font-size: 20px;line-height: 1.2;margin-bottom: 10px;display: inline;\">„Kauno dienos“ studijoje – istorikas R. Kamuntavičius: ar reikia bijoti gudiško litvinizmo?</a>\n",
      "HREF?\n",
      "naujienos/kauno-dienos-studija/kauno-dienos-studijoje-istorikas-r-kamuntavicius-ar-reikia-bijoti-gudisko-litvinizmo-1195490\n",
      "„Kauno dienos“ studijoje – istorikas R. Kamuntavičius: ar reikia bijoti gudiško litvinizmo?\n",
      "::REM::\n",
      "<a class=\"articles-list-title\" href=\"naujienos/sportas/krepsinis/m-balciunas-jei-savo-imoniu-paremiau-lkf-kuo-tai-blogai-finansiskai-1190480\" style=\"font-size: 16px;line-height: 1.2;margin-bottom: 10px;display: inline;\">M. Balčiūnas: jei aš iš savo įmonių parėmiau LKF, kuo tai blogai finansiškai?</a>\n",
      "HREF?\n",
      "naujienos/sportas/krepsinis/m-balciunas-jei-savo-imoniu-paremiau-lkf-kuo-tai-blogai-finansiskai-1190480\n",
      "M. Balčiūnas: jei aš iš savo įmonių parėmiau LKF, kuo tai blogai finansiškai?\n",
      "::REM::\n",
      "<a class=\"articles-list-title\" href=\"naujienos/verslas/ekonomika/litgrid-vejo-jegainiu-gamyba-pastaraja-savaite-augo-daugiau-nei-2-kartus-1195825\" style=\"font-size: 20px;line-height: 1.2;margin-bottom: 10px;display: inline;\">„Litgrid“: vėjo jėgainių gamyba pastarąją savaitę augo daugiau nei 2 kartus</a>\n",
      "HREF?\n",
      "naujienos/verslas/ekonomika/litgrid-vejo-jegainiu-gamyba-pastaraja-savaite-augo-daugiau-nei-2-kartus-1195825\n",
      "„Litgrid“: vėjo jėgainių gamyba pastarąją savaitę augo daugiau nei 2 kartus\n",
      "::REM::\n",
      "<a class=\"articles-list-title\" href=\"naujienos/vilnius/miesto-pulsas/kodel-siu-butu-nesikrausto-senbuviai-1195793\" style=\"font-size: 16px;line-height: 1.2;margin-bottom: 10px;display: inline;\">Kodėl iš šių butų nesikrausto senbuviai?</a>\n",
      "HREF?\n",
      "naujienos/vilnius/miesto-pulsas/kodel-siu-butu-nesikrausto-senbuviai-1195793\n",
      "Kodėl iš šių butų nesikrausto senbuviai?\n",
      "::REM::\n",
      "<a class=\"articles-list-title\" href=\"naujienos/pasaulis/ekonomika-ir-politika/tyrimas-issiaiskinta-kokia-buvo-k-kolumbo-tautybe-1195824\" style=\"font-size: 20px;line-height: 1.2;margin-bottom: 10px;display: inline;\">Tyrimas: išsiaiškinta, kokia buvo K. Kolumbo kilmė</a>\n",
      "HREF?\n",
      "naujienos/pasaulis/ekonomika-ir-politika/tyrimas-issiaiskinta-kokia-buvo-k-kolumbo-tautybe-1195824\n",
      "Tyrimas: išsiaiškinta, kokia buvo K. Kolumbo kilmė\n",
      "::REM::\n",
      "<a class=\"articles-list-title\" href=\"naujienos/pasaulis/ekonomika-ir-politika/vaiku-ligonineje-dziaugsmas-atskirti-siamo-dvyniai-1195816\" style=\"font-size: 16px;line-height: 1.2;margin-bottom: 10px;display: inline;\">Vaikų ligoninėje – džiaugsmas: atskirti Siamo dvyniai  </a>\n",
      "HREF?\n",
      "naujienos/pasaulis/ekonomika-ir-politika/vaiku-ligonineje-dziaugsmas-atskirti-siamo-dvyniai-1195816\n",
      "Vaikų ligoninėje – džiaugsmas: atskirti Siamo dvyniai  \n",
      "::REM::\n",
      "<a class=\"articles-list-title\" href=\"naujienos/sportas/krepsinis/m-lukauskis-ir-krepsinis-skyrybos-vel-atidetos-1195428\" style=\"font-size: 20px;line-height: 1.2;margin-bottom: 10px;display: inline;\">M. Lukauskis ir krepšinis: skyrybos vėl atidėtos</a>\n",
      "HREF?\n",
      "naujienos/sportas/krepsinis/m-lukauskis-ir-krepsinis-skyrybos-vel-atidetos-1195428\n",
      "M. Lukauskis ir krepšinis: skyrybos vėl atidėtos\n",
      "::REM::\n",
      "<a class=\"articles-list-title\" href=\"naujienos/sportas/kitos-sporto-sakos/baltijos-tinklinio-lygoje-nauji-lietuviu-uzmojai-1195429\" style=\"font-size: 16px;line-height: 1.2;margin-bottom: 10px;display: inline;\">Baltijos tinklinio lygoje – nauji lietuvių užmojai</a>\n",
      "HREF?\n",
      "naujienos/sportas/kitos-sporto-sakos/baltijos-tinklinio-lygoje-nauji-lietuviu-uzmojai-1195429\n",
      "Baltijos tinklinio lygoje – nauji lietuvių užmojai\n",
      "::REM::\n",
      "<a class=\"articles-list-title\" href=\"naujienos/vilnius/nusikaltimai-ir-nelaimes/vilniuje-nenustatyti-asmenys-apiplese-vyra-1195775\" style=\"font-size: 20px;line-height: 1.2;margin-bottom: 10px;display: inline;\">Vilniuje nenustatyti asmenys apiplėšė vyrą</a>\n",
      "HREF?\n",
      "naujienos/vilnius/nusikaltimai-ir-nelaimes/vilniuje-nenustatyti-asmenys-apiplese-vyra-1195775\n",
      "Vilniuje nenustatyti asmenys apiplėšė vyrą\n",
      "::REM::\n",
      "<a class=\"articles-list-title\" href=\"naujienos/kriminalai/nusikaltimai/nuteistas-panevezyje-i-buta-petarda-imetes-vyras-1195762\" style=\"font-size: 16px;line-height: 1.2;margin-bottom: 10px;display: inline;\">„TikTok“ žvaigždės nuomotą butą padegęs vyras išgirdo teismo nuosprendį</a>\n",
      "HREF?\n",
      "naujienos/kriminalai/nusikaltimai/nuteistas-panevezyje-i-buta-petarda-imetes-vyras-1195762\n",
      "„TikTok“ žvaigždės nuomotą butą padegęs vyras išgirdo teismo nuosprendį\n",
      "::REM::\n",
      "<a class=\"articles-list-title\" href=\"naujienos/laisvalaikis-ir-kultura/zvaigzdes-ir-pramogos/j-statkevicius-atvirai-kodel-nesiruosia-i-pensija-ir-kiek-po-paryziaus-kainuos-jo-drabuziai-1195814\" style=\"font-size: 20px;line-height: 1.2;margin-bottom: 10px;display: inline;\">J. Statkevičius atvirai: kodėl nesiruošia į pensiją ir kiek po Paryžiaus kainuos jo drabužiai</a>\n",
      "HREF?\n",
      "naujienos/laisvalaikis-ir-kultura/zvaigzdes-ir-pramogos/j-statkevicius-atvirai-kodel-nesiruosia-i-pensija-ir-kiek-po-paryziaus-kainuos-jo-drabuziai-1195814\n",
      "J. Statkevičius atvirai: kodėl nesiruošia į pensiją ir kiek po Paryžiaus kainuos jo drabužiai\n",
      "::REM::\n",
      "<a class=\"articles-list-title\" href=\"naujienos/laisvalaikis-ir-kultura/kultura/370-rekomenduojamos-knygos-1195768\" style=\"font-size: 16px;line-height: 1.2;margin-bottom: 10px;display: inline;\">„370“ rekomenduojamos knygos</a>\n",
      "HREF?\n",
      "naujienos/laisvalaikis-ir-kultura/kultura/370-rekomenduojamos-knygos-1195768\n",
      "„370“ rekomenduojamos knygos\n",
      "::REM::\n",
      "<a class=\"articles-list-title\" href=\"naujienos/pasaulis/ekonomika-ir-politika/pirmi-pasaulyje-spacex-sekmingai-pagavo-savo-raketos-greitintuva-1195611\" style=\"font-size: 20px;line-height: 1.2;margin-bottom: 10px;display: inline;\">Pirmi pasaulyje: „SpaceX“ sėkmingai „pagavo“ savo raketos greitintuvą</a>\n",
      "HREF?\n",
      "naujienos/pasaulis/ekonomika-ir-politika/pirmi-pasaulyje-spacex-sekmingai-pagavo-savo-raketos-greitintuva-1195611\n",
      "Pirmi pasaulyje: „SpaceX“ sėkmingai „pagavo“ savo raketos greitintuvą\n",
      "::REM::\n",
      "<a class=\"articles-list-title\" href=\"naujienos/ivairenybes/receptai/geles-maiste-grazu-bet-ne-visada-saugu-1195045\" style=\"font-size: 16px;line-height: 1.2;margin-bottom: 10px;display: inline;\">Valgomosios gėlės: gražu, bet ne visada saugu</a>\n",
      "HREF?\n",
      "naujienos/ivairenybes/receptai/geles-maiste-grazu-bet-ne-visada-saugu-1195045\n",
      "Valgomosios gėlės: gražu, bet ne visada saugu\n"
     ]
    }
   ],
   "source": [
    "pavadinimai, nuorodos = [], []\n",
    "for s in straipsniai:\n",
    "    i = s.find('div', {'class':'articles-list-title-wrapper'})\n",
    "    if i is not None:\n",
    "        t = i.find('a', {'class':'articles-list-title'})\n",
    "        print('::REM::')\n",
    "        print(t)\n",
    "        print('HREF?')\n",
    "        print(t['href'])\n",
    "        print(t.text)\n",
    "        pavadinimai.append(t.text)\n",
    "        nuorodos.append(t['href'])"
   ]
  },
  {
   "cell_type": "code",
   "execution_count": 5,
   "metadata": {},
   "outputs": [
    {
     "name": "stdout",
     "output_type": "stream",
     "text": [
      "29\n",
      "29\n"
     ]
    }
   ],
   "source": [
    "print(len(pavadinimai))\n",
    "print(len(nuorodos))"
   ]
  },
  {
   "cell_type": "code",
   "execution_count": 6,
   "metadata": {},
   "outputs": [
    {
     "name": "stdout",
     "output_type": "stream",
     "text": [
      "vidutinis žodžių kiekis straipsnio pavadinime 8.52\n",
      "[12, 8, 7, 10, 10, 8, 8, 9, 10, 8, 8, 11, 7, 9, 6, 12, 13, 11, 6, 7, 7, 7, 7, 5, 9, 14, 3, 8, 7]\n"
     ]
    }
   ],
   "source": [
    "zodziai=0\n",
    "zodziukiekiai=[]\n",
    "for p in pavadinimai:\n",
    "    zodziai=zodziai + len(p.split())\n",
    "    zodziukiekiai.append(len(p.split()))\n",
    "    \n",
    "print('vidutinis žodžių kiekis straipsnio pavadinime', round(zodziai/len(pavadinimai),2))\n",
    "print(zodziukiekiai)"
   ]
  },
  {
   "cell_type": "code",
   "execution_count": 7,
   "metadata": {},
   "outputs": [
    {
     "name": "stdout",
     "output_type": "stream",
     "text": [
      "{3: 1, 5: 1, 6: 2, 7: 7, 8: 6, 9: 3, 10: 3, 11: 2, 12: 2, 13: 1, 14: 1}\n"
     ]
    }
   ],
   "source": [
    "zodziuzodynas={}\n",
    "for k in zodziukiekiai:\n",
    "    if k in zodziuzodynas:\n",
    "        zodziuzodynas[k] += 1\n",
    "    else:\n",
    "        zodziuzodynas[k] = 1\n",
    "\n",
    "zodziuzodynas = {key: zodziuzodynas[key] for key in sorted(zodziuzodynas)}\n",
    "print(zodziuzodynas)"
   ]
  },
  {
   "cell_type": "code",
   "execution_count": 8,
   "metadata": {},
   "outputs": [
    {
     "data": {
      "image/png": "[encoded data removed]",
      "text/plain": [
       "<Figure size 640x480 with 1 Axes>"
      ]
     },
     "metadata": {},
     "output_type": "display_data"
    }
   ],
   "source": [
    "fig, axis = plt.subplots()\n",
    "\n",
    "a=axis.bar(zodziuzodynas.keys(), zodziuzodynas.values())\n",
    "axis.bar_label(a)\n",
    "axis.set_xticks(list(zodziuzodynas.keys()))\n",
    "axis.set_xlabel('žodžių kiekis pavadinime')\n",
    "axis.set_ylabel('kiek kartų pasikartojo')\n",
    "plt.show()"
   ]
  },
  {
   "cell_type": "code",
   "execution_count": 9,
   "metadata": {},
   "outputs": [
    {
     "name": "stdout",
     "output_type": "stream",
     "text": [
      "15\n",
      "„Kauno dienos“ studijoje – istorikas R. Kamuntavičius: ar reikia bijoti gudiško litvinizmo?\n",
      "naujienos/kauno-dienos-studija/kauno-dienos-studijoje-istorikas-r-kamuntavicius-ar-reikia-bijoti-gudisko-litvinizmo-1195490\n"
     ]
    }
   ],
   "source": [
    "ilgiausias=0\n",
    "for i in range(0, len(zodziukiekiai)):\n",
    "    if zodziukiekiai[i] > ilgiausias:\n",
    "        ilgiausias = i\n",
    "\n",
    "print(ilgiausias)\n",
    "print(pavadinimai[ilgiausias])\n",
    "print(nuorodos[ilgiausias])"
   ]
  },
  {
   "cell_type": "code",
   "execution_count": 10,
   "metadata": {},
   "outputs": [
    {
     "name": "stdout",
     "output_type": "stream",
     "text": [
      "12\n"
     ]
    }
   ],
   "source": [
    "url = \"https://kauno.diena.lt/\"+nuorodos[ilgiausias]\n",
    "\n",
    "\n",
    "page = requests.get(url)\n",
    "source = page.content\n",
    "\n",
    "bs = BeautifulSoup(source, 'html.parser')\n",
    "\n",
    "straipsniai = bs.find('span', {'itemprop':'articleBody'})\n",
    "print(len(straipsniai))\n"
   ]
  },
  {
   "cell_type": "code",
   "execution_count": 11,
   "metadata": {},
   "outputs": [],
   "source": [
    "straip=straipsniai.text\n",
    "straip=straip.split()\n"
   ]
  },
  {
   "cell_type": "code",
   "execution_count": 12,
   "metadata": {},
   "outputs": [
    {
     "name": "stdout",
     "output_type": "stream",
     "text": [
      "{'ir': 4, 'su': 3, 'mūsų': 3, 'istorijos': 3, 'tokį': 2}\n"
     ]
    }
   ],
   "source": [
    "zodziaistraip={}\n",
    "\n",
    "for k in straip:\n",
    "    if k in zodziaistraip:\n",
    "        zodziaistraip[k] += 1\n",
    "    else:\n",
    "        zodziaistraip[k] = 1\n",
    "\n",
    "zodziaistraip = dict(sorted(zodziaistraip.items(), key=lambda item: item[1], reverse=True))\n",
    "zodziaistraip5=dict(list(zodziaistraip.items())[:5])\n",
    "print(zodziaistraip5)"
   ]
  },
  {
   "cell_type": "code",
   "execution_count": 13,
   "metadata": {},
   "outputs": [
    {
     "data": {
      "image/png": "[encoded data removed]",
      "text/plain": [
       "<Figure size 640x480 with 1 Axes>"
      ]
     },
     "metadata": {},
     "output_type": "display_data"
    }
   ],
   "source": [
    "fig, axis = plt.subplots()\n",
    "\n",
    "a=axis.bar(zodziaistraip5.keys(), zodziaistraip5.values())\n",
    "axis.bar_label(a)\n",
    "axis.set_xticks(list(zodziaistraip5.keys()))\n",
    "axis.set_xlabel('žodis')\n",
    "axis.set_ylabel('kiek kartų pasikartojo')\n",
    "plt.title(pavadinimai[ilgiausias])\n",
    "plt.show()"
   ]
  },
  {
   "cell_type": "code",
   "execution_count": 14,
   "metadata": {},
   "outputs": [
    {
     "name": "stdout",
     "output_type": "stream",
     "text": [
      "https://kauno.diena.lt/https://www.diena.lt/naujienos/vilnius/nusikaltimai-ir-nelaimes/vilniaus-policija-aiskinasi-kas-pavoge-lagamina-1195812\n",
      "610.5357142857143\n"
     ]
    }
   ],
   "source": [
    "visozodziu=0\n",
    "failas=0\n",
    "for nuor in nuorodos:\n",
    "    url = \"https://kauno.diena.lt/\"+nuor\n",
    "    page = requests.get(url)\n",
    "    source = page.content\n",
    "    bs = BeautifulSoup(source, 'html.parser')\n",
    "    straipsniai = bs.find_all('span', {'itemprop':'articleBody'})\n",
    "    \n",
    "    if straipsniai:\n",
    "        straip=straipsniai[0].text\n",
    "        straip=straip.split()\n",
    "    \n",
    "        visozodziu=visozodziu + len(straip)\n",
    "    else:\n",
    "        print(url)\n",
    "        failas=failas+1\n",
    "    \n",
    "\n",
    "print(visozodziu/(len(nuorodos)-1))\n"
   ]
  },
  {
   "cell_type": "code",
   "execution_count": 15,
   "metadata": {},
   "outputs": [
    {
     "name": "stdout",
     "output_type": "stream",
     "text": [
      "<class 'bs4.element.ResultSet'>\n"
     ]
    }
   ],
   "source": [
    "print(type(straipsniai))"
   ]
  }
 ],
 "metadata": {
  "kernelspec": {
   "display_name": "Python 3",
   "language": "python",
   "name": "python3"
  },
  "language_info": {
   "codemirror_mode": {
    "name": "ipython",
    "version": 3
   },
   "file_extension": ".py",
   "mimetype": "text/x-python",
   "name": "python",
   "nbconvert_exporter": "python",
   "pygments_lexer": "ipython3",
   "version": "3.12.4"
  }
 },
 "nbformat": 4,
 "nbformat_minor": 2
}
