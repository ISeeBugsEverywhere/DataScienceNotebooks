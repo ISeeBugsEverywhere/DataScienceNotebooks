{
 "cells": [
  {
   "cell_type": "code",
   "execution_count": 1,
   "metadata": {},
   "outputs": [],
   "source": [
    "import ollama"
   ]
  },
  {
   "cell_type": "code",
   "execution_count": 3,
   "metadata": {},
   "outputs": [
    {
     "name": "stdout",
     "output_type": "stream",
     "text": [
      "<think>\n",
      "\n",
      "</think>\n",
      "\n",
      "2 + 2 equals **4**.\n"
     ]
    }
   ],
   "source": [
    "response = ollama.chat(\n",
    "    model=\"deepseek-r1:1.5b\",\n",
    "    messages=[\n",
    "        {\"role\": \"user\", \"content\": \"2+2\"},\n",
    "    ],\n",
    ")\n",
    "print(response[\"message\"][\"content\"])"
   ]
  },
  {
   "cell_type": "code",
   "execution_count": 3,
   "metadata": {},
   "outputs": [
    {
     "name": "stdout",
     "output_type": "stream",
     "text": [
      "The sky appears blue due to a phenomenon called **Rayleigh Scattering**. Here's how it works:\n",
      "\n",
      "**1. Sunlight and Colors:** ☀️ \n",
      "Sunlight appears white but actually contains all the colors of the rainbow (visible spectrum).  \n",
      "\n",
      "**2. Entering Earth's Atmosphere:** 🌍\n",
      "When sunlight enters Earth's atmosphere, it collides with tiny molecules of air, mostly nitrogen and oxygen.\n",
      "\n",
      "**3. Rayleigh Scattering in Action:** ✨\n",
      "* **Shorter wavelengths scatter more:** Blue light (with a shorter wavelength) is scattered much more efficiently by these molecules than longer wavelengths like red and orange. \n",
      "* **Blue light scatters everywhere:** This scattering spreads blue light all over the sky, making it appear blue to us.\n",
      "\n",
      "**Why not violet?** 🤔\n",
      "Although violet light has an even shorter wavelength and should scatter even more, our eyes are less sensitive to violet, so we perceive the sky as blue.\n",
      "\n",
      "\n",
      "**Additional Notes:**\n",
      "\n",
      "* **Time of day matters:**  The sky looks bluest at midday when sunlight travels through the most atmosphere. It appears reddish-orange near sunset or sunrise because the sun is lower in the sky and sunlight has a longer path through the atmosphere, scattering more of the shorter wavelengths away. \n",
      "* **Clouds are white:** Clouds are made up of water droplets or ice crystals that are much larger than air molecules, so they scatter all colors of light equally (Mie Scattering). This is why clouds appear white to us.\n",
      "\n",
      "\n",
      "\n",
      "Let me know if you have any other questions about the sky! \n",
      "\n"
     ]
    }
   ],
   "source": [
    "a=input('Įveskite klasuimą deepseekui. Norėdami išeiti įveskite quit')\n",
    "\n",
    "while a.lower() != 'quit':\n",
    "    response = ollama.chat(\n",
    "        model=\"gemma2:2b\",\n",
    "        messages=[\n",
    "            {\"role\": \"user\", \"content\": a},\n",
    "        ],\n",
    "    )\n",
    "    print(response[\"message\"][\"content\"])\n",
    "    a=input('Įveskite klasuimą deepseekui. Norėdami išeiti įveskite quit')\n",
    "    "
   ]
  },
  {
   "cell_type": "code",
   "execution_count": null,
   "metadata": {},
   "outputs": [],
   "source": [
    "while True:\n",
    "    a = input(\"Įveskite klausimą DeepSeekui. Norėdami išeiti, įveskite 'quit': \")\n",
    "\n",
    "    if a.lower() == \"quit\":  # Case insensitive check for exit\n",
    "        print(\"Išeinama iš programos...\")\n",
    "        break  # Exit the loop\n",
    "\n",
    "    try:\n",
    "        response = ollama.chat(\n",
    "            model=\"deepseek-r1:1.5b\",\n",
    "            messages=[{\"role\": \"user\", \"content\": a}],  # Use the user's input\n",
    "        )\n",
    "        print(\"DeepSeek atsakymas:\", response[\"message\"][\"content\"])  # Show the response\n",
    "    except Exception as e:\n",
    "        print(\"Klaida bendraujant su DeepSeek:\", e)  # Handle API errors"
   ]
  },
  {
   "cell_type": "code",
   "execution_count": null,
   "metadata": {},
   "outputs": [
    {
     "name": "stdout",
     "output_type": "stream",
     "text": [
      "The color of the sky appears as blue because of a particular type of scattering called Raylepsi scattering. Sunlight, which contains all colors of light, travels through Earth's atmosphere and interacts with atmospheric particles. Shorter wavelengths (blue and violet) are scattered in many directions more than longer wavelengths like red and yellow. Blue is scattered towards our eyes from every direction across the sky leading to us perceiving it as blue during daylight hours. Our eyes are less sensitive to violet light, which is also being scattered but appears less noticeable to us.\n",
      " \n",
      "It's important to note that this explanation changes during sunrise and sunset when we see red skies. During these times the Sun’s rays have to pass through more atmosphere which scatters blue and violet light out of our line of sight, while longer wavelengths (red, orange) are scattered less and can be seen.\n"
     ]
    }
   ],
   "source": [
    "import ollama\n",
    "response = ollama.chat(\n",
    "    model=\"phi3:medium\",\n",
    "    messages=[\n",
    "        {\"role\": \"user\", \"content\": \"why sky is blue?\"},\n",
    "    ],\n",
    ")\n",
    "r = response[\"message\"][\"content\"]\n",
    "print(r)"
   ]
  }
 ],
 "metadata": {
  "kernelspec": {
   "display_name": "Python 3",
   "language": "python",
   "name": "python3"
  },
  "language_info": {
   "codemirror_mode": {
    "name": "ipython",
    "version": 3
   },
   "file_extension": ".py",
   "mimetype": "text/x-python",
   "name": "python",
   "nbconvert_exporter": "python",
   "pygments_lexer": "ipython3",
   "version": "3.12.4"
  }
 },
 "nbformat": 4,
 "nbformat_minor": 2
}
