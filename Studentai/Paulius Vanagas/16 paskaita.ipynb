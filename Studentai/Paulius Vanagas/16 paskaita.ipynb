{
 "cells": [
  {
   "cell_type": "code",
   "execution_count": 24,
   "metadata": {},
   "outputs": [
    {
     "name": "stdout",
     "output_type": "stream",
     "text": [
      "skaicius  2.6 indeksas 18\n"
     ]
    }
   ],
   "source": [
    "def artimiausias(sar, sk):\n",
    "    sar2 = []\n",
    "    for i in sar:\n",
    "        sar2.append(abs(a-i))\n",
    "    \n",
    "    maz = min(sar2)\n",
    "    \n",
    "    for i in range(0, len(sar2)):\n",
    "        if sar2[i] == maz:\n",
    "            indeksas=i\n",
    "    \n",
    "    return sar[indeksas], indeksas\n",
    "    \n",
    "sr = [-5, 4, 2.3, 0.6, 17, 5, 12, 2.6, 5.12, -3, -14, -5, 4, 2.3, 0.6, 17, 5, 12, 2.6, 5.12, -3, -14]\n",
    "a = 3\n",
    "\n",
    "b, poz = artimiausias(sr, a)\n",
    "\n",
    "print('skaicius ', b, 'indeksas', poz)"
   ]
  },
  {
   "cell_type": "code",
   "execution_count": 30,
   "metadata": {},
   "outputs": [
    {
     "name": "stdout",
     "output_type": "stream",
     "text": [
      "20\n",
      "18\n",
      "150\n",
      "50\n"
     ]
    }
   ],
   "source": [
    "class Staciakampis():\n",
    "    def __init__(self, a, b):\n",
    "        self.setab(a, b)\n",
    "        pass\n",
    "    \n",
    "    def setab(self, a, b):\n",
    "        self.__A = a\n",
    "        self.__B = b\n",
    "        self.__S =self.__A*self.__B\n",
    "        self.__P=(self.__A+self.__B)*2\n",
    "\n",
    "    def S(self):\n",
    "        return self.__S\n",
    "    def P(self):\n",
    "        return self.__P\n",
    "        \n",
    "o = Staciakampis(4, 5)\n",
    "print(o.S())\n",
    "print(o.P())\n",
    "o.setab(10, 15)\n",
    "print(o.S())\n",
    "print(o.P())"
   ]
  },
  {
   "cell_type": "code",
   "execution_count": 32,
   "metadata": {},
   "outputs": [
    {
     "name": "stdout",
     "output_type": "stream",
     "text": [
      "60\n",
      "94\n",
      "120\n",
      "284\n"
     ]
    }
   ],
   "source": [
    "class Kubas():\n",
    "    def __init__(self, a, b, c):\n",
    "        self.setabc(a, b, c)\n",
    "        \n",
    "    def setabc(self, a, b, c):\n",
    "        self.__A=a\n",
    "        self.__B=b\n",
    "        self.__C=c\n",
    "        self.__V=self.__A*self.__B*self.__C\n",
    "        self.__Spav=((self.__A*self.__B)+(self.__A*self.__C)+(self.__C*self.__B))*2\n",
    "        \n",
    "    def getV(self):\n",
    "        return self.__V\n",
    "    \n",
    "    def getSpav(self):\n",
    "        return self.__Spav\n",
    "    \n",
    "o= Kubas(3, 4, 5)\n",
    "\n",
    "print(o.getV())\n",
    "print(o.getSpav())\n",
    "\n",
    "o.setabc(10, 12, 1)\n",
    "print(o.getV())\n",
    "print(o.getSpav())"
   ]
  },
  {
   "cell_type": "code",
   "execution_count": 36,
   "metadata": {},
   "outputs": [
    {
     "name": "stdout",
     "output_type": "stream",
     "text": [
      "5\n",
      "523.3333333333334\n",
      "33.49333333333333\n"
     ]
    }
   ],
   "source": [
    "class Rutulys():\n",
    "    def __init__(self, r):\n",
    "        self.R=r\n",
    "    \n",
    "    @property\n",
    "    def R(self):\n",
    "        return self.__R\n",
    "    @R.setter\n",
    "    def R(self, r):\n",
    "        self.__R = r\n",
    "        self.V = 4/3*3.14*self.__R**3\n",
    "        \n",
    "o = Rutulys(5)\n",
    "print(o.R)\n",
    "print(o.V)\n",
    "o.R = 2\n",
    "print(o.V)"
   ]
  }
 ],
 "metadata": {
  "kernelspec": {
   "display_name": "DataScienceNotebooks-9Ul_WSXc",
   "language": "python",
   "name": "python3"
  },
  "language_info": {
   "codemirror_mode": {
    "name": "ipython",
    "version": 3
   },
   "file_extension": ".py",
   "mimetype": "text/x-python",
   "name": "python",
   "nbconvert_exporter": "python",
   "pygments_lexer": "ipython3",
   "version": "3.12.4"
  }
 },
 "nbformat": 4,
 "nbformat_minor": 2
}
