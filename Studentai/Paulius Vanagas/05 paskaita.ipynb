{
 "cells": [
  {
   "cell_type": "code",
   "execution_count": 1,
   "metadata": {},
   "outputs": [
    {
     "name": "stdout",
     "output_type": "stream",
     "text": [
      "9 81\n",
      "Iteracija (žingsnis): 3\n"
     ]
    }
   ],
   "source": [
    "for i in range(0,4):\n",
    "    for k in range(0,11):\n",
    "        if k == 5:\n",
    "            continue\n",
    "        if k == 9:\n",
    "            break\n",
    "print(k, k**2)\n",
    "print('Iteracija (žingsnis): {}'.format(i))"
   ]
  },
  {
   "cell_type": "code",
   "execution_count": 14,
   "metadata": {},
   "outputs": [
    {
     "name": "stdout",
     "output_type": "stream",
     "text": [
      "iveskite Q arba q, kad nutraukti cikla\n",
      "Q\n"
     ]
    }
   ],
   "source": [
    "quit = False\n",
    "while not quit:\n",
    "    print('iveskite Q arba q, kad nutraukti cikla')\n",
    "    i=input('laukiame')\n",
    "    i=i.upper()\n",
    "    \n",
    "    if i=='Q' or i =='q':\n",
    "        quit=True\n",
    "        print(i)\n",
    "    "
   ]
  },
  {
   "cell_type": "code",
   "execution_count": 35,
   "metadata": {},
   "outputs": [
    {
     "name": "stdout",
     "output_type": "stream",
     "text": [
      "atsakymas 2.0\n",
      "2.0\n"
     ]
    }
   ],
   "source": [
    "sk1 = input('iveskite skaiciu')\n",
    "v= input('iveskite veiksma')\n",
    "sk2 = input('iveskite skaiciu')\n",
    "\n",
    "\n",
    "ats=0\n",
    "try:\n",
    "    sk1=float(sk1)\n",
    "    sk2=float(sk2)\n",
    "    if not( v == '+' or v =='-' or v =='/' or v=='*'):\n",
    "        print('ivestas blogas veiksmas')\n",
    "    \n",
    "    if v =='+':\n",
    "        ats=sk1+sk2\n",
    "    if v == '-':\n",
    "        ats=sk1-sk2\n",
    "    if v == '*':\n",
    "        ats= sk1 * sk2\n",
    "    if v == '/':\n",
    "        ats= sk1/sk2\n",
    "except ZeroDivisionError as ex:\n",
    "    print('dalyba is 0')\n",
    "except Exception as ex:\n",
    "    print(ex)\n",
    "    print('neteisingai ivesti duomenys')\n",
    "else:\n",
    "    print('atsakymas', ats)\n",
    "finally:\n",
    "    print(ats)\n"
   ]
  },
  {
   "cell_type": "code",
   "execution_count": 37,
   "metadata": {},
   "outputs": [
    {
     "name": "stdout",
     "output_type": "stream",
     "text": [
      "10.0\n"
     ]
    }
   ],
   "source": [
    "def pvm(kaina, p=21):\n",
    "    return kaina/100*p\n",
    "\n",
    "print(pvm(100, 10))"
   ]
  },
  {
   "cell_type": "code",
   "execution_count": 40,
   "metadata": {},
   "outputs": [
    {
     "name": "stdout",
     "output_type": "stream",
     "text": [
      "10\n",
      "25\n",
      "3.0\n"
     ]
    }
   ],
   "source": [
    "def laipsnis(pagrindas, rodiklis=2):\n",
    "    return pagrindas**rodiklis\n",
    "\n",
    "def saknis(pagrindas, rodiklis=2):\n",
    "    return pagrindas**(1/rodiklis)\n",
    "\n",
    "def kiekzodziu(tekstas):\n",
    "    return len(tekstas.split())\n",
    "\n",
    "print(kiekzodziu(\"Jau saulelė atkopdama budino svietą ir žiemos triūsą pargriaudama juokės\"))\n",
    "print(laipsnis(5))\n",
    "print(saknis(81, 4))\n"
   ]
  },
  {
   "cell_type": "code",
   "execution_count": 49,
   "metadata": {},
   "outputs": [
    {
     "name": "stdout",
     "output_type": "stream",
     "text": [
      "15 celsijaus lygu  59.0 farenheitais\n"
     ]
    }
   ],
   "source": [
    "def tmp_knv(t):\n",
    "    if t[-1] == 'C':\n",
    "        t1=int(t.replace(' ','').replace('C',''))\n",
    "        t2=((t1/5)*9)+32\n",
    "        print(t1, 'celsijaus lygu ', t2, 'farenheitais')\n",
    "    \n",
    "    if t[-1] == 'F':\n",
    "        t1=int(t.replace(' ','').replace('F',''))\n",
    "        t2=((t1-32)/9)*5\n",
    "        print(t1, 'farenheitu lygu ', t2, 'celsiju')\n",
    "        \n",
    "\n",
    "tmp_knv('15C')"
   ]
  },
  {
   "cell_type": "code",
   "execution_count": 60,
   "metadata": {},
   "outputs": [
    {
     "name": "stdout",
     "output_type": "stream",
     "text": [
      "[5, 1]\n"
     ]
    }
   ],
   "source": [
    "def pask_pirm(sar1):\n",
    "    sar2=[]\n",
    "    sar2.append(sar1[-1])\n",
    "    sar2.append(sar1[0])\n",
    "    return sar2\n",
    "\n",
    "list=[1, 2, 'g', 5]\n",
    "print(pask_pirm(list))"
   ]
  },
  {
   "cell_type": "code",
   "execution_count": 64,
   "metadata": {},
   "outputs": [
    {
     "name": "stdout",
     "output_type": "stream",
     "text": [
      "baudos taskai 2\n"
     ]
    }
   ],
   "source": [
    "def greitis(v):\n",
    "    if v<=50:\n",
    "        print('OK')\n",
    "    else:\n",
    "        t=int((v-50)/5)\n",
    "        print('baudos taskai', t)\n",
    "        if t>=8:\n",
    "            print('Atimamas vairuotojo pazymejimas')\n",
    "\n",
    "greitis(63)"
   ]
  },
  {
   "cell_type": "code",
   "execution_count": 2,
   "metadata": {},
   "outputs": [
    {
     "name": "stdout",
     "output_type": "stream",
     "text": [
      "4321 sabaL\n"
     ]
    }
   ],
   "source": [
    "def kitapuse(zod):\n",
    "    #return zod[::-1]\n",
    "    i=len(zod)-1\n",
    "    doz=''\n",
    "    while i >= 0:\n",
    "        doz=doz+zod[i]\n",
    "        i=i-1\n",
    "    \n",
    "    return doz\n",
    "        \n",
    "print(kitapuse('Labas 1234'))\n",
    "\n",
    "# def text(x):\n",
    "#     a = ''\n",
    "#     for i in x:\n",
    "#         a = i + a\n",
    "#     return a\n",
    "# text('Dangus')\n",
    "\n",
    "# def atgal(txt):\n",
    "#     rez=[]\n",
    "#     for i in range(len(txt)-1,-1,-1): # Nuo paskutiniojo, iki pirmojo, kuris yra 0, bet neįeina, žingsnis.\n",
    "#         rez.append(txt[i])\n",
    "#     return ''.join(rez)\n",
    "\n",
    "# labas='Labas rytas.'\n",
    "# print(atgal(labas))"
   ]
  },
  {
   "cell_type": "code",
   "execution_count": 84,
   "metadata": {},
   "outputs": [
    {
     "name": "stdout",
     "output_type": "stream",
     "text": [
      "sirmap\n"
     ]
    }
   ],
   "source": [
    "def uzd3(txt):\n",
    "   \n",
    "    txt=txt[-1] + txt[1:-1] + txt[0]\n",
    "    \n",
    "    return txt\n",
    "\n",
    "print(uzd3('pirmas'))\n",
    "    "
   ]
  }
 ],
 "metadata": {
  "kernelspec": {
   "display_name": "Python 3",
   "language": "python",
   "name": "python3"
  },
  "language_info": {
   "codemirror_mode": {
    "name": "ipython",
    "version": 3
   },
   "file_extension": ".py",
   "mimetype": "text/x-python",
   "name": "python",
   "nbconvert_exporter": "python",
   "pygments_lexer": "ipython3",
   "version": "3.12.4"
  }
 },
 "nbformat": 4,
 "nbformat_minor": 2
}
