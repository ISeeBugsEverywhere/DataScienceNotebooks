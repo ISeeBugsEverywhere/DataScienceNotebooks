{
 "cells": [
  {
   "cell_type": "code",
   "execution_count": 1,
   "metadata": {},
   "outputs": [
    {
     "name": "stdout",
     "output_type": "stream",
     "text": [
      "9 81\n",
      "Iteracija (žingsnis): 3\n"
     ]
    }
   ],
   "source": [
    "for i in range(0,4):\n",
    "    for k in range(0,11):\n",
    "        if k == 5:\n",
    "            continue\n",
    "        if k == 9:\n",
    "            break\n",
    "print(k, k**2)\n",
    "print('Iteracija (žingsnis): {}'.format(i))"
   ]
  }
 ],
 "metadata": {
  "kernelspec": {
   "display_name": "Python 3",
   "language": "python",
   "name": "python3"
  },
  "language_info": {
   "codemirror_mode": {
    "name": "ipython",
    "version": 3
   },
   "file_extension": ".py",
   "mimetype": "text/x-python",
   "name": "python",
   "nbconvert_exporter": "python",
   "pygments_lexer": "ipython3",
   "version": "3.12.4"
  }
 },
 "nbformat": 4,
 "nbformat_minor": 2
}
