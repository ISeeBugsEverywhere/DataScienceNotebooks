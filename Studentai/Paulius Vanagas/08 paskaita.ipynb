{
 "cells": [
  {
   "cell_type": "code",
   "execution_count": null,
   "metadata": {},
   "outputs": [],
   "source": [
    "f_name = 'F3.txt'\n",
    "\n",
    "f = open(file=f_name, mode='a', encoding='utf-8')\n",
    "\n",
    "f.write('Labas, čia append režimu atidarytas failas\\n')\n",
    "\n",
    "\n",
    "f.close()"
   ]
  },
  {
   "cell_type": "code",
   "execution_count": 51,
   "metadata": {},
   "outputs": [
    {
     "name": "stdout",
     "output_type": "stream",
     "text": [
      "['1\\n', '2\\n', '3\\n', '4\\n', '5\\n']\n",
      "dauginu is 2 2\n",
      "dauginu is 2 4\n",
      "dauginu is 2 6\n",
      "dauginu is 2 8\n",
      "dauginu is 2 10\n",
      "kvadratu 1\n",
      "kvadratu 4\n",
      "kvadratu 9\n",
      "kvadratu 16\n",
      "kvadratu 25\n"
     ]
    }
   ],
   "source": [
    "failo_vardas = 't.txt'\n",
    "\n",
    "failas = open(failo_vardas, mode='r', encoding='utf-8')\n",
    "turinys = failas.readlines()\n",
    "failas.close()\n",
    "\n",
    "print(turinys)\n",
    "\n",
    "for i in range(0,len(turinys)):\n",
    "    print('dauginu is 2', int(turinys[i])*2)\n",
    "    \n",
    "for i in range(0,len(turinys)):\n",
    "    print('kvadratu', int(turinys[i])*int(turinys[i]))\n",
    "    \n",
    "\n",
    "failas = open('ats.txt', mode='w', encoding='utf-8') \n",
    "\n",
    "for i in range(0,len(turinys)):\n",
    "    failas.write(str(int(turinys[i])))\n",
    "    failas.write(' ')\n",
    "    failas.write(str(int(turinys[i])*2))\n",
    "    failas.write(' ')\n",
    "    failas.write(str(int(turinys[i])*int(turinys[i])))\n",
    "    failas.write('\\n')\n",
    " \n",
    " \n",
    "failas.close()\n",
    "\n"
   ]
  },
  {
   "cell_type": "code",
   "execution_count": 71,
   "metadata": {},
   "outputs": [
    {
     "name": "stdout",
     "output_type": "stream",
     "text": [
      "['Vilnius, liepos 4 d. (BNS). Į Europos Parlamentą (EP) birželį išrinktas Virginijus Sinkevičius dėl ministro portfelio grįžtų į Lietuvą, sako opozicinės Demokratų sąjungos „Vardan Lietuvos“ lyderis Saulius Skvernelis.\\n', '\\n', 'Taip jis kalbėjo po ketvirtadienį vykusio partijos valdybos posėdžio, per kurį patvirtintas kandidatų į Seimą sąrašas, programa. \\n', '\\n', '„V. Sinkevičius, kadangi jis yra mūsų komandos bendruomenės narys, dalyvaus būdamas 141 pozicijoje, ir jeigu rinkimai bus sėkmingi, ir mes būsime valdančiojoje daugumoje, ir turėsime vieną iš ministrų portfelių, didelė tikimybė, kad tokiu atveju Virginijus taps Vyriausybės nariu, ir tada grįši į Lietuvą“, – žurnalistams sakė S. Skvernelis.']\n"
     ]
    }
   ],
   "source": [
    "failo_vardas = 'delfi.txt'\n",
    "\n",
    "failas = open(failo_vardas, mode='r', encoding='utf-8')\n",
    "turinys = failas.readlines()\n",
    "failas.close()\n",
    "\n",
    "print(turinys)\n"
   ]
  },
  {
   "cell_type": "code",
   "execution_count": 75,
   "metadata": {},
   "outputs": [],
   "source": [
    "failo_vardas = 'delfi.txt'\n",
    "\n",
    "failas = open(failo_vardas, mode='r', encoding='utf-8')\n",
    "turinys = failas.readlines()\n",
    "failas.close()\n",
    "\n",
    "failas = open('ats.txt', mode='w', encoding='utf-8') \n",
    "a=[]\n",
    "\n",
    "for i in turinys:\n",
    "    a.append(i.upper())\n",
    "    failas.write(str(a))\n",
    "\n",
    "failas.close()"
   ]
  },
  {
   "cell_type": "code",
   "execution_count": 74,
   "metadata": {},
   "outputs": [
    {
     "ename": "TypeError",
     "evalue": "list indices must be integers or slices, not str",
     "output_type": "error",
     "traceback": [
      "\u001b[1;31m---------------------------------------------------------------------------\u001b[0m",
      "\u001b[1;31mTypeError\u001b[0m                                 Traceback (most recent call last)",
      "Cell \u001b[1;32mIn[74], line 11\u001b[0m\n\u001b[0;32m      9\u001b[0m a\u001b[38;5;241m=\u001b[39m[]\n\u001b[0;32m     10\u001b[0m \u001b[38;5;28;01mfor\u001b[39;00m i \u001b[38;5;129;01min\u001b[39;00m turinys:\n\u001b[1;32m---> 11\u001b[0m     zodziai\u001b[38;5;241m=\u001b[39m\u001b[43mturinys\u001b[49m\u001b[43m[\u001b[49m\u001b[43mi\u001b[49m\u001b[43m]\u001b[49m\u001b[38;5;241m.\u001b[39msplit()\n\u001b[0;32m     12\u001b[0m     \u001b[38;5;28;01mfor\u001b[39;00m j \u001b[38;5;129;01min\u001b[39;00m \u001b[38;5;28mrange\u001b[39m(\u001b[38;5;241m0\u001b[39m, \u001b[38;5;28mlen\u001b[39m(turinys[i])):\n\u001b[0;32m     13\u001b[0m         \u001b[38;5;28;01mif\u001b[39;00m (j\u001b[38;5;241m+\u001b[39m\u001b[38;5;241m1\u001b[39m) \u001b[38;5;241m%\u001b[39m n \u001b[38;5;241m==\u001b[39m\u001b[38;5;241m0\u001b[39m:\n",
      "\u001b[1;31mTypeError\u001b[0m: list indices must be integers or slices, not str"
     ]
    }
   ],
   "source": [
    "failo_vardas = 'delfi.txt'\n",
    "\n",
    "failas = open(failo_vardas, mode='r', encoding='utf-8')\n",
    "turinys = failas.readlines()\n",
    "failas.close()\n",
    "\n",
    "n=2\n",
    "\n",
    "a=[]\n",
    "for i in turinys:\n",
    "    zodziai=turinys[i].split()\n",
    "    for j in range(0, len(turinys[i])):\n",
    "        if (j+1) % n ==0:\n",
    "            a.append(zodziai[i].upper())\n",
    "        \n",
    "failas = open('ats.txt', mode='w', encoding='utf-8') \n",
    "failas.write(str(a))\n",
    "failas.close()\n",
    "\n",
    "print(turinys[5])\n",
    "print(a)"
   ]
  },
  {
   "cell_type": "code",
   "execution_count": 77,
   "metadata": {},
   "outputs": [
    {
     "name": "stdout",
     "output_type": "stream",
     "text": [
      "u\n",
      "['Vilnius,', 'Liepos', '4', 'D.', '(Bns).', 'Į', 'Europos', 'Parlamentą', '(Ep)', 'Birželį', 'Išrinktas', 'Virginijus', 'Sinkevičius', 'Dėl', 'Ministro', 'Portfelio', 'Grįžtų', 'Į', 'Lietuvą,', 'Sako', 'Opozicinės', 'Demokratų', 'Sąjungos', '„Vardan', 'Lietuvos“', 'Lyderis', 'Saulius', 'Skvernelis.', 'Taip', 'Jis', 'Kalbėjo', 'Po', 'Ketvirtadienį', 'Vykusio', 'Partijos', 'Valdybos', 'Posėdžio,', 'Per', 'Kurį', 'Patvirtintas', 'Kandidatų', 'Į', 'Seimą', 'Sąrašas,', 'Programa.', '„V.', 'Sinkevičius,', 'Kadangi', 'Jis', 'Yra', 'Mūsų', 'Komandos', 'Bendruomenės', 'Narys,', 'Dalyvaus', 'Būdamas', '141', 'Pozicijoje,', 'Ir', 'Jeigu', 'Rinkimai', 'Bus', 'Sėkmingi,', 'Ir', 'Mes', 'Būsime', 'Valdančiojoje', 'Daugumoje,', 'Ir', 'Turėsime', 'Vieną', 'Iš', 'Ministrų', 'Portfelių,', 'Didelė', 'Tikimybė,', 'Kad', 'Tokiu', 'Atveju', 'Virginijus', 'Taps', 'Vyriausybės', 'Nariu,', 'Ir', 'Tada', 'Grįši', 'Į', 'Lietuvą“,', '–', 'Žurnalistams', 'Sakė', 'S.', 'Skvernelis.']\n"
     ]
    }
   ],
   "source": [
    "failo_vardas = 'delfi.txt'\n",
    "\n",
    "failas = open(failo_vardas, mode='r', encoding='utf-8')\n",
    "turinys = failas.read()\n",
    "failas.close()\n",
    "\n",
    "n=2\n",
    "\n",
    "zodziai=turinys.split()\n",
    "\n",
    "for i in range(0, len(zodziai)):\n",
    "    zodziai[i]=zodziai[i].title()\n",
    "        \n",
    "failas = open('ats.txt', mode='w', encoding='utf-8') \n",
    "zodziai=str(zodziai)\n",
    "failas.write(zodziai)\n",
    "failas.close()\n",
    "\n",
    "print(turinys[5])\n",
    "print(zodziai)"
   ]
  },
  {
   "cell_type": "code",
   "execution_count": 84,
   "metadata": {},
   "outputs": [],
   "source": [
    "failo_vardas = 'delfi.txt'\n",
    "\n",
    "failas = open(failo_vardas, mode='r', encoding='utf-8')\n",
    "turinys = failas.read()\n",
    "failas.close()\n",
    "\n",
    "zodziai=turinys.split()\n",
    "\n",
    "\n",
    "for i in range(0, len(zodziai)):\n",
    "    \n",
    "    if (i+1) % 6 ==0:\n",
    "        zodziai[i]=zodziai[i].replace('a', ':)')\n",
    "        \n",
    "    if (i+1) % 2 ==0:\n",
    "        zodziai[i]=zodziai[i][::-1]\n",
    "    \n",
    "    if (i+1) % 5 ==0:\n",
    "        zodziai[i]=zodziai[i].upper()\n",
    "        \n",
    "for i in range(0, len(zodziai)):\n",
    "    zodziai[i]=zodziai[i].capitalize()     \n",
    "    \n",
    "failas = open('ats.txt', mode='w', encoding='utf-8') \n",
    "zodziai=str(zodziai)\n",
    "failas.write(zodziai)\n",
    "failas.close()"
   ]
  },
  {
   "cell_type": "code",
   "execution_count": 85,
   "metadata": {},
   "outputs": [],
   "source": [
    "import random"
   ]
  },
  {
   "cell_type": "code",
   "execution_count": 101,
   "metadata": {},
   "outputs": [
    {
     "name": "stdout",
     "output_type": "stream",
     "text": [
      "[15, 45, 21, -24, -19, -50, -3]\n"
     ]
    }
   ],
   "source": [
    "kiek=7 #input('iveskite kiek skaiciu ')\n",
    "nuo = -50\n",
    "iki = 58\n",
    "\n",
    "list=[]\n",
    "\n",
    "for i in range(0, kiek):\n",
    "    list.append(random.randint(nuo, iki))\n",
    "    \n",
    "print(list)"
   ]
  },
  {
   "cell_type": "code",
   "execution_count": 102,
   "metadata": {},
   "outputs": [
    {
     "name": "stdout",
     "output_type": "stream",
     "text": [
      "[0.21910386028055295, 0.24540540575798664, 0.7629515563524857, 0.34039875322170643, 0.551986890914763]\n"
     ]
    }
   ],
   "source": [
    "list=[]\n",
    "\n",
    "for i in range(0, 5):\n",
    "    list.append(random.random())\n",
    "    \n",
    "print(list)"
   ]
  },
  {
   "cell_type": "code",
   "execution_count": 105,
   "metadata": {},
   "outputs": [
    {
     "name": "stdout",
     "output_type": "stream",
     "text": [
      "ivedete per dideli skaiciu\n",
      "ivedete per dideli skaiciu\n",
      "ivedete per dideli skaiciu\n",
      "ivedete per dideli skaiciu\n",
      "ivedete per dideli skaiciu\n",
      "skaiciu atspejote\n",
      "atspejote is 6 karto\n"
     ]
    }
   ],
   "source": [
    "sk=random.randint(1, 10)\n",
    "i=1\n",
    "j=0\n",
    "while i == 1:\n",
    "    j=j+1\n",
    "    x=int(input('iveskite skaiciu tarp 1 ir 10'))\n",
    "    if x>sk:\n",
    "        print('ivedete per dideli skaiciu')\n",
    "    elif x<sk:\n",
    "        print('ivedete per maza skaiciu')\n",
    "    else:\n",
    "        print('skaiciu atspejote')\n",
    "        i=0\n",
    "        print(f'atspejote is {j} karto')\n",
    "    "
   ]
  },
  {
   "cell_type": "code",
   "execution_count": 142,
   "metadata": {},
   "outputs": [
    {
     "name": "stdout",
     "output_type": "stream",
     "text": [
      "[9, 4, 10, 4, 8, 1, 9, 6, 10, 7]\n",
      "[10, 3, 10, 3, 4, 10, 9, 6, 1, 1, 7, 10, 5, 8, 6, 3, 10, 4, 7, 5, 9, 7, 4, 6, 2, 1, 8, 5, 9, 6]\n",
      "[10, 4, 9, 6, 1, 7, 8]\n"
     ]
    }
   ],
   "source": [
    "l1=[]\n",
    "l2=[]\n",
    "bendri=[]\n",
    "\n",
    "for i in range(0, 10):\n",
    "    l1.append(random.randint(1, 10))\n",
    "\n",
    "for i in range(0, 30):\n",
    "    l2.append(random.randint(1, 10))\n",
    "\n",
    "if len(l1)>=len(l2):\n",
    "    for i in range(0, len(l1)):\n",
    "        if (l1[i] in l2) and (l1[i] not in bendri) :\n",
    "            bendri.append(l1[i])\n",
    "else:\n",
    "    for i in range(0, len(l2)):\n",
    "        if (l2[i] in l1)  and (l2[i] not in bendri):\n",
    "            bendri.append(l2[i])\n",
    "\n",
    "#ats=set(bendri)\n",
    "\n",
    "print(l1)\n",
    "print(l2)\n",
    "print(bendri)\n",
    "#print(ats)"
   ]
  },
  {
   "cell_type": "code",
   "execution_count": null,
   "metadata": {},
   "outputs": [],
   "source": [
    "# Parašykite kodą, kuris sukurtų tekstinį failą iš trijų stulpelių.\n",
    "# Pirmąjame stulpelyje skaičiai nuo 1 iki 25-kių, antrame - atsitiktiniai skaičiau - ribos 10 - 1000,\n",
    "# trečiame stulpelyje - atsitiktiniai skaičiai tarp 1 ir 10, tačiau - float tipo, turintys 4turis ženklus\n",
    "# po kablelio\n",
    "# stulpeliai atskirti viens nuo kito ;\n",
    "# Pavyzdys, kas maždaug turi gautis:\n",
    "1;25;1.4567\n",
    "2;42;7.5213\n",
    "# ir maždaug taip toliau"
   ]
  }
 ],
 "metadata": {
  "kernelspec": {
   "display_name": "Python 3",
   "language": "python",
   "name": "python3"
  },
  "language_info": {
   "codemirror_mode": {
    "name": "ipython",
    "version": 3
   },
   "file_extension": ".py",
   "mimetype": "text/x-python",
   "name": "python",
   "nbconvert_exporter": "python",
   "pygments_lexer": "ipython3",
   "version": "3.12.4"
  }
 },
 "nbformat": 4,
 "nbformat_minor": 2
}
