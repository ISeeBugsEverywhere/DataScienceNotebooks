{
 "cells": [
  {
   "cell_type": "code",
   "execution_count": 6,
   "metadata": {},
   "outputs": [
    {
     "name": "stdout",
     "output_type": "stream",
     "text": [
      "[0, 1, 2, 3, 4, 5, 6, 7, 8, 9]\n",
      "[0, 3, 6, 9, 12, 15, 18, 21, 24, 27]\n"
     ]
    }
   ],
   "source": [
    "x = [*range(10)]\n",
    "\n",
    "#sk=float(input('iveskite skaiciu'))\n",
    "sk=3\n",
    "\n",
    "y=[i*sk for i in x]\n",
    "\n",
    "print(x)\n",
    "print(y)"
   ]
  },
  {
   "cell_type": "code",
   "execution_count": 32,
   "metadata": {},
   "outputs": [
    {
     "name": "stdout",
     "output_type": "stream",
     "text": [
      "('19 500', '2 700', '13 490', '14 650', '38 000', '1 200', '8 000', '11 990', '16 190', '16 490')\n",
      "[19500.0, 2700.0, 13490.0, 14650.0, 38000.0, 1200.0, 8000.0, 11990.0, 16190.0, 16490.0]\n"
     ]
    }
   ],
   "source": [
    "a = ('19 500', '2 700', '13 490', '14 650', '38 000', '1 200', '8 000', '11 990', '16 190', '16 490')\n",
    "\n",
    "b= [float(i.replace(\"'\", \"\").replace(' ','')) for i in a]\n",
    "\n",
    "\n",
    "\n",
    "print(a)\n",
    "print(b)\n"
   ]
  },
  {
   "cell_type": "code",
   "execution_count": 37,
   "metadata": {},
   "outputs": [
    {
     "name": "stdout",
     "output_type": "stream",
     "text": [
      "['BMW', 'MIT', 'SEA', 'SKO', 'VOL', 'AUD', 'DAC', 'SKO', 'BMW', 'VOL']\n"
     ]
    }
   ],
   "source": [
    "a = ('BMW', 'Mitsubishi', 'Seat', 'Skoda', 'Volvo', 'Audi', 'Dacia', 'Skoda', 'BMW', 'Volkswagen')\n",
    "\n",
    "b= [i.replace(\"'\",\"\").upper()[0:3] for i in a]\n",
    "\n",
    "print(b)"
   ]
  },
  {
   "cell_type": "code",
   "execution_count": 101,
   "metadata": {},
   "outputs": [
    {
     "name": "stdout",
     "output_type": "stream",
     "text": [
      "['4999', '2378', '1598', '1798', '1969', '1760', '1461', '1600', '2000', '1600']\n",
      "['507', '160', '95', '179', '235', '88', '107', '116', '163', '120']\n",
      "['373', '118', '70', '132', '173', '65', '79', '85', '120', '88']\n"
     ]
    }
   ],
   "source": [
    "# 4 uzduotis +\n",
    "\n",
    "a=('4999 cm³, 507 AG (373kW)', '2378 cm³, 160 AG (118kW)', '1598 cm³, 95 AG (70kW)', '1798 cm³, 179 AG (132kW)', '1969 cm³, 235 AG (173kW)', '1760 cm³, 88 AG (65kW)', '1461 cm³, 107 AG (79kW)', '1600 cm³, 116 AG (85kW)', '2000 cm³, 163 AG (120kW)', '1600 cm³, 120 AG (88kW)')\n",
    "\n",
    "sp=[a[i].split() for i in range(0, len(a))]\n",
    "turis=[i[0] for i in sp]\n",
    "ag = [i[2] for i in sp]\n",
    "kw=[i[4].replace('(','').replace(')', '').replace('kW', '') for i in sp]\n",
    "\n",
    "print(turis)\n",
    "print(ag)\n",
    "print(kw)"
   ]
  },
  {
   "cell_type": "code",
   "execution_count": null,
   "metadata": {},
   "outputs": [],
   "source": []
  },
  {
   "cell_type": "code",
   "execution_count": 77,
   "metadata": {},
   "outputs": [
    {
     "name": "stdout",
     "output_type": "stream",
     "text": [
      "48.957142857142856\n",
      "8.040000000000001\n"
     ]
    }
   ],
   "source": [
    "#5 uzduotis +\n",
    "\n",
    "list=[1, 2, 310, 5.3, 7, 8, 9.4]\n",
    "tuple=(5, 8, 9.5, 14, 3.7)\n",
    "\n",
    "def vidurkis(a):\n",
    "    return sum(a)/len(a)\n",
    "\n",
    "print(vidurkis(list))\n",
    "print(vidurkis(tuple))\n"
   ]
  },
  {
   "cell_type": "code",
   "execution_count": 80,
   "metadata": {},
   "outputs": [
    {
     "name": "stdout",
     "output_type": "stream",
     "text": [
      "[6, 2, 2, 6, 8, 7, 9, 5, 10, 13, 7, 1, 8, 5, 5, 7, 1, 7, 10, 7, 9, 9, 10, 5, 5, 9, 7, 10, 6, 8, 5, 12, 8, 7, 4, 2, 8, 10, 10, 8, 9, 8, 8, 5, 5, 4, 2, 9]\n"
     ]
    }
   ],
   "source": [
    "# 6 uzduotis +\n",
    "\n",
    "t = '''Liepos 19 d. UNESCO pasaulio paveldu tapusiame Kauno modernizmo architektūros objekte –\n",
    "Lietuvos banko Kauno rūmuose į muzikos meditaciją pakvies vokalinis ansamblis „Duodeco“. Pirmą\n",
    "kartą Pažaislio muzikos festivalis rengia koncertą šioje nepaprastoje erdvėje, kurioje 2019 m.\n",
    "suburtas kolektyvas festivalio publikai pristatys muzikinę programą „More Sweet Than My Refrain“.'''\n",
    "\n",
    "txt=t.split()\n",
    "\n",
    "a=[len(txt[i]) for i in range(0, len(txt))]\n",
    "\n",
    "\n",
    "print(a)"
   ]
  },
  {
   "cell_type": "code",
   "execution_count": 82,
   "metadata": {},
   "outputs": [
    {
     "name": "stdout",
     "output_type": "stream",
     "text": [
      "['Naktis', 'Diena', 'Vakaras', 'Diena', 'Naktis', 'Diena', 'Diena', 'Naktis', 'Naktis', 'Vakaras', 'Naktis', 'Diena', 'Naktis', 'Naktis', 'Diena', 'Diena', 'Vakaras', 'Vakaras', 'Diena', 'Naktis', 'Diena', 'Diena', 'Naktis', 'Naktis', 'Vakaras', 'Vakaras', 'Diena', 'Naktis', 'Vakaras', 'Diena', 'Vakaras', 'Naktis', 'Rytas', 'Naktis', 'Naktis', 'Naktis', 'Diena', 'Diena', 'Naktis', 'Diena', 'Diena', 'Diena', 'Vakaras', 'Vakaras', 'Naktis', 'Vakaras', 'Naktis', 'Diena', 'Naktis', 'Vakaras', 'Naktis', 'Rytas', 'Naktis', 'Vakaras', 'Diena', 'Naktis', 'Diena', 'Naktis', 'Vakaras', 'Rytas', 'Vakaras', 'Vakaras', 'Diena', 'Diena', 'Naktis', 'Vakaras', 'Diena', 'Rytas', 'Naktis', 'Diena', 'Naktis', 'Naktis']\n"
     ]
    }
   ],
   "source": [
    "#7 uzduotis + \n",
    "\n",
    "fx = [23, 15, 19, 12, 4, 16, 17, 5, 2, 20, 3, 17, 22, 18, 11, 14, 21, 21, 11, 22, 16, 13, 4, 10, 21, 21, 11, 10, 21, 14, 19, 3, 7, 2, 22, 1, 17, 14, 23, 17, 15, 15, 19, 21, 10, 19, 4, 11, 22, 21, 4, 7, 5, 21, 12, 10, 15, 2, 21, 7, 19, 21, 15, 15, 5, 20, 14, 9, 5, 11, 4, 5]\n",
    "\n",
    "a=['Rytas' if fx[i]>6 and fx[i] < 10 else 'Diena' if fx[i] > 10 and fx[i]<18 else 'Vakaras' if fx[i] <22 and fx[i] > 18 else 'Naktis' for i in range(0, len(fx))]\n",
    "\n",
    "print(a)"
   ]
  },
  {
   "cell_type": "code",
   "execution_count": 83,
   "metadata": {},
   "outputs": [
    {
     "data": {
      "text/plain": [
       "('BMW', '253 000 km', '19 500', '4999 cm³, 507 AG (373kW)', 'Benzinas')"
      ]
     },
     "execution_count": 83,
     "metadata": {},
     "output_type": "execute_result"
    }
   ],
   "source": [
    "# 8 uzduotis - \n",
    "\n",
    "dm=[('BMW', '253 000 km', '19 500', '4999 cm³, 507 AG (373kW)', 'Benzinas'), ('Mitsubishi', '195 405 km', '2 700', '2378 cm³, 160 AG (118kW)', 'Benzinas'), ('Seat', '129 800 km', '13 490', '1598 cm³, 95 AG (70kW)', 'Dyzelinas'), ('Skoda', '183 000 km', '14 650', '1798 cm³, 179 AG (132kW)', 'Benzinas'), ('Volvo', '127 896 km', '38 000', '1969 cm³, 235 AG (173kW)', 'Dyzelinas')]\n",
    "\n",
    "dm[0]\n",
    "\n"
   ]
  },
  {
   "cell_type": "code",
   "execution_count": 86,
   "metadata": {},
   "outputs": [
    {
     "name": "stdout",
     "output_type": "stream",
     "text": [
      "[10, 12, 13, 15, 10.7, 14.12]\n",
      "[0, 2, 3, 5, 0.7, 4.12]\n",
      "[25, 35, 40, 50, 28.5, 45.6]\n"
     ]
    }
   ],
   "source": [
    "#9 uzduotis +\n",
    "\n",
    "x=[5, 7, 8, 10, 5.7, 9.12]\n",
    "d=5\n",
    "\n",
    "def suma(y, a):\n",
    "    return [round(y[i]+a,2) for i in range(0, len(y))]\n",
    "\n",
    "def skirtumas(y, a):\n",
    "    return [round(y[i]-a,2) for i in range(0, len(y))]\n",
    "\n",
    "def sandauga(y, a):\n",
    "    return [round(y[i]*a, 2) for i in range(0, len(y))]\n",
    "    \n",
    "\n",
    "print(suma(x, d))\n",
    "print(skirtumas(x, d))\n",
    "print(sandauga(x, d))\n",
    "\n"
   ]
  },
  {
   "cell_type": "code",
   "execution_count": 106,
   "metadata": {},
   "outputs": [
    {
     "name": "stdout",
     "output_type": "stream",
     "text": [
      "pirmas blynas\n",
      "ėžčę !\n",
      "15\n",
      "15a a 5 14\n"
     ]
    }
   ],
   "source": [
    "failo_vardas = 'pb1.txt'\n",
    "\n",
    "failas = open(failo_vardas, mode='r', encoding='utf-8')\n",
    "\n",
    "turinys = failas.read()\n",
    "\n",
    "\n",
    "failas.close()\n",
    "\n",
    "print(turinys)"
   ]
  },
  {
   "cell_type": "code",
   "execution_count": 107,
   "metadata": {},
   "outputs": [
    {
     "name": "stdout",
     "output_type": "stream",
     "text": [
      "['pirmas blynas\\n', 'ėžčę !\\n', '15\\n', '15a a 5 14']\n"
     ]
    }
   ],
   "source": [
    "failo_vardas = 'pb1.txt'\n",
    "\n",
    "failas = open(failo_vardas, mode='r', encoding='utf-8')\n",
    "\n",
    "turinys = failas.readlines()\n",
    "\n",
    "\n",
    "failas.close()\n",
    "\n",
    "print(turinys)"
   ]
  },
  {
   "cell_type": "code",
   "execution_count": 111,
   "metadata": {},
   "outputs": [
    {
     "name": "stdout",
     "output_type": "stream",
     "text": [
      "['1,2\\n', '3,4\\n', '5,6\\n', '7,8']\n",
      "3.0\n",
      "7.0\n",
      "11.0\n",
      "15.0\n"
     ]
    }
   ],
   "source": [
    "failo_vardas = 'pb1.txt'\n",
    "\n",
    "failas = open(failo_vardas, mode='r', encoding='utf-8')\n",
    "\n",
    "turinys = failas.readlines()\n",
    "\n",
    "\n",
    "failas.close()\n",
    "\n",
    "print(turinys)\n",
    "\n",
    "for eil in turinys:\n",
    "    x, y = eil.split(',')\n",
    "    c=float(x) + float(y)\n",
    "    print(c)"
   ]
  },
  {
   "cell_type": "code",
   "execution_count": 114,
   "metadata": {},
   "outputs": [],
   "source": [
    "failo_vardas='pb2.txt'\n",
    "failas= open(failo_vardas, mode='w', encoding='utf-8')\n",
    "\n",
    "failas.write('noriu miego')\n",
    "failas.write('asd\\n')\n",
    "failas.write('asdada')\n",
    "failas.write('adad')\n",
    "\n",
    "failas.close()"
   ]
  },
  {
   "cell_type": "code",
   "execution_count": 119,
   "metadata": {},
   "outputs": [
    {
     "name": "stdout",
     "output_type": "stream",
     "text": [
      "['1.25,2.28\\n', '3.33,4.421\\n', '5,6.67\\n', '7,8.01']\n",
      "4.145\n",
      "5.34525\n"
     ]
    }
   ],
   "source": [
    "failo_vardas = 'pb1.txt'\n",
    "\n",
    "failas = open(failo_vardas, mode='r', encoding='utf-8')\n",
    "\n",
    "turinys = failas.readlines()\n",
    "\n",
    "\n",
    "failas.close()\n",
    "\n",
    "print(turinys)\n",
    "\n",
    "vid1=0\n",
    "vid2 =0\n",
    "\n",
    "for eil in turinys:\n",
    "\n",
    "    x, y = eil.split(',')\n",
    "    vid1=vid1+float(x)\n",
    "    vid2=vid2+float(y)\n",
    "    \n",
    "print(vid1/len(turinys))\n",
    "print(vid2/len(turinys))"
   ]
  }
 ],
 "metadata": {
  "kernelspec": {
   "display_name": "Python 3",
   "language": "python",
   "name": "python3"
  },
  "language_info": {
   "codemirror_mode": {
    "name": "ipython",
    "version": 3
   },
   "file_extension": ".py",
   "mimetype": "text/x-python",
   "name": "python",
   "nbconvert_exporter": "python",
   "pygments_lexer": "ipython3",
   "version": "3.12.4"
  }
 },
 "nbformat": 4,
 "nbformat_minor": 2
}
