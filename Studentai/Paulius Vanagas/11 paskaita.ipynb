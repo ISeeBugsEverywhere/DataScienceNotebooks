{
 "cells": [
  {
   "cell_type": "code",
   "execution_count": 4,
   "metadata": {},
   "outputs": [
    {
     "name": "stdout",
     "output_type": "stream",
     "text": [
      " ‾|\n",
      "  ‾|\n",
      "   ‾|\n",
      "    ‾|\n",
      "     ‾|\n"
     ]
    }
   ],
   "source": [
    "def laiptai(sk):\n",
    "    a=0\n",
    "    for i in range(0, sk):\n",
    "        print(' '*a, '‾|')\n",
    "        a+=1\n",
    "\n",
    "skaicius=5 #int(input('iveskite naturaluji skaiciu'))\n",
    "laiptai(skaicius)"
   ]
  },
  {
   "cell_type": "code",
   "execution_count": 53,
   "metadata": {},
   "outputs": [
    {
     "name": "stdout",
     "output_type": "stream",
     "text": [
      "['12', '34', '56', '78', '9_']\n"
     ]
    }
   ],
   "source": [
    "def skaidome(st):\n",
    "    ats=[]\n",
    "    iki=0\n",
    "    nelyg=False\n",
    "    \n",
    "    if len(st)%2==0:\n",
    "        iki=int(len(st)/2)\n",
    "    else:\n",
    "        iki=int(len(st)/2+1)\n",
    "        nelyg=True\n",
    "        \n",
    "    for i in range(0, iki):\n",
    "        ats.append(st[0:2])\n",
    "        st=st[2:]\n",
    "    \n",
    "    if nelyg:\n",
    "        ats[-1]=ats[-1]+'_'\n",
    "\n",
    "    return ats\n",
    "    \n",
    "tekstas='123456789'\n",
    "susk_tekst=skaidome(tekstas)\n",
    "print(susk_tekst)\n"
   ]
  },
  {
   "cell_type": "code",
   "execution_count": 52,
   "metadata": {},
   "outputs": [
    {
     "name": "stdout",
     "output_type": "stream",
     "text": [
      "[0, 1, 153, 370, 371, 407]\n"
     ]
    }
   ],
   "source": [
    "def ieskomkubiniuskaiciu(nuo, iki):\n",
    "    ats=[]\n",
    "    \n",
    "    for i in range(nuo, iki+1):\n",
    "        sk=i\n",
    "        suma=0\n",
    "        while sk>0:\n",
    "            liekana=sk%10\n",
    "            sk=int(sk/10)\n",
    "            suma+=liekana**3\n",
    "        if suma == i:\n",
    "            ats.append(i)\n",
    "    \n",
    "    return ats\n",
    "    \n",
    "print(ieskomkubiniuskaiciu(0, 10000))"
   ]
  },
  {
   "cell_type": "code",
   "execution_count": 61,
   "metadata": {},
   "outputs": [
    {
     "name": "stdout",
     "output_type": "stream",
     "text": [
      "18533628436640627444187351115475975146235345342616837991728446699313424515164441843631356976577280161224973041560032825862145530736845332437019246477121943035194151209767743337298731507518119531797633957890520355380922297792327382275132073599329370524729930540116779543340977872731598857542482\n"
     ]
    }
   ],
   "source": [
    "# duota skaičių eilutė.\n",
    "# rasti joje visus skaičius, kurie yra lygūs savo \n",
    "# skaitmenų, pakeltų laipsniu 4, arba 5, sumai.\n",
    "# netirkinti skaičių, didesnių nei 10 000.\n",
    "\n",
    "import numpy as np\n",
    "r = np.random.randint(0,1000,100).tolist()\n",
    "r = ''.join([str(i) for i in r])\n",
    "r=int(r)\n",
    "print(r)\n",
    "\n",
    "def zaidziam(eil):\n",
    "    ats=[]\n",
    "    suma4=0\n",
    "    suma5=0\n",
    "    s1=0\n",
    "    s2=0\n",
    "    s3=0\n",
    "    s4=0\n",
    "    \n",
    "    while eil>1:\n",
    "        s1=eil%10\n",
    "        \n",
    "        s2=eil%100\n",
    "        s3=eil%1000\n",
    "        s4=eil%10000\n",
    "        \n",
    "\n",
    "zaidziam(r)"
   ]
  },
  {
   "cell_type": "code",
   "execution_count": 64,
   "metadata": {},
   "outputs": [
    {
     "name": "stdout",
     "output_type": "stream",
     "text": [
      "12\n"
     ]
    }
   ],
   "source": [
    "m=123//10\n",
    "print(m)"
   ]
  },
  {
   "cell_type": "code",
   "execution_count": 72,
   "metadata": {},
   "outputs": [
    {
     "name": "stdout",
     "output_type": "stream",
     "text": [
      "plotas  20\n",
      "perimetras  18\n"
     ]
    }
   ],
   "source": [
    "class Rectangle():\n",
    "    def __init__(self, a, b):\n",
    "        self.S=a*b\n",
    "        self.a=a\n",
    "        self.b=b\n",
    "    \n",
    "    def perimetras(self):\n",
    "        return 2*(self.a+self.b)\n",
    "\n",
    "keturkampis=Rectangle(4, 5)\n",
    "print('plotas ', keturkampis.S)\n",
    "print('perimetras ',keturkampis.perimetras())"
   ]
  },
  {
   "cell_type": "code",
   "execution_count": 81,
   "metadata": {},
   "outputs": [
    {
     "name": "stdout",
     "output_type": "stream",
     "text": [
      "6.777777777777778\n",
      "10\n",
      "3\n",
      "4.392857142857142\n"
     ]
    }
   ],
   "source": [
    "class Mokinys():\n",
    "    def __init__(self, vard, pavard, pazymiai):\n",
    "        self.v=vard\n",
    "        self.p=pavard\n",
    "        self.paz=pazymiai\n",
    "    def vidurkis(self):\n",
    "        return sum(self.paz)/len(self.paz)\n",
    "    def didziausias_pazymys(self):\n",
    "        self.did=0\n",
    "        for i in self.paz:\n",
    "            if i > self.did:\n",
    "                self.did=i\n",
    "        return self.did\n",
    "    def maziausias_pazymys(self):\n",
    "        self.maz=self.paz[0]\n",
    "        for i in self.paz:\n",
    "            if i < self.maz:\n",
    "                self.maz=i\n",
    "        return self.maz\n",
    "    \n",
    "class Abiturientas(Mokinys):\n",
    "    def bendras_vidurkis(self, npazymiai):\n",
    "        return (abi.vidurkis()+sum(npazymiai))/(1+len(npazymiai))\n",
    "    \n",
    "mok=Mokinys('Petras', 'Grybauskas', [10, 8, 7, 5, 10, 6, 3, 4, 8])\n",
    "print(mok.vidurkis())\n",
    "print(mok.didziausias_pazymys())\n",
    "print(mok.maziausias_pazymys())\n",
    "\n",
    "abi=Abiturientas('Vladislava', 'Apolonija', [8, 10, 6, 4, 5, 3, 3])\n",
    "print(abi.bendras_vidurkis([4, 4, 4]))"
   ]
  },
  {
   "cell_type": "code",
   "execution_count": 89,
   "metadata": {},
   "outputs": [
    {
     "name": "stdout",
     "output_type": "stream",
     "text": [
      "[<__main__.Mokinys object at 0x00000275AFB347A0>, <__main__.Mokinys object at 0x00000275AFADA750>, <__main__.Mokinys object at 0x00000275AFADA000>]\n",
      "[<__main__.Mokinys object at 0x00000275AFB347A0>, <__main__.Mokinys object at 0x00000275AFADA750>, <__main__.Mokinys object at 0x00000275AFADA000>]\n"
     ]
    }
   ],
   "source": [
    "class Mokykla():\n",
    "    def __init__(self, mokiniu_sarasas):\n",
    "        self.ms = mokiniu_sarasas\n",
    "\n",
    "    def prideti_mokini(self, naujas_mokinys):\n",
    "        return self.ms + naujas_mokinys\n",
    "    \n",
    "mokiniai=[Mokinys('P1', 'G1', [10, 8, 7, 5, 10, 6]), Mokinys('P2', 'G2', [10, 8, 7]), Mokinys('P3', 'G3', [5, 5, 5])]\n",
    "print(mokiniai)\n",
    "mok=Mokykla(mokiniai)\n",
    "print(mok.ms)"
   ]
  }
 ],
 "metadata": {
  "kernelspec": {
   "display_name": "Python 3",
   "language": "python",
   "name": "python3"
  },
  "language_info": {
   "codemirror_mode": {
    "name": "ipython",
    "version": 3
   },
   "file_extension": ".py",
   "mimetype": "text/x-python",
   "name": "python",
   "nbconvert_exporter": "python",
   "pygments_lexer": "ipython3",
   "version": "3.12.4"
  }
 },
 "nbformat": 4,
 "nbformat_minor": 2
}
