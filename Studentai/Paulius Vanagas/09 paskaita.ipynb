{
 "cells": [
  {
   "cell_type": "code",
   "execution_count": 9,
   "metadata": {},
   "outputs": [
    {
     "name": "stdout",
     "output_type": "stream",
     "text": [
      "('zodis', 'nėra polindromas')\n",
      "('savas', 'yra polindromas')\n",
      "('123 321', 'yra polindromas')\n",
      "('123421', 'nėra polindromas')\n",
      "('sėdėk užu kėdės', 'yra polindromas')\n"
     ]
    }
   ],
   "source": [
    "\n",
    "def ar_palindromas(txt):\n",
    "    txt=txt.lower().replace('-','') # kažką su tuo \"-\" reikia daryti\n",
    "    txt1=txt[::-1]\n",
    "    \n",
    "    if len(txt1)>1 and txt1 == txt:\n",
    "        return (txt, 'yra polindromas')\n",
    "    else:\n",
    "        return(txt, 'nėra polindromas')\n",
    "\n",
    "\n",
    "\n",
    "print(ar_palindromas('zodis'))\n",
    "print(ar_palindromas('sA-vas'))\n",
    "print(ar_palindromas('123 321'))\n",
    "print(ar_palindromas('123421'))\n",
    "print(ar_palindromas('sėdėk užu kėdės'))\n"
   ]
  },
  {
   "cell_type": "code",
   "execution_count": 22,
   "metadata": {},
   "outputs": [
    {
     "data": {
      "text/plain": [
       "False"
      ]
     },
     "execution_count": 22,
     "metadata": {},
     "output_type": "execute_result"
    }
   ],
   "source": [
    "def is_pal(x):\n",
    "    r = str(x).lower().replace('-','')\n",
    "    p = r == r[::-1] if len(r) > 1 else False\n",
    "    return p\n",
    "\n",
    "is_pal('Hanahf')"
   ]
  },
  {
   "cell_type": "code",
   "execution_count": 40,
   "metadata": {},
   "outputs": [
    {
     "name": "stdout",
     "output_type": "stream",
     "text": [
      "5.6749\n",
      "Of\n"
     ]
    }
   ],
   "source": [
    "def arit_vid(*arg):\n",
    "    list=[]\n",
    "    for i in range(0, len(arg)):\n",
    "        try:\n",
    "            float(arg[i])\n",
    "            list.append(float(arg[i]))\n",
    "        except ValueError:\n",
    "            return ('Of') \n",
    "    \n",
    "    return round(sum(list)/len(list), 4)\n",
    "    \n",
    "    \n",
    "print(arit_vid('8', '5', '8.112233', '1.58755'))    \n",
    "print(arit_vid('8', '5', '8.112233', '1.58755', 'a'))"
   ]
  },
  {
   "cell_type": "code",
   "execution_count": 42,
   "metadata": {},
   "outputs": [
    {
     "name": "stdout",
     "output_type": "stream",
     "text": [
      "5.6749\n",
      "Of\n"
     ]
    }
   ],
   "source": [
    "def arit_vid(*arg):\n",
    "    list=[]\n",
    "    for i in arg:\n",
    "        try:\n",
    "            float(i)\n",
    "            list.append(float(i))\n",
    "        except ValueError:\n",
    "            return ('Of') \n",
    "    \n",
    "    return round(sum(list)/len(list), 4)\n",
    "    \n",
    "    \n",
    "print(arit_vid(8, '5', '8.112233', '1.58755'))    \n",
    "print(arit_vid(8, '5', '8.112233', '1.58755', 'a'))"
   ]
  },
  {
   "cell_type": "code",
   "execution_count": 43,
   "metadata": {},
   "outputs": [
    {
     "data": {
      "text/plain": [
       "'0f'"
      ]
     },
     "execution_count": 43,
     "metadata": {},
     "output_type": "execute_result"
    }
   ],
   "source": [
    "def avg(*args):\n",
    "    s = '0f'\n",
    "    try:\n",
    "        f = [float(i) for i in args]\n",
    "        s = round(sum(f)/len(f), 4)\n",
    "    except:\n",
    "        s = '0f'\n",
    "    return s\n",
    "\n",
    "avg(1,2,'3', 'g')"
   ]
  }
 ],
 "metadata": {
  "kernelspec": {
   "display_name": "Python 3",
   "language": "python",
   "name": "python3"
  },
  "language_info": {
   "codemirror_mode": {
    "name": "ipython",
    "version": 3
   },
   "file_extension": ".py",
   "mimetype": "text/x-python",
   "name": "python",
   "nbconvert_exporter": "python",
   "pygments_lexer": "ipython3",
   "version": "3.12.4"
  }
 },
 "nbformat": 4,
 "nbformat_minor": 2
}
