{
 "cells": [
  {
   "cell_type": "code",
   "execution_count": 1,
   "metadata": {},
   "outputs": [],
   "source": [
    "import pandas as pd\n",
    "import numpy as np\n",
    "import matplotlib.pyplot as plt\n",
    "import mysql.connector as cnt"
   ]
  },
  {
   "cell_type": "code",
   "execution_count": 2,
   "metadata": {},
   "outputs": [
    {
     "name": "stdout",
     "output_type": "stream",
     "text": [
      "Empty DataFrame\n",
      "Columns: []\n",
      "Index: []\n"
     ]
    }
   ],
   "source": [
    "df = pd.DataFrame()\n",
    "print(df)"
   ]
  },
  {
   "cell_type": "code",
   "execution_count": 3,
   "metadata": {},
   "outputs": [
    {
     "name": "stdout",
     "output_type": "stream",
     "text": [
      "   A\n",
      "0  7\n",
      "1  9\n",
      "2  3\n",
      "3  6\n",
      "4  3\n"
     ]
    }
   ],
   "source": [
    "duomenys = np.random.randint(1, 10, 5)\n",
    "# naujo stulpelio ir duomenu pridejimas\n",
    "df['A']=duomenys\n",
    "print(df)"
   ]
  },
  {
   "cell_type": "code",
   "execution_count": 11,
   "metadata": {},
   "outputs": [
    {
     "name": "stdout",
     "output_type": "stream",
     "text": [
      "   A  B\n",
      "0  7  9\n",
      "1  9  9\n",
      "2  3  9\n",
      "3  6  6\n",
      "4  3  8\n"
     ]
    }
   ],
   "source": [
    "duomenysB = np.random.randint(5, 10, 5)\n",
    "df['B']=duomenysB\n",
    "print(df)"
   ]
  },
  {
   "cell_type": "code",
   "execution_count": 5,
   "metadata": {},
   "outputs": [
    {
     "name": "stdout",
     "output_type": "stream",
     "text": [
      "<class 'pandas.core.frame.DataFrame'>\n",
      "RangeIndex: 5 entries, 0 to 4\n",
      "Data columns (total 2 columns):\n",
      " #   Column  Non-Null Count  Dtype\n",
      "---  ------  --------------  -----\n",
      " 0   A       5 non-null      int32\n",
      " 1   B       5 non-null      int32\n",
      "dtypes: int32(2)\n",
      "memory usage: 172.0 bytes\n"
     ]
    }
   ],
   "source": [
    "# duomenu apzvalga:\n",
    "df.info()"
   ]
  },
  {
   "cell_type": "code",
   "execution_count": 13,
   "metadata": {},
   "outputs": [
    {
     "data": {
      "text/html": [
       "<div>\n",
       "<style scoped>\n",
       "    .dataframe tbody tr th:only-of-type {\n",
       "        vertical-align: middle;\n",
       "    }\n",
       "\n",
       "    .dataframe tbody tr th {\n",
       "        vertical-align: top;\n",
       "    }\n",
       "\n",
       "    .dataframe thead th {\n",
       "        text-align: right;\n",
       "    }\n",
       "</style>\n",
       "<table border=\"1\" class=\"dataframe\">\n",
       "  <thead>\n",
       "    <tr style=\"text-align: right;\">\n",
       "      <th></th>\n",
       "      <th>A</th>\n",
       "      <th>B</th>\n",
       "    </tr>\n",
       "  </thead>\n",
       "  <tbody>\n",
       "    <tr>\n",
       "      <th>0</th>\n",
       "      <td>7</td>\n",
       "      <td>9</td>\n",
       "    </tr>\n",
       "    <tr>\n",
       "      <th>1</th>\n",
       "      <td>9</td>\n",
       "      <td>9</td>\n",
       "    </tr>\n",
       "  </tbody>\n",
       "</table>\n",
       "</div>"
      ],
      "text/plain": [
       "   A  B\n",
       "0  7  9\n",
       "1  9  9"
      ]
     },
     "execution_count": 13,
     "metadata": {},
     "output_type": "execute_result"
    }
   ],
   "source": [
    "df.head(2)"
   ]
  },
  {
   "cell_type": "code",
   "execution_count": 14,
   "metadata": {},
   "outputs": [
    {
     "data": {
      "text/html": [
       "<div>\n",
       "<style scoped>\n",
       "    .dataframe tbody tr th:only-of-type {\n",
       "        vertical-align: middle;\n",
       "    }\n",
       "\n",
       "    .dataframe tbody tr th {\n",
       "        vertical-align: top;\n",
       "    }\n",
       "\n",
       "    .dataframe thead th {\n",
       "        text-align: right;\n",
       "    }\n",
       "</style>\n",
       "<table border=\"1\" class=\"dataframe\">\n",
       "  <thead>\n",
       "    <tr style=\"text-align: right;\">\n",
       "      <th></th>\n",
       "      <th>A</th>\n",
       "      <th>B</th>\n",
       "    </tr>\n",
       "  </thead>\n",
       "  <tbody>\n",
       "    <tr>\n",
       "      <th>2</th>\n",
       "      <td>3</td>\n",
       "      <td>9</td>\n",
       "    </tr>\n",
       "    <tr>\n",
       "      <th>3</th>\n",
       "      <td>6</td>\n",
       "      <td>6</td>\n",
       "    </tr>\n",
       "    <tr>\n",
       "      <th>4</th>\n",
       "      <td>3</td>\n",
       "      <td>8</td>\n",
       "    </tr>\n",
       "  </tbody>\n",
       "</table>\n",
       "</div>"
      ],
      "text/plain": [
       "   A  B\n",
       "2  3  9\n",
       "3  6  6\n",
       "4  3  8"
      ]
     },
     "execution_count": 14,
     "metadata": {},
     "output_type": "execute_result"
    }
   ],
   "source": [
    "df.tail(3)"
   ]
  },
  {
   "cell_type": "code",
   "execution_count": 15,
   "metadata": {},
   "outputs": [
    {
     "name": "stdout",
     "output_type": "stream",
     "text": [
      "Index(['A', 'B'], dtype='object')\n"
     ]
    }
   ],
   "source": [
    "cols=df.columns\n",
    "print(cols)"
   ]
  },
  {
   "cell_type": "code",
   "execution_count": 16,
   "metadata": {},
   "outputs": [
    {
     "name": "stdout",
     "output_type": "stream",
     "text": [
      "A\n",
      "B\n"
     ]
    }
   ],
   "source": [
    "for i in cols:\n",
    "    print(i)"
   ]
  },
  {
   "cell_type": "code",
   "execution_count": 17,
   "metadata": {},
   "outputs": [
    {
     "name": "stdout",
     "output_type": "stream",
     "text": [
      "['A', 'B']\n"
     ]
    }
   ],
   "source": [
    "cols=list(df.columns)\n",
    "print(cols)"
   ]
  },
  {
   "cell_type": "code",
   "execution_count": 18,
   "metadata": {},
   "outputs": [
    {
     "data": {
      "text/html": [
       "<div>\n",
       "<style scoped>\n",
       "    .dataframe tbody tr th:only-of-type {\n",
       "        vertical-align: middle;\n",
       "    }\n",
       "\n",
       "    .dataframe tbody tr th {\n",
       "        vertical-align: top;\n",
       "    }\n",
       "\n",
       "    .dataframe thead th {\n",
       "        text-align: right;\n",
       "    }\n",
       "</style>\n",
       "<table border=\"1\" class=\"dataframe\">\n",
       "  <thead>\n",
       "    <tr style=\"text-align: right;\">\n",
       "      <th></th>\n",
       "      <th>svoris</th>\n",
       "      <th>stazas</th>\n",
       "      <th>darbo_laiko_dalis</th>\n",
       "      <th>evrk</th>\n",
       "      <th>im_dydzio_kodas</th>\n",
       "      <th>im_dydis</th>\n",
       "      <th>amzius</th>\n",
       "      <th>atostogu_dienos</th>\n",
       "      <th>sutarties_rusis</th>\n",
       "      <th>virsvalandziu_bdu</th>\n",
       "      <th>...</th>\n",
       "      <th>nuosavybe</th>\n",
       "      <th>bdu_val</th>\n",
       "      <th>nuts</th>\n",
       "      <th>vv_darb_sk</th>\n",
       "      <th>virsvalandziu_sk</th>\n",
       "      <th>premijos</th>\n",
       "      <th>bdu_spalio</th>\n",
       "      <th>priemokos</th>\n",
       "      <th>objectid</th>\n",
       "      <th>issilavinimas</th>\n",
       "    </tr>\n",
       "  </thead>\n",
       "  <tbody>\n",
       "    <tr>\n",
       "      <th>0</th>\n",
       "      <td>35.03</td>\n",
       "      <td>0</td>\n",
       "      <td>0.58</td>\n",
       "      <td>XL</td>\n",
       "      <td>0</td>\n",
       "      <td>1_49</td>\n",
       "      <td>20-29</td>\n",
       "      <td>0</td>\n",
       "      <td>A</td>\n",
       "      <td>0</td>\n",
       "      <td>...</td>\n",
       "      <td>B</td>\n",
       "      <td>6.0</td>\n",
       "      <td>LT</td>\n",
       "      <td>6</td>\n",
       "      <td>0</td>\n",
       "      <td>0</td>\n",
       "      <td>6.0</td>\n",
       "      <td>0</td>\n",
       "      <td>1</td>\n",
       "      <td>G4</td>\n",
       "    </tr>\n",
       "    <tr>\n",
       "      <th>1</th>\n",
       "      <td>2.39</td>\n",
       "      <td>0</td>\n",
       "      <td>0.54</td>\n",
       "      <td>XN</td>\n",
       "      <td>0</td>\n",
       "      <td>1_49</td>\n",
       "      <td>20-29</td>\n",
       "      <td>0</td>\n",
       "      <td>A</td>\n",
       "      <td>0</td>\n",
       "      <td>...</td>\n",
       "      <td>B</td>\n",
       "      <td>6.0</td>\n",
       "      <td>LT</td>\n",
       "      <td>12</td>\n",
       "      <td>0</td>\n",
       "      <td>0</td>\n",
       "      <td>6.0</td>\n",
       "      <td>0</td>\n",
       "      <td>2</td>\n",
       "      <td>G2</td>\n",
       "    </tr>\n",
       "  </tbody>\n",
       "</table>\n",
       "<p>2 rows × 32 columns</p>\n",
       "</div>"
      ],
      "text/plain": [
       "   svoris  stazas  darbo_laiko_dalis evrk  im_dydzio_kodas im_dydis amzius  \\\n",
       "0   35.03       0               0.58   XL                0     1_49  20-29   \n",
       "1    2.39       0               0.54   XN                0     1_49  20-29   \n",
       "\n",
       "   atostogu_dienos sutarties_rusis  virsvalandziu_bdu  ...  nuosavybe bdu_val  \\\n",
       "0                0               A                  0  ...          B     6.0   \n",
       "1                0               A                  0  ...          B     6.0   \n",
       "\n",
       "   nuts  vv_darb_sk  virsvalandziu_sk premijos  bdu_spalio priemokos  \\\n",
       "0    LT           6                 0        0         6.0         0   \n",
       "1    LT          12                 0        0         6.0         0   \n",
       "\n",
       "   objectid issilavinimas  \n",
       "0         1            G4  \n",
       "1         2            G2  \n",
       "\n",
       "[2 rows x 32 columns]"
      ]
     },
     "execution_count": 18,
     "metadata": {},
     "output_type": "execute_result"
    }
   ],
   "source": [
    "#duomenu nuskaitymas\n",
    "df14 = pd.read_csv('../../DATA/DUS2014.csv')\n",
    "df14.head(2)"
   ]
  },
  {
   "cell_type": "code",
   "execution_count": 19,
   "metadata": {},
   "outputs": [
    {
     "name": "stdout",
     "output_type": "stream",
     "text": [
      "0        G4\n",
      "1        G2\n",
      "2        G4\n",
      "3        G4\n",
      "4        G2\n",
      "         ..\n",
      "44947    G4\n",
      "44948    G4\n",
      "44949    G4\n",
      "44950    G4\n",
      "44951    G4\n",
      "Name: issilavinimas, Length: 44952, dtype: object\n"
     ]
    }
   ],
   "source": [
    "issilavinimas=df14['issilavinimas'] # cia Series objektas - visada 2 irasai\n",
    "print(issilavinimas)\n",
    "\n",
    "# stulpelis su eiluciu numeriais vadinamas indeksu, kitas stulpelis vadinasi vertes."
   ]
  },
  {
   "cell_type": "code",
   "execution_count": 20,
   "metadata": {},
   "outputs": [
    {
     "name": "stdout",
     "output_type": "stream",
     "text": [
      "RangeIndex(start=0, stop=44952, step=1)\n"
     ]
    }
   ],
   "source": [
    "# series objektui index ir values:\n",
    "indeksai = issilavinimas.index\n",
    "print(indeksai)"
   ]
  },
  {
   "cell_type": "code",
   "execution_count": 21,
   "metadata": {},
   "outputs": [
    {
     "name": "stdout",
     "output_type": "stream",
     "text": [
      "['G4' 'G2' 'G4' ... 'G4' 'G4' 'G4']\n"
     ]
    }
   ],
   "source": [
    "vertes = issilavinimas.values\n",
    "print(vertes)"
   ]
  },
  {
   "cell_type": "code",
   "execution_count": 22,
   "metadata": {},
   "outputs": [
    {
     "name": "stdout",
     "output_type": "stream",
     "text": [
      "['M' 'F' 'F' ... 'F' 'F' 'F']\n"
     ]
    }
   ],
   "source": [
    "lytis = df14['lytis'].values\n",
    "print(lytis)"
   ]
  },
  {
   "cell_type": "code",
   "execution_count": 24,
   "metadata": {},
   "outputs": [
    {
     "data": {
      "text/html": [
       "<div>\n",
       "<style scoped>\n",
       "    .dataframe tbody tr th:only-of-type {\n",
       "        vertical-align: middle;\n",
       "    }\n",
       "\n",
       "    .dataframe tbody tr th {\n",
       "        vertical-align: top;\n",
       "    }\n",
       "\n",
       "    .dataframe thead th {\n",
       "        text-align: right;\n",
       "    }\n",
       "</style>\n",
       "<table border=\"1\" class=\"dataframe\">\n",
       "  <thead>\n",
       "    <tr style=\"text-align: right;\">\n",
       "      <th></th>\n",
       "      <th>lytis</th>\n",
       "      <th>issilavinimas</th>\n",
       "      <th>amzius</th>\n",
       "      <th>bdu_spalio</th>\n",
       "      <th>profesija</th>\n",
       "    </tr>\n",
       "  </thead>\n",
       "  <tbody>\n",
       "    <tr>\n",
       "      <th>0</th>\n",
       "      <td>M</td>\n",
       "      <td>G4</td>\n",
       "      <td>20-29</td>\n",
       "      <td>6.00</td>\n",
       "      <td>261</td>\n",
       "    </tr>\n",
       "    <tr>\n",
       "      <th>1</th>\n",
       "      <td>F</td>\n",
       "      <td>G2</td>\n",
       "      <td>20-29</td>\n",
       "      <td>6.00</td>\n",
       "      <td>334</td>\n",
       "    </tr>\n",
       "    <tr>\n",
       "      <th>2</th>\n",
       "      <td>F</td>\n",
       "      <td>G4</td>\n",
       "      <td>40-49</td>\n",
       "      <td>6.00</td>\n",
       "      <td>221</td>\n",
       "    </tr>\n",
       "    <tr>\n",
       "      <th>3</th>\n",
       "      <td>F</td>\n",
       "      <td>G4</td>\n",
       "      <td>30-39</td>\n",
       "      <td>6.00</td>\n",
       "      <td>332</td>\n",
       "    </tr>\n",
       "    <tr>\n",
       "      <th>4</th>\n",
       "      <td>M</td>\n",
       "      <td>G2</td>\n",
       "      <td>40-49</td>\n",
       "      <td>11.33</td>\n",
       "      <td>962</td>\n",
       "    </tr>\n",
       "  </tbody>\n",
       "</table>\n",
       "</div>"
      ],
      "text/plain": [
       "  lytis issilavinimas amzius  bdu_spalio  profesija\n",
       "0     M            G4  20-29        6.00        261\n",
       "1     F            G2  20-29        6.00        334\n",
       "2     F            G4  40-49        6.00        221\n",
       "3     F            G4  30-39        6.00        332\n",
       "4     M            G2  40-49       11.33        962"
      ]
     },
     "execution_count": 24,
     "metadata": {},
     "output_type": "execute_result"
    }
   ],
   "source": [
    "df=df14[['lytis', 'issilavinimas', 'amzius', 'bdu_spalio', 'profesija']]\n",
    "df.head()"
   ]
  },
  {
   "cell_type": "code",
   "execution_count": 25,
   "metadata": {},
   "outputs": [
    {
     "name": "stdout",
     "output_type": "stream",
     "text": [
      "int64\n"
     ]
    }
   ],
   "source": [
    "import numpy as np\n",
    "print(np.int_().dtype)"
   ]
  },
  {
   "cell_type": "code",
   "execution_count": 29,
   "metadata": {},
   "outputs": [
    {
     "data": {
      "text/html": [
       "<div>\n",
       "<style scoped>\n",
       "    .dataframe tbody tr th:only-of-type {\n",
       "        vertical-align: middle;\n",
       "    }\n",
       "\n",
       "    .dataframe tbody tr th {\n",
       "        vertical-align: top;\n",
       "    }\n",
       "\n",
       "    .dataframe thead th {\n",
       "        text-align: right;\n",
       "    }\n",
       "</style>\n",
       "<table border=\"1\" class=\"dataframe\">\n",
       "  <thead>\n",
       "    <tr style=\"text-align: right;\">\n",
       "      <th></th>\n",
       "      <th>lytis</th>\n",
       "      <th>issilavinimas</th>\n",
       "      <th>amzius</th>\n",
       "      <th>bdu_spalio</th>\n",
       "      <th>profesija</th>\n",
       "    </tr>\n",
       "  </thead>\n",
       "  <tbody>\n",
       "    <tr>\n",
       "      <th>1</th>\n",
       "      <td>F</td>\n",
       "      <td>G2</td>\n",
       "      <td>20-29</td>\n",
       "      <td>6.00</td>\n",
       "      <td>334</td>\n",
       "    </tr>\n",
       "    <tr>\n",
       "      <th>2</th>\n",
       "      <td>F</td>\n",
       "      <td>G4</td>\n",
       "      <td>40-49</td>\n",
       "      <td>6.00</td>\n",
       "      <td>221</td>\n",
       "    </tr>\n",
       "    <tr>\n",
       "      <th>3</th>\n",
       "      <td>F</td>\n",
       "      <td>G4</td>\n",
       "      <td>30-39</td>\n",
       "      <td>6.00</td>\n",
       "      <td>332</td>\n",
       "    </tr>\n",
       "    <tr>\n",
       "      <th>7</th>\n",
       "      <td>F</td>\n",
       "      <td>G2</td>\n",
       "      <td>20-29</td>\n",
       "      <td>13.33</td>\n",
       "      <td>531</td>\n",
       "    </tr>\n",
       "    <tr>\n",
       "      <th>10</th>\n",
       "      <td>F</td>\n",
       "      <td>G3</td>\n",
       "      <td>40-49</td>\n",
       "      <td>10.00</td>\n",
       "      <td>334</td>\n",
       "    </tr>\n",
       "    <tr>\n",
       "      <th>...</th>\n",
       "      <td>...</td>\n",
       "      <td>...</td>\n",
       "      <td>...</td>\n",
       "      <td>...</td>\n",
       "      <td>...</td>\n",
       "    </tr>\n",
       "    <tr>\n",
       "      <th>44947</th>\n",
       "      <td>F</td>\n",
       "      <td>G4</td>\n",
       "      <td>50-59</td>\n",
       "      <td>3393.00</td>\n",
       "      <td>235</td>\n",
       "    </tr>\n",
       "    <tr>\n",
       "      <th>44948</th>\n",
       "      <td>F</td>\n",
       "      <td>G4</td>\n",
       "      <td>30-39</td>\n",
       "      <td>3639.67</td>\n",
       "      <td>233</td>\n",
       "    </tr>\n",
       "    <tr>\n",
       "      <th>44949</th>\n",
       "      <td>F</td>\n",
       "      <td>G4</td>\n",
       "      <td>50-59</td>\n",
       "      <td>3670.00</td>\n",
       "      <td>231</td>\n",
       "    </tr>\n",
       "    <tr>\n",
       "      <th>44950</th>\n",
       "      <td>F</td>\n",
       "      <td>G4</td>\n",
       "      <td>30-39</td>\n",
       "      <td>4212.00</td>\n",
       "      <td>231</td>\n",
       "    </tr>\n",
       "    <tr>\n",
       "      <th>44951</th>\n",
       "      <td>F</td>\n",
       "      <td>G4</td>\n",
       "      <td>40-49</td>\n",
       "      <td>4218.00</td>\n",
       "      <td>231</td>\n",
       "    </tr>\n",
       "  </tbody>\n",
       "</table>\n",
       "<p>22366 rows × 5 columns</p>\n",
       "</div>"
      ],
      "text/plain": [
       "      lytis issilavinimas amzius  bdu_spalio  profesija\n",
       "1         F            G2  20-29        6.00        334\n",
       "2         F            G4  40-49        6.00        221\n",
       "3         F            G4  30-39        6.00        332\n",
       "7         F            G2  20-29       13.33        531\n",
       "10        F            G3  40-49       10.00        334\n",
       "...     ...           ...    ...         ...        ...\n",
       "44947     F            G4  50-59     3393.00        235\n",
       "44948     F            G4  30-39     3639.67        233\n",
       "44949     F            G4  50-59     3670.00        231\n",
       "44950     F            G4  30-39     4212.00        231\n",
       "44951     F            G4  40-49     4218.00        231\n",
       "\n",
       "[22366 rows x 5 columns]"
      ]
     },
     "execution_count": 29,
     "metadata": {},
     "output_type": "execute_result"
    }
   ],
   "source": [
    "df[df['lytis'] == 'F']"
   ]
  },
  {
   "cell_type": "code",
   "execution_count": 30,
   "metadata": {},
   "outputs": [
    {
     "name": "stdout",
     "output_type": "stream",
     "text": [
      "      lytis issilavinimas amzius  bdu_spalio  profesija\n",
      "2         F            G4  40-49        6.00        221\n",
      "3         F            G4  30-39        6.00        332\n",
      "12        F            G4  30-39        6.00        241\n",
      "14        F            G4  50-59       17.00        263\n",
      "34        F            G4  40-49        9.67        121\n",
      "...     ...           ...    ...         ...        ...\n",
      "44947     F            G4  50-59     3393.00        235\n",
      "44948     F            G4  30-39     3639.67        233\n",
      "44949     F            G4  50-59     3670.00        231\n",
      "44950     F            G4  30-39     4212.00        231\n",
      "44951     F            G4  40-49     4218.00        231\n",
      "\n",
      "[5344 rows x 5 columns]\n"
     ]
    }
   ],
   "source": [
    "df_f=df[(df['lytis'] == 'F') & (df['issilavinimas']== 'G4')]\n",
    "print(df_f)"
   ]
  },
  {
   "cell_type": "code",
   "execution_count": 31,
   "metadata": {},
   "outputs": [
    {
     "data": {
      "text/plain": [
       "np.float64(2691.835)"
      ]
     },
     "execution_count": 31,
     "metadata": {},
     "output_type": "execute_result"
    }
   ],
   "source": [
    "df_f['bdu_spalio'].median()"
   ]
  },
  {
   "cell_type": "code",
   "execution_count": 32,
   "metadata": {},
   "outputs": [
    {
     "data": {
      "text/plain": [
       "np.float64(3039.6705276946113)"
      ]
     },
     "execution_count": 32,
     "metadata": {},
     "output_type": "execute_result"
    }
   ],
   "source": [
    "df_f['bdu_spalio'].mean()"
   ]
  },
  {
   "cell_type": "code",
   "execution_count": 33,
   "metadata": {},
   "outputs": [
    {
     "data": {
      "text/plain": [
       "np.float64(27242.67)"
      ]
     },
     "execution_count": 33,
     "metadata": {},
     "output_type": "execute_result"
    }
   ],
   "source": [
    "df_f['bdu_spalio'].max()"
   ]
  },
  {
   "cell_type": "code",
   "execution_count": 34,
   "metadata": {},
   "outputs": [
    {
     "data": {
      "text/html": [
       "<div>\n",
       "<style scoped>\n",
       "    .dataframe tbody tr th:only-of-type {\n",
       "        vertical-align: middle;\n",
       "    }\n",
       "\n",
       "    .dataframe tbody tr th {\n",
       "        vertical-align: top;\n",
       "    }\n",
       "\n",
       "    .dataframe thead th {\n",
       "        text-align: right;\n",
       "    }\n",
       "</style>\n",
       "<table border=\"1\" class=\"dataframe\">\n",
       "  <thead>\n",
       "    <tr style=\"text-align: right;\">\n",
       "      <th></th>\n",
       "      <th>lytis</th>\n",
       "      <th>issilavinimas</th>\n",
       "      <th>amzius</th>\n",
       "      <th>bdu_spalio</th>\n",
       "      <th>profesija</th>\n",
       "    </tr>\n",
       "  </thead>\n",
       "  <tbody>\n",
       "    <tr>\n",
       "      <th>1</th>\n",
       "      <td>F</td>\n",
       "      <td>G2</td>\n",
       "      <td>20-29</td>\n",
       "      <td>6.00</td>\n",
       "      <td>334</td>\n",
       "    </tr>\n",
       "    <tr>\n",
       "      <th>2</th>\n",
       "      <td>F</td>\n",
       "      <td>G4</td>\n",
       "      <td>40-49</td>\n",
       "      <td>6.00</td>\n",
       "      <td>221</td>\n",
       "    </tr>\n",
       "    <tr>\n",
       "      <th>3</th>\n",
       "      <td>F</td>\n",
       "      <td>G4</td>\n",
       "      <td>30-39</td>\n",
       "      <td>6.00</td>\n",
       "      <td>332</td>\n",
       "    </tr>\n",
       "    <tr>\n",
       "      <th>7</th>\n",
       "      <td>F</td>\n",
       "      <td>G2</td>\n",
       "      <td>20-29</td>\n",
       "      <td>13.33</td>\n",
       "      <td>531</td>\n",
       "    </tr>\n",
       "    <tr>\n",
       "      <th>10</th>\n",
       "      <td>F</td>\n",
       "      <td>G3</td>\n",
       "      <td>40-49</td>\n",
       "      <td>10.00</td>\n",
       "      <td>334</td>\n",
       "    </tr>\n",
       "    <tr>\n",
       "      <th>...</th>\n",
       "      <td>...</td>\n",
       "      <td>...</td>\n",
       "      <td>...</td>\n",
       "      <td>...</td>\n",
       "      <td>...</td>\n",
       "    </tr>\n",
       "    <tr>\n",
       "      <th>44947</th>\n",
       "      <td>F</td>\n",
       "      <td>G4</td>\n",
       "      <td>50-59</td>\n",
       "      <td>3393.00</td>\n",
       "      <td>235</td>\n",
       "    </tr>\n",
       "    <tr>\n",
       "      <th>44948</th>\n",
       "      <td>F</td>\n",
       "      <td>G4</td>\n",
       "      <td>30-39</td>\n",
       "      <td>3639.67</td>\n",
       "      <td>233</td>\n",
       "    </tr>\n",
       "    <tr>\n",
       "      <th>44949</th>\n",
       "      <td>F</td>\n",
       "      <td>G4</td>\n",
       "      <td>50-59</td>\n",
       "      <td>3670.00</td>\n",
       "      <td>231</td>\n",
       "    </tr>\n",
       "    <tr>\n",
       "      <th>44950</th>\n",
       "      <td>F</td>\n",
       "      <td>G4</td>\n",
       "      <td>30-39</td>\n",
       "      <td>4212.00</td>\n",
       "      <td>231</td>\n",
       "    </tr>\n",
       "    <tr>\n",
       "      <th>44951</th>\n",
       "      <td>F</td>\n",
       "      <td>G4</td>\n",
       "      <td>40-49</td>\n",
       "      <td>4218.00</td>\n",
       "      <td>231</td>\n",
       "    </tr>\n",
       "  </tbody>\n",
       "</table>\n",
       "<p>22366 rows × 5 columns</p>\n",
       "</div>"
      ],
      "text/plain": [
       "      lytis issilavinimas amzius  bdu_spalio  profesija\n",
       "1         F            G2  20-29        6.00        334\n",
       "2         F            G4  40-49        6.00        221\n",
       "3         F            G4  30-39        6.00        332\n",
       "7         F            G2  20-29       13.33        531\n",
       "10        F            G3  40-49       10.00        334\n",
       "...     ...           ...    ...         ...        ...\n",
       "44947     F            G4  50-59     3393.00        235\n",
       "44948     F            G4  30-39     3639.67        233\n",
       "44949     F            G4  50-59     3670.00        231\n",
       "44950     F            G4  30-39     4212.00        231\n",
       "44951     F            G4  40-49     4218.00        231\n",
       "\n",
       "[22366 rows x 5 columns]"
      ]
     },
     "execution_count": 34,
     "metadata": {},
     "output_type": "execute_result"
    }
   ],
   "source": [
    "df.query(expr='lytis == \"F\"')"
   ]
  },
  {
   "cell_type": "code",
   "execution_count": 35,
   "metadata": {},
   "outputs": [
    {
     "data": {
      "text/html": [
       "<div>\n",
       "<style scoped>\n",
       "    .dataframe tbody tr th:only-of-type {\n",
       "        vertical-align: middle;\n",
       "    }\n",
       "\n",
       "    .dataframe tbody tr th {\n",
       "        vertical-align: top;\n",
       "    }\n",
       "\n",
       "    .dataframe thead th {\n",
       "        text-align: right;\n",
       "    }\n",
       "</style>\n",
       "<table border=\"1\" class=\"dataframe\">\n",
       "  <thead>\n",
       "    <tr style=\"text-align: right;\">\n",
       "      <th></th>\n",
       "      <th>lytis</th>\n",
       "      <th>issilavinimas</th>\n",
       "      <th>amzius</th>\n",
       "      <th>bdu_spalio</th>\n",
       "      <th>profesija</th>\n",
       "    </tr>\n",
       "  </thead>\n",
       "  <tbody>\n",
       "    <tr>\n",
       "      <th>2</th>\n",
       "      <td>F</td>\n",
       "      <td>G4</td>\n",
       "      <td>40-49</td>\n",
       "      <td>6.00</td>\n",
       "      <td>221</td>\n",
       "    </tr>\n",
       "    <tr>\n",
       "      <th>3</th>\n",
       "      <td>F</td>\n",
       "      <td>G4</td>\n",
       "      <td>30-39</td>\n",
       "      <td>6.00</td>\n",
       "      <td>332</td>\n",
       "    </tr>\n",
       "    <tr>\n",
       "      <th>12</th>\n",
       "      <td>F</td>\n",
       "      <td>G4</td>\n",
       "      <td>30-39</td>\n",
       "      <td>6.00</td>\n",
       "      <td>241</td>\n",
       "    </tr>\n",
       "    <tr>\n",
       "      <th>14</th>\n",
       "      <td>F</td>\n",
       "      <td>G4</td>\n",
       "      <td>50-59</td>\n",
       "      <td>17.00</td>\n",
       "      <td>263</td>\n",
       "    </tr>\n",
       "    <tr>\n",
       "      <th>34</th>\n",
       "      <td>F</td>\n",
       "      <td>G4</td>\n",
       "      <td>40-49</td>\n",
       "      <td>9.67</td>\n",
       "      <td>121</td>\n",
       "    </tr>\n",
       "    <tr>\n",
       "      <th>...</th>\n",
       "      <td>...</td>\n",
       "      <td>...</td>\n",
       "      <td>...</td>\n",
       "      <td>...</td>\n",
       "      <td>...</td>\n",
       "    </tr>\n",
       "    <tr>\n",
       "      <th>44947</th>\n",
       "      <td>F</td>\n",
       "      <td>G4</td>\n",
       "      <td>50-59</td>\n",
       "      <td>3393.00</td>\n",
       "      <td>235</td>\n",
       "    </tr>\n",
       "    <tr>\n",
       "      <th>44948</th>\n",
       "      <td>F</td>\n",
       "      <td>G4</td>\n",
       "      <td>30-39</td>\n",
       "      <td>3639.67</td>\n",
       "      <td>233</td>\n",
       "    </tr>\n",
       "    <tr>\n",
       "      <th>44949</th>\n",
       "      <td>F</td>\n",
       "      <td>G4</td>\n",
       "      <td>50-59</td>\n",
       "      <td>3670.00</td>\n",
       "      <td>231</td>\n",
       "    </tr>\n",
       "    <tr>\n",
       "      <th>44950</th>\n",
       "      <td>F</td>\n",
       "      <td>G4</td>\n",
       "      <td>30-39</td>\n",
       "      <td>4212.00</td>\n",
       "      <td>231</td>\n",
       "    </tr>\n",
       "    <tr>\n",
       "      <th>44951</th>\n",
       "      <td>F</td>\n",
       "      <td>G4</td>\n",
       "      <td>40-49</td>\n",
       "      <td>4218.00</td>\n",
       "      <td>231</td>\n",
       "    </tr>\n",
       "  </tbody>\n",
       "</table>\n",
       "<p>5344 rows × 5 columns</p>\n",
       "</div>"
      ],
      "text/plain": [
       "      lytis issilavinimas amzius  bdu_spalio  profesija\n",
       "2         F            G4  40-49        6.00        221\n",
       "3         F            G4  30-39        6.00        332\n",
       "12        F            G4  30-39        6.00        241\n",
       "14        F            G4  50-59       17.00        263\n",
       "34        F            G4  40-49        9.67        121\n",
       "...     ...           ...    ...         ...        ...\n",
       "44947     F            G4  50-59     3393.00        235\n",
       "44948     F            G4  30-39     3639.67        233\n",
       "44949     F            G4  50-59     3670.00        231\n",
       "44950     F            G4  30-39     4212.00        231\n",
       "44951     F            G4  40-49     4218.00        231\n",
       "\n",
       "[5344 rows x 5 columns]"
      ]
     },
     "execution_count": 35,
     "metadata": {},
     "output_type": "execute_result"
    }
   ],
   "source": [
    "df.query(expr='lytis == \"F\" and issilavinimas == \"G4\"')"
   ]
  },
  {
   "cell_type": "code",
   "execution_count": 36,
   "metadata": {},
   "outputs": [
    {
     "name": "stdout",
     "output_type": "stream",
     "text": [
      "      lytis issilavinimas amzius  bdu_spalio  profesija\n",
      "8         M            G1  20-29        6.67        912\n",
      "51        M            G1  20-29      160.33        962\n",
      "68        F            G1  30-39     1041.00        524\n",
      "70        M            G1  14-19     1061.00        752\n",
      "89        M            G1  40-49      418.67        932\n",
      "...     ...           ...    ...         ...        ...\n",
      "41133     M            G1  40-49     2978.00        541\n",
      "41204     M            G1  50-59     1781.00        821\n",
      "41247     F            G1  30-39     1267.67        322\n",
      "41478     F            G1  50-59     2135.67        222\n",
      "41509     F            G1  50-59     2144.00        322\n",
      "\n",
      "[1716 rows x 5 columns]\n",
      "      lytis issilavinimas amzius  bdu_spalio  profesija\n",
      "1         F            G2  20-29        6.00        334\n",
      "4         M            G2  40-49       11.33        962\n",
      "5         M            G2  30-39        6.00        122\n",
      "7         F            G2  20-29       13.33        531\n",
      "9         M            G2  40-49        6.00        332\n",
      "...     ...           ...    ...         ...        ...\n",
      "44880     M            G2    60+     2302.00        232\n",
      "44893     F            G2    60+     2686.00        232\n",
      "44905     M            G2  50-59     2892.67        232\n",
      "44917     F            G2  50-59     2227.67        232\n",
      "44928     F            G2    60+     2115.00        232\n",
      "\n",
      "[22059 rows x 5 columns]\n"
     ]
    }
   ],
   "source": [
    "edu = ['G1', 'G2']\n",
    "for e in edu:\n",
    "    print(df.query(expr='issilavinimas == @e'))\n",
    "\n"
   ]
  },
  {
   "cell_type": "code",
   "execution_count": 37,
   "metadata": {},
   "outputs": [
    {
     "name": "stderr",
     "output_type": "stream",
     "text": [
      "C:\\Users\\pauli\\AppData\\Local\\Temp\\ipykernel_22128\\2691138167.py:1: SettingWithCopyWarning: \n",
      "A value is trying to be set on a copy of a slice from a DataFrame.\n",
      "Try using .loc[row_indexer,col_indexer] = value instead\n",
      "\n",
      "See the caveats in the documentation: https://pandas.pydata.org/pandas-docs/stable/user_guide/indexing.html#returning-a-view-versus-a-copy\n",
      "  df['$'] = df['bdu_spalio']/3.4528\n"
     ]
    },
    {
     "data": {
      "text/html": [
       "<div>\n",
       "<style scoped>\n",
       "    .dataframe tbody tr th:only-of-type {\n",
       "        vertical-align: middle;\n",
       "    }\n",
       "\n",
       "    .dataframe tbody tr th {\n",
       "        vertical-align: top;\n",
       "    }\n",
       "\n",
       "    .dataframe thead th {\n",
       "        text-align: right;\n",
       "    }\n",
       "</style>\n",
       "<table border=\"1\" class=\"dataframe\">\n",
       "  <thead>\n",
       "    <tr style=\"text-align: right;\">\n",
       "      <th></th>\n",
       "      <th>lytis</th>\n",
       "      <th>issilavinimas</th>\n",
       "      <th>amzius</th>\n",
       "      <th>bdu_spalio</th>\n",
       "      <th>profesija</th>\n",
       "      <th>$</th>\n",
       "    </tr>\n",
       "  </thead>\n",
       "  <tbody>\n",
       "    <tr>\n",
       "      <th>0</th>\n",
       "      <td>M</td>\n",
       "      <td>G4</td>\n",
       "      <td>20-29</td>\n",
       "      <td>6.00</td>\n",
       "      <td>261</td>\n",
       "      <td>1.737720</td>\n",
       "    </tr>\n",
       "    <tr>\n",
       "      <th>1</th>\n",
       "      <td>F</td>\n",
       "      <td>G2</td>\n",
       "      <td>20-29</td>\n",
       "      <td>6.00</td>\n",
       "      <td>334</td>\n",
       "      <td>1.737720</td>\n",
       "    </tr>\n",
       "    <tr>\n",
       "      <th>2</th>\n",
       "      <td>F</td>\n",
       "      <td>G4</td>\n",
       "      <td>40-49</td>\n",
       "      <td>6.00</td>\n",
       "      <td>221</td>\n",
       "      <td>1.737720</td>\n",
       "    </tr>\n",
       "    <tr>\n",
       "      <th>3</th>\n",
       "      <td>F</td>\n",
       "      <td>G4</td>\n",
       "      <td>30-39</td>\n",
       "      <td>6.00</td>\n",
       "      <td>332</td>\n",
       "      <td>1.737720</td>\n",
       "    </tr>\n",
       "    <tr>\n",
       "      <th>4</th>\n",
       "      <td>M</td>\n",
       "      <td>G2</td>\n",
       "      <td>40-49</td>\n",
       "      <td>11.33</td>\n",
       "      <td>962</td>\n",
       "      <td>3.281395</td>\n",
       "    </tr>\n",
       "  </tbody>\n",
       "</table>\n",
       "</div>"
      ],
      "text/plain": [
       "  lytis issilavinimas amzius  bdu_spalio  profesija         $\n",
       "0     M            G4  20-29        6.00        261  1.737720\n",
       "1     F            G2  20-29        6.00        334  1.737720\n",
       "2     F            G4  40-49        6.00        221  1.737720\n",
       "3     F            G4  30-39        6.00        332  1.737720\n",
       "4     M            G2  40-49       11.33        962  3.281395"
      ]
     },
     "execution_count": 37,
     "metadata": {},
     "output_type": "execute_result"
    }
   ],
   "source": [
    "df['$'] = df['bdu_spalio']/3.4528\n",
    "df.head()\n",
    "\n",
    "# import warnings\n",
    "# warnings.filterwarnings('ignore')"
   ]
  },
  {
   "cell_type": "code",
   "execution_count": 70,
   "metadata": {},
   "outputs": [
    {
     "name": "stdout",
     "output_type": "stream",
     "text": [
      "G1 | 1407.0 | 1256.0  | F\n",
      "G2 | 1571.0 | 1395.0  | F\n",
      "G3 | 2190.0 | 1974.0  | F\n",
      "G4 | 3040.0 | 2692.0  | F\n",
      "G1 | 1762.0 | 1486.0  | M\n",
      "G2 | 2129.0 | 1884.0  | M\n",
      "G3 | 2900.0 | 2500.0  | M\n",
      "G4 | 4159.0 | 3400.0  | M\n"
     ]
    }
   ],
   "source": [
    "df1=df14[['issilavinimas', 'bdu_spalio', 'lytis']]\n",
    "issilavinimas=['G1', 'G2', 'G3', 'G4']\n",
    "lytis=['F', 'M']\n",
    "\n",
    "for i in lytis:\n",
    "    for j in issilavinimas:\n",
    "        mediana=round(df1.query(expr='lytis == @i and issilavinimas == @j')['bdu_spalio'].median(), 0)\n",
    "        vidurkis=round(df1.query(expr='lytis == @i and issilavinimas == @j')['bdu_spalio'].mean(), 0)\n",
    "        print(f'{j} | {vidurkis} | {mediana}  | {i}')\n"
   ]
  },
  {
   "cell_type": "code",
   "execution_count": 67,
   "metadata": {},
   "outputs": [
    {
     "name": "stdout",
     "output_type": "stream",
     "text": [
      "G1 | 1407.0 | 1256.0  | F\n",
      "G2 | 1571.0 | 1395.0  | F\n",
      "G3 | 2190.0 | 1974.0  | F\n",
      "G4 | 3040.0 | 2692.0  | F\n",
      "G1 | 1762.0 | 1486.0  | M\n",
      "G2 | 2129.0 | 1884.0  | M\n",
      "G3 | 2900.0 | 2500.0  | M\n",
      "G4 | 4159.0 | 3400.0  | M\n"
     ]
    }
   ],
   "source": [
    "df1=df14[['issilavinimas', 'bdu_spalio', 'lytis']]\n",
    "issilavinimas=sorted(list(set(df1['issilavinimas'])))\n",
    "lytis=sorted(list(set(df1['lytis'])))\n",
    "\n",
    "for i in lytis:\n",
    "    for j in issilavinimas:\n",
    "        m = df1.query(expr='lytis == @i and issilavinimas == @j')\n",
    "        mediana=round(m['bdu_spalio'].median(), 0)\n",
    "        vidurkis=round(m['bdu_spalio'].mean(), 0)\n",
    "        print(f'{j} | {vidurkis} | {mediana}  | {i}')"
   ]
  },
  {
   "cell_type": "code",
   "execution_count": 71,
   "metadata": {},
   "outputs": [
    {
     "name": "stdout",
     "output_type": "stream",
     "text": [
      "G1   |1406.67|1256.50|Mot  \n",
      "G2   |1571.05|1395.00|Mot  \n",
      "G3   |2190.46|1974.00|Mot  \n",
      "G4   |3039.67|2691.84|Mot  \n",
      "G1   |1762.30|1485.66|Vyr  \n",
      "G2   |2129.49|1884.00|Vyr  \n",
      "G3   |2900.46|2500.00|Vyr  \n",
      "G4   |4158.56|3400.00|Vyr  \n"
     ]
    }
   ],
   "source": [
    "#destytojo variantas\n",
    "\n",
    "edu = ['G1','G2', 'G3', 'G4']\n",
    "\n",
    "for e in edu:\n",
    "    fv = df.query(expr='issilavinimas == @e and lytis == \"F\"')['bdu_spalio'].mean()\n",
    "    fm = df.query(expr='issilavinimas == @e and lytis == \"F\"')['bdu_spalio'].median()\n",
    "    print(f'{e:5}|{fv:5.2f}|{fm:5.2f}|{\"Mot\":5}')\n",
    "\n",
    "for e in edu:\n",
    "    fv = df.query(expr='issilavinimas == @e and lytis == \"M\"')['bdu_spalio'].mean()\n",
    "    fm = df.query(expr='issilavinimas == @e and lytis == \"M\"')['bdu_spalio'].median()\n",
    "    print(f'{e:5}|{fv:5.2f}|{fm:5.2f}|{\"Vyr\":5}')"
   ]
  },
  {
   "cell_type": "code",
   "execution_count": 76,
   "metadata": {},
   "outputs": [
    {
     "name": "stdout",
     "output_type": "stream",
     "text": [
      "lytis\n",
      "M    22586\n",
      "F    22366\n",
      "Name: count, dtype: int64\n",
      "M 22586\n",
      "F 22366\n"
     ]
    },
    {
     "data": {
      "image/png": "[encoded data removed]",
      "text/plain": [
       "<Figure size 640x480 with 1 Axes>"
      ]
     },
     "metadata": {},
     "output_type": "display_data"
    }
   ],
   "source": [
    "# value_counts()\n",
    "\n",
    "c = df['lytis'].value_counts()\n",
    "print(c)\n",
    "lytys = c.index\n",
    "kiekiai = c.values\n",
    "\n",
    "for li , ci in zip(lytys, kiekiai):\n",
    "    print(li, ci)\n",
    "\n",
    "\n",
    "plt.pie(x = kiekiai, labels = lytys, autopct='%.2f%%')\n",
    "\n",
    "plt.show()"
   ]
  },
  {
   "cell_type": "code",
   "execution_count": 80,
   "metadata": {},
   "outputs": [
    {
     "name": "stdout",
     "output_type": "stream",
     "text": [
      "issilavinimas\n",
      "G2    22059\n",
      "G3    12178\n",
      "G4     8999\n",
      "G1     1716\n",
      "Name: count, dtype: int64\n",
      "Index(['G1', 'G2', 'G3', 'G4'], dtype='object', name='issilavinimas')\n",
      "['G1', 'G2', 'G3', 'G4']\n"
     ]
    }
   ],
   "source": [
    "edus = df['issilavinimas'].value_counts()\n",
    "print(edus)\n",
    "edus = df['issilavinimas'].value_counts().sort_index(ascending = True).index\n",
    "print(edus)\n",
    "edus = df['issilavinimas'].value_counts().sort_index(ascending = True).index.to_list()\n",
    "print(edus)"
   ]
  },
  {
   "cell_type": "code",
   "execution_count": 88,
   "metadata": {},
   "outputs": [
    {
     "name": "stdout",
     "output_type": "stream",
     "text": [
      "14-19  |362.0|  351.0|   11.0\n",
      "20-29  |609.0|  534.0|   75.0\n",
      "30-39  |796.0|  651.0|  145.0\n",
      "40-49  |701.0|  560.0|  141.0\n",
      "50-59  |667.0|  543.0|  124.0\n",
      "60+    |627.0|  513.0|  114.0\n"
     ]
    }
   ],
   "source": [
    "# Parašykite ciklą, kuris surašytų atlyginimų vidurkius bei medianas\n",
    "# pagal amžiaus grupes (2014 metams, eurais)\n",
    "# amžiaus grupes gaukite naudodamiesi value_counts()\n",
    "# tvarkingesniam atvaizdavimui pasinaudokite f-strings\n",
    "# išvestyje pridėkite dar ir skirtumą tarp vidurkio ir medianos (vidurkis-mediana)\n",
    "\n",
    "df1=df14[['bdu_spalio', 'amzius']]\n",
    "\n",
    "amzius= df1['amzius'].value_counts().sort_index(ascending = True).index.to_list()\n",
    "\n",
    "for i in amzius:\n",
    "    mediana=round(df1.query(expr='amzius == @i')['bdu_spalio'].median()/3.4528, 0)\n",
    "    vidurkis=round(df1.query(expr='amzius == @i')['bdu_spalio'].mean()/3.4528, 0)\n",
    "    print(f'{i:7}|{vidurkis:5}|{mediana:7}|{(vidurkis-mediana):7}')"
   ]
  },
  {
   "cell_type": "code",
   "execution_count": null,
   "metadata": {},
   "outputs": [],
   "source": [
    "# value_counts() ir pie plot:\n",
    "# kiek procentų buvo vyrų, moterų 2014 metais?\n",
    "# kiek procentų buvo iš kiekvienos amžiaus grupės?\n",
    "# kiek procentų buvo iš kiekvienos išsilavinimo pakopos?\n",
    "# kiek respondentų buvo iš privataus (B) bei viešojo (A) sektoriaus? (stulpelis: nuosavybe)\n",
    "# kiek procentaliai buvo vyrų, moterų iš didelių, vidutinių, mažų įmonių? (Stulpelis im_dydis, \n",
    "# du pie plot'ai, vienas vyrams, kitas moterims)"
   ]
  },
  {
   "cell_type": "code",
   "execution_count": 89,
   "metadata": {},
   "outputs": [
    {
     "name": "stdout",
     "output_type": "stream",
     "text": [
      "M 22586\n",
      "F 22366\n"
     ]
    },
    {
     "data": {
      "image/png": "[encoded data removed]",
      "text/plain": [
       "<Figure size 640x480 with 1 Axes>"
      ]
     },
     "metadata": {},
     "output_type": "display_data"
    }
   ],
   "source": [
    "c = df['lytis'].value_counts()\n",
    "lytys = c.index\n",
    "kiekiai = c.values\n",
    "for li , ci in zip(lytys, kiekiai):\n",
    "    print(li, ci)\n",
    "    \n",
    "plt.pie(x = kiekiai, labels = lytys, autopct='%.2f%%')\n",
    "\n",
    "plt.show()"
   ]
  },
  {
   "cell_type": "code",
   "execution_count": 94,
   "metadata": {},
   "outputs": [
    {
     "data": {
      "image/png": "[encoded data removed]",
      "text/plain": [
       "<Figure size 640x480 with 1 Axes>"
      ]
     },
     "metadata": {},
     "output_type": "display_data"
    },
    {
     "data": {
      "image/png": "[encoded data removed]",
      "text/plain": [
       "<Figure size 640x480 with 1 Axes>"
      ]
     },
     "metadata": {},
     "output_type": "display_data"
    }
   ],
   "source": [
    "c = df.query('lytis ==  \"F\"')['amzius'].value_counts()\n",
    "amziusF = c.index\n",
    "kiekiaiF = c.values\n",
    "\n",
    "plt.pie(x = kiekiaiF, labels = amziusF, autopct='%.2f%%')\n",
    "\n",
    "plt.show()\n",
    "\n",
    "c = df.query('lytis ==  \"M\"')['amzius'].value_counts()\n",
    "amziusM = c.index\n",
    "kiekiaiM = c.values\n",
    "\n",
    "plt.pie(x = kiekiaiM, labels = amziusM, autopct='%.2f%%')\n",
    "\n",
    "plt.show()"
   ]
  },
  {
   "cell_type": "code",
   "execution_count": 97,
   "metadata": {},
   "outputs": [
    {
     "data": {
      "image/png": "[encoded data removed]",
      "text/plain": [
       "<Figure size 640x480 with 1 Axes>"
      ]
     },
     "metadata": {},
     "output_type": "display_data"
    },
    {
     "data": {
      "image/png": "[encoded data removed]",
      "text/plain": [
       "<Figure size 640x480 with 1 Axes>"
      ]
     },
     "metadata": {},
     "output_type": "display_data"
    }
   ],
   "source": [
    "c = df.query('lytis ==  \"F\"')['issilavinimas'].value_counts()\n",
    "amziusF = c.index\n",
    "kiekiaiF = c.values\n",
    "\n",
    "plt.pie(x = kiekiaiF, labels = amziusF, autopct='%.2f%%')\n",
    "\n",
    "plt.show()\n",
    "\n",
    "c = df.query('lytis ==  \"M\"')['issilavinimas'].value_counts()\n",
    "amziusM = c.index\n",
    "kiekiaiM = c.values\n",
    "\n",
    "plt.pie(x = kiekiaiM, labels = amziusM, autopct='%.2f%%')\n",
    "\n",
    "plt.show()"
   ]
  },
  {
   "cell_type": "code",
   "execution_count": 100,
   "metadata": {},
   "outputs": [
    {
     "data": {
      "image/png": "[encoded data removed]",
      "text/plain": [
       "<Figure size 640x480 with 1 Axes>"
      ]
     },
     "metadata": {},
     "output_type": "display_data"
    },
    {
     "data": {
      "image/png": "[encoded data removed]",
      "text/plain": [
       "<Figure size 640x480 with 1 Axes>"
      ]
     },
     "metadata": {},
     "output_type": "display_data"
    }
   ],
   "source": [
    "c = df14.query('lytis ==  \"F\"')['nuosavybe'].value_counts()\n",
    "amziusF = c.index\n",
    "kiekiaiF = c.values\n",
    "\n",
    "plt.pie(x = kiekiaiF, labels = amziusF, autopct='%.2f%%')\n",
    "\n",
    "plt.show()\n",
    "\n",
    "c = df14.query('lytis ==  \"M\"')['nuosavybe'].value_counts()\n",
    "amziusM = c.index\n",
    "kiekiaiM = c.values\n",
    "\n",
    "plt.pie(x = kiekiaiM, labels = amziusM, autopct='%.2f%%')\n",
    "\n",
    "plt.show()"
   ]
  },
  {
   "cell_type": "code",
   "execution_count": 102,
   "metadata": {},
   "outputs": [
    {
     "data": {
      "image/png": "[encoded data removed]",
      "text/plain": [
       "<Figure size 640x480 with 1 Axes>"
      ]
     },
     "metadata": {},
     "output_type": "display_data"
    },
    {
     "data": {
      "image/png": "[encoded data removed]",
      "text/plain": [
       "<Figure size 640x480 with 1 Axes>"
      ]
     },
     "metadata": {},
     "output_type": "display_data"
    }
   ],
   "source": [
    "c = df14.query('lytis ==  \"F\"')['im_dydis'].value_counts()\n",
    "amziusF = c.index\n",
    "kiekiaiF = c.values\n",
    "\n",
    "plt.pie(x = kiekiaiF, labels = amziusF, autopct='%.2f%%')\n",
    "\n",
    "plt.show()\n",
    "\n",
    "c = df14.query('lytis ==  \"M\"')['im_dydis'].value_counts()\n",
    "amziusM = c.index\n",
    "kiekiaiM = c.values\n",
    "\n",
    "plt.pie(x = kiekiaiM, labels = amziusM, autopct='%.2f%%')\n",
    "\n",
    "plt.show()"
   ]
  }
 ],
 "metadata": {
  "kernelspec": {
   "display_name": "Python 3",
   "language": "python",
   "name": "python3"
  },
  "language_info": {
   "codemirror_mode": {
    "name": "ipython",
    "version": 3
   },
   "file_extension": ".py",
   "mimetype": "text/x-python",
   "name": "python",
   "nbconvert_exporter": "python",
   "pygments_lexer": "ipython3",
   "version": "3.12.4"
  }
 },
 "nbformat": 4,
 "nbformat_minor": 2
}
