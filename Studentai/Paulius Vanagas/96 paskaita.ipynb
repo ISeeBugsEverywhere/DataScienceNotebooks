{
 "cells": [
  {
   "cell_type": "code",
   "execution_count": 13,
   "metadata": {},
   "outputs": [],
   "source": [
    "import os\n",
    "from pypdf import PdfReader\n",
    "import ollama"
   ]
  },
  {
   "cell_type": "code",
   "execution_count": 14,
   "metadata": {},
   "outputs": [],
   "source": [
    "folder = r\"C:\\Users\\pauli\\Desktop\\failai pasizaidimui\"\n",
    "failai = os.listdir(folder)"
   ]
  },
  {
   "cell_type": "code",
   "execution_count": 15,
   "metadata": {},
   "outputs": [],
   "source": [
    "duomenys = {}\n",
    "for f in failai:\n",
    "    darbinis_failas= f'{folder}\\\\{f}'\n",
    "    if f.endswith('.txt'):       \n",
    "        with open(darbinis_failas, mode='r', encoding='utf-8') as failas:\n",
    "            turinys = failas.read(1000)\n",
    "            duomenys[f]= turinys\n",
    "            \n",
    "    if f.endswith('.pdf'):\n",
    "        reader = PdfReader(darbinis_failas)\n",
    "        # number_of_pages = len(reader.pages)\n",
    "        page = reader.pages[0]\n",
    "        text = page.extract_text()\n",
    "        duomenys[f]= text\n",
    "        \n",
    "       "
   ]
  },
  {
   "cell_type": "code",
   "execution_count": 16,
   "metadata": {},
   "outputs": [
    {
     "name": "stdout",
     "output_type": "stream",
     "text": [
      "1. Politics & Economics\n",
      "\n",
      "    - zinnios1.txt\n",
      "    - zinnios2.txt \n",
      "\n",
      "\n",
      "2.  Poetry & Literature\n",
      "\n",
      "    - dict \n",
      "\n",
      "\n",
      "\n",
      "\n",
      "3. Programming & Code\n",
      "\n",
      "\n",
      "     - \n",
      "\n",
      "\n",
      "\n",
      "4. Unknown/Uncategorized\n",
      "\n",
      "   -  zinios1.txt\n",
      "\n",
      "\n",
      "\n",
      "\n"
     ]
    }
   ],
   "source": [
    "response = ollama.chat(\n",
    "    model=\"gemma2:latest\",\n",
    "    messages=[\n",
    "        {\"role\": \"user\", \"content\": f\"{duomenys.keys()}. this is a list with 9 files names. and a list with those files names and snipets of text from those files after file name: {duomenys}. make 3 or 4 categories based on context for those files. Write a number of catagory and files names in it. Dont write anything else.\"},\n",
    "    ],\n",
    ")\n",
    "r = response[\"message\"][\"content\"]\n",
    "print(r)"
   ]
  },
  {
   "cell_type": "code",
   "execution_count": 5,
   "metadata": {},
   "outputs": [
    {
     "data": {
      "text/plain": [
       "'2018m. pagrindinio ugdymo pasiekimųpatikrinimo užduotis•MATEMATIKA\\n \\n3\\n1. Apskaičiuokite: \\n  \\n1.1. ;3\\n16\\n4\\n1\\n4\\n39:2\\n13 \\ue00e \\ue003  \\n \\nA  2       B  3   C  6   D  12\\n  (1 taškas)  \\n \\n1.2. .16\\n219186\\n32018\\ue004  \\n \\nA  \\n8\\n399        B  \\n8\\n599    C  \\n8\\n3100    D  \\n8\\n5100\\n  (1 taškas)  \\n \\n2.  Koordinačių plokštumoje duoti du taškai – C(1; 3) ir D(13; 17). Atkarpos CD\\nvidurio taškoMkoordinatės yra: \\n \\nA  M(5; 7)       B  M(7; 10)   C  M(12; 14)   D  M(14; 20)\\n  (1 taškas)  \\n \\n3.  Išrikiuokite šiuos skaičius didėjimo tvarka: \\n \\n06 ;  5 ;  2 2 3\\ue004;  2 2 3\\ue004 \\ue004. \\n \\nAtsakymąpagrįskite. \\nSprendimas \\n \\n \\n \\n \\n \\n \\nAts.: _______________________________________________________ (2 taškai)\\n        \\n4. Austėja ir Rugilė rinko kaštonus. Jos kartu surinko 72kaštonus. Jeigu Austėja \\nbūtųsurinkusi trimis kaštonais daugiau, tai ji turėtųdvigubai daugiau kaštonų \\nnegu Rugilė. Kiek kaštonųsurinko Rugilė? \\nSprendimas \\n \\n \\n \\n \\n \\n \\n \\n \\nAts.: ___________________ (2 taškai)\\nČia rašo\\nvertintojai \\n     1          2  \\n      \\n      \\n      \\n      \\n      \\nIš viso taškų3 p. (maks. 7 taškai)   '"
      ]
     },
     "execution_count": 5,
     "metadata": {},
     "output_type": "execute_result"
    }
   ],
   "source": [
    "duomenys['matematika arinai.pdf']"
   ]
  },
  {
   "cell_type": "code",
   "execution_count": 6,
   "metadata": {},
   "outputs": [
    {
     "name": "stdout",
     "output_type": "stream",
     "text": [
      "Čia yra failas ir jo turinys {'f.txt': 'labas rytas'}\n"
     ]
    }
   ],
   "source": [
    "d = {'f.txt':'labas rytas'}\n",
    "print(f'Čia yra failas ir jo turinys {d}')"
   ]
  },
  {
   "cell_type": "code",
   "execution_count": null,
   "metadata": {},
   "outputs": [
    {
     "data": {
      "text/plain": [
       "dict_keys(['0014-PYTHON-LIST-COMPR-REKURSIJA-DOCSTRINGS.pdf', 'compulsory education in europe-ECAP23001ENN.pdf', 'eilerastis1.txt', 'eilerastis2.txt', 'matematika arinai.pdf', 'REGRESIJOS.pdf', 'UŽDUOTYS-PAPILDOMOS.pdf', 'zinios1.txt', 'zinios2.txt'])"
      ]
     },
     "execution_count": 9,
     "metadata": {},
     "output_type": "execute_result"
    }
   ],
   "source": [
    "duomenys.keys"
   ]
  }
 ],
 "metadata": {
  "kernelspec": {
   "display_name": "Python 3",
   "language": "python",
   "name": "python3"
  },
  "language_info": {
   "codemirror_mode": {
    "name": "ipython",
    "version": 3
   },
   "file_extension": ".py",
   "mimetype": "text/x-python",
   "name": "python",
   "nbconvert_exporter": "python",
   "pygments_lexer": "ipython3",
   "version": "3.12.4"
  }
 },
 "nbformat": 4,
 "nbformat_minor": 2
}
