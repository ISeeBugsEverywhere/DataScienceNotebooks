{
 "cells": [
  {
   "cell_type": "code",
   "execution_count": null,
   "metadata": {},
   "outputs": [
    {
     "name": "stdout",
     "output_type": "stream",
     "text": [
      "set()\n"
     ]
    }
   ],
   "source": [
    "# 1. Funkcija, kuri randa unikalias vertes sąraše\n",
    "\n",
    "b=[5, 5, 6, 3, 6, 0, 'h, 8']\n",
    "\n",
    "def unikalios(x:list) -> list:\n",
    "    return set(x)\n",
    "\n",
    "print(unikalios(b))"
   ]
  },
  {
   "cell_type": "code",
   "execution_count": 4,
   "metadata": {},
   "outputs": [
    {
     "name": "stdout",
     "output_type": "stream",
     "text": [
      "[0, 1, 2, 2, 5.16]\n"
     ]
    }
   ],
   "source": [
    "# 2. Funkcija, kuri grąžina sąrašą be neigiamų skaičių\n",
    "\n",
    "b=[-5, -5, -2, 0, 1, 2, 2, 5.16]\n",
    "\n",
    "def be_neigiamu(x):\n",
    "    ats = []\n",
    "    for i in x:\n",
    "        if i>=0:\n",
    "            ats.append(i)\n",
    "    return (ats)\n",
    "\n",
    "print(be_neigiamu(b))"
   ]
  },
  {
   "cell_type": "code",
   "execution_count": 7,
   "metadata": {},
   "outputs": [
    {
     "name": "stdout",
     "output_type": "stream",
     "text": [
      "{0: 1, 1: 1, 2: 2, 5.16: 1, -5: 2, -2: 1}\n"
     ]
    }
   ],
   "source": [
    "# 3. Funkcija, kuri skaičiuoja, kiek kartų kiekvienas elementas pasikartoja sąraše\n",
    "b=[-5, -5, -2, 0, 1, 2, 2, 5.16]\n",
    "\n",
    "def pasikartoja(x):\n",
    "    uni=list(set(x))\n",
    "    ats={}\n",
    "    for i in uni:    \n",
    "        ats[i]=x.count(i)\n",
    "    return ats\n",
    "        \n",
    "print(pasikartoja(b))"
   ]
  },
  {
   "cell_type": "code",
   "execution_count": 34,
   "metadata": {},
   "outputs": [
    {
     "name": "stdout",
     "output_type": "stream",
     "text": [
      "{0, 2, 4, 5, 6, 78, -4, -3, 't'}\n"
     ]
    }
   ],
   "source": [
    "# 4. Funkcija, kuri sujungia du sąrašus į vieną, pašalindama pasikartojančius elementus\n",
    "\n",
    "a= [2, 5, 5, 6, -3, 4, 't', 4, 't']\n",
    "b= [2, 4, 4, 4, 0, 78, -4]\n",
    "\n",
    "def sujungimas(x, y):\n",
    "    return set(x+y)\n",
    "\n",
    "print(sujungimas(a, b))"
   ]
  },
  {
   "cell_type": "code",
   "execution_count": 36,
   "metadata": {},
   "outputs": [
    {
     "name": "stdout",
     "output_type": "stream",
     "text": [
      "[None, 'j']\n"
     ]
    }
   ],
   "source": [
    "# 5. Funkcija, kuri grąžina sąrašą, kuriame yra tik tie elementai, kurie pasikartoja daugiau nei vieną kartą\n",
    "\n",
    "def pasikartoja(x):\n",
    "    uni=list(set(x))\n",
    "    ats=[]\n",
    "    for i in uni:\n",
    "        if x.count(i) > 1:\n",
    "            ats.append(i)\n",
    "            \n",
    "    return ats\n",
    "\n",
    "a=[None, None, -2,'j', 'j', 'j', 0, 'h']\n",
    "print(pasikartoja(a))"
   ]
  },
  {
   "cell_type": "code",
   "execution_count": 43,
   "metadata": {},
   "outputs": [
    {
     "name": "stdout",
     "output_type": "stream",
     "text": [
      "12.56\n",
      "33.49333333333333\n",
      "50.24\n"
     ]
    }
   ],
   "source": [
    "# 6. Funkcijos, kurios apskaičiuoja a) apskritimo plotą b) rutulio tūrį c) rutulio paviršiaus plotą\n",
    "\n",
    "def apskritimo_plotas(r):\n",
    "    s=3.14*r*r\n",
    "    return s\n",
    "\n",
    "def rutulio_turis(r):\n",
    "    v= 4/3*3.14*r*r*r\n",
    "    return v\n",
    "\n",
    "def pavirsiaus_plotas(r):\n",
    "    Spav=4*3.14*r*r\n",
    "    return Spav\n",
    "    \n",
    "print(apskritimo_plotas(-2))\n",
    "print(rutulio_turis(2))\n",
    "print(pavirsiaus_plotas(2))"
   ]
  },
  {
   "cell_type": "code",
   "execution_count": null,
   "metadata": {},
   "outputs": [
    {
     "name": "stdout",
     "output_type": "stream",
     "text": [
      "[None, 2, 2, [[None, 2, [2, 4, 5], 6, 'lambda'], 'oOo'], 5, 6, 'lambda']\n"
     ]
    }
   ],
   "source": [
    "#  funkcija, skirta sudėtinių srašų (nested list) plokštinimui (flatten):\n",
    "#  tarkim, duodami duomenys [1,2,[2,4,5],6,7] ---> rezultatas ---> 1,2,2,4,5,6,7\n",
    "# Parašyti naudojantis tik ciklus ir if'us, ištestuoti pateikiant įvairius duomenis\n",
    "\n",
    "def flatten(x):\n",
    "    ats=[]\n",
    "    for i in x:\n",
    "        if isinstance(i, list):\n",
    "            for j in i:\n",
    "                ats.append(j)\n",
    "        else:\n",
    "            ats.append(i)\n",
    "    return ats\n",
    "\n",
    "a= [None,2,[2,4,5],6,'lambda']\n",
    "\n",
    "print(flatten(a))"
   ]
  }
 ],
 "metadata": {
  "kernelspec": {
   "display_name": "Python 3",
   "language": "python",
   "name": "python3"
  },
  "language_info": {
   "codemirror_mode": {
    "name": "ipython",
    "version": 3
   },
   "file_extension": ".py",
   "mimetype": "text/x-python",
   "name": "python",
   "nbconvert_exporter": "python",
   "pygments_lexer": "ipython3",
   "version": "3.12.4"
  }
 },
 "nbformat": 4,
 "nbformat_minor": 2
}
