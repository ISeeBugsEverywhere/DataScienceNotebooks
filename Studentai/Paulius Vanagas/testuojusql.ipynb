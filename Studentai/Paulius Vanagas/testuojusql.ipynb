{
 "cells": [
  {
   "cell_type": "code",
   "execution_count": 1,
   "metadata": {},
   "outputs": [],
   "source": [
    "import numpy as np\n",
    "import pandas as pd\n",
    "import matplotlib.pyplot as plt\n",
    "import warnings\n",
    "warnings.filterwarnings('ignore')\n",
    "import seaborn as sns\n",
    "import sqlite3\n",
    "import mysql.connector as cnt\n",
    "import plotly.express as px\n",
    "import requests\n",
    "from datetime import datetime, timedelta\n",
    "from bs4 import BeautifulSoup\n",
    "import os\n",
    "import selenium\n",
    "from selenium.webdriver.chrome.options import Options\n",
    "from selenium import webdriver\n",
    "from bs4 import BeautifulSoup\n",
    "import time\n",
    "import random"
   ]
  },
  {
   "cell_type": "code",
   "execution_count": 6,
   "metadata": {},
   "outputs": [
    {
     "data": {
      "text/plain": [
       "<sqlite3.Cursor at 0x27ca01ecfc0>"
      ]
     },
     "execution_count": 6,
     "metadata": {},
     "output_type": "execute_result"
    }
   ],
   "source": [
    "SDB = sqlite3.connect('test13.db') # jei neegsiztuoja - bus sukurfta nauja sqlite DB\n",
    "Cs = SDB.cursor()\n",
    "sql = '''create table if not exists T1\n",
    "(\n",
    "kaina text\n",
    ")\n",
    "'''\n",
    "Cs.execute(sql)"
   ]
  },
  {
   "cell_type": "code",
   "execution_count": null,
   "metadata": {},
   "outputs": [],
   "source": [
    "pirmas = [1, 2, 5, 'tuktukas']\n",
    "antras = [11, 22, 55, 'moku']\n",
    "kainos = [500, 514.8]\n",
    "\n",
    "sql_template = '''insert into T1 values (?)'''\n",
    "for a1 in kainos:\n",
    "    Cs.execute(sql_template, (a1,))\n",
    "\n",
    "SDB.commit() # commit() būtinas, jei norite įrašyti duomenis į DB\n",
    "SDB.close() "
   ]
  },
  {
   "cell_type": "code",
   "execution_count": 12,
   "metadata": {},
   "outputs": [],
   "source": [
    "stulpeliai1 = ['pirmas', 'antras']\n",
    "\n",
    "SDB = sqlite3.connect('test13.db') # jei neegsiztuoja - bus sukurfta nauja sqlite DB\n",
    "Cs = SDB.cursor()\n",
    "\n",
    "\n",
    "Cs.execute(f\"PRAGMA table_info('T1');\")\n",
    "existing_columns = {row[1] for row in Cs.fetchall()} \n",
    "\n",
    "# for column_name in stulpeliai1:\n",
    "#     if column_name not in existing_columns:\n",
    "#         alter_table_query = f\"ALTER TABLE T1 ADD COLUMN {column_name} text;\"\n",
    "#         Cs.execute(alter_table_query)\n",
    "\n",
    "\n",
    "SDB.close()\n"
   ]
  },
  {
   "cell_type": "code",
   "execution_count": 13,
   "metadata": {},
   "outputs": [
    {
     "name": "stdout",
     "output_type": "stream",
     "text": [
      "{'pirmas', 'kaina', 'antras'}\n"
     ]
    }
   ],
   "source": [
    "print(existing_columns)"
   ]
  },
  {
   "cell_type": "code",
   "execution_count": 11,
   "metadata": {},
   "outputs": [],
   "source": [
    "pirmas = [1, 2, 5, 'tuktukas']\n",
    "antras = [11, 22, 55, 'moku']\n",
    "\n",
    "SDB = sqlite3.connect('test13.db') # jei neegsiztuoja - bus sukurfta nauja sqlite DB\n",
    "Cs = SDB.cursor()\n",
    "sql_template = '''insert into T1 values (?, ?, ?)'''\n",
    "for a1, a2, a3 in zip(antras, pirmas, antras):\n",
    "    Cs.execute(sql_template, (a1,a2, a3))\n",
    "\n",
    "SDB.commit() # commit() būtinas, jei norite įrašyti duomenis į DB\n",
    "SDB.close()"
   ]
  },
  {
   "cell_type": "code",
   "execution_count": 25,
   "metadata": {},
   "outputs": [
    {
     "name": "stdout",
     "output_type": "stream",
     "text": [
      "[1, 2, 7]\n"
     ]
    }
   ],
   "source": [
    "zod={'kaina':[1, 2]}\n",
    "zod['kaina'].append(7)\n",
    "\n",
    "\n",
    "print(zod['kaina'])\n"
   ]
  },
  {
   "cell_type": "code",
   "execution_count": 26,
   "metadata": {},
   "outputs": [
    {
     "name": "stdout",
     "output_type": "stream",
     "text": [
      "{'kaina': [1, 2, 7], 'kazi': [None, None, None]}\n"
     ]
    }
   ],
   "source": [
    "zod['kazi']=[]\n",
    "for i in range(len(zod['kaina'])):\n",
    "    zod['kazi'].append(None)\n",
    "\n",
    "print(zod)"
   ]
  }
 ],
 "metadata": {
  "kernelspec": {
   "display_name": "Python 3",
   "language": "python",
   "name": "python3"
  },
  "language_info": {
   "codemirror_mode": {
    "name": "ipython",
    "version": 3
   },
   "file_extension": ".py",
   "mimetype": "text/x-python",
   "name": "python",
   "nbconvert_exporter": "python",
   "pygments_lexer": "ipython3",
   "version": "3.12.4"
  }
 },
 "nbformat": 4,
 "nbformat_minor": 2
}
