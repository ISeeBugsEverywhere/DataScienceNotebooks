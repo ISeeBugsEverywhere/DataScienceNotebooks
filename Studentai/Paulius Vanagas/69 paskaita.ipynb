{
 "cells": [
  {
   "cell_type": "code",
   "execution_count": 2,
   "metadata": {},
   "outputs": [],
   "source": [
    "import numpy as np\n",
    "import pandas as pd\n",
    "import matplotlib.pyplot as plt\n",
    "import warnings\n",
    "warnings.filterwarnings('ignore')\n",
    "import seaborn as sns\n",
    "import sqlite3\n",
    "# import mysql.connector as cnt\n",
    "# import plotly.express as px\n",
    "# from datetime import datetime, timedelta\n",
    "# import os\n",
    "from sklearn.linear_model import LinearRegression\n",
    "from sklearn.model_selection import train_test_split\n",
    "from sklearn.preprocessing import LabelEncoder"
   ]
  },
  {
   "cell_type": "code",
   "execution_count": 3,
   "metadata": {},
   "outputs": [],
   "source": [
    "# from sklearn.model_selection import train_test_split, cross_val_score\n",
    "\n",
    "# scores = cross_validate(model, X, y, cv=10, scoring=('r2', 'max_error'))\n",
    "\n",
    "# scores = cross_val_score(model, X, y, cv=10)"
   ]
  },
  {
   "cell_type": "code",
   "execution_count": 36,
   "metadata": {},
   "outputs": [],
   "source": [
    "df = pd.read_csv('insurance.csv')"
   ]
  },
  {
   "cell_type": "code",
   "execution_count": 37,
   "metadata": {},
   "outputs": [
    {
     "data": {
      "text/html": [
       "<div>\n",
       "<style scoped>\n",
       "    .dataframe tbody tr th:only-of-type {\n",
       "        vertical-align: middle;\n",
       "    }\n",
       "\n",
       "    .dataframe tbody tr th {\n",
       "        vertical-align: top;\n",
       "    }\n",
       "\n",
       "    .dataframe thead th {\n",
       "        text-align: right;\n",
       "    }\n",
       "</style>\n",
       "<table border=\"1\" class=\"dataframe\">\n",
       "  <thead>\n",
       "    <tr style=\"text-align: right;\">\n",
       "      <th></th>\n",
       "      <th>age</th>\n",
       "      <th>sex</th>\n",
       "      <th>bmi</th>\n",
       "      <th>children</th>\n",
       "      <th>smoker</th>\n",
       "      <th>region</th>\n",
       "      <th>charges</th>\n",
       "      <th>lytis</th>\n",
       "    </tr>\n",
       "  </thead>\n",
       "  <tbody>\n",
       "    <tr>\n",
       "      <th>0</th>\n",
       "      <td>19</td>\n",
       "      <td>female</td>\n",
       "      <td>27.900</td>\n",
       "      <td>0</td>\n",
       "      <td>yes</td>\n",
       "      <td>southwest</td>\n",
       "      <td>16884.92400</td>\n",
       "      <td>0</td>\n",
       "    </tr>\n",
       "    <tr>\n",
       "      <th>1</th>\n",
       "      <td>18</td>\n",
       "      <td>male</td>\n",
       "      <td>33.770</td>\n",
       "      <td>1</td>\n",
       "      <td>no</td>\n",
       "      <td>southeast</td>\n",
       "      <td>1725.55230</td>\n",
       "      <td>1</td>\n",
       "    </tr>\n",
       "    <tr>\n",
       "      <th>2</th>\n",
       "      <td>28</td>\n",
       "      <td>male</td>\n",
       "      <td>33.000</td>\n",
       "      <td>3</td>\n",
       "      <td>no</td>\n",
       "      <td>southeast</td>\n",
       "      <td>4449.46200</td>\n",
       "      <td>1</td>\n",
       "    </tr>\n",
       "    <tr>\n",
       "      <th>3</th>\n",
       "      <td>33</td>\n",
       "      <td>male</td>\n",
       "      <td>22.705</td>\n",
       "      <td>0</td>\n",
       "      <td>no</td>\n",
       "      <td>northwest</td>\n",
       "      <td>21984.47061</td>\n",
       "      <td>1</td>\n",
       "    </tr>\n",
       "    <tr>\n",
       "      <th>4</th>\n",
       "      <td>32</td>\n",
       "      <td>male</td>\n",
       "      <td>28.880</td>\n",
       "      <td>0</td>\n",
       "      <td>no</td>\n",
       "      <td>northwest</td>\n",
       "      <td>3866.85520</td>\n",
       "      <td>1</td>\n",
       "    </tr>\n",
       "  </tbody>\n",
       "</table>\n",
       "</div>"
      ],
      "text/plain": [
       "   age     sex     bmi  children smoker     region      charges  lytis\n",
       "0   19  female  27.900         0    yes  southwest  16884.92400      0\n",
       "1   18    male  33.770         1     no  southeast   1725.55230      1\n",
       "2   28    male  33.000         3     no  southeast   4449.46200      1\n",
       "3   33    male  22.705         0     no  northwest  21984.47061      1\n",
       "4   32    male  28.880         0     no  northwest   3866.85520      1"
      ]
     },
     "execution_count": 37,
     "metadata": {},
     "output_type": "execute_result"
    }
   ],
   "source": [
    "l = LabelEncoder().fit_transform(df['sex']); l[:5]\n",
    "df['lytis']=l; df.head()"
   ]
  },
  {
   "cell_type": "code",
   "execution_count": 38,
   "metadata": {},
   "outputs": [
    {
     "data": {
      "text/plain": [
       "array(['female', 'male'], dtype=object)"
      ]
     },
     "execution_count": 38,
     "metadata": {},
     "output_type": "execute_result"
    }
   ],
   "source": [
    "le=LabelEncoder()\n",
    "l = le.fit_transform(df['sex'])\n",
    "le.classes_"
   ]
  },
  {
   "cell_type": "code",
   "execution_count": 7,
   "metadata": {},
   "outputs": [],
   "source": [
    "# a) Parašyti kainos prognozės skriptą, kuris prognozuotų būsto kainą. Naudoti Liearregression\n",
    "# kategorines vertes užkoduoti su LabelEncoder'iu\n",
    "# b) iš autoplius duomenų, pasirinkti 7-8 parametrus ir parašyti skriptą automobilio vertės nustatymui.\n",
    "# Įvertinkite tikslumaą su score parametru\n",
    "\n",
    "# label_encoder = LabelEncoder()\n",
    "# encoded_data = label_encoder.fit_transform(data)\n",
    "# print(“Category Mapping:”, dict(zip(data, encoded_data)))."
   ]
  },
  {
   "cell_type": "code",
   "execution_count": 39,
   "metadata": {},
   "outputs": [
    {
     "data": {
      "text/html": [
       "<div>\n",
       "<style scoped>\n",
       "    .dataframe tbody tr th:only-of-type {\n",
       "        vertical-align: middle;\n",
       "    }\n",
       "\n",
       "    .dataframe tbody tr th {\n",
       "        vertical-align: top;\n",
       "    }\n",
       "\n",
       "    .dataframe thead th {\n",
       "        text-align: right;\n",
       "    }\n",
       "</style>\n",
       "<table border=\"1\" class=\"dataframe\">\n",
       "  <thead>\n",
       "    <tr style=\"text-align: right;\">\n",
       "      <th></th>\n",
       "      <th>plotas</th>\n",
       "      <th>kambariuskaicius</th>\n",
       "      <th>aukstas</th>\n",
       "      <th>aukstuskaicius</th>\n",
       "      <th>metai</th>\n",
       "      <th>pastatotipas</th>\n",
       "      <th>sildymas</th>\n",
       "      <th>irengimas</th>\n",
       "      <th>energetineklase</th>\n",
       "      <th>ilguma</th>\n",
       "      <th>platuma</th>\n",
       "      <th>miestas</th>\n",
       "      <th>kaina</th>\n",
       "      <th>rajonas</th>\n",
       "    </tr>\n",
       "  </thead>\n",
       "  <tbody>\n",
       "    <tr>\n",
       "      <th>0</th>\n",
       "      <td>34,93 m²</td>\n",
       "      <td>2</td>\n",
       "      <td>5</td>\n",
       "      <td>5</td>\n",
       "      <td>2023</td>\n",
       "      <td>Mūrinis</td>\n",
       "      <td>Centrinis kolektorinis</td>\n",
       "      <td>Įrengtas</td>\n",
       "      <td>None</td>\n",
       "      <td>54.701257</td>\n",
       "      <td>25.272667</td>\n",
       "      <td>Vilnius</td>\n",
       "      <td>173500</td>\n",
       "      <td>Šnipiškės</td>\n",
       "    </tr>\n",
       "    <tr>\n",
       "      <th>1</th>\n",
       "      <td>66,64 m²</td>\n",
       "      <td>2</td>\n",
       "      <td>3</td>\n",
       "      <td>5</td>\n",
       "      <td>2003</td>\n",
       "      <td>Mūrinis</td>\n",
       "      <td>Centrinis</td>\n",
       "      <td>Įrengtas</td>\n",
       "      <td>A</td>\n",
       "      <td>54.705467</td>\n",
       "      <td>25.286944</td>\n",
       "      <td>Vilnius</td>\n",
       "      <td>205000</td>\n",
       "      <td>Žirmūnai</td>\n",
       "    </tr>\n",
       "    <tr>\n",
       "      <th>2</th>\n",
       "      <td>66,89 m²</td>\n",
       "      <td>3</td>\n",
       "      <td>2</td>\n",
       "      <td>9</td>\n",
       "      <td>1980</td>\n",
       "      <td>Blokinis</td>\n",
       "      <td>Centrinis</td>\n",
       "      <td>Įrengtas</td>\n",
       "      <td>None</td>\n",
       "      <td>54.717923</td>\n",
       "      <td>25.238122</td>\n",
       "      <td>Vilnius</td>\n",
       "      <td>172000</td>\n",
       "      <td>Šeškinė</td>\n",
       "    </tr>\n",
       "  </tbody>\n",
       "</table>\n",
       "</div>"
      ],
      "text/plain": [
       "     plotas  kambariuskaicius  aukstas  aukstuskaicius metai pastatotipas  \\\n",
       "0  34,93 m²                 2        5               5  2023      Mūrinis   \n",
       "1  66,64 m²                 2        3               5  2003      Mūrinis   \n",
       "2  66,89 m²                 3        2               9  1980     Blokinis   \n",
       "\n",
       "                 sildymas irengimas energetineklase     ilguma    platuma  \\\n",
       "0  Centrinis kolektorinis  Įrengtas            None  54.701257  25.272667   \n",
       "1               Centrinis  Įrengtas               A  54.705467  25.286944   \n",
       "2               Centrinis  Įrengtas            None  54.717923  25.238122   \n",
       "\n",
       "   miestas   kaina    rajonas  \n",
       "0  Vilnius  173500  Šnipiškės  \n",
       "1  Vilnius  205000   Žirmūnai  \n",
       "2  Vilnius  172000    Šeškinė  "
      ]
     },
     "execution_count": 39,
     "metadata": {},
     "output_type": "execute_result"
    }
   ],
   "source": [
    "SDB = sqlite3.connect(r'C:\\Users\\pauli\\Desktop\\DataScienceNotebooks\\Studentai\\Paulius Vanagas\\aruodas3.db')\n",
    "Cs = SDB.cursor()\n",
    "sql=\"\"\"SELECT * FROM aruododuomenys;\"\"\"\n",
    "Cs.execute(sql)\n",
    "ans = Cs.fetchall()\n",
    "df = pd.read_sql_query(sql, con=SDB)\n",
    "df.head(3)"
   ]
  },
  {
   "cell_type": "code",
   "execution_count": 40,
   "metadata": {},
   "outputs": [],
   "source": [
    "df1=df\n",
    "df1 = df1.drop(columns=['energetineklase', 'ilguma', 'platuma'])"
   ]
  },
  {
   "cell_type": "code",
   "execution_count": 41,
   "metadata": {},
   "outputs": [],
   "source": [
    "df1 = df1.applymap(lambda x: None if str(x) == 'None' else x)\n",
    "df1 = df1.dropna()"
   ]
  },
  {
   "cell_type": "code",
   "execution_count": 42,
   "metadata": {},
   "outputs": [],
   "source": [
    "df1['plotas']=df1['plotas'].apply(lambda x: x.replace(' ','').replace('m²', '').replace(',','.'))\n",
    "df1['plotas']=df1['plotas'].astype(float)"
   ]
  },
  {
   "cell_type": "code",
   "execution_count": 43,
   "metadata": {},
   "outputs": [],
   "source": [
    "l = LabelEncoder().fit_transform(df1['pastatotipas'])\n",
    "df1['pastatotipas1']=l\n",
    "\n",
    "l = LabelEncoder().fit_transform(df1['sildymas'])\n",
    "df1['sildymas1']=l\n",
    "\n",
    "l = LabelEncoder().fit_transform(df1['irengimas'])\n",
    "df1['irengimas1']=l\n",
    "\n",
    "l = LabelEncoder().fit_transform(df1['miestas'])\n",
    "df1['miestas1']=l\n",
    "\n",
    "l = LabelEncoder().fit_transform(df1['rajonas'])\n",
    "df1['rajonas1']=l"
   ]
  },
  {
   "cell_type": "code",
   "execution_count": 44,
   "metadata": {},
   "outputs": [
    {
     "name": "stdout",
     "output_type": "stream",
     "text": [
      "<class 'pandas.core.frame.DataFrame'>\n",
      "Index: 5026 entries, 0 to 5693\n",
      "Data columns (total 16 columns):\n",
      " #   Column            Non-Null Count  Dtype  \n",
      "---  ------            --------------  -----  \n",
      " 0   plotas            5026 non-null   float64\n",
      " 1   kambariuskaicius  5026 non-null   int64  \n",
      " 2   aukstas           5026 non-null   int64  \n",
      " 3   aukstuskaicius    5026 non-null   int64  \n",
      " 4   metai             5026 non-null   float64\n",
      " 5   pastatotipas      5026 non-null   object \n",
      " 6   sildymas          5026 non-null   object \n",
      " 7   irengimas         5026 non-null   object \n",
      " 8   miestas           5026 non-null   object \n",
      " 9   kaina             5026 non-null   int64  \n",
      " 10  rajonas           5026 non-null   object \n",
      " 11  pastatotipas1     5026 non-null   int64  \n",
      " 12  sildymas1         5026 non-null   int64  \n",
      " 13  irengimas1        5026 non-null   int64  \n",
      " 14  miestas1          5026 non-null   int64  \n",
      " 15  rajonas1          5026 non-null   int64  \n",
      "dtypes: float64(2), int64(9), object(5)\n",
      "memory usage: 667.5+ KB\n"
     ]
    }
   ],
   "source": [
    "df1.info()"
   ]
  },
  {
   "cell_type": "code",
   "execution_count": 45,
   "metadata": {},
   "outputs": [
    {
     "data": {
      "text/plain": [
       "80.1872164109791"
      ]
     },
     "execution_count": 45,
     "metadata": {},
     "output_type": "execute_result"
    }
   ],
   "source": [
    "X= df1.drop(columns=['pastatotipas', 'sildymas','irengimas', 'miestas', 'kaina', 'rajonas' ])\n",
    "y=df1['kaina']\n",
    "X_train, X_test, y_train, y_test = train_test_split(X, y, test_size=0.3, random_state=42)\n",
    "\n",
    "fit = LinearRegression().fit(X_train, y_train)\n",
    "\n",
    "pred = fit.predict(X_test)\n",
    "fit.score(X_test, y_test)*100.0\n",
    "\n"
   ]
  },
  {
   "cell_type": "code",
   "execution_count": 46,
   "metadata": {},
   "outputs": [
    {
     "data": {
      "text/plain": [
       "array([316637.12241816])"
      ]
     },
     "execution_count": 46,
     "metadata": {},
     "output_type": "execute_result"
    }
   ],
   "source": [
    "fit.predict(np.reshape([90, 4, 3, 5, 2020, 5, 5, 4, 4, 10], (1, -1)))\n"
   ]
  },
  {
   "cell_type": "code",
   "execution_count": 47,
   "metadata": {},
   "outputs": [
    {
     "data": {
      "text/plain": [
       "array(['Aleksotas', 'Alksnynė', 'Amaliai', 'Antakalnis', 'Antavilis',\n",
       "       'Aukštieji Šančiai', 'Aukštutiniai Kaniūkai', 'Bajorai', 'Balsiai',\n",
       "       'Baltija', 'Baltupiai', 'Bandužiai', 'Buivydiškės', 'Burbiškės',\n",
       "       'Centras', 'Dainava', 'Debrecenas', 'Didieji Gulbinai',\n",
       "       'Dvarčionys', 'Eiguliai', 'Fabijoniškės', 'Filaretai', 'Freda',\n",
       "       'Galgiai', 'Giruliai', 'Grigiškės', 'Gričiupis', 'Jeruzalė',\n",
       "       'Justiniškės', 'Kairėnai', 'Kalniečiai', 'Kalnėnai',\n",
       "       'Karoliniškės', 'Kaunas', 'Labrenciškės', 'Lampėdžiai',\n",
       "       'Laukininkai', 'Lazdynai', 'Lazdynėliai', 'Liepkalnis',\n",
       "       'Likiškiai', 'Markučiai', 'Mažasis kaimelis', 'Melnragė', 'Miškas',\n",
       "       'Mokykla', 'Naujakiemis', 'Naujamiestis', 'Naujininkai',\n",
       "       'Naujoji Vilnia', 'Palanga', 'Palemonas', 'Panemunė', 'Paneriai',\n",
       "       'Paupiai', 'Paupys', 'Pavilnys', 'Pašilaičiai', 'Petrašiūnai',\n",
       "       'Pilaitė', 'Plytinė', 'Poilsis', 'Putinai', 'Rasos', 'Rokai',\n",
       "       'Romainiai', 'Rumpiškės', 'Salininkai', 'Santariškės',\n",
       "       'Saulėtekis', 'Senamiestis', 'Smeltė', 'Smiltynė', 'Sportininkai',\n",
       "       'Tarandė', 'Tauralaukis', 'Trakų Vokė', 'Trekas', 'Turniškės',\n",
       "       'Užupis', 'Vaišvydava', 'Valakampiai', 'Varpai', 'Verkiai',\n",
       "       'Vidzgiris', 'Vilijampolė', 'Vilkpėdė', 'Vingis', 'Viršuliškės',\n",
       "       'Visoriai', 'Vytėnai', 'Vėtrungė', 'Šauliai', 'Šeškinė',\n",
       "       'Šiaurės miestelis', 'Šilainiai', 'Šnipiškės', 'Šventoji',\n",
       "       'Žaliakalnis', 'Žardininkai', 'Žemieji Paneriai',\n",
       "       'Žemieji Šančiai', 'Žemutiniai Kaniūkai', 'Žirmūnai',\n",
       "       'Žvejybos uostas', 'Žvėrynas'], dtype=object)"
      ]
     },
     "execution_count": 47,
     "metadata": {},
     "output_type": "execute_result"
    }
   ],
   "source": [
    "le=LabelEncoder()\n",
    "l = le.fit_transform(df1['rajonas'])\n",
    "le.classes_"
   ]
  },
  {
   "cell_type": "code",
   "execution_count": 48,
   "metadata": {},
   "outputs": [
    {
     "name": "stdout",
     "output_type": "stream",
     "text": [
      "Category Mapping: {'Šnipiškės': np.int64(96), 'Žirmūnai': np.int64(103), 'Šeškinė': np.int64(93), 'Pašilaičiai': np.int64(57), 'Pilaitė': np.int64(59), 'Antakalnis': np.int64(3), 'Baltupiai': np.int64(10), 'Vilkpėdė': np.int64(86), 'Kalnėnai': np.int64(31), 'Senamiestis': np.int64(70), 'Karoliniškės': np.int64(32), 'Naujamiestis': np.int64(47), 'Naujininkai': np.int64(48), 'Lazdynėliai': np.int64(38), 'Žvėrynas': np.int64(105), 'Justiniškės': np.int64(28), 'Lazdynai': np.int64(37), 'Užupis': np.int64(79), 'Fabijoniškės': np.int64(20), 'Santariškės': np.int64(68), 'Jeruzalė': np.int64(27), 'Markučiai': np.int64(41), 'Žemieji Paneriai': np.int64(100), 'Naujoji Vilnia': np.int64(49), 'Viršuliškės': np.int64(88), 'Verkiai': np.int64(83), 'Šiaurės miestelis': np.int64(94), 'Grigiškės': np.int64(25), 'Paupys': np.int64(55), 'Salininkai': np.int64(67), 'Trakų Vokė': np.int64(76), 'Bajorai': np.int64(7), 'Burbiškės': np.int64(13), 'Rasos': np.int64(63), 'Valakampiai': np.int64(81), 'Liepkalnis': np.int64(39), 'Paneriai': np.int64(53), 'Filaretai': np.int64(21), 'Tarandė': np.int64(74), 'Saulėtekis': np.int64(69), 'Visoriai': np.int64(89), 'Buivydiškės': np.int64(12), 'Turniškės': np.int64(78), 'Kairėnai': np.int64(29), 'Balsiai': np.int64(8), 'Pavilnys': np.int64(56), 'Dvarčionys': np.int64(18), 'Didieji Gulbinai': np.int64(17), 'Antavilis': np.int64(4), 'Galgiai': np.int64(23), 'Šilainiai': np.int64(95), 'Žemieji Šančiai': np.int64(101), 'Vilijampolė': np.int64(85), 'Centras': np.int64(14), 'Dainava': np.int64(15), 'Žaliakalnis': np.int64(98), 'Freda': np.int64(22), 'Petrašiūnai': np.int64(58), 'Žemutiniai Kaniūkai': np.int64(102), 'Rokai': np.int64(64), 'Gričiupis': np.int64(26), 'Aukštieji Šančiai': np.int64(5), 'Eiguliai': np.int64(19), 'Panemunė': np.int64(52), 'Vytėnai': np.int64(90), 'Lampėdžiai': np.int64(35), 'Aleksotas': np.int64(0), 'Kalniečiai': np.int64(30), 'Vaišvydava': np.int64(80), 'Romainiai': np.int64(65), 'Palemonas': np.int64(51), 'Aukštutiniai Kaniūkai': np.int64(6), 'Amaliai': np.int64(2), 'Kaunas': np.int64(33), 'Šventoji': np.int64(97), 'Palanga': np.int64(50), 'Miškas': np.int64(44), 'Vėtrungė': np.int64(91), 'Žvejybos uostas': np.int64(104), 'Alksnynė': np.int64(1), 'Mažasis kaimelis': np.int64(42), 'Bandužiai': np.int64(11), 'Debrecenas': np.int64(16), 'Giruliai': np.int64(24), 'Laukininkai': np.int64(36), 'Vingis': np.int64(87), 'Poilsis': np.int64(61), 'Labrenciškės': np.int64(34), 'Baltija': np.int64(9), 'Varpai': np.int64(82), 'Rumpiškės': np.int64(66), 'Naujakiemis': np.int64(46), 'Šauliai': np.int64(92), 'Paupiai': np.int64(54), 'Mokykla': np.int64(45), 'Sportininkai': np.int64(73), 'Tauralaukis': np.int64(75), 'Žardininkai': np.int64(99), 'Trekas': np.int64(77), 'Melnragė': np.int64(43), 'Smeltė': np.int64(71), 'Plytinė': np.int64(60), 'Smiltynė': np.int64(72), 'Putinai': np.int64(62), 'Vidzgiris': np.int64(84), 'Likiškiai': np.int64(40)}\n"
     ]
    }
   ],
   "source": [
    "label_encoder = LabelEncoder()\n",
    "encoded_data = label_encoder.fit_transform(df1['rajonas'])\n",
    "print('Category Mapping:', dict(zip(df1['rajonas'], encoded_data)))"
   ]
  },
  {
   "cell_type": "code",
   "execution_count": 18,
   "metadata": {},
   "outputs": [],
   "source": [
    "# Tiesinės regresijos ir sprendimų medžio (regresoriaus) palyginimas :\n",
    "#     paimkite savo darytą automobilių bei butų (pardavimui)  kainos spėjimo algoritmą\n",
    "#     su linijine regresija, tuos pačius duomenis pateikite DecissionTreeRegressor(). Abiem \n",
    "#     atvejais paskaičiuokite accuracy_score, patestuokite su 2-5 vartotojo įvestimis. \n",
    "#     Kuris modelis davė tikslesnius rezultatus? "
   ]
  },
  {
   "cell_type": "code",
   "execution_count": 19,
   "metadata": {},
   "outputs": [],
   "source": [
    "from sklearn.metrics import mean_squared_error\n",
    "from sklearn.preprocessing import LabelEncoder\n",
    "\n",
    "from sklearn.tree import DecisionTreeRegressor"
   ]
  },
  {
   "cell_type": "code",
   "execution_count": 49,
   "metadata": {},
   "outputs": [],
   "source": [
    "regressor = DecisionTreeRegressor(random_state = 0)"
   ]
  },
  {
   "cell_type": "code",
   "execution_count": 50,
   "metadata": {},
   "outputs": [
    {
     "data": {
      "text/html": [
       "<style>#sk-container-id-2 {\n",
       "  /* Definition of color scheme common for light and dark mode */\n",
       "  --sklearn-color-text: #000;\n",
       "  --sklearn-color-text-muted: #666;\n",
       "  --sklearn-color-line: gray;\n",
       "  /* Definition of color scheme for unfitted estimators */\n",
       "  --sklearn-color-unfitted-level-0: #fff5e6;\n",
       "  --sklearn-color-unfitted-level-1: #f6e4d2;\n",
       "  --sklearn-color-unfitted-level-2: #ffe0b3;\n",
       "  --sklearn-color-unfitted-level-3: chocolate;\n",
       "  /* Definition of color scheme for fitted estimators */\n",
       "  --sklearn-color-fitted-level-0: #f0f8ff;\n",
       "  --sklearn-color-fitted-level-1: #d4ebff;\n",
       "  --sklearn-color-fitted-level-2: #b3dbfd;\n",
       "  --sklearn-color-fitted-level-3: cornflowerblue;\n",
       "\n",
       "  /* Specific color for light theme */\n",
       "  --sklearn-color-text-on-default-background: var(--sg-text-color, var(--theme-code-foreground, var(--jp-content-font-color1, black)));\n",
       "  --sklearn-color-background: var(--sg-background-color, var(--theme-background, var(--jp-layout-color0, white)));\n",
       "  --sklearn-color-border-box: var(--sg-text-color, var(--theme-code-foreground, var(--jp-content-font-color1, black)));\n",
       "  --sklearn-color-icon: #696969;\n",
       "\n",
       "  @media (prefers-color-scheme: dark) {\n",
       "    /* Redefinition of color scheme for dark theme */\n",
       "    --sklearn-color-text-on-default-background: var(--sg-text-color, var(--theme-code-foreground, var(--jp-content-font-color1, white)));\n",
       "    --sklearn-color-background: var(--sg-background-color, var(--theme-background, var(--jp-layout-color0, #111)));\n",
       "    --sklearn-color-border-box: var(--sg-text-color, var(--theme-code-foreground, var(--jp-content-font-color1, white)));\n",
       "    --sklearn-color-icon: #878787;\n",
       "  }\n",
       "}\n",
       "\n",
       "#sk-container-id-2 {\n",
       "  color: var(--sklearn-color-text);\n",
       "}\n",
       "\n",
       "#sk-container-id-2 pre {\n",
       "  padding: 0;\n",
       "}\n",
       "\n",
       "#sk-container-id-2 input.sk-hidden--visually {\n",
       "  border: 0;\n",
       "  clip: rect(1px 1px 1px 1px);\n",
       "  clip: rect(1px, 1px, 1px, 1px);\n",
       "  height: 1px;\n",
       "  margin: -1px;\n",
       "  overflow: hidden;\n",
       "  padding: 0;\n",
       "  position: absolute;\n",
       "  width: 1px;\n",
       "}\n",
       "\n",
       "#sk-container-id-2 div.sk-dashed-wrapped {\n",
       "  border: 1px dashed var(--sklearn-color-line);\n",
       "  margin: 0 0.4em 0.5em 0.4em;\n",
       "  box-sizing: border-box;\n",
       "  padding-bottom: 0.4em;\n",
       "  background-color: var(--sklearn-color-background);\n",
       "}\n",
       "\n",
       "#sk-container-id-2 div.sk-container {\n",
       "  /* jupyter's `normalize.less` sets `[hidden] { display: none; }`\n",
       "     but bootstrap.min.css set `[hidden] { display: none !important; }`\n",
       "     so we also need the `!important` here to be able to override the\n",
       "     default hidden behavior on the sphinx rendered scikit-learn.org.\n",
       "     See: https://github.com/scikit-learn/scikit-learn/issues/21755 */\n",
       "  display: inline-block !important;\n",
       "  position: relative;\n",
       "}\n",
       "\n",
       "#sk-container-id-2 div.sk-text-repr-fallback {\n",
       "  display: none;\n",
       "}\n",
       "\n",
       "div.sk-parallel-item,\n",
       "div.sk-serial,\n",
       "div.sk-item {\n",
       "  /* draw centered vertical line to link estimators */\n",
       "  background-image: linear-gradient(var(--sklearn-color-text-on-default-background), var(--sklearn-color-text-on-default-background));\n",
       "  background-size: 2px 100%;\n",
       "  background-repeat: no-repeat;\n",
       "  background-position: center center;\n",
       "}\n",
       "\n",
       "/* Parallel-specific style estimator block */\n",
       "\n",
       "#sk-container-id-2 div.sk-parallel-item::after {\n",
       "  content: \"\";\n",
       "  width: 100%;\n",
       "  border-bottom: 2px solid var(--sklearn-color-text-on-default-background);\n",
       "  flex-grow: 1;\n",
       "}\n",
       "\n",
       "#sk-container-id-2 div.sk-parallel {\n",
       "  display: flex;\n",
       "  align-items: stretch;\n",
       "  justify-content: center;\n",
       "  background-color: var(--sklearn-color-background);\n",
       "  position: relative;\n",
       "}\n",
       "\n",
       "#sk-container-id-2 div.sk-parallel-item {\n",
       "  display: flex;\n",
       "  flex-direction: column;\n",
       "}\n",
       "\n",
       "#sk-container-id-2 div.sk-parallel-item:first-child::after {\n",
       "  align-self: flex-end;\n",
       "  width: 50%;\n",
       "}\n",
       "\n",
       "#sk-container-id-2 div.sk-parallel-item:last-child::after {\n",
       "  align-self: flex-start;\n",
       "  width: 50%;\n",
       "}\n",
       "\n",
       "#sk-container-id-2 div.sk-parallel-item:only-child::after {\n",
       "  width: 0;\n",
       "}\n",
       "\n",
       "/* Serial-specific style estimator block */\n",
       "\n",
       "#sk-container-id-2 div.sk-serial {\n",
       "  display: flex;\n",
       "  flex-direction: column;\n",
       "  align-items: center;\n",
       "  background-color: var(--sklearn-color-background);\n",
       "  padding-right: 1em;\n",
       "  padding-left: 1em;\n",
       "}\n",
       "\n",
       "\n",
       "/* Toggleable style: style used for estimator/Pipeline/ColumnTransformer box that is\n",
       "clickable and can be expanded/collapsed.\n",
       "- Pipeline and ColumnTransformer use this feature and define the default style\n",
       "- Estimators will overwrite some part of the style using the `sk-estimator` class\n",
       "*/\n",
       "\n",
       "/* Pipeline and ColumnTransformer style (default) */\n",
       "\n",
       "#sk-container-id-2 div.sk-toggleable {\n",
       "  /* Default theme specific background. It is overwritten whether we have a\n",
       "  specific estimator or a Pipeline/ColumnTransformer */\n",
       "  background-color: var(--sklearn-color-background);\n",
       "}\n",
       "\n",
       "/* Toggleable label */\n",
       "#sk-container-id-2 label.sk-toggleable__label {\n",
       "  cursor: pointer;\n",
       "  display: flex;\n",
       "  width: 100%;\n",
       "  margin-bottom: 0;\n",
       "  padding: 0.5em;\n",
       "  box-sizing: border-box;\n",
       "  text-align: center;\n",
       "  align-items: start;\n",
       "  justify-content: space-between;\n",
       "  gap: 0.5em;\n",
       "}\n",
       "\n",
       "#sk-container-id-2 label.sk-toggleable__label .caption {\n",
       "  font-size: 0.6rem;\n",
       "  font-weight: lighter;\n",
       "  color: var(--sklearn-color-text-muted);\n",
       "}\n",
       "\n",
       "#sk-container-id-2 label.sk-toggleable__label-arrow:before {\n",
       "  /* Arrow on the left of the label */\n",
       "  content: \"▸\";\n",
       "  float: left;\n",
       "  margin-right: 0.25em;\n",
       "  color: var(--sklearn-color-icon);\n",
       "}\n",
       "\n",
       "#sk-container-id-2 label.sk-toggleable__label-arrow:hover:before {\n",
       "  color: var(--sklearn-color-text);\n",
       "}\n",
       "\n",
       "/* Toggleable content - dropdown */\n",
       "\n",
       "#sk-container-id-2 div.sk-toggleable__content {\n",
       "  max-height: 0;\n",
       "  max-width: 0;\n",
       "  overflow: hidden;\n",
       "  text-align: left;\n",
       "  /* unfitted */\n",
       "  background-color: var(--sklearn-color-unfitted-level-0);\n",
       "}\n",
       "\n",
       "#sk-container-id-2 div.sk-toggleable__content.fitted {\n",
       "  /* fitted */\n",
       "  background-color: var(--sklearn-color-fitted-level-0);\n",
       "}\n",
       "\n",
       "#sk-container-id-2 div.sk-toggleable__content pre {\n",
       "  margin: 0.2em;\n",
       "  border-radius: 0.25em;\n",
       "  color: var(--sklearn-color-text);\n",
       "  /* unfitted */\n",
       "  background-color: var(--sklearn-color-unfitted-level-0);\n",
       "}\n",
       "\n",
       "#sk-container-id-2 div.sk-toggleable__content.fitted pre {\n",
       "  /* unfitted */\n",
       "  background-color: var(--sklearn-color-fitted-level-0);\n",
       "}\n",
       "\n",
       "#sk-container-id-2 input.sk-toggleable__control:checked~div.sk-toggleable__content {\n",
       "  /* Expand drop-down */\n",
       "  max-height: 200px;\n",
       "  max-width: 100%;\n",
       "  overflow: auto;\n",
       "}\n",
       "\n",
       "#sk-container-id-2 input.sk-toggleable__control:checked~label.sk-toggleable__label-arrow:before {\n",
       "  content: \"▾\";\n",
       "}\n",
       "\n",
       "/* Pipeline/ColumnTransformer-specific style */\n",
       "\n",
       "#sk-container-id-2 div.sk-label input.sk-toggleable__control:checked~label.sk-toggleable__label {\n",
       "  color: var(--sklearn-color-text);\n",
       "  background-color: var(--sklearn-color-unfitted-level-2);\n",
       "}\n",
       "\n",
       "#sk-container-id-2 div.sk-label.fitted input.sk-toggleable__control:checked~label.sk-toggleable__label {\n",
       "  background-color: var(--sklearn-color-fitted-level-2);\n",
       "}\n",
       "\n",
       "/* Estimator-specific style */\n",
       "\n",
       "/* Colorize estimator box */\n",
       "#sk-container-id-2 div.sk-estimator input.sk-toggleable__control:checked~label.sk-toggleable__label {\n",
       "  /* unfitted */\n",
       "  background-color: var(--sklearn-color-unfitted-level-2);\n",
       "}\n",
       "\n",
       "#sk-container-id-2 div.sk-estimator.fitted input.sk-toggleable__control:checked~label.sk-toggleable__label {\n",
       "  /* fitted */\n",
       "  background-color: var(--sklearn-color-fitted-level-2);\n",
       "}\n",
       "\n",
       "#sk-container-id-2 div.sk-label label.sk-toggleable__label,\n",
       "#sk-container-id-2 div.sk-label label {\n",
       "  /* The background is the default theme color */\n",
       "  color: var(--sklearn-color-text-on-default-background);\n",
       "}\n",
       "\n",
       "/* On hover, darken the color of the background */\n",
       "#sk-container-id-2 div.sk-label:hover label.sk-toggleable__label {\n",
       "  color: var(--sklearn-color-text);\n",
       "  background-color: var(--sklearn-color-unfitted-level-2);\n",
       "}\n",
       "\n",
       "/* Label box, darken color on hover, fitted */\n",
       "#sk-container-id-2 div.sk-label.fitted:hover label.sk-toggleable__label.fitted {\n",
       "  color: var(--sklearn-color-text);\n",
       "  background-color: var(--sklearn-color-fitted-level-2);\n",
       "}\n",
       "\n",
       "/* Estimator label */\n",
       "\n",
       "#sk-container-id-2 div.sk-label label {\n",
       "  font-family: monospace;\n",
       "  font-weight: bold;\n",
       "  display: inline-block;\n",
       "  line-height: 1.2em;\n",
       "}\n",
       "\n",
       "#sk-container-id-2 div.sk-label-container {\n",
       "  text-align: center;\n",
       "}\n",
       "\n",
       "/* Estimator-specific */\n",
       "#sk-container-id-2 div.sk-estimator {\n",
       "  font-family: monospace;\n",
       "  border: 1px dotted var(--sklearn-color-border-box);\n",
       "  border-radius: 0.25em;\n",
       "  box-sizing: border-box;\n",
       "  margin-bottom: 0.5em;\n",
       "  /* unfitted */\n",
       "  background-color: var(--sklearn-color-unfitted-level-0);\n",
       "}\n",
       "\n",
       "#sk-container-id-2 div.sk-estimator.fitted {\n",
       "  /* fitted */\n",
       "  background-color: var(--sklearn-color-fitted-level-0);\n",
       "}\n",
       "\n",
       "/* on hover */\n",
       "#sk-container-id-2 div.sk-estimator:hover {\n",
       "  /* unfitted */\n",
       "  background-color: var(--sklearn-color-unfitted-level-2);\n",
       "}\n",
       "\n",
       "#sk-container-id-2 div.sk-estimator.fitted:hover {\n",
       "  /* fitted */\n",
       "  background-color: var(--sklearn-color-fitted-level-2);\n",
       "}\n",
       "\n",
       "/* Specification for estimator info (e.g. \"i\" and \"?\") */\n",
       "\n",
       "/* Common style for \"i\" and \"?\" */\n",
       "\n",
       ".sk-estimator-doc-link,\n",
       "a:link.sk-estimator-doc-link,\n",
       "a:visited.sk-estimator-doc-link {\n",
       "  float: right;\n",
       "  font-size: smaller;\n",
       "  line-height: 1em;\n",
       "  font-family: monospace;\n",
       "  background-color: var(--sklearn-color-background);\n",
       "  border-radius: 1em;\n",
       "  height: 1em;\n",
       "  width: 1em;\n",
       "  text-decoration: none !important;\n",
       "  margin-left: 0.5em;\n",
       "  text-align: center;\n",
       "  /* unfitted */\n",
       "  border: var(--sklearn-color-unfitted-level-1) 1pt solid;\n",
       "  color: var(--sklearn-color-unfitted-level-1);\n",
       "}\n",
       "\n",
       ".sk-estimator-doc-link.fitted,\n",
       "a:link.sk-estimator-doc-link.fitted,\n",
       "a:visited.sk-estimator-doc-link.fitted {\n",
       "  /* fitted */\n",
       "  border: var(--sklearn-color-fitted-level-1) 1pt solid;\n",
       "  color: var(--sklearn-color-fitted-level-1);\n",
       "}\n",
       "\n",
       "/* On hover */\n",
       "div.sk-estimator:hover .sk-estimator-doc-link:hover,\n",
       ".sk-estimator-doc-link:hover,\n",
       "div.sk-label-container:hover .sk-estimator-doc-link:hover,\n",
       ".sk-estimator-doc-link:hover {\n",
       "  /* unfitted */\n",
       "  background-color: var(--sklearn-color-unfitted-level-3);\n",
       "  color: var(--sklearn-color-background);\n",
       "  text-decoration: none;\n",
       "}\n",
       "\n",
       "div.sk-estimator.fitted:hover .sk-estimator-doc-link.fitted:hover,\n",
       ".sk-estimator-doc-link.fitted:hover,\n",
       "div.sk-label-container:hover .sk-estimator-doc-link.fitted:hover,\n",
       ".sk-estimator-doc-link.fitted:hover {\n",
       "  /* fitted */\n",
       "  background-color: var(--sklearn-color-fitted-level-3);\n",
       "  color: var(--sklearn-color-background);\n",
       "  text-decoration: none;\n",
       "}\n",
       "\n",
       "/* Span, style for the box shown on hovering the info icon */\n",
       ".sk-estimator-doc-link span {\n",
       "  display: none;\n",
       "  z-index: 9999;\n",
       "  position: relative;\n",
       "  font-weight: normal;\n",
       "  right: .2ex;\n",
       "  padding: .5ex;\n",
       "  margin: .5ex;\n",
       "  width: min-content;\n",
       "  min-width: 20ex;\n",
       "  max-width: 50ex;\n",
       "  color: var(--sklearn-color-text);\n",
       "  box-shadow: 2pt 2pt 4pt #999;\n",
       "  /* unfitted */\n",
       "  background: var(--sklearn-color-unfitted-level-0);\n",
       "  border: .5pt solid var(--sklearn-color-unfitted-level-3);\n",
       "}\n",
       "\n",
       ".sk-estimator-doc-link.fitted span {\n",
       "  /* fitted */\n",
       "  background: var(--sklearn-color-fitted-level-0);\n",
       "  border: var(--sklearn-color-fitted-level-3);\n",
       "}\n",
       "\n",
       ".sk-estimator-doc-link:hover span {\n",
       "  display: block;\n",
       "}\n",
       "\n",
       "/* \"?\"-specific style due to the `<a>` HTML tag */\n",
       "\n",
       "#sk-container-id-2 a.estimator_doc_link {\n",
       "  float: right;\n",
       "  font-size: 1rem;\n",
       "  line-height: 1em;\n",
       "  font-family: monospace;\n",
       "  background-color: var(--sklearn-color-background);\n",
       "  border-radius: 1rem;\n",
       "  height: 1rem;\n",
       "  width: 1rem;\n",
       "  text-decoration: none;\n",
       "  /* unfitted */\n",
       "  color: var(--sklearn-color-unfitted-level-1);\n",
       "  border: var(--sklearn-color-unfitted-level-1) 1pt solid;\n",
       "}\n",
       "\n",
       "#sk-container-id-2 a.estimator_doc_link.fitted {\n",
       "  /* fitted */\n",
       "  border: var(--sklearn-color-fitted-level-1) 1pt solid;\n",
       "  color: var(--sklearn-color-fitted-level-1);\n",
       "}\n",
       "\n",
       "/* On hover */\n",
       "#sk-container-id-2 a.estimator_doc_link:hover {\n",
       "  /* unfitted */\n",
       "  background-color: var(--sklearn-color-unfitted-level-3);\n",
       "  color: var(--sklearn-color-background);\n",
       "  text-decoration: none;\n",
       "}\n",
       "\n",
       "#sk-container-id-2 a.estimator_doc_link.fitted:hover {\n",
       "  /* fitted */\n",
       "  background-color: var(--sklearn-color-fitted-level-3);\n",
       "}\n",
       "</style><div id=\"sk-container-id-2\" class=\"sk-top-container\"><div class=\"sk-text-repr-fallback\"><pre>DecisionTreeRegressor(random_state=0)</pre><b>In a Jupyter environment, please rerun this cell to show the HTML representation or trust the notebook. <br />On GitHub, the HTML representation is unable to render, please try loading this page with nbviewer.org.</b></div><div class=\"sk-container\" hidden><div class=\"sk-item\"><div class=\"sk-estimator fitted sk-toggleable\"><input class=\"sk-toggleable__control sk-hidden--visually\" id=\"sk-estimator-id-2\" type=\"checkbox\" checked><label for=\"sk-estimator-id-2\" class=\"sk-toggleable__label fitted sk-toggleable__label-arrow\"><div><div>DecisionTreeRegressor</div></div><div><a class=\"sk-estimator-doc-link fitted\" rel=\"noreferrer\" target=\"_blank\" href=\"https://scikit-learn.org/1.6/modules/generated/sklearn.tree.DecisionTreeRegressor.html\">?<span>Documentation for DecisionTreeRegressor</span></a><span class=\"sk-estimator-doc-link fitted\">i<span>Fitted</span></span></div></label><div class=\"sk-toggleable__content fitted\"><pre>DecisionTreeRegressor(random_state=0)</pre></div> </div></div></div></div>"
      ],
      "text/plain": [
       "DecisionTreeRegressor(random_state=0)"
      ]
     },
     "execution_count": 50,
     "metadata": {},
     "output_type": "execute_result"
    }
   ],
   "source": [
    "regressor.fit(X_train, y_train)"
   ]
  },
  {
   "cell_type": "code",
   "execution_count": 51,
   "metadata": {},
   "outputs": [
    {
     "data": {
      "text/plain": [
       "33.726259958107775"
      ]
     },
     "execution_count": 51,
     "metadata": {},
     "output_type": "execute_result"
    }
   ],
   "source": [
    "regressor.score(X_test, y_test)*100.0"
   ]
  },
  {
   "cell_type": "code",
   "execution_count": 21,
   "metadata": {},
   "outputs": [],
   "source": [
    "# y_pred = regressor.predict([[3750]])\n",
    "# print(\"Predicted price: % d\\n\"% y_pred)"
   ]
  },
  {
   "cell_type": "code",
   "execution_count": null,
   "metadata": {},
   "outputs": [],
   "source": []
  },
  {
   "cell_type": "code",
   "execution_count": 22,
   "metadata": {},
   "outputs": [
    {
     "name": "stdout",
     "output_type": "stream",
     "text": [
      "<class 'pandas.core.frame.DataFrame'>\n",
      "Index: 5026 entries, 0 to 5693\n",
      "Data columns (total 10 columns):\n",
      " #   Column            Non-Null Count  Dtype  \n",
      "---  ------            --------------  -----  \n",
      " 0   plotas            5026 non-null   float64\n",
      " 1   kambariuskaicius  5026 non-null   int64  \n",
      " 2   aukstas           5026 non-null   int64  \n",
      " 3   aukstuskaicius    5026 non-null   int64  \n",
      " 4   metai             5026 non-null   float64\n",
      " 5   pastatotipas1     5026 non-null   int64  \n",
      " 6   sildymas1         5026 non-null   int64  \n",
      " 7   irengimas1        5026 non-null   int64  \n",
      " 8   miestas1          5026 non-null   int64  \n",
      " 9   rajonas1          5026 non-null   int64  \n",
      "dtypes: float64(2), int64(8)\n",
      "memory usage: 431.9 KB\n"
     ]
    }
   ],
   "source": [
    "X.info()"
   ]
  },
  {
   "cell_type": "code",
   "execution_count": 52,
   "metadata": {},
   "outputs": [
    {
     "data": {
      "text/html": [
       "<div>\n",
       "<style scoped>\n",
       "    .dataframe tbody tr th:only-of-type {\n",
       "        vertical-align: middle;\n",
       "    }\n",
       "\n",
       "    .dataframe tbody tr th {\n",
       "        vertical-align: top;\n",
       "    }\n",
       "\n",
       "    .dataframe thead th {\n",
       "        text-align: right;\n",
       "    }\n",
       "</style>\n",
       "<table border=\"1\" class=\"dataframe\">\n",
       "  <thead>\n",
       "    <tr style=\"text-align: right;\">\n",
       "      <th></th>\n",
       "      <th>gamintojas</th>\n",
       "      <th>modelis</th>\n",
       "      <th>kaina</th>\n",
       "      <th>metai</th>\n",
       "      <th>kebulas</th>\n",
       "      <th>kuras</th>\n",
       "      <th>pavaros</th>\n",
       "      <th>galingumas</th>\n",
       "      <th>rida</th>\n",
       "      <th>nuorodos</th>\n",
       "      <th>pirmaregistracija</th>\n",
       "      <th>technikine</th>\n",
       "    </tr>\n",
       "  </thead>\n",
       "  <tbody>\n",
       "    <tr>\n",
       "      <th>0</th>\n",
       "      <td>-Kita-</td>\n",
       "      <td>-kita-</td>\n",
       "      <td>1750.0</td>\n",
       "      <td>2008.0</td>\n",
       "      <td>Krovininis mikroautobusas</td>\n",
       "      <td>Dyzelinas</td>\n",
       "      <td>Mechaninė</td>\n",
       "      <td>None</td>\n",
       "      <td>NaN</td>\n",
       "      <td>https://autoplius.lt/skelbimai/kita-kita-krovi...</td>\n",
       "      <td>None</td>\n",
       "      <td>None</td>\n",
       "    </tr>\n",
       "    <tr>\n",
       "      <th>1</th>\n",
       "      <td>-Kita-</td>\n",
       "      <td>-kita-</td>\n",
       "      <td>3900.0</td>\n",
       "      <td>2011.0</td>\n",
       "      <td>Sedanas</td>\n",
       "      <td>Elektra</td>\n",
       "      <td>None</td>\n",
       "      <td>None</td>\n",
       "      <td>10.0</td>\n",
       "      <td>https://autoplius.lt/skelbimai/kita-kita-sedan...</td>\n",
       "      <td>None</td>\n",
       "      <td>None</td>\n",
       "    </tr>\n",
       "    <tr>\n",
       "      <th>2</th>\n",
       "      <td>-Kita-</td>\n",
       "      <td>-kita-</td>\n",
       "      <td>6800.0</td>\n",
       "      <td>2020.0</td>\n",
       "      <td>Hečbekas</td>\n",
       "      <td>Elektra</td>\n",
       "      <td>None</td>\n",
       "      <td>29</td>\n",
       "      <td>14000.0</td>\n",
       "      <td>https://autoplius.lt/skelbimai/kita-kita-hecbe...</td>\n",
       "      <td>None</td>\n",
       "      <td>2025-03</td>\n",
       "    </tr>\n",
       "  </tbody>\n",
       "</table>\n",
       "</div>"
      ],
      "text/plain": [
       "  gamintojas modelis   kaina   metai                    kebulas      kuras  \\\n",
       "0     -Kita-  -kita-  1750.0  2008.0  Krovininis mikroautobusas  Dyzelinas   \n",
       "1     -Kita-  -kita-  3900.0  2011.0                    Sedanas    Elektra   \n",
       "2     -Kita-  -kita-  6800.0  2020.0                   Hečbekas    Elektra   \n",
       "\n",
       "     pavaros galingumas     rida  \\\n",
       "0  Mechaninė       None      NaN   \n",
       "1       None       None     10.0   \n",
       "2       None         29  14000.0   \n",
       "\n",
       "                                            nuorodos pirmaregistracija  \\\n",
       "0  https://autoplius.lt/skelbimai/kita-kita-krovi...              None   \n",
       "1  https://autoplius.lt/skelbimai/kita-kita-sedan...              None   \n",
       "2  https://autoplius.lt/skelbimai/kita-kita-hecbe...              None   \n",
       "\n",
       "  technikine  \n",
       "0       None  \n",
       "1       None  \n",
       "2    2025-03  "
      ]
     },
     "execution_count": 52,
     "metadata": {},
     "output_type": "execute_result"
    }
   ],
   "source": [
    "SDB = sqlite3.connect(r'C:\\Users\\pauli\\Desktop\\DataScienceNotebooks\\Studentai\\Paulius Vanagas\\autopliusvisi.db')\n",
    "Cs = SDB.cursor()\n",
    "sql=\"\"\"SELECT * FROM T1;\"\"\"\n",
    "Cs.execute(sql)\n",
    "ans = Cs.fetchall()\n",
    "dfa = pd.read_sql_query(sql, con=SDB)\n",
    "dfa.head(3)"
   ]
  },
  {
   "cell_type": "code",
   "execution_count": 53,
   "metadata": {},
   "outputs": [],
   "source": [
    "df2=dfa\n",
    "df2 = df2.drop(columns=['nuorodos', 'technikine', 'pirmaregistracija'])"
   ]
  },
  {
   "cell_type": "code",
   "execution_count": 54,
   "metadata": {},
   "outputs": [],
   "source": [
    "df2 = df2.applymap(lambda x: None if str(x) in ['None', 'NaN'] else x)\n",
    "df2 = df2.dropna()\n",
    "df2['galingumas']=df2['galingumas'].astype(float)"
   ]
  },
  {
   "cell_type": "code",
   "execution_count": 55,
   "metadata": {},
   "outputs": [],
   "source": [
    "l2 = LabelEncoder().fit_transform(df2['gamintojas'])\n",
    "df2['gamintojas1']=l2\n",
    "\n",
    "l2 = LabelEncoder().fit_transform(df2['modelis'])\n",
    "df2['modelis1']=l2\n",
    "\n",
    "l2 = LabelEncoder().fit_transform(df2['kebulas'])\n",
    "df2['kebulas1']=l2\n",
    "\n",
    "l2 = LabelEncoder().fit_transform(df2['kuras'])\n",
    "df2['kuras1']=l2\n",
    "\n",
    "l2 = LabelEncoder().fit_transform(df2['pavaros'])\n",
    "df2['pavaros1']=l2"
   ]
  },
  {
   "cell_type": "code",
   "execution_count": 56,
   "metadata": {},
   "outputs": [
    {
     "data": {
      "text/plain": [
       "57.31378952150352"
      ]
     },
     "execution_count": 56,
     "metadata": {},
     "output_type": "execute_result"
    }
   ],
   "source": [
    "X= df2.drop(columns=['gamintojas', 'modelis','kaina', 'kebulas', 'kuras', 'pavaros' ])\n",
    "y=df2['kaina']\n",
    "X_train, X_test, y_train, y_test = train_test_split(X, y, test_size=0.2, random_state=42)\n",
    "\n",
    "fit = LinearRegression().fit(X_train, y_train)\n",
    "\n",
    "pred = fit.predict(X_test)\n",
    "fit.score(X_test, y_test)*100.0"
   ]
  },
  {
   "cell_type": "code",
   "execution_count": 57,
   "metadata": {},
   "outputs": [
    {
     "data": {
      "text/plain": [
       "72.7414436866419"
      ]
     },
     "execution_count": 57,
     "metadata": {},
     "output_type": "execute_result"
    }
   ],
   "source": [
    "regressor = DecisionTreeRegressor(random_state = 0)\n",
    "regressor.fit(X_train, y_train)\n",
    "regressor.score(X_test, y_test)*100.0"
   ]
  },
  {
   "cell_type": "code",
   "execution_count": 28,
   "metadata": {},
   "outputs": [
    {
     "data": {
      "text/plain": [
       "array([14060.74602209])"
      ]
     },
     "execution_count": 28,
     "metadata": {},
     "output_type": "execute_result"
    }
   ],
   "source": [
    "fit.predict(np.reshape([2019, 118, 50000, 14, 162, 0, 0, 0], (1, -1)))"
   ]
  },
  {
   "cell_type": "code",
   "execution_count": 29,
   "metadata": {},
   "outputs": [
    {
     "name": "stdout",
     "output_type": "stream",
     "text": [
      "Category Mapping: {'Mechaninė': np.int64(1), 'Automatinė': np.int64(0)}\n"
     ]
    }
   ],
   "source": [
    "label_encoder = LabelEncoder()\n",
    "encoded_data = label_encoder.fit_transform(df2['pavaros'])\n",
    "print('Category Mapping:', dict(zip(df2['pavaros'], encoded_data)))"
   ]
  },
  {
   "cell_type": "code",
   "execution_count": 61,
   "metadata": {},
   "outputs": [
    {
     "data": {
      "text/plain": [
       "Index(['metai', 'galingumas', 'rida', 'gamintojas1', 'modelis1', 'kebulas1',\n",
       "       'kuras1', 'pavaros1'],\n",
       "      dtype='object')"
      ]
     },
     "execution_count": 61,
     "metadata": {},
     "output_type": "execute_result"
    }
   ],
   "source": [
    "X.columns"
   ]
  },
  {
   "cell_type": "code",
   "execution_count": 30,
   "metadata": {},
   "outputs": [
    {
     "name": "stdout",
     "output_type": "stream",
     "text": [
      "<class 'pandas.core.frame.DataFrame'>\n",
      "Index: 2188 entries, 4 to 2517\n",
      "Data columns (total 8 columns):\n",
      " #   Column       Non-Null Count  Dtype  \n",
      "---  ------       --------------  -----  \n",
      " 0   metai        2188 non-null   float64\n",
      " 1   galingumas   2188 non-null   float64\n",
      " 2   rida         2188 non-null   float64\n",
      " 3   gamintojas1  2188 non-null   int64  \n",
      " 4   modelis1     2188 non-null   int64  \n",
      " 5   kebulas1     2188 non-null   int64  \n",
      " 6   kuras1       2188 non-null   int64  \n",
      " 7   pavaros1     2188 non-null   int64  \n",
      "dtypes: float64(3), int64(5)\n",
      "memory usage: 153.8 KB\n"
     ]
    }
   ],
   "source": [
    "X.info()"
   ]
  }
 ],
 "metadata": {
  "kernelspec": {
   "display_name": "Python 3",
   "language": "python",
   "name": "python3"
  },
  "language_info": {
   "codemirror_mode": {
    "name": "ipython",
    "version": 3
   },
   "file_extension": ".py",
   "mimetype": "text/x-python",
   "name": "python",
   "nbconvert_exporter": "python",
   "pygments_lexer": "ipython3",
   "version": "3.12.4"
  }
 },
 "nbformat": 4,
 "nbformat_minor": 2
}
