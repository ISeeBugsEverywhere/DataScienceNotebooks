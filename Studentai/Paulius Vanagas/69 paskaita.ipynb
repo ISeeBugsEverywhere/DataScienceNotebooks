{
 "cells": [
  {
   "cell_type": "code",
   "execution_count": 128,
   "metadata": {},
   "outputs": [],
   "source": [
    "import numpy as np\n",
    "import pandas as pd\n",
    "import matplotlib.pyplot as plt\n",
    "import warnings\n",
    "warnings.filterwarnings('ignore')\n",
    "import seaborn as sns\n",
    "import sqlite3\n",
    "# import mysql.connector as cnt\n",
    "# import plotly.express as px\n",
    "# from datetime import datetime, timedelta\n",
    "# import os\n",
    "from sklearn.linear_model import LinearRegression\n",
    "from sklearn.model_selection import train_test_split\n",
    "from sklearn.preprocessing import LabelEncoder"
   ]
  },
  {
   "cell_type": "code",
   "execution_count": 129,
   "metadata": {},
   "outputs": [],
   "source": [
    "# from sklearn.model_selection import train_test_split, cross_val_score\n",
    "\n",
    "# scores = cross_validate(model, X, y, cv=10, scoring=('r2', 'max_error'))\n",
    "\n",
    "# scores = cross_val_score(model, X, y, cv=10)"
   ]
  },
  {
   "cell_type": "code",
   "execution_count": 130,
   "metadata": {},
   "outputs": [],
   "source": [
    "df = pd.read_csv('insurance.csv')"
   ]
  },
  {
   "cell_type": "code",
   "execution_count": 131,
   "metadata": {},
   "outputs": [
    {
     "data": {
      "text/html": [
       "<div>\n",
       "<style scoped>\n",
       "    .dataframe tbody tr th:only-of-type {\n",
       "        vertical-align: middle;\n",
       "    }\n",
       "\n",
       "    .dataframe tbody tr th {\n",
       "        vertical-align: top;\n",
       "    }\n",
       "\n",
       "    .dataframe thead th {\n",
       "        text-align: right;\n",
       "    }\n",
       "</style>\n",
       "<table border=\"1\" class=\"dataframe\">\n",
       "  <thead>\n",
       "    <tr style=\"text-align: right;\">\n",
       "      <th></th>\n",
       "      <th>age</th>\n",
       "      <th>sex</th>\n",
       "      <th>bmi</th>\n",
       "      <th>children</th>\n",
       "      <th>smoker</th>\n",
       "      <th>region</th>\n",
       "      <th>charges</th>\n",
       "      <th>lytis</th>\n",
       "    </tr>\n",
       "  </thead>\n",
       "  <tbody>\n",
       "    <tr>\n",
       "      <th>0</th>\n",
       "      <td>19</td>\n",
       "      <td>female</td>\n",
       "      <td>27.900</td>\n",
       "      <td>0</td>\n",
       "      <td>yes</td>\n",
       "      <td>southwest</td>\n",
       "      <td>16884.92400</td>\n",
       "      <td>0</td>\n",
       "    </tr>\n",
       "    <tr>\n",
       "      <th>1</th>\n",
       "      <td>18</td>\n",
       "      <td>male</td>\n",
       "      <td>33.770</td>\n",
       "      <td>1</td>\n",
       "      <td>no</td>\n",
       "      <td>southeast</td>\n",
       "      <td>1725.55230</td>\n",
       "      <td>1</td>\n",
       "    </tr>\n",
       "    <tr>\n",
       "      <th>2</th>\n",
       "      <td>28</td>\n",
       "      <td>male</td>\n",
       "      <td>33.000</td>\n",
       "      <td>3</td>\n",
       "      <td>no</td>\n",
       "      <td>southeast</td>\n",
       "      <td>4449.46200</td>\n",
       "      <td>1</td>\n",
       "    </tr>\n",
       "    <tr>\n",
       "      <th>3</th>\n",
       "      <td>33</td>\n",
       "      <td>male</td>\n",
       "      <td>22.705</td>\n",
       "      <td>0</td>\n",
       "      <td>no</td>\n",
       "      <td>northwest</td>\n",
       "      <td>21984.47061</td>\n",
       "      <td>1</td>\n",
       "    </tr>\n",
       "    <tr>\n",
       "      <th>4</th>\n",
       "      <td>32</td>\n",
       "      <td>male</td>\n",
       "      <td>28.880</td>\n",
       "      <td>0</td>\n",
       "      <td>no</td>\n",
       "      <td>northwest</td>\n",
       "      <td>3866.85520</td>\n",
       "      <td>1</td>\n",
       "    </tr>\n",
       "  </tbody>\n",
       "</table>\n",
       "</div>"
      ],
      "text/plain": [
       "   age     sex     bmi  children smoker     region      charges  lytis\n",
       "0   19  female  27.900         0    yes  southwest  16884.92400      0\n",
       "1   18    male  33.770         1     no  southeast   1725.55230      1\n",
       "2   28    male  33.000         3     no  southeast   4449.46200      1\n",
       "3   33    male  22.705         0     no  northwest  21984.47061      1\n",
       "4   32    male  28.880         0     no  northwest   3866.85520      1"
      ]
     },
     "execution_count": 131,
     "metadata": {},
     "output_type": "execute_result"
    }
   ],
   "source": [
    "l = LabelEncoder().fit_transform(df['sex']); l[:5]\n",
    "df['lytis']=l; df.head()"
   ]
  },
  {
   "cell_type": "code",
   "execution_count": 132,
   "metadata": {},
   "outputs": [
    {
     "data": {
      "text/plain": [
       "array(['female', 'male'], dtype=object)"
      ]
     },
     "execution_count": 132,
     "metadata": {},
     "output_type": "execute_result"
    }
   ],
   "source": [
    "le=LabelEncoder()\n",
    "l = le.fit_transform(df['sex'])\n",
    "le.classes_"
   ]
  },
  {
   "cell_type": "code",
   "execution_count": 133,
   "metadata": {},
   "outputs": [],
   "source": [
    "# a) Parašyti kainos prognozės skriptą, kuris prognozuotų būsto kainą. Naudoti Liearregression\n",
    "# kategorines vertes užkoduoti su LabelEncoder'iu\n",
    "# b) iš autoplius duomenų, pasirinkti 7-8 parametrus ir parašyti skriptą automobilio vertės nustatymui.\n",
    "# Įvertinkite tikslumaą su score parametru\n",
    "\n",
    "# label_encoder = LabelEncoder()\n",
    "# encoded_data = label_encoder.fit_transform(data)\n",
    "# print(“Category Mapping:”, dict(zip(data, encoded_data)))."
   ]
  },
  {
   "cell_type": "code",
   "execution_count": 134,
   "metadata": {},
   "outputs": [
    {
     "data": {
      "text/html": [
       "<div>\n",
       "<style scoped>\n",
       "    .dataframe tbody tr th:only-of-type {\n",
       "        vertical-align: middle;\n",
       "    }\n",
       "\n",
       "    .dataframe tbody tr th {\n",
       "        vertical-align: top;\n",
       "    }\n",
       "\n",
       "    .dataframe thead th {\n",
       "        text-align: right;\n",
       "    }\n",
       "</style>\n",
       "<table border=\"1\" class=\"dataframe\">\n",
       "  <thead>\n",
       "    <tr style=\"text-align: right;\">\n",
       "      <th></th>\n",
       "      <th>plotas</th>\n",
       "      <th>kambariuskaicius</th>\n",
       "      <th>aukstas</th>\n",
       "      <th>aukstuskaicius</th>\n",
       "      <th>metai</th>\n",
       "      <th>pastatotipas</th>\n",
       "      <th>sildymas</th>\n",
       "      <th>irengimas</th>\n",
       "      <th>energetineklase</th>\n",
       "      <th>ilguma</th>\n",
       "      <th>platuma</th>\n",
       "      <th>miestas</th>\n",
       "      <th>kaina</th>\n",
       "      <th>rajonas</th>\n",
       "    </tr>\n",
       "  </thead>\n",
       "  <tbody>\n",
       "    <tr>\n",
       "      <th>0</th>\n",
       "      <td>34,93 m²</td>\n",
       "      <td>2</td>\n",
       "      <td>5</td>\n",
       "      <td>5</td>\n",
       "      <td>2023</td>\n",
       "      <td>Mūrinis</td>\n",
       "      <td>Centrinis kolektorinis</td>\n",
       "      <td>Įrengtas</td>\n",
       "      <td>None</td>\n",
       "      <td>54.701257</td>\n",
       "      <td>25.272667</td>\n",
       "      <td>Vilnius</td>\n",
       "      <td>173500</td>\n",
       "      <td>Šnipiškės</td>\n",
       "    </tr>\n",
       "    <tr>\n",
       "      <th>1</th>\n",
       "      <td>66,64 m²</td>\n",
       "      <td>2</td>\n",
       "      <td>3</td>\n",
       "      <td>5</td>\n",
       "      <td>2003</td>\n",
       "      <td>Mūrinis</td>\n",
       "      <td>Centrinis</td>\n",
       "      <td>Įrengtas</td>\n",
       "      <td>A</td>\n",
       "      <td>54.705467</td>\n",
       "      <td>25.286944</td>\n",
       "      <td>Vilnius</td>\n",
       "      <td>205000</td>\n",
       "      <td>Žirmūnai</td>\n",
       "    </tr>\n",
       "    <tr>\n",
       "      <th>2</th>\n",
       "      <td>66,89 m²</td>\n",
       "      <td>3</td>\n",
       "      <td>2</td>\n",
       "      <td>9</td>\n",
       "      <td>1980</td>\n",
       "      <td>Blokinis</td>\n",
       "      <td>Centrinis</td>\n",
       "      <td>Įrengtas</td>\n",
       "      <td>None</td>\n",
       "      <td>54.717923</td>\n",
       "      <td>25.238122</td>\n",
       "      <td>Vilnius</td>\n",
       "      <td>172000</td>\n",
       "      <td>Šeškinė</td>\n",
       "    </tr>\n",
       "  </tbody>\n",
       "</table>\n",
       "</div>"
      ],
      "text/plain": [
       "     plotas  kambariuskaicius  aukstas  aukstuskaicius metai pastatotipas  \\\n",
       "0  34,93 m²                 2        5               5  2023      Mūrinis   \n",
       "1  66,64 m²                 2        3               5  2003      Mūrinis   \n",
       "2  66,89 m²                 3        2               9  1980     Blokinis   \n",
       "\n",
       "                 sildymas irengimas energetineklase     ilguma    platuma  \\\n",
       "0  Centrinis kolektorinis  Įrengtas            None  54.701257  25.272667   \n",
       "1               Centrinis  Įrengtas               A  54.705467  25.286944   \n",
       "2               Centrinis  Įrengtas            None  54.717923  25.238122   \n",
       "\n",
       "   miestas   kaina    rajonas  \n",
       "0  Vilnius  173500  Šnipiškės  \n",
       "1  Vilnius  205000   Žirmūnai  \n",
       "2  Vilnius  172000    Šeškinė  "
      ]
     },
     "execution_count": 134,
     "metadata": {},
     "output_type": "execute_result"
    }
   ],
   "source": [
    "SDB = sqlite3.connect(r'C:\\Users\\pauli\\Desktop\\DataScienceNotebooks\\Studentai\\Paulius Vanagas\\aruodas3.db')\n",
    "Cs = SDB.cursor()\n",
    "sql=\"\"\"SELECT * FROM aruododuomenys;\"\"\"\n",
    "Cs.execute(sql)\n",
    "ans = Cs.fetchall()\n",
    "df = pd.read_sql_query(sql, con=SDB)\n",
    "df.head(3)"
   ]
  },
  {
   "cell_type": "code",
   "execution_count": 135,
   "metadata": {},
   "outputs": [],
   "source": [
    "df1=df\n",
    "df1 = df1.drop(columns=['energetineklase', 'ilguma', 'platuma'])"
   ]
  },
  {
   "cell_type": "code",
   "execution_count": 136,
   "metadata": {},
   "outputs": [],
   "source": [
    "df1 = df1.applymap(lambda x: None if str(x) == 'None' else x)\n",
    "df1 = df1.dropna()"
   ]
  },
  {
   "cell_type": "code",
   "execution_count": 137,
   "metadata": {},
   "outputs": [],
   "source": [
    "df1['plotas']=df1['plotas'].apply(lambda x: x.replace(' ','').replace('m²', '').replace(',','.'))\n",
    "df1['plotas']=df1['plotas'].astype(float)"
   ]
  },
  {
   "cell_type": "code",
   "execution_count": 138,
   "metadata": {},
   "outputs": [],
   "source": [
    "l = LabelEncoder().fit_transform(df1['pastatotipas'])\n",
    "df1['pastatotipas1']=l\n",
    "\n",
    "l = LabelEncoder().fit_transform(df1['sildymas'])\n",
    "df1['sildymas1']=l\n",
    "\n",
    "l = LabelEncoder().fit_transform(df1['irengimas'])\n",
    "df1['irengimas1']=l\n",
    "\n",
    "l = LabelEncoder().fit_transform(df1['miestas'])\n",
    "df1['miestas1']=l\n",
    "\n",
    "l = LabelEncoder().fit_transform(df1['rajonas'])\n",
    "df1['rajonas1']=l"
   ]
  },
  {
   "cell_type": "code",
   "execution_count": 139,
   "metadata": {},
   "outputs": [
    {
     "name": "stdout",
     "output_type": "stream",
     "text": [
      "<class 'pandas.core.frame.DataFrame'>\n",
      "Index: 5026 entries, 0 to 5693\n",
      "Data columns (total 16 columns):\n",
      " #   Column            Non-Null Count  Dtype  \n",
      "---  ------            --------------  -----  \n",
      " 0   plotas            5026 non-null   float64\n",
      " 1   kambariuskaicius  5026 non-null   int64  \n",
      " 2   aukstas           5026 non-null   int64  \n",
      " 3   aukstuskaicius    5026 non-null   int64  \n",
      " 4   metai             5026 non-null   float64\n",
      " 5   pastatotipas      5026 non-null   object \n",
      " 6   sildymas          5026 non-null   object \n",
      " 7   irengimas         5026 non-null   object \n",
      " 8   miestas           5026 non-null   object \n",
      " 9   kaina             5026 non-null   int64  \n",
      " 10  rajonas           5026 non-null   object \n",
      " 11  pastatotipas1     5026 non-null   int64  \n",
      " 12  sildymas1         5026 non-null   int64  \n",
      " 13  irengimas1        5026 non-null   int64  \n",
      " 14  miestas1          5026 non-null   int64  \n",
      " 15  rajonas1          5026 non-null   int64  \n",
      "dtypes: float64(2), int64(9), object(5)\n",
      "memory usage: 667.5+ KB\n"
     ]
    }
   ],
   "source": [
    "df1.info()"
   ]
  },
  {
   "cell_type": "code",
   "execution_count": 140,
   "metadata": {},
   "outputs": [
    {
     "data": {
      "text/plain": [
       "80.1872164109791"
      ]
     },
     "execution_count": 140,
     "metadata": {},
     "output_type": "execute_result"
    }
   ],
   "source": [
    "X= df1.drop(columns=['pastatotipas', 'sildymas','irengimas', 'miestas', 'kaina', 'rajonas' ])\n",
    "y=df1['kaina']\n",
    "X_train, X_test, y_train, y_test = train_test_split(X, y, test_size=0.3, random_state=42)\n",
    "\n",
    "fit = LinearRegression().fit(X_train, y_train)\n",
    "\n",
    "pred = fit.predict(X_test)\n",
    "fit.score(X_test, y_test)*100.0\n",
    "\n"
   ]
  },
  {
   "cell_type": "code",
   "execution_count": 141,
   "metadata": {},
   "outputs": [
    {
     "data": {
      "text/plain": [
       "array([316637.12241816])"
      ]
     },
     "execution_count": 141,
     "metadata": {},
     "output_type": "execute_result"
    }
   ],
   "source": [
    "fit.predict(np.reshape([90, 4, 3, 5, 2020, 5, 5, 4, 4, 10], (1, -1)))\n"
   ]
  },
  {
   "cell_type": "code",
   "execution_count": 142,
   "metadata": {},
   "outputs": [
    {
     "data": {
      "text/plain": [
       "array(['Aleksotas', 'Alksnynė', 'Amaliai', 'Antakalnis', 'Antavilis',\n",
       "       'Aukštieji Šančiai', 'Aukštutiniai Kaniūkai', 'Bajorai', 'Balsiai',\n",
       "       'Baltija', 'Baltupiai', 'Bandužiai', 'Buivydiškės', 'Burbiškės',\n",
       "       'Centras', 'Dainava', 'Debrecenas', 'Didieji Gulbinai',\n",
       "       'Dvarčionys', 'Eiguliai', 'Fabijoniškės', 'Filaretai', 'Freda',\n",
       "       'Galgiai', 'Giruliai', 'Grigiškės', 'Gričiupis', 'Jeruzalė',\n",
       "       'Justiniškės', 'Kairėnai', 'Kalniečiai', 'Kalnėnai',\n",
       "       'Karoliniškės', 'Kaunas', 'Labrenciškės', 'Lampėdžiai',\n",
       "       'Laukininkai', 'Lazdynai', 'Lazdynėliai', 'Liepkalnis',\n",
       "       'Likiškiai', 'Markučiai', 'Mažasis kaimelis', 'Melnragė', 'Miškas',\n",
       "       'Mokykla', 'Naujakiemis', 'Naujamiestis', 'Naujininkai',\n",
       "       'Naujoji Vilnia', 'Palanga', 'Palemonas', 'Panemunė', 'Paneriai',\n",
       "       'Paupiai', 'Paupys', 'Pavilnys', 'Pašilaičiai', 'Petrašiūnai',\n",
       "       'Pilaitė', 'Plytinė', 'Poilsis', 'Putinai', 'Rasos', 'Rokai',\n",
       "       'Romainiai', 'Rumpiškės', 'Salininkai', 'Santariškės',\n",
       "       'Saulėtekis', 'Senamiestis', 'Smeltė', 'Smiltynė', 'Sportininkai',\n",
       "       'Tarandė', 'Tauralaukis', 'Trakų Vokė', 'Trekas', 'Turniškės',\n",
       "       'Užupis', 'Vaišvydava', 'Valakampiai', 'Varpai', 'Verkiai',\n",
       "       'Vidzgiris', 'Vilijampolė', 'Vilkpėdė', 'Vingis', 'Viršuliškės',\n",
       "       'Visoriai', 'Vytėnai', 'Vėtrungė', 'Šauliai', 'Šeškinė',\n",
       "       'Šiaurės miestelis', 'Šilainiai', 'Šnipiškės', 'Šventoji',\n",
       "       'Žaliakalnis', 'Žardininkai', 'Žemieji Paneriai',\n",
       "       'Žemieji Šančiai', 'Žemutiniai Kaniūkai', 'Žirmūnai',\n",
       "       'Žvejybos uostas', 'Žvėrynas'], dtype=object)"
      ]
     },
     "execution_count": 142,
     "metadata": {},
     "output_type": "execute_result"
    }
   ],
   "source": [
    "le=LabelEncoder()\n",
    "l = le.fit_transform(df1['rajonas'])\n",
    "le.classes_"
   ]
  },
  {
   "cell_type": "code",
   "execution_count": 145,
   "metadata": {},
   "outputs": [
    {
     "name": "stdout",
     "output_type": "stream",
     "text": [
      "Category Mapping: {'Šnipiškės': np.int64(96), 'Žirmūnai': np.int64(103), 'Šeškinė': np.int64(93), 'Pašilaičiai': np.int64(57), 'Pilaitė': np.int64(59), 'Antakalnis': np.int64(3), 'Baltupiai': np.int64(10), 'Vilkpėdė': np.int64(86), 'Kalnėnai': np.int64(31), 'Senamiestis': np.int64(70), 'Karoliniškės': np.int64(32), 'Naujamiestis': np.int64(47), 'Naujininkai': np.int64(48), 'Lazdynėliai': np.int64(38), 'Žvėrynas': np.int64(105), 'Justiniškės': np.int64(28), 'Lazdynai': np.int64(37), 'Užupis': np.int64(79), 'Fabijoniškės': np.int64(20), 'Santariškės': np.int64(68), 'Jeruzalė': np.int64(27), 'Markučiai': np.int64(41), 'Žemieji Paneriai': np.int64(100), 'Naujoji Vilnia': np.int64(49), 'Viršuliškės': np.int64(88), 'Verkiai': np.int64(83), 'Šiaurės miestelis': np.int64(94), 'Grigiškės': np.int64(25), 'Paupys': np.int64(55), 'Salininkai': np.int64(67), 'Trakų Vokė': np.int64(76), 'Bajorai': np.int64(7), 'Burbiškės': np.int64(13), 'Rasos': np.int64(63), 'Valakampiai': np.int64(81), 'Liepkalnis': np.int64(39), 'Paneriai': np.int64(53), 'Filaretai': np.int64(21), 'Tarandė': np.int64(74), 'Saulėtekis': np.int64(69), 'Visoriai': np.int64(89), 'Buivydiškės': np.int64(12), 'Turniškės': np.int64(78), 'Kairėnai': np.int64(29), 'Balsiai': np.int64(8), 'Pavilnys': np.int64(56), 'Dvarčionys': np.int64(18), 'Didieji Gulbinai': np.int64(17), 'Antavilis': np.int64(4), 'Galgiai': np.int64(23), 'Šilainiai': np.int64(95), 'Žemieji Šančiai': np.int64(101), 'Vilijampolė': np.int64(85), 'Centras': np.int64(14), 'Dainava': np.int64(15), 'Žaliakalnis': np.int64(98), 'Freda': np.int64(22), 'Petrašiūnai': np.int64(58), 'Žemutiniai Kaniūkai': np.int64(102), 'Rokai': np.int64(64), 'Gričiupis': np.int64(26), 'Aukštieji Šančiai': np.int64(5), 'Eiguliai': np.int64(19), 'Panemunė': np.int64(52), 'Vytėnai': np.int64(90), 'Lampėdžiai': np.int64(35), 'Aleksotas': np.int64(0), 'Kalniečiai': np.int64(30), 'Vaišvydava': np.int64(80), 'Romainiai': np.int64(65), 'Palemonas': np.int64(51), 'Aukštutiniai Kaniūkai': np.int64(6), 'Amaliai': np.int64(2), 'Kaunas': np.int64(33), 'Šventoji': np.int64(97), 'Palanga': np.int64(50), 'Miškas': np.int64(44), 'Vėtrungė': np.int64(91), 'Žvejybos uostas': np.int64(104), 'Alksnynė': np.int64(1), 'Mažasis kaimelis': np.int64(42), 'Bandužiai': np.int64(11), 'Debrecenas': np.int64(16), 'Giruliai': np.int64(24), 'Laukininkai': np.int64(36), 'Vingis': np.int64(87), 'Poilsis': np.int64(61), 'Labrenciškės': np.int64(34), 'Baltija': np.int64(9), 'Varpai': np.int64(82), 'Rumpiškės': np.int64(66), 'Naujakiemis': np.int64(46), 'Šauliai': np.int64(92), 'Paupiai': np.int64(54), 'Mokykla': np.int64(45), 'Sportininkai': np.int64(73), 'Tauralaukis': np.int64(75), 'Žardininkai': np.int64(99), 'Trekas': np.int64(77), 'Melnragė': np.int64(43), 'Smeltė': np.int64(71), 'Plytinė': np.int64(60), 'Smiltynė': np.int64(72), 'Putinai': np.int64(62), 'Vidzgiris': np.int64(84), 'Likiškiai': np.int64(40)}\n"
     ]
    }
   ],
   "source": [
    "label_encoder = LabelEncoder()\n",
    "encoded_data = label_encoder.fit_transform(df1['rajonas'])\n",
    "print('Category Mapping:', dict(zip(df1['rajonas'], encoded_data)))"
   ]
  },
  {
   "cell_type": "code",
   "execution_count": 143,
   "metadata": {},
   "outputs": [
    {
     "name": "stdout",
     "output_type": "stream",
     "text": [
      "<class 'pandas.core.frame.DataFrame'>\n",
      "Index: 5026 entries, 0 to 5693\n",
      "Data columns (total 10 columns):\n",
      " #   Column            Non-Null Count  Dtype  \n",
      "---  ------            --------------  -----  \n",
      " 0   plotas            5026 non-null   float64\n",
      " 1   kambariuskaicius  5026 non-null   int64  \n",
      " 2   aukstas           5026 non-null   int64  \n",
      " 3   aukstuskaicius    5026 non-null   int64  \n",
      " 4   metai             5026 non-null   float64\n",
      " 5   pastatotipas1     5026 non-null   int64  \n",
      " 6   sildymas1         5026 non-null   int64  \n",
      " 7   irengimas1        5026 non-null   int64  \n",
      " 8   miestas1          5026 non-null   int64  \n",
      " 9   rajonas1          5026 non-null   int64  \n",
      "dtypes: float64(2), int64(8)\n",
      "memory usage: 431.9 KB\n"
     ]
    }
   ],
   "source": [
    "X.info()"
   ]
  },
  {
   "cell_type": "code",
   "execution_count": 146,
   "metadata": {},
   "outputs": [
    {
     "data": {
      "text/html": [
       "<div>\n",
       "<style scoped>\n",
       "    .dataframe tbody tr th:only-of-type {\n",
       "        vertical-align: middle;\n",
       "    }\n",
       "\n",
       "    .dataframe tbody tr th {\n",
       "        vertical-align: top;\n",
       "    }\n",
       "\n",
       "    .dataframe thead th {\n",
       "        text-align: right;\n",
       "    }\n",
       "</style>\n",
       "<table border=\"1\" class=\"dataframe\">\n",
       "  <thead>\n",
       "    <tr style=\"text-align: right;\">\n",
       "      <th></th>\n",
       "      <th>gamintojas</th>\n",
       "      <th>modelis</th>\n",
       "      <th>kaina</th>\n",
       "      <th>metai</th>\n",
       "      <th>kebulas</th>\n",
       "      <th>kuras</th>\n",
       "      <th>pavaros</th>\n",
       "      <th>galingumas</th>\n",
       "      <th>rida</th>\n",
       "      <th>nuorodos</th>\n",
       "      <th>pirmaregistracija</th>\n",
       "      <th>technikine</th>\n",
       "    </tr>\n",
       "  </thead>\n",
       "  <tbody>\n",
       "    <tr>\n",
       "      <th>0</th>\n",
       "      <td>-Kita-</td>\n",
       "      <td>-kita-</td>\n",
       "      <td>1750.0</td>\n",
       "      <td>2008.0</td>\n",
       "      <td>Krovininis mikroautobusas</td>\n",
       "      <td>Dyzelinas</td>\n",
       "      <td>Mechaninė</td>\n",
       "      <td>None</td>\n",
       "      <td>NaN</td>\n",
       "      <td>https://autoplius.lt/skelbimai/kita-kita-krovi...</td>\n",
       "      <td>None</td>\n",
       "      <td>None</td>\n",
       "    </tr>\n",
       "    <tr>\n",
       "      <th>1</th>\n",
       "      <td>-Kita-</td>\n",
       "      <td>-kita-</td>\n",
       "      <td>3900.0</td>\n",
       "      <td>2011.0</td>\n",
       "      <td>Sedanas</td>\n",
       "      <td>Elektra</td>\n",
       "      <td>None</td>\n",
       "      <td>None</td>\n",
       "      <td>10.0</td>\n",
       "      <td>https://autoplius.lt/skelbimai/kita-kita-sedan...</td>\n",
       "      <td>None</td>\n",
       "      <td>None</td>\n",
       "    </tr>\n",
       "    <tr>\n",
       "      <th>2</th>\n",
       "      <td>-Kita-</td>\n",
       "      <td>-kita-</td>\n",
       "      <td>6800.0</td>\n",
       "      <td>2020.0</td>\n",
       "      <td>Hečbekas</td>\n",
       "      <td>Elektra</td>\n",
       "      <td>None</td>\n",
       "      <td>29</td>\n",
       "      <td>14000.0</td>\n",
       "      <td>https://autoplius.lt/skelbimai/kita-kita-hecbe...</td>\n",
       "      <td>None</td>\n",
       "      <td>2025-03</td>\n",
       "    </tr>\n",
       "  </tbody>\n",
       "</table>\n",
       "</div>"
      ],
      "text/plain": [
       "  gamintojas modelis   kaina   metai                    kebulas      kuras  \\\n",
       "0     -Kita-  -kita-  1750.0  2008.0  Krovininis mikroautobusas  Dyzelinas   \n",
       "1     -Kita-  -kita-  3900.0  2011.0                    Sedanas    Elektra   \n",
       "2     -Kita-  -kita-  6800.0  2020.0                   Hečbekas    Elektra   \n",
       "\n",
       "     pavaros galingumas     rida  \\\n",
       "0  Mechaninė       None      NaN   \n",
       "1       None       None     10.0   \n",
       "2       None         29  14000.0   \n",
       "\n",
       "                                            nuorodos pirmaregistracija  \\\n",
       "0  https://autoplius.lt/skelbimai/kita-kita-krovi...              None   \n",
       "1  https://autoplius.lt/skelbimai/kita-kita-sedan...              None   \n",
       "2  https://autoplius.lt/skelbimai/kita-kita-hecbe...              None   \n",
       "\n",
       "  technikine  \n",
       "0       None  \n",
       "1       None  \n",
       "2    2025-03  "
      ]
     },
     "execution_count": 146,
     "metadata": {},
     "output_type": "execute_result"
    }
   ],
   "source": [
    "SDB = sqlite3.connect(r'C:\\Users\\pauli\\Desktop\\DataScienceNotebooks\\Studentai\\Paulius Vanagas\\autopliusvisi.db')\n",
    "Cs = SDB.cursor()\n",
    "sql=\"\"\"SELECT * FROM T1;\"\"\"\n",
    "Cs.execute(sql)\n",
    "ans = Cs.fetchall()\n",
    "dfa = pd.read_sql_query(sql, con=SDB)\n",
    "dfa.head(3)"
   ]
  },
  {
   "cell_type": "code",
   "execution_count": 159,
   "metadata": {},
   "outputs": [],
   "source": [
    "df2=dfa\n",
    "df2 = df2.drop(columns=['nuorodos', 'technikine', 'pirmaregistracija'])"
   ]
  },
  {
   "cell_type": "code",
   "execution_count": 166,
   "metadata": {},
   "outputs": [],
   "source": [
    "df2 = df2.applymap(lambda x: None if str(x) in ['None', 'NaN'] else x)\n",
    "df2 = df2.dropna()\n",
    "df2['galingumas']=df2['galingumas'].astype(float)"
   ]
  },
  {
   "cell_type": "code",
   "execution_count": 168,
   "metadata": {},
   "outputs": [],
   "source": [
    "l2 = LabelEncoder().fit_transform(df2['gamintojas'])\n",
    "df2['gamintojas1']=l2\n",
    "\n",
    "l2 = LabelEncoder().fit_transform(df2['modelis'])\n",
    "df2['modelis1']=l2\n",
    "\n",
    "l2 = LabelEncoder().fit_transform(df2['kebulas'])\n",
    "df2['kebulas1']=l2\n",
    "\n",
    "l2 = LabelEncoder().fit_transform(df2['kuras'])\n",
    "df2['kuras1']=l2\n",
    "\n",
    "l2 = LabelEncoder().fit_transform(df2['pavaros'])\n",
    "df2['pavaros1']=l2"
   ]
  },
  {
   "cell_type": "code",
   "execution_count": 180,
   "metadata": {},
   "outputs": [
    {
     "data": {
      "text/plain": [
       "57.31378952150352"
      ]
     },
     "execution_count": 180,
     "metadata": {},
     "output_type": "execute_result"
    }
   ],
   "source": [
    "X= df2.drop(columns=['gamintojas', 'modelis','kaina', 'kebulas', 'kuras', 'pavaros' ])\n",
    "y=df2['kaina']\n",
    "X_train, X_test, y_train, y_test = train_test_split(X, y, test_size=0.2, random_state=42)\n",
    "\n",
    "fit = LinearRegression().fit(X_train, y_train)\n",
    "\n",
    "pred = fit.predict(X_test)\n",
    "fit.score(X_test, y_test)*100.0"
   ]
  },
  {
   "cell_type": "code",
   "execution_count": 198,
   "metadata": {},
   "outputs": [
    {
     "data": {
      "text/plain": [
       "array([14060.74602209])"
      ]
     },
     "execution_count": 198,
     "metadata": {},
     "output_type": "execute_result"
    }
   ],
   "source": [
    "fit.predict(np.reshape([2019, 118, 50000, 14, 162, 0, 0, 0], (1, -1)))"
   ]
  },
  {
   "cell_type": "code",
   "execution_count": 195,
   "metadata": {},
   "outputs": [
    {
     "name": "stdout",
     "output_type": "stream",
     "text": [
      "Category Mapping: {'Mechaninė': np.int64(1), 'Automatinė': np.int64(0)}\n"
     ]
    }
   ],
   "source": [
    "label_encoder = LabelEncoder()\n",
    "encoded_data = label_encoder.fit_transform(df2['pavaros'])\n",
    "print('Category Mapping:', dict(zip(df2['pavaros'], encoded_data)))"
   ]
  },
  {
   "cell_type": "code",
   "execution_count": 182,
   "metadata": {},
   "outputs": [
    {
     "name": "stdout",
     "output_type": "stream",
     "text": [
      "<class 'pandas.core.frame.DataFrame'>\n",
      "Index: 2188 entries, 4 to 2517\n",
      "Data columns (total 8 columns):\n",
      " #   Column       Non-Null Count  Dtype  \n",
      "---  ------       --------------  -----  \n",
      " 0   metai        2188 non-null   float64\n",
      " 1   galingumas   2188 non-null   float64\n",
      " 2   rida         2188 non-null   float64\n",
      " 3   gamintojas1  2188 non-null   int64  \n",
      " 4   modelis1     2188 non-null   int64  \n",
      " 5   kebulas1     2188 non-null   int64  \n",
      " 6   kuras1       2188 non-null   int64  \n",
      " 7   pavaros1     2188 non-null   int64  \n",
      "dtypes: float64(3), int64(5)\n",
      "memory usage: 153.8 KB\n"
     ]
    }
   ],
   "source": [
    "X.info()"
   ]
  }
 ],
 "metadata": {
  "kernelspec": {
   "display_name": "Python 3",
   "language": "python",
   "name": "python3"
  },
  "language_info": {
   "codemirror_mode": {
    "name": "ipython",
    "version": 3
   },
   "file_extension": ".py",
   "mimetype": "text/x-python",
   "name": "python",
   "nbconvert_exporter": "python",
   "pygments_lexer": "ipython3",
   "version": "3.12.4"
  }
 },
 "nbformat": 4,
 "nbformat_minor": 2
}
