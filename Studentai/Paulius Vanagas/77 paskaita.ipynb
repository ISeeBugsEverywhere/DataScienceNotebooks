{
 "cells": [
  {
   "cell_type": "code",
   "execution_count": 2,
   "metadata": {},
   "outputs": [],
   "source": [
    "import pandas as pd\n",
    "from sklearn.metrics import confusion_matrix\n",
    "import seaborn as sns\n",
    "from sklearn.linear_model import LogisticRegression\n",
    "from sklearn.model_selection import train_test_split\n",
    "from sklearn.metrics import accuracy_score\n",
    "import numpy as np\n",
    "import matplotlib.pyplot as plt\n",
    "from sklearn.preprocessing import PolynomialFeatures\n",
    "from sklearn.linear_model import LinearRegression\n",
    "from sklearn.metrics import mean_squared_error\n",
    "from sklearn.preprocessing import LabelEncoder\n",
    "from sklearn.tree import DecisionTreeRegressor\n",
    "from sklearn.tree import DecisionTreeClassifier\n",
    "from sklearn.ensemble import RandomForestClassifier\n",
    "from sklearn.datasets import load_iris\n",
    "from sklearn.ensemble import RandomForestRegressor\n",
    "import os\n",
    "from sklearn import svm\n",
    "from sklearn import datasets\n",
    "from sklearn.svm import SVR \n",
    "from docx import Document\n",
    "from docx.shared import Inches"
   ]
  },
  {
   "cell_type": "code",
   "execution_count": 3,
   "metadata": {},
   "outputs": [],
   "source": [
    "# Projektas\n",
    "# Elektros energijos suvartojimo prognozė, atsižvelgiant į oro sąlygas\n",
    "# Užduotis:\n",
    "# Sukurti ir pateikti modelius, skirtus prognozuoti elektros energijos suvartojimą 24-rioms valandoms į\n",
    "# priekį, atsižvelgiant į (prognozuojamas) oro sąlygas. Modeliams pateikus tikėtinas ateities oro sąlygas,\n",
    "# modeliai turi pateikti 24-rių valandų energijos poreikio įvertinimą. Pradiniai testiniai duomenys: bet kuri\n",
    "# diena tarp 2023-čių rugpjūčio 01 ir spalio 30-tos dienos. Vėliau išbandykite suprognozuoti elektros\n",
    "# vartojimą realiai sekančiai dienai, ir palyginkite su Nordpool duomenimsi.prognoze.\n",
    "# Istoriniai orų duomenys pasiekiami čia: https://archyvas.meteo.lt/\n",
    "# Bendras LT energijos suvartojimas kas valandą pasiekiamas čia:\n",
    "# https://data.nordpoolgroup.com/auction/day-ahead/volumes?deliveryDate=2025-01-\n",
    "# 09&deliveryAreas=LT,AT\n",
    "# Prognozuojami orai pasiekiami per meteo.lt API.\n",
    "# Pritaikykite DecisionTreeRegressor, LinearRegressor, SupportVectorMachine, RandomForestRegressor.\n",
    "# Papildomas punktas : SupportVectorMachine palaiko skirtingus kernel’ius duomenų fitinimui – linear,\n",
    "\n",
    "# poly, rbf. Plačiau čia: https://www.geeksforgeeks.org/support-vector-regression-svr-using-linear-and-non-\n",
    "# linear-kernels-in-scikit-learn/\n",
    "\n",
    "# Išrinkite geriausią kernel’į SVR modeliui ir SVR modelio prognozes pateikite tik su geriausiu kernel’iu.\n",
    "# Prieš pateikdami modelius, nustatykite, kokie parametrai turi daugiausiai įtakos prognozei (hint –\n",
    "# koreliacijos matrica ir heatmap vizualizacija). Su pairplot pateikite atsirinktų parametrų tarpusavio\n",
    "# priklausomybes.\n",
    "# Pateikdami modelių prognozes, arba ieškodami geriausio modelio, geriausio kernel’io, taip pat pateikite\n",
    "# jų įvertinimus (vidurkiai, standartiniai nuokrypiai, etc ... ).\n",
    "# Pateikite modelių prognozes vizualizuodami jas.\n",
    "# Papildomi reikalavimai:\n",
    "# Sugeneruoti grafikai (vizualizacijos) turi būti automatiškai saugomi į projekto aplanką bei automatiškai\n",
    "# dedami į docx failą.\n",
    "# Matplotlib’o figūra gali būti saugojama į PNG su komanda .savefig().\n",
    "# Plačiau čia: https://matplotlib.org/stable/api/_as_gen/matplotlib.pyplot.savefig.html\n",
    "# Docx failo generavimas https://python-docx.readthedocs.io/en/latest/\n",
    "# Duotoje nuorodoje pateikiamas minimalus veikiantis pavyzdys, kuriame sukuriamas Word docx\n",
    "# dokumentas, į jį įterpiamas tekstas, paveikslai.\n",
    "\n",
    "# Užduotis - paskaičiuoti geriausio modelio spėjimo įverčius (R2 score, etc), lyginannt spėjimą su NordPool\n",
    "# faktu.\n",
    "\n",
    "# Užduotis - parašyti skriptą, kuris pateiktų prognozę tiesiog skaičiuodamas vidutines vertes (pagal vidurkius)\n",
    "# Palyginkite šio skripto prognozės tikslumą su dviem savo geriausiais modeliais \n",
    "# (pagal koreliacijos koef, R2 score, MAE, MSE, RMSE ...)"
   ]
  },
  {
   "cell_type": "code",
   "execution_count": 4,
   "metadata": {},
   "outputs": [],
   "source": [
    "def linear_regression(X_train, y_train, X_test, y_test, xpred):\n",
    "    fit = LinearRegression().fit(X_train, y_train)\n",
    "    pred = fit.predict(X_test)\n",
    "    fit.score(X_test, y_test)*100.0\n",
    "    pred = fit.predict(xpred)\n",
    "    return pred"
   ]
  },
  {
   "cell_type": "code",
   "execution_count": 5,
   "metadata": {},
   "outputs": [],
   "source": [
    "def random_forrest(X_train, y_train, X_test, y_test, xpred):\n",
    "    rf = RandomForestRegressor()\n",
    "    rf.fit(X_train, y_train)\n",
    "    y_pred = rf.predict(X_test)\n",
    "    mape = np.mean(np.abs((y_test - y_pred) / y_test)) * 100\n",
    "    # print(f'Mean Absolute Percentage Error: {mape}%')\n",
    "    pred = rf.predict(xpred)\n",
    "    return pred"
   ]
  },
  {
   "cell_type": "code",
   "execution_count": 6,
   "metadata": {},
   "outputs": [],
   "source": [
    "def decision_tree_regressor(X_train, y_train, X_test, y_test, xpred):\n",
    "    dt_regressor = DecisionTreeRegressor(random_state=35)\n",
    "    dt_regressor.fit(X_train, y_train)\n",
    "    y_pred = dt_regressor.predict(X_test)\n",
    "    mse = mean_squared_error(y_test, y_pred)\n",
    "    print(f\"Mean Squared Error: {mse}\")\n",
    "    mape = np.mean(np.abs((y_test - y_pred) / y_test)) * 100\n",
    "    # print(f'Mean Absolute Percentage Error: {mape}%')\n",
    "    pred = dt_regressor.predict(xpred)\n",
    "    return pred"
   ]
  },
  {
   "cell_type": "code",
   "execution_count": 7,
   "metadata": {},
   "outputs": [],
   "source": [
    "df1 = pd.read_excel(r\"C:\\Users\\pauli\\Downloads\\b2c_gv_vartojimas.xlsx\")\n",
    "df_o1 = pd.read_csv(r\"C:\\Users\\pauli\\Downloads\\orai_801_1030.csv\")"
   ]
  },
  {
   "cell_type": "code",
   "execution_count": 8,
   "metadata": {},
   "outputs": [],
   "source": [
    "df12 = pd.read_excel(r\"C:\\Users\\pauli\\Downloads\\2025-01-12-NORDPOOLMWh.ods\", header = 1)\n",
    "df_o12 = pd.read_csv(r\"C:\\Users\\pauli\\Downloads\\orai_0112.csv\")"
   ]
  },
  {
   "cell_type": "code",
   "execution_count": 9,
   "metadata": {},
   "outputs": [
    {
     "name": "stdout",
     "output_type": "stream",
     "text": [
      "{'partly-cloudy': 10, 'variable-cloudiness': 17, 'cloudy': 1, 'clear': 0, 'cloudy-with-sunny-intervals': 2, 'light-rain': 6, 'rain': 11, 'heavy-rain': 5, 'thunderstorms': 16, 'light-rain-at-times': 7, 'thunder': 15, 'mist': 9, 'rain-at-times': 12, 'rain-showers': 13, 'fog': 3, 'hail': 4, 'light-sleet': 8, 'sleet': 14}\n"
     ]
    }
   ],
   "source": [
    "df_o1['cloud_cover'] = df_o1['cloud_cover'].fillna(100.0)\n",
    "df_o1['condition_code_1'] = LabelEncoder().fit_transform(df_o1['condition_code'])\n",
    "condition_code = dict(zip(df_o1['condition_code'], df_o1['condition_code_1']))\n",
    "print(condition_code)\n",
    "df_o1['obs_time_utc'] = pd.to_datetime(df_o1['obs_time_utc'])\n",
    "df_o1.rename(columns={'obs_time_utc': 'dateTime'}, inplace=True)\n",
    "df_o1.drop('condition_code', axis=1, inplace=True)"
   ]
  },
  {
   "cell_type": "code",
   "execution_count": 10,
   "metadata": {},
   "outputs": [],
   "source": [
    "df1['viso'] = df1.iloc[:, 1:].sum(axis=1)\n",
    "df1=df1[['dateTime', 'viso']].copy()\n",
    "df1['valanda']=df1['dateTime'].dt.hour\n",
    "df1['diena']=df1['dateTime'].dt.day\n",
    "df1['menuo']=df1['dateTime'].dt.month\n",
    "df1['sav_diena']=df1['dateTime'].dt.weekday"
   ]
  },
  {
   "cell_type": "code",
   "execution_count": 11,
   "metadata": {},
   "outputs": [],
   "source": [
    "df1 = pd.merge(df1, df_o1, on='dateTime', how='left')\n"
   ]
  },
  {
   "cell_type": "code",
   "execution_count": 12,
   "metadata": {},
   "outputs": [],
   "source": [
    "df1_1031=df1[-25:-1].copy()\n",
    "df1=df1[:-25]"
   ]
  },
  {
   "cell_type": "code",
   "execution_count": 13,
   "metadata": {},
   "outputs": [],
   "source": [
    "Xmok= df1.drop(columns=['dateTime', 'viso'])\n",
    "y=df1['viso']\n",
    "xpred = df1_1031.drop(columns=['dateTime', 'viso'])\n",
    "X_train, X_test, y_train, y_test = train_test_split(Xmok, y, test_size=0.1, random_state=30)"
   ]
  },
  {
   "cell_type": "code",
   "execution_count": 14,
   "metadata": {},
   "outputs": [
    {
     "name": "stdout",
     "output_type": "stream",
     "text": [
      "Mean Squared Error: 9314.592070140568\n"
     ]
    }
   ],
   "source": [
    "df1_ats=df1_1031\n",
    "df1_ats['Linear'] = linear_regression(X_train, y_train, X_test, y_test, xpred)\n",
    "df1_ats['RandomForest']= random_forrest(X_train, y_train, X_test, y_test, xpred)\n",
    "df1_ats['DecisionTree']= decision_tree_regressor(X_train, y_train, X_test, y_test, xpred)"
   ]
  },
  {
   "cell_type": "code",
   "execution_count": 15,
   "metadata": {},
   "outputs": [
    {
     "data": {
      "text/plain": [
       "Index(['valanda', 'diena', 'menuo', 'sav_diena', 'air_temperature',\n",
       "       'feels_like_temperature', 'wind_speed', 'wind_gust', 'wind_direction',\n",
       "       'cloud_cover', 'sea_level_pressure', 'relative_humidity',\n",
       "       'precipitation', 'condition_code_1'],\n",
       "      dtype='object')"
      ]
     },
     "execution_count": 15,
     "metadata": {},
     "output_type": "execute_result"
    }
   ],
   "source": [
    "xpred.columns"
   ]
  },
  {
   "cell_type": "code",
   "execution_count": 16,
   "metadata": {},
   "outputs": [
    {
     "name": "stdout",
     "output_type": "stream",
     "text": [
      "{'cloudy': 1, 'snow-showers': 6, 'light-snow': 11, 'light-sleet': 1, 'snow': 11}\n"
     ]
    }
   ],
   "source": [
    "df_o12['cloud_cover'] = df_o12['cloud_cover'].fillna(100.0)\n",
    "df_o12['condition_code_1'] = LabelEncoder().fit_transform(df_o12['condition_code'])\n",
    "condition_code = dict(zip(df_o12['condition_code'], df_o1['condition_code_1']))\n",
    "print(condition_code)\n",
    "df_o12['obs_time_utc'] = pd.to_datetime(df_o12['obs_time_utc'])\n",
    "df_o12.rename(columns={'obs_time_utc': 'dateTime'}, inplace=True)\n",
    "df_o12.drop('condition_code', axis=1, inplace=True)\n",
    "df_o12['valanda']=df_o12['dateTime'].dt.hour"
   ]
  },
  {
   "cell_type": "code",
   "execution_count": 17,
   "metadata": {},
   "outputs": [],
   "source": [
    "df_12oras=pd.DataFrame()\n",
    "df_12oras['valanda']= [0, 1, 2, 3, 4, 5, 6, 7, 8, 9, 10, 11, 12, 13, 14, 15, 16, 17, 18, 19, 20, 21, 22, 23]\n",
    "df_12oras['diena']= [12, 12, 12, 12, 12, 12, 12, 12, 12, 12, 12, 12, 12, 12, 12, 12, 12, 12, 12, 12, 12, 12, 12, 12]\n",
    "df_12oras['menuo']= [1, 1, 1, 1, 1, 1, 1, 1, 1, 1, 1, 1, 1, 1, 1, 1, 1, 1, 1, 1, 1, 1, 1, 1]\n",
    "df_12oras['sav_diena']= [6, 6, 6, 6, 6, 6, 6, 6, 6, 6, 6, 6, 6, 6, 6, 6, 6, 6, 6, 6, 6, 6, 6, 6]\n"
   ]
  },
  {
   "cell_type": "code",
   "execution_count": 18,
   "metadata": {},
   "outputs": [],
   "source": [
    "df_pred12 = pd.merge(df_12oras, df_o12, on='valanda',how='left')\n",
    "df_pred12.drop('dateTime', axis=1, inplace=True)"
   ]
  },
  {
   "cell_type": "code",
   "execution_count": 19,
   "metadata": {},
   "outputs": [
    {
     "name": "stdout",
     "output_type": "stream",
     "text": [
      "Mean Squared Error: 9314.592070140568\n"
     ]
    }
   ],
   "source": [
    "df12ats=pd.DataFrame()\n",
    "df12ats['Linear'] = linear_regression(X_train, y_train, X_test, y_test, df_pred12)\n",
    "df12ats['RandomForest']= random_forrest(X_train, y_train, X_test, y_test, df_pred12)\n",
    "df12ats['DecisionTree']= decision_tree_regressor(X_train, y_train, X_test, y_test, df_pred12)"
   ]
  },
  {
   "cell_type": "code",
   "execution_count": 20,
   "metadata": {},
   "outputs": [],
   "source": [
    "df12ats['valanda']=df_12oras['valanda']"
   ]
  },
  {
   "cell_type": "code",
   "execution_count": 21,
   "metadata": {},
   "outputs": [],
   "source": [
    "df12['valanda']= df12['Laikas'].apply(lambda x: int(str(x).split(':')[0]))"
   ]
  },
  {
   "cell_type": "code",
   "execution_count": 22,
   "metadata": {},
   "outputs": [],
   "source": [
    "df12ats = pd.merge(df12ats, df12, on='valanda',how='left')"
   ]
  },
  {
   "cell_type": "code",
   "execution_count": 23,
   "metadata": {},
   "outputs": [
    {
     "data": {
      "text/html": [
       "<div>\n",
       "<style scoped>\n",
       "    .dataframe tbody tr th:only-of-type {\n",
       "        vertical-align: middle;\n",
       "    }\n",
       "\n",
       "    .dataframe tbody tr th {\n",
       "        vertical-align: top;\n",
       "    }\n",
       "\n",
       "    .dataframe thead th {\n",
       "        text-align: right;\n",
       "    }\n",
       "</style>\n",
       "<table border=\"1\" class=\"dataframe\">\n",
       "  <thead>\n",
       "    <tr style=\"text-align: right;\">\n",
       "      <th></th>\n",
       "      <th>Linear</th>\n",
       "      <th>RandomForest</th>\n",
       "      <th>DecisionTree</th>\n",
       "      <th>valanda</th>\n",
       "      <th>Laikas</th>\n",
       "      <th>MWH</th>\n",
       "    </tr>\n",
       "  </thead>\n",
       "  <tbody>\n",
       "    <tr>\n",
       "      <th>0</th>\n",
       "      <td>380.746653</td>\n",
       "      <td>722.503147</td>\n",
       "      <td>738.302165</td>\n",
       "      <td>0</td>\n",
       "      <td>00:00-01:00</td>\n",
       "      <td>1271.5</td>\n",
       "    </tr>\n",
       "    <tr>\n",
       "      <th>1</th>\n",
       "      <td>422.847112</td>\n",
       "      <td>722.656758</td>\n",
       "      <td>738.302165</td>\n",
       "      <td>1</td>\n",
       "      <td>01:00-02:00</td>\n",
       "      <td>1274.8</td>\n",
       "    </tr>\n",
       "    <tr>\n",
       "      <th>2</th>\n",
       "      <td>419.150902</td>\n",
       "      <td>720.443644</td>\n",
       "      <td>738.302165</td>\n",
       "      <td>2</td>\n",
       "      <td>02:00-03:00</td>\n",
       "      <td>1243.3</td>\n",
       "    </tr>\n",
       "    <tr>\n",
       "      <th>3</th>\n",
       "      <td>452.764856</td>\n",
       "      <td>732.765250</td>\n",
       "      <td>738.302165</td>\n",
       "      <td>3</td>\n",
       "      <td>03:00-04:00</td>\n",
       "      <td>1223.8</td>\n",
       "    </tr>\n",
       "    <tr>\n",
       "      <th>4</th>\n",
       "      <td>394.986966</td>\n",
       "      <td>730.177352</td>\n",
       "      <td>738.302165</td>\n",
       "      <td>4</td>\n",
       "      <td>04:00-05:00</td>\n",
       "      <td>1219.3</td>\n",
       "    </tr>\n",
       "    <tr>\n",
       "      <th>5</th>\n",
       "      <td>413.730206</td>\n",
       "      <td>735.117667</td>\n",
       "      <td>738.302165</td>\n",
       "      <td>5</td>\n",
       "      <td>05:00-06:00</td>\n",
       "      <td>1239.5</td>\n",
       "    </tr>\n",
       "    <tr>\n",
       "      <th>6</th>\n",
       "      <td>493.476572</td>\n",
       "      <td>942.979318</td>\n",
       "      <td>918.823800</td>\n",
       "      <td>6</td>\n",
       "      <td>06:00-07:00</td>\n",
       "      <td>1295.0</td>\n",
       "    </tr>\n",
       "    <tr>\n",
       "      <th>7</th>\n",
       "      <td>402.354905</td>\n",
       "      <td>935.863322</td>\n",
       "      <td>935.890765</td>\n",
       "      <td>7</td>\n",
       "      <td>07:00-08:00</td>\n",
       "      <td>1368.0</td>\n",
       "    </tr>\n",
       "    <tr>\n",
       "      <th>8</th>\n",
       "      <td>412.639095</td>\n",
       "      <td>937.837110</td>\n",
       "      <td>935.890765</td>\n",
       "      <td>8</td>\n",
       "      <td>08:00-09:00</td>\n",
       "      <td>1439.5</td>\n",
       "    </tr>\n",
       "    <tr>\n",
       "      <th>9</th>\n",
       "      <td>435.877979</td>\n",
       "      <td>738.835470</td>\n",
       "      <td>408.481299</td>\n",
       "      <td>9</td>\n",
       "      <td>09:00-10:00</td>\n",
       "      <td>1532.0</td>\n",
       "    </tr>\n",
       "    <tr>\n",
       "      <th>10</th>\n",
       "      <td>448.238118</td>\n",
       "      <td>648.270498</td>\n",
       "      <td>408.481299</td>\n",
       "      <td>10</td>\n",
       "      <td>10:00-11:00</td>\n",
       "      <td>1652.0</td>\n",
       "    </tr>\n",
       "    <tr>\n",
       "      <th>11</th>\n",
       "      <td>499.674543</td>\n",
       "      <td>624.773361</td>\n",
       "      <td>408.481299</td>\n",
       "      <td>11</td>\n",
       "      <td>11:00-12:00</td>\n",
       "      <td>1701.3</td>\n",
       "    </tr>\n",
       "    <tr>\n",
       "      <th>12</th>\n",
       "      <td>493.883103</td>\n",
       "      <td>636.812056</td>\n",
       "      <td>517.409533</td>\n",
       "      <td>12</td>\n",
       "      <td>12:00-13:00</td>\n",
       "      <td>1683.3</td>\n",
       "    </tr>\n",
       "    <tr>\n",
       "      <th>13</th>\n",
       "      <td>440.749089</td>\n",
       "      <td>614.300175</td>\n",
       "      <td>512.166966</td>\n",
       "      <td>13</td>\n",
       "      <td>13:00-14:00</td>\n",
       "      <td>1687.8</td>\n",
       "    </tr>\n",
       "    <tr>\n",
       "      <th>14</th>\n",
       "      <td>461.428551</td>\n",
       "      <td>614.828865</td>\n",
       "      <td>512.166966</td>\n",
       "      <td>14</td>\n",
       "      <td>14:00-15:00</td>\n",
       "      <td>1658.3</td>\n",
       "    </tr>\n",
       "    <tr>\n",
       "      <th>15</th>\n",
       "      <td>499.403638</td>\n",
       "      <td>650.805298</td>\n",
       "      <td>512.166966</td>\n",
       "      <td>15</td>\n",
       "      <td>15:00-16:00</td>\n",
       "      <td>1614.8</td>\n",
       "    </tr>\n",
       "    <tr>\n",
       "      <th>16</th>\n",
       "      <td>521.358242</td>\n",
       "      <td>677.659586</td>\n",
       "      <td>512.166966</td>\n",
       "      <td>16</td>\n",
       "      <td>16:00-17:00</td>\n",
       "      <td>1632.0</td>\n",
       "    </tr>\n",
       "    <tr>\n",
       "      <th>17</th>\n",
       "      <td>546.658145</td>\n",
       "      <td>862.604369</td>\n",
       "      <td>517.768289</td>\n",
       "      <td>17</td>\n",
       "      <td>17:00-18:00</td>\n",
       "      <td>1700.8</td>\n",
       "    </tr>\n",
       "    <tr>\n",
       "      <th>18</th>\n",
       "      <td>598.834891</td>\n",
       "      <td>865.169849</td>\n",
       "      <td>560.536768</td>\n",
       "      <td>18</td>\n",
       "      <td>18:00-19:00</td>\n",
       "      <td>1698.8</td>\n",
       "    </tr>\n",
       "    <tr>\n",
       "      <th>19</th>\n",
       "      <td>653.009758</td>\n",
       "      <td>900.201986</td>\n",
       "      <td>512.415700</td>\n",
       "      <td>19</td>\n",
       "      <td>19:00-20:00</td>\n",
       "      <td>1675.0</td>\n",
       "    </tr>\n",
       "    <tr>\n",
       "      <th>20</th>\n",
       "      <td>643.496841</td>\n",
       "      <td>996.332724</td>\n",
       "      <td>659.877944</td>\n",
       "      <td>20</td>\n",
       "      <td>20:00-21:00</td>\n",
       "      <td>1617.5</td>\n",
       "    </tr>\n",
       "    <tr>\n",
       "      <th>21</th>\n",
       "      <td>650.755609</td>\n",
       "      <td>998.799319</td>\n",
       "      <td>834.547667</td>\n",
       "      <td>21</td>\n",
       "      <td>21:00-22:00</td>\n",
       "      <td>1543.8</td>\n",
       "    </tr>\n",
       "    <tr>\n",
       "      <th>22</th>\n",
       "      <td>623.219639</td>\n",
       "      <td>844.785170</td>\n",
       "      <td>734.718336</td>\n",
       "      <td>22</td>\n",
       "      <td>22:00-23:00</td>\n",
       "      <td>1432.5</td>\n",
       "    </tr>\n",
       "    <tr>\n",
       "      <th>23</th>\n",
       "      <td>592.967061</td>\n",
       "      <td>733.855905</td>\n",
       "      <td>619.910000</td>\n",
       "      <td>23</td>\n",
       "      <td>23:00-00:00</td>\n",
       "      <td>1347.0</td>\n",
       "    </tr>\n",
       "  </tbody>\n",
       "</table>\n",
       "</div>"
      ],
      "text/plain": [
       "        Linear  RandomForest  DecisionTree  valanda       Laikas     MWH\n",
       "0   380.746653    722.503147    738.302165        0  00:00-01:00  1271.5\n",
       "1   422.847112    722.656758    738.302165        1  01:00-02:00  1274.8\n",
       "2   419.150902    720.443644    738.302165        2  02:00-03:00  1243.3\n",
       "3   452.764856    732.765250    738.302165        3  03:00-04:00  1223.8\n",
       "4   394.986966    730.177352    738.302165        4  04:00-05:00  1219.3\n",
       "5   413.730206    735.117667    738.302165        5  05:00-06:00  1239.5\n",
       "6   493.476572    942.979318    918.823800        6  06:00-07:00  1295.0\n",
       "7   402.354905    935.863322    935.890765        7  07:00-08:00  1368.0\n",
       "8   412.639095    937.837110    935.890765        8  08:00-09:00  1439.5\n",
       "9   435.877979    738.835470    408.481299        9  09:00-10:00  1532.0\n",
       "10  448.238118    648.270498    408.481299       10  10:00-11:00  1652.0\n",
       "11  499.674543    624.773361    408.481299       11  11:00-12:00  1701.3\n",
       "12  493.883103    636.812056    517.409533       12  12:00-13:00  1683.3\n",
       "13  440.749089    614.300175    512.166966       13  13:00-14:00  1687.8\n",
       "14  461.428551    614.828865    512.166966       14  14:00-15:00  1658.3\n",
       "15  499.403638    650.805298    512.166966       15  15:00-16:00  1614.8\n",
       "16  521.358242    677.659586    512.166966       16  16:00-17:00  1632.0\n",
       "17  546.658145    862.604369    517.768289       17  17:00-18:00  1700.8\n",
       "18  598.834891    865.169849    560.536768       18  18:00-19:00  1698.8\n",
       "19  653.009758    900.201986    512.415700       19  19:00-20:00  1675.0\n",
       "20  643.496841    996.332724    659.877944       20  20:00-21:00  1617.5\n",
       "21  650.755609    998.799319    834.547667       21  21:00-22:00  1543.8\n",
       "22  623.219639    844.785170    734.718336       22  22:00-23:00  1432.5\n",
       "23  592.967061    733.855905    619.910000       23  23:00-00:00  1347.0"
      ]
     },
     "execution_count": 23,
     "metadata": {},
     "output_type": "execute_result"
    }
   ],
   "source": [
    "df12ats.head(30)"
   ]
  },
  {
   "cell_type": "code",
   "execution_count": 24,
   "metadata": {},
   "outputs": [
    {
     "data": {
      "image/png": "[encoded data removed]",
      "text/plain": [
       "<Figure size 1000x600 with 1 Axes>"
      ]
     },
     "metadata": {},
     "output_type": "display_data"
    }
   ],
   "source": [
    "fig, ax = plt.subplots(figsize=(10, 6))\n",
    "sns.lineplot(data=df12ats, x='valanda', y='MWH', label='Tikri duomenys', marker='o', linewidth=3)\n",
    "sns.lineplot(data=df12ats, x='valanda', y='Linear', label='Linear')\n",
    "sns.lineplot(data=df12ats, x='valanda', y='RandomForest', label='Random Forest')\n",
    "sns.lineplot(data=df12ats, x='valanda', y='DecisionTree', label='Decision Tree')\n",
    "plt.title('Elektros energijos suvartojimas, 01-12 + ORAI')\n",
    "plt.ylabel('Energijos kiekis')\n",
    "plt.xlabel('2024-01-12 valandos')\n",
    "plt.xticks(df12ats['valanda'], df12ats['valanda'])\n",
    "# plt.xticks(rotation=0)\n",
    "# plt.savefig('example_plot.png', dpi=300, format='png', bbox_inches='tight')\n",
    "plt.show()"
   ]
  },
  {
   "cell_type": "code",
   "execution_count": 25,
   "metadata": {},
   "outputs": [],
   "source": [
    "# document = Document()\n",
    "\n",
    "# document.add_heading('Document Title', 0)\n",
    "\n",
    "# p = document.add_paragraph('A plain paragraph having some ')\n",
    "# p.add_run('bold').bold = True\n",
    "# p.add_run(' and some ')\n",
    "# p.add_run('italic.').italic = True\n",
    "\n",
    "# document.add_heading('Heading, level 1', level=1)\n",
    "# document.add_paragraph('Intense quote', style='Intense Quote')\n",
    "\n",
    "# document.add_paragraph(\n",
    "#     'first item in unordered list', style='List Bullet'\n",
    "# )\n",
    "# document.add_paragraph(\n",
    "#     'first item in ordered list', style='List Number'\n",
    "# )\n",
    "\n",
    "# document.add_picture('example_plot.png', width=Inches(1.25))\n",
    "\n",
    "# records = (\n",
    "#     (3, '101', 'Spam'),\n",
    "#     (7, '422', 'Eggs'),\n",
    "#     (4, '631', 'Spam, spam, eggs, and spam')\n",
    "# )\n",
    "\n",
    "# table = document.add_table(rows=1, cols=3)\n",
    "# hdr_cells = table.rows[0].cells\n",
    "# hdr_cells[0].text = 'Qty'\n",
    "# hdr_cells[1].text = 'Id'\n",
    "# hdr_cells[2].text = 'Desc'\n",
    "# for qty, id, desc in records:\n",
    "#     row_cells = table.add_row().cells\n",
    "#     row_cells[0].text = str(qty)\n",
    "#     row_cells[1].text = id\n",
    "#     row_cells[2].text = desc\n",
    "\n",
    "# document.add_page_break()\n",
    "\n",
    "# document.save('demo.docx')"
   ]
  },
  {
   "cell_type": "code",
   "execution_count": 26,
   "metadata": {},
   "outputs": [
    {
     "name": "stdout",
     "output_type": "stream",
     "text": [
      "([1, 2, 3], [4, 5, 6])\n",
      "([1, 'A', 3], [4, 5, 6])\n"
     ]
    }
   ],
   "source": [
    "a = ([1,2,3],[4,5,6])\n",
    "print(a)\n",
    "a[0][1]='A'\n",
    "print(a)"
   ]
  }
 ],
 "metadata": {
  "kernelspec": {
   "display_name": "Python 3",
   "language": "python",
   "name": "python3"
  },
  "language_info": {
   "codemirror_mode": {
    "name": "ipython",
    "version": 3
   },
   "file_extension": ".py",
   "mimetype": "text/x-python",
   "name": "python",
   "nbconvert_exporter": "python",
   "pygments_lexer": "ipython3",
   "version": "3.12.4"
  }
 },
 "nbformat": 4,
 "nbformat_minor": 2
}
