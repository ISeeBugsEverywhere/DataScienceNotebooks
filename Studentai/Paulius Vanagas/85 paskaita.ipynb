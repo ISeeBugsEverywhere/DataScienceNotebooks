{
 "cells": [
  {
   "cell_type": "code",
   "execution_count": 23,
   "metadata": {},
   "outputs": [],
   "source": [
    "import pandas as pd\n",
    "import seaborn as sns\n",
    "import numpy as np\n",
    "import matplotlib.pyplot as plt\n",
    "import glob\n",
    "import requests\n",
    "from bs4 import BeautifulSoup\n",
    "from datetime import datetime, timedelta"
   ]
  },
  {
   "cell_type": "code",
   "execution_count": 24,
   "metadata": {},
   "outputs": [],
   "source": [
    "# Viena užduotis maždaug\n",
    "# vienai paskaitai. Techniniai reikalavimai –\n",
    "# Jupyter Notebook’as arba Streamlit aplinka. Grafikai turi turėti\n",
    "# pavadinimus, ašys pavadintos prasmingai, jei grafike yra daugiau nei\n",
    "# viena kreivė – legenda būtina. Panaudoti boxplot,\n",
    "# swarmplot, heatmap, pairplot, (h)bar,\n",
    "# histogram, scatter. Būtina pasirašyti 1 – 2\n",
    "# sakinius į JupyterNotebook’ą apie tai, ką matote, ką galite\n",
    "# pasakyti iš grafiko (ką matote grafike, 1-2 sakiniai vienam\n",
    "# grafikui, tad jei turėsite 10 grafikų – 20 sakinių).\n",
    "\n",
    "#  5        \n",
    "      \n",
    "\n",
    "# Duomenys:\n",
    "# https://data.gov.lt/datasets/2829/\n",
    "# - Stacionaro ir ambulatoriniai ligoniai, gydyti nuo traumų ir\n",
    "# apsinuodijimų. Įvertinkite patiriamų traumų, apsinuodijimų\n",
    "# dažnius/pasiskirstymą, sunkumą pagal amžių/amžiaus\n",
    "# grupes, lytį, paros, metų, darbo dienų/švenčių/išeiginių. Ar\n",
    "# traumų pobūdis/dažnis, apsinuodijimų kiekis, pobūdis, sunkumas\n",
    "# priklauso nuo užfiksuotų meteorologinių sąlygų, mėnulio fazės,\n",
    "# švenčių/laisvadienių?\n",
    "# Duomenys:\n",
    "# https://data.gov.lt/datasets/2793/#info\n",
    "# – PAGD iškvietimai; https://data.gov.lt/datasets/1667/#info\n",
    "# – Policijos\n",
    "# iškvietimai. Ar\n",
    "# iškvietimų dažnis/kiekis priklauso nuo paros,\n",
    "# metų, darbo dienų/švenčių/išeiginių, mėnulio\n",
    "# fazės, švenčių/laisvadienių?\n",
    "# Mėnulio\n",
    "# fazės turi būti pasiekiamos per http užklausas – iš esmės\n",
    "# pasinaudojate web scrapingu, kad gautumėte norimą informaciją.\n",
    "# Papildoma informacija -\n",
    "# https://ligoniukasa.lrv.lt/lt/veiklos-sritys/informacija-gyventojams/gydymo-ir-sveikatos-prieziuros-paslaugos/stebejimo-paslaugos/\n",
    "# ;\n",
    "\n",
    "# TLK kodų paaiškinimai yra šiame excel faile:\n",
    "# https://ligoniukasa.lrv.lt/uploads/ligoniukasa/documents/files/1(9).xlsx\n",
    "\n",
    "# Jūs turėsite sujungti tris failus:\n",
    "# https://data.gov.lt/datasets/2829/data/Pacientas/\n",
    "# https://data.gov.lt/datasets/2829/data/Ligonine/\n",
    "# ir pateiktą excel'io failą, kad turėtumėte vientisą lentelę su reikiamais duomenimis.\n",
    "# Prie jų jungsite infromaciją iš\n",
    "# https://astropixels.com/ephemeris/phasescat/phasescat.html\n",
    "# ARBA day.lt - bus paprasčiau:\n",
    "# https://day.lt/diena/2021.04.22    <--- adreso laukelyje įrašius norimą datą, gaunama informacija apie tą dieną.\n",
    "\n",
    "# iš kurios, naudodami web scraping'ą, išgausite reikiamą informaciją apie fazes. (requests bibliotekos užteks)"
   ]
  },
  {
   "cell_type": "code",
   "execution_count": 25,
   "metadata": {},
   "outputs": [],
   "source": [
    "# import requests\n",
    "# r = requests.get('https://get.data.gov.lt/datasets/gov/hi/traumos_apsinuodijimai/Pacientas')\n",
    "# ats = r.json()\n",
    "# pandas_df = pd.DataFrame(data=ats[\"_data\"])\n",
    "# pandas_df.head()"
   ]
  },
  {
   "cell_type": "code",
   "execution_count": 26,
   "metadata": {},
   "outputs": [],
   "source": [
    "df_iskvietimai = pd.read_json(r\"C:\\Users\\pauli\\Downloads\\prir_2019_03_31.json\")\n",
    "\n",
    "failai=[]\n",
    "for name in glob.glob(r'C:\\Users\\pauli\\Downloads\\iskvietimai\\*.json'):\n",
    "    failai.append(name)\n",
    "    \n",
    "for i in failai:\n",
    "    df_iskvietimai = pd.concat([df_iskvietimai, pd.read_json(i)])"
   ]
  },
  {
   "cell_type": "code",
   "execution_count": 27,
   "metadata": {},
   "outputs": [],
   "source": [
    "df_orai = pd.read_csv(r\"C:\\Users\\pauli\\Downloads\\orai2014.csv\")\n",
    "\n",
    "failai=[]\n",
    "for name in glob.glob(r'C:\\Users\\pauli\\Downloads\\orai\\*.csv'):\n",
    "    failai.append(name)\n",
    "    \n",
    "for i in failai:\n",
    "    df_orai = pd.concat([df_orai, pd.read_csv(i)])"
   ]
  },
  {
   "cell_type": "code",
   "execution_count": 37,
   "metadata": {},
   "outputs": [
    {
     "data": {
      "text/html": [
       "<div>\n",
       "<style scoped>\n",
       "    .dataframe tbody tr th:only-of-type {\n",
       "        vertical-align: middle;\n",
       "    }\n",
       "\n",
       "    .dataframe tbody tr th {\n",
       "        vertical-align: top;\n",
       "    }\n",
       "\n",
       "    .dataframe thead th {\n",
       "        text-align: right;\n",
       "    }\n",
       "</style>\n",
       "<table border=\"1\" class=\"dataframe\">\n",
       "  <thead>\n",
       "    <tr style=\"text-align: right;\">\n",
       "      <th></th>\n",
       "      <th>obs_time_utc</th>\n",
       "      <th>air_temperature</th>\n",
       "      <th>feels_like_temperature</th>\n",
       "      <th>wind_speed</th>\n",
       "      <th>wind_gust</th>\n",
       "      <th>wind_direction</th>\n",
       "      <th>cloud_cover</th>\n",
       "      <th>sea_level_pressure</th>\n",
       "      <th>relative_humidity</th>\n",
       "      <th>precipitation</th>\n",
       "      <th>condition_code</th>\n",
       "    </tr>\n",
       "  </thead>\n",
       "  <tbody>\n",
       "    <tr>\n",
       "      <th>0</th>\n",
       "      <td>2014-01-01 00:00:00</td>\n",
       "      <td>-1.4</td>\n",
       "      <td>-5.1</td>\n",
       "      <td>2.9</td>\n",
       "      <td>NaN</td>\n",
       "      <td>175.0</td>\n",
       "      <td>88.0</td>\n",
       "      <td>1027.9</td>\n",
       "      <td>89.0</td>\n",
       "      <td>0.0</td>\n",
       "      <td>cloudy</td>\n",
       "    </tr>\n",
       "  </tbody>\n",
       "</table>\n",
       "</div>"
      ],
      "text/plain": [
       "          obs_time_utc  air_temperature  feels_like_temperature  wind_speed  \\\n",
       "0  2014-01-01 00:00:00             -1.4                    -5.1         2.9   \n",
       "\n",
       "   wind_gust  wind_direction  cloud_cover  sea_level_pressure  \\\n",
       "0        NaN           175.0         88.0              1027.9   \n",
       "\n",
       "   relative_humidity  precipitation condition_code  \n",
       "0               89.0            0.0         cloudy  "
      ]
     },
     "execution_count": 37,
     "metadata": {},
     "output_type": "execute_result"
    }
   ],
   "source": [
    "df_orai.head(1)"
   ]
  },
  {
   "cell_type": "code",
   "execution_count": 28,
   "metadata": {},
   "outputs": [],
   "source": [
    "df_pacientas = pd.read_csv(r\"C:\\Users\\pauli\\Downloads\\Pacientas.csv\", low_memory=False)"
   ]
  },
  {
   "cell_type": "code",
   "execution_count": 35,
   "metadata": {},
   "outputs": [
    {
     "data": {
      "text/html": [
       "<div>\n",
       "<style scoped>\n",
       "    .dataframe tbody tr th:only-of-type {\n",
       "        vertical-align: middle;\n",
       "    }\n",
       "\n",
       "    .dataframe tbody tr th {\n",
       "        vertical-align: top;\n",
       "    }\n",
       "\n",
       "    .dataframe thead th {\n",
       "        text-align: right;\n",
       "    }\n",
       "</style>\n",
       "<table border=\"1\" class=\"dataframe\">\n",
       "  <thead>\n",
       "    <tr style=\"text-align: right;\">\n",
       "      <th></th>\n",
       "      <th>_type</th>\n",
       "      <th>_id</th>\n",
       "      <th>_revision</th>\n",
       "      <th>_page.next</th>\n",
       "      <th>vda_pk</th>\n",
       "      <th>paciento_id</th>\n",
       "      <th>atvejo_id</th>\n",
       "      <th>gyd_lap_pradzia</th>\n",
       "      <th>lytis</th>\n",
       "      <th>vda_gim_metai</th>\n",
       "      <th>savivaldybe</th>\n",
       "      <th>gyvenviete</th>\n",
       "      <th>gydymas</th>\n",
       "      <th>stacionaro_tipas</th>\n",
       "      <th>tlk_trauma</th>\n",
       "      <th>tlk_aplinkybe</th>\n",
       "      <th>tlk_veikla</th>\n",
       "      <th>tlk_vieta</th>\n",
       "    </tr>\n",
       "  </thead>\n",
       "  <tbody>\n",
       "    <tr>\n",
       "      <th>0</th>\n",
       "      <td>datasets/gov/hi/traumos_apsinuodijimai/Pacientas</td>\n",
       "      <td>fe5742d1-21bb-4897-9716-0ea67e22e005</td>\n",
       "      <td>f68b114b-36e7-4d6e-a072-919c64f98594</td>\n",
       "      <td>NaN</td>\n",
       "      <td>000002a37f16bf4</td>\n",
       "      <td>24cdba64a645d60</td>\n",
       "      <td>062bca343d25de9</td>\n",
       "      <td>2013-01-01</td>\n",
       "      <td>Vyras</td>\n",
       "      <td>1998-01-01</td>\n",
       "      <td>Kretingos r. sav.</td>\n",
       "      <td>Nežinoma</td>\n",
       "      <td>Ambulatorinis</td>\n",
       "      <td>NaN</td>\n",
       "      <td>S42.43</td>\n",
       "      <td>NaN</td>\n",
       "      <td>NaN</td>\n",
       "      <td>NaN</td>\n",
       "    </tr>\n",
       "  </tbody>\n",
       "</table>\n",
       "</div>"
      ],
      "text/plain": [
       "                                              _type  \\\n",
       "0  datasets/gov/hi/traumos_apsinuodijimai/Pacientas   \n",
       "\n",
       "                                    _id                             _revision  \\\n",
       "0  fe5742d1-21bb-4897-9716-0ea67e22e005  f68b114b-36e7-4d6e-a072-919c64f98594   \n",
       "\n",
       "  _page.next           vda_pk      paciento_id        atvejo_id  \\\n",
       "0        NaN  000002a37f16bf4  24cdba64a645d60  062bca343d25de9   \n",
       "\n",
       "  gyd_lap_pradzia  lytis vda_gim_metai        savivaldybe gyvenviete  \\\n",
       "0      2013-01-01  Vyras    1998-01-01  Kretingos r. sav.   Nežinoma   \n",
       "\n",
       "         gydymas stacionaro_tipas tlk_trauma tlk_aplinkybe tlk_veikla  \\\n",
       "0  Ambulatorinis              NaN     S42.43           NaN        NaN   \n",
       "\n",
       "  tlk_vieta  \n",
       "0       NaN  "
      ]
     },
     "execution_count": 35,
     "metadata": {},
     "output_type": "execute_result"
    }
   ],
   "source": [
    "df_pacientas.head(1)"
   ]
  },
  {
   "cell_type": "code",
   "execution_count": 29,
   "metadata": {},
   "outputs": [],
   "source": [
    "df_tlk = pd.read_excel(r\"C:\\Users\\pauli\\Downloads\\1(9).xlsx\")"
   ]
  },
  {
   "cell_type": "code",
   "execution_count": 36,
   "metadata": {},
   "outputs": [
    {
     "data": {
      "text/html": [
       "<div>\n",
       "<style scoped>\n",
       "    .dataframe tbody tr th:only-of-type {\n",
       "        vertical-align: middle;\n",
       "    }\n",
       "\n",
       "    .dataframe tbody tr th {\n",
       "        vertical-align: top;\n",
       "    }\n",
       "\n",
       "    .dataframe thead th {\n",
       "        text-align: right;\n",
       "    }\n",
       "</style>\n",
       "<table border=\"1\" class=\"dataframe\">\n",
       "  <thead>\n",
       "    <tr style=\"text-align: right;\">\n",
       "      <th></th>\n",
       "      <th>TLK-10-AM Kodas</th>\n",
       "      <th>TLK-10-AM Kodo pavadinimas</th>\n",
       "      <th>Kodo lygis</th>\n",
       "      <th>Žvaigždutė</th>\n",
       "      <th>Apskritimas</th>\n",
       "      <th>Kryželis</th>\n",
       "      <th>Poskyrio eil. nr.</th>\n",
       "      <th>Poskyrio blokas</th>\n",
       "      <th>Poskyrio pavadinimas</th>\n",
       "      <th>Skyriaus nr.</th>\n",
       "      <th>Skyriaus blokas</th>\n",
       "      <th>Skyriaus pavadinimas</th>\n",
       "      <th>Data nuo</th>\n",
       "      <th>Data iki</th>\n",
       "    </tr>\n",
       "  </thead>\n",
       "  <tbody>\n",
       "    <tr>\n",
       "      <th>0</th>\n",
       "      <td>A00</td>\n",
       "      <td>Cholera</td>\n",
       "      <td>1</td>\n",
       "      <td>0</td>\n",
       "      <td>0</td>\n",
       "      <td>0</td>\n",
       "      <td>1</td>\n",
       "      <td>(A00-A09)</td>\n",
       "      <td>ŽARNYNO INFEKCINĖS LIGOS</td>\n",
       "      <td>1</td>\n",
       "      <td>(A00-B99)</td>\n",
       "      <td>TAM TIKROS INFEKCINĖS IR PARAZITŲ SUKELIAMOS L...</td>\n",
       "      <td>1997-01-01</td>\n",
       "      <td>2100-01-01</td>\n",
       "    </tr>\n",
       "  </tbody>\n",
       "</table>\n",
       "</div>"
      ],
      "text/plain": [
       "  TLK-10-AM Kodas TLK-10-AM Kodo pavadinimas  Kodo lygis  Žvaigždutė  \\\n",
       "0             A00                    Cholera           1           0   \n",
       "\n",
       "   Apskritimas  Kryželis  Poskyrio eil. nr. Poskyrio blokas  \\\n",
       "0            0         0                  1       (A00-A09)   \n",
       "\n",
       "       Poskyrio pavadinimas  Skyriaus nr. Skyriaus blokas  \\\n",
       "0  ŽARNYNO INFEKCINĖS LIGOS             1       (A00-B99)   \n",
       "\n",
       "                                Skyriaus pavadinimas   Data nuo   Data iki  \n",
       "0  TAM TIKROS INFEKCINĖS IR PARAZITŲ SUKELIAMOS L... 1997-01-01 2100-01-01  "
      ]
     },
     "execution_count": 36,
     "metadata": {},
     "output_type": "execute_result"
    }
   ],
   "source": [
    "df_tlk.head(1)"
   ]
  },
  {
   "cell_type": "code",
   "execution_count": 30,
   "metadata": {},
   "outputs": [],
   "source": [
    "df_ivykis = pd.read_csv(r\"C:\\Users\\pauli\\Downloads\\Ivykis.csv\", low_memory=False)"
   ]
  },
  {
   "cell_type": "code",
   "execution_count": 31,
   "metadata": {},
   "outputs": [],
   "source": [
    "df_menulis = pd.read_csv(r\"C:\\Users\\pauli\\Desktop\\DataScienceNotebooks\\Studentai\\Paulius Vanagas\\menulis.csv\", low_memory=False)"
   ]
  },
  {
   "cell_type": "code",
   "execution_count": 32,
   "metadata": {},
   "outputs": [],
   "source": [
    "# start_date = datetime(2003, 1, 1)\n",
    "# end_date = datetime(2024, 12, 30)\n",
    "\n",
    "# date_list = [(start_date + timedelta(days=i)).strftime(\"%Y-%m-%d\") \n",
    "#              for i in range((end_date - start_date).days + 1)]\n",
    "\n",
    "# for i in range(0, len(date_list)):\n",
    "#     date_list[i] = date_list[i].replace('-', '.')"
   ]
  },
  {
   "cell_type": "code",
   "execution_count": 33,
   "metadata": {},
   "outputs": [],
   "source": [
    "# url = 'https://day.lt/diena/'\n",
    "# menulis=[]\n",
    "\n",
    "# for i in range(0, len(date_list)):\n",
    "#     try:\n",
    "#         page = requests.get(url+date_list[i])\n",
    "#         source = page.content\n",
    "#         bs = BeautifulSoup(source, 'html.parser')\n",
    "        \n",
    "#         a = bs.find('div', {'class':'sun-moon-container m-4'})\n",
    "#         a = a.find('a', {'title':'Apie dabartinį mėnulį'})\n",
    "#         a = a.find('img')\n",
    "        \n",
    "#         menulis.append(a['alt'])\n",
    "        \n",
    "#     except:\n",
    "#         menulis.append(menulis[-1])"
   ]
  },
  {
   "cell_type": "code",
   "execution_count": 34,
   "metadata": {},
   "outputs": [],
   "source": [
    "# for i in range(0, len(menulis)):\n",
    "#     menulis[i] = menulis[i].split(' ')[0]\n",
    "\n",
    "# for i in range(0, len(date_list)):\n",
    "#     date_list[i] = date_list[i].replace('.', '-')\n",
    "\n",
    "# df_menulis = pd.DataFrame({\"data\": date_list, \"menulis\":menulis })\n",
    "# df_menulis.to_csv(\"menulis.csv\", index=False)\n",
    "\n",
    "# df_menulis.head()"
   ]
  },
  {
   "cell_type": "code",
   "execution_count": null,
   "metadata": {},
   "outputs": [],
   "source": []
  }
 ],
 "metadata": {
  "kernelspec": {
   "display_name": "Python 3",
   "language": "python",
   "name": "python3"
  },
  "language_info": {
   "codemirror_mode": {
    "name": "ipython",
    "version": 3
   },
   "file_extension": ".py",
   "mimetype": "text/x-python",
   "name": "python",
   "nbconvert_exporter": "python",
   "pygments_lexer": "ipython3",
   "version": "3.12.4"
  }
 },
 "nbformat": 4,
 "nbformat_minor": 2
}
