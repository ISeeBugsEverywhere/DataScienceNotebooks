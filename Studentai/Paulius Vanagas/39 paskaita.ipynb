{
 "cells": [
  {
   "cell_type": "code",
   "execution_count": null,
   "metadata": {},
   "outputs": [],
   "source": [
    "# Leiskite vartotojui nurodyti iki trijų metreologinių stočių, ir dvi datas : nuo, iki.\n",
    "# Iš meto.lt per API išgaukite istorinius\n",
    "# duomenis nurodytame laikotarpyje, ir atvaizduokite grafiškai - oro temperatūrą bei vėjo greitį."
   ]
  },
  {
   "cell_type": "code",
   "execution_count": 8,
   "metadata": {},
   "outputs": [],
   "source": [
    "import sys\n",
    "import os\n",
    "import numpy as np\n",
    "import pandas as pd\n",
    "import matplotlib.pyplot as plt\n",
    "import warnings\n",
    "warnings.filterwarnings('ignore')\n",
    "import seaborn as sns\n",
    "import sqlite3\n",
    "import mysql.connector as cnt\n",
    "import plotly.express as px\n",
    "import glob\n",
    "import math\n",
    "import requests\n",
    "from datetime import datetime, timedelta"
   ]
  },
  {
   "cell_type": "code",
   "execution_count": 9,
   "metadata": {},
   "outputs": [
    {
     "data": {
      "text/html": [
       "<div>\n",
       "<style scoped>\n",
       "    .dataframe tbody tr th:only-of-type {\n",
       "        vertical-align: middle;\n",
       "    }\n",
       "\n",
       "    .dataframe tbody tr th {\n",
       "        vertical-align: top;\n",
       "    }\n",
       "\n",
       "    .dataframe thead th {\n",
       "        text-align: right;\n",
       "    }\n",
       "</style>\n",
       "<table border=\"1\" class=\"dataframe\">\n",
       "  <thead>\n",
       "    <tr style=\"text-align: right;\">\n",
       "      <th></th>\n",
       "      <th>code</th>\n",
       "      <th>name</th>\n",
       "      <th>coordinates</th>\n",
       "    </tr>\n",
       "  </thead>\n",
       "  <tbody>\n",
       "    <tr>\n",
       "      <th>0</th>\n",
       "      <td>akmenes-ams</td>\n",
       "      <td>Akmenės AMS</td>\n",
       "      <td>{'latitude': 56.24992, 'longitude': 22.73081}</td>\n",
       "    </tr>\n",
       "    <tr>\n",
       "      <th>1</th>\n",
       "      <td>alytaus-ams</td>\n",
       "      <td>Alytaus AMS</td>\n",
       "      <td>{'latitude': 54.412435, 'longitude': 24.063274}</td>\n",
       "    </tr>\n",
       "    <tr>\n",
       "      <th>2</th>\n",
       "      <td>anyksciu-ams</td>\n",
       "      <td>Anykščių AMS</td>\n",
       "      <td>{'latitude': 55.51735, 'longitude': 25.1178}</td>\n",
       "    </tr>\n",
       "    <tr>\n",
       "      <th>3</th>\n",
       "      <td>birstono-ams</td>\n",
       "      <td>Birštono AMS</td>\n",
       "      <td>{'latitude': 54.603217, 'longitude': 24.035802}</td>\n",
       "    </tr>\n",
       "    <tr>\n",
       "      <th>4</th>\n",
       "      <td>birzu-ams</td>\n",
       "      <td>Biržų AMS</td>\n",
       "      <td>{'latitude': 56.193191, 'longitude': 24.774184}</td>\n",
       "    </tr>\n",
       "  </tbody>\n",
       "</table>\n",
       "</div>"
      ],
      "text/plain": [
       "           code          name                                      coordinates\n",
       "0   akmenes-ams   Akmenės AMS    {'latitude': 56.24992, 'longitude': 22.73081}\n",
       "1   alytaus-ams   Alytaus AMS  {'latitude': 54.412435, 'longitude': 24.063274}\n",
       "2  anyksciu-ams  Anykščių AMS     {'latitude': 55.51735, 'longitude': 25.1178}\n",
       "3  birstono-ams  Birštono AMS  {'latitude': 54.603217, 'longitude': 24.035802}\n",
       "4     birzu-ams     Biržų AMS  {'latitude': 56.193191, 'longitude': 24.774184}"
      ]
     },
     "execution_count": 9,
     "metadata": {},
     "output_type": "execute_result"
    }
   ],
   "source": [
    "url ='https://api.meteo.lt/v1/stations'\n",
    "\n",
    "page = requests.get(url)\n",
    "status = page.status_code\n",
    "r = page.json()\n",
    "df=pd.DataFrame(data=r)\n",
    "df.head()"
   ]
  },
  {
   "cell_type": "code",
   "execution_count": 10,
   "metadata": {},
   "outputs": [
    {
     "ename": "ValueError",
     "evalue": "invalid literal for int() with base 10: ''",
     "output_type": "error",
     "traceback": [
      "\u001b[1;31m---------------------------------------------------------------------------\u001b[0m",
      "\u001b[1;31mValueError\u001b[0m                                Traceback (most recent call last)",
      "Cell \u001b[1;32mIn[10], line 3\u001b[0m\n\u001b[0;32m      1\u001b[0m stotys \u001b[38;5;241m=\u001b[39m \u001b[38;5;28mlist\u001b[39m(df[\u001b[38;5;124m'\u001b[39m\u001b[38;5;124mcode\u001b[39m\u001b[38;5;124m'\u001b[39m])\n\u001b[1;32m----> 3\u001b[0m a\u001b[38;5;241m=\u001b[39m \u001b[38;5;28;43mint\u001b[39;49m\u001b[43m(\u001b[49m\u001b[38;5;28;43minput\u001b[39;49m\u001b[43m(\u001b[49m\u001b[38;5;124;43m'\u001b[39;49m\u001b[38;5;124;43mnurodykite stočių kiekį, nuo 1 iki 3\u001b[39;49m\u001b[38;5;124;43m'\u001b[39;49m\u001b[43m)\u001b[49m\u001b[43m)\u001b[49m\n\u001b[0;32m      5\u001b[0m b\u001b[38;5;241m=\u001b[39m[]\n\u001b[0;32m      6\u001b[0m \u001b[38;5;28;01mfor\u001b[39;00m i \u001b[38;5;129;01min\u001b[39;00m \u001b[38;5;28mrange\u001b[39m(\u001b[38;5;241m0\u001b[39m, a):\n",
      "\u001b[1;31mValueError\u001b[0m: invalid literal for int() with base 10: ''"
     ]
    }
   ],
   "source": [
    "stotys = list(df['code'])\n",
    "\n",
    "a= int(input('nurodykite stočių kiekį, nuo 1 iki 3'))\n",
    "\n",
    "b=[]\n",
    "for i in range(0, a):\n",
    "    b.append(input(stotys))\n",
    "\n",
    "pradzia=(input('įveskite pradžios datą, ne anksčiau kaip 2014-10-10'))\n",
    "pabaiga=(input('įveskite pabaigą datą, ne vėliau kaip 2024-10-09'))"
   ]
  },
  {
   "cell_type": "code",
   "execution_count": 11,
   "metadata": {},
   "outputs": [],
   "source": [
    "a=2\n",
    "b=['vilniaus-ams', 'mazeikiu-ams', 'klaipedos-ams']\n",
    "pradzia='2023-08-03'\n",
    "pabaiga='2023-08-04'"
   ]
  },
  {
   "cell_type": "code",
   "execution_count": 12,
   "metadata": {},
   "outputs": [],
   "source": [
    "pradzia = datetime.strptime(pradzia, '%Y-%m-%d')\n",
    "pabaiga = datetime.strptime(pabaiga, '%Y-%m-%d')\n",
    "\n",
    "t1, t2, t3 = [], [], []\n",
    "vg1, vg2, vg3 = [], [], []\n",
    "datos=[]\n",
    "current_date = pradzia\n",
    "\n",
    "while current_date <= pabaiga:\n",
    "    \n",
    "    url ='https://api.meteo.lt/v1/stations/'+b[0]+'/observations/'+current_date.strftime(\"%Y-%m-%d\")\n",
    "    page = requests.get(url)\n",
    "    r = page.json()\n",
    "        \n",
    "    for j in r['observations']:\n",
    "        t1.append(j['airTemperature'])\n",
    "        vg1.append(j['windSpeed'])\n",
    "        datos.append(j['observationTimeUtc'])\n",
    "    \n",
    "    if a >= 2:\n",
    "        url ='https://api.meteo.lt/v1/stations/'+b[1]+'/observations/'+current_date.strftime(\"%Y-%m-%d\")\n",
    "        page = requests.get(url)\n",
    "        r = page.json()\n",
    "        \n",
    "        for j in r['observations']:\n",
    "            t2.append(j['airTemperature'])\n",
    "            vg2.append(j['windSpeed'])\n",
    "            \n",
    "    if a == 3:\n",
    "        url ='https://api.meteo.lt/v1/stations/'+b[2]+'/observations/'+current_date.strftime(\"%Y-%m-%d\")\n",
    "        page = requests.get(url)\n",
    "        r = page.json()\n",
    "        \n",
    "        for j in r['observations']:\n",
    "            t3.append(j['airTemperature'])\n",
    "            vg3.append(j['windSpeed'])\n",
    "            \n",
    "    current_date += timedelta(days=1)\n",
    "\n",
    "\n"
   ]
  },
  {
   "cell_type": "code",
   "execution_count": 13,
   "metadata": {},
   "outputs": [],
   "source": [
    "tempes = [t1, t2, t3]\n",
    "vejai = [vg1, vg2, vg3]"
   ]
  },
  {
   "cell_type": "code",
   "execution_count": 14,
   "metadata": {},
   "outputs": [
    {
     "data": {
      "image/png": "[encoded data removed]",
      "text/plain": [
       "<Figure size 1200x500 with 1 Axes>"
      ]
     },
     "metadata": {},
     "output_type": "display_data"
    },
    {
     "data": {
      "image/png": "[encoded data removed]",
      "text/plain": [
       "<Figure size 1200x500 with 1 Axes>"
      ]
     },
     "metadata": {},
     "output_type": "display_data"
    }
   ],
   "source": [
    "fig, axis = plt.subplots(figsize=(12, 5)) \n",
    "for i in range(0, a): \n",
    "    axis.plot(datos, tempes[i], label = b[i], marker ='o')\n",
    "    \n",
    "axis.set_xticks(datos)\n",
    "axis.legend(loc='best')\n",
    "plt.title('temperatūros')\n",
    "plt.xticks(rotation=90)\n",
    "plt.show()\n",
    "\n",
    "\n",
    "fig, axis = plt.subplots(figsize=(12, 5)) \n",
    "for i in range(0, a): \n",
    "    axis.plot(datos, vejai[i], label = b[i], marker ='o')\n",
    "    \n",
    "axis.set_xticks(datos)\n",
    "axis.legend(loc='best')\n",
    "plt.title('vėjo greitis')\n",
    "plt.xticks(rotation=90)\n",
    "plt.show()"
   ]
  },
  {
   "cell_type": "code",
   "execution_count": null,
   "metadata": {},
   "outputs": [],
   "source": [
    "# https://data.gov.lt/datasets/2638/models/VietovesTemperaturaDregme/\n",
    "# nuskaitykite šiuos duomenis (atsisiuntę kaip CSV ar kitu jums priimtinu būdu)\n",
    "# atvaizduokite su scatter_mapbox, kuriose Lietuvos vietose yra įrengti registratoriai.\n",
    "# atvaizduokite vieno bet kurio vietos registratoriaus užfiksuotas temperatūras (istorinius duomenis)\n",
    "# 8 cm gylyje, paviršiuje, 15 cm aukštyje."
   ]
  },
  {
   "cell_type": "code",
   "execution_count": 1,
   "metadata": {},
   "outputs": [],
   "source": [
    "import numpy as np\n",
    "import pandas as pd\n",
    "import matplotlib.pyplot as plt\n",
    "import warnings\n",
    "warnings.filterwarnings('ignore')\n",
    "import seaborn as sns\n",
    "import sqlite3\n",
    "import mysql.connector as cnt\n",
    "import plotly.express as px\n",
    "import glob"
   ]
  },
  {
   "cell_type": "code",
   "execution_count": 2,
   "metadata": {},
   "outputs": [
    {
     "data": {
      "text/html": [
       "<div>\n",
       "<style scoped>\n",
       "    .dataframe tbody tr th:only-of-type {\n",
       "        vertical-align: middle;\n",
       "    }\n",
       "\n",
       "    .dataframe tbody tr th {\n",
       "        vertical-align: top;\n",
       "    }\n",
       "\n",
       "    .dataframe thead th {\n",
       "        text-align: right;\n",
       "    }\n",
       "</style>\n",
       "<table border=\"1\" class=\"dataframe\">\n",
       "  <thead>\n",
       "    <tr style=\"text-align: right;\">\n",
       "      <th></th>\n",
       "      <th>_type</th>\n",
       "      <th>_id</th>\n",
       "      <th>_revision</th>\n",
       "      <th>_page.next</th>\n",
       "      <th>atvejo_id</th>\n",
       "      <th>vietoves_registratoriaus_id</th>\n",
       "      <th>laikas</th>\n",
       "      <th>temperatura_8cm_gylyje_dirvozemyje</th>\n",
       "      <th>temperatura_dirvozemio_pavirsiuje</th>\n",
       "      <th>temperatura_15cm_virs_dirvozemio</th>\n",
       "      <th>dirvozemio_dregme</th>\n",
       "      <th>platuma</th>\n",
       "      <th>ilguma</th>\n",
       "      <th>apytiksle_vietoves_klasifikacija</th>\n",
       "    </tr>\n",
       "  </thead>\n",
       "  <tbody>\n",
       "    <tr>\n",
       "      <th>0</th>\n",
       "      <td>datasets/gov/gtc/dirvozemio_temperatura/Vietov...</td>\n",
       "      <td>0b113578-f771-4f4c-b14e-ff0ae20abe83</td>\n",
       "      <td>ea2cdfe2-86b5-465f-81af-da060b4c692d</td>\n",
       "      <td>NaN</td>\n",
       "      <td>1</td>\n",
       "      <td>LT_DU_94183509</td>\n",
       "      <td>2018-11-08T08:30:00</td>\n",
       "      <td>6.0</td>\n",
       "      <td>11.68</td>\n",
       "      <td>8.75</td>\n",
       "      <td>324</td>\n",
       "      <td>55.635334</td>\n",
       "      <td>25.295816</td>\n",
       "      <td>4</td>\n",
       "    </tr>\n",
       "  </tbody>\n",
       "</table>\n",
       "</div>"
      ],
      "text/plain": [
       "                                               _type  \\\n",
       "0  datasets/gov/gtc/dirvozemio_temperatura/Vietov...   \n",
       "\n",
       "                                    _id                             _revision  \\\n",
       "0  0b113578-f771-4f4c-b14e-ff0ae20abe83  ea2cdfe2-86b5-465f-81af-da060b4c692d   \n",
       "\n",
       "  _page.next  atvejo_id vietoves_registratoriaus_id               laikas  \\\n",
       "0        NaN          1              LT_DU_94183509  2018-11-08T08:30:00   \n",
       "\n",
       "   temperatura_8cm_gylyje_dirvozemyje  temperatura_dirvozemio_pavirsiuje  \\\n",
       "0                                 6.0                              11.68   \n",
       "\n",
       "   temperatura_15cm_virs_dirvozemio  dirvozemio_dregme    platuma     ilguma  \\\n",
       "0                              8.75                324  55.635334  25.295816   \n",
       "\n",
       "   apytiksle_vietoves_klasifikacija  \n",
       "0                                 4  "
      ]
     },
     "execution_count": 2,
     "metadata": {},
     "output_type": "execute_result"
    }
   ],
   "source": [
    "df = pd.read_csv(r'C:\\Users\\pauli\\Downloads\\VietovesTemperaturaDregme.csv')\n",
    "df.head(1)"
   ]
  },
  {
   "cell_type": "code",
   "execution_count": 3,
   "metadata": {},
   "outputs": [
    {
     "data": {
      "application/vnd.plotly.v1+json": {
       "config": {
        "plotlyServerURL": "https://plot.ly"
       },
       "data": [
        {
         "hovertemplate": "platuma=%{lat}<br>ilguma=%{lon}<extra></extra>",
         "lat": [
          55.635334,
          55.635198,
          56.045654,
          56.056991,
          56.10167,
          56.159036,
          56.160387,
          56.078044,
          55.634215,
          56.094091,
          55.634378,
          55.633768,
          55.634902,
          55.635265,
          56.066458,
          56.065553
         ],
         "legendgroup": "",
         "lon": [
          25.295816,
          25.29522,
          24.200813,
          24.177246,
          22.838685,
          22.761969,
          22.737053,
          22.853446,
          25.293801,
          24.60899,
          25.294058,
          25.293366,
          25.294727,
          25.295431,
          24.124961,
          24.126615
         ],
         "marker": {
          "color": "#636efa"
         },
         "mode": "markers",
         "name": "",
         "showlegend": false,
         "subplot": "mapbox",
         "type": "scattermapbox"
        }
       ],
       "layout": {
        "height": 600,
        "legend": {
         "tracegroupgap": 0
        },
        "mapbox": {
         "center": {
          "lat": 55.89193399999999,
          "lon": 24.343262312500002
         },
         "domain": {
          "x": [
           0,
           1
          ],
          "y": [
           0,
           1
          ]
         },
         "style": "open-street-map",
         "zoom": 5
        },
        "margin": {
         "t": 60
        },
        "template": {
         "data": {
          "bar": [
           {
            "error_x": {
             "color": "#2a3f5f"
            },
            "error_y": {
             "color": "#2a3f5f"
            },
            "marker": {
             "line": {
              "color": "#E5ECF6",
              "width": 0.5
             },
             "pattern": {
              "fillmode": "overlay",
              "size": 10,
              "solidity": 0.2
             }
            },
            "type": "bar"
           }
          ],
          "barpolar": [
           {
            "marker": {
             "line": {
              "color": "#E5ECF6",
              "width": 0.5
             },
             "pattern": {
              "fillmode": "overlay",
              "size": 10,
              "solidity": 0.2
             }
            },
            "type": "barpolar"
           }
          ],
          "carpet": [
           {
            "aaxis": {
             "endlinecolor": "#2a3f5f",
             "gridcolor": "white",
             "linecolor": "white",
             "minorgridcolor": "white",
             "startlinecolor": "#2a3f5f"
            },
            "baxis": {
             "endlinecolor": "#2a3f5f",
             "gridcolor": "white",
             "linecolor": "white",
             "minorgridcolor": "white",
             "startlinecolor": "#2a3f5f"
            },
            "type": "carpet"
           }
          ],
          "choropleth": [
           {
            "colorbar": {
             "outlinewidth": 0,
             "ticks": ""
            },
            "type": "choropleth"
           }
          ],
          "contour": [
           {
            "colorbar": {
             "outlinewidth": 0,
             "ticks": ""
            },
            "colorscale": [
             [
              0,
              "#0d0887"
             ],
             [
              0.1111111111111111,
              "#46039f"
             ],
             [
              0.2222222222222222,
              "#7201a8"
             ],
             [
              0.3333333333333333,
              "#9c179e"
             ],
             [
              0.4444444444444444,
              "#bd3786"
             ],
             [
              0.5555555555555556,
              "#d8576b"
             ],
             [
              0.6666666666666666,
              "#ed7953"
             ],
             [
              0.7777777777777778,
              "#fb9f3a"
             ],
             [
              0.8888888888888888,
              "#fdca26"
             ],
             [
              1,
              "#f0f921"
             ]
            ],
            "type": "contour"
           }
          ],
          "contourcarpet": [
           {
            "colorbar": {
             "outlinewidth": 0,
             "ticks": ""
            },
            "type": "contourcarpet"
           }
          ],
          "heatmap": [
           {
            "colorbar": {
             "outlinewidth": 0,
             "ticks": ""
            },
            "colorscale": [
             [
              0,
              "#0d0887"
             ],
             [
              0.1111111111111111,
              "#46039f"
             ],
             [
              0.2222222222222222,
              "#7201a8"
             ],
             [
              0.3333333333333333,
              "#9c179e"
             ],
             [
              0.4444444444444444,
              "#bd3786"
             ],
             [
              0.5555555555555556,
              "#d8576b"
             ],
             [
              0.6666666666666666,
              "#ed7953"
             ],
             [
              0.7777777777777778,
              "#fb9f3a"
             ],
             [
              0.8888888888888888,
              "#fdca26"
             ],
             [
              1,
              "#f0f921"
             ]
            ],
            "type": "heatmap"
           }
          ],
          "heatmapgl": [
           {
            "colorbar": {
             "outlinewidth": 0,
             "ticks": ""
            },
            "colorscale": [
             [
              0,
              "#0d0887"
             ],
             [
              0.1111111111111111,
              "#46039f"
             ],
             [
              0.2222222222222222,
              "#7201a8"
             ],
             [
              0.3333333333333333,
              "#9c179e"
             ],
             [
              0.4444444444444444,
              "#bd3786"
             ],
             [
              0.5555555555555556,
              "#d8576b"
             ],
             [
              0.6666666666666666,
              "#ed7953"
             ],
             [
              0.7777777777777778,
              "#fb9f3a"
             ],
             [
              0.8888888888888888,
              "#fdca26"
             ],
             [
              1,
              "#f0f921"
             ]
            ],
            "type": "heatmapgl"
           }
          ],
          "histogram": [
           {
            "marker": {
             "pattern": {
              "fillmode": "overlay",
              "size": 10,
              "solidity": 0.2
             }
            },
            "type": "histogram"
           }
          ],
          "histogram2d": [
           {
            "colorbar": {
             "outlinewidth": 0,
             "ticks": ""
            },
            "colorscale": [
             [
              0,
              "#0d0887"
             ],
             [
              0.1111111111111111,
              "#46039f"
             ],
             [
              0.2222222222222222,
              "#7201a8"
             ],
             [
              0.3333333333333333,
              "#9c179e"
             ],
             [
              0.4444444444444444,
              "#bd3786"
             ],
             [
              0.5555555555555556,
              "#d8576b"
             ],
             [
              0.6666666666666666,
              "#ed7953"
             ],
             [
              0.7777777777777778,
              "#fb9f3a"
             ],
             [
              0.8888888888888888,
              "#fdca26"
             ],
             [
              1,
              "#f0f921"
             ]
            ],
            "type": "histogram2d"
           }
          ],
          "histogram2dcontour": [
           {
            "colorbar": {
             "outlinewidth": 0,
             "ticks": ""
            },
            "colorscale": [
             [
              0,
              "#0d0887"
             ],
             [
              0.1111111111111111,
              "#46039f"
             ],
             [
              0.2222222222222222,
              "#7201a8"
             ],
             [
              0.3333333333333333,
              "#9c179e"
             ],
             [
              0.4444444444444444,
              "#bd3786"
             ],
             [
              0.5555555555555556,
              "#d8576b"
             ],
             [
              0.6666666666666666,
              "#ed7953"
             ],
             [
              0.7777777777777778,
              "#fb9f3a"
             ],
             [
              0.8888888888888888,
              "#fdca26"
             ],
             [
              1,
              "#f0f921"
             ]
            ],
            "type": "histogram2dcontour"
           }
          ],
          "mesh3d": [
           {
            "colorbar": {
             "outlinewidth": 0,
             "ticks": ""
            },
            "type": "mesh3d"
           }
          ],
          "parcoords": [
           {
            "line": {
             "colorbar": {
              "outlinewidth": 0,
              "ticks": ""
             }
            },
            "type": "parcoords"
           }
          ],
          "pie": [
           {
            "automargin": true,
            "type": "pie"
           }
          ],
          "scatter": [
           {
            "fillpattern": {
             "fillmode": "overlay",
             "size": 10,
             "solidity": 0.2
            },
            "type": "scatter"
           }
          ],
          "scatter3d": [
           {
            "line": {
             "colorbar": {
              "outlinewidth": 0,
              "ticks": ""
             }
            },
            "marker": {
             "colorbar": {
              "outlinewidth": 0,
              "ticks": ""
             }
            },
            "type": "scatter3d"
           }
          ],
          "scattercarpet": [
           {
            "marker": {
             "colorbar": {
              "outlinewidth": 0,
              "ticks": ""
             }
            },
            "type": "scattercarpet"
           }
          ],
          "scattergeo": [
           {
            "marker": {
             "colorbar": {
              "outlinewidth": 0,
              "ticks": ""
             }
            },
            "type": "scattergeo"
           }
          ],
          "scattergl": [
           {
            "marker": {
             "colorbar": {
              "outlinewidth": 0,
              "ticks": ""
             }
            },
            "type": "scattergl"
           }
          ],
          "scattermapbox": [
           {
            "marker": {
             "colorbar": {
              "outlinewidth": 0,
              "ticks": ""
             }
            },
            "type": "scattermapbox"
           }
          ],
          "scatterpolar": [
           {
            "marker": {
             "colorbar": {
              "outlinewidth": 0,
              "ticks": ""
             }
            },
            "type": "scatterpolar"
           }
          ],
          "scatterpolargl": [
           {
            "marker": {
             "colorbar": {
              "outlinewidth": 0,
              "ticks": ""
             }
            },
            "type": "scatterpolargl"
           }
          ],
          "scatterternary": [
           {
            "marker": {
             "colorbar": {
              "outlinewidth": 0,
              "ticks": ""
             }
            },
            "type": "scatterternary"
           }
          ],
          "surface": [
           {
            "colorbar": {
             "outlinewidth": 0,
             "ticks": ""
            },
            "colorscale": [
             [
              0,
              "#0d0887"
             ],
             [
              0.1111111111111111,
              "#46039f"
             ],
             [
              0.2222222222222222,
              "#7201a8"
             ],
             [
              0.3333333333333333,
              "#9c179e"
             ],
             [
              0.4444444444444444,
              "#bd3786"
             ],
             [
              0.5555555555555556,
              "#d8576b"
             ],
             [
              0.6666666666666666,
              "#ed7953"
             ],
             [
              0.7777777777777778,
              "#fb9f3a"
             ],
             [
              0.8888888888888888,
              "#fdca26"
             ],
             [
              1,
              "#f0f921"
             ]
            ],
            "type": "surface"
           }
          ],
          "table": [
           {
            "cells": {
             "fill": {
              "color": "#EBF0F8"
             },
             "line": {
              "color": "white"
             }
            },
            "header": {
             "fill": {
              "color": "#C8D4E3"
             },
             "line": {
              "color": "white"
             }
            },
            "type": "table"
           }
          ]
         },
         "layout": {
          "annotationdefaults": {
           "arrowcolor": "#2a3f5f",
           "arrowhead": 0,
           "arrowwidth": 1
          },
          "autotypenumbers": "strict",
          "coloraxis": {
           "colorbar": {
            "outlinewidth": 0,
            "ticks": ""
           }
          },
          "colorscale": {
           "diverging": [
            [
             0,
             "#8e0152"
            ],
            [
             0.1,
             "#c51b7d"
            ],
            [
             0.2,
             "#de77ae"
            ],
            [
             0.3,
             "#f1b6da"
            ],
            [
             0.4,
             "#fde0ef"
            ],
            [
             0.5,
             "#f7f7f7"
            ],
            [
             0.6,
             "#e6f5d0"
            ],
            [
             0.7,
             "#b8e186"
            ],
            [
             0.8,
             "#7fbc41"
            ],
            [
             0.9,
             "#4d9221"
            ],
            [
             1,
             "#276419"
            ]
           ],
           "sequential": [
            [
             0,
             "#0d0887"
            ],
            [
             0.1111111111111111,
             "#46039f"
            ],
            [
             0.2222222222222222,
             "#7201a8"
            ],
            [
             0.3333333333333333,
             "#9c179e"
            ],
            [
             0.4444444444444444,
             "#bd3786"
            ],
            [
             0.5555555555555556,
             "#d8576b"
            ],
            [
             0.6666666666666666,
             "#ed7953"
            ],
            [
             0.7777777777777778,
             "#fb9f3a"
            ],
            [
             0.8888888888888888,
             "#fdca26"
            ],
            [
             1,
             "#f0f921"
            ]
           ],
           "sequentialminus": [
            [
             0,
             "#0d0887"
            ],
            [
             0.1111111111111111,
             "#46039f"
            ],
            [
             0.2222222222222222,
             "#7201a8"
            ],
            [
             0.3333333333333333,
             "#9c179e"
            ],
            [
             0.4444444444444444,
             "#bd3786"
            ],
            [
             0.5555555555555556,
             "#d8576b"
            ],
            [
             0.6666666666666666,
             "#ed7953"
            ],
            [
             0.7777777777777778,
             "#fb9f3a"
            ],
            [
             0.8888888888888888,
             "#fdca26"
            ],
            [
             1,
             "#f0f921"
            ]
           ]
          },
          "colorway": [
           "#636efa",
           "#EF553B",
           "#00cc96",
           "#ab63fa",
           "#FFA15A",
           "#19d3f3",
           "#FF6692",
           "#B6E880",
           "#FF97FF",
           "#FECB52"
          ],
          "font": {
           "color": "#2a3f5f"
          },
          "geo": {
           "bgcolor": "white",
           "lakecolor": "white",
           "landcolor": "#E5ECF6",
           "showlakes": true,
           "showland": true,
           "subunitcolor": "white"
          },
          "hoverlabel": {
           "align": "left"
          },
          "hovermode": "closest",
          "mapbox": {
           "style": "light"
          },
          "paper_bgcolor": "white",
          "plot_bgcolor": "#E5ECF6",
          "polar": {
           "angularaxis": {
            "gridcolor": "white",
            "linecolor": "white",
            "ticks": ""
           },
           "bgcolor": "#E5ECF6",
           "radialaxis": {
            "gridcolor": "white",
            "linecolor": "white",
            "ticks": ""
           }
          },
          "scene": {
           "xaxis": {
            "backgroundcolor": "#E5ECF6",
            "gridcolor": "white",
            "gridwidth": 2,
            "linecolor": "white",
            "showbackground": true,
            "ticks": "",
            "zerolinecolor": "white"
           },
           "yaxis": {
            "backgroundcolor": "#E5ECF6",
            "gridcolor": "white",
            "gridwidth": 2,
            "linecolor": "white",
            "showbackground": true,
            "ticks": "",
            "zerolinecolor": "white"
           },
           "zaxis": {
            "backgroundcolor": "#E5ECF6",
            "gridcolor": "white",
            "gridwidth": 2,
            "linecolor": "white",
            "showbackground": true,
            "ticks": "",
            "zerolinecolor": "white"
           }
          },
          "shapedefaults": {
           "line": {
            "color": "#2a3f5f"
           }
          },
          "ternary": {
           "aaxis": {
            "gridcolor": "white",
            "linecolor": "white",
            "ticks": ""
           },
           "baxis": {
            "gridcolor": "white",
            "linecolor": "white",
            "ticks": ""
           },
           "bgcolor": "#E5ECF6",
           "caxis": {
            "gridcolor": "white",
            "linecolor": "white",
            "ticks": ""
           }
          },
          "title": {
           "x": 0.05
          },
          "xaxis": {
           "automargin": true,
           "gridcolor": "white",
           "linecolor": "white",
           "ticks": "",
           "title": {
            "standoff": 15
           },
           "zerolinecolor": "white",
           "zerolinewidth": 2
          },
          "yaxis": {
           "automargin": true,
           "gridcolor": "white",
           "linecolor": "white",
           "ticks": "",
           "title": {
            "standoff": 15
           },
           "zerolinecolor": "white",
           "zerolinewidth": 2
          }
         }
        },
        "width": 800
       }
      }
     },
     "metadata": {},
     "output_type": "display_data"
    },
    {
     "data": {
      "text/html": [
       "<div>\n",
       "<style scoped>\n",
       "    .dataframe tbody tr th:only-of-type {\n",
       "        vertical-align: middle;\n",
       "    }\n",
       "\n",
       "    .dataframe tbody tr th {\n",
       "        vertical-align: top;\n",
       "    }\n",
       "\n",
       "    .dataframe thead th {\n",
       "        text-align: right;\n",
       "    }\n",
       "</style>\n",
       "<table border=\"1\" class=\"dataframe\">\n",
       "  <thead>\n",
       "    <tr style=\"text-align: right;\">\n",
       "      <th></th>\n",
       "      <th>vietoves_registratoriaus_id</th>\n",
       "      <th>platuma</th>\n",
       "      <th>ilguma</th>\n",
       "    </tr>\n",
       "  </thead>\n",
       "  <tbody>\n",
       "    <tr>\n",
       "      <th>0</th>\n",
       "      <td>LT_DU_94183509</td>\n",
       "      <td>55.635334</td>\n",
       "      <td>25.295816</td>\n",
       "    </tr>\n",
       "    <tr>\n",
       "      <th>1</th>\n",
       "      <td>LT_DU_94183511</td>\n",
       "      <td>55.635198</td>\n",
       "      <td>25.295220</td>\n",
       "    </tr>\n",
       "    <tr>\n",
       "      <th>2</th>\n",
       "      <td>LT_DU_94183513</td>\n",
       "      <td>56.045654</td>\n",
       "      <td>24.200813</td>\n",
       "    </tr>\n",
       "    <tr>\n",
       "      <th>3</th>\n",
       "      <td>LT_DU_94183515</td>\n",
       "      <td>56.056991</td>\n",
       "      <td>24.177246</td>\n",
       "    </tr>\n",
       "    <tr>\n",
       "      <th>4</th>\n",
       "      <td>LT_DU_94183517</td>\n",
       "      <td>56.101670</td>\n",
       "      <td>22.838685</td>\n",
       "    </tr>\n",
       "    <tr>\n",
       "      <th>5</th>\n",
       "      <td>LT_DU_94183518</td>\n",
       "      <td>56.159036</td>\n",
       "      <td>22.761969</td>\n",
       "    </tr>\n",
       "    <tr>\n",
       "      <th>6</th>\n",
       "      <td>LT_DU_94183519</td>\n",
       "      <td>56.160387</td>\n",
       "      <td>22.737053</td>\n",
       "    </tr>\n",
       "    <tr>\n",
       "      <th>7</th>\n",
       "      <td>LT_DU_94183520</td>\n",
       "      <td>56.078044</td>\n",
       "      <td>22.853446</td>\n",
       "    </tr>\n",
       "    <tr>\n",
       "      <th>8</th>\n",
       "      <td>LT_DU_94183521</td>\n",
       "      <td>55.634215</td>\n",
       "      <td>25.293801</td>\n",
       "    </tr>\n",
       "    <tr>\n",
       "      <th>9</th>\n",
       "      <td>LT_DU_94183522</td>\n",
       "      <td>56.094091</td>\n",
       "      <td>24.608990</td>\n",
       "    </tr>\n",
       "    <tr>\n",
       "      <th>10</th>\n",
       "      <td>LT_DU_94183524</td>\n",
       "      <td>55.634378</td>\n",
       "      <td>25.294058</td>\n",
       "    </tr>\n",
       "    <tr>\n",
       "      <th>11</th>\n",
       "      <td>LT_DU_94183525</td>\n",
       "      <td>55.633768</td>\n",
       "      <td>25.293366</td>\n",
       "    </tr>\n",
       "    <tr>\n",
       "      <th>12</th>\n",
       "      <td>LT_DU_94183526</td>\n",
       "      <td>55.634902</td>\n",
       "      <td>25.294727</td>\n",
       "    </tr>\n",
       "    <tr>\n",
       "      <th>13</th>\n",
       "      <td>LT_DU_94183528</td>\n",
       "      <td>55.635265</td>\n",
       "      <td>25.295431</td>\n",
       "    </tr>\n",
       "    <tr>\n",
       "      <th>14</th>\n",
       "      <td>LT_DU_94183529</td>\n",
       "      <td>56.066458</td>\n",
       "      <td>24.124961</td>\n",
       "    </tr>\n",
       "    <tr>\n",
       "      <th>15</th>\n",
       "      <td>LT_DU_94183530</td>\n",
       "      <td>56.065553</td>\n",
       "      <td>24.126615</td>\n",
       "    </tr>\n",
       "  </tbody>\n",
       "</table>\n",
       "</div>"
      ],
      "text/plain": [
       "   vietoves_registratoriaus_id    platuma     ilguma\n",
       "0               LT_DU_94183509  55.635334  25.295816\n",
       "1               LT_DU_94183511  55.635198  25.295220\n",
       "2               LT_DU_94183513  56.045654  24.200813\n",
       "3               LT_DU_94183515  56.056991  24.177246\n",
       "4               LT_DU_94183517  56.101670  22.838685\n",
       "5               LT_DU_94183518  56.159036  22.761969\n",
       "6               LT_DU_94183519  56.160387  22.737053\n",
       "7               LT_DU_94183520  56.078044  22.853446\n",
       "8               LT_DU_94183521  55.634215  25.293801\n",
       "9               LT_DU_94183522  56.094091  24.608990\n",
       "10              LT_DU_94183524  55.634378  25.294058\n",
       "11              LT_DU_94183525  55.633768  25.293366\n",
       "12              LT_DU_94183526  55.634902  25.294727\n",
       "13              LT_DU_94183528  55.635265  25.295431\n",
       "14              LT_DU_94183529  56.066458  24.124961\n",
       "15              LT_DU_94183530  56.065553  24.126615"
      ]
     },
     "execution_count": 3,
     "metadata": {},
     "output_type": "execute_result"
    }
   ],
   "source": [
    "dfregistratoriai = df.groupby('vietoves_registratoriaus_id').agg({'platuma': 'first', 'ilguma': 'first'}).reset_index()\n",
    "\n",
    "fig = px.scatter_mapbox(data_frame=dfregistratoriai, lon='ilguma', lat='platuma', zoom=5)\n",
    "fig.update_layout(mapbox_style='open-street-map')\n",
    "fig.update_layout(width=800, height=600)\n",
    "fig.show()\n",
    "\n",
    "dfregistratoriai.head(25)"
   ]
  },
  {
   "cell_type": "code",
   "execution_count": 4,
   "metadata": {},
   "outputs": [],
   "source": [
    "df1 = df.loc[df['vietoves_registratoriaus_id'] == 'LT_DU_94183518']"
   ]
  },
  {
   "cell_type": "code",
   "execution_count": 5,
   "metadata": {},
   "outputs": [
    {
     "data": {
      "text/html": [
       "<div>\n",
       "<style scoped>\n",
       "    .dataframe tbody tr th:only-of-type {\n",
       "        vertical-align: middle;\n",
       "    }\n",
       "\n",
       "    .dataframe tbody tr th {\n",
       "        vertical-align: top;\n",
       "    }\n",
       "\n",
       "    .dataframe thead th {\n",
       "        text-align: right;\n",
       "    }\n",
       "</style>\n",
       "<table border=\"1\" class=\"dataframe\">\n",
       "  <thead>\n",
       "    <tr style=\"text-align: right;\">\n",
       "      <th></th>\n",
       "      <th>_type</th>\n",
       "      <th>_id</th>\n",
       "      <th>_revision</th>\n",
       "      <th>_page.next</th>\n",
       "      <th>atvejo_id</th>\n",
       "      <th>vietoves_registratoriaus_id</th>\n",
       "      <th>laikas</th>\n",
       "      <th>temperatura_8cm_gylyje_dirvozemyje</th>\n",
       "      <th>temperatura_dirvozemio_pavirsiuje</th>\n",
       "      <th>temperatura_15cm_virs_dirvozemio</th>\n",
       "      <th>dirvozemio_dregme</th>\n",
       "      <th>platuma</th>\n",
       "      <th>ilguma</th>\n",
       "      <th>apytiksle_vietoves_klasifikacija</th>\n",
       "    </tr>\n",
       "  </thead>\n",
       "  <tbody>\n",
       "    <tr>\n",
       "      <th>347750</th>\n",
       "      <td>datasets/gov/gtc/dirvozemio_temperatura/Vietov...</td>\n",
       "      <td>fb452b03-38d7-4834-b51e-9deca7112cbe</td>\n",
       "      <td>0053ff98-244f-4c8c-9400-511feeb53209</td>\n",
       "      <td>NaN</td>\n",
       "      <td>304568</td>\n",
       "      <td>LT_DU_94183518</td>\n",
       "      <td>2019-09-30T21:00:00</td>\n",
       "      <td>12.87</td>\n",
       "      <td>11.62</td>\n",
       "      <td>10.37</td>\n",
       "      <td>2693</td>\n",
       "      <td>56.159036</td>\n",
       "      <td>22.761969</td>\n",
       "      <td>4</td>\n",
       "    </tr>\n",
       "  </tbody>\n",
       "</table>\n",
       "</div>"
      ],
      "text/plain": [
       "                                                    _type  \\\n",
       "347750  datasets/gov/gtc/dirvozemio_temperatura/Vietov...   \n",
       "\n",
       "                                         _id  \\\n",
       "347750  fb452b03-38d7-4834-b51e-9deca7112cbe   \n",
       "\n",
       "                                   _revision _page.next  atvejo_id  \\\n",
       "347750  0053ff98-244f-4c8c-9400-511feeb53209        NaN     304568   \n",
       "\n",
       "       vietoves_registratoriaus_id               laikas  \\\n",
       "347750              LT_DU_94183518  2019-09-30T21:00:00   \n",
       "\n",
       "        temperatura_8cm_gylyje_dirvozemyje  temperatura_dirvozemio_pavirsiuje  \\\n",
       "347750                               12.87                              11.62   \n",
       "\n",
       "        temperatura_15cm_virs_dirvozemio  dirvozemio_dregme    platuma  \\\n",
       "347750                             10.37               2693  56.159036   \n",
       "\n",
       "           ilguma  apytiksle_vietoves_klasifikacija  \n",
       "347750  22.761969                                 4  "
      ]
     },
     "execution_count": 5,
     "metadata": {},
     "output_type": "execute_result"
    }
   ],
   "source": [
    "df1.head(1)"
   ]
  },
  {
   "cell_type": "code",
   "execution_count": 7,
   "metadata": {},
   "outputs": [
    {
     "data": {
      "image/png": "[encoded data removed]",
      "text/plain": [
       "<Figure size 640x480 with 1 Axes>"
      ]
     },
     "metadata": {},
     "output_type": "display_data"
    }
   ],
   "source": [
    "fig, axis = plt.subplots()\n",
    "  \n",
    "axis.plot(df1['laikas'], df1['temperatura_8cm_gylyje_dirvozemyje'], label = 'KET', zorder=5)\n",
    "axis.plot(df1['laikas'], df1['temperatura_dirvozemio_pavirsiuje'], label = 'KET')\n",
    "axis.plot(df1['laikas'], df1['temperatura_15cm_virs_dirvozemio'], label = 'KET')\n",
    "# axis.plot(dfKET['menuo'], dfivairus['object_id'], label = 'Įvairūs', marker ='o')\n",
    "# axis.set_xticks(dfKET['menuo'])\n",
    "# axis.legend(loc='best')\n",
    "plt.title('Policijos iškvietimų palyginimas')\n",
    "plt.show()\n"
   ]
  }
 ],
 "metadata": {
  "kernelspec": {
   "display_name": "Python 3",
   "language": "python",
   "name": "python3"
  },
  "language_info": {
   "codemirror_mode": {
    "name": "ipython",
    "version": 3
   },
   "file_extension": ".py",
   "mimetype": "text/x-python",
   "name": "python",
   "nbconvert_exporter": "python",
   "pygments_lexer": "ipython3",
   "version": "3.12.4"
  }
 },
 "nbformat": 4,
 "nbformat_minor": 2
}
