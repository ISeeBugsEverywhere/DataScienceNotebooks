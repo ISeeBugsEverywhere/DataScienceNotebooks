{
 "cells": [
  {
   "cell_type": "code",
   "execution_count": 1,
   "metadata": {},
   "outputs": [],
   "source": [
    "import numpy as np\n",
    "import matplotlib.pyplot as plt\n",
    "import pandas as pd\n",
    "import glob\n",
    "import os\n",
    "import sqlite3\n",
    "import seaborn as sns\n",
    "import numpy.polynomial.polynomial as poly"
   ]
  },
  {
   "cell_type": "code",
   "execution_count": null,
   "metadata": {},
   "outputs": [],
   "source": [
    "# -- Bendras kasmėnesinis pardavimų skaičius? (lentelė: SalesOrderHeader)\n",
    "# -- Mėnesiniai pardavimai pagal šalį (SalesOrderHeader, SalesTerritory, CountryRegion)\n",
    "# -- Kurios parduotuvės pasirodo geriausiai? (SalesOrderHeader, Store)\n",
    "# -- Palyginkite Online versus Store pagal Sales count ir Revenue: (SalesOrderHeader, , jei OnlineOrderFlag = 1,\n",
    "# -- tai čia Online užsakymas.\n",
    "# -- atsakykite į klausimą, ar verta uždaryti/plėsti/nekeisti fizinių parduotuvių skaičiaus \n",
    "# -- eiti į Online, neiti į online?\n",
    "# -- Pagrįskite.\n",
    "\n",
    "# -- -- Koks vidutinis vieno užsakymo dydis kiekvienoje šalyje? \n",
    "# -- (SalesOrderHeader,SalesOrderDetail, SalesTerritory, CountryRegion) "
   ]
  },
  {
   "cell_type": "code",
   "execution_count": 87,
   "metadata": {},
   "outputs": [],
   "source": [
    "SDB = sqlite3.connect(r\"C:\\Users\\pauli\\Downloads\\AdventureWorks2022.db\")\n",
    "Cs = SDB.cursor()\n",
    "sql=\"\"\"select * from `Sales/SalesOrderHeader`;\"\"\"\n",
    "Cs.execute(sql)\n",
    "ans = Cs.fetchall()\n",
    "df1 = pd.read_sql_query(sql, con=SDB)"
   ]
  },
  {
   "cell_type": "code",
   "execution_count": 88,
   "metadata": {},
   "outputs": [
    {
     "name": "stdout",
     "output_type": "stream",
     "text": [
      "<class 'pandas.core.frame.DataFrame'>\n",
      "RangeIndex: 31465 entries, 0 to 31464\n",
      "Data columns (total 27 columns):\n",
      " #   Column                  Non-Null Count  Dtype  \n",
      "---  ------                  --------------  -----  \n",
      " 0   index                   31465 non-null  int64  \n",
      " 1   SalesOrderID            31465 non-null  int64  \n",
      " 2   RevisionNumber          31465 non-null  int64  \n",
      " 3   OrderDate               31465 non-null  object \n",
      " 4   DueDate                 31465 non-null  object \n",
      " 5   ShipDate                31465 non-null  object \n",
      " 6   Status                  31465 non-null  int64  \n",
      " 7   OnlineOrderFlag         31465 non-null  int64  \n",
      " 8   SalesOrderNumber        31465 non-null  object \n",
      " 9   PurchaseOrderNumber     3806 non-null   object \n",
      " 10  AccountNumber           31465 non-null  object \n",
      " 11  CustomerID              31465 non-null  int64  \n",
      " 12  SalesPersonID           3806 non-null   float64\n",
      " 13  TerritoryID             31465 non-null  int64  \n",
      " 14  BillToAddressID         31465 non-null  int64  \n",
      " 15  ShipToAddressID         31465 non-null  int64  \n",
      " 16  ShipMethodID            31465 non-null  int64  \n",
      " 17  CreditCardID            30334 non-null  float64\n",
      " 18  CreditCardApprovalCode  30334 non-null  object \n",
      " 19  CurrencyRateID          13976 non-null  float64\n",
      " 20  SubTotal                31465 non-null  float64\n",
      " 21  TaxAmt                  31465 non-null  float64\n",
      " 22  Freight                 31465 non-null  float64\n",
      " 23  TotalDue                31465 non-null  float64\n",
      " 24  Comment                 0 non-null      object \n",
      " 25  rowguid                 31465 non-null  object \n",
      " 26  ModifiedDate            31465 non-null  object \n",
      "dtypes: float64(7), int64(10), object(10)\n",
      "memory usage: 6.5+ MB\n"
     ]
    }
   ],
   "source": [
    "df1.info()"
   ]
  },
  {
   "cell_type": "code",
   "execution_count": 89,
   "metadata": {},
   "outputs": [],
   "source": [
    "df1['menesis']=df1['OrderDate'].apply(lambda x: x.split(' ')[0][0:7])"
   ]
  },
  {
   "cell_type": "code",
   "execution_count": 90,
   "metadata": {},
   "outputs": [],
   "source": [
    "df1 = df1.groupby(['menesis'])['Status'].count().reset_index()"
   ]
  },
  {
   "cell_type": "code",
   "execution_count": null,
   "metadata": {},
   "outputs": [
    {
     "data": {
      "image/png": "[encoded data removed]",
      "text/plain": [
       "<Figure size 640x480 with 1 Axes>"
      ]
     },
     "metadata": {},
     "output_type": "display_data"
    }
   ],
   "source": [
    "sns.barplot(x='menesis', y='Status', data=df1)\n",
    "\n",
    "plt.title('Pardavimų skaičius per mėnesį')\n",
    "plt.xlabel('Mėnuo')\n",
    "plt.ylabel('Pardavimų skaičius')\n",
    "plt.xticks(rotation=90)\n",
    "plt.show()"
   ]
  },
  {
   "cell_type": "code",
   "execution_count": 94,
   "metadata": {},
   "outputs": [],
   "source": [
    "SDB = sqlite3.connect(r\"C:\\Users\\pauli\\Downloads\\AdventureWorks2022.db\")\n",
    "Cs = SDB.cursor()\n",
    "sql=\"\"\"select * from `Sales/SalesOrderHeader`;\"\"\"\n",
    "Cs.execute(sql)\n",
    "ans = Cs.fetchall()\n",
    "df1 = pd.read_sql_query(sql, con=SDB)\n",
    "\n",
    "sql=\"\"\"select * from `Sales/SalesTerritory`;\"\"\"\n",
    "Cs.execute(sql)\n",
    "ans = Cs.fetchall()\n",
    "df2 = pd.read_sql_query(sql, con=SDB)\n",
    "\n",
    "sql=\"\"\"select * from `Person/CountryRegion`;\"\"\"\n",
    "Cs.execute(sql)\n",
    "ans = Cs.fetchall()\n",
    "df3 = pd.read_sql_query(sql, con=SDB)"
   ]
  },
  {
   "cell_type": "code",
   "execution_count": 95,
   "metadata": {},
   "outputs": [],
   "source": [
    "df = pd.merge(df1, df2, left_on='TerritoryID', right_on='TerritoryID', how='left')"
   ]
  },
  {
   "cell_type": "code",
   "execution_count": 96,
   "metadata": {},
   "outputs": [],
   "source": [
    "df = pd.merge(df, df3, left_on='CountryRegionCode', right_on='CountryRegionCode', how='left')\n",
    "df['menesis']=df['OrderDate'].apply(lambda x: x.split('-')[1])"
   ]
  },
  {
   "cell_type": "code",
   "execution_count": 97,
   "metadata": {},
   "outputs": [],
   "source": [
    "df['menesis']=df1['OrderDate'].apply(lambda x: x.split(' ')[0][0:7])"
   ]
  },
  {
   "cell_type": "code",
   "execution_count": 98,
   "metadata": {},
   "outputs": [],
   "source": [
    "df = df.groupby(['menesis', 'Name_y'])['Status'].count().reset_index()"
   ]
  },
  {
   "cell_type": "code",
   "execution_count": 104,
   "metadata": {},
   "outputs": [
    {
     "data": {
      "image/png": "[encoded data removed]",
      "text/plain": [
       "<Figure size 1400x600 with 1 Axes>"
      ]
     },
     "metadata": {},
     "output_type": "display_data"
    }
   ],
   "source": [
    "plt.figure(figsize=(14, 6))\n",
    "\n",
    "sns.barplot(x='menesis', y='Status', hue='Name_y', data=df)\n",
    "\n",
    "plt.title('Pardavimų skaičius per mėnesį pagal šalį')\n",
    "plt.xlabel('Mėnuo')\n",
    "plt.ylabel('Pardavimų skaičius')\n",
    "plt.xticks(rotation=90)\n",
    "\n",
    "plt.show()"
   ]
  },
  {
   "cell_type": "code",
   "execution_count": 78,
   "metadata": {},
   "outputs": [],
   "source": [
    "SDB = sqlite3.connect(r\"C:\\Users\\pauli\\Downloads\\AdventureWorks2022.db\")\n",
    "Cs = SDB.cursor()\n",
    "sql=\"\"\"select * from `Sales/SalesOrderHeader`;\"\"\"\n",
    "Cs.execute(sql)\n",
    "ans = Cs.fetchall()\n",
    "df1 = pd.read_sql_query(sql, con=SDB)\n",
    "\n",
    "sql=\"\"\"select * from `Sales/Store`;\"\"\"\n",
    "Cs.execute(sql)\n",
    "ans = Cs.fetchall()\n",
    "df2 = pd.read_sql_query(sql, con=SDB)"
   ]
  },
  {
   "cell_type": "code",
   "execution_count": 71,
   "metadata": {},
   "outputs": [],
   "source": [
    "df1=df1['SalesPersonID'].reset_index()"
   ]
  },
  {
   "cell_type": "code",
   "execution_count": 72,
   "metadata": {},
   "outputs": [],
   "source": [
    "df = pd.merge(df1, df2, left_on='SalesPersonID', right_on='SalesPersonID', how='left')"
   ]
  },
  {
   "cell_type": "code",
   "execution_count": 73,
   "metadata": {},
   "outputs": [],
   "source": [
    "df = df.groupby(['Name'])['SalesPersonID'].count().reset_index()"
   ]
  },
  {
   "cell_type": "code",
   "execution_count": 75,
   "metadata": {},
   "outputs": [],
   "source": [
    "df = df.sort_values(by='SalesPersonID', ascending=False).head(50)"
   ]
  },
  {
   "cell_type": "code",
   "execution_count": 77,
   "metadata": {},
   "outputs": [
    {
     "data": {
      "text/html": [
       "<div>\n",
       "<style scoped>\n",
       "    .dataframe tbody tr th:only-of-type {\n",
       "        vertical-align: middle;\n",
       "    }\n",
       "\n",
       "    .dataframe tbody tr th {\n",
       "        vertical-align: top;\n",
       "    }\n",
       "\n",
       "    .dataframe thead th {\n",
       "        text-align: right;\n",
       "    }\n",
       "</style>\n",
       "<table border=\"1\" class=\"dataframe\">\n",
       "  <thead>\n",
       "    <tr style=\"text-align: right;\">\n",
       "      <th></th>\n",
       "      <th>Name</th>\n",
       "      <th>SalesPersonID</th>\n",
       "    </tr>\n",
       "  </thead>\n",
       "  <tbody>\n",
       "    <tr>\n",
       "      <th>203</th>\n",
       "      <td>First Bike Store</td>\n",
       "      <td>473</td>\n",
       "    </tr>\n",
       "    <tr>\n",
       "      <th>213</th>\n",
       "      <td>Fitness Hotel</td>\n",
       "      <td>473</td>\n",
       "    </tr>\n",
       "    <tr>\n",
       "      <th>634</th>\n",
       "      <td>Travel Systems</td>\n",
       "      <td>473</td>\n",
       "    </tr>\n",
       "    <tr>\n",
       "      <th>216</th>\n",
       "      <td>Fitness Toy Store</td>\n",
       "      <td>473</td>\n",
       "    </tr>\n",
       "    <tr>\n",
       "      <th>173</th>\n",
       "      <td>Extras Sporting Goods</td>\n",
       "      <td>473</td>\n",
       "    </tr>\n",
       "    <tr>\n",
       "      <th>19</th>\n",
       "      <td>All Seasons Sports Supply</td>\n",
       "      <td>473</td>\n",
       "    </tr>\n",
       "    <tr>\n",
       "      <th>680</th>\n",
       "      <td>Westside Cycle Store</td>\n",
       "      <td>473</td>\n",
       "    </tr>\n",
       "    <tr>\n",
       "      <th>581</th>\n",
       "      <td>Summer Sports Place</td>\n",
       "      <td>473</td>\n",
       "    </tr>\n",
       "    <tr>\n",
       "      <th>415</th>\n",
       "      <td>Paint Supply</td>\n",
       "      <td>473</td>\n",
       "    </tr>\n",
       "    <tr>\n",
       "      <th>660</th>\n",
       "      <td>Valley Bicycle Specialists</td>\n",
       "      <td>473</td>\n",
       "    </tr>\n",
       "    <tr>\n",
       "      <th>652</th>\n",
       "      <td>Unsurpassed Bikes</td>\n",
       "      <td>473</td>\n",
       "    </tr>\n",
       "    <tr>\n",
       "      <th>429</th>\n",
       "      <td>Practical Bike Supply Company</td>\n",
       "      <td>473</td>\n",
       "    </tr>\n",
       "    <tr>\n",
       "      <th>101</th>\n",
       "      <td>Contoso, Ltd.</td>\n",
       "      <td>473</td>\n",
       "    </tr>\n",
       "    <tr>\n",
       "      <th>598</th>\n",
       "      <td>The Accessories Store</td>\n",
       "      <td>473</td>\n",
       "    </tr>\n",
       "    <tr>\n",
       "      <th>589</th>\n",
       "      <td>Swift Cycles</td>\n",
       "      <td>473</td>\n",
       "    </tr>\n",
       "    <tr>\n",
       "      <th>320</th>\n",
       "      <td>Little Bicycle Supply Shop</td>\n",
       "      <td>473</td>\n",
       "    </tr>\n",
       "    <tr>\n",
       "      <th>323</th>\n",
       "      <td>Local Sales and Rental</td>\n",
       "      <td>473</td>\n",
       "    </tr>\n",
       "    <tr>\n",
       "      <th>311</th>\n",
       "      <td>Leading Sales &amp; Repair</td>\n",
       "      <td>473</td>\n",
       "    </tr>\n",
       "    <tr>\n",
       "      <th>299</th>\n",
       "      <td>Journey Sporting Goods</td>\n",
       "      <td>473</td>\n",
       "    </tr>\n",
       "    <tr>\n",
       "      <th>325</th>\n",
       "      <td>Lots of Bikes Storehouse</td>\n",
       "      <td>473</td>\n",
       "    </tr>\n",
       "  </tbody>\n",
       "</table>\n",
       "</div>"
      ],
      "text/plain": [
       "                              Name  SalesPersonID\n",
       "203               First Bike Store            473\n",
       "213                  Fitness Hotel            473\n",
       "634                 Travel Systems            473\n",
       "216              Fitness Toy Store            473\n",
       "173          Extras Sporting Goods            473\n",
       "19       All Seasons Sports Supply            473\n",
       "680           Westside Cycle Store            473\n",
       "581            Summer Sports Place            473\n",
       "415                   Paint Supply            473\n",
       "660     Valley Bicycle Specialists            473\n",
       "652              Unsurpassed Bikes            473\n",
       "429  Practical Bike Supply Company            473\n",
       "101                  Contoso, Ltd.            473\n",
       "598          The Accessories Store            473\n",
       "589                   Swift Cycles            473\n",
       "320     Little Bicycle Supply Shop            473\n",
       "323         Local Sales and Rental            473\n",
       "311         Leading Sales & Repair            473\n",
       "299         Journey Sporting Goods            473\n",
       "325       Lots of Bikes Storehouse            473"
      ]
     },
     "execution_count": 77,
     "metadata": {},
     "output_type": "execute_result"
    }
   ],
   "source": [
    "df.tail(20)"
   ]
  },
  {
   "cell_type": "code",
   "execution_count": null,
   "metadata": {},
   "outputs": [],
   "source": [
    "# SELECT\n",
    "# CASE WHEN OnlineOrderFlag = 1 THEN 'Online' ELSE 'Store' END AS OrderOrigin,\n",
    "# strftime('%Y' , OrderDate) AS OrderYear,\n",
    "# strftime('%m' , OrderDate) AS OrderMonth,\n",
    "# COUNT(SalesOrderId) AS TotalSales,\n",
    "# SUM(TotalDue) AS totalRevenue\n",
    "# FROM `Sales/SalesOrderHeader`\n",
    "# GROUP BY\n",
    "# strftime('%Y' , OrderDate),\n",
    "# strftime('%m' , OrderDate),\n",
    "# OnlineOrderFlag\n",
    "# ORDER BY\n",
    "# OrderOrigin,\n",
    "# OrderYear DESC,\n",
    "# OrderMonth DESC;"
   ]
  }
 ],
 "metadata": {
  "kernelspec": {
   "display_name": "Python 3",
   "language": "python",
   "name": "python3"
  },
  "language_info": {
   "codemirror_mode": {
    "name": "ipython",
    "version": 3
   },
   "file_extension": ".py",
   "mimetype": "text/x-python",
   "name": "python",
   "nbconvert_exporter": "python",
   "pygments_lexer": "ipython3",
   "version": "3.12.4"
  }
 },
 "nbformat": 4,
 "nbformat_minor": 2
}
