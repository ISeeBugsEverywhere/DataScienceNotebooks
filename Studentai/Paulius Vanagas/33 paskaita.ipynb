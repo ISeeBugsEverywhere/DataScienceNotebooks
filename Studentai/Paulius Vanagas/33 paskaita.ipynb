{
 "cells": [
  {
   "cell_type": "code",
   "execution_count": 31,
   "metadata": {},
   "outputs": [],
   "source": [
    "# atrinkti 10 populiariausių gamintojų iš autopliuslt, pateikti tokius stulpelius - gamintojas, vidutinė kaina, \n",
    "# vidutinė rida, vidutinis amžius, modelių kiekis. Gautus rezultatus surašyti į SQLite duomebazę, pavadinimu \"Testas.db\",\n",
    "# lentelės pavadinimas kokį sugalvosite. Viską turi atlikti python kodas. \n",
    "# PANDAS NEGALIMA NAUDOTI, viską atlikite per cursor() objektus."
   ]
  },
  {
   "cell_type": "code",
   "execution_count": 32,
   "metadata": {},
   "outputs": [],
   "source": [
    "import numpy as np\n",
    "import matplotlib.pyplot as plt\n",
    "import warnings\n",
    "warnings.filterwarnings('ignore')\n",
    "import seaborn as sns\n",
    "import sqlite3\n",
    "import mysql.connector as cnt\n",
    "import plotly.express as px"
   ]
  },
  {
   "cell_type": "code",
   "execution_count": 33,
   "metadata": {},
   "outputs": [],
   "source": [
    "#prisijungimas prie mySQL, ir kursoriaus sukūrimas\n",
    "DB = cnt.connect(\n",
    "    host = '88.223.121.130',\n",
    "    user='user',\n",
    "    password='slaptazodis',\n",
    "    port=3306,\n",
    "    database='works'\n",
    "    )\n",
    "C=DB.cursor()"
   ]
  },
  {
   "cell_type": "code",
   "execution_count": 34,
   "metadata": {},
   "outputs": [],
   "source": [
    "sql=\"\"\"SELECT gamintojas, price, rida, pagaminimo_data FROM works.autopliuslt;\"\"\"\n",
    "C.execute(sql)\n",
    "ans = C.fetchall()\n",
    "gamintojas, kaina, rida, data = list(map(list, zip(*ans)))\n"
   ]
  },
  {
   "cell_type": "code",
   "execution_count": 35,
   "metadata": {},
   "outputs": [],
   "source": [
    "for i in range(0, len(data)):\n",
    "    data[i]=int(data[i][:4])\n",
    "    "
   ]
  },
  {
   "cell_type": "code",
   "execution_count": 36,
   "metadata": {},
   "outputs": [],
   "source": [
    "amzius=[]\n",
    "for i in range(0, len(data)):\n",
    "    amzius.append(2024-data[i])"
   ]
  },
  {
   "cell_type": "code",
   "execution_count": 37,
   "metadata": {},
   "outputs": [],
   "source": [
    "for i in range(0, len(kaina)):\n",
    "    kaina[i]=int(kaina[i].replace(' ',''))"
   ]
  },
  {
   "cell_type": "code",
   "execution_count": 38,
   "metadata": {},
   "outputs": [],
   "source": [
    "# ridoje yra 'Nenurodyta'\n",
    "for i in range(0, len(rida)):\n",
    "    if rida[i] != 'Nenurodyta':\n",
    "        rida[i]=int(rida[i].replace(' ','').replace('km',''))"
   ]
  },
  {
   "cell_type": "code",
   "execution_count": 39,
   "metadata": {},
   "outputs": [
    {
     "name": "stdout",
     "output_type": "stream",
     "text": [
      "['Mercedes-Benz', 'Maserati', 'Porsche', 'Smart', 'UAZ', 'Skoda', 'Kia', 'Pontiac', 'Fiat', 'Suzuki', 'Cadillac', 'SsangYong', 'Aston Martin', 'Volkswagen', 'Hyundai', 'Toyota', 'Alfa Romeo', 'Mini', 'Lada', 'Honda', 'Nissan', 'Iveco', 'Lexus', 'Dacia', 'Jeep', 'Lancia', 'Renault', 'Daihatsu', 'Infiniti', 'Opel', 'Chrysler', 'Mitsubishi', 'Land Rover', 'BMW', 'Subaru', 'Peugeot', 'Tesla', 'Dodge', 'Audi', 'Seat', 'GAZ', 'Volvo', 'Jaguar', 'Mazda', 'Ligier', 'Isuzu', 'Saab', 'Lincoln', 'Chevrolet', 'Citroen', 'Ford']\n"
     ]
    }
   ],
   "source": [
    "gamint=list(set(gamintojas))\n",
    "print(gamint)"
   ]
  },
  {
   "cell_type": "code",
   "execution_count": 40,
   "metadata": {},
   "outputs": [],
   "source": [
    "kiek=0\n",
    "kiekis=[]\n",
    "for i in gamint:\n",
    "    for j in gamintojas:\n",
    "        if i == j:\n",
    "            kiek=kiek+1\n",
    "    kiekis.append(kiek)\n",
    "    "
   ]
  },
  {
   "cell_type": "code",
   "execution_count": 51,
   "metadata": {},
   "outputs": [],
   "source": [
    "kiek=0\n",
    "amziussuma=[]\n",
    "for i in gamint:\n",
    "    for j in range(0, len(amzius)):\n",
    "        if i == gamintojas[j]:\n",
    "            kiek=kiek+amzius[j]\n",
    "    amziussuma.append(kiek)\n",
    "    \n",
    "amziuvidurkis=[]\n",
    "for i in range(0, len(amziussuma)):\n",
    "    amziuvidurkis.append(round(amziussuma[i]/kiekis[i], 0))"
   ]
  },
  {
   "cell_type": "code",
   "execution_count": 52,
   "metadata": {},
   "outputs": [
    {
     "name": "stdout",
     "output_type": "stream",
     "text": [
      "[15.0, 15.0, 15.0, 15.0, 15.0, 14.0, 14.0, 14.0, 14.0, 14.0, 14.0, 14.0, 14.0, 15.0, 15.0, 15.0, 15.0, 15.0, 15.0, 15.0, 15.0, 15.0, 15.0, 15.0, 15.0, 15.0, 15.0, 15.0, 15.0, 15.0, 15.0, 15.0, 15.0, 15.0, 15.0, 15.0, 15.0, 15.0, 15.0, 15.0, 15.0, 15.0, 15.0, 15.0, 15.0, 15.0, 15.0, 15.0, 15.0, 15.0, 15.0]\n"
     ]
    }
   ],
   "source": [
    "print(amziuvidurkis)"
   ]
  },
  {
   "cell_type": "code",
   "execution_count": 55,
   "metadata": {},
   "outputs": [],
   "source": [
    "kiek=0\n",
    "ridavid=[]\n",
    "ridaV=[]\n",
    "atimti=0\n",
    "atimtiL=[]\n",
    "for i in gamint:\n",
    "    for j in range(0, len(rida)):\n",
    "        if i == gamintojas[j]:\n",
    "            if rida[j]=='Nenurodyta':\n",
    "                atimti=atimti+1\n",
    "            else:\n",
    "                kiek=kiek+rida[j]\n",
    "    ridaV.append(kiek)\n",
    "    atimtiL.append(atimti)\n",
    "    \n",
    "for i in range(0, len(ridaV)):\n",
    "    ridavid.append(round(amziussuma[i]/(kiekis[i]-atimtiL[i]), 2))"
   ]
  },
  {
   "cell_type": "code",
   "execution_count": 56,
   "metadata": {},
   "outputs": [
    {
     "name": "stdout",
     "output_type": "stream",
     "text": [
      "[15.45, 15.4, 15.01, 15.07, 15.18, 14.04, 13.76, 13.95, 14.19, 14.27, 14.3, 14.35, 14.34, 15.31, 15.17, 15.2, 15.21, 15.18, 15.25, 15.34, 15.37, 15.32, 15.25, 15.19, 15.21, 15.21, 15.29, 15.32, 15.3, 15.52, 15.51, 15.56, 15.53, 15.5, 15.52, 15.46, 15.41, 15.39, 15.63, 15.61, 15.7, 15.68, 15.69, 15.68, 15.67, 15.68, 15.68, 15.7, 15.72, 15.7, 15.68]\n"
     ]
    }
   ],
   "source": [
    "print(ridavid)"
   ]
  },
  {
   "cell_type": "code",
   "execution_count": 57,
   "metadata": {},
   "outputs": [],
   "source": [
    "kiek=0\n",
    "kainaV=[]\n",
    "for i in gamint:\n",
    "    for j in range(0, len(amzius)):\n",
    "        if i == gamintojas[j]:\n",
    "            kiek=kiek+kaina[j]\n",
    "    kainaV.append(kiek)\n",
    "    \n",
    "kainavid=[]\n",
    "for i in range(0, len(amziussuma)):\n",
    "    kainavid.append(round(kainaV[i]/kiekis[i], 0))"
   ]
  },
  {
   "cell_type": "code",
   "execution_count": 58,
   "metadata": {},
   "outputs": [
    {
     "name": "stdout",
     "output_type": "stream",
     "text": [
      "[15080.0, 15192.0, 17682.0, 17513.0, 17431.0, 15582.0, 14966.0, 15020.0, 14596.0, 14399.0, 14327.0, 14215.0, 14550.0, 10501.0, 10572.0, 10226.0, 10203.0, 10135.0, 10114.0, 9882.0, 9744.0, 9796.0, 9970.0, 9933.0, 9958.0, 9946.0, 9731.0, 9720.0, 9734.0, 9109.0, 9060.0, 8961.0, 9061.0, 9414.0, 9364.0, 9248.0, 9434.0, 9444.0, 9331.0, 9257.0, 9257.0, 9167.0, 9168.0, 9141.0, 9143.0, 9139.0, 9110.0, 9115.0, 9077.0, 8987.0, 8832.0]\n"
     ]
    }
   ],
   "source": [
    "print(kainavid)"
   ]
  },
  {
   "cell_type": "code",
   "execution_count": 68,
   "metadata": {},
   "outputs": [
    {
     "ename": "ProgrammingError",
     "evalue": "Incorrect number of bindings supplied. The current statement uses 5, and there are 13 supplied.",
     "output_type": "error",
     "traceback": [
      "\u001b[1;31m---------------------------------------------------------------------------\u001b[0m",
      "\u001b[1;31mProgrammingError\u001b[0m                          Traceback (most recent call last)",
      "Cell \u001b[1;32mIn[68], line 19\u001b[0m\n\u001b[0;32m     16\u001b[0m     sql_template \u001b[38;5;241m=\u001b[39m \u001b[38;5;124m'''\u001b[39m\u001b[38;5;124minsert into T1 values (?,?,?,?,?)\u001b[39m\u001b[38;5;124m'''\u001b[39m\n\u001b[0;32m     18\u001b[0m     data\u001b[38;5;241m=\u001b[39m(gamint[i], kainavid[i], amziuvidurkis[i], ridavid[i], kiekis[i])\n\u001b[1;32m---> 19\u001b[0m     \u001b[43mCs\u001b[49m\u001b[38;5;241;43m.\u001b[39;49m\u001b[43mexecutemany\u001b[49m\u001b[43m(\u001b[49m\u001b[43msql_template\u001b[49m\u001b[43m,\u001b[49m\u001b[43m \u001b[49m\u001b[43mdata\u001b[49m\u001b[43m)\u001b[49m\n\u001b[0;32m     21\u001b[0m SDB\u001b[38;5;241m.\u001b[39mcommit() \u001b[38;5;66;03m# commit() būtinas, jei norite įrašyti duoenis į DB\u001b[39;00m\n\u001b[0;32m     23\u001b[0m SDB\u001b[38;5;241m.\u001b[39mclose()\n",
      "\u001b[1;31mProgrammingError\u001b[0m: Incorrect number of bindings supplied. The current statement uses 5, and there are 13 supplied."
     ]
    }
   ],
   "source": [
    "SDB = sqlite3.connect('Testas1.db') # jei neegsiztuoja - bus sukurfta nauja sqlite DB\n",
    "Cs = SDB.cursor()\n",
    "\n",
    "sql = '''create table if not exists T1\n",
    "(\n",
    "gamintojas text not null,\n",
    "kainaV real not null,\n",
    "amziusV real not null,\n",
    "ridaV real not null,\n",
    "kiekis real not null\n",
    ")\n",
    "'''\n",
    "Cs.execute(sql)\n",
    "\n",
    "for i in range(0, len(gamint)):\n",
    "    sql_template = '''insert into T1 values (?,?,?,?,?)'''\n",
    "\n",
    "    data=(gamint[i], kainavid[i], amziuvidurkis[i], ridavid[i], kiekis[i])\n",
    "    Cs.executemany(sql_template, data)\n",
    "\n",
    "SDB.commit() # commit() būtinas, jei norite įrašyti duoenis į DB\n",
    "\n",
    "SDB.close()"
   ]
  },
  {
   "cell_type": "code",
   "execution_count": null,
   "metadata": {},
   "outputs": [],
   "source": []
  }
 ],
 "metadata": {
  "kernelspec": {
   "display_name": "Python 3",
   "language": "python",
   "name": "python3"
  },
  "language_info": {
   "codemirror_mode": {
    "name": "ipython",
    "version": 3
   },
   "file_extension": ".py",
   "mimetype": "text/x-python",
   "name": "python",
   "nbconvert_exporter": "python",
   "pygments_lexer": "ipython3",
   "version": "3.12.4"
  }
 },
 "nbformat": 4,
 "nbformat_minor": 2
}
