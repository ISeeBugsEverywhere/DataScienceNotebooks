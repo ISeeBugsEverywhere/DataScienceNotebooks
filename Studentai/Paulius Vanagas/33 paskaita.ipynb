{
 "cells": [
  {
   "cell_type": "code",
   "execution_count": 37,
   "metadata": {},
   "outputs": [],
   "source": [
    "# atrinkti 10 populiariausių gamintojų iš autopliuslt, pateikti tokius stulpelius - gamintojas, vidutinė kaina, \n",
    "# vidutinė rida, vidutinis amžius, modelių kiekis. Gautus rezultatus surašyti į SQLite duomebazę, pavadinimu \"Testas.db\",\n",
    "# lentelės pavadinimas kokį sugalvosite. Viską turi atlikti python kodas. \n",
    "# PANDAS NEGALIMA NAUDOTI, viską atlikite per cursor() objektus."
   ]
  },
  {
   "cell_type": "code",
   "execution_count": 38,
   "metadata": {},
   "outputs": [],
   "source": [
    "import numpy as np\n",
    "import matplotlib.pyplot as plt\n",
    "import warnings\n",
    "warnings.filterwarnings('ignore')\n",
    "import seaborn as sns\n",
    "import sqlite3\n",
    "import mysql.connector as cnt\n",
    "import plotly.express as px"
   ]
  },
  {
   "cell_type": "code",
   "execution_count": 39,
   "metadata": {},
   "outputs": [],
   "source": [
    "#prisijungimas prie mySQL, ir kursoriaus sukūrimas\n",
    "DB = cnt.connect(\n",
    "    host = '88.223.121.130',\n",
    "    user='user',\n",
    "    password='slaptazodis',\n",
    "    port=3306,\n",
    "    database='works'\n",
    "    )\n",
    "C=DB.cursor()"
   ]
  },
  {
   "cell_type": "code",
   "execution_count": 40,
   "metadata": {},
   "outputs": [],
   "source": [
    "sql=\"\"\"SELECT gamintojas, price, rida, pagaminimo_data FROM works.autopliuslt;\"\"\"\n",
    "C.execute(sql)\n",
    "ans = C.fetchall()\n",
    "gamintojas, kaina, rida, data = list(map(list, zip(*ans)))\n"
   ]
  },
  {
   "cell_type": "code",
   "execution_count": 41,
   "metadata": {},
   "outputs": [],
   "source": [
    "for i in range(0, len(data)):\n",
    "    data[i]=int(data[i][:4])\n",
    "    "
   ]
  },
  {
   "cell_type": "code",
   "execution_count": 42,
   "metadata": {},
   "outputs": [],
   "source": [
    "amzius=[]\n",
    "for i in range(0, len(data)):\n",
    "    amzius.append(2024-data[i])"
   ]
  },
  {
   "cell_type": "code",
   "execution_count": 43,
   "metadata": {},
   "outputs": [],
   "source": [
    "for i in range(0, len(kaina)):\n",
    "    kaina[i]=int(kaina[i].replace(' ',''))"
   ]
  },
  {
   "cell_type": "code",
   "execution_count": 44,
   "metadata": {},
   "outputs": [],
   "source": [
    "# ridoje yra 'Nenurodyta'\n",
    "for i in range(0, len(rida)):\n",
    "    if rida[i] != 'Nenurodyta':\n",
    "        rida[i]=int(rida[i].replace(' ','').replace('km',''))"
   ]
  },
  {
   "cell_type": "code",
   "execution_count": 45,
   "metadata": {},
   "outputs": [
    {
     "name": "stdout",
     "output_type": "stream",
     "text": [
      "['Jeep', 'Hyundai', 'Saab', 'Jaguar', 'Pontiac', 'Lincoln', 'Maserati', 'Subaru', 'Daihatsu', 'Toyota', 'Chevrolet', 'Dacia', 'Volkswagen', 'Dodge', 'Isuzu', 'SsangYong', 'Nissan', 'Kia', 'UAZ', 'Seat', 'Ligier', 'Porsche', 'BMW', 'Land Rover', 'Peugeot', 'Iveco', 'Skoda', 'Citroen', 'GAZ', 'Lancia', 'Smart', 'Lada', 'Chrysler', 'Honda', 'Mercedes-Benz', 'Ford', 'Fiat', 'Lexus', 'Aston Martin', 'Infiniti', 'Alfa Romeo', 'Suzuki', 'Opel', 'Tesla', 'Audi', 'Volvo', 'Cadillac', 'Mini', 'Renault', 'Mazda', 'Mitsubishi']\n"
     ]
    }
   ],
   "source": [
    "gamint=list(set(gamintojas))\n",
    "print(gamint)"
   ]
  },
  {
   "cell_type": "code",
   "execution_count": 46,
   "metadata": {},
   "outputs": [],
   "source": [
    "kiek=0\n",
    "kiekis=[]\n",
    "for i in gamint:\n",
    "    for j in gamintojas:\n",
    "        if i == j:\n",
    "            kiek=kiek+1\n",
    "    kiekis.append(kiek)\n",
    "    "
   ]
  },
  {
   "cell_type": "code",
   "execution_count": 47,
   "metadata": {},
   "outputs": [],
   "source": [
    "kiek=0\n",
    "amziussuma=[]\n",
    "for i in gamint:\n",
    "    for j in range(0, len(amzius)):\n",
    "        if i == gamintojas[j]:\n",
    "            kiek=kiek+amzius[j]\n",
    "    amziussuma.append(kiek)\n",
    "    \n",
    "amziuvidurkis=[]\n",
    "for i in range(0, len(amziussuma)):\n",
    "    amziuvidurkis.append(round(amziussuma[i]/kiekis[i], 1))"
   ]
  },
  {
   "cell_type": "code",
   "execution_count": 48,
   "metadata": {},
   "outputs": [
    {
     "name": "stdout",
     "output_type": "stream",
     "text": [
      "[16.5, 13.4, 14.0, 14.2, 15.0, 15.5, 15.4, 15.4, 15.7, 15.1, 15.2, 15.0, 15.4, 15.4, 15.4, 15.4, 15.3, 15.2, 15.2, 15.2, 15.2, 15.1, 15.1, 15.1, 15.0, 14.9, 14.7, 14.7, 14.8, 14.8, 14.8, 14.9, 14.8, 14.9, 14.9, 14.9, 15.0, 14.9, 14.9, 14.9, 14.9, 14.9, 15.0, 15.0, 15.2, 15.2, 15.2, 15.2, 15.2, 15.2, 15.2]\n"
     ]
    }
   ],
   "source": [
    "print(amziuvidurkis)"
   ]
  },
  {
   "cell_type": "code",
   "execution_count": 49,
   "metadata": {},
   "outputs": [],
   "source": [
    "kiek=0\n",
    "ridavid=[]\n",
    "ridaV=[]\n",
    "atimti=0\n",
    "atimtiL=[]\n",
    "for i in gamint:\n",
    "    for j in range(0, len(rida)):\n",
    "        if i == gamintojas[j]:\n",
    "            if rida[j]=='Nenurodyta':\n",
    "                atimti=atimti+1\n",
    "            else:\n",
    "                kiek=kiek+rida[j]\n",
    "    ridaV.append(kiek)\n",
    "    atimtiL.append(atimti)\n",
    "    \n",
    "for i in range(0, len(ridaV)):\n",
    "    ridavid.append(round(amziussuma[i]/(kiekis[i]-atimtiL[i]), 2))"
   ]
  },
  {
   "cell_type": "code",
   "execution_count": 50,
   "metadata": {},
   "outputs": [
    {
     "name": "stdout",
     "output_type": "stream",
     "text": [
      "[16.47, 13.92, 14.4, 14.86, 15.61, 16.15, 16.03, 16.12, 16.42, 15.77, 15.95, 15.7, 16.04, 15.98, 15.99, 16.01, 15.99, 15.77, 15.8, 15.75, 15.73, 15.63, 15.55, 15.52, 15.43, 15.39, 15.15, 15.12, 15.26, 15.26, 15.26, 15.31, 15.3, 15.36, 15.37, 15.36, 15.4, 15.36, 15.35, 15.34, 15.35, 15.36, 15.5, 15.45, 15.67, 15.65, 15.66, 15.64, 15.67, 15.66, 15.68]\n"
     ]
    }
   ],
   "source": [
    "print(ridavid)"
   ]
  },
  {
   "cell_type": "code",
   "execution_count": 51,
   "metadata": {},
   "outputs": [],
   "source": [
    "kiek=0\n",
    "kainaV=[]\n",
    "for i in gamint:\n",
    "    for j in range(0, len(amzius)):\n",
    "        if i == gamintojas[j]:\n",
    "            kiek=kiek+kaina[j]\n",
    "    kainaV.append(kiek)\n",
    "    \n",
    "kainavid=[]\n",
    "for i in range(0, len(amziussuma)):\n",
    "    kainavid.append(round(kainaV[i]/kiekis[i], 0))"
   ]
  },
  {
   "cell_type": "code",
   "execution_count": 52,
   "metadata": {},
   "outputs": [
    {
     "name": "stdout",
     "output_type": "stream",
     "text": [
      "[16.5, 13.4, 14.0, 14.2, 15.0, 15.5, 15.4, 15.4, 15.7, 15.1, 15.2, 15.0, 15.4, 15.4, 15.4, 15.4, 15.3, 15.2, 15.2, 15.2, 15.2, 15.1, 15.1, 15.1, 15.0, 14.9, 14.7, 14.7, 14.8, 14.8, 14.8, 14.9, 14.8, 14.9, 14.9, 14.9, 15.0, 14.9, 14.9, 14.9, 14.9, 14.9, 15.0, 15.0, 15.2, 15.2, 15.2, 15.2, 15.2, 15.2, 15.2]\n"
     ]
    }
   ],
   "source": [
    "print(amziuvidurkis)"
   ]
  },
  {
   "cell_type": "code",
   "execution_count": 53,
   "metadata": {},
   "outputs": [],
   "source": [
    "SDB = sqlite3.connect('Testas1.db') # jei neegsiztuoja - bus sukurfta nauja sqlite DB\n",
    "Cs = SDB.cursor()\n",
    "\n",
    "sql = '''create table if not exists T1\n",
    "(\n",
    "gamintojas text not null,\n",
    "kainaV real not null,\n",
    "amziusV real not null,\n",
    "ridaV real not null,\n",
    "kiekis integer not null\n",
    ")\n",
    "'''\n",
    "Cs.execute(sql)\n",
    "\n",
    "sql_template = '''insert into T1 values (?,?,?,?,?)'''\n",
    "for a, b, c, d, e in zip(gamint, kainavid, amziuvidurkis, ridavid, kiekis):\n",
    "    Cs.execute(sql_template, (a, b, c, d, e))\n",
    "\n",
    "SDB.commit() # commit() būtinas, jei norite įrašyti duoenis į DB\n",
    "\n",
    "SDB.close()"
   ]
  },
  {
   "cell_type": "code",
   "execution_count": 54,
   "metadata": {},
   "outputs": [
    {
     "name": "stdout",
     "output_type": "stream",
     "text": [
      "51\n",
      "51\n",
      "51\n",
      "51\n",
      "51\n"
     ]
    }
   ],
   "source": [
    "print(len(gamint))\n",
    "print(len(kainavid))\n",
    "print(len(amziuvidurkis))\n",
    "print(len(ridavid))\n",
    "print(len(kiekis))"
   ]
  }
 ],
 "metadata": {
  "kernelspec": {
   "display_name": "Python 3",
   "language": "python",
   "name": "python3"
  },
  "language_info": {
   "codemirror_mode": {
    "name": "ipython",
    "version": 3
   },
   "file_extension": ".py",
   "mimetype": "text/x-python",
   "name": "python",
   "nbconvert_exporter": "python",
   "pygments_lexer": "ipython3",
   "version": "3.12.4"
  }
 },
 "nbformat": 4,
 "nbformat_minor": 2
}
