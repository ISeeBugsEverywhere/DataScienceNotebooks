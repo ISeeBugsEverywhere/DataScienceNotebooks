{
 "cells": [
  {
   "cell_type": "code",
   "execution_count": 3,
   "metadata": {},
   "outputs": [
    {
     "name": "stdout",
     "output_type": "stream",
     "text": [
      "galite balsuoti\n"
     ]
    }
   ],
   "source": [
    "amzius = int(input('įveskite savo amžių'))\n",
    "ats = 'galite balsuoti' if amzius>= 18 else 'balsuoti negalite'\n",
    "print(ats)"
   ]
  },
  {
   "cell_type": "code",
   "execution_count": 6,
   "metadata": {},
   "outputs": [
    {
     "name": "stdout",
     "output_type": "stream",
     "text": [
      "vidurkis neigiamas\n"
     ]
    }
   ],
   "source": [
    "paz1 = int(input('iveskite pazymi'))\n",
    "paz2 = int(input('iveskite pazymi'))\n",
    "paz3 = int(input('iveskite pazymi'))\n",
    "vidurkis = (paz1 + paz2 + paz3)/3\n",
    "ats = 'vidurkis teigiamas' if vidurkis >= 5 else 'vidurkis neigiamas'\n",
    "print(ats)"
   ]
  },
  {
   "cell_type": "code",
   "execution_count": 22,
   "metadata": {},
   "outputs": [
    {
     "name": "stdout",
     "output_type": "stream",
     "text": [
      "daugybos lentele  5 10 15 20 25\n",
      "skaiciu skirtumas 7\n"
     ]
    }
   ],
   "source": [
    "sk1 = int(input(\"íveskite naturaluji skaiciu\"))\n",
    "if sk1 % 5 == 0:\n",
    "    print('daugybos lentele ', 1*sk1, 2*sk1, 3*sk1, 4*sk1, 5*sk1)\n",
    "if sk1 % 2 ==0:\n",
    "    print('skaicius yra', sk1, ', skaiciaus kvadratas', sk1**2, ', skaicius padalintas is dvieju', int(sk1/2))\n",
    "if sk1 % 7 != 0:\n",
    "    sk2 = int(input('íveskite naturaluji skaiciu'))\n",
    "    print('skaiciu skirtumas', sk2-sk1)"
   ]
  },
  {
   "cell_type": "code",
   "execution_count": 25,
   "metadata": {},
   "outputs": [
    {
     "name": "stdout",
     "output_type": "stream",
     "text": [
      "8 daugiau uz 3\n"
     ]
    }
   ],
   "source": [
    "sk1 = int(input(\"íveskite naturaluji skaiciu\"))\n",
    "sk2 = int(input(\"íveskite naturaluji skaiciu\"))\n",
    "if sk1>sk2:\n",
    "    print(sk1, 'daugiau uz', sk2)\n",
    "elif sk1==sk2:\n",
    "    print('skaiciai yra lygus')\n",
    "else:\n",
    "    print(sk1, \"mazesnis uz skaicius\", sk2)"
   ]
  },
  {
   "cell_type": "code",
   "execution_count": 3,
   "metadata": {},
   "outputs": [
    {
     "name": "stdout",
     "output_type": "stream",
     "text": [
      "tekstas yra\n"
     ]
    }
   ],
   "source": [
    "txt = input('íveskite teksta')\n",
    "if txt in \"Vilnius yra UNESCO paveldas nuo 1996 metų\":\n",
    "    print(\"tekstas yra\")\n",
    "else:\n",
    "    print(\"teksto nera\")"
   ]
  },
  {
   "cell_type": "code",
   "execution_count": 7,
   "metadata": {},
   "outputs": [
    {
     "name": "stdout",
     "output_type": "stream",
     "text": [
      "20 yra tarp skaicius 10 ir 20\n"
     ]
    }
   ],
   "source": [
    "sk1 = int(input(\"íveskite naturaluji skaiciu\"))\n",
    "if sk1 > 10 and sk1 < 20:\n",
    "    print(sk1, 'yra tarp skaiciu 10 ir 20')\n"
   ]
  },
  {
   "cell_type": "code",
   "execution_count": 11,
   "metadata": {},
   "outputs": [
    {
     "name": "stdout",
     "output_type": "stream",
     "text": [
      "7.0\n"
     ]
    }
   ],
   "source": [
    "sk = float(input('iveskite skaiciu'))\n",
    "\n",
    "if sk % 3 == 0 and sk % 5 ==0:\n",
    "    print('FizzBuzz')\n",
    "elif sk % 3 == 0:\n",
    "    print('Fizz')\n",
    "elif sk % 5 == 0:\n",
    "    print('Buzz')\n",
    "else:\n",
    "    print(sk)"
   ]
  },
  {
   "cell_type": "code",
   "execution_count": 25,
   "metadata": {},
   "outputs": [
    {
     "name": "stdout",
     "output_type": "stream",
     "text": [
      "kazkas ivesta\n",
      "tekste yra spec simboliu\n"
     ]
    }
   ],
   "source": [
    "txt = input('iveskite teksta')\n",
    "\n",
    "if txt:\n",
    "    print('kazkas ivesta')\n",
    "else:\n",
    "    print('nieko neivesta')\n",
    "\n",
    "if txt.isalpha():\n",
    "    print('tekste vien raides')\n",
    "\n",
    "if txt.isnumeric():\n",
    "    print('tekste vien skaiciai')\n",
    "\n",
    "if txt.isalnum() == False:\n",
    "    print('tekste yra spec simboliu')\n",
    "    \n",
    "if txt.isupper():\n",
    "    print('didziosios raides')\n",
    "\n",
    "if txt.islower():\n",
    "    print(\"mazosios raides\")"
   ]
  },
  {
   "cell_type": "code",
   "execution_count": 27,
   "metadata": {},
   "outputs": [
    {
     "name": "stdout",
     "output_type": "stream",
     "text": [
      "Graži diena šiandien\n"
     ]
    }
   ],
   "source": [
    "a = ['Graži', 'diena', 'šiandien']\n",
    "txt = ' '.join(a)\n",
    "print(txt)\n"
   ]
  },
  {
   "cell_type": "code",
   "execution_count": 29,
   "metadata": {},
   "outputs": [
    {
     "name": "stdout",
     "output_type": "stream",
     "text": [
      "500 metru yra lygu 50000 centimetru 500000 milimetru 0.5 kilometru\n"
     ]
    }
   ],
   "source": [
    "metrai = int(input('iveskite metrus'))\n",
    "list = [metrai*100, metrai*1000, metrai/1000]\n",
    "print(metrai, 'metru yra lygu', list[0], 'centimetru', list[1], 'milimetru', list[-1], 'kilometru')"
   ]
  },
  {
   "cell_type": "code",
   "execution_count": 32,
   "metadata": {},
   "outputs": [
    {
     "name": "stdout",
     "output_type": "stream",
     "text": [
      "2\n"
     ]
    }
   ],
   "source": [
    "ivestis = input('iveskite du skaicius atskirtus tarpu')\n",
    "list=ivestis.split()\n",
    "print(int(list[0]) % int(list[1]))"
   ]
  },
  {
   "cell_type": "code",
   "execution_count": 33,
   "metadata": {},
   "outputs": [
    {
     "name": "stdout",
     "output_type": "stream",
     "text": [
      "8\n"
     ]
    }
   ],
   "source": [
    "ivestis = input('iveskite du skaicius atskirtus tarpu')\n",
    "list=ivestis.split()\n",
    "print(int(list[0])** int(list[1]))"
   ]
  },
  {
   "cell_type": "code",
   "execution_count": 64,
   "metadata": {},
   "outputs": [
    {
     "name": "stdout",
     "output_type": "stream",
     "text": [
      "pirmas Python paskutinis kalba\n",
      "priespaskutinis programavimo\n",
      "['yra', 'programavimo']\n",
      "6\n"
     ]
    }
   ],
   "source": [
    "lst = [\"Python\", \"yra\", \"lengva\", \"programavimo\", \"kalba\"]\n",
    "print('pirmas', lst[0], 'paskutinis', lst[-1])\n",
    "\n",
    "print('priespaskutinis', lst[-2])\n",
    "\n",
    "print(lst[1::2])\n",
    "\n",
    "pirmas=lst[0]\n",
    "if type(pirmas) is str:\n",
    "    print('taip, stringas')\n",
    "\n",
    "print(len(pirmas))\n",
    "\n"
   ]
  },
  {
   "cell_type": "code",
   "execution_count": 44,
   "metadata": {},
   "outputs": [
    {
     "name": "stdout",
     "output_type": "stream",
     "text": [
      "10\n",
      "['Aš', 'mėgstu', 'su', 'ir', 'su']\n"
     ]
    }
   ],
   "source": [
    "txt = \"Aš rytais mėgstu kavą su sumuštiniais ir arbatą su pyragu\"\n",
    "sar=txt.split()\n",
    "a=sar.index(sar[-1])\n",
    "print(a+1)\n",
    "\n",
    "txt1=sar[::2]\n",
    "print(str(txt1))"
   ]
  },
  {
   "cell_type": "code",
   "execution_count": 65,
   "metadata": {},
   "outputs": [
    {
     "name": "stdout",
     "output_type": "stream",
     "text": [
      "1323\n",
      "VILNIUS\n",
      "STO\n",
      "taip, didziosios\n"
     ]
    }
   ],
   "source": [
    "l = [\"Vilnius\", 1323, [\"Nupirkti maisto\", \"PABėgioti\"], 8, \"Rytas\"]\n",
    "# • Išveskite Vilniaus paminėjimo metus, žodį ”Vilnius”\n",
    "print(l[1])\n",
    "# didžiosiomis raidėmis\n",
    "str=l[0]\n",
    "print(str.upper())\n",
    "# • Išveskite žodžio ”maisto” paskutines tris raides didžiosiomis.\n",
    "str=l[2]\n",
    "str1=str[0]\n",
    "print(str1[-3:].upper())\n",
    "\n",
    "# • Užrašykite kodą, kuris patikrintų, ar žodžio ”Pabėgioti” pirmi\n",
    "# trys simboliai yra didžiosios raidės.\n",
    "str2=str[1]\n",
    "if str2[0].isupper and str2[1].isupper and str2[2].isupper:\n",
    "    print('taip, didziosios')"
   ]
  },
  {
   "cell_type": "code",
   "execution_count": 68,
   "metadata": {},
   "outputs": [
    {
     "name": "stdout",
     "output_type": "stream",
     "text": [
      "{1, 2, 3, 4, 5, 6, 'a', 'b'} {1, 2, 3} {4, 'a'} {4, 5, 6, 'b', 'a'}\n",
      "{1, 2, 3, 4, 5, 8}\n"
     ]
    }
   ],
   "source": [
    "aset={1,2,3,4, 'a'}\n",
    "bset={1,2,3,5,6,'b'}\n",
    "saj=aset.union(bset)\n",
    "sank=aset.intersection(bset)\n",
    "skirt=aset.difference(bset)\n",
    "simskirt=aset.symmetric_difference(bset)\n",
    "print(saj, sank, skirt, simskirt)\n",
    "\n",
    "l = [1,1,2,2,3,4,5,5,5,8,8,1,2]\n",
    "l1=set(l)\n",
    "print(l1)"
   ]
  },
  {
   "cell_type": "code",
   "execution_count": 1,
   "metadata": {},
   "outputs": [
    {
     "name": "stdout",
     "output_type": "stream",
     "text": [
      "Defaulting to user installation because normal site-packages is not writeable\n",
      "Collecting matplotlib\n",
      "  Downloading matplotlib-3.9.1.post1-cp312-cp312-win_amd64.whl.metadata (11 kB)\n",
      "Collecting contourpy>=1.0.1 (from matplotlib)\n",
      "  Downloading contourpy-1.2.1-cp312-cp312-win_amd64.whl.metadata (5.8 kB)\n",
      "Collecting cycler>=0.10 (from matplotlib)\n",
      "  Downloading cycler-0.12.1-py3-none-any.whl.metadata (3.8 kB)\n",
      "Collecting fonttools>=4.22.0 (from matplotlib)\n",
      "  Downloading fonttools-4.53.1-cp312-cp312-win_amd64.whl.metadata (165 kB)\n",
      "     ---------------------------------------- 0.0/165.9 kB ? eta -:--:--\n",
      "     ------ ------------------------------ 30.7/165.9 kB 660.6 kB/s eta 0:00:01\n",
      "     ---------------------------- --------- 122.9/165.9 kB 1.4 MB/s eta 0:00:01\n",
      "     -------------------------------------- 165.9/165.9 kB 1.7 MB/s eta 0:00:00\n",
      "Collecting kiwisolver>=1.3.1 (from matplotlib)\n",
      "  Downloading kiwisolver-1.4.5-cp312-cp312-win_amd64.whl.metadata (6.5 kB)\n",
      "Requirement already satisfied: numpy>=1.23 in c:\\users\\pauli\\appdata\\roaming\\python\\python312\\site-packages (from matplotlib) (2.0.0)\n",
      "Requirement already satisfied: packaging>=20.0 in c:\\users\\pauli\\appdata\\roaming\\python\\python312\\site-packages (from matplotlib) (24.1)\n",
      "Collecting pillow>=8 (from matplotlib)\n",
      "  Downloading pillow-10.4.0-cp312-cp312-win_amd64.whl.metadata (9.3 kB)\n",
      "Collecting pyparsing>=2.3.1 (from matplotlib)\n",
      "  Downloading pyparsing-3.1.2-py3-none-any.whl.metadata (5.1 kB)\n",
      "Requirement already satisfied: python-dateutil>=2.7 in c:\\users\\pauli\\appdata\\roaming\\python\\python312\\site-packages (from matplotlib) (2.9.0.post0)\n",
      "Requirement already satisfied: six>=1.5 in c:\\users\\pauli\\appdata\\roaming\\python\\python312\\site-packages (from python-dateutil>=2.7->matplotlib) (1.16.0)\n",
      "Downloading matplotlib-3.9.1.post1-cp312-cp312-win_amd64.whl (8.0 MB)\n",
      "   ---------------------------------------- 0.0/8.0 MB ? eta -:--:--\n",
      "   - -------------------------------------- 0.3/8.0 MB 6.5 MB/s eta 0:00:02\n",
      "   ---- ----------------------------------- 1.0/8.0 MB 10.4 MB/s eta 0:00:01\n",
      "   ------------- -------------------------- 2.7/8.0 MB 19.3 MB/s eta 0:00:01\n",
      "   ------------------------------ --------- 6.2/8.0 MB 32.9 MB/s eta 0:00:01\n",
      "   ---------------------------------------- 8.0/8.0 MB 36.5 MB/s eta 0:00:00\n",
      "Downloading contourpy-1.2.1-cp312-cp312-win_amd64.whl (189 kB)\n",
      "   ---------------------------------------- 0.0/189.9 kB ? eta -:--:--\n",
      "   ---------------------------------------- 189.9/189.9 kB ? eta 0:00:00\n",
      "Downloading cycler-0.12.1-py3-none-any.whl (8.3 kB)\n",
      "Downloading fonttools-4.53.1-cp312-cp312-win_amd64.whl (2.2 MB)\n",
      "   ---------------------------------------- 0.0/2.2 MB ? eta -:--:--\n",
      "   ---------------------------------------- 2.2/2.2 MB 145.5 MB/s eta 0:00:00\n",
      "Downloading kiwisolver-1.4.5-cp312-cp312-win_amd64.whl (56 kB)\n",
      "   ---------------------------------------- 0.0/56.0 kB ? eta -:--:--\n",
      "   ---------------------------------------- 56.0/56.0 kB ? eta 0:00:00\n",
      "Downloading pillow-10.4.0-cp312-cp312-win_amd64.whl (2.6 MB)\n",
      "   ---------------------------------------- 0.0/2.6 MB ? eta -:--:--\n",
      "   ---------------------------------------- 2.6/2.6 MB 159.0 MB/s eta 0:00:00\n",
      "Downloading pyparsing-3.1.2-py3-none-any.whl (103 kB)\n",
      "   ---------------------------------------- 0.0/103.2 kB ? eta -:--:--\n",
      "   ---------------------------------------- 103.2/103.2 kB ? eta 0:00:00\n",
      "Installing collected packages: pyparsing, pillow, kiwisolver, fonttools, cycler, contourpy, matplotlib\n",
      "Successfully installed contourpy-1.2.1 cycler-0.12.1 fonttools-4.53.1 kiwisolver-1.4.5 matplotlib-3.9.1.post1 pillow-10.4.0 pyparsing-3.1.2\n",
      "Note: you may need to restart the kernel to use updated packages.\n"
     ]
    },
    {
     "name": "stderr",
     "output_type": "stream",
     "text": [
      "\n",
      "[notice] A new release of pip is available: 24.0 -> 24.2\n",
      "[notice] To update, run: python.exe -m pip install --upgrade pip\n"
     ]
    }
   ],
   "source": [
    "pip install matplotlib"
   ]
  }
 ],
 "metadata": {
  "kernelspec": {
   "display_name": "Python 3",
   "language": "python",
   "name": "python3"
  },
  "language_info": {
   "codemirror_mode": {
    "name": "ipython",
    "version": 3
   },
   "file_extension": ".py",
   "mimetype": "text/x-python",
   "name": "python",
   "nbconvert_exporter": "python",
   "pygments_lexer": "ipython3",
   "version": "3.12.4"
  }
 },
 "nbformat": 4,
 "nbformat_minor": 2
}
