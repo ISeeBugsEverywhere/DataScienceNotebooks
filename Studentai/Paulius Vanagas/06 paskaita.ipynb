{
 "cells": [
  {
   "cell_type": "code",
   "execution_count": 3,
   "metadata": {},
   "outputs": [
    {
     "data": {
      "text/plain": [
       "60480"
      ]
     },
     "execution_count": 3,
     "metadata": {},
     "output_type": "execute_result"
    }
   ],
   "source": [
    "def sandauga(*pos3):\n",
    "    s = 1\n",
    "    for i in pos3:\n",
    "        s = s*i\n",
    "    return s\n",
    "\n",
    "\n",
    "sandauga(4,5,6,7,8,9)"
   ]
  },
  {
   "cell_type": "code",
   "execution_count": 34,
   "metadata": {},
   "outputs": [
    {
     "name": "stdout",
     "output_type": "stream",
     "text": [
      "geometrinis vidurkis 11.960856574795315\n",
      "aritmetinis vidurkis 15.8\n"
     ]
    }
   ],
   "source": [
    "def vidurkis(a, *sk):\n",
    "    \n",
    "    av = 0\n",
    "    if a==\"a\":\n",
    "        av=sum(sk)/len(sk)\n",
    "        print('aritmetinis vidurkis', av)  \n",
    "     \n",
    "    gv=1   \n",
    "    if a ==\"g\":\n",
    "        for i in sk:\n",
    "            gv=gv*i\n",
    "        print('geometrinis vidurkis', gv**(1/len(sk)))\n",
    "        \n",
    "vidurkis('g', 5, 9, 8, 40, 17)\n",
    "vidurkis('a', 5, 9, 8, 40, 17)"
   ]
  },
  {
   "cell_type": "code",
   "execution_count": 36,
   "metadata": {},
   "outputs": [
    {
     "name": "stdout",
     "output_type": "stream",
     "text": [
      "3.0\n",
      "2.605171084697352\n",
      "fignia čia\n"
     ]
    }
   ],
   "source": [
    "##### destytojo variantas\n",
    "# • Parašykite funkciją, kuri suskaičiuotų aritmetinį arba\n",
    "# geometrinį vidurkį iš pateiktų skaičių. Pateikiamų skaičių\n",
    "# kiekis neapibrėžtas. Panaudokite raktažodžius, kad\n",
    "# nurodytumėte, kokį vidurkį reikia apskaičiuoti.\n",
    "\n",
    "def vid(*args,v='a'):\n",
    "    if v == 'a':\n",
    "        return sum(args)/len(args)\n",
    "    elif v == 'g':\n",
    "        s = 1\n",
    "        for i in args:\n",
    "            s = s * i\n",
    "        return s**(1/len(args))\n",
    "    else:\n",
    "        return 'fignia čia'\n",
    "\n",
    "\n",
    "print(vid(1,2,3,4,5))\n",
    "print(vid(1,2,3,4,5, v='g'))\n",
    "print(vid(1,2,3,4,5, v='f'))"
   ]
  },
  {
   "cell_type": "code",
   "execution_count": 31,
   "metadata": {},
   "outputs": [
    {
     "name": "stdout",
     "output_type": "stream",
     "text": [
      "35\n"
     ]
    }
   ],
   "source": [
    "def ilgis(*arg):\n",
    "    ilg=0\n",
    "    for i in arg:\n",
    "        if type(i) == int:\n",
    "            ilg = ilg + i\n",
    "        else:\n",
    "            ilg = ilg + len(i)\n",
    "    \n",
    "    return ilg\n",
    "\n",
    "print(ilgis(5, 6, 'stalas', 8, 4, 'vardas'))"
   ]
  },
  {
   "cell_type": "code",
   "execution_count": 54,
   "metadata": {},
   "outputs": [
    {
     "name": "stdout",
     "output_type": "stream",
     "text": [
      "3.0\n",
      "-2.0\n"
     ]
    }
   ],
   "source": [
    "def saknis(pagr, rodikl):\n",
    "    assert pagr >=0 or rodikl % 2 == 1, 'Neteisingi duomenys'\n",
    "    if pagr >= 0:\n",
    "        return (pagr**(1/rodikl))\n",
    "    else:\n",
    "        return round(abs(pagr**(1/rodikl))*(-1), 9)\n",
    "\n",
    "print(saknis(9,2))\n",
    "print(saknis(-8,3))\n"
   ]
  },
  {
   "cell_type": "code",
   "execution_count": 55,
   "metadata": {},
   "outputs": [
    {
     "name": "stdout",
     "output_type": "stream",
     "text": [
      "8.0\n",
      "-5.0\n"
     ]
    },
    {
     "ename": "AssertionError",
     "evalue": "Arba X teigiamas, arba n nelyginis!",
     "output_type": "error",
     "traceback": [
      "\u001b[1;31m---------------------------------------------------------------------------\u001b[0m",
      "\u001b[1;31mAssertionError\u001b[0m                            Traceback (most recent call last)",
      "Cell \u001b[1;32mIn[55], line 8\u001b[0m\n\u001b[0;32m      6\u001b[0m \u001b[38;5;28mprint\u001b[39m(root(\u001b[38;5;241m64\u001b[39m,\u001b[38;5;241m2\u001b[39m))\n\u001b[0;32m      7\u001b[0m \u001b[38;5;28mprint\u001b[39m(root(\u001b[38;5;241m-\u001b[39m\u001b[38;5;241m125\u001b[39m,\u001b[38;5;241m3\u001b[39m))\n\u001b[1;32m----> 8\u001b[0m \u001b[38;5;28mprint\u001b[39m(\u001b[43mroot\u001b[49m\u001b[43m(\u001b[49m\u001b[38;5;241;43m-\u001b[39;49m\u001b[38;5;241;43m125\u001b[39;49m\u001b[43m,\u001b[49m\u001b[38;5;241;43m2\u001b[39;49m\u001b[43m)\u001b[49m)\n",
      "Cell \u001b[1;32mIn[55], line 3\u001b[0m, in \u001b[0;36mroot\u001b[1;34m(x, n)\u001b[0m\n\u001b[0;32m      2\u001b[0m \u001b[38;5;28;01mdef\u001b[39;00m \u001b[38;5;21mroot\u001b[39m(x,n):\n\u001b[1;32m----> 3\u001b[0m     \u001b[38;5;28;01massert\u001b[39;00m x\u001b[38;5;241m>\u001b[39m\u001b[38;5;241m0\u001b[39m \u001b[38;5;129;01mor\u001b[39;00m n\u001b[38;5;241m%\u001b[39m\u001b[38;5;241m2\u001b[39m \u001b[38;5;241m==\u001b[39m \u001b[38;5;241m1\u001b[39m, \u001b[38;5;124m'\u001b[39m\u001b[38;5;124mArba X teigiamas, arba n nelyginis!\u001b[39m\u001b[38;5;124m'\u001b[39m\n\u001b[0;32m      4\u001b[0m     \u001b[38;5;28;01mreturn\u001b[39;00m \u001b[38;5;28mround\u001b[39m(\u001b[38;5;28mabs\u001b[39m(x\u001b[38;5;241m*\u001b[39m\u001b[38;5;241m*\u001b[39m(\u001b[38;5;241m1\u001b[39m\u001b[38;5;241m/\u001b[39mn)), \u001b[38;5;241m9\u001b[39m)\u001b[38;5;241m*\u001b[39m\u001b[38;5;28mabs\u001b[39m(x)\u001b[38;5;241m/\u001b[39mx\n",
      "\u001b[1;31mAssertionError\u001b[0m: Arba X teigiamas, arba n nelyginis!"
     ]
    }
   ],
   "source": [
    "# destytojo\n",
    "def root(x,n):\n",
    "    assert x>0 or n%2 == 1, 'Arba X teigiamas, arba n nelyginis!'\n",
    "    return round(abs(x**(1/n)), 9)*abs(x)/x\n",
    "\n",
    "print(root(64,2))\n",
    "print(root(-125,3))\n",
    "print(root(-125,2))"
   ]
  },
  {
   "cell_type": "code",
   "execution_count": 64,
   "metadata": {},
   "outputs": [
    {
     "name": "stdout",
     "output_type": "stream",
     "text": [
      "[44, 31, 1, 13, 5, 8, 25, 7, 23, 30, 22, 17, 2, 15, 23, 10, 16, 30, 39, 3]\n",
      "['lyginis', 29791, 1, 2197, 125, 'lyginis', 15625, 343, 12167, 'lyginis', 'lyginis', 4913, 'lyginis', 3375, 12167, 'lyginis', 'lyginis', 'lyginis', 59319, 27]\n",
      "[44, 31, 1, 13, 'Buzz', 8, 'Buzz', 7, 23, 'FizzBuzz', 22, 17, 2, 'FizzBuzz', 23, 'Buzz', 16, 'FizzBuzz', 'Fizz', 'Fizz']\n"
     ]
    }
   ],
   "source": [
    "import random\n",
    "r = [random.randint(1,47) for i in range(20)]\n",
    "print(r)\n",
    "\n",
    "def fnkc(a):\n",
    "    if a%2 == 0:\n",
    "        return 'lyginis'\n",
    "    else:\n",
    "        return a**3\n",
    "\n",
    "ats=list(map(fnkc, r))\n",
    "print(ats)\n",
    "\n",
    "def fiz(a):\n",
    "    if a % 5 == 0 and a % 3 ==0:\n",
    "        return 'FizzBuzz'\n",
    "    elif a % 3 ==0:\n",
    "        return 'Fizz'\n",
    "    elif a % 5 == 0:\n",
    "        return 'Buzz'\n",
    "    else:\n",
    "        return a\n",
    "    \n",
    "ats2=list(map(fiz, r))\n",
    "print(ats2)"
   ]
  },
  {
   "cell_type": "code",
   "execution_count": 70,
   "metadata": {},
   "outputs": [
    {
     "name": "stdout",
     "output_type": "stream",
     "text": [
      "[38, 44, 41, 44, 10, 38, 47, 11, 36, 3, 31, 39, 1, 46, 32, 33, 28, 30, 41, 42]\n",
      "[38, 44, 41, 44, 'Buzz', 38, 47, 11, 'Fizz', 'Fizz', 31, 'Fizz', 1, 46, 32, 'Fizz', 28, 'FizzBuzz', 41, 'Fizz']\n"
     ]
    }
   ],
   "source": [
    "import random\n",
    "r = [random.randint(1,47) for i in range(20)]\n",
    "print(r)\n",
    "\n",
    "ats = list(map(lambda x:'FizzBuzz' if x%5==0 and x%3==0 else 'Fizz' if x%3==0 else 'Buzz' if x%5==0 else x, r))\n",
    "\n",
    "print(ats)"
   ]
  },
  {
   "cell_type": "code",
   "execution_count": 82,
   "metadata": {},
   "outputs": [
    {
     "name": "stdout",
     "output_type": "stream",
     "text": [
      "[1, 2, 3, 4, 5, 6, 7, 8, 9, 10]\n",
      "[5.0, 10.0, 15.0, 20.0, 25.0, 30.0, 35.0, 40.0, 45.0, 50.0]\n",
      "[0.2, 0.4, 0.6, 0.8, 1.0, 1.2, 1.4, 1.6, 1.8, 2.0]\n",
      "[0.13999999999999999, 0.33999999999999997, 0.54, 0.74, 0.9400000000000001, 1.1400000000000001, 1.34, 1.54, 1.7399999999999998, 1.94]\n"
     ]
    }
   ],
   "source": [
    "# # l = [*range(1,11)]\n",
    "# Paklauskite vartotojo skaičiaus, ir sugenerukite tris sąrašus:\n",
    "#     l padalintas iš skaičiuaus, padaugintas iš skaičiaus, ir (l-0.3)/skaičius\n",
    "\n",
    "l = [*range(1,11)]\n",
    "print(l)\n",
    "\n",
    "sk=float(input('iveskite skaiciu'))\n",
    "\n",
    "list1=list(map(lambda x: x*sk,l))\n",
    "print(list1)\n",
    "\n",
    "list2=list(map(lambda x: x/sk, l))\n",
    "print(list2)\n",
    "\n",
    "list3=list(map(lambda x: (x-0.3)/sk, l))\n",
    "print(list3)"
   ]
  }
 ],
 "metadata": {
  "kernelspec": {
   "display_name": "Python 3",
   "language": "python",
   "name": "python3"
  },
  "language_info": {
   "codemirror_mode": {
    "name": "ipython",
    "version": 3
   },
   "file_extension": ".py",
   "mimetype": "text/x-python",
   "name": "python",
   "nbconvert_exporter": "python",
   "pygments_lexer": "ipython3",
   "version": "3.12.4"
  }
 },
 "nbformat": 4,
 "nbformat_minor": 2
}
