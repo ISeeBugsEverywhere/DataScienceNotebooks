{
 "cells": [
  {
   "cell_type": "code",
   "execution_count": 1,
   "metadata": {},
   "outputs": [
    {
     "name": "stderr",
     "output_type": "stream",
     "text": [
      "C:\\Users\\pauli\\AppData\\Roaming\\Python\\Python312\\site-packages\\tqdm\\auto.py:21: TqdmWarning: IProgress not found. Please update jupyter and ipywidgets. See https://ipywidgets.readthedocs.io/en/stable/user_install.html\n",
      "  from .autonotebook import tqdm as notebook_tqdm\n"
     ]
    }
   ],
   "source": [
    "import kagglehub\n",
    "import pandas as pd\n",
    "from sklearn.metrics import confusion_matrix\n",
    "import seaborn as sns\n",
    "from sklearn.linear_model import LogisticRegression\n",
    "from sklearn.model_selection import train_test_split\n",
    "from sklearn.metrics import accuracy_score\n",
    "import numpy as np\n",
    "import matplotlib.pyplot as plt\n",
    "from sklearn.preprocessing import PolynomialFeatures\n",
    "from sklearn.linear_model import LinearRegression\n",
    "from sklearn.metrics import mean_squared_error\n",
    "from sklearn.preprocessing import LabelEncoder\n",
    "\n",
    "from sklearn.metrics import mean_squared_error\n",
    "from sklearn.preprocessing import LabelEncoder\n",
    "\n",
    "from sklearn.tree import DecisionTreeRegressor"
   ]
  },
  {
   "cell_type": "code",
   "execution_count": 2,
   "metadata": {},
   "outputs": [],
   "source": [
    "# Esimo įvykių statistikos duomenys : https://data.gov.lt/datasets/509/ ;\n",
    "# Pritaikyti ML jog nustatytumėte, ar tai buvo susidūrimas su gyvūnu? \n",
    "# Ar galite nustatyti kaltininko lytį, pagal pateiktas eismo įvykio aplinkybes?\n",
    "# Hipotezė - vyrai daro daugiau vienos rūšies klaidų, moterys - kitos."
   ]
  },
  {
   "cell_type": "code",
   "execution_count": 3,
   "metadata": {},
   "outputs": [],
   "source": [
    "df = pd.read_json(r'C:\\Users\\pauli\\Downloads\\ei_2023_12_31(1).json')"
   ]
  },
  {
   "cell_type": "code",
   "execution_count": 4,
   "metadata": {},
   "outputs": [
    {
     "data": {
      "text/html": [
       "<div>\n",
       "<style scoped>\n",
       "    .dataframe tbody tr th:only-of-type {\n",
       "        vertical-align: middle;\n",
       "    }\n",
       "\n",
       "    .dataframe tbody tr th {\n",
       "        vertical-align: top;\n",
       "    }\n",
       "\n",
       "    .dataframe thead th {\n",
       "        text-align: right;\n",
       "    }\n",
       "</style>\n",
       "<table border=\"1\" class=\"dataframe\">\n",
       "  <thead>\n",
       "    <tr style=\"text-align: right;\">\n",
       "      <th></th>\n",
       "      <th>registrokodas</th>\n",
       "      <th>dataLaikas</th>\n",
       "      <th>registravimoData</th>\n",
       "      <th>paskutinioRedagavimoLaikas</th>\n",
       "      <th>iskaitinis</th>\n",
       "      <th>rusis</th>\n",
       "      <th>schema1</th>\n",
       "      <th>schema2</th>\n",
       "      <th>dalyviuSkaicius</th>\n",
       "      <th>zuvusiuSkaicius</th>\n",
       "      <th>...</th>\n",
       "      <th>kelioElementas2</th>\n",
       "      <th>privalomasLeistinasGreitis</th>\n",
       "      <th>leistinasGreitis</th>\n",
       "      <th>neblaivusKaltininkai</th>\n",
       "      <th>apsvaigeKaltininkai</th>\n",
       "      <th>atsisakeTikrintisKaltininkai</th>\n",
       "      <th>ilguma</th>\n",
       "      <th>platuma</th>\n",
       "      <th>eismoDalyviai</th>\n",
       "      <th>eismoTranspPreimone</th>\n",
       "    </tr>\n",
       "  </thead>\n",
       "  <tbody>\n",
       "    <tr>\n",
       "      <th>0</th>\n",
       "      <td>07-23-9588945</td>\n",
       "      <td>2023-01-01 00:27</td>\n",
       "      <td>2023-01-01 01:04</td>\n",
       "      <td>2023-03-31 12:14</td>\n",
       "      <td>0</td>\n",
       "      <td>Kiti eismo įvykiai</td>\n",
       "      <td>Kiti eismo įvykiai</td>\n",
       "      <td>Kiti eismo įvykiai</td>\n",
       "      <td>2</td>\n",
       "      <td>0</td>\n",
       "      <td>...</td>\n",
       "      <td>None</td>\n",
       "      <td>1</td>\n",
       "      <td>40.0</td>\n",
       "      <td>Ne</td>\n",
       "      <td>Ne</td>\n",
       "      <td>Ne</td>\n",
       "      <td>6063990.0</td>\n",
       "      <td>579292.0</td>\n",
       "      <td>[{'dalyvisId': 48690423, 'kategorija': 'Kiti',...</td>\n",
       "      <td>[{'tpId': 33646065, 'regValstybe': 'Lietuva', ...</td>\n",
       "    </tr>\n",
       "    <tr>\n",
       "      <th>1</th>\n",
       "      <td>07-23-9588946</td>\n",
       "      <td>2023-01-01 00:10</td>\n",
       "      <td>2023-01-01 01:04</td>\n",
       "      <td>2023-01-01 02:50</td>\n",
       "      <td>0</td>\n",
       "      <td>Susidūrimas</td>\n",
       "      <td>Susidūrimai judant ta pačia kryptimi</td>\n",
       "      <td>Atsitrenkimas į galą</td>\n",
       "      <td>2</td>\n",
       "      <td>0</td>\n",
       "      <td>...</td>\n",
       "      <td>None</td>\n",
       "      <td>1</td>\n",
       "      <td>50.0</td>\n",
       "      <td>Taip</td>\n",
       "      <td>Ne</td>\n",
       "      <td>Ne</td>\n",
       "      <td>6178087.0</td>\n",
       "      <td>336529.0</td>\n",
       "      <td>[{'dalyvisId': 48474937, 'kategorija': 'Automo...</td>\n",
       "      <td>[{'tpId': 33416867, 'regValstybe': 'Lietuva', ...</td>\n",
       "    </tr>\n",
       "    <tr>\n",
       "      <th>2</th>\n",
       "      <td>07-23-9588947</td>\n",
       "      <td>2023-01-01 00:38</td>\n",
       "      <td>2023-01-01 01:39</td>\n",
       "      <td>2023-01-02 14:44</td>\n",
       "      <td>0</td>\n",
       "      <td>Susidūrimas su stovinčia transporto priemone</td>\n",
       "      <td>Kiti susidūrimai</td>\n",
       "      <td>Kiti susidūrimai</td>\n",
       "      <td>2</td>\n",
       "      <td>0</td>\n",
       "      <td>...</td>\n",
       "      <td>None</td>\n",
       "      <td>1</td>\n",
       "      <td>20.0</td>\n",
       "      <td>Ne</td>\n",
       "      <td>Ne</td>\n",
       "      <td>Ne</td>\n",
       "      <td>6061672.0</td>\n",
       "      <td>582508.0</td>\n",
       "      <td>[{'dalyvisId': 48480520, 'kategorija': 'Automo...</td>\n",
       "      <td>[{'tpId': 33421658, 'regValstybe': 'Lietuva', ...</td>\n",
       "    </tr>\n",
       "    <tr>\n",
       "      <th>3</th>\n",
       "      <td>07-23-9588948</td>\n",
       "      <td>2023-01-01 00:35</td>\n",
       "      <td>2023-01-01 01:58</td>\n",
       "      <td>2023-01-01 02:17</td>\n",
       "      <td>0</td>\n",
       "      <td>Kiti eismo įvykiai</td>\n",
       "      <td>Nuvažiavimai nuo kelio</td>\n",
       "      <td>Nuvažiavimai nuo kelio į dešinę tiesiame ruože</td>\n",
       "      <td>1</td>\n",
       "      <td>0</td>\n",
       "      <td>...</td>\n",
       "      <td>None</td>\n",
       "      <td>1</td>\n",
       "      <td>110.0</td>\n",
       "      <td>Ne</td>\n",
       "      <td>Ne</td>\n",
       "      <td>Ne</td>\n",
       "      <td>6149775.0</td>\n",
       "      <td>540444.0</td>\n",
       "      <td>[{'dalyvisId': 48474443, 'kategorija': 'Automo...</td>\n",
       "      <td>[{'tpId': 33416857, 'regValstybe': 'Lietuva', ...</td>\n",
       "    </tr>\n",
       "    <tr>\n",
       "      <th>4</th>\n",
       "      <td>07-23-9588949</td>\n",
       "      <td>2022-12-31 23:53</td>\n",
       "      <td>2023-01-01 02:05</td>\n",
       "      <td>2023-02-13 10:50</td>\n",
       "      <td>0</td>\n",
       "      <td>Susidūrimas su stovinčia transporto priemone</td>\n",
       "      <td>Kiti eismo įvykiai</td>\n",
       "      <td>Susidūrimas su stovinčia TP</td>\n",
       "      <td>2</td>\n",
       "      <td>0</td>\n",
       "      <td>...</td>\n",
       "      <td>None</td>\n",
       "      <td>1</td>\n",
       "      <td>20.0</td>\n",
       "      <td>Ne</td>\n",
       "      <td>Ne</td>\n",
       "      <td>Ne</td>\n",
       "      <td>6069699.0</td>\n",
       "      <td>581077.0</td>\n",
       "      <td>[{'dalyvisId': 48579303, 'kategorija': 'Automo...</td>\n",
       "      <td>[{'tpId': 33533521, 'regValstybe': 'Lietuva', ...</td>\n",
       "    </tr>\n",
       "  </tbody>\n",
       "</table>\n",
       "<p>5 rows × 52 columns</p>\n",
       "</div>"
      ],
      "text/plain": [
       "   registrokodas        dataLaikas  registravimoData  \\\n",
       "0  07-23-9588945  2023-01-01 00:27  2023-01-01 01:04   \n",
       "1  07-23-9588946  2023-01-01 00:10  2023-01-01 01:04   \n",
       "2  07-23-9588947  2023-01-01 00:38  2023-01-01 01:39   \n",
       "3  07-23-9588948  2023-01-01 00:35  2023-01-01 01:58   \n",
       "4  07-23-9588949  2022-12-31 23:53  2023-01-01 02:05   \n",
       "\n",
       "  paskutinioRedagavimoLaikas  iskaitinis  \\\n",
       "0           2023-03-31 12:14           0   \n",
       "1           2023-01-01 02:50           0   \n",
       "2           2023-01-02 14:44           0   \n",
       "3           2023-01-01 02:17           0   \n",
       "4           2023-02-13 10:50           0   \n",
       "\n",
       "                                          rusis  \\\n",
       "0                            Kiti eismo įvykiai   \n",
       "1                                   Susidūrimas   \n",
       "2  Susidūrimas su stovinčia transporto priemone   \n",
       "3                            Kiti eismo įvykiai   \n",
       "4  Susidūrimas su stovinčia transporto priemone   \n",
       "\n",
       "                                schema1  \\\n",
       "0                    Kiti eismo įvykiai   \n",
       "1  Susidūrimai judant ta pačia kryptimi   \n",
       "2                      Kiti susidūrimai   \n",
       "3                Nuvažiavimai nuo kelio   \n",
       "4                    Kiti eismo įvykiai   \n",
       "\n",
       "                                          schema2  dalyviuSkaicius  \\\n",
       "0                              Kiti eismo įvykiai                2   \n",
       "1                            Atsitrenkimas į galą                2   \n",
       "2                                Kiti susidūrimai                2   \n",
       "3  Nuvažiavimai nuo kelio į dešinę tiesiame ruože                1   \n",
       "4                     Susidūrimas su stovinčia TP                2   \n",
       "\n",
       "   zuvusiuSkaicius  ...  kelioElementas2  privalomasLeistinasGreitis  \\\n",
       "0                0  ...             None                           1   \n",
       "1                0  ...             None                           1   \n",
       "2                0  ...             None                           1   \n",
       "3                0  ...             None                           1   \n",
       "4                0  ...             None                           1   \n",
       "\n",
       "   leistinasGreitis  neblaivusKaltininkai  apsvaigeKaltininkai  \\\n",
       "0              40.0                    Ne                   Ne   \n",
       "1              50.0                  Taip                   Ne   \n",
       "2              20.0                    Ne                   Ne   \n",
       "3             110.0                    Ne                   Ne   \n",
       "4              20.0                    Ne                   Ne   \n",
       "\n",
       "   atsisakeTikrintisKaltininkai     ilguma   platuma  \\\n",
       "0                            Ne  6063990.0  579292.0   \n",
       "1                            Ne  6178087.0  336529.0   \n",
       "2                            Ne  6061672.0  582508.0   \n",
       "3                            Ne  6149775.0  540444.0   \n",
       "4                            Ne  6069699.0  581077.0   \n",
       "\n",
       "                                       eismoDalyviai  \\\n",
       "0  [{'dalyvisId': 48690423, 'kategorija': 'Kiti',...   \n",
       "1  [{'dalyvisId': 48474937, 'kategorija': 'Automo...   \n",
       "2  [{'dalyvisId': 48480520, 'kategorija': 'Automo...   \n",
       "3  [{'dalyvisId': 48474443, 'kategorija': 'Automo...   \n",
       "4  [{'dalyvisId': 48579303, 'kategorija': 'Automo...   \n",
       "\n",
       "                                 eismoTranspPreimone  \n",
       "0  [{'tpId': 33646065, 'regValstybe': 'Lietuva', ...  \n",
       "1  [{'tpId': 33416867, 'regValstybe': 'Lietuva', ...  \n",
       "2  [{'tpId': 33421658, 'regValstybe': 'Lietuva', ...  \n",
       "3  [{'tpId': 33416857, 'regValstybe': 'Lietuva', ...  \n",
       "4  [{'tpId': 33533521, 'regValstybe': 'Lietuva', ...  \n",
       "\n",
       "[5 rows x 52 columns]"
      ]
     },
     "execution_count": 4,
     "metadata": {},
     "output_type": "execute_result"
    }
   ],
   "source": [
    "df.head()"
   ]
  },
  {
   "cell_type": "code",
   "execution_count": 36,
   "metadata": {},
   "outputs": [],
   "source": [
    "df1=df"
   ]
  },
  {
   "cell_type": "code",
   "execution_count": 37,
   "metadata": {},
   "outputs": [],
   "source": [
    "lytis=[]\n",
    "for i in df1['eismoDalyviai']:\n",
    "    try:\n",
    "        lytis.append(i[0]['lytis'])\n",
    "    except:\n",
    "        lytis.append(None)\n",
    "df1['lytis'] = lytis\n",
    "df1 = df1.dropna(subset='lytis')"
   ]
  },
  {
   "cell_type": "code",
   "execution_count": 7,
   "metadata": {},
   "outputs": [],
   "source": [
    "# antras lyties dublis\n",
    "\n",
    "# lytis=[]\n",
    "# mt=[]\n",
    "# for i in df1['eismoDalyviai']:\n",
    "#     try:\n",
    "#         lyt=None\n",
    "#         for j in i:\n",
    "#             mt.append(j['kaltininkas'])\n",
    "#             if j['kaltininkas'] == 'Taip':\n",
    "#                 lyt=(j['lytis'])\n",
    "#         lytis.append(lyt)\n",
    "#     except:\n",
    "#         lytis.append(None)\n",
    "# df1['lytis'] = lytis\n",
    "# df1 = df1.dropna(subset='lytis')"
   ]
  },
  {
   "cell_type": "code",
   "execution_count": 38,
   "metadata": {},
   "outputs": [
    {
     "data": {
      "text/plain": [
       "24240"
      ]
     },
     "execution_count": 38,
     "metadata": {},
     "output_type": "execute_result"
    }
   ],
   "source": [
    "len(lytis)"
   ]
  },
  {
   "cell_type": "code",
   "execution_count": 39,
   "metadata": {},
   "outputs": [],
   "source": [
    "df1=df1[['rusis', 'dataLaikas', 'dalyviuSkaicius', 'zuvusiuSkaicius', 'suzeistuSkaicius',\n",
    "         'tpSkaicius', 'dangosRusis', 'meteoSalygos', 'kelioGatvesKreive',\n",
    "         'leistinasGreitis', 'neblaivusKaltininkai', 'apsvaigeKaltininkai', 'ilguma', 'platuma', 'lytis' ]]\n",
    "\n",
    "df1=df1.dropna()"
   ]
  },
  {
   "cell_type": "code",
   "execution_count": 40,
   "metadata": {},
   "outputs": [],
   "source": [
    "menuo = []\n",
    "valanda=[]\n",
    "\n",
    "for i in df1['dataLaikas']:\n",
    "    val = i.split(' ')[-1].split(':')[0]\n",
    "    men = i.split('-')[1]\n",
    "    valanda.append(val)\n",
    "    menuo.append(men)\n",
    "    \n",
    "df1['menuo'] = menuo\n",
    "df1['valanda'] = valanda\n",
    "df1['menuo'] = df1['menuo'].astype(int)\n",
    "df1['valanda'] = df1['valanda'].astype(int)"
   ]
  },
  {
   "cell_type": "code",
   "execution_count": 41,
   "metadata": {},
   "outputs": [],
   "source": [
    "df1['rusis1'] = df1['rusis'].apply(lambda x: 1 if str(x) == 'Užvažiavimas ant gyvūno' else 0)"
   ]
  },
  {
   "cell_type": "code",
   "execution_count": 42,
   "metadata": {},
   "outputs": [],
   "source": [
    "# df1['rusis1'] = LabelEncoder().fit_transform(df1['rusis'])\n",
    "# rusis_kodas = dict(zip(df1['rusis'], df1['rusis1']))\n",
    "\n",
    "df1['dangosRusis1'] = LabelEncoder().fit_transform(df1['dangosRusis'])\n",
    "dangosRusis_kodas = dict(zip(df1['dangosRusis'], df1['dangosRusis1']))\n",
    "\n",
    "df1['meteoSalygos1'] = LabelEncoder().fit_transform(df1['meteoSalygos'])\n",
    "meteoSalygos_kodas = dict(zip(df1['meteoSalygos'], df1['meteoSalygos1']))\n",
    "\n",
    "df1['kelioGatvesKreive1'] = LabelEncoder().fit_transform(df1['kelioGatvesKreive'])\n",
    "kelioGatvesKreive_kodas = dict(zip(df1['kelioGatvesKreive'], df1['kelioGatvesKreive1']))\n",
    "\n",
    "df1['neblaivusKaltininkai1'] = LabelEncoder().fit_transform(df1['neblaivusKaltininkai'])\n",
    "neblaivusKaltininkai_kodas = dict(zip(df1['neblaivusKaltininkai'], df1['neblaivusKaltininkai1']))\n",
    "\n",
    "df1['apsvaigeKaltininkai1'] = LabelEncoder().fit_transform(df1['apsvaigeKaltininkai'])\n",
    "apsvaigeKaltininkai_kodas = dict(zip(df1['apsvaigeKaltininkai'], df1['apsvaigeKaltininkai1']))\n",
    "\n",
    "df1['lytis1'] = LabelEncoder().fit_transform(df1['lytis'])\n",
    "lytis_kodas = dict(zip(df1['lytis'], df1['lytis1']))\n"
   ]
  },
  {
   "cell_type": "code",
   "execution_count": 13,
   "metadata": {},
   "outputs": [
    {
     "data": {
      "text/plain": [
       "{'Vyras': 1, 'Moteris': 0}"
      ]
     },
     "execution_count": 13,
     "metadata": {},
     "output_type": "execute_result"
    }
   ],
   "source": [
    "lytis_kodas"
   ]
  },
  {
   "cell_type": "code",
   "execution_count": 43,
   "metadata": {},
   "outputs": [],
   "source": [
    "X= df1.drop(columns=['rusis', 'dataLaikas', 'dangosRusis', 'meteoSalygos', 'kelioGatvesKreive', 'neblaivusKaltininkai',\n",
    "                     'apsvaigeKaltininkai', 'lytis', 'rusis1' ])\n",
    "\n",
    "y=df1['rusis1']"
   ]
  },
  {
   "cell_type": "code",
   "execution_count": 44,
   "metadata": {},
   "outputs": [
    {
     "name": "stdout",
     "output_type": "stream",
     "text": [
      "Logistic Regression model accuracy (in %): 84.14517669531996\n"
     ]
    },
    {
     "name": "stderr",
     "output_type": "stream",
     "text": [
      "C:\\Users\\pauli\\AppData\\Roaming\\Python\\Python312\\site-packages\\sklearn\\linear_model\\_logistic.py:465: ConvergenceWarning: lbfgs failed to converge (status=1):\n",
      "STOP: TOTAL NO. of ITERATIONS REACHED LIMIT.\n",
      "\n",
      "Increase the number of iterations (max_iter) or scale the data as shown in:\n",
      "    https://scikit-learn.org/stable/modules/preprocessing.html\n",
      "Please also refer to the documentation for alternative solver options:\n",
      "    https://scikit-learn.org/stable/modules/linear_model.html#logistic-regression\n",
      "  n_iter_i = _check_optimize_result(\n"
     ]
    }
   ],
   "source": [
    "X_train, X_test, y_train, y_test = train_test_split(X, y, test_size=0.3, random_state=23)\n",
    "\n",
    "clf = LogisticRegression(random_state=0)\n",
    "clf.fit(X_train, y_train)\n",
    "# Prediction\n",
    "y_pred = clf.predict(X_test)\n",
    "acc = accuracy_score(y_test, y_pred)\n",
    "print(\"Logistic Regression model accuracy (in %):\", acc*100)"
   ]
  },
  {
   "cell_type": "code",
   "execution_count": 16,
   "metadata": {},
   "outputs": [
    {
     "name": "stdout",
     "output_type": "stream",
     "text": [
      "<class 'pandas.core.frame.DataFrame'>\n",
      "Index: 20937 entries, 0 to 24239\n",
      "Data columns (total 24 columns):\n",
      " #   Column                 Non-Null Count  Dtype  \n",
      "---  ------                 --------------  -----  \n",
      " 0   rusis                  20937 non-null  object \n",
      " 1   dataLaikas             20937 non-null  object \n",
      " 2   dalyviuSkaicius        20937 non-null  int64  \n",
      " 3   zuvusiuSkaicius        20937 non-null  int64  \n",
      " 4   suzeistuSkaicius       20937 non-null  int64  \n",
      " 5   tpSkaicius             20937 non-null  int64  \n",
      " 6   dangosRusis            20937 non-null  object \n",
      " 7   meteoSalygos           20937 non-null  object \n",
      " 8   kelioGatvesKreive      20937 non-null  object \n",
      " 9   leistinasGreitis       20937 non-null  float64\n",
      " 10  neblaivusKaltininkai   20937 non-null  object \n",
      " 11  apsvaigeKaltininkai    20937 non-null  object \n",
      " 12  ilguma                 20937 non-null  float64\n",
      " 13  platuma                20937 non-null  float64\n",
      " 14  lytis                  20937 non-null  object \n",
      " 15  menuo                  20937 non-null  int64  \n",
      " 16  valanda                20937 non-null  int64  \n",
      " 17  rusis1                 20937 non-null  int64  \n",
      " 18  dangosRusis1           20937 non-null  int64  \n",
      " 19  meteoSalygos1          20937 non-null  int64  \n",
      " 20  kelioGatvesKreive1     20937 non-null  int64  \n",
      " 21  neblaivusKaltininkai1  20937 non-null  int64  \n",
      " 22  apsvaigeKaltininkai1   20937 non-null  int64  \n",
      " 23  lytis1                 20937 non-null  int64  \n",
      "dtypes: float64(3), int64(13), object(8)\n",
      "memory usage: 4.0+ MB\n"
     ]
    }
   ],
   "source": [
    "df1.info()"
   ]
  },
  {
   "cell_type": "code",
   "execution_count": 17,
   "metadata": {},
   "outputs": [],
   "source": [
    "df1['rusis2'] = LabelEncoder().fit_transform(df1['rusis'])\n",
    "rusis_kodas = dict(zip(df1['rusis'], df1['rusis2']))"
   ]
  },
  {
   "cell_type": "code",
   "execution_count": 18,
   "metadata": {},
   "outputs": [],
   "source": [
    "X= df1.drop(columns=['rusis', 'dataLaikas', 'dangosRusis', 'meteoSalygos', 'kelioGatvesKreive', 'neblaivusKaltininkai',\n",
    "                     'apsvaigeKaltininkai', 'lytis', 'lytis1', 'rusis1' ])\n",
    "\n",
    "y=df1['lytis1']"
   ]
  },
  {
   "cell_type": "code",
   "execution_count": 31,
   "metadata": {},
   "outputs": [
    {
     "name": "stdout",
     "output_type": "stream",
     "text": [
      "Logistic Regression model accuracy (in %): 71.23527539000318\n"
     ]
    },
    {
     "name": "stderr",
     "output_type": "stream",
     "text": [
      "C:\\Users\\pauli\\AppData\\Roaming\\Python\\Python312\\site-packages\\sklearn\\linear_model\\_logistic.py:465: ConvergenceWarning: lbfgs failed to converge (status=1):\n",
      "STOP: TOTAL NO. of ITERATIONS REACHED LIMIT.\n",
      "\n",
      "Increase the number of iterations (max_iter) or scale the data as shown in:\n",
      "    https://scikit-learn.org/stable/modules/preprocessing.html\n",
      "Please also refer to the documentation for alternative solver options:\n",
      "    https://scikit-learn.org/stable/modules/linear_model.html#logistic-regression\n",
      "  n_iter_i = _check_optimize_result(\n"
     ]
    }
   ],
   "source": [
    "X_train, X_test, y_train, y_test = train_test_split(X, y, test_size=0.3, random_state=23)\n",
    "\n",
    "clf = LogisticRegression(random_state=0)\n",
    "clf.fit(X_train, y_train)\n",
    "# Prediction\n",
    "y_pred = clf.predict(X_test)\n",
    "acc = accuracy_score(y_test, y_pred)\n",
    "print(\"Logistic Regression model accuracy (in %):\", acc*100)"
   ]
  },
  {
   "cell_type": "code",
   "execution_count": 20,
   "metadata": {},
   "outputs": [],
   "source": [
    "df2=df1.groupby(['rusis', 'lytis'])['menuo'].count().reset_index()"
   ]
  },
  {
   "cell_type": "code",
   "execution_count": 21,
   "metadata": {},
   "outputs": [
    {
     "data": {
      "image/png": "[encoded data removed]",
      "text/plain": [
       "<Figure size 640x480 with 1 Axes>"
      ]
     },
     "metadata": {},
     "output_type": "display_data"
    }
   ],
   "source": [
    "sns.barplot(data=df2, x= 'rusis', y='menuo', hue = 'lytis')\n",
    "plt.title('Avarijų kiekis ir rūšis pagal lytį')\n",
    "plt.ylabel('įvykių skaičius')\n",
    "plt.xlabel('įvykio rūšis')\n",
    "plt.xticks(rotation=90)\n",
    "plt.show()"
   ]
  },
  {
   "cell_type": "code",
   "execution_count": 22,
   "metadata": {},
   "outputs": [],
   "source": [
    "df3=df2.groupby('lytis')['menuo'].sum()\n",
    "moterys= df3.values[0]\n",
    "vyrai = df3.values[1]"
   ]
  },
  {
   "cell_type": "code",
   "execution_count": 23,
   "metadata": {},
   "outputs": [],
   "source": [
    "df2['proc'] = df2.apply(lambda row: (row['menuo'] / moterys)*100 if row['lytis'] == \"Moteris\" \n",
    "                        else (row['menuo'] / vyrai)*100, axis=1)"
   ]
  },
  {
   "cell_type": "code",
   "execution_count": 24,
   "metadata": {},
   "outputs": [
    {
     "data": {
      "text/html": [
       "<div>\n",
       "<style scoped>\n",
       "    .dataframe tbody tr th:only-of-type {\n",
       "        vertical-align: middle;\n",
       "    }\n",
       "\n",
       "    .dataframe tbody tr th {\n",
       "        vertical-align: top;\n",
       "    }\n",
       "\n",
       "    .dataframe thead th {\n",
       "        text-align: right;\n",
       "    }\n",
       "</style>\n",
       "<table border=\"1\" class=\"dataframe\">\n",
       "  <thead>\n",
       "    <tr style=\"text-align: right;\">\n",
       "      <th></th>\n",
       "      <th>rusis</th>\n",
       "      <th>lytis</th>\n",
       "      <th>menuo</th>\n",
       "      <th>proc</th>\n",
       "    </tr>\n",
       "  </thead>\n",
       "  <tbody>\n",
       "    <tr>\n",
       "      <th>0</th>\n",
       "      <td>Apvirtimas</td>\n",
       "      <td>Moteris</td>\n",
       "      <td>127</td>\n",
       "      <td>2.091568</td>\n",
       "    </tr>\n",
       "    <tr>\n",
       "      <th>1</th>\n",
       "      <td>Apvirtimas</td>\n",
       "      <td>Vyras</td>\n",
       "      <td>413</td>\n",
       "      <td>2.778338</td>\n",
       "    </tr>\n",
       "    <tr>\n",
       "      <th>2</th>\n",
       "      <td>Kiti eismo įvykiai</td>\n",
       "      <td>Moteris</td>\n",
       "      <td>758</td>\n",
       "      <td>12.483531</td>\n",
       "    </tr>\n",
       "    <tr>\n",
       "      <th>3</th>\n",
       "      <td>Kiti eismo įvykiai</td>\n",
       "      <td>Vyras</td>\n",
       "      <td>2197</td>\n",
       "      <td>14.779684</td>\n",
       "    </tr>\n",
       "    <tr>\n",
       "      <th>4</th>\n",
       "      <td>Susidūrimas</td>\n",
       "      <td>Moteris</td>\n",
       "      <td>1498</td>\n",
       "      <td>24.670619</td>\n",
       "    </tr>\n",
       "    <tr>\n",
       "      <th>5</th>\n",
       "      <td>Susidūrimas</td>\n",
       "      <td>Vyras</td>\n",
       "      <td>3168</td>\n",
       "      <td>21.311806</td>\n",
       "    </tr>\n",
       "    <tr>\n",
       "      <th>6</th>\n",
       "      <td>Susidūrimas su bėgine transporto priemone</td>\n",
       "      <td>Vyras</td>\n",
       "      <td>1</td>\n",
       "      <td>0.006727</td>\n",
       "    </tr>\n",
       "    <tr>\n",
       "      <th>7</th>\n",
       "      <td>Susidūrimas su dviračiu</td>\n",
       "      <td>Moteris</td>\n",
       "      <td>143</td>\n",
       "      <td>2.355072</td>\n",
       "    </tr>\n",
       "    <tr>\n",
       "      <th>8</th>\n",
       "      <td>Susidūrimas su dviračiu</td>\n",
       "      <td>Vyras</td>\n",
       "      <td>361</td>\n",
       "      <td>2.428523</td>\n",
       "    </tr>\n",
       "    <tr>\n",
       "      <th>9</th>\n",
       "      <td>Susidūrimas su mopedu</td>\n",
       "      <td>Moteris</td>\n",
       "      <td>10</td>\n",
       "      <td>0.164690</td>\n",
       "    </tr>\n",
       "    <tr>\n",
       "      <th>10</th>\n",
       "      <td>Susidūrimas su mopedu</td>\n",
       "      <td>Vyras</td>\n",
       "      <td>45</td>\n",
       "      <td>0.302725</td>\n",
       "    </tr>\n",
       "    <tr>\n",
       "      <th>11</th>\n",
       "      <td>Susidūrimas su motociklu</td>\n",
       "      <td>Moteris</td>\n",
       "      <td>41</td>\n",
       "      <td>0.675231</td>\n",
       "    </tr>\n",
       "    <tr>\n",
       "      <th>12</th>\n",
       "      <td>Susidūrimas su motociklu</td>\n",
       "      <td>Vyras</td>\n",
       "      <td>131</td>\n",
       "      <td>0.881265</td>\n",
       "    </tr>\n",
       "    <tr>\n",
       "      <th>13</th>\n",
       "      <td>Susidūrimas su stovinčia transporto priemone</td>\n",
       "      <td>Moteris</td>\n",
       "      <td>1248</td>\n",
       "      <td>20.553360</td>\n",
       "    </tr>\n",
       "    <tr>\n",
       "      <th>14</th>\n",
       "      <td>Susidūrimas su stovinčia transporto priemone</td>\n",
       "      <td>Vyras</td>\n",
       "      <td>2074</td>\n",
       "      <td>13.952237</td>\n",
       "    </tr>\n",
       "    <tr>\n",
       "      <th>15</th>\n",
       "      <td>Užvažiavimas ant gyvūno</td>\n",
       "      <td>Moteris</td>\n",
       "      <td>1641</td>\n",
       "      <td>27.025692</td>\n",
       "    </tr>\n",
       "    <tr>\n",
       "      <th>16</th>\n",
       "      <td>Užvažiavimas ant gyvūno</td>\n",
       "      <td>Vyras</td>\n",
       "      <td>4891</td>\n",
       "      <td>32.902792</td>\n",
       "    </tr>\n",
       "    <tr>\n",
       "      <th>17</th>\n",
       "      <td>Užvažiavimas ant kliūties</td>\n",
       "      <td>Moteris</td>\n",
       "      <td>272</td>\n",
       "      <td>4.479578</td>\n",
       "    </tr>\n",
       "    <tr>\n",
       "      <th>18</th>\n",
       "      <td>Užvažiavimas ant kliūties</td>\n",
       "      <td>Vyras</td>\n",
       "      <td>1090</td>\n",
       "      <td>7.332661</td>\n",
       "    </tr>\n",
       "    <tr>\n",
       "      <th>19</th>\n",
       "      <td>Užvažiavimas ant pėsčiojo</td>\n",
       "      <td>Moteris</td>\n",
       "      <td>334</td>\n",
       "      <td>5.500659</td>\n",
       "    </tr>\n",
       "    <tr>\n",
       "      <th>20</th>\n",
       "      <td>Užvažiavimas ant pėsčiojo</td>\n",
       "      <td>Vyras</td>\n",
       "      <td>494</td>\n",
       "      <td>3.323243</td>\n",
       "    </tr>\n",
       "  </tbody>\n",
       "</table>\n",
       "</div>"
      ],
      "text/plain": [
       "                                           rusis    lytis  menuo       proc\n",
       "0                                     Apvirtimas  Moteris    127   2.091568\n",
       "1                                     Apvirtimas    Vyras    413   2.778338\n",
       "2                             Kiti eismo įvykiai  Moteris    758  12.483531\n",
       "3                             Kiti eismo įvykiai    Vyras   2197  14.779684\n",
       "4                                    Susidūrimas  Moteris   1498  24.670619\n",
       "5                                    Susidūrimas    Vyras   3168  21.311806\n",
       "6      Susidūrimas su bėgine transporto priemone    Vyras      1   0.006727\n",
       "7                        Susidūrimas su dviračiu  Moteris    143   2.355072\n",
       "8                        Susidūrimas su dviračiu    Vyras    361   2.428523\n",
       "9                          Susidūrimas su mopedu  Moteris     10   0.164690\n",
       "10                         Susidūrimas su mopedu    Vyras     45   0.302725\n",
       "11                      Susidūrimas su motociklu  Moteris     41   0.675231\n",
       "12                      Susidūrimas su motociklu    Vyras    131   0.881265\n",
       "13  Susidūrimas su stovinčia transporto priemone  Moteris   1248  20.553360\n",
       "14  Susidūrimas su stovinčia transporto priemone    Vyras   2074  13.952237\n",
       "15                       Užvažiavimas ant gyvūno  Moteris   1641  27.025692\n",
       "16                       Užvažiavimas ant gyvūno    Vyras   4891  32.902792\n",
       "17                     Užvažiavimas ant kliūties  Moteris    272   4.479578\n",
       "18                     Užvažiavimas ant kliūties    Vyras   1090   7.332661\n",
       "19                     Užvažiavimas ant pėsčiojo  Moteris    334   5.500659\n",
       "20                     Užvažiavimas ant pėsčiojo    Vyras    494   3.323243"
      ]
     },
     "execution_count": 24,
     "metadata": {},
     "output_type": "execute_result"
    }
   ],
   "source": [
    "df2.head(30)"
   ]
  },
  {
   "cell_type": "code",
   "execution_count": 25,
   "metadata": {},
   "outputs": [],
   "source": [
    "# Antra - logistinės regresijos ir sprendimų medžio (classsifier) palyginimas -\n",
    "# paimkite savo ankstesnį kodą, skirtą nustatyti, ar eismo įvykis buv su gyvūnu, \n",
    "# ar ne, atliktą su logistine regresija. Pritaikykite DecisionTreeClassifier().\n",
    "# paskaičiuokite accuracy_score abiems atvejams. Vizualizuokite comfusiom matrix \n",
    "# abiems atvejams. Patestuokite su keliais konkrečiais atvejais. Kuris modelis spėdavo geriau?"
   ]
  },
  {
   "cell_type": "code",
   "execution_count": 33,
   "metadata": {},
   "outputs": [],
   "source": [
    "from sklearn.tree import DecisionTreeClassifier\n",
    "from sklearn.metrics import accuracy_score\n"
   ]
  },
  {
   "cell_type": "code",
   "execution_count": 45,
   "metadata": {},
   "outputs": [
    {
     "name": "stdout",
     "output_type": "stream",
     "text": [
      "lala 89.19134033747214\n"
     ]
    }
   ],
   "source": [
    "clf = DecisionTreeClassifier(random_state=42)\n",
    "clf.fit(X_train, y_train)\n",
    "y_pred = clf.predict(X_test)\n",
    "accuracy = accuracy_score(y_test, y_pred)\n",
    "print(\"lala\", accuracy*100)"
   ]
  }
 ],
 "metadata": {
  "kernelspec": {
   "display_name": "Python 3",
   "language": "python",
   "name": "python3"
  },
  "language_info": {
   "codemirror_mode": {
    "name": "ipython",
    "version": 3
   },
   "file_extension": ".py",
   "mimetype": "text/x-python",
   "name": "python",
   "nbconvert_exporter": "python",
   "pygments_lexer": "ipython3",
   "version": "3.12.4"
  }
 },
 "nbformat": 4,
 "nbformat_minor": 2
}
