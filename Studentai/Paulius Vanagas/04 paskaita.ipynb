{
 "cells": [
  {
   "cell_type": "code",
   "execution_count": 4,
   "metadata": {},
   "outputs": [
    {
     "name": "stdout",
     "output_type": "stream",
     "text": [
      "91237.0\n"
     ]
    }
   ],
   "source": [
    "d1 = {\"cost_price\": 32.67, \"sell_price\": 45.00,\n",
    "\"inventory\": 1200}\n",
    "d2 = {\"cost_price\": 225.89,\n",
    "\"sell_price\": 550.00,\n",
    "\"inventory\": 100}\n",
    "d3 = {\"cost_price\": 2.77,\n",
    "\"sell_price\": 7.95,\n",
    "\"inventory\": 8500}\n",
    "\n",
    "pelnas=(d1[\"sell_price\"]-d1[\"cost_price\"])*d1[\"inventory\"] + (d2[\"sell_price\"]-d2[\"cost_price\"])*d2[\"inventory\"] + (d3[\"sell_price\"]-d3[\"cost_price\"])*d3[\"inventory\"]\n",
    "print(pelnas)"
   ]
  },
  {
   "cell_type": "code",
   "execution_count": 10,
   "metadata": {},
   "outputs": [
    {
     "name": "stdout",
     "output_type": "stream",
     "text": [
      "qqq\n",
      "qqq\n",
      "qqq\n"
     ]
    }
   ],
   "source": [
    "s = str(input('iveskite simboli'))\n",
    "i = int(input('iveskite naturaluji skaiciu'))\n",
    "\n",
    "for a in range(0, i):\n",
    "    print(s*i)"
   ]
  },
  {
   "cell_type": "code",
   "execution_count": 12,
   "metadata": {},
   "outputs": [
    {
     "name": "stdout",
     "output_type": "stream",
     "text": [
      "a\n",
      "aa\n",
      "aaa\n",
      "aaaa\n",
      "aaaaa\n",
      "aaaaaa\n"
     ]
    }
   ],
   "source": [
    "s = str(input('iveskite simboli'))\n",
    "i = int(input('iveskite naturaluji skaiciu'))\n",
    "for a in range(0, i):\n",
    "    print(s*(a+1))"
   ]
  },
  {
   "cell_type": "code",
   "execution_count": 14,
   "metadata": {},
   "outputs": [
    {
     "name": "stdout",
     "output_type": "stream",
     "text": [
      "Vilnius\n",
      "Rokiškis\n",
      "Mažeikiai\n"
     ]
    }
   ],
   "source": [
    "miestai = ['Vilnius', 'Kaunas', 'Alytus', 'Rokiškis', 'Ūla', 'Mažeikiai', 'Akmena']\n",
    "\n",
    "for a in range(0, len(miestai)):\n",
    "    if len(miestai[a])>6:\n",
    "        print(miestai[a])\n"
   ]
  }
 ],
 "metadata": {
  "kernelspec": {
   "display_name": "Python 3",
   "language": "python",
   "name": "python3"
  },
  "language_info": {
   "codemirror_mode": {
    "name": "ipython",
    "version": 3
   },
   "file_extension": ".py",
   "mimetype": "text/x-python",
   "name": "python",
   "nbconvert_exporter": "python",
   "pygments_lexer": "ipython3",
   "version": "3.12.4"
  }
 },
 "nbformat": 4,
 "nbformat_minor": 2
}
