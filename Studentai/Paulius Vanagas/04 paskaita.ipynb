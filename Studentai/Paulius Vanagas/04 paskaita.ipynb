{
 "cells": [
  {
   "cell_type": "code",
   "execution_count": 4,
   "metadata": {},
   "outputs": [
    {
     "name": "stdout",
     "output_type": "stream",
     "text": [
      "91237.0\n"
     ]
    }
   ],
   "source": [
    "d1 = {\"cost_price\": 32.67, \"sell_price\": 45.00,\n",
    "\"inventory\": 1200}\n",
    "d2 = {\"cost_price\": 225.89,\n",
    "\"sell_price\": 550.00,\n",
    "\"inventory\": 100}\n",
    "d3 = {\"cost_price\": 2.77,\n",
    "\"sell_price\": 7.95,\n",
    "\"inventory\": 8500}\n",
    "\n",
    "pelnas=(d1[\"sell_price\"]-d1[\"cost_price\"])*d1[\"inventory\"] + (d2[\"sell_price\"]-d2[\"cost_price\"])*d2[\"inventory\"] + (d3[\"sell_price\"]-d3[\"cost_price\"])*d3[\"inventory\"]\n",
    "print(pelnas)"
   ]
  },
  {
   "cell_type": "code",
   "execution_count": 10,
   "metadata": {},
   "outputs": [
    {
     "name": "stdout",
     "output_type": "stream",
     "text": [
      "qqq\n",
      "qqq\n",
      "qqq\n"
     ]
    }
   ],
   "source": [
    "s = str(input('iveskite simboli'))\n",
    "i = int(input('iveskite naturaluji skaiciu'))\n",
    "\n",
    "for a in range(0, i):\n",
    "    print(s*i)"
   ]
  },
  {
   "cell_type": "code",
   "execution_count": 12,
   "metadata": {},
   "outputs": [
    {
     "name": "stdout",
     "output_type": "stream",
     "text": [
      "a\n",
      "aa\n",
      "aaa\n",
      "aaaa\n",
      "aaaaa\n",
      "aaaaaa\n"
     ]
    }
   ],
   "source": [
    "s = str(input('iveskite simboli'))\n",
    "i = int(input('iveskite naturaluji skaiciu'))\n",
    "for a in range(0, i):\n",
    "    print(s*(a+1))"
   ]
  },
  {
   "cell_type": "code",
   "execution_count": 14,
   "metadata": {},
   "outputs": [
    {
     "name": "stdout",
     "output_type": "stream",
     "text": [
      "Vilnius\n",
      "Rokiškis\n",
      "Mažeikiai\n"
     ]
    }
   ],
   "source": [
    "miestai = ['Vilnius', 'Kaunas', 'Alytus', 'Rokiškis', 'Ūla', 'Mažeikiai', 'Akmena']\n",
    "\n",
    "for a in range(0, len(miestai)):\n",
    "    if len(miestai[a])>6:\n",
    "        print(miestai[a])\n"
   ]
  },
  {
   "cell_type": "code",
   "execution_count": 10,
   "metadata": {},
   "outputs": [
    {
     "name": "stdout",
     "output_type": "stream",
     "text": [
      "[1, 6, 15, 28, 45, 66, 91, 120, 153, 190]\n",
      "[1.0, 0.6666666666666666, 0.6, 0.5714285714285714, 0.5555555555555556, 0.5454545454545454, 0.5384615384615384, 0.5333333333333333, 0.5294117647058824, 0.5263157894736842]\n",
      "[1, 4, 9, 16, 25, 36, 49, 64, 81, 100]\n"
     ]
    }
   ],
   "source": [
    "a = [1,2,3,4,5,6,7,8,9,10] \n",
    "b = [1,3,5,7,9,11,13,15,17,19]\n",
    "c=[]\n",
    "d=[]\n",
    "e=[]\n",
    "for a1, b1 in zip(a,b):\n",
    "    c.append(a1*b1)\n",
    "    d.append((a1/b1))\n",
    "    e.append(a1**2)\n",
    "\n",
    "print(c)\n",
    "print(d)\n",
    "print(e)"
   ]
  },
  {
   "cell_type": "code",
   "execution_count": 11,
   "metadata": {},
   "outputs": [
    {
     "name": "stdout",
     "output_type": "stream",
     "text": [
      "[10, 5, 20, 35, 55, 65, 75, 85, 95, 105]\n",
      "[2, 2, 12, 28, 55, 78, 105, 136, 171, 210]\n",
      "[0.5, 2.0, 0.75, 0.5714285714285714, 0.45454545454545453, 0.46153846153846156, 0.4666666666666667, 0.47058823529411764, 0.47368421052631576, 0.47619047619047616]\n"
     ]
    }
   ],
   "source": [
    "x = [1,2,3,4,5,6,7,8,9,10] \n",
    "y = [2,1,4,7,11,13,15,17,19,21]\n",
    "a= 5 #cia mano \"imput\"\n",
    "xd=[]\n",
    "for i in x:\n",
    "    xd.append(i*a)\n",
    "yd=[]\n",
    "for i in y:\n",
    "    yd.append(i*a)\n",
    "\n",
    "c=[]\n",
    "for x1, y1 in zip(x,y):\n",
    "    c.append(x1*y1)\n",
    "    \n",
    "d=[]\n",
    "for x1, y1 in zip(x,y):\n",
    "    d.append(x1/y1)\n",
    "\n",
    "print(yd)\n",
    "print(c)\n",
    "print(d)"
   ]
  },
  {
   "cell_type": "code",
   "execution_count": 16,
   "metadata": {},
   "outputs": [
    {
     "name": "stdout",
     "output_type": "stream",
     "text": [
      "lyginiu aritmetinis vidurkis 19.666666666666668\n",
      "nelyginiu aritmetinis vidurkis 10.333333333333334\n",
      "lyginiu geometrinis vidurkis 11.542998948276226\n",
      "nelyginiu geometrinis vidurkis 7.447789060288642\n"
     ]
    }
   ],
   "source": [
    "x = [1,2,3,4,5,7,8,9,11,17,19,21,22,40,42]\n",
    "l=0\n",
    "n=0\n",
    "lc=0\n",
    "nc=0\n",
    "ld=1\n",
    "nd=1\n",
    "for a in x:\n",
    "    if a % 2 == 0:\n",
    "        l=l+a\n",
    "        lc=lc+1\n",
    "        ld=ld*a\n",
    "    else:\n",
    "        n=n+a\n",
    "        nc=nc+1\n",
    "        nd=nd*a\n",
    "\n",
    "al =l/lc\n",
    "an = n/nc\n",
    "gl = ld**(1/lc)\n",
    "gn = nd**(1/nc)\n",
    "print('lyginiu aritmetinis vidurkis', al)\n",
    "print('nelyginiu aritmetinis vidurkis', an)\n",
    "print('lyginiu geometrinis vidurkis', gl)\n",
    "print('nelyginiu geometrinis vidurkis', gn)"
   ]
  },
  {
   "cell_type": "code",
   "execution_count": 62,
   "metadata": {},
   "outputs": [
    {
     "name": "stdout",
     "output_type": "stream",
     "text": [
      "14850.0\n",
      "197148.66666666666\n",
      "13.133333333333333\n"
     ]
    }
   ],
   "source": [
    "auto = [('BMW', 'M5', '253 000 km', '2005-12', '19 500'), ('Mitsubishi', 'Outlander', '195 405 km', '2006', '2 700'), ('Seat', 'Arona', '129 800 km', '2019-11', '13 490'), ('Skoda', 'Octavia Scout', '183 000 km', '2015-06', '14 650'), ('Volvo', 'XC90', '127 896 km', '2018-08', '38 000'), ('Audi', '80', '194 000 km', '1987-07', '1 200'), ('Dacia', 'Lodgy', '102 122 km', '2013-03', '8 000'), ('Skoda', 'Octavia', '227 937 km', '2017-11', '11 990'), ('BMW', '320', '158 486 km', '2017-07', '16 190'), ('Volkswagen', 'Passat', '150 869 km', '2019-01', '16 490'), ('BMW', '520', '74 455 km', '2018-03', '28 900'), ('Mercedes-Benz', 'GLE Coupe 350', '194 000 km', '2016-11', '42 500'), ('Ford', 'C-MAX', '276 260 km', '2005-06', '2 000'), ('BMW', 'X3', '290 000 km', '2004-11', '3 390'), ('BMW', '530', '400 000 km', '2004', '3 750')]\n",
    "\n",
    "kaina = 0\n",
    "rida = 0\n",
    "amzius=0\n",
    "\n",
    "for a in range(len(auto)):\n",
    "    l =int(auto[a][4].replace(' ', ''))\n",
    "    kaina = kaina + l\n",
    "    \n",
    "    r1= auto[a][2].replace(' ', '')\n",
    "    r=int(r1.replace('km', ''))\n",
    "    rida = rida+r\n",
    "    \n",
    "    a1=auto[a][3]\n",
    "    a1=int(a1[:4])\n",
    "    amzius=amzius+a1\n",
    "\n",
    "print(kaina/len(auto))\n",
    "print(rida/(len(auto)))\n",
    "a2=((2024*len(auto))-amzius)/len(auto)\n",
    "print(a2)\n"
   ]
  },
  {
   "cell_type": "code",
   "execution_count": 82,
   "metadata": {},
   "outputs": [
    {
     "name": "stdout",
     "output_type": "stream",
     "text": [
      "25000\n",
      "36000\n",
      "42000\n",
      "31000\n",
      "75000\n",
      "daugiausiai nuvaziavo Nissan\n",
      "maziausiai nuvaziavo WV\n"
     ]
    }
   ],
   "source": [
    "cl = [{'Modelis':'WV', 'rida':25000},{'Modelis':'Audi', 'rida':36000},{'Modelis':'Ford',\n",
    "'rida':42000},{'Modelis':'Toyota', 'rida':31000},{'Modelis':'Nissan', 'rida':75000}]\n",
    "\n",
    "b=0\n",
    "f=cl[0]['rida']\n",
    "for a in cl:\n",
    "    a['rida']\n",
    "    print(a['rida'])\n",
    "    \n",
    "    if int(a['rida']) > b:\n",
    "        b=int(a['rida'])\n",
    "        c=a['Modelis']\n",
    "    \n",
    "    if int(a['rida']) < f:\n",
    "        f=int(a['rida'])\n",
    "        d=a['Modelis']\n",
    "        \n",
    "print('daugiausiai nuvaziavo', c)\n",
    "\n",
    "print('maziausiai nuvaziavo', d)\n",
    "\n",
    "    "
   ]
  }
 ],
 "metadata": {
  "kernelspec": {
   "display_name": "Python 3",
   "language": "python",
   "name": "python3"
  },
  "language_info": {
   "codemirror_mode": {
    "name": "ipython",
    "version": 3
   },
   "file_extension": ".py",
   "mimetype": "text/x-python",
   "name": "python",
   "nbconvert_exporter": "python",
   "pygments_lexer": "ipython3",
   "version": "3.12.4"
  }
 },
 "nbformat": 4,
 "nbformat_minor": 2
}
