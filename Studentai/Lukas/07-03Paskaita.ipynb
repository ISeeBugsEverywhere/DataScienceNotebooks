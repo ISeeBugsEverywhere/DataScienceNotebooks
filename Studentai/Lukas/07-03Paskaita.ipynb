{
 "cells": [
  {
   "cell_type": "code",
   "execution_count": 3,
   "metadata": {},
   "outputs": [
    {
     "name": "stdout",
     "output_type": "stream",
     "text": [
      "[0, 1, 2, 3, 4, 5, 6, 7, 8, 9]\n",
      "[0, 5, 10, 15, 20, 25, 30, 35, 40, 45]\n"
     ]
    }
   ],
   "source": [
    "x = [*range(10)]\n",
    "print(x)\n",
    "# sukurkite naują sąrašą, kuriame x elemntai būtų pakdauginti iš jūsų įvesto skaičiaus\n",
    "\n",
    "try:\n",
    "    sk = int(input('skaicius?'))\n",
    "except ValueError as ex:\n",
    "    print(ex)\n",
    "\n",
    "y = [i*sk for i in x]\n",
    "print(y)"
   ]
  },
  {
   "cell_type": "code",
   "execution_count": 5,
   "metadata": {},
   "outputs": [
    {
     "name": "stdout",
     "output_type": "stream",
     "text": [
      "('19 500', '2 700', '13 490', '14 650', '38 000', '1 200', '8 000', '11 990', '16 190', '16 490')\n",
      "[19500.0, 2700.0, 13490.0, 14650.0, 38000.0, 1200.0, 8000.0, 11990.0, 16190.0, 16490.0]\n"
     ]
    }
   ],
   "source": [
    "x=('19 500', '2 700', '13 490', '14 650', '38 000', '1 200', '8 000', '11 990', '16 190', '16 490')\n",
    "# sukurkite sąrašą, kuriame būtų duoti tekstai paversti į skaičius (float) tipo.\n",
    "y = [float(i.replace(\" \", \"\")) for i in x]\n",
    "print(x)\n",
    "print(y)"
   ]
  },
  {
   "cell_type": "code",
   "execution_count": 8,
   "metadata": {},
   "outputs": [
    {
     "name": "stdout",
     "output_type": "stream",
     "text": [
      "['BMW', 'MITsubishi', 'SEAt', 'SKOda', 'VOLvo', 'AUDi', 'DACia', 'SKOda', 'BMW', 'VOLkswagen']\n"
     ]
    }
   ],
   "source": [
    "x = ('BMW', 'Mitsubishi', 'Seat', 'Skoda', 'Volvo', 'Audi', 'Dacia', 'Skoda', 'BMW', 'Volkswagen')\n",
    "# sukurkite sąrašą, kur būtų pirmi 3 simboliai gamintojų, didžiosiomis raidėmis\n",
    "y = [i[:3].upper() + i[3:] for i in x]\n",
    "print(y)"
   ]
  },
  {
   "cell_type": "code",
   "execution_count": 22,
   "metadata": {},
   "outputs": [
    {
     "name": "stdout",
     "output_type": "stream",
     "text": [
      "['4999 cm3', '2378 cm3', '1598 cm3', '1798 cm3', '1969 cm3', '1760 cm3', '1461 cm3', '1600 cm3', '2000 cm3', '1600 cm3']\n",
      "['507 AG', '160 AG', '95 AG', '179 AG', '235 AG', '88 AG', '107 AG', '116 AG', '163 AG', '120 AG']\n",
      "['373kW', '118kW', '70kW', '132kW', '173kW', '65kW', '79kW', '85kW', '120kW', '88kW']\n"
     ]
    }
   ],
   "source": [
    "x = ('4999 cm³, 507 AG (373kW)', '2378 cm³, 160 AG (118kW)', '1598 cm³, 95 AG (70kW)', '1798 cm³, 179 AG (132kW)', '1969 cm³, 235 AG (173kW)', '1760 cm³, 88 AG (65kW)', '1461 cm³, 107 AG (79kW)', '1600 cm³, 116 AG (85kW)', '2000 cm³, 163 AG (120kW)', '1600 cm³, 120 AG (88kW)')\n",
    "# Atskirkite į tris sąrašus tūrį, AG ir kW.\n",
    "\n",
    "    \n",
    "turis = [i.split()[0] + ' cm3' for i in x]\n",
    "print(turis)\n",
    "\n",
    "ag = [i.split()[2] + ' AG'for i in x]\n",
    "print(ag)\n",
    "\n",
    "kw = [i.split()[-1].replace('(', '').replace(')', '') for i in x]\n",
    "print(kw)"
   ]
  },
  {
   "cell_type": "code",
   "execution_count": 136,
   "metadata": {},
   "outputs": [
    {
     "data": {
      "text/plain": [
       "48.957142857142856"
      ]
     },
     "execution_count": 136,
     "metadata": {},
     "output_type": "execute_result"
    }
   ],
   "source": [
    "# parašykite funkciją, kuri grąžintų vidurkį,\n",
    "# jei jūs jai nurodote skaičių sąrašą (list) arba eilutę (tuple)\n",
    "x=(1, 2, 310, 5.3, 7, 8, 9.4)\n",
    "\n",
    "def vidurkis(lst):\n",
    "    return sum(lst) / len(lst)\n",
    "\n",
    "vidurkis(x)"
   ]
  },
  {
   "cell_type": "code",
   "execution_count": 137,
   "metadata": {},
   "outputs": [
    {
     "name": "stdout",
     "output_type": "stream",
     "text": [
      "['Liepos', '19', 'd.', 'UNESCO', 'pasaulio', 'paveldu', 'tapusiame', 'Kauno', 'modernizmo', 'architektūros', 'objekte', '–', 'Lietuvos', 'banko', 'Kauno', 'rūmuose', 'į', 'muzikos', 'meditaciją', 'pakvies', 'vokalinis', 'ansamblis', '„Duodeco“.', 'Pirmą', 'kartą', 'Pažaislio', 'muzikos', 'festivalis', 'rengia', 'koncertą', 'šioje', 'nepaprastoje', 'erdvėje,', 'kurioje', '2019', 'm.', 'suburtas', 'kolektyvas', 'festivalio', 'publikai', 'pristatys', 'muzikinę', 'programą', '„More', 'Sweet', 'Than', 'My', 'Refrain“.']\n",
      "[6, 6, 8, 7, 9, 5, 10, 13, 7, 8, 5, 5, 7, 1, 7, 10, 7, 9, 9, 5, 5, 9, 7, 10, 6, 8, 5, 12, 7, 8, 10, 10, 8, 9, 8, 8, 5, 4, 2]\n",
      "[6, 2, 2, 6, 8, 7, 9, 5, 10, 13, 7, 1, 8, 5, 5, 7, 1, 7, 10, 7, 9, 9, 10, 5, 5, 9, 7, 10, 6, 8, 5, 12, 8, 7, 4, 2, 8, 10, 10, 8, 9, 8, 8, 5, 5, 4, 2, 9]\n"
     ]
    }
   ],
   "source": [
    "t = '''Liepos 19 d. UNESCO pasaulio paveldu tapusiame Kauno modernizmo architektūros objekte – Lietuvos banko Kauno rūmuose į muzikos meditaciją pakvies vokalinis ansamblis „Duodeco“. Pirmą kartą Pažaislio muzikos festivalis rengia koncertą šioje nepaprastoje erdvėje, kurioje 2019 m. suburtas kolektyvas festivalio publikai pristatys muzikinę programą „More Sweet Than My Refrain“.'''\n",
    "# SUkurkite sąrašą, kuriame būtų šio teksto žodžių ilgiai.\n",
    "y= t.split()\n",
    "print(t.split())\n",
    "ilgiai = [len(i) for i in y if i.isalpha()] # bruksneliai, skaiciai, trumpiniai (pvz.: \"d.\" neisiskaiciuoja)\n",
    "ilgiai_visi = [len(i) for i in y] # visu simboliu ilgiai\n",
    "print(ilgiai)\n",
    "print(ilgiai_visi)"
   ]
  },
  {
   "cell_type": "code",
   "execution_count": 28,
   "metadata": {},
   "outputs": [
    {
     "name": "stdout",
     "output_type": "stream",
     "text": [
      "['Naktis', 'Diena', 'Vakaras', 'Diena', 'Naktis', 'Diena', 'Diena', 'Naktis', 'Naktis', 'Naktis', 'Naktis', 'Diena', 'Naktis', 'Vakaras', 'Diena', 'Diena', 'Naktis', 'Naktis', 'Diena', 'Naktis', 'Diena', 'Diena', 'Naktis', 'Diena', 'Naktis', 'Naktis', 'Diena', 'Diena', 'Naktis', 'Diena', 'Vakaras', 'Naktis', 'Rytas', 'Naktis', 'Naktis', 'Naktis', 'Diena', 'Diena', 'Naktis', 'Diena', 'Diena', 'Diena', 'Vakaras', 'Naktis', 'Diena', 'Vakaras', 'Naktis', 'Diena', 'Naktis', 'Naktis', 'Naktis', 'Rytas', 'Naktis', 'Naktis', 'Diena', 'Diena', 'Diena', 'Naktis', 'Naktis', 'Rytas', 'Vakaras', 'Naktis', 'Diena', 'Diena', 'Naktis', 'Naktis', 'Diena', 'Rytas', 'Naktis', 'Diena', 'Naktis', 'Naktis']\n"
     ]
    }
   ],
   "source": [
    "fx = [23, 15, 19, 12, 4, 16, 17, 5, 2, 20, 3, 17, 22, 18, 11, 14, 21, 21, 11, 22, 16, 13, 4, 10, 21, 21, 11, 10, 21, 14, 19, 3, 7, 2, 22, 1, 17, 14, 23, 17, 15, 15, 19, 21, 10, 19, 4, 11, 22, 21, 4, 7, 5, 21, 12, 10, 15, 2, 21, 7, 19, 21, 15, 15, 5, 20, 14, 9, 5, 11, 4, 5]\n",
    "# Parašykite kodą, kuris sugeneruotų sąrašą,\n",
    "# su žodžiais 'Rytas', jei skaičius fx sąraše yra tarp 6 ir 10,\n",
    "# diena, jei tarp 10 ir 18, vakaras jei tarp 18 ir 22, ir naktis kitais atvejais.\n",
    "\n",
    "fy = ['Rytas' if i in range(6, 10) else 'Diena' if i in range(10, 18) else 'Vakaras' if i in range(18, 20) else 'Naktis' for i in fx]\n",
    "print(fy)"
   ]
  },
  {
   "cell_type": "code",
   "execution_count": 5,
   "metadata": {},
   "outputs": [
    {
     "name": "stdout",
     "output_type": "stream",
     "text": [
      "|        BMW        |     253 000 km    |       19 500      | 4999 cm³, 507 AG (|      Benzinas     |\n",
      "|     Mitsubishi    |     195 405 km    |       2 700       | 2378 cm³, 160 AG (|      Benzinas     |\n",
      "|        Seat       |     129 800 km    |       13 490      | 1598 cm³, 95 AG (7|     Dyzelinas     |\n",
      "|       Skoda       |     183 000 km    |       14 650      | 1798 cm³, 179 AG (|      Benzinas     |\n",
      "|       Volvo       |     127 896 km    |       38 000      | 1969 cm³, 235 AG (|     Dyzelinas     |\n"
     ]
    }
   ],
   "source": [
    "x = [('BMW', '253 000 km', '19 500', '4999 cm³, 507 AG (373kW)', 'Benzinas'), ('Mitsubishi', '195 405 km', '2 700', '2378 cm³, 160 AG (118kW)', 'Benzinas'), ('Seat', '129 800 km', '13 490', '1598 cm³, 95 AG (70kW)', 'Dyzelinas'), ('Skoda', '183 000 km', '14 650', '1798 cm³, 179 AG (132kW)', 'Benzinas'), ('Volvo', '127 896 km', '38 000', '1969 cm³, 235 AG (173kW)', 'Dyzelinas')]\n",
    "# parašyti funkciją, kuri juos spausdintų tokiu vaizdu:\n",
    "# hint cicklas cikle\n",
    "\n",
    "def fn(sarasas):\n",
    "    for eilute in x:\n",
    "        st = ''\n",
    "        for elem in eilute:\n",
    "            st = st + f'| {elem:^18.18}'\n",
    "        \n",
    "        st1 = st + '|'\n",
    "        print(st1)\n",
    "\n",
    "    \n",
    "    \n",
    "    # st = f\"| {eilute[0]:^12} | {eilute[1]:^12} | {eilute[2]:^12} | {eilute[3]:^15.15} | {eilute[4]:^12} | \"\n",
    "  \n",
    "fn(x)\n",
    "    "
   ]
  },
  {
   "cell_type": "code",
   "execution_count": 145,
   "metadata": {},
   "outputs": [
    {
     "name": "stdout",
     "output_type": "stream",
     "text": [
      "[1, 15, 41, 10]\n"
     ]
    },
    {
     "ename": "AssertionError",
     "evalue": "Dalyba iš nulio negalima!",
     "output_type": "error",
     "traceback": [
      "\u001b[1;31m---------------------------------------------------------------------------\u001b[0m",
      "\u001b[1;31mAssertionError\u001b[0m                            Traceback (most recent call last)",
      "Cell \u001b[1;32mIn[145], line 30\u001b[0m\n\u001b[0;32m     28\u001b[0m skirtumas(y, \u001b[38;5;241m3\u001b[39m)\n\u001b[0;32m     29\u001b[0m sandauga(y, \u001b[38;5;241m3\u001b[39m)\n\u001b[1;32m---> 30\u001b[0m \u001b[43mdalyba\u001b[49m\u001b[43m(\u001b[49m\u001b[43my\u001b[49m\u001b[43m,\u001b[49m\u001b[43m \u001b[49m\u001b[38;5;241;43m0\u001b[39;49m\u001b[43m)\u001b[49m\n",
      "Cell \u001b[1;32mIn[145], line 23\u001b[0m, in \u001b[0;36mdalyba\u001b[1;34m(x, d)\u001b[0m\n\u001b[0;32m     22\u001b[0m \u001b[38;5;28;01mdef\u001b[39;00m \u001b[38;5;21mdalyba\u001b[39m(x, d):\n\u001b[1;32m---> 23\u001b[0m     \u001b[38;5;28;01massert\u001b[39;00m d \u001b[38;5;241m!=\u001b[39m\u001b[38;5;241m0\u001b[39m,  \u001b[38;5;124m'\u001b[39m\u001b[38;5;124mDalyba iš nulio negalima!\u001b[39m\u001b[38;5;124m'\u001b[39m\n\u001b[0;32m     24\u001b[0m     \u001b[38;5;28;01mreturn\u001b[39;00m [x[i] \u001b[38;5;241m/\u001b[39m d \u001b[38;5;28;01mfor\u001b[39;00m i  \u001b[38;5;129;01min\u001b[39;00m \u001b[38;5;28mrange\u001b[39m(\u001b[38;5;241m0\u001b[39m, \u001b[38;5;28mlen\u001b[39m(x))]\n",
      "\u001b[1;31mAssertionError\u001b[0m: Dalyba iš nulio negalima!"
     ]
    }
   ],
   "source": [
    "# parašykite funkcjas suma(), skirtumas(), sandauga(), dalyba(), \n",
    "# kurioms jūs galėtumėte nurodyti skaičių sąrašą x, ir vieną sakičių d,\n",
    "# ir tos funkcijos grąžintų naują sąrašą, su skaičiais iš x sąrašo su atitinkmai atliktu veiksmu - pridėtu d,\n",
    "# atimtu d, padaugintu iš d.\n",
    "# def suma(x, d):\n",
    "#     veiksmai, kad gautumėte naują sąrašą kur x+d\n",
    "#     return naujas sąrašas\n",
    "\n",
    "\n",
    "\n",
    "y = [1, 15, 41, 10]\n",
    "\n",
    "def suma(x ,d):\n",
    "    return [x[i]+d for i in range(0, len(x))]\n",
    "\n",
    "def skirtumas(x, d):\n",
    "    return [x[i]-d for i in range(0, len(x))]\n",
    "    \n",
    "def sandauga(x ,d):\n",
    "    return [x[i]*d for i in range(0, len(x))]\n",
    "\n",
    "def dalyba(x, d):\n",
    "    assert d !=0,  'Dalyba iš nulio negalima!'\n",
    "    return [x[i] / d for i  in range(0, len(x))]\n",
    "\n",
    "print(y)\n",
    "suma(y, 3)\n",
    "skirtumas(y, 3)\n",
    "sandauga(y, 3)\n",
    "dalyba(y, 0)"
   ]
  },
  {
   "cell_type": "code",
   "execution_count": 106,
   "metadata": {},
   "outputs": [
    {
     "name": "stdout",
     "output_type": "stream",
     "text": [
      "labas vakaras\n",
      "avb bsvg\n",
      "1566ĘTR\n",
      "lnvvdfnvjdj\n"
     ]
    }
   ],
   "source": [
    "failo_vardas = 'f1.txt'\n",
    "\n",
    "failas = open(failo_vardas, mode='r', encoding='utf-8')\n",
    "\n",
    "turinys = failas.read()\n",
    "\n",
    "\n",
    "failas.close()\n",
    "\n",
    "print(turinys)"
   ]
  },
  {
   "cell_type": "code",
   "execution_count": 109,
   "metadata": {},
   "outputs": [
    {
     "name": "stdout",
     "output_type": "stream",
     "text": [
      "['labas vakaras\\n', 'avb bsvg\\n', '1566ĘTR\\n', 'lnvvdfnvjdj']\n"
     ]
    }
   ],
   "source": [
    "failo_vardas = 'f1.txt'\n",
    "\n",
    "failas = open(failo_vardas, mode='r', encoding='utf-8')\n",
    "\n",
    "turinys = failas.readlines()\n",
    "\n",
    "\n",
    "failas.close()\n",
    "\n",
    "print(turinys)\n"
   ]
  },
  {
   "cell_type": "code",
   "execution_count": 110,
   "metadata": {},
   "outputs": [
    {
     "name": "stdout",
     "output_type": "stream",
     "text": [
      "['1,2\\n', '3,4\\n', '5,6\\n', '7,8\\n', '9,10']\n"
     ]
    }
   ],
   "source": [
    "failo_vardas = 'f1.txt'\n",
    "\n",
    "failas = open(failo_vardas, mode='r', encoding='utf-8')\n",
    "\n",
    "turinys = failas.readlines()\n",
    "\n",
    "\n",
    "failas.close()\n",
    "\n",
    "print(turinys)\n"
   ]
  },
  {
   "cell_type": "code",
   "execution_count": 112,
   "metadata": {},
   "outputs": [
    {
     "name": "stdout",
     "output_type": "stream",
     "text": [
      "3.0\n",
      "7.0\n",
      "11.0\n",
      "15.0\n",
      "19.0\n"
     ]
    }
   ],
   "source": [
    "for eil in turinys:\n",
    "    x, y = eil.split(',')\n",
    "    c = float(x) + float(y)\n",
    "    print(c)"
   ]
  },
  {
   "cell_type": "code",
   "execution_count": 118,
   "metadata": {},
   "outputs": [],
   "source": [
    "failo_vardas = 'f2.txt'\n",
    "\n",
    "failas = open(failo_vardas, mode='w', encoding='utf-8')\n",
    "\n",
    "failas.write('''vdgbdbs\n",
    "ssvdggbdg\n",
    "svvdbdb\\n''')\n",
    "failas.write('Rytas\\n')\n",
    "failas.write('Rytas\\n')\n",
    "failas.write('Rytas\\n')\n",
    "failas.write('Rytas')\n",
    "\n",
    "failas.close()"
   ]
  },
  {
   "cell_type": "code",
   "execution_count": 146,
   "metadata": {},
   "outputs": [
    {
     "name": "stdout",
     "output_type": "stream",
     "text": [
      "4.145 5.34525\n"
     ]
    }
   ],
   "source": [
    "# suraskite vidurkį skaičių, esančių stulpeliuose\n",
    "\n",
    "failo_vardas = 'f1.txt'\n",
    "\n",
    "failas = open(failo_vardas, mode='r', encoding='utf-8')\n",
    "\n",
    "turinys = failas.readlines()\n",
    "failas.close()\n",
    "\n",
    "x = []\n",
    "y = []\n",
    "for i in turinys:\n",
    "    x1, y1 = i.split(',')\n",
    "    x.append(float(x1))\n",
    "    y.append(float(y1))\n",
    "\n",
    "print(sum(x)/len(x), sum(y)/len(y))"
   ]
  },
  {
   "cell_type": "code",
   "execution_count": 7,
   "metadata": {},
   "outputs": [],
   "source": [
    "f_name = 'f2.txt'\n",
    "failas = open(f_name, mode='a', encoding='utf-8')\n",
    "x = ['\\nPirma eilute\\n', 'Antra eilute\\n', 'Trecia eilute\\n']\n",
    "failas.writelines(x)\n",
    "failas.close()"
   ]
  },
  {
   "cell_type": "code",
   "execution_count": 1,
   "metadata": {},
   "outputs": [
    {
     "name": "stdout",
     "output_type": "stream",
     "text": [
      "\n",
      "Eurazijos šalių klubas, kurio priešakyje – Kinija bei Rusija ir kurio misija vis labiau primena siekį realizuoti lyderių regimą alternatyvios pasaulio tvarkos viziją, pasipildė nauja nare – ištikima Rusijos sąjungininke, atvirai rėmusia Maskvos pradėtą karą prieš Ukrainą.\n",
      "\n",
      "Baltarusijos priėmimas į Šanchajaus bendradarbiavimo organizaciją (SCO), kaip ir tikėtasi, įvyko kasmetiniame vadovų susitikime Astanoje, Kazachstane.\n",
      "\n",
      "Tai dar vienas Pekino ir Maskvos bandymas pakeisti organizacijos specifiką – paversti regioninį saugumo bloką geopolitine atsvara Vakarų institucijoms, kurioms vadovauja Jungtinės Valstijos ir jų sąjungininkės, rašoma CNN publikacijoje.\n",
      "\n",
      "Skaitykite daugiau: https://www.delfi.lt/news/daily/world/prie-xi-jinpingo-ir-putino-klubo-prisijunge-naujas-narys-ambicijos-pasipriesinti-jav-120034020\n",
      "\n"
     ]
    }
   ],
   "source": [
    "# • Įrašykite tekstą iš sukurtojo failo didžiosiomis raidėmis\n",
    "# • Kas 𝑛-tąjį žodį didžiomis raidėmis, 𝑛 įveda vartotojas.\n",
    "# • Kiekvieną žodį iš didžiosios raidės\n",
    "# • Kiekvienas žodis iš didžiosios raidės, kas antras -\n",
    "# parašytas atvirkščiai, kas 5-tas - vien tik didžiosiomis\n",
    "# raidėmis, kas 6-tame - simboliai \"a\" turi būti pakeisti\n",
    "# ':)' simboliais.\n",
    "\n",
    "failo_vardas = 'delfi.txt'\n",
    "failas = open(failo_vardas, mode='r', encoding='utf-8')\n",
    "\n",
    "turinys = failas.read()\n",
    "\n",
    "failas.close()\n",
    "\n",
    "\n",
    "print(turinys)\n",
    "\n",
    "f_name = 'ats.txt'\n",
    "\n",
    "file = open(f_name, mode='a', encoding='utf-8')\n",
    "file.write('Delfi tekstas didziosiomis raidemis:\\n')\n",
    "file.write(turinys.upper())\n",
    "file.write('\\n')\n",
    "\n",
    "try:\n",
    "    n = int(input('n?'))\n",
    "except ValueError as ex:\n",
    "    print(ex)\n",
    "\n",
    "def zodis_n(txt, n):\n",
    "    '''funkcijai duodamas tekstas ir n\n",
    "    kas n-taji zodi grazina didziosiomis raidemis\n",
    "    '''\n",
    "\n",
    "    t = []\n",
    "    for idx, word in enumerate(txt.split(), 1):\n",
    "        if idx % n == 0:\n",
    "            t.append(word.upper())\n",
    "        else:\n",
    "            t.append(word)\n",
    "    return ' '.join(t)\n",
    "\n",
    "file.write('Kas n-tas zodis diziosiomis:\\n')\n",
    "file.write(zodis_n(turinys, n))\n",
    "file.write('\\n')\n",
    "\n",
    "file.write('Kiekvienas zodis is didziosios:\\n')\n",
    "file.write(turinys.title())\n",
    "file.write('\\n')\n",
    "\n",
    "\n",
    "def pakeitimai(txt):\n",
    "    t = []\n",
    "    for idx, word in enumerate(txt.split(), 1):\n",
    "        if idx % 2 == 0 and idx % 6 == 0:\n",
    "            backward = ''\n",
    "            for i in word:\n",
    "                backward = i + backward\n",
    "            t.append(backward.replace('a', ':)'))\n",
    "        elif idx % 2 == 0 and idx % 5 == 0:\n",
    "            backward = ''\n",
    "            for i in word:\n",
    "                backward = i + backward\n",
    "            t.append(backward.upper())\n",
    "        elif idx % 2 == 0:\n",
    "            backward = ''\n",
    "            for i in word:\n",
    "                backward = i + backward\n",
    "            t.append(backward)\n",
    "        else:\n",
    "            t.append(word)\n",
    "    return ' '.join(t)\n",
    "\n",
    "file.write('Sudetingos salygos:\\n')\n",
    "file.write(pakeitimai(turinys))\n",
    "\n",
    "file.close()\n",
    "\n",
    "\n",
    "\n",
    "# print(zodis_n(turinys, 3))\n",
    "n = 3"
   ]
  }
 ],
 "metadata": {
  "kernelspec": {
   "display_name": "Python 3",
   "language": "python",
   "name": "python3"
  },
  "language_info": {
   "codemirror_mode": {
    "name": "ipython",
    "version": 3
   },
   "file_extension": ".py",
   "mimetype": "text/x-python",
   "name": "python",
   "nbconvert_exporter": "python",
   "pygments_lexer": "ipython3",
   "version": "3.12.4"
  }
 },
 "nbformat": 4,
 "nbformat_minor": 2
}
