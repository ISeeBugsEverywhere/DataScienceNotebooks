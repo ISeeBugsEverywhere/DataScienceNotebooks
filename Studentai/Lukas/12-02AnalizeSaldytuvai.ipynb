{
 "cells": [
  {
   "cell_type": "code",
   "execution_count": null,
   "metadata": {},
   "outputs": [],
   "source": [
    "import numpy as np\n",
    "import pandas as pd\n",
    "import matplotlib.pyplot as plt\n",
    "import warnings\n",
    "warnings.filterwarnings('ignore')\n",
    "import seaborn as sns\n",
    "import sqlite3\n",
    "import mysql.connector as cnt\n",
    "# import plotly.express as px"
   ]
  },
  {
   "cell_type": "code",
   "execution_count": null,
   "metadata": {},
   "outputs": [],
   "source": [
    "SDB = sqlite3.connect('VarlePigu.db')\n",
    "Cs = SDB.cursor()\n",
    "\n",
    "sql=\"\"\"SELECT *\n",
    "FROM \"SaldytuvaiVarle\";\n",
    "\"\"\"\n",
    "df = pd.read_sql_query(sql, con=SDB)\n",
    "\n",
    "SDB.close()\n",
    "cols = df.columns\n",
    "for c in cols:\n",
    "    print(c)"
   ]
  },
  {
   "cell_type": "code",
   "execution_count": null,
   "metadata": {},
   "outputs": [],
   "source": [
    "SDB = sqlite3.connect('VarlePigu.db')\n",
    "Cs = SDB.cursor()\n",
    "\n",
    "sql=\"\"\"SELECT kaina,`šaldytuvų tipai`, tipas, `gaminio tipas`, `garsumo klasė`, `šaldiklio tipas`, \n",
    "`durų tipas`, `durų kiekis`, `šaldymo technologijos tipas`, `šaldytuvo tipas`\n",
    "FROM \"SaldytuvaiVarle\";\n",
    "\"\"\"\n",
    "df = pd.read_sql_query(sql, con=SDB)\n",
    "SDB.close()"
   ]
  },
  {
   "cell_type": "code",
   "execution_count": null,
   "metadata": {},
   "outputs": [],
   "source": [
    "lst = df['tipas'].tolist()\n",
    "print(set(lst))"
   ]
  },
  {
   "cell_type": "code",
   "execution_count": null,
   "metadata": {},
   "outputs": [],
   "source": [
    "SDB = sqlite3.connect('VarlePigu.db')\n",
    "Cs = SDB.cursor()\n",
    "\n",
    "# sql=\"\"\"SELECT kaina, `montavimo tipas`, `durų tipas`, `durų montavimas`, `šaldytuvų tipai`\n",
    "# FROM \"SaldytuvaiVarle\";\n",
    "# \"\"\"\n",
    "\n",
    "sql=\"\"\"SELECT kaina, `montavimo tipas`\n",
    "FROM \"SaldytuvaiVarle\";\n",
    "\"\"\"\n",
    "df = pd.read_sql_query(sql, con=SDB)\n",
    "\n",
    "SDB.close()\n"
   ]
  },
  {
   "cell_type": "code",
   "execution_count": null,
   "metadata": {},
   "outputs": [],
   "source": [
    "df.columns"
   ]
  },
  {
   "cell_type": "code",
   "execution_count": null,
   "metadata": {},
   "outputs": [],
   "source": [
    "df.dropna(subset='montavimo tipas', inplace=True)\n",
    "df.head()"
   ]
  },
  {
   "cell_type": "code",
   "execution_count": null,
   "metadata": {},
   "outputs": [],
   "source": [
    "tipai = set(df['montavimo tipas'].tolist())\n",
    "print(tipai)"
   ]
  },
  {
   "cell_type": "code",
   "execution_count": null,
   "metadata": {},
   "outputs": [],
   "source": [
    "def set_saldytuvo_tipas(x):\n",
    "    if 'stat' in x:\n",
    "        return 'Laivai pastatomi'\n",
    "    elif 'montuo' in x:\n",
    "        return 'Įmontuojami'\n",
    "    elif 'ntegruo' in x:\n",
    "        return 'Integruojami'\n",
    "    else:\n",
    "        return 'Kita'\n",
    "    \n",
    "df['mtipas'] =df['montavimo tipas'].apply(set_saldytuvo_tipas)\n",
    "df['kaina'] = df['kaina'].apply(lambda x: float(x))\n",
    "df.head()"
   ]
  },
  {
   "cell_type": "code",
   "execution_count": null,
   "metadata": {},
   "outputs": [],
   "source": [
    "\n",
    "df1 = df[['kaina', 'mtipas']].groupby('mtipas').mean(numeric_only=True).reset_index()\n",
    "# df1_gr = df1.groupby('mtipas').mean(numeric_only=True).reset_index()\n",
    "df1"
   ]
  },
  {
   "cell_type": "code",
   "execution_count": null,
   "metadata": {},
   "outputs": [],
   "source": [
    "c =df['mtipas'].value_counts()\n",
    "fig, (axis1, axis2) = plt.subplots(1,2, figsize=(10.5, 4.5))\n",
    "axis1.pie(c.values, labels=c.index, autopct='%.2f%%')\n",
    "sns.boxplot(data=df, x='mtipas', y='kaina', showmeans=True, showfliers=False, ax=axis2)\n",
    "axis1.set_title('Šaldytuvų pasiskirstymas pagal montavimo tipą (Varle.lt)')\n",
    "axis2.set_title('Kainų pasiskirstymas pagal šaldytuvų  montavimo tipą (Varle.lt)')\n",
    "axis2.set_xlabel('Tipas')\n",
    "axis2.set_ylabel('Kaina')\n",
    "fig.tight_layout()\n",
    "plt.show()"
   ]
  },
  {
   "cell_type": "code",
   "execution_count": null,
   "metadata": {},
   "outputs": [],
   "source": [
    "SDB = sqlite3.connect('VarlePigu.db')\n",
    "Cs = SDB.cursor()\n",
    "\n",
    "sql=\"\"\"SELECT `Šaldytuvo tipas:`\n",
    "FROM \"SaldytuvaiPigu\";\n",
    "\"\"\"\n",
    "df = pd.read_sql_query(sql, con=SDB)\n",
    "SDB.close()\n",
    "lst = df['Šaldytuvo tipas:'].tolist()\n",
    "print(set(lst))"
   ]
  },
  {
   "cell_type": "code",
   "execution_count": null,
   "metadata": {},
   "outputs": [],
   "source": [
    "SDB = sqlite3.connect('VarlePigu.db')\n",
    "Cs = SDB.cursor()\n",
    "\n",
    "sql=\"\"\"SELECT kaina, tipas\n",
    "FROM \"SaldytuvaiVarle\";\n",
    "\"\"\"\n",
    "df = pd.read_sql_query(sql, con=SDB)\n",
    "SDB.close()"
   ]
  },
  {
   "cell_type": "code",
   "execution_count": null,
   "metadata": {},
   "outputs": [],
   "source": [
    "df.dropna(subset='tipas', inplace=True)\n",
    "\n",
    "def set_saldytuvo_tipas(x):\n",
    "    # if 'labas' in x:\n",
    "    #     return 'nar'\n",
    "    if 'apa' in x:\n",
    "        return 'Šaldytuvas su šaldikliu apačioje'\n",
    "    elif 'virš' in x or 'with top' in x:\n",
    "        return 'Šaldytuvas su šaldikliu viršuje'\n",
    "    elif 'Mini' in x:\n",
    "        return 'Mini'\n",
    "    elif 'without' in x or 'Be k' in x:\n",
    "        return 'Šaldytuvas be šaldiklio'\n",
    "    elif 'kamera' in x or 'inside' in x:\n",
    "        return 'Šaldytuvas su šaldikliu viduje'\n",
    "    elif 'Dvid'in x or 'Double' in x:\n",
    "        return 'Dviduriai šaldytuvai'\n",
    "    elif 'stat' in x:\n",
    "        return 'Laisvai pastatomas'\n",
    "    else:\n",
    "        return x\n",
    "    \n",
    "df['stipas'] =df['tipas'].apply(set_saldytuvo_tipas)"
   ]
  },
  {
   "cell_type": "code",
   "execution_count": null,
   "metadata": {},
   "outputs": [],
   "source": [
    "top = df['stipas'].value_counts().head(10).index.tolist()\n",
    "df['stipas'] = df['stipas'].apply(lambda x: x if x in top else 'Kita')\n",
    "c = df['stipas'].value_counts()\n",
    "\n",
    "fig, ax = plt.subplots(figsize=(8, 4.5))\n",
    "ax.pie(c.values, labels=c.index, autopct='%.1f%%')\n",
    "plt.title('Šaldytuvų pasiskirstymas pagal tipą (Varle.lt)')\n",
    "plt.show()"
   ]
  },
  {
   "cell_type": "code",
   "execution_count": null,
   "metadata": {},
   "outputs": [],
   "source": [
    "df['kaina'] = df['kaina'].apply(lambda x: float(x))\n",
    "# kaina_gr =df[['kaina', 'stipas']].groupby('stipas').mean(numeric_only=True).round()\n",
    "\n",
    "# sns.boxplot(data=kaina_gr, y='stipas', x='kaina', orient='h')\n",
    "sns.boxplot(data=df, y='stipas', x='kaina', showmeans=True, showfliers=False)\n",
    "plt.xlabel('Kaina')\n",
    "plt.ylabel('')\n",
    "plt.title('Šaldytuvų kainos pagal tipą (Varle.lt)')\n",
    "plt.show()\n"
   ]
  },
  {
   "cell_type": "code",
   "execution_count": null,
   "metadata": {},
   "outputs": [],
   "source": [
    "SDB = sqlite3.connect('VarlePigu.db')\n",
    "Cs = SDB.cursor()\n",
    "\n",
    "sql=\"\"\"SELECT kaina, `talpa (l)`, `naudinga šaldytuvo talpa`, `šaldytuvo talpa [l]`,\n",
    "`bendra talpa neto`, `šaldytuvo talpa neto`, `šaldytuvo talpa`, `bendros grynosios talpos`, `bendra talpa`, `šaldymo talpa`,\n",
    "`šaldytuvo neto talpa`, `bendra neto talpa`, `bendroji talpa neto`, `šaldytuvo talpa (neto)`,\n",
    "`talpa (neto)`, `šaldytuvo talpa (l)`, `grynoji talpa`, `bendroji talpa neto (l)`, `šaldytuvo talpa neto (l)`\n",
    "FROM \"SaldytuvaiVarle\";\n",
    "\"\"\"\n",
    "df = pd.read_sql_query(sql, con=SDB)\n",
    "SDB.close()"
   ]
  },
  {
   "cell_type": "code",
   "execution_count": null,
   "metadata": {},
   "outputs": [],
   "source": [
    "for col in df.columns:\n",
    "    if col != 'kaina':\n",
    "        df['V'] = df['talpa (l)'].fillna(df[col])\n",
    "    \n",
    "df['kaina'] = df['kaina'].apply(lambda x: float(x))"
   ]
  },
  {
   "cell_type": "code",
   "execution_count": null,
   "metadata": {},
   "outputs": [],
   "source": [
    "df.dropna(subset='V', inplace=True)\n",
    "dfv = df[['kaina', 'V']]\n",
    "dfv['V'] = df['V'].apply(lambda x: float(x))\n",
    "dfv['Vgr'] = dfv['V'].apply(lambda x: int(np.ceil(x/10) * 10))\n",
    "\n",
    "dfv_gr = dfv.groupby('Vgr').mean(numeric_only=True).round().reset_index()\n",
    "dfv_gr.head()\n",
    "sns.regplot(data=dfv_gr[dfv_gr['Vgr'] > 10], x='Vgr', y='kaina', order=2)\n",
    "plt.title('Šaldytuvo kainos priklausomybė nuo talpos (Varle.lt)')\n",
    "plt.ylabel('Kaina')\n",
    "plt.xlabel('Šaldytuvo talpa (l)')\n",
    "plt.show()"
   ]
  },
  {
   "cell_type": "code",
   "execution_count": null,
   "metadata": {},
   "outputs": [],
   "source": [
    "# energijos klase\n",
    "\n",
    "SDB = sqlite3.connect('VarlePigu.db')\n",
    "Cs = SDB.cursor()\n",
    "\n",
    "sql=\"\"\"SELECT kaina, \n",
    "`energijos klasė`, \n",
    "`energijos vartojimo efektyvumo klasė (reglamentas (es) 2017/1369)`,\n",
    "`energijos efektyvumo klasė`\n",
    "FROM \"SaldytuvaiVarle\";\n",
    "\"\"\"\n",
    "df = pd.read_sql_query(sql, con=SDB)\n",
    "SDB.close()\n",
    "df.head()"
   ]
  },
  {
   "cell_type": "code",
   "execution_count": null,
   "metadata": {},
   "outputs": [],
   "source": [
    "for col in df.columns:\n",
    "    if col != 'kaina':\n",
    "        df['energijos klasė'] = df['energijos klasė'].fillna(df[col])\n",
    "    \n",
    "df['energijos klasė'] = df['energijos klasė'].apply(lambda x: x.upper() if x is not None else x)\n",
    "df['kaina'] = df['kaina'].apply(lambda x: float(x))\n",
    "\n",
    "dfe = df[['kaina', 'energijos klasė']]\n",
    "# dfe_gr = dfe.groupby('energijos klasė').mean(numeric_only=True).round().reset_index()\n",
    "fig, ax = plt.subplots()\n",
    "sns.boxplot(data=dfe, x='energijos klasė', y='kaina', showmeans=True, showfliers=False)\n",
    "# for container in ax.containers:\n",
    "#     ax.bar_label(container)\n",
    "plt.title('Vidutinė šaldytuvo kaina pagal energijos klasę (Varle.lt)')\n",
    "plt.show()"
   ]
  },
  {
   "cell_type": "code",
   "execution_count": null,
   "metadata": {},
   "outputs": [],
   "source": [
    "# Energijos sanaudos\n",
    "\n",
    "SDB = sqlite3.connect('VarlePigu.db')\n",
    "Cs = SDB.cursor()\n",
    "\n",
    "sql=\"\"\"SELECT kaina, \n",
    "`vidutinės metinės energijos sąnaudos kilovatvalandėmis per metus (kwh/m.)`,\n",
    "`metinės energijos sąnaudos`,\n",
    "`metinis energijos suvartojimas (kwh)`,\n",
    "`energijos suvartojimas per metus`,\n",
    "`energijos sąnaudos`,\n",
    "`metinis energijos suvartojimas`,\n",
    "`suvartojama energija`,\n",
    "`bendras suvartojamos energijos kiekis per metus`,\n",
    "`energijos sąnaudos (kwh/metus)`,\n",
    "`suvartojama energija (kwh)`,\n",
    "`bendras suvartojamos energijos kiekis per metus (kwh)`,\n",
    "`energijos sąnaudos per metus`\n",
    "FROM \"SaldytuvaiVarle\";\n",
    "\"\"\"\n",
    "df = pd.read_sql_query(sql, con=SDB)\n",
    "SDB.close()\n",
    "df.head()"
   ]
  },
  {
   "cell_type": "code",
   "execution_count": null,
   "metadata": {},
   "outputs": [],
   "source": [
    "for col in df.columns:\n",
    "    if col != 'kaina':\n",
    "        df['energija'] = df['metinės energijos sąnaudos'].fillna(df[col])\n",
    "\n",
    "df['kaina'] = df['kaina'].apply(lambda x: float(x))\n",
    "dfe = df[['kaina', 'energija']]\n",
    "dfe.dropna(subset='energija', inplace=True)\n",
    "dfe.head()"
   ]
  },
  {
   "cell_type": "code",
   "execution_count": null,
   "metadata": {},
   "outputs": [],
   "source": [
    "dfe['energija'] = dfe['energija'].apply(lambda x: x.replace('kWh/metus', '').replace('kWh', '').replace(',', '.'))\n",
    "dfe['energija'] = dfe['energija'].apply(lambda x: float(x))"
   ]
  },
  {
   "cell_type": "code",
   "execution_count": null,
   "metadata": {},
   "outputs": [],
   "source": [
    "\n",
    "dfe['E'] = dfe['energija'].apply(lambda x: int(np.ceil(x/5) * 5))\n",
    "\n",
    "dfe_gr = dfe.groupby('E').mean(numeric_only=True).round().reset_index()\n",
    "\n",
    "sns.regplot(data=dfe_gr[dfe_gr['E'] < 500], x='E', y='kaina', order=3)\n",
    "plt.title('Šaldytuvo kainos priklausomybė nuo energijos suvartojimo (Varle.lt)')\n",
    "plt.ylabel('Kaina')\n",
    "plt.xlabel('Energijos suvartojimas kWh/metus')\n",
    "plt.show()"
   ]
  },
  {
   "cell_type": "code",
   "execution_count": null,
   "metadata": {},
   "outputs": [],
   "source": [
    "# garsas/triuksmas\n",
    "SDB = sqlite3.connect('VarlePigu.db')\n",
    "Cs = SDB.cursor()\n",
    "\n",
    "sql=\"\"\"SELECT kaina, \n",
    "`ore skleidžiamas akustinis triukšmas`,\n",
    "`triukšmo lygis [db]`,\n",
    "`maksimalus triukšmo lygis`,\n",
    "`triukšmo lygis (db)`,\n",
    "`triukšmo lygis`,\n",
    "`triukšmo galia`,\n",
    "`triukšmo lygis, db`,\n",
    "`triukšmingumo lygis`,\n",
    "`triukšmo lygis (db (a) re 1 pw)`,\n",
    "`garso lygis`\n",
    "FROM \"SaldytuvaiVarle\";\n",
    "\"\"\"\n",
    "df = pd.read_sql_query(sql, con=SDB)\n",
    "SDB.close()\n",
    "df.head()\n"
   ]
  },
  {
   "cell_type": "code",
   "execution_count": null,
   "metadata": {},
   "outputs": [],
   "source": [
    "df['kaina'] = df['kaina'].apply(lambda x: float(x))\n",
    "for col in df.columns:\n",
    "    if col != 'kaina':\n",
    "        df['garsas'] = df['ore skleidžiamas akustinis triukšmas'].fillna(df[col])\n",
    "\n",
    "df.dropna(subset='garsas', inplace=True)\n",
    "df.head()"
   ]
  },
  {
   "cell_type": "code",
   "execution_count": null,
   "metadata": {},
   "outputs": [],
   "source": [
    "df['garsas'] = df['garsas'].apply(lambda x: int(x[:2]))"
   ]
  },
  {
   "cell_type": "code",
   "execution_count": null,
   "metadata": {},
   "outputs": [],
   "source": [
    "dfg = df[['kaina', 'garsas']]\n",
    "dfg['g2'] = dfg['garsas'].apply(lambda x: int(np.ceil(x/2) * 2))\n",
    "\n",
    "dfg_gr = dfg.groupby('g2').mean(numeric_only=True).round().reset_index()\n",
    "fig, ax = plt.subplots()\n",
    "sns.regplot(data=dfg_gr, x='g2', y='kaina', order=1)\n",
    "ax.set_xlabel('Triukšmo lygis (db)')\n",
    "ax.set_ylabel('Kaina')\n",
    "plt.title('Šaldytuvų kainų priklausomybė nuo triukšmo lygio')\n",
    "plt.show()"
   ]
  },
  {
   "cell_type": "code",
   "execution_count": null,
   "metadata": {},
   "outputs": [],
   "source": [
    "# valdymo pobūdis\n",
    "SDB = sqlite3.connect('VarlePigu.db')\n",
    "Cs = SDB.cursor()\n",
    "\n",
    "sql=\"\"\"SELECT kaina, \n",
    "`valdymas`,\n",
    "`valdymo tipas`\n",
    "FROM \"SaldytuvaiVarle\";\n",
    "\"\"\"\n",
    "df = pd.read_sql_query(sql, con=SDB)\n",
    "SDB.close()\n",
    "df.head()"
   ]
  },
  {
   "cell_type": "code",
   "execution_count": null,
   "metadata": {},
   "outputs": [],
   "source": [
    "df['kaina'] = df['kaina'].apply(lambda x: float(x))\n",
    "df['valdymas'] = df['valdymas'].fillna(df['valdymo tipas'])\n",
    "df.dropna(subset='valdymas', inplace=True)"
   ]
  },
  {
   "cell_type": "code",
   "execution_count": null,
   "metadata": {},
   "outputs": [],
   "source": [
    "def set_valdymas(x):\n",
    "    if 'Elek' in x or 'Elec' in x or 'elek' in x:\n",
    "        return 'Elektroninis'\n",
    "    elif 'Palie' in x or 'Touch' in x or 'Juti' in x or 'juti' in x:\n",
    "        return 'Sensorinis'\n",
    "    elif 'Mech' in x or 'Meh' in x or 'Myg' in x or 'Rot' in x:\n",
    "        return 'Mechaninis'\n",
    "    elif 'Exter' in x:\n",
    "        return 'External touch control LCD'\n",
    "    elif 'varto' in x or 'rank' in x:\n",
    "        return 'Kita'\n",
    "    else:\n",
    "        return x\n",
    "\n",
    "df['newVald'] = df['valdymas'].apply(set_valdymas)\n"
   ]
  },
  {
   "cell_type": "code",
   "execution_count": null,
   "metadata": {},
   "outputs": [],
   "source": [
    "dfv = df[['kaina', 'newVald']]\n",
    "# dfv_gr = dfv.groupby('newVald').mean(numeric_only=True).round().reset_index()\n",
    "\n",
    "fig, ax = plt.subplots()\n",
    "sns.boxplot(data=dfv, y='newVald', x='kaina', showmeans=True, showfliers=False)\n",
    "# sns.barplot(data=dfv_gr, y='newVald', x='kaina', orient='h')\n",
    "# for container in ax.containers:\n",
    "#     ax.bar_label(container)\n",
    "plt.ylabel('')\n",
    "plt.xlabel('Kaina')\n",
    "plt.title('Vidutinė šaldytuvo kaina pagal valdymo tipą (Varle.lt)')\n",
    "plt.show()"
   ]
  },
  {
   "cell_type": "code",
   "execution_count": null,
   "metadata": {},
   "outputs": [],
   "source": [
    "# Gamintojai\n",
    "SDB = sqlite3.connect('VarlePigu.db')\n",
    "Cs = SDB.cursor()\n",
    "\n",
    "sql=\"\"\"SELECT kaina, \n",
    "gamintojas,\n",
    "spalva,\n",
    "`gaminio spalva`,\n",
    "`produkto spalva`,\n",
    "`korpuso spalva`\n",
    "FROM \"SaldytuvaiVarle\";\n",
    "\"\"\"\n",
    "df = pd.read_sql_query(sql, con=SDB)\n",
    "SDB.close()\n",
    "df.head()"
   ]
  },
  {
   "cell_type": "code",
   "execution_count": null,
   "metadata": {},
   "outputs": [],
   "source": [
    "for col in df.columns:\n",
    "    if col not in ['kaina', 'gamintojas']:\n",
    "        df['spalva'] = df['spalva'].fillna(df[col])\n",
    "\n",
    "df['kaina'] = df['kaina'].apply(lambda x: float(x))"
   ]
  },
  {
   "cell_type": "code",
   "execution_count": null,
   "metadata": {},
   "outputs": [],
   "source": [
    "def set_spalva(x):\n",
    "    if x is not None:\n",
    "        if 'Balt' in x or 'balt' in x:\n",
    "            return 'Balta'\n",
    "        elif 'Pilk' in x or 'pilk' in x:\n",
    "            return 'Pilka'\n",
    "        elif 'Juod' in x or 'juod' in x:\n",
    "            return 'Juoda'\n",
    "        else:\n",
    "            return x\n",
    "\n",
    "df['spalva'] = df['spalva'].apply(set_spalva)\n",
    "\n",
    "c= df['spalva'].value_counts()\n",
    "c"
   ]
  },
  {
   "cell_type": "code",
   "execution_count": null,
   "metadata": {},
   "outputs": [],
   "source": [
    "brand_counts = df['gamintojas'].value_counts()\n",
    "brands_to_plot = brand_counts[brand_counts > 20].index\n",
    "\n",
    "df_gamintojas = df[df['gamintojas'].isin(brands_to_plot)][['kaina', 'gamintojas']]\n",
    "# df_gamintojas_gr = df_gamintojas.groupby('gamintojas').mean().round()\n",
    "fig, ax = plt.subplots()\n",
    "sns.boxplot(data=df_gamintojas, y='kaina', x='gamintojas', showfliers=False, showmeans=True)\n",
    "plt.title('Šaldytuvų kainos pasiskirtymas pagal gamintoją (Varle.lt)')\n",
    "plt.tick_params(axis='x', rotation=90)\n",
    "plt.ylabel('')\n",
    "plt.xlabel('Kaina')\n",
    "plt.show()\n"
   ]
  },
  {
   "cell_type": "code",
   "execution_count": null,
   "metadata": {},
   "outputs": [],
   "source": [
    "colors_counts = df['spalva'].value_counts()\n",
    "colors_to_plot = colors_counts[colors_counts > 40].index\n",
    "brand_counts = df['gamintojas'].value_counts()\n",
    "brands_to_plot = brand_counts[brand_counts > 40].index\n",
    "\n",
    "df_gamintojas = df[(df['gamintojas'].isin(brands_to_plot)) & df['spalva'].isin(colors_to_plot)][['kaina', 'gamintojas', 'spalva']]\n",
    "df_gamintojas_gr = df_gamintojas.groupby(['gamintojas', 'spalva']).mean().round()\n",
    "fig, ax = plt.subplots()\n",
    "sns.barplot(data=df_gamintojas_gr, x='kaina', y='gamintojas', orient='h', hue='spalva')\n",
    "# sns.boxplot(data=df_gamintojas, x='kaina', y='gamintojas', hue='spalva', showmeans=True, showfliers=False)\n",
    "plt.title('Vidutinė šaldytuvų kaina pagal gamintoją (Varle.lt)')\n",
    "plt.ylabel('')\n",
    "plt.xlabel('Kaina')\n",
    "plt.show()"
   ]
  },
  {
   "cell_type": "code",
   "execution_count": null,
   "metadata": {},
   "outputs": [],
   "source": [
    "# Pigu\n",
    "SDB = sqlite3.connect('VarlePigu.db')\n",
    "Cs = SDB.cursor()\n",
    "\n",
    "sql=\"\"\"SELECT *\n",
    "FROM \"SaldytuvaiPigu\";\n",
    "\"\"\"\n",
    "df = pd.read_sql_query(sql, con=SDB)\n",
    "SDB.close()\n",
    "\n",
    "for col in df.columns:\n",
    "    print(col)"
   ]
  },
  {
   "cell_type": "code",
   "execution_count": null,
   "metadata": {},
   "outputs": [],
   "source": [
    "SDB = sqlite3.connect('VarlePigu.db')\n",
    "Cs = SDB.cursor()\n",
    "\n",
    "sql=\"\"\"SELECT kaina,\n",
    "`Montavimo tipas:`\n",
    "FROM \"SaldytuvaiPigu\";\n",
    "\"\"\"\n",
    "df = pd.read_sql_query(sql, con=SDB)\n",
    "SDB.close()\n",
    "\n",
    "df.head()"
   ]
  },
  {
   "cell_type": "code",
   "execution_count": null,
   "metadata": {},
   "outputs": [],
   "source": [
    "c = df['Montavimo tipas:'].value_counts()\n",
    "fix, (ax1, ax2) = plt.subplots(1, 2, figsize=(12, 4.5))\n",
    "ax1.pie(c.values, labels=c.index, autopct='%.2f%%', startangle=90)\n",
    "sns.boxplot(data=df, x='Montavimo tipas:', y='kaina', ax=ax2, showmeans=True, showfliers=False)\n",
    "ax1.set_title('Šaldytuvai pagal montavimo tipą (Pigu.lt)')\n",
    "ax2.set_title('Šaldytuvų kainos pasiskirtymas pagal montavimo tipą (Pigu.lt)')\n",
    "fig.tight_layout()\n",
    "plt.show()"
   ]
  },
  {
   "cell_type": "code",
   "execution_count": null,
   "metadata": {},
   "outputs": [],
   "source": [
    "# Šaldytuvų tipai Pigu.lt\n",
    "SDB = sqlite3.connect('VarlePigu.db')\n",
    "Cs = SDB.cursor()\n",
    "\n",
    "sql=\"\"\"SELECT kaina,\n",
    "`Šaldytuvo tipas:`\n",
    "FROM \"SaldytuvaiPigu\";\n",
    "\"\"\"\n",
    "df = pd.read_sql_query(sql, con=SDB)\n",
    "SDB.close()\n",
    "\n",
    "df.head()"
   ]
  },
  {
   "cell_type": "code",
   "execution_count": null,
   "metadata": {},
   "outputs": [],
   "source": [
    "c = df['Šaldytuvo tipas:'].value_counts()\n",
    "fix, (ax1, ax2) = plt.subplots(1, 2, figsize=(12, 6))\n",
    "ax1.pie(c.values, labels=c.index, autopct='%.2f%%', startangle=33, pctdistance=0.7, labeldistance = 0.9, textprops={'fontsize':8, 'color': 'black'})\n",
    "sns.boxplot(data=df, x='Šaldytuvo tipas:', y='kaina', ax=ax2, showmeans=True, showfliers=False)\n",
    "ax1.set_title('Šaldytuvai pagal  tipą (Pigu.lt)')\n",
    "ax2.set_title('Šaldytuvų kainos pasiskirtymas pagal tipą (Pigu.lt)')\n",
    "ax2.set_xticklabels(ax2.get_xticklabels(), rotation=90)\n",
    "\n",
    "fig.tight_layout()\n",
    "plt.show()"
   ]
  },
  {
   "cell_type": "code",
   "execution_count": null,
   "metadata": {},
   "outputs": [],
   "source": [
    "# Šaldytuvų tūris Pigu.lt\n",
    "SDB = sqlite3.connect('VarlePigu.db')\n",
    "Cs = SDB.cursor()\n",
    "\n",
    "sql=\"\"\"SELECT kaina,\n",
    "`Bendra talpa:`\n",
    "FROM \"SaldytuvaiPigu\";\n",
    "\"\"\"\n",
    "df = pd.read_sql_query(sql, con=SDB)\n",
    "SDB.close()\n",
    "\n",
    "df.head()"
   ]
  },
  {
   "cell_type": "code",
   "execution_count": null,
   "metadata": {},
   "outputs": [],
   "source": [
    "def set_talpa(x):\n",
    "    if x is not None:\n",
    "        return float(x.replace('l', ''))\n",
    "    \n",
    "df['talpa'] = df['Bendra talpa:'].apply(set_talpa)\n",
    "df.dropna(subset='talpa', inplace=True)\n",
    "df['talpa2'] = df['talpa'].apply(lambda x: int(np.ceil(x/10) * 10))\n"
   ]
  },
  {
   "cell_type": "code",
   "execution_count": null,
   "metadata": {},
   "outputs": [],
   "source": [
    "dfv = df[['kaina', 'talpa2']]\n",
    "\n",
    "dfv_gr = dfv.groupby('talpa2').mean(numeric_only=True).round().reset_index()\n",
    "dfv_gr.head()\n",
    "sns.regplot(data=dfv_gr, x='talpa2', y='kaina', order=2)\n",
    "plt.title('Šaldytuvo kainos priklausomybė nuo talpos (Pigu.lt)')\n",
    "plt.ylabel('Kaina')\n",
    "plt.xlabel('Šaldytuvo talpa (l)')\n",
    "plt.show()"
   ]
  },
  {
   "cell_type": "code",
   "execution_count": null,
   "metadata": {},
   "outputs": [],
   "source": [
    "# Šaldytuvų energijos klase Pigu.lt\n",
    "SDB = sqlite3.connect('VarlePigu.db')\n",
    "Cs = SDB.cursor()\n",
    "\n",
    "sql=\"\"\"SELECT kaina,\n",
    "`Energijos klasė:`\n",
    "FROM \"SaldytuvaiPigu\";\n",
    "\"\"\"\n",
    "df = pd.read_sql_query(sql, con=SDB)\n",
    "SDB.close()\n",
    "\n",
    "df.head()"
   ]
  },
  {
   "cell_type": "code",
   "execution_count": null,
   "metadata": {},
   "outputs": [],
   "source": [
    "df.dropna(subset='Energijos klasė:', inplace=True)\n",
    "klases = sorted(list(set(df['Energijos klasė:'].tolist())))\n",
    "\n",
    "sns.boxplot(data=df, x='Energijos klasė:', y='kaina', showmeans=True, showfliers=False, order=klases)\n",
    "plt.title('Šaldytuvų klainos pasiskirtymas pagal energijos klasę (Pigu.lt)')\n",
    "plt.xlabel('Energijos klasė')\n",
    "plt.ylabel('Kaina')\n",
    "plt.show()"
   ]
  },
  {
   "cell_type": "code",
   "execution_count": null,
   "metadata": {},
   "outputs": [],
   "source": [
    "# Šaldytuvai energijos sanaudos Pigu.lt\n",
    "SDB = sqlite3.connect('VarlePigu.db')\n",
    "Cs = SDB.cursor()\n",
    "\n",
    "sql=\"\"\"SELECT kaina,\n",
    "`Energijos sąnaudos per metus:`\n",
    "FROM \"SaldytuvaiPigu\";\n",
    "\"\"\"\n",
    "df = pd.read_sql_query(sql, con=SDB)\n",
    "SDB.close()\n",
    "\n",
    "df.head()"
   ]
  },
  {
   "cell_type": "code",
   "execution_count": null,
   "metadata": {},
   "outputs": [],
   "source": [
    "# def set_sanaudos(x):\n",
    "#     if x is not None:\n",
    "#         return float(x.replace('^[0-9]', ''))\n",
    "    \n",
    "# df['sanaudos'] = df['Energijos sąnaudos per metus:'].apply(set_sanaudos)\n",
    "\n",
    "df['sanaudos'] = df['Energijos sąnaudos per metus:'].str.extract('(\\d+)')\n",
    "df.head()\n",
    "# df.dropna(subset='talpa', inplace=True)\n",
    "# df['talpa2'] = df['talpa'].apply(lambda x: int(np.ceil(x/10) * 10))"
   ]
  },
  {
   "cell_type": "code",
   "execution_count": null,
   "metadata": {},
   "outputs": [],
   "source": [
    "df.dropna(subset='sanaudos', inplace=True)\n",
    "df['sanaudos'] = df['sanaudos'].apply(lambda x: int(x))\n",
    "c = df['sanaudos'].mean(numeric_only=True)\n",
    "print(c)"
   ]
  }
 ],
 "metadata": {
  "kernelspec": {
   "display_name": "Python 3",
   "language": "python",
   "name": "python3"
  },
  "language_info": {
   "codemirror_mode": {
    "name": "ipython",
    "version": 3
   },
   "file_extension": ".py",
   "mimetype": "text/x-python",
   "name": "python",
   "nbconvert_exporter": "python",
   "pygments_lexer": "ipython3",
   "version": "3.13.0"
  }
 },
 "nbformat": 4,
 "nbformat_minor": 2
}
