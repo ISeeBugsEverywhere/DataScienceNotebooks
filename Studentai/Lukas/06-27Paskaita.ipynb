{
 "cells": [
  {
   "cell_type": "code",
   "execution_count": 1,
   "metadata": {},
   "outputs": [],
   "source": [
    "quit = False\n",
    "while not quit:\n",
    "    q = input(\"Įveskite q\").lower()\n",
    "    if q != 'q':\n",
    "        continue\n",
    "    else:\n",
    "        quit = True"
   ]
  },
  {
   "cell_type": "code",
   "execution_count": 24,
   "metadata": {},
   "outputs": [
    {
     "name": "stdout",
     "output_type": "stream",
     "text": [
      "could not convert string to float: 'a'\n",
      "visi veiksmai atlikti\n"
     ]
    }
   ],
   "source": [
    "# Parašykite kodą, kuris paklaustų vartotojo skaičių A ir B,\n",
    "# matematinio veiksmo (+, −, /, ∗), atliktų veiksmą, rezultatą\n",
    "# išspausdintų. Pritaikykite try bloką, kad išvengtumėte tokių\n",
    "# situacijų kaip:\n",
    "# • dalyba iš 0;\n",
    "# • vietoj skaičiaus tekstas;\n",
    "# Pritaikykite visas try bloko šakas.\n",
    "\n",
    "\n",
    "try:\n",
    "    a = float(input('ivesk skaiciu'))\n",
    "    b = float(input('ivesk skaiciu'))\n",
    "    print(a + b)\n",
    "    print(a - b)\n",
    "    print(a * b)\n",
    "    print(a / b)\n",
    "except ValueError as ex:\n",
    "    print(ex)\n",
    "except ZeroDivisionError as ex:\n",
    "    print(ex)\n",
    "finally:\n",
    "    print('visi veiksmai atlikti')"
   ]
  },
  {
   "cell_type": "code",
   "execution_count": 25,
   "metadata": {},
   "outputs": [],
   "source": [
    "def useless():\n",
    "    pass"
   ]
  },
  {
   "cell_type": "code",
   "execution_count": 26,
   "metadata": {},
   "outputs": [],
   "source": [
    "useless()"
   ]
  },
  {
   "cell_type": "code",
   "execution_count": 27,
   "metadata": {},
   "outputs": [
    {
     "data": {
      "text/plain": [
       "21.0"
      ]
     },
     "execution_count": 27,
     "metadata": {},
     "output_type": "execute_result"
    }
   ],
   "source": [
    "# Parašykite funkciją PVM skaičiavimui.\n",
    "# Pateikiami argumentai - kaina be pvm, tarifas.\n",
    "# funkcija turi gražinti PVM kiekį.\n",
    "# papildomas punktas - tarifas turi turėti numatytąją reikšmę.\n",
    "\n",
    "def PVM(kaina, tarifas = 0.21):\n",
    "    return kaina * tarifas\n",
    "\n",
    "PVM(100)"
   ]
  },
  {
   "cell_type": "code",
   "execution_count": 31,
   "metadata": {},
   "outputs": [
    {
     "data": {
      "text/plain": [
       "16"
      ]
     },
     "execution_count": 31,
     "metadata": {},
     "output_type": "execute_result"
    }
   ],
   "source": [
    "def kelti_laipsniu(sk, laipsnis=2):\n",
    "    return sk ** laipsnis\n",
    "    \n",
    "kelti_laipsniu(2, 4)"
   ]
  },
  {
   "cell_type": "code",
   "execution_count": 33,
   "metadata": {},
   "outputs": [
    {
     "data": {
      "text/plain": [
       "2.0"
      ]
     },
     "execution_count": 33,
     "metadata": {},
     "output_type": "execute_result"
    }
   ],
   "source": [
    "def laipsnio_saknis(sk, laipsnis=2):\n",
    "    return sk ** (1 / laipsnis)\n",
    "\n",
    "laipsnio_saknis(16, 4)"
   ]
  },
  {
   "cell_type": "code",
   "execution_count": 34,
   "metadata": {},
   "outputs": [
    {
     "data": {
      "text/plain": [
       "10"
      ]
     },
     "execution_count": 34,
     "metadata": {},
     "output_type": "execute_result"
    }
   ],
   "source": [
    "# kontrolinis tekstas \n",
    "txt=\"Jau saulelė atkopdama budino svietą ir žiemos triūsą pargriaudama juokės\"\n",
    "def kiek_zodziu(t):\n",
    "    return len(t.split())\n",
    "\n",
    "kiek_zodziu(txt)"
   ]
  },
  {
   "cell_type": "code",
   "execution_count": 48,
   "metadata": {},
   "outputs": [
    {
     "data": {
      "text/plain": [
       "'20F yra -6.666666666666666 C'"
      ]
     },
     "execution_count": 48,
     "metadata": {},
     "output_type": "execute_result"
    }
   ],
   "source": [
    "def konverteris(temp):\n",
    "    if \"C\" in temp:\n",
    "        print(temp)\n",
    "        c = int(temp[:-1])\n",
    "        F = (c * 1.8) + 32\n",
    "        return f'{temp} yra {F} F' \n",
    "    else:\n",
    "        f = int(temp[:-1])\n",
    "        C = (f-32) / 1.8\n",
    "        return f'{temp} yra {C} C' \n",
    "    \n",
    "konverteris('20F')"
   ]
  },
  {
   "cell_type": "code",
   "execution_count": 49,
   "metadata": {},
   "outputs": [
    {
     "data": {
      "text/plain": [
       "[9, 1]"
      ]
     },
     "execution_count": 49,
     "metadata": {},
     "output_type": "execute_result"
    }
   ],
   "source": [
    "# 1. Parašyti funkciją, kuri priima sąrašą ir grąžina naują sąrašą su\n",
    "# paskutiniu ir pirmu elementais iš pirmojo sąrašo. PVZ:\n",
    "# [1,2,3,4,5,6,7,8,9] ats: [9,1]\n",
    "\n",
    "def new_list(list):\n",
    "    lst = []\n",
    "    lst.append(list[-1])\n",
    "    lst.append(list[0])\n",
    "    return lst\n",
    "\n",
    "new_list([1,2,3,4,5,6,7,8,9])\n",
    "\n",
    "\n"
   ]
  },
  {
   "cell_type": "code",
   "execution_count": 53,
   "metadata": {},
   "outputs": [
    {
     "data": {
      "text/plain": [
       "'turi 8 baudos taskus. Tau atimamos teises.'"
      ]
     },
     "execution_count": 53,
     "metadata": {},
     "output_type": "execute_result"
    }
   ],
   "source": [
    "# 2. Parašyti funkciją greičiui tikrinti: Funkcija paima argumentą -\n",
    "# automobilio greitį. Jei greitis 50 ar mažesnis, funkcija grąžina\n",
    "# ”Ok”, jei greitis didesnis nei 50 - už kiekvieną 5km/h greičio\n",
    "# viršijimą duodamas baudos taškas (pvz: greitis 70, atsakymas\n",
    "# - 4) Jei surenkami 8 taškai ir daugiau - funkcija ne tik grąžina\n",
    "# taškų sumą, bet ir priduria, jog vairuotojo teisės atimamos.\n",
    "\n",
    "def speed_test(speed):\n",
    "    if speed > 50:\n",
    "        tsk = (speed - 50) // 5\n",
    "        if tsk >= 8:\n",
    "            return f'turi {tsk} baudos taskus. Tau atimamos teises.'\n",
    "        else:\n",
    "            return f'turi {tsk} baudos taskus'\n",
    "    else:\n",
    "        return 'ok'\n",
    "    \n",
    "speed_test(90)"
   ]
  },
  {
   "cell_type": "code",
   "execution_count": 57,
   "metadata": {},
   "outputs": [
    {
     "data": {
      "text/plain": [
       "'sugnaD'"
      ]
     },
     "execution_count": 57,
     "metadata": {},
     "output_type": "execute_result"
    }
   ],
   "source": [
    "# 4. Parašyti funkciją, kuri paima ir parašo žodį iš kitos pusės.\n",
    "# PVZ.: Dangus sugnaD.\n",
    "\n",
    "def atvirksciai(word):\n",
    "    s = ''\n",
    "    for i in range(len(word)-1, -1, -1):\n",
    "        s += word[i]\n",
    "    return s\n",
    "    \n",
    "    \n",
    "    \n",
    "atvirksciai(\"Dangus\")\n",
    "\n"
   ]
  },
  {
   "cell_type": "code",
   "execution_count": 1,
   "metadata": {},
   "outputs": [
    {
     "data": {
      "text/plain": [
       "'sugnad sanyleM'"
      ]
     },
     "execution_count": 1,
     "metadata": {},
     "output_type": "execute_result"
    }
   ],
   "source": [
    "def fn_reverse_str(string):\n",
    "    new_string = ''\n",
    "    for i in string:\n",
    "        new_string = i + new_string\n",
    "    return new_string\n",
    "\n",
    "fn_reverse_str('Melynas dangus')"
   ]
  },
  {
   "cell_type": "code",
   "execution_count": 58,
   "metadata": {},
   "outputs": [
    {
     "data": {
      "text/plain": [
       "'!sarakaV sabaL'"
      ]
     },
     "execution_count": 58,
     "metadata": {},
     "output_type": "execute_result"
    }
   ],
   "source": [
    "def reverse_string(string):\n",
    "    return \"\".join(reversed(string))\n",
    "\n",
    "reverse_string(\"Labas Vakaras!\")"
   ]
  },
  {
   "cell_type": "code",
   "execution_count": 65,
   "metadata": {},
   "outputs": [
    {
     "data": {
      "text/plain": [
       "'sytaR'"
      ]
     },
     "execution_count": 65,
     "metadata": {},
     "output_type": "execute_result"
    }
   ],
   "source": [
    "# 3. Parašyti funkciją, kuri priima tekstą ir grąžina atgal tekstą su\n",
    "# apkeistom pirma ir paskutine raidėmis. PVZ: Rytas sytaR.\n",
    "\n",
    "def switch_letters(txt):\n",
    "    return txt[-1] + txt[1:-1] + txt[0]\n",
    "switch_letters('Rytas')"
   ]
  },
  {
   "cell_type": "code",
   "execution_count": 4,
   "metadata": {},
   "outputs": [
    {
     "name": "stdout",
     "output_type": "stream",
     "text": [
      "<class 'float'> a tipas\n",
      "<class 'int'> b tipas\n",
      "<class 'str'> c tipas\n",
      "<class 'list'> d tipas\n"
     ]
    }
   ],
   "source": [
    "# 1.0.1 Išvesti kintamojo tipą. Duoti kintamieji:\n",
    "a = 3.0\n",
    "b = 4\n",
    "c = \"Python\"\n",
    "d = ['o', 3.0]\n",
    "\n",
    "print(type(a), 'a tipas')\n",
    "print(type(b), 'b tipas')\n",
    "print(type(c), 'c tipas')\n",
    "print(type(d), 'd tipas')"
   ]
  },
  {
   "cell_type": "code",
   "execution_count": 5,
   "metadata": {},
   "outputs": [
    {
     "name": "stdout",
     "output_type": "stream",
     "text": [
      "22.0\n",
      "-12.0\n",
      "85.0\n",
      "0.29411764705882354\n",
      "2.0\n",
      "5.0\n"
     ]
    }
   ],
   "source": [
    "# 1.0.2 Atlikti veiksmus su skaičiais.\n",
    "# Skaičiai:\n",
    "x = 5.0\n",
    "y = 17.0\n",
    "# Atlikite šiuos veiksmus: sudėtį, atimtį, daugybą, dalybą,\n",
    "# raskite liekaną, dalinant y iš x, liekaną dalinant x iš y.\n",
    "\n",
    "print(x + y)\n",
    "print(x - y)\n",
    "print(x * y)\n",
    "print(x / y)\n",
    "print(y % x)\n",
    "print(x % y)\n"
   ]
  },
  {
   "cell_type": "code",
   "execution_count": 8,
   "metadata": {},
   "outputs": [
    {
     "name": "stdout",
     "output_type": "stream",
     "text": [
      "4.0\n",
      "4.0\n",
      "0.0\n",
      "float division by zero\n"
     ]
    }
   ],
   "source": [
    "# 1.0.3 Atlikti veiksmus su vartotojo įvestais skaičiais a ir b.\n",
    "# Atlikite šiuos veiksmus: sudėtį, atimtį, daugybą, dalybą, raskite liekaną dalinant a iš b.\n",
    "\n",
    "try:\n",
    "    a = float(input('a?'))\n",
    "    b = float(input('b?'))\n",
    "\n",
    "    print(a + b)\n",
    "    print(a - b)\n",
    "    print(a * b)\n",
    "    print(a / b)\n",
    "    print(a % b)\n",
    "except ValueError as ex:\n",
    "    print(ex)\n",
    "except ZeroDivisionError as ex:\n",
    "    print(ex)"
   ]
  },
  {
   "cell_type": "code",
   "execution_count": 12,
   "metadata": {},
   "outputs": [
    {
     "name": "stdout",
     "output_type": "stream",
     "text": [
      "could not convert string to float: 'g' Iveskite skaiciu\n"
     ]
    }
   ],
   "source": [
    "# Parašyti programą, kuri nurodytų, ar vartotojo įvestas skaičius yra lyginis,\n",
    "# ar nelyginis\n",
    "# Hint’as - operatorius %, funkcijos input(), float(). Naudoti if sakinį.\n",
    "\n",
    "\n",
    "try:\n",
    "    skaicius = float(input('skaicius?'))\n",
    "    print('Lyginis' if skaicius % 2 == 0 else 'Nelyginis')\n",
    "except ValueError as ex:\n",
    "    print(ex, 'Iveskite skaiciu')"
   ]
  },
  {
   "cell_type": "code",
   "execution_count": 17,
   "metadata": {},
   "outputs": [
    {
     "name": "stdout",
     "output_type": "stream",
     "text": [
      "162.0\n",
      "40.5\n"
     ]
    }
   ],
   "source": [
    "# Paklausti vartotojo skaičių a, b, c ir d.\n",
    "# Suraskite šių skaičių sumą bei aritmetinį vidurkį.\n",
    "\n",
    "try:\n",
    "    a = float(input('a?'))\n",
    "    b = float(input('b?'))\n",
    "    c = float(input('c?'))\n",
    "    d = float(input('d?'))\n",
    "except ValueError as ex:\n",
    "    print(ex)\n",
    "lst = []\n",
    "lst.append(a)\n",
    "lst.append(b)\n",
    "lst.append(c)\n",
    "lst.append(d)\n",
    "print(sum(lst))\n",
    "print(sum(lst) / len(lst))\n"
   ]
  },
  {
   "cell_type": "code",
   "execution_count": 28,
   "metadata": {},
   "outputs": [
    {
     "name": "stdout",
     "output_type": "stream",
     "text": [
      "IŠVESTI ŠĮ TEKSTĄ DIDŽIOSIOMIS, MAŽOSIOMIS RAIDĖMIS. IŠSPAUSDINTI, KIEK TEKSTE YRA RAIDŽIŲ. SUSKAIČIUOTI, KIEK TEKSTE YRA ŽODŽIŲ\n",
      "išvesti šį tekstą didžiosiomis, mažosiomis raidėmis. išspausdinti, kiek tekste yra raidžių. suskaičiuoti, kiek tekste yra žodžių\n",
      "Zodziai tekste: 16\n",
      "Tekste raidziu: 108\n"
     ]
    }
   ],
   "source": [
    "# 1.0.6 Išvesti vartotojo įvestą tekstą.\n",
    "# Išvesti šį tekstą didžiosiomis, mažosiomis raidėmis. Išspausdinti, kiek tekste yra raidžių.\n",
    "# Suskaičiuoti, kiek tekste yra žodžių\n",
    "\n",
    "txt = \"Išvesti šį tekstą didžiosiomis, mažosiomis raidėmis. Išspausdinti, kiek tekste yra raidžių. Suskaičiuoti, kiek tekste yra žodžių\"\n",
    "print(txt.upper())\n",
    "print(txt.lower())\n",
    "\n",
    "print(f'Zodziai tekste: {len(txt.split())}')\n",
    "\n",
    "letter = 0\n",
    "for char in txt:\n",
    "    if char.isalpha():\n",
    "        letter += 1\n",
    "        \n",
    "print(f'Tekste raidziu: {letter}')"
   ]
  },
  {
   "cell_type": "code",
   "execution_count": 31,
   "metadata": {},
   "outputs": [
    {
     "name": "stdout",
     "output_type": "stream",
     "text": [
      "FizzBuzz\n"
     ]
    }
   ],
   "source": [
    "# 1.0.7 FizzBuzz programa.\n",
    "# Parašyti FizzBuzz programą - patikrinti įvestą vartotojo skaičių, ar jis yra dalus iš 3-jų, 5-kių\n",
    "# ar abiejų.\n",
    "# • Jei įvestas skaičius dalus iš 3 - spausdinti Fizz;\n",
    "# • Jei įvestas skaičius dalus iš 5 - spausdinti Buzz;\n",
    "# • Jei įvestas skaičius dalus iš 3 ir 5 - spausdinti FizzBuzz.\n",
    "# • Jei nesidalina iš nurodytų skaičių - spausdinti įvestą skaičių.\n",
    "\n",
    "try:\n",
    "    number = int(input('iveskite skaiciu'))\n",
    "except ValueError as ex:\n",
    "    print(ex)\n",
    "    \n",
    "if number % 3 == 0 and number % 5 == 0:\n",
    "    print('FizzBuzz')\n",
    "elif number % 3 == 0:\n",
    "    print('Fizz')\n",
    "elif number % 5 == 0:\n",
    "    print('Buzz')\n",
    "else:\n",
    "    print(number)"
   ]
  },
  {
   "cell_type": "code",
   "execution_count": 1,
   "metadata": {},
   "outputs": [
    {
     "name": "stdout",
     "output_type": "stream",
     "text": [
      "Vilnius Palėvenėlės.\n",
      "ajono\n",
      "vilnius – kaimas kupiškio rajono savivaldybėje, 10 km nuo palėvenėlės.\n",
      "VILNIUS – KAIMAS KUPIŠKIO RAJONO SAVIVALDYBĖJE, 10 KM NUO PALĖVENĖLĖS.\n",
      "Vilnius kaimas rajono 10 nuo\n"
     ]
    }
   ],
   "source": [
    "# 1.0.8 Duotas tekstas \n",
    "t = \"Vilnius – kaimas Kupiškio rajono savivaldybėje, 10 km nuo Palėvenėlės.\"\n",
    "\n",
    "# Užduotis - išvesti pirmą, paskutinį žodžius.\n",
    "\n",
    "sarasas = t.split()\n",
    "print(sarasas[0], sarasas[-1])\n",
    "\n",
    "#  Išvesti penktojo žodžio paskutinius 5-kis simbolius.\n",
    "# \n",
    "print(sarasas[4][-5:])\n",
    "#  \n",
    "#  Išvesti tekstą didžiosiomis, mažosiomis raidėmis.\n",
    "# \n",
    "print(t.lower())\n",
    "print(t.upper()) \n",
    "#  Išveskite kas antrą žodį.\n",
    "print(' '.join(sarasas[::2]))\n"
   ]
  },
  {
   "cell_type": "code",
   "execution_count": 2,
   "metadata": {},
   "outputs": [
    {
     "name": "stdout",
     "output_type": "stream",
     "text": [
      "Labas\n",
      "kolegos!\n",
      "['vakaras', 'mieli']\n"
     ]
    }
   ],
   "source": [
    "# 1.0.9 Paklausti vartotojo teksto, ir išvesti pirmą įvestą žodį, paskutinį, vidurinį.\n",
    "\n",
    "t = input('ivesk teksta')\n",
    "zodziai = t.split()\n",
    "pirmas = zodziai[0]\n",
    "paskutinis = zodziai[-1]\n",
    "vidurinis = zodziai[(len(zodziai)-1)//2:(len(zodziai)+2)//2]\n",
    "\n",
    "\n",
    "print(pirmas)\n",
    "print(paskutinis)\n",
    "print(vidurinis)"
   ]
  },
  {
   "cell_type": "code",
   "execution_count": 4,
   "metadata": {},
   "outputs": [
    {
     "name": "stdout",
     "output_type": "stream",
     "text": [
      "Sėkmė yra \n",
      "itiktinumo\n",
      "ė yra 80 proc. darbo \n",
      "50\n",
      "9\n",
      "S\n",
      "ė\n",
      "k\n",
      "m\n",
      "ė\n",
      "y\n",
      "r\n",
      "a\n",
      "8\n",
      "0\n",
      "p\n",
      "r\n",
      "o\n",
      "c\n",
      ".\n",
      "d\n",
      "a\n",
      "r\n",
      "b\n",
      "o\n",
      "i\n",
      "r\n",
      "2\n",
      "0\n",
      "p\n",
      "r\n",
      "o\n",
      "c\n",
      ".\n",
      "a\n",
      "t\n",
      "s\n",
      "i\n",
      "t\n",
      "i\n",
      "k\n",
      "t\n",
      "i\n",
      "n\n",
      "u\n",
      "m\n",
      "o\n",
      "###############\n",
      "Sėkmė\n",
      "yra\n",
      "80\n",
      "proc.\n",
      "darbo\n",
      "ir\n",
      "20\n",
      "proc.\n",
      "atsitiktinumo\n"
     ]
    }
   ],
   "source": [
    "# 1.0.10 Duotas tekstas:\n",
    "txt = 'Sėkmė yra 80 proc. darbo ir 20 proc. atsitiktinumo'\n",
    "# Naudojantis slice operacija, išvesti\n",
    "# a) pirmus 10 simbolių;\n",
    "\n",
    "print(txt[:10])\n",
    "\n",
    "# b) paskutinius 10 simbolių;\n",
    "\n",
    "print(txt[-10:])\n",
    "\n",
    "# c) simbolius nuo 5 iki 25-to.\n",
    "\n",
    "print(txt[4:25])\n",
    "\n",
    "# Gautuosius simbolius paversti į didžiasiąs raides.\n",
    "# atsakymas - naudoti upper() ir lower() metodus\n",
    "\n",
    "# Parašyti komandą, kuri suskaičiuotų, kiek šiame tekste yra simbolių.\n",
    "\n",
    "print(len(txt))\n",
    "\n",
    "# Parašyti komandą, kuri suskaičiuotų, kiek šiame tekste yra žodžių.\n",
    "\n",
    "print(len(txt.split()))\n",
    "\n",
    "# Parašykite ciklą, kuris išvestų duotojo teksto raides (po vieną).\n",
    "\n",
    "new_txt  = txt.replace(' ', '')\n",
    "for i in new_txt:\n",
    "    print(i)\n",
    "print('#' * 15)\n",
    "# Parašykite ciklą, kuris išvestų šio teksto žodžius (po vieną).\n",
    "\n",
    "words_txt = txt.split()\n",
    "for i in words_txt:\n",
    "    print(i)"
   ]
  },
  {
   "cell_type": "code",
   "execution_count": 5,
   "metadata": {},
   "outputs": [
    {
     "name": "stdout",
     "output_type": "stream",
     "text": [
      "4\n",
      "2\n",
      "1\n",
      "2\n",
      "3\n",
      "4\n"
     ]
    }
   ],
   "source": [
    "# 1.0.11 Turite tuščią sąrašą l.\n",
    "\n",
    "l = []\n",
    "\n",
    "# Įrašykite į šį sąrašą šiuos skaičius: 1, 2, 3, 4.\n",
    "\n",
    "l.append(1)\n",
    "l.append(2)\n",
    "l.append(3)\n",
    "l.append(4)\n",
    "\n",
    "# Suskaičiuokite, kiek yra elementų šiame sąraše.\n",
    "\n",
    "print(len(l))\n",
    "\n",
    "# Išspausdinkite 2-jį elementą.\n",
    "\n",
    "print(l[1])\n",
    "\n",
    "# Išveskite kiekvieną elementą į ekraną (print statement’as)\n",
    "\n",
    "for i in l:\n",
    "    print(i)"
   ]
  },
  {
   "cell_type": "code",
   "execution_count": 6,
   "metadata": {},
   "outputs": [
    {
     "name": "stdout",
     "output_type": "stream",
     "text": [
      "[1, 6, 15, 28, 45, 66, 91, 120, 153, 190]  cia a*b\n",
      "[1.0, 0.6666666666666666, 0.6, 0.5714285714285714, 0.5555555555555556, 0.5454545454545454, 0.5384615384615384, 0.5333333333333333, 0.5294117647058824, 0.5263157894736842] cia c = a/b\n",
      "[1, 4, 9, 16, 25, 36, 49, 64, 81, 100] cia a**2\n"
     ]
    }
   ],
   "source": [
    "# 1.0.12 Duotas sąrašai\n",
    "a = [1,2,3,4,5,6,7,8,9,10] \n",
    "b = [1,3,5,7,9,11,13,15,17,19]\n",
    "# Naudojant ciklą, sudauginti a su b ir gautąjį sąrašą išspausdinti (išvesti).\n",
    "\n",
    "a_x_b = [a1 * b1 for a1, b1 in zip(a, b)]\n",
    "print(a_x_b, ' cia a*b')\n",
    "\n",
    "# Naudojant ciklą, parašyti kodą, kuris apskaičiuotų ir išspausdintų nurodytus sąrašus: c = a /b\n",
    "# , d = a ⋅ b, e = a2\n",
    "\n",
    "c = [a1 / b1 for a1, b1 in zip(a, b)]\n",
    "print(c, 'cia c = a/b')\n",
    "\n",
    "e = [a1 ** 2 for a1 in a]\n",
    "print(e, 'cia a**2')"
   ]
  },
  {
   "cell_type": "code",
   "execution_count": 7,
   "metadata": {},
   "outputs": [
    {
     "name": "stdout",
     "output_type": "stream",
     "text": [
      "[5, 10, 15, 20, 25, 30, 35, 40, 45, 50] cia x * number\n",
      "[10, 5, 20, 35, 55, 65, 75, 85, 95, 105] cia y * number\n",
      "[2, 2, 12, 28, 55, 78, 105, 136, 171, 210] cia x*y\n",
      "[0.5, 2.0, 0.75, 0.5714285714285714, 0.45454545454545453, 0.46153846153846156, 0.4666666666666667, 0.47058823529411764, 0.47368421052631576, 0.47619047619047616] cia x / y\n"
     ]
    }
   ],
   "source": [
    "# 1.0.13 Parašyti kodą, kuris sudaugintų standartinius Python’o sąrašus\n",
    "# Sąrašai:\n",
    "\n",
    "x = [1,2,3,4,5,6,7,8,9,10] \n",
    "y = [2,1,4,7,11,13,15,17,19,21] \n",
    "# a) Iš skaičiaus, kurį įveda vartotojas\n",
    "\n",
    "try:\n",
    "    number = int(input('number?'))\n",
    "except ValueError as ex:\n",
    "    print(ex)\n",
    "\n",
    "x_x_number = [x1 * number for x1 in x]\n",
    "y_x_number = [y1 * number for y1 in y]\n",
    "\n",
    "print(x_x_number, 'cia x * number')\n",
    "print(y_x_number, 'cia y * number')\n",
    "\n",
    "# b) Vieną su kitu (gauti sąrašą c, kuris lygus x elementus padauginant iš atitinkamų y elementų).\n",
    "# Naudoti ciklus, nenaudoti numpy.\n",
    "\n",
    "c = [x1 * y1 for x1, y1 in zip(x, y)]\n",
    "print(c, 'cia x*y')\n",
    "\n",
    "# c) Padalinkite x sąrašą iš y.\n",
    "\n",
    "d = [x1 / y1 for x1, y1 in zip(x, y)]\n",
    "print(d, 'cia x / y')"
   ]
  },
  {
   "cell_type": "code",
   "execution_count": 8,
   "metadata": {},
   "outputs": [
    {
     "name": "stdout",
     "output_type": "stream",
     "text": [
      "lyginiu: 6\n",
      "nelyginiu: 9\n",
      "lyginiu aritmetinis vidurkis: 19.666666666666668\n",
      "nelyginiu aritmetinis vidurkis: 10.333333333333334\n",
      "lyginiu geometrinis vidurkis: 11.542998948276226\n",
      "nelyginiu geometrinis vidurkis: 7.447789060288642\n"
     ]
    }
   ],
   "source": [
    "# 1.0.14 Parašyti programą, kuri suskaičiuotų, kiek yra lyginių ir nelyginių skaičių\n",
    "# sąraše.\n",
    "# Taip pat suskaičiuotų lyginių ir nelyginių skaičių aritmetinį ir geometrinį vidurkius.\n",
    "# Sąrašas: \n",
    "x = [1,2,3,4,5,7,8,9,11,17,19,21,22,40,42]\n",
    "even = []\n",
    "odd = []\n",
    "\n",
    "for i in x:\n",
    "    even.append(i) if i % 2 == 0 else odd.append(i)\n",
    "\n",
    "print(f'lyginiu: {len(even)}')\n",
    "print(f'nelyginiu: {len(odd)}')\n",
    "\n",
    "print(f'lyginiu aritmetinis vidurkis: {sum(even) / len(even)}')\n",
    "print(f'nelyginiu aritmetinis vidurkis: {sum(odd) / len(odd)}')\n",
    "\n",
    "ee = 1 # cia even sandauga\n",
    "for e in even:\n",
    "    ee = ee * e\n",
    "\n",
    "oo = 1 # cia odd sandauga\n",
    "for o in odd:\n",
    "    oo = oo * o\n",
    "\n",
    "\n",
    "print(f'lyginiu geometrinis vidurkis: {ee ** (1 / len(even))}')\n",
    "print(f'nelyginiu geometrinis vidurkis: {oo ** (1 / len(odd))}')"
   ]
  },
  {
   "cell_type": "code",
   "execution_count": 9,
   "metadata": {},
   "outputs": [
    {
     "name": "stdout",
     "output_type": "stream",
     "text": [
      "15\n",
      "16\n",
      "17\n",
      "18\n",
      "19\n",
      "20\n",
      "21\n",
      "22\n",
      "23\n",
      "24\n",
      "25\n",
      "26\n",
      "27\n",
      "##########\n",
      "0\n",
      "1\n",
      "2\n",
      "3\n",
      "4\n",
      "5\n",
      "6\n",
      "7\n",
      "8\n",
      "9\n",
      "10\n",
      "##########\n",
      "0\n",
      "1\n",
      "4\n",
      "9\n",
      "16\n",
      "25\n",
      "36\n",
      "49\n",
      "64\n",
      "81\n",
      "100\n"
     ]
    }
   ],
   "source": [
    "# 1.0.15 Parašykite ciklą, panaudodami range()funkciją\n",
    "# a) ciklas turi išvesti skaičius nuo 15 iki 27, kas vieną.\n",
    "\n",
    "for i in range(15, 28):\n",
    "    print(i)\n",
    "print('#' * 10)\n",
    "\n",
    "# b) pakeiskite ciklą, kad būtų išvedama nuo 0 iki 10 skaičiai.\n",
    "\n",
    "for i in range(0, 11):\n",
    "    print(i)\n",
    "print('#' * 10)\n",
    "# c) pakeiskite ciklą, kad būtų išvedami skaičiai, padauginti patys iš savęs (ribos 0-10)\n",
    "\n",
    "for i in range(0, 11):\n",
    "    print(i * i)"
   ]
  },
  {
   "cell_type": "code",
   "execution_count": 10,
   "metadata": {},
   "outputs": [
    {
     "name": "stdout",
     "output_type": "stream",
     "text": [
      "[0, 1, 2, 3, 4, 5, 6, 7, 8, 9, 10, 11, 12, 13, 14, 15]\n",
      "[0, 3, 6, 9, 12]\n"
     ]
    }
   ],
   "source": [
    "# 1.0.16 Parašyti kodą, kuris sugeneruotų sąrašą a, kuriame būtų skaičiai nuo 0 iki\n",
    "# 15, kas 1-ną.\n",
    "# Patobulinti kodą taip, kad vartotojas įvestų, kiek elementų turi būti sąraše (sąrašo ilgį), bei\n",
    "# žingsnį - kas kiek turi didėti skaičiai sąraše.\n",
    "a = [i for i in range(0,16)]\n",
    "print(a)\n",
    "\n",
    "try:\n",
    "    ilgis = int(input('saraso ilgis?'))\n",
    "    zingsnis = int(input('zingsnis?'))\n",
    "except ValueError as ex:\n",
    "    print(ex)\n",
    "\n",
    "b = [i for i in range(0, ilgis, zingsnis)]\n",
    "print(b)"
   ]
  },
  {
   "cell_type": "code",
   "execution_count": 15,
   "metadata": {},
   "outputs": [
    {
     "name": "stdout",
     "output_type": "stream",
     "text": [
      "sarasas: [74, 53, 70, 31, 26, 8, 91, 15, 79, 25]\n",
      "saraso vidurkis: 47.2\n"
     ]
    }
   ],
   "source": [
    "# 1.0.17 Atsitiktinai sugeneruoti sąrašą (list) ir suskaičiuoti visų elementų vidurkį\n",
    "# Vartotojas įveda sąrašo ilgį nurodantį skaičių. Pvz, įvestas 10, vadinasi, sąraše turi būti 10\n",
    "# elementų.\n",
    "\n",
    "import random\n",
    "try:\n",
    "    ilgis = int(input('saraso ilgis?'))\n",
    "except ValueError as ex:\n",
    "    print(ex)\n",
    "    \n",
    "    \n",
    "lst = []\n",
    "i = 0\n",
    "while i != ilgis:\n",
    "    lst.append(random.randint(0, 100))\n",
    "    i += 1\n",
    "    \n",
    "vidurkis_lst = sum(lst) / len(lst)\n",
    "print(f'sarasas: {lst}')\n",
    "print(f'saraso vidurkis: {vidurkis_lst}')"
   ]
  },
  {
   "cell_type": "code",
   "execution_count": 18,
   "metadata": {},
   "outputs": [],
   "source": [
    "# 1.0.18 Parašyti amžiną while ciklą, kuris būtų nutraukiamas vartotojui įvedus\n",
    "# skaičių 27.\n",
    "\n",
    "quit = False\n",
    "while not quit:\n",
    "    q = input(\"Įveskite skaiciu\")\n",
    "    if q != '27':\n",
    "        continue\n",
    "    else:\n",
    "        quit = True"
   ]
  },
  {
   "cell_type": "code",
   "execution_count": 21,
   "metadata": {},
   "outputs": [
    {
     "name": "stdout",
     "output_type": "stream",
     "text": [
      "labas\n",
      "rytas\n",
      "šiandien\n",
      "graži\n",
      "diena\n",
      "##########\n",
      "šiandien\n",
      "diena\n",
      "pelė\n"
     ]
    }
   ],
   "source": [
    "# 1.0.20 Duotas sąrašas \n",
    "a = ['labas', 'rytas', 'šiandien', 'graži', 'diena', 'šuo', 'katė', 'pelė', 'ir']\n",
    "# Išveskite tik tuos žodžius, kurie yra ilgesni nei 4-ri simboliai ir savyje turi ’a’ simbolį.\n",
    "\n",
    "for word in a:\n",
    "    if len(word) > 4 and 'a' in word:\n",
    "        print(word)\n",
    "\n",
    "# Pakeiskite kodą taip, kad ir ilgį, ir ieškomą simbolį įvestų vartotojas su input() funkcija.\n",
    "\n",
    "try:\n",
    "    ilgis = int(input('ilgis?'))\n",
    "    simbolis = input('simbolis?')\n",
    "except ValueError as ex:\n",
    "    print(ex)\n",
    "\n",
    "\n",
    "print('#'*10)   \n",
    "for zodis in a:\n",
    "    if len(zodis) > ilgis and simbolis in zodis:\n",
    "        print(zodis)"
   ]
  },
  {
   "cell_type": "code",
   "execution_count": 27,
   "metadata": {},
   "outputs": [
    {
     "name": "stdout",
     "output_type": "stream",
     "text": [
      "Vilnius – Lietuvos sostinė ir didži?usi?s š?lies miest?s, Vilni?us ?pskrities, r?jono\n",
      "ir miesto s?viv?ldybės centr?s. Įsikūręs š?lies pietryčiuose, Neries ir Vilnios s?nt?kos. Vilnius\n",
      "yr? ?rkivyskupijos centr?s, nuo 1579 m. – universitetinis miest?s.”\n",
      "\n",
      "Vilnius – Lietuvos sostinė ir didžiausias šalies miestas, Vilniaus apskrities, rajono\n",
      "ir miesto savivaldybės centras. Įsikūręs šalies pietryčiuose, Neries ir Vilnios santakos. Vilnius\n",
      "yra arkivyskupijos centras, nuo 1579 m. – universitetinis miestas.”\n",
      "\n",
      "Vil$ius$– L$etu$os $ost$nė $r d$dži$usi$s š$lie$ mi$sta$, V$lni$us $psk$iti$s, $ajo$o\n",
      "i$ mi$sto$sav$val$ybė$ ce$tra$. Į$ikū$ęs $ali$s p$etr$čiu$se,$Ner$es $r V$lni$s s$nta$os.$Vil$ius$yra$ark$vys$upi$os $ent$as,$nuo$157$ m.$– u$ive$sit$tin$s m$est$s.”\n"
     ]
    }
   ],
   "source": [
    "# 1.0.21 Duotajame tekste pakeisti nurodytas raides/simbolius vartotojo įvestu\n",
    "# simboliu.\n",
    "Tekstas = \"\"\"Vilnius – Lietuvos sostinė ir didžiausias šalies miestas, Vilniaus apskrities, rajono\n",
    "ir miesto savivaldybės centras. Įsikūręs šalies pietryčiuose, Neries ir Vilnios santakos. Vilnius\n",
    "yra arkivyskupijos centras, nuo 1579 m. – universitetinis miestas.”\"\"\"\n",
    "\n",
    "# Vartotojas įveda du simbolius - kurio ieškoti, ir kuriuo pakeisti. T.y. jei įvedamas simbolis ’a’,\n",
    "# ir po to simbolis ’?’, tai duotajame tekste visi ’a’ simboliai turi būti pakeisti ’?’ simboliais.\n",
    "\n",
    "print(Tekstas.replace('a', '?'))\n",
    "\n",
    "print()\n",
    "\n",
    "# Papildymas - vartotojas įveda skaičių, nurodantį, kas kelintas simbolis turi būti pakeistas nauju,\n",
    "# vartotojo įvestu simboliu. Pvz.: jei įvedamas skaičius 3 ir ’?’, tai kas 3-čias simbolis turi būti\n",
    "# pakeistas į ’?’. Pradinis ir naujasis tekstai išvedami į ekraną (terminalą).\n",
    "\n",
    "\n",
    "try:\n",
    "    skaicius = int(input('skaicius?'))\n",
    "    simbolis = input('simbolis?')\n",
    "except ValueError as ex:\n",
    "    print(ex)\n",
    "\n",
    "naujas_tekstas = ''\n",
    "for idx, char in enumerate(Tekstas, 1):\n",
    "    if idx % skaicius != 0:\n",
    "        naujas_tekstas += char\n",
    "    else:\n",
    "        naujas_tekstas += simbolis\n",
    "        \n",
    "print(Tekstas)\n",
    "print()\n",
    "print(naujas_tekstas)"
   ]
  }
 ],
 "metadata": {
  "kernelspec": {
   "display_name": "Python 3",
   "language": "python",
   "name": "python3"
  },
  "language_info": {
   "codemirror_mode": {
    "name": "ipython",
    "version": 3
   },
   "file_extension": ".py",
   "mimetype": "text/x-python",
   "name": "python",
   "nbconvert_exporter": "python",
   "pygments_lexer": "ipython3",
   "version": "3.12.4"
  }
 },
 "nbformat": 4,
 "nbformat_minor": 2
}
