{
 "cells": [
  {
   "cell_type": "code",
   "execution_count": 1,
   "metadata": {},
   "outputs": [],
   "source": [
    "quit = False\n",
    "while not quit:\n",
    "    q = input(\"Įveskite q\").lower()\n",
    "    if q != 'q':\n",
    "        continue\n",
    "    else:\n",
    "        quit = True"
   ]
  },
  {
   "cell_type": "code",
   "execution_count": 24,
   "metadata": {},
   "outputs": [
    {
     "name": "stdout",
     "output_type": "stream",
     "text": [
      "could not convert string to float: 'a'\n",
      "visi veiksmai atlikti\n"
     ]
    }
   ],
   "source": [
    "# Parašykite kodą, kuris paklaustų vartotojo skaičių A ir B,\n",
    "# matematinio veiksmo (+, −, /, ∗), atliktų veiksmą, rezultatą\n",
    "# išspausdintų. Pritaikykite try bloką, kad išvengtumėte tokių\n",
    "# situacijų kaip:\n",
    "# • dalyba iš 0;\n",
    "# • vietoj skaičiaus tekstas;\n",
    "# Pritaikykite visas try bloko šakas.\n",
    "\n",
    "\n",
    "try:\n",
    "    a = float(input('ivesk skaiciu'))\n",
    "    b = float(input('ivesk skaiciu'))\n",
    "    print(a + b)\n",
    "    print(a - b)\n",
    "    print(a * b)\n",
    "    print(a / b)\n",
    "except ValueError as ex:\n",
    "    print(ex)\n",
    "except ZeroDivisionError as ex:\n",
    "    print(ex)\n",
    "finally:\n",
    "    print('visi veiksmai atlikti')"
   ]
  },
  {
   "cell_type": "code",
   "execution_count": 25,
   "metadata": {},
   "outputs": [],
   "source": [
    "def useless():\n",
    "    pass"
   ]
  },
  {
   "cell_type": "code",
   "execution_count": 26,
   "metadata": {},
   "outputs": [],
   "source": [
    "useless()"
   ]
  },
  {
   "cell_type": "code",
   "execution_count": 27,
   "metadata": {},
   "outputs": [
    {
     "data": {
      "text/plain": [
       "21.0"
      ]
     },
     "execution_count": 27,
     "metadata": {},
     "output_type": "execute_result"
    }
   ],
   "source": [
    "# Parašykite funkciją PVM skaičiavimui.\n",
    "# Pateikiami argumentai - kaina be pvm, tarifas.\n",
    "# funkcija turi gražinti PVM kiekį.\n",
    "# papildomas punktas - tarifas turi turėti numatytąją reikšmę.\n",
    "\n",
    "def PVM(kaina, tarifas = 0.21):\n",
    "    return kaina * tarifas\n",
    "\n",
    "PVM(100)"
   ]
  },
  {
   "cell_type": "code",
   "execution_count": 31,
   "metadata": {},
   "outputs": [
    {
     "data": {
      "text/plain": [
       "16"
      ]
     },
     "execution_count": 31,
     "metadata": {},
     "output_type": "execute_result"
    }
   ],
   "source": [
    "def kelti_laipsniu(sk, laipsnis=2):\n",
    "    return sk ** laipsnis\n",
    "    \n",
    "kelti_laipsniu(2, 4)"
   ]
  },
  {
   "cell_type": "code",
   "execution_count": 33,
   "metadata": {},
   "outputs": [
    {
     "data": {
      "text/plain": [
       "2.0"
      ]
     },
     "execution_count": 33,
     "metadata": {},
     "output_type": "execute_result"
    }
   ],
   "source": [
    "def laipsnio_saknis(sk, laipsnis=2):\n",
    "    return sk ** (1 / laipsnis)\n",
    "\n",
    "laipsnio_saknis(16, 4)"
   ]
  },
  {
   "cell_type": "code",
   "execution_count": 34,
   "metadata": {},
   "outputs": [
    {
     "data": {
      "text/plain": [
       "10"
      ]
     },
     "execution_count": 34,
     "metadata": {},
     "output_type": "execute_result"
    }
   ],
   "source": [
    "# kontrolinis tekstas \n",
    "txt=\"Jau saulelė atkopdama budino svietą ir žiemos triūsą pargriaudama juokės\"\n",
    "def kiek_zodziu(t):\n",
    "    return len(t.split())\n",
    "\n",
    "kiek_zodziu(txt)"
   ]
  },
  {
   "cell_type": "code",
   "execution_count": 48,
   "metadata": {},
   "outputs": [
    {
     "data": {
      "text/plain": [
       "'20F yra -6.666666666666666 C'"
      ]
     },
     "execution_count": 48,
     "metadata": {},
     "output_type": "execute_result"
    }
   ],
   "source": [
    "def konverteris(temp):\n",
    "    if \"C\" in temp:\n",
    "        print(temp)\n",
    "        c = int(temp[:-1])\n",
    "        F = (c * 1.8) + 32\n",
    "        return f'{temp} yra {F} F' \n",
    "    else:\n",
    "        f = int(temp[:-1])\n",
    "        C = (f-32) / 1.8\n",
    "        return f'{temp} yra {C} C' \n",
    "    \n",
    "konverteris('20F')"
   ]
  },
  {
   "cell_type": "code",
   "execution_count": 49,
   "metadata": {},
   "outputs": [
    {
     "data": {
      "text/plain": [
       "[9, 1]"
      ]
     },
     "execution_count": 49,
     "metadata": {},
     "output_type": "execute_result"
    }
   ],
   "source": [
    "# 1. Parašyti funkciją, kuri priima sąrašą ir grąžina naują sąrašą su\n",
    "# paskutiniu ir pirmu elementais iš pirmojo sąrašo. PVZ:\n",
    "# [1,2,3,4,5,6,7,8,9] ats: [9,1]\n",
    "\n",
    "def new_list(list):\n",
    "    lst = []\n",
    "    lst.append(list[-1])\n",
    "    lst.append(list[0])\n",
    "    return lst\n",
    "\n",
    "new_list([1,2,3,4,5,6,7,8,9])\n",
    "\n",
    "\n"
   ]
  },
  {
   "cell_type": "code",
   "execution_count": 53,
   "metadata": {},
   "outputs": [
    {
     "data": {
      "text/plain": [
       "'turi 8 baudos taskus. Tau atimamos teises.'"
      ]
     },
     "execution_count": 53,
     "metadata": {},
     "output_type": "execute_result"
    }
   ],
   "source": [
    "# 2. Parašyti funkciją greičiui tikrinti: Funkcija paima argumentą -\n",
    "# automobilio greitį. Jei greitis 50 ar mažesnis, funkcija grąžina\n",
    "# ”Ok”, jei greitis didesnis nei 50 - už kiekvieną 5km/h greičio\n",
    "# viršijimą duodamas baudos taškas (pvz: greitis 70, atsakymas\n",
    "# - 4) Jei surenkami 8 taškai ir daugiau - funkcija ne tik grąžina\n",
    "# taškų sumą, bet ir priduria, jog vairuotojo teisės atimamos.\n",
    "\n",
    "def speed_test(speed):\n",
    "    if speed > 50:\n",
    "        tsk = (speed - 50) // 5\n",
    "        if tsk >= 8:\n",
    "            return f'turi {tsk} baudos taskus. Tau atimamos teises.'\n",
    "        else:\n",
    "            return f'turi {tsk} baudos taskus'\n",
    "    else:\n",
    "        return 'ok'\n",
    "    \n",
    "speed_test(90)"
   ]
  },
  {
   "cell_type": "code",
   "execution_count": 57,
   "metadata": {},
   "outputs": [
    {
     "data": {
      "text/plain": [
       "'sugnaD'"
      ]
     },
     "execution_count": 57,
     "metadata": {},
     "output_type": "execute_result"
    }
   ],
   "source": [
    "# 4. Parašyti funkciją, kuri paima ir parašo žodį iš kitos pusės.\n",
    "# PVZ.: Dangus sugnaD.\n",
    "\n",
    "def atvirksciai(word):\n",
    "    s = ''\n",
    "    for i in range(len(word)-1, -1, -1):\n",
    "        s += word[i]\n",
    "    return s\n",
    "    \n",
    "    \n",
    "    \n",
    "atvirksciai(\"Dangus\")\n",
    "\n"
   ]
  },
  {
   "cell_type": "code",
   "execution_count": 58,
   "metadata": {},
   "outputs": [
    {
     "data": {
      "text/plain": [
       "'!sarakaV sabaL'"
      ]
     },
     "execution_count": 58,
     "metadata": {},
     "output_type": "execute_result"
    }
   ],
   "source": [
    "def reverse_string(string):\n",
    "    return \"\".join(reversed(string))\n",
    "\n",
    "reverse_string(\"Labas Vakaras!\")"
   ]
  },
  {
   "cell_type": "code",
   "execution_count": 65,
   "metadata": {},
   "outputs": [
    {
     "data": {
      "text/plain": [
       "'sytaR'"
      ]
     },
     "execution_count": 65,
     "metadata": {},
     "output_type": "execute_result"
    }
   ],
   "source": [
    "# 3. Parašyti funkciją, kuri priima tekstą ir grąžina atgal tekstą su\n",
    "# apkeistom pirma ir paskutine raidėmis. PVZ: Rytas sytaR.\n",
    "\n",
    "def switch_letters(txt):\n",
    "    return txt[-1] + txt[1:-1] + txt[0]\n",
    "switch_letters('Rytas')"
   ]
  }
 ],
 "metadata": {
  "kernelspec": {
   "display_name": "Python 3",
   "language": "python",
   "name": "python3"
  },
  "language_info": {
   "codemirror_mode": {
    "name": "ipython",
    "version": 3
   },
   "file_extension": ".py",
   "mimetype": "text/x-python",
   "name": "python",
   "nbconvert_exporter": "python",
   "pygments_lexer": "ipython3",
   "version": "3.12.4"
  }
 },
 "nbformat": 4,
 "nbformat_minor": 2
}
