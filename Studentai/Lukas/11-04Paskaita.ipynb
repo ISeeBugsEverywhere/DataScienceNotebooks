{
 "cells": [
  {
   "cell_type": "code",
   "execution_count": 7,
   "metadata": {},
   "outputs": [
    {
     "name": "stdout",
     "output_type": "stream",
     "text": [
      "[]\n"
     ]
    }
   ],
   "source": [
    "print(sorted(list(set([]))))"
   ]
  },
  {
   "cell_type": "code",
   "execution_count": 17,
   "metadata": {},
   "outputs": [
    {
     "name": "stdout",
     "output_type": "stream",
     "text": [
      "Counter()\n"
     ]
    }
   ],
   "source": [
    "def kiek_kartu(lst):\n",
    "    from collections import Counter\n",
    "    return Counter(lst)\n",
    "\n",
    "print(kiek_kartu([]))"
   ]
  },
  {
   "cell_type": "code",
   "execution_count": 20,
   "metadata": {},
   "outputs": [
    {
     "name": "stdout",
     "output_type": "stream",
     "text": [
      "['labas', 'vakaras', 'rytas']\n"
     ]
    }
   ],
   "source": [
    "def sum_lst(lst1, lst2):\n",
    "    lst3 = []\n",
    "    for i in lst1:\n",
    "        if i not in lst3:\n",
    "            lst3.append(i)\n",
    "    for i in lst2:\n",
    "        if i not in lst3:\n",
    "            lst3.append(i)\n",
    "    return lst3\n",
    "\n",
    "print(sum_lst(['labas', 'vakaras'], ['rytas', 'labas']))"
   ]
  },
  {
   "cell_type": "code",
   "execution_count": 23,
   "metadata": {},
   "outputs": [
    {
     "name": "stdout",
     "output_type": "stream",
     "text": [
      "[]\n"
     ]
    }
   ],
   "source": [
    "def not_unique_lst(lst):\n",
    "    nunique = []\n",
    "    from collections import Counter\n",
    "    diktas = Counter(lst)\n",
    "    for k, v in diktas.items():\n",
    "        if v > 1:\n",
    "            nunique.append(k)\n",
    "    return nunique\n",
    "\n",
    "print(not_unique_lst([]))"
   ]
  },
  {
   "cell_type": "code",
   "execution_count": 28,
   "metadata": {},
   "outputs": [
    {
     "ename": "ValueError",
     "evalue": "r turi būti teigiamas",
     "output_type": "error",
     "traceback": [
      "\u001b[1;31m---------------------------------------------------------------------------\u001b[0m",
      "\u001b[1;31mValueError\u001b[0m                                Traceback (most recent call last)",
      "Cell \u001b[1;32mIn[28], line 11\u001b[0m\n\u001b[0;32m      7\u001b[0m     \u001b[38;5;28;01melse\u001b[39;00m:\n\u001b[0;32m      8\u001b[0m         \u001b[38;5;28;01mraise\u001b[39;00m \u001b[38;5;167;01mValueError\u001b[39;00m(\u001b[38;5;124m'\u001b[39m\u001b[38;5;124mr turi būti int arba float tipo\u001b[39m\u001b[38;5;124m'\u001b[39m)\n\u001b[1;32m---> 11\u001b[0m \u001b[43mapskr_S\u001b[49m\u001b[43m(\u001b[49m\u001b[38;5;241;43m-\u001b[39;49m\u001b[38;5;241;43m1\u001b[39;49m\u001b[43m)\u001b[49m\n",
      "Cell \u001b[1;32mIn[28], line 6\u001b[0m, in \u001b[0;36mapskr_S\u001b[1;34m(r)\u001b[0m\n\u001b[0;32m      4\u001b[0m         \u001b[38;5;28;01mreturn\u001b[39;00m \u001b[38;5;241m3.14\u001b[39m \u001b[38;5;241m*\u001b[39m r\u001b[38;5;241m*\u001b[39m\u001b[38;5;241m*\u001b[39m\u001b[38;5;241m2\u001b[39m  \n\u001b[0;32m      5\u001b[0m     \u001b[38;5;28;01melse\u001b[39;00m:\n\u001b[1;32m----> 6\u001b[0m         \u001b[38;5;28;01mraise\u001b[39;00m \u001b[38;5;167;01mValueError\u001b[39;00m(\u001b[38;5;124m'\u001b[39m\u001b[38;5;124mr turi būti teigiamas\u001b[39m\u001b[38;5;124m'\u001b[39m)\n\u001b[0;32m      7\u001b[0m \u001b[38;5;28;01melse\u001b[39;00m:\n\u001b[0;32m      8\u001b[0m     \u001b[38;5;28;01mraise\u001b[39;00m \u001b[38;5;167;01mValueError\u001b[39;00m(\u001b[38;5;124m'\u001b[39m\u001b[38;5;124mr turi būti int arba float tipo\u001b[39m\u001b[38;5;124m'\u001b[39m)\n",
      "\u001b[1;31mValueError\u001b[0m: r turi būti teigiamas"
     ]
    }
   ],
   "source": [
    "def apskr_S(r):\n",
    "    if isinstance(r,int) or isinstance(r, float):\n",
    "        if r > 0:\n",
    "            return 3.14 * r**2  \n",
    "        else:\n",
    "            raise ValueError('r turi būti teigiamas')\n",
    "    else:\n",
    "        raise ValueError('r turi būti int arba float tipo')\n",
    "    \n",
    "\n",
    "apskr_S(-1)"
   ]
  },
  {
   "cell_type": "code",
   "execution_count": 32,
   "metadata": {},
   "outputs": [
    {
     "data": {
      "text/plain": [
       "4.187"
      ]
     },
     "execution_count": 32,
     "metadata": {},
     "output_type": "execute_result"
    }
   ],
   "source": [
    "def rut_V(r):\n",
    "    if isinstance(r,int) or isinstance(r, float):\n",
    "        if r > 0:\n",
    "            return  round((4 / 3 *3.14 * r**3), 3)  \n",
    "        else:\n",
    "            raise ValueError('r turi būti teigiamas')\n",
    "    else:\n",
    "        raise ValueError('r turi būti int arba float tipo')\n",
    "    \n",
    "    \n",
    "rut_V(1)"
   ]
  },
  {
   "cell_type": "code",
   "execution_count": 33,
   "metadata": {},
   "outputs": [
    {
     "data": {
      "text/plain": [
       "12.56"
      ]
     },
     "execution_count": 33,
     "metadata": {},
     "output_type": "execute_result"
    }
   ],
   "source": [
    "def rut_S(r):\n",
    "    if isinstance(r,int) or isinstance(r, float):\n",
    "        if r > 0:\n",
    "            return  round((4 *3.14 * r**2), 3)  \n",
    "        else:\n",
    "            raise ValueError('r turi būti teigiamas')\n",
    "    else:\n",
    "        raise ValueError('r turi būti int arba float tipo')\n",
    "    \n",
    "rut_S(1)"
   ]
  },
  {
   "cell_type": "code",
   "execution_count": null,
   "metadata": {},
   "outputs": [
    {
     "data": {
      "text/plain": [
       "['a', 2, 2, 4, 5, 6, 7]"
      ]
     },
     "execution_count": 39,
     "metadata": {},
     "output_type": "execute_result"
    }
   ],
   "source": [
    "def flatten_list(nested_list):\n",
    "    flatten_lst = []\n",
    "    for i in nested_list:\n",
    "        if isinstance(i, int) or isinstance(i, float) or isinstance(i, str):\n",
    "           flatten_lst.append(i)\n",
    "        else:\n",
    "            for j in i:\n",
    "                if isinstance(j, int) or isinstance(j, float) or isinstance(j, str):\n",
    "                    flatten_lst.append(j)\n",
    "    return flatten_lst\n",
    "\n",
    "flatten_list(['a',2,[2,4,5],6,7])\n",
    "\n"
   ]
  },
  {
   "cell_type": "code",
   "execution_count": 40,
   "metadata": {},
   "outputs": [],
   "source": [
    "import sqlite3"
   ]
  },
  {
   "cell_type": "code",
   "execution_count": 43,
   "metadata": {},
   "outputs": [
    {
     "data": {
      "text/plain": [
       "['BMW', 'Volkswagen', 'Audi', 'Toyota', 'Mercedes-Benz']"
      ]
     },
     "execution_count": 43,
     "metadata": {},
     "output_type": "execute_result"
    }
   ],
   "source": [
    "def get_markes():\n",
    "    SDB = sqlite3.connect('Auto.db')\n",
    "    C = SDB.cursor()\n",
    "    sql=\"\"\"select Marke, count(*) as k from Autopliuslt\n",
    "    group by Marke\n",
    "    order by k DESC\n",
    "    limit 5;\"\"\"\n",
    "    C.execute(sql)\n",
    "    ans = C.fetchall()\n",
    "    markes, kiekiai = list(map(list, zip(*ans)))\n",
    "    SDB.close()\n",
    "    return markes\n",
    "\n",
    "get_markes()"
   ]
  }
 ],
 "metadata": {
  "kernelspec": {
   "display_name": "Python 3",
   "language": "python",
   "name": "python3"
  },
  "language_info": {
   "codemirror_mode": {
    "name": "ipython",
    "version": 3
   },
   "file_extension": ".py",
   "mimetype": "text/x-python",
   "name": "python",
   "nbconvert_exporter": "python",
   "pygments_lexer": "ipython3",
   "version": "3.12.4"
  }
 },
 "nbformat": 4,
 "nbformat_minor": 2
}
