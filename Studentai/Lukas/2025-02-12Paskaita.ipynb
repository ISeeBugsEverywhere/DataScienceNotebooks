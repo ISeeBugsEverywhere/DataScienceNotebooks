{
 "cells": [
  {
   "cell_type": "code",
   "execution_count": null,
   "metadata": {},
   "outputs": [],
   "source": [
    "https://github.com/Call-for-Code/Spot-Challenge-Wildfires/blob/main/data/Readme_Docs_Wildfires-Datasets_2020-11.pdf \n",
    "https://github.com/Call-for-Code/Spot-Challenge-Wildfires "
   ]
  },
  {
   "cell_type": "code",
   "execution_count": 1,
   "metadata": {},
   "outputs": [],
   "source": [
    "from sklearn.ensemble import RandomForestClassifier\n",
    "from sklearn.model_selection import train_test_split\n",
    "import warnings\n",
    "warnings.filterwarnings('ignore')\n",
    "import numpy as np\n",
    "from sklearn.metrics import accuracy_score, confusion_matrix,roc_auc_score, roc_curve\n",
    "import matplotlib.pyplot as plt\n",
    "import seaborn as sns\n",
    "# from sklearn.metrics import accuracy_score, precision_score, recall_score, f1_score\n",
    "import pandas as pd\n",
    "from sklearn.linear_model import LinearRegression, LogisticRegression\n",
    "from sklearn.preprocessing import LabelEncoder, PolynomialFeatures\n",
    "from sklearn.metrics import mean_squared_error, accuracy_score, confusion_matrix, classification_report, precision_score, r2_score, mean_absolute_error\n",
    "from sklearn.tree import DecisionTreeRegressor, DecisionTreeClassifier\n",
    "from sklearn.ensemble import RandomForestRegressor\n"
   ]
  },
  {
   "cell_type": "code",
   "execution_count": 2,
   "metadata": {},
   "outputs": [],
   "source": [
    "df_wf = pd.read_csv('../../../eismas/Jan_30/Historical_Wildfires.csv')\n",
    "df_hw = pd.read_csv('../../../eismas/Jan_30/HistoricalWeather.csv')\n",
    "df_hwf = pd.read_csv('../../../eismas/Jan_30/HistoricalWeatherForecasts.csv')\n",
    "df_vi = pd.read_csv('../../../eismas/Jan_30/VegetationIndex.csv')"
   ]
  },
  {
   "cell_type": "code",
   "execution_count": 8,
   "metadata": {},
   "outputs": [
    {
     "data": {
      "text/html": [
       "<div>\n",
       "<style scoped>\n",
       "    .dataframe tbody tr th:only-of-type {\n",
       "        vertical-align: middle;\n",
       "    }\n",
       "\n",
       "    .dataframe tbody tr th {\n",
       "        vertical-align: top;\n",
       "    }\n",
       "\n",
       "    .dataframe thead th {\n",
       "        text-align: right;\n",
       "    }\n",
       "</style>\n",
       "<table border=\"1\" class=\"dataframe\">\n",
       "  <thead>\n",
       "    <tr style=\"text-align: right;\">\n",
       "      <th></th>\n",
       "      <th>Region</th>\n",
       "      <th>Date</th>\n",
       "      <th>Estimated_fire_area</th>\n",
       "      <th>Mean_estimated_fire_brightness</th>\n",
       "      <th>Mean_estimated_fire_radiative_power</th>\n",
       "      <th>Mean_confidence</th>\n",
       "      <th>Std_confidence</th>\n",
       "      <th>Var_confidence</th>\n",
       "      <th>Count</th>\n",
       "      <th>Replaced</th>\n",
       "    </tr>\n",
       "  </thead>\n",
       "  <tbody>\n",
       "    <tr>\n",
       "      <th>0</th>\n",
       "      <td>NSW</td>\n",
       "      <td>2005-01-04</td>\n",
       "      <td>8.68000</td>\n",
       "      <td>312.266667</td>\n",
       "      <td>42.4000</td>\n",
       "      <td>78.666667</td>\n",
       "      <td>2.886751</td>\n",
       "      <td>8.333333</td>\n",
       "      <td>3</td>\n",
       "      <td>R</td>\n",
       "    </tr>\n",
       "    <tr>\n",
       "      <th>1</th>\n",
       "      <td>NSW</td>\n",
       "      <td>2005-01-05</td>\n",
       "      <td>16.61125</td>\n",
       "      <td>322.475000</td>\n",
       "      <td>62.3625</td>\n",
       "      <td>85.500000</td>\n",
       "      <td>8.088793</td>\n",
       "      <td>65.428571</td>\n",
       "      <td>8</td>\n",
       "      <td>R</td>\n",
       "    </tr>\n",
       "  </tbody>\n",
       "</table>\n",
       "</div>"
      ],
      "text/plain": [
       "  Region       Date  Estimated_fire_area  Mean_estimated_fire_brightness  \\\n",
       "0    NSW 2005-01-04              8.68000                      312.266667   \n",
       "1    NSW 2005-01-05             16.61125                      322.475000   \n",
       "\n",
       "   Mean_estimated_fire_radiative_power  Mean_confidence  Std_confidence  \\\n",
       "0                              42.4000        78.666667        2.886751   \n",
       "1                              62.3625        85.500000        8.088793   \n",
       "\n",
       "   Var_confidence  Count Replaced  \n",
       "0        8.333333      3        R  \n",
       "1       65.428571      8        R  "
      ]
     },
     "execution_count": 8,
     "metadata": {},
     "output_type": "execute_result"
    }
   ],
   "source": [
    "df_wf.head(2)"
   ]
  },
  {
   "cell_type": "code",
   "execution_count": 9,
   "metadata": {},
   "outputs": [
    {
     "data": {
      "text/html": [
       "<div>\n",
       "<style scoped>\n",
       "    .dataframe tbody tr th:only-of-type {\n",
       "        vertical-align: middle;\n",
       "    }\n",
       "\n",
       "    .dataframe tbody tr th {\n",
       "        vertical-align: top;\n",
       "    }\n",
       "\n",
       "    .dataframe thead th {\n",
       "        text-align: right;\n",
       "    }\n",
       "</style>\n",
       "<table border=\"1\" class=\"dataframe\">\n",
       "  <thead>\n",
       "    <tr style=\"text-align: right;\">\n",
       "      <th></th>\n",
       "      <th>Date</th>\n",
       "      <th>Region</th>\n",
       "      <th>Parameter</th>\n",
       "      <th>count()[unit: km^2]</th>\n",
       "      <th>min()</th>\n",
       "      <th>max()</th>\n",
       "      <th>mean()</th>\n",
       "      <th>variance()</th>\n",
       "    </tr>\n",
       "  </thead>\n",
       "  <tbody>\n",
       "    <tr>\n",
       "      <th>0</th>\n",
       "      <td>2005-01-01</td>\n",
       "      <td>NSW</td>\n",
       "      <td>Precipitation</td>\n",
       "      <td>800234.348986</td>\n",
       "      <td>0.000000</td>\n",
       "      <td>1.836935</td>\n",
       "      <td>0.044274</td>\n",
       "      <td>0.028362</td>\n",
       "    </tr>\n",
       "    <tr>\n",
       "      <th>1</th>\n",
       "      <td>2005-01-01</td>\n",
       "      <td>NSW</td>\n",
       "      <td>RelativeHumidity</td>\n",
       "      <td>800234.348986</td>\n",
       "      <td>13.877194</td>\n",
       "      <td>80.522964</td>\n",
       "      <td>36.355567</td>\n",
       "      <td>253.559937</td>\n",
       "    </tr>\n",
       "  </tbody>\n",
       "</table>\n",
       "</div>"
      ],
      "text/plain": [
       "        Date Region         Parameter  count()[unit: km^2]      min()  \\\n",
       "0 2005-01-01    NSW     Precipitation        800234.348986   0.000000   \n",
       "1 2005-01-01    NSW  RelativeHumidity        800234.348986  13.877194   \n",
       "\n",
       "       max()     mean()  variance()  \n",
       "0   1.836935   0.044274    0.028362  \n",
       "1  80.522964  36.355567  253.559937  "
      ]
     },
     "execution_count": 9,
     "metadata": {},
     "output_type": "execute_result"
    }
   ],
   "source": [
    "df_hw.head(2)"
   ]
  },
  {
   "cell_type": "code",
   "execution_count": 10,
   "metadata": {},
   "outputs": [
    {
     "data": {
      "text/html": [
       "<div>\n",
       "<style scoped>\n",
       "    .dataframe tbody tr th:only-of-type {\n",
       "        vertical-align: middle;\n",
       "    }\n",
       "\n",
       "    .dataframe tbody tr th {\n",
       "        vertical-align: top;\n",
       "    }\n",
       "\n",
       "    .dataframe thead th {\n",
       "        text-align: right;\n",
       "    }\n",
       "</style>\n",
       "<table border=\"1\" class=\"dataframe\">\n",
       "  <thead>\n",
       "    <tr style=\"text-align: right;\">\n",
       "      <th></th>\n",
       "      <th>Date</th>\n",
       "      <th>Region</th>\n",
       "      <th>Parameter</th>\n",
       "      <th>Lead time</th>\n",
       "      <th>count()[unit: km^2]</th>\n",
       "      <th>min()</th>\n",
       "      <th>max()</th>\n",
       "      <th>mean()</th>\n",
       "      <th>variance()</th>\n",
       "    </tr>\n",
       "  </thead>\n",
       "  <tbody>\n",
       "    <tr>\n",
       "      <th>0</th>\n",
       "      <td>2014-01-01</td>\n",
       "      <td>NSW</td>\n",
       "      <td>RelativeHumidity</td>\n",
       "      <td>5</td>\n",
       "      <td>8.037682e+05</td>\n",
       "      <td>7.482927</td>\n",
       "      <td>85.021118</td>\n",
       "      <td>28.223569</td>\n",
       "      <td>353.620815</td>\n",
       "    </tr>\n",
       "    <tr>\n",
       "      <th>1</th>\n",
       "      <td>2014-01-01</td>\n",
       "      <td>NSW</td>\n",
       "      <td>SolarRadiation</td>\n",
       "      <td>5</td>\n",
       "      <td>8.037682e+05</td>\n",
       "      <td>24.865765</td>\n",
       "      <td>33.557598</td>\n",
       "      <td>31.647308</td>\n",
       "      <td>2.276068</td>\n",
       "    </tr>\n",
       "    <tr>\n",
       "      <th>2</th>\n",
       "      <td>2014-01-01</td>\n",
       "      <td>NSW</td>\n",
       "      <td>Temperature</td>\n",
       "      <td>5</td>\n",
       "      <td>8.037682e+05</td>\n",
       "      <td>21.243755</td>\n",
       "      <td>36.929035</td>\n",
       "      <td>30.893523</td>\n",
       "      <td>17.918553</td>\n",
       "    </tr>\n",
       "    <tr>\n",
       "      <th>3</th>\n",
       "      <td>2014-01-01</td>\n",
       "      <td>NSW</td>\n",
       "      <td>WindSpeed</td>\n",
       "      <td>5</td>\n",
       "      <td>8.037682e+05</td>\n",
       "      <td>1.593531</td>\n",
       "      <td>6.989559</td>\n",
       "      <td>3.958822</td>\n",
       "      <td>1.334834</td>\n",
       "    </tr>\n",
       "    <tr>\n",
       "      <th>4</th>\n",
       "      <td>2014-01-01</td>\n",
       "      <td>NT</td>\n",
       "      <td>RelativeHumidity</td>\n",
       "      <td>5</td>\n",
       "      <td>1.349817e+06</td>\n",
       "      <td>14.796251</td>\n",
       "      <td>73.601479</td>\n",
       "      <td>39.799856</td>\n",
       "      <td>189.805002</td>\n",
       "    </tr>\n",
       "  </tbody>\n",
       "</table>\n",
       "</div>"
      ],
      "text/plain": [
       "        Date Region         Parameter  Lead time  count()[unit: km^2]  \\\n",
       "0 2014-01-01    NSW  RelativeHumidity          5         8.037682e+05   \n",
       "1 2014-01-01    NSW    SolarRadiation          5         8.037682e+05   \n",
       "2 2014-01-01    NSW       Temperature          5         8.037682e+05   \n",
       "3 2014-01-01    NSW         WindSpeed          5         8.037682e+05   \n",
       "4 2014-01-01     NT  RelativeHumidity          5         1.349817e+06   \n",
       "\n",
       "       min()      max()     mean()  variance()  \n",
       "0   7.482927  85.021118  28.223569  353.620815  \n",
       "1  24.865765  33.557598  31.647308    2.276068  \n",
       "2  21.243755  36.929035  30.893523   17.918553  \n",
       "3   1.593531   6.989559   3.958822    1.334834  \n",
       "4  14.796251  73.601479  39.799856  189.805002  "
      ]
     },
     "execution_count": 10,
     "metadata": {},
     "output_type": "execute_result"
    }
   ],
   "source": [
    "df_hwf.head()"
   ]
  },
  {
   "cell_type": "code",
   "execution_count": 11,
   "metadata": {},
   "outputs": [
    {
     "data": {
      "text/html": [
       "<div>\n",
       "<style scoped>\n",
       "    .dataframe tbody tr th:only-of-type {\n",
       "        vertical-align: middle;\n",
       "    }\n",
       "\n",
       "    .dataframe tbody tr th {\n",
       "        vertical-align: top;\n",
       "    }\n",
       "\n",
       "    .dataframe thead th {\n",
       "        text-align: right;\n",
       "    }\n",
       "</style>\n",
       "<table border=\"1\" class=\"dataframe\">\n",
       "  <thead>\n",
       "    <tr style=\"text-align: right;\">\n",
       "      <th></th>\n",
       "      <th>Region</th>\n",
       "      <th>Date</th>\n",
       "      <th>Vegetation_index_mean</th>\n",
       "      <th>Vegetation_index_max</th>\n",
       "      <th>Vegetation_index_min</th>\n",
       "      <th>Vegetation_index_std</th>\n",
       "      <th>Vegetation_index_variance</th>\n",
       "    </tr>\n",
       "  </thead>\n",
       "  <tbody>\n",
       "    <tr>\n",
       "      <th>0</th>\n",
       "      <td>NSW</td>\n",
       "      <td>2005-01-01</td>\n",
       "      <td>0.349202</td>\n",
       "      <td>0.9972</td>\n",
       "      <td>-0.2</td>\n",
       "      <td>0.204862</td>\n",
       "      <td>0.041968</td>\n",
       "    </tr>\n",
       "    <tr>\n",
       "      <th>1</th>\n",
       "      <td>NSW</td>\n",
       "      <td>2005-02-01</td>\n",
       "      <td>0.357403</td>\n",
       "      <td>0.9772</td>\n",
       "      <td>-0.2</td>\n",
       "      <td>0.208673</td>\n",
       "      <td>0.043544</td>\n",
       "    </tr>\n",
       "  </tbody>\n",
       "</table>\n",
       "</div>"
      ],
      "text/plain": [
       "  Region       Date  Vegetation_index_mean  Vegetation_index_max  \\\n",
       "0    NSW 2005-01-01               0.349202                0.9972   \n",
       "1    NSW 2005-02-01               0.357403                0.9772   \n",
       "\n",
       "   Vegetation_index_min  Vegetation_index_std  Vegetation_index_variance  \n",
       "0                  -0.2              0.204862                   0.041968  \n",
       "1                  -0.2              0.208673                   0.043544  "
      ]
     },
     "execution_count": 11,
     "metadata": {},
     "output_type": "execute_result"
    }
   ],
   "source": [
    "df_vi.head(2)"
   ]
  },
  {
   "cell_type": "code",
   "execution_count": 7,
   "metadata": {},
   "outputs": [],
   "source": [
    "df_wf['Date'] = pd.to_datetime(df_wf['Date'])\n",
    "df_hw['Date'] = pd.to_datetime(df_hw['Date'])\n",
    "df_hwf['Date'] = pd.to_datetime(df_hwf['Date'])\n",
    "df_vi['Date'] = pd.to_datetime(df_vi['Date'])\n"
   ]
  },
  {
   "cell_type": "code",
   "execution_count": 12,
   "metadata": {},
   "outputs": [],
   "source": [
    "plt.style.use(style='default')\n",
    "#print(plt.style.available)\n",
    "#bmh, classic, default, fivethirtyeight, ggplot ...\n",
    "plt.style.use(style='ggplot')"
   ]
  },
  {
   "cell_type": "code",
   "execution_count": 15,
   "metadata": {},
   "outputs": [
    {
     "data": {
      "image/png": "[encoded data removed]",
      "text/plain": [
       "<Figure size 640x480 with 1 Axes>"
      ]
     },
     "metadata": {},
     "output_type": "display_data"
    }
   ],
   "source": [
    "sns.lineplot(data=df_wf, x='Date', y='Estimated_fire_area', hue='Region')\n",
    "plt.show()"
   ]
  }
 ],
 "metadata": {
  "kernelspec": {
   "display_name": "Python 3",
   "language": "python",
   "name": "python3"
  },
  "language_info": {
   "codemirror_mode": {
    "name": "ipython",
    "version": 3
   },
   "file_extension": ".py",
   "mimetype": "text/x-python",
   "name": "python",
   "nbconvert_exporter": "python",
   "pygments_lexer": "ipython3",
   "version": "3.12.4"
  }
 },
 "nbformat": 4,
 "nbformat_minor": 2
}
