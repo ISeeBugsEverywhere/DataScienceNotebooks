{
 "cells": [
  {
   "cell_type": "code",
   "execution_count": 1,
   "metadata": {},
   "outputs": [],
   "source": [
    "import numpy as np\n",
    "import pandas as pd\n",
    "import matplotlib.pyplot as plt\n",
    "import warnings\n",
    "warnings.filterwarnings('ignore')\n",
    "import seaborn as sns\n",
    "import sqlite3\n",
    "import mysql.connector as cnt\n",
    "import plotly.express as px\n",
    "import requests"
   ]
  },
  {
   "cell_type": "code",
   "execution_count": 2,
   "metadata": {},
   "outputs": [],
   "source": [
    "from datetime import datetime"
   ]
  },
  {
   "cell_type": "code",
   "execution_count": null,
   "metadata": {},
   "outputs": [],
   "source": [
    "# Leiskite vartotojui nurodyti iki trijų metreologinių stočių, ir dvi datas : nuo, iki.\n",
    "# Iš meto.lt per API išgaukite istorinius duomenis nurodytame laikotarpyje,\n",
    "# ir atvaizduokite grafiškai - oro temperatūrą bei vėjo greitį.\n",
    "\n",
    "# https://docs.streamlit.io/develop/api-reference/widgets/st.multiselect\n"
   ]
  },
  {
   "cell_type": "code",
   "execution_count": null,
   "metadata": {},
   "outputs": [],
   "source": [
    "uzklausa_miestas = input(\"iveskite miestu pavadinimus (max 3):\")\n",
    "nuo = input('nuo kada (yyyy-mm-dd)?')\n",
    "iki = input('nuo kada (yyyy-mm-dd)?')\n",
    "\n",
    "miestai = uzklausa_miestas.split()"
   ]
  },
  {
   "cell_type": "code",
   "execution_count": null,
   "metadata": {},
   "outputs": [],
   "source": [
    "url1 = 'https://api.meteo.lt/v1/stations'\n",
    "\n",
    "page = requests.get(url1)\n",
    "r = page.json()\n",
    "df = pd.DataFrame(data=r)\n",
    "codes = df.loc[:,'code'].values\n",
    "\n",
    "print(codes)"
   ]
  },
  {
   "cell_type": "code",
   "execution_count": null,
   "metadata": {},
   "outputs": [],
   "source": [
    "url = 'https://api.meteo.lt/v1/stations'\n",
    "pg = requests.get(url)\n",
    "r = pg.json()\n",
    "stotys = {}\n",
    "for i in r:\n",
    "    stotys[i['name']] = i['code']\n",
    "    # codes[i['code']] = i['name']\n",
    "# print(stotys)\n",
    "n = list(stotys.keys())\n",
    "kodai = list(stotys.values())\n",
    "\n",
    "# print(n)\n",
    "# print(kodai)\n",
    "for i, k in enumerate(n):\n",
    "    print(f'{i}: {k}')\n"
   ]
  },
  {
   "cell_type": "code",
   "execution_count": null,
   "metadata": {},
   "outputs": [],
   "source": [
    "stations = input('Įveskite stoties numerį(-ius) (iki trijų numerių, atskirtų kableliais)')\n",
    "st_idx = list(map(int, stations.split(',')))\n",
    "print('Jūs pasirinkote šias stotis:')\n",
    "sel_sts = [n[i] for i in st_idx]\n",
    "sel_kodai = [kodai[i] for i in st_idx]\n",
    "print(sel_sts)\n",
    "print(sel_kodai)"
   ]
  },
  {
   "cell_type": "code",
   "execution_count": null,
   "metadata": {},
   "outputs": [],
   "source": [
    "print(\"pasirinkite laikotarpi (max menuo)\")"
   ]
  },
  {
   "cell_type": "code",
   "execution_count": 10,
   "metadata": {},
   "outputs": [],
   "source": [
    "nuo = input('nuo kada (yyyy-mm-dd)?')\n",
    "iki = input('nuo kada (yyyy-mm-dd)?')\n"
   ]
  },
  {
   "cell_type": "code",
   "execution_count": null,
   "metadata": {},
   "outputs": [],
   "source": [
    "# start date\n",
    "start_date = datetime.strptime(nuo, \"%Y-%m-%d\")\n",
    "end_date = datetime.strptime(iki, \"%Y-%m-%d\")\n",
    "\n",
    "# difference between each date. D means one day\n",
    "D = 'D'\n",
    "\n",
    "date_list = pd.date_range(start_date, end_date, freq=D)\n",
    "print(f\"Creating list of dates starting from {start_date} to {end_date}\")\n",
    "# print(date_list)\n",
    "\n",
    "# if you want dates in string format then convert it into string\n",
    "print(date_list.strftime(\"%Y-%m-%d\"))\n",
    "\n"
   ]
  },
  {
   "cell_type": "code",
   "execution_count": null,
   "metadata": {},
   "outputs": [],
   "source": [
    "from datetime import date, timedelta\n",
    "from dateutil import parser\n",
    "# nuo = input('Įveskite datą YYYY-MM-DD formatu')\n",
    "# iki = input('Įveskite datą YYYY-MM-DD formatu')\n",
    "\n",
    "datos = []\n",
    "laikai = []\n",
    "\n",
    "start_date = parser.parse(nuo)\n",
    "end_date = parser.parse(iki)\n",
    "delta = timedelta(days=1)\n",
    "while start_date <= end_date:\n",
    "    print(start_date.strftime(\"%Y-%m-%d\"))\n",
    "    datos.append(str(start_date))\n",
    "    start_date = start_date + delta\n",
    "    \n",
    "    \n",
    "for i in datos:\n",
    "    laikai.append(i[:10])\n",
    "    \n",
    "print(laikai)"
   ]
  },
  {
   "cell_type": "code",
   "execution_count": null,
   "metadata": {},
   "outputs": [],
   "source": [
    "stotys = []\n",
    "data = []\n",
    "temperatura = []\n",
    "vejas = []\n",
    "\n",
    "\n",
    "for d in laikai:\n",
    "    for s in sel_kodai:\n",
    "        url2 = f'https://api.meteo.lt/v1/stations/{s}/observations/{d}'\n",
    "        observations = requests.get(url2).json()['observations']\n",
    "        for o in observations:\n",
    "            stotys.append(s)\n",
    "            data.append(o['observationTimeUtc'])\n",
    "            temperatura.append(o['airTemperature'])\n",
    "            vejas.append(o['windSpeed'])\n",
    "\n",
    "print(temperatura)\n",
    "print(vejas)\n",
    "\n",
    "ndf = pd.DataFrame(data)\n",
    "ndf['Kodas'] = pd.DataFrame(data=stotys)\n",
    "ndf['Temperatūros'] = pd.DataFrame(data=temperatura)\n",
    "ndf['Data'] = pd.DataFrame(data=data)\n",
    "ndf['vejasSpeed'] = pd.DataFrame(data=vejas)\n",
    "\n",
    "ndf['Datos'] = pd.to_datetime(ndf['Data'])\n",
    "ndf['Laikai'] = pd.to_datetime(ndf['Data']).dt.time\n",
    "\n",
    "fig, axes = plt.subplots(figsize=(8, 4.5))\n",
    "\n",
    "axes.set_title('Temperatūros')\n",
    "ax = sns.lineplot(data=ndf,x = 'Datos', y='Temperatūros', ax=axes, hue='Kodas', palette='Set2', style='Kodas')\n",
    "axes.set(xlabel='Laikas',ylabel='Temperatura')\n",
    "# axes.set_xticks(data)\n",
    "axes.tick_params(axis='x', rotation=90, labelsize=6)\n",
    "for container in ax.containers:\n",
    "    ax.bar_label(container)\n",
    "plt.show()"
   ]
  },
  {
   "cell_type": "code",
   "execution_count": null,
   "metadata": {},
   "outputs": [],
   "source": [
    "fig, axes = plt.subplots(figsize=(8, 4.5))\n",
    "\n",
    "axes.set_title('Vėjas')\n",
    "ax = sns.lineplot(data=ndf,x = 'Datos', y='vejasSpeed', ax=axes, hue='Kodas', palette='Set2', style='Kodas')\n",
    "axes.set(xlabel='Laikas',ylabel='Vėjo greitis m/s')\n",
    "# axes.set_xticks(data)\n",
    "axes.tick_params(axis='x', rotation=90, labelsize=6)\n",
    "for container in ax.containers:\n",
    "    ax.bar_label(container)\n",
    "plt.show()"
   ]
  },
  {
   "cell_type": "code",
   "execution_count": null,
   "metadata": {},
   "outputs": [],
   "source": [
    "# https://data.gov.lt/datasets/2638/models/VietovesTemperaturaDregme/\n",
    "# nuskaitykite šiuos duomenis (atsisiuntę kaip CSV ar kitu jums priimtinu būdu)\n",
    "# atvaizduokite su scatter_mapbox, kuriose Lietuvos vietose yra įrengti registratoriai.\n",
    "# atvaizduokite vieno bet kurio vietos registratoriaus užfiksuotas temperatūras (istorinius duomenis)\n",
    "# 8 cm gylyje, paviršiuje, 15 cm aukštyje.\n",
    "\n",
    "# zorder\n",
    "# .plot(x, y, zorder=5)"
   ]
  },
  {
   "cell_type": "code",
   "execution_count": null,
   "metadata": {},
   "outputs": [],
   "source": [
    "vdtd = pd.read_csv('../../../eismas/VietovesTemperaturaDregme.csv')[[\n",
    "    'atvejo_id',\n",
    "    'vietoves_registratoriaus_id',\n",
    "    'laikas',\n",
    "    'temperatura_8cm_gylyje_dirvozemyje',\n",
    "    'temperatura_dirvozemio_pavirsiuje',\n",
    "    'temperatura_15cm_virs_dirvozemio',\n",
    "    'platuma',\n",
    "    'ilguma'\n",
    "]]\n",
    "vdtd.head()"
   ]
  },
  {
   "cell_type": "code",
   "execution_count": null,
   "metadata": {},
   "outputs": [],
   "source": [
    "vdtd.info()"
   ]
  },
  {
   "cell_type": "code",
   "execution_count": null,
   "metadata": {},
   "outputs": [],
   "source": [
    "vdtd_gr = vdtd.groupby(['ilguma', 'platuma']).size().rename('count').reset_index()\n",
    "vdtd_gr.head()\n",
    "print(len(vdtd_gr))"
   ]
  },
  {
   "cell_type": "code",
   "execution_count": null,
   "metadata": {},
   "outputs": [],
   "source": [
    "fig = px.scatter_mapbox(data_frame=vdtd, lon='ilguma', lat='platuma', zoom=5, title='registratoriai')\n",
    "fig.update_layout(mapbox_style='open-street-map')\n",
    "fig.update_layout(width=800, height=600)\n",
    "fig.show()"
   ]
  },
  {
   "cell_type": "code",
   "execution_count": 17,
   "metadata": {},
   "outputs": [],
   "source": [
    "vdtd['laikas'] = pd.to_datetime(vdtd['laikas'])"
   ]
  },
  {
   "cell_type": "code",
   "execution_count": null,
   "metadata": {},
   "outputs": [],
   "source": [
    "fig = px.scatter_mapbox(data_frame=vdtd, lon='ilguma', lat='platuma', zoom=5, title='registratoriai')\n",
    "fig.update_layout(mapbox_style='open-street-map')\n",
    "fig.update_layout(width=800, height=600)\n",
    "fig.show()"
   ]
  },
  {
   "cell_type": "code",
   "execution_count": null,
   "metadata": {},
   "outputs": [],
   "source": [
    "regs_id = list(set(list(vdtd['vietoves_registratoriaus_id'])))\n",
    "print(regs_id)"
   ]
  },
  {
   "cell_type": "code",
   "execution_count": null,
   "metadata": {},
   "outputs": [],
   "source": [
    "reg1 = regs_id[0]\n",
    "reg1df = vdtd[vdtd['vietoves_registratoriaus_id']==reg1]\n",
    "print(reg1)"
   ]
  },
  {
   "cell_type": "code",
   "execution_count": 9,
   "metadata": {},
   "outputs": [],
   "source": [
    "reg7 = regs_id[6]\n",
    "reg7df = vdtd[vdtd['vietoves_registratoriaus_id']==reg7]"
   ]
  },
  {
   "cell_type": "code",
   "execution_count": null,
   "metadata": {},
   "outputs": [],
   "source": [
    "fig, axes = plt.subplots(figsize=(8,4.5))\n",
    "\n",
    "axes.set_title(f'Temperatūros registratoriaus {reg1}')\n",
    "sns.scatterplot(data=reg1df,x = 'laikas', y='temperatura_8cm_gylyje_dirvozemyje', ax=axes,label='-8cm', zorder=5)\n",
    "sns.scatterplot(data=reg1df,x = 'laikas', y='temperatura_15cm_virs_dirvozemio', ax=axes,label='15cm')\n",
    "sns.scatterplot(data=reg1df,x = 'laikas', y='temperatura_dirvozemio_pavirsiuje', ax=axes,label='0cm')\n",
    "axes.set(xlabel='Data ir laikas',ylabel='Temperatūra')\n",
    "axes.legend()\n",
    "plt.show()"
   ]
  },
  {
   "cell_type": "code",
   "execution_count": null,
   "metadata": {},
   "outputs": [],
   "source": [
    "fig, axes = plt.subplots(figsize=(8,4.5))\n",
    "\n",
    "axes.set_title(f'Temperatūros registratoriaus {reg7}')\n",
    "sns.lineplot(data=reg7df,x = 'laikas', y='temperatura_8cm_gylyje_dirvozemyje', ax=axes,label='-8cm', zorder=5)\n",
    "sns.lineplot(data=reg7df,x = 'laikas', y='temperatura_15cm_virs_dirvozemio', ax=axes,label='15cm')\n",
    "sns.lineplot(data=reg7df,x = 'laikas', y='temperatura_dirvozemio_pavirsiuje', ax=axes,label='0cm')\n",
    "axes.set(xlabel='Data ir laikas',ylabel='Temperatūra')\n",
    "axes.legend()\n",
    "plt.show()"
   ]
  }
 ],
 "metadata": {
  "kernelspec": {
   "display_name": "DataScienceNotebooks-Gb1CNkV6",
   "language": "python",
   "name": "python3"
  },
  "language_info": {
   "codemirror_mode": {
    "name": "ipython",
    "version": 3
   },
   "file_extension": ".py",
   "mimetype": "text/x-python",
   "name": "python",
   "nbconvert_exporter": "python",
   "pygments_lexer": "ipython3",
   "version": "3.12.4"
  }
 },
 "nbformat": 4,
 "nbformat_minor": 2
}
