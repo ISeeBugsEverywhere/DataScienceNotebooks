{
 "cells": [
  {
   "cell_type": "code",
   "execution_count": 1,
   "metadata": {},
   "outputs": [],
   "source": [
    "from sklearn.ensemble import RandomForestClassifier\n",
    "from sklearn.model_selection import train_test_split\n",
    "from sklearn.datasets import load_iris\n",
    "from sklearn.metrics import accuracy_score\n"
   ]
  },
  {
   "cell_type": "code",
   "execution_count": 2,
   "metadata": {},
   "outputs": [
    {
     "name": "stdout",
     "output_type": "stream",
     "text": [
      "Accuracy:1.0\n"
     ]
    }
   ],
   "source": [
    "# Load dataset\n",
    "data = load_iris()\n",
    "X, y = data.data, data.target\n",
    "# Split data into training and test sets\n",
    "X_train, X_test, y_train, y_test = train_test_split(X, y,test_size=0.3, random_state=42)\n",
    "# Initialize and train the RandomForestClassifier\n",
    "rf = RandomForestClassifier(n_estimators=100, random_state=42)\n",
    "rf.fit(X_train, y_train)\n",
    "# Make predictions\n",
    "y_pred = rf.predict(X_test)\n",
    "# Evaluate accuracy\n",
    "accuracy = accuracy_score(y_test, y_pred)\n",
    "print(f'Accuracy:{accuracy}')"
   ]
  },
  {
   "cell_type": "code",
   "execution_count": 3,
   "metadata": {},
   "outputs": [
    {
     "data": {
      "text/plain": [
       "array(['setosa', 'versicolor', 'virginica'], dtype='<U10')"
      ]
     },
     "execution_count": 3,
     "metadata": {},
     "output_type": "execute_result"
    }
   ],
   "source": [
    "data.target_names"
   ]
  },
  {
   "cell_type": "code",
   "execution_count": 4,
   "metadata": {},
   "outputs": [
    {
     "name": "stdout",
     "output_type": "stream",
     "text": [
      "accuracy score: 0.95\n",
      "Confusion matrix\n",
      "[[   0  500]\n",
      " [   0 9500]]\n",
      "class 0 accuracy: 0.0\n",
      "class 1 accuracy: 1.0\n"
     ]
    }
   ],
   "source": [
    "import numpy as np\n",
    "from sklearn.metrics import accuracy_score, confusion_matrix,roc_auc_score, roc_curve\n",
    "n = 10000\n",
    "ratio = .95\n",
    "n_0 = int((1-ratio) * n)\n",
    "n_1 = int(ratio * n)\n",
    "y = np.array([0] * n_0 + [1] * n_1)\n",
    "# below are the probabilities obtained from a hypothetical model thatalways predicts the majority class\n",
    "# probability of predicting class 1 is going to be 100%\n",
    "y_proba = np.array([1]*n)\n",
    "y_pred = y_proba > .5\n",
    "print(f'accuracy score: {accuracy_score(y, y_pred)}')\n",
    "cf_mat = confusion_matrix(y, y_pred)\n",
    "print('Confusion matrix')\n",
    "print(cf_mat)\n",
    "print(f'class 0 accuracy: {cf_mat[0][0]/n_0}')\n",
    "print(f'class 1 accuracy: {cf_mat[1][1]/n_1}')"
   ]
  },
  {
   "cell_type": "code",
   "execution_count": 5,
   "metadata": {},
   "outputs": [
    {
     "name": "stdout",
     "output_type": "stream",
     "text": [
      "accuracy score: 0.7156\n",
      "Confusion matrix\n",
      "[[ 374  126]\n",
      " [2718 6782]]\n",
      "class 0 accuracy: 0.748\n",
      "class 1 accuracy: 0.7138947368421052\n"
     ]
    }
   ],
   "source": [
    "# below are the probabilities obtained from a hypothetical model thatdoesn't always predict the mode\n",
    "y_proba_2 = np.array(\n",
    "np.random.uniform(0, .7, n_0).tolist() +\n",
    "np.random.uniform(.3, 1, n_1).tolist()\n",
    ")\n",
    "y_pred_2 = y_proba_2 > .5\n",
    "print(f'accuracy score: {accuracy_score(y, y_pred_2)}')\n",
    "cf_mat = confusion_matrix(y, y_pred_2)\n",
    "print('Confusion matrix')\n",
    "print(cf_mat)\n",
    "print(f'class 0 accuracy: {cf_mat[0][0]/n_0}')\n",
    "print(f'class 1 accuracy: {cf_mat[1][1]/n_1}')\n"
   ]
  },
  {
   "cell_type": "code",
   "execution_count": 6,
   "metadata": {},
   "outputs": [
    {
     "name": "stdout",
     "output_type": "stream",
     "text": [
      "model 1 AUC score: 0.5\n",
      "model 2 AUC score: 0.8438372631578948\n"
     ]
    },
    {
     "data": {
      "image/png": "[encoded data removed]",
      "text/plain": [
       "<Figure size 640x480 with 1 Axes>"
      ]
     },
     "metadata": {},
     "output_type": "display_data"
    }
   ],
   "source": [
    "import matplotlib.pyplot as plt\n",
    "def plot_roc_curve(true_y, y_prob): \n",
    "    \"\"\"\n",
    "    plots the roc curve based of the probabilities\n",
    "    \"\"\"\n",
    "    fpr, tpr, thresholds = roc_curve(true_y, y_prob)\n",
    "    plt.plot(fpr, tpr)\n",
    "    plt.xlabel('False Positive Rate')\n",
    "    plt.ylabel('True Positive Rate')\n",
    "plot_roc_curve(y, y_proba)\n",
    "print(f'model 1 AUC score: {roc_auc_score(y, y_proba)}')\n",
    "plot_roc_curve(y, y_proba_2)\n",
    "print(f'model 2 AUC score: {roc_auc_score(y, y_proba_2)}')\n"
   ]
  },
  {
   "cell_type": "code",
   "execution_count": 7,
   "metadata": {},
   "outputs": [],
   "source": [
    "from sklearn.metrics import accuracy_score, precision_score, recall_score, f1_score"
   ]
  },
  {
   "cell_type": "code",
   "execution_count": null,
   "metadata": {},
   "outputs": [],
   "source": [
    "# Panaudodami mašininį mokymąsi (linearRegression, Logistic, DecisionTree ...)\n",
    "# pateikite orų prognozę 24rioms valandoms į priekį.\n",
    "# Pritaikykite daugiau nei vieną ML algoritmą.\n",
    "# Pateikite Modelių tikslumo įverčius.\n",
    "# Pateikite Modelio prognozę, LHMT tarnybos prognozę, o praėjus 24 valandoms - stebėjimų rezultatus,\n",
    "# pagal kuriuos apskaičiuosite modelių tikslumus.\n",
    "\n",
    "# https://janaksenevirathne.medium.com/building-a-weather-prediction-model-with-machine-learning-a-step-by-step-guide-9eaf768171be"
   ]
  },
  {
   "cell_type": "code",
   "execution_count": null,
   "metadata": {},
   "outputs": [],
   "source": [
    "# from sklearn.ensemble import RandomForestRegressor\n",
    "\n",
    "# forest = RandomForestRegressor()\n",
    "# forest.fit(X_train_s, y_train)\n",
    "\n",
    "\n",
    "# https://archyvas.meteo.lt/?station=vilniaus-ams&start_date=2024-12-23&end_date=2024-12-23&meteo-form=Rodyti\n",
    "\n",
    "# https://towardsdatascience.com/ways-to-evaluate-regression-models-77a3ff45ba70 "
   ]
  },
  {
   "cell_type": "code",
   "execution_count": 8,
   "metadata": {},
   "outputs": [],
   "source": [
    "import pandas as pd"
   ]
  },
  {
   "cell_type": "code",
   "execution_count": 9,
   "metadata": {},
   "outputs": [],
   "source": [
    "from sklearn.linear_model import LinearRegression, LogisticRegression\n",
    "from sklearn.model_selection import train_test_split\n",
    "from sklearn.preprocessing import LabelEncoder, PolynomialFeatures\n",
    "from sklearn.metrics import mean_squared_error, accuracy_score, confusion_matrix, classification_report\n",
    "from sklearn.tree import DecisionTreeRegressor, DecisionTreeClassifier"
   ]
  },
  {
   "cell_type": "code",
   "execution_count": 10,
   "metadata": {},
   "outputs": [
    {
     "data": {
      "text/html": [
       "<div>\n",
       "<style scoped>\n",
       "    .dataframe tbody tr th:only-of-type {\n",
       "        vertical-align: middle;\n",
       "    }\n",
       "\n",
       "    .dataframe tbody tr th {\n",
       "        vertical-align: top;\n",
       "    }\n",
       "\n",
       "    .dataframe thead th {\n",
       "        text-align: right;\n",
       "    }\n",
       "</style>\n",
       "<table border=\"1\" class=\"dataframe\">\n",
       "  <thead>\n",
       "    <tr style=\"text-align: right;\">\n",
       "      <th></th>\n",
       "      <th>obs_time_utc</th>\n",
       "      <th>air_temperature</th>\n",
       "      <th>feels_like_temperature</th>\n",
       "      <th>wind_speed</th>\n",
       "      <th>wind_gust</th>\n",
       "      <th>wind_direction</th>\n",
       "      <th>cloud_cover</th>\n",
       "      <th>sea_level_pressure</th>\n",
       "      <th>relative_humidity</th>\n",
       "      <th>precipitation</th>\n",
       "      <th>condition_code</th>\n",
       "    </tr>\n",
       "  </thead>\n",
       "  <tbody>\n",
       "    <tr>\n",
       "      <th>0</th>\n",
       "      <td>2024-12-30 00:00:00</td>\n",
       "      <td>1.6</td>\n",
       "      <td>-1.8</td>\n",
       "      <td>3.3</td>\n",
       "      <td>5.3</td>\n",
       "      <td>212</td>\n",
       "      <td>NaN</td>\n",
       "      <td>1018.9</td>\n",
       "      <td>100</td>\n",
       "      <td>0.0</td>\n",
       "      <td>light-rain</td>\n",
       "    </tr>\n",
       "    <tr>\n",
       "      <th>1</th>\n",
       "      <td>2024-12-30 01:00:00</td>\n",
       "      <td>1.5</td>\n",
       "      <td>-2.0</td>\n",
       "      <td>3.4</td>\n",
       "      <td>6.5</td>\n",
       "      <td>213</td>\n",
       "      <td>100.0</td>\n",
       "      <td>1018.6</td>\n",
       "      <td>100</td>\n",
       "      <td>0.0</td>\n",
       "      <td>rain</td>\n",
       "    </tr>\n",
       "  </tbody>\n",
       "</table>\n",
       "</div>"
      ],
      "text/plain": [
       "          obs_time_utc  air_temperature  feels_like_temperature  wind_speed  \\\n",
       "0  2024-12-30 00:00:00              1.6                    -1.8         3.3   \n",
       "1  2024-12-30 01:00:00              1.5                    -2.0         3.4   \n",
       "\n",
       "   wind_gust  wind_direction  cloud_cover  sea_level_pressure  \\\n",
       "0        5.3             212          NaN              1018.9   \n",
       "1        6.5             213        100.0              1018.6   \n",
       "\n",
       "   relative_humidity  precipitation condition_code  \n",
       "0                100            0.0     light-rain  \n",
       "1                100            0.0           rain  "
      ]
     },
     "execution_count": 10,
     "metadata": {},
     "output_type": "execute_result"
    }
   ],
   "source": [
    "orai = pd.read_csv('../../../eismas/interval_data.csv')\n",
    "\n",
    "orai.head(2)"
   ]
  },
  {
   "cell_type": "code",
   "execution_count": null,
   "metadata": {},
   "outputs": [],
   "source": [
    "orai.columns\n"
   ]
  },
  {
   "cell_type": "code",
   "execution_count": 11,
   "metadata": {},
   "outputs": [
    {
     "data": {
      "text/html": [
       "<div>\n",
       "<style scoped>\n",
       "    .dataframe tbody tr th:only-of-type {\n",
       "        vertical-align: middle;\n",
       "    }\n",
       "\n",
       "    .dataframe tbody tr th {\n",
       "        vertical-align: top;\n",
       "    }\n",
       "\n",
       "    .dataframe thead th {\n",
       "        text-align: right;\n",
       "    }\n",
       "</style>\n",
       "<table border=\"1\" class=\"dataframe\">\n",
       "  <thead>\n",
       "    <tr style=\"text-align: right;\">\n",
       "      <th></th>\n",
       "      <th>obs_time_utc</th>\n",
       "      <th>air_temperature</th>\n",
       "      <th>cloud_cover</th>\n",
       "      <th>sea_level_pressure</th>\n",
       "      <th>relative_humidity</th>\n",
       "    </tr>\n",
       "  </thead>\n",
       "  <tbody>\n",
       "    <tr>\n",
       "      <th>0</th>\n",
       "      <td>2024-12-30 00:00:00</td>\n",
       "      <td>1.6</td>\n",
       "      <td>NaN</td>\n",
       "      <td>1018.9</td>\n",
       "      <td>100</td>\n",
       "    </tr>\n",
       "    <tr>\n",
       "      <th>1</th>\n",
       "      <td>2024-12-30 01:00:00</td>\n",
       "      <td>1.5</td>\n",
       "      <td>100.0</td>\n",
       "      <td>1018.6</td>\n",
       "      <td>100</td>\n",
       "    </tr>\n",
       "    <tr>\n",
       "      <th>2</th>\n",
       "      <td>2024-12-30 02:00:00</td>\n",
       "      <td>1.6</td>\n",
       "      <td>100.0</td>\n",
       "      <td>1018.3</td>\n",
       "      <td>100</td>\n",
       "    </tr>\n",
       "    <tr>\n",
       "      <th>3</th>\n",
       "      <td>2024-12-30 03:00:00</td>\n",
       "      <td>1.6</td>\n",
       "      <td>100.0</td>\n",
       "      <td>1017.5</td>\n",
       "      <td>100</td>\n",
       "    </tr>\n",
       "    <tr>\n",
       "      <th>4</th>\n",
       "      <td>2024-12-30 04:00:00</td>\n",
       "      <td>1.8</td>\n",
       "      <td>100.0</td>\n",
       "      <td>1016.8</td>\n",
       "      <td>100</td>\n",
       "    </tr>\n",
       "  </tbody>\n",
       "</table>\n",
       "</div>"
      ],
      "text/plain": [
       "          obs_time_utc  air_temperature  cloud_cover  sea_level_pressure  \\\n",
       "0  2024-12-30 00:00:00              1.6          NaN              1018.9   \n",
       "1  2024-12-30 01:00:00              1.5        100.0              1018.6   \n",
       "2  2024-12-30 02:00:00              1.6        100.0              1018.3   \n",
       "3  2024-12-30 03:00:00              1.6        100.0              1017.5   \n",
       "4  2024-12-30 04:00:00              1.8        100.0              1016.8   \n",
       "\n",
       "   relative_humidity  \n",
       "0                100  \n",
       "1                100  \n",
       "2                100  \n",
       "3                100  \n",
       "4                100  "
      ]
     },
     "execution_count": 11,
     "metadata": {},
     "output_type": "execute_result"
    }
   ],
   "source": [
    "orai.drop(columns=['feels_like_temperature','wind_speed', 'wind_gust', 'wind_direction', 'precipitation',\n",
    "       'condition_code' ], inplace=True)\n",
    "orai.head()"
   ]
  },
  {
   "cell_type": "code",
   "execution_count": null,
   "metadata": {},
   "outputs": [],
   "source": []
  },
  {
   "cell_type": "code",
   "execution_count": 85,
   "metadata": {},
   "outputs": [],
   "source": [
    "orai = orai.rename(columns={'obs_time_utc': 'datetime'})\n",
    "df = orai"
   ]
  },
  {
   "cell_type": "code",
   "execution_count": null,
   "metadata": {},
   "outputs": [],
   "source": [
    "# Step 1: Load the data\n",
    "# Assuming the data is already loaded into a DataFrame named df\n",
    "# df = pd.read_csv('your_file.csv') # Uncomment if loading from CSV\n",
    "\n",
    "# Ensure datetime is in datetime format\n",
    "df['datetime'] = pd.to_datetime(df['datetime'])\n",
    "\n",
    "# Step 2: Feature Engineering\n",
    "# Extract useful time-based features\n",
    "# df['hour'] = df['datetime'].dt.hour\n",
    "# df['day_of_week'] = df['datetime'].dt.dayofweek\n",
    "\n",
    "df['hour'] = df['datetime'].dt.hour\n",
    "df['day'] = df['datetime'].dt.dayofweek\n",
    "df['month'] = df['datetime'].dt.month\n",
    "\n",
    "# Step 3: Prepare the target variable\n",
    "# Shift the air_temperature by -1 to use current features to predict the next hour's temperature\n",
    "df['next_hour_temp'] = df['air_temperature'].shift(-1)\n",
    "\n",
    "# Drop the last row since it will have NaN in 'next_hour_temp'\n",
    "df = df.dropna()\n",
    "\n",
    "# Step 4: Define features (X) and target (y)\n",
    "features = ['air_temperature', 'cloud_cover', 'sea_level_pressure', 'relative_humidity', 'hour', 'day', 'month']\n",
    "X = df[features]\n",
    "y = df['next_hour_temp']\n",
    "\n",
    "# Split the data into training and test sets\n",
    "X_train, X_test, y_train, y_test = train_test_split(X, y, test_size=0.2, random_state=42)\n",
    "\n",
    "# Step 5: Train the model\n",
    "model = LinearRegression()\n",
    "model.fit(X_train, y_train)\n",
    "\n",
    "# Step 6: Evaluate the model\n",
    "predictions = model.predict(X_test)\n",
    "mse = mean_squared_error(y_test, predictions)\n",
    "print(f\"Mean Squared Error: {mse}\")\n",
    "\n",
    "# Step 7: Predict the next 24 hours\n",
    "# Get the last row to create features for the next 24 hours\n",
    "last_row = X.iloc[-1]\n",
    "\n",
    "future_hours = []\n",
    "for i in range(1, 25):\n",
    "    next_hour = (last_row['hour'] + i) % 24\n",
    "    next_day_of_week = (last_row['day_of_week'] + (last_row['hour'] + i) // 24) % 7\n",
    "    future_hours.append({\n",
    "        'air_temperature': last_row['air_temperature'],  # This will be updated iteratively\n",
    "        'cloud_cover': last_row['cloud_cover'],\n",
    "        'sea_level_pressure': last_row['sea_level_pressure'],\n",
    "        'relative_humidity': last_row['relative_humidity'],\n",
    "        'hour': next_hour,\n",
    "        'day_of_week': next_day_of_week\n",
    "    })\n",
    "\n",
    "future_df = pd.DataFrame(future_hours)\n",
    "\n",
    "# Predict the air temperature for the next 24 hours\n",
    "future_predictions = model.predict(future_df)\n",
    "print(f\"Next 24 hours temperature prediction: {future_predictions}\")"
   ]
  },
  {
   "cell_type": "code",
   "execution_count": null,
   "metadata": {},
   "outputs": [],
   "source": [
    "future_df.head(2)"
   ]
  },
  {
   "cell_type": "code",
   "execution_count": 14,
   "metadata": {},
   "outputs": [
    {
     "data": {
      "text/html": [
       "<div>\n",
       "<style scoped>\n",
       "    .dataframe tbody tr th:only-of-type {\n",
       "        vertical-align: middle;\n",
       "    }\n",
       "\n",
       "    .dataframe tbody tr th {\n",
       "        vertical-align: top;\n",
       "    }\n",
       "\n",
       "    .dataframe thead th {\n",
       "        text-align: right;\n",
       "    }\n",
       "</style>\n",
       "<table border=\"1\" class=\"dataframe\">\n",
       "  <thead>\n",
       "    <tr style=\"text-align: right;\">\n",
       "      <th></th>\n",
       "      <th>air_temperature</th>\n",
       "      <th>cloud_cover</th>\n",
       "      <th>sea_level_pressure</th>\n",
       "      <th>relative_humidity</th>\n",
       "      <th>next_hour_temp</th>\n",
       "      <th>hour</th>\n",
       "      <th>day</th>\n",
       "      <th>month</th>\n",
       "    </tr>\n",
       "    <tr>\n",
       "      <th>datetime</th>\n",
       "      <th></th>\n",
       "      <th></th>\n",
       "      <th></th>\n",
       "      <th></th>\n",
       "      <th></th>\n",
       "      <th></th>\n",
       "      <th></th>\n",
       "      <th></th>\n",
       "    </tr>\n",
       "  </thead>\n",
       "  <tbody>\n",
       "    <tr>\n",
       "      <th>2024-12-30 01:00:00</th>\n",
       "      <td>1.5</td>\n",
       "      <td>100.0</td>\n",
       "      <td>1018.6</td>\n",
       "      <td>100.0</td>\n",
       "      <td>1.6</td>\n",
       "      <td>1</td>\n",
       "      <td>0</td>\n",
       "      <td>12</td>\n",
       "    </tr>\n",
       "    <tr>\n",
       "      <th>2024-12-30 02:00:00</th>\n",
       "      <td>1.6</td>\n",
       "      <td>100.0</td>\n",
       "      <td>1018.3</td>\n",
       "      <td>100.0</td>\n",
       "      <td>1.6</td>\n",
       "      <td>2</td>\n",
       "      <td>0</td>\n",
       "      <td>12</td>\n",
       "    </tr>\n",
       "    <tr>\n",
       "      <th>2024-12-30 03:00:00</th>\n",
       "      <td>1.6</td>\n",
       "      <td>100.0</td>\n",
       "      <td>1017.5</td>\n",
       "      <td>100.0</td>\n",
       "      <td>1.8</td>\n",
       "      <td>3</td>\n",
       "      <td>0</td>\n",
       "      <td>12</td>\n",
       "    </tr>\n",
       "    <tr>\n",
       "      <th>2024-12-30 04:00:00</th>\n",
       "      <td>1.8</td>\n",
       "      <td>100.0</td>\n",
       "      <td>1016.8</td>\n",
       "      <td>100.0</td>\n",
       "      <td>2.4</td>\n",
       "      <td>4</td>\n",
       "      <td>0</td>\n",
       "      <td>12</td>\n",
       "    </tr>\n",
       "    <tr>\n",
       "      <th>2024-12-30 05:00:00</th>\n",
       "      <td>2.4</td>\n",
       "      <td>100.0</td>\n",
       "      <td>1017.2</td>\n",
       "      <td>100.0</td>\n",
       "      <td>2.7</td>\n",
       "      <td>5</td>\n",
       "      <td>0</td>\n",
       "      <td>12</td>\n",
       "    </tr>\n",
       "  </tbody>\n",
       "</table>\n",
       "</div>"
      ],
      "text/plain": [
       "                     air_temperature  cloud_cover  sea_level_pressure  \\\n",
       "datetime                                                                \n",
       "2024-12-30 01:00:00              1.5        100.0              1018.6   \n",
       "2024-12-30 02:00:00              1.6        100.0              1018.3   \n",
       "2024-12-30 03:00:00              1.6        100.0              1017.5   \n",
       "2024-12-30 04:00:00              1.8        100.0              1016.8   \n",
       "2024-12-30 05:00:00              2.4        100.0              1017.2   \n",
       "\n",
       "                     relative_humidity  next_hour_temp  hour  day  month  \n",
       "datetime                                                                  \n",
       "2024-12-30 01:00:00              100.0             1.6     1    0     12  \n",
       "2024-12-30 02:00:00              100.0             1.6     2    0     12  \n",
       "2024-12-30 03:00:00              100.0             1.8     3    0     12  \n",
       "2024-12-30 04:00:00              100.0             2.4     4    0     12  \n",
       "2024-12-30 05:00:00              100.0             2.7     5    0     12  "
      ]
     },
     "execution_count": 14,
     "metadata": {},
     "output_type": "execute_result"
    }
   ],
   "source": [
    "# l = LabelEncoder().fit_transform(orai['condition_code'])\n",
    "# orai['condition_code'] = l\n",
    "orai = orai.rename(columns={'obs_time_utc': 'datetime'})\n",
    "orai['datetime'] = pd.to_datetime(orai['datetime'])  # Ensure datetime is in correct format\n",
    "\n",
    "orai = orai.set_index('datetime')  # Set datetime as index\n",
    "orai = orai.resample('h').mean()  # Resample to hourly data if necessary\n",
    "\n",
    "# Feature Engineering\n",
    "orai['hour'] = orai.index.hour\n",
    "orai['day'] = orai.index.dayofweek\n",
    "orai['month'] = orai.index.month\n",
    "\n",
    "# orai.reset_index()\n",
    "# Target variable: 'temperature' of the next hour\n",
    "orai['next_hour_temp'] = orai['air_temperature'].shift(-1)\n",
    "orai.dropna(inplace=True)\n",
    "orai.head()"
   ]
  },
  {
   "cell_type": "code",
   "execution_count": 16,
   "metadata": {},
   "outputs": [
    {
     "name": "stdout",
     "output_type": "stream",
     "text": [
      "fit score: 65.88300063344668\n"
     ]
    }
   ],
   "source": [
    "# Linear Regression\n",
    "X = orai.drop(columns=['next_hour_temp', 'air_temperature' ])\n",
    "y = orai['air_temperature'].values      # target\n",
    "\n",
    "X_train, X_test, y_train, y_test = train_test_split(X, y, test_size=0.2, random_state=42)\n",
    "\n",
    "fit = LinearRegression().fit(X_train, y_train)\n",
    "y_pred = fit.predict(X_test)\n",
    "\n",
    "# spejimai = pd.Series(data=y_pred, name='Spejimai')\n",
    "# orig_rez = pd.Series(data=y_test, name='Ytest')\n",
    "# res = pd.concat([orig_rez.reset_index(drop=True), spejimai], axis=1)\n",
    "\n",
    "fit_score = fit.score(X_test, y_test) *100.0\n",
    "print(f'fit score: {fit_score}')\n",
    "\n",
    "# # Make predictions\n",
    "# y_pred = fit.predict(X_test)\n",
    "\n",
    "# Evaluate Accuracy\n",
    "# accuracy = accuracy_score(y_test, y_pred)\n",
    "\n",
    "# Evaluate Precision\n",
    "# precision = precision_score(y_test, y_pred, average='weighted')\n",
    "\n",
    "# # Evaluate Recall\n",
    "# recall = recall_score(y_test, y_pred, average='weighted')\n",
    "\n",
    "# # Evaluate F1 Score\n",
    "# f1 = f1_score(y_test, y_pred, average='weighted')\n",
    "\n",
    "# # Print the evaluation metrics\n",
    "# # print(f\"Accuracy: {accuracy:.2f}\")\n",
    "# print(f\"Precision: {precision:.2f}\")\n",
    "# print(f\"Recall: {recall:.2f}\")\n",
    "# print(f\"F1 Score: {f1:.2f}\")\n"
   ]
  }
 ],
 "metadata": {
  "kernelspec": {
   "display_name": "Python 3",
   "language": "python",
   "name": "python3"
  },
  "language_info": {
   "codemirror_mode": {
    "name": "ipython",
    "version": 3
   },
   "file_extension": ".py",
   "mimetype": "text/x-python",
   "name": "python",
   "nbconvert_exporter": "python",
   "pygments_lexer": "ipython3",
   "version": "3.12.4"
  }
 },
 "nbformat": 4,
 "nbformat_minor": 2
}
