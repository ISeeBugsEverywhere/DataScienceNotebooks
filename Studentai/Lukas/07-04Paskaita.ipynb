{
 "cells": [
  {
   "cell_type": "code",
   "execution_count": 7,
   "metadata": {},
   "outputs": [],
   "source": [
    "f_name = 'f3.txt'\n",
    "\n",
    "f = open(file=f_name, mode='a', encoding='utf-8')\n",
    "\n",
    "f.write('Labas, čia append režimu atidarytas failas\\n')\n",
    "\n",
    "l = ['Labas\\n', 'rytas\\n', 'diena\\n', 'vakaras']\n",
    "f.writelines(l)\n",
    "\n",
    "f.close()"
   ]
  },
  {
   "cell_type": "code",
   "execution_count": 47,
   "metadata": {},
   "outputs": [],
   "source": [
    "# Su Notepad’u susikurkite failą pavadinimu 't.txt', ir jame įrašykite skaičius 1, 2, 3, 4, 5; po vieną skaičių į vieną eilutę.\n",
    "# • Su Python’u nuskaitykite šį failą po vieną eilutę ir išveskite į\n",
    "# ekraną.\n",
    "# • Nuskaitydami po eilutę, padauginkite kiekvieną nuskaitytą\n",
    "# skaičių iš\n",
    "# • 2 ir išspausdinkite\n",
    "# • iš jo paties ir išspausdinkite\n",
    "# • Ankstesniuose punktuose gautuosius rezultatus įrašykite į\n",
    "# failą taip: nuskaitytas skaičius, sandauga su 2, sandauga su\n",
    "# savimi pačiu. Turite gauti tokį failą:\n",
    "# 1 2 1\n",
    "# 2 4 4\n",
    "# 3 6 9\n",
    "\n",
    "f_name = 't.txt'\n",
    "\n",
    "file = open(f_name, mode='r', encoding='utf-8')\n",
    "turinys = file.read()\n",
    "file.close()\n",
    "\n",
    "lst = turinys.split()\n",
    "\n",
    "file = open(f_name, mode='a', encoding='utf-8')\n",
    "\n",
    "for eil in lst:\n",
    "    sk = int(eil)\n",
    "    sk_x_2 = int(eil)*2\n",
    "    sk_xx_2 = int(eil)**2\n",
    "    file.write(f'{sk:3} {sk_x_2:3} {sk_xx_2:3}\\n')\n",
    "    \n",
    "file.close()\n",
    "\n",
    "    "
   ]
  },
  {
   "cell_type": "code",
   "execution_count": 50,
   "metadata": {},
   "outputs": [
    {
     "name": "stdout",
     "output_type": "stream",
     "text": [
      "\n",
      "Eurazijos šalių klubas, kurio priešakyje – Kinija bei Rusija ir kurio misija vis labiau primena siekį realizuoti lyderių regimą alternatyvios pasaulio tvarkos viziją, pasipildė nauja nare – ištikima Rusijos sąjungininke, atvirai rėmusia Maskvos pradėtą karą prieš Ukrainą.\n",
      "\n",
      "Baltarusijos priėmimas į Šanchajaus bendradarbiavimo organizaciją (SCO), kaip ir tikėtasi, įvyko kasmetiniame vadovų susitikime Astanoje, Kazachstane.\n",
      "\n",
      "Tai dar vienas Pekino ir Maskvos bandymas pakeisti organizacijos specifiką – paversti regioninį saugumo bloką geopolitine atsvara Vakarų institucijoms, kurioms vadovauja Jungtinės Valstijos ir jų sąjungininkės, rašoma CNN publikacijoje.\n",
      "\n",
      "Skaitykite daugiau: https://www.delfi.lt/news/daily/world/prie-xi-jinpingo-ir-putino-klubo-prisijunge-naujas-narys-ambicijos-pasipriesinti-jav-120034020\n",
      "\n"
     ]
    }
   ],
   "source": [
    "# • Įrašykite tekstą iš sukurtojo failo didžiosiomis raidėmis\n",
    "# • Kas 𝑛-tąjį žodį didžiomis raidėmis, 𝑛 įveda vartotojas.\n",
    "# • Kiekvieną žodį iš didžiosios raidės\n",
    "# • Kiekvienas žodis iš didžiosios raidės, kas antras -\n",
    "# parašytas atvirkščiai, kas 5-tas - vien tik didžiosiomis\n",
    "# raidėmis, kas 6-tame - simboliai \"a\" turi būti pakeisti\n",
    "# ':)' simboliais.\n",
    "\n",
    "failo_vardas = 'delfi.txt'\n",
    "failas = open(failo_vardas, mode='r', encoding='utf-8')\n",
    "\n",
    "turinys = failas.read()\n",
    "\n",
    "failas.close()\n",
    "\n",
    "\n",
    "print(turinys)\n",
    "\n",
    "f_name = 'ats.txt'\n",
    "\n",
    "file = open(f_name, mode='a', encoding='utf-8')\n",
    "file.write('Delfi tekstas didziosiomis raidemis:\\n')\n",
    "file.write(turinys.upper())\n",
    "file.write('\\n')\n",
    "\n",
    "try:\n",
    "    n = int(input('n?'))\n",
    "except ValueError as ex:\n",
    "    print(ex)\n",
    "\n",
    "def zodis_n(txt, n):\n",
    "    '''funkcijai duodamas tekstas ir n\n",
    "    kas n-taji zodi grazina didziosiomis raidemis\n",
    "    '''\n",
    "\n",
    "    t = []\n",
    "    for idx, word in enumerate(txt.split(), 1):\n",
    "        if idx % n == 0:\n",
    "            t.append(word.upper())\n",
    "        else:\n",
    "            t.append(word)\n",
    "    return ' '.join(t)\n",
    "\n",
    "file.write('Kas n-tas zodis diziosiomis:\\n')\n",
    "file.write(zodis_n(turinys, n))\n",
    "file.write('\\n')\n",
    "\n",
    "file.write('Kiekvienas zodis is didziosios:\\n')\n",
    "file.write(turinys.title())\n",
    "file.write('\\n')\n",
    "\n",
    "\n",
    "def pakeitimai(txt):\n",
    "    t = []\n",
    "    for idx, word in enumerate(txt.split(), 1):\n",
    "        if idx % 2 == 0 and idx % 6 == 0:\n",
    "            backward = ''\n",
    "            for i in word:\n",
    "                backward = i + backward\n",
    "            t.append(backward.replace('a', ':)'))\n",
    "        elif idx % 2 == 0 and idx % 5 == 0:\n",
    "            backward = ''\n",
    "            for i in word:\n",
    "                backward = i + backward\n",
    "            t.append(backward.upper())\n",
    "        elif idx % 2 == 0:\n",
    "            backward = ''\n",
    "            for i in word:\n",
    "                backward = i + backward\n",
    "            t.append(backward)\n",
    "        else:\n",
    "            t.append(word)\n",
    "    return ' '.join(t)\n",
    "\n",
    "file.write('Sudetingos salygos:\\n')\n",
    "file.write(pakeitimai(turinys))\n",
    "\n",
    "file.close()"
   ]
  },
  {
   "cell_type": "code",
   "execution_count": 53,
   "metadata": {},
   "outputs": [],
   "source": [
    "# sugalvokite ir parašykite funkciją, kuri įrašytų į failą nurodytą tekstą, automatiškai pridėdama\n",
    "# naujos eilutės simbolį.\n",
    "# (FreePascal writeln() analogas)\n",
    "\n",
    "def pridek_teksta(txt):\n",
    "    f_name = 'ats.txt'\n",
    "    file = open(f_name, mode='a', encoding='utf-8')\n",
    "    file.write(f'{txt} \\n')\n",
    "    file.close\n",
    "    \n",
    "testas = 'Labas Vakaras'\n",
    "pridek_teksta(testas)"
   ]
  },
  {
   "cell_type": "code",
   "execution_count": 66,
   "metadata": {},
   "outputs": [
    {
     "data": {
      "text/plain": [
       "[]"
      ]
     },
     "execution_count": 66,
     "metadata": {},
     "output_type": "execute_result"
    }
   ],
   "source": [
    "# pršykite funkciją, kuriai galėtumėte nurodyti sąrašą arba eilutę tekstų, \n",
    "# ir ji grąžintų sąrašą, kuriame būtų tekstai, konvertuoti į skaičius\n",
    "# Funkcija turi grąžinti tuščią sąrašą, jei nepavyktų konvertuoti nors vieno teksto į skaičių\n",
    "\n",
    "pvz = ['20', 'labas', '15']\n",
    "\n",
    "def text_to_number(lst):\n",
    "    l = []\n",
    "    \n",
    "    for elem in lst:\n",
    "        if  elem.isalpha():\n",
    "            break\n",
    "        else:\n",
    "            l.append(float(elem))\n",
    "    if len(l) == len(lst):\n",
    "        return l\n",
    "    else:\n",
    "        return []\n",
    "\n",
    "text_to_number(pvz)"
   ]
  },
  {
   "cell_type": "code",
   "execution_count": 2,
   "metadata": {},
   "outputs": [],
   "source": [
    "import random"
   ]
  },
  {
   "cell_type": "code",
   "execution_count": 71,
   "metadata": {},
   "outputs": [
    {
     "name": "stdout",
     "output_type": "stream",
     "text": [
      "0.35028387008066075\n"
     ]
    }
   ],
   "source": [
    "f = random.random() # ribos (0, 1]\n",
    "print(f)"
   ]
  },
  {
   "cell_type": "code",
   "execution_count": 72,
   "metadata": {},
   "outputs": [
    {
     "name": "stdout",
     "output_type": "stream",
     "text": [
      "10\n"
     ]
    }
   ],
   "source": [
    "f = random.randint(10, 100)\n",
    "print(f)"
   ]
  },
  {
   "cell_type": "code",
   "execution_count": 74,
   "metadata": {},
   "outputs": [
    {
     "data": {
      "text/plain": [
       "[42, 20, 25, 29, 36, 43, 36, 38, 33, 25]"
      ]
     },
     "execution_count": 74,
     "metadata": {},
     "output_type": "execute_result"
    }
   ],
   "source": [
    "# parašykite funkciją, kuriai galėtumėte nurodyti tris skaičius\n",
    "# - elemnetų kiekį (ilgį), ribas nuo, iki, ir ta funkcija grąžintų sąrašą,\n",
    "# nurodyto ilgio, atsitiktiniais skaičiais užpildytą.\n",
    "\n",
    "def make_rand_list(ilgis, nuo, iki):\n",
    "    l = []\n",
    "    il = 0\n",
    "    while il != ilgis:\n",
    "        l.append(random.randint(nuo, iki))\n",
    "        il+=1\n",
    "    return l\n",
    "\n",
    "make_rand_list(10, 15, 45)"
   ]
  },
  {
   "cell_type": "code",
   "execution_count": 75,
   "metadata": {},
   "outputs": [
    {
     "data": {
      "text/plain": [
       "[0.003324873402979045,\n",
       " 0.2900222974732256,\n",
       " 0.9982382017199792,\n",
       " 0.6386318741353599,\n",
       " 0.9023588751788506]"
      ]
     },
     "execution_count": 75,
     "metadata": {},
     "output_type": "execute_result"
    }
   ],
   "source": [
    "# parašyti funkciją, kuri grąžintų nurodyto ilgio sąrašą, užpildytą skaičiais tarp 0 ir 1\n",
    "\n",
    "def make_sarasas(ilgis):\n",
    "    l = []\n",
    "    il = 0\n",
    "    while il != ilgis:\n",
    "        l.append(random.random())\n",
    "        il += 1\n",
    "    return l\n",
    "\n",
    "\n",
    "make_sarasas(5)\n",
    "        "
   ]
  },
  {
   "cell_type": "code",
   "execution_count": 6,
   "metadata": {},
   "outputs": [
    {
     "name": "stdout",
     "output_type": "stream",
     "text": [
      "spek daugiau\n",
      "spek daugiau\n",
      "atspejai skaiciu 10 is 3 karto\n"
     ]
    }
   ],
   "source": [
    "# parašyti su amžinu while ciklu skaičių spėliojimo žaidimą.\n",
    "# Sugeneruojamas skaičius tarp 1 ir 10, vartotojas įveda spėjimą.\n",
    "# Programa pasako, ar įvestas skaičius yra mažesnis, ar didesnis už sugeneruotą skaičių.\n",
    "# Programa nutrūksta, kai atspėjamas skaičius.\n",
    "# Papildykite kodu, kuris parašytų, iš kelinto karto buvo atspėtas skaičius.\n",
    "\n",
    "def guess_number():\n",
    "    number = random.randint(1, 10)\n",
    "    times_guessed = 1\n",
    "    \n",
    "    quit = False\n",
    "    while not quit:\n",
    "        guessed_number = int(input('number 1-10?'))\n",
    "        if guessed_number < number:\n",
    "            print('spek daugiau')\n",
    "            times_guessed += 1\n",
    "        elif guessed_number > number:\n",
    "            print('spek maziau')\n",
    "            times_guessed += 1\n",
    "        else:\n",
    "            quit = True\n",
    "            \n",
    "    print(f'atspejai skaiciu {number} is {times_guessed} karto')\n",
    "    \n",
    "guess_number()"
   ]
  },
  {
   "cell_type": "code",
   "execution_count": 4,
   "metadata": {},
   "outputs": [
    {
     "data": {
      "text/plain": [
       "[25, 15]"
      ]
     },
     "execution_count": 4,
     "metadata": {},
     "output_type": "execute_result"
    }
   ],
   "source": [
    "# Parašyti funkciją, kurioje sugeneruojamos dvi skaičių sekos\n",
    "# (jos gali būti skirtingo dydžio), programa turi grąžinti sąrašą\n",
    "# skaičių, kurie sutampa tarp dviejų sugeneruotu sąrašų,\n",
    "# galutiniame sąraše neturi būti skaičių dublikatų. PVZ: x =[1, 1, 2, 3, 1] \n",
    "# y = [1, 3, 5, 6] atsakymas = [1,3]\n",
    "# \n",
    "\n",
    "def lst_intersection():\n",
    "    lst1 = []\n",
    "    lst2 = []\n",
    "    i = 0\n",
    "    j = 0\n",
    "    a = random.randint(1, 10)\n",
    "    b = random.randint(1, 10)\n",
    "    while i != a:\n",
    "        lst1.append(random.randint(1, 30))\n",
    "        i+= 1\n",
    "        \n",
    "    while j != b:\n",
    "        lst2.append(random.randint(1, 30))\n",
    "        j+= 1\n",
    "    \n",
    "    \n",
    "    return list(set(lst1).intersection(lst2))\n",
    "\n",
    "\n",
    "lst_intersection()"
   ]
  },
  {
   "cell_type": "code",
   "execution_count": 7,
   "metadata": {},
   "outputs": [],
   "source": [
    "# Parašykite kodą, kuris sukurtų tekstinį failą iš trijų stulpelių.\n",
    "# Pirmąjame stulpelyje skaičiai nuo 1 iki 25-kių, antrame - atsitiktiniai skaičiau - ribos 10 - 1000,\n",
    "# trečiame stulpelyje - atsitiktiniai skaičiai tarp 1 ir 10, tačiau - float tipo, turintys 4turis ženklus\n",
    "# po kablelio\n",
    "# stulpeliai atskirti viens nuo kito ;\n",
    "# Pavyzdys, kas maždaug turi gautis:\n",
    "1;25;1.4567\n",
    "2;42;7.5213\n",
    "# ir maždaug taip toliau\n",
    "\n",
    "f_name = 'nd.txt'\n",
    "file = open(f_name, mode='w', encoding='utf-8')\n",
    "\n",
    "for i in  range(1, 26):\n",
    "    sk1 = i\n",
    "    sk2 = random.randint(10, 1000)\n",
    "    sk3 = round(random.uniform(1, 10), 4)\n",
    "    file.write((f'{sk1:^8} ; {sk2:^8} ; {sk3:^8}\\n'))\n",
    "\n",
    "file.close()"
   ]
  }
 ],
 "metadata": {
  "kernelspec": {
   "display_name": "Python 3",
   "language": "python",
   "name": "python3"
  },
  "language_info": {
   "codemirror_mode": {
    "name": "ipython",
    "version": 3
   },
   "file_extension": ".py",
   "mimetype": "text/x-python",
   "name": "python",
   "nbconvert_exporter": "python",
   "pygments_lexer": "ipython3",
   "version": "3.12.4"
  }
 },
 "nbformat": 4,
 "nbformat_minor": 2
}
