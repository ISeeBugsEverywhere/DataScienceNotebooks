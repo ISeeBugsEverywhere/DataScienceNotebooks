{
 "cells": [
  {
   "cell_type": "code",
   "execution_count": 1,
   "metadata": {},
   "outputs": [
    {
     "name": "stdout",
     "output_type": "stream",
     "text": [
      "Nelyginis\n"
     ]
    }
   ],
   "source": [
    "i = int(input('Ivesk skaiciu'))\n",
    "ats = 'Lyginis' if i % 2 == 0 else 'Nelyginis'\n",
    "print(ats)"
   ]
  },
  {
   "cell_type": "code",
   "execution_count": 2,
   "metadata": {},
   "outputs": [
    {
     "name": "stdout",
     "output_type": "stream",
     "text": [
      "a mažiau už b\n"
     ]
    }
   ],
   "source": [
    "a = 10\n",
    "b = 20\n",
    "ats = 'a ir b yra lygūs' if a == b else 'a mažiau už b' if a < b else 'a daugiau už b'\n",
    "print(ats)"
   ]
  },
  {
   "cell_type": "code",
   "execution_count": 4,
   "metadata": {},
   "outputs": [
    {
     "name": "stdout",
     "output_type": "stream",
     "text": [
      "Jus galite balsuoti\n"
     ]
    }
   ],
   "source": [
    "# • Liepkite vartotojui suvesti savo amžių. Patikrinkite ar amžius\n",
    "# yra didesnis arba lygus 18-ai, jei taip - išveskite “jūs galite\n",
    "# balsuoti”.\n",
    "\n",
    "age = int(input(\"amzius\"))\n",
    "ats = \"Jus galite balsuoti\" if age >= 18 else \"Jus negalite balsuoti\"\n",
    "print(ats)"
   ]
  },
  {
   "cell_type": "code",
   "execution_count": 5,
   "metadata": {},
   "outputs": [
    {
     "name": "stdout",
     "output_type": "stream",
     "text": [
      "vidurkis teigiamas\n"
     ]
    }
   ],
   "source": [
    "# • Leiskite vartotojui suvesti norimą kiekį pažymių (pavyzdžiui,\n",
    "# jūs nusimatote 3-is kintamuosius, tai leidžiate padaryti 3\n",
    "# įvedimus). Raskite šių pažymių vidurkį. Patikrinkite ar\n",
    "# vidurkis teigiamas (daugiau arba lygu 5-iems), jei taip -\n",
    "# išveskite 'vidurkis teigiamas'.\n",
    "a = int(input(\"pazymis1\"))\n",
    "b = int(input(\"pazymis2\"))\n",
    "c = int(input(\"pazymis2\"))\n",
    "ats = 'vidurkis teigiamas' if (a+b+c) / 3 >= 5 else 'vidurkis neigiamas'\n",
    "print(ats)"
   ]
  },
  {
   "cell_type": "code",
   "execution_count": 9,
   "metadata": {},
   "outputs": [
    {
     "name": "stdout",
     "output_type": "stream",
     "text": [
      "LabasLabasLabasLabasLabasLabasLabasLabasLabasLabas\n",
      "10 100 5.0\n",
      "13 -1 42\n"
     ]
    }
   ],
   "source": [
    "# • Susikurkite skaičiaus kintamąjį arba leiskite šį skaičių įvesti\n",
    "# vartotojui.\n",
    "# Atlikite šiuos patikrinimus ir veiksmus:\n",
    "# 1. Jei skaičius dalinasi iš 5, tuomet išveskite tekstą \"Labas\", pakartotą tiek kartų, koks įvestas buvo skaičius.\n",
    "# 2. Jei skaičius lyginis, tuomet išveskite šį skaičių, jo kvadratą ir\n",
    "# jį padalintą iš 2.\n",
    "# 3. Jei skaičius nesidalina iš 7, tuomet susikurkite antrąjį\n",
    "# kintamąjį, išveskite šio skaičiaus ir 7-to sumą, skirtumą ir sandaugą.\n",
    "\n",
    "a = int(input('ivesk skaiciu'))\n",
    "if a % 5 == 0:\n",
    "    print('Labas'* a)\n",
    "\n",
    "if a % 2 == 0:\n",
    "    print(a, a ** 2, a / 2)\n",
    "    \n",
    "if a % 7 != 0:\n",
    "    b = int(input('ivesk skaiciu'))\n",
    "    print(b + 7, b -7 , b *7)"
   ]
  },
  {
   "cell_type": "code",
   "execution_count": null,
   "metadata": {},
   "outputs": [],
   "source": [
    "\n",
    "\n",
    "\n"
   ]
  },
  {
   "cell_type": "code",
   "execution_count": 10,
   "metadata": {},
   "outputs": [
    {
     "name": "stdout",
     "output_type": "stream",
     "text": [
      "False\n"
     ]
    }
   ],
   "source": [
    "# • Parašyti programą, kuri paklaustų dviejų skaičių, ir juos\n",
    "# palygintų.\n",
    "a = int(input('ivesk skaiciu'))\n",
    "b = int(input('ivesk skaiciu'))\n",
    "print( a == b)"
   ]
  },
  {
   "cell_type": "code",
   "execution_count": 12,
   "metadata": {},
   "outputs": [
    {
     "name": "stdout",
     "output_type": "stream",
     "text": [
      "False\n"
     ]
    }
   ],
   "source": [
    "# • Paklausti teksto, ir patikrinti, ar tas tekstas yra sakinyje\n",
    "# \"Vilnius yra UNESCO paveldas nuo 1996 metų.\"\n",
    "txt = input('tekstas')\n",
    "print(txt in 'Vilnius yra UNESCO paveldas nuo 1996 metų.')"
   ]
  },
  {
   "cell_type": "code",
   "execution_count": 16,
   "metadata": {},
   "outputs": [],
   "source": [
    "# • Patikrinti įvestą skaičių, ar jis yra tarp 10 ir 20. Pavyzdžiui,\n",
    "# įvedus 15, turi spausdinti: \"15 yra tarp 10 ir 20\"\n",
    "a = int(input('ivesk skaiciu'))\n",
    "if a in range(10, 20):\n",
    "    print(f'{a} yra tarp 10 ir 20')"
   ]
  },
  {
   "cell_type": "code",
   "execution_count": 17,
   "metadata": {},
   "outputs": [
    {
     "name": "stdout",
     "output_type": "stream",
     "text": [
      "True\n"
     ]
    }
   ],
   "source": [
    "# • Patikrinti, ar vartotojo įvestas skaičius yra lyginis, ar ne.\n",
    "a = int(input('ivesk skaiciu'))\n",
    "print(a % 2 == 0)"
   ]
  },
  {
   "cell_type": "code",
   "execution_count": 37,
   "metadata": {},
   "outputs": [
    {
     "name": "stdout",
     "output_type": "stream",
     "text": [
      "2\n"
     ]
    }
   ],
   "source": [
    "# • parašyti programą 'FizzBuzz'. Įvedus skaičių, kuris dalinasi\n",
    "# iš 3, spausdinamas žodis \"Fizz\", jei dalinasi iš 5 - \"Buzz\", o jei\n",
    "# dalinasi ir iš 3 ir iš 5 - \"FizzBuzz\". Jei nesidalina nei iš 3, nei iš\n",
    "# 5 - spausdinamas įvestas skaičius.\n",
    "a = int(input('ivesk skaiciu'))\n",
    "if  a % 3 == 0 and a % 5 == 0:\n",
    "    print('FizzBuzz')\n",
    "elif a % 5 == 0:\n",
    "    print('Buzz')\n",
    "elif a % 3 == 0 :\n",
    "    print('Fizz')\n",
    "else:\n",
    "    print(a)"
   ]
  },
  {
   "cell_type": "code",
   "execution_count": 30,
   "metadata": {},
   "outputs": [
    {
     "name": "stdout",
     "output_type": "stream",
     "text": [
      "nieko neivede\n",
      "False\n",
      "False\n",
      "False\n",
      "mazosios\n"
     ]
    }
   ],
   "source": [
    "# • Patikrinkite vartotojo įvestą tekstą:\n",
    "# • Ar vartotojas apskritai ką nors įvedė?\n",
    "# • Ar jame vien tik skaičiai?\n",
    "# • Ar jame vien tik raidės?\n",
    "# • Ar jame nėra specialiųjų simbolių?\n",
    "# • Kokiu registru parašytas tekstas?\n",
    "txt = input('tekstas')\n",
    "if txt:\n",
    "    print('kazka ivede')\n",
    "else:\n",
    "    print('nieko neivede')\n",
    "    \n",
    "print(txt.isnumeric())\n",
    "print(txt.isalpha())\n",
    "print(txt.isalnum())\n",
    "\n",
    "\n",
    "print('didziosios' if txt.isupper() else 'mazosios')"
   ]
  },
  {
   "cell_type": "code",
   "execution_count": 41,
   "metadata": {},
   "outputs": [
    {
     "name": "stdout",
     "output_type": "stream",
     "text": [
      "['500cm', '5000mm', '0.005km']\n"
     ]
    }
   ],
   "source": [
    "# • Leiskite vartotojui įvesti metrus. Išveskite, kiek tai gaunasi\n",
    "# centimetrais, milimetrais ir kilometrais.\n",
    "# • Leiskite vartotojui įvesti du norimus skaičius. Išveskite kokia\n",
    "# gaunasi liekana padalinus vieną skaičių iš kito.\n",
    "# • Leiskite vartotojui įvesti du skaičius. Išveskite kiek gautųsi\n",
    "\n",
    "lst = []\n",
    "a = int(input('ivesk metrus'))\n",
    "cm = a *100\n",
    "mm = a *1000\n",
    "km = a /1000\n",
    "lst.append(str(cm) + 'cm')\n",
    "lst.append(str(mm) + 'mm')\n",
    "lst.append(str(km) + 'km')\n",
    "print(lst)\n",
    "\n",
    "\n",
    "\n"
   ]
  },
  {
   "cell_type": "code",
   "execution_count": 42,
   "metadata": {},
   "outputs": [
    {
     "name": "stdout",
     "output_type": "stream",
     "text": [
      "27.0\n"
     ]
    }
   ],
   "source": [
    "sk1 = float(input('skaicius'))\n",
    "sk2 = float(input('skaicius'))\n",
    "print(sk1 % sk2)"
   ]
  },
  {
   "cell_type": "code",
   "execution_count": 43,
   "metadata": {},
   "outputs": [
    {
     "name": "stdout",
     "output_type": "stream",
     "text": [
      "8\n"
     ]
    }
   ],
   "source": [
    "# vieną skaičių pakėlus kito skaičiaus laipsniu (pvz, pirmas\n",
    "# skaičius eina už pagrindą, o antras skaičius yra laipsnis,\n",
    "# kuriuo ir keliame).\n",
    "sk1 = int(input('skaicius'))\n",
    "sk2 = int(input('skaicius'))\n",
    "print(sk1 ** sk2)"
   ]
  },
  {
   "cell_type": "code",
   "execution_count": 54,
   "metadata": {},
   "outputs": [
    {
     "name": "stdout",
     "output_type": "stream",
     "text": [
      "VILNIUS paminejimo metai 1323\n",
      "STO\n",
      "True\n"
     ]
    }
   ],
   "source": [
    "# Sąrašai gali turėti savyje bet kokį objektą, kad ir kitą sąrašą\n",
    "# (sudėtinis sąrašas (nested list)).\n",
    "\n",
    "l = [\"Vilnius\", 1323, [\"Nupirkti maisto\", \"PABėgioti\"], 8, \"Rytas\"]\n",
    "# • Išveskite Vilniaus paminėjimo metus, žodį ”Vilnius”\n",
    "# didžiosiomis raidėmis\n",
    "# • Išveskite žodžio ”maisto” paskutines tris raides didžiosiomis.\n",
    "# • Užrašykite kodą, kuris patikrintų, ar žodžio ”Pabėgioti” pirmi\n",
    "# trys simboliai yra didžiosios raidės.\n",
    "print(l[0].upper()+' paminejimo metai '+ str(l[1]))\n",
    "print(l[2][0][-3:].upper())\n",
    "print(l[2][1][:3].isupper())"
   ]
  },
  {
   "cell_type": "code",
   "execution_count": 44,
   "metadata": {},
   "outputs": [
    {
     "name": "stdout",
     "output_type": "stream",
     "text": [
      "Python kalba\n",
      "['Python', 'lengva', 'kalba']\n",
      "<class 'str'>\n",
      "True 6\n"
     ]
    }
   ],
   "source": [
    "lst = [\"Python\", \"yra\", \"lengva\", \"programavimo\", \"kalba\"]\n",
    "# • Išveskite pirmą, paskutinį elementus\n",
    "# • Išveskite kas antrą elementą\n",
    "# • Išveskite priešpaskutinio elemento tipą\n",
    "# • Patikrinkite, ar pirmasis sąrašo elementas yra tekstas, ir kiek\n",
    "# simbolių jis turi.\n",
    "print(lst[0], lst[-1])\n",
    "print(lst[::2])\n",
    "print(type(lst[-2]))\n",
    "print(lst[0].isalpha(), len(lst[0]))"
   ]
  },
  {
   "cell_type": "code",
   "execution_count": 55,
   "metadata": {},
   "outputs": [
    {
     "name": "stdout",
     "output_type": "stream",
     "text": [
      "10\n",
      "Aš mėgstu su ir su\n",
      "Aš mėgstu su ir su\n"
     ]
    }
   ],
   "source": [
    "txt = \"Aš rytais mėgstu kavą su sumuštiniais ir arbatą su pyragu\"\n",
    "# • Suskaičiuokite, kiek šiame tekste yra žodžių.\n",
    "# • Išveskite tekstą be kas antro žodžio\n",
    "\n",
    "print(len(txt.split()))\n",
    "print(' '.join(txt.split()[::2]))\n",
    "# lst = txt.split()\n",
    "# print(' '.join(lst[::2]))"
   ]
  },
  {
   "cell_type": "code",
   "execution_count": 58,
   "metadata": {},
   "outputs": [
    {
     "name": "stdout",
     "output_type": "stream",
     "text": [
      "[1, 2, 3, 4, 5, 8]\n",
      "{1, 2, 3, 4, 5, 6, 'a', 'b'}\n",
      "{1, 2, 3}\n",
      "{'a', 4}\n",
      "{4, 5, 6, 'a', 'b'}\n"
     ]
    }
   ],
   "source": [
    "a_set={1,2,3,4, 'a'}\n",
    "b_set={1,2,3,5,6,'b'}\n",
    "# • raskite sąjungą šių rinkinių;\n",
    "# • raskite, kokie elementai buvo bendri abiems rinkiniams?\n",
    "# • raskite, kokiais elementais skiriasi a_set nuo b_set?\n",
    "# • pašalinkite bendrus elementus tarp a_set ir b_set, likusius\n",
    "# elementus išspausdinkite.\n",
    "l = [1,1,2,2,3,4,5,5,5,8,8,1,2]\n",
    "# • Pašalinkite pasikartojančius elementus iš šio l sąrašo.\n",
    "print(list(set(l)))\n",
    "print(a_set.union(b_set))\n",
    "print(a_set.intersection(b_set))\n",
    "print(a_set.difference(b_set))\n",
    "print(a_set.symmetric_difference(b_set))"
   ]
  }
 ],
 "metadata": {
  "kernelspec": {
   "display_name": "Python 3",
   "language": "python",
   "name": "python3"
  },
  "language_info": {
   "codemirror_mode": {
    "name": "ipython",
    "version": 3
   },
   "file_extension": ".py",
   "mimetype": "text/x-python",
   "name": "python",
   "nbconvert_exporter": "python",
   "pygments_lexer": "ipython3",
   "version": "3.12.4"
  }
 },
 "nbformat": 4,
 "nbformat_minor": 2
}
