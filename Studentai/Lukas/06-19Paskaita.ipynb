{
 "cells": [
  {
   "cell_type": "code",
   "execution_count": null,
   "metadata": {},
   "outputs": [],
   "source": [
    "# • Suskaičiuoti, kiek simbolių yra jūsų varde, pavardėje.\n",
    "# • Suskaičiuoti, kiek simbolių yra pačio pirmojo delfi.lt straipsnio\n",
    "# antraštėje\n",
    "# • Pakeisti visas raides į mažąsias jūsų varde. Ir į didžiąsias ;).\n",
    "# • Iš delfi antraštės atrinkite pirmus 10 simbolių; paskutinius\n",
    "# 10; kas antrą; iškirpkite tekstą nuo 10-to iki 20-to simbolių;\n",
    "# • Kiek delfi antraštėje yra \"a\" simbolių? Kurioje pozicijoje yra\n",
    "# pirmąkart sutinkamas šis simbolis?\n",
    "# • Iš teksto txt=\"Labas rytas!\" išveskite tekstą be pirmo\n",
    "# simbolio; be paskutinio; be pirmo ir be paskutinio;"
   ]
  },
  {
   "cell_type": "code",
   "execution_count": 35,
   "metadata": {},
   "outputs": [
    {
     "name": "stdout",
     "output_type": "stream",
     "text": [
      "5\n",
      "10\n",
      "16\n"
     ]
    }
   ],
   "source": [
    "# • Suskaičiuoti, kiek simbolių yra jūsų varde, pavardėje.\n",
    "name = 'Lukas'\n",
    "surname = 'Pavardenis'\n",
    "name_surname = 'Lukas Pavardenis'\n",
    "print(len(name))\n",
    "print(len(surname))\n",
    "print(len(name_surname))"
   ]
  },
  {
   "cell_type": "code",
   "execution_count": 18,
   "metadata": {},
   "outputs": [
    {
     "name": "stdout",
     "output_type": "stream",
     "text": [
      "121\n"
     ]
    }
   ],
   "source": [
    "# • Suskaičiuoti, kiek simbolių yra pačio pirmojo delfi.lt straipsnio\n",
    "# antraštėje\n",
    "antraste = 'https://www.delfi.lt/news/daily/lithuania/kur-ta-audra-specialistai-pakoregavo-prognoze-ir-paaiskino-kas-nutiko-120030945'\n",
    "print(len(antraste))"
   ]
  },
  {
   "cell_type": "code",
   "execution_count": 10,
   "metadata": {},
   "outputs": [
    {
     "name": "stdout",
     "output_type": "stream",
     "text": [
      "LUKAS\n",
      "lukas\n"
     ]
    }
   ],
   "source": [
    "# • Pakeisti visas raides į mažąsias jūsų varde. Ir į didžiąsias ;).\n",
    "print(name.upper())\n",
    "print(name.lower())"
   ]
  },
  {
   "cell_type": "code",
   "execution_count": 19,
   "metadata": {},
   "outputs": [
    {
     "name": "stdout",
     "output_type": "stream",
     "text": [
      "https://www\n"
     ]
    }
   ],
   "source": [
    "# • Iš delfi antraštės atrinkite pirmus 10 simbolių; paskutinius\n",
    "print(antraste[0:10])"
   ]
  },
  {
   "cell_type": "code",
   "execution_count": 34,
   "metadata": {},
   "outputs": [
    {
     "name": "stdout",
     "output_type": "stream",
     "text": [
      "-120030945\n",
      "hts/wwdlil/esdiyltunakrt-ur-pcaitipkrgv-rgoei-aikn-a-uio10395\n",
      "ww.delfi.lt\n"
     ]
    }
   ],
   "source": [
    "# 10; kas antrą; iškirpkite tekstą nuo 10-to iki 20-to simbolių;\n",
    "print(antraste[-10:])\n",
    "print(antraste[::2])\n",
    "print(antraste[9:20])"
   ]
  },
  {
   "cell_type": "code",
   "execution_count": 21,
   "metadata": {},
   "outputs": [
    {
     "name": "stdout",
     "output_type": "stream",
     "text": [
      "13\n",
      "27\n"
     ]
    }
   ],
   "source": [
    "# • Kiek delfi antraštėje yra \"a\" simbolių? Kurioje pozicijoje yra\n",
    "# pirmąkart sutinkamas šis simbolis?\n",
    "print(antraste.count('a'))\n",
    "print(antraste.index('a'))"
   ]
  },
  {
   "cell_type": "code",
   "execution_count": 17,
   "metadata": {},
   "outputs": [
    {
     "name": "stdout",
     "output_type": "stream",
     "text": [
      "abas rytas!\n",
      "Labas rytas\n",
      "abas rytas\n"
     ]
    }
   ],
   "source": [
    "# • Iš teksto txt=\"Labas rytas!\" išveskite tekstą be pirmo\n",
    "# simbolio; be paskutinio; be pirmo ir be paskutinio;\n",
    "txt = 'Labas rytas!'\n",
    "print(txt[1:])\n",
    "print(txt[:-1])\n",
    "print(txt[1:-1])"
   ]
  },
  {
   "cell_type": "code",
   "execution_count": 33,
   "metadata": {},
   "outputs": [
    {
     "name": "stdout",
     "output_type": "stream",
     "text": [
      "64\n",
      "65536\n",
      "2.0\n",
      "0\n"
     ]
    }
   ],
   "source": [
    "# Priskirkite savo pasirinktus skaičius kintamiesiems\n",
    "# • Raskite šių skaičių sandaugą, pakelkite juos savo pasirinktu\n",
    "# laipsniu;\n",
    "# • Ištraukite iš šių skaičių pasirinkto laipsnio šaknį\n",
    "# • Suraskite šių skaičių dalybos liekaną (dalinkite didesnį iš\n",
    "# mažesnio)\n",
    "a = 16\n",
    "b = 4\n",
    "print(a * b)\n",
    "print(a ** b)\n",
    "print(a**(1/b))\n",
    "print(a%b)"
   ]
  },
  {
   "cell_type": "code",
   "execution_count": 36,
   "metadata": {},
   "outputs": [
    {
     "name": "stdout",
     "output_type": "stream",
     "text": [
      "preke kainavo 50, o valstybei atiteko 10.5\n"
     ]
    }
   ],
   "source": [
    "txt = 'preke kainavo {} $, o valstybei atiteko {}'\n",
    "print(txt.format(50, 10.5))"
   ]
  },
  {
   "cell_type": "code",
   "execution_count": 39,
   "metadata": {},
   "outputs": [
    {
     "name": "stdout",
     "output_type": "stream",
     "text": [
      "Preke kainavo 10.12 $\n"
     ]
    }
   ],
   "source": [
    "txt = \"Preke kainavo {:.2f} $\"\n",
    "print(txt.format(10.123456789))"
   ]
  },
  {
   "cell_type": "code",
   "execution_count": 58,
   "metadata": {},
   "outputs": [
    {
     "name": "stdout",
     "output_type": "stream",
     "text": [
      "Pirmasis ivestas skaicius yra 5.61116161616, o antrasis 2.1254864. Sandauga yra 11.926447703350103\n",
      "Pirmasis ivestas skaicius yra 5.61116, o antrasis 2.125486. Sandauga yra 11.926\n"
     ]
    }
   ],
   "source": [
    "# • Atlikite užduotis su skaičiais iš skaidrės (23). Šįkart skaičius\n",
    "# turi įvesti vartotojas.\n",
    "# • Išvestį suformatuokite taip, jog išvestų įvestus skačius, atlikto\n",
    "# veiksmo pavadinimą, pateiktų veiksmo rezultatą.\n",
    "# Rezultatams parodyti panaudokite skirtingus skaičių\n",
    "# atvaizdavimo formatus.\n",
    "\n",
    "a = input(\"Iveskite pirmaji skaiciu:\")\n",
    "b = input('Iveskite antraji skaiciu')\n",
    "txt = 'Pirmasis ivestas skaicius yra {}, o antrasis {}. Sandauga yra {}'\n",
    "print(txt.format(a, b, float(a)*float(b)))\n",
    "txt2 = 'Pirmasis ivestas skaicius yra {:g}, o antrasis {:f}. Sandauga yra {:.3f}'\n",
    "print(txt2.format(float(a), float(b), float(a)*float(b)))\n"
   ]
  },
  {
   "cell_type": "code",
   "execution_count": 60,
   "metadata": {},
   "outputs": [
    {
     "name": "stdout",
     "output_type": "stream",
     "text": [
      "ks tav\n"
     ]
    }
   ],
   "source": [
    "# • Parašykite kodą, kuris atrinktų simbolius iš teksto (įvedamo\n",
    "# vartotojo). Rėžius (nuo - iki) taip pat turi nurodyti vartotojas.\n",
    "txt = input('Iveskite teksta: ')\n",
    "start = int(input('Iveskite rezio starta:'))\n",
    "stop = int(input('iveskite rezio pabaiga:'))\n",
    "print(txt[start:stop])\n"
   ]
  },
  {
   "cell_type": "code",
   "execution_count": 63,
   "metadata": {},
   "outputs": [
    {
     "name": "stdout",
     "output_type": "stream",
     "text": [
      "Dabar yra 2024 metai.\n",
      "Dabar yra 2024, 6 menuo.\n"
     ]
    }
   ],
   "source": [
    "year = 2024\n",
    "t = f'Dabar yra {year} metai.'\n",
    "print(t)\n",
    "month = 6\n",
    "t2 = f'Dabar yra {year}, {month} menuo.'\n",
    "print(t2)"
   ]
  },
  {
   "cell_type": "code",
   "execution_count": 64,
   "metadata": {},
   "outputs": [
    {
     "name": "stdout",
     "output_type": "stream",
     "text": [
      "___1.00___| liekanos operatoriaus rezultatas\n"
     ]
    }
   ],
   "source": [
    "a = int(input('Įveskite skaičių'))\n",
    "answer = f'{a %2:_^10.2f}| liekanos operatoriaus rezultatas'\n",
    "print(answer)"
   ]
  },
  {
   "cell_type": "code",
   "execution_count": null,
   "metadata": {},
   "outputs": [],
   "source": [
    "a = 15\n",
    "b = 7\n",
    "\n",
    "if a > b:\n",
    "    print('a daugiau uz b')\n",
    "else:\n",
    "    print('ELSE')"
   ]
  },
  {
   "cell_type": "code",
   "execution_count": 85,
   "metadata": {},
   "outputs": [
    {
     "name": "stdout",
     "output_type": "stream",
     "text": [
      "tekstas is didziuju raidziu\n"
     ]
    }
   ],
   "source": [
    "# Su input paklauskite teksto, ir su rodytais metodais bei ifu pasakykite,\n",
    "# ar įvestas tekstas buvo mažosiomis, didžiosiomis? Ar buvo vient tik iš skaičių?\n",
    "\n",
    "txt = input('tekstas')\n",
    "if txt.isnumeric():\n",
    "    print('tekstas tik is skaiciu')\n",
    "elif txt.islower() and not txt.isalnum():\n",
    "    print('tekstas is mazuju raidziu')\n",
    "elif txt.isupper() and not txt.isalnum():\n",
    "    print('tekstas is didziuju raidziu')\n",
    "else:\n",
    "    print('raides ir skaiciai')"
   ]
  }
 ],
 "metadata": {
  "kernelspec": {
   "display_name": "Python 3",
   "language": "python",
   "name": "python3"
  },
  "language_info": {
   "codemirror_mode": {
    "name": "ipython",
    "version": 3
   },
   "file_extension": ".py",
   "mimetype": "text/x-python",
   "name": "python",
   "nbconvert_exporter": "python",
   "pygments_lexer": "ipython3",
   "version": "3.12.4"
  }
 },
 "nbformat": 4,
 "nbformat_minor": 2
}
