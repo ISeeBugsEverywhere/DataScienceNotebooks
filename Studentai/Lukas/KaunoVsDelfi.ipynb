{
 "cells": [
  {
   "cell_type": "code",
   "execution_count": 1,
   "metadata": {},
   "outputs": [],
   "source": [
    "import numpy as np\n",
    "import pandas as pd\n",
    "import matplotlib.pyplot as plt\n",
    "import warnings\n",
    "warnings.filterwarnings('ignore')\n",
    "import seaborn as sns\n",
    "# import sqlite3\n",
    "# import mysql.connector as cnt\n",
    "# import plotly.express as px \n",
    "import requests\n",
    "# import selenium\n",
    "\n",
    "from bs4 import BeautifulSoup"
   ]
  },
  {
   "cell_type": "code",
   "execution_count": 2,
   "metadata": {},
   "outputs": [
    {
     "name": "stdout",
     "output_type": "stream",
     "text": [
      "29\n",
      "['Seimo rinkimai: įvardijo, kada galima tikėtis rezultatų', 'Aiškėja daugiau detalių apie šaulį: galėjo turėti ryšių su „Vilniaus brigada“', 'Dar vienas kalėjimo bėglys: ieškomas į Pravieniškes negrįžęs nuteistasis', 'Nuotraukos sujungė tris šalis', 'Repeticija, trunkanti pusę gyvenimo', 'Veiksmas Partizanų gatvėje: pareigūnai šturmavo automobilį, sulaikytas vyras', 'Darbdavio magija: kas darbuotoją skatina įsitraukti ir augti?', 'Akibrokštas privačiai greitajai pagalbai: 50 įdarbintų žmonių valstybei neįdomu?', 'Vyriausybė nepritaria, kad baigę gyvulininkystę teiktų sveikatos paslaugas su gyvūnais', 'Šeima – tarsi universitetas, kuriame mokomės iš artimųjų', 'Sociologė įvertino Seimo rinkimų aktyvumą: stebuklų nebus', 'Keičiama tvarka: policija nebelydės uosto krovinių', 'Iš išaugtų vaikiškų drabužių – prisiminimų šiltukai', 'Mainų platformos įkūrėja: gyventi tvariau – naudinga ir finansiškai', 'Vilniaus valdžia siūlo skverui suteikti Mažosios Lietuvos vardą, aikštei – J. K. Glaubico', '„Kauno dienos“ studijoje – istorikas R. Kamuntavičius: ar reikia bijoti gudiško litvinizmo?', 'M. Balčiūnas: jei aš iš savo įmonių parėmiau LKF, kuo tai blogai finansiškai?', 'Prie vairo – be patirties. Liberalu, bet rizikinga', 'Vartotojai įgauna daugiau drąsos: pateikia vis daugiau skundų', 'V. Zelenskis prašo Vakarų skubios pagalbos', 'Irano užsienio reikalų ministras: ginant savo šalį nebus raudonų linijų', 'Olimpinė čempionė vėl šventė pergalę', 'Medikų nesustabdė nei traumos, nei orai', 'Keliuose – daugybė girtų vairuotojų: 17 sulauks baudžiamųjų bylų ir neteks automobilių, traktoriaus', 'Vilniaus rajone užsiliepsnojo daugiabutis: gyventojai liko be pastogės (papildyta)', 'Maža erdvė: gali būti ir funkcionalu, ir jauku', 'Svarbiausia mados pasaulyje – susikurti stilių', 'Astrologinė prognozė spalio 14–20 d.', 'Dienos horoskopas 12 Zodiako ženklų (spalio 12 d.)']\n",
      "29\n",
      "['naujienos/lietuva/politika/seimo-rinkimai-ivardijo-kada-galima-tiketis-daugumos-rezultatu-1195625', 'naujienos/vilnius/nusikaltimai-ir-nelaimes/aiskeja-daugiau-detaliu-apie-sauli-galejo-tureti-rysiu-su-vilniaus-brigada-1195545', 'naujienos/kaunas/nusikaltimai-ir-nelaimes/dar-vienas-kalejimo-beglys-ieskomas-i-pravieniskes-negrizes-nuteistasis-1195569', 'naujienos/kaunas/menas-ir-pramogos/nuotraukos-sujunge-tris-salis-1195459', 'naujienos/laisvalaikis-ir-kultura/kultura/repeticija-trunkanti-puse-gyvenimo-1195433', 'naujienos/kaunas/nusikaltimai-ir-nelaimes/veiksmas-partizanu-gatveje-pareigunai-sturmavo-automobili-sulaikytas-vyras-1194672', 'naujienos/verslas/ekonomika/darbdavio-magija-kas-darbuotoja-skatina-isitraukti-ir-augti-1182991', 'naujienos/lietuva/salies-pulsas/akibrokstas-privaciai-greitajai-pagalbai-viskas-vyksta-pagal-sutarti-1194484', 'naujienos/verslas/ekonomika/vyriausybe-nepritaria-kad-baige-gyvulininkyste-teiktu-sveikatos-paslaugas-su-gyvunais-1195593', 'naujienos/sveikata/psichologija/seima-tarsi-universitetas-kuriame-mokomes-artimuju-1195032', 'naujienos/lietuva/politika/sociologe-ivertino-seimo-rinkimu-aktyvuma-stebuklu-nebus-1195616', 'naujienos/klaipeda/miesto-pulsas/policija-nebelydes-uosto-kroviniu-1195059', 'naujienos/lietuva/salies-pulsas/isaugtu-vaikisku-drabuziu-prisiminimu-siltukai-1195036', 'naujienos/lietuva/salies-pulsas/mainu-platformos-ikureja-gyventi-tvariau-naudinga-ir-finansiskai-1194059', 'https://www.diena.lt/naujienos/vilnius/miesto-pulsas/vilniaus-valdzia-siulo-skverui-suteikti-mazosios-lietuvos-varda-aikstei-j-k-glaubico-1195613', 'naujienos/kauno-dienos-studija/kauno-dienos-studijoje-istorikas-r-kamuntavicius-ar-reikia-bijoti-gudisko-litvinizmo-1195490', 'naujienos/sportas/krepsinis/m-balciunas-jei-savo-imoniu-paremiau-lkf-kuo-tai-blogai-finansiskai-1190480', 'naujienos/verslas/ratai/prie-vairo-be-patirties-liberalu-bet-rizikinga-1195281', 'naujienos/verslas/ekonomika/vartotojai-igauna-daugiau-drasos-pateikia-vis-daugiau-skundu-1195183', 'naujienos/pasaulis/konfliktai-nelaimes/v-zelenskis-praso-vakaru-skubios-pagalbos-1195620', 'naujienos/pasaulis/konfliktai-nelaimes/irano-uzsienio-reikalu-ministras-ginant-savo-sali-nebus-raudonu-liniju-1195617', 'naujienos/sportas/kitos-sporto-sakos/olimpine-cempione-vel-svente-pergale-1195466', 'naujienos/sportas/kitos-sporto-sakos/mediku-nesustabde-nei-traumos-nei-orai-1195437', 'naujienos/kriminalai/nusikaltimai/keliuose-daugybe-girtu-vairuotoju-17-sulauks-baudziamuju-bylu-ir-neteks-automobiliu-traktoriaus-1195607', 'naujienos/vilnius/nusikaltimai-ir-nelaimes/gaisras-vilniaus-rajone-uzsiliepsnojo-daugiabutis-1195584', 'naujienos/laisvalaikis-ir-kultura/namai/maza-erdve-gali-buti-ir-funkcionalu-ir-jauku-1195043', 'naujienos/laisvalaikis-ir-kultura/zvaigzdes-ir-pramogos/svarbiausia-mados-pasaulyje-susikurti-stiliu-1195264', 'naujienos/ivairenybes/horoskopai/astrologine-prognoze-spalio-14-20-d-1195270', 'naujienos/ivairenybes/horoskopai/dienos-horoskopas-12-zodiako-zenklu-spalio-12-d-1195473']\n"
     ]
    }
   ],
   "source": [
    "url_kauno = 'https://kauno.diena.lt/'\n",
    "\n",
    "page_kauno = requests.get(url_kauno)\n",
    "\n",
    "source_kauno = page_kauno.content\n",
    "\n",
    "bs_kauno = BeautifulSoup(source_kauno, 'html.parser')\n",
    "# print(bs)\n",
    "nuorodos_kauno = []\n",
    "pavadinimai_kauno = []\n",
    "straipsniai_kauno = bs_kauno.find_all('div', {'category-block-row grid-12 alpha omega unscore'})\n",
    "for s in straipsniai_kauno:\n",
    "    i = s.find('div', {'class':'articles-list-title-wrapper'})\n",
    "    if i is not None:\n",
    "        t = i.find('a', {'class':'articles-list-title'})\n",
    "        pavadinimai_kauno.append(t.text)\n",
    "        nuorodos_kauno.append(t['href'])\n",
    "        # print(':::REM:::')\n",
    "        # print(t)\n",
    "        # print('HREF?')\n",
    "        # print(t['href'])\n",
    "        # print(t.text)\n",
    "\n",
    "print(len(pavadinimai_kauno))\n",
    "print(pavadinimai_kauno)\n",
    "print(len(nuorodos_kauno))\n",
    "print(nuorodos_kauno)"
   ]
  },
  {
   "cell_type": "code",
   "execution_count": 4,
   "metadata": {},
   "outputs": [
    {
     "name": "stdout",
     "output_type": "stream",
     "text": [
      "vidutinis zodziu kiekis \"Kauno diena\" pavadinimuose: 8.172413793103448\n"
     ]
    }
   ],
   "source": [
    "# Suraskite vidutinį straipsnių pavadinimuose esančių žodžių skaičių.\n",
    "zodziu_kiekiai_kauno = []\n",
    "for pav in pavadinimai_kauno:\n",
    "    kiekis =len(pav.split())\n",
    "    zodziu_kiekiai_kauno.append(kiekis)\n",
    "    \n",
    "vidutinis_zodziu_kiekis_kauno = sum(zodziu_kiekiai_kauno) / len(zodziu_kiekiai_kauno)\n",
    "print(f'vidutinis zodziu kiekis \"Kauno diena\" pavadinimuose: {vidutinis_zodziu_kiekis_kauno}')"
   ]
  },
  {
   "cell_type": "code",
   "execution_count": 5,
   "metadata": {},
   "outputs": [
    {
     "name": "stdout",
     "output_type": "stream",
     "text": [
      "{4: 2, 5: 2, 6: 4, 7: 3, 8: 7, 9: 4, 10: 2, 11: 1, 12: 1, 13: 3}\n",
      "29\n"
     ]
    },
    {
     "data": {
      "image/png": "[encoded data removed]",
      "text/plain": [
       "<Figure size 800x450 with 1 Axes>"
      ]
     },
     "metadata": {},
     "output_type": "display_data"
    }
   ],
   "source": [
    "kiekiai_dict_kauno = {}\n",
    "for k in (list(set(zodziu_kiekiai_kauno))):\n",
    "    kiekiai_dict_kauno[k] = 0\n",
    "\n",
    "\n",
    "for k in kiekiai_dict_kauno.keys():\n",
    "    c = zodziu_kiekiai_kauno.count(k)\n",
    "    kiekiai_dict_kauno[k] = c\n",
    "    \n",
    "print(kiekiai_dict_kauno)\n",
    "print(sum(kiekiai_dict_kauno.values()))\n",
    "\n",
    "x_asis = list(kiekiai_dict_kauno.keys())\n",
    "\n",
    "fig, ax = plt.subplots(figsize=(8, 4.5))\n",
    "\n",
    "B = ax.bar(kiekiai_dict_kauno.keys(), kiekiai_dict_kauno.values())\n",
    "ax.bar_label(B)\n",
    "ax.set_xticks(x_asis)\n",
    "ax.set_xlabel('zodziu kiekiai pavadinimuose')\n",
    "ax.set_ylabel('pasikartojimai')\n",
    "\n",
    "plt.show()"
   ]
  },
  {
   "cell_type": "code",
   "execution_count": 6,
   "metadata": {},
   "outputs": [
    {
     "name": "stdout",
     "output_type": "stream",
     "text": [
      "14\n",
      "Vilniaus valdžia siūlo skverui suteikti Mažosios Lietuvos vardą, aikštei – J. K. Glaubico\n",
      "https://www.diena.lt/naujienos/vilnius/miesto-pulsas/vilniaus-valdzia-siulo-skverui-suteikti-mazosios-lietuvos-varda-aikstei-j-k-glaubico-1195613\n"
     ]
    }
   ],
   "source": [
    "idx_kauno = (zodziu_kiekiai_kauno.index(max(zodziu_kiekiai_kauno)))\n",
    "print(idx_kauno)\n",
    "print(pavadinimai_kauno[idx_kauno])\n",
    "print(nuorodos_kauno[idx_kauno])\n",
    "max_zodziu_straipsnis_kauno = nuorodos_kauno[idx_kauno]"
   ]
  },
  {
   "cell_type": "code",
   "execution_count": 7,
   "metadata": {},
   "outputs": [
    {
     "name": "stdout",
     "output_type": "stream",
     "text": [
      "https://www.diena.lt/naujienos/vilnius/miesto-pulsas/vilniaus-valdzia-siulo-skverui-suteikti-mazosios-lietuvos-varda-aikstei-j-k-glaubico-1195613\n"
     ]
    },
    {
     "ename": "IndexError",
     "evalue": "list index out of range",
     "output_type": "error",
     "traceback": [
      "\u001b[1;31m---------------------------------------------------------------------------\u001b[0m",
      "\u001b[1;31mIndexError\u001b[0m                                Traceback (most recent call last)",
      "Cell \u001b[1;32mIn[7], line 18\u001b[0m\n\u001b[0;32m     16\u001b[0m pastraipos_kauno \u001b[38;5;241m=\u001b[39m bs2_kauno\u001b[38;5;241m.\u001b[39mfind_all(\u001b[38;5;124m'\u001b[39m\u001b[38;5;124mspan\u001b[39m\u001b[38;5;124m'\u001b[39m, {\u001b[38;5;124m'\u001b[39m\u001b[38;5;124mitemprop\u001b[39m\u001b[38;5;124m'\u001b[39m:\u001b[38;5;124m'\u001b[39m\u001b[38;5;124marticleBody\u001b[39m\u001b[38;5;124m'\u001b[39m})\n\u001b[0;32m     17\u001b[0m \u001b[38;5;66;03m# print(len(pastraipos))\u001b[39;00m\n\u001b[1;32m---> 18\u001b[0m tekstas_kauno \u001b[38;5;241m=\u001b[39m \u001b[43mpastraipos_kauno\u001b[49m\u001b[43m[\u001b[49m\u001b[38;5;241;43m0\u001b[39;49m\u001b[43m]\u001b[49m\u001b[38;5;241m.\u001b[39mtext\n\u001b[0;32m     21\u001b[0m \u001b[38;5;28mprint\u001b[39m(\u001b[38;5;28mlen\u001b[39m(tekstas_kauno\u001b[38;5;241m.\u001b[39msplit()))\n\u001b[0;32m     23\u001b[0m \u001b[38;5;28;01mfrom\u001b[39;00m \u001b[38;5;21;01mcollections\u001b[39;00m \u001b[38;5;28;01mimport\u001b[39;00m Counter\n",
      "\u001b[1;31mIndexError\u001b[0m: list index out of range"
     ]
    }
   ],
   "source": [
    "if max_zodziu_straipsnis_kauno.startswith('https:'):\n",
    "    url2_kauno = max_zodziu_straipsnis_kauno\n",
    "else:\n",
    "    url2_kauno = f'https://kauno.diena.lt/{max_zodziu_straipsnis_kauno}'\n",
    "    \n",
    "print(url2_kauno)\n",
    "\n",
    "page_kauno = requests.get(url2_kauno)\n",
    "\n",
    "source_kauno = page_kauno.content\n",
    "\n",
    "bs2_kauno = BeautifulSoup(source_kauno, 'html.parser')\n",
    "# print(bs)\n",
    "# tekstas = ''\n",
    "\n",
    "pastraipos_kauno = bs2_kauno.find_all('span', {'itemprop':'articleBody'})\n",
    "# print(len(pastraipos))\n",
    "tekstas_kauno = pastraipos_kauno[0].text\n",
    "\n",
    "    \n",
    "print(len(tekstas_kauno.split()))\n",
    "\n",
    "from collections import Counter\n",
    "\n",
    "zodziai_tektste_kauno = dict(Counter(tekstas_kauno.split()))\n",
    "print(zodziai_tektste_kauno.values())"
   ]
  },
  {
   "cell_type": "code",
   "execution_count": null,
   "metadata": {},
   "outputs": [],
   "source": [
    "df_kauno = pd.DataFrame(zodziai_tektste_kauno.items(), columns=['zodis', 'kiekis'])\n",
    "\n"
   ]
  },
  {
   "cell_type": "code",
   "execution_count": null,
   "metadata": {},
   "outputs": [],
   "source": [
    "df_st_kauno = df_kauno.sort_values(by=['kiekis'],ascending=False).reset_index()[:5]\n"
   ]
  },
  {
   "cell_type": "code",
   "execution_count": null,
   "metadata": {},
   "outputs": [],
   "source": [
    "fig, ax = plt.subplots()\n",
    "sns.barplot(data=df_st_kauno, x=df_st_kauno['zodis'], y=df_st_kauno['kiekis'])\n",
    "for container in ax.containers:\n",
    "    ax.bar_label(container)\n",
    "plt.show()"
   ]
  },
  {
   "cell_type": "code",
   "execution_count": null,
   "metadata": {},
   "outputs": [],
   "source": [
    "zodziai_straipsniuose_kauno = []\n",
    "\n",
    "for nuoroda in nuorodos_kauno:\n",
    "    # print(nuoroda)\n",
    "    if  nuoroda.startswith('https'):\n",
    "        url3_kauno = nuoroda\n",
    "    else:\n",
    "        url3_kauno = f'https://kauno.diena.lt/{nuoroda}'\n",
    "\n",
    "        page_kauno = requests.get(url3_kauno)\n",
    "        source_kauno = page_kauno.content\n",
    "\n",
    "        bs3_kauno = BeautifulSoup(source_kauno, 'html.parser')\n",
    "        pastraipos_kauno = bs3_kauno.find_all('span', {'itemprop':'articleBody'})\n",
    "\n",
    "        tekstas_kauno = pastraipos_kauno[0].text\n",
    "\n",
    "        zodziai_straipsniuose_kauno.append(len(tekstas_kauno.split()))\n",
    "        # time.sleep(0.5)\n",
    "        # print(len(tekstas.split()))\n",
    "\n",
    "print(len(zodziai_straipsniuose_kauno))\n",
    "print(zodziai_straipsniuose_kauno)\n",
    "\n",
    "print(f'vidutinis zodziu kiekis straipsniuose: {sum(zodziai_straipsniuose_kauno) / len(zodziai_straipsniuose_kauno)}')\n",
    "\n"
   ]
  }
 ],
 "metadata": {
  "kernelspec": {
   "display_name": "Python 3",
   "language": "python",
   "name": "python3"
  },
  "language_info": {
   "codemirror_mode": {
    "name": "ipython",
    "version": 3
   },
   "file_extension": ".py",
   "mimetype": "text/x-python",
   "name": "python",
   "nbconvert_exporter": "python",
   "pygments_lexer": "ipython3",
   "version": "3.12.4"
  }
 },
 "nbformat": 4,
 "nbformat_minor": 2
}
