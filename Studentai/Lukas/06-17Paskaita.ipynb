{
 "cells": [
  {
   "cell_type": "code",
   "execution_count": 1,
   "metadata": {},
   "outputs": [
    {
     "name": "stdout",
     "output_type": "stream",
     "text": [
      "Labas, čia pirmoji paskaita\n"
     ]
    }
   ],
   "source": [
    "print('Labas, čia pirmoji paskaita')"
   ]
  },
  {
   "cell_type": "code",
   "execution_count": 2,
   "metadata": {},
   "outputs": [
    {
     "name": "stdout",
     "output_type": "stream",
     "text": [
      "45\n"
     ]
    }
   ],
   "source": [
    "a = 20\n",
    "b = a + 25\n",
    "print(b)"
   ]
  },
  {
   "cell_type": "code",
   "execution_count": 3,
   "metadata": {},
   "outputs": [
    {
     "name": "stdout",
     "output_type": "stream",
     "text": [
      "8\n",
      "256\n",
      "1.681792830507429\n",
      "3.0\n",
      "<class 'float'>\n",
      "21.0\n",
      "1\n"
     ]
    }
   ],
   "source": [
    "# sudėtis:\n",
    "print(1 + 7)\n",
    "# kėlimas laipsniu:\n",
    "print(2**8)\n",
    "#n-tojo laipsnio šaknies traukimas:\n",
    "print(64**(1/8))\n",
    "#skaičiaus priskyrimas kintamajam:\n",
    "a = 3.0\n",
    "print(a) # išves 3.0\n",
    "print(type(a)) # parašys, koks kintamojo tipas\n",
    "b = a * 7 # atsakymo priskyrimas naujam kintamajam\n",
    "print(b) # atsakymo išvedimas\n",
    "print(9 % 4 )# liekanos radimas (operatorius %)"
   ]
  }
 ],
 "metadata": {
  "kernelspec": {
   "display_name": "Python 3",
   "language": "python",
   "name": "python3"
  },
  "language_info": {
   "codemirror_mode": {
    "name": "ipython",
    "version": 3
   },
   "file_extension": ".py",
   "mimetype": "text/x-python",
   "name": "python",
   "nbconvert_exporter": "python",
   "pygments_lexer": "ipython3",
   "version": "3.12.4"
  }
 },
 "nbformat": 4,
 "nbformat_minor": 2
}
