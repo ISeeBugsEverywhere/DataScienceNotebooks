{
 "cells": [
  {
   "cell_type": "code",
   "execution_count": 1,
   "metadata": {},
   "outputs": [],
   "source": [
    "import selenium\n",
    "from selenium.webdriver.chrome.options import Options\n",
    "# from selenium.webdriver.firefox.options import Options as FirefoxOptions\n",
    "from selenium import webdriver\n",
    "from bs4 import BeautifulSoup\n",
    "import sqlite3\n",
    "import mysql.connector as cnt\n",
    "import time\n"
   ]
  },
  {
   "cell_type": "code",
   "execution_count": 20,
   "metadata": {},
   "outputs": [],
   "source": [
    "opcijos = Options()\n",
    "opcijos.add_argument('--incognito')\n",
    "opcijos.add_argument('--ignore-certificate-errors')\n",
    "opcijos.add_argument('--ignore-ssl-errors')\n",
    "driver = webdriver.Chrome(options=opcijos)\n",
    "url = 'https://www.aruodas.lt/butai/puslapis/1/?FOwnerDbId0=1&FOwnerDbId2=1'\n",
    "driver.get(url)\n",
    "time.sleep(5)\n",
    "source = driver.page_source\n",
    "driver.close()"
   ]
  },
  {
   "cell_type": "code",
   "execution_count": 21,
   "metadata": {},
   "outputs": [
    {
     "name": "stdout",
     "output_type": "stream",
     "text": [
      "25\n",
      "['https://www.aruodas.lt/butai-vilniuje-snipiskese-verkiu-g-parduodamas-jaukus-ir-sviesus-butas-butas-1-3416089/', 'https://www.aruodas.lt/butai-palangoje-prieplaukos-g-parduodami-isskirtiniai-apartamentai-prie-1-3488093/', 'https://www.aruodas.lt/butai-palangoje-palangoje-a-mickeviciaus-g-norime-pristatyti-jums-musu-parduodamus-1-3427260/', 'https://www.aruodas.lt/butai-vilniuje-pasilaiciuose-perkunkiemio-g-brokeriu-paslaugos-nedomina-1-3411527/', 'https://www.aruodas.lt/butai-vilniuje-fabijoniskese-vetrungiu-g-parduodamas-jaukus-siltas-sviesus-1-3486583/', 'https://www.aruodas.lt/butai-vilniuje-senamiestyje-traku-g-senamiestyje-traku-g-praduodamas-sviesus-1-3446254/', 'https://www.aruodas.lt/butai-vilniuje-vilkpedeje-savanoriu-pr-parduodamas-stilingo-dizaino-itin-kokybiskai-1-3470443/', 'https://www.aruodas.lt/butai-vilniuje-snipiskese-krokuvos-g-moderniai-ir-kokybiskai-irengtas-kambariu-1-3484415/', 'https://www.aruodas.lt/butai-kaune-silainiuose-v-kavolio-g-butai-tiesiogiai-is-statytojo-silainiuose-1-3480325/', 'https://www.aruodas.lt/butai-kaune-sanciuose-a-juozapaviciaus-pr-butas-yra-isskirtiniame-wwwjuozapaviciaus-1-3342907/', 'https://www.aruodas.lt/butai-kaune-sanciuose-a-juozapaviciaus-pr-nt-technologiju-ir-kokybes-simbolis-1-3466266/', 'https://www.aruodas.lt/butai-kaune-sanciuose-a-juozapaviciaus-pr-nt-technologiju-ir-kokybes-simbolis-1-3410497/', 'https://www.aruodas.lt/butai-kaune-vilijampoleje-raudondvario-pl-palankiomis-salygomis-suteikiame-kredita-1-3414581/', 'https://www.aruodas.lt/butai-klaipedoje-laukininkuose-vyturio-g-parduodamas-erdvus-kambariu-butas-su-holu-1-3485449/', 'https://www.aruodas.lt/butai-klaipedoje-senamiestyje-smiltynes-g-rekonstruotame-istoriniame-smiltynes-kurhauzo-1-3473093/', 'https://www.aruodas.lt/butai-vilniuje-kalnenuose-senasalio-g-parduodamas-pilnai-irengtas-aukstu-1-3487873/', 'https://www.aruodas.lt/butai-vilniuje-lazdynuose-architektu-g-parduodamas-kamabariu-visiskai-naujai-1-3484811/', 'https://www.aruodas.lt/butai-vilniuje-pilaiteje-m-mazvydo-g-parduodamas-erdvus-kambariu-butas-su-1-3471785/', 'https://www.aruodas.lt/butai-vilniuje-pilaiteje-smalines-g-pasakiskai-grazioje-vietoje-smalines-g-1-3483259/', 'https://www.aruodas.lt/butai-vilniuje-santariskese-santariskiu-g-parduodamas-isskirtinis-kokybiskai-irengdtas-1-3480481/', 'https://www.aruodas.lt/butai-vilniuje-bajoruose-bajoru-kel-parduodamas-erdvus-kvm-ploto-triju-1-3482641/', 'https://www.aruodas.lt/butai-kaune-silainiuose-jotvingiu-g-pigiausias-rinkoje-kambariu-butas-1-3453348/', 'https://www.aruodas.lt/butai-vilniuje-karoliniskese-algimanto-petro-kavoliuko-g-parduodamas-sviesus-jaukus-kambariu-butas-1-3460228/', 'https://www.aruodas.lt/butai-vilniuje-naujamiestyje-mindaugo-g-iprasta-kaina-eur-atviru-duru-diena-1-3472749/', 'https://www.aruodas.lt/butai-vilniuje-naujamiestyje-paneriu-g-jauki-studija-naujamiestyje-vos-uz-min-1-3467664/']\n"
     ]
    }
   ],
   "source": [
    "bs = BeautifulSoup(source, 'html.parser')\n",
    "\n",
    "butai_nuorodos = []\n",
    "\n",
    "linkai = bs.find_all('h3')\n",
    "for linkas in linkai:\n",
    "    # print('::REM::')\n",
    "    l = linkas.find('a')\n",
    "    if l != None:\n",
    "        # print('error')\n",
    "        # print(l['href'])\n",
    "        butai_nuorodos.append(l['href'])\n",
    "        \n",
    "print(len(butai_nuorodos))\n",
    "print(butai_nuorodos)\n",
    "  "
   ]
  },
  {
   "cell_type": "code",
   "execution_count": 22,
   "metadata": {},
   "outputs": [
    {
     "name": "stdout",
     "output_type": "stream",
     "text": [
      "https://www.aruodas.lt//butai/puslapis/2/?FOwnerDbId0=1&FOwnerDbId2=1\n"
     ]
    }
   ],
   "source": [
    "kitas = bs.find('div', {'class':'pagination'}).find_all('a', {'class':'page-bt'})\n",
    "for k in kitas:\n",
    "    # print(k.text.strip())\n",
    "    if k.text.strip() == '»':\n",
    "        kitas_psl = k['href']\n",
    "        # print(kitas_psl)\n",
    "next_nuoroda = f'https://www.aruodas.lt/{kitas_psl}'\n",
    "\n",
    "print(next_nuoroda)"
   ]
  },
  {
   "cell_type": "code",
   "execution_count": 23,
   "metadata": {},
   "outputs": [
    {
     "name": "stdout",
     "output_type": "stream",
     "text": [
      "https://www.aruodas.lt/butai-vilniuje-snipiskese-verkiu-g-parduodamas-jaukus-ir-sviesus-butas-butas-1-3416089/\n"
     ]
    }
   ],
   "source": [
    "driver = webdriver.Chrome(options=opcijos)\n",
    "for nuoroda in butai_nuorodos[0:1]:\n",
    "    print(nuoroda)\n",
    "    \n",
    "    \n",
    "    url = nuoroda\n",
    "    # url = 'https://www.aruodas.lt/butai-palangoje-palangoje-medvalakio-g-parduodamas-dvieju-kambariu-butas-naujame-1-3481853/'\n",
    "    # url = 'https://www.aruodas.lt/butai-palangoje-palangoje-a-mickeviciaus-g-norime-pristatyti-jums-musu-parduodamus-1-3427260/'\n",
    "    # url = 'https://www.aruodas.lt/butai-palangoje-palangoje-a-mickeviciaus-g-norime-pristatyti-jums-musu-parduodamus-1-3427260/'\n",
    "    driver.get(url)\n",
    "    time.sleep(2)\n",
    "    source = driver.page_source\n",
    "    \n",
    "driver.close()"
   ]
  },
  {
   "cell_type": "code",
   "execution_count": 35,
   "metadata": {},
   "outputs": [
    {
     "name": "stdout",
     "output_type": "stream",
     "text": [
      "Vilnius\n",
      "Šnipiškės\n",
      "Verkių g.\n",
      "205000\n",
      "3076\n",
      "['Namo numeris:', 'Buto numeris:', 'Unikalus daikto numeris (RC numeris):', 'Plotas:', 'Kambarių sk.:', 'Aukštas:', 'Aukštų sk.:', 'Metai:', 'Pastato tipas:', 'Šildymas:', 'Įrengimas:', 'Pastato energijos suvartojimo klasė:', 'Ypatybės:', 'Papildomos patalpos:', 'Papildoma įranga:', 'Apsauga:']\n",
      "16\n",
      "['5A', '55', '1097-1012-6150', '66,64 m²', '2', '3', '5', '2003', 'Mūrinis', 'Centrinis', 'Įrengtas', 'A', 'Tualetas ir vonia atskirai\\nInternetas\\nVirtuvė sujungta su kambariu', 'Balkonas\\nVieta automobiliui', 'Skalbimo mašina\\nSu baldais\\nŠaldytuvas\\nVirtuvės komplektas\\nViryklė\\nIndaplovė\\nVonia', 'Kodinė laiptinės spyna']\n",
      "16\n",
      "{'miestas': 'Vilnius', 'rajonas': 'Šnipiškės', 'gatve': 'Verkių g.', 'kaina': 205000, 'kv_kaina': 3076, 'nuoroda': 'https://www.aruodas.lt/butai-vilniuje-snipiskese-verkiu-g-parduodamas-jaukus-ir-sviesus-butas-butas-1-3416089/', 'Namo numeris:': '5A', 'Buto numeris:': '55', 'Unikalus daikto numeris (RC numeris):': '1097-1012-6150', 'Plotas:': '66,64 m²', 'Kambarių sk.:': '2', 'Aukštas:': '3', 'Aukštų sk.:': '5', 'Metai:': '2003', 'Pastato tipas:': 'Mūrinis', 'Šildymas:': 'Centrinis', 'Įrengimas:': 'Įrengtas', 'Pastato energijos suvartojimo klasė:': 'A', 'Ypatybės:': 'Tualetas ir vonia atskirai\\nInternetas\\nVirtuvė sujungta su kambariu', 'Papildomos patalpos:': 'Balkonas\\nVieta automobiliui', 'Papildoma įranga:': 'Skalbimo mašina\\nSu baldais\\nŠaldytuvas\\nVirtuvės komplektas\\nViryklė\\nIndaplovė\\nVonia', 'Apsauga:': 'Kodinė laiptinės spyna'}\n",
      "['miestas', 'rajonas', 'gatve', 'kaina', 'kv_kaina', 'nuoroda', 'Namo numeris:', 'Buto numeris:', 'Unikalus daikto numeris (RC numeris):', 'Plotas:', 'Kambarių sk.:', 'Aukštas:', 'Aukštų sk.:', 'Metai:', 'Pastato tipas:', 'Šildymas:', 'Įrengimas:', 'Pastato energijos suvartojimo klasė:', 'Ypatybės:', 'Papildomos patalpos:', 'Papildoma įranga:', 'Apsauga:']\n",
      "Baigta!!!\n"
     ]
    }
   ],
   "source": [
    "# driver = webdriver.Chrome(options=opcijos)\n",
    "# for nuoroda in butai_nuorodos[0:5]:\n",
    "# print(nuoroda)\n",
    "\n",
    "duomenys = {\n",
    "    'miestas':'None',\n",
    "    'rajonas':'None',\n",
    "    'gatve':'None',\n",
    "    'kaina':'None',\n",
    "    'kv_kaina':'None',\n",
    "    # 'Plotas:':'None',\n",
    "    # 'Kambarių sk.:':'None',\n",
    "    # 'Metai:':'None',\n",
    "    # 'Aukštas:':'None',\n",
    "    # 'Aukštų sk.:':'None',\n",
    "    # 'Namo numeris:':'None',\n",
    "    # 'Buto numeris:':'None',\n",
    "    # 'Pastato tipas:':'None',\n",
    "    # 'Šildymas:':'None',\n",
    "    # 'Įrengimas:':'None',\n",
    "    # 'Pastato energijos suvartojimo klasė:':'None',\n",
    "    # 'Ypatybės:':'None',\n",
    "    # 'Papildomos patalpos:':'None',\n",
    "    # 'Papildoma įranga:':'None',\n",
    "    # 'Apsauga:':'None',\n",
    "    # 'Unikalus daikto numeris (RC numeris):': 'None',\n",
    "    'nuoroda':'None'\n",
    "}\n",
    "\n",
    "duomenys['nuoroda'] = nuoroda\n",
    "\n",
    "url = nuoroda\n",
    "# url = 'https://www.aruodas.lt/butai-palangoje-palangoje-medvalakio-g-parduodamas-dvieju-kambariu-butas-naujame-1-3481853/'\n",
    "# driver.get(url)\n",
    "# time.sleep(2)\n",
    "# source = driver.page_source\n",
    "\n",
    "bs_buto = BeautifulSoup(source, 'html.parser')\n",
    "\n",
    "gyvenviete = bs_buto.find('h1', {'class':'obj-header-text'}).text\n",
    "gyvenviete_lst = gyvenviete.split(',')\n",
    "if len(gyvenviete_lst) == 4:\n",
    "    miestas = gyvenviete_lst[0].strip()\n",
    "    duomenys['miestas'] = miestas\n",
    "    print(miestas)\n",
    "    rajonas = gyvenviete_lst[1].strip()\n",
    "    duomenys['rajonas'] = rajonas\n",
    "    print(rajonas)\n",
    "    gatve = gyvenviete_lst[2].strip()\n",
    "    duomenys['gatve'] = gatve\n",
    "    print(gatve)\n",
    "if len(gyvenviete_lst) == 3:\n",
    "    miestas = gyvenviete_lst[0].strip()\n",
    "    duomenys['miestas'] = miestas\n",
    "    print(miestas)\n",
    "    gatve = gyvenviete_lst[1].strip()\n",
    "    duomenys['gatve'] = gatve\n",
    "\n",
    "    \n",
    "kaina = int(bs_buto.find('span', {'class':'price-eur'}).text.strip().replace('€', '').replace(' ', ''))\n",
    "duomenys['kaina'] = kaina\n",
    "print(kaina)\n",
    "\n",
    "kv_kaina_txt = bs_buto.find('span', {'class':'price-per'}).text.strip()\n",
    "# print(kv_kaina_txt)\n",
    "kv_kaina = int(kv_kaina_txt.split('€')[0].replace(' ', '').replace('(', ''))\n",
    "duomenys['kv_kaina'] = kv_kaina\n",
    "print(kv_kaina)\n",
    "\n",
    "\n",
    "info_keys = []\n",
    "info_values = []\n",
    "info_k = bs_buto.find('dl', {'class':'obj-details'}).find_all('dt')\n",
    "for i in info_k:\n",
    "    # print(i.text.strip())\n",
    "    info_keys.append(i.text.strip())\n",
    "    a = i.text.strip()\n",
    "    # if a not in duomenys.keys():\n",
    "    #     print(a)\n",
    "print(info_keys)\n",
    "print(len(info_keys))\n",
    "\n",
    "# info_v = bs_buto.find('dl', {'class':'obj-details'}).find_all('span',{'class':'fieldValueContainer'})\n",
    "info_v = bs_buto.find('dl', {'class':'obj-details'}).find_all('dd')\n",
    "for i in info_v:\n",
    "    # print(i.text.strip())\n",
    "    info_values.append(i.text.strip())\n",
    "print(info_values)\n",
    "print(len(info_values))\n",
    "\n",
    "for k, v in zip(info_keys, info_values):\n",
    "    duomenys[k] = v\n",
    "\n",
    "print(duomenys)\n",
    "col_i_need = list(duomenys.keys())\n",
    "print(col_i_need)\n",
    "\n",
    "data = tuple(duomenys.values())\n",
    "data1 = []\n",
    "data1.append(data)\n",
    "\n",
    "# SDB = sqlite3.connect('Aruodas_test.db')  # jei neegzistuoja db , bus sukurta nauja db\n",
    "# Cs = SDB.cursor()\n",
    "\n",
    "# #  if not exists - tikrina ar jau sukurta DB\n",
    "# sql = '''create table if not exists Aruodas\n",
    "# (\n",
    "# miestas text not null,\n",
    "# rajonas text not null,\n",
    "# gatve text not null,\n",
    "# kaina numeric not null,\n",
    "# kvadatoKaina numeric not null,\n",
    "# plotas text not null,\n",
    "# kambariai text not null,\n",
    "# metai text not null,\n",
    "# aukstas text not null,\n",
    "# aukstuSk text not null,\n",
    "# namoNr text not null,\n",
    "# butoNr text not null,\n",
    "# pastatoTipas text not null,\n",
    "# sildymas text not null,\n",
    "# irengimas text not null,\n",
    "# energetineKlase text not null,\n",
    "# ypatybes text not null,\n",
    "# papildomosPatalpos text not null,\n",
    "# papildomaIranga text not null,\n",
    "# apsauga text not null,\n",
    "# unikalusNr text not null,\n",
    "# nuoroda text not null\n",
    "# )\n",
    "# '''\n",
    "# Cs.execute(sql)\n",
    "\n",
    "# sql_template = '''insert into Aruodas values (?,?,?,?,?,?,?,?,?,?,?,?,?,?,?,?,?,?,?,?,?)'''\n",
    "# Cs.executemany(sql_template, data1)\n",
    "\n",
    "# SDB.commit() # commit() butinas jei norim irasyti duomenis i DB\n",
    "\n",
    "# SDB.close()\n",
    "# print('data written to DB')     \n",
    "    \n",
    "    \n",
    "    \n",
    "# driver.close()\n",
    "print('Baigta!!!')\n",
    "\n",
    "# .text\n",
    "# .contents\n",
    "# .content"
   ]
  },
  {
   "cell_type": "code",
   "execution_count": 32,
   "metadata": {},
   "outputs": [
    {
     "name": "stdout",
     "output_type": "stream",
     "text": [
      "['miestas', 'rajonas', 'gatve', 'kaina', 'kvadatoKaina', 'plotas', 'kambariai', 'metai', 'aukstas', 'aukstuSk', 'namoNr', 'butoNr', 'pastatoTipas', 'sildymas', 'irengimas', 'energetineKlase', 'ypatybes', 'papildomosPatalpos', 'papildomaIranga', 'apsauga', 'unikalusNr', 'nuoroda']\n"
     ]
    }
   ],
   "source": [
    "def getColNamesList(table, dbname):\n",
    "    db = sqlite3.connect(dbname)\n",
    "    c = db.cursor()\n",
    "    sql = '''select * from {table} limit 0'''.format(table=table)\n",
    "    s = c.execute(sql)\n",
    "    # r = s.description\n",
    "    column_names = [description[0] for description in c.description]\n",
    "    return column_names\n",
    "\n",
    "col_i_have = getColNamesList(table='Aruodas', dbname='Aruodas_test.db')\n",
    "print(col_i_have)"
   ]
  },
  {
   "cell_type": "code",
   "execution_count": null,
   "metadata": {},
   "outputs": [],
   "source": [
    "def alterTableAddColumn(cols_i_want_to_have, cols_i_have, table, base):\n",
    "    db = sqlite3.connect(base)\n",
    "    c = db.cursor()\n",
    "    sql = '''alter table {tname}\n",
    "    add column `{n}`\n",
    "    '''\n",
    "    for cl in cols_i_want_to_have:\n",
    "        if cl not in cols_i_have:\n",
    "            c.execute(sql.format(tname=table, n=cl))\n",
    "            time.sleep(1)\n",
    "            db.commit()\n",
    "            time.sleep(3)\n",
    "    c.close()\n",
    "    db.close()\n",
    "    return True"
   ]
  },
  {
   "cell_type": "code",
   "execution_count": 38,
   "metadata": {},
   "outputs": [
    {
     "name": "stdout",
     "output_type": "stream",
     "text": [
      "['miestas', 'rajonas', 'gatve', 'kaina', 'kvadatoKaina']\n",
      "['miestas', 'rajonas', 'gatve', 'kaina', 'kv_kaina', 'nuoroda', 'Namo numeris:', 'Buto numeris:', 'Unikalus daikto numeris (RC numeris):', 'Plotas:', 'Kambarių sk.:', 'Aukštas:', 'Aukštų sk.:', 'Metai:', 'Pastato tipas:', 'Šildymas:', 'Įrengimas:', 'Pastato energijos suvartojimo klasė:', 'Ypatybės:', 'Papildomos patalpos:', 'Papildoma įranga:', 'Apsauga:']\n",
      "['miestas', 'rajonas', 'gatve', 'kaina', 'kvadatoKaina', 'kv_kaina', 'nuoroda', 'Namo numeris:', 'Buto numeris:', 'Unikalus daikto numeris (RC numeris):', 'Plotas:', 'Kambarių sk.:', 'Aukštas:', 'Aukštų sk.:', 'Metai:', 'Pastato tipas:', 'Šildymas:', 'Įrengimas:', 'Pastato energijos suvartojimo klasė:', 'Ypatybės:', 'Papildomos patalpos:', 'Papildoma įranga:', 'Apsauga:']\n"
     ]
    }
   ],
   "source": [
    "# Bandymas papildyti lentele\n",
    "def createMainTable(dbname:str) -> bool:\n",
    "    sql = '''\n",
    "    drop table if exists Aruodas\n",
    "    '''\n",
    "    db = sqlite3.connect(dbname)\n",
    "    c = db.cursor()\n",
    "    c.execute(sql)\n",
    "    sql = '''create table if not exists Aruodas\n",
    "    (\n",
    "        miestas text not null,\n",
    "        rajonas text not null,\n",
    "        gatve text not null,\n",
    "        kaina numeric not null,\n",
    "        kvadatoKaina numeric not null\n",
    "    )\n",
    "    '''\n",
    "    c.execute(sql)\n",
    "    c.close()\n",
    "    db.close()\n",
    "    return True\n",
    "    pass\n",
    "\n",
    "def getColNamesList(table, dbname):\n",
    "    db = sqlite3.connect(dbname)\n",
    "    c = db.cursor()\n",
    "    sql = '''select * from {table} limit 0'''.format(table=table)\n",
    "    s = c.execute(sql)\n",
    "    # r = s.description\n",
    "    column_names = [description[0] for description in c.description]\n",
    "    return column_names\n",
    "\n",
    "def alterTableAddColumn(cols_i_want_to_have, cols_i_have, table, base):\n",
    "    db = sqlite3.connect(base)\n",
    "    c = db.cursor()\n",
    "    sql = '''alter table {tname}\n",
    "    add column `{n}`\n",
    "    '''\n",
    "    for cl in cols_i_want_to_have:\n",
    "        if cl not in cols_i_have:\n",
    "            c.execute(sql.format(tname=table, n=cl))\n",
    "            time.sleep(1)\n",
    "            db.commit()\n",
    "            time.sleep(3)\n",
    "    c.close()\n",
    "    db.close()\n",
    "    return True\n",
    "\n",
    "createMainTable('aruod.db')\n",
    "col_i_have = getColNamesList(table='Aruodas', dbname='aruod.db')\n",
    "print(col_i_have)\n",
    "print(col_i_need)\n",
    "alterTableAddColumn(col_i_need, col_i_have, 'Aruodas', 'aruod.db')\n",
    "print(getColNamesList('Aruodas', 'aruod.db'))"
   ]
  },
  {
   "cell_type": "code",
   "execution_count": null,
   "metadata": {},
   "outputs": [],
   "source": [
    "# dėl laiko apribojimo\n",
    "\n",
    "# t = now()\n",
    "# now() - t\n",
    "# DeltaTimeStamp\n",
    "# Timedelta\n",
    "# .total_seconds\n",
    "\n",
    "# https://www.geeksforgeeks.org/python-difference-between-two-dates-in-minutes-using-datetime-timedelta-method/"
   ]
  },
  {
   "cell_type": "code",
   "execution_count": 5,
   "metadata": {},
   "outputs": [],
   "source": [
    "driver = webdriver.Chrome(options=opcijos)\n",
    "url = 'https://www.aruodas.lt/butai/puslapis/1/?FOwnerDbId0=1&FOwnerDbId2=1'\n",
    "driver.get(url)\n",
    "time.sleep(5)\n",
    "source = driver.page_source\n",
    "driver.close()"
   ]
  },
  {
   "cell_type": "code",
   "execution_count": 6,
   "metadata": {},
   "outputs": [
    {
     "name": "stdout",
     "output_type": "stream",
     "text": [
      "['Vilnius', 'Kaunas', 'Klaipėda', 'Šiauliai', 'Panevėžys', 'Alytus', 'Palanga', 'Akmenės r.', 'Alytaus r.', 'Anykščių r.', 'Birštono sav.', 'Biržų r.', 'Druskininkų sav.', 'Elektrėnų sav.', 'Ignalinos r.', 'Jonavos r.', 'Joniškio r.', 'Jurbarko r.', 'Kaišiadorių r.', 'Kalvarijos sav.', 'Kauno r.', 'Kazlų Rūdos sav.', 'Kėdainių r.', 'Kelmės r.', 'Klaipėdos r.', 'Kretingos r.', 'Kupiškio r.', 'Lazdijų r.', 'Marijampolės sav.', 'Mažeikių r.', 'Molėtų r.', 'Neringos sav.', 'Pagėgių sav.', 'Pakruojo r.', 'Panevėžio r.', 'Pasvalio r.', 'Plungės r.', 'Prienų r.', 'Radviliškio r.', 'Raseinių r.', 'Rietavo sav.', 'Rokiškio r.', 'Skuodo r.', 'Šakių r.', 'Šalčininkų r.', 'Šiaulių r.', 'Šilalės r.', 'Šilutės r.', 'Širvintų r.', 'Švenčionių r.', 'Tauragės r.', 'Telšių r.', 'Trakų r.', 'Ukmergės r.', 'Utenos r.', 'Varėnos r.', 'Vilkaviškio r.', 'Vilniaus r.', 'Visagino sav.', 'Zarasų r.']\n",
      "60\n",
      "['vilniuje', 'kaune', 'klaipedoje', 'siauliuose', 'panevezyje', 'alytuje', 'palangoje', 'akmeneje', 'alytaus-rajone', 'anysciuose', 'birstone', 'birzuose', 'druskininkuose', 'elektrenuose', 'ignalinoje', 'jonavoje', 'joniskyje', 'jurbarke', 'kaisiadoryse', 'kalvarijoje', 'kauno-rajone', 'kazlu-rudoje', 'kedainiuose', 'kelmeje', 'klaipedos-rajone', 'kretingoje', 'kupiskyje', 'lazdijuose', 'marijampoleje', 'mazeikiuose', 'moletuose', 'neringoje', 'pagegiuose', 'pakruojyje', 'panevezio-rajone', 'pasvalyje', 'plungeje', 'prienuose', 'radvilisyje', 'raseiniuose', 'rietave', 'rokiskyje', 'skuode', 'sakiuose', 'salcininkuose', 'siauliu-rajone', 'silaleje', 'siluteje', 'sirvintuose', 'svencionyse', 'taurageje', 'telsiuose', 'trakuose', 'ukmergeje', 'utenoje', 'varenoje', 'vilkaviskyje', 'vilniaus-rajone', 'visagine', 'zarasuose']\n",
      "60\n"
     ]
    }
   ],
   "source": [
    "bs = BeautifulSoup(source, 'html.parser')\n",
    "\n",
    "cities = []\n",
    "\n",
    "miestai = bs.find('div', {'id':'searchFormField_FRegion'}).find_all('label', {'class':'dropDownLabel'})\n",
    "for miestas in miestai:\n",
    "    i  = miestas.text.strip()\n",
    "    if i != '':\n",
    "        # print(i)\n",
    "        cities.append(i)\n",
    "        \n",
    "print(cities)\n",
    "print(len(cities))\n",
    "\n",
    "cities_for_link = ['vilniuje', 'kaune', 'klaipedoje', 'siauliuose', 'panevezyje', 'alytuje', 'palangoje',\n",
    "                   'akmeneje', 'alytaus-rajone', 'anysciuose', 'birstone', 'birzuose', 'druskininkuose',\n",
    "                   'elektrenuose', 'ignalinoje', 'jonavoje', 'joniskyje', 'jurbarke', 'kaisiadoryse',\n",
    "                   'kalvarijoje', 'kauno-rajone', 'kazlu-rudoje', 'kedainiuose', 'kelmeje', 'klaipedos-rajone',\n",
    "                   'kretingoje', 'kupiskyje', 'lazdijuose', 'marijampoleje', 'mazeikiuose', 'moletuose',\n",
    "                   'neringoje', 'pagegiuose', 'pakruojyje', 'panevezio-rajone', 'pasvalyje', 'plungeje',\n",
    "                   'prienuose', 'radvilisyje', 'raseiniuose', 'rietave', 'rokiskyje', 'skuode', 'sakiuose',\n",
    "                   'salcininkuose', 'siauliu-rajone', 'silaleje', 'siluteje', 'sirvintuose', 'svencionyse',\n",
    "                   'taurageje', 'telsiuose', 'trakuose', 'ukmergeje', 'utenoje', 'varenoje', 'vilkaviskyje',\n",
    "                   'vilniaus-rajone', 'visagine', 'zarasuose']\n",
    "\n",
    "print(cities_for_link)\n",
    "print(len(cities_for_link))\n",
    "    "
   ]
  },
  {
   "cell_type": "code",
   "execution_count": 7,
   "metadata": {},
   "outputs": [
    {
     "name": "stdout",
     "output_type": "stream",
     "text": [
      "0 Vilnius\n",
      "1 Kaunas\n",
      "2 Klaipėda\n",
      "3 Šiauliai\n",
      "4 Panevėžys\n",
      "5 Alytus\n",
      "6 Palanga\n",
      "7 Akmenės r.\n",
      "8 Alytaus r.\n",
      "9 Anykščių r.\n",
      "10 Birštono sav.\n",
      "11 Biržų r.\n",
      "12 Druskininkų sav.\n",
      "13 Elektrėnų sav.\n",
      "14 Ignalinos r.\n",
      "15 Jonavos r.\n",
      "16 Joniškio r.\n",
      "17 Jurbarko r.\n",
      "18 Kaišiadorių r.\n",
      "19 Kalvarijos sav.\n",
      "20 Kauno r.\n",
      "21 Kazlų Rūdos sav.\n",
      "22 Kėdainių r.\n",
      "23 Kelmės r.\n",
      "24 Klaipėdos r.\n",
      "25 Kretingos r.\n",
      "26 Kupiškio r.\n",
      "27 Lazdijų r.\n",
      "28 Marijampolės sav.\n",
      "29 Mažeikių r.\n",
      "30 Molėtų r.\n",
      "31 Neringos sav.\n",
      "32 Pagėgių sav.\n",
      "33 Pakruojo r.\n",
      "34 Panevėžio r.\n",
      "35 Pasvalio r.\n",
      "36 Plungės r.\n",
      "37 Prienų r.\n",
      "38 Radviliškio r.\n",
      "39 Raseinių r.\n",
      "40 Rietavo sav.\n",
      "41 Rokiškio r.\n",
      "42 Skuodo r.\n",
      "43 Šakių r.\n",
      "44 Šalčininkų r.\n",
      "45 Šiaulių r.\n",
      "46 Šilalės r.\n",
      "47 Šilutės r.\n",
      "48 Širvintų r.\n",
      "49 Švenčionių r.\n",
      "50 Tauragės r.\n",
      "51 Telšių r.\n",
      "52 Trakų r.\n",
      "53 Ukmergės r.\n",
      "54 Utenos r.\n",
      "55 Varėnos r.\n",
      "56 Vilkaviškio r.\n",
      "57 Vilniaus r.\n",
      "58 Visagino sav.\n",
      "59 Zarasų r.\n"
     ]
    }
   ],
   "source": [
    "for idx, city in enumerate(cities):\n",
    "    print(idx, city)"
   ]
  },
  {
   "cell_type": "code",
   "execution_count": 8,
   "metadata": {},
   "outputs": [
    {
     "name": "stdout",
     "output_type": "stream",
     "text": [
      "['kaune', 'klaipedoje', 'alytuje']\n"
     ]
    }
   ],
   "source": [
    "pasirink = input('Įvesk mieto numerius, atskirtus kableliais, iš kurių nori gauti skelbimus: ')\n",
    "pasirink_pvz = '8,23,35' # Alytus, Kelme, Pasvalys\n",
    "pas = [int(i) for i in pasirink.split(',')]\n",
    "pasirinktas_miestas_link = []\n",
    "for i in pas:\n",
    "    pasirinktas_miestas_link.append(cities_for_link[i])\n",
    "print(pasirinktas_miestas_link)\n",
    "\n",
    "pasirinktas_miestas = []"
   ]
  },
  {
   "cell_type": "code",
   "execution_count": null,
   "metadata": {},
   "outputs": [],
   "source": [
    "url = f'https://www.aruodas.lt/butai/{pasirinktas_miestas}/puslapis/2/?FOwnerDbId0=1&FOwnerDbId2=1'"
   ]
  }
 ],
 "metadata": {
  "kernelspec": {
   "display_name": "Python 3",
   "language": "python",
   "name": "python3"
  },
  "language_info": {
   "codemirror_mode": {
    "name": "ipython",
    "version": 3
   },
   "file_extension": ".py",
   "mimetype": "text/x-python",
   "name": "python",
   "nbconvert_exporter": "python",
   "pygments_lexer": "ipython3",
   "version": "3.12.4"
  }
 },
 "nbformat": 4,
 "nbformat_minor": 2
}
