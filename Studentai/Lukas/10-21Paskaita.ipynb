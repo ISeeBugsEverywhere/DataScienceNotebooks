{
 "cells": [
  {
   "cell_type": "code",
   "execution_count": 4,
   "metadata": {},
   "outputs": [],
   "source": [
    "import selenium\n",
    "from selenium.webdriver.chrome.options import Options\n",
    "# from selenium.webdriver.firefox.options import Options as FirefoxOptions\n",
    "from selenium import webdriver\n",
    "from bs4 import BeautifulSoup\n",
    "import sqlite3\n",
    "import mysql.connector as cnt\n",
    "import time\n"
   ]
  },
  {
   "cell_type": "code",
   "execution_count": 23,
   "metadata": {},
   "outputs": [],
   "source": [
    "opcijos = Options()\n",
    "opcijos.add_argument('--incognito')\n",
    "opcijos.add_argument('--ignore-certificate-errors')\n",
    "opcijos.add_argument('--ignore-ssl-errors')\n",
    "driver = webdriver.Chrome(options=opcijos)\n",
    "url = 'https://www.aruodas.lt/butai/puslapis/1/?FOwnerDbId0=1&FOwnerDbId2=1'\n",
    "driver.get(url)\n",
    "time.sleep(5)\n",
    "source = driver.page_source\n",
    "driver.close()"
   ]
  },
  {
   "cell_type": "code",
   "execution_count": 24,
   "metadata": {},
   "outputs": [
    {
     "name": "stdout",
     "output_type": "stream",
     "text": [
      "https://www.aruodas.lt/butai-vilniuje-pasilaiciuose-perkunkiemio-g-brokeriu-paslaugos-nedomina-1-3411527/\n",
      "https://www.aruodas.lt/butai-palangoje-palangoje-medvalakio-g-parduodamas-dvieju-kambariu-butas-naujame-1-3481853/\n",
      "https://www.aruodas.lt/butai-palangoje-palangoje-medvalakio-g-parduodamas-butas-naujame-kvartale-su-sildomu-1-3485145/\n",
      "https://www.aruodas.lt/butai-kaune-silainiuose-v-kavolio-g-butai-tiesiogiai-is-statytojo-silainiuose-1-3480325/\n",
      "https://www.aruodas.lt/butai-kaune-sanciuose-a-juozapaviciaus-pr-butas-yra-isskirtiniame-wwwjuozapaviciaus-1-3342907/\n",
      "https://www.aruodas.lt/butai-palangoje-vanagupes-g-parduodami-naujai-iruosti-apartamentai-1-3486565/\n",
      "https://www.aruodas.lt/butai-kaune-vilijampoleje-raudondvario-pl-palankiomis-salygomis-suteikiame-kredita-1-3414581/\n",
      "https://www.aruodas.lt/butai-vilniuje-rasose-stepono-batoro-g-kvieciu-apziureti-buta-atviru-duru-metu-1-3398417/\n",
      "https://www.aruodas.lt/butai-vilniuje-karoliniskese-laisves-pr-parduodamas-siltas-sviesus-erdvus-1-3484945/\n",
      "https://www.aruodas.lt/butai-vilniuje-fabijoniskese-fabijoniskiu-g-be-tarpininku-parduodamas-kambariu-butas-1-3486575/\n",
      "https://www.aruodas.lt/butai-vilniuje-snipiskese-krokuvos-g-moderniai-ir-kokybiskai-irengtas-kambariu-1-3484415/\n",
      "https://www.aruodas.lt/butai-klaipedoje-smiltyneje-smiltynes-g-rekonstruotame-istoriniame-smiltynes-kurhauzo-1-3466234/\n",
      "https://www.aruodas.lt/butai-vilniuje-vilkpedeje-vilkpedes-g-parduodamas-erdvus-ir-pilnai-irengtas-1-3482685/\n",
      "https://www.aruodas.lt/butai-vilniuje-virsuliskese-virsuliskiu-g-parduodamas-sviesus-triju-kambariu-butas-su-1-3486933/\n",
      "https://www.aruodas.lt/butai-vilniuje-antakalnyje-vytauto-zalakeviciaus-g-parduodamas-sviesus-ir-pilnai-irengtas-ju-1-3484741/\n",
      "https://www.aruodas.lt/butai-vilniuje-antakalnyje-vytauto-zalakeviciaus-g-parduodamas-sviesus-ir-pilnai-irengtas-ju-1-3484743/\n",
      "https://www.aruodas.lt/butai-vilniuje-bajoruose-mykolo-lietuvio-g-parduodamas-pilnai-ir-kokybiskai-irengtas-1-3485675/\n",
      "https://www.aruodas.lt/butai-vilniuje-senamiestyje-pakalnes-g-parduodamas-sviesus-ir-erdvus-ju-kambariu-1-3463762/\n",
      "https://www.aruodas.lt/butai-vilniuje-jeruzaleje-rugiu-g-parduodamas-itin-erdvus-ir-modernus-1-3475597/\n",
      "https://www.aruodas.lt/butai-vilniuje-zirmunuose-kareiviu-g-parduodamas-panoraminis-triju-kambariu-butas-1-3484213/\n",
      "https://www.aruodas.lt/butai-vilniuje-markuciuose-manufakturu-g-parduodamas-naujai-irengtas-kvm-1-3467612/\n",
      "https://www.aruodas.lt/butai-kaune-zaliakalnyje-vaizganto-g-greta-namu-esantys-vytauto-ir-azuolyno-parkai-1-3486875/\n",
      "https://www.aruodas.lt/butai-vilniuje-pilaiteje-i-simonaitytes-g-parduodamas-pilnai-irengtas-ir-tvarkingas-1-3482875/\n",
      "https://www.aruodas.lt/butai-klaipedoje-senamiestyje-ligonines-g-bendra-informacija-ligonines-g-klaipeda-1-3482475/\n",
      "https://www.aruodas.lt/butai-kaune-dainavoje-taikos-pr-pabaigtame-triju-daugiabuciu-projekte-life-1-3470643/\n",
      "25\n"
     ]
    }
   ],
   "source": [
    "bs = BeautifulSoup(source, 'html.parser')\n",
    "\n",
    "butai_nuorodos = []\n",
    "\n",
    "linkai = bs.find_all('h3')\n",
    "for linkas in linkai:\n",
    "    # print('::REM::')\n",
    "    l = linkas.find('a')\n",
    "    if l != None:\n",
    "        # print('error')\n",
    "        # print(l['href'])\n",
    "        butai_nuorodos.append(l)\n",
    "        \n",
    "print(len(butai_nuorodos))\n",
    "  "
   ]
  },
  {
   "cell_type": "code",
   "execution_count": 28,
   "metadata": {},
   "outputs": [
    {
     "name": "stdout",
     "output_type": "stream",
     "text": [
      "https://www.aruodas.lt//butai/puslapis/2/?FOwnerDbId0=1&FOwnerDbId2=1\n"
     ]
    }
   ],
   "source": [
    "kitas = bs.find('div', {'class':'pagination'}).find_all('a', {'class':'page-bt'})\n",
    "for k in kitas:\n",
    "    # print(k.text.strip())\n",
    "    if k.text.strip() == '»':\n",
    "        kitas_psl = k['href']\n",
    "        # print(kitas_psl)\n",
    "next_nuoroda = f'https://www.aruodas.lt/{kitas_psl}'\n",
    "\n",
    "print(next_nuoroda)"
   ]
  },
  {
   "cell_type": "code",
   "execution_count": null,
   "metadata": {},
   "outputs": [],
   "source": [
    "driver = webdriver.Chrome(options=opcijos)\n",
    "for nuoroda in butai_nuorodos:\n",
    "    print(nuoroda)\n",
    "    \n",
    "    url = nuoroda\n",
    "    driver.get(url)\n",
    "    time.sleep(1)\n",
    "    source = driver.page_source\n",
    "    \n",
    "    bs_buto = BeautifulSoup(source, 'html.parser')\n",
    "    \n",
    "    \n",
    "    \n",
    "    \n",
    "driver.close()"
   ]
  }
 ],
 "metadata": {
  "kernelspec": {
   "display_name": "Python 3",
   "language": "python",
   "name": "python3"
  },
  "language_info": {
   "codemirror_mode": {
    "name": "ipython",
    "version": 3
   },
   "file_extension": ".py",
   "mimetype": "text/x-python",
   "name": "python",
   "nbconvert_exporter": "python",
   "pygments_lexer": "ipython3",
   "version": "3.12.4"
  }
 },
 "nbformat": 4,
 "nbformat_minor": 2
}
