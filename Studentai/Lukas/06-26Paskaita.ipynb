{
 "cells": [
  {
   "cell_type": "code",
   "execution_count": 5,
   "metadata": {},
   "outputs": [
    {
     "name": "stdout",
     "output_type": "stream",
     "text": [
      "91237.0\n"
     ]
    }
   ],
   "source": [
    "# Paskaičiuoti pelną pardavus visas prekes. Informacija apie kainą\n",
    "# ir kiekius yra pateikiama kaip žodynai (dictionary):\n",
    "d1 = {\"cost_price\": 32.67,\n",
    "\"sell_price\": 45.00,\n",
    "\"inventory\": 1200}\n",
    "d2 = {\"cost_price\": 225.89,\n",
    "\"sell_price\": 550.00,\n",
    "\"inventory\": 100}\n",
    "d3 = {\"cost_price\": 2.77,\n",
    "\"sell_price\": 7.95,\n",
    "\"inventory\": 8500}\n",
    "\n",
    "s1 = (d1[\"sell_price\"] - d1[\"cost_price\"]) * d1[\"inventory\"]\n",
    "s2 = (d2[\"sell_price\"] - d2[\"cost_price\"]) * d2[\"inventory\"]\n",
    "s3 = (d3[\"sell_price\"] - d3[\"cost_price\"]) * d3[\"inventory\"]\n",
    "suma = s1 + s2 + s3\n",
    "print(suma)"
   ]
  },
  {
   "cell_type": "code",
   "execution_count": 6,
   "metadata": {},
   "outputs": [
    {
     "name": "stdout",
     "output_type": "stream",
     "text": [
      "0 A\n",
      "1 š\n",
      "2  \n",
      "3 r\n",
      "4 y\n",
      "5 t\n",
      "6 a\n",
      "7 i\n",
      "8 s\n",
      "9  \n",
      "10 m\n",
      "11 ė\n",
      "12 g\n",
      "13 s\n",
      "14 t\n",
      "15 u\n",
      "16  \n",
      "17 k\n",
      "18 a\n",
      "19 v\n",
      "20 ą\n",
      "21  \n",
      "22 s\n",
      "23 u\n",
      "24  \n",
      "25 s\n",
      "26 u\n",
      "27 m\n",
      "28 u\n",
      "29 š\n",
      "30 t\n",
      "31 i\n",
      "32 n\n",
      "33 i\n",
      "34 a\n",
      "35 i\n",
      "36 s\n",
      "37  \n",
      "38 i\n",
      "39 r\n",
      "40  \n",
      "41 a\n",
      "42 r\n",
      "43 b\n",
      "44 a\n",
      "45 t\n",
      "46 ą\n"
     ]
    }
   ],
   "source": [
    "t = \"Aš rytais mėgstu kavą su sumuštiniais ir arbatą\"\n",
    "# • Išveskite po vieną simbolį iš teksto. Šalia nurodykite ir\n",
    "# simbolio poziciją (indeksą) tekste.\n",
    "for idx, letter in enumerate(t):\n",
    "    print(idx, letter)\n",
    "\n",
    "\n"
   ]
  },
  {
   "cell_type": "code",
   "execution_count": 9,
   "metadata": {},
   "outputs": [
    {
     "name": "stdout",
     "output_type": "stream",
     "text": [
      "A\n",
      "š\n",
      " \n",
      "r\n",
      "Y\n",
      "t\n",
      "A\n",
      "i\n",
      "S\n",
      " \n",
      "M\n",
      "ė\n",
      "G\n",
      "s\n",
      "T\n",
      "u\n",
      " \n",
      "k\n",
      "A\n",
      "v\n",
      "Ą\n",
      " \n",
      "S\n",
      "u\n",
      " \n",
      "s\n",
      "U\n",
      "m\n",
      "U\n",
      "š\n",
      "T\n",
      "i\n",
      "N\n",
      "i\n",
      "A\n",
      "i\n",
      "S\n",
      " \n",
      "I\n",
      "r\n",
      " \n",
      "a\n",
      "R\n",
      "b\n",
      "A\n",
      "t\n",
      "Ą\n"
     ]
    }
   ],
   "source": [
    "# • Išvesdami simbolį, spausdinkite jį viršutiniame registre, jei jis\n",
    "# yra lyginėje pozicijoje. Kitu atveju - žemutiniame registre.\n",
    "for  idx, letter in enumerate(t):\n",
    "    if idx % 2 == 0:\n",
    "        print(letter.upper())\n",
    "    else:\n",
    "        print(letter.lower())"
   ]
  },
  {
   "cell_type": "code",
   "execution_count": 10,
   "metadata": {},
   "outputs": [
    {
     "name": "stdout",
     "output_type": "stream",
     "text": [
      "Aš\n",
      "rytais\n",
      "mėgstu\n",
      "kavą\n",
      "su\n",
      "sumuštiniais\n",
      "ir\n",
      "arbatą\n"
     ]
    }
   ],
   "source": [
    "# • Išveskite po vieną žodį.\n",
    "t1 = t.split()\n",
    "for word in t1:\n",
    "    print(word)"
   ]
  },
  {
   "cell_type": "code",
   "execution_count": 12,
   "metadata": {},
   "outputs": [
    {
     "name": "stdout",
     "output_type": "stream",
     "text": [
      "@@@\n",
      "@@@\n",
      "@@@\n"
     ]
    }
   ],
   "source": [
    "# • Paprašykite vartotojo įvesti simbolį bei skaičių. Išveskite\n",
    "# kvadratą, sudarytą iš įvesto simbolio ir kurio kraštinė būtų\n",
    "# lygi įvestam skaičiui. Pvz.: įvesta '@' ir 5. Rezultatas:\n",
    "# @@@@@\n",
    "# @@@@@\n",
    "# @@@@@\n",
    "# @@@@@\n",
    "# @@@@@\n",
    "simbolis = input('simbolis')\n",
    "skaicius = int(input('skaicius'))\n",
    "\n",
    "for i in range(skaicius):\n",
    "    print(simbolis * skaicius)"
   ]
  },
  {
   "cell_type": "code",
   "execution_count": 16,
   "metadata": {},
   "outputs": [
    {
     "name": "stdout",
     "output_type": "stream",
     "text": [
      "*\n",
      "**\n",
      "***\n",
      "****\n",
      "*****\n"
     ]
    }
   ],
   "source": [
    "# Išspausdinkite ”pusinę” eglutę iš simbolio '*':\n",
    "# Eglutės ilgį (eilučių kiekį) turi įvesti vartotojas. Eglutei naudojamą\n",
    "# simbolį tegul įveda irgi vartotojas.\n",
    "\n",
    "kiekis = int(input('kiekis'))\n",
    "\n",
    "for i in range(kiekis):\n",
    "    print('*' * (i + 1))"
   ]
  },
  {
   "cell_type": "code",
   "execution_count": 14,
   "metadata": {},
   "outputs": [
    {
     "name": "stdout",
     "output_type": "stream",
     "text": [
      "Vilnius\n",
      "Rokiškis\n",
      "Mažeikiai\n"
     ]
    }
   ],
   "source": [
    "# Duotas sąrašas:\n",
    "miestai = ['Vilnius', 'Kaunas', 'Alytus', 'Rokiškis',\n",
    "'Ūla', 'Mažeikiai', 'Akmena']\n",
    "# Spausdinkite tik tuos miestus, kurių pavadinimai ilgesni nei 6\n",
    "# simboliai.\n",
    "for miestas in miestai:\n",
    "    if len(miestas) > 6:\n",
    "        print(miestas)"
   ]
  },
  {
   "cell_type": "code",
   "execution_count": 19,
   "metadata": {},
   "outputs": [
    {
     "name": "stdout",
     "output_type": "stream",
     "text": [
      "[1, 6, 15, 28, 45, 66, 91, 120, 153, 190]\n",
      "[1.0, 0.6666666666666666, 0.6, 0.5714285714285714, 0.5555555555555556, 0.5454545454545454, 0.5384615384615384, 0.5333333333333333, 0.5294117647058824, 0.5263157894736842]\n",
      "[1, 4, 9, 16, 25, 36, 49, 64, 81, 100]\n"
     ]
    }
   ],
   "source": [
    "a = [1,2,3,4,5,6,7,8,9,10]\n",
    "b =[1,3,5,7,9,11,13,15,17,19]\n",
    "\n",
    "c = []\n",
    "c1 = []\n",
    "for a1, b1 in zip(a, b):\n",
    "    c.append(a1 * b1)\n",
    "    c1.append(a1 / b1)\n",
    "print(c)\n",
    "print(c1)\n",
    "\n",
    "e = []\n",
    "for a1 in a:\n",
    "    e.append(a1 ** 2)\n",
    "print(e)\n",
    "\n",
    "\n",
    "\n"
   ]
  },
  {
   "cell_type": "code",
   "execution_count": 26,
   "metadata": {},
   "outputs": [
    {
     "name": "stdout",
     "output_type": "stream",
     "text": [
      "[3, 6, 9, 12, 15, 18, 21, 24, 27, 30]\n",
      "[6, 3, 12, 21, 33, 39, 45, 51, 57, 63]\n",
      "[2, 2, 12, 28, 55, 78, 105, 136, 171, 210]\n",
      "[0.5, 2.0, 0.75, 0.5714285714285714, 0.45454545454545453, 0.46153846153846156, 0.4666666666666667, 0.47058823529411764, 0.47368421052631576, 0.47619047619047616]\n"
     ]
    }
   ],
   "source": [
    "# 1.0.13 Parašyti kodą, kuris sudaugintų standartinius Python’o sąrašus\n",
    "# Sąrašai:\n",
    "x = [1,2,3,4,5,6,7,8,9,10]\n",
    "y = [2,1,4,7,11,13,15,17,19,21]\n",
    "\n",
    "x_sk = []\n",
    "y_sk = []\n",
    "    \n",
    "sk = 3\n",
    "\n",
    "for i in x:\n",
    "    x_sk.append(i * sk)\n",
    "\n",
    "for i in y:\n",
    "    y_sk.append(i * sk)\n",
    "    \n",
    "    \n",
    "print(x_sk)\n",
    "print(y_sk)\n",
    "\n",
    "b = []\n",
    "c = []\n",
    "for x1, y1 in zip(x, y):\n",
    "    b.append(x1 * y1)\n",
    "    c.append(x1 / y1)\n",
    "print(b)\n",
    "print(c)"
   ]
  },
  {
   "cell_type": "code",
   "execution_count": 50,
   "metadata": {},
   "outputs": [
    {
     "name": "stdout",
     "output_type": "stream",
     "text": [
      "lyginiu: 6\n",
      "[2, 4, 8, 22, 40, 42]\n",
      "nelyginiu: 9\n",
      "[1, 3, 5, 7, 9, 11, 17, 19, 21]\n",
      "19.666666666666668 10.333333333333334\n",
      "11.542998948276226\n"
     ]
    }
   ],
   "source": [
    "# 1.0.14 Parašyti programą, kuri suskaičiuotų, kiek yra lyginių ir nelyginių skaičių\n",
    "# sąraše.\n",
    "# Taip pat suskaičiuotų lyginių ir nelyginių skaičių aritmetinį ir geometrinį vidurkius.\n",
    "x = [1,2,3,4,5,7,8,9,11,17,19,21,22,40,42]\n",
    "lyginiai = 0\n",
    "nelyginiai = 0\n",
    "lyg = []\n",
    "nelyg = []\n",
    "\n",
    "for i in x:\n",
    "    if i %2 == 0:\n",
    "        lyginiai += 1\n",
    "        lyg.append(i)\n",
    "    else:\n",
    "        nelyginiai += 1\n",
    "        nelyg.append(i)\n",
    "    \n",
    "print(f'lyginiu: {lyginiai}')\n",
    "print(lyg)\n",
    "print(f'nelyginiu: {nelyginiai}')\n",
    "print(nelyg)\n",
    "\n",
    "ari_vidurkis_lyg = sum(lyg) / len(lyg)\n",
    "ari_viduris_nelyg = sum(nelyg) / len(nelyg)\n",
    "print(ari_vidurkis_lyg, ari_viduris_nelyg)\n",
    "\n",
    "s = 1\n",
    "for i in lyg:\n",
    "    s  = s * i\n",
    "print(s ** (1/ len(lyg)))"
   ]
  },
  {
   "cell_type": "code",
   "execution_count": 62,
   "metadata": {},
   "outputs": [
    {
     "name": "stdout",
     "output_type": "stream",
     "text": [
      "kainos vidurkis: 14850.0\n",
      "vidutinis amzius: 13.133333333333333\n",
      "vidutine rida: 197148.66666666666\n"
     ]
    }
   ],
   "source": [
    "x = [('BMW', 'M5', '253 000 km', '2005-12', '19 500'), ('Mitsubishi', 'Outlander', '195 405 km', '2006', '2 700'), ('Seat', 'Arona', '129 800 km', '2019-11', '13 490'), ('Skoda', 'Octavia Scout', '183 000 km', '2015-06', '14 650'), ('Volvo', 'XC90', '127 896 km', '2018-08', '38 000'), ('Audi', '80', '194 000 km', '1987-07', '1 200'), ('Dacia', 'Lodgy', '102 122 km', '2013-03', '8 000'), ('Skoda', 'Octavia', '227 937 km', '2017-11', '11 990'), ('BMW', '320', '158 486 km', '2017-07', '16 190'), ('Volkswagen', 'Passat', '150 869 km', '2019-01', '16 490'), ('BMW', '520', '74 455 km', '2018-03', '28 900'), ('Mercedes-Benz', 'GLE Coupe 350', '194 000 km', '2016-11', '42 500'), ('Ford', 'C-MAX', '276 260 km', '2005-06', '2 000'), ('BMW', 'X3', '290 000 km', '2004-11', '3 390'), ('BMW', '530', '400 000 km', '2004', '3 750')]\n",
    "# a) Suraskite vidutinę kainą, amžių ir ridą šių automobilių.\n",
    "kaina = 0\n",
    "amzius = 0\n",
    "rida = 0\n",
    "for i in x:\n",
    "    kaina += float(i[-1].replace(' ', \"\"))\n",
    "    amzius += (2024-float(i[-2][0:4]))\n",
    "    rida += float(i[2].replace(' ', '').replace('km', ''))\n",
    "print(f'kainos vidurkis: {kaina / len(x)}')\n",
    "print(f'vidutinis amzius: {amzius / len(x)}')\n",
    "print(f'vidutine rida: {rida / len(x)}')\n",
    "\n",
    "    \n",
    "    \n",
    "# print(suma)\n"
   ]
  },
  {
   "cell_type": "code",
   "execution_count": 75,
   "metadata": {},
   "outputs": [
    {
     "name": "stdout",
     "output_type": "stream",
     "text": [
      "[25000, 36000, 42000, 31000, 75000]\n",
      "75000\n",
      "25000\n"
     ]
    }
   ],
   "source": [
    "# 1.0.26 Duotas sąrašas su žodynais.\n",
    "x = [{'Modelis':'WV', 'rida':25000},{'Modelis':'Audi', 'rida':36000},{'Modelis':'Ford',\n",
    "'rida':42000},{'Modelis':'Toyota', 'rida':31000},{'Modelis':'Nissan', 'rida':75000}]\n",
    "# Parašykite ciklą, išvedantį automobilių ridas.\n",
    "# Parašykite kodą, surandantį daugiausiai ir mažiausiai nuvažiavusius automobilius.\n",
    "\n",
    "ridos = []\n",
    "for auto in x:\n",
    "    ridos.append(auto['rida'])\n",
    "print(ridos)\n",
    "print(max(ridos))\n",
    "print(min(ridos))\n"
   ]
  }
 ],
 "metadata": {
  "kernelspec": {
   "display_name": "Python 3",
   "language": "python",
   "name": "python3"
  },
  "language_info": {
   "codemirror_mode": {
    "name": "ipython",
    "version": 3
   },
   "file_extension": ".py",
   "mimetype": "text/x-python",
   "name": "python",
   "nbconvert_exporter": "python",
   "pygments_lexer": "ipython3",
   "version": "3.12.4"
  }
 },
 "nbformat": 4,
 "nbformat_minor": 2
}
