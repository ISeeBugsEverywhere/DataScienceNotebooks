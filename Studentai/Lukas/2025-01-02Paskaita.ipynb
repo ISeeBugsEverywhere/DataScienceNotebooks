{
 "cells": [
  {
   "cell_type": "code",
   "execution_count": null,
   "metadata": {},
   "outputs": [],
   "source": [
    "# Wine Quality Dataset\n",
    "# import kagglehub\n",
    "# # Download latest version\n",
    "# path = kagglehub.dataset_download(\"yasserh/wine-quality-dataset\")\n",
    "# print(\"Path to dataset files:\", path)\n",
    "\n",
    "# Užduotis - naudodamiesi savo žinomais ML įrankiais\n",
    "# įvertinkite vynų kokybę (quality)\n",
    "# pateikite confusion matrix vizualizacijas, accuracy score\n",
    "\n",
    "# MOvie DB https://grouplens.org/datasets/movielens/\n",
    "# https://files.grouplens.org/datasets/movielens/ml-32m-README.html\n",
    "\n",
    "# Projektas (kažkiek dienų trukmės)\n",
    "# (Čia ne ML, kurkite savo algoritmą, arba savo algoritmą + ML):\n",
    "# Filmų rekomendacijos skriptas (Jupyter notebook)  arba Streamlit aplikacija\n",
    "# Rekomenduoti filmus pagal pasirinkimus (remiantis kitų vartotojų vertinimais) - vartotojas įveda žanrą, aktorių, etc .. \n",
    "# (apribokite įvestį 3-5 parametrais)\n",
    "# Rezultatas - rekomenduojami filmai ( 1, 2 ar daugiau)\n",
    "# get_dummies() -> dummy_df = df[\"Fruits\"].str.get_dummies(\", \") \n",
    "# iš čia: https://stackoverflow.com/questions/76783764/pandas-get-dummies-on-rows-with-multiple-entries"
   ]
  },
  {
   "cell_type": "code",
   "execution_count": 1,
   "metadata": {},
   "outputs": [],
   "source": [
    "import numpy as np\n",
    "import pandas as pd\n",
    "import matplotlib.pyplot as plt\n",
    "import warnings\n",
    "warnings.filterwarnings('ignore')\n",
    "import seaborn as sns\n",
    "import sqlite3\n",
    "\n",
    "\n",
    "from sklearn.linear_model import LinearRegression, LogisticRegression\n",
    "from sklearn.model_selection import train_test_split\n",
    "from sklearn.preprocessing import LabelEncoder, PolynomialFeatures\n",
    "from sklearn.metrics import mean_squared_error, accuracy_score, confusion_matrix, classification_report\n",
    "from sklearn.tree import DecisionTreeRegressor, DecisionTreeClassifier\n",
    "\n",
    "import kagglehub"
   ]
  },
  {
   "cell_type": "code",
   "execution_count": null,
   "metadata": {},
   "outputs": [],
   "source": [
    "# Wine Quality Dataset\n",
    "# import kagglehub\n",
    "# # Download latest version\n",
    "# path = kagglehub.dataset_download(\"yasserh/wine-quality-dataset\")\n",
    "# print(\"Path to dataset files:\", path)\n",
    "\n",
    "# Užduotis - naudodamiesi savo žinomais ML įrankiais\n",
    "# įvertinkite vynų kokybę (quality)\n",
    "# pateikite confusion matrix vizualizacijas, accuracy score"
   ]
  },
  {
   "cell_type": "code",
   "execution_count": null,
   "metadata": {},
   "outputs": [],
   "source": [
    "path = kagglehub.dataset_download(\"yasserh/wine-quality-dataset\")\n",
    "print(\"Path to dataset files:\", path)"
   ]
  },
  {
   "cell_type": "code",
   "execution_count": null,
   "metadata": {},
   "outputs": [],
   "source": [
    "df = pd.read_csv(path+\"/WineQT.csv\")\n",
    "df.head()"
   ]
  },
  {
   "cell_type": "code",
   "execution_count": null,
   "metadata": {},
   "outputs": [],
   "source": [
    "# Get unique values from the 'Name' column\n",
    "uni_quality = df['quality'].unique()\n",
    "print(uni_quality)"
   ]
  },
  {
   "cell_type": "code",
   "execution_count": 5,
   "metadata": {},
   "outputs": [],
   "source": [
    "# Define features (X) and target (y)\n",
    "X = df.drop(columns=['quality'])  # Features\n",
    "y = df['quality']  # "
   ]
  },
  {
   "cell_type": "code",
   "execution_count": null,
   "metadata": {},
   "outputs": [],
   "source": [
    "X_train, X_test, \\\n",
    "y_train, y_test = train_test_split(X, y, test_size=0.20,\n",
    "                                   random_state=23)\n",
    "\n",
    "# LogisticalRegression\n",
    "clf = LogisticRegression(random_state=0)\n",
    "# train the model\n",
    "clf.fit(X_train, y_train)\n",
    "\n",
    "# prediction\n",
    "y_pred = clf.predict(X_test)\n",
    "\n",
    "# Evaluation\n",
    "acc = accuracy_score(y_test, y_pred)\n",
    "print(\"Logistic Regression model accuracy (in %):\", acc*100)\n",
    "\n",
    "# class_report = classification_report(y_test, y_pred)\n",
    "# print('Classification Report:')\n",
    "# print(class_report)\n",
    "\n",
    "cm = confusion_matrix(y_test, y_pred, normalize='true')\n",
    "sns.heatmap(data=cm, annot=True, annot_kws={'fontsize':16})"
   ]
  },
  {
   "cell_type": "code",
   "execution_count": null,
   "metadata": {},
   "outputs": [],
   "source": [
    "X_train, X_test, y_train, y_test = train_test_split(X, y, test_size=0.20, random_state=42)\n",
    "\n",
    "\n",
    "clf = DecisionTreeClassifier(random_state=42)\n",
    "clf.fit(X_train, y_train)\n",
    "y_pred = clf.predict(X_test)\n",
    "accuracy = accuracy_score(y_test, y_pred)\n",
    "print(f'Desicion tree accuracy score: {accuracy *100} %')\n",
    "\n",
    "cm = confusion_matrix(y_test, y_pred, normalize='true')\n",
    "sns.heatmap(data=cm,annot=True, annot_kws={'fontsize':12})"
   ]
  },
  {
   "cell_type": "code",
   "execution_count": null,
   "metadata": {},
   "outputs": [],
   "source": [
    "# MOvie DB https://grouplens.org/datasets/movielens/\n",
    "# https://files.grouplens.org/datasets/movielens/ml-32m-README.html\n",
    "\n",
    "# Projektas (kažkiek dienų trukmės)\n",
    "# (Čia ne ML, kurkite savo algoritmą, arba savo algoritmą + ML):\n",
    "# Filmų rekomendacijos skriptas (Jupyter notebook)  arba Streamlit aplikacija\n",
    "# Rekomenduoti filmus pagal pasirinkimus (remiantis kitų vartotojų vertinimais) - vartotojas įveda žanrą, aktorių, etc .. \n",
    "# (apribokite įvestį 3-5 parametrais)\n",
    "# Rezultatas - rekomenduojami filmai ( 1, 2 ar daugiau)\n",
    "# get_dummies() -> dummy_df = df[\"Fruits\"].str.get_dummies(\", \") \n",
    "# iš čia: https://stackoverflow.com/questions/76783764/pandas-get-dummies-on-rows-with-multiple-entries"
   ]
  },
  {
   "cell_type": "code",
   "execution_count": null,
   "metadata": {},
   "outputs": [],
   "source": [
    "#  pvz\n",
    "import pandas as pd\n",
    "\n",
    "# Sample dataset (you can replace this with a larger MovieLens dataset)\n",
    "# data = {\n",
    "#     'Title': ['The Matrix', 'Inception', 'The Dark Knight', 'Interstellar', 'The Godfather', 'Pulp Fiction'],\n",
    "#     'Genre': ['Action|Sci-Fi', 'Action|Sci-Fi', 'Action|Crime', 'Adventure|Sci-Fi', 'Crime|Drama', 'Crime|Drama'],\n",
    "#     'Rating': [8.7, 8.8, 9.0, 8.6, 9.2, 8.9],\n",
    "#     'Release Year': [1999, 2010, 2008, 2014, 1972, 1994]\n",
    "# }\n",
    "\n",
    "# # Convert data into DataFrame\n",
    "# df = pd.DataFrame(data)\n",
    "\n",
    "# def recommend_movie():\n",
    "#     print(\"Please provide the following parameters to get movie recommendations:\")\n",
    "    \n",
    "#     # Collecting user input\n",
    "#     genre_input = input(\"Enter genre (e.g., Action|Sci-Fi): \").strip()\n",
    "#     rating_input = input(\"Enter minimum rating (e.g., 8.0): \").strip()\n",
    "#     year_input = input(\"Enter a preferred release year (e.g., 2000): \").strip()\n",
    "    \n",
    "#     # Convert rating_input and year_input to proper types\n",
    "#     rating_input = float(rating_input) if rating_input else None\n",
    "#     year_input = int(year_input) if year_input else None\n",
    "    \n",
    "#     # Filter the DataFrame based on user inputs\n",
    "#     filtered_movies = df\n",
    "\n",
    "#     if genre_input:\n",
    "#         filtered_movies = filtered_movies[filtered_movies['Genre'].str.contains(genre_input, case=False)]\n",
    "    \n",
    "#     if rating_input:\n",
    "#         filtered_movies = filtered_movies[filtered_movies['Rating'] >= rating_input]\n",
    "    \n",
    "#     if year_input:\n",
    "#         filtered_movies = filtered_movies[filtered_movies['Release Year'] == year_input]\n",
    "    \n",
    "#     # Recommend movies\n",
    "#     if not filtered_movies.empty:\n",
    "#         print(\"\\nRecommended Movies based on your criteria:\")\n",
    "#         print(filtered_movies[['Title', 'Genre', 'Rating', 'Release Year']])\n",
    "#     else:\n",
    "#         print(\"Sorry, no movies match your criteria.\")\n",
    "\n",
    "# # Run the recommendation function\n",
    "# recommend_movie()\n"
   ]
  },
  {
   "cell_type": "code",
   "execution_count": 2,
   "metadata": {},
   "outputs": [],
   "source": [
    "from datetime import datetime"
   ]
  },
  {
   "cell_type": "code",
   "execution_count": 3,
   "metadata": {},
   "outputs": [
    {
     "data": {
      "text/html": [
       "<div>\n",
       "<style scoped>\n",
       "    .dataframe tbody tr th:only-of-type {\n",
       "        vertical-align: middle;\n",
       "    }\n",
       "\n",
       "    .dataframe tbody tr th {\n",
       "        vertical-align: top;\n",
       "    }\n",
       "\n",
       "    .dataframe thead th {\n",
       "        text-align: right;\n",
       "    }\n",
       "</style>\n",
       "<table border=\"1\" class=\"dataframe\">\n",
       "  <thead>\n",
       "    <tr style=\"text-align: right;\">\n",
       "      <th></th>\n",
       "      <th>userId</th>\n",
       "      <th>movieId</th>\n",
       "      <th>rating</th>\n",
       "      <th>timestamp</th>\n",
       "    </tr>\n",
       "  </thead>\n",
       "  <tbody>\n",
       "    <tr>\n",
       "      <th>0</th>\n",
       "      <td>1</td>\n",
       "      <td>17</td>\n",
       "      <td>4.0</td>\n",
       "      <td>944249077</td>\n",
       "    </tr>\n",
       "    <tr>\n",
       "      <th>1</th>\n",
       "      <td>1</td>\n",
       "      <td>25</td>\n",
       "      <td>1.0</td>\n",
       "      <td>944250228</td>\n",
       "    </tr>\n",
       "  </tbody>\n",
       "</table>\n",
       "</div>"
      ],
      "text/plain": [
       "   userId  movieId  rating  timestamp\n",
       "0       1       17     4.0  944249077\n",
       "1       1       25     1.0  944250228"
      ]
     },
     "execution_count": 3,
     "metadata": {},
     "output_type": "execute_result"
    }
   ],
   "source": [
    "ratings = pd.read_csv('../../../eismas/ml-32m/ratings.csv')\n",
    "ratings.head(2)\n"
   ]
  },
  {
   "cell_type": "code",
   "execution_count": 13,
   "metadata": {},
   "outputs": [
    {
     "data": {
      "text/plain": [
       "userId\n",
       "146604       20\n",
       "83690        20\n",
       "187748       20\n",
       "164501       20\n",
       "27913        20\n",
       "          ...  \n",
       "171795     9016\n",
       "123465     9044\n",
       "55653      9178\n",
       "17035      9577\n",
       "175325    33332\n",
       "Name: count, Length: 200948, dtype: int64"
      ]
     },
     "execution_count": 13,
     "metadata": {},
     "output_type": "execute_result"
    }
   ],
   "source": [
    "\n",
    "# unique_users = ratings['userId'].nunique()\n",
    "# print(unique_users)\n",
    "users = ratings['userId'].value_counts()\n",
    "users_sorted = users.sort_values(ascending=True)\n",
    "users_sorted"
   ]
  },
  {
   "cell_type": "code",
   "execution_count": 11,
   "metadata": {},
   "outputs": [],
   "source": [
    "def convert_timestamp_to_datetime(x):\n",
    "    dt_object = datetime.fromtimestamp(x)\n",
    "    return dt_object"
   ]
  },
  {
   "cell_type": "code",
   "execution_count": null,
   "metadata": {},
   "outputs": [],
   "source": [
    "\n",
    "ratings['datetime'] = ratings['timestamp'].apply(convert_timestamp_to_datetime)\n",
    "ratings.head(2)"
   ]
  },
  {
   "cell_type": "code",
   "execution_count": null,
   "metadata": {},
   "outputs": [],
   "source": [
    "ratings.info()"
   ]
  },
  {
   "cell_type": "code",
   "execution_count": null,
   "metadata": {},
   "outputs": [],
   "source": [
    "# ratings_gr = ratings.groupby('movieId').agg(\n",
    "#     rating_list=('rating', list),         # Collect ratings into a list\n",
    "#     timestamp_list=('timestamp', list),   # Collect timestamps into a list\n",
    "#     datetime_list=('datetime', list)      # Collect datetimes into a list\n",
    "# ).reset_index()\n",
    "\n",
    "# ratings_gr.head(2)"
   ]
  },
  {
   "cell_type": "code",
   "execution_count": 5,
   "metadata": {},
   "outputs": [
    {
     "data": {
      "text/html": [
       "<div>\n",
       "<style scoped>\n",
       "    .dataframe tbody tr th:only-of-type {\n",
       "        vertical-align: middle;\n",
       "    }\n",
       "\n",
       "    .dataframe tbody tr th {\n",
       "        vertical-align: top;\n",
       "    }\n",
       "\n",
       "    .dataframe thead th {\n",
       "        text-align: right;\n",
       "    }\n",
       "</style>\n",
       "<table border=\"1\" class=\"dataframe\">\n",
       "  <thead>\n",
       "    <tr style=\"text-align: right;\">\n",
       "      <th></th>\n",
       "      <th>movieId</th>\n",
       "      <th>rating_mean</th>\n",
       "      <th>rating_count</th>\n",
       "      <th>users</th>\n",
       "    </tr>\n",
       "  </thead>\n",
       "  <tbody>\n",
       "    <tr>\n",
       "      <th>0</th>\n",
       "      <td>1</td>\n",
       "      <td>3.90</td>\n",
       "      <td>68997</td>\n",
       "      <td>[10, 11, 17, 19, 20, 23, 24, 28, 33, 34, 36, 3...</td>\n",
       "    </tr>\n",
       "    <tr>\n",
       "      <th>1</th>\n",
       "      <td>2</td>\n",
       "      <td>3.28</td>\n",
       "      <td>28904</td>\n",
       "      <td>[3, 10, 28, 32, 34, 37, 61, 62, 65, 70, 78, 83...</td>\n",
       "    </tr>\n",
       "  </tbody>\n",
       "</table>\n",
       "</div>"
      ],
      "text/plain": [
       "   movieId  rating_mean  rating_count  \\\n",
       "0        1         3.90         68997   \n",
       "1        2         3.28         28904   \n",
       "\n",
       "                                               users  \n",
       "0  [10, 11, 17, 19, 20, 23, 24, 28, 33, 34, 36, 3...  \n",
       "1  [3, 10, 28, 32, 34, 37, 61, 62, 65, 70, 78, 83...  "
      ]
     },
     "execution_count": 5,
     "metadata": {},
     "output_type": "execute_result"
    }
   ],
   "source": [
    "# vidurkinam ratinga\n",
    "ratings_gr1 = ratings.groupby('movieId').agg(\n",
    "    rating_mean=('rating', 'mean'),\n",
    "    rating_count=('rating', 'count'),\n",
    "    # timestamp=('timestamp', 'min'),\n",
    "    # datetime=('datetime', 'min')\n",
    "    users=('userId', lambda x: list(x.unique()))\n",
    ").reset_index()\n",
    "\n",
    "ratings_gr1['rating_mean'] = ratings_gr1['rating_mean'].round(2)\n",
    "\n",
    "\n",
    "ratings_gr1.head(2)"
   ]
  },
  {
   "cell_type": "code",
   "execution_count": null,
   "metadata": {},
   "outputs": [],
   "source": [
    "# movie_ratings_df = ratings.groupby('movieId')['rating'].apply(list).reset_index()\n",
    "\n",
    "# # Rename columns for clarity\n",
    "# # movie_t_df.columns = ['movieId', 'tags']\n",
    "\n",
    "# # Show the resulting DataFrame\n",
    "# movie_ratings_df.head(2)"
   ]
  },
  {
   "cell_type": "code",
   "execution_count": null,
   "metadata": {},
   "outputs": [],
   "source": [
    "# max_rating = ratings['timestamp'].min()\n",
    "# print(max_rating)\n",
    "# print(\"Maximum rating:\", max_rating)\n",
    "timestamp = 52 # Replace with your timestamp\n",
    "dt_object = datetime.fromtimestamp(timestamp)\n",
    "print(\"Converted Datetime:\", dt_object)\n",
    "\n"
   ]
  },
  {
   "cell_type": "code",
   "execution_count": 6,
   "metadata": {},
   "outputs": [
    {
     "data": {
      "text/html": [
       "<div>\n",
       "<style scoped>\n",
       "    .dataframe tbody tr th:only-of-type {\n",
       "        vertical-align: middle;\n",
       "    }\n",
       "\n",
       "    .dataframe tbody tr th {\n",
       "        vertical-align: top;\n",
       "    }\n",
       "\n",
       "    .dataframe thead th {\n",
       "        text-align: right;\n",
       "    }\n",
       "</style>\n",
       "<table border=\"1\" class=\"dataframe\">\n",
       "  <thead>\n",
       "    <tr style=\"text-align: right;\">\n",
       "      <th></th>\n",
       "      <th>movieId</th>\n",
       "      <th>title</th>\n",
       "      <th>genres</th>\n",
       "    </tr>\n",
       "  </thead>\n",
       "  <tbody>\n",
       "    <tr>\n",
       "      <th>0</th>\n",
       "      <td>1</td>\n",
       "      <td>Toy Story (1995)</td>\n",
       "      <td>Adventure|Animation|Children|Comedy|Fantasy</td>\n",
       "    </tr>\n",
       "    <tr>\n",
       "      <th>1</th>\n",
       "      <td>2</td>\n",
       "      <td>Jumanji (1995)</td>\n",
       "      <td>Adventure|Children|Fantasy</td>\n",
       "    </tr>\n",
       "  </tbody>\n",
       "</table>\n",
       "</div>"
      ],
      "text/plain": [
       "   movieId             title                                       genres\n",
       "0        1  Toy Story (1995)  Adventure|Animation|Children|Comedy|Fantasy\n",
       "1        2    Jumanji (1995)                   Adventure|Children|Fantasy"
      ]
     },
     "execution_count": 6,
     "metadata": {},
     "output_type": "execute_result"
    }
   ],
   "source": [
    "movies = pd.read_csv('../../../eismas/ml-32m/movies.csv')\n",
    "movies.head(2)"
   ]
  },
  {
   "cell_type": "code",
   "execution_count": 14,
   "metadata": {},
   "outputs": [
    {
     "data": {
      "text/html": [
       "<div>\n",
       "<style scoped>\n",
       "    .dataframe tbody tr th:only-of-type {\n",
       "        vertical-align: middle;\n",
       "    }\n",
       "\n",
       "    .dataframe tbody tr th {\n",
       "        vertical-align: top;\n",
       "    }\n",
       "\n",
       "    .dataframe thead th {\n",
       "        text-align: right;\n",
       "    }\n",
       "</style>\n",
       "<table border=\"1\" class=\"dataframe\">\n",
       "  <thead>\n",
       "    <tr style=\"text-align: right;\">\n",
       "      <th></th>\n",
       "      <th>genres</th>\n",
       "      <th>userId</th>\n",
       "      <th>rating_count</th>\n",
       "    </tr>\n",
       "  </thead>\n",
       "  <tbody>\n",
       "    <tr>\n",
       "      <th>0</th>\n",
       "      <td>(no genres listed)</td>\n",
       "      <td>16</td>\n",
       "      <td>1</td>\n",
       "    </tr>\n",
       "    <tr>\n",
       "      <th>1</th>\n",
       "      <td>(no genres listed)</td>\n",
       "      <td>28</td>\n",
       "      <td>3</td>\n",
       "    </tr>\n",
       "  </tbody>\n",
       "</table>\n",
       "</div>"
      ],
      "text/plain": [
       "               genres  userId  rating_count\n",
       "0  (no genres listed)      16             1\n",
       "1  (no genres listed)      28             3"
      ]
     },
     "execution_count": 14,
     "metadata": {},
     "output_type": "execute_result"
    }
   ],
   "source": [
    "# Merge DataFrames on movieId\n",
    "merged = pd.merge(ratings, movies, on='movieId')\n",
    "\n",
    "# Group by genres and userId to count ratings\n",
    "genre_user_counts = merged.groupby(['genres', 'userId']).size().reset_index(name='rating_count')\n",
    "genre_user_counts.head(2)"
   ]
  },
  {
   "cell_type": "code",
   "execution_count": 15,
   "metadata": {},
   "outputs": [
    {
     "name": "stdout",
     "output_type": "stream",
     "text": [
      "<class 'pandas.core.frame.DataFrame'>\n",
      "RangeIndex: 14614450 entries, 0 to 14614449\n",
      "Data columns (total 3 columns):\n",
      " #   Column        Dtype \n",
      "---  ------        ----- \n",
      " 0   genres        object\n",
      " 1   userId        int64 \n",
      " 2   rating_count  int64 \n",
      "dtypes: int64(2), object(1)\n",
      "memory usage: 334.5+ MB\n"
     ]
    }
   ],
   "source": [
    "genre_user_counts.info()"
   ]
  },
  {
   "cell_type": "code",
   "execution_count": null,
   "metadata": {},
   "outputs": [],
   "source": [
    "def get_movie_year(x):\n",
    "    if '(' in x:\n",
    "        year = x.rsplit('(', 1)[1].strip(')') #rstplit - splitina per pirmą norimą simbolį nuo dešinės\n",
    "        return year\n",
    "    else:\n",
    "        return 'Nenurodyta'\n",
    "\n",
    "# print(get_movie_year('City of Lost Children, The (Cité des enfants perdus, La) (1995)'))   \n",
    "movies['movie_year'] = movies['title'].apply(get_movie_year)\n",
    "movies.head(2)\n"
   ]
  },
  {
   "cell_type": "code",
   "execution_count": null,
   "metadata": {},
   "outputs": [],
   "source": [
    "uni_year = movies['movie_year'].unique()\n",
    "print(uni_year)"
   ]
  },
  {
   "cell_type": "code",
   "execution_count": 7,
   "metadata": {},
   "outputs": [
    {
     "data": {
      "text/html": [
       "<div>\n",
       "<style scoped>\n",
       "    .dataframe tbody tr th:only-of-type {\n",
       "        vertical-align: middle;\n",
       "    }\n",
       "\n",
       "    .dataframe tbody tr th {\n",
       "        vertical-align: top;\n",
       "    }\n",
       "\n",
       "    .dataframe thead th {\n",
       "        text-align: right;\n",
       "    }\n",
       "</style>\n",
       "<table border=\"1\" class=\"dataframe\">\n",
       "  <thead>\n",
       "    <tr style=\"text-align: right;\">\n",
       "      <th></th>\n",
       "      <th>userId</th>\n",
       "      <th>movieId</th>\n",
       "      <th>tag</th>\n",
       "      <th>timestamp</th>\n",
       "    </tr>\n",
       "  </thead>\n",
       "  <tbody>\n",
       "    <tr>\n",
       "      <th>0</th>\n",
       "      <td>22</td>\n",
       "      <td>26479</td>\n",
       "      <td>Kevin Kline</td>\n",
       "      <td>1583038886</td>\n",
       "    </tr>\n",
       "    <tr>\n",
       "      <th>1</th>\n",
       "      <td>22</td>\n",
       "      <td>79592</td>\n",
       "      <td>misogyny</td>\n",
       "      <td>1581476297</td>\n",
       "    </tr>\n",
       "  </tbody>\n",
       "</table>\n",
       "</div>"
      ],
      "text/plain": [
       "   userId  movieId          tag   timestamp\n",
       "0      22    26479  Kevin Kline  1583038886\n",
       "1      22    79592     misogyny  1581476297"
      ]
     },
     "execution_count": 7,
     "metadata": {},
     "output_type": "execute_result"
    }
   ],
   "source": [
    "tags = pd.read_csv('../../../eismas/ml-32m/tags.csv')\n",
    "# tags['timestamp2'] = tags['timestamp']\n",
    "tags.head(2)"
   ]
  },
  {
   "cell_type": "code",
   "execution_count": 8,
   "metadata": {},
   "outputs": [
    {
     "data": {
      "text/html": [
       "<div>\n",
       "<style scoped>\n",
       "    .dataframe tbody tr th:only-of-type {\n",
       "        vertical-align: middle;\n",
       "    }\n",
       "\n",
       "    .dataframe tbody tr th {\n",
       "        vertical-align: top;\n",
       "    }\n",
       "\n",
       "    .dataframe thead th {\n",
       "        text-align: right;\n",
       "    }\n",
       "</style>\n",
       "<table border=\"1\" class=\"dataframe\">\n",
       "  <thead>\n",
       "    <tr style=\"text-align: right;\">\n",
       "      <th></th>\n",
       "      <th>movieId</th>\n",
       "      <th>tags</th>\n",
       "    </tr>\n",
       "  </thead>\n",
       "  <tbody>\n",
       "    <tr>\n",
       "      <th>0</th>\n",
       "      <td>1</td>\n",
       "      <td>[children, Disney, animation, children, Disney...</td>\n",
       "    </tr>\n",
       "    <tr>\n",
       "      <th>1</th>\n",
       "      <td>2</td>\n",
       "      <td>[Robin Williams, fantasy, Robin Williams, time...</td>\n",
       "    </tr>\n",
       "  </tbody>\n",
       "</table>\n",
       "</div>"
      ],
      "text/plain": [
       "   movieId                                               tags\n",
       "0        1  [children, Disney, animation, children, Disney...\n",
       "1        2  [Robin Williams, fantasy, Robin Williams, time..."
      ]
     },
     "execution_count": 8,
     "metadata": {},
     "output_type": "execute_result"
    }
   ],
   "source": [
    "# Group by movieid and aggregate tags into a list\n",
    "# movie_tags_df = tags.groupby('movieId')['tag'].apply(lambda x: ', '.join(x)).reset_index()\n",
    "movie_tags_df = tags.groupby('movieId')['tag'].apply(list).reset_index()\n",
    "\n",
    "# Rename columns for clarity\n",
    "movie_tags_df.columns = ['movieId', 'tags']\n",
    "\n",
    "# Show the resulting DataFrame\n",
    "movie_tags_df.head(2)"
   ]
  },
  {
   "cell_type": "code",
   "execution_count": null,
   "metadata": {},
   "outputs": [],
   "source": [
    "# links = pd.read_csv('../../../eismas/ml-32m/links.csv')\n",
    "# links.head(2)"
   ]
  },
  {
   "cell_type": "code",
   "execution_count": 9,
   "metadata": {},
   "outputs": [
    {
     "data": {
      "text/html": [
       "<div>\n",
       "<style scoped>\n",
       "    .dataframe tbody tr th:only-of-type {\n",
       "        vertical-align: middle;\n",
       "    }\n",
       "\n",
       "    .dataframe tbody tr th {\n",
       "        vertical-align: top;\n",
       "    }\n",
       "\n",
       "    .dataframe thead th {\n",
       "        text-align: right;\n",
       "    }\n",
       "</style>\n",
       "<table border=\"1\" class=\"dataframe\">\n",
       "  <thead>\n",
       "    <tr style=\"text-align: right;\">\n",
       "      <th></th>\n",
       "      <th>movieId</th>\n",
       "      <th>rating_mean</th>\n",
       "      <th>rating_count</th>\n",
       "      <th>users</th>\n",
       "      <th>tags</th>\n",
       "    </tr>\n",
       "  </thead>\n",
       "  <tbody>\n",
       "    <tr>\n",
       "      <th>0</th>\n",
       "      <td>1</td>\n",
       "      <td>3.90</td>\n",
       "      <td>68997</td>\n",
       "      <td>[10, 11, 17, 19, 20, 23, 24, 28, 33, 34, 36, 3...</td>\n",
       "      <td>[children, Disney, animation, children, Disney...</td>\n",
       "    </tr>\n",
       "    <tr>\n",
       "      <th>1</th>\n",
       "      <td>2</td>\n",
       "      <td>3.28</td>\n",
       "      <td>28904</td>\n",
       "      <td>[3, 10, 28, 32, 34, 37, 61, 62, 65, 70, 78, 83...</td>\n",
       "      <td>[Robin Williams, fantasy, Robin Williams, time...</td>\n",
       "    </tr>\n",
       "  </tbody>\n",
       "</table>\n",
       "</div>"
      ],
      "text/plain": [
       "   movieId  rating_mean  rating_count  \\\n",
       "0        1         3.90         68997   \n",
       "1        2         3.28         28904   \n",
       "\n",
       "                                               users  \\\n",
       "0  [10, 11, 17, 19, 20, 23, 24, 28, 33, 34, 36, 3...   \n",
       "1  [3, 10, 28, 32, 34, 37, 61, 62, 65, 70, 78, 83...   \n",
       "\n",
       "                                                tags  \n",
       "0  [children, Disney, animation, children, Disney...  \n",
       "1  [Robin Williams, fantasy, Robin Williams, time...  "
      ]
     },
     "execution_count": 9,
     "metadata": {},
     "output_type": "execute_result"
    }
   ],
   "source": [
    "# Merge the DataFrames on 'movieId'\n",
    "merged_df = pd.merge(ratings_gr1, movie_tags_df, on='movieId', how='inner')\n",
    "merged_df.head(2)"
   ]
  },
  {
   "cell_type": "code",
   "execution_count": 10,
   "metadata": {},
   "outputs": [
    {
     "data": {
      "text/html": [
       "<div>\n",
       "<style scoped>\n",
       "    .dataframe tbody tr th:only-of-type {\n",
       "        vertical-align: middle;\n",
       "    }\n",
       "\n",
       "    .dataframe tbody tr th {\n",
       "        vertical-align: top;\n",
       "    }\n",
       "\n",
       "    .dataframe thead th {\n",
       "        text-align: right;\n",
       "    }\n",
       "</style>\n",
       "<table border=\"1\" class=\"dataframe\">\n",
       "  <thead>\n",
       "    <tr style=\"text-align: right;\">\n",
       "      <th></th>\n",
       "      <th>movieId</th>\n",
       "      <th>rating_mean</th>\n",
       "      <th>rating_count</th>\n",
       "      <th>users</th>\n",
       "      <th>tags</th>\n",
       "      <th>title</th>\n",
       "      <th>genres</th>\n",
       "    </tr>\n",
       "  </thead>\n",
       "  <tbody>\n",
       "    <tr>\n",
       "      <th>0</th>\n",
       "      <td>1</td>\n",
       "      <td>3.90</td>\n",
       "      <td>68997</td>\n",
       "      <td>[10, 11, 17, 19, 20, 23, 24, 28, 33, 34, 36, 3...</td>\n",
       "      <td>[children, disney, animation, children, disney...</td>\n",
       "      <td>Toy Story (1995)</td>\n",
       "      <td>Adventure|Animation|Children|Comedy|Fantasy</td>\n",
       "    </tr>\n",
       "    <tr>\n",
       "      <th>1</th>\n",
       "      <td>2</td>\n",
       "      <td>3.28</td>\n",
       "      <td>28904</td>\n",
       "      <td>[3, 10, 28, 32, 34, 37, 61, 62, 65, 70, 78, 83...</td>\n",
       "      <td>[robin williams, fantasy, robin williams, time...</td>\n",
       "      <td>Jumanji (1995)</td>\n",
       "      <td>Adventure|Children|Fantasy</td>\n",
       "    </tr>\n",
       "  </tbody>\n",
       "</table>\n",
       "</div>"
      ],
      "text/plain": [
       "   movieId  rating_mean  rating_count  \\\n",
       "0        1         3.90         68997   \n",
       "1        2         3.28         28904   \n",
       "\n",
       "                                               users  \\\n",
       "0  [10, 11, 17, 19, 20, 23, 24, 28, 33, 34, 36, 3...   \n",
       "1  [3, 10, 28, 32, 34, 37, 61, 62, 65, 70, 78, 83...   \n",
       "\n",
       "                                                tags             title  \\\n",
       "0  [children, disney, animation, children, disney...  Toy Story (1995)   \n",
       "1  [robin williams, fantasy, robin williams, time...    Jumanji (1995)   \n",
       "\n",
       "                                        genres  \n",
       "0  Adventure|Animation|Children|Comedy|Fantasy  \n",
       "1                   Adventure|Children|Fantasy  "
      ]
     },
     "execution_count": 10,
     "metadata": {},
     "output_type": "execute_result"
    }
   ],
   "source": [
    "combined_movies = pd.merge(merged_df, movies, on='movieId', how='inner')\n",
    "combined_movies['tags'] = combined_movies['tags'].apply(lambda tag_list: [str(tag).lower() for tag in tag_list])\n",
    "combined_movies.head(2)"
   ]
  },
  {
   "cell_type": "code",
   "execution_count": null,
   "metadata": {},
   "outputs": [],
   "source": [
    "# Flatten the 'tags' column and get all unique tags\n",
    "unique_tags = list(set(tag for tags in combined_movies['tags'] for tag in tags))\n",
    "print(len(unique_tags))\n",
    "print(unique_tags)"
   ]
  },
  {
   "cell_type": "code",
   "execution_count": null,
   "metadata": {},
   "outputs": [],
   "source": [
    "all_genres = combined_movies['genres'].str.split('|').explode().unique()\n",
    "unique_genres = list(all_genres)\n",
    "print(len(unique_genres))\n",
    "print(unique_genres)"
   ]
  },
  {
   "cell_type": "code",
   "execution_count": null,
   "metadata": {},
   "outputs": [],
   "source": [
    "# # Tag to filter by\n",
    "# tag_to_filter = \n",
    "\n",
    "# # Filter movies that have the tag 'Action'\n",
    "# filtered_movies = combined_movies[combined_movies['tags'].apply(lambda tags: tag_to_filter in tags)]\n",
    "# filtered_movies\n",
    "\n",
    "tags_to_filter = ['superhero', 'Marvel']\n",
    "filtered_movies = combined_movies[combined_movies['tags'].apply(lambda tags: any(tag in tags for tag in tags_to_filter))]\n",
    "filtered_movies"
   ]
  },
  {
   "cell_type": "code",
   "execution_count": null,
   "metadata": {},
   "outputs": [],
   "source": [
    "# Multiple genres to filter by\n",
    "genres_to_filter = ['Action', 'Thriller']\n",
    "\n",
    "# Filter movies that have all genres in the genres column\n",
    "filtered_movies = combined_movies[combined_movies['genres'].apply(lambda x: all(genre in x for genre in genres_to_filter))]\n",
    "filtered_movies"
   ]
  }
 ],
 "metadata": {
  "kernelspec": {
   "display_name": "Python 3",
   "language": "python",
   "name": "python3"
  },
  "language_info": {
   "codemirror_mode": {
    "name": "ipython",
    "version": 3
   },
   "file_extension": ".py",
   "mimetype": "text/x-python",
   "name": "python",
   "nbconvert_exporter": "python",
   "pygments_lexer": "ipython3",
   "version": "3.12.4"
  }
 },
 "nbformat": 4,
 "nbformat_minor": 2
}
