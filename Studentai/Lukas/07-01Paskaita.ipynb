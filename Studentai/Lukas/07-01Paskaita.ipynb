{
 "cells": [
  {
   "cell_type": "code",
   "execution_count": 2,
   "metadata": {},
   "outputs": [
    {
     "name": "stdout",
     "output_type": "stream",
     "text": [
      "1\n",
      "2\n",
      "('a', 'ab', 1, 2, [3, 4, 5])\n"
     ]
    }
   ],
   "source": [
    "def fn_ma(pos1, pos2, *pos3):\n",
    "    print(pos1)\n",
    "    print(pos2)\n",
    "    print(pos3)\n",
    "    \n",
    "fn_ma(1,2, 'a', 'ab', 1, 2,[3,4,5])"
   ]
  },
  {
   "cell_type": "code",
   "execution_count": 3,
   "metadata": {},
   "outputs": [
    {
     "data": {
      "text/plain": [
       "60480"
      ]
     },
     "execution_count": 3,
     "metadata": {},
     "output_type": "execute_result"
    }
   ],
   "source": [
    "def sandauga(*pos3):\n",
    "    s = 1\n",
    "    for i in pos3:\n",
    "        s = s*i\n",
    "    return s\n",
    "\n",
    "\n",
    "sandauga(4,5,6,7,8,9)"
   ]
  },
  {
   "cell_type": "code",
   "execution_count": 4,
   "metadata": {},
   "outputs": [
    {
     "name": "stdout",
     "output_type": "stream",
     "text": [
      "a, b - poziciniai, būtina nurodyti kreipiantis\n",
      "args - nebūtina nurodyti\n",
      "d, e - raktažodžiai, būtina nurodyti (nebent turi numatytąsias reikšmes)\n",
      "kwargs - nebūtina nurodyti kreipiantis\n"
     ]
    }
   ],
   "source": [
    "def fn(a,b, *args, d, e, **kwargs):\n",
    "    print(\"a, b - poziciniai, būtina nurodyti kreipiantis\")\n",
    "    print(\"args - nebūtina nurodyti\")\n",
    "    print(\"d, e - raktažodžiai, būtina nurodyti (nebent turi numatytąsias reikšmes)\")\n",
    "    print(\"kwargs - nebūtina nurodyti kreipiantis\")\n",
    "fn(1,2,d=3,e=4) #kaip matyti, nurodyti būtina pozicinius argumentus ir raktažodžius (jei jie neturi numatytųjų reikšmių)\n"
   ]
  },
  {
   "cell_type": "code",
   "execution_count": 33,
   "metadata": {},
   "outputs": [
    {
     "data": {
      "text/plain": [
       "'kazkas blogai'"
      ]
     },
     "execution_count": 33,
     "metadata": {},
     "output_type": "execute_result"
    }
   ],
   "source": [
    "# Parašykite funkciją, kuri suskaičiuotų aritmetinį arba\n",
    "# geometrinį vidurkį iš pateiktų skaičių. Pateikiamų skaičių\n",
    "# kiekis neapibrėžtas. Panaudokite raktažodžius, kad\n",
    "# nurodytumėte, kokį vidurkį reikia apskaičiuoti.\n",
    "\n",
    "def vidurkis(*args, v='a'):\n",
    "    \n",
    "    \n",
    "    \n",
    "    if v == 'a':\n",
    "        return sum(args) / len(args)\n",
    "    elif v == 'g': \n",
    "        s = 1\n",
    "        for i in args:\n",
    "            s = s * i\n",
    "        return s**(1/len(args))\n",
    "    else:\n",
    "        return 'kazkas blogai'\n",
    "    \n",
    "    \n",
    "vidurkis(2, 3, 4, v='h')"
   ]
  },
  {
   "cell_type": "code",
   "execution_count": 2,
   "metadata": {},
   "outputs": [
    {
     "data": {
      "text/plain": [
       "25"
      ]
     },
     "execution_count": 2,
     "metadata": {},
     "output_type": "execute_result"
    }
   ],
   "source": [
    "# Parašykite funkciją, kuriai galėtumėte nurodyti bet kokį skaičių/tekstų kiekį.\n",
    "# Funkcija turi gražinti sumą, kur būtų sudėti skaičiai ir, jei buvo nurodyti tekstai, tekstų ilgiai.\n",
    "# Pvz: fn(1,3,'labas') turi grąžinti skaičių 9.\n",
    "\n",
    "def fn_sum(*args):\n",
    "    a = 0\n",
    "    for i in args:\n",
    "        if type(i) is int:\n",
    "            a += i\n",
    "        else:\n",
    "            a += len(i)\n",
    "    return a\n",
    "    \n",
    "\n",
    "\n",
    "fn_sum(10,3, 'labas', 'vakaras')"
   ]
  },
  {
   "cell_type": "code",
   "execution_count": 46,
   "metadata": {},
   "outputs": [
    {
     "name": "stdout",
     "output_type": "stream",
     "text": [
      "8.0\n",
      "-5.0\n",
      "-0.2\n"
     ]
    }
   ],
   "source": [
    "# • Parašykite funkciją, kuri galėtų ištraukti nurodyto laipsnio\n",
    "# šaknį iš nurodyto skaičiaus. Su assert užtikrinkite, jog jei\n",
    "# nurodoma lyginio laipsnio šaknis, tai skaičius (iš kurio\n",
    "# traukiama šaknis) turi būti teigiamas, kitu atveju rodykite\n",
    "# AssertionError klaidą.\n",
    "\n",
    "# Jei Python ** operatorius grąžina menamus skaičius, pa-\n",
    "# naudoti abs() funkciją.\n",
    "\n",
    "# def saknis(laipsnis, skaicius):\n",
    "#     if skaicius >= 0:\n",
    "#         return skaicius**(1/laipsnis)\n",
    "#     else:\n",
    "#         return skaicius**(1/laipsnis)\n",
    "    \n",
    "    \n",
    "# saknis(3, -125)\n",
    "\n",
    "# def saknis(laipsnis, skaicius):\n",
    "#     assert (laipsnis >= 0 and skaicius > 0) or (laipsnis < 0 and skaicius % 2 == 1 and skaicius > 0), 'Neteisingi duomenys'\n",
    "#     if skaicius >= 0:\n",
    "#         return (laipsnis**(1/skaicius))\n",
    "#     else:\n",
    "#         return abs(laipsnis**(1/skaicius))*(-1)\n",
    "# print(saknis(9,2))\n",
    "# print(saknis(-8,3))\n",
    "\n",
    "def root(x,n):\n",
    "    assert x>0 or n%2 == 1, 'Arba X teigiamas, arba n nelyginis!'\n",
    "    return round(abs(x**(1/n)), 9)*abs(x)/x\n",
    "\n",
    "print(root(64,2))\n",
    "print(root(-125,3))\n",
    "print(root(-125,-3))"
   ]
  },
  {
   "cell_type": "code",
   "execution_count": 47,
   "metadata": {},
   "outputs": [
    {
     "data": {
      "text/plain": [
       "4"
      ]
     },
     "execution_count": 47,
     "metadata": {},
     "output_type": "execute_result"
    }
   ],
   "source": [
    "ret = lambda x : x**2\n",
    "ret(2)"
   ]
  },
  {
   "cell_type": "code",
   "execution_count": 49,
   "metadata": {},
   "outputs": [
    {
     "name": "stdout",
     "output_type": "stream",
     "text": [
      "[12, 10, 38, 2, 36, 21, 24, 28, 5, 22, 13, 17, 40, 29, 22, 44, 5, 12, 8, 28]\n",
      "['Lyginis', 'Lyginis', 'Lyginis', 'Lyginis', 'Lyginis', 9261, 'Lyginis', 'Lyginis', 125, 'Lyginis', 2197, 4913, 'Lyginis', 24389, 'Lyginis', 'Lyginis', 125, 'Lyginis', 'Lyginis', 'Lyginis']\n"
     ]
    }
   ],
   "source": [
    "import random\n",
    "r = [random.randint(1,47) for i in range(20)]\n",
    "print(r)\n",
    "\n",
    "# Sugeneruoti sąrašą, kur vieto lyginių skaičių būtų žodis 'Lyginis',\n",
    "# o vietoj nelyginių - tas pats nelyginis, pakeltas kubiu.\n",
    "\n",
    "ats = list(map(lambda x : 'Lyginis' if x % 2 ==0 else x**3, r))\n",
    "print(ats)"
   ]
  },
  {
   "cell_type": "code",
   "execution_count": 55,
   "metadata": {},
   "outputs": [
    {
     "name": "stdout",
     "output_type": "stream",
     "text": [
      "['Fizz', 'Buzz', 38, 2, 'Fizz', 'Fizz', 'Fizz', 28, 'Buzz', 22, 13, 17, 'Buzz', 29, 22, 44, 'Buzz', 'Fizz', 8, 28]\n"
     ]
    }
   ],
   "source": [
    "# tas pats skaičių sąrašas r. Sugeneruokite naują sąrašą,\n",
    "# kuriame būtų vietoj skaičių žodžiai Fizz, Buzz, FizzBuzz arba pats skaičius,\n",
    "# pagal FizzBuzz užduoties sąlygas (dalus iš 3jų, 5kių, iš 3jų ir iš 5kių, nedalus)\n",
    "\n",
    "ats2 =list(map(lambda x: 'FizzBuzz' if x%3==0 and x%5==0\n",
    "               else 'Fizz' if x%3==0 \n",
    "               else 'Buzz' if x%5==0 \n",
    "               else x, r))\n",
    "\n",
    "print(ats2)"
   ]
  },
  {
   "cell_type": "code",
   "execution_count": 56,
   "metadata": {},
   "outputs": [
    {
     "name": "stdout",
     "output_type": "stream",
     "text": [
      "[0.25, 0.5, 0.75, 1.0, 1.25, 1.5, 1.75, 2.0, 2.25, 2.5]\n",
      "[4, 8, 12, 16, 20, 24, 28, 32, 36, 40]\n",
      "[0.175, 0.425, 0.675, 0.925, 1.175, 1.425, 1.675, 1.925, 2.175, 2.425]\n"
     ]
    }
   ],
   "source": [
    "l = [*range(1,11)]\n",
    "# Paklauskite vartotojo skaičiaus, ir sugenerukite tris sąrašus:\n",
    "#     l padalintas iš skaičiuaus, \n",
    "#     padaugintas iš skaičiaus, \n",
    "#     ir (l-0.3)/skaičius\n",
    "\n",
    "try:\n",
    "    sk = int(input('skaicius?'))\n",
    "except ValueError as ex:\n",
    "    print(ex)\n",
    "    \n",
    "ats1 = list(map(lambda x : x/sk, l))\n",
    "ats2 = list(map(lambda x : x*sk, l))\n",
    "ats3 = list(map(lambda x : (x-0.3)/sk, l))\n",
    "    \n",
    "print(ats1)\n",
    "print(ats2)\n",
    "print(ats3)"
   ]
  }
 ],
 "metadata": {
  "kernelspec": {
   "display_name": "Python 3",
   "language": "python",
   "name": "python3"
  },
  "language_info": {
   "codemirror_mode": {
    "name": "ipython",
    "version": 3
   },
   "file_extension": ".py",
   "mimetype": "text/x-python",
   "name": "python",
   "nbconvert_exporter": "python",
   "pygments_lexer": "ipython3",
   "version": "3.9.5"
  }
 },
 "nbformat": 4,
 "nbformat_minor": 2
}
