{
 "cells": [
  {
   "cell_type": "code",
   "execution_count": 1,
   "metadata": {},
   "outputs": [],
   "source": [
    "import numpy as np\n",
    "import pandas as pd\n",
    "import matplotlib.pyplot as plt\n",
    "import warnings\n",
    "warnings.filterwarnings('ignore')\n",
    "import seaborn as sns\n",
    "import sqlite3\n",
    "import mysql.connector as cnt\n",
    "import plotly.express as px"
   ]
  },
  {
   "cell_type": "code",
   "execution_count": 2,
   "metadata": {},
   "outputs": [],
   "source": [
    "import requests"
   ]
  },
  {
   "cell_type": "code",
   "execution_count": 6,
   "metadata": {},
   "outputs": [
    {
     "name": "stdout",
     "output_type": "stream",
     "text": [
      "200\n"
     ]
    }
   ],
   "source": [
    "url = 'https://api.meteo.lt/v1/stations'\n",
    "\n",
    "page = requests.get(url)\n",
    "status = page.status_code\n",
    "print(status)"
   ]
  },
  {
   "cell_type": "code",
   "execution_count": 8,
   "metadata": {},
   "outputs": [
    {
     "name": "stdout",
     "output_type": "stream",
     "text": [
      "[{'code': 'akmenes-ams', 'name': 'Akmenės AMS', 'coordinates': {'latitude': 56.24992, 'longitude': 22.73081}}, {'code': 'alytaus-ams', 'name': 'Alytaus AMS', 'coordinates': {'latitude': 54.412435, 'longitude': 24.063274}}, {'code': 'anyksciu-ams', 'name': 'Anykščių AMS', 'coordinates': {'latitude': 55.51735, 'longitude': 25.1178}}, {'code': 'birstono-ams', 'name': 'Birštono AMS', 'coordinates': {'latitude': 54.603217, 'longitude': 24.035802}}, {'code': 'birzu-ams', 'name': 'Biržų AMS', 'coordinates': {'latitude': 56.193191, 'longitude': 24.774184}}, {'code': 'dotnuvos-ams', 'name': 'Dotnuvos AMS', 'coordinates': {'latitude': 55.395993, 'longitude': 23.866224}}, {'code': 'druskininku-ams', 'name': 'Druskininkų AMS', 'coordinates': {'latitude': 54.018202, 'longitude': 23.980791}}, {'code': 'duksto-ams', 'name': 'Dūkšto AMS', 'coordinates': {'latitude': 55.517856, 'longitude': 26.31614}}, {'code': 'elektrenu-ams', 'name': 'Elektrėnų AMS', 'coordinates': {'latitude': 54.786161, 'longitude': 24.689854}}, {'code': 'jonavos-ams', 'name': 'Jonavos AMS', 'coordinates': {'latitude': 55.06913, 'longitude': 24.277147}}, {'code': 'joniskio-ams', 'name': 'Joniškio AMS', 'coordinates': {'latitude': 56.246354, 'longitude': 23.630755}}, {'code': 'jurbarko-ams', 'name': 'Jurbarko AMS', 'coordinates': {'latitude': 55.094064, 'longitude': 22.773518}}, {'code': 'kaisiadoriu-ams', 'name': 'Kaišiadorių AMS', 'coordinates': {'latitude': 54.856942, 'longitude': 24.437842}}, {'code': 'kalvarijos-ams', 'name': 'Kalvarijos AMS', 'coordinates': {'latitude': 54.421564, 'longitude': 23.216806}}, {'code': 'kauno-ams', 'name': 'Kauno AMS', 'coordinates': {'latitude': 54.88396, 'longitude': 23.83588}}, {'code': 'kazlu-rudos-ams', 'name': 'Kazlų Rūdos AMS', 'coordinates': {'latitude': 54.699852, 'longitude': 23.514815}}, {'code': 'kelmes-ams', 'name': 'Kelmės AMS', 'coordinates': {'latitude': 55.629044, 'longitude': 22.934568}}, {'code': 'klaipedos-ams', 'name': 'Klaipėdos AMS', 'coordinates': {'latitude': 55.73135, 'longitude': 21.09157}}, {'code': 'kretingos-ams', 'name': 'Kretingos AMS', 'coordinates': {'latitude': 55.894089, 'longitude': 21.27306}}, {'code': 'kupiskio-ams', 'name': 'Kupiškio AMS', 'coordinates': {'latitude': 55.851591, 'longitude': 24.909266}}, {'code': 'kybartu-ams', 'name': 'Kybartų AMS', 'coordinates': {'latitude': 54.633167, 'longitude': 22.783011}}, {'code': 'laukuvos-ams', 'name': 'Laukuvos AMS', 'coordinates': {'latitude': 55.60886, 'longitude': 22.239463}}, {'code': 'lazdiju-ams', 'name': 'Lazdijų AMS', 'coordinates': {'latitude': 54.23221, 'longitude': 23.51068}}, {'code': 'marijampoles-ams', 'name': 'Marijampolės AMS', 'coordinates': {'latitude': 54.528855, 'longitude': 23.35181}}, {'code': 'mazeikiu-ams', 'name': 'Mažeikių AMS', 'coordinates': {'latitude': 56.353885, 'longitude': 22.317683}}, {'code': 'moletu-ams', 'name': 'Molėtų AMS', 'coordinates': {'latitude': 55.235244, 'longitude': 25.416378}}, {'code': 'nidos-ams', 'name': 'Nidos AMS', 'coordinates': {'latitude': 55.30221, 'longitude': 21.00736}}, {'code': 'pagegiu-ams', 'name': 'Pagėgių AMS', 'coordinates': {'latitude': 55.140898, 'longitude': 21.950386}}, {'code': 'pakruojo-ams', 'name': 'Pakruojo AMS', 'coordinates': {'latitude': 56.083488, 'longitude': 23.902854}}, {'code': 'panevezio-ams', 'name': 'Panevėžio AMS', 'coordinates': {'latitude': 55.735154, 'longitude': 24.417184}}, {'code': 'plunges-ams', 'name': 'Plungės AMS', 'coordinates': {'latitude': 55.907014, 'longitude': 21.866687}}, {'code': 'prienu-ams', 'name': 'Prienų AMS', 'coordinates': {'latitude': 54.7291, 'longitude': 24.0525}}, {'code': 'raseiniu-ams', 'name': 'Raseinių AMS', 'coordinates': {'latitude': 55.394569, 'longitude': 23.133073}}, {'code': 'rietavo-ams', 'name': 'Rietavo AMS', 'coordinates': {'latitude': 55.718091, 'longitude': 21.958142}}, {'code': 'rokiskio-ams', 'name': 'Rokiškio AMS', 'coordinates': {'latitude': 55.95498, 'longitude': 25.59149}}, {'code': 'sakiu-ams', 'name': 'Šakių AMS', 'coordinates': {'latitude': 54.94907, 'longitude': 23.036425}}, {'code': 'salcininku-ams', 'name': 'Šalčininkų AMS', 'coordinates': {'latitude': 54.31038, 'longitude': 25.374422}}, {'code': 'seduvos-ams', 'name': 'Šeduvos AMS', 'coordinates': {'latitude': 55.75466, 'longitude': 23.74245}}, {'code': 'siauliu-ams', 'name': 'Šiaulių AMS', 'coordinates': {'latitude': 55.942222, 'longitude': 23.331111}}, {'code': 'silutes-ams', 'name': 'Šilutės AMS', 'coordinates': {'latitude': 55.352222, 'longitude': 21.446944}}, {'code': 'skuodo-ams', 'name': 'Skuodo AMS', 'coordinates': {'latitude': 56.277213, 'longitude': 21.513962}}, {'code': 'svencioniu-ams', 'name': 'Švenčionių AMS', 'coordinates': {'latitude': 55.132777, 'longitude': 26.172895}}, {'code': 'taurages-ams', 'name': 'Tauragės AMS', 'coordinates': {'latitude': 55.256786, 'longitude': 22.27802}}, {'code': 'telsiu-ams', 'name': 'Telšių AMS', 'coordinates': {'latitude': 55.991245, 'longitude': 22.256657}}, {'code': 'traku-ams', 'name': 'Trakų AMS', 'coordinates': {'latitude': 54.615924, 'longitude': 24.785292}}, {'code': 'ukmerges-ams', 'name': 'Ukmergės AMS', 'coordinates': {'latitude': 55.264145, 'longitude': 24.760335}}, {'code': 'utenos-ams', 'name': 'Utenos AMS', 'coordinates': {'latitude': 55.515321, 'longitude': 25.589692}}, {'code': 'varenos-ams', 'name': 'Varėnos AMS', 'coordinates': {'latitude': 54.248271, 'longitude': 24.55176}}, {'code': 'ventes-ams', 'name': 'Ventės AMS', 'coordinates': {'latitude': 55.340853, 'longitude': 21.189682}}, {'code': 'vezaiciu-ams', 'name': 'Vėžaičių AMS', 'coordinates': {'latitude': 55.7205, 'longitude': 21.4743}}, {'code': 'vilniaus-ams', 'name': 'Vilniaus AMS', 'coordinates': {'latitude': 54.625992, 'longitude': 25.107064}}, {'code': 'zarasu-ams', 'name': 'Zarasų AMS', 'coordinates': {'latitude': 55.742673, 'longitude': 26.250977}}]\n",
      "<class 'list'>\n"
     ]
    }
   ],
   "source": [
    "r = page.json()\n",
    "print(r)\n",
    "print(type(r))"
   ]
  },
  {
   "cell_type": "code",
   "execution_count": 10,
   "metadata": {},
   "outputs": [
    {
     "data": {
      "text/html": [
       "<div>\n",
       "<style scoped>\n",
       "    .dataframe tbody tr th:only-of-type {\n",
       "        vertical-align: middle;\n",
       "    }\n",
       "\n",
       "    .dataframe tbody tr th {\n",
       "        vertical-align: top;\n",
       "    }\n",
       "\n",
       "    .dataframe thead th {\n",
       "        text-align: right;\n",
       "    }\n",
       "</style>\n",
       "<table border=\"1\" class=\"dataframe\">\n",
       "  <thead>\n",
       "    <tr style=\"text-align: right;\">\n",
       "      <th></th>\n",
       "      <th>code</th>\n",
       "      <th>name</th>\n",
       "      <th>coordinates</th>\n",
       "    </tr>\n",
       "  </thead>\n",
       "  <tbody>\n",
       "    <tr>\n",
       "      <th>42</th>\n",
       "      <td>taurages-ams</td>\n",
       "      <td>Tauragės AMS</td>\n",
       "      <td>{'latitude': 55.256786, 'longitude': 22.27802}</td>\n",
       "    </tr>\n",
       "    <tr>\n",
       "      <th>43</th>\n",
       "      <td>telsiu-ams</td>\n",
       "      <td>Telšių AMS</td>\n",
       "      <td>{'latitude': 55.991245, 'longitude': 22.256657}</td>\n",
       "    </tr>\n",
       "    <tr>\n",
       "      <th>44</th>\n",
       "      <td>traku-ams</td>\n",
       "      <td>Trakų AMS</td>\n",
       "      <td>{'latitude': 54.615924, 'longitude': 24.785292}</td>\n",
       "    </tr>\n",
       "    <tr>\n",
       "      <th>45</th>\n",
       "      <td>ukmerges-ams</td>\n",
       "      <td>Ukmergės AMS</td>\n",
       "      <td>{'latitude': 55.264145, 'longitude': 24.760335}</td>\n",
       "    </tr>\n",
       "    <tr>\n",
       "      <th>46</th>\n",
       "      <td>utenos-ams</td>\n",
       "      <td>Utenos AMS</td>\n",
       "      <td>{'latitude': 55.515321, 'longitude': 25.589692}</td>\n",
       "    </tr>\n",
       "    <tr>\n",
       "      <th>47</th>\n",
       "      <td>varenos-ams</td>\n",
       "      <td>Varėnos AMS</td>\n",
       "      <td>{'latitude': 54.248271, 'longitude': 24.55176}</td>\n",
       "    </tr>\n",
       "    <tr>\n",
       "      <th>48</th>\n",
       "      <td>ventes-ams</td>\n",
       "      <td>Ventės AMS</td>\n",
       "      <td>{'latitude': 55.340853, 'longitude': 21.189682}</td>\n",
       "    </tr>\n",
       "    <tr>\n",
       "      <th>49</th>\n",
       "      <td>vezaiciu-ams</td>\n",
       "      <td>Vėžaičių AMS</td>\n",
       "      <td>{'latitude': 55.7205, 'longitude': 21.4743}</td>\n",
       "    </tr>\n",
       "    <tr>\n",
       "      <th>50</th>\n",
       "      <td>vilniaus-ams</td>\n",
       "      <td>Vilniaus AMS</td>\n",
       "      <td>{'latitude': 54.625992, 'longitude': 25.107064}</td>\n",
       "    </tr>\n",
       "    <tr>\n",
       "      <th>51</th>\n",
       "      <td>zarasu-ams</td>\n",
       "      <td>Zarasų AMS</td>\n",
       "      <td>{'latitude': 55.742673, 'longitude': 26.250977}</td>\n",
       "    </tr>\n",
       "  </tbody>\n",
       "</table>\n",
       "</div>"
      ],
      "text/plain": [
       "            code          name  \\\n",
       "42  taurages-ams  Tauragės AMS   \n",
       "43    telsiu-ams    Telšių AMS   \n",
       "44     traku-ams     Trakų AMS   \n",
       "45  ukmerges-ams  Ukmergės AMS   \n",
       "46    utenos-ams    Utenos AMS   \n",
       "47   varenos-ams   Varėnos AMS   \n",
       "48    ventes-ams    Ventės AMS   \n",
       "49  vezaiciu-ams  Vėžaičių AMS   \n",
       "50  vilniaus-ams  Vilniaus AMS   \n",
       "51    zarasu-ams    Zarasų AMS   \n",
       "\n",
       "                                        coordinates  \n",
       "42   {'latitude': 55.256786, 'longitude': 22.27802}  \n",
       "43  {'latitude': 55.991245, 'longitude': 22.256657}  \n",
       "44  {'latitude': 54.615924, 'longitude': 24.785292}  \n",
       "45  {'latitude': 55.264145, 'longitude': 24.760335}  \n",
       "46  {'latitude': 55.515321, 'longitude': 25.589692}  \n",
       "47   {'latitude': 54.248271, 'longitude': 24.55176}  \n",
       "48  {'latitude': 55.340853, 'longitude': 21.189682}  \n",
       "49      {'latitude': 55.7205, 'longitude': 21.4743}  \n",
       "50  {'latitude': 54.625992, 'longitude': 25.107064}  \n",
       "51  {'latitude': 55.742673, 'longitude': 26.250977}  "
      ]
     },
     "execution_count": 10,
     "metadata": {},
     "output_type": "execute_result"
    }
   ],
   "source": [
    "df = pd.DataFrame(data=r)\n",
    "df.tail(10)"
   ]
  },
  {
   "cell_type": "code",
   "execution_count": 11,
   "metadata": {},
   "outputs": [
    {
     "name": "stdout",
     "output_type": "stream",
     "text": [
      "['akmenes-ams' 'alytaus-ams' 'anyksciu-ams' 'birstono-ams' 'birzu-ams'\n",
      " 'dotnuvos-ams' 'druskininku-ams' 'duksto-ams' 'elektrenu-ams'\n",
      " 'jonavos-ams' 'joniskio-ams' 'jurbarko-ams' 'kaisiadoriu-ams'\n",
      " 'kalvarijos-ams' 'kauno-ams' 'kazlu-rudos-ams' 'kelmes-ams'\n",
      " 'klaipedos-ams' 'kretingos-ams' 'kupiskio-ams' 'kybartu-ams'\n",
      " 'laukuvos-ams' 'lazdiju-ams' 'marijampoles-ams' 'mazeikiu-ams'\n",
      " 'moletu-ams' 'nidos-ams' 'pagegiu-ams' 'pakruojo-ams' 'panevezio-ams'\n",
      " 'plunges-ams' 'prienu-ams' 'raseiniu-ams' 'rietavo-ams' 'rokiskio-ams'\n",
      " 'sakiu-ams' 'salcininku-ams' 'seduvos-ams' 'siauliu-ams' 'silutes-ams'\n",
      " 'skuodo-ams' 'svencioniu-ams' 'taurages-ams' 'telsiu-ams' 'traku-ams'\n",
      " 'ukmerges-ams' 'utenos-ams' 'varenos-ams' 'ventes-ams' 'vezaiciu-ams'\n",
      " 'vilniaus-ams' 'zarasu-ams']\n"
     ]
    }
   ],
   "source": [
    "# raskite meteo stotelę, kuri užfiksavo didžiausią oro temperatūrą esamuoju metu.\n",
    "\n",
    "# antra užduotis : Suraskite tris aukščiausią temperatūrą užfiksavusias stoteles,\n",
    "# ir atvaizduokite grafiškai jų fiksuotą oro temperatūrą per paskutines tris dienas.\n",
    "\n",
    "# https://api.meteo.lt/v1/stations/vilniaus-ams/observations/latest\n",
    "\n",
    "codes = df.loc[:,'code'].values\n",
    "print(codes)\n"
   ]
  },
  {
   "cell_type": "code",
   "execution_count": 23,
   "metadata": {},
   "outputs": [
    {
     "name": "stdout",
     "output_type": "stream",
     "text": [
      "200\n"
     ]
    },
    {
     "data": {
      "text/html": [
       "<div>\n",
       "<style scoped>\n",
       "    .dataframe tbody tr th:only-of-type {\n",
       "        vertical-align: middle;\n",
       "    }\n",
       "\n",
       "    .dataframe tbody tr th {\n",
       "        vertical-align: top;\n",
       "    }\n",
       "\n",
       "    .dataframe thead th {\n",
       "        text-align: right;\n",
       "    }\n",
       "</style>\n",
       "<table border=\"1\" class=\"dataframe\">\n",
       "  <thead>\n",
       "    <tr style=\"text-align: right;\">\n",
       "      <th></th>\n",
       "      <th>observationTimeUtc</th>\n",
       "      <th>airTemperature</th>\n",
       "      <th>feelsLikeTemperature</th>\n",
       "      <th>windSpeed</th>\n",
       "      <th>windGust</th>\n",
       "      <th>windDirection</th>\n",
       "      <th>cloudCover</th>\n",
       "      <th>seaLevelPressure</th>\n",
       "      <th>relativeHumidity</th>\n",
       "      <th>precipitation</th>\n",
       "      <th>conditionCode</th>\n",
       "    </tr>\n",
       "  </thead>\n",
       "  <tbody>\n",
       "    <tr>\n",
       "      <th>19</th>\n",
       "      <td>2024-10-07 14:00:00</td>\n",
       "      <td>11.0</td>\n",
       "      <td>11.0</td>\n",
       "      <td>2.0</td>\n",
       "      <td>4.7</td>\n",
       "      <td>321</td>\n",
       "      <td>100</td>\n",
       "      <td>1010.5</td>\n",
       "      <td>75</td>\n",
       "      <td>0.0</td>\n",
       "      <td>cloudy</td>\n",
       "    </tr>\n",
       "    <tr>\n",
       "      <th>20</th>\n",
       "      <td>2024-10-07 15:00:00</td>\n",
       "      <td>10.4</td>\n",
       "      <td>10.4</td>\n",
       "      <td>2.1</td>\n",
       "      <td>4.4</td>\n",
       "      <td>318</td>\n",
       "      <td>100</td>\n",
       "      <td>1011.0</td>\n",
       "      <td>78</td>\n",
       "      <td>0.0</td>\n",
       "      <td>cloudy</td>\n",
       "    </tr>\n",
       "    <tr>\n",
       "      <th>21</th>\n",
       "      <td>2024-10-07 16:00:00</td>\n",
       "      <td>9.7</td>\n",
       "      <td>9.7</td>\n",
       "      <td>1.4</td>\n",
       "      <td>4.3</td>\n",
       "      <td>319</td>\n",
       "      <td>100</td>\n",
       "      <td>1011.3</td>\n",
       "      <td>84</td>\n",
       "      <td>0.0</td>\n",
       "      <td>rain</td>\n",
       "    </tr>\n",
       "    <tr>\n",
       "      <th>22</th>\n",
       "      <td>2024-10-07 17:00:00</td>\n",
       "      <td>9.3</td>\n",
       "      <td>9.3</td>\n",
       "      <td>1.0</td>\n",
       "      <td>1.9</td>\n",
       "      <td>329</td>\n",
       "      <td>100</td>\n",
       "      <td>1011.5</td>\n",
       "      <td>87</td>\n",
       "      <td>0.0</td>\n",
       "      <td>cloudy</td>\n",
       "    </tr>\n",
       "    <tr>\n",
       "      <th>23</th>\n",
       "      <td>2024-10-07 18:00:00</td>\n",
       "      <td>9.1</td>\n",
       "      <td>9.1</td>\n",
       "      <td>1.8</td>\n",
       "      <td>3.3</td>\n",
       "      <td>291</td>\n",
       "      <td>100</td>\n",
       "      <td>1011.9</td>\n",
       "      <td>90</td>\n",
       "      <td>0.0</td>\n",
       "      <td>cloudy</td>\n",
       "    </tr>\n",
       "  </tbody>\n",
       "</table>\n",
       "</div>"
      ],
      "text/plain": [
       "     observationTimeUtc  airTemperature  feelsLikeTemperature  windSpeed  \\\n",
       "19  2024-10-07 14:00:00            11.0                  11.0        2.0   \n",
       "20  2024-10-07 15:00:00            10.4                  10.4        2.1   \n",
       "21  2024-10-07 16:00:00             9.7                   9.7        1.4   \n",
       "22  2024-10-07 17:00:00             9.3                   9.3        1.0   \n",
       "23  2024-10-07 18:00:00             9.1                   9.1        1.8   \n",
       "\n",
       "    windGust  windDirection  cloudCover  seaLevelPressure  relativeHumidity  \\\n",
       "19       4.7            321         100            1010.5                75   \n",
       "20       4.4            318         100            1011.0                78   \n",
       "21       4.3            319         100            1011.3                84   \n",
       "22       1.9            329         100            1011.5                87   \n",
       "23       3.3            291         100            1011.9                90   \n",
       "\n",
       "    precipitation conditionCode  \n",
       "19            0.0        cloudy  \n",
       "20            0.0        cloudy  \n",
       "21            0.0          rain  \n",
       "22            0.0        cloudy  \n",
       "23            0.0        cloudy  "
      ]
     },
     "execution_count": 23,
     "metadata": {},
     "output_type": "execute_result"
    }
   ],
   "source": [
    "url = 'https://api.meteo.lt/v1/stations/vilniaus-ams/observations/latest'\n",
    "\n",
    "page = requests.get(url)\n",
    "status = page.status_code\n",
    "print(status)\n",
    "r = page.json()\n",
    "\n",
    "# print(pd.DataFrame.from_dict(data))\n",
    "\n",
    "df_pvz = pd.DataFrame.from_dict(r['observations'])\n",
    "df_pvz.tail()"
   ]
  },
  {
   "cell_type": "code",
   "execution_count": 15,
   "metadata": {},
   "outputs": [
    {
     "data": {
      "text/plain": [
       "np.float64(11.0)"
      ]
     },
     "execution_count": 15,
     "metadata": {},
     "output_type": "execute_result"
    }
   ],
   "source": [
    "df_pvz['airTemperature'].max()"
   ]
  },
  {
   "cell_type": "code",
   "execution_count": 30,
   "metadata": {},
   "outputs": [
    {
     "name": "stdout",
     "output_type": "stream",
     "text": [
      "nidos-ams [11.9]\n"
     ]
    }
   ],
   "source": [
    "max_station = None\n",
    "max_temp = -100\n",
    "\n",
    "for station in codes:\n",
    "    \n",
    "    url = f'https://api.meteo.lt/v1/stations/{station}/observations/latest'\n",
    "    page = requests.get(url)\n",
    "    status = page.status_code\n",
    "    # print(status)\n",
    "    r = page.json()\n",
    "    df = pd.DataFrame.from_dict(r['observations'])\n",
    "    # temp = df[df['observationTimeUtc'] == df.loc[23, 'observationTimeUtc']]['airTemperature'].max()\n",
    "    temp = df[df['observationTimeUtc'] == df.iloc[-1, 0]]['airTemperature'].values\n",
    "    \n",
    "    \n",
    "    if temp > max_temp:\n",
    "        max_temp = temp\n",
    "        max_station = station\n",
    "print(max_station, max_temp)    \n",
    "    "
   ]
  },
  {
   "cell_type": "code",
   "execution_count": null,
   "metadata": {},
   "outputs": [],
   "source": [
    "# antra užduotis : Suraskite tris aukščiausią temperatūrą užfiksavusias stoteles,\n",
    "# ir atvaizduokite grafiškai jų fiksuotą oro temperatūrą per paskutines tris dienas.\n",
    "\n",
    "max_station = None\n",
    "max_temp = -100\n",
    "top3_temp = []\n",
    "top3_station = []\n",
    "for station in codes:\n",
    "    \n",
    "    url = f'https://api.meteo.lt/v1/stations/{station}/observations/latest'\n",
    "    page = requests.get(url)\n",
    "    status = page.status_code\n",
    "    # print(status)\n",
    "    r = page.json()\n",
    "    df = pd.DataFrame.from_dict(r['observations'])\n",
    "    # temp = df[df['observationTimeUtc'] == df.loc[23, 'observationTimeUtc']]['airTemperature'].max()\n",
    "    temp = df[df['observationTimeUtc'] == df.iloc[-1, 0]]['airTemperature'].max()\n",
    "    \n",
    "    \n",
    "    if temp > max_temp:\n",
    "        max_temp = temp\n",
    "        max_station = station\n",
    "print(max_station, max_temp)    \n",
    "    "
   ]
  }
 ],
 "metadata": {
  "kernelspec": {
   "display_name": "Python 3",
   "language": "python",
   "name": "python3"
  },
  "language_info": {
   "codemirror_mode": {
    "name": "ipython",
    "version": 3
   },
   "file_extension": ".py",
   "mimetype": "text/x-python",
   "name": "python",
   "nbconvert_exporter": "python",
   "pygments_lexer": "ipython3",
   "version": "3.12.4"
  }
 },
 "nbformat": 4,
 "nbformat_minor": 2
}
