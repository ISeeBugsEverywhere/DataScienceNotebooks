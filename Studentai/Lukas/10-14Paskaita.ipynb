{
 "cells": [
  {
   "cell_type": "code",
   "execution_count": 1,
   "metadata": {},
   "outputs": [],
   "source": [
    "import numpy as np\n",
    "import pandas as pd\n",
    "import matplotlib.pyplot as plt\n",
    "import warnings\n",
    "warnings.filterwarnings('ignore')\n",
    "import seaborn as sns\n",
    "import sqlite3\n",
    "import mysql.connector as cnt\n",
    "import plotly.express as px \n",
    "import requests\n",
    "# import selenium\n",
    "import os\n",
    "\n",
    "# from bs4 import BeautifulSoup"
   ]
  },
  {
   "cell_type": "code",
   "execution_count": 2,
   "metadata": {},
   "outputs": [],
   "source": [
    "import selenium\n",
    "from selenium.webdriver.chrome.options import Options\n",
    "# from selenium.webdriver.firefox.options import Options as FirefoxOptions\n",
    "from selenium import webdriver\n",
    "from bs4 import BeautifulSoup\n",
    "import time"
   ]
  },
  {
   "cell_type": "code",
   "execution_count": 4,
   "metadata": {},
   "outputs": [],
   "source": [
    "opcijos = Options()\n",
    "opcijos.add_argument('--incognito')\n",
    "driver = webdriver.Chrome(options=opcijos)\n",
    "url = 'https://www.varle.lt/dronai/'\n",
    "driver.get(url)\n",
    "time.sleep(5)\n",
    "source = driver.page_source\n",
    "driver.close()"
   ]
  },
  {
   "cell_type": "code",
   "execution_count": 5,
   "metadata": {},
   "outputs": [],
   "source": [
    "bs = BeautifulSoup(source, 'html.parser')"
   ]
  },
  {
   "cell_type": "code",
   "execution_count": 6,
   "metadata": {},
   "outputs": [
    {
     "name": "stdout",
     "output_type": "stream",
     "text": [
      "<a href=\"/dronai/dronas-dji-mini-2-se-fly-more-combo--23881156.html\">\n",
      "<img alt=\"Nuotrauka Nr.1\" class=\"product-img primary-img\" height=\"195\" loading=\"lazy\" src=\"https://www.varle.lt/static/uploads/products/235x195/404/bun/bundle-fly-more-dji-mini-2-se-mini-drone.jpg\" title=\"Dronas DJI Mini 2 SE Fly More Combo\" width=\"235\"/>\n",
      "<img alt=\"Nuotrauka Nr.2\" class=\"product-img secondary-img\" height=\"195\" loading=\"lazy\" src=\"https://www.varle.lt/static/uploads/products/235x195/404/bun/bundle-fly-more-dji-mini-2-se-mini-drone_Wo609zb.jpg\" title=\"Dronas DJI Mini 2 SE Fly More Combo\" width=\"235\"/>\n",
      "</a>\n",
      ":::NEXT:::\n",
      "/dronai/dronas-dji-mini-2-se-fly-more-combo--23881156.html\n",
      "195\n"
     ]
    }
   ],
   "source": [
    "sk = bs.find('div', {'class':'GRID_ITEM'}).find('a')\n",
    "print(sk)\n",
    "print(':::NEXT:::')\n",
    "print(sk['href'])\n",
    "img = sk.find('img')\n",
    "print(img['height'])"
   ]
  },
  {
   "cell_type": "code",
   "execution_count": 3,
   "metadata": {},
   "outputs": [],
   "source": [
    "# Surinkti iš kauno.diena.lt puslapio straipsnių pavadiniumų ilgius,\n",
    "# tam panaudoti selenium biblioteką. Surinktus duomenis surašyti į SQLite duomenų bazę.\n",
    "# Surašoma infromacija - pavadinimas, nuoroda į straipsnį, žodžių kiekis pavadinime. \n",
    "# SQLite lentelėje trys stulpeliai.\n",
    "\n",
    "opcijos = Options()\n",
    "opcijos.add_argument('--incognito')\n",
    "driver = webdriver.Chrome(options=opcijos)\n",
    "url = 'https://kauno.diena.lt/'\n",
    "driver.get(url)\n",
    "time.sleep(5)\n",
    "source = driver.page_source\n",
    "driver.close()"
   ]
  },
  {
   "cell_type": "code",
   "execution_count": 4,
   "metadata": {},
   "outputs": [
    {
     "name": "stdout",
     "output_type": "stream",
     "text": [
      "29\n",
      "['2024-ųjų Seimo rinkimai: laimėjo socdemai, antri – TS-LKD, treti – „Nemuno Aušra“ ', 'Į antrąjį Seimo rinkimų turą patekę kandidatai (apžvalga)', 'Kauno rajonas patrauklus ne tik turistams, bet ir turizmo, laisvalaikio pramogų kūrėjams', 'Judrioje Aleksoto gatvėje – laikini eismo ribojimai', 'Trijulę įklampino machinacijos: pelnėsi iš dyzelino kuro', 'Vytėnų gyventojas: šviesoforas neveikia, neįmanoma išvažiuoti', '„Lidl Lietuva“: ir toliau didinsime parduotuvių bei logistikos centro darbuotojų atlyginimus', 'Akibrokštas privačiai greitajai pagalbai: 50 įdarbintų žmonių valstybei neįdomu?', 'Vaisto registraciją painioja su vaisto kompensacija', 'Bent trumpam pabūti gyvūnu – nauja tendencija tarp paauglių', 'VTEK vadovas Seimo opozicijai aiškinsis, kodėl nepradėjo tyrimo dėl M. Navickienės kelionės į Dubajų', 'G. Landsbergis su kolegomis Moldovoje aptars šios šalies stojimo į ES procesą', 'Iš išaugtų vaikiškų drabužių – prisiminimų šiltukai', 'Mainų platformos įkūrėja: gyventi tvariau – naudinga ir finansiškai', 'Vilniaus rajone per avariją žuvo vyras', '„Kauno dienos“ studijoje – istorikas R. Kamuntavičius: ar reikia bijoti gudiško litvinizmo?', 'M. Balčiūnas: jei aš iš savo įmonių parėmiau LKF, kuo tai blogai finansiškai?', '„Maxima grupės“ stebėtojai atšaukiami, valdybą rinks N. Numos valdoma „Vilniaus prekyba“ ', '„Litgrid“: vėjo jėgainių gamyba pastarąją savaitę augo daugiau nei 2 kartus', 'Rusų sviedinys pataikė į gyvenamąjį namą Chersone, žuvo dvi moterys', 'Prancūzijos kraštutinių dešiniųjų lyderė M. Le Pen dėl netikrų darbo vietų pareiškė esanti nekalta', 'Prieš startą pasaulio čempionate - MMA kovotojų repeticijos', 'M. Lukauskis ir krepšinis: skyrybos vėl atidėtos', 'Šiauliuose pavogtą „Audi“ tyrėjai surado Radviliškio rajone', 'Neramumai Vilniaus rajone: iš namo kiemo pavogtas automobilis', 'J. Statkevičius atvirai: kodėl nesiruošia į pensiją ir kiek po Paryžiaus kainuos jo drabužiai', '„370“ rekomenduojamos knygos', '„188 metų“ vyras buvo išgelbėtas iš urvo?', 'Susipažinkite: nauja Vyriausybės darbuotoja – Tiramisu']\n",
      "29\n",
      "['naujienos/lietuva/politika/lietuva-renka-nauja-valdzia-apylinkes-uzsidare-skaiciuojami-balsai-1195621', 'naujienos/lietuva/politika/laukia-kova-vienmandatese-aiskeja-i-antraji-tura-pateke-kandidatai-1195683', 'naujienos/kaunas/miesto-pulsas/kauno-rajonas-patrauklus-ne-tik-turistams-bet-ir-turizmo-laisvalaikio-pramogu-kurejams-1195722', 'naujienos/kaunas/miesto-pulsas/judrioje-aleksoto-gatveje-laikini-eismo-ribojimai-1195787', 'naujienos/kaunas/nusikaltimai-ir-nelaimes/trijule-iklampino-machinacijos-pelnesi-dyzelino-kuro-1195765', 'naujienos/kaunas/miesto-pulsas/vytenu-gyventojas-sviesoforas-neveikia-neimanoma-isvaziuoti-1189731', 'naujienos/verslas/imoniu-pulsas/lidl-lietuva-ir-toliau-didinsime-parduotuviu-bei-logistikos-centro-darbuotoju-atlyginimus-1145677', 'naujienos/lietuva/salies-pulsas/akibrokstas-privaciai-greitajai-pagalbai-viskas-vyksta-pagal-sutarti-1194484', 'naujienos/sveikata/sveikata/vaisto-registracija-painioja-su-vaisto-kompensacija-1194863', 'naujienos/sveikata/psichologija/bent-trumpam-pabuti-gyvunu-nauja-tendencija-tarp-paaugliu-1195550', 'naujienos/lietuva/politika/vtek-vadovas-seimo-opozicijai-aiskinsis-kodel-nepradejo-tyrimo-del-m-navickienes-keliones-i-dubaju-1195865', 'naujienos/lietuva/politika/g-landsbergis-su-kolegomis-moldovoje-aptars-sios-salies-stojimo-i-es-procesa-1195863', 'naujienos/lietuva/salies-pulsas/isaugtu-vaikisku-drabuziu-prisiminimu-siltukai-1195036', 'naujienos/lietuva/salies-pulsas/mainu-platformos-ikureja-gyventi-tvariau-naudinga-ir-finansiskai-1194059', 'https://www.diena.lt/naujienos/vilnius/nusikaltimai-ir-nelaimes/vilniaus-rajone-avarija-zuvo-vyras-1195856', 'naujienos/kauno-dienos-studija/kauno-dienos-studijoje-istorikas-r-kamuntavicius-ar-reikia-bijoti-gudisko-litvinizmo-1195490', 'naujienos/sportas/krepsinis/m-balciunas-jei-savo-imoniu-paremiau-lkf-kuo-tai-blogai-finansiskai-1190480', 'naujienos/verslas/ekonomika/maxima-grupes-stebetojai-atsaukiami-valdyba-rinks-n-numa-1195832', 'naujienos/verslas/ekonomika/litgrid-vejo-jegainiu-gamyba-pastaraja-savaite-augo-daugiau-nei-2-kartus-1195825', 'naujienos/pasaulis/konfliktai-nelaimes/rusu-sviedinys-pataike-i-gyvenamaji-nama-chersone-zuvo-dvi-moterys-1195849', 'naujienos/pasaulis/ekonomika-ir-politika/prancuzijos-krastutiniu-desiniuju-lydere-m-le-pen-del-netikru-darbo-vietu-pareiske-esanti-nekalta-1195845', 'naujienos/sportas/kitos-sporto-sakos/pries-starta-pasaulio-cempionate-mma-kovotoju-repeticijos-1195829', 'naujienos/sportas/krepsinis/m-lukauskis-ir-krepsinis-skyrybos-vel-atidetos-1195428', 'naujienos/kriminalai/nusikaltimai/siauliuose-pavogta-audi-tyrejai-surado-radviliskio-rajone-1195783', 'naujienos/vilnius/nusikaltimai-ir-nelaimes/neramumai-vilniaus-rajone-namo-kiemo-pavogtas-automobilis-1195763', 'naujienos/laisvalaikis-ir-kultura/zvaigzdes-ir-pramogos/j-statkevicius-atvirai-kodel-nesiruosia-i-pensija-ir-kiek-po-paryziaus-kainuos-jo-drabuziai-1195814', 'naujienos/laisvalaikis-ir-kultura/kultura/370-rekomenduojamos-knygos-1195768', 'naujienos/ivairenybes/sunku-patiketi/188-metu-vyras-isgelbetas-urvo-1195777', 'naujienos/ivairenybes/gamta/susipazinkite-nauja-vyriausybes-darbuotoja-tiramisu-1195605']\n"
     ]
    }
   ],
   "source": [
    "\n",
    "\n",
    "\n",
    "bs_kauno = BeautifulSoup(source, 'html.parser')\n",
    "# print(bs)\n",
    "nuorodos_kauno = []\n",
    "pavadinimai_kauno = []\n",
    "straipsniai_kauno = bs_kauno.find_all('div', {'category-block-row grid-12 alpha omega unscore'})\n",
    "for s in straipsniai_kauno:\n",
    "    i = s.find('div', {'class':'articles-list-title-wrapper'})\n",
    "    if i is not None:\n",
    "        t = i.find('a', {'class':'articles-list-title'})\n",
    "        pavadinimai_kauno.append(t.text)\n",
    "        nuorodos_kauno.append(t['href'])\n",
    "        # print(':::REM:::')\n",
    "        # print(t)\n",
    "        # print('HREF?')\n",
    "        # print(t['href'])\n",
    "        # print(t.text)\n",
    "\n",
    "print(len(pavadinimai_kauno))\n",
    "print(pavadinimai_kauno)\n",
    "print(len(nuorodos_kauno))\n",
    "print(nuorodos_kauno)"
   ]
  },
  {
   "cell_type": "code",
   "execution_count": 5,
   "metadata": {},
   "outputs": [
    {
     "name": "stdout",
     "output_type": "stream",
     "text": [
      "vidutinis zodziu kiekis \"Kauno diena\" pavadinimuose: 9.172413793103448\n",
      "[12, 8, 12, 7, 7, 6, 11, 9, 6, 9, 14, 12, 7, 9, 6, 12, 13, 11, 11, 10, 14, 8, 7, 7, 8, 14, 3, 7, 6]\n"
     ]
    }
   ],
   "source": [
    "zodziu_kiekiai_kauno = []\n",
    "for pav in pavadinimai_kauno:\n",
    "    kiekis =len(pav.split())\n",
    "    zodziu_kiekiai_kauno.append(kiekis)\n",
    "    \n",
    "vidutinis_zodziu_kiekis_kauno = sum(zodziu_kiekiai_kauno) / len(zodziu_kiekiai_kauno)\n",
    "print(f'vidutinis zodziu kiekis \"Kauno diena\" pavadinimuose: {vidutinis_zodziu_kiekis_kauno}')\n",
    "print(zodziu_kiekiai_kauno)\n"
   ]
  },
  {
   "cell_type": "code",
   "execution_count": 12,
   "metadata": {},
   "outputs": [],
   "source": [
    "SDB = sqlite3.connect('Testas.db')  # jei neegzistuoja db , bus sukurta nauja db\n",
    "Cs = SDB.cursor()\n",
    "\n",
    "#  if not exists - tikrina ar jau sukurta DB\n",
    "sql = '''create table if not exists KaunoDiena\n",
    "(\n",
    "pavadinimas text not null,\n",
    "nuoroda text not null,\n",
    "zodziu_kiekis integer not null\n",
    ")\n",
    "'''\n",
    "Cs.execute(sql)\n",
    "\n",
    "# sql_template = '''insert into T1 values (?,?,?)'''\n",
    "# for a, b, c in zip(pavadinimai, nuorodos, zodziukiekiai):\n",
    "#     Cs.execute(sql_template, (a, b, c))\n",
    "\n",
    "sql_template = '''insert into KaunoDiena values (?,?,?)'''\n",
    "data = list(zip(pavadinimai_kauno, nuorodos_kauno, zodziu_kiekiai_kauno))\n",
    "Cs.executemany(sql_template, data)\n",
    "\n",
    "\n",
    "SDB.commit() # commit() butinas jei norim irasyti duomenis i DB\n",
    "\n",
    "SDB.close()"
   ]
  },
  {
   "cell_type": "code",
   "execution_count": 19,
   "metadata": {},
   "outputs": [
    {
     "data": {
      "text/html": [
       "<div>\n",
       "<style scoped>\n",
       "    .dataframe tbody tr th:only-of-type {\n",
       "        vertical-align: middle;\n",
       "    }\n",
       "\n",
       "    .dataframe tbody tr th {\n",
       "        vertical-align: top;\n",
       "    }\n",
       "\n",
       "    .dataframe thead th {\n",
       "        text-align: right;\n",
       "    }\n",
       "</style>\n",
       "<table border=\"1\" class=\"dataframe\">\n",
       "  <thead>\n",
       "    <tr style=\"text-align: right;\">\n",
       "      <th></th>\n",
       "      <th>pavadinimas</th>\n",
       "      <th>nuoroda</th>\n",
       "      <th>zodziu_kiekis</th>\n",
       "    </tr>\n",
       "  </thead>\n",
       "  <tbody>\n",
       "    <tr>\n",
       "      <th>0</th>\n",
       "      <td>2024-ųjų Seimo rinkimai: laimėjo socdemai, ant...</td>\n",
       "      <td>naujienos/lietuva/politika/lietuva-renka-nauja...</td>\n",
       "      <td>12</td>\n",
       "    </tr>\n",
       "    <tr>\n",
       "      <th>1</th>\n",
       "      <td>Į antrąjį Seimo rinkimų turą patekę kandidatai...</td>\n",
       "      <td>naujienos/lietuva/politika/laukia-kova-vienman...</td>\n",
       "      <td>8</td>\n",
       "    </tr>\n",
       "    <tr>\n",
       "      <th>2</th>\n",
       "      <td>Judrioje Aleksoto gatvėje – laikini eismo ribo...</td>\n",
       "      <td>naujienos/kaunas/miesto-pulsas/judrioje-alekso...</td>\n",
       "      <td>7</td>\n",
       "    </tr>\n",
       "    <tr>\n",
       "      <th>3</th>\n",
       "      <td>Septyniose apygardose bus perskaičiuoti balsai...</td>\n",
       "      <td>naujienos/lietuva/politika/sesiose-apygardose-...</td>\n",
       "      <td>10</td>\n",
       "    </tr>\n",
       "    <tr>\n",
       "      <th>4</th>\n",
       "      <td>Kauniečiai noriai balsavo Seimo rinkimuose: ka...</td>\n",
       "      <td>naujienos/kaunas/miesto-pulsas/kaunieciai-nori...</td>\n",
       "      <td>10</td>\n",
       "    </tr>\n",
       "  </tbody>\n",
       "</table>\n",
       "</div>"
      ],
      "text/plain": [
       "                                         pavadinimas  \\\n",
       "0  2024-ųjų Seimo rinkimai: laimėjo socdemai, ant...   \n",
       "1  Į antrąjį Seimo rinkimų turą patekę kandidatai...   \n",
       "2  Judrioje Aleksoto gatvėje – laikini eismo ribo...   \n",
       "3  Septyniose apygardose bus perskaičiuoti balsai...   \n",
       "4  Kauniečiai noriai balsavo Seimo rinkimuose: ka...   \n",
       "\n",
       "                                             nuoroda  zodziu_kiekis  \n",
       "0  naujienos/lietuva/politika/lietuva-renka-nauja...             12  \n",
       "1  naujienos/lietuva/politika/laukia-kova-vienman...              8  \n",
       "2  naujienos/kaunas/miesto-pulsas/judrioje-alekso...              7  \n",
       "3  naujienos/lietuva/politika/sesiose-apygardose-...             10  \n",
       "4  naujienos/kaunas/miesto-pulsas/kaunieciai-nori...             10  "
      ]
     },
     "execution_count": 19,
     "metadata": {},
     "output_type": "execute_result"
    }
   ],
   "source": [
    "SDB = sqlite3.connect('Testas.db')  # jei neegzistuoja db , bus sukurta nauja db\n",
    "Cs = SDB.cursor()\n",
    "sql = '''\n",
    "select * from KaunoDiena;\n",
    "'''\n",
    "Cs.execute(sql)\n",
    "SDB.commit() # commit() butinas jei norim irasyti duomenis i DB\n",
    "\n",
    "df = pd.read_sql_query(sql, con=SDB)\n",
    "df.head()\n",
    "# SDB.close()\n"
   ]
  },
  {
   "cell_type": "code",
   "execution_count": 6,
   "metadata": {},
   "outputs": [],
   "source": [
    "# autoplius\n",
    "\n",
    "opcijos = Options()\n",
    "opcijos.add_argument('--incognito')\n",
    "driver = webdriver.Chrome(options=opcijos)\n",
    "url = 'https://autoplius.lt/skelbimai/naudoti-automobiliai?page_nr=1'\n",
    "driver.get(url)\n",
    "time.sleep(5)\n",
    "source = driver.page_source\n",
    "driver.close()"
   ]
  },
  {
   "cell_type": "code",
   "execution_count": 7,
   "metadata": {},
   "outputs": [
    {
     "name": "stdout",
     "output_type": "stream",
     "text": [
      "['https://autoplius.lt/skelbimai/bmw-428-gran-coupe-2-0-l-kupe-coupe-2015-benzinas-26837939.html', 'https://autoplius.lt/skelbimai/bmw-530-2-0-l-sedanas-2019-benzinas-26808537.html', 'https://autoplius.lt/skelbimai/bmw-530-2-0-l-sedanas-2021-benzinas-26749453.html', 'https://autoplius.lt/skelbimai/volkswagen-golf-1-6-l-universalas-2014-dyzelinas-26842557.html', 'https://autoplius.lt/skelbimai/fiat-500x-2-4-l-visureigis-krosoveris-2016-benzinas-dujos-26862175.html', 'https://autoplius.lt/skelbimai/bmw-320-gran-turismo-2-0-l-hecbekas-2016-dyzelinas-26830873.html', 'https://autoplius.lt/skelbimai/bmw-320-2-0-l-universalas-2020-dyzelinas-26852143.html', 'https://autoplius.lt/skelbimai/mazda-cx-5-2-0-l-visureigis-krosoveris-2017-benzinas-26740367.html', 'https://autoplius.lt/skelbimai/mercedes-benz-clk320-3-2-l-kupe-coupe-2002-benzinas-dujos-26445796.html', 'https://autoplius.lt/skelbimai/bmw-520-2-0-l-universalas-2006-dyzelinas-26806059.html', 'https://autoplius.lt/skelbimai/volkswagen-amarok-2-0-l-pikapas-2014-dyzelinas-26615729.html', 'https://autoplius.lt/skelbimai/land-rover-discovery-sport-2-0-l-visureigis-krosoveris-2020-dyzelinas-elektra-25338021.html', 'https://autoplius.lt/skelbimai/toyota-prius-1-5-l-hecbekas-2008-benzinas-elektra-26782479.html', 'https://autoplius.lt/skelbimai/mercedes-benz-c220-2-1-l-universalas-2009-dyzelinas-26866731.html', 'https://autoplius.lt/skelbimai/peugeot-508-2-0-l-universalas-2011-dyzelinas-26838409.html', 'https://autoplius.lt/skelbimai/bmw-318-2-0-l-universalas-2009-dyzelinas-26753921.html', 'https://autoplius.lt/skelbimai/bmw-530-3-0-l-sedanas-2004-benzinas-26144972.html', 'https://autoplius.lt/skelbimai/lexus-ls-460-4-6-l-sedanas-2008-benzinas-26784487.html', 'https://autoplius.lt/skelbimai/bmw-525-3-0-l-universalas-2011-dyzelinas-26347076.html', 'https://autoplius.lt/skelbimai/bmw-325-3-0-l-kupe-coupe-2011-dyzelinas-26828241.html']\n",
      "20\n",
      "/skelbimai/naudoti-automobiliai?page_nr=2\n",
      "https://autoplius.lt/skelbimai/naudoti-automobiliai?page_nr=2\n"
     ]
    }
   ],
   "source": [
    "bs = BeautifulSoup(source, 'html.parser')\n",
    "# print(bs)\n",
    "auto_nuorodos = []\n",
    "\n",
    "\n",
    "auto_links = bs.find('div', {'class':'auto-lists lt'}).find_all('a')\n",
    "for link in auto_links:\n",
    "    # print(link['href'])\n",
    "    auto_nuorodos.append(link['href'])\n",
    "\n",
    "print(auto_nuorodos)\n",
    "print(len(auto_nuorodos))\n",
    "\n",
    "kitas = bs.find('div', {'class':'page-navigation-container'}).find('a', {'class':'next'})\n",
    "print(kitas['href'])\n",
    "\n",
    "next_nuoroda = f'https://autoplius.lt{kitas['href']}'\n",
    "print(next_nuoroda)"
   ]
  },
  {
   "cell_type": "code",
   "execution_count": 25,
   "metadata": {},
   "outputs": [
    {
     "name": "stdout",
     "output_type": "stream",
     "text": [
      "18 000 €\n",
      "26 900 €\n",
      "48 500 €\n",
      "7 100 €\n",
      "10 500 €\n",
      "14 500 €\n",
      "14 700 €\n",
      "19 999 €\n",
      "1 500 €\n",
      "4 000 €\n",
      "13 500 €\n",
      "39 111 €\n",
      "3 101 €\n",
      "3 399 €\n",
      "3 999 €\n",
      "4 850 €\n",
      "5 500 €\n",
      "6 650 €\n",
      "9 500 €\n",
      "9 700 €\n"
     ]
    }
   ],
   "source": [
    "kainos = bs.find_all('div', {'class':'announcement-pricing-info'})\n",
    "for k in kainos:\n",
    "    print(k.find('strong').text.strip())"
   ]
  },
  {
   "cell_type": "code",
   "execution_count": 64,
   "metadata": {},
   "outputs": [
    {
     "name": "stdout",
     "output_type": "stream",
     "text": [
      "https://autoplius.lt/skelbimai/bmw-530-2-0-l-sedanas-2019-benzinas-26808537.html\n"
     ]
    }
   ],
   "source": [
    "for nuoroda in auto_nuorodos[1:2]:\n",
    "    print(nuoroda)\n",
    "    driver = webdriver.Chrome(options=opcijos)\n",
    "    url = nuoroda\n",
    "    driver.get(url)\n",
    "    time.sleep(5)\n",
    "    source = driver.page_source\n",
    "    driver.close()\n",
    "    \n",
    "    "
   ]
  },
  {
   "cell_type": "code",
   "execution_count": 65,
   "metadata": {},
   "outputs": [
    {
     "name": "stdout",
     "output_type": "stream",
     "text": [
      "BMW 530\n"
     ]
    }
   ],
   "source": [
    "bs_auto = BeautifulSoup(source, 'html.parser')\n",
    "\n",
    "car = bs_auto.find('ol', {'class':'breadcrumbs'}).find_all('li', {'class':'crumb'})\n",
    "marke = car[2].text.strip()\n",
    "modelis = car[3].text.strip()\n",
    "print(marke, modelis)"
   ]
  },
  {
   "cell_type": "code",
   "execution_count": 66,
   "metadata": {},
   "outputs": [
    {
     "name": "stdout",
     "output_type": "stream",
     "text": [
      "26 900\n"
     ]
    }
   ],
   "source": [
    "car_price = bs_auto.find('div', {'class':'prices'})\n",
    "print(car_price.text.split('€')[0].strip())"
   ]
  },
  {
   "cell_type": "code",
   "execution_count": 67,
   "metadata": {},
   "outputs": [
    {
     "name": "stdout",
     "output_type": "stream",
     "text": [
      "13 ['Pirma registracija', 'Rida', 'Variklis', 'Kuro tipas', 'Kėbulo tipas', 'Durų skaičius', 'Pavarų dėžė', 'Spalva', 'Tech. apžiūra iki', 'Ratlankių skersmuo', 'Sėdimų vietų skaičius', 'CO₂ emisija, g/km', 'Taršos mokestis']\n",
      "13 ['2019', '46 000 km', '1998 cm³, 252 AG (185kW)', 'Benzinas', 'Sedanas', '4/5', 'Automatinė', 'Pilka / sidabrinė', '2026-07', 'R20', '5', '~ 126 g/km', '0 €']\n",
      "{'Pirma registracija': '2019', 'Rida': '46 000 km', 'Variklis': '1998 cm³, 252 AG (185kW)', 'Kuro tipas': 'Benzinas', 'Kėbulo tipas': 'Sedanas', 'Durų skaičius': '4/5', 'Pavarų dėžė': 'Automatinė', 'Spalva': 'Pilka / sidabrinė', 'Tech. apžiūra iki': '2026-07', 'Ratlankių skersmuo': 'R20', 'Sėdimų vietų skaičius': '5', 'CO₂ emisija, g/km': '~ 126 g/km', 'Taršos mokestis': '0 €'}\n"
     ]
    }
   ],
   "source": [
    "keys = []\n",
    "values = []\n",
    "car_i = {}\n",
    "car_info = bs_auto.find_all('div', {'class':'parameter-row'})\n",
    "for info in car_info[1:]:\n",
    "    # print(info)\n",
    "    # if info is not None:\n",
    "    #     # print('::NRW:::')\n",
    "    key = info.find('div', {'class':'parameter-label'}).text.strip()\n",
    "    # print(key.text.strip())\n",
    "    keys.append(key)\n",
    "    value = info.find('div', {'class':'parameter-value'}).text.strip()\n",
    "    values.append(value)\n",
    "    # print(key, value)\n",
    "    # print(value.text.strip())\n",
    "\n",
    "print(len(keys),keys)\n",
    "print(len(values),values)\n",
    "\n",
    "for k, v in zip(keys, values):\n",
    "    car_i[k] = v\n",
    "\n",
    "print(car_i)"
   ]
  },
  {
   "cell_type": "code",
   "execution_count": 63,
   "metadata": {},
   "outputs": [
    {
     "name": "stdout",
     "output_type": "stream",
     "text": [
      "15 ['Pirma registracija', 'Rida', 'Variklis', 'Kuro tipas', 'Kėbulo tipas', 'Durų skaičius', 'Varantieji ratai', 'Pavarų dėžė', 'Klimato valdymas', 'Spalva', 'Sėdimų vietų skaičius', 'Pirmosios registracijos šalis', 'Kėbulo numeris (VIN)', 'CO₂ emisija, g/km', 'Taršos mokestis']\n",
      "15 ['2015', '199 000 km', '1997 cm³, 245 AG (180kW)', 'Benzinas', 'Kupė (Coupe)', '4/5', 'Visi varantys (4х4)', 'Automatinė', 'Klimato kontrolė', 'Balta', '5', 'JAV', 'WBA4A7C5...\\n            Rodyti', '~ 147 g/km', '~ 40.47 €']\n",
      "{'Pirma registracija': '2015', 'Rida': '199 000 km', 'Variklis': '1997 cm³, 245 AG (180kW)', 'Kuro tipas': 'Benzinas', 'Kėbulo tipas': 'Kupė (Coupe)', 'Durų skaičius': '4/5', 'Varantieji ratai': 'Visi varantys (4х4)', 'Pavarų dėžė': 'Automatinė', 'Klimato valdymas': 'Klimato kontrolė', 'Spalva': 'Balta', 'Sėdimų vietų skaičius': '5', 'Pirmosios registracijos šalis': 'JAV', 'Kėbulo numeris (VIN)': 'WBA4A7C5...\\n            Rodyti', 'CO₂ emisija, g/km': '~ 147 g/km', 'Taršos mokestis': '~ 40.47 €'}\n"
     ]
    }
   ],
   "source": [
    "\n"
   ]
  },
  {
   "cell_type": "code",
   "execution_count": 73,
   "metadata": {},
   "outputs": [
    {
     "name": "stdout",
     "output_type": "stream",
     "text": [
      "https://autoplius.lt/skelbimai/bmw-428-gran-coupe-2-0-l-kupe-coupe-2015-benzinas-26837939.html\n",
      "BMW 428 Gran Coupe\n",
      "https://autoplius.lt/skelbimai/bmw-530-2-0-l-sedanas-2019-benzinas-26808537.html\n",
      "BMW 530\n",
      "https://autoplius.lt/skelbimai/bmw-530-2-0-l-sedanas-2021-benzinas-26749453.html\n",
      "BMW 530\n",
      "https://autoplius.lt/skelbimai/volkswagen-golf-1-6-l-universalas-2014-dyzelinas-26842557.html\n",
      "Volkswagen Golf\n",
      "https://autoplius.lt/skelbimai/fiat-500x-2-4-l-visureigis-krosoveris-2016-benzinas-dujos-26862175.html\n",
      "Fiat 500X\n",
      "https://autoplius.lt/skelbimai/bmw-320-gran-turismo-2-0-l-hecbekas-2016-dyzelinas-26830873.html\n",
      "BMW 320 Gran Turismo\n",
      "https://autoplius.lt/skelbimai/bmw-320-2-0-l-universalas-2020-dyzelinas-26852143.html\n",
      "BMW 320\n",
      "https://autoplius.lt/skelbimai/mazda-cx-5-2-0-l-visureigis-krosoveris-2017-benzinas-26740367.html\n",
      "Mazda CX-5\n",
      "https://autoplius.lt/skelbimai/mercedes-benz-clk320-3-2-l-kupe-coupe-2002-benzinas-dujos-26445796.html\n",
      "Mercedes-Benz CLK320\n",
      "https://autoplius.lt/skelbimai/bmw-520-2-0-l-universalas-2006-dyzelinas-26806059.html\n",
      "BMW 520\n",
      "https://autoplius.lt/skelbimai/volkswagen-amarok-2-0-l-pikapas-2014-dyzelinas-26615729.html\n",
      "Volkswagen Amarok\n",
      "https://autoplius.lt/skelbimai/land-rover-discovery-sport-2-0-l-visureigis-krosoveris-2020-dyzelinas-elektra-25338021.html\n",
      "Land Rover Discovery Sport\n",
      "https://autoplius.lt/skelbimai/toyota-prius-1-5-l-hecbekas-2008-benzinas-elektra-26782479.html\n",
      "Toyota Prius\n",
      "https://autoplius.lt/skelbimai/mercedes-benz-c220-2-1-l-universalas-2009-dyzelinas-26866731.html\n",
      "skelbimas neegzistuoja\n",
      "https://autoplius.lt/skelbimai/peugeot-508-2-0-l-universalas-2011-dyzelinas-26838409.html\n",
      "Peugeot 508\n",
      "https://autoplius.lt/skelbimai/bmw-318-2-0-l-universalas-2009-dyzelinas-26753921.html\n",
      "BMW 318\n",
      "https://autoplius.lt/skelbimai/bmw-530-3-0-l-sedanas-2004-benzinas-26144972.html\n",
      "BMW 530\n",
      "https://autoplius.lt/skelbimai/lexus-ls-460-4-6-l-sedanas-2008-benzinas-26784487.html\n",
      "Lexus LS 460\n",
      "https://autoplius.lt/skelbimai/bmw-525-3-0-l-universalas-2011-dyzelinas-26347076.html\n",
      "BMW 525\n",
      "https://autoplius.lt/skelbimai/bmw-325-3-0-l-kupe-coupe-2011-dyzelinas-26828241.html\n",
      "BMW 325\n"
     ]
    }
   ],
   "source": [
    "markes = []\n",
    "modeliai = []\n",
    "keys = []\n",
    "values = []\n",
    "car_i = {}\n",
    "\n",
    "\n",
    "driver = webdriver.Chrome(options=opcijos)\n",
    "for nuoroda in auto_nuorodos:\n",
    "    print(nuoroda)\n",
    "    \n",
    "    url = nuoroda\n",
    "    driver.get(url)\n",
    "    time.sleep(3)\n",
    "    source = driver.page_source\n",
    "    \n",
    "    bs_auto = BeautifulSoup(source, 'html.parser')\n",
    "    \n",
    "    if bs_auto.find('div', {'class':'error'}):\n",
    "        print('skelbimas neegzistuoja')\n",
    "    else:\n",
    "        car = bs_auto.find('ol', {'class':'breadcrumbs'}).find_all('li', {'class':'crumb'})\n",
    "        marke = car[2].text.strip()\n",
    "        modelis = car[3].text.strip()\n",
    "        markes.append(marke)\n",
    "        modeliai.append(modelis)\n",
    "        print(marke, modelis)\n",
    "\n",
    "        car_info = bs_auto.find_all('div', {'class':'parameter-row'})\n",
    "        for info in car_info[1:]:\n",
    "            # print(info)\n",
    "            # if info is not None:\n",
    "            #     # print('::NRW:::')\n",
    "            key = info.find('div', {'class':'parameter-label'}).text.strip()\n",
    "            # print(key.text.strip())\n",
    "            keys.append(key)\n",
    "            value = info.find('div', {'class':'parameter-value'}).text.strip()\n",
    "            values.append(value)\n",
    "            # print(key, value)\n",
    "            # print(value.text.strip())\n",
    "\n",
    "driver.close()"
   ]
  },
  {
   "cell_type": "code",
   "execution_count": 78,
   "metadata": {},
   "outputs": [
    {
     "name": "stdout",
     "output_type": "stream",
     "text": [
      "['Kuro tipas', 'Vidutinės', 'Defektai', 'Variklis', 'Rida', 'Durų skaičius', 'Nuosava masė, kg', 'Pirma registracija', 'Pirmosios registracijos šalis', 'Kėbulo numeris (VIN)', 'Tech. apžiūra iki', 'CO₂ emisija, g/km', 'Euro standartas', 'Užmiestyje', 'Taršos mokestis', 'Spalva', 'SDK', 'Pavarų dėžė', 'Klimato valdymas', 'Mieste', 'Varantieji ratai', 'Sėdimų vietų skaičius', 'Kėbulo tipas', 'Ratlankių skersmuo']\n",
      "24\n",
      "350\n",
      "['2015', '199 000 km', '1997 cm³, 245 AG (180kW)', 'Benzinas', 'Kupė (Coupe)', '4/5', 'Visi varantys (4х4)', 'Automatinė', 'Klimato kontrolė', 'Balta', '5', 'JAV', 'WBA4A7C5...\\n            Rodyti', '~ 147 g/km', '~ 40.47 €', '2019', '46 000 km', '1998 cm³, 252 AG (185kW)', 'Benzinas', 'Sedanas', '4/5', 'Automatinė', 'Pilka / sidabrinė', '2026-07', 'R20', '5', '~ 126 g/km', '0 €', '25 000 km', '1998 cm³, 262 AG (193kW)', 'Benzinas', 'Sedanas', '4/5', 'Visi varantys (4х4)', 'Automatinė', 'Klimato kontrolė', 'Pilka / sidabrinė', '2026-06', 'R19', '1680', '5', 'JAV', 'WBA13BJ0...\\n            Rodyti', 'THPRH...\\n                Rodyti', 'Euro 6', '135 g/km', '20.23 €', '7', '5', '5,9', '2014-03', '314 086 km', '1598 cm³, 105 AG (77kW)', 'Dyzelinas', 'Universalas', '4/5', 'Priekiniai', 'Automatinė', 'Klimato kontrolė', 'R16', '1410', '5', 'Prancūzija', 'WVWZZZAU...\\n            Rodyti', 'AHETH...\\n                Rodyti', 'Euro 5', '104 g/km', '0 €', '6', '2016', '126 211 km', '2360 cm³, 177 AG (130kW)', 'Benzinas / dujos', 'Visureigis / Krosoveris', '4/5', 'Visi varantys (4х4)', 'Automatinė', 'Oro kondicionierius', 'Pilka / sidabrinė', '2026-10', 'R18', '1600', '5', 'JAV', 'ZFBCFYET...\\n            Rodyti', '9', '2016-06', '162 000 km', '1995 cm³, 190 AG (140kW)', 'Dyzelinas', 'Hečbekas', '4/5', 'Galiniai', 'Mechaninė', 'Klimato kontrolė', 'Juoda', '2025-09', '1580', '5', 'Euro 6', '120 g/km', '0 €', '5,5', '4,1', '4,6', '2020-07', '70 000 km', '1995 cm³, 190 AG (140kW)', 'Dyzelinas', 'Universalas', '4/5', 'Automatinė', 'Klimato kontrolė', 'Mėlyna / žydra', 'Daužtas', '5', '~ 115 g/km', '0 €', '2017-10', '83 999 km', '1998 cm³, 160 AG (118kW)', 'Benzinas', 'Visureigis / Krosoveris', '4/5', 'Visi varantys (4х4)', 'Automatinė', 'Oro kondicionierius', 'Juoda', '2026-10', 'R19', '1500', '5', 'Lietuva', 'JMZKFGW7...\\n            Rodyti', '155 g/km', '60.7 €', '8', '5,8', '6,6', '2002-12', '200 000 km', '3200 cm³', 'Benzinas / dujos', 'Kupė (Coupe)', '2/3', 'Galiniai', 'Automatinė', 'Klimato kontrolė', 'Pilka / sidabrinė', 'R18', '4', 'Vokietija', '~ 250 g/km', '~ 218.54 €', '2006-04', '320 000 km', '1995 cm³, 163 AG (120kW)', 'Dyzelinas', 'Universalas', '4/5', 'Galiniai', 'Automatinė', 'Balta', '2025-07', 'R17', '1610', '5', 'Vokietija', 'WBANJ310...\\n            Rodyti', 'CNCCA...\\n                Rodyti', '189 g/km', '242.82 €', '9,6', '5,6', '7,1', '2014-01', '209 832 km', '1968 cm³, 179 AG (132kW)', 'Dyzelinas', 'Pikapas', '4/5', 'Visi varantys (4х4)', 'Automatinė', 'Klimato kontrolė', 'Juoda', '2024-10', 'R17', '1983', '5', 'Vokietija', 'WV1ZZZ2H...\\n            Rodyti', 'SDK kodas neprivalomas (automobilis ne Lietuvoje)', 'Euro 5', '211 g/km', '364.23 €', '9,8', '7', '8', '58 000 km', '1999 cm³', 'Dyzelinas / elektra', 'Visureigis / Krosoveris', '4/5', 'Visi varantys (4х4)', 'Automatinė', 'Klimato kontrolė', 'Juoda', '2025', '5', 'SALCA2BN...\\n            Rodyti', 'HKRMN...\\n                Rodyti', 'Euro 6', '2008-02', '280 000 km', '1497 cm³, 76 AG (56kW)', 'Benzinas / elektra', 'Hečbekas', '4/5', 'Priekiniai', 'Automatinė', '2026-03', '1270', '5', 'Olandija', 'JTDKB29U...\\n            Rodyti', '~ 104 g/km', '0 €', '4,2', '3,5', '3,6', '2011-05', '265 000 km', '1997 cm³, 140 AG (103kW)', 'Dyzelinas', 'Universalas', '4/5', 'Priekiniai', 'Mechaninė', 'Klimato kontrolė', 'Juoda', 'R16', '1500', '5', 'PNTEE...\\n                Rodyti', '130 g/km', '0 €', '6,8', '4', '5', '2009-02', '359 000 km', '1995 cm³, 143 AG (105kW)', 'Dyzelinas', 'Universalas', '4/5', 'Galiniai', 'Automatinė', 'Klimato kontrolė', 'Pilka / sidabrinė', '2026-07', 'R18', '1595', '5', 'Vokietija', 'WBAUX110...\\n            Rodyti', 'Euro 5', '146 g/km', '80.94 €', '2004-09', '305 750 km', '3000 cm³, 231 AG (170kW)', 'Benzinas', 'Sedanas', '4/5', 'Galiniai', 'Automatinė', 'Klimato kontrolė', 'Pilka / sidabrinė', '2026-10', 'R18', '1570', '5', 'Olandija', 'Euro 4', '~ 240 g/km', '~ 222.58 €', '14', '7,5', '10', '2008-01', '260 000 km', '4608 cm³, 381 AG (280kW)', 'Benzinas', 'Sedanas', '4/5', 'Galiniai', 'Automatinė', 'Klimato kontrolė', 'Pilka / sidabrinė', '2025-05', 'R19', '1945', '5', 'Euro 5', '261 g/km', '283.29 €', '16,5', '7,9', '11,1', '2011-06', '345 000 km', '2993 cm³, 204 AG (150kW)', 'Dyzelinas', 'Universalas', '4/5', 'Galiniai', 'Automatinė', 'Klimato kontrolė', 'Juoda', '2026-08', 'R18', '1845', '5', 'WBAMX310...\\n            Rodyti', 'CKCTC...\\n                Rodyti', 'Euro 5', '162 g/km', '161.88 €', '2011-08', '318 000 km', '2993 cm³, 204 AG (150kW)', 'Dyzelinas', 'Kupė (Coupe)', '2/3', 'Galiniai', 'Automatinė', 'Klimato kontrolė', 'Juoda', '2025-06', 'R19', '1525', '4', 'Vokietija', 'WBAKK510...\\n            Rodyti', 'Euro 6', '160 g/km', '121.41 €', '7,9', '5,1', '6,1']\n"
     ]
    }
   ],
   "source": [
    "keys = list(set(keys))\n",
    "print(keys)\n",
    "print(len(keys))\n",
    "print(len(values))\n",
    "print(values)"
   ]
  },
  {
   "cell_type": "code",
   "execution_count": 70,
   "metadata": {},
   "outputs": [],
   "source": [
    "driver = webdriver.Chrome(options=opcijos)\n",
    "url = 'https://autoplius.lt/skelbimai/mercedes-benz-c220-2-1-l-universalas-2009-dyzelinas-26866731.html'\n",
    "driver.get(url)\n",
    "time.sleep(5)\n",
    "source = driver.page_source\n",
    "\n",
    "driver.close()"
   ]
  },
  {
   "cell_type": "code",
   "execution_count": 72,
   "metadata": {},
   "outputs": [
    {
     "name": "stdout",
     "output_type": "stream",
     "text": [
      "\n",
      "\n",
      "\n",
      "            Skelbimas neegzistuoja (A26866731)\n",
      "        \n",
      "\n",
      "\n",
      "        Atsiprašome, tačiau Jus dominančio skelbimo galiojimo laikas baigėsi arba skelbimą patalpinęs vartotojas jį ištrynė. Siūlome peržiūrėti panašius skelbimus.    \n",
      "\n"
     ]
    }
   ],
   "source": [
    "bs = BeautifulSoup(source, 'html.parser')\n",
    "er = bs.find('div', {'class':'error'})\n",
    "print(er.text.split)"
   ]
  },
  {
   "cell_type": "code",
   "execution_count": 3,
   "metadata": {},
   "outputs": [],
   "source": [
    "# auto pls 2\n",
    "\n",
    "opcijos = Options()\n",
    "opcijos.add_argument('--incognito')\n",
    "driver = webdriver.Chrome(options=opcijos)\n",
    "url = 'https://autoplius.lt/skelbimai/naudoti-automobiliai?page_nr=6'\n",
    "driver.get(url)\n",
    "time.sleep(5)\n",
    "source = driver.page_source\n",
    "driver.close()"
   ]
  },
  {
   "cell_type": "code",
   "execution_count": 4,
   "metadata": {},
   "outputs": [
    {
     "name": "stdout",
     "output_type": "stream",
     "text": [
      "['https://autoplius.lt/skelbimai/mercedes-benz-c180-2-0-l-sedanas-2001-benzinas-24911425.html', 'https://autoplius.lt/skelbimai/toyota-sienna-3-3-l-vienaturis-2004-benzinas-dujos-23150167.html', 'https://autoplius.lt/skelbimai/audi-a6-2-7-l-universalas-2007-dyzelinas-26496920.html', 'https://autoplius.lt/skelbimai/volkswagen-golf-hecbekas-2010-dyzelinas-26866353.html', 'https://autoplius.lt/skelbimai/chevrolet-cruze-2-0-l-sedanas-2010-dyzelinas-26792565.html', 'https://autoplius.lt/skelbimai/toyota-auris-1-4-l-hecbekas-2008-dyzelinas-26872999.html', 'https://autoplius.lt/skelbimai/audi-a6-universalas-2010-dyzelinas-26871689.html', 'https://autoplius.lt/skelbimai/opel-meriva-1-4-l-vienaturis-2011-benzinas-26879305.html', 'https://autoplius.lt/skelbimai/audi-a4-2-0-l-sedanas-2007-dyzelinas-26865429.html', 'https://autoplius.lt/skelbimai/audi-a6-3-0-l-universalas-2008-dyzelinas-26870853.html', 'https://autoplius.lt/skelbimai/bmw-330-3-0-l-kupe-coupe-2004-dyzelinas-26879213.html', 'https://autoplius.lt/skelbimai/opel-astra-1-4-l-hecbekas-2010-benzinas-26772681.html', 'https://autoplius.lt/skelbimai/audi-a4-2-0-l-sedanas-2009-dyzelinas-26870915.html', 'https://autoplius.lt/skelbimai/audi-a6-2-0-l-universalas-2007-dyzelinas-26867259.html', 'https://autoplius.lt/skelbimai/audi-a4-1-8-l-universalas-2009-benzinas-26870903.html', 'https://autoplius.lt/skelbimai/volkswagen-passat-2-0-l-universalas-2010-dyzelinas-26867677.html', 'https://autoplius.lt/skelbimai/lexus-is-200-2-2-l-sedanas-2010-dyzelinas-26850251.html', 'https://autoplius.lt/skelbimai/audi-a6-2-7-l-sedanas-2007-dyzelinas-26869669.html', 'https://autoplius.lt/skelbimai/volkswagen-golf-hecbekas-2012-dyzelinas-26872231.html', 'https://autoplius.lt/skelbimai/audi-a6-2-7-l-universalas-2010-dyzelinas-26797525.html']\n",
      "20\n",
      "/skelbimai/naudoti-automobiliai?page_nr=7\n",
      "https://autoplius.lt/skelbimai/naudoti-automobiliai?page_nr=7\n"
     ]
    }
   ],
   "source": [
    "# autu pls 2\n",
    "bs = BeautifulSoup(source, 'html.parser')\n",
    "# print(bs)\n",
    "auto_nuorodos = []\n",
    "\n",
    "\n",
    "auto_links = bs.find('div', {'class':'auto-lists lt'}).find_all('a')\n",
    "for link in auto_links:\n",
    "    # print(link['href'])\n",
    "    auto_nuorodos.append(link['href'])\n",
    "\n",
    "print(auto_nuorodos)\n",
    "print(len(auto_nuorodos))\n",
    "\n",
    "kitas = bs.find('div', {'class':'page-navigation-container'}).find('a', {'class':'next'})\n",
    "print(kitas['href'])\n",
    "\n",
    "next_nuoroda = f'https://autoplius.lt{kitas['href']}'\n",
    "print(next_nuoroda)"
   ]
  },
  {
   "cell_type": "code",
   "execution_count": 5,
   "metadata": {},
   "outputs": [
    {
     "name": "stdout",
     "output_type": "stream",
     "text": [
      "https://autoplius.lt/skelbimai/mercedes-benz-c180-2-0-l-sedanas-2001-benzinas-24911425.html\n",
      "Mercedes-Benz C180\n",
      "https://autoplius.lt/skelbimai/toyota-sienna-3-3-l-vienaturis-2004-benzinas-dujos-23150167.html\n",
      "Toyota Sienna\n",
      "https://autoplius.lt/skelbimai/audi-a6-2-7-l-universalas-2007-dyzelinas-26496920.html\n",
      "Audi A6\n",
      "https://autoplius.lt/skelbimai/volkswagen-golf-hecbekas-2010-dyzelinas-26866353.html\n",
      "Volkswagen Golf\n",
      "https://autoplius.lt/skelbimai/chevrolet-cruze-2-0-l-sedanas-2010-dyzelinas-26792565.html\n",
      "Chevrolet Cruze\n",
      "https://autoplius.lt/skelbimai/toyota-auris-1-4-l-hecbekas-2008-dyzelinas-26872999.html\n",
      "Toyota Auris\n",
      "https://autoplius.lt/skelbimai/audi-a6-universalas-2010-dyzelinas-26871689.html\n",
      "Audi A6\n",
      "https://autoplius.lt/skelbimai/opel-meriva-1-4-l-vienaturis-2011-benzinas-26879305.html\n",
      "Opel Meriva\n",
      "https://autoplius.lt/skelbimai/audi-a4-2-0-l-sedanas-2007-dyzelinas-26865429.html\n",
      "Audi A4\n",
      "https://autoplius.lt/skelbimai/audi-a6-3-0-l-universalas-2008-dyzelinas-26870853.html\n",
      "Audi A6\n",
      "https://autoplius.lt/skelbimai/bmw-330-3-0-l-kupe-coupe-2004-dyzelinas-26879213.html\n",
      "BMW 330\n",
      "https://autoplius.lt/skelbimai/opel-astra-1-4-l-hecbekas-2010-benzinas-26772681.html\n",
      "Opel Astra\n",
      "https://autoplius.lt/skelbimai/audi-a4-2-0-l-sedanas-2009-dyzelinas-26870915.html\n",
      "Audi A4\n",
      "https://autoplius.lt/skelbimai/audi-a6-2-0-l-universalas-2007-dyzelinas-26867259.html\n",
      "Audi A6\n",
      "https://autoplius.lt/skelbimai/audi-a4-1-8-l-universalas-2009-benzinas-26870903.html\n",
      "Audi A4\n",
      "https://autoplius.lt/skelbimai/volkswagen-passat-2-0-l-universalas-2010-dyzelinas-26867677.html\n",
      "Volkswagen Passat\n",
      "https://autoplius.lt/skelbimai/lexus-is-200-2-2-l-sedanas-2010-dyzelinas-26850251.html\n",
      "Lexus IS 200\n",
      "https://autoplius.lt/skelbimai/audi-a6-2-7-l-sedanas-2007-dyzelinas-26869669.html\n",
      "Audi A6\n",
      "https://autoplius.lt/skelbimai/volkswagen-golf-hecbekas-2012-dyzelinas-26872231.html\n",
      "Volkswagen Golf\n",
      "https://autoplius.lt/skelbimai/audi-a6-2-7-l-universalas-2010-dyzelinas-26797525.html\n",
      "Audi A6\n"
     ]
    }
   ],
   "source": [
    "markes2 = []\n",
    "modeliai2 = []\n",
    "keys2 = []\n",
    "values2 = []\n",
    "car_i2 = {}\n",
    "\n",
    "\n",
    "driver = webdriver.Chrome(options=opcijos)\n",
    "for nuoroda in auto_nuorodos:\n",
    "    print(nuoroda)\n",
    "    \n",
    "    url = nuoroda\n",
    "    driver.get(url)\n",
    "    time.sleep(3)\n",
    "    source = driver.page_source\n",
    "    \n",
    "    bs_auto = BeautifulSoup(source, 'html.parser')\n",
    "    \n",
    "    if bs_auto.find('div', {'class':'error'}):\n",
    "        print('skelbimas neegzistuoja')\n",
    "    else:\n",
    "        car = bs_auto.find('ol', {'class':'breadcrumbs'}).find_all('li', {'class':'crumb'})\n",
    "        marke2 = car[2].text.strip()\n",
    "        modelis2 = car[3].text.strip()\n",
    "        markes2.append(marke2)\n",
    "        modeliai2.append(modelis2)\n",
    "        print(marke2, modelis2)\n",
    "\n",
    "        car_info = bs_auto.find_all('div', {'class':'parameter-row'})\n",
    "        for info in car_info[1:]:\n",
    "            # print(info)\n",
    "            # if info is not None:\n",
    "            #     # print('::NRW:::')\n",
    "            key = info.find('div', {'class':'parameter-label'}).text.strip()\n",
    "            # print(key.text.strip())\n",
    "            keys2.append(key)\n",
    "            value = info.find('div', {'class':'parameter-value'}).text.strip()\n",
    "            values2.append(value)\n",
    "            # print(key, value)\n",
    "            # print(value.text.strip())\n",
    "\n",
    "driver.close()"
   ]
  },
  {
   "cell_type": "code",
   "execution_count": 6,
   "metadata": {},
   "outputs": [
    {
     "name": "stdout",
     "output_type": "stream",
     "text": [
      "23\n",
      "['Nuosava masė, kg', 'Tech. apžiūra iki', 'Pirma registracija', 'Ratlankių skersmuo', 'Mieste', 'Kėbulo tipas', 'Klimato valdymas', 'Spalva', 'Varantieji ratai', 'Variklis', 'Durų skaičius', 'Vidutinės', 'Pirmosios registracijos šalis', 'Pavarų dėžė', 'Užmiestyje', 'Kuro tipas', 'Kėbulo numeris (VIN)', 'Euro standartas', 'Taršos mokestis', 'Sėdimų vietų skaičius', 'CO₂ emisija, g/km', 'SDK', 'Rida']\n",
      "307\n"
     ]
    }
   ],
   "source": [
    "keys2 = list(set(keys2))\n",
    "print(len(keys2))\n",
    "print(keys2)\n",
    "print(len(values2))"
   ]
  },
  {
   "cell_type": "code",
   "execution_count": 106,
   "metadata": {},
   "outputs": [
    {
     "name": "stdout",
     "output_type": "stream",
     "text": [
      "\n",
      "Kuro tipas\n",
      "Vidutinės\n",
      "Bendroji masė, kg\n",
      "Defektai\n",
      "Variklis\n",
      "Rida\n",
      "Baterijos talpa, kWh\n",
      "Durų skaičius\n",
      "Nuosava masė, kg\n",
      "Pirma registracija\n",
      "Pirmosios registracijos šalis\n",
      "Kėbulo numeris (VIN)\n",
      "Ilgis\n",
      "Tech. apžiūra iki\n",
      "CO₂ emisija, g/km\n",
      "Euro standartas\n",
      "Užmiestyje\n",
      "Taršos mokestis\n",
      "Spalva\n",
      "SDK\n",
      "Pavarų dėžė\n",
      "Klimato valdymas\n",
      "Mieste\n",
      "Elektra nuvažiuojamas atstumas\n",
      "Varantieji ratai\n",
      "Sėdimų vietų skaičius\n",
      "Kėbulo tipas\n",
      "Ratlankių skersmuo\n",
      "29\n"
     ]
    }
   ],
   "source": [
    "keys = list(set(keys))\n",
    "for i in keys:\n",
    "    print(i)\n",
    "print(len(list(set(keys))))"
   ]
  },
  {
   "cell_type": "code",
   "execution_count": null,
   "metadata": {},
   "outputs": [],
   "source": []
  },
  {
   "cell_type": "code",
   "execution_count": null,
   "metadata": {},
   "outputs": [],
   "source": []
  },
  {
   "cell_type": "code",
   "execution_count": null,
   "metadata": {},
   "outputs": [],
   "source": [
    "keys = list(set(keys))\n",
    "for i in keys:\n",
    "    print(i"
   ]
  },
  {
   "cell_type": "code",
   "execution_count": null,
   "metadata": {},
   "outputs": [],
   "source": [
    ")\n",
    "print(len(list(set(keys))))"
   ]
  },
  {
   "cell_type": "code",
   "execution_count": 115,
   "metadata": {},
   "outputs": [],
   "source": [
    "duomenys = {\n",
    "    'Marke': 'None',\n",
    "    'Modelis':'None',\n",
    "    'Kaina':'None',\n",
    "    'Rida':'None',\n",
    "    'Variklis':'None',\n",
    "    'Kuro tipas':'None',\n",
    "    'Pavarų dėžė':'None',\n",
    "    'Varantieji ratai':'None',\n",
    "    'Baterijos talpa, kWh':'None',\n",
    "    'Elektra nuvažiuojamas atstumas':'None',\n",
    "    'Defektai':'None',\n",
    "    'Spalva':'None',\n",
    "    'Kėbulo tipas':'None',\n",
    "    'Vidutinės':'None',\n",
    "    'Mieste':'None',\n",
    "    'Užmiestyje':'None',\n",
    "    'Pirma registracija':'None',\n",
    "    'Pirmosios registracijos šalis':'None',\n",
    "    'Bendroji masė, kg':'None',\n",
    "    'Nuosava masė, kg':'None',\n",
    "    'Durų skaičius':'None',\n",
    "    'Kėbulo numeris (VIN)':'None',\n",
    "    'Ilgis':'None',\n",
    "    'Tech. apžiūra iki':'None',\n",
    "    'CO₂ emisija, g/km':'None',\n",
    "    'Euro standartas':'None',\n",
    "    'Taršos mokestis':'None',\n",
    "    'SDK':'None',\n",
    "    'Klimato valdymas':'None',\n",
    "    'Sėdimų vietų skaičius':'None',\n",
    "    'Ratlankių skersmuo':'None'\n",
    "}"
   ]
  },
  {
   "cell_type": "code",
   "execution_count": 116,
   "metadata": {},
   "outputs": [
    {
     "name": "stdout",
     "output_type": "stream",
     "text": [
      "{'Kuro tipas': 'None', 'Vidutinės': 'None', 'Bendroji masė, kg': 'None', 'Defektai': 'None', 'Variklis': 'None', 'Rida': 'None', 'Baterijos talpa, kWh': 'None', 'Durų skaičius': 'None', 'Nuosava masė, kg': 'None', 'Pirma registracija': 'None', 'Pirmosios registracijos šalis': 'None', 'Kėbulo numeris (VIN)': 'None', 'Ilgis': 'None', 'Tech. apžiūra iki': 'None', 'CO₂ emisija, g/km': 'None', 'Euro standartas': 'None', 'Užmiestyje': 'None', 'Taršos mokestis': 'None', 'Spalva': 'None', 'SDK': 'None', 'Pavarų dėžė': 'None', 'Klimato valdymas': 'None', 'Mieste': 'None', 'Elektra nuvažiuojamas atstumas': 'None', 'Varantieji ratai': 'None', 'Sėdimų vietų skaičius': 'None', 'Kėbulo tipas': 'None', 'Ratlankių skersmuo': 'None'}\n",
      "['Kuro tipas', 'Vidutinės', 'Bendroji masė, kg', 'Defektai', 'Variklis', 'Rida', 'Durų skaičius', 'Nuosava masė, kg', 'Pirma registracija', 'Pirmosios registracijos šalis', 'Kėbulo numeris (VIN)', 'Ilgis', 'Tech. apžiūra iki', 'CO₂ emisija, g/km', 'Užmiestyje', 'Euro standartas', 'Taršos mokestis', 'Spalva', 'SDK', 'Pavarų dėžė', 'Klimato valdymas', 'Elektra nuvažiuojamas atstumas', 'Mieste', 'Varantieji ratai', 'Sėdimų vietų skaičius', 'Kėbulo tipas', 'Ratlankių skersmuo']\n",
      "['2006-07', '296 365 km', '1497 cm³, 76 AG (56kW)', 'Benzinas / elektra', '5 km', 'Hečbekas', '4/5', 'Priekiniai', 'Automatinė', 'Klimato kontrolė', 'Mėlyna / žydra', '2024-06', 'R16', '1270', '5', 'Prancūzija', 'JTDKB20U...\\n            Rodyti', 'KAHFF...\\n                Rodyti', '~ 104 g/km', '0 €', '4,2', '3,5', '3,6', '2007-08', '119 000 km', '1600 cm³, 105 AG (77kW)', 'Benzinas', 'Hečbekas', '4/5', 'Priekiniai', 'Automatinė', 'Oro kondicionierius', '2026-07', '5', 'HETRE...\\n                Rodyti', '~ 183 g/km', '~ 121.41 €', '2010-04', '267 884 km', 'Dyzelinas', 'Universalas', '4/5', 'Automatinė', '2025-10', '5', '~ 163 g/km', '~ 161.88 €', '2006-09', '263 000 km', '3500 cm³, 290 AG (213kW)', 'Benzinas / dujos', 'Sedanas', '4/5', 'Visi varantys (4х4)', 'Automatinė', 'Klimato kontrolė', '2026-05', 'ANHKE...\\n                Rodyti', '~ 282 g/km', '~ 291.38 €', '2008-11', '289 345 km', '3000 cm³', 'Dyzelinas', 'Universalas', '4/5', 'Automatinė', '2025-12', '5', '~ 207 g/km', '~ 323.76 €', '2008-09', '330 000 km', '1995 cm³, 177 AG (130kW)', 'Dyzelinas', 'Universalas', '4/5', 'Galiniai', 'Automatinė', 'Klimato kontrolė', 'Pilka / sidabrinė', '2026-06', 'R16', '1620', '5', 'WBAPX310...\\n            Rodyti', 'FMTRC...\\n                Rodyti', '140 g/km', '40.47 €', '7,7', '4,7', '5,8', '2006-04', '285 486 km', '2401 cm³', 'Dyzelinas', 'Visureigis / Krosoveris', '4/5', 'Visi varantys (4х4)', 'Mechaninė', '2025-11', '219 g/km', '364.23 €', '8,2', '2009-04', '199 478 km', '1800 cm³', 'Benzinas', 'Universalas', '4/5', 'Automatinė', '2026-09', '5', '~ 174 g/km', '~ 101.17 €', '2009-07', '230 000 km', '1995 cm³, 143 AG (105kW)', 'Dyzelinas', 'Hečbekas', '4/5', 'Galiniai', 'Automatinė', 'Klimato kontrolė', '2026-03', 'R16', '1345', '5', 'WBAUD710...\\n            Rodyti', 'TKAEK...\\n                Rodyti', '144 g/km', '80.94 €', '6,9', '4,5', '5,4', '2016-07', '200 000 km', '1998 cm³, 136 AG (100kW)', 'Dyzelinas', 'Krovininis mikroautobusas', '4/5', 'Mechaninė', 'Standartinis (L2)', '2500', '2008-08', '305 000 km', '1995 cm³, 218 AG (160kW)', 'Dyzelinas', 'Hečbekas', '2/3', 'Galiniai', 'Mechaninė', 'Klimato kontrolė', 'Raudona / vyšninė', '2025-11', 'R19', '1365', '4', 'Vokietija', 'WBAUB510...\\n            Rodyti', 'TMFHK...\\n                Rodyti', 'Euro 5', '128 g/km', '0 €', '6,1', '4,1', '4,8', '2014-01', '336 000 km', '1995 cm³, 184 AG (135kW)', 'Dyzelinas', 'Universalas', '4/5', 'Galiniai', 'Automatinė', 'Klimato kontrolė', 'Juoda', 'Daužtas', '2024-09', 'R18', '5', 'Olandija', 'WBA3L110...\\n            Rodyti', 'FRTCK...\\n                Rodyti', 'Euro 5', '109 g/km', '0 €', '5,1', '3,8', '4,3', '2015-03', '288 650 km', '3600 cm³, 287 AG (211kW)', 'Benzinas / dujos', 'Universalas', '4/5', 'Visi varantys (4х4)', 'Automatinė', 'Oro kondicionierius', '2026-06', 'R18', '7', '3C4PDDBG...\\n            Rodyti', 'KHHFT...\\n                Rodyti', '2008-09', '360 000 km', '4969 cm³, 445 AG (327kW)', 'Benzinas / elektra', '3 km', 'Sedanas', '4/5', 'Visi varantys (4х4)', 'Automatinė', 'Klimato kontrolė', 'Pilka / sidabrinė', '2025-06', '2270', '5', 'Euro 4', '219 g/km', '182.11 €', '10,3', '8', '9,3', '2012-05', '243 857 km', '2000 cm³, 184 AG (135kW)', 'Dyzelinas', 'Universalas', '4/5', 'Galiniai', 'Automatinė', 'Klimato kontrolė', 'Juoda', '2025-02', 'R20', '5', 'Belgija', 'WBAMX110...\\n            Rodyti', 'RTFFE...\\n                Rodyti', '134 g/km', '40.47 €', '2015-04', '261 321 km', '1598 cm³, 120 AG (88kW)', 'Dyzelinas', 'Universalas', '4/5', 'Priekiniai', 'Automatinė', 'Klimato kontrolė', 'Pilka / sidabrinė', '2025-02', 'R17', '1500', '5', 'WVWZZZ3C...\\n            Rodyti', 'CMCRR...\\n                Rodyti', 'Euro 6', '104 g/km', '0 €', '4,5', '3,7', '4', '2014-08', '203 874 km', '1968 cm³, 184 AG (135kW)', 'Dyzelinas', 'Hečbekas', '4/5', 'Priekiniai', 'Mechaninė', 'Klimato kontrolė', 'Pilka / sidabrinė', '2025-12', 'R19', '4', 'Vokietija', 'Euro 6', '~ 109 g/km', '0 €', '7', '5', '2016-08', '251 000 km', '1499 cm³, 105 AG (77kW)', 'Dyzelinas', 'Visureigis / Krosoveris', '4/5', 'Priekiniai', 'Mechaninė', 'Klimato kontrolė', 'Balta', '2026-10', 'R16', '5', 'Prancūzija', 'MFEEC...\\n                Rodyti', 'Euro 6', '~ 105 g/km', '0 €', '2019-04', '342 290 km', '1968 cm³, 150 AG (110kW)', 'Dyzelinas', 'Vienatūris', '4/5', 'Priekiniai', 'Automatinė', 'Klimato kontrolė', 'Balta', '2025-04', 'R17', '1620', '7', 'Prancūzija', 'WVGZZZ1T...\\n            Rodyti', 'KKHFR...\\n                Rodyti', 'Euro 6', '127 g/km', '0 €', '5,6', '4,4', '4,8', '2012-11', '249 000 km', '2993 cm³, 286 AG (210kW)', 'Dyzelinas', 'Visureigis / Krosoveris', '4/5', 'Visi varantys (4х4)', 'Automatinė', 'Klimato kontrolė', 'Juoda', '2025-06', 'R18', '5', '5UXZWOC5...\\n            Rodyti']\n",
      "{'Kuro tipas': '2006-07', 'Vidutinės': '296 365 km', 'Bendroji masė, kg': '1497 cm³, 76 AG (56kW)', 'Defektai': 'Benzinas / elektra', 'Variklis': '5 km', 'Rida': 'Hečbekas', 'Baterijos talpa, kWh': 'None', 'Durų skaičius': '4/5', 'Nuosava masė, kg': 'Priekiniai', 'Pirma registracija': 'Automatinė', 'Pirmosios registracijos šalis': 'Klimato kontrolė', 'Kėbulo numeris (VIN)': 'Mėlyna / žydra', 'Ilgis': '2024-06', 'Tech. apžiūra iki': 'R16', 'CO₂ emisija, g/km': '1270', 'Euro standartas': 'Prancūzija', 'Užmiestyje': '5', 'Taršos mokestis': 'JTDKB20U...\\n            Rodyti', 'Spalva': 'KAHFF...\\n                Rodyti', 'SDK': '~ 104 g/km', 'Pavarų dėžė': '0 €', 'Klimato valdymas': '4,2', 'Mieste': '3,6', 'Elektra nuvažiuojamas atstumas': '3,5', 'Varantieji ratai': '2007-08', 'Sėdimų vietų skaičius': '119 000 km', 'Kėbulo tipas': '1600 cm³, 105 AG (77kW)', 'Ratlankių skersmuo': 'Benzinas'}\n"
     ]
    }
   ],
   "source": [
    "print(duomenys)\n",
    "print(keys4)\n",
    "print(values4)\n",
    "\n",
    "for k, v in zip(keys4, values4):\n",
    "    duomenys[k] = v\n",
    "\n",
    "print(duomenys)"
   ]
  },
  {
   "cell_type": "code",
   "execution_count": 3,
   "metadata": {},
   "outputs": [],
   "source": [
    "# auto pls 5\n",
    "opcijos = Options()\n",
    "opcijos.add_argument('--incognito')\n",
    "driver = webdriver.Chrome(options=opcijos)\n",
    "url = 'https://autoplius.lt/skelbimai/naudoti-automobiliai?page_nr=5'\n",
    "driver.get(url)\n",
    "time.sleep(5)\n",
    "source = driver.page_source\n",
    "driver.close()"
   ]
  },
  {
   "cell_type": "code",
   "execution_count": 4,
   "metadata": {},
   "outputs": [
    {
     "name": "stdout",
     "output_type": "stream",
     "text": [
      "['https://autoplius.lt/skelbimai/volkswagen-atlas-3-6-l-visureigis-krosoveris-2021-benzinas-26855463.html', 'https://autoplius.lt/skelbimai/mercedes-benz-glc300-2-0-l-visureigis-krosoveris-2020-benzinas-26848675.html', 'https://autoplius.lt/skelbimai/audi-q7-3-0-l-visureigis-krosoveris-2019-dyzelinas-26660329.html', 'https://autoplius.lt/skelbimai/iveco-daily-3-0-l-krovininis-mikroautobusas-2022-dyzelinas-25193627.html', 'https://autoplius.lt/skelbimai/bmw-750-4-4-l-sedanas-2019-benzinas-26526294.html', 'https://autoplius.lt/skelbimai/opel-signum-2-2-l-hecbekas-2003-benzinas-26867363.html', 'https://autoplius.lt/skelbimai/volkswagen-golf-1-6-l-hecbekas-1991-dyzelinas-26880237.html', 'https://autoplius.lt/skelbimai/seat-ibiza-1-2-l-hecbekas-2003-benzinas-26875255.html', 'https://autoplius.lt/skelbimai/toyota-avensis-2-0-l-universalas-2005-dyzelinas-26859271.html', 'https://autoplius.lt/skelbimai/toyota-avensis-verso-2-0-l-vienaturis-2005-dyzelinas-26871931.html', 'https://autoplius.lt/skelbimai/volvo-v70-2-0-l-universalas-1998-benzinas-26593145.html', 'https://autoplius.lt/skelbimai/audi-a6-1-9-l-universalas-2000-dyzelinas-26865543.html', 'https://autoplius.lt/skelbimai/bmw-318-2-0-l-sedanas-2005-benzinas-26880417.html', 'https://autoplius.lt/skelbimai/bmw-320-2-0-l-universalas-2004-dyzelinas-26880075.html', 'https://autoplius.lt/skelbimai/seat-ibiza-1-4-l-hecbekas-2007-dyzelinas-26874719.html', 'https://autoplius.lt/skelbimai/volkswagen-passat-2-0-l-universalas-2008-dyzelinas-26871611.html', 'https://autoplius.lt/skelbimai/jeep-grand-cherokee-4-7-l-visureigis-krosoveris-2003-benzinas-dujos-26879667.html', 'https://autoplius.lt/skelbimai/bmw-520-2-0-l-universalas-2009-dyzelinas-26642175.html', 'https://autoplius.lt/skelbimai/audi-a4-1-9-l-universalas-2006-dyzelinas-26877151.html', 'https://autoplius.lt/skelbimai/volkswagen-golf-1-6-l-hecbekas-2012-dyzelinas-26872707.html']\n",
      "20\n",
      "/skelbimai/naudoti-automobiliai?page_nr=6\n",
      "https://autoplius.lt/skelbimai/naudoti-automobiliai?page_nr=6\n"
     ]
    }
   ],
   "source": [
    "# autu pls 5\n",
    "bs = BeautifulSoup(source, 'html.parser')\n",
    "# print(bs)\n",
    "auto_nuorodos = []\n",
    "\n",
    "\n",
    "auto_links = bs.find('div', {'class':'auto-lists lt'}).find_all('a')\n",
    "for link in auto_links:\n",
    "    # print(link['href'])\n",
    "    auto_nuorodos.append(link['href'])\n",
    "\n",
    "print(auto_nuorodos)\n",
    "print(len(auto_nuorodos))\n",
    "\n",
    "kitas = bs.find('div', {'class':'page-navigation-container'}).find('a', {'class':'next'})\n",
    "print(kitas['href'])\n",
    "\n",
    "next_nuoroda = f'https://autoplius.lt{kitas['href']}'\n",
    "print(next_nuoroda)"
   ]
  },
  {
   "cell_type": "code",
   "execution_count": 6,
   "metadata": {},
   "outputs": [
    {
     "name": "stdout",
     "output_type": "stream",
     "text": [
      "https://autoplius.lt/skelbimai/volkswagen-atlas-3-6-l-visureigis-krosoveris-2021-benzinas-26855463.html\n",
      "Volkswagen Atlas\n",
      "{'Marke': 'Volkswagen', 'Modelis': 'Atlas', 'Kaina': '33 700', 'Rida': '40 600 km', 'Variklis': '3597 cm³, 276 AG (203kW)', 'Kuro tipas': 'Benzinas', 'Pavarų dėžė': 'Automatinė', 'Varantieji ratai': 'Visi varantys (4х4)', 'Baterijos talpa, kWh': 'None', 'Elektra nuvažiuojamas atstumas': 'None', '': 'None', 'Defektai': 'None', 'Spalva': 'Pilka / sidabrinė', 'Kėbulo tipas': 'Visureigis / Krosoveris', 'Vidutinės': '12,4', 'Mieste': '14,7', 'Užmiestyje': '10,7', 'Pirma registracija': 'None', 'Pirmosios registracijos šalis': 'None', 'Bendroji masė, kg': 'None', 'Nuosava masė, kg': '2001', 'Durų skaičius': '4/5', 'Kėbulo numeris (VIN)': 'None', 'Ilgis': 'None', 'Aukštis': 'None', 'Tech. apžiūra iki': 'None', 'CO₂ emisija, g/km': 'None', 'Euro standartas': 'None', 'Taršos mokestis': 'None', 'SDK': 'None', 'Klimato valdymas': 'Klimato kontrolė', 'Sėdimų vietų skaičius': '7', 'Ratlankių skersmuo': 'R20'}\n",
      "data written to DB\n",
      "https://autoplius.lt/skelbimai/mercedes-benz-glc300-2-0-l-visureigis-krosoveris-2020-benzinas-26848675.html\n",
      "Mercedes-Benz GLC300\n",
      "{'Marke': 'Mercedes-Benz', 'Modelis': 'GLC300', 'Kaina': '34 850', 'Rida': '68 000 km', 'Variklis': '1991 cm³, 272 AG (200kW)', 'Kuro tipas': 'Benzinas', 'Pavarų dėžė': 'Automatinė', 'Varantieji ratai': 'Visi varantys (4х4)', 'Baterijos talpa, kWh': 'None', 'Elektra nuvažiuojamas atstumas': 'None', '': 'None', 'Defektai': 'None', 'Spalva': 'Juoda', 'Kėbulo tipas': 'Visureigis / Krosoveris', 'Vidutinės': '7,1', 'Mieste': '8,1', 'Užmiestyje': '6', 'Pirma registracija': 'None', 'Pirmosios registracijos šalis': 'None', 'Bendroji masė, kg': 'None', 'Nuosava masė, kg': '1730', 'Durų skaičius': '4/5', 'Kėbulo numeris (VIN)': 'None', 'Ilgis': 'None', 'Aukštis': 'None', 'Tech. apžiūra iki': '2026-09', 'CO₂ emisija, g/km': '185 g/km', 'Euro standartas': 'None', 'Taršos mokestis': '121.41 €', 'SDK': 'None', 'Klimato valdymas': 'Klimato kontrolė', 'Sėdimų vietų skaičius': '5', 'Ratlankių skersmuo': 'R20'}\n",
      "data written to DB\n",
      "https://autoplius.lt/skelbimai/audi-q7-3-0-l-visureigis-krosoveris-2019-dyzelinas-26660329.html\n",
      "Audi Q7\n",
      "{'Marke': 'Audi', 'Modelis': 'Q7', 'Kaina': '39 000', 'Rida': '91 600 km', 'Variklis': '2967 cm³, 286 AG (210kW)', 'Kuro tipas': 'Dyzelinas', 'Pavarų dėžė': 'Automatinė', 'Varantieji ratai': 'Visi varantys (4х4)', 'Baterijos talpa, kWh': 'None', 'Elektra nuvažiuojamas atstumas': 'None', '': 'None', 'Defektai': 'None', 'Spalva': 'Balta', 'Kėbulo tipas': 'Visureigis / Krosoveris', 'Vidutinės': 'None', 'Mieste': 'None', 'Užmiestyje': 'None', 'Pirma registracija': 'None', 'Pirmosios registracijos šalis': 'Lietuva', 'Bendroji masė, kg': 'None', 'Nuosava masė, kg': 'None', 'Durų skaičius': '4/5', 'Kėbulo numeris (VIN)': 'WAUZZZ4M...\\n            Rodyti', 'Ilgis': 'None', 'Aukštis': 'None', 'Tech. apžiūra iki': '2025-07', 'CO₂ emisija, g/km': 'None', 'Euro standartas': 'None', 'Taršos mokestis': 'None', 'SDK': 'None', 'Klimato valdymas': 'Klimato kontrolė', 'Sėdimų vietų skaičius': '5', 'Ratlankių skersmuo': 'R19'}\n",
      "data written to DB\n",
      "https://autoplius.lt/skelbimai/iveco-daily-3-0-l-krovininis-mikroautobusas-2022-dyzelinas-25193627.html\n",
      "Iveco Daily\n",
      "{'Marke': 'Iveco', 'Modelis': 'Daily', 'Kaina': '39 111', 'Rida': '360 km', 'Variklis': '2998 cm³, 179 AG (132kW)', 'Kuro tipas': 'Dyzelinas', 'Pavarų dėžė': 'Mechaninė', 'Varantieji ratai': 'None', 'Baterijos talpa, kWh': 'None', 'Elektra nuvažiuojamas atstumas': 'None', '': 'None', 'Defektai': 'None', 'Spalva': 'None', 'Kėbulo tipas': 'Krovininis mikroautobusas', 'Vidutinės': 'None', 'Mieste': 'None', 'Užmiestyje': 'None', 'Pirma registracija': 'None', 'Pirmosios registracijos šalis': 'Lietuva', 'Bendroji masė, kg': '3500', 'Nuosava masė, kg': 'None', 'Durų skaičius': '2/3', 'Kėbulo numeris (VIN)': 'ZCFCD35B...\\n            Rodyti', 'Ilgis': 'Prailgintas (L3)', 'Aukštis': 'Paaukštintas (H2)', 'Tech. apžiūra iki': 'None', 'CO₂ emisija, g/km': 'None', 'Euro standartas': 'None', 'Taršos mokestis': 'None', 'SDK': 'None', 'Klimato valdymas': 'Klimato kontrolė', 'Sėdimų vietų skaičius': '3', 'Ratlankių skersmuo': 'R16'}\n",
      "data written to DB\n",
      "https://autoplius.lt/skelbimai/bmw-750-4-4-l-sedanas-2019-benzinas-26526294.html\n",
      "BMW 750\n",
      "{'Marke': 'BMW', 'Modelis': '750', 'Kaina': '48 999', 'Rida': '65 000 km', 'Variklis': '4395 cm³, 530 AG (390kW)', 'Kuro tipas': 'Benzinas', 'Pavarų dėžė': 'Automatinė', 'Varantieji ratai': 'Visi varantys (4х4)', 'Baterijos talpa, kWh': 'None', 'Elektra nuvažiuojamas atstumas': 'None', '': 'None', 'Defektai': 'None', 'Spalva': 'Pilka / sidabrinė', 'Kėbulo tipas': 'Sedanas', 'Vidutinės': '9,5', 'Mieste': '13,1', 'Užmiestyje': 'None', 'Pirma registracija': 'None', 'Pirmosios registracijos šalis': 'None', 'Bendroji masė, kg': 'None', 'Nuosava masė, kg': 'None', 'Durų skaičius': '4/5', 'Kėbulo numeris (VIN)': 'WBA7U2C0...\\n            Rodyti', 'Ilgis': 'None', 'Aukštis': 'None', 'Tech. apžiūra iki': '2025-10', 'CO₂ emisija, g/km': '~ 218 g/km', 'Euro standartas': 'None', 'Taršos mokestis': '~ 182.11 €', 'SDK': 'NRPTN...\\n                Rodyti', 'Klimato valdymas': 'Klimato kontrolė', 'Sėdimų vietų skaičius': '5', 'Ratlankių skersmuo': 'R21'}\n",
      "data written to DB\n",
      "https://autoplius.lt/skelbimai/opel-signum-2-2-l-hecbekas-2003-benzinas-26867363.html\n",
      "Opel Signum\n",
      "{'Marke': 'Opel', 'Modelis': 'Signum', 'Kaina': '550', 'Rida': '193 000 km', 'Variklis': '2198 cm³, 155 AG (114kW)', 'Kuro tipas': 'Benzinas', 'Pavarų dėžė': 'Mechaninė', 'Varantieji ratai': 'Priekiniai', 'Baterijos talpa, kWh': 'None', 'Elektra nuvažiuojamas atstumas': 'None', '': 'None', 'Defektai': 'None', 'Spalva': 'None', 'Kėbulo tipas': 'Hečbekas', 'Vidutinės': '8,1', 'Mieste': '10,6', 'Užmiestyje': '6,6', 'Pirma registracija': '2003-10', 'Pirmosios registracijos šalis': 'None', 'Bendroji masė, kg': 'None', 'Nuosava masė, kg': '1535', 'Durų skaičius': '4/5', 'Kėbulo numeris (VIN)': 'None', 'Ilgis': 'None', 'Aukštis': 'None', 'Tech. apžiūra iki': '2024-09', 'CO₂ emisija, g/km': '190 g/km', 'Euro standartas': 'None', 'Taršos mokestis': '121.41 €', 'SDK': 'RACEF...\\n                Rodyti', 'Klimato valdymas': 'None', 'Sėdimų vietų skaičius': '5', 'Ratlankių skersmuo': 'None'}\n",
      "data written to DB\n",
      "https://autoplius.lt/skelbimai/volkswagen-golf-1-6-l-hecbekas-1991-dyzelinas-26880237.html\n",
      "Volkswagen Golf\n",
      "{'Marke': 'Volkswagen', 'Modelis': 'Golf', 'Kaina': '750', 'Rida': '425 000 km', 'Variklis': '1588 cm³, 60 AG (44kW)', 'Kuro tipas': 'Dyzelinas', 'Pavarų dėžė': 'Mechaninė', 'Varantieji ratai': 'Priekiniai', 'Baterijos talpa, kWh': 'None', 'Elektra nuvažiuojamas atstumas': 'None', '': 'None', 'Defektai': 'None', 'Spalva': 'Mėlyna / žydra', 'Kėbulo tipas': 'Hečbekas', 'Vidutinės': 'None', 'Mieste': '6,5', 'Užmiestyje': '4,6', 'Pirma registracija': '1991-07', 'Pirmosios registracijos šalis': 'None', 'Bendroji masė, kg': 'None', 'Nuosava masė, kg': '960', 'Durų skaičius': '2/3', 'Kėbulo numeris (VIN)': 'None', 'Ilgis': 'None', 'Aukštis': 'None', 'Tech. apžiūra iki': 'None', 'CO₂ emisija, g/km': 'None', 'Euro standartas': 'None', 'Taršos mokestis': 'None', 'SDK': 'PKRMA...\\n                Rodyti', 'Klimato valdymas': 'None', 'Sėdimų vietų skaičius': '5', 'Ratlankių skersmuo': 'None'}\n",
      "data written to DB\n",
      "https://autoplius.lt/skelbimai/seat-ibiza-1-2-l-hecbekas-2003-benzinas-26875255.html\n",
      "Seat Ibiza\n",
      "{'Marke': 'Seat', 'Modelis': 'Ibiza', 'Kaina': '999', 'Rida': '245 500 km', 'Variklis': '1198 cm³, 64 AG (47kW)', 'Kuro tipas': 'Benzinas', 'Pavarų dėžė': 'Mechaninė', 'Varantieji ratai': 'Priekiniai', 'Baterijos talpa, kWh': 'None', 'Elektra nuvažiuojamas atstumas': 'None', '': 'None', 'Defektai': 'None', 'Spalva': 'None', 'Kėbulo tipas': 'Hečbekas', 'Vidutinės': 'None', 'Mieste': 'None', 'Užmiestyje': 'None', 'Pirma registracija': '2003', 'Pirmosios registracijos šalis': 'None', 'Bendroji masė, kg': 'None', 'Nuosava masė, kg': 'None', 'Durų skaičius': '2/3', 'Kėbulo numeris (VIN)': 'VSSZZZ6L...\\n            Rodyti', 'Ilgis': 'None', 'Aukštis': 'None', 'Tech. apžiūra iki': '2026-10', 'CO₂ emisija, g/km': '126 g/km', 'Euro standartas': 'None', 'Taršos mokestis': '0 €', 'SDK': 'RRRTF...\\n                Rodyti', 'Klimato valdymas': 'Klimato kontrolė', 'Sėdimų vietų skaičius': '5', 'Ratlankių skersmuo': 'R14'}\n",
      "data written to DB\n",
      "https://autoplius.lt/skelbimai/toyota-avensis-2-0-l-universalas-2005-dyzelinas-26859271.html\n",
      "Toyota Avensis\n",
      "{'Marke': 'Toyota', 'Modelis': 'Avensis', 'Kaina': '1 100', 'Rida': 'None', 'Variklis': '1995 cm³, 116 AG (85kW)', 'Kuro tipas': 'Dyzelinas', 'Pavarų dėžė': 'Mechaninė', 'Varantieji ratai': 'Priekiniai', 'Baterijos talpa, kWh': 'None', 'Elektra nuvažiuojamas atstumas': 'None', '': 'None', 'Defektai': 'None', 'Spalva': 'Pilka / sidabrinė', 'Kėbulo tipas': 'Universalas', 'Vidutinės': '6', 'Mieste': '7,7', 'Užmiestyje': '5,1', 'Pirma registracija': '2005-03', 'Pirmosios registracijos šalis': 'Italija', 'Bendroji masė, kg': 'None', 'Nuosava masė, kg': '1430', 'Durų skaičius': '4/5', 'Kėbulo numeris (VIN)': 'None', 'Ilgis': 'None', 'Aukštis': 'None', 'Tech. apžiūra iki': '2025-03', 'CO₂ emisija, g/km': 'None', 'Euro standartas': 'Euro 4', 'Taršos mokestis': 'None', 'SDK': 'None', 'Klimato valdymas': 'Klimato kontrolė', 'Sėdimų vietų skaičius': '5', 'Ratlankių skersmuo': 'R17'}\n",
      "data written to DB\n",
      "https://autoplius.lt/skelbimai/toyota-avensis-verso-2-0-l-vienaturis-2005-dyzelinas-26871931.html\n",
      "Toyota Avensis Verso\n",
      "{'Marke': 'Toyota', 'Modelis': 'Avensis Verso', 'Kaina': '1 450', 'Rida': '286 464 km', 'Variklis': '1995 cm³, 116 AG (85kW)', 'Kuro tipas': 'Dyzelinas', 'Pavarų dėžė': 'Mechaninė', 'Varantieji ratai': 'Priekiniai', 'Baterijos talpa, kWh': 'None', 'Elektra nuvažiuojamas atstumas': 'None', '': 'None', 'Defektai': 'None', 'Spalva': 'None', 'Kėbulo tipas': 'Vienatūris', 'Vidutinės': '6,5', 'Mieste': '8,1', 'Užmiestyje': '5,6', 'Pirma registracija': '2005-05', 'Pirmosios registracijos šalis': 'None', 'Bendroji masė, kg': 'None', 'Nuosava masė, kg': '1505', 'Durų skaičius': '4/5', 'Kėbulo numeris (VIN)': 'None', 'Ilgis': 'None', 'Aukštis': 'None', 'Tech. apžiūra iki': '2025-09', 'CO₂ emisija, g/km': '173 g/km', 'Euro standartas': 'None', 'Taršos mokestis': '202.35 €', 'SDK': 'None', 'Klimato valdymas': 'None', 'Sėdimų vietų skaičius': '7', 'Ratlankių skersmuo': 'None'}\n",
      "data written to DB\n",
      "https://autoplius.lt/skelbimai/volvo-v70-2-0-l-universalas-1998-benzinas-26593145.html\n",
      "Volvo V70\n",
      "{'Marke': 'Volvo', 'Modelis': 'V70', 'Kaina': '1 600', 'Rida': '253 000 km', 'Variklis': '1984 cm³, 226 AG (166kW)', 'Kuro tipas': 'Benzinas', 'Pavarų dėžė': 'Mechaninė', 'Varantieji ratai': 'Priekiniai', 'Baterijos talpa, kWh': 'None', 'Elektra nuvažiuojamas atstumas': 'None', '': 'None', 'Defektai': 'None', 'Spalva': 'Mėlyna / žydra', 'Kėbulo tipas': 'Universalas', 'Vidutinės': '9,5', 'Mieste': '11', 'Užmiestyje': '8,5', 'Pirma registracija': '1998-03', 'Pirmosios registracijos šalis': 'Italija', 'Bendroji masė, kg': 'None', 'Nuosava masė, kg': '1470', 'Durų skaičius': '4/5', 'Kėbulo numeris (VIN)': 'YV1LW430...\\n            Rodyti', 'Ilgis': 'None', 'Aukštis': 'None', 'Tech. apžiūra iki': '2025-12', 'CO₂ emisija, g/km': 'None', 'Euro standartas': 'None', 'Taršos mokestis': 'None', 'SDK': 'AFATP...\\n                Rodyti', 'Klimato valdymas': 'Klimato kontrolė', 'Sėdimų vietų skaičius': '5', 'Ratlankių skersmuo': 'R16'}\n",
      "data written to DB\n",
      "https://autoplius.lt/skelbimai/audi-a6-1-9-l-universalas-2000-dyzelinas-26865543.html\n",
      "Audi A6\n",
      "{'Marke': 'Audi', 'Modelis': 'A6', 'Kaina': '1 700', 'Rida': '286 445 km', 'Variklis': '1900 cm³, 110 AG (81kW)', 'Kuro tipas': 'Dyzelinas', 'Pavarų dėžė': 'Automatinė', 'Varantieji ratai': 'None', 'Baterijos talpa, kWh': 'None', 'Elektra nuvažiuojamas atstumas': 'None', '': 'None', 'Defektai': 'None', 'Spalva': 'None', 'Kėbulo tipas': 'Universalas', 'Vidutinės': 'None', 'Mieste': 'None', 'Užmiestyje': 'None', 'Pirma registracija': '2000-04', 'Pirmosios registracijos šalis': 'None', 'Bendroji masė, kg': 'None', 'Nuosava masė, kg': 'None', 'Durų skaičius': '4/5', 'Kėbulo numeris (VIN)': 'None', 'Ilgis': 'None', 'Aukštis': 'None', 'Tech. apžiūra iki': '2025-09', 'CO₂ emisija, g/km': '~ 184 g/km', 'Euro standartas': 'None', 'Taršos mokestis': '~ 242.82 €', 'SDK': 'None', 'Klimato valdymas': 'None', 'Sėdimų vietų skaičius': '5', 'Ratlankių skersmuo': 'None'}\n",
      "data written to DB\n",
      "https://autoplius.lt/skelbimai/bmw-318-2-0-l-sedanas-2005-benzinas-26880417.html\n",
      "BMW 318\n",
      "{'Marke': 'BMW', 'Modelis': '318', 'Kaina': '1 750', 'Rida': '170 000 km', 'Variklis': '1995 cm³, 143 AG (105kW)', 'Kuro tipas': 'Benzinas', 'Pavarų dėžė': 'Automatinė', 'Varantieji ratai': 'Galiniai', 'Baterijos talpa, kWh': 'None', 'Elektra nuvažiuojamas atstumas': 'None', '': 'None', 'Defektai': 'None', 'Spalva': 'Pilka / sidabrinė', 'Kėbulo tipas': 'Sedanas', 'Vidutinės': '7,2', 'Mieste': '10,2', 'Užmiestyje': '5,5', 'Pirma registracija': '2005', 'Pirmosios registracijos šalis': 'Latvija', 'Bendroji masė, kg': 'None', 'Nuosava masė, kg': '1435', 'Durų skaičius': '4/5', 'Kėbulo numeris (VIN)': 'WBAAY710...\\n            Rodyti', 'Ilgis': 'None', 'Aukštis': 'None', 'Tech. apžiūra iki': '2025-10', 'CO₂ emisija, g/km': 'None', 'Euro standartas': 'None', 'Taršos mokestis': 'None', 'SDK': 'NKPTP...\\n                Rodyti', 'Klimato valdymas': 'Klimato kontrolė', 'Sėdimų vietų skaičius': '5', 'Ratlankių skersmuo': 'R16'}\n",
      "data written to DB\n",
      "https://autoplius.lt/skelbimai/bmw-320-2-0-l-universalas-2004-dyzelinas-26880075.html\n",
      "BMW 320\n",
      "{'Marke': 'BMW', 'Modelis': '320', 'Kaina': '1 850', 'Rida': '280 500 km', 'Variklis': '1995 cm³, 150 AG (110kW)', 'Kuro tipas': 'Dyzelinas', 'Pavarų dėžė': 'Mechaninė', 'Varantieji ratai': 'Galiniai', 'Baterijos talpa, kWh': 'None', 'Elektra nuvažiuojamas atstumas': 'None', '': 'None', 'Defektai': 'None', 'Spalva': 'None', 'Kėbulo tipas': 'Universalas', 'Vidutinės': '7,1', 'Mieste': '9,7', 'Užmiestyje': '5,5', 'Pirma registracija': '2004-06', 'Pirmosios registracijos šalis': 'None', 'Bendroji masė, kg': 'None', 'Nuosava masė, kg': '1505', 'Durų skaičius': '4/5', 'Kėbulo numeris (VIN)': 'None', 'Ilgis': 'None', 'Aukštis': 'None', 'Tech. apžiūra iki': '2026-10', 'CO₂ emisija, g/km': '~ 158 g/km', 'Euro standartas': 'None', 'Taršos mokestis': '~ 121.41 €', 'SDK': 'ERPNP...\\n                Rodyti', 'Klimato valdymas': 'Oro kondicionierius', 'Sėdimų vietų skaičius': '5', 'Ratlankių skersmuo': 'None'}\n",
      "data written to DB\n",
      "https://autoplius.lt/skelbimai/seat-ibiza-1-4-l-hecbekas-2007-dyzelinas-26874719.html\n",
      "Seat Ibiza\n",
      "{'Marke': 'Seat', 'Modelis': 'Ibiza', 'Kaina': '1 880', 'Rida': '278 000 km', 'Variklis': '1422 cm³, 80 AG (59kW)', 'Kuro tipas': 'Dyzelinas', 'Pavarų dėžė': 'Mechaninė', 'Varantieji ratai': 'Priekiniai', 'Baterijos talpa, kWh': 'None', 'Elektra nuvažiuojamas atstumas': 'None', '': 'None', 'Defektai': 'None', 'Spalva': 'Pilka / sidabrinė', 'Kėbulo tipas': 'Hečbekas', 'Vidutinės': '4,6', 'Mieste': '5,7', 'Užmiestyje': '4,1', 'Pirma registracija': '2007-07', 'Pirmosios registracijos šalis': 'None', 'Bendroji masė, kg': 'None', 'Nuosava masė, kg': '1106', 'Durų skaičius': '4/5', 'Kėbulo numeris (VIN)': 'None', 'Ilgis': 'None', 'Aukštis': 'None', 'Tech. apžiūra iki': '2026-08', 'CO₂ emisija, g/km': '124 g/km', 'Euro standartas': 'None', 'Taršos mokestis': '0 €', 'SDK': 'None', 'Klimato valdymas': 'Oro kondicionierius', 'Sėdimų vietų skaičius': '5', 'Ratlankių skersmuo': 'R15'}\n",
      "data written to DB\n",
      "https://autoplius.lt/skelbimai/volkswagen-passat-2-0-l-universalas-2008-dyzelinas-26871611.html\n",
      "Volkswagen Passat\n",
      "{'Marke': 'Volkswagen', 'Modelis': 'Passat', 'Kaina': '1 900', 'Rida': '286 466 km', 'Variklis': '1968 cm³', 'Kuro tipas': 'Dyzelinas', 'Pavarų dėžė': 'Automatinė', 'Varantieji ratai': 'Priekiniai', 'Baterijos talpa, kWh': 'None', 'Elektra nuvažiuojamas atstumas': 'None', '': 'None', 'Defektai': 'None', 'Spalva': 'None', 'Kėbulo tipas': 'Universalas', 'Vidutinės': 'None', 'Mieste': 'None', 'Užmiestyje': 'None', 'Pirma registracija': '2008-11', 'Pirmosios registracijos šalis': 'None', 'Bendroji masė, kg': 'None', 'Nuosava masė, kg': 'None', 'Durų skaičius': '4/5', 'Kėbulo numeris (VIN)': 'None', 'Ilgis': 'None', 'Aukštis': 'None', 'Tech. apžiūra iki': '2025-07', 'CO₂ emisija, g/km': '~ 159 g/km', 'Euro standartas': 'None', 'Taršos mokestis': '~ 121.41 €', 'SDK': 'None', 'Klimato valdymas': 'None', 'Sėdimų vietų skaičius': '5', 'Ratlankių skersmuo': 'None'}\n",
      "data written to DB\n",
      "https://autoplius.lt/skelbimai/jeep-grand-cherokee-4-7-l-visureigis-krosoveris-2003-benzinas-dujos-26879667.html\n",
      "Jeep Grand Cherokee\n",
      "{'Marke': 'Jeep', 'Modelis': 'Grand Cherokee', 'Kaina': '2 190', 'Rida': '200 000 km', 'Variklis': '4700 cm³, 227 AG (167kW)', 'Kuro tipas': 'Benzinas / dujos', 'Pavarų dėžė': 'Automatinė', 'Varantieji ratai': 'None', 'Baterijos talpa, kWh': 'None', 'Elektra nuvažiuojamas atstumas': 'None', '': 'None', 'Defektai': 'Variklio defektas', 'Spalva': 'None', 'Kėbulo tipas': 'Visureigis / Krosoveris', 'Vidutinės': 'None', 'Mieste': 'None', 'Užmiestyje': 'None', 'Pirma registracija': '2003-11', 'Pirmosios registracijos šalis': 'None', 'Bendroji masė, kg': 'None', 'Nuosava masė, kg': 'None', 'Durų skaičius': '4/5', 'Kėbulo numeris (VIN)': 'None', 'Ilgis': 'None', 'Aukštis': 'None', 'Tech. apžiūra iki': 'None', 'CO₂ emisija, g/km': '~ 379 g/km', 'Euro standartas': 'None', 'Taršos mokestis': '~ 327.81 €', 'SDK': 'None', 'Klimato valdymas': 'None', 'Sėdimų vietų skaičius': 'None', 'Ratlankių skersmuo': 'None'}\n",
      "data written to DB\n",
      "https://autoplius.lt/skelbimai/bmw-520-2-0-l-universalas-2009-dyzelinas-26642175.html\n",
      "BMW 520\n",
      "{'Marke': 'BMW', 'Modelis': '520', 'Kaina': '2 300', 'Rida': '400 000 km', 'Variklis': '1995 cm³, 177 AG (130kW)', 'Kuro tipas': 'Dyzelinas', 'Pavarų dėžė': 'Automatinė', 'Varantieji ratai': 'Galiniai', 'Baterijos talpa, kWh': 'None', 'Elektra nuvažiuojamas atstumas': 'None', '': 'None', 'Defektai': 'Daužtas', 'Spalva': 'Mėlyna / žydra', 'Kėbulo tipas': 'Universalas', 'Vidutinės': 'None', 'Mieste': 'None', 'Užmiestyje': 'None', 'Pirma registracija': '2009-03', 'Pirmosios registracijos šalis': 'Vokietija', 'Bendroji masė, kg': 'None', 'Nuosava masė, kg': 'None', 'Durų skaičius': '4/5', 'Kėbulo numeris (VIN)': 'None', 'Ilgis': 'None', 'Aukštis': 'None', 'Tech. apžiūra iki': 'None', 'CO₂ emisija, g/km': 'None', 'Euro standartas': 'None', 'Taršos mokestis': 'None', 'SDK': 'None', 'Klimato valdymas': 'None', 'Sėdimų vietų skaičius': 'None', 'Ratlankių skersmuo': 'None'}\n",
      "data written to DB\n",
      "https://autoplius.lt/skelbimai/audi-a4-1-9-l-universalas-2006-dyzelinas-26877151.html\n",
      "Audi A4\n",
      "{'Marke': 'Audi', 'Modelis': 'A4', 'Kaina': '2 400', 'Rida': '370 000 km', 'Variklis': '1896 cm³, 116 AG (85kW)', 'Kuro tipas': 'Dyzelinas', 'Pavarų dėžė': 'Mechaninė', 'Varantieji ratai': 'Priekiniai', 'Baterijos talpa, kWh': 'None', 'Elektra nuvažiuojamas atstumas': 'None', '': 'None', 'Defektai': 'None', 'Spalva': 'Juoda', 'Kėbulo tipas': 'Universalas', 'Vidutinės': '5,6', 'Mieste': '7,5', 'Užmiestyje': '4,5', 'Pirma registracija': '2006-11', 'Pirmosios registracijos šalis': 'None', 'Bendroji masė, kg': 'None', 'Nuosava masė, kg': '1450', 'Durų skaičius': '4/5', 'Kėbulo numeris (VIN)': 'None', 'Ilgis': 'None', 'Aukštis': 'None', 'Tech. apžiūra iki': '2025-08', 'CO₂ emisija, g/km': '148 g/km', 'Euro standartas': 'None', 'Taršos mokestis': '80.94 €', 'SDK': 'SDK kodas neprivalomas (automobilis ne Lietuvoje)', 'Klimato valdymas': 'Klimato kontrolė', 'Sėdimų vietų skaičius': '5', 'Ratlankių skersmuo': 'R16'}\n",
      "data written to DB\n",
      "https://autoplius.lt/skelbimai/volkswagen-golf-1-6-l-hecbekas-2012-dyzelinas-26872707.html\n",
      "Volkswagen Golf\n",
      "{'Marke': 'Volkswagen', 'Modelis': 'Golf', 'Kaina': '2 400', 'Rida': '300 000 km', 'Variklis': '1598 cm³, 88 AG (65kW)', 'Kuro tipas': 'Dyzelinas', 'Pavarų dėžė': 'Mechaninė', 'Varantieji ratai': 'Priekiniai', 'Baterijos talpa, kWh': 'None', 'Elektra nuvažiuojamas atstumas': 'None', '': 'None', 'Defektai': 'None', 'Spalva': 'Raudona / vyšninė', 'Kėbulo tipas': 'Hečbekas', 'Vidutinės': 'None', 'Mieste': 'None', 'Užmiestyje': 'None', 'Pirma registracija': '2012', 'Pirmosios registracijos šalis': 'Lietuva', 'Bendroji masė, kg': 'None', 'Nuosava masė, kg': '1860', 'Durų skaičius': '4/5', 'Kėbulo numeris (VIN)': 'None', 'Ilgis': 'None', 'Aukštis': 'None', 'Tech. apžiūra iki': '2025-07', 'CO₂ emisija, g/km': '118 g/km', 'Euro standartas': 'None', 'Taršos mokestis': '0 €', 'SDK': 'HCNMK...\\n                Rodyti', 'Klimato valdymas': 'Oro kondicionierius', 'Sėdimų vietų skaičius': '5', 'Ratlankių skersmuo': 'R15'}\n",
      "data written to DB\n"
     ]
    }
   ],
   "source": [
    "\n",
    "\n",
    "\n",
    "driver = webdriver.Chrome(options=opcijos)\n",
    "for nuoroda in auto_nuorodos:\n",
    "    print(nuoroda)\n",
    "\n",
    "    markes5 = []\n",
    "    modeliai5= []\n",
    "    keys5 = []\n",
    "    values5 = []\n",
    "    car_i5 = {}\n",
    "    \n",
    "    duomenys = {\n",
    "    'Marke': 'None',\n",
    "    'Modelis':'None',\n",
    "    'Kaina':'None',\n",
    "    'Rida':'None',\n",
    "    'Variklis':'None',\n",
    "    'Kuro tipas':'None',\n",
    "    'Pavarų dėžė':'None',\n",
    "    'Varantieji ratai':'None',\n",
    "    'Baterijos talpa, kWh':'None',\n",
    "    'Elektra nuvažiuojamas atstumas':'None',\n",
    "    '':'None',\n",
    "    'Defektai':'None',\n",
    "    'Spalva':'None',\n",
    "    'Kėbulo tipas':'None',\n",
    "    'Vidutinės':'None',\n",
    "    'Mieste':'None',\n",
    "    'Užmiestyje':'None',\n",
    "    'Pirma registracija':'None',\n",
    "    'Pirmosios registracijos šalis':'None',\n",
    "    'Bendroji masė, kg':'None',\n",
    "    'Nuosava masė, kg':'None',\n",
    "    'Durų skaičius':'None',\n",
    "    'Kėbulo numeris (VIN)':'None',\n",
    "    'Ilgis':'None',\n",
    "    'Aukštis':'None',\n",
    "    'Tech. apžiūra iki':'None',\n",
    "    'CO₂ emisija, g/km':'None',\n",
    "    'Euro standartas':'None',\n",
    "    'Taršos mokestis':'None',\n",
    "    'SDK':'None',\n",
    "    'Klimato valdymas':'None',\n",
    "    'Sėdimų vietų skaičius':'None',\n",
    "    'Ratlankių skersmuo':'None'\n",
    "    }\n",
    "\n",
    "    url = nuoroda\n",
    "    driver.get(url)\n",
    "    time.sleep(1)\n",
    "    source = driver.page_source\n",
    "    \n",
    "    bs_auto = BeautifulSoup(source, 'html.parser')\n",
    "    \n",
    "    if bs_auto.find('div', {'class':'error'}):\n",
    "        print('skelbimas neegzistuoja')\n",
    "    else:\n",
    "        car = bs_auto.find('ol', {'class':'breadcrumbs'}).find_all('li', {'class':'crumb'})\n",
    "        marke = car[2].text.strip()\n",
    "        modelis = car[3].text.strip()\n",
    "        markes5.append(marke)\n",
    "        modeliai5.append(modelis)\n",
    "        print(marke, modelis)\n",
    "        duomenys['Marke'] = marke\n",
    "        duomenys['Modelis'] = modelis\n",
    "\n",
    "        car_price = bs_auto.find('div', {'class':'prices'})\n",
    "        kaina = car_price.text.split('€')[0].strip()\n",
    "        duomenys['Kaina'] = kaina\n",
    "\n",
    "        car_info = bs_auto.find_all('div', {'class':'parameter-row'})\n",
    "        for info in car_info[1:]:\n",
    "            # print(info)\n",
    "            # if info is not None:\n",
    "            #     # print('::NRW:::')\n",
    "            key = info.find('div', {'class':'parameter-label'}).text.strip()\n",
    "            # print(key.text.strip())\n",
    "            keys5.append(key)\n",
    "            if info.find('div', {'class':'parameter-value green-vehicle'}):\n",
    "                value = info.find('div', {'class':'parameter-value green-vehicle'}).text.strip()\n",
    "            if info.find('div', {'class':'parameter-value co2-tax approximate free'}):\n",
    "                value = info.find('div', {'class':'parameter-value co2-tax approximate free'}).text.strip()\n",
    "            else:\n",
    "                value = info.find('div', {'class':'parameter-value'}).text.strip()\n",
    "            values5.append(value)\n",
    "            # print(key, value)\n",
    "            # print(value.text.strip())\n",
    "            duomenys[key] = value\n",
    "\n",
    "    # for k, v in zip(keys5)    \n",
    "    print(duomenys)\n",
    "    data = tuple(duomenys.values())\n",
    "    data1 = []\n",
    "    data1.append(data)\n",
    "\n",
    "    SDB = sqlite3.connect('Auto.db')  # jei neegzistuoja db , bus sukurta nauja db\n",
    "    Cs = SDB.cursor()\n",
    "\n",
    "    #  if not exists - tikrina ar jau sukurta DB\n",
    "    sql = '''create table if not exists Autopliuslt\n",
    "    (\n",
    "    Marke text not null,\n",
    "    Modelis text not null,\n",
    "    Kaina text not null,\n",
    "    Rida text not null,\n",
    "    Variklis text not null,\n",
    "    Kuras text not null,\n",
    "    PavaruDeze text not null,\n",
    "    VarantiejiRatai text not null,\n",
    "    BaterijosTalpakWh text not null,\n",
    "    ElektraNuvaziuojamasAtstumas text not null,\n",
    "    Ikraunamas text not null,\n",
    "    Defektai text not null,\n",
    "    Spalva text not null,\n",
    "    KebuloTipas text not null,\n",
    "    VidutinesSanaudos text not null,\n",
    "    MiesteSanaudos text not null,\n",
    "    UzmiestyjeSanaudos text not null,\n",
    "    PirmaRegistracija text not null,\n",
    "    PirmosiosRegistracijosSalis text not null,\n",
    "    BendrojiMase text not null,\n",
    "    NuosavaMase text not null,\n",
    "    DuruSkaicius text not null,\n",
    "    KebuloNr text not null,\n",
    "    Ilgis text not null,\n",
    "    Aukstis text not null,\n",
    "    TechApziuraIki text not null,\n",
    "    COemisijagkm text not null,\n",
    "    EuroStandartas text not null,\n",
    "    TarsosMokestis text not null,\n",
    "    SDK text not null,\n",
    "    KlimatoValdymas text not null,\n",
    "    SedimosVietos text not null,\n",
    "    Ratlankiai text not null\n",
    "    )\n",
    "    '''\n",
    "    Cs.execute(sql)\n",
    "\n",
    "    sql_template = '''insert into Autopliuslt values (?,?,?,?,?,?,?,?,?,?,?,?,?,?,?,?,?,?,?,?,?,?,?,?,?,?,?,?,?,?,?,?,?)'''\n",
    "    Cs.executemany(sql_template, data1)\n",
    "\n",
    "    SDB.commit() # commit() butinas jei norim irasyti duomenis i DB\n",
    "\n",
    "    SDB.close()\n",
    "    print('data written to DB')        \n",
    "\n",
    "driver.close()"
   ]
  },
  {
   "cell_type": "code",
   "execution_count": null,
   "metadata": {},
   "outputs": [],
   "source": [
    "https://autoplius.lt/skelbimai/porsche-cayenne-3-0-l-visureigis-krosoveris-2017-benzinas-elektra-26536758.html\n",
    "\n",
    "https://autoplius.lt/skelbimai/iveco-daily-3-0-l-krovininis-mikroautobusas-2022-dyzelinas-25193627.html"
   ]
  },
  {
   "cell_type": "code",
   "execution_count": 29,
   "metadata": {},
   "outputs": [
    {
     "name": "stdout",
     "output_type": "stream",
     "text": [
      "['Pirma registracija', 'Rida', 'Variklis', 'Kuro tipas', '', 'Baterijos talpa, kWh', 'Elektra nuvažiuojamas atstumas', 'Kėbulo tipas', 'Durų skaičius', 'Varantieji ratai', 'Pavarų dėžė', 'Klimato valdymas', 'Spalva', 'Tech. apžiūra iki', 'Ratlankių skersmuo', 'Sėdimų vietų skaičius', 'Kėbulo numeris (VIN)', 'SDK', 'CO₂ emisija, g/km', 'Taršos mokestis']\n",
      "20\n",
      "('Porsche', 'Cayenne', '28 900', '230 000 km', '3000 cm³, 416 AG (306kW)', 'Benzinas / elektra', 'Automatinė', 'Visi varantys (4х4)', '10 kWh', '20 km', 'None', 'None', 'Juoda', 'Visureigis / Krosoveris', 'None', 'None', 'None', '2017-07', 'None', 'None', 'None', '4/5', 'WP1AE2A2...\\n            Rodyti', 'None', '2025-09', '~ 79 g/km', 'None', '0 €', 'RCATP...\\n                Rodyti', 'Klimato kontrolė', '5', 'R20', 'Įkraunamas')\n",
      "[('Porsche', 'Cayenne', '28 900', '230 000 km', '3000 cm³, 416 AG (306kW)', 'Benzinas / elektra', 'Automatinė', 'Visi varantys (4х4)', '10 kWh', '20 km', 'None', 'None', 'Juoda', 'Visureigis / Krosoveris', 'None', 'None', 'None', '2017-07', 'None', 'None', 'None', '4/5', 'WP1AE2A2...\\n            Rodyti', 'None', '2025-09', '~ 79 g/km', 'None', '0 €', 'RCATP...\\n                Rodyti', 'Klimato kontrolė', '5', 'R20', 'Įkraunamas')]\n"
     ]
    }
   ],
   "source": [
    "print(keys5)\n",
    "print(len(keys5))\n",
    "data = tuple(duomenys.values())\n",
    "print(data)\n",
    "data1 = []\n",
    "data1.append(data)\n",
    "print(data1)"
   ]
  },
  {
   "cell_type": "code",
   "execution_count": 63,
   "metadata": {},
   "outputs": [
    {
     "ename": "ProgrammingError",
     "evalue": "Incorrect number of bindings supplied. The current statement uses 31, and there are 3 supplied.",
     "output_type": "error",
     "traceback": [
      "\u001b[1;31m---------------------------------------------------------------------------\u001b[0m",
      "\u001b[1;31mProgrammingError\u001b[0m                          Traceback (most recent call last)",
      "Cell \u001b[1;32mIn[63], line 43\u001b[0m\n\u001b[0;32m     40\u001b[0m Cs\u001b[38;5;241m.\u001b[39mexecute(sql)\n\u001b[0;32m     42\u001b[0m sql_template \u001b[38;5;241m=\u001b[39m \u001b[38;5;124m'''\u001b[39m\u001b[38;5;124minsert into Autopliuslt values (?,?,?,?,?,?,?,?,?,?,?,?,?,?,?,?,?,?,?,?,?,?,?,?,?,?,?,?,?,?,?)\u001b[39m\u001b[38;5;124m'''\u001b[39m\n\u001b[1;32m---> 43\u001b[0m \u001b[43mCs\u001b[49m\u001b[38;5;241;43m.\u001b[39;49m\u001b[43mexecutemany\u001b[49m\u001b[43m(\u001b[49m\u001b[43msql_template\u001b[49m\u001b[43m,\u001b[49m\u001b[43m \u001b[49m\u001b[43mdata\u001b[49m\u001b[43m)\u001b[49m\n\u001b[0;32m     45\u001b[0m SDB\u001b[38;5;241m.\u001b[39mcommit() \u001b[38;5;66;03m# commit() butinas jei norim irasyti duomenis i DB\u001b[39;00m\n\u001b[0;32m     47\u001b[0m SDB\u001b[38;5;241m.\u001b[39mclose()\n",
      "\u001b[1;31mProgrammingError\u001b[0m: Incorrect number of bindings supplied. The current statement uses 31, and there are 3 supplied."
     ]
    }
   ],
   "source": [
    "SDB = sqlite3.connect('Auto.db')  # jei neegzistuoja db , bus sukurta nauja db\n",
    "Cs = SDB.cursor()\n",
    "\n",
    "#  if not exists - tikrina ar jau sukurta DB\n",
    "sql = '''create table if not exists Autopliuslt\n",
    "(\n",
    "Marke text not null,\n",
    "Modelis text not null,\n",
    "Kaina text not null,\n",
    "Rida text not null,\n",
    "Variklis text not null,\n",
    "Kuras text not null,\n",
    "PavaruDeze text not null,\n",
    "VarantiejiRatai text not null,\n",
    "BaterijosTalpakWh text not null,\n",
    "ElektraNuvažiuojamasAtstumas text not null,\n",
    "Defektai text not null,\n",
    "Spalva text not null,\n",
    "KebuloTipas text not null,\n",
    "VidutinesSanaudos text not null,\n",
    "MiesteSanaudos text not null,\n",
    "UzmiestyjeSanaudos text not null,\n",
    "PirmaRegistracija text not null,\n",
    "PirmosiosRegistracijosSalis text not null,\n",
    "BendrojiMase text not null,\n",
    "NuosavaMase text not null,\n",
    "DuruSkaicius text not null,\n",
    "KebuloNr text not null,\n",
    "Ilgis text not null,\n",
    "TechApžiuraIki text not null,\n",
    "COemisijagkm text not null,\n",
    "EuroStandartas text not null,\n",
    "TarsosMokestis text not null,\n",
    "SDK text not null,\n",
    "KlimatoValdymas text not null,\n",
    "SedimosVietos text not null,\n",
    "Ratlankiai text not null\n",
    ")\n",
    "'''\n",
    "Cs.execute(sql)\n",
    "\n",
    "sql_template = '''insert into Autopliuslt values (?,?,?,?,?,?,?,?,?,?,?,?,?,?,?,?,?,?,?,?,?,?,?,?,?,?,?,?,?,?,?)'''\n",
    "Cs.executemany(sql_template, data1)\n",
    "\n",
    "SDB.commit() # commit() butinas jei norim irasyti duomenis i DB\n",
    "\n",
    "SDB.close()"
   ]
  },
  {
   "cell_type": "code",
   "execution_count": null,
   "metadata": {},
   "outputs": [],
   "source": [
    "https://autoplius.lt/skelbimai/naudoti-automobiliai?make_id=99&page_nr=2\n",
    "\n"
   ]
  }
 ],
 "metadata": {
  "kernelspec": {
   "display_name": "DataScienceNotebooks-Gb1CNkV6",
   "language": "python",
   "name": "python3"
  },
  "language_info": {
   "codemirror_mode": {
    "name": "ipython",
    "version": 3
   },
   "file_extension": ".py",
   "mimetype": "text/x-python",
   "name": "python",
   "nbconvert_exporter": "python",
   "pygments_lexer": "ipython3",
   "version": "3.12.4"
  }
 },
 "nbformat": 4,
 "nbformat_minor": 2
}
