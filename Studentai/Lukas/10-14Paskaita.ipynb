{
 "cells": [
  {
   "cell_type": "code",
   "execution_count": 1,
   "metadata": {},
   "outputs": [],
   "source": [
    "import numpy as np\n",
    "import pandas as pd\n",
    "import matplotlib.pyplot as plt\n",
    "import warnings\n",
    "warnings.filterwarnings('ignore')\n",
    "import seaborn as sns\n",
    "import sqlite3\n",
    "import mysql.connector as cnt\n",
    "import plotly.express as px \n",
    "import requests\n",
    "# import selenium\n",
    "import os\n",
    "\n",
    "# from bs4 import BeautifulSoup"
   ]
  },
  {
   "cell_type": "code",
   "execution_count": 3,
   "metadata": {},
   "outputs": [],
   "source": [
    "import selenium\n",
    "from selenium.webdriver.chrome.options import Options\n",
    "# from selenium.webdriver.firefox.options import Options as FirefoxOptions\n",
    "from selenium import webdriver\n",
    "from bs4 import BeautifulSoup\n",
    "import time"
   ]
  },
  {
   "cell_type": "code",
   "execution_count": 4,
   "metadata": {},
   "outputs": [],
   "source": [
    "opcijos = Options()\n",
    "opcijos.add_argument('--incognito')\n",
    "driver = webdriver.Chrome(options=opcijos)\n",
    "url = 'https://www.varle.lt/dronai/'\n",
    "driver.get(url)\n",
    "time.sleep(5)\n",
    "source = driver.page_source\n",
    "driver.close()"
   ]
  },
  {
   "cell_type": "code",
   "execution_count": 5,
   "metadata": {},
   "outputs": [],
   "source": [
    "bs = BeautifulSoup(source, 'html.parser')"
   ]
  },
  {
   "cell_type": "code",
   "execution_count": 6,
   "metadata": {},
   "outputs": [
    {
     "name": "stdout",
     "output_type": "stream",
     "text": [
      "<a href=\"/dronai/dronas-dji-mini-2-se-fly-more-combo--23881156.html\">\n",
      "<img alt=\"Nuotrauka Nr.1\" class=\"product-img primary-img\" height=\"195\" loading=\"lazy\" src=\"https://www.varle.lt/static/uploads/products/235x195/404/bun/bundle-fly-more-dji-mini-2-se-mini-drone.jpg\" title=\"Dronas DJI Mini 2 SE Fly More Combo\" width=\"235\"/>\n",
      "<img alt=\"Nuotrauka Nr.2\" class=\"product-img secondary-img\" height=\"195\" loading=\"lazy\" src=\"https://www.varle.lt/static/uploads/products/235x195/404/bun/bundle-fly-more-dji-mini-2-se-mini-drone_Wo609zb.jpg\" title=\"Dronas DJI Mini 2 SE Fly More Combo\" width=\"235\"/>\n",
      "</a>\n",
      ":::NEXT:::\n",
      "/dronai/dronas-dji-mini-2-se-fly-more-combo--23881156.html\n",
      "195\n"
     ]
    }
   ],
   "source": [
    "sk = bs.find('div', {'class':'GRID_ITEM'}).find('a')\n",
    "print(sk)\n",
    "print(':::NEXT:::')\n",
    "print(sk['href'])\n",
    "img = sk.find('img')\n",
    "print(img['height'])"
   ]
  },
  {
   "cell_type": "code",
   "execution_count": 7,
   "metadata": {},
   "outputs": [],
   "source": [
    "# Surinkti iš kauno.diena.lt puslapio straipsnių pavadiniumų ilgius,\n",
    "# tam panaudoti selenium biblioteką. Surinktus duomenis surašyti į SQLite duomenų bazę.\n",
    "# Surašoma infromacija - pavadinimas, nuoroda į straipsnį, žodžių kiekis pavadinime. \n",
    "# SQLite lentelėje trys stulpeliai.\n",
    "\n",
    "opcijos = Options()\n",
    "opcijos.add_argument('--incognito')\n",
    "driver = webdriver.Chrome(options=opcijos)\n",
    "url = 'https://kauno.diena.lt/'\n",
    "driver.get(url)\n",
    "time.sleep(5)\n",
    "source = driver.page_source\n",
    "driver.close()"
   ]
  },
  {
   "cell_type": "code",
   "execution_count": 8,
   "metadata": {},
   "outputs": [
    {
     "name": "stdout",
     "output_type": "stream",
     "text": [
      "29\n",
      "['2024-ųjų Seimo rinkimai: laimėjo socdemai, antri – TS-LKD, treti – „Nemuno Aušra“ ', 'Į antrąjį Seimo rinkimų turą patekę kandidatai (apžvalga)', 'Judrioje Aleksoto gatvėje – laikini eismo ribojimai', 'Septyniose apygardose bus perskaičiuoti balsai, Panemunėje gali būti trys kandidatai ', 'Kauniečiai noriai balsavo Seimo rinkimuose: kai kur – stebinantis aktyvumas', 'Vytėnų gyventojas: šviesoforas neveikia, neįmanoma išvažiuoti', '„Lidl Lietuva“: ir toliau didinsime parduotuvių bei logistikos centro darbuotojų atlyginimus', 'Akibrokštas privačiai greitajai pagalbai: 50 įdarbintų žmonių valstybei neįdomu?', 'Vyriausybė nepritaria, kad baigę gyvulininkystę teiktų sveikatos paslaugas su gyvūnais', 'Šeima – tarsi universitetas, kuriame mokomės iš artimųjų', 'Ką pasirinks L. Mažylis – Seimą ar EP?', 'L. Kasčiūno rinkimuose aplenktas G. Landsbergis: tai – nueinančio pirmininko efektas ', 'Iš išaugtų vaikiškų drabužių – prisiminimų šiltukai', 'Mainų platformos įkūrėja: gyventi tvariau – naudinga ir finansiškai', 'Vilniaus policija aiškinasi, kas pavogė lagaminą', '„Kauno dienos“ studijoje – istorikas R. Kamuntavičius: ar reikia bijoti gudiško litvinizmo?', 'M. Balčiūnas: jei aš iš savo įmonių parėmiau LKF, kuo tai blogai finansiškai?', '„Litgrid“: vėjo jėgainių gamyba pastarąją savaitę augo daugiau nei 2 kartus', 'Kodėl iš šių butų nesikrausto senbuviai?', 'Tyrimas: išsiaiškinta, kokia buvo K. Kolumbo kilmė', 'Vaikų ligoninėje –\\xa0džiaugsmas: atskirti Siamo dvyniai\\xa0 ', 'M. Lukauskis ir krepšinis: skyrybos vėl atidėtos', 'Baltijos tinklinio lygoje – nauji lietuvių užmojai', 'Vilniuje nenustatyti asmenys apiplėšė vyrą', '„TikTok“ žvaigždės nuomotą butą padegęs vyras išgirdo teismo nuosprendį', 'J. Statkevičius atvirai: kodėl nesiruošia į pensiją ir kiek po Paryžiaus kainuos jo drabužiai', '„370“ rekomenduojamos knygos', 'Pirmi pasaulyje: „SpaceX“ sėkmingai „pagavo“ savo raketos greitintuvą', 'Valgomosios gėlės: gražu, bet ne visada saugu']\n",
      "29\n",
      "['naujienos/lietuva/politika/lietuva-renka-nauja-valdzia-apylinkes-uzsidare-skaiciuojami-balsai-1195621', 'naujienos/lietuva/politika/laukia-kova-vienmandatese-aiskeja-i-antraji-tura-pateke-kandidatai-1195683', 'naujienos/kaunas/miesto-pulsas/judrioje-aleksoto-gatveje-laikini-eismo-ribojimai-1195787', 'naujienos/lietuva/politika/sesiose-apygardose-bus-perskaiciuoti-balsai-panemuneje-gali-buti-trys-kandidatai-1195781', 'naujienos/kaunas/miesto-pulsas/kaunieciai-noriai-balsuoja-seimo-rinkimuose-kai-kur-stebinantis-aktyvumas-nuolat-atnaujinama-1195597', 'naujienos/kaunas/miesto-pulsas/vytenu-gyventojas-sviesoforas-neveikia-neimanoma-isvaziuoti-1189731', 'naujienos/verslas/imoniu-pulsas/lidl-lietuva-ir-toliau-didinsime-parduotuviu-bei-logistikos-centro-darbuotoju-atlyginimus-1145677', 'naujienos/lietuva/salies-pulsas/akibrokstas-privaciai-greitajai-pagalbai-viskas-vyksta-pagal-sutarti-1194484', 'naujienos/verslas/ekonomika/vyriausybe-nepritaria-kad-baige-gyvulininkyste-teiktu-sveikatos-paslaugas-su-gyvunais-1195593', 'naujienos/sveikata/psichologija/seima-tarsi-universitetas-kuriame-mokomes-artimuju-1195032', 'naujienos/lietuva/politika/ka-pasirinks-l-mazylis-seima-ar-ep-1195817', 'naujienos/lietuva/politika/l-kasciuno-rinkimuose-aplenktas-g-landsbergis-tai-nueinancio-pirmininko-efektas-1195807', 'naujienos/lietuva/salies-pulsas/isaugtu-vaikisku-drabuziu-prisiminimu-siltukai-1195036', 'naujienos/lietuva/salies-pulsas/mainu-platformos-ikureja-gyventi-tvariau-naudinga-ir-finansiskai-1194059', 'https://www.diena.lt/naujienos/vilnius/nusikaltimai-ir-nelaimes/vilniaus-policija-aiskinasi-kas-pavoge-lagamina-1195812', 'naujienos/kauno-dienos-studija/kauno-dienos-studijoje-istorikas-r-kamuntavicius-ar-reikia-bijoti-gudisko-litvinizmo-1195490', 'naujienos/sportas/krepsinis/m-balciunas-jei-savo-imoniu-paremiau-lkf-kuo-tai-blogai-finansiskai-1190480', 'naujienos/verslas/ekonomika/litgrid-vejo-jegainiu-gamyba-pastaraja-savaite-augo-daugiau-nei-2-kartus-1195825', 'naujienos/vilnius/miesto-pulsas/kodel-siu-butu-nesikrausto-senbuviai-1195793', 'naujienos/pasaulis/ekonomika-ir-politika/tyrimas-issiaiskinta-kokia-buvo-k-kolumbo-tautybe-1195824', 'naujienos/pasaulis/ekonomika-ir-politika/vaiku-ligonineje-dziaugsmas-atskirti-siamo-dvyniai-1195816', 'naujienos/sportas/krepsinis/m-lukauskis-ir-krepsinis-skyrybos-vel-atidetos-1195428', 'naujienos/sportas/kitos-sporto-sakos/baltijos-tinklinio-lygoje-nauji-lietuviu-uzmojai-1195429', 'naujienos/vilnius/nusikaltimai-ir-nelaimes/vilniuje-nenustatyti-asmenys-apiplese-vyra-1195775', 'naujienos/kriminalai/nusikaltimai/nuteistas-panevezyje-i-buta-petarda-imetes-vyras-1195762', 'naujienos/laisvalaikis-ir-kultura/zvaigzdes-ir-pramogos/j-statkevicius-atvirai-kodel-nesiruosia-i-pensija-ir-kiek-po-paryziaus-kainuos-jo-drabuziai-1195814', 'naujienos/laisvalaikis-ir-kultura/kultura/370-rekomenduojamos-knygos-1195768', 'naujienos/pasaulis/ekonomika-ir-politika/pirmi-pasaulyje-spacex-sekmingai-pagavo-savo-raketos-greitintuva-1195611', 'naujienos/ivairenybes/receptai/geles-maiste-grazu-bet-ne-visada-saugu-1195045']\n"
     ]
    }
   ],
   "source": [
    "\n",
    "\n",
    "\n",
    "bs_kauno = BeautifulSoup(source, 'html.parser')\n",
    "# print(bs)\n",
    "nuorodos_kauno = []\n",
    "pavadinimai_kauno = []\n",
    "straipsniai_kauno = bs_kauno.find_all('div', {'category-block-row grid-12 alpha omega unscore'})\n",
    "for s in straipsniai_kauno:\n",
    "    i = s.find('div', {'class':'articles-list-title-wrapper'})\n",
    "    if i is not None:\n",
    "        t = i.find('a', {'class':'articles-list-title'})\n",
    "        pavadinimai_kauno.append(t.text)\n",
    "        nuorodos_kauno.append(t['href'])\n",
    "        # print(':::REM:::')\n",
    "        # print(t)\n",
    "        # print('HREF?')\n",
    "        # print(t['href'])\n",
    "        # print(t.text)\n",
    "\n",
    "print(len(pavadinimai_kauno))\n",
    "print(pavadinimai_kauno)\n",
    "print(len(nuorodos_kauno))\n",
    "print(nuorodos_kauno)"
   ]
  },
  {
   "cell_type": "code",
   "execution_count": 9,
   "metadata": {},
   "outputs": [
    {
     "name": "stdout",
     "output_type": "stream",
     "text": [
      "vidutinis zodziu kiekis \"Kauno diena\" pavadinimuose: 8.551724137931034\n",
      "[12, 8, 7, 10, 10, 6, 11, 9, 10, 8, 8, 11, 7, 9, 6, 12, 13, 11, 6, 7, 7, 7, 7, 5, 9, 14, 3, 8, 7]\n"
     ]
    }
   ],
   "source": [
    "zodziu_kiekiai_kauno = []\n",
    "for pav in pavadinimai_kauno:\n",
    "    kiekis =len(pav.split())\n",
    "    zodziu_kiekiai_kauno.append(kiekis)\n",
    "    \n",
    "vidutinis_zodziu_kiekis_kauno = sum(zodziu_kiekiai_kauno) / len(zodziu_kiekiai_kauno)\n",
    "print(f'vidutinis zodziu kiekis \"Kauno diena\" pavadinimuose: {vidutinis_zodziu_kiekis_kauno}')\n",
    "print(zodziu_kiekiai_kauno)\n"
   ]
  },
  {
   "cell_type": "code",
   "execution_count": 12,
   "metadata": {},
   "outputs": [],
   "source": [
    "SDB = sqlite3.connect('Testas.db')  # jei neegzistuoja db , bus sukurta nauja db\n",
    "Cs = SDB.cursor()\n",
    "\n",
    "#  if not exists - tikrina ar jau sukurta DB\n",
    "sql = '''create table if not exists KaunoDiena\n",
    "(\n",
    "pavadinimas text not null,\n",
    "nuoroda text not null,\n",
    "zodziu_kiekis integer not null\n",
    ")\n",
    "'''\n",
    "Cs.execute(sql)\n",
    "\n",
    "# sql_template = '''insert into T1 values (?,?,?)'''\n",
    "# for a, b, c in zip(pavadinimai, nuorodos, zodziukiekiai):\n",
    "#     Cs.execute(sql_template, (a, b, c))\n",
    "\n",
    "sql_template = '''insert into KaunoDiena values (?,?,?)'''\n",
    "data = list(zip(pavadinimai_kauno, nuorodos_kauno, zodziu_kiekiai_kauno))\n",
    "Cs.executemany(sql_template, data)\n",
    "\n",
    "\n",
    "SDB.commit() # commit() butinas jei norim irasyti duomenis i DB\n",
    "\n",
    "SDB.close()"
   ]
  },
  {
   "cell_type": "code",
   "execution_count": 19,
   "metadata": {},
   "outputs": [
    {
     "data": {
      "text/html": [
       "<div>\n",
       "<style scoped>\n",
       "    .dataframe tbody tr th:only-of-type {\n",
       "        vertical-align: middle;\n",
       "    }\n",
       "\n",
       "    .dataframe tbody tr th {\n",
       "        vertical-align: top;\n",
       "    }\n",
       "\n",
       "    .dataframe thead th {\n",
       "        text-align: right;\n",
       "    }\n",
       "</style>\n",
       "<table border=\"1\" class=\"dataframe\">\n",
       "  <thead>\n",
       "    <tr style=\"text-align: right;\">\n",
       "      <th></th>\n",
       "      <th>pavadinimas</th>\n",
       "      <th>nuoroda</th>\n",
       "      <th>zodziu_kiekis</th>\n",
       "    </tr>\n",
       "  </thead>\n",
       "  <tbody>\n",
       "    <tr>\n",
       "      <th>0</th>\n",
       "      <td>2024-ųjų Seimo rinkimai: laimėjo socdemai, ant...</td>\n",
       "      <td>naujienos/lietuva/politika/lietuva-renka-nauja...</td>\n",
       "      <td>12</td>\n",
       "    </tr>\n",
       "    <tr>\n",
       "      <th>1</th>\n",
       "      <td>Į antrąjį Seimo rinkimų turą patekę kandidatai...</td>\n",
       "      <td>naujienos/lietuva/politika/laukia-kova-vienman...</td>\n",
       "      <td>8</td>\n",
       "    </tr>\n",
       "    <tr>\n",
       "      <th>2</th>\n",
       "      <td>Judrioje Aleksoto gatvėje – laikini eismo ribo...</td>\n",
       "      <td>naujienos/kaunas/miesto-pulsas/judrioje-alekso...</td>\n",
       "      <td>7</td>\n",
       "    </tr>\n",
       "    <tr>\n",
       "      <th>3</th>\n",
       "      <td>Septyniose apygardose bus perskaičiuoti balsai...</td>\n",
       "      <td>naujienos/lietuva/politika/sesiose-apygardose-...</td>\n",
       "      <td>10</td>\n",
       "    </tr>\n",
       "    <tr>\n",
       "      <th>4</th>\n",
       "      <td>Kauniečiai noriai balsavo Seimo rinkimuose: ka...</td>\n",
       "      <td>naujienos/kaunas/miesto-pulsas/kaunieciai-nori...</td>\n",
       "      <td>10</td>\n",
       "    </tr>\n",
       "  </tbody>\n",
       "</table>\n",
       "</div>"
      ],
      "text/plain": [
       "                                         pavadinimas  \\\n",
       "0  2024-ųjų Seimo rinkimai: laimėjo socdemai, ant...   \n",
       "1  Į antrąjį Seimo rinkimų turą patekę kandidatai...   \n",
       "2  Judrioje Aleksoto gatvėje – laikini eismo ribo...   \n",
       "3  Septyniose apygardose bus perskaičiuoti balsai...   \n",
       "4  Kauniečiai noriai balsavo Seimo rinkimuose: ka...   \n",
       "\n",
       "                                             nuoroda  zodziu_kiekis  \n",
       "0  naujienos/lietuva/politika/lietuva-renka-nauja...             12  \n",
       "1  naujienos/lietuva/politika/laukia-kova-vienman...              8  \n",
       "2  naujienos/kaunas/miesto-pulsas/judrioje-alekso...              7  \n",
       "3  naujienos/lietuva/politika/sesiose-apygardose-...             10  \n",
       "4  naujienos/kaunas/miesto-pulsas/kaunieciai-nori...             10  "
      ]
     },
     "execution_count": 19,
     "metadata": {},
     "output_type": "execute_result"
    }
   ],
   "source": [
    "SDB = sqlite3.connect('Testas.db')  # jei neegzistuoja db , bus sukurta nauja db\n",
    "Cs = SDB.cursor()\n",
    "sql = '''\n",
    "select * from KaunoDiena;\n",
    "'''\n",
    "Cs.execute(sql)\n",
    "SDB.commit() # commit() butinas jei norim irasyti duomenis i DB\n",
    "\n",
    "df = pd.read_sql_query(sql, con=SDB)\n",
    "df.head()\n",
    "# SDB.close()\n"
   ]
  },
  {
   "cell_type": "code",
   "execution_count": 20,
   "metadata": {},
   "outputs": [],
   "source": [
    "# autoplius\n",
    "\n",
    "opcijos = Options()\n",
    "opcijos.add_argument('--incognito')\n",
    "driver = webdriver.Chrome(options=opcijos)\n",
    "url = 'https://autoplius.lt/skelbimai/naudoti-automobiliai'\n",
    "driver.get(url)\n",
    "time.sleep(5)\n",
    "source = driver.page_source\n",
    "driver.close()"
   ]
  },
  {
   "cell_type": "code",
   "execution_count": 34,
   "metadata": {},
   "outputs": [
    {
     "name": "stdout",
     "output_type": "stream",
     "text": [
      "['https://autoplius.lt/skelbimai/bmw-428-gran-coupe-2-0-l-kupe-coupe-2015-benzinas-26837939.html', 'https://autoplius.lt/skelbimai/bmw-530-2-0-l-sedanas-2019-benzinas-26808537.html', 'https://autoplius.lt/skelbimai/bmw-530-2-0-l-sedanas-2021-benzinas-26749453.html', 'https://autoplius.lt/skelbimai/bmw-530-3-0-l-sedanas-2004-benzinas-26675965.html', 'https://autoplius.lt/skelbimai/fiat-500x-2-4-l-visureigis-krosoveris-2016-benzinas-dujos-26862175.html', 'https://autoplius.lt/skelbimai/bmw-320-gran-turismo-2-0-l-hecbekas-2016-dyzelinas-26830873.html', 'https://autoplius.lt/skelbimai/mazda-cx-5-2-0-l-visureigis-krosoveris-2017-benzinas-26740367.html', 'https://autoplius.lt/skelbimai/mercedes-benz-clk320-3-2-l-kupe-coupe-2002-benzinas-dujos-26445796.html', 'https://autoplius.lt/skelbimai/bmw-520-2-0-l-universalas-2006-dyzelinas-26806059.html', 'https://autoplius.lt/skelbimai/volkswagen-amarok-2-0-l-pikapas-2014-dyzelinas-26615729.html', 'https://autoplius.lt/skelbimai/land-rover-discovery-sport-2-0-l-visureigis-krosoveris-2020-dyzelinas-elektra-25338021.html', 'https://autoplius.lt/skelbimai/toyota-prius-1-5-l-hecbekas-2008-benzinas-elektra-26782479.html', 'https://autoplius.lt/skelbimai/mercedes-benz-c220-2-1-l-universalas-2009-dyzelinas-26866731.html', 'https://autoplius.lt/skelbimai/peugeot-508-2-0-l-universalas-2011-dyzelinas-26838409.html', 'https://autoplius.lt/skelbimai/bmw-318-2-0-l-universalas-2009-dyzelinas-26753921.html', 'https://autoplius.lt/skelbimai/volvo-v70-2-4-l-universalas-2009-dyzelinas-26832241.html', 'https://autoplius.lt/skelbimai/bmw-530-3-0-l-sedanas-2004-benzinas-26144972.html', 'https://autoplius.lt/skelbimai/bmw-525-3-0-l-universalas-2011-dyzelinas-26347076.html', 'https://autoplius.lt/skelbimai/bmw-325-3-0-l-kupe-coupe-2011-dyzelinas-26828241.html', 'https://autoplius.lt/skelbimai/bmw-x5-3-0-l-visureigis-krosoveris-2010-dyzelinas-26868613.html']\n",
      "20\n",
      "/skelbimai/naudoti-automobiliai?page_nr=2\n",
      "https://autoplius.lt/skelbimai/naudoti-automobiliai?page_nr=2\n"
     ]
    }
   ],
   "source": [
    "bs = BeautifulSoup(source, 'html.parser')\n",
    "# print(bs)\n",
    "auto_nuorodos = []\n",
    "\n",
    "\n",
    "auto_links = bs.find('div', {'class':'auto-lists lt'}).find_all('a')\n",
    "for link in auto_links:\n",
    "    # print(link['href'])\n",
    "    auto_nuorodos.append(link['href'])\n",
    "\n",
    "print(auto_nuorodos)\n",
    "print(len(auto_nuorodos))\n",
    "\n",
    "kitas = bs.find('div', {'class':'page-navigation-container'}).find('a', {'class':'next'})\n",
    "print(kitas['href'])\n",
    "\n",
    "next_nuoroda = f'https://autoplius.lt{kitas['href']}'\n",
    "print(next_nuoroda)"
   ]
  },
  {
   "cell_type": "code",
   "execution_count": 36,
   "metadata": {},
   "outputs": [
    {
     "name": "stdout",
     "output_type": "stream",
     "text": [
      "https://autoplius.lt/skelbimai/bmw-428-gran-coupe-2-0-l-kupe-coupe-2015-benzinas-26837939.html\n"
     ]
    }
   ],
   "source": [
    "for nuoroda in auto_nuorodos[0:1]:\n",
    "    print(nuoroda)\n",
    "    driver = webdriver.Chrome(options=opcijos)\n",
    "    url = nuoroda\n",
    "    driver.get(url)\n",
    "    time.sleep(5)\n",
    "    source = driver.page_source\n",
    "    driver.close()\n",
    "    \n",
    "    "
   ]
  },
  {
   "cell_type": "code",
   "execution_count": 40,
   "metadata": {},
   "outputs": [
    {
     "name": "stdout",
     "output_type": "stream",
     "text": [
      "BMW 428 Gran Coupe\n"
     ]
    }
   ],
   "source": [
    "bs_auto = BeautifulSoup(source, 'html.parser')\n",
    "\n",
    "car = bs_auto.find('ol', {'class':'breadcrumbs'}).find_all('li', {'class':'crumb'})\n",
    "marke = car[2].text.strip()\n",
    "modelis = car[3].text.strip()\n",
    "print(marke, modelis)"
   ]
  }
 ],
 "metadata": {
  "kernelspec": {
   "display_name": "Python 3",
   "language": "python",
   "name": "python3"
  },
  "language_info": {
   "codemirror_mode": {
    "name": "ipython",
    "version": 3
   },
   "file_extension": ".py",
   "mimetype": "text/x-python",
   "name": "python",
   "nbconvert_exporter": "python",
   "pygments_lexer": "ipython3",
   "version": "3.12.4"
  }
 },
 "nbformat": 4,
 "nbformat_minor": 2
}
