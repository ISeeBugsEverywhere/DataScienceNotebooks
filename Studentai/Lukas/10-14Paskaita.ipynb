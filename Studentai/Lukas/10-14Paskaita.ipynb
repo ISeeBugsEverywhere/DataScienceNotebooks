{
 "cells": [
  {
   "cell_type": "code",
   "execution_count": 1,
   "metadata": {},
   "outputs": [],
   "source": [
    "import numpy as np\n",
    "import pandas as pd\n",
    "import matplotlib.pyplot as plt\n",
    "import warnings\n",
    "warnings.filterwarnings('ignore')\n",
    "import seaborn as sns\n",
    "import sqlite3\n",
    "import mysql.connector as cnt\n",
    "import plotly.express as px \n",
    "import requests\n",
    "# import selenium\n",
    "import os\n",
    "\n",
    "# from bs4 import BeautifulSoup"
   ]
  },
  {
   "cell_type": "code",
   "execution_count": 2,
   "metadata": {},
   "outputs": [],
   "source": [
    "import selenium\n",
    "from selenium.webdriver.chrome.options import Options\n",
    "# from selenium.webdriver.firefox.options import Options as FirefoxOptions\n",
    "from selenium import webdriver\n",
    "from bs4 import BeautifulSoup\n",
    "import time"
   ]
  },
  {
   "cell_type": "code",
   "execution_count": 4,
   "metadata": {},
   "outputs": [],
   "source": [
    "opcijos = Options()\n",
    "opcijos.add_argument('--incognito')\n",
    "driver = webdriver.Chrome(options=opcijos)\n",
    "url = 'https://www.varle.lt/dronai/'\n",
    "driver.get(url)\n",
    "time.sleep(5)\n",
    "source = driver.page_source\n",
    "driver.close()"
   ]
  },
  {
   "cell_type": "code",
   "execution_count": 5,
   "metadata": {},
   "outputs": [],
   "source": [
    "bs = BeautifulSoup(source, 'html.parser')"
   ]
  },
  {
   "cell_type": "code",
   "execution_count": 6,
   "metadata": {},
   "outputs": [
    {
     "name": "stdout",
     "output_type": "stream",
     "text": [
      "<a href=\"/dronai/dronas-dji-mini-2-se-fly-more-combo--23881156.html\">\n",
      "<img alt=\"Nuotrauka Nr.1\" class=\"product-img primary-img\" height=\"195\" loading=\"lazy\" src=\"https://www.varle.lt/static/uploads/products/235x195/404/bun/bundle-fly-more-dji-mini-2-se-mini-drone.jpg\" title=\"Dronas DJI Mini 2 SE Fly More Combo\" width=\"235\"/>\n",
      "<img alt=\"Nuotrauka Nr.2\" class=\"product-img secondary-img\" height=\"195\" loading=\"lazy\" src=\"https://www.varle.lt/static/uploads/products/235x195/404/bun/bundle-fly-more-dji-mini-2-se-mini-drone_Wo609zb.jpg\" title=\"Dronas DJI Mini 2 SE Fly More Combo\" width=\"235\"/>\n",
      "</a>\n",
      ":::NEXT:::\n",
      "/dronai/dronas-dji-mini-2-se-fly-more-combo--23881156.html\n",
      "195\n"
     ]
    }
   ],
   "source": [
    "sk = bs.find('div', {'class':'GRID_ITEM'}).find('a')\n",
    "print(sk)\n",
    "print(':::NEXT:::')\n",
    "print(sk['href'])\n",
    "img = sk.find('img')\n",
    "print(img['height'])"
   ]
  },
  {
   "cell_type": "code",
   "execution_count": 3,
   "metadata": {},
   "outputs": [],
   "source": [
    "# Surinkti iš kauno.diena.lt puslapio straipsnių pavadiniumų ilgius,\n",
    "# tam panaudoti selenium biblioteką. Surinktus duomenis surašyti į SQLite duomenų bazę.\n",
    "# Surašoma infromacija - pavadinimas, nuoroda į straipsnį, žodžių kiekis pavadinime. \n",
    "# SQLite lentelėje trys stulpeliai.\n",
    "\n",
    "opcijos = Options()\n",
    "opcijos.add_argument('--incognito')\n",
    "driver = webdriver.Chrome(options=opcijos)\n",
    "url = 'https://kauno.diena.lt/'\n",
    "driver.get(url)\n",
    "time.sleep(5)\n",
    "source = driver.page_source\n",
    "driver.close()"
   ]
  },
  {
   "cell_type": "code",
   "execution_count": 4,
   "metadata": {},
   "outputs": [
    {
     "name": "stdout",
     "output_type": "stream",
     "text": [
      "29\n",
      "['2024-ųjų Seimo rinkimai: laimėjo socdemai, antri – TS-LKD, treti – „Nemuno Aušra“ ', 'Į antrąjį Seimo rinkimų turą patekę kandidatai (apžvalga)', 'Kauno rajonas patrauklus ne tik turistams, bet ir turizmo, laisvalaikio pramogų kūrėjams', 'Judrioje Aleksoto gatvėje – laikini eismo ribojimai', 'Trijulę įklampino machinacijos: pelnėsi iš dyzelino kuro', 'Vytėnų gyventojas: šviesoforas neveikia, neįmanoma išvažiuoti', '„Lidl Lietuva“: ir toliau didinsime parduotuvių bei logistikos centro darbuotojų atlyginimus', 'Akibrokštas privačiai greitajai pagalbai: 50 įdarbintų žmonių valstybei neįdomu?', 'Vaisto registraciją painioja su vaisto kompensacija', 'Bent trumpam pabūti gyvūnu – nauja tendencija tarp paauglių', 'VTEK vadovas Seimo opozicijai aiškinsis, kodėl nepradėjo tyrimo dėl M. Navickienės kelionės į Dubajų', 'G. Landsbergis su kolegomis Moldovoje aptars šios šalies stojimo į ES procesą', 'Iš išaugtų vaikiškų drabužių – prisiminimų šiltukai', 'Mainų platformos įkūrėja: gyventi tvariau – naudinga ir finansiškai', 'Vilniaus rajone per avariją žuvo vyras', '„Kauno dienos“ studijoje – istorikas R. Kamuntavičius: ar reikia bijoti gudiško litvinizmo?', 'M. Balčiūnas: jei aš iš savo įmonių parėmiau LKF, kuo tai blogai finansiškai?', '„Maxima grupės“ stebėtojai atšaukiami, valdybą rinks N. Numos valdoma „Vilniaus prekyba“ ', '„Litgrid“: vėjo jėgainių gamyba pastarąją savaitę augo daugiau nei 2 kartus', 'Rusų sviedinys pataikė į gyvenamąjį namą Chersone, žuvo dvi moterys', 'Prancūzijos kraštutinių dešiniųjų lyderė M. Le Pen dėl netikrų darbo vietų pareiškė esanti nekalta', 'Prieš startą pasaulio čempionate - MMA kovotojų repeticijos', 'M. Lukauskis ir krepšinis: skyrybos vėl atidėtos', 'Šiauliuose pavogtą „Audi“ tyrėjai surado Radviliškio rajone', 'Neramumai Vilniaus rajone: iš namo kiemo pavogtas automobilis', 'J. Statkevičius atvirai: kodėl nesiruošia į pensiją ir kiek po Paryžiaus kainuos jo drabužiai', '„370“ rekomenduojamos knygos', '„188 metų“ vyras buvo išgelbėtas iš urvo?', 'Susipažinkite: nauja Vyriausybės darbuotoja – Tiramisu']\n",
      "29\n",
      "['naujienos/lietuva/politika/lietuva-renka-nauja-valdzia-apylinkes-uzsidare-skaiciuojami-balsai-1195621', 'naujienos/lietuva/politika/laukia-kova-vienmandatese-aiskeja-i-antraji-tura-pateke-kandidatai-1195683', 'naujienos/kaunas/miesto-pulsas/kauno-rajonas-patrauklus-ne-tik-turistams-bet-ir-turizmo-laisvalaikio-pramogu-kurejams-1195722', 'naujienos/kaunas/miesto-pulsas/judrioje-aleksoto-gatveje-laikini-eismo-ribojimai-1195787', 'naujienos/kaunas/nusikaltimai-ir-nelaimes/trijule-iklampino-machinacijos-pelnesi-dyzelino-kuro-1195765', 'naujienos/kaunas/miesto-pulsas/vytenu-gyventojas-sviesoforas-neveikia-neimanoma-isvaziuoti-1189731', 'naujienos/verslas/imoniu-pulsas/lidl-lietuva-ir-toliau-didinsime-parduotuviu-bei-logistikos-centro-darbuotoju-atlyginimus-1145677', 'naujienos/lietuva/salies-pulsas/akibrokstas-privaciai-greitajai-pagalbai-viskas-vyksta-pagal-sutarti-1194484', 'naujienos/sveikata/sveikata/vaisto-registracija-painioja-su-vaisto-kompensacija-1194863', 'naujienos/sveikata/psichologija/bent-trumpam-pabuti-gyvunu-nauja-tendencija-tarp-paaugliu-1195550', 'naujienos/lietuva/politika/vtek-vadovas-seimo-opozicijai-aiskinsis-kodel-nepradejo-tyrimo-del-m-navickienes-keliones-i-dubaju-1195865', 'naujienos/lietuva/politika/g-landsbergis-su-kolegomis-moldovoje-aptars-sios-salies-stojimo-i-es-procesa-1195863', 'naujienos/lietuva/salies-pulsas/isaugtu-vaikisku-drabuziu-prisiminimu-siltukai-1195036', 'naujienos/lietuva/salies-pulsas/mainu-platformos-ikureja-gyventi-tvariau-naudinga-ir-finansiskai-1194059', 'https://www.diena.lt/naujienos/vilnius/nusikaltimai-ir-nelaimes/vilniaus-rajone-avarija-zuvo-vyras-1195856', 'naujienos/kauno-dienos-studija/kauno-dienos-studijoje-istorikas-r-kamuntavicius-ar-reikia-bijoti-gudisko-litvinizmo-1195490', 'naujienos/sportas/krepsinis/m-balciunas-jei-savo-imoniu-paremiau-lkf-kuo-tai-blogai-finansiskai-1190480', 'naujienos/verslas/ekonomika/maxima-grupes-stebetojai-atsaukiami-valdyba-rinks-n-numa-1195832', 'naujienos/verslas/ekonomika/litgrid-vejo-jegainiu-gamyba-pastaraja-savaite-augo-daugiau-nei-2-kartus-1195825', 'naujienos/pasaulis/konfliktai-nelaimes/rusu-sviedinys-pataike-i-gyvenamaji-nama-chersone-zuvo-dvi-moterys-1195849', 'naujienos/pasaulis/ekonomika-ir-politika/prancuzijos-krastutiniu-desiniuju-lydere-m-le-pen-del-netikru-darbo-vietu-pareiske-esanti-nekalta-1195845', 'naujienos/sportas/kitos-sporto-sakos/pries-starta-pasaulio-cempionate-mma-kovotoju-repeticijos-1195829', 'naujienos/sportas/krepsinis/m-lukauskis-ir-krepsinis-skyrybos-vel-atidetos-1195428', 'naujienos/kriminalai/nusikaltimai/siauliuose-pavogta-audi-tyrejai-surado-radviliskio-rajone-1195783', 'naujienos/vilnius/nusikaltimai-ir-nelaimes/neramumai-vilniaus-rajone-namo-kiemo-pavogtas-automobilis-1195763', 'naujienos/laisvalaikis-ir-kultura/zvaigzdes-ir-pramogos/j-statkevicius-atvirai-kodel-nesiruosia-i-pensija-ir-kiek-po-paryziaus-kainuos-jo-drabuziai-1195814', 'naujienos/laisvalaikis-ir-kultura/kultura/370-rekomenduojamos-knygos-1195768', 'naujienos/ivairenybes/sunku-patiketi/188-metu-vyras-isgelbetas-urvo-1195777', 'naujienos/ivairenybes/gamta/susipazinkite-nauja-vyriausybes-darbuotoja-tiramisu-1195605']\n"
     ]
    }
   ],
   "source": [
    "\n",
    "\n",
    "\n",
    "bs_kauno = BeautifulSoup(source, 'html.parser')\n",
    "# print(bs)\n",
    "nuorodos_kauno = []\n",
    "pavadinimai_kauno = []\n",
    "straipsniai_kauno = bs_kauno.find_all('div', {'category-block-row grid-12 alpha omega unscore'})\n",
    "for s in straipsniai_kauno:\n",
    "    i = s.find('div', {'class':'articles-list-title-wrapper'})\n",
    "    if i is not None:\n",
    "        t = i.find('a', {'class':'articles-list-title'})\n",
    "        pavadinimai_kauno.append(t.text)\n",
    "        nuorodos_kauno.append(t['href'])\n",
    "        # print(':::REM:::')\n",
    "        # print(t)\n",
    "        # print('HREF?')\n",
    "        # print(t['href'])\n",
    "        # print(t.text)\n",
    "\n",
    "print(len(pavadinimai_kauno))\n",
    "print(pavadinimai_kauno)\n",
    "print(len(nuorodos_kauno))\n",
    "print(nuorodos_kauno)"
   ]
  },
  {
   "cell_type": "code",
   "execution_count": 5,
   "metadata": {},
   "outputs": [
    {
     "name": "stdout",
     "output_type": "stream",
     "text": [
      "vidutinis zodziu kiekis \"Kauno diena\" pavadinimuose: 9.172413793103448\n",
      "[12, 8, 12, 7, 7, 6, 11, 9, 6, 9, 14, 12, 7, 9, 6, 12, 13, 11, 11, 10, 14, 8, 7, 7, 8, 14, 3, 7, 6]\n"
     ]
    }
   ],
   "source": [
    "zodziu_kiekiai_kauno = []\n",
    "for pav in pavadinimai_kauno:\n",
    "    kiekis =len(pav.split())\n",
    "    zodziu_kiekiai_kauno.append(kiekis)\n",
    "    \n",
    "vidutinis_zodziu_kiekis_kauno = sum(zodziu_kiekiai_kauno) / len(zodziu_kiekiai_kauno)\n",
    "print(f'vidutinis zodziu kiekis \"Kauno diena\" pavadinimuose: {vidutinis_zodziu_kiekis_kauno}')\n",
    "print(zodziu_kiekiai_kauno)\n"
   ]
  },
  {
   "cell_type": "code",
   "execution_count": 12,
   "metadata": {},
   "outputs": [],
   "source": [
    "SDB = sqlite3.connect('Testas.db')  # jei neegzistuoja db , bus sukurta nauja db\n",
    "Cs = SDB.cursor()\n",
    "\n",
    "#  if not exists - tikrina ar jau sukurta DB\n",
    "sql = '''create table if not exists KaunoDiena\n",
    "(\n",
    "pavadinimas text not null,\n",
    "nuoroda text not null,\n",
    "zodziu_kiekis integer not null\n",
    ")\n",
    "'''\n",
    "Cs.execute(sql)\n",
    "\n",
    "# sql_template = '''insert into T1 values (?,?,?)'''\n",
    "# for a, b, c in zip(pavadinimai, nuorodos, zodziukiekiai):\n",
    "#     Cs.execute(sql_template, (a, b, c))\n",
    "\n",
    "sql_template = '''insert into KaunoDiena values (?,?,?)'''\n",
    "data = list(zip(pavadinimai_kauno, nuorodos_kauno, zodziu_kiekiai_kauno))\n",
    "Cs.executemany(sql_template, data)\n",
    "\n",
    "\n",
    "SDB.commit() # commit() butinas jei norim irasyti duomenis i DB\n",
    "\n",
    "SDB.close()"
   ]
  },
  {
   "cell_type": "code",
   "execution_count": 19,
   "metadata": {},
   "outputs": [
    {
     "data": {
      "text/html": [
       "<div>\n",
       "<style scoped>\n",
       "    .dataframe tbody tr th:only-of-type {\n",
       "        vertical-align: middle;\n",
       "    }\n",
       "\n",
       "    .dataframe tbody tr th {\n",
       "        vertical-align: top;\n",
       "    }\n",
       "\n",
       "    .dataframe thead th {\n",
       "        text-align: right;\n",
       "    }\n",
       "</style>\n",
       "<table border=\"1\" class=\"dataframe\">\n",
       "  <thead>\n",
       "    <tr style=\"text-align: right;\">\n",
       "      <th></th>\n",
       "      <th>pavadinimas</th>\n",
       "      <th>nuoroda</th>\n",
       "      <th>zodziu_kiekis</th>\n",
       "    </tr>\n",
       "  </thead>\n",
       "  <tbody>\n",
       "    <tr>\n",
       "      <th>0</th>\n",
       "      <td>2024-ųjų Seimo rinkimai: laimėjo socdemai, ant...</td>\n",
       "      <td>naujienos/lietuva/politika/lietuva-renka-nauja...</td>\n",
       "      <td>12</td>\n",
       "    </tr>\n",
       "    <tr>\n",
       "      <th>1</th>\n",
       "      <td>Į antrąjį Seimo rinkimų turą patekę kandidatai...</td>\n",
       "      <td>naujienos/lietuva/politika/laukia-kova-vienman...</td>\n",
       "      <td>8</td>\n",
       "    </tr>\n",
       "    <tr>\n",
       "      <th>2</th>\n",
       "      <td>Judrioje Aleksoto gatvėje – laikini eismo ribo...</td>\n",
       "      <td>naujienos/kaunas/miesto-pulsas/judrioje-alekso...</td>\n",
       "      <td>7</td>\n",
       "    </tr>\n",
       "    <tr>\n",
       "      <th>3</th>\n",
       "      <td>Septyniose apygardose bus perskaičiuoti balsai...</td>\n",
       "      <td>naujienos/lietuva/politika/sesiose-apygardose-...</td>\n",
       "      <td>10</td>\n",
       "    </tr>\n",
       "    <tr>\n",
       "      <th>4</th>\n",
       "      <td>Kauniečiai noriai balsavo Seimo rinkimuose: ka...</td>\n",
       "      <td>naujienos/kaunas/miesto-pulsas/kaunieciai-nori...</td>\n",
       "      <td>10</td>\n",
       "    </tr>\n",
       "  </tbody>\n",
       "</table>\n",
       "</div>"
      ],
      "text/plain": [
       "                                         pavadinimas  \\\n",
       "0  2024-ųjų Seimo rinkimai: laimėjo socdemai, ant...   \n",
       "1  Į antrąjį Seimo rinkimų turą patekę kandidatai...   \n",
       "2  Judrioje Aleksoto gatvėje – laikini eismo ribo...   \n",
       "3  Septyniose apygardose bus perskaičiuoti balsai...   \n",
       "4  Kauniečiai noriai balsavo Seimo rinkimuose: ka...   \n",
       "\n",
       "                                             nuoroda  zodziu_kiekis  \n",
       "0  naujienos/lietuva/politika/lietuva-renka-nauja...             12  \n",
       "1  naujienos/lietuva/politika/laukia-kova-vienman...              8  \n",
       "2  naujienos/kaunas/miesto-pulsas/judrioje-alekso...              7  \n",
       "3  naujienos/lietuva/politika/sesiose-apygardose-...             10  \n",
       "4  naujienos/kaunas/miesto-pulsas/kaunieciai-nori...             10  "
      ]
     },
     "execution_count": 19,
     "metadata": {},
     "output_type": "execute_result"
    }
   ],
   "source": [
    "SDB = sqlite3.connect('Testas.db')  # jei neegzistuoja db , bus sukurta nauja db\n",
    "Cs = SDB.cursor()\n",
    "sql = '''\n",
    "select * from KaunoDiena;\n",
    "'''\n",
    "Cs.execute(sql)\n",
    "SDB.commit() # commit() butinas jei norim irasyti duomenis i DB\n",
    "\n",
    "df = pd.read_sql_query(sql, con=SDB)\n",
    "df.head()\n",
    "# SDB.close()\n"
   ]
  },
  {
   "cell_type": "code",
   "execution_count": 6,
   "metadata": {},
   "outputs": [],
   "source": [
    "# autoplius\n",
    "\n",
    "opcijos = Options()\n",
    "opcijos.add_argument('--incognito')\n",
    "driver = webdriver.Chrome(options=opcijos)\n",
    "url = 'https://autoplius.lt/skelbimai/naudoti-automobiliai?page_nr=1'\n",
    "driver.get(url)\n",
    "time.sleep(5)\n",
    "source = driver.page_source\n",
    "driver.close()"
   ]
  },
  {
   "cell_type": "code",
   "execution_count": 7,
   "metadata": {},
   "outputs": [
    {
     "name": "stdout",
     "output_type": "stream",
     "text": [
      "['https://autoplius.lt/skelbimai/bmw-428-gran-coupe-2-0-l-kupe-coupe-2015-benzinas-26837939.html', 'https://autoplius.lt/skelbimai/bmw-530-2-0-l-sedanas-2019-benzinas-26808537.html', 'https://autoplius.lt/skelbimai/bmw-530-2-0-l-sedanas-2021-benzinas-26749453.html', 'https://autoplius.lt/skelbimai/volkswagen-golf-1-6-l-universalas-2014-dyzelinas-26842557.html', 'https://autoplius.lt/skelbimai/fiat-500x-2-4-l-visureigis-krosoveris-2016-benzinas-dujos-26862175.html', 'https://autoplius.lt/skelbimai/bmw-320-gran-turismo-2-0-l-hecbekas-2016-dyzelinas-26830873.html', 'https://autoplius.lt/skelbimai/bmw-320-2-0-l-universalas-2020-dyzelinas-26852143.html', 'https://autoplius.lt/skelbimai/mazda-cx-5-2-0-l-visureigis-krosoveris-2017-benzinas-26740367.html', 'https://autoplius.lt/skelbimai/mercedes-benz-clk320-3-2-l-kupe-coupe-2002-benzinas-dujos-26445796.html', 'https://autoplius.lt/skelbimai/bmw-520-2-0-l-universalas-2006-dyzelinas-26806059.html', 'https://autoplius.lt/skelbimai/volkswagen-amarok-2-0-l-pikapas-2014-dyzelinas-26615729.html', 'https://autoplius.lt/skelbimai/land-rover-discovery-sport-2-0-l-visureigis-krosoveris-2020-dyzelinas-elektra-25338021.html', 'https://autoplius.lt/skelbimai/toyota-prius-1-5-l-hecbekas-2008-benzinas-elektra-26782479.html', 'https://autoplius.lt/skelbimai/mercedes-benz-c220-2-1-l-universalas-2009-dyzelinas-26866731.html', 'https://autoplius.lt/skelbimai/peugeot-508-2-0-l-universalas-2011-dyzelinas-26838409.html', 'https://autoplius.lt/skelbimai/bmw-318-2-0-l-universalas-2009-dyzelinas-26753921.html', 'https://autoplius.lt/skelbimai/bmw-530-3-0-l-sedanas-2004-benzinas-26144972.html', 'https://autoplius.lt/skelbimai/lexus-ls-460-4-6-l-sedanas-2008-benzinas-26784487.html', 'https://autoplius.lt/skelbimai/bmw-525-3-0-l-universalas-2011-dyzelinas-26347076.html', 'https://autoplius.lt/skelbimai/bmw-325-3-0-l-kupe-coupe-2011-dyzelinas-26828241.html']\n",
      "20\n",
      "/skelbimai/naudoti-automobiliai?page_nr=2\n",
      "https://autoplius.lt/skelbimai/naudoti-automobiliai?page_nr=2\n"
     ]
    }
   ],
   "source": [
    "bs = BeautifulSoup(source, 'html.parser')\n",
    "# print(bs)\n",
    "auto_nuorodos = []\n",
    "\n",
    "\n",
    "auto_links = bs.find('div', {'class':'auto-lists lt'}).find_all('a')\n",
    "for link in auto_links:\n",
    "    # print(link['href'])\n",
    "    auto_nuorodos.append(link['href'])\n",
    "\n",
    "print(auto_nuorodos)\n",
    "print(len(auto_nuorodos))\n",
    "\n",
    "kitas = bs.find('div', {'class':'page-navigation-container'}).find('a', {'class':'next'})\n",
    "print(kitas['href'])\n",
    "\n",
    "next_nuoroda = f'https://autoplius.lt{kitas['href']}'\n",
    "print(next_nuoroda)"
   ]
  },
  {
   "cell_type": "code",
   "execution_count": 25,
   "metadata": {},
   "outputs": [
    {
     "name": "stdout",
     "output_type": "stream",
     "text": [
      "18 000 €\n",
      "26 900 €\n",
      "48 500 €\n",
      "7 100 €\n",
      "10 500 €\n",
      "14 500 €\n",
      "14 700 €\n",
      "19 999 €\n",
      "1 500 €\n",
      "4 000 €\n",
      "13 500 €\n",
      "39 111 €\n",
      "3 101 €\n",
      "3 399 €\n",
      "3 999 €\n",
      "4 850 €\n",
      "5 500 €\n",
      "6 650 €\n",
      "9 500 €\n",
      "9 700 €\n"
     ]
    }
   ],
   "source": [
    "kainos = bs.find_all('div', {'class':'announcement-pricing-info'})\n",
    "for k in kainos:\n",
    "    print(k.find('strong').text.strip())"
   ]
  },
  {
   "cell_type": "code",
   "execution_count": 64,
   "metadata": {},
   "outputs": [
    {
     "name": "stdout",
     "output_type": "stream",
     "text": [
      "https://autoplius.lt/skelbimai/bmw-530-2-0-l-sedanas-2019-benzinas-26808537.html\n"
     ]
    }
   ],
   "source": [
    "for nuoroda in auto_nuorodos[1:2]:\n",
    "    print(nuoroda)\n",
    "    driver = webdriver.Chrome(options=opcijos)\n",
    "    url = nuoroda\n",
    "    driver.get(url)\n",
    "    time.sleep(5)\n",
    "    source = driver.page_source\n",
    "    driver.close()\n",
    "    \n",
    "    "
   ]
  },
  {
   "cell_type": "code",
   "execution_count": 65,
   "metadata": {},
   "outputs": [
    {
     "name": "stdout",
     "output_type": "stream",
     "text": [
      "BMW 530\n"
     ]
    }
   ],
   "source": [
    "bs_auto = BeautifulSoup(source, 'html.parser')\n",
    "\n",
    "car = bs_auto.find('ol', {'class':'breadcrumbs'}).find_all('li', {'class':'crumb'})\n",
    "marke = car[2].text.strip()\n",
    "modelis = car[3].text.strip()\n",
    "print(marke, modelis)"
   ]
  },
  {
   "cell_type": "code",
   "execution_count": 66,
   "metadata": {},
   "outputs": [
    {
     "name": "stdout",
     "output_type": "stream",
     "text": [
      "26 900\n"
     ]
    }
   ],
   "source": [
    "car_price = bs_auto.find('div', {'class':'prices'})\n",
    "print(car_price.text.split('€')[0].strip())"
   ]
  },
  {
   "cell_type": "code",
   "execution_count": 67,
   "metadata": {},
   "outputs": [
    {
     "name": "stdout",
     "output_type": "stream",
     "text": [
      "13 ['Pirma registracija', 'Rida', 'Variklis', 'Kuro tipas', 'Kėbulo tipas', 'Durų skaičius', 'Pavarų dėžė', 'Spalva', 'Tech. apžiūra iki', 'Ratlankių skersmuo', 'Sėdimų vietų skaičius', 'CO₂ emisija, g/km', 'Taršos mokestis']\n",
      "13 ['2019', '46 000 km', '1998 cm³, 252 AG (185kW)', 'Benzinas', 'Sedanas', '4/5', 'Automatinė', 'Pilka / sidabrinė', '2026-07', 'R20', '5', '~ 126 g/km', '0 €']\n",
      "{'Pirma registracija': '2019', 'Rida': '46 000 km', 'Variklis': '1998 cm³, 252 AG (185kW)', 'Kuro tipas': 'Benzinas', 'Kėbulo tipas': 'Sedanas', 'Durų skaičius': '4/5', 'Pavarų dėžė': 'Automatinė', 'Spalva': 'Pilka / sidabrinė', 'Tech. apžiūra iki': '2026-07', 'Ratlankių skersmuo': 'R20', 'Sėdimų vietų skaičius': '5', 'CO₂ emisija, g/km': '~ 126 g/km', 'Taršos mokestis': '0 €'}\n"
     ]
    }
   ],
   "source": [
    "keys = []\n",
    "values = []\n",
    "car_i = {}\n",
    "car_info = bs_auto.find_all('div', {'class':'parameter-row'})\n",
    "for info in car_info[1:]:\n",
    "    # print(info)\n",
    "    # if info is not None:\n",
    "    #     # print('::NRW:::')\n",
    "    key = info.find('div', {'class':'parameter-label'}).text.strip()\n",
    "    # print(key.text.strip())\n",
    "    keys.append(key)\n",
    "    value = info.find('div', {'class':'parameter-value'}).text.strip()\n",
    "    values.append(value)\n",
    "    # print(key, value)\n",
    "    # print(value.text.strip())\n",
    "\n",
    "print(len(keys),keys)\n",
    "print(len(values),values)\n",
    "\n",
    "for k, v in zip(keys, values):\n",
    "    car_i[k] = v\n",
    "\n",
    "print(car_i)"
   ]
  },
  {
   "cell_type": "code",
   "execution_count": 63,
   "metadata": {},
   "outputs": [
    {
     "name": "stdout",
     "output_type": "stream",
     "text": [
      "15 ['Pirma registracija', 'Rida', 'Variklis', 'Kuro tipas', 'Kėbulo tipas', 'Durų skaičius', 'Varantieji ratai', 'Pavarų dėžė', 'Klimato valdymas', 'Spalva', 'Sėdimų vietų skaičius', 'Pirmosios registracijos šalis', 'Kėbulo numeris (VIN)', 'CO₂ emisija, g/km', 'Taršos mokestis']\n",
      "15 ['2015', '199 000 km', '1997 cm³, 245 AG (180kW)', 'Benzinas', 'Kupė (Coupe)', '4/5', 'Visi varantys (4х4)', 'Automatinė', 'Klimato kontrolė', 'Balta', '5', 'JAV', 'WBA4A7C5...\\n            Rodyti', '~ 147 g/km', '~ 40.47 €']\n",
      "{'Pirma registracija': '2015', 'Rida': '199 000 km', 'Variklis': '1997 cm³, 245 AG (180kW)', 'Kuro tipas': 'Benzinas', 'Kėbulo tipas': 'Kupė (Coupe)', 'Durų skaičius': '4/5', 'Varantieji ratai': 'Visi varantys (4х4)', 'Pavarų dėžė': 'Automatinė', 'Klimato valdymas': 'Klimato kontrolė', 'Spalva': 'Balta', 'Sėdimų vietų skaičius': '5', 'Pirmosios registracijos šalis': 'JAV', 'Kėbulo numeris (VIN)': 'WBA4A7C5...\\n            Rodyti', 'CO₂ emisija, g/km': '~ 147 g/km', 'Taršos mokestis': '~ 40.47 €'}\n"
     ]
    }
   ],
   "source": [
    "\n"
   ]
  },
  {
   "cell_type": "code",
   "execution_count": 73,
   "metadata": {},
   "outputs": [
    {
     "name": "stdout",
     "output_type": "stream",
     "text": [
      "https://autoplius.lt/skelbimai/bmw-428-gran-coupe-2-0-l-kupe-coupe-2015-benzinas-26837939.html\n",
      "BMW 428 Gran Coupe\n",
      "https://autoplius.lt/skelbimai/bmw-530-2-0-l-sedanas-2019-benzinas-26808537.html\n",
      "BMW 530\n",
      "https://autoplius.lt/skelbimai/bmw-530-2-0-l-sedanas-2021-benzinas-26749453.html\n",
      "BMW 530\n",
      "https://autoplius.lt/skelbimai/volkswagen-golf-1-6-l-universalas-2014-dyzelinas-26842557.html\n",
      "Volkswagen Golf\n",
      "https://autoplius.lt/skelbimai/fiat-500x-2-4-l-visureigis-krosoveris-2016-benzinas-dujos-26862175.html\n",
      "Fiat 500X\n",
      "https://autoplius.lt/skelbimai/bmw-320-gran-turismo-2-0-l-hecbekas-2016-dyzelinas-26830873.html\n",
      "BMW 320 Gran Turismo\n",
      "https://autoplius.lt/skelbimai/bmw-320-2-0-l-universalas-2020-dyzelinas-26852143.html\n",
      "BMW 320\n",
      "https://autoplius.lt/skelbimai/mazda-cx-5-2-0-l-visureigis-krosoveris-2017-benzinas-26740367.html\n",
      "Mazda CX-5\n",
      "https://autoplius.lt/skelbimai/mercedes-benz-clk320-3-2-l-kupe-coupe-2002-benzinas-dujos-26445796.html\n",
      "Mercedes-Benz CLK320\n",
      "https://autoplius.lt/skelbimai/bmw-520-2-0-l-universalas-2006-dyzelinas-26806059.html\n",
      "BMW 520\n",
      "https://autoplius.lt/skelbimai/volkswagen-amarok-2-0-l-pikapas-2014-dyzelinas-26615729.html\n",
      "Volkswagen Amarok\n",
      "https://autoplius.lt/skelbimai/land-rover-discovery-sport-2-0-l-visureigis-krosoveris-2020-dyzelinas-elektra-25338021.html\n",
      "Land Rover Discovery Sport\n",
      "https://autoplius.lt/skelbimai/toyota-prius-1-5-l-hecbekas-2008-benzinas-elektra-26782479.html\n",
      "Toyota Prius\n",
      "https://autoplius.lt/skelbimai/mercedes-benz-c220-2-1-l-universalas-2009-dyzelinas-26866731.html\n",
      "skelbimas neegzistuoja\n",
      "https://autoplius.lt/skelbimai/peugeot-508-2-0-l-universalas-2011-dyzelinas-26838409.html\n",
      "Peugeot 508\n",
      "https://autoplius.lt/skelbimai/bmw-318-2-0-l-universalas-2009-dyzelinas-26753921.html\n",
      "BMW 318\n",
      "https://autoplius.lt/skelbimai/bmw-530-3-0-l-sedanas-2004-benzinas-26144972.html\n",
      "BMW 530\n",
      "https://autoplius.lt/skelbimai/lexus-ls-460-4-6-l-sedanas-2008-benzinas-26784487.html\n",
      "Lexus LS 460\n",
      "https://autoplius.lt/skelbimai/bmw-525-3-0-l-universalas-2011-dyzelinas-26347076.html\n",
      "BMW 525\n",
      "https://autoplius.lt/skelbimai/bmw-325-3-0-l-kupe-coupe-2011-dyzelinas-26828241.html\n",
      "BMW 325\n"
     ]
    }
   ],
   "source": [
    "markes = []\n",
    "modeliai = []\n",
    "keys = []\n",
    "values = []\n",
    "car_i = {}\n",
    "\n",
    "\n",
    "driver = webdriver.Chrome(options=opcijos)\n",
    "for nuoroda in auto_nuorodos:\n",
    "    print(nuoroda)\n",
    "    \n",
    "    url = nuoroda\n",
    "    driver.get(url)\n",
    "    time.sleep(3)\n",
    "    source = driver.page_source\n",
    "    \n",
    "    bs_auto = BeautifulSoup(source, 'html.parser')\n",
    "    \n",
    "    if bs_auto.find('div', {'class':'error'}):\n",
    "        print('skelbimas neegzistuoja')\n",
    "    else:\n",
    "        car = bs_auto.find('ol', {'class':'breadcrumbs'}).find_all('li', {'class':'crumb'})\n",
    "        marke = car[2].text.strip()\n",
    "        modelis = car[3].text.strip()\n",
    "        markes.append(marke)\n",
    "        modeliai.append(modelis)\n",
    "        print(marke, modelis)\n",
    "\n",
    "        car_info = bs_auto.find_all('div', {'class':'parameter-row'})\n",
    "        for info in car_info[1:]:\n",
    "            # print(info)\n",
    "            # if info is not None:\n",
    "            #     # print('::NRW:::')\n",
    "            key = info.find('div', {'class':'parameter-label'}).text.strip()\n",
    "            # print(key.text.strip())\n",
    "            keys.append(key)\n",
    "            value = info.find('div', {'class':'parameter-value'}).text.strip()\n",
    "            values.append(value)\n",
    "            # print(key, value)\n",
    "            # print(value.text.strip())\n",
    "\n",
    "driver.close()"
   ]
  },
  {
   "cell_type": "code",
   "execution_count": 78,
   "metadata": {},
   "outputs": [
    {
     "name": "stdout",
     "output_type": "stream",
     "text": [
      "['Kuro tipas', 'Vidutinės', 'Defektai', 'Variklis', 'Rida', 'Durų skaičius', 'Nuosava masė, kg', 'Pirma registracija', 'Pirmosios registracijos šalis', 'Kėbulo numeris (VIN)', 'Tech. apžiūra iki', 'CO₂ emisija, g/km', 'Euro standartas', 'Užmiestyje', 'Taršos mokestis', 'Spalva', 'SDK', 'Pavarų dėžė', 'Klimato valdymas', 'Mieste', 'Varantieji ratai', 'Sėdimų vietų skaičius', 'Kėbulo tipas', 'Ratlankių skersmuo']\n",
      "24\n",
      "350\n",
      "['2015', '199 000 km', '1997 cm³, 245 AG (180kW)', 'Benzinas', 'Kupė (Coupe)', '4/5', 'Visi varantys (4х4)', 'Automatinė', 'Klimato kontrolė', 'Balta', '5', 'JAV', 'WBA4A7C5...\\n            Rodyti', '~ 147 g/km', '~ 40.47 €', '2019', '46 000 km', '1998 cm³, 252 AG (185kW)', 'Benzinas', 'Sedanas', '4/5', 'Automatinė', 'Pilka / sidabrinė', '2026-07', 'R20', '5', '~ 126 g/km', '0 €', '25 000 km', '1998 cm³, 262 AG (193kW)', 'Benzinas', 'Sedanas', '4/5', 'Visi varantys (4х4)', 'Automatinė', 'Klimato kontrolė', 'Pilka / sidabrinė', '2026-06', 'R19', '1680', '5', 'JAV', 'WBA13BJ0...\\n            Rodyti', 'THPRH...\\n                Rodyti', 'Euro 6', '135 g/km', '20.23 €', '7', '5', '5,9', '2014-03', '314 086 km', '1598 cm³, 105 AG (77kW)', 'Dyzelinas', 'Universalas', '4/5', 'Priekiniai', 'Automatinė', 'Klimato kontrolė', 'R16', '1410', '5', 'Prancūzija', 'WVWZZZAU...\\n            Rodyti', 'AHETH...\\n                Rodyti', 'Euro 5', '104 g/km', '0 €', '6', '2016', '126 211 km', '2360 cm³, 177 AG (130kW)', 'Benzinas / dujos', 'Visureigis / Krosoveris', '4/5', 'Visi varantys (4х4)', 'Automatinė', 'Oro kondicionierius', 'Pilka / sidabrinė', '2026-10', 'R18', '1600', '5', 'JAV', 'ZFBCFYET...\\n            Rodyti', '9', '2016-06', '162 000 km', '1995 cm³, 190 AG (140kW)', 'Dyzelinas', 'Hečbekas', '4/5', 'Galiniai', 'Mechaninė', 'Klimato kontrolė', 'Juoda', '2025-09', '1580', '5', 'Euro 6', '120 g/km', '0 €', '5,5', '4,1', '4,6', '2020-07', '70 000 km', '1995 cm³, 190 AG (140kW)', 'Dyzelinas', 'Universalas', '4/5', 'Automatinė', 'Klimato kontrolė', 'Mėlyna / žydra', 'Daužtas', '5', '~ 115 g/km', '0 €', '2017-10', '83 999 km', '1998 cm³, 160 AG (118kW)', 'Benzinas', 'Visureigis / Krosoveris', '4/5', 'Visi varantys (4х4)', 'Automatinė', 'Oro kondicionierius', 'Juoda', '2026-10', 'R19', '1500', '5', 'Lietuva', 'JMZKFGW7...\\n            Rodyti', '155 g/km', '60.7 €', '8', '5,8', '6,6', '2002-12', '200 000 km', '3200 cm³', 'Benzinas / dujos', 'Kupė (Coupe)', '2/3', 'Galiniai', 'Automatinė', 'Klimato kontrolė', 'Pilka / sidabrinė', 'R18', '4', 'Vokietija', '~ 250 g/km', '~ 218.54 €', '2006-04', '320 000 km', '1995 cm³, 163 AG (120kW)', 'Dyzelinas', 'Universalas', '4/5', 'Galiniai', 'Automatinė', 'Balta', '2025-07', 'R17', '1610', '5', 'Vokietija', 'WBANJ310...\\n            Rodyti', 'CNCCA...\\n                Rodyti', '189 g/km', '242.82 €', '9,6', '5,6', '7,1', '2014-01', '209 832 km', '1968 cm³, 179 AG (132kW)', 'Dyzelinas', 'Pikapas', '4/5', 'Visi varantys (4х4)', 'Automatinė', 'Klimato kontrolė', 'Juoda', '2024-10', 'R17', '1983', '5', 'Vokietija', 'WV1ZZZ2H...\\n            Rodyti', 'SDK kodas neprivalomas (automobilis ne Lietuvoje)', 'Euro 5', '211 g/km', '364.23 €', '9,8', '7', '8', '58 000 km', '1999 cm³', 'Dyzelinas / elektra', 'Visureigis / Krosoveris', '4/5', 'Visi varantys (4х4)', 'Automatinė', 'Klimato kontrolė', 'Juoda', '2025', '5', 'SALCA2BN...\\n            Rodyti', 'HKRMN...\\n                Rodyti', 'Euro 6', '2008-02', '280 000 km', '1497 cm³, 76 AG (56kW)', 'Benzinas / elektra', 'Hečbekas', '4/5', 'Priekiniai', 'Automatinė', '2026-03', '1270', '5', 'Olandija', 'JTDKB29U...\\n            Rodyti', '~ 104 g/km', '0 €', '4,2', '3,5', '3,6', '2011-05', '265 000 km', '1997 cm³, 140 AG (103kW)', 'Dyzelinas', 'Universalas', '4/5', 'Priekiniai', 'Mechaninė', 'Klimato kontrolė', 'Juoda', 'R16', '1500', '5', 'PNTEE...\\n                Rodyti', '130 g/km', '0 €', '6,8', '4', '5', '2009-02', '359 000 km', '1995 cm³, 143 AG (105kW)', 'Dyzelinas', 'Universalas', '4/5', 'Galiniai', 'Automatinė', 'Klimato kontrolė', 'Pilka / sidabrinė', '2026-07', 'R18', '1595', '5', 'Vokietija', 'WBAUX110...\\n            Rodyti', 'Euro 5', '146 g/km', '80.94 €', '2004-09', '305 750 km', '3000 cm³, 231 AG (170kW)', 'Benzinas', 'Sedanas', '4/5', 'Galiniai', 'Automatinė', 'Klimato kontrolė', 'Pilka / sidabrinė', '2026-10', 'R18', '1570', '5', 'Olandija', 'Euro 4', '~ 240 g/km', '~ 222.58 €', '14', '7,5', '10', '2008-01', '260 000 km', '4608 cm³, 381 AG (280kW)', 'Benzinas', 'Sedanas', '4/5', 'Galiniai', 'Automatinė', 'Klimato kontrolė', 'Pilka / sidabrinė', '2025-05', 'R19', '1945', '5', 'Euro 5', '261 g/km', '283.29 €', '16,5', '7,9', '11,1', '2011-06', '345 000 km', '2993 cm³, 204 AG (150kW)', 'Dyzelinas', 'Universalas', '4/5', 'Galiniai', 'Automatinė', 'Klimato kontrolė', 'Juoda', '2026-08', 'R18', '1845', '5', 'WBAMX310...\\n            Rodyti', 'CKCTC...\\n                Rodyti', 'Euro 5', '162 g/km', '161.88 €', '2011-08', '318 000 km', '2993 cm³, 204 AG (150kW)', 'Dyzelinas', 'Kupė (Coupe)', '2/3', 'Galiniai', 'Automatinė', 'Klimato kontrolė', 'Juoda', '2025-06', 'R19', '1525', '4', 'Vokietija', 'WBAKK510...\\n            Rodyti', 'Euro 6', '160 g/km', '121.41 €', '7,9', '5,1', '6,1']\n"
     ]
    }
   ],
   "source": [
    "keys = list(set(keys))\n",
    "print(keys)\n",
    "print(len(keys))\n",
    "print(len(values))\n",
    "print(values)"
   ]
  },
  {
   "cell_type": "code",
   "execution_count": 70,
   "metadata": {},
   "outputs": [],
   "source": [
    "driver = webdriver.Chrome(options=opcijos)\n",
    "url = 'https://autoplius.lt/skelbimai/mercedes-benz-c220-2-1-l-universalas-2009-dyzelinas-26866731.html'\n",
    "driver.get(url)\n",
    "time.sleep(5)\n",
    "source = driver.page_source\n",
    "\n",
    "driver.close()"
   ]
  },
  {
   "cell_type": "code",
   "execution_count": 72,
   "metadata": {},
   "outputs": [
    {
     "name": "stdout",
     "output_type": "stream",
     "text": [
      "\n",
      "\n",
      "\n",
      "            Skelbimas neegzistuoja (A26866731)\n",
      "        \n",
      "\n",
      "\n",
      "        Atsiprašome, tačiau Jus dominančio skelbimo galiojimo laikas baigėsi arba skelbimą patalpinęs vartotojas jį ištrynė. Siūlome peržiūrėti panašius skelbimus.    \n",
      "\n"
     ]
    }
   ],
   "source": [
    "bs = BeautifulSoup(source, 'html.parser')\n",
    "er = bs.find('div', {'class':'error'})\n",
    "print(er.text.split)"
   ]
  },
  {
   "cell_type": "code",
   "execution_count": 80,
   "metadata": {},
   "outputs": [],
   "source": [
    "# auto pls 2\n",
    "\n",
    "opcijos = Options()\n",
    "opcijos.add_argument('--incognito')\n",
    "driver = webdriver.Chrome(options=opcijos)\n",
    "url = 'https://autoplius.lt/skelbimai/naudoti-automobiliai?page_nr=2'\n",
    "driver.get(url)\n",
    "time.sleep(5)\n",
    "source = driver.page_source\n",
    "driver.close()"
   ]
  },
  {
   "cell_type": "code",
   "execution_count": 81,
   "metadata": {},
   "outputs": [
    {
     "name": "stdout",
     "output_type": "stream",
     "text": [
      "['https://autoplius.lt/skelbimai/volkswagen-touran-1-6-l-vienaturis-2019-dyzelinas-26871685.html', 'https://autoplius.lt/skelbimai/audi-a4-2-0-l-universalas-2016-dyzelinas-26830313.html', 'https://autoplius.lt/skelbimai/toyota-corolla-1-2-l-hecbekas-2020-benzinas-26713925.html', 'https://autoplius.lt/skelbimai/porsche-cayenne-4-8-l-visureigis-krosoveris-2013-benzinas-26844629.html', 'https://autoplius.lt/skelbimai/nissan-qashqai-1-2-l-visureigis-krosoveris-2018-benzinas-26821165.html', 'https://autoplius.lt/skelbimai/nissan-qashqai-1-3-l-visureigis-krosoveris-2019-benzinas-26865589.html', 'https://autoplius.lt/skelbimai/audi-s6-4-0-l-sedanas-2013-benzinas-26856941.html', 'https://autoplius.lt/skelbimai/mazda-cx-30-2-0-l-visureigis-krosoveris-2021-benzinas-elektra-25923402.html', 'https://autoplius.lt/skelbimai/bmw-320-2-0-l-universalas-2020-dyzelinas-26793087.html', 'https://autoplius.lt/skelbimai/volkswagen-id-3-hecbekas-2021-elektra-26525834.html', 'https://autoplius.lt/skelbimai/nissan-qashqai-1-3-l-kita-2021-benzinas-elektra-26826485.html', 'https://autoplius.lt/skelbimai/volkswagen-id-3-hecbekas-2021-elektra-26662893.html', 'https://autoplius.lt/skelbimai/bmw-530-2-0-l-sedanas-2018-benzinas-elektra-26845693.html', 'https://autoplius.lt/skelbimai/bmw-x3-2-0-l-visureigis-krosoveris-2019-benzinas-26840717.html', 'https://autoplius.lt/skelbimai/toyota-venza-2-5-l-visureigis-krosoveris-2022-benzinas-elektra-26822257.html', 'https://autoplius.lt/skelbimai/bmw-x6-3-0-l-visureigis-krosoveris-2021-dyzelinas-26855689.html', 'https://autoplius.lt/skelbimai/bmw-m3-3-0-l-sedanas-2021-benzinas-26733487.html', 'https://autoplius.lt/skelbimai/volkswagen-golf-1-9-l-hecbekas-2007-dyzelinas-26861029.html', 'https://autoplius.lt/skelbimai/bmw-525-2-5-l-sedanas-2004-dyzelinas-26867409.html', 'https://autoplius.lt/skelbimai/audi-a4-2-0-l-universalas-2007-dyzelinas-26871109.html']\n",
      "20\n",
      "/skelbimai/naudoti-automobiliai?page_nr=3\n",
      "https://autoplius.lt/skelbimai/naudoti-automobiliai?page_nr=3\n"
     ]
    }
   ],
   "source": [
    "# autu pls 2\n",
    "bs = BeautifulSoup(source, 'html.parser')\n",
    "# print(bs)\n",
    "auto_nuorodos = []\n",
    "\n",
    "\n",
    "auto_links = bs.find('div', {'class':'auto-lists lt'}).find_all('a')\n",
    "for link in auto_links:\n",
    "    # print(link['href'])\n",
    "    auto_nuorodos.append(link['href'])\n",
    "\n",
    "print(auto_nuorodos)\n",
    "print(len(auto_nuorodos))\n",
    "\n",
    "kitas = bs.find('div', {'class':'page-navigation-container'}).find('a', {'class':'next'})\n",
    "print(kitas['href'])\n",
    "\n",
    "next_nuoroda = f'https://autoplius.lt{kitas['href']}'\n",
    "print(next_nuoroda)"
   ]
  },
  {
   "cell_type": "code",
   "execution_count": 82,
   "metadata": {},
   "outputs": [
    {
     "name": "stdout",
     "output_type": "stream",
     "text": [
      "https://autoplius.lt/skelbimai/volkswagen-touran-1-6-l-vienaturis-2019-dyzelinas-26871685.html\n",
      "Volkswagen Touran\n",
      "https://autoplius.lt/skelbimai/audi-a4-2-0-l-universalas-2016-dyzelinas-26830313.html\n",
      "Audi A4\n",
      "https://autoplius.lt/skelbimai/toyota-corolla-1-2-l-hecbekas-2020-benzinas-26713925.html\n",
      "Toyota Corolla\n",
      "https://autoplius.lt/skelbimai/porsche-cayenne-4-8-l-visureigis-krosoveris-2013-benzinas-26844629.html\n",
      "Porsche Cayenne\n",
      "https://autoplius.lt/skelbimai/nissan-qashqai-1-2-l-visureigis-krosoveris-2018-benzinas-26821165.html\n",
      "Nissan Qashqai\n",
      "https://autoplius.lt/skelbimai/nissan-qashqai-1-3-l-visureigis-krosoveris-2019-benzinas-26865589.html\n",
      "Nissan Qashqai\n",
      "https://autoplius.lt/skelbimai/audi-s6-4-0-l-sedanas-2013-benzinas-26856941.html\n",
      "Audi S6\n",
      "https://autoplius.lt/skelbimai/mazda-cx-30-2-0-l-visureigis-krosoveris-2021-benzinas-elektra-25923402.html\n",
      "Mazda CX-30\n",
      "https://autoplius.lt/skelbimai/bmw-320-2-0-l-universalas-2020-dyzelinas-26793087.html\n",
      "BMW 320\n",
      "https://autoplius.lt/skelbimai/volkswagen-id-3-hecbekas-2021-elektra-26525834.html\n",
      "Volkswagen ID.3\n",
      "https://autoplius.lt/skelbimai/nissan-qashqai-1-3-l-kita-2021-benzinas-elektra-26826485.html\n",
      "Nissan Qashqai\n",
      "https://autoplius.lt/skelbimai/volkswagen-id-3-hecbekas-2021-elektra-26662893.html\n",
      "Volkswagen ID.3\n",
      "https://autoplius.lt/skelbimai/bmw-530-2-0-l-sedanas-2018-benzinas-elektra-26845693.html\n",
      "BMW 530\n",
      "https://autoplius.lt/skelbimai/bmw-x3-2-0-l-visureigis-krosoveris-2019-benzinas-26840717.html\n",
      "BMW X3\n",
      "https://autoplius.lt/skelbimai/toyota-venza-2-5-l-visureigis-krosoveris-2022-benzinas-elektra-26822257.html\n",
      "Toyota Venza\n",
      "https://autoplius.lt/skelbimai/bmw-x6-3-0-l-visureigis-krosoveris-2021-dyzelinas-26855689.html\n",
      "BMW X6\n",
      "https://autoplius.lt/skelbimai/bmw-m3-3-0-l-sedanas-2021-benzinas-26733487.html\n",
      "BMW M3\n",
      "https://autoplius.lt/skelbimai/volkswagen-golf-1-9-l-hecbekas-2007-dyzelinas-26861029.html\n",
      "Volkswagen Golf\n",
      "https://autoplius.lt/skelbimai/bmw-525-2-5-l-sedanas-2004-dyzelinas-26867409.html\n",
      "BMW 525\n",
      "https://autoplius.lt/skelbimai/audi-a4-2-0-l-universalas-2007-dyzelinas-26871109.html\n",
      "Audi A4\n"
     ]
    }
   ],
   "source": [
    "markes2 = []\n",
    "modeliai2 = []\n",
    "keys2 = []\n",
    "values2 = []\n",
    "car_i2 = {}\n",
    "\n",
    "\n",
    "driver = webdriver.Chrome(options=opcijos)\n",
    "for nuoroda in auto_nuorodos:\n",
    "    print(nuoroda)\n",
    "    \n",
    "    url = nuoroda\n",
    "    driver.get(url)\n",
    "    time.sleep(3)\n",
    "    source = driver.page_source\n",
    "    \n",
    "    bs_auto = BeautifulSoup(source, 'html.parser')\n",
    "    \n",
    "    if bs_auto.find('div', {'class':'error'}):\n",
    "        print('skelbimas neegzistuoja')\n",
    "    else:\n",
    "        car = bs_auto.find('ol', {'class':'breadcrumbs'}).find_all('li', {'class':'crumb'})\n",
    "        marke2 = car[2].text.strip()\n",
    "        modelis2 = car[3].text.strip()\n",
    "        markes2.append(marke2)\n",
    "        modeliai2.append(modelis2)\n",
    "        print(marke2, modelis2)\n",
    "\n",
    "        car_info = bs_auto.find_all('div', {'class':'parameter-row'})\n",
    "        for info in car_info[1:]:\n",
    "            # print(info)\n",
    "            # if info is not None:\n",
    "            #     # print('::NRW:::')\n",
    "            key = info.find('div', {'class':'parameter-label'}).text.strip()\n",
    "            # print(key.text.strip())\n",
    "            keys2.append(key)\n",
    "            value = info.find('div', {'class':'parameter-value'}).text.strip()\n",
    "            values2.append(value)\n",
    "            # print(key, value)\n",
    "            # print(value.text.strip())\n",
    "\n",
    "driver.close()"
   ]
  },
  {
   "cell_type": "code",
   "execution_count": 89,
   "metadata": {},
   "outputs": [
    {
     "name": "stdout",
     "output_type": "stream",
     "text": [
      "27\n",
      "['', 'Kuro tipas', 'Vidutinės', 'Defektai', 'Variklis', 'Rida', 'Baterijos talpa, kWh', 'Durų skaičius', 'Nuosava masė, kg', 'Pirma registracija', 'Pirmosios registracijos šalis', 'Kėbulo numeris (VIN)', 'Tech. apžiūra iki', 'CO₂ emisija, g/km', 'Euro standartas', 'Užmiestyje', 'Taršos mokestis', 'Spalva', 'SDK', 'Pavarų dėžė', 'Klimato valdymas', 'Elektra nuvažiuojamas atstumas', 'Mieste', 'Sėdimų vietų skaičius', 'Varantieji ratai', 'Kėbulo tipas', 'Ratlankių skersmuo']\n",
      "0\n"
     ]
    }
   ],
   "source": [
    "keys2 = list(set(keys2))\n",
    "print(len(keys2))\n",
    "print(keys2)\n",
    "print(len(values2))"
   ]
  },
  {
   "cell_type": "code",
   "execution_count": 90,
   "metadata": {},
   "outputs": [],
   "source": [
    "#  auto pls 3\n",
    "opcijos = Options()\n",
    "opcijos.add_argument('--incognito')\n",
    "driver = webdriver.Chrome(options=opcijos)\n",
    "url = 'https://autoplius.lt/skelbimai/naudoti-automobiliai?page_nr=3'\n",
    "driver.get(url)\n",
    "time.sleep(5)\n",
    "source = driver.page_source\n",
    "driver.close()"
   ]
  },
  {
   "cell_type": "code",
   "execution_count": 91,
   "metadata": {},
   "outputs": [
    {
     "name": "stdout",
     "output_type": "stream",
     "text": [
      "['https://autoplius.lt/skelbimai/toyota-prius-1-5-l-hecbekas-2006-benzinas-elektra-26671389.html', 'https://autoplius.lt/skelbimai/mazda-3-1-6-l-hecbekas-2007-benzinas-26870775.html', 'https://autoplius.lt/skelbimai/audi-a6-universalas-2010-dyzelinas-26871689.html', 'https://autoplius.lt/skelbimai/honda-legend-3-5-l-sedanas-2006-benzinas-dujos-26870659.html', 'https://autoplius.lt/skelbimai/audi-a6-3-0-l-universalas-2008-dyzelinas-26870853.html', 'https://autoplius.lt/skelbimai/bmw-520-2-0-l-universalas-2008-dyzelinas-26859753.html', 'https://autoplius.lt/skelbimai/volvo-xc90-2-4-l-visureigis-krosoveris-2006-dyzelinas-26871355.html', 'https://autoplius.lt/skelbimai/audi-a4-1-8-l-universalas-2009-benzinas-26870903.html', 'https://autoplius.lt/skelbimai/bmw-118-2-0-l-hecbekas-2009-dyzelinas-26362488.html', 'https://autoplius.lt/skelbimai/volkswagen-crafter-2-0-l-krovininis-mikroautobusas-2016-dyzelinas-26835811.html', 'https://autoplius.lt/skelbimai/bmw-120-2-0-l-hecbekas-2008-dyzelinas-26867095.html', 'https://autoplius.lt/skelbimai/bmw-320-2-0-l-universalas-2014-dyzelinas-26859171.html', 'https://autoplius.lt/skelbimai/dodge-journey-3-6-l-universalas-2015-benzinas-dujos-26824563.html', 'https://autoplius.lt/skelbimai/lexus-ls-600h-5-0-l-sedanas-2008-benzinas-elektra-26741857.html', 'https://autoplius.lt/skelbimai/bmw-520-2-0-l-universalas-2012-dyzelinas-26634411.html', 'https://autoplius.lt/skelbimai/volkswagen-passat-1-6-l-universalas-2015-dyzelinas-26637943.html', 'https://autoplius.lt/skelbimai/volkswagen-golf-2-0-l-hecbekas-2014-dyzelinas-26175906.html', 'https://autoplius.lt/skelbimai/mazda-cx-3-1-5-l-visureigis-krosoveris-2016-dyzelinas-26847517.html', 'https://autoplius.lt/skelbimai/volkswagen-touran-2-0-l-vienaturis-2019-dyzelinas-26655375.html', 'https://autoplius.lt/skelbimai/bmw-x5-3-0-l-visureigis-krosoveris-2012-dyzelinas-26858811.html']\n",
      "20\n",
      "/skelbimai/naudoti-automobiliai?page_nr=4\n",
      "https://autoplius.lt/skelbimai/naudoti-automobiliai?page_nr=4\n"
     ]
    }
   ],
   "source": [
    "# autu pls 3\n",
    "bs = BeautifulSoup(source, 'html.parser')\n",
    "# print(bs)\n",
    "auto_nuorodos = []\n",
    "\n",
    "\n",
    "auto_links = bs.find('div', {'class':'auto-lists lt'}).find_all('a')\n",
    "for link in auto_links:\n",
    "    # print(link['href'])\n",
    "    auto_nuorodos.append(link['href'])\n",
    "\n",
    "print(auto_nuorodos)\n",
    "print(len(auto_nuorodos))\n",
    "\n",
    "kitas = bs.find('div', {'class':'page-navigation-container'}).find('a', {'class':'next'})\n",
    "print(kitas['href'])\n",
    "\n",
    "next_nuoroda = f'https://autoplius.lt{kitas['href']}'\n",
    "print(next_nuoroda)"
   ]
  },
  {
   "cell_type": "code",
   "execution_count": 92,
   "metadata": {},
   "outputs": [
    {
     "name": "stdout",
     "output_type": "stream",
     "text": [
      "https://autoplius.lt/skelbimai/toyota-prius-1-5-l-hecbekas-2006-benzinas-elektra-26671389.html\n",
      "Toyota Prius\n",
      "https://autoplius.lt/skelbimai/mazda-3-1-6-l-hecbekas-2007-benzinas-26870775.html\n",
      "Mazda 3\n",
      "https://autoplius.lt/skelbimai/audi-a6-universalas-2010-dyzelinas-26871689.html\n",
      "Audi A6\n",
      "https://autoplius.lt/skelbimai/honda-legend-3-5-l-sedanas-2006-benzinas-dujos-26870659.html\n",
      "Honda Legend\n",
      "https://autoplius.lt/skelbimai/audi-a6-3-0-l-universalas-2008-dyzelinas-26870853.html\n",
      "Audi A6\n",
      "https://autoplius.lt/skelbimai/bmw-520-2-0-l-universalas-2008-dyzelinas-26859753.html\n",
      "BMW 520\n",
      "https://autoplius.lt/skelbimai/volvo-xc90-2-4-l-visureigis-krosoveris-2006-dyzelinas-26871355.html\n",
      "Volvo XC90\n",
      "https://autoplius.lt/skelbimai/audi-a4-1-8-l-universalas-2009-benzinas-26870903.html\n",
      "Audi A4\n",
      "https://autoplius.lt/skelbimai/bmw-118-2-0-l-hecbekas-2009-dyzelinas-26362488.html\n",
      "BMW 118\n",
      "https://autoplius.lt/skelbimai/volkswagen-crafter-2-0-l-krovininis-mikroautobusas-2016-dyzelinas-26835811.html\n",
      "Volkswagen Crafter\n",
      "https://autoplius.lt/skelbimai/bmw-120-2-0-l-hecbekas-2008-dyzelinas-26867095.html\n",
      "BMW 120\n",
      "https://autoplius.lt/skelbimai/bmw-320-2-0-l-universalas-2014-dyzelinas-26859171.html\n",
      "BMW 320\n",
      "https://autoplius.lt/skelbimai/dodge-journey-3-6-l-universalas-2015-benzinas-dujos-26824563.html\n",
      "Dodge Journey\n",
      "https://autoplius.lt/skelbimai/lexus-ls-600h-5-0-l-sedanas-2008-benzinas-elektra-26741857.html\n",
      "Lexus LS 600h\n",
      "https://autoplius.lt/skelbimai/bmw-520-2-0-l-universalas-2012-dyzelinas-26634411.html\n",
      "BMW 520\n",
      "https://autoplius.lt/skelbimai/volkswagen-passat-1-6-l-universalas-2015-dyzelinas-26637943.html\n",
      "Volkswagen Passat\n",
      "https://autoplius.lt/skelbimai/volkswagen-golf-2-0-l-hecbekas-2014-dyzelinas-26175906.html\n",
      "Volkswagen Golf\n",
      "https://autoplius.lt/skelbimai/mazda-cx-3-1-5-l-visureigis-krosoveris-2016-dyzelinas-26847517.html\n",
      "Mazda CX-3\n",
      "https://autoplius.lt/skelbimai/volkswagen-touran-2-0-l-vienaturis-2019-dyzelinas-26655375.html\n",
      "Volkswagen Touran\n",
      "https://autoplius.lt/skelbimai/bmw-x5-3-0-l-visureigis-krosoveris-2012-dyzelinas-26858811.html\n",
      "BMW X5\n"
     ]
    }
   ],
   "source": [
    "markes3 = []\n",
    "modeliai3= []\n",
    "keys3 = []\n",
    "values3 = []\n",
    "car_i3 = {}\n",
    "\n",
    "\n",
    "driver = webdriver.Chrome(options=opcijos)\n",
    "for nuoroda in auto_nuorodos:\n",
    "    print(nuoroda)\n",
    "    \n",
    "    url = nuoroda\n",
    "    driver.get(url)\n",
    "    time.sleep(3)\n",
    "    source = driver.page_source\n",
    "    \n",
    "    bs_auto = BeautifulSoup(source, 'html.parser')\n",
    "    \n",
    "    if bs_auto.find('div', {'class':'error'}):\n",
    "        print('skelbimas neegzistuoja')\n",
    "    else:\n",
    "        car = bs_auto.find('ol', {'class':'breadcrumbs'}).find_all('li', {'class':'crumb'})\n",
    "        marke = car[2].text.strip()\n",
    "        modelis = car[3].text.strip()\n",
    "        markes3.append(marke)\n",
    "        modeliai3.append(modelis)\n",
    "        print(marke, modelis)\n",
    "\n",
    "        car_info = bs_auto.find_all('div', {'class':'parameter-row'})\n",
    "        for info in car_info[1:]:\n",
    "            # print(info)\n",
    "            # if info is not None:\n",
    "            #     # print('::NRW:::')\n",
    "            key = info.find('div', {'class':'parameter-label'}).text.strip()\n",
    "            # print(key.text.strip())\n",
    "            keys3.append(key)\n",
    "            value = info.find('div', {'class':'parameter-value'}).text.strip()\n",
    "            values3.append(value)\n",
    "            # print(key, value)\n",
    "            # print(value.text.strip())\n",
    "\n",
    "driver.close()"
   ]
  },
  {
   "cell_type": "code",
   "execution_count": 93,
   "metadata": {},
   "outputs": [
    {
     "name": "stdout",
     "output_type": "stream",
     "text": [
      "27\n",
      "['Kuro tipas', 'Vidutinės', 'Bendroji masė, kg', 'Defektai', 'Variklis', 'Rida', 'Durų skaičius', 'Nuosava masė, kg', 'Pirma registracija', 'Pirmosios registracijos šalis', 'Kėbulo numeris (VIN)', 'Ilgis', 'Tech. apžiūra iki', 'CO₂ emisija, g/km', 'Užmiestyje', 'Euro standartas', 'Taršos mokestis', 'Spalva', 'SDK', 'Pavarų dėžė', 'Klimato valdymas', 'Elektra nuvažiuojamas atstumas', 'Mieste', 'Varantieji ratai', 'Sėdimų vietų skaičius', 'Kėbulo tipas', 'Ratlankių skersmuo']\n",
      "338\n"
     ]
    }
   ],
   "source": [
    "keys3 = list(set(keys3))\n",
    "print(len(keys3))\n",
    "print(keys3)\n",
    "print(len(values3))"
   ]
  },
  {
   "cell_type": "code",
   "execution_count": 95,
   "metadata": {},
   "outputs": [],
   "source": [
    "for i in keys2:\n",
    "    keys.append(i)\n",
    "\n",
    "for i in keys3:\n",
    "    keys.append(i)"
   ]
  },
  {
   "cell_type": "code",
   "execution_count": 98,
   "metadata": {},
   "outputs": [
    {
     "name": "stdout",
     "output_type": "stream",
     "text": [
      "['', 'Kuro tipas', 'Vidutinės', 'Bendroji masė, kg', 'Defektai', 'Variklis', 'Rida', 'Baterijos talpa, kWh', 'Durų skaičius', 'Nuosava masė, kg', 'Pirma registracija', 'Pirmosios registracijos šalis', 'Kėbulo numeris (VIN)', 'Ilgis', 'Tech. apžiūra iki', 'CO₂ emisija, g/km', 'Euro standartas', 'Užmiestyje', 'Taršos mokestis', 'Spalva', 'SDK', 'Pavarų dėžė', 'Klimato valdymas', 'Mieste', 'Elektra nuvažiuojamas atstumas', 'Varantieji ratai', 'Sėdimų vietų skaičius', 'Kėbulo tipas', 'Ratlankių skersmuo']\n",
      "29\n"
     ]
    }
   ],
   "source": [
    "print(list(set(keys)))\n",
    "print(len(list(set(keys))))"
   ]
  },
  {
   "cell_type": "code",
   "execution_count": 99,
   "metadata": {},
   "outputs": [],
   "source": [
    "# auto pls 4\n",
    "opcijos = Options()\n",
    "opcijos.add_argument('--incognito')\n",
    "driver = webdriver.Chrome(options=opcijos)\n",
    "url = 'https://autoplius.lt/skelbimai/naudoti-automobiliai?page_nr=3'\n",
    "driver.get(url)\n",
    "time.sleep(5)\n",
    "source = driver.page_source\n",
    "driver.close()"
   ]
  },
  {
   "cell_type": "code",
   "execution_count": 100,
   "metadata": {},
   "outputs": [
    {
     "name": "stdout",
     "output_type": "stream",
     "text": [
      "['https://autoplius.lt/skelbimai/toyota-prius-1-5-l-hecbekas-2006-benzinas-elektra-26671389.html', 'https://autoplius.lt/skelbimai/mazda-3-1-6-l-hecbekas-2007-benzinas-26870775.html', 'https://autoplius.lt/skelbimai/audi-a6-universalas-2010-dyzelinas-26871689.html', 'https://autoplius.lt/skelbimai/honda-legend-3-5-l-sedanas-2006-benzinas-dujos-26870659.html', 'https://autoplius.lt/skelbimai/audi-a6-3-0-l-universalas-2008-dyzelinas-26870853.html', 'https://autoplius.lt/skelbimai/bmw-520-2-0-l-universalas-2008-dyzelinas-26859753.html', 'https://autoplius.lt/skelbimai/volvo-xc90-2-4-l-visureigis-krosoveris-2006-dyzelinas-26871355.html', 'https://autoplius.lt/skelbimai/audi-a4-1-8-l-universalas-2009-benzinas-26870903.html', 'https://autoplius.lt/skelbimai/bmw-118-2-0-l-hecbekas-2009-dyzelinas-26362488.html', 'https://autoplius.lt/skelbimai/volkswagen-crafter-2-0-l-krovininis-mikroautobusas-2016-dyzelinas-26835811.html', 'https://autoplius.lt/skelbimai/bmw-120-2-0-l-hecbekas-2008-dyzelinas-26867095.html', 'https://autoplius.lt/skelbimai/bmw-320-2-0-l-universalas-2014-dyzelinas-26859171.html', 'https://autoplius.lt/skelbimai/dodge-journey-3-6-l-universalas-2015-benzinas-dujos-26824563.html', 'https://autoplius.lt/skelbimai/lexus-ls-600h-5-0-l-sedanas-2008-benzinas-elektra-26741857.html', 'https://autoplius.lt/skelbimai/bmw-520-2-0-l-universalas-2012-dyzelinas-26634411.html', 'https://autoplius.lt/skelbimai/volkswagen-passat-1-6-l-universalas-2015-dyzelinas-26637943.html', 'https://autoplius.lt/skelbimai/volkswagen-golf-2-0-l-hecbekas-2014-dyzelinas-26175906.html', 'https://autoplius.lt/skelbimai/mazda-cx-3-1-5-l-visureigis-krosoveris-2016-dyzelinas-26847517.html', 'https://autoplius.lt/skelbimai/volkswagen-touran-2-0-l-vienaturis-2019-dyzelinas-26655375.html', 'https://autoplius.lt/skelbimai/bmw-x5-3-0-l-visureigis-krosoveris-2012-dyzelinas-26858811.html']\n",
      "20\n",
      "/skelbimai/naudoti-automobiliai?page_nr=4\n",
      "https://autoplius.lt/skelbimai/naudoti-automobiliai?page_nr=4\n"
     ]
    }
   ],
   "source": [
    "# autu pls 4\n",
    "bs = BeautifulSoup(source, 'html.parser')\n",
    "# print(bs)\n",
    "auto_nuorodos = []\n",
    "\n",
    "\n",
    "auto_links = bs.find('div', {'class':'auto-lists lt'}).find_all('a')\n",
    "for link in auto_links:\n",
    "    # print(link['href'])\n",
    "    auto_nuorodos.append(link['href'])\n",
    "\n",
    "print(auto_nuorodos)\n",
    "print(len(auto_nuorodos))\n",
    "\n",
    "kitas = bs.find('div', {'class':'page-navigation-container'}).find('a', {'class':'next'})\n",
    "print(kitas['href'])\n",
    "\n",
    "next_nuoroda = f'https://autoplius.lt{kitas['href']}'\n",
    "print(next_nuoroda)"
   ]
  },
  {
   "cell_type": "code",
   "execution_count": 101,
   "metadata": {},
   "outputs": [
    {
     "name": "stdout",
     "output_type": "stream",
     "text": [
      "https://autoplius.lt/skelbimai/toyota-prius-1-5-l-hecbekas-2006-benzinas-elektra-26671389.html\n",
      "Toyota Prius\n",
      "https://autoplius.lt/skelbimai/mazda-3-1-6-l-hecbekas-2007-benzinas-26870775.html\n",
      "Mazda 3\n",
      "https://autoplius.lt/skelbimai/audi-a6-universalas-2010-dyzelinas-26871689.html\n",
      "Audi A6\n",
      "https://autoplius.lt/skelbimai/honda-legend-3-5-l-sedanas-2006-benzinas-dujos-26870659.html\n",
      "Honda Legend\n",
      "https://autoplius.lt/skelbimai/audi-a6-3-0-l-universalas-2008-dyzelinas-26870853.html\n",
      "Audi A6\n",
      "https://autoplius.lt/skelbimai/bmw-520-2-0-l-universalas-2008-dyzelinas-26859753.html\n",
      "BMW 520\n",
      "https://autoplius.lt/skelbimai/volvo-xc90-2-4-l-visureigis-krosoveris-2006-dyzelinas-26871355.html\n",
      "Volvo XC90\n",
      "https://autoplius.lt/skelbimai/audi-a4-1-8-l-universalas-2009-benzinas-26870903.html\n",
      "Audi A4\n",
      "https://autoplius.lt/skelbimai/bmw-118-2-0-l-hecbekas-2009-dyzelinas-26362488.html\n",
      "BMW 118\n",
      "https://autoplius.lt/skelbimai/volkswagen-crafter-2-0-l-krovininis-mikroautobusas-2016-dyzelinas-26835811.html\n",
      "Volkswagen Crafter\n",
      "https://autoplius.lt/skelbimai/bmw-120-2-0-l-hecbekas-2008-dyzelinas-26867095.html\n",
      "BMW 120\n",
      "https://autoplius.lt/skelbimai/bmw-320-2-0-l-universalas-2014-dyzelinas-26859171.html\n",
      "BMW 320\n",
      "https://autoplius.lt/skelbimai/dodge-journey-3-6-l-universalas-2015-benzinas-dujos-26824563.html\n",
      "Dodge Journey\n",
      "https://autoplius.lt/skelbimai/lexus-ls-600h-5-0-l-sedanas-2008-benzinas-elektra-26741857.html\n",
      "Lexus LS 600h\n",
      "https://autoplius.lt/skelbimai/bmw-520-2-0-l-universalas-2012-dyzelinas-26634411.html\n",
      "BMW 520\n",
      "https://autoplius.lt/skelbimai/volkswagen-passat-1-6-l-universalas-2015-dyzelinas-26637943.html\n",
      "Volkswagen Passat\n",
      "https://autoplius.lt/skelbimai/volkswagen-golf-2-0-l-hecbekas-2014-dyzelinas-26175906.html\n",
      "Volkswagen Golf\n",
      "https://autoplius.lt/skelbimai/mazda-cx-3-1-5-l-visureigis-krosoveris-2016-dyzelinas-26847517.html\n",
      "Mazda CX-3\n",
      "https://autoplius.lt/skelbimai/volkswagen-touran-2-0-l-vienaturis-2019-dyzelinas-26655375.html\n",
      "Volkswagen Touran\n",
      "https://autoplius.lt/skelbimai/bmw-x5-3-0-l-visureigis-krosoveris-2012-dyzelinas-26858811.html\n",
      "BMW X5\n"
     ]
    }
   ],
   "source": [
    "markes4 = []\n",
    "modeliai4= []\n",
    "keys4 = []\n",
    "values4 = []\n",
    "car_i4 = {}\n",
    "\n",
    "\n",
    "driver = webdriver.Chrome(options=opcijos)\n",
    "for nuoroda in auto_nuorodos:\n",
    "    print(nuoroda)\n",
    "    \n",
    "    url = nuoroda\n",
    "    driver.get(url)\n",
    "    time.sleep(2)\n",
    "    source = driver.page_source\n",
    "    \n",
    "    bs_auto = BeautifulSoup(source, 'html.parser')\n",
    "    \n",
    "    if bs_auto.find('div', {'class':'error'}):\n",
    "        print('skelbimas neegzistuoja')\n",
    "    else:\n",
    "        car = bs_auto.find('ol', {'class':'breadcrumbs'}).find_all('li', {'class':'crumb'})\n",
    "        marke = car[2].text.strip()\n",
    "        modelis = car[3].text.strip()\n",
    "        markes4.append(marke)\n",
    "        modeliai4.append(modelis)\n",
    "        print(marke, modelis)\n",
    "\n",
    "        car_info = bs_auto.find_all('div', {'class':'parameter-row'})\n",
    "        for info in car_info[1:]:\n",
    "            # print(info)\n",
    "            # if info is not None:\n",
    "            #     # print('::NRW:::')\n",
    "            key = info.find('div', {'class':'parameter-label'}).text.strip()\n",
    "            # print(key.text.strip())\n",
    "            keys4.append(key)\n",
    "            value = info.find('div', {'class':'parameter-value'}).text.strip()\n",
    "            values4.append(value)\n",
    "            # print(key, value)\n",
    "            # print(value.text.strip())\n",
    "\n",
    "driver.close()"
   ]
  },
  {
   "cell_type": "code",
   "execution_count": 102,
   "metadata": {},
   "outputs": [
    {
     "name": "stdout",
     "output_type": "stream",
     "text": [
      "27\n",
      "['Kuro tipas', 'Vidutinės', 'Bendroji masė, kg', 'Defektai', 'Variklis', 'Rida', 'Durų skaičius', 'Nuosava masė, kg', 'Pirma registracija', 'Pirmosios registracijos šalis', 'Kėbulo numeris (VIN)', 'Ilgis', 'Tech. apžiūra iki', 'CO₂ emisija, g/km', 'Užmiestyje', 'Euro standartas', 'Taršos mokestis', 'Spalva', 'SDK', 'Pavarų dėžė', 'Klimato valdymas', 'Elektra nuvažiuojamas atstumas', 'Mieste', 'Varantieji ratai', 'Sėdimų vietų skaičius', 'Kėbulo tipas', 'Ratlankių skersmuo']\n",
      "338\n"
     ]
    }
   ],
   "source": [
    "keys4 = list(set(keys4))\n",
    "print(len(keys4))\n",
    "print(keys4)\n",
    "print(len(values4))"
   ]
  },
  {
   "cell_type": "code",
   "execution_count": 103,
   "metadata": {},
   "outputs": [],
   "source": [
    "for i in keys4:\n",
    "    keys.append(i)"
   ]
  },
  {
   "cell_type": "code",
   "execution_count": 106,
   "metadata": {},
   "outputs": [
    {
     "name": "stdout",
     "output_type": "stream",
     "text": [
      "\n",
      "Kuro tipas\n",
      "Vidutinės\n",
      "Bendroji masė, kg\n",
      "Defektai\n",
      "Variklis\n",
      "Rida\n",
      "Baterijos talpa, kWh\n",
      "Durų skaičius\n",
      "Nuosava masė, kg\n",
      "Pirma registracija\n",
      "Pirmosios registracijos šalis\n",
      "Kėbulo numeris (VIN)\n",
      "Ilgis\n",
      "Tech. apžiūra iki\n",
      "CO₂ emisija, g/km\n",
      "Euro standartas\n",
      "Užmiestyje\n",
      "Taršos mokestis\n",
      "Spalva\n",
      "SDK\n",
      "Pavarų dėžė\n",
      "Klimato valdymas\n",
      "Mieste\n",
      "Elektra nuvažiuojamas atstumas\n",
      "Varantieji ratai\n",
      "Sėdimų vietų skaičius\n",
      "Kėbulo tipas\n",
      "Ratlankių skersmuo\n",
      "29\n"
     ]
    }
   ],
   "source": [
    "keys = list(set(keys))\n",
    "for i in keys:\n",
    "    print(i)\n",
    "print(len(list(set(keys))))"
   ]
  },
  {
   "cell_type": "code",
   "execution_count": 115,
   "metadata": {},
   "outputs": [],
   "source": [
    "duomenys = {\n",
    "    'Kuro tipas':'None',\n",
    "    'Vidutinės':'None',\n",
    "    'Bendroji masė, kg':'None',\n",
    "    'Defektai':'None',\n",
    "    'Variklis':'None',\n",
    "    'Rida':'None',\n",
    "    'Baterijos talpa, kWh':'None',\n",
    "    'Durų skaičius':'None',\n",
    "    'Nuosava masė, kg':'None',\n",
    "    'Pirma registracija':'None',\n",
    "    'Pirmosios registracijos šalis':'None',\n",
    "    'Kėbulo numeris (VIN)':'None',\n",
    "    'Ilgis':'None',\n",
    "    'Tech. apžiūra iki':'None',\n",
    "    'CO₂ emisija, g/km':'None',\n",
    "    'Euro standartas':'None',\n",
    "    'Užmiestyje':'None',\n",
    "    'Taršos mokestis':'None',\n",
    "    'Spalva':'None',\n",
    "    'SDK':'None',\n",
    "    'Pavarų dėžė':'None',\n",
    "    'Klimato valdymas':'None',\n",
    "    'Mieste':'None',\n",
    "    'Elektra nuvažiuojamas atstumas':'None',\n",
    "    'Varantieji ratai':'None',\n",
    "    'Sėdimų vietų skaičius':'None',\n",
    "    'Kėbulo tipas':'None',\n",
    "    'Ratlankių skersmuo':'None'\n",
    "}"
   ]
  },
  {
   "cell_type": "code",
   "execution_count": 116,
   "metadata": {},
   "outputs": [
    {
     "name": "stdout",
     "output_type": "stream",
     "text": [
      "{'Kuro tipas': 'None', 'Vidutinės': 'None', 'Bendroji masė, kg': 'None', 'Defektai': 'None', 'Variklis': 'None', 'Rida': 'None', 'Baterijos talpa, kWh': 'None', 'Durų skaičius': 'None', 'Nuosava masė, kg': 'None', 'Pirma registracija': 'None', 'Pirmosios registracijos šalis': 'None', 'Kėbulo numeris (VIN)': 'None', 'Ilgis': 'None', 'Tech. apžiūra iki': 'None', 'CO₂ emisija, g/km': 'None', 'Euro standartas': 'None', 'Užmiestyje': 'None', 'Taršos mokestis': 'None', 'Spalva': 'None', 'SDK': 'None', 'Pavarų dėžė': 'None', 'Klimato valdymas': 'None', 'Mieste': 'None', 'Elektra nuvažiuojamas atstumas': 'None', 'Varantieji ratai': 'None', 'Sėdimų vietų skaičius': 'None', 'Kėbulo tipas': 'None', 'Ratlankių skersmuo': 'None'}\n",
      "['Kuro tipas', 'Vidutinės', 'Bendroji masė, kg', 'Defektai', 'Variklis', 'Rida', 'Durų skaičius', 'Nuosava masė, kg', 'Pirma registracija', 'Pirmosios registracijos šalis', 'Kėbulo numeris (VIN)', 'Ilgis', 'Tech. apžiūra iki', 'CO₂ emisija, g/km', 'Užmiestyje', 'Euro standartas', 'Taršos mokestis', 'Spalva', 'SDK', 'Pavarų dėžė', 'Klimato valdymas', 'Elektra nuvažiuojamas atstumas', 'Mieste', 'Varantieji ratai', 'Sėdimų vietų skaičius', 'Kėbulo tipas', 'Ratlankių skersmuo']\n",
      "['2006-07', '296 365 km', '1497 cm³, 76 AG (56kW)', 'Benzinas / elektra', '5 km', 'Hečbekas', '4/5', 'Priekiniai', 'Automatinė', 'Klimato kontrolė', 'Mėlyna / žydra', '2024-06', 'R16', '1270', '5', 'Prancūzija', 'JTDKB20U...\\n            Rodyti', 'KAHFF...\\n                Rodyti', '~ 104 g/km', '0 €', '4,2', '3,5', '3,6', '2007-08', '119 000 km', '1600 cm³, 105 AG (77kW)', 'Benzinas', 'Hečbekas', '4/5', 'Priekiniai', 'Automatinė', 'Oro kondicionierius', '2026-07', '5', 'HETRE...\\n                Rodyti', '~ 183 g/km', '~ 121.41 €', '2010-04', '267 884 km', 'Dyzelinas', 'Universalas', '4/5', 'Automatinė', '2025-10', '5', '~ 163 g/km', '~ 161.88 €', '2006-09', '263 000 km', '3500 cm³, 290 AG (213kW)', 'Benzinas / dujos', 'Sedanas', '4/5', 'Visi varantys (4х4)', 'Automatinė', 'Klimato kontrolė', '2026-05', 'ANHKE...\\n                Rodyti', '~ 282 g/km', '~ 291.38 €', '2008-11', '289 345 km', '3000 cm³', 'Dyzelinas', 'Universalas', '4/5', 'Automatinė', '2025-12', '5', '~ 207 g/km', '~ 323.76 €', '2008-09', '330 000 km', '1995 cm³, 177 AG (130kW)', 'Dyzelinas', 'Universalas', '4/5', 'Galiniai', 'Automatinė', 'Klimato kontrolė', 'Pilka / sidabrinė', '2026-06', 'R16', '1620', '5', 'WBAPX310...\\n            Rodyti', 'FMTRC...\\n                Rodyti', '140 g/km', '40.47 €', '7,7', '4,7', '5,8', '2006-04', '285 486 km', '2401 cm³', 'Dyzelinas', 'Visureigis / Krosoveris', '4/5', 'Visi varantys (4х4)', 'Mechaninė', '2025-11', '219 g/km', '364.23 €', '8,2', '2009-04', '199 478 km', '1800 cm³', 'Benzinas', 'Universalas', '4/5', 'Automatinė', '2026-09', '5', '~ 174 g/km', '~ 101.17 €', '2009-07', '230 000 km', '1995 cm³, 143 AG (105kW)', 'Dyzelinas', 'Hečbekas', '4/5', 'Galiniai', 'Automatinė', 'Klimato kontrolė', '2026-03', 'R16', '1345', '5', 'WBAUD710...\\n            Rodyti', 'TKAEK...\\n                Rodyti', '144 g/km', '80.94 €', '6,9', '4,5', '5,4', '2016-07', '200 000 km', '1998 cm³, 136 AG (100kW)', 'Dyzelinas', 'Krovininis mikroautobusas', '4/5', 'Mechaninė', 'Standartinis (L2)', '2500', '2008-08', '305 000 km', '1995 cm³, 218 AG (160kW)', 'Dyzelinas', 'Hečbekas', '2/3', 'Galiniai', 'Mechaninė', 'Klimato kontrolė', 'Raudona / vyšninė', '2025-11', 'R19', '1365', '4', 'Vokietija', 'WBAUB510...\\n            Rodyti', 'TMFHK...\\n                Rodyti', 'Euro 5', '128 g/km', '0 €', '6,1', '4,1', '4,8', '2014-01', '336 000 km', '1995 cm³, 184 AG (135kW)', 'Dyzelinas', 'Universalas', '4/5', 'Galiniai', 'Automatinė', 'Klimato kontrolė', 'Juoda', 'Daužtas', '2024-09', 'R18', '5', 'Olandija', 'WBA3L110...\\n            Rodyti', 'FRTCK...\\n                Rodyti', 'Euro 5', '109 g/km', '0 €', '5,1', '3,8', '4,3', '2015-03', '288 650 km', '3600 cm³, 287 AG (211kW)', 'Benzinas / dujos', 'Universalas', '4/5', 'Visi varantys (4х4)', 'Automatinė', 'Oro kondicionierius', '2026-06', 'R18', '7', '3C4PDDBG...\\n            Rodyti', 'KHHFT...\\n                Rodyti', '2008-09', '360 000 km', '4969 cm³, 445 AG (327kW)', 'Benzinas / elektra', '3 km', 'Sedanas', '4/5', 'Visi varantys (4х4)', 'Automatinė', 'Klimato kontrolė', 'Pilka / sidabrinė', '2025-06', '2270', '5', 'Euro 4', '219 g/km', '182.11 €', '10,3', '8', '9,3', '2012-05', '243 857 km', '2000 cm³, 184 AG (135kW)', 'Dyzelinas', 'Universalas', '4/5', 'Galiniai', 'Automatinė', 'Klimato kontrolė', 'Juoda', '2025-02', 'R20', '5', 'Belgija', 'WBAMX110...\\n            Rodyti', 'RTFFE...\\n                Rodyti', '134 g/km', '40.47 €', '2015-04', '261 321 km', '1598 cm³, 120 AG (88kW)', 'Dyzelinas', 'Universalas', '4/5', 'Priekiniai', 'Automatinė', 'Klimato kontrolė', 'Pilka / sidabrinė', '2025-02', 'R17', '1500', '5', 'WVWZZZ3C...\\n            Rodyti', 'CMCRR...\\n                Rodyti', 'Euro 6', '104 g/km', '0 €', '4,5', '3,7', '4', '2014-08', '203 874 km', '1968 cm³, 184 AG (135kW)', 'Dyzelinas', 'Hečbekas', '4/5', 'Priekiniai', 'Mechaninė', 'Klimato kontrolė', 'Pilka / sidabrinė', '2025-12', 'R19', '4', 'Vokietija', 'Euro 6', '~ 109 g/km', '0 €', '7', '5', '2016-08', '251 000 km', '1499 cm³, 105 AG (77kW)', 'Dyzelinas', 'Visureigis / Krosoveris', '4/5', 'Priekiniai', 'Mechaninė', 'Klimato kontrolė', 'Balta', '2026-10', 'R16', '5', 'Prancūzija', 'MFEEC...\\n                Rodyti', 'Euro 6', '~ 105 g/km', '0 €', '2019-04', '342 290 km', '1968 cm³, 150 AG (110kW)', 'Dyzelinas', 'Vienatūris', '4/5', 'Priekiniai', 'Automatinė', 'Klimato kontrolė', 'Balta', '2025-04', 'R17', '1620', '7', 'Prancūzija', 'WVGZZZ1T...\\n            Rodyti', 'KKHFR...\\n                Rodyti', 'Euro 6', '127 g/km', '0 €', '5,6', '4,4', '4,8', '2012-11', '249 000 km', '2993 cm³, 286 AG (210kW)', 'Dyzelinas', 'Visureigis / Krosoveris', '4/5', 'Visi varantys (4х4)', 'Automatinė', 'Klimato kontrolė', 'Juoda', '2025-06', 'R18', '5', '5UXZWOC5...\\n            Rodyti']\n",
      "{'Kuro tipas': '2006-07', 'Vidutinės': '296 365 km', 'Bendroji masė, kg': '1497 cm³, 76 AG (56kW)', 'Defektai': 'Benzinas / elektra', 'Variklis': '5 km', 'Rida': 'Hečbekas', 'Baterijos talpa, kWh': 'None', 'Durų skaičius': '4/5', 'Nuosava masė, kg': 'Priekiniai', 'Pirma registracija': 'Automatinė', 'Pirmosios registracijos šalis': 'Klimato kontrolė', 'Kėbulo numeris (VIN)': 'Mėlyna / žydra', 'Ilgis': '2024-06', 'Tech. apžiūra iki': 'R16', 'CO₂ emisija, g/km': '1270', 'Euro standartas': 'Prancūzija', 'Užmiestyje': '5', 'Taršos mokestis': 'JTDKB20U...\\n            Rodyti', 'Spalva': 'KAHFF...\\n                Rodyti', 'SDK': '~ 104 g/km', 'Pavarų dėžė': '0 €', 'Klimato valdymas': '4,2', 'Mieste': '3,6', 'Elektra nuvažiuojamas atstumas': '3,5', 'Varantieji ratai': '2007-08', 'Sėdimų vietų skaičius': '119 000 km', 'Kėbulo tipas': '1600 cm³, 105 AG (77kW)', 'Ratlankių skersmuo': 'Benzinas'}\n"
     ]
    }
   ],
   "source": [
    "print(duomenys)\n",
    "print(keys4)\n",
    "print(values4)\n",
    "\n",
    "for k, v in zip(keys4, values4):\n",
    "    duomenys[k] = v\n",
    "\n",
    "print(duomenys)"
   ]
  },
  {
   "cell_type": "code",
   "execution_count": 117,
   "metadata": {},
   "outputs": [],
   "source": [
    "# auto pls 5\n",
    "opcijos = Options()\n",
    "opcijos.add_argument('--incognito')\n",
    "driver = webdriver.Chrome(options=opcijos)\n",
    "url = 'https://autoplius.lt/skelbimai/naudoti-automobiliai?page_nr=5'\n",
    "driver.get(url)\n",
    "time.sleep(5)\n",
    "source = driver.page_source\n",
    "driver.close()"
   ]
  },
  {
   "cell_type": "code",
   "execution_count": 118,
   "metadata": {},
   "outputs": [
    {
     "name": "stdout",
     "output_type": "stream",
     "text": [
      "['https://autoplius.lt/skelbimai/bmw-x5-3-0-l-visureigis-krosoveris-2014-dyzelinas-26867657.html', 'https://autoplius.lt/skelbimai/bmw-x4-2-0-l-visureigis-krosoveris-2020-dyzelinas-26722883.html', 'https://autoplius.lt/skelbimai/honda-cr-v-2-0-l-visureigis-krosoveris-2021-benzinas-elektra-26604897.html', 'https://autoplius.lt/skelbimai/jaguar-i-pace-90-kwh-visureigis-krosoveris-2019-elektra-26858977.html', 'https://autoplius.lt/skelbimai/volkswagen-atlas-3-6-l-visureigis-krosoveris-2021-benzinas-26855463.html', 'https://autoplius.lt/skelbimai/mercedes-benz-glc300-2-0-l-visureigis-krosoveris-2020-benzinas-26848675.html', 'https://autoplius.lt/skelbimai/bmw-x6-3-0-l-visureigis-krosoveris-2017-dyzelinas-25708054.html', 'https://autoplius.lt/skelbimai/audi-q7-3-0-l-visureigis-krosoveris-2019-dyzelinas-26660329.html', 'https://autoplius.lt/skelbimai/iveco-daily-3-0-l-krovininis-mikroautobusas-2022-dyzelinas-25193627.html', 'https://autoplius.lt/skelbimai/bmw-750-4-4-l-sedanas-2019-benzinas-26526294.html', 'https://autoplius.lt/skelbimai/opel-signum-2-2-l-hecbekas-2003-benzinas-26867363.html', 'https://autoplius.lt/skelbimai/audi-a6-1-9-l-universalas-2000-dyzelinas-26871095.html', 'https://autoplius.lt/skelbimai/toyota-avensis-2-0-l-universalas-2005-dyzelinas-26859271.html', 'https://autoplius.lt/skelbimai/volkswagen-passat-2-0-l-universalas-2006-dyzelinas-26816139.html', 'https://autoplius.lt/skelbimai/volkswagen-golf-hecbekas-2007-dyzelinas-26872049.html', 'https://autoplius.lt/skelbimai/ford-focus-1-6-l-hecbekas-2009-dyzelinas-26871203.html', 'https://autoplius.lt/skelbimai/toyota-avensis-verso-2-0-l-vienaturis-2005-dyzelinas-26871931.html', 'https://autoplius.lt/skelbimai/volvo-v70-2-0-l-universalas-1998-benzinas-26593145.html', 'https://autoplius.lt/skelbimai/chrysler-pt-cruiser-2-0-l-universalas-2001-benzinas-dujos-26859095.html', 'https://autoplius.lt/skelbimai/nissan-tiida-1-5-l-hecbekas-2008-dyzelinas-26853473.html']\n",
      "20\n",
      "/skelbimai/naudoti-automobiliai?page_nr=6\n",
      "https://autoplius.lt/skelbimai/naudoti-automobiliai?page_nr=6\n"
     ]
    }
   ],
   "source": [
    "# autu pls 5\n",
    "bs = BeautifulSoup(source, 'html.parser')\n",
    "# print(bs)\n",
    "auto_nuorodos = []\n",
    "\n",
    "\n",
    "auto_links = bs.find('div', {'class':'auto-lists lt'}).find_all('a')\n",
    "for link in auto_links:\n",
    "    # print(link['href'])\n",
    "    auto_nuorodos.append(link['href'])\n",
    "\n",
    "print(auto_nuorodos)\n",
    "print(len(auto_nuorodos))\n",
    "\n",
    "kitas = bs.find('div', {'class':'page-navigation-container'}).find('a', {'class':'next'})\n",
    "print(kitas['href'])\n",
    "\n",
    "next_nuoroda = f'https://autoplius.lt{kitas['href']}'\n",
    "print(next_nuoroda)"
   ]
  },
  {
   "cell_type": "code",
   "execution_count": 120,
   "metadata": {},
   "outputs": [
    {
     "name": "stdout",
     "output_type": "stream",
     "text": [
      "https://autoplius.lt/skelbimai/bmw-x5-3-0-l-visureigis-krosoveris-2014-dyzelinas-26867657.html\n",
      "BMW X5\n"
     ]
    },
    {
     "ename": "TypeError",
     "evalue": "unhashable type: 'list'",
     "output_type": "error",
     "traceback": [
      "\u001b[1;31m---------------------------------------------------------------------------\u001b[0m",
      "\u001b[1;31mTypeError\u001b[0m                                 Traceback (most recent call last)",
      "Cell \u001b[1;32mIn[120], line 71\u001b[0m\n\u001b[0;32m     68\u001b[0m         values5\u001b[38;5;241m.\u001b[39mappend(value)\n\u001b[0;32m     69\u001b[0m         \u001b[38;5;66;03m# print(key, value)\u001b[39;00m\n\u001b[0;32m     70\u001b[0m         \u001b[38;5;66;03m# print(value.text.strip())\u001b[39;00m\n\u001b[1;32m---> 71\u001b[0m         \u001b[43mduomenys\u001b[49m\u001b[43m[\u001b[49m\u001b[43mkeys\u001b[49m\u001b[43m]\u001b[49m \u001b[38;5;241m=\u001b[39m values\n\u001b[0;32m     73\u001b[0m \u001b[38;5;66;03m# for k, v in zip(keys5)    \u001b[39;00m\n\u001b[0;32m     74\u001b[0m \u001b[38;5;28mprint\u001b[39m(duomenys)\n",
      "\u001b[1;31mTypeError\u001b[0m: unhashable type: 'list'"
     ]
    }
   ],
   "source": [
    "\n",
    "\n",
    "\n",
    "driver = webdriver.Chrome(options=opcijos)\n",
    "for nuoroda in auto_nuorodos:\n",
    "    print(nuoroda)\n",
    "\n",
    "    markes5 = []\n",
    "    modeliai5= []\n",
    "    keys5 = []\n",
    "    values5 = []\n",
    "    car_i5 = {}\n",
    "    \n",
    "    duomenys = {\n",
    "    'Kuro tipas':'None',\n",
    "    'Vidutinės':'None',\n",
    "    'Bendroji masė, kg':'None',\n",
    "    'Defektai':'None',\n",
    "    'Variklis':'None',\n",
    "    'Rida':'None',\n",
    "    'Baterijos talpa, kWh':'None',\n",
    "    'Durų skaičius':'None',\n",
    "    'Nuosava masė, kg':'None',\n",
    "    'Pirma registracija':'None',\n",
    "    'Pirmosios registracijos šalis':'None',\n",
    "    'Kėbulo numeris (VIN)':'None',\n",
    "    'Ilgis':'None',\n",
    "    'Tech. apžiūra iki':'None',\n",
    "    'CO₂ emisija, g/km':'None',\n",
    "    'Euro standartas':'None',\n",
    "    'Užmiestyje':'None',\n",
    "    'Taršos mokestis':'None',\n",
    "    'Spalva':'None',\n",
    "    'SDK':'None',\n",
    "    'Pavarų dėžė':'None',\n",
    "    'Klimato valdymas':'None',\n",
    "    'Mieste':'None',\n",
    "    'Elektra nuvažiuojamas atstumas':'None',\n",
    "    'Varantieji ratai':'None',\n",
    "    'Sėdimų vietų skaičius':'None',\n",
    "    'Kėbulo tipas':'None',\n",
    "    'Ratlankių skersmuo':'None'\n",
    "    }\n",
    "\n",
    "    url = nuoroda\n",
    "    driver.get(url)\n",
    "    time.sleep(1)\n",
    "    source = driver.page_source\n",
    "    \n",
    "    bs_auto = BeautifulSoup(source, 'html.parser')\n",
    "    \n",
    "    if bs_auto.find('div', {'class':'error'}):\n",
    "        print('skelbimas neegzistuoja')\n",
    "    else:\n",
    "        car = bs_auto.find('ol', {'class':'breadcrumbs'}).find_all('li', {'class':'crumb'})\n",
    "        marke = car[2].text.strip()\n",
    "        modelis = car[3].text.strip()\n",
    "        markes5.append(marke)\n",
    "        modeliai5.append(modelis)\n",
    "        print(marke, modelis)\n",
    "\n",
    "        car_info = bs_auto.find_all('div', {'class':'parameter-row'})\n",
    "        for info in car_info[1:]:\n",
    "            # print(info)\n",
    "            # if info is not None:\n",
    "            #     # print('::NRW:::')\n",
    "            key = info.find('div', {'class':'parameter-label'}).text.strip()\n",
    "            # print(key.text.strip())\n",
    "            keys5.append(key)\n",
    "            value = info.find('div', {'class':'parameter-value'}).text.strip()\n",
    "            values5.append(value)\n",
    "            # print(key, value)\n",
    "            # print(value.text.strip())\n",
    "            duomenys[key] = value\n",
    "\n",
    "    # for k, v in zip(keys5)    \n",
    "    print(duomenys)\n",
    "            \n",
    "\n",
    "driver.close()"
   ]
  }
 ],
 "metadata": {
  "kernelspec": {
   "display_name": "DataScienceNotebooks-Gb1CNkV6",
   "language": "python",
   "name": "python3"
  },
  "language_info": {
   "codemirror_mode": {
    "name": "ipython",
    "version": 3
   },
   "file_extension": ".py",
   "mimetype": "text/x-python",
   "name": "python",
   "nbconvert_exporter": "python",
   "pygments_lexer": "ipython3",
   "version": "3.12.4"
  }
 },
 "nbformat": 4,
 "nbformat_minor": 2
}
