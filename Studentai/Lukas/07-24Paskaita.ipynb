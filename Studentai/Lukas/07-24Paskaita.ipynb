{
 "cells": [
  {
   "cell_type": "code",
   "execution_count": 16,
   "metadata": {},
   "outputs": [
    {
     "data": {
      "text/plain": [
       "['S',\n",
       " 'S',\n",
       " 'S',\n",
       " 'S',\n",
       " 42,\n",
       " 42,\n",
       " 'S',\n",
       " 'S',\n",
       " 'S',\n",
       " 'S',\n",
       " 'S',\n",
       " 'S',\n",
       " 'S',\n",
       " 'S',\n",
       " 42,\n",
       " 'S',\n",
       " 'S',\n",
       " 'S',\n",
       " 42,\n",
       " 'skaicius',\n",
       " 'skaicius',\n",
       " 42,\n",
       " 'S',\n",
       " 'S',\n",
       " 'S',\n",
       " 'S',\n",
       " 'S',\n",
       " 'S',\n",
       " 42,\n",
       " 42,\n",
       " 'skaicius',\n",
       " 42,\n",
       " 'S',\n",
       " 'S',\n",
       " 42,\n",
       " 'S',\n",
       " 'S',\n",
       " 'S',\n",
       " 'S',\n",
       " 'S',\n",
       " 'S',\n",
       " 'S',\n",
       " 42,\n",
       " 'S',\n",
       " 'S',\n",
       " 'S',\n",
       " 'S',\n",
       " 'S']"
      ]
     },
     "execution_count": 16,
     "metadata": {},
     "output_type": "execute_result"
    }
   ],
   "source": [
    "# .isnumeric(), .isalpha() - a-z\n",
    "txt = 'Labs, šiandien yra 24 liepos, 7-to mėnesio diena'\n",
    "# parašyti funkciją, skirtą naudoti su map()\n",
    "# ir gaukite sąrašą, kur, jei simbolis duotąjame tekste buvo skaičius - rašote 'Skaičius;,\n",
    "#  o jei tai buvo raidė - rašote 'S', o jei tai spec. simbolis - rašote 42 (skaičių)\n",
    "\n",
    "def eilute(t):\n",
    "    # t.replace(\",\", \"\")\n",
    "    # lst = t.replace(',', '').split()\n",
    "    # lst = list(t)\n",
    "    # print(lst)\n",
    "    ats = list(map(lambda x: \"skaicius\" if x.isnumeric() else 'S' if x.isalpha() else 42, t))\n",
    "    return ats\n",
    "\n",
    "eilute(txt)\n",
    "    "
   ]
  },
  {
   "cell_type": "code",
   "execution_count": 2,
   "metadata": {},
   "outputs": [],
   "source": [
    "from dateutil import parser"
   ]
  },
  {
   "cell_type": "code",
   "execution_count": 3,
   "metadata": {},
   "outputs": [],
   "source": [
    "import numpy as np"
   ]
  },
  {
   "cell_type": "code",
   "execution_count": 21,
   "metadata": {},
   "outputs": [
    {
     "name": "stdout",
     "output_type": "stream",
     "text": [
      "(np.float64(1.0), np.float64(2.0), np.float64(3.0), np.float64(4.0), np.float64(5.0), np.float64(6.0), np.float64(7.0), np.float64(8.0), np.float64(9.0), np.float64(10.0), np.float64(11.0), np.float64(12.0), np.float64(13.0), np.float64(14.0), np.float64(15.0), np.float64(16.0), np.float64(17.0), np.float64(18.0), np.float64(19.0), np.float64(20.0), np.float64(21.0), np.float64(22.0), np.float64(23.0), np.float64(24.0), np.float64(25.0), np.float64(26.0), np.float64(27.0), np.float64(28.0), np.float64(29.0), np.float64(30.0))\n"
     ]
    }
   ],
   "source": [
    "f = '../../DATA/fpc.csv'\n",
    "ft = np.loadtxt(f, delimiter=',', skiprows=1)\n",
    "c1, c2, c3, c4, c5 = zip(*ft)\n",
    "print(c1)"
   ]
  },
  {
   "cell_type": "code",
   "execution_count": 22,
   "metadata": {},
   "outputs": [
    {
     "name": "stdout",
     "output_type": "stream",
     "text": [
      "[ 1.  2.  3.  4.  5.  6.  7.  8.  9. 10. 11. 12. 13. 14. 15. 16. 17. 18.\n",
      " 19. 20. 21. 22. 23. 24. 25. 26. 27. 28. 29. 30.]\n"
     ]
    }
   ],
   "source": [
    "c1, c2, c3, c4, c5 = np.transpose(ft)\n",
    "print(c1)"
   ]
  },
  {
   "cell_type": "code",
   "execution_count": 36,
   "metadata": {},
   "outputs": [
    {
     "name": "stdout",
     "output_type": "stream",
     "text": [
      "c1 vidurkis: 15.5, mediana: 15.5\n",
      "c2 vidurkis: 0.10540646774060033, mediana: 0.030278178654354997\n",
      "c3 vidurkis: 0.113525183786416, mediana: 0.29949227392925\n",
      "[ -1.    -0.49  -3.72  -1.97  -2.97  -8.84   9.97  -3.02  -3.02  -1.29\n",
      "  -0.27   1.87   1.11  -8.48   8.53 -21.75  16.03   4.9   20.72  13.2\n",
      "  28.72  -6.39  21.53 -15.24  25.51   7.88  53.55 -17.13  39.18  12.36]\n",
      "5.65\n"
     ]
    }
   ],
   "source": [
    "#nuskaitykyte Table1.dat, ir suraskite:\n",
    "#  stulpeliuose esančių skaičių vidurkį, medianą\n",
    "# suraskite sandaugą antro stlpelio su trečiuoju, tada gauto atsakymo vidurkį.\n",
    "# Suapvalinkite visus atsakymus iki 2-jų ženklų poo kablelio\n",
    "\n",
    "file = '../../DATA/Table1.dat'\n",
    "filetxt = np.loadtxt(file, delimiter=';', skiprows=1)\n",
    "c1, c2, c3 = np.transpose(filetxt)\n",
    "print(f'c1 vidurkis: {np.mean(c1)}, mediana: {np.median(c1)}')\n",
    "print(f'c2 vidurkis: {np.mean(c2)}, mediana: {np.median(c2)}')\n",
    "print(f'c3 vidurkis: {np.mean(c3)}, mediana: {np.median(c3)}')\n",
    "c1_x_c2 = c1 * c2\n",
    "c1_x_c2_vidurkis = np.average(c1_x_c2)\n",
    "print(np.round(c1_x_c2, 2))\n",
    "print(np.round(c1_x_c2_vidurkis, 2))\n"
   ]
  },
  {
   "cell_type": "code",
   "execution_count": 5,
   "metadata": {},
   "outputs": [
    {
     "name": "stdout",
     "output_type": "stream",
     "text": [
      "34.74327169059011\n",
      "29.924500000000002\n",
      "83.1122\n",
      "4.506\n"
     ]
    }
   ],
   "source": [
    "# • Parašyti klasę TxtReader skirtą tekstinio failo iš dviejų\n",
    "# stulpelių nuskaitymui . Esant poreikiui, inicializacijos metu\n",
    "# galima nurodyti stulpelių skirtuką, ar konvertuoti pirmąjį\n",
    "# stulpelį į datą (datetime objektą), kiek eilučių praleisti nuo\n",
    "# failo pradžios. Jei failas turi daugiau nei du stulpelius - galima\n",
    "# nurodyti, kuris stulpelis konkrečiai yra x, o kuris y. Atributai x\n",
    "# ir y - privatūs.\n",
    "# Pridėkite motdus, kurie leistų surasti stulpelio y vidurkį, medianą, maksimumą, minimumą\n",
    "\n",
    "class TxtReader():\n",
    "    def __init__(self, skirtukas,skip, konvertuoti, fname, stul1, stul2):\n",
    "        self.konvertuoti = konvertuoti\n",
    "        self.__x = stul1-1\n",
    "        self.__y = stul2-1\n",
    "\n",
    "        with open(fname, mode='r', encoding='utf-8') as file:\n",
    "            self.turinys = file.readlines()\n",
    "        \n",
    "        \n",
    "        self.col1 = []\n",
    "        self.col2 = []\n",
    "        \n",
    "        for i in self.turinys[skip:]:\n",
    "            line = i.split(skirtukas)\n",
    "            self.col1.append(line[self.__x])\n",
    "            self.col2.append(float(line[self.__y]))\n",
    "         \n",
    "        if self.konvertuoti:\n",
    "            for i in range(len(self.col1)):\n",
    "                self.col1[i] = parser.parse(self.col1[i]).date()\n",
    "            \n",
    "    \n",
    "        \n",
    "    def vidurkis(self):\n",
    "        return np.average(self.col2)\n",
    "\n",
    "    def mediana(self):\n",
    "        return np.median(self.col2)\n",
    "    \n",
    "    def maximumas(self):\n",
    "        return np.max(self.col2)\n",
    "    \n",
    "    def minimumas(self):\n",
    "        return np.min(self.col2)\n",
    "    \n",
    "    def laikas(self):\n",
    "        return self.col1\n",
    "    \n",
    "\n",
    "txt = TxtReader(',', 1, True, '../../DATA/RU.csv', 1, 4)\n",
    "print(txt.vidurkis())\n",
    "print(txt.mediana())\n",
    "print(txt.maximumas())\n",
    "print(txt.minimumas())\n",
    "# print(txt.laikas())        "
   ]
  }
 ],
 "metadata": {
  "kernelspec": {
   "display_name": "Python 3",
   "language": "python",
   "name": "python3"
  },
  "language_info": {
   "codemirror_mode": {
    "name": "ipython",
    "version": 3
   },
   "file_extension": ".py",
   "mimetype": "text/x-python",
   "name": "python",
   "nbconvert_exporter": "python",
   "pygments_lexer": "ipython3",
   "version": "3.12.4"
  }
 },
 "nbformat": 4,
 "nbformat_minor": 2
}
