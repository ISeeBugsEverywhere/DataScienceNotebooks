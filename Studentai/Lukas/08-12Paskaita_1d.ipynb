{
 "cells": [
  {
   "cell_type": "code",
   "execution_count": 1,
   "metadata": {},
   "outputs": [],
   "source": [
    "%reload_ext autoreload\n",
    "%autoreload 2"
   ]
  },
  {
   "cell_type": "code",
   "execution_count": 1,
   "metadata": {},
   "outputs": [
    {
     "name": "stdout",
     "output_type": "stream",
     "text": [
      "Defaulting to user installation because normal site-packages is not writeable\n",
      "Collecting mysql-connector-python==8.0.29\n",
      "  Downloading mysql_connector_python-8.0.29-py2.py3-none-any.whl.metadata (1.7 kB)\n",
      "Collecting protobuf>=3.0.0 (from mysql-connector-python==8.0.29)\n",
      "  Downloading protobuf-5.27.3-cp310-abi3-win_amd64.whl.metadata (592 bytes)\n",
      "Downloading mysql_connector_python-8.0.29-py2.py3-none-any.whl (342 kB)\n",
      "   ---------------------------------------- 0.0/342.0 kB ? eta -:--:--\n",
      "   ---------------------------------------- 0.0/342.0 kB ? eta -:--:--\n",
      "   - -------------------------------------- 10.2/342.0 kB ? eta -:--:--\n",
      "   --- ----------------------------------- 30.7/342.0 kB 262.6 kB/s eta 0:00:02\n",
      "   ---- ---------------------------------- 41.0/342.0 kB 281.8 kB/s eta 0:00:02\n",
      "   --------------- ---------------------- 143.4/342.0 kB 774.0 kB/s eta 0:00:01\n",
      "   ---------------------------------------  337.9/342.0 kB 1.5 MB/s eta 0:00:01\n",
      "   ---------------------------------------- 342.0/342.0 kB 1.4 MB/s eta 0:00:00\n",
      "Downloading protobuf-5.27.3-cp310-abi3-win_amd64.whl (426 kB)\n",
      "   ---------------------------------------- 0.0/426.9 kB ? eta -:--:--\n",
      "   ---------------------------------------- 426.9/426.9 kB 9.1 MB/s eta 0:00:00\n",
      "Installing collected packages: protobuf, mysql-connector-python\n",
      "Successfully installed mysql-connector-python-8.0.29 protobuf-5.27.3\n",
      "Note: you may need to restart the kernel to use updated packages.\n"
     ]
    },
    {
     "name": "stderr",
     "output_type": "stream",
     "text": [
      "\n",
      "[notice] A new release of pip is available: 24.0 -> 24.2\n",
      "[notice] To update, run: python.exe -m pip install --upgrade pip\n"
     ]
    }
   ],
   "source": [
    "# pip install mysql-connector-python==8.0.29"
   ]
  },
  {
   "cell_type": "code",
   "execution_count": 4,
   "metadata": {},
   "outputs": [
    {
     "name": "stdout",
     "output_type": "stream",
     "text": [
      "Defaulting to user installation because normal site-packages is not writeable\n",
      "Collecting matplotlib\n",
      "  Downloading matplotlib-3.9.1.post1-cp312-cp312-win_amd64.whl.metadata (11 kB)\n",
      "Collecting contourpy>=1.0.1 (from matplotlib)\n",
      "  Downloading contourpy-1.2.1-cp312-cp312-win_amd64.whl.metadata (5.8 kB)\n",
      "Collecting cycler>=0.10 (from matplotlib)\n",
      "  Downloading cycler-0.12.1-py3-none-any.whl.metadata (3.8 kB)\n",
      "Collecting fonttools>=4.22.0 (from matplotlib)\n",
      "  Downloading fonttools-4.53.1-cp312-cp312-win_amd64.whl.metadata (165 kB)\n",
      "     ---------------------------------------- 0.0/165.9 kB ? eta -:--:--\n",
      "     -------------------------------------  163.8/165.9 kB 3.3 MB/s eta 0:00:01\n",
      "     -------------------------------------- 165.9/165.9 kB 2.5 MB/s eta 0:00:00\n",
      "Collecting kiwisolver>=1.3.1 (from matplotlib)\n",
      "  Downloading kiwisolver-1.4.5-cp312-cp312-win_amd64.whl.metadata (6.5 kB)\n",
      "Requirement already satisfied: numpy>=1.23 in c:\\users\\lukas\\appdata\\roaming\\python\\python312\\site-packages (from matplotlib) (2.0.1)\n",
      "Requirement already satisfied: packaging>=20.0 in c:\\users\\lukas\\appdata\\roaming\\python\\python312\\site-packages (from matplotlib) (24.1)\n",
      "Collecting pillow>=8 (from matplotlib)\n",
      "  Downloading pillow-10.4.0-cp312-cp312-win_amd64.whl.metadata (9.3 kB)\n",
      "Collecting pyparsing>=2.3.1 (from matplotlib)\n",
      "  Downloading pyparsing-3.1.2-py3-none-any.whl.metadata (5.1 kB)\n",
      "Requirement already satisfied: python-dateutil>=2.7 in c:\\users\\lukas\\appdata\\roaming\\python\\python312\\site-packages (from matplotlib) (2.9.0.post0)\n",
      "Requirement already satisfied: six>=1.5 in c:\\users\\lukas\\appdata\\roaming\\python\\python312\\site-packages (from python-dateutil>=2.7->matplotlib) (1.16.0)\n",
      "Downloading matplotlib-3.9.1.post1-cp312-cp312-win_amd64.whl (8.0 MB)\n",
      "   ---------------------------------------- 0.0/8.0 MB ? eta -:--:--\n",
      "   ---- ----------------------------------- 0.9/8.0 MB 19.8 MB/s eta 0:00:01\n",
      "   ---------------- ----------------------- 3.2/8.0 MB 22.9 MB/s eta 0:00:01\n",
      "   -------------------------- ------------- 5.2/8.0 MB 25.6 MB/s eta 0:00:01\n",
      "   ---------------------------------------  8.0/8.0 MB 28.2 MB/s eta 0:00:01\n",
      "   ---------------------------------------  8.0/8.0 MB 28.2 MB/s eta 0:00:01\n",
      "   ---------------------------------------  8.0/8.0 MB 28.2 MB/s eta 0:00:01\n",
      "   ---------------------------------------  8.0/8.0 MB 28.2 MB/s eta 0:00:01\n",
      "   ---------------------------------------  8.0/8.0 MB 28.2 MB/s eta 0:00:01\n",
      "   ---------------------------------------- 8.0/8.0 MB 14.6 MB/s eta 0:00:00\n",
      "Downloading contourpy-1.2.1-cp312-cp312-win_amd64.whl (189 kB)\n",
      "   ---------------------------------------- 0.0/189.9 kB ? eta -:--:--\n",
      "   --------------------------------------- 189.9/189.9 kB 12.0 MB/s eta 0:00:00\n",
      "Downloading cycler-0.12.1-py3-none-any.whl (8.3 kB)\n",
      "Downloading fonttools-4.53.1-cp312-cp312-win_amd64.whl (2.2 MB)\n",
      "   ---------------------------------------- 0.0/2.2 MB ? eta -:--:--\n",
      "   ------------------------------------- -- 2.1/2.2 MB 44.0 MB/s eta 0:00:01\n",
      "   ---------------------------------------- 2.2/2.2 MB 23.2 MB/s eta 0:00:00\n",
      "Downloading kiwisolver-1.4.5-cp312-cp312-win_amd64.whl (56 kB)\n",
      "   ---------------------------------------- 0.0/56.0 kB ? eta -:--:--\n",
      "   ---------------------------------------- 56.0/56.0 kB 2.9 MB/s eta 0:00:00\n",
      "Downloading pillow-10.4.0-cp312-cp312-win_amd64.whl (2.6 MB)\n",
      "   ---------------------------------------- 0.0/2.6 MB ? eta -:--:--\n",
      "   ------------------------------ --------- 2.0/2.6 MB 41.6 MB/s eta 0:00:01\n",
      "   ---------------------------------------  2.5/2.6 MB 32.6 MB/s eta 0:00:01\n",
      "   ---------------------------------------- 2.6/2.6 MB 23.1 MB/s eta 0:00:00\n",
      "Downloading pyparsing-3.1.2-py3-none-any.whl (103 kB)\n",
      "   ---------------------------------------- 0.0/103.2 kB ? eta -:--:--\n",
      "   ---------------------------------------- 103.2/103.2 kB 3.0 MB/s eta 0:00:00\n",
      "Installing collected packages: pyparsing, pillow, kiwisolver, fonttools, cycler, contourpy, matplotlib\n",
      "Successfully installed contourpy-1.2.1 cycler-0.12.1 fonttools-4.53.1 kiwisolver-1.4.5 matplotlib-3.9.1.post1 pillow-10.4.0 pyparsing-3.1.2\n",
      "Note: you may need to restart the kernel to use updated packages.\n"
     ]
    },
    {
     "name": "stderr",
     "output_type": "stream",
     "text": [
      "\n",
      "[notice] A new release of pip is available: 24.0 -> 24.2\n",
      "[notice] To update, run: python.exe -m pip install --upgrade pip\n"
     ]
    }
   ],
   "source": [
    "# pip install matplotlib"
   ]
  },
  {
   "cell_type": "code",
   "execution_count": 1,
   "metadata": {},
   "outputs": [],
   "source": [
    "import numpy as np\n",
    "import matplotlib.pyplot as plt\n",
    "import mysql.connector as cnt\n",
    "\n",
    "from manofunkcijos import *"
   ]
  },
  {
   "cell_type": "code",
   "execution_count": 2,
   "metadata": {},
   "outputs": [],
   "source": [
    "DB = cnt.connect(\n",
    "    host='88.223.121.130',\n",
    "    port=3306,\n",
    "    user='user',\n",
    "    password = 'slaptazodis',\n",
    "    database = 'works'\n",
    ")\n",
    "C = DB.cursor()"
   ]
  },
  {
   "cell_type": "code",
   "execution_count": null,
   "metadata": {},
   "outputs": [],
   "source": [
    "#sql užklausos vykdymas per mysql/mariadb kursorių\n",
    "sql=\"\"\"paste SQL command here!\"\"\"\n",
    "C.execute(sql)\n",
    "ans = C.fetchall()\n",
    "? = list(map(list, zip(*ans)))\n",
    "#? = np.transpose(ans)"
   ]
  },
  {
   "cell_type": "code",
   "execution_count": 3,
   "metadata": {},
   "outputs": [],
   "source": [
    "#sql užklausos vykdymas per mysql/mariadb kursorių\n",
    "sql=\"\"\"select *, C/(select count(*) from sa)*100 as '%' from\n",
    "(select * from\n",
    "(select device_brand as B, count(*) as C\n",
    "from sa\n",
    "where device_brand != ''\n",
    "group by device_brand\n",
    "order by C desc\n",
    "limit 5) as T1\n",
    "union all\n",
    "select 'Others', count(*) as C\n",
    "from sa\n",
    "where device_brand not in\n",
    "(select B from (select device_brand as B, count(*) as C\n",
    "from sa\n",
    "where device_brand != ''\n",
    "group by device_brand\n",
    "order by C desc\n",
    "limit 5) as T2)) as T3;\"\"\"\n",
    "C.execute(sql)\n",
    "ans = C.fetchall()\n",
    "gamintojai, kiekiai, dalis = list(map(list, zip(*ans)))\n",
    "#? = np.transpose(ans)"
   ]
  },
  {
   "cell_type": "code",
   "execution_count": 5,
   "metadata": {},
   "outputs": [
    {
     "name": "stdout",
     "output_type": "stream",
     "text": [
      "Rodoma 5 eilutės iš 6\n",
      "|     Samsung      |      36290       |     30.4927      |\n",
      "|      Nokia       |      35186       |     29.5651      |\n",
      "|    BlackBerry    |       7161       |      6.0170      |\n",
      "|        LG        |       5194       |      4.3643      |\n",
      "|   SonyEricsson   |       4090       |      3.4366      |\n",
      "|      Others      |      31091       |     26.1243      |\n"
     ]
    }
   ],
   "source": [
    "pout(ans)"
   ]
  },
  {
   "cell_type": "code",
   "execution_count": 9,
   "metadata": {},
   "outputs": [
    {
     "name": "stdout",
     "output_type": "stream",
     "text": [
      "['Samsung', 'Nokia', 'BlackBerry', 'LG', 'SonyEricsson', 'Others'] [36290, 35186, 7161, 5194, 4090, 31091]\n"
     ]
    }
   ],
   "source": [
    "print(gamintojai, kiekiai)"
   ]
  }
 ],
 "metadata": {
  "kernelspec": {
   "display_name": "DataScienceNotebooks-Z1sviJex",
   "language": "python",
   "name": "python3"
  },
  "language_info": {
   "codemirror_mode": {
    "name": "ipython",
    "version": 3
   },
   "file_extension": ".py",
   "mimetype": "text/x-python",
   "name": "python",
   "nbconvert_exporter": "python",
   "pygments_lexer": "ipython3",
   "version": "3.12.4"
  }
 },
 "nbformat": 4,
 "nbformat_minor": 2
}
