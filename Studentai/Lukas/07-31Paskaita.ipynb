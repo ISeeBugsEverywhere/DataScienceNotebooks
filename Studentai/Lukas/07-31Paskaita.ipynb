{
 "cells": [
  {
   "cell_type": "code",
   "execution_count": 1,
   "metadata": {},
   "outputs": [
    {
     "data": {
      "text/plain": [
       "(0.5, 7)"
      ]
     },
     "execution_count": 1,
     "metadata": {},
     "output_type": "execute_result"
    }
   ],
   "source": [
    "# parašyti funkciją, kuriai galėtumėte nurodyti sąrašą skaičių bei dar vieną skaičių,\n",
    "# ir ta funkcija surastų ir grąžintų sarašę buvusį skaičių, artimiausią nuliui\n",
    "# # (arba jūsų nurodytam skaičiui), bei rastojo skaičiaus poziciją (indeksą) sąraše.\n",
    "\n",
    "lst = [-0.5, 1 , 5, 3, -0.2, 6, 7, 0.5]\n",
    "sk = 0.6\n",
    "\n",
    "def func(listas, numberis):\n",
    "    min_abs = list(map(lambda x: abs(numberis-x), listas))\n",
    "    mn = min(min_abs)\n",
    "    idx = len(min_abs)-1\n",
    "\n",
    "    while idx >= 0:\n",
    "        if min_abs[idx] == mn:\n",
    "            idx = idx\n",
    "            break\n",
    "        idx = idx -1\n",
    "\n",
    "    return listas[idx], idx\n",
    "        \n",
    "        \n",
    "\n",
    "\n",
    "func(lst, sk)\n",
    "    \n",
    "        \n",
    "    "
   ]
  },
  {
   "cell_type": "code",
   "execution_count": 7,
   "metadata": {},
   "outputs": [
    {
     "data": {
      "text/plain": [
       "(0.5, 7)"
      ]
     },
     "execution_count": 7,
     "metadata": {},
     "output_type": "execute_result"
    }
   ],
   "source": [
    "def argmax(array, point):\n",
    "    mods = list(map(lambda x: abs(point-x), array))\n",
    "    mn = min(mods)\n",
    "    # ieškom indekso, didžiausio,\n",
    "    # jei bus keli skaičiai\n",
    "    # grąžinsime didžiausią indeksą\n",
    "    idx = len(mods)-1\n",
    "    while idx >= 0:\n",
    "        if mods[idx] == mn:\n",
    "            idx = idx\n",
    "            break\n",
    "        idx = idx - 1\n",
    "    return array[idx], idx\n",
    "\n",
    "\n",
    "lst = [-0.5, 1 , 5, 3, -0.2, 6, 7, 0.5]\n",
    "sk = 0.6\n",
    "argmax(lst, sk)"
   ]
  },
  {
   "cell_type": "code",
   "execution_count": 9,
   "metadata": {},
   "outputs": [
    {
     "name": "stdout",
     "output_type": "stream",
     "text": [
      "42\n",
      "107.60000000000001\n",
      "40\n",
      "107.60000000000001\n"
     ]
    }
   ],
   "source": [
    "class Degree():\n",
    "    def __init__(self, c):\n",
    "        self.__Tc = c\n",
    "        self.__Tf = (c*1.8)+32\n",
    "        \n",
    "    def getC(self):\n",
    "        return self.__Tc\n",
    "    \n",
    "    def getF(self):\n",
    "        return self.__Tf\n",
    "    \n",
    "    def setC(self, c):\n",
    "        self.__Tc = c\n",
    "        \n",
    "obj = Degree(42)\n",
    "print(obj.getC())\n",
    "print(obj.getF())\n",
    "obj.setC(40)\n",
    "print(obj.getC())\n",
    "print(obj.getF())"
   ]
  },
  {
   "cell_type": "code",
   "execution_count": 10,
   "metadata": {},
   "outputs": [
    {
     "name": "stdout",
     "output_type": "stream",
     "text": [
      "42\n",
      "107.60000000000001\n",
      "40\n",
      "104.0\n"
     ]
    }
   ],
   "source": [
    "class Degree():\n",
    "    def __init__(self, c):\n",
    "        self.setT(c)\n",
    "        pass\n",
    "    \n",
    "    def setT(self, c):\n",
    "        self.__Tc = c\n",
    "        self.__Tf = (c*1.8)+32\n",
    "    \n",
    "    def getT(self):\n",
    "        return self.__Tc\n",
    "    def getF(self):\n",
    "        return self.__Tf\n",
    "    T = property(getT, setT)\n",
    "\n",
    "obj = Degree(42)\n",
    "print(obj.getT())\n",
    "print(obj.getF())\n",
    "\n",
    "obj.setT(40)\n",
    "print(obj.getT())\n",
    "print(obj.getF())\n",
    "        "
   ]
  },
  {
   "cell_type": "code",
   "execution_count": 11,
   "metadata": {},
   "outputs": [
    {
     "name": "stdout",
     "output_type": "stream",
     "text": [
      "109.4\n",
      "43\n"
     ]
    }
   ],
   "source": [
    "obj.T = 43\n",
    "print(obj.getF())\n",
    "print(obj.T)"
   ]
  },
  {
   "cell_type": "code",
   "execution_count": 12,
   "metadata": {},
   "outputs": [
    {
     "name": "stdout",
     "output_type": "stream",
     "text": [
      "5\n",
      "157.0\n",
      "226.08\n"
     ]
    }
   ],
   "source": [
    "class Apskritimas():\n",
    "    def __init__(self, r):\n",
    "        self.R = r\n",
    "        # self.S = ?\n",
    "        pass\n",
    "    \n",
    "    @property\n",
    "    def R(self):\n",
    "        return self.__R\n",
    "    @R.setter\n",
    "    def R(self, r):\n",
    "        self.__R = r\n",
    "        self.S = 2*3.14*r**2\n",
    "        \n",
    "o = Apskritimas(5)\n",
    "print(o.R)\n",
    "print(o.S)\n",
    "o.R = 6\n",
    "print(o.S)"
   ]
  },
  {
   "cell_type": "code",
   "execution_count": 3,
   "metadata": {},
   "outputs": [
    {
     "name": "stdout",
     "output_type": "stream",
     "text": [
      "12\n",
      "9\n",
      "20\n",
      "25\n"
     ]
    }
   ],
   "source": [
    "# Sukurkite klasę, skirtą geometrinių figūrų parametrų\n",
    "# skaičiavimui:\n",
    "# • Klasė Stačiakampis - sukūrimo metu automatiškai\n",
    "# suskaičiuoja plotą ir perimetrą\n",
    "# • P = 2(a + b), S = ab\n",
    "# • Klasė Kubas - sukūrimo metu turi suskaičiuoti paviršiaus\n",
    "# plotą ir tūrį\n",
    "# • V = abc\n",
    "# Realizuokite metodus, skirtus atnaujinti skaičiavimams, pasiekti\n",
    "# skaičiavimų rezultatus.\n",
    "\n",
    "class Staciakampis():\n",
    "    def __init__(self, a, b):\n",
    "        self.ab = (a, b)\n",
    "        pass\n",
    "        \n",
    "    @property\n",
    "    def ab(self):\n",
    "        return self.__a, self.__b\n",
    "    \n",
    "    @ab.setter\n",
    "    def ab(self, w):\n",
    "        self.__a, self.__b = w\n",
    "        self.P = 2*(self.__a + self.__b)\n",
    "        self.S = self.__a * self.__b\n",
    "        \n",
    "        \n",
    "    # @property\n",
    "    # def set_a(self):\n",
    "    #     return self.__a\n",
    "    \n",
    "    # @property\n",
    "    # def set_b(self):\n",
    "    #     return self.__b\n",
    "    \n",
    "    # @set_a.setter\n",
    "    # def set_a(self, a):\n",
    "    #     self.__a = a\n",
    "    #     # self.P = 2*(a+b)\n",
    "    #     # self.S = a*b\n",
    "        \n",
    "    # @set_b.setter\n",
    "    # def set_b(self, b):\n",
    "    #     self.__b = b\n",
    "    #     # self.P = 2*(a+b)\n",
    "    #     # self.S = a*b\n",
    "    \n",
    "    \n",
    "\n",
    "st = Staciakampis(3,3)\n",
    "print(st.P)\n",
    "print(st.S)\n",
    "st.ab = [5, 5]\n",
    "print(st.P)\n",
    "print(st.S)        "
   ]
  },
  {
   "cell_type": "code",
   "execution_count": 6,
   "metadata": {},
   "outputs": [
    {
     "name": "stdout",
     "output_type": "stream",
     "text": [
      "6\n",
      "10\n",
      "30\n",
      "26\n"
     ]
    }
   ],
   "source": [
    "class Staciakampis2():\n",
    "    def __init__(self, a, b):\n",
    "        self.__a = None\n",
    "        self.__b = None\n",
    "        self.A = a\n",
    "        self.B = b\n",
    "        pass\n",
    "\n",
    "    def calcS(self):\n",
    "        if self.__a and self.__b:\n",
    "            self.S = self.__a * self. __b\n",
    "\n",
    "    def calcP(self):\n",
    "        if self.__a and self.__b:\n",
    "            self.P = (self.__a + self.__b) * 2\n",
    "\n",
    "    @property\n",
    "    def A(self):\n",
    "        return self.__a\n",
    "    \n",
    "    @property\n",
    "    def B(self):\n",
    "        return self.__b\n",
    "    \n",
    "    @A.setter\n",
    "    def A(self, a):\n",
    "        self.__a = a\n",
    "        self.calcP()\n",
    "        self.calcS()\n",
    "\n",
    "    @B.setter\n",
    "    def B(self, b):\n",
    "        self.__b = b\n",
    "        self.calcP()\n",
    "        self.calcS()\n",
    "\n",
    "\n",
    "st = Staciakampis2(2, 3)\n",
    "print(st.S)\n",
    "print(st.P)\n",
    "st.A = 10\n",
    "print(st.S)\n",
    "print(st.P)    "
   ]
  },
  {
   "cell_type": "code",
   "execution_count": 8,
   "metadata": {},
   "outputs": [
    {
     "name": "stdout",
     "output_type": "stream",
     "text": [
      "150 125\n",
      "400 500\n"
     ]
    }
   ],
   "source": [
    "class Kubas():\n",
    "    def __init__(self, a, b, c):\n",
    "        self.ABC = (a, b, c)\n",
    "        pass\n",
    "\n",
    "    @property\n",
    "    def ABC(self):\n",
    "        return self.__a, self.__b, self.__c\n",
    "    \n",
    "    @ABC.setter\n",
    "    def ABC(self, w):\n",
    "        self.__a, self.__b, self.__c = w\n",
    "        self.S = 2*(self.__a*self.__b + self.__a*self.__c + self.__b*self.__c)\n",
    "        self.V = self.__a * self.__b * self.__c\n",
    "\n",
    "\n",
    "cub = Kubas(5, 5, 5)\n",
    "print(cub.S, cub.V)\n",
    "cub.ABC = (10, 10, 5)\n",
    "print(cub.S, cub.V)"
   ]
  },
  {
   "cell_type": "code",
   "execution_count": 12,
   "metadata": {},
   "outputs": [
    {
     "name": "stdout",
     "output_type": "stream",
     "text": [
      "150 125\n",
      "370 400\n"
     ]
    }
   ],
   "source": [
    "class Kubas2():\n",
    "    def __init__(self, a, b, c):\n",
    "        self.__a = None\n",
    "        self.__b = None\n",
    "        self.__c = None\n",
    "        self.A = a\n",
    "        self.B = b\n",
    "        self.C = c\n",
    "        pass\n",
    "\n",
    "    def calcS(self):\n",
    "        if self.__a and self.__b and self.__c:\n",
    "            self.S = 2*(self.__a*self.__b + self.__a*self.__c + self.__b*self.__c)\n",
    "\n",
    "    def calcV(self):\n",
    "        if self.__a and self.__b and self.__c:\n",
    "            self.V = self.__a * self.__b * self.__c\n",
    "\n",
    "    @property\n",
    "    def A(self):\n",
    "        return self.__a\n",
    "    \n",
    "    @property\n",
    "    def B(self):\n",
    "        return self.__b\n",
    "    \n",
    "    @property\n",
    "    def C(self):\n",
    "        return self.__c\n",
    "    \n",
    "    @A.setter\n",
    "    def A(self, a):\n",
    "        self.__a = a\n",
    "        self.calcS()\n",
    "        self.calcV()\n",
    "\n",
    "    @B.setter\n",
    "    def B(self, b):\n",
    "        self.__b = b\n",
    "        self.calcS()\n",
    "        self.calcV()\n",
    "\n",
    "    @C.setter\n",
    "    def C(self, c):\n",
    "        self.__c = c\n",
    "        self.calcS()\n",
    "        self.calcV()\n",
    "\n",
    "\n",
    "cub = Kubas2(5, 5, 5)\n",
    "print(cub.S, cub.V)\n",
    "cub.A = 16\n",
    "print(cub.S, cub.V)"
   ]
  }
 ],
 "metadata": {
  "kernelspec": {
   "display_name": "DataScienceNotebooks-Z1sviJex",
   "language": "python",
   "name": "python3"
  },
  "language_info": {
   "codemirror_mode": {
    "name": "ipython",
    "version": 3
   },
   "file_extension": ".py",
   "mimetype": "text/x-python",
   "name": "python",
   "nbconvert_exporter": "python",
   "pygments_lexer": "ipython3",
   "version": "3.12.4"
  }
 },
 "nbformat": 4,
 "nbformat_minor": 2
}
