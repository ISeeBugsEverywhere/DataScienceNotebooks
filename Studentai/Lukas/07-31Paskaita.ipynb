{
 "cells": [
  {
   "cell_type": "code",
   "execution_count": 6,
   "metadata": {},
   "outputs": [
    {
     "ename": "SyntaxError",
     "evalue": "invalid syntax (1225293312.py, line 14)",
     "output_type": "error",
     "traceback": [
      "\u001b[1;36m  Cell \u001b[1;32mIn[6], line 14\u001b[1;36m\u001b[0m\n\u001b[1;33m    if\u001b[0m\n\u001b[1;37m       ^\u001b[0m\n\u001b[1;31mSyntaxError\u001b[0m\u001b[1;31m:\u001b[0m invalid syntax\n"
     ]
    }
   ],
   "source": [
    "# parašyti funkciją, kuriai galėtumėte nurodyti sąrašą skaičių bei dar vieną skaičių,\n",
    "# ir ta funkcija surastų ir grąžintų sarašę buvusį skaičių, artimiausią nuliui\n",
    "# # (arba jūsų nurodytam skaičiui), bei rastojo skaičiaus poziciją (indeksą) sąraše.\n",
    "\n",
    "lst = [-0.5, 1 , 5, 3, -0.2, 6, 7, 0.5]\n",
    "sk = 0.6\n",
    "\n",
    "def func(listas, numberis):\n",
    "    if numberis in listas:\n",
    "        return f'skaicius {numberis}, indeksas {listas.index(numberis)}'\n",
    "    else:\n",
    "        min_abs = 10000\n",
    "        for idx, s in enumerate(listas):\n",
    "            if \n",
    "        \n",
    "        \n",
    "    #     min_abs = min(list(map(lambda x: abs(x-numberis), listas)))\n",
    "        \n",
    "        \n",
    "    # new_lst = list(map(lambda x: abs(x-numberis), listas))\n",
    "    # min_skir = min(new_lst)\n",
    "    # idx = new_lst.index(min_skir)\n",
    "    return f'artimiausias skaicius {min_skir}, indeksas {idx}'\n",
    "\n",
    "func(lst, sk)\n",
    "    \n",
    "        \n",
    "    "
   ]
  },
  {
   "cell_type": "code",
   "execution_count": 7,
   "metadata": {},
   "outputs": [
    {
     "data": {
      "text/plain": [
       "(0.5, 7)"
      ]
     },
     "execution_count": 7,
     "metadata": {},
     "output_type": "execute_result"
    }
   ],
   "source": [
    "def argmax(array, point):\n",
    "    mods = list(map(lambda x: abs(point-x), array))\n",
    "    mn = min(mods)\n",
    "    # ieškom indekso, didžiausio,\n",
    "    # jei bus keli skaičiai\n",
    "    # grąžinsime didžiausią indeksą\n",
    "    idx = len(mods)-1\n",
    "    while idx >= 0:\n",
    "        if mods[idx] == mn:\n",
    "            idx = idx\n",
    "            break\n",
    "        idx = idx - 1\n",
    "    return array[idx], idx\n",
    "\n",
    "\n",
    "lst = [-0.5, 1 , 5, 3, -0.2, 6, 7, 0.5]\n",
    "sk = 0.6\n",
    "argmax(lst, sk)"
   ]
  },
  {
   "cell_type": "code",
   "execution_count": 9,
   "metadata": {},
   "outputs": [
    {
     "name": "stdout",
     "output_type": "stream",
     "text": [
      "42\n",
      "107.60000000000001\n",
      "40\n",
      "107.60000000000001\n"
     ]
    }
   ],
   "source": [
    "class Degree():\n",
    "    def __init__(self, c):\n",
    "        self.__Tc = c\n",
    "        self.__Tf = (c*1.8)+32\n",
    "        \n",
    "    def getC(self):\n",
    "        return self.__Tc\n",
    "    \n",
    "    def getF(self):\n",
    "        return self.__Tf\n",
    "    \n",
    "    def setC(self, c):\n",
    "        self.__Tc = c\n",
    "        \n",
    "obj = Degree(42)\n",
    "print(obj.getC())\n",
    "print(obj.getF())\n",
    "obj.setC(40)\n",
    "print(obj.getC())\n",
    "print(obj.getF())"
   ]
  },
  {
   "cell_type": "code",
   "execution_count": 10,
   "metadata": {},
   "outputs": [
    {
     "name": "stdout",
     "output_type": "stream",
     "text": [
      "42\n",
      "107.60000000000001\n",
      "40\n",
      "104.0\n"
     ]
    }
   ],
   "source": [
    "class Degree():\n",
    "    def __init__(self, c):\n",
    "        self.setT(c)\n",
    "        pass\n",
    "    \n",
    "    def setT(self, c):\n",
    "        self.__Tc = c\n",
    "        self.__Tf = (c*1.8)+32\n",
    "    \n",
    "    def getT(self):\n",
    "        return self.__Tc\n",
    "    def getF(self):\n",
    "        return self.__Tf\n",
    "    T = property(getT, setT)\n",
    "\n",
    "obj = Degree(42)\n",
    "print(obj.getT())\n",
    "print(obj.getF())\n",
    "\n",
    "obj.setT(40)\n",
    "print(obj.getT())\n",
    "print(obj.getF())\n",
    "        "
   ]
  },
  {
   "cell_type": "code",
   "execution_count": 11,
   "metadata": {},
   "outputs": [
    {
     "name": "stdout",
     "output_type": "stream",
     "text": [
      "109.4\n",
      "43\n"
     ]
    }
   ],
   "source": [
    "obj.T = 43\n",
    "print(obj.getF())\n",
    "print(obj.T)"
   ]
  },
  {
   "cell_type": "code",
   "execution_count": 12,
   "metadata": {},
   "outputs": [
    {
     "name": "stdout",
     "output_type": "stream",
     "text": [
      "5\n",
      "157.0\n",
      "226.08\n"
     ]
    }
   ],
   "source": [
    "class Apskritimas():\n",
    "    def __init__(self, r):\n",
    "        self.R = r\n",
    "        # self.S = ?\n",
    "        pass\n",
    "    \n",
    "    @property\n",
    "    def R(self):\n",
    "        return self.__R\n",
    "    @R.setter\n",
    "    def R(self, r):\n",
    "        self.__R = r\n",
    "        self.S = 2*3.14*r**2\n",
    "        \n",
    "o = Apskritimas(5)\n",
    "print(o.R)\n",
    "print(o.S)\n",
    "o.R = 6\n",
    "print(o.S)"
   ]
  },
  {
   "cell_type": "code",
   "execution_count": 44,
   "metadata": {},
   "outputs": [
    {
     "ename": "AttributeError",
     "evalue": "'Staciakampis' object has no attribute '_Staciakampis__a'",
     "output_type": "error",
     "traceback": [
      "\u001b[1;31m---------------------------------------------------------------------------\u001b[0m",
      "\u001b[1;31mAttributeError\u001b[0m                            Traceback (most recent call last)",
      "Cell \u001b[1;32mIn[44], line 54\u001b[0m\n\u001b[0;32m     48\u001b[0m         \u001b[38;5;28mself\u001b[39m\u001b[38;5;241m.\u001b[39m__b \u001b[38;5;241m=\u001b[39m b\n\u001b[0;32m     49\u001b[0m         \u001b[38;5;66;03m# self.P = 2*(a+b)\u001b[39;00m\n\u001b[0;32m     50\u001b[0m         \u001b[38;5;66;03m# self.S = a*b\u001b[39;00m\n\u001b[1;32m---> 54\u001b[0m st \u001b[38;5;241m=\u001b[39m \u001b[43mStaciakampis\u001b[49m\u001b[43m(\u001b[49m\u001b[38;5;241;43m3\u001b[39;49m\u001b[43m,\u001b[49m\u001b[38;5;241;43m3\u001b[39;49m\u001b[43m)\u001b[49m\n\u001b[0;32m     55\u001b[0m \u001b[38;5;28mprint\u001b[39m(st\u001b[38;5;241m.\u001b[39mP)\n\u001b[0;32m     56\u001b[0m \u001b[38;5;28mprint\u001b[39m(st\u001b[38;5;241m.\u001b[39mS)\n",
      "Cell \u001b[1;32mIn[44], line 16\u001b[0m, in \u001b[0;36mStaciakampis.__init__\u001b[1;34m(self, a, b)\u001b[0m\n\u001b[0;32m     14\u001b[0m \u001b[38;5;28mself\u001b[39m\u001b[38;5;241m.\u001b[39ma \u001b[38;5;241m=\u001b[39m a\n\u001b[0;32m     15\u001b[0m \u001b[38;5;28mself\u001b[39m\u001b[38;5;241m.\u001b[39mb \u001b[38;5;241m=\u001b[39m b\n\u001b[1;32m---> 16\u001b[0m \u001b[38;5;28mself\u001b[39m\u001b[38;5;241m.\u001b[39mP \u001b[38;5;241m=\u001b[39m \u001b[38;5;241m2\u001b[39m\u001b[38;5;241m*\u001b[39m(\u001b[38;5;28;43mself\u001b[39;49m\u001b[38;5;241;43m.\u001b[39;49m\u001b[43m__a\u001b[49m\u001b[38;5;241m+\u001b[39m\u001b[38;5;28mself\u001b[39m\u001b[38;5;241m.\u001b[39m__b)\n\u001b[0;32m     17\u001b[0m \u001b[38;5;28mself\u001b[39m\u001b[38;5;241m.\u001b[39mS \u001b[38;5;241m=\u001b[39m \u001b[38;5;28mself\u001b[39m\u001b[38;5;241m.\u001b[39m__a\u001b[38;5;241m*\u001b[39m\u001b[38;5;28mself\u001b[39m\u001b[38;5;241m.\u001b[39m__b\n\u001b[0;32m     18\u001b[0m \u001b[38;5;28;01mpass\u001b[39;00m\n",
      "\u001b[1;31mAttributeError\u001b[0m: 'Staciakampis' object has no attribute '_Staciakampis__a'"
     ]
    }
   ],
   "source": [
    "# Sukurkite klasę, skirtą geometrinių figūrų parametrų\n",
    "# skaičiavimui:\n",
    "# • Klasė Stačiakampis - sukūrimo metu automatiškai\n",
    "# suskaičiuoja plotą ir perimetrą\n",
    "# • P = 2(a + b), S = ab\n",
    "# • Klasė Kubas - sukūrimo metu turi suskaičiuoti paviršiaus\n",
    "# plotą ir tūrį\n",
    "# • V = abc\n",
    "# Realizuokite metodus, skirtus atnaujinti skaičiavimams, pasiekti\n",
    "# skaičiavimų rezultatus.\n",
    "\n",
    "class Staciakampis():\n",
    "    def __init__(self, a, b):\n",
    "        self.a = a\n",
    "        self.b = b\n",
    "        self.P = 2*(self.__a+self.__b)\n",
    "        self.S = self.__a*self.__b\n",
    "        pass\n",
    "        \n",
    "    # @property\n",
    "    # def ab(self):\n",
    "    #     return self.__a, self.__b\n",
    "    \n",
    "    # @ab.setter\n",
    "    # def ab(self, a, b):\n",
    "    #     self.__a = a\n",
    "    #     self.__b = b\n",
    "    #     self.P = 2*(a+b)\n",
    "    #     self.S = a*b\n",
    "        \n",
    "        \n",
    "    @property\n",
    "    def set_a(self):\n",
    "        return self.__a\n",
    "    \n",
    "    @property\n",
    "    def set_b(self):\n",
    "        return self.__b\n",
    "    \n",
    "    @set_a.setter\n",
    "    def set_a(self, a):\n",
    "        self.__a = a\n",
    "        # self.P = 2*(a+b)\n",
    "        # self.S = a*b\n",
    "        \n",
    "    @set_b.setter\n",
    "    def set_b(self, b):\n",
    "        self.__b = b\n",
    "        # self.P = 2*(a+b)\n",
    "        # self.S = a*b\n",
    "    \n",
    "    \n",
    "\n",
    "st = Staciakampis(3,3)\n",
    "print(st.P)\n",
    "print(st.S)\n",
    "st.a = 5\n",
    "st.b = 5\n",
    "print(st.P)\n",
    "print(st.S)        "
   ]
  }
 ],
 "metadata": {
  "kernelspec": {
   "display_name": "DataScienceNotebooks-Z1sviJex",
   "language": "python",
   "name": "python3"
  },
  "language_info": {
   "codemirror_mode": {
    "name": "ipython",
    "version": 3
   },
   "file_extension": ".py",
   "mimetype": "text/x-python",
   "name": "python",
   "nbconvert_exporter": "python",
   "pygments_lexer": "ipython3",
   "version": "3.12.4"
  }
 },
 "nbformat": 4,
 "nbformat_minor": 2
}
