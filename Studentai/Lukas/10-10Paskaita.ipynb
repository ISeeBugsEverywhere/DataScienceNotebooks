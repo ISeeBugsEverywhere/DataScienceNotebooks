{
 "cells": [
  {
   "cell_type": "code",
   "execution_count": 2,
   "metadata": {},
   "outputs": [],
   "source": [
    "import numpy as np\n",
    "import pandas as pd\n",
    "import matplotlib.pyplot as plt\n",
    "import warnings\n",
    "warnings.filterwarnings('ignore')\n",
    "import seaborn as sns\n",
    "# import sqlite3\n",
    "# import mysql.connector as cnt\n",
    "# import plotly.express as px \n",
    "import requests\n",
    "import selenium\n",
    "\n",
    "from bs4 import BeautifulSoup"
   ]
  },
  {
   "cell_type": "code",
   "execution_count": 5,
   "metadata": {},
   "outputs": [],
   "source": [
    "url = 'https://kauno.diena.lt/'\n",
    "\n",
    "page = requests.get(url)\n",
    "\n",
    "source = page.content\n",
    "\n",
    "bs = BeautifulSoup(source, 'html.parser')\n",
    "# print(bs)\n",
    "\n"
   ]
  },
  {
   "cell_type": "code",
   "execution_count": 10,
   "metadata": {},
   "outputs": [
    {
     "name": "stdout",
     "output_type": "stream",
     "text": [
      "41\n"
     ]
    }
   ],
   "source": [
    "straipsniai = bs.find_all('div', {'category-block-row grid-12 alpha omega unscore'})\n",
    "\n",
    "print(len(straipsniai))"
   ]
  },
  {
   "cell_type": "code",
   "execution_count": 14,
   "metadata": {},
   "outputs": [
    {
     "name": "stdout",
     "output_type": "stream",
     "text": [
      ":::REM:::\n",
      "<a class=\"articles-list-title\" href=\"naujienos/kaunas/miesto-pulsas/v-matijosaitis-miestas-nesustojo-tik-paciu-kaunieciu-deka-1195275\" style=\"font-size: 16px;line-height: 1.2;margin-bottom: 10px;display: inline;\">V. Matijošaitis: miestas nesustojo tik pačių kauniečių dėka</a>\n",
      "HREF?\n",
      "naujienos/kaunas/miesto-pulsas/v-matijosaitis-miestas-nesustojo-tik-paciu-kaunieciu-deka-1195275\n",
      "V. Matijošaitis: miestas nesustojo tik pačių kauniečių dėka\n",
      ":::REM:::\n",
      "<a class=\"articles-list-title\" href=\"naujienos/kaunas/miesto-pulsas/kauno-diena-pristato-kauno-detales-kuo-skiriasi-argentinka-nuo-brazilkos-1195282\" style=\"font-size: 16px;line-height: 1.2;margin-bottom: 10px;display: inline;\">„Kauno diena“ pristato „Kauno detales“: kuo skiriasi Argentinka nuo Brazilkos?</a>\n",
      "HREF?\n",
      "naujienos/kaunas/miesto-pulsas/kauno-diena-pristato-kauno-detales-kuo-skiriasi-argentinka-nuo-brazilkos-1195282\n",
      "„Kauno diena“ pristato „Kauno detales“: kuo skiriasi Argentinka nuo Brazilkos?\n",
      ":::REM:::\n",
      "<a class=\"articles-list-title\" href=\"naujienos/kaunas/menas-ir-pramogos/kaune-seniausio-estijos-menininku-kolektyvo-paroda-1195201\" style=\"font-size: 20px;line-height: 1.2;margin-bottom: 10px;display: inline;\">Kaune – seniausio Estijos menininkų kolektyvo paroda</a>\n",
      "HREF?\n",
      "naujienos/kaunas/menas-ir-pramogos/kaune-seniausio-estijos-menininku-kolektyvo-paroda-1195201\n",
      "Kaune – seniausio Estijos menininkų kolektyvo paroda\n",
      ":::REM:::\n",
      "<a class=\"articles-list-title\" href=\"naujienos/kaunas/miesto-pulsas/rinkejai-stebejosi-isankstiniu-balsavimu-tamsoje-atrodo-itartinai-1195200\" style=\"font-size: 16px;line-height: 1.2;margin-bottom: 10px;display: inline;\">Rinkėjai stebėjosi išankstiniu balsavimu tamsoje: atrodo įtartinai</a>\n",
      "HREF?\n",
      "naujienos/kaunas/miesto-pulsas/rinkejai-stebejosi-isankstiniu-balsavimu-tamsoje-atrodo-itartinai-1195200\n",
      "Rinkėjai stebėjosi išankstiniu balsavimu tamsoje: atrodo įtartinai\n",
      ":::REM:::\n",
      "<a class=\"articles-list-title\" href=\"naujienos/lietuva/salies-pulsas/sesiose-salies-savivaldybese-vyks-kariu-savanoriu-pratybos-1195172\" style=\"font-size: 16px;line-height: 1.2;margin-bottom: 10px;display: inline;\">Šešiose šalies savivaldybėse vyks karių savanorių pratybos</a>\n",
      "HREF?\n",
      "naujienos/lietuva/salies-pulsas/sesiose-salies-savivaldybese-vyks-kariu-savanoriu-pratybos-1195172\n",
      "Šešiose šalies savivaldybėse vyks karių savanorių pratybos\n",
      ":::REM:::\n",
      "<a class=\"articles-list-title\" href=\"naujienos/kaunas/nusikaltimai-ir-nelaimes/veiksmas-partizanu-gatveje-pareigunai-sturmavo-automobili-sulaikytas-vyras-1194672\" style=\"font-size: 16px;line-height: 1.2;margin-bottom: 10px;display: inline;\">Veiksmas Partizanų gatvėje: pareigūnai šturmavo automobilį, sulaikytas vyras</a>\n",
      "HREF?\n",
      "naujienos/kaunas/nusikaltimai-ir-nelaimes/veiksmas-partizanu-gatveje-pareigunai-sturmavo-automobili-sulaikytas-vyras-1194672\n",
      "Veiksmas Partizanų gatvėje: pareigūnai šturmavo automobilį, sulaikytas vyras\n",
      ":::REM:::\n",
      "<a class=\"articles-list-title\" href=\"naujienos/verslas/ekonomika/darbdavio-magija-kas-darbuotoja-skatina-isitraukti-ir-augti-1182991\" style=\"font-size: 16px;line-height: 1.2;margin-bottom: 10px;display: inline;\">Darbdavio magija: kas darbuotoją skatina įsitraukti ir augti?</a>\n",
      "HREF?\n",
      "naujienos/verslas/ekonomika/darbdavio-magija-kas-darbuotoja-skatina-isitraukti-ir-augti-1182991\n",
      "Darbdavio magija: kas darbuotoją skatina įsitraukti ir augti?\n",
      ":::REM:::\n",
      "<a class=\"articles-list-title\" href=\"naujienos/lietuva/salies-pulsas/akibrokstas-privaciai-greitajai-pagalbai-viskas-vyksta-pagal-sutarti-1194484\" style=\"font-size: 20px;line-height: 1.2;margin-bottom: 10px;display: inline;\">Akibrokštas privačiai greitajai pagalbai: 50 įdarbintų žmonių valstybei neįdomu?</a>\n",
      "HREF?\n",
      "naujienos/lietuva/salies-pulsas/akibrokstas-privaciai-greitajai-pagalbai-viskas-vyksta-pagal-sutarti-1194484\n",
      "Akibrokštas privačiai greitajai pagalbai: 50 įdarbintų žmonių valstybei neįdomu?\n",
      ":::REM:::\n",
      "<a class=\"articles-list-title\" href=\"naujienos/sveikata/psichologija/o-dabar-pakalbekime-apie-nieka-1194950\" style=\"font-size: 20px;line-height: 1.2;margin-bottom: 10px;display: inline;\">O dabar pakalbėkime apie… nieką</a>\n",
      "HREF?\n",
      "naujienos/sveikata/psichologija/o-dabar-pakalbekime-apie-nieka-1194950\n",
      "O dabar pakalbėkime apie… nieką\n",
      ":::REM:::\n",
      "<a class=\"articles-list-title\" href=\"naujienos/sveikata/sveikata/vilniaus-rajone-uz-daugiau-nei-835-tukst-euru-bus-modernizuojamos-sveikatos-centro-paslaugos-1195217\" style=\"font-size: 16px;line-height: 1.2;margin-bottom: 10px;display: inline;\">Vilniaus rajone už daugiau nei 835 tūkst. eurų bus modernizuojamos sveikatos centro paslaugos</a>\n",
      "HREF?\n",
      "naujienos/sveikata/sveikata/vilniaus-rajone-uz-daugiau-nei-835-tukst-euru-bus-modernizuojamos-sveikatos-centro-paslaugos-1195217\n",
      "Vilniaus rajone už daugiau nei 835 tūkst. eurų bus modernizuojamos sveikatos centro paslaugos\n",
      ":::REM:::\n",
      "<a class=\"articles-list-title\" href=\"naujienos/klaipeda/miesto-pulsas/po-vizito-i-kirpykla-sumaistis-1195220\" style=\"font-size: 20px;line-height: 1.2;margin-bottom: 10px;display: inline;\">Po vizito į kirpyklą – sumaištis: galvojau, jog esu skerdykloje</a>\n",
      "HREF?\n",
      "naujienos/klaipeda/miesto-pulsas/po-vizito-i-kirpykla-sumaistis-1195220\n",
      "Po vizito į kirpyklą – sumaištis: galvojau, jog esu skerdykloje\n",
      ":::REM:::\n",
      "<a class=\"articles-list-title\" href=\"naujienos/lietuva/politika/kandidate-kviete-atsivezti-ir-beisbolo-lazdas-ir-dalgius-teisesauga-tiria-raginima-susidoroti-1195262\" style=\"font-size: 16px;line-height: 1.2;margin-bottom: 10px;display: inline;\">Kandidatė kvietė atsivežti ir beisbolo lazdas, ir dalgius: teisėsauga tiria raginimą susidoroti</a>\n",
      "HREF?\n",
      "naujienos/lietuva/politika/kandidate-kviete-atsivezti-ir-beisbolo-lazdas-ir-dalgius-teisesauga-tiria-raginima-susidoroti-1195262\n",
      "Kandidatė kvietė atsivežti ir beisbolo lazdas, ir dalgius: teisėsauga tiria raginimą susidoroti\n",
      ":::REM:::\n",
      "<a class=\"articles-list-title\" href=\"naujienos/grazi-diena/auskaru-verimo-meistre-g-balevice-apie-grozi-kantrybe-profesionaluma-ir-truputeli-skausmo-1194964\" style=\"font-size: 20px;line-height: 1.2;margin-bottom: 10px;display: inline;\">Auskarų vėrimo meistrė G. Balevičė – apie grožį, kantrybę, profesionalumą ir truputėlį skausmo</a>\n",
      "HREF?\n",
      "naujienos/grazi-diena/auskaru-verimo-meistre-g-balevice-apie-grozi-kantrybe-profesionaluma-ir-truputeli-skausmo-1194964\n",
      "Auskarų vėrimo meistrė G. Balevičė – apie grožį, kantrybę, profesionalumą ir truputėlį skausmo\n",
      ":::REM:::\n",
      "<a class=\"articles-list-title\" href=\"naujienos/lietuva/salies-pulsas/deveta-nereiskia-skurdu-1194060\" style=\"font-size: 16px;line-height: 1.2;margin-bottom: 10px;display: inline;\">Tvari mada: dėvėta nereiškia skurdu</a>\n",
      "HREF?\n",
      "naujienos/lietuva/salies-pulsas/deveta-nereiskia-skurdu-1194060\n",
      "Tvari mada: dėvėta nereiškia skurdu\n",
      ":::REM:::\n",
      "<a class=\"articles-list-title\" href=\"https://www.diena.lt/naujienos/vilnius/miesto-pulsas/avulis-apie-nacionalinio-stadiono-projekta-reikia-dar-truputelio-kantrybes-1195289\" style=\"font-size: 16px;line-height: 1.2;margin-bottom: 10px;display: inline;\">A. Avulis apie Nacionalinio stadiono projektą: reikia dar truputėlio kantrybės</a>\n",
      "HREF?\n",
      "https://www.diena.lt/naujienos/vilnius/miesto-pulsas/avulis-apie-nacionalinio-stadiono-projekta-reikia-dar-truputelio-kantrybes-1195289\n",
      "A. Avulis apie Nacionalinio stadiono projektą: reikia dar truputėlio kantrybės\n",
      ":::REM:::\n",
      "<a class=\"articles-list-title\" href=\"naujienos/kauno-dienos-studija/kauno-dienos-studijoje-20-meti-minincio-kauno-miesto-simfoninio-orkestro-vadovas-1191320\" style=\"font-size: 20px;line-height: 1.2;margin-bottom: 10px;display: inline;\">„Kauno dienos“ studijoje – 20-metį mininčio Kauno miesto simfoninio orkestro vadovas </a>\n",
      "HREF?\n",
      "naujienos/kauno-dienos-studija/kauno-dienos-studijoje-20-meti-minincio-kauno-miesto-simfoninio-orkestro-vadovas-1191320\n",
      "„Kauno dienos“ studijoje – 20-metį mininčio Kauno miesto simfoninio orkestro vadovas \n",
      ":::REM:::\n",
      "<a class=\"articles-list-title\" href=\"naujienos/sportas/krepsinis/kauno-dienos-studijoje-kandidatas-i-lkf-prezidentus-r-javtokas-1190406\" style=\"font-size: 16px;line-height: 1.2;margin-bottom: 10px;display: inline;\">„Kauno dienos“ studijoje – kandidatas į LKF prezidentus R. Javtokas</a>\n",
      "HREF?\n",
      "naujienos/sportas/krepsinis/kauno-dienos-studijoje-kandidatas-i-lkf-prezidentus-r-javtokas-1190406\n",
      "„Kauno dienos“ studijoje – kandidatas į LKF prezidentus R. Javtokas\n",
      ":::REM:::\n",
      "<a class=\"articles-list-title\" href=\"naujienos/vilnius/miesto-pulsas/avulis-apie-nacionalinio-stadiono-projekta-reikia-dar-truputelio-kantrybes-1195289\" style=\"font-size: 20px;line-height: 1.2;margin-bottom: 10px;display: inline;\">A. Avulis apie Nacionalinio stadiono projektą: reikia dar truputėlio kantrybės</a>\n",
      "HREF?\n",
      "naujienos/vilnius/miesto-pulsas/avulis-apie-nacionalinio-stadiono-projekta-reikia-dar-truputelio-kantrybes-1195289\n",
      "A. Avulis apie Nacionalinio stadiono projektą: reikia dar truputėlio kantrybės\n",
      ":::REM:::\n",
      "<a class=\"articles-list-title\" href=\"naujienos/laisvalaikis-ir-kultura/kultura/kulturos-ministerijoje-pasirasomas-susitarimas-del-kulturos-inovaciju-skatinimo-1195170\" style=\"font-size: 16px;line-height: 1.2;margin-bottom: 10px;display: inline;\">Kultūros ministerijoje pasirašomas susitarimas dėl kultūros inovacijų skatinimo</a>\n",
      "HREF?\n",
      "naujienos/laisvalaikis-ir-kultura/kultura/kulturos-ministerijoje-pasirasomas-susitarimas-del-kulturos-inovaciju-skatinimo-1195170\n",
      "Kultūros ministerijoje pasirašomas susitarimas dėl kultūros inovacijų skatinimo\n",
      ":::REM:::\n",
      "<a class=\"articles-list-title\" href=\"naujienos/pasaulis/konfliktai-nelaimes/stebetojai-baltarusijoje-nusileido-du-rusu-orlaiviai-galintys-nesti-raketas-kinzal-1195279\" style=\"font-size: 20px;line-height: 1.2;margin-bottom: 10px;display: inline;\">Stebėtojai: Baltarusijoje nusileido du rusų orlaiviai, galintys nešti raketas „Kinžal“</a>\n",
      "HREF?\n",
      "naujienos/pasaulis/konfliktai-nelaimes/stebetojai-baltarusijoje-nusileido-du-rusu-orlaiviai-galintys-nesti-raketas-kinzal-1195279\n",
      "Stebėtojai: Baltarusijoje nusileido du rusų orlaiviai, galintys nešti raketas „Kinžal“\n",
      ":::REM:::\n",
      "<a class=\"articles-list-title\" href=\"naujienos/pasaulis/ekonomika-ir-politika/ukrainos-parlamentas-pritare-istoriniam-mokesciu-didinimui-1195263\" style=\"font-size: 16px;line-height: 1.2;margin-bottom: 10px;display: inline;\">Ukrainos parlamentas pritarė „istoriniam“ mokesčių didinimui</a>\n",
      "HREF?\n",
      "naujienos/pasaulis/ekonomika-ir-politika/ukrainos-parlamentas-pritare-istoriniam-mokesciu-didinimui-1195263\n",
      "Ukrainos parlamentas pritarė „istoriniam“ mokesčių didinimui\n",
      ":::REM:::\n",
      "<a class=\"articles-list-title\" href=\"naujienos/sportas/krepsinis/zalgirieciu-ieskojimu-kelyje-olympiakos-1195192\" style=\"font-size: 20px;line-height: 1.2;margin-bottom: 10px;display: inline;\">Žalgiriečių ieškojimų kelyje – „Olympiakos“</a>\n",
      "HREF?\n",
      "naujienos/sportas/krepsinis/zalgirieciu-ieskojimu-kelyje-olympiakos-1195192\n",
      "Žalgiriečių ieškojimų kelyje – „Olympiakos“\n",
      ":::REM:::\n",
      "<a class=\"articles-list-title\" href=\"naujienos/sportas/kitos-sporto-sakos/amerikietisku-kalneliu-citadele-kmt-mace-uteniskiai-palauze-svecius-kedainiu-1195152\" style=\"font-size: 16px;line-height: 1.2;margin-bottom: 10px;display: inline;\">Amerikietiškų kalnelių Citadele KMT mače uteniškiai palaužė svečius iš Kėdainių</a>\n",
      "HREF?\n",
      "naujienos/sportas/kitos-sporto-sakos/amerikietisku-kalneliu-citadele-kmt-mace-uteniskiai-palauze-svecius-kedainiu-1195152\n",
      "Amerikietiškų kalnelių Citadele KMT mače uteniškiai palaužė svečius iš Kėdainių\n",
      ":::REM:::\n",
      "<a class=\"articles-list-title\" href=\"naujienos/vilnius/nusikaltimai-ir-nelaimes/del-advokato-mirties-sukresti-kolegos-noretume-zinoti-ar-pareigunai-tinkamai-vykde-savo-misija-1195286\" style=\"font-size: 20px;line-height: 1.2;margin-bottom: 10px;display: inline;\">Dėl advokato mirties sukrėsti kolegos: norėtume žinoti, ar pareigūnai tinkamai vykdė savo misiją</a>\n",
      "HREF?\n",
      "naujienos/vilnius/nusikaltimai-ir-nelaimes/del-advokato-mirties-sukresti-kolegos-noretume-zinoti-ar-pareigunai-tinkamai-vykde-savo-misija-1195286\n",
      "Dėl advokato mirties sukrėsti kolegos: norėtume žinoti, ar pareigūnai tinkamai vykdė savo misiją\n",
      ":::REM:::\n",
      "<a class=\"articles-list-title\" href=\"naujienos/vilnius/nusikaltimai-ir-nelaimes/saudyniu-vilniuje-epicentre-atsidures-rezisierius-zmones-mane-eme-tempti-i-kavine-1195255\" style=\"font-size: 16px;line-height: 1.2;margin-bottom: 10px;display: inline;\">Šaudynių Vilniuje epicentre atsidūręs režisierius: žmonės mane ėmė tempti į kavinę</a>\n",
      "HREF?\n",
      "naujienos/vilnius/nusikaltimai-ir-nelaimes/saudyniu-vilniuje-epicentre-atsidures-rezisierius-zmones-mane-eme-tempti-i-kavine-1195255\n",
      "Šaudynių Vilniuje epicentre atsidūręs režisierius: žmonės mane ėmė tempti į kavinę\n",
      ":::REM:::\n",
      "<a class=\"articles-list-title\" href=\"naujienos/laisvalaikis-ir-kultura/zvaigzdes-ir-pramogos/sokiruojanti-tiesa-atskleista-m-jacksono-seksualinio-gyvenimo-paslaptis-1195244\" style=\"font-size: 20px;line-height: 1.2;margin-bottom: 10px;display: inline;\">Šokiruojanti tiesa: atskleista M. Jacksono seksualinio gyvenimo paslaptis</a>\n",
      "HREF?\n",
      "naujienos/laisvalaikis-ir-kultura/zvaigzdes-ir-pramogos/sokiruojanti-tiesa-atskleista-m-jacksono-seksualinio-gyvenimo-paslaptis-1195244\n",
      "Šokiruojanti tiesa: atskleista M. Jacksono seksualinio gyvenimo paslaptis\n",
      ":::REM:::\n",
      "<a class=\"articles-list-title\" href=\"naujienos/laisvalaikis-ir-kultura/zvaigzdes-ir-pramogos/atskleide-siurpia-tiesa-e-preslio-dukra-du-menesius-namuose-laike-mirusio-sunaus-kuna-1195231\" style=\"font-size: 16px;line-height: 1.2;margin-bottom: 10px;display: inline;\">Atskleidė šiurpią tiesą: E. Preslio dukra du mėnesius namuose laikė mirusio sūnaus kūną</a>\n",
      "HREF?\n",
      "naujienos/laisvalaikis-ir-kultura/zvaigzdes-ir-pramogos/atskleide-siurpia-tiesa-e-preslio-dukra-du-menesius-namuose-laike-mirusio-sunaus-kuna-1195231\n",
      "Atskleidė šiurpią tiesą: E. Preslio dukra du mėnesius namuose laikė mirusio sūnaus kūną\n",
      ":::REM:::\n",
      "<a class=\"articles-list-title\" href=\"naujienos/ivairenybes/horoskopai/dienos-horoskopas-12-zodiako-zenklu-spalio-10-d-1195139\" style=\"font-size: 20px;line-height: 1.2;margin-bottom: 10px;display: inline;\">Dienos horoskopas 12 Zodiako ženklų <span style=\"color:red;\">(spalio 10 d.)</span></a>\n",
      "HREF?\n",
      "naujienos/ivairenybes/horoskopai/dienos-horoskopas-12-zodiako-zenklu-spalio-10-d-1195139\n",
      "Dienos horoskopas 12 Zodiako ženklų (spalio 10 d.)\n",
      ":::REM:::\n",
      "<a class=\"articles-list-title\" href=\"naujienos/pasaulis/ekonomika-ir-politika/nobelio-chemijos-premija-pasidalijo-jav-ir-jk-mokslininkai-1195066\" style=\"font-size: 16px;line-height: 1.2;margin-bottom: 10px;display: inline;\">Nobelio chemijos premiją pasidalijo JAV ir JK mokslininkai</a>\n",
      "HREF?\n",
      "naujienos/pasaulis/ekonomika-ir-politika/nobelio-chemijos-premija-pasidalijo-jav-ir-jk-mokslininkai-1195066\n",
      "Nobelio chemijos premiją pasidalijo JAV ir JK mokslininkai\n"
     ]
    }
   ],
   "source": [
    "for s in straipsniai:\n",
    "    i = s.find('div', {'class':'articles-list-title-wrapper'})\n",
    "    if i is not None:\n",
    "        t = i.find('a', {'class':'articles-list-title'})\n",
    "        print(':::REM:::')\n",
    "        print(t)\n",
    "        print('HREF?')\n",
    "        print(t['href'])\n",
    "        print(t.text)"
   ]
  },
  {
   "cell_type": "code",
   "execution_count": 15,
   "metadata": {},
   "outputs": [],
   "source": [
    "url = 'https://kauno.diena.lt/naujienos/kaunas/miesto-pulsas/v-matijosaitis-miestas-nesustojo-tik-paciu-kaunieciu-deka-1195275'\n",
    "\n",
    "page = requests.get(url)\n",
    "\n",
    "source = page.content\n",
    "\n",
    "bs = BeautifulSoup(source, 'html.parser')\n",
    "# print(bs)"
   ]
  },
  {
   "cell_type": "code",
   "execution_count": 16,
   "metadata": {},
   "outputs": [
    {
     "name": "stdout",
     "output_type": "stream",
     "text": [
      "1\n"
     ]
    }
   ],
   "source": [
    "straipsniai = bs.find_all('span', {'itemprop':'articleBody'})\n",
    "print(len(straipsniai))"
   ]
  },
  {
   "cell_type": "code",
   "execution_count": 17,
   "metadata": {},
   "outputs": [
    {
     "data": {
      "text/plain": [
       "'– Devyneri su puse metų – greitai minėsite dešimtmečio sukaktį. Dar užpernai pasiekėte rekordą, būdamas ilgiausiai dirbančiu Kauno meru per nepriklausomybės laikotarpį. Ką jums tai reiškia?\\n– Nesureikšminu tų skaičių ir rekordų, bet viena žinau, kad pats nebejaunėju. Gal dėl to ir norisi dar daug ką suspėti. Atrodo, nuveikta tikrai nemažai, bet kai pažiūriu, kiek visko priplanuota... Esu ramus, kad ateičiai nemažai projektų jau paruošta, kiti – rengimo stadijoje. Idėjų mūsų komandai niekada netrūko – reikia tik užtektinai finansų ir šiek tiek laiko joms įgyvendinti. Gal dar kokių dešimties metų (juokiasi)...\\n– Jūs šypsotės, bet daugelis išties norėtų sužinoti, kiek dar turite ambicijų tęsti darbus Kauno mero poste?\\n– Čia vienas dažnesnių klausimų, į kurį atsakymo pats sau neturiu. Tai niekada nebuvo mano asmeninė ambicija. Turėjau tik labai konkretų norą – sutvarkyti, pakeisti miestą. Pamenu, kažkada išvis galvojau neiti į šitas pareigas, po rinkimų 2015-aisiais domėjausi, kaip galėčiau jų atsisakyti.\\nVėliau atradom gerą ryšį su tuomet buvusia Vyriausybe – pajaučiau, kad Kaunas sulaukia dėmesio ir palaikymo iš šalies valdžios. Bet čia kalbu apie 2016–2020 metų kadenciją, kuomet vadovavo Saulius Skvernelis su savo ministrų kabinetu. Paprastai tariant, su Kaunu tuomet tikrai skaitėsi.\\n\\n\\nPaskiau atėjo dabartiniai valdantieji ir supratau, jog situacija keičiasi – į mūsų pusę jie nebežiūri, jokios pagarbos Kaunui. Paėmė azartas nenumesti visko, bet pakovot už savo miestą. Dabar galiu pasakyti, kad buvo verta. Nors iš nueinančios Vyriausybės Kaunas didesniems projektams negavo beveik nieko, bet suvaldėm situaciją – miestas nesustojo. Visa tai yra pačių kauniečių dėka.\\n\\nTurėjau tik labai konkretų norą – sutvarkyti, pakeisti miestą.\\n\\nJeigu ne tas iki tol įgytas pagreitis, verslų plėtra, valdžia mums būtų „užtraukusi“ rankinį stabdį. Tikiuosi, greitai situacija pasikeis ir mes tiesime naujus tiltus ne tik per upes, bet ir perkeltine prasme.\\n– Atrodo, kad ir šis ruduo Kaunui – gana derlingas: pirmosios įkurtuvės Inovacijų parke „ALEX“, startavo dar vieno tilto statybos, ruošiatės „Mokslo salos“ muziejaus atidarymui. Turite kuo pasidžiaugti?\\n– Yra nemažai gražių progų... Dabar tiltų statymo metai – porą statom, trečią baigiam projektuoti, jau startavom ir su viaduko statybomis. Kyla du baseinai, Romainiuose matosi naujo vaikų darželio pamatai, toliau atnaujinami parkai, kitos žalios erdvės, tvarkoma susisiekimo infrastruktūra.\\nBet geriausia džiaugtis ir švęsti ne darbų pradžią, o pabaigtuves, kai žmonės gali matyti apčiuopiamą rezultatą. Tokių vien šiemet irgi turim užtektinai: daugelis jau spėjo pasigėrėti atgijusiu Dainų slėniu, dabar artėja „Mokslo salos“ atidarymas, atversim ir Lengvosios atletikos maniežą. Toliau ruošiamės Čiurlionio koncertų centro statyboms, projektuojame nemažai išskirtinių sporto ir laisvalaikio objektų.\\n– Opozicijos atstovai tikriausiai vėl pasikartotų, kad tokio proveržio priežastis – smarkiai išaugęs miesto biudžetas?\\n– Tegul jie kalba, ką nori. Aš galiu tik paklausti, kodėl jie neaugino ir išvis nemylėjo Kauno iki man ateinant? Miesto biudžeto surinkimas – irgi reikalauja daug darbo. Jis didžiąja dalimi susideda iš gyventojų pajamų mokesčio. Todėl reikia stipriai pasistengti, kad verslai stiprėtų, žmonės turėtų gerai apmokamas darbo vietas ir pačių gyventojų kiekis mieste augtų.\\nPanašu, kad šituos procesus užkūrėm ir jie važiuoja. Miestas tapo patogesnis, tvarkingesnis, patrauklesnis tiek studentams, tiek ir čia besikuriančioms jaunoms šeimoms.\\nNereikia toli žvalgytis – vien praėjusią savaitę turėjome kelis puikius pavyzdžius: „Antėja“ Kaune atidarė didžiausią Baltijos šalyse medicininių tyrimų laboratoriją, SBA pristatė ketvirčio milijardo investicijas „Nemunaičiuose“, Aleksoto inovacijų parke turime pirmąją besikuriančią kompaniją su 50 milijonų privataus kapitalo krepšeliu. Va tai aš turiu galvoje, kai sakau, kad miestas kauniečių dėka nestabdo. Net ir be Vyriausybės dėmesio.\\n– Pradėdamas eiti mero pareigas vis kalbėdavote, kad reikia nebijoti džiazuoti ir išlaisvinti fantaziją. Kaip manote, ar jums tai pavyko?\\n– Geriausiai apie viską pasako padaryti darbai. Būtų neteisinga pačiam vertinti, nes tai yra darbas, kurį man patikėjo kauniečiai. Žmonės mato ir turi savo nuomones apie tai, kaip keičiasi miestas. Jų gali būti įvairių, bet iš šono nesunku matyti, kad dauguma džiaugiasi.\\nBaseinas prie „Žalgirio“ arenos – pilnutėlis, Sporto halė – gyva, Ąžuolynas – išgražėjęs. Stadionas muša koncertų lankomumo rekordus ir tikiu, kad pamažu užaugins rezultatus bei palaikymo kultūrą futbole, kaip tą padarė „Žalgirio“ krepšinio klubas su sausakimša arena. Rotušė irgi tapo muziejaus verta erdve.\\nKiekvienu atveju su komanda dėta daug pastangų, būta ir nemažai ginčų, netgi karštų momentų. Bet viskas dėl bendro tikslo, nes mes visi esame kauniečiai.\\nŽinau, kad per praėjusius Seimo rinkimus pasitaikė nemažai „ateivių“: didesnė dalis Kaune išrinktų vienmandatininkų buvo ne Kauno gyventojai. Turbūt tokių atsiras ir dabar. Nenoriu čia nei kritikuoti, nei agituoti, bet aš pats sau išvadas jau seniai esu pasidaręs.\\n'"
      ]
     },
     "execution_count": 17,
     "metadata": {},
     "output_type": "execute_result"
    }
   ],
   "source": [
    "straipsniai[0].text"
   ]
  },
  {
   "cell_type": "code",
   "execution_count": null,
   "metadata": {},
   "outputs": [],
   "source": [
    "for s in straipsniai:\n",
    "    i = s.find('div', {'class':'articles-list-title-wrapper'})\n",
    "    if i is not None:\n",
    "        t = i.find('a', {'class':'articles-list-title'})\n",
    "        print(':::REM:::')\n",
    "        print(t)\n",
    "        print('HREF?')\n",
    "        print(t['href'])\n",
    "        print(t.text)"
   ]
  },
  {
   "cell_type": "code",
   "execution_count": 30,
   "metadata": {},
   "outputs": [
    {
     "name": "stdout",
     "output_type": "stream",
     "text": [
      "29\n",
      "['Sudėtingos į Kauną vykusio ir jo nepasiekusio jauno vyro paieškos: jas bandė apsunkinti ne tik gamta', 'Pribloškė piktavalio poelgis: dešroje – baterija ir vinis šuniukams', 'Taškas, kuris išėjo pasivaikščioti, atklydo į galeriją', 'Apie Motinos ir Kūrėjos archetipus tapyboje', '„Kauno diena“ pristato „Kauno detales“: kuo skiriasi Argentinka nuo Brazilkos?', 'Veiksmas Partizanų gatvėje: pareigūnai šturmavo automobilį, sulaikytas vyras', 'Darbdavio magija: kas darbuotoją skatina įsitraukti ir augti?', 'Akibrokštas privačiai greitajai pagalbai: 50 įdarbintų žmonių valstybei neįdomu?', 'O dabar pakalbėkime apie… nieką', 'Vilniaus rajone už daugiau nei 835 tūkst. eurų bus modernizuojamos sveikatos centro paslaugos', 'Policija gavo 28 pranešimus apie galimus rinkimų pažeidimus', 'G. Nausėda ragina aktyviai balsuoti Seimo rinkimuose: kad nereikėtų sakyti – ir vėl ne tą išrinkome ', 'Auskarų vėrimo meistrė G. Balevičė – apie grožį, kantrybę, profesionalumą ir truputėlį skausmo', 'Tvari mada: dėvėta nereiškia skurdu', 'Sukčiai be vyro žinios jo vardu paėmė paskolų už beveik 15 tūkst. eurų', '„Kauno dienos“ studijoje – 20-metį mininčio Kauno miesto simfoninio orkestro vadovas ', '„Kauno dienos“ studijoje – kandidatas į LKF prezidentus R. Javtokas', 'LTG: iki 2030 metų tikimasi sukurti bendrą Europos geležinkelių sistemą', 'Rekordinis loterijos „Eurojackpot“ beveik 81 mln. eurų laimėjimas Kėdainiuose sukėlė šurmulį', 'V. Zelenskis baigia kelionę po Europą: susitiko su popiežiumi, pasimatys su O. Scholzu', 'B. Obama per pirmą savo mitingą už K. Harris užsipuolė D. Trumpą', 'Jaunimo rinktinės siurprizas: išvykoje patiesti islandai', 'Teniso žvaigždė R. Nadalis paskelbė, kad baigs savo sportinę karjerą', 'Nuteisti BMW automobilių detales Panevėžyje vogę vyras ir moteris', 'Šiaulių rajone neblaivus vairuotojas sukėlė avariją: susidūrė trys automobiliai', 'Kompozitoriui svarbu ir savitumas, ir ieškojimai', 'Pasirašius kultūros inovacijų skatinimo susitarimą, tikimasi padidinti jos pelningumą', 'Dienos horoskopas 12 Zodiako ženklų (spalio 11 d.)', 'Kritinis derliaus klausimas: šiltėjantis klimatas verčia kurti atsparesnes sėklas']\n",
      "29\n",
      "['naujienos/kaunas/nusikaltimai-ir-nelaimes/sudetingos-i-kauna-vykusio-ir-jo-nepasiekusio-jauno-vyro-paieskos-jas-bande-apsunkinti-ne-tik-gamta-1195292', 'naujienos/klaipeda/miesto-pulsas/pribloske-piktavalio-poelgis-desroje-baterija-ir-vinis-suniukams-1195394', 'naujienos/kaunas/menas-ir-pramogos/taskas-kuris-isejo-pasivaikscioti-atklydo-i-galerija-1195370', 'naujienos/kaunas/menas-ir-pramogos/viesnage-linkevicienes-kurybos-visatoje-1195368', 'naujienos/kaunas/miesto-pulsas/kauno-diena-pristato-kauno-detales-kuo-skiriasi-argentinka-nuo-brazilkos-1195282', 'naujienos/kaunas/nusikaltimai-ir-nelaimes/veiksmas-partizanu-gatveje-pareigunai-sturmavo-automobili-sulaikytas-vyras-1194672', 'naujienos/verslas/ekonomika/darbdavio-magija-kas-darbuotoja-skatina-isitraukti-ir-augti-1182991', 'naujienos/lietuva/salies-pulsas/akibrokstas-privaciai-greitajai-pagalbai-viskas-vyksta-pagal-sutarti-1194484', 'naujienos/sveikata/psichologija/o-dabar-pakalbekime-apie-nieka-1194950', 'naujienos/sveikata/sveikata/vilniaus-rajone-uz-daugiau-nei-835-tukst-euru-bus-modernizuojamos-sveikatos-centro-paslaugos-1195217', 'naujienos/lietuva/politika/policija-gavo-28-pranesimus-apie-galimus-rinkimu-pazeidimus-1195404', 'naujienos/lietuva/politika/g-nauseda-ragina-aktyviai-balsuoti-seimo-rinkimuose-kad-nereiketu-sakyti-ir-vel-ne-ta-isrinkome-1195400', 'naujienos/grazi-diena/auskaru-verimo-meistre-g-balevice-apie-grozi-kantrybe-profesionaluma-ir-truputeli-skausmo-1194964', 'naujienos/lietuva/salies-pulsas/deveta-nereiskia-skurdu-1194060', 'https://www.diena.lt/naujienos/vilnius/nusikaltimai-ir-nelaimes/sukciai-be-vyro-zinios-jo-vardu-paeme-paskolu-uz-beveik-15-tukst-euru-1195411', 'naujienos/kauno-dienos-studija/kauno-dienos-studijoje-20-meti-minincio-kauno-miesto-simfoninio-orkestro-vadovas-1191320', 'naujienos/sportas/krepsinis/kauno-dienos-studijoje-kandidatas-i-lkf-prezidentus-r-javtokas-1190406', 'naujienos/verslas/ekonomika/ltg-iki-2030-metu-tikimasi-sukurti-bendra-europos-gelezinkeliu-sistema-1195328', 'naujienos/verslas/ekonomika/rekordinis-loterijos-eurojackpot-beveik-81-mln-euru-laimejimas-kedainiuose-sukele-surmuli-1195298', 'naujienos/pasaulis/ekonomika-ir-politika/v-zelenskis-baigia-kelione-po-europa-susitiko-su-popieziumi-pasimatys-su-o-scholzu-1195403', 'naujienos/pasaulis/ekonomika-ir-politika/b-obama-pirma-savo-mitinga-uz-k-harris-uzsipuole-d-trumpa-1195393', 'naujienos/sportas/futbolas/jaunimo-rinktines-siurprizas-isvykoje-patiesti-islandai-1195307', 'naujienos/sportas/kitos-sporto-sakos/teniso-zvaigzde-r-nadalis-paskelbe-kad-baigs-savo-sportine-karjera-1195259', 'naujienos/kriminalai/nusikaltimai/nuteisti-bmw-automobiliu-detales-panevezyje-voge-vyras-ir-moteris-1195385', 'naujienos/kriminalai/nusikaltimai/siauliu-rajone-neblaivus-vairuotojas-sukele-avarija-susidure-trys-automobiliai-1195381', 'naujienos/vilnius/menas-ir-pramogos/kompozitoriui-svarbu-ir-savitumas-ir-ieskojimai-1195197', 'naujienos/laisvalaikis-ir-kultura/kultura/pasirasius-kulturos-inovaciju-skatinimo-susitarima-tikimasi-padidinti-jos-pelninguma-1195288', 'naujienos/ivairenybes/horoskopai/dienos-horoskopas-12-zodiako-zenklu-spalio-11-d-1195297', 'naujienos/ivairenybes/gamta/kritinis-derliaus-klausimas-siltejantis-klimatas-vercia-kurti-atsparesnes-seklas-1195235']\n"
     ]
    }
   ],
   "source": [
    "# Surinkite visus straipsnių pavadinimus ir nuorodas į pačius straipsnius iš Kauno  diena puslapio.\n",
    "# Suraskite vidutinį straipsnių pavadinimuose esančių žodžių skaičių.\n",
    "# Atvaizduoikite grafiškai straipsnių kiekį VS žodžių kiekis pavadinime.\n",
    "# Suraskite ilgiausią pavadinimą, nueikite į tą straipsnį,\n",
    "# suraskite 5kis dažniausiai pasikartojančius žodžius, iliustruokite grafiškai.\n",
    "# Suskaičiuokite, kiek vidutiniškai turi žodžių straipsniai, esantys Kauno dienoje.\n",
    "\n",
    "\n",
    "# Papildymas užduoties: \n",
    "# # atlikite tą patį su delfi.lt, palyginkite tarpusavyje kauno dieną ir delfi.lt, palyginimus\n",
    "# # atlikite pateikdami grafikus.\n",
    "\n",
    "# https://scrapeops.io/python-web-scraping-playbook/python-beautifulsoup-findall/\n",
    "\n",
    "url = 'https://kauno.diena.lt/'\n",
    "\n",
    "page = requests.get(url)\n",
    "\n",
    "source = page.content\n",
    "\n",
    "bs = BeautifulSoup(source, 'html.parser')\n",
    "# print(bs)\n",
    "nuorodos = []\n",
    "pavadinimai = []\n",
    "straipsniai = bs.find_all('div', {'category-block-row grid-12 alpha omega unscore'})\n",
    "for s in straipsniai:\n",
    "    i = s.find('div', {'class':'articles-list-title-wrapper'})\n",
    "    if i is not None:\n",
    "        t = i.find('a', {'class':'articles-list-title'})\n",
    "        pavadinimai.append(t.text)\n",
    "        nuorodos.append(t['href'])\n",
    "        # print(':::REM:::')\n",
    "        # print(t)\n",
    "        # print('HREF?')\n",
    "        # print(t['href'])\n",
    "        # print(t.text)\n",
    "\n",
    "print(len(pavadinimai))\n",
    "print(pavadinimai)\n",
    "print(len(nuorodos))\n",
    "print(nuorodos)"
   ]
  },
  {
   "cell_type": "code",
   "execution_count": 31,
   "metadata": {},
   "outputs": [
    {
     "name": "stdout",
     "output_type": "stream",
     "text": [
      "vidutinis zodziu kiekis pavadinimuose: 9.620689655172415\n"
     ]
    }
   ],
   "source": [
    "# Suraskite vidutinį straipsnių pavadinimuose esančių žodžių skaičių.\n",
    "zodziu_kiekiai = []\n",
    "for pav in pavadinimai:\n",
    "    kiekis =len(pav.split())\n",
    "    zodziu_kiekiai.append(kiekis)\n",
    "    \n",
    "vidutinis_zodziu_kiekis = sum(zodziu_kiekiai) / len(zodziu_kiekiai)\n",
    "print(f'vidutinis zodziu kiekis pavadinimuose: {vidutinis_zodziu_kiekis}')\n"
   ]
  },
  {
   "cell_type": "code",
   "execution_count": 32,
   "metadata": {},
   "outputs": [
    {
     "name": "stdout",
     "output_type": "stream",
     "text": [
      "{5: 2, 6: 3, 7: 1, 8: 4, 9: 6, 10: 4, 11: 2, 12: 1, 13: 4, 16: 2}\n",
      "29\n"
     ]
    },
    {
     "data": {
      "image/png": "[encoded data removed]",
      "text/plain": [
       "<Figure size 800x450 with 1 Axes>"
      ]
     },
     "metadata": {},
     "output_type": "display_data"
    }
   ],
   "source": [
    "# Atvaizduoikite grafiškai straipsnių kiekį VS žodžių kiekis pavadinime.\n",
    "\n",
    "# from collections import Counter\n",
    "\n",
    "# sample_list = [1,4,2,6,3,4,8,2,9,2,7,0]\n",
    "# print(Counter(sample_list))\n",
    "\n",
    "kiekiai_dict = {}\n",
    "for k in (list(set(zodziu_kiekiai))):\n",
    "    kiekiai_dict[k] = 0\n",
    "\n",
    "\n",
    "for k in kiekiai_dict.keys():\n",
    "    c = zodziu_kiekiai.count(k)\n",
    "    kiekiai_dict[k] = c\n",
    "    \n",
    "print(kiekiai_dict)\n",
    "print(sum(kiekiai_dict.values()))\n",
    "\n",
    "x_asis = list(kiekiai_dict.keys())\n",
    "\n",
    "fig, ax = plt.subplots(figsize=(8, 4.5))\n",
    "\n",
    "B = ax.bar(kiekiai_dict.keys(), kiekiai_dict.values())\n",
    "ax.bar_label(B)\n",
    "ax.set_xticks(x_asis)\n",
    "ax.set_xlabel('zodziu kiekiai pavadinimuose')\n",
    "ax.set_ylabel('pasikartojimai')\n",
    "\n",
    "plt.show()"
   ]
  },
  {
   "cell_type": "code",
   "execution_count": 33,
   "metadata": {},
   "outputs": [
    {
     "name": "stdout",
     "output_type": "stream",
     "text": [
      "0\n",
      "Sudėtingos į Kauną vykusio ir jo nepasiekusio jauno vyro paieškos: jas bandė apsunkinti ne tik gamta\n",
      "naujienos/kaunas/nusikaltimai-ir-nelaimes/sudetingos-i-kauna-vykusio-ir-jo-nepasiekusio-jauno-vyro-paieskos-jas-bande-apsunkinti-ne-tik-gamta-1195292\n"
     ]
    }
   ],
   "source": [
    "# Suraskite ilgiausią pavadinimą, nueikite į tą straipsnį,\n",
    "# suraskite 5kis dažniausiai pasikartojančius žodžius, iliustruokite grafiškai.\n",
    "\n",
    "idx = (zodziu_kiekiai.index(max(zodziu_kiekiai)))\n",
    "print(idx)\n",
    "print(pavadinimai[idx])\n",
    "print(nuorodos[idx])\n",
    "max_zodziu_straipsnis = nuorodos[idx]"
   ]
  },
  {
   "cell_type": "code",
   "execution_count": 43,
   "metadata": {},
   "outputs": [
    {
     "name": "stdout",
     "output_type": "stream",
     "text": [
      "https://kauno.diena.lt/naujienos/kaunas/nusikaltimai-ir-nelaimes/sudetingos-i-kauna-vykusio-ir-jo-nepasiekusio-jauno-vyro-paieskos-jas-bande-apsunkinti-ne-tik-gamta-1195292\n",
      "422\n",
      "dict_values([1, 1, 1, 2, 1, 1, 5, 1, 1, 1, 2, 2, 1, 1, 1, 1, 2, 1, 2, 1, 1, 5, 1, 1, 3, 1, 1, 1, 1, 1, 2, 1, 1, 12, 1, 1, 1, 1, 1, 1, 2, 1, 2, 1, 1, 1, 1, 2, 1, 3, 1, 1, 1, 1, 1, 2, 1, 1, 1, 1, 1, 1, 1, 1, 1, 1, 1, 2, 1, 1, 9, 1, 1, 1, 3, 3, 1, 2, 2, 1, 1, 1, 1, 1, 1, 2, 1, 2, 3, 1, 4, 4, 4, 2, 4, 1, 1, 1, 2, 1, 2, 1, 1, 1, 3, 1, 1, 1, 1, 1, 1, 1, 1, 1, 2, 1, 1, 2, 1, 1, 1, 1, 1, 1, 4, 4, 1, 1, 1, 1, 4, 2, 1, 1, 1, 1, 1, 2, 1, 1, 2, 3, 1, 1, 1, 1, 1, 2, 1, 1, 2, 1, 1, 1, 1, 1, 3, 1, 1, 1, 1, 1, 1, 1, 1, 2, 1, 1, 2, 1, 3, 1, 1, 1, 1, 1, 1, 1, 2, 1, 1, 1, 1, 1, 1, 1, 1, 1, 1, 2, 1, 1, 2, 1, 1, 1, 1, 1, 1, 1, 1, 1, 1, 1, 1, 2, 1, 1, 1, 1, 2, 2, 1, 1, 1, 1, 1, 1, 1, 1, 1, 1, 1, 1, 1, 1, 1, 1, 1, 1, 1, 1, 1, 1, 1, 1, 1, 1, 1, 1, 1, 1, 1, 1, 1, 1, 1, 1, 1, 1, 1, 1, 1, 1, 1, 2, 1, 1, 3, 1, 1, 1, 1, 1, 1, 1, 1, 1, 1, 1, 1, 1, 1, 1, 1, 1, 1, 1, 1, 1, 1, 1, 1, 1, 1, 1, 1, 1, 1, 1, 1, 1, 1, 1, 1, 1, 1, 1, 1, 1, 1, 1, 1, 1, 1, 1, 1, 1, 1, 1, 1, 1, 1, 1, 1, 1, 1, 1, 1, 1])\n"
     ]
    }
   ],
   "source": [
    "url2 = f'https://kauno.diena.lt/{max_zodziu_straipsnis}'\n",
    "print(url2)\n",
    "\n",
    "page = requests.get(url2)\n",
    "\n",
    "source = page.content\n",
    "\n",
    "bs2 = BeautifulSoup(source, 'html.parser')\n",
    "# print(bs)\n",
    "# tekstas = ''\n",
    "\n",
    "pastraipos = bs2.find_all('span', {'itemprop':'articleBody'})\n",
    "# print(len(pastraipos))\n",
    "tekstas = pastraipos[0].text\n",
    "# print(tekstas)\n",
    "# for p in pastraipos:\n",
    "#     if p is not None:\n",
    "#         tekstas = tekstas + ' ' + p.text\n",
    "    \n",
    "print(len(tekstas.split()))\n",
    "\n",
    "from collections import Counter\n",
    "\n",
    "zodziai_tektste = dict(Counter(tekstas.split()))\n",
    "print(zodziai_tektste.values())\n",
    "\n",
    "\n",
    "\n",
    "\n"
   ]
  },
  {
   "cell_type": "code",
   "execution_count": 44,
   "metadata": {},
   "outputs": [
    {
     "data": {
      "text/html": [
       "<div>\n",
       "<style scoped>\n",
       "    .dataframe tbody tr th:only-of-type {\n",
       "        vertical-align: middle;\n",
       "    }\n",
       "\n",
       "    .dataframe tbody tr th {\n",
       "        vertical-align: top;\n",
       "    }\n",
       "\n",
       "    .dataframe thead th {\n",
       "        text-align: right;\n",
       "    }\n",
       "</style>\n",
       "<table border=\"1\" class=\"dataframe\">\n",
       "  <thead>\n",
       "    <tr style=\"text-align: right;\">\n",
       "      <th></th>\n",
       "      <th>zodis</th>\n",
       "      <th>kiekis</th>\n",
       "    </tr>\n",
       "  </thead>\n",
       "  <tbody>\n",
       "    <tr>\n",
       "      <th>0</th>\n",
       "      <td>Tokį</td>\n",
       "      <td>1</td>\n",
       "    </tr>\n",
       "    <tr>\n",
       "      <th>1</th>\n",
       "      <td>pranešimą</td>\n",
       "      <td>1</td>\n",
       "    </tr>\n",
       "    <tr>\n",
       "      <th>2</th>\n",
       "      <td>Bendrasis</td>\n",
       "      <td>1</td>\n",
       "    </tr>\n",
       "    <tr>\n",
       "      <th>3</th>\n",
       "      <td>pagalbos</td>\n",
       "      <td>2</td>\n",
       "    </tr>\n",
       "    <tr>\n",
       "      <th>4</th>\n",
       "      <td>centras</td>\n",
       "      <td>1</td>\n",
       "    </tr>\n",
       "  </tbody>\n",
       "</table>\n",
       "</div>"
      ],
      "text/plain": [
       "       zodis  kiekis\n",
       "0       Tokį       1\n",
       "1  pranešimą       1\n",
       "2  Bendrasis       1\n",
       "3   pagalbos       2\n",
       "4    centras       1"
      ]
     },
     "execution_count": 44,
     "metadata": {},
     "output_type": "execute_result"
    }
   ],
   "source": [
    "df = pd.DataFrame(zodziai_tektste.items(), columns=['zodis', 'kiekis'])\n",
    "\n",
    "df.head()"
   ]
  },
  {
   "cell_type": "code",
   "execution_count": 45,
   "metadata": {},
   "outputs": [
    {
     "data": {
      "text/html": [
       "<div>\n",
       "<style scoped>\n",
       "    .dataframe tbody tr th:only-of-type {\n",
       "        vertical-align: middle;\n",
       "    }\n",
       "\n",
       "    .dataframe tbody tr th {\n",
       "        vertical-align: top;\n",
       "    }\n",
       "\n",
       "    .dataframe thead th {\n",
       "        text-align: right;\n",
       "    }\n",
       "</style>\n",
       "<table border=\"1\" class=\"dataframe\">\n",
       "  <thead>\n",
       "    <tr style=\"text-align: right;\">\n",
       "      <th></th>\n",
       "      <th>index</th>\n",
       "      <th>zodis</th>\n",
       "      <th>kiekis</th>\n",
       "    </tr>\n",
       "  </thead>\n",
       "  <tbody>\n",
       "    <tr>\n",
       "      <th>0</th>\n",
       "      <td>33</td>\n",
       "      <td>kad</td>\n",
       "      <td>12</td>\n",
       "    </tr>\n",
       "    <tr>\n",
       "      <th>1</th>\n",
       "      <td>70</td>\n",
       "      <td>ir</td>\n",
       "      <td>9</td>\n",
       "    </tr>\n",
       "    <tr>\n",
       "      <th>2</th>\n",
       "      <td>6</td>\n",
       "      <td>apie</td>\n",
       "      <td>5</td>\n",
       "    </tr>\n",
       "    <tr>\n",
       "      <th>3</th>\n",
       "      <td>21</td>\n",
       "      <td>į</td>\n",
       "      <td>5</td>\n",
       "    </tr>\n",
       "    <tr>\n",
       "      <th>4</th>\n",
       "      <td>124</td>\n",
       "      <td>kaip</td>\n",
       "      <td>4</td>\n",
       "    </tr>\n",
       "  </tbody>\n",
       "</table>\n",
       "</div>"
      ],
      "text/plain": [
       "   index zodis  kiekis\n",
       "0     33   kad      12\n",
       "1     70    ir       9\n",
       "2      6  apie       5\n",
       "3     21     į       5\n",
       "4    124  kaip       4"
      ]
     },
     "execution_count": 45,
     "metadata": {},
     "output_type": "execute_result"
    }
   ],
   "source": [
    "df_st = df.sort_values(by=['kiekis'],ascending=False).reset_index()[:5]\n",
    "df_st.head()"
   ]
  },
  {
   "cell_type": "code",
   "execution_count": 46,
   "metadata": {},
   "outputs": [
    {
     "data": {
      "image/png": "[encoded data removed]",
      "text/plain": [
       "<Figure size 640x480 with 1 Axes>"
      ]
     },
     "metadata": {},
     "output_type": "display_data"
    }
   ],
   "source": [
    "fig, ax = plt.subplots()\n",
    "sns.barplot(data=df_st, x=df_st['zodis'], y=df_st['kiekis'])\n",
    "for container in ax.containers:\n",
    "    ax.bar_label(container)\n",
    "plt.show()"
   ]
  },
  {
   "cell_type": "code",
   "execution_count": 64,
   "metadata": {},
   "outputs": [
    {
     "name": "stdout",
     "output_type": "stream",
     "text": [
      "28\n",
      "[422, 229, 624, 1273, 69, 76, 1065, 1345, 721, 172, 165, 142, 1960, 600, 94, 61, 172, 193, 189, 614, 222, 110, 426, 86, 888, 548, 270, 245]\n",
      "vidutinis zodziu kiekis straipsniuose: 463.60714285714283\n"
     ]
    }
   ],
   "source": [
    "# Suskaičiuokite, kiek vidutiniškai turi žodžių straipsniai, esantys Kauno dienoje. \n",
    "import time\n",
    "\n",
    "zodziai_straipsniuose = []\n",
    "\n",
    "for nuoroda in nuorodos:\n",
    "    # print(nuoroda)\n",
    "    if not nuoroda.startswith('https'):\n",
    "        # print(nuoroda)\n",
    "        url3 = f'https://kauno.diena.lt/{nuoroda}'\n",
    "\n",
    "        page = requests.get(url3)\n",
    "        source = page.content\n",
    "\n",
    "        bs3 = BeautifulSoup(source, 'html.parser')\n",
    "        pastraipos = bs3.find_all('span', {'itemprop':'articleBody'})\n",
    "\n",
    "        tekstas = pastraipos[0].text\n",
    "\n",
    "        zodziai_straipsniuose.append(len(tekstas.split()))\n",
    "        # time.sleep(0.5)\n",
    "        # print(len(tekstas.split()))\n",
    "\n",
    "print(len(zodziai_straipsniuose))\n",
    "print(zodziai_straipsniuose)\n",
    "\n",
    "print(f'vidutinis zodziu kiekis straipsniuose: {sum(zodziai_straipsniuose) / len(zodziai_straipsniuose)}')\n",
    "\n"
   ]
  },
  {
   "cell_type": "code",
   "execution_count": 60,
   "metadata": {},
   "outputs": [
    {
     "name": "stdout",
     "output_type": "stream",
     "text": [
      "9577\n",
      "Buvo eksponuoti trys tapybos darbų ciklai „Sakrum ir profanum“, „Pavogti peizažai“ ir „Pasaulis be rėmų – langas į kasdienybę“, tačiau kalbantis su autore atsirado kiti pavadinimai, jie ir panaudoti šiame tekste. Visi trys darbų ciklai akivaizdžiai susiję, anot autorės, juos jungia vidinės ramybės, dvasingumo paieškos kasdienybėje ir kūryboje, iš naujo permąstant svarbias gyvenimo tiesas. Norisi pridurti, tai paieškos būtent Akvilės kasdienybėje ir kūryboje, brėžiančios jos visatos žemėlapį, ryškinančios jos autoportreto detales, panardintas į daugiabriaunę tapybos pastangą. Tapybos medija teikia plačių galimybių autoriui slėptis už spalvinės materijos, ši paroda – ne išimtis, tačiau pokalbis su menininke netikėtai ir tarsi savaime padiktavo itin suasmenintą perspektyvą, nustūmusią tapybos ypatumus į antrą planą. Tačiau pradėkime nuo pradžių.\n",
      "\n",
      "\n",
      "Prie parodos ekspozicijos mane pasitinka moteris – dar jauna, simpatiška, nesąmoningai demonstruojanti keistą stiprybės ir silpnumo derinį, būdingą žmonėms, po ilgo laiko grįžusiems į viešumos sceną. Atsargiai deda vieną koją – matyt, sąnariai, spėju, – šypsosi taip pat atsargiai, patyliukais vis užmeta akį, kaip reaguoja pašnekovas, galų gale atsipalaiduoja, kai patiki pašnekovo nuoširdumu. Ir vis atviriau dalijasi mintimis apie tapybą, nors neįmanoma atsispirti nuojautai, kad tuo pat metu pasakoja apie save, savo šeimą.\n",
      "Pirmiausia ji kalba apie Marijų ciklą. Kodėl Marijos? Nes Akvilė atrado tikėjimą, taip reikalingą pagalbą įveikiant šeimos negandas. Ji vengia apie tai kalbėti daugiau, nei būtina, akivaizdu, nėra poreikio ką nors kam nors įrodinėti, tiesiog tikėjimas yra išorinis jos galios šaltinis, savitas stiprinantis korsetas, leidžiantis autorei savo visatoje eiti tiesia nugara.\n",
      "Kita vertus, religinės ikonografijos akivaizdumas slepia intymesnį pasakojimą apie sudėtingą gyvenimo etapą, apie pasaulį su maža dukryte, kurią ne pati lengviausia diabeto forma privertė vaikščioti paribiais. Ir visada neišsimiegojusią mamą su neatsileidžiančia baimės spyruokle, kai kiekvienas skambutis perduria širdį: gal dukrytė vėl parkrito, o gal kas blogiau?\n",
      "Retai galima stebėti meninę veiklą, kuri būtų taip reikalinga autorei, atsitiesiančiai po nelengvo gyvenimo tarpsnio. Sunku nepatikėti jos Marijomis, nes jose iš tiesų daug spindulių, tiek nutapytų, tiek tų, kurie matomi ne drobėje. Dievo Motinos motyvas yra bene talpiausia forma dėl vaikų besiaukojančiai mamai. Jame susitinka tradicinė religinė ikonografija ir archetipinė Motinos figūra, neabejotinai įrėminusi, pastarąjį dešimtmetį suteikusi gylį autorės gyvenimui. Įsisenėjęs nuovargis, nuodijantis nerimas dėl vaiko būklės ir meninės pastangos sprogimas, kai tas nerimas atslūgo, patikėjus galimybe kontroliuoti ligą. Atrodo, išsiugdytas gebėjimas mobilizuoti individualią energiją transformavosi, o gal tiesiog persiliejo į savo valandos laukusį poreikį išsisakyti, kartais net išsirėkti tapybos kalba.\n",
      "\n",
      "Sunku nepatikėti jos Marijomis, nes jose iš tiesų daug spindulių – tiek nutapytų, tiek tų, kurie matomi ne drobėje.\n",
      "\n",
      "Galbūt Dievo Motina tėra suišorintas vaizdinys, slepiantis taip reikalingą tikėjimo ramentą, kai iš tiesų sunku, dar viena priemonė ieškant papildomų motinystės resursų? Kelias, matuojamas prievolių našta, o ne individualiai duotomis jėgomis. Motinai niekuomet visko neduota pakankamai, motina tampama, viską atrandant ar nežinia iš ko sukuriant savyje. Sakoma, Dievas neduoda išbandymo, kurio žmogus negalėtų pakelti, bet kaip tuo patikėti, jei greta gebančių nešti užkrautą naštą matome ir jos sulaužytus žmones? Autorė jiems nepriklauso, ačiū, turbūt, Dievui, bet tai sakydamas negaliu neprisiminti, kaip atsargiai ji stato vieną koją, droviai slėpdamasi už žodžių apie paveikslus.\n",
      "Neatsitiktinai autorės sūnus, taip pat pradedantis menininko kelią Dailės akademijoje, per pirmą pokalbį pasakojo ne apie save, bet apie mamą, ką ji tapo, kokius tekstus kuria. Neatsitiktinai jo mama, pristatydama šį ciklą, pirmiausia mini tą Mariją, kuri yra jos sūnaus mėgstamiausia ir nuolat kabo jo kambaryje. Ak, jį taip erzina mano maldos, sūnus, žinote, netikintis, bet mano Mariją jis myli. O čia mano dukros portretai, ji nuolat man pozuoja. Vien šių užuominų pakanka, kad suprastume tą šeimą siejančias jėgas ir ką jos nariai iš tiesų myli. Akivaizdu, visa ši paroda yra apie save, tapyba kaip saviraiška, autoportretinis apsinuoginimas, įtarpintas religinės ikonografijos ir kaunietiško ekspresionizmo drabužiais. Ir kartu autoterapinė pastanga, nesąmoningai siejanti šią neaukštą moterį su priešais akis iškeltu universalios motinystės idealu, skleidžianti to idealo, o gal autorės išaugintos Motinos tiesą.\n",
      "Apie Ežero peizažus, antrą parodos ciklą, autorė kalba kitaip, ir aš matau kitą, tylesnę, ramesnę Akvilę, einančią į gamtą, būtinai vieną, sėdančią į kėdę netoli kranto ir eskizuojančią. Paskui grįžtančią namo ir tapančią, kai yra galimybė, remiantis tais eskizais. Eskizai grafiški, nedidelio formato, rodantys apibendrintus, bet atpažįstamus tikrovės veidus, kartais papildytus menine išmone. Linijos spalvotos, neperkrautos, dvelkiančios ramybe. Ką mes stebime? Jau ne Motinos, o Kūrėjos visatą, tą vietų vietą, kurios magijai veikiant autorė palaipsniui surenka, o gal atkuria save vieną prie kito dėdama vis naujus eskizus. Tikėjimas ar kūrybos aktai šiai moteriai teikia atsinaujinimo stiprybę? Nežinau, tik akivaizdu, kad jai tai ne priešpriešintini dalykai ir kad šiame cikle į pirmą planą žengia Kūrėjos archetipas, dar tik ieškantis sau tinkamos išraiškos.\n",
      "Pieštų eskizų virsmas į tapybinę mediją keičia jų atpažįstamumą, verčia kone absoliučiomis abstrakcijomis ir tik įtempus vaizduotę įmanoma atpažinti pirminių motyvų atgarsius, beveik visiškai nutraukusius ryšius su regimos tikrovės pavidalais. Atsargus vandens stichijų pakvietimas, paskui svaigus sklandymas, tada – pasinėrimas, paskui – vėl skrydis, kintanti perspektyva, vandenys iš arti ir iš toli, ištirpusi horizonto linija, kai nelabai aišku, kur prasideda ir kur baigiasi dangus. Ežero ciklo tapyba susiūta iš atskirų fragmentų, tačiau estetiniu požiūriu itin vientisa, sulydyta į vienos kompozicijos erdvę, tarsi atskiros dalys rastų save tik pildydamos viena kitą. Marijų ciklą įkvėpusį susižavėjimą Jeanu Micheliu Basquiatu keičia įsiklausymas į čiurlioniškos dvasios aidą, stiprius, kontrastingų spalvų siluetus – sulietų, padūmavusių tolių komtempliavimas. Ežero peizažų cikle Akvilė ne tiek dalija, kiek renka save pasitelkusi reinkarnuojančias vandenų stichijas.\n",
      "Visų trijų ciklų tapyba yra savita kaunietiško ekspresionizmo adaptacija, įveiklinanti tiek grynos spalvos, tiek laisvo potėpio galimybes. Kita vertus, peržengianti tradicinio žanro ribas bent dviem būdais: išeidama už rėmų, tiesiogine prasme nusileisdama ant grindų, bet tai įmanoma pamatyti tik „gyvoje“ ekspozicijoje; ir keisdama drobe aptemtą porėmį netipiniu paviršiumi tapybai – įvairių formų automobilio stiklais. Šis pokytis neturi nieko bendra su tvarumo ideologija, reikalaujančia ne išmesti, o naujai įveiklinti atitarnavusius daiktus. Veikiau banali pinigų stoka ir kartu estetinėms reikmėms nusavinti stiklo ypatumai, blizgių atspindžių efektai. Kas prasidėjo drobės pakaitalų paieška, baigėsi naujų estetinių galimybių atradimu derinant tapybos ir lenktų formų stiklo iškalbą.\n",
      "Taip atkeliaujame prie trečio, Tapytų stiklų, ciklo. Tai gan sėkmingas tapybai neįprastų objektų įmeninimo eksperimentas, supinantis lango ir drobės ekrano simboliką: į tapybos motyvą, į rodomą tikrovės fragmentą siūloma žvelgti pro langą tiesiogine ir perkeltine prasme. Pati autorė nebandė šiam prasminiam dvilypumui suteikti estetinio matmens, tarkime, suliejant motyvą, tarsi būtų žvelgiama pro lekiančio automobilio langą. Pirmiausia jos dėmesys nukreiptas į lenktų paviršių ir stiklo blizgesio efektų naudojimą. Jis ne visada sėkmingas, tapyba kartais nepakankamai atsižvelgia į stiklinio pagrindo savitumą, bet yra tikrai stiprių darbų. Ypač pavykę peizažai, aktyvinantys stiklo ir vaizduojamo vandens atspindžių giminystę, apibendrinantys, išgryninantys naudojamų spalvų gamą iki būtino minimumo. Šiuo požiūriu tai ne naujo „stiklinio“ ciklo dalis, bet ankstesnių Ežero peizažų tąsa įveiklinant naujus paviršius.\n",
      "Nežinau, kodėl, bet mano akį užkabino vienas nedidelio formato darbas, kurio nepermatomas ir blizgus geltonis kartu su netaisyklingai pusapvaliu stiklo pagrindu sukūrė paveikų drumsto gintaro efektą. Keista organinė akis, žvelgianti į save ir nenusakomu būdu primenanti smėlį, bangas, dangų nusvėrusį horizontą. Kuris tai darbas, nesakysiu, tegul žiūrovas, kai turės galimybę, pats susiranda su juo susišnekantį paveikslą.\n",
      "Tapytų stiklų ciklas stipriausiai veikia kaip visuma, nereikalaujanti koncentruoti dėmesį į atskirus objektus. Stačiakampį, „savaime suprantamą“ tapybos motyvo rėminimą keičia gerokai laisvesnis ir individualesnis skirtingo dydžio stiklų panaudojimas, blizgūs, užapvalintų kampų „porėmiai“ kelia netikėtumo įspūdį, išplečia eksponavimo galimybes tiek derinant skirtingų formų siluetus ant sienos, tiek statant juos kaip tūrinius objektus ant grindų. Šio ciklo ekspozicija kiek perkrauta, ypač tai sakytina apie tapybą / stiklus ant grindų, bet pats ciklas gana patrauklus ir neabejotinai kelia tam tikrą šviežumo įspūdį.\n",
      "Ką pasakyti baigiant? Iki šios parodos su Akvilės tapyba nebuvau susidūręs ir jokių ypatingų lūkesčių nepuoselėjau. Po parodos išsinešiau nelauktą nuostabą, smagų mažyčio atradimo pojūtį.\n",
      "\n",
      "Kas: A. Linkevičienės paroda „Mėgaukis tyla / Enjoy the silence“.\n",
      "Kur: Kultūros centre „Girstutis“.\n",
      "Kada: veikia iki spalio 22 d.\n",
      "\n",
      "1273\n"
     ]
    }
   ],
   "source": [
    "url = \"https://kauno.diena.lt/naujienos/kaunas/menas-ir-pramogos/viesnage-linkevicienes-kurybos-visatoje-1195368\"\n",
    "\n",
    "page = requests.get(url)\n",
    "source = page.content\n",
    "\n",
    "bs = BeautifulSoup(source, 'html.parser')\n",
    "straipsniai = bs.find_all('span', {'itemprop':'articleBody'})\n",
    "tekstas = straipsniai[0].text\n",
    "print(len(tekstas))\n",
    "print(tekstas)\n",
    "zodziai = tekstas.split()\n",
    "print(len(zodziai))"
   ]
  }
 ],
 "metadata": {
  "kernelspec": {
   "display_name": "DataScienceNotebooks-Gb1CNkV6",
   "language": "python",
   "name": "python3"
  },
  "language_info": {
   "codemirror_mode": {
    "name": "ipython",
    "version": 3
   },
   "file_extension": ".py",
   "mimetype": "text/x-python",
   "name": "python",
   "nbconvert_exporter": "python",
   "pygments_lexer": "ipython3",
   "version": "3.12.4"
  }
 },
 "nbformat": 4,
 "nbformat_minor": 2
}
