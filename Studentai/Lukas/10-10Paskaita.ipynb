{
 "cells": [
  {
   "cell_type": "code",
   "execution_count": 2,
   "metadata": {},
   "outputs": [],
   "source": [
    "import numpy as np\n",
    "import pandas as pd\n",
    "import matplotlib.pyplot as plt\n",
    "import warnings\n",
    "warnings.filterwarnings('ignore')\n",
    "import seaborn as sns\n",
    "# import sqlite3\n",
    "# import mysql.connector as cnt\n",
    "# import plotly.express as px \n",
    "import requests\n",
    "import selenium\n",
    "\n",
    "from bs4 import BeautifulSoup"
   ]
  },
  {
   "cell_type": "code",
   "execution_count": 5,
   "metadata": {},
   "outputs": [],
   "source": [
    "url = 'https://kauno.diena.lt/'\n",
    "\n",
    "page = requests.get(url)\n",
    "\n",
    "source = page.content\n",
    "\n",
    "bs = BeautifulSoup(source, 'html.parser')\n",
    "# print(bs)\n",
    "\n"
   ]
  },
  {
   "cell_type": "code",
   "execution_count": 10,
   "metadata": {},
   "outputs": [
    {
     "name": "stdout",
     "output_type": "stream",
     "text": [
      "41\n"
     ]
    }
   ],
   "source": [
    "straipsniai = bs.find_all('div', {'category-block-row grid-12 alpha omega unscore'})\n",
    "\n",
    "print(len(straipsniai))"
   ]
  },
  {
   "cell_type": "code",
   "execution_count": 14,
   "metadata": {},
   "outputs": [
    {
     "name": "stdout",
     "output_type": "stream",
     "text": [
      ":::REM:::\n",
      "<a class=\"articles-list-title\" href=\"naujienos/kaunas/miesto-pulsas/v-matijosaitis-miestas-nesustojo-tik-paciu-kaunieciu-deka-1195275\" style=\"font-size: 16px;line-height: 1.2;margin-bottom: 10px;display: inline;\">V. Matijošaitis: miestas nesustojo tik pačių kauniečių dėka</a>\n",
      "HREF?\n",
      "naujienos/kaunas/miesto-pulsas/v-matijosaitis-miestas-nesustojo-tik-paciu-kaunieciu-deka-1195275\n",
      "V. Matijošaitis: miestas nesustojo tik pačių kauniečių dėka\n",
      ":::REM:::\n",
      "<a class=\"articles-list-title\" href=\"naujienos/kaunas/miesto-pulsas/kauno-diena-pristato-kauno-detales-kuo-skiriasi-argentinka-nuo-brazilkos-1195282\" style=\"font-size: 16px;line-height: 1.2;margin-bottom: 10px;display: inline;\">„Kauno diena“ pristato „Kauno detales“: kuo skiriasi Argentinka nuo Brazilkos?</a>\n",
      "HREF?\n",
      "naujienos/kaunas/miesto-pulsas/kauno-diena-pristato-kauno-detales-kuo-skiriasi-argentinka-nuo-brazilkos-1195282\n",
      "„Kauno diena“ pristato „Kauno detales“: kuo skiriasi Argentinka nuo Brazilkos?\n",
      ":::REM:::\n",
      "<a class=\"articles-list-title\" href=\"naujienos/kaunas/menas-ir-pramogos/kaune-seniausio-estijos-menininku-kolektyvo-paroda-1195201\" style=\"font-size: 20px;line-height: 1.2;margin-bottom: 10px;display: inline;\">Kaune – seniausio Estijos menininkų kolektyvo paroda</a>\n",
      "HREF?\n",
      "naujienos/kaunas/menas-ir-pramogos/kaune-seniausio-estijos-menininku-kolektyvo-paroda-1195201\n",
      "Kaune – seniausio Estijos menininkų kolektyvo paroda\n",
      ":::REM:::\n",
      "<a class=\"articles-list-title\" href=\"naujienos/kaunas/miesto-pulsas/rinkejai-stebejosi-isankstiniu-balsavimu-tamsoje-atrodo-itartinai-1195200\" style=\"font-size: 16px;line-height: 1.2;margin-bottom: 10px;display: inline;\">Rinkėjai stebėjosi išankstiniu balsavimu tamsoje: atrodo įtartinai</a>\n",
      "HREF?\n",
      "naujienos/kaunas/miesto-pulsas/rinkejai-stebejosi-isankstiniu-balsavimu-tamsoje-atrodo-itartinai-1195200\n",
      "Rinkėjai stebėjosi išankstiniu balsavimu tamsoje: atrodo įtartinai\n",
      ":::REM:::\n",
      "<a class=\"articles-list-title\" href=\"naujienos/lietuva/salies-pulsas/sesiose-salies-savivaldybese-vyks-kariu-savanoriu-pratybos-1195172\" style=\"font-size: 16px;line-height: 1.2;margin-bottom: 10px;display: inline;\">Šešiose šalies savivaldybėse vyks karių savanorių pratybos</a>\n",
      "HREF?\n",
      "naujienos/lietuva/salies-pulsas/sesiose-salies-savivaldybese-vyks-kariu-savanoriu-pratybos-1195172\n",
      "Šešiose šalies savivaldybėse vyks karių savanorių pratybos\n",
      ":::REM:::\n",
      "<a class=\"articles-list-title\" href=\"naujienos/kaunas/nusikaltimai-ir-nelaimes/veiksmas-partizanu-gatveje-pareigunai-sturmavo-automobili-sulaikytas-vyras-1194672\" style=\"font-size: 16px;line-height: 1.2;margin-bottom: 10px;display: inline;\">Veiksmas Partizanų gatvėje: pareigūnai šturmavo automobilį, sulaikytas vyras</a>\n",
      "HREF?\n",
      "naujienos/kaunas/nusikaltimai-ir-nelaimes/veiksmas-partizanu-gatveje-pareigunai-sturmavo-automobili-sulaikytas-vyras-1194672\n",
      "Veiksmas Partizanų gatvėje: pareigūnai šturmavo automobilį, sulaikytas vyras\n",
      ":::REM:::\n",
      "<a class=\"articles-list-title\" href=\"naujienos/verslas/ekonomika/darbdavio-magija-kas-darbuotoja-skatina-isitraukti-ir-augti-1182991\" style=\"font-size: 16px;line-height: 1.2;margin-bottom: 10px;display: inline;\">Darbdavio magija: kas darbuotoją skatina įsitraukti ir augti?</a>\n",
      "HREF?\n",
      "naujienos/verslas/ekonomika/darbdavio-magija-kas-darbuotoja-skatina-isitraukti-ir-augti-1182991\n",
      "Darbdavio magija: kas darbuotoją skatina įsitraukti ir augti?\n",
      ":::REM:::\n",
      "<a class=\"articles-list-title\" href=\"naujienos/lietuva/salies-pulsas/akibrokstas-privaciai-greitajai-pagalbai-viskas-vyksta-pagal-sutarti-1194484\" style=\"font-size: 20px;line-height: 1.2;margin-bottom: 10px;display: inline;\">Akibrokštas privačiai greitajai pagalbai: 50 įdarbintų žmonių valstybei neįdomu?</a>\n",
      "HREF?\n",
      "naujienos/lietuva/salies-pulsas/akibrokstas-privaciai-greitajai-pagalbai-viskas-vyksta-pagal-sutarti-1194484\n",
      "Akibrokštas privačiai greitajai pagalbai: 50 įdarbintų žmonių valstybei neįdomu?\n",
      ":::REM:::\n",
      "<a class=\"articles-list-title\" href=\"naujienos/sveikata/psichologija/o-dabar-pakalbekime-apie-nieka-1194950\" style=\"font-size: 20px;line-height: 1.2;margin-bottom: 10px;display: inline;\">O dabar pakalbėkime apie… nieką</a>\n",
      "HREF?\n",
      "naujienos/sveikata/psichologija/o-dabar-pakalbekime-apie-nieka-1194950\n",
      "O dabar pakalbėkime apie… nieką\n",
      ":::REM:::\n",
      "<a class=\"articles-list-title\" href=\"naujienos/sveikata/sveikata/vilniaus-rajone-uz-daugiau-nei-835-tukst-euru-bus-modernizuojamos-sveikatos-centro-paslaugos-1195217\" style=\"font-size: 16px;line-height: 1.2;margin-bottom: 10px;display: inline;\">Vilniaus rajone už daugiau nei 835 tūkst. eurų bus modernizuojamos sveikatos centro paslaugos</a>\n",
      "HREF?\n",
      "naujienos/sveikata/sveikata/vilniaus-rajone-uz-daugiau-nei-835-tukst-euru-bus-modernizuojamos-sveikatos-centro-paslaugos-1195217\n",
      "Vilniaus rajone už daugiau nei 835 tūkst. eurų bus modernizuojamos sveikatos centro paslaugos\n",
      ":::REM:::\n",
      "<a class=\"articles-list-title\" href=\"naujienos/klaipeda/miesto-pulsas/po-vizito-i-kirpykla-sumaistis-1195220\" style=\"font-size: 20px;line-height: 1.2;margin-bottom: 10px;display: inline;\">Po vizito į kirpyklą – sumaištis: galvojau, jog esu skerdykloje</a>\n",
      "HREF?\n",
      "naujienos/klaipeda/miesto-pulsas/po-vizito-i-kirpykla-sumaistis-1195220\n",
      "Po vizito į kirpyklą – sumaištis: galvojau, jog esu skerdykloje\n",
      ":::REM:::\n",
      "<a class=\"articles-list-title\" href=\"naujienos/lietuva/politika/kandidate-kviete-atsivezti-ir-beisbolo-lazdas-ir-dalgius-teisesauga-tiria-raginima-susidoroti-1195262\" style=\"font-size: 16px;line-height: 1.2;margin-bottom: 10px;display: inline;\">Kandidatė kvietė atsivežti ir beisbolo lazdas, ir dalgius: teisėsauga tiria raginimą susidoroti</a>\n",
      "HREF?\n",
      "naujienos/lietuva/politika/kandidate-kviete-atsivezti-ir-beisbolo-lazdas-ir-dalgius-teisesauga-tiria-raginima-susidoroti-1195262\n",
      "Kandidatė kvietė atsivežti ir beisbolo lazdas, ir dalgius: teisėsauga tiria raginimą susidoroti\n",
      ":::REM:::\n",
      "<a class=\"articles-list-title\" href=\"naujienos/grazi-diena/auskaru-verimo-meistre-g-balevice-apie-grozi-kantrybe-profesionaluma-ir-truputeli-skausmo-1194964\" style=\"font-size: 20px;line-height: 1.2;margin-bottom: 10px;display: inline;\">Auskarų vėrimo meistrė G. Balevičė – apie grožį, kantrybę, profesionalumą ir truputėlį skausmo</a>\n",
      "HREF?\n",
      "naujienos/grazi-diena/auskaru-verimo-meistre-g-balevice-apie-grozi-kantrybe-profesionaluma-ir-truputeli-skausmo-1194964\n",
      "Auskarų vėrimo meistrė G. Balevičė – apie grožį, kantrybę, profesionalumą ir truputėlį skausmo\n",
      ":::REM:::\n",
      "<a class=\"articles-list-title\" href=\"naujienos/lietuva/salies-pulsas/deveta-nereiskia-skurdu-1194060\" style=\"font-size: 16px;line-height: 1.2;margin-bottom: 10px;display: inline;\">Tvari mada: dėvėta nereiškia skurdu</a>\n",
      "HREF?\n",
      "naujienos/lietuva/salies-pulsas/deveta-nereiskia-skurdu-1194060\n",
      "Tvari mada: dėvėta nereiškia skurdu\n",
      ":::REM:::\n",
      "<a class=\"articles-list-title\" href=\"https://www.diena.lt/naujienos/vilnius/miesto-pulsas/avulis-apie-nacionalinio-stadiono-projekta-reikia-dar-truputelio-kantrybes-1195289\" style=\"font-size: 16px;line-height: 1.2;margin-bottom: 10px;display: inline;\">A. Avulis apie Nacionalinio stadiono projektą: reikia dar truputėlio kantrybės</a>\n",
      "HREF?\n",
      "https://www.diena.lt/naujienos/vilnius/miesto-pulsas/avulis-apie-nacionalinio-stadiono-projekta-reikia-dar-truputelio-kantrybes-1195289\n",
      "A. Avulis apie Nacionalinio stadiono projektą: reikia dar truputėlio kantrybės\n",
      ":::REM:::\n",
      "<a class=\"articles-list-title\" href=\"naujienos/kauno-dienos-studija/kauno-dienos-studijoje-20-meti-minincio-kauno-miesto-simfoninio-orkestro-vadovas-1191320\" style=\"font-size: 20px;line-height: 1.2;margin-bottom: 10px;display: inline;\">„Kauno dienos“ studijoje – 20-metį mininčio Kauno miesto simfoninio orkestro vadovas </a>\n",
      "HREF?\n",
      "naujienos/kauno-dienos-studija/kauno-dienos-studijoje-20-meti-minincio-kauno-miesto-simfoninio-orkestro-vadovas-1191320\n",
      "„Kauno dienos“ studijoje – 20-metį mininčio Kauno miesto simfoninio orkestro vadovas \n",
      ":::REM:::\n",
      "<a class=\"articles-list-title\" href=\"naujienos/sportas/krepsinis/kauno-dienos-studijoje-kandidatas-i-lkf-prezidentus-r-javtokas-1190406\" style=\"font-size: 16px;line-height: 1.2;margin-bottom: 10px;display: inline;\">„Kauno dienos“ studijoje – kandidatas į LKF prezidentus R. Javtokas</a>\n",
      "HREF?\n",
      "naujienos/sportas/krepsinis/kauno-dienos-studijoje-kandidatas-i-lkf-prezidentus-r-javtokas-1190406\n",
      "„Kauno dienos“ studijoje – kandidatas į LKF prezidentus R. Javtokas\n",
      ":::REM:::\n",
      "<a class=\"articles-list-title\" href=\"naujienos/vilnius/miesto-pulsas/avulis-apie-nacionalinio-stadiono-projekta-reikia-dar-truputelio-kantrybes-1195289\" style=\"font-size: 20px;line-height: 1.2;margin-bottom: 10px;display: inline;\">A. Avulis apie Nacionalinio stadiono projektą: reikia dar truputėlio kantrybės</a>\n",
      "HREF?\n",
      "naujienos/vilnius/miesto-pulsas/avulis-apie-nacionalinio-stadiono-projekta-reikia-dar-truputelio-kantrybes-1195289\n",
      "A. Avulis apie Nacionalinio stadiono projektą: reikia dar truputėlio kantrybės\n",
      ":::REM:::\n",
      "<a class=\"articles-list-title\" href=\"naujienos/laisvalaikis-ir-kultura/kultura/kulturos-ministerijoje-pasirasomas-susitarimas-del-kulturos-inovaciju-skatinimo-1195170\" style=\"font-size: 16px;line-height: 1.2;margin-bottom: 10px;display: inline;\">Kultūros ministerijoje pasirašomas susitarimas dėl kultūros inovacijų skatinimo</a>\n",
      "HREF?\n",
      "naujienos/laisvalaikis-ir-kultura/kultura/kulturos-ministerijoje-pasirasomas-susitarimas-del-kulturos-inovaciju-skatinimo-1195170\n",
      "Kultūros ministerijoje pasirašomas susitarimas dėl kultūros inovacijų skatinimo\n",
      ":::REM:::\n",
      "<a class=\"articles-list-title\" href=\"naujienos/pasaulis/konfliktai-nelaimes/stebetojai-baltarusijoje-nusileido-du-rusu-orlaiviai-galintys-nesti-raketas-kinzal-1195279\" style=\"font-size: 20px;line-height: 1.2;margin-bottom: 10px;display: inline;\">Stebėtojai: Baltarusijoje nusileido du rusų orlaiviai, galintys nešti raketas „Kinžal“</a>\n",
      "HREF?\n",
      "naujienos/pasaulis/konfliktai-nelaimes/stebetojai-baltarusijoje-nusileido-du-rusu-orlaiviai-galintys-nesti-raketas-kinzal-1195279\n",
      "Stebėtojai: Baltarusijoje nusileido du rusų orlaiviai, galintys nešti raketas „Kinžal“\n",
      ":::REM:::\n",
      "<a class=\"articles-list-title\" href=\"naujienos/pasaulis/ekonomika-ir-politika/ukrainos-parlamentas-pritare-istoriniam-mokesciu-didinimui-1195263\" style=\"font-size: 16px;line-height: 1.2;margin-bottom: 10px;display: inline;\">Ukrainos parlamentas pritarė „istoriniam“ mokesčių didinimui</a>\n",
      "HREF?\n",
      "naujienos/pasaulis/ekonomika-ir-politika/ukrainos-parlamentas-pritare-istoriniam-mokesciu-didinimui-1195263\n",
      "Ukrainos parlamentas pritarė „istoriniam“ mokesčių didinimui\n",
      ":::REM:::\n",
      "<a class=\"articles-list-title\" href=\"naujienos/sportas/krepsinis/zalgirieciu-ieskojimu-kelyje-olympiakos-1195192\" style=\"font-size: 20px;line-height: 1.2;margin-bottom: 10px;display: inline;\">Žalgiriečių ieškojimų kelyje – „Olympiakos“</a>\n",
      "HREF?\n",
      "naujienos/sportas/krepsinis/zalgirieciu-ieskojimu-kelyje-olympiakos-1195192\n",
      "Žalgiriečių ieškojimų kelyje – „Olympiakos“\n",
      ":::REM:::\n",
      "<a class=\"articles-list-title\" href=\"naujienos/sportas/kitos-sporto-sakos/amerikietisku-kalneliu-citadele-kmt-mace-uteniskiai-palauze-svecius-kedainiu-1195152\" style=\"font-size: 16px;line-height: 1.2;margin-bottom: 10px;display: inline;\">Amerikietiškų kalnelių Citadele KMT mače uteniškiai palaužė svečius iš Kėdainių</a>\n",
      "HREF?\n",
      "naujienos/sportas/kitos-sporto-sakos/amerikietisku-kalneliu-citadele-kmt-mace-uteniskiai-palauze-svecius-kedainiu-1195152\n",
      "Amerikietiškų kalnelių Citadele KMT mače uteniškiai palaužė svečius iš Kėdainių\n",
      ":::REM:::\n",
      "<a class=\"articles-list-title\" href=\"naujienos/vilnius/nusikaltimai-ir-nelaimes/del-advokato-mirties-sukresti-kolegos-noretume-zinoti-ar-pareigunai-tinkamai-vykde-savo-misija-1195286\" style=\"font-size: 20px;line-height: 1.2;margin-bottom: 10px;display: inline;\">Dėl advokato mirties sukrėsti kolegos: norėtume žinoti, ar pareigūnai tinkamai vykdė savo misiją</a>\n",
      "HREF?\n",
      "naujienos/vilnius/nusikaltimai-ir-nelaimes/del-advokato-mirties-sukresti-kolegos-noretume-zinoti-ar-pareigunai-tinkamai-vykde-savo-misija-1195286\n",
      "Dėl advokato mirties sukrėsti kolegos: norėtume žinoti, ar pareigūnai tinkamai vykdė savo misiją\n",
      ":::REM:::\n",
      "<a class=\"articles-list-title\" href=\"naujienos/vilnius/nusikaltimai-ir-nelaimes/saudyniu-vilniuje-epicentre-atsidures-rezisierius-zmones-mane-eme-tempti-i-kavine-1195255\" style=\"font-size: 16px;line-height: 1.2;margin-bottom: 10px;display: inline;\">Šaudynių Vilniuje epicentre atsidūręs režisierius: žmonės mane ėmė tempti į kavinę</a>\n",
      "HREF?\n",
      "naujienos/vilnius/nusikaltimai-ir-nelaimes/saudyniu-vilniuje-epicentre-atsidures-rezisierius-zmones-mane-eme-tempti-i-kavine-1195255\n",
      "Šaudynių Vilniuje epicentre atsidūręs režisierius: žmonės mane ėmė tempti į kavinę\n",
      ":::REM:::\n",
      "<a class=\"articles-list-title\" href=\"naujienos/laisvalaikis-ir-kultura/zvaigzdes-ir-pramogos/sokiruojanti-tiesa-atskleista-m-jacksono-seksualinio-gyvenimo-paslaptis-1195244\" style=\"font-size: 20px;line-height: 1.2;margin-bottom: 10px;display: inline;\">Šokiruojanti tiesa: atskleista M. Jacksono seksualinio gyvenimo paslaptis</a>\n",
      "HREF?\n",
      "naujienos/laisvalaikis-ir-kultura/zvaigzdes-ir-pramogos/sokiruojanti-tiesa-atskleista-m-jacksono-seksualinio-gyvenimo-paslaptis-1195244\n",
      "Šokiruojanti tiesa: atskleista M. Jacksono seksualinio gyvenimo paslaptis\n",
      ":::REM:::\n",
      "<a class=\"articles-list-title\" href=\"naujienos/laisvalaikis-ir-kultura/zvaigzdes-ir-pramogos/atskleide-siurpia-tiesa-e-preslio-dukra-du-menesius-namuose-laike-mirusio-sunaus-kuna-1195231\" style=\"font-size: 16px;line-height: 1.2;margin-bottom: 10px;display: inline;\">Atskleidė šiurpią tiesą: E. Preslio dukra du mėnesius namuose laikė mirusio sūnaus kūną</a>\n",
      "HREF?\n",
      "naujienos/laisvalaikis-ir-kultura/zvaigzdes-ir-pramogos/atskleide-siurpia-tiesa-e-preslio-dukra-du-menesius-namuose-laike-mirusio-sunaus-kuna-1195231\n",
      "Atskleidė šiurpią tiesą: E. Preslio dukra du mėnesius namuose laikė mirusio sūnaus kūną\n",
      ":::REM:::\n",
      "<a class=\"articles-list-title\" href=\"naujienos/ivairenybes/horoskopai/dienos-horoskopas-12-zodiako-zenklu-spalio-10-d-1195139\" style=\"font-size: 20px;line-height: 1.2;margin-bottom: 10px;display: inline;\">Dienos horoskopas 12 Zodiako ženklų <span style=\"color:red;\">(spalio 10 d.)</span></a>\n",
      "HREF?\n",
      "naujienos/ivairenybes/horoskopai/dienos-horoskopas-12-zodiako-zenklu-spalio-10-d-1195139\n",
      "Dienos horoskopas 12 Zodiako ženklų (spalio 10 d.)\n",
      ":::REM:::\n",
      "<a class=\"articles-list-title\" href=\"naujienos/pasaulis/ekonomika-ir-politika/nobelio-chemijos-premija-pasidalijo-jav-ir-jk-mokslininkai-1195066\" style=\"font-size: 16px;line-height: 1.2;margin-bottom: 10px;display: inline;\">Nobelio chemijos premiją pasidalijo JAV ir JK mokslininkai</a>\n",
      "HREF?\n",
      "naujienos/pasaulis/ekonomika-ir-politika/nobelio-chemijos-premija-pasidalijo-jav-ir-jk-mokslininkai-1195066\n",
      "Nobelio chemijos premiją pasidalijo JAV ir JK mokslininkai\n"
     ]
    }
   ],
   "source": [
    "for s in straipsniai:\n",
    "    i = s.find('div', {'class':'articles-list-title-wrapper'})\n",
    "    if i is not None:\n",
    "        t = i.find('a', {'class':'articles-list-title'})\n",
    "        print(':::REM:::')\n",
    "        print(t)\n",
    "        print('HREF?')\n",
    "        print(t['href'])\n",
    "        print(t.text)"
   ]
  },
  {
   "cell_type": "code",
   "execution_count": 15,
   "metadata": {},
   "outputs": [],
   "source": [
    "url = 'https://kauno.diena.lt/naujienos/kaunas/miesto-pulsas/v-matijosaitis-miestas-nesustojo-tik-paciu-kaunieciu-deka-1195275'\n",
    "\n",
    "page = requests.get(url)\n",
    "\n",
    "source = page.content\n",
    "\n",
    "bs = BeautifulSoup(source, 'html.parser')\n",
    "# print(bs)"
   ]
  },
  {
   "cell_type": "code",
   "execution_count": 16,
   "metadata": {},
   "outputs": [
    {
     "name": "stdout",
     "output_type": "stream",
     "text": [
      "1\n"
     ]
    }
   ],
   "source": [
    "straipsniai = bs.find_all('span', {'itemprop':'articleBody'})\n",
    "print(len(straipsniai))"
   ]
  },
  {
   "cell_type": "code",
   "execution_count": 17,
   "metadata": {},
   "outputs": [
    {
     "data": {
      "text/plain": [
       "'– Devyneri su puse metų – greitai minėsite dešimtmečio sukaktį. Dar užpernai pasiekėte rekordą, būdamas ilgiausiai dirbančiu Kauno meru per nepriklausomybės laikotarpį. Ką jums tai reiškia?\\n– Nesureikšminu tų skaičių ir rekordų, bet viena žinau, kad pats nebejaunėju. Gal dėl to ir norisi dar daug ką suspėti. Atrodo, nuveikta tikrai nemažai, bet kai pažiūriu, kiek visko priplanuota... Esu ramus, kad ateičiai nemažai projektų jau paruošta, kiti – rengimo stadijoje. Idėjų mūsų komandai niekada netrūko – reikia tik užtektinai finansų ir šiek tiek laiko joms įgyvendinti. Gal dar kokių dešimties metų (juokiasi)...\\n– Jūs šypsotės, bet daugelis išties norėtų sužinoti, kiek dar turite ambicijų tęsti darbus Kauno mero poste?\\n– Čia vienas dažnesnių klausimų, į kurį atsakymo pats sau neturiu. Tai niekada nebuvo mano asmeninė ambicija. Turėjau tik labai konkretų norą – sutvarkyti, pakeisti miestą. Pamenu, kažkada išvis galvojau neiti į šitas pareigas, po rinkimų 2015-aisiais domėjausi, kaip galėčiau jų atsisakyti.\\nVėliau atradom gerą ryšį su tuomet buvusia Vyriausybe – pajaučiau, kad Kaunas sulaukia dėmesio ir palaikymo iš šalies valdžios. Bet čia kalbu apie 2016–2020 metų kadenciją, kuomet vadovavo Saulius Skvernelis su savo ministrų kabinetu. Paprastai tariant, su Kaunu tuomet tikrai skaitėsi.\\n\\n\\nPaskiau atėjo dabartiniai valdantieji ir supratau, jog situacija keičiasi – į mūsų pusę jie nebežiūri, jokios pagarbos Kaunui. Paėmė azartas nenumesti visko, bet pakovot už savo miestą. Dabar galiu pasakyti, kad buvo verta. Nors iš nueinančios Vyriausybės Kaunas didesniems projektams negavo beveik nieko, bet suvaldėm situaciją – miestas nesustojo. Visa tai yra pačių kauniečių dėka.\\n\\nTurėjau tik labai konkretų norą – sutvarkyti, pakeisti miestą.\\n\\nJeigu ne tas iki tol įgytas pagreitis, verslų plėtra, valdžia mums būtų „užtraukusi“ rankinį stabdį. Tikiuosi, greitai situacija pasikeis ir mes tiesime naujus tiltus ne tik per upes, bet ir perkeltine prasme.\\n– Atrodo, kad ir šis ruduo Kaunui – gana derlingas: pirmosios įkurtuvės Inovacijų parke „ALEX“, startavo dar vieno tilto statybos, ruošiatės „Mokslo salos“ muziejaus atidarymui. Turite kuo pasidžiaugti?\\n– Yra nemažai gražių progų... Dabar tiltų statymo metai – porą statom, trečią baigiam projektuoti, jau startavom ir su viaduko statybomis. Kyla du baseinai, Romainiuose matosi naujo vaikų darželio pamatai, toliau atnaujinami parkai, kitos žalios erdvės, tvarkoma susisiekimo infrastruktūra.\\nBet geriausia džiaugtis ir švęsti ne darbų pradžią, o pabaigtuves, kai žmonės gali matyti apčiuopiamą rezultatą. Tokių vien šiemet irgi turim užtektinai: daugelis jau spėjo pasigėrėti atgijusiu Dainų slėniu, dabar artėja „Mokslo salos“ atidarymas, atversim ir Lengvosios atletikos maniežą. Toliau ruošiamės Čiurlionio koncertų centro statyboms, projektuojame nemažai išskirtinių sporto ir laisvalaikio objektų.\\n– Opozicijos atstovai tikriausiai vėl pasikartotų, kad tokio proveržio priežastis – smarkiai išaugęs miesto biudžetas?\\n– Tegul jie kalba, ką nori. Aš galiu tik paklausti, kodėl jie neaugino ir išvis nemylėjo Kauno iki man ateinant? Miesto biudžeto surinkimas – irgi reikalauja daug darbo. Jis didžiąja dalimi susideda iš gyventojų pajamų mokesčio. Todėl reikia stipriai pasistengti, kad verslai stiprėtų, žmonės turėtų gerai apmokamas darbo vietas ir pačių gyventojų kiekis mieste augtų.\\nPanašu, kad šituos procesus užkūrėm ir jie važiuoja. Miestas tapo patogesnis, tvarkingesnis, patrauklesnis tiek studentams, tiek ir čia besikuriančioms jaunoms šeimoms.\\nNereikia toli žvalgytis – vien praėjusią savaitę turėjome kelis puikius pavyzdžius: „Antėja“ Kaune atidarė didžiausią Baltijos šalyse medicininių tyrimų laboratoriją, SBA pristatė ketvirčio milijardo investicijas „Nemunaičiuose“, Aleksoto inovacijų parke turime pirmąją besikuriančią kompaniją su 50 milijonų privataus kapitalo krepšeliu. Va tai aš turiu galvoje, kai sakau, kad miestas kauniečių dėka nestabdo. Net ir be Vyriausybės dėmesio.\\n– Pradėdamas eiti mero pareigas vis kalbėdavote, kad reikia nebijoti džiazuoti ir išlaisvinti fantaziją. Kaip manote, ar jums tai pavyko?\\n– Geriausiai apie viską pasako padaryti darbai. Būtų neteisinga pačiam vertinti, nes tai yra darbas, kurį man patikėjo kauniečiai. Žmonės mato ir turi savo nuomones apie tai, kaip keičiasi miestas. Jų gali būti įvairių, bet iš šono nesunku matyti, kad dauguma džiaugiasi.\\nBaseinas prie „Žalgirio“ arenos – pilnutėlis, Sporto halė – gyva, Ąžuolynas – išgražėjęs. Stadionas muša koncertų lankomumo rekordus ir tikiu, kad pamažu užaugins rezultatus bei palaikymo kultūrą futbole, kaip tą padarė „Žalgirio“ krepšinio klubas su sausakimša arena. Rotušė irgi tapo muziejaus verta erdve.\\nKiekvienu atveju su komanda dėta daug pastangų, būta ir nemažai ginčų, netgi karštų momentų. Bet viskas dėl bendro tikslo, nes mes visi esame kauniečiai.\\nŽinau, kad per praėjusius Seimo rinkimus pasitaikė nemažai „ateivių“: didesnė dalis Kaune išrinktų vienmandatininkų buvo ne Kauno gyventojai. Turbūt tokių atsiras ir dabar. Nenoriu čia nei kritikuoti, nei agituoti, bet aš pats sau išvadas jau seniai esu pasidaręs.\\n'"
      ]
     },
     "execution_count": 17,
     "metadata": {},
     "output_type": "execute_result"
    }
   ],
   "source": [
    "straipsniai[0].text"
   ]
  },
  {
   "cell_type": "code",
   "execution_count": null,
   "metadata": {},
   "outputs": [],
   "source": [
    "for s in straipsniai:\n",
    "    i = s.find('div', {'class':'articles-list-title-wrapper'})\n",
    "    if i is not None:\n",
    "        t = i.find('a', {'class':'articles-list-title'})\n",
    "        print(':::REM:::')\n",
    "        print(t)\n",
    "        print('HREF?')\n",
    "        print(t['href'])\n",
    "        print(t.text)"
   ]
  },
  {
   "cell_type": "code",
   "execution_count": 19,
   "metadata": {},
   "outputs": [
    {
     "name": "stdout",
     "output_type": "stream",
     "text": [
      "29\n",
      "['V. Matijošaitis: miestas nesustojo tik pačių kauniečių dėka', 'Širdį glostanti eilė: kauniečiai nori spėti iš anksto balsuoti Seimo rinkimuose', 'Lietuvis ir rusė bus teisiami už tai, kad pelnėsi iš kitų asmenų prostitucijos', 'Penktadienį Kaune pradedamas šildymo sezonas', 'Jonavos pareigūnams su įkalčiais įkliuvo kontrabandininkas', 'Veiksmas Partizanų gatvėje: pareigūnai šturmavo automobilį, sulaikytas vyras', 'Darbdavio magija: kas darbuotoją skatina įsitraukti ir augti?', 'Akibrokštas privačiai greitajai pagalbai: 50 įdarbintų žmonių valstybei neįdomu?', 'O dabar pakalbėkime apie… nieką', 'Vilniaus rajone už daugiau nei 835 tūkst. eurų bus modernizuojamos sveikatos centro paslaugos', 'Po vizito į kirpyklą – sumaištis: galvojau, jog esu skerdykloje', 'Kandidatė kvietė atsivežti ir beisbolo lazdas, ir dalgius: teisėsauga tiria raginimą susidoroti', 'Auskarų vėrimo meistrė G. Balevičė – apie grožį, kantrybę, profesionalumą ir truputėlį skausmo', 'Tvari mada: dėvėta nereiškia skurdu', 'A. Avulis apie Nacionalinio stadiono projektą: reikia dar truputėlio kantrybės', '„Kauno dienos“ studijoje – 20-metį mininčio Kauno miesto simfoninio orkestro vadovas ', '„Kauno dienos“ studijoje – kandidatas į LKF prezidentus R. Javtokas', 'A. Avulis apie Nacionalinio stadiono projektą: reikia dar truputėlio kantrybės', 'Kultūros ministerijoje pasirašomas susitarimas dėl kultūros inovacijų skatinimo', 'Lenkijos premjeras kaltina A. Dudą trukdant ambasadorių paskyrimo procesui', 'Stebėtojai: Baltarusijoje nusileido du rusų orlaiviai, galintys nešti raketas „Kinžal“', 'Žalgiriečių ieškojimų kelyje – „Olympiakos“', 'Amerikietiškų kalnelių Citadele KMT mače uteniškiai palaužė svečius iš Kėdainių', 'Dėl advokato mirties sukrėsti kolegos: norėtume žinoti, ar pareigūnai tinkamai vykdė savo misiją', 'Šaudynių Vilniuje epicentre atsidūręs režisierius: žmonės mane ėmė tempti į kavinę', 'Teismas atmetė asociacijos ir S. Nėries anūkės skundą dėl sprendimo nuimti poetės paminklą', 'Rašytojui D. Dirgėlai skirta Neringos savivaldybės stipendija', 'Dienos horoskopas 12 Zodiako ženklų (spalio 10 d.)', 'Nobelio chemijos premiją pasidalijo JAV ir JK mokslininkai']\n",
      "29\n",
      "['naujienos/kaunas/miesto-pulsas/v-matijosaitis-miestas-nesustojo-tik-paciu-kaunieciu-deka-1195275', 'naujienos/kaunas/miesto-pulsas/sirdi-glostanti-eile-kaunieciai-nori-speti-anksto-balsuoti-seimo-rinkimuose-1195301', 'naujienos/kriminalai/nusikaltimai/lietuvis-ir-ruse-bus-teisiami-uz-tai-kad-pelnesi-kitu-asmenu-prostitucijos-1195248', 'naujienos/kaunas/miesto-pulsas/penktadieni-kaune-pradedamas-sildymo-sezonas-1195208', 'naujienos/kaunas/nusikaltimai-ir-nelaimes/jonavos-pareigunams-su-ikalciais-ikliuvo-kontrabandininkas-1195177', 'naujienos/kaunas/nusikaltimai-ir-nelaimes/veiksmas-partizanu-gatveje-pareigunai-sturmavo-automobili-sulaikytas-vyras-1194672', 'naujienos/verslas/ekonomika/darbdavio-magija-kas-darbuotoja-skatina-isitraukti-ir-augti-1182991', 'naujienos/lietuva/salies-pulsas/akibrokstas-privaciai-greitajai-pagalbai-viskas-vyksta-pagal-sutarti-1194484', 'naujienos/sveikata/psichologija/o-dabar-pakalbekime-apie-nieka-1194950', 'naujienos/sveikata/sveikata/vilniaus-rajone-uz-daugiau-nei-835-tukst-euru-bus-modernizuojamos-sveikatos-centro-paslaugos-1195217', 'naujienos/klaipeda/miesto-pulsas/po-vizito-i-kirpykla-sumaistis-1195220', 'naujienos/lietuva/politika/kandidate-kviete-atsivezti-ir-beisbolo-lazdas-ir-dalgius-teisesauga-tiria-raginima-susidoroti-1195262', 'naujienos/grazi-diena/auskaru-verimo-meistre-g-balevice-apie-grozi-kantrybe-profesionaluma-ir-truputeli-skausmo-1194964', 'naujienos/lietuva/salies-pulsas/deveta-nereiskia-skurdu-1194060', 'https://www.diena.lt/naujienos/vilnius/miesto-pulsas/avulis-apie-nacionalinio-stadiono-projekta-reikia-dar-truputelio-kantrybes-1195289', 'naujienos/kauno-dienos-studija/kauno-dienos-studijoje-20-meti-minincio-kauno-miesto-simfoninio-orkestro-vadovas-1191320', 'naujienos/sportas/krepsinis/kauno-dienos-studijoje-kandidatas-i-lkf-prezidentus-r-javtokas-1190406', 'naujienos/vilnius/miesto-pulsas/avulis-apie-nacionalinio-stadiono-projekta-reikia-dar-truputelio-kantrybes-1195289', 'naujienos/laisvalaikis-ir-kultura/kultura/kulturos-ministerijoje-pasirasomas-susitarimas-del-kulturos-inovaciju-skatinimo-1195170', 'naujienos/pasaulis/ekonomika-ir-politika/lenkijos-premjeras-kaltina-duda-trukdant-ambasadoriu-paskyrimo-procesui-1195299', 'naujienos/pasaulis/konfliktai-nelaimes/stebetojai-baltarusijoje-nusileido-du-rusu-orlaiviai-galintys-nesti-raketas-kinzal-1195279', 'naujienos/sportas/krepsinis/zalgirieciu-ieskojimu-kelyje-olympiakos-1195192', 'naujienos/sportas/kitos-sporto-sakos/amerikietisku-kalneliu-citadele-kmt-mace-uteniskiai-palauze-svecius-kedainiu-1195152', 'naujienos/vilnius/nusikaltimai-ir-nelaimes/del-advokato-mirties-sukresti-kolegos-noretume-zinoti-ar-pareigunai-tinkamai-vykde-savo-misija-1195286', 'naujienos/vilnius/nusikaltimai-ir-nelaimes/saudyniu-vilniuje-epicentre-atsidures-rezisierius-zmones-mane-eme-tempti-i-kavine-1195255', 'naujienos/vilnius/miesto-pulsas/teismas-atmete-asociacijos-ir-s-neries-anukes-skunda-del-sprendimo-nuimti-poetes-paminkla-1195247', 'naujienos/laisvalaikis-ir-kultura/kultura/rasytojui-d-dirgelai-skirta-neringos-savivaldybes-stipendija-1195232', 'naujienos/ivairenybes/horoskopai/dienos-horoskopas-12-zodiako-zenklu-spalio-10-d-1195139', 'naujienos/pasaulis/ekonomika-ir-politika/nobelio-chemijos-premija-pasidalijo-jav-ir-jk-mokslininkai-1195066']\n"
     ]
    }
   ],
   "source": [
    "# Surinkite visus straipsnių pavadinimus ir nuorodas į pačius straipsnius iš Kauno  diena puslapio.\n",
    "# Suraskite vidutinį straipsnių pavadinimuose esančių žodžių skaičių.\n",
    "# Atvaizduoikite grafiškai straipsnių kiekį VS žodžių kiekis pavadinime.\n",
    "# Suraskite ilgiausią pavadinimą, nueikite į tą straipsnį,\n",
    "# suraskite 5kis dažniausiai pasikartojančius žodžius, iliustruokite grafiškai.\n",
    "# Suskaičiuokite, kiek vidutiniškai turi žodžių straipsniai, esantys Kauno dienoje.\n",
    "\n",
    "\n",
    "# Papildymas užduoties: \n",
    "# # atlikite tą patį su delfi.lt, palyginkite tarpusavyje kauno dieną ir delfi.lt, palyginimus\n",
    "# # atlikite pateikdami grafikus.\n",
    "\n",
    "# https://scrapeops.io/python-web-scraping-playbook/python-beautifulsoup-findall/\n",
    "\n",
    "url = 'https://kauno.diena.lt/'\n",
    "\n",
    "page = requests.get(url)\n",
    "\n",
    "source = page.content\n",
    "\n",
    "bs = BeautifulSoup(source, 'html.parser')\n",
    "# print(bs)\n",
    "nuorodos = []\n",
    "pavadinimai = []\n",
    "straipsniai = bs.find_all('div', {'category-block-row grid-12 alpha omega unscore'})\n",
    "for s in straipsniai:\n",
    "    i = s.find('div', {'class':'articles-list-title-wrapper'})\n",
    "    if i is not None:\n",
    "        t = i.find('a', {'class':'articles-list-title'})\n",
    "        pavadinimai.append(t.text)\n",
    "        nuorodos.append(t['href'])\n",
    "        # print(':::REM:::')\n",
    "        # print(t)\n",
    "        # print('HREF?')\n",
    "        # print(t['href'])\n",
    "        # print(t.text)\n",
    "\n",
    "print(len(pavadinimai))\n",
    "print(pavadinimai)\n",
    "print(len(nuorodos))\n",
    "print(nuorodos)"
   ]
  },
  {
   "cell_type": "code",
   "execution_count": 21,
   "metadata": {},
   "outputs": [
    {
     "name": "stdout",
     "output_type": "stream",
     "text": [
      "vidutinis zodziu kiekis pavadinimuose: 9.275862068965518\n"
     ]
    }
   ],
   "source": [
    "# Suraskite vidutinį straipsnių pavadinimuose esančių žodžių skaičių.\n",
    "zodziu_kiekiai = []\n",
    "for pav in pavadinimai:\n",
    "    kiekis =len(pav.split())\n",
    "    zodziu_kiekiai.append(kiekis)\n",
    "    \n",
    "vidutinis_zodziu_kiekis = sum(zodziu_kiekiai) / len(zodziu_kiekiai)\n",
    "print(f'vidutinis zodziu kiekis pavadinimuose: {vidutinis_zodziu_kiekis}')\n"
   ]
  },
  {
   "cell_type": "code",
   "execution_count": 35,
   "metadata": {},
   "outputs": [
    {
     "name": "stdout",
     "output_type": "stream",
     "text": [
      "{5: 4, 6: 1, 7: 1, 8: 6, 9: 2, 10: 6, 11: 3, 12: 1, 13: 5}\n",
      "29\n"
     ]
    },
    {
     "data": {
      "image/png": "[encoded data removed]",
      "text/plain": [
       "<Figure size 800x450 with 1 Axes>"
      ]
     },
     "metadata": {},
     "output_type": "display_data"
    }
   ],
   "source": [
    "# Atvaizduoikite grafiškai straipsnių kiekį VS žodžių kiekis pavadinime.\n",
    "\n",
    "# from collections import Counter\n",
    "\n",
    "# sample_list = [1,4,2,6,3,4,8,2,9,2,7,0]\n",
    "# print(Counter(sample_list))\n",
    "\n",
    "kiekiai_dict = {}\n",
    "for k in (list(set(zodziu_kiekiai))):\n",
    "    kiekiai_dict[k] = 0\n",
    "\n",
    "\n",
    "for k in kiekiai_dict.keys():\n",
    "    c = zodziu_kiekiai.count(k)\n",
    "    kiekiai_dict[k] = c\n",
    "    \n",
    "print(kiekiai_dict)\n",
    "print(sum(kiekiai_dict.values()))\n",
    "\n",
    "x_asis = list(kiekiai_dict.keys())\n",
    "\n",
    "fig, ax = plt.subplots(figsize=(8, 4.5))\n",
    "\n",
    "B = ax.bar(kiekiai_dict.keys(), kiekiai_dict.values())\n",
    "ax.bar_label(B)\n",
    "ax.set_xticks(x_asis)\n",
    "ax.set_xlabel('zodziu kiekiai pavadinimuose')\n",
    "ax.set_ylabel('pasikartojimai')\n",
    "\n",
    "plt.show()"
   ]
  },
  {
   "cell_type": "code",
   "execution_count": 41,
   "metadata": {},
   "outputs": [
    {
     "name": "stdout",
     "output_type": "stream",
     "text": [
      "2\n",
      "Lietuvis ir rusė bus teisiami už tai, kad pelnėsi iš kitų asmenų prostitucijos\n",
      "naujienos/kriminalai/nusikaltimai/lietuvis-ir-ruse-bus-teisiami-uz-tai-kad-pelnesi-kitu-asmenu-prostitucijos-1195248\n"
     ]
    }
   ],
   "source": [
    "# Suraskite ilgiausią pavadinimą, nueikite į tą straipsnį,\n",
    "# suraskite 5kis dažniausiai pasikartojančius žodžius, iliustruokite grafiškai.\n",
    "\n",
    "idx = (zodziu_kiekiai.index(max(zodziu_kiekiai)))\n",
    "print(idx)\n",
    "print(pavadinimai[idx])\n",
    "print(nuorodos[idx])\n",
    "max_zodziu_straipsnis = nuorodos[idx]"
   ]
  },
  {
   "cell_type": "code",
   "execution_count": 82,
   "metadata": {},
   "outputs": [
    {
     "name": "stdout",
     "output_type": "stream",
     "text": [
      "https://kauno.diena.lt/naujienos/kriminalai/nusikaltimai/lietuvis-ir-ruse-bus-teisiami-uz-tai-kad-pelnesi-kitu-asmenu-prostitucijos-1195248\n",
      "267\n"
     ]
    }
   ],
   "source": [
    "url2 = f'https://kauno.diena.lt/{max_zodziu_straipsnis}'\n",
    "print(url2)\n",
    "\n",
    "page = requests.get(url)\n",
    "\n",
    "source = page.content\n",
    "\n",
    "bs2 = BeautifulSoup(source, 'html.parser')\n",
    "# print(bs)\n",
    "tekstas = ''\n",
    "\n",
    "pastraipos = bs2.find_all('span', {'itemprop':'articleBody'})\n",
    "# print(len(pastraipos))\n",
    "# print(pastraipos)\n",
    "for p in pastraipos:\n",
    "    if p is not None:\n",
    "        tekstas = tekstas + ' ' + p.text\n",
    "    \n",
    "print(len(tekstas.split()))\n",
    "\n",
    "\n",
    "\n"
   ]
  },
  {
   "cell_type": "code",
   "execution_count": 77,
   "metadata": {},
   "outputs": [
    {
     "name": "stdout",
     "output_type": "stream",
     "text": [
      "1\n",
      "Baudžiamosios bylos duomenimis, nuo 2022 metų pavasario iki 2023-iųjų sausio pabaigos, Lietuvos didžiuosiuose miestuose veikė neįvardijamo organizatoriaus sukurtas prostitucijos tinklas. Organizatorius pats arba per tarpininkus, įtariama, surasdavo merginas, sutinkančias teikti seksualines paslaugas už atlygį, patalpas veiklai vykdyti, keldavo skelbimus internete apie teikiamas paslaugas.\n",
      "Tyrimo metu nustatyta, kad kaltinamoji, turėdama tikslą gauti turtinės naudos, prisijungė prie organizuotos grupės, kurioje buvo pelnomasi iš kitų asmenų prostitucijos. Manoma, kad moteris atskirais atvejais tardavosi dėl butų nuomos seksualinių paslaugų teikimui, mokėdavo už patalpų nuomą pinigais, gautais už merginų teikiamas seksualines paslaugas.\n",
      "Kaip įtariama, kaltinamoji tam tikrais atvejais apmokėdavo ir internetinių skelbimų įkėlimą bei iš merginų, teikiančių seksualines paslaugas, organizatoriaus pavedimu, rinko 50 proc. pajamų, gaunamų iš prostitucijos.\n",
      "Nustatyta, kad moteris pinigus dalimis perduodavo nurodytiems asmenims, dalį pinigų pasilikdavo už savo atliekamas funkcijas. Kaip įtariama, užsienietė gavo ne mažesnes kaip 25 tūkst. 500 eurų pajamas.\n",
      "Atliekant ikiteisminį tyrimą nustatyta, kad iš kitų asmenų prostitucijos pelnėsi ir Lietuvos gyventojas.\n",
      "Kaip įtariama, kaltinamasis turėjo atlikti prostitucijos paslaugas teikiančių merginų apsaugos funkcijas ir spręsti kylančias konfliktines situacijas su klientais. Atskirais atvejais vyras apmokėdavo internetinius skelbimus dėl seksualinių paslaugų teikimo. Nustatyta, kad penkis kartus teistas lietuvis, dalyvaudamas prostitucijos tinklo veikloje, atlikdamas organizatoriaus numatytas funkcijas, įgijo ne mažesnes kaip 91 tūkst. 500 eurų pajamas.\n",
      "Baudžiamajame kodekse numatyta, kad tas, kas organizavo ar vadovavo prostitucijai arba gabeno asmenį šio sutikimu prostitucijai į Lietuvą ar iš Lietuvos, baudžiamas laisvės atėmimu iki šešerių metų.\n",
      "Baudžiamoji byla perduota nagrinėti Kauno apylinkės teismo Kauno rūmams.\n",
      "Ikiteisminiam tyrimui vadovavo Kauno apygardos prokuratūros Organizuotų nusikaltimų ir korupcijos tyrimo skyriaus prokurorė. Tyrimą atliko Kauno apskrities vyriausiojo policijos komisariato Kriminalinės policijos organizuoto nusikalstamumo tyrimo valdybos pareigūnai.\n",
      "\n"
     ]
    }
   ],
   "source": [
    "url = \"https://kauno.diena.lt/naujienos/kriminalai/nusikaltimai/lietuvis-ir-ruse-bus-teisiami-uz-tai-kad-pelnesi-kitu-asmenu-prostitucijos-1195248\"\n",
    "\n",
    "page = requests.get(url)\n",
    "source = page.content\n",
    "\n",
    "bs = BeautifulSoup(source, 'html.parser')\n",
    "straipsniai = bs.find_all('span', {'itemprop':'articleBody'})\n",
    "print(len(straipsniai))\n",
    "print(straipsniai[0].text)"
   ]
  }
 ],
 "metadata": {
  "kernelspec": {
   "display_name": "Python 3",
   "language": "python",
   "name": "python3"
  },
  "language_info": {
   "codemirror_mode": {
    "name": "ipython",
    "version": 3
   },
   "file_extension": ".py",
   "mimetype": "text/x-python",
   "name": "python",
   "nbconvert_exporter": "python",
   "pygments_lexer": "ipython3",
   "version": "3.12.4"
  }
 },
 "nbformat": 4,
 "nbformat_minor": 2
}
