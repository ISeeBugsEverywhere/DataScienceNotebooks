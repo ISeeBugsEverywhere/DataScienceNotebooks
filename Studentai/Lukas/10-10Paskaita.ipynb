{
 "cells": [
  {
   "cell_type": "code",
   "execution_count": 1,
   "metadata": {},
   "outputs": [],
   "source": [
    "import numpy as np\n",
    "import pandas as pd\n",
    "import matplotlib.pyplot as plt\n",
    "import warnings\n",
    "warnings.filterwarnings('ignore')\n",
    "import seaborn as sns\n",
    "# import sqlite3\n",
    "# import mysql.connector as cnt\n",
    "# import plotly.express as px \n",
    "import requests\n",
    "import selenium\n",
    "\n",
    "from bs4 import BeautifulSoup"
   ]
  },
  {
   "cell_type": "code",
   "execution_count": 5,
   "metadata": {},
   "outputs": [],
   "source": [
    "url = 'https://kauno.diena.lt/'\n",
    "\n",
    "page = requests.get(url)\n",
    "\n",
    "source = page.content\n",
    "\n",
    "bs = BeautifulSoup(source, 'html.parser')\n",
    "# print(bs)\n",
    "\n"
   ]
  },
  {
   "cell_type": "code",
   "execution_count": 10,
   "metadata": {},
   "outputs": [
    {
     "name": "stdout",
     "output_type": "stream",
     "text": [
      "41\n"
     ]
    }
   ],
   "source": [
    "straipsniai = bs.find_all('div', {'category-block-row grid-12 alpha omega unscore'})\n",
    "\n",
    "print(len(straipsniai))"
   ]
  },
  {
   "cell_type": "code",
   "execution_count": 14,
   "metadata": {},
   "outputs": [
    {
     "name": "stdout",
     "output_type": "stream",
     "text": [
      ":::REM:::\n",
      "<a class=\"articles-list-title\" href=\"naujienos/kaunas/miesto-pulsas/v-matijosaitis-miestas-nesustojo-tik-paciu-kaunieciu-deka-1195275\" style=\"font-size: 16px;line-height: 1.2;margin-bottom: 10px;display: inline;\">V. Matijošaitis: miestas nesustojo tik pačių kauniečių dėka</a>\n",
      "HREF?\n",
      "naujienos/kaunas/miesto-pulsas/v-matijosaitis-miestas-nesustojo-tik-paciu-kaunieciu-deka-1195275\n",
      "V. Matijošaitis: miestas nesustojo tik pačių kauniečių dėka\n",
      ":::REM:::\n",
      "<a class=\"articles-list-title\" href=\"naujienos/kaunas/miesto-pulsas/kauno-diena-pristato-kauno-detales-kuo-skiriasi-argentinka-nuo-brazilkos-1195282\" style=\"font-size: 16px;line-height: 1.2;margin-bottom: 10px;display: inline;\">„Kauno diena“ pristato „Kauno detales“: kuo skiriasi Argentinka nuo Brazilkos?</a>\n",
      "HREF?\n",
      "naujienos/kaunas/miesto-pulsas/kauno-diena-pristato-kauno-detales-kuo-skiriasi-argentinka-nuo-brazilkos-1195282\n",
      "„Kauno diena“ pristato „Kauno detales“: kuo skiriasi Argentinka nuo Brazilkos?\n",
      ":::REM:::\n",
      "<a class=\"articles-list-title\" href=\"naujienos/kaunas/menas-ir-pramogos/kaune-seniausio-estijos-menininku-kolektyvo-paroda-1195201\" style=\"font-size: 20px;line-height: 1.2;margin-bottom: 10px;display: inline;\">Kaune – seniausio Estijos menininkų kolektyvo paroda</a>\n",
      "HREF?\n",
      "naujienos/kaunas/menas-ir-pramogos/kaune-seniausio-estijos-menininku-kolektyvo-paroda-1195201\n",
      "Kaune – seniausio Estijos menininkų kolektyvo paroda\n",
      ":::REM:::\n",
      "<a class=\"articles-list-title\" href=\"naujienos/kaunas/miesto-pulsas/rinkejai-stebejosi-isankstiniu-balsavimu-tamsoje-atrodo-itartinai-1195200\" style=\"font-size: 16px;line-height: 1.2;margin-bottom: 10px;display: inline;\">Rinkėjai stebėjosi išankstiniu balsavimu tamsoje: atrodo įtartinai</a>\n",
      "HREF?\n",
      "naujienos/kaunas/miesto-pulsas/rinkejai-stebejosi-isankstiniu-balsavimu-tamsoje-atrodo-itartinai-1195200\n",
      "Rinkėjai stebėjosi išankstiniu balsavimu tamsoje: atrodo įtartinai\n",
      ":::REM:::\n",
      "<a class=\"articles-list-title\" href=\"naujienos/lietuva/salies-pulsas/sesiose-salies-savivaldybese-vyks-kariu-savanoriu-pratybos-1195172\" style=\"font-size: 16px;line-height: 1.2;margin-bottom: 10px;display: inline;\">Šešiose šalies savivaldybėse vyks karių savanorių pratybos</a>\n",
      "HREF?\n",
      "naujienos/lietuva/salies-pulsas/sesiose-salies-savivaldybese-vyks-kariu-savanoriu-pratybos-1195172\n",
      "Šešiose šalies savivaldybėse vyks karių savanorių pratybos\n",
      ":::REM:::\n",
      "<a class=\"articles-list-title\" href=\"naujienos/kaunas/nusikaltimai-ir-nelaimes/veiksmas-partizanu-gatveje-pareigunai-sturmavo-automobili-sulaikytas-vyras-1194672\" style=\"font-size: 16px;line-height: 1.2;margin-bottom: 10px;display: inline;\">Veiksmas Partizanų gatvėje: pareigūnai šturmavo automobilį, sulaikytas vyras</a>\n",
      "HREF?\n",
      "naujienos/kaunas/nusikaltimai-ir-nelaimes/veiksmas-partizanu-gatveje-pareigunai-sturmavo-automobili-sulaikytas-vyras-1194672\n",
      "Veiksmas Partizanų gatvėje: pareigūnai šturmavo automobilį, sulaikytas vyras\n",
      ":::REM:::\n",
      "<a class=\"articles-list-title\" href=\"naujienos/verslas/ekonomika/darbdavio-magija-kas-darbuotoja-skatina-isitraukti-ir-augti-1182991\" style=\"font-size: 16px;line-height: 1.2;margin-bottom: 10px;display: inline;\">Darbdavio magija: kas darbuotoją skatina įsitraukti ir augti?</a>\n",
      "HREF?\n",
      "naujienos/verslas/ekonomika/darbdavio-magija-kas-darbuotoja-skatina-isitraukti-ir-augti-1182991\n",
      "Darbdavio magija: kas darbuotoją skatina įsitraukti ir augti?\n",
      ":::REM:::\n",
      "<a class=\"articles-list-title\" href=\"naujienos/lietuva/salies-pulsas/akibrokstas-privaciai-greitajai-pagalbai-viskas-vyksta-pagal-sutarti-1194484\" style=\"font-size: 20px;line-height: 1.2;margin-bottom: 10px;display: inline;\">Akibrokštas privačiai greitajai pagalbai: 50 įdarbintų žmonių valstybei neįdomu?</a>\n",
      "HREF?\n",
      "naujienos/lietuva/salies-pulsas/akibrokstas-privaciai-greitajai-pagalbai-viskas-vyksta-pagal-sutarti-1194484\n",
      "Akibrokštas privačiai greitajai pagalbai: 50 įdarbintų žmonių valstybei neįdomu?\n",
      ":::REM:::\n",
      "<a class=\"articles-list-title\" href=\"naujienos/sveikata/psichologija/o-dabar-pakalbekime-apie-nieka-1194950\" style=\"font-size: 20px;line-height: 1.2;margin-bottom: 10px;display: inline;\">O dabar pakalbėkime apie… nieką</a>\n",
      "HREF?\n",
      "naujienos/sveikata/psichologija/o-dabar-pakalbekime-apie-nieka-1194950\n",
      "O dabar pakalbėkime apie… nieką\n",
      ":::REM:::\n",
      "<a class=\"articles-list-title\" href=\"naujienos/sveikata/sveikata/vilniaus-rajone-uz-daugiau-nei-835-tukst-euru-bus-modernizuojamos-sveikatos-centro-paslaugos-1195217\" style=\"font-size: 16px;line-height: 1.2;margin-bottom: 10px;display: inline;\">Vilniaus rajone už daugiau nei 835 tūkst. eurų bus modernizuojamos sveikatos centro paslaugos</a>\n",
      "HREF?\n",
      "naujienos/sveikata/sveikata/vilniaus-rajone-uz-daugiau-nei-835-tukst-euru-bus-modernizuojamos-sveikatos-centro-paslaugos-1195217\n",
      "Vilniaus rajone už daugiau nei 835 tūkst. eurų bus modernizuojamos sveikatos centro paslaugos\n",
      ":::REM:::\n",
      "<a class=\"articles-list-title\" href=\"naujienos/klaipeda/miesto-pulsas/po-vizito-i-kirpykla-sumaistis-1195220\" style=\"font-size: 20px;line-height: 1.2;margin-bottom: 10px;display: inline;\">Po vizito į kirpyklą – sumaištis: galvojau, jog esu skerdykloje</a>\n",
      "HREF?\n",
      "naujienos/klaipeda/miesto-pulsas/po-vizito-i-kirpykla-sumaistis-1195220\n",
      "Po vizito į kirpyklą – sumaištis: galvojau, jog esu skerdykloje\n",
      ":::REM:::\n",
      "<a class=\"articles-list-title\" href=\"naujienos/lietuva/politika/kandidate-kviete-atsivezti-ir-beisbolo-lazdas-ir-dalgius-teisesauga-tiria-raginima-susidoroti-1195262\" style=\"font-size: 16px;line-height: 1.2;margin-bottom: 10px;display: inline;\">Kandidatė kvietė atsivežti ir beisbolo lazdas, ir dalgius: teisėsauga tiria raginimą susidoroti</a>\n",
      "HREF?\n",
      "naujienos/lietuva/politika/kandidate-kviete-atsivezti-ir-beisbolo-lazdas-ir-dalgius-teisesauga-tiria-raginima-susidoroti-1195262\n",
      "Kandidatė kvietė atsivežti ir beisbolo lazdas, ir dalgius: teisėsauga tiria raginimą susidoroti\n",
      ":::REM:::\n",
      "<a class=\"articles-list-title\" href=\"naujienos/grazi-diena/auskaru-verimo-meistre-g-balevice-apie-grozi-kantrybe-profesionaluma-ir-truputeli-skausmo-1194964\" style=\"font-size: 20px;line-height: 1.2;margin-bottom: 10px;display: inline;\">Auskarų vėrimo meistrė G. Balevičė – apie grožį, kantrybę, profesionalumą ir truputėlį skausmo</a>\n",
      "HREF?\n",
      "naujienos/grazi-diena/auskaru-verimo-meistre-g-balevice-apie-grozi-kantrybe-profesionaluma-ir-truputeli-skausmo-1194964\n",
      "Auskarų vėrimo meistrė G. Balevičė – apie grožį, kantrybę, profesionalumą ir truputėlį skausmo\n",
      ":::REM:::\n",
      "<a class=\"articles-list-title\" href=\"naujienos/lietuva/salies-pulsas/deveta-nereiskia-skurdu-1194060\" style=\"font-size: 16px;line-height: 1.2;margin-bottom: 10px;display: inline;\">Tvari mada: dėvėta nereiškia skurdu</a>\n",
      "HREF?\n",
      "naujienos/lietuva/salies-pulsas/deveta-nereiskia-skurdu-1194060\n",
      "Tvari mada: dėvėta nereiškia skurdu\n",
      ":::REM:::\n",
      "<a class=\"articles-list-title\" href=\"https://www.diena.lt/naujienos/vilnius/miesto-pulsas/avulis-apie-nacionalinio-stadiono-projekta-reikia-dar-truputelio-kantrybes-1195289\" style=\"font-size: 16px;line-height: 1.2;margin-bottom: 10px;display: inline;\">A. Avulis apie Nacionalinio stadiono projektą: reikia dar truputėlio kantrybės</a>\n",
      "HREF?\n",
      "https://www.diena.lt/naujienos/vilnius/miesto-pulsas/avulis-apie-nacionalinio-stadiono-projekta-reikia-dar-truputelio-kantrybes-1195289\n",
      "A. Avulis apie Nacionalinio stadiono projektą: reikia dar truputėlio kantrybės\n",
      ":::REM:::\n",
      "<a class=\"articles-list-title\" href=\"naujienos/kauno-dienos-studija/kauno-dienos-studijoje-20-meti-minincio-kauno-miesto-simfoninio-orkestro-vadovas-1191320\" style=\"font-size: 20px;line-height: 1.2;margin-bottom: 10px;display: inline;\">„Kauno dienos“ studijoje – 20-metį mininčio Kauno miesto simfoninio orkestro vadovas </a>\n",
      "HREF?\n",
      "naujienos/kauno-dienos-studija/kauno-dienos-studijoje-20-meti-minincio-kauno-miesto-simfoninio-orkestro-vadovas-1191320\n",
      "„Kauno dienos“ studijoje – 20-metį mininčio Kauno miesto simfoninio orkestro vadovas \n",
      ":::REM:::\n",
      "<a class=\"articles-list-title\" href=\"naujienos/sportas/krepsinis/kauno-dienos-studijoje-kandidatas-i-lkf-prezidentus-r-javtokas-1190406\" style=\"font-size: 16px;line-height: 1.2;margin-bottom: 10px;display: inline;\">„Kauno dienos“ studijoje – kandidatas į LKF prezidentus R. Javtokas</a>\n",
      "HREF?\n",
      "naujienos/sportas/krepsinis/kauno-dienos-studijoje-kandidatas-i-lkf-prezidentus-r-javtokas-1190406\n",
      "„Kauno dienos“ studijoje – kandidatas į LKF prezidentus R. Javtokas\n",
      ":::REM:::\n",
      "<a class=\"articles-list-title\" href=\"naujienos/vilnius/miesto-pulsas/avulis-apie-nacionalinio-stadiono-projekta-reikia-dar-truputelio-kantrybes-1195289\" style=\"font-size: 20px;line-height: 1.2;margin-bottom: 10px;display: inline;\">A. Avulis apie Nacionalinio stadiono projektą: reikia dar truputėlio kantrybės</a>\n",
      "HREF?\n",
      "naujienos/vilnius/miesto-pulsas/avulis-apie-nacionalinio-stadiono-projekta-reikia-dar-truputelio-kantrybes-1195289\n",
      "A. Avulis apie Nacionalinio stadiono projektą: reikia dar truputėlio kantrybės\n",
      ":::REM:::\n",
      "<a class=\"articles-list-title\" href=\"naujienos/laisvalaikis-ir-kultura/kultura/kulturos-ministerijoje-pasirasomas-susitarimas-del-kulturos-inovaciju-skatinimo-1195170\" style=\"font-size: 16px;line-height: 1.2;margin-bottom: 10px;display: inline;\">Kultūros ministerijoje pasirašomas susitarimas dėl kultūros inovacijų skatinimo</a>\n",
      "HREF?\n",
      "naujienos/laisvalaikis-ir-kultura/kultura/kulturos-ministerijoje-pasirasomas-susitarimas-del-kulturos-inovaciju-skatinimo-1195170\n",
      "Kultūros ministerijoje pasirašomas susitarimas dėl kultūros inovacijų skatinimo\n",
      ":::REM:::\n",
      "<a class=\"articles-list-title\" href=\"naujienos/pasaulis/konfliktai-nelaimes/stebetojai-baltarusijoje-nusileido-du-rusu-orlaiviai-galintys-nesti-raketas-kinzal-1195279\" style=\"font-size: 20px;line-height: 1.2;margin-bottom: 10px;display: inline;\">Stebėtojai: Baltarusijoje nusileido du rusų orlaiviai, galintys nešti raketas „Kinžal“</a>\n",
      "HREF?\n",
      "naujienos/pasaulis/konfliktai-nelaimes/stebetojai-baltarusijoje-nusileido-du-rusu-orlaiviai-galintys-nesti-raketas-kinzal-1195279\n",
      "Stebėtojai: Baltarusijoje nusileido du rusų orlaiviai, galintys nešti raketas „Kinžal“\n",
      ":::REM:::\n",
      "<a class=\"articles-list-title\" href=\"naujienos/pasaulis/ekonomika-ir-politika/ukrainos-parlamentas-pritare-istoriniam-mokesciu-didinimui-1195263\" style=\"font-size: 16px;line-height: 1.2;margin-bottom: 10px;display: inline;\">Ukrainos parlamentas pritarė „istoriniam“ mokesčių didinimui</a>\n",
      "HREF?\n",
      "naujienos/pasaulis/ekonomika-ir-politika/ukrainos-parlamentas-pritare-istoriniam-mokesciu-didinimui-1195263\n",
      "Ukrainos parlamentas pritarė „istoriniam“ mokesčių didinimui\n",
      ":::REM:::\n",
      "<a class=\"articles-list-title\" href=\"naujienos/sportas/krepsinis/zalgirieciu-ieskojimu-kelyje-olympiakos-1195192\" style=\"font-size: 20px;line-height: 1.2;margin-bottom: 10px;display: inline;\">Žalgiriečių ieškojimų kelyje – „Olympiakos“</a>\n",
      "HREF?\n",
      "naujienos/sportas/krepsinis/zalgirieciu-ieskojimu-kelyje-olympiakos-1195192\n",
      "Žalgiriečių ieškojimų kelyje – „Olympiakos“\n",
      ":::REM:::\n",
      "<a class=\"articles-list-title\" href=\"naujienos/sportas/kitos-sporto-sakos/amerikietisku-kalneliu-citadele-kmt-mace-uteniskiai-palauze-svecius-kedainiu-1195152\" style=\"font-size: 16px;line-height: 1.2;margin-bottom: 10px;display: inline;\">Amerikietiškų kalnelių Citadele KMT mače uteniškiai palaužė svečius iš Kėdainių</a>\n",
      "HREF?\n",
      "naujienos/sportas/kitos-sporto-sakos/amerikietisku-kalneliu-citadele-kmt-mace-uteniskiai-palauze-svecius-kedainiu-1195152\n",
      "Amerikietiškų kalnelių Citadele KMT mače uteniškiai palaužė svečius iš Kėdainių\n",
      ":::REM:::\n",
      "<a class=\"articles-list-title\" href=\"naujienos/vilnius/nusikaltimai-ir-nelaimes/del-advokato-mirties-sukresti-kolegos-noretume-zinoti-ar-pareigunai-tinkamai-vykde-savo-misija-1195286\" style=\"font-size: 20px;line-height: 1.2;margin-bottom: 10px;display: inline;\">Dėl advokato mirties sukrėsti kolegos: norėtume žinoti, ar pareigūnai tinkamai vykdė savo misiją</a>\n",
      "HREF?\n",
      "naujienos/vilnius/nusikaltimai-ir-nelaimes/del-advokato-mirties-sukresti-kolegos-noretume-zinoti-ar-pareigunai-tinkamai-vykde-savo-misija-1195286\n",
      "Dėl advokato mirties sukrėsti kolegos: norėtume žinoti, ar pareigūnai tinkamai vykdė savo misiją\n",
      ":::REM:::\n",
      "<a class=\"articles-list-title\" href=\"naujienos/vilnius/nusikaltimai-ir-nelaimes/saudyniu-vilniuje-epicentre-atsidures-rezisierius-zmones-mane-eme-tempti-i-kavine-1195255\" style=\"font-size: 16px;line-height: 1.2;margin-bottom: 10px;display: inline;\">Šaudynių Vilniuje epicentre atsidūręs režisierius: žmonės mane ėmė tempti į kavinę</a>\n",
      "HREF?\n",
      "naujienos/vilnius/nusikaltimai-ir-nelaimes/saudyniu-vilniuje-epicentre-atsidures-rezisierius-zmones-mane-eme-tempti-i-kavine-1195255\n",
      "Šaudynių Vilniuje epicentre atsidūręs režisierius: žmonės mane ėmė tempti į kavinę\n",
      ":::REM:::\n",
      "<a class=\"articles-list-title\" href=\"naujienos/laisvalaikis-ir-kultura/zvaigzdes-ir-pramogos/sokiruojanti-tiesa-atskleista-m-jacksono-seksualinio-gyvenimo-paslaptis-1195244\" style=\"font-size: 20px;line-height: 1.2;margin-bottom: 10px;display: inline;\">Šokiruojanti tiesa: atskleista M. Jacksono seksualinio gyvenimo paslaptis</a>\n",
      "HREF?\n",
      "naujienos/laisvalaikis-ir-kultura/zvaigzdes-ir-pramogos/sokiruojanti-tiesa-atskleista-m-jacksono-seksualinio-gyvenimo-paslaptis-1195244\n",
      "Šokiruojanti tiesa: atskleista M. Jacksono seksualinio gyvenimo paslaptis\n",
      ":::REM:::\n",
      "<a class=\"articles-list-title\" href=\"naujienos/laisvalaikis-ir-kultura/zvaigzdes-ir-pramogos/atskleide-siurpia-tiesa-e-preslio-dukra-du-menesius-namuose-laike-mirusio-sunaus-kuna-1195231\" style=\"font-size: 16px;line-height: 1.2;margin-bottom: 10px;display: inline;\">Atskleidė šiurpią tiesą: E. Preslio dukra du mėnesius namuose laikė mirusio sūnaus kūną</a>\n",
      "HREF?\n",
      "naujienos/laisvalaikis-ir-kultura/zvaigzdes-ir-pramogos/atskleide-siurpia-tiesa-e-preslio-dukra-du-menesius-namuose-laike-mirusio-sunaus-kuna-1195231\n",
      "Atskleidė šiurpią tiesą: E. Preslio dukra du mėnesius namuose laikė mirusio sūnaus kūną\n",
      ":::REM:::\n",
      "<a class=\"articles-list-title\" href=\"naujienos/ivairenybes/horoskopai/dienos-horoskopas-12-zodiako-zenklu-spalio-10-d-1195139\" style=\"font-size: 20px;line-height: 1.2;margin-bottom: 10px;display: inline;\">Dienos horoskopas 12 Zodiako ženklų <span style=\"color:red;\">(spalio 10 d.)</span></a>\n",
      "HREF?\n",
      "naujienos/ivairenybes/horoskopai/dienos-horoskopas-12-zodiako-zenklu-spalio-10-d-1195139\n",
      "Dienos horoskopas 12 Zodiako ženklų (spalio 10 d.)\n",
      ":::REM:::\n",
      "<a class=\"articles-list-title\" href=\"naujienos/pasaulis/ekonomika-ir-politika/nobelio-chemijos-premija-pasidalijo-jav-ir-jk-mokslininkai-1195066\" style=\"font-size: 16px;line-height: 1.2;margin-bottom: 10px;display: inline;\">Nobelio chemijos premiją pasidalijo JAV ir JK mokslininkai</a>\n",
      "HREF?\n",
      "naujienos/pasaulis/ekonomika-ir-politika/nobelio-chemijos-premija-pasidalijo-jav-ir-jk-mokslininkai-1195066\n",
      "Nobelio chemijos premiją pasidalijo JAV ir JK mokslininkai\n"
     ]
    }
   ],
   "source": [
    "for s in straipsniai:\n",
    "    i = s.find('div', {'class':'articles-list-title-wrapper'})\n",
    "    if i is not None:\n",
    "        t = i.find('a', {'class':'articles-list-title'})\n",
    "        print(':::REM:::')\n",
    "        print(t)\n",
    "        print('HREF?')\n",
    "        print(t['href'])\n",
    "        print(t.text)"
   ]
  },
  {
   "cell_type": "code",
   "execution_count": 15,
   "metadata": {},
   "outputs": [],
   "source": [
    "url = 'https://kauno.diena.lt/naujienos/kaunas/miesto-pulsas/v-matijosaitis-miestas-nesustojo-tik-paciu-kaunieciu-deka-1195275'\n",
    "\n",
    "page = requests.get(url)\n",
    "\n",
    "source = page.content\n",
    "\n",
    "bs = BeautifulSoup(source, 'html.parser')\n",
    "# print(bs)"
   ]
  },
  {
   "cell_type": "code",
   "execution_count": 16,
   "metadata": {},
   "outputs": [
    {
     "name": "stdout",
     "output_type": "stream",
     "text": [
      "1\n"
     ]
    }
   ],
   "source": [
    "straipsniai = bs.find_all('span', {'itemprop':'articleBody'})\n",
    "print(len(straipsniai))"
   ]
  },
  {
   "cell_type": "code",
   "execution_count": 17,
   "metadata": {},
   "outputs": [
    {
     "data": {
      "text/plain": [
       "'– Devyneri su puse metų – greitai minėsite dešimtmečio sukaktį. Dar užpernai pasiekėte rekordą, būdamas ilgiausiai dirbančiu Kauno meru per nepriklausomybės laikotarpį. Ką jums tai reiškia?\\n– Nesureikšminu tų skaičių ir rekordų, bet viena žinau, kad pats nebejaunėju. Gal dėl to ir norisi dar daug ką suspėti. Atrodo, nuveikta tikrai nemažai, bet kai pažiūriu, kiek visko priplanuota... Esu ramus, kad ateičiai nemažai projektų jau paruošta, kiti – rengimo stadijoje. Idėjų mūsų komandai niekada netrūko – reikia tik užtektinai finansų ir šiek tiek laiko joms įgyvendinti. Gal dar kokių dešimties metų (juokiasi)...\\n– Jūs šypsotės, bet daugelis išties norėtų sužinoti, kiek dar turite ambicijų tęsti darbus Kauno mero poste?\\n– Čia vienas dažnesnių klausimų, į kurį atsakymo pats sau neturiu. Tai niekada nebuvo mano asmeninė ambicija. Turėjau tik labai konkretų norą – sutvarkyti, pakeisti miestą. Pamenu, kažkada išvis galvojau neiti į šitas pareigas, po rinkimų 2015-aisiais domėjausi, kaip galėčiau jų atsisakyti.\\nVėliau atradom gerą ryšį su tuomet buvusia Vyriausybe – pajaučiau, kad Kaunas sulaukia dėmesio ir palaikymo iš šalies valdžios. Bet čia kalbu apie 2016–2020 metų kadenciją, kuomet vadovavo Saulius Skvernelis su savo ministrų kabinetu. Paprastai tariant, su Kaunu tuomet tikrai skaitėsi.\\n\\n\\nPaskiau atėjo dabartiniai valdantieji ir supratau, jog situacija keičiasi – į mūsų pusę jie nebežiūri, jokios pagarbos Kaunui. Paėmė azartas nenumesti visko, bet pakovot už savo miestą. Dabar galiu pasakyti, kad buvo verta. Nors iš nueinančios Vyriausybės Kaunas didesniems projektams negavo beveik nieko, bet suvaldėm situaciją – miestas nesustojo. Visa tai yra pačių kauniečių dėka.\\n\\nTurėjau tik labai konkretų norą – sutvarkyti, pakeisti miestą.\\n\\nJeigu ne tas iki tol įgytas pagreitis, verslų plėtra, valdžia mums būtų „užtraukusi“ rankinį stabdį. Tikiuosi, greitai situacija pasikeis ir mes tiesime naujus tiltus ne tik per upes, bet ir perkeltine prasme.\\n– Atrodo, kad ir šis ruduo Kaunui – gana derlingas: pirmosios įkurtuvės Inovacijų parke „ALEX“, startavo dar vieno tilto statybos, ruošiatės „Mokslo salos“ muziejaus atidarymui. Turite kuo pasidžiaugti?\\n– Yra nemažai gražių progų... Dabar tiltų statymo metai – porą statom, trečią baigiam projektuoti, jau startavom ir su viaduko statybomis. Kyla du baseinai, Romainiuose matosi naujo vaikų darželio pamatai, toliau atnaujinami parkai, kitos žalios erdvės, tvarkoma susisiekimo infrastruktūra.\\nBet geriausia džiaugtis ir švęsti ne darbų pradžią, o pabaigtuves, kai žmonės gali matyti apčiuopiamą rezultatą. Tokių vien šiemet irgi turim užtektinai: daugelis jau spėjo pasigėrėti atgijusiu Dainų slėniu, dabar artėja „Mokslo salos“ atidarymas, atversim ir Lengvosios atletikos maniežą. Toliau ruošiamės Čiurlionio koncertų centro statyboms, projektuojame nemažai išskirtinių sporto ir laisvalaikio objektų.\\n– Opozicijos atstovai tikriausiai vėl pasikartotų, kad tokio proveržio priežastis – smarkiai išaugęs miesto biudžetas?\\n– Tegul jie kalba, ką nori. Aš galiu tik paklausti, kodėl jie neaugino ir išvis nemylėjo Kauno iki man ateinant? Miesto biudžeto surinkimas – irgi reikalauja daug darbo. Jis didžiąja dalimi susideda iš gyventojų pajamų mokesčio. Todėl reikia stipriai pasistengti, kad verslai stiprėtų, žmonės turėtų gerai apmokamas darbo vietas ir pačių gyventojų kiekis mieste augtų.\\nPanašu, kad šituos procesus užkūrėm ir jie važiuoja. Miestas tapo patogesnis, tvarkingesnis, patrauklesnis tiek studentams, tiek ir čia besikuriančioms jaunoms šeimoms.\\nNereikia toli žvalgytis – vien praėjusią savaitę turėjome kelis puikius pavyzdžius: „Antėja“ Kaune atidarė didžiausią Baltijos šalyse medicininių tyrimų laboratoriją, SBA pristatė ketvirčio milijardo investicijas „Nemunaičiuose“, Aleksoto inovacijų parke turime pirmąją besikuriančią kompaniją su 50 milijonų privataus kapitalo krepšeliu. Va tai aš turiu galvoje, kai sakau, kad miestas kauniečių dėka nestabdo. Net ir be Vyriausybės dėmesio.\\n– Pradėdamas eiti mero pareigas vis kalbėdavote, kad reikia nebijoti džiazuoti ir išlaisvinti fantaziją. Kaip manote, ar jums tai pavyko?\\n– Geriausiai apie viską pasako padaryti darbai. Būtų neteisinga pačiam vertinti, nes tai yra darbas, kurį man patikėjo kauniečiai. Žmonės mato ir turi savo nuomones apie tai, kaip keičiasi miestas. Jų gali būti įvairių, bet iš šono nesunku matyti, kad dauguma džiaugiasi.\\nBaseinas prie „Žalgirio“ arenos – pilnutėlis, Sporto halė – gyva, Ąžuolynas – išgražėjęs. Stadionas muša koncertų lankomumo rekordus ir tikiu, kad pamažu užaugins rezultatus bei palaikymo kultūrą futbole, kaip tą padarė „Žalgirio“ krepšinio klubas su sausakimša arena. Rotušė irgi tapo muziejaus verta erdve.\\nKiekvienu atveju su komanda dėta daug pastangų, būta ir nemažai ginčų, netgi karštų momentų. Bet viskas dėl bendro tikslo, nes mes visi esame kauniečiai.\\nŽinau, kad per praėjusius Seimo rinkimus pasitaikė nemažai „ateivių“: didesnė dalis Kaune išrinktų vienmandatininkų buvo ne Kauno gyventojai. Turbūt tokių atsiras ir dabar. Nenoriu čia nei kritikuoti, nei agituoti, bet aš pats sau išvadas jau seniai esu pasidaręs.\\n'"
      ]
     },
     "execution_count": 17,
     "metadata": {},
     "output_type": "execute_result"
    }
   ],
   "source": [
    "straipsniai[0].text"
   ]
  },
  {
   "cell_type": "code",
   "execution_count": null,
   "metadata": {},
   "outputs": [],
   "source": [
    "for s in straipsniai:\n",
    "    i = s.find('div', {'class':'articles-list-title-wrapper'})\n",
    "    if i is not None:\n",
    "        t = i.find('a', {'class':'articles-list-title'})\n",
    "        print(':::REM:::')\n",
    "        print(t)\n",
    "        print('HREF?')\n",
    "        print(t['href'])\n",
    "        print(t.text)"
   ]
  },
  {
   "cell_type": "code",
   "execution_count": 2,
   "metadata": {},
   "outputs": [
    {
     "name": "stdout",
     "output_type": "stream",
     "text": [
      "29\n",
      "['2024-ųjų Seimo rinkimai: laimėjo socdemai, antri – TS-LKD, treti – „Nemuno Aušra“ (papildyta) ', 'Į antrąjį Seimo rinkimų turą patekę kandidatai (apžvalga)', 'Ko iš naujo Seimo tikisi kauniečiai?', 'Kaune girta moteris sumušė dar girtesnį vyrą', 'Kvapni dedikacija M. K. Čiurlioniui', 'Veiksmas Partizanų gatvėje: pareigūnai šturmavo automobilį, sulaikytas vyras', 'Darbdavio magija: kas darbuotoją skatina įsitraukti ir augti?', 'Akibrokštas privačiai greitajai pagalbai: 50 įdarbintų žmonių valstybei neįdomu?', 'Vyriausybė nepritaria, kad baigę gyvulininkystę teiktų sveikatos paslaugas su gyvūnais', 'Šeima – tarsi universitetas, kuriame mokomės iš artimųjų', 'Į Seimą patekęs A. Veryga neplanuoja atsisakyti europarlamentaro mandato', 'A. Armonaitė: krizės apsunkino Laisvės partijos kampaniją, nepadėjo strateginis balsavimas', 'Iš išaugtų vaikiškų drabužių – prisiminimų šiltukai', 'Mainų platformos įkūrėja: gyventi tvariau – naudinga ir finansiškai', 'Vilniuje nenustatyti asmenys apiplėšė vyrą', '„Kauno dienos“ studijoje – istorikas R. Kamuntavičius: ar reikia bijoti gudiško litvinizmo?', 'M. Balčiūnas: jei aš iš savo įmonių parėmiau LKF, kuo tai blogai finansiškai?', 'Nevaisingumo diagnozavimo ir gydymo naujoves pristatė įvairių sričių ekspertai', 'Gąsdinanti imigrantų statistika: aukštos kvalifikacijos užsieniečių Lietuva nedomina', 'Auga įtampa Korėjos pusiasalyje: Seulas prabilo apie pasirengimą atremti atakas', 'Kinija: Taivano nepriklausomybė ir taika yra nesuderinamos', 'Olimpinė čempionė vėl šventė pergalę', 'Medikų nesustabdė nei traumos, nei orai', 'Nuteistas Panevėžyje į butą petardą įmetęs vyras', 'Vilniuje iš buto pavogti auksiniai papuošalai, kolekcinės monetos: nuostolis – 38 tūkst. eurų', 'Europos viduramžių istorijos pamokėlė žaislų muziejuje Bretanėje', 'Režisierės A. Stonytės kino kelionės po laiką', 'Valgomosios gėlės: gražu, bet ne visada saugu', 'Liūdnos prognozės: po vandeniu gali panirti ir kai kurie Lietuvos miestai?']\n",
      "29\n",
      "['naujienos/lietuva/politika/lietuva-renka-nauja-valdzia-apylinkes-uzsidare-skaiciuojami-balsai-1195621', 'naujienos/lietuva/politika/laukia-kova-vienmandatese-aiskeja-i-antraji-tura-pateke-kandidatai-1195683', 'naujienos/kaunas/miesto-pulsas/ko-naujo-seimo-tikisi-kaunieciai-1195632', 'naujienos/kaunas/nusikaltimai-ir-nelaimes/kaune-girta-moteris-sumuse-dar-girtesni-vyra-1195580', 'naujienos/kaunas/menas-ir-pramogos/kvapni-dedikacija-m-k-ciurlioniui-1195250', 'naujienos/kaunas/nusikaltimai-ir-nelaimes/veiksmas-partizanu-gatveje-pareigunai-sturmavo-automobili-sulaikytas-vyras-1194672', 'naujienos/verslas/ekonomika/darbdavio-magija-kas-darbuotoja-skatina-isitraukti-ir-augti-1182991', 'naujienos/lietuva/salies-pulsas/akibrokstas-privaciai-greitajai-pagalbai-viskas-vyksta-pagal-sutarti-1194484', 'naujienos/verslas/ekonomika/vyriausybe-nepritaria-kad-baige-gyvulininkyste-teiktu-sveikatos-paslaugas-su-gyvunais-1195593', 'naujienos/sveikata/psichologija/seima-tarsi-universitetas-kuriame-mokomes-artimuju-1195032', 'naujienos/lietuva/politika/i-seima-patekes-veryga-neplanuoja-atsisakyti-europarlamentaro-mandato-1195767', 'naujienos/lietuva/politika/armonaite-krizes-apsunkino-laisves-partijos-kampanija-nepadejo-strateginis-balsavimas-1195751', 'naujienos/lietuva/salies-pulsas/isaugtu-vaikisku-drabuziu-prisiminimu-siltukai-1195036', 'naujienos/lietuva/salies-pulsas/mainu-platformos-ikureja-gyventi-tvariau-naudinga-ir-finansiskai-1194059', 'https://www.diena.lt/naujienos/vilnius/nusikaltimai-ir-nelaimes/vilniuje-nenustatyti-asmenys-apiplese-vyra-1195775', 'naujienos/kauno-dienos-studija/kauno-dienos-studijoje-istorikas-r-kamuntavicius-ar-reikia-bijoti-gudisko-litvinizmo-1195490', 'naujienos/sportas/krepsinis/m-balciunas-jei-savo-imoniu-paremiau-lkf-kuo-tai-blogai-finansiskai-1190480', 'naujienos/klaipeda/miesto-pulsas/nevaisingumo-diagnozavimo-ir-gydymo-naujoves-pristate-ivairiu-sriciu-ekspertai-1195460', 'naujienos/verslas/ekonomika/gasdinanti-imigrantu-statistika-aukstos-kvalifikacijos-uzsienieciu-1195614', 'naujienos/pasaulis/konfliktai-nelaimes/auga-itampa-korejos-pusiasalyje-seulas-prabilo-apie-pasirengima-atremti-atakas-1195756', 'naujienos/pasaulis/konfliktai-nelaimes/kinija-taivano-nepriklausomybe-ir-taika-yra-nesuderinamos-1195750', 'naujienos/sportas/kitos-sporto-sakos/olimpine-cempione-vel-svente-pergale-1195466', 'naujienos/sportas/kitos-sporto-sakos/mediku-nesustabde-nei-traumos-nei-orai-1195437', 'naujienos/kriminalai/nusikaltimai/nuteistas-panevezyje-i-buta-petarda-imetes-vyras-1195762', 'naujienos/vilnius/nusikaltimai-ir-nelaimes/vilniuje-buto-pavogti-auksiniai-papuosalai-kolekcines-monetos-nuostolis-38-tukst-euru-1195755', 'naujienos/laisvalaikis-ir-kultura/kultura/europos-viduramziu-istorijos-pamokele-zaislu-muziejuje-bretaneje-1195747', 'naujienos/laisvalaikis-ir-kultura/kultura/rezisieres-stonytes-kino-keliones-po-laika-1195734', 'naujienos/ivairenybes/receptai/geles-maiste-grazu-bet-ne-visada-saugu-1195045', 'naujienos/ivairenybes/gamta/lietuvai-milijardai-stichiju-padariniams-1195132']\n"
     ]
    }
   ],
   "source": [
    "# Surinkite visus straipsnių pavadinimus ir nuorodas į pačius straipsnius iš Kauno  diena puslapio.\n",
    "# Suraskite vidutinį straipsnių pavadinimuose esančių žodžių skaičių.\n",
    "# Atvaizduoikite grafiškai straipsnių kiekį VS žodžių kiekis pavadinime.\n",
    "# Suraskite ilgiausią pavadinimą, nueikite į tą straipsnį,\n",
    "# suraskite 5kis dažniausiai pasikartojančius žodžius, iliustruokite grafiškai.\n",
    "# Suskaičiuokite, kiek vidutiniškai turi žodžių straipsniai, esantys Kauno dienoje.\n",
    "\n",
    "\n",
    "# Papildymas užduoties: \n",
    "# # atlikite tą patį su delfi.lt, palyginkite tarpusavyje kauno dieną ir delfi.lt, palyginimus\n",
    "# # atlikite pateikdami grafikus.\n",
    "\n",
    "# https://scrapeops.io/python-web-scraping-playbook/python-beautifulsoup-findall/\n",
    "\n",
    "url = 'https://kauno.diena.lt/'\n",
    "\n",
    "page = requests.get(url)\n",
    "\n",
    "source = page.content\n",
    "\n",
    "bs = BeautifulSoup(source, 'html.parser')\n",
    "# print(bs)\n",
    "nuorodos = []\n",
    "pavadinimai = []\n",
    "straipsniai = bs.find_all('div', {'category-block-row grid-12 alpha omega unscore'})\n",
    "for s in straipsniai:\n",
    "    i = s.find('div', {'class':'articles-list-title-wrapper'})\n",
    "    if i is not None:\n",
    "        t = i.find('a', {'class':'articles-list-title'})\n",
    "        pavadinimai.append(t.text)\n",
    "        nuorodos.append(t['href'])\n",
    "        # print(':::REM:::')\n",
    "        # print(t)\n",
    "        # print('HREF?')\n",
    "        # print(t['href'])\n",
    "        # print(t.text)\n",
    "\n",
    "print(len(pavadinimai))\n",
    "print(pavadinimai)\n",
    "print(len(nuorodos))\n",
    "print(nuorodos)"
   ]
  },
  {
   "cell_type": "code",
   "execution_count": 3,
   "metadata": {},
   "outputs": [
    {
     "name": "stdout",
     "output_type": "stream",
     "text": [
      "vidutinis zodziu kiekis pavadinimuose: 8.413793103448276\n"
     ]
    }
   ],
   "source": [
    "# Suraskite vidutinį straipsnių pavadinimuose esančių žodžių skaičių.\n",
    "zodziu_kiekiai = []\n",
    "for pav in pavadinimai:\n",
    "    kiekis =len(pav.split())\n",
    "    zodziu_kiekiai.append(kiekis)\n",
    "    \n",
    "vidutinis_zodziu_kiekis = sum(zodziu_kiekiai) / len(zodziu_kiekiai)\n",
    "print(f'vidutinis zodziu kiekis pavadinimuose: {vidutinis_zodziu_kiekis}')\n"
   ]
  },
  {
   "cell_type": "code",
   "execution_count": 4,
   "metadata": {},
   "outputs": [
    {
     "name": "stdout",
     "output_type": "stream",
     "text": [
      "{5: 3, 6: 2, 7: 7, 8: 5, 9: 4, 10: 3, 11: 1, 12: 1, 13: 3}\n",
      "29\n"
     ]
    },
    {
     "data": {
      "image/png": "[encoded data removed]",
      "text/plain": [
       "<Figure size 800x450 with 1 Axes>"
      ]
     },
     "metadata": {},
     "output_type": "display_data"
    }
   ],
   "source": [
    "# Atvaizduoikite grafiškai straipsnių kiekį VS žodžių kiekis pavadinime.\n",
    "\n",
    "# from collections import Counter\n",
    "\n",
    "# sample_list = [1,4,2,6,3,4,8,2,9,2,7,0]\n",
    "# print(Counter(sample_list))\n",
    "\n",
    "kiekiai_dict = {}\n",
    "for k in (list(set(zodziu_kiekiai))):\n",
    "    kiekiai_dict[k] = 0\n",
    "\n",
    "\n",
    "for k in kiekiai_dict.keys():\n",
    "    c = zodziu_kiekiai.count(k)\n",
    "    kiekiai_dict[k] = c\n",
    "    \n",
    "print(kiekiai_dict)\n",
    "print(sum(kiekiai_dict.values()))\n",
    "\n",
    "x_asis = list(kiekiai_dict.keys())\n",
    "\n",
    "fig, ax = plt.subplots(figsize=(8, 4.5))\n",
    "\n",
    "B = ax.bar(kiekiai_dict.keys(), kiekiai_dict.values())\n",
    "ax.bar_label(B)\n",
    "ax.set_xticks(x_asis)\n",
    "ax.set_xlabel('zodziu kiekiai pavadinimuose')\n",
    "ax.set_ylabel('pasikartojimai')\n",
    "\n",
    "plt.show()"
   ]
  },
  {
   "cell_type": "code",
   "execution_count": 5,
   "metadata": {},
   "outputs": [
    {
     "name": "stdout",
     "output_type": "stream",
     "text": [
      "0\n",
      "2024-ųjų Seimo rinkimai: laimėjo socdemai, antri – TS-LKD, treti – „Nemuno Aušra“ (papildyta) \n",
      "naujienos/lietuva/politika/lietuva-renka-nauja-valdzia-apylinkes-uzsidare-skaiciuojami-balsai-1195621\n"
     ]
    }
   ],
   "source": [
    "# Suraskite ilgiausią pavadinimą, nueikite į tą straipsnį,\n",
    "# suraskite 5kis dažniausiai pasikartojančius žodžius, iliustruokite grafiškai.\n",
    "\n",
    "idx = (zodziu_kiekiai.index(max(zodziu_kiekiai)))\n",
    "print(idx)\n",
    "print(pavadinimai[idx])\n",
    "print(nuorodos[idx])\n",
    "max_zodziu_straipsnis = nuorodos[idx]"
   ]
  },
  {
   "cell_type": "code",
   "execution_count": 6,
   "metadata": {},
   "outputs": [
    {
     "name": "stdout",
     "output_type": "stream",
     "text": [
      "https://kauno.diena.lt/naujienos/lietuva/politika/lietuva-renka-nauja-valdzia-apylinkes-uzsidare-skaiciuojami-balsai-1195621\n",
      "578\n",
      "dict_values([1, 1, 1, 1, 1, 1, 2, 1, 3, 2, 1, 8, 3, 1, 1, 2, 1, 2, 1, 1, 1, 1, 16, 3, 1, 1, 3, 1, 1, 1, 1, 1, 1, 1, 1, 1, 1, 1, 1, 1, 1, 3, 5, 3, 1, 1, 2, 2, 1, 4, 3, 1, 4, 1, 1, 1, 2, 2, 8, 6, 2, 1, 5, 1, 1, 2, 2, 1, 2, 1, 2, 3, 3, 5, 2, 9, 1, 1, 10, 2, 3, 1, 1, 1, 1, 2, 1, 1, 1, 1, 3, 1, 2, 1, 1, 3, 1, 2, 1, 1, 1, 1, 3, 1, 1, 1, 1, 1, 1, 1, 1, 1, 1, 1, 1, 1, 1, 1, 1, 3, 1, 1, 1, 1, 1, 1, 1, 1, 1, 1, 1, 1, 1, 1, 1, 1, 1, 1, 1, 1, 1, 1, 3, 1, 1, 1, 1, 1, 1, 1, 2, 1, 1, 2, 2, 1, 1, 2, 2, 1, 2, 4, 1, 7, 4, 1, 4, 2, 1, 1, 1, 3, 2, 2, 2, 2, 1, 2, 1, 1, 1, 1, 2, 1, 1, 1, 1, 2, 1, 1, 2, 1, 1, 1, 1, 1, 2, 2, 1, 2, 1, 1, 1, 1, 1, 2, 1, 1, 1, 1, 3, 1, 1, 1, 1, 2, 1, 1, 1, 1, 2, 1, 2, 1, 1, 1, 1, 1, 1, 1, 1, 3, 1, 1, 1, 1, 1, 1, 1, 1, 1, 1, 1, 1, 1, 1, 1, 1, 1, 1, 1, 1, 1, 2, 1, 3, 1, 1, 1, 2, 1, 1, 1, 1, 1, 3, 1, 1, 2, 1, 1, 1, 3, 1, 1, 1, 2, 1, 1, 1, 1, 1, 1, 1, 1, 1, 1, 1, 1, 1, 1, 1, 2, 1, 1, 1, 1, 1, 1, 1, 1, 1, 1, 1, 1, 1, 1, 1, 1, 1, 2, 1, 2, 1, 1, 1, 2, 1, 1, 1, 1, 1, 1, 1, 1, 1, 1, 1, 1, 1, 1, 1, 1, 1, 1, 1, 1, 1, 1, 1, 1, 1, 1, 1, 1, 1, 1, 1, 1, 1, 1, 1, 1, 1, 1, 1, 1, 1, 1, 1, 1, 1, 1, 1, 1, 1, 1, 1, 1, 1, 1, 1, 1, 1, 1, 2, 2, 1, 1, 1, 1, 1, 1, 1, 1, 1, 1, 1, 1, 1, 1, 1, 1, 1, 1, 1, 1, 1, 1, 1, 1, 1])\n"
     ]
    }
   ],
   "source": [
    "url2 = f'https://kauno.diena.lt/{max_zodziu_straipsnis}'\n",
    "print(url2)\n",
    "\n",
    "page = requests.get(url2)\n",
    "\n",
    "source = page.content\n",
    "\n",
    "bs2 = BeautifulSoup(source, 'html.parser')\n",
    "# print(bs)\n",
    "# tekstas = ''\n",
    "\n",
    "pastraipos = bs2.find_all('span', {'itemprop':'articleBody'})\n",
    "# print(len(pastraipos))\n",
    "tekstas = pastraipos[0].text\n",
    "# print(tekstas)\n",
    "# for p in pastraipos:\n",
    "#     if p is not None:\n",
    "#         tekstas = tekstas + ' ' + p.text\n",
    "    \n",
    "print(len(tekstas.split()))\n",
    "\n",
    "from collections import Counter\n",
    "\n",
    "zodziai_tektste = dict(Counter(tekstas.split()))\n",
    "print(zodziai_tektste.values())\n",
    "\n",
    "\n",
    "\n",
    "\n"
   ]
  },
  {
   "cell_type": "code",
   "execution_count": 7,
   "metadata": {},
   "outputs": [
    {
     "data": {
      "text/html": [
       "<div>\n",
       "<style scoped>\n",
       "    .dataframe tbody tr th:only-of-type {\n",
       "        vertical-align: middle;\n",
       "    }\n",
       "\n",
       "    .dataframe tbody tr th {\n",
       "        vertical-align: top;\n",
       "    }\n",
       "\n",
       "    .dataframe thead th {\n",
       "        text-align: right;\n",
       "    }\n",
       "</style>\n",
       "<table border=\"1\" class=\"dataframe\">\n",
       "  <thead>\n",
       "    <tr style=\"text-align: right;\">\n",
       "      <th></th>\n",
       "      <th>zodis</th>\n",
       "      <th>kiekis</th>\n",
       "    </tr>\n",
       "  </thead>\n",
       "  <tbody>\n",
       "    <tr>\n",
       "      <th>0</th>\n",
       "      <td>Antri</td>\n",
       "      <td>1</td>\n",
       "    </tr>\n",
       "    <tr>\n",
       "      <th>1</th>\n",
       "      <td>yra</td>\n",
       "      <td>1</td>\n",
       "    </tr>\n",
       "    <tr>\n",
       "      <th>2</th>\n",
       "      <td>17</td>\n",
       "      <td>1</td>\n",
       "    </tr>\n",
       "    <tr>\n",
       "      <th>3</th>\n",
       "      <td>mandatų</td>\n",
       "      <td>1</td>\n",
       "    </tr>\n",
       "    <tr>\n",
       "      <th>4</th>\n",
       "      <td>iškovoję</td>\n",
       "      <td>1</td>\n",
       "    </tr>\n",
       "  </tbody>\n",
       "</table>\n",
       "</div>"
      ],
      "text/plain": [
       "      zodis  kiekis\n",
       "0     Antri       1\n",
       "1       yra       1\n",
       "2        17       1\n",
       "3   mandatų       1\n",
       "4  iškovoję       1"
      ]
     },
     "execution_count": 7,
     "metadata": {},
     "output_type": "execute_result"
    }
   ],
   "source": [
    "df = pd.DataFrame(zodziai_tektste.items(), columns=['zodis', 'kiekis'])\n",
    "\n",
    "df.head()"
   ]
  },
  {
   "cell_type": "code",
   "execution_count": 8,
   "metadata": {},
   "outputs": [
    {
     "data": {
      "text/html": [
       "<div>\n",
       "<style scoped>\n",
       "    .dataframe tbody tr th:only-of-type {\n",
       "        vertical-align: middle;\n",
       "    }\n",
       "\n",
       "    .dataframe tbody tr th {\n",
       "        vertical-align: top;\n",
       "    }\n",
       "\n",
       "    .dataframe thead th {\n",
       "        text-align: right;\n",
       "    }\n",
       "</style>\n",
       "<table border=\"1\" class=\"dataframe\">\n",
       "  <thead>\n",
       "    <tr style=\"text-align: right;\">\n",
       "      <th></th>\n",
       "      <th>index</th>\n",
       "      <th>zodis</th>\n",
       "      <th>kiekis</th>\n",
       "    </tr>\n",
       "  </thead>\n",
       "  <tbody>\n",
       "    <tr>\n",
       "      <th>0</th>\n",
       "      <td>22</td>\n",
       "      <td>rinkimų</td>\n",
       "      <td>16</td>\n",
       "    </tr>\n",
       "    <tr>\n",
       "      <th>1</th>\n",
       "      <td>78</td>\n",
       "      <td>Lietuvos</td>\n",
       "      <td>10</td>\n",
       "    </tr>\n",
       "    <tr>\n",
       "      <th>2</th>\n",
       "      <td>75</td>\n",
       "      <td>ir</td>\n",
       "      <td>9</td>\n",
       "    </tr>\n",
       "    <tr>\n",
       "      <th>3</th>\n",
       "      <td>58</td>\n",
       "      <td>0:00</td>\n",
       "      <td>8</td>\n",
       "    </tr>\n",
       "    <tr>\n",
       "      <th>4</th>\n",
       "      <td>11</td>\n",
       "      <td>proc.</td>\n",
       "      <td>8</td>\n",
       "    </tr>\n",
       "  </tbody>\n",
       "</table>\n",
       "</div>"
      ],
      "text/plain": [
       "   index     zodis  kiekis\n",
       "0     22   rinkimų      16\n",
       "1     78  Lietuvos      10\n",
       "2     75        ir       9\n",
       "3     58      0:00       8\n",
       "4     11     proc.       8"
      ]
     },
     "execution_count": 8,
     "metadata": {},
     "output_type": "execute_result"
    }
   ],
   "source": [
    "df_st = df.sort_values(by=['kiekis'],ascending=False).reset_index()[:5]\n",
    "df_st.head()"
   ]
  },
  {
   "cell_type": "code",
   "execution_count": 9,
   "metadata": {},
   "outputs": [
    {
     "data": {
      "image/png": "[encoded data removed]",
      "text/plain": [
       "<Figure size 640x480 with 1 Axes>"
      ]
     },
     "metadata": {},
     "output_type": "display_data"
    }
   ],
   "source": [
    "fig, ax = plt.subplots()\n",
    "sns.barplot(data=df_st, x=df_st['zodis'], y=df_st['kiekis'])\n",
    "for container in ax.containers:\n",
    "    ax.bar_label(container)\n",
    "plt.show()"
   ]
  },
  {
   "cell_type": "code",
   "execution_count": 10,
   "metadata": {},
   "outputs": [
    {
     "name": "stdout",
     "output_type": "stream",
     "text": [
      "28\n",
      "[500, 297, 21, 527, 1078, 76, 1065, 1345, 214, 424, 549, 145, 1960, 600, 101, 3373, 104, 523, 110, 78, 724, 417, 149, 78, 181, 292, 676, 304]\n",
      "vidutinis zodziu kiekis straipsniuose: 568.25\n"
     ]
    }
   ],
   "source": [
    "# Suskaičiuokite, kiek vidutiniškai turi žodžių straipsniai, esantys Kauno dienoje. \n",
    "import time\n",
    "\n",
    "zodziai_straipsniuose = []\n",
    "\n",
    "for nuoroda in nuorodos:\n",
    "    # print(nuoroda)\n",
    "    if not nuoroda.startswith('https'):\n",
    "        # print(nuoroda)\n",
    "        url3 = f'https://kauno.diena.lt/{nuoroda}'\n",
    "\n",
    "        page = requests.get(url3)\n",
    "        source = page.content\n",
    "\n",
    "        bs3 = BeautifulSoup(source, 'html.parser')\n",
    "        pastraipos = bs3.find_all('span', {'itemprop':'articleBody'})\n",
    "\n",
    "        tekstas = pastraipos[0].text\n",
    "\n",
    "        zodziai_straipsniuose.append(len(tekstas.split()))\n",
    "        # time.sleep(0.5)\n",
    "        # print(len(tekstas.split()))\n",
    "\n",
    "print(len(zodziai_straipsniuose))\n",
    "print(zodziai_straipsniuose)\n",
    "\n",
    "print(f'vidutinis zodziu kiekis straipsniuose: {sum(zodziai_straipsniuose) / len(zodziai_straipsniuose)}')\n",
    "\n"
   ]
  },
  {
   "cell_type": "code",
   "execution_count": 60,
   "metadata": {},
   "outputs": [
    {
     "name": "stdout",
     "output_type": "stream",
     "text": [
      "9577\n",
      "Buvo eksponuoti trys tapybos darbų ciklai „Sakrum ir profanum“, „Pavogti peizažai“ ir „Pasaulis be rėmų – langas į kasdienybę“, tačiau kalbantis su autore atsirado kiti pavadinimai, jie ir panaudoti šiame tekste. Visi trys darbų ciklai akivaizdžiai susiję, anot autorės, juos jungia vidinės ramybės, dvasingumo paieškos kasdienybėje ir kūryboje, iš naujo permąstant svarbias gyvenimo tiesas. Norisi pridurti, tai paieškos būtent Akvilės kasdienybėje ir kūryboje, brėžiančios jos visatos žemėlapį, ryškinančios jos autoportreto detales, panardintas į daugiabriaunę tapybos pastangą. Tapybos medija teikia plačių galimybių autoriui slėptis už spalvinės materijos, ši paroda – ne išimtis, tačiau pokalbis su menininke netikėtai ir tarsi savaime padiktavo itin suasmenintą perspektyvą, nustūmusią tapybos ypatumus į antrą planą. Tačiau pradėkime nuo pradžių.\n",
      "\n",
      "\n",
      "Prie parodos ekspozicijos mane pasitinka moteris – dar jauna, simpatiška, nesąmoningai demonstruojanti keistą stiprybės ir silpnumo derinį, būdingą žmonėms, po ilgo laiko grįžusiems į viešumos sceną. Atsargiai deda vieną koją – matyt, sąnariai, spėju, – šypsosi taip pat atsargiai, patyliukais vis užmeta akį, kaip reaguoja pašnekovas, galų gale atsipalaiduoja, kai patiki pašnekovo nuoširdumu. Ir vis atviriau dalijasi mintimis apie tapybą, nors neįmanoma atsispirti nuojautai, kad tuo pat metu pasakoja apie save, savo šeimą.\n",
      "Pirmiausia ji kalba apie Marijų ciklą. Kodėl Marijos? Nes Akvilė atrado tikėjimą, taip reikalingą pagalbą įveikiant šeimos negandas. Ji vengia apie tai kalbėti daugiau, nei būtina, akivaizdu, nėra poreikio ką nors kam nors įrodinėti, tiesiog tikėjimas yra išorinis jos galios šaltinis, savitas stiprinantis korsetas, leidžiantis autorei savo visatoje eiti tiesia nugara.\n",
      "Kita vertus, religinės ikonografijos akivaizdumas slepia intymesnį pasakojimą apie sudėtingą gyvenimo etapą, apie pasaulį su maža dukryte, kurią ne pati lengviausia diabeto forma privertė vaikščioti paribiais. Ir visada neišsimiegojusią mamą su neatsileidžiančia baimės spyruokle, kai kiekvienas skambutis perduria širdį: gal dukrytė vėl parkrito, o gal kas blogiau?\n",
      "Retai galima stebėti meninę veiklą, kuri būtų taip reikalinga autorei, atsitiesiančiai po nelengvo gyvenimo tarpsnio. Sunku nepatikėti jos Marijomis, nes jose iš tiesų daug spindulių, tiek nutapytų, tiek tų, kurie matomi ne drobėje. Dievo Motinos motyvas yra bene talpiausia forma dėl vaikų besiaukojančiai mamai. Jame susitinka tradicinė religinė ikonografija ir archetipinė Motinos figūra, neabejotinai įrėminusi, pastarąjį dešimtmetį suteikusi gylį autorės gyvenimui. Įsisenėjęs nuovargis, nuodijantis nerimas dėl vaiko būklės ir meninės pastangos sprogimas, kai tas nerimas atslūgo, patikėjus galimybe kontroliuoti ligą. Atrodo, išsiugdytas gebėjimas mobilizuoti individualią energiją transformavosi, o gal tiesiog persiliejo į savo valandos laukusį poreikį išsisakyti, kartais net išsirėkti tapybos kalba.\n",
      "\n",
      "Sunku nepatikėti jos Marijomis, nes jose iš tiesų daug spindulių – tiek nutapytų, tiek tų, kurie matomi ne drobėje.\n",
      "\n",
      "Galbūt Dievo Motina tėra suišorintas vaizdinys, slepiantis taip reikalingą tikėjimo ramentą, kai iš tiesų sunku, dar viena priemonė ieškant papildomų motinystės resursų? Kelias, matuojamas prievolių našta, o ne individualiai duotomis jėgomis. Motinai niekuomet visko neduota pakankamai, motina tampama, viską atrandant ar nežinia iš ko sukuriant savyje. Sakoma, Dievas neduoda išbandymo, kurio žmogus negalėtų pakelti, bet kaip tuo patikėti, jei greta gebančių nešti užkrautą naštą matome ir jos sulaužytus žmones? Autorė jiems nepriklauso, ačiū, turbūt, Dievui, bet tai sakydamas negaliu neprisiminti, kaip atsargiai ji stato vieną koją, droviai slėpdamasi už žodžių apie paveikslus.\n",
      "Neatsitiktinai autorės sūnus, taip pat pradedantis menininko kelią Dailės akademijoje, per pirmą pokalbį pasakojo ne apie save, bet apie mamą, ką ji tapo, kokius tekstus kuria. Neatsitiktinai jo mama, pristatydama šį ciklą, pirmiausia mini tą Mariją, kuri yra jos sūnaus mėgstamiausia ir nuolat kabo jo kambaryje. Ak, jį taip erzina mano maldos, sūnus, žinote, netikintis, bet mano Mariją jis myli. O čia mano dukros portretai, ji nuolat man pozuoja. Vien šių užuominų pakanka, kad suprastume tą šeimą siejančias jėgas ir ką jos nariai iš tiesų myli. Akivaizdu, visa ši paroda yra apie save, tapyba kaip saviraiška, autoportretinis apsinuoginimas, įtarpintas religinės ikonografijos ir kaunietiško ekspresionizmo drabužiais. Ir kartu autoterapinė pastanga, nesąmoningai siejanti šią neaukštą moterį su priešais akis iškeltu universalios motinystės idealu, skleidžianti to idealo, o gal autorės išaugintos Motinos tiesą.\n",
      "Apie Ežero peizažus, antrą parodos ciklą, autorė kalba kitaip, ir aš matau kitą, tylesnę, ramesnę Akvilę, einančią į gamtą, būtinai vieną, sėdančią į kėdę netoli kranto ir eskizuojančią. Paskui grįžtančią namo ir tapančią, kai yra galimybė, remiantis tais eskizais. Eskizai grafiški, nedidelio formato, rodantys apibendrintus, bet atpažįstamus tikrovės veidus, kartais papildytus menine išmone. Linijos spalvotos, neperkrautos, dvelkiančios ramybe. Ką mes stebime? Jau ne Motinos, o Kūrėjos visatą, tą vietų vietą, kurios magijai veikiant autorė palaipsniui surenka, o gal atkuria save vieną prie kito dėdama vis naujus eskizus. Tikėjimas ar kūrybos aktai šiai moteriai teikia atsinaujinimo stiprybę? Nežinau, tik akivaizdu, kad jai tai ne priešpriešintini dalykai ir kad šiame cikle į pirmą planą žengia Kūrėjos archetipas, dar tik ieškantis sau tinkamos išraiškos.\n",
      "Pieštų eskizų virsmas į tapybinę mediją keičia jų atpažįstamumą, verčia kone absoliučiomis abstrakcijomis ir tik įtempus vaizduotę įmanoma atpažinti pirminių motyvų atgarsius, beveik visiškai nutraukusius ryšius su regimos tikrovės pavidalais. Atsargus vandens stichijų pakvietimas, paskui svaigus sklandymas, tada – pasinėrimas, paskui – vėl skrydis, kintanti perspektyva, vandenys iš arti ir iš toli, ištirpusi horizonto linija, kai nelabai aišku, kur prasideda ir kur baigiasi dangus. Ežero ciklo tapyba susiūta iš atskirų fragmentų, tačiau estetiniu požiūriu itin vientisa, sulydyta į vienos kompozicijos erdvę, tarsi atskiros dalys rastų save tik pildydamos viena kitą. Marijų ciklą įkvėpusį susižavėjimą Jeanu Micheliu Basquiatu keičia įsiklausymas į čiurlioniškos dvasios aidą, stiprius, kontrastingų spalvų siluetus – sulietų, padūmavusių tolių komtempliavimas. Ežero peizažų cikle Akvilė ne tiek dalija, kiek renka save pasitelkusi reinkarnuojančias vandenų stichijas.\n",
      "Visų trijų ciklų tapyba yra savita kaunietiško ekspresionizmo adaptacija, įveiklinanti tiek grynos spalvos, tiek laisvo potėpio galimybes. Kita vertus, peržengianti tradicinio žanro ribas bent dviem būdais: išeidama už rėmų, tiesiogine prasme nusileisdama ant grindų, bet tai įmanoma pamatyti tik „gyvoje“ ekspozicijoje; ir keisdama drobe aptemtą porėmį netipiniu paviršiumi tapybai – įvairių formų automobilio stiklais. Šis pokytis neturi nieko bendra su tvarumo ideologija, reikalaujančia ne išmesti, o naujai įveiklinti atitarnavusius daiktus. Veikiau banali pinigų stoka ir kartu estetinėms reikmėms nusavinti stiklo ypatumai, blizgių atspindžių efektai. Kas prasidėjo drobės pakaitalų paieška, baigėsi naujų estetinių galimybių atradimu derinant tapybos ir lenktų formų stiklo iškalbą.\n",
      "Taip atkeliaujame prie trečio, Tapytų stiklų, ciklo. Tai gan sėkmingas tapybai neįprastų objektų įmeninimo eksperimentas, supinantis lango ir drobės ekrano simboliką: į tapybos motyvą, į rodomą tikrovės fragmentą siūloma žvelgti pro langą tiesiogine ir perkeltine prasme. Pati autorė nebandė šiam prasminiam dvilypumui suteikti estetinio matmens, tarkime, suliejant motyvą, tarsi būtų žvelgiama pro lekiančio automobilio langą. Pirmiausia jos dėmesys nukreiptas į lenktų paviršių ir stiklo blizgesio efektų naudojimą. Jis ne visada sėkmingas, tapyba kartais nepakankamai atsižvelgia į stiklinio pagrindo savitumą, bet yra tikrai stiprių darbų. Ypač pavykę peizažai, aktyvinantys stiklo ir vaizduojamo vandens atspindžių giminystę, apibendrinantys, išgryninantys naudojamų spalvų gamą iki būtino minimumo. Šiuo požiūriu tai ne naujo „stiklinio“ ciklo dalis, bet ankstesnių Ežero peizažų tąsa įveiklinant naujus paviršius.\n",
      "Nežinau, kodėl, bet mano akį užkabino vienas nedidelio formato darbas, kurio nepermatomas ir blizgus geltonis kartu su netaisyklingai pusapvaliu stiklo pagrindu sukūrė paveikų drumsto gintaro efektą. Keista organinė akis, žvelgianti į save ir nenusakomu būdu primenanti smėlį, bangas, dangų nusvėrusį horizontą. Kuris tai darbas, nesakysiu, tegul žiūrovas, kai turės galimybę, pats susiranda su juo susišnekantį paveikslą.\n",
      "Tapytų stiklų ciklas stipriausiai veikia kaip visuma, nereikalaujanti koncentruoti dėmesį į atskirus objektus. Stačiakampį, „savaime suprantamą“ tapybos motyvo rėminimą keičia gerokai laisvesnis ir individualesnis skirtingo dydžio stiklų panaudojimas, blizgūs, užapvalintų kampų „porėmiai“ kelia netikėtumo įspūdį, išplečia eksponavimo galimybes tiek derinant skirtingų formų siluetus ant sienos, tiek statant juos kaip tūrinius objektus ant grindų. Šio ciklo ekspozicija kiek perkrauta, ypač tai sakytina apie tapybą / stiklus ant grindų, bet pats ciklas gana patrauklus ir neabejotinai kelia tam tikrą šviežumo įspūdį.\n",
      "Ką pasakyti baigiant? Iki šios parodos su Akvilės tapyba nebuvau susidūręs ir jokių ypatingų lūkesčių nepuoselėjau. Po parodos išsinešiau nelauktą nuostabą, smagų mažyčio atradimo pojūtį.\n",
      "\n",
      "Kas: A. Linkevičienės paroda „Mėgaukis tyla / Enjoy the silence“.\n",
      "Kur: Kultūros centre „Girstutis“.\n",
      "Kada: veikia iki spalio 22 d.\n",
      "\n",
      "1273\n"
     ]
    }
   ],
   "source": [
    "url = \"https://kauno.diena.lt/naujienos/kaunas/menas-ir-pramogos/viesnage-linkevicienes-kurybos-visatoje-1195368\"\n",
    "\n",
    "page = requests.get(url)\n",
    "source = page.content\n",
    "\n",
    "bs = BeautifulSoup(source, 'html.parser')\n",
    "straipsniai = bs.find_all('span', {'itemprop':'articleBody'})\n",
    "tekstas = straipsniai[0].text\n",
    "print(len(tekstas))\n",
    "print(tekstas)\n",
    "zodziai = tekstas.split()\n",
    "print(len(zodziai))"
   ]
  },
  {
   "cell_type": "code",
   "execution_count": 14,
   "metadata": {},
   "outputs": [],
   "source": [
    "# delfi.lt\n",
    "\n",
    "url = 'https://www.delfi.lt/'\n",
    "page = requests.get(url)\n",
    "source = page.content\n",
    "bs = BeautifulSoup(source, 'html.parser')\n",
    "\n",
    "\n",
    "nuorodos = []\n",
    "pavadinimai = []\n"
   ]
  },
  {
   "cell_type": "code",
   "execution_count": 16,
   "metadata": {},
   "outputs": [
    {
     "name": "stdout",
     "output_type": "stream",
     "text": [
      "71\n"
     ]
    }
   ],
   "source": [
    "straipsniai = bs.find_all('div', {'class':'block-type-102-headline__title'})\n",
    "print(len(straipsniai))"
   ]
  },
  {
   "cell_type": "code",
   "execution_count": 23,
   "metadata": {},
   "outputs": [],
   "source": [
    "for s in straipsniai:\n",
    "    if s is not None:\n",
    "        i = s.find('a')\n",
    "        # print(':::NEXT:::')\n",
    "        # print(i['href'])\n",
    "        # print(i.text)\n",
    "        nuorodos.append(i['href'])\n",
    "        pavadinimai.append(i.text)"
   ]
  },
  {
   "cell_type": "code",
   "execution_count": 24,
   "metadata": {},
   "outputs": [
    {
     "name": "stdout",
     "output_type": "stream",
     "text": [
      "71\n",
      "['Seimo rinkimai 2024: Širvintų rajone į rinkimų apylinkę buvo atėjęs vyras su žaisliniu pistoletu ir antrankiais', 'Prie balsadėžių stojantys lietuviai atviri: pareiškė, ko tikisi iš naujos valdžios', 'Pažeidimai dėl alkoholio, nutikę per pastaruosius rinkimus: nuo lengvo iki sunkaus girtumo', 'Rinkimuose – šiurkštus pažeidimas: komisija už žmogų pažymėjo jo biuletenį', 'Kelyje Vilnius–Varėna didelė avarija: susidūrė trys automobiliai, gelbėtojai vadavo prispaustą žmogų', 'Už 10 metų kariuomenėje – 148 Eur pensijos: panašiai gauna už porą metų darbo Anglijoje', 'Priemonė, kurios dažnai griebiasi susipykusios poros: ne tik nepadės, bet ir ilgainiui pablogins santykius', 'Didelis gaisras Vilniaus rajone: gausios gelbėtojų pajėgos gesino daugiabutį, gyventojai liko be pastogės', 'Mantas Stonkus pradeda dar vieną naują etapą: tiki, kad tai padės spręsti opią problemą', 'Realybės atspindys? Lietuvos rinktinės tempėjai – antraeiliai Eurolygos veikėjai', 'Savaitgalį keliuose – daugybė neblaivių vairuotojų, 17 sulauks baudžiamųjų bylų ir neteks automobilių, traktoriaus', 'Kosmetologė paaiškino, kokie požymiai iš tikrųjų išduoda tikrąjį žmogaus amžių', 'Užvirus diskusijoms dėl mažų butų nuomos – specialistų komentarai: tokie būstai ypač naudingi vienam segmentui', 'Susižadėjo ieties metikė Liveta Jasiūnaitė ir dešimtkovininkas Edgaras Benkunskas ', 'Žiniasklaida: „Hamas“ Izraelyje planavo Rugsėjo 11-osios stiliaus teroristinį išpuolį', 'Patarė, ko šiukštu neskubėti daryti suvalgius obuolį', '„Bild“: Vokietija nebeplanuoja duoti Ukrainai sunkiosios karinės technikos', 'Oro balionai – ne naujiena: kaip sovietinę Lietuvą įaudrindavo paslaptingi dangaus kūnai', 'Svarbus pasiekimas: amerikiečių gynyba prireikus numušinės ir rusų raketas', 'Po pasiimto nedarbingumo pažymėjimo – keistas darbdavio pasiūlymas: esu suglumusi  ', 'Eurolygos tvarkaraščio beprotybė: per vieną vakarą – kone visas turas', 'Karas Ukrainoje. Įvardijo, kas padėjo rusams užimti Vuhledarą ir pulti Pokrovską', 'Po žmogžudystės – šaltakraujiškas melas: išgirdau paskutinį jo atodūsį ir supratau, kad tai viskas', 'Legendinė Laima Kybartienė – apie garsų uošvį, kolegų apkalbas ir smūgį, po kurio verkė 2 savaites: negalėjau net kvėpuoti', 'Išskyrė mikroelementą, kuris būtinas visiems: apie jo trūkumą įspėja ir skilinėjantys lūpų kampučiai', 'Kodėl tiek daug batų nuskendusiame „Titanike“ yra nepažeisti ir poromis, nors jų savininkų nėra? Atsakymas gąsdina', 'Atskleista siaubinga Franklino ekspedicijos pabaiga: žymės ant kaulų parodė šiurpų kapitono likimą – išbadėję jūreiviai jį suvalgė ', 'Renata Gaidan sužibėjo moterų konkurse, kuriam ryžtųsi ne kiekviena: ištvėriau viską', 'Egipte atostogavęs lietuvis nustebo, kiek daug viešbutyje buvo rusų: du iš jų su raudona vėliava šlaistėsi po teritoriją', 'Balsuoti atėję rinkėjai pasidalijo lūkesčiais: norisi sąžinės ir nuoširdumo', 'Poligonas. Pažintis su lietuviškąja aukštųjų lazerinių technologijų įmone ir jų sukurtais lazeriniais taikikliais', 'Sekmadienio šv. Mišios Šiluvos bazilikoje', 'ELTA savaitė. Ukrainos žurnalistas Butusovas apie padėtį fronte: Rusija apskaičiavo, kiek žmonių gali sau leisti prarasti per mėnesį', 'Su kuo kariausim? NATO generolo įspėjimas: kokiu atveju ribojimų smogti Rusijai neliktų', 'Sveikatos receptas. Vienas retai aptariamas rodiklis tyrimuose gali būti svorio augimo priežastimi', 'Parodos „Iš vidaus“ atidarymo MOratonas', 'Jūs rimtai? Žvagulis – apie debatuose įkaitusią rinkiminę atmosferą', 'NAUJA KARTA by Nepatogūs klausimai su Goda Problema. Svečiuose – Paulencijus', 'Pas Editą. Benas Lastauskas – kaip jam pavyko?', 'Išskirtinis „Delfi“ interviu: lenkų generolas baksnoja į Vakarų klaidas ir ragina aiškiai atsakyti Maskvai', 'Buvę emigrantai paniro į žemės ūkį – bijo tik vieno, kad valdžia vietoj bulvių privers sėti pievą ', 'Maisto atsargų kaupimas dienai X – kada jį pradėtų teikti valstybė ir kur laikomi produktai ', 'Tokių galimybių Lietuva dar neturėjo: iš Baltijos šalių būsime pajėgiausi, bet liko neatsakytų klausimų', 'Įvyko pirmasis „Delfi“ iniciatyvos „Saugu“ susitikimas su bendruomene: gyventojų pasirengimas stebina', 'Seimo rinkimai 2024: Širvintų rajone į rinkimų apylinkę buvo atėjęs vyras su žaisliniu pistoletu ir antrankiais', 'Konstatavo, kad karas Ukrainoje nesibaigs derybomis: mato tik dvi išeitis, kaip Ukraina galėtų laimėti', 'Atkeliauja lietingi ir rudeniški orai', 'Atviras išskirtinio šalies mokytojo interviu – apie tai, kodėl mokymasis neturi visada būti smagus ir už ką nekenčia „TikTok’ų“', 'Niekada nepakartotas Seimo rinkimų rekordas: paaiškinimų daugiau nei vienas', 'Prie balsadėžių stojantys lietuviai atviri: pareiškė, ko tikisi iš naujos valdžios', 'Pažeidimai dėl alkoholio, nutikę per pastaruosius rinkimus: nuo lengvo iki sunkaus girtumo', 'Už 10 metų kariuomenėje – 148 Eur pensijos: panašiai gauna už porą metų darbo Anglijoje', 'Rinkimuose – šiurkštus pažeidimas: komisija už žmogų pažymėjo jo biuletenį', 'URM: ambasada Egipte ieško sprendimų kaip iš Libano išgabenti ten likusius lietuvius', 'Po pasiimto nedarbingumo pažymėjimo – keistas darbdavio pasiūlymas: esu suglumusi  ', 'Sekmadienio rytą piliečiai pasuko link balsadėžių: balsavau užtikrintai', 'Seimo rinkimuose balsuojantys vilniečiai: stebėjome debatus, klausėme pažadų, žiūrėsime, ką kalbės po rinkimų', 'Per parą VSAT pareigūnai pasienyje apgręžė 19 neteisėtų migrantų', 'VRK neigia, neva rinkimų simuliacijos biuleteniai bus priskaičiuoti prie partijų balsų', 'Nuo vidurnakčio įsigalios rinkimų agitacijos draudimas', 'Partijos Seimo rinkimams sukaupė daugiau kaip 3,2 mln. eurų: gausiausiai savo sąskaitą pripildė konservatoriai', 'Apklausa: kaip didžiausią riziką šaliai lietuviai įvardija geopolitinę įtampą', 'Dalis kandidatų į premjerus žada siekti lyčių balanso būsimoje Vyriausybėje: nenori, kad kartotųsi buvusių kadencijų istorijos', 'Seimą paliksiantys parlamentarai gaus dosnias išeitines išmokas', 'Išminuotojų rekordas: kariuomenė Akmenės rajone atkasė apie 3 tūkst. karinių sviedinių', 'Iki 2  mėnesių siūloma pailginti skundo pateikimo terminą administraciniam teismui', 'Kam per Seimo rinkimus bus šakės? Ekspertai įvertino partijų elgesį ', 'Karo ekspertai: rusais tikėti – savęs negerbti', 'Konservatorių įsiutintiems socialdemokratams – Kasčiūno žinutė', 'VRK: Seimo rinkimuose dirbs apie 16 tūkstančių komisijų narių ir daugiau nei 3 tūkstančiai stebėtojų', '15-mečio Mato mama: aš jaučiu, kad mano vaikas tikrai nėra Neryje']\n",
      "71\n",
      "['/news/daily/politics/seimo-rinkimai-2024-sirvintu-rajone-i-rinkimu-apylinke-buvo-atejes-vyras-su-zaisliniu-pistoletu-ir-antrankiais-120056470', '/news/daily/lithuania/prie-balsadeziu-stojantys-lietuviai-atviri-pareiske-ko-tikisi-is-naujos-valdzios-120056836', '/news/daily/lithuania/pazeidimai-del-alkoholio-nutike-per-pastaruosius-rinkimus-nuo-lengvo-iki-sunkaus-girtumo-120056828', '/news/daily/politics/rinkimuose-siurkstus-pazeidimas-komisija-uz-zmogu-pazymejo-jo-biuleteni-120056827', '/news/daily/crime/kelyje-vilnius-varena-didele-avarija-susidure-trys-automobiliai-gelbetojai-vadavo-prispausta-zmogu-120056849', '/news/daily/lithuania/uz-10-metu-kariuomeneje-148-eur-pensijos-panasiai-gauna-uz-pora-metu-darbo-anglijoje-120054871', 'https://www.delfi.lt/moterys/santykiai/priemone-kurios-daznai-griebiasi-susipykusios-poros-ne-tik-nepades-bet-ir-ilgainiui-pablogins-santykius-120056149', '/news/daily/crime/didelis-gaisras-vilniaus-rajone-gausios-gelbetoju-pajegos-gesino-daugiabuti-gyventojai-liko-be-pastoges-120056809', 'https://www.delfi.lt/veidai/zmones/mantas-stonkus-pradeda-dar-viena-nauja-etapa-tiki-kad-tai-pades-spresti-opia-problema-120056825', 'https://www.delfi.lt/krepsinis/eurolyga/realybes-atspindys-lietuvos-rinktines-tempejai-antraeiliai-eurolygos-veikejai-120056789', '/news/daily/crime/savaitgali-keliuose-daugybe-neblaiviu-vairuotoju-17-sulauks-baudziamuju-bylu-ir-neteks-automobiliu-traktoriaus-120056834', 'https://www.delfi.lt/stilius/grozis/kosmetologe-paaiskino-kokie-pozymiai-is-tikruju-isduoda-tikraji-zmogaus-amziu-120056823', 'https://www.delfi.lt/bustas/nt-rinka/uzvirus-diskusijoms-del-mazu-butu-nuomos-specialistu-komentarai-tokie-bustai-ypac-naudingi-vienam-segmentui-120056726', 'https://www.delfi.lt/veidai/zmones/susizadejo-ieties-metike-liveta-jasiunaite-ir-desimtkovininkas-edgaras-benkunskas-120056839', '/news/daily/world/ziniasklaida-hamas-izraelyje-planavo-rugsejo-11-osios-stiliaus-teroristini-ispuoli-120056807', 'https://www.delfi.lt/sveikata/odontologija/patare-ko-siukstu-neskubeti-daryti-suvalgius-obuoli-120053139', '/news/daily/world/bild-vokietija-nebeplanuoja-duoti-ukrainai-sunkiosios-karines-technikos-120056818', 'https://www.delfi.lt/gyvenimas/istorijos/oro-balionai-ne-naujiena-kaip-sovietine-lietuva-iaudrindavo-paslaptingi-dangaus-kunai-120055832', '/news/daily/world/svarbus-pasiekimas-amerikieciu-gynyba-prireikus-numusines-ir-rusu-raketas-120056801', '/news/daily/lithuania/po-pasiimto-nedarbingumo-pazymejimo-keistas-darbdavio-pasiulymas-esu-suglumusi-120056006', 'https://www.delfi.lt/krepsinis/naujienos/eurolygos-tvarkarascio-beprotybe-per-viena-vakara-kone-visas-turas-120056787', '/news/daily/world/karas-ukrainoje-ivardijo-kas-padejo-rusams-uzimti-vuhledara-ir-pulti-pokrovska-120056780', '/news/daily/crime/po-zmogzudystes-saltakraujiskas-melas-isgirdau-paskutini-jo-atodusi-ir-supratau-kad-tai-viskas-120055720', 'https://www.delfi.lt/veidai/zmones/legendine-laima-kybartiene-apie-garsu-uosvi-kolegu-apkalbas-ir-smugi-po-kurio-verke-2-savaites-negalejau-net-kvepuoti-120055886', 'https://www.delfi.lt/sveikata/zinoti-sveika/isskyre-mikroelementa-kuris-butinas-visiems-apie-jo-trukuma-ispeja-ir-skilinejantys-lupu-kampuciai-120056777', 'https://www.delfi.lt/gyvenimas/istorijos/kodel-tiek-daug-batu-nuskendusiame-titanike-yra-nepazeisti-ir-poromis-nors-ju-savininku-nera-atsakymas-gasdina-120056523', 'https://www.delfi.lt/mokslas/mokslas/atskleista-siaubinga-franklino-ekspedicijos-pabaiga-zymes-ant-kaulu-parode-siurpu-kapitono-likima-isbadeje-jureiviai-ji-suvalge-120056666', 'https://www.delfi.lt/veidai/zmones/renata-gaidan-suzibejo-moteru-konkurse-kuriam-ryztusi-ne-kiekviena-istveriau-viska-120055248', 'https://www.delfi.lt/keliones/platus-pasaulis/egipte-atostogaves-lietuvis-nustebo-kiek-daug-viesbutyje-buvo-rusu-du-is-ju-su-raudona-veliava-slaistesi-po-teritorija-120056499', 'https://www.delfi.lt/video/aktualijos/balsuoti-ateje-rinkejai-pasidalijo-lukesciais-norisi-sazines-ir-nuosirdumo-120056831', 'https://www.delfi.lt/video/laidos/poligonas/poligonas-pazintis-su-lietuviskaja-aukstuju-lazeriniu-technologiju-imone-ir-ju-sukurtais-lazeriniais-taikikliais-120056447', 'https://www.delfi.lt/video/laidos/misios/sekmadienio-sv-misios-siluvos-bazilikoje-120056629', 'https://www.delfi.lt/video/aktualijos/elta-savaite-ukrainos-zurnalistas-butusovas-apie-padeti-fronte-rusija-apskaiciavo-kiek-zmoniu-gali-sau-leisti-prarasti-per-menesi-120056649', 'https://www.delfi.lt/video/tinklalaides/su-kuo-kariausim/su-kuo-kariausim-nato-generolo-ispejimas-kokiu-atveju-ribojimu-smogti-rusijai-neliktu-120056460', 'https://www.delfi.lt/video/laidos/sveikatos-receptas/sveikatos-receptas-vienas-retai-aptariamas-rodiklis-tyrimuose-gali-buti-svorio-augimo-priezastimi-120056519', 'https://www.delfi.lt/video/transliacijos/parodos-is-vidaus-atidarymo-moratonas-120054503', 'https://www.delfi.lt/video/laidos/jus-rimtai/jus-rimtai-zvagulis-apie-debatuose-ikaitusia-rinkimine-atmosfera-120056427', 'https://www.delfi.lt/video/laidos/nauja-karta/nauja-karta-by-nepatogus-klausimai-su-goda-problema-sveciuose-paulencijus-120056257', 'https://www.delfi.lt/video/laidos/pas-edita/pas-edita-benas-lastauskas-kaip-jam-pavyko-120056557', 'https://www.delfi.lt/saugu/politika/isskirtinis-delfi-interviu-lenku-generolas-baksnoja-i-vakaru-klaidas-ir-ragina-aiskiai-atsakyti-maskvai-120056020', 'https://www.delfi.lt/saugu/ekonomika/buve-emigrantai-paniro-i-zemes-uki-bijo-tik-vieno-kad-valdzia-vietoj-bulviu-privers-seti-pieva-120055903', 'https://www.delfi.lt/saugu/naujienos/maisto-atsargu-kaupimas-dienai-x-kada-ji-pradetu-teikti-valstybe-ir-kur-laikomi-produktai-120053938', 'https://www.delfi.lt/saugu/naujienos/tokiu-galimybiu-lietuva-dar-neturejo-is-baltijos-saliu-busime-pajegiausi-bet-liko-neatsakytu-klausimu-120055777', 'https://www.delfi.lt/saugu/naujienos/ivyko-pirmasis-delfi-iniciatyvos-saugu-susitikimas-su-bendruomene-gyventoju-pasirengimas-stebina-120055745', '/news/daily/politics/seimo-rinkimai-2024-sirvintu-rajone-i-rinkimu-apylinke-buvo-atejes-vyras-su-zaisliniu-pistoletu-ir-antrankiais-120056470', '/news/daily/lithuania/konstatavo-kad-karas-ukrainoje-nesibaigs-derybomis-mato-tik-dvi-iseitis-kaip-ukraina-galetu-laimeti-120056314', '/news/daily/lithuania/atkeliauja-lietingi-ir-rudeniski-orai-120056764', '/news/daily/education/atviras-isskirtinio-salies-mokytojo-interviu-apie-tai-kodel-mokymasis-neturi-visada-buti-smagus-ir-uz-ka-nekencia-tiktok-u-120056280', '/news/daily/politics/niekada-nepakartotas-seimo-rinkimu-rekordas-paaiskinimu-daugiau-nei-vienas-120056297', '/news/daily/lithuania/prie-balsadeziu-stojantys-lietuviai-atviri-pareiske-ko-tikisi-is-naujos-valdzios-120056836', '/news/daily/lithuania/pazeidimai-del-alkoholio-nutike-per-pastaruosius-rinkimus-nuo-lengvo-iki-sunkaus-girtumo-120056828', '/news/daily/lithuania/uz-10-metu-kariuomeneje-148-eur-pensijos-panasiai-gauna-uz-pora-metu-darbo-anglijoje-120054871', '/news/daily/politics/rinkimuose-siurkstus-pazeidimas-komisija-uz-zmogu-pazymejo-jo-biuleteni-120056827', '/news/daily/lithuania/urm-ambasada-egipte-iesko-sprendimu-kaip-is-libano-isgabenti-ten-likusius-lietuvius-120056819', '/news/daily/lithuania/po-pasiimto-nedarbingumo-pazymejimo-keistas-darbdavio-pasiulymas-esu-suglumusi-120056006', '/news/daily/politics/sekmadienio-ryta-pilieciai-pasuko-link-balsadeziu-balsavau-uztikrintai-120056791', '/news/daily/politics/seimo-rinkimuose-balsuojantys-vilnieciai-stebejome-debatus-klauseme-pazadu-ziuresime-ka-kalbes-po-rinkimu-120056788', '/news/daily/lithuania/per-para-vsat-pareigunai-pasienyje-apgreze-19-neteisetu-migrantu-120056781', '/news/daily/lithuania/vrk-neigia-neva-rinkimu-simuliacijos-biuleteniai-bus-priskaiciuoti-prie-partiju-balsu-120056759', '/news/daily/lithuania/nuo-vidurnakcio-isigalios-rinkimu-agitacijos-draudimas-120056756', '/news/daily/lithuania/partijos-seimo-rinkimams-sukaupe-daugiau-kaip-3-2-mln-euru-gausiausiai-savo-saskaita-pripilde-konservatoriai-120056751', '/news/daily/lithuania/apklausa-kaip-didziausia-rizika-saliai-lietuviai-ivardija-geopolitine-itampa-120056750', '/news/daily/politics/dalis-kandidatu-i-premjerus-zada-siekti-lyciu-balanso-busimoje-vyriausybeje-nenori-kad-kartotusi-buvusiu-kadenciju-istorijos-120056741', '/news/daily/politics/seima-paliksiantys-parlamentarai-gaus-dosnias-iseitines-ismokas-120056731', '/news/daily/lithuania/isminuotoju-rekordas-kariuomene-akmenes-rajone-atkase-apie-3-tukst-kariniu-sviediniu-120056705', '/news/daily/lithuania/iki-2-menesiu-siuloma-pailginti-skundo-pateikimo-termina-administraciniam-teismui-120056702', '/news/daily/politics/kam-per-seimo-rinkimus-bus-sakes-ekspertai-ivertino-partiju-elgesi-120056646', '/news/daily/lithuania/karo-ekspertai-rusais-tiketi-saves-negerbti-120056430', '/news/daily/politics/konservatoriu-isiutintiems-socialdemokratams-kasciuno-zinute-120056472', '/news/daily/lithuania/vrk-seimo-rinkimuose-dirbs-apie-16-tukstanciu-komisiju-nariu-ir-daugiau-nei-3-tukstanciai-stebetoju-120056661', '/news/daily/lithuania/15-mecio-mato-mama-as-jauciu-kad-mano-vaikas-tikrai-nera-neryje-120056657']\n"
     ]
    }
   ],
   "source": [
    "print(len(pavadinimai))\n",
    "print(pavadinimai)\n",
    "print(len(nuorodos))\n",
    "print(nuorodos)"
   ]
  },
  {
   "cell_type": "code",
   "execution_count": 25,
   "metadata": {},
   "outputs": [
    {
     "name": "stdout",
     "output_type": "stream",
     "text": [
      "vidutinis zodziu kiekis pavadinimuose: 11.633802816901408\n"
     ]
    }
   ],
   "source": [
    "# Suraskite vidutinį straipsnių pavadinimuose esančių žodžių skaičių.\n",
    "zodziu_kiekiai = []\n",
    "for pav in pavadinimai:\n",
    "    kiekis = len(pav.split())\n",
    "    zodziu_kiekiai.append(kiekis)\n",
    "    \n",
    "vidutinis_zodziu_kiekis = sum(zodziu_kiekiai) / len(zodziu_kiekiai)\n",
    "print(f'vidutinis zodziu kiekis pavadinimuose: {vidutinis_zodziu_kiekis}')"
   ]
  },
  {
   "cell_type": "code",
   "execution_count": 26,
   "metadata": {},
   "outputs": [
    {
     "name": "stdout",
     "output_type": "stream",
     "text": [
      "{5: 3, 6: 2, 7: 3, 8: 3, 9: 9, 10: 8, 11: 10, 12: 6, 13: 4, 14: 8, 15: 5, 16: 4, 17: 2, 18: 2, 19: 2}\n",
      "71\n"
     ]
    },
    {
     "data": {
      "image/png": "[encoded data removed]",
      "text/plain": [
       "<Figure size 800x450 with 1 Axes>"
      ]
     },
     "metadata": {},
     "output_type": "display_data"
    }
   ],
   "source": [
    "# Atvaizduoikite grafiškai straipsnių kiekį VS žodžių kiekis pavadinime.\n",
    "\n",
    "# from collections import Counter\n",
    "\n",
    "# sample_list = [1,4,2,6,3,4,8,2,9,2,7,0]\n",
    "# print(Counter(sample_list))\n",
    "\n",
    "kiekiai_dict = {}\n",
    "for k in (list(set(zodziu_kiekiai))):\n",
    "    kiekiai_dict[k] = 0\n",
    "\n",
    "\n",
    "for k in kiekiai_dict.keys():\n",
    "    c = zodziu_kiekiai.count(k)\n",
    "    kiekiai_dict[k] = c\n",
    "    \n",
    "print(kiekiai_dict)\n",
    "print(sum(kiekiai_dict.values()))\n",
    "\n",
    "x_asis = list(kiekiai_dict.keys())\n",
    "\n",
    "fig, ax = plt.subplots(figsize=(8, 4.5))\n",
    "\n",
    "B = ax.bar(kiekiai_dict.keys(), kiekiai_dict.values())\n",
    "ax.bar_label(B)\n",
    "ax.set_xticks(x_asis)\n",
    "ax.set_xlabel('zodziu kiekiai pavadinimuose')\n",
    "ax.set_ylabel('pasikartojimai')\n",
    "\n",
    "plt.show()"
   ]
  },
  {
   "cell_type": "code",
   "execution_count": 27,
   "metadata": {},
   "outputs": [
    {
     "name": "stdout",
     "output_type": "stream",
     "text": [
      "23\n",
      "Legendinė Laima Kybartienė – apie garsų uošvį, kolegų apkalbas ir smūgį, po kurio verkė 2 savaites: negalėjau net kvėpuoti\n",
      "https://www.delfi.lt/veidai/zmones/legendine-laima-kybartiene-apie-garsu-uosvi-kolegu-apkalbas-ir-smugi-po-kurio-verke-2-savaites-negalejau-net-kvepuoti-120055886\n"
     ]
    }
   ],
   "source": [
    "# Suraskite ilgiausią pavadinimą, nueikite į tą straipsnį,\n",
    "# suraskite 5kis dažniausiai pasikartojančius žodžius, iliustruokite grafiškai.\n",
    "\n",
    "idx = (zodziu_kiekiai.index(max(zodziu_kiekiai)))\n",
    "print(idx)\n",
    "print(pavadinimai[idx])\n",
    "print(nuorodos[idx])\n",
    "max_zodziu_straipsnis = nuorodos[idx]"
   ]
  },
  {
   "cell_type": "code",
   "execution_count": 48,
   "metadata": {},
   "outputs": [
    {
     "name": "stdout",
     "output_type": "stream",
     "text": [
      "https://www.delfi.lt/veidai/zmones/legendine-laima-kybartiene-apie-garsu-uosvi-kolegu-apkalbas-ir-smugi-po-kurio-verke-2-savaites-negalejau-net-kvepuoti-120055886\n",
      "120\n",
      "dict_values([1, 1, 1, 3, 1, 1, 1, 1, 1, 3, 1, 1, 1, 1, 1, 1, 1, 1, 1, 1, 1, 1, 7, 1, 1, 1, 1, 1, 1, 1, 1, 1, 1, 1, 1, 1, 1, 1, 1, 1, 1, 1, 1, 1, 1, 1, 1, 1, 1, 1, 1, 1, 1, 1, 1, 1, 1, 1, 1, 1, 1, 1, 1, 1, 1, 1, 1, 1, 1, 1, 1, 1, 1, 1, 1, 1, 1, 1, 1, 1, 1, 1, 1, 1, 1, 1, 1, 1, 1, 1, 1, 1, 1, 1, 1, 1, 1, 1, 1, 1, 1, 1, 1, 1, 1, 1, 1, 1, 1, 1])\n"
     ]
    }
   ],
   "source": [
    "if max_zodziu_straipsnis.startswith('https:'):\n",
    "    url2 = max_zodziu_straipsnis\n",
    "else:\n",
    "    url2 = f'https://www.delfi.lt/{max_zodziu_straipsnis}'\n",
    "# url2 = 'https://www.delfi.lt/news/daily/crime/didelis-gaisras-vilniaus-rajone-gausios-gelbetoju-pajegos-gesino-daugiabuti-gyventojai-liko-be-pastoges-120056809'\n",
    "print(url2)\n",
    "page = requests.get(url2)\n",
    "source = page.content\n",
    "bs2 = BeautifulSoup(source, 'html.parser')\n",
    "\n",
    "\n",
    "pastraipos = bs2.find_all('div', {'class':'fragment fragment-html fragment-html--paragraph'})\n",
    "# print(len(pastraipos))\n",
    "\n",
    "fragmentai = []\n",
    "\n",
    "for p in pastraipos:\n",
    "    fragmentai.append(p.text)\n",
    "    # print()\n",
    "    # print(p.text)\n",
    "    \n",
    "tekstas = ' '.join(fragmentai)\n",
    "# print(tekstas)\n",
    "print(len(tekstas.split()))\n",
    "\n",
    "from collections import Counter\n",
    "\n",
    "zodziai_tektste = dict(Counter(tekstas.split()))\n",
    "print(zodziai_tektste.values())"
   ]
  },
  {
   "cell_type": "code",
   "execution_count": 49,
   "metadata": {},
   "outputs": [
    {
     "data": {
      "text/html": [
       "<div>\n",
       "<style scoped>\n",
       "    .dataframe tbody tr th:only-of-type {\n",
       "        vertical-align: middle;\n",
       "    }\n",
       "\n",
       "    .dataframe tbody tr th {\n",
       "        vertical-align: top;\n",
       "    }\n",
       "\n",
       "    .dataframe thead th {\n",
       "        text-align: right;\n",
       "    }\n",
       "</style>\n",
       "<table border=\"1\" class=\"dataframe\">\n",
       "  <thead>\n",
       "    <tr style=\"text-align: right;\">\n",
       "      <th></th>\n",
       "      <th>zodis</th>\n",
       "      <th>kiekis</th>\n",
       "    </tr>\n",
       "  </thead>\n",
       "  <tbody>\n",
       "    <tr>\n",
       "      <th>0</th>\n",
       "      <td>Legendinė</td>\n",
       "      <td>1</td>\n",
       "    </tr>\n",
       "    <tr>\n",
       "      <th>1</th>\n",
       "      <td>sveikinimų</td>\n",
       "      <td>1</td>\n",
       "    </tr>\n",
       "    <tr>\n",
       "      <th>2</th>\n",
       "      <td>vedėja</td>\n",
       "      <td>1</td>\n",
       "    </tr>\n",
       "    <tr>\n",
       "      <th>3</th>\n",
       "      <td>Laima</td>\n",
       "      <td>3</td>\n",
       "    </tr>\n",
       "    <tr>\n",
       "      <th>4</th>\n",
       "      <td>Kybartienė</td>\n",
       "      <td>1</td>\n",
       "    </tr>\n",
       "  </tbody>\n",
       "</table>\n",
       "</div>"
      ],
      "text/plain": [
       "        zodis  kiekis\n",
       "0   Legendinė       1\n",
       "1  sveikinimų       1\n",
       "2      vedėja       1\n",
       "3       Laima       3\n",
       "4  Kybartienė       1"
      ]
     },
     "execution_count": 49,
     "metadata": {},
     "output_type": "execute_result"
    }
   ],
   "source": [
    "df = pd.DataFrame(zodziai_tektste.items(), columns=['zodis', 'kiekis'])\n",
    "\n",
    "df.head()"
   ]
  },
  {
   "cell_type": "code",
   "execution_count": 50,
   "metadata": {},
   "outputs": [
    {
     "data": {
      "text/html": [
       "<div>\n",
       "<style scoped>\n",
       "    .dataframe tbody tr th:only-of-type {\n",
       "        vertical-align: middle;\n",
       "    }\n",
       "\n",
       "    .dataframe tbody tr th {\n",
       "        vertical-align: top;\n",
       "    }\n",
       "\n",
       "    .dataframe thead th {\n",
       "        text-align: right;\n",
       "    }\n",
       "</style>\n",
       "<table border=\"1\" class=\"dataframe\">\n",
       "  <thead>\n",
       "    <tr style=\"text-align: right;\">\n",
       "      <th></th>\n",
       "      <th>index</th>\n",
       "      <th>zodis</th>\n",
       "      <th>kiekis</th>\n",
       "    </tr>\n",
       "  </thead>\n",
       "  <tbody>\n",
       "    <tr>\n",
       "      <th>0</th>\n",
       "      <td>22</td>\n",
       "      <td>ir</td>\n",
       "      <td>7</td>\n",
       "    </tr>\n",
       "    <tr>\n",
       "      <th>1</th>\n",
       "      <td>3</td>\n",
       "      <td>Laima</td>\n",
       "      <td>3</td>\n",
       "    </tr>\n",
       "    <tr>\n",
       "      <th>2</th>\n",
       "      <td>9</td>\n",
       "      <td>bet</td>\n",
       "      <td>3</td>\n",
       "    </tr>\n",
       "    <tr>\n",
       "      <th>3</th>\n",
       "      <td>1</td>\n",
       "      <td>sveikinimų</td>\n",
       "      <td>1</td>\n",
       "    </tr>\n",
       "    <tr>\n",
       "      <th>4</th>\n",
       "      <td>4</td>\n",
       "      <td>Kybartienė</td>\n",
       "      <td>1</td>\n",
       "    </tr>\n",
       "  </tbody>\n",
       "</table>\n",
       "</div>"
      ],
      "text/plain": [
       "   index       zodis  kiekis\n",
       "0     22          ir       7\n",
       "1      3       Laima       3\n",
       "2      9         bet       3\n",
       "3      1  sveikinimų       1\n",
       "4      4  Kybartienė       1"
      ]
     },
     "execution_count": 50,
     "metadata": {},
     "output_type": "execute_result"
    }
   ],
   "source": [
    "df_st = df.sort_values(by=['kiekis'],ascending=False).reset_index()[:5]\n",
    "df_st.head()"
   ]
  },
  {
   "cell_type": "code",
   "execution_count": 51,
   "metadata": {},
   "outputs": [
    {
     "data": {
      "image/png": "[encoded data removed]",
      "text/plain": [
       "<Figure size 640x480 with 1 Axes>"
      ]
     },
     "metadata": {},
     "output_type": "display_data"
    }
   ],
   "source": [
    "fig, ax = plt.subplots()\n",
    "sns.barplot(data=df_st, x=df_st['zodis'], y=df_st['kiekis'])\n",
    "for container in ax.containers:\n",
    "    ax.bar_label(container)\n",
    "plt.show()"
   ]
  },
  {
   "cell_type": "code",
   "execution_count": 61,
   "metadata": {},
   "outputs": [
    {
     "name": "stdout",
     "output_type": "stream",
     "text": [
      "71\n",
      "[160, 57, 46, 462, 109, 107, 96, 629, 834, 139, 559, 267, 164, 107, 400, 257, 186, 105, 325, 91, 139, 16, 85, 120, 63, 79, 149, 55, 187, 28, 44, 8, 166, 88, 100, 216, 46, 46, 131, 1453, 868, 654, 88, 266, 160, 120, 137, 3407, 34, 57, 46, 107, 462, 167, 91, 482, 766, 72, 248, 533, 622, 387, 919, 467, 199, 311, 755, 541, 50, 172, 417]\n",
      "vidutinis zodziu kiekis straipsniuose: 308.7887323943662\n"
     ]
    }
   ],
   "source": [
    "# Suskaičiuokite, kiek vidutiniškai turi žodžių straipsniai, esantys Kauno dienoje. \n",
    "import time\n",
    "\n",
    "zodziai_straipsniuose = []\n",
    "\n",
    "for nuoroda in nuorodos:\n",
    "    # print(nuoroda)\n",
    "    if nuoroda.startswith('https:'):\n",
    "        url3 = nuoroda\n",
    "    else:\n",
    "        url3 = f'https://www.delfi.lt/{nuoroda}'\n",
    "\n",
    "    page = requests.get(url3)\n",
    "    source = page.content\n",
    "\n",
    "    bs3 = BeautifulSoup(source, 'html.parser')\n",
    "        \n",
    "    fragmentai = []\n",
    "    pastraipos = bs3.find_all('div', {'class':'fragment fragment-html fragment-html--paragraph'})\n",
    "\n",
    "    for p in pastraipos:\n",
    "            fragmentai.append(p.text)\n",
    "        \n",
    "    tekstas = ' '.join(fragmentai)\n",
    "    zodziai_straipsniuose.append(len(tekstas.split()))\n",
    "\n",
    "print(len(zodziai_straipsniuose))\n",
    "print(zodziai_straipsniuose)\n",
    "\n",
    "print(f'vidutinis zodziu kiekis straipsniuose: {sum(zodziai_straipsniuose) / len(zodziai_straipsniuose)}')"
   ]
  }
 ],
 "metadata": {
  "kernelspec": {
   "display_name": "Python 3",
   "language": "python",
   "name": "python3"
  },
  "language_info": {
   "codemirror_mode": {
    "name": "ipython",
    "version": 3
   },
   "file_extension": ".py",
   "mimetype": "text/x-python",
   "name": "python",
   "nbconvert_exporter": "python",
   "pygments_lexer": "ipython3",
   "version": "3.12.4"
  }
 },
 "nbformat": 4,
 "nbformat_minor": 2
}
