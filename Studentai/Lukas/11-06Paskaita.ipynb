{
 "cells": [
  {
   "cell_type": "code",
   "execution_count": 1,
   "metadata": {},
   "outputs": [],
   "source": [
    "import numpy as np\n",
    "import pandas as pd\n",
    "import matplotlib.pyplot as plt\n",
    "import warnings\n",
    "warnings.filterwarnings('ignore')\n",
    "import seaborn as sns\n",
    "import sqlite3\n",
    "# import mysql.connector as cnt\n",
    "# import plotly.express as px\n",
    "import glob"
   ]
  },
  {
   "cell_type": "code",
   "execution_count": null,
   "metadata": {},
   "outputs": [],
   "source": [
    "# Failo pavadinime yra specifinis kodas (D_5k, D_2k, B_1k, ir taip toliau). Pagal ansktesnį pavyzdį\n",
    "# matyti, jog taip paprastai atrenkant - tas trumpinys pakinta\n",
    "# pakeiskite skriptą taip, kad\n",
    "# jei jūsų skriptas rado, kad pavyzdžiui, DAY0 geriausias REF yra su kodu D_5k, tai\n",
    "# DAY1 ir DAY2 turi būti vaizduojami duomenys iš failų su tuo pat kodu (D_5k pavyzdžiui)"
   ]
  },
  {
   "cell_type": "code",
   "execution_count": 2,
   "metadata": {},
   "outputs": [
    {
     "name": "stdout",
     "output_type": "stream",
     "text": [
      "['DATA1/DAY0\\\\REF_D_1k_FW_2.08.dat', 'DATA1/DAY0\\\\REF_D_2k_FW_2.05.dat', 'DATA1/DAY0\\\\REF_D_3k_FW_2.03.dat', 'DATA1/DAY0\\\\REF_D_4k_FW_2.05.dat', 'DATA1/DAY0\\\\REF_D_5k_FW_2.05.dat', 'DATA1/DAY0\\\\REF_D_5k_FW_2.07.dat']\n"
     ]
    }
   ],
   "source": [
    "# dat_failai = glob.glob('../../DATA/OOP_DATA/*.dat')\n",
    "ref_files = glob.glob('DATA1/DAY0/REF*.dat')\n",
    "print(ref_files)"
   ]
  },
  {
   "cell_type": "code",
   "execution_count": 5,
   "metadata": {},
   "outputs": [
    {
     "data": {
      "text/plain": [
       "Index(['U[V] ', ' I[A] ', ' j[mA/cm^2] ', ' P[mW/cm^2]'], dtype='object')"
      ]
     },
     "execution_count": 5,
     "metadata": {},
     "output_type": "execute_result"
    }
   ],
   "source": [
    "df = pd.read_csv(ref_files[0], sep=';')\n",
    "df.columns"
   ]
  },
  {
   "cell_type": "code",
   "execution_count": 7,
   "metadata": {},
   "outputs": [
    {
     "name": "stdout",
     "output_type": "stream",
     "text": [
      "14.9890787\n"
     ]
    }
   ],
   "source": [
    "max_p = abs(df[' P[mW/cm^2]'].min())\n",
    "print(max_p)"
   ]
  },
  {
   "cell_type": "code",
   "execution_count": 8,
   "metadata": {},
   "outputs": [
    {
     "name": "stdout",
     "output_type": "stream",
     "text": [
      "[np.float64(14.9890787), np.float64(7.5438748), np.float64(7.4238104), np.float64(8.0058633), np.float64(5.8455224), np.float64(7.5898202)]\n"
     ]
    }
   ],
   "source": [
    "eff_list = []\n",
    "for file in ref_files:\n",
    "    df = pd.read_csv(file, sep=';')\n",
    "    max_p = abs(df[' P[mW/cm^2]'].min())\n",
    "    eff_list.append(max_p)\n",
    "print(eff_list)"
   ]
  },
  {
   "cell_type": "code",
   "execution_count": 10,
   "metadata": {},
   "outputs": [
    {
     "name": "stdout",
     "output_type": "stream",
     "text": [
      "0\n"
     ]
    }
   ],
   "source": [
    "idx = eff_list.index(max(eff_list))\n",
    "print(idx)"
   ]
  },
  {
   "cell_type": "code",
   "execution_count": 11,
   "metadata": {},
   "outputs": [
    {
     "data": {
      "text/plain": [
       "Index(['U[V] ', ' I[A] ', ' j[mA/cm^2] ', ' P[mW/cm^2]'], dtype='object')"
      ]
     },
     "execution_count": 11,
     "metadata": {},
     "output_type": "execute_result"
    }
   ],
   "source": [
    "df = pd.read_csv(ref_files[0], sep=';')\n",
    "df.columns"
   ]
  },
  {
   "cell_type": "code",
   "execution_count": 12,
   "metadata": {},
   "outputs": [
    {
     "data": {
      "image/png": "[encoded data removed]",
      "text/plain": [
       "<Figure size 640x480 with 1 Axes>"
      ]
     },
     "metadata": {},
     "output_type": "display_data"
    }
   ],
   "source": [
    "fig, axis = plt.subplots()\n",
    "axis.plot(df['U[V] '], df[' j[mA/cm^2] '])\n",
    "plt.show()"
   ]
  },
  {
   "cell_type": "code",
   "execution_count": 13,
   "metadata": {},
   "outputs": [],
   "source": [
    "df['j'] = df[' j[mA/cm^2] '].apply(lambda x: x*(-1))"
   ]
  },
  {
   "cell_type": "code",
   "execution_count": 28,
   "metadata": {},
   "outputs": [
    {
     "data": {
      "text/html": [
       "<div>\n",
       "<style scoped>\n",
       "    .dataframe tbody tr th:only-of-type {\n",
       "        vertical-align: middle;\n",
       "    }\n",
       "\n",
       "    .dataframe tbody tr th {\n",
       "        vertical-align: top;\n",
       "    }\n",
       "\n",
       "    .dataframe thead th {\n",
       "        text-align: right;\n",
       "    }\n",
       "</style>\n",
       "<table border=\"1\" class=\"dataframe\">\n",
       "  <thead>\n",
       "    <tr style=\"text-align: right;\">\n",
       "      <th></th>\n",
       "      <th>U[V]</th>\n",
       "      <th>I[A]</th>\n",
       "      <th>j[mA/cm^2]</th>\n",
       "      <th>P[mW/cm^2]</th>\n",
       "      <th>j</th>\n",
       "    </tr>\n",
       "  </thead>\n",
       "  <tbody>\n",
       "    <tr>\n",
       "      <th>5</th>\n",
       "      <td>1.083333</td>\n",
       "      <td>-0.000216</td>\n",
       "      <td>-3.596502</td>\n",
       "      <td>-3.896210</td>\n",
       "      <td>3.596502</td>\n",
       "    </tr>\n",
       "    <tr>\n",
       "      <th>6</th>\n",
       "      <td>1.060000</td>\n",
       "      <td>-0.000382</td>\n",
       "      <td>-6.373672</td>\n",
       "      <td>-6.756092</td>\n",
       "      <td>6.373672</td>\n",
       "    </tr>\n",
       "    <tr>\n",
       "      <th>7</th>\n",
       "      <td>1.036667</td>\n",
       "      <td>-0.000512</td>\n",
       "      <td>-8.536653</td>\n",
       "      <td>-8.849664</td>\n",
       "      <td>8.536653</td>\n",
       "    </tr>\n",
       "    <tr>\n",
       "      <th>8</th>\n",
       "      <td>1.013333</td>\n",
       "      <td>-0.000620</td>\n",
       "      <td>-10.338713</td>\n",
       "      <td>-10.476563</td>\n",
       "      <td>10.338713</td>\n",
       "    </tr>\n",
       "    <tr>\n",
       "      <th>9</th>\n",
       "      <td>0.990000</td>\n",
       "      <td>-0.000719</td>\n",
       "      <td>-11.985222</td>\n",
       "      <td>-11.865369</td>\n",
       "      <td>11.985222</td>\n",
       "    </tr>\n",
       "  </tbody>\n",
       "</table>\n",
       "</div>"
      ],
      "text/plain": [
       "      U[V]      I[A]    j[mA/cm^2]    P[mW/cm^2]          j\n",
       "5  1.083333 -0.000216     -3.596502    -3.896210   3.596502\n",
       "6  1.060000 -0.000382     -6.373672    -6.756092   6.373672\n",
       "7  1.036667 -0.000512     -8.536653    -8.849664   8.536653\n",
       "8  1.013333 -0.000620    -10.338713   -10.476563  10.338713\n",
       "9  0.990000 -0.000719    -11.985222   -11.865369  11.985222"
      ]
     },
     "execution_count": 28,
     "metadata": {},
     "output_type": "execute_result"
    }
   ],
   "source": [
    "# df1 = df[(df['j'] >= 0)]\n",
    "df1 = df[(df['j'] >= 0) & (df['U[V] '] >=0)]\n",
    "df1.head()"
   ]
  },
  {
   "cell_type": "code",
   "execution_count": 29,
   "metadata": {},
   "outputs": [
    {
     "data": {
      "image/png": "[encoded data removed]",
      "text/plain": [
       "<Figure size 640x480 with 1 Axes>"
      ]
     },
     "metadata": {},
     "output_type": "display_data"
    }
   ],
   "source": [
    "fig, axis = plt.subplots()\n",
    "axis.plot(df1['U[V] '], df1['j'])\n",
    "# axis.set_xlim(0, 1.2)\n",
    "# axis.set_ylim(0, 30)\n",
    "plt.show()"
   ]
  },
  {
   "cell_type": "code",
   "execution_count": 67,
   "metadata": {},
   "outputs": [
    {
     "data": {
      "image/png": "[encoded data removed]",
      "text/plain": [
       "<Figure size 800x450 with 2 Axes>"
      ]
     },
     "metadata": {},
     "output_type": "display_data"
    }
   ],
   "source": [
    "def get_files(kelias):\n",
    "    files = glob.glob(kelias)\n",
    "    return files\n",
    "\n",
    "def get_max_p_file_index(kelias):\n",
    "    eff_list = []\n",
    "    files = get_files(kelias)\n",
    "    for file in files:\n",
    "        df = pd.read_csv(file, sep=';')\n",
    "        max_p = abs(df[' P[mW/cm^2]'].min())\n",
    "        eff_list.append(max_p)\n",
    "    idx = eff_list.index(max(eff_list))\n",
    "    return idx\n",
    "\n",
    "def get_df(kelias):\n",
    "    ref_files = get_files(kelias)\n",
    "    idx = get_max_p_file_index(kelias)\n",
    "    df = pd.read_csv(ref_files[idx], sep=';')\n",
    "    df['j'] = df[' j[mA/cm^2] '].apply(lambda x: x*(-1))\n",
    "    df1 = df[(df['j'] >= 0) & (df['U[V] '] >=0)]\n",
    "    return df1\n",
    "    \n",
    "\n",
    "ref_rinkiniai = ['../../../DATA1/DAY0/REF*.dat', '../../../DATA1/DAY1/REF*.dat', '../../../DATA1/DAY2/REF*.dat']\n",
    "V1145_rinkiniai = ['../../../DATA1/DAY0/V1145*.dat', '../../../DATA1/DAY1/V1145*.dat', '../../../DATA1/DAY2/V1145*.dat']\n",
    "\n",
    "    \n",
    "\n",
    "df0 = get_df(ref_rinkiniai[0])\n",
    "df1 = get_df(ref_rinkiniai[1])\n",
    "df2 = get_df(ref_rinkiniai[2])\n",
    "\n",
    "df0v = get_df(V1145_rinkiniai[0])\n",
    "df1v = get_df(V1145_rinkiniai[1])\n",
    "df2v = get_df(V1145_rinkiniai[2])\n",
    "\n",
    "fig, (axis1, axis2) = plt.subplots(1,2, figsize=(8, 4.5))\n",
    "axis1.plot(df0['U[V] '], df0['j'], marker='o', label='Day1')\n",
    "axis1.plot(df1['U[V] '], df1['j'], marker='o', label='Day2')\n",
    "axis1.plot(df2['U[V] '], df2['j'], marker='o', label='Day3')\n",
    "\n",
    "\n",
    "axis2.plot(df0v['U[V] '], df0v['j'], marker='o', label='Day1')\n",
    "axis2.plot(df1v['U[V] '], df1v['j'], marker='o', label='Day2')\n",
    "axis2.plot(df2v['U[V] '], df2v['j'], marker='o', label='Day3')\n",
    "\n",
    "axis1.legend()\n",
    "axis2.legend()\n",
    "# axis.set_xlim(0, 1.2)\n",
    "# axis.set_ylim(0, 30)\n",
    "plt.show()\n"
   ]
  },
  {
   "cell_type": "code",
   "execution_count": 53,
   "metadata": {},
   "outputs": [
    {
     "name": "stdout",
     "output_type": "stream",
     "text": [
      "['DATA1/DAY0\\\\REF_D_1k_FW_2.08.dat', 'DATA1/DAY0\\\\REF_D_2k_FW_2.05.dat', 'DATA1/DAY0\\\\REF_D_3k_FW_2.03.dat', 'DATA1/DAY0\\\\REF_D_4k_FW_2.05.dat', 'DATA1/DAY0\\\\REF_D_5k_FW_2.05.dat', 'DATA1/DAY0\\\\REF_D_5k_FW_2.07.dat']\n",
      "0\n",
      "DATA1/DAY0\\REF_D_1k_FW_2.08.dat\n"
     ]
    }
   ],
   "source": [
    "failai = get_files(ref_rinkiniai[0])\n",
    "print(failai)\n",
    "idx = get_max_p_file_index(ref_rinkiniai[0])\n",
    "print(idx)\n",
    "print(failai[idx])"
   ]
  },
  {
   "cell_type": "code",
   "execution_count": 60,
   "metadata": {},
   "outputs": [
    {
     "name": "stdout",
     "output_type": "stream",
     "text": [
      "7.59\n",
      "7.59 %\n"
     ]
    }
   ],
   "source": [
    "def get_max_p_file_index(kelias):\n",
    "    eff_list = []\n",
    "    files = get_files(kelias)\n",
    "    for file in files:\n",
    "        df = pd.read_csv(file, sep=';')\n",
    "        max_p = abs(df[' P[mW/cm^2]'].min())\n",
    "        eff_list.append(max_p)\n",
    "    idx = eff_list.index(max(eff_list))\n",
    "    return idx, max_p\n",
    "\n",
    "idx = get_max_p_file_index(ref_rinkiniai[0])\n",
    "print(round(idx[1], 2))\n",
    "p = f'{round(idx[1], 2)} %'\n",
    "print(p)"
   ]
  },
  {
   "cell_type": "code",
   "execution_count": null,
   "metadata": {},
   "outputs": [
    {
     "ename": "TypeError",
     "evalue": "'function' object is not subscriptable",
     "output_type": "error",
     "traceback": [
      "\u001b[1;31m---------------------------------------------------------------------------\u001b[0m",
      "\u001b[1;31mTypeError\u001b[0m                                 Traceback (most recent call last)",
      "Cell \u001b[1;32mIn[66], line 28\u001b[0m\n\u001b[0;32m     25\u001b[0m ref_rinkiniai \u001b[38;5;241m=\u001b[39m [\u001b[38;5;124m'\u001b[39m\u001b[38;5;124mDATA1/DAY0/REF*.dat\u001b[39m\u001b[38;5;124m'\u001b[39m, \u001b[38;5;124m'\u001b[39m\u001b[38;5;124mDATA1/DAY1/REF*.dat\u001b[39m\u001b[38;5;124m'\u001b[39m, \u001b[38;5;124m'\u001b[39m\u001b[38;5;124mDATA1/DAY2/REF*.dat\u001b[39m\u001b[38;5;124m'\u001b[39m]\n\u001b[0;32m     26\u001b[0m V1145_rinkiniai \u001b[38;5;241m=\u001b[39m [\u001b[38;5;124m'\u001b[39m\u001b[38;5;124mDATA1/DAY0/V1145*.dat\u001b[39m\u001b[38;5;124m'\u001b[39m, \u001b[38;5;124m'\u001b[39m\u001b[38;5;124mDATA1/DAY1/V1145*.dat\u001b[39m\u001b[38;5;124m'\u001b[39m, \u001b[38;5;124m'\u001b[39m\u001b[38;5;124mDATA1/DAY2/V1145*.dat\u001b[39m\u001b[38;5;124m'\u001b[39m]\n\u001b[1;32m---> 28\u001b[0m id_p0 \u001b[38;5;241m=\u001b[39m \u001b[43mget_max_p_file_index\u001b[49m\u001b[43m[\u001b[49m\u001b[43mref_rinkiniai\u001b[49m\u001b[43m[\u001b[49m\u001b[38;5;241;43m0\u001b[39;49m\u001b[43m]\u001b[49m\u001b[43m]\u001b[49m\n\u001b[0;32m     29\u001b[0m num \u001b[38;5;241m=\u001b[39m id_p0[\u001b[38;5;241m0\u001b[39m]\n\u001b[0;32m     30\u001b[0m p \u001b[38;5;241m=\u001b[39m \u001b[38;5;124mf\u001b[39m\u001b[38;5;124m'\u001b[39m\u001b[38;5;132;01m{\u001b[39;00m\u001b[38;5;28mround\u001b[39m(id_p0[\u001b[38;5;241m1\u001b[39m],\u001b[38;5;250m \u001b[39m\u001b[38;5;241m2\u001b[39m)\u001b[38;5;132;01m}\u001b[39;00m\u001b[38;5;124m %\u001b[39m\u001b[38;5;124m'\u001b[39m\n",
      "\u001b[1;31mTypeError\u001b[0m: 'function' object is not subscriptable"
     ]
    }
   ],
   "source": [
    "def get_files(kelias):\n",
    "    files = glob.glob(kelias)\n",
    "    return files\n",
    "\n",
    "def get_max_p_file_index(kelias):\n",
    "    eff_list = []\n",
    "    files = get_files(kelias)\n",
    "    for file in files:\n",
    "        df = pd.read_csv(file, sep=';')\n",
    "        max_p = abs(df[' P[mW/cm^2]'].min())\n",
    "        eff_list.append(max_p)\n",
    "    idx = eff_list.index(max(eff_list))\n",
    "    p_max = max(eff_list)\n",
    "    return idx, p_max\n",
    "\n",
    "def get_df(kelias):\n",
    "    ref_files = get_files(kelias)\n",
    "    idx = get_max_p_file_index(kelias)\n",
    "    df = pd.read_csv(ref_files[idx[0]], sep=';')\n",
    "    df['j'] = df[' j[mA/cm^2] '].apply(lambda x: x*(-1))\n",
    "    df1 = df[(df['j'] >= 0) & (df['U[V] '] >=0)]\n",
    "    return df1\n",
    "    \n",
    "\n",
    "ref_rinkiniai = ['../../../DATA1/DAY0/REF*.dat', '../../../DATA1/DAY1/REF*.dat', '../../../DATA1/DAY2/REF*.dat']\n",
    "V1145_rinkiniai = ['../../../DATA1/DAY0/V1145*.dat', '../../../DATA1/DAY1/V1145*.dat', '../../../DATA1/DAY2/V1145*.dat']\n",
    "\n",
    "id_p0 = get_max_p_file_index[ref_rinkiniai[0]]\n",
    "num = id_p0[0]\n",
    "p = f'{round(id_p0[1], 2)} %'\n",
    "\n",
    "ref_files0 = get_files(ref_rinkiniai[0])\n",
    "ref_label1 = f'{ref_files0[num]}'    \n",
    "\n",
    "df0 = get_df(ref_rinkiniai[0])\n",
    "df1 = get_df(ref_rinkiniai[1])\n",
    "df2 = get_df(ref_rinkiniai[2])\n",
    "\n",
    "df0v = get_df(V1145_rinkiniai[0])\n",
    "df1v = get_df(V1145_rinkiniai[1])\n",
    "df2v = get_df(V1145_rinkiniai[2])\n",
    "\n",
    "fig, (axis1, axis2) = plt.subplots(1,2, figsize=(8, 4.5))\n",
    "axis1.plot(df0['U[V] '], df0['j'], marker='o', label=ref_label1)\n",
    "axis1.plot(df1['U[V] '], df1['j'], marker='o', label='Day2')\n",
    "axis1.plot(df2['U[V] '], df2['j'], marker='o', label='Day3')\n",
    "\n",
    "\n",
    "axis2.plot(df0v['U[V] '], df0v['j'], marker='o', label='Day1')\n",
    "axis2.plot(df1v['U[V] '], df1v['j'], marker='o', label='Day2')\n",
    "axis2.plot(df2v['U[V] '], df2v['j'], marker='o', label='Day3')\n",
    "\n",
    "axis1.legend()\n",
    "axis2.legend()\n",
    "# axis.set_xlim(0, 1.2)\n",
    "# axis.set_ylim(0, 30)\n",
    "plt.show()"
   ]
  },
  {
   "cell_type": "code",
   "execution_count": 65,
   "metadata": {},
   "outputs": [
    {
     "name": "stdout",
     "output_type": "stream",
     "text": [
      "['DATA1/DAY0\\\\REF_D_1k_FW_2.08.dat', 'DATA1/DAY0\\\\REF_D_2k_FW_2.05.dat', 'DATA1/DAY0\\\\REF_D_3k_FW_2.03.dat', 'DATA1/DAY0\\\\REF_D_4k_FW_2.05.dat', 'DATA1/DAY0\\\\REF_D_5k_FW_2.05.dat', 'DATA1/DAY0\\\\REF_D_5k_FW_2.07.dat']\n"
     ]
    }
   ],
   "source": [
    "ref_files0 = get_files(ref_rinkiniai[0])\n",
    "print(ref_files0)"
   ]
  }
 ],
 "metadata": {
  "kernelspec": {
   "display_name": "Python 3",
   "language": "python",
   "name": "python3"
  },
  "language_info": {
   "codemirror_mode": {
    "name": "ipython",
    "version": 3
   },
   "file_extension": ".py",
   "mimetype": "text/x-python",
   "name": "python",
   "nbconvert_exporter": "python",
   "pygments_lexer": "ipython3",
   "version": "3.12.4"
  }
 },
 "nbformat": 4,
 "nbformat_minor": 2
}
