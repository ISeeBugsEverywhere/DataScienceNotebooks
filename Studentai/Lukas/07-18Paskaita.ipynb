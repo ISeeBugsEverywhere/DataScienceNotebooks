{
 "cells": [
  {
   "cell_type": "code",
   "execution_count": 8,
   "metadata": {},
   "outputs": [
    {
     "name": "stdout",
     "output_type": "stream",
     "text": [
      "‾|\n",
      " ‾|\n",
      "  ‾|\n",
      "   ‾|\n"
     ]
    }
   ],
   "source": [
    "# vartotojas įveda skaičių n\n",
    "# jūsų funkcija! turi spausdinti \"laiptus\" iš simbolių | ir ‾\n",
    "# pvz įvesta 4:\n",
    "# ‾|\n",
    "#  ‾|\n",
    "#   ‾|\n",
    "#    ‾|\n",
    "\n",
    "    \n",
    "def laiptai(n):\n",
    "    for i in range(n):\n",
    "        print( ' ' * i +'‾|')\n",
    "        \n",
    "laiptai(4)"
   ]
  },
  {
   "cell_type": "code",
   "execution_count": 16,
   "metadata": {},
   "outputs": [
    {
     "data": {
      "text/plain": [
       "['ab', 'cd', 'ef', 'g_']"
      ]
     },
     "execution_count": 16,
     "metadata": {},
     "output_type": "execute_result"
    }
   ],
   "source": [
    "#parašyti funkciją:\n",
    "#teskto skaidymas į sąrašą po porą simbolių.\n",
    "# jei tekstas yra iš nelyginio simbolių kiekio - trūkstamas simbolis keičiamas _\n",
    "# pvz 'abc' => ['ab', 'c_']\n",
    "# 'abcdef' => ['ab', 'cd', 'ef']\n",
    "\n",
    "def split_txt(string):\n",
    "    if len(string) % 2 == 0:\n",
    "        lst = [string[i:i+2] for i in range(0, len(string), 2)]\n",
    "    else:\n",
    "        string +='_'\n",
    "        lst = [string[i:i+2] for i in range(0, len(string), 2)]\n",
    "    return lst\n",
    "        \n",
    "    \n",
    "split_txt('abcdefg')"
   ]
  },
  {
   "cell_type": "code",
   "execution_count": 19,
   "metadata": {},
   "outputs": [
    {
     "data": {
      "text/plain": [
       "[0, 1, 153, 370, 371, 407]"
      ]
     },
     "execution_count": 19,
     "metadata": {},
     "output_type": "execute_result"
    }
   ],
   "source": [
    "# Parašyti funkciją, kuri atrinktų \"kubinius\" skaičius iš intervalo [0-10000]\n",
    "#  \"kubinis\" skaičius - tai kurio skaitmenų kubų suma yra lygi pačiam skaičiui:\n",
    "#  pvz 153 = 1^3+5^3+3^3 => 153 yra \"kubinis\"\n",
    "# \n",
    "#  visus rastus skaičius pateikite kaip sąrašą (list)\n",
    "\n",
    "def kubinis(nuo, iki):\n",
    "    lst = []\n",
    "    for i in range(nuo, iki):\n",
    "        number = str(i)\n",
    "        suma = 0\n",
    "        \n",
    "        for x in number:\n",
    "            suma = suma + int(x)**3\n",
    "            \n",
    "        if suma == int(number):\n",
    "            lst.append(int(number))\n",
    "            \n",
    "    return lst\n",
    "\n",
    "kubinis(0, 10000)\n",
    "                       \n"
   ]
  },
  {
   "cell_type": "code",
   "execution_count": null,
   "metadata": {},
   "outputs": [],
   "source": [
    "# duota skaičių eilutė.\n",
    "# rasti joje visus skaičius, kurie yra lygūs savo \n",
    "# skaitmenų, pakeltų laipsniu 4, arba 5, sumai.\n",
    "# netirkinti skaičių, didesnių nei 10 000.\n",
    "import numpy as np\n",
    "r = np.random.randint(0,1000,100).tolist()\n",
    "r = ''.join([str(i) for i in r])\n",
    "print(r)"
   ]
  },
  {
   "cell_type": "code",
   "execution_count": 20,
   "metadata": {},
   "outputs": [
    {
     "name": "stdout",
     "output_type": "stream",
     "text": [
      "jonas\n"
     ]
    }
   ],
   "source": [
    "class Object():\n",
    "    def __init__(self, name):\n",
    "        self.Name = name\n",
    "        pass\n",
    "    \n",
    "    def getName(self):\n",
    "        return self.Name\n",
    "    \n",
    "o = Object(\"jonas\")\n",
    "print(o.getName())"
   ]
  },
  {
   "cell_type": "code",
   "execution_count": 26,
   "metadata": {},
   "outputs": [],
   "source": [
    "class BetterObject(Object):\n",
    "    def getNameUpper(self):\n",
    "        return self.Name.upper()\n",
    "    def getNameLen(self):\n",
    "        return len(self.Name)\n",
    "\n",
    "g = BetterObject('Petras')\n"
   ]
  },
  {
   "cell_type": "code",
   "execution_count": 34,
   "metadata": {},
   "outputs": [
    {
     "data": {
      "text/plain": [
       "6"
      ]
     },
     "execution_count": 34,
     "metadata": {},
     "output_type": "execute_result"
    }
   ],
   "source": [
    "g.getNameUpper()\n",
    "g.getNameLen()"
   ]
  },
  {
   "cell_type": "code",
   "execution_count": 35,
   "metadata": {},
   "outputs": [
    {
     "name": "stdout",
     "output_type": "stream",
     "text": [
      "20\n",
      "18\n"
     ]
    }
   ],
   "source": [
    "# Aprašykite klasę Rectangle. Kreipiantis į klasę, reikia nurodyti\n",
    "# stačiakampio kraštines a ir b.\n",
    "# • Realizuokite atributą Plotas (𝑆 = 𝑎 ⋅ 𝑏) ir metodą, grąžinantį\n",
    "# Ploto reikšmę\n",
    "# • Taip pat pridėkite metodą, apskaičiuojantį ir grąžinantį\n",
    "# perimetrą (𝑃 = 2(𝑎 + 𝑏)).\n",
    "\n",
    "class Rectangle():\n",
    "    def __init__(self, a, b):\n",
    "        self.A = a\n",
    "        self.B = b\n",
    "        self.S = a * b\n",
    "        \n",
    "    def Plotas(self):\n",
    "        return self.S\n",
    "    \n",
    "    def Perimetras(self):\n",
    "        P = 2*(self.A + self.B)\n",
    "        return P\n",
    "    \n",
    "r = Rectangle(4, 5)\n",
    "print(r.Plotas())\n",
    "print(r.Perimetras())"
   ]
  },
  {
   "cell_type": "code",
   "execution_count": 3,
   "metadata": {},
   "outputs": [
    {
     "name": "stdout",
     "output_type": "stream",
     "text": [
      "[5, 8, 9, 2, 5]\n",
      "[Jonas Petraitis, [5, 8, 9, 2, 5], Jonas Brolis, [2, 6, 10, 9], Matas Nekas, [6, 7, 9]]\n"
     ]
    }
   ],
   "source": [
    "# Sukurkite Mokinys klasę, kuri turės mokinio vardą, pavardę ir\n",
    "# sąrašą pažymių. Įtraukite metodus, kurie skaičiuotų vidurkį,\n",
    "# didžiausią ir mažiausią pažymį.\n",
    "# • Sukurkite Abiturientas klasę, kuri paveldi Mokinys klasę ir\n",
    "# prideda papildomą funkcionalumą, pvz., gebėjimą pridėti\n",
    "# egzamino rezultatus ir skaičiuoti bendrą vidurkį, įskaitant ir\n",
    "# egzamino rezultatus.\n",
    "# • Sukurkite Mokykla klasę, kuri turės sąrašą Mokinys objektų.\n",
    "# Įtraukite metodus, kurie leistų pridėti naują mokinį, pašalinti\n",
    "# mokinį, bei skaičiuoti visos mokyklos mokinių pažymių\n",
    "# vidurkius.\n",
    "# • Atnaujinkite Mokinys klasę taip, kad pažymių sąrašas būtų\n",
    "# privatus. Sukurkite metodus, kurie leistų saugiai pridėti ir\n",
    "# gauti pažymius, užtikrinant, kad negalima būtų pridėti\n",
    "# netinkamų pažymių (pvz., neigiamų ar didesnių nei 10).\n",
    "\n",
    "class Mokinys():\n",
    "    def __init__(self, vardas, pavarde, pazymiai=[]):\n",
    "        self.Vardas = vardas\n",
    "        self.Pavarde = pavarde\n",
    "        self.Pazymiai = pazymiai\n",
    "        self.__pazymiai = pazymiai\n",
    "        \n",
    "    def getP(self):\n",
    "        return self.Pazymiai\n",
    "    \n",
    "    def Maziausias(self):\n",
    "        return min(self.Pazymiai)\n",
    "    \n",
    "    def Didziausias(self):\n",
    "        return max(self.Pazymiai)\n",
    "    \n",
    "    def Vidurkis(self):\n",
    "        return sum(self.Pazymiai) / len(self.Pazymiai)\n",
    "    \n",
    "    def naujiPazymiai(self, new_pazymiai):\n",
    "        for i in new_pazymiai:\n",
    "            if i in range(1, 11):\n",
    "                self.__pazymiai.append(i)\n",
    "\n",
    "    def __repr__(self):\n",
    "        s =  f'{self.Vardas} {self.Pavarde}, {self.__pazymiai}'\n",
    "        return s\n",
    "    \n",
    "    def __str__(self):\n",
    "            s =  f'{self.Vardas} {self.Pavarde}, {self.__pazymiai}'\n",
    "            return s\n",
    "    \n",
    "    \n",
    "    \n",
    "class Abiturientas(Mokinys):\n",
    "    def __init__(self, vardas, pavarde, pazymiai=[], rezultatai=[]):\n",
    "        super().__init__(vardas, pavarde, pazymiai)\n",
    "        self.Rezultatai = rezultatai\n",
    "        \n",
    "    def BendrasVidurkis(self):\n",
    "        return (sum(self.Rezultatai) + sum(self.Pazymiai)) / (len(self.Rezultatai) + len(self.Pazymiai))\n",
    "    \n",
    "    \n",
    "class Mokykla():\n",
    "    def __init__(self):\n",
    "        self.mokiniai = []\n",
    "        \n",
    "    def show_mokiniai(self):\n",
    "        return self.mokiniai\n",
    "    \n",
    "    def addmokinys(self, student):\n",
    "        self.mokiniai.append(student)\n",
    "\n",
    "# naudoti __repr__  kad gauti atvaizduoti mokyklos mokinius(sarasa)\n",
    "    \n",
    "   \n",
    "mok1 = Mokinys('Jonas', 'Petraitis', [5, 8, 9])\n",
    "mok2 = Mokinys('Jonas', 'Brolis', [2, 6 ,10 ,9])\n",
    "school = Mokykla()\n",
    "school.addmokinys(mok1)\n",
    "school.addmokinys(mok2)\n",
    "\n",
    "mok1.naujiPazymiai([2, 5, -1, 16])\n",
    "print(mok1.Pazymiai)\n",
    "\n",
    "\n",
    "# print(mok.Maziausias())\n",
    "# print(mok.Vidurkis())\n",
    "ab = Abiturientas('Matas', 'Nekas', [6,7,9], [10, 8, 9])\n",
    "school.addmokinys(ab)\n",
    "# print(ab.getP())\n",
    "# print(ab.BendrasVidurkis()) \n",
    "print(school.show_mokiniai())"
   ]
  },
  {
   "cell_type": "code",
   "execution_count": 4,
   "metadata": {},
   "outputs": [
    {
     "name": "stdout",
     "output_type": "stream",
     "text": [
      "10\n",
      "6\n",
      "20\n",
      "25\n",
      "10\n",
      "kubikas: 54, 27\n",
      "naujas kubikas: 52, 24\n"
     ]
    }
   ],
   "source": [
    "# Sukurkite klasę, skirtą geometrinių figūrų parametrų\n",
    "# skaičiavimui:\n",
    "# • Klasė Stačiakampis - sukūrimo metu automatiškai\n",
    "# suskaičiuoja plotą ir perimetrą\n",
    "# • 𝑃 = 2(𝑎 + 𝑏), 𝑆 = 𝑎𝑏\n",
    "# • Klasė Kubas - sukūrimo metu turi suskaičiuoti paviršiaus\n",
    "# plotą ir tūrį\n",
    "# • 𝑉 = 𝑎𝑏𝑐\n",
    "# Realizuokite metodus, skirtus atnaujinti skaičiavimams, pasiekti\n",
    "# skaičiavimų rezultatus.\n",
    "\n",
    "class Staciakampis():\n",
    "    def __init__(self, a, b):\n",
    "        self.a = a\n",
    "        self.b = b\n",
    "        self.P = 2*(a+b)\n",
    "        self.S = a*b\n",
    "        \n",
    "    def set_new_a_and_b(self, new_a, new_b):\n",
    "        self.new_a = new_a\n",
    "        self.new_b = new_b\n",
    "        \n",
    "    def get_new_per(self):\n",
    "        return 2*(self.new_a + self.new_b)\n",
    "    \n",
    "    def get_new_s(self):\n",
    "        return self.new_a * self.new_b\n",
    "    \n",
    "    \n",
    "class Kubas():\n",
    "    def __init__(self, a, b, c):\n",
    "        self.a = a\n",
    "        self.b = b\n",
    "        self.c = c\n",
    "        self.V = a * b * c\n",
    "        self.spav = (a*b*2) + (b*c*2) + (a*c*2)\n",
    "        \n",
    "    def set_new_abc(self, new_a, new_b, new_c):\n",
    "        self.new_a = new_a\n",
    "        self.new_b = new_b\n",
    "        self.new_c = new_c\n",
    "        \n",
    "    def get_new_V(self):\n",
    "        return self.new_a * self.new_b * self.new_c\n",
    "    \n",
    "    def get_new_spav(self):\n",
    "        return (self.new_a*self.new_b*2) + (self.new_b*self.new_c*2) + (self.new_a*self.new_c*2)\n",
    "        \n",
    "        \n",
    "st = Staciakampis(2, 3)\n",
    "print(st.P)\n",
    "print(st.S)\n",
    "st.set_new_a_and_b(5, 5)\n",
    "print(st.get_new_per())\n",
    "print(st.get_new_s())\n",
    "print(st.P)\n",
    "kubikas = Kubas(3, 3, 3)\n",
    "print(f'kubikas: {kubikas.spav}, {kubikas.V}')\n",
    "kubikas.set_new_abc(2, 3, 4)\n",
    "print(f'naujas kubikas: {kubikas.get_new_spav()}, {kubikas.get_new_V()}')"
   ]
  },
  {
   "cell_type": "code",
   "execution_count": 6,
   "metadata": {},
   "outputs": [
    {
     "name": "stdout",
     "output_type": "stream",
     "text": [
      "8.0\n",
      "4\n"
     ]
    }
   ],
   "source": [
    "# Sukurkite dvi klases:\n",
    "# • Klasę Stačiakampis - tėvinė (parent) klasė, sukūrimo metu\n",
    "# automatiškai suskaičiuoja plotą ir perimetrą. Galite naudoti\n",
    "# anksčiau kurtą klasę.\n",
    "# • Klasę Piramidė - išvestinė klasė (child class). Pridėkite\n",
    "# papildomą funkcionalumą - metodą, argumentus piramidės\n",
    "# tūrio skaičiavimui.\n",
    "\n",
    "\n",
    "class Piramide(Staciakampis):\n",
    "    def __init__(self, a, b, h):\n",
    "        super().__init__(a, b)\n",
    "        self.h = h\n",
    "        \n",
    "    def get_pir_v(self):\n",
    "        return self.a * self.b * self.h / 3\n",
    "    \n",
    "giza = Piramide(2, 2, 6)\n",
    "print(giza.get_pir_v())\n",
    "print(giza.S)"
   ]
  }
 ],
 "metadata": {
  "kernelspec": {
   "display_name": "Python 3",
   "language": "python",
   "name": "python3"
  },
  "language_info": {
   "codemirror_mode": {
    "name": "ipython",
    "version": 3
   },
   "file_extension": ".py",
   "mimetype": "text/x-python",
   "name": "python",
   "nbconvert_exporter": "python",
   "pygments_lexer": "ipython3",
   "version": "3.12.4"
  }
 },
 "nbformat": 4,
 "nbformat_minor": 2
}
