{
 "cells": [
  {
   "cell_type": "code",
   "execution_count": 1,
   "metadata": {},
   "outputs": [],
   "source": [
    "#paklauskite vartotojo datos - savo pasirinktu formatu. Suraskite skirtumą valandomis tarp įvestos datos ir dabarties\n",
    "\n",
    "import datetime"
   ]
  },
  {
   "cell_type": "code",
   "execution_count": 11,
   "metadata": {},
   "outputs": [
    {
     "name": "stdout",
     "output_type": "stream",
     "text": [
      "8620 days, 19:34:50.489571\n"
     ]
    }
   ],
   "source": [
    "# date = input(\"iveskite data\")\n",
    "date = \"2000-12-14 23:54:16\"\n",
    "date_v = datetime.datetime.strptime(date, \"%Y-%m-%d %H:%M:%S\")\n",
    "date_now = datetime.datetime.now()\n",
    "\n",
    "print(date_now - date_v)"
   ]
  },
  {
   "cell_type": "code",
   "execution_count": 19,
   "metadata": {},
   "outputs": [
    {
     "name": "stdout",
     "output_type": "stream",
     "text": [
      "3818 days, 19:37:45.436254\n"
     ]
    }
   ],
   "source": [
    "# paklauskite vartotojo datos, amerikietišku formatu,\n",
    "# mėnesio pavadinimas - tekstas, abbrevated name, pirmi trys simboliai (Jan, Feb, Dec, Nov ...)\n",
    "# - arskite skirtumaą tarp įvestos datos ir dabarties\n",
    "\n",
    "date = \"Feb 07 2014\"\n",
    "date_v = datetime.datetime.strptime(date, '%b %d %Y')\n",
    "date_now = datetime.datetime.now()\n",
    "\n",
    "print(date_now - date_v)"
   ]
  },
  {
   "cell_type": "code",
   "execution_count": 3,
   "metadata": {},
   "outputs": [
    {
     "data": {
      "text/plain": [
       "31.08"
      ]
     },
     "execution_count": 3,
     "metadata": {},
     "output_type": "execute_result"
    }
   ],
   "source": [
    "# Turite failą BrentOilPrices.csv\n",
    "# Parašykite funkciją, kuri grąžintų naftos kainą nurodytą dieną.\n",
    "# Diena nurodoma vartotojo, su input()\n",
    "# Jūsų pasirinktu formatu.\n",
    "# Jei įvestos datos neišeina rasti - funkcija grąžina -42\n",
    "\n",
    "# Parašykite funkciją, kuri grąžintų datas ir kainas iš \n",
    "# nurodyto intervalo, kaip du atskirus sąrašus.\n",
    "# intervalą nurodo vartotojas:\n",
    "# pvz, įvedus 07/May/04 ir 21/Mar/05 grąžintų sąrašą datų ir kainų tarp 2004-05-07 ir 2005-03-21\n",
    "\n",
    "def naftos_kaina():\n",
    "    \n",
    "    data_file_path = './DATA/09p_BrentOilPrices.csv'\n",
    "\n",
    "    with open(data_file_path, mode='r', encoding='utf-8') as file:\n",
    "        turinys = file.readlines()\n",
    "\n",
    "    date = input('ivesk norima data: yyyy-mm-dd')\n",
    "    date_v = datetime.datetime.strptime(date, '%Y-%m-%d')\n",
    "    # print(date_v)\n",
    "       \n",
    "    for line in turinys[1:]:\n",
    "        lst = line.split(',')\n",
    "        date_lst = lst[0]\n",
    "        date_d = datetime.datetime.strptime(date_lst, '%d-%b-%y')\n",
    "        # print(date_d)\n",
    "        if date_v == date_d:\n",
    "            ats = float(lst[1].replace('\\n', ''))\n",
    "            break\n",
    "        else:\n",
    "            ats = -42\n",
    "        \n",
    "    return ats\n",
    "    \n",
    "\n",
    "naftos_kaina()\n",
    "    \n",
    "\n",
    "\n",
    "\n",
    "    "
   ]
  },
  {
   "cell_type": "code",
   "execution_count": 5,
   "metadata": {},
   "outputs": [
    {
     "data": {
      "text/plain": [
       "(['1-Feb-99',\n",
       "  '2-Feb-99',\n",
       "  '3-Feb-99',\n",
       "  '4-Feb-99',\n",
       "  '5-Feb-99',\n",
       "  '8-Feb-99',\n",
       "  '9-Feb-99',\n",
       "  '10-Feb-99',\n",
       "  '11-Feb-99',\n",
       "  '12-Feb-99',\n",
       "  '16-Feb-99',\n",
       "  '17-Feb-99',\n",
       "  '18-Feb-99',\n",
       "  '19-Feb-99',\n",
       "  '22-Feb-99',\n",
       "  '23-Feb-99',\n",
       "  '24-Feb-99',\n",
       "  '25-Feb-99',\n",
       "  '26-Feb-99',\n",
       "  '1-Mar-99'],\n",
       " [10.81,\n",
       "  10.39,\n",
       "  10.78,\n",
       "  10.42,\n",
       "  10.18,\n",
       "  9.97,\n",
       "  9.77,\n",
       "  9.88,\n",
       "  9.82,\n",
       "  9.97,\n",
       "  9.98,\n",
       "  10.09,\n",
       "  9.93,\n",
       "  10.29,\n",
       "  10.24,\n",
       "  10.58,\n",
       "  10.64,\n",
       "  10.84,\n",
       "  10.58,\n",
       "  10.52])"
      ]
     },
     "execution_count": 5,
     "metadata": {},
     "output_type": "execute_result"
    }
   ],
   "source": [
    "def naftos_kainu_intervalai():\n",
    "    data_file_path = './DATA/09p_BrentOilPrices.csv'\n",
    "\n",
    "    with open(data_file_path, mode='r', encoding='utf-8') as file:\n",
    "        turinys = file.readlines()\n",
    "        \n",
    "    nuo = input('nuo kada: yyyy mm dd')\n",
    "    iki = input('iki kada: yyyy mm dd')\n",
    "    \n",
    "    date_nuo = datetime.datetime.strptime(nuo, '%Y %m %d')\n",
    "    date_iki = datetime.datetime.strptime(iki, '%Y %m %d')\n",
    "    \n",
    "    lst_date = []\n",
    "    lst_price = []\n",
    "    \n",
    "    for line in turinys[1:]:\n",
    "        lst = line.split(',')\n",
    "        date_lst = lst[0]\n",
    "        date_d = datetime.datetime.strptime(date_lst, '%d-%b-%y')\n",
    "        if date_nuo <= date_d <= date_iki:\n",
    "            lst_date.append(lst[0])\n",
    "            lst_price.append(float(lst[1].replace('\\n', '')))\n",
    "            \n",
    "    return lst_date, lst_price\n",
    "\n",
    "naftos_kainu_intervalai()"
   ]
  },
  {
   "cell_type": "code",
   "execution_count": 10,
   "metadata": {},
   "outputs": [
    {
     "data": {
      "text/plain": [
       "(['1',\n",
       "  '2',\n",
       "  '3',\n",
       "  '4',\n",
       "  '5',\n",
       "  '6',\n",
       "  '7',\n",
       "  '8',\n",
       "  '9',\n",
       "  '10',\n",
       "  '11',\n",
       "  '12',\n",
       "  '13',\n",
       "  '14',\n",
       "  '15',\n",
       "  '16',\n",
       "  '17',\n",
       "  '18',\n",
       "  '19',\n",
       "  '20',\n",
       "  '21',\n",
       "  '22',\n",
       "  '23',\n",
       "  '24',\n",
       "  '25',\n",
       "  '26',\n",
       "  '27',\n",
       "  '28',\n",
       "  '29',\n",
       "  '30'],\n",
       " [1.2163163809651,\n",
       "  1.3570081004946,\n",
       "  1.4133276288971,\n",
       "  1.381773290676,\n",
       "  1.2643069817509,\n",
       "  1.0682321882718,\n",
       "  0.8057398912243999,\n",
       "  0.49315059027860003,\n",
       "  0.14989957416519994,\n",
       "  -0.2026714714429,\n",
       "  -0.5426413865802,\n",
       "  -0.8488724885405,\n",
       "  -1.1023248106106,\n",
       "  -1.2872399149804,\n",
       "  -1.3921206760819,\n",
       "  -1.4104461161714998,\n",
       "  -1.3410768481424,\n",
       "  -1.1883259170959,\n",
       "  -0.96169063608742,\n",
       "  -0.6752620891999,\n",
       "  -0.3468490161848,\n",
       "  0.00312944872089993,\n",
       "  0.35291333966219995,\n",
       "  0.6807547884515001,\n",
       "  0.96627020167694,\n",
       "  1.1917076138158,\n",
       "  1.3430504184697,\n",
       "  1.4108888530621,\n",
       "  1.3910050523002,\n",
       "  1.2846352946097])"
      ]
     },
     "execution_count": 10,
     "metadata": {},
     "output_type": "execute_result"
    }
   ],
   "source": [
    "#  duotas failas fpc.csv.\n",
    "# parašyti funkciją, kuri nuskaitytų failą,\n",
    "# ir grąžintų visados pirmą stulpelį,\n",
    "# ir stulpelį, gautą iš matematinių veiksmų, kuriuos jūs nurodote kaip funkcijos argumentą.\n",
    "# HINT - pasiskaitykite apie eval() funkciją, ir pritaikykite ją čia.\n",
    "\n",
    "def func(veiksmas, stul_nr1, stul_nr2):\n",
    "    data_file_path = '../../DATA/fpc.csv'\n",
    "    \n",
    "    try:\n",
    "        with open(data_file_path, mode='r', encoding='utf-8') as file:\n",
    "            turinys = file.readlines()\n",
    "    except FileNotFoundError as ex:\n",
    "        print(ex)\n",
    "        \n",
    "    lst_c1 = []\n",
    "    lst_c_plus = []\n",
    "\n",
    "    for line in turinys[1:]:\n",
    "        lst = line.split(',')\n",
    "        lst_c1.append(lst[0])\n",
    "        \n",
    "        lst_c_plus.append(eval(lst[stul_nr1+1] +veiksmas+ lst[stul_nr2+1]))\n",
    "        \n",
    "    return lst_c1, lst_c_plus\n",
    "\n",
    "func('+', 2, 3)"
   ]
  }
 ],
 "metadata": {
  "kernelspec": {
   "display_name": "Python 3",
   "language": "python",
   "name": "python3"
  },
  "language_info": {
   "codemirror_mode": {
    "name": "ipython",
    "version": 3
   },
   "file_extension": ".py",
   "mimetype": "text/x-python",
   "name": "python",
   "nbconvert_exporter": "python",
   "pygments_lexer": "ipython3",
   "version": "3.9.5"
  }
 },
 "nbformat": 4,
 "nbformat_minor": 2
}
