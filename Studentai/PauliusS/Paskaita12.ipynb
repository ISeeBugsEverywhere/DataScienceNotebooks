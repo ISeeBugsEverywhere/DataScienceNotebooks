{
 "cells": [
  {
   "cell_type": "code",
   "execution_count": 1,
   "metadata": {},
   "outputs": [
    {
     "name": "stdout",
     "output_type": "stream",
     "text": [
      "282451.46786710416\n"
     ]
    }
   ],
   "source": [
    "#paklauskite vartotojo datos - savo pasirinktu formatu. Suraskite skirtumą valandomis tarp įvestos datos ir dabarties\n",
    "\n",
    "import datetime\n",
    "\n",
    "a = input('Iveskite data xxxx-xx-xx')\n",
    "\n",
    "date = datetime.datetime.strptime(a, '%Y-%m-%d')\n",
    "date_n = datetime.datetime.now()\n",
    "\n",
    "b = (date_n - date).total_seconds()\n",
    "\n",
    "c = b / 3600\n",
    "\n",
    "print(c)"
   ]
  },
  {
   "cell_type": "code",
   "execution_count": 2,
   "metadata": {},
   "outputs": [
    {
     "name": "stdout",
     "output_type": "stream",
     "text": [
      "2024-07-22 19:28:15.898425\n",
      "12603 days, 19:28:15.898425\n"
     ]
    }
   ],
   "source": [
    "# paklauskite vartotojo datos, amerikietišku formatu, mėnesio pavadinimas - tekstas, abbrevated name, pirmi trys simboliai (Jan, Feb, Dec, Nov ...) \n",
    "# - arskite skirtumaą tarp įvestos datos ir dabarties\n",
    "\n",
    "import datetime\n",
    "\n",
    "a = input('Iveskite amerikietiska data (Jul 22 2024)')\n",
    "\n",
    "dabar = datetime.datetime.now()\n",
    "\n",
    "date = datetime.datetime.strptime(a, '%b %d %Y')\n",
    "\n",
    "skirtumas = dabar - date\n",
    "\n",
    "print(dabar)\n",
    "print(skirtumas)"
   ]
  },
  {
   "cell_type": "code",
   "execution_count": 22,
   "metadata": {},
   "outputs": [
    {
     "name": "stdout",
     "output_type": "stream",
     "text": [
      "Naftos kaina 1995-05-16: 18.53\n"
     ]
    }
   ],
   "source": [
    "# Turite failą BrentOilPrices.csv\n",
    "# Parašykite funkciją, kuri grąžintų naftos kainą nurodytą dieną.\n",
    "# Diena nurodoma vartotojo, su input()\n",
    "# Jūsų pasirinktu formatu.\n",
    "# Jei įvestos datos neišeina rasti - funkcija grąžina -42\n",
    "\n",
    "# Parašykite funkciją, kuri grąžintų datas ir kainas iš \n",
    "# nurodyto intervalo, kaip du atskirus sąrašus.\n",
    "# intervalą nurodo vartotojas:\n",
    "# pvz, įvedus 07/May/04 ir 21/Mar/05 grąžintų sąrašą datų ir kainų tarp 2004-05-07 ir 2005-03-21\n",
    "\n",
    "\n",
    "import pandas as pd  # Importuojame pandas biblioteką ir suteikiame jai pavadinimą pd\n",
    "\n",
    "def get_oil_price(date_str):   # Aprašome funkciją \n",
    "    file_path = r'C:\\Users\\User\\Desktop\\Codes\\DataScienceNotebooks\\DATA\\BrentOilPrices.csv'   # Nurodytas kelias iki CSV failo\n",
    "    \n",
    "    try:        \n",
    "        \n",
    "        df = pd.read_csv(file_path)   # Nuskaitome CSV failą ir konvertuojame datos stulpelį į datetime formatą\n",
    "        df['Date'] = pd.to_datetime(df['Date'], format='%d-%b-%y')\n",
    "    except FileNotFoundError:           # Jei failas nerandamas, grąžiname -42 ir atspausdiname pranešimą\n",
    "        print(\"Failas nerastas.\")\n",
    "        return -42\n",
    "    \n",
    "    if 'Date' not in df.columns or 'Price' not in df.columns:           # Patikriname, ar faile yra stulpeliai 'Date' ir 'Price'\n",
    "        print(\"Failas neturi reikalingų stulpelių.\")\n",
    "        return -42            # Jei trūksta stulpelių, grąžiname -42 ir atspausdiname pranešimą\n",
    "\n",
    "    try:\n",
    "        # Konvertuojame naudotojo įvestą datą į pandas datetime formatą\n",
    "        user_date = pd.to_datetime(date_str, format='%Y-%m-%d')\n",
    "        price = df.loc[df['Date'] == user_date, 'Price'].values[0]    # Ieškome kainos pagal nurodytą datą\n",
    "        return price\n",
    "    except IndexError:\n",
    "        return -42   # Jei tokios datos nerandame, grąžiname -42 \n",
    "    except ValueError:\n",
    "        print(\"Netinkamas datos formatas.\")\n",
    "        return -42\n",
    "\n",
    "input_date = input(\"Įveskite datą (YYYY-MM-DD): \")  # Paprašome naudotojo įvesti datą nurodytu formatu\n",
    "oil_price = get_oil_price(input_date)  # Iškviečiame funkciją su naudotojo įvesta data\n",
    "print(f\"Naftos kaina {input_date}: {oil_price}\")  # Atspausdiname rezultatą\n",
    "\n"
   ]
  },
  {
   "cell_type": "code",
   "execution_count": 6,
   "metadata": {},
   "outputs": [
    {
     "name": "stdout",
     "output_type": "stream",
     "text": [
      "Defaulting to user installation because normal site-packages is not writeable\n",
      "Collecting pandas\n",
      "  Downloading pandas-2.2.2-cp312-cp312-win_amd64.whl.metadata (19 kB)\n",
      "Requirement already satisfied: numpy>=1.26.0 in c:\\users\\user\\appdata\\local\\packages\\pythonsoftwarefoundation.python.3.12_qbz5n2kfra8p0\\localcache\\local-packages\\python312\\site-packages (from pandas) (2.0.0)\n",
      "Requirement already satisfied: python-dateutil>=2.8.2 in c:\\users\\user\\appdata\\local\\packages\\pythonsoftwarefoundation.python.3.12_qbz5n2kfra8p0\\localcache\\local-packages\\python312\\site-packages (from pandas) (2.9.0.post0)\n",
      "Collecting pytz>=2020.1 (from pandas)\n",
      "  Downloading pytz-2024.1-py2.py3-none-any.whl.metadata (22 kB)\n",
      "Collecting tzdata>=2022.7 (from pandas)\n",
      "  Downloading tzdata-2024.1-py2.py3-none-any.whl.metadata (1.4 kB)\n",
      "Requirement already satisfied: six>=1.5 in c:\\users\\user\\appdata\\local\\packages\\pythonsoftwarefoundation.python.3.12_qbz5n2kfra8p0\\localcache\\local-packages\\python312\\site-packages (from python-dateutil>=2.8.2->pandas) (1.16.0)\n",
      "Downloading pandas-2.2.2-cp312-cp312-win_amd64.whl (11.5 MB)\n",
      "   ---------------------------------------- 0.0/11.5 MB ? eta -:--:--\n",
      "   ---------------------------------------- 0.0/11.5 MB 991.0 kB/s eta 0:00:12\n",
      "    --------------------------------------- 0.2/11.5 MB 2.4 MB/s eta 0:00:05\n",
      "   - -------------------------------------- 0.3/11.5 MB 3.0 MB/s eta 0:00:04\n",
      "   - -------------------------------------- 0.5/11.5 MB 3.6 MB/s eta 0:00:04\n",
      "   -- ------------------------------------- 0.7/11.5 MB 3.7 MB/s eta 0:00:03\n",
      "   --- ------------------------------------ 0.9/11.5 MB 3.9 MB/s eta 0:00:03\n",
      "   --- ------------------------------------ 1.0/11.5 MB 3.9 MB/s eta 0:00:03\n",
      "   ---- ----------------------------------- 1.2/11.5 MB 4.0 MB/s eta 0:00:03\n",
      "   ---- ----------------------------------- 1.4/11.5 MB 4.2 MB/s eta 0:00:03\n",
      "   ----- ---------------------------------- 1.6/11.5 MB 4.1 MB/s eta 0:00:03\n",
      "   ----- ---------------------------------- 1.7/11.5 MB 4.2 MB/s eta 0:00:03\n",
      "   ------ --------------------------------- 1.9/11.5 MB 4.3 MB/s eta 0:00:03\n",
      "   ------- -------------------------------- 2.0/11.5 MB 4.3 MB/s eta 0:00:03\n",
      "   ------- -------------------------------- 2.3/11.5 MB 4.4 MB/s eta 0:00:03\n",
      "   -------- ------------------------------- 2.4/11.5 MB 4.4 MB/s eta 0:00:03\n",
      "   -------- ------------------------------- 2.5/11.5 MB 4.4 MB/s eta 0:00:03\n",
      "   --------- ------------------------------ 2.8/11.5 MB 4.4 MB/s eta 0:00:02\n",
      "   ---------- ----------------------------- 2.9/11.5 MB 4.4 MB/s eta 0:00:02\n",
      "   ---------- ----------------------------- 3.1/11.5 MB 4.4 MB/s eta 0:00:02\n",
      "   ----------- ---------------------------- 3.3/11.5 MB 4.4 MB/s eta 0:00:02\n",
      "   ------------ --------------------------- 3.5/11.5 MB 4.4 MB/s eta 0:00:02\n",
      "   ------------ --------------------------- 3.7/11.5 MB 4.5 MB/s eta 0:00:02\n",
      "   ------------- -------------------------- 3.8/11.5 MB 4.4 MB/s eta 0:00:02\n",
      "   ------------- -------------------------- 4.0/11.5 MB 4.5 MB/s eta 0:00:02\n",
      "   -------------- ------------------------- 4.1/11.5 MB 4.5 MB/s eta 0:00:02\n",
      "   --------------- ------------------------ 4.3/11.5 MB 4.5 MB/s eta 0:00:02\n",
      "   --------------- ------------------------ 4.5/11.5 MB 4.5 MB/s eta 0:00:02\n",
      "   ---------------- ----------------------- 4.7/11.5 MB 4.5 MB/s eta 0:00:02\n",
      "   ---------------- ----------------------- 4.8/11.5 MB 4.5 MB/s eta 0:00:02\n",
      "   ----------------- ---------------------- 5.0/11.5 MB 4.5 MB/s eta 0:00:02\n",
      "   ----------------- ---------------------- 5.2/11.5 MB 4.5 MB/s eta 0:00:02\n",
      "   ------------------ --------------------- 5.3/11.5 MB 4.5 MB/s eta 0:00:02\n",
      "   ------------------- -------------------- 5.5/11.5 MB 4.5 MB/s eta 0:00:02\n",
      "   ------------------- -------------------- 5.7/11.5 MB 4.5 MB/s eta 0:00:02\n",
      "   -------------------- ------------------- 5.8/11.5 MB 4.5 MB/s eta 0:00:02\n",
      "   -------------------- ------------------- 6.0/11.5 MB 4.5 MB/s eta 0:00:02\n",
      "   --------------------- ------------------ 6.2/11.5 MB 4.5 MB/s eta 0:00:02\n",
      "   ---------------------- ----------------- 6.3/11.5 MB 4.6 MB/s eta 0:00:02\n",
      "   ---------------------- ----------------- 6.5/11.5 MB 4.5 MB/s eta 0:00:02\n",
      "   ----------------------- ---------------- 6.7/11.5 MB 4.5 MB/s eta 0:00:02\n",
      "   ----------------------- ---------------- 6.9/11.5 MB 4.5 MB/s eta 0:00:02\n",
      "   ------------------------ --------------- 7.0/11.5 MB 4.5 MB/s eta 0:00:01\n",
      "   ------------------------- -------------- 7.2/11.5 MB 4.6 MB/s eta 0:00:01\n",
      "   ------------------------- -------------- 7.4/11.5 MB 4.5 MB/s eta 0:00:01\n",
      "   -------------------------- ------------- 7.6/11.5 MB 4.6 MB/s eta 0:00:01\n",
      "   -------------------------- ------------- 7.7/11.5 MB 4.6 MB/s eta 0:00:01\n",
      "   --------------------------- ------------ 7.9/11.5 MB 4.5 MB/s eta 0:00:01\n",
      "   ---------------------------- ----------- 8.1/11.5 MB 4.6 MB/s eta 0:00:01\n",
      "   ---------------------------- ----------- 8.2/11.5 MB 4.6 MB/s eta 0:00:01\n",
      "   ----------------------------- ---------- 8.4/11.5 MB 4.6 MB/s eta 0:00:01\n",
      "   ----------------------------- ---------- 8.6/11.5 MB 4.6 MB/s eta 0:00:01\n",
      "   ------------------------------ --------- 8.8/11.5 MB 4.6 MB/s eta 0:00:01\n",
      "   ------------------------------- -------- 8.9/11.5 MB 4.6 MB/s eta 0:00:01\n",
      "   ------------------------------- -------- 9.1/11.5 MB 4.6 MB/s eta 0:00:01\n",
      "   -------------------------------- ------- 9.3/11.5 MB 4.6 MB/s eta 0:00:01\n",
      "   -------------------------------- ------- 9.4/11.5 MB 4.6 MB/s eta 0:00:01\n",
      "   --------------------------------- ------ 9.6/11.5 MB 4.6 MB/s eta 0:00:01\n",
      "   ---------------------------------- ----- 9.8/11.5 MB 4.6 MB/s eta 0:00:01\n",
      "   ---------------------------------- ----- 10.0/11.5 MB 4.6 MB/s eta 0:00:01\n",
      "   ----------------------------------- ---- 10.1/11.5 MB 4.6 MB/s eta 0:00:01\n",
      "   ----------------------------------- ---- 10.3/11.5 MB 4.6 MB/s eta 0:00:01\n",
      "   ------------------------------------ --- 10.5/11.5 MB 4.7 MB/s eta 0:00:01\n",
      "   ------------------------------------- -- 10.6/11.5 MB 4.7 MB/s eta 0:00:01\n",
      "   ------------------------------------- -- 10.8/11.5 MB 4.7 MB/s eta 0:00:01\n",
      "   -------------------------------------- - 11.0/11.5 MB 4.7 MB/s eta 0:00:01\n",
      "   -------------------------------------- - 11.2/11.5 MB 4.7 MB/s eta 0:00:01\n",
      "   ---------------------------------------  11.4/11.5 MB 4.7 MB/s eta 0:00:01\n",
      "   ---------------------------------------  11.5/11.5 MB 4.7 MB/s eta 0:00:01\n",
      "   ---------------------------------------- 11.5/11.5 MB 4.6 MB/s eta 0:00:00\n",
      "Downloading pytz-2024.1-py2.py3-none-any.whl (505 kB)\n",
      "   ---------------------------------------- 0.0/505.5 kB ? eta -:--:--\n",
      "   ------------- ------------------------- 174.1/505.5 kB 10.9 MB/s eta 0:00:01\n",
      "   ---------------------------- ----------- 358.4/505.5 kB 5.6 MB/s eta 0:00:01\n",
      "   ---------------------------------------- 505.5/505.5 kB 5.3 MB/s eta 0:00:00\n",
      "Downloading tzdata-2024.1-py2.py3-none-any.whl (345 kB)\n",
      "   ---------------------------------------- 0.0/345.4 kB ? eta -:--:--\n",
      "   ------------- -------------------------- 112.6/345.4 kB 3.2 MB/s eta 0:00:01\n",
      "   ----------------------- ---------------- 204.8/345.4 kB 2.5 MB/s eta 0:00:01\n",
      "   ---------------------------------------  337.9/345.4 kB 3.0 MB/s eta 0:00:01\n",
      "   ---------------------------------------- 345.4/345.4 kB 2.7 MB/s eta 0:00:00\n",
      "Installing collected packages: pytz, tzdata, pandas\n",
      "Successfully installed pandas-2.2.2 pytz-2024.1 tzdata-2024.1\n",
      "Note: you may need to restart the kernel to use updated packages.\n"
     ]
    },
    {
     "name": "stderr",
     "output_type": "stream",
     "text": [
      "\n",
      "[notice] A new release of pip is available: 24.0 -> 24.1.2\n",
      "[notice] To update, run: C:\\Users\\User\\AppData\\Local\\Microsoft\\WindowsApps\\PythonSoftwareFoundation.Python.3.12_qbz5n2kfra8p0\\python.exe -m pip install --upgrade pip\n"
     ]
    }
   ],
   "source": [
    "pip install pandas"
   ]
  },
  {
   "cell_type": "code",
   "execution_count": null,
   "metadata": {},
   "outputs": [],
   "source": [
    "# Parašykite funkciją, kuri grąžintų datas ir kainas iš \n",
    "# nurodyto intervalo, kaip du atskirus sąrašus.\n",
    "# intervalą nurodo vartotojas:\n",
    "# pvz, įvedus 07/May/04 ir 21/Mar/05 grąžintų sąrašą datų ir kainų tarp 2004-05-07 ir 2005-03-21"
   ]
  },
  {
   "cell_type": "code",
   "execution_count": null,
   "metadata": {},
   "outputs": [],
   "source": [
    "#  duotas failas fpc.csv.\n",
    "# parašyti funkciją, kuri nuskaitytų failą, ir grąžintų visados pirmą stulpelį, \n",
    "# ir stulpelį, gautą iš matematinių veiksmų, kuriuos jūs nurodote kaip funkcijos \n",
    "# argumentą. HINT - pasiskaitykite apie eval() funkciją, ir pritaikykite ją čia."
   ]
  }
 ],
 "metadata": {
  "kernelspec": {
   "display_name": "Python 3",
   "language": "python",
   "name": "python3"
  },
  "language_info": {
   "codemirror_mode": {
    "name": "ipython",
    "version": 3
   },
   "file_extension": ".py",
   "mimetype": "text/x-python",
   "name": "python",
   "nbconvert_exporter": "python",
   "pygments_lexer": "ipython3",
   "version": "3.12.4"
  }
 },
 "nbformat": 4,
 "nbformat_minor": 2
}
