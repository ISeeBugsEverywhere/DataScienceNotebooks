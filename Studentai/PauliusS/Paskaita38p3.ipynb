{
 "cells": [
  {
   "cell_type": "code",
   "execution_count": 1,
   "metadata": {},
   "outputs": [],
   "source": [
    "import numpy as np\n",
    "import pandas as pd\n",
    "import matplotlib.pyplot as plt\n",
    "import warnings\n",
    "warnings.filterwarnings('ignore')\n",
    "import seaborn as sns\n",
    "import requests"
   ]
  },
  {
   "cell_type": "code",
   "execution_count": 48,
   "metadata": {},
   "outputs": [
    {
     "name": "stdout",
     "output_type": "stream",
     "text": [
      "200\n"
     ]
    }
   ],
   "source": [
    "url = 'https://api.meteo.lt/v1/stations'\n",
    "\n",
    "page = requests.get(url)                  #get funkcija skirta atsiusti url \n",
    "status = page.status_code\n",
    "print(status)                               #200 rodo kad data gauta "
   ]
  },
  {
   "cell_type": "code",
   "execution_count": 49,
   "metadata": {},
   "outputs": [
    {
     "name": "stdout",
     "output_type": "stream",
     "text": [
      "[{'code': 'akmenes-ams', 'name': 'Akmenės AMS', 'coordinates': {'latitude': 56.24992, 'longitude': 22.73081}}, {'code': 'alytaus-ams', 'name': 'Alytaus AMS', 'coordinates': {'latitude': 54.412435, 'longitude': 24.063274}}, {'code': 'anyksciu-ams', 'name': 'Anykščių AMS', 'coordinates': {'latitude': 55.51735, 'longitude': 25.1178}}, {'code': 'birstono-ams', 'name': 'Birštono AMS', 'coordinates': {'latitude': 54.603217, 'longitude': 24.035802}}, {'code': 'birzu-ams', 'name': 'Biržų AMS', 'coordinates': {'latitude': 56.193191, 'longitude': 24.774184}}, {'code': 'dotnuvos-ams', 'name': 'Dotnuvos AMS', 'coordinates': {'latitude': 55.395993, 'longitude': 23.866224}}, {'code': 'druskininku-ams', 'name': 'Druskininkų AMS', 'coordinates': {'latitude': 54.018202, 'longitude': 23.980791}}, {'code': 'duksto-ams', 'name': 'Dūkšto AMS', 'coordinates': {'latitude': 55.517856, 'longitude': 26.31614}}, {'code': 'elektrenu-ams', 'name': 'Elektrėnų AMS', 'coordinates': {'latitude': 54.786161, 'longitude': 24.689854}}, {'code': 'jonavos-ams', 'name': 'Jonavos AMS', 'coordinates': {'latitude': 55.06913, 'longitude': 24.277147}}, {'code': 'joniskio-ams', 'name': 'Joniškio AMS', 'coordinates': {'latitude': 56.246354, 'longitude': 23.630755}}, {'code': 'jurbarko-ams', 'name': 'Jurbarko AMS', 'coordinates': {'latitude': 55.094064, 'longitude': 22.773518}}, {'code': 'kaisiadoriu-ams', 'name': 'Kaišiadorių AMS', 'coordinates': {'latitude': 54.856942, 'longitude': 24.437842}}, {'code': 'kalvarijos-ams', 'name': 'Kalvarijos AMS', 'coordinates': {'latitude': 54.421564, 'longitude': 23.216806}}, {'code': 'kauno-ams', 'name': 'Kauno AMS', 'coordinates': {'latitude': 54.88396, 'longitude': 23.83588}}, {'code': 'kazlu-rudos-ams', 'name': 'Kazlų Rūdos AMS', 'coordinates': {'latitude': 54.699852, 'longitude': 23.514815}}, {'code': 'kelmes-ams', 'name': 'Kelmės AMS', 'coordinates': {'latitude': 55.629044, 'longitude': 22.934568}}, {'code': 'klaipedos-ams', 'name': 'Klaipėdos AMS', 'coordinates': {'latitude': 55.73135, 'longitude': 21.09157}}, {'code': 'kretingos-ams', 'name': 'Kretingos AMS', 'coordinates': {'latitude': 55.894089, 'longitude': 21.27306}}, {'code': 'kupiskio-ams', 'name': 'Kupiškio AMS', 'coordinates': {'latitude': 55.851591, 'longitude': 24.909266}}, {'code': 'kybartu-ams', 'name': 'Kybartų AMS', 'coordinates': {'latitude': 54.633167, 'longitude': 22.783011}}, {'code': 'laukuvos-ams', 'name': 'Laukuvos AMS', 'coordinates': {'latitude': 55.60886, 'longitude': 22.239463}}, {'code': 'lazdiju-ams', 'name': 'Lazdijų AMS', 'coordinates': {'latitude': 54.23221, 'longitude': 23.51068}}, {'code': 'marijampoles-ams', 'name': 'Marijampolės AMS', 'coordinates': {'latitude': 54.528855, 'longitude': 23.35181}}, {'code': 'mazeikiu-ams', 'name': 'Mažeikių AMS', 'coordinates': {'latitude': 56.353885, 'longitude': 22.317683}}, {'code': 'moletu-ams', 'name': 'Molėtų AMS', 'coordinates': {'latitude': 55.235244, 'longitude': 25.416378}}, {'code': 'nidos-ams', 'name': 'Nidos AMS', 'coordinates': {'latitude': 55.30221, 'longitude': 21.00736}}, {'code': 'pagegiu-ams', 'name': 'Pagėgių AMS', 'coordinates': {'latitude': 55.140898, 'longitude': 21.950386}}, {'code': 'pakruojo-ams', 'name': 'Pakruojo AMS', 'coordinates': {'latitude': 56.083488, 'longitude': 23.902854}}, {'code': 'panevezio-ams', 'name': 'Panevėžio AMS', 'coordinates': {'latitude': 55.735154, 'longitude': 24.417184}}, {'code': 'plunges-ams', 'name': 'Plungės AMS', 'coordinates': {'latitude': 55.907014, 'longitude': 21.866687}}, {'code': 'prienu-ams', 'name': 'Prienų AMS', 'coordinates': {'latitude': 54.7291, 'longitude': 24.0525}}, {'code': 'raseiniu-ams', 'name': 'Raseinių AMS', 'coordinates': {'latitude': 55.394569, 'longitude': 23.133073}}, {'code': 'rietavo-ams', 'name': 'Rietavo AMS', 'coordinates': {'latitude': 55.718091, 'longitude': 21.958142}}, {'code': 'rokiskio-ams', 'name': 'Rokiškio AMS', 'coordinates': {'latitude': 55.95498, 'longitude': 25.59149}}, {'code': 'sakiu-ams', 'name': 'Šakių AMS', 'coordinates': {'latitude': 54.94907, 'longitude': 23.036425}}, {'code': 'salcininku-ams', 'name': 'Šalčininkų AMS', 'coordinates': {'latitude': 54.31038, 'longitude': 25.374422}}, {'code': 'seduvos-ams', 'name': 'Šeduvos AMS', 'coordinates': {'latitude': 55.75466, 'longitude': 23.74245}}, {'code': 'siauliu-ams', 'name': 'Šiaulių AMS', 'coordinates': {'latitude': 55.942222, 'longitude': 23.331111}}, {'code': 'silutes-ams', 'name': 'Šilutės AMS', 'coordinates': {'latitude': 55.352222, 'longitude': 21.446944}}, {'code': 'skuodo-ams', 'name': 'Skuodo AMS', 'coordinates': {'latitude': 56.277213, 'longitude': 21.513962}}, {'code': 'svencioniu-ams', 'name': 'Švenčionių AMS', 'coordinates': {'latitude': 55.132777, 'longitude': 26.172895}}, {'code': 'taurages-ams', 'name': 'Tauragės AMS', 'coordinates': {'latitude': 55.256786, 'longitude': 22.27802}}, {'code': 'telsiu-ams', 'name': 'Telšių AMS', 'coordinates': {'latitude': 55.991245, 'longitude': 22.256657}}, {'code': 'traku-ams', 'name': 'Trakų AMS', 'coordinates': {'latitude': 54.615924, 'longitude': 24.785292}}, {'code': 'ukmerges-ams', 'name': 'Ukmergės AMS', 'coordinates': {'latitude': 55.264145, 'longitude': 24.760335}}, {'code': 'utenos-ams', 'name': 'Utenos AMS', 'coordinates': {'latitude': 55.515321, 'longitude': 25.589692}}, {'code': 'varenos-ams', 'name': 'Varėnos AMS', 'coordinates': {'latitude': 54.248271, 'longitude': 24.55176}}, {'code': 'ventes-ams', 'name': 'Ventės AMS', 'coordinates': {'latitude': 55.340853, 'longitude': 21.189682}}, {'code': 'vezaiciu-ams', 'name': 'Vėžaičių AMS', 'coordinates': {'latitude': 55.7205, 'longitude': 21.4743}}, {'code': 'vilniaus-ams', 'name': 'Vilniaus AMS', 'coordinates': {'latitude': 54.625992, 'longitude': 25.107064}}, {'code': 'zarasu-ams', 'name': 'Zarasų AMS', 'coordinates': {'latitude': 55.742673, 'longitude': 26.250977}}]\n"
     ]
    }
   ],
   "source": [
    "r = page.json()                     #gauname sarasus zodynu \n",
    "print(r)\n"
   ]
  },
  {
   "cell_type": "code",
   "execution_count": 54,
   "metadata": {},
   "outputs": [
    {
     "name": "stdout",
     "output_type": "stream",
     "text": [
      "['akmenes-ams', 'alytaus-ams', 'anyksciu-ams', 'birstono-ams', 'birzu-ams', 'dotnuvos-ams', 'druskininku-ams', 'duksto-ams', 'elektrenu-ams', 'jonavos-ams', 'joniskio-ams', 'jurbarko-ams', 'kaisiadoriu-ams', 'kalvarijos-ams', 'kauno-ams', 'kazlu-rudos-ams', 'kelmes-ams', 'klaipedos-ams', 'kretingos-ams', 'kupiskio-ams', 'kybartu-ams', 'laukuvos-ams', 'lazdiju-ams', 'marijampoles-ams', 'mazeikiu-ams', 'moletu-ams', 'nidos-ams', 'pagegiu-ams', 'pakruojo-ams', 'panevezio-ams', 'plunges-ams', 'prienu-ams', 'raseiniu-ams', 'rietavo-ams', 'rokiskio-ams', 'sakiu-ams', 'salcininku-ams', 'seduvos-ams', 'siauliu-ams', 'silutes-ams', 'skuodo-ams', 'svencioniu-ams', 'taurages-ams', 'telsiu-ams', 'traku-ams', 'ukmerges-ams', 'utenos-ams', 'varenos-ams', 'ventes-ams', 'vezaiciu-ams', 'vilniaus-ams', 'zarasu-ams']\n"
     ]
    }
   ],
   "source": [
    "df = pd.DataFrame(data=r)\n",
    "# df.head(15)\n",
    "stotys = df['code']    # visu stociu pavadinimai\n",
    "stotys.head(2)\n",
    "stotys_list = stotys.tolist()\n",
    "print(stotys_list)\n",
    "\n",
    "# print(type(df), type(stotys))"
   ]
  },
  {
   "cell_type": "code",
   "execution_count": 55,
   "metadata": {},
   "outputs": [
    {
     "name": "stdout",
     "output_type": "stream",
     "text": [
      "200\n"
     ]
    }
   ],
   "source": [
    "# raskite meteo stotelę, kuri užfiksavo didžiausią oro temperatūrą esamuoju metu.\n",
    "\n",
    "url2 = 'https://api.meteo.lt/v1/stations/vilniaus-ams/observations/latest'\n",
    "\n",
    "page = requests.get(url2)                  #get funkcija skirta atsiusti url \n",
    "status = page.status_code\n",
    "print(status)                               #200 rodo kad data gauta "
   ]
  },
  {
   "cell_type": "code",
   "execution_count": 84,
   "metadata": {},
   "outputs": [
    {
     "name": "stdout",
     "output_type": "stream",
     "text": [
      "{'station': {'code': 'zarasu-ams', 'name': 'Zarasų AMS', 'coordinates': {'latitude': 55.742673, 'longitude': 26.250977}}, 'observations': [{'observationTimeUtc': '2024-10-06 19:00:00', 'airTemperature': 7.9, 'feelsLikeTemperature': None, 'windSpeed': None, 'windGust': None, 'windDirection': None, 'cloudCover': None, 'seaLevelPressure': None, 'relativeHumidity': 89, 'precipitation': 0, 'conditionCode': None}, {'observationTimeUtc': '2024-10-06 20:00:00', 'airTemperature': 7.8, 'feelsLikeTemperature': None, 'windSpeed': None, 'windGust': None, 'windDirection': None, 'cloudCover': None, 'seaLevelPressure': None, 'relativeHumidity': 93, 'precipitation': 0, 'conditionCode': None}, {'observationTimeUtc': '2024-10-06 21:00:00', 'airTemperature': 8, 'feelsLikeTemperature': None, 'windSpeed': None, 'windGust': None, 'windDirection': None, 'cloudCover': None, 'seaLevelPressure': None, 'relativeHumidity': 92, 'precipitation': 0, 'conditionCode': None}, {'observationTimeUtc': '2024-10-06 22:00:00', 'airTemperature': 7.8, 'feelsLikeTemperature': None, 'windSpeed': None, 'windGust': None, 'windDirection': None, 'cloudCover': None, 'seaLevelPressure': None, 'relativeHumidity': 95, 'precipitation': 0, 'conditionCode': None}, {'observationTimeUtc': '2024-10-06 23:00:00', 'airTemperature': 7.3, 'feelsLikeTemperature': None, 'windSpeed': None, 'windGust': None, 'windDirection': None, 'cloudCover': None, 'seaLevelPressure': None, 'relativeHumidity': 99, 'precipitation': 0.2, 'conditionCode': None}, {'observationTimeUtc': '2024-10-07 00:00:00', 'airTemperature': 7.1, 'feelsLikeTemperature': None, 'windSpeed': None, 'windGust': None, 'windDirection': None, 'cloudCover': None, 'seaLevelPressure': None, 'relativeHumidity': 99, 'precipitation': 0.8, 'conditionCode': None}, {'observationTimeUtc': '2024-10-07 01:00:00', 'airTemperature': 7.2, 'feelsLikeTemperature': None, 'windSpeed': None, 'windGust': None, 'windDirection': None, 'cloudCover': None, 'seaLevelPressure': None, 'relativeHumidity': 99, 'precipitation': 0.3, 'conditionCode': None}, {'observationTimeUtc': '2024-10-07 02:00:00', 'airTemperature': 6.9, 'feelsLikeTemperature': None, 'windSpeed': None, 'windGust': None, 'windDirection': None, 'cloudCover': None, 'seaLevelPressure': None, 'relativeHumidity': 99, 'precipitation': 0.4, 'conditionCode': None}, {'observationTimeUtc': '2024-10-07 03:00:00', 'airTemperature': 6.6, 'feelsLikeTemperature': None, 'windSpeed': None, 'windGust': None, 'windDirection': None, 'cloudCover': None, 'seaLevelPressure': None, 'relativeHumidity': 99, 'precipitation': 0, 'conditionCode': None}, {'observationTimeUtc': '2024-10-07 04:00:00', 'airTemperature': 6.4, 'feelsLikeTemperature': None, 'windSpeed': None, 'windGust': None, 'windDirection': None, 'cloudCover': None, 'seaLevelPressure': None, 'relativeHumidity': 99, 'precipitation': 0, 'conditionCode': None}, {'observationTimeUtc': '2024-10-07 05:00:00', 'airTemperature': 6.8, 'feelsLikeTemperature': None, 'windSpeed': None, 'windGust': None, 'windDirection': None, 'cloudCover': None, 'seaLevelPressure': None, 'relativeHumidity': 99, 'precipitation': 0, 'conditionCode': None}, {'observationTimeUtc': '2024-10-07 06:00:00', 'airTemperature': 7.2, 'feelsLikeTemperature': None, 'windSpeed': None, 'windGust': None, 'windDirection': None, 'cloudCover': None, 'seaLevelPressure': None, 'relativeHumidity': 99, 'precipitation': 0, 'conditionCode': None}, {'observationTimeUtc': '2024-10-07 07:00:00', 'airTemperature': 7.4, 'feelsLikeTemperature': None, 'windSpeed': None, 'windGust': None, 'windDirection': None, 'cloudCover': None, 'seaLevelPressure': None, 'relativeHumidity': 99, 'precipitation': 0, 'conditionCode': None}, {'observationTimeUtc': '2024-10-07 08:00:00', 'airTemperature': 7.7, 'feelsLikeTemperature': None, 'windSpeed': None, 'windGust': None, 'windDirection': None, 'cloudCover': None, 'seaLevelPressure': None, 'relativeHumidity': 96, 'precipitation': 0, 'conditionCode': None}, {'observationTimeUtc': '2024-10-07 09:00:00', 'airTemperature': 9, 'feelsLikeTemperature': None, 'windSpeed': None, 'windGust': None, 'windDirection': None, 'cloudCover': None, 'seaLevelPressure': None, 'relativeHumidity': 88, 'precipitation': 0, 'conditionCode': None}, {'observationTimeUtc': '2024-10-07 10:00:00', 'airTemperature': 10.1, 'feelsLikeTemperature': None, 'windSpeed': None, 'windGust': None, 'windDirection': None, 'cloudCover': None, 'seaLevelPressure': None, 'relativeHumidity': 81, 'precipitation': 0, 'conditionCode': None}, {'observationTimeUtc': '2024-10-07 11:00:00', 'airTemperature': 9.9, 'feelsLikeTemperature': None, 'windSpeed': None, 'windGust': None, 'windDirection': None, 'cloudCover': None, 'seaLevelPressure': None, 'relativeHumidity': 80, 'precipitation': 0, 'conditionCode': None}, {'observationTimeUtc': '2024-10-07 12:00:00', 'airTemperature': 10, 'feelsLikeTemperature': None, 'windSpeed': None, 'windGust': None, 'windDirection': None, 'cloudCover': None, 'seaLevelPressure': None, 'relativeHumidity': 79, 'precipitation': 0, 'conditionCode': None}, {'observationTimeUtc': '2024-10-07 13:00:00', 'airTemperature': 10, 'feelsLikeTemperature': None, 'windSpeed': None, 'windGust': None, 'windDirection': None, 'cloudCover': None, 'seaLevelPressure': None, 'relativeHumidity': 80, 'precipitation': 0, 'conditionCode': None}, {'observationTimeUtc': '2024-10-07 14:00:00', 'airTemperature': 10, 'feelsLikeTemperature': None, 'windSpeed': None, 'windGust': None, 'windDirection': None, 'cloudCover': None, 'seaLevelPressure': None, 'relativeHumidity': 81, 'precipitation': 0, 'conditionCode': None}, {'observationTimeUtc': '2024-10-07 15:00:00', 'airTemperature': 9.4, 'feelsLikeTemperature': None, 'windSpeed': None, 'windGust': None, 'windDirection': None, 'cloudCover': None, 'seaLevelPressure': None, 'relativeHumidity': 81, 'precipitation': 0, 'conditionCode': None}, {'observationTimeUtc': '2024-10-07 16:00:00', 'airTemperature': 8.9, 'feelsLikeTemperature': None, 'windSpeed': None, 'windGust': None, 'windDirection': None, 'cloudCover': None, 'seaLevelPressure': None, 'relativeHumidity': 87, 'precipitation': 0, 'conditionCode': None}, {'observationTimeUtc': '2024-10-07 17:00:00', 'airTemperature': 8.4, 'feelsLikeTemperature': None, 'windSpeed': None, 'windGust': None, 'windDirection': None, 'cloudCover': None, 'seaLevelPressure': None, 'relativeHumidity': 92, 'precipitation': 0, 'conditionCode': None}, {'observationTimeUtc': '2024-10-07 18:00:00', 'airTemperature': 8.3, 'feelsLikeTemperature': None, 'windSpeed': None, 'windGust': None, 'windDirection': None, 'cloudCover': None, 'seaLevelPressure': None, 'relativeHumidity': 92, 'precipitation': 0, 'conditionCode': None}]}\n",
      "8.3\n"
     ]
    }
   ],
   "source": [
    "r = page.json()                     #gauname sarasus zodynu \n",
    "print(r)\n",
    "\n",
    "r2 = r['observations']\n",
    "r3 = pd.DataFrame(r2)\n",
    "r3.head(3)\n",
    "\n",
    "# temperaturos = r3['airTemperature'].tolist()\n",
    "# max_temp = max(temperaturos)\n",
    "\n",
    "max_temp = temperaturos[-1]\n",
    "print(max_temp)\n"
   ]
  },
  {
   "cell_type": "code",
   "execution_count": null,
   "metadata": {},
   "outputs": [],
   "source": [
    "stotys_list  #sarasas su pavadinimais \n",
    "max_temp # maximali temperatura"
   ]
  },
  {
   "cell_type": "code",
   "execution_count": 86,
   "metadata": {},
   "outputs": [
    {
     "name": "stdout",
     "output_type": "stream",
     "text": [
      "[5.2, 8.4, 8.0, 7.6, 8.6, 8.0, 8.2, 8.4, 9.5, 9.2, 5.2, 7.0, 8.2, 9.5, 10.0, 8.5, 6.8, 6.5, 6.5, 8.4, 7.6, 6.3, 9.9, 6.6, 3.9, 8.5, 11.9, 7.4, 7.4, 8.7, 4.8, 8.1, 6.9, 5.2, 8.8, 6.9, 8.6, 6.4, 5.9, 6.2, 3.1, 8.2, 7.3, 7.6, 9.3, 8.9, 7.5, 7.6, 10.2, 6.8, 9.1, 8.3]\n"
     ]
    }
   ],
   "source": [
    "tem_sarasas = []\n",
    "\n",
    "for i in stotys_list:\n",
    "    url3 = f'https://api.meteo.lt/v1/stations/{i}/observations/latest'\n",
    "    page = requests.get(url3) \n",
    "    h = page.json() \n",
    "    h2 = h['observations']\n",
    "    h3 = pd.DataFrame(h2)\n",
    "    a = h3['airTemperature'].tolist()\n",
    "    g = a[-1]\n",
    "    tem_sarasas.append(g)\n",
    "    \n",
    "print(tem_sarasas)"
   ]
  },
  {
   "cell_type": "code",
   "execution_count": 88,
   "metadata": {},
   "outputs": [
    {
     "name": "stdout",
     "output_type": "stream",
     "text": [
      "['akmenes-ams', 'alytaus-ams', 'anyksciu-ams', 'birstono-ams', 'birzu-ams', 'dotnuvos-ams', 'druskininku-ams', 'duksto-ams', 'elektrenu-ams', 'jonavos-ams', 'joniskio-ams', 'jurbarko-ams', 'kaisiadoriu-ams', 'kalvarijos-ams', 'kauno-ams', 'kazlu-rudos-ams', 'kelmes-ams', 'klaipedos-ams', 'kretingos-ams', 'kupiskio-ams', 'kybartu-ams', 'laukuvos-ams', 'lazdiju-ams', 'marijampoles-ams', 'mazeikiu-ams', 'moletu-ams', 'nidos-ams', 'pagegiu-ams', 'pakruojo-ams', 'panevezio-ams', 'plunges-ams', 'prienu-ams', 'raseiniu-ams', 'rietavo-ams', 'rokiskio-ams', 'sakiu-ams', 'salcininku-ams', 'seduvos-ams', 'siauliu-ams', 'silutes-ams', 'skuodo-ams', 'svencioniu-ams', 'taurages-ams', 'telsiu-ams', 'traku-ams', 'ukmerges-ams', 'utenos-ams', 'varenos-ams', 'ventes-ams', 'vezaiciu-ams', 'vilniaus-ams', 'zarasu-ams']\n",
      "[5.2, 8.4, 8.0, 7.6, 8.6, 8.0, 8.2, 8.4, 9.5, 9.2, 5.2, 7.0, 8.2, 9.5, 10.0, 8.5, 6.8, 6.5, 6.5, 8.4, 7.6, 6.3, 9.9, 6.6, 3.9, 8.5, 11.9, 7.4, 7.4, 8.7, 4.8, 8.1, 6.9, 5.2, 8.8, 6.9, 8.6, 6.4, 5.9, 6.2, 3.1, 8.2, 7.3, 7.6, 9.3, 8.9, 7.5, 7.6, 10.2, 6.8, 9.1, 8.3]\n",
      "11.9 nidos-ams\n"
     ]
    }
   ],
   "source": [
    "print(stotys_list)\n",
    "print(tem_sarasas)\n",
    "\n",
    "temper4 = -100\n",
    "stotis4 = None \n",
    "\n",
    "for st, tmp in zip(stotys_list, tem_sarasas):\n",
    "    if tmp > temper4:\n",
    "        temper4 = tmp\n",
    "        stotis4 = st\n",
    "        \n",
    "print(temper4, stotis4)"
   ]
  },
  {
   "cell_type": "code",
   "execution_count": 101,
   "metadata": {},
   "outputs": [
    {
     "name": "stdout",
     "output_type": "stream",
     "text": [
      "        Stotis  Temperatūra\n",
      "26   nidos-ams         11.9\n",
      "48  ventes-ams         10.2\n",
      "14   kauno-ams         10.0\n",
      "['nidos-ams', 'ventes-ams', 'kauno-ams']\n"
     ]
    }
   ],
   "source": [
    "#  antra užduotis : Suraskite tris aukščiausią temperatūrą užfiksavusias stoteles, \n",
    "#  ir atvaizduokite grafiškai jų fiksuotą oro temperatūrą per paskutines tris dienas.\n",
    "\n",
    "\n",
    "pdf = pd.DataFrame({'Stotis': stotys_list, 'Temperatūra': tem_sarasas})\n",
    "top_3 = pdf.sort_values(by='Temperatūra', ascending=False).head(3)\n",
    "\n",
    "print(top_3)\n",
    "\n",
    "top_3_stotys = top_3['Stotis'].tolist()\n",
    "print(top_3_stotys)"
   ]
  },
  {
   "cell_type": "code",
   "execution_count": null,
   "metadata": {},
   "outputs": [],
   "source": []
  }
 ],
 "metadata": {
  "kernelspec": {
   "display_name": "Python 3",
   "language": "python",
   "name": "python3"
  },
  "language_info": {
   "codemirror_mode": {
    "name": "ipython",
    "version": 3
   },
   "file_extension": ".py",
   "mimetype": "text/x-python",
   "name": "python",
   "nbconvert_exporter": "python",
   "pygments_lexer": "ipython3",
   "version": "3.12.undefined"
  }
 },
 "nbformat": 4,
 "nbformat_minor": 2
}
