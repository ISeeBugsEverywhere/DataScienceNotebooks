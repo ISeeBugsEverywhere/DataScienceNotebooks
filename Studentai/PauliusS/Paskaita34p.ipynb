{
 "cells": [
  {
   "cell_type": "code",
   "execution_count": 1,
   "metadata": {},
   "outputs": [],
   "source": [
    "import numpy as np\n",
    "import pandas as pd\n",
    "import matplotlib.pyplot as plt\n",
    "import warnings\n",
    "warnings.filterwarnings('ignore')\n",
    "import seaborn as sns\n",
    "import sqlite3\n",
    "import mysql.connector as cnt\n",
    "import plotly.express as px"
   ]
  },
  {
   "cell_type": "code",
   "execution_count": 2,
   "metadata": {},
   "outputs": [],
   "source": [
    "#prisijungimas prie mySQL, ir kursoriaus sukūrimas\n",
    "DB = cnt.connect(\n",
    "host = '88.223.121.130',\n",
    "user='user',\n",
    "password='slaptazodis',\n",
    "port=3306,\n",
    "database='works'\n",
    ")\n",
    "C=DB.cursor()"
   ]
  },
  {
   "cell_type": "code",
   "execution_count": 3,
   "metadata": {},
   "outputs": [],
   "source": [
    "sql=\"\"\"\n",
    "SELECT \n",
    "    gamintojas, \n",
    "    ROUND(AVG(REPLACE(REPLACE(price, ' ', ''), 'km', ''))) AS price, \n",
    "    ROUND(AVG(REPLACE(REPLACE(rida, ' ', ''), 'km', ''))) AS rida, \n",
    "    ROUND(AVG(SUBSTRING(pagaminimo_data, 1, 4))) AS metai, \n",
    "    count(modelis) as modelis\n",
    "FROM autopliuslt\n",
    "GROUP BY gamintojas\n",
    "ORDER BY modelis desc\n",
    "LIMIT 10;\"\"\"\n",
    "C.execute(sql)\n",
    "ans = C.fetchall()\n",
    "gamintojas, price, rida, metai, modelis = list(map(list, zip(*ans)))\n",
    "#? = np.transpose(ans)"
   ]
  },
  {
   "cell_type": "code",
   "execution_count": null,
   "metadata": {},
   "outputs": [],
   "source": [
    "pd.merge()  #jungia lenteles"
   ]
  }
 ],
 "metadata": {
  "kernelspec": {
   "display_name": "Python 3",
   "language": "python",
   "name": "python3"
  },
  "language_info": {
   "codemirror_mode": {
    "name": "ipython",
    "version": 3
   },
   "file_extension": ".py",
   "mimetype": "text/x-python",
   "name": "python",
   "nbconvert_exporter": "python",
   "pygments_lexer": "ipython3",
   "version": "3.12.6"
  }
 },
 "nbformat": 4,
 "nbformat_minor": 2
}
