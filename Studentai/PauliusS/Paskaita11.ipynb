{
 "cells": [
  {
   "cell_type": "code",
   "execution_count": 9,
   "metadata": {},
   "outputs": [
    {
     "name": "stdout",
     "output_type": "stream",
     "text": [
      "@\n",
      " @\n",
      "  @\n",
      "   @\n",
      "    @\n"
     ]
    }
   ],
   "source": [
    "# vartotojas įveda skaičių n\n",
    "# jūsų funkcija! turi spausdinti \"laiptus\" iš simbolių | ir ‾\n",
    "# pvz įvesta 4:\n",
    "# ‾|\n",
    "#  ‾|\n",
    "#   ‾|\n",
    "#    ‾|\n",
    "\n",
    "\n",
    "a = int(input('Iveskite skaiciu'))\n",
    "\n",
    "for x in range(a):\n",
    "    print(' '*x + '@' )\n",
    "\n",
    "\n"
   ]
  },
  {
   "cell_type": "code",
   "execution_count": 19,
   "metadata": {},
   "outputs": [
    {
     "name": "stdout",
     "output_type": "stream",
     "text": [
      "12345_\n",
      "['12', '34', '5_']\n"
     ]
    }
   ],
   "source": [
    "#parašyti funkciją:\n",
    "#teskto skaidymas į sąrašą po porą simbolių.\n",
    "# jei tekstas yra iš nelyginio simbolių kiekio - trūkstamas simbolis keičiamas _\n",
    "# pvz 'abc' => ['ab', 'c_']\n",
    "# 'abcdef' => ['ab', 'cd', 'ef']\n",
    "\n",
    "tekstas = input('Įveskite tekstą: ')\n",
    "\n",
    "sarasas = []\n",
    "\n",
    "def teksto_skaidymas():\n",
    "    global tekstas\n",
    "    if len(tekstas) % 2 == 0:\n",
    "        return tekstas\n",
    "    else:\n",
    "        tekstas += '_'\n",
    "        return tekstas\n",
    "\n",
    "rezultatas = teksto_skaidymas()\n",
    "print(rezultatas)\n",
    "\n",
    "\n",
    "for x in range(0, len(tekstas), 2):\n",
    "    raidziu_poros = tekstas[x:x+2]\n",
    "    sarasas.append(raidziu_poros)\n",
    "    \n",
    "print(sarasas)\n",
    "    \n"
   ]
  },
  {
   "cell_type": "code",
   "execution_count": 45,
   "metadata": {},
   "outputs": [
    {
     "name": "stdout",
     "output_type": "stream",
     "text": [
      "range(0, 10000)\n"
     ]
    }
   ],
   "source": [
    "# Parašyti funkciją, kuri atrinktų \"kubinius\" skaičius iš intervalo [0-10000]\n",
    "#  \"kubinis\" skaičius - tai kurio skaitmenų kubų suma yra lygi pačiam skaičiui:\n",
    "#  pvz 153 = 1^3+5^3+3^3 => 153 yra \"kubinis\"\n",
    "# \n",
    "#  visus rastus skaičius pateikite kaip sąrašą (list)\n",
    "\n",
    "def funkcija1(skaicius):\n",
    "    print(skaicius)\n",
    "\n",
    "\n",
    "\n",
    "skaiciai = range(0,10000)\n",
    "\n",
    "funkcija1(skaiciai)\n",
    "    \n"
   ]
  },
  {
   "cell_type": "code",
   "execution_count": 44,
   "metadata": {},
   "outputs": [
    {
     "name": "stdout",
     "output_type": "stream",
     "text": [
      "8\n"
     ]
    }
   ],
   "source": [
    "def funkcija1(skaicius):\n",
    "    skaicius = int(skaicius) + 2 \n",
    "    print(skaicius)\n",
    "    \n",
    "    \n",
    "c = 6\n",
    "funkcija1(c)\n"
   ]
  },
  {
   "cell_type": "code",
   "execution_count": 48,
   "metadata": {},
   "outputs": [
    {
     "name": "stdout",
     "output_type": "stream",
     "text": [
      "Defaulting to user installation because normal site-packages is not writeable\n",
      "Requirement already satisfied: numpy in c:\\users\\user\\appdata\\local\\packages\\pythonsoftwarefoundation.python.3.12_qbz5n2kfra8p0\\localcache\\local-packages\\python312\\site-packages (2.0.0)\n",
      "Note: you may need to restart the kernel to use updated packages.\n"
     ]
    },
    {
     "name": "stderr",
     "output_type": "stream",
     "text": [
      "\n",
      "[notice] A new release of pip is available: 24.0 -> 24.1.2\n",
      "[notice] To update, run: C:\\Users\\User\\AppData\\Local\\Microsoft\\WindowsApps\\PythonSoftwareFoundation.Python.3.12_qbz5n2kfra8p0\\python.exe -m pip install --upgrade pip\n"
     ]
    }
   ],
   "source": [
    "pip install numpy"
   ]
  },
  {
   "cell_type": "code",
   "execution_count": null,
   "metadata": {},
   "outputs": [],
   "source": [
    "# duota skaičių eilutė.\n",
    "# rasti joje visus skaičius, kurie yra lygūs savo \n",
    "# skaitmenų, pakeltų laipsniu 4, arba 5, sumai.\n",
    "# netirkinti skaičių, didesnių nei 10 000.\n",
    "import numpy as np\n",
    "r = np.random.randint(0,1000,100).tolist()\n",
    "r = ''.join([str(i) for i in r])\n",
    "print(r)"
   ]
  },
  {
   "cell_type": "code",
   "execution_count": 49,
   "metadata": {},
   "outputs": [
    {
     "name": "stdout",
     "output_type": "stream",
     "text": [
      "[0, 1, 153, 370, 371, 407]\n"
     ]
    }
   ],
   "source": [
    "def find_cubic_numbers(range_end=10000):\n",
    "    # Sukuriame tuščią sąrašą, kuriame saugosime kubinius skaičius\n",
    "    cubic_numbers = []\n",
    "    \n",
    "    # Pereiname per visus skaičius nuo 0 iki range_end (10000)\n",
    "    for num in range(range_end + 1):\n",
    "        # Paverčiame skaičių į string'ą, kad galėtume gauti atskirus skaitmenis\n",
    "        digits = [int(digit) for digit in str(num)]\n",
    "        \n",
    "        # Patikriname, ar skaitmenų kubų suma lygi pačiam skaičiui\n",
    "        if num == sum(digit ** 3 for digit in digits):\n",
    "            # Jei taip, pridedame šį skaičių į sąrašą\n",
    "            cubic_numbers.append(num)\n",
    "    \n",
    "    # Gražiname sąrašą su kubiniais skaičiais\n",
    "    return cubic_numbers\n",
    "\n",
    "# Iškviečiame funkciją ir išsaugome rezultatus į kintamąjį\n",
    "cubic_numbers = find_cubic_numbers()\n",
    "\n",
    "# Parodome rastus kubinius skaičius\n",
    "print(cubic_numbers)"
   ]
  },
  {
   "cell_type": "code",
   "execution_count": 68,
   "metadata": {},
   "outputs": [
    {
     "name": "stdout",
     "output_type": "stream",
     "text": [
      "[0, 1, 153, 370, 371, 407]\n"
     ]
    }
   ],
   "source": [
    "def find_cubic_numbers():  # Nauja funkcija \n",
    "    cubic_numbers = []  # Sukuriame tuščią sąrašą, kuriame saugosime kubinius skaičius\n",
    "    \n",
    "    for num in range(0, 10001):  # Pereiname per visus skaičius nuo 0 iki 10000\n",
    "        digits = [int(digit) for digit in str(num)]  # Paverčiame skaičių į string'ą, kad galėtume gauti atskirus skaitmenis\n",
    "        \n",
    "        if num == sum(digit ** 3 for digit in digits):  # Patikriname, ar skaitmenų kubų suma lygi pačiam skaičiui\n",
    "            cubic_numbers.append(num)  # Jei taip, pridedame šį skaičių į sąrašą\n",
    "        \n",
    "    return cubic_numbers  # Gražiname sąrašą su kubiniais skaičiais\n",
    "\n",
    "cubic_numbers = find_cubic_numbers()  # Iškviečiame funkciją ir išsaugome rezultatus į kintamąjį\n",
    "\n",
    "print(cubic_numbers)  # Parodome rastus kubinius skaičius\n"
   ]
  },
  {
   "cell_type": "code",
   "execution_count": null,
   "metadata": {},
   "outputs": [],
   "source": [
    "# Parašyti funkciją, kuri atrinktų \"kubinius\" skaičius iš intervalo [0-10000] \"kubinis\" skaičius - \n",
    "# tai kurio skaitmenų kubų suma yra lygi pačiam skaičiui: pvz 153 = 1^3+5^3+3^3 => 153 yra \"kubinis\" \n",
    "# visus rastus skaičius pateikite kaip sąrašą (list)\n",
    "\n"
   ]
  },
  {
   "cell_type": "code",
   "execution_count": null,
   "metadata": {},
   "outputs": [],
   "source": [
    "class Klasės_pavadinimas():\n",
    "def __init__(self, args)\n",
    "self.X = None #klasės vidinis kintamasis (atributas)\n",
    "def metodo_pavadnimas(self, m_args):\n",
    "self.X = 1 #atributų pasiekimas funkcijoje\n",
    "def kitas_metodas(self, km_args):\n",
    "self.metodo_pavadinimas(self, km_args): #metodo\n",
    "↪ pasiekimas kitame metode\n",
    "\n",
    "#self - sudedamoji class dalis. "
   ]
  },
  {
   "cell_type": "code",
   "execution_count": 69,
   "metadata": {},
   "outputs": [
    {
     "ename": "SyntaxError",
     "evalue": "invalid non-printable character U+0002 (4146861823.py, line 3)",
     "output_type": "error",
     "traceback": [
      "\u001b[1;36m  Cell \u001b[1;32mIn[69], line 3\u001b[1;36m\u001b[0m\n\u001b[1;33m    __repr__() kontroliuoja, kaip objektas atrodys print() iš\u0002vestyje.\u001b[0m\n\u001b[1;37m                                                             ^\u001b[0m\n\u001b[1;31mSyntaxError\u001b[0m\u001b[1;31m:\u001b[0m invalid non-printable character U+0002\n"
     ]
    }
   ],
   "source": [
    "\n",
    "\n",
    "__str__() #Šis metodas aprašo, kaip atrodys klasės objektas konverta\u0002vus į string su str() funkcija.\n",
    "__repr__()\n",
    "__repr__() kontroliuoja, kaip objektas atrodys print() iš\u0002vestyje.\n"
   ]
  },
  {
   "cell_type": "code",
   "execution_count": 76,
   "metadata": {},
   "outputs": [
    {
     "name": "stdout",
     "output_type": "stream",
     "text": [
      "Simple Obj klases atstovas\n",
      "[Labai kietas simpleobj atstovas]\n"
     ]
    }
   ],
   "source": [
    "class SimpleObj():\n",
    "    def __str__(self):    #Šis metodas aprašo, kaip atrodys klasės objektas konverta\u0002vus į string su str() funkcija.\n",
    "        return \"Simple Obj klases atstovas\"\n",
    "    def __repr__(self):    #Ši funkcija naudojama tada kai musu objektas yra kito objekto sarase. \n",
    "        return \"Labai kietas simpleobj atstovas\"\n",
    "o = SimpleObj()\n",
    "\n",
    "print(o)\n",
    "print([o])"
   ]
  },
  {
   "cell_type": "code",
   "execution_count": 78,
   "metadata": {},
   "outputs": [
    {
     "name": "stdout",
     "output_type": "stream",
     "text": [
      "Jonas\n"
     ]
    }
   ],
   "source": [
    "#Klasiu paveldejimas \n",
    "\n",
    "class Object():\n",
    "    def __init__(self, name):\n",
    "        self.Name = name\n",
    "        pass\n",
    "    def getName(self):\n",
    "        return self.Name\n",
    "    \n",
    "\n",
    "o = Object(\"Jonas\")\n",
    "print(o.getName())"
   ]
  },
  {
   "cell_type": "code",
   "execution_count": 87,
   "metadata": {},
   "outputs": [
    {
     "name": "stdout",
     "output_type": "stream",
     "text": [
      "Petras\n"
     ]
    }
   ],
   "source": [
    "#Klases paveldejimas 2\n",
    "\n",
    "class BetterObject(Object):\n",
    "    def getNameUpper(self):\n",
    "        return self.Name.upper()\n",
    "    def getNameLength(self):\n",
    "        return len(self.Name)\n",
    "\n",
    "g = BetterObject(\"Petras\")\n",
    "print(g.getName())"
   ]
  },
  {
   "cell_type": "code",
   "execution_count": 90,
   "metadata": {},
   "outputs": [
    {
     "ename": "AttributeError",
     "evalue": "'Object' object has no attribute 'getNameUpper'",
     "output_type": "error",
     "traceback": [
      "\u001b[1;31m---------------------------------------------------------------------------\u001b[0m",
      "\u001b[1;31mAttributeError\u001b[0m                            Traceback (most recent call last)",
      "Cell \u001b[1;32mIn[90], line 2\u001b[0m\n\u001b[0;32m      1\u001b[0m o\u001b[38;5;241m.\u001b[39mgetName()\n\u001b[1;32m----> 2\u001b[0m \u001b[43mo\u001b[49m\u001b[38;5;241;43m.\u001b[39;49m\u001b[43mgetNameUpper\u001b[49m()\n",
      "\u001b[1;31mAttributeError\u001b[0m: 'Object' object has no attribute 'getNameUpper'"
     ]
    }
   ],
   "source": [
    "o.getName()\n",
    "o.getNameUpper()"
   ]
  },
  {
   "cell_type": "code",
   "execution_count": 3,
   "metadata": {},
   "outputs": [
    {
     "name": "stdout",
     "output_type": "stream",
     "text": [
      "Taip\n",
      "29\n"
     ]
    }
   ],
   "source": [
    "#Paveldejimo atvejis kai abi klases turi savo konstruktorius. \n",
    "\n",
    "class Asmuo():\n",
    "    def __init__(self, name, b_year) -> None:\n",
    "        self.Name = name\n",
    "        self.BYear = b_year\n",
    "    def getAge(self):\n",
    "        return 2024-self.BYear\n",
    "    \n",
    "    \n",
    "\n",
    "class Studentas(Asmuo):\n",
    "    def __init__(self,name, b_year, studentas):\n",
    "        super().__init__(name, b_year)\n",
    "        self.ArStudentas = studentas \n",
    "        \n",
    "    def getStud(self):\n",
    "        return self.ArStudentas\n",
    "    \n",
    "\n",
    "st = Studentas('Petras', 1995, \"Taip\")\n",
    "print(st.getStud())\n",
    "\n",
    "print(st.getAge())\n",
    "\n",
    "\n"
   ]
  },
  {
   "cell_type": "code",
   "execution_count": 4,
   "metadata": {},
   "outputs": [
    {
     "name": "stdout",
     "output_type": "stream",
     "text": [
      "Labas, klase O\n",
      "42\n",
      "[1, 2, 3]\n"
     ]
    }
   ],
   "source": [
    "#3 klases, turi ta pati metoda, grazina skirtingus rezultatus \n",
    "#Polimorfiskumas \n",
    "\n",
    "\n",
    "class O():\n",
    "    def hello(self):\n",
    "        return \"Labas, klase O\"\n",
    "    \n",
    "class P():\n",
    "    def hello(self):\n",
    "        return 42\n",
    "    \n",
    "class F():\n",
    "    def hello(self):\n",
    "        return [1,2,3]\n",
    "\n",
    "s = [O(), P(), F()]\n",
    "\n",
    "for obj in s: \n",
    "    print(obj.hello())\n",
    "\n"
   ]
  },
  {
   "cell_type": "code",
   "execution_count": null,
   "metadata": {},
   "outputs": [],
   "source": [
    "#privatus ir viesi atributai ir metodai "
   ]
  },
  {
   "cell_type": "code",
   "execution_count": 8,
   "metadata": {},
   "outputs": [
    {
     "name": "stdout",
     "output_type": "stream",
     "text": [
      "42\n",
      "<bound method Obj.getA of <__main__.Obj object at 0x000001CE52A1B620>>\n",
      "43\n"
     ]
    }
   ],
   "source": [
    "class Obj():\n",
    "    def __init__(self) -> None:\n",
    "        self.A = 42\n",
    "        self.__A = 42    #du apatiniai bruksneliai reikia lokalus klases viduje (gali pasiekti kodas tik pacios klases viduje)\n",
    "    def getA(self):\n",
    "        return self.A\n",
    "    def __getA(self):\n",
    "        return self.A\n",
    "    #setters, getters:\n",
    "    def setA(self, a):\n",
    "        self.__A = a\n",
    "    def getLocalA(self):\n",
    "        return self.__A\n",
    "\n",
    "\n",
    "o = Obj()\n",
    "print(o.A)   \n",
    "print(o.getA)\n",
    "\n",
    "o.setA(43)\n",
    "print(o.getLocalA())\n"
   ]
  },
  {
   "cell_type": "code",
   "execution_count": 9,
   "metadata": {},
   "outputs": [
    {
     "ename": "SyntaxError",
     "evalue": "expected ':' (3495276543.py, line 1)",
     "output_type": "error",
     "traceback": [
      "\u001b[1;36m  Cell \u001b[1;32mIn[9], line 1\u001b[1;36m\u001b[0m\n\u001b[1;33m    def r(x) - > int:\u001b[0m\n\u001b[1;37m             ^\u001b[0m\n\u001b[1;31mSyntaxError\u001b[0m\u001b[1;31m:\u001b[0m expected ':'\n"
     ]
    }
   ],
   "source": [
    "def r(x) - > int:\n",
    "    return 42\n",
    "\n",
    "a = r(1)\n"
   ]
  }
 ],
 "metadata": {
  "kernelspec": {
   "display_name": "Python 3",
   "language": "python",
   "name": "python3"
  },
  "language_info": {
   "codemirror_mode": {
    "name": "ipython",
    "version": 3
   },
   "file_extension": ".py",
   "mimetype": "text/x-python",
   "name": "python",
   "nbconvert_exporter": "python",
   "pygments_lexer": "ipython3",
   "version": "3.12.4"
  }
 },
 "nbformat": 4,
 "nbformat_minor": 2
}
