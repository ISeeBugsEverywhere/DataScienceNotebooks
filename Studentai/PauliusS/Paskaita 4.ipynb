{
 "cells": [
  {
   "cell_type": "code",
   "execution_count": 7,
   "metadata": {},
   "outputs": [
    {
     "data": {
      "text/plain": [
       "39204.0"
      ]
     },
     "execution_count": 7,
     "metadata": {},
     "output_type": "execute_result"
    }
   ],
   "source": [
    "# Paskaičiuoti pelną pardavus visas prekes. Informacija apie kainą\n",
    "# ir kiekius yra pateikiama kaip žodynai (dictionary):\n",
    "# d1 = {\"cost_price\": 32.67,\n",
    "# \"sell_price\": 45.00,\n",
    "# \"inventory\": 1200}\n",
    "# d2 = {\"cost_price\": 225.89,\n",
    "# \"sell_price\": 550.00,\n",
    "# \"inventory\": 100}\n",
    "# d3 = {\"cost_price\": 2.77,\n",
    "# \"sell_price\": 7.95,\n",
    "# \"inventory\": 8500}\n",
    "\n",
    "\n",
    "\n",
    "d1 = {\"cost_price\": 32.67,\n",
    "\"sell_price\": 45.00,\n",
    "\"inventory\": 1200}\n",
    "d2 = {\"cost_price\": 225.89,\n",
    "\"sell_price\": 550.00,\n",
    "\"inventory\": 100}\n",
    "d3 = {\"cost_price\": 2.77,\n",
    "\"sell_price\": 7.95,\n",
    "\"inventory\": 8500}\n",
    "\n",
    "d1[\"cost_price\"] * d1[\"inventory\"]\n",
    "\n",
    "\n",
    "\n",
    "\n"
   ]
  },
  {
   "cell_type": "code",
   "execution_count": 31,
   "metadata": {},
   "outputs": [
    {
     "name": "stdout",
     "output_type": "stream",
     "text": [
      "0 A\n",
      "1 š\n",
      "2  \n",
      "3 r\n",
      "4 Y\n",
      "5 t\n",
      "6 A\n",
      "7 i\n",
      "8 S\n",
      "9  \n",
      "10 M\n",
      "11 ė\n",
      "12 G\n",
      "13 s\n",
      "14 T\n",
      "15 u\n",
      "16  \n",
      "17 k\n",
      "18 A\n",
      "19 v\n",
      "20 Ą\n",
      "21  \n",
      "22 S\n",
      "23 u\n",
      "24  \n",
      "25 s\n",
      "26 U\n",
      "27 m\n",
      "28 U\n",
      "29 š\n",
      "30 T\n",
      "31 i\n",
      "32 N\n",
      "33 i\n",
      "34 A\n",
      "35 i\n",
      "36 S\n",
      "37  \n",
      "38 I\n",
      "39 r\n",
      "40  \n",
      "41 a\n",
      "42 R\n",
      "43 b\n",
      "44 A\n",
      "45 t\n",
      "46 Ą\n"
     ]
    }
   ],
   "source": [
    "# t = \"Aš rytais mėgstu kavą su sumuštiniais ir arbatą\"\n",
    "# • Išveskite po vieną simbolį iš teksto. Šalia nurodykite ir\n",
    "# simbolio poziciją (indeksą) tekste.\n",
    "# • Išvesdami simbolį, spausdinkite jį viršutiniame registre, jei jis\n",
    "# yra lyginėje pozicijoje. Kitu atveju - žemutiniame registre.\n",
    "# • Išveskite po vieną žodį.    \n",
    "\n",
    "tekstas = \"Aš rytais mėgstu kavą su sumuštiniais ir arbatą\"\n",
    "for idx, letter in enumerate(tekstas):\n",
    "    if idx % 2 == 0:\n",
    "        print(idx, letter.upper())\n",
    "    else: \n",
    "        print(idx, letter.lower())\n",
    "\n",
    "\n"
   ]
  },
  {
   "cell_type": "code",
   "execution_count": null,
   "metadata": {},
   "outputs": [],
   "source": [
    "# t = \"Aš rytais mėgstu kavą su sumuštiniais ir arbatą\"\n",
    "# • Išveskite po vieną simbolį iš teksto. Šalia nurodykite ir\n",
    "# simbolio poziciją (indeksą) tekste.\n",
    "# • Išvesdami simbolį, spausdinkite jį viršutiniame registre, jei jis\n",
    "# yra lyginėje pozicijoje. Kitu atveju - žemutiniame registre.\n",
    "# • Išveskite po vieną žodį.    \n",
    "\n",
    "tekstas = \"Aš rytais mėgstu kavą su sumuštiniais ir arbatą\"\n",
    "for idx, letter in enumerate(tekstas):\n",
    "    if idx % 2 == 0:\n",
    "        print(idx, letter.upper())\n",
    "    else: \n",
    "        print(idx, letter.lower())"
   ]
  },
  {
   "cell_type": "code",
   "execution_count": 33,
   "metadata": {},
   "outputs": [
    {
     "name": "stdout",
     "output_type": "stream",
     "text": [
      "XXXXX\n",
      "XXXXX\n",
      "XXXXX\n",
      "XXXXX\n",
      "XXXXX\n"
     ]
    }
   ],
   "source": [
    "# • Paprašykite vartotojo įvesti simbolį bei skaičių. Išveskite\n",
    "# kvadratą, sudarytą iš įvesto simbolio ir kurio kraštinė būtų\n",
    "# lygi įvestam skaičiui. Pvz.: įvesta '@' ir 5. Rezultatas:\n",
    "# @@@@@\n",
    "# @@@@@\n",
    "# @@@@@\n",
    "# @@@@@\n",
    "# @@@@@\n",
    "\n",
    "\n",
    "Skaicius = int(input('Įveskite skaičių: '))\n",
    "Simbolis = input('Įveskite simbolį: ')\n",
    "for a in range(Skaicius):\n",
    "    print(Simbolis * Skaicius)\n"
   ]
  },
  {
   "cell_type": "code",
   "execution_count": 40,
   "metadata": {},
   "outputs": [
    {
     "name": "stdout",
     "output_type": "stream",
     "text": [
      "Vilnius\n",
      "Rokiškis\n"
     ]
    }
   ],
   "source": [
    "# Duotas sąrašas:\n",
    "# miestai = ['Vilnius', 'Kaunas', 'Alytus', 'Rokiškis',\n",
    "# 'Ūla', 'Mažeikiai', 'Akmena']\n",
    "# Spausdinkite tik tuos miestus, kurių pavadinimai ilgesni nei 6\n",
    "# simboliai.\n",
    "\n",
    "miestai = ['Vilnius', 'Kaunas', 'Alytus', 'Rokiškis',]\n",
    "for ilgis in miestai: \n",
    "    if len(ilgis) > 6:\n",
    "        print(ilgis)\n",
    "    \n",
    "    \n",
    "\n",
    "\n",
    "\n"
   ]
  },
  {
   "cell_type": "code",
   "execution_count": 48,
   "metadata": {},
   "outputs": [
    {
     "name": "stdout",
     "output_type": "stream",
     "text": [
      "[1, 6, 15, 28, 45, 66, 91, 120, 153, 190]\n"
     ]
    }
   ],
   "source": [
    "a = [1, 2, 3, 4, 5, 6, 7, 8, 9, 10]\n",
    "b = [1, 3, 5, 7, 9, 11, 13, 15, 17, 19]\n",
    "\n",
    "naujas_sarasas = []\n",
    "\n",
    "for a,b in zip(a,b):\n",
    "    naujas_sarasas.append(a * b)\n",
    "print(naujas_sarasas)\n",
    "\n"
   ]
  },
  {
   "cell_type": "code",
   "execution_count": 61,
   "metadata": {},
   "outputs": [
    {
     "name": "stdout",
     "output_type": "stream",
     "text": [
      "[10, 20, 30, 40, 50, 60, 70, 80, 90, 100]\n",
      "[2, 2, 12, 28, 55, 78, 105, 136, 171, 210]\n"
     ]
    }
   ],
   "source": [
    "x = [1,2,3,4,5,6,7,8,9,10] \n",
    "y = [2,1,4,7,11,13,15,17,19,21]\n",
    "\n",
    "ivestas = int(input('Iveskite skaiciu'))\n",
    "\n",
    "padaugintas_x = []\n",
    "padaugintas_y = []\n",
    "for xdaugiklis in x:\n",
    "    padaugintas_x.append(ivestas*xdaugiklis)\n",
    "print(padaugintas_x)\n",
    "\n",
    "sudaugintasYX = []\n",
    "for Xdaug, Ydaug in zip(x,y):\n",
    "    sudaugintasYX.append(Xdaug * Ydaug)\n",
    "print(sudaugintasYX)\n",
    "    \n",
    "    \n",
    "\n"
   ]
  },
  {
   "cell_type": "code",
   "execution_count": 77,
   "metadata": {},
   "outputs": [
    {
     "name": "stdout",
     "output_type": "stream",
     "text": [
      "[253000, 195405, 129800, 183000, 127896, 194000, 102122, 227937, 158486, 150869, 74455, 194000, 276260, 290000, 400000]\n",
      "['2005-12', '2006', '2019-11', '2015-06', '2018-08', '1987-07', '2013-03', '2017-11', '2017-07', '2019-01', '2018-03', '2016-11', '2005-06', '2004-11', '2004']\n",
      "[19500, 2700, 13490, 14650, 38000, 1200, 8000, 11990, 16190, 16490, 28900, 42500, 2000, 3390, 3750]\n"
     ]
    }
   ],
   "source": [
    "#a) Suraskite vidutinę kainą, amžių ir ridą šių automobilių.\n",
    "\n",
    "\n",
    "m = [('BMW', 'M5', '253 000 km', '2005-12', '19 500'), ('Mitsubishi', 'Outlander', '195 405 km', '2006', '2 700'), ('Seat', 'Arona', '129 800 km', '2019-11', '13 490'), ('Skoda', 'Octavia Scout', '183 000 km', '2015-06', '14 650'), ('Volvo', 'XC90', '127 896 km', '2018-08', '38 000'), ('Audi', '80', '194 000 km', '1987-07', '1 200'), ('Dacia', 'Lodgy', '102 122 km', '2013-03', '8 000'), ('Skoda', 'Octavia', '227 937 km', '2017-11', '11 990'), ('BMW', '320', '158 486 km', '2017-07', '16 190'), ('Volkswagen', 'Passat', '150 869 km', '2019-01', '16 490'), ('BMW', '520', '74 455 km', '2018-03', '28 900'), ('Mercedes-Benz', 'GLE Coupe 350', '194 000 km', '2016-11', '42 500'), ('Ford', 'C-MAX', '276 260 km', '2005-06', '2 000'), ('BMW', 'X3', '290 000 km', '2004-11', '3 390'), ('BMW', '530', '400 000 km', '2004', '3 750')]\n",
    "\n",
    "ridos = []\n",
    "metai = []\n",
    "kaina = []\n",
    "\n",
    "for automobilis in m:\n",
    "    rida = (automobilis[2].replace(' km','')).replace(' ','')\n",
    "    ridos.append(int(rida))\n",
    "    \n",
    "    amzius = (automobilis[3])\n",
    "    metai.append(amzius)\n",
    "    \n",
    "    eurai = (automobilis[4]).replace(' ','')\n",
    "    kaina.append(int(eurai))\n",
    "\n",
    "print(ridos)\n",
    "print(metai)\n",
    "print(kaina)\n",
    "\n",
    "\n",
    "\n"
   ]
  }
 ],
 "metadata": {
  "kernelspec": {
   "display_name": "Python 3",
   "language": "python",
   "name": "python3"
  },
  "language_info": {
   "codemirror_mode": {
    "name": "ipython",
    "version": 3
   },
   "file_extension": ".py",
   "mimetype": "text/x-python",
   "name": "python",
   "nbconvert_exporter": "python",
   "pygments_lexer": "ipython3",
   "version": "3.12.4"
  }
 },
 "nbformat": 4,
 "nbformat_minor": 2
}
