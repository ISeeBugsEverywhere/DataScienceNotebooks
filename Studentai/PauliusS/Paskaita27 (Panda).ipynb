{
 "cells": [
  {
   "cell_type": "code",
   "execution_count": null,
   "metadata": {},
   "outputs": [],
   "source": [
    "#panda instaliavimas \n",
    "#Pandas - skirta dirbti su nedideliais duomenu rinkiniais"
   ]
  },
  {
   "cell_type": "code",
   "execution_count": 6,
   "metadata": {},
   "outputs": [],
   "source": [
    "import pandas as pd \n",
    "import numpy as np\n",
    "import matplotlib.pyplot as plt \n",
    "# import mytsql.connector as cnt"
   ]
  },
  {
   "cell_type": "code",
   "execution_count": null,
   "metadata": {},
   "outputs": [],
   "source": [
    "# Pandas dataframe kurimas\n",
    "\n",
    "df = pd.DataFrame() # tuščias DF\n",
    "vals = [1,2,3,4,5]\n",
    "df['a'] = vals # naujo stulpelio ir jo verčių pridėjimas prie DF\n",
    "# galima nurodyti ir kaip žodyną inicializacijos metu:\n",
    "df = pd.DataFrame({'a':vals})\n",
    "#Šiuo būdu galima nurodyti kelių stulpelių pavadinimus ir vertes\n",
    "#Žodyno raktai bus stulpelių pavadinimai\n",
    "\n",
    "#Pandas dataframe nuskaitymas\n",
    "\n",
    "import pandas as pd\n",
    "dus = 'DUS_2018.csv'\n",
    "pdframe = pd.read_csv(dus)"
   ]
  },
  {
   "cell_type": "code",
   "execution_count": 9,
   "metadata": {},
   "outputs": [
    {
     "name": "stdout",
     "output_type": "stream",
     "text": [
      "Empty DataFrame\n",
      "Columns: []\n",
      "Index: []\n"
     ]
    }
   ],
   "source": [
    "df = pd.DataFrame()  #sukuriame tuscia dataframe \n",
    "print(df)"
   ]
  },
  {
   "cell_type": "code",
   "execution_count": 14,
   "metadata": {},
   "outputs": [
    {
     "name": "stdout",
     "output_type": "stream",
     "text": [
      "   A  B\n",
      "0  2  6\n",
      "1  2  9\n",
      "2  5  2\n",
      "3  9  7\n",
      "4  1  2\n",
      "   A  B\n",
      "0  2  6\n",
      "1  2  8\n",
      "2  5  3\n",
      "3  9  5\n",
      "4  1  2\n"
     ]
    }
   ],
   "source": [
    "duomenys = np.random.randint(1,10,5)  #random skaiciai nuo 1 iki 10\n",
    "\n",
    "#naujo stulpelio ir duomenu pridejimas \n",
    "df['A'] = duomenys                   # suteikiame pavadinima stulpeliui ir isidedame duomenis \n",
    "print(df)\n",
    "\n",
    "duomenysB = np.random.randint(1,10,5)  #random skaiciai nuo 1 iki 10\n",
    "\n",
    "df['B'] = duomenysB                   # pridedame nauja stulpeli duomenu\n",
    "print(df)                             # ! stulpelyje turi buti tiek pat duomenu kaip pirmame.\n"
   ]
  },
  {
   "cell_type": "code",
   "execution_count": 15,
   "metadata": {},
   "outputs": [
    {
     "name": "stdout",
     "output_type": "stream",
     "text": [
      "<class 'pandas.core.frame.DataFrame'>\n",
      "RangeIndex: 5 entries, 0 to 4\n",
      "Data columns (total 2 columns):\n",
      " #   Column  Non-Null Count  Dtype\n",
      "---  ------  --------------  -----\n",
      " 0   A       5 non-null      int32\n",
      " 1   B       5 non-null      int32\n",
      "dtypes: int32(2)\n",
      "memory usage: 172.0 bytes\n"
     ]
    }
   ],
   "source": [
    "# duomenu apzvalga \n",
    "\n",
    "df.info()                       # apraso dataframe info"
   ]
  },
  {
   "cell_type": "code",
   "execution_count": 18,
   "metadata": {},
   "outputs": [
    {
     "data": {
      "text/html": [
       "<div>\n",
       "<style scoped>\n",
       "    .dataframe tbody tr th:only-of-type {\n",
       "        vertical-align: middle;\n",
       "    }\n",
       "\n",
       "    .dataframe tbody tr th {\n",
       "        vertical-align: top;\n",
       "    }\n",
       "\n",
       "    .dataframe thead th {\n",
       "        text-align: right;\n",
       "    }\n",
       "</style>\n",
       "<table border=\"1\" class=\"dataframe\">\n",
       "  <thead>\n",
       "    <tr style=\"text-align: right;\">\n",
       "      <th></th>\n",
       "      <th>A</th>\n",
       "      <th>B</th>\n",
       "    </tr>\n",
       "  </thead>\n",
       "  <tbody>\n",
       "    <tr>\n",
       "      <th>0</th>\n",
       "      <td>2</td>\n",
       "      <td>6</td>\n",
       "    </tr>\n",
       "    <tr>\n",
       "      <th>1</th>\n",
       "      <td>2</td>\n",
       "      <td>8</td>\n",
       "    </tr>\n",
       "  </tbody>\n",
       "</table>\n",
       "</div>"
      ],
      "text/plain": [
       "   A  B\n",
       "0  2  6\n",
       "1  2  8"
      ]
     },
     "execution_count": 18,
     "metadata": {},
     "output_type": "execute_result"
    }
   ],
   "source": [
    "# apzvalga \n",
    "df.head()                   #grazina grazesne lentele su 5 vertemis \n",
    "df.head(2)                  #grazina is dvieju eiluciu "
   ]
  },
  {
   "cell_type": "code",
   "execution_count": 19,
   "metadata": {},
   "outputs": [
    {
     "data": {
      "text/html": [
       "<div>\n",
       "<style scoped>\n",
       "    .dataframe tbody tr th:only-of-type {\n",
       "        vertical-align: middle;\n",
       "    }\n",
       "\n",
       "    .dataframe tbody tr th {\n",
       "        vertical-align: top;\n",
       "    }\n",
       "\n",
       "    .dataframe thead th {\n",
       "        text-align: right;\n",
       "    }\n",
       "</style>\n",
       "<table border=\"1\" class=\"dataframe\">\n",
       "  <thead>\n",
       "    <tr style=\"text-align: right;\">\n",
       "      <th></th>\n",
       "      <th>A</th>\n",
       "      <th>B</th>\n",
       "    </tr>\n",
       "  </thead>\n",
       "  <tbody>\n",
       "    <tr>\n",
       "      <th>3</th>\n",
       "      <td>9</td>\n",
       "      <td>5</td>\n",
       "    </tr>\n",
       "    <tr>\n",
       "      <th>4</th>\n",
       "      <td>1</td>\n",
       "      <td>2</td>\n",
       "    </tr>\n",
       "  </tbody>\n",
       "</table>\n",
       "</div>"
      ],
      "text/plain": [
       "   A  B\n",
       "3  9  5\n",
       "4  1  2"
      ]
     },
     "execution_count": 19,
     "metadata": {},
     "output_type": "execute_result"
    }
   ],
   "source": [
    "# apzvalga \n",
    "df.tail(2)              #grazina vaizda nurodytam eiluciu kiekiui nuo apacios"
   ]
  },
  {
   "cell_type": "code",
   "execution_count": 20,
   "metadata": {},
   "outputs": [
    {
     "name": "stdout",
     "output_type": "stream",
     "text": [
      "Index(['A', 'B'], dtype='object')\n"
     ]
    }
   ],
   "source": [
    "cols = df.columns       #grazina visus stulpelius kaip numpy sarasa \n",
    "print(cols)"
   ]
  },
  {
   "cell_type": "code",
   "execution_count": 21,
   "metadata": {},
   "outputs": [
    {
     "name": "stdout",
     "output_type": "stream",
     "text": [
      "A\n",
      "B\n"
     ]
    }
   ],
   "source": [
    "for i in cols:             #ciklas spausdina per stulpelius\n",
    "    print(i)"
   ]
  },
  {
   "cell_type": "code",
   "execution_count": 22,
   "metadata": {},
   "outputs": [
    {
     "name": "stdout",
     "output_type": "stream",
     "text": [
      "['A', 'B']\n"
     ]
    }
   ],
   "source": [
    "cols = list(df.columns)       # padaro normalu sarasa\n",
    "print(cols)"
   ]
  },
  {
   "cell_type": "code",
   "execution_count": 28,
   "metadata": {},
   "outputs": [
    {
     "data": {
      "text/html": [
       "<div>\n",
       "<style scoped>\n",
       "    .dataframe tbody tr th:only-of-type {\n",
       "        vertical-align: middle;\n",
       "    }\n",
       "\n",
       "    .dataframe tbody tr th {\n",
       "        vertical-align: top;\n",
       "    }\n",
       "\n",
       "    .dataframe thead th {\n",
       "        text-align: right;\n",
       "    }\n",
       "</style>\n",
       "<table border=\"1\" class=\"dataframe\">\n",
       "  <thead>\n",
       "    <tr style=\"text-align: right;\">\n",
       "      <th></th>\n",
       "      <th>svoris</th>\n",
       "      <th>stazas</th>\n",
       "      <th>darbo_laiko_dalis</th>\n",
       "      <th>evrk</th>\n",
       "      <th>im_dydzio_kodas</th>\n",
       "      <th>im_dydis</th>\n",
       "      <th>amzius</th>\n",
       "      <th>atostogu_dienos</th>\n",
       "      <th>sutarties_rusis</th>\n",
       "      <th>virsvalandziu_bdu</th>\n",
       "      <th>...</th>\n",
       "      <th>nuosavybe</th>\n",
       "      <th>bdu_val</th>\n",
       "      <th>nuts</th>\n",
       "      <th>vv_darb_sk</th>\n",
       "      <th>virsvalandziu_sk</th>\n",
       "      <th>premijos</th>\n",
       "      <th>bdu_spalio</th>\n",
       "      <th>priemokos</th>\n",
       "      <th>objectid</th>\n",
       "      <th>issilavinimas</th>\n",
       "    </tr>\n",
       "  </thead>\n",
       "  <tbody>\n",
       "    <tr>\n",
       "      <th>0</th>\n",
       "      <td>35.03</td>\n",
       "      <td>0</td>\n",
       "      <td>0.58</td>\n",
       "      <td>XL</td>\n",
       "      <td>0</td>\n",
       "      <td>1_49</td>\n",
       "      <td>20-29</td>\n",
       "      <td>0</td>\n",
       "      <td>A</td>\n",
       "      <td>0</td>\n",
       "      <td>...</td>\n",
       "      <td>B</td>\n",
       "      <td>6.0</td>\n",
       "      <td>LT</td>\n",
       "      <td>6</td>\n",
       "      <td>0</td>\n",
       "      <td>0</td>\n",
       "      <td>6.0</td>\n",
       "      <td>0</td>\n",
       "      <td>1</td>\n",
       "      <td>G4</td>\n",
       "    </tr>\n",
       "    <tr>\n",
       "      <th>1</th>\n",
       "      <td>2.39</td>\n",
       "      <td>0</td>\n",
       "      <td>0.54</td>\n",
       "      <td>XN</td>\n",
       "      <td>0</td>\n",
       "      <td>1_49</td>\n",
       "      <td>20-29</td>\n",
       "      <td>0</td>\n",
       "      <td>A</td>\n",
       "      <td>0</td>\n",
       "      <td>...</td>\n",
       "      <td>B</td>\n",
       "      <td>6.0</td>\n",
       "      <td>LT</td>\n",
       "      <td>12</td>\n",
       "      <td>0</td>\n",
       "      <td>0</td>\n",
       "      <td>6.0</td>\n",
       "      <td>0</td>\n",
       "      <td>2</td>\n",
       "      <td>G2</td>\n",
       "    </tr>\n",
       "  </tbody>\n",
       "</table>\n",
       "<p>2 rows × 32 columns</p>\n",
       "</div>"
      ],
      "text/plain": [
       "   svoris  stazas  darbo_laiko_dalis evrk  im_dydzio_kodas im_dydis amzius  \\\n",
       "0   35.03       0               0.58   XL                0     1_49  20-29   \n",
       "1    2.39       0               0.54   XN                0     1_49  20-29   \n",
       "\n",
       "   atostogu_dienos sutarties_rusis  virsvalandziu_bdu  ...  nuosavybe bdu_val  \\\n",
       "0                0               A                  0  ...          B     6.0   \n",
       "1                0               A                  0  ...          B     6.0   \n",
       "\n",
       "   nuts  vv_darb_sk  virsvalandziu_sk premijos  bdu_spalio priemokos  \\\n",
       "0    LT           6                 0        0         6.0         0   \n",
       "1    LT          12                 0        0         6.0         0   \n",
       "\n",
       "   objectid issilavinimas  \n",
       "0         1            G4  \n",
       "1         2            G2  \n",
       "\n",
       "[2 rows x 32 columns]"
      ]
     },
     "execution_count": 28,
     "metadata": {},
     "output_type": "execute_result"
    }
   ],
   "source": [
    "# duomenu nuskaitymas \n",
    "df14 = pd.read_csv('../../DATA/DUS2014.csv')           # nuskaitome data is failo \n",
    "df14.head(2)                                           # patikriname ar nuskaiteme \n",
    "                                                       # rodo paskutini output (Visual studio code)"
   ]
  },
  {
   "cell_type": "code",
   "execution_count": 29,
   "metadata": {},
   "outputs": [
    {
     "data": {
      "text/html": [
       "<div>\n",
       "<style scoped>\n",
       "    .dataframe tbody tr th:only-of-type {\n",
       "        vertical-align: middle;\n",
       "    }\n",
       "\n",
       "    .dataframe tbody tr th {\n",
       "        vertical-align: top;\n",
       "    }\n",
       "\n",
       "    .dataframe thead th {\n",
       "        text-align: right;\n",
       "    }\n",
       "</style>\n",
       "<table border=\"1\" class=\"dataframe\">\n",
       "  <thead>\n",
       "    <tr style=\"text-align: right;\">\n",
       "      <th></th>\n",
       "      <th>svoris</th>\n",
       "      <th>stazas</th>\n",
       "      <th>darbo_laiko_dalis</th>\n",
       "      <th>evrk</th>\n",
       "      <th>im_dydzio_kodas</th>\n",
       "      <th>im_dydis</th>\n",
       "      <th>amzius</th>\n",
       "      <th>atostogu_dienos</th>\n",
       "      <th>sutarties_rusis</th>\n",
       "      <th>virsvalandziu_bdu</th>\n",
       "      <th>...</th>\n",
       "      <th>nuosavybe</th>\n",
       "      <th>bdu_val</th>\n",
       "      <th>nuts</th>\n",
       "      <th>vv_darb_sk</th>\n",
       "      <th>virsvalandziu_sk</th>\n",
       "      <th>premijos</th>\n",
       "      <th>bdu_spalio</th>\n",
       "      <th>priemokos</th>\n",
       "      <th>objectid</th>\n",
       "      <th>issilavinimas</th>\n",
       "    </tr>\n",
       "  </thead>\n",
       "  <tbody>\n",
       "    <tr>\n",
       "      <th>0</th>\n",
       "      <td>35.03</td>\n",
       "      <td>0</td>\n",
       "      <td>0.58</td>\n",
       "      <td>XL</td>\n",
       "      <td>0</td>\n",
       "      <td>1_49</td>\n",
       "      <td>20-29</td>\n",
       "      <td>0</td>\n",
       "      <td>A</td>\n",
       "      <td>0</td>\n",
       "      <td>...</td>\n",
       "      <td>B</td>\n",
       "      <td>6.00</td>\n",
       "      <td>LT</td>\n",
       "      <td>6</td>\n",
       "      <td>0</td>\n",
       "      <td>0</td>\n",
       "      <td>6.00</td>\n",
       "      <td>0</td>\n",
       "      <td>1</td>\n",
       "      <td>G4</td>\n",
       "    </tr>\n",
       "    <tr>\n",
       "      <th>1</th>\n",
       "      <td>2.39</td>\n",
       "      <td>0</td>\n",
       "      <td>0.54</td>\n",
       "      <td>XN</td>\n",
       "      <td>0</td>\n",
       "      <td>1_49</td>\n",
       "      <td>20-29</td>\n",
       "      <td>0</td>\n",
       "      <td>A</td>\n",
       "      <td>0</td>\n",
       "      <td>...</td>\n",
       "      <td>B</td>\n",
       "      <td>6.00</td>\n",
       "      <td>LT</td>\n",
       "      <td>12</td>\n",
       "      <td>0</td>\n",
       "      <td>0</td>\n",
       "      <td>6.00</td>\n",
       "      <td>0</td>\n",
       "      <td>2</td>\n",
       "      <td>G2</td>\n",
       "    </tr>\n",
       "    <tr>\n",
       "      <th>2</th>\n",
       "      <td>16.70</td>\n",
       "      <td>0</td>\n",
       "      <td>0.56</td>\n",
       "      <td>XQ</td>\n",
       "      <td>2</td>\n",
       "      <td>GT_250</td>\n",
       "      <td>40-49</td>\n",
       "      <td>0</td>\n",
       "      <td>A</td>\n",
       "      <td>0</td>\n",
       "      <td>...</td>\n",
       "      <td>B</td>\n",
       "      <td>6.00</td>\n",
       "      <td>LT</td>\n",
       "      <td>360</td>\n",
       "      <td>0</td>\n",
       "      <td>0</td>\n",
       "      <td>6.00</td>\n",
       "      <td>0</td>\n",
       "      <td>3</td>\n",
       "      <td>G4</td>\n",
       "    </tr>\n",
       "    <tr>\n",
       "      <th>3</th>\n",
       "      <td>28.24</td>\n",
       "      <td>0</td>\n",
       "      <td>0.58</td>\n",
       "      <td>XE</td>\n",
       "      <td>0</td>\n",
       "      <td>1_49</td>\n",
       "      <td>30-39</td>\n",
       "      <td>0</td>\n",
       "      <td>A</td>\n",
       "      <td>0</td>\n",
       "      <td>...</td>\n",
       "      <td>B</td>\n",
       "      <td>6.00</td>\n",
       "      <td>LT</td>\n",
       "      <td>27</td>\n",
       "      <td>0</td>\n",
       "      <td>0</td>\n",
       "      <td>6.00</td>\n",
       "      <td>0</td>\n",
       "      <td>4</td>\n",
       "      <td>G4</td>\n",
       "    </tr>\n",
       "    <tr>\n",
       "      <th>4</th>\n",
       "      <td>54.82</td>\n",
       "      <td>0</td>\n",
       "      <td>1.09</td>\n",
       "      <td>XI</td>\n",
       "      <td>0</td>\n",
       "      <td>1_49</td>\n",
       "      <td>40-49</td>\n",
       "      <td>0</td>\n",
       "      <td>A</td>\n",
       "      <td>0</td>\n",
       "      <td>...</td>\n",
       "      <td>B</td>\n",
       "      <td>6.00</td>\n",
       "      <td>LT</td>\n",
       "      <td>11</td>\n",
       "      <td>0</td>\n",
       "      <td>0</td>\n",
       "      <td>11.33</td>\n",
       "      <td>0</td>\n",
       "      <td>5</td>\n",
       "      <td>G2</td>\n",
       "    </tr>\n",
       "    <tr>\n",
       "      <th>...</th>\n",
       "      <td>...</td>\n",
       "      <td>...</td>\n",
       "      <td>...</td>\n",
       "      <td>...</td>\n",
       "      <td>...</td>\n",
       "      <td>...</td>\n",
       "      <td>...</td>\n",
       "      <td>...</td>\n",
       "      <td>...</td>\n",
       "      <td>...</td>\n",
       "      <td>...</td>\n",
       "      <td>...</td>\n",
       "      <td>...</td>\n",
       "      <td>...</td>\n",
       "      <td>...</td>\n",
       "      <td>...</td>\n",
       "      <td>...</td>\n",
       "      <td>...</td>\n",
       "      <td>...</td>\n",
       "      <td>...</td>\n",
       "      <td>...</td>\n",
       "    </tr>\n",
       "    <tr>\n",
       "      <th>44947</th>\n",
       "      <td>15.20</td>\n",
       "      <td>16</td>\n",
       "      <td>100.00</td>\n",
       "      <td>XP</td>\n",
       "      <td>0</td>\n",
       "      <td>1_49</td>\n",
       "      <td>50-59</td>\n",
       "      <td>40</td>\n",
       "      <td>A</td>\n",
       "      <td>0</td>\n",
       "      <td>...</td>\n",
       "      <td>A</td>\n",
       "      <td>18.64</td>\n",
       "      <td>LT</td>\n",
       "      <td>8</td>\n",
       "      <td>0</td>\n",
       "      <td>3000</td>\n",
       "      <td>3393.00</td>\n",
       "      <td>0</td>\n",
       "      <td>44948</td>\n",
       "      <td>G4</td>\n",
       "    </tr>\n",
       "    <tr>\n",
       "      <th>44948</th>\n",
       "      <td>17.45</td>\n",
       "      <td>10</td>\n",
       "      <td>100.00</td>\n",
       "      <td>XP</td>\n",
       "      <td>2</td>\n",
       "      <td>GT_250</td>\n",
       "      <td>30-39</td>\n",
       "      <td>40</td>\n",
       "      <td>A</td>\n",
       "      <td>0</td>\n",
       "      <td>...</td>\n",
       "      <td>A</td>\n",
       "      <td>26.37</td>\n",
       "      <td>LT</td>\n",
       "      <td>409</td>\n",
       "      <td>0</td>\n",
       "      <td>1050</td>\n",
       "      <td>3639.67</td>\n",
       "      <td>0</td>\n",
       "      <td>44949</td>\n",
       "      <td>G4</td>\n",
       "    </tr>\n",
       "    <tr>\n",
       "      <th>44949</th>\n",
       "      <td>13.73</td>\n",
       "      <td>7</td>\n",
       "      <td>100.00</td>\n",
       "      <td>XP</td>\n",
       "      <td>2</td>\n",
       "      <td>GT_250</td>\n",
       "      <td>50-59</td>\n",
       "      <td>40</td>\n",
       "      <td>A</td>\n",
       "      <td>0</td>\n",
       "      <td>...</td>\n",
       "      <td>A</td>\n",
       "      <td>22.38</td>\n",
       "      <td>LT</td>\n",
       "      <td>778</td>\n",
       "      <td>0</td>\n",
       "      <td>0</td>\n",
       "      <td>3670.00</td>\n",
       "      <td>0</td>\n",
       "      <td>44950</td>\n",
       "      <td>G4</td>\n",
       "    </tr>\n",
       "    <tr>\n",
       "      <th>44950</th>\n",
       "      <td>98.09</td>\n",
       "      <td>4</td>\n",
       "      <td>100.00</td>\n",
       "      <td>XP</td>\n",
       "      <td>2</td>\n",
       "      <td>GT_250</td>\n",
       "      <td>30-39</td>\n",
       "      <td>40</td>\n",
       "      <td>B</td>\n",
       "      <td>0</td>\n",
       "      <td>...</td>\n",
       "      <td>A</td>\n",
       "      <td>23.03</td>\n",
       "      <td>LT</td>\n",
       "      <td>380</td>\n",
       "      <td>0</td>\n",
       "      <td>0</td>\n",
       "      <td>4212.00</td>\n",
       "      <td>0</td>\n",
       "      <td>44951</td>\n",
       "      <td>G4</td>\n",
       "    </tr>\n",
       "    <tr>\n",
       "      <th>44951</th>\n",
       "      <td>16.66</td>\n",
       "      <td>1</td>\n",
       "      <td>100.00</td>\n",
       "      <td>XP</td>\n",
       "      <td>2</td>\n",
       "      <td>GT_250</td>\n",
       "      <td>40-49</td>\n",
       "      <td>40</td>\n",
       "      <td>B</td>\n",
       "      <td>0</td>\n",
       "      <td>...</td>\n",
       "      <td>A</td>\n",
       "      <td>25.56</td>\n",
       "      <td>LT</td>\n",
       "      <td>1774</td>\n",
       "      <td>0</td>\n",
       "      <td>437</td>\n",
       "      <td>4218.00</td>\n",
       "      <td>0</td>\n",
       "      <td>44952</td>\n",
       "      <td>G4</td>\n",
       "    </tr>\n",
       "  </tbody>\n",
       "</table>\n",
       "<p>44952 rows × 32 columns</p>\n",
       "</div>"
      ],
      "text/plain": [
       "       svoris  stazas  darbo_laiko_dalis evrk  im_dydzio_kodas im_dydis  \\\n",
       "0       35.03       0               0.58   XL                0     1_49   \n",
       "1        2.39       0               0.54   XN                0     1_49   \n",
       "2       16.70       0               0.56   XQ                2   GT_250   \n",
       "3       28.24       0               0.58   XE                0     1_49   \n",
       "4       54.82       0               1.09   XI                0     1_49   \n",
       "...       ...     ...                ...  ...              ...      ...   \n",
       "44947   15.20      16             100.00   XP                0     1_49   \n",
       "44948   17.45      10             100.00   XP                2   GT_250   \n",
       "44949   13.73       7             100.00   XP                2   GT_250   \n",
       "44950   98.09       4             100.00   XP                2   GT_250   \n",
       "44951   16.66       1             100.00   XP                2   GT_250   \n",
       "\n",
       "      amzius  atostogu_dienos sutarties_rusis  virsvalandziu_bdu  ...  \\\n",
       "0      20-29                0               A                  0  ...   \n",
       "1      20-29                0               A                  0  ...   \n",
       "2      40-49                0               A                  0  ...   \n",
       "3      30-39                0               A                  0  ...   \n",
       "4      40-49                0               A                  0  ...   \n",
       "...      ...              ...             ...                ...  ...   \n",
       "44947  50-59               40               A                  0  ...   \n",
       "44948  30-39               40               A                  0  ...   \n",
       "44949  50-59               40               A                  0  ...   \n",
       "44950  30-39               40               B                  0  ...   \n",
       "44951  40-49               40               B                  0  ...   \n",
       "\n",
       "       nuosavybe bdu_val  nuts  vv_darb_sk  virsvalandziu_sk premijos  \\\n",
       "0              B    6.00    LT           6                 0        0   \n",
       "1              B    6.00    LT          12                 0        0   \n",
       "2              B    6.00    LT         360                 0        0   \n",
       "3              B    6.00    LT          27                 0        0   \n",
       "4              B    6.00    LT          11                 0        0   \n",
       "...          ...     ...   ...         ...               ...      ...   \n",
       "44947          A   18.64    LT           8                 0     3000   \n",
       "44948          A   26.37    LT         409                 0     1050   \n",
       "44949          A   22.38    LT         778                 0        0   \n",
       "44950          A   23.03    LT         380                 0        0   \n",
       "44951          A   25.56    LT        1774                 0      437   \n",
       "\n",
       "       bdu_spalio priemokos  objectid issilavinimas  \n",
       "0            6.00         0         1            G4  \n",
       "1            6.00         0         2            G2  \n",
       "2            6.00         0         3            G4  \n",
       "3            6.00         0         4            G4  \n",
       "4           11.33         0         5            G2  \n",
       "...           ...       ...       ...           ...  \n",
       "44947     3393.00         0     44948            G4  \n",
       "44948     3639.67         0     44949            G4  \n",
       "44949     3670.00         0     44950            G4  \n",
       "44950     4212.00         0     44951            G4  \n",
       "44951     4218.00         0     44952            G4  \n",
       "\n",
       "[44952 rows x 32 columns]"
      ]
     },
     "execution_count": 29,
     "metadata": {},
     "output_type": "execute_result"
    }
   ],
   "source": [
    "df14                                                   #automatiskai parodo 5 pirmas ir paskutines "
   ]
  },
  {
   "cell_type": "code",
   "execution_count": 31,
   "metadata": {},
   "outputs": [
    {
     "name": "stdout",
     "output_type": "stream",
     "text": [
      "0        G4\n",
      "1        G2\n",
      "2        G4\n",
      "3        G4\n",
      "4        G2\n",
      "         ..\n",
      "44947    G4\n",
      "44948    G4\n",
      "44949    G4\n",
      "44950    G4\n",
      "44951    G4\n",
      "Name: issilavinimas, Length: 44952, dtype: object\n"
     ]
    }
   ],
   "source": [
    "issilavinimas = df14['issilavinimas']           #pandas grazina Series objekta - 2 irasai visada.\n",
    "print(issilavinimas)                            # pirmas stulpelis (eiluciu numeriai) - vadinimas indeksu \n",
    "                                                # antras stulpelis - vadinamas vertes         "
   ]
  },
  {
   "cell_type": "code",
   "execution_count": 32,
   "metadata": {},
   "outputs": [
    {
     "name": "stdout",
     "output_type": "stream",
     "text": [
      "RangeIndex(start=0, stop=44952, step=1)\n"
     ]
    }
   ],
   "source": [
    "# series objektui index ir values metodai: \n",
    "indeksai = issilavinimas.index\n",
    "print(indeksai)                             # grazina "
   ]
  },
  {
   "cell_type": "code",
   "execution_count": 33,
   "metadata": {},
   "outputs": [
    {
     "name": "stdout",
     "output_type": "stream",
     "text": [
      "['G4' 'G2' 'G4' ... 'G4' 'G4' 'G4']\n"
     ]
    }
   ],
   "source": [
    "#\n",
    "vertes = issilavinimas.values\n",
    "print(vertes)                               #grazina numpy masyva"
   ]
  },
  {
   "cell_type": "code",
   "execution_count": 34,
   "metadata": {},
   "outputs": [
    {
     "name": "stdout",
     "output_type": "stream",
     "text": [
      "['M' 'F' 'F' ... 'F' 'F' 'F']\n"
     ]
    }
   ],
   "source": [
    "lytis = df14['lytis'].values                #trumpesnis budas vertems isgauti \n",
    "print(lytis)"
   ]
  },
  {
   "cell_type": "code",
   "execution_count": 57,
   "metadata": {},
   "outputs": [
    {
     "data": {
      "text/html": [
       "<div>\n",
       "<style scoped>\n",
       "    .dataframe tbody tr th:only-of-type {\n",
       "        vertical-align: middle;\n",
       "    }\n",
       "\n",
       "    .dataframe tbody tr th {\n",
       "        vertical-align: top;\n",
       "    }\n",
       "\n",
       "    .dataframe thead th {\n",
       "        text-align: right;\n",
       "    }\n",
       "</style>\n",
       "<table border=\"1\" class=\"dataframe\">\n",
       "  <thead>\n",
       "    <tr style=\"text-align: right;\">\n",
       "      <th></th>\n",
       "      <th>lytis</th>\n",
       "      <th>issilavinimas</th>\n",
       "      <th>amzius</th>\n",
       "      <th>bdu_spalio</th>\n",
       "      <th>profesija</th>\n",
       "    </tr>\n",
       "  </thead>\n",
       "  <tbody>\n",
       "    <tr>\n",
       "      <th>0</th>\n",
       "      <td>M</td>\n",
       "      <td>G4</td>\n",
       "      <td>20-29</td>\n",
       "      <td>6.00</td>\n",
       "      <td>261</td>\n",
       "    </tr>\n",
       "    <tr>\n",
       "      <th>1</th>\n",
       "      <td>F</td>\n",
       "      <td>G2</td>\n",
       "      <td>20-29</td>\n",
       "      <td>6.00</td>\n",
       "      <td>334</td>\n",
       "    </tr>\n",
       "    <tr>\n",
       "      <th>2</th>\n",
       "      <td>F</td>\n",
       "      <td>G4</td>\n",
       "      <td>40-49</td>\n",
       "      <td>6.00</td>\n",
       "      <td>221</td>\n",
       "    </tr>\n",
       "    <tr>\n",
       "      <th>3</th>\n",
       "      <td>F</td>\n",
       "      <td>G4</td>\n",
       "      <td>30-39</td>\n",
       "      <td>6.00</td>\n",
       "      <td>332</td>\n",
       "    </tr>\n",
       "    <tr>\n",
       "      <th>4</th>\n",
       "      <td>M</td>\n",
       "      <td>G2</td>\n",
       "      <td>40-49</td>\n",
       "      <td>11.33</td>\n",
       "      <td>962</td>\n",
       "    </tr>\n",
       "  </tbody>\n",
       "</table>\n",
       "</div>"
      ],
      "text/plain": [
       "  lytis issilavinimas amzius  bdu_spalio  profesija\n",
       "0     M            G4  20-29        6.00        261\n",
       "1     F            G2  20-29        6.00        334\n",
       "2     F            G4  40-49        6.00        221\n",
       "3     F            G4  30-39        6.00        332\n",
       "4     M            G2  40-49       11.33        962"
      ]
     },
     "execution_count": 57,
     "metadata": {},
     "output_type": "execute_result"
    }
   ],
   "source": [
    "df = df14[['lytis', 'issilavinimas', 'amzius', 'bdu_spalio', 'profesija']]    #pateikiame sarasa stulpeliu ka norime matyti\n",
    "                                                                              #jei norime kad butu issaugotas, turime priskirti kintamajam \n",
    "\n",
    "df.head()"
   ]
  },
  {
   "cell_type": "code",
   "execution_count": 38,
   "metadata": {},
   "outputs": [
    {
     "data": {
      "text/plain": [
       "0        False\n",
       "1         True\n",
       "2         True\n",
       "3         True\n",
       "4        False\n",
       "         ...  \n",
       "44947     True\n",
       "44948     True\n",
       "44949     True\n",
       "44950     True\n",
       "44951     True\n",
       "Name: lytis, Length: 44952, dtype: bool"
      ]
     },
     "execution_count": 38,
     "metadata": {},
     "output_type": "execute_result"
    }
   ],
   "source": [
    "df['lytis'] == 'F'      #== F, parodo ar tenkinama lygybe True/False."
   ]
  },
  {
   "cell_type": "code",
   "execution_count": 58,
   "metadata": {},
   "outputs": [
    {
     "data": {
      "text/html": [
       "<div>\n",
       "<style scoped>\n",
       "    .dataframe tbody tr th:only-of-type {\n",
       "        vertical-align: middle;\n",
       "    }\n",
       "\n",
       "    .dataframe tbody tr th {\n",
       "        vertical-align: top;\n",
       "    }\n",
       "\n",
       "    .dataframe thead th {\n",
       "        text-align: right;\n",
       "    }\n",
       "</style>\n",
       "<table border=\"1\" class=\"dataframe\">\n",
       "  <thead>\n",
       "    <tr style=\"text-align: right;\">\n",
       "      <th></th>\n",
       "      <th>lytis</th>\n",
       "      <th>issilavinimas</th>\n",
       "      <th>amzius</th>\n",
       "      <th>bdu_spalio</th>\n",
       "      <th>profesija</th>\n",
       "    </tr>\n",
       "  </thead>\n",
       "  <tbody>\n",
       "    <tr>\n",
       "      <th>1</th>\n",
       "      <td>F</td>\n",
       "      <td>G2</td>\n",
       "      <td>20-29</td>\n",
       "      <td>6.00</td>\n",
       "      <td>334</td>\n",
       "    </tr>\n",
       "    <tr>\n",
       "      <th>2</th>\n",
       "      <td>F</td>\n",
       "      <td>G4</td>\n",
       "      <td>40-49</td>\n",
       "      <td>6.00</td>\n",
       "      <td>221</td>\n",
       "    </tr>\n",
       "    <tr>\n",
       "      <th>3</th>\n",
       "      <td>F</td>\n",
       "      <td>G4</td>\n",
       "      <td>30-39</td>\n",
       "      <td>6.00</td>\n",
       "      <td>332</td>\n",
       "    </tr>\n",
       "    <tr>\n",
       "      <th>7</th>\n",
       "      <td>F</td>\n",
       "      <td>G2</td>\n",
       "      <td>20-29</td>\n",
       "      <td>13.33</td>\n",
       "      <td>531</td>\n",
       "    </tr>\n",
       "    <tr>\n",
       "      <th>10</th>\n",
       "      <td>F</td>\n",
       "      <td>G3</td>\n",
       "      <td>40-49</td>\n",
       "      <td>10.00</td>\n",
       "      <td>334</td>\n",
       "    </tr>\n",
       "  </tbody>\n",
       "</table>\n",
       "</div>"
      ],
      "text/plain": [
       "   lytis issilavinimas amzius  bdu_spalio  profesija\n",
       "1      F            G2  20-29        6.00        334\n",
       "2      F            G4  40-49        6.00        221\n",
       "3      F            G4  30-39        6.00        332\n",
       "7      F            G2  20-29       13.33        531\n",
       "10     F            G3  40-49       10.00        334"
      ]
     },
     "execution_count": 58,
     "metadata": {},
     "output_type": "execute_result"
    }
   ],
   "source": [
    "df_f = df[df['lytis'] == 'F']     #== F, parodo ar tenkinama lygybe True/False.\n",
    "df_f.head()"
   ]
  },
  {
   "cell_type": "code",
   "execution_count": 49,
   "metadata": {},
   "outputs": [
    {
     "data": {
      "text/plain": [
       "[0        False\n",
       " 1         True\n",
       " 2         True\n",
       " 3         True\n",
       " 4        False\n",
       "          ...  \n",
       " 44947     True\n",
       " 44948     True\n",
       " 44949     True\n",
       " 44950     True\n",
       " 44951     True\n",
       " Name: lytis, Length: 44952, dtype: bool]"
      ]
     },
     "execution_count": 49,
     "metadata": {},
     "output_type": "execute_result"
    }
   ],
   "source": [
    "df"
   ]
  },
  {
   "cell_type": "code",
   "execution_count": 61,
   "metadata": {},
   "outputs": [
    {
     "data": {
      "text/html": [
       "<div>\n",
       "<style scoped>\n",
       "    .dataframe tbody tr th:only-of-type {\n",
       "        vertical-align: middle;\n",
       "    }\n",
       "\n",
       "    .dataframe tbody tr th {\n",
       "        vertical-align: top;\n",
       "    }\n",
       "\n",
       "    .dataframe thead th {\n",
       "        text-align: right;\n",
       "    }\n",
       "</style>\n",
       "<table border=\"1\" class=\"dataframe\">\n",
       "  <thead>\n",
       "    <tr style=\"text-align: right;\">\n",
       "      <th></th>\n",
       "      <th>lytis</th>\n",
       "      <th>issilavinimas</th>\n",
       "      <th>amzius</th>\n",
       "      <th>bdu_spalio</th>\n",
       "      <th>profesija</th>\n",
       "    </tr>\n",
       "  </thead>\n",
       "  <tbody>\n",
       "    <tr>\n",
       "      <th>2</th>\n",
       "      <td>F</td>\n",
       "      <td>G4</td>\n",
       "      <td>40-49</td>\n",
       "      <td>6.00</td>\n",
       "      <td>221</td>\n",
       "    </tr>\n",
       "    <tr>\n",
       "      <th>3</th>\n",
       "      <td>F</td>\n",
       "      <td>G4</td>\n",
       "      <td>30-39</td>\n",
       "      <td>6.00</td>\n",
       "      <td>332</td>\n",
       "    </tr>\n",
       "    <tr>\n",
       "      <th>12</th>\n",
       "      <td>F</td>\n",
       "      <td>G4</td>\n",
       "      <td>30-39</td>\n",
       "      <td>6.00</td>\n",
       "      <td>241</td>\n",
       "    </tr>\n",
       "    <tr>\n",
       "      <th>14</th>\n",
       "      <td>F</td>\n",
       "      <td>G4</td>\n",
       "      <td>50-59</td>\n",
       "      <td>17.00</td>\n",
       "      <td>263</td>\n",
       "    </tr>\n",
       "    <tr>\n",
       "      <th>34</th>\n",
       "      <td>F</td>\n",
       "      <td>G4</td>\n",
       "      <td>40-49</td>\n",
       "      <td>9.67</td>\n",
       "      <td>121</td>\n",
       "    </tr>\n",
       "  </tbody>\n",
       "</table>\n",
       "</div>"
      ],
      "text/plain": [
       "   lytis issilavinimas amzius  bdu_spalio  profesija\n",
       "2      F            G4  40-49        6.00        221\n",
       "3      F            G4  30-39        6.00        332\n",
       "12     F            G4  30-39        6.00        241\n",
       "14     F            G4  50-59       17.00        263\n",
       "34     F            G4  40-49        9.67        121"
      ]
     },
     "execution_count": 61,
     "metadata": {},
     "output_type": "execute_result"
    }
   ],
   "source": [
    "df_f = df[(df['lytis'] == 'F') & (df['issilavinimas'] == 'G4')]   #AND atrenkame moteris ir issilavinimas \n",
    "df_f.head()"
   ]
  },
  {
   "cell_type": "code",
   "execution_count": 62,
   "metadata": {},
   "outputs": [
    {
     "data": {
      "text/plain": [
       "np.float64(2691.835)"
      ]
     },
     "execution_count": 62,
     "metadata": {},
     "output_type": "execute_result"
    }
   ],
   "source": [
    "df_f['bdu_spalio'].median()   #paskaiciuojame mediana norimo stulpelio "
   ]
  },
  {
   "cell_type": "code",
   "execution_count": 64,
   "metadata": {},
   "outputs": [
    {
     "data": {
      "text/plain": [
       "np.float64(3039.6705276946113)"
      ]
     },
     "execution_count": 64,
     "metadata": {},
     "output_type": "execute_result"
    }
   ],
   "source": [
    "df_f['bdu_spalio'].mean()   #paskaiciuojame vidurki "
   ]
  },
  {
   "cell_type": "code",
   "execution_count": 65,
   "metadata": {},
   "outputs": [
    {
     "data": {
      "text/plain": [
       "np.float64(27242.67)"
      ]
     },
     "execution_count": 65,
     "metadata": {},
     "output_type": "execute_result"
    }
   ],
   "source": [
    "df_f['bdu_spalio'].max()   #paskaiciuojame max"
   ]
  },
  {
   "cell_type": "code",
   "execution_count": 66,
   "metadata": {},
   "outputs": [
    {
     "data": {
      "text/html": [
       "<div>\n",
       "<style scoped>\n",
       "    .dataframe tbody tr th:only-of-type {\n",
       "        vertical-align: middle;\n",
       "    }\n",
       "\n",
       "    .dataframe tbody tr th {\n",
       "        vertical-align: top;\n",
       "    }\n",
       "\n",
       "    .dataframe thead th {\n",
       "        text-align: right;\n",
       "    }\n",
       "</style>\n",
       "<table border=\"1\" class=\"dataframe\">\n",
       "  <thead>\n",
       "    <tr style=\"text-align: right;\">\n",
       "      <th></th>\n",
       "      <th>lytis</th>\n",
       "      <th>issilavinimas</th>\n",
       "      <th>amzius</th>\n",
       "      <th>bdu_spalio</th>\n",
       "      <th>profesija</th>\n",
       "    </tr>\n",
       "  </thead>\n",
       "  <tbody>\n",
       "    <tr>\n",
       "      <th>1</th>\n",
       "      <td>F</td>\n",
       "      <td>G2</td>\n",
       "      <td>20-29</td>\n",
       "      <td>6.00</td>\n",
       "      <td>334</td>\n",
       "    </tr>\n",
       "    <tr>\n",
       "      <th>2</th>\n",
       "      <td>F</td>\n",
       "      <td>G4</td>\n",
       "      <td>40-49</td>\n",
       "      <td>6.00</td>\n",
       "      <td>221</td>\n",
       "    </tr>\n",
       "    <tr>\n",
       "      <th>3</th>\n",
       "      <td>F</td>\n",
       "      <td>G4</td>\n",
       "      <td>30-39</td>\n",
       "      <td>6.00</td>\n",
       "      <td>332</td>\n",
       "    </tr>\n",
       "    <tr>\n",
       "      <th>7</th>\n",
       "      <td>F</td>\n",
       "      <td>G2</td>\n",
       "      <td>20-29</td>\n",
       "      <td>13.33</td>\n",
       "      <td>531</td>\n",
       "    </tr>\n",
       "    <tr>\n",
       "      <th>10</th>\n",
       "      <td>F</td>\n",
       "      <td>G3</td>\n",
       "      <td>40-49</td>\n",
       "      <td>10.00</td>\n",
       "      <td>334</td>\n",
       "    </tr>\n",
       "    <tr>\n",
       "      <th>...</th>\n",
       "      <td>...</td>\n",
       "      <td>...</td>\n",
       "      <td>...</td>\n",
       "      <td>...</td>\n",
       "      <td>...</td>\n",
       "    </tr>\n",
       "    <tr>\n",
       "      <th>44947</th>\n",
       "      <td>F</td>\n",
       "      <td>G4</td>\n",
       "      <td>50-59</td>\n",
       "      <td>3393.00</td>\n",
       "      <td>235</td>\n",
       "    </tr>\n",
       "    <tr>\n",
       "      <th>44948</th>\n",
       "      <td>F</td>\n",
       "      <td>G4</td>\n",
       "      <td>30-39</td>\n",
       "      <td>3639.67</td>\n",
       "      <td>233</td>\n",
       "    </tr>\n",
       "    <tr>\n",
       "      <th>44949</th>\n",
       "      <td>F</td>\n",
       "      <td>G4</td>\n",
       "      <td>50-59</td>\n",
       "      <td>3670.00</td>\n",
       "      <td>231</td>\n",
       "    </tr>\n",
       "    <tr>\n",
       "      <th>44950</th>\n",
       "      <td>F</td>\n",
       "      <td>G4</td>\n",
       "      <td>30-39</td>\n",
       "      <td>4212.00</td>\n",
       "      <td>231</td>\n",
       "    </tr>\n",
       "    <tr>\n",
       "      <th>44951</th>\n",
       "      <td>F</td>\n",
       "      <td>G4</td>\n",
       "      <td>40-49</td>\n",
       "      <td>4218.00</td>\n",
       "      <td>231</td>\n",
       "    </tr>\n",
       "  </tbody>\n",
       "</table>\n",
       "<p>22366 rows × 5 columns</p>\n",
       "</div>"
      ],
      "text/plain": [
       "      lytis issilavinimas amzius  bdu_spalio  profesija\n",
       "1         F            G2  20-29        6.00        334\n",
       "2         F            G4  40-49        6.00        221\n",
       "3         F            G4  30-39        6.00        332\n",
       "7         F            G2  20-29       13.33        531\n",
       "10        F            G3  40-49       10.00        334\n",
       "...     ...           ...    ...         ...        ...\n",
       "44947     F            G4  50-59     3393.00        235\n",
       "44948     F            G4  30-39     3639.67        233\n",
       "44949     F            G4  50-59     3670.00        231\n",
       "44950     F            G4  30-39     4212.00        231\n",
       "44951     F            G4  40-49     4218.00        231\n",
       "\n",
       "[22366 rows x 5 columns]"
      ]
     },
     "execution_count": 66,
     "metadata": {},
     "output_type": "execute_result"
    }
   ],
   "source": [
    "df.query(expr='lytis == \"F\"')           #grazina visus irasus kur F raide. "
   ]
  },
  {
   "cell_type": "code",
   "execution_count": 69,
   "metadata": {},
   "outputs": [
    {
     "data": {
      "text/html": [
       "<div>\n",
       "<style scoped>\n",
       "    .dataframe tbody tr th:only-of-type {\n",
       "        vertical-align: middle;\n",
       "    }\n",
       "\n",
       "    .dataframe tbody tr th {\n",
       "        vertical-align: top;\n",
       "    }\n",
       "\n",
       "    .dataframe thead th {\n",
       "        text-align: right;\n",
       "    }\n",
       "</style>\n",
       "<table border=\"1\" class=\"dataframe\">\n",
       "  <thead>\n",
       "    <tr style=\"text-align: right;\">\n",
       "      <th></th>\n",
       "      <th>lytis</th>\n",
       "      <th>issilavinimas</th>\n",
       "      <th>amzius</th>\n",
       "      <th>bdu_spalio</th>\n",
       "      <th>profesija</th>\n",
       "    </tr>\n",
       "  </thead>\n",
       "  <tbody>\n",
       "  </tbody>\n",
       "</table>\n",
       "</div>"
      ],
      "text/plain": [
       "Empty DataFrame\n",
       "Columns: [lytis, issilavinimas, amzius, bdu_spalio, profesija]\n",
       "Index: []"
      ]
     },
     "execution_count": 69,
     "metadata": {},
     "output_type": "execute_result"
    }
   ],
   "source": [
    "df.query(expr='lytis == \"F\" and \"issilavinimas\" == \"G4\"')           #pagal du kintamus \n",
    "                                                                    # neveikia "
   ]
  },
  {
   "cell_type": "code",
   "execution_count": 70,
   "metadata": {},
   "outputs": [
    {
     "name": "stdout",
     "output_type": "stream",
     "text": [
      "      lytis issilavinimas amzius  bdu_spalio  profesija\n",
      "8         M            G1  20-29        6.67        912\n",
      "51        M            G1  20-29      160.33        962\n",
      "68        F            G1  30-39     1041.00        524\n",
      "70        M            G1  14-19     1061.00        752\n",
      "89        M            G1  40-49      418.67        932\n",
      "...     ...           ...    ...         ...        ...\n",
      "41133     M            G1  40-49     2978.00        541\n",
      "41204     M            G1  50-59     1781.00        821\n",
      "41247     F            G1  30-39     1267.67        322\n",
      "41478     F            G1  50-59     2135.67        222\n",
      "41509     F            G1  50-59     2144.00        322\n",
      "\n",
      "[1716 rows x 5 columns]\n",
      "      lytis issilavinimas amzius  bdu_spalio  profesija\n",
      "1         F            G2  20-29        6.00        334\n",
      "4         M            G2  40-49       11.33        962\n",
      "5         M            G2  30-39        6.00        122\n",
      "7         F            G2  20-29       13.33        531\n",
      "9         M            G2  40-49        6.00        332\n",
      "...     ...           ...    ...         ...        ...\n",
      "44880     M            G2    60+     2302.00        232\n",
      "44893     F            G2    60+     2686.00        232\n",
      "44905     M            G2  50-59     2892.67        232\n",
      "44917     F            G2  50-59     2227.67        232\n",
      "44928     F            G2    60+     2115.00        232\n",
      "\n",
      "[22059 rows x 5 columns]\n"
     ]
    }
   ],
   "source": [
    "edu = ['G1', 'G2']\n",
    "\n",
    "for e in edu:\n",
    "    print(df.query(expr='issilavinimas == @e'))                #@ pazymis kad tai yra kintamasis\n",
    "                                                               # rodo dvieju uzklausu rezultatus \n",
    "    "
   ]
  },
  {
   "cell_type": "code",
   "execution_count": 71,
   "metadata": {},
   "outputs": [
    {
     "name": "stderr",
     "output_type": "stream",
     "text": [
      "C:\\Users\\User\\AppData\\Local\\Temp\\ipykernel_15136\\2691138167.py:1: SettingWithCopyWarning: \n",
      "A value is trying to be set on a copy of a slice from a DataFrame.\n",
      "Try using .loc[row_indexer,col_indexer] = value instead\n",
      "\n",
      "See the caveats in the documentation: https://pandas.pydata.org/pandas-docs/stable/user_guide/indexing.html#returning-a-view-versus-a-copy\n",
      "  df['$'] = df['bdu_spalio']/3.4528\n"
     ]
    },
    {
     "data": {
      "text/html": [
       "<div>\n",
       "<style scoped>\n",
       "    .dataframe tbody tr th:only-of-type {\n",
       "        vertical-align: middle;\n",
       "    }\n",
       "\n",
       "    .dataframe tbody tr th {\n",
       "        vertical-align: top;\n",
       "    }\n",
       "\n",
       "    .dataframe thead th {\n",
       "        text-align: right;\n",
       "    }\n",
       "</style>\n",
       "<table border=\"1\" class=\"dataframe\">\n",
       "  <thead>\n",
       "    <tr style=\"text-align: right;\">\n",
       "      <th></th>\n",
       "      <th>lytis</th>\n",
       "      <th>issilavinimas</th>\n",
       "      <th>amzius</th>\n",
       "      <th>bdu_spalio</th>\n",
       "      <th>profesija</th>\n",
       "      <th>$</th>\n",
       "    </tr>\n",
       "  </thead>\n",
       "  <tbody>\n",
       "    <tr>\n",
       "      <th>0</th>\n",
       "      <td>M</td>\n",
       "      <td>G4</td>\n",
       "      <td>20-29</td>\n",
       "      <td>6.00</td>\n",
       "      <td>261</td>\n",
       "      <td>1.737720</td>\n",
       "    </tr>\n",
       "    <tr>\n",
       "      <th>1</th>\n",
       "      <td>F</td>\n",
       "      <td>G2</td>\n",
       "      <td>20-29</td>\n",
       "      <td>6.00</td>\n",
       "      <td>334</td>\n",
       "      <td>1.737720</td>\n",
       "    </tr>\n",
       "    <tr>\n",
       "      <th>2</th>\n",
       "      <td>F</td>\n",
       "      <td>G4</td>\n",
       "      <td>40-49</td>\n",
       "      <td>6.00</td>\n",
       "      <td>221</td>\n",
       "      <td>1.737720</td>\n",
       "    </tr>\n",
       "    <tr>\n",
       "      <th>3</th>\n",
       "      <td>F</td>\n",
       "      <td>G4</td>\n",
       "      <td>30-39</td>\n",
       "      <td>6.00</td>\n",
       "      <td>332</td>\n",
       "      <td>1.737720</td>\n",
       "    </tr>\n",
       "    <tr>\n",
       "      <th>4</th>\n",
       "      <td>M</td>\n",
       "      <td>G2</td>\n",
       "      <td>40-49</td>\n",
       "      <td>11.33</td>\n",
       "      <td>962</td>\n",
       "      <td>3.281395</td>\n",
       "    </tr>\n",
       "  </tbody>\n",
       "</table>\n",
       "</div>"
      ],
      "text/plain": [
       "  lytis issilavinimas amzius  bdu_spalio  profesija         $\n",
       "0     M            G4  20-29        6.00        261  1.737720\n",
       "1     F            G2  20-29        6.00        334  1.737720\n",
       "2     F            G4  40-49        6.00        221  1.737720\n",
       "3     F            G4  30-39        6.00        332  1.737720\n",
       "4     M            G2  40-49       11.33        962  3.281395"
      ]
     },
     "execution_count": 71,
     "metadata": {},
     "output_type": "execute_result"
    }
   ],
   "source": [
    "df['$'] = df['bdu_spalio']/3.4528      #pridedame $ stulpeli i lentele \n",
    "df.head()"
   ]
  },
  {
   "cell_type": "code",
   "execution_count": 73,
   "metadata": {},
   "outputs": [],
   "source": [
    "import warnings                         #warning ignoravimas\n",
    "warnings.filterwarnings('ignore')"
   ]
  },
  {
   "cell_type": "code",
   "execution_count": 111,
   "metadata": {},
   "outputs": [
    {
     "name": "stdout",
     "output_type": "stream",
     "text": [
      "F | G1 1256.5 1406.67\n",
      "F | G2 1395.0 1571.05\n",
      "F | G3 1974.0 2190.46\n",
      "F | G4 2691.835 3039.67\n",
      "M | G1 1485.665 1762.3\n",
      "M | G2 1884.0 2129.49\n",
      "M | G3 2500.0 2900.46\n",
      "M | G4 3400.0 4158.56\n"
     ]
    }
   ],
   "source": [
    "# Išssilavinimo pakopos yra G1,G2,G3 ir G4. \n",
    "# Parašykite ciklą, kuris išspausdintų pakopos kodą ir spalio atlyginų medianą bei vidurkį, \n",
    "# atskirai vyrams, atskirai moterims.\n",
    "\n",
    "df = df14[[ 'issilavinimas', 'bdu_spalio','lytis']]                                                                                  \n",
    "# df.head()\n",
    "\n",
    "issilavinimai = ['G1', 'G2', 'G3', 'G4']\n",
    "\n",
    "for e in issilavinimai:\n",
    "    F = df14.query('lytis==\"F\" and issilavinimas==@e')\n",
    "    print('F', '|',e,F['bdu_spalio'].median(), round(F['bdu_spalio'].mean(),2))\n",
    "    \n",
    "    \n",
    "for e in issilavinimai:\n",
    "    M = df14.query('lytis==\"M\" and issilavinimas==@e')\n",
    "    print('M','|',e,M['bdu_spalio'].median(), round(M['bdu_spalio'].mean(),2))\n",
    "\n",
    "\n",
    "# for u in lytis:\n",
    "#     for j in issilavinimas:\n"
   ]
  },
  {
   "cell_type": "code",
   "execution_count": 113,
   "metadata": {},
   "outputs": [
    {
     "name": "stdout",
     "output_type": "stream",
     "text": [
      "G1   |1406.67|1256.50|Mot  \n",
      "G2   |1571.05|1395.00|Mot  \n",
      "G3   |2190.46|1974.00|Mot  \n",
      "G4   |3039.67|2691.84|Mot  \n",
      "G1   |1762.30|1485.66|Vyr  \n",
      "G2   |2129.49|1884.00|Vyr  \n",
      "G3   |2900.46|2500.00|Vyr  \n",
      "G4   |4158.56|3400.00|Vyr  \n"
     ]
    }
   ],
   "source": [
    "#kitas sprendimo budas\n",
    "\n",
    "edu = ['G1','G2', 'G3', 'G4']\n",
    "\n",
    "for e in edu:\n",
    "    fv = df.query(expr='issilavinimas == @e and lytis == \"F\"')['bdu_spalio'].mean()\n",
    "    fm = df.query(expr='issilavinimas == @e and lytis == \"F\"')['bdu_spalio'].median()\n",
    "    print(f'{e:5}|{fv:5.2f}|{fm:5.2f}|{\"Mot\":5}')\n",
    "\n",
    "for e in edu:\n",
    "    fv = df.query(expr='issilavinimas == @e and lytis == \"M\"')['bdu_spalio'].mean()\n",
    "    fm = df.query(expr='issilavinimas == @e and lytis == \"M\"')['bdu_spalio'].median()\n",
    "    print(f'{e:5}|{fv:5.2f}|{fm:5.2f}|{\"Vyr\":5}')"
   ]
  },
  {
   "cell_type": "code",
   "execution_count": 87,
   "metadata": {},
   "outputs": [
    {
     "data": {
      "text/html": [
       "<div>\n",
       "<style scoped>\n",
       "    .dataframe tbody tr th:only-of-type {\n",
       "        vertical-align: middle;\n",
       "    }\n",
       "\n",
       "    .dataframe tbody tr th {\n",
       "        vertical-align: top;\n",
       "    }\n",
       "\n",
       "    .dataframe thead th {\n",
       "        text-align: right;\n",
       "    }\n",
       "</style>\n",
       "<table border=\"1\" class=\"dataframe\">\n",
       "  <thead>\n",
       "    <tr style=\"text-align: right;\">\n",
       "      <th></th>\n",
       "      <th>lytis</th>\n",
       "      <th>issilavinimas</th>\n",
       "      <th>bdu_spalio</th>\n",
       "    </tr>\n",
       "  </thead>\n",
       "  <tbody>\n",
       "    <tr>\n",
       "      <th>1</th>\n",
       "      <td>F</td>\n",
       "      <td>G2</td>\n",
       "      <td>6.00</td>\n",
       "    </tr>\n",
       "    <tr>\n",
       "      <th>2</th>\n",
       "      <td>F</td>\n",
       "      <td>G4</td>\n",
       "      <td>6.00</td>\n",
       "    </tr>\n",
       "    <tr>\n",
       "      <th>3</th>\n",
       "      <td>F</td>\n",
       "      <td>G4</td>\n",
       "      <td>6.00</td>\n",
       "    </tr>\n",
       "    <tr>\n",
       "      <th>7</th>\n",
       "      <td>F</td>\n",
       "      <td>G2</td>\n",
       "      <td>13.33</td>\n",
       "    </tr>\n",
       "    <tr>\n",
       "      <th>10</th>\n",
       "      <td>F</td>\n",
       "      <td>G3</td>\n",
       "      <td>10.00</td>\n",
       "    </tr>\n",
       "  </tbody>\n",
       "</table>\n",
       "</div>"
      ],
      "text/plain": [
       "   lytis issilavinimas  bdu_spalio\n",
       "1      F            G2        6.00\n",
       "2      F            G4        6.00\n",
       "3      F            G4        6.00\n",
       "7      F            G2       13.33\n",
       "10     F            G3       10.00"
      ]
     },
     "execution_count": 87,
     "metadata": {},
     "output_type": "execute_result"
    }
   ],
   "source": [
    "df_f = df[df14['lytis'] == 'F']     \n",
    "df_f.head()"
   ]
  },
  {
   "cell_type": "code",
   "execution_count": 122,
   "metadata": {},
   "outputs": [
    {
     "name": "stdout",
     "output_type": "stream",
     "text": [
      "M 22586\n",
      "F 22366\n"
     ]
    },
    {
     "data": {
      "image/png": "[encoded data removed]",
      "text/plain": [
       "<Figure size 640x480 with 1 Axes>"
      ]
     },
     "metadata": {},
     "output_type": "display_data"
    }
   ],
   "source": [
    "#value_counts - suskaiciuoja, kiek stulpelyje verciu pasikartojimu \n",
    "#parasykime cikla, kuris surastu kiek vyru ir moteru dalyvavo apklausoje. \n",
    "#atvaizduokime procentiskai su pie plot tai \n",
    "# Suskaičiuojame lyčių pasiskirstymą\n",
    "\n",
    "dmot = df['lytis'].value_counts()\n",
    "\n",
    "imone = dmot.index\n",
    "kiekiai = dmot.values\n",
    "\n",
    "for li, ci in zip(imone, kiekiai):\n",
    "    print(li, ci)\n",
    "\n",
    "plt.pie(x=kiekiai, labels=imone, autopct='%.2f%%')\n",
    "plt.show()\n",
    "\n",
    "\n",
    "\n",
    "\n",
    "\n"
   ]
  },
  {
   "cell_type": "code",
   "execution_count": 130,
   "metadata": {},
   "outputs": [
    {
     "name": "stdout",
     "output_type": "stream",
     "text": [
      "['G1', 'G2', 'G3', 'G4']\n",
      "G1 1639.1983275058276\n",
      "G2 1877.952304728229\n",
      "G3 2521.961990474626\n",
      "G4 3494.114123791532\n"
     ]
    }
   ],
   "source": [
    "edus = df['issilavinimas'].value_counts().sort_index(ascending=True).index.to_list()    #.sort_index surusiuoja pagal abecele\n",
    "print(edus)                                                                             #cia rusiuoja nuo didziausio count iki maziausio\n",
    "                                                                                        #.to_list() pavers i normalu sarasa \n",
    "for e in edus: \n",
    "    dmot = df.query('issilavinimas == @e')['bdu_spalio'].mean()     #pvz kai issilavinimo pakopu yra nezinomas/neribotas kiekis \n",
    "    print(e,dmot)"
   ]
  },
  {
   "cell_type": "code",
   "execution_count": 129,
   "metadata": {},
   "outputs": [
    {
     "name": "stdout",
     "output_type": "stream",
     "text": [
      "['G1', 'G2', 'G3', 'G4']\n"
     ]
    }
   ],
   "source": [
    "issilavinimas=sorted(list(set(df['issilavinimas'])))\n",
    "print(issilavinimas)                                    #kodas atsirinkti unikalius issilavinimus "
   ]
  },
  {
   "cell_type": "code",
   "execution_count": 135,
   "metadata": {},
   "outputs": [
    {
     "ename": "KeyError",
     "evalue": "'amzius'",
     "output_type": "error",
     "traceback": [
      "\u001b[1;31m---------------------------------------------------------------------------\u001b[0m",
      "\u001b[1;31mKeyError\u001b[0m                                  Traceback (most recent call last)",
      "File \u001b[1;32m~\\AppData\\Local\\Packages\\PythonSoftwareFoundation.Python.3.12_qbz5n2kfra8p0\\LocalCache\\local-packages\\Python312\\site-packages\\pandas\\core\\indexes\\base.py:3805\u001b[0m, in \u001b[0;36mIndex.get_loc\u001b[1;34m(self, key)\u001b[0m\n\u001b[0;32m   3804\u001b[0m \u001b[38;5;28;01mtry\u001b[39;00m:\n\u001b[1;32m-> 3805\u001b[0m     \u001b[38;5;28;01mreturn\u001b[39;00m \u001b[38;5;28;43mself\u001b[39;49m\u001b[38;5;241;43m.\u001b[39;49m\u001b[43m_engine\u001b[49m\u001b[38;5;241;43m.\u001b[39;49m\u001b[43mget_loc\u001b[49m\u001b[43m(\u001b[49m\u001b[43mcasted_key\u001b[49m\u001b[43m)\u001b[49m\n\u001b[0;32m   3806\u001b[0m \u001b[38;5;28;01mexcept\u001b[39;00m \u001b[38;5;167;01mKeyError\u001b[39;00m \u001b[38;5;28;01mas\u001b[39;00m err:\n",
      "File \u001b[1;32mindex.pyx:167\u001b[0m, in \u001b[0;36mpandas._libs.index.IndexEngine.get_loc\u001b[1;34m()\u001b[0m\n",
      "File \u001b[1;32mindex.pyx:196\u001b[0m, in \u001b[0;36mpandas._libs.index.IndexEngine.get_loc\u001b[1;34m()\u001b[0m\n",
      "File \u001b[1;32mpandas\\\\_libs\\\\hashtable_class_helper.pxi:7081\u001b[0m, in \u001b[0;36mpandas._libs.hashtable.PyObjectHashTable.get_item\u001b[1;34m()\u001b[0m\n",
      "File \u001b[1;32mpandas\\\\_libs\\\\hashtable_class_helper.pxi:7089\u001b[0m, in \u001b[0;36mpandas._libs.hashtable.PyObjectHashTable.get_item\u001b[1;34m()\u001b[0m\n",
      "\u001b[1;31mKeyError\u001b[0m: 'amzius'",
      "\nThe above exception was the direct cause of the following exception:\n",
      "\u001b[1;31mKeyError\u001b[0m                                  Traceback (most recent call last)",
      "Cell \u001b[1;32mIn[135], line 10\u001b[0m\n\u001b[0;32m      1\u001b[0m \u001b[38;5;66;03m# Parašykite ciklą, kuris surašytų atlyginimų vidurkius bei medianas\u001b[39;00m\n\u001b[0;32m      2\u001b[0m \u001b[38;5;66;03m# pagal amžiaus grupes (2014 metams, eurais)\u001b[39;00m\n\u001b[0;32m      3\u001b[0m \u001b[38;5;66;03m# amžiaus grupes gaukite naudodamiesi value_counts()\u001b[39;00m\n\u001b[1;32m   (...)\u001b[0m\n\u001b[0;32m      7\u001b[0m \u001b[38;5;66;03m# edus = df['amzius'].value_counts().sort_index(ascending=True).index.to_list()    \u001b[39;00m\n\u001b[0;32m      8\u001b[0m \u001b[38;5;66;03m# print(edus)  \u001b[39;00m\n\u001b[1;32m---> 10\u001b[0m amzius1 \u001b[38;5;241m=\u001b[39m \u001b[43mdf\u001b[49m\u001b[43m[\u001b[49m\u001b[38;5;124;43m'\u001b[39;49m\u001b[38;5;124;43mamzius\u001b[39;49m\u001b[38;5;124;43m'\u001b[39;49m\u001b[43m]\u001b[49m\n\u001b[0;32m     11\u001b[0m \u001b[38;5;28mprint\u001b[39m(amzius1)\n",
      "File \u001b[1;32m~\\AppData\\Local\\Packages\\PythonSoftwareFoundation.Python.3.12_qbz5n2kfra8p0\\LocalCache\\local-packages\\Python312\\site-packages\\pandas\\core\\frame.py:4102\u001b[0m, in \u001b[0;36mDataFrame.__getitem__\u001b[1;34m(self, key)\u001b[0m\n\u001b[0;32m   4100\u001b[0m \u001b[38;5;28;01mif\u001b[39;00m \u001b[38;5;28mself\u001b[39m\u001b[38;5;241m.\u001b[39mcolumns\u001b[38;5;241m.\u001b[39mnlevels \u001b[38;5;241m>\u001b[39m \u001b[38;5;241m1\u001b[39m:\n\u001b[0;32m   4101\u001b[0m     \u001b[38;5;28;01mreturn\u001b[39;00m \u001b[38;5;28mself\u001b[39m\u001b[38;5;241m.\u001b[39m_getitem_multilevel(key)\n\u001b[1;32m-> 4102\u001b[0m indexer \u001b[38;5;241m=\u001b[39m \u001b[38;5;28;43mself\u001b[39;49m\u001b[38;5;241;43m.\u001b[39;49m\u001b[43mcolumns\u001b[49m\u001b[38;5;241;43m.\u001b[39;49m\u001b[43mget_loc\u001b[49m\u001b[43m(\u001b[49m\u001b[43mkey\u001b[49m\u001b[43m)\u001b[49m\n\u001b[0;32m   4103\u001b[0m \u001b[38;5;28;01mif\u001b[39;00m is_integer(indexer):\n\u001b[0;32m   4104\u001b[0m     indexer \u001b[38;5;241m=\u001b[39m [indexer]\n",
      "File \u001b[1;32m~\\AppData\\Local\\Packages\\PythonSoftwareFoundation.Python.3.12_qbz5n2kfra8p0\\LocalCache\\local-packages\\Python312\\site-packages\\pandas\\core\\indexes\\base.py:3812\u001b[0m, in \u001b[0;36mIndex.get_loc\u001b[1;34m(self, key)\u001b[0m\n\u001b[0;32m   3807\u001b[0m     \u001b[38;5;28;01mif\u001b[39;00m \u001b[38;5;28misinstance\u001b[39m(casted_key, \u001b[38;5;28mslice\u001b[39m) \u001b[38;5;129;01mor\u001b[39;00m (\n\u001b[0;32m   3808\u001b[0m         \u001b[38;5;28misinstance\u001b[39m(casted_key, abc\u001b[38;5;241m.\u001b[39mIterable)\n\u001b[0;32m   3809\u001b[0m         \u001b[38;5;129;01mand\u001b[39;00m \u001b[38;5;28many\u001b[39m(\u001b[38;5;28misinstance\u001b[39m(x, \u001b[38;5;28mslice\u001b[39m) \u001b[38;5;28;01mfor\u001b[39;00m x \u001b[38;5;129;01min\u001b[39;00m casted_key)\n\u001b[0;32m   3810\u001b[0m     ):\n\u001b[0;32m   3811\u001b[0m         \u001b[38;5;28;01mraise\u001b[39;00m InvalidIndexError(key)\n\u001b[1;32m-> 3812\u001b[0m     \u001b[38;5;28;01mraise\u001b[39;00m \u001b[38;5;167;01mKeyError\u001b[39;00m(key) \u001b[38;5;28;01mfrom\u001b[39;00m \u001b[38;5;21;01merr\u001b[39;00m\n\u001b[0;32m   3813\u001b[0m \u001b[38;5;28;01mexcept\u001b[39;00m \u001b[38;5;167;01mTypeError\u001b[39;00m:\n\u001b[0;32m   3814\u001b[0m     \u001b[38;5;66;03m# If we have a listlike key, _check_indexing_error will raise\u001b[39;00m\n\u001b[0;32m   3815\u001b[0m     \u001b[38;5;66;03m#  InvalidIndexError. Otherwise we fall through and re-raise\u001b[39;00m\n\u001b[0;32m   3816\u001b[0m     \u001b[38;5;66;03m#  the TypeError.\u001b[39;00m\n\u001b[0;32m   3817\u001b[0m     \u001b[38;5;28mself\u001b[39m\u001b[38;5;241m.\u001b[39m_check_indexing_error(key)\n",
      "\u001b[1;31mKeyError\u001b[0m: 'amzius'"
     ]
    }
   ],
   "source": [
    "# Parašykite ciklą, kuris surašytų atlyginimų vidurkius bei medianas\n",
    "# pagal amžiaus grupes (2014 metams, eurais)\n",
    "# amžiaus grupes gaukite naudodamiesi value_counts()\n",
    "# tvarkingesniam atvaizdavimui pasinaudokite f-strings\n",
    "# išvestyje pridėkite dar ir skirtumą tarp vidurkio ir medianos (vidurkis-mediana)\n",
    "\n",
    "# edus = df['amzius'].value_counts().sort_index(ascending=True).index.to_list()    \n",
    "# print(edus)  \n",
    "\n",
    "amzius1 = df['amzius']\n",
    "print(amzius1)\n"
   ]
  },
  {
   "cell_type": "code",
   "execution_count": 137,
   "metadata": {},
   "outputs": [
    {
     "data": {
      "text/html": [
       "<div>\n",
       "<style scoped>\n",
       "    .dataframe tbody tr th:only-of-type {\n",
       "        vertical-align: middle;\n",
       "    }\n",
       "\n",
       "    .dataframe tbody tr th {\n",
       "        vertical-align: top;\n",
       "    }\n",
       "\n",
       "    .dataframe thead th {\n",
       "        text-align: right;\n",
       "    }\n",
       "</style>\n",
       "<table border=\"1\" class=\"dataframe\">\n",
       "  <thead>\n",
       "    <tr style=\"text-align: right;\">\n",
       "      <th></th>\n",
       "      <th>amzius</th>\n",
       "      <th>bdu_spalio</th>\n",
       "    </tr>\n",
       "  </thead>\n",
       "  <tbody>\n",
       "    <tr>\n",
       "      <th>0</th>\n",
       "      <td>20-29</td>\n",
       "      <td>6.00</td>\n",
       "    </tr>\n",
       "    <tr>\n",
       "      <th>1</th>\n",
       "      <td>20-29</td>\n",
       "      <td>6.00</td>\n",
       "    </tr>\n",
       "    <tr>\n",
       "      <th>2</th>\n",
       "      <td>40-49</td>\n",
       "      <td>6.00</td>\n",
       "    </tr>\n",
       "    <tr>\n",
       "      <th>3</th>\n",
       "      <td>30-39</td>\n",
       "      <td>6.00</td>\n",
       "    </tr>\n",
       "    <tr>\n",
       "      <th>4</th>\n",
       "      <td>40-49</td>\n",
       "      <td>11.33</td>\n",
       "    </tr>\n",
       "  </tbody>\n",
       "</table>\n",
       "</div>"
      ],
      "text/plain": [
       "  amzius  bdu_spalio\n",
       "0  20-29        6.00\n",
       "1  20-29        6.00\n",
       "2  40-49        6.00\n",
       "3  30-39        6.00\n",
       "4  40-49       11.33"
      ]
     },
     "execution_count": 137,
     "metadata": {},
     "output_type": "execute_result"
    }
   ],
   "source": [
    "df = df14[['amzius', 'bdu_spalio']]    #pateikiame sarasa stulpeliu ka norime matyti                                                                            #jei norime kad butu issaugotas, turime priskirti kintamajam \n",
    "df.head()"
   ]
  },
  {
   "cell_type": "code",
   "execution_count": 138,
   "metadata": {},
   "outputs": [
    {
     "name": "stdout",
     "output_type": "stream",
     "text": [
      "['14-19', '20-29', '30-39', '40-49', '50-59', '60+']\n"
     ]
    }
   ],
   "source": [
    "amzius1 = df['amzius'].value_counts().sort_index(ascending=True).index.to_list()    #.sort_index surusiuoja pagal abecele\n",
    "print(amzius1)    "
   ]
  },
  {
   "cell_type": "code",
   "execution_count": 147,
   "metadata": {},
   "outputs": [
    {
     "name": "stdout",
     "output_type": "stream",
     "text": [
      "14-19|361.61|350.98|11\n",
      "20-29|607.94|533.28|75\n",
      "30-39|795.17|650.46|145\n",
      "40-49|699.97|559.90|140\n",
      "50-59|666.15|542.58|124\n",
      "60+  |626.27|512.30|114\n"
     ]
    }
   ],
   "source": [
    "for e in amzius1:\n",
    "    fv = df.query(expr='amzius == @e')['bdu_spalio'].mean() / 3.456\n",
    "    fm = df.query(expr='amzius == @e')['bdu_spalio'].median() / 3.456\n",
    "    fsk = fv-fm\n",
    "    print(f'{e:5}|{fv:5.2f}|{fm:5.2f}|{round(fsk)}')\n",
    "\n"
   ]
  },
  {
   "cell_type": "code",
   "execution_count": null,
   "metadata": {},
   "outputs": [],
   "source": [
    "# value_counts() ir pie plot:\n",
    "# kiek procentų buvo vyrų, moterų 2014 metais?\n",
    "# kiek procentų buvo iš kiekvienos amžiaus grupės?\n",
    "# kiek procentų buvo iš kiekvienos išsilavinimo pakopos?\n",
    "# kiek respondentų buvo iš privataus (B) bei viešojo (A) sektoriaus? (stulpelis: nuosavybe)\n",
    "# kiek procentaliai buvo vyrų, moterų iš didelių, vidutinių, mažų įmonių? (Stulpelis im_dydis, \n",
    "# du pie plot'ai, vienas vyrams, kitas moterims)\n",
    "\n"
   ]
  },
  {
   "cell_type": "code",
   "execution_count": 154,
   "metadata": {},
   "outputs": [
    {
     "data": {
      "text/html": [
       "<div>\n",
       "<style scoped>\n",
       "    .dataframe tbody tr th:only-of-type {\n",
       "        vertical-align: middle;\n",
       "    }\n",
       "\n",
       "    .dataframe tbody tr th {\n",
       "        vertical-align: top;\n",
       "    }\n",
       "\n",
       "    .dataframe thead th {\n",
       "        text-align: right;\n",
       "    }\n",
       "</style>\n",
       "<table border=\"1\" class=\"dataframe\">\n",
       "  <thead>\n",
       "    <tr style=\"text-align: right;\">\n",
       "      <th></th>\n",
       "      <th>lytis</th>\n",
       "      <th>amzius</th>\n",
       "      <th>issilavinimas</th>\n",
       "      <th>nuosavybe</th>\n",
       "      <th>im_dydis</th>\n",
       "    </tr>\n",
       "  </thead>\n",
       "  <tbody>\n",
       "    <tr>\n",
       "      <th>0</th>\n",
       "      <td>M</td>\n",
       "      <td>20-29</td>\n",
       "      <td>G4</td>\n",
       "      <td>B</td>\n",
       "      <td>1_49</td>\n",
       "    </tr>\n",
       "    <tr>\n",
       "      <th>1</th>\n",
       "      <td>F</td>\n",
       "      <td>20-29</td>\n",
       "      <td>G2</td>\n",
       "      <td>B</td>\n",
       "      <td>1_49</td>\n",
       "    </tr>\n",
       "    <tr>\n",
       "      <th>2</th>\n",
       "      <td>F</td>\n",
       "      <td>40-49</td>\n",
       "      <td>G4</td>\n",
       "      <td>B</td>\n",
       "      <td>GT_250</td>\n",
       "    </tr>\n",
       "    <tr>\n",
       "      <th>3</th>\n",
       "      <td>F</td>\n",
       "      <td>30-39</td>\n",
       "      <td>G4</td>\n",
       "      <td>B</td>\n",
       "      <td>1_49</td>\n",
       "    </tr>\n",
       "    <tr>\n",
       "      <th>4</th>\n",
       "      <td>M</td>\n",
       "      <td>40-49</td>\n",
       "      <td>G2</td>\n",
       "      <td>B</td>\n",
       "      <td>1_49</td>\n",
       "    </tr>\n",
       "  </tbody>\n",
       "</table>\n",
       "</div>"
      ],
      "text/plain": [
       "  lytis amzius issilavinimas nuosavybe im_dydis\n",
       "0     M  20-29            G4         B     1_49\n",
       "1     F  20-29            G2         B     1_49\n",
       "2     F  40-49            G4         B   GT_250\n",
       "3     F  30-39            G4         B     1_49\n",
       "4     M  40-49            G2         B     1_49"
      ]
     },
     "execution_count": 154,
     "metadata": {},
     "output_type": "execute_result"
    }
   ],
   "source": [
    "df = df14[['lytis', 'amzius', 'issilavinimas', 'nuosavybe', 'im_dydis']]    #pateikiame sarasa stulpeliu ka norime matyti                                                                            #jei norime kad butu issaugotas, turime priskirti kintamajam \n",
    "df.head()  "
   ]
  },
  {
   "cell_type": "code",
   "execution_count": 156,
   "metadata": {},
   "outputs": [
    {
     "name": "stdout",
     "output_type": "stream",
     "text": [
      "['F', 'M']\n",
      "M 22586\n",
      "F 22366\n"
     ]
    },
    {
     "data": {
      "image/png": "[encoded data removed]",
      "text/plain": [
       "<Figure size 640x480 with 1 Axes>"
      ]
     },
     "metadata": {},
     "output_type": "display_data"
    }
   ],
   "source": [
    "lytis1 = df['lytis'].value_counts().sort_index(ascending=True).index.to_list()    #.sort_index surusiuoja pagal abecele\n",
    "print(lytis1)    \n",
    "\n",
    "dmot = df['lytis'].value_counts()\n",
    "\n",
    "imone = dmot.index\n",
    "kiekiai = dmot.values\n",
    "\n",
    "for li, ci in zip(imone, kiekiai):\n",
    "    print(li, ci)\n",
    "\n",
    "plt.pie(x=kiekiai, labels=imone, autopct='%.2f%%')\n",
    "plt.show()"
   ]
  },
  {
   "cell_type": "code",
   "execution_count": 157,
   "metadata": {},
   "outputs": [
    {
     "name": "stdout",
     "output_type": "stream",
     "text": [
      "50-59 10968\n",
      "40-49 10947\n",
      "30-39 9747\n",
      "20-29 9015\n",
      "60+ 3928\n",
      "14-19 347\n"
     ]
    },
    {
     "data": {
      "image/png": "[encoded data removed]",
      "text/plain": [
       "<Figure size 640x480 with 1 Axes>"
      ]
     },
     "metadata": {},
     "output_type": "display_data"
    }
   ],
   "source": [
    "dmot = df['amzius'].value_counts()\n",
    "\n",
    "imone = dmot.index\n",
    "kiekiai = dmot.values\n",
    "\n",
    "for li, ci in zip(imone, kiekiai):\n",
    "    print(li, ci)\n",
    "\n",
    "plt.pie(x=kiekiai, labels=imone, autopct='%.2f%%')\n",
    "plt.show()"
   ]
  },
  {
   "cell_type": "code",
   "execution_count": 164,
   "metadata": {},
   "outputs": [
    {
     "name": "stdout",
     "output_type": "stream",
     "text": [
      "50-59 10968\n",
      "40-49 10947\n",
      "30-39 9747\n",
      "20-29 9015\n",
      "60+ 3928\n",
      "14-19 347\n"
     ]
    },
    {
     "data": {
      "image/png": "[encoded data removed]",
      "text/plain": [
       "<Figure size 640x480 with 1 Axes>"
      ]
     },
     "metadata": {},
     "output_type": "display_data"
    }
   ],
   "source": [
    "dmot = df['amzius'].value_counts()\n",
    "\n",
    "imone = dmot.index\n",
    "kiekiai = dmot.values\n",
    "\n",
    "for li, ci in zip(imone, kiekiai):\n",
    "    print(li, ci)\n",
    "\n",
    "plt.pie(x=kiekiai, labels=imone, autopct='%.2f%%')\n",
    "plt.show()\n",
    "\n"
   ]
  },
  {
   "cell_type": "code",
   "execution_count": 173,
   "metadata": {},
   "outputs": [
    {
     "data": {
      "image/png": "[encoded data removed]",
      "text/plain": [
       "<Figure size 640x480 with 1 Axes>"
      ]
     },
     "metadata": {},
     "output_type": "display_data"
    },
    {
     "data": {
      "image/png": "[encoded data removed]",
      "text/plain": [
       "<Figure size 640x480 with 1 Axes>"
      ]
     },
     "metadata": {},
     "output_type": "display_data"
    }
   ],
   "source": [
    "df_mot = df[df['lytis'] == 'F']\n",
    "df_vyr = df[df['lytis'] == 'M']\n",
    "\n",
    "df_mot_kiekiai = df_mot['amzius'].value_counts()\n",
    "df_vyr_kiekiai = df_vyr['amzius'].value_counts()\n",
    "\n",
    "issilavinimas_m = df_mot_kiekiai.index\n",
    "issilavinimas_m = df_mot_kiekiai.values\n",
    "\n",
    "# for li, ci in zip(amzius_m, kiekiai_m):\n",
    "#     print(li, ci)\n",
    "\n",
    "plt.pie(x=issilavinimas_m, labels=issilavinimas_m, autopct='%.2f%%')\n",
    "plt.title(\"Moterys\")\n",
    "plt.show()\n",
    "\n",
    "amzius_v = df_vyr_kiekiai.index\n",
    "kiekiai_v = df_vyr_kiekiai.values\n",
    "\n",
    "# for li, ci in zip(amzius_v, kiekiai_v):\n",
    "#     print(li, ci)\n",
    "\n",
    "plt.pie(x=kiekiai_v, labels=amzius_v, autopct='%.2f%%')\n",
    "plt.title(\"Vyrai\")\n",
    "plt.show()"
   ]
  },
  {
   "cell_type": "code",
   "execution_count": 158,
   "metadata": {},
   "outputs": [
    {
     "name": "stdout",
     "output_type": "stream",
     "text": [
      "G2 22059\n",
      "G3 12178\n",
      "G4 8999\n",
      "G1 1716\n"
     ]
    },
    {
     "data": {
      "image/png": "[encoded data removed]",
      "text/plain": [
       "<Figure size 640x480 with 1 Axes>"
      ]
     },
     "metadata": {},
     "output_type": "display_data"
    }
   ],
   "source": [
    "dmot = df['issilavinimas'].value_counts()\n",
    "\n",
    "imone = dmot.index\n",
    "kiekiai = dmot.values\n",
    "\n",
    "for li, ci in zip(imone, kiekiai):\n",
    "    print(li, ci)\n",
    "\n",
    "plt.pie(x=kiekiai, labels=imone, autopct='%.2f%%')\n",
    "plt.show()"
   ]
  },
  {
   "cell_type": "code",
   "execution_count": null,
   "metadata": {},
   "outputs": [],
   "source": [
    "df_mot_kiekiai = df_mot['issilavinimas'].value_counts()\n",
    "df_vyr_kiekiai = df_vyr['issilavinimas'].value_counts()\n",
    "\n",
    "issilavinimas_m = df_mot_kiekiai.index\n",
    "issilavinimas_m = df_mot_kiekiai.values\n",
    "\n",
    "# for li, ci in zip(amzius_m, kiekiai_m):\n",
    "#     print(li, ci)\n",
    "\n",
    "plt.pie(x=issilavinimas_m, labels=issilavinimas_m, autopct='%.2f%%')\n",
    "plt.title(\"Moterys\")\n",
    "plt.show()"
   ]
  },
  {
   "cell_type": "code",
   "execution_count": 159,
   "metadata": {},
   "outputs": [
    {
     "name": "stdout",
     "output_type": "stream",
     "text": [
      "GT_250 20630\n",
      "50_249 12625\n",
      "1_49 11697\n"
     ]
    },
    {
     "data": {
      "image/png": "[encoded data removed]",
      "text/plain": [
       "<Figure size 640x480 with 1 Axes>"
      ]
     },
     "metadata": {},
     "output_type": "display_data"
    }
   ],
   "source": [
    "dmot = df['im_dydis'].value_counts()\n",
    "\n",
    "imone = dmot.index\n",
    "kiekiai = dmot.values\n",
    "\n",
    "for li, ci in zip(imone, kiekiai):\n",
    "    print(li, ci)\n",
    "\n",
    "plt.pie(x=kiekiai, labels=imone, autopct='%.2f%%')\n",
    "plt.show()"
   ]
  }
 ],
 "metadata": {
  "kernelspec": {
   "display_name": "Python 3",
   "language": "python",
   "name": "python3"
  },
  "language_info": {
   "codemirror_mode": {
    "name": "ipython",
    "version": 3
   },
   "file_extension": ".py",
   "mimetype": "text/x-python",
   "name": "python",
   "nbconvert_exporter": "python",
   "pygments_lexer": "ipython3",
   "version": "3.12.5"
  }
 },
 "nbformat": 4,
 "nbformat_minor": 2
}
