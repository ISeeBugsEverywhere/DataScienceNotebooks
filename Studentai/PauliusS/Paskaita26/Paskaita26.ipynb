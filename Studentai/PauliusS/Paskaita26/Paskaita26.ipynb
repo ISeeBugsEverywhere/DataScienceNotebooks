{
 "cells": [
  {
   "cell_type": "code",
   "execution_count": 18,
   "metadata": {},
   "outputs": [],
   "source": [
    "import numpy as np                      \n",
    "import matplotlib.pyplot as plt \n",
    "\n",
    "import glob \n",
    "\n",
    "# from manoFunkcijos import SolarAnalyzer"
   ]
  },
  {
   "cell_type": "code",
   "execution_count": 3,
   "metadata": {},
   "outputs": [],
   "source": [
    "dat_failai = glob.glob('*.dat')"
   ]
  },
  {
   "cell_type": "code",
   "execution_count": 4,
   "metadata": {},
   "outputs": [
    {
     "name": "stdout",
     "output_type": "stream",
     "text": [
      "['REF_D_1k_FW_2.08.dat', 'REF_D_2k_FW_2.05.dat', 'REF_D_3k_FW_2.03.dat', 'REF_D_4k_FW_2.05.dat', 'REF_D_5k_FW_2.05.dat', 'REF_D_5k_FW_2.07.dat', 'V1145_A_1k_FW_2.03.dat', 'V1145_A_2k_FW_2.03.dat', 'V1145_A_3k_FW_2.05.dat', 'V1145_A_4k_FW_2.07.dat', 'V1145_A_5k_FW_2.03.dat', 'V1145_A_6k_FW_2.03.dat', 'V1145_A_7k_FW_2.03.dat', 'V1145_B_1k_FW_2.03.dat', 'V1145_B_2k_FW_2.03.dat', 'V1145_B_3k_FW_2.03.dat', 'V1145_B_4k_FW_2.03.dat', 'V1145_B_5k_FW_2.03.dat', 'V1145_B_6k_FW_2.03.dat', 'V1145_B_7k_FW_2.03.dat', 'V1145_B_8k_FW_2.05.dat', 'V1177_C_1k_FW_2.05.dat', 'V1177_C_2k_FW_2.03.dat', 'V1177_C_3k_FW_2.03.dat', 'V1177_C_4k_FW_2.03.dat', 'V1178_E_1k_FW_2.03.dat', 'V1178_E_2k_FW_2.03.dat', 'V1178_E_3k_FW_2.05.dat', 'V1178_E_4k_FW_2.05.dat', 'V1178_E_5k_FW_2.05.dat', 'V1178_E_6k_FW_2.05.dat', 'V1178_E_7k_FW_2.03.dat', 'V1178_E_8k_FW_2.03.dat', 'V1179_F_1k_FW_2.08.dat', 'V1179_F_2k_FW_2.05.dat', 'V1179_F_3k_FW_2.05.dat', 'V1179_F_4k_FW_2.05.dat', 'V1179_F_5k_FW_2.07.dat', 'V1179_F_6k_FW_2.07.dat', 'V1179_F_7k_FW_2.07.dat']\n"
     ]
    }
   ],
   "source": [
    "print(dat_failai)\n",
    "# for ciklas kreiptis i analyzer, gauti 4 skaicius, append pagal medziagos koda ir saraso pav \n",
    "# 20 kintamuju \n",
    "# "
   ]
  },
  {
   "cell_type": "code",
   "execution_count": 5,
   "metadata": {},
   "outputs": [
    {
     "name": "stdout",
     "output_type": "stream",
     "text": [
      "REF\n",
      "REF\n",
      "REF\n",
      "REF\n",
      "REF\n",
      "REF\n",
      "V1145\n",
      "V1145\n",
      "V1145\n",
      "V1145\n",
      "V1145\n",
      "V1145\n",
      "V1145\n",
      "V1145\n",
      "V1145\n",
      "V1145\n",
      "V1145\n",
      "V1145\n",
      "V1145\n",
      "V1145\n",
      "V1145\n",
      "V1177\n",
      "V1177\n",
      "V1177\n",
      "V1177\n",
      "V1178\n",
      "V1178\n",
      "V1178\n",
      "V1178\n",
      "V1178\n",
      "V1178\n",
      "V1178\n",
      "V1178\n",
      "V1179\n",
      "V1179\n",
      "V1179\n",
      "V1179\n",
      "V1179\n",
      "V1179\n",
      "V1179\n"
     ]
    }
   ],
   "source": [
    "for failas in dat_failai: \n",
    "    m = failas.split('/')[-1].split('_')[0]\n",
    "    print(m)"
   ]
  },
  {
   "cell_type": "code",
   "execution_count": 6,
   "metadata": {},
   "outputs": [],
   "source": [
    "medziagos = []\n",
    "for failas in dat_failai: \n",
    "    m = failas.split('/')[-1].split('_')[0]\n",
    "    medziagos.append(m)\n",
    "medziagos = list(set(medziagos))"
   ]
  },
  {
   "cell_type": "code",
   "execution_count": 9,
   "metadata": {},
   "outputs": [
    {
     "name": "stdout",
     "output_type": "stream",
     "text": [
      "{'V1145': [], 'V1178': [], 'V1177': [], 'V1179': [], 'REF': []}\n"
     ]
    }
   ],
   "source": [
    "#surastus dydzius deti i sarasa, \n",
    "# o tuos sarasus laikyti atitinkamuose zodynuose.\n",
    "pce_dict = dict.fromkeys(medziagos, [])                 # fromkeys sugeneruoja zodyna, kur kiekvienas raktazodis paimtas is saraso\n",
    "print(pce_dict)                                         # \n"
   ]
  },
  {
   "cell_type": "code",
   "execution_count": null,
   "metadata": {},
   "outputs": [],
   "source": [
    "#pseudokodas:\n",
    "m = failas.split('_')[0]\n",
    "pce_list = pce.dict[m]      # kodas kuris savo koduo duoda neribota kieki failu su neribotu kiekiu medziagu\n",
    "pce_list.append(pce)        #"
   ]
  },
  {
   "cell_type": "code",
   "execution_count": null,
   "metadata": {},
   "outputs": [],
   "source": [
    "# paprastasis budas (20 sarasu, medziagai kiekvienam)\n",
    "pce_ref = []\n",
    "pce_v1145 = []              #galima tureti 20 sarasu ir uzpildyti juos nuskaitant faila \n",
    "                            #kai susirinksite sarasus, su boxplot galima susibraizyti sarasus "
   ]
  },
  {
   "cell_type": "code",
   "execution_count": null,
   "metadata": {},
   "outputs": [],
   "source": [
    "import glob\n",
    "all_txt = glob.glob('*.dat')\n",
    "print(all_txt)\n"
   ]
  },
  {
   "cell_type": "code",
   "execution_count": null,
   "metadata": {},
   "outputs": [],
   "source": [
    "#Sukurti klase SolarAnalyzer (manoFunkcijos faile)\n",
    "# Failu pasiekimas, nuskaitymas (DAT failai)\n",
    "# reikia pasiekti ir rasti siuos dydzius \n",
    "#Importuoti klase \n",
    "#Susirusiuoti gautus duomenis (pagal medziagos pavadinima)\n",
    "#Duomenis nubraizyti su boxplot() komanda (4 grafikai)"
   ]
  },
  {
   "cell_type": "code",
   "execution_count": 61,
   "metadata": {},
   "outputs": [],
   "source": [
    "%reload_ext autoreload\n",
    "%autoreload 2 -p          #restartavimas modulio"
   ]
  },
  {
   "cell_type": "code",
   "execution_count": 15,
   "metadata": {},
   "outputs": [
    {
     "name": "stdout",
     "output_type": "stream",
     "text": [
      "pce: 7.2185067\n",
      "jsc: -19.3017375\n",
      "Uoc: 0.8033333\n",
      "FF: -0.46553805637457313\n",
      "failo pav: V1145\n"
     ]
    }
   ],
   "source": [
    "class SolarAnalyzer:\n",
    "    def __init__(self, failas, skirtukas=';'):\n",
    "        self.failas = failas\n",
    "        self.skirtukas = skirtukas  # Priskiriamas skirtukas kaip klasės atributas\n",
    "        \n",
    "        self.UV = []\n",
    "        self.IA = []\n",
    "        self.J = []\n",
    "        self.P = []\n",
    "        \n",
    "        self.J_verte = None\n",
    "        self.U_verte = None\n",
    "\n",
    "    def read_file(self):\n",
    "        with open(self.failas, 'r', encoding='utf-8') as file:\n",
    "            next(file)  # Praleidžiama pirmoji eilutė\n",
    "            for line in file:\n",
    "                data = line.strip().split(self.skirtukas)  # Naudojamas skirtukas iš klasės atributo\n",
    "                self.UV.append(float(data[0]))\n",
    "                self.IA.append(float(data[1]))                     \n",
    "                self.J.append(float(data[2]))\n",
    "                self.P.append(float(data[3]))\n",
    "\n",
    "    def get_data(self):\n",
    "        return self.UV, self.IA, self.J, self.P      #dar 4 funkcijos/metodai \n",
    "    \n",
    "    def failo_pavadinimas(self):\n",
    "        return self.failas[:5]\n",
    "    \n",
    "    def pce(self):\n",
    "        minimalus = min(self.P)\n",
    "        return abs(minimalus)\n",
    "    \n",
    "    def jsc(self):\n",
    "        artimiausias_nuliui = [abs(x) for x in self.UV]\n",
    "        jsc_skaicius = min(artimiausias_nuliui)\n",
    "        Jindeksas = self.UV.index(jsc_skaicius)\n",
    "        J_verte = self.J[Jindeksas]\n",
    "        return J_verte\n",
    "    \n",
    "    def Uoc(self):\n",
    "        artimas_nuliui2 = [abs(x) for x in self.J]\n",
    "        Uoc_skaicius = min(artimas_nuliui2)\n",
    "        Uindeksas = self.J.index(Uoc_skaicius)\n",
    "        U_verte = self.UV[Uindeksas]\n",
    "        return U_verte\n",
    "    \n",
    "    def FF(self):\n",
    "        pce_skaicius = self.pce()\n",
    "        jsc_skaicius = self.jsc()\n",
    "        Uoc_skaicius = self.Uoc()\n",
    "        \n",
    "        FFrezultatas = pce_skaicius/(jsc_skaicius * Uoc_skaicius)\n",
    "        return FFrezultatas\n",
    "                           \n",
    "\n",
    "# Naudojimas\n",
    "analyzer = SolarAnalyzer(\"V1145_A_1k_FW_2.03.dat\", ';')  # Tinkamas skirtuko perdavimas\n",
    "analyzer.read_file()\n",
    "UV, IA, J, P = analyzer.get_data()\n",
    "\n",
    "print('pce:', analyzer.pce())\n",
    "print('jsc:', analyzer.jsc())\n",
    "print('Uoc:', analyzer.Uoc())\n",
    "print('FF:', analyzer.FF())\n",
    "print('failo pav:', analyzer.failo_pavadinimas())\n",
    "\n",
    "# print(UV)\n",
    "# print(IA)\n",
    "# print(J)\n",
    "# print(P)\n",
    "\n",
    "#for files in failus sarasas kad gauti 4 rezultatus "
   ]
  },
  {
   "cell_type": "code",
   "execution_count": 21,
   "metadata": {},
   "outputs": [
    {
     "name": "stdout",
     "output_type": "stream",
     "text": [
      "['REF_D_1k_FW_2.08.dat', 'REF_D_2k_FW_2.05.dat', 'REF_D_3k_FW_2.03.dat', 'REF_D_4k_FW_2.05.dat', 'REF_D_5k_FW_2.05.dat', 'REF_D_5k_FW_2.07.dat', 'V1145_A_1k_FW_2.03.dat', 'V1145_A_2k_FW_2.03.dat', 'V1145_A_3k_FW_2.05.dat', 'V1145_A_4k_FW_2.07.dat', 'V1145_A_5k_FW_2.03.dat', 'V1145_A_6k_FW_2.03.dat', 'V1145_A_7k_FW_2.03.dat', 'V1145_B_1k_FW_2.03.dat', 'V1145_B_2k_FW_2.03.dat', 'V1145_B_3k_FW_2.03.dat', 'V1145_B_4k_FW_2.03.dat', 'V1145_B_5k_FW_2.03.dat', 'V1145_B_6k_FW_2.03.dat', 'V1145_B_7k_FW_2.03.dat', 'V1145_B_8k_FW_2.05.dat', 'V1177_C_1k_FW_2.05.dat', 'V1177_C_2k_FW_2.03.dat', 'V1177_C_3k_FW_2.03.dat', 'V1177_C_4k_FW_2.03.dat', 'V1178_E_1k_FW_2.03.dat', 'V1178_E_2k_FW_2.03.dat', 'V1178_E_3k_FW_2.05.dat', 'V1178_E_4k_FW_2.05.dat', 'V1178_E_5k_FW_2.05.dat', 'V1178_E_6k_FW_2.05.dat', 'V1178_E_7k_FW_2.03.dat', 'V1178_E_8k_FW_2.03.dat', 'V1179_F_1k_FW_2.08.dat', 'V1179_F_2k_FW_2.05.dat', 'V1179_F_3k_FW_2.05.dat', 'V1179_F_4k_FW_2.05.dat', 'V1179_F_5k_FW_2.07.dat', 'V1179_F_6k_FW_2.07.dat', 'V1179_F_7k_FW_2.07.dat']\n"
     ]
    }
   ],
   "source": [
    "dat_failai = glob.glob('*.dat')\n",
    "print(dat_failai)"
   ]
  },
  {
   "cell_type": "code",
   "execution_count": null,
   "metadata": {},
   "outputs": [],
   "source": []
  },
  {
   "cell_type": "code",
   "execution_count": 16,
   "metadata": {},
   "outputs": [
    {
     "name": "stdout",
     "output_type": "stream",
     "text": [
      "[]\n"
     ]
    }
   ],
   "source": [
    "REFV = []\n",
    "V1145V = []\n",
    "V1177V = []\n",
    "V1178V = []\n",
    "V1179V = []\n",
    "\n",
    "REFJ = []\n",
    "V1145J = []\n",
    "V1177J = []\n",
    "V1178J = []\n",
    "V1179J = []\n",
    "\n",
    "REFFF = []\n",
    "V1145FF = []\n",
    "V1177FF = []\n",
    "V1178FF = []\n",
    "V1179FF = []\n",
    "\n",
    "REFP = []\n",
    "V1145P = []\n",
    "V1177P = []\n",
    "V1178P = []\n",
    "V1179P = []"
   ]
  },
  {
   "cell_type": "code",
   "execution_count": null,
   "metadata": {},
   "outputs": [],
   "source": []
  },
  {
   "cell_type": "code",
   "execution_count": null,
   "metadata": {},
   "outputs": [],
   "source": [
    "# for ciklas kreiptis i analyzer, gauti 4 skaicius, append pagal medziagos koda ir saraso pav \n",
    "# 20 kintamuju \n",
    "# "
   ]
  },
  {
   "cell_type": "code",
   "execution_count": 79,
   "metadata": {},
   "outputs": [
    {
     "name": "stdout",
     "output_type": "stream",
     "text": [
      "['1.2 ', '1.1766667 ', '1.1533333 ', '1.13 ', '1.1066667 ', '1.0833333 ', '1.06 ', '1.0366667 ', '1.0133333 ', '0.99 ', '0.9666667 ', '0.9433333 ', '0.92 ', '0.8966667 ', '0.8733333 ', '0.85 ', '0.8266667 ', '0.8033333 ', '0.78 ', '0.7566667 ', '0.7333333 ', '0.71 ', '0.6866667 ', '0.6633333 ', '0.64 ', '0.6166667 ', '0.5933333 ', '0.57 ', '0.5466667 ', '0.5233333 ', '0.5 ', '0.4766667 ', '0.4533333 ', '0.43 ', '0.4066667 ', '0.3833333 ', '0.36 ', '0.3366667 ', '0.3133333 ', '0.29 ', '0.2666667 ', '0.2433333 ', '0.22 ', '0.1966667 ', '0.1733333 ', '0.15 ', '0.1266667 ', '0.1033333 ', '0.08 ', '0.0566667 ', '0.0333333 ', '0.01 ', '-0.0133333 ', '-0.0366667 ', '-0.06 ', '-0.0833333 ', '-0.1066667 ', '-0.13 ', '-0.1533333 ', '-0.1766667 ', '-0.2 ']\n",
      "[' 0.0037521 ', ' 0.002875 ', ' 0.0024276 ', ' 0.002153 ', ' 0.0019373 ', ' 0.0017461 ', ' 0.0015719 ', ' 0.0014066 ', ' 0.0012469 ', ' 0.0010902 ', ' 0.0009514 ', ' 0.000811 ', ' 0.0006783 ', ' 0.0005482 ', ' 0.0004149 ', ' 0.0002862 ', ' 0.0001595 ', ' 3.3e-05 ', ' -9.07e-05 ', ' -0.0002102 ', ' -0.0003306 ', ' -0.0004438 ', ' -0.0005545 ', ' -0.0006548 ', ' -0.0007496 ', ' -0.000839 ', ' -0.0009173 ', ' -0.0009843 ', ' -0.0010463 ', ' -0.0011035 ', ' -0.0011491 ', ' -0.0011965 ', ' -0.001229 ', ' -0.0012598 ', ' -0.0012918 ', ' -0.0013244 ', ' -0.0013438 ', ' -0.0013666 ', ' -0.0013838 ', ' -0.0014033 ', ' -0.0014139 ', ' -0.0014334 ', ' -0.0014555 ', ' -0.0014707 ', ' -0.0014785 ', ' -0.0014883 ', ' -0.0015063 ', ' -0.0015044 ', ' -0.0015159 ', ' -0.0015341 ', ' -0.0015366 ', ' -0.0015441 ', ' -0.0015481 ', ' -0.0015595 ', ' -0.0015639 ', ' -0.0015726 ', ' -0.0015794 ', ' -0.0015872 ', ' -0.0015994 ', ' -0.0016064 ', ' -0.001616 ']\n",
      "[' 46.901825 ', ' 35.9376875 ', ' 30.345225 ', ' 26.9123 ', ' 24.2162125 ', ' 21.82605 ', ' 19.6491625 ', ' 17.5828 ', ' 15.5867375 ', ' 13.627625 ', ' 11.8927837 ', ' 10.1372737 ', ' 8.4789837 ', ' 6.8519863 ', ' 5.18603 ', ' 3.5778425 ', ' 1.9933937 ', ' 0.4128312 ', ' -1.1331364 ', ' -2.6271862 ', ' -4.1322713 ', ' -5.5470187 ', ' -6.93155 ', ' -8.1853638 ', ' -9.3695125 ', ' -10.4872963 ', ' -11.46568 ', ' -12.303375 ', ' -13.0784875 ', ' -13.793325 ', ' -14.3635125 ', ' -14.956475 ', ' -15.3631125 ', ' -15.748025 ', ' -16.146925 ', ' -16.555475 ', ' -16.7971875 ', ' -17.082275 ', ' -17.2974375 ', ' -17.5411375 ', ' -17.6736 ', ' -17.9177375 ', ' -18.1932375 ', ' -18.3839625 ', ' -18.4808 ', ' -18.6042375 ', ' -18.8287125 ', ' -18.8052625 ', ' -18.9486625 ', ' -19.176125 ', ' -19.20715 ', ' -19.3017375 ', ' -19.3518 ', ' -19.4935 ', ' -19.549175 ', ' -19.6577875 ', ' -19.7426625 ', ' -19.84035 ', ' -19.992325 ', ' -20.0802625 ', ' -20.1994125 ']\n"
     ]
    }
   ],
   "source": [
    "# analyzer = SolarAnalyzer(\"V1145_A_1k_FW_2.03.dat\", ';')  # Tinkamas skirtuko perdavimas\n",
    "# analyzer.read_file()\n",
    "# refU, refI, refJ, refP = analyzer.get_data()"
   ]
  }
 ],
 "metadata": {
  "kernelspec": {
   "display_name": "Python 3",
   "language": "python",
   "name": "python3"
  },
  "language_info": {
   "codemirror_mode": {
    "name": "ipython",
    "version": 3
   },
   "file_extension": ".py",
   "mimetype": "text/x-python",
   "name": "python",
   "nbconvert_exporter": "python",
   "pygments_lexer": "ipython3",
   "version": "3.12.5"
  }
 },
 "nbformat": 4,
 "nbformat_minor": 2
}
