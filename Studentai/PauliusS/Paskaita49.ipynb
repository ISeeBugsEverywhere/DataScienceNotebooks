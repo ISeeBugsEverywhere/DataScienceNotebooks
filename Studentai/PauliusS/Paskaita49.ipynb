{
 "cells": [
  {
   "cell_type": "code",
   "execution_count": 1,
   "metadata": {},
   "outputs": [],
   "source": [
    "import numpy as np\n",
    "import pandas as pd\n",
    "import matplotlib.pyplot as plt\n",
    "import warnings\n",
    "warnings.filterwarnings('ignore')\n",
    "import seaborn as sns\n",
    "import requests\n",
    "import plotly.express as px\n",
    "from datetime import datetime\n",
    "from bs4 import BeautifulSoup\n",
    "import requests\n",
    "import selenium \n",
    "from selenium.webdriver.chrome.options import Options \n",
    "from selenium import webdriver \n",
    "from bs4 import BeautifulSoup\n",
    "import time"
   ]
  },
  {
   "cell_type": "code",
   "execution_count": 2,
   "metadata": {},
   "outputs": [],
   "source": [
    "import typing as T"
   ]
  },
  {
   "cell_type": "code",
   "execution_count": 4,
   "metadata": {},
   "outputs": [
    {
     "name": "stdout",
     "output_type": "stream",
     "text": [
      "[314.1592653589793, 4188.790204786391, 1256.6370614359173]\n"
     ]
    }
   ],
   "source": [
    "import math\n",
    "def plotas_turis_pavirsius(r):\n",
    "    plotas = math.pi * r ** 2\n",
    "    turis = (4/3) * math.pi * r ** 3\n",
    "    pavirsius = 4 * math.pi * r ** 2\n",
    "    return [plotas, turis, pavirsius]\n",
    "\n",
    "\n",
    "print(plotas_turis_pavirsius(10))\n"
   ]
  },
  {
   "cell_type": "code",
   "execution_count": null,
   "metadata": {},
   "outputs": [],
   "source": [
    "#  funkcija, skirta sudėtinių srašų (nested list) plokštinimui (flatten):\n",
    "#  tarkim, duodami duomenys [1,2,[2,4,5],6,7] ---> rezultatas ---> 1,2,2,4,5,6,7\n",
    "# Parašyti naudojantis tik ciklus ir if'us, ištestuoti pateikiant įvairius duomenis\n",
    "\n",
    "\n",
    "#  Parašykite funkcijas ir testus toms funkcijoms:\n",
    "#  Funkcija turi grąžinti  5kių populiariausių gamintojų sąrašą\n",
    "#  Funkcija turi surasti vidutines auto kainas (sąrašą) top 5kiems gamintojams.\n",
    "#  Fukcija turi\n",
    "#  SVARBU : duomenis turite šioms funkcijoms pateikti iš savo SQLite DB, pasinaudoti setUp metodu. SQLite DB turi pateikti raw duomenis (nerikiuoti, neapdoroti, negrupuoti papildomai).\n",
    "# pasinaudokite tearDown() metodu - uždarykite SQLite DB po testų."
   ]
  },
  {
   "cell_type": "code",
   "execution_count": 19,
   "metadata": {},
   "outputs": [
    {
     "name": "stdout",
     "output_type": "stream",
     "text": [
      "[1, 2, 3, 4, 5, 6, 8, 9, 10]\n"
     ]
    }
   ],
   "source": [
    "def nested_list(sarasas):\n",
    "    naujas_sarasas = []\n",
    "    for i in sarasas:\n",
    "        if isinstance(i, list):  \n",
    "            naujas_sarasas.extend(nested_list(i))  \n",
    "        else:\n",
    "            naujas_sarasas.append(i)  \n",
    "    return naujas_sarasas\n",
    "\n",
    "\n",
    "print(nested_list([1,2,3,[4,5,6],8,[9,10]]))\n"
   ]
  },
  {
   "cell_type": "code",
   "execution_count": null,
   "metadata": {},
   "outputs": [],
   "source": [
    "#  Parašykite funkcijas ir testus toms funkcijoms:\n",
    "#  Funkcija turi grąžinti  5kių populiariausių gamintojų sąrašą\n",
    "#  Funkcija turi surasti vidutines auto kainas (sąrašą) top 5kiems gamintojams.\n",
    "#  Fukcija turi\n",
    "#  SVARBU : duomenis turite šioms funkcijoms pateikti iš savo SQLite DB, pasinaudoti setUp metodu. SQLite DB turi pateikti raw duomenis (nerikiuoti, neapdoroti, negrupuoti papildomai).\n",
    "# pasinaudokite tearDown() metodu - uždarykite SQLite DB po testų.\n",
    "\n",
    "\n"
   ]
  }
 ],
 "metadata": {
  "kernelspec": {
   "display_name": "Python 3",
   "language": "python",
   "name": "python3"
  },
  "language_info": {
   "codemirror_mode": {
    "name": "ipython",
    "version": 3
   },
   "file_extension": ".py",
   "mimetype": "text/x-python",
   "name": "python",
   "nbconvert_exporter": "python",
   "pygments_lexer": "ipython3",
   "version": "3.12.7"
  }
 },
 "nbformat": 4,
 "nbformat_minor": 2
}
