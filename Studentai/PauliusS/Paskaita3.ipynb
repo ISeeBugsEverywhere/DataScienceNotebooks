{
 "cells": [
  {
   "cell_type": "code",
   "execution_count": 1,
   "metadata": {},
   "outputs": [
    {
     "data": {
      "text/plain": [
       "3"
      ]
     },
     "execution_count": 1,
     "metadata": {},
     "output_type": "execute_result"
    }
   ],
   "source": [
    "7//2  #floor()  - sveikas skaicius i mazesne puse "
   ]
  },
  {
   "cell_type": "code",
   "execution_count": 4,
   "metadata": {},
   "outputs": [
    {
     "name": "stdout",
     "output_type": "stream",
     "text": [
      "Lyginis\n"
     ]
    }
   ],
   "source": [
    "i = int(input('Įveskite skaičių'))\n",
    "ats = 'Lyginis' if i % 2 == 0 else 'Nelyginis' #salyga apibrezia kas yra lyginis. Jei liekana yra lygi nuliui, tada lyginis\n",
    "print(ats)"
   ]
  },
  {
   "cell_type": "code",
   "execution_count": 7,
   "metadata": {},
   "outputs": [
    {
     "name": "stdout",
     "output_type": "stream",
     "text": [
      "a maziau uz b\n"
     ]
    }
   ],
   "source": [
    "a = 10\n",
    "b = 20 \n",
    "ats = \"a lygus b\" if a == b else \"a maziau uz b\" if a < b else \"a daugiau uz b\"\n",
    "print(ats)   # kodel rasome =="
   ]
  },
  {
   "cell_type": "code",
   "execution_count": 14,
   "metadata": {},
   "outputs": [
    {
     "name": "stdout",
     "output_type": "stream",
     "text": [
      "jus negalite balsuoti\n"
     ]
    }
   ],
   "source": [
    "# • Liepkite vartotojui suvesti savo amžių. Patikrinkite ar amžius\n",
    "# yra didesnis arba lygus 18-ai, jei taip - išveskite “jūs galite\n",
    "# balsuoti”.\n",
    "\n",
    "\n",
    "amzius = int(input('Iveskite savo amziu'))\n",
    "if amzius >= 18:\n",
    "    print('jus galite balsuoti')\n",
    "else:\n",
    "    print('jus negalite balsuoti')"
   ]
  },
  {
   "cell_type": "code",
   "execution_count": null,
   "metadata": {},
   "outputs": [],
   "source": [
    "# • Leiskite vartotojui suvesti norimą kiekį pažymių (pavyzdžiui,\n",
    "# jūs nusimatote 3-is kintamuosius, tai leidžiate padaryti 3\n",
    "# įvedimus). Raskite šių pažymių vidurkį. Patikrinkite ar\n",
    "# vidurkis teigiamas (daugiau arba lygu 5-iems), jei taip -\n",
    "# išveskite 'vidurkis teigiamas'.\n",
    "\n",
    "pazymiai = int(input('iveskite pirma pazymi'))\n"
   ]
  },
  {
   "cell_type": "code",
   "execution_count": 32,
   "metadata": {},
   "outputs": [
    {
     "name": "stdout",
     "output_type": "stream",
     "text": [
      "6\n",
      "36\n",
      "3.0\n",
      "19 5 84\n"
     ]
    }
   ],
   "source": [
    "# • Susikurkite skaičiaus kintamąjį arba leiskite šį skaičių įvesti\n",
    "# vartotojui.\n",
    "# Atlikite šiuos patikrinimus ir veiksmus:\n",
    "# 1. Jei skaičius dalinasi iš 5, tuomet išveskite tekstą \"Labas\", pakartotą tiek kartų, koks įvestas buvo skaičius.\n",
    "# 2. Jei skaičius lyginis, tuomet išveskite šį skaičių, jo kvadratą ir\n",
    "# jį padalintą iš 2.\n",
    "# 3. Jei skaičius nesidalina iš 7, tuomet susikurkite antrąjį\n",
    "# kintamąjį, išveskite šio skaičiaus ir 7-to sumą, skirtumą ir sandaugą.\n",
    "\n",
    "skaicius = int(input('Iveskite skaiciu'))\n",
    "if skaicius % 5 == 0:\n",
    "    print('Labas'* skaicius)\n",
    "if skaicius % 2 == 0:\n",
    "    print(skaicius)\n",
    "    print(skaicius ** 2)\n",
    "    print(skaicius / 2)\n",
    "if skaicius % 7 != 0:\n",
    "    skaicius2 = int(input('iveskite antra skaiciu'))\n",
    "    print(skaicius2 + 7, skaicius2 - 7, skaicius2 * 7)\n",
    "\n"
   ]
  },
  {
   "cell_type": "code",
   "execution_count": 33,
   "metadata": {},
   "outputs": [
    {
     "name": "stdout",
     "output_type": "stream",
     "text": [
      "a maziau uz b\n"
     ]
    }
   ],
   "source": [
    "# • Parašyti programą, kuri paklaustų dviejų skaičių, ir juos\n",
    "# palygintų.\n",
    "# \n",
    "\n",
    "a = int(input('Iveskite pirma skaiciu'))\n",
    "b = int(input('Iveskite antra skaiciu'))\n",
    "ats = \"a lygus b\" if a == b else \"a maziau uz b\" if a < b else \"a daugiau uz b\"\n",
    "print(ats)   # kodel rasome ==\n",
    "\n",
    "\n",
    "\n",
    "\n"
   ]
  },
  {
   "cell_type": "code",
   "execution_count": 36,
   "metadata": {},
   "outputs": [
    {
     "name": "stdout",
     "output_type": "stream",
     "text": [
      "ne\n"
     ]
    }
   ],
   "source": [
    "#  Paklausti teksto, ir patikrinti, ar tas tekstas yra sakinyje\n",
    "# \"Vilnius yra UNESCO paveldas nuo 1996 metų.\"\n",
    "\n",
    "\n",
    "sakinys = \"Vilnius yra UNESCO paveldas nuo 1996 metų.\"\n",
    "a = input('Iveskite teksta')\n",
    "if a in sakinys:\n",
    "    print('taip')\n",
    "else:\n",
    "    print('ne')"
   ]
  },
  {
   "cell_type": "code",
   "execution_count": 49,
   "metadata": {},
   "outputs": [
    {
     "name": "stdout",
     "output_type": "stream",
     "text": [
      "lyginis\n",
      "Fizz\n",
      "42\n"
     ]
    }
   ],
   "source": [
    "# • Patikrinti įvestą skaičių, ar jis yra tarp 10 ir 20. Pavyzdžiui,\n",
    "# įvedus 15, turi spausdinti: \"15 yra tarp 10 ir 20\"\n",
    "# • Patikrinti, ar vartotojo įvestas skaičius yra lyginis, ar ne.\n",
    "# • parašyti programą 'FizzBuzz'. Įvedus skaičių, kuris dalinasi\n",
    "# iš 3, spausdinamas žodis \"Fizz\", jei dalinasi iš 5 - \"Buzz\", o jei\n",
    "# dalinasi ir iš 3 ir iš 5 - \"FizzBuzz\". Jei nesidalina nei iš 3, nei iš\n",
    "# 5 - spausdinamas įvestas skaičius.\n",
    "\n",
    "\n",
    "a = int(input('Iveskite skaiciu'))\n",
    "if  10 < a < 20:\n",
    "    print('{a} yra tarp 10 ir 20')\n",
    "if a % 2 == 0:\n",
    "    print('lyginis')\n",
    "else:\n",
    "    print('nelyginis')\n",
    "if a % 3 == 0:\n",
    "    print(\"Fizz\")\n",
    "if a % 5 == 0: \n",
    "    print('Buzz')\n",
    "if a % 5 == 0 and a % 3 == 0:\n",
    "    print('Fizzbuzz')\n",
    "else:\n",
    "    print(a)\n",
    "\n",
    "    \n",
    "    "
   ]
  },
  {
   "cell_type": "code",
   "execution_count": 53,
   "metadata": {},
   "outputs": [
    {
     "ename": "SyntaxError",
     "evalue": "invalid syntax. Maybe you meant '==' or ':=' instead of '='? (3424981103.py, line 9)",
     "output_type": "error",
     "traceback": [
      "\u001b[1;36m  Cell \u001b[1;32mIn[53], line 9\u001b[1;36m\u001b[0m\n\u001b[1;33m    if a = '':\u001b[0m\n\u001b[1;37m       ^\u001b[0m\n\u001b[1;31mSyntaxError\u001b[0m\u001b[1;31m:\u001b[0m invalid syntax. Maybe you meant '==' or ':=' instead of '='?\n"
     ]
    }
   ],
   "source": [
    "# • Patikrinkite vartotojo įvestą tekstą:\n",
    "# • Ar vartotojas apskritai ką nors įvedė?\n",
    "# • Ar jame vien tik skaičiai?\n",
    "# • Ar jame vien tik raidės?\n",
    "# • Ar jame nėra specialiųjų simbolių?\n",
    "# • Kokiu registru parašytas tekstas?\n",
    "\n",
    "a = input('Iveskite teksta')\n",
    "if a = '' \n",
    "\n",
    "#laikant kairi alt galima rasyti su keliais kursoriais "
   ]
  },
  {
   "cell_type": "code",
   "execution_count": 54,
   "metadata": {},
   "outputs": [
    {
     "name": "stdout",
     "output_type": "stream",
     "text": [
      "centimetrai 15000 milimetrai 150000 kilometrai 0.15\n"
     ]
    }
   ],
   "source": [
    "# • Leiskite vartotojui įvesti metrus. Išveskite, kiek tai gaunasi\n",
    "# centimetrais, milimetrais ir kilometrais.\n",
    "\n",
    "a = int(input('iveskite metrus'))\n",
    "cm = a * 100\n",
    "mm = a * 1000\n",
    "km = a / 1000\n",
    "print('centimetrai', cm, 'milimetrai', mm, 'kilometrai', km)\n",
    "\n",
    "\n",
    "\n"
   ]
  },
  {
   "cell_type": "code",
   "execution_count": 60,
   "metadata": {},
   "outputs": [
    {
     "name": "stdout",
     "output_type": "stream",
     "text": [
      "1.0\n"
     ]
    }
   ],
   "source": [
    "# • Leiskite vartotojui įvesti du norimus skaičius. Išveskite kokia\n",
    "# gaunasi liekana padalinus vieną skaičių iš kito.\n",
    "\n",
    "a = float(input('iveskite 1 skaiciu'))\n",
    "b = float(input('iveskite 2 skaiciu '))\n",
    "\n",
    "liekana = a % b \n",
    "print(liekana)\n",
    "\n"
   ]
  },
  {
   "cell_type": "code",
   "execution_count": 61,
   "metadata": {},
   "outputs": [
    {
     "name": "stdout",
     "output_type": "stream",
     "text": [
      "9.0\n"
     ]
    }
   ],
   "source": [
    "# • Leiskite vartotojui įvesti du skaičius. Išveskite kiek gautųsi\n",
    "# vieną skaičių pakėlus kito skaičiaus laipsniu (pvz, pirmas\n",
    "# skaičius eina už pagrindą, o antras skaičius yra laipsnis,\n",
    "# kuriuo ir keliame).\n",
    "\n",
    "a = float(input('iveskite 1 skaiciu'))\n",
    "b = float(input('iveskite 2 skaiciu '))\n",
    "\n",
    "laipsniu = a ** b\n",
    "print(laipsniu)"
   ]
  },
  {
   "cell_type": "code",
   "execution_count": 99,
   "metadata": {},
   "outputs": [
    {
     "name": "stdout",
     "output_type": "stream",
     "text": [
      "pirmas Python antras kalba\n",
      "['yra', 'programavimo']\n",
      "priespaskutinio elemento tipas: <class 'str'>\n",
      "pirmo elemento tipas: <class 'str'> pirmo elemento simboliai: 6\n",
      "['Aš', 'rytais', 'mėgstu', 'kavą', 'su', 'sumuštiniais', 'ir', 'arbatą', 'su', 'pyragu']\n",
      "10\n",
      "['Aš', 'mėgstu', 'su', 'ir', 'su']\n"
     ]
    }
   ],
   "source": [
    "# lst = [\"Python\", \"yra\", \"lengva\", \"programavimo\", \"kalba\"]\n",
    "# # • Išveskite pirmą, paskutinį elementus\n",
    "# # • Išveskite kas antrą elementą\n",
    "# # • Išveskite priešpaskutinio elemento tipą\n",
    "# # • Patikrinkite, ar pirmasis sąrašo elementas yra tekstas, ir kiek\n",
    "# # simbolių jis turi.\n",
    "\n",
    "\n",
    "lst = [\"Python\", \"yra\", \"lengva\", \"programavimo\", \"kalba\"]\n",
    "pirmas = lst[0]\n",
    "antras = lst[-1]\n",
    "print('pirmas', pirmas, 'antras', antras)\n",
    "kas_antras = lst[1::2]\n",
    "print(kas_antras)\n",
    "priespaskutinio_elemento_tipas = lst[-2]\n",
    "priespaskutinio_elemento_tipas = type(priespaskutinio_elemento_tipas)\n",
    "print('priespaskutinio elemento tipas:', priespaskutinio_elemento_tipas)\n",
    "pirmas_elementas = lst[0]\n",
    "pirmo_elemento_tipas = type(pirmas_elementas)\n",
    "pirmo_elemento_simboliai = len(pirmas_elementas)\n",
    "print('pirmo elemento tipas:', pirmo_elemento_tipas, 'pirmo elemento simboliai:', pirmo_elemento_simboliai)\n",
    "\n",
    "# txt = \"Aš rytais mėgstu kavą su sumuštiniais ir arbatą su pyragu\"\n",
    "# # • Suskaičiuokite, kiek šiame tekste yra žodžių.\n",
    "# # • Išveskite tekstą be kas antro žodžio\n",
    "\n",
    "txt = \"Aš rytais mėgstu kavą su sumuštiniais ir arbatą su pyragu\"\n",
    "\n",
    "zodziai = txt.split()\n",
    "print(zodziai)\n",
    "print(len(zodziai))\n",
    "print(zodziai[::2])\n",
    "\n",
    "\n"
   ]
  },
  {
   "cell_type": "code",
   "execution_count": 98,
   "metadata": {},
   "outputs": [
    {
     "name": "stdout",
     "output_type": "stream",
     "text": [
      "1323\n",
      "VILNIUS\n",
      "Nupirkti maisto\n"
     ]
    }
   ],
   "source": [
    "# # Sąrašai gali turėti savyje bet kokį objektą, kad ir kitą sąrašą\n",
    "# # (sudėtinis sąrašas (nested list)).\n",
    "# l = [\"Vilnius\", 1323, [\"Nupirkti maisto\", \"PABėgioti\"], 8, \"Rytas\"]\n",
    "# # • Išveskite Vilniaus paminėjimo metus, žodį ”Vilnius”\n",
    "# # didžiosiomis raidėmis\n",
    "# # • Išveskite žodžio ”maisto” paskutines tris raides didžiosiomis.\n",
    "# # • Užrašykite kodą, kuris patikrintų, ar žodžio ”Pabėgioti” pirmi\n",
    "# # trys simboliai yra didžiosios raidės.\n",
    "\n",
    "l = [\"Vilnius\", 1323, [\"Nupirkti maisto\", \"PABėgioti\"], 8, \"Rytas\"]\n",
    "\n",
    "print(l[1])\n",
    "print(l[0].upper())\n",
    "maisto = l[2]\n",
    "maisto2 = maisto[0]\n",
    "print(maisto2)\n",
    "\n"
   ]
  },
  {
   "cell_type": "code",
   "execution_count": 110,
   "metadata": {},
   "outputs": [
    {
     "name": "stdout",
     "output_type": "stream",
     "text": [
      "{1, 2, 3, 4, 5, 6, 'b', 'a'}\n",
      "{1, 2, 3}\n",
      "{4, 'a'}\n",
      "{'b', 5, 6, 4, 'a'}\n",
      "{1, 2, 3, 4, 5, 8}\n",
      "[1, 2, 3, 4, 5, 8]\n"
     ]
    }
   ],
   "source": [
    "# a_set={1,2,3,4, 'a'}\n",
    "# b_set={1,2,3,5,6,'b'}\n",
    "# • raskite sąjungą šių rinkinių;\n",
    "# • raskite, kokie elementai buvo bendri abiems rinkiniams?\n",
    "# • raskite, kokiais elementais skiriasi a_set nuo b_set?\n",
    "# • pašalinkite bendrus elementus tarp a_set ir b_set, likusius\n",
    "# elementus išspausdinkite.\n",
    "# l = [1,1,2,2,3,4,5,5,5,8,8,1,2]\n",
    "# • Pašalinkite pasikartojančius elementus iš šio l sąrašo.\n",
    "\n",
    "a_set={1,2,3,4, 'a'}\n",
    "b_set={1,2,3,5,6,'b'}\n",
    "\n",
    "\n",
    "print(a_set.union(b_set))\n",
    "print(a_set.intersection(b_set))\n",
    "print(a_set.difference(b_set))\n",
    "print(a_set.symmetric_difference(b_set))\n",
    "\n",
    "\n",
    "l = [1,1,2,2,3,4,5,5,5,8,8,1,2]\n",
    "l1=set(l)\n",
    "print(l1)\n",
    "\n",
    "l2 = list(set(l))\n",
    "print(l2)"
   ]
  }
 ],
 "metadata": {
  "kernelspec": {
   "display_name": "Python 3",
   "language": "python",
   "name": "python3"
  },
  "language_info": {
   "codemirror_mode": {
    "name": "ipython",
    "version": 3
   },
   "file_extension": ".py",
   "mimetype": "text/x-python",
   "name": "python",
   "nbconvert_exporter": "python",
   "pygments_lexer": "ipython3",
   "version": "3.12.4"
  }
 },
 "nbformat": 4,
 "nbformat_minor": 2
}
