{
 "cells": [
  {
   "cell_type": "code",
   "execution_count": 1,
   "metadata": {},
   "outputs": [],
   "source": [
    "# Python bibliotekos\n",
    "import numpy as np                  # \"numpy\" yra biblioteka darbui su didelėmis, daugiamatėmis masyvų ir matricų kolekcijomis bei matematinėmis funkcijomis\n",
    "import pandas as pd                 # \"pandas\" suteikia struktūras duomenims ir įrankius jų analizei, pvz., DataFrame\n",
    "import matplotlib.pyplot as plt     # \"matplotlib.pyplot\" yra vizualizacijos biblioteka, leidžianti piešti įvairius grafikus\n",
    "import warnings                     # \"warnings\" leidžia valdyti įspėjimus: juos ignoruoti, spausdinti, ar klaidinti\n",
    "import requests                     # \"requests\" leidžia siųsti HTTP užklausas naudojant Python\n",
    "from datetime import datetime       # \"datetime\" modulis suteikia funkcijas darbui su data ir laiku\n",
    "from bs4 import BeautifulSoup       # \"BeautifulSoup\" padeda atlikti internetinių puslapių šaltinio kodo (HTML, XML) analizę ir duomenų surinkimą\n",
    "import time                         # \"time\" modulis suteikia funkcijas, susijusias su laiku, pvz., laiko gaišimą ar laiko matavimą\n",
    "import sqlite3                      # \"sqlite3\" leidžia dirbti su SQLite duomenų bazėmis, atliekant duomenų saugojimo, atnaujinimo ir gavimo operacijas\n",
    "from numpy.polynomial import Polynomial\n",
    "import numpy as np\n",
    "import matplotlib.pyplot as plt\n",
    "import seaborn as sns\n",
    "\n",
    "# Suppressing warnings\n",
    "warnings.filterwarnings('ignore')   # Nustato, kad visi įspėjimai būtų ignoruojami\n",
    "\n",
    "# Set up Selenium webdriver options\n",
    "from selenium import webdriver                          # \"selenium.webdriver\" leidžia automatizuoti veiksmus interneto naršyklėje\n",
    "from selenium.webdriver.chrome.options import Options   # \"Options\" leidžia nustatyti konfigūracijas Chrome naršyklės draiveriui\n",
    "\n",
    "# Papildomai importuojame: \n",
    "from sklearn.linear_model import LinearRegression  # Tiesinės regresijos modelis\n",
    "from sklearn.model_selection import train_test_split  # Duomenų padalijimas į treniravimo ir testavimo rinkinius\n",
    "from sklearn.model_selection import train_test_split, cross_val_score\n",
    "from sklearn.tree import DecisionTreeRegressor\n",
    "from sklearn.model_selection import train_test_split\n",
    "from sklearn.tree import DecisionTreeRegressor\n",
    "from sklearn.metrics import mean_absolute_error, mean_squared_error, r2_score\n",
    "from sklearn.linear_model import LinearRegression\n",
    "\n",
    "\n",
    "from sklearn.svm import SVR\n",
    "from sklearn.model_selection import train_test_split\n",
    "from sklearn.metrics import mean_absolute_error, mean_squared_error, r2_score\n",
    "from sklearn.preprocessing import StandardScaler\n",
    "from sklearn.ensemble import RandomForestRegressor"
   ]
  },
  {
   "cell_type": "code",
   "execution_count": 96,
   "metadata": {},
   "outputs": [],
   "source": [
    "from sklearn.ensemble import RandomForestClassifier\n",
    "import pandas as pd\n",
    "from sklearn.model_selection import train_test_split, cross_val_score\n",
    "from sklearn.ensemble import RandomForestClassifier\n",
    "from sklearn.metrics import accuracy_score, confusion_matrix, classification_report, roc_curve, auc, RocCurveDisplay\n",
    "import matplotlib.pyplot as plt"
   ]
  },
  {
   "cell_type": "code",
   "execution_count": 111,
   "metadata": {},
   "outputs": [],
   "source": [
    "# Titanic Kaggle uzduotis # https://www.kaggle.com/competitions/titanic/overview/evaluation\n",
    "## Issitraukiame duomenis analizei \n",
    "\n",
    "\n",
    "\n",
    "failo_kelias2 = r\"C:\\Users\\Pauliussl\\Paskaita79\\Titanic\\train.csv\"\n",
    "train_data = pd.read_csv(failo_kelias2, header=0)\n",
    "\n",
    "train_data[\"Survived\"] = pd.to_numeric(train_data[\"Survived\"], errors='coerce')  # Survived\n",
    "train_data[\"Pclass\"] = pd.to_numeric(train_data[\"Pclass\"], errors='coerce')      # Pclass\n",
    "train_data[\"Sex\"] = train_data[\"Sex\"].map({'male': 0, 'female': 1})              # Sex\n",
    "train_data[\"Age\"] = pd.to_numeric(train_data[\"Age\"], errors='coerce')           # Age\n",
    "train_data[\"SibSp\"] = pd.to_numeric(train_data[\"SibSp\"], errors='coerce')       # SibSp\n",
    "train_data[\"Parch\"] = pd.to_numeric(train_data[\"Parch\"], errors='coerce')       # Parch\n",
    "train_data[\"Fare\"] = pd.to_numeric(train_data[\"Fare\"], errors='coerce')         # Fare\n",
    "train_data[\"Embarked\"] = train_data[\"Embarked\"].map({\"S\": 0, \"C\": 1, \"Q\": 2})   # Embarked\n",
    "\n",
    "train_data[\"Age\"] = train_data[\"Age\"].fillna(train_data[\"Age\"].median())         # Susivedame amžiaus vidurkį\n",
    "train_data = train_data.dropna(subset=[\"Pclass\", \"Sex\", \"Age\", \"SibSp\", \"Parch\", \"Fare\", \"Embarked\"])  # Dropiname tuščias reikšmes\n",
    "train_data = train_data.iloc[1:]                                                # Pašaliname pirmą eilutę (jei reikia)\n",
    "\n",
    "train_data.head()\n",
    "\n",
    "X = train_data[[\"Pclass\", \"Sex\", \"Age\", \"SibSp\", \"Parch\", \"Fare\", \"Embarked\"]]\n",
    "y = train_data[\"Survived\"].astype(int)\n",
    "\n",
    "X_train, X_test, y_train, y_test = train_test_split(X, y, test_size=0.2, random_state=42)\n",
    "model = RandomForestClassifier(n_estimators=100, random_state=42)\n",
    "model.fit(X_train, y_train)\n",
    "y_pred = model.predict(X_test)\n"
   ]
  },
  {
   "cell_type": "code",
   "execution_count": 119,
   "metadata": {},
   "outputs": [
    {
     "name": "stdout",
     "output_type": "stream",
     "text": [
      "[0 0 0 0 0 0 0 0 0 0 0 0 0 1 0 0 0 0 0 0 0 0 1 0 0 1 0 0 0 0 0 0 1 0 0 0 0\n",
      " 0 1 0 0 1 0 1 1 0 0 1 0 1 1 0 0 1 1 0 0 0 1 0 0 0 1 0 0 0 0 0 0 1 0 1 0 0\n",
      " 0 0 0 1 0 0 0 0 0 0 0 0 0 0 1 1 0 0 0 1 1 0 0 0 0 0 0 0 1 0 1 1 0 1 0 1 0\n",
      " 1 0 0 1 0 1 0 0 1 1 0 1 1 0 0 1 0 1 0 0 1 0 1 1 1 0 1 0 0 1 1 0 0 1 0 1 1\n",
      " 0 0 0 1 1 1 0 0 1 0 1 0 1 0 1 0 1 0 1 0 0 0 0 1 1 0 0 0 0 1]\n"
     ]
    }
   ],
   "source": [
    "print(y_pred)"
   ]
  },
  {
   "cell_type": "code",
   "execution_count": 97,
   "metadata": {},
   "outputs": [
    {
     "name": "stdout",
     "output_type": "stream",
     "text": [
      "Model accuracy: 0.77\n",
      "Confusion Matrix:\n",
      "[[86 23]\n",
      " [18 51]]\n",
      "Classification Report:\n",
      "              precision    recall  f1-score   support\n",
      "\n",
      "           0       0.83      0.79      0.81       109\n",
      "           1       0.69      0.74      0.71        69\n",
      "\n",
      "    accuracy                           0.77       178\n",
      "   macro avg       0.76      0.76      0.76       178\n",
      "weighted avg       0.77      0.77      0.77       178\n",
      "\n"
     ]
    },
    {
     "data": {
      "text/plain": [
       "<Figure size 640x480 with 0 Axes>"
      ]
     },
     "metadata": {},
     "output_type": "display_data"
    },
    {
     "data": {
      "image/png": "[encoded data removed]",
      "text/plain": [
       "<Figure size 640x480 with 1 Axes>"
      ]
     },
     "metadata": {},
     "output_type": "display_data"
    },
    {
     "name": "stdout",
     "output_type": "stream",
     "text": [
      "Cross-Validation Accuracy Scores: [0.76966292 0.79775281 0.86516854 0.78651685 0.83050847]\n",
      "Average CV Score: 0.81\n"
     ]
    }
   ],
   "source": [
    "# Modelio tikslumo įvertinimas\n",
    "accuracy = accuracy_score(y_test, y_pred)\n",
    "conf_matrix = confusion_matrix(y_test, y_pred)\n",
    "class_report = classification_report(y_test, y_pred)\n",
    "\n",
    "# ROC kreivės ir AUC skaičiavimas\n",
    "fpr, tpr, thresholds = roc_curve(y_test, model.predict_proba(X_test)[:,1])\n",
    "roc_auc = auc(fpr, tpr)\n",
    "\n",
    "# Kryžminės patikros tikslumo įvertinimas\n",
    "cv_scores = cross_val_score(model, X, y, cv=5, scoring='accuracy')\n",
    "\n",
    "# Rezultatų atvaizdavimas\n",
    "print(f\"Model accuracy: {accuracy:.2f}\")\n",
    "print(\"Confusion Matrix:\")\n",
    "print(conf_matrix)\n",
    "print(\"Classification Report:\")\n",
    "print(class_report)\n",
    "plt.figure()\n",
    "RocCurveDisplay(fpr=fpr, tpr=tpr, roc_auc=roc_auc, estimator_name='Random Forest Classifier').plot()\n",
    "plt.show()\n",
    "print(\"Cross-Validation Accuracy Scores:\", cv_scores)\n",
    "print(f\"Average CV Score: {cv_scores.mean():.2f}\")"
   ]
  },
  {
   "cell_type": "code",
   "execution_count": 124,
   "metadata": {},
   "outputs": [
    {
     "name": "stdout",
     "output_type": "stream",
     "text": [
      "[0 0 0 1 1 0 0 0 1 0 0 0 1 0 1 1 0 1 0 0 1 1 1 1 1 0 1 1 0 0 0 0 1 0 0 1 0\n",
      " 0 0 0 0 1 0 1 1 0 0 0 1 1 0 0 1 1 0 0 0 0 0 1 0 0 0 1 1 1 1 0 0 1 1 0 0 0\n",
      " 1 0 0 1 0 1 1 0 0 0 0 0 1 0 1 1 0 0 1 0 0 0 1 0 0 0 1 0 0 0 1 0 0 0 0 0 0\n",
      " 1 1 1 1 0 0 1 0 1 1 0 1 0 0 1 0 1 0 0 1 0 0 0 0 0 0 0 0 0 0 1 0 0 1 0 0 0\n",
      " 1 0 1 0 0 0 0 0 1 0 1 1 1 1 1 0 0 0 0 0 1 0 0 0 0 0 0 1 1 1 1 1 0 1 1 0 1\n",
      " 0 1 0 0 0 0 0 1 0 1 0 1 0 0 0 1 1 0 1 0 0 0 0 1 0 0 0 0 1 0 0 1 0 1 0 1 0\n",
      " 1 1 0 1 0 1 0 0 0 1 0 0 1 0 1 1 1 1 0 1 0 0 0 0 1 0 1 0 1 0 0 0 0 0 0 0 1\n",
      " 0 0 0 1 1 0 0 0 0 0 0 0 0 1 1 0 1 0 0 0 0 0 1 1 0 1 0 0 0 0 0 0 0 0 0 0 0\n",
      " 1 0 0 0 0 0 0 0 1 1 1 1 0 0 0 1 0 0 1 1 0 0 0 0 0 0 0 1 1 0 1 0 0 0 1 1 0\n",
      " 1 0 0 1 0 0 0 0 0 0 1 0 1 0 0 0 1 1 0 0 0 1 0 1 0 0 1 0 1 1 1 1 0 0 0 1 1\n",
      " 0 1 0 0 1 1 0 0 0 1 0 0 0 0 0 1 0 0 0 0 0 1 1 0 0 1 0 1 0 0 1 0 1 0 0 0 0\n",
      " 0 1 1 1 1 0 0 1 0 0 0]\n"
     ]
    }
   ],
   "source": [
    "failo_kelias0 = r\"C:\\Users\\Pauliussl\\Paskaita79\\Titanic\\test.csv\"\n",
    "test_data0 = pd.read_csv(failo_kelias0, header=0)\n",
    "\n",
    "test_data0[\"Pclass\"] = pd.to_numeric(test_data0[\"Pclass\"], errors='coerce')      # Pclass\n",
    "test_data0[\"Sex\"] = test_data0[\"Sex\"].map({'male': 0, 'female': 1})              # Sex\n",
    "test_data0[\"Age\"] = pd.to_numeric(test_data0[\"Age\"], errors='coerce')           # Age\n",
    "test_data0[\"SibSp\"] = pd.to_numeric(test_data0[\"SibSp\"], errors='coerce')       # SibSp\n",
    "test_data0[\"Parch\"] = pd.to_numeric(test_data0[\"Parch\"], errors='coerce')       # Parch\n",
    "test_data0[\"Fare\"] = pd.to_numeric(test_data0[\"Fare\"], errors='coerce')         # Fare\n",
    "test_data0[\"Embarked\"] = test_data0[\"Embarked\"].map({\"S\": 0, \"C\": 1, \"Q\": 2})   # Embarked\n",
    "\n",
    "test_data1 = test_data0.drop(columns= ['PassengerId', 'Name', 'Ticket', 'Cabin'])\n",
    "test_data1\n",
    "y_goal = model.predict(test_data1)\n",
    "print(y_goal)"
   ]
  },
  {
   "cell_type": "code",
   "execution_count": 136,
   "metadata": {},
   "outputs": [],
   "source": [
    "c = test_data0['PassengerId']\n",
    "\n",
    "df = pd.DataFrame({'PassengerId': c, 'Survived': y_goal})\n",
    "faila_issaugome = r\"C:\\Users\\Pauliussl\\Paskaita79\\Titanic\\gender_submission.csv\"\n",
    "df.to_csv(faila_issaugome, index=False)"
   ]
  }
 ],
 "metadata": {
  "kernelspec": {
   "display_name": "Python 3",
   "language": "python",
   "name": "python3"
  },
  "language_info": {
   "codemirror_mode": {
    "name": "ipython",
    "version": 3
   },
   "file_extension": ".py",
   "mimetype": "text/x-python",
   "name": "python",
   "nbconvert_exporter": "python",
   "pygments_lexer": "ipython3",
   "version": "3.12.4"
  }
 },
 "nbformat": 4,
 "nbformat_minor": 2
}
