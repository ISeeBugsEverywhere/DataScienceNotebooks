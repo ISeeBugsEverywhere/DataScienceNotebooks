{
 "cells": [
  {
   "cell_type": "code",
   "execution_count": 1,
   "metadata": {},
   "outputs": [],
   "source": [
    "import numpy as np\n",
    "import pandas as pd\n",
    "import matplotlib.pyplot as plt\n",
    "import warnings\n",
    "warnings.filterwarnings('ignore')\n",
    "import seaborn as sns\n",
    "import requests"
   ]
  },
  {
   "cell_type": "code",
   "execution_count": null,
   "metadata": {},
   "outputs": [],
   "source": [
    "# https://docs.streamlit.io/develop/api-reference/widgets/st.multiselect"
   ]
  },
  {
   "cell_type": "code",
   "execution_count": 2,
   "metadata": {},
   "outputs": [
    {
     "name": "stdout",
     "output_type": "stream",
     "text": [
      "['akmenes-ams', 'alytaus-ams', 'anyksciu-ams', 'birstono-ams', 'birzu-ams', 'dotnuvos-ams', 'druskininku-ams', 'duksto-ams', 'elektrenu-ams', 'jonavos-ams', 'joniskio-ams', 'jurbarko-ams', 'kaisiadoriu-ams', 'kalvarijos-ams', 'kauno-ams', 'kazlu-rudos-ams', 'kelmes-ams', 'klaipedos-ams', 'kretingos-ams', 'kupiskio-ams', 'kybartu-ams', 'laukuvos-ams', 'lazdiju-ams', 'marijampoles-ams', 'mazeikiu-ams', 'moletu-ams', 'nidos-ams', 'pagegiu-ams', 'pakruojo-ams', 'panevezio-ams', 'plunges-ams', 'prienu-ams', 'raseiniu-ams', 'rietavo-ams', 'rokiskio-ams', 'sakiu-ams', 'salcininku-ams', 'seduvos-ams', 'siauliu-ams', 'silutes-ams', 'skuodo-ams', 'svencioniu-ams', 'taurages-ams', 'telsiu-ams', 'traku-ams', 'ukmerges-ams', 'utenos-ams', 'varenos-ams', 'ventes-ams', 'vezaiciu-ams', 'vilniaus-ams', 'zarasu-ams']\n"
     ]
    }
   ],
   "source": [
    "# Leiskite vartotojui nurodyti iki trijų metreologinių stočių, \n",
    "# ir dvi datas : nuo, iki. Iš meto.lt per API išgaukite istorinius \n",
    "# duomenis nurodytame laikotarpyje, ir atvaizduokite grafiškai - oro \n",
    "# temperatūrą bei vėjo greitį.\n",
    "\n",
    "\n",
    "\n",
    "stotys = ['akmenes-ams', 'alytaus-ams', 'anyksciu-ams', 'birstono-ams', 'birzu-ams', 'dotnuvos-ams', 'druskininku-ams', 'duksto-ams', 'elektrenu-ams', 'jonavos-ams', 'joniskio-ams', 'jurbarko-ams', 'kaisiadoriu-ams', 'kalvarijos-ams', 'kauno-ams', 'kazlu-rudos-ams', 'kelmes-ams', 'klaipedos-ams', 'kretingos-ams', 'kupiskio-ams', 'kybartu-ams', 'laukuvos-ams', 'lazdiju-ams', 'marijampoles-ams', 'mazeikiu-ams', 'moletu-ams', 'nidos-ams', 'pagegiu-ams', 'pakruojo-ams', 'panevezio-ams', 'plunges-ams', 'prienu-ams', 'raseiniu-ams', 'rietavo-ams', 'rokiskio-ams', 'sakiu-ams', 'salcininku-ams', 'seduvos-ams', 'siauliu-ams', 'silutes-ams', 'skuodo-ams', 'svencioniu-ams', 'taurages-ams', 'telsiu-ams', 'traku-ams', 'ukmerges-ams', 'utenos-ams', 'varenos-ams', 'ventes-ams', 'vezaiciu-ams', 'vilniaus-ams', 'zarasu-ams']\n",
    "\n",
    "met1 = str(input('Nurodykite met1 stoti:'))\n",
    "met2 = str(input('Nurodykite met2 stoti:'))\n",
    "met3 = str(input('Nurodykite met3 stoti:'))\n",
    "\n",
    "nuo = str(input('ivestkite pradzios data (xxxx-xx-xx):'))\n",
    "iki = str(input('ivestkite pabaigos data (xxxx-xx-xx):'))\n",
    "\n",
    "\n",
    "\n"
   ]
  },
  {
   "cell_type": "code",
   "execution_count": null,
   "metadata": {},
   "outputs": [],
   "source": [
    "\n",
    "\n",
    "\n",
    "https://api.meteo.lt/v1/stations/{i}/observations/{g}\n",
    "\n",
    "\n",
    "# https://api.meteo.lt/v1/stations/vilniaus-ams/observations/2024-10-08"
   ]
  }
 ],
 "metadata": {
  "kernelspec": {
   "display_name": "Python 3",
   "language": "python",
   "name": "python3"
  },
  "language_info": {
   "codemirror_mode": {
    "name": "ipython",
    "version": 3
   },
   "file_extension": ".py",
   "mimetype": "text/x-python",
   "name": "python",
   "nbconvert_exporter": "python",
   "pygments_lexer": "ipython3",
   "version": "3.12.7"
  }
 },
 "nbformat": 4,
 "nbformat_minor": 2
}
