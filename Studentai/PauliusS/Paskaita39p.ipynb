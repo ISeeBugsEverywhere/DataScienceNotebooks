{
 "cells": [
  {
   "cell_type": "code",
   "execution_count": 1,
   "metadata": {},
   "outputs": [],
   "source": [
    "import numpy as np\n",
    "import pandas as pd\n",
    "import matplotlib.pyplot as plt\n",
    "import warnings\n",
    "warnings.filterwarnings('ignore')\n",
    "import seaborn as sns\n",
    "import requests"
   ]
  },
  {
   "cell_type": "code",
   "execution_count": 8,
   "metadata": {},
   "outputs": [],
   "source": [
    "from datetime import datetime, timedelta"
   ]
  },
  {
   "cell_type": "code",
   "execution_count": null,
   "metadata": {},
   "outputs": [],
   "source": [
    "# https://docs.streamlit.io/develop/api-reference/widgets/st.multiselect"
   ]
  },
  {
   "cell_type": "code",
   "execution_count": 6,
   "metadata": {},
   "outputs": [],
   "source": [
    "# Leiskite vartotojui nurodyti iki trijų metreologinių stočių, \n",
    "# ir dvi datas : nuo, iki. Iš meto.lt per API išgaukite istorinius \n",
    "# duomenis nurodytame laikotarpyje, ir atvaizduokite grafiškai - oro \n",
    "# temperatūrą bei vėjo greitį."
   ]
  },
  {
   "cell_type": "code",
   "execution_count": 36,
   "metadata": {},
   "outputs": [
    {
     "name": "stdout",
     "output_type": "stream",
     "text": [
      "0: Akmenės AMS\n",
      "1: Alytaus AMS\n",
      "2: Anykščių AMS\n",
      "3: Birštono AMS\n",
      "4: Biržų AMS\n",
      "5: Dotnuvos AMS\n",
      "6: Druskininkų AMS\n",
      "7: Dūkšto AMS\n",
      "8: Elektrėnų AMS\n",
      "9: Jonavos AMS\n",
      "10: Joniškio AMS\n",
      "11: Jurbarko AMS\n",
      "12: Kaišiadorių AMS\n",
      "13: Kalvarijos AMS\n",
      "14: Kauno AMS\n",
      "15: Kazlų Rūdos AMS\n",
      "16: Kelmės AMS\n",
      "17: Klaipėdos AMS\n",
      "18: Kretingos AMS\n",
      "19: Kupiškio AMS\n",
      "20: Kybartų AMS\n",
      "21: Laukuvos AMS\n",
      "22: Lazdijų AMS\n",
      "23: Marijampolės AMS\n",
      "24: Mažeikių AMS\n",
      "25: Molėtų AMS\n",
      "26: Nidos AMS\n",
      "27: Pagėgių AMS\n",
      "28: Pakruojo AMS\n",
      "29: Panevėžio AMS\n",
      "30: Plungės AMS\n",
      "31: Prienų AMS\n",
      "32: Raseinių AMS\n",
      "33: Rietavo AMS\n",
      "34: Rokiškio AMS\n",
      "35: Šakių AMS\n",
      "36: Šalčininkų AMS\n",
      "37: Šeduvos AMS\n",
      "38: Šiaulių AMS\n",
      "39: Šilutės AMS\n",
      "40: Skuodo AMS\n",
      "41: Švenčionių AMS\n",
      "42: Tauragės AMS\n",
      "43: Telšių AMS\n",
      "44: Trakų AMS\n",
      "45: Ukmergės AMS\n",
      "46: Utenos AMS\n",
      "47: Varėnos AMS\n",
      "48: Ventės AMS\n",
      "49: Vėžaičių AMS\n",
      "50: Vilniaus AMS\n",
      "51: Zarasų AMS\n"
     ]
    }
   ],
   "source": [
    "url = 'https://api.meteo.lt/v1/stations'\n",
    "pg = requests.get(url)\n",
    "r = pg.json()\n",
    "stotys = {}\n",
    "for i in r:\n",
    "    stotys[i['name']] = i['code']\n",
    "# print(stotys)\n",
    "n = list(stotys.keys())\n",
    "for i, k in enumerate(n):\n",
    "    print(f'{i}: {k}')"
   ]
  },
  {
   "cell_type": "code",
   "execution_count": 23,
   "metadata": {},
   "outputs": [
    {
     "name": "stdout",
     "output_type": "stream",
     "text": [
      "Jūs pasirinkote šias stotis:\n",
      "['Alytaus AMS', 'Dotnuvos AMS', 'Jonavos AMS']\n"
     ]
    }
   ],
   "source": [
    "stations = input('Įveskite stoties numerį(-ius) (iki trijų numerių, atskirtų kableliais)')\n",
    "if len(stations) <3:\n",
    "    print(\"Ivedete per mazai stociu\")\n",
    "st_idx = list(map(int, stations.split(',')))\n",
    "print('Jūs pasirinkote šias stotis:')\n",
    "sel_sts = [n[i] for i in st_idx]\n",
    "print(sel_sts)"
   ]
  },
  {
   "cell_type": "code",
   "execution_count": 25,
   "metadata": {},
   "outputs": [
    {
     "name": "stdout",
     "output_type": "stream",
     "text": [
      "Alytaus AMS Dotnuvos AMS Jonavos AMS\n"
     ]
    },
    {
     "data": {
      "text/plain": [
       "str"
      ]
     },
     "execution_count": 25,
     "metadata": {},
     "output_type": "execute_result"
    }
   ],
   "source": [
    "# Stociu issitraukimas\n",
    "a1 = None\n",
    "a2 = None\n",
    "a3 = None\n",
    "\n",
    "for i in sel_sts:\n",
    "    a1 = sel_sts[0]\n",
    "    a2 = sel_sts[1]\n",
    "    a3 = sel_sts[2]"
   ]
  },
  {
   "cell_type": "code",
   "execution_count": 28,
   "metadata": {},
   "outputs": [
    {
     "name": "stdout",
     "output_type": "stream",
     "text": [
      "['2022-06-08', '2022-06-09', '2022-06-10', '2022-06-11', '2022-06-12', '2022-06-13', '2022-06-14', '2022-06-15', '2022-06-16', '2022-06-17', '2022-06-18', '2022-06-19', '2022-06-20', '2022-06-21', '2022-06-22', '2022-06-23', '2022-06-24', '2022-06-25', '2022-06-26', '2022-06-27', '2022-06-28', '2022-06-29', '2022-06-30', '2022-07-01', '2022-07-02', '2022-07-03', '2022-07-04', '2022-07-05', '2022-07-06', '2022-07-07', '2022-07-08', '2022-07-09', '2022-07-10', '2022-07-11', '2022-07-12', '2022-07-13', '2022-07-14', '2022-07-15', '2022-07-16', '2022-07-17', '2022-07-18', '2022-07-19', '2022-07-20', '2022-07-21', '2022-07-22', '2022-07-23', '2022-07-24', '2022-07-25', '2022-07-26', '2022-07-27', '2022-07-28', '2022-07-29', '2022-07-30']\n",
      "Alytaus AMS Dotnuvos AMS Jonavos AMS\n"
     ]
    }
   ],
   "source": [
    "nuo = input('ivestkite pradzios data (xxxx-xx-xx):')\n",
    "iki = input('ivestkite pabaigos data (xxxx-xx-xx):')\n",
    "\n",
    "nuo_dt = datetime.strptime(nuo,\"%Y-%m-%d\")\n",
    "iki_dt = datetime.strptime(iki,\"%Y-%m-%d\")\n",
    "\n",
    "datos = []\n",
    "\n",
    "while nuo_dt <= iki_dt:\n",
    "    datos.append(nuo_dt.strftime(\"%Y-%m-%d\"))        \n",
    "    nuo_dt += timedelta(days=1)   \n",
    "    \n",
    "print(datos)\n",
    "print(a1, a2, a3)"
   ]
  },
  {
   "cell_type": "code",
   "execution_count": 33,
   "metadata": {},
   "outputs": [
    {
     "name": "stdout",
     "output_type": "stream",
     "text": [
      "https://api.meteo.lt/v1/stations/Alytaus AMS/observations/2022-06-08\n",
      "https://api.meteo.lt/v1/stations/Dotnuvos AMS/observations/2022-06-09\n",
      "https://api.meteo.lt/v1/stations/Jonavos AMS/observations/2022-06-10\n"
     ]
    }
   ],
   "source": [
    "for x, i in zip(datos, sel_sts):\n",
    "    url = f'https://api.meteo.lt/v1/stations/{i}/observations/{x}'\n",
    "    print(url)"
   ]
  },
  {
   "cell_type": "code",
   "execution_count": 35,
   "metadata": {},
   "outputs": [
    {
     "name": "stdout",
     "output_type": "stream",
     "text": [
      "https://api.meteo.lt/v1/stations/Alytaus AMS/observations/2022-06-08\n",
      "https://api.meteo.lt/v1/stations/Alytaus AMS/observations/2022-06-09\n",
      "https://api.meteo.lt/v1/stations/Alytaus AMS/observations/2022-06-10\n",
      "https://api.meteo.lt/v1/stations/Alytaus AMS/observations/2022-06-11\n",
      "https://api.meteo.lt/v1/stations/Alytaus AMS/observations/2022-06-12\n",
      "https://api.meteo.lt/v1/stations/Alytaus AMS/observations/2022-06-13\n",
      "https://api.meteo.lt/v1/stations/Alytaus AMS/observations/2022-06-14\n",
      "https://api.meteo.lt/v1/stations/Alytaus AMS/observations/2022-06-15\n",
      "https://api.meteo.lt/v1/stations/Alytaus AMS/observations/2022-06-16\n",
      "https://api.meteo.lt/v1/stations/Alytaus AMS/observations/2022-06-17\n",
      "https://api.meteo.lt/v1/stations/Alytaus AMS/observations/2022-06-18\n",
      "https://api.meteo.lt/v1/stations/Alytaus AMS/observations/2022-06-19\n",
      "https://api.meteo.lt/v1/stations/Alytaus AMS/observations/2022-06-20\n",
      "https://api.meteo.lt/v1/stations/Alytaus AMS/observations/2022-06-21\n",
      "https://api.meteo.lt/v1/stations/Alytaus AMS/observations/2022-06-22\n",
      "https://api.meteo.lt/v1/stations/Alytaus AMS/observations/2022-06-23\n",
      "https://api.meteo.lt/v1/stations/Alytaus AMS/observations/2022-06-24\n",
      "https://api.meteo.lt/v1/stations/Alytaus AMS/observations/2022-06-25\n",
      "https://api.meteo.lt/v1/stations/Alytaus AMS/observations/2022-06-26\n",
      "https://api.meteo.lt/v1/stations/Alytaus AMS/observations/2022-06-27\n",
      "https://api.meteo.lt/v1/stations/Alytaus AMS/observations/2022-06-28\n",
      "https://api.meteo.lt/v1/stations/Alytaus AMS/observations/2022-06-29\n",
      "https://api.meteo.lt/v1/stations/Alytaus AMS/observations/2022-06-30\n",
      "https://api.meteo.lt/v1/stations/Alytaus AMS/observations/2022-07-01\n",
      "https://api.meteo.lt/v1/stations/Alytaus AMS/observations/2022-07-02\n",
      "https://api.meteo.lt/v1/stations/Alytaus AMS/observations/2022-07-03\n",
      "https://api.meteo.lt/v1/stations/Alytaus AMS/observations/2022-07-04\n",
      "https://api.meteo.lt/v1/stations/Alytaus AMS/observations/2022-07-05\n",
      "https://api.meteo.lt/v1/stations/Alytaus AMS/observations/2022-07-06\n",
      "https://api.meteo.lt/v1/stations/Alytaus AMS/observations/2022-07-07\n",
      "https://api.meteo.lt/v1/stations/Alytaus AMS/observations/2022-07-08\n",
      "https://api.meteo.lt/v1/stations/Alytaus AMS/observations/2022-07-09\n",
      "https://api.meteo.lt/v1/stations/Alytaus AMS/observations/2022-07-10\n",
      "https://api.meteo.lt/v1/stations/Alytaus AMS/observations/2022-07-11\n",
      "https://api.meteo.lt/v1/stations/Alytaus AMS/observations/2022-07-12\n",
      "https://api.meteo.lt/v1/stations/Alytaus AMS/observations/2022-07-13\n",
      "https://api.meteo.lt/v1/stations/Alytaus AMS/observations/2022-07-14\n",
      "https://api.meteo.lt/v1/stations/Alytaus AMS/observations/2022-07-15\n",
      "https://api.meteo.lt/v1/stations/Alytaus AMS/observations/2022-07-16\n",
      "https://api.meteo.lt/v1/stations/Alytaus AMS/observations/2022-07-17\n",
      "https://api.meteo.lt/v1/stations/Alytaus AMS/observations/2022-07-18\n",
      "https://api.meteo.lt/v1/stations/Alytaus AMS/observations/2022-07-19\n",
      "https://api.meteo.lt/v1/stations/Alytaus AMS/observations/2022-07-20\n",
      "https://api.meteo.lt/v1/stations/Alytaus AMS/observations/2022-07-21\n",
      "https://api.meteo.lt/v1/stations/Alytaus AMS/observations/2022-07-22\n",
      "https://api.meteo.lt/v1/stations/Alytaus AMS/observations/2022-07-23\n",
      "https://api.meteo.lt/v1/stations/Alytaus AMS/observations/2022-07-24\n",
      "https://api.meteo.lt/v1/stations/Alytaus AMS/observations/2022-07-25\n",
      "https://api.meteo.lt/v1/stations/Alytaus AMS/observations/2022-07-26\n",
      "https://api.meteo.lt/v1/stations/Alytaus AMS/observations/2022-07-27\n",
      "https://api.meteo.lt/v1/stations/Alytaus AMS/observations/2022-07-28\n",
      "https://api.meteo.lt/v1/stations/Alytaus AMS/observations/2022-07-29\n",
      "https://api.meteo.lt/v1/stations/Alytaus AMS/observations/2022-07-30\n",
      "https://api.meteo.lt/v1/stations/Dotnuvos AMS/observations/2022-06-08\n",
      "https://api.meteo.lt/v1/stations/Dotnuvos AMS/observations/2022-06-09\n",
      "https://api.meteo.lt/v1/stations/Dotnuvos AMS/observations/2022-06-10\n",
      "https://api.meteo.lt/v1/stations/Dotnuvos AMS/observations/2022-06-11\n",
      "https://api.meteo.lt/v1/stations/Dotnuvos AMS/observations/2022-06-12\n",
      "https://api.meteo.lt/v1/stations/Dotnuvos AMS/observations/2022-06-13\n",
      "https://api.meteo.lt/v1/stations/Dotnuvos AMS/observations/2022-06-14\n",
      "https://api.meteo.lt/v1/stations/Dotnuvos AMS/observations/2022-06-15\n",
      "https://api.meteo.lt/v1/stations/Dotnuvos AMS/observations/2022-06-16\n",
      "https://api.meteo.lt/v1/stations/Dotnuvos AMS/observations/2022-06-17\n",
      "https://api.meteo.lt/v1/stations/Dotnuvos AMS/observations/2022-06-18\n",
      "https://api.meteo.lt/v1/stations/Dotnuvos AMS/observations/2022-06-19\n",
      "https://api.meteo.lt/v1/stations/Dotnuvos AMS/observations/2022-06-20\n",
      "https://api.meteo.lt/v1/stations/Dotnuvos AMS/observations/2022-06-21\n",
      "https://api.meteo.lt/v1/stations/Dotnuvos AMS/observations/2022-06-22\n",
      "https://api.meteo.lt/v1/stations/Dotnuvos AMS/observations/2022-06-23\n",
      "https://api.meteo.lt/v1/stations/Dotnuvos AMS/observations/2022-06-24\n",
      "https://api.meteo.lt/v1/stations/Dotnuvos AMS/observations/2022-06-25\n",
      "https://api.meteo.lt/v1/stations/Dotnuvos AMS/observations/2022-06-26\n",
      "https://api.meteo.lt/v1/stations/Dotnuvos AMS/observations/2022-06-27\n",
      "https://api.meteo.lt/v1/stations/Dotnuvos AMS/observations/2022-06-28\n",
      "https://api.meteo.lt/v1/stations/Dotnuvos AMS/observations/2022-06-29\n",
      "https://api.meteo.lt/v1/stations/Dotnuvos AMS/observations/2022-06-30\n",
      "https://api.meteo.lt/v1/stations/Dotnuvos AMS/observations/2022-07-01\n",
      "https://api.meteo.lt/v1/stations/Dotnuvos AMS/observations/2022-07-02\n",
      "https://api.meteo.lt/v1/stations/Dotnuvos AMS/observations/2022-07-03\n",
      "https://api.meteo.lt/v1/stations/Dotnuvos AMS/observations/2022-07-04\n",
      "https://api.meteo.lt/v1/stations/Dotnuvos AMS/observations/2022-07-05\n",
      "https://api.meteo.lt/v1/stations/Dotnuvos AMS/observations/2022-07-06\n",
      "https://api.meteo.lt/v1/stations/Dotnuvos AMS/observations/2022-07-07\n",
      "https://api.meteo.lt/v1/stations/Dotnuvos AMS/observations/2022-07-08\n",
      "https://api.meteo.lt/v1/stations/Dotnuvos AMS/observations/2022-07-09\n",
      "https://api.meteo.lt/v1/stations/Dotnuvos AMS/observations/2022-07-10\n",
      "https://api.meteo.lt/v1/stations/Dotnuvos AMS/observations/2022-07-11\n",
      "https://api.meteo.lt/v1/stations/Dotnuvos AMS/observations/2022-07-12\n",
      "https://api.meteo.lt/v1/stations/Dotnuvos AMS/observations/2022-07-13\n",
      "https://api.meteo.lt/v1/stations/Dotnuvos AMS/observations/2022-07-14\n",
      "https://api.meteo.lt/v1/stations/Dotnuvos AMS/observations/2022-07-15\n",
      "https://api.meteo.lt/v1/stations/Dotnuvos AMS/observations/2022-07-16\n",
      "https://api.meteo.lt/v1/stations/Dotnuvos AMS/observations/2022-07-17\n",
      "https://api.meteo.lt/v1/stations/Dotnuvos AMS/observations/2022-07-18\n",
      "https://api.meteo.lt/v1/stations/Dotnuvos AMS/observations/2022-07-19\n",
      "https://api.meteo.lt/v1/stations/Dotnuvos AMS/observations/2022-07-20\n",
      "https://api.meteo.lt/v1/stations/Dotnuvos AMS/observations/2022-07-21\n",
      "https://api.meteo.lt/v1/stations/Dotnuvos AMS/observations/2022-07-22\n",
      "https://api.meteo.lt/v1/stations/Dotnuvos AMS/observations/2022-07-23\n",
      "https://api.meteo.lt/v1/stations/Dotnuvos AMS/observations/2022-07-24\n",
      "https://api.meteo.lt/v1/stations/Dotnuvos AMS/observations/2022-07-25\n",
      "https://api.meteo.lt/v1/stations/Dotnuvos AMS/observations/2022-07-26\n",
      "https://api.meteo.lt/v1/stations/Dotnuvos AMS/observations/2022-07-27\n",
      "https://api.meteo.lt/v1/stations/Dotnuvos AMS/observations/2022-07-28\n",
      "https://api.meteo.lt/v1/stations/Dotnuvos AMS/observations/2022-07-29\n",
      "https://api.meteo.lt/v1/stations/Dotnuvos AMS/observations/2022-07-30\n",
      "https://api.meteo.lt/v1/stations/Jonavos AMS/observations/2022-06-08\n",
      "https://api.meteo.lt/v1/stations/Jonavos AMS/observations/2022-06-09\n",
      "https://api.meteo.lt/v1/stations/Jonavos AMS/observations/2022-06-10\n",
      "https://api.meteo.lt/v1/stations/Jonavos AMS/observations/2022-06-11\n",
      "https://api.meteo.lt/v1/stations/Jonavos AMS/observations/2022-06-12\n",
      "https://api.meteo.lt/v1/stations/Jonavos AMS/observations/2022-06-13\n",
      "https://api.meteo.lt/v1/stations/Jonavos AMS/observations/2022-06-14\n",
      "https://api.meteo.lt/v1/stations/Jonavos AMS/observations/2022-06-15\n",
      "https://api.meteo.lt/v1/stations/Jonavos AMS/observations/2022-06-16\n",
      "https://api.meteo.lt/v1/stations/Jonavos AMS/observations/2022-06-17\n",
      "https://api.meteo.lt/v1/stations/Jonavos AMS/observations/2022-06-18\n",
      "https://api.meteo.lt/v1/stations/Jonavos AMS/observations/2022-06-19\n",
      "https://api.meteo.lt/v1/stations/Jonavos AMS/observations/2022-06-20\n",
      "https://api.meteo.lt/v1/stations/Jonavos AMS/observations/2022-06-21\n",
      "https://api.meteo.lt/v1/stations/Jonavos AMS/observations/2022-06-22\n",
      "https://api.meteo.lt/v1/stations/Jonavos AMS/observations/2022-06-23\n",
      "https://api.meteo.lt/v1/stations/Jonavos AMS/observations/2022-06-24\n",
      "https://api.meteo.lt/v1/stations/Jonavos AMS/observations/2022-06-25\n",
      "https://api.meteo.lt/v1/stations/Jonavos AMS/observations/2022-06-26\n",
      "https://api.meteo.lt/v1/stations/Jonavos AMS/observations/2022-06-27\n",
      "https://api.meteo.lt/v1/stations/Jonavos AMS/observations/2022-06-28\n",
      "https://api.meteo.lt/v1/stations/Jonavos AMS/observations/2022-06-29\n",
      "https://api.meteo.lt/v1/stations/Jonavos AMS/observations/2022-06-30\n",
      "https://api.meteo.lt/v1/stations/Jonavos AMS/observations/2022-07-01\n",
      "https://api.meteo.lt/v1/stations/Jonavos AMS/observations/2022-07-02\n",
      "https://api.meteo.lt/v1/stations/Jonavos AMS/observations/2022-07-03\n",
      "https://api.meteo.lt/v1/stations/Jonavos AMS/observations/2022-07-04\n",
      "https://api.meteo.lt/v1/stations/Jonavos AMS/observations/2022-07-05\n",
      "https://api.meteo.lt/v1/stations/Jonavos AMS/observations/2022-07-06\n",
      "https://api.meteo.lt/v1/stations/Jonavos AMS/observations/2022-07-07\n",
      "https://api.meteo.lt/v1/stations/Jonavos AMS/observations/2022-07-08\n",
      "https://api.meteo.lt/v1/stations/Jonavos AMS/observations/2022-07-09\n",
      "https://api.meteo.lt/v1/stations/Jonavos AMS/observations/2022-07-10\n",
      "https://api.meteo.lt/v1/stations/Jonavos AMS/observations/2022-07-11\n",
      "https://api.meteo.lt/v1/stations/Jonavos AMS/observations/2022-07-12\n",
      "https://api.meteo.lt/v1/stations/Jonavos AMS/observations/2022-07-13\n",
      "https://api.meteo.lt/v1/stations/Jonavos AMS/observations/2022-07-14\n",
      "https://api.meteo.lt/v1/stations/Jonavos AMS/observations/2022-07-15\n",
      "https://api.meteo.lt/v1/stations/Jonavos AMS/observations/2022-07-16\n",
      "https://api.meteo.lt/v1/stations/Jonavos AMS/observations/2022-07-17\n",
      "https://api.meteo.lt/v1/stations/Jonavos AMS/observations/2022-07-18\n",
      "https://api.meteo.lt/v1/stations/Jonavos AMS/observations/2022-07-19\n",
      "https://api.meteo.lt/v1/stations/Jonavos AMS/observations/2022-07-20\n",
      "https://api.meteo.lt/v1/stations/Jonavos AMS/observations/2022-07-21\n",
      "https://api.meteo.lt/v1/stations/Jonavos AMS/observations/2022-07-22\n",
      "https://api.meteo.lt/v1/stations/Jonavos AMS/observations/2022-07-23\n",
      "https://api.meteo.lt/v1/stations/Jonavos AMS/observations/2022-07-24\n",
      "https://api.meteo.lt/v1/stations/Jonavos AMS/observations/2022-07-25\n",
      "https://api.meteo.lt/v1/stations/Jonavos AMS/observations/2022-07-26\n",
      "https://api.meteo.lt/v1/stations/Jonavos AMS/observations/2022-07-27\n",
      "https://api.meteo.lt/v1/stations/Jonavos AMS/observations/2022-07-28\n",
      "https://api.meteo.lt/v1/stations/Jonavos AMS/observations/2022-07-29\n",
      "https://api.meteo.lt/v1/stations/Jonavos AMS/observations/2022-07-30\n"
     ]
    }
   ],
   "source": [
    "for i in datos:\n",
    "    url = f'https://api.meteo.lt/v1/stations/{a1}/observations/{i}'\n",
    "    print(url)\n",
    "    \n",
    "for i in datos:\n",
    "    url = f'https://api.meteo.lt/v1/stations/{a2}/observations/{i}'\n",
    "    print(url)\n",
    "    \n",
    "for i in datos:\n",
    "    url = f'https://api.meteo.lt/v1/stations/{a3}/observations/{i}'\n",
    "    print(url)"
   ]
  },
  {
   "cell_type": "code",
   "execution_count": null,
   "metadata": {},
   "outputs": [],
   "source": [
    "https://api.meteo.lt/v1/stations/{i}/observations/{g}\n",
    "\n",
    "# https://api.meteo.lt/v1/stations/vilniaus-ams/observations/2024-10-08"
   ]
  }
 ],
 "metadata": {
  "kernelspec": {
   "display_name": "Python 3",
   "language": "python",
   "name": "python3"
  },
  "language_info": {
   "codemirror_mode": {
    "name": "ipython",
    "version": 3
   },
   "file_extension": ".py",
   "mimetype": "text/x-python",
   "name": "python",
   "nbconvert_exporter": "python",
   "pygments_lexer": "ipython3",
   "version": "3.12.7"
  }
 },
 "nbformat": 4,
 "nbformat_minor": 2
}
