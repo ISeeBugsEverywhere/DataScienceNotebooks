{
 "cells": [
  {
   "cell_type": "code",
   "execution_count": 1,
   "metadata": {},
   "outputs": [],
   "source": [
    "import numpy as np\n",
    "import pandas as pd\n",
    "import matplotlib.pyplot as plt\n",
    "import warnings\n",
    "warnings.filterwarnings('ignore')\n",
    "import seaborn as sns\n",
    "import requests"
   ]
  },
  {
   "cell_type": "code",
   "execution_count": 8,
   "metadata": {},
   "outputs": [],
   "source": [
    "from datetime import datetime, timedelta"
   ]
  },
  {
   "cell_type": "code",
   "execution_count": null,
   "metadata": {},
   "outputs": [],
   "source": [
    "# https://docs.streamlit.io/develop/api-reference/widgets/st.multiselect"
   ]
  },
  {
   "cell_type": "code",
   "execution_count": 6,
   "metadata": {},
   "outputs": [],
   "source": [
    "# Leiskite vartotojui nurodyti iki trijų metreologinių stočių, \n",
    "# ir dvi datas : nuo, iki. Iš meto.lt per API išgaukite istorinius \n",
    "# duomenis nurodytame laikotarpyje, ir atvaizduokite grafiškai - oro \n",
    "# temperatūrą bei vėjo greitį."
   ]
  },
  {
   "cell_type": "code",
   "execution_count": 3,
   "metadata": {},
   "outputs": [
    {
     "name": "stdout",
     "output_type": "stream",
     "text": [
      "0: Akmenės AMS\n",
      "1: Alytaus AMS\n",
      "2: Anykščių AMS\n",
      "3: Birštono AMS\n",
      "4: Biržų AMS\n",
      "5: Dotnuvos AMS\n",
      "6: Druskininkų AMS\n",
      "7: Dūkšto AMS\n",
      "8: Elektrėnų AMS\n",
      "9: Jonavos AMS\n",
      "10: Joniškio AMS\n",
      "11: Jurbarko AMS\n",
      "12: Kaišiadorių AMS\n",
      "13: Kalvarijos AMS\n",
      "14: Kauno AMS\n",
      "15: Kazlų Rūdos AMS\n",
      "16: Kelmės AMS\n",
      "17: Klaipėdos AMS\n",
      "18: Kretingos AMS\n",
      "19: Kupiškio AMS\n",
      "20: Kybartų AMS\n",
      "21: Laukuvos AMS\n",
      "22: Lazdijų AMS\n",
      "23: Marijampolės AMS\n",
      "24: Mažeikių AMS\n",
      "25: Molėtų AMS\n",
      "26: Nidos AMS\n",
      "27: Pagėgių AMS\n",
      "28: Pakruojo AMS\n",
      "29: Panevėžio AMS\n",
      "30: Plungės AMS\n",
      "31: Prienų AMS\n",
      "32: Raseinių AMS\n",
      "33: Rietavo AMS\n",
      "34: Rokiškio AMS\n",
      "35: Šakių AMS\n",
      "36: Šalčininkų AMS\n",
      "37: Šeduvos AMS\n",
      "38: Šiaulių AMS\n",
      "39: Šilutės AMS\n",
      "40: Skuodo AMS\n",
      "41: Švenčionių AMS\n",
      "42: Tauragės AMS\n",
      "43: Telšių AMS\n",
      "44: Trakų AMS\n",
      "45: Ukmergės AMS\n",
      "46: Utenos AMS\n",
      "47: Varėnos AMS\n",
      "48: Ventės AMS\n",
      "49: Vėžaičių AMS\n",
      "50: Vilniaus AMS\n",
      "51: Zarasų AMS\n"
     ]
    }
   ],
   "source": [
    "url = 'https://api.meteo.lt/v1/stations'\n",
    "pg = requests.get(url)\n",
    "r = pg.json()\n",
    "stotys = {}\n",
    "for i in r:\n",
    "    stotys[i['name']] = i['code']\n",
    "# print(stotys)\n",
    "n = list(stotys.keys())\n",
    "for i, k in enumerate(n):\n",
    "    print(f'{i}: {k}')"
   ]
  },
  {
   "cell_type": "code",
   "execution_count": 20,
   "metadata": {},
   "outputs": [
    {
     "name": "stdout",
     "output_type": "stream",
     "text": [
      "Jūs pasirinkote šias stotis:\n",
      "['Dūkšto AMS']\n"
     ]
    }
   ],
   "source": [
    "stations = input('Įveskite stoties numerį(-ius) (iki trijų numerių, atskirtų kableliais)')\n",
    "st_idx = list(map(int, stations.split(',')))\n",
    "print('Jūs pasirinkote šias stotis:')\n",
    "sel_sts = [n[i] for i in st_idx]\n",
    "print(sel_sts)"
   ]
  },
  {
   "cell_type": "code",
   "execution_count": 21,
   "metadata": {},
   "outputs": [
    {
     "ename": "IndexError",
     "evalue": "list index out of range",
     "output_type": "error",
     "traceback": [
      "\u001b[1;31m---------------------------------------------------------------------------\u001b[0m",
      "\u001b[1;31mIndexError\u001b[0m                                Traceback (most recent call last)",
      "Cell \u001b[1;32mIn[21], line 7\u001b[0m\n\u001b[0;32m      5\u001b[0m \u001b[38;5;28;01mfor\u001b[39;00m i \u001b[38;5;129;01min\u001b[39;00m sel_sts:\n\u001b[0;32m      6\u001b[0m     a1 \u001b[38;5;241m=\u001b[39m sel_sts[\u001b[38;5;241m0\u001b[39m]\n\u001b[1;32m----> 7\u001b[0m     a2 \u001b[38;5;241m=\u001b[39m \u001b[43msel_sts\u001b[49m\u001b[43m[\u001b[49m\u001b[38;5;241;43m1\u001b[39;49m\u001b[43m]\u001b[49m\n\u001b[0;32m      8\u001b[0m     a3 \u001b[38;5;241m=\u001b[39m sel_sts[\u001b[38;5;241m2\u001b[39m]\n\u001b[0;32m     10\u001b[0m \u001b[38;5;28mprint\u001b[39m(a1,a2,a3)\n",
      "\u001b[1;31mIndexError\u001b[0m: list index out of range"
     ]
    }
   ],
   "source": [
    "a1 = None\n",
    "a2 = None\n",
    "a3 = None\n",
    "\n",
    "for i in sel_sts:\n",
    "    a1 = sel_sts[0]\n",
    "    a2 = sel_sts[1]\n",
    "    a3 = sel_sts[2]\n",
    "    \n",
    "print(a1,a2,a3)"
   ]
  },
  {
   "cell_type": "code",
   "execution_count": 15,
   "metadata": {},
   "outputs": [
    {
     "name": "stdout",
     "output_type": "stream",
     "text": [
      "['2022-06-01', '2022-06-02', '2022-06-03', '2022-06-04', '2022-06-05', '2022-06-06', '2022-06-07', '2022-06-08', '2022-06-09', '2022-06-10', '2022-06-11', '2022-06-12', '2022-06-13', '2022-06-14', '2022-06-15', '2022-06-16', '2022-06-17', '2022-06-18']\n"
     ]
    }
   ],
   "source": [
    "nuo = input('ivestkite pradzios data (xxxx-xx-xx):')\n",
    "iki = input('ivestkite pabaigos data (xxxx-xx-xx):')\n",
    "\n",
    "nuo_dt = datetime.strptime(nuo,\"%Y-%m-%d\")\n",
    "iki_dt = datetime.strptime(iki,\"%Y-%m-%d\")\n",
    "\n",
    "datos = []\n",
    "\n",
    "while nuo_dt <= iki_dt:\n",
    "    datos.append(nuo_dt.strftime(\"%Y-%m-%d\"))        \n",
    "    nuo_dt += timedelta(days=1)   \n",
    "    \n",
    "print(datos)"
   ]
  },
  {
   "cell_type": "code",
   "execution_count": 17,
   "metadata": {},
   "outputs": [
    {
     "ename": "SyntaxError",
     "evalue": "invalid syntax (530301310.py, line 5)",
     "output_type": "error",
     "traceback": [
      "\u001b[1;36m  Cell \u001b[1;32mIn[17], line 5\u001b[1;36m\u001b[0m\n\u001b[1;33m    url =f'https://api.meteo.lt/v1/stations/'{i}'/observations/{x}'\u001b[0m\n\u001b[1;37m                                             ^\u001b[0m\n\u001b[1;31mSyntaxError\u001b[0m\u001b[1;31m:\u001b[0m invalid syntax\n"
     ]
    }
   ],
   "source": [
    "# datos \n",
    "# sel_sts\n",
    "\n",
    "for i, x in zip(datos, sel_sts):\n",
    "    url =f'https://api.meteo.lt/v1/stations/'{i}'/observations/{x}'\n",
    "    print(url)"
   ]
  },
  {
   "cell_type": "code",
   "execution_count": 18,
   "metadata": {},
   "outputs": [
    {
     "name": "stdout",
     "output_type": "stream",
     "text": [
      "https://api.meteo.lt/v1/stations/2022-06-01/observations/Biržų AMS\n",
      "https://api.meteo.lt/v1/stations/2022-06-02/observations/Elektrėnų AMS\n",
      "https://api.meteo.lt/v1/stations/2022-06-03/observations/Druskininkų AMS\n"
     ]
    }
   ],
   "source": [
    "for i, x in zip(datos, sel_sts):\n",
    "    # Formuojame URL naudojant teisingą f-string sintaksę\n",
    "    url = f'https://api.meteo.lt/v1/stations/{i}/observations/{x}'\n",
    "    print(url)"
   ]
  },
  {
   "cell_type": "code",
   "execution_count": null,
   "metadata": {},
   "outputs": [],
   "source": [
    "https://api.meteo.lt/v1/stations/{i}/observations/{g}\n",
    "\n",
    "# https://api.meteo.lt/v1/stations/vilniaus-ams/observations/2024-10-08"
   ]
  }
 ],
 "metadata": {
  "kernelspec": {
   "display_name": "Python 3",
   "language": "python",
   "name": "python3"
  },
  "language_info": {
   "codemirror_mode": {
    "name": "ipython",
    "version": 3
   },
   "file_extension": ".py",
   "mimetype": "text/x-python",
   "name": "python",
   "nbconvert_exporter": "python",
   "pygments_lexer": "ipython3",
   "version": "3.12.7"
  }
 },
 "nbformat": 4,
 "nbformat_minor": 2
}
