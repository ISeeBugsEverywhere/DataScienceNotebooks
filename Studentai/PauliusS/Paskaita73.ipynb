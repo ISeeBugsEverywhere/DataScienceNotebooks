{
 "cells": [
  {
   "cell_type": "code",
   "execution_count": null,
   "metadata": {},
   "outputs": [],
   "source": [
    "# Python bibliotekos\n",
    "import numpy as np                  # \"numpy\" yra biblioteka darbui su didelėmis, daugiamatėmis masyvų ir matricų kolekcijomis bei matematinėmis funkcijomis\n",
    "import pandas as pd                 # \"pandas\" suteikia struktūras duomenims ir įrankius jų analizei, pvz., DataFrame\n",
    "import matplotlib.pyplot as plt     # \"matplotlib.pyplot\" yra vizualizacijos biblioteka, leidžianti piešti įvairius grafikus\n",
    "import warnings                     # \"warnings\" leidžia valdyti įspėjimus: juos ignoruoti, spausdinti, ar klaidinti\n",
    "import requests                     # \"requests\" leidžia siųsti HTTP užklausas naudojant Python\n",
    "from datetime import datetime       # \"datetime\" modulis suteikia funkcijas darbui su data ir laiku\n",
    "from bs4 import BeautifulSoup       # \"BeautifulSoup\" padeda atlikti internetinių puslapių šaltinio kodo (HTML, XML) analizę ir duomenų surinkimą\n",
    "import time                         # \"time\" modulis suteikia funkcijas, susijusias su laiku, pvz., laiko gaišimą ar laiko matavimą\n",
    "import sqlite3                      # \"sqlite3\" leidžia dirbti su SQLite duomenų bazėmis, atliekant duomenų saugojimo, atnaujinimo ir gavimo operacijas\n",
    "from numpy.polynomial import Polynomial\n",
    "import numpy as np\n",
    "import matplotlib.pyplot as plt\n",
    "import seaborn as sns\n",
    "\n",
    "# Suppressing warnings\n",
    "warnings.filterwarnings('ignore')   # Nustato, kad visi įspėjimai būtų ignoruojami\n",
    "\n",
    "# Set up Selenium webdriver options\n",
    "from selenium import webdriver                          # \"selenium.webdriver\" leidžia automatizuoti veiksmus interneto naršyklėje\n",
    "from selenium.webdriver.chrome.options import Options   # \"Options\" leidžia nustatyti konfigūracijas Chrome naršyklės draiveriui\n",
    "\n",
    "# Papildomai importuojame: \n",
    "from sklearn.linear_model import LinearRegression  # Tiesinės regresijos modelis\n",
    "from sklearn.model_selection import train_test_split  # Duomenų padalijimas į treniravimo ir testavimo rinkinius\n",
    "from sklearn.model_selection import train_test_split, cross_val_score"
   ]
  }
 ],
 "metadata": {
  "language_info": {
   "name": "python"
  }
 },
 "nbformat": 4,
 "nbformat_minor": 2
}
