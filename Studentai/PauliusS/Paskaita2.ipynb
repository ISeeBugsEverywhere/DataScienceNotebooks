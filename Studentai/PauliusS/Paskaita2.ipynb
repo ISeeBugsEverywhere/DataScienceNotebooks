{
 "cells": [
  {
   "cell_type": "code",
   "execution_count": 29,
   "metadata": {},
   "outputs": [
    {
     "name": "stdout",
     "output_type": "stream",
     "text": [
      "7\n"
     ]
    }
   ],
   "source": [
    "# • Suskaičiuoti, kiek simbolių yra jūsų varde, pavardėje.\n",
    "a = 'Paulius'\n",
    "simboliu_skaicius = len(a)\n",
    "print (simboliu_skaicius)"
   ]
  },
  {
   "cell_type": "code",
   "execution_count": 25,
   "metadata": {},
   "outputs": [
    {
     "name": "stdout",
     "output_type": "stream",
     "text": [
      "90\n"
     ]
    }
   ],
   "source": [
    "# • Suskaičiuoti, kiek simbolių yra pačio pirmojo delfi.lt straipsnio\n",
    "# antraštėje\n",
    "a = '„Laukia gana ramus ir tvankus vakaras“: sinoptikė atskleidė, kur ir kodėl pasitraukė audra'\n",
    "simboliu_skaic = len(a)\n",
    "print (simboliu_skaic)"
   ]
  },
  {
   "cell_type": "code",
   "execution_count": 3,
   "metadata": {},
   "outputs": [
    {
     "name": "stdout",
     "output_type": "stream",
     "text": [
      "Paulius\n",
      "PAULIUS\n",
      "paulius\n"
     ]
    }
   ],
   "source": [
    "# • Pakeisti visas raides į mažąsias jūsų varde. Ir į didžiąsias ;).\n",
    "a = 'Paulius'\n",
    "didziosios = a.upper ()\n",
    "mazosios = a.lower ()\n",
    "print (a)\n",
    "print (didziosios)\n",
    "print (mazosios)\n"
   ]
  },
  {
   "cell_type": "code",
   "execution_count": 28,
   "metadata": {},
   "outputs": [
    {
     "name": "stdout",
     "output_type": "stream",
     "text": [
      "„Laukia ga\n",
      "aukė audra\n",
      "„akagn au rtaksvkrs:snpiėasliė u rkdlpstak ur\n",
      "ana ramus i\n"
     ]
    }
   ],
   "source": [
    "# • Iš delfi antraštės atrinkite pirmus 10 simbolių; paskutinius\n",
    "# 10; kas antrą; iškirpkite tekstą nuo 10-to iki 20-to simbolių;\n",
    "a = '„Laukia gana ramus ir tvankus vakaras“: sinoptikė atskleidė, kur ir kodėl pasitraukė audra'\n",
    "print (a[:10])\n",
    "print (a[-10:])\n",
    "print (a[::2])\n",
    "print (a[9:20])"
   ]
  },
  {
   "cell_type": "code",
   "execution_count": 13,
   "metadata": {},
   "outputs": [
    {
     "name": "stdout",
     "output_type": "stream",
     "text": [
      "14\n",
      "2\n"
     ]
    }
   ],
   "source": [
    "# • Kiek delfi antraštėje yra \"a\" simbolių? Kurioje pozicijoje yra\n",
    "# pirmąkart sutinkamas šis simbolis?\n",
    "a = '„Laukia gana ramus ir tvankus vakaras“: sinoptikė atskleidė, kur ir kodėl pasitraukė audra'\n",
    "a_skaicius = a.count ('a')\n",
    "print (a_skaicius)\n",
    "a_pirmas = a.index ('a')\n",
    "print (a_pirmas)\n"
   ]
  },
  {
   "cell_type": "code",
   "execution_count": 16,
   "metadata": {},
   "outputs": [
    {
     "name": "stdout",
     "output_type": "stream",
     "text": [
      "abas rytas!\n",
      "Labas rytas\n",
      "abas rytas\n"
     ]
    }
   ],
   "source": [
    "# • Iš teksto txt=\"Labas rytas!\" išveskite tekstą be pirmo\n",
    "# simbolio; be paskutinio; be pirmo ir be paskutinio;\n",
    "\n",
    "a = 'Labas rytas!'\n",
    "print (a[1:])\n",
    "print (a[:-1])\n",
    "print (a[1:-1])"
   ]
  },
  {
   "cell_type": "code",
   "execution_count": 33,
   "metadata": {},
   "outputs": [
    {
     "name": "stdout",
     "output_type": "stream",
     "text": [
      "6 8 1.4142135623730951 1\n"
     ]
    }
   ],
   "source": [
    "# • Priskirkite savo pasirinktus skaičius kintamiesiems\n",
    "# • Raskite šių skaičių sandaugą, pakelkite juos savo pasirinktu\n",
    "# laipsniu;\n",
    "# • Ištraukite iš šių skaičių pasirinkto laipsnio šaknį\n",
    "# • Suraskite šių skaičių dalybos liekaną (dalinkite didesnį iš\n",
    "# mažesnio)\n",
    "\n",
    "c = 2\n",
    "d = 3\n",
    "print(c*d, c**d, c**(1/2), d%c)"
   ]
  },
  {
   "cell_type": "code",
   "execution_count": 38,
   "metadata": {},
   "outputs": [
    {
     "name": "stdout",
     "output_type": "stream",
     "text": [
      "42\n",
      "labas\n",
      "test\n"
     ]
    }
   ],
   "source": [
    "t = 42 \n",
    "l = 'labas'\n",
    "print(t,l,'test', sep='\\n')  \n",
    "#sep atskiria visus tarpus (%%) i tai ka nurodome arba nukelia i kita eilute (\\n)\n"
   ]
  },
  {
   "cell_type": "code",
   "execution_count": 42,
   "metadata": {},
   "outputs": [
    {
     "name": "stdout",
     "output_type": "stream",
     "text": [
      "jjjj\n"
     ]
    }
   ],
   "source": [
    "#funkcija input leidzia ivesti informacija\n",
    "#input ()\n",
    "ats_inputo = input()\n",
    "print(ats_inputo)"
   ]
  },
  {
   "cell_type": "code",
   "execution_count": 44,
   "metadata": {},
   "outputs": [
    {
     "name": "stdout",
     "output_type": "stream",
     "text": [
      "7\n"
     ]
    }
   ],
   "source": [
    "ats = input('Iveskite skaiciu [0-10]')\n",
    "print(ats)"
   ]
  },
  {
   "cell_type": "code",
   "execution_count": 46,
   "metadata": {},
   "outputs": [
    {
     "name": "stdout",
     "output_type": "stream",
     "text": [
      "hhhhhhh\n"
     ]
    }
   ],
   "source": [
    "ats = input('Iveskite skaiciu [0-10]')\n",
    "print(ats*7)\n",
    "#rodo 7777777 nes septynetas yra tekstas \n",
    "#Reikia konvertuoti \n",
    "#int()\n",
    "#str() - grazina skaiciu i teksta "
   ]
  },
  {
   "cell_type": "code",
   "execution_count": 48,
   "metadata": {},
   "outputs": [
    {
     "name": "stdout",
     "output_type": "stream",
     "text": [
      "Skaicius yra toks5\n"
     ]
    }
   ],
   "source": [
    "A = 5\n",
    "B = 'Skaicius yra toks'\n",
    "print(B+str(A))"
   ]
  },
  {
   "cell_type": "code",
   "execution_count": 49,
   "metadata": {},
   "outputs": [
    {
     "name": "stdout",
     "output_type": "stream",
     "text": [
      "49\n"
     ]
    }
   ],
   "source": [
    "ats = input('Iveskite skaiciu [0-10]')\n",
    "sk = int(ats)  #Pakeiciame tarpini i skaiciu\n",
    "print(sk*7)"
   ]
  },
  {
   "cell_type": "code",
   "execution_count": 62,
   "metadata": {},
   "outputs": [
    {
     "name": "stdout",
     "output_type": "stream",
     "text": [
      "Preke kainavo 50 EUR is kuriu 5.4 teko valstybei\n",
      "preke kainavo 50 EUR, is kuriu 6.9 teko valstybei.\n"
     ]
    }
   ],
   "source": [
    "# format metodas\n",
    "txt = \"Preke kainavo {} EUR is kuriu {} teko valstybei\"   #lauztiniai skliausteliai yra place holderis \n",
    "print(txt.format(50, 5.40))   #format metodas - ka daro ? \n",
    "print(\"preke kainavo {} EUR, is kuriu {} teko valstybei.\".format(50,6.9))\n"
   ]
  },
  {
   "cell_type": "code",
   "execution_count": 69,
   "metadata": {},
   "outputs": [
    {
     "name": "stdout",
     "output_type": "stream",
     "text": [
      "Preke kainavo 10.55 EUR\n"
     ]
    }
   ],
   "source": [
    "txt = \"Preke kainavo {:.2f} EUR\"   #f raide suapvalina iki 6 skaiciu po kableli\n",
    "print(txt.format(10.546521032134))  #formatai nurodyti: https://www.w3schools.com/python/ref_string_format.asp\n",
    "#jei prirasome .2 prie f, nurodome kad norime matyti 2 skaicius po kablelio "
   ]
  },
  {
   "cell_type": "code",
   "execution_count": 71,
   "metadata": {},
   "outputs": [
    {
     "name": "stdout",
     "output_type": "stream",
     "text": [
      "B banko klientai yra lojalesni už A banko klientus maždaug 2 kartus\n"
     ]
    }
   ],
   "source": [
    "txt = \"{1} banko klientai yra lojalesni už {0} banko klientus maždaug {2} kartus\"\n",
    "print(txt.format('A', 'B', 2))  #skaiciais nurodome kokia seka formatas indeksuos "
   ]
  },
  {
   "cell_type": "code",
   "execution_count": 72,
   "metadata": {},
   "outputs": [
    {
     "name": "stdout",
     "output_type": "stream",
     "text": [
      "SWED banko klientai yra lojalesni už SEB banko klientus maždaug 5 kartus\n"
     ]
    }
   ],
   "source": [
    "txt = \"{A} banko klientai yra lojalesni už {B} banko klientus maždaug {C} kartus\"\n",
    "print(txt.format(C=5,A='SWED',B='SEB'))  #sioje vietoje konkreciai nurodome kas yra kintamasis"
   ]
  },
  {
   "cell_type": "code",
   "execution_count": 75,
   "metadata": {},
   "outputs": [
    {
     "name": "stdout",
     "output_type": "stream",
     "text": [
      "Cia 42 randoms 42 tekstas su keliais 42\n",
      "Cia 42 randoms 999 tekstas su keliais 42\n"
     ]
    }
   ],
   "source": [
    "txt = 'Cia {A} randoms {A} tekstas su keliais {A}'\n",
    "print(txt.format(A=42))\n",
    "\n",
    "txt = 'Cia {A} randoms {B} tekstas su keliais {A}'  #parodyta kaip gali info pasiskirstyti\n",
    "print(txt.format(A=42, B=999))"
   ]
  },
  {
   "cell_type": "code",
   "execution_count": 90,
   "metadata": {},
   "outputs": [
    {
     "ename": "ValueError",
     "evalue": "invalid literal for int() with base 10: ''",
     "output_type": "error",
     "traceback": [
      "\u001b[1;31m---------------------------------------------------------------------------\u001b[0m",
      "\u001b[1;31mValueError\u001b[0m                                Traceback (most recent call last)",
      "Cell \u001b[1;32mIn[90], line 11\u001b[0m\n\u001b[0;32m      1\u001b[0m \u001b[38;5;66;03m# • Atlikite užduotis su skaičiais iš skaidrės (23). Šįkart skaičius\u001b[39;00m\n\u001b[0;32m      2\u001b[0m \u001b[38;5;66;03m# turi įvesti vartotojas.\u001b[39;00m\n\u001b[0;32m      3\u001b[0m \u001b[38;5;66;03m# • Išvestį suformatuokite taip, jog išvestų įvestus skačius, atlikto\u001b[39;00m\n\u001b[1;32m   (...)\u001b[0m\n\u001b[0;32m      7\u001b[0m \u001b[38;5;66;03m# • Parašykite kodą, kuris atrinktų simbolius iš teksto (įvedamo\u001b[39;00m\n\u001b[0;32m      8\u001b[0m \u001b[38;5;66;03m# vartotojo). Rėžius (nuo - iki) taip pat turi nurodyti vartotojas.\u001b[39;00m\n\u001b[1;32m---> 11\u001b[0m Skaicius1 \u001b[38;5;241m=\u001b[39m \u001b[38;5;28;43mint\u001b[39;49m\u001b[43m(\u001b[49m\u001b[38;5;28;43minput\u001b[39;49m\u001b[43m(\u001b[49m\u001b[38;5;124;43m'\u001b[39;49m\u001b[38;5;124;43mIveskite 1 skaiciu\u001b[39;49m\u001b[38;5;124;43m'\u001b[39;49m\u001b[43m)\u001b[49m\u001b[43m)\u001b[49m\n\u001b[0;32m     12\u001b[0m Skaicius2 \u001b[38;5;241m=\u001b[39m \u001b[38;5;28mint\u001b[39m(\u001b[38;5;28minput\u001b[39m(\u001b[38;5;124m'\u001b[39m\u001b[38;5;124mIveskite 2 skaiciu\u001b[39m\u001b[38;5;124m'\u001b[39m))\n\u001b[0;32m     13\u001b[0m \u001b[38;5;28mprint\u001b[39m(\u001b[38;5;124m'\u001b[39m\u001b[38;5;124mIvesti skaiciai:\u001b[39m\u001b[38;5;124m'\u001b[39m, Skaicius1, \u001b[38;5;124m'\u001b[39m\u001b[38;5;124mir\u001b[39m\u001b[38;5;124m'\u001b[39m, Skaicius2)\n",
      "\u001b[1;31mValueError\u001b[0m: invalid literal for int() with base 10: ''"
     ]
    }
   ],
   "source": [
    "# Mano versija \n",
    "# • Atlikite užduotis su skaičiais iš skaidrės (23). Šįkart skaičius\n",
    "# turi įvesti vartotojas.\n",
    "# • Išvestį suformatuokite taip, jog išvestų įvestus skačius, atlikto\n",
    "# veiksmo pavadinimą, pateiktų veiksmo rezultatą.\n",
    "# Rezultatams parodyti panaudokite skirtingus skaičių\n",
    "# atvaizdavimo formatus.\n",
    "# • Parašykite kodą, kuris atrinktų simbolius iš teksto (įvedamo\n",
    "# vartotojo). Rėžius (nuo - iki) taip pat turi nurodyti vartotojas.\n",
    "\n",
    "\n",
    "Skaicius1 = int(input('Iveskite 1 skaiciu'))\n",
    "Skaicius2 = int(input('Iveskite 2 skaiciu'))\n",
    "print('Ivesti skaiciai:', Skaicius1, 'ir', Skaicius2)\n",
    "print('Sandauga', Skaicius1, 'ir', Skaicius2, 'yra', Skaicius1*Skaicius2)\n",
    "print('Kelimas laipsniu:', Skaicius1**Skaicius2)\n",
    "\n",
    "txt = input('Iveskite teksta')\n",
    "txt2 = int(input('iveskite nuo kurio simbolio reikalingas tekstas'))\n",
    "txt3 = int(input('irasykite iki kurio simbolio reikalingas tekstas'))\n",
    "print(txt[txt2:txt3])\n",
    "\n",
    "\n",
    "\n"
   ]
  },
  {
   "cell_type": "code",
   "execution_count": 5,
   "metadata": {},
   "outputs": [
    {
     "name": "stdout",
     "output_type": "stream",
     "text": [
      "Sudetis siu skaiciu 5 ir 6, atsakymas 11.00\n"
     ]
    }
   ],
   "source": [
    "#Teisinga versija\n",
    "# • Atlikite užduotis su skaičiais iš skaidrės (23). Šįkart skaičius\n",
    "# turi įvesti vartotojas.\n",
    "# • Išvestį suformatuokite taip, jog išvestų įvestus skačius, atlikto\n",
    "# veiksmo pavadinimą, pateiktų veiksmo rezultatą.\n",
    "# Rezultatams parodyti panaudokite skirtingus skaičių\n",
    "# atvaizdavimo formatus.\n",
    "# • Parašykite kodą, kuris atrinktų simbolius iš teksto (įvedamo\n",
    "# vartotojo). Rėžius (nuo - iki) taip pat turi nurodyti vartotojas.\n",
    "\n",
    "a= int(input('nuo?'))\n",
    "b= int(input('iki'))\n",
    "print(\"Sudetis siu skaiciu {a} ir {b}, atsakymas {c:.2f}\".format(a=a,b=b,c=a+b))"
   ]
  },
  {
   "cell_type": "code",
   "execution_count": 8,
   "metadata": {},
   "outputs": [
    {
     "name": "stdout",
     "output_type": "stream",
     "text": [
      "lal\n"
     ]
    }
   ],
   "source": [
    "txt = input(\"tekstas\")\n",
    "a = int(input('nuo?'))\n",
    "b = int(input('iki?'))\n",
    "nuo, iki = (a,b) if a<b else (b,a) #peteklius cia (sudelioja skaicius jei sumaiso is eiles ivesti)\n",
    "print(txt[nuo:iki])"
   ]
  },
  {
   "cell_type": "code",
   "execution_count": 14,
   "metadata": {},
   "outputs": [
    {
     "name": "stdout",
     "output_type": "stream",
     "text": [
      "Dabar yra 21312 metai\n",
      "Dabar yra 2024 metai, 6 menuo\n"
     ]
    }
   ],
   "source": [
    "#F-strings - specialiai suformatuota elementas su F simboliu pradzioje. \n",
    "\n",
    "year = 2024\n",
    "a = 21312\n",
    "t = f'Dabar yra {a} metai'    #f eiluteje jei norime ideti kintamaji, jis jau turi buti aprasytas\n",
    "print(t)\n",
    "month = 6\n",
    "t2 = f'Dabar yra {year} metai, {month} menuo'\n",
    "print(t2)"
   ]
  },
  {
   "cell_type": "code",
   "execution_count": 17,
   "metadata": {},
   "outputs": [
    {
     "name": "stdout",
     "output_type": "stream",
     "text": [
      "___1.00___| liekanos operatoriaus rezultatas\n"
     ]
    }
   ],
   "source": [
    "a = int(input('Įveskite skaičių'))\n",
    "answer = f'{a %2:_^10.2f}| liekanos operatoriaus rezultatas' \n",
    "print(answer)\n",
    "\n",
    "#_ privalo uzpildyti apatiniais bruksneliais \n",
    "#stogelis i virsu - centravimo zenklas \n",
    "#10 - zenklu skaicius kiek uzima rezultatas \n",
    "#.2f - du skaiciai po kablelio \n",
    "#<.2f - centruoja i kaire \n",
    "#>.2f - centruoja i desine \n",
    "#jei nenurodome tikslumo ir formato, rodys sveika skaiciu "
   ]
  },
  {
   "cell_type": "code",
   "execution_count": 18,
   "metadata": {},
   "outputs": [
    {
     "name": "stdout",
     "output_type": "stream",
     "text": [
      "k=5\n"
     ]
    }
   ],
   "source": [
    "k = 5\n",
    "print(f'{k=}')  #budas patikrinti"
   ]
  },
  {
   "cell_type": "code",
   "execution_count": 19,
   "metadata": {},
   "outputs": [
    {
     "data": {
      "text/plain": [
       "False"
      ]
     },
     "execution_count": 19,
     "metadata": {},
     "output_type": "execute_result"
    }
   ],
   "source": [
    "not k == 5  #invertavome rezultata "
   ]
  },
  {
   "cell_type": "code",
   "execution_count": 20,
   "metadata": {},
   "outputs": [
    {
     "name": "stdout",
     "output_type": "stream",
     "text": [
      "True\n"
     ]
    }
   ],
   "source": [
    "txt = 'testas'\n",
    "print('a' in txt)  #patikrina ar 'a' yra tekste "
   ]
  },
  {
   "cell_type": "code",
   "execution_count": 46,
   "metadata": {},
   "outputs": [
    {
     "name": "stdout",
     "output_type": "stream",
     "text": [
      "\n"
     ]
    }
   ],
   "source": [
    "#Mano\n",
    "# Su input paklauskite teksto, ir su rodytais metodais bei ifu pasakykite, \n",
    "# ar įvestas tekstas buvo mažosiomis, didžiosiomis? Ar buvo vient tik iš skaičių?\n",
    "\n",
    "a = input('Iveskite teksta')\n",
    "if a.islower():\n",
    "    print('yra mazuju')\n",
    "elif a.isupper():\n",
    "    print('yra didziosios')\n",
    "elif a.isnumeric():\n",
    "    print('tik skaiciai')\n",
    "else :\n",
    "    print('ne viena salyga neteisinga')"
   ]
  },
  {
   "cell_type": "code",
   "execution_count": null,
   "metadata": {},
   "outputs": [],
   "source": [
    "#Teisingas\n",
    "# Su input paklauskite teksto, ir su rodytais metodais bei ifu pasakykite, \n",
    "# ar įvestas tekstas buvo mažosiomis, didžiosiomis? Ar buvo vient tik iš skaičių?\n",
    "\n",
    "txt = input()"
   ]
  }
 ],
 "metadata": {
  "kernelspec": {
   "display_name": "Python 3",
   "language": "python",
   "name": "python3"
  },
  "language_info": {
   "codemirror_mode": {
    "name": "ipython",
    "version": 3
   },
   "file_extension": ".py",
   "mimetype": "text/x-python",
   "name": "python",
   "nbconvert_exporter": "python",
   "pygments_lexer": "ipython3",
   "version": "3.12.4"
  }
 },
 "nbformat": 4,
 "nbformat_minor": 2
}
