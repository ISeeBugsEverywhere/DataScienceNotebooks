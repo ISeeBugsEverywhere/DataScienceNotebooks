{
 "cells": [
  {
   "cell_type": "code",
   "execution_count": 1,
   "metadata": {},
   "outputs": [
    {
     "name": "stdout",
     "output_type": "stream",
     "text": [
      "<class '__main__.Object'>\n",
      "<class '__main__.Object'>\n"
     ]
    }
   ],
   "source": [
    "class Object():                             #klases pavadinimas, skliaustelis dvitaskis. Visi dalykai rasomi vienodai atitraukti nuo krasto. \n",
    "    pass\n",
    "\n",
    "a = Object()   #kreipdamiesi i objekta mes sukuriame nauja kintamaji nurodyto tipo.\n",
    "b = Object()\n",
    "\n",
    "print(type(a), type(b), sep ='\\n')\n",
    "\n",
    "# <class '__main__.Object'>   'Object' - klases pavadinimas; 'main' - rodo kad pagrindiniame faile."
   ]
  },
  {
   "cell_type": "code",
   "execution_count": 2,
   "metadata": {},
   "outputs": [
    {
     "name": "stdout",
     "output_type": "stream",
     "text": [
      "<class 'int'>\n"
     ]
    }
   ],
   "source": [
    "print(type(5))\n",
    "\n",
    "# <class 'int'>  - kadangi nera main, rodo kad klase aprasyta kazkur kitur objekte. "
   ]
  },
  {
   "cell_type": "code",
   "execution_count": null,
   "metadata": {},
   "outputs": [],
   "source": [
    "# konstruktorius - kodas kuri reikia ivykdyti objekto sukurimo metu. \n",
    "# detruktorius - kodas kuri reikia ivykdyti objekto istrynimo metu. \n",
    "\n"
   ]
  },
  {
   "cell_type": "code",
   "execution_count": 13,
   "metadata": {},
   "outputs": [
    {
     "name": "stdout",
     "output_type": "stream",
     "text": [
      "Y, as gyvas\n"
     ]
    }
   ],
   "source": [
    "class SimpleObject():   #kaip apsiraso konkstruktorius: (t.y. funkcija nurodytu pavadinimu)\n",
    "    def __init__(self):      #__init__ spec pavadinimas konstruktoriui. 'self' - pythonui pasako kad yra funkcijos sudedamoji dalis \n",
    "        print('Y, as gyvas')\n",
    "        \n",
    "    def _init_(self):            #jei panaikiname po bruksneli, rodo kad tokio nera (t.y. klases metodas kuri iskviestume kaip 9 eiluteje). Neveikia nes nera __init__ su dvigubu bruksneliu.\n",
    "        print('Y, as gyvas')\n",
    "        \n",
    "a = SimpleObject()  # Jei nebutu sitos eilutes, nesuveiktu 9 eilute. \n",
    "a._init_()"
   ]
  },
  {
   "cell_type": "code",
   "execution_count": 21,
   "metadata": {},
   "outputs": [
    {
     "name": "stdout",
     "output_type": "stream",
     "text": [
      "Y, as gyvas\n"
     ]
    }
   ],
   "source": [
    "#Destruktorius \n",
    "\n",
    "class SimpleObject():   #kaip apsiraso konkstruktorius: (t.y. funkcija nurodytu pavadinimu)\n",
    "    def __init__(self):      #__init__ spec pavadinimas konstruktoriui. 'self' - pythonui pasako kad yra funkcijos sudedamoji dalis \n",
    "        print('Y, as gyvas')\n",
    "    \n",
    "    def __del__(self):            # destrukorius tai kodas kuris bus vykdomas kai neliks kintamojo \n",
    "        print('FCUK manes neliko')\n",
    "        \n",
    "a = SimpleObject()   # rodo 'Y, as gyvas'\n"
   ]
  },
  {
   "cell_type": "code",
   "execution_count": 22,
   "metadata": {},
   "outputs": [
    {
     "name": "stdout",
     "output_type": "stream",
     "text": [
      "FCUK manes neliko\n"
     ]
    }
   ],
   "source": [
    "del a   #buvo ivykdyta destruktoriaus kodas. (delete funkcija)\n",
    "\n",
    "#priekyje def galime irasyti viska ko reikia (pvz. failo uzdarymas ir pan.) \n",
    "#mes nezinome kad bus istrinta destruktoriaus kodas ! (delete / destruktorius)"
   ]
  },
  {
   "cell_type": "code",
   "execution_count": 24,
   "metadata": {},
   "outputs": [
    {
     "name": "stdout",
     "output_type": "stream",
     "text": [
      "Tai yra atrbutas\n",
      "42\n"
     ]
    }
   ],
   "source": [
    "class SimpleObject():\n",
    "    def __init__(self) -> None:\n",
    "        self.X = \"Tai yra atrbutas\"    #sukuriame atributa.  self. - pozymis kad sis kintamasis yra klases viduje ir yra sudedamoji dalis. (jei nepridedame self. Python galvos kad kazkur kitur)\n",
    "\n",
    "r = SimpleObject()\n",
    "\n",
    "atributas_x = r.X     #tai yra budas kaip yra pasiekiamas atributas X\n",
    "\n",
    "print(atributas_x)\n",
    "\n",
    "r.X = 42   #atributo reiksmes modifikavimas.   \n",
    "\n",
    "print(r.X) "
   ]
  },
  {
   "cell_type": "code",
   "execution_count": 34,
   "metadata": {},
   "outputs": [
    {
     "name": "stdout",
     "output_type": "stream",
     "text": [
      "42\n",
      "45\n",
      "88\n"
     ]
    }
   ],
   "source": [
    "class SimpleObject():   #Jei norime kad keistusi tam tikro atributo reiksme \n",
    "    def __init__(self, x):       \n",
    "        self.X = x\n",
    "    \n",
    "    def get_X(self):   # cia yra metodas\n",
    "        return self.X     #cia yra atributo X pasiekimas metodo viduje. \n",
    "    \n",
    "    def set_X(self, x):  #keiciamas atributas \n",
    "        self.X = x\n",
    "    \n",
    "    \n",
    "r = SimpleObject(42)\n",
    "print(r.X)\n",
    "\n",
    "p = SimpleObject(45)\n",
    "print(p.X)\n",
    "\n",
    "r.set_X(88)     #pakeicia X reiksme is 42 i 88 \n",
    "\n",
    "print(r.get_X())\n"
   ]
  },
  {
   "cell_type": "code",
   "execution_count": 41,
   "metadata": {},
   "outputs": [
    {
     "name": "stdout",
     "output_type": "stream",
     "text": [
      "konstruktorius yra sukurtas\n"
     ]
    }
   ],
   "source": [
    "# • Parašykite klasę, turinčią konstruktorių. Konstruktorius turi\n",
    "# spausdinti pranešimą, jog objektas yra sukurtas.\n",
    "# DONE\n",
    "# \n",
    "\n",
    "\n",
    "# • Prie ankstesnės klasės pridėkite metodus, skirtus išvesti\n",
    "# atributo reikšmę, pakeisti atributo reikšmę. patikrinkite, ar jie\n",
    "# veikia.\n",
    "\n",
    "\n",
    "class Nauja_klase():   #kaip apsiraso konkstruktorius: (t.y. funkcija nurodytu pavadinimu)\n",
    "    def __init__(self):\n",
    "        print('konstruktorius yra sukurtas')\n",
    "\n",
    "a = Nauja_klase()\n"
   ]
  },
  {
   "cell_type": "code",
   "execution_count": 45,
   "metadata": {},
   "outputs": [
    {
     "name": "stdout",
     "output_type": "stream",
     "text": [
      "konstruktorius yra sukurtas\n"
     ]
    }
   ],
   "source": [
    "# • Parašykite klasę, kuri turėtų konstruktorių, destruktorių. Abu\n",
    "# # turi spausdinti informacinį pranešimą, jog objektas yra\n",
    "# # sukurtas/sunaikintas.\n",
    "# ???????????????????????????????????????????????????????????????????\n",
    "\n",
    "class Nauja_klase():   #kaip apsiraso konkstruktorius: (t.y. funkcija nurodytu pavadinimu)\n",
    "    def __init__(self):\n",
    "        print('konstruktorius yra sukurtas')\n",
    "    def __Del__(self):\n",
    "        print('manes neliko')\n",
    "\n",
    "a = Nauja_klase()\n",
    "\n",
    "del a"
   ]
  },
  {
   "cell_type": "code",
   "execution_count": 63,
   "metadata": {},
   "outputs": [
    {
     "name": "stdout",
     "output_type": "stream",
     "text": [
      "Naujas atributas\n",
      "15\n"
     ]
    }
   ],
   "source": [
    "# • Parašykite klasę, kuri turėtų vieną atributą. Pasiekite jo\n",
    "# reikšmę, išveskite. Pakeiskite atributo reikšmę. Patikrinkite,\n",
    "# ar reikšmė pakito.\n",
    "\n",
    "class Nauja_klase():   #kaip apsiraso konkstruktorius: (t.y. funkcija nurodytu pavadinimu)\n",
    "    def __init__(self, x):\n",
    "        self.Y = 'Naujas atributas'   #priskiriame atributa \n",
    "    def set_X(self, x):  #keiciamas atributas \n",
    "        self.Y = x\n",
    "        \n",
    "b = Nauja_klase(5)      #pasiekiame atributa \n",
    "\n",
    "atributasY = b.Y  \n",
    "\n",
    "print(atributasY)  \n",
    "\n",
    "b.set_X(15)\n",
    "Naujas_atributas = b.Y\n",
    "\n",
    "print(Naujas_atributas)\n"
   ]
  },
  {
   "cell_type": "code",
   "execution_count": 64,
   "metadata": {},
   "outputs": [
    {
     "name": "stdout",
     "output_type": "stream",
     "text": [
      "Labas rytas čia yra tekstas su įvairiais tarpais ir tarpeliais\n"
     ]
    }
   ],
   "source": [
    "t = \" Labas rytas čia yra tekstas su įvairiais tarpais ir tarpeliais \"\n",
    "t_ = ' '.join(t.split())\n",
    "print(t_)"
   ]
  },
  {
   "cell_type": "code",
   "execution_count": null,
   "metadata": {},
   "outputs": [],
   "source": [
    "# Parašyti funkciją, kuri nuskaitytų pateiktą DAT failą (DATA aplanke)\n",
    "# # ir grąžintų 6-is sąrašus, kuriuose būtų atitinkamų stulpelių informacija.\n",
    "# # Turite tekstą konvertuoti į float'us\n",
    "# # Turite praleisti tas eilutes kur pirmame stuleplyje yra ne skaitinis įrašas\n",
    "\n",
    "import os \n",
    "\n",
    "def failo_skaitymas(C:\\Users\\User\\Desktop\\Codes\\DataScienceNotebooks\\DATA\\V1670_2024-04-24.dat)"
   ]
  },
  {
   "cell_type": "code",
   "execution_count": 75,
   "metadata": {},
   "outputs": [
    {
     "name": "stdout",
     "output_type": "stream",
     "text": [
      "([4.5, 4.5, 4.5, 4.525, 4.525, 4.525, 4.55, 4.55, 4.55, 4.575, 4.575, 4.575, 4.6, 4.6, 4.6, 4.625, 4.625, 4.625, 4.65, 4.65, 4.65, 4.675, 4.675, 4.675, 4.7, 4.7, 4.7, 4.725, 4.725, 4.725, 4.75, 4.75, 4.75, 4.775, 4.775, 4.775, 4.8, 4.8, 4.8, 4.825, 4.825, 4.825, 4.85, 4.85, 4.85, 4.875, 4.875, 4.875, 4.9, 4.9, 4.9, 4.925, 4.925, 4.925, 4.95, 4.95, 4.95, 4.975, 4.975, 4.975, 5.0, 5.0, 5.0, 5.025, 5.025, 5.025, 5.05, 5.05, 5.05, 5.075, 5.075, 5.075, 5.1, 5.1, 5.1, 5.125, 5.125, 5.125, 5.15, 5.15, 5.15, 5.175, 5.175, 5.175, 5.2, 5.2, 5.2, 5.225, 5.225, 5.225, 5.25, 5.25, 5.25, 5.275, 5.275, 5.275, 5.3, 5.3, 5.3, 5.325, 5.325, 5.325, 5.35, 5.35, 5.35, 5.375, 5.375, 5.375, 5.4, 5.4, 5.4, 5.425, 5.425, 5.425, 5.45, 5.45, 5.45, 5.475, 5.475, 5.475, 5.5, 5.5, 5.5, 5.525, 5.525, 5.525, 5.55, 5.55, 5.55, 5.575, 5.575, 5.575, 5.6, 5.6, 5.6, 5.625, 5.625, 5.625, 5.65, 5.65, 5.65, 5.675, 5.675, 5.675, 5.7, 5.7, 5.7, 5.725, 5.725, 5.725, 5.75, 5.75, 5.75, 5.775, 5.775, 5.775, 5.8, 5.8, 5.8, 5.825, 5.825, 5.825, 5.85, 5.85, 5.85, 5.875, 5.875, 5.875, 5.9, 5.9, 5.9, 5.925, 5.925, 5.925, 5.95, 5.95, 5.95, 5.975, 5.975, 5.975, 6.0, 6.0, 6.0, 6.025, 6.025, 6.025, 6.05, 6.05, 6.05, 6.075, 6.075, 6.075, 6.1, 6.1, 6.1, 6.125, 6.125, 6.125, 6.15, 6.15, 6.15, 6.175, 6.175, 6.175, 6.2, 6.2, 6.2, 6.225, 6.225, 6.225], [60.0, 48.0, 60.0, 48.0, 24.0, 12.0, 144.0, 48.0, 48.0, 72.0, 84.0, 48.0, 24.0, 24.0, 24.0, 48.0, 120.0, 60.0, 36.0, 24.0, 96.0, 156.0, 48.0, 120.0, 48.0, 48.0, 96.0, 36.0, 72.0, 108.0, 72.0, 36.0, 60.0, 108.0, 12.0, 48.0, 84.0, 48.0, 264.0, 132.0, 60.0, 84.0, 120.0, 108.0, 60.0, 120.0, 72.0, 36.0, 120.0, 84.0, 120.0, 96.0, 144.0, 156.0, 192.0, 108.0, 144.0, 120.0, 216.0, 72.0, 156.0, 120.0, 192.0, 108.0, 144.0, 108.0, 156.0, 120.0, 252.0, 84.0, 120.0, 132.0, 84.0, 120.0, 228.0, 120.0, 288.0, 156.0, 228.0, 240.0, 192.0, 264.0, 168.0, 300.0, 240.0, 264.0, 288.0, 312.0, 348.0, 456.0, 456.0, 552.0, 432.0, 696.0, 492.0, 492.0, 780.0, 852.0, 636.0, 1212.0, 1044.0, 1128.0, 1380.0, 1644.0, 1416.0, 1992.0, 2064.0, 2220.0, 2748.0, 2568.0, 2700.0, 2712.0, 2892.0, 2532.0, 3096.0, 3624.0, 3060.0, 4236.0, 3096.0, 3120.0, 4032.0, 3936.0, 4068.0, 5364.0, 5328.0, 4212.0, 5724.0, 5280.0, 4572.0, 5652.0, 5400.0, 4920.0, 6012.0, 4956.0, 5232.0, 6060.0, 6096.0, 5400.0, 6804.0, 6396.0, 5856.0, 6564.0, 6564.0, 7452.0, 8820.0, 7632.0, 7416.0, 7992.0, 7932.0, 7524.0, 8868.0, 8388.0, 9156.0, 8988.0, 8760.0, 8976.0, 8856.0, 9612.0, 8868.0, 10332.0, 10824.0, 9588.0, 11376.0, 10308.0, 10092.0, 11652.0, 11496.0, 11904.0, 11772.0, 12168.0, 10944.0, 12144.0, 11964.0, 11640.0, 13248.0, 13992.0, 13920.0, 14748.0, 13380.0, 13200.0, 14952.0, 13176.0, 14604.0, 17052.0, 15708.0, 14400.0, 16848.0, 15840.0, 15264.0, 16740.0, 17844.0, 17760.0, 19344.0, 18324.0, 16344.0, 18168.0, 17880.0, 16056.0, 21156.0, 22092.0, 20208.0, 21300.0, 18816.0, 19560.0, 19788.0, 20064.0, 21396.0, 23916.0, 22284.0, 21420.0], [1.2, 0.96, 1.2, 0.94, 0.47, 0.24, 2.77, 0.92, 0.92, 1.36, 1.59, 0.91, 0.45, 0.45, 0.45, 0.88, 2.2, 1.1, 0.65, 0.44, 1.74, 2.79, 0.86, 2.15, 0.85, 0.85, 1.7, 0.63, 1.26, 1.89, 1.25, 0.63, 1.04, 1.87, 0.21, 0.83, 1.44, 0.82, 4.53, 2.25, 1.02, 1.43, 2.04, 1.83, 1.02, 2.02, 1.21, 0.61, 2.01, 1.41, 2.01, 1.61, 2.41, 2.61, 3.21, 1.81, 2.41, 2.0, 3.61, 1.2, 2.6, 2.0, 3.2, 1.8, 2.4, 1.8, 2.61, 2.01, 4.21, 1.41, 2.02, 2.22, 1.42, 2.02, 3.85, 2.04, 4.9, 2.66, 3.92, 4.12, 3.3, 4.6, 2.93, 5.22, 4.24, 4.66, 5.09, 5.62, 6.27, 8.22, 8.38, 10.15, 7.94, 13.16, 9.3, 9.3, 15.18, 16.58, 12.38, 24.43, 21.05, 22.74, 28.84, 34.35, 29.59, 43.38, 44.95, 48.35, 62.45, 58.36, 61.36, 64.41, 68.69, 60.14, 76.98, 90.1, 76.08, 110.26, 80.59, 81.21, 110.08, 107.46, 111.07, 153.05, 152.03, 120.18, 170.96, 157.69, 136.55, 176.19, 168.33, 153.37, 195.91, 161.5, 170.49, 205.88, 207.11, 183.46, 241.37, 226.9, 207.74, 241.94, 241.94, 274.68, 338.23, 292.68, 284.39, 319.76, 317.36, 301.04, 370.8, 350.73, 382.84, 393.3, 383.32, 392.77, 406.37, 441.06, 406.92, 497.23, 520.91, 461.42, 575.33, 521.32, 510.39, 616.47, 608.22, 629.8, 652.67, 674.63, 606.77, 705.89, 695.43, 676.59, 808.64, 854.06, 849.66, 935.56, 848.78, 837.36, 987.09, 869.84, 964.11, 1158.39, 1067.09, 978.23, 1178.15, 1107.66, 1067.38, 1196.19, 1275.08, 1269.08, 1412.92, 1338.42, 1193.79, 1352.39, 1330.95, 1195.18, 1604.84, 1675.85, 1532.93, 1640.25, 1448.97, 1506.26, 1546.76, 1568.33, 1672.45, 1909.46, 1779.16, 1710.18], [1.35, 1.08, 1.35, 1.05, 0.53, 0.26, 3.09, 1.03, 1.03, 1.51, 1.76, 1.01, 0.49, 0.49, 0.49, 0.97, 2.41, 1.21, 0.71, 0.47, 1.9, 3.02, 0.93, 2.33, 0.91, 0.91, 1.83, 0.68, 1.35, 2.03, 1.33, 0.67, 1.11, 1.98, 0.22, 0.88, 1.52, 0.87, 4.78, 2.36, 1.07, 1.5, 2.12, 1.91, 1.06, 2.1, 1.26, 0.63, 2.08, 1.46, 2.08, 1.65, 2.48, 2.69, 3.28, 1.85, 2.46, 2.04, 3.67, 1.22, 2.63, 2.02, 3.24, 1.82, 2.42, 1.82, 2.62, 2.01, 4.22, 1.41, 2.01, 2.21, 1.41, 2.01, 3.82, 2.02, 4.84, 2.62, 3.85, 4.05, 3.24, 4.5, 2.86, 5.11, 4.13, 4.54, 4.95, 5.45, 6.07, 7.96, 8.08, 9.79, 7.66, 12.63, 8.93, 8.93, 14.5, 15.84, 11.82, 23.23, 20.01, 21.62, 27.28, 32.5, 28.0, 40.86, 42.33, 45.53, 58.55, 54.71, 57.52, 60.11, 64.1, 56.12, 71.5, 83.69, 70.67, 101.95, 74.51, 75.09, 101.32, 98.91, 102.23, 140.24, 139.29, 110.12, 155.93, 143.84, 124.55, 159.99, 152.85, 139.27, 177.1, 145.99, 154.12, 185.29, 186.39, 165.11, 216.26, 203.29, 186.13, 215.82, 215.82, 245.02, 300.39, 259.93, 252.57, 282.74, 280.62, 266.19, 326.45, 308.78, 337.05, 344.76, 336.02, 344.3, 354.68, 384.96, 355.16, 432.12, 452.7, 401.0, 497.87, 451.13, 441.67, 531.18, 524.07, 542.67, 560.01, 578.84, 520.62, 603.1, 594.16, 578.07, 687.99, 726.62, 722.89, 792.65, 719.12, 709.45, 832.81, 733.89, 813.43, 973.29, 896.58, 821.92, 985.8, 926.82, 893.12, 996.78, 1062.52, 1057.52, 1172.53, 1110.7, 990.69, 1117.76, 1100.04, 987.82, 1320.99, 1379.43, 1261.79, 1344.7, 1187.88, 1234.85, 1262.92, 1280.54, 1365.55, 1552.79, 1446.83, 1390.73], [4.07, 4.07, 3.93, 3.93, 4.0, 4.0, 4.0, 4.0, 4.07, 4.07, 3.93, 3.93, 4.0, 4.0, 4.0, 4.0, 4.07, 4.07, 4.0, 3.93, 4.0, 4.0, 4.0, 4.07, 4.07, 4.07, 3.93, 3.93, 4.0, 4.0, 4.0, 4.0, 4.07, 4.07, 3.93, 3.93, 4.0, 4.0, 4.0, 4.07, 4.07, 4.07, 3.93, 4.0, 4.0, 4.0, 4.0, 4.07, 4.07, 4.07, 3.93, 4.0, 3.93, 4.0, 4.0, 4.0, 4.07, 4.07, 3.93, 4.0, 4.0, 4.0, 4.0, 4.07, 4.07, 4.07, 3.93, 3.93, 4.0, 4.0, 4.0, 4.07, 4.07, 3.93, 3.93, 4.0, 4.0, 4.0, 4.0, 4.07, 4.07, 4.07, 3.93, 3.93, 4.0, 4.0, 4.0, 4.07, 4.07, 4.07, 3.93, 4.0, 3.93, 4.0, 4.0, 4.07, 4.07, 4.07, 4.07, 4.07, 3.86, 3.86, 4.07, 4.07, 3.73, 3.73, 4.27, 4.27, 3.73, 3.73, 3.73, 3.73, 3.73, 3.73, 3.79, 3.79, 3.79, 3.86, 3.86, 3.86, 3.86, 4.07, 4.07, 4.07, 3.86, 3.86, 3.86, 3.86, 3.93, 3.93, 3.93, 3.93, 4.0, 4.0, 4.07, 4.07, 4.07, 3.93, 4.0, 4.0, 4.0, 4.0, 4.07, 4.07, 3.93, 3.93, 4.0, 4.0, 4.0, 4.07, 4.07, 4.07, 3.93, 3.93, 3.93, 4.0, 4.0, 4.0, 4.07, 4.07, 4.0, 3.93, 4.0, 4.0, 4.0, 4.0, 4.07, 4.07, 3.93, 3.93, 4.0, 4.0, 4.0, 4.0, 4.07, 4.07, 3.93, 3.93, 4.0, 4.0, 4.0, 4.07, 4.07, 4.07, 3.93, 3.93, 4.0, 4.0, 4.0, 4.07, 4.07, 4.07, 3.93, 3.93, 4.0, 4.0, 4.0, 4.0, 4.07, 4.07, 3.93, 3.93, 4.0, 4.0, 4.0, 4.07, 4.07, 4.07, 3.93, 4.0], [])\n"
     ]
    }
   ],
   "source": [
    "import os  # Importuoja os modulį, kuris leidžia atlikti operacijas su failų sistema\n",
    "\n",
    "def skaityti_dat_faila(filepath):    #def funkcijos_pavadinimas(parametrai)\n",
    "\n",
    "    stulpelis0 = []  # Sukuria sąrašą pirmajam stulpeliui\n",
    "    stulpelis1 = []  # Sukuria sąrašą antrajam stulpeliui\n",
    "    stulpelis2 = []  # Sukuria sąrašą trečiajam stulpeliui\n",
    "    stulpelis3 = []  # Sukuria sąrašą ketvirtajam stulpeliui\n",
    "    stulpelis4 = []  # Sukuria sąrašą penktajam stulpeliui\n",
    "    stulpelis5 = []  # Sukuria sąrašą šeštajam stulpeliui\n",
    "\n",
    "    # Atidaro failą skaitymui\n",
    "    with open(filepath, 'r') as file:     # // with - context manager, užtikrina, kad failas bus uždarytas kai išeisime iš bloko // open(filepath,'r') - funkcija open atidaro faila pagal kelia 'filepath', 'r' - argumentas rodo skaitymo rezima // 'as file' - sukuriamas objekto vardas 'file'\n",
    "        # Eina per kiekvieną failo eilutę\n",
    "        for eilute in file:   # for - ciklas // 'eilute' - susikurtas kintamas kuris kiekviena karta igauna verte is sekos // 'file' - yra failo objektas kuris buvo sukurtas su with open // \n",
    "            # Pašalina nereikalingus tarpus ir padalina eilutę į reikšmes pagal tarpelius\n",
    "            reiksmes = eilute.strip().split()  # kintamas = eilutes tekstas gautas iš ciklo // .strip() - panaikinapradzio ir pabaigos simbolius tarpus ir nematomus simbolius //  \n",
    "            try:   #susitvarkome klaidas \n",
    "                # Bando konvertuoti pirmą reikšmę į float, kad įsitikintų, jog ji yra skaitinė\n",
    "                float(reiksmes[0])  #bando konvertuoti pirmaji saraso elementa i float. // reiksmes[0] - nurodo pirmaji saraso elementa \n",
    "                # Eina per kiekvieną stulpelį ir prideda reikšmes į atitinkamus sąrašus\n",
    "                stulpelis0.append(float(reiksmes[0]))\n",
    "                stulpelis1.append(float(reiksmes[1]))\n",
    "                stulpelis2.append(float(reiksmes[2]))\n",
    "                stulpelis3.append(float(reiksmes[3]))\n",
    "                stulpelis4.append(float(reiksmes[4]))\n",
    "                stulpelis5.append(float(reiksmes[5]))\n",
    "            except ValueError: #sukelia errora jei nepavyksta pakeisti i float 15 eiluteje \n",
    "                # Jei pirmoji reikšmė nėra skaitinė, praleidžia tą eilutę\n",
    "                continue  #praleidzia ciklo dali ir eina prie kitu interaciju (siuo atveju jei pirmas stulpelio elementas nera skaitinis)\n",
    "\n",
    "    # Grąžina užpildytus stulpelių sąrašus\n",
    "    return stulpelis0, stulpelis1, stulpelis2, stulpelis3, stulpelis4, stulpelis5\n",
    "\n",
    "# Naudojimas:\n",
    "failo_kelias = r\"C:\\Users\\User\\Desktop\\Codes\\DataScienceNotebooks\\DATA\\V1670_2024-04-24.dat\"  # Nurodo failo kelią\n",
    "rezultat = skaityti_dat_faila(failo_kelias)  # Kvietimas funkcijai su failo keliu\n",
    "print(rezultat)  # Spausdina rezultatus\n",
    "\n"
   ]
  },
  {
   "cell_type": "code",
   "execution_count": null,
   "metadata": {},
   "outputs": [],
   "source": [
    "# Perrašyti ankstesnę funkciją taip, kad jai galima būtų nurodyti\n",
    "# stulpelių skirtuką, ir kuriuos stulpelius gražinti kaip sąrašus. Stulpeliai nurodomi kaip\n",
    "# indeksai (skaičiai).\n",
    "# Turi veikti ir su duotaisiais DAT ir su duotaisiais txt failais.\n",
    "# Taip pat funkcijai turite galėti nurodyti, koks\n",
    "# skirtukas skiria dešimtaines dalis - taškas ar kablelis.\n",
    "# funkcija turi apdoroti tik tas eilutes, kur nurodytame pirmajame stulpelyje\n",
    "# yra skaičiai, turi ignoruoti tekstinius įrašus"
   ]
  }
 ],
 "metadata": {
  "kernelspec": {
   "display_name": "Python 3",
   "language": "python",
   "name": "python3"
  },
  "language_info": {
   "codemirror_mode": {
    "name": "ipython",
    "version": 3
   },
   "file_extension": ".py",
   "mimetype": "text/x-python",
   "name": "python",
   "nbconvert_exporter": "python",
   "pygments_lexer": "ipython3",
   "version": "3.12.4"
  }
 },
 "nbformat": 4,
 "nbformat_minor": 2
}
