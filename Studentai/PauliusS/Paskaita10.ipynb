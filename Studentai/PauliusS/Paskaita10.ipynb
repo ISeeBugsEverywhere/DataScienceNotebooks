{
 "cells": [
  {
   "cell_type": "code",
   "execution_count": 1,
   "metadata": {},
   "outputs": [
    {
     "name": "stdout",
     "output_type": "stream",
     "text": [
      "<class '__main__.Object'>\n",
      "<class '__main__.Object'>\n"
     ]
    }
   ],
   "source": [
    "class Object():                             #klases pavadinimas, skliaustelis dvitaskis. Visi dalykai rasomi vienodai atitraukti nuo krasto. \n",
    "    pass\n",
    "\n",
    "a = Object()   #kreipdamiesi i objekta mes sukuriame nauja kintamaji nurodyto tipo.\n",
    "b = Object()\n",
    "\n",
    "print(type(a), type(b), sep ='\\n')\n",
    "\n",
    "# <class '__main__.Object'>   'Object' - klases pavadinimas; 'main' - rodo kad pagrindiniame faile."
   ]
  },
  {
   "cell_type": "code",
   "execution_count": 2,
   "metadata": {},
   "outputs": [
    {
     "name": "stdout",
     "output_type": "stream",
     "text": [
      "<class 'int'>\n"
     ]
    }
   ],
   "source": [
    "print(type(5))\n",
    "\n",
    "# <class 'int'>  - kadangi nera main, rodo kad klase aprasyta kazkur kitur objekte. "
   ]
  },
  {
   "cell_type": "code",
   "execution_count": null,
   "metadata": {},
   "outputs": [],
   "source": [
    "# konstruktorius - kodas kuri reikia ivykdyti objekto sukurimo metu. \n",
    "# detruktorius - kodas kuri reikia ivykdyti objekto istrynimo metu. \n",
    "\n"
   ]
  },
  {
   "cell_type": "code",
   "execution_count": 13,
   "metadata": {},
   "outputs": [
    {
     "name": "stdout",
     "output_type": "stream",
     "text": [
      "Y, as gyvas\n"
     ]
    }
   ],
   "source": [
    "class SimpleObject():   #kaip apsiraso konkstruktorius: (t.y. funkcija nurodytu pavadinimu)\n",
    "    def __init__(self):      #__init__ spec pavadinimas konstruktoriui. 'self' - pythonui pasako kad yra funkcijos sudedamoji dalis \n",
    "        print('Y, as gyvas')\n",
    "        \n",
    "    def _init_(self):            #jei panaikiname po bruksneli, rodo kad tokio nera (t.y. klases metodas kuri iskviestume kaip 9 eiluteje). Neveikia nes nera __init__ su dvigubu bruksneliu.\n",
    "        print('Y, as gyvas')\n",
    "        \n",
    "a = SimpleObject()  # Jei nebutu sitos eilutes, nesuveiktu 9 eilute. \n",
    "a._init_()"
   ]
  },
  {
   "cell_type": "code",
   "execution_count": 21,
   "metadata": {},
   "outputs": [
    {
     "name": "stdout",
     "output_type": "stream",
     "text": [
      "Y, as gyvas\n"
     ]
    }
   ],
   "source": [
    "#Destruktorius \n",
    "\n",
    "class SimpleObject():   #kaip apsiraso konkstruktorius: (t.y. funkcija nurodytu pavadinimu)\n",
    "    def __init__(self):      #__init__ spec pavadinimas konstruktoriui. 'self' - pythonui pasako kad yra funkcijos sudedamoji dalis \n",
    "        print('Y, as gyvas')\n",
    "    \n",
    "    def __del__(self):            # destrukorius tai kodas kuris bus vykdomas kai neliks kintamojo \n",
    "        print('FCUK manes neliko')\n",
    "        \n",
    "a = SimpleObject()   # rodo 'Y, as gyvas'\n"
   ]
  },
  {
   "cell_type": "code",
   "execution_count": 22,
   "metadata": {},
   "outputs": [
    {
     "name": "stdout",
     "output_type": "stream",
     "text": [
      "FCUK manes neliko\n"
     ]
    }
   ],
   "source": [
    "del a   #buvo ivykdyta destruktoriaus kodas. (delete funkcija)\n",
    "\n",
    "#priekyje def galime irasyti viska ko reikia (pvz. failo uzdarymas ir pan.) \n",
    "#mes nezinome kad bus istrinta destruktoriaus kodas ! (delete / destruktorius)"
   ]
  },
  {
   "cell_type": "code",
   "execution_count": 24,
   "metadata": {},
   "outputs": [
    {
     "name": "stdout",
     "output_type": "stream",
     "text": [
      "Tai yra atrbutas\n",
      "42\n"
     ]
    }
   ],
   "source": [
    "class SimpleObject():\n",
    "    def __init__(self) -> None:\n",
    "        self.X = \"Tai yra atrbutas\"    #sukuriame atributa.  self. - pozymis kad sis kintamasis yra klases viduje ir yra sudedamoji dalis. (jei nepridedame self. Python galvos kad kazkur kitur)\n",
    "\n",
    "r = SimpleObject()\n",
    "\n",
    "atributas_x = r.X     #tai yra budas kaip yra pasiekiamas atributas X\n",
    "\n",
    "print(atributas_x)\n",
    "\n",
    "r.X = 42   #atributo reiksmes modifikavimas.   \n",
    "\n",
    "print(r.X) "
   ]
  },
  {
   "cell_type": "code",
   "execution_count": 34,
   "metadata": {},
   "outputs": [
    {
     "name": "stdout",
     "output_type": "stream",
     "text": [
      "42\n",
      "45\n",
      "88\n"
     ]
    }
   ],
   "source": [
    "class SimpleObject():   #Jei norime kad keistusi tam tikro atributo reiksme \n",
    "    def __init__(self, x):       \n",
    "        self.X = x\n",
    "    \n",
    "    def get_X(self):   # cia yra metodas\n",
    "        return self.X     #cia yra atributo X pasiekimas metodo viduje. \n",
    "    \n",
    "    def set_X(self, x):  #keiciamas atributas \n",
    "        self.X = x\n",
    "    \n",
    "    \n",
    "r = SimpleObject(42)\n",
    "print(r.X)\n",
    "\n",
    "p = SimpleObject(45)\n",
    "print(p.X)\n",
    "\n",
    "r.set_X(88)     #pakeicia X reiksme is 42 i 88 \n",
    "\n",
    "print(r.get_X())\n"
   ]
  },
  {
   "cell_type": "code",
   "execution_count": 41,
   "metadata": {},
   "outputs": [
    {
     "name": "stdout",
     "output_type": "stream",
     "text": [
      "konstruktorius yra sukurtas\n"
     ]
    }
   ],
   "source": [
    "# • Parašykite klasę, turinčią konstruktorių. Konstruktorius turi\n",
    "# spausdinti pranešimą, jog objektas yra sukurtas.\n",
    "# DONE\n",
    "# \n",
    "\n",
    "\n",
    "# • Prie ankstesnės klasės pridėkite metodus, skirtus išvesti\n",
    "# atributo reikšmę, pakeisti atributo reikšmę. patikrinkite, ar jie\n",
    "# veikia.\n",
    "\n",
    "\n",
    "class Nauja_klase():   #kaip apsiraso konkstruktorius: (t.y. funkcija nurodytu pavadinimu)\n",
    "    def __init__(self):\n",
    "        print('konstruktorius yra sukurtas')\n",
    "\n",
    "a = Nauja_klase()\n"
   ]
  },
  {
   "cell_type": "code",
   "execution_count": 45,
   "metadata": {},
   "outputs": [
    {
     "name": "stdout",
     "output_type": "stream",
     "text": [
      "konstruktorius yra sukurtas\n"
     ]
    }
   ],
   "source": [
    "# • Parašykite klasę, kuri turėtų konstruktorių, destruktorių. Abu\n",
    "# # turi spausdinti informacinį pranešimą, jog objektas yra\n",
    "# # sukurtas/sunaikintas.\n",
    "# ???????????????????????????????????????????????????????????????????\n",
    "\n",
    "class Nauja_klase():   #kaip apsiraso konkstruktorius: (t.y. funkcija nurodytu pavadinimu)\n",
    "    def __init__(self):\n",
    "        print('konstruktorius yra sukurtas')\n",
    "    def __Del__(self):\n",
    "        print('manes neliko')\n",
    "\n",
    "a = Nauja_klase()\n",
    "\n",
    "del a"
   ]
  },
  {
   "cell_type": "code",
   "execution_count": 63,
   "metadata": {},
   "outputs": [
    {
     "name": "stdout",
     "output_type": "stream",
     "text": [
      "Naujas atributas\n",
      "15\n"
     ]
    }
   ],
   "source": [
    "# • Parašykite klasę, kuri turėtų vieną atributą. Pasiekite jo\n",
    "# reikšmę, išveskite. Pakeiskite atributo reikšmę. Patikrinkite,\n",
    "# ar reikšmė pakito.\n",
    "\n",
    "class Nauja_klase():   #kaip apsiraso konkstruktorius: (t.y. funkcija nurodytu pavadinimu)\n",
    "    def __init__(self, x):\n",
    "        self.Y = 'Naujas atributas'   #priskiriame atributa \n",
    "    def set_X(self, x):  #keiciamas atributas \n",
    "        self.Y = x\n",
    "        \n",
    "b = Nauja_klase(5)      #pasiekiame atributa \n",
    "\n",
    "atributasY = b.Y  \n",
    "\n",
    "print(atributasY)  \n",
    "\n",
    "b.set_X(15)\n",
    "Naujas_atributas = b.Y\n",
    "\n",
    "print(Naujas_atributas)\n"
   ]
  },
  {
   "cell_type": "code",
   "execution_count": null,
   "metadata": {},
   "outputs": [],
   "source": [
    "t = \" Labas rytas čia yra tekstas su įvairiais tarpais ir tarpeliais \"\n",
    "t_ = ' '.join(t.split())\n",
    "print(t_)"
   ]
  }
 ],
 "metadata": {
  "kernelspec": {
   "display_name": "Python 3",
   "language": "python",
   "name": "python3"
  },
  "language_info": {
   "codemirror_mode": {
    "name": "ipython",
    "version": 3
   },
   "file_extension": ".py",
   "mimetype": "text/x-python",
   "name": "python",
   "nbconvert_exporter": "python",
   "pygments_lexer": "ipython3",
   "version": "3.12.4"
  }
 },
 "nbformat": 4,
 "nbformat_minor": 2
}
