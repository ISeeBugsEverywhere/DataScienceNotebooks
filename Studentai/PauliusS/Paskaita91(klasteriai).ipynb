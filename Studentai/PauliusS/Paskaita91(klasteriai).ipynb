{
 "cells": [
  {
   "cell_type": "code",
   "execution_count": 1,
   "metadata": {},
   "outputs": [],
   "source": [
    "import numpy as np\n",
    "import pandas as pd \n",
    "import matplotlib.pyplot as plt # grafikai\n",
    "import warnings\n",
    "warnings.filterwarnings('ignore')\n",
    "import seaborn as sns #kietesni grafikai\n",
    "\n",
    "# scikit-learn clustering\n",
    "from sklearn.cluster import KMeans #KMeans klasterizavimui\n",
    "from sklearn.preprocessing import LabelEncoder #jei požymis būtų tekstas - reikia į skaičius paversti\n",
    "\n",
    "from sklearn.model_selection import train_test_split \n",
    "from sklearn.datasets import make_blobs # pirmam klasterizavimo pavyzdžiui - kompiuteriu generuoti duomenys"
   ]
  },
  {
   "cell_type": "code",
   "execution_count": 2,
   "metadata": {},
   "outputs": [],
   "source": [
    "# Suskirstykite eismo įvykius į klasterius (2022 metų) (pagal koordinantes, atskirai kiekvienai eismo įvykio rūšiai, su \n",
    "# DBSCAN bei KMeans). Darydami KMeans klasterizaciją, pasinaudokite elbow grafiku optimaliam klasterių skaičiaus nustatymu\n",
    "# (Jei pavyksta)\n",
    "# Patekite vizualizacijas klasterių išsidėstymo su mapbox()\n",
    "# Pasirinkite vieną eismo įvykių rūšį, ir su GridsearchCV, GridSearch klase suraskite optimalų klasterių kiekį\n",
    "# Tada taip pat pateikite klasterių vizualizacijas."
   ]
  },
  {
   "cell_type": "code",
   "execution_count": 3,
   "metadata": {},
   "outputs": [],
   "source": [
    "df = pd.read_json(path_or_buf='https://data.gov.lt/media/filer_public/5e/b8/5eb89d55-f57a-48ec-b1a2-063692c1b6a7/ei_2022_12_31.json', convert_dates=['dataLaikas'])\n",
    "df = df[['dataLaikas', 'iskaitinis','dalyviuSkaicius','rusis', 'ilguma','platuma']].dropna(subset=['ilguma','platuma'])"
   ]
  },
  {
   "cell_type": "code",
   "execution_count": 4,
   "metadata": {},
   "outputs": [
    {
     "data": {
      "application/vnd.microsoft.datawrangler.viewer.v0+json": {
       "columns": [
        {
         "name": "index",
         "rawType": "int64",
         "type": "integer"
        },
        {
         "name": "dataLaikas",
         "rawType": "datetime64[ns]",
         "type": "datetime"
        },
        {
         "name": "iskaitinis",
         "rawType": "int64",
         "type": "integer"
        },
        {
         "name": "dalyviuSkaicius",
         "rawType": "float64",
         "type": "float"
        },
        {
         "name": "rusis",
         "rawType": "object",
         "type": "string"
        },
        {
         "name": "ilguma",
         "rawType": "float64",
         "type": "float"
        },
        {
         "name": "platuma",
         "rawType": "float64",
         "type": "float"
        }
       ],
       "conversionMethod": "pd.DataFrame",
       "ref": "c76fbb9c-53f2-4424-8d55-606b6eb18af0",
       "rows": [
        [
         "0",
         "2021-12-31 22:00:00",
         "0",
         "1.0",
         "Kiti eismo įvykiai",
         "6083759.0",
         "491606.0"
        ],
        [
         "1",
         "2022-01-01 00:40:00",
         "0",
         "2.0",
         "Susidūrimas",
         "6181902.0",
         "317439.0"
        ],
        [
         "2",
         "2022-01-01 02:02:00",
         "0",
         "1.0",
         "Užvažiavimas ant gyvūno",
         "6161589.0",
         "333263.0"
        ],
        [
         "3",
         "2022-01-01 01:53:00",
         "0",
         "1.0",
         "Apvirtimas",
         "6104844.0",
         "630436.0"
        ],
        [
         "4",
         "2021-12-31 12:35:00",
         "0",
         "1.0",
         "Užvažiavimas ant kliūties",
         "6102529.0",
         "495530.0"
        ],
        [
         "5",
         "2022-01-01 01:17:00",
         "0",
         "1.0",
         "Kiti eismo įvykiai",
         "6133142.0",
         "526140.0"
        ],
        [
         "6",
         "2022-01-01 02:40:00",
         "1",
         "2.0",
         "Kiti eismo įvykiai",
         "6030671.0",
         "502220.0"
        ],
        [
         "7",
         "2022-01-01 02:37:00",
         "0",
         "1.0",
         "Susidūrimas su stovinčia transporto priemone",
         "6080229.0",
         "528468.0"
        ],
        [
         "8",
         "2022-01-01 03:30:00",
         "0",
         "1.0",
         "Užvažiavimas ant kliūties",
         "6126240.0",
         "362894.0"
        ],
        [
         "9",
         "2022-01-01 02:37:00",
         "0",
         "2.0",
         "Susidūrimas su stovinčia transporto priemone",
         "6206316.0",
         "320614.0"
        ],
        [
         "10",
         "2022-01-01 06:00:00",
         "0",
         "1.0",
         "Užvažiavimas ant gyvūno",
         "6029308.0",
         "506192.0"
        ],
        [
         "11",
         "2022-01-01 06:35:00",
         "0",
         "1.0",
         "Užvažiavimas ant gyvūno",
         "6178345.0",
         "321453.0"
        ],
        [
         "12",
         "2022-01-01 05:45:00",
         "0",
         "2.0",
         "Susidūrimas su stovinčia transporto priemone",
         "6047636.0",
         "458241.0"
        ],
        [
         "13",
         "2022-01-01 05:50:00",
         "0",
         "2.0",
         "Susidūrimas su stovinčia transporto priemone",
         "6099899.0",
         "428156.0"
        ],
        [
         "14",
         "2022-01-01 07:27:00",
         "0",
         "1.0",
         "Kiti eismo įvykiai",
         "6143176.0",
         "450986.0"
        ],
        [
         "15",
         "2022-01-01 08:15:00",
         "0",
         "1.0",
         "Užvažiavimas ant gyvūno",
         "6140731.0",
         "606017.0"
        ],
        [
         "16",
         "2022-01-01 08:15:00",
         "0",
         "2.0",
         "Kiti eismo įvykiai",
         "6067661.0",
         "578534.0"
        ],
        [
         "17",
         "2022-01-01 10:00:00",
         "0",
         "1.0",
         "Kiti eismo įvykiai",
         "6149223.0",
         "331793.0"
        ],
        [
         "18",
         "2022-01-01 06:25:00",
         "0",
         "1.0",
         "Kiti eismo įvykiai",
         "6046236.0",
         "456186.0"
        ],
        [
         "19",
         "2022-01-01 09:00:00",
         "1",
         "2.0",
         "Kiti eismo įvykiai",
         "6033716.0",
         "423940.0"
        ],
        [
         "20",
         "2022-01-01 08:36:00",
         "0",
         "2.0",
         "Kiti eismo įvykiai",
         "6065551.0",
         "479770.0"
        ],
        [
         "21",
         "2021-12-31 23:50:00",
         "0",
         "1.0",
         "Kiti eismo įvykiai",
         "6163360.0",
         "557273.0"
        ],
        [
         "22",
         "2022-01-01 12:30:00",
         "1",
         "2.0",
         "Užvažiavimas ant pėsčiojo",
         "6063771.0",
         "583021.0"
        ],
        [
         "23",
         "2022-01-01 14:10:00",
         "0",
         "2.0",
         "Susidūrimas",
         "6047636.0",
         "458241.0"
        ],
        [
         "24",
         "2022-01-01 15:55:00",
         "0",
         "1.0",
         "Užvažiavimas ant gyvūno",
         "6125101.0",
         "518886.0"
        ],
        [
         "25",
         "2022-01-01 13:00:00",
         "0",
         "2.0",
         "Kiti eismo įvykiai",
         "6079446.0",
         "495817.0"
        ],
        [
         "26",
         "2022-01-01 15:25:00",
         "0",
         "3.0",
         "Susidūrimas",
         "6052160.0",
         "447797.0"
        ],
        [
         "27",
         "2022-01-01 13:46:00",
         "0",
         "2.0",
         "Susidūrimas su stovinčia transporto priemone",
         "6064323.0",
         "583290.0"
        ],
        [
         "28",
         "2022-01-01 14:47:00",
         "0",
         "2.0",
         "Susidūrimas su stovinčia transporto priemone",
         "6201737.0",
         "316283.0"
        ],
        [
         "29",
         "2022-01-01 16:00:00",
         "0",
         "2.0",
         "Susidūrimas su stovinčia transporto priemone",
         "6177103.0",
         "521096.0"
        ],
        [
         "30",
         "2022-01-01 17:00:00",
         "0",
         "2.0",
         "Užvažiavimas ant gyvūno",
         "6139241.0",
         "334063.0"
        ],
        [
         "31",
         "2021-12-31 18:00:00",
         "0",
         "2.0",
         "Susidūrimas su stovinčia transporto priemone",
         "6087699.0",
         "492988.0"
        ],
        [
         "32",
         "2022-01-01 17:17:00",
         "0",
         "1.0",
         "Kiti eismo įvykiai",
         "6151257.0",
         "603632.0"
        ],
        [
         "33",
         "2022-01-01 15:06:00",
         "0",
         "1.0",
         "Užvažiavimas ant kliūties",
         "6086568.0",
         "493102.0"
        ],
        [
         "34",
         "2022-01-01 17:11:00",
         "0",
         "2.0",
         "Užvažiavimas ant gyvūno",
         "5991702.0",
         "498512.0"
        ],
        [
         "35",
         "2022-01-01 17:45:00",
         "0",
         "4.0",
         "Užvažiavimas ant gyvūno",
         "6125164.0",
         "608947.0"
        ],
        [
         "36",
         "2022-01-01 14:30:00",
         "0",
         "2.0",
         "Kiti eismo įvykiai",
         "6105440.0",
         "534219.0"
        ],
        [
         "37",
         "2022-01-01 03:00:00",
         "0",
         "1.0",
         "Kiti eismo įvykiai",
         "6171490.0",
         "462328.0"
        ],
        [
         "38",
         "2022-01-01 16:57:00",
         "0",
         "1.0",
         "Kiti eismo įvykiai",
         "6058656.0",
         "590438.0"
        ],
        [
         "39",
         "2022-01-01 17:20:00",
         "0",
         "1.0",
         "Užvažiavimas ant gyvūno",
         "6125257.0",
         "351018.0"
        ],
        [
         "40",
         "2022-01-01 17:10:00",
         "0",
         "1.0",
         "Kiti eismo įvykiai",
         "6058592.0",
         "590528.0"
        ],
        [
         "41",
         "2022-01-01 14:12:00",
         "1",
         "2.0",
         "Užvažiavimas ant pėsčiojo",
         "6042270.0",
         "553131.0"
        ],
        [
         "42",
         "2022-01-01 17:25:00",
         "0",
         "1.0",
         "Užvažiavimas ant gyvūno",
         "6092412.0",
         "468619.0"
        ],
        [
         "43",
         "2022-01-01 21:17:00",
         "0",
         "1.0",
         "Kiti eismo įvykiai",
         "6177920.0",
         "531680.0"
        ],
        [
         "44",
         "2022-01-01 18:17:00",
         "1",
         "2.0",
         "Užvažiavimas ant kliūties",
         "6164840.0",
         "654717.0"
        ],
        [
         "45",
         "2022-01-01 18:00:00",
         "0",
         "1.0",
         "Užvažiavimas ant gyvūno",
         "6148118.0",
         "637130.0"
        ],
        [
         "46",
         "2022-01-01 17:11:00",
         "0",
         "2.0",
         "Susidūrimas su stovinčia transporto priemone",
         "6063055.0",
         "583094.0"
        ],
        [
         "47",
         "2022-01-01 21:18:00",
         "0",
         "1.0",
         "Užvažiavimas ant kliūties",
         "6235482.0",
         "439581.0"
        ],
        [
         "48",
         "2021-12-31 17:35:00",
         "0",
         "2.0",
         "Užvažiavimas ant pėsčiojo",
         "6064877.0",
         "493634.0"
        ],
        [
         "49",
         "2021-12-18 13:20:00",
         "0",
         "1.0",
         "Kiti eismo įvykiai",
         "6155208.0",
         "332190.0"
        ]
       ],
       "shape": {
        "columns": 6,
        "rows": 23483
       }
      },
      "text/html": [
       "<div>\n",
       "<style scoped>\n",
       "    .dataframe tbody tr th:only-of-type {\n",
       "        vertical-align: middle;\n",
       "    }\n",
       "\n",
       "    .dataframe tbody tr th {\n",
       "        vertical-align: top;\n",
       "    }\n",
       "\n",
       "    .dataframe thead th {\n",
       "        text-align: right;\n",
       "    }\n",
       "</style>\n",
       "<table border=\"1\" class=\"dataframe\">\n",
       "  <thead>\n",
       "    <tr style=\"text-align: right;\">\n",
       "      <th></th>\n",
       "      <th>dataLaikas</th>\n",
       "      <th>iskaitinis</th>\n",
       "      <th>dalyviuSkaicius</th>\n",
       "      <th>rusis</th>\n",
       "      <th>ilguma</th>\n",
       "      <th>platuma</th>\n",
       "    </tr>\n",
       "  </thead>\n",
       "  <tbody>\n",
       "    <tr>\n",
       "      <th>0</th>\n",
       "      <td>2021-12-31 22:00:00</td>\n",
       "      <td>0</td>\n",
       "      <td>1.0</td>\n",
       "      <td>Kiti eismo įvykiai</td>\n",
       "      <td>6083759.0</td>\n",
       "      <td>491606.0</td>\n",
       "    </tr>\n",
       "    <tr>\n",
       "      <th>1</th>\n",
       "      <td>2022-01-01 00:40:00</td>\n",
       "      <td>0</td>\n",
       "      <td>2.0</td>\n",
       "      <td>Susidūrimas</td>\n",
       "      <td>6181902.0</td>\n",
       "      <td>317439.0</td>\n",
       "    </tr>\n",
       "    <tr>\n",
       "      <th>2</th>\n",
       "      <td>2022-01-01 02:02:00</td>\n",
       "      <td>0</td>\n",
       "      <td>1.0</td>\n",
       "      <td>Užvažiavimas ant gyvūno</td>\n",
       "      <td>6161589.0</td>\n",
       "      <td>333263.0</td>\n",
       "    </tr>\n",
       "    <tr>\n",
       "      <th>3</th>\n",
       "      <td>2022-01-01 01:53:00</td>\n",
       "      <td>0</td>\n",
       "      <td>1.0</td>\n",
       "      <td>Apvirtimas</td>\n",
       "      <td>6104844.0</td>\n",
       "      <td>630436.0</td>\n",
       "    </tr>\n",
       "    <tr>\n",
       "      <th>4</th>\n",
       "      <td>2021-12-31 12:35:00</td>\n",
       "      <td>0</td>\n",
       "      <td>1.0</td>\n",
       "      <td>Užvažiavimas ant kliūties</td>\n",
       "      <td>6102529.0</td>\n",
       "      <td>495530.0</td>\n",
       "    </tr>\n",
       "    <tr>\n",
       "      <th>...</th>\n",
       "      <td>...</td>\n",
       "      <td>...</td>\n",
       "      <td>...</td>\n",
       "      <td>...</td>\n",
       "      <td>...</td>\n",
       "      <td>...</td>\n",
       "    </tr>\n",
       "    <tr>\n",
       "      <th>23515</th>\n",
       "      <td>2022-12-31 19:40:00</td>\n",
       "      <td>0</td>\n",
       "      <td>1.0</td>\n",
       "      <td>Užvažiavimas ant gyvūno</td>\n",
       "      <td>6060864.0</td>\n",
       "      <td>483320.0</td>\n",
       "    </tr>\n",
       "    <tr>\n",
       "      <th>23516</th>\n",
       "      <td>2022-12-31 17:35:00</td>\n",
       "      <td>0</td>\n",
       "      <td>2.0</td>\n",
       "      <td>Susidūrimas</td>\n",
       "      <td>6218953.0</td>\n",
       "      <td>589894.0</td>\n",
       "    </tr>\n",
       "    <tr>\n",
       "      <th>23517</th>\n",
       "      <td>2022-12-31 20:00:00</td>\n",
       "      <td>0</td>\n",
       "      <td>1.0</td>\n",
       "      <td>Užvažiavimas ant gyvūno</td>\n",
       "      <td>6127284.0</td>\n",
       "      <td>504282.0</td>\n",
       "    </tr>\n",
       "    <tr>\n",
       "      <th>23518</th>\n",
       "      <td>2022-12-31 19:20:00</td>\n",
       "      <td>0</td>\n",
       "      <td>1.0</td>\n",
       "      <td>Kiti eismo įvykiai</td>\n",
       "      <td>6126630.0</td>\n",
       "      <td>551706.0</td>\n",
       "    </tr>\n",
       "    <tr>\n",
       "      <th>23519</th>\n",
       "      <td>2022-12-31 18:40:00</td>\n",
       "      <td>0</td>\n",
       "      <td>1.0</td>\n",
       "      <td>Susidūrimas su stovinčia transporto priemone</td>\n",
       "      <td>6242381.0</td>\n",
       "      <td>396595.0</td>\n",
       "    </tr>\n",
       "  </tbody>\n",
       "</table>\n",
       "<p>23483 rows × 6 columns</p>\n",
       "</div>"
      ],
      "text/plain": [
       "               dataLaikas  iskaitinis  dalyviuSkaicius  \\\n",
       "0     2021-12-31 22:00:00           0              1.0   \n",
       "1     2022-01-01 00:40:00           0              2.0   \n",
       "2     2022-01-01 02:02:00           0              1.0   \n",
       "3     2022-01-01 01:53:00           0              1.0   \n",
       "4     2021-12-31 12:35:00           0              1.0   \n",
       "...                   ...         ...              ...   \n",
       "23515 2022-12-31 19:40:00           0              1.0   \n",
       "23516 2022-12-31 17:35:00           0              2.0   \n",
       "23517 2022-12-31 20:00:00           0              1.0   \n",
       "23518 2022-12-31 19:20:00           0              1.0   \n",
       "23519 2022-12-31 18:40:00           0              1.0   \n",
       "\n",
       "                                              rusis     ilguma   platuma  \n",
       "0                                Kiti eismo įvykiai  6083759.0  491606.0  \n",
       "1                                       Susidūrimas  6181902.0  317439.0  \n",
       "2                           Užvažiavimas ant gyvūno  6161589.0  333263.0  \n",
       "3                                        Apvirtimas  6104844.0  630436.0  \n",
       "4                         Užvažiavimas ant kliūties  6102529.0  495530.0  \n",
       "...                                             ...        ...       ...  \n",
       "23515                       Užvažiavimas ant gyvūno  6060864.0  483320.0  \n",
       "23516                                   Susidūrimas  6218953.0  589894.0  \n",
       "23517                       Užvažiavimas ant gyvūno  6127284.0  504282.0  \n",
       "23518                            Kiti eismo įvykiai  6126630.0  551706.0  \n",
       "23519  Susidūrimas su stovinčia transporto priemone  6242381.0  396595.0  \n",
       "\n",
       "[23483 rows x 6 columns]"
      ]
     },
     "execution_count": 4,
     "metadata": {},
     "output_type": "execute_result"
    }
   ],
   "source": [
    "df"
   ]
  },
  {
   "cell_type": "code",
   "execution_count": 7,
   "metadata": {},
   "outputs": [
    {
     "data": {
      "application/vnd.microsoft.datawrangler.viewer.v0+json": {
       "columns": [
        {
         "name": "index",
         "rawType": "int64",
         "type": "integer"
        },
        {
         "name": "ilguma",
         "rawType": "float64",
         "type": "float"
        },
        {
         "name": "platuma",
         "rawType": "float64",
         "type": "float"
        }
       ],
       "conversionMethod": "pd.DataFrame",
       "ref": "9b8cf3ed-5952-471f-96fc-566227bfabe7",
       "rows": [
        [
         "1",
         "6181902.0",
         "317439.0"
        ],
        [
         "23",
         "6047636.0",
         "458241.0"
        ],
        [
         "26",
         "6052160.0",
         "447797.0"
        ],
        [
         "50",
         "6067642.0",
         "478286.0"
        ],
        [
         "51",
         "6064354.0",
         "582849.0"
        ],
        [
         "77",
         "6057044.0",
         "570476.0"
        ],
        [
         "79",
         "6178987.0",
         "320043.0"
        ],
        [
         "84",
         "6179161.0",
         "319266.0"
        ],
        [
         "88",
         "6129823.0",
         "492720.0"
        ],
        [
         "92",
         "6151172.0",
         "539476.0"
        ],
        [
         "95",
         "6184434.0",
         "531600.0"
        ],
        [
         "101",
         "6065113.0",
         "570792.0"
        ],
        [
         "115",
         "6064423.0",
         "580527.0"
        ],
        [
         "117",
         "6135524.0",
         "596052.0"
        ],
        [
         "118",
         "6085055.0",
         "493264.0"
        ],
        [
         "143",
         "6059798.0",
         "577902.0"
        ],
        [
         "153",
         "6064859.0",
         "582046.0"
        ],
        [
         "160",
         "6146185.0",
         "544862.0"
        ],
        [
         "163",
         "6089212.0",
         "595196.0"
        ],
        [
         "174",
         "6057085.0",
         "584356.0"
        ],
        [
         "179",
         "6148104.0",
         "416170.0"
        ],
        [
         "181",
         "6183553.0",
         "320043.0"
        ],
        [
         "184",
         "6063777.0",
         "583029.0"
        ],
        [
         "187",
         "6125942.0",
         "391548.0"
        ],
        [
         "196",
         "6060639.0",
         "582021.0"
        ],
        [
         "197",
         "6086242.0",
         "497109.0"
        ],
        [
         "220",
         "6138391.0",
         "442137.0"
        ],
        [
         "222",
         "6061190.0",
         "578610.0"
        ],
        [
         "223",
         "6058688.0",
         "574835.0"
        ],
        [
         "225",
         "6154673.0",
         "421955.0"
        ],
        [
         "226",
         "6077456.0",
         "496582.0"
        ],
        [
         "240",
         "6015597.0",
         "538092.0"
        ],
        [
         "253",
         "6178230.0",
         "320313.0"
        ],
        [
         "257",
         "6177247.0",
         "520447.0"
        ],
        [
         "261",
         "6175794.0",
         "322622.0"
        ],
        [
         "262",
         "6196652.0",
         "458564.0"
        ],
        [
         "263",
         "6062726.0",
         "581447.0"
        ],
        [
         "265",
         "6059893.0",
         "579779.0"
        ],
        [
         "278",
         "6076504.0",
         "493703.0"
        ],
        [
         "292",
         "6144195.0",
         "423285.0"
        ],
        [
         "293",
         "6067319.0",
         "578520.0"
        ],
        [
         "304",
         "6105211.0",
         "517263.0"
        ],
        [
         "308",
         "6067250.0",
         "579057.0"
        ],
        [
         "321",
         "6064041.0",
         "584071.0"
        ],
        [
         "331",
         "6047616.0",
         "477559.0"
        ],
        [
         "333",
         "6177934.0",
         "321752.0"
        ],
        [
         "340",
         "6202705.0",
         "316914.0"
        ],
        [
         "344",
         "6061928.0",
         "582630.0"
        ],
        [
         "346",
         "6064493.0",
         "576451.0"
        ],
        [
         "347",
         "6087425.0",
         "491698.0"
        ]
       ],
       "shape": {
        "columns": 2,
        "rows": 5319
       }
      },
      "text/html": [
       "<div>\n",
       "<style scoped>\n",
       "    .dataframe tbody tr th:only-of-type {\n",
       "        vertical-align: middle;\n",
       "    }\n",
       "\n",
       "    .dataframe tbody tr th {\n",
       "        vertical-align: top;\n",
       "    }\n",
       "\n",
       "    .dataframe thead th {\n",
       "        text-align: right;\n",
       "    }\n",
       "</style>\n",
       "<table border=\"1\" class=\"dataframe\">\n",
       "  <thead>\n",
       "    <tr style=\"text-align: right;\">\n",
       "      <th></th>\n",
       "      <th>ilguma</th>\n",
       "      <th>platuma</th>\n",
       "    </tr>\n",
       "  </thead>\n",
       "  <tbody>\n",
       "    <tr>\n",
       "      <th>1</th>\n",
       "      <td>6181902.0</td>\n",
       "      <td>317439.0</td>\n",
       "    </tr>\n",
       "    <tr>\n",
       "      <th>23</th>\n",
       "      <td>6047636.0</td>\n",
       "      <td>458241.0</td>\n",
       "    </tr>\n",
       "    <tr>\n",
       "      <th>26</th>\n",
       "      <td>6052160.0</td>\n",
       "      <td>447797.0</td>\n",
       "    </tr>\n",
       "    <tr>\n",
       "      <th>50</th>\n",
       "      <td>6067642.0</td>\n",
       "      <td>478286.0</td>\n",
       "    </tr>\n",
       "    <tr>\n",
       "      <th>51</th>\n",
       "      <td>6064354.0</td>\n",
       "      <td>582849.0</td>\n",
       "    </tr>\n",
       "    <tr>\n",
       "      <th>...</th>\n",
       "      <td>...</td>\n",
       "      <td>...</td>\n",
       "    </tr>\n",
       "    <tr>\n",
       "      <th>23503</th>\n",
       "      <td>6062517.0</td>\n",
       "      <td>584172.0</td>\n",
       "    </tr>\n",
       "    <tr>\n",
       "      <th>23508</th>\n",
       "      <td>6057163.0</td>\n",
       "      <td>437411.0</td>\n",
       "    </tr>\n",
       "    <tr>\n",
       "      <th>23509</th>\n",
       "      <td>6203300.0</td>\n",
       "      <td>599247.0</td>\n",
       "    </tr>\n",
       "    <tr>\n",
       "      <th>23510</th>\n",
       "      <td>6183556.0</td>\n",
       "      <td>320039.0</td>\n",
       "    </tr>\n",
       "    <tr>\n",
       "      <th>23516</th>\n",
       "      <td>6218953.0</td>\n",
       "      <td>589894.0</td>\n",
       "    </tr>\n",
       "  </tbody>\n",
       "</table>\n",
       "<p>5319 rows × 2 columns</p>\n",
       "</div>"
      ],
      "text/plain": [
       "          ilguma   platuma\n",
       "1      6181902.0  317439.0\n",
       "23     6047636.0  458241.0\n",
       "26     6052160.0  447797.0\n",
       "50     6067642.0  478286.0\n",
       "51     6064354.0  582849.0\n",
       "...          ...       ...\n",
       "23503  6062517.0  584172.0\n",
       "23508  6057163.0  437411.0\n",
       "23509  6203300.0  599247.0\n",
       "23510  6183556.0  320039.0\n",
       "23516  6218953.0  589894.0\n",
       "\n",
       "[5319 rows x 2 columns]"
      ]
     },
     "execution_count": 7,
     "metadata": {},
     "output_type": "execute_result"
    }
   ],
   "source": [
    "df\n",
    "\n",
    "df2 = df[df['rusis'] == 'Susidūrimas']\n",
    "df2 = df[['ilguma', 'platuma']]\n",
    "df2\n",
    "\n",
    "\n",
    "\n",
    "\n"
   ]
  },
  {
   "cell_type": "code",
   "execution_count": 20,
   "metadata": {},
   "outputs": [
    {
     "data": {
      "application/vnd.microsoft.datawrangler.viewer.v0+json": {
       "columns": [
        {
         "name": "index",
         "rawType": "int64",
         "type": "integer"
        },
        {
         "name": "long",
         "rawType": "float64",
         "type": "float"
        },
        {
         "name": "lat",
         "rawType": "float64",
         "type": "float"
        }
       ],
       "conversionMethod": "pd.DataFrame",
       "ref": "3f9941dd-f56d-49ba-90c9-8f87c1224a63",
       "rows": [
        [
         "1",
         "21.09265319709413",
         "55.73724910718434"
        ],
        [
         "23",
         "23.354309264369896",
         "54.563631738331104"
        ],
        [
         "26",
         "23.192033020841762",
         "54.60330759121501"
        ],
        [
         "50",
         "23.66275750877294",
         "54.74464215152961"
        ],
        [
         "51",
         "25.285633659415236",
         "54.70875094426863"
        ],
        [
         "77",
         "25.09191053268932",
         "54.644965781293415"
        ],
        [
         "79",
         "21.135980634030552",
         "55.71206845653683"
        ],
        [
         "84",
         "21.123517308985797",
         "55.713340844545044"
        ],
        [
         "88",
         "23.88534909064619",
         "55.30372786842264"
        ],
        [
         "92",
         "24.62469515693593",
         "55.49398851020486"
        ],
        [
         "95",
         "24.50388743083105",
         "55.79336420567214"
        ],
        [
         "101",
         "25.09876146063202",
         "54.717408997909196"
        ],
        [
         "115",
         "25.249630063305474",
         "54.70974749224497"
        ],
        [
         "117",
         "25.51435696124408",
         "55.34561843562118"
        ],
        [
         "118",
         "23.89497634420239",
         "54.9015194718098"
        ],
        [
         "143",
         "25.207670796985337",
         "54.6686137218976"
        ],
        [
         "153",
         "25.27331844564037",
         "54.71341876647385"
        ],
        [
         "160",
         "24.709115385531085",
         "55.448724717205266"
        ],
        [
         "163",
         "25.485337350080442",
         "54.92983981842084"
        ],
        [
         "174",
         "25.306913263404635",
         "54.64320500878883"
        ],
        [
         "179",
         "22.674496933700933",
         "55.460842569956284"
        ],
        [
         "181",
         "21.132977293018477",
         "55.753035977304314"
        ],
        [
         "184",
         "25.288261779363523",
         "54.703538224827035"
        ],
        [
         "187",
         "22.293933598989305",
         "55.25699232716328"
        ],
        [
         "196",
         "25.271744369369483",
         "54.67551516337067"
        ],
        [
         "197",
         "23.954913318457844",
         "54.91222140401147"
        ],
        [
         "220",
         "23.08702508238484",
         "55.37734919577625"
        ],
        [
         "222",
         "25.219018326837695",
         "54.681008281869374"
        ],
        [
         "223",
         "25.159851729798433",
         "54.659106791010814"
        ],
        [
         "225",
         "22.76409746367823",
         "55.52080024252407"
        ],
        [
         "226",
         "23.94679853603338",
         "54.83327754337993"
        ],
        [
         "240",
         "24.584881064574763",
         "54.27605001572773"
        ],
        [
         "253",
         "21.140768114569255",
         "55.70537642199581"
        ],
        [
         "257",
         "24.325509731253817",
         "55.72940097510346"
        ],
        [
         "261",
         "21.179034907604144",
         "55.68436829041247"
        ],
        [
         "262",
         "23.337415562748433",
         "55.90237304542889"
        ],
        [
         "263",
         "25.263429034740458",
         "54.69435555742718"
        ],
        [
         "265",
         "25.23678736079273",
         "54.669173631662964"
        ],
        [
         "278",
         "23.902007426010442",
         "54.82469604742281"
        ],
        [
         "292",
         "22.788045013796868",
         "55.42689847088673"
        ],
        [
         "293",
         "25.219273725925515",
         "54.73607926920345"
        ],
        [
         "304",
         "24.270367511695394",
         "55.082359103927026"
        ],
        [
         "308",
         "25.2275915035305",
         "54.7353753295943"
        ],
        [
         "321",
         "25.30450073026153",
         "54.70573679182738"
        ],
        [
         "331",
         "23.6530030607269",
         "54.5646771679919"
        ],
        [
         "333",
         "21.163826807382783",
         "55.70325115629077"
        ],
        [
         "340",
         "21.070297027417112",
         "55.92368946213744"
        ],
        [
         "344",
         "25.28154908171981",
         "54.68699460304946"
        ],
        [
         "346",
         "25.18641191304284",
         "54.711011742446395"
        ],
        [
         "347",
         "23.870491933407422",
         "54.92278973166217"
        ]
       ],
       "shape": {
        "columns": 2,
        "rows": 5319
       }
      },
      "text/html": [
       "<div>\n",
       "<style scoped>\n",
       "    .dataframe tbody tr th:only-of-type {\n",
       "        vertical-align: middle;\n",
       "    }\n",
       "\n",
       "    .dataframe tbody tr th {\n",
       "        vertical-align: top;\n",
       "    }\n",
       "\n",
       "    .dataframe thead th {\n",
       "        text-align: right;\n",
       "    }\n",
       "</style>\n",
       "<table border=\"1\" class=\"dataframe\">\n",
       "  <thead>\n",
       "    <tr style=\"text-align: right;\">\n",
       "      <th></th>\n",
       "      <th>long</th>\n",
       "      <th>lat</th>\n",
       "    </tr>\n",
       "  </thead>\n",
       "  <tbody>\n",
       "    <tr>\n",
       "      <th>1</th>\n",
       "      <td>21.092653</td>\n",
       "      <td>55.737249</td>\n",
       "    </tr>\n",
       "    <tr>\n",
       "      <th>23</th>\n",
       "      <td>23.354309</td>\n",
       "      <td>54.563632</td>\n",
       "    </tr>\n",
       "    <tr>\n",
       "      <th>26</th>\n",
       "      <td>23.192033</td>\n",
       "      <td>54.603308</td>\n",
       "    </tr>\n",
       "    <tr>\n",
       "      <th>50</th>\n",
       "      <td>23.662758</td>\n",
       "      <td>54.744642</td>\n",
       "    </tr>\n",
       "    <tr>\n",
       "      <th>51</th>\n",
       "      <td>25.285634</td>\n",
       "      <td>54.708751</td>\n",
       "    </tr>\n",
       "    <tr>\n",
       "      <th>...</th>\n",
       "      <td>...</td>\n",
       "      <td>...</td>\n",
       "    </tr>\n",
       "    <tr>\n",
       "      <th>23503</th>\n",
       "      <td>25.305628</td>\n",
       "      <td>54.692030</td>\n",
       "    </tr>\n",
       "    <tr>\n",
       "      <th>23508</th>\n",
       "      <td>23.030240</td>\n",
       "      <td>54.647075</td>\n",
       "    </tr>\n",
       "    <tr>\n",
       "      <th>23509</th>\n",
       "      <td>25.589173</td>\n",
       "      <td>55.953630</td>\n",
       "    </tr>\n",
       "    <tr>\n",
       "      <th>23510</th>\n",
       "      <td>21.132912</td>\n",
       "      <td>55.753061</td>\n",
       "    </tr>\n",
       "    <tr>\n",
       "      <th>23516</th>\n",
       "      <td>25.444706</td>\n",
       "      <td>56.096038</td>\n",
       "    </tr>\n",
       "  </tbody>\n",
       "</table>\n",
       "<p>5319 rows × 2 columns</p>\n",
       "</div>"
      ],
      "text/plain": [
       "            long        lat\n",
       "1      21.092653  55.737249\n",
       "23     23.354309  54.563632\n",
       "26     23.192033  54.603308\n",
       "50     23.662758  54.744642\n",
       "51     25.285634  54.708751\n",
       "...          ...        ...\n",
       "23503  25.305628  54.692030\n",
       "23508  23.030240  54.647075\n",
       "23509  25.589173  55.953630\n",
       "23510  21.132912  55.753061\n",
       "23516  25.444706  56.096038\n",
       "\n",
       "[5319 rows x 2 columns]"
      ]
     },
     "execution_count": 20,
     "metadata": {},
     "output_type": "execute_result"
    }
   ],
   "source": [
    "from LKS94WGS84 import *\n",
    "import pandas as pd\n",
    "import numpy as np\n",
    "import matplotlib.pyplot as plt\n",
    "import warnings\n",
    "warnings.filterwarnings('ignore')\n",
    "import seaborn as sns\n",
    "\n",
    "LAT, LON = [],[]\n",
    "\n",
    "for ilguma, platuma in zip(df['ilguma'],df['platuma']):\n",
    "    lat, lon = grid2geo(platuma, ilguma)\n",
    "    LAT.append(lat)\n",
    "    LON.append(lon)\n",
    "\n",
    "df2['long'] = LON\n",
    "df2['lat'] = LAT\n",
    "df2\n",
    "df2 = df2[['long', 'lat']]\n",
    "df2"
   ]
  },
  {
   "cell_type": "code",
   "execution_count": 40,
   "metadata": {},
   "outputs": [
    {
     "data": {
      "text/plain": [
       "<matplotlib.collections.PathCollection at 0x1fe520fc230>"
      ]
     },
     "execution_count": 40,
     "metadata": {},
     "output_type": "execute_result"
    },
    {
     "data": {
      "image/png": "[encoded data removed]",
      "text/plain": [
       "<Figure size 640x480 with 1 Axes>"
      ]
     },
     "metadata": {},
     "output_type": "display_data"
    }
   ],
   "source": [
    "from sklearn.cluster import DBSCAN\n",
    "df2['dbscan'] = DBSCAN(eps=0.35, min_samples=200).fit_predict(df2[['long','lat']])\n",
    "\n",
    "plt.scatter(\n",
    "    df2['long'],\n",
    "    df2['lat'],\n",
    "    c=df2['dbscan']\n",
    ")\n"
   ]
  }
 ],
 "metadata": {
  "kernelspec": {
   "display_name": "Python 3",
   "language": "python",
   "name": "python3"
  },
  "language_info": {
   "codemirror_mode": {
    "name": "ipython",
    "version": 3
   },
   "file_extension": ".py",
   "mimetype": "text/x-python",
   "name": "python",
   "nbconvert_exporter": "python",
   "pygments_lexer": "ipython3",
   "version": "3.12.4"
  }
 },
 "nbformat": 4,
 "nbformat_minor": 2
}
