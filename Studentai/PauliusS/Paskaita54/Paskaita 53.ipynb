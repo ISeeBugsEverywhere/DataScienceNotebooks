{
 "cells": [
  {
   "cell_type": "code",
   "execution_count": 3,
   "metadata": {},
   "outputs": [],
   "source": [
    "# Python bibliotekos\n",
    "import numpy as np                  # \"numpy\" yra biblioteka darbui su didelėmis, daugiamatėmis masyvų ir matricų kolekcijomis bei matematinėmis funkcijomis\n",
    "import pandas as pd                 # \"pandas\" suteikia struktūras duomenims ir įrankius jų analizei, pvz., DataFrame\n",
    "import matplotlib.pyplot as plt     # \"matplotlib.pyplot\" yra vizualizacijos biblioteka, leidžianti piešti įvairius grafikus\n",
    "import warnings                     # \"warnings\" leidžia valdyti įspėjimus: juos ignoruoti, spausdinti, ar klaidinti\n",
    "import requests                     # \"requests\" leidžia siųsti HTTP užklausas naudojant Python\n",
    "from datetime import datetime       # \"datetime\" modulis suteikia funkcijas darbui su data ir laiku\n",
    "from bs4 import BeautifulSoup       # \"BeautifulSoup\" padeda atlikti internetinių puslapių šaltinio kodo (HTML, XML) analizę ir duomenų surinkimą\n",
    "import time                         # \"time\" modulis suteikia funkcijas, susijusias su laiku, pvz., laiko gaišimą ar laiko matavimą\n",
    "import sqlite3                      # \"sqlite3\" leidžia dirbti su SQLite duomenų bazėmis, atliekant duomenų saugojimo, atnaujinimo ir gavimo operacijas\n",
    "\n",
    "# Suppressing warnings\n",
    "warnings.filterwarnings('ignore')   # Nustato, kad visi įspėjimai būtų ignoruojami\n",
    "\n",
    "# Set up Selenium webdriver options\n",
    "from selenium import webdriver                          # \"selenium.webdriver\" leidžia automatizuoti veiksmus interneto naršyklėje\n",
    "from selenium.webdriver.chrome.options import Options   # \"Options\" leidžia nustatyti konfigūracijas Chrome naršyklės draiveriui\n",
    "\n",
    "\n"
   ]
  },
  {
   "cell_type": "code",
   "execution_count": 25,
   "metadata": {},
   "outputs": [
    {
     "data": {
      "text/html": [
       "<div>\n",
       "<style scoped>\n",
       "    .dataframe tbody tr th:only-of-type {\n",
       "        vertical-align: middle;\n",
       "    }\n",
       "\n",
       "    .dataframe tbody tr th {\n",
       "        vertical-align: top;\n",
       "    }\n",
       "\n",
       "    .dataframe thead th {\n",
       "        text-align: right;\n",
       "    }\n",
       "</style>\n",
       "<table border=\"1\" class=\"dataframe\">\n",
       "  <thead>\n",
       "    <tr style=\"text-align: right;\">\n",
       "      <th></th>\n",
       "      <th>index</th>\n",
       "      <th>id</th>\n",
       "      <th>gamintojas</th>\n",
       "      <th>modelis</th>\n",
       "      <th>pagaminimo_data</th>\n",
       "      <th>rida</th>\n",
       "      <th>variklis</th>\n",
       "      <th>kuro_tipas</th>\n",
       "      <th>varantieji_ratai</th>\n",
       "      <th>pavaros</th>\n",
       "      <th>...</th>\n",
       "      <th>service_book</th>\n",
       "      <th>warranty</th>\n",
       "      <th>catalytic_converter</th>\n",
       "      <th>multiple_key_sets</th>\n",
       "      <th>double_wheels</th>\n",
       "      <th>folding_seats</th>\n",
       "      <th>insulated_glass</th>\n",
       "      <th>two_sliding_doors</th>\n",
       "      <th>personal_ventilation</th>\n",
       "      <th>personal_illumination</th>\n",
       "    </tr>\n",
       "  </thead>\n",
       "  <tbody>\n",
       "    <tr>\n",
       "      <th>0</th>\n",
       "      <td>0</td>\n",
       "      <td>ID:22996628</td>\n",
       "      <td>BMW</td>\n",
       "      <td>M5</td>\n",
       "      <td>2005-12</td>\n",
       "      <td>253 000 km</td>\n",
       "      <td>4999 cm³, 507 AG (373kW)</td>\n",
       "      <td>Benzinas</td>\n",
       "      <td>Galiniai</td>\n",
       "      <td>Automatinė</td>\n",
       "      <td>...</td>\n",
       "      <td>0</td>\n",
       "      <td>0</td>\n",
       "      <td>0</td>\n",
       "      <td>0</td>\n",
       "      <td>0</td>\n",
       "      <td>0</td>\n",
       "      <td>0</td>\n",
       "      <td>0</td>\n",
       "      <td>0</td>\n",
       "      <td>0</td>\n",
       "    </tr>\n",
       "    <tr>\n",
       "      <th>1</th>\n",
       "      <td>1</td>\n",
       "      <td>ID:23120069</td>\n",
       "      <td>Mitsubishi</td>\n",
       "      <td>Outlander</td>\n",
       "      <td>2006</td>\n",
       "      <td>195 405 km</td>\n",
       "      <td>2378 cm³, 160 AG (118kW)</td>\n",
       "      <td>Benzinas</td>\n",
       "      <td>Visi varantys (4х4)</td>\n",
       "      <td>Automatinė</td>\n",
       "      <td>...</td>\n",
       "      <td>0</td>\n",
       "      <td>0</td>\n",
       "      <td>0</td>\n",
       "      <td>0</td>\n",
       "      <td>0</td>\n",
       "      <td>0</td>\n",
       "      <td>0</td>\n",
       "      <td>0</td>\n",
       "      <td>0</td>\n",
       "      <td>0</td>\n",
       "    </tr>\n",
       "    <tr>\n",
       "      <th>2</th>\n",
       "      <td>2</td>\n",
       "      <td>ID:23012308</td>\n",
       "      <td>Seat</td>\n",
       "      <td>Arona</td>\n",
       "      <td>2019-11</td>\n",
       "      <td>129 800 km</td>\n",
       "      <td>1598 cm³, 95 AG (70kW)</td>\n",
       "      <td>Dyzelinas</td>\n",
       "      <td>Priekiniai</td>\n",
       "      <td>Automatinė</td>\n",
       "      <td>...</td>\n",
       "      <td>0</td>\n",
       "      <td>0</td>\n",
       "      <td>0</td>\n",
       "      <td>0</td>\n",
       "      <td>0</td>\n",
       "      <td>0</td>\n",
       "      <td>0</td>\n",
       "      <td>0</td>\n",
       "      <td>0</td>\n",
       "      <td>0</td>\n",
       "    </tr>\n",
       "    <tr>\n",
       "      <th>3</th>\n",
       "      <td>3</td>\n",
       "      <td>ID:23051810</td>\n",
       "      <td>Skoda</td>\n",
       "      <td>Octavia Scout</td>\n",
       "      <td>2015-06</td>\n",
       "      <td>183 000 km</td>\n",
       "      <td>1798 cm³, 179 AG (132kW)</td>\n",
       "      <td>Benzinas</td>\n",
       "      <td>Visi varantys (4х4)</td>\n",
       "      <td>Automatinė</td>\n",
       "      <td>...</td>\n",
       "      <td>0</td>\n",
       "      <td>0</td>\n",
       "      <td>0</td>\n",
       "      <td>0</td>\n",
       "      <td>0</td>\n",
       "      <td>0</td>\n",
       "      <td>0</td>\n",
       "      <td>0</td>\n",
       "      <td>0</td>\n",
       "      <td>0</td>\n",
       "    </tr>\n",
       "    <tr>\n",
       "      <th>4</th>\n",
       "      <td>4</td>\n",
       "      <td>ID:23117259</td>\n",
       "      <td>Volvo</td>\n",
       "      <td>XC90</td>\n",
       "      <td>2018-08</td>\n",
       "      <td>127 896 km</td>\n",
       "      <td>1969 cm³, 235 AG (173kW)</td>\n",
       "      <td>Dyzelinas</td>\n",
       "      <td>Visi varantys (4х4)</td>\n",
       "      <td>Automatinė</td>\n",
       "      <td>...</td>\n",
       "      <td>0</td>\n",
       "      <td>0</td>\n",
       "      <td>0</td>\n",
       "      <td>0</td>\n",
       "      <td>0</td>\n",
       "      <td>0</td>\n",
       "      <td>0</td>\n",
       "      <td>0</td>\n",
       "      <td>0</td>\n",
       "      <td>0</td>\n",
       "    </tr>\n",
       "  </tbody>\n",
       "</table>\n",
       "<p>5 rows × 115 columns</p>\n",
       "</div>"
      ],
      "text/plain": [
       "   index           id  gamintojas        modelis pagaminimo_data        rida  \\\n",
       "0      0  ID:22996628         BMW             M5         2005-12  253 000 km   \n",
       "1      1  ID:23120069  Mitsubishi      Outlander            2006  195 405 km   \n",
       "2      2  ID:23012308        Seat          Arona         2019-11  129 800 km   \n",
       "3      3  ID:23051810       Skoda  Octavia Scout         2015-06  183 000 km   \n",
       "4      4  ID:23117259       Volvo           XC90         2018-08  127 896 km   \n",
       "\n",
       "                   variklis kuro_tipas     varantieji_ratai     pavaros  ...  \\\n",
       "0  4999 cm³, 507 AG (373kW)   Benzinas             Galiniai  Automatinė  ...   \n",
       "1  2378 cm³, 160 AG (118kW)   Benzinas  Visi varantys (4х4)  Automatinė  ...   \n",
       "2    1598 cm³, 95 AG (70kW)  Dyzelinas           Priekiniai  Automatinė  ...   \n",
       "3  1798 cm³, 179 AG (132kW)   Benzinas  Visi varantys (4х4)  Automatinė  ...   \n",
       "4  1969 cm³, 235 AG (173kW)  Dyzelinas  Visi varantys (4х4)  Automatinė  ...   \n",
       "\n",
       "  service_book warranty catalytic_converter multiple_key_sets double_wheels  \\\n",
       "0            0        0                   0                 0             0   \n",
       "1            0        0                   0                 0             0   \n",
       "2            0        0                   0                 0             0   \n",
       "3            0        0                   0                 0             0   \n",
       "4            0        0                   0                 0             0   \n",
       "\n",
       "  folding_seats insulated_glass two_sliding_doors personal_ventilation  \\\n",
       "0             0               0                 0                    0   \n",
       "1             0               0                 0                    0   \n",
       "2             0               0                 0                    0   \n",
       "3             0               0                 0                    0   \n",
       "4             0               0                 0                    0   \n",
       "\n",
       "  personal_illumination  \n",
       "0                     0  \n",
       "1                     0  \n",
       "2                     0  \n",
       "3                     0  \n",
       "4                     0  \n",
       "\n",
       "[5 rows x 115 columns]"
      ]
     },
     "execution_count": 25,
     "metadata": {},
     "output_type": "execute_result"
    }
   ],
   "source": [
    "csv_failo_kelias = 'C:\\\\Users\\\\User\\\\Desktop\\\\Codes\\\\DataScienceNotebooks\\\\Studentai\\\\PauliusS\\\\Paskaita54\\\\auto.csv'\n",
    "duomenys = pd.read_csv(csv_failo_kelias, sep ='|')\n",
    "\n",
    "duomenys.head()"
   ]
  },
  {
   "cell_type": "code",
   "execution_count": null,
   "metadata": {},
   "outputs": [
    {
     "data": {
      "text/html": [
       "<div>\n",
       "<style scoped>\n",
       "    .dataframe tbody tr th:only-of-type {\n",
       "        vertical-align: middle;\n",
       "    }\n",
       "\n",
       "    .dataframe tbody tr th {\n",
       "        vertical-align: top;\n",
       "    }\n",
       "\n",
       "    .dataframe thead th {\n",
       "        text-align: right;\n",
       "    }\n",
       "</style>\n",
       "<table border=\"1\" class=\"dataframe\">\n",
       "  <thead>\n",
       "    <tr style=\"text-align: right;\">\n",
       "      <th></th>\n",
       "      <th>rida_rounded</th>\n",
       "      <th>price</th>\n",
       "    </tr>\n",
       "  </thead>\n",
       "  <tbody>\n",
       "    <tr>\n",
       "      <th>0</th>\n",
       "      <td>0</td>\n",
       "      <td>7386.602273</td>\n",
       "    </tr>\n",
       "    <tr>\n",
       "      <th>1</th>\n",
       "      <td>5000</td>\n",
       "      <td>39392.363636</td>\n",
       "    </tr>\n",
       "    <tr>\n",
       "      <th>2</th>\n",
       "      <td>10000</td>\n",
       "      <td>23906.294118</td>\n",
       "    </tr>\n",
       "    <tr>\n",
       "      <th>3</th>\n",
       "      <td>15000</td>\n",
       "      <td>35179.166667</td>\n",
       "    </tr>\n",
       "    <tr>\n",
       "      <th>4</th>\n",
       "      <td>20000</td>\n",
       "      <td>31391.428571</td>\n",
       "    </tr>\n",
       "  </tbody>\n",
       "</table>\n",
       "</div>"
      ],
      "text/plain": [
       "   rida_rounded         price\n",
       "0             0   7386.602273\n",
       "1          5000  39392.363636\n",
       "2         10000  23906.294118\n",
       "3         15000  35179.166667\n",
       "4         20000  31391.428571"
      ]
     },
     "execution_count": 50,
     "metadata": {},
     "output_type": "execute_result"
    }
   ],
   "source": [
    "duomenys['rida'] = duomenys['rida'].astype(str)\n",
    "duomenys['rida'] = duomenys['rida'].replace('Nenurodyta', '0').str.replace(' km', '').str.replace(' ', '')\n",
    "duomenys['rida'] = duomenys['rida'].astype(int)\n",
    "\n",
    "duomenys['price'] = duomenys['price'].astype(str).str.replace(' ', '').astype(int)\n",
    "\n",
    "rida_kaina = duomenys[['rida', 'price']]\n",
    "rida_kaina.head()\n",
    "\n",
    "def round_to_nearest_5000(x):\n",
    "    return int(np.round(x / 5000) * 5000)\n",
    "\n",
    "duomenys['rida_rounded'] = duomenys['rida'].apply(round_to_nearest_5000)\n",
    "geri_duomenys = duomenys[['rida_rounded', 'price']]\n",
    "\n",
    "geri_duomenys2 = geri_duomenys[geri_duomenys['rida_rounded'] < 900000]\n",
    "geri_duomenys2.head()\n",
    "\n",
    "vidutines_ridos = geri_duomenys2.groupby('rida_rounded')['price'].mean().reset_index()\n",
    "vidutines_ridos.head()\n",
    "\n"
   ]
  },
  {
   "cell_type": "code",
   "execution_count": 55,
   "metadata": {},
   "outputs": [
    {
     "data": {
      "image/png": "[encoded data removed]",
      "text/plain": [
       "<Figure size 640x480 with 1 Axes>"
      ]
     },
     "metadata": {},
     "output_type": "display_data"
    }
   ],
   "source": [
    "import seaborn as sns\n",
    "import matplotlib.pyplot as plt\n",
    "\n",
    "DM2 = vidutines_ridos.query(expr='rida_rounded < 500000')\n",
    "\n",
    "ax = sns.regplot(data=vidutines_ridos, x = 'rida_rounded', y = 'price', order=1)\n",
    "ax.axhline(y=0)\n",
    "plt.show()"
   ]
  },
  {
   "cell_type": "code",
   "execution_count": null,
   "metadata": {},
   "outputs": [],
   "source": [
    "import numpy.polynomial.polynomial as poly"
   ]
  },
  {
   "cell_type": "code",
   "execution_count": 59,
   "metadata": {},
   "outputs": [
    {
     "name": "stdout",
     "output_type": "stream",
     "text": [
      "[-5.59673464e-02  2.41666028e+04]\n"
     ]
    }
   ],
   "source": [
    "coef = np.polyfit(x=DM2['rida_rounded'], y=DM2['price'], deg=1 )\n",
    "print(coef)"
   ]
  },
  {
   "cell_type": "code",
   "execution_count": null,
   "metadata": {},
   "outputs": [
    {
     "data": {
      "text/latex": [
       "$x \\mapsto \\text{24166.60279308} - \\text{0.05596735}\\,x$"
      ],
      "text/plain": [
       "Polynomial([ 2.41666028e+04, -5.59673464e-02], domain=[-1.,  1.], window=[-1.,  1.], symbol='x')"
      ]
     },
     "execution_count": 63,
     "metadata": {},
     "output_type": "execute_result"
    }
   ],
   "source": [
    "fn_fit = poly.Polynomial(coef[::-1])    # cia yra funkcija kuri apskaiciuoja (apsukame del sintakses)\n",
    "fn_fit"
   ]
  },
  {
   "cell_type": "code",
   "execution_count": null,
   "metadata": {},
   "outputs": [
    {
     "name": "stdout",
     "output_type": "stream",
     "text": [
      "7376.398880847501\n"
     ]
    }
   ],
   "source": [
    "r = 300000\n",
    "t_kaina = fn_fit(r)\n",
    "print(t_kaina)          #gauname tiketina kaina uz 300 000 km"
   ]
  },
  {
   "cell_type": "code",
   "execution_count": 69,
   "metadata": {},
   "outputs": [
    {
     "data": {
      "text/html": [
       "<div>\n",
       "<style scoped>\n",
       "    .dataframe tbody tr th:only-of-type {\n",
       "        vertical-align: middle;\n",
       "    }\n",
       "\n",
       "    .dataframe tbody tr th {\n",
       "        vertical-align: top;\n",
       "    }\n",
       "\n",
       "    .dataframe thead th {\n",
       "        text-align: right;\n",
       "    }\n",
       "</style>\n",
       "<table border=\"1\" class=\"dataframe\">\n",
       "  <thead>\n",
       "    <tr style=\"text-align: right;\">\n",
       "      <th></th>\n",
       "      <th>rida_rounded</th>\n",
       "      <th>price</th>\n",
       "      <th>K_fit</th>\n",
       "    </tr>\n",
       "  </thead>\n",
       "  <tbody>\n",
       "    <tr>\n",
       "      <th>0</th>\n",
       "      <td>0</td>\n",
       "      <td>7386.602273</td>\n",
       "      <td>24166.602793</td>\n",
       "    </tr>\n",
       "    <tr>\n",
       "      <th>1</th>\n",
       "      <td>5000</td>\n",
       "      <td>39392.363636</td>\n",
       "      <td>23886.766061</td>\n",
       "    </tr>\n",
       "    <tr>\n",
       "      <th>2</th>\n",
       "      <td>10000</td>\n",
       "      <td>23906.294118</td>\n",
       "      <td>23606.929329</td>\n",
       "    </tr>\n",
       "    <tr>\n",
       "      <th>3</th>\n",
       "      <td>15000</td>\n",
       "      <td>35179.166667</td>\n",
       "      <td>23327.092597</td>\n",
       "    </tr>\n",
       "    <tr>\n",
       "      <th>4</th>\n",
       "      <td>20000</td>\n",
       "      <td>31391.428571</td>\n",
       "      <td>23047.255866</td>\n",
       "    </tr>\n",
       "  </tbody>\n",
       "</table>\n",
       "</div>"
      ],
      "text/plain": [
       "   rida_rounded         price         K_fit\n",
       "0             0   7386.602273  24166.602793\n",
       "1          5000  39392.363636  23886.766061\n",
       "2         10000  23906.294118  23606.929329\n",
       "3         15000  35179.166667  23327.092597\n",
       "4         20000  31391.428571  23047.255866"
      ]
     },
     "execution_count": 69,
     "metadata": {},
     "output_type": "execute_result"
    }
   ],
   "source": [
    "kainos_fitted = fn_fit(DM2['rida_rounded'])\n",
    "DM2['K_fit'] = kainos_fitted\n",
    "DM2.head()"
   ]
  },
  {
   "cell_type": "code",
   "execution_count": 73,
   "metadata": {},
   "outputs": [
    {
     "data": {
      "image/png": "[encoded data removed]",
      "text/plain": [
       "<Figure size 640x480 with 1 Axes>"
      ]
     },
     "metadata": {},
     "output_type": "display_data"
    }
   ],
   "source": [
    "ax = sns.regplot(data=DM2, x='rida_rounded', y='price', order = 1)\n",
    "ax.scatter(x=DM2['rida_rounded'][::10], y=DM2['K_fit'][::10], c='red')\n",
    "plt.show()"
   ]
  },
  {
   "cell_type": "code",
   "execution_count": 74,
   "metadata": {},
   "outputs": [
    {
     "name": "stdout",
     "output_type": "stream",
     "text": [
      "[-3.21341425e-13  4.67186746e-07 -2.12242449e-01  3.46929635e+04]\n"
     ]
    },
    {
     "data": {
      "image/png": "[encoded data removed]",
      "text/plain": [
       "<Figure size 640x480 with 1 Axes>"
      ]
     },
     "metadata": {},
     "output_type": "display_data"
    }
   ],
   "source": [
    "coef = np.polyfit(x=DM2['rida_rounded'], y=DM2['price'], deg=3)\n",
    "print(coef)\n",
    "fn_fit = poly.Polynomial(coef[::-1])\n",
    "kainos_fitted = fn_fit(DM2['rida_rounded'])\n",
    "DM2['K_fit'] = kainos_fitted\n",
    "\n",
    "ax = sns.regplot(data=DM2, x='rida_rounded', y='price', order=3)\n",
    "ax.scatter(x=DM2['rida_rounded'][::10], y=DM2['K_fit'][::10], c='red')\n",
    "\n",
    "plt.show()"
   ]
  },
  {
   "cell_type": "code",
   "execution_count": 75,
   "metadata": {},
   "outputs": [
    {
     "data": {
      "text/plain": [
       "np.float64(4390.817460544047)"
      ]
     },
     "execution_count": 75,
     "metadata": {},
     "output_type": "execute_result"
    }
   ],
   "source": [
    "fn_fit(300000)"
   ]
  },
  {
   "cell_type": "code",
   "execution_count": 86,
   "metadata": {},
   "outputs": [
    {
     "data": {
      "text/html": [
       "<div>\n",
       "<style scoped>\n",
       "    .dataframe tbody tr th:only-of-type {\n",
       "        vertical-align: middle;\n",
       "    }\n",
       "\n",
       "    .dataframe tbody tr th {\n",
       "        vertical-align: top;\n",
       "    }\n",
       "\n",
       "    .dataframe thead th {\n",
       "        text-align: right;\n",
       "    }\n",
       "</style>\n",
       "<table border=\"1\" class=\"dataframe\">\n",
       "  <thead>\n",
       "    <tr style=\"text-align: right;\">\n",
       "      <th></th>\n",
       "      <th>gamintojas</th>\n",
       "      <th>rida_rounded</th>\n",
       "      <th>modelis</th>\n",
       "      <th>pagaminimo_data</th>\n",
       "      <th>kuro_tipas</th>\n",
       "    </tr>\n",
       "  </thead>\n",
       "  <tbody>\n",
       "    <tr>\n",
       "      <th>0</th>\n",
       "      <td>BMW</td>\n",
       "      <td>255000</td>\n",
       "      <td>M5</td>\n",
       "      <td>2005-12</td>\n",
       "      <td>Benzinas</td>\n",
       "    </tr>\n",
       "    <tr>\n",
       "      <th>1</th>\n",
       "      <td>Mitsubishi</td>\n",
       "      <td>195000</td>\n",
       "      <td>Outlander</td>\n",
       "      <td>2006</td>\n",
       "      <td>Benzinas</td>\n",
       "    </tr>\n",
       "    <tr>\n",
       "      <th>2</th>\n",
       "      <td>Seat</td>\n",
       "      <td>130000</td>\n",
       "      <td>Arona</td>\n",
       "      <td>2019-11</td>\n",
       "      <td>Dyzelinas</td>\n",
       "    </tr>\n",
       "    <tr>\n",
       "      <th>3</th>\n",
       "      <td>Skoda</td>\n",
       "      <td>185000</td>\n",
       "      <td>Octavia Scout</td>\n",
       "      <td>2015-06</td>\n",
       "      <td>Benzinas</td>\n",
       "    </tr>\n",
       "    <tr>\n",
       "      <th>4</th>\n",
       "      <td>Volvo</td>\n",
       "      <td>130000</td>\n",
       "      <td>XC90</td>\n",
       "      <td>2018-08</td>\n",
       "      <td>Dyzelinas</td>\n",
       "    </tr>\n",
       "  </tbody>\n",
       "</table>\n",
       "</div>"
      ],
      "text/plain": [
       "   gamintojas  rida_rounded        modelis pagaminimo_data kuro_tipas\n",
       "0         BMW        255000             M5         2005-12   Benzinas\n",
       "1  Mitsubishi        195000      Outlander            2006   Benzinas\n",
       "2        Seat        130000          Arona         2019-11  Dyzelinas\n",
       "3       Skoda        185000  Octavia Scout         2015-06   Benzinas\n",
       "4       Volvo        130000           XC90         2018-08  Dyzelinas"
      ]
     },
     "execution_count": 86,
     "metadata": {},
     "output_type": "execute_result"
    }
   ],
   "source": [
    "csv_failo_kelias = 'C:\\\\Users\\\\User\\\\Desktop\\\\Codes\\\\DataScienceNotebooks\\\\Studentai\\\\PauliusS\\\\Paskaita54\\\\auto.csv'\n",
    "duomenys = pd.read_csv(csv_failo_kelias, sep ='|')\n",
    "\n",
    "\n",
    "duomenys['rida'] = duomenys['rida'].astype(str)\n",
    "duomenys['rida'] = duomenys['rida'].replace('Nenurodyta', '0').str.replace(' km', '').str.replace(' ', '')\n",
    "duomenys['rida'] = duomenys['rida'].astype(int)\n",
    "\n",
    "duomenys['price'] = duomenys['price'].astype(str).str.replace(' ', '').astype(int)\n",
    "\n",
    "rida_kaina = duomenys[['rida', 'price']]\n",
    "\n",
    "def round_to_nearest_5000(x):\n",
    "    return int(np.round(x / 5000) * 5000)\n",
    "\n",
    "duomenys['rida_rounded'] = duomenys['rida'].apply(round_to_nearest_5000)\n",
    "\n",
    "duomenys.head()\n",
    "\n",
    "duomenys2 = duomenys[['gamintojas','rida_rounded','modelis','pagaminimo_data','kuro_tipas']]\n",
    "duomenys2.head()\n"
   ]
  },
  {
   "cell_type": "code",
   "execution_count": 79,
   "metadata": {},
   "outputs": [
    {
     "data": {
      "text/plain": [
       "dtype('int64')"
      ]
     },
     "execution_count": 79,
     "metadata": {},
     "output_type": "execute_result"
    }
   ],
   "source": [
    "duomenys['rida'].dtype"
   ]
  },
  {
   "cell_type": "code",
   "execution_count": null,
   "metadata": {},
   "outputs": [],
   "source": [
    "#Vartotojas iveda kriterijus (iki 7)\n",
    "#Apskaiciuoti tiketina kaina pagal pateiktus kriterijus"
   ]
  },
  {
   "cell_type": "code",
   "execution_count": null,
   "metadata": {},
   "outputs": [],
   "source": [
    "# Vartotojo ivestis \n",
    "\n",
    "# Dataframe duomenys \n",
    "\n",
    "# Skaiciavimai \n",
    "\n",
    "# Atsakymas "
   ]
  },
  {
   "cell_type": "code",
   "execution_count": 109,
   "metadata": {},
   "outputs": [
    {
     "name": "stdout",
     "output_type": "stream",
     "text": [
      "{'gamintojas': '1', 'modelis': '2', 'rida': '3', 'metai': '4', 'kebulas': '5', 'kuras': '6'}\n"
     ]
    },
    {
     "data": {
      "text/html": [
       "<div>\n",
       "<style scoped>\n",
       "    .dataframe tbody tr th:only-of-type {\n",
       "        vertical-align: middle;\n",
       "    }\n",
       "\n",
       "    .dataframe tbody tr th {\n",
       "        vertical-align: top;\n",
       "    }\n",
       "\n",
       "    .dataframe thead th {\n",
       "        text-align: right;\n",
       "    }\n",
       "</style>\n",
       "<table border=\"1\" class=\"dataframe\">\n",
       "  <thead>\n",
       "    <tr style=\"text-align: right;\">\n",
       "      <th></th>\n",
       "      <th>gamintojas</th>\n",
       "      <th>rida_rounded</th>\n",
       "      <th>modelis</th>\n",
       "      <th>pagaminimo_metai</th>\n",
       "      <th>kuro_tipas</th>\n",
       "      <th>price</th>\n",
       "    </tr>\n",
       "  </thead>\n",
       "  <tbody>\n",
       "    <tr>\n",
       "      <th>0</th>\n",
       "      <td>BMW</td>\n",
       "      <td>255000</td>\n",
       "      <td>M5</td>\n",
       "      <td>2005</td>\n",
       "      <td>Benzinas</td>\n",
       "      <td>19500</td>\n",
       "    </tr>\n",
       "    <tr>\n",
       "      <th>1</th>\n",
       "      <td>Mitsubishi</td>\n",
       "      <td>195000</td>\n",
       "      <td>Outlander</td>\n",
       "      <td>2006</td>\n",
       "      <td>Benzinas</td>\n",
       "      <td>2700</td>\n",
       "    </tr>\n",
       "    <tr>\n",
       "      <th>2</th>\n",
       "      <td>Seat</td>\n",
       "      <td>130000</td>\n",
       "      <td>Arona</td>\n",
       "      <td>2019</td>\n",
       "      <td>Dyzelinas</td>\n",
       "      <td>13490</td>\n",
       "    </tr>\n",
       "    <tr>\n",
       "      <th>3</th>\n",
       "      <td>Skoda</td>\n",
       "      <td>185000</td>\n",
       "      <td>Octavia Scout</td>\n",
       "      <td>2015</td>\n",
       "      <td>Benzinas</td>\n",
       "      <td>14650</td>\n",
       "    </tr>\n",
       "    <tr>\n",
       "      <th>4</th>\n",
       "      <td>Volvo</td>\n",
       "      <td>130000</td>\n",
       "      <td>XC90</td>\n",
       "      <td>2018</td>\n",
       "      <td>Dyzelinas</td>\n",
       "      <td>38000</td>\n",
       "    </tr>\n",
       "  </tbody>\n",
       "</table>\n",
       "</div>"
      ],
      "text/plain": [
       "   gamintojas  rida_rounded        modelis pagaminimo_metai kuro_tipas  price\n",
       "0         BMW        255000             M5             2005   Benzinas  19500\n",
       "1  Mitsubishi        195000      Outlander             2006   Benzinas   2700\n",
       "2        Seat        130000          Arona             2019  Dyzelinas  13490\n",
       "3       Skoda        185000  Octavia Scout             2015   Benzinas  14650\n",
       "4       Volvo        130000           XC90             2018  Dyzelinas  38000"
      ]
     },
     "execution_count": 109,
     "metadata": {},
     "output_type": "execute_result"
    }
   ],
   "source": [
    "gamintojas = input('Nurodykite gamintoją')\n",
    "modelis = input('Nurodykite modelį')\n",
    "rida = input('Nurodykite ridą')\n",
    "metai = input('Nurodykite metus')\n",
    "kebulas = input('Nurodykite kebulą')\n",
    "kuras = input('Nurodykite kuro tipą')\n",
    "\n",
    "vartotojo_ivestis = {'gamintojas':gamintojas, 'modelis':modelis, 'rida':rida, 'metai':metai, 'kebulas':kebulas, 'kuras':kuras}\n",
    "\n",
    "print(vartotojo_ivestis)\n",
    "\n",
    "\n",
    "csv_failo_kelias = 'C:\\\\Users\\\\User\\\\Desktop\\\\Codes\\\\DataScienceNotebooks\\\\Studentai\\\\PauliusS\\\\Paskaita54\\\\auto.csv'\n",
    "duomenys = pd.read_csv(csv_failo_kelias, sep ='|')\n",
    "\n",
    "\n",
    "duomenys['rida'] = duomenys['rida'].astype(str)\n",
    "duomenys['rida'] = duomenys['rida'].replace('Nenurodyta', '0').str.replace(' km', '').str.replace(' ', '')\n",
    "duomenys['rida'] = duomenys['rida'].astype(int)\n",
    "\n",
    "duomenys['price'] = duomenys['price'].astype(str).str.replace(' ', '').astype(int)\n",
    "\n",
    "rida_kaina = duomenys[['rida', 'price']]\n",
    "\n",
    "def round_to_nearest_5000(x):\n",
    "    return int(np.round(x / 5000) * 5000)\n",
    "\n",
    "duomenys['rida_rounded'] = duomenys['rida'].apply(round_to_nearest_5000)\n",
    "\n",
    "duomenys.head()\n",
    "\n",
    "duomenys2 = duomenys[['gamintojas','rida_rounded','modelis','pagaminimo_data','kuro_tipas', 'price']]\n",
    "duomenys2['pagaminimo_metai'] = duomenys2['pagaminimo_data'].astype(str).str.slice(0, 4)\n",
    "duomenys3 = duomenys2[['gamintojas','rida_rounded','modelis','pagaminimo_metai','kuro_tipas', 'price']]\n",
    "duomenys4 = duomenys3[(duomenys3['rida_rounded'] > 1) & (duomenys3['rida_rounded'] < 500000)]\n",
    "\n",
    "duomenys4.head()\n"
   ]
  },
  {
   "cell_type": "code",
   "execution_count": 111,
   "metadata": {},
   "outputs": [],
   "source": [
    "v_gamintojas = vartotojo_ivestis['gamintojas']\n",
    "v_modelis = vartotojo_ivestis['modelis']\n",
    "v_rida = vartotojo_ivestis['rida']\n",
    "v_metai = vartotojo_ivestis['metai']\n",
    "v_kebulas = vartotojo_ivestis['kebulas']\n",
    "v_kuras = vartotojo_ivestis['kuras']"
   ]
  },
  {
   "cell_type": "code",
   "execution_count": 112,
   "metadata": {},
   "outputs": [
    {
     "name": "stdout",
     "output_type": "stream",
     "text": [
      "1 2 3 4 5 6\n"
     ]
    }
   ],
   "source": [
    "print(v_gamintojas, v_modelis, v_rida, v_metai, v_kebulas, v_kuras)"
   ]
  },
  {
   "cell_type": "code",
   "execution_count": null,
   "metadata": {},
   "outputs": [],
   "source": [
    "# ['Benzinas' 'Dyzelinas' 'Benzinas / dujos' 'Benzinas / elektra' 'Elektra' 'Dyzelinas / elektra' 'Benzinas / elektra / dujos']"
   ]
  },
  {
   "cell_type": "code",
   "execution_count": null,
   "metadata": {},
   "outputs": [],
   "source": [
    "# Apskaiciuoti gamintojo ir modelio vid. kaina !!!!!!!!!!!!\n",
    "# Apskaiciuoti ridos vidutine kaina ??????????????????????\n",
    "# Apskaiciuoti metu vidutine kaina !!!!!!!!!!!!!!!!!\n",
    "# Apskaiciuoti kebulo vidutine kaina \n",
    "# Apskaiciuoti kuro vidutine kaina "
   ]
  }
 ],
 "metadata": {
  "kernelspec": {
   "display_name": "Python 3",
   "language": "python",
   "name": "python3"
  },
  "language_info": {
   "codemirror_mode": {
    "name": "ipython",
    "version": 3
   },
   "file_extension": ".py",
   "mimetype": "text/x-python",
   "name": "python",
   "nbconvert_exporter": "python",
   "pygments_lexer": "ipython3",
   "version": "3.12.7"
  }
 },
 "nbformat": 4,
 "nbformat_minor": 2
}
