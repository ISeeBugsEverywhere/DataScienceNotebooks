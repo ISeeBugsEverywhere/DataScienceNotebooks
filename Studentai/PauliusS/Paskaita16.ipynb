{
 "cells": [
  {
   "cell_type": "code",
   "execution_count": null,
   "metadata": {},
   "outputs": [],
   "source": [
    "# parašyti funkciją, kuriai galėtumėte nurodyti sąrašą skaičių bei dar vieną skaičių, \n",
    "# ir ta funkcija surastų ir grąžintų sarašę buvusį skaičių, \n",
    "# artimiausią nuliui (arba jūsų nurodytam skaičiui), \n",
    "# bei rastojo skaičiaus poziciją (indeksą) sąraše.\n",
    "\n",
    "\n"
   ]
  },
  {
   "cell_type": "code",
   "execution_count": 28,
   "metadata": {},
   "outputs": [
    {
     "name": "stdout",
     "output_type": "stream",
     "text": [
      "[1, 0.5, 0.75, 2, 5, 25, 0.1, 0.05, 0.045, 2, 3, 4, 5, 6]\n",
      "0.5\n"
     ]
    }
   ],
   "source": [
    "# nurodome savo skaiciu x \n",
    "# jei tu skaiciu daugiau nei vienas, grazinkite pirmaji surasta \n",
    "a = [1,0.5,0.75,2,5,25,0.1,0.05,-0.045,2,3,4,5,6]\n",
    "targetas = 0\n",
    "\n",
    "def fn():\n",
    "    b = []\n",
    "    for i in a:\n",
    "        b.append(abs(i))\n",
    "    return b\n",
    "\n",
    "naujas_sarasas = fn()\n",
    "print(naujas_sarasas)\n",
    "\n",
    "def fn2():\n",
    "    maziausias = naujas_sarasas[0]\n",
    "    \n",
    "    for i in naujas_sarasas:\n",
    "        if i < maziausias:\n",
    "            maziausias = i\n",
    "            return maziausias \n",
    "\n",
    "rastas_maziausias = fn2()\n",
    "print(rastas_maziausias)\n",
    "\n",
    "def randame_indeksa():\n",
    "    for i \n"
   ]
  },
  {
   "cell_type": "code",
   "execution_count": 31,
   "metadata": {},
   "outputs": [
    {
     "name": "stdout",
     "output_type": "stream",
     "text": [
      "(0.5, 1)\n"
     ]
    }
   ],
   "source": [
    "# Teisingas sprendimas:\n",
    "\n",
    "\n",
    "def argmax(array, point):\n",
    "    mods = list(map(lambda x: abs(point - x), array))\n",
    "    mn = min(mods)\n",
    "    # ieškom indekso, didžiausio,\n",
    "    # jei bus keli skaičiai\n",
    "    # grąžinsime didžiausią indeksą\n",
    "    idx = len(mods) - 1\n",
    "    while idx >= 0:\n",
    "        if mods[idx] == mn:\n",
    "            idx = idx\n",
    "            break\n",
    "        idx = idx - 1\n",
    "    return array[idx], idx\n",
    "\n",
    "print(argmax([1, 0.5, 0.75, 2, 5, 25, 0.1, 0.05, -0.045, 2, 3, 4, 5, 6], 0.5))\n"
   ]
  },
  {
   "cell_type": "code",
   "execution_count": 32,
   "metadata": {},
   "outputs": [
    {
     "name": "stdout",
     "output_type": "stream",
     "text": [
      "[1, 0.5, 0.75, 2, 5, 25, 0.1, 0.05, 0.045, 2, 3, 4, 5, 6]\n"
     ]
    }
   ],
   "source": [
    "a = [1,0.5,0.75,2,5,25,0.1,0.05,-0.045,2,3,4,5,6]\n",
    "targetas = 0\n",
    "\n",
    "def fn():\n",
    "    b = []\n",
    "    for i in a:\n",
    "        b.append(abs(i))\n",
    "    return b\n",
    "\n",
    "naujas_sarasas = fn()\n",
    "print(naujas_sarasas)"
   ]
  },
  {
   "cell_type": "code",
   "execution_count": 37,
   "metadata": {},
   "outputs": [
    {
     "name": "stdout",
     "output_type": "stream",
     "text": [
      "40\n",
      "104.0\n",
      "40\n",
      "104.0\n"
     ]
    }
   ],
   "source": [
    "class Degree():\n",
    "    def __init__(self, c) -> None:\n",
    "        self.__Tc = c\n",
    "        self.__Tf = (c*1.8)+32\n",
    "        \n",
    "    def getC(self):\n",
    "        return self.__Tc\n",
    "    \n",
    "    def setC(self, c):\n",
    "        self.__Tc = c\n",
    "    \n",
    "    def getF(self):\n",
    "        return self.__Tf    \n",
    "    \n",
    "        \n",
    "        \n",
    "obj = Degree(40)\n",
    "print(obj.getC())\n",
    "print(obj.getF())\n",
    "\n",
    "obj = Degree(40)\n",
    "print(obj.getC())\n",
    "print(obj.getF())"
   ]
  },
  {
   "cell_type": "code",
   "execution_count": 50,
   "metadata": {},
   "outputs": [
    {
     "name": "stdout",
     "output_type": "stream",
     "text": [
      "42\n",
      "107.60000000000001\n",
      "40\n",
      "104.0\n"
     ]
    }
   ],
   "source": [
    "class Degree():\n",
    "    def __init__(self, c) -> None:\n",
    "        self.setT(c)\n",
    "        pass\n",
    "    \n",
    "    def setT(self, c):\n",
    "        self.__Tc = c\n",
    "        self.__Tf = (c*1.8)+32\n",
    "        \n",
    "    def getT(self):\n",
    "        return self.__Tc\n",
    "    \n",
    "    def getF(self):\n",
    "        return self.__Tf\n",
    "    T = property(getT, setT)   #irasius 14 eiluteje, sukureme atributa \n",
    "        \n",
    "obj = Degree(42)\n",
    "print(obj.getT())\n",
    "print(obj.getF())\n",
    "\n",
    "obj.setT(40)\n",
    "print(obj.getT())\n",
    "print(obj.getF())\n",
    "\n",
    "        "
   ]
  },
  {
   "cell_type": "code",
   "execution_count": 53,
   "metadata": {},
   "outputs": [
    {
     "name": "stdout",
     "output_type": "stream",
     "text": [
      "109.4\n",
      "43\n"
     ]
    }
   ],
   "source": [
    "obj.T = 43   \n",
    "print(obj.getF())\n",
    "print(obj.T)\n"
   ]
  },
  {
   "cell_type": "code",
   "execution_count": 69,
   "metadata": {},
   "outputs": [
    {
     "name": "stdout",
     "output_type": "stream",
     "text": [
      "5\n",
      "157.0\n",
      "226.08\n"
     ]
    }
   ],
   "source": [
    "class Apskritimas():\n",
    "    def __init__(self, r) -> None:\n",
    "        self.R = r\n",
    "        # self.S = ?\n",
    "        pass\n",
    "    \n",
    "    @property       #dekoratorius  #sis raktazodis parodo kad bus interpretuojamas kaip atributas\n",
    "    def R(self):\n",
    "        return self.__R\n",
    "    @R.setter         \n",
    "    def R(self,r):      #turi buti su sutampanciais pavadinimais \n",
    "        self.__R = r\n",
    "        self.S = 2*3.14*r**2\n",
    "        \n",
    "o = Apskritimas(5)\n",
    "print(o.R)\n",
    "print(o.S)\n",
    "o.R = 6\n",
    "print(o.S)   \n",
    "    "
   ]
  },
  {
   "cell_type": "code",
   "execution_count": 101,
   "metadata": {},
   "outputs": [
    {
     "name": "stdout",
     "output_type": "stream",
     "text": [
      "KLASE PRASIDEDA CIA\n",
      "10\n",
      "6\n",
      "ATNAUJINIMAS PRASIDEDA CIA\n",
      "30\n",
      "50\n",
      "ATNAUJINTI DUOMENYS SPAUSDINAMI CIA:\n",
      "(30, 50)\n"
     ]
    }
   ],
   "source": [
    "## Sukurkite klasę, skirtą geometrinių figūrų parametrų\n",
    "##skaičiavimui:\n",
    "## Klasė Stačiakampis - sukūrimo metu automatiškai suskaičiuoja plotą ir perimetrą • P = 2(a + b), S = ab \n",
    "# Klasė Kubas - sukūrimo metu turi suskaičiuoti paviršiaus plotą ir tūrį • V = abc\n",
    "# Realizuokite metodus, skirtus atnaujinti skaičiavimams, pasiekti skaičiavimų rezultatus.\n",
    "\n",
    "\n",
    "class Staciakampis:\n",
    "    def __init__(self, a , b):\n",
    "        self.a = a\n",
    "        self.b = b \n",
    "        print('KLASE PRASIDEDA CIA')\n",
    "        self.skaiciavimas()\n",
    "        \n",
    "    def skaiciavimas(self):\n",
    "        self.perimetras = 2 * (self.a + self.b)\n",
    "        self.plotas = self.a * self.b \n",
    "        print(self.perimetras)\n",
    "        print(self.plotas)\n",
    "\n",
    "    def gauti_perimetra(self):\n",
    "        return self.perimetras\n",
    "\n",
    "    def gauti_plota(self):\n",
    "        return self.plotas\n",
    "    \n",
    "    def atnaujinti(self,a,b):\n",
    "        self.a = a\n",
    "        self.b = b \n",
    "        print('ATNAUJINIMAS PRASIDEDA CIA')\n",
    "        self.skaiciavimas()\n",
    "        return self.perimetras, self.plotas\n",
    " \n",
    "    \n",
    "staciakampis = Staciakampis(2,3)    \n",
    "\n",
    "atnaujinti_duomenys = staciakampis.atnaujinti(10,5)\n",
    "\n",
    "print('ATNAUJINTI DUOMENYS SPAUSDINAMI CIA:')\n",
    "print(atnaujinti_duomenys)\n",
    "\n",
    "    \n",
    "    \n",
    "    \n",
    "    \n",
    "    "
   ]
  },
  {
   "cell_type": "code",
   "execution_count": 102,
   "metadata": {},
   "outputs": [
    {
     "ename": "NameError",
     "evalue": "name 'Rulutys' is not defined",
     "output_type": "error",
     "traceback": [
      "\u001b[1;31m---------------------------------------------------------------------------\u001b[0m",
      "\u001b[1;31mNameError\u001b[0m                                 Traceback (most recent call last)",
      "Cell \u001b[1;32mIn[102], line 14\u001b[0m\n\u001b[0;32m     10\u001b[0m         \u001b[38;5;28mself\u001b[39m\u001b[38;5;241m.\u001b[39m__r \u001b[38;5;241m=\u001b[39m r\n\u001b[0;32m     11\u001b[0m         \u001b[38;5;28mself\u001b[39m\u001b[38;5;241m.\u001b[39mV \u001b[38;5;241m=\u001b[39m \u001b[38;5;241m4\u001b[39m\u001b[38;5;241m/\u001b[39m\u001b[38;5;241m3\u001b[39m\u001b[38;5;241m*\u001b[39m\u001b[38;5;241m3.14\u001b[39m\u001b[38;5;241m*\u001b[39mr\u001b[38;5;241m*\u001b[39m\u001b[38;5;241m*\u001b[39m\u001b[38;5;241m3\u001b[39m\n\u001b[1;32m---> 14\u001b[0m o \u001b[38;5;241m=\u001b[39m \u001b[43mRulutys\u001b[49m(\u001b[38;5;241m4\u001b[39m)\n\u001b[0;32m     15\u001b[0m \u001b[38;5;28mprint\u001b[39m(o\u001b[38;5;241m.\u001b[39mR)  \u001b[38;5;66;03m#property\u001b[39;00m\n\u001b[0;32m     16\u001b[0m \u001b[38;5;28mprint\u001b[39m(o\u001b[38;5;241m.\u001b[39mV)  \u001b[38;5;66;03m#atribute\u001b[39;00m\n",
      "\u001b[1;31mNameError\u001b[0m: name 'Rulutys' is not defined"
     ]
    }
   ],
   "source": [
    "class Rutulys():\n",
    "    def __init__(self, r) -> None:\n",
    "        self.R = r\n",
    "        pass\n",
    "    @property\n",
    "    def R(self):\n",
    "        return self.__r\n",
    "    @R.setter\n",
    "    def R(self, r):\n",
    "        self.__r = r\n",
    "        self.V = 4/3*3.14*r**3\n",
    "        \n",
    "\n",
    "o = Rulutys(4)\n",
    "print(o.R)  #property\n",
    "print(o.V)  #atribute\n",
    "        \n",
    "# o.R = 5 \n",
    "# print(o)  \n",
    "        \n",
    "    "
   ]
  },
  {
   "cell_type": "code",
   "execution_count": 108,
   "metadata": {},
   "outputs": [
    {
     "name": "stdout",
     "output_type": "stream",
     "text": [
      "6\n",
      "12\n",
      "14\n"
     ]
    }
   ],
   "source": [
    "class Rect():\n",
    "    def __init__(self, a, b) -> None:\n",
    "        self.AB = (a,b)\n",
    "        pass\n",
    "    @property\n",
    "    def AB(self):\n",
    "        return self.a, self.b\n",
    "    @AB.setter\n",
    "    def AB(self, w):\n",
    "        self.a, self.b = w\n",
    "        self.S = self.a * self.b\n",
    "        self.P = 2*(self.a + self.b)\n",
    "        \n",
    "r = Rect(2,3)\n",
    "print(r.S)\n",
    "\n",
    "r.AB = (3,4)\n",
    "print(r.S)\n",
    "print(r.P)\n"
   ]
  },
  {
   "cell_type": "code",
   "execution_count": 117,
   "metadata": {},
   "outputs": [
    {
     "name": "stdout",
     "output_type": "stream",
     "text": [
      "6\n",
      "12\n",
      "20\n"
     ]
    }
   ],
   "source": [
    "class RectII:\n",
    "    def __init__(self, a, b) -> None:\n",
    "        self._a = a\n",
    "        self._b = b\n",
    "        self._S = a * b\n",
    "    \n",
    "    @property\n",
    "    def A(self):\n",
    "        return self._a\n",
    "    \n",
    "    @A.setter\n",
    "    def A(self, a):\n",
    "        self._a = a\n",
    "        self._S = self._a * self._b\n",
    "    \n",
    "    @property\n",
    "    def B(self):\n",
    "        return self._b\n",
    "    \n",
    "    @B.setter\n",
    "    def B(self, b):\n",
    "        self._b = b\n",
    "        self._S = self._a * self._b\n",
    "    \n",
    "    @property\n",
    "    def S(self):\n",
    "        return self._S\n",
    "\n",
    "o = RectII(2, 3)\n",
    "print(o.S)  # Output should be 6\n",
    "\n",
    "o.A = 4\n",
    "print(o.S)  # Output should be 12\n",
    "\n",
    "o.B = 5\n",
    "print(o.S)  # Output should be 20\n",
    "\n",
    "\n",
    "#issiaiskinci privaciu kintamuju __a veikima. \n",
    "\n"
   ]
  }
 ],
 "metadata": {
  "kernelspec": {
   "display_name": "Python 3",
   "language": "python",
   "name": "python3"
  },
  "language_info": {
   "codemirror_mode": {
    "name": "ipython",
    "version": 3
   },
   "file_extension": ".py",
   "mimetype": "text/x-python",
   "name": "python",
   "nbconvert_exporter": "python",
   "pygments_lexer": "ipython3",
   "version": "3.12.5"
  }
 },
 "nbformat": 4,
 "nbformat_minor": 2
}
