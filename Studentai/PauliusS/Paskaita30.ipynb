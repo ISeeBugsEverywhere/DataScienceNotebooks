{
 "cells": [
  {
   "cell_type": "code",
   "execution_count": 1,
   "metadata": {},
   "outputs": [],
   "source": [
    "import numpy as np\n",
    "import pandas as pd\n",
    "import matplotlib.pyplot as plt\n",
    "import warnings\n",
    "warnings.filterwarnings('ignore')\n",
    "import seaborn as sns\n",
    "import sqlite3\n",
    "import mysql.connector as cnt\n",
    "import plotly.express as px"
   ]
  },
  {
   "cell_type": "code",
   "execution_count": null,
   "metadata": {},
   "outputs": [],
   "source": [
    "\n",
    "\n",
    "\n"
   ]
  },
  {
   "cell_type": "code",
   "execution_count": 5,
   "metadata": {},
   "outputs": [
    {
     "name": "stdout",
     "output_type": "stream",
     "text": [
      "['rytas', 'priespiete', 'naktis', 'naktis', 'rytas', 'naktis', 'naktis', 'priespiete', 'naktis', 'rytas', 'naktis', 'naktis', 'naktis', 'pavakare', 'pietus', 'naktis', 'pavakare', 'naktis', 'priespiete', 'naktis', 'naktis', 'naktis', 'rytas', 'naktis', 'naktis', 'pavakare', 'rytas', 'pavakare', 'rytas', 'naktis', 'rytas', 'naktis', 'pietus', 'naktis', 'pavakare', 'naktis', 'rytas', 'pavakare', 'pietus', 'naktis', 'naktis', 'naktis', 'naktis', 'naktis', 'naktis', 'naktis', 'naktis', 'naktis', 'naktis', 'rytas', 'pavakare', 'priespiete', 'naktis', 'priespiete', 'naktis', 'rytas', 'naktis', 'pietus', 'pavakare', 'naktis', 'pavakare', 'naktis', 'naktis', 'naktis', 'pietus', 'naktis', 'naktis', 'pavakare', 'priespiete', 'naktis', 'rytas', 'pavakare', 'naktis', 'pavakare', 'rytas', 'pietus', 'naktis', 'naktis', 'rytas', 'rytas', 'pavakare', 'naktis', 'priespiete', 'naktis', 'pietus', 'rytas', 'priespiete', 'rytas', 'naktis', 'naktis', 'naktis', 'pietus', 'rytas', 'priespiete', 'rytas', 'rytas', 'naktis', 'priespiete', 'pietus', 'naktis', 'priespiete', 'pavakare', 'pavakare', 'naktis', 'rytas', 'pavakare', 'naktis', 'pavakare', 'pavakare', 'rytas', 'naktis', 'naktis', 'rytas', 'naktis', 'naktis', 'naktis', 'naktis', 'rytas', 'naktis', 'naktis', 'naktis', 'naktis', 'naktis', 'naktis', 'naktis', 'pavakare', 'naktis', 'priespiete', 'rytas', 'naktis', 'naktis', 'naktis', 'naktis', 'pietus', 'naktis', 'pietus', 'priespiete', 'pietus', 'naktis', 'pavakare', 'naktis', 'naktis', 'rytas', 'pavakare', 'pietus', 'pavakare', 'naktis', 'rytas', 'naktis', 'rytas', 'naktis', 'rytas', 'priespiete', 'naktis', 'pavakare', 'naktis', 'naktis', 'naktis', 'naktis', 'naktis', 'naktis', 'naktis', 'naktis', 'naktis', 'pavakare', 'pietus', 'naktis', 'pavakare', 'rytas', 'naktis', 'pavakare', 'priespiete', 'rytas', 'naktis', 'naktis', 'naktis', 'naktis', 'naktis', 'pavakare', 'pietus', 'naktis', 'rytas', 'priespiete', 'naktis', 'rytas', 'rytas', 'naktis', 'rytas', 'pavakare', 'pietus', 'pavakare', 'pavakare', 'pavakare', 'rytas', 'naktis', 'rytas', 'pavakare', 'pavakare', 'naktis', 'naktis', 'naktis', 'naktis', 'naktis', 'naktis', 'naktis', 'naktis', 'naktis', 'naktis', 'rytas', 'naktis', 'naktis', 'pavakare', 'naktis', 'naktis', 'rytas', 'rytas', 'naktis', 'naktis', 'pietus', 'naktis', 'pavakare', 'priespiete', 'pietus', 'naktis', 'priespiete', 'naktis', 'pietus', 'naktis', 'pavakare', 'naktis', 'rytas', 'pavakare', 'naktis', 'naktis', 'rytas', 'naktis', 'naktis', 'pavakare', 'naktis', 'naktis', 'rytas', 'pavakare', 'naktis', 'naktis', 'pavakare', 'priespiete', 'pietus', 'pavakare', 'naktis', 'naktis', 'priespiete', 'naktis', 'naktis', 'rytas', 'pavakare', 'pavakare', 'rytas', 'pavakare', 'naktis', 'naktis', 'naktis', 'naktis', 'naktis', 'naktis', 'naktis', 'naktis', 'priespiete', 'priespiete', 'pavakare', 'naktis', 'naktis', 'naktis', 'pietus', 'pavakare', 'rytas', 'pavakare', 'naktis', 'naktis', 'pavakare', 'rytas', 'pavakare', 'naktis', 'naktis', 'pietus', 'pietus', 'pavakare', 'naktis', 'pavakare', 'pavakare', 'naktis', 'pavakare', 'naktis', 'naktis', 'rytas', 'rytas', 'naktis', 'pavakare', 'naktis', 'pavakare', 'naktis', 'naktis', 'pietus', 'priespiete', 'naktis', 'pavakare', 'pietus', 'pavakare', 'pavakare', 'pietus', 'pavakare', 'pavakare', 'naktis', 'pavakare', 'naktis', 'pavakare', 'priespiete', 'priespiete', 'naktis', 'naktis', 'naktis', 'naktis', 'naktis', 'naktis', 'priespiete', 'naktis', 'naktis', 'priespiete', 'pietus', 'rytas', 'rytas', 'pietus', 'naktis', 'naktis', 'naktis', 'naktis', 'naktis', 'pavakare', 'naktis', 'pavakare', 'naktis', 'pavakare', 'priespiete', 'naktis', 'naktis', 'naktis', 'naktis', 'rytas', 'naktis', 'pavakare', 'pietus', 'rytas', 'naktis', 'naktis', 'naktis', 'rytas', 'naktis', 'naktis', 'rytas', 'naktis', 'rytas', 'priespiete', 'priespiete', 'naktis', 'naktis', 'naktis', 'naktis', 'rytas', 'naktis', 'rytas', 'priespiete', 'naktis', 'pietus', 'naktis', 'pietus', 'naktis', 'pavakare', 'priespiete', 'pavakare', 'naktis', 'naktis', 'rytas', 'naktis', 'pavakare', 'pietus', 'naktis', 'priespiete', 'pavakare', 'naktis', 'naktis', 'naktis', 'naktis', 'priespiete', 'naktis', 'naktis', 'naktis', 'pietus', 'naktis', 'naktis', 'naktis', 'rytas', 'naktis', 'naktis', 'pavakare', 'rytas', 'naktis', 'naktis', 'pietus', 'naktis', 'pietus', 'pavakare', 'naktis', 'naktis', 'rytas', 'pavakare', 'pietus', 'pavakare', 'naktis', 'pavakare', 'naktis', 'pietus', 'naktis', 'naktis', 'naktis', 'naktis', 'naktis', 'pavakare', 'naktis', 'naktis', 'priespiete', 'naktis', 'pietus', 'priespiete', 'naktis', 'rytas', 'rytas', 'pavakare', 'naktis', 'naktis', 'naktis', 'pavakare', 'rytas', 'naktis', 'naktis', 'pavakare', 'naktis', 'naktis', 'rytas', 'naktis', 'naktis', 'naktis', 'priespiete', 'priespiete', 'naktis', 'pavakare', 'naktis', 'pavakare', 'rytas', 'pavakare', 'naktis', 'naktis', 'rytas', 'pavakare', 'naktis', 'pavakare', 'rytas', 'pietus', 'pavakare', 'naktis', 'priespiete', 'rytas', 'pavakare', 'pietus', 'naktis', 'pavakare', 'naktis', 'pietus', 'naktis', 'naktis', 'naktis', 'naktis', 'naktis', 'pietus', 'naktis', 'rytas', 'naktis', 'naktis', 'pavakare', 'naktis', 'naktis', 'naktis', 'rytas', 'rytas', 'pietus', 'naktis', 'rytas', 'naktis', 'pietus', 'pietus', 'naktis', 'pavakare', 'rytas', 'naktis', 'naktis', 'pietus', 'pietus', 'pavakare', 'naktis', 'naktis', 'pavakare', 'pavakare', 'rytas', 'pietus', 'naktis', 'naktis', 'naktis', 'naktis', 'naktis', 'pietus', 'rytas', 'rytas', 'naktis', 'rytas', 'naktis', 'rytas', 'naktis', 'naktis', 'priespiete', 'naktis', 'naktis', 'rytas', 'pietus', 'rytas', 'naktis', 'pietus', 'rytas', 'naktis', 'naktis', 'pavakare', 'priespiete', 'rytas', 'priespiete', 'naktis', 'rytas', 'pavakare', 'rytas', 'naktis', 'priespiete', 'naktis', 'naktis', 'rytas', 'naktis', 'rytas', 'pavakare', 'naktis', 'naktis', 'pavakare', 'naktis', 'pietus', 'naktis', 'naktis', 'naktis', 'naktis', 'pavakare', 'naktis', 'pietus', 'naktis', 'naktis', 'pavakare', 'rytas', 'rytas', 'naktis', 'pietus', 'naktis', 'naktis', 'rytas', 'pavakare', 'naktis', 'rytas', 'naktis', 'rytas', 'pietus', 'naktis', 'rytas', 'naktis', 'naktis', 'naktis', 'naktis', 'naktis', 'naktis', 'naktis', 'rytas', 'naktis', 'naktis', 'naktis', 'pavakare', 'naktis', 'pietus', 'pavakare', 'naktis', 'naktis', 'rytas', 'rytas', 'naktis', 'rytas', 'naktis', 'naktis', 'pietus', 'naktis', 'pietus', 'naktis', 'pietus', 'naktis', 'naktis', 'naktis', 'priespiete', 'naktis', 'naktis', 'naktis', 'rytas', 'naktis', 'naktis', 'pavakare', 'rytas', 'priespiete', 'naktis', 'naktis', 'naktis', 'naktis', 'naktis', 'naktis', 'naktis', 'rytas', 'rytas', 'pavakare', 'naktis', 'pavakare', 'rytas', 'pavakare', 'naktis', 'pavakare', 'pavakare', 'naktis', 'priespiete', 'naktis', 'pavakare', 'naktis', 'naktis', 'naktis', 'naktis', 'pavakare', 'naktis', 'naktis', 'naktis', 'naktis', 'naktis', 'naktis', 'naktis', 'pavakare', 'naktis', 'naktis', 'naktis', 'naktis', 'naktis', 'naktis', 'naktis', 'naktis', 'pietus', 'naktis', 'rytas', 'naktis', 'priespiete', 'naktis', 'naktis', 'rytas', 'naktis', 'naktis', 'naktis', 'pavakare', 'pietus', 'priespiete', 'pietus', 'rytas', 'rytas', 'rytas', 'pavakare', 'naktis', 'pavakare', 'naktis', 'naktis', 'priespiete', 'pietus', 'naktis', 'naktis', 'naktis', 'pietus', 'rytas', 'naktis', 'naktis', 'pavakare', 'rytas', 'naktis', 'naktis', 'rytas', 'pietus', 'naktis', 'naktis', 'naktis', 'naktis', 'naktis', 'naktis', 'naktis', 'pietus', 'naktis', 'naktis', 'rytas', 'rytas', 'naktis', 'naktis', 'pavakare', 'rytas', 'naktis', 'naktis', 'naktis', 'pietus', 'pavakare', 'rytas', 'pietus', 'naktis', 'pavakare', 'naktis', 'naktis', 'pietus', 'pietus', 'naktis', 'rytas', 'naktis', 'rytas', 'naktis', 'naktis', 'naktis', 'naktis', 'naktis', 'pavakare', 'rytas', 'pavakare', 'pavakare', 'rytas', 'rytas', 'pietus', 'pavakare', 'naktis', 'naktis', 'pavakare', 'pavakare', 'naktis', 'pavakare', 'pavakare', 'naktis', 'naktis', 'rytas', 'pavakare', 'naktis', 'naktis', 'rytas', 'naktis', 'priespiete', 'naktis', 'naktis', 'naktis', 'pavakare', 'priespiete', 'naktis', 'naktis', 'pavakare', 'priespiete', 'naktis', 'pavakare', 'naktis', 'rytas', 'naktis', 'naktis', 'naktis', 'rytas', 'priespiete', 'rytas', 'naktis', 'naktis', 'naktis', 'pavakare', 'naktis', 'rytas', 'pavakare', 'priespiete', 'pietus', 'naktis', 'naktis', 'rytas', 'rytas', 'naktis', 'pietus', 'rytas', 'naktis', 'pavakare', 'naktis', 'naktis', 'naktis', 'naktis', 'naktis', 'pietus', 'naktis', 'naktis', 'naktis', 'naktis', 'pavakare', 'naktis', 'pietus', 'naktis', 'naktis', 'naktis', 'rytas', 'pavakare', 'pavakare', 'naktis', 'priespiete', 'naktis', 'pietus', 'rytas', 'naktis', 'naktis', 'naktis', 'naktis', 'pavakare', 'pavakare', 'naktis', 'naktis', 'pietus', 'priespiete', 'pavakare', 'naktis', 'naktis', 'rytas', 'naktis', 'pavakare', 'naktis', 'naktis', 'naktis', 'naktis', 'naktis', 'naktis', 'naktis', 'rytas', 'naktis', 'naktis', 'naktis', 'rytas', 'rytas', 'naktis', 'pavakare', 'pavakare', 'naktis', 'rytas', 'naktis', 'naktis', 'naktis', 'naktis', 'naktis', 'naktis', 'rytas', 'rytas', 'naktis', 'pietus', 'rytas', 'naktis', 'rytas', 'pavakare', 'priespiete', 'naktis', 'naktis', 'naktis', 'rytas', 'rytas', 'naktis', 'rytas', 'rytas', 'pavakare', 'pietus', 'naktis', 'naktis', 'naktis', 'rytas', 'naktis', 'pietus', 'rytas', 'naktis', 'naktis', 'pavakare', 'naktis', 'naktis', 'rytas', 'naktis', 'pavakare', 'pavakare', 'pietus', 'rytas', 'rytas', 'rytas', 'priespiete', 'naktis', 'naktis', 'priespiete', 'pietus', 'rytas', 'priespiete', 'priespiete', 'naktis', 'pavakare', 'naktis', 'naktis', 'pavakare', 'rytas', 'naktis', 'naktis', 'rytas', 'pietus', 'rytas', 'pietus', 'naktis', 'pietus', 'naktis', 'pavakare', 'rytas', 'naktis', 'naktis', 'naktis', 'naktis', 'pietus', 'naktis', 'pavakare', 'naktis', 'pietus', 'naktis', 'priespiete', 'pavakare', 'pavakare', 'naktis', 'naktis', 'naktis', 'naktis', 'rytas', 'pavakare', 'rytas', 'naktis', 'naktis', 'rytas', 'naktis', 'priespiete', 'naktis', 'naktis', 'naktis', 'pavakare', 'rytas', 'naktis', 'rytas', 'pietus', 'rytas', 'naktis', 'rytas', 'naktis', 'naktis', 'pavakare', 'naktis', 'rytas', 'naktis', 'naktis', 'naktis', 'pavakare', 'naktis', 'rytas', 'naktis', 'rytas', 'naktis', 'naktis', 'naktis', 'rytas', 'pavakare', 'pietus', 'priespiete', 'pavakare', 'naktis', 'naktis', 'rytas', 'naktis', 'naktis', 'priespiete', 'naktis', 'naktis', 'naktis', 'naktis', 'naktis', 'rytas']\n"
     ]
    }
   ],
   "source": [
    "times = np.random.randint(0,24,1000)\n",
    "# print(times)\n",
    "\n",
    "def laikas(x):\n",
    "    if 0 <= x < 7:\n",
    "        return 'naktis'\n",
    "    elif 7 <= x < 11:\n",
    "        return 'rytas'\n",
    "    if 11 <= x < 13:\n",
    "        return 'priespiete'\n",
    "    if 13 <= x < 15:\n",
    "        return 'pietus'\n",
    "    if 15 <= x < 19:\n",
    "        return 'pavakare'\n",
    "    if 19 <= x < 24:\n",
    "        return 'naktis'\n",
    "    \n",
    "naujas_sarasas = list(map(laikas, times))\n",
    "\n",
    "print(naujas_sarasas)\n",
    "\n"
   ]
  },
  {
   "cell_type": "code",
   "execution_count": 1,
   "metadata": {},
   "outputs": [
    {
     "ename": "NameError",
     "evalue": "name 'np' is not defined",
     "output_type": "error",
     "traceback": [
      "\u001b[1;31m---------------------------------------------------------------------------\u001b[0m",
      "\u001b[1;31mNameError\u001b[0m                                 Traceback (most recent call last)",
      "Cell \u001b[1;32mIn[1], line 11\u001b[0m\n\u001b[0;32m      1\u001b[0m \u001b[38;5;66;03m# times = np.random.randint(0,24,1000)\u001b[39;00m\n\u001b[0;32m      2\u001b[0m \u001b[38;5;66;03m#  intervalai : 0-6 - naktis, 7-10 - rytas, 11-12 - priešpietė, \u001b[39;00m\n\u001b[0;32m      3\u001b[0m \u001b[38;5;66;03m# 13-14-pietūs, 15-18-pavakarė, 19-22 - vakaras, 23 - 0 - naktis. \u001b[39;00m\n\u001b[1;32m   (...)\u001b[0m\n\u001b[0;32m      8\u001b[0m \u001b[38;5;66;03m# Suskaičiuokite, kiek kartų pasikartojo atitinkami \u001b[39;00m\n\u001b[0;32m      9\u001b[0m \u001b[38;5;66;03m# tekstai, atvaizduokite tai su bar arba barh.\u001b[39;00m\n\u001b[1;32m---> 11\u001b[0m times \u001b[38;5;241m=\u001b[39m \u001b[43mnp\u001b[49m\u001b[38;5;241m.\u001b[39mrandom\u001b[38;5;241m.\u001b[39mrandint(\u001b[38;5;241m0\u001b[39m,\u001b[38;5;241m24\u001b[39m,\u001b[38;5;241m1000\u001b[39m)\n\u001b[0;32m     12\u001b[0m \u001b[38;5;66;03m# print(times)\u001b[39;00m\n\u001b[0;32m     14\u001b[0m \u001b[38;5;28;01mdef\u001b[39;00m \u001b[38;5;21mlaikas\u001b[39m(x):\n",
      "\u001b[1;31mNameError\u001b[0m: name 'np' is not defined"
     ]
    }
   ],
   "source": [
    "# times = np.random.randint(0,24,1000)\n",
    "#  intervalai : 0-6 - naktis, 7-10 - rytas, 11-12 - priešpietė, \n",
    "# 13-14-pietūs, 15-18-pavakarė, 19-22 - vakaras, 23 - 0 - naktis. \n",
    "# Parašykite funkciją, kuri iš times sąrašo verčių sugeneruotų \n",
    "# tekstų (rytas, vakaras, popietė ... ) sąrašą. \n",
    "# Pritaikykite map(). \n",
    "\n",
    "# Suskaičiuokite, kiek kartų pasikartojo atitinkami \n",
    "# tekstai, atvaizduokite tai su bar arba barh.\n",
    "\n",
    "times = np.random.randint(0,24,1000)\n",
    "# print(times)\n",
    "\n",
    "def laikas(x):\n",
    "    if 0 <= x < 7:\n",
    "        return 'naktis'\n",
    "    elif 7 <= x < 11:\n",
    "        return 'rytas'\n",
    "    if 11 <= x < 13:\n",
    "        return 'priespiete'\n",
    "    if 13 <= x < 15:\n",
    "        return 'pietus'\n",
    "    if 15 <= x < 19:\n",
    "        return 'pavakare'\n",
    "    if 19 <= x < 24:\n",
    "        return 'naktis'\n",
    "    \n",
    "naujas_sarasas = list(map(laikas, times))\n",
    "\n",
    "print(naujas_sarasas)\n",
    "\n",
    "naktis = 0\n",
    "rytas = 0\n",
    "priespiete = 0\n",
    "pietus = 0\n",
    "pavakare = 0\n",
    "\n",
    "\n",
    "for i in naujas_sarasas:\n",
    "    if i == 'naktis':\n",
    "        naktis += 1\n",
    "    elif i == 'rytas':\n",
    "        rytas += 1\n",
    "        \n",
    "    elif i == 'priespiete':\n",
    "        priespiete += 1\n",
    "    elif i == 'pietus':\n",
    "        pietus += 1\n",
    "    elif i == 'pavakare':\n",
    "        pavakare += 1\n",
    "        \n",
    "print(naktis)\n",
    "\n"
   ]
  }
 ],
 "metadata": {
  "kernelspec": {
   "display_name": "Python 3",
   "language": "python",
   "name": "python3"
  },
  "language_info": {
   "codemirror_mode": {
    "name": "ipython",
    "version": 3
   },
   "file_extension": ".py",
   "mimetype": "text/x-python",
   "name": "python",
   "nbconvert_exporter": "python",
   "pygments_lexer": "ipython3",
   "version": "3.12.5"
  }
 },
 "nbformat": 4,
 "nbformat_minor": 2
}
