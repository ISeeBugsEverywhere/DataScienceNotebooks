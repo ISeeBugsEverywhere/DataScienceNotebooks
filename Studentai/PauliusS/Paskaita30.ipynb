{
 "cells": [
  {
   "cell_type": "code",
   "execution_count": 1,
   "metadata": {},
   "outputs": [],
   "source": [
    "import numpy as np\n",
    "import pandas as pd\n",
    "import matplotlib.pyplot as plt\n",
    "import warnings\n",
    "warnings.filterwarnings('ignore')\n",
    "import seaborn as sns\n",
    "import sqlite3\n",
    "import mysql.connector as cnt\n",
    "import plotly.express as px"
   ]
  },
  {
   "cell_type": "code",
   "execution_count": null,
   "metadata": {},
   "outputs": [],
   "source": [
    "\n",
    "\n",
    "\n"
   ]
  },
  {
   "cell_type": "code",
   "execution_count": 5,
   "metadata": {},
   "outputs": [
    {
     "name": "stdout",
     "output_type": "stream",
     "text": [
      "['rytas', 'priespiete', 'naktis', 'naktis', 'rytas', 'naktis', 'naktis', 'priespiete', 'naktis', 'rytas', 'naktis', 'naktis', 'naktis', 'pavakare', 'pietus', 'naktis', 'pavakare', 'naktis', 'priespiete', 'naktis', 'naktis', 'naktis', 'rytas', 'naktis', 'naktis', 'pavakare', 'rytas', 'pavakare', 'rytas', 'naktis', 'rytas', 'naktis', 'pietus', 'naktis', 'pavakare', 'naktis', 'rytas', 'pavakare', 'pietus', 'naktis', 'naktis', 'naktis', 'naktis', 'naktis', 'naktis', 'naktis', 'naktis', 'naktis', 'naktis', 'rytas', 'pavakare', 'priespiete', 'naktis', 'priespiete', 'naktis', 'rytas', 'naktis', 'pietus', 'pavakare', 'naktis', 'pavakare', 'naktis', 'naktis', 'naktis', 'pietus', 'naktis', 'naktis', 'pavakare', 'priespiete', 'naktis', 'rytas', 'pavakare', 'naktis', 'pavakare', 'rytas', 'pietus', 'naktis', 'naktis', 'rytas', 'rytas', 'pavakare', 'naktis', 'priespiete', 'naktis', 'pietus', 'rytas', 'priespiete', 'rytas', 'naktis', 'naktis', 'naktis', 'pietus', 'rytas', 'priespiete', 'rytas', 'rytas', 'naktis', 'priespiete', 'pietus', 'naktis', 'priespiete', 'pavakare', 'pavakare', 'naktis', 'rytas', 'pavakare', 'naktis', 'pavakare', 'pavakare', 'rytas', 'naktis', 'naktis', 'rytas', 'naktis', 'naktis', 'naktis', 'naktis', 'rytas', 'naktis', 'naktis', 'naktis', 'naktis', 'naktis', 'naktis', 'naktis', 'pavakare', 'naktis', 'priespiete', 'rytas', 'naktis', 'naktis', 'naktis', 'naktis', 'pietus', 'naktis', 'pietus', 'priespiete', 'pietus', 'naktis', 'pavakare', 'naktis', 'naktis', 'rytas', 'pavakare', 'pietus', 'pavakare', 'naktis', 'rytas', 'naktis', 'rytas', 'naktis', 'rytas', 'priespiete', 'naktis', 'pavakare', 'naktis', 'naktis', 'naktis', 'naktis', 'naktis', 'naktis', 'naktis', 'naktis', 'naktis', 'pavakare', 'pietus', 'naktis', 'pavakare', 'rytas', 'naktis', 'pavakare', 'priespiete', 'rytas', 'naktis', 'naktis', 'naktis', 'naktis', 'naktis', 'pavakare', 'pietus', 'naktis', 'rytas', 'priespiete', 'naktis', 'rytas', 'rytas', 'naktis', 'rytas', 'pavakare', 'pietus', 'pavakare', 'pavakare', 'pavakare', 'rytas', 'naktis', 'rytas', 'pavakare', 'pavakare', 'naktis', 'naktis', 'naktis', 'naktis', 'naktis', 'naktis', 'naktis', 'naktis', 'naktis', 'naktis', 'rytas', 'naktis', 'naktis', 'pavakare', 'naktis', 'naktis', 'rytas', 'rytas', 'naktis', 'naktis', 'pietus', 'naktis', 'pavakare', 'priespiete', 'pietus', 'naktis', 'priespiete', 'naktis', 'pietus', 'naktis', 'pavakare', 'naktis', 'rytas', 'pavakare', 'naktis', 'naktis', 'rytas', 'naktis', 'naktis', 'pavakare', 'naktis', 'naktis', 'rytas', 'pavakare', 'naktis', 'naktis', 'pavakare', 'priespiete', 'pietus', 'pavakare', 'naktis', 'naktis', 'priespiete', 'naktis', 'naktis', 'rytas', 'pavakare', 'pavakare', 'rytas', 'pavakare', 'naktis', 'naktis', 'naktis', 'naktis', 'naktis', 'naktis', 'naktis', 'naktis', 'priespiete', 'priespiete', 'pavakare', 'naktis', 'naktis', 'naktis', 'pietus', 'pavakare', 'rytas', 'pavakare', 'naktis', 'naktis', 'pavakare', 'rytas', 'pavakare', 'naktis', 'naktis', 'pietus', 'pietus', 'pavakare', 'naktis', 'pavakare', 'pavakare', 'naktis', 'pavakare', 'naktis', 'naktis', 'rytas', 'rytas', 'naktis', 'pavakare', 'naktis', 'pavakare', 'naktis', 'naktis', 'pietus', 'priespiete', 'naktis', 'pavakare', 'pietus', 'pavakare', 'pavakare', 'pietus', 'pavakare', 'pavakare', 'naktis', 'pavakare', 'naktis', 'pavakare', 'priespiete', 'priespiete', 'naktis', 'naktis', 'naktis', 'naktis', 'naktis', 'naktis', 'priespiete', 'naktis', 'naktis', 'priespiete', 'pietus', 'rytas', 'rytas', 'pietus', 'naktis', 'naktis', 'naktis', 'naktis', 'naktis', 'pavakare', 'naktis', 'pavakare', 'naktis', 'pavakare', 'priespiete', 'naktis', 'naktis', 'naktis', 'naktis', 'rytas', 'naktis', 'pavakare', 'pietus', 'rytas', 'naktis', 'naktis', 'naktis', 'rytas', 'naktis', 'naktis', 'rytas', 'naktis', 'rytas', 'priespiete', 'priespiete', 'naktis', 'naktis', 'naktis', 'naktis', 'rytas', 'naktis', 'rytas', 'priespiete', 'naktis', 'pietus', 'naktis', 'pietus', 'naktis', 'pavakare', 'priespiete', 'pavakare', 'naktis', 'naktis', 'rytas', 'naktis', 'pavakare', 'pietus', 'naktis', 'priespiete', 'pavakare', 'naktis', 'naktis', 'naktis', 'naktis', 'priespiete', 'naktis', 'naktis', 'naktis', 'pietus', 'naktis', 'naktis', 'naktis', 'rytas', 'naktis', 'naktis', 'pavakare', 'rytas', 'naktis', 'naktis', 'pietus', 'naktis', 'pietus', 'pavakare', 'naktis', 'naktis', 'rytas', 'pavakare', 'pietus', 'pavakare', 'naktis', 'pavakare', 'naktis', 'pietus', 'naktis', 'naktis', 'naktis', 'naktis', 'naktis', 'pavakare', 'naktis', 'naktis', 'priespiete', 'naktis', 'pietus', 'priespiete', 'naktis', 'rytas', 'rytas', 'pavakare', 'naktis', 'naktis', 'naktis', 'pavakare', 'rytas', 'naktis', 'naktis', 'pavakare', 'naktis', 'naktis', 'rytas', 'naktis', 'naktis', 'naktis', 'priespiete', 'priespiete', 'naktis', 'pavakare', 'naktis', 'pavakare', 'rytas', 'pavakare', 'naktis', 'naktis', 'rytas', 'pavakare', 'naktis', 'pavakare', 'rytas', 'pietus', 'pavakare', 'naktis', 'priespiete', 'rytas', 'pavakare', 'pietus', 'naktis', 'pavakare', 'naktis', 'pietus', 'naktis', 'naktis', 'naktis', 'naktis', 'naktis', 'pietus', 'naktis', 'rytas', 'naktis', 'naktis', 'pavakare', 'naktis', 'naktis', 'naktis', 'rytas', 'rytas', 'pietus', 'naktis', 'rytas', 'naktis', 'pietus', 'pietus', 'naktis', 'pavakare', 'rytas', 'naktis', 'naktis', 'pietus', 'pietus', 'pavakare', 'naktis', 'naktis', 'pavakare', 'pavakare', 'rytas', 'pietus', 'naktis', 'naktis', 'naktis', 'naktis', 'naktis', 'pietus', 'rytas', 'rytas', 'naktis', 'rytas', 'naktis', 'rytas', 'naktis', 'naktis', 'priespiete', 'naktis', 'naktis', 'rytas', 'pietus', 'rytas', 'naktis', 'pietus', 'rytas', 'naktis', 'naktis', 'pavakare', 'priespiete', 'rytas', 'priespiete', 'naktis', 'rytas', 'pavakare', 'rytas', 'naktis', 'priespiete', 'naktis', 'naktis', 'rytas', 'naktis', 'rytas', 'pavakare', 'naktis', 'naktis', 'pavakare', 'naktis', 'pietus', 'naktis', 'naktis', 'naktis', 'naktis', 'pavakare', 'naktis', 'pietus', 'naktis', 'naktis', 'pavakare', 'rytas', 'rytas', 'naktis', 'pietus', 'naktis', 'naktis', 'rytas', 'pavakare', 'naktis', 'rytas', 'naktis', 'rytas', 'pietus', 'naktis', 'rytas', 'naktis', 'naktis', 'naktis', 'naktis', 'naktis', 'naktis', 'naktis', 'rytas', 'naktis', 'naktis', 'naktis', 'pavakare', 'naktis', 'pietus', 'pavakare', 'naktis', 'naktis', 'rytas', 'rytas', 'naktis', 'rytas', 'naktis', 'naktis', 'pietus', 'naktis', 'pietus', 'naktis', 'pietus', 'naktis', 'naktis', 'naktis', 'priespiete', 'naktis', 'naktis', 'naktis', 'rytas', 'naktis', 'naktis', 'pavakare', 'rytas', 'priespiete', 'naktis', 'naktis', 'naktis', 'naktis', 'naktis', 'naktis', 'naktis', 'rytas', 'rytas', 'pavakare', 'naktis', 'pavakare', 'rytas', 'pavakare', 'naktis', 'pavakare', 'pavakare', 'naktis', 'priespiete', 'naktis', 'pavakare', 'naktis', 'naktis', 'naktis', 'naktis', 'pavakare', 'naktis', 'naktis', 'naktis', 'naktis', 'naktis', 'naktis', 'naktis', 'pavakare', 'naktis', 'naktis', 'naktis', 'naktis', 'naktis', 'naktis', 'naktis', 'naktis', 'pietus', 'naktis', 'rytas', 'naktis', 'priespiete', 'naktis', 'naktis', 'rytas', 'naktis', 'naktis', 'naktis', 'pavakare', 'pietus', 'priespiete', 'pietus', 'rytas', 'rytas', 'rytas', 'pavakare', 'naktis', 'pavakare', 'naktis', 'naktis', 'priespiete', 'pietus', 'naktis', 'naktis', 'naktis', 'pietus', 'rytas', 'naktis', 'naktis', 'pavakare', 'rytas', 'naktis', 'naktis', 'rytas', 'pietus', 'naktis', 'naktis', 'naktis', 'naktis', 'naktis', 'naktis', 'naktis', 'pietus', 'naktis', 'naktis', 'rytas', 'rytas', 'naktis', 'naktis', 'pavakare', 'rytas', 'naktis', 'naktis', 'naktis', 'pietus', 'pavakare', 'rytas', 'pietus', 'naktis', 'pavakare', 'naktis', 'naktis', 'pietus', 'pietus', 'naktis', 'rytas', 'naktis', 'rytas', 'naktis', 'naktis', 'naktis', 'naktis', 'naktis', 'pavakare', 'rytas', 'pavakare', 'pavakare', 'rytas', 'rytas', 'pietus', 'pavakare', 'naktis', 'naktis', 'pavakare', 'pavakare', 'naktis', 'pavakare', 'pavakare', 'naktis', 'naktis', 'rytas', 'pavakare', 'naktis', 'naktis', 'rytas', 'naktis', 'priespiete', 'naktis', 'naktis', 'naktis', 'pavakare', 'priespiete', 'naktis', 'naktis', 'pavakare', 'priespiete', 'naktis', 'pavakare', 'naktis', 'rytas', 'naktis', 'naktis', 'naktis', 'rytas', 'priespiete', 'rytas', 'naktis', 'naktis', 'naktis', 'pavakare', 'naktis', 'rytas', 'pavakare', 'priespiete', 'pietus', 'naktis', 'naktis', 'rytas', 'rytas', 'naktis', 'pietus', 'rytas', 'naktis', 'pavakare', 'naktis', 'naktis', 'naktis', 'naktis', 'naktis', 'pietus', 'naktis', 'naktis', 'naktis', 'naktis', 'pavakare', 'naktis', 'pietus', 'naktis', 'naktis', 'naktis', 'rytas', 'pavakare', 'pavakare', 'naktis', 'priespiete', 'naktis', 'pietus', 'rytas', 'naktis', 'naktis', 'naktis', 'naktis', 'pavakare', 'pavakare', 'naktis', 'naktis', 'pietus', 'priespiete', 'pavakare', 'naktis', 'naktis', 'rytas', 'naktis', 'pavakare', 'naktis', 'naktis', 'naktis', 'naktis', 'naktis', 'naktis', 'naktis', 'rytas', 'naktis', 'naktis', 'naktis', 'rytas', 'rytas', 'naktis', 'pavakare', 'pavakare', 'naktis', 'rytas', 'naktis', 'naktis', 'naktis', 'naktis', 'naktis', 'naktis', 'rytas', 'rytas', 'naktis', 'pietus', 'rytas', 'naktis', 'rytas', 'pavakare', 'priespiete', 'naktis', 'naktis', 'naktis', 'rytas', 'rytas', 'naktis', 'rytas', 'rytas', 'pavakare', 'pietus', 'naktis', 'naktis', 'naktis', 'rytas', 'naktis', 'pietus', 'rytas', 'naktis', 'naktis', 'pavakare', 'naktis', 'naktis', 'rytas', 'naktis', 'pavakare', 'pavakare', 'pietus', 'rytas', 'rytas', 'rytas', 'priespiete', 'naktis', 'naktis', 'priespiete', 'pietus', 'rytas', 'priespiete', 'priespiete', 'naktis', 'pavakare', 'naktis', 'naktis', 'pavakare', 'rytas', 'naktis', 'naktis', 'rytas', 'pietus', 'rytas', 'pietus', 'naktis', 'pietus', 'naktis', 'pavakare', 'rytas', 'naktis', 'naktis', 'naktis', 'naktis', 'pietus', 'naktis', 'pavakare', 'naktis', 'pietus', 'naktis', 'priespiete', 'pavakare', 'pavakare', 'naktis', 'naktis', 'naktis', 'naktis', 'rytas', 'pavakare', 'rytas', 'naktis', 'naktis', 'rytas', 'naktis', 'priespiete', 'naktis', 'naktis', 'naktis', 'pavakare', 'rytas', 'naktis', 'rytas', 'pietus', 'rytas', 'naktis', 'rytas', 'naktis', 'naktis', 'pavakare', 'naktis', 'rytas', 'naktis', 'naktis', 'naktis', 'pavakare', 'naktis', 'rytas', 'naktis', 'rytas', 'naktis', 'naktis', 'naktis', 'rytas', 'pavakare', 'pietus', 'priespiete', 'pavakare', 'naktis', 'naktis', 'rytas', 'naktis', 'naktis', 'priespiete', 'naktis', 'naktis', 'naktis', 'naktis', 'naktis', 'rytas']\n"
     ]
    }
   ],
   "source": [
    "times = np.random.randint(0,24,1000)\n",
    "# print(times)\n",
    "\n",
    "def laikas(x):\n",
    "    if 0 <= x < 7:\n",
    "        return 'naktis'\n",
    "    elif 7 <= x < 11:\n",
    "        return 'rytas'\n",
    "    if 11 <= x < 13:\n",
    "        return 'priespiete'\n",
    "    if 13 <= x < 15:\n",
    "        return 'pietus'\n",
    "    if 15 <= x < 19:\n",
    "        return 'pavakare'\n",
    "    if 19 <= x < 24:\n",
    "        return 'naktis'\n",
    "    \n",
    "naujas_sarasas = list(map(laikas, times))\n",
    "\n",
    "print(naujas_sarasas)\n",
    "\n"
   ]
  },
  {
   "cell_type": "code",
   "execution_count": null,
   "metadata": {},
   "outputs": [
    {
     "name": "stdout",
     "output_type": "stream",
     "text": [
      "['naktis', 'naktis', 'naktis', 'priespiete', 'rytas', 'rytas', 'naktis', 'pietus', 'priespiete', 'naktis', 'naktis', 'naktis', 'naktis', 'priespiete', 'naktis', 'rytas', 'naktis', 'priespiete', 'naktis', 'naktis', 'rytas', 'pavakare', 'naktis', 'pavakare', 'naktis', 'naktis', 'pavakare', 'naktis', 'naktis', 'pavakare', 'pavakare', 'naktis', 'pietus', 'naktis', 'naktis', 'naktis', 'pavakare', 'rytas', 'pietus', 'rytas', 'naktis', 'naktis', 'naktis', 'naktis', 'naktis', 'naktis', 'pietus', 'rytas', 'naktis', 'pavakare', 'rytas', 'rytas', 'pavakare', 'naktis', 'naktis', 'naktis', 'pavakare', 'priespiete', 'naktis', 'naktis', 'naktis', 'priespiete', 'pietus', 'pavakare', 'rytas', 'rytas', 'rytas', 'naktis', 'naktis', 'pietus', 'pavakare', 'rytas', 'rytas', 'priespiete', 'priespiete', 'rytas', 'naktis', 'naktis', 'rytas', 'rytas', 'naktis', 'naktis', 'naktis', 'naktis', 'naktis', 'priespiete', 'naktis', 'priespiete', 'naktis', 'naktis', 'priespiete', 'naktis', 'naktis', 'naktis', 'priespiete', 'pavakare', 'pietus', 'pavakare', 'naktis', 'naktis', 'naktis', 'naktis', 'pavakare', 'priespiete', 'naktis', 'rytas', 'pietus', 'rytas', 'rytas', 'pavakare', 'rytas', 'naktis', 'naktis', 'rytas', 'rytas', 'naktis', 'rytas', 'naktis', 'priespiete', 'naktis', 'priespiete', 'pavakare', 'naktis', 'naktis', 'naktis', 'naktis', 'priespiete', 'rytas', 'pietus', 'pavakare', 'naktis', 'pavakare', 'pietus', 'pietus', 'pavakare', 'naktis', 'rytas', 'naktis', 'pietus', 'pavakare', 'priespiete', 'pavakare', 'pietus', 'priespiete', 'pietus', 'pavakare', 'pavakare', 'pietus', 'naktis', 'rytas', 'naktis', 'naktis', 'naktis', 'pietus', 'naktis', 'naktis', 'pavakare', 'pavakare', 'naktis', 'pavakare', 'pietus', 'pavakare', 'naktis', 'naktis', 'rytas', 'pietus', 'rytas', 'pavakare', 'pavakare', 'naktis', 'naktis', 'rytas', 'naktis', 'priespiete', 'pietus', 'rytas', 'naktis', 'naktis', 'naktis', 'naktis', 'pavakare', 'naktis', 'pavakare', 'naktis', 'naktis', 'naktis', 'naktis', 'naktis', 'pavakare', 'pavakare', 'priespiete', 'naktis', 'naktis', 'pietus', 'priespiete', 'naktis', 'rytas', 'rytas', 'naktis', 'priespiete', 'naktis', 'naktis', 'priespiete', 'naktis', 'pavakare', 'priespiete', 'pavakare', 'naktis', 'naktis', 'naktis', 'naktis', 'pavakare', 'pavakare', 'rytas', 'naktis', 'naktis', 'naktis', 'pietus', 'naktis', 'naktis', 'naktis', 'rytas', 'naktis', 'naktis', 'rytas', 'naktis', 'naktis', 'naktis', 'pavakare', 'pavakare', 'naktis', 'naktis', 'pavakare', 'naktis', 'pietus', 'pavakare', 'naktis', 'naktis', 'naktis', 'naktis', 'naktis', 'naktis', 'priespiete', 'pavakare', 'pavakare', 'pietus', 'naktis', 'rytas', 'naktis', 'priespiete', 'naktis', 'naktis', 'rytas', 'naktis', 'rytas', 'naktis', 'rytas', 'priespiete', 'naktis', 'naktis', 'naktis', 'naktis', 'naktis', 'naktis', 'pavakare', 'pavakare', 'naktis', 'pietus', 'naktis', 'naktis', 'naktis', 'naktis', 'priespiete', 'naktis', 'priespiete', 'rytas', 'naktis', 'pavakare', 'naktis', 'pietus', 'rytas', 'rytas', 'naktis', 'naktis', 'pietus', 'naktis', 'naktis', 'rytas', 'naktis', 'priespiete', 'naktis', 'pietus', 'pavakare', 'pavakare', 'pavakare', 'priespiete', 'naktis', 'naktis', 'rytas', 'naktis', 'pietus', 'naktis', 'priespiete', 'pietus', 'naktis', 'naktis', 'naktis', 'priespiete', 'pavakare', 'naktis', 'naktis', 'pavakare', 'rytas', 'naktis', 'rytas', 'naktis', 'naktis', 'rytas', 'naktis', 'rytas', 'naktis', 'priespiete', 'pietus', 'priespiete', 'rytas', 'pavakare', 'naktis', 'naktis', 'naktis', 'naktis', 'priespiete', 'priespiete', 'pietus', 'naktis', 'pavakare', 'naktis', 'naktis', 'naktis', 'rytas', 'pavakare', 'naktis', 'naktis', 'priespiete', 'rytas', 'naktis', 'pavakare', 'rytas', 'naktis', 'rytas', 'naktis', 'naktis', 'naktis', 'rytas', 'rytas', 'naktis', 'naktis', 'rytas', 'pietus', 'pavakare', 'pavakare', 'pavakare', 'pietus', 'priespiete', 'priespiete', 'naktis', 'priespiete', 'naktis', 'naktis', 'naktis', 'naktis', 'naktis', 'naktis', 'rytas', 'naktis', 'pavakare', 'naktis', 'naktis', 'pavakare', 'rytas', 'pavakare', 'priespiete', 'naktis', 'pietus', 'pavakare', 'pavakare', 'pietus', 'naktis', 'priespiete', 'pavakare', 'naktis', 'pavakare', 'pietus', 'rytas', 'rytas', 'naktis', 'rytas', 'pavakare', 'pavakare', 'pavakare', 'naktis', 'naktis', 'priespiete', 'naktis', 'naktis', 'priespiete', 'naktis', 'pietus', 'pavakare', 'naktis', 'pavakare', 'rytas', 'naktis', 'naktis', 'pavakare', 'pavakare', 'pietus', 'pietus', 'naktis', 'naktis', 'rytas', 'naktis', 'pavakare', 'pietus', 'naktis', 'rytas', 'naktis', 'naktis', 'naktis', 'pavakare', 'naktis', 'naktis', 'pavakare', 'pavakare', 'pavakare', 'naktis', 'pavakare', 'naktis', 'pavakare', 'pietus', 'naktis', 'naktis', 'naktis', 'naktis', 'priespiete', 'naktis', 'naktis', 'naktis', 'naktis', 'naktis', 'pietus', 'naktis', 'naktis', 'naktis', 'rytas', 'naktis', 'pavakare', 'naktis', 'priespiete', 'pietus', 'pavakare', 'naktis', 'naktis', 'naktis', 'pietus', 'rytas', 'rytas', 'rytas', 'naktis', 'naktis', 'naktis', 'rytas', 'priespiete', 'naktis', 'naktis', 'pavakare', 'naktis', 'naktis', 'pietus', 'naktis', 'rytas', 'naktis', 'naktis', 'naktis', 'naktis', 'rytas', 'naktis', 'naktis', 'naktis', 'naktis', 'rytas', 'naktis', 'pietus', 'priespiete', 'pietus', 'naktis', 'pavakare', 'naktis', 'priespiete', 'pietus', 'pietus', 'naktis', 'priespiete', 'naktis', 'pavakare', 'naktis', 'naktis', 'naktis', 'naktis', 'rytas', 'pietus', 'naktis', 'priespiete', 'rytas', 'naktis', 'rytas', 'rytas', 'naktis', 'naktis', 'naktis', 'naktis', 'priespiete', 'naktis', 'naktis', 'pietus', 'naktis', 'priespiete', 'naktis', 'rytas', 'pavakare', 'naktis', 'pavakare', 'naktis', 'naktis', 'naktis', 'rytas', 'naktis', 'naktis', 'naktis', 'pavakare', 'priespiete', 'naktis', 'naktis', 'pietus', 'naktis', 'naktis', 'pavakare', 'pietus', 'naktis', 'rytas', 'pietus', 'pietus', 'naktis', 'rytas', 'rytas', 'naktis', 'naktis', 'naktis', 'naktis', 'priespiete', 'naktis', 'naktis', 'naktis', 'naktis', 'naktis', 'rytas', 'naktis', 'pietus', 'naktis', 'naktis', 'naktis', 'pavakare', 'naktis', 'naktis', 'rytas', 'rytas', 'rytas', 'pavakare', 'naktis', 'naktis', 'naktis', 'naktis', 'naktis', 'naktis', 'pietus', 'rytas', 'naktis', 'naktis', 'naktis', 'naktis', 'priespiete', 'priespiete', 'naktis', 'naktis', 'priespiete', 'naktis', 'rytas', 'naktis', 'naktis', 'pietus', 'rytas', 'rytas', 'rytas', 'naktis', 'naktis', 'rytas', 'pietus', 'pavakare', 'pietus', 'naktis', 'naktis', 'pavakare', 'pietus', 'naktis', 'naktis', 'priespiete', 'rytas', 'pavakare', 'naktis', 'naktis', 'rytas', 'pietus', 'naktis', 'naktis', 'naktis', 'pavakare', 'naktis', 'pietus', 'naktis', 'naktis', 'naktis', 'naktis', 'naktis', 'naktis', 'rytas', 'rytas', 'rytas', 'pietus', 'pavakare', 'pavakare', 'pavakare', 'priespiete', 'rytas', 'naktis', 'rytas', 'naktis', 'naktis', 'rytas', 'rytas', 'priespiete', 'rytas', 'priespiete', 'rytas', 'naktis', 'naktis', 'pavakare', 'naktis', 'naktis', 'naktis', 'naktis', 'naktis', 'naktis', 'rytas', 'naktis', 'naktis', 'naktis', 'pietus', 'pietus', 'pavakare', 'priespiete', 'priespiete', 'naktis', 'naktis', 'naktis', 'rytas', 'naktis', 'naktis', 'rytas', 'pavakare', 'naktis', 'naktis', 'pavakare', 'naktis', 'naktis', 'rytas', 'pavakare', 'rytas', 'naktis', 'priespiete', 'rytas', 'rytas', 'rytas', 'naktis', 'priespiete', 'pavakare', 'naktis', 'pavakare', 'rytas', 'pietus', 'naktis', 'priespiete', 'pavakare', 'priespiete', 'naktis', 'pietus', 'rytas', 'rytas', 'pavakare', 'naktis', 'pavakare', 'naktis', 'pietus', 'naktis', 'naktis', 'naktis', 'rytas', 'naktis', 'naktis', 'naktis', 'rytas', 'rytas', 'rytas', 'pavakare', 'priespiete', 'naktis', 'naktis', 'naktis', 'pavakare', 'pietus', 'naktis', 'rytas', 'pavakare', 'pavakare', 'naktis', 'rytas', 'pavakare', 'naktis', 'priespiete', 'naktis', 'rytas', 'pietus', 'naktis', 'naktis', 'rytas', 'naktis', 'priespiete', 'priespiete', 'naktis', 'naktis', 'rytas', 'naktis', 'pavakare', 'naktis', 'naktis', 'naktis', 'naktis', 'rytas', 'naktis', 'rytas', 'pavakare', 'naktis', 'naktis', 'pavakare', 'priespiete', 'naktis', 'rytas', 'rytas', 'rytas', 'rytas', 'rytas', 'priespiete', 'pavakare', 'naktis', 'naktis', 'pavakare', 'naktis', 'pavakare', 'naktis', 'naktis', 'naktis', 'priespiete', 'pavakare', 'rytas', 'naktis', 'priespiete', 'rytas', 'naktis', 'naktis', 'naktis', 'naktis', 'naktis', 'rytas', 'naktis', 'priespiete', 'naktis', 'naktis', 'naktis', 'naktis', 'pietus', 'naktis', 'pavakare', 'pietus', 'priespiete', 'naktis', 'rytas', 'naktis', 'naktis', 'rytas', 'naktis', 'naktis', 'naktis', 'pavakare', 'naktis', 'priespiete', 'pavakare', 'pavakare', 'naktis', 'naktis', 'naktis', 'rytas', 'priespiete', 'naktis', 'naktis', 'pavakare', 'pavakare', 'pavakare', 'naktis', 'priespiete', 'rytas', 'naktis', 'pavakare', 'rytas', 'naktis', 'pietus', 'naktis', 'rytas', 'naktis', 'pavakare', 'pavakare', 'naktis', 'pietus', 'naktis', 'naktis', 'naktis', 'pietus', 'pavakare', 'naktis', 'pavakare', 'naktis', 'naktis', 'naktis', 'naktis', 'naktis', 'naktis', 'rytas', 'pietus', 'pavakare', 'naktis', 'pavakare', 'pavakare', 'pavakare', 'pavakare', 'pavakare', 'naktis', 'naktis', 'pavakare', 'naktis', 'pietus', 'pavakare', 'pavakare', 'naktis', 'pavakare', 'naktis', 'pavakare', 'naktis', 'pavakare', 'priespiete', 'priespiete', 'naktis', 'naktis', 'naktis', 'pavakare', 'naktis', 'pavakare', 'naktis', 'pietus', 'rytas', 'naktis', 'rytas', 'pietus', 'pavakare', 'pietus', 'pietus', 'pietus', 'naktis', 'naktis', 'priespiete', 'priespiete', 'pavakare', 'naktis', 'naktis', 'rytas', 'rytas', 'priespiete', 'pavakare', 'pavakare', 'naktis', 'naktis', 'rytas', 'naktis', 'pietus', 'naktis', 'rytas', 'rytas', 'naktis', 'naktis', 'pavakare', 'priespiete', 'rytas', 'pavakare', 'pietus', 'naktis', 'naktis', 'naktis', 'pavakare', 'rytas', 'naktis', 'priespiete', 'pietus', 'naktis', 'pavakare', 'pavakare', 'naktis', 'naktis', 'naktis', 'naktis', 'naktis', 'rytas', 'priespiete', 'naktis', 'pavakare', 'naktis', 'naktis', 'pavakare', 'naktis', 'naktis', 'pietus', 'priespiete', 'rytas', 'rytas', 'pavakare', 'rytas', 'naktis', 'naktis', 'rytas', 'rytas', 'naktis', 'rytas', 'pietus', 'naktis', 'naktis', 'naktis', 'priespiete', 'priespiete', 'naktis', 'pavakare', 'naktis', 'naktis', 'naktis', 'pietus', 'pietus', 'pietus', 'naktis', 'naktis', 'rytas', 'naktis', 'pietus', 'naktis', 'naktis', 'naktis', 'rytas', 'pavakare', 'naktis', 'naktis', 'naktis', 'pavakare', 'priespiete', 'pavakare', 'naktis', 'pietus', 'rytas', 'priespiete', 'naktis', 'naktis', 'naktis', 'priespiete', 'naktis', 'pietus', 'naktis', 'naktis', 'naktis']\n",
      "490\n"
     ]
    }
   ],
   "source": [
    "# times = np.random.randint(0,24,1000)\n",
    "#  intervalai : 0-6 - naktis, 7-10 - rytas, 11-12 - priešpietė, \n",
    "# 13-14-pietūs, 15-18-pavakarė, 19-22 - vakaras, 23 - 0 - naktis. \n",
    "# Parašykite funkciją, kuri iš times sąrašo verčių sugeneruotų \n",
    "# tekstų (rytas, vakaras, popietė ... ) sąrašą. \n",
    "# Pritaikykite map(). \n",
    "\n",
    "# Suskaičiuokite, kiek kartų pasikartojo atitinkami \n",
    "# tekstai, atvaizduokite tai su bar arba barh.\n",
    "\n",
    "times = np.random.randint(0,24,1000)\n",
    "# print(times)\n",
    "\n",
    "def laikas(x):\n",
    "    if 0 <= x < 7:\n",
    "        return 'naktis'\n",
    "    elif 7 <= x < 11:\n",
    "        return 'rytas'\n",
    "    if 11 <= x < 13:\n",
    "        return 'priespiete'\n",
    "    if 13 <= x < 15:\n",
    "        return 'pietus'\n",
    "    if 15 <= x < 19:\n",
    "        return 'pavakare'\n",
    "    if 19 <= x < 24:\n",
    "        return 'naktis'\n",
    "    \n",
    "naujas_sarasas = list(map(laikas, times))\n",
    "\n",
    "print(naujas_sarasas)\n",
    "\n",
    "naktis = 0\n",
    "rytas = 0\n",
    "priespiete = 0\n",
    "pietus = 0\n",
    "pavakare = 0\n",
    "\n",
    "\n",
    "for i in naujas_sarasas:\n",
    "    if i == 'naktis':\n",
    "        naktis += 1\n",
    "    elif i == 'rytas':\n",
    "        rytas += 1\n",
    "        \n",
    "    elif i == 'priespiete':\n",
    "        priespiete += 1\n",
    "    elif i == 'pietus':\n",
    "        pietus += 1\n",
    "    elif i == 'pavakare':\n",
    "        pavakare += 1\n",
    "        \n",
    "print(naktis)\n",
    "\n"
   ]
  }
 ],
 "metadata": {
  "kernelspec": {
   "display_name": "Python 3",
   "language": "python",
   "name": "python3"
  },
  "language_info": {
   "codemirror_mode": {
    "name": "ipython",
    "version": 3
   },
   "file_extension": ".py",
   "mimetype": "text/x-python",
   "name": "python",
   "nbconvert_exporter": "python",
   "pygments_lexer": "ipython3",
   "version": "3.12.5"
  }
 },
 "nbformat": 4,
 "nbformat_minor": 2
}
