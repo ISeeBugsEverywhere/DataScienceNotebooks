{
 "cells": [
  {
   "cell_type": "code",
   "execution_count": 2,
   "metadata": {},
   "outputs": [],
   "source": [
    "# Python bibliotekos\n",
    "import numpy as np                  # \"numpy\" yra biblioteka darbui su didelėmis, daugiamatėmis masyvų ir matricų kolekcijomis bei matematinėmis funkcijomis\n",
    "import pandas as pd                 # \"pandas\" suteikia struktūras duomenims ir įrankius jų analizei, pvz., DataFrame\n",
    "import matplotlib.pyplot as plt     # \"matplotlib.pyplot\" yra vizualizacijos biblioteka, leidžianti piešti įvairius grafikus\n",
    "import warnings                     # \"warnings\" leidžia valdyti įspėjimus: juos ignoruoti, spausdinti, ar klaidinti\n",
    "import requests                     # \"requests\" leidžia siųsti HTTP užklausas naudojant Python\n",
    "from datetime import datetime       # \"datetime\" modulis suteikia funkcijas darbui su data ir laiku\n",
    "from bs4 import BeautifulSoup       # \"BeautifulSoup\" padeda atlikti internetinių puslapių šaltinio kodo (HTML, XML) analizę ir duomenų surinkimą\n",
    "import time                         # \"time\" modulis suteikia funkcijas, susijusias su laiku, pvz., laiko gaišimą ar laiko matavimą\n",
    "import sqlite3                      # \"sqlite3\" leidžia dirbti su SQLite duomenų bazėmis, atliekant duomenų saugojimo, atnaujinimo ir gavimo operacijas\n",
    "from numpy.polynomial import Polynomial\n",
    "import numpy as np\n",
    "import matplotlib.pyplot as plt\n",
    "import seaborn as sns\n",
    "\n",
    "# Suppressing warnings\n",
    "warnings.filterwarnings('ignore')   # Nustato, kad visi įspėjimai būtų ignoruojami\n",
    "\n",
    "# Set up Selenium webdriver options\n",
    "from selenium import webdriver                          # \"selenium.webdriver\" leidžia automatizuoti veiksmus interneto naršyklėje\n",
    "from selenium.webdriver.chrome.options import Options   # \"Options\" leidžia nustatyti konfigūracijas Chrome naršyklės draiveriui\n",
    "\n",
    "# Papildomai importuojame: \n",
    "from sklearn.linear_model import LinearRegression  # Tiesinės regresijos modelis\n",
    "from sklearn.model_selection import train_test_split  # Duomenų padalijimas į treniravimo ir testavimo rinkinius\n",
    "from sklearn.model_selection import train_test_split, cross_val_score"
   ]
  },
  {
   "cell_type": "code",
   "execution_count": 2,
   "metadata": {},
   "outputs": [
    {
     "name": "stdout",
     "output_type": "stream",
     "text": [
      "Accuracy of SVM: 0.82\n"
     ]
    }
   ],
   "source": [
    "# Mokymosi medziaga \n",
    "# Import necessary libraries\n",
    "from sklearn import svm\n",
    "from sklearn import datasets\n",
    "# Load the Iris dataset\n",
    "iris = datasets.load_iris()\n",
    "# We only take the first two\n",
    "# features for simplicity\n",
    "X = iris.data[:, :2]\n",
    "y = iris.target\n",
    "# Fit the SVM model\n",
    "model = svm.SVC(kernel='linear') #klasifikatorius čia!\n",
    "model.fit(X, y)\n",
    "# Predict using the SVM model\n",
    "predictions = model.predict(X)\n",
    "# Evaluate the predictions\n",
    "accuracy = model.score(X, y)\n",
    "print(\"Accuracy of SVM:\", accuracy)"
   ]
  },
  {
   "cell_type": "code",
   "execution_count": 7,
   "metadata": {},
   "outputs": [],
   "source": [
    "# Modelio issaugojimas\n",
    "import pickle \n",
    "import joblib  #importuojame bibliotekas modelio saugojimui \n",
    "\n",
    "m_svc_pickle = 'modelis_pickle.pkl'\n",
    "\n",
    "with open(m_svc_pickle, mode='wb') as file:\n",
    "    pickle.dump(model, file)"
   ]
  },
  {
   "cell_type": "code",
   "execution_count": 8,
   "metadata": {},
   "outputs": [],
   "source": [
    "# Modelio nuskaitymas \n",
    "with open(m_svc_pickle, mode='rb') as file:\n",
    "    modelis = pickle.load(file)"
   ]
  },
  {
   "cell_type": "code",
   "execution_count": 9,
   "metadata": {},
   "outputs": [
    {
     "data": {
      "text/plain": [
       "array([0, 0, 0, 0, 0, 0, 0, 0, 0, 0, 0, 0, 0, 0, 0, 0, 0, 0, 0, 0, 0, 0,\n",
       "       0, 0, 0, 0, 0, 0, 0, 0, 0, 0, 0, 0, 0, 0, 0, 0, 0, 0, 0, 0, 0, 0,\n",
       "       0, 0, 0, 0, 0, 0, 2, 2, 2, 1, 2, 1, 2, 1, 2, 1, 1, 1, 1, 1, 1, 2,\n",
       "       1, 1, 1, 1, 1, 1, 1, 1, 2, 2, 2, 2, 1, 1, 1, 1, 1, 1, 1, 1, 2, 1,\n",
       "       1, 1, 1, 1, 1, 1, 1, 1, 1, 1, 1, 1, 2, 1, 2, 2, 2, 2, 1, 2, 2, 2,\n",
       "       2, 2, 2, 1, 1, 2, 2, 2, 2, 1, 2, 1, 2, 1, 2, 2, 1, 1, 2, 2, 2, 2,\n",
       "       2, 1, 1, 2, 2, 2, 1, 2, 2, 2, 1, 2, 2, 2, 1, 2, 2, 1])"
      ]
     },
     "execution_count": 9,
     "metadata": {},
     "output_type": "execute_result"
    }
   ],
   "source": [
    "# Modelio panaudojimas \n",
    "modelis.predict(X)"
   ]
  },
  {
   "cell_type": "code",
   "execution_count": 10,
   "metadata": {},
   "outputs": [
    {
     "data": {
      "text/plain": [
       "['modelisJoblib.saved']"
      ]
     },
     "execution_count": 10,
     "metadata": {},
     "output_type": "execute_result"
    }
   ],
   "source": [
    "## Joblib biblioteka # Modelio issaugojiamas\n",
    "joblib.dump(model, 'modelisJoblib.saved')  "
   ]
  },
  {
   "cell_type": "code",
   "execution_count": 14,
   "metadata": {},
   "outputs": [
    {
     "data": {
      "text/plain": [
       "array([0, 0, 0, 0, 0, 0, 0, 0, 0, 0, 0, 0, 0, 0, 0, 0, 0, 0, 0, 0, 0, 0,\n",
       "       0, 0, 0, 0, 0, 0, 0, 0, 0, 0, 0, 0, 0, 0, 0, 0, 0, 0, 0, 0, 0, 0,\n",
       "       0, 0, 0, 0, 0, 0, 2, 2, 2, 1, 2, 1, 2, 1, 2, 1, 1, 1, 1, 1, 1, 2,\n",
       "       1, 1, 1, 1, 1, 1, 1, 1, 2, 2, 2, 2, 1, 1, 1, 1, 1, 1, 1, 1, 2, 1,\n",
       "       1, 1, 1, 1, 1, 1, 1, 1, 1, 1, 1, 1, 2, 1, 2, 2, 2, 2, 1, 2, 2, 2,\n",
       "       2, 2, 2, 1, 1, 2, 2, 2, 2, 1, 2, 1, 2, 1, 2, 2, 1, 1, 2, 2, 2, 2,\n",
       "       2, 1, 1, 2, 2, 2, 1, 2, 2, 2, 1, 2, 2, 2, 1, 2, 2, 1])"
      ]
     },
     "execution_count": 14,
     "metadata": {},
     "output_type": "execute_result"
    }
   ],
   "source": [
    "#Modelio uzloadinimas ir naudojimas \n",
    "loadedModel = joblib.load('modelisJoblib.saved')\n",
    "loadedModel.predict(X)"
   ]
  },
  {
   "cell_type": "code",
   "execution_count": 15,
   "metadata": {},
   "outputs": [],
   "source": [
    "# You will find the following 4 files:\n",
    "# b2b_gv_vartojimas.xlsx - B2B prosumers\n",
    "# b2b_ngv_vartojimas.xlsx - B2B consumers\n",
    "# b2c_gv_vartojimas.xlsx - B2C prosumers\n",
    "# b2c_ngv_vartojimas.xlsx - B2C consumers\n",
    "\n",
    "# The goal is to create the most accurate models to predict the \n",
    "# next day's (D-1) electricity consumption (24 values). \n",
    "# You should create a model that makes the forecast of each hour for the next day at 11:00 a.m. \n",
    "# of the current day, because that's how the market works - by 11:00 a.m. you need to provide \n",
    "# the Nordpool operator with the volumes of electricity (and prices, but it doesn't matter in this case) \n",
    "# that you want to buy every hour the next day.\n"
   ]
  },
  {
   "cell_type": "code",
   "execution_count": null,
   "metadata": {},
   "outputs": [
    {
     "name": "stdout",
     "output_type": "stream",
     "text": [
      "                 dateTime      0      1       2      3      4      5       6  \\\n",
      "0     2023-08-01 00:00:00  0.117  0.103   0.041  0.070  0.126  0.048  0.1310   \n",
      "1     2023-08-01 01:00:00  0.501  0.043   0.046  0.120  0.104  0.051  0.1100   \n",
      "2     2023-08-01 02:00:00  0.185  0.052   0.046  0.145  0.066  0.047  0.1100   \n",
      "3     2023-08-01 03:00:00  0.107  0.050   0.045  0.067  0.127  0.049  0.1040   \n",
      "4     2023-08-01 04:00:00  0.118  0.037   0.041  0.124  0.198  0.046  0.1790   \n",
      "...                   ...    ...    ...     ...    ...    ...    ...     ...   \n",
      "21885 2023-10-31 20:00:00  5.958  0.000  12.174  0.001  0.042  0.111  1.7820   \n",
      "21886 2023-10-31 21:00:00  6.209  0.000  11.889  0.000  0.041  0.102  1.3011   \n",
      "21887 2023-10-31 22:00:00  5.947  0.000  11.998  0.002  0.049  0.109  1.3996   \n",
      "21888 2023-10-31 23:00:00  4.463  0.000  11.846  0.001  0.049  0.119  1.6896   \n",
      "21889 2023-11-01 00:00:00  4.699  0.000  11.992  0.001  0.046  0.109  1.1057   \n",
      "\n",
      "           7      8  ...  1040  1041  1042  1043  1044  1045  1046  1047  \\\n",
      "0      0.171  0.347  ...   NaN   NaN   NaN   NaN   NaN   NaN   NaN   NaN   \n",
      "1      0.210  0.963  ...   NaN   NaN   NaN   NaN   NaN   NaN   NaN   NaN   \n",
      "2      0.195  0.574  ...   NaN   NaN   NaN   NaN   NaN   NaN   NaN   NaN   \n",
      "3      0.145  0.429  ...   NaN   NaN   NaN   NaN   NaN   NaN   NaN   NaN   \n",
      "4      0.185  0.397  ...   NaN   NaN   NaN   NaN   NaN   NaN   NaN   NaN   \n",
      "...      ...    ...  ...   ...   ...   ...   ...   ...   ...   ...   ...   \n",
      "21885  0.960  3.063  ...   NaN   NaN   NaN   NaN   NaN   NaN   NaN   NaN   \n",
      "21886  0.255  2.396  ...   NaN   NaN   NaN   NaN   NaN   NaN   NaN   NaN   \n",
      "21887  0.943  4.309  ...   NaN   NaN   NaN   NaN   NaN   NaN   NaN   NaN   \n",
      "21888  0.245  3.421  ...   NaN   NaN   NaN   NaN   NaN   NaN   NaN   NaN   \n",
      "21889  0.776  0.256  ...   NaN   NaN   NaN   NaN   NaN   NaN   NaN   NaN   \n",
      "\n",
      "       1048  1049  \n",
      "0       NaN   NaN  \n",
      "1       NaN   NaN  \n",
      "2       NaN   NaN  \n",
      "3       NaN   NaN  \n",
      "4       NaN   NaN  \n",
      "...     ...   ...  \n",
      "21885   NaN   NaN  \n",
      "21886   NaN   NaN  \n",
      "21887   NaN   NaN  \n",
      "21888   NaN   NaN  \n",
      "21889   NaN   NaN  \n",
      "\n",
      "[21890 rows x 1051 columns]\n"
     ]
    }
   ],
   "source": [
    "import pandas as pd\n",
    "\n",
    "# Failų keliai\n",
    "file_paths = [\n",
    "    'C:\\\\Users\\\\Pauliussl\\\\Paskaita74\\\\b2c_ngv_vartojimas.xlsx',\n",
    "    'C:\\\\Users\\\\Pauliussl\\\\Paskaita74\\\\b2c_gv_vartojimas.xlsx',\n",
    "    'C:\\\\Users\\\\Pauliussl\\\\Paskaita74\\\\b2b_ngv_vartojimas.xlsx',\n",
    "    'C:\\\\Users\\\\Pauliussl\\\\Paskaita74\\\\b2b_gv_vartojimas.xlsx'\n",
    "]\n",
    "\n",
    "# Nuskaitome ir sujungiame lenteles\n",
    "all_tables = [pd.read_excel(file_path) for file_path in file_paths]\n",
    "merged_table = pd.concat(all_tables, ignore_index=True)\n",
    "\n",
    "# Kintamasis merged_table dabar turi visas sujungtas lenteles\n",
    "merged_table\n"
   ]
  },
  {
   "cell_type": "code",
   "execution_count": null,
   "metadata": {},
   "outputs": [],
   "source": []
  },
  {
   "cell_type": "code",
   "execution_count": 26,
   "metadata": {},
   "outputs": [
    {
     "name": "stdout",
     "output_type": "stream",
     "text": [
      "                dateTime      0      1      2      3      4      5      6  \\\n",
      "0    2023-08-01 00:00:00  1.128  0.301  0.078  0.083  0.306  0.239  0.666   \n",
      "1    2023-08-01 01:00:00  1.465  0.262  0.095  0.090  0.303  0.214  0.696   \n",
      "2    2023-08-01 02:00:00  0.790  0.354  0.265  0.101  0.311  0.636  0.692   \n",
      "3    2023-08-01 03:00:00  0.726  0.319  0.099  0.106  0.310  0.145  0.669   \n",
      "4    2023-08-01 04:00:00  0.659  0.257  0.076  0.085  0.319  0.146  0.687   \n",
      "...                  ...    ...    ...    ...    ...    ...    ...    ...   \n",
      "2180 2023-10-30 20:00:00  2.199  0.991  0.242  1.318  0.524  0.485  0.824   \n",
      "2181 2023-10-30 21:00:00  1.042  2.406  0.312  0.824  0.532  0.370  0.795   \n",
      "2182 2023-10-30 22:00:00  0.983  1.079  0.703  0.353  0.932  0.380  0.610   \n",
      "2183 2023-10-30 23:00:00  0.892  0.809  0.204  1.725  0.556  0.185  0.426   \n",
      "2184 2023-10-31 00:00:00  0.856  0.867  0.105  0.328  0.458  0.281  0.414   \n",
      "\n",
      "          7      8  ...   1043   1044   1045   1046   1047   1048   1049  \\\n",
      "0     1.050  0.284  ...  0.000  0.000  0.000  0.000  0.000  0.000  0.000   \n",
      "1     0.467  0.263  ...  0.000  0.000  0.000  0.000  0.000  0.000  0.000   \n",
      "2     0.158  0.276  ...  0.000  0.000  0.000  0.000  0.000  0.000  0.000   \n",
      "3     0.081  0.256  ...  0.000  0.000  0.000  0.000  0.000  0.000  0.000   \n",
      "4     0.176  0.250  ...  0.000  0.000  0.000  0.000  0.000  0.000  0.000   \n",
      "...     ...    ...  ...    ...    ...    ...    ...    ...    ...    ...   \n",
      "2180  0.506  0.618  ...  0.528  0.463  0.293  0.610  1.663  0.403  1.206   \n",
      "2181  1.051  0.668  ...  0.708  0.946  0.368  0.369  1.556  0.370  0.830   \n",
      "2182  0.582  1.759  ...  0.710  0.164  0.701  0.400  0.623  0.402  0.137   \n",
      "2183  0.657  0.672  ...  0.692  0.129  0.176  0.408  0.348  0.282  0.565   \n",
      "2184  0.632  0.702  ...  0.833  0.849  0.141  0.721  0.250  0.188  0.093   \n",
      "\n",
      "             Viso  hour  weekday  \n",
      "0     1980.704540     0        1  \n",
      "1     1620.060752     1        1  \n",
      "2     1523.264772     2        1  \n",
      "3     1479.183168     3        1  \n",
      "4     1417.672016     4        1  \n",
      "...           ...   ...      ...  \n",
      "2180  4600.670536    20        0  \n",
      "2181  4435.696804    21        0  \n",
      "2182  3873.499868    22        0  \n",
      "2183  3309.532804    23        0  \n",
      "2184  2917.615336     0        1  \n",
      "\n",
      "[2185 rows x 1054 columns]\n"
     ]
    }
   ],
   "source": [
    "import pandas as pd\n",
    "from sklearn.model_selection import train_test_split\n",
    "from sklearn.ensemble import RandomForestRegressor\n",
    "from sklearn.metrics import mean_absolute_error, mean_squared_error, r2_score\n",
    "\n",
    "# file_path = 'C:\\\\Users\\\\Pauliussl\\\\Paskaita74\\\\b2c_ngv_vartojimas.xlsx'\n",
    "# file_path = 'C:\\\\Users\\\\Pauliussl\\\\Paskaita74\\\\b2c_gv_vartojimas.xlsx'\n",
    "# # file_path = 'C:\\\\Users\\\\Pauliussl\\\\Paskaita74\\\\b2b_ngv_vartojimas.xlsx'\n",
    "# # file_path = 'C:\\\\Users\\\\Pauliussl\\\\Paskaita74\\\\b2b_gv_vartojimas.xlsx'\n",
    "\n",
    "# data = pd.read_excel(file_path)\n",
    "\n",
    "data = merged_table\n",
    "merged_table = merged_table.dropna()\n",
    "data['dateTime'] = pd.to_datetime(data['dateTime'])\n",
    "data.set_index('dateTime', inplace=True)\n",
    "data['Viso'] = data.iloc[:, 1:].sum(axis=1)  # Apskaičiuoja visų stulpelių (nuo antro iki paskutinio) sumą kiekvienai eilutei ir priskiria ją stulpeliui 'Viso'.\n",
    "\n",
    "data.reset_index(inplace=True)  # Grąžiname 'dateTime' kaip stulpelį\n",
    "\n",
    "print(data)\n",
    "\n",
    "data['hour'] = data['dateTime'].dt.hour  # Pridedame valandos ir savaitės dienos stulpelius\n",
    "data['weekday'] = data['dateTime'].dt.dayofweek\n",
    "\n",
    "data = data[['dateTime', 'hour', 'weekday', 'Viso']]  # Pasirenkame tik reikalingus stulpelius\n",
    "\n",
    "\n",
    "\n",
    "X = data[['hour', 'weekday']]  # Pasiruošiame duomenis mokymui ir testavimui\n",
    "y = data['Viso']\n",
    "X_train, X_test, y_train, y_test = train_test_split(X, y, test_size=0.2, random_state=42)\n",
    "\n",
    "model = LinearRegression()  # Modelio mokymas\n",
    "model.fit(X_train, y_train)  # n_estimators nurodo medžių skaičių miške. Didesnė vertė gali padidinti tikslumą, bet taip pat ir apskaičiavimų laiką. Patartina eksperimentuoti su įvairiomis reikšmėmis, kad rastumėte optimalų balansą.\n",
    "\n",
    "y_pred = model.predict(X_test)  # Modelio prognozė ir vertinimas\n",
    "\n",
    "forecast_weekday = (X_test['weekday'].iloc[-1] + 1) % 7 if 'weekday' in X_test.columns else (X_train['weekday'].iloc[-1] + 1) % 7   # Naudojame paskutinę savaitės dienos reikšmę ir pereiname į kitą dieną\n",
    "forecast_data = pd.DataFrame({'hour': range(24), 'weekday': [forecast_weekday] * 24})\n",
    "forecast = model.predict(forecast_data)\n",
    "\n",
    "forecast_data['Viso_forecast_Linear'] = forecast  # Rezultato atvaizdavimas\n",
    "# print(\"Prognozė kiekvienai valandai (0-23):\")\n",
    "# print(forecast_data)\n",
    "\n",
    "# #  Tikslumo metrikos\n",
    "# mae_dt = mean_absolute_error(y_test, y_pred)\n",
    "# mse_dt = mean_squared_error(y_test, y_pred)\n",
    "# rmse_dt = np.sqrt(mse_dt)\n",
    "# r2_dt = r2_score(y_test, y_pred)\n",
    "\n",
    "# # Rezultatų spausdinimas\n",
    "# print(f\"Decision Tree - Mean Absolute Error (MAE): {mae_dt}\")\n",
    "# print(f\"Decision Tree - Mean Squared Error (MSE): {mse_dt}\")\n",
    "# print(f\"Decision Tree - Root Mean Squared Error (RMSE): {rmse_dt}\")\n",
    "# print(f\"Decision Tree - R² Score: {r2_dt}\")\n",
    "# #Linear "
   ]
  },
  {
   "cell_type": "code",
   "execution_count": 27,
   "metadata": {},
   "outputs": [
    {
     "name": "stdout",
     "output_type": "stream",
     "text": [
      "Prognozė kiekvienai valandai (0-23):\n",
      "    hour  weekday  Viso_forecast_Random_Forest\n",
      "0      0        0                  2121.223276\n",
      "1      1        0                  2081.877864\n",
      "2      2        0                  1917.509677\n",
      "3      3        0                  1898.075208\n",
      "4      4        0                  1750.361298\n",
      "5      5        0                  1891.258933\n",
      "6      6        0                  2567.330303\n",
      "7      7        0                  2534.406357\n",
      "8      8        0                  1627.295751\n",
      "9      9        0                  1372.280984\n",
      "10    10        0                  1155.165768\n",
      "11    11        0                  1025.571612\n",
      "12    12        0                  1169.894975\n",
      "13    13        0                  1144.015326\n",
      "14    14        0                   940.094993\n",
      "15    15        0                  1042.673998\n",
      "16    16        0                  1083.662730\n",
      "17    17        0                  1973.103573\n",
      "18    18        0                  2647.668993\n",
      "19    19        0                  3460.980211\n",
      "20    20        0                  3850.655966\n",
      "21    21        0                  3722.404749\n",
      "22    22        0                  3213.454805\n",
      "23    23        0                  2576.321310\n"
     ]
    }
   ],
   "source": [
    "# RandomForestRegressor\n",
    "model = RandomForestRegressor(n_estimators=100, random_state=42)  # Modelio mokymas  # Modelio mokymas\n",
    "model.fit(X_train, y_train)  # n_estimators nurodo medžių skaičių miške. Didesnė vertė gali padidinti tikslumą, bet taip pat ir apskaičiavimų laiką. Patartina eksperimentuoti su įvairiomis reikšmėmis, kad rastumėte optimalų balansą.\n",
    "\n",
    "y_pred = model.predict(X_test)  # Modelio prognozė ir vertinimas\n",
    "\n",
    "forecast_weekday = (X_test['weekday'].iloc[-1] + 1) % 7 if 'weekday' in X_test.columns else (X_train['weekday'].iloc[-1] + 1) % 7   # Naudojame paskutinę savaitės dienos reikšmę ir pereiname į kitą dieną\n",
    "forecast_data_random_forest = pd.DataFrame({'hour': range(24), 'weekday': [forecast_weekday] * 24})\n",
    "forecast2 = model.predict(forecast_data_random_forest)\n",
    "\n",
    "forecast_data_random_forest['Viso_forecast_Random_Forest'] = forecast2  # Rezultato atvaizdavimas\n",
    "print(\"Prognozė kiekvienai valandai (0-23):\")\n",
    "print(forecast_data_random_forest)\n",
    "\n",
    "# #  Tikslumo metrikos\n",
    "# mae_dt = mean_absolute_error(y_test, y_pred)\n",
    "# mse_dt = mean_squared_error(y_test, y_pred)\n",
    "# rmse_dt = np.sqrt(mse_dt)\n",
    "# r2_dt = r2_score(y_test, y_pred)\n",
    "\n",
    "# # Rezultatų spausdinimas\n",
    "# print(f\"Decision Tree - Mean Absolute Error (MAE): {mae_dt}\")\n",
    "# print(f\"Decision Tree - Mean Squared Error (MSE): {mse_dt}\")\n",
    "# print(f\"Decision Tree - Root Mean Squared Error (RMSE): {rmse_dt}\")\n",
    "# print(f\"Decision Tree - R² Score: {r2_dt}\")"
   ]
  },
  {
   "cell_type": "code",
   "execution_count": 28,
   "metadata": {},
   "outputs": [
    {
     "name": "stdout",
     "output_type": "stream",
     "text": [
      "Prognozė kiekvienai valandai (0-23):\n",
      "    hour  weekday  Viso_forecast_Decision_tree\n",
      "0      0        0                  2112.716612\n",
      "1      1        0                  2084.397750\n",
      "2      2        0                  1929.197371\n",
      "3      3        0                  1869.380044\n",
      "4      4        0                  1750.736928\n",
      "5      5        0                  1852.249934\n",
      "6      6        0                  2554.637878\n",
      "7      7        0                  2516.555906\n",
      "8      8        0                  1633.201161\n",
      "9      9        0                  1369.924232\n",
      "10    10        0                  1182.798674\n",
      "11    11        0                  1026.938087\n",
      "12    12        0                  1139.612755\n",
      "13    13        0                  1160.732699\n",
      "14    14        0                   951.268735\n",
      "15    15        0                  1040.360054\n",
      "16    16        0                  1083.972739\n",
      "17    17        0                  1995.398726\n",
      "18    18        0                  2713.229854\n",
      "19    19        0                  3438.735368\n",
      "20    20        0                  3927.984702\n",
      "21    21        0                  3692.360648\n",
      "22    22        0                  3214.445758\n",
      "23    23        0                  2570.658522\n",
      "Decision Tree - Mean Absolute Error (MAE): 646.0377606972422\n",
      "Decision Tree - Mean Squared Error (MSE): 791356.5828382906\n",
      "Decision Tree - Root Mean Squared Error (RMSE): 889.5822518678589\n",
      "Decision Tree - R² Score: 0.3846360720213159\n"
     ]
    }
   ],
   "source": [
    "# DecisionTreeRegressor \n",
    "from sklearn.tree import DecisionTreeRegressor\n",
    "model = DecisionTreeRegressor(random_state=42)  # Modelio mokymas  # Modelio mokymas\n",
    "model.fit(X_train, y_train)  \n",
    "\n",
    "y_pred = model.predict(X_test)  # Modelio prognozė ir vertinimas\n",
    "\n",
    "forecast_weekday = (X_test['weekday'].iloc[-1] + 1) % 7 if 'weekday' in X_test.columns else (X_train['weekday'].iloc[-1] + 1) % 7   # Naudojame paskutinę savaitės dienos reikšmę ir pereiname į kitą dieną\n",
    "forecast_data_decision_tree = pd.DataFrame({'hour': range(24), 'weekday': [forecast_weekday] * 24})\n",
    "forecast3 = model.predict(forecast_data_decision_tree)\n",
    "\n",
    "forecast_data_decision_tree['Viso_forecast_Decision_tree'] = forecast3  # Rezultato atvaizdavimas\n",
    "print(\"Prognozė kiekvienai valandai (0-23):\")\n",
    "print(forecast_data_decision_tree)\n",
    "\n",
    "#  Tikslumo metrikos\n",
    "mae_dt = mean_absolute_error(y_test, y_pred)\n",
    "mse_dt = mean_squared_error(y_test, y_pred)\n",
    "rmse_dt = np.sqrt(mse_dt)\n",
    "r2_dt = r2_score(y_test, y_pred)\n",
    "\n",
    "# Rezultatų spausdinimas\n",
    "print(f\"Decision Tree - Mean Absolute Error (MAE): {mae_dt}\")\n",
    "print(f\"Decision Tree - Mean Squared Error (MSE): {mse_dt}\")\n",
    "print(f\"Decision Tree - Root Mean Squared Error (RMSE): {rmse_dt}\")\n",
    "print(f\"Decision Tree - R² Score: {r2_dt}\")"
   ]
  },
  {
   "cell_type": "code",
   "execution_count": 29,
   "metadata": {},
   "outputs": [
    {
     "name": "stdout",
     "output_type": "stream",
     "text": [
      "    hour  weekday  Viso_forecast_Random_Forest  Viso_forecast_Decision_tree  \\\n",
      "0      0        0                  2121.223276                  2112.716612   \n",
      "1      1        0                  2081.877864                  2084.397750   \n",
      "2      2        0                  1917.509677                  1929.197371   \n",
      "3      3        0                  1898.075208                  1869.380044   \n",
      "4      4        0                  1750.361298                  1750.736928   \n",
      "5      5        0                  1891.258933                  1852.249934   \n",
      "6      6        0                  2567.330303                  2554.637878   \n",
      "7      7        0                  2534.406357                  2516.555906   \n",
      "8      8        0                  1627.295751                  1633.201161   \n",
      "9      9        0                  1372.280984                  1369.924232   \n",
      "10    10        0                  1155.165768                  1182.798674   \n",
      "11    11        0                  1025.571612                  1026.938087   \n",
      "12    12        0                  1169.894975                  1139.612755   \n",
      "13    13        0                  1144.015326                  1160.732699   \n",
      "14    14        0                   940.094993                   951.268735   \n",
      "15    15        0                  1042.673998                  1040.360054   \n",
      "16    16        0                  1083.662730                  1083.972739   \n",
      "17    17        0                  1973.103573                  1995.398726   \n",
      "18    18        0                  2647.668993                  2713.229854   \n",
      "19    19        0                  3460.980211                  3438.735368   \n",
      "20    20        0                  3850.655966                  3927.984702   \n",
      "21    21        0                  3722.404749                  3692.360648   \n",
      "22    22        0                  3213.454805                  3214.445758   \n",
      "23    23        0                  2576.321310                  2570.658522   \n",
      "\n",
      "    Viso_forecast_Linear  \n",
      "0            1283.227140  \n",
      "1            1338.090929  \n",
      "2            1392.954719  \n",
      "3            1447.818508  \n",
      "4            1502.682297  \n",
      "5            1557.546087  \n",
      "6            1612.409876  \n",
      "7            1667.273665  \n",
      "8            1722.137455  \n",
      "9            1777.001244  \n",
      "10           1831.865033  \n",
      "11           1886.728823  \n",
      "12           1941.592612  \n",
      "13           1996.456401  \n",
      "14           2051.320191  \n",
      "15           2106.183980  \n",
      "16           2161.047769  \n",
      "17           2215.911559  \n",
      "18           2270.775348  \n",
      "19           2325.639137  \n",
      "20           2380.502927  \n",
      "21           2435.366716  \n",
      "22           2490.230505  \n",
      "23           2545.094295  \n"
     ]
    }
   ],
   "source": [
    "# Lenteliu apjungimas\n",
    "jungimas1 = pd.merge(\n",
    "    forecast_data_random_forest[['hour', 'weekday', 'Viso_forecast_Random_Forest']],\n",
    "    forecast_data_decision_tree[['hour', 'weekday', 'Viso_forecast_Decision_tree']],\n",
    "    on=['hour', 'weekday']\n",
    ")\n",
    "\n",
    "jungimas2 = pd.merge(\n",
    "    jungimas1,\n",
    "    forecast_data[['hour', 'weekday', 'Viso_forecast_Linear']],\n",
    "    on=['hour', 'weekday']\n",
    ")\n",
    "\n",
    "print(jungimas2)"
   ]
  },
  {
   "cell_type": "code",
   "execution_count": 30,
   "metadata": {},
   "outputs": [
    {
     "data": {
      "image/png": "[encoded data removed]",
      "text/plain": [
       "<Figure size 1200x600 with 1 Axes>"
      ]
     },
     "metadata": {},
     "output_type": "display_data"
    }
   ],
   "source": [
    "plt.figure(figsize=(12, 6))\n",
    "plt.plot(jungimas2['hour'], jungimas2['Viso_forecast_Random_Forest'], label='Random Forest', marker='o')\n",
    "plt.plot(jungimas2['hour'], jungimas2['Viso_forecast_Decision_tree'], label='Decision Tree', marker='s')\n",
    "plt.plot(jungimas2['hour'], jungimas2['Viso_forecast_Linear'], label='Linear Regression', marker='^')\n",
    "plt.xlabel('Valanda')\n",
    "plt.ylabel('Prognozuotas suvartojimas')\n",
    "plt.xticks(range(24))\n",
    "plt.legend()\n",
    "plt.grid(True)\n",
    "plt.show()\n"
   ]
  }
 ],
 "metadata": {
  "kernelspec": {
   "display_name": "Python 3",
   "language": "python",
   "name": "python3"
  },
  "language_info": {
   "codemirror_mode": {
    "name": "ipython",
    "version": 3
   },
   "file_extension": ".py",
   "mimetype": "text/x-python",
   "name": "python",
   "nbconvert_exporter": "python",
   "pygments_lexer": "ipython3",
   "version": "3.12.4"
  }
 },
 "nbformat": 4,
 "nbformat_minor": 2
}
