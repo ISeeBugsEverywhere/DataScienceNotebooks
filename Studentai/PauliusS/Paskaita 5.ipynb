{
 "cells": [
  {
   "cell_type": "code",
   "execution_count": 19,
   "metadata": {},
   "outputs": [
    {
     "name": "stdout",
     "output_type": "stream",
     "text": [
      "[-7, -4, 0, 4, 20] [-6, 0, 3, 5, 9]\n",
      "[-7, -4, 0, 4, 20] [-6, 0, 3, 5, 9] [-0.14285714285714285, -1.0, inf, 4.0, 1.25]\n",
      "geometrinis vidurkis: 2.605171084697352\n"
     ]
    }
   ],
   "source": [
    "# Pakartoti užduotį, esančią 79 skaidrėje, naudojant while.\n",
    "# • Parašyti amžiną while ciklą, kuris būtų nutraukiamas, jei\n",
    "# vartotojas įveda Q simbolį. Simbolio registras neturi turėti\n",
    "# reikšmės.\n",
    "\n",
    "\n",
    "a = [1, 2, 3, 4, 5]\n",
    "b = [-7, -2, 0, 1, 4]\n",
    "\n",
    "c = []\n",
    "p = []\n",
    "o = []\n",
    "\n",
    "i = 0\n",
    "while i < len(a):\n",
    "    c.append(a[i] * b[i])\n",
    "    i += 1\n",
    "\n",
    "i = 0\n",
    "while i < len(a):\n",
    "    p.append(a[i] + b[i])\n",
    "    i += 1\n",
    "print(c, p)\n",
    "\n",
    "i = 0\n",
    "while i < len(a):\n",
    "    if b[i] != 0:\n",
    "        o.append(a[i] / b[i])\n",
    "    else:\n",
    "        o.append(float('inf'))  # Įrašyti begalybę, jei dalyba iš nulio\n",
    "    i += 1\n",
    "print(c, p, o)\n",
    " \n",
    "  \n",
    "s = 1\n",
    "for i in a:\n",
    "    s = s * i\n",
    "print( 'geometrinis vidurkis:', s ** (1/len(a)))\n",
    " \n",
    " \n"
   ]
  },
  {
   "cell_type": "code",
   "execution_count": 6,
   "metadata": {},
   "outputs": [
    {
     "name": "stdout",
     "output_type": "stream",
     "text": [
      "[2, 4, 6, 8]\n"
     ]
    }
   ],
   "source": [
    "# • Sugeneruokite skaičių sąrašą nuo n iki k, kas m. n, k, m įveda\n",
    "# vartotojas.\n",
    "\n",
    "n = int(input('Iveskite skaiciu n:'))\n",
    "k = int(input('Iveskite skaiciu k:'))\n",
    "m = int(input('Iveskite skaiciu m:'))\n",
    "\n",
    "if m <= 0:\n",
    "    print('m maziau nulis')\n",
    "else: \n",
    "    naujas_sarasas = []\n",
    "    i = n\n",
    "    while i <= k:\n",
    "        naujas_sarasas.append(i)   \n",
    "        i += m\n",
    "\n",
    "print(naujas_sarasas) \n"
   ]
  },
  {
   "cell_type": "code",
   "execution_count": 7,
   "metadata": {},
   "outputs": [],
   "source": [
    "a = input('Iveskite raide:')\n",
    "quit = False \n",
    "while not quit:\n",
    "    a = input(\"Įveskite q\")\n",
    "    if a.lower != 'q':\n",
    "        continue\n",
    "    else:\n",
    "        quit = True\n",
    "print('ivedete q')\n"
   ]
  },
  {
   "cell_type": "code",
   "execution_count": 20,
   "metadata": {},
   "outputs": [
    {
     "ename": "SyntaxError",
     "evalue": "invalid syntax (576563347.py, line 29)",
     "output_type": "error",
     "traceback": [
      "\u001b[1;36m  Cell \u001b[1;32mIn[20], line 29\u001b[1;36m\u001b[0m\n\u001b[1;33m    except e ValueError as e:\u001b[0m\n\u001b[1;37m             ^\u001b[0m\n\u001b[1;31mSyntaxError\u001b[0m\u001b[1;31m:\u001b[0m invalid syntax\n"
     ]
    }
   ],
   "source": [
    "# Parašykite kodą, kuris paklaustų vartotojo skaičių A ir B,\n",
    "# matematinio veiksmo (+, −, /, ∗), atliktų veiksmą, rezultatą\n",
    "# išspausdintų. Pritaikykite try bloką, kad išvengtumėte tokių\n",
    "# situacijų kaip:\n",
    "# • dalyba iš 0;\n",
    "# • vietoj skaičiaus tekstas;\n",
    "# Pritaikykite visas try bloko šakas.\n",
    "\n",
    "try:\n",
    "    A = float(input('Iveskite skaiciu A: '))\n",
    "    B = float(input('Iveskite skaiciu B: '))\n",
    "    Veiksmas = input('Koki matematini veiksmą norite atlikti? +, -, /, * ')\n",
    "\n",
    "    if Veiksmas == '+':\n",
    "        ats = A + B\n",
    "    elif Veiksmas == '-':\n",
    "        ats = A - B\n",
    "    elif Veiksmas == '/':\n",
    "        ats = A / B  \n",
    "    elif Veiksmas == '*':\n",
    "        ats = A * B\n",
    "    else:\n",
    "        ats = 'Ivestas netinkamas simbolis'\n",
    "    \n",
    "    print(ats)\n",
    "\n",
    "except ZeroDivisionError as e:\n",
    "    print(e)\n",
    "except e ValueError as e:\n",
    "    print(e)\n",
    "except Exception as e:\n",
    "    print(e)\n",
    "\n",
    "\n"
   ]
  },
  {
   "cell_type": "code",
   "execution_count": null,
   "metadata": {},
   "outputs": [],
   "source": [
    "# Duotas tekstas t=\"Vikipedija yra universali, daugiakalbė\n",
    "# interneto enciklopedija, kaip bendruomeninis projektas, pagal\n",
    "# viki technologiją ir pamatinius principus kuriama daugybės\n",
    "# savanorių bei išlaikoma iš paaukotų lėšų.\"\n",
    "\n",
    "# • Išveskite tekstą su kas antra didžiąja raide.\n",
    "# • Išveskite tekstą su kas n-taja didžiąja raide. n įveda\n",
    "# vartotojas.\n",
    "# • Išveskite tekstą su kas n-tuoju žodžiu, parašytu\n",
    "# didžiosiomis raidėmis. n įveda vartotojas.\n",
    "# • Išveskite tekstą, kurio kiekvienas žodis prasidėtų\n",
    "# didžiąja raide.\n",
    "\n",
    "t=\"Vikipedija yra universali, daugiakalbė  interneto enciklopedija, kaip bendruomeninis projektas, pagal  viki technologiją ir pamatinius principus kuriama daugybės  savanorių bei išlaikoma iš paaukotų lėšų.\""
   ]
  },
  {
   "cell_type": "code",
   "execution_count": 32,
   "metadata": {},
   "outputs": [
    {
     "name": "stdout",
     "output_type": "stream",
     "text": [
      "21.0\n"
     ]
    }
   ],
   "source": [
    "# Parašykite funkciją PVM skaičiavimui. Pateikiami argumentai - kaina be pvm, tarifas. funkcija turi gražinti PVM kiekį.\n",
    "# papildomas punktas - tarifas turi turėti numatytąją reikšmę.\n",
    "\n",
    "def PVMskaic(KainaBePVM, tarifas=0.21):\n",
    "    PVMdalis = KainaBePVM * tarifas  \n",
    "    return PVMdalis  \n",
    "\n",
    "KainaBePVM = 100  \n",
    "tarifas = 0.21 \n",
    "\n",
    "pvm_dalis = PVMskaic(KainaBePVM, tarifas) \n",
    "print(pvm_dalis)  "
   ]
  },
  {
   "cell_type": "code",
   "execution_count": 36,
   "metadata": {},
   "outputs": [
    {
     "name": "stdout",
     "output_type": "stream",
     "text": [
      "16\n",
      "64\n"
     ]
    }
   ],
   "source": [
    "# 1.0.27 Parašyti funkciją, kuri pakeltų skaičių nurodytu laipsniu.\n",
    "# Numatytoji laipsnio vertė - 2. T. y. jei nenurodomas laipsnis, funkcija grąžina atsakymą -\n",
    "# skaičių pakeltą kvadratu.\n",
    "\n",
    "def kvadratas(skaicius, kelimas=2):\n",
    "    return skaicius ** kelimas\n",
    "\n",
    "print(kvadratas(4))\n",
    "print (kvadratas(4,3))\n",
    "\n",
    "\n",
    "\n"
   ]
  },
  {
   "cell_type": "code",
   "execution_count": 45,
   "metadata": {},
   "outputs": [
    {
     "name": "stdout",
     "output_type": "stream",
     "text": [
      "5.0\n",
      "3.0\n"
     ]
    }
   ],
   "source": [
    "# Numatytasis šaknies laipsnis - 2. T. y. jei nenurodytas šaknies laipsnis, funkcija ištraukia\n",
    "# kvadratinę šaknį iš pateikto skaičiaus ir grąžina atsakymą.\n",
    "\n",
    "def saknis(skaic, saknis=2):\n",
    "    return skaic ** (1/saknis)\n",
    "\n",
    "print(saknis(25))\n",
    "print(saknis(27,3))"
   ]
  },
  {
   "cell_type": "code",
   "execution_count": 50,
   "metadata": {},
   "outputs": [
    {
     "ename": "NameError",
     "evalue": "name 'zodziu_kiekis' is not defined",
     "output_type": "error",
     "traceback": [
      "\u001b[1;31m---------------------------------------------------------------------------\u001b[0m",
      "\u001b[1;31mNameError\u001b[0m                                 Traceback (most recent call last)",
      "Cell \u001b[1;32mIn[50], line 13\u001b[0m\n\u001b[0;32m     10\u001b[0m     zodziai \u001b[38;5;241m=\u001b[39m txt\u001b[38;5;241m.\u001b[39msplit()\n\u001b[0;32m     11\u001b[0m     zodziu_kiekis \u001b[38;5;241m=\u001b[39m \u001b[38;5;28mlen\u001b[39m(zodziai)\n\u001b[1;32m---> 13\u001b[0m \u001b[38;5;28mprint\u001b[39m(\u001b[43mzodziu_kiekis\u001b[49m)\n",
      "\u001b[1;31mNameError\u001b[0m: name 'zodziu_kiekis' is not defined"
     ]
    }
   ],
   "source": [
    "# 1.0.29 Parašyti funkciją, kuri suskaičiuotų, kiek pateiktame tekste yra žodžių, ir\n",
    "# grąžintų atsakymą.\n",
    "# Tekstas:\n",
    "# txt=\"Jau saulelė atkopdama budino svietą ir žiemos triūsą pargriaudama\n",
    "# juokės\"\n",
    "\n",
    "txt=\"Jau saulelė atkopdama budino svietą ir žiemos triūsą pargriaudama juokės\"\n",
    "\n",
    "def tekstas():\n",
    "    zodziai = txt.split()\n",
    "    zodziu_kiekis = len(zodziai)\n",
    "    \n",
    "print(zodziu_kiekis)\n",
    "\n",
    "\n"
   ]
  },
  {
   "cell_type": "code",
   "execution_count": 80,
   "metadata": {},
   "outputs": [
    {
     "name": "stdout",
     "output_type": "stream",
     "text": [
      "7\n"
     ]
    }
   ],
   "source": [
    "# 1. Parašyti funkciją, kuri priima sąrašą ir grąžina naują sąrašą su\n",
    "# paskutiniu ir pirmu elementais iš pirmojo sąrašo. PVZ:\n",
    "# [1,2,3,4,5,6,7,8,9] ats: [9,1]\n",
    "# 2. Parašyti funkciją greičiui tikrinti: Funkcija paima argumentą -\n",
    "# automobilio greitį. Jei greitis 50 ar mažesnis, funkcija grąžina\n",
    "# ”Ok”, jei greitis didesnis nei 50 - už kiekvieną 5km/h greičio\n",
    "# viršijimą duodamas baudos taškas (pvz: greitis 70, atsakymas\n",
    "# - 4) Jei surenkami 8 taškai ir daugiau - funkcija ne tik grąžina\n",
    "# taškų sumą, bet ir priduria, jog vairuotojo teisės atimamos.\n",
    "\n",
    "\n",
    "\n",
    "\n",
    "\n",
    "\n",
    "def greicio_patikra (greitis):\n",
    "    if greitis <= 50:\n",
    "        return 'ok'\n",
    "    else:\n",
    "        baudos_taskai = (greitis - 50) // 5\n",
    "        if baudos_taskai >= 8:\n",
    "            return f\"{baudos_taskai} teises atimamos\"\n",
    "        else: \n",
    "            return baudos_taskai\n",
    "                  \n",
    "    \n",
    "print(greicio_patikra(85))\n",
    "\n",
    "\n",
    "\n",
    "\n",
    "\n",
    "\n"
   ]
  },
  {
   "cell_type": "code",
   "execution_count": 85,
   "metadata": {},
   "outputs": [
    {
     "name": "stdout",
     "output_type": "stream",
     "text": [
      "sabas RytaL\n"
     ]
    }
   ],
   "source": [
    "# 3. Parašyti funkciją, kuri priima tekstą ir grąžina atgal tekstą su\n",
    "# apkeistom pirma ir paskutine raidėmis. PVZ: Rytas sytaR.\n",
    "\n",
    "def raidziu_apkeitimas (tekstas):\n",
    "    return tekstas[-1]+tekstas[1:-1]+tekstas[0]\n",
    "\n",
    "tekstas = raidziu_apkeitimas('Labas Rytas')\n",
    "print(tekstas)\n",
    "    "
   ]
  },
  {
   "cell_type": "code",
   "execution_count": null,
   "metadata": {},
   "outputs": [],
   "source": [
    "# 4. Parašyti funkciją, kuri paima ir parašo žodį iš kitos pusės.\n",
    "# PVZ.: Dangus sugnaD.\n",
    "\n",
    "def iskitos(tekst):\n",
    "    return "
   ]
  }
 ],
 "metadata": {
  "kernelspec": {
   "display_name": "Python 3",
   "language": "python",
   "name": "python3"
  },
  "language_info": {
   "codemirror_mode": {
    "name": "ipython",
    "version": 3
   },
   "file_extension": ".py",
   "mimetype": "text/x-python",
   "name": "python",
   "nbconvert_exporter": "python",
   "pygments_lexer": "ipython3",
   "version": "3.12.5"
  }
 },
 "nbformat": 4,
 "nbformat_minor": 2
}
