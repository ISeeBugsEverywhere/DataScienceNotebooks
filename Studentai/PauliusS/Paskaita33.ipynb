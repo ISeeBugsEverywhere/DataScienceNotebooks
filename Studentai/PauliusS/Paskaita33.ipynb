{
 "cells": [
  {
   "cell_type": "code",
   "execution_count": 1,
   "metadata": {},
   "outputs": [],
   "source": [
    "import numpy as np\n",
    "import pandas as pd\n",
    "import matplotlib.pyplot as plt\n",
    "import warnings\n",
    "warnings.filterwarnings('ignore')\n",
    "import seaborn as sns\n",
    "import sqlite3\n",
    "import mysql.connector as cnt\n",
    "import plotly.express as px"
   ]
  },
  {
   "cell_type": "code",
   "execution_count": 2,
   "metadata": {},
   "outputs": [],
   "source": [
    "#prisijungimas prie mySQL, ir kursoriaus sukūrimas\n",
    "DB = cnt.connect(\n",
    "host = '88.223.121.130',\n",
    "user='user',\n",
    "password='slaptazodis',\n",
    "port=3306,\n",
    "database='works'\n",
    ")\n",
    "C=DB.cursor()"
   ]
  },
  {
   "cell_type": "code",
   "execution_count": null,
   "metadata": {},
   "outputs": [],
   "source": [
    "# atrinkti 10 populiariausių gamintojų iš autopliuslt, pateikti tokius stulpelius - gamintojas, \n",
    "# vidutinė kaina, vidutinė rida, vidutinis amžius, modelių kiekis. Gautus rezultatus surašyti į \n",
    "# SQLite duomebazę, pavadinimu \"Testas.db\", lentelės pavadinimas kokį sugalvosite. Viską turi atlikti \n",
    "# python kodas. PANDAS NEGALIMA NAUDOTI, viską atlikite per cursor() objektus.\n",
    "\n",
    "#Testas.db duomenu baze \n"
   ]
  },
  {
   "cell_type": "code",
   "execution_count": 3,
   "metadata": {},
   "outputs": [],
   "source": [
    "sql=\"\"\"\n",
    "SELECT \n",
    "    gamintojas, \n",
    "    ROUND(AVG(REPLACE(REPLACE(price, ' ', ''), 'km', ''))) AS price, \n",
    "    ROUND(AVG(REPLACE(REPLACE(rida, ' ', ''), 'km', ''))) AS rida, \n",
    "    ROUND(AVG(SUBSTRING(pagaminimo_data, 1, 4))) AS metai, \n",
    "    count(modelis) as modelis\n",
    "FROM autopliuslt\n",
    "GROUP BY gamintojas\n",
    "ORDER BY modelis desc\n",
    "LIMIT 10;\"\"\"\n",
    "C.execute(sql)\n",
    "ans = C.fetchall()\n",
    "gamintojas, price, rida, metai, modelis = list(map(list, zip(*ans)))\n",
    "#? = np.transpose(ans)"
   ]
  },
  {
   "cell_type": "code",
   "execution_count": 10,
   "metadata": {},
   "outputs": [
    {
     "name": "stdout",
     "output_type": "stream",
     "text": [
      "[('BMW', 10652.0, 260654.0, 2009.0, 365), ('Volkswagen', 6191.0, 237651.0, 2008.0, 310), ('Audi', 8448.0, 241376.0, 2007.0, 227), ('Mercedes-Benz', 15080.0, 261259.0, 2009.0, 177), ('Toyota', 8713.0, 201755.0, 2009.0, 154), ('Volvo', 7848.0, 278037.0, 2009.0, 138), ('Opel', 4006.0, 226788.0, 2008.0, 134), ('Ford', 5592.0, 225685.0, 2009.0, 110), ('Peugeot', 6748.0, 205881.0, 2011.0, 78), ('Skoda', 10808.0, 181196.0, 2013.0, 74)]\n"
     ]
    }
   ],
   "source": [
    "print(ans)"
   ]
  },
  {
   "cell_type": "code",
   "execution_count": 14,
   "metadata": {},
   "outputs": [],
   "source": [
    "SDB = sqlite3.connect('Duomenys1.db') # jei neegsiztuoja - bus sukurfta nauja sqlite DB\n",
    "Cs = SDB.cursor()\n",
    "\n",
    "sql = '''create table if not exists T100\n",
    "(\n",
    "    gamintojas text not null,\n",
    "    price integer not null,\n",
    "    rida integer not null,\n",
    "    metai integer not null,\n",
    "    modelis text not null\n",
    ")\n",
    "'''\n",
    "Cs.execute(sql)   #sukuriame lentele \n",
    "\n",
    "sql_template = '''insert into T100 values (?,?,?,?,?)'''\n",
    "data = [ans]\n",
    "Cs.executemany(sql_template, ans)\n",
    "\n",
    "# Cs.execute(sql_template, ('T100','F1', 10, 1024))\n",
    "\n",
    "SDB.commit() # commit() būtinas, jei norite įrašyti duoenis į DB\n",
    "\n",
    "SDB.close()"
   ]
  },
  {
   "cell_type": "code",
   "execution_count": null,
   "metadata": {},
   "outputs": [],
   "source": [
    "# JASON formats \n",
    "\n",
    "df = pd.read_json('../DATA/')\n",
    "df.head(1)\n",
    "\n",
    "# data ir laika reikia konvertuoti i datetime objekta \n",
    "\n"
   ]
  },
  {
   "cell_type": "code",
   "execution_count": null,
   "metadata": {},
   "outputs": [],
   "source": [
    "df['dataLaikas'] = pd.to_datetime(df['data:Laikas'])             #pakeicia ir iraso i ta pati stulpeli \n",
    "df.info()              "
   ]
  },
  {
   "cell_type": "code",
   "execution_count": null,
   "metadata": {},
   "outputs": [],
   "source": [
    "# nuskaitykite JSON failą -  2023 metus\n",
    "\n",
    "# konvertuokite dataLaikas stulpelį į datetime\n",
    "#  pd.to_datetime(df[stulpelis])\n",
    "\n",
    "# pridėkite naują stulpelį su paros laikais (rytas, vakaras ...)\n",
    "# pridėkite naują stulplelį, kur būtų tik įvykio valanda\n",
    "# Vizualizuokite, kuriuo paros laiku, kurią valandą įvyksta daugiausiai eismo įvykių\n",
    "\n",
    "# sekantiems klausimams patys sugalvojate tinkamiausias vizualizacijas\n",
    "# Vyrų ar moterų buvo daugiau, sukėlusių eismo įvykį?\n",
    "#  koks vidutinis kaltininkų amžius?\n",
    "# Kokiomis baudų rūšimis buvo nubausti vyrai/moterys (administracinė, baudžiamoji) (teisenosStadijaBusena)"
   ]
  }
 ],
 "metadata": {
  "kernelspec": {
   "display_name": "Python 3",
   "language": "python",
   "name": "python3"
  },
  "language_info": {
   "codemirror_mode": {
    "name": "ipython",
    "version": 3
   },
   "file_extension": ".py",
   "mimetype": "text/x-python",
   "name": "python",
   "nbconvert_exporter": "python",
   "pygments_lexer": "ipython3",
   "version": "3.12.6"
  }
 },
 "nbformat": 4,
 "nbformat_minor": 2
}
