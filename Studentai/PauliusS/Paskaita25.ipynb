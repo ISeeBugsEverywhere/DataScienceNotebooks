{
 "cells": [
  {
   "cell_type": "code",
   "execution_count": 1,
   "metadata": {},
   "outputs": [],
   "source": [
    "import numpy as np\n",
    "import matplotlib.pyplot as plt\n",
    "import mysql.connector as cnt\n",
    "# IMPORTUOTI DARBO PRADZIOJE\n",
    "# nuosavų funkcijų importavimas:\n",
    "from manoFunkcijos import *"
   ]
  },
  {
   "cell_type": "code",
   "execution_count": 2,
   "metadata": {},
   "outputs": [],
   "source": [
    "#prisijungimas prie mySQL, ir kursoriaus sukūrimas\n",
    "DB = cnt.connect(\n",
    "    host = '88.223.121.130',\n",
    "    user='user',\n",
    "    password='slaptazodis',\n",
    "    port=3306,\n",
    "    database='works'\n",
    "    )\n",
    "C=DB.cursor()\n",
    "# IMPORTUOTI DARBO PRADZIOJE"
   ]
  },
  {
   "cell_type": "code",
   "execution_count": 7,
   "metadata": {},
   "outputs": [
    {
     "name": "stdout",
     "output_type": "stream",
     "text": [
      "| 0 |       F        |     22366      |2097.37965841008|\n",
      "| 1 |       M        |     22586      |2633.69374391215|\n"
     ]
    }
   ],
   "source": [
    "#sql užklausos vykdymas per mysql/mariadb kursorių\n",
    "sql=\"\"\"\n",
    "select lytis, count(*),\n",
    "avg(bdu_spalio)\n",
    "from DUS2014N\n",
    "group by lytis;\n",
    "\"\"\"\n",
    "C.execute(sql)\n",
    "ans = C.fetchall()\n",
    "lytis, kiekis, atlyginimas = list(map(list, zip(*ans)))\n",
    "#? = np.transpose(ans)\n",
    "\n",
    "pout(ans)"
   ]
  }
 ],
 "metadata": {
  "kernelspec": {
   "display_name": "Python 3",
   "language": "python",
   "name": "python3"
  },
  "language_info": {
   "codemirror_mode": {
    "name": "ipython",
    "version": 3
   },
   "file_extension": ".py",
   "mimetype": "text/x-python",
   "name": "python",
   "nbconvert_exporter": "python",
   "pygments_lexer": "ipython3",
   "version": "3.12.5"
  }
 },
 "nbformat": 4,
 "nbformat_minor": 2
}
