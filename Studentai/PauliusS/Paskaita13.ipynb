{
 "cells": [
  {
   "cell_type": "code",
   "execution_count": 8,
   "metadata": {},
   "outputs": [
    {
     "name": "stdout",
     "output_type": "stream",
     "text": [
      "2004-05-22\n",
      "2022-05-07 00:00:00\n",
      "2024-07-24 18:15:07\n",
      "18:15:07\n"
     ]
    }
   ],
   "source": [
    "from dateutil import parser\n",
    "\n",
    "t1 = '22/May/04'\n",
    "t2 = 'May/07/22'\n",
    "t3 = '2024-07-24 18:15:07'\n",
    "\n",
    "d1 = parser.parse(t1).date()\n",
    "print(d1)\n",
    "\n",
    "d2 = parser.parse(t2)\n",
    "print(d2)\n",
    "\n",
    "d3 = parser.parse(t3)\n",
    "print(d3)\n",
    "\n",
    "d3 = parser.parse(t3).time()\n",
    "print(d3)"
   ]
  },
  {
   "cell_type": "code",
   "execution_count": 10,
   "metadata": {},
   "outputs": [
    {
     "name": "stdout",
     "output_type": "stream",
     "text": [
      "2024-07-24 18:57:22\n"
     ]
    }
   ],
   "source": [
    "time = '18:57:22'\n",
    "\n",
    "t = parser.parse(time)   #automatiskai prideda sios dienos data\n",
    "print(t)"
   ]
  },
  {
   "cell_type": "code",
   "execution_count": 11,
   "metadata": {},
   "outputs": [
    {
     "name": "stdout",
     "output_type": "stream",
     "text": [
      "[0.2, 0.6, 1.2000000000000002]\n"
     ]
    }
   ],
   "source": [
    "#numpy modulis \n",
    "\n",
    "l = [1,2,3]\n",
    "f = [0.2,0.3,0.4]\n",
    "\n",
    "# c = l*f\n",
    "\n",
    "c = []\n",
    "for li, fi in zip(l,f):\n",
    "    c.append(li*fi)\n",
    "    \n",
    "print(c)"
   ]
  },
  {
   "cell_type": "code",
   "execution_count": 12,
   "metadata": {},
   "outputs": [],
   "source": [
    "import numpy as np"
   ]
  },
  {
   "cell_type": "code",
   "execution_count": 13,
   "metadata": {},
   "outputs": [
    {
     "name": "stdout",
     "output_type": "stream",
     "text": [
      "[0, 1, 2, 3, 4, 5, 6, 7, 8, 9, 10]\n"
     ]
    }
   ],
   "source": [
    "f = []\n",
    "for i in range(11):\n",
    "    f.append(i)\n",
    "print(f)\n",
    "\n",
    "# ats = f * 0.2"
   ]
  },
  {
   "cell_type": "code",
   "execution_count": 14,
   "metadata": {},
   "outputs": [
    {
     "name": "stdout",
     "output_type": "stream",
     "text": [
      "[ 0  1  2  3  4  5  6  7  8  9 10]\n"
     ]
    }
   ],
   "source": [
    "f = np.arange(0,11)  #pvz numpy \n",
    "print(f)  # nupy atvaizduoja nenaudojant kableliu (matome kad pasikeite duomenu tipas)"
   ]
  },
  {
   "cell_type": "code",
   "execution_count": 16,
   "metadata": {},
   "outputs": [
    {
     "data": {
      "text/plain": [
       "array([ 3,  4,  5,  6,  7,  8,  9, 10])"
      ]
     },
     "execution_count": 16,
     "metadata": {},
     "output_type": "execute_result"
    }
   ],
   "source": [
    "f[3:]"
   ]
  },
  {
   "cell_type": "code",
   "execution_count": 17,
   "metadata": {},
   "outputs": [
    {
     "name": "stdout",
     "output_type": "stream",
     "text": [
      "[0.  0.2 0.4 0.6 0.8 1.  1.2 1.4 1.6 1.8 2. ]\n"
     ]
    }
   ],
   "source": [
    "c = f *0.2\n",
    "print(c)"
   ]
  },
  {
   "cell_type": "code",
   "execution_count": 20,
   "metadata": {},
   "outputs": [
    {
     "name": "stdout",
     "output_type": "stream",
     "text": [
      "[0.1 0.4 0.9]\n"
     ]
    }
   ],
   "source": [
    "f = np.asarray([1,2,3])    #skirta konvertuoti sarasus/eilutes i numpy masyvus \n",
    "l = np.asarray([0.1,0.2,0.3])[:len(f)] #operacija apkarpo ilgesni sarasa iki trumpesnio kad butu vienodi \n",
    "               \n",
    "a= f*l   #elementu kiekis privalo buti vienodas\n",
    "print(a)"
   ]
  },
  {
   "cell_type": "code",
   "execution_count": 23,
   "metadata": {},
   "outputs": [
    {
     "data": {
      "text/plain": [
       "array([ 0.,  1.,  2.,  3.,  4.,  5.,  6.,  7.,  8.,  9., 10.])"
      ]
     },
     "execution_count": 23,
     "metadata": {},
     "output_type": "execute_result"
    }
   ],
   "source": [
    "np.linspace(0,10, 11)  #vienas sugeneruoja 50 skaiciu (default nustatymas)\n",
    "\n",
    "\n",
    "\n",
    "\n"
   ]
  },
  {
   "cell_type": "code",
   "execution_count": 24,
   "metadata": {},
   "outputs": [
    {
     "data": {
      "text/plain": [
       "np.float64(2.0)"
      ]
     },
     "execution_count": 24,
     "metadata": {},
     "output_type": "execute_result"
    }
   ],
   "source": [
    "s = [1,2,3]\n",
    "\n",
    "np.mean(s)  "
   ]
  },
  {
   "cell_type": "code",
   "execution_count": 25,
   "metadata": {},
   "outputs": [
    {
     "data": {
      "text/plain": [
       "np.float64(2.0)"
      ]
     },
     "execution_count": 25,
     "metadata": {},
     "output_type": "execute_result"
    }
   ],
   "source": [
    "s = [1,2,3]\n",
    "\n",
    "np.average(s)  "
   ]
  },
  {
   "cell_type": "code",
   "execution_count": 26,
   "metadata": {},
   "outputs": [
    {
     "name": "stdout",
     "output_type": "stream",
     "text": [
      "[0.77726409 0.8505592  0.25164713 0.14097933 0.41055    0.26187512\n",
      " 0.17814987 0.14835873 0.3628632  0.37595985 0.52535914]\n"
     ]
    }
   ],
   "source": [
    "w = np.random.rand(11) #grazina atsitiktinius skaiciu 11 \n",
    "print(w)"
   ]
  },
  {
   "cell_type": "code",
   "execution_count": 28,
   "metadata": {},
   "outputs": [
    {
     "name": "stdout",
     "output_type": "stream",
     "text": [
      "[5 5 3 3 5 4 2 4 8 6 5]\n"
     ]
    }
   ],
   "source": [
    "c = np.random.randint(1,10,11)\n",
    "print(c)   #sugeneruoja atsitiktiniu skaiciu masyva 0-10\n"
   ]
  },
  {
   "cell_type": "code",
   "execution_count": 32,
   "metadata": {},
   "outputs": [
    {
     "name": "stdout",
     "output_type": "stream",
     "text": [
      "4.545454545454546\n",
      "4.545454545454546\n",
      "4.9380453300438\n"
     ]
    }
   ],
   "source": [
    "print(np.average(c))\n",
    "print(np.mean(c))\n",
    "print(np.average(c, weights= w))  #pvz su svoriais \n"
   ]
  },
  {
   "cell_type": "code",
   "execution_count": 40,
   "metadata": {},
   "outputs": [
    {
     "data": {
      "text/plain": [
       "np.float64(5.0)"
      ]
     },
     "execution_count": 40,
     "metadata": {},
     "output_type": "execute_result"
    }
   ],
   "source": [
    "np.median(c)   #mediana \n"
   ]
  },
  {
   "cell_type": "code",
   "execution_count": 44,
   "metadata": {},
   "outputs": [
    {
     "name": "stdout",
     "output_type": "stream",
     "text": [
      "(np.float64(1.0), np.float64(2.0), np.float64(3.0), np.float64(4.0), np.float64(5.0), np.float64(6.0), np.float64(7.0), np.float64(8.0), np.float64(9.0), np.float64(10.0), np.float64(11.0), np.float64(12.0), np.float64(13.0), np.float64(14.0), np.float64(15.0), np.float64(16.0), np.float64(17.0), np.float64(18.0), np.float64(19.0), np.float64(20.0), np.float64(21.0), np.float64(22.0), np.float64(23.0), np.float64(24.0), np.float64(25.0), np.float64(26.0), np.float64(27.0), np.float64(28.0), np.float64(29.0), np.float64(30.0))\n"
     ]
    }
   ],
   "source": [
    "f = '../../DATA/fpc.csv'  #2 kartus einame i virsu per failus \n",
    "ft = np.loadtxt(f, delimiter=',', skiprows=1)  #skiprows atmeta eilutes nuo virsaus pagal skaiciu #delimiter - rodo koks yra skiriamasis zenklas \n",
    "# print(ft)\n",
    "c1,c2,c3,c4,c5 = zip(*ft)\n",
    "print(c1)\n"
   ]
  },
  {
   "cell_type": "code",
   "execution_count": 45,
   "metadata": {},
   "outputs": [
    {
     "name": "stdout",
     "output_type": "stream",
     "text": [
      "[ 1.  2.  3.  4.  5.  6.  7.  8.  9. 10. 11. 12. 13. 14. 15. 16. 17. 18.\n",
      " 19. 20. 21. 22. 23. 24. 25. 26. 27. 28. 29. 30.]\n"
     ]
    }
   ],
   "source": [
    "c1,c2,c3,c4,c5 = np.transpose(ft)  #pakeicia i eilute (numpy formatas islieka)\n",
    "print(c1)"
   ]
  },
  {
   "cell_type": "code",
   "execution_count": 66,
   "metadata": {},
   "outputs": [
    {
     "name": "stdout",
     "output_type": "stream",
     "text": [
      "5.23964388384234\n",
      "[-0.9645133  -0.21510477 -0.90817357 -0.2661279  -0.18706099 -0.10427351\n",
      " -0.25384732  0.15733513  0.21059587  0.10330919  0.02279286 -0.1544075\n",
      " -0.08471563  0.5675087  -0.46670442  0.88842748 -0.42068381 -0.05742485\n",
      "  0.04100096  0.18725263  0.70027375 -0.20595805  0.80601812 -0.60959484\n",
      "  1.01968247  0.29587431  1.77129302 -0.46115595  0.76721917  0.14283317]\n",
      "0.07738901370414458\n",
      "0.08\n"
     ]
    }
   ],
   "source": [
    "#nuskaitykyte Table1.dat, ir suraskite:\n",
    "#  stulpeliuose esančių skaičių vidurkį, medianą\n",
    "# suraskite sandaugą antro stlpelio su trečiuoju, tada gauto atsakymo vidurkį.\n",
    "# Suapvalinkite visus atsakymus iki 2-jų ženklų poo kablelio\n",
    "\n",
    "x = '../../DATA/Table1.dat'  #2 kartus einame i virsu per failus \n",
    "\n",
    "ft = np.loadtxt(x, delimiter=';', skiprows=1)  #skiprows atmeta eilutes nuo virsaus pagal skaiciu #delimiter - rodo koks yra skiriamasis zenklas \n",
    "# print(ft)\n",
    "print(np.average(ft))\n",
    "\n",
    "c1,c2,c3 = np.transpose(ft)\n",
    "d1 = c2 * c3\n",
    "\n",
    "print(d1)\n",
    "\n",
    "vidurkis = np.average(d1)\n",
    "\n",
    "print(vidurkis)\n",
    "\n",
    "# suapvalintas = np.round(vidurkis, 2)\n",
    "\n",
    "print(suapvalintas)\n"
   ]
  },
  {
   "cell_type": "code",
   "execution_count": null,
   "metadata": {},
   "outputs": [],
   "source": [
    "# • Parašyti klasę TxtReader skirtą tekstinio failo iš dviejų\n",
    "# stulpelių nuskaitymui . Esant poreikiui, inicializacijos metu\n",
    "# galima nurodyti stulpelių skirtuką, ar konvertuoti pirmąjį\n",
    "# stulpelį į datą (datetime objektą), kiek eilučių praleisti nuo\n",
    "# failo pradžios. Jei failas turi daugiau nei du stulpelius - galima\n",
    "# nurodyti, kuris stulpelis konkrečiai yra x, o kuris y. Atributai x\n",
    "# ir y - privatūs.\n",
    "# Pridėkite motdus, kurie leistų surasti stulpelio y vidurkį, medianą, maksimumą, minimumą\n",
    "\n",
    "class TxtReader: \n",
    "    def __init__(self, filename, delimiter=','):\n",
    "        self.filename = filename\n",
    "        self.delimiter = delimiter\n",
    "        \n"
   ]
  }
 ],
 "metadata": {
  "kernelspec": {
   "display_name": "Python 3",
   "language": "python",
   "name": "python3"
  },
  "language_info": {
   "codemirror_mode": {
    "name": "ipython",
    "version": 3
   },
   "file_extension": ".py",
   "mimetype": "text/x-python",
   "name": "python",
   "nbconvert_exporter": "python",
   "pygments_lexer": "ipython3",
   "version": "3.12.4"
  }
 },
 "nbformat": 4,
 "nbformat_minor": 2
}
