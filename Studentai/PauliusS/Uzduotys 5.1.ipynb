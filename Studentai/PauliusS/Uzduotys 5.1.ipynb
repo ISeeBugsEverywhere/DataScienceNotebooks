{
 "cells": [
  {
   "cell_type": "code",
   "execution_count": 4,
   "metadata": {},
   "outputs": [
    {
     "name": "stdout",
     "output_type": "stream",
     "text": [
      "<class 'float'>\n",
      "<class 'int'>\n",
      "<class 'str'>\n",
      "<class 'list'>\n"
     ]
    }
   ],
   "source": [
    "# Isveskite kintamaji\n",
    "\n",
    "a = 3.0\n",
    "b = 4\n",
    "c = \"Python\"\n",
    "d = ['o', 3.0]\n",
    "\n",
    "print(type(a))\n",
    "print(type(b))\n",
    "print(type(c))\n",
    "print(type(d))\n",
    "\n",
    "\n",
    "# sprendimas:\n",
    "# a = 3.0\n",
    "# b = 4\n",
    "# c = \"Python\"\n",
    "# d = ['o', 3.0]\n",
    "# print(type(a))\n",
    "# print(type(b))\n",
    "# print(type(c))\n",
    "# print(type(d))"
   ]
  },
  {
   "cell_type": "code",
   "execution_count": 6,
   "metadata": {},
   "outputs": [
    {
     "name": "stdout",
     "output_type": "stream",
     "text": [
      "7.0 -1.0 12.0 0.75 0.0 3.0\n"
     ]
    }
   ],
   "source": [
    "# 1.0.2 Atlikti veiksmus su skaičiais.\n",
    "# Skaičiai: x = 5.0, y = 17.0. Atlikite šiuos veiksmus: sudėtį, atimtį, daugybą, dalybą,\n",
    "# raskite liekaną, dalinant y iš x, liekaną dalinant x iš y.\n",
    "\n",
    "x = 5.0 \n",
    "y = 17.0\n",
    "\n",
    "print(a+b,a-b,a*b,a/b,a//b,a%b)\n",
    "\n",
    "\n",
    "\n",
    "# x = 5.0\n",
    "# y = 17.0\n",
    "# #aritmetiniai veiksmai\n",
    "# print(x+y)\n",
    "# print(x-y)\n",
    "# print(x*y)\n",
    "# print(x/y)\n",
    "# print(x % y)\n",
    "# print(y % x) # liekanų radimas"
   ]
  },
  {
   "cell_type": "code",
   "execution_count": 8,
   "metadata": {},
   "outputs": [
    {
     "name": "stdout",
     "output_type": "stream",
     "text": [
      "13.0 -3.0 40.0 0.625 0.0 5.0\n"
     ]
    }
   ],
   "source": [
    "# .0.3 Atlikti veiksmus su vartotojo įvestais skaičiais a ir b.\n",
    "# Atlikite šiuos veiksmus: sudėtį, atimtį, daugybą, dalybą, raskite liekaną dalinant a i\n",
    "\n",
    "a = float(input('a'))\n",
    "b = float(input('a'))\n",
    "\n",
    "x = 5.0 \n",
    "y = 17.0\n",
    "\n",
    "print(a+b,a-b,a*b,a/b,a//b,a%b)\n",
    "\n",
    "\n",
    "# a = float(input(\"Įveskite a:\"))\n",
    "# b = float(input(\"Įveskite b:\"))\n",
    "# print(a+b)\n",
    "# print(a-b)\n",
    "# print(a*b)\n",
    "# print(a/b)\n",
    "# print(a % b) # liekanos radimas\n"
   ]
  },
  {
   "cell_type": "code",
   "execution_count": 11,
   "metadata": {},
   "outputs": [
    {
     "name": "stdout",
     "output_type": "stream",
     "text": [
      "nelyginis\n"
     ]
    }
   ],
   "source": [
    "# 1.0.4 Parašyti programą, kuri nurodytų, ar vartotojo įvestas skaičius yra lyginis,\n",
    "# ar nelyginis\n",
    "# Hint’as - operatorius %, funkcijos input(), float(). Naudoti if sakinį.\n",
    "\n",
    "a = float(input('skaicius'))\n",
    "\n",
    "if a % 2 == 0:\n",
    "    print('lyginis')\n",
    "else:\n",
    "    print('nelyginis')\n",
    "    \n",
    "    \n",
    "# x = float(input(\"Įveskite skaičių:\"))\n",
    "# if x % 2 == 0:\n",
    "# print(x, 'lyginis')\n",
    "# else:\n",
    "# print(x, 'nelyginis')\n",
    "\n"
   ]
  },
  {
   "cell_type": "code",
   "execution_count": 15,
   "metadata": {},
   "outputs": [
    {
     "name": "stdout",
     "output_type": "stream",
     "text": [
      "25.0\n",
      "aritmetinis vidurkis 6.25\n",
      "25.0 suma 6.25 vidurkis\n"
     ]
    }
   ],
   "source": [
    "# 1.0.5 Paklausti vartotojo skaičių a, b, c ir d.\n",
    "# Suraskite šių skaičių sumą bei aritmetinį vidurkį.\n",
    "\n",
    "a = float(input('skaicius1'))\n",
    "b = float(input('skaicius2'))\n",
    "c = float(input('skaicius3'))\n",
    "d = float(input('skaicius4'))\n",
    "\n",
    "print(a + b + c + d)\n",
    "print('aritmetinis vidurkis', ((a + b + c + d)/4))\n",
    "\n",
    "\n",
    "# a = float(input(\"Įveskite a:\"))\n",
    "# b = float(input(\"Įveskite b:\"))\n",
    "# c = float(input(\"Įveskite c:\"))\n",
    "# d = float(input(\"Įveskite d:\"))\n",
    "# suma = a + b + c + d\n",
    "# a_vid = suma/4\n",
    "# print(suma, \"suma\", a_vid, \"aritm. vidurkis\")\n",
    "\n",
    "# #kitas variantas:\n",
    "s = [a,b,c,d]\n",
    "suma = sum(s)\n",
    "avg = sum(s)/len(s)\n",
    "print(suma, \"suma\", avg, \"vidurkis\")"
   ]
  },
  {
   "cell_type": "code",
   "execution_count": 21,
   "metadata": {},
   "outputs": [
    {
     "name": "stdout",
     "output_type": "stream",
     "text": [
      "7\n",
      "LKDSMFLKDS DSLKFMLDS NNN SJD NFKSJ JSKNFD JSN lkdsmflkds dslkfmlds nnn sjd nfksj jsknfd jsn 45\n"
     ]
    }
   ],
   "source": [
    "# 1.0.6 Išvesti vartotojo įvestą tekstą.\n",
    "# Išvesti šį tekstą didžiosiomis, mažosiomis raidėmis. Išspausdinti, kiek tekste yra raidžių.\n",
    "# Suskaičiuoti, kiek tekste yra žodžių.\n",
    "\n",
    "a = str(input('Iveskite teksta'))\n",
    "zodziai = a.split()\n",
    "\n",
    "print(len(zodziai))\n",
    "print(a.upper(), a.lower(), len(a))\n",
    "\n",
    "# Sprendimas: \n",
    "# txt = input(\"Įveskite kokį nors tekstą:\")\n",
    "# print(txt)\n",
    "# print(txt.upper())\n",
    "# print(txt.lower())\n",
    "# print(len(txt), \"- tiek yra simbolių\")\n",
    "# print(len(txt.split()), \" - tiek yra žodžių\")\n"
   ]
  },
  {
   "cell_type": "code",
   "execution_count": 3,
   "metadata": {},
   "outputs": [
    {
     "name": "stdout",
     "output_type": "stream",
     "text": [
      "FizzBuzz\n"
     ]
    }
   ],
   "source": [
    "# 1.0.7 FizzBuzz programa.\n",
    "# Parašyti FizzBuzz programą - patikrinti įvestą vartotojo skaičių, ar jis yra dalus iš 3-jų, 5-kių\n",
    "# ar abiejų.\n",
    "# • Jei įvestas skaičius dalus iš 3 - spausdinti Fizz;\n",
    "# • Jei įvestas skaičius dalus iš 5 - spausdinti Buzz;\n",
    "# • Jei įvestas skaičius dalus iš 3 ir 5 - spausdinti FizzBuzz.\n",
    "# • Jei nesidalina iš nurodytų skaičių - spausdinti įvestą skaičių.\n",
    "\n",
    "a = int(input('Iveskite sveikaji skaiciu'))\n",
    "\n",
    "\n",
    "if a % 3 == 0 and a % 5 == 0: \n",
    "    print('FizzBuzz')\n",
    "elif a % 3 == 0:\n",
    "    print('Fizz')\n",
    "elif a % 5 == 0:\n",
    "    print('buzz')\n",
    "\n",
    "else:\n",
    "    print(a)\n",
    "\n",
    "\n",
    "# x = float(input(\"X?\"))\n",
    "# if x % 3.0 == 0 and x % 5.0 == 0:\n",
    "# print(\"FizzBuzz\")\n",
    "# elif x % 3.0 == 0:\n",
    "# print(\"Fizz\")\n",
    "# elif x % 5.0 == 0:\n",
    "# print(\"Buzz\")\n",
    "# else:\n",
    "# print(x, \"buvo įvestas\")"
   ]
  },
  {
   "cell_type": "code",
   "execution_count": 41,
   "metadata": {},
   "outputs": [
    {
     "name": "stdout",
     "output_type": "stream",
     "text": [
      "Vilnius  kaimas Kupiškio rajono savivaldybėje, 10 km nuo Palėvenėlės.\n",
      "['Vilnius', 'kaimas', 'Kupiškio', 'rajono', 'savivaldybėje,', '10', 'km', 'nuo', 'Palėvenėlės.']\n",
      "['Vilnius'] ['Palėvenėlės.']\n",
      "bėje,\n",
      "['Vilnius', 'Kupiškio', 'savivaldybėje,', 'km', 'Palėvenėlės.']\n",
      "VILNIUS – KAIMAS KUPIŠKIO RAJONO SAVIVALDYBĖJE, 10 KM NUO PALĖVENĖLĖS.\n",
      "vilnius – kaimas kupiškio rajono savivaldybėje, 10 km nuo palėvenėlės.\n"
     ]
    }
   ],
   "source": [
    "# 1.0.8 Duotas tekstas t = \"Vilnius – kaimas Kupiškio rajono # savivaldybėje, 10 km nuo Palėvenėlės.\"\n",
    "\n",
    "# Užduotis - išvesti pirmą, paskutinį žodžius. Išvesti penktojo žodžio paskutinius 5-kis simbolius. Išvesti tekstą didžiosiomis, mažosiomis raidėmis. Išveskite kas antrą žodį.\n",
    "\n",
    "\n",
    "a = \"Vilnius – kaimas Kupiškio rajono savivaldybėje, 10 km nuo Palėvenėlės.\"\n",
    "t= a.replace('–','')\n",
    "\n",
    "print(t)\n",
    "t2 = t.split()\n",
    "\n",
    "print(t2)\n",
    "print(t2[:1], t2[-1::])\n",
    "\n",
    "penktas_zodis = t2[4]\n",
    "paskutiniai_simboliai = penktas_zodis[-5:]\n",
    "print(paskutiniai_simboliai)\n",
    "print(t2[::2])\n",
    "print(a.upper())\n",
    "print(a.lower())\n"
   ]
  },
  {
   "cell_type": "code",
   "execution_count": 16,
   "metadata": {},
   "outputs": [
    {
     "name": "stdout",
     "output_type": "stream",
     "text": [
      "1 3 5\n"
     ]
    }
   ],
   "source": [
    "#  Paklausti vartotojo teksto, ir išvesti pirmą įvestą žodį, paskutinį, vidurinį.\n",
    "\n",
    "\n",
    "a = str(input('Iveskite teksta'))\n",
    "\n",
    "a_sarasas = a.split()\n",
    "\n",
    "vidurinis_zodis_indeksas = (len(a_sarasas) // 2)+1\n",
    "pirmas_zodis = a_sarasas[0]\n",
    "vidurinis_zodis = a_sarasas[vidurinis_zodis_indeksas]\n",
    "paskutinis_zodis = a_sarasas[-1]\n",
    "\n",
    "print(pirmas_zodis, vidurinis_zodis_indeksas, paskutinis_zodis)"
   ]
  },
  {
   "cell_type": "code",
   "execution_count": 32,
   "metadata": {},
   "outputs": [
    {
     "name": "stdout",
     "output_type": "stream",
     "text": [
      "Sėkmė\n",
      "yra\n",
      "80\n",
      "proc.\n",
      "darbo\n",
      "ir\n",
      "20\n",
      "proc.\n",
      "atsitiktinumo\n",
      "['S', 'Ė', 'K', 'M', 'Ė', ' ', 'Y', 'R', 'A', ' ']\n",
      "['i', 't', 'i', 'k', 't', 'i', 'n', 'u', 'm', 'o']\n",
      "['Ė', ' ', 'Y', 'R', 'A', ' ', '8', '0', ' ', 'P', 'R', 'O', 'C', '.', ' ', 'D', 'A', 'R', 'B', 'O', ' ']\n",
      "50\n"
     ]
    }
   ],
   "source": [
    "# 1.0.10 Duotas tekstas:\n",
    "# txt = 'Sėkmė yra 80 proc. darbo ir 20 proc. atsitiktinumo'\n",
    "# Naudojantis slice operacija, išvesti\n",
    "# a) pirmus 10 simbolių;  OK\n",
    "# b) paskutinius 10 simbolių; OK\n",
    "# c) simbolius nuo 5 iki 25-to.  OK\n",
    "# Gautuosius simbolius paversti į didžiasiąs raides. OK \n",
    "# Parašyti komandą, kuri suskaičiuotų, kiek šiame tekste yra simbolių. OK\n",
    "# Parašyti komandą, kuri suskaičiuotų, kiek šiame tekste yra žodžių.OK \n",
    "# Parašykite ciklą, kuris išvestų duotojo teksto raides (po vieną). OK\n",
    "# Parašykite ciklą, kuris išvestų šio teksto žodžius (po vieną). OK\n",
    "\n",
    "txt = 'Sėkmė yra 80 proc. darbo ir 20 proc. atsitiktinumo'\n",
    "\n",
    "simboliai = list(txt.upper())\n",
    "\n",
    "simboliai2 = list(txt.lower())\n",
    "\n",
    "kiek_simboliu = len(txt)\n",
    "\n",
    "# for raide in txt:\n",
    "#     print(raide)\n",
    "\n",
    "zodziu_sarasas = txt.split()\n",
    "\n",
    "for zodziai in zodziu_sarasas: \n",
    "    print(zodziai)\n",
    "\n",
    "print(simboliai[0:10])\n",
    "print(simboliai2[-10:])\n",
    "print(simboliai[4:25])\n",
    "\n",
    "print(kiek_simboliu)\n"
   ]
  },
  {
   "cell_type": "code",
   "execution_count": 13,
   "metadata": {},
   "outputs": [
    {
     "name": "stdout",
     "output_type": "stream",
     "text": [
      "[1, 2, 3, 4]\n",
      "4\n",
      "2\n",
      "1\n",
      "2\n",
      "3\n",
      "4\n"
     ]
    }
   ],
   "source": [
    "# 1.0.11 Turite tuščią sąrašą l.\n",
    "# Įrašykite į šį sąrašą šiuos skaičius: 1, 2, 3, 4. OK\n",
    "# Suskaičiuokite, kiek yra elementų šiame sąraše. OK\n",
    "# Išspausdinkite 2-jį elementą. OK\n",
    "# Išveskite kiekvieną elementą į ekraną (print statement’as) OK\n",
    "\n",
    "l = []\n",
    "l.extend([1,2,3,4])\n",
    "print(l)\n",
    "\n",
    "print(len(l))\n",
    "print(l[1])\n",
    "\n",
    "for x in l:\n",
    "    print(x)"
   ]
  },
  {
   "cell_type": "code",
   "execution_count": 22,
   "metadata": {},
   "outputs": [
    {
     "name": "stdout",
     "output_type": "stream",
     "text": [
      "[1, 6, 15, 28, 45, 66, 91, 120, 153, 190]\n",
      "[1.0, 0.67, 0.6, 0.57, 0.56, 0.55, 0.54, 0.53, 0.53, 0.53]\n",
      "[1, 4, 9, 16, 25, 36, 49, 64, 81, 100]\n"
     ]
    }
   ],
   "source": [
    "# 1.0.12 Duotas sąrašai a = [1,2,3,4,5,6,7,8,9,10] ir b =\n",
    "# [1,3,5,7,9,11,13,15,17,19]\n",
    "# Naudojant ciklą, sudauginti a su b ir gautąjį sąrašą išspausdinti (išvesti). OK\n",
    "# Naudojant ciklą, parašyti kodą, kuris apskaičiuotų ir išspausdintų nurodytus sąrašus: OK \n",
    "# c = a/b OK\n",
    "# e = a**2 OK \n",
    "\n",
    "\n",
    "a = [1,2,3,4,5,6,7,8,9,10]\n",
    "b =[1,3,5,7,9,11,13,15,17,19]\n",
    "\n",
    "c = [a*b for a, b in zip(a,b)]\n",
    "\n",
    "print(c)\n",
    "\n",
    "d = [round(a/b, 2) for a,b in zip(a,b)]\n",
    "\n",
    "print(d)\n",
    "\n",
    "e = [y**2 for y in a]\n",
    "\n",
    "print(e)"
   ]
  },
  {
   "cell_type": "code",
   "execution_count": 28,
   "metadata": {},
   "outputs": [
    {
     "name": "stdout",
     "output_type": "stream",
     "text": [
      "[10, 10, 60, 140, 275, 390, 525, 680, 855, 1050]\n",
      "[2.0, 0.5, 1.33, 1.75, 2.2, 2.17, 2.14, 2.12, 2.11, 2.1]\n"
     ]
    }
   ],
   "source": [
    "# 1.0.13 Parašyti kodą, kuris sudaugintų standartinius Python’o sąrašus\n",
    "# Sąrašai:\n",
    "# x = [1,2,3,4,5,6,7,8,9,10] y = [2,1,4,7,11,13,15,17,19,21] \n",
    "# a) Iš skai\u0002čiaus, kurį įveda vartotojas OK\n",
    "# b) Vieną su kitu (gauti sąrašą 𝑐, kuris lygus 𝑥 elementus padauginant iš atitinkamų 𝑦 elementų). Naudoti ciklus, nenaudoti numpy. OK\n",
    "# c) Padalinkite x sąrašą iš y\n",
    "\n",
    "x = [1,2,3,4,5,6,7,8,9,10] \n",
    "y = [2,1,4,7,11,13,15,17,19,21] \n",
    "z = int(input('Iveskite skaiciu'))\n",
    "# a)\n",
    "\n",
    "\n",
    "c = [x*y*z for x,y in zip(x,y)]\n",
    "\n",
    "print(c)\n",
    "\n",
    "d = [round(y/x, 2) for y,x in zip(y,x)]\n",
    "\n",
    "print(d)\n"
   ]
  },
  {
   "cell_type": "code",
   "execution_count": 32,
   "metadata": {},
   "outputs": [],
   "source": [
    "# 1.0.14 Parašyti programą, kuri suskaičiuotų, kiek yra lyginių ir nelyginių skaičių\n",
    "# sąraše.\n",
    "# Taip pat suskaičiuotų lyginių ir nelyginių skaičių aritmetinį ir geometrinį vidurkius.\n",
    "# Sąrašas: x = [1,2,3,4,5,7,8,9,11,17,19,21,22,40,42]\n",
    "\n"
   ]
  },
  {
   "cell_type": "code",
   "execution_count": 45,
   "metadata": {},
   "outputs": [
    {
     "name": "stdout",
     "output_type": "stream",
     "text": [
      "0\n",
      "1\n",
      "4\n",
      "9\n",
      "16\n",
      "25\n",
      "36\n",
      "49\n",
      "64\n",
      "81\n",
      "100\n"
     ]
    }
   ],
   "source": [
    "# 1.0.15 Parašykite ciklą, panaudodami range()funkciją\n",
    "# a) ciklas turi išvesti skaičius nuo 15 iki 27, kas vieną.\n",
    "# b) pakeiskite ciklą, kad būtų išvedama nuo 0 iki 10 skaičiai.\n",
    "# c) pakeiskite ciklą, kad būtų išvedami skaičiai, padauginti patys iš savęs (ribos 0-10)\n",
    "\n",
    "# for y in range(15,28):\n",
    "#     print(y)\n",
    "\n",
    "# for y in range(0,11):\n",
    "#     print(y)\n",
    "    \n",
    "for y in range(0,11):\n",
    "    print(y*y)"
   ]
  },
  {
   "cell_type": "code",
   "execution_count": 49,
   "metadata": {},
   "outputs": [
    {
     "name": "stdout",
     "output_type": "stream",
     "text": [
      "[0, 2, 4, 6, 8]\n"
     ]
    }
   ],
   "source": [
    "# 1.0.16 Parašyti kodą, kuris sugeneruotų sąrašą a, kuriame būtų skaičiai nuo 0 iki\n",
    "# 15, kas 1-ną.\n",
    "# Patobulinti kodą taip, kad vartotojas įvestų, kiek elementų turi būti sąraše (sąrašo ilgį), bei\n",
    "# žingsnį - kas kiek turi didėti skaičiai sąraše\n",
    "\n",
    "a = []\n",
    "\n",
    "# for y in range(0,16): \n",
    "#     a.append(y)\n",
    "    \n",
    "# print(a)\n",
    "ilgis = int(input('ilgis'))\n",
    "zingsnis = int(input('zingsnis'))\n",
    "\n",
    "for y in range(0,ilgis*zingsnis, zingsnis):\n",
    "    a.append(y)\n",
    "\n",
    "print(a)\n",
    "\n"
   ]
  },
  {
   "cell_type": "code",
   "execution_count": 57,
   "metadata": {},
   "outputs": [
    {
     "name": "stdout",
     "output_type": "stream",
     "text": [
      "[73, 10, 5, 10, 63, 80, 21, 18]\n",
      "35.0\n"
     ]
    }
   ],
   "source": [
    "# 1.0.17 Atsitiktinai sugeneruoti sąrašą (list) ir suskaičiuoti visų elementų vidurkį\n",
    "# Vartotojas įveda sąrašo ilgį nurodantį skaičių. Pvz, įvestas 10, vadinasi, sąraše turi būti 10\n",
    "# elementų.\n",
    "\n",
    "import random\n",
    "\n",
    "a= []\n",
    "ilgis = int(input('ilgis'))\n",
    "\n",
    "for y in range(0,ilgis):\n",
    "    a.append(random.randint(1,100))\n",
    "    \n",
    "print(a)\n",
    "\n",
    "vidurkis = sum(a) / ilgis \n",
    "\n",
    "print(vidurkis)\n",
    "    \n",
    "    "
   ]
  },
  {
   "cell_type": "code",
   "execution_count": 78,
   "metadata": {},
   "outputs": [
    {
     "name": "stdout",
     "output_type": "stream",
     "text": [
      "Įvedėte: 16 - tai ne 27. Bandykite vėl.\n",
      "Įvedėte: 16 - tai ne 27. Bandykite vėl.\n",
      "Įvedėte: 16 - tai ne 27. Bandykite vėl.\n",
      "Įvedėte: 213 - tai ne 27. Bandykite vėl.\n",
      "Įvedėte 27, ciklas bus nutrauktas.\n"
     ]
    }
   ],
   "source": [
    "# 1.0.18 Parašyti amžiną while ciklą, kuris būtų nutraukiamas vartotojui įvedus\n",
    "# skaičių 27.\n",
    "\n",
    "while True:  # Amžinas ciklas\n",
    "        sk = int(input('Įveskite skaičių: '))  # Prašoma vartotojo įvesti skaičių\n",
    "        if sk == 27:\n",
    "            print('Įvedėte 27, ciklas bus nutrauktas.')  # Pranešimas, kad buvo įvestas 27\n",
    "            break  # Nutraukiama ciklo vykdymas\n",
    "        print('Įvedėte:', sk, '- tai ne 27. Bandykite vėl.')  # Informacija, kad įvestas skaičius nėra 27, bet nepertraukiamas ciklas"
   ]
  },
  {
   "cell_type": "code",
   "execution_count": 80,
   "metadata": {},
   "outputs": [
    {
     "name": "stdout",
     "output_type": "stream",
     "text": [
      "Ivedete ne Q\n",
      "Ivedete ne Q\n",
      "Ivedete ne Q\n",
      "ok\n"
     ]
    }
   ],
   "source": [
    "# 1.0.19 Parašyti “amžiną” while ciklą, kuris būtų nutraukiamas vartotojui įvedant\n",
    "# q simbolį.\n",
    "# Ciklą nutraukti nepriklausomai nuo to, ar buvo įvestas q ar Q simbolis.\n",
    "\n",
    "while True: \n",
    "    sk = input('Iveskite Q')\n",
    "    if sk == 'Q' or sk == 'q':\n",
    "        print('ok')\n",
    "        break\n",
    "    print('Ivedete ne Q')"
   ]
  },
  {
   "cell_type": "code",
   "execution_count": 90,
   "metadata": {},
   "outputs": [
    {
     "name": "stdout",
     "output_type": "stream",
     "text": [
      "['labas', 'rytas', 'šiandien', 'graži', 'diena', 'katė']\n"
     ]
    }
   ],
   "source": [
    "# 1.0.20 Duotas sąrašas a = ['labas', 'rytas', 'šiandien', 'graži',\n",
    "# 'diena', 'šuo', 'katė', 'pelė', 'ir']\n",
    "# Išveskite tik tuos žodžius, kurie yra ilgesni nei 4-ri simboliai ir savyje turi ’a’ simbolį. OK \n",
    "# Pakeiskite kodą taip, kad ir ilgį, ir ieškomą simbolį įvestų vartotojas su input() funkcija.\n",
    "\n",
    "a = ['labas', 'rytas', 'šiandien', 'graži', 'diena', 'šuo', 'katė', 'pelė', 'ir']\n",
    "\n",
    "b = []\n",
    "\n",
    "ilgis = int(input('Iveskite ilgi'))\n",
    "raide = str(input('Iveskite raide'))\n",
    "\n",
    "\n",
    "for x in a:\n",
    "    if len(x) >= ilgis and raide in x:\n",
    "        b.append(x)\n",
    "        \n",
    "print(b)"
   ]
  },
  {
   "cell_type": "code",
   "execution_count": 91,
   "metadata": {},
   "outputs": [
    {
     "name": "stdout",
     "output_type": "stream",
     "text": [
      "Vilnius – Lietuvos sostinė ir didžiXusiXs šXlies miestXs, VilniXus Xpskrities, rXjono ir miesto sXvivXldybės centrXs. Įsikūręs šXlies pietryčiuose, Neries ir Vilnios sXntXkos. Vilnius yrX Xrkivyskupijos centrXs, nuo 1579 m. – universitetinis miestXs.\n"
     ]
    }
   ],
   "source": [
    "# 1.0.21 Duotajame tekste pakeisti nurodytas raides/simbolius vartotojo įvestu\n",
    "# simboliu.\n",
    "# Tekstas - “Vilnius – Lietuvos sostinė ir didžiausias šalies miestas, Vilniaus apskrities, rajono\n",
    "# ir miesto savivaldybės centras. Įsikūręs šalies pietryčiuose, Neries ir Vilnios santakos. Vilnius\n",
    "# yra arkivyskupijos centras, nuo 1579 m. – universitetinis miestas.”\n",
    "# Vartotojas įveda du simbolius - kurio ieškoti, ir kuriuo pakeisti. T.y. jei įvedamas simbolis ’a’,\n",
    "# ir po to simbolis ’?’, tai duotajame tekste visi ’a’ simboliai turi būti pakeisti ’?’ simboliais. OK \n",
    "\n",
    "# Papildymas - vartotojas įveda skaičių, nurodantį, kas kelintas simbolis turi būti pakeistas nauju,\n",
    "# vartotojo įvestu simboliu. Pvz.: jei įvedamas skaičius 3 ir ’?’, tai kas 3-čias simbolis turi būti\n",
    "# pakeistas į ’?’. Pradinis ir naujasis tekstai išvedami į ekraną (terminalą).\n",
    "\n",
    "txt = 'Vilnius – Lietuvos sostinė ir didžiausias šalies miestas, Vilniaus apskrities, rajono ir miesto savivaldybės centras. Įsikūręs šalies pietryčiuose, Neries ir Vilnios santakos. Vilnius yra arkivyskupijos centras, nuo 1579 m. – universitetinis miestas.'\n",
    "\n",
    "a = input('Iveskite ko ieskoti')\n",
    "b = input('Iveskite kuo pakeisti')\n",
    "\n",
    "naujas_tekstas = txt.replace(a,b)\n",
    "\n",
    "print(naujas_tekstas)\n",
    "\n",
    "\n"
   ]
  }
 ],
 "metadata": {
  "kernelspec": {
   "display_name": "Python 3",
   "language": "python",
   "name": "python3"
  },
  "language_info": {
   "codemirror_mode": {
    "name": "ipython",
    "version": 3
   },
   "file_extension": ".py",
   "mimetype": "text/x-python",
   "name": "python",
   "nbconvert_exporter": "python",
   "pygments_lexer": "ipython3",
   "version": "3.12.4"
  }
 },
 "nbformat": 4,
 "nbformat_minor": 2
}
